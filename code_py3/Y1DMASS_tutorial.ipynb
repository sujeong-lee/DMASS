{
 "cells": [
  {
   "cell_type": "markdown",
   "metadata": {
    "tags": []
   },
   "source": [
    "# DMASS tutorial"
   ]
  },
  {
   "cell_type": "markdown",
   "metadata": {},
   "source": [
    "esutil and healpy should be installed "
   ]
  },
  {
   "cell_type": "code",
   "execution_count": 2,
   "metadata": {
    "scrolled": true
   },
   "outputs": [],
   "source": [
    "#Y1 Data\n",
    "\n",
    "import os, sys\n",
    "import esutil\n",
    "import healpy as hp\n",
    "import numpy as np\n",
    "%matplotlib inline\n",
    "\n",
    "%load_ext autoreload\n",
    "%autoreload 2"
   ]
  },
  {
   "cell_type": "code",
   "execution_count": 3,
   "metadata": {},
   "outputs": [
    {
     "name": "stderr",
     "output_type": "stream",
     "text": [
      "WARNING: AstroMLDeprecationWarning: 'decorators' has been moved to 'astroML.utils' and will be removed from the main namespace in the future. [astroML.decorators]\n",
      "/users/PCON0003/warner785/DMASSY3/code_py3/run_DMASS.py:7: UserWarning: matplotlib.pyplot as already been imported, this call will have no effect.\n",
      "  matplotlib.use('Agg')\n"
     ]
    }
   ],
   "source": [
    "# call required functions from modules \n",
    "sys.path.append('code_py3/')\n",
    "from cmass_modules import io\n",
    "from utils import matchCatalogsbyPosition, hpHEALPixelToRaDec, HealPixifyCatalogs, spatialcheck\n",
    "from xd import mixing_color, XD_fitting_X, assignCMASSProb, doVisualization_1d\n",
    "from run_DMASS import priorCut_test"
   ]
  },
  {
   "cell_type": "markdown",
   "metadata": {},
   "source": [
    "# Construct training samples"
   ]
  },
  {
   "cell_type": "markdown",
   "metadata": {},
   "source": [
    "We first need to load Y3 Gold catalogs in the overlapping region (training region) and split them into the cmass sample and non-cmass sample. "
   ]
  },
  {
   "cell_type": "code",
   "execution_count": 3,
   "metadata": {},
   "outputs": [
    {
     "name": "stdout",
     "output_type": "stream",
     "text": [
      "\n",
      "Calling catalogs >>>\n",
      "Y1A1_GOLD_STRIPE82_v2_000006.fits\n",
      "Y1A1_GOLD_STRIPE82_v2_000005.fits\n",
      "Y1A1_GOLD_STRIPE82_v2_000002.fits\n",
      "Y1A1_GOLD_STRIPE82_v2_000008.fits\n",
      "Y1A1_GOLD_STRIPE82_v2_000003.fits\n",
      "Y1A1_GOLD_STRIPE82_v2_000001.fits\n",
      "Y1A1_GOLD_STRIPE82_v2_000007.fits\n",
      "Y1A1_GOLD_STRIPE82_v2_000004.fits\n",
      "reading 1/8 /fs/scratch/PCON0003/warner785/bwarner/gold_cat/GOLD_STRIPE82/Y1A1_GOLD_STRIPE82_v2_000006.fits\n",
      "reading 2/8 /fs/scratch/PCON0003/warner785/bwarner/gold_cat/GOLD_STRIPE82/Y1A1_GOLD_STRIPE82_v2_000005.fits\n",
      "reading 3/8 /fs/scratch/PCON0003/warner785/bwarner/gold_cat/GOLD_STRIPE82/Y1A1_GOLD_STRIPE82_v2_000002.fits\n",
      "reading 4/8 /fs/scratch/PCON0003/warner785/bwarner/gold_cat/GOLD_STRIPE82/Y1A1_GOLD_STRIPE82_v2_000008.fits\n",
      "reading 5/8 /fs/scratch/PCON0003/warner785/bwarner/gold_cat/GOLD_STRIPE82/Y1A1_GOLD_STRIPE82_v2_000003.fits\n",
      "reading 6/8 /fs/scratch/PCON0003/warner785/bwarner/gold_cat/GOLD_STRIPE82/Y1A1_GOLD_STRIPE82_v2_000001.fits\n",
      "reading 7/8 /fs/scratch/PCON0003/warner785/bwarner/gold_cat/GOLD_STRIPE82/Y1A1_GOLD_STRIPE82_v2_000007.fits\n",
      "reading 8/8 /fs/scratch/PCON0003/warner785/bwarner/gold_cat/GOLD_STRIPE82/Y1A1_GOLD_STRIPE82_v2_000004.fits\n",
      "9050359\n"
     ]
    }
   ],
   "source": [
    "#correct catalogs:\n",
    "\n",
    "# calling stripe82 gold catalogue -----------------------------\n",
    "train_path = '/fs/scratch/PCON0003/warner785/bwarner/gold_cat/GOLD_STRIPE82/'\n",
    "path =  train_path\n",
    "train_keyword = 'Y1A1_GOLD_STRIPE82_v2'\n",
    "    \n",
    "columns = ['FLAGS_GOLD', 'FLAGS_BADREGION', 'MAG_MODEL_G', 'MAG_MODEL_R', 'MAG_MODEL_I', 'MAG_MODEL_Z',\\\n",
    "               'MAG_DETMODEL_G', 'MAG_DETMODEL_R', 'MAG_DETMODEL_I', 'MAG_DETMODEL_Z', 'MAGERR_DETMODEL_G',\\\n",
    "               'MAGERR_DETMODEL_R', 'MAGERR_DETMODEL_I', 'MAGERR_DETMODEL_Z', 'MAGERR_MODEL_G', 'MAGERR_MODEL_R',\\\n",
    "               'MAGERR_MODEL_I', 'MAGERR_MODEL_Z', 'MAG_AUTO_G', 'MAG_AUTO_R', 'MAG_AUTO_I', 'MAG_AUTO_Z', 'RA',\\\n",
    "               'DEC', 'COADD_OBJECTS_ID', 'MODEST_CLASS', 'HPIX', 'DESDM_ZP',\\\n",
    "               'SLR_SHIFT_G', 'SLR_SHIFT_R', 'SLR_SHIFT_I', 'SLR_SHIFT_Z', 'SLR_SHIFT_Y', 'EBV']\n",
    "\n",
    "gold_st82 = io.SearchAndCallFits(path = train_path, columns = columns, keyword = train_keyword )\n",
    "gold_st82 = gold_st82[(gold_st82['MODEST_CLASS'] == 1)&(gold_st82['FLAGS_GOLD'] == 0 )]\n",
    "    \n",
    "print(gold_st82.size)"
   ]
  },
  {
   "cell_type": "code",
   "execution_count": 4,
   "metadata": {},
   "outputs": [
    {
     "name": "stdout",
     "output_type": "stream",
     "text": [
      "6768406\n"
     ]
    }
   ],
   "source": [
    "#implement Cuts.keepgoodregion:\n",
    "\n",
    "def keepGoodRegion(des, hpInd = False, balrog=None):\n",
    "    import healpy as hp\n",
    "    import fitsio\n",
    "    # 25 is the faintest object detected by DES\n",
    "    # objects larger than 25 considered as Noise\n",
    "    \n",
    "    path = '/fs/scratch/PCON0003/warner785/bwarner/'\n",
    "    #LSSGoldmask = fitsio.read(path+'Y1LSSmask_v2_il22_seeil4.0_nside4096ring_redlimcut.fits')\n",
    "    #LSSGoldmask = fitsio.read(path+'Y1LSSmask_v1_il22seeil4.04096ring_redlimcut.fits')\n",
    "    LSSGoldmask = fitsio.read(path+'Y1LSSmask_v2_redlimcut_il22_seeil4.0_4096ring.fits')\n",
    "    #Y1LSSmask_v1_il22seeil4.04096ring_redlimcut.fits\n",
    "    #frac_cut = LSSGoldmask['FRAC'] > 0.8\n",
    "    #ind_good_ring = LSSGoldmask['PIXEL'][frac_cut]\n",
    "    ind_good_ring = LSSGoldmask['PIXEL']\n",
    "    \n",
    "    # healpixify the catalog.\n",
    "    nside=4096\n",
    "    # Convert silly ra/dec to silly HP angular coordinates.\n",
    "    phi = des['RA'] * np.pi / 180.0\n",
    "    theta = ( 90.0 - des['DEC'] ) * np.pi/180.0\n",
    "\n",
    "    hpInd = hp.ang2pix(nside,theta,phi,nest=False)\n",
    "    keep = np.in1d(hpInd, ind_good_ring)\n",
    "    des = des[keep]\n",
    "    if hpInd is True:\n",
    "        return ind_good_ring\n",
    "    else:\n",
    "        return des\n",
    "\n",
    "gold_st82 = keepGoodRegion(gold_st82)\n",
    "print(gold_st82.size)"
   ]
  },
  {
   "cell_type": "code",
   "execution_count": 5,
   "metadata": {},
   "outputs": [],
   "source": [
    "######\n",
    "#more cuts on the gold data:\n",
    "#SFD98 True for Y1\n",
    "\n",
    "def RemovingSLRReddening(cat):\n",
    "\n",
    "\n",
    "    if 'SLR_SHIFT_G' not in cat.dtype.names : \n",
    "        import numpy.lib.recfunctions as rf   \n",
    "        #from suchyta_utils.y1a1_slr_shiftmap import SLRShift\n",
    "        from y1a1_slr_shiftmap import SLRShift\n",
    "        zpfile = '/fs/scratch/PCON0003/warner785/bwarner/y1a1_wide_slr_wavg_zpshift2.fit'\n",
    "        slrshift = SLRShift(zpfile, fill_periphery=True)\n",
    "        offsets_g = slrshift.get_zeropoint_offset('g',cat['RA'],cat['DEC'],interpolate=True)\n",
    "        offsets_r = slrshift.get_zeropoint_offset('r',cat['RA'],cat['DEC'],interpolate=True)\n",
    "        offsets_i = slrshift.get_zeropoint_offset('i',cat['RA'],cat['DEC'],interpolate=True)\n",
    "        offsets_z = slrshift.get_zeropoint_offset('z',cat['RA'],cat['DEC'],interpolate=True)\n",
    "\n",
    "        offsets = [ offsets_g, offsets_r, offsets_i, offsets_z  ]\n",
    "        from pandas import DataFrame, concat\n",
    "        nametag = ['SLR_SHIFT_'+f for f in ['G', 'R', 'I', 'Z'] ]\n",
    "        catnametag = cat.dtype.names\n",
    "        try : \n",
    "            offsetsdf = DataFrame( offsets, index = nametag ).T\n",
    "            cat = DataFrame(cat, index = catnametag)\n",
    "            #del cat['index']\n",
    "            print('concatenate two ndarrays')\n",
    "            cat = concat([cat, offsetsdf], axis=1)\n",
    "            print('dataframe to recordarray')\n",
    "            cat = cat.to_records()\n",
    "        \n",
    "        except ValueError :\n",
    "            print(\"Big-endian buffer not supported on little-endian compiler\")\n",
    "            print(\"Doing byte swapping\")\n",
    "            \n",
    "            #offsetsdf = np.array(offsetsdf).byteswap().newbyteorder()\n",
    "            cat = np.array(cat).byteswap().newbyteorder()\n",
    "            offsetsdf = DataFrame( offsets, index = nametag ).T\n",
    "            cat = DataFrame(cat)\n",
    "\n",
    "            print('concatenate two ndarrays')\n",
    "            cat = concat([cat, offsetsdf], axis=1)\n",
    "            print('dataframe to recordarray')\n",
    "            cat = cat.to_records()\n",
    "            cat.dtype.names = [str(x) for x in cat.dtype.names]\n",
    "            \n",
    "            #matched = pd.merge(desData, goldData, on=key, how=how, suffixes = suffixes, left_index=left_index)\n",
    "\n",
    "\n",
    "    print('Removing SLR Shift ')\n",
    "    for mag in ['MAG_MODEL', 'MAG_DETMODEL', 'MAG_AUTO']:\n",
    "        print('  removing SLR from ', mag)\n",
    "        for b in ['G', 'R', 'I', 'Z']:\n",
    "            cat[mag + '_'+b] = cat[mag + '_'+b] - cat['SLR_SHIFT'+ '_'+b]\n",
    "\n",
    "    \"\"\"\n",
    "    cat = rf.append_fields(cat, 'SLR_SHIFT_G', offsets_g)\n",
    "    cat = rf.append_fields(cat, 'SLR_SHIFT_R', offsets_r)\n",
    "    cat = rf.append_fields(cat, 'SLR_SHIFT_I', offsets_i)\n",
    "    cat = rf.append_fields(cat, 'SLR_SHIFT_Z', offsets_z)\n",
    "    \"\"\"\n",
    "    return cat"
   ]
  },
  {
   "cell_type": "code",
   "execution_count": 6,
   "metadata": {},
   "outputs": [],
   "source": [
    "def AddingSFD98Reddening(cat, kind='SPT', coeff = [3.186,2.140,1.569,1.196 ] ):\n",
    "    import numpy.lib.recfunctions as rf\n",
    "    import pandas as pd\n",
    "\n",
    "    band = ['G', 'R', 'I', 'Z']\n",
    "\n",
    "    if 'EBV' not in cat.dtype.names :   \n",
    "     \n",
    "        print('Using SFD98 nside 4096 healpix map')\n",
    "        print('Bands :',  band)\n",
    "        #print 'NSIDE = 4096'\n",
    "        print('coefficients = ', coeff)\n",
    "        nside = 4096\n",
    "\n",
    "        #from suchyta_utils.y1a1_slr_shiftmap import SLRShift\n",
    "        #sfdfile = '/n/des/lee.5922/data/systematic_maps/y1a1_wide_slr_wavg_zpshift2.fit'\n",
    "        mapname = '/fs/scratch/PCON0003/warner785/bwarner/ebv_sfd98_fullres_nside_4096_nest_equatorial.fits'\n",
    "        #mapname = '/n/des/lee.5922/data/systematic_maps/ebv_lenz17_nside_4096_nest_equatorial.fits'\n",
    "        reddening_ring = hp.read_map(mapname)\n",
    "        hpIndices = np.arange(reddening_ring.size)\n",
    "        #goodmask = hp.mask_good(reddening_ring)\n",
    "        #goldmask = \n",
    "\n",
    "        goodIndices = hpIndices #hpIndices[goodmask]\n",
    "        clean_map = reddening_ring #reddening_ring[goodmask]\n",
    "\n",
    "        sysMap = np.zeros((clean_map.size, ), dtype=[('PIXEL', 'i4'), ('EBV', 'f8'), ('RA', 'f8'), ('DEC', 'f8')])\n",
    "        sysMap['PIXEL'] = goodIndices\n",
    "        sysMap['EBV'] = clean_map\n",
    "        \n",
    "        sys_ra, sys_dec = hpHEALPixelToRaDec(goodIndices, nside = nside)\n",
    "        sysMap['RA'] = sys_ra\n",
    "        sysMap['DEC'] = sys_dec\n",
    "\n",
    "        from cmass_modules.Cuts import keepGoodRegion\n",
    "        sysMap = keepGoodRegion(sysMap)\n",
    "        if kind is 'STRIPE82': sysMap = sysMap[sysMap['DEC'] > -30]\n",
    "        elif kind is 'SPT': sysMap = sysMap[sysMap['DEC'] < -30]\n",
    "\n",
    "\n",
    "        cat_hp = cat\n",
    "        hpind = hpRaDecToHEALPixel(cat_hp['RA'], cat_hp['DEC'], nside= 4096, nest= False)\n",
    "        #cat_hp.dtype.names = [str(x) for x in cat_hp.dtype.names]\n",
    "        cat_hp = changeColumnName(cat_hp, name = 'HPIX', rename = 'PIXEL')\n",
    "        cat_hp['PIXEL'] = hpind\n",
    "        \n",
    "        #sfdmap = changeColumnName( sysMap_ge, name = 'SIGNAL', rename = 'SFD98' )\n",
    "\n",
    "\n",
    "        try : \n",
    "\n",
    "            cat_Data = pd.DataFrame(cat_hp)\n",
    "            sfdData = pd.DataFrame(sysMap)\n",
    "            matched = pd.merge(cat_Data, sfdData, on='PIXEL', how='left', \n",
    "                               suffixes = ['','_sys'], left_index=False, right_index=False)\n",
    "        except ValueError :\n",
    "            print(\"Big-endian buffer not supported on little-endian compiler\")\n",
    "            print(\"Doing byte swapping ....\")\n",
    "\n",
    "            cat_hp = np.array(cat_hp).byteswap().newbyteorder()\n",
    "            #sfdmap = np.array(sfdmap).byteswap().newbyteorder()\n",
    "            cat_Data = pd.DataFrame(cat_hp)\n",
    "            sfdData = pd.DataFrame(sysMap)\n",
    "            \n",
    "\n",
    "            #print cat_Data.keys()\n",
    "            #print sfdData.keys()\n",
    "            matched = pd.merge(cat_Data, sfdData, on='PIXEL', how='left', \n",
    "                               suffixes = ['','_sys'], left_index=False, right_index=False)\n",
    "            \n",
    "        matched_arr = matched.to_records(index=False)\n",
    "        matched_arr.dtype.names = [str(x) for x in matched_arr.dtype.names]\n",
    "\n",
    "\n",
    "    else : matched_arr = cat\n",
    "\n",
    "    print('Adding SFD98 Shift ')\n",
    "    print('Bands :',  band)\n",
    "    print('coefficients = ', coeff)\n",
    "\n",
    "    for mag in ['MAG_MODEL', 'MAG_DETMODEL', 'MAG_AUTO']:\n",
    "        print('  Adding SFD to ', mag)\n",
    "        for i,b in enumerate(band):\n",
    "            matched_arr[mag + '_'+b] = matched_arr[mag + '_'+b] - matched_arr['EBV'] * coeff[i]    \n",
    "\n",
    "    return matched_arr"
   ]
  },
  {
   "cell_type": "code",
   "execution_count": 7,
   "metadata": {},
   "outputs": [
    {
     "name": "stdout",
     "output_type": "stream",
     "text": [
      "change reddening corrections from SLR to SFD98\n",
      "Removing SLR Shift \n",
      "  removing SLR from  MAG_MODEL\n",
      "  removing SLR from  MAG_DETMODEL\n",
      "  removing SLR from  MAG_AUTO\n",
      "Adding SFD98 Shift \n",
      "Bands : ['G', 'R', 'I', 'Z']\n",
      "coefficients =  [3.186, 2.14, 1.569, 1.196]\n",
      "  Adding SFD to  MAG_MODEL\n",
      "  Adding SFD to  MAG_DETMODEL\n",
      "  Adding SFD to  MAG_AUTO\n",
      "CHECK input catalog has only galaxies\n",
      "694475\n"
     ]
    }
   ],
   "source": [
    "params={'SFD98':True}\n",
    "if 'SFD98' in params : \n",
    "    if params['SFD98'] : \n",
    "        print('change reddening corrections from SLR to SFD98')\n",
    "        gold_st82 = RemovingSLRReddening(gold_st82)\n",
    "        gold_st82 = AddingSFD98Reddening(gold_st82, kind='STRIPE82')\n",
    "\n",
    "# flags and color cut\n",
    "mask_all = priorCut_test(gold_st82)\n",
    "gold_st82 = gold_st82[mask_all]\n",
    "    \n",
    "print(gold_st82.size)"
   ]
  },
  {
   "cell_type": "markdown",
   "metadata": {},
   "source": [
    "Loading BOSS CMASS photometric sample"
   ]
  },
  {
   "cell_type": "code",
   "execution_count": 8,
   "metadata": {},
   "outputs": [
    {
     "name": "stdout",
     "output_type": "stream",
     "text": [
      "total num of train 258884\n",
      "\n",
      "--------------------------------\n",
      " applying DES veto mask to CMASS\n",
      "--------------------------------\n",
      "num of train_sample after des veto 13046\n"
     ]
    }
   ],
   "source": [
    "#this CMASS instead:\n",
    "\n",
    "import fitsio\n",
    "cmass = esutil.io.read('/fs/scratch/PCON0003/warner785/bwarner/cmass-dr12v4-S-Reid-full.dat.fits')\n",
    "train_sample = esutil.io.read('/fs/scratch/PCON0003/warner785/bwarner/cmass-dr12v4-S-Reid-full.dat.fits')\n",
    "#train_sample = esutil.io.read('/global/cscratch1/sd/bwarner/galaxy_DR11v1_CMASS_South-photoObj.fits.gz')\n",
    "print('total num of train', train_sample.size)\n",
    "print('\\n--------------------------------\\n applying DES veto mask to CMASS\\n--------------------------------')   \n",
    "train_sample = keepGoodRegion(train_sample)\n",
    "\n",
    "#fitsio.write( output_dir+'/cmass_in_st82.fits', train_sample)\n",
    "\n",
    "print('num of train_sample after des veto', train_sample.size)"
   ]
  },
  {
   "cell_type": "markdown",
   "metadata": {},
   "source": [
    "Now we find the CMASS galaxies in the DES Y3 GOLD catalog by matching positions of galaxies.  "
   ]
  },
  {
   "cell_type": "code",
   "execution_count": 9,
   "metadata": {},
   "outputs": [
    {
     "name": "stdout",
     "output_type": "stream",
     "text": [
      "('num of cmass in des side', 12639, '(5%)')\n"
     ]
    }
   ],
   "source": [
    "# find cmass in des_gold side --------------------\n",
    "\n",
    "mg1, mg2, _ = esutil.htm.HTM(10).match(train_sample['RA'], train_sample['DEC'], gold_st82['RA'], \\\n",
    "                                         gold_st82['DEC'],2./3600, maxmatch=1)\n",
    "cmass_mask = np.zeros(gold_st82.size, dtype=bool)\n",
    "cmass_mask[mg2] = 1\n",
    "clean_cmass_data_des, nocmass = gold_st82[cmass_mask], gold_st82[~cmass_mask]\n",
    "\n",
    "\n",
    "print(('num of cmass in des side', clean_cmass_data_des.size, '({:0.0f}%)'.format(clean_cmass_data_des.size*1./cmass.size*100.)))"
   ]
  },
  {
   "cell_type": "code",
   "execution_count": 10,
   "metadata": {},
   "outputs": [],
   "source": [
    "# save the samples. \n",
    "outdir = '../output/test/train_cat/y1/'\n",
    "os.makedirs(outdir, exist_ok=True)\n",
    "#esutil.io.write( outdir+'train_cmass_sample_sdss.fits', clean_cmass_data_sdss, overwrite=True)\n",
    "esutil.io.write( outdir+'train_cmass_sample_des.fits', clean_cmass_data_des, overwrite=True)\n",
    "esutil.io.write( outdir+'train_non_cmass_sample_des.fits', nocmass, overwrite=True)"
   ]
  },
  {
   "cell_type": "code",
   "execution_count": 12,
   "metadata": {},
   "outputs": [
    {
     "data": {
      "image/png": "[encoded data removed]",
      "text/plain": [
       "<Figure size 720x576 with 1 Axes>"
      ]
     },
     "metadata": {
      "needs_background": "light"
     },
     "output_type": "display_data"
    }
   ],
   "source": [
    "# Plotting footprint\n",
    "spatialcheck([cmass, clean_cmass_data_des], \n",
    "             label = ['CMASS', 'CMASS in train'], convert = None, ratag='RA',dectag='DEC')"
   ]
  },
  {
   "cell_type": "code",
   "execution_count": 8,
   "metadata": {},
   "outputs": [],
   "source": [
    "#Healpixels:\n",
    "\n"
   ]
  },
  {
   "cell_type": "markdown",
   "metadata": {},
   "source": [
    "# Footprints of Train and Test regions"
   ]
  },
  {
   "cell_type": "markdown",
   "metadata": {},
   "source": [
    "Codes for computing the areas of the training and test regions. \n",
    "This is not needed to run the DMASS algorithm. Only included this here as you asked before. "
   ]
  },
  {
   "cell_type": "code",
   "execution_count": 13,
   "metadata": {},
   "outputs": [
    {
     "name": "stderr",
     "output_type": "stream",
     "text": [
      "/users/PCON0003/warner785/.conda/envs/DES_env/lib/python3.7/site-packages/healpy/fitsfunc.py:352: UserWarning: If you are not specifying the input dtype and using the default np.float64 dtype of read_map(), please consider that it will change in a future version to None as to keep the same dtype of the input file: please explicitly set the dtype if it is important to you.\n",
      "  \"If you are not specifying the input dtype and using the default \"\n",
      "/users/PCON0003/warner785/.conda/envs/DES_env/lib/python3.7/site-packages/healpy/fitsfunc.py:363: HealpixFitsWarning: No NSIDE in the header file : will use length of array\n",
      "  \"No NSIDE in the header file : will use length of array\", HealpixFitsWarning\n"
     ]
    },
    {
     "ename": "TypeError",
     "evalue": "unsupported format string passed to NoneType.__format__",
     "output_type": "error",
     "traceback": [
      "\u001b[0;31m---------------------------------------------------------------------------\u001b[0m",
      "\u001b[0;31mTypeError\u001b[0m                                 Traceback (most recent call last)",
      "\u001b[0;32m<ipython-input-13-c926d629a379>\u001b[0m in \u001b[0;36m<module>\u001b[0;34m\u001b[0m\n\u001b[1;32m      3\u001b[0m \u001b[0;31m#mapname='/global/homes/b/bwarner/DMASS/code/y3a2_footprint_griz_1exp_v2.0.fits.gz.1'\u001b[0m\u001b[0;34m\u001b[0m\u001b[0;34m\u001b[0m\u001b[0m\n\u001b[1;32m      4\u001b[0m \u001b[0mmapname\u001b[0m \u001b[0;34m=\u001b[0m \u001b[0;34m'/fs/scratch/PCON0003/warner785/bwarner/Y1LSSmask_v2_redlimcut_il22_seeil4.0_4096ring.fits'\u001b[0m\u001b[0;34m\u001b[0m\u001b[0m\n\u001b[0;32m----> 5\u001b[0;31m \u001b[0mhpmap_y1gold\u001b[0m \u001b[0;34m=\u001b[0m \u001b[0mhp\u001b[0m\u001b[0;34m.\u001b[0m\u001b[0mread_map\u001b[0m\u001b[0;34m(\u001b[0m\u001b[0mmapname\u001b[0m\u001b[0;34m)\u001b[0m\u001b[0;34m\u001b[0m\u001b[0m\n\u001b[0m\u001b[1;32m      6\u001b[0m \u001b[0mgoodmask\u001b[0m \u001b[0;34m=\u001b[0m \u001b[0mhp\u001b[0m\u001b[0;34m.\u001b[0m\u001b[0mmask_good\u001b[0m\u001b[0;34m(\u001b[0m\u001b[0mhpmap_y1gold\u001b[0m\u001b[0;34m)\u001b[0m\u001b[0;34m\u001b[0m\u001b[0m\n\u001b[1;32m      7\u001b[0m \u001b[0mhpind_y1gold\u001b[0m \u001b[0;34m=\u001b[0m \u001b[0mnp\u001b[0m\u001b[0;34m.\u001b[0m\u001b[0marange\u001b[0m\u001b[0;34m(\u001b[0m\u001b[0mhpmap_y1gold\u001b[0m\u001b[0;34m.\u001b[0m\u001b[0msize\u001b[0m\u001b[0;34m)\u001b[0m\u001b[0;34m\u001b[0m\u001b[0m\n",
      "\u001b[0;32m~/.conda/envs/DES_env/lib/python3.7/site-packages/healpy/fitsfunc.py\u001b[0m in \u001b[0;36mread_map\u001b[0;34m(filename, field, dtype, nest, partial, hdu, h, verbose, memmap)\u001b[0m\n\u001b[1;32m    366\u001b[0m         \u001b[0mnside\u001b[0m \u001b[0;34m=\u001b[0m \u001b[0mint\u001b[0m\u001b[0;34m(\u001b[0m\u001b[0mnside\u001b[0m\u001b[0;34m)\u001b[0m\u001b[0;34m\u001b[0m\u001b[0m\n\u001b[1;32m    367\u001b[0m     \u001b[0;32mif\u001b[0m \u001b[0mverbose\u001b[0m\u001b[0;34m:\u001b[0m\u001b[0;34m\u001b[0m\u001b[0m\n\u001b[0;32m--> 368\u001b[0;31m         \u001b[0mprint\u001b[0m\u001b[0;34m(\u001b[0m\u001b[0;34m\"NSIDE = {0:d}\"\u001b[0m\u001b[0;34m.\u001b[0m\u001b[0mformat\u001b[0m\u001b[0;34m(\u001b[0m\u001b[0mnside\u001b[0m\u001b[0;34m)\u001b[0m\u001b[0;34m)\u001b[0m\u001b[0;34m\u001b[0m\u001b[0m\n\u001b[0m\u001b[1;32m    369\u001b[0m \u001b[0;34m\u001b[0m\u001b[0m\n\u001b[1;32m    370\u001b[0m     \u001b[0;32mif\u001b[0m \u001b[0;32mnot\u001b[0m \u001b[0mpixelfunc\u001b[0m\u001b[0;34m.\u001b[0m\u001b[0misnsideok\u001b[0m\u001b[0;34m(\u001b[0m\u001b[0mnside\u001b[0m\u001b[0;34m)\u001b[0m\u001b[0;34m:\u001b[0m\u001b[0;34m\u001b[0m\u001b[0m\n",
      "\u001b[0;31mTypeError\u001b[0m: unsupported format string passed to NoneType.__format__"
     ]
    }
   ],
   "source": [
    "# calling Y1 GOLD footprint map\n",
    "# downloaded from https://cdcvs.fnal.gov/redmine/projects/des-y3/wiki/Y3A2_Gold_footprint\n",
    "#mapname='/global/homes/b/bwarner/DMASS/code/y3a2_footprint_griz_1exp_v2.0.fits.gz.1'\n",
    "mapname = '/fs/scratch/PCON0003/warner785/bwarner/Y1LSSmask_v2_redlimcut_il22_seeil4.0_4096ring.fits'\n",
    "hpmap_y1gold = hp.read_map(mapname)\n",
    "goodmask = hp.mask_good(hpmap_y1gold)\n",
    "hpind_y1gold = np.arange(hpmap_y1gold.size)\n",
    "\n",
    "# Generate mask for cmass\n",
    "mask_train = np.in1d(cmass['HEALIndex'],hpind_y1gold[goodmask])\n",
    "\n",
    "# Apply mask to extract cmass in the Y3 gold region\n",
    "# This results 76722 CMASS galaxies\n",
    "train_sample = cmass[mask_train]"
   ]
  },
  {
   "cell_type": "code",
   "execution_count": 14,
   "metadata": {},
   "outputs": [
    {
     "ename": "NameError",
     "evalue": "name 'hpind_y3gold' is not defined",
     "output_type": "error",
     "traceback": [
      "\u001b[0;31m---------------------------------------------------------------------------\u001b[0m",
      "\u001b[0;31mNameError\u001b[0m                                 Traceback (most recent call last)",
      "\u001b[0;32m<ipython-input-14-42d67e16260f>\u001b[0m in \u001b[0;36m<module>\u001b[0;34m\u001b[0m\n\u001b[1;32m      1\u001b[0m \u001b[0;31m# convert hp indices to ra/dec and split into st82 (training) and spt (test) regions.\u001b[0m\u001b[0;34m\u001b[0m\u001b[0;34m\u001b[0m\u001b[0;34m\u001b[0m\u001b[0m\n\u001b[1;32m      2\u001b[0m \u001b[0;31m# Apply a rough cut (DEC > -10.0)\u001b[0m\u001b[0;34m\u001b[0m\u001b[0;34m\u001b[0m\u001b[0;34m\u001b[0m\u001b[0m\n\u001b[0;32m----> 3\u001b[0;31m \u001b[0mra_hpmap_y3gold\u001b[0m\u001b[0;34m,\u001b[0m \u001b[0mdec_hpmap_y3gold\u001b[0m \u001b[0;34m=\u001b[0m \u001b[0mhpHEALPixelToRaDec\u001b[0m\u001b[0;34m(\u001b[0m \u001b[0mhpind_y3gold\u001b[0m\u001b[0;34m[\u001b[0m\u001b[0mgoodmask\u001b[0m\u001b[0;34m]\u001b[0m\u001b[0;34m,\u001b[0m \u001b[0mnside\u001b[0m \u001b[0;34m=\u001b[0m \u001b[0;36m4096\u001b[0m\u001b[0;34m,\u001b[0m \u001b[0mnest\u001b[0m\u001b[0;34m=\u001b[0m\u001b[0;32mFalse\u001b[0m \u001b[0;34m)\u001b[0m\u001b[0;34m\u001b[0m\u001b[0;34m\u001b[0m\u001b[0m\n\u001b[0m\u001b[1;32m      4\u001b[0m \u001b[0mmask_hpmap_y3gold_training\u001b[0m \u001b[0;34m=\u001b[0m \u001b[0mdec_hpmap_y3gold\u001b[0m \u001b[0;34m>\u001b[0m \u001b[0;34m-\u001b[0m\u001b[0;36m10.0\u001b[0m\u001b[0;34m\u001b[0m\u001b[0;34m\u001b[0m\u001b[0m\n\u001b[1;32m      5\u001b[0m \u001b[0mmask_hpmap_y3gold_testing\u001b[0m \u001b[0;34m=\u001b[0m \u001b[0mdec_hpmap_y3gold\u001b[0m \u001b[0;34m<\u001b[0m \u001b[0;34m-\u001b[0m\u001b[0;36m10.0\u001b[0m\u001b[0;34m\u001b[0m\u001b[0;34m\u001b[0m\u001b[0m\n",
      "\u001b[0;31mNameError\u001b[0m: name 'hpind_y3gold' is not defined"
     ]
    }
   ],
   "source": [
    "# convert hp indices to ra/dec and split into st82 (training) and spt (test) regions. \n",
    "# Apply a rough cut (DEC > -10.0)\n",
    "ra_hpmap_y1gold, dec_hpmap_y1gold = hpHEALPixelToRaDec( hpind_y1gold[goodmask], nside = 4096, nest=False )\n",
    "mask_hpmap_y1gold_training = dec_hpmap_y1gold > -10.0\n",
    "mask_hpmap_y1gold_testing = dec_hpmap_y1gold < -10.0\n",
    "\n",
    "pixarea = hp.nside2pixarea( 4096, degrees = True)\n",
    "npix_training =  np.sum(mask_hpmap_y1gold_training)\n",
    "npix_testing = np.sum(mask_hpmap_y1gold_testing)\n",
    "TrainingMapArea = pixarea * npix_training\n",
    "TestingMapArea = pixarea * npix_testing\n",
    "print ('<Survey Area> \\n-This is a rough estimation')\n",
    "print ('training region (dec > -10.0):{:5.0f} sq.deg'.format(TrainingMapArea) )\n",
    "print ('testing region  (dec < -10.0):{:5.0f} sq.deg'.format(TestingMapArea) )"
   ]
  },
  {
   "cell_type": "markdown",
   "metadata": {},
   "source": [
    "# Training the algorithm"
   ]
  },
  {
   "cell_type": "code",
   "execution_count": 11,
   "metadata": {},
   "outputs": [],
   "source": [
    "# call training samples\n",
    "outdir = '../output/test/train_cat/y1/'\n",
    "clean_cmass_data_des = esutil.io.read( outdir+'train_cmass_sample_des.fits')\n",
    "nocmass = esutil.io.read( outdir+'train_non_cmass_sample_des.fits')"
   ]
  },
  {
   "cell_type": "code",
   "execution_count": 12,
   "metadata": {},
   "outputs": [
    {
     "name": "stdout",
     "output_type": "stream",
     "text": [
      "random sampling... \n",
      "num of randomly sampled cmass  100000\n",
      "num of randomly sampled non-cmass  681836\n",
      "cmass_fraction (cmass/non-cmass):  0.01819935922819396\n"
     ]
    }
   ],
   "source": [
    "# For a fast run, we draw a random sample to reduce the sample size. \n",
    "# Larger sample tends to make a better model but the sample size is not always proportional to the accuracy of the model. \n",
    "\n",
    "# Put sample size you want \n",
    "\n",
    "n_sample = int(clean_cmass_data_des.size)  # train cmass sample size\n",
    "n_sample_non = int(nocmass.size/20)          # train non-cmass sample size\n",
    "\n",
    "#n_sample =  int(clean_cmass_data_des.size)  # train cmass sample size\n",
    "#n_sample_non = int(nocmass.size/20)          # train non-cmass sample size\n",
    "\n",
    "print('random sampling... ')\n",
    "sampling_ind = np.random.choice(np.arange(clean_cmass_data_des.size), size = n_sample)\n",
    "clean_cmass_data_des_sub = clean_cmass_data_des[sampling_ind]\n",
    "print('num of randomly sampled cmass ', clean_cmass_data_des_sub.size)\n",
    "random_sampling_ind = np.random.choice(np.arange(nocmass.size), size = n_sample_non )\n",
    "nocmass_sub = nocmass[random_sampling_ind]\n",
    "print('num of randomly sampled non-cmass ', nocmass_sub.size)\n",
    "\n",
    "# The fraction of CMASS galaxies in the training region.\n",
    "# This number is required to put a prior for the Bayesian statistics \n",
    "cmass_fraction = clean_cmass_data_des.size *1./gold_st82.size\n",
    "print('cmass_fraction (cmass/non-cmass): ', cmass_fraction)\n",
    "outdir = '../output/test/fitting/'\n",
    "os.makedirs(outdir, exist_ok=True)\n",
    "f = open(outdir+'cmassfrac', 'w')\n",
    "f.write('{0:.10f}'.format(cmass_fraction))\n",
    "f.close()"
   ]
  },
  {
   "cell_type": "markdown",
   "metadata": {},
   "source": [
    "### Model Fitting"
   ]
  },
  {
   "cell_type": "code",
   "execution_count": 13,
   "metadata": {},
   "outputs": [],
   "source": [
    "# number of gaussian mixtures\n",
    "# Set None for a initial run. The algorithm automatically finds an optimal number\n",
    "n_cmass = None    # for cmass\n",
    "n_no = None       # for non-cmass \n",
    "\n",
    "# number of XD iteration. \n",
    "# I set these numbers small for a fast run but generally\n",
    "# should be run until the XD algorithm converges (more than 10000 iterations)\n",
    "n_iter_cmass = 10  \n",
    "n_iter_no = 1\n",
    "# tolerance\n",
    "tol = 1E-5\n",
    "\n",
    "# Fitted parameters and covariance will be stored as a pickle\n",
    "outdir = '../output/test/fitting/'\n",
    "os.makedirs(outdir, exist_ok=True)\n",
    "cmass_pickle = outdir+'gauss_cmass.pkl'\n",
    "no_pickle = outdir+'gauss_no.pkl'"
   ]
  },
  {
   "cell_type": "code",
   "execution_count": 14,
   "metadata": {},
   "outputs": [],
   "source": [
    "# Magnitudes and corresponding errors you want to use to train the algorithm. \n",
    "# `mixing_color` automatically constructs [mag g, mag r, color (g-r), color (r-i)] and \n",
    "# its 4x4 covariance matrix from the input magnitudes. \n",
    "# I simply put `SOF_CM_MAG_CORRECTED` magnitudes for now. \n",
    "# If you want to use different combinations of mags and colors, \n",
    "# modify `mixing_color` or build your own function. \n",
    "mag = ['MAG_DETMODEL', 'MAG_DETMODEL' ]\n",
    "err = ['MAGERR_DETMODEL', 'MAGERR_DETMODEL']\n",
    "filter = ['G', 'R', 'I']\n",
    "\n",
    "# This generates four columns of cmass training sample. order : mag r, mag i, (g-r), (r-i)\n",
    "X_cmass_true, X_cmass_cov = mixing_color(clean_cmass_data_des_sub, \n",
    "                mag = mag, err=err, filter=filter, \n",
    "                no_zband = True )\n",
    "\n",
    "# This generates four columns of non-cmass training sample. order : mag r, mag i, (g-r), (r-i)\n",
    "X_no_true, X_no_cov = mixing_color(nocmass_sub, \n",
    "                mag = mag, err=err, filter=filter, \n",
    "                no_zband = True )"
   ]
  },
  {
   "cell_type": "code",
   "execution_count": 15,
   "metadata": {},
   "outputs": [
    {
     "name": "stdout",
     "output_type": "stream",
     "text": [
      "@pickle_results: computing results and saving to '../output/test/fitting/gauss_cmass.pkl'\n",
      "@pickle_results: computing results and saving to '../output/test/fitting/gauss_cmass.pkl.n_cluster'\n",
      "Finding optimal number of cluster : 100 % \n",
      "best fit converged: True  n_components =  12\n"
     ]
    },
    {
     "name": "stderr",
     "output_type": "stream",
     "text": [
      "/users/PCON0003/warner785/.conda/envs/DES_env/lib/python3.7/site-packages/sklearn/mixture/base.py:273: ConvergenceWarning: Initialization 1 did not converge. Try different init parameters, or increase max_iter, tol or check for degenerate data.\n",
      "  % (init + 1), ConvergenceWarning)\n"
     ]
    },
    {
     "name": "stdout",
     "output_type": "stream",
     "text": [
      "n components = 12\n",
      "tolerance = 1e-05\n",
      "1: log(L) = 375057.7833\n",
      "    (8.8 sec)\n",
      "2: log(L) = 375434.1995\n",
      "    (9.1 sec)\n",
      "3: log(L) = 375676.7109\n",
      "    (9.4 sec)\n",
      "4: log(L) = 375864.9164\n",
      "    (9.6 sec)\n",
      "5: log(L) = 376024.4242\n",
      "    (9.1 sec)\n",
      "6: log(L) = 376165.9649\n",
      "    (8.9 sec)\n",
      "7: log(L) = 376294.8699\n",
      "    (9.6 sec)\n",
      "8: log(L) = 376414.1145\n",
      "    (9.5 sec)\n",
      "9: log(L) = 376525.5084\n",
      "    (9.6 sec)\n",
      "10: log(L) = 376630.2345\n",
      "    (9.9 sec)\n",
      "elapsed time: 1.49 min,  total iteration 9                                 \n",
      "@pickle_results: computing results and saving to '../output/test/fitting/gauss_no.pkl'\n",
      "@pickle_results: computing results and saving to '../output/test/fitting/gauss_no.pkl.n_cluster'\n",
      "Finding optimal number of cluster : 100 % \n",
      "best fit converged: True  n_components =  40\n"
     ]
    },
    {
     "name": "stderr",
     "output_type": "stream",
     "text": [
      "/users/PCON0003/warner785/.conda/envs/DES_env/lib/python3.7/site-packages/sklearn/mixture/base.py:273: ConvergenceWarning: Initialization 1 did not converge. Try different init parameters, or increase max_iter, tol or check for degenerate data.\n",
      "  % (init + 1), ConvergenceWarning)\n"
     ]
    },
    {
     "name": "stdout",
     "output_type": "stream",
     "text": [
      "n components = 40\n",
      "tolerance = 1e-05\n",
      "1: log(L) = 1523927.903\n",
      "    (1.9e+02 sec)\n",
      "elapsed time: 0.00 min,  total iteration 0                                 \n"
     ]
    }
   ],
   "source": [
    "# Run XD Fitting. This will take a while \n",
    "clf_cmass = XD_fitting_X( X_cmass_true, X_cmass_cov, pickleFileName = cmass_pickle, \n",
    "                       n_cl = n_cmass, n_iter = n_iter_cmass, tol = tol, \n",
    "                       verbose = True, init_params= None)                 \n",
    "clf_no = XD_fitting_X( X_no_true, X_no_cov, pickleFileName = no_pickle, \n",
    "                    n_cl = n_no, n_iter = n_iter_no, tol = tol, \n",
    "                    verbose = True, init_params = None)"
   ]
  },
  {
   "cell_type": "markdown",
   "metadata": {},
   "source": [
    "# Validation of the fitted XD model"
   ]
  },
  {
   "cell_type": "code",
   "execution_count": 4,
   "metadata": {},
   "outputs": [],
   "source": [
    "# call saved pickles if you empty memory. Otherwise skip it \n",
    "outdir = '../output/test/fitting/'\n",
    "cmass_pickle = outdir+'gauss_cmass.pkl'\n",
    "no_pickle = outdir+'gauss_no.pkl'\n",
    "clf_cmass = XD_fitting_X( None, None, pickleFileName = cmass_pickle)               \n",
    "clf_no = XD_fitting_X( None, None, pickleFileName = no_pickle)"
   ]
  },
  {
   "cell_type": "code",
   "execution_count": 5,
   "metadata": {},
   "outputs": [],
   "source": [
    "# We will generate a random sample from the fitted model and compare the resulting samples with the training sample\n",
    "# If the model is correct, the random sample should match with the training sample\n",
    "X_sample_cmass = clf_cmass.sample(200000)  # cmass model\n",
    "X_sample_no = clf_no.sample(200000)        # non-cmass model"
   ]
  },
  {
   "cell_type": "code",
   "execution_count": 6,
   "metadata": {},
   "outputs": [
    {
     "ename": "NameError",
     "evalue": "name 'X_cmass_true' is not defined",
     "output_type": "error",
     "traceback": [
      "\u001b[0;31m---------------------------------------------------------------------------\u001b[0m",
      "\u001b[0;31mNameError\u001b[0m                                 Traceback (most recent call last)",
      "\u001b[0;32m<ipython-input-6-c7f57a626e96>\u001b[0m in \u001b[0;36m<module>\u001b[0;34m\u001b[0m\n\u001b[1;32m      1\u001b[0m \u001b[0;31m# Comparison. train vs. randoms from the fitted gaussian mixture model\u001b[0m\u001b[0;34m\u001b[0m\u001b[0;34m\u001b[0m\u001b[0m\n\u001b[0;32m----> 2\u001b[0;31m doVisualization_1d( data=[X_cmass_true, X_sample_cmass], \n\u001b[0m\u001b[1;32m      3\u001b[0m                    \u001b[0mlabels\u001b[0m \u001b[0;34m=\u001b[0m \u001b[0;34m[\u001b[0m\u001b[0;34m'mag r'\u001b[0m\u001b[0;34m,\u001b[0m \u001b[0;34m'mag i'\u001b[0m\u001b[0;34m,\u001b[0m \u001b[0;34m'g-r'\u001b[0m\u001b[0;34m,\u001b[0m \u001b[0;34m'r-i'\u001b[0m\u001b[0;34m]\u001b[0m\u001b[0;34m,\u001b[0m\u001b[0;34m\u001b[0m\u001b[0m\n\u001b[1;32m      4\u001b[0m                    \u001b[0mranges\u001b[0m \u001b[0;34m=\u001b[0m \u001b[0;32mNone\u001b[0m\u001b[0;34m,\u001b[0m\u001b[0;34m\u001b[0m\u001b[0m\n\u001b[1;32m      5\u001b[0m                    \u001b[0mname\u001b[0m \u001b[0;34m=\u001b[0m \u001b[0;34m[\u001b[0m\u001b[0;34m'train sample'\u001b[0m\u001b[0;34m,\u001b[0m \u001b[0;34m'model sample'\u001b[0m\u001b[0;34m]\u001b[0m\u001b[0;34m,\u001b[0m\u001b[0;34m\u001b[0m\u001b[0m\n",
      "\u001b[0;31mNameError\u001b[0m: name 'X_cmass_true' is not defined"
     ]
    }
   ],
   "source": [
    "# Comparison. train vs. randoms from the fitted gaussian mixture model\n",
    "doVisualization_1d( data=[X_cmass_true, X_sample_cmass], \n",
    "                   labels = ['mag r', 'mag i', 'g-r', 'r-i'], \n",
    "                   ranges = None, \n",
    "                   name = ['train sample', 'model sample'], \n",
    "                   weight = [None,None], \n",
    "                   nbins=100)"
   ]
  },
  {
   "cell_type": "code",
   "execution_count": 79,
   "metadata": {},
   "outputs": [
    {
     "name": "stdout",
     "output_type": "stream",
     "text": [
      "Using central 100% to set range.\n"
     ]
    },
    {
     "data": {
      "image/png": "[encoded data removed]",
      "text/plain": [
       "<Figure size 1152x288 with 4 Axes>"
      ]
     },
     "metadata": {
      "needs_background": "light"
     },
     "output_type": "display_data"
    }
   ],
   "source": [
    "# Comparison. train vs. randoms for non-cmass\n",
    "doVisualization_1d( data=[X_no_true, X_sample_no], \n",
    "                   labels = ['mag r', 'mag i', 'g-r', 'r-i'], \n",
    "                   ranges = None, \n",
    "                   name = ['train sample', 'model sample'], \n",
    "                   weight = [None,None], \n",
    "                   nbins=100)"
   ]
  },
  {
   "cell_type": "markdown",
   "metadata": {},
   "source": [
    "If model samples agree with the training samples, we will use the fitted model to assign a CMASS membership probability to the Y3 Gold galaxies. First, try with the training region. As the model is trained with the training region, the assigned probability should reflect the color distributions of the taining galaxies. "
   ]
  },
  {
   "cell_type": "code",
   "execution_count": 9,
   "metadata": {},
   "outputs": [
    {
     "name": "stdout",
     "output_type": "stream",
     "text": [
      "calculate loglikelihood gaussian with multiprocessing module\n",
      "multiprocessing 100 % \n"
     ]
    }
   ],
   "source": [
    "###FIGURE 3:\n",
    "\n",
    "# For a fast run, we use a subset of y3 gold selected randomly.  \n",
    "# Generate random indices, sample size 100,000\n",
    "\n",
    "#rand_ind = np.random.choice(np.arange(gold_st82.size), size = 100000)\n",
    "gold_st82_sub = fitsio.read('../output/test/train_cat/train_cmass_sample_des.fits')\n",
    "#changed to cmass-matched in DES cat in st82\n",
    "\n",
    "# Assigning CMASS probabilities to Gold Y3 in Stripe 82.\n",
    "mag = ['MAG_DETMODEL', 'MAG_DETMODEL'] \n",
    "err = ['MAGERR_DETMODEL', 'MAGERR_DETMODEL'] \n",
    "filter = ['G', 'R', 'I']\n",
    "gold_st82_test = assignCMASSProb(gold_st82_sub, clf_cmass, clf_no, \n",
    "                     cmass_fraction = 0.006678648677551668\n",
    ", \n",
    "                     mag=mag, err=err, filter=filter )"
   ]
  },
  {
   "cell_type": "code",
   "execution_count": 30,
   "metadata": {},
   "outputs": [
    {
     "name": "stdout",
     "output_type": "stream",
     "text": [
      "303\n",
      "('COADD_OBJECT_ID', 'RA', 'DEC', 'HPIX_4096', 'SOF_CM_MAG_ERR_G', 'SOF_CM_MAG_ERR_R', 'SOF_CM_MAG_ERR_I', 'SOF_CM_MAG_ERR_Z', 'SOF_CM_MAG_CORRECTED_G', 'SOF_CM_MAG_CORRECTED_R', 'SOF_CM_MAG_CORRECTED_I', 'SOF_CM_MAG_CORRECTED_Z', 'CMASS_PROB')\n",
      "[0.   0.05 0.1  0.15 0.2  0.25 0.3  0.35 0.4  0.45 0.5  0.55 0.6  0.65\n",
      " 0.7  0.75 0.8  0.85 0.9  0.95 1.  ]\n"
     ]
    }
   ],
   "source": [
    "print(gold_st82_test.size)\n",
    "print(gold_st82_test.dtype.names)\n",
    "#np.histogram(gold_st82_test['CMASS_PROB'], bins=20)\n",
    "pbin = np.linspace(0, 1, 21)\n",
    "pcenter = pbin[:-1] + 0.025\n",
    "N, _ = np.histogram( gold_st82_test['CMASS_PROB'], bins=pbin)\n",
    "print(pbin)"
   ]
  },
  {
   "cell_type": "code",
   "execution_count": 33,
   "metadata": {},
   "outputs": [
    {
     "name": "stdout",
     "output_type": "stream",
     "text": [
      "20\n",
      "21\n",
      "[0.10231023 0.04950495 0.04620462 0.05610561 0.05280528 0.06270627\n",
      " 0.03630363 0.02970297 0.0330033  0.03960396 0.04290429 0.03630363\n",
      " 0.05940594 0.05280528 0.03630363 0.02640264 0.04950495 0.0660066\n",
      " 0.05280528 0.06930693]\n"
     ]
    },
    {
     "data": {
      "image/png": "[encoded data removed]",
      "text/plain": [
       "<Figure size 381.6x360 with 1 Axes>"
      ]
     },
     "metadata": {
      "needs_background": "light"
     },
     "output_type": "display_data"
    }
   ],
   "source": [
    "import matplotlib.pyplot as plt\n",
    "#pbin, frac, fracerr = np.genfromtxt('../paper_figure/model_probability.txt', unpack=True)\n",
    "\n",
    "frac = N/gold_st82_test.size\n",
    "fracerr = np.zeros(20)\n",
    "\n",
    "print(N.size)\n",
    "print(pbin.size)\n",
    "print(frac)\n",
    "\n",
    "fig, ax = plt.subplots(figsize = (5.3,5))\n",
    "\n",
    "ax.bar(pcenter, frac , 5, edgecolor='w',\n",
    "        color='grey', yerr = fracerr, \n",
    "        alpha = 0.5, label = 'test', error_kw = {'elinewidth':0.01, 'capsize':2.4} )\n",
    "\n",
    "ax.plot([0,1], [0,1], ls='--', color='grey')\n",
    "ax.set_ylim(0,1)\n",
    "ax.set_xlim(0,1)\n",
    "\n",
    "ax.set_xlabel(r'{\\rm Model Probability (\\%)}', fontsize = 20)\n",
    "ax.set_ylabel(r'$f_{ {\\rm CMASS},~i}~(\\%)$', fontsize = 20)\n",
    "ax.tick_params(axis='both', labelsize = 15)\n",
    "#ax.legend(loc='best', fontsize=15)\n",
    "fig.tight_layout()\n",
    "#fig.savefig('../paper_figure/model_probability.pdf')"
   ]
  },
  {
   "cell_type": "markdown",
   "metadata": {},
   "source": [
    "The probability is saved into the `CMASS_PROB` column. `y3 gold` galaxies should be weighted with this column to be a DMASS galaxy. Now we will compare the color/magnitude distributions of the weighted `y3 gold` galaxies (DMASS) with the training sample"
   ]
  },
  {
   "cell_type": "code",
   "execution_count": 81,
   "metadata": {},
   "outputs": [],
   "source": [
    "# Generate Four columns of data : mag r, mag i, (g-r), (r-i)\n",
    "X_dmass_st82, Xcov = mixing_color(gold_st82_test, \n",
    "                mag = ['MAG_DETMODEL', 'MAG_DETMODEL'], \n",
    "                err = ['MAGERR_DETMODEL', 'MAGERR_DETMODEL'], \n",
    "                filter = ['G', 'R', 'I'],\n",
    "                no_zband = True  )"
   ]
  },
  {
   "cell_type": "code",
   "execution_count": 82,
   "metadata": {},
   "outputs": [
    {
     "name": "stdout",
     "output_type": "stream",
     "text": [
      "Using central 100% to set range.\n"
     ]
    },
    {
     "data": {
      "image/png": "[encoded data removed]",
      "text/plain": [
       "<Figure size 1152x288 with 4 Axes>"
      ]
     },
     "metadata": {
      "needs_background": "light"
     },
     "output_type": "display_data"
    }
   ],
   "source": [
    "# Comparison plot for the training sample (cmass) vs. dmass sample selected in the training region\n",
    "# DMASS sample should be weighted by 'CMASS_PROB' column when plotting\n",
    "weight_dmass = gold_st82_test['CMASS_PROB']\n",
    "doVisualization_1d( data=[X_cmass_true, X_dmass_st82], \n",
    "                   weight = [None, weight_dmass], # put DMASS weight here \n",
    "                   labels = ['mag r', 'mag i', 'g-r', 'r-i'], \n",
    "                   ranges = None, \n",
    "                   name = ['train sample', 'dmass in the training region'], \n",
    "                   nbins=100)"
   ]
  },
  {
   "cell_type": "markdown",
   "metadata": {},
   "source": [
    "# Apply the fitted model to galaxies outside the training region"
   ]
  },
  {
   "cell_type": "markdown",
   "metadata": {},
   "source": [
    "If the fitted model works well in the training region, we will apply the model to `y3 gold` galaxies outside the training region. We call a small patch of `y3 gold` at `-40 < dec < -30`, `10 < ra < 20`. "
   ]
  },
  {
   "cell_type": "code",
   "execution_count": 83,
   "metadata": {},
   "outputs": [],
   "source": [
    "# empty memory \n",
    "gold_st82 = None\n",
    "gold_st82_sub = None\n",
    "nocmass = None"
   ]
  },
  {
   "cell_type": "code",
   "execution_count": 84,
   "metadata": {},
   "outputs": [
    {
     "name": "stdout",
     "output_type": "stream",
     "text": [
      "\n",
      "Calling catalogs >>>\n",
      "Y3_GOLD_2_0_SPT_ra10_20_decm40_m30_000004.fits\n",
      "Y3_GOLD_2_0_SPT_ra10_20_decm40_m30_000006.fits\n",
      "Y3_GOLD_2_0_SPT_ra10_20_decm40_m30_000007.fits\n",
      "Y3_GOLD_2_0_SPT_ra10_20_decm40_m30_000012.fits\n",
      "Y3_GOLD_2_0_SPT_ra10_20_decm40_m30_000008.fits\n",
      "Y3_GOLD_2_0_SPT_ra10_20_decm40_m30_000013.fits\n",
      "Y3_GOLD_2_0_SPT_ra10_20_decm40_m30_000015.fits\n",
      "Y3_GOLD_2_0_SPT_ra10_20_decm40_m30_000003.fits\n",
      "Y3_GOLD_2_0_SPT_ra10_20_decm40_m30_000016.fits\n",
      "Y3_GOLD_2_0_SPT_ra10_20_decm40_m30_000011.fits\n",
      "Y3_GOLD_2_0_SPT_ra10_20_decm40_m30_000009.fits\n",
      "Y3_GOLD_2_0_SPT_ra10_20_decm40_m30_000010.fits\n",
      "Y3_GOLD_2_0_SPT_ra10_20_decm40_m30_000014.fits\n",
      "Y3_GOLD_2_0_SPT_ra10_20_decm40_m30_000002.fits\n",
      "Y3_GOLD_2_0_SPT_ra10_20_decm40_m30_000017.fits\n",
      "Y3_GOLD_2_0_SPT_ra10_20_decm40_m30_000001.fits\n",
      "Y3_GOLD_2_0_SPT_ra10_20_decm40_m30_000005.fits\n",
      "reading 1/17 /global/cscratch1/sd/bwarner/Y3_GOLD_2_0_SPT_ra10_20_decm40_m30_000004.fits\n",
      "reading 2/17 /global/cscratch1/sd/bwarner/Y3_GOLD_2_0_SPT_ra10_20_decm40_m30_000006.fits\n",
      "reading 3/17 /global/cscratch1/sd/bwarner/Y3_GOLD_2_0_SPT_ra10_20_decm40_m30_000007.fits\n",
      "reading 4/17 /global/cscratch1/sd/bwarner/Y3_GOLD_2_0_SPT_ra10_20_decm40_m30_000012.fits\n",
      "reading 5/17 /global/cscratch1/sd/bwarner/Y3_GOLD_2_0_SPT_ra10_20_decm40_m30_000008.fits\n",
      "reading 6/17 /global/cscratch1/sd/bwarner/Y3_GOLD_2_0_SPT_ra10_20_decm40_m30_000013.fits\n",
      "reading 7/17 /global/cscratch1/sd/bwarner/Y3_GOLD_2_0_SPT_ra10_20_decm40_m30_000015.fits\n",
      "reading 8/17 /global/cscratch1/sd/bwarner/Y3_GOLD_2_0_SPT_ra10_20_decm40_m30_000003.fits\n",
      "reading 9/17 /global/cscratch1/sd/bwarner/Y3_GOLD_2_0_SPT_ra10_20_decm40_m30_000016.fits\n",
      "reading 10/17 /global/cscratch1/sd/bwarner/Y3_GOLD_2_0_SPT_ra10_20_decm40_m30_000011.fits\n",
      "reading 11/17 /global/cscratch1/sd/bwarner/Y3_GOLD_2_0_SPT_ra10_20_decm40_m30_000009.fits\n",
      "reading 12/17 /global/cscratch1/sd/bwarner/Y3_GOLD_2_0_SPT_ra10_20_decm40_m30_000010.fits\n",
      "reading 13/17 /global/cscratch1/sd/bwarner/Y3_GOLD_2_0_SPT_ra10_20_decm40_m30_000014.fits\n",
      "reading 14/17 /global/cscratch1/sd/bwarner/Y3_GOLD_2_0_SPT_ra10_20_decm40_m30_000002.fits\n",
      "reading 15/17 /global/cscratch1/sd/bwarner/Y3_GOLD_2_0_SPT_ra10_20_decm40_m30_000017.fits\n",
      "reading 16/17 /global/cscratch1/sd/bwarner/Y3_GOLD_2_0_SPT_ra10_20_decm40_m30_000001.fits\n",
      "reading 17/17 /global/cscratch1/sd/bwarner/Y3_GOLD_2_0_SPT_ra10_20_decm40_m30_000005.fits\n"
     ]
    }
   ],
   "source": [
    "# Calling Y3 GOLD in a small square area \n",
    "input_path = '/fs/scratch/PCON0003/warner785/bwarner/'\n",
    "input_keyword = 'Y3_GOLD_2_0_SPT_ra10_20'\n",
    "columns = \\\n",
    "['RA', 'DEC', 'HPIX_4096', \n",
    "'COADD_OBJECT_ID', \n",
    "'SOF_CM_MAG_CORRECTED_G',\n",
    "'SOF_CM_MAG_CORRECTED_R',\n",
    "'SOF_CM_MAG_CORRECTED_I',\n",
    "'SOF_CM_MAG_CORRECTED_Z',\n",
    "'SOF_CM_MAG_ERR_G',\n",
    "'SOF_CM_MAG_ERR_R',\n",
    "'SOF_CM_MAG_ERR_I',\n",
    "'SOF_CM_MAG_ERR_Z']\n",
    "gold_spt = io.SearchAndCallFits(path = input_path, keyword = input_keyword, columns=columns)\n",
    "\n",
    "# Apply the same color/mag cuts to exclude extreme color/mag sources \n",
    "mask_magcut = priorCut_test(gold_spt)\n",
    "gold_spt = gold_spt[mask_magcut]"
   ]
  },
  {
   "cell_type": "code",
   "execution_count": 85,
   "metadata": {},
   "outputs": [
    {
     "name": "stdout",
     "output_type": "stream",
     "text": [
      "calculate loglikelihood gaussian with multiprocessing module\n",
      "multiprocessing 100 % \n"
     ]
    }
   ],
   "source": [
    "# For a fast run, draw a random sample to reduce the sample size \n",
    "rand_ind = np.random.choice(np.arange(gold_spt.size), size = 100000)\n",
    "gold_spt_sub = gold_spt[rand_ind]\n",
    "\n",
    "# Assigning CMASS probabilities to Gold Y3\n",
    "mag = ['SOF_CM_MAG_CORRECTED', 'SOF_CM_MAG_CORRECTED'] \n",
    "err = ['SOF_CM_MAG_ERR', 'SOF_CM_MAG_ERR'] \n",
    "filter = ['G', 'R', 'I']\n",
    "gold_spt_test = assignCMASSProb(gold_spt_sub, clf_cmass, clf_no, \n",
    "                     cmass_fraction = cmass_fraction, \n",
    "                     mag=mag, err=err, filter=filter )"
   ]
  },
  {
   "cell_type": "code",
   "execution_count": 86,
   "metadata": {},
   "outputs": [],
   "source": [
    "X_dmass, Xcov = mixing_color(gold_spt_test, \n",
    "                mag = ['SOF_CM_MAG_CORRECTED', 'SOF_CM_MAG_CORRECTED'], \n",
    "                err = ['SOF_CM_MAG_ERR', 'SOF_CM_MAG_ERR'], \n",
    "                filter = ['G', 'R', 'I'],\n",
    "                no_zband = True  )"
   ]
  },
  {
   "cell_type": "code",
   "execution_count": 87,
   "metadata": {},
   "outputs": [
    {
     "name": "stdout",
     "output_type": "stream",
     "text": [
      "Using central 100% to set range.\n"
     ]
    },
    {
     "data": {
      "image/png": "[encoded data removed]",
      "text/plain": [
       "<Figure size 1152x288 with 4 Axes>"
      ]
     },
     "metadata": {
      "needs_background": "light"
     },
     "output_type": "display_data"
    }
   ],
   "source": [
    "weight_dmass = gold_spt_test['CMASS_PROB']\n",
    "doVisualization_1d(data=[X_cmass_true, X_dmass], \n",
    "                   weight = [None, weight_dmass],  # apply dmass weights\n",
    "                   labels = ['mag r', 'mag i', 'g-r', 'r-i'], \n",
    "                   ranges = None, \n",
    "                   name = ['train', 'dmass'], \n",
    "                   nbins=100)"
   ]
  },
  {
   "cell_type": "code",
   "execution_count": 88,
   "metadata": {},
   "outputs": [
    {
     "name": "stdout",
     "output_type": "stream",
     "text": [
      "(100000,)\n",
      "(100000,)\n"
     ]
    },
    {
     "data": {
      "text/plain": [
       "KstestResult(statistic=0.6279899999999999, pvalue=0.0)"
      ]
     },
     "execution_count": 88,
     "metadata": {},
     "output_type": "execute_result"
    }
   ],
   "source": [
    "#KS test:\n",
    "from scipy import stats\n",
    "\n",
    "#print(X_cmass_true.shape)\n",
    "#print(X_dmass.shape)\n",
    "#print(weight_dmass.shape)\n",
    "\n",
    "#matching catalogs\n",
    "#cuts to select RA and DEC\n",
    "\n",
    "#numpy array slicing function \n",
    "#pass the first column etc.\n",
    "\n",
    "Xdmass_magr=X_dmass[:,0]\n",
    "Xdmass_magi=X_dmass[:,1]\n",
    "Xdmass_gr=X_dmass[:,2]\n",
    "Xdmass_ri=X_dmass[:,3]\n",
    "\n",
    "Xcmass_magr=X_cmass_true[:,0]\n",
    "Xcmass_magi=X_cmass_true[:,1]\n",
    "Xcmass_gr=X_cmass_true[:,2]\n",
    "Xcmass_ri=X_cmass_true[:,3]\n",
    "\n",
    "print(Xdmass_magi.shape)\n",
    "print(Xcmass_magr.shape)\n",
    "\n",
    "stats.kstest(Xcmass_magr, Xdmass_magr)\n",
    "stats.kstest(Xcmass_magi, Xdmass_magi)\n",
    "stats.kstest(Xcmass_gr, Xdmass_gr)\n",
    "stats.kstest(Xcmass_ri, Xdmass_ri)\n",
    "\n",
    "#model training: make dist. match up more\n",
    "#larger training set\n",
    "\n",
    "######################################\n",
    "#other notes:\n",
    "\n",
    "#astro-coffee: once a week- depending on topic\n",
    "#cosmology meeting Tuesday: 2pm-3pm (zoom)\n",
    "#mailing list: subscribed?\n",
    "#cosmolunch: present paper every so often"
   ]
  },
  {
   "cell_type": "code",
   "execution_count": null,
   "metadata": {},
   "outputs": [],
   "source": [
    "#create subsample:\n",
    "#select all g-r values within an amount\n",
    "\n"
   ]
  },
  {
   "cell_type": "code",
   "execution_count": 37,
   "metadata": {},
   "outputs": [
    {
     "data": {
      "text/plain": [
       "KstestResult(statistic=0.42857142857142855, pvalue=0.5751748251748252)"
      ]
     },
     "execution_count": 37,
     "metadata": {},
     "output_type": "execute_result"
    }
   ],
   "source": [
    "#KS test sample (not same distribution):\n",
    "from scipy import stats\n",
    "#Arrays:\n",
    "i=[0.125,0.375,0.375,0.5,0.5,0.875,1]\n",
    "f=[0.285714,0.428571,0.714286,0.714286,0.857143,1,1]\n",
    "\n",
    "stats.kstest(i,f)"
   ]
  },
  {
   "cell_type": "code",
   "execution_count": 38,
   "metadata": {},
   "outputs": [
    {
     "data": {
      "text/plain": [
       "KstestResult(statistic=0.3, pvalue=0.7869297884777761)"
      ]
     },
     "execution_count": 38,
     "metadata": {},
     "output_type": "execute_result"
    }
   ],
   "source": [
    "#KS test sample 2 (same distribution):\n",
    "from scipy import stats\n",
    "\n",
    "m=[0.05, 0.1875, 0.25, 0.3375, 0.3375, 0.4, 0.5125, 0.675, 0.925, 1]\n",
    "w=[0.112903, 0.177419, 0.193548, 0.370968, 0.564516, 0.629032, 0.66129, 0.725806, 0.854839, 1]\n",
    "\n",
    "stats.kstest(m,w)"
   ]
  },
  {
   "cell_type": "code",
   "execution_count": 89,
   "metadata": {},
   "outputs": [
    {
     "name": "stdout",
     "output_type": "stream",
     "text": [
      "(50000,)\n"
     ]
    },
    {
     "data": {
      "image/png": "[encoded data removed]",
      "text/plain": [
       "<Figure size 432x288 with 1 Axes>"
      ]
     },
     "metadata": {
      "needs_background": "light"
     },
     "output_type": "display_data"
    },
    {
     "data": {
      "text/plain": [
       "KstestResult(statistic=0.00384000000000001, pvalue=0.8532323035610377)"
      ]
     },
     "execution_count": 89,
     "metadata": {},
     "output_type": "execute_result"
    }
   ],
   "source": [
    "#data from the same distribution:\n",
    "import numpy\n",
    "import matplotlib.pyplot as plt\n",
    "from scipy import stats\n",
    "\n",
    "x = numpy.random.normal(5.0, 1.0, 100000)\n",
    "\n",
    "#randomly select from array (twice):\n",
    "x1=np.random.choice(x, 50000, replace=False)\n",
    "x2=np.random.choice(x, 50000, replace=False)\n",
    "\n",
    "print(x1.shape)\n",
    "plt.hist(x, 100)\n",
    "plt.show()\n",
    "\n",
    "#check that ks test gives a correlation:\n",
    "stats.kstest(x1,x2)"
   ]
  },
  {
   "cell_type": "code",
   "execution_count": null,
   "metadata": {},
   "outputs": [],
   "source": [
    "#push to repo\n",
    "#KS test by hand: double check \n",
    "#p value, X^2\n",
    "#write out changing pieces\n",
    "#main functions in code: input outputs-- Y3\n",
    "####decide training set\\validation set-- part of overlap data is only used for testing\n",
    "#cross-validation of model while training\n",
    "#decide once-- Su- what was considered during choice\n",
    "#look at mock catalog-- Y3 realization of Y3 data-- mag. colors. simulated photo z-- use catalog and simulate DMASS by \n"
   ]
  }
 ],
 "metadata": {
  "kernelspec": {
   "display_name": "Python (DES_env)",
   "language": "python",
   "name": "des_env"
  },
  "language_info": {
   "codemirror_mode": {
    "name": "ipython",
    "version": 3
   },
   "file_extension": ".py",
   "mimetype": "text/x-python",
   "name": "python",
   "nbconvert_exporter": "python",
   "pygments_lexer": "ipython3",
   "version": "3.7.0"
  }
 },
 "nbformat": 4,
 "nbformat_minor": 4
}
