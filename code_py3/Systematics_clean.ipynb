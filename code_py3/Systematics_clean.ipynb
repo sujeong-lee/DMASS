{
 "cells": [
  {
   "cell_type": "code",
   "execution_count": 1,
   "id": "b019ee36-38d8-4a8b-92b9-e704a2a793ae",
   "metadata": {},
   "outputs": [
    {
     "name": "stderr",
     "output_type": "stream",
     "text": [
      "WARNING: AstroMLDeprecationWarning: 'decorators' has been moved to 'astroML.utils' and will be removed from the main namespace in the future. [astroML.decorators]\n",
      "In /users/PCON0003/warner785/.conda/envs/DES_env/lib/python3.7/site-packages/matplotlib/mpl-data/stylelib/_classic_test.mplstyle: \n",
      "The savefig.frameon rcparam was deprecated in Matplotlib 3.1 and will be removed in 3.3.\n",
      "In /users/PCON0003/warner785/.conda/envs/DES_env/lib/python3.7/site-packages/matplotlib/mpl-data/stylelib/_classic_test.mplstyle: \n",
      "The verbose.level rcparam was deprecated in Matplotlib 3.1 and will be removed in 3.3.\n",
      "In /users/PCON0003/warner785/.conda/envs/DES_env/lib/python3.7/site-packages/matplotlib/mpl-data/stylelib/_classic_test.mplstyle: \n",
      "The verbose.fileo rcparam was deprecated in Matplotlib 3.1 and will be removed in 3.3.\n"
     ]
    }
   ],
   "source": [
    "#new path: /fs/scratch/PCON0008/warner785/bwarner/\n",
    "\n",
    "import sys\n",
    "sys.path.append('../')\n",
    "from xd import *\n",
    "from utils import *\n",
    "import esutil\n",
    "import healpy as hp\n",
    "from systematics import *\n",
    "from systematics_module import *\n",
    "import os\n",
    "\n",
    "%matplotlib inline\n",
    "\n",
    "%load_ext autoreload\n",
    "%autoreload 2"
   ]
  },
  {
   "cell_type": "code",
   "execution_count": 2,
   "id": "348e60fe-8ab2-4a8c-acaf-922201585ff2",
   "metadata": {},
   "outputs": [],
   "source": [
    "import numpy as np\n",
    "from run_systematics import sys_iteration, weightmultiply, fitting_allSP, calling_sysMap"
   ]
  },
  {
   "cell_type": "code",
   "execution_count": 3,
   "id": "324d4f7f-3462-4d44-a660-4fd47e149402",
   "metadata": {},
   "outputs": [],
   "source": [
    "# calling map \n",
    "path = '/fs/scratch/PCON0008/warner785/bwarner/'\n",
    "LSSGoldmask = fitsio.read(path+'MASK_Y3LSSBAOSOF_22_3_v2p2.fits') #BAO is different measurement, may be different from this analysis\n",
    "# 'Y1LSSmask_v2_redlimcut_il22_seeil4.0_4096ring.fits'\n",
    "#GoldMask = callingEliGoldMask()\n",
    "LSSMask = LSSGoldmask\n",
    "GoldMask = LSSGoldmask\n",
    "\n",
    "pixra, pixdec = hp.pix2ang(nside=4096,ipix=GoldMask['PIXEL'],nest=True,lonlat=True)\n",
    "\n",
    "LSSMask = LSSMask[pixdec >-3.0 ]\n",
    "#GoldMask_st82 = Cuts.SpatialCuts(GoldMask, ra=320, ra2=360, dec=-2, dec2=2)\n",
    "GoldMask_st82 = GoldMask[ pixdec > -3.0 ]\n",
    "GoldMask_spt = GoldMask[ pixdec < -3.0 ]\n",
    "#GoldMask_spt = Cuts.SpatialCuts(GoldMask_spt, ra=0, ra2 = 100, dec=-52, dec2 = -48)\n",
    "\n",
    "pixarea = hp.nside2pixarea( 4096, degrees = True)\n",
    "sptnpix = GoldMask_spt['PIXEL'].size #hp.get_map_size( GoldMask_spt['PIXEL'] )\n",
    "st82npix =  GoldMask_st82['PIXEL'].size # hp.get_map_size( GoldMask_st82 )\n",
    "SPTMaparea = pixarea * sptnpix\n",
    "ST82Maparea = pixarea * st82npix"
   ]
  },
  {
   "cell_type": "code",
   "execution_count": 4,
   "id": "a1f14ec5-2589-4ba5-a669-e90f5847f855",
   "metadata": {},
   "outputs": [],
   "source": [
    "def calling_lens_catalog(catname=None):\n",
    "\n",
    "    catdir = ''.join([ c+'/' for c in catname.split('/')[:-1]])\n",
    "    os.system('mkdir '+catdir)\n",
    "    dmass = esutil.io.read(catname)\n",
    "    w_dmass = dmass['CMASS_PROB']\n",
    "    print ('Calculating DMASS systematic weights...')\n",
    "    dmass = appendColumn(dmass, name='WEIGHT', value= w_dmass )\n",
    "#   dmass = dmass[ dmass['CMASS_PROB'] > 0.01 ]   # for low probability galaxies\n",
    "    esutil.io.write(catname, dmass)\n",
    "    #randoms = esutil.io.read('/n/des/lee.5922/data/dmass_cat/random_x50_dmass_spt_masked.fits')\n",
    "    \n",
    "    randoms = esutil.io.read('/fs/scratch/PCON0008/warner785/bwarner/random_dmass_y1_public_v1.fits')\n",
    "#    randoms = esutil.io.read('/users/PCON0003/warner785/DMASSY3/output/test/train_cat/y3/dmass_st82_DET200_randoms.fits')\n",
    "    \n",
    "#    catdir = ''.join([ c+'/' for c in catname.split('/')[:-1]])\n",
    "#    os.system('mkdir '+catdir)\n",
    "#    dmass = esutil.io.read('/n/des/lee.5922/data/dmass_cat/dmass_spt_sys_v3.fits')\n",
    "    #w_dmass = dmass['CMASS_PROB'] *dmass['WEIGHT0_fwhm_r']*dmass['WEIGHT1_airmass_z']\n",
    "    #print ('Calculatig DMASS systematic weights...')\n",
    "    #dmass = appendColumn(dmass, name='WEIGHT', value= w_dmass )\n",
    "    #dmass = dmass[ dmass['CMASS_PROB'] > 0.01 ]\n",
    "    #esutil.io.write(catname, dmass)\n",
    "    #randoms = esutil.io.read('/n/des/lee.5922/data/dmass_cat/random_x50_dmass_spt_masked.fits')\n",
    "\n",
    "#    randoms = esutil.io.read('/n/des/lee.5922/data/dmass_cat/random_x50_dmass_spt_masked.fits')\n",
    "\n",
    "    print ('Resulting catalog size')\n",
    "    print ('DMASS=', np.sum(dmass['WEIGHT']) )\n",
    "    print ('randoms=', randoms.size)\n",
    "    return dmass, randoms"
   ]
  },
  {
   "cell_type": "code",
   "execution_count": 5,
   "id": "630d3604-6851-43eb-bdb0-fe8581ea28fd",
   "metadata": {},
   "outputs": [],
   "source": [
    "def keepGoodRegion(des, hpInd = False, balrog=None):\n",
    "    import healpy as hp\n",
    "    import fitsio\n",
    "    # 25 is the faintest object detected by DES\n",
    "    # objects larger than 25 considered as Noise\n",
    "    \n",
    "    path = '/fs/scratch/PCON0008/warner785/bwarner/'\n",
    "    #LSSGoldmask = fitsio.read(path+'Y1LSSmask_v2_il22_seeil4.0_nside4096ring_redlimcut.fits')\n",
    "    #LSSGoldmask = fitsio.read(path+'Y1LSSmask_v1_il22seeil4.04096ring_redlimcut.fits')\n",
    "    LSSGoldmask = fitsio.read(path+'MASK_Y3LSSBAOSOF_22_3_v2p2.fits')\n",
    "    ringhp = hp.nest2ring(4096, [LSSGoldmask['PIXEL']])\n",
    "    #Y1LSSmask_v1_il22seeil4.04096ring_redlimcut.fits\n",
    "    #frac_cut = LSSGoldmask['FRAC'] > 0.8\n",
    "    #ind_good_ring = LSSGoldmask['PIXEL'][frac_cut]\n",
    "    ind_good_ring = ringhp\n",
    "    \n",
    "    # healpixify the catalog.\n",
    "    nside=4096\n",
    "    # Convert silly ra/dec to silly HP angular coordinates.\n",
    "    phi = des['RA'] * np.pi / 180.0\n",
    "    theta = ( 90.0 - des['DEC'] ) * np.pi/180.0\n",
    "\n",
    "    hpInd = hp.ang2pix(nside,theta,phi,nest=False)\n",
    "    keep = np.in1d(hpInd, ind_good_ring)\n",
    "    des = des[keep]\n",
    "    if hpInd is True:\n",
    "        return ind_good_ring\n",
    "    else:\n",
    "        return des"
   ]
  },
  {
   "cell_type": "code",
   "execution_count": 6,
   "id": "fcd1655d-9434-4473-a80b-2ac2494c5a7a",
   "metadata": {},
   "outputs": [],
   "source": [
    "def ra_dec_to_xyz(ra, dec):\n",
    "    \"\"\"Convert ra & dec to Euclidean points\n",
    "    Parameters\n",
    "    ----------\n",
    "    ra, dec : ndarrays\n",
    "    Returns\n",
    "    x, y, z : ndarrays\n",
    "    \"\"\"\n",
    "    sin_ra = np.sin(ra * np.pi / 180.)\n",
    "    cos_ra = np.cos(ra * np.pi / 180.)\n",
    "\n",
    "    sin_dec = np.sin(np.pi / 2 - dec * np.pi / 180.)\n",
    "    cos_dec = np.cos(np.pi / 2 - dec * np.pi / 180.)\n",
    "\n",
    "    return (cos_ra * sin_dec,\n",
    "            sin_ra * sin_dec,\n",
    "            cos_dec)\n",
    "\n",
    "def uniform_sphere(RAlim, DEClim, size=1):\n",
    "    \"\"\"Draw a uniform sample on a sphere\n",
    "    Parameters\n",
    "    ----------\n",
    "    RAlim : tuple\n",
    "        select Right Ascension between RAlim[0] and RAlim[1]\n",
    "        units are degrees\n",
    "    DEClim : tuple\n",
    "        select Declination between DEClim[0] and DEClim[1]\n",
    "    size : int (optional)\n",
    "        the size of the random arrays to return (default = 1)\n",
    "    Returns\n",
    "    -------\n",
    "    RA, DEC : ndarray\n",
    "        the random sample on the sphere within the given limits.\n",
    "        arrays have shape equal to size.\n",
    "    \"\"\"\n",
    "    zlim = np.sin(np.pi * np.asarray(DEClim) / 180.)\n",
    "\n",
    "    z = zlim[0] + (zlim[1] - zlim[0]) * np.random.random(size)\n",
    "    DEC = (180. / np.pi) * np.arcsin(z)\n",
    "    RA = RAlim[0] + (RAlim[1] - RAlim[0]) * np.random.random(size)\n",
    "    \n",
    "    return RA, DEC\n",
    "\n",
    "def uniform_random_on_sphere(data, size = None ):\n",
    "    ra = data['RA']\n",
    "    dec = data['DEC']\n",
    "    \n",
    "    n_features = ra.size\n",
    "    #size = 100 * data.size\n",
    "    \n",
    "    # draw a random sample with N points\n",
    "    ra_R, dec_R = uniform_sphere((min(ra), max(ra)),\n",
    "                                 (min(dec), max(dec)),\n",
    "                                 size)\n",
    "    #data = np.asarray(ra_dec_to_xyz(ra, dec), order='F').T\n",
    "    #data_R = np.asarray(ra_dec_to_xyz(ra_R, dec_R), order='F').T\n",
    "    \n",
    "    #random redshift distribution\n",
    "    \n",
    "    data_R = np.zeros((ra_R.size,), dtype=[('RA', 'float'), ('DEC', 'float')])\n",
    "    data_R['RA'] = ra_R\n",
    "    data_R['DEC'] = dec_R\n",
    "                              \n",
    "    return data_R\n",
    "\n",
    "## ---------------------------------------------"
   ]
  },
  {
   "cell_type": "code",
   "execution_count": 7,
   "id": "e4f42cab-4913-4580-b3ff-529406a7544a",
   "metadata": {},
   "outputs": [
    {
     "name": "stdout",
     "output_type": "stream",
     "text": [
      "Calculating DMASS systematic weights...\n",
      "Resulting catalog size\n",
      "DMASS= 28441.7573735908\n",
      "randoms= 5864645\n"
     ]
    }
   ],
   "source": [
    "# import DMASS in validation region\n",
    "#lens, randoms = calling_lens_catalog('/fs/scratch/PCON0003/warner785/bwarner/dmass_y1_public_v1.fits')\n",
    "dmass_val, randoms = calling_lens_catalog('/fs/scratch/PCON0008/warner785/bwarner/dmass_st82_DET200.fits')\n",
    "\n",
    "random_val = uniform_random_on_sphere(dmass_val, size = 5*int(np.sum(dmass_val['WEIGHT']))) #larger size of randoms\n",
    "# applying LSS mask \n",
    "random_val = keepGoodRegion(random_val)\n",
    "\n",
    "plt.rcParams.update({\n",
    "  \"text.usetex\": False,\n",
    "  \"font.family\": \"Helvetica\"\n",
    "})\n",
    "\n",
    "random_val = appendColumn(random_val, value=np.ones(random_val.size), name='WEIGHT')"
   ]
  },
  {
   "cell_type": "code",
   "execution_count": 8,
   "id": "d5a3341c-b4b6-4bfd-aee9-6c9e1f3daa40",
   "metadata": {},
   "outputs": [
    {
     "name": "stdout",
     "output_type": "stream",
     "text": [
      "\n",
      "Calling catalogs >>>\n",
      "pca0_ALL_maps_4096_ring_jointmask.fits.gz\n",
      "reading 1/1 /fs/scratch/PCON0008/warner785/bwarner/pca_maps_jointmask_no_stars1623/pca0_ALL_maps_4096_ring_jointmask.fits.gz\n"
     ]
    }
   ],
   "source": [
    "input_path = '/fs/scratch/PCON0008/warner785/bwarner/pca_maps_jointmask_no_stars1623/'\n",
    "#y3/band_z/\n",
    "input_keyword = 'pca0'\n",
    "sysMap = io.SearchAndCallFits(path = input_path, keyword = input_keyword)"
   ]
  },
  {
   "cell_type": "code",
   "execution_count": 9,
   "id": "580f82d8-ca58-4b29-8ff9-dbdf4b1aa5d5",
   "metadata": {},
   "outputs": [],
   "source": [
    "from numpy.lib.recfunctions import append_fields\n",
    "#print(sysMap.dtype.names)\n",
    "\n",
    "RA, DEC = hp.pix2ang(4096, sysMap['PIXEL'], lonlat=True)\n",
    "sysMap = append_fields(sysMap, 'RA', RA, usemask=False)\n",
    "sysMap = append_fields(sysMap, 'DEC', DEC, usemask=False)\n",
    "#print(sysMap.dtype.names)\n",
    "\n",
    "sysMap = keepGoodRegion(sysMap)\n",
    "\n",
    "mask4 =(sysMap['RA']>18)&(sysMap['RA']<43)\n",
    "mask4 = mask4 & (sysMap['DEC']>-10) & (sysMap['DEC']<10)\n",
    "sysMap = sysMap[mask4]\n",
    "\n",
    "#print(sysMap.size)"
   ]
  },
  {
   "cell_type": "code",
   "execution_count": 10,
   "id": "0a5c619e-9ab4-490e-9fdf-c9906be7952f",
   "metadata": {},
   "outputs": [],
   "source": [
    "#function for healpy to reduce resolution size of sys\n",
    "#make a healpix map from the sysMap:\n",
    "#Healpy method: one array: index is the pixel ID, (length= number of healpix pixels in entire sphere, index = value ID, \n",
    "#signal= each value)\n",
    "\n",
    "index_mask = np.argsort(dmass_val['HPIX_4096'])\n",
    "dmass_chron = dmass_val[index_mask] # ordered by hpix values\n",
    "\n",
    "#dim_mask = np.in1d(sysMap['PIXEL'], dmass_chron['HPIX_4096'], assume_unique=False, invert=False)\n",
    "\n",
    "sysHp = np.full(hp.nside2npix(4096), hp.UNSEEN)\n",
    "#sysHp[sysMap['PIXEL'][dim_mask]] = sysMap['SIGNAL'][dim_mask]\n",
    "sysHp[sysMap['PIXEL']] = sysMap['SIGNAL']\n",
    "#print(sysHp.size)\n",
    "#print(sysHp[35369:35469])\n",
    "\n",
    "#print(sysMap['PIXEL'][dim_mask][0])\n",
    "\n",
    "nside_in = hp.pixelfunc.get_nside(sysHp)\n",
    "#print(nside_in)\n",
    "downgrade = hp.pixelfunc.ud_grade(sysHp, 512, pess=False, order_in='RING', order_out=None, power=None, dtype=None)\n",
    "#downgrade128 = hp.pixelfunc.ud_grade(sysHp, 128, pess=False, order_in='RING', order_out=None, power=None, dtype=None)\n",
    "#downgrade256 = hp.pixelfunc.ud_grade(sysHp, 256, pess=False, order_in='RING', order_out=None, power=None, dtype=None)\n",
    "\n",
    "#default order_out = ring, change to nest? -- check\n",
    "nside_out = hp.pixelfunc.get_nside(downgrade)\n",
    "#print(nside_out)\n",
    "\n",
    "n_good_pixels_at_512 = hp.nside2npix(nside_out)\n",
    "#np.zeros(n_good_pixels_at_512, dtype=[('PIXEL','int'), ('SIGNAL','float')] )\n",
    "pixels = np.zeros(n_good_pixels_at_512)\n",
    "#print(pixels.size)\n",
    "\n",
    "#print(hp.visufunc.mollview(sysHp))"
   ]
  },
  {
   "cell_type": "code",
   "execution_count": 11,
   "id": "7e8d07d9-5a5f-4507-835f-024f0478de89",
   "metadata": {},
   "outputs": [],
   "source": [
    "for x in range(pixels.size):\n",
    "    if x>0:\n",
    "        pixels[x]=pixels[x-1]+1\n",
    "#print(pixels)\n",
    "\n",
    "sysMap = np.zeros( len(pixels), dtype=[('HPIX_512','int'), ('SIGNAL','float'),('RA','float'),('DEC','float')])\n",
    "sysMap['HPIX_512'] = pixels\n",
    "sysMap['SIGNAL'] = downgrade\n",
    "\n",
    "#print(sysMap.size)\n",
    "#sysMap = keepGoodRegion(sysMap)\n",
    "#print(sysMap.size)\n",
    "\n",
    "#restrict to validation region area:\n",
    "RA, DEC = hp.pix2ang(512, sysMap['HPIX_512'], lonlat=True)\n",
    "#theta, phi = hp.pix2ang(512, sysMap['PIXEL'])\n",
    "##sys_area = np.zeros( len(phi), dtype=[('RA','float'), ('DEC','float')] )\n",
    "\n",
    "# Convert silly ra/dec to silly HP angular coordinates.\n",
    "##phi = des['RA'] * np.pi / 180.0\n",
    "#RA = phi*(180.0/np.pi)\n",
    "#DEC = -(180.0/np.pi)*theta+90.0\n",
    "##theta = ( 90.0 - des['DEC'] ) * np.pi/180.0\n",
    "\n",
    "sysMap['RA']= RA\n",
    "sysMap['DEC'] = DEC\n",
    "\n",
    "#print(sysMap.size)\n",
    "\n",
    "#print((sysMap != 0.0 ).any())"
   ]
  },
  {
   "cell_type": "code",
   "execution_count": 12,
   "id": "9799d116-f0a6-4699-ae3d-7cf029da84b9",
   "metadata": {},
   "outputs": [],
   "source": [
    "#all griz combined fracdet map\n",
    "\n",
    "path = '/fs/scratch/PCON0008/warner785/bwarner/'\n",
    "fracDet = fitsio.read(path+'y3a2_griz_o.4096_t.32768_coverfoot_EQU.fits.gz')\n",
    "\n",
    "#print(fracDet.dtype.names)\n",
    "#print(fracDet['SIGNAL'])"
   ]
  },
  {
   "cell_type": "code",
   "execution_count": 13,
   "id": "b024780c-c760-4a00-b292-5ae40d04028a",
   "metadata": {},
   "outputs": [],
   "source": [
    "#convert fracDet to nside 512:\n",
    "\n",
    "frac = np.zeros(hp.nside2npix(4096))\n",
    "fracDet[\"PIXEL\"] = hp.nest2ring(4096, fracDet['PIXEL'])\n",
    "#sysHp[sysMap['PIXEL'][dim_mask]] = sysMap['SIGNAL'][dim_mask]\n",
    "frac[fracDet['PIXEL']] = fracDet['SIGNAL']\n",
    "\n",
    "downgrade_frac = hp.pixelfunc.ud_grade(frac, 512, pess=False, order_in='RING', order_out=None, power=None, dtype=None)"
   ]
  },
  {
   "cell_type": "code",
   "execution_count": 14,
   "id": "873a164a-3c0c-4bf3-86fa-d163692fc372",
   "metadata": {},
   "outputs": [],
   "source": [
    "n_good_pixels_at_512 = hp.nside2npix(nside_out)\n",
    "#np.zeros(n_good_pixels_at_512, dtype=[('PIXEL','int'), ('SIGNAL','float')] \n",
    " \n",
    "pixels = np.arange( n_good_pixels_at_512)\n",
    "\n",
    "\n",
    "fracDet_512 = np.zeros( len(pixels), dtype=[('HPIX_512','int'), ('SIGNAL','float')])\n",
    "fracDet_512['HPIX_512'] = pixels\n",
    "fracDet_512['SIGNAL'] = downgrade_frac\n",
    "\n",
    "#print(fracDet_512[\"HPIX_512\"].size)\n",
    "#print(fracDet[\"PIXEL\"].size)"
   ]
  },
  {
   "cell_type": "code",
   "execution_count": 15,
   "id": "69839168-0dd9-47bb-9a41-bd4f90b81c99",
   "metadata": {},
   "outputs": [],
   "source": [
    "from numpy.lib.recfunctions import append_fields\n",
    "\n",
    "theta, phi = hp.pix2ang(4096, dmass_chron['HPIX_4096'], nest = True)\n",
    "HPIX_512 = hp.ang2pix(512, theta, phi)\n",
    "\n",
    "dmass_chron = append_fields(dmass_chron, 'HPIX_512', HPIX_512, usemask=False)\n",
    "#print(dmass_chron.dtype.names)"
   ]
  },
  {
   "cell_type": "code",
   "execution_count": 16,
   "id": "11c85d7e-7e80-4e77-88ec-15aa1ac0eef8",
   "metadata": {},
   "outputs": [
    {
     "name": "stderr",
     "output_type": "stream",
     "text": [
      "findfont: Font family ['Helvetica'] not found. Falling back to DejaVu Sans.\n",
      "findfont: Font family ['Helvetica'] not found. Falling back to DejaVu Sans.\n"
     ]
    },
    {
     "data": {
      "image/png": "[encoded data removed]",
      "text/plain": [
       "<Figure size 432x288 with 1 Axes>"
      ]
     },
     "metadata": {
      "needs_background": "light"
     },
     "output_type": "display_data"
    }
   ],
   "source": [
    "import matplotlib.pyplot as plt\n",
    "\n",
    "#np.percentile()\n",
    "\n",
    "#dim_mask = np.in1d(sysMap['HPIX_512'], dmass_chron['HPIX_512'], assume_unique=False, invert=False)\n",
    "#print(sum(dim_mask), dim_mask.size)\n",
    "\n",
    "#minimum = np.percentile(sysMap['SIGNAL'][dim_mask], 1)\n",
    "minimum = np.percentile(sysMap['SIGNAL'][sysMap['SIGNAL']!=hp.UNSEEN], 1)\n",
    "#minimum = np.min(sysMap['SIGNAL'][dim_mask]) #FWHM signal (for g filter)\n",
    "#maximum = np.percentile(sysMap['SIGNAL'][dim_mask], 99)\n",
    "maximum = np.percentile(sysMap['SIGNAL'][sysMap['SIGNAL']!=hp.UNSEEN], 99)\n",
    "#maximum = np.max(sysMap['SIGNAL'][dim_mask])\n",
    "#print(\"min: \", minimum)\n",
    "#print(\"max: \", maximum)\n",
    "\n",
    "#pbin = np.linspace(-.03, .04, 1000)\n",
    "pbin, pstep = np.linspace( minimum, maximum, 13, retstep=True)\n",
    "pcenter = pbin[:-1] + pstep/2\n",
    "\n",
    "#x = np.zeros(hp.nside2npix(512))\n",
    "x = np.full(hp.nside2npix(512), hp.UNSEEN)\n",
    "#print(x, sum(x))\n",
    "#x[sysMap['PIXEL'][dim_mask]] = sysMap['SIGNAL'][dim_mask]\n",
    "x[sysMap['HPIX_512']] = sysMap['SIGNAL']\n",
    "\n",
    "#print(hp.visufunc.mollview(x)) # this is fine\n",
    "#print(hp.UNSEEN)\n",
    "\n",
    "#systematic value at galaxy location:\n",
    "\n",
    "sysval_gal = x[dmass_chron['HPIX_512']].copy()\n",
    "\n",
    "#which healpixels have values in the sysMap signal\n",
    "\n",
    "#print(sum(sysval_gal[sysval_gal != hp.UNSEEN]))\n",
    "#print(hp.UNSEEN)\n",
    "\n",
    "#print(x.size, sysval_gal.size, dmass_chron.size)\n",
    "#print(maximum, minimum)\n",
    "#print((sysval_gal != 0.0).any())\n",
    "h,_ = np.histogram(sysval_gal[sysval_gal != hp.UNSEEN], bins=pbin, weights = dmass_chron[\"WEIGHT\"][sysval_gal != hp.UNSEEN]) # -- density of dmass sample, not gold sample\n",
    "#print(h)\n",
    "\n",
    "# want this plotted:\n",
    "#h/number_of_pixels_in_sysbin\n",
    "\n",
    "#fracerr = 1/np.sqrt(h) #1 / sqrt(number of cmass galaxies in each bin)\n",
    "\n",
    "# change to number density: divide by area\n",
    "fig, ax = plt.subplots()\n",
    "ax.errorbar( pcenter, h)\n",
    "#ax.legend(chi2_reduced)\n",
    "plt.title('number of galaxies per bin')\n",
    "fig.savefig('gal_bin.pdf')\n",
    "\n",
    "#print(hp.visufunc.mollview(sysMap['SIGNAL'][dim_mask]))"
   ]
  },
  {
   "cell_type": "code",
   "execution_count": 17,
   "id": "fe0f0c8a-63ca-4cf6-a8aa-57250e07f183",
   "metadata": {},
   "outputs": [
    {
     "name": "stdout",
     "output_type": "stream",
     "text": [
      "area without weights:\n",
      "[ 258  572 1079 1670 2521 3682 4648 4963 3784 2039  948  408]\n",
      "[      0       1       2 ... 3145725 3145726 3145727]\n",
      "area with weights:\n",
      "[ 250.65429688  556.14770508 1047.19433594 1623.47387695 2458.45239258\n",
      " 3591.0625     4528.20996094 4828.65307617 3681.36669922 1980.45800781\n",
      "  915.97314453  390.96850586]\n"
     ]
    }
   ],
   "source": [
    "# number of galaxies in each pixel:\n",
    "\n",
    "sys_signal = sysMap['SIGNAL']\n",
    "\n",
    "#print(sys_signal[sys_signal != hp.UNSEEN])\n",
    "#print(sys_signal[sys_signal != hp.UNSEEN].size)\n",
    "\n",
    "n,_ = np.histogram(sys_signal[sys_signal != hp.UNSEEN] , bins=pbin )\n",
    "print('area without weights:')\n",
    "print(n)\n",
    "\n",
    "#corrected fracDet nside 512 //\n",
    "\n",
    "#matched_sys2 = sysMap[dim_mask]\n",
    "sys = sysMap\n",
    "mask = np.full(hp.nside2npix(512), hp.UNSEEN)\n",
    "\n",
    "print(fracDet_512[\"HPIX_512\"])\n",
    "\n",
    "#Only look at pixels where fracDet has value\n",
    "frac_mask = np.in1d(fracDet_512[\"HPIX_512\"], sys[\"HPIX_512\"], assume_unique=False, invert=False)\n",
    "\n",
    "#make an array with signals corresponding to pixel values \n",
    "mask[sys[\"HPIX_512\"]] = sys[\"SIGNAL\"]\n",
    "\n",
    "#array only including fracDet/sys seen pixels sys signal values \n",
    "#print(mask[mask != hp.UNSEEN])\n",
    "frac_sys = mask[fracDet_512[\"HPIX_512\"][frac_mask]]\n",
    "\n",
    "#print(frac_sys[frac_sys != hp.UNSEEN])\n",
    "#print(frac_sys[frac_sys != hp.UNSEEN].size)\n",
    "\n",
    "#print(frac_sys[frac_sys != hp.UNSEEN])\n",
    "\n",
    "\n",
    "#print(\"sum: \", sum(fracDet_512[\"SIGNAL\"]))\n",
    "\n",
    "#weights of fracDet in the overlap applied for accurate areas\n",
    "area,_ = np.histogram(frac_sys[frac_sys != hp.UNSEEN] , bins=pbin , weights = fracDet_512[\"SIGNAL\"][frac_mask][frac_sys != hp.UNSEEN])\n",
    "print('area with weights:')\n",
    "print(area)\n",
    "# area = units of healpixels\n",
    "\n",
    "#print(hp.visufunc.mollview(fracDet_512[\"SIGNAL\"]))"
   ]
  },
  {
   "cell_type": "code",
   "execution_count": 18,
   "id": "6b2dd722-2b33-4a3d-ab48-cb9b034302c1",
   "metadata": {},
   "outputs": [
    {
     "name": "stderr",
     "output_type": "stream",
     "text": [
      "/users/PCON0003/warner785/.conda/envs/DES_env/lib/python3.7/site-packages/healpy/pixelfunc.py:481: RuntimeWarning: invalid value encountered in _ang2pix_ring\n",
      "  return pixlib._ang2pix_ring(nside, theta, phi)\n"
     ]
    }
   ],
   "source": [
    "#print(random_val.dtype.names)\n",
    "\n",
    "# convert nside for randoms:\n",
    "phi = random_val['RA'] * np.pi / 180.0\n",
    "theta = ( 90.0 - random_val['DEC'] ) * np.pi/180.0\n",
    "nside= 4096\n",
    "\n",
    "HPIX_512 = hp.ang2pix(512, theta, phi)\n",
    "\n",
    "random_val = append_fields(random_val, 'HPIX_512', HPIX_512, usemask=False)\n",
    "#print(random_val.dtype.names)\n",
    "\n",
    "index_ran_mask = np.argsort(random_val['HPIX_512'])\n",
    "random_chron = random_val[index_ran_mask] # ordered by hpix values"
   ]
  },
  {
   "cell_type": "code",
   "execution_count": 19,
   "id": "219fcc32-eed5-4e1f-99ac-597bb4b0e718",
   "metadata": {},
   "outputs": [
    {
     "name": "stdout",
     "output_type": "stream",
     "text": [
      "None\n"
     ]
    },
    {
     "data": {
      "image/png": "[encoded data removed]",
      "text/plain": [
       "<Figure size 612x388.8 with 2 Axes>"
      ]
     },
     "metadata": {
      "needs_background": "light"
     },
     "output_type": "display_data"
    },
    {
     "data": {
      "image/png": "[encoded data removed]",
      "text/plain": [
       "<Figure size 432x288 with 1 Axes>"
      ]
     },
     "metadata": {
      "needs_background": "light"
     },
     "output_type": "display_data"
    }
   ],
   "source": [
    "# now for randoms:\n",
    "\n",
    "import matplotlib.pyplot as plt\n",
    "\n",
    "#dim_ran_mask = np.in1d(sysMap['PIXEL'], random_chron, assume_unique=False, invert=False)\n",
    "\n",
    "#minimum = np.percentile(sysMap['SIGNAL'][dim_mask], 1)\n",
    "minimum = np.percentile(sysMap['SIGNAL'][sysMap['SIGNAL']!=hp.UNSEEN], 1)\n",
    "#minimum = np.min(sysMap['SIGNAL'][dim_mask]) #FWHM signal (for g filter)\n",
    "#maximum = np.percentile(sysMap['SIGNAL'][dim_mask], 99)\n",
    "maximum = np.percentile(sysMap['SIGNAL'][sysMap['SIGNAL']!=hp.UNSEEN], 99)\n",
    "#print(minimum)\n",
    "#print(maximum)\n",
    "\n",
    "pbin, pstep = np.linspace( minimum, maximum, 13, retstep=True)\n",
    "pcenter = pbin[:-1] + pstep/2\n",
    "\n",
    "#x = np.zeros(hp.nside2npix(512))\n",
    "x = np.full(hp.nside2npix(512), hp.UNSEEN)\n",
    "#print(x, sum(x))\n",
    "#x[sysMap['PIXEL'][dim_mask]] = sysMap['SIGNAL'][dim_mask]\n",
    "x[sysMap['HPIX_512']] = sysMap['SIGNAL']\n",
    "\n",
    "print(hp.visufunc.mollview(x)) # this is fine\n",
    "#print(hp.UNSEEN)\n",
    "\n",
    "#systematic value at galaxy location:\n",
    "\n",
    "sysval_gal_ran = x[random_chron['HPIX_512']].copy()\n",
    "\n",
    "#which healpixels have values in the sysMap signal\n",
    "\n",
    "#print(sum(sysval_gal[sysval_gal != hp.UNSEEN]))\n",
    "#print(hp.UNSEEN)\n",
    "\n",
    "#print(x.size, sysval_gal.size, dmass_chron.size)\n",
    "#print(maximum, minimum)\n",
    "#print((sysval_gal != 0.0).any())\n",
    "h_ran,_ = np.histogram(sysval_gal_ran[sysval_gal_ran != hp.UNSEEN], bins=pbin, weights = random_chron[\"WEIGHT\"][sysval_gal_ran != hp.UNSEEN]) # -- density of dmass sample, not gold sample\n",
    "#print(h)\n",
    "\n",
    "# want this plotted:\n",
    "#h/number_of_pixels_in_sysbin\n",
    "\n",
    "#fracerr = 1/np.sqrt(h) #1 / sqrt(number of cmass galaxies in each bin)\n",
    "\n",
    "# change to number density: divide by area\n",
    "fig, ax = plt.subplots()\n",
    "ax.errorbar( pcenter, h_ran)\n",
    "#ax.legend(chi2_reduced)\n",
    "plt.title('number of random galaxies per bin')\n",
    "fig.savefig('ran_gal_bin.pdf')\n",
    "\n",
    "#print(hp.visufunc.mollview(sysMap['SIGNAL'][dim_mask]))\n",
    "\n",
    "# h_ran = number of galaxies\n",
    "#print(\"number of random galaxies: \", h_ran)\n",
    "\n",
    "# number density in bins: h/area\n",
    "number_density_ran = []\n",
    "for x in range(len(h_ran)):\n",
    "    den_ran = h_ran[x]/area[x]\n",
    "    number_density_ran.append(den_ran)\n",
    "    \n",
    "#print(\"randoms number density: \", number_density_ran)\n",
    "\n",
    "\n",
    "total_area = 0\n",
    "#Normalize based on total number density of used footprint:\n",
    "for x in range(len(area)):\n",
    "    total_area += area[x]\n",
    "\n",
    "#print(\"total_area: \", total_area)\n",
    "\n",
    "# total galaxies:\n",
    "total_h_ran = 0\n",
    "for x in range(len(h_ran)):\n",
    "    total_h_ran += h_ran[x]\n",
    "\n",
    "#print(\"total galaxies: \", total_h_ran)\n",
    "\n",
    "#normalization: \n",
    "total_num_density_ran = total_h_ran/total_area\n",
    "\n",
    "#print(\"total number density: \", total_num_density_ran)\n",
    "\n",
    "# apply normalization: \n",
    "#print(number_density)\n",
    "norm_number_density_ran = number_density_ran/total_num_density_ran\n",
    "#print(norm_number_density_ran)\n",
    "\n",
    "fracerr_ran = np.sqrt(h_ran) #1 / sqrt(number of randoms cmass galaxies in each bin)\n",
    "fracerr_ran_norm = (fracerr_ran/area)/total_num_density_ran\n",
    "#print(\"normalized error: \", fracerr_ran_norm)"
   ]
  },
  {
   "cell_type": "code",
   "execution_count": 20,
   "id": "11ccf245-9c9b-4062-a4f2-e2f65c386c66",
   "metadata": {},
   "outputs": [
    {
     "data": {
      "text/plain": [
       "Text(0.5, 1.0, 'number of randoms versus dmass per bin')"
      ]
     },
     "execution_count": 20,
     "metadata": {},
     "output_type": "execute_result"
    },
    {
     "data": {
      "image/png": "[encoded data removed]",
      "text/plain": [
       "<Figure size 432x288 with 1 Axes>"
      ]
     },
     "metadata": {
      "needs_background": "light"
     },
     "output_type": "display_data"
    }
   ],
   "source": [
    "fig, ax = plt.subplots()\n",
    "ax.errorbar( pcenter, h_ran, label = \"randoms in validation\")\n",
    "ax.errorbar( pcenter, h, label = \"dmass in validation\")\n",
    "plt.legend()\n",
    "#ax.legend(chi2_reduced)\n",
    "plt.title('number of randoms versus dmass per bin')"
   ]
  },
  {
   "cell_type": "code",
   "execution_count": 21,
   "id": "64f0b344-bc6f-4c3f-a99a-96f174928d4a",
   "metadata": {},
   "outputs": [
    {
     "name": "stdout",
     "output_type": "stream",
     "text": [
      "[1.25099161 1.14983235 1.10623536 1.01821304 1.01696841 0.99590641\n",
      " 1.00219436 0.98486078 0.97789051 0.94219901 0.9871441  0.88933266]\n"
     ]
    },
    {
     "data": {
      "image/png": "[encoded data removed]",
      "text/plain": [
       "<Figure size 432x288 with 1 Axes>"
      ]
     },
     "metadata": {
      "needs_background": "light"
     },
     "output_type": "display_data"
    }
   ],
   "source": [
    "# *****Creating the figure******:\n",
    "\n",
    "#Also, we usually normalize the plots to the total number density of the total footprint considered. \n",
    "#so that we expect the final result to be a flat line at y=1.\n",
    "\n",
    "# number density in bins: h/area\n",
    "number_density = []\n",
    "for x in range(len(h)):\n",
    "    den = h[x]/area[x]\n",
    "    number_density.append(den)\n",
    "    \n",
    "#print(\"dmass number density: \", number_density)\n",
    "\n",
    "total_area = 0\n",
    "#Normalize based on total number density of used footprint:\n",
    "for x in range(len(area)):\n",
    "    total_area += area[x]\n",
    "\n",
    "#print(\"total_area: \", total_area)\n",
    "\n",
    "# total galaxies:\n",
    "total_h = 0\n",
    "for x in range(len(h)):\n",
    "    total_h += h[x]\n",
    "\n",
    "#print(\"total galaxies: \", total_h)\n",
    "\n",
    "#normalization: \n",
    "total_num_density = total_h/total_area\n",
    "\n",
    "\n",
    "#errorbars: (how to define these)\n",
    "fracerr = np.sqrt(h)\n",
    "fracerr_norm = (fracerr/area)/total_num_density\n",
    "#print(\"normalized error: \", fracerr_norm)\n",
    "\n",
    "\n",
    "#print(\"total number density: \", total_num_density)\n",
    "\n",
    "# apply normalization: \n",
    "#print(number_density)\n",
    "norm_number_density = number_density/total_num_density\n",
    "print(norm_number_density)\n",
    "\n",
    "import matplotlib.pyplot as plt\n",
    "#figure of systematics:\n",
    "\n",
    "fracerr = 1/np.sqrt(h) #1 / sqrt(number of cmass galaxies in each bin)\n",
    "\n",
    "# change to number density: divide by area\n",
    "fig, ax = plt.subplots()\n",
    "ax.errorbar( pcenter, norm_number_density, yerr=fracerr_norm, label = \"dmass in validation\")\n",
    "ax.errorbar( pcenter, norm_number_density_ran, yerr=fracerr_ran_norm, label = \"randoms in validation\")\n",
    "plt.legend()\n",
    "plt.xlabel(\"pca0\")\n",
    "plt.ylabel(\"n_gal/n_tot 512\")\n",
    "#plt.ylim(top=1.2)  # adjust the top leaving bottom unchanged\n",
    "#plt.ylim(bottom=0.85)\n",
    "plt.axhline(y=1, color='grey', linestyle='--')\n",
    "plt.title('pca0 systematic check')\n",
    "fig.savefig('pca0.pdf')"
   ]
  },
  {
   "cell_type": "code",
   "execution_count": 22,
   "id": "e6592479-3368-408b-ba36-4d742fb90558",
   "metadata": {},
   "outputs": [
    {
     "name": "stdout",
     "output_type": "stream",
     "text": [
      "chi2_ran:  2.4632900806655815\n"
     ]
    }
   ],
   "source": [
    "#chi**2 values for qualitative analysis:\n",
    "# difference of (randoms-horizontal line)**2/err_ran**2\n",
    "x1_ran = norm_number_density_ran\n",
    "x2_ran = 1\n",
    "err_ran = fracerr_ran_norm\n",
    "chi2_ran = (x1_ran-x2_ran)**2 / err_ran **2 \n",
    "chi2_ran_reduced = sum(chi2_ran)/chi2_ran.size\n",
    "print(\"chi2_ran: \",chi2_ran_reduced)"
   ]
  },
  {
   "cell_type": "code",
   "execution_count": 24,
   "id": "84621b4f-5cc4-412f-869d-fb58c3410a67",
   "metadata": {},
   "outputs": [
    {
     "name": "stdout",
     "output_type": "stream",
     "text": [
      "          2\n",
      "0.001552 x - 0.0265 x + 1.055\n",
      "[1.21077098 1.15855912 1.11197681 1.07102403 1.0357008  1.00600712\n",
      " 0.98194297 0.96350838 0.95070332 0.94352781 0.94198184 0.94606541]\n",
      "[-4.62591949 -3.27899763 -1.93207576 -0.58515389  0.76176797  2.10868984\n",
      "  3.4556117   4.80253357  6.14945544  7.4963773   8.84329917 10.19022103]\n",
      "chi2:  1.4479525012411552\n"
     ]
    },
    {
     "data": {
      "image/png": "[encoded data removed]",
      "text/plain": [
       "<Figure size 432x288 with 1 Axes>"
      ]
     },
     "metadata": {
      "needs_background": "light"
     },
     "output_type": "display_data"
    }
   ],
   "source": [
    "# fit to trend:\n",
    "\n",
    "fig,ax = plt.subplots(1,1)\n",
    "#linear trends first -- chi2 for higher order study --- check for threshold value (afterward)\n",
    "z = np.polyfit(pcenter, norm_number_density, 1)\n",
    "p = np.poly1d(z)\n",
    "\n",
    "print(p)\n",
    "print(p(pcenter))\n",
    "print(pcenter)\n",
    "\n",
    "ax.plot(pcenter,p(pcenter),\"r--\")\n",
    "ax.errorbar( pcenter, norm_number_density, yerr=fracerr_norm, label = \"dmass in validation\")\n",
    "\n",
    "#plt.ylim(top=1.4)  # adjust the top leaving bottom unchanged\n",
    "#plt.ylim(bottom=0.8)\n",
    "#plt.xlim(right=10) \n",
    "#plt.xlim(left=-4)\n",
    "\n",
    "plt.title('pca0 systematic trendline')\n",
    "fig.savefig('pca0_trend.pdf')\n",
    "\n",
    "# chi2 of dmass versus trend line\n",
    "#difference of (dmass - correction line)**2/err**2\n",
    "\n",
    "x1 = norm_number_density\n",
    "x2 = p(pcenter)\n",
    "err = fracerr_norm\n",
    "chi2 = (x1-x2)**2 / err **2 \n",
    "chi2_reduced = sum(chi2)/(chi2.size-2) #or -3 for quad.\n",
    "print(\"chi2: \",chi2_reduced)\n",
    "\n",
    "#chi2:  2.3939703102017886 for linear\n",
    "#chi2:  1.4479525012411552 for quadratic\n",
    "\n",
    "# difference between sum(chi2) between models (free parameters-- 1 new, want more than 1 better in sum(chi2))"
   ]
  },
  {
   "cell_type": "code",
   "execution_count": null,
   "id": "68d1c8f8-2c8b-4dbd-914b-f242aaabe7d2",
   "metadata": {},
   "outputs": [],
   "source": [
    "# difference of (dmasslineaer correction - line)**2/err**2"
   ]
  },
  {
   "cell_type": "code",
   "execution_count": 3,
   "id": "52643865-415c-4d7f-bca1-5a98ae95dcea",
   "metadata": {},
   "outputs": [
    {
     "name": "stdout",
     "output_type": "stream",
     "text": [
      "[[-2.07537566e-02 -1.95457183e-02 -2.73950932e-02 ... -6.17765424e-02\n",
      "  -5.57316517e-02 -3.98589113e-02]\n",
      " [ 3.71217026e-02  5.75263157e-02  4.51335295e-02 ...  9.51401082e-02\n",
      "   2.42980353e-01 -3.06897833e-03]\n",
      " [-1.96756834e-01 -2.06489219e-01 -1.95401935e-01 ...  1.61927170e-01\n",
      "  -8.05129218e-04  7.42486869e-02]\n",
      " ...\n",
      " [-4.19872171e-04  1.31592465e-04 -4.98552018e-04 ... -1.59815887e-02\n",
      "  -5.98852829e-03  1.92143864e-02]\n",
      " [ 8.73104078e-04 -2.89521157e-03 -1.32073639e-03 ...  6.65218219e-02\n",
      "  -8.28939810e-03 -1.12366500e-02]\n",
      " [ 7.69732116e-04  1.26467871e-04  2.29173069e-04 ... -3.71412902e-02\n",
      "   5.55342363e-02  2.04643710e-03]]\n"
     ]
    }
   ],
   "source": [
    "loadings = np.load('/fs/scratch/PCON0008/warner785/bwarner/pca_maps_jointmask_no_stars1623/loadings.npy',allow_pickle=True)\n",
    "print(loadings)"
   ]
  },
  {
   "cell_type": "code",
   "execution_count": 4,
   "id": "cb4e013c-659c-44dc-a5c0-5333608d846b",
   "metadata": {},
   "outputs": [
    {
     "name": "stdout",
     "output_type": "stream",
     "text": [
      "['airmass_maxg' 'airmass_maxi' 'airmass_maxr' 'airmass_maxz'\n",
      " 'airmass_ming' 'airmass_mini' 'airmass_minr' 'airmass_minz' 'airmassg'\n",
      " 'airmassi' 'airmassr' 'airmassz' 'exptimeg' 'exptimei' 'exptimer'\n",
      " 'exptimez' 'fgcm_gry_ming' 'fgcm_gry_mini' 'fgcm_gry_minr'\n",
      " 'fgcm_gry_minz' 'fgcm_gryg' 'fgcm_gryi' 'fgcm_gryr' 'fgcm_gryz'\n",
      " 'fwhm_fluxrad_maxg' 'fwhm_fluxrad_maxi' 'fwhm_fluxrad_maxr'\n",
      " 'fwhm_fluxrad_maxz' 'fwhm_fluxrad_ming' 'fwhm_fluxrad_mini'\n",
      " 'fwhm_fluxrad_minr' 'fwhm_fluxrad_minz' 'fwhm_fluxradg' 'fwhm_fluxradi'\n",
      " 'fwhm_fluxradr' 'fwhm_fluxradz' 'fwhm_maxg' 'fwhm_maxi' 'fwhm_maxr'\n",
      " 'fwhm_maxz' 'fwhm_ming' 'fwhm_mini' 'fwhm_minr' 'fwhm_minz' 'fwhmg'\n",
      " 'fwhmi' 'fwhmr' 'fwhmz' 'magauto_depthg' 'magauto_depthi'\n",
      " 'magauto_depthr' 'magauto_depthz' 'maglimg' 'maglimi' 'maglimr' 'maglimz'\n",
      " 'sfd98' 'sigma_mag_zerog' 'sigma_mag_zeroi' 'sigma_mag_zeror'\n",
      " 'sigma_mag_zeroz' 'skybriteg' 'skybritei' 'skybriter' 'skybritez'\n",
      " 'skyvar_maxg' 'skyvar_maxi' 'skyvar_maxr' 'skyvar_maxz' 'skyvar_ming'\n",
      " 'skyvar_mini' 'skyvar_minr' 'skyvar_minz' 'skyvar_sqrtg' 'skyvar_sqrti'\n",
      " 'skyvar_sqrtr' 'skyvar_sqrtz' 'skyvar_uncertg' 'skyvar_uncerti'\n",
      " 'skyvar_uncertr' 'skyvar_uncertz' 'skyvarg' 'skyvari' 'skyvarr' 'skyvarz'\n",
      " 'sof_depthg' 'sof_depthi' 'sof_depthr' 'sof_depthz' 'stars_1620'\n",
      " 'stellar_dens' 't_eff_exptimeg' 't_eff_exptimei' 't_eff_exptimer'\n",
      " 't_eff_exptimez' 't_eff_maxg' 't_eff_maxi' 't_eff_maxr' 't_eff_maxz'\n",
      " 't_eff_ming' 't_eff_mini' 't_eff_minr' 't_eff_minz' 't_effg' 't_effi'\n",
      " 't_effr' 't_effz']\n"
     ]
    }
   ],
   "source": [
    "# variables.npy for orderings of PCA maps\n",
    "# it will open the object as a numpy array (because that is what it was saved as). \n",
    "#the allow_pickle=True just lets the function run code to create the object, \n",
    "#which is normally not permitted by default\n",
    "\n",
    "variables = np.load('/fs/scratch/PCON0008/warner785/bwarner/pca_maps_jointmask_no_stars1623/variables.npy',allow_pickle=True)\n",
    "print(variables)"
   ]
  },
  {
   "cell_type": "code",
   "execution_count": 3,
   "id": "66a7a5c9-3e6c-46ad-bfbd-53f1d469c0fd",
   "metadata": {},
   "outputs": [
    {
     "name": "stdout",
     "output_type": "stream",
     "text": [
      "\n",
      "Calling catalogs >>>\n",
      "pca0_ALL_maps_4096_ring_jointmask.fits.gz\n",
      "reading 1/1 /fs/scratch/PCON0008/warner785/bwarner/pca_maps_jointmask_no_stars1623/pca0_ALL_maps_4096_ring_jointmask.fits.gz\n",
      "[( 91170222, 11.9339094 , 1.      ) ( 91170223, 11.92801395, 1.      )\n",
      " ( 91170224, 11.91743407, 1.      ) ... (193881935, 10.00446293, 1.      )\n",
      " (193881936,  9.98765322, 1.      ) (193881937,  9.97095354, 0.984375)]\n"
     ]
    }
   ],
   "source": [
    "input_path = '/fs/scratch/PCON0008/warner785/bwarner/pca_maps_jointmask_no_stars1623/'\n",
    "#y3/band_z/\n",
    "input_keyword = 'pca0'\n",
    "sysMap = io.SearchAndCallFits(path = input_path, keyword = input_keyword)\n",
    "print(sysMap)"
   ]
  },
  {
   "cell_type": "code",
   "execution_count": null,
   "id": "2f5cddef-f6a5-4198-b6e3-625b4d6db48b",
   "metadata": {},
   "outputs": [],
   "source": [
    "#so load all of the SP maps and sum them together using\n",
    "#PCX = \\sum_Y loading_rowY_colX * SP_Y\n",
    "#or\n",
    "#PCX = \\sum_Y loading_rowX_colY * SP_i"
   ]
  },
  {
   "cell_type": "code",
   "execution_count": 5,
   "id": "aa40a408-fd7b-435b-8ef8-aadb264f6c22",
   "metadata": {},
   "outputs": [],
   "source": [
    "#you can take each row of loadings.npy and find the elements with the largest absolute values and \n",
    "#list a few of them. That way you can say things like PCA0 is X% this map and Y% that map, and Z% everything else\n",
    "import sys\n",
    "sys.path.append('/users/PCON0003/warner785/lss_sys/')"
   ]
  },
  {
   "cell_type": "code",
   "execution_count": 6,
   "id": "962e8653-3b8d-427a-9b30-06e0ba62e94f",
   "metadata": {},
   "outputs": [
    {
     "name": "stdout",
     "output_type": "stream",
     "text": [
      "Reading config file\n",
      "Working with Y3\n",
      "skymapper not found, some visualisation tools won't work\n"
     ]
    }
   ],
   "source": [
    "import lsssys.config\n",
    "\n",
    "spconfig = lsssys.config.sysmap_shortnames_2col_format_Y3 #dictionary \n",
    "# other dictionary needed as well for different file format\n",
    "\n",
    "#get missing files from nersc"
   ]
  },
  {
   "cell_type": "code",
   "execution_count": 7,
   "id": "0eda93e3-b06b-475b-8b6e-25e9df59588e",
   "metadata": {},
   "outputs": [],
   "source": [
    "spconfig['airmass']\n",
    "\n",
    "path_sys = '/fs/scratch/PCON0003/warner785/bwarner/y3/band_{band}/'"
   ]
  },
  {
   "cell_type": "code",
   "execution_count": 9,
   "id": "79c7a38a-4299-44eb-a4c6-f77fc1118c1b",
   "metadata": {},
   "outputs": [],
   "source": [
    "#for shortname in variables:\n",
    "#    systype = shortname[:-1]\n",
    "#    band = shortname[-1]\n",
    "#    syspath = path_sys.format(band=band) + spconfig[systype]['filename']\n",
    "    \n",
    "# edit:\n",
    "for shortname in variables:\n",
    "    systype = shortname[:-1]\n",
    "    band = shortname[-1]\n",
    "\n",
    "    if systype in spconfig.keys():\n",
    "        syspath = path_sys.format(band=band) + spconfig[systype]['filename']"
   ]
  },
  {
   "cell_type": "code",
   "execution_count": null,
   "id": "c4c6c5ea-6f20-4d2b-a2a1-cc3a3e700b10",
   "metadata": {},
   "outputs": [],
   "source": [
    "pc0_coeff = loadings[:0]\n",
    "sysmap_list = [<loaded sysmap 1>, <loaded sysmap 2>, ….]\n",
    "\n",
    "a = loadings[0]   # or loadings[:,0]\n",
    "s = np.argsort(a)\n",
    "largest5index = s[-5:]\n",
    "\n",
    "largest5names = np.array(variables)[largest5index]\n",
    "largest5coeff = a[largest5index]\n",
    "\n",
    "print(largest5names, largest5coeff)"
   ]
  }
 ],
 "metadata": {
  "kernelspec": {
   "display_name": "Python (DES_env)",
   "language": "python",
   "name": "des_env"
  },
  "language_info": {
   "codemirror_mode": {
    "name": "ipython",
    "version": 3
   },
   "file_extension": ".py",
   "mimetype": "text/x-python",
   "name": "python",
   "nbconvert_exporter": "python",
   "pygments_lexer": "ipython3",
   "version": "3.7.0"
  }
 },
 "nbformat": 4,
 "nbformat_minor": 5
}
