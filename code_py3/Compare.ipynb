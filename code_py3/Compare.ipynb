{
 "cells": [
  {
   "cell_type": "code",
   "execution_count": 1,
   "id": "844307fc-6644-436e-82bc-16474268d0a2",
   "metadata": {},
   "outputs": [
    {
     "name": "stderr",
     "output_type": "stream",
     "text": [
      "In /users/PCON0003/warner785/.conda/envs/DES_env/lib/python3.7/site-packages/matplotlib/mpl-data/stylelib/_classic_test.mplstyle: \n",
      "The savefig.frameon rcparam was deprecated in Matplotlib 3.1 and will be removed in 3.3.\n",
      "In /users/PCON0003/warner785/.conda/envs/DES_env/lib/python3.7/site-packages/matplotlib/mpl-data/stylelib/_classic_test.mplstyle: \n",
      "The verbose.level rcparam was deprecated in Matplotlib 3.1 and will be removed in 3.3.\n",
      "In /users/PCON0003/warner785/.conda/envs/DES_env/lib/python3.7/site-packages/matplotlib/mpl-data/stylelib/_classic_test.mplstyle: \n",
      "The verbose.fileo rcparam was deprecated in Matplotlib 3.1 and will be removed in 3.3.\n",
      "WARNING: AstroMLDeprecationWarning: 'decorators' has been moved to 'astroML.utils' and will be removed from the main namespace in the future. [astroML.decorators]\n"
     ]
    }
   ],
   "source": [
    "import os, sys\n",
    "import esutil\n",
    "import healpy as hp\n",
    "import numpy as np\n",
    "import fitsio\n",
    "\n",
    "%matplotlib inline\n",
    "\n",
    "%load_ext autoreload\n",
    "%autoreload 2\n",
    "\n",
    "sys.path.append('code_py3/')\n",
    "from cmass_modules import io\n",
    "from utils import matchCatalogsbyPosition, hpHEALPixelToRaDec, HealPixifyCatalogs, spatialcheck\n",
    "from xd import mixing_color, XD_fitting_X, assignCMASSProb, doVisualization_1d\n",
    "from run_DMASS import priorCut_test\n",
    "\n",
    "import pickle\n",
    "\n",
    "# Su's pickle file: changing from 'b'\n",
    "outdir = '../code/output/n2/'\n",
    "cmass_su_pickle = outdir+'gold_st82_XD_cmass_full_tol1e5.pkl'  # cmass Su\n",
    "cmass_su_no_pickle = outdir+'gold_st82_XD_no_full_tol1e5.pkl' # noncmass Su\n",
    "#clf_cmass_su = XD_fitting_X( None, None, pickleFileName = cmass_su_pickle)\n",
    "\n",
    "f = open(cmass_su_pickle, 'rb')\n",
    "g = open(cmass_su_no_pickle, 'rb')\n",
    "\n",
    "clf_cmass_su = pickle.load(f, encoding=\"latin1\")\n",
    "clf_cmass_su = clf_cmass_su['retval']\n",
    "clf_nocmass_su = pickle.load(g, encoding=\"latin1\")\n",
    "clf_nocmass_su = clf_nocmass_su['retval']\n",
    "X_sample_cmass_su = clf_cmass_su.sample(200000)        # non-cmass model\n",
    "X_sample_nocmass_su = clf_nocmass_su.sample(200000)"
   ]
  },
  {
   "cell_type": "code",
   "execution_count": 4,
   "id": "9b76a25a-93f8-45a3-a477-f2dfe1cce773",
   "metadata": {},
   "outputs": [],
   "source": [
    "outdir2 = 'output/test/fitting/'\n",
    "cmass_bovy = outdir2+'gauss_gold_bovySET.xdgmm'\n",
    "cmass_nobovy = outdir2+'gauss_nogold_bovySET.xdgmm'\n",
    "\n",
    "#clf_cmass_bovy = open(cmass_bovy)\n",
    "#clf_cmass_nobovy = open(cmass_nobovy)"
   ]
  },
  {
   "cell_type": "code",
   "execution_count": 6,
   "id": "8aa64fd8-0f89-4f5c-8dd2-0883aecb66f9",
   "metadata": {},
   "outputs": [
    {
     "name": "stdout",
     "output_type": "stream",
     "text": [
      "<_io.TextIOWrapper name='output/test/fitting/gauss_gold_bovySET.xdgmm' mode='r' encoding='UTF-8'>\n",
      "<xd.XDGMM object at 0x2b5ef793b160>\n"
     ]
    }
   ],
   "source": [
    "print(clf_cmass_bovy)\n",
    "print(clf_cmass_su)"
   ]
  },
  {
   "cell_type": "code",
   "execution_count": null,
   "id": "b74c883a-b339-4881-8cc4-ca2515d3627b",
   "metadata": {},
   "outputs": [],
   "source": [
    "#Comparing XD fitting\n",
    "#** plot: Difference between the y values: delta y as function of x\n",
    "#Between XD_fitting and XD_newfitting\n",
    "\n"
   ]
  }
 ],
 "metadata": {
  "kernelspec": {
   "display_name": "Python (DES_env)",
   "language": "python",
   "name": "des_env"
  },
  "language_info": {
   "codemirror_mode": {
    "name": "ipython",
    "version": 3
   },
   "file_extension": ".py",
   "mimetype": "text/x-python",
   "name": "python",
   "nbconvert_exporter": "python",
   "pygments_lexer": "ipython3",
   "version": "3.7.0"
  }
 },
 "nbformat": 4,
 "nbformat_minor": 5
}
