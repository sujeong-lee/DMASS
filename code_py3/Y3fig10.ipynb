{
 "cells": [
  {
   "cell_type": "code",
   "execution_count": 1,
   "id": "6b67b4de-0a6e-4e23-8f03-d269e0039b13",
   "metadata": {},
   "outputs": [
    {
     "name": "stderr",
     "output_type": "stream",
     "text": [
      "In /users/PCON0003/warner785/.conda/envs/DES_env/lib/python3.7/site-packages/matplotlib/mpl-data/stylelib/_classic_test.mplstyle: \n",
      "The savefig.frameon rcparam was deprecated in Matplotlib 3.1 and will be removed in 3.3.\n",
      "In /users/PCON0003/warner785/.conda/envs/DES_env/lib/python3.7/site-packages/matplotlib/mpl-data/stylelib/_classic_test.mplstyle: \n",
      "The verbose.level rcparam was deprecated in Matplotlib 3.1 and will be removed in 3.3.\n",
      "In /users/PCON0003/warner785/.conda/envs/DES_env/lib/python3.7/site-packages/matplotlib/mpl-data/stylelib/_classic_test.mplstyle: \n",
      "The verbose.fileo rcparam was deprecated in Matplotlib 3.1 and will be removed in 3.3.\n"
     ]
    },
    {
     "name": "stdout",
     "output_type": "stream",
     "text": [
      "/users/PCON0003/warner785/DMASS-analysis/measurements/code_py3\n"
     ]
    }
   ],
   "source": [
    "import os, sys\n",
    "import healpy as hp\n",
    "import numpy as np\n",
    "\n",
    "sys.path.append('../../')\n",
    "sys.path.append('/DMASS-analysis/measurements/code_py3/')\n",
    "\n",
    "import esutil\n",
    "import matplotlib.pyplot as plt\n",
    "%matplotlib inline\n",
    "\n",
    "%load_ext autoreload\n",
    "%autoreload 2\n",
    "\n",
    "from utils import *\n",
    "\n",
    "from matplotlib import rc\n",
    "rc('font',**{'family':'sans-serif','sans-serif':['Helvetica']})\n",
    "## for Palatino and other serif fonts use:\n",
    "#rc('font',**{'family':'serif','serif':['Palatino']})\n",
    "rc('text', usetex=True)\n",
    "\n",
    "os.chdir('../../DMASS-analysis/measurements/code_py3/')\n",
    "print(os.getcwd())\n",
    "\n",
    "from calling_catalogs import *\n",
    "\n",
    "rootdir = '/users/PCON0003/warner785/DMASS-analysis/measurements/clustering/'\n",
    "\n",
    "from ggl_mcal import run_ng_jk, run_nn_jk, run_nk_jk, compute_eix_jk, compute_Rgamma_jk, construct_jk, compute_jkcov, save_results"
   ]
  },
  {
   "cell_type": "code",
   "execution_count": 11,
   "id": "0bb2798c-e8c0-4090-a764-f2ff3ae8782d",
   "metadata": {},
   "outputs": [],
   "source": [
    "def calling_lens_catalog(catname=None):\n",
    "\n",
    "    catdir = ''.join([ c+'/' for c in catname.split('/')[:-1]])\n",
    "    os.system('mkdir '+catdir)\n",
    "    dmass = esutil.io.read(catname)\n",
    "    w_dmass = dmass['CMASS_PROB']\n",
    "    print ('Calculating DMASS systematic weights...')\n",
    "    dmass = appendColumn(dmass, name='WEIGHT', value= w_dmass )\n",
    "#   dmass = dmass[ dmass['CMASS_PROB'] > 0.01 ]   # for low probability galaxies\n",
    "    esutil.io.write(catname, dmass)\n",
    "    #randoms = esutil.io.read('/n/des/lee.5922/data/dmass_cat/random_x50_dmass_spt_masked.fits')\n",
    "    \n",
    "    randoms = esutil.io.read('/fs/scratch/PCON0003/warner785/bwarner/random_dmass_y1_public_v1.fits')\n",
    "#    randoms = esutil.io.read('/users/PCON0003/warner785/DMASSY3/output/test/train_cat/y3/dmass_st82_DET200_randoms.fits')\n",
    "    \n",
    "#    catdir = ''.join([ c+'/' for c in catname.split('/')[:-1]])\n",
    "#    os.system('mkdir '+catdir)\n",
    "#    dmass = esutil.io.read('/n/des/lee.5922/data/dmass_cat/dmass_spt_sys_v3.fits')\n",
    "    w_dmass = dmass['CMASS_PROB'] *dmass['SYS_WEIGHT']\n",
    "    print ('Calculatig DMASS systematic weights...')\n",
    "    dmass['WEIGHT'] = w_dmass\n",
    "    dmass = dmass[ dmass['CMASS_PROB'] > 0.01 ]\n",
    "    \n",
    "    # find cutoff later\n",
    "#    dmass = dmass[ dmass['CMASS_PROB'] > 0.01 ]\n",
    "    esutil.io.write(catname, dmass)\n",
    "    #randoms = esutil.io.read('/n/des/lee.5922/data/dmass_cat/random_x50_dmass_spt_masked.fits')\n",
    "\n",
    "#    randoms = esutil.io.read('/n/des/lee.5922/data/dmass_cat/random_x50_dmass_spt_masked.fits')\n",
    "\n",
    "    print ('Resulting catalog size')\n",
    "    print ('DMASS=', np.sum(dmass['WEIGHT']) )\n",
    "    print ('randoms=', randoms.size)\n",
    "    return dmass, randoms"
   ]
  },
  {
   "cell_type": "code",
   "execution_count": 4,
   "id": "cda7fce1-231c-4bbb-984a-a579fc1acfca",
   "metadata": {},
   "outputs": [
    {
     "name": "stdout",
     "output_type": "stream",
     "text": [
      "Calculating DMASS systematic weights...\n",
      "Calculatig DMASS systematic weights...\n",
      "Resulting catalog size\n",
      "DMASS= 27618.543122842555\n",
      "randoms= 5864645\n",
      "('COADD_OBJECT_ID', 'RA', 'DEC', 'HPIX_4096', 'MAG_DETMODEL_G', 'MAGERR_DETMODEL_G', 'MAG_DETMODEL_R', 'MAGERR_DETMODEL_R', 'MAG_DETMODEL_I', 'MAGERR_DETMODEL_I', 'MAG_DETMODEL_Z', 'MAGERR_DETMODEL_Z', 'MOF_CM_MAG_ERR_G', 'MOF_CM_MAG_ERR_R', 'MOF_CM_MAG_ERR_I', 'MOF_CM_MAG_ERR_Z', 'MOF_CM_MAG_CORRECTED_G', 'MOF_CM_MAG_CORRECTED_R', 'MOF_CM_MAG_CORRECTED_I', 'MOF_CM_MAG_CORRECTED_Z', 'SOF_CM_MAG_ERR_G', 'SOF_CM_MAG_ERR_R', 'SOF_CM_MAG_ERR_I', 'SOF_CM_MAG_ERR_Z', 'SOF_CM_MAG_CORRECTED_G', 'SOF_CM_MAG_CORRECTED_R', 'SOF_CM_MAG_CORRECTED_I', 'SOF_CM_MAG_CORRECTED_Z', 'EXTENDED_CLASS_MASH_SOF', 'CMASS_PROB', 'WEIGHT', 'SYS_WEIGHT')\n"
     ]
    }
   ],
   "source": [
    "dmass_val, randoms = calling_lens_catalog('../../../DMASSY3/output/test/train_cat/y3/dmass_sys_weight_val_FULL_lin.fits')\n",
    "print(dmass_val.dtype.names)"
   ]
  },
  {
   "cell_type": "code",
   "execution_count": 12,
   "id": "c6d8a318-7a56-4190-a0fa-16459c3733bd",
   "metadata": {},
   "outputs": [
    {
     "name": "stdout",
     "output_type": "stream",
     "text": [
      "Calculating DMASS systematic weights...\n",
      "Calculatig DMASS systematic weights...\n",
      "Resulting catalog size\n",
      "DMASS= 26735.92056563343\n",
      "randoms= 5864645\n",
      "('COADD_OBJECT_ID', 'RA', 'DEC', 'HPIX_4096', 'MAG_DETMODEL_G', 'MAGERR_DETMODEL_G', 'MAG_DETMODEL_R', 'MAGERR_DETMODEL_R', 'MAG_DETMODEL_I', 'MAGERR_DETMODEL_I', 'MAG_DETMODEL_Z', 'MAGERR_DETMODEL_Z', 'MOF_CM_MAG_ERR_G', 'MOF_CM_MAG_ERR_R', 'MOF_CM_MAG_ERR_I', 'MOF_CM_MAG_ERR_Z', 'MOF_CM_MAG_CORRECTED_G', 'MOF_CM_MAG_CORRECTED_R', 'MOF_CM_MAG_CORRECTED_I', 'MOF_CM_MAG_CORRECTED_Z', 'SOF_CM_MAG_ERR_G', 'SOF_CM_MAG_ERR_R', 'SOF_CM_MAG_ERR_I', 'SOF_CM_MAG_ERR_Z', 'SOF_CM_MAG_CORRECTED_G', 'SOF_CM_MAG_CORRECTED_R', 'SOF_CM_MAG_CORRECTED_I', 'SOF_CM_MAG_CORRECTED_Z', 'EXTENDED_CLASS_MASH_SOF', 'CMASS_PROB', 'WEIGHT', 'SYS_WEIGHT')\n"
     ]
    }
   ],
   "source": [
    "dmass_val_cut, randoms = calling_lens_catalog('../../../DMASSY3/output/test/train_cat/y3/dmass_sys_weight_val_FULL_lin.fits')\n",
    "print(dmass_val.dtype.names)"
   ]
  },
  {
   "cell_type": "code",
   "execution_count": 5,
   "id": "7d067645-7809-430e-874a-402bd6a38c26",
   "metadata": {},
   "outputs": [],
   "source": [
    "def keepGoodRegion(des, hpInd = False, balrog=None):\n",
    "    import healpy as hp\n",
    "    import fitsio\n",
    "    # 25 is the faintest object detected by DES\n",
    "    # objects larger than 25 considered as Noise\n",
    "    \n",
    "    path = '/fs/scratch/PCON0003/warner785/bwarner/'\n",
    "    #LSSGoldmask = fitsio.read(path+'Y1LSSmask_v2_il22_seeil4.0_nside4096ring_redlimcut.fits')\n",
    "    #LSSGoldmask = fitsio.read(path+'Y1LSSmask_v1_il22seeil4.04096ring_redlimcut.fits')\n",
    "    LSSGoldmask = fitsio.read(path+'MASK_Y3LSSBAOSOF_22_3_v2p2.fits')\n",
    "    ringhp = hp.nest2ring(4096, [LSSGoldmask['PIXEL']])\n",
    "    #Y1LSSmask_v1_il22seeil4.04096ring_redlimcut.fits\n",
    "    #frac_cut = LSSGoldmask['FRAC'] > 0.8\n",
    "    #ind_good_ring = LSSGoldmask['PIXEL'][frac_cut]\n",
    "    ind_good_ring = ringhp\n",
    "    \n",
    "    # healpixify the catalog.\n",
    "    nside=4096\n",
    "    # Convert silly ra/dec to silly HP angular coordinates.\n",
    "    phi = des['RA'] * np.pi / 180.0\n",
    "    theta = ( 90.0 - des['DEC'] ) * np.pi/180.0\n",
    "\n",
    "    hpInd = hp.ang2pix(nside,theta,phi,nest=False)\n",
    "    keep = np.in1d(hpInd, ind_good_ring)\n",
    "    des = des[keep]\n",
    "    if hpInd is True:\n",
    "        return ind_good_ring\n",
    "    else:\n",
    "        return des"
   ]
  },
  {
   "cell_type": "code",
   "execution_count": 6,
   "id": "42e23e17-5bcd-4d4d-8ed2-69377fd1ce0f",
   "metadata": {},
   "outputs": [],
   "source": [
    "def ra_dec_to_xyz(ra, dec):\n",
    "    \"\"\"Convert ra & dec to Euclidean points\n",
    "    Parameters\n",
    "    ----------\n",
    "    ra, dec : ndarrays\n",
    "    Returns\n",
    "    x, y, z : ndarrays\n",
    "    \"\"\"\n",
    "    sin_ra = np.sin(ra * np.pi / 180.)\n",
    "    cos_ra = np.cos(ra * np.pi / 180.)\n",
    "\n",
    "    sin_dec = np.sin(np.pi / 2 - dec * np.pi / 180.)\n",
    "    cos_dec = np.cos(np.pi / 2 - dec * np.pi / 180.)\n",
    "\n",
    "    return (cos_ra * sin_dec,\n",
    "            sin_ra * sin_dec,\n",
    "            cos_dec)\n",
    "\n",
    "def uniform_sphere(RAlim, DEClim, size=1):\n",
    "    \"\"\"Draw a uniform sample on a sphere\n",
    "    Parameters\n",
    "    ----------\n",
    "    RAlim : tuple\n",
    "        select Right Ascension between RAlim[0] and RAlim[1]\n",
    "        units are degrees\n",
    "    DEClim : tuple\n",
    "        select Declination between DEClim[0] and DEClim[1]\n",
    "    size : int (optional)\n",
    "        the size of the random arrays to return (default = 1)\n",
    "    Returns\n",
    "    -------\n",
    "    RA, DEC : ndarray\n",
    "        the random sample on the sphere within the given limits.\n",
    "        arrays have shape equal to size.\n",
    "    \"\"\"\n",
    "    zlim = np.sin(np.pi * np.asarray(DEClim) / 180.)\n",
    "\n",
    "    z = zlim[0] + (zlim[1] - zlim[0]) * np.random.random(size)\n",
    "    DEC = (180. / np.pi) * np.arcsin(z)\n",
    "    RA = RAlim[0] + (RAlim[1] - RAlim[0]) * np.random.random(size)\n",
    "    \n",
    "    return RA, DEC\n",
    "\n",
    "def uniform_random_on_sphere(data, size = None ):\n",
    "    ra = data['RA']\n",
    "    dec = data['DEC']\n",
    "    \n",
    "    n_features = ra.size\n",
    "    #size = 100 * data.size\n",
    "    \n",
    "    # draw a random sample with N points\n",
    "    ra_R, dec_R = uniform_sphere((min(ra), max(ra)),\n",
    "                                 (min(dec), max(dec)),\n",
    "                                 size)\n",
    "    #data = np.asarray(ra_dec_to_xyz(ra, dec), order='F').T\n",
    "    #data_R = np.asarray(ra_dec_to_xyz(ra_R, dec_R), order='F').T\n",
    "    \n",
    "    #random redshift distribution\n",
    "    \n",
    "    data_R = np.zeros((ra_R.size,), dtype=[('RA', 'float'), ('DEC', 'float')])\n",
    "    data_R['RA'] = ra_R\n",
    "    data_R['DEC'] = dec_R\n",
    "                              \n",
    "    return data_R\n",
    "\n",
    "## ---------------------------------------------\n",
    "## generate randoms in a dmass region\n",
    "random_create = uniform_random_on_sphere(dmass_val, size = 50 * dmass_val.size)\n",
    "# applying LSS mask \n",
    "random_create = keepGoodRegion(random_create)\n",
    "\n",
    "#mask = (gold_st82['RA']>310) & (gold_st82['RA']<360)|(gold_st82['RA']<7)\n",
    "#mask = mask & (gold_st82['DEC']>-10) & (gold_st82['DEC']<10)\n",
    "#gold_st82_train = gold_st82[mask]"
   ]
  },
  {
   "cell_type": "code",
   "execution_count": null,
   "id": "9419e95a-0d8f-411c-a0f2-6a405435f91b",
   "metadata": {},
   "outputs": [],
   "source": [
    "# not yet\n",
    "\n",
    "dmass_2, randoms = calling_lens_catalog('../../../DMASSY3/output/test/train_cat/y3/dmass_sys_weight_val_FULL_pure.fits')\n",
    "print(dmass_2.dtype.names)\n",
    "\n",
    "random2 = uniform_random_on_sphere(dmass_2, size = 50 * dmass_2.size)\n",
    "random2 = keepGoodRegion(random2)"
   ]
  },
  {
   "cell_type": "code",
   "execution_count": 7,
   "id": "e7092116-37f6-40c8-b977-971f298c44bb",
   "metadata": {},
   "outputs": [
    {
     "name": "stdout",
     "output_type": "stream",
     "text": [
      "60037\n"
     ]
    }
   ],
   "source": [
    "# now load in CMASS:\n",
    "\n",
    "import fitsio\n",
    "cmass = esutil.io.read('/fs/scratch/PCON0008/warner785/bwarner/matched_cmass.fits')\n",
    "\n",
    "print(cmass.size)"
   ]
  },
  {
   "cell_type": "code",
   "execution_count": 8,
   "id": "9cf42fad-8dd7-4539-8ab5-469aff353e3e",
   "metadata": {},
   "outputs": [],
   "source": [
    "#validation region\n",
    "# convert\n",
    "mask4 =(cmass['RA']>18)&(cmass['RA']<43)\n",
    "mask4 = mask4 & (cmass['DEC']>-10) & (cmass['DEC']<10)\n",
    "cmass_val = cmass[mask4]"
   ]
  },
  {
   "cell_type": "code",
   "execution_count": 9,
   "id": "dbd773d6-766c-4504-bfe2-890195c4ce6d",
   "metadata": {},
   "outputs": [],
   "source": [
    "from numpy.lib.recfunctions import append_fields\n",
    "weights = np.zeros(len(cmass))\n",
    "for x in range(len(cmass)-1):\n",
    "    weights[x]=1\n",
    "cmass = append_fields(cmass, 'WEIGHT', weights, usemask=False)"
   ]
  },
  {
   "cell_type": "code",
   "execution_count": 10,
   "id": "c0cbcaa4-da92-46d9-b484-0c5b31d5723c",
   "metadata": {},
   "outputs": [],
   "source": [
    "random_cmass = uniform_random_on_sphere(cmass, size = 50 * cmass.size)\n",
    "# applying LSS mask \n",
    "random_cmass = keepGoodRegion(random_cmass)"
   ]
  },
  {
   "cell_type": "code",
   "execution_count": 10,
   "id": "83d93c09-3886-4d36-9429-93330be98124",
   "metadata": {},
   "outputs": [
    {
     "data": {
      "text/plain": [
       "[<matplotlib.lines.Line2D at 0x2b01f61c51d0>]"
      ]
     },
     "execution_count": 10,
     "metadata": {},
     "output_type": "execute_result"
    },
    {
     "data": {
      "image/png": "[encoded data removed]",
      "text/plain": [
       "<Figure size 432x288 with 1 Axes>"
      ]
     },
     "metadata": {
      "needs_background": "light"
     },
     "output_type": "display_data"
    }
   ],
   "source": [
    "fig, ax = plt.subplots()\n",
    "ax.plot( cmass['RA'], cmass['DEC'], \"b.\")\n",
    "ax.plot(random_cmass['RA'], random_cmass['DEC'], \"g.\")"
   ]
  },
  {
   "cell_type": "code",
   "execution_count": 11,
   "id": "6ab3fe67-1f86-4d3f-87c0-3d9eb02ace77",
   "metadata": {},
   "outputs": [
    {
     "data": {
      "text/plain": [
       "[<matplotlib.lines.Line2D at 0x2b78a362f5c0>]"
      ]
     },
     "execution_count": 11,
     "metadata": {},
     "output_type": "execute_result"
    },
    {
     "data": {
      "image/png": "[encoded data removed]",
      "text/plain": [
       "<Figure size 432x288 with 1 Axes>"
      ]
     },
     "metadata": {
      "needs_background": "light"
     },
     "output_type": "display_data"
    }
   ],
   "source": [
    "fig, ax = plt.subplots()\n",
    "ax.plot(random_cmass['RA'], random_cmass['DEC'], \"g.\")\n",
    "ax.plot( cmass['RA'], cmass['DEC'], \"b.\")"
   ]
  },
  {
   "cell_type": "code",
   "execution_count": 10,
   "id": "ca199430-3ed9-4311-996e-76b15f3d0517",
   "metadata": {},
   "outputs": [],
   "source": [
    "def update1(des, hpInd = False, balrog=None):\n",
    "    import healpy as hp\n",
    "    import fitsio\n",
    "\n",
    "    path = '../../../DMASSY3/output/test/train_cat/y3/'\n",
    "    #LSSGoldmask = fitsio.read(path+'Y1LSSmask_v2_il22_seeil4.0_nside4096ring_redlimcut.fits')\n",
    "    #LSSGoldmask = fitsio.read(path+'Y1LSSmask_v1_il22seeil4.04096ring_redlimcut.fits')\n",
    "    LSSGoldmask = fitsio.read(path+'pca48_New_GoldMask_val.fits')\n",
    "    ringhp = hp.nest2ring(4096, [LSSGoldmask['PIXEL']])\n",
    "    #Y1LSSmask_v1_il22seeil4.04096ring_redlimcut.fits\n",
    "    #frac_cut = LSSGoldmask['FRAC'] > 0.8\n",
    "    #ind_good_ring = LSSGoldmask['PIXEL'][frac_cut]\n",
    "    ind_good_ring = ringhp\n",
    "    \n",
    "    # healpixify the catalog.\n",
    "    nside=4096\n",
    "    # Convert silly ra/dec to silly HP angular coordinates.\n",
    "    phi = des['RA'] * np.pi / 180.0\n",
    "    theta = ( 90.0 - des['DEC'] ) * np.pi/180.0\n",
    "\n",
    "    hpInd = hp.ang2pix(nside,theta,phi,nest=False)\n",
    "    keep = np.in1d(hpInd, ind_good_ring)\n",
    "    des = des[keep]\n",
    "    if hpInd is True:\n",
    "        return ind_good_ring\n",
    "    else:\n",
    "        return des"
   ]
  },
  {
   "cell_type": "code",
   "execution_count": 11,
   "id": "a083cc19-4e14-4e28-95e7-b7aeee723cde",
   "metadata": {},
   "outputs": [],
   "source": [
    "def update2(des, hpInd = False, balrog=None):\n",
    "    import healpy as hp\n",
    "    import fitsio\n",
    "\n",
    "    path = '../../../DMASSY3/output/test/train_cat/y3/'\n",
    "    #LSSGoldmask = fitsio.read(path+'Y1LSSmask_v2_il22_seeil4.0_nside4096ring_redlimcut.fits')\n",
    "    #LSSGoldmask = fitsio.read(path+'Y1LSSmask_v1_il22seeil4.04096ring_redlimcut.fits')\n",
    "    LSSGoldmask = fitsio.read(path+'pca1_New_GoldMask_val.fits')\n",
    "    ringhp = hp.nest2ring(4096, [LSSGoldmask['PIXEL']])\n",
    "    #Y1LSSmask_v1_il22seeil4.04096ring_redlimcut.fits\n",
    "    #frac_cut = LSSGoldmask['FRAC'] > 0.8\n",
    "    #ind_good_ring = LSSGoldmask['PIXEL'][frac_cut]\n",
    "    ind_good_ring = ringhp\n",
    "    \n",
    "    # healpixify the catalog.\n",
    "    nside=4096\n",
    "    # Convert silly ra/dec to silly HP angular coordinates.\n",
    "    phi = des['RA'] * np.pi / 180.0\n",
    "    theta = ( 90.0 - des['DEC'] ) * np.pi/180.0\n",
    "\n",
    "    hpInd = hp.ang2pix(nside,theta,phi,nest=False)\n",
    "    keep = np.in1d(hpInd, ind_good_ring)\n",
    "    des = des[keep]\n",
    "    if hpInd is True:\n",
    "        return ind_good_ring\n",
    "    else:\n",
    "        return des"
   ]
  },
  {
   "cell_type": "code",
   "execution_count": 12,
   "id": "07cca473-10ba-4295-8baa-598f34a502bf",
   "metadata": {},
   "outputs": [],
   "source": [
    "def update3(des, hpInd = False, balrog=None):\n",
    "    import healpy as hp\n",
    "    import fitsio\n",
    "\n",
    "    path = '../../../DMASSY3/output/test/train_cat/y3/'\n",
    "    #LSSGoldmask = fitsio.read(path+'Y1LSSmask_v2_il22_seeil4.0_nside4096ring_redlimcut.fits')\n",
    "    #LSSGoldmask = fitsio.read(path+'Y1LSSmask_v1_il22seeil4.04096ring_redlimcut.fits')\n",
    "    LSSGoldmask = fitsio.read(path+'pca21_New_GoldMask_val.fits')\n",
    "    ringhp = hp.nest2ring(4096, [LSSGoldmask['PIXEL']])\n",
    "    #Y1LSSmask_v1_il22seeil4.04096ring_redlimcut.fits\n",
    "    #frac_cut = LSSGoldmask['FRAC'] > 0.8\n",
    "    #ind_good_ring = LSSGoldmask['PIXEL'][frac_cut]\n",
    "    ind_good_ring = ringhp\n",
    "    \n",
    "    # healpixify the catalog.\n",
    "    nside=4096\n",
    "    # Convert silly ra/dec to silly HP angular coordinates.\n",
    "    phi = des['RA'] * np.pi / 180.0\n",
    "    theta = ( 90.0 - des['DEC'] ) * np.pi/180.0\n",
    "\n",
    "    hpInd = hp.ang2pix(nside,theta,phi,nest=False)\n",
    "    keep = np.in1d(hpInd, ind_good_ring)\n",
    "    des = des[keep]\n",
    "    if hpInd is True:\n",
    "        return ind_good_ring\n",
    "    else:\n",
    "        return des"
   ]
  },
  {
   "cell_type": "code",
   "execution_count": 11,
   "id": "264d8419-a9c7-48fa-9aa1-375faf83ba8b",
   "metadata": {},
   "outputs": [],
   "source": [
    "# make visuals of the maps to check\n",
    "\n",
    "#print(random_create.size)\n",
    "#random_create = update1(random_create)\n",
    "#print(random_create.size)\n",
    "#random_create = update2(random_create)\n",
    "#print(random_create.size)\n",
    "#random_create = update3(random_create)\n",
    "#print(random_create.size)\n",
    "\n",
    "#random_cmass = update1(random_cmass)\n",
    "#random_cmass = update2(random_cmass)\n",
    "#random_cmass = update3(random_cmass)\n",
    "\n",
    "randomsind_cmass = np.random.choice( random_cmass.size, size=int(random_cmass.size/3.) )\n",
    "random_cmass = random_cmass[randomsind_cmass]"
   ]
  },
  {
   "cell_type": "code",
   "execution_count": 16,
   "id": "5b93d398-59a3-4b15-aecf-977db32d27b5",
   "metadata": {},
   "outputs": [
    {
     "data": {
      "text/plain": [
       "[<matplotlib.lines.Line2D at 0x2b55a50e86a0>]"
      ]
     },
     "execution_count": 16,
     "metadata": {},
     "output_type": "execute_result"
    },
    {
     "name": "stderr",
     "output_type": "stream",
     "text": [
      "findfont: Font family ['Helvetica'] not found. Falling back to DejaVu Sans.\n"
     ]
    },
    {
     "data": {
      "image/png": "[encoded data removed]",
      "text/plain": [
       "<Figure size 432x288 with 1 Axes>"
      ]
     },
     "metadata": {
      "needs_background": "light"
     },
     "output_type": "display_data"
    }
   ],
   "source": [
    "plt.rcParams.update({\n",
    "  \"text.usetex\": False,\n",
    "  \"font.family\": \"Helvetica\"\n",
    "})\n",
    "\n",
    "fig, ax = plt.subplots()\n",
    "ax.plot( dmass_val['RA'], dmass_val['DEC'], \"b.\")\n",
    "ax.plot(random_create['RA'], random_create['DEC'], \"g.\")"
   ]
  },
  {
   "cell_type": "code",
   "execution_count": 7,
   "id": "7fde9f82-1c3c-44e8-9f42-824b21db4595",
   "metadata": {},
   "outputs": [
    {
     "data": {
      "text/plain": [
       "[<matplotlib.lines.Line2D at 0x2aaebe924668>]"
      ]
     },
     "execution_count": 7,
     "metadata": {},
     "output_type": "execute_result"
    },
    {
     "data": {
      "image/png": "[encoded data removed]",
      "text/plain": [
       "<Figure size 432x288 with 1 Axes>"
      ]
     },
     "metadata": {
      "needs_background": "light"
     },
     "output_type": "display_data"
    }
   ],
   "source": [
    "fig, ax = plt.subplots()\n",
    "ax.plot(random_create['RA'], random_create['DEC'], \"g.\")\n",
    "ax.plot( dmass_val['RA'], dmass_val['DEC'], \"b.\")"
   ]
  },
  {
   "cell_type": "code",
   "execution_count": 8,
   "id": "9169ad4a-9e5c-4d59-97ec-59f5f1db911c",
   "metadata": {},
   "outputs": [],
   "source": [
    "randomsind_create = np.random.choice( random_create.size, size=int(random_create.size/3.) )\n",
    "random_create = random_create[randomsind_create]"
   ]
  },
  {
   "cell_type": "code",
   "execution_count": 9,
   "id": "d6ceb60f-7a96-408a-8696-aa0f603fd859",
   "metadata": {},
   "outputs": [],
   "source": [
    "def treecorr_xi(lens, random=None, filename=None, rootdir=None, \n",
    "\t\tnbins=20, min_sep=2.5, max_sep=250, sep_units='arcmin', bin_slop=0.05, \n",
    "        npatch=10, var_method='jackknife', cen_file = None):\n",
    "    \n",
    "    import treecorr\n",
    "\n",
    "    if cen_file != None:\n",
    "        if os.path.exists(cen_file):\n",
    "            print ('Saved cen_file exists:',cen_file)\n",
    "            cen_file_switch_on = cen_file\n",
    "            npatch=1\n",
    "        else : \n",
    "            print ('Create cen_file=',cen_file)\n",
    "            cen_file_switch_on = None\n",
    "\n",
    "    #temp_dir=filename.split('.txt')[0]\n",
    "    cat_l = treecorr.Catalog(ra=lens['RA'], dec=lens['DEC'], w=lens['WEIGHT'], \n",
    "                             ra_units='deg', dec_units='deg', npatch=npatch, \n",
    "                             patch_centers=cen_file_switch_on )\n",
    "\n",
    "    if cen_file_switch_on == None : \n",
    "        cat_l.write_patch_centers(cen_file)\n",
    "#changed to make weights = 1 for randoms\n",
    "    from numpy.lib.recfunctions import append_fields\n",
    "    weights = np.zeros(len(random))\n",
    "    for x in range(len(random)-1):\n",
    "        weights[x]=1\n",
    "    random = append_fields(random, 'WEIGHT', weights, usemask=False)\n",
    "    \n",
    "    cat_r = treecorr.Catalog(ra=random['RA'], dec=random['DEC'], w=random['WEIGHT'], \n",
    "                             ra_units='deg', dec_units='deg', \n",
    "                             patch_centers=cen_file_switch_on )\n",
    "    \n",
    "    dd = treecorr.NNCorrelation(nbins=nbins, min_sep=min_sep,\n",
    "                            max_sep=max_sep, sep_units=sep_units, bin_slop=bin_slop, \n",
    "                            var_method=var_method,\n",
    "                            num_threads=30, verbose=1)\n",
    "    dr = treecorr.NNCorrelation(nbins=nbins, min_sep=min_sep,\n",
    "                                max_sep=max_sep, sep_units=sep_units, bin_slop=bin_slop, \n",
    "                                var_method=var_method,\n",
    "                                num_threads=30, verbose=1)\n",
    "    rd = treecorr.NNCorrelation(nbins=nbins, min_sep=min_sep,\n",
    "                                max_sep=max_sep, sep_units=sep_units, bin_slop=bin_slop, \n",
    "                                var_method=var_method,\n",
    "                                num_threads=30, verbose=1)\n",
    "    rr = treecorr.NNCorrelation(nbins=nbins, min_sep=min_sep,\n",
    "                                max_sep=max_sep, sep_units=sep_units, bin_slop=bin_slop, \n",
    "                                var_method=var_method,\n",
    "                                num_threads=30, verbose=1)\n",
    "\n",
    "    dd.process(cat_l)\n",
    "    dr.process(cat_l, cat_r)\n",
    "    rd.process(cat_r, cat_l)\n",
    "    rr.process(cat_r)\n",
    "    xi,varxi = dd.calculateXi(rr,dr)\n",
    "    dd.write(filename,rr,dr,rd)\n",
    "    \n",
    "    cov_jk = dd.estimate_cov(var_method)\n",
    "    cov_filename=filename.split('.txt')[0]+'.cov'\n",
    "    np.savetxt(cov_filename, cov_jk)\n",
    "    \n",
    "    print ('save to', filename)\n",
    "    \n",
    "# search for VETO in run_DMASS\n",
    "# ask Su about this, if not"
   ]
  },
  {
   "cell_type": "code",
   "execution_count": 10,
   "id": "9c48788a-cd1c-445c-909b-ebd7049ffc5c",
   "metadata": {},
   "outputs": [
    {
     "name": "stdout",
     "output_type": "stream",
     "text": [
      "Create cen_file= /users/PCON0003/warner785/DMASS-analysis/measurements/clustering//80/nn_cen_file.txt\n",
      "save to /users/PCON0003/warner785/DMASS-analysis/measurements/clustering//80/nn.lens.txt\n"
     ]
    }
   ],
   "source": [
    "npatch=80\n",
    "tempdir = rootdir+'/{}/'.format(npatch)\n",
    "cen_file = tempdir + 'nn_cen_file.txt'\n",
    "filename = tempdir + 'nn.lens.txt'\n",
    "\n",
    "#os.system('mkdir '+savedir)\n",
    "#print (os.path.exists(tempdir) )\n",
    "os.system('rm -rf '+tempdir)\n",
    "os.system('mkdir '+tempdir)\n",
    "\n",
    "# default of poisson errors -- try this\n",
    "# ***save to different variables to compare different methods of errors\n",
    "\n",
    "treecorr_xi(dmass_val, random=random_create,\n",
    "        filename=filename, rootdir = tempdir, \n",
    "        nbins=20, min_sep=2.5, max_sep=250., sep_units='arcmin', bin_slop=0.05,\n",
    "        npatch=npatch, cen_file=cen_file, var_method='jackknife')\n",
    "\n",
    "cov_new_dmass= np.genfromtxt(tempdir+'/nn.lens.cov'.format(npatch))\n",
    "_, meanr, _, galaxy_xi, xi_err,_,_,_,_,_ = np.genfromtxt(tempdir+'nn.lens.txt'.format(npatch), unpack=True)"
   ]
  },
  {
   "cell_type": "code",
   "execution_count": 15,
   "id": "240410a9-ac50-42f8-85ec-73384bd2e947",
   "metadata": {},
   "outputs": [
    {
     "name": "stdout",
     "output_type": "stream",
     "text": [
      "Create cen_file= /users/PCON0003/warner785/DMASS-analysis/measurements/clustering//80/nn_cen_file_cmass.txt\n",
      "save to /users/PCON0003/warner785/DMASS-analysis/measurements/clustering//80/nn.lens_cmass.txt\n"
     ]
    }
   ],
   "source": [
    "npatch=80\n",
    "tempdir = rootdir+'/{}/'.format(npatch)\n",
    "cen_file = tempdir + 'nn_cen_file_cmass.txt'\n",
    "filename = tempdir + 'nn.lens_cmass.txt'\n",
    "\n",
    "#os.system('mkdir '+savedir)\n",
    "#print (os.path.exists(tempdir) )\n",
    "os.system('rm -rf '+tempdir)\n",
    "os.system('mkdir '+tempdir)\n",
    "\n",
    "# default of poisson errors -- try this\n",
    "# ***save to different variables to compare different methods of errors\n",
    "\n",
    "treecorr_xi(cmass, random=random_cmass,\n",
    "        filename=filename, rootdir = tempdir, \n",
    "        nbins=20, min_sep=2.5, max_sep=250., sep_units='arcmin', bin_slop=0.05,\n",
    "        npatch=npatch, cen_file=cen_file, var_method='jackknife')\n",
    "\n",
    "cov_new= np.genfromtxt(tempdir+'/nn.lens_cmass.cov'.format(npatch))\n",
    "_, meanr_cmass, _, galaxy_xi_cmass, xi_err_cmass,_,_,_,_,_ = np.genfromtxt(tempdir+'nn.lens_cmass.txt'.format(npatch), unpack=True)"
   ]
  },
  {
   "cell_type": "code",
   "execution_count": 13,
   "id": "03762db3-674f-4325-a45e-3ad96f5a9fb7",
   "metadata": {},
   "outputs": [
    {
     "name": "stdout",
     "output_type": "stream",
     "text": [
      "Create cen_file= /users/PCON0003/warner785/DMASS-analysis/measurements/clustering//80/nn_cen_file.txt\n",
      "save to /users/PCON0003/warner785/DMASS-analysis/measurements/clustering//80/nn.lens.txt\n"
     ]
    }
   ],
   "source": [
    "#Other dmass-- Prob Cut\n",
    "\n",
    "npatch=80\n",
    "tempdir = rootdir+'/{}/'.format(npatch)\n",
    "cen_file = tempdir + 'nn_cen_file.txt'\n",
    "filename = tempdir + 'nn.lens.txt'\n",
    "\n",
    "#os.system('mkdir '+savedir)\n",
    "#print (os.path.exists(tempdir) )\n",
    "os.system('rm -rf '+tempdir)\n",
    "os.system('mkdir '+tempdir)\n",
    "\n",
    "# default of poisson errors -- try this\n",
    "# ***save to different variables to compare different methods of errors\n",
    "\n",
    "treecorr_xi(dmass_val_cut, random=random_cut,\n",
    "        filename=filename, rootdir = tempdir, \n",
    "        nbins=20, min_sep=2.5, max_sep=250., sep_units='arcmin', bin_slop=0.05,\n",
    "        npatch=npatch, cen_file=cen_file, var_method='jackknife')\n",
    "\n",
    "cov_new_dmass_cut= np.genfromtxt(tempdir+'/nn.lens.cov'.format(npatch))\n",
    "_, meanr_cut, _, galaxy_xi_cut, xi_err_cut,_,_,_,_,_ = np.genfromtxt(tempdir+'nn.lens.txt'.format(npatch), unpack=True)"
   ]
  },
  {
   "cell_type": "code",
   "execution_count": 16,
   "id": "de409486-3448-45d3-90ce-40c20eeca528",
   "metadata": {},
   "outputs": [
    {
     "data": {
      "image/png": "[encoded data removed]",
      "text/plain": [
       "<Figure size 432x288 with 1 Axes>"
      ]
     },
     "metadata": {
      "needs_background": "light"
     },
     "output_type": "display_data"
    }
   ],
   "source": [
    "fig, ax = plt.subplots()\n",
    "\n",
    "#ax.loglog(theta, galaxy_xi_theory)\n",
    "#ax.errorbar( theta, galaxy_xi_theory, np.sqrt(cov.diagonal()))\n",
    "ax.errorbar( meanr_cmass, galaxy_xi_cmass, xi_err_cmass )\n",
    "ax.errorbar( meanr, galaxy_xi, xi_err)\n",
    "ax.set_xscale('log')\n",
    "#ax.set_yscale('log')"
   ]
  },
  {
   "cell_type": "code",
   "execution_count": 14,
   "id": "e4465dd9-1e4e-4333-bdb0-c2bd8373a358",
   "metadata": {},
   "outputs": [
    {
     "data": {
      "image/png": "[encoded data removed]",
      "text/plain": [
       "<Figure size 432x288 with 1 Axes>"
      ]
     },
     "metadata": {
      "needs_background": "light"
     },
     "output_type": "display_data"
    }
   ],
   "source": [
    "# difference of dmass with and without prob cut\n",
    "\n",
    "fig, ax = plt.subplots()\n",
    "\n",
    "ax.errorbar( meanr, (galaxy_xi-galaxy_xi_cut), xi_err )\n",
    "ax.set_xscale('log')"
   ]
  },
  {
   "cell_type": "code",
   "execution_count": 15,
   "id": "62dba9fd-de13-45fb-a06e-88412ee4e532",
   "metadata": {},
   "outputs": [
    {
     "data": {
      "image/png": "[encoded data removed]",
      "text/plain": [
       "<Figure size 432x288 with 1 Axes>"
      ]
     },
     "metadata": {
      "needs_background": "light"
     },
     "output_type": "display_data"
    }
   ],
   "source": [
    "# difference of dmass with and without prob cut\n",
    "\n",
    "fig, ax = plt.subplots()\n",
    "\n",
    "ax.errorbar( meanr, galaxy_xi, xi_err )\n",
    "ax.errorbar( meanr_cut, galaxy_xi_cut, xi_err_cut )\n",
    "ax.set_xscale('log')"
   ]
  },
  {
   "cell_type": "code",
   "execution_count": null,
   "id": "09962a0e-c6aa-4418-a989-156f93b554f3",
   "metadata": {},
   "outputs": [],
   "source": []
  }
 ],
 "metadata": {
  "kernelspec": {
   "display_name": "Python (DES_env)",
   "language": "python",
   "name": "des_env"
  },
  "language_info": {
   "codemirror_mode": {
    "name": "ipython",
    "version": 3
   },
   "file_extension": ".py",
   "mimetype": "text/x-python",
   "name": "python",
   "nbconvert_exporter": "python",
   "pygments_lexer": "ipython3",
   "version": "3.7.0"
  }
 },
 "nbformat": 4,
 "nbformat_minor": 5
}
