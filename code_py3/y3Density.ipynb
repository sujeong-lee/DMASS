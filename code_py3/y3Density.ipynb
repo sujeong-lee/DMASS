{
 "cells": [
  {
   "cell_type": "code",
   "execution_count": 1,
   "id": "e5525b55-bd5a-4368-9975-d4aaf5fa150e",
   "metadata": {},
   "outputs": [
    {
     "name": "stderr",
     "output_type": "stream",
     "text": [
      "WARNING: AstroMLDeprecationWarning: 'decorators' has been moved to 'astroML.utils' and will be removed from the main namespace in the future. [astroML.decorators]\n",
      "In /users/PCON0003/warner785/.conda/envs/DES_env/lib/python3.7/site-packages/matplotlib/mpl-data/stylelib/_classic_test.mplstyle: \n",
      "The savefig.frameon rcparam was deprecated in Matplotlib 3.1 and will be removed in 3.3.\n",
      "In /users/PCON0003/warner785/.conda/envs/DES_env/lib/python3.7/site-packages/matplotlib/mpl-data/stylelib/_classic_test.mplstyle: \n",
      "The verbose.level rcparam was deprecated in Matplotlib 3.1 and will be removed in 3.3.\n",
      "In /users/PCON0003/warner785/.conda/envs/DES_env/lib/python3.7/site-packages/matplotlib/mpl-data/stylelib/_classic_test.mplstyle: \n",
      "The verbose.fileo rcparam was deprecated in Matplotlib 3.1 and will be removed in 3.3.\n"
     ]
    }
   ],
   "source": [
    "import sys\n",
    "sys.path.append('../')\n",
    "from xd import *\n",
    "from utils import *\n",
    "import esutil\n",
    "import healpy as hp\n",
    "from systematics import *\n",
    "from systematics_module import *\n",
    "import os\n",
    "from numpy.lib.recfunctions import append_fields\n",
    "import scipy.stats\n",
    "\n",
    "import matplotlib.pyplot as plt\n",
    "import numpy as np\n",
    "from run_systematics import sys_iteration, weightmultiply, fitting_allSP, calling_sysMap\n",
    "from sys_functions import *"
   ]
  },
  {
   "cell_type": "code",
   "execution_count": 3,
   "id": "b4f3fcea-4f19-40b0-b1ad-604b9f2d5f7d",
   "metadata": {},
   "outputs": [
    {
     "name": "stdout",
     "output_type": "stream",
     "text": [
      "58477.0\n"
     ]
    }
   ],
   "source": [
    "import numpy as np\n",
    "\n",
    "path = '/fs/scratch/PCON0008/warner785/bwarner/'\n",
    "\n",
    "cmass_ngc = esutil.io.read(path+'galaxy_DR12v5_CMASS_North.fits.gz')\n",
    "cmass_sgc = esutil.io.read(path+'galaxy_DR12v5_CMASS_South.fits.gz')\n",
    "cmass_train = keepGoodRegion(cmass_sgc)\n",
    "\n",
    "cmass = np.hstack([cmass_ngc, cmass_sgc])\n",
    "\n",
    "print(np.sum(cmass_train['WEIGHT_CP']))"
   ]
  },
  {
   "cell_type": "code",
   "execution_count": 6,
   "id": "94961eb9-f95b-43bd-9239-7a7797d4f222",
   "metadata": {},
   "outputs": [
    {
     "name": "stdout",
     "output_type": "stream",
     "text": [
      "3221.208600509108 3254.3984021391675\n"
     ]
    }
   ],
   "source": [
    "# calling map \n",
    "path = '/fs/scratch/PCON0008/warner785/bwarner/mocks/'\n",
    "LSSGoldmask = fitsio.read(path+'MASK_Y3LSSBAO_SPT_ring.fits') #BAO is different measurement, may be different from this analysis\n",
    "# 'Y1LSSmask_v2_redlimcut_il22_seeil4.0_4096ring.fits'\n",
    "#GoldMask = callingEliGoldMask()\n",
    "LSSMask = LSSGoldmask\n",
    "GoldMask = LSSGoldmask\n",
    "\n",
    "pixra, pixdec = hp.pix2ang(nside=4096,ipix=GoldMask['PIXEL'],nest=True,lonlat=True)\n",
    "LSSMask = LSSMask[pixdec >-3.0 ]\n",
    "GoldMask_spt = GoldMask[ pixdec < -3.0 ]\n",
    "pixarea = hp.nside2pixarea( 4096, degrees = True)\n",
    "sptnpix = GoldMask_spt['PIXEL'].size #hp.get_map_size( GoldMask_spt['PIXEL'] )\n",
    "SPTMaparea = pixarea * sptnpix\n",
    "\n",
    "sys_path = '/fs/scratch/PCON0008/warner785/bwarner/SPmaps_cut/'\n",
    "sysMap = fitsio.read(sys_path+'FWHM_FLUXRADr.fits')\n",
    "sys_mask = (sysMap['SIGNAL'] < 4.5)\n",
    "map_mask = np.in1d( GoldMask_spt['PIXEL'],  sysMap['PIXEL'][sys_mask])\n",
    "GoldMask_spt_sysmasked = GoldMask_spt[map_mask]\n",
    "sptnpix_sys = np.sum(GoldMask_spt_sysmasked['FRACGOOD']) \n",
    "\n",
    "SPTMaparea_sys = pixarea * sptnpix_sys\n",
    "print(SPTMaparea_sys, SPTMaparea)"
   ]
  },
  {
   "cell_type": "code",
   "execution_count": 14,
   "id": "343274f1-ef26-461b-91e4-1a1a0caae726",
   "metadata": {},
   "outputs": [
    {
     "name": "stdout",
     "output_type": "stream",
     "text": [
      "Resulting catalog size\n",
      "DMASS= 341117.6414259936\n",
      "dmass_st82 sum:  20206.04487947579\n",
      "dmass_spt sum:  341117.6414259936\n",
      "des training sum:  2740075\n"
     ]
    },
    {
     "ename": "ValueError",
     "evalue": "Big-endian buffer not supported on little-endian compiler",
     "output_type": "error",
     "traceback": [
      "\u001b[0;31m---------------------------------------------------------------------------\u001b[0m",
      "\u001b[0;31mValueError\u001b[0m                                Traceback (most recent call last)",
      "\u001b[0;32m<ipython-input-14-43a1c57dcd1d>\u001b[0m in \u001b[0;36m<module>\u001b[0;34m\u001b[0m\n\u001b[1;32m     26\u001b[0m \u001b[0mdesData\u001b[0m \u001b[0;34m=\u001b[0m \u001b[0mpd\u001b[0m\u001b[0;34m.\u001b[0m\u001b[0mDataFrame\u001b[0m\u001b[0;34m(\u001b[0m\u001b[0mdmass_spt\u001b[0m\u001b[0;34m)\u001b[0m\u001b[0;34m\u001b[0m\u001b[0m\n\u001b[1;32m     27\u001b[0m \u001b[0mgoldData\u001b[0m \u001b[0;34m=\u001b[0m \u001b[0mpd\u001b[0m\u001b[0;34m.\u001b[0m\u001b[0mDataFrame\u001b[0m\u001b[0;34m(\u001b[0m\u001b[0mGoldMask_spt\u001b[0m\u001b[0;34m)\u001b[0m\u001b[0;34m\u001b[0m\u001b[0m\n\u001b[0;32m---> 28\u001b[0;31m \u001b[0mmatched\u001b[0m \u001b[0;34m=\u001b[0m \u001b[0mpd\u001b[0m\u001b[0;34m.\u001b[0m\u001b[0mmerge\u001b[0m\u001b[0;34m(\u001b[0m\u001b[0mdesData\u001b[0m\u001b[0;34m,\u001b[0m \u001b[0mgoldData\u001b[0m\u001b[0;34m,\u001b[0m \u001b[0mleft_on\u001b[0m\u001b[0;34m=\u001b[0m\u001b[0;34m'HPIX_4096'\u001b[0m\u001b[0;34m,\u001b[0m \u001b[0mright_on\u001b[0m\u001b[0;34m=\u001b[0m\u001b[0;34m'PIXEL'\u001b[0m\u001b[0;34m,\u001b[0m \u001b[0mhow\u001b[0m\u001b[0;34m=\u001b[0m\u001b[0;34m'left'\u001b[0m\u001b[0;34m)\u001b[0m\u001b[0;34m\u001b[0m\u001b[0m\n\u001b[0m\u001b[1;32m     29\u001b[0m \u001b[0mmatched_arr\u001b[0m \u001b[0;34m=\u001b[0m \u001b[0mmatched\u001b[0m\u001b[0;34m.\u001b[0m\u001b[0mto_records\u001b[0m\u001b[0;34m(\u001b[0m\u001b[0mindex\u001b[0m\u001b[0;34m=\u001b[0m\u001b[0;32mFalse\u001b[0m\u001b[0;34m)\u001b[0m\u001b[0;34m\u001b[0m\u001b[0m\n\u001b[1;32m     30\u001b[0m \u001b[0;34m\u001b[0m\u001b[0m\n",
      "\u001b[0;32m~/.conda/envs/DES_env/lib/python3.7/site-packages/pandas/core/reshape/merge.py\u001b[0m in \u001b[0;36mmerge\u001b[0;34m(left, right, how, on, left_on, right_on, left_index, right_index, sort, suffixes, copy, indicator, validate)\u001b[0m\n\u001b[1;32m     87\u001b[0m         \u001b[0mvalidate\u001b[0m\u001b[0;34m=\u001b[0m\u001b[0mvalidate\u001b[0m\u001b[0;34m,\u001b[0m\u001b[0;34m\u001b[0m\u001b[0m\n\u001b[1;32m     88\u001b[0m     )\n\u001b[0;32m---> 89\u001b[0;31m     \u001b[0;32mreturn\u001b[0m \u001b[0mop\u001b[0m\u001b[0;34m.\u001b[0m\u001b[0mget_result\u001b[0m\u001b[0;34m(\u001b[0m\u001b[0;34m)\u001b[0m\u001b[0;34m\u001b[0m\u001b[0m\n\u001b[0m\u001b[1;32m     90\u001b[0m \u001b[0;34m\u001b[0m\u001b[0m\n\u001b[1;32m     91\u001b[0m \u001b[0;34m\u001b[0m\u001b[0m\n",
      "\u001b[0;32m~/.conda/envs/DES_env/lib/python3.7/site-packages/pandas/core/reshape/merge.py\u001b[0m in \u001b[0;36mget_result\u001b[0;34m(self)\u001b[0m\n\u001b[1;32m    666\u001b[0m             \u001b[0mself\u001b[0m\u001b[0;34m.\u001b[0m\u001b[0mleft\u001b[0m\u001b[0;34m,\u001b[0m \u001b[0mself\u001b[0m\u001b[0;34m.\u001b[0m\u001b[0mright\u001b[0m \u001b[0;34m=\u001b[0m \u001b[0mself\u001b[0m\u001b[0;34m.\u001b[0m\u001b[0m_indicator_pre_merge\u001b[0m\u001b[0;34m(\u001b[0m\u001b[0mself\u001b[0m\u001b[0;34m.\u001b[0m\u001b[0mleft\u001b[0m\u001b[0;34m,\u001b[0m \u001b[0mself\u001b[0m\u001b[0;34m.\u001b[0m\u001b[0mright\u001b[0m\u001b[0;34m)\u001b[0m\u001b[0;34m\u001b[0m\u001b[0m\n\u001b[1;32m    667\u001b[0m \u001b[0;34m\u001b[0m\u001b[0m\n\u001b[0;32m--> 668\u001b[0;31m         \u001b[0mjoin_index\u001b[0m\u001b[0;34m,\u001b[0m \u001b[0mleft_indexer\u001b[0m\u001b[0;34m,\u001b[0m \u001b[0mright_indexer\u001b[0m \u001b[0;34m=\u001b[0m \u001b[0mself\u001b[0m\u001b[0;34m.\u001b[0m\u001b[0m_get_join_info\u001b[0m\u001b[0;34m(\u001b[0m\u001b[0;34m)\u001b[0m\u001b[0;34m\u001b[0m\u001b[0m\n\u001b[0m\u001b[1;32m    669\u001b[0m \u001b[0;34m\u001b[0m\u001b[0m\n\u001b[1;32m    670\u001b[0m         llabels, rlabels = _items_overlap_with_suffix(\n",
      "\u001b[0;32m~/.conda/envs/DES_env/lib/python3.7/site-packages/pandas/core/reshape/merge.py\u001b[0m in \u001b[0;36m_get_join_info\u001b[0;34m(self)\u001b[0m\n\u001b[1;32m    882\u001b[0m             )\n\u001b[1;32m    883\u001b[0m         \u001b[0;32melse\u001b[0m\u001b[0;34m:\u001b[0m\u001b[0;34m\u001b[0m\u001b[0m\n\u001b[0;32m--> 884\u001b[0;31m             \u001b[0;34m(\u001b[0m\u001b[0mleft_indexer\u001b[0m\u001b[0;34m,\u001b[0m \u001b[0mright_indexer\u001b[0m\u001b[0;34m)\u001b[0m \u001b[0;34m=\u001b[0m \u001b[0mself\u001b[0m\u001b[0;34m.\u001b[0m\u001b[0m_get_join_indexers\u001b[0m\u001b[0;34m(\u001b[0m\u001b[0;34m)\u001b[0m\u001b[0;34m\u001b[0m\u001b[0m\n\u001b[0m\u001b[1;32m    885\u001b[0m \u001b[0;34m\u001b[0m\u001b[0m\n\u001b[1;32m    886\u001b[0m             \u001b[0;32mif\u001b[0m \u001b[0mself\u001b[0m\u001b[0;34m.\u001b[0m\u001b[0mright_index\u001b[0m\u001b[0;34m:\u001b[0m\u001b[0;34m\u001b[0m\u001b[0m\n",
      "\u001b[0;32m~/.conda/envs/DES_env/lib/python3.7/site-packages/pandas/core/reshape/merge.py\u001b[0m in \u001b[0;36m_get_join_indexers\u001b[0;34m(self)\u001b[0m\n\u001b[1;32m    861\u001b[0m         \u001b[0;34m\"\"\" return the join indexers \"\"\"\u001b[0m\u001b[0;34m\u001b[0m\u001b[0m\n\u001b[1;32m    862\u001b[0m         return _get_join_indexers(\n\u001b[0;32m--> 863\u001b[0;31m             \u001b[0mself\u001b[0m\u001b[0;34m.\u001b[0m\u001b[0mleft_join_keys\u001b[0m\u001b[0;34m,\u001b[0m \u001b[0mself\u001b[0m\u001b[0;34m.\u001b[0m\u001b[0mright_join_keys\u001b[0m\u001b[0;34m,\u001b[0m \u001b[0msort\u001b[0m\u001b[0;34m=\u001b[0m\u001b[0mself\u001b[0m\u001b[0;34m.\u001b[0m\u001b[0msort\u001b[0m\u001b[0;34m,\u001b[0m \u001b[0mhow\u001b[0m\u001b[0;34m=\u001b[0m\u001b[0mself\u001b[0m\u001b[0;34m.\u001b[0m\u001b[0mhow\u001b[0m\u001b[0;34m\u001b[0m\u001b[0m\n\u001b[0m\u001b[1;32m    864\u001b[0m         )\n\u001b[1;32m    865\u001b[0m \u001b[0;34m\u001b[0m\u001b[0m\n",
      "\u001b[0;32m~/.conda/envs/DES_env/lib/python3.7/site-packages/pandas/core/reshape/merge.py\u001b[0m in \u001b[0;36m_get_join_indexers\u001b[0;34m(left_keys, right_keys, sort, how, **kwargs)\u001b[0m\n\u001b[1;32m   1331\u001b[0m         \u001b[0;32mfor\u001b[0m \u001b[0mn\u001b[0m \u001b[0;32min\u001b[0m \u001b[0mrange\u001b[0m\u001b[0;34m(\u001b[0m\u001b[0mlen\u001b[0m\u001b[0;34m(\u001b[0m\u001b[0mleft_keys\u001b[0m\u001b[0;34m)\u001b[0m\u001b[0;34m)\u001b[0m\u001b[0;34m\u001b[0m\u001b[0m\n\u001b[1;32m   1332\u001b[0m     )\n\u001b[0;32m-> 1333\u001b[0;31m     \u001b[0mzipped\u001b[0m \u001b[0;34m=\u001b[0m \u001b[0mzip\u001b[0m\u001b[0;34m(\u001b[0m\u001b[0;34m*\u001b[0m\u001b[0mmapped\u001b[0m\u001b[0;34m)\u001b[0m\u001b[0;34m\u001b[0m\u001b[0m\n\u001b[0m\u001b[1;32m   1334\u001b[0m     \u001b[0mllab\u001b[0m\u001b[0;34m,\u001b[0m \u001b[0mrlab\u001b[0m\u001b[0;34m,\u001b[0m \u001b[0mshape\u001b[0m \u001b[0;34m=\u001b[0m \u001b[0;34m[\u001b[0m\u001b[0mlist\u001b[0m\u001b[0;34m(\u001b[0m\u001b[0mx\u001b[0m\u001b[0;34m)\u001b[0m \u001b[0;32mfor\u001b[0m \u001b[0mx\u001b[0m \u001b[0;32min\u001b[0m \u001b[0mzipped\u001b[0m\u001b[0;34m]\u001b[0m\u001b[0;34m\u001b[0m\u001b[0m\n\u001b[1;32m   1335\u001b[0m \u001b[0;34m\u001b[0m\u001b[0m\n",
      "\u001b[0;32m~/.conda/envs/DES_env/lib/python3.7/site-packages/pandas/core/reshape/merge.py\u001b[0m in \u001b[0;36m<genexpr>\u001b[0;34m(.0)\u001b[0m\n\u001b[1;32m   1329\u001b[0m     mapped = (\n\u001b[1;32m   1330\u001b[0m         \u001b[0m_factorize_keys\u001b[0m\u001b[0;34m(\u001b[0m\u001b[0mleft_keys\u001b[0m\u001b[0;34m[\u001b[0m\u001b[0mn\u001b[0m\u001b[0;34m]\u001b[0m\u001b[0;34m,\u001b[0m \u001b[0mright_keys\u001b[0m\u001b[0;34m[\u001b[0m\u001b[0mn\u001b[0m\u001b[0;34m]\u001b[0m\u001b[0;34m,\u001b[0m \u001b[0msort\u001b[0m\u001b[0;34m=\u001b[0m\u001b[0msort\u001b[0m\u001b[0;34m,\u001b[0m \u001b[0mhow\u001b[0m\u001b[0;34m=\u001b[0m\u001b[0mhow\u001b[0m\u001b[0;34m)\u001b[0m\u001b[0;34m\u001b[0m\u001b[0m\n\u001b[0;32m-> 1331\u001b[0;31m         \u001b[0;32mfor\u001b[0m \u001b[0mn\u001b[0m \u001b[0;32min\u001b[0m \u001b[0mrange\u001b[0m\u001b[0;34m(\u001b[0m\u001b[0mlen\u001b[0m\u001b[0;34m(\u001b[0m\u001b[0mleft_keys\u001b[0m\u001b[0;34m)\u001b[0m\u001b[0;34m)\u001b[0m\u001b[0;34m\u001b[0m\u001b[0m\n\u001b[0m\u001b[1;32m   1332\u001b[0m     )\n\u001b[1;32m   1333\u001b[0m     \u001b[0mzipped\u001b[0m \u001b[0;34m=\u001b[0m \u001b[0mzip\u001b[0m\u001b[0;34m(\u001b[0m\u001b[0;34m*\u001b[0m\u001b[0mmapped\u001b[0m\u001b[0;34m)\u001b[0m\u001b[0;34m\u001b[0m\u001b[0m\n",
      "\u001b[0;32m~/.conda/envs/DES_env/lib/python3.7/site-packages/pandas/core/reshape/merge.py\u001b[0m in \u001b[0;36m_factorize_keys\u001b[0;34m(lk, rk, sort, how)\u001b[0m\n\u001b[1;32m   1976\u001b[0m     \u001b[0mrizer\u001b[0m \u001b[0;34m=\u001b[0m \u001b[0mklass\u001b[0m\u001b[0;34m(\u001b[0m\u001b[0mmax\u001b[0m\u001b[0;34m(\u001b[0m\u001b[0mlen\u001b[0m\u001b[0;34m(\u001b[0m\u001b[0mlk\u001b[0m\u001b[0;34m)\u001b[0m\u001b[0;34m,\u001b[0m \u001b[0mlen\u001b[0m\u001b[0;34m(\u001b[0m\u001b[0mrk\u001b[0m\u001b[0;34m)\u001b[0m\u001b[0;34m)\u001b[0m\u001b[0;34m)\u001b[0m\u001b[0;34m\u001b[0m\u001b[0m\n\u001b[1;32m   1977\u001b[0m \u001b[0;34m\u001b[0m\u001b[0m\n\u001b[0;32m-> 1978\u001b[0;31m     \u001b[0mllab\u001b[0m \u001b[0;34m=\u001b[0m \u001b[0mrizer\u001b[0m\u001b[0;34m.\u001b[0m\u001b[0mfactorize\u001b[0m\u001b[0;34m(\u001b[0m\u001b[0mlk\u001b[0m\u001b[0;34m)\u001b[0m\u001b[0;34m\u001b[0m\u001b[0m\n\u001b[0m\u001b[1;32m   1979\u001b[0m     \u001b[0mrlab\u001b[0m \u001b[0;34m=\u001b[0m \u001b[0mrizer\u001b[0m\u001b[0;34m.\u001b[0m\u001b[0mfactorize\u001b[0m\u001b[0;34m(\u001b[0m\u001b[0mrk\u001b[0m\u001b[0;34m)\u001b[0m\u001b[0;34m\u001b[0m\u001b[0m\n\u001b[1;32m   1980\u001b[0m \u001b[0;34m\u001b[0m\u001b[0m\n",
      "\u001b[0;32mpandas/_libs/hashtable.pyx\u001b[0m in \u001b[0;36mpandas._libs.hashtable.Int64Factorizer.factorize\u001b[0;34m()\u001b[0m\n",
      "\u001b[0;31mValueError\u001b[0m: Big-endian buffer not supported on little-endian compiler"
     ]
    }
   ],
   "source": [
    "# <Survey Area> \n",
    "#-This is a rough estimation\n",
    "#training region (dec > -10.0):  296 sq.deg\n",
    "\n",
    "#rootdir = '../output/sfd_train_photo_SamPle_nozband_ran10_3_full_tol1e5/'\n",
    "dmass_spt = calling_catalog('/fs/scratch/PCON0008/warner785/bwarner/dmass_spt.fits')\n",
    "dmass_spt = dmass_spt[ dmass_spt['CMASS_PROB'] > 0.01 ]\n",
    "#dmass_st82 = fitsio.read('/fs/scratch/PCON0008/warner785/bwarner/matched_cmass.fits') # cmass data\n",
    "dmass_st82 = fitsio.read('../output/test/train_cat/y3/dmass_st82_part1.fits') # dmass data\n",
    "dmass_st82 =dmass_st82[ dmass_st82['CMASS_PROB'] > 0.01]\n",
    "\n",
    "# des in training region:\n",
    "train = esutil.io.read('/fs/scratch/PCON0008/warner785/bwarner/des_training.fits')\n",
    "train = keepGoodRegion(train)\n",
    "\n",
    "dmass_spt = keepGoodRegion(dmass_spt)\n",
    "dmass_st82 = keepGoodRegion(dmass_st82)\n",
    "\n",
    "#print(dmass_st82.dtype.names)\n",
    "\n",
    "print(\"dmass_st82 sum: \",np.sum(dmass_st82['CMASS_PROB']))\n",
    "print(\"dmass_spt sum: \",np.sum(dmass_spt['CMASS_PROB']))\n",
    "print(\"des training sum: \",train.size)\n",
    "\n",
    "import pandas as pd\n",
    "desData = pd.DataFrame(dmass_spt)\n",
    "goldData = pd.DataFrame(GoldMask_spt)\n",
    "matched = pd.merge(desData, goldData, left_on='HPIX_4096', right_on='PIXEL', how='left')\n",
    "matched_arr = matched.to_records(index=False)\n",
    "\n",
    "from utils import mergeCatalogsUsingPandas\n",
    "dmass_spt_hpix = mergeCatalogsUsingPandas(des=dmass_spt, gold=GoldMask_spt, how = 'right', \n",
    "                                      left_key='HPIX', right_key = 'PIXEL', suffixes = ['','_GOLD'], \n",
    "                                      left_index=False, right_index = False)\n",
    "\n",
    "#BOSSCleanMaskSGC = callingBOSSmask(option='SGC')\n",
    "#BOSSCleanMaskNGC = callingBOSSmask(option='NGC')\n",
    "#BOSSSGCMaparea = BOSSCleanMaskSGC.size * pixarea\n",
    "#BOSSNGCMaparea = BOSSCleanMaskNGC.size * pixarea\n",
    "#print BOSSSGCMaparea, BOSSNGCMaparea"
   ]
  },
  {
   "cell_type": "code",
   "execution_count": null,
   "id": "9241b1f2-d093-431d-985f-d7ad5ecf5c3c",
   "metadata": {},
   "outputs": [],
   "source": [
    "# simple method first --- possion errors"
   ]
  },
  {
   "cell_type": "code",
   "execution_count": 18,
   "id": "991bbc31-3ef4-4f8d-bbd9-708c3485db09",
   "metadata": {},
   "outputs": [
    {
     "name": "stdout",
     "output_type": "stream",
     "text": [
      "2740075\n",
      "('RA', 'DEC', 'RUN', 'RERUN', 'CAMCOL', 'FIELD', 'ID', 'ICHUNK', 'IPOLY', 'ISECT', 'FRACPSF', 'EXPFLUX', 'DEVFLUX', 'PSFFLUX', 'MODELFLUX', 'FIBER2FLUX', 'R_DEV', 'EXTINCTION', 'PSF_FWHM', 'AIRMASS', 'SKYFLUX', 'EB_MINUS_V', 'IMAGE_DEPTH', 'IMATCH', 'Z', 'WEIGHT_FKP', 'WEIGHT_CP', 'WEIGHT_NOZ', 'WEIGHT_STAR', 'WEIGHT_SEEING', 'WEIGHT_SYSTOT', 'NZ', 'COMP', 'PLATE', 'FIBERID', 'MJD', 'FINALN', 'TILE', 'SPECTILE', 'ICOLLIDED', 'INGROUP', 'MULTGROUP')\n"
     ]
    }
   ],
   "source": [
    "# splitting CMASS in training region-sized samples:\n",
    "\n",
    "path = '/fs/scratch/PCON0008/warner785/bwarner/'\n",
    "cmass_sgc = esutil.io.read(path+'galaxy_DR12v5_CMASS_South.fits.gz')\n",
    "train = esutil.io.read('/fs/scratch/PCON0008/warner785/bwarner/des_training.fits')\n",
    "train = keepGoodRegion(train)\n",
    "\n",
    "print(train['HPIX_4096'].size)\n",
    "print(cmass_sgc.dtype.names)"
   ]
  },
  {
   "cell_type": "code",
   "execution_count": 24,
   "id": "66477106-4302-451c-a30d-7f802dd73da4",
   "metadata": {},
   "outputs": [
    {
     "name": "stdout",
     "output_type": "stream",
     "text": [
      "3145728\n"
     ]
    }
   ],
   "source": [
    "NSIDE = 512\n",
    "NPIX = hp.nside2npix(NSIDE)\n",
    "print(NPIX)\n",
    "\n",
    "# pixel area function -- lookup\n",
    "# https://healpy.readthedocs.io/en/latest/generated/healpy.pixelfunc.nside2pixarea.html#healpy.pixelfunc.nside2pixarea"
   ]
  },
  {
   "cell_type": "code",
   "execution_count": null,
   "id": "3eaecaff-6f04-4c71-a997-457ab500538c",
   "metadata": {},
   "outputs": [],
   "source": [
    "def number_gal(sysMap, dmass_chron, dmass_chron_weights, sys_weights = False, mocks = False, iterative = False): # apply systematic weights here\n",
    "    \n",
    "    minimum = np.percentile(sysMap['SIGNAL'][sysMap['SIGNAL']!=hp.UNSEEN], 1)\n",
    "    maximum = np.percentile(sysMap['SIGNAL'][sysMap['SIGNAL']!=hp.UNSEEN], 99)\n",
    "\n",
    "    pbin, pstep = np.linspace( minimum, maximum, 13, retstep=True)\n",
    "    pcenter = pbin[:-1] + pstep/2\n",
    "\n",
    "    x = np.full(hp.nside2npix(4096), hp.UNSEEN)\n",
    "    x[sysMap['PIXEL']] = sysMap['SIGNAL']\n",
    "    #print(\"sysmap: \", sysMap['SIGNAL'])\n",
    "    if mocks != True:\n",
    "        sysval_gal = x[dmass_chron['HPIX_4096']].copy()\n",
    "        \n",
    "    else: \n",
    "        sysval_gal = x[dmass_chron].copy()\n",
    "    \n",
    "    if mocks != True:\n",
    "        if sys_weights == True:\n",
    "            print(\"weights being applied...\")\n",
    "            h,_ = np.histogram(sysval_gal[sysval_gal != hp.UNSEEN], bins=pbin, weights = dmass_chron[\"CMASS_PROB\"][sysval_gal != hp.UNSEEN]*dmass_chron_weights[sysval_gal != hp.UNSEEN])\n",
    "        else:\n",
    "            if iterative != True:\n",
    "                h,_ = np.histogram(sysval_gal[sysval_gal != hp.UNSEEN], bins=pbin, weights = dmass_chron[\"CMASS_PROB\"][sysval_gal != hp.UNSEEN]) # -- density of dmass sample, not gold sample\n",
    "        if iterative == True:\n",
    "            print(\"weights being applied...\")\n",
    "            h,_ = np.histogram(sysval_gal[sysval_gal != hp.UNSEEN], bins=pbin, weights = dmass_chron[\"CMASS_PROB\"][sysval_gal != hp.UNSEEN]*dmass_chron_weights[sysval_gal != hp.UNSEEN])\n",
    "    else:\n",
    "        h,_ = np.histogram(sysval_gal[sysval_gal != hp.UNSEEN], bins=pbin, weights = dmass_chron_weights[sysval_gal != hp.UNSEEN])\n",
    "    \n",
    "    return h, sysval_gal\n",
    "\n",
    "def area_pixels(sysMap, frac_weight, custom):\n",
    "    \n",
    "    minimum = np.percentile(sysMap['SIGNAL'][sysMap['SIGNAL']!=hp.UNSEEN], 1)\n",
    "    maximum = np.percentile(sysMap['SIGNAL'][sysMap['SIGNAL']!=hp.UNSEEN], 99)\n",
    "\n",
    "    pbin, pstep = np.linspace( minimum, maximum, 13, retstep=True)\n",
    "    pcenter = pbin[:-1] + pstep/2\n",
    "    \n",
    "# number of galaxies in each pixel:\n",
    "    #if debug != True:\n",
    "    if custom == True:\n",
    "        sys_signal = sysMap['SIGNAL']\n",
    "        area,_ = np.histogram(sys_signal[sys_signal != hp.UNSEEN] , bins=pbin , weights = frac_weight)\n",
    "    else:   \n",
    "        sys_signal = sysMap['SIGNAL']\n",
    "        area,_ = np.histogram(sys_signal[sys_signal != hp.UNSEEN] , bins=pbin , weights = sysMap['FRACDET'][sys_signal != hp.UNSEEN])\n",
    "            \n",
    "    #else:  (for SP if other method isn't working)\n",
    "# number of galaxies in each pixel:\n",
    "        #debug this to be like the PCA set\n",
    "        #sys_signal = sysMap['SIGNAL']\n",
    "\n",
    "        #sys = sysMap\n",
    "        #mask = np.full(hp.nside2npix(4096), hp.UNSEEN)\n",
    "        #frac_mask = np.in1d(fracDet[\"PIXEL\"], sys[\"PIXEL\"], assume_unique=False, invert=False)\n",
    "\n",
    "        #mask[sys[\"PIXEL\"]] = sys[\"SIGNAL\"]\n",
    "        #frac_sys = mask[fracDet[\"PIXEL\"][frac_mask]]\n",
    "        #area,_ = np.histogram(frac_sys[frac_sys != hp.UNSEEN] , bins=pbin , weights = fracDet[\"SIGNAL\"][frac_mask][frac_sys != hp.UNSEEN])\n",
    "\n",
    "    \n",
    "    return area\n",
    "\n",
    "def number_density(sysMap, h, area):\n",
    "    \n",
    "    minimum = np.percentile(sysMap['SIGNAL'][sysMap['SIGNAL']!=hp.UNSEEN], 1)\n",
    "    maximum = np.percentile(sysMap['SIGNAL'][sysMap['SIGNAL']!=hp.UNSEEN], 99)\n",
    "\n",
    "    pbin, pstep = np.linspace( minimum, maximum, 13, retstep=True)\n",
    "    pcenter = pbin[:-1] + pstep/2\n",
    "\n",
    "    number_density = []\n",
    "    for x in range(len(h)):\n",
    "        den = h[x]/area[x]\n",
    "        number_density.append(den)\n",
    "\n",
    "    total_area = 0\n",
    "    #Normalize based on total number density of used footprint:\n",
    "    for x in range(len(area)):\n",
    "        total_area += area[x]\n",
    "\n",
    "    # total galaxies:\n",
    "    total_h = 0\n",
    "    for x in range(len(h)):\n",
    "        total_h += h[x]\n",
    "\n",
    "    #normalization: \n",
    "    total_num_density = total_h/total_area\n",
    "    \n",
    "    # apply normalization: \n",
    "    #print(number_density)\n",
    "    norm_number_density = number_density/total_num_density\n",
    "    #print(norm_number_density_ran)\n",
    "\n",
    "    fracerr = np.sqrt(h) #1 / sqrt(number of randoms cmass galaxies in each bin)\n",
    "    fracerr_norm = (fracerr/area)/total_num_density\n",
    "    \n",
    "    return pcenter, norm_number_density, fracerr_norm"
   ]
  },
  {
   "cell_type": "code",
   "execution_count": null,
   "id": "7cea9b67-a8ea-4d84-b913-e6bd8bf25b15",
   "metadata": {},
   "outputs": [],
   "source": [
    "fig,(ax, ax2, ax3) = plt.subplots(1, 3, figsize = (17, 5))\n",
    "\n",
    "ax.axhspan( mean_n_density_ngc - std_n_density_ngc, mean_n_density_ngc + std_n_density_ngc, alpha=0.3, color='grey')#, label = r'\\rm 68% confidence}')\n",
    "ax.axhspan( mean_n_density_ngc - 2*std_n_density_ngc, mean_n_density_ngc + 2*std_n_density_ngc, alpha=0.1, color='grey')#, label = r'\\rm 68 % confidence}')\n",
    "#ax.axhspan( 1. - 2*defined_sigma_st82/mean, 1 + 2*defined_sigma_st82/mean, alpha=0.1, color='grey', linestyle = None, label = '95 % confidence')\n",
    "#ax.errorbar( np.arange(n_density_ngc_norm.size), n_density_ngc_norm, yerr = err_ngc, fmt='o' )\n",
    "ax.plot( np.arange(avg_n_density_ngc.size), avg_n_density_ngc, marker = '.' , linestyle = 'none', color = 'black' )\n",
    "ax.plot( avg_n_density_ngc.size/2., ntotal_st82/n_density_ngc.mean(), marker = '*', color = 'red',  markersize = 10, linestyle = 'none', label = r'{\\rm train}')\n",
    "ax.plot( avg_n_density_ngc.size/2., ntotal_DMASS/n_density_ngc.mean(), marker = '*', color = 'blue',  markersize = 10, linestyle = 'none', label = r'{\\rm DMASS}')\n",
    "\n",
    "ax.axhline(y = mean_n_density_ngc, linestyle='--', color = 'grey')\n",
    "ax.set_title(r'{\\rm CMASS NGC}', fontsize = 20)\n",
    "ax.set_ylim(0.85, 1.15)\n",
    "ax.legend(loc=4, fontsize = 15)\n",
    "ax.set_ylabel(r'$n_i / \\langle n \\rangle$', fontsize = 20)\n",
    "ax.set_xlabel(r'{\\rm patch index $i$}', fontsize = 20)\n",
    "ax.text(0, 1.12, r'{\\rm  Patch area }'+ r'${:0.0f} \\deg^2$'.format(area_ngc), fontsize = 15)\n",
    "#ax.text(0, 1.10, r'{\\rm  St82 area }'+ r'${:0.0f} \\deg^2$'.format(123), fontsize = 15)\n",
    "ax.tick_params(labelsize = 15)"
   ]
  }
 ],
 "metadata": {
  "kernelspec": {
   "display_name": "Python (DES_env)",
   "language": "python",
   "name": "des_env"
  },
  "language_info": {
   "codemirror_mode": {
    "name": "ipython",
    "version": 3
   },
   "file_extension": ".py",
   "mimetype": "text/x-python",
   "name": "python",
   "nbconvert_exporter": "python",
   "pygments_lexer": "ipython3",
   "version": "3.7.0"
  }
 },
 "nbformat": 4,
 "nbformat_minor": 5
}
