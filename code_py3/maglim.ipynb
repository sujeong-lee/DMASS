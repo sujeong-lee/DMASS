{
 "cells": [
  {
   "cell_type": "code",
   "execution_count": null,
   "id": "3334f1da-e8ab-4856-8cc6-ffde393ba762",
   "metadata": {},
   "outputs": [],
   "source": [
    "import sys\n",
    "sys.path.append('../')\n",
    "from xd import *\n",
    "from utils import *\n",
    "import esutil\n",
    "import healpy as hp\n",
    "from systematics import *\n",
    "from systematics_module import *\n",
    "import os\n",
    "from numpy.lib.recfunctions import append_fields\n",
    "import scipy.stats\n",
    "\n",
    "import healpy\n",
    "\n",
    "import matplotlib.pyplot as plt\n",
    "import numpy as np\n",
    "from run_systematics import sys_iteration, weightmultiply, fitting_allSP, calling_sysMap\n",
    "from sys_functions import *\n",
    "\n",
    "#csfd = healpy.fitsfunc.read_map('/fs/scratch/PCON0008/warner785/bwarner/csfd_ebv.fits')\n",
    "#maglim = esutil.io.read('/fs/project/PCON0008/des_y3/maglim/mag_lim_lens_sample_combined_jointmask_sample.fits.gz')\n",
    "#mask = esutil.io.read('/fs/project/PCON0008/des_y3/maglim/mask/y3_gold_2.2.1_RING_joint_redmagic_v0.5.1_wide_maglim_v2.2_mask.fits.gz')\n",
    "#weights = esutil.io.read('/fs/project/PCON0008/des_y3/maglim/weight_maps/w_map_bin2_nside4096_nbins1d_10_2sig_v2.0.fits.gz')\n",
    "#dmass_spt = esutil.io.read('/fs/scratch/PCON0008/warner785/bwarner/dmass_spt.fits')"
   ]
  },
  {
   "cell_type": "code",
   "execution_count": 45,
   "id": "e84ac9dc-8007-4f69-9d83-4084fac5aae2",
   "metadata": {},
   "outputs": [
    {
     "name": "stdout",
     "output_type": "stream",
     "text": [
      "None\n",
      "\n",
      "XTENSION= 'BINTABLE'           / binary table extension\n",
      "BITPIX  =                    8 / array data type\n",
      "NAXIS   =                    2 / number of array dimensions\n",
      "NAXIS1  =                 4096 / length of dimension 1\n",
      "NAXIS2  =                49152 / length of dimension 2\n",
      "PCOUNT  =                    0 / number of group parameters\n",
      "GCOUNT  =                    1 / number of groups\n",
      "TFIELDS =                    1 / number of table fields\n",
      "TTYPE1  = 'T'                  / \n",
      "TFORM1  = '1024E'              / \n",
      "PIXTYPE = 'HEALPIX'            / HEALPIX pixelisation\n",
      "ORDERING= 'RING'               / Pixel ordering scheme, either RING or NESTED\n",
      "EXTNAME = 'xtension'           / name of this binary table extension\n",
      "NSIDE   =                 2048 / Resolution parameter of HEALPIX\n",
      "FIRSTPIX=                    0 / First pixel # (0 based)\n",
      "LASTPIX =             50331647 / Last pixel # (0 based)\n",
      "INDXSCHM= 'IMPLICIT'           / Indexing: IMPLICIT or EXPLICIT\n",
      "OBJECT  = 'FULLSKY'            / Sky coverage, either FULLSKY or PARTIAL\n",
      "(50331648,)\n",
      "None\n"
     ]
    },
    {
     "data": {
      "image/png": "[encoded data removed]",
      "text/plain": [
       "<Figure size 612x388.8 with 2 Axes>"
      ]
     },
     "metadata": {
      "needs_background": "light"
     },
     "output_type": "display_data"
    }
   ],
   "source": [
    "print(csfd.dtype.names)\n",
    "f = fitsio.FITS('/fs/scratch/PCON0008/warner785/bwarner/csfd_ebv.fits')\n",
    "h = f[-1].read_header()\n",
    "print(h)\n",
    "\n",
    "print(csfd.shape)\n",
    "#flat = rot_csfd.flatten()\n",
    "#print(flat.shape)\n",
    "print(hp.visufunc.mollview(rot_csfd))\n",
    "esutil.io.write('/fs/scratch/PCON0008/warner785/bwarner/csfd.fits', rot_csfd, overwrite=True)"
   ]
  },
  {
   "cell_type": "code",
   "execution_count": null,
   "id": "6ca529e7-5ce2-4c5d-abd9-303c80d76318",
   "metadata": {},
   "outputs": [],
   "source": [
    "imap =esutil.io.read('/fs/scratch/PCON0008/warner785/bwarner/csfd.fits')\n",
    "print(imap)"
   ]
  },
  {
   "cell_type": "code",
   "execution_count": 57,
   "id": "480730ca-b1aa-4c74-a6ad-71f041cc37a8",
   "metadata": {},
   "outputs": [
    {
     "name": "stdout",
     "output_type": "stream",
     "text": [
      "[0.2578817  0.25334203 0.24901828 ... 0.1817264  0.17679744 0.18455049]\n"
     ]
    }
   ],
   "source": [
    "#signal = np.array(sysMap1)\n",
    "#print(signal)"
   ]
  },
  {
   "cell_type": "code",
   "execution_count": null,
   "id": "bf17fc83-5f35-4b37-8257-1e8fa2633fee",
   "metadata": {},
   "outputs": [],
   "source": [
    "#csfdHp = np.full(hp.nside2npix(2048), hp.UNSEEN)\n",
    "csfd_upgrade = hp.pixelfunc.ud_grade(imap, 4096, pess=False, order_in='RING', order_out=None, power=None, dtype=None)"
   ]
  },
  {
   "cell_type": "code",
   "execution_count": 26,
   "id": "c0019c40-2894-403f-970d-c51ac08a5a3f",
   "metadata": {},
   "outputs": [],
   "source": [
    "sysMap = esutil.io.read('/fs/scratch/PCON0008/warner785/bwarner/csfd.fits')\n",
    "pixels = np.zeros(sysMap.size)\n",
    "for x in range(pixels.size):\n",
    "    if x>0:\n",
    "        pixels[x]=pixels[x-1]+1\n",
    "signal = np.array(sysMap)\n",
    "sysMap = np.zeros( len(pixels), dtype=[('PIXEL','int'), ('SIGNAL','float')])\n",
    "sysMap['SIGNAL'] = signal\n",
    "sysMap['PIXEL'] = pixels"
   ]
  },
  {
   "cell_type": "code",
   "execution_count": 27,
   "id": "de8e263c-ee12-4da9-af21-d112b1ecfa09",
   "metadata": {},
   "outputs": [],
   "source": [
    "RA, DEC = hp.pix2ang(2048, sysMap['PIXEL'], lonlat=True)"
   ]
  },
  {
   "cell_type": "code",
   "execution_count": 30,
   "id": "59f687d2-6d1b-4fd5-bba4-14496d7ba1f2",
   "metadata": {},
   "outputs": [],
   "source": [
    "sysMap = append_fields(sysMap, 'RA', RA, usemask=False)\n",
    "sysMap = append_fields(sysMap, 'DEC', DEC, usemask=False)"
   ]
  },
  {
   "cell_type": "code",
   "execution_count": 29,
   "id": "196434ec-521a-4049-9778-c553e8fc5c7b",
   "metadata": {},
   "outputs": [
    {
     "name": "stdout",
     "output_type": "stream",
     "text": [
      "-89.97715732012509\n"
     ]
    }
   ],
   "source": [
    "print(np.min(DEC))"
   ]
  },
  {
   "cell_type": "code",
   "execution_count": 17,
   "id": "f6b996dc-815c-4018-991c-4304a5b4093a",
   "metadata": {},
   "outputs": [
    {
     "name": "stdout",
     "output_type": "stream",
     "text": [
      "True\n"
     ]
    }
   ],
   "source": [
    "print(np.any(sysMap['RA']>295))"
   ]
  },
  {
   "cell_type": "code",
   "execution_count": 44,
   "id": "830ffe3c-4ce2-4f2a-bac0-de6afc0fa5b2",
   "metadata": {},
   "outputs": [],
   "source": [
    "# for RA conversion\n",
    "def rewrap(x):\n",
    "    new = []\n",
    "    for i in range(len(x)):\n",
    "        ra = x[i] + 180\n",
    "        new.append(ra)\n",
    "    return new\n",
    "\n",
    "new = rewrap(RAnew)\n",
    "print(new)"
   ]
  },
  {
   "cell_type": "code",
   "execution_count": 10,
   "id": "7aca1256-f0ef-477b-88f6-e65f06ed4c28",
   "metadata": {},
   "outputs": [
    {
     "data": {
      "image/png": "[encoded data removed]",
      "text/plain": [
       "<Figure size 720x576 with 1 Axes>"
      ]
     },
     "metadata": {
      "needs_background": "light"
     },
     "output_type": "display_data"
    }
   ],
   "source": [
    "spatialcheck([sysMap], \n",
    "             label = ['CSFD'], convert = None, ratag='RA',dectag='DEC')"
   ]
  },
  {
   "cell_type": "code",
   "execution_count": 31,
   "id": "d7fd85f9-7c29-414d-8ada-5aac9e228e33",
   "metadata": {},
   "outputs": [
    {
     "name": "stdout",
     "output_type": "stream",
     "text": [
      "[(22745651, 0.02684195, 24.74121094,   5.51052757)\n",
      " (22745652, 0.02624961, 24.78515625,   5.51052757)\n",
      " (22745653, 0.02667446, 24.82910156,   5.51052757) ...\n",
      " (48471768, 0.07658502, 59.79771784, -67.8418301 )\n",
      " (48471769, 0.07057153, 59.89107884, -67.8418301 )\n",
      " (48471770, 0.06626338, 59.98443983, -67.8418301 )]\n"
     ]
    }
   ],
   "source": [
    "sysMap = keepGoodRegion(sysMap)\n",
    "print(sysMap)\n",
    "# plot cut region - - each step\n",
    "#upgrade map before loading"
   ]
  },
  {
   "cell_type": "code",
   "execution_count": 32,
   "id": "86b09e22-3797-460a-bc11-4ad62bff2d2e",
   "metadata": {},
   "outputs": [
    {
     "name": "stdout",
     "output_type": "stream",
     "text": [
      "[(29536786, 0.03109795, 23.31298828, -10.01046944)\n",
      " (29536787, 0.03070482, 23.35693359, -10.01046944)\n",
      " (29536788, 0.03082674, 23.40087891, -10.01046944) ...\n",
      " (48471768, 0.07658502, 59.79771784, -67.8418301 )\n",
      " (48471769, 0.07057153, 59.89107884, -67.8418301 )\n",
      " (48471770, 0.06626338, 59.98443983, -67.8418301 )]\n"
     ]
    }
   ],
   "source": [
    "mask_spt = (sysMap['RA']>295)&(sysMap['RA']<360)|(sysMap['RA']<105)\n",
    "mask_spt = mask_spt & (sysMap['DEC']>-68) & (sysMap['DEC']<-10)\n",
    "sysMap = sysMap[mask_spt]\n",
    "print(sysMap)"
   ]
  },
  {
   "cell_type": "code",
   "execution_count": 33,
   "id": "ad28d648-1dff-4590-bd5d-ae0b79ada4bd",
   "metadata": {},
   "outputs": [],
   "source": [
    "esutil.io.write('/fs/scratch/PCON0008/warner785/bwarner/csfd_spt.fits', sysMap, overwrite=True)"
   ]
  },
  {
   "cell_type": "code",
   "execution_count": 9,
   "id": "a56cb882-e7ed-41f7-98b5-1e2b84fb70f4",
   "metadata": {},
   "outputs": [
    {
     "ename": "OSError",
     "evalue": "No extensions have data",
     "output_type": "error",
     "traceback": [
      "\u001b[0;31m---------------------------------------------------------------------------\u001b[0m",
      "\u001b[0;31mOSError\u001b[0m                                   Traceback (most recent call last)",
      "\u001b[0;32m<ipython-input-9-4c1d177d7a2b>\u001b[0m in \u001b[0;36m<module>\u001b[0;34m\u001b[0m\n\u001b[0;32m----> 1\u001b[0;31m \u001b[0msysMap\u001b[0m \u001b[0;34m=\u001b[0m \u001b[0mesutil\u001b[0m\u001b[0;34m.\u001b[0m\u001b[0mio\u001b[0m\u001b[0;34m.\u001b[0m\u001b[0mread\u001b[0m\u001b[0;34m(\u001b[0m\u001b[0;34m'/fs/scratch/PCON0008/warner785/bwarner/SPmaps_csfd/SFD98.fits'\u001b[0m\u001b[0;34m)\u001b[0m\u001b[0;34m\u001b[0m\u001b[0m\n\u001b[0m\u001b[1;32m      2\u001b[0m \u001b[0mprint\u001b[0m\u001b[0;34m(\u001b[0m\u001b[0msysMap\u001b[0m\u001b[0;34m)\u001b[0m\u001b[0;34m\u001b[0m\u001b[0m\n",
      "\u001b[0;32m~/.conda/envs/DES_env/lib/python3.7/site-packages/esutil/io.py\u001b[0m in \u001b[0;36mread\u001b[0;34m(fileobj, **keywords)\u001b[0m\n\u001b[1;32m    239\u001b[0m     \u001b[0;32mtry\u001b[0m\u001b[0;34m:\u001b[0m\u001b[0;34m\u001b[0m\u001b[0m\n\u001b[1;32m    240\u001b[0m         \u001b[0;32mif\u001b[0m \u001b[0mtype\u001b[0m \u001b[0;34m==\u001b[0m \u001b[0;34m'fits'\u001b[0m\u001b[0;34m:\u001b[0m\u001b[0;34m\u001b[0m\u001b[0m\n\u001b[0;32m--> 241\u001b[0;31m             \u001b[0mdata\u001b[0m \u001b[0;34m=\u001b[0m \u001b[0mread_fits\u001b[0m\u001b[0;34m(\u001b[0m\u001b[0mfobj\u001b[0m\u001b[0;34m,\u001b[0m \u001b[0;34m**\u001b[0m\u001b[0mkeywords\u001b[0m\u001b[0;34m)\u001b[0m\u001b[0;34m\u001b[0m\u001b[0m\n\u001b[0m\u001b[1;32m    242\u001b[0m         \u001b[0;32melif\u001b[0m \u001b[0mtype\u001b[0m \u001b[0;34m==\u001b[0m \u001b[0;34m'json'\u001b[0m\u001b[0;34m:\u001b[0m\u001b[0;34m\u001b[0m\u001b[0m\n\u001b[1;32m    243\u001b[0m             \u001b[0mdata\u001b[0m \u001b[0;34m=\u001b[0m \u001b[0mjson_util\u001b[0m\u001b[0;34m.\u001b[0m\u001b[0mread\u001b[0m\u001b[0;34m(\u001b[0m\u001b[0mfobj\u001b[0m\u001b[0;34m,\u001b[0m \u001b[0;34m**\u001b[0m\u001b[0mkeywords\u001b[0m\u001b[0;34m)\u001b[0m\u001b[0;34m\u001b[0m\u001b[0m\n",
      "\u001b[0;32m~/.conda/envs/DES_env/lib/python3.7/site-packages/esutil/io.py\u001b[0m in \u001b[0;36mread_fits\u001b[0;34m(fname, **keywords)\u001b[0m\n\u001b[1;32m    432\u001b[0m \u001b[0;34m\u001b[0m\u001b[0m\n\u001b[1;32m    433\u001b[0m     \u001b[0;32mif\u001b[0m \u001b[0mfits_package\u001b[0m \u001b[0;34m==\u001b[0m \u001b[0;34m'fitsio'\u001b[0m\u001b[0;34m:\u001b[0m\u001b[0;34m\u001b[0m\u001b[0m\n\u001b[0;32m--> 434\u001b[0;31m         \u001b[0mresult\u001b[0m \u001b[0;34m=\u001b[0m \u001b[0mread_fits_fitsio\u001b[0m\u001b[0;34m(\u001b[0m\u001b[0mfname\u001b[0m\u001b[0;34m,\u001b[0m \u001b[0;34m**\u001b[0m\u001b[0mkeywords\u001b[0m\u001b[0;34m)\u001b[0m\u001b[0;34m\u001b[0m\u001b[0m\n\u001b[0m\u001b[1;32m    435\u001b[0m     \u001b[0;32melif\u001b[0m \u001b[0mfits_package\u001b[0m \u001b[0;34m==\u001b[0m \u001b[0;34m'pyfits'\u001b[0m\u001b[0;34m:\u001b[0m\u001b[0;34m\u001b[0m\u001b[0m\n\u001b[1;32m    436\u001b[0m         \u001b[0mresult\u001b[0m \u001b[0;34m=\u001b[0m \u001b[0mread_fits_pyfits\u001b[0m\u001b[0;34m(\u001b[0m\u001b[0mfname\u001b[0m\u001b[0;34m,\u001b[0m \u001b[0;34m**\u001b[0m\u001b[0mkeywords\u001b[0m\u001b[0;34m)\u001b[0m\u001b[0;34m\u001b[0m\u001b[0m\n",
      "\u001b[0;32m~/.conda/envs/DES_env/lib/python3.7/site-packages/esutil/io.py\u001b[0m in \u001b[0;36mread_fits_fitsio\u001b[0;34m(fname, **keywords)\u001b[0m\n\u001b[1;32m    484\u001b[0m                            \u001b[0mrows\u001b[0m\u001b[0;34m=\u001b[0m\u001b[0mrows\u001b[0m\u001b[0;34m,\u001b[0m\u001b[0;34m\u001b[0m\u001b[0m\n\u001b[1;32m    485\u001b[0m                            \u001b[0mcolumns\u001b[0m\u001b[0;34m=\u001b[0m\u001b[0mcolumns\u001b[0m\u001b[0;34m,\u001b[0m\u001b[0;34m\u001b[0m\u001b[0m\n\u001b[0;32m--> 486\u001b[0;31m                            header=header)\n\u001b[0m\u001b[1;32m    487\u001b[0m \u001b[0;34m\u001b[0m\u001b[0m\n\u001b[1;32m    488\u001b[0m \u001b[0;32mdef\u001b[0m \u001b[0mread_fits_pyfits\u001b[0m\u001b[0;34m(\u001b[0m\u001b[0mfname\u001b[0m\u001b[0;34m,\u001b[0m \u001b[0;34m**\u001b[0m\u001b[0mkeywords\u001b[0m\u001b[0;34m)\u001b[0m\u001b[0;34m:\u001b[0m\u001b[0;34m\u001b[0m\u001b[0m\n",
      "\u001b[0;32m~/.conda/envs/DES_env/lib/python3.7/site-packages/fitsio/fitslib.py\u001b[0m in \u001b[0;36mread\u001b[0;34m(filename, ext, extver, columns, rows, header, case_sensitive, upper, lower, vstorage, verbose, trim_strings, **keys)\u001b[0m\n\u001b[1;32m    145\u001b[0m                     \u001b[0;32mbreak\u001b[0m\u001b[0;34m\u001b[0m\u001b[0m\n\u001b[1;32m    146\u001b[0m             \u001b[0;32mif\u001b[0m \u001b[0mext\u001b[0m \u001b[0;32mis\u001b[0m \u001b[0;32mNone\u001b[0m\u001b[0;34m:\u001b[0m\u001b[0;34m\u001b[0m\u001b[0m\n\u001b[0;32m--> 147\u001b[0;31m                 \u001b[0;32mraise\u001b[0m \u001b[0mIOError\u001b[0m\u001b[0;34m(\u001b[0m\u001b[0;34m\"No extensions have data\"\u001b[0m\u001b[0;34m)\u001b[0m\u001b[0;34m\u001b[0m\u001b[0m\n\u001b[0m\u001b[1;32m    148\u001b[0m \u001b[0;34m\u001b[0m\u001b[0m\n\u001b[1;32m    149\u001b[0m         \u001b[0mitem\u001b[0m \u001b[0;34m=\u001b[0m \u001b[0m_make_item\u001b[0m\u001b[0;34m(\u001b[0m\u001b[0mext\u001b[0m\u001b[0;34m,\u001b[0m \u001b[0mextver\u001b[0m\u001b[0;34m=\u001b[0m\u001b[0mextver\u001b[0m\u001b[0;34m)\u001b[0m\u001b[0;34m\u001b[0m\u001b[0m\n",
      "\u001b[0;31mOSError\u001b[0m: No extensions have data"
     ]
    }
   ],
   "source": [
    "sysMap = esutil.io.read('/fs/scratch/PCON0008/warner785/bwarner/SPmaps_csfd/SFD98.fits')\n",
    "print(sysMap)"
   ]
  },
  {
   "cell_type": "code",
   "execution_count": 5,
   "id": "a5fec550-cac3-4ef6-9f14-dd146d7b10dd",
   "metadata": {},
   "outputs": [],
   "source": [
    "RA, DEC = hp.pix2ang(4096, sysMap['PIXEL'], lonlat=True)"
   ]
  },
  {
   "cell_type": "code",
   "execution_count": 6,
   "id": "6b88e491-82e2-4fff-b920-aecdeadce20f",
   "metadata": {},
   "outputs": [
    {
     "name": "stdout",
     "output_type": "stream",
     "text": [
      "359.989013671875 0.0\n"
     ]
    }
   ],
   "source": [
    "print(np.max(RA), np.min(RA))"
   ]
  },
  {
   "cell_type": "code",
   "execution_count": 59,
   "id": "1104fbfd-8f9b-438d-8146-58f9f2dd7750",
   "metadata": {},
   "outputs": [
    {
     "ename": "OSError",
     "evalue": "No extensions have data",
     "output_type": "error",
     "traceback": [
      "\u001b[0;31m---------------------------------------------------------------------------\u001b[0m",
      "\u001b[0;31mOSError\u001b[0m                                   Traceback (most recent call last)",
      "\u001b[0;32m<ipython-input-59-8263ce516748>\u001b[0m in \u001b[0;36m<module>\u001b[0;34m\u001b[0m\n\u001b[1;32m      1\u001b[0m \u001b[0;31m#map_path = '/fs/scratch/PCON0008/warner785/bwarner/SPmaps_csfd/'\u001b[0m\u001b[0;34m\u001b[0m\u001b[0;34m\u001b[0m\u001b[0m\n\u001b[0;32m----> 2\u001b[0;31m \u001b[0msysMap\u001b[0m \u001b[0;34m=\u001b[0m \u001b[0mesutil\u001b[0m\u001b[0;34m.\u001b[0m\u001b[0mio\u001b[0m\u001b[0;34m.\u001b[0m\u001b[0mread\u001b[0m\u001b[0;34m(\u001b[0m\u001b[0;34m'/fs/scratch/PCON0008/warner785/bwarner/SPmaps_csfd/SFD98.fits'\u001b[0m\u001b[0;34m)\u001b[0m\u001b[0;34m\u001b[0m\u001b[0m\n\u001b[0m\u001b[1;32m      3\u001b[0m \u001b[0mprint\u001b[0m\u001b[0;34m(\u001b[0m\u001b[0msysMap\u001b[0m\u001b[0;34m)\u001b[0m\u001b[0;34m\u001b[0m\u001b[0m\n",
      "\u001b[0;32m~/.conda/envs/DES_env/lib/python3.7/site-packages/esutil/io.py\u001b[0m in \u001b[0;36mread\u001b[0;34m(fileobj, **keywords)\u001b[0m\n\u001b[1;32m    239\u001b[0m     \u001b[0;32mtry\u001b[0m\u001b[0;34m:\u001b[0m\u001b[0;34m\u001b[0m\u001b[0m\n\u001b[1;32m    240\u001b[0m         \u001b[0;32mif\u001b[0m \u001b[0mtype\u001b[0m \u001b[0;34m==\u001b[0m \u001b[0;34m'fits'\u001b[0m\u001b[0;34m:\u001b[0m\u001b[0;34m\u001b[0m\u001b[0m\n\u001b[0;32m--> 241\u001b[0;31m             \u001b[0mdata\u001b[0m \u001b[0;34m=\u001b[0m \u001b[0mread_fits\u001b[0m\u001b[0;34m(\u001b[0m\u001b[0mfobj\u001b[0m\u001b[0;34m,\u001b[0m \u001b[0;34m**\u001b[0m\u001b[0mkeywords\u001b[0m\u001b[0;34m)\u001b[0m\u001b[0;34m\u001b[0m\u001b[0m\n\u001b[0m\u001b[1;32m    242\u001b[0m         \u001b[0;32melif\u001b[0m \u001b[0mtype\u001b[0m \u001b[0;34m==\u001b[0m \u001b[0;34m'json'\u001b[0m\u001b[0;34m:\u001b[0m\u001b[0;34m\u001b[0m\u001b[0m\n\u001b[1;32m    243\u001b[0m             \u001b[0mdata\u001b[0m \u001b[0;34m=\u001b[0m \u001b[0mjson_util\u001b[0m\u001b[0;34m.\u001b[0m\u001b[0mread\u001b[0m\u001b[0;34m(\u001b[0m\u001b[0mfobj\u001b[0m\u001b[0;34m,\u001b[0m \u001b[0;34m**\u001b[0m\u001b[0mkeywords\u001b[0m\u001b[0;34m)\u001b[0m\u001b[0;34m\u001b[0m\u001b[0m\n",
      "\u001b[0;32m~/.conda/envs/DES_env/lib/python3.7/site-packages/esutil/io.py\u001b[0m in \u001b[0;36mread_fits\u001b[0;34m(fname, **keywords)\u001b[0m\n\u001b[1;32m    432\u001b[0m \u001b[0;34m\u001b[0m\u001b[0m\n\u001b[1;32m    433\u001b[0m     \u001b[0;32mif\u001b[0m \u001b[0mfits_package\u001b[0m \u001b[0;34m==\u001b[0m \u001b[0;34m'fitsio'\u001b[0m\u001b[0;34m:\u001b[0m\u001b[0;34m\u001b[0m\u001b[0m\n\u001b[0;32m--> 434\u001b[0;31m         \u001b[0mresult\u001b[0m \u001b[0;34m=\u001b[0m \u001b[0mread_fits_fitsio\u001b[0m\u001b[0;34m(\u001b[0m\u001b[0mfname\u001b[0m\u001b[0;34m,\u001b[0m \u001b[0;34m**\u001b[0m\u001b[0mkeywords\u001b[0m\u001b[0;34m)\u001b[0m\u001b[0;34m\u001b[0m\u001b[0m\n\u001b[0m\u001b[1;32m    435\u001b[0m     \u001b[0;32melif\u001b[0m \u001b[0mfits_package\u001b[0m \u001b[0;34m==\u001b[0m \u001b[0;34m'pyfits'\u001b[0m\u001b[0;34m:\u001b[0m\u001b[0;34m\u001b[0m\u001b[0m\n\u001b[1;32m    436\u001b[0m         \u001b[0mresult\u001b[0m \u001b[0;34m=\u001b[0m \u001b[0mread_fits_pyfits\u001b[0m\u001b[0;34m(\u001b[0m\u001b[0mfname\u001b[0m\u001b[0;34m,\u001b[0m \u001b[0;34m**\u001b[0m\u001b[0mkeywords\u001b[0m\u001b[0;34m)\u001b[0m\u001b[0;34m\u001b[0m\u001b[0m\n",
      "\u001b[0;32m~/.conda/envs/DES_env/lib/python3.7/site-packages/esutil/io.py\u001b[0m in \u001b[0;36mread_fits_fitsio\u001b[0;34m(fname, **keywords)\u001b[0m\n\u001b[1;32m    484\u001b[0m                            \u001b[0mrows\u001b[0m\u001b[0;34m=\u001b[0m\u001b[0mrows\u001b[0m\u001b[0;34m,\u001b[0m\u001b[0;34m\u001b[0m\u001b[0m\n\u001b[1;32m    485\u001b[0m                            \u001b[0mcolumns\u001b[0m\u001b[0;34m=\u001b[0m\u001b[0mcolumns\u001b[0m\u001b[0;34m,\u001b[0m\u001b[0;34m\u001b[0m\u001b[0m\n\u001b[0;32m--> 486\u001b[0;31m                            header=header)\n\u001b[0m\u001b[1;32m    487\u001b[0m \u001b[0;34m\u001b[0m\u001b[0m\n\u001b[1;32m    488\u001b[0m \u001b[0;32mdef\u001b[0m \u001b[0mread_fits_pyfits\u001b[0m\u001b[0;34m(\u001b[0m\u001b[0mfname\u001b[0m\u001b[0;34m,\u001b[0m \u001b[0;34m**\u001b[0m\u001b[0mkeywords\u001b[0m\u001b[0;34m)\u001b[0m\u001b[0;34m:\u001b[0m\u001b[0;34m\u001b[0m\u001b[0m\n",
      "\u001b[0;32m~/.conda/envs/DES_env/lib/python3.7/site-packages/fitsio/fitslib.py\u001b[0m in \u001b[0;36mread\u001b[0;34m(filename, ext, extver, columns, rows, header, case_sensitive, upper, lower, vstorage, verbose, trim_strings, **keys)\u001b[0m\n\u001b[1;32m    145\u001b[0m                     \u001b[0;32mbreak\u001b[0m\u001b[0;34m\u001b[0m\u001b[0m\n\u001b[1;32m    146\u001b[0m             \u001b[0;32mif\u001b[0m \u001b[0mext\u001b[0m \u001b[0;32mis\u001b[0m \u001b[0;32mNone\u001b[0m\u001b[0;34m:\u001b[0m\u001b[0;34m\u001b[0m\u001b[0m\n\u001b[0;32m--> 147\u001b[0;31m                 \u001b[0;32mraise\u001b[0m \u001b[0mIOError\u001b[0m\u001b[0;34m(\u001b[0m\u001b[0;34m\"No extensions have data\"\u001b[0m\u001b[0;34m)\u001b[0m\u001b[0;34m\u001b[0m\u001b[0m\n\u001b[0m\u001b[1;32m    148\u001b[0m \u001b[0;34m\u001b[0m\u001b[0m\n\u001b[1;32m    149\u001b[0m         \u001b[0mitem\u001b[0m \u001b[0;34m=\u001b[0m \u001b[0m_make_item\u001b[0m\u001b[0;34m(\u001b[0m\u001b[0mext\u001b[0m\u001b[0;34m,\u001b[0m \u001b[0mextver\u001b[0m\u001b[0;34m=\u001b[0m\u001b[0mextver\u001b[0m\u001b[0;34m)\u001b[0m\u001b[0;34m\u001b[0m\u001b[0m\n",
      "\u001b[0;31mOSError\u001b[0m: No extensions have data"
     ]
    }
   ],
   "source": [
    "#map_path = '/fs/scratch/PCON0008/warner785/bwarner/SPmaps_csfd/'\n",
    "sysMap = esutil.io.read('/fs/scratch/PCON0008/warner785/bwarner/SPmaps_csfd/SFD98.fits')\n",
    "print(sysMap)"
   ]
  },
  {
   "cell_type": "code",
   "execution_count": 37,
   "id": "ce325393-33e0-43f6-8d57-3e36969a00c5",
   "metadata": {},
   "outputs": [],
   "source": [
    "import healpy\n",
    "data = csfd\n",
    "npix = 50331648\n",
    "nside = 2048\n",
    "rot_csfd = gal2eq(data)"
   ]
  },
  {
   "cell_type": "code",
   "execution_count": 36,
   "id": "80ad01d1-4c51-44b4-a778-7c52d3cd4ac6",
   "metadata": {},
   "outputs": [],
   "source": [
    "import numpy as np\n",
    "import healpy as hp\n",
    "import scipy.interpolate as interp\n",
    "import healpix_util as hu\n",
    "import matplotlib.pyplot as plt\n",
    "import time\n",
    "import random\n",
    "import fitsio as fio\n",
    "import os\n",
    "import treecorr\n",
    "import copy\n",
    "import pdb\n",
    "import sys\n",
    "import scipy.linalg as linalg\n",
    "import pylab\n",
    "import astropy.coordinates\n",
    "\n",
    "def gal2eq(data,map_coord='G', new_coord='C',inplace=False, usemask = False):\n",
    "\t\"\"\"\n",
    "\tconverts a map from galaxtic to celestial coordinates \n",
    "\tcan be used for the planck extinction map\n",
    "\t\"\"\"\n",
    "\tstart = time.time()\n",
    "\tnpix = 50331648\n",
    "\tnside = 2048\n",
    "\n",
    "\ttheta,phi = hp.pix2ang(nside,np.arange(npix)) #angles of our celestial map (what we want)\n",
    "\ttheta2,phi2 = hp.rotator.Rotator(coord=[new_coord,map_coord])(theta,phi) #the corresponding angle in gal coords (what we have)\n",
    "\t\n",
    "\tif usemask == False:\n",
    "\t\t#this line would only work on an unmasked map\n",
    "\t\tnew = hp.pixelfunc.get_interp_val(data,theta2,phi2)\n",
    "\telse:\n",
    "\t\t#these lines should work for a masked map\n",
    "\t\tnn_pix, nn_weight = hp.pixelfunc.get_interp_weights(nside, theta = theta2, phi = phi2)\n",
    "\t\tfor i in xrange(4): #iterate over the 4 nearest neighbours\n",
    "\t\t\tnn_weight[i][ mask[nn_pix[i]] ] = 0.\n",
    "\n",
    "\t\t#The pixels with all 4 nearest neighbours masked (==0 in nn_weights)\n",
    "\t\tall_nn_masked = np.product(~nn_weight.astype('bool'), axis=0).astype('bool')\n",
    "\n",
    "\t\tdata_good_pix   = np.array([ self.data[nn_pix][i][~all_nn_masked] for i in xrange(4)])\n",
    "\t\tweight_good_pix = np.array([ nn_weight[i][~all_nn_masked] for i in xrange(4)])\n",
    "\n",
    "\t\tnew = np.ones(self.npix)*hp.UNSEEN\n",
    "\t\tnew[~all_nn_masked] = np.average(data_good_pix, weights= weight_good_pix , axis=0)\n",
    "\n",
    "\n",
    "\tif inplace == True:\n",
    "\t\tdata = new\n",
    "\t\tmask = np.zeros(len(new)).astype('bool')\n",
    "\t\tfracdet = np.ones(len(new))\n",
    "\t\tfinish = time.time()\n",
    "\t\tprint ('gal2eq took {0}s'.format(finish-start))\n",
    "\t\treturn\n",
    "\telse:\n",
    "\t\treturn new"
   ]
  },
  {
   "cell_type": "code",
   "execution_count": 22,
   "id": "0cebd484-8e26-4cce-95dc-3139c701704e",
   "metadata": {},
   "outputs": [
    {
     "name": "stdout",
     "output_type": "stream",
     "text": [
      "('I',)\n",
      "('PIXEL', 'SIGNAL')\n",
      "\n",
      "XTENSION= 'BINTABLE'           / binary table extension\n",
      "BITPIX  =                    8 / 8-bit bytes\n",
      "NAXIS   =                    2 / 2-dimensional binary table\n",
      "NAXIS1  =                    8 / width of table in bytes\n",
      "NAXIS2  =            201326592 / number of rows in table\n",
      "PCOUNT  =                    0 / size of special data area\n",
      "GCOUNT  =                    1 / one data group (required keyword)\n",
      "TFIELDS =                    1 / number of fields in each row\n",
      "TTYPE1  = 'I'                  / label for field   1\n",
      "TFORM1  = 'D'                  / data format of field: 8-byte DOUBLE\n"
     ]
    }
   ],
   "source": [
    "print(star.dtype.names)\n",
    "print(ex.dtype.names)\n",
    "f = fitsio.FITS('/fs/scratch/PCON0008/warner785/bwarner/y3_stellar_density_4096_ring_jointmask_v2.2.fits.gz')\n",
    "h = f[-1].read_header()\n",
    "print(h)"
   ]
  },
  {
   "cell_type": "code",
   "execution_count": 20,
   "id": "3a5e06ca-719a-417a-a029-c6465a34285f",
   "metadata": {},
   "outputs": [
    {
     "name": "stdout",
     "output_type": "stream",
     "text": [
      "(201326592,)\n",
      "(201326592,)\n"
     ]
    },
    {
     "ename": "TypeError",
     "evalue": "bad number of pixels",
     "output_type": "error",
     "traceback": [
      "\u001b[0;31m---------------------------------------------------------------------------\u001b[0m",
      "\u001b[0;31mTypeError\u001b[0m                                 Traceback (most recent call last)",
      "\u001b[0;32m<ipython-input-20-1dee558bf698>\u001b[0m in \u001b[0;36m<module>\u001b[0;34m\u001b[0m\n\u001b[1;32m      2\u001b[0m \u001b[0mflat\u001b[0m \u001b[0;34m=\u001b[0m \u001b[0mstar\u001b[0m\u001b[0;34m[\u001b[0m\u001b[0;34m'I'\u001b[0m\u001b[0;34m]\u001b[0m\u001b[0;34m.\u001b[0m\u001b[0mflatten\u001b[0m\u001b[0;34m(\u001b[0m\u001b[0;34m)\u001b[0m\u001b[0;34m\u001b[0m\u001b[0m\n\u001b[1;32m      3\u001b[0m \u001b[0mprint\u001b[0m\u001b[0;34m(\u001b[0m\u001b[0mflat\u001b[0m\u001b[0;34m.\u001b[0m\u001b[0mshape\u001b[0m\u001b[0;34m)\u001b[0m\u001b[0;34m\u001b[0m\u001b[0m\n\u001b[0;32m----> 4\u001b[0;31m \u001b[0mprint\u001b[0m\u001b[0;34m(\u001b[0m\u001b[0mhp\u001b[0m\u001b[0;34m.\u001b[0m\u001b[0mvisufunc\u001b[0m\u001b[0;34m.\u001b[0m\u001b[0mmollview\u001b[0m\u001b[0;34m(\u001b[0m\u001b[0mex\u001b[0m\u001b[0;34m)\u001b[0m\u001b[0;34m)\u001b[0m\u001b[0;34m\u001b[0m\u001b[0m\n\u001b[0m\u001b[1;32m      5\u001b[0m \u001b[0;34m\u001b[0m\u001b[0m\n\u001b[1;32m      6\u001b[0m \u001b[0;31m#unseen = flat[flat != hp.UNSEEN]\u001b[0m\u001b[0;34m\u001b[0m\u001b[0;34m\u001b[0m\u001b[0m\n",
      "\u001b[0;32m~/.conda/envs/DES_env/lib/python3.7/site-packages/healpy/visufunc.py\u001b[0m in \u001b[0;36mmollview\u001b[0;34m(map, fig, rot, coord, unit, xsize, title, nest, min, max, flip, remove_dip, remove_mono, gal_cut, format, format2, cbar, cmap, badcolor, bgcolor, notext, norm, hold, margins, sub, nlocs, return_projected_map)\u001b[0m\n\u001b[1;32m    180\u001b[0m \u001b[0;34m\u001b[0m\u001b[0m\n\u001b[1;32m    181\u001b[0m     \u001b[0;31m# Ensure that the nside is valid\u001b[0m\u001b[0;34m\u001b[0m\u001b[0;34m\u001b[0m\u001b[0m\n\u001b[0;32m--> 182\u001b[0;31m     \u001b[0mnside\u001b[0m \u001b[0;34m=\u001b[0m \u001b[0mpixelfunc\u001b[0m\u001b[0;34m.\u001b[0m\u001b[0mget_nside\u001b[0m\u001b[0;34m(\u001b[0m\u001b[0mmap\u001b[0m\u001b[0;34m)\u001b[0m\u001b[0;34m\u001b[0m\u001b[0m\n\u001b[0m\u001b[1;32m    183\u001b[0m     \u001b[0mpixelfunc\u001b[0m\u001b[0;34m.\u001b[0m\u001b[0mcheck_nside\u001b[0m\u001b[0;34m(\u001b[0m\u001b[0mnside\u001b[0m\u001b[0;34m,\u001b[0m \u001b[0mnest\u001b[0m\u001b[0;34m=\u001b[0m\u001b[0mnest\u001b[0m\u001b[0;34m)\u001b[0m\u001b[0;34m\u001b[0m\u001b[0m\n\u001b[1;32m    184\u001b[0m \u001b[0;34m\u001b[0m\u001b[0m\n",
      "\u001b[0;32m~/.conda/envs/DES_env/lib/python3.7/site-packages/healpy/pixelfunc.py\u001b[0m in \u001b[0;36mget_nside\u001b[0;34m(m)\u001b[0m\n\u001b[1;32m   1798\u001b[0m     \u001b[0ma\u001b[0m \u001b[0mTypeError\u001b[0m \u001b[0mexception\u001b[0m \u001b[0;32mis\u001b[0m \u001b[0mraised\u001b[0m\u001b[0;34m.\u001b[0m\u001b[0;34m\u001b[0m\u001b[0m\n\u001b[1;32m   1799\u001b[0m     \"\"\"\n\u001b[0;32m-> 1800\u001b[0;31m     \u001b[0mtyp\u001b[0m \u001b[0;34m=\u001b[0m \u001b[0mmaptype\u001b[0m\u001b[0;34m(\u001b[0m\u001b[0mm\u001b[0m\u001b[0;34m)\u001b[0m\u001b[0;34m\u001b[0m\u001b[0m\n\u001b[0m\u001b[1;32m   1801\u001b[0m     \u001b[0;32mif\u001b[0m \u001b[0mtyp\u001b[0m \u001b[0;34m==\u001b[0m \u001b[0;36m0\u001b[0m\u001b[0;34m:\u001b[0m\u001b[0;34m\u001b[0m\u001b[0m\n\u001b[1;32m   1802\u001b[0m         \u001b[0;32mreturn\u001b[0m \u001b[0mnpix2nside\u001b[0m\u001b[0;34m(\u001b[0m\u001b[0mlen\u001b[0m\u001b[0;34m(\u001b[0m\u001b[0mm\u001b[0m\u001b[0;34m)\u001b[0m\u001b[0;34m)\u001b[0m\u001b[0;34m\u001b[0m\u001b[0m\n",
      "\u001b[0;32m~/.conda/envs/DES_env/lib/python3.7/site-packages/healpy/pixelfunc.py\u001b[0m in \u001b[0;36mmaptype\u001b[0;34m(m)\u001b[0m\n\u001b[1;32m    235\u001b[0m             \u001b[0;32mreturn\u001b[0m \u001b[0mlen\u001b[0m\u001b[0;34m(\u001b[0m\u001b[0mm\u001b[0m\u001b[0;34m)\u001b[0m\u001b[0;34m\u001b[0m\u001b[0m\n\u001b[1;32m    236\u001b[0m         \u001b[0;32melse\u001b[0m\u001b[0;34m:\u001b[0m\u001b[0;34m\u001b[0m\u001b[0m\n\u001b[0;32m--> 237\u001b[0;31m             \u001b[0;32mraise\u001b[0m \u001b[0mTypeError\u001b[0m\u001b[0;34m(\u001b[0m\u001b[0;34m\"bad number of pixels\"\u001b[0m\u001b[0;34m)\u001b[0m\u001b[0;34m\u001b[0m\u001b[0m\n\u001b[0m\u001b[1;32m    238\u001b[0m     \u001b[0;32melse\u001b[0m\u001b[0;34m:\u001b[0m\u001b[0;34m\u001b[0m\u001b[0m\n\u001b[1;32m    239\u001b[0m         \u001b[0;32mif\u001b[0m \u001b[0misnpixok\u001b[0m\u001b[0;34m(\u001b[0m\u001b[0mlen\u001b[0m\u001b[0;34m(\u001b[0m\u001b[0mm\u001b[0m\u001b[0;34m)\u001b[0m\u001b[0;34m)\u001b[0m\u001b[0;34m:\u001b[0m\u001b[0;34m\u001b[0m\u001b[0m\n",
      "\u001b[0;31mTypeError\u001b[0m: bad number of pixels"
     ]
    }
   ],
   "source": [
    "print(star.shape)\n",
    "flat = star['I'].flatten()\n",
    "print(flat.shape)\n",
    "print(hp.visufunc.mollview(ex))\n",
    "\n",
    "#unseen = flat[flat != hp.UNSEEN]\n",
    "#print(unseen[unseen != 0].size)"
   ]
  },
  {
   "cell_type": "code",
   "execution_count": 2,
   "id": "9a735fbe-34f2-4ad0-8216-3103d9670321",
   "metadata": {},
   "outputs": [
    {
     "name": "stdout",
     "output_type": "stream",
     "text": [
      "('DNF_ZMEAN_SOF', 'weight', 'DNF_ZMC_SOF', 'DNF_ZSIGMA_SOF', 'RA', 'COADD_OBJECT_ID', 'DEC')\n",
      "('HPIX', 'FRACGOOD')\n"
     ]
    }
   ],
   "source": [
    "print(maglim.dtype.names) #\n",
    "print(mask.dtype.names)\n",
    "#print(weights.dtype.names)\n",
    "nside = 4096\n",
    "theta, phi = hp.pixelfunc.pix2ang(nside, mask['HPIX'], nest=False, lonlat=False)\n"
   ]
  },
  {
   "cell_type": "code",
   "execution_count": 5,
   "id": "01b65765-7320-4e93-9f3a-64c586130556",
   "metadata": {},
   "outputs": [
    {
     "data": {
      "text/plain": [
       "[<matplotlib.lines.Line2D at 0x2aeb3719c400>]"
      ]
     },
     "execution_count": 5,
     "metadata": {},
     "output_type": "execute_result"
    },
    {
     "data": {
      "image/png": "[encoded data removed]",
      "text/plain": [
       "<Figure size 432x288 with 1 Axes>"
      ]
     },
     "metadata": {
      "needs_background": "light"
     },
     "output_type": "display_data"
    }
   ],
   "source": [
    "fig, ax = plt.subplots()\n",
    "ax.plot( maglim['RA'], maglim['DEC'], \"b.\")\n",
    "ax.plot( dmass_spt['RA'], dmass_spt['DEC'], \"g.\")"
   ]
  },
  {
   "cell_type": "code",
   "execution_count": null,
   "id": "f15a113b-cec9-4eed-9362-3dde917710fc",
   "metadata": {},
   "outputs": [],
   "source": []
  }
 ],
 "metadata": {
  "kernelspec": {
   "display_name": "Python (DES_env)",
   "language": "python",
   "name": "des_env"
  },
  "language_info": {
   "codemirror_mode": {
    "name": "ipython",
    "version": 3
   },
   "file_extension": ".py",
   "mimetype": "text/x-python",
   "name": "python",
   "nbconvert_exporter": "python",
   "pygments_lexer": "ipython3",
   "version": "3.7.0"
  }
 },
 "nbformat": 4,
 "nbformat_minor": 5
}
