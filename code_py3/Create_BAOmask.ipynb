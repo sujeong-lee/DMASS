{
 "cells": [
  {
   "cell_type": "code",
   "execution_count": 1,
   "id": "28e5e3c7-d4de-4744-b1ca-00d49c473106",
   "metadata": {},
   "outputs": [
    {
     "name": "stderr",
     "output_type": "stream",
     "text": [
      "WARNING: AstroMLDeprecationWarning: 'decorators' has been moved to 'astroML.utils' and will be removed from the main namespace in the future. [astroML.decorators]\n",
      "In /users/PCON0003/warner785/.conda/envs/DES_env/lib/python3.7/site-packages/matplotlib/mpl-data/stylelib/_classic_test.mplstyle: \n",
      "The savefig.frameon rcparam was deprecated in Matplotlib 3.1 and will be removed in 3.3.\n",
      "In /users/PCON0003/warner785/.conda/envs/DES_env/lib/python3.7/site-packages/matplotlib/mpl-data/stylelib/_classic_test.mplstyle: \n",
      "The verbose.level rcparam was deprecated in Matplotlib 3.1 and will be removed in 3.3.\n",
      "In /users/PCON0003/warner785/.conda/envs/DES_env/lib/python3.7/site-packages/matplotlib/mpl-data/stylelib/_classic_test.mplstyle: \n",
      "The verbose.fileo rcparam was deprecated in Matplotlib 3.1 and will be removed in 3.3.\n"
     ]
    }
   ],
   "source": [
    "import sys\n",
    "sys.path.append('../')\n",
    "from xd import *\n",
    "from utils import *\n",
    "import esutil\n",
    "import healpy as hp\n",
    "from systematics import *\n",
    "from systematics_module import *\n",
    "import os\n",
    "from numpy.lib.recfunctions import append_fields\n",
    "import scipy.stats\n",
    "\n",
    "import matplotlib.pyplot as plt\n",
    "import numpy as np"
   ]
  },
  {
   "cell_type": "code",
   "execution_count": 2,
   "id": "db546e30-5479-4aef-831b-150badbf7822",
   "metadata": {},
   "outputs": [],
   "source": [
    "# calling initial map \n",
    "\n",
    "path = '/fs/scratch/PCON0008/warner785/bwarner/'\n",
    "LSSGoldmask = fitsio.read(path+'MASK_Y3LSSBAOSOF_22_3_v2p2.fits') #BAO is different measurement, may be different from this analysis\n",
    "# 'Y1LSSmask_v2_redlimcut_il22_seeil4.0_4096ring.fits'\n",
    "#GoldMask = callingEliGoldMask()\n",
    "LSSMask = LSSGoldmask\n",
    "GoldMask = LSSGoldmask\n",
    "\n",
    "pixra, pixdec = hp.pix2ang(nside=4096,ipix=GoldMask['PIXEL'],nest=True,lonlat=True)\n",
    "GoldMask = append_fields(GoldMask, 'RA', pixra, usemask=False)\n",
    "GoldMask = append_fields(GoldMask, 'DEC', pixdec, usemask=False)\n",
    "\n",
    "#create spt region cut:\n",
    "mask_spt = (GoldMask['RA']>295)&(GoldMask['RA']<360)|(GoldMask['RA']<105)\n",
    "mask_spt = mask_spt & (GoldMask['DEC']>-68) & (GoldMask['DEC']<-10)\n",
    "GoldMask_spt = GoldMask[mask_spt]"
   ]
  },
  {
   "cell_type": "code",
   "execution_count": 3,
   "id": "3a82ff67-bea1-4083-a2d4-1d9c8ef5a074",
   "metadata": {},
   "outputs": [
    {
     "data": {
      "text/plain": [
       "[<matplotlib.lines.Line2D at 0x2b4e792611d0>]"
      ]
     },
     "execution_count": 3,
     "metadata": {},
     "output_type": "execute_result"
    },
    {
     "data": {
      "image/png": "[encoded data removed]",
      "text/plain": [
       "<Figure size 432x288 with 1 Axes>"
      ]
     },
     "metadata": {
      "needs_background": "light"
     },
     "output_type": "display_data"
    }
   ],
   "source": [
    "fig, ax = plt.subplots()\n",
    "ax.plot( GoldMask['RA'], GoldMask['DEC'], \"b,\")"
   ]
  },
  {
   "cell_type": "code",
   "execution_count": 4,
   "id": "e374c4d5-a733-4ccc-a6e9-0dfde0c6c63e",
   "metadata": {},
   "outputs": [],
   "source": [
    "GoldMask_spt['PIXEL'] = hp.nest2ring(4096, GoldMask_spt['PIXEL'])\n",
    "pixel = GoldMask_spt['PIXEL']\n",
    "GoldMask_spt = appendColumn(GoldMask_spt, name='HPIX', value= pixel )"
   ]
  },
  {
   "cell_type": "code",
   "execution_count": 5,
   "id": "bff008da-8724-4bed-ac0b-dc93f62d3aa7",
   "metadata": {},
   "outputs": [
    {
     "name": "stdout",
     "output_type": "stream",
     "text": [
      "3524.632514386404\n"
     ]
    }
   ],
   "source": [
    "pixarea = hp.nside2pixarea( 4096, degrees = True)\n",
    "sptnpix = GoldMask_spt['HPIX'].size #hp.get_map_size( GoldMask_spt['PIXEL'] )\n",
    "SPTMaparea = pixarea * sptnpix\n",
    "print(SPTMaparea)"
   ]
  },
  {
   "cell_type": "code",
   "execution_count": 6,
   "id": "f252e4f1-7b0e-483d-9a23-22d73d31d65d",
   "metadata": {},
   "outputs": [
    {
     "name": "stdout",
     "output_type": "stream",
     "text": [
      "('PIXEL', 'SIGNAL', 'RA', 'DEC', 'HPIX')\n"
     ]
    }
   ],
   "source": [
    "print(GoldMask_spt.dtype.names)"
   ]
  },
  {
   "cell_type": "code",
   "execution_count": 7,
   "id": "c7bbed25-cb85-415c-a848-3b27f5babc37",
   "metadata": {},
   "outputs": [],
   "source": [
    "##path = '/fs/scratch/PCON0008/warner785/bwarner/'\n",
    "\n",
    "##fracDet = fitsio.read(path+'y3a2_griz_o.4096_t.32768_coverfoot_EQU.fits.gz')\n",
    "##fracDet['PIXEL'] = hp.nest2ring(4096, fracDet['PIXEL'])\n",
    "\n",
    "##frac_sig = np.zeros(hp.nside2npix(4096))"
   ]
  },
  {
   "cell_type": "code",
   "execution_count": 8,
   "id": "f2ee1575-1354-4d71-a8f6-939feb844561",
   "metadata": {},
   "outputs": [],
   "source": [
    "# make array of fracgood for BAO mask:\n",
    "\n",
    "##print(fracDet.size)\n",
    "##print(GoldMask_spt.size)\n",
    "\n",
    "##frac_sig[fracDet[\"PIXEL\"]] = fracDet[\"SIGNAL\"]\n",
    "##fracgood = frac_sig[GoldMask_spt['PIXEL']]\n",
    "\n",
    "#pixels = np.zeros(hp.nside2npix(4096))\n",
    "#for x in range(pixels.size):\n",
    "#        if x>0:\n",
    "#            pixels[x]=pixels[x-1]+1"
   ]
  },
  {
   "cell_type": "code",
   "execution_count": 9,
   "id": "caf6e30c-e240-42d5-adff-85b51a514b6f",
   "metadata": {},
   "outputs": [],
   "source": [
    "#fracNew = np.zeros( len(pixels), dtype=[('PIXEL','int'), ('SIGNAL','float')])\n",
    "#fracNew['PIXEL'] = pixels\n",
    "#fracNew['SIGNAL'] = frac_sig"
   ]
  },
  {
   "cell_type": "code",
   "execution_count": 10,
   "id": "c68bf8ef-7e2c-43aa-8128-aec6581a73a6",
   "metadata": {},
   "outputs": [],
   "source": [
    "#frac_mask = np.in1d(fracNew[\"PIXEL\"], GoldMask_spt[\"PIXEL\"], assume_unique=False, invert=False)"
   ]
  },
  {
   "cell_type": "code",
   "execution_count": 11,
   "id": "e854c2df-ba1f-4c58-9093-2fbb213a6d10",
   "metadata": {},
   "outputs": [],
   "source": [
    "##GoldMask_spt = appendColumn(GoldMask_spt, name='FRACGOOD', value= fracgood)"
   ]
  },
  {
   "cell_type": "code",
   "execution_count": 7,
   "id": "26370495-ece9-4d2f-b8af-904c126fc720",
   "metadata": {},
   "outputs": [
    {
     "name": "stdout",
     "output_type": "stream",
     "text": [
      "[1.0 0.96875 0.96875 1.0 0.953125 0.953125 0.984375 0.921875 1.0 0.859375]\n"
     ]
    }
   ],
   "source": [
    "#check that this was implemented correctly\n",
    "\n",
    "##print(GoldMask_spt[\"FRACGOOD\"][0:10])\n",
    "print(GoldMask_spt[\"SIGNAL\"][0:10])\n",
    "\n",
    "frac = GoldMask_spt['SIGNAL']\n",
    "GoldMask_spt = appendColumn(GoldMask_spt, name='FRACGOOD', value= frac )"
   ]
  },
  {
   "cell_type": "code",
   "execution_count": 8,
   "id": "6e0fe9d0-53ee-43cd-9307-d2b0d632626c",
   "metadata": {},
   "outputs": [
    {
     "name": "stdout",
     "output_type": "stream",
     "text": [
      "('PIXEL', 'SIGNAL', 'RA', 'DEC', 'HPIX', 'FRACGOOD')\n"
     ]
    }
   ],
   "source": [
    "print(GoldMask_spt.dtype.names)"
   ]
  },
  {
   "cell_type": "code",
   "execution_count": 9,
   "id": "e8dafbe9-e120-4143-822a-2cdbfb0f4362",
   "metadata": {},
   "outputs": [],
   "source": [
    "#save new mask\n",
    "\n",
    "#outdir = '/users/PCON0003/warner785/lss_sys/'\n",
    "outdir = '/fs/scratch/PCON0008/warner785/bwarner/mocks/'\n",
    "os.makedirs(outdir, exist_ok=True)\n",
    "esutil.io.write( outdir+'MASK_Y3LSSBAO_SPT_ring.fits', GoldMask_spt, overwrite=True)"
   ]
  },
  {
   "cell_type": "code",
   "execution_count": null,
   "id": "afd7d295-5704-42a1-9272-3d50d4a1e856",
   "metadata": {},
   "outputs": [],
   "source": []
  }
 ],
 "metadata": {
  "kernelspec": {
   "display_name": "Python (DES_env)",
   "language": "python",
   "name": "des_env"
  },
  "language_info": {
   "codemirror_mode": {
    "name": "ipython",
    "version": 3
   },
   "file_extension": ".py",
   "mimetype": "text/x-python",
   "name": "python",
   "nbconvert_exporter": "python",
   "pygments_lexer": "ipython3",
   "version": "3.7.0"
  }
 },
 "nbformat": 4,
 "nbformat_minor": 5
}
