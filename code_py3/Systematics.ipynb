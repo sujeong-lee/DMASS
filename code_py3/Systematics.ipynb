{
 "cells": [
  {
   "cell_type": "code",
   "execution_count": 1,
   "id": "3f149afa-d194-442c-a6ac-e58048d8adf4",
   "metadata": {},
   "outputs": [
    {
     "name": "stderr",
     "output_type": "stream",
     "text": [
      "WARNING: AstroMLDeprecationWarning: 'decorators' has been moved to 'astroML.utils' and will be removed from the main namespace in the future. [astroML.decorators]\n",
      "In /users/PCON0003/warner785/.conda/envs/DES_env/lib/python3.7/site-packages/matplotlib/mpl-data/stylelib/_classic_test.mplstyle: \n",
      "The savefig.frameon rcparam was deprecated in Matplotlib 3.1 and will be removed in 3.3.\n",
      "In /users/PCON0003/warner785/.conda/envs/DES_env/lib/python3.7/site-packages/matplotlib/mpl-data/stylelib/_classic_test.mplstyle: \n",
      "The verbose.level rcparam was deprecated in Matplotlib 3.1 and will be removed in 3.3.\n",
      "In /users/PCON0003/warner785/.conda/envs/DES_env/lib/python3.7/site-packages/matplotlib/mpl-data/stylelib/_classic_test.mplstyle: \n",
      "The verbose.fileo rcparam was deprecated in Matplotlib 3.1 and will be removed in 3.3.\n"
     ]
    }
   ],
   "source": [
    "import sys\n",
    "sys.path.append('../')\n",
    "from xd import *\n",
    "from utils import *\n",
    "import esutil\n",
    "import healpy as hp\n",
    "from systematics import *\n",
    "from systematics_module import *\n",
    "import os\n",
    "\n",
    "%matplotlib inline\n",
    "\n",
    "%load_ext autoreload\n",
    "%autoreload 2"
   ]
  },
  {
   "cell_type": "code",
   "execution_count": 2,
   "id": "344e1ca1-13ab-4f39-a46b-60a4e29c0ae9",
   "metadata": {},
   "outputs": [],
   "source": [
    "import numpy as np\n",
    "from run_systematics import sys_iteration, weightmultiply, fitting_allSP, calling_sysMap"
   ]
  },
  {
   "cell_type": "code",
   "execution_count": 3,
   "id": "ec73b394-3e4f-4222-b4b5-8d38f5cdb36e",
   "metadata": {},
   "outputs": [],
   "source": [
    "# calling map \n",
    "path = '/fs/scratch/PCON0003/warner785/bwarner/'\n",
    "LSSGoldmask = fitsio.read(path+'MASK_Y3LSSBAOSOF_22_3_v2p2.fits')\n",
    "# 'Y1LSSmask_v2_redlimcut_il22_seeil4.0_4096ring.fits'\n",
    "#GoldMask = callingEliGoldMask()\n",
    "LSSMask = LSSGoldmask\n",
    "GoldMask = LSSGoldmask\n",
    "\n",
    "pixra, pixdec = hp.pix2ang(nside=4096,ipix=GoldMask['PIXEL'],nest=True,lonlat=True)\n",
    "\n",
    "LSSMask = LSSMask[pixdec >-3.0 ]\n",
    "#GoldMask_st82 = Cuts.SpatialCuts(GoldMask, ra=320, ra2=360, dec=-2, dec2=2)\n",
    "GoldMask_st82 = GoldMask[ pixdec > -3.0 ]\n",
    "GoldMask_spt = GoldMask[ pixdec < -3.0 ]\n",
    "#GoldMask_spt = Cuts.SpatialCuts(GoldMask_spt, ra=0, ra2 = 100, dec=-52, dec2 = -48)\n",
    "\n",
    "pixarea = hp.nside2pixarea( 4096, degrees = True)\n",
    "sptnpix = GoldMask_spt['PIXEL'].size #hp.get_map_size( GoldMask_spt['PIXEL'] )\n",
    "st82npix =  GoldMask_st82['PIXEL'].size # hp.get_map_size( GoldMask_st82 )\n",
    "SPTMaparea = pixarea * sptnpix\n",
    "ST82Maparea = pixarea * st82npix"
   ]
  },
  {
   "cell_type": "code",
   "execution_count": 4,
   "id": "8491cf35-1d7f-4942-b07d-480df3e0e3e1",
   "metadata": {},
   "outputs": [
    {
     "name": "stdout",
     "output_type": "stream",
     "text": [
      "/users/PCON0003/warner785/DMASS-analysis/measurements/code_py3\n"
     ]
    }
   ],
   "source": [
    "sys.path.append('../../')\n",
    "sys.path.append('/DMASS-analysis/measurements/code_py3/')\n",
    "import esutil\n",
    "import matplotlib.pyplot as plt\n",
    "from matplotlib import rc\n",
    "rc('font',**{'family':'sans-serif','sans-serif':['Helvetica']})\n",
    "## for Palatino and other serif fonts use:\n",
    "#rc('font',**{'family':'serif','serif':['Palatino']})\n",
    "rc('text', usetex=True)\n",
    "os.chdir('../../DMASS-analysis/measurements/code_py3/')\n",
    "print(os.getcwd())\n",
    "from calling_catalogs import *\n",
    "rootdir = '/users/PCON0003/warner785/DMASS-analysis/measurements/clustering/'\n",
    "from ggl_mcal import run_ng_jk, run_nn_jk, run_nk_jk, compute_eix_jk, compute_Rgamma_jk, construct_jk, compute_jkcov, save_results"
   ]
  },
  {
   "cell_type": "code",
   "execution_count": 5,
   "id": "3fb55074-0128-4e72-8d95-b0bf4565aac9",
   "metadata": {},
   "outputs": [],
   "source": [
    "def keepGoodRegion(des, hpInd = False, balrog=None):\n",
    "    import healpy as hp\n",
    "    import fitsio\n",
    "    # 25 is the faintest object detected by DES\n",
    "    # objects larger than 25 considered as Noise\n",
    "    \n",
    "    path = '/fs/scratch/PCON0003/warner785/bwarner/'\n",
    "    #LSSGoldmask = fitsio.read(path+'Y1LSSmask_v2_il22_seeil4.0_nside4096ring_redlimcut.fits')\n",
    "    #LSSGoldmask = fitsio.read(path+'Y1LSSmask_v1_il22seeil4.04096ring_redlimcut.fits')\n",
    "    LSSGoldmask = fitsio.read(path+'MASK_Y3LSSBAOSOF_22_3_v2p2.fits')\n",
    "    ringhp = hp.nest2ring(4096, [LSSGoldmask['PIXEL']])\n",
    "    #Y1LSSmask_v1_il22seeil4.04096ring_redlimcut.fits\n",
    "    #frac_cut = LSSGoldmask['FRAC'] > 0.8\n",
    "    #ind_good_ring = LSSGoldmask['PIXEL'][frac_cut]\n",
    "    ind_good_ring = ringhp\n",
    "    \n",
    "    # healpixify the catalog.\n",
    "    nside=4096\n",
    "    # Convert silly ra/dec to silly HP angular coordinates.\n",
    "    phi = des['RA'] * np.pi / 180.0\n",
    "    theta = ( 90.0 - des['DEC'] ) * np.pi/180.0\n",
    "\n",
    "    hpInd = hp.ang2pix(nside,theta,phi,nest=False)\n",
    "    keep = np.in1d(hpInd, ind_good_ring)\n",
    "    des = des[keep]\n",
    "    if hpInd is True:\n",
    "        return ind_good_ring\n",
    "    else:\n",
    "        return des"
   ]
  },
  {
   "cell_type": "code",
   "execution_count": 6,
   "id": "c0909738-70bb-464a-bc5c-f54eade40e5b",
   "metadata": {},
   "outputs": [],
   "source": [
    "def ra_dec_to_xyz(ra, dec):\n",
    "    \"\"\"Convert ra & dec to Euclidean points\n",
    "    Parameters\n",
    "    ----------\n",
    "    ra, dec : ndarrays\n",
    "    Returns\n",
    "    x, y, z : ndarrays\n",
    "    \"\"\"\n",
    "    sin_ra = np.sin(ra * np.pi / 180.)\n",
    "    cos_ra = np.cos(ra * np.pi / 180.)\n",
    "\n",
    "    sin_dec = np.sin(np.pi / 2 - dec * np.pi / 180.)\n",
    "    cos_dec = np.cos(np.pi / 2 - dec * np.pi / 180.)\n",
    "\n",
    "    return (cos_ra * sin_dec,\n",
    "            sin_ra * sin_dec,\n",
    "            cos_dec)\n",
    "\n",
    "def uniform_sphere(RAlim, DEClim, size=1):\n",
    "    \"\"\"Draw a uniform sample on a sphere\n",
    "    Parameters\n",
    "    ----------\n",
    "    RAlim : tuple\n",
    "        select Right Ascension between RAlim[0] and RAlim[1]\n",
    "        units are degrees\n",
    "    DEClim : tuple\n",
    "        select Declination between DEClim[0] and DEClim[1]\n",
    "    size : int (optional)\n",
    "        the size of the random arrays to return (default = 1)\n",
    "    Returns\n",
    "    -------\n",
    "    RA, DEC : ndarray\n",
    "        the random sample on the sphere within the given limits.\n",
    "        arrays have shape equal to size.\n",
    "    \"\"\"\n",
    "    zlim = np.sin(np.pi * np.asarray(DEClim) / 180.)\n",
    "\n",
    "    z = zlim[0] + (zlim[1] - zlim[0]) * np.random.random(size)\n",
    "    DEC = (180. / np.pi) * np.arcsin(z)\n",
    "    RA = RAlim[0] + (RAlim[1] - RAlim[0]) * np.random.random(size)\n",
    "    \n",
    "    return RA, DEC\n",
    "\n",
    "def uniform_random_on_sphere(data, size = None ):\n",
    "    ra = data['RA']\n",
    "    dec = data['DEC']\n",
    "    \n",
    "    n_features = ra.size\n",
    "    #size = 100 * data.size\n",
    "    \n",
    "    # draw a random sample with N points\n",
    "    ra_R, dec_R = uniform_sphere((min(ra), max(ra)),\n",
    "                                 (min(dec), max(dec)),\n",
    "                                 size)\n",
    "    #data = np.asarray(ra_dec_to_xyz(ra, dec), order='F').T\n",
    "    #data_R = np.asarray(ra_dec_to_xyz(ra_R, dec_R), order='F').T\n",
    "    \n",
    "    #random redshift distribution\n",
    "    \n",
    "    data_R = np.zeros((ra_R.size,), dtype=[('RA', 'float'), ('DEC', 'float')])\n",
    "    data_R['RA'] = ra_R\n",
    "    data_R['DEC'] = dec_R\n",
    "                              \n",
    "    return data_R\n",
    "\n",
    "## ---------------------------------------------"
   ]
  },
  {
   "cell_type": "code",
   "execution_count": 7,
   "id": "80b9fff0-16ba-4fe4-adf3-50fddba667b7",
   "metadata": {},
   "outputs": [
    {
     "name": "stdout",
     "output_type": "stream",
     "text": [
      "Calculating DMASS systematic weights...\n",
      "Resulting catalog size\n",
      "DMASS= 28441.7573735908\n",
      "randoms= 5864645\n"
     ]
    }
   ],
   "source": [
    "# import DMASS in validation region\n",
    "#lens, randoms = calling_lens_catalog('/fs/scratch/PCON0003/warner785/bwarner/dmass_y1_public_v1.fits')\n",
    "dmass_val, randoms = calling_lens_catalog('/users/PCON0003/warner785/DMASSY3/output/test/train_cat/y3/dmass_st82_DET200.fits')\n",
    "\n",
    "random_val = uniform_random_on_sphere(dmass_val, size = 50 * dmass_val.size)\n",
    "# applying LSS mask \n",
    "random_val = keepGoodRegion(random_val)"
   ]
  },
  {
   "cell_type": "code",
   "execution_count": 8,
   "id": "ca33a54f-599c-45fb-85de-bae8f5dd02f2",
   "metadata": {},
   "outputs": [
    {
     "name": "stdout",
     "output_type": "stream",
     "text": [
      "[71771941 71771626 71773248 ... 72968986 72905874 72968681]\n"
     ]
    }
   ],
   "source": [
    "print(dmass_val['HPIX_4096']) "
   ]
  },
  {
   "cell_type": "code",
   "execution_count": 9,
   "id": "cf77e2d4-be5d-4e19-b2ef-c86c5ce55679",
   "metadata": {},
   "outputs": [],
   "source": [
    "plt.rcParams.update({\n",
    "  \"text.usetex\": False,\n",
    "  \"font.family\": \"Helvetica\"\n",
    "})"
   ]
  },
  {
   "cell_type": "code",
   "execution_count": 10,
   "id": "2be62e86-6aa5-4970-be8b-4e3fcd9c2bba",
   "metadata": {},
   "outputs": [],
   "source": [
    "random_val = appendColumn(random_val, value=np.ones(random_val.size), name='WEIGHT')\n",
    "randomsind_val = np.random.choice( random_val.size, size=int(random_val.size/3.) )\n",
    "random_val = random_val[randomsind_val]"
   ]
  },
  {
   "cell_type": "code",
   "execution_count": 11,
   "id": "eaac4840-ffc9-48e1-804f-e6087103beb8",
   "metadata": {},
   "outputs": [
    {
     "name": "stdout",
     "output_type": "stream",
     "text": [
      "Calculating DMASS systematic weights...\n",
      "Resulting catalog size\n",
      "DMASS= 20605.043776036357\n",
      "randoms= 5864645\n"
     ]
    }
   ],
   "source": [
    "# import DMASS in training region\n",
    "#lens, randoms = calling_lens_catalog('/fs/scratch/PCON0003/warner785/bwarner/dmass_y1_public_v1.fits')\n",
    "dmass_train, randoms = calling_lens_catalog('/users/PCON0003/warner785/DMASSY3/output/test/train_cat/y3/dmass_st82_DET200train.fits')\n",
    "\n",
    "random_train = uniform_random_on_sphere(dmass_train, size = 50 * dmass_train.size)\n",
    "# applying LSS mask \n",
    "random_train = keepGoodRegion(random_train)"
   ]
  },
  {
   "cell_type": "code",
   "execution_count": 12,
   "id": "feb4d2b6-78a0-4d4a-97ad-374068ee9143",
   "metadata": {},
   "outputs": [],
   "source": [
    "random_train = appendColumn(random_train, value=np.ones(random_train.size), name='WEIGHT')\n",
    "randomsind_train = np.random.choice( random_train.size, size=int(random_train.size/3.) )\n",
    "random_train = random_train[randomsind_train]"
   ]
  },
  {
   "cell_type": "code",
   "execution_count": 13,
   "id": "0f110e6a-2e0a-4084-957c-710f42c91bd9",
   "metadata": {},
   "outputs": [
    {
     "name": "stdout",
     "output_type": "stream",
     "text": [
      "total num of train 258884\n",
      "\n",
      "--------------------------------\n",
      " applying DES veto mask to CMASS\n",
      "--------------------------------\n",
      "num of train_sample after des veto 61031\n"
     ]
    }
   ],
   "source": [
    "# calling CMASS\n",
    "\n",
    "import fitsio\n",
    "cmass = esutil.io.read('/fs/scratch/PCON0003/warner785/bwarner/cmass-dr12v4-S-Reid-full.dat.fits')\n",
    "train_sample = esutil.io.read('/fs/scratch/PCON0003/warner785/bwarner/cmass-dr12v4-S-Reid-full.dat.fits')\n",
    "#train_sample = esutil.io.read('/global/cscratch1/sd/bwarner/galaxy_DR11v1_CMASS_South-photoObj.fits.gz')\n",
    "print('total num of train', train_sample.size)\n",
    "print('\\n--------------------------------\\n applying DES veto mask to CMASS\\n--------------------------------')   \n",
    "train_sample = keepGoodRegion(train_sample)\n",
    "\n",
    "#fitsio.write( output_dir+'/cmass_in_st82.fits', train_sample)\n",
    "\n",
    "print('num of train_sample after des veto', train_sample.size)"
   ]
  },
  {
   "cell_type": "code",
   "execution_count": 14,
   "id": "c0e6e321-be3e-4aec-8c3f-94924495c68b",
   "metadata": {},
   "outputs": [],
   "source": [
    "cmass = train_sample\n",
    "\n",
    "rand_cmass = uniform_random_on_sphere(cmass, size = 200 * cmass.size)\n",
    "rand_cmass = keepGoodRegion(rand_cmass)\n",
    "rand_cmass = rand_cmass[ rand_cmass['DEC'] > -3.0 ]"
   ]
  },
  {
   "cell_type": "code",
   "execution_count": 155,
   "id": "c0fb8873-cead-4c38-aa10-7bed19956319",
   "metadata": {},
   "outputs": [
    {
     "name": "stdout",
     "output_type": "stream",
     "text": [
      "\n",
      "Calling catalogs >>>\n",
      "y3a2_z_o.4096_t.32768_FWHM.WMEAN_EQU.fits.gz\n",
      "reading 1/1 /fs/scratch/PCON0003/warner785/bwarner/y3a2_z_o.4096_t.32768_FWHM.WMEAN_EQU.fits.gz\n"
     ]
    }
   ],
   "source": [
    "# calling systematic maps\n",
    "#sysMap = calling_sysMap( properties=properties, kind='SPT', nside=4096 )\n",
    "\n",
    "# location of maps: /fs/scratch/PCON0003/warner785/bwarner/\n",
    "# y3a2_g_o.4096_t.32768_FWHM.WMEAN_EQU.fits.gz \n",
    "# y3a2_i_o.4096_t.32768_FWHM.WMEAN_EQU.fits.gz        \n",
    "# y3a2_r_o.4096_t.32768_FWHM.WMEAN_EQU.fits.gz        \n",
    "# y3a2_z_o.4096_t.32768_FWHM.WMEAN_EQU.fits.gz \n",
    "\n",
    "input_path = '/fs/scratch/PCON0003/warner785/bwarner/'\n",
    "input_keyword = 'y3a2_z' \n",
    "sysMap = io.SearchAndCallFits(path = input_path, keyword = input_keyword)"
   ]
  },
  {
   "cell_type": "code",
   "execution_count": 156,
   "id": "1a4d2730-be66-4702-8c07-8e539aa4adb0",
   "metadata": {},
   "outputs": [
    {
     "name": "stdout",
     "output_type": "stream",
     "text": [
      "('COADD_OBJECT_ID', 'RA', 'DEC', 'HPIX_4096', 'MAG_DETMODEL_G', 'MAGERR_DETMODEL_G', 'MAG_DETMODEL_R', 'MAGERR_DETMODEL_R', 'MAG_DETMODEL_I', 'MAGERR_DETMODEL_I', 'MAG_DETMODEL_Z', 'MAGERR_DETMODEL_Z', 'MOF_CM_MAG_ERR_G', 'MOF_CM_MAG_ERR_R', 'MOF_CM_MAG_ERR_I', 'MOF_CM_MAG_ERR_Z', 'MOF_CM_MAG_CORRECTED_G', 'MOF_CM_MAG_CORRECTED_R', 'MOF_CM_MAG_CORRECTED_I', 'MOF_CM_MAG_CORRECTED_Z', 'SOF_CM_MAG_ERR_G', 'SOF_CM_MAG_ERR_R', 'SOF_CM_MAG_ERR_I', 'SOF_CM_MAG_ERR_Z', 'SOF_CM_MAG_CORRECTED_G', 'SOF_CM_MAG_CORRECTED_R', 'SOF_CM_MAG_CORRECTED_I', 'SOF_CM_MAG_CORRECTED_Z', 'EXTENDED_CLASS_MASH_SOF', 'CMASS_PROB', 'WEIGHT')\n",
      "\n",
      "('PIXEL', 'SIGNAL')\n"
     ]
    }
   ],
   "source": [
    "print(dmass_val.dtype.names)\n",
    "print()\n",
    "print(sysMap.dtype.names)"
   ]
  },
  {
   "cell_type": "code",
   "execution_count": 157,
   "id": "a36756f3-9c97-40f0-9722-027619a7aa29",
   "metadata": {},
   "outputs": [
    {
     "name": "stdout",
     "output_type": "stream",
     "text": [
      "[0.83776313 0.83776313 0.84078258 ... 0.8790409  0.8790409  0.85562736]\n",
      "[ 94620 281920 430556 452556 389034 323763 273012 177128 107916  74643\n",
      "  47926  33264]\n"
     ]
    },
    {
     "data": {
      "image/png": "[encoded data removed]",
      "text/plain": [
       "<Figure size 432x288 with 1 Axes>"
      ]
     },
     "metadata": {
      "needs_background": "light"
     },
     "output_type": "display_data"
    }
   ],
   "source": [
    "#Jack's method:\n",
    "import matplotlib.pyplot as plt\n",
    "\n",
    "#np.percentile()\n",
    "\n",
    "index_mask = np.argsort(dmass_val['HPIX_4096'])\n",
    "dmass_chron = dmass_val[index_mask] # ordered by hpix values\n",
    "\n",
    "dim_mask = np.in1d(sysMap['PIXEL'], dmass_chron['HPIX_4096'], assume_unique=False, invert=False)\n",
    "\n",
    "minimum = np.percentile(sysMap['SIGNAL'][dim_mask], 1)\n",
    "#minimum = np.min(sysMap['SIGNAL'][dim_mask]) #FWHM signal (for g filter)\n",
    "maximum = np.percentile(sysMap['SIGNAL'][dim_mask], 99)\n",
    "#maximum = np.max(sysMap['SIGNAL'][dim_mask])\n",
    "#print(minimum)\n",
    "#print(maximum)\n",
    "\n",
    "pbin = np.linspace(minimum, maximum, 13)\n",
    "pcenter = pbin[:-1] + 0.025\n",
    "\n",
    "x = np.zeros(hp.nside2npix(4096))\n",
    "x[sysMap['PIXEL'][dim_mask]] = sysMap['SIGNAL'][dim_mask]\n",
    "\n",
    "#systematic value at galaxy location:\n",
    "\n",
    "sysval_gal = x[dmass_chron['HPIX_4096']]\n",
    "print(sysval_gal)\n",
    "h,_ = np.histogram(sysval_gal , bins=pbin)\n",
    "print(h)\n",
    "\n",
    "# want this plotted:\n",
    "#h/number_of_pixels_in_sysbin\n",
    "\n",
    "fracerr = 1/np.sqrt(h) #1 / sqrt(number of cmass galaxies in each bin)\n",
    "\n",
    "# change to number density: divide by area\n",
    "fig, ax = plt.subplots()\n",
    "ax.errorbar( pcenter, h)\n",
    "#ax.legend(chi2_reduced)\n",
    "plt.title('number of galaxies per bin')\n",
    "fig.savefig('gal_bin.pdf')"
   ]
  },
  {
   "cell_type": "code",
   "execution_count": 158,
   "id": "59232187-d115-454e-853f-a9bb886b44d8",
   "metadata": {},
   "outputs": [
    {
     "name": "stdout",
     "output_type": "stream",
     "text": [
      "without weights:\n",
      "[ 40183 120061 184288 191530 164503 137079 116200  75008  45709  31280\n",
      "  19933  13445]\n",
      "with weights:\n",
      "[ 39893.203 119244.33  182997.8   190209.97  163369.19  136142.19\n",
      " 115407.5    74480.5    45402.375  31056.     19794.25   13356.   ]\n"
     ]
    }
   ],
   "source": [
    "# number of galaxies in each pixel:\n",
    "\n",
    "# dmass catalog turned into healpix map\n",
    "# counting number of galaxies in each healpix pixel \n",
    "# dividing healpix pixel area --- corresponding area to 4096 resolution -- to get number density (plus mask -- later) FRACDET\n",
    "\n",
    "# 1) galaxy number counts and area for each healpix pixel -- match healpix with area map?\n",
    "\n",
    "#bins of systematic signal\n",
    "#print(pbin)\n",
    "\n",
    "#compute how much area is in each bin. \n",
    "#you can get the first pass estimate of this by just doing a histogram of the signal column of the sysmap with the same bins.  \n",
    "\n",
    "sys_signal = sysMap['SIGNAL'][dim_mask]\n",
    "n,_ = np.histogram(sys_signal , bins=pbin )\n",
    "print('without weights:')\n",
    "print(n)\n",
    "\n",
    "#To do it properly you will need to:\n",
    "\n",
    "#(A) make sure the mask you are using for the galaxies applied to the sysmap \n",
    "#print(LSSGoldmask.dtype.names)\n",
    "#print(LSSGoldmask)\n",
    "\n",
    "matched_sys = sysMap[dim_mask]\n",
    "mask = np.zeros(hp.nside2npix(4096))\n",
    "bao_mask = np.in1d(LSSGoldmask[\"PIXEL\"], matched_sys[\"PIXEL\"], assume_unique=False, invert=False)\n",
    "mask[matched_sys[\"PIXEL\"]] = matched_sys[\"SIGNAL\"]\n",
    "\n",
    "#some pixels were not in Goldmask, therefore these pixels = 0\n",
    "# only include the signals of pixels of systematic within mask\n",
    "BAO_sys = mask[LSSGoldmask[\"PIXEL\"][bao_mask]]\n",
    "\n",
    "\n",
    "#(B) add up the fractional coverage  (probably labelled fracgood or fracdet) in each “SIGNAL” bin, \n",
    "#rather than treating each pixel as 1. you can do this with the same histogram function by also passing the fracgood array \n",
    "#as the weights= argument \n",
    "\n",
    "area,_ = np.histogram(BAO_sys , bins=pbin , weights = LSSGoldmask[\"SIGNAL\"][bao_mask])\n",
    "print('with weights:')\n",
    "print(area)"
   ]
  },
  {
   "cell_type": "code",
   "execution_count": 159,
   "id": "36cc1901-c9cd-4bfc-be7c-ab332cdc4adc",
   "metadata": {},
   "outputs": [],
   "source": [
    "#then do the number of galaxies divided by the area:\n",
    "\n",
    "# h = number of galaxies\n",
    "#print(h)\n",
    "\n",
    "# number density in bins: h/area\n",
    "#number_density = []\n",
    "#for x in range(len(h)):\n",
    "#    den = h[x]/area[x]\n",
    "#    number_density.append(den)\n",
    "    \n",
    "#Details: So the idea here is, we don’t expect the number density of galaxies to change as we look at patches with different \n",
    "#survey property values.\n",
    "#So when you make these histograms you are effectively splitting the survey footprint into patches of different \n",
    "#sysmap values and you can calculate the number density of objects in each patch.\n",
    "    \n",
    "#print(number_density)\n",
    "\n",
    "#If we do see this density change as a function of the sysmap, we will have to correct for it with systematics \n",
    "#weights as Su did in her paper\n"
   ]
  },
  {
   "cell_type": "code",
   "execution_count": 160,
   "id": "d3e0b98c-7394-4c35-9548-51cf6ba66247",
   "metadata": {},
   "outputs": [
    {
     "name": "stderr",
     "output_type": "stream",
     "text": [
      "/users/PCON0003/warner785/.conda/envs/DES_env/lib/python3.7/site-packages/healpy/pixelfunc.py:479: RuntimeWarning: invalid value encountered in _ang2pix_nest\n",
      "  return pixlib._ang2pix_nest(nside, theta, phi)\n"
     ]
    },
    {
     "name": "stdout",
     "output_type": "stream",
     "text": [
      "without weights:\n",
      "[   809  17590 212785 451571 362148 240193  99599  44319  15247   2704\n",
      "    793     13]\n",
      "with weights:\n",
      "[8.0210938e+02 1.7463000e+04 2.1133264e+05 4.4851025e+05 3.5970594e+05\n",
      " 2.3857675e+05 9.8914750e+04 4.4012500e+04 1.5150000e+04 2.6862500e+03\n",
      " 7.8250000e+02 1.2750000e+01]\n",
      "number of random galaxies:  [   19425   423247  5119744 10875580  8716081  5780508  2398006  1066468\n",
      "   366531    64701    19347      298]\n",
      "randoms number density:  [24.217395539105873, 24.236786348279217, 24.225997389039154, 24.248230670313554, 24.231129073314225, 24.229133811236846, 24.243158881764348, 24.231025276909968, 24.193465346534655, 24.08599348534202, 24.724600638977634, 23.372549019607842]\n",
      "total_area:  1437949.4375\n",
      "total galaxies:  34849936\n",
      "total number density:  24.235856345957227\n",
      "[0.99923829 1.00003837 0.99959321 1.00051058 0.99980495 0.99972262\n",
      " 1.00030131 0.99980066 0.9982509  0.99381648 1.02016617 0.96437892]\n",
      "normalized error:  [0.00716949 0.00153716 0.00044177 0.00030339 0.00033865 0.00041581\n",
      " 0.00064596 0.00096814 0.00164886 0.00390707 0.00733439 0.05586497]\n"
     ]
    },
    {
     "data": {
      "image/png": "[encoded data removed]",
      "text/plain": [
       "<Figure size 432x288 with 1 Axes>"
      ]
     },
     "metadata": {
      "needs_background": "light"
     },
     "output_type": "display_data"
    }
   ],
   "source": [
    "# now for randoms:\n",
    "\n",
    "import matplotlib.pyplot as plt\n",
    "\n",
    "#print(random_val.dtype.names)\n",
    "\n",
    "# convert RA and DEC to PIXELS for randoms:\n",
    "phi = random_val['RA'] * np.pi / 180.0\n",
    "theta = ( 90.0 - random_val['DEC'] ) * np.pi/180.0\n",
    "nside= 4096\n",
    "random_pix = hp.ang2pix(nside,theta,phi,nest=True)\n",
    "#print(random_pix)\n",
    "\n",
    "index_ran_mask = np.argsort(random_pix)\n",
    "random_chron = random_pix[index_ran_mask] # ordered by hpix values\n",
    "\n",
    "dim_ran_mask = np.in1d(sysMap['PIXEL'], random_chron, assume_unique=False, invert=False)\n",
    "\n",
    "minimum = np.min(sysMap['SIGNAL'][dim_mask]) #FWHM signal (for g filter)\n",
    "maximum = np.max(sysMap['SIGNAL'][dim_mask])\n",
    "#print(minimum)\n",
    "#print(maximum)\n",
    "\n",
    "pbin = np.linspace(minimum, maximum, 13)\n",
    "pcenter = pbin[:-1] + 0.025\n",
    "\n",
    "x = np.zeros(hp.nside2npix(4096))\n",
    "x[sysMap['PIXEL'][dim_ran_mask]] = sysMap['SIGNAL'][dim_ran_mask]\n",
    "\n",
    "#systematic value at galaxy location:\n",
    "\n",
    "sysval_ran_gal = x[random_chron]\n",
    "#print(sysval_ran_gal)\n",
    "h_ran,_ = np.histogram(sysval_ran_gal , bins=pbin )\n",
    "#print(h_ran)\n",
    "\n",
    "# want this plotted:\n",
    "#h/number_of_pixels_in_sysbin\n",
    "\n",
    "fracerr = 1/np.sqrt(h_ran) #1 / sqrt(number of cmass galaxies in each bin)\n",
    "\n",
    "# change to number density: divide by area\n",
    "fig, ax = plt.subplots()\n",
    "ax.errorbar( pcenter, h)\n",
    "#ax.legend(chi2_reduced)\n",
    "plt.title('number of randoms per bin')\n",
    "fig.savefig('random_bin.pdf')\n",
    "\n",
    "sys_ran_signal = sysMap['SIGNAL'][dim_ran_mask]\n",
    "n_ran,_ = np.histogram(sys_ran_signal , bins=pbin )\n",
    "print('without weights:')\n",
    "print(n_ran)\n",
    "\n",
    "matched_ran_sys = sysMap[dim_ran_mask]\n",
    "mask = np.zeros(hp.nside2npix(4096))\n",
    "bao_mask_ran = np.in1d(LSSGoldmask[\"PIXEL\"], matched_ran_sys[\"PIXEL\"], assume_unique=False, invert=False)\n",
    "mask[matched_ran_sys[\"PIXEL\"]] = matched_ran_sys[\"SIGNAL\"]\n",
    "\n",
    "BAO_sys_ran = mask[LSSGoldmask[\"PIXEL\"][bao_mask_ran]]\n",
    "\n",
    "area_ran,_ = np.histogram(BAO_sys_ran , bins=pbin , weights = LSSGoldmask[\"SIGNAL\"][bao_mask_ran])\n",
    "print('with weights:')\n",
    "print(area_ran)\n",
    "\n",
    "# h = number of galaxies\n",
    "print(\"number of random galaxies: \", h_ran)\n",
    "\n",
    "# number density in bins: h/area\n",
    "number_density_ran = []\n",
    "for x in range(len(h)):\n",
    "    den_ran = h_ran[x]/area_ran[x]\n",
    "    number_density_ran.append(den_ran)\n",
    "    \n",
    "print(\"randoms number density: \", number_density_ran)\n",
    "\n",
    "\n",
    "total_area_ran = 0\n",
    "#Normalize based on total number density of used footprint:\n",
    "for x in range(len(area_ran)):\n",
    "    total_area_ran += area_ran[x]\n",
    "\n",
    "print(\"total_area: \", total_area_ran)\n",
    "\n",
    "# total galaxies:\n",
    "total_h_ran = 0\n",
    "for x in range(len(h_ran)):\n",
    "    total_h_ran += h_ran[x]\n",
    "\n",
    "print(\"total galaxies: \", total_h_ran)\n",
    "\n",
    "#normalization: \n",
    "total_num_density_ran = total_h_ran/total_area_ran\n",
    "\n",
    "print(\"total number density: \", total_num_density_ran)\n",
    "\n",
    "# apply normalization: \n",
    "#print(number_density)\n",
    "norm_number_density_ran = number_density_ran/total_num_density_ran\n",
    "print(norm_number_density_ran)\n",
    "\n",
    "fracerr_ran = np.sqrt(h_ran) #1 / sqrt(number of randoms cmass galaxies in each bin)\n",
    "fracerr_ran_norm = (fracerr_ran/area_ran)/total_num_density_ran\n",
    "print(\"normalized error: \", fracerr_ran_norm)"
   ]
  },
  {
   "cell_type": "code",
   "execution_count": 161,
   "id": "9fa76ac2-f067-4b33-91ea-3b589e188477",
   "metadata": {},
   "outputs": [
    {
     "name": "stdout",
     "output_type": "stream",
     "text": [
      "total_area:  1131353.296875\n",
      "total galaxies:  2686338\n",
      "normalized error:  [0.00324736 0.00187527 0.0015101  0.0014895  0.00160791 0.00176019\n",
      " 0.00190675 0.00237979 0.00304721 0.00370499 0.00465784 0.00575107]\n",
      "total number density:  2.374446609578233\n",
      "[1.0510742  0.98099531 0.98995882 0.98997396 0.99450782 1.00135089\n",
      " 1.01203428 1.01509191 1.0134947  0.99258899 1.0018734  1.33904345]\n"
     ]
    },
    {
     "data": {
      "image/png": "[encoded data removed]",
      "text/plain": [
       "<Figure size 432x288 with 1 Axes>"
      ]
     },
     "metadata": {
      "needs_background": "light"
     },
     "output_type": "display_data"
    }
   ],
   "source": [
    "# *****Creating the figure******:\n",
    "\n",
    "#Also, we usually normalize the plots to the total number density of the total footprint considered. \n",
    "#so that we expect the final result to be a flat line at y=1.\n",
    "\n",
    "total_area = 0\n",
    "#Normalize based on total number density of used footprint:\n",
    "for x in range(len(area)):\n",
    "    total_area += area[x]\n",
    "\n",
    "print(\"total_area: \", total_area)\n",
    "\n",
    "# total galaxies:\n",
    "total_h = 0\n",
    "for x in range(len(h)):\n",
    "    total_h += h[x]\n",
    "\n",
    "print(\"total galaxies: \", total_h)\n",
    "\n",
    "#normalization: \n",
    "total_num_density = total_h/total_area\n",
    "\n",
    "fracerr = np.sqrt(h)\n",
    "fracerr_norm = (fracerr/area)/total_num_density\n",
    "print(\"normalized error: \", fracerr_norm)\n",
    "\n",
    "\n",
    "print(\"total number density: \", total_num_density)\n",
    "\n",
    "# apply normalization: \n",
    "#print(number_density)\n",
    "norm_number_density = number_density/total_num_density\n",
    "print(norm_number_density)\n",
    "\n",
    "import matplotlib.pyplot as plt\n",
    "#figure of systematics:\n",
    "\n",
    "fracerr = 1/np.sqrt(h) #1 / sqrt(number of cmass galaxies in each bin)\n",
    "\n",
    "# change to number density: divide by area\n",
    "fig, ax = plt.subplots()\n",
    "ax.errorbar( pcenter, norm_number_density, yerr=fracerr_norm, label = \"dmass in validation\")\n",
    "ax.errorbar( pcenter, norm_number_density_ran, yerr=fracerr_ran_norm, label = \"randoms in validation\")\n",
    "plt.legend()\n",
    "plt.xlabel(\"FWHM_z\")\n",
    "plt.ylabel(\"n_gal/n_tot 4096\")\n",
    "plt.ylim(top=1.2)  # adjust the top leaving bottom unchanged\n",
    "plt.ylim(bottom=0.95)\n",
    "plt.axhline(y=1, color='grey', linestyle='--')\n",
    "plt.title('FWHM_z systematic check')\n",
    "fig.savefig('FWHM_z.pdf')"
   ]
  },
  {
   "cell_type": "code",
   "execution_count": null,
   "id": "fc2d3e20-f4de-460b-8dd7-aef1a814926f",
   "metadata": {},
   "outputs": [],
   "source": [
    "# add limits to narrow range of x axis\n",
    "# use first and last percentile for limits instead of min max of x-axis\n",
    "# np.percentile() -- for less noisy plot ** 2nd and 99th"
   ]
  },
  {
   "cell_type": "code",
   "execution_count": 40,
   "id": "ea168bd2-8057-4d6a-bbee-f94e87e6f8a9",
   "metadata": {},
   "outputs": [
    {
     "name": "stdout",
     "output_type": "stream",
     "text": [
      "[    35370     35456     35458 ... 150977211 150977212 150977214]\n",
      "[35370 35370 35456 ... 150977212 150977212 150977214]\n"
     ]
    }
   ],
   "source": [
    "# don't run: check\n",
    "\n",
    "#dim_mask = np.in1d(sysMap['PIXEL'], dmass_chron['HPIX_4096'], assume_unique=False, invert=False)\n",
    "\n",
    "print(sysMap['PIXEL'][dim_mask])\n",
    "print(dmass_chron['HPIX_4096'])"
   ]
  },
  {
   "cell_type": "code",
   "execution_count": 11,
   "id": "f8f9491a-ed5c-4651-819b-d9ded0893e0f",
   "metadata": {},
   "outputs": [
    {
     "name": "stdout",
     "output_type": "stream",
     "text": [
      "[1.0857818 1.0857818 1.0857818 ... 1.0808538 1.0808538 1.0808538]\n",
      "35370\n",
      "150977214\n",
      "2741190\n"
     ]
    }
   ],
   "source": [
    "# not this one\n",
    "\n",
    "minimum = np.min(sysMap['PIXEL'])\n",
    "maximum = np.max(sysMap['PIXEL'])\n",
    "print(sysMap['SIGNAL'])\n",
    "#np.min(sysMap['PIXEL'])\n",
    "#np.max(sysMap['PIXEL'])\n",
    "minpix = np.min(dmass_val['HPIX_4096'])\n",
    "maxpix = np.max(dmass_val['HPIX_4096'])\n",
    "#pbin = np.linspace(minimum, maximum, 13)\n",
    "print(minpix)\n",
    "print(maxpix)\n",
    "#M, _ = np.histogram(dmass_val, bins=pbin) #shaded gray in plot\n",
    "\n",
    "#number density of each\n",
    "sysMaps_len = sysMap['PIXEL'].size\n",
    "dmass_len = dmass_val['HPIX_4096'].size\n",
    "print(dmass_len)"
   ]
  },
  {
   "cell_type": "code",
   "execution_count": 12,
   "id": "e62524c5-619a-4dd2-bc21-f086a0a52adc",
   "metadata": {},
   "outputs": [],
   "source": [
    "#unnecessay\n",
    "\n",
    "#compare two arrays: mask first array\n",
    "# sort dmass value to be chronilogical order:\n",
    "index_mask = np.argsort(dmass_val['HPIX_4096'])\n",
    "\n",
    "#print(index_mask)\n",
    "#hpix_smallest = dmass_val['HPIX_4096'][2111516]\n",
    "\n",
    "dmass_chron = dmass_val[index_mask] # ordered by hpix values\n",
    "\n",
    "dim_mask = np.in1d(sysMap['PIXEL'], dmass_chron['HPIX_4096'], assume_unique=False, invert=False)\n",
    "                    \n",
    "#print(dim_mask)\n",
    "#sys_pix = sysMap['PIXEL'][dim_mask]\n",
    "#print(sys_pix)"
   ]
  },
  {
   "cell_type": "code",
   "execution_count": 12,
   "id": "f3bdfd80-9173-4364-a6be-cc5ca615ccfd",
   "metadata": {},
   "outputs": [
    {
     "name": "stdout",
     "output_type": "stream",
     "text": [
      "[35370 35370 35456 ... 150977212 150977212 150977214]\n"
     ]
    }
   ],
   "source": [
    "print(dmass_chron['HPIX_4096'])"
   ]
  },
  {
   "cell_type": "code",
   "execution_count": null,
   "id": "c81d2070-f592-4c62-9742-cfd0cd371d16",
   "metadata": {},
   "outputs": [],
   "source": [
    "# don't use this one\n",
    "\n",
    "dmass_signal = []\n",
    "\n",
    "for x in range(sysMaps_len):\n",
    "    if sysMap['PIXEL'][x] > minpix or sysMap['PIXEL'][x] == minpix:\n",
    "        if sysMap['PIXEL'][x] < maxpix or sysMap['PIXEL'][x] == maxpix:\n",
    "            for y in range(dmass_len):\n",
    "                if dmass_val['HPIX_4096'][y] == sysMap['PIXEL'][x]:\n",
    "                    dmass_signal.append(sysMap['SIGNAL'][x])\n",
    "                    \n",
    "print(dmass_signal)"
   ]
  },
  {
   "cell_type": "code",
   "execution_count": null,
   "id": "09135d69-2527-430e-827b-c48eaa63f47f",
   "metadata": {},
   "outputs": [],
   "source": [
    "# don't run this\n",
    "# save the corresponding dmass signal\n",
    "outdir = '../output/test/train_cat/y3/'\n",
    "os.makedirs(outdir, exist_ok=True)\n",
    "esutil.io.write( outdir+'dmass_signal.fits', dmass_signal, overwrite=True)"
   ]
  },
  {
   "cell_type": "code",
   "execution_count": null,
   "id": "05b0cd89-01f0-4416-9c4d-ab8646e27076",
   "metadata": {},
   "outputs": [
    {
     "name": "stdout",
     "output_type": "stream",
     "text": [
      "2\n",
      "--Return--\n",
      "None\n",
      "> \u001b[0;32m<ipython-input-13-6303d079ef40>\u001b[0m(18)\u001b[0;36m<module>\u001b[0;34m()\u001b[0m\n",
      "\u001b[0;32m     16 \u001b[0;31m\u001b[0mprint\u001b[0m\u001b[0;34m(\u001b[0m\u001b[0mcount\u001b[0m\u001b[0;34m)\u001b[0m\u001b[0;34m\u001b[0m\u001b[0m\n",
      "\u001b[0m\u001b[0;32m     17 \u001b[0;31m\u001b[0;34m\u001b[0m\u001b[0m\n",
      "\u001b[0m\u001b[0;32m---> 18 \u001b[0;31m\u001b[0mbreakpoint\u001b[0m\u001b[0;34m(\u001b[0m\u001b[0;34m)\u001b[0m\u001b[0;34m\u001b[0m\u001b[0m\n",
      "\u001b[0m\u001b[0;32m     19 \u001b[0;31m\u001b[0;31m#collections counter --\u001b[0m\u001b[0;34m\u001b[0m\u001b[0;34m\u001b[0m\u001b[0m\n",
      "\u001b[0m\u001b[0;32m     20 \u001b[0;31m\u001b[0;32mfor\u001b[0m \u001b[0mx\u001b[0m \u001b[0;32min\u001b[0m \u001b[0mrange\u001b[0m\u001b[0;34m(\u001b[0m\u001b[0mlen\u001b[0m\u001b[0;34m(\u001b[0m\u001b[0mdmass_chron\u001b[0m\u001b[0;34m[\u001b[0m\u001b[0;34m'HPIX_4096'\u001b[0m\u001b[0;34m]\u001b[0m\u001b[0;34m)\u001b[0m\u001b[0;34m)\u001b[0m\u001b[0;34m:\u001b[0m\u001b[0;34m\u001b[0m\u001b[0m\n",
      "\u001b[0m\n"
     ]
    },
    {
     "name": "stdin",
     "output_type": "stream",
     "text": [
      "ipdb>  l\n"
     ]
    },
    {
     "name": "stdout",
     "output_type": "stream",
     "text": [
      "\u001b[1;32m     13 \u001b[0m\u001b[0;34m\u001b[0m\u001b[0m\n",
      "\u001b[1;32m     14 \u001b[0m\u001b[0;31m#check:\u001b[0m\u001b[0;34m\u001b[0m\u001b[0;34m\u001b[0m\u001b[0m\n",
      "\u001b[1;32m     15 \u001b[0m\u001b[0mcount\u001b[0m \u001b[0;34m=\u001b[0m \u001b[0marr\u001b[0m\u001b[0;34m[\u001b[0m\u001b[0marr\u001b[0m\u001b[0;34m==\u001b[0m\u001b[0mdmass_chron\u001b[0m\u001b[0;34m[\u001b[0m\u001b[0;34m'HPIX_4096'\u001b[0m\u001b[0;34m]\u001b[0m\u001b[0;34m[\u001b[0m\u001b[0;36m0\u001b[0m\u001b[0;34m]\u001b[0m\u001b[0;34m]\u001b[0m\u001b[0;34m.\u001b[0m\u001b[0mshape\u001b[0m\u001b[0;34m[\u001b[0m\u001b[0;36m0\u001b[0m\u001b[0;34m]\u001b[0m\u001b[0;34m\u001b[0m\u001b[0m\n",
      "\u001b[1;32m     16 \u001b[0m\u001b[0mprint\u001b[0m\u001b[0;34m(\u001b[0m\u001b[0mcount\u001b[0m\u001b[0;34m)\u001b[0m\u001b[0;34m\u001b[0m\u001b[0m\n",
      "\u001b[1;32m     17 \u001b[0m\u001b[0;34m\u001b[0m\u001b[0m\n",
      "\u001b[0;32m---> 18 \u001b[0;31m\u001b[0mbreakpoint\u001b[0m\u001b[0;34m(\u001b[0m\u001b[0;34m)\u001b[0m\u001b[0;34m\u001b[0m\u001b[0m\n",
      "\u001b[0m\u001b[1;32m     19 \u001b[0m\u001b[0;31m#collections counter --\u001b[0m\u001b[0;34m\u001b[0m\u001b[0;34m\u001b[0m\u001b[0m\n",
      "\u001b[1;32m     20 \u001b[0m\u001b[0;32mfor\u001b[0m \u001b[0mx\u001b[0m \u001b[0;32min\u001b[0m \u001b[0mrange\u001b[0m\u001b[0;34m(\u001b[0m\u001b[0mlen\u001b[0m\u001b[0;34m(\u001b[0m\u001b[0mdmass_chron\u001b[0m\u001b[0;34m[\u001b[0m\u001b[0;34m'HPIX_4096'\u001b[0m\u001b[0;34m]\u001b[0m\u001b[0;34m)\u001b[0m\u001b[0;34m)\u001b[0m\u001b[0;34m:\u001b[0m\u001b[0;34m\u001b[0m\u001b[0m\n",
      "\u001b[1;32m     21 \u001b[0m    \u001b[0mvalue\u001b[0m \u001b[0;34m=\u001b[0m \u001b[0mdmass_chron\u001b[0m\u001b[0;34m[\u001b[0m\u001b[0;34m'HPIX_4096'\u001b[0m\u001b[0;34m]\u001b[0m\u001b[0;34m[\u001b[0m\u001b[0mx\u001b[0m\u001b[0;34m]\u001b[0m\u001b[0;34m\u001b[0m\u001b[0m\n",
      "\u001b[1;32m     22 \u001b[0m    \u001b[0;32mif\u001b[0m \u001b[0mvalue\u001b[0m \u001b[0;34m!=\u001b[0m \u001b[0mvalue_last\u001b[0m\u001b[0;34m:\u001b[0m\u001b[0;34m\u001b[0m\u001b[0m\n",
      "\u001b[1;32m     23 \u001b[0m        \u001b[0mcount\u001b[0m \u001b[0;34m=\u001b[0m \u001b[0marr\u001b[0m\u001b[0;34m[\u001b[0m\u001b[0marr\u001b[0m\u001b[0;34m==\u001b[0m\u001b[0mvalue\u001b[0m\u001b[0;34m]\u001b[0m\u001b[0;34m.\u001b[0m\u001b[0mshape\u001b[0m\u001b[0;34m[\u001b[0m\u001b[0;36m0\u001b[0m\u001b[0;34m]\u001b[0m\u001b[0;34m\u001b[0m\u001b[0m\n",
      "\n"
     ]
    },
    {
     "name": "stdin",
     "output_type": "stream",
     "text": [
      "ipdb>  n\n"
     ]
    },
    {
     "name": "stdout",
     "output_type": "stream",
     "text": [
      "\u001b[0;31m    [... skipped 1 hidden frame]\u001b[0m\n",
      "\n",
      "> \u001b[0;32m/users/PCON0003/warner785/.conda/envs/DES_env/lib/python3.7/site-packages/IPython/core/interactiveshell.py\u001b[0m(3346)\u001b[0;36mrun_code\u001b[0;34m()\u001b[0m\n",
      "\u001b[0;32m   3344 \u001b[0;31m            \u001b[0;32mfinally\u001b[0m\u001b[0;34m:\u001b[0m\u001b[0;34m\u001b[0m\u001b[0m\n",
      "\u001b[0m\u001b[0;32m   3345 \u001b[0;31m                \u001b[0;31m# Reset our crash handler in place\u001b[0m\u001b[0;34m\u001b[0m\u001b[0;34m\u001b[0m\u001b[0m\n",
      "\u001b[0m\u001b[0;32m-> 3346 \u001b[0;31m                \u001b[0msys\u001b[0m\u001b[0;34m.\u001b[0m\u001b[0mexcepthook\u001b[0m \u001b[0;34m=\u001b[0m \u001b[0mold_excepthook\u001b[0m\u001b[0;34m\u001b[0m\u001b[0m\n",
      "\u001b[0m\u001b[0;32m   3347 \u001b[0;31m        \u001b[0;32mexcept\u001b[0m \u001b[0mSystemExit\u001b[0m \u001b[0;32mas\u001b[0m \u001b[0me\u001b[0m\u001b[0;34m:\u001b[0m\u001b[0;34m\u001b[0m\u001b[0m\n",
      "\u001b[0m\u001b[0;32m   3348 \u001b[0;31m            \u001b[0;32mif\u001b[0m \u001b[0mresult\u001b[0m \u001b[0;32mis\u001b[0m \u001b[0;32mnot\u001b[0m \u001b[0;32mNone\u001b[0m\u001b[0;34m:\u001b[0m\u001b[0;34m\u001b[0m\u001b[0m\n",
      "\u001b[0m\n"
     ]
    },
    {
     "name": "stdin",
     "output_type": "stream",
     "text": [
      "ipdb>  c\n"
     ]
    }
   ],
   "source": [
    "# notes\n",
    "# number of galaxies in each pixel:\n",
    "\n",
    "# dmass catalog turned into healpix map\n",
    "# counting number of galaxies in each healpix pixel -- some numpy?\n",
    "# dividing healpix pixel area --- corresponding area to 4096 resolution -- to get number density (plus mask -- later) FRACDET\n",
    "\n",
    "# 1) galaxy number counts and area for each healpix pixel -- match healpix with area map?\n",
    "\n",
    "dmass_counts = []\n",
    "dmass_healpix = []\n",
    "value_last = 0\n",
    "arr = dmass_chron['HPIX_4096']\n",
    "\n",
    "#check:\n",
    "count = arr[arr==dmass_chron['HPIX_4096'][0]].shape[0]\n",
    "print(count)\n",
    "\n",
    "breakpoint()\n",
    "#collections counter -- \n",
    "for x in range(len(dmass_chron['HPIX_4096'])):\n",
    "    value = dmass_chron['HPIX_4096'][x]\n",
    "    if value != value_last:\n",
    "        count = arr[arr==value].shape[0]\n",
    "    dmass_counts.append(count)\n",
    "    dmass_healpix.append(value)\n",
    "\n",
    "print(dmass_counts)\n",
    "print(dmass_healpix)"
   ]
  },
  {
   "cell_type": "code",
   "execution_count": null,
   "id": "3d5b4b27-7e05-4404-b447-3fb2798a7a5b",
   "metadata": {},
   "outputs": [],
   "source": [
    "# not run\n",
    "# save the dmass counts and healpix arrays\n",
    "outdir = '../output/test/train_cat/y3/'\n",
    "os.makedirs(outdir, exist_ok=True)\n",
    "esutil.io.write( outdir+'dmass_counts.fits', dmass_counts, overwrite=True)\n",
    "\n",
    "outdir = '../output/test/train_cat/y3/'\n",
    "os.makedirs(outdir, exist_ok=True)\n",
    "esutil.io.write( outdir+'dmass_healpix.fits', dmass_healpix, overwrite=True)"
   ]
  },
  {
   "cell_type": "code",
   "execution_count": 13,
   "id": "03509439-8e74-4d87-98a9-cf6191898a14",
   "metadata": {},
   "outputs": [
    {
     "ename": "NameError",
     "evalue": "name 'dmass_healpix' is not defined",
     "output_type": "error",
     "traceback": [
      "\u001b[0;31m---------------------------------------------------------------------------\u001b[0m",
      "\u001b[0;31mNameError\u001b[0m                                 Traceback (most recent call last)",
      "\u001b[0;32m<ipython-input-13-5a51062ca799>\u001b[0m in \u001b[0;36m<module>\u001b[0;34m\u001b[0m\n\u001b[1;32m      1\u001b[0m \u001b[0;31m# 2) match healpix map with systematic maps (using same method as above)\u001b[0m\u001b[0;34m\u001b[0m\u001b[0;34m\u001b[0m\u001b[0m\n\u001b[1;32m      2\u001b[0m \u001b[0;34m\u001b[0m\u001b[0m\n\u001b[0;32m----> 3\u001b[0;31m \u001b[0mdim_mask\u001b[0m \u001b[0;34m=\u001b[0m \u001b[0mnp\u001b[0m\u001b[0;34m.\u001b[0m\u001b[0min1d\u001b[0m\u001b[0;34m(\u001b[0m\u001b[0msysMap\u001b[0m\u001b[0;34m[\u001b[0m\u001b[0;34m'PIXEL'\u001b[0m\u001b[0;34m]\u001b[0m\u001b[0;34m,\u001b[0m \u001b[0mdmass_healpix\u001b[0m\u001b[0;34m,\u001b[0m \u001b[0massume_unique\u001b[0m\u001b[0;34m=\u001b[0m\u001b[0;32mFalse\u001b[0m\u001b[0;34m,\u001b[0m \u001b[0minvert\u001b[0m\u001b[0;34m=\u001b[0m\u001b[0;32mFalse\u001b[0m\u001b[0;34m)\u001b[0m\u001b[0;34m\u001b[0m\u001b[0m\n\u001b[0m\u001b[1;32m      4\u001b[0m \u001b[0;34m\u001b[0m\u001b[0m\n\u001b[1;32m      5\u001b[0m \u001b[0;31m#print(dim_mask)\u001b[0m\u001b[0;34m\u001b[0m\u001b[0;34m\u001b[0m\u001b[0m\n",
      "\u001b[0;31mNameError\u001b[0m: name 'dmass_healpix' is not defined"
     ]
    }
   ],
   "source": [
    "# 2) match healpix map with systematic maps (using same method as above)\n",
    "\n",
    "dim_mask = np.in1d(sysMap['PIXEL'], dmass_healpix, assume_unique=False, invert=False)\n",
    "                    \n",
    "#print(dim_mask)\n",
    "sys_pix = sysMap['PIXEL'][dim_mask]\n",
    "print(sys_pix)"
   ]
  },
  {
   "cell_type": "code",
   "execution_count": null,
   "id": "ec8644bf-434d-4ca3-8c41-e4c11cb3b426",
   "metadata": {},
   "outputs": [],
   "source": [
    "# 3) array with: healpix pixel value, galaxy counts, area --- binned in signal histogram\n",
    "# for all signal bins : total number counts in healpix pixels / totsl area of healpix pixels used in same bin --- number density\n",
    "import matplotlib.pyplot as plt\n",
    "\n",
    "# area: 6.24178e-08 square degrees ---- from github (without masking bad regions)\n",
    "\n",
    "minimum = np.min(sysMap['SIGNAL'][dim_mask]) #FWHM signal (for g filter)\n",
    "maximum = np.max(sysMap['SIGNAL'][dim_mask])\n",
    "\n",
    "print(minimum)\n",
    "print(maximum)\n",
    "\n",
    "pbin = np.linspace(minimum, maximum, 13)\n",
    "pcenter = pbin[:-1] + 0.025\n",
    "\n",
    "#another option: step through min max of pbin, bolean of pixel falls within, take average\n",
    "\n",
    "N, _ = np.histogram(dmass_counts, bins=pbin)\n",
    "fracerr = 1/np.sqrt(N) #1 / sqrt(number of cmass galaxies in each bin)\n",
    "\n",
    "# change to number density: divide by area\n",
    "fig, ax = plt.subplots()\n",
    "ax.errorbar( pcenter, number_density, yerr=fracerr)\n",
    "#ax.legend(chi2_reduced)\n",
    "plt.title('Systematic Test')\n",
    "fig.savefig('SystematicTest1.pdf')\n",
    "\n",
    "# do the same with randoms\n",
    "print(random_val.dtype.names)"
   ]
  },
  {
   "cell_type": "code",
   "execution_count": null,
   "id": "637464c8-1553-4ecd-8dd9-56b6b66fd8b1",
   "metadata": {},
   "outputs": [],
   "source": [
    "# take all objects in each bin of systematic value"
   ]
  }
 ],
 "metadata": {
  "kernelspec": {
   "display_name": "Python (DES_env)",
   "language": "python",
   "name": "des_env"
  },
  "language_info": {
   "codemirror_mode": {
    "name": "ipython",
    "version": 3
   },
   "file_extension": ".py",
   "mimetype": "text/x-python",
   "name": "python",
   "nbconvert_exporter": "python",
   "pygments_lexer": "ipython3",
   "version": "3.7.0"
  }
 },
 "nbformat": 4,
 "nbformat_minor": 5
}
