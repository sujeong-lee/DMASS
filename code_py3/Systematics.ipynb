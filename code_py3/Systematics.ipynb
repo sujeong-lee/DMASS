{
 "cells": [
  {
   "cell_type": "code",
   "execution_count": 1,
   "id": "3f149afa-d194-442c-a6ac-e58048d8adf4",
   "metadata": {},
   "outputs": [
    {
     "name": "stderr",
     "output_type": "stream",
     "text": [
      "WARNING: AstroMLDeprecationWarning: 'decorators' has been moved to 'astroML.utils' and will be removed from the main namespace in the future. [astroML.decorators]\n",
      "In /users/PCON0003/warner785/.conda/envs/DES_env/lib/python3.7/site-packages/matplotlib/mpl-data/stylelib/_classic_test.mplstyle: \n",
      "The savefig.frameon rcparam was deprecated in Matplotlib 3.1 and will be removed in 3.3.\n",
      "In /users/PCON0003/warner785/.conda/envs/DES_env/lib/python3.7/site-packages/matplotlib/mpl-data/stylelib/_classic_test.mplstyle: \n",
      "The verbose.level rcparam was deprecated in Matplotlib 3.1 and will be removed in 3.3.\n",
      "In /users/PCON0003/warner785/.conda/envs/DES_env/lib/python3.7/site-packages/matplotlib/mpl-data/stylelib/_classic_test.mplstyle: \n",
      "The verbose.fileo rcparam was deprecated in Matplotlib 3.1 and will be removed in 3.3.\n"
     ]
    }
   ],
   "source": [
    "import sys\n",
    "sys.path.append('../')\n",
    "from xd import *\n",
    "from utils import *\n",
    "import esutil\n",
    "import healpy as hp\n",
    "from systematics import *\n",
    "from systematics_module import *\n",
    "import os\n",
    "\n",
    "%matplotlib inline\n",
    "\n",
    "%load_ext autoreload\n",
    "%autoreload 2"
   ]
  },
  {
   "cell_type": "code",
   "execution_count": 2,
   "id": "344e1ca1-13ab-4f39-a46b-60a4e29c0ae9",
   "metadata": {},
   "outputs": [],
   "source": [
    "import numpy as np\n",
    "from run_systematics import sys_iteration, weightmultiply, fitting_allSP, calling_sysMap"
   ]
  },
  {
   "cell_type": "code",
   "execution_count": 3,
   "id": "ec73b394-3e4f-4222-b4b5-8d38f5cdb36e",
   "metadata": {},
   "outputs": [],
   "source": [
    "# calling map \n",
    "path = '/fs/scratch/PCON0003/warner785/bwarner/'\n",
    "LSSGoldmask = fitsio.read(path+'MASK_Y3LSSBAOSOF_22_3_v2p2.fits')\n",
    "# 'Y1LSSmask_v2_redlimcut_il22_seeil4.0_4096ring.fits'\n",
    "#GoldMask = callingEliGoldMask()\n",
    "LSSMask = LSSGoldmask\n",
    "GoldMask = LSSGoldmask\n",
    "\n",
    "pixra, pixdec = hp.pix2ang(nside=4096,ipix=GoldMask['PIXEL'],nest=True,lonlat=True)\n",
    "\n",
    "LSSMask = LSSMask[pixdec >-3.0 ]\n",
    "#GoldMask_st82 = Cuts.SpatialCuts(GoldMask, ra=320, ra2=360, dec=-2, dec2=2)\n",
    "GoldMask_st82 = GoldMask[ pixdec > -3.0 ]\n",
    "GoldMask_spt = GoldMask[ pixdec < -3.0 ]\n",
    "#GoldMask_spt = Cuts.SpatialCuts(GoldMask_spt, ra=0, ra2 = 100, dec=-52, dec2 = -48)\n",
    "\n",
    "pixarea = hp.nside2pixarea( 4096, degrees = True)\n",
    "sptnpix = GoldMask_spt['PIXEL'].size #hp.get_map_size( GoldMask_spt['PIXEL'] )\n",
    "st82npix =  GoldMask_st82['PIXEL'].size # hp.get_map_size( GoldMask_st82 )\n",
    "SPTMaparea = pixarea * sptnpix\n",
    "ST82Maparea = pixarea * st82npix"
   ]
  },
  {
   "cell_type": "code",
   "execution_count": 4,
   "id": "8491cf35-1d7f-4942-b07d-480df3e0e3e1",
   "metadata": {},
   "outputs": [
    {
     "name": "stdout",
     "output_type": "stream",
     "text": [
      "/users/PCON0003/warner785/DMASS-analysis/measurements/code_py3\n"
     ]
    }
   ],
   "source": [
    "sys.path.append('../../')\n",
    "sys.path.append('/DMASS-analysis/measurements/code_py3/')\n",
    "import esutil\n",
    "import matplotlib.pyplot as plt\n",
    "from matplotlib import rc\n",
    "rc('font',**{'family':'sans-serif','sans-serif':['Helvetica']})\n",
    "## for Palatino and other serif fonts use:\n",
    "#rc('font',**{'family':'serif','serif':['Palatino']})\n",
    "rc('text', usetex=True)\n",
    "os.chdir('../../DMASS-analysis/measurements/code_py3/')\n",
    "print(os.getcwd())\n",
    "from calling_catalogs import *\n",
    "rootdir = '/users/PCON0003/warner785/DMASS-analysis/measurements/clustering/'\n",
    "from ggl_mcal import run_ng_jk, run_nn_jk, run_nk_jk, compute_eix_jk, compute_Rgamma_jk, construct_jk, compute_jkcov, save_results"
   ]
  },
  {
   "cell_type": "code",
   "execution_count": 5,
   "id": "3fb55074-0128-4e72-8d95-b0bf4565aac9",
   "metadata": {},
   "outputs": [],
   "source": [
    "def keepGoodRegion(des, hpInd = False, balrog=None):\n",
    "    import healpy as hp\n",
    "    import fitsio\n",
    "    # 25 is the faintest object detected by DES\n",
    "    # objects larger than 25 considered as Noise\n",
    "    \n",
    "    path = '/fs/scratch/PCON0003/warner785/bwarner/'\n",
    "    #LSSGoldmask = fitsio.read(path+'Y1LSSmask_v2_il22_seeil4.0_nside4096ring_redlimcut.fits')\n",
    "    #LSSGoldmask = fitsio.read(path+'Y1LSSmask_v1_il22seeil4.04096ring_redlimcut.fits')\n",
    "    LSSGoldmask = fitsio.read(path+'MASK_Y3LSSBAOSOF_22_3_v2p2.fits')\n",
    "    ringhp = hp.nest2ring(4096, [LSSGoldmask['PIXEL']])\n",
    "    #Y1LSSmask_v1_il22seeil4.04096ring_redlimcut.fits\n",
    "    #frac_cut = LSSGoldmask['FRAC'] > 0.8\n",
    "    #ind_good_ring = LSSGoldmask['PIXEL'][frac_cut]\n",
    "    ind_good_ring = ringhp\n",
    "    \n",
    "    # healpixify the catalog.\n",
    "    nside=4096\n",
    "    # Convert silly ra/dec to silly HP angular coordinates.\n",
    "    phi = des['RA'] * np.pi / 180.0\n",
    "    theta = ( 90.0 - des['DEC'] ) * np.pi/180.0\n",
    "\n",
    "    hpInd = hp.ang2pix(nside,theta,phi,nest=False)\n",
    "    keep = np.in1d(hpInd, ind_good_ring)\n",
    "    des = des[keep]\n",
    "    if hpInd is True:\n",
    "        return ind_good_ring\n",
    "    else:\n",
    "        return des"
   ]
  },
  {
   "cell_type": "code",
   "execution_count": 6,
   "id": "c0909738-70bb-464a-bc5c-f54eade40e5b",
   "metadata": {},
   "outputs": [],
   "source": [
    "def ra_dec_to_xyz(ra, dec):\n",
    "    \"\"\"Convert ra & dec to Euclidean points\n",
    "    Parameters\n",
    "    ----------\n",
    "    ra, dec : ndarrays\n",
    "    Returns\n",
    "    x, y, z : ndarrays\n",
    "    \"\"\"\n",
    "    sin_ra = np.sin(ra * np.pi / 180.)\n",
    "    cos_ra = np.cos(ra * np.pi / 180.)\n",
    "\n",
    "    sin_dec = np.sin(np.pi / 2 - dec * np.pi / 180.)\n",
    "    cos_dec = np.cos(np.pi / 2 - dec * np.pi / 180.)\n",
    "\n",
    "    return (cos_ra * sin_dec,\n",
    "            sin_ra * sin_dec,\n",
    "            cos_dec)\n",
    "\n",
    "def uniform_sphere(RAlim, DEClim, size=1):\n",
    "    \"\"\"Draw a uniform sample on a sphere\n",
    "    Parameters\n",
    "    ----------\n",
    "    RAlim : tuple\n",
    "        select Right Ascension between RAlim[0] and RAlim[1]\n",
    "        units are degrees\n",
    "    DEClim : tuple\n",
    "        select Declination between DEClim[0] and DEClim[1]\n",
    "    size : int (optional)\n",
    "        the size of the random arrays to return (default = 1)\n",
    "    Returns\n",
    "    -------\n",
    "    RA, DEC : ndarray\n",
    "        the random sample on the sphere within the given limits.\n",
    "        arrays have shape equal to size.\n",
    "    \"\"\"\n",
    "    zlim = np.sin(np.pi * np.asarray(DEClim) / 180.)\n",
    "\n",
    "    z = zlim[0] + (zlim[1] - zlim[0]) * np.random.random(size)\n",
    "    DEC = (180. / np.pi) * np.arcsin(z)\n",
    "    RA = RAlim[0] + (RAlim[1] - RAlim[0]) * np.random.random(size)\n",
    "    \n",
    "    return RA, DEC\n",
    "\n",
    "def uniform_random_on_sphere(data, size = None ):\n",
    "    ra = data['RA']\n",
    "    dec = data['DEC']\n",
    "    \n",
    "    n_features = ra.size\n",
    "    #size = 100 * data.size\n",
    "    \n",
    "    # draw a random sample with N points\n",
    "    ra_R, dec_R = uniform_sphere((min(ra), max(ra)),\n",
    "                                 (min(dec), max(dec)),\n",
    "                                 size)\n",
    "    #data = np.asarray(ra_dec_to_xyz(ra, dec), order='F').T\n",
    "    #data_R = np.asarray(ra_dec_to_xyz(ra_R, dec_R), order='F').T\n",
    "    \n",
    "    #random redshift distribution\n",
    "    \n",
    "    data_R = np.zeros((ra_R.size,), dtype=[('RA', 'float'), ('DEC', 'float')])\n",
    "    data_R['RA'] = ra_R\n",
    "    data_R['DEC'] = dec_R\n",
    "                              \n",
    "    return data_R\n",
    "\n",
    "## ---------------------------------------------"
   ]
  },
  {
   "cell_type": "code",
   "execution_count": 7,
   "id": "80b9fff0-16ba-4fe4-adf3-50fddba667b7",
   "metadata": {},
   "outputs": [
    {
     "name": "stdout",
     "output_type": "stream",
     "text": [
      "Calculating DMASS systematic weights...\n",
      "Resulting catalog size\n",
      "DMASS= 28441.7573735908\n",
      "randoms= 5864645\n"
     ]
    }
   ],
   "source": [
    "# import DMASS in validation region\n",
    "#lens, randoms = calling_lens_catalog('/fs/scratch/PCON0003/warner785/bwarner/dmass_y1_public_v1.fits')\n",
    "dmass_val, randoms = calling_lens_catalog('/users/PCON0003/warner785/DMASSY3/output/test/train_cat/y3/dmass_st82_DET200.fits')\n",
    "\n",
    "random_val = uniform_random_on_sphere(dmass_val, size = 50 * dmass_val.size)\n",
    "# applying LSS mask \n",
    "random_val = keepGoodRegion(random_val)"
   ]
  },
  {
   "cell_type": "code",
   "execution_count": 8,
   "id": "ca33a54f-599c-45fb-85de-bae8f5dd02f2",
   "metadata": {},
   "outputs": [
    {
     "name": "stdout",
     "output_type": "stream",
     "text": [
      "[71771941 71771626 71773248 ... 72968986 72905874 72968681]\n"
     ]
    }
   ],
   "source": [
    "print(dmass_val['HPIX_4096']) "
   ]
  },
  {
   "cell_type": "code",
   "execution_count": 9,
   "id": "cf77e2d4-be5d-4e19-b2ef-c86c5ce55679",
   "metadata": {},
   "outputs": [],
   "source": [
    "plt.rcParams.update({\n",
    "  \"text.usetex\": False,\n",
    "  \"font.family\": \"Helvetica\"\n",
    "})"
   ]
  },
  {
   "cell_type": "code",
   "execution_count": 10,
   "id": "2be62e86-6aa5-4970-be8b-4e3fcd9c2bba",
   "metadata": {},
   "outputs": [],
   "source": [
    "random_val = appendColumn(random_val, value=np.ones(random_val.size), name='WEIGHT')\n",
    "randomsind_val = np.random.choice( random_val.size, size=int(random_val.size/3.) )\n",
    "random_val = random_val[randomsind_val]"
   ]
  },
  {
   "cell_type": "code",
   "execution_count": 11,
   "id": "eaac4840-ffc9-48e1-804f-e6087103beb8",
   "metadata": {},
   "outputs": [
    {
     "name": "stdout",
     "output_type": "stream",
     "text": [
      "Calculating DMASS systematic weights...\n",
      "Resulting catalog size\n",
      "DMASS= 20605.043776036357\n",
      "randoms= 5864645\n"
     ]
    }
   ],
   "source": [
    "# import DMASS in training region\n",
    "#lens, randoms = calling_lens_catalog('/fs/scratch/PCON0003/warner785/bwarner/dmass_y1_public_v1.fits')\n",
    "dmass_train, randoms = calling_lens_catalog('/users/PCON0003/warner785/DMASSY3/output/test/train_cat/y3/dmass_st82_DET200train.fits')\n",
    "\n",
    "random_train = uniform_random_on_sphere(dmass_train, size = 50 * dmass_train.size)\n",
    "# applying LSS mask \n",
    "random_train = keepGoodRegion(random_train)"
   ]
  },
  {
   "cell_type": "code",
   "execution_count": 12,
   "id": "feb4d2b6-78a0-4d4a-97ad-374068ee9143",
   "metadata": {},
   "outputs": [],
   "source": [
    "random_train = appendColumn(random_train, value=np.ones(random_train.size), name='WEIGHT')\n",
    "randomsind_train = np.random.choice( random_train.size, size=int(random_train.size/3.) )\n",
    "random_train = random_train[randomsind_train]"
   ]
  },
  {
   "cell_type": "code",
   "execution_count": 13,
   "id": "0f110e6a-2e0a-4084-957c-710f42c91bd9",
   "metadata": {},
   "outputs": [
    {
     "name": "stdout",
     "output_type": "stream",
     "text": [
      "total num of train 258884\n",
      "\n",
      "--------------------------------\n",
      " applying DES veto mask to CMASS\n",
      "--------------------------------\n",
      "num of train_sample after des veto 61031\n"
     ]
    }
   ],
   "source": [
    "# calling CMASS\n",
    "\n",
    "import fitsio\n",
    "cmass = esutil.io.read('/fs/scratch/PCON0003/warner785/bwarner/cmass-dr12v4-S-Reid-full.dat.fits')\n",
    "train_sample = esutil.io.read('/fs/scratch/PCON0003/warner785/bwarner/cmass-dr12v4-S-Reid-full.dat.fits')\n",
    "#train_sample = esutil.io.read('/global/cscratch1/sd/bwarner/galaxy_DR11v1_CMASS_South-photoObj.fits.gz')\n",
    "print('total num of train', train_sample.size)\n",
    "print('\\n--------------------------------\\n applying DES veto mask to CMASS\\n--------------------------------')   \n",
    "train_sample = keepGoodRegion(train_sample)\n",
    "\n",
    "#fitsio.write( output_dir+'/cmass_in_st82.fits', train_sample)\n",
    "\n",
    "print('num of train_sample after des veto', train_sample.size)"
   ]
  },
  {
   "cell_type": "code",
   "execution_count": 14,
   "id": "c0e6e321-be3e-4aec-8c3f-94924495c68b",
   "metadata": {},
   "outputs": [],
   "source": [
    "cmass = train_sample\n",
    "\n",
    "rand_cmass = uniform_random_on_sphere(cmass, size = 200 * cmass.size)\n",
    "rand_cmass = keepGoodRegion(rand_cmass)\n",
    "rand_cmass = rand_cmass[ rand_cmass['DEC'] > -3.0 ]"
   ]
  },
  {
   "cell_type": "code",
   "execution_count": 15,
   "id": "c0fb8873-cead-4c38-aa10-7bed19956319",
   "metadata": {},
   "outputs": [
    {
     "name": "stdout",
     "output_type": "stream",
     "text": [
      "\n",
      "Calling catalogs >>>\n",
      "y3a2_g_o.4096_t.32768_FWHM.WMEAN_EQU.fits.gz\n",
      "reading 1/1 /fs/scratch/PCON0003/warner785/bwarner/y3a2_g_o.4096_t.32768_FWHM.WMEAN_EQU.fits.gz\n"
     ]
    }
   ],
   "source": [
    "# calling systematic maps\n",
    "#sysMap = calling_sysMap( properties=properties, kind='SPT', nside=4096 )\n",
    "\n",
    "# location of maps: /fs/scratch/PCON0003/warner785/bwarner/\n",
    "# y3a2_g_o.4096_t.32768_FWHM.WMEAN_EQU.fits.gz \n",
    "# y3a2_i_o.4096_t.32768_FWHM.WMEAN_EQU.fits.gz        \n",
    "# y3a2_r_o.4096_t.32768_FWHM.WMEAN_EQU.fits.gz        \n",
    "# y3a2_z_o.4096_t.32768_FWHM.WMEAN_EQU.fits.gz \n",
    "\n",
    "input_path = '/fs/scratch/PCON0003/warner785/bwarner/'\n",
    "input_keyword = 'y3a2_g' \n",
    "sysMap = io.SearchAndCallFits(path = input_path, keyword = input_keyword)"
   ]
  },
  {
   "cell_type": "code",
   "execution_count": 16,
   "id": "1a4d2730-be66-4702-8c07-8e539aa4adb0",
   "metadata": {},
   "outputs": [
    {
     "name": "stdout",
     "output_type": "stream",
     "text": [
      "('COADD_OBJECT_ID', 'RA', 'DEC', 'HPIX_4096', 'MAG_DETMODEL_G', 'MAGERR_DETMODEL_G', 'MAG_DETMODEL_R', 'MAGERR_DETMODEL_R', 'MAG_DETMODEL_I', 'MAGERR_DETMODEL_I', 'MAG_DETMODEL_Z', 'MAGERR_DETMODEL_Z', 'MOF_CM_MAG_ERR_G', 'MOF_CM_MAG_ERR_R', 'MOF_CM_MAG_ERR_I', 'MOF_CM_MAG_ERR_Z', 'MOF_CM_MAG_CORRECTED_G', 'MOF_CM_MAG_CORRECTED_R', 'MOF_CM_MAG_CORRECTED_I', 'MOF_CM_MAG_CORRECTED_Z', 'SOF_CM_MAG_ERR_G', 'SOF_CM_MAG_ERR_R', 'SOF_CM_MAG_ERR_I', 'SOF_CM_MAG_ERR_Z', 'SOF_CM_MAG_CORRECTED_G', 'SOF_CM_MAG_CORRECTED_R', 'SOF_CM_MAG_CORRECTED_I', 'SOF_CM_MAG_CORRECTED_Z', 'EXTENDED_CLASS_MASH_SOF', 'CMASS_PROB', 'WEIGHT')\n",
      "\n",
      "('PIXEL', 'SIGNAL')\n"
     ]
    }
   ],
   "source": [
    "print(dmass_val.dtype.names)\n",
    "print()\n",
    "print(sysMap.dtype.names)"
   ]
  },
  {
   "cell_type": "code",
   "execution_count": 17,
   "id": "f8f9491a-ed5c-4651-819b-d9ded0893e0f",
   "metadata": {},
   "outputs": [
    {
     "name": "stdout",
     "output_type": "stream",
     "text": [
      "[1.0857818 1.0857818 1.0857818 ... 1.0808538 1.0808538 1.0808538]\n",
      "35370\n",
      "150977214\n",
      "25496694\n"
     ]
    }
   ],
   "source": [
    "minimum = np.min(sysMap['PIXEL'])\n",
    "maximum = np.max(sysMap['PIXEL'])\n",
    "print(sysMap['SIGNAL'])\n",
    "#np.min(sysMap['PIXEL'])\n",
    "#np.max(sysMap['PIXEL'])\n",
    "minpix = np.min(dmass_val['HPIX_4096'])\n",
    "maxpix = np.max(dmass_val['HPIX_4096'])\n",
    "#pbin = np.linspace(minimum, maximum, 13)\n",
    "print(minpix)\n",
    "print(maxpix)\n",
    "#M, _ = np.histogram(dmass_val, bins=pbin) #shaded gray in plot\n",
    "\n",
    "#number density of each\n",
    "sysMaps_len = sysMap['PIXEL'].size\n",
    "dmass_len = dmass_val['HPIX_4096'].size\n",
    "print(sysMaps_len)"
   ]
  },
  {
   "cell_type": "code",
   "execution_count": 18,
   "id": "e62524c5-619a-4dd2-bc21-f086a0a52adc",
   "metadata": {},
   "outputs": [],
   "source": [
    "#compare two arrays: mask first array\n",
    "# sort dmass value to be chronilogical order:\n",
    "index_mask = np.argsort(dmass_val['HPIX_4096'])\n",
    "\n",
    "#print(index_mask)\n",
    "#hpix_smallest = dmass_val['HPIX_4096'][2111516]\n",
    "\n",
    "dmass_chron = dmass_val[index_mask] # ordered by hpix values\n",
    "\n",
    "\n",
    "#dim_mask = np.in1d(sysMap['PIXEL'], dmass_chron['HPIX_4096'], assume_unique=False, invert=False)\n",
    "                    \n",
    "#print(dim_mask)\n",
    "#sys_pix = sysMap['PIXEL'][dim_mask]\n",
    "#print(sys_pix)"
   ]
  },
  {
   "cell_type": "code",
   "execution_count": 19,
   "id": "f3bdfd80-9173-4364-a6be-cc5ca615ccfd",
   "metadata": {},
   "outputs": [
    {
     "name": "stdout",
     "output_type": "stream",
     "text": [
      "[35370 35370 35456 ... 150977212 150977212 150977214]\n"
     ]
    }
   ],
   "source": [
    "print(dmass_chron['HPIX_4096'])"
   ]
  },
  {
   "cell_type": "code",
   "execution_count": null,
   "id": "c81d2070-f592-4c62-9742-cfd0cd371d16",
   "metadata": {},
   "outputs": [],
   "source": [
    "# don't use this one\n",
    "\n",
    "dmass_signal = []\n",
    "\n",
    "for x in range(sysMaps_len):\n",
    "    if sysMap['PIXEL'][x] > minpix or sysMap['PIXEL'][x] == minpix:\n",
    "        if sysMap['PIXEL'][x] < maxpix or sysMap['PIXEL'][x] == maxpix:\n",
    "            for y in range(dmass_len):\n",
    "                if dmass_val['HPIX_4096'][y] == sysMap['PIXEL'][x]:\n",
    "                    dmass_signal.append(sysMap['SIGNAL'][x])\n",
    "                    \n",
    "print(dmass_signal)"
   ]
  },
  {
   "cell_type": "code",
   "execution_count": null,
   "id": "09135d69-2527-430e-827b-c48eaa63f47f",
   "metadata": {},
   "outputs": [],
   "source": [
    "# don't run this\n",
    "# save the corresponding dmass signal\n",
    "outdir = '../output/test/train_cat/y3/'\n",
    "os.makedirs(outdir, exist_ok=True)\n",
    "esutil.io.write( outdir+'dmass_signal.fits', dmass_signal, overwrite=True)"
   ]
  },
  {
   "cell_type": "code",
   "execution_count": null,
   "id": "05b0cd89-01f0-4416-9c4d-ab8646e27076",
   "metadata": {},
   "outputs": [
    {
     "name": "stdout",
     "output_type": "stream",
     "text": [
      "0.7189579\n",
      "1.7447658\n",
      "2\n"
     ]
    }
   ],
   "source": [
    "# number of galaxies in each pixel:\n",
    "\n",
    "minimum = np.min(sysMap['SIGNAL']) #FWHM signal\n",
    "maximum = np.max(sysMap['SIGNAL'])\n",
    "\n",
    "print(minimum)\n",
    "print(maximum)\n",
    "pbin = np.linspace(minimum, maximum, 13)\n",
    "\n",
    "# dmass catalog turned into healpix map\n",
    "# counting number of galaxies in each healpix pixel -- some numpy?\n",
    "# dividing healpix pixel area --- corresponding area to 4096 resolution -- to get number density (plus mask -- later) FRACDET\n",
    "\n",
    "# 1) galaxy number counts and area for each healpix pixel -- match healpix with area map?\n",
    "\n",
    "dmass_counts = []\n",
    "dmass_healpix = []\n",
    "value_last = 0\n",
    "arr = dmass_chron['HPIX_4096']\n",
    "\n",
    "#check:\n",
    "count = arr[arr==dmass_chron['HPIX_4096'][0]].shape[0]\n",
    "print(count)\n",
    "\n",
    "for x in range(len(dmass_chron['HPIX_4096'])):\n",
    "    value = dmass_chron['HPIX_4096'][x]\n",
    "    if value != value_last:\n",
    "        count = arr[arr==value].shape[0]\n",
    "    dmass_counts.append(count)\n",
    "    dmass_healpix.append(value)\n",
    "\n",
    "print(dmass_counts)\n",
    "print(dmass_healpix)"
   ]
  },
  {
   "cell_type": "code",
   "execution_count": null,
   "id": "3d5b4b27-7e05-4404-b447-3fb2798a7a5b",
   "metadata": {},
   "outputs": [],
   "source": [
    "# save the dmass counts and healpix arrays\n",
    "outdir = '../output/test/train_cat/y3/'\n",
    "os.makedirs(outdir, exist_ok=True)\n",
    "esutil.io.write( outdir+'dmass_counts.fits', dmass_counts, overwrite=True)\n",
    "\n",
    "outdir = '../output/test/train_cat/y3/'\n",
    "os.makedirs(outdir, exist_ok=True)\n",
    "esutil.io.write( outdir+'dmass_healpix.fits', dmass_healpix, overwrite=True)"
   ]
  },
  {
   "cell_type": "code",
   "execution_count": null,
   "id": "03509439-8e74-4d87-98a9-cf6191898a14",
   "metadata": {},
   "outputs": [],
   "source": [
    "# 2) match healpix map with systematic maps (using same method as above)\n",
    "\n",
    "dim_mask = np.in1d(sysMap['PIXEL'], dmass_healpix, assume_unique=False, invert=False)\n",
    "                    \n",
    "#print(dim_mask)\n",
    "sys_pix = sysMap['PIXEL'][dim_mask]\n",
    "print(sys_pix)"
   ]
  },
  {
   "cell_type": "code",
   "execution_count": null,
   "id": "ec8644bf-434d-4ca3-8c41-e4c11cb3b426",
   "metadata": {},
   "outputs": [],
   "source": [
    "# 3) array with: healpix pixel value, galaxy counts, area --- binned in signal histogram\n",
    "# for all signal bins : total number counts in healpix pixels / totsl area of healpix pixels used in same bin --- number density\n",
    "\n",
    "#N, _ = np.histogram(matched_dmass_number_counts, bins=pbin)\n",
    "\n",
    "# change to number density: divide by area? "
   ]
  }
 ],
 "metadata": {
  "kernelspec": {
   "display_name": "Python (DES_env)",
   "language": "python",
   "name": "des_env"
  },
  "language_info": {
   "codemirror_mode": {
    "name": "ipython",
    "version": 3
   },
   "file_extension": ".py",
   "mimetype": "text/x-python",
   "name": "python",
   "nbconvert_exporter": "python",
   "pygments_lexer": "ipython3",
   "version": "3.7.0"
  }
 },
 "nbformat": 4,
 "nbformat_minor": 5
}
