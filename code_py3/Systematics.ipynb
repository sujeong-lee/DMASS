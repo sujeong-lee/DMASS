{
 "cells": [
  {
   "cell_type": "code",
   "execution_count": 1,
   "id": "3f149afa-d194-442c-a6ac-e58048d8adf4",
   "metadata": {},
   "outputs": [
    {
     "name": "stderr",
     "output_type": "stream",
     "text": [
      "WARNING: AstroMLDeprecationWarning: 'decorators' has been moved to 'astroML.utils' and will be removed from the main namespace in the future. [astroML.decorators]\n",
      "In /users/PCON0003/warner785/.conda/envs/DES_env/lib/python3.7/site-packages/matplotlib/mpl-data/stylelib/_classic_test.mplstyle: \n",
      "The savefig.frameon rcparam was deprecated in Matplotlib 3.1 and will be removed in 3.3.\n",
      "In /users/PCON0003/warner785/.conda/envs/DES_env/lib/python3.7/site-packages/matplotlib/mpl-data/stylelib/_classic_test.mplstyle: \n",
      "The verbose.level rcparam was deprecated in Matplotlib 3.1 and will be removed in 3.3.\n",
      "In /users/PCON0003/warner785/.conda/envs/DES_env/lib/python3.7/site-packages/matplotlib/mpl-data/stylelib/_classic_test.mplstyle: \n",
      "The verbose.fileo rcparam was deprecated in Matplotlib 3.1 and will be removed in 3.3.\n"
     ]
    }
   ],
   "source": [
    "import sys\n",
    "sys.path.append('../')\n",
    "from xd import *\n",
    "from utils import *\n",
    "import esutil\n",
    "import healpy as hp\n",
    "from systematics import *\n",
    "from systematics_module import *\n",
    "import os\n",
    "\n",
    "%matplotlib inline\n",
    "\n",
    "%load_ext autoreload\n",
    "%autoreload 2"
   ]
  },
  {
   "cell_type": "code",
   "execution_count": 2,
   "id": "344e1ca1-13ab-4f39-a46b-60a4e29c0ae9",
   "metadata": {},
   "outputs": [],
   "source": [
    "import numpy as np\n",
    "from run_systematics import sys_iteration, weightmultiply, fitting_allSP, calling_sysMap"
   ]
  },
  {
   "cell_type": "code",
   "execution_count": 3,
   "id": "ec73b394-3e4f-4222-b4b5-8d38f5cdb36e",
   "metadata": {},
   "outputs": [],
   "source": [
    "# calling map \n",
    "path = '/fs/scratch/PCON0003/warner785/bwarner/'\n",
    "LSSGoldmask = fitsio.read(path+'MASK_Y3LSSBAOSOF_22_3_v2p2.fits') #BAO is different measurement, may be different from this analysis\n",
    "# 'Y1LSSmask_v2_redlimcut_il22_seeil4.0_4096ring.fits'\n",
    "#GoldMask = callingEliGoldMask()\n",
    "LSSMask = LSSGoldmask\n",
    "GoldMask = LSSGoldmask\n",
    "\n",
    "pixra, pixdec = hp.pix2ang(nside=4096,ipix=GoldMask['PIXEL'],nest=True,lonlat=True)\n",
    "\n",
    "LSSMask = LSSMask[pixdec >-3.0 ]\n",
    "#GoldMask_st82 = Cuts.SpatialCuts(GoldMask, ra=320, ra2=360, dec=-2, dec2=2)\n",
    "GoldMask_st82 = GoldMask[ pixdec > -3.0 ]\n",
    "GoldMask_spt = GoldMask[ pixdec < -3.0 ]\n",
    "#GoldMask_spt = Cuts.SpatialCuts(GoldMask_spt, ra=0, ra2 = 100, dec=-52, dec2 = -48)\n",
    "\n",
    "pixarea = hp.nside2pixarea( 4096, degrees = True)\n",
    "sptnpix = GoldMask_spt['PIXEL'].size #hp.get_map_size( GoldMask_spt['PIXEL'] )\n",
    "st82npix =  GoldMask_st82['PIXEL'].size # hp.get_map_size( GoldMask_st82 )\n",
    "SPTMaparea = pixarea * sptnpix\n",
    "ST82Maparea = pixarea * st82npix"
   ]
  },
  {
   "cell_type": "code",
   "execution_count": 4,
   "id": "8491cf35-1d7f-4942-b07d-480df3e0e3e1",
   "metadata": {},
   "outputs": [
    {
     "data": {
      "text/plain": [
       "\"sys.path.append('../../')\\nsys.path.append('/DMASS-analysis/measurements/code_py3/')\\nimport esutil\\nimport matplotlib.pyplot as plt\\nfrom matplotlib import rc\\nrc('font',**{'family':'sans-serif','sans-serif':['Helvetica']})\\n## for Palatino and other serif fonts use:\\n#rc('font',**{'family':'serif','serif':['Palatino']})\\nrc('text', usetex=True)\\nos.chdir('../../DMASS-analysis/measurements/code_py3/')\\nprint(os.getcwd())\\nfrom calling_catalogs import *\\nrootdir = '/users/PCON0003/warner785/DMASS-analysis/measurements/clustering/'\\nfrom ggl_mcal import run_ng_jk, run_nn_jk, run_nk_jk, compute_eix_jk, compute_Rgamma_jk, construct_jk, compute_jkcov, save_results\\n\""
      ]
     },
     "execution_count": 4,
     "metadata": {},
     "output_type": "execute_result"
    }
   ],
   "source": [
    "'''sys.path.append('../../')\n",
    "sys.path.append('/DMASS-analysis/measurements/code_py3/')\n",
    "import esutil\n",
    "import matplotlib.pyplot as plt\n",
    "from matplotlib import rc\n",
    "rc('font',**{'family':'sans-serif','sans-serif':['Helvetica']})\n",
    "## for Palatino and other serif fonts use:\n",
    "#rc('font',**{'family':'serif','serif':['Palatino']})\n",
    "rc('text', usetex=True)\n",
    "os.chdir('../../DMASS-analysis/measurements/code_py3/')\n",
    "print(os.getcwd())\n",
    "from calling_catalogs import *\n",
    "rootdir = '/users/PCON0003/warner785/DMASS-analysis/measurements/clustering/'\n",
    "from ggl_mcal import run_ng_jk, run_nn_jk, run_nk_jk, compute_eix_jk, compute_Rgamma_jk, construct_jk, compute_jkcov, save_results\n",
    "'''"
   ]
  },
  {
   "cell_type": "code",
   "execution_count": 5,
   "id": "e8d3a86b-4a22-480a-a146-d5fa7d428236",
   "metadata": {},
   "outputs": [],
   "source": [
    "def calling_lens_catalog(catname=None):\n",
    "\n",
    "    catdir = ''.join([ c+'/' for c in catname.split('/')[:-1]])\n",
    "    os.system('mkdir '+catdir)\n",
    "    dmass = esutil.io.read(catname)\n",
    "    w_dmass = dmass['CMASS_PROB']\n",
    "    print ('Calculating DMASS systematic weights...')\n",
    "    dmass = appendColumn(dmass, name='WEIGHT', value= w_dmass )\n",
    "#   dmass = dmass[ dmass['CMASS_PROB'] > 0.01 ]   # for low probability galaxies\n",
    "    esutil.io.write(catname, dmass)\n",
    "    #randoms = esutil.io.read('/n/des/lee.5922/data/dmass_cat/random_x50_dmass_spt_masked.fits')\n",
    "    \n",
    "    randoms = esutil.io.read('/fs/scratch/PCON0003/warner785/bwarner/random_dmass_y1_public_v1.fits')\n",
    "#    randoms = esutil.io.read('/users/PCON0003/warner785/DMASSY3/output/test/train_cat/y3/dmass_st82_DET200_randoms.fits')\n",
    "    \n",
    "#    catdir = ''.join([ c+'/' for c in catname.split('/')[:-1]])\n",
    "#    os.system('mkdir '+catdir)\n",
    "#    dmass = esutil.io.read('/n/des/lee.5922/data/dmass_cat/dmass_spt_sys_v3.fits')\n",
    "    #w_dmass = dmass['CMASS_PROB'] *dmass['WEIGHT0_fwhm_r']*dmass['WEIGHT1_airmass_z']\n",
    "    #print ('Calculatig DMASS systematic weights...')\n",
    "    #dmass = appendColumn(dmass, name='WEIGHT', value= w_dmass )\n",
    "    #dmass = dmass[ dmass['CMASS_PROB'] > 0.01 ]\n",
    "    #esutil.io.write(catname, dmass)\n",
    "    #randoms = esutil.io.read('/n/des/lee.5922/data/dmass_cat/random_x50_dmass_spt_masked.fits')\n",
    "\n",
    "#    randoms = esutil.io.read('/n/des/lee.5922/data/dmass_cat/random_x50_dmass_spt_masked.fits')\n",
    "\n",
    "    print ('Resulting catalog size')\n",
    "    print ('DMASS=', np.sum(dmass['WEIGHT']) )\n",
    "    print ('randoms=', randoms.size)\n",
    "    return dmass, randoms"
   ]
  },
  {
   "cell_type": "code",
   "execution_count": 6,
   "id": "3fb55074-0128-4e72-8d95-b0bf4565aac9",
   "metadata": {},
   "outputs": [],
   "source": [
    "def keepGoodRegion(des, hpInd = False, balrog=None):\n",
    "    import healpy as hp\n",
    "    import fitsio\n",
    "    # 25 is the faintest object detected by DES\n",
    "    # objects larger than 25 considered as Noise\n",
    "    \n",
    "    path = '/fs/scratch/PCON0003/warner785/bwarner/'\n",
    "    #LSSGoldmask = fitsio.read(path+'Y1LSSmask_v2_il22_seeil4.0_nside4096ring_redlimcut.fits')\n",
    "    #LSSGoldmask = fitsio.read(path+'Y1LSSmask_v1_il22seeil4.04096ring_redlimcut.fits')\n",
    "    LSSGoldmask = fitsio.read(path+'MASK_Y3LSSBAOSOF_22_3_v2p2.fits')\n",
    "    ringhp = hp.nest2ring(4096, [LSSGoldmask['PIXEL']])\n",
    "    #Y1LSSmask_v1_il22seeil4.04096ring_redlimcut.fits\n",
    "    #frac_cut = LSSGoldmask['FRAC'] > 0.8\n",
    "    #ind_good_ring = LSSGoldmask['PIXEL'][frac_cut]\n",
    "    ind_good_ring = ringhp\n",
    "    \n",
    "    # healpixify the catalog.\n",
    "    nside=4096\n",
    "    # Convert silly ra/dec to silly HP angular coordinates.\n",
    "    phi = des['RA'] * np.pi / 180.0\n",
    "    theta = ( 90.0 - des['DEC'] ) * np.pi/180.0\n",
    "\n",
    "    hpInd = hp.ang2pix(nside,theta,phi,nest=False)\n",
    "    keep = np.in1d(hpInd, ind_good_ring)\n",
    "    des = des[keep]\n",
    "    if hpInd is True:\n",
    "        return ind_good_ring\n",
    "    else:\n",
    "        return des"
   ]
  },
  {
   "cell_type": "code",
   "execution_count": 7,
   "id": "c0909738-70bb-464a-bc5c-f54eade40e5b",
   "metadata": {},
   "outputs": [],
   "source": [
    "def ra_dec_to_xyz(ra, dec):\n",
    "    \"\"\"Convert ra & dec to Euclidean points\n",
    "    Parameters\n",
    "    ----------\n",
    "    ra, dec : ndarrays\n",
    "    Returns\n",
    "    x, y, z : ndarrays\n",
    "    \"\"\"\n",
    "    sin_ra = np.sin(ra * np.pi / 180.)\n",
    "    cos_ra = np.cos(ra * np.pi / 180.)\n",
    "\n",
    "    sin_dec = np.sin(np.pi / 2 - dec * np.pi / 180.)\n",
    "    cos_dec = np.cos(np.pi / 2 - dec * np.pi / 180.)\n",
    "\n",
    "    return (cos_ra * sin_dec,\n",
    "            sin_ra * sin_dec,\n",
    "            cos_dec)\n",
    "\n",
    "def uniform_sphere(RAlim, DEClim, size=1):\n",
    "    \"\"\"Draw a uniform sample on a sphere\n",
    "    Parameters\n",
    "    ----------\n",
    "    RAlim : tuple\n",
    "        select Right Ascension between RAlim[0] and RAlim[1]\n",
    "        units are degrees\n",
    "    DEClim : tuple\n",
    "        select Declination between DEClim[0] and DEClim[1]\n",
    "    size : int (optional)\n",
    "        the size of the random arrays to return (default = 1)\n",
    "    Returns\n",
    "    -------\n",
    "    RA, DEC : ndarray\n",
    "        the random sample on the sphere within the given limits.\n",
    "        arrays have shape equal to size.\n",
    "    \"\"\"\n",
    "    zlim = np.sin(np.pi * np.asarray(DEClim) / 180.)\n",
    "\n",
    "    z = zlim[0] + (zlim[1] - zlim[0]) * np.random.random(size)\n",
    "    DEC = (180. / np.pi) * np.arcsin(z)\n",
    "    RA = RAlim[0] + (RAlim[1] - RAlim[0]) * np.random.random(size)\n",
    "    \n",
    "    return RA, DEC\n",
    "\n",
    "def uniform_random_on_sphere(data, size = None ):\n",
    "    ra = data['RA']\n",
    "    dec = data['DEC']\n",
    "    \n",
    "    n_features = ra.size\n",
    "    #size = 100 * data.size\n",
    "    \n",
    "    # draw a random sample with N points\n",
    "    ra_R, dec_R = uniform_sphere((min(ra), max(ra)),\n",
    "                                 (min(dec), max(dec)),\n",
    "                                 size)\n",
    "    #data = np.asarray(ra_dec_to_xyz(ra, dec), order='F').T\n",
    "    #data_R = np.asarray(ra_dec_to_xyz(ra_R, dec_R), order='F').T\n",
    "    \n",
    "    #random redshift distribution\n",
    "    \n",
    "    data_R = np.zeros((ra_R.size,), dtype=[('RA', 'float'), ('DEC', 'float')])\n",
    "    data_R['RA'] = ra_R\n",
    "    data_R['DEC'] = dec_R\n",
    "                              \n",
    "    return data_R\n",
    "\n",
    "## ---------------------------------------------"
   ]
  },
  {
   "cell_type": "code",
   "execution_count": 8,
   "id": "bab4d9a6-f23c-4249-bba3-ffa38e0982eb",
   "metadata": {},
   "outputs": [],
   "source": [
    "#print(np.sum(int(dmass_val['WEIGHT'])))"
   ]
  },
  {
   "cell_type": "code",
   "execution_count": 9,
   "id": "80b9fff0-16ba-4fe4-adf3-50fddba667b7",
   "metadata": {},
   "outputs": [
    {
     "name": "stdout",
     "output_type": "stream",
     "text": [
      "Calculating DMASS systematic weights...\n",
      "Resulting catalog size\n",
      "DMASS= 28441.7573735908\n",
      "randoms= 5864645\n"
     ]
    }
   ],
   "source": [
    "# import DMASS in validation region\n",
    "#lens, randoms = calling_lens_catalog('/fs/scratch/PCON0003/warner785/bwarner/dmass_y1_public_v1.fits')\n",
    "dmass_val, randoms = calling_lens_catalog('/users/PCON0003/warner785/DMASSY3/output/test/train_cat/y3/dmass_st82_DET200.fits')\n",
    "\n",
    "random_val = uniform_random_on_sphere(dmass_val, size = int(np.sum(dmass_val['WEIGHT'])))\n",
    "# applying LSS mask \n",
    "random_val = keepGoodRegion(random_val)"
   ]
  },
  {
   "cell_type": "code",
   "execution_count": 10,
   "id": "616285e9-ca3a-4df6-b737-9f723ed232e4",
   "metadata": {},
   "outputs": [
    {
     "name": "stdout",
     "output_type": "stream",
     "text": [
      "21876\n"
     ]
    }
   ],
   "source": [
    "print(random_val.size)"
   ]
  },
  {
   "cell_type": "code",
   "execution_count": 11,
   "id": "ca33a54f-599c-45fb-85de-bae8f5dd02f2",
   "metadata": {},
   "outputs": [
    {
     "name": "stdout",
     "output_type": "stream",
     "text": [
      "[71771941 71771626 71773248 ... 72968986 72905874 72968681]\n"
     ]
    }
   ],
   "source": [
    "print(dmass_val['HPIX_4096']) "
   ]
  },
  {
   "cell_type": "code",
   "execution_count": 12,
   "id": "cf77e2d4-be5d-4e19-b2ef-c86c5ce55679",
   "metadata": {},
   "outputs": [],
   "source": [
    "plt.rcParams.update({\n",
    "  \"text.usetex\": False,\n",
    "  \"font.family\": \"Helvetica\"\n",
    "})"
   ]
  },
  {
   "cell_type": "code",
   "execution_count": 13,
   "id": "2be62e86-6aa5-4970-be8b-4e3fcd9c2bba",
   "metadata": {},
   "outputs": [],
   "source": [
    "random_val = appendColumn(random_val, value=np.ones(random_val.size), name='WEIGHT')\n",
    "#randomsind_val = np.random.choice( random_val.size, size=int(random_val.size/3.) )\n",
    "#random_val = random_val[randomsind_val]"
   ]
  },
  {
   "cell_type": "code",
   "execution_count": 14,
   "id": "838718ba-8de4-4472-aaa8-d66aaa2889c9",
   "metadata": {},
   "outputs": [
    {
     "name": "stdout",
     "output_type": "stream",
     "text": [
      "21876\n"
     ]
    }
   ],
   "source": [
    "print(random_val.size)"
   ]
  },
  {
   "cell_type": "code",
   "execution_count": 11,
   "id": "eaac4840-ffc9-48e1-804f-e6087103beb8",
   "metadata": {},
   "outputs": [
    {
     "name": "stdout",
     "output_type": "stream",
     "text": [
      "Calculating DMASS systematic weights...\n",
      "Resulting catalog size\n",
      "DMASS= 20605.043776036357\n",
      "randoms= 5864645\n"
     ]
    }
   ],
   "source": [
    "# import DMASS in training region\n",
    "#lens, randoms = calling_lens_catalog('/fs/scratch/PCON0003/warner785/bwarner/dmass_y1_public_v1.fits')\n",
    "dmass_train, randoms = calling_lens_catalog('/users/PCON0003/warner785/DMASSY3/output/test/train_cat/y3/dmass_st82_DET200train.fits')\n",
    "\n",
    "random_train = uniform_random_on_sphere(dmass_train, size = dmass_train.size)\n",
    "# applying LSS mask \n",
    "random_train = keepGoodRegion(random_train)"
   ]
  },
  {
   "cell_type": "code",
   "execution_count": 12,
   "id": "feb4d2b6-78a0-4d4a-97ad-374068ee9143",
   "metadata": {},
   "outputs": [],
   "source": [
    "random_train = appendColumn(random_train, value=np.ones(random_train.size), name='WEIGHT')\n",
    "randomsind_train = np.random.choice( random_train.size, size=int(random_train.size/3.) )\n",
    "random_train = random_train[randomsind_train]"
   ]
  },
  {
   "cell_type": "code",
   "execution_count": 11,
   "id": "0f110e6a-2e0a-4084-957c-710f42c91bd9",
   "metadata": {},
   "outputs": [
    {
     "name": "stdout",
     "output_type": "stream",
     "text": [
      "total num of train 258884\n",
      "\n",
      "--------------------------------\n",
      " applying DES veto mask to CMASS\n",
      "--------------------------------\n",
      "num of train_sample after des veto 0\n"
     ]
    }
   ],
   "source": [
    "# calling CMASS\n",
    "\n",
    "import fitsio\n",
    "cmass = esutil.io.read('/fs/scratch/PCON0003/warner785/bwarner/cmass-dr12v4-S-Reid-full.dat.fits')\n",
    "train_sample = esutil.io.read('/fs/scratch/PCON0003/warner785/bwarner/cmass-dr12v4-S-Reid-full.dat.fits')\n",
    "#train_sample = esutil.io.read('/global/cscratch1/sd/bwarner/galaxy_DR11v1_CMASS_South-photoObj.fits.gz')\n",
    "print('total num of train', train_sample.size)\n",
    "print('\\n--------------------------------\\n applying DES veto mask to CMASS\\n--------------------------------')   \n",
    "train_sample = keepGoodRegion(train_sample)\n",
    "\n",
    "#fitsio.write( output_dir+'/cmass_in_st82.fits', train_sample)\n",
    "\n",
    "print('num of train_sample after des veto', train_sample.size)"
   ]
  },
  {
   "cell_type": "code",
   "execution_count": 14,
   "id": "c0e6e321-be3e-4aec-8c3f-94924495c68b",
   "metadata": {},
   "outputs": [],
   "source": [
    "cmass = train_sample\n",
    "\n",
    "rand_cmass = uniform_random_on_sphere(cmass, size = 200 * cmass.size)\n",
    "rand_cmass = keepGoodRegion(rand_cmass)\n",
    "rand_cmass = rand_cmass[ rand_cmass['DEC'] > -3.0 ]"
   ]
  },
  {
   "cell_type": "code",
   "execution_count": 15,
   "id": "c0fb8873-cead-4c38-aa10-7bed19956319",
   "metadata": {},
   "outputs": [
    {
     "name": "stdout",
     "output_type": "stream",
     "text": [
      "\n",
      "Calling catalogs >>>\n",
      "pca0_ALL_maps_4096_ring_jointmask.fits.gz\n",
      "reading 1/1 /fs/scratch/PCON0003/warner785/bwarner/pca_maps_jointmask_no_stars1623/pca0_ALL_maps_4096_ring_jointmask.fits.gz\n"
     ]
    }
   ],
   "source": [
    "# calling systematic maps\n",
    "#sysMap = calling_sysMap( properties=properties, kind='SPT', nside=4096 )\n",
    "\n",
    "# location of FWHM maps: /fs/scratch/PCON0003/warner785/bwarner/\n",
    "# y3a2_g_o.4096_t.32768_FWHM.WMEAN_EQU.fits.gz \n",
    "# y3a2_i_o.4096_t.32768_FWHM.WMEAN_EQU.fits.gz        \n",
    "# y3a2_r_o.4096_t.32768_FWHM.WMEAN_EQU.fits.gz        \n",
    "# y3a2_z_o.4096_t.32768_FWHM.WMEAN_EQU.fits.gz \n",
    "\n",
    "# location of other maps: /fs/scratch/PCON0003/warner785/bwarner/y3/\n",
    "# depending on different bands:\n",
    "\n",
    "input_path = '/fs/scratch/PCON0003/warner785/bwarner/pca_maps_jointmask_no_stars1623/'\n",
    "#y3/band_z/\n",
    "input_keyword = 'pca0'\n",
    "sysMap = io.SearchAndCallFits(path = input_path, keyword = input_keyword)"
   ]
  },
  {
   "cell_type": "code",
   "execution_count": 16,
   "id": "d96d478d-9454-4b44-883e-44508a1999cc",
   "metadata": {},
   "outputs": [
    {
     "name": "stdout",
     "output_type": "stream",
     "text": [
      "('PIXEL', 'SIGNAL', 'FRACDET')\n",
      "('PIXEL', 'SIGNAL', 'FRACDET', 'RA', 'DEC')\n",
      "1396930\n"
     ]
    }
   ],
   "source": [
    "from numpy.lib.recfunctions import append_fields\n",
    "print(sysMap.dtype.names)\n",
    "\n",
    "RA, DEC = hp.pix2ang(4096, sysMap['PIXEL'], lonlat=True)\n",
    "sysMap = append_fields(sysMap, 'RA', RA, usemask=False)\n",
    "sysMap = append_fields(sysMap, 'DEC', DEC, usemask=False)\n",
    "print(sysMap.dtype.names)\n",
    "\n",
    "sysMap = keepGoodRegion(sysMap)\n",
    "\n",
    "mask4 =(sysMap['RA']>18)&(sysMap['RA']<43)\n",
    "mask4 = mask4 & (sysMap['DEC']>-10) & (sysMap['DEC']<10)\n",
    "sysMap = sysMap[mask4]\n",
    "\n",
    "print(sysMap.size)"
   ]
  },
  {
   "cell_type": "code",
   "execution_count": 64,
   "id": "939ae82b-6ec3-4eaa-8b3e-ddf5074b2fb2",
   "metadata": {},
   "outputs": [],
   "source": [
    "#hp.visufunc.mollview(sysMap['SIGNAL'])"
   ]
  },
  {
   "cell_type": "code",
   "execution_count": 23,
   "id": "bc14837b-ad1e-454a-a087-87ad269ca312",
   "metadata": {},
   "outputs": [],
   "source": []
  },
  {
   "cell_type": "code",
   "execution_count": null,
   "id": "0d7e1c6e-b638-44e4-bcc1-4eba39e9705b",
   "metadata": {},
   "outputs": [],
   "source": []
  },
  {
   "cell_type": "code",
   "execution_count": null,
   "id": "deb1feb7-803f-492f-a5cf-07dad6cf116e",
   "metadata": {},
   "outputs": [],
   "source": [
    "# location of 107 systematic maps now:\n",
    "# /fs/scratch/PCON0003/warner785/bwarner/pca_maps_jointmask_no_stars1623/\n",
    "# look into pca0-49 and know what this represents\n"
   ]
  },
  {
   "cell_type": "code",
   "execution_count": null,
   "id": "d89f94e0-5f51-46e5-aaf0-624a5e4da112",
   "metadata": {},
   "outputs": [],
   "source": [
    "#note on using ud_grade from healpy:\n",
    "#TLDR: you need to tell ud_grade which pixels are masked (where you have no data). you can use this function \n",
    "#sysHp = hp.pixelfunc.ma(sysHp, badval=0.0) \n",
    "#when you define the array of zeros to make it a masked healpy object instead of an array.\n",
    "\n",
    "#Details:\n",
    "#When you degrade a map, the new value in each pixel will be the mean of the higher resolution pixels that were \n",
    "#located within the lower resolution pixel\n",
    "#You therefore have to choose what to do with the pixels where you have no data. Currently you have these set to 0. \n",
    "#This means at the edge of the footprint there will be parent pixels that are the average of some real DES data and a bunch of zeros\n",
    "#Healpy has found a way around this problem by making its own type of array that tracks the mask and the data together. \n",
    "#these are constructed with hp.pixelfunc.ma as above"
   ]
  },
  {
   "cell_type": "code",
   "execution_count": 17,
   "id": "a75d0b9d-8dde-4eb8-a935-1ff32cc564ab",
   "metadata": {},
   "outputs": [
    {
     "name": "stdout",
     "output_type": "stream",
     "text": [
      "4096\n"
     ]
    },
    {
     "name": "stderr",
     "output_type": "stream",
     "text": [
      "findfont: Font family ['Helvetica'] not found. Falling back to DejaVu Sans.\n"
     ]
    },
    {
     "name": "stdout",
     "output_type": "stream",
     "text": [
      "512\n",
      "3145728\n"
     ]
    },
    {
     "name": "stderr",
     "output_type": "stream",
     "text": [
      "findfont: Font family ['Helvetica'] not found. Falling back to DejaVu Sans.\n"
     ]
    },
    {
     "name": "stdout",
     "output_type": "stream",
     "text": [
      "None\n"
     ]
    },
    {
     "data": {
      "image/png": "[encoded data removed]",
      "text/plain": [
       "<Figure size 612x388.8 with 2 Axes>"
      ]
     },
     "metadata": {
      "needs_background": "light"
     },
     "output_type": "display_data"
    }
   ],
   "source": [
    "#function for healpy to reduce resolution size of sys\n",
    "#make a healpix map from the sysMap:\n",
    "#Healpy method: one array: index is the pixel ID, (length= number of healpix pixels in entire sphere, index = value ID, \n",
    "#signal= each value)\n",
    "\n",
    "index_mask = np.argsort(dmass_val['HPIX_4096'])\n",
    "dmass_chron = dmass_val[index_mask] # ordered by hpix values\n",
    "\n",
    "#dim_mask = np.in1d(sysMap['PIXEL'], dmass_chron['HPIX_4096'], assume_unique=False, invert=False)\n",
    "\n",
    "sysHp = np.full(hp.nside2npix(4096), hp.UNSEEN)\n",
    "#sysHp[sysMap['PIXEL'][dim_mask]] = sysMap['SIGNAL'][dim_mask]\n",
    "sysHp[sysMap['PIXEL']] = sysMap['SIGNAL']\n",
    "#print(sysHp.size)\n",
    "#print(sysHp[35369:35469])\n",
    "\n",
    "#print(sysMap['PIXEL'][dim_mask][0])\n",
    "\n",
    "nside_in = hp.pixelfunc.get_nside(sysHp)\n",
    "print(nside_in)\n",
    "downgrade = hp.pixelfunc.ud_grade(sysHp, 512, pess=False, order_in='RING', order_out=None, power=None, dtype=None)\n",
    "#downgrade128 = hp.pixelfunc.ud_grade(sysHp, 128, pess=False, order_in='RING', order_out=None, power=None, dtype=None)\n",
    "#downgrade256 = hp.pixelfunc.ud_grade(sysHp, 256, pess=False, order_in='RING', order_out=None, power=None, dtype=None)\n",
    "\n",
    "#default order_out = ring, change to nest? -- check\n",
    "nside_out = hp.pixelfunc.get_nside(downgrade)\n",
    "print(nside_out)\n",
    "\n",
    "n_good_pixels_at_512 = hp.nside2npix(nside_out)\n",
    "#np.zeros(n_good_pixels_at_512, dtype=[('PIXEL','int'), ('SIGNAL','float')] )\n",
    "pixels = np.zeros(n_good_pixels_at_512)\n",
    "print(pixels.size)\n",
    "\n",
    "print(hp.visufunc.mollview(sysHp))"
   ]
  },
  {
   "cell_type": "code",
   "execution_count": 18,
   "id": "57b1118c-ed84-4bfd-a7ed-388ea931e82f",
   "metadata": {},
   "outputs": [
    {
     "name": "stdout",
     "output_type": "stream",
     "text": [
      "[-1.6375e+30 -1.6375e+30 -1.6375e+30 ... -1.6375e+30 -1.6375e+30\n",
      " -1.6375e+30]\n"
     ]
    }
   ],
   "source": [
    "print(downgrade)\n",
    "#print(downgrade256)\n",
    "#print(downgrade128)"
   ]
  },
  {
   "cell_type": "code",
   "execution_count": 19,
   "id": "f6b45977-4a84-4327-ba9c-240bff323bbb",
   "metadata": {},
   "outputs": [
    {
     "name": "stdout",
     "output_type": "stream",
     "text": [
      "3145728\n",
      "3145728\n"
     ]
    }
   ],
   "source": [
    "for x in range(pixels.size):\n",
    "    if x>0:\n",
    "        pixels[x]=pixels[x-1]+1\n",
    "#print(pixels)\n",
    "\n",
    "sysMap = np.zeros( len(pixels), dtype=[('HPIX_512','int'), ('SIGNAL','float'),('RA','float'),('DEC','float')])\n",
    "sysMap['HPIX_512'] = pixels\n",
    "sysMap['SIGNAL'] = downgrade\n",
    "\n",
    "print(sysMap.size)\n",
    "#sysMap = keepGoodRegion(sysMap)\n",
    "#print(sysMap.size)\n",
    "\n",
    "#restrict to validation region area:\n",
    "RA, DEC = hp.pix2ang(512, sysMap['HPIX_512'], lonlat=True)\n",
    "#theta, phi = hp.pix2ang(512, sysMap['PIXEL'])\n",
    "##sys_area = np.zeros( len(phi), dtype=[('RA','float'), ('DEC','float')] )\n",
    "\n",
    "# Convert silly ra/dec to silly HP angular coordinates.\n",
    "##phi = des['RA'] * np.pi / 180.0\n",
    "#RA = phi*(180.0/np.pi)\n",
    "#DEC = -(180.0/np.pi)*theta+90.0\n",
    "##theta = ( 90.0 - des['DEC'] ) * np.pi/180.0\n",
    "\n",
    "sysMap['RA']= RA\n",
    "sysMap['DEC'] = DEC\n",
    "\n",
    "print(sysMap.size)\n",
    "\n",
    "#print((sysMap != 0.0 ).any())"
   ]
  },
  {
   "cell_type": "code",
   "execution_count": 20,
   "id": "d22e2b27-7f00-4deb-89ba-8efe40f3c559",
   "metadata": {},
   "outputs": [
    {
     "name": "stdout",
     "output_type": "stream",
     "text": [
      "None\n"
     ]
    },
    {
     "data": {
      "image/png": "[encoded data removed]",
      "text/plain": [
       "<Figure size 612x388.8 with 2 Axes>"
      ]
     },
     "metadata": {
      "needs_background": "light"
     },
     "output_type": "display_data"
    }
   ],
   "source": [
    "# moll view of healpy map to check-- plot to check if masking works (give column with all entries)\n",
    "print(hp.visufunc.mollview(sysMap['SIGNAL']))"
   ]
  },
  {
   "cell_type": "code",
   "execution_count": 21,
   "id": "3236df23-658e-49b5-9c3f-cfece599362b",
   "metadata": {},
   "outputs": [
    {
     "name": "stdout",
     "output_type": "stream",
     "text": [
      "[(0, -1.6375e+30,  45. , 89.90862927) (1, -1.6375e+30, 135. , 89.90862927)\n",
      " (2, -1.6375e+30, 225. , 89.90862927) (3, -1.6375e+30, 315. , 89.90862927)\n",
      " (4, -1.6375e+30,  22.5, 89.81725848) (5, -1.6375e+30,  67.5, 89.81725848)\n",
      " (6, -1.6375e+30, 112.5, 89.81725848) (7, -1.6375e+30, 157.5, 89.81725848)\n",
      " (8, -1.6375e+30, 202.5, 89.81725848) (9, -1.6375e+30, 247.5, 89.81725848)]\n",
      "[0.000000e+00 1.000000e+00 2.000000e+00 ... 3.145725e+06 3.145726e+06\n",
      " 3.145727e+06]\n"
     ]
    }
   ],
   "source": [
    "print(sysMap[0:10])\n",
    "print(pixels)"
   ]
  },
  {
   "cell_type": "code",
   "execution_count": 22,
   "id": "1a4d2730-be66-4702-8c07-8e539aa4adb0",
   "metadata": {},
   "outputs": [
    {
     "name": "stdout",
     "output_type": "stream",
     "text": [
      "('PIXEL', 'SIGNAL')\n",
      "[1.      0.875   1.      ... 0.09375 0.8125  0.0625 ]\n"
     ]
    }
   ],
   "source": [
    "#all griz combined fracdet map\n",
    "\n",
    "path = '/fs/scratch/PCON0003/warner785/bwarner/'\n",
    "fracDet = fitsio.read(path+'y3a2_griz_o.4096_t.32768_coverfoot_EQU.fits.gz')\n",
    "\n",
    "print(fracDet.dtype.names)\n",
    "print(fracDet['SIGNAL'])"
   ]
  },
  {
   "cell_type": "code",
   "execution_count": 23,
   "id": "e67b5438-ab51-46ee-8719-238cb51b9c75",
   "metadata": {},
   "outputs": [],
   "source": [
    "#convert fracDet to nside 512:\n",
    "\n",
    "frac = np.zeros(hp.nside2npix(4096))\n",
    "fracDet[\"PIXEL\"] = hp.nest2ring(4096, fracDet['PIXEL'])\n",
    "#sysHp[sysMap['PIXEL'][dim_mask]] = sysMap['SIGNAL'][dim_mask]\n",
    "frac[fracDet['PIXEL']] = fracDet['SIGNAL']\n",
    "\n",
    "downgrade_frac = hp.pixelfunc.ud_grade(frac, 512, pess=False, order_in='RING', order_out=None, power=None, dtype=None)"
   ]
  },
  {
   "cell_type": "code",
   "execution_count": 24,
   "id": "910dec31-fdd7-4f57-92da-20dc11798a31",
   "metadata": {},
   "outputs": [],
   "source": [
    "n_good_pixels_at_512 = hp.nside2npix(nside_out)\n",
    "#np.zeros(n_good_pixels_at_512, dtype=[('PIXEL','int'), ('SIGNAL','float')] \n",
    " \n",
    "pixels = np.arange( n_good_pixels_at_512)\n",
    "\n",
    "\n",
    "fracDet_512 = np.zeros( len(pixels), dtype=[('HPIX_512','int'), ('SIGNAL','float')])\n",
    "fracDet_512['HPIX_512'] = pixels\n",
    "fracDet_512['SIGNAL'] = downgrade_frac"
   ]
  },
  {
   "cell_type": "code",
   "execution_count": 25,
   "id": "54350b92-7bd8-4b27-bd29-efc14fa4b718",
   "metadata": {},
   "outputs": [
    {
     "name": "stdout",
     "output_type": "stream",
     "text": [
      "3145728\n",
      "25169981\n"
     ]
    }
   ],
   "source": [
    "print(fracDet_512[\"HPIX_512\"].size)\n",
    "print(fracDet[\"PIXEL\"].size)"
   ]
  },
  {
   "cell_type": "code",
   "execution_count": 26,
   "id": "db371f32-6c89-42e3-8a3d-2a6d57e9ac14",
   "metadata": {},
   "outputs": [
    {
     "name": "stdout",
     "output_type": "stream",
     "text": [
      "('COADD_OBJECT_ID', 'RA', 'DEC', 'HPIX_4096', 'MAG_DETMODEL_G', 'MAGERR_DETMODEL_G', 'MAG_DETMODEL_R', 'MAGERR_DETMODEL_R', 'MAG_DETMODEL_I', 'MAGERR_DETMODEL_I', 'MAG_DETMODEL_Z', 'MAGERR_DETMODEL_Z', 'MOF_CM_MAG_ERR_G', 'MOF_CM_MAG_ERR_R', 'MOF_CM_MAG_ERR_I', 'MOF_CM_MAG_ERR_Z', 'MOF_CM_MAG_CORRECTED_G', 'MOF_CM_MAG_CORRECTED_R', 'MOF_CM_MAG_CORRECTED_I', 'MOF_CM_MAG_CORRECTED_Z', 'SOF_CM_MAG_ERR_G', 'SOF_CM_MAG_ERR_R', 'SOF_CM_MAG_ERR_I', 'SOF_CM_MAG_ERR_Z', 'SOF_CM_MAG_CORRECTED_G', 'SOF_CM_MAG_CORRECTED_R', 'SOF_CM_MAG_CORRECTED_I', 'SOF_CM_MAG_CORRECTED_Z', 'EXTENDED_CLASS_MASH_SOF', 'CMASS_PROB', 'WEIGHT', 'HPIX_512')\n"
     ]
    }
   ],
   "source": [
    "#dim_mask = np.in1d(sysMap['PIXEL'], dmass_chron['HPIX_4096'], assume_unique=False, invert=False)\n",
    "\n",
    "#print(dmass_chron['HPIX_4096'])\n",
    "\n",
    "from numpy.lib.recfunctions import append_fields\n",
    "\n",
    "theta, phi = hp.pix2ang(4096, dmass_chron['HPIX_4096'], nest = True)\n",
    "HPIX_512 = hp.ang2pix(512, theta, phi)\n",
    "\n",
    "dmass_chron = append_fields(dmass_chron, 'HPIX_512', HPIX_512, usemask=False)\n",
    "print(dmass_chron.dtype.names)\n",
    "\n",
    "# hp.-- conversion -- use RA DEC, or Su's code -- github -- add column of HPIX_512\n",
    "# pixel ID of nside --> pixel ID of new nside\n",
    "# or existing column added"
   ]
  },
  {
   "cell_type": "code",
   "execution_count": 27,
   "id": "9ee3b765-8099-44cf-8b39-7f4c5b130909",
   "metadata": {},
   "outputs": [
    {
     "name": "stdout",
     "output_type": "stream",
     "text": [
      "2741190\n",
      "3145728\n",
      "2741190\n",
      "27570\n"
     ]
    }
   ],
   "source": [
    "#print(dmass_chron['HPIX_512'])\n",
    "print(len(dmass_chron['HPIX_512']))\n",
    "#total hpix for this nside -- maximum pixel value is the same nside2pix\n",
    "print(hp.nside2npix(512))\n",
    "#print(np.max(dmass_chron['HPIX_512']))\n",
    "print(len(dmass_chron['HPIX_4096']))\n",
    "\n",
    "print(len(set(dmass_chron['HPIX_512'])))\n",
    "\n",
    "#print(hp.visufunc.mollview(dmass_chron['WEIGHT']))"
   ]
  },
  {
   "cell_type": "code",
   "execution_count": 28,
   "id": "a36756f3-9c97-40f0-9722-027619a7aa29",
   "metadata": {},
   "outputs": [
    {
     "name": "stdout",
     "output_type": "stream",
     "text": [
      "min:  -5.299380424779635\n",
      "max:  10.863681965836138\n",
      "None\n"
     ]
    },
    {
     "data": {
      "image/png": "[encoded data removed]",
      "text/plain": [
       "<Figure size 612x388.8 with 2 Axes>"
      ]
     },
     "metadata": {
      "needs_background": "light"
     },
     "output_type": "display_data"
    },
    {
     "data": {
      "image/png": "[encoded data removed]",
      "text/plain": [
       "<Figure size 432x288 with 1 Axes>"
      ]
     },
     "metadata": {
      "needs_background": "light"
     },
     "output_type": "display_data"
    }
   ],
   "source": [
    "#Jack's method:\n",
    "import matplotlib.pyplot as plt\n",
    "\n",
    "#np.percentile()\n",
    "\n",
    "#dim_mask = np.in1d(sysMap['HPIX_512'], dmass_chron['HPIX_512'], assume_unique=False, invert=False)\n",
    "#print(sum(dim_mask), dim_mask.size)\n",
    "\n",
    "#minimum = np.percentile(sysMap['SIGNAL'][dim_mask], 1)\n",
    "minimum = np.percentile(sysMap['SIGNAL'][sysMap['SIGNAL']!=hp.UNSEEN], 1)\n",
    "#minimum = np.min(sysMap['SIGNAL'][dim_mask]) #FWHM signal (for g filter)\n",
    "#maximum = np.percentile(sysMap['SIGNAL'][dim_mask], 99)\n",
    "maximum = np.percentile(sysMap['SIGNAL'][sysMap['SIGNAL']!=hp.UNSEEN], 99)\n",
    "#maximum = np.max(sysMap['SIGNAL'][dim_mask])\n",
    "print(\"min: \", minimum)\n",
    "print(\"max: \", maximum)\n",
    "\n",
    "#pbin = np.linspace(-.03, .04, 1000)\n",
    "pbin, pstep = np.linspace( minimum, maximum, 13, retstep=True)\n",
    "pcenter = pbin[:-1] + pstep/2\n",
    "\n",
    "#x = np.zeros(hp.nside2npix(512))\n",
    "x = np.full(hp.nside2npix(512), hp.UNSEEN)\n",
    "#print(x, sum(x))\n",
    "#x[sysMap['PIXEL'][dim_mask]] = sysMap['SIGNAL'][dim_mask]\n",
    "x[sysMap['HPIX_512']] = sysMap['SIGNAL']\n",
    "\n",
    "print(hp.visufunc.mollview(x)) # this is fine\n",
    "#print(hp.UNSEEN)\n",
    "\n",
    "#systematic value at galaxy location:\n",
    "\n",
    "sysval_gal = x[dmass_chron['HPIX_512']].copy()\n",
    "\n",
    "#which healpixels have values in the sysMap signal\n",
    "\n",
    "#print(sum(sysval_gal[sysval_gal != hp.UNSEEN]))\n",
    "#print(hp.UNSEEN)\n",
    "\n",
    "#print(x.size, sysval_gal.size, dmass_chron.size)\n",
    "#print(maximum, minimum)\n",
    "#print((sysval_gal != 0.0).any())\n",
    "h,_ = np.histogram(sysval_gal[sysval_gal != hp.UNSEEN], bins=pbin, weights = dmass_chron[\"WEIGHT\"][sysval_gal != hp.UNSEEN]) # -- density of dmass sample, not gold sample\n",
    "#print(h)\n",
    "\n",
    "# want this plotted:\n",
    "#h/number_of_pixels_in_sysbin\n",
    "\n",
    "#fracerr = 1/np.sqrt(h) #1 / sqrt(number of cmass galaxies in each bin)\n",
    "\n",
    "# change to number density: divide by area\n",
    "fig, ax = plt.subplots()\n",
    "ax.errorbar( pcenter, h)\n",
    "#ax.legend(chi2_reduced)\n",
    "plt.title('number of galaxies per bin')\n",
    "fig.savefig('gal_bin.pdf')\n",
    "\n",
    "#print(hp.visufunc.mollview(sysMap['SIGNAL'][dim_mask]))"
   ]
  },
  {
   "cell_type": "code",
   "execution_count": 36,
   "id": "5b4b9506-45bb-46dc-8384-12f182e7dbb2",
   "metadata": {},
   "outputs": [],
   "source": [
    "#fig, ax = plt.subplots()\n",
    "#plt.plot(sysMap['HPIX_512'], x[dmass_chron['HPIX_512']], '.')"
   ]
  },
  {
   "cell_type": "code",
   "execution_count": 37,
   "id": "74d55925-4baa-47ef-b13b-26f611ea9b8e",
   "metadata": {},
   "outputs": [
    {
     "name": "stdout",
     "output_type": "stream",
     "text": [
      "[6.26947064 6.26947064 5.31352054 ... 3.70717435 3.70717435 3.70717435]\n"
     ]
    }
   ],
   "source": [
    "#fig, ax = plt.subplots()\n",
    "#plt.hist(sysval_gal)\n",
    "\n",
    "print(sysval_gal)"
   ]
  },
  {
   "cell_type": "code",
   "execution_count": 29,
   "id": "2bd5becf-b43e-4d20-8ce1-5ccdcbf3b2e9",
   "metadata": {},
   "outputs": [
    {
     "data": {
      "text/plain": [
       "[<matplotlib.lines.Line2D at 0x2af89ee9e240>]"
      ]
     },
     "execution_count": 29,
     "metadata": {},
     "output_type": "execute_result"
    },
    {
     "data": {
      "image/png": "[encoded data removed]",
      "text/plain": [
       "<Figure size 432x288 with 1 Axes>"
      ]
     },
     "metadata": {
      "needs_background": "light"
     },
     "output_type": "display_data"
    }
   ],
   "source": [
    "fig, ax = plt.subplots()\n",
    "ax.plot( sysMap['RA'][sysMap['SIGNAL']!=hp.UNSEEN], sysMap['DEC'][sysMap['SIGNAL']!=hp.UNSEEN], ',')\n",
    "ax.plot(dmass_chron['RA'], dmass_chron['DEC'], ',')\n",
    "\n",
    "ra,dec = hp.pix2ang(512, dmass_chron['HPIX_512'],lonlat=True)\n",
    "plt.plot(ra,dec, ',')"
   ]
  },
  {
   "cell_type": "code",
   "execution_count": 30,
   "id": "59232187-d115-454e-853f-a9bb886b44d8",
   "metadata": {},
   "outputs": [
    {
     "name": "stdout",
     "output_type": "stream",
     "text": [
      "[13.21132391 14.21167544 12.63256089 ...  2.25964296  6.48364325\n",
      "  4.20400508]\n",
      "27116\n",
      "area without weights:\n",
      "[ 258  572 1079 1670 2521 3682 4648 4963 3784 2039  948  408]\n"
     ]
    }
   ],
   "source": [
    "# number of galaxies in each pixel:\n",
    "\n",
    "# dmass catalog turned into healpix map\n",
    "# counting number of galaxies in each healpix pixel \n",
    "# dividing healpix pixel area --- corresponding area to 4096 resolution -- to get number density (plus mask -- later) FRACDET\n",
    "\n",
    "# 1) galaxy number counts and area for each healpix pixel -- match healpix with area map?\n",
    "\n",
    "#bins of systematic signal\n",
    "#print(pbin)\n",
    "\n",
    "#compute how much area is in each bin. \n",
    "#you can get the first pass estimate of this by just doing a histogram of the signal column of the sysmap with the same bins.  \n",
    "\n",
    "#sys_signal = sysMap['SIGNAL'][dim_mask]\n",
    "sys_signal = sysMap['SIGNAL']\n",
    "\n",
    "print(sys_signal[sys_signal != hp.UNSEEN])\n",
    "print(sys_signal[sys_signal != hp.UNSEEN].size)\n",
    "\n",
    "n,_ = np.histogram(sys_signal[sys_signal != hp.UNSEEN] , bins=pbin )\n",
    "print('area without weights:')\n",
    "print(n)"
   ]
  },
  {
   "cell_type": "code",
   "execution_count": null,
   "id": "f435cf10-c505-4295-866a-051f626f480e",
   "metadata": {},
   "outputs": [],
   "source": [
    "#To do it properly you will need to:\n",
    "\n",
    "#(A) make sure the mask you are using for the galaxies applied to the sysmap \n",
    "#print(LSSGoldmask.dtype.names)\n",
    "#print(LSSGoldmask)\n",
    "\n",
    "'''\n",
    "#matched_sys = sysMap[dim_mask]\n",
    "matched_sys = sysMap\n",
    "mask = np.zeros(hp.nside2npix(512))\n",
    "bao_mask = np.in1d(LSSGoldmask[\"PIXEL\"], matched_sys[\"HPIX_512\"], assume_unique=False, invert=False)\n",
    "mask[matched_sys[\"HPIX_512\"]] = matched_sys[\"SIGNAL\"]\n",
    "\n",
    "#some pixels were not in Goldmask, therefore these pixels = 0\n",
    "# only include the signals of pixels of systematic within mask\n",
    "BAO_sys = mask[LSSGoldmask[\"PIXEL\"][bao_mask]]\n",
    "\n",
    "#metadata for LSSGOLDmask\n",
    "\n",
    "#(B) add up the fractional coverage  (probably labelled fracgood or fracdet) in each “SIGNAL” bin, \n",
    "#rather than treating each pixel as 1. you can do this with the same histogram function by also passing the fracgood array \n",
    "#as the weights= argument \n",
    "\n",
    "area1,_ = np.histogram(BAO_sys , bins=pbin , weights = LSSGoldmask[\"SIGNAL\"][bao_mask])\n",
    "print('area with BAO mask:')\n",
    "print(area1)\n",
    "\n",
    "#*needs correction:\n",
    "#only have taken out pixels with \"0\" \n",
    "# need frac_det array-- in BAO mask-- and apply the same BAO mask afterward to find area //\n",
    "\n",
    "'''"
   ]
  },
  {
   "cell_type": "code",
   "execution_count": 31,
   "id": "8d7c8a44-4aff-4561-a8da-057d109fa846",
   "metadata": {},
   "outputs": [
    {
     "name": "stdout",
     "output_type": "stream",
     "text": [
      "[      0       1       2 ... 3145725 3145726 3145727]\n",
      "[13.21132391 14.21167544 12.63256089 ...  2.25964296  6.48364325\n",
      "  4.20400508]\n",
      "27116\n",
      "sum:  379041.4577636719\n",
      "area with weights:\n",
      "[ 250.65429688  556.14770508 1047.19433594 1623.47387695 2458.45239258\n",
      " 3591.0625     4528.20996094 4828.65307617 3681.36669922 1980.45800781\n",
      "  915.97314453  390.96850586]\n",
      "None\n"
     ]
    },
    {
     "data": {
      "image/png": "[encoded data removed]",
      "text/plain": [
       "<Figure size 612x388.8 with 2 Axes>"
      ]
     },
     "metadata": {
      "needs_background": "light"
     },
     "output_type": "display_data"
    }
   ],
   "source": [
    "#corrected fracDet nside 512 //\n",
    "\n",
    "#matched_sys2 = sysMap[dim_mask]\n",
    "sys = sysMap\n",
    "mask = np.full(hp.nside2npix(512), hp.UNSEEN)\n",
    "\n",
    "print(fracDet_512[\"HPIX_512\"])\n",
    "\n",
    "#Only look at pixels where fracDet has value\n",
    "frac_mask = np.in1d(fracDet_512[\"HPIX_512\"], sys[\"HPIX_512\"], assume_unique=False, invert=False)\n",
    "\n",
    "#make an array with signals corresponding to pixel values \n",
    "mask[sys[\"HPIX_512\"]] = sys[\"SIGNAL\"]\n",
    "\n",
    "#array only including fracDet/sys seen pixels sys signal values \n",
    "#print(mask[mask != hp.UNSEEN])\n",
    "frac_sys = mask[fracDet_512[\"HPIX_512\"][frac_mask]]\n",
    "\n",
    "print(frac_sys[frac_sys != hp.UNSEEN])\n",
    "print(frac_sys[frac_sys != hp.UNSEEN].size)\n",
    "\n",
    "#print(frac_sys[frac_sys != hp.UNSEEN])\n",
    "\n",
    "\n",
    "print(\"sum: \", sum(fracDet_512[\"SIGNAL\"]))\n",
    "\n",
    "#weights of fracDet in the overlap applied for accurate areas\n",
    "area,_ = np.histogram(frac_sys[frac_sys != hp.UNSEEN] , bins=pbin , weights = fracDet_512[\"SIGNAL\"][frac_mask][frac_sys != hp.UNSEEN])\n",
    "print('area with weights:')\n",
    "print(area)\n",
    "# area = units of healpixels\n",
    "\n",
    "print(hp.visufunc.mollview(fracDet_512[\"SIGNAL\"]))"
   ]
  },
  {
   "cell_type": "code",
   "execution_count": 43,
   "id": "1d279a9e-5cfa-4668-8aca-7f417780355d",
   "metadata": {},
   "outputs": [
    {
     "name": "stdout",
     "output_type": "stream",
     "text": [
      "[0. 0. 0. ... 0. 0. 0.]\n",
      "[1.      1.      0.96875 ... 1.      1.      1.     ]\n"
     ]
    }
   ],
   "source": [
    "#print(frac_sys)\n",
    "#print(fracDet[\"SIGNAL\"][bao_mask2])"
   ]
  },
  {
   "cell_type": "code",
   "execution_count": 44,
   "id": "dd1fb849-1a09-4868-ac20-d845851cd876",
   "metadata": {},
   "outputs": [
    {
     "name": "stdout",
     "output_type": "stream",
     "text": [
      "1094\n",
      "679\n"
     ]
    }
   ],
   "source": [
    "#print(BAO_Fullmask[\"SIGNAL\"][bao_mask2][10:100])\n",
    "#print(LSSGoldmask[\"SIGNAL\"][bao_mask][10:100])\n",
    "\n",
    "#for x in range(BAO_Fullmask.size):\n",
    "#    if BAO_Fullmask[\"SIGNAL\"][x] == 0.0:\n",
    "#        print(x)\n",
    "\n",
    "#print(fracDet[\"SIGNAL\"][bao_mask2].size)\n",
    "#print(LSSGoldmask[\"SIGNAL\"][bao_mask].size)\n",
    "\n",
    "#printing out sizes, etc. to check if things are the same \n",
    "#exert statements for debugging"
   ]
  },
  {
   "cell_type": "code",
   "execution_count": 45,
   "id": "2005851a-d342-4f62-a3d4-e89d958c1c92",
   "metadata": {},
   "outputs": [
    {
     "name": "stdout",
     "output_type": "stream",
     "text": [
      "False\n"
     ]
    }
   ],
   "source": [
    "#print((fracDet['SIGNAL'] == 0.0 ).any())"
   ]
  },
  {
   "cell_type": "code",
   "execution_count": 46,
   "id": "36cc1901-c9cd-4bfc-be7c-ab332cdc4adc",
   "metadata": {},
   "outputs": [],
   "source": [
    "#then do the number of galaxies divided by the area:\n",
    "\n",
    "# h = number of galaxies\n",
    "#print(h)\n",
    "\n",
    "# number density in bins: h/area\n",
    "#number_density = []\n",
    "#for x in range(len(h)):\n",
    "#    den = h[x]/area[x]\n",
    "#    number_density.append(den)\n",
    "    \n",
    "#Details: So the idea here is, we don’t expect the number density of galaxies to change as we look at patches with different \n",
    "#survey property values.\n",
    "#So when you make these histograms you are effectively splitting the survey footprint into patches of different \n",
    "#sysmap values and you can calculate the number density of objects in each patch.\n",
    "    \n",
    "#print(number_density)\n",
    "\n",
    "#If we do see this density change as a function of the sysmap, we will have to correct for it with systematics \n",
    "#weights as Su did in her paper\n"
   ]
  },
  {
   "cell_type": "code",
   "execution_count": 32,
   "id": "db4a84e9-da59-4949-8f41-bdc134c168dc",
   "metadata": {},
   "outputs": [
    {
     "name": "stdout",
     "output_type": "stream",
     "text": [
      "('RA', 'DEC', 'WEIGHT')\n"
     ]
    },
    {
     "name": "stderr",
     "output_type": "stream",
     "text": [
      "/users/PCON0003/warner785/.conda/envs/DES_env/lib/python3.7/site-packages/healpy/pixelfunc.py:481: RuntimeWarning: invalid value encountered in _ang2pix_ring\n",
      "  return pixlib._ang2pix_ring(nside, theta, phi)\n"
     ]
    },
    {
     "name": "stdout",
     "output_type": "stream",
     "text": [
      "('RA', 'DEC', 'WEIGHT', 'HPIX_512')\n"
     ]
    }
   ],
   "source": [
    "print(random_val.dtype.names)\n",
    "\n",
    "# convert nside for randoms:\n",
    "phi = random_val['RA'] * np.pi / 180.0\n",
    "theta = ( 90.0 - random_val['DEC'] ) * np.pi/180.0\n",
    "nside= 4096\n",
    "\n",
    "HPIX_512 = hp.ang2pix(512, theta, phi)\n",
    "\n",
    "random_val = append_fields(random_val, 'HPIX_512', HPIX_512, usemask=False)\n",
    "print(random_val.dtype.names)\n",
    "\n",
    "index_ran_mask = np.argsort(random_val['HPIX_512'])\n",
    "random_chron = random_val[index_ran_mask] # ordered by hpix values"
   ]
  },
  {
   "cell_type": "code",
   "execution_count": 33,
   "id": "d3e0b98c-7394-4c35-9548-51cf6ba66247",
   "metadata": {},
   "outputs": [
    {
     "name": "stdout",
     "output_type": "stream",
     "text": [
      "None\n",
      "number of random galaxies:  [ 204.  472.  889. 1307. 2016. 2994. 3901. 4018. 2935. 1582.  686.  298.]\n",
      "randoms number density:  [0.8138699497409124, 0.8486954017614721, 0.8489350729768065, 0.8050637700761337, 0.8200280819291624, 0.8337365334075918, 0.861488321798655, 0.8321161070418926, 0.7972582575440957, 0.7988051217240331, 0.7489302542282078, 0.7622097318170834]\n",
      "total_area:  25852.614501953125\n",
      "total galaxies:  21302.0\n",
      "total number density:  0.8239785573095776\n",
      "[0.98773195 1.02999695 1.03028782 0.97704456 0.99520561 1.01184251\n",
      " 1.04552274 1.00987592 0.96757161 0.96944892 0.90891959 0.92503588]\n",
      "normalized error:  [0.06915507 0.04740945 0.03455474 0.02702568 0.02216499 0.01849213\n",
      " 0.01673962 0.01593173 0.0178599  0.02437371 0.03470271 0.05358589]\n"
     ]
    },
    {
     "data": {
      "image/png": "[encoded data removed]",
      "text/plain": [
       "<Figure size 612x388.8 with 2 Axes>"
      ]
     },
     "metadata": {
      "needs_background": "light"
     },
     "output_type": "display_data"
    },
    {
     "data": {
      "image/png": "[encoded data removed]",
      "text/plain": [
       "<Figure size 432x288 with 1 Axes>"
      ]
     },
     "metadata": {
      "needs_background": "light"
     },
     "output_type": "display_data"
    }
   ],
   "source": [
    "# now for randoms:\n",
    "\n",
    "import matplotlib.pyplot as plt\n",
    "\n",
    "#dim_ran_mask = np.in1d(sysMap['PIXEL'], random_chron, assume_unique=False, invert=False)\n",
    "\n",
    "#minimum = np.percentile(sysMap['SIGNAL'][dim_mask], 1)\n",
    "minimum = np.percentile(sysMap['SIGNAL'][sysMap['SIGNAL']!=hp.UNSEEN], 1)\n",
    "#minimum = np.min(sysMap['SIGNAL'][dim_mask]) #FWHM signal (for g filter)\n",
    "#maximum = np.percentile(sysMap['SIGNAL'][dim_mask], 99)\n",
    "maximum = np.percentile(sysMap['SIGNAL'][sysMap['SIGNAL']!=hp.UNSEEN], 99)\n",
    "#print(minimum)\n",
    "#print(maximum)\n",
    "\n",
    "pbin, pstep = np.linspace( minimum, maximum, 13, retstep=True)\n",
    "pcenter = pbin[:-1] + pstep/2\n",
    "\n",
    "#x = np.zeros(hp.nside2npix(512))\n",
    "x = np.full(hp.nside2npix(512), hp.UNSEEN)\n",
    "#print(x, sum(x))\n",
    "#x[sysMap['PIXEL'][dim_mask]] = sysMap['SIGNAL'][dim_mask]\n",
    "x[sysMap['HPIX_512']] = sysMap['SIGNAL']\n",
    "\n",
    "print(hp.visufunc.mollview(x)) # this is fine\n",
    "#print(hp.UNSEEN)\n",
    "\n",
    "#systematic value at galaxy location:\n",
    "\n",
    "sysval_gal_ran = x[random_chron['HPIX_512']].copy()\n",
    "\n",
    "#which healpixels have values in the sysMap signal\n",
    "\n",
    "#print(sum(sysval_gal[sysval_gal != hp.UNSEEN]))\n",
    "#print(hp.UNSEEN)\n",
    "\n",
    "#print(x.size, sysval_gal.size, dmass_chron.size)\n",
    "#print(maximum, minimum)\n",
    "#print((sysval_gal != 0.0).any())\n",
    "h_ran,_ = np.histogram(sysval_gal_ran[sysval_gal_ran != hp.UNSEEN], bins=pbin, weights = random_chron[\"WEIGHT\"][sysval_gal_ran != hp.UNSEEN]) # -- density of dmass sample, not gold sample\n",
    "#print(h)\n",
    "\n",
    "# want this plotted:\n",
    "#h/number_of_pixels_in_sysbin\n",
    "\n",
    "#fracerr = 1/np.sqrt(h) #1 / sqrt(number of cmass galaxies in each bin)\n",
    "\n",
    "# change to number density: divide by area\n",
    "fig, ax = plt.subplots()\n",
    "ax.errorbar( pcenter, h_ran)\n",
    "#ax.legend(chi2_reduced)\n",
    "plt.title('number of random galaxies per bin')\n",
    "fig.savefig('ran_gal_bin.pdf')\n",
    "\n",
    "#print(hp.visufunc.mollview(sysMap['SIGNAL'][dim_mask]))\n",
    "\n",
    "# h_ran = number of galaxies\n",
    "print(\"number of random galaxies: \", h_ran)\n",
    "\n",
    "# number density in bins: h/area\n",
    "number_density_ran = []\n",
    "for x in range(len(h_ran)):\n",
    "    den_ran = h_ran[x]/area[x]\n",
    "    number_density_ran.append(den_ran)\n",
    "    \n",
    "print(\"randoms number density: \", number_density_ran)\n",
    "\n",
    "\n",
    "total_area = 0\n",
    "#Normalize based on total number density of used footprint:\n",
    "for x in range(len(area)):\n",
    "    total_area += area[x]\n",
    "\n",
    "print(\"total_area: \", total_area)\n",
    "\n",
    "# total galaxies:\n",
    "total_h_ran = 0\n",
    "for x in range(len(h_ran)):\n",
    "    total_h_ran += h_ran[x]\n",
    "\n",
    "print(\"total galaxies: \", total_h_ran)\n",
    "\n",
    "#normalization: \n",
    "total_num_density_ran = total_h_ran/total_area\n",
    "\n",
    "print(\"total number density: \", total_num_density_ran)\n",
    "\n",
    "# apply normalization: \n",
    "#print(number_density)\n",
    "norm_number_density_ran = number_density_ran/total_num_density_ran\n",
    "print(norm_number_density_ran)\n",
    "\n",
    "fracerr_ran = np.sqrt(h_ran) #1 / sqrt(number of randoms cmass galaxies in each bin)\n",
    "fracerr_ran_norm = (fracerr_ran/area)/total_num_density_ran\n",
    "print(\"normalized error: \", fracerr_ran_norm)"
   ]
  },
  {
   "cell_type": "code",
   "execution_count": 34,
   "id": "9597ca75-c249-4da5-880e-6e61dedc61e3",
   "metadata": {},
   "outputs": [
    {
     "name": "stdout",
     "output_type": "stream",
     "text": [
      "[ 204.  472.  889. 1307. 2016. 2994. 3901. 4018. 2935. 1582.  686.  298.]\n",
      "[ 250.65429688  556.14770508 1047.19433594 1623.47387695 2458.45239258\n",
      " 3591.0625     4528.20996094 4828.65307617 3681.36669922 1980.45800781\n",
      "  915.97314453  390.96850586]\n"
     ]
    }
   ],
   "source": [
    "print(h_ran)\n",
    "print(area)\n"
   ]
  },
  {
   "cell_type": "code",
   "execution_count": 35,
   "id": "25618dd9-502b-4e07-bbfe-a04ee6cb5e05",
   "metadata": {},
   "outputs": [
    {
     "data": {
      "text/plain": [
       "Text(0.5, 1.0, 'number of randoms versus dmass per bin')"
      ]
     },
     "execution_count": 35,
     "metadata": {},
     "output_type": "execute_result"
    },
    {
     "data": {
      "image/png": "[encoded data removed]",
      "text/plain": [
       "<Figure size 432x288 with 1 Axes>"
      ]
     },
     "metadata": {
      "needs_background": "light"
     },
     "output_type": "display_data"
    }
   ],
   "source": [
    "fig, ax = plt.subplots()\n",
    "ax.errorbar( pcenter, h_ran, label = \"randoms in validation\")\n",
    "ax.errorbar( pcenter, h, label = \"dmass in validation\")\n",
    "plt.legend()\n",
    "#ax.legend(chi2_reduced)\n",
    "plt.title('number of randoms versus dmass per bin')"
   ]
  },
  {
   "cell_type": "code",
   "execution_count": 36,
   "id": "9fa76ac2-f067-4b33-91ea-3b589e188477",
   "metadata": {},
   "outputs": [
    {
     "name": "stdout",
     "output_type": "stream",
     "text": [
      "dmass number density:  [1.3386676545972798, 1.23041862385474, 1.1837661334963265, 1.0895747483990232, 1.0882428878393926, 1.065704753091775, 1.072433395187311, 1.0538849836328532, 1.046426198338736, 1.0082332502224536, 1.056328333785986, 0.9516617492885314]\n",
      "total_area:  25852.614501953125\n",
      "total galaxies:  27664.501213292442\n",
      "normalized error:  [0.06829367 0.04395548 0.03141962 0.02420959 0.01966136 0.01609862\n",
      " 0.01438148 0.01380592 0.01575547 0.02108528 0.03173509 0.04610543]\n",
      "total number density:  1.0700852407481816\n",
      "[1.25099161 1.14983235 1.10623536 1.01821304 1.01696841 0.99590641\n",
      " 1.00219436 0.98486078 0.97789051 0.94219901 0.9871441  0.88933266]\n"
     ]
    },
    {
     "data": {
      "image/png": "[encoded data removed]",
      "text/plain": [
       "<Figure size 432x288 with 1 Axes>"
      ]
     },
     "metadata": {
      "needs_background": "light"
     },
     "output_type": "display_data"
    }
   ],
   "source": [
    "# *****Creating the figure******:\n",
    "\n",
    "#Also, we usually normalize the plots to the total number density of the total footprint considered. \n",
    "#so that we expect the final result to be a flat line at y=1.\n",
    "\n",
    "# number density in bins: h/area\n",
    "number_density = []\n",
    "for x in range(len(h)):\n",
    "    den = h[x]/area[x]\n",
    "    number_density.append(den)\n",
    "    \n",
    "print(\"dmass number density: \", number_density)\n",
    "\n",
    "total_area = 0\n",
    "#Normalize based on total number density of used footprint:\n",
    "for x in range(len(area)):\n",
    "    total_area += area[x]\n",
    "\n",
    "print(\"total_area: \", total_area)\n",
    "\n",
    "# total galaxies:\n",
    "total_h = 0\n",
    "for x in range(len(h)):\n",
    "    total_h += h[x]\n",
    "\n",
    "print(\"total galaxies: \", total_h)\n",
    "\n",
    "#normalization: \n",
    "total_num_density = total_h/total_area\n",
    "\n",
    "\n",
    "#errorbars: (how to define these)\n",
    "fracerr = np.sqrt(h)\n",
    "fracerr_norm = (fracerr/area)/total_num_density\n",
    "print(\"normalized error: \", fracerr_norm)\n",
    "\n",
    "\n",
    "print(\"total number density: \", total_num_density)\n",
    "\n",
    "# apply normalization: \n",
    "#print(number_density)\n",
    "norm_number_density = number_density/total_num_density\n",
    "print(norm_number_density)\n",
    "\n",
    "import matplotlib.pyplot as plt\n",
    "#figure of systematics:\n",
    "\n",
    "fracerr = 1/np.sqrt(h) #1 / sqrt(number of cmass galaxies in each bin)\n",
    "\n",
    "# change to number density: divide by area\n",
    "fig, ax = plt.subplots()\n",
    "ax.errorbar( pcenter, norm_number_density, yerr=fracerr_norm, label = \"dmass in validation\")\n",
    "ax.errorbar( pcenter, norm_number_density_ran, yerr=fracerr_ran_norm, label = \"randoms in validation\")\n",
    "plt.legend()\n",
    "plt.xlabel(\"pca0\")\n",
    "plt.ylabel(\"n_gal/n_tot 512\")\n",
    "#plt.ylim(top=1.2)  # adjust the top leaving bottom unchanged\n",
    "#plt.ylim(bottom=0.85)\n",
    "plt.axhline(y=1, color='grey', linestyle='--')\n",
    "plt.title('pca0 systematic check')\n",
    "fig.savefig('pca0.pdf')"
   ]
  },
  {
   "cell_type": "code",
   "execution_count": 37,
   "id": "1ffb1ad0-9f71-4644-bdca-5b2339044317",
   "metadata": {},
   "outputs": [
    {
     "data": {
      "text/plain": [
       "[<matplotlib.lines.Line2D at 0x2af67c3fc748>]"
      ]
     },
     "execution_count": 37,
     "metadata": {},
     "output_type": "execute_result"
    },
    {
     "data": {
      "image/png": "[encoded data removed]",
      "text/plain": [
       "<Figure size 432x288 with 1 Axes>"
      ]
     },
     "metadata": {
      "needs_background": "light"
     },
     "output_type": "display_data"
    }
   ],
   "source": [
    "fig, ax = plt.subplots()\n",
    "ax.plot( pcenter, h, '-')\n",
    "ax.plot(pcenter, area, '.')"
   ]
  },
  {
   "cell_type": "code",
   "execution_count": 39,
   "id": "7388325b-cbc5-4a8f-89ad-78e815a7f87d",
   "metadata": {},
   "outputs": [
    {
     "name": "stdout",
     "output_type": "stream",
     "text": [
      "diff2_reduced:  0.008550213040184938\n",
      "size:  12\n",
      "diff2:  0.10260255648221926\n"
     ]
    }
   ],
   "source": [
    "#check: fracdet working properly\n",
    "#chi_2/degree of freedom (= number of bins) check to be close to 1 for normalized number density\n",
    "#x1=norm_number_density\n",
    "#x2=np.ones_like(x1)\n",
    "#err=fracerr_norm\n",
    "#chi2 = (x1-x2)**2 / err **2 \n",
    "#chi2_reduced = sum(chi2)/chi2.size #chi_2/degree of freedom\n",
    "#print(\"chi2_reduced: \",chi2_reduced)\n",
    "#print(\"size: \",chi2.size)\n",
    "#print(\"sum of chi2: \",sum(chi2))\n",
    "\n",
    "# difference of (randoms-horizontal line)**2\n",
    "# difference of (dmasslineaer correction - line)**2\n",
    "x1 = norm_number_density\n",
    "x2 = norm_number_density_ran\n",
    "diff2 = (x1-x2)**2\n",
    "diff2_reduced =  sum(diff2)/diff2.size\n",
    "print(\"diff2_reduced: \",diff2_reduced)\n",
    "print(\"size: \",diff2.size)\n",
    "print(\"diff2: \",sum(diff2))"
   ]
  },
  {
   "cell_type": "code",
   "execution_count": 60,
   "id": "4f558a12-3862-4f4b-a704-b701ecedb528",
   "metadata": {},
   "outputs": [
    {
     "name": "stdout",
     "output_type": "stream",
     "text": [
      " \n",
      "-0.01787 x + 1.077\n",
      "[1.15916683 1.13510269 1.11103855 1.08697441 1.06291026 1.03884612\n",
      " 1.01478198 0.99071784 0.96665369 0.94258955 0.91852541 0.89446127]\n",
      "[-4.62591949 -3.27899763 -1.93207576 -0.58515389  0.76176797  2.10868984\n",
      "  3.4556117   4.80253357  6.14945544  7.4963773   8.84329917 10.19022103]\n"
     ]
    },
    {
     "data": {
      "image/png": "[encoded data removed]",
      "text/plain": [
       "<Figure size 432x288 with 1 Axes>"
      ]
     },
     "metadata": {
      "needs_background": "light"
     },
     "output_type": "display_data"
    }
   ],
   "source": [
    "# fit to trend:\n",
    "\n",
    "fig,ax = plt.subplots(1,1)\n",
    "#linear trends first -- chi2 for higher order study --- check for threshold value (afterward)\n",
    "z = np.polyfit(pcenter, norm_number_density, 1)\n",
    "p = np.poly1d(z)\n",
    "\n",
    "print(p)\n",
    "print(p(pcenter))\n",
    "print(pcenter)\n",
    "\n",
    "ax.plot(pcenter,p(pcenter),\"r--\")\n",
    "ax.errorbar( pcenter, norm_number_density, yerr=fracerr_norm, label = \"dmass in validation\")\n",
    "\n",
    "#plt.ylim(top=1.4)  # adjust the top leaving bottom unchanged\n",
    "#plt.ylim(bottom=0.8)\n",
    "#plt.xlim(right=10) \n",
    "#plt.xlim(left=-4)\n",
    "\n",
    "plt.title('pca0 systematic trendline')\n",
    "fig.savefig('pca0_trend.pdf')\n",
    "\n",
    "# chi2 of dmass versus trend line"
   ]
  },
  {
   "cell_type": "code",
   "execution_count": null,
   "id": "efe823b2-e1d0-44bb-8269-cd9e06977e2a",
   "metadata": {},
   "outputs": [],
   "source": [
    "#It can be shown that the principal components are eigenvectors of the data's \n",
    "#covariance matrix. Thus, the principal components are often computed by eigendecomposition of the data \n",
    "#covariance matrix or singular value decomposition of the data matrix. PCA is the simplest of the true \n",
    "#eigenvector-based multivariate analyses.\n",
    "#PCA defines a new orthogonal coordinate system that optimally describes variance in a single dataset. \n"
   ]
  },
  {
   "cell_type": "code",
   "execution_count": null,
   "id": "47d302a2-000c-4996-b974-b6ed3907a1cd",
   "metadata": {},
   "outputs": [],
   "source": [
    "# Before presenting new plots:\n",
    "\n",
    "# Build description of plots to present results-- are these good results?\n",
    "# Are these showing the right things\n",
    "# Statistical power of new data (improved) can cause problems where there wasn't before in Y1\n",
    "# Think about the science of the plots -- is there more we can get from them\n",
    "\n",
    "# equation to test if data difference is noise or significant -- chi_2, difference(including noise), linear fit to trend (numpy) -- error on slope\n",
    "\n",
    "# Interesting investigations into what data is saying\n",
    "\n",
    "# Put plots in slides with Su's Y1 comparison\n",
    "# look at Su's code in detail: verification \n",
    "\n",
    "# Parallel processing with research-- the science direction of coding, different problems to look into"
   ]
  },
  {
   "cell_type": "code",
   "execution_count": null,
   "id": "fc2d3e20-f4de-460b-8dd7-aef1a814926f",
   "metadata": {},
   "outputs": [],
   "source": [
    "# add limits to narrow range of x axis\n",
    "# use first and last percentile for limits instead of min max of x-axis\n",
    "# np.percentile() -- for less noisy plot ** 2nd and 99th\n",
    "\n",
    "\n",
    "#location of systematic maps:\n",
    "#/global/cfs/cdirs/des/jelvinpo/sysmaps/y3/"
   ]
  },
  {
   "cell_type": "code",
   "execution_count": 40,
   "id": "ea168bd2-8057-4d6a-bbee-f94e87e6f8a9",
   "metadata": {},
   "outputs": [
    {
     "name": "stdout",
     "output_type": "stream",
     "text": [
      "[    35370     35456     35458 ... 150977211 150977212 150977214]\n",
      "[35370 35370 35456 ... 150977212 150977212 150977214]\n"
     ]
    }
   ],
   "source": [
    "# don't run: check\n",
    "\n",
    "#dim_mask = np.in1d(sysMap['PIXEL'], dmass_chron['HPIX_4096'], assume_unique=False, invert=False)\n",
    "\n",
    "print(sysMap['PIXEL'][dim_mask])\n",
    "print(dmass_chron['HPIX_4096'])"
   ]
  },
  {
   "cell_type": "code",
   "execution_count": 11,
   "id": "f8f9491a-ed5c-4651-819b-d9ded0893e0f",
   "metadata": {},
   "outputs": [
    {
     "name": "stdout",
     "output_type": "stream",
     "text": [
      "[1.0857818 1.0857818 1.0857818 ... 1.0808538 1.0808538 1.0808538]\n",
      "35370\n",
      "150977214\n",
      "2741190\n"
     ]
    }
   ],
   "source": [
    "# not this one\n",
    "\n",
    "minimum = np.min(sysMap['PIXEL'])\n",
    "maximum = np.max(sysMap['PIXEL'])\n",
    "print(sysMap['SIGNAL'])\n",
    "#np.min(sysMap['PIXEL'])\n",
    "#np.max(sysMap['PIXEL'])\n",
    "minpix = np.min(dmass_val['HPIX_4096'])\n",
    "maxpix = np.max(dmass_val['HPIX_4096'])\n",
    "#pbin = np.linspace(minimum, maximum, 13)\n",
    "print(minpix)\n",
    "print(maxpix)\n",
    "#M, _ = np.histogram(dmass_val, bins=pbin) #shaded gray in plot\n",
    "\n",
    "#number density of each\n",
    "sysMaps_len = sysMap['PIXEL'].size\n",
    "dmass_len = dmass_val['HPIX_4096'].size\n",
    "print(dmass_len)"
   ]
  },
  {
   "cell_type": "code",
   "execution_count": 12,
   "id": "e62524c5-619a-4dd2-bc21-f086a0a52adc",
   "metadata": {},
   "outputs": [],
   "source": [
    "#unnecessay\n",
    "\n",
    "#compare two arrays: mask first array\n",
    "# sort dmass value to be chronilogical order:\n",
    "index_mask = np.argsort(dmass_val['HPIX_4096'])\n",
    "\n",
    "#print(index_mask)\n",
    "#hpix_smallest = dmass_val['HPIX_4096'][2111516]\n",
    "\n",
    "dmass_chron = dmass_val[index_mask] # ordered by hpix values\n",
    "\n",
    "dim_mask = np.in1d(sysMap['PIXEL'], dmass_chron['HPIX_4096'], assume_unique=False, invert=False)\n",
    "                    \n",
    "#print(dim_mask)\n",
    "#sys_pix = sysMap['PIXEL'][dim_mask]\n",
    "#print(sys_pix)"
   ]
  },
  {
   "cell_type": "code",
   "execution_count": 12,
   "id": "f3bdfd80-9173-4364-a6be-cc5ca615ccfd",
   "metadata": {},
   "outputs": [
    {
     "name": "stdout",
     "output_type": "stream",
     "text": [
      "[35370 35370 35456 ... 150977212 150977212 150977214]\n"
     ]
    }
   ],
   "source": [
    "print(dmass_chron['HPIX_4096'])"
   ]
  },
  {
   "cell_type": "code",
   "execution_count": null,
   "id": "c81d2070-f592-4c62-9742-cfd0cd371d16",
   "metadata": {},
   "outputs": [],
   "source": [
    "# don't use this one\n",
    "\n",
    "dmass_signal = []\n",
    "\n",
    "for x in range(sysMaps_len):\n",
    "    if sysMap['PIXEL'][x] > minpix or sysMap['PIXEL'][x] == minpix:\n",
    "        if sysMap['PIXEL'][x] < maxpix or sysMap['PIXEL'][x] == maxpix:\n",
    "            for y in range(dmass_len):\n",
    "                if dmass_val['HPIX_4096'][y] == sysMap['PIXEL'][x]:\n",
    "                    dmass_signal.append(sysMap['SIGNAL'][x])\n",
    "                    \n",
    "print(dmass_signal)"
   ]
  },
  {
   "cell_type": "code",
   "execution_count": null,
   "id": "09135d69-2527-430e-827b-c48eaa63f47f",
   "metadata": {},
   "outputs": [],
   "source": [
    "# don't run this\n",
    "# save the corresponding dmass signal\n",
    "outdir = '../output/test/train_cat/y3/'\n",
    "os.makedirs(outdir, exist_ok=True)\n",
    "esutil.io.write( outdir+'dmass_signal.fits', dmass_signal, overwrite=True)"
   ]
  },
  {
   "cell_type": "code",
   "execution_count": null,
   "id": "05b0cd89-01f0-4416-9c4d-ab8646e27076",
   "metadata": {},
   "outputs": [
    {
     "name": "stdout",
     "output_type": "stream",
     "text": [
      "2\n",
      "--Return--\n",
      "None\n",
      "> \u001b[0;32m<ipython-input-13-6303d079ef40>\u001b[0m(18)\u001b[0;36m<module>\u001b[0;34m()\u001b[0m\n",
      "\u001b[0;32m     16 \u001b[0;31m\u001b[0mprint\u001b[0m\u001b[0;34m(\u001b[0m\u001b[0mcount\u001b[0m\u001b[0;34m)\u001b[0m\u001b[0;34m\u001b[0m\u001b[0m\n",
      "\u001b[0m\u001b[0;32m     17 \u001b[0;31m\u001b[0;34m\u001b[0m\u001b[0m\n",
      "\u001b[0m\u001b[0;32m---> 18 \u001b[0;31m\u001b[0mbreakpoint\u001b[0m\u001b[0;34m(\u001b[0m\u001b[0;34m)\u001b[0m\u001b[0;34m\u001b[0m\u001b[0m\n",
      "\u001b[0m\u001b[0;32m     19 \u001b[0;31m\u001b[0;31m#collections counter --\u001b[0m\u001b[0;34m\u001b[0m\u001b[0;34m\u001b[0m\u001b[0m\n",
      "\u001b[0m\u001b[0;32m     20 \u001b[0;31m\u001b[0;32mfor\u001b[0m \u001b[0mx\u001b[0m \u001b[0;32min\u001b[0m \u001b[0mrange\u001b[0m\u001b[0;34m(\u001b[0m\u001b[0mlen\u001b[0m\u001b[0;34m(\u001b[0m\u001b[0mdmass_chron\u001b[0m\u001b[0;34m[\u001b[0m\u001b[0;34m'HPIX_4096'\u001b[0m\u001b[0;34m]\u001b[0m\u001b[0;34m)\u001b[0m\u001b[0;34m)\u001b[0m\u001b[0;34m:\u001b[0m\u001b[0;34m\u001b[0m\u001b[0m\n",
      "\u001b[0m\n"
     ]
    },
    {
     "name": "stdin",
     "output_type": "stream",
     "text": [
      "ipdb>  l\n"
     ]
    },
    {
     "name": "stdout",
     "output_type": "stream",
     "text": [
      "\u001b[1;32m     13 \u001b[0m\u001b[0;34m\u001b[0m\u001b[0m\n",
      "\u001b[1;32m     14 \u001b[0m\u001b[0;31m#check:\u001b[0m\u001b[0;34m\u001b[0m\u001b[0;34m\u001b[0m\u001b[0m\n",
      "\u001b[1;32m     15 \u001b[0m\u001b[0mcount\u001b[0m \u001b[0;34m=\u001b[0m \u001b[0marr\u001b[0m\u001b[0;34m[\u001b[0m\u001b[0marr\u001b[0m\u001b[0;34m==\u001b[0m\u001b[0mdmass_chron\u001b[0m\u001b[0;34m[\u001b[0m\u001b[0;34m'HPIX_4096'\u001b[0m\u001b[0;34m]\u001b[0m\u001b[0;34m[\u001b[0m\u001b[0;36m0\u001b[0m\u001b[0;34m]\u001b[0m\u001b[0;34m]\u001b[0m\u001b[0;34m.\u001b[0m\u001b[0mshape\u001b[0m\u001b[0;34m[\u001b[0m\u001b[0;36m0\u001b[0m\u001b[0;34m]\u001b[0m\u001b[0;34m\u001b[0m\u001b[0m\n",
      "\u001b[1;32m     16 \u001b[0m\u001b[0mprint\u001b[0m\u001b[0;34m(\u001b[0m\u001b[0mcount\u001b[0m\u001b[0;34m)\u001b[0m\u001b[0;34m\u001b[0m\u001b[0m\n",
      "\u001b[1;32m     17 \u001b[0m\u001b[0;34m\u001b[0m\u001b[0m\n",
      "\u001b[0;32m---> 18 \u001b[0;31m\u001b[0mbreakpoint\u001b[0m\u001b[0;34m(\u001b[0m\u001b[0;34m)\u001b[0m\u001b[0;34m\u001b[0m\u001b[0m\n",
      "\u001b[0m\u001b[1;32m     19 \u001b[0m\u001b[0;31m#collections counter --\u001b[0m\u001b[0;34m\u001b[0m\u001b[0;34m\u001b[0m\u001b[0m\n",
      "\u001b[1;32m     20 \u001b[0m\u001b[0;32mfor\u001b[0m \u001b[0mx\u001b[0m \u001b[0;32min\u001b[0m \u001b[0mrange\u001b[0m\u001b[0;34m(\u001b[0m\u001b[0mlen\u001b[0m\u001b[0;34m(\u001b[0m\u001b[0mdmass_chron\u001b[0m\u001b[0;34m[\u001b[0m\u001b[0;34m'HPIX_4096'\u001b[0m\u001b[0;34m]\u001b[0m\u001b[0;34m)\u001b[0m\u001b[0;34m)\u001b[0m\u001b[0;34m:\u001b[0m\u001b[0;34m\u001b[0m\u001b[0m\n",
      "\u001b[1;32m     21 \u001b[0m    \u001b[0mvalue\u001b[0m \u001b[0;34m=\u001b[0m \u001b[0mdmass_chron\u001b[0m\u001b[0;34m[\u001b[0m\u001b[0;34m'HPIX_4096'\u001b[0m\u001b[0;34m]\u001b[0m\u001b[0;34m[\u001b[0m\u001b[0mx\u001b[0m\u001b[0;34m]\u001b[0m\u001b[0;34m\u001b[0m\u001b[0m\n",
      "\u001b[1;32m     22 \u001b[0m    \u001b[0;32mif\u001b[0m \u001b[0mvalue\u001b[0m \u001b[0;34m!=\u001b[0m \u001b[0mvalue_last\u001b[0m\u001b[0;34m:\u001b[0m\u001b[0;34m\u001b[0m\u001b[0m\n",
      "\u001b[1;32m     23 \u001b[0m        \u001b[0mcount\u001b[0m \u001b[0;34m=\u001b[0m \u001b[0marr\u001b[0m\u001b[0;34m[\u001b[0m\u001b[0marr\u001b[0m\u001b[0;34m==\u001b[0m\u001b[0mvalue\u001b[0m\u001b[0;34m]\u001b[0m\u001b[0;34m.\u001b[0m\u001b[0mshape\u001b[0m\u001b[0;34m[\u001b[0m\u001b[0;36m0\u001b[0m\u001b[0;34m]\u001b[0m\u001b[0;34m\u001b[0m\u001b[0m\n",
      "\n"
     ]
    },
    {
     "name": "stdin",
     "output_type": "stream",
     "text": [
      "ipdb>  n\n"
     ]
    },
    {
     "name": "stdout",
     "output_type": "stream",
     "text": [
      "\u001b[0;31m    [... skipped 1 hidden frame]\u001b[0m\n",
      "\n",
      "> \u001b[0;32m/users/PCON0003/warner785/.conda/envs/DES_env/lib/python3.7/site-packages/IPython/core/interactiveshell.py\u001b[0m(3346)\u001b[0;36mrun_code\u001b[0;34m()\u001b[0m\n",
      "\u001b[0;32m   3344 \u001b[0;31m            \u001b[0;32mfinally\u001b[0m\u001b[0;34m:\u001b[0m\u001b[0;34m\u001b[0m\u001b[0m\n",
      "\u001b[0m\u001b[0;32m   3345 \u001b[0;31m                \u001b[0;31m# Reset our crash handler in place\u001b[0m\u001b[0;34m\u001b[0m\u001b[0;34m\u001b[0m\u001b[0m\n",
      "\u001b[0m\u001b[0;32m-> 3346 \u001b[0;31m                \u001b[0msys\u001b[0m\u001b[0;34m.\u001b[0m\u001b[0mexcepthook\u001b[0m \u001b[0;34m=\u001b[0m \u001b[0mold_excepthook\u001b[0m\u001b[0;34m\u001b[0m\u001b[0m\n",
      "\u001b[0m\u001b[0;32m   3347 \u001b[0;31m        \u001b[0;32mexcept\u001b[0m \u001b[0mSystemExit\u001b[0m \u001b[0;32mas\u001b[0m \u001b[0me\u001b[0m\u001b[0;34m:\u001b[0m\u001b[0;34m\u001b[0m\u001b[0m\n",
      "\u001b[0m\u001b[0;32m   3348 \u001b[0;31m            \u001b[0;32mif\u001b[0m \u001b[0mresult\u001b[0m \u001b[0;32mis\u001b[0m \u001b[0;32mnot\u001b[0m \u001b[0;32mNone\u001b[0m\u001b[0;34m:\u001b[0m\u001b[0;34m\u001b[0m\u001b[0m\n",
      "\u001b[0m\n"
     ]
    },
    {
     "name": "stdin",
     "output_type": "stream",
     "text": [
      "ipdb>  c\n"
     ]
    }
   ],
   "source": [
    "# notes\n",
    "# number of galaxies in each pixel:\n",
    "\n",
    "# dmass catalog turned into healpix map\n",
    "# counting number of galaxies in each healpix pixel -- some numpy?\n",
    "# dividing healpix pixel area --- corresponding area to 4096 resolution -- to get number density (plus mask -- later) FRACDET\n",
    "\n",
    "# 1) galaxy number counts and area for each healpix pixel -- match healpix with area map?\n",
    "\n",
    "dmass_counts = []\n",
    "dmass_healpix = []\n",
    "value_last = 0\n",
    "arr = dmass_chron['HPIX_4096']\n",
    "\n",
    "#check:\n",
    "count = arr[arr==dmass_chron['HPIX_4096'][0]].shape[0]\n",
    "print(count)\n",
    "\n",
    "breakpoint()\n",
    "#collections counter -- \n",
    "for x in range(len(dmass_chron['HPIX_4096'])):\n",
    "    value = dmass_chron['HPIX_4096'][x]\n",
    "    if value != value_last:\n",
    "        count = arr[arr==value].shape[0]\n",
    "    dmass_counts.append(count)\n",
    "    dmass_healpix.append(value)\n",
    "\n",
    "print(dmass_counts)\n",
    "print(dmass_healpix)"
   ]
  },
  {
   "cell_type": "code",
   "execution_count": null,
   "id": "3d5b4b27-7e05-4404-b447-3fb2798a7a5b",
   "metadata": {},
   "outputs": [],
   "source": [
    "# not run\n",
    "# save the dmass counts and healpix arrays\n",
    "outdir = '../output/test/train_cat/y3/'\n",
    "os.makedirs(outdir, exist_ok=True)\n",
    "esutil.io.write( outdir+'dmass_counts.fits', dmass_counts, overwrite=True)\n",
    "\n",
    "outdir = '../output/test/train_cat/y3/'\n",
    "os.makedirs(outdir, exist_ok=True)\n",
    "esutil.io.write( outdir+'dmass_healpix.fits', dmass_healpix, overwrite=True)"
   ]
  },
  {
   "cell_type": "code",
   "execution_count": 13,
   "id": "03509439-8e74-4d87-98a9-cf6191898a14",
   "metadata": {},
   "outputs": [
    {
     "ename": "NameError",
     "evalue": "name 'dmass_healpix' is not defined",
     "output_type": "error",
     "traceback": [
      "\u001b[0;31m---------------------------------------------------------------------------\u001b[0m",
      "\u001b[0;31mNameError\u001b[0m                                 Traceback (most recent call last)",
      "\u001b[0;32m<ipython-input-13-5a51062ca799>\u001b[0m in \u001b[0;36m<module>\u001b[0;34m\u001b[0m\n\u001b[1;32m      1\u001b[0m \u001b[0;31m# 2) match healpix map with systematic maps (using same method as above)\u001b[0m\u001b[0;34m\u001b[0m\u001b[0;34m\u001b[0m\u001b[0m\n\u001b[1;32m      2\u001b[0m \u001b[0;34m\u001b[0m\u001b[0m\n\u001b[0;32m----> 3\u001b[0;31m \u001b[0mdim_mask\u001b[0m \u001b[0;34m=\u001b[0m \u001b[0mnp\u001b[0m\u001b[0;34m.\u001b[0m\u001b[0min1d\u001b[0m\u001b[0;34m(\u001b[0m\u001b[0msysMap\u001b[0m\u001b[0;34m[\u001b[0m\u001b[0;34m'PIXEL'\u001b[0m\u001b[0;34m]\u001b[0m\u001b[0;34m,\u001b[0m \u001b[0mdmass_healpix\u001b[0m\u001b[0;34m,\u001b[0m \u001b[0massume_unique\u001b[0m\u001b[0;34m=\u001b[0m\u001b[0;32mFalse\u001b[0m\u001b[0;34m,\u001b[0m \u001b[0minvert\u001b[0m\u001b[0;34m=\u001b[0m\u001b[0;32mFalse\u001b[0m\u001b[0;34m)\u001b[0m\u001b[0;34m\u001b[0m\u001b[0m\n\u001b[0m\u001b[1;32m      4\u001b[0m \u001b[0;34m\u001b[0m\u001b[0m\n\u001b[1;32m      5\u001b[0m \u001b[0;31m#print(dim_mask)\u001b[0m\u001b[0;34m\u001b[0m\u001b[0;34m\u001b[0m\u001b[0m\n",
      "\u001b[0;31mNameError\u001b[0m: name 'dmass_healpix' is not defined"
     ]
    }
   ],
   "source": [
    "# 2) match healpix map with systematic maps (using same method as above)\n",
    "\n",
    "dim_mask = np.in1d(sysMap['PIXEL'], dmass_healpix, assume_unique=False, invert=False)\n",
    "                    \n",
    "#print(dim_mask)\n",
    "sys_pix = sysMap['PIXEL'][dim_mask]\n",
    "print(sys_pix)"
   ]
  },
  {
   "cell_type": "code",
   "execution_count": null,
   "id": "ec8644bf-434d-4ca3-8c41-e4c11cb3b426",
   "metadata": {},
   "outputs": [],
   "source": [
    "# 3) array with: healpix pixel value, galaxy counts, area --- binned in signal histogram\n",
    "# for all signal bins : total number counts in healpix pixels / totsl area of healpix pixels used in same bin --- number density\n",
    "import matplotlib.pyplot as plt\n",
    "\n",
    "# area: 6.24178e-08 square degrees ---- from github (without masking bad regions)\n",
    "\n",
    "minimum = np.min(sysMap['SIGNAL'][dim_mask]) #FWHM signal (for g filter)\n",
    "maximum = np.max(sysMap['SIGNAL'][dim_mask])\n",
    "\n",
    "print(minimum)\n",
    "print(maximum)\n",
    "\n",
    "pbin = np.linspace(minimum, maximum, 13)\n",
    "pcenter = pbin[:-1] + 0.025\n",
    "\n",
    "#another option: step through min max of pbin, bolean of pixel falls within, take average\n",
    "\n",
    "N, _ = np.histogram(dmass_counts, bins=pbin)\n",
    "fracerr = 1/np.sqrt(N) #1 / sqrt(number of cmass galaxies in each bin)\n",
    "\n",
    "# change to number density: divide by area\n",
    "fig, ax = plt.subplots()\n",
    "ax.errorbar( pcenter, number_density, yerr=fracerr)\n",
    "#ax.legend(chi2_reduced)\n",
    "plt.title('Systematic Test')\n",
    "fig.savefig('SystematicTest1.pdf')\n",
    "\n",
    "# do the same with randoms\n",
    "print(random_val.dtype.names)"
   ]
  },
  {
   "cell_type": "code",
   "execution_count": null,
   "id": "637464c8-1553-4ecd-8dd9-56b6b66fd8b1",
   "metadata": {},
   "outputs": [],
   "source": [
    "# take all objects in each bin of systematic value"
   ]
  },
  {
   "cell_type": "code",
   "execution_count": null,
   "id": "1ed3565b-14ad-45c6-b374-a5775fd87923",
   "metadata": {},
   "outputs": [],
   "source": [
    "#rsync systematics:\n",
    "# rsync -r warner785@pitzer.osc.edu:/fs/scratch/PCON0003/warner785/bwarner/ ."
   ]
  }
 ],
 "metadata": {
  "kernelspec": {
   "display_name": "Python (DES_env)",
   "language": "python",
   "name": "des_env"
  },
  "language_info": {
   "codemirror_mode": {
    "name": "ipython",
    "version": 3
   },
   "file_extension": ".py",
   "mimetype": "text/x-python",
   "name": "python",
   "nbconvert_exporter": "python",
   "pygments_lexer": "ipython3",
   "version": "3.7.0"
  }
 },
 "nbformat": 4,
 "nbformat_minor": 5
}
