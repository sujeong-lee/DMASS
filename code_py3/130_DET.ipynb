{
 "cells": [
  {
   "cell_type": "code",
   "execution_count": 1,
   "id": "09db975e-bd90-4153-9220-70563f486628",
   "metadata": {},
   "outputs": [
    {
     "name": "stderr",
     "output_type": "stream",
     "text": [
      "In /users/PCON0003/warner785/.conda/envs/DES_env/lib/python3.7/site-packages/matplotlib/mpl-data/stylelib/_classic_test.mplstyle: \n",
      "The savefig.frameon rcparam was deprecated in Matplotlib 3.1 and will be removed in 3.3.\n",
      "In /users/PCON0003/warner785/.conda/envs/DES_env/lib/python3.7/site-packages/matplotlib/mpl-data/stylelib/_classic_test.mplstyle: \n",
      "The verbose.level rcparam was deprecated in Matplotlib 3.1 and will be removed in 3.3.\n",
      "In /users/PCON0003/warner785/.conda/envs/DES_env/lib/python3.7/site-packages/matplotlib/mpl-data/stylelib/_classic_test.mplstyle: \n",
      "The verbose.fileo rcparam was deprecated in Matplotlib 3.1 and will be removed in 3.3.\n"
     ]
    }
   ],
   "source": [
    "#Choosing training/validation for Y3\n",
    "\n",
    "#50/50 : start with 150 deg^2, 250 deg^2, 350 deg^2 – converge on limit for size\n",
    "#*Random selection of parts of 624deg^2 to show invariance or not\n",
    "#**reserve part of overlap region for science**\n",
    "\n",
    "import os, sys\n",
    "import esutil\n",
    "import healpy as hp\n",
    "import numpy as np\n",
    "import fitsio\n",
    "\n",
    "%matplotlib inline\n",
    "\n",
    "%load_ext autoreload\n",
    "%autoreload 2\n",
    "\n",
    "#for only galaxies: EXTENDED_CLASS_MASH_SOF = 3 apply this cut (this is the same as Y1 MODEST cut)"
   ]
  },
  {
   "cell_type": "code",
   "execution_count": 2,
   "id": "74bed904-a182-4108-a920-ebf16a3fd77c",
   "metadata": {},
   "outputs": [
    {
     "name": "stderr",
     "output_type": "stream",
     "text": [
      "WARNING: AstroMLDeprecationWarning: 'decorators' has been moved to 'astroML.utils' and will be removed from the main namespace in the future. [astroML.decorators]\n"
     ]
    }
   ],
   "source": [
    "sys.path.append('../')\n",
    "from xd import *\n",
    "from run_DMASS import *\n",
    "from utils import *\n",
    "import healpy as hp\n",
    "from systematics import *\n",
    "from cmass_modules import io"
   ]
  },
  {
   "cell_type": "code",
   "execution_count": 3,
   "id": "605c2e5a-014b-4af0-b9d0-3e4941064b45",
   "metadata": {},
   "outputs": [
    {
     "name": "stdout",
     "output_type": "stream",
     "text": [
      "/users/PCON0003/warner785/DMASS_XDGMM/code_py3\n"
     ]
    }
   ],
   "source": [
    "os.chdir('../../DMASS_XDGMM/code_py3/')\n",
    "print(os.getcwd())"
   ]
  },
  {
   "cell_type": "code",
   "execution_count": 4,
   "id": "a9ec351e-2799-491b-aed8-44e8f6ecee91",
   "metadata": {},
   "outputs": [],
   "source": [
    "from xdgmm import XDGMM as XDGMM_Holoien"
   ]
  },
  {
   "cell_type": "code",
   "execution_count": 5,
   "id": "3547ee02-892b-4b13-b7e1-b9686ef94be8",
   "metadata": {},
   "outputs": [],
   "source": [
    "def _FindOptimalN_with_err( N, Xdata, Xcov, pickleFileName = None, suffix = None):\n",
    "    #from sklearn.mixture import GMM\n",
    "    #data, _ = mixing_color(data, suffix = suffix)\n",
    "    @pickle_results( pickleFileName )\n",
    "    def compute_GMM( N, covariance_type='full', n_iter=1000):\n",
    "        models = [None for n in N]\n",
    "        for i in range(len(N)):\n",
    "            sys.stdout.write(\"\\r\" + 'Finding optimal number of cluster : {:0.0f} % '\\\n",
    "                             .format(i * 1./len(N) * 100.))\n",
    "            sys.stdout.flush()\n",
    "            models[i] = GaussianMixture(n_components=N[i], max_iter=n_iter,\n",
    "                            covariance_type=covariance_type)\n",
    "            models[i].fit(Xdata, Xcov)\n",
    "        return models\n",
    "    \n",
    "    models = compute_GMM(N)\n",
    "    AIC = [m.aic(Xdata) for m in models]\n",
    "    BIC = [m.bic(Xdata) for m in models]\n",
    "    i_best = np.argmin(BIC)\n",
    "    gmm_best = models[i_best]\n",
    "    sys.stdout.write(\"\\r\" + 'Finding optimal number of cluster : {:0.0f} % '\\\n",
    "                     .format(100))\n",
    "    print(\"\\nbest fit converged:\", gmm_best.converged_, end=' ')\n",
    "    print(\" n_components =  %i\" % N[i_best])\n",
    "    return N[i_best], AIC, BIC\n",
    "\n",
    "def XDnew_fitting_X( X = None, Xcov=None, \n",
    "        FileName = None, \n",
    "        #init_params = None, \n",
    "        #suffix='', \n",
    "        #mag = ['MAG_MODEL', 'MAG_DETMODEL'],\n",
    "        #err = [ 'MAGERR_MODEL','MAGERR_DETMODEL'],\n",
    "        #filter = ['G', 'R', 'I'],\n",
    "        n_cl = None, n_iter = 500, tol=1E-5, method='Bovy', verbose=False ):\n",
    "\n",
    "    \n",
    "\n",
    "    try: \n",
    "        xdgmm_obj = XDGMM_Holoien(filename=FileName) \n",
    "        print ('Using precomputed results from ', FileName)\n",
    "        return xdgmm_obj\n",
    "    except FileNotFoundError: pass\n",
    "    \n",
    "    if X is None:\n",
    "        # calling pre-computed model\n",
    "        xdgmm_obj = XDGMM_Holoien(filename=FileName) \n",
    "        print ('Using precomputed results from ', FileName)\n",
    "        return xdgmm_obj\n",
    "\n",
    "    else: \n",
    "        if n_cl == None : \n",
    "            param_range=np.arange(2, 50, 2)\n",
    "            optimal_n_comp,_,_= _FindOptimalN_with_err( param_range, X, Xcov, \n",
    "            pickleFileName = FileName+'.n_cluster' , suffix = '')\n",
    "            \n",
    "            #xdgmm_test = XDGMM_Holoien( n_iter=n_iter, tol=tol, method=method )\n",
    "            ## Define the range of component numbers, and get ready to compute the BIC for each one:\n",
    "            #param_range = np.arange(2, 50, 2)\n",
    "            ## Loop over component numbers, fitting XDGMM model and computing the BIC:\n",
    "            #bic, optimal_n_comp, lowest_bic = xdgmm_test.bic_test(X, Xcov, param_range)\n",
    "            ##n_cl = optimal_n_comp[np.argmin(bic)]\n",
    "        else: optimal_n_comp = n_cl\n",
    "\n",
    "        #import time\n",
    "        # fitting\n",
    "        #initiated class\n",
    "        xdgmm_obj = XDGMM_Holoien( n_components=optimal_n_comp, n_iter=n_iter, tol=tol, method=method )\n",
    "        #xdgmm.n_components = optimal_n_comp\n",
    "        print ('n_components=', optimal_n_comp)\n",
    "        print ('fitting started. This will take for a while.')\n",
    "#        t1 = time.time()\n",
    "        xdgmm_obj = xdgmm_obj.fit(X, Xcov)\n",
    "        #t2 = time.time()\n",
    "        print ('fitting finished')\n",
    "        \n",
    "        #t3 = time.time()\n",
    "        print ('saving xdgmm object to.. ', FileName)\n",
    "        xdgmm_obj.save_model(FileName)\n",
    "        print ('file saved')\n",
    "        #print ('saving obj. time:', (t3-t2)%60,'s')\n",
    "        \n",
    "        #t4 = time.time()\n",
    "        xdgmm_obj = XDGMM_Holoien(filename=FileName) \n",
    "        #print ('loading obj. time:', (t4-t3)%60,'s')\n",
    "#        t2 = time.time()\n",
    "#        print ('elapsed time:', (t2-t1)/60.0,'s')\n",
    "        return xdgmm_obj"
   ]
  },
  {
   "cell_type": "code",
   "execution_count": 6,
   "id": "7cdff797-1363-4769-882b-42cf024ab2a4",
   "metadata": {},
   "outputs": [
    {
     "name": "stdout",
     "output_type": "stream",
     "text": [
      "/users/PCON0003/warner785/DMASSY3/code_py3\n"
     ]
    }
   ],
   "source": [
    "os.chdir('../../DMASSY3/code_py3/')\n",
    "print(os.getcwd())"
   ]
  },
  {
   "cell_type": "code",
   "execution_count": 7,
   "id": "bb32385b-2b46-4182-915a-48a6e6cb0e64",
   "metadata": {},
   "outputs": [
    {
     "name": "stdout",
     "output_type": "stream",
     "text": [
      "\n",
      "Calling catalogs >>>\n",
      "Y3_GOLD_2_0_STRIPE82_000125.fits\n",
      "Y3_GOLD_2_0_STRIPE82_000136.fits\n",
      "Y3_GOLD_2_0_STRIPE82_000040.fits\n",
      "Y3_GOLD_2_0_STRIPE82_000015.fits\n",
      "Y3_GOLD_2_0_STRIPE82_000086.fits\n",
      "Y3_GOLD_2_0_STRIPE82_000047.fits\n",
      "Y3_GOLD_2_0_STRIPE82_000108.fits\n",
      "Y3_GOLD_2_0_STRIPE82_000079.fits\n",
      "Y3_GOLD_2_0_STRIPE82_000076.fits\n",
      "Y3_GOLD_2_0_STRIPE82_000057.fits\n",
      "Y3_GOLD_2_0_STRIPE82_000111.fits\n",
      "Y3_GOLD_2_0_STRIPE82_000084.fits\n",
      "Y3_GOLD_2_0_STRIPE82_000088.fits\n",
      "Y3_GOLD_2_0_STRIPE82_000049.fits\n",
      "Y3_GOLD_2_0_STRIPE82_000063.fits\n",
      "Y3_GOLD_2_0_STRIPE82_000070.fits\n",
      "Y3_GOLD_2_0_STRIPE82_000077.fits\n",
      "Y3_GOLD_2_0_STRIPE82_000042.fits\n",
      "Y3_GOLD_2_0_STRIPE82_000118.fits\n",
      "Y3_GOLD_2_0_STRIPE82_000115.fits\n",
      "Y3_GOLD_2_0_STRIPE82_000028.fits\n",
      "Y3_GOLD_2_0_STRIPE82_000140.fits\n",
      "Y3_GOLD_2_0_STRIPE82_000060.fits\n",
      "Y3_GOLD_2_0_STRIPE82_000089.fits\n",
      "Y3_GOLD_2_0_STRIPE82_000143.fits\n",
      "Y3_GOLD_2_0_STRIPE82_000012.fits\n",
      "Y3_GOLD_2_0_STRIPE82_000001.fits\n",
      "Y3_GOLD_2_0_STRIPE82_000045.fits\n",
      "Y3_GOLD_2_0_STRIPE82_000137.fits\n",
      "Y3_GOLD_2_0_STRIPE82_000016.fits\n",
      "Y3_GOLD_2_0_STRIPE82_000126.fits\n",
      "Y3_GOLD_2_0_STRIPE82_000025.fits\n",
      "Y3_GOLD_2_0_STRIPE82_000029.fits\n",
      "Y3_GOLD_2_0_STRIPE82_000151.fits\n",
      "Y3_GOLD_2_0_STRIPE82_000062.fits\n",
      "Y3_GOLD_2_0_STRIPE82_000013.fits\n",
      "Y3_GOLD_2_0_STRIPE82_000064.fits\n",
      "Y3_GOLD_2_0_STRIPE82_000027.fits\n",
      "Y3_GOLD_2_0_STRIPE82_000141.fits\n",
      "Y3_GOLD_2_0_STRIPE82_000112.fits\n",
      "Y3_GOLD_2_0_STRIPE82_000038.fits\n",
      "Y3_GOLD_2_0_STRIPE82_000030.fits\n",
      "Y3_GOLD_2_0_STRIPE82_000102.fits\n",
      "Y3_GOLD_2_0_STRIPE82_000055.fits\n",
      "Y3_GOLD_2_0_STRIPE82_000114.fits\n",
      "Y3_GOLD_2_0_STRIPE82_000048.fits\n",
      "Y3_GOLD_2_0_STRIPE82_000056.fits\n",
      "Y3_GOLD_2_0_STRIPE82_000007.fits\n",
      "Y3_GOLD_2_0_STRIPE82_000138.fits\n",
      "Y3_GOLD_2_0_STRIPE82_000083.fits\n",
      "Y3_GOLD_2_0_STRIPE82_000041.fits\n",
      "Y3_GOLD_2_0_STRIPE82_000002.fits\n",
      "Y3_GOLD_2_0_STRIPE82_000081.fits\n",
      "Y3_GOLD_2_0_STRIPE82_000153.fits\n",
      "Y3_GOLD_2_0_STRIPE82_000020.fits\n",
      "Y3_GOLD_2_0_STRIPE82_000103.fits\n",
      "Y3_GOLD_2_0_STRIPE82_000142.fits\n",
      "Y3_GOLD_2_0_STRIPE82_000082.fits\n",
      "Y3_GOLD_2_0_STRIPE82_000100.fits\n",
      "Y3_GOLD_2_0_STRIPE82_000110.fits\n",
      "Y3_GOLD_2_0_STRIPE82_000014.fits\n",
      "Y3_GOLD_2_0_STRIPE82_000144.fits\n",
      "Y3_GOLD_2_0_STRIPE82_000006.fits\n",
      "Y3_GOLD_2_0_STRIPE82_000008.fits\n",
      "Y3_GOLD_2_0_STRIPE82_000005.fits\n",
      "Y3_GOLD_2_0_STRIPE82_000148.fits\n",
      "Y3_GOLD_2_0_STRIPE82_000124.fits\n",
      "Y3_GOLD_2_0_STRIPE82_000122.fits\n",
      "Y3_GOLD_2_0_STRIPE82_000035.fits\n",
      "Y3_GOLD_2_0_STRIPE82_000072.fits\n",
      "Y3_GOLD_2_0_STRIPE82_000093.fits\n",
      "Y3_GOLD_2_0_STRIPE82_000033.fits\n",
      "Y3_GOLD_2_0_STRIPE82_000132.fits\n",
      "Y3_GOLD_2_0_STRIPE82_000011.fits\n",
      "Y3_GOLD_2_0_STRIPE82_000026.fits\n",
      "Y3_GOLD_2_0_STRIPE82_000131.fits\n",
      "Y3_GOLD_2_0_STRIPE82_000129.fits\n",
      "Y3_GOLD_2_0_STRIPE82_000051.fits\n",
      "Y3_GOLD_2_0_STRIPE82_000104.fits\n",
      "Y3_GOLD_2_0_STRIPE82_000105.fits\n",
      "Y3_GOLD_2_0_STRIPE82_000074.fits\n",
      "Y3_GOLD_2_0_STRIPE82_000121.fits\n",
      "Y3_GOLD_2_0_STRIPE82_000078.fits\n",
      "Y3_GOLD_2_0_STRIPE82_000032.fits\n",
      "Y3_GOLD_2_0_STRIPE82_000097.fits\n",
      "Y3_GOLD_2_0_STRIPE82_000135.fits\n",
      "Y3_GOLD_2_0_STRIPE82_000065.fits\n",
      "Y3_GOLD_2_0_STRIPE82_000094.fits\n",
      "Y3_GOLD_2_0_STRIPE82_000003.fits\n",
      "Y3_GOLD_2_0_STRIPE82_000145.fits\n",
      "Y3_GOLD_2_0_STRIPE82_000034.fits\n",
      "Y3_GOLD_2_0_STRIPE82_000146.fits\n",
      "Y3_GOLD_2_0_STRIPE82_000127.fits\n",
      "Y3_GOLD_2_0_STRIPE82_000128.fits\n",
      "Y3_GOLD_2_0_STRIPE82_000116.fits\n",
      "Y3_GOLD_2_0_STRIPE82_000069.fits\n",
      "Y3_GOLD_2_0_STRIPE82_000152.fits\n",
      "Y3_GOLD_2_0_STRIPE82_000053.fits\n",
      "Y3_GOLD_2_0_STRIPE82_000058.fits\n",
      "Y3_GOLD_2_0_STRIPE82_000010.fits\n",
      "Y3_GOLD_2_0_STRIPE82_000046.fits\n",
      "Y3_GOLD_2_0_STRIPE82_000095.fits\n",
      "Y3_GOLD_2_0_STRIPE82_000073.fits\n",
      "Y3_GOLD_2_0_STRIPE82_000019.fits\n",
      "Y3_GOLD_2_0_STRIPE82_000068.fits\n",
      "Y3_GOLD_2_0_STRIPE82_000036.fits\n",
      "Y3_GOLD_2_0_STRIPE82_000075.fits\n",
      "Y3_GOLD_2_0_STRIPE82_000037.fits\n",
      "Y3_GOLD_2_0_STRIPE82_000098.fits\n",
      "Y3_GOLD_2_0_STRIPE82_000022.fits\n",
      "Y3_GOLD_2_0_STRIPE82_000050.fits\n",
      "Y3_GOLD_2_0_STRIPE82_000018.fits\n",
      "Y3_GOLD_2_0_STRIPE82_000024.fits\n",
      "Y3_GOLD_2_0_STRIPE82_000080.fits\n",
      "Y3_GOLD_2_0_STRIPE82_000071.fits\n",
      "Y3_GOLD_2_0_STRIPE82_000054.fits\n",
      "Y3_GOLD_2_0_STRIPE82_000101.fits\n",
      "Y3_GOLD_2_0_STRIPE82_000150.fits\n",
      "Y3_GOLD_2_0_STRIPE82_000113.fits\n",
      "Y3_GOLD_2_0_STRIPE82_000147.fits\n",
      "Y3_GOLD_2_0_STRIPE82_000009.fits\n",
      "Y3_GOLD_2_0_STRIPE82_000123.fits\n",
      "Y3_GOLD_2_0_STRIPE82_000061.fits\n",
      "Y3_GOLD_2_0_STRIPE82_000004.fits\n",
      "Y3_GOLD_2_0_STRIPE82_000085.fits\n",
      "Y3_GOLD_2_0_STRIPE82_000091.fits\n",
      "Y3_GOLD_2_0_STRIPE82_000130.fits\n",
      "Y3_GOLD_2_0_STRIPE82_000067.fits\n",
      "Y3_GOLD_2_0_STRIPE82_000117.fits\n",
      "Y3_GOLD_2_0_STRIPE82_000017.fits\n",
      "Y3_GOLD_2_0_STRIPE82_000149.fits\n",
      "Y3_GOLD_2_0_STRIPE82_000119.fits\n",
      "Y3_GOLD_2_0_STRIPE82_000052.fits\n",
      "Y3_GOLD_2_0_STRIPE82_000031.fits\n",
      "Y3_GOLD_2_0_STRIPE82_000107.fits\n",
      "Y3_GOLD_2_0_STRIPE82_000023.fits\n",
      "Y3_GOLD_2_0_STRIPE82_000044.fits\n",
      "Y3_GOLD_2_0_STRIPE82_000120.fits\n",
      "Y3_GOLD_2_0_STRIPE82_000090.fits\n",
      "Y3_GOLD_2_0_STRIPE82_000106.fits\n",
      "Y3_GOLD_2_0_STRIPE82_000133.fits\n",
      "Y3_GOLD_2_0_STRIPE82_000066.fits\n",
      "Y3_GOLD_2_0_STRIPE82_000139.fits\n",
      "Y3_GOLD_2_0_STRIPE82_000087.fits\n",
      "Y3_GOLD_2_0_STRIPE82_000043.fits\n",
      "Y3_GOLD_2_0_STRIPE82_000039.fits\n",
      "Y3_GOLD_2_0_STRIPE82_000099.fits\n",
      "Y3_GOLD_2_0_STRIPE82_000021.fits\n",
      "Y3_GOLD_2_0_STRIPE82_000092.fits\n",
      "Y3_GOLD_2_0_STRIPE82_000096.fits\n",
      "Y3_GOLD_2_0_STRIPE82_000059.fits\n",
      "Y3_GOLD_2_0_STRIPE82_000109.fits\n",
      "Y3_GOLD_2_0_STRIPE82_000134.fits\n",
      "reading 1/153 /fs/scratch/PCON0003/warner785/bwarner/Y3_GOLD_2_0_STRIPE82_000125.fits\n",
      "reading 2/153 /fs/scratch/PCON0003/warner785/bwarner/Y3_GOLD_2_0_STRIPE82_000136.fits\n",
      "reading 3/153 /fs/scratch/PCON0003/warner785/bwarner/Y3_GOLD_2_0_STRIPE82_000040.fits\n",
      "reading 4/153 /fs/scratch/PCON0003/warner785/bwarner/Y3_GOLD_2_0_STRIPE82_000015.fits\n",
      "reading 5/153 /fs/scratch/PCON0003/warner785/bwarner/Y3_GOLD_2_0_STRIPE82_000086.fits\n",
      "reading 6/153 /fs/scratch/PCON0003/warner785/bwarner/Y3_GOLD_2_0_STRIPE82_000047.fits\n",
      "reading 7/153 /fs/scratch/PCON0003/warner785/bwarner/Y3_GOLD_2_0_STRIPE82_000108.fits\n",
      "reading 8/153 /fs/scratch/PCON0003/warner785/bwarner/Y3_GOLD_2_0_STRIPE82_000079.fits\n",
      "reading 9/153 /fs/scratch/PCON0003/warner785/bwarner/Y3_GOLD_2_0_STRIPE82_000076.fits\n",
      "reading 10/153 /fs/scratch/PCON0003/warner785/bwarner/Y3_GOLD_2_0_STRIPE82_000057.fits\n",
      "reading 11/153 /fs/scratch/PCON0003/warner785/bwarner/Y3_GOLD_2_0_STRIPE82_000111.fits\n",
      "reading 12/153 /fs/scratch/PCON0003/warner785/bwarner/Y3_GOLD_2_0_STRIPE82_000084.fits\n",
      "reading 13/153 /fs/scratch/PCON0003/warner785/bwarner/Y3_GOLD_2_0_STRIPE82_000088.fits\n",
      "reading 14/153 /fs/scratch/PCON0003/warner785/bwarner/Y3_GOLD_2_0_STRIPE82_000049.fits\n",
      "reading 15/153 /fs/scratch/PCON0003/warner785/bwarner/Y3_GOLD_2_0_STRIPE82_000063.fits\n",
      "reading 16/153 /fs/scratch/PCON0003/warner785/bwarner/Y3_GOLD_2_0_STRIPE82_000070.fits\n",
      "reading 17/153 /fs/scratch/PCON0003/warner785/bwarner/Y3_GOLD_2_0_STRIPE82_000077.fits\n",
      "reading 18/153 /fs/scratch/PCON0003/warner785/bwarner/Y3_GOLD_2_0_STRIPE82_000042.fits\n",
      "reading 19/153 /fs/scratch/PCON0003/warner785/bwarner/Y3_GOLD_2_0_STRIPE82_000118.fits\n",
      "reading 20/153 /fs/scratch/PCON0003/warner785/bwarner/Y3_GOLD_2_0_STRIPE82_000115.fits\n",
      "reading 21/153 /fs/scratch/PCON0003/warner785/bwarner/Y3_GOLD_2_0_STRIPE82_000028.fits\n",
      "reading 22/153 /fs/scratch/PCON0003/warner785/bwarner/Y3_GOLD_2_0_STRIPE82_000140.fits\n",
      "reading 23/153 /fs/scratch/PCON0003/warner785/bwarner/Y3_GOLD_2_0_STRIPE82_000060.fits\n",
      "reading 24/153 /fs/scratch/PCON0003/warner785/bwarner/Y3_GOLD_2_0_STRIPE82_000089.fits\n",
      "reading 25/153 /fs/scratch/PCON0003/warner785/bwarner/Y3_GOLD_2_0_STRIPE82_000143.fits\n",
      "reading 26/153 /fs/scratch/PCON0003/warner785/bwarner/Y3_GOLD_2_0_STRIPE82_000012.fits\n",
      "reading 27/153 /fs/scratch/PCON0003/warner785/bwarner/Y3_GOLD_2_0_STRIPE82_000001.fits\n",
      "reading 28/153 /fs/scratch/PCON0003/warner785/bwarner/Y3_GOLD_2_0_STRIPE82_000045.fits\n",
      "reading 29/153 /fs/scratch/PCON0003/warner785/bwarner/Y3_GOLD_2_0_STRIPE82_000137.fits\n",
      "reading 30/153 /fs/scratch/PCON0003/warner785/bwarner/Y3_GOLD_2_0_STRIPE82_000016.fits\n",
      "reading 31/153 /fs/scratch/PCON0003/warner785/bwarner/Y3_GOLD_2_0_STRIPE82_000126.fits\n",
      "reading 32/153 /fs/scratch/PCON0003/warner785/bwarner/Y3_GOLD_2_0_STRIPE82_000025.fits\n",
      "reading 33/153 /fs/scratch/PCON0003/warner785/bwarner/Y3_GOLD_2_0_STRIPE82_000029.fits\n",
      "reading 34/153 /fs/scratch/PCON0003/warner785/bwarner/Y3_GOLD_2_0_STRIPE82_000151.fits\n",
      "reading 35/153 /fs/scratch/PCON0003/warner785/bwarner/Y3_GOLD_2_0_STRIPE82_000062.fits\n",
      "reading 36/153 /fs/scratch/PCON0003/warner785/bwarner/Y3_GOLD_2_0_STRIPE82_000013.fits\n",
      "reading 37/153 /fs/scratch/PCON0003/warner785/bwarner/Y3_GOLD_2_0_STRIPE82_000064.fits\n",
      "reading 38/153 /fs/scratch/PCON0003/warner785/bwarner/Y3_GOLD_2_0_STRIPE82_000027.fits\n",
      "reading 39/153 /fs/scratch/PCON0003/warner785/bwarner/Y3_GOLD_2_0_STRIPE82_000141.fits\n",
      "reading 40/153 /fs/scratch/PCON0003/warner785/bwarner/Y3_GOLD_2_0_STRIPE82_000112.fits\n",
      "reading 41/153 /fs/scratch/PCON0003/warner785/bwarner/Y3_GOLD_2_0_STRIPE82_000038.fits\n",
      "reading 42/153 /fs/scratch/PCON0003/warner785/bwarner/Y3_GOLD_2_0_STRIPE82_000030.fits\n",
      "reading 43/153 /fs/scratch/PCON0003/warner785/bwarner/Y3_GOLD_2_0_STRIPE82_000102.fits\n",
      "reading 44/153 /fs/scratch/PCON0003/warner785/bwarner/Y3_GOLD_2_0_STRIPE82_000055.fits\n",
      "reading 45/153 /fs/scratch/PCON0003/warner785/bwarner/Y3_GOLD_2_0_STRIPE82_000114.fits\n",
      "reading 46/153 /fs/scratch/PCON0003/warner785/bwarner/Y3_GOLD_2_0_STRIPE82_000048.fits\n",
      "reading 47/153 /fs/scratch/PCON0003/warner785/bwarner/Y3_GOLD_2_0_STRIPE82_000056.fits\n",
      "reading 48/153 /fs/scratch/PCON0003/warner785/bwarner/Y3_GOLD_2_0_STRIPE82_000007.fits\n",
      "reading 49/153 /fs/scratch/PCON0003/warner785/bwarner/Y3_GOLD_2_0_STRIPE82_000138.fits\n",
      "reading 50/153 /fs/scratch/PCON0003/warner785/bwarner/Y3_GOLD_2_0_STRIPE82_000083.fits\n",
      "reading 51/153 /fs/scratch/PCON0003/warner785/bwarner/Y3_GOLD_2_0_STRIPE82_000041.fits\n",
      "reading 52/153 /fs/scratch/PCON0003/warner785/bwarner/Y3_GOLD_2_0_STRIPE82_000002.fits\n",
      "reading 53/153 /fs/scratch/PCON0003/warner785/bwarner/Y3_GOLD_2_0_STRIPE82_000081.fits\n",
      "reading 54/153 /fs/scratch/PCON0003/warner785/bwarner/Y3_GOLD_2_0_STRIPE82_000153.fits\n",
      "reading 55/153 /fs/scratch/PCON0003/warner785/bwarner/Y3_GOLD_2_0_STRIPE82_000020.fits\n",
      "reading 56/153 /fs/scratch/PCON0003/warner785/bwarner/Y3_GOLD_2_0_STRIPE82_000103.fits\n",
      "reading 57/153 /fs/scratch/PCON0003/warner785/bwarner/Y3_GOLD_2_0_STRIPE82_000142.fits\n",
      "reading 58/153 /fs/scratch/PCON0003/warner785/bwarner/Y3_GOLD_2_0_STRIPE82_000082.fits\n",
      "reading 59/153 /fs/scratch/PCON0003/warner785/bwarner/Y3_GOLD_2_0_STRIPE82_000100.fits\n",
      "reading 60/153 /fs/scratch/PCON0003/warner785/bwarner/Y3_GOLD_2_0_STRIPE82_000110.fits\n",
      "reading 61/153 /fs/scratch/PCON0003/warner785/bwarner/Y3_GOLD_2_0_STRIPE82_000014.fits\n",
      "reading 62/153 /fs/scratch/PCON0003/warner785/bwarner/Y3_GOLD_2_0_STRIPE82_000144.fits\n",
      "reading 63/153 /fs/scratch/PCON0003/warner785/bwarner/Y3_GOLD_2_0_STRIPE82_000006.fits\n",
      "reading 64/153 /fs/scratch/PCON0003/warner785/bwarner/Y3_GOLD_2_0_STRIPE82_000008.fits\n",
      "reading 65/153 /fs/scratch/PCON0003/warner785/bwarner/Y3_GOLD_2_0_STRIPE82_000005.fits\n",
      "reading 66/153 /fs/scratch/PCON0003/warner785/bwarner/Y3_GOLD_2_0_STRIPE82_000148.fits\n",
      "reading 67/153 /fs/scratch/PCON0003/warner785/bwarner/Y3_GOLD_2_0_STRIPE82_000124.fits\n",
      "reading 68/153 /fs/scratch/PCON0003/warner785/bwarner/Y3_GOLD_2_0_STRIPE82_000122.fits\n",
      "reading 69/153 /fs/scratch/PCON0003/warner785/bwarner/Y3_GOLD_2_0_STRIPE82_000035.fits\n",
      "reading 70/153 /fs/scratch/PCON0003/warner785/bwarner/Y3_GOLD_2_0_STRIPE82_000072.fits\n",
      "reading 71/153 /fs/scratch/PCON0003/warner785/bwarner/Y3_GOLD_2_0_STRIPE82_000093.fits\n",
      "reading 72/153 /fs/scratch/PCON0003/warner785/bwarner/Y3_GOLD_2_0_STRIPE82_000033.fits\n",
      "reading 73/153 /fs/scratch/PCON0003/warner785/bwarner/Y3_GOLD_2_0_STRIPE82_000132.fits\n",
      "reading 74/153 /fs/scratch/PCON0003/warner785/bwarner/Y3_GOLD_2_0_STRIPE82_000011.fits\n",
      "reading 75/153 /fs/scratch/PCON0003/warner785/bwarner/Y3_GOLD_2_0_STRIPE82_000026.fits\n",
      "reading 76/153 /fs/scratch/PCON0003/warner785/bwarner/Y3_GOLD_2_0_STRIPE82_000131.fits\n",
      "reading 77/153 /fs/scratch/PCON0003/warner785/bwarner/Y3_GOLD_2_0_STRIPE82_000129.fits\n",
      "reading 78/153 /fs/scratch/PCON0003/warner785/bwarner/Y3_GOLD_2_0_STRIPE82_000051.fits\n",
      "reading 79/153 /fs/scratch/PCON0003/warner785/bwarner/Y3_GOLD_2_0_STRIPE82_000104.fits\n",
      "reading 80/153 /fs/scratch/PCON0003/warner785/bwarner/Y3_GOLD_2_0_STRIPE82_000105.fits\n",
      "reading 81/153 /fs/scratch/PCON0003/warner785/bwarner/Y3_GOLD_2_0_STRIPE82_000074.fits\n",
      "reading 82/153 /fs/scratch/PCON0003/warner785/bwarner/Y3_GOLD_2_0_STRIPE82_000121.fits\n",
      "reading 83/153 /fs/scratch/PCON0003/warner785/bwarner/Y3_GOLD_2_0_STRIPE82_000078.fits\n",
      "reading 84/153 /fs/scratch/PCON0003/warner785/bwarner/Y3_GOLD_2_0_STRIPE82_000032.fits\n",
      "reading 85/153 /fs/scratch/PCON0003/warner785/bwarner/Y3_GOLD_2_0_STRIPE82_000097.fits\n",
      "reading 86/153 /fs/scratch/PCON0003/warner785/bwarner/Y3_GOLD_2_0_STRIPE82_000135.fits\n",
      "reading 87/153 /fs/scratch/PCON0003/warner785/bwarner/Y3_GOLD_2_0_STRIPE82_000065.fits\n",
      "reading 88/153 /fs/scratch/PCON0003/warner785/bwarner/Y3_GOLD_2_0_STRIPE82_000094.fits\n",
      "reading 89/153 /fs/scratch/PCON0003/warner785/bwarner/Y3_GOLD_2_0_STRIPE82_000003.fits\n",
      "reading 90/153 /fs/scratch/PCON0003/warner785/bwarner/Y3_GOLD_2_0_STRIPE82_000145.fits\n",
      "reading 91/153 /fs/scratch/PCON0003/warner785/bwarner/Y3_GOLD_2_0_STRIPE82_000034.fits\n",
      "reading 92/153 /fs/scratch/PCON0003/warner785/bwarner/Y3_GOLD_2_0_STRIPE82_000146.fits\n",
      "reading 93/153 /fs/scratch/PCON0003/warner785/bwarner/Y3_GOLD_2_0_STRIPE82_000127.fits\n",
      "reading 94/153 /fs/scratch/PCON0003/warner785/bwarner/Y3_GOLD_2_0_STRIPE82_000128.fits\n",
      "reading 95/153 /fs/scratch/PCON0003/warner785/bwarner/Y3_GOLD_2_0_STRIPE82_000116.fits\n",
      "reading 96/153 /fs/scratch/PCON0003/warner785/bwarner/Y3_GOLD_2_0_STRIPE82_000069.fits\n",
      "reading 97/153 /fs/scratch/PCON0003/warner785/bwarner/Y3_GOLD_2_0_STRIPE82_000152.fits\n",
      "reading 98/153 /fs/scratch/PCON0003/warner785/bwarner/Y3_GOLD_2_0_STRIPE82_000053.fits\n",
      "reading 99/153 /fs/scratch/PCON0003/warner785/bwarner/Y3_GOLD_2_0_STRIPE82_000058.fits\n",
      "reading 100/153 /fs/scratch/PCON0003/warner785/bwarner/Y3_GOLD_2_0_STRIPE82_000010.fits\n",
      "reading 101/153 /fs/scratch/PCON0003/warner785/bwarner/Y3_GOLD_2_0_STRIPE82_000046.fits\n",
      "reading 102/153 /fs/scratch/PCON0003/warner785/bwarner/Y3_GOLD_2_0_STRIPE82_000095.fits\n",
      "reading 103/153 /fs/scratch/PCON0003/warner785/bwarner/Y3_GOLD_2_0_STRIPE82_000073.fits\n",
      "reading 104/153 /fs/scratch/PCON0003/warner785/bwarner/Y3_GOLD_2_0_STRIPE82_000019.fits\n",
      "reading 105/153 /fs/scratch/PCON0003/warner785/bwarner/Y3_GOLD_2_0_STRIPE82_000068.fits\n",
      "reading 106/153 /fs/scratch/PCON0003/warner785/bwarner/Y3_GOLD_2_0_STRIPE82_000036.fits\n",
      "reading 107/153 /fs/scratch/PCON0003/warner785/bwarner/Y3_GOLD_2_0_STRIPE82_000075.fits\n",
      "reading 108/153 /fs/scratch/PCON0003/warner785/bwarner/Y3_GOLD_2_0_STRIPE82_000037.fits\n",
      "reading 109/153 /fs/scratch/PCON0003/warner785/bwarner/Y3_GOLD_2_0_STRIPE82_000098.fits\n",
      "reading 110/153 /fs/scratch/PCON0003/warner785/bwarner/Y3_GOLD_2_0_STRIPE82_000022.fits\n",
      "reading 111/153 /fs/scratch/PCON0003/warner785/bwarner/Y3_GOLD_2_0_STRIPE82_000050.fits\n",
      "reading 112/153 /fs/scratch/PCON0003/warner785/bwarner/Y3_GOLD_2_0_STRIPE82_000018.fits\n",
      "reading 113/153 /fs/scratch/PCON0003/warner785/bwarner/Y3_GOLD_2_0_STRIPE82_000024.fits\n",
      "reading 114/153 /fs/scratch/PCON0003/warner785/bwarner/Y3_GOLD_2_0_STRIPE82_000080.fits\n",
      "reading 115/153 /fs/scratch/PCON0003/warner785/bwarner/Y3_GOLD_2_0_STRIPE82_000071.fits\n",
      "reading 116/153 /fs/scratch/PCON0003/warner785/bwarner/Y3_GOLD_2_0_STRIPE82_000054.fits\n",
      "reading 117/153 /fs/scratch/PCON0003/warner785/bwarner/Y3_GOLD_2_0_STRIPE82_000101.fits\n",
      "reading 118/153 /fs/scratch/PCON0003/warner785/bwarner/Y3_GOLD_2_0_STRIPE82_000150.fits\n",
      "reading 119/153 /fs/scratch/PCON0003/warner785/bwarner/Y3_GOLD_2_0_STRIPE82_000113.fits\n",
      "reading 120/153 /fs/scratch/PCON0003/warner785/bwarner/Y3_GOLD_2_0_STRIPE82_000147.fits\n",
      "reading 121/153 /fs/scratch/PCON0003/warner785/bwarner/Y3_GOLD_2_0_STRIPE82_000009.fits\n",
      "reading 122/153 /fs/scratch/PCON0003/warner785/bwarner/Y3_GOLD_2_0_STRIPE82_000123.fits\n",
      "reading 123/153 /fs/scratch/PCON0003/warner785/bwarner/Y3_GOLD_2_0_STRIPE82_000061.fits\n",
      "reading 124/153 /fs/scratch/PCON0003/warner785/bwarner/Y3_GOLD_2_0_STRIPE82_000004.fits\n",
      "reading 125/153 /fs/scratch/PCON0003/warner785/bwarner/Y3_GOLD_2_0_STRIPE82_000085.fits\n",
      "reading 126/153 /fs/scratch/PCON0003/warner785/bwarner/Y3_GOLD_2_0_STRIPE82_000091.fits\n",
      "reading 127/153 /fs/scratch/PCON0003/warner785/bwarner/Y3_GOLD_2_0_STRIPE82_000130.fits\n",
      "reading 128/153 /fs/scratch/PCON0003/warner785/bwarner/Y3_GOLD_2_0_STRIPE82_000067.fits\n",
      "reading 129/153 /fs/scratch/PCON0003/warner785/bwarner/Y3_GOLD_2_0_STRIPE82_000117.fits\n",
      "reading 130/153 /fs/scratch/PCON0003/warner785/bwarner/Y3_GOLD_2_0_STRIPE82_000017.fits\n",
      "reading 131/153 /fs/scratch/PCON0003/warner785/bwarner/Y3_GOLD_2_0_STRIPE82_000149.fits\n",
      "reading 132/153 /fs/scratch/PCON0003/warner785/bwarner/Y3_GOLD_2_0_STRIPE82_000119.fits\n",
      "reading 133/153 /fs/scratch/PCON0003/warner785/bwarner/Y3_GOLD_2_0_STRIPE82_000052.fits\n",
      "reading 134/153 /fs/scratch/PCON0003/warner785/bwarner/Y3_GOLD_2_0_STRIPE82_000031.fits\n",
      "reading 135/153 /fs/scratch/PCON0003/warner785/bwarner/Y3_GOLD_2_0_STRIPE82_000107.fits\n",
      "reading 136/153 /fs/scratch/PCON0003/warner785/bwarner/Y3_GOLD_2_0_STRIPE82_000023.fits\n",
      "reading 137/153 /fs/scratch/PCON0003/warner785/bwarner/Y3_GOLD_2_0_STRIPE82_000044.fits\n",
      "reading 138/153 /fs/scratch/PCON0003/warner785/bwarner/Y3_GOLD_2_0_STRIPE82_000120.fits\n",
      "reading 139/153 /fs/scratch/PCON0003/warner785/bwarner/Y3_GOLD_2_0_STRIPE82_000090.fits\n",
      "reading 140/153 /fs/scratch/PCON0003/warner785/bwarner/Y3_GOLD_2_0_STRIPE82_000106.fits\n",
      "reading 141/153 /fs/scratch/PCON0003/warner785/bwarner/Y3_GOLD_2_0_STRIPE82_000133.fits\n",
      "reading 142/153 /fs/scratch/PCON0003/warner785/bwarner/Y3_GOLD_2_0_STRIPE82_000066.fits\n",
      "reading 143/153 /fs/scratch/PCON0003/warner785/bwarner/Y3_GOLD_2_0_STRIPE82_000139.fits\n",
      "reading 144/153 /fs/scratch/PCON0003/warner785/bwarner/Y3_GOLD_2_0_STRIPE82_000087.fits\n",
      "reading 145/153 /fs/scratch/PCON0003/warner785/bwarner/Y3_GOLD_2_0_STRIPE82_000043.fits\n",
      "reading 146/153 /fs/scratch/PCON0003/warner785/bwarner/Y3_GOLD_2_0_STRIPE82_000039.fits\n",
      "reading 147/153 /fs/scratch/PCON0003/warner785/bwarner/Y3_GOLD_2_0_STRIPE82_000099.fits\n",
      "reading 148/153 /fs/scratch/PCON0003/warner785/bwarner/Y3_GOLD_2_0_STRIPE82_000021.fits\n",
      "reading 149/153 /fs/scratch/PCON0003/warner785/bwarner/Y3_GOLD_2_0_STRIPE82_000092.fits\n",
      "reading 150/153 /fs/scratch/PCON0003/warner785/bwarner/Y3_GOLD_2_0_STRIPE82_000096.fits\n",
      "reading 151/153 /fs/scratch/PCON0003/warner785/bwarner/Y3_GOLD_2_0_STRIPE82_000059.fits\n",
      "reading 152/153 /fs/scratch/PCON0003/warner785/bwarner/Y3_GOLD_2_0_STRIPE82_000109.fits\n",
      "reading 153/153 /fs/scratch/PCON0003/warner785/bwarner/Y3_GOLD_2_0_STRIPE82_000134.fits\n",
      "6867149\n",
      "5757776\n"
     ]
    }
   ],
   "source": [
    "# call required functions from modules \n",
    "\n",
    "sys.path.append('code_py3/')\n",
    "from cmass_modules import io\n",
    "from utils import matchCatalogsbyPosition, hpHEALPixelToRaDec, HealPixifyCatalogs, spatialcheck\n",
    "from xd import mixing_color, XD_fitting_X, assignCMASSProb, doVisualization_1d\n",
    "from run_DMASS_Y3 import priorCut_test\n",
    "\n",
    "# Calling Y3 GOLD v2.0 (training)\n",
    "# All catalogs are in the 'input_path' directory \n",
    "# The 'SearchAndCallFits' function below loads all \n",
    "# catalogs in the directory including 'input_keyword' in its name\n",
    "#input_path = '/n/des/lee.5922/data/gold_cat_Y3/STRIPE82/feae9705305d4430993687930f1cc3ad/'\n",
    "input_path = '/fs/scratch/PCON0003/warner785/bwarner/'\n",
    "# call only first 9 catalogs for a fast run.\n",
    "# to call all catalogs in the directory, use 'Y3_GOLD' as input_keyword \n",
    "# but that will consume huge memory\n",
    "input_keyword = 'Y3_GOLD_2_0_STRIPE82'  \n",
    "# Columns to call\n",
    "columns =  ['RA', 'DEC', \n",
    "            'HPIX_4096',     # Healpix in ring order, nside=4096\n",
    "            'COADD_OBJECT_ID', \n",
    "            'SOF_CM_MAG_CORRECTED_G', # mag_[griz]\n",
    "            'SOF_CM_MAG_CORRECTED_R',\n",
    "            'SOF_CM_MAG_CORRECTED_I',\n",
    "            'SOF_CM_MAG_CORRECTED_Z',\n",
    "            'SOF_CM_MAG_ERR_G',       # mag error_[griz]\n",
    "            'SOF_CM_MAG_ERR_R',\n",
    "            'SOF_CM_MAG_ERR_I',\n",
    "            'SOF_CM_MAG_ERR_Z', 'EXTENDED_CLASS_MASH_SOF', 'MAG_DETMODEL_G', 'MAG_DETMODEL_R', 'MAG_DETMODEL_I', 'MAG_DETMODEL_Z', \n",
    "            'MAGERR_DETMODEL_G', 'MAGERR_DETMODEL_R', 'MAGERR_DETMODEL_I', 'MAGERR_DETMODEL_Z',\n",
    "            'MOF_CM_MAG_CORRECTED_G', 'MOF_CM_MAG_CORRECTED_R', 'MOF_CM_MAG_CORRECTED_I', 'MOF_CM_MAG_CORRECTED_Z',\n",
    "            'MOF_CM_MAG_ERR_G', 'MOF_CM_MAG_ERR_R', 'MOF_CM_MAG_ERR_I', 'MOF_CM_MAG_ERR_Z']\n",
    "gold_st82 = io.SearchAndCallFits(path = input_path, keyword = input_keyword, columns=columns)\n",
    "\n",
    "# Color/Magnitude cuts to exclude extremely high or low mag/color sources.\n",
    "# 16 < mag_riz < 24, 0 < (r-i) < 1.5, 0 < (g-r) < 2.5\n",
    "# These galaxies are less likeliy to be a CMASS, therefore unnecessary. \n",
    "# We apply these cuts to reduce the sample size to speed up the codes\n",
    "mask_magcut = priorCut_test(gold_st82)\n",
    "gold_st82 = gold_st82[mask_magcut]\n",
    "gold_st82 = gold_st82[(gold_st82['EXTENDED_CLASS_MASH_SOF'] == 3)]\n",
    "\n",
    "def keepGoodRegion(des, hpInd = False, balrog=None):\n",
    "    import healpy as hp\n",
    "    import fitsio\n",
    "    # 25 is the faintest object detected by DES\n",
    "    # objects larger than 25 considered as Noise\n",
    "    \n",
    "    path = '/fs/scratch/PCON0003/warner785/bwarner/'\n",
    "    #LSSGoldmask = fitsio.read(path+'Y1LSSmask_v2_il22_seeil4.0_nside4096ring_redlimcut.fits')\n",
    "    #LSSGoldmask = fitsio.read(path+'Y1LSSmask_v1_il22seeil4.04096ring_redlimcut.fits')\n",
    "    LSSGoldmask = fitsio.read(path+'MASK_Y3LSSBAOSOF_22_3_v2p2.fits')\n",
    "    ringhp = hp.nest2ring(4096, [LSSGoldmask['PIXEL']])\n",
    "    #Y1LSSmask_v1_il22seeil4.04096ring_redlimcut.fits\n",
    "    #frac_cut = LSSGoldmask['FRAC'] > 0.8\n",
    "    #ind_good_ring = LSSGoldmask['PIXEL'][frac_cut]\n",
    "    ind_good_ring = ringhp\n",
    "    \n",
    "    # healpixify the catalog.\n",
    "    nside=4096\n",
    "    # Convert silly ra/dec to silly HP angular coordinates.\n",
    "    phi = des['RA'] * np.pi / 180.0\n",
    "    theta = ( 90.0 - des['DEC'] ) * np.pi/180.0\n",
    "\n",
    "    hpInd = hp.ang2pix(nside,theta,phi,nest=False)\n",
    "    keep = np.in1d(hpInd, ind_good_ring)\n",
    "    des = des[keep]\n",
    "    if hpInd is True:\n",
    "        return ind_good_ring\n",
    "    else:\n",
    "        return des\n",
    "\n",
    "print(gold_st82.size)    \n",
    "gold_st82 = keepGoodRegion(gold_st82)\n",
    "print(gold_st82.size)"
   ]
  },
  {
   "cell_type": "code",
   "execution_count": 8,
   "id": "8913f6f8-6ad4-46b3-93cf-e488f11dec0b",
   "metadata": {},
   "outputs": [
    {
     "name": "stdout",
     "output_type": "stream",
     "text": [
      "total num of train 258884\n",
      "\n",
      "--------------------------------\n",
      " applying DES veto mask to CMASS\n",
      "--------------------------------\n",
      "num of train_sample after des veto 61031\n"
     ]
    }
   ],
   "source": [
    "#this CMASS used for Y1, and Y3 now:\n",
    "\n",
    "import fitsio\n",
    "cmass = esutil.io.read('/fs/scratch/PCON0003/warner785/bwarner/cmass-dr12v4-S-Reid-full.dat.fits')\n",
    "train_sample = esutil.io.read('/fs/scratch/PCON0003/warner785/bwarner/cmass-dr12v4-S-Reid-full.dat.fits')\n",
    "#train_sample = esutil.io.read('/global/cscratch1/sd/bwarner/galaxy_DR11v1_CMASS_South-photoObj.fits.gz')\n",
    "print('total num of train', train_sample.size)\n",
    "print('\\n--------------------------------\\n applying DES veto mask to CMASS\\n--------------------------------')   \n",
    "train_sample = keepGoodRegion(train_sample)\n",
    "\n",
    "#fitsio.write( output_dir+'/cmass_in_st82.fits', train_sample)\n",
    "\n",
    "print('num of train_sample after des veto', train_sample.size)"
   ]
  },
  {
   "cell_type": "code",
   "execution_count": 9,
   "id": "cf0b30d4-80b2-45ee-96b3-7a1fdfd983ad",
   "metadata": {},
   "outputs": [
    {
     "name": "stdout",
     "output_type": "stream",
     "text": [
      "1192126\n"
     ]
    }
   ],
   "source": [
    "# FIGURE 3\n",
    "\n",
    "#clf_cmass = XD_fitting_X( None, None, pickleFileName = '../output/test/fitting/gauss_cmass_testy3.pkl')               \n",
    "#clf_no = XD_fitting_X( None, None, pickleFileName = '../output/test/fitting/gauss_no_testy3.pkl')\n",
    "\n",
    "#call in catalogs\n",
    "# Assigning CMASS probabilities to Gold Y3 in Stripe 82 Training/Testing Region.\n",
    "mag = ['MAG_DETMODEL', 'MAG_DETMODEL']\n",
    "err = ['MAGERR_DETMODEL', 'MAGERR_DETMODEL']\n",
    "filter = ['G', 'R', 'I']\n",
    "\n",
    "mask = (gold_st82['RA']>310) & (gold_st82['RA']<360)\n",
    "mask = mask & (gold_st82['DEC']>-2) & (gold_st82['DEC']<2)\n",
    "gold_st82_train = gold_st82[mask]\n",
    "\n",
    "print(gold_st82_train.size)\n",
    "\n",
    "mg1, mg2, _ = esutil.htm.HTM(10).match(train_sample['RA'], train_sample['DEC'], gold_st82_train['RA'], \\\n",
    "                                         gold_st82_train['DEC'],2./3600, maxmatch=1)\n",
    "cmass_mask_train = np.zeros(gold_st82_train.size, dtype=bool)\n",
    "cmass_mask_train[mg2] = 1\n",
    "clean_cmass_data_des_train, nocmass_train = gold_st82_train[cmass_mask_train], gold_st82_train[~cmass_mask_train]\n",
    "\n",
    "clean_cmass_data_des = clean_cmass_data_des_train\n",
    "\n",
    "cmass_fraction = clean_cmass_data_des.size*1./gold_st82_train.size\n",
    "\n",
    "# Validation regions for DES:\n",
    "#mask1 = (gold_st82['RA']<30)\n",
    "#mask1 = mask1 & (gold_st82['DEC']>-10) & (gold_st82['DEC']<10)\n",
    "#gold_st82_v1 = gold_st82[mask1]\n",
    "\n",
    "mask2 =(gold_st82['RA']>15)&(gold_st82['RA']<41)\n",
    "mask2 = mask2 & (gold_st82['DEC']>-10) & (gold_st82['DEC']<10)\n",
    "gold_st82_v2 = gold_st82[mask2]\n",
    "\n",
    "#mask3 =(gold_st82['RA']>20)&(gold_st82['RA']<50)\n",
    "#mask3 = mask3 & (gold_st82['DEC']>-10) & (gold_st82['DEC']<10)\n",
    "#gold_st82_v3 = gold_st82[mask3]\n",
    "\n",
    "# now:\n",
    "#cmass_train = clean_cmass_data_des_train\n",
    "#cmass_val1 = clean_cmass_data_des[~mask_half]"
   ]
  },
  {
   "cell_type": "code",
   "execution_count": 10,
   "id": "1725bd43-019e-457b-9e9e-7542e48457c5",
   "metadata": {},
   "outputs": [
    {
     "name": "stdout",
     "output_type": "stream",
     "text": [
      "0.01106678320915742\n"
     ]
    }
   ],
   "source": [
    "cmass_fraction_full = clean_cmass_data_des_train.size *1./gold_st82_train.size\n",
    "print(cmass_fraction_full)"
   ]
  },
  {
   "cell_type": "code",
   "execution_count": 11,
   "id": "e2bd0aa0-a91a-4ab5-8b48-5b6bb9af250e",
   "metadata": {},
   "outputs": [
    {
     "name": "stdout",
     "output_type": "stream",
     "text": [
      "235786\n",
      "13193\n"
     ]
    }
   ],
   "source": [
    "import numpy as np\n",
    "nocmass_random_ind = np.random.choice(np.arange(nocmass_train.size), size = int(nocmass_train.size/5))\n",
    "nocmass_random = nocmass_train[nocmass_random_ind] \n",
    "\n",
    "print(nocmass_random.size)\n",
    "print(clean_cmass_data_des_train.size)"
   ]
  },
  {
   "cell_type": "code",
   "execution_count": 12,
   "id": "a8ccb339-586c-434c-b4ff-541f540d16ac",
   "metadata": {},
   "outputs": [],
   "source": [
    "# number of gaussian mixtures\n",
    "# Set None for a initial run. The algorithm automatically finds an optimal number\n",
    "n_gold = None \n",
    "\n",
    "# number of XD iteration. \n",
    "# I set these numbers small for a fast run but generally\n",
    "# should be run until the XD algorithm converges (more than 10000 iterations)\n",
    "n_iter_gold = 10000\n",
    "# tolerance\n",
    "tol = 1E-5\n",
    "\n",
    "# Fitted parameters and covariance will be stored as a pickle\n",
    "outdir = 'output/test/fitting/'\n",
    "os.makedirs(outdir, exist_ok=True)\n",
    "gold_xd_bovy_filename = outdir+'gauss_gold_bovyY3_130DET_unfixed.xdgmm'"
   ]
  },
  {
   "cell_type": "code",
   "execution_count": 13,
   "id": "6bf18fc0-9dbb-4642-8025-1caa7bc0dd49",
   "metadata": {},
   "outputs": [],
   "source": [
    "# Magnitudes and corresponding errors you want to use to train the algorithm. \n",
    "# `mixing_color` automatically constructs [mag g, mag r, color (g-r), color (r-i)] and \n",
    "# its 4x4 covariance matrix from the input magnitudes. \n",
    "# I simply put `SOF_CM_MAG_CORRECTED` magnitudes for now. \n",
    "# If you want to use different combinations of mags and colors, \n",
    "# modify `mixing_color` or build your own function. \n",
    "mag = ['MAG_DETMODEL', 'MAG_DETMODEL']\n",
    "err = ['MAGERR_DETMODEL', 'MAGERR_DETMODEL']\n",
    "filter = ['G', 'R', 'I']\n",
    "\n",
    "# This generates four columns of gold training sample. order : mag r, mag i, (g-r), (r-i)\n",
    "X_gold, X_gold_cov = mixing_color(clean_cmass_data_des_train, \n",
    "                mag = mag, err=err, filter=filter, \n",
    "                no_zband = True )"
   ]
  },
  {
   "cell_type": "code",
   "execution_count": 14,
   "id": "9a3580fa-fe8c-435e-b52a-fca19991ec8b",
   "metadata": {},
   "outputs": [
    {
     "name": "stdout",
     "output_type": "stream",
     "text": [
      "n_components= 8\n",
      "fitting started. This will take for a while.\n"
     ]
    },
    {
     "name": "stderr",
     "output_type": "stream",
     "text": [
      "/users/PCON0003/warner785/.conda/envs/DES_env/lib/python3.7/site-packages/sklearn/mixture/_base.py:282: ConvergenceWarning: Initialization 1 did not converge. Try different init parameters, or increase max_iter, tol or check for degenerate data.\n",
      "  ConvergenceWarning,\n"
     ]
    },
    {
     "name": "stdout",
     "output_type": "stream",
     "text": [
      "fitting finished\n",
      "saving xdgmm object to..  output/test/fitting/gauss_gold_bovyY3_130DET_unfixed.xdgmm\n",
      "file saved\n"
     ]
    }
   ],
   "source": [
    "# Fitting start with Bovy's method\n",
    "clf_gold = XDnew_fitting_X( X_gold, X_gold_cov, FileName = gold_xd_bovy_filename, \n",
    "                    n_cl = 8, n_iter = n_iter_gold, tol = tol, method='Bovy')"
   ]
  },
  {
   "cell_type": "code",
   "execution_count": 15,
   "id": "916be11c-2e97-48e3-b743-ea2cd8d7eece",
   "metadata": {},
   "outputs": [],
   "source": [
    "#Next: noncmass data\n",
    "\n",
    "# number of gaussian mixtures\n",
    "# Set None for a initial run. The algorithm automatically finds an optimal number\n",
    "n_nogold = None \n",
    "\n",
    "# number of XD iteration. \n",
    "# I set these numbers small for a fast run but generally\n",
    "# should be run until the XD algorithm converges (more than 10000 iterations)\n",
    "n_iter_nogold = 15000\n",
    "# tolerance\n",
    "tol = 1E-5\n",
    "\n",
    "# Fitted parameters and covariance will be stored as a pickle\n",
    "outdir = 'output/test/fitting/'\n",
    "os.makedirs(outdir, exist_ok=True)\n",
    "gold_xd_bovy_filename = outdir+'gauss_nogold_bovyY3_130DET_unfixed.xdgmm'"
   ]
  },
  {
   "cell_type": "code",
   "execution_count": 16,
   "id": "1688d88d-1d2c-4302-9119-f52842a38cc8",
   "metadata": {},
   "outputs": [],
   "source": [
    "# Magnitudes and corresponding errors you want to use to train the algorithm. \n",
    "# `mixing_color` automatically constructs [mag g, mag r, color (g-r), color (r-i)] and \n",
    "# its 4x4 covariance matrix from the input magnitudes. \n",
    "# I simply put `SOF_CM_MAG_CORRECTED` magnitudes for now. \n",
    "# If you want to use different combinations of mags and colors, \n",
    "# modify `mixing_color` or build your own function. \n",
    "mag = ['MAG_DETMODEL', 'MAG_DETMODEL']\n",
    "err = ['MAGERR_DETMODEL', 'MAGERR_DETMODEL']\n",
    "filter = ['G', 'R', 'I']\n",
    "\n",
    "# This generates four columns of gold training sample. order : mag r, mag i, (g-r), (r-i)\n",
    "X_nogold, X_nogold_cov = mixing_color(nocmass_random, \n",
    "                mag = mag, err=err, filter=filter, \n",
    "                no_zband = True )"
   ]
  },
  {
   "cell_type": "code",
   "execution_count": 17,
   "id": "09a2f046-4e0a-499d-8527-023e56c29c3f",
   "metadata": {},
   "outputs": [
    {
     "name": "stdout",
     "output_type": "stream",
     "text": [
      "n_components= 46\n",
      "fitting started. This will take for a while.\n"
     ]
    },
    {
     "name": "stderr",
     "output_type": "stream",
     "text": [
      "/users/PCON0003/warner785/.conda/envs/DES_env/lib/python3.7/site-packages/sklearn/mixture/_base.py:282: ConvergenceWarning: Initialization 1 did not converge. Try different init parameters, or increase max_iter, tol or check for degenerate data.\n",
      "  ConvergenceWarning,\n"
     ]
    },
    {
     "name": "stdout",
     "output_type": "stream",
     "text": [
      "fitting finished\n",
      "saving xdgmm object to..  output/test/fitting/gauss_nogold_bovyY3_130DET_unfixed.xdgmm\n",
      "file saved\n"
     ]
    }
   ],
   "source": [
    "# Fitting start with Bovy's method\n",
    "clf_nogold = XDnew_fitting_X( X_nogold, X_nogold_cov, FileName = gold_xd_bovy_filename, \n",
    "                    n_cl = 46 , n_iter = n_iter_gold, tol = tol, method='Bovy')"
   ]
  },
  {
   "cell_type": "code",
   "execution_count": 12,
   "id": "b302f47c-b4ca-4abe-823f-8b5e9f33963f",
   "metadata": {},
   "outputs": [],
   "source": [
    "#load in:\n",
    "clf_dmass = XDGMM_Holoien(filename='output/test/fitting/gauss_gold_bovyY3_130DET_unfixed.xdgmm')\n",
    "clf_nodmass = XDGMM_Holoien(filename='output/test/fitting/gauss_nogold_bovyY3_130DET_unfixed.xdgmm')"
   ]
  },
  {
   "cell_type": "code",
   "execution_count": 13,
   "id": "c7af5b44-b86f-4970-ab2c-196d01e2d492",
   "metadata": {},
   "outputs": [
    {
     "name": "stdout",
     "output_type": "stream",
     "text": [
      "calculate loglikelihood gaussian with multiprocessing module\n",
      "multiprocessing 50 %"
     ]
    },
    {
     "name": "stderr",
     "output_type": "stream",
     "text": [
      "/users/PCON0003/warner785/.conda/envs/DES_env/lib/python3.7/site-packages/astroML/density_estimation/xdeconv.py:130: RuntimeWarning: divide by zero encountered in log\n",
      "  return log_multivariate_gaussian(X, self.mu, T) + np.log(self.alpha)\n"
     ]
    },
    {
     "name": "stdout",
     "output_type": "stream",
     "text": [
      "multiprocessing 54 %"
     ]
    },
    {
     "name": "stderr",
     "output_type": "stream",
     "text": [
      "/users/PCON0003/warner785/.conda/envs/DES_env/lib/python3.7/site-packages/astroML/density_estimation/xdeconv.py:130: RuntimeWarning: divide by zero encountered in log\n",
      "  return log_multivariate_gaussian(X, self.mu, T) + np.log(self.alpha)\n"
     ]
    },
    {
     "name": "stdout",
     "output_type": "stream",
     "text": [
      "multiprocessing 58 %"
     ]
    },
    {
     "name": "stderr",
     "output_type": "stream",
     "text": [
      "/users/PCON0003/warner785/.conda/envs/DES_env/lib/python3.7/site-packages/astroML/density_estimation/xdeconv.py:130: RuntimeWarning: divide by zero encountered in log\n",
      "  return log_multivariate_gaussian(X, self.mu, T) + np.log(self.alpha)\n"
     ]
    },
    {
     "name": "stdout",
     "output_type": "stream",
     "text": [
      "multiprocessing 62 %"
     ]
    },
    {
     "name": "stderr",
     "output_type": "stream",
     "text": [
      "/users/PCON0003/warner785/.conda/envs/DES_env/lib/python3.7/site-packages/astroML/density_estimation/xdeconv.py:130: RuntimeWarning: divide by zero encountered in log\n",
      "  return log_multivariate_gaussian(X, self.mu, T) + np.log(self.alpha)\n",
      "/users/PCON0003/warner785/.conda/envs/DES_env/lib/python3.7/site-packages/astroML/density_estimation/xdeconv.py:130: RuntimeWarning: divide by zero encountered in log\n",
      "  return log_multivariate_gaussian(X, self.mu, T) + np.log(self.alpha)\n"
     ]
    },
    {
     "name": "stdout",
     "output_type": "stream",
     "text": [
      "multiprocessing 71 %"
     ]
    },
    {
     "name": "stderr",
     "output_type": "stream",
     "text": [
      "/users/PCON0003/warner785/.conda/envs/DES_env/lib/python3.7/site-packages/astroML/density_estimation/xdeconv.py:130: RuntimeWarning: divide by zero encountered in log\n",
      "  return log_multivariate_gaussian(X, self.mu, T) + np.log(self.alpha)\n"
     ]
    },
    {
     "name": "stdout",
     "output_type": "stream",
     "text": [
      "multiprocessing 75 %"
     ]
    },
    {
     "name": "stderr",
     "output_type": "stream",
     "text": [
      "/users/PCON0003/warner785/.conda/envs/DES_env/lib/python3.7/site-packages/astroML/density_estimation/xdeconv.py:130: RuntimeWarning: divide by zero encountered in log\n",
      "  return log_multivariate_gaussian(X, self.mu, T) + np.log(self.alpha)\n"
     ]
    },
    {
     "name": "stdout",
     "output_type": "stream",
     "text": [
      "multiprocessing 79 %"
     ]
    },
    {
     "name": "stderr",
     "output_type": "stream",
     "text": [
      "/users/PCON0003/warner785/.conda/envs/DES_env/lib/python3.7/site-packages/astroML/density_estimation/xdeconv.py:130: RuntimeWarning: divide by zero encountered in log\n",
      "  return log_multivariate_gaussian(X, self.mu, T) + np.log(self.alpha)\n"
     ]
    },
    {
     "name": "stdout",
     "output_type": "stream",
     "text": [
      "multiprocessing 83 %"
     ]
    },
    {
     "name": "stderr",
     "output_type": "stream",
     "text": [
      "/users/PCON0003/warner785/.conda/envs/DES_env/lib/python3.7/site-packages/astroML/density_estimation/xdeconv.py:130: RuntimeWarning: divide by zero encountered in log\n",
      "  return log_multivariate_gaussian(X, self.mu, T) + np.log(self.alpha)\n"
     ]
    },
    {
     "name": "stdout",
     "output_type": "stream",
     "text": [
      "multiprocessing 88 %"
     ]
    },
    {
     "name": "stderr",
     "output_type": "stream",
     "text": [
      "/users/PCON0003/warner785/.conda/envs/DES_env/lib/python3.7/site-packages/astroML/density_estimation/xdeconv.py:130: RuntimeWarning: divide by zero encountered in log\n",
      "  return log_multivariate_gaussian(X, self.mu, T) + np.log(self.alpha)\n"
     ]
    },
    {
     "name": "stdout",
     "output_type": "stream",
     "text": [
      "multiprocessing 92 %"
     ]
    },
    {
     "name": "stderr",
     "output_type": "stream",
     "text": [
      "/users/PCON0003/warner785/.conda/envs/DES_env/lib/python3.7/site-packages/astroML/density_estimation/xdeconv.py:130: RuntimeWarning: divide by zero encountered in log\n",
      "  return log_multivariate_gaussian(X, self.mu, T) + np.log(self.alpha)\n"
     ]
    },
    {
     "name": "stdout",
     "output_type": "stream",
     "text": [
      "multiprocessing 96 %"
     ]
    },
    {
     "name": "stderr",
     "output_type": "stream",
     "text": [
      "/users/PCON0003/warner785/.conda/envs/DES_env/lib/python3.7/site-packages/astroML/density_estimation/xdeconv.py:130: RuntimeWarning: divide by zero encountered in log\n",
      "  return log_multivariate_gaussian(X, self.mu, T) + np.log(self.alpha)\n"
     ]
    },
    {
     "name": "stdout",
     "output_type": "stream",
     "text": [
      "multiprocessing 100 % \n",
      "calculate loglikelihood gaussian with multiprocessing module\n",
      "multiprocessing 50 %"
     ]
    },
    {
     "name": "stderr",
     "output_type": "stream",
     "text": [
      "/users/PCON0003/warner785/.conda/envs/DES_env/lib/python3.7/site-packages/astroML/density_estimation/xdeconv.py:130: RuntimeWarning: divide by zero encountered in log\n",
      "  return log_multivariate_gaussian(X, self.mu, T) + np.log(self.alpha)\n"
     ]
    },
    {
     "name": "stdout",
     "output_type": "stream",
     "text": [
      "multiprocessing 54 %"
     ]
    },
    {
     "name": "stderr",
     "output_type": "stream",
     "text": [
      "/users/PCON0003/warner785/.conda/envs/DES_env/lib/python3.7/site-packages/astroML/density_estimation/xdeconv.py:130: RuntimeWarning: divide by zero encountered in log\n",
      "  return log_multivariate_gaussian(X, self.mu, T) + np.log(self.alpha)\n"
     ]
    },
    {
     "name": "stdout",
     "output_type": "stream",
     "text": [
      "multiprocessing 58 %"
     ]
    },
    {
     "name": "stderr",
     "output_type": "stream",
     "text": [
      "/users/PCON0003/warner785/.conda/envs/DES_env/lib/python3.7/site-packages/astroML/density_estimation/xdeconv.py:130: RuntimeWarning: divide by zero encountered in log\n",
      "  return log_multivariate_gaussian(X, self.mu, T) + np.log(self.alpha)\n"
     ]
    },
    {
     "name": "stdout",
     "output_type": "stream",
     "text": [
      "multiprocessing 62 %"
     ]
    },
    {
     "name": "stderr",
     "output_type": "stream",
     "text": [
      "/users/PCON0003/warner785/.conda/envs/DES_env/lib/python3.7/site-packages/astroML/density_estimation/xdeconv.py:130: RuntimeWarning: divide by zero encountered in log\n",
      "  return log_multivariate_gaussian(X, self.mu, T) + np.log(self.alpha)\n"
     ]
    },
    {
     "name": "stdout",
     "output_type": "stream",
     "text": [
      "multiprocessing 67 %"
     ]
    },
    {
     "name": "stderr",
     "output_type": "stream",
     "text": [
      "/users/PCON0003/warner785/.conda/envs/DES_env/lib/python3.7/site-packages/astroML/density_estimation/xdeconv.py:130: RuntimeWarning: divide by zero encountered in log\n",
      "  return log_multivariate_gaussian(X, self.mu, T) + np.log(self.alpha)\n",
      "/users/PCON0003/warner785/.conda/envs/DES_env/lib/python3.7/site-packages/astroML/density_estimation/xdeconv.py:130: RuntimeWarning: divide by zero encountered in log\n",
      "  return log_multivariate_gaussian(X, self.mu, T) + np.log(self.alpha)\n",
      "/users/PCON0003/warner785/.conda/envs/DES_env/lib/python3.7/site-packages/astroML/density_estimation/xdeconv.py:130: RuntimeWarning: divide by zero encountered in log\n",
      "  return log_multivariate_gaussian(X, self.mu, T) + np.log(self.alpha)\n"
     ]
    },
    {
     "name": "stdout",
     "output_type": "stream",
     "text": [
      "multiprocessing 79 %"
     ]
    },
    {
     "name": "stderr",
     "output_type": "stream",
     "text": [
      "/users/PCON0003/warner785/.conda/envs/DES_env/lib/python3.7/site-packages/astroML/density_estimation/xdeconv.py:130: RuntimeWarning: divide by zero encountered in log\n",
      "  return log_multivariate_gaussian(X, self.mu, T) + np.log(self.alpha)\n",
      "/users/PCON0003/warner785/.conda/envs/DES_env/lib/python3.7/site-packages/astroML/density_estimation/xdeconv.py:130: RuntimeWarning: divide by zero encountered in log\n",
      "  return log_multivariate_gaussian(X, self.mu, T) + np.log(self.alpha)\n"
     ]
    },
    {
     "name": "stdout",
     "output_type": "stream",
     "text": [
      "multiprocessing 88 %"
     ]
    },
    {
     "name": "stderr",
     "output_type": "stream",
     "text": [
      "/users/PCON0003/warner785/.conda/envs/DES_env/lib/python3.7/site-packages/astroML/density_estimation/xdeconv.py:130: RuntimeWarning: divide by zero encountered in log\n",
      "  return log_multivariate_gaussian(X, self.mu, T) + np.log(self.alpha)\n"
     ]
    },
    {
     "name": "stdout",
     "output_type": "stream",
     "text": [
      "multiprocessing 92 %"
     ]
    },
    {
     "name": "stderr",
     "output_type": "stream",
     "text": [
      "/users/PCON0003/warner785/.conda/envs/DES_env/lib/python3.7/site-packages/astroML/density_estimation/xdeconv.py:130: RuntimeWarning: divide by zero encountered in log\n",
      "  return log_multivariate_gaussian(X, self.mu, T) + np.log(self.alpha)\n"
     ]
    },
    {
     "name": "stdout",
     "output_type": "stream",
     "text": [
      "multiprocessing 96 %"
     ]
    },
    {
     "name": "stderr",
     "output_type": "stream",
     "text": [
      "/users/PCON0003/warner785/.conda/envs/DES_env/lib/python3.7/site-packages/astroML/density_estimation/xdeconv.py:130: RuntimeWarning: divide by zero encountered in log\n",
      "  return log_multivariate_gaussian(X, self.mu, T) + np.log(self.alpha)\n"
     ]
    },
    {
     "name": "stdout",
     "output_type": "stream",
     "text": [
      "multiprocessing 100 % \n",
      "pbin = [0.   0.05 0.1  0.15 0.2  0.25 0.3  0.35 0.4  0.45 0.5  0.55 0.6  0.65\n",
      " 0.7  0.75 0.8  0.85 0.9  0.95 1.  ]\n",
      "frac =  [0.00117646 0.08743704 0.14162844 0.18358275 0.23225552 0.28391401\n",
      " 0.35040276 0.37740225 0.43942134 0.47550777 0.53210202 0.57530402\n",
      " 0.63454012 0.67800789 0.73561508 0.78846154 0.82933333 0.87252125\n",
      " 0.89672686 0.91653543]\n",
      "diff2_reduced:  0.0003375349557512186\n",
      "size:  20\n",
      "sum of diff2:  0.006750699115024372\n"
     ]
    }
   ],
   "source": [
    "#(Validation 1) Figure 3\n",
    "\n",
    "mag = ['MAG_DETMODEL', 'MAG_DETMODEL']\n",
    "err = ['MAGERR_DETMODEL', 'MAGERR_DETMODEL']\n",
    "filter = ['G', 'R', 'I']\n",
    "\n",
    "mask4 =(gold_st82['RA']>15)&(gold_st82['RA']<41)\n",
    "mask4 = mask4 & (gold_st82['DEC']>-10) & (gold_st82['DEC']<10)\n",
    "gold_st82_v4 = gold_st82[mask4]\n",
    "\n",
    "mg1, mg2, _ = esutil.htm.HTM(10).match(train_sample['RA'], train_sample['DEC'], gold_st82_v4['RA'], \\\n",
    "                                         gold_st82_v4['DEC'],2./3600, maxmatch=1)\n",
    "cmass_mask4 = np.zeros(gold_st82_v4.size, dtype=bool)\n",
    "cmass_mask4[mg2] = 1\n",
    "clean_cmass_data_des_v4, nocmass_v4 = gold_st82_v4[cmass_mask4], gold_st82_v4[~cmass_mask4]\n",
    "\n",
    "clean_dmass_prob4 = assignCMASSProb(clean_cmass_data_des_v4, clf_dmass, clf_nodmass, \n",
    "                     cmass_fraction =cmass_fraction_full\n",
    ", \n",
    "                     mag=mag, err=err, filter=filter ) \n",
    "dmass_st82_real4 = clean_dmass_prob4\n",
    "\n",
    "dmass_st82_val4 = assignCMASSProb(gold_st82_v4, clf_dmass, clf_nodmass, \n",
    "                     cmass_fraction = cmass_fraction_full\n",
    ", \n",
    "                     mag=mag, err=err, filter=filter )\n",
    "\n",
    "\n",
    "pbin = np.linspace(0, 1, 21)\n",
    "pcenter = pbin[:-1] + 0.025\n",
    "N, _ = np.histogram(dmass_st82_real4['CMASS_PROB'], bins=pbin)\n",
    "print('pbin =', pbin)\n",
    "import matplotlib.pyplot as plt\n",
    "#pbin, frac, fracerr = np.genfromtxt('../paper_figure/model_probability.txt', unpack=True)\n",
    "\n",
    "M, _ = np.histogram(dmass_st82_val4['CMASS_PROB'], bins=pbin)\n",
    "\n",
    "frac = N/M\n",
    "print('frac = ', frac)\n",
    "fracerr = 1/np.sqrt(N) #1 / sqrt(number of true cmass galaxies in each bin)\n",
    "#fracerr = (N/M)*np.sqrt((1/N)-(1/M))\n",
    "\n",
    "x1=frac\n",
    "x2=pcenter\n",
    "err=fracerr\n",
    "diff2 = (x1-x2)**2 \n",
    "diff2_reduced = sum(diff2)/diff2.size\n",
    "print(\"diff2_reduced: \",diff2_reduced)\n",
    "print(\"size: \",diff2.size)\n",
    "print(\"sum of diff2: \",sum(diff2))\n",
    "\n",
    "fig, ax = plt.subplots()\n",
    "ax.errorbar( pcenter, frac, yerr=fracerr)\n",
    "ax.plot([0,1], [0,1], ls='--', color='grey')\n",
    "#ax.legend(chi2_reduced)\n",
    "plt.title('Validation Region Check 100%')\n",
    "fig.savefig('DET_Val_new_check.pdf')\n",
    "\n",
    "#describe plot: ***used for model and validation sample-- what is done to create plot"
   ]
  },
  {
   "cell_type": "code",
   "execution_count": 14,
   "id": "8fc5435c-ca15-4433-8fee-cfc06e4f36d3",
   "metadata": {},
   "outputs": [],
   "source": [
    "# color distributions\n",
    "\n",
    "X_sample_dmass = clf_dmass.sample(200000)        # non-cmass model\n",
    "X_sample_nodmass = clf_nodmass.sample(200000)\n",
    "\n",
    "mag = ['MAG_DETMODEL', 'MAG_DETMODEL']\n",
    "err = ['MAGERR_DETMODEL', 'MAGERR_DETMODEL']\n",
    "filter = ['G', 'R', 'I']\n",
    "\n",
    "# This generates four columns of cmass training sample. order : mag r, mag i, (g-r), (r-i)\n",
    "X_cmass_true, X_cmass_cov = mixing_color(clean_cmass_data_des_train, \n",
    "                mag = mag, err=err, filter=filter, \n",
    "                no_zband = True )\n",
    "\n",
    "# This generates four columns of non-cmass training sample. order : mag r, mag i, (g-r), (r-i)\n",
    "X_no_true, X_no_cov = mixing_color(nocmass_train, \n",
    "                mag = mag, err=err, filter=filter, \n",
    "                no_zband = True )"
   ]
  },
  {
   "cell_type": "code",
   "execution_count": 17,
   "id": "d3800bf8-be03-45ca-b5c7-c1424af3bbc8",
   "metadata": {},
   "outputs": [],
   "source": [
    "# Comparison. train vs. randoms from the fitted gaussian mixture model\n",
    "doVisualization_1d( data=[X_cmass_true, X_sample_dmass], \n",
    "                   labels = ['mag r', 'mag i', 'g-r', 'r-i'], \n",
    "                   ranges = [(17,22),(17,22),(0,3),(0.0,2.5)], \n",
    "                   name = ['train sample', 'model sample'], \n",
    "                   weight = [None,None], \n",
    "                   nbins=100, filename = 'DET_cmass.pdf')"
   ]
  },
  {
   "cell_type": "code",
   "execution_count": 20,
   "id": "cb26cd61-6d8c-4a4c-9c80-065146378401",
   "metadata": {},
   "outputs": [],
   "source": [
    "# Comparison. train vs. randoms from the fitted gaussian mixture model\n",
    "doVisualization_1d( data=[X_no_true, X_sample_nodmass], \n",
    "                   labels = ['mag r', 'mag i', 'g-r', 'r-i'], \n",
    "                   ranges = [(17,25),(17,25),(0,3),(0.0,1.5)], \n",
    "                   name = ['train sample', 'model sample'], \n",
    "                   weight = [None,None], \n",
    "                   nbins=100, filename = 'DET_nocmass.pdf')"
   ]
  },
  {
   "cell_type": "code",
   "execution_count": null,
   "id": "16e90cc7-5d1f-4564-8535-5c4b5fa36775",
   "metadata": {},
   "outputs": [],
   "source": []
  }
 ],
 "metadata": {
  "kernelspec": {
   "display_name": "Python (DES_env)",
   "language": "python",
   "name": "des_env"
  },
  "language_info": {
   "codemirror_mode": {
    "name": "ipython",
    "version": 3
   },
   "file_extension": ".py",
   "mimetype": "text/x-python",
   "name": "python",
   "nbconvert_exporter": "python",
   "pygments_lexer": "ipython3",
   "version": "3.7.0"
  }
 },
 "nbformat": 4,
 "nbformat_minor": 5
}
