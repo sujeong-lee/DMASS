{
 "cells": [
  {
   "cell_type": "code",
   "execution_count": 1,
   "id": "b49dd759-0327-4262-8edc-d1f347cda1e1",
   "metadata": {},
   "outputs": [
    {
     "name": "stderr",
     "output_type": "stream",
     "text": [
      "WARNING: AstroMLDeprecationWarning: 'decorators' has been moved to 'astroML.utils' and will be removed from the main namespace in the future. [astroML.decorators]\n",
      "In /users/PCON0003/warner785/.conda/envs/DES_env/lib/python3.7/site-packages/matplotlib/mpl-data/stylelib/_classic_test.mplstyle: \n",
      "The savefig.frameon rcparam was deprecated in Matplotlib 3.1 and will be removed in 3.3.\n",
      "In /users/PCON0003/warner785/.conda/envs/DES_env/lib/python3.7/site-packages/matplotlib/mpl-data/stylelib/_classic_test.mplstyle: \n",
      "The verbose.level rcparam was deprecated in Matplotlib 3.1 and will be removed in 3.3.\n",
      "In /users/PCON0003/warner785/.conda/envs/DES_env/lib/python3.7/site-packages/matplotlib/mpl-data/stylelib/_classic_test.mplstyle: \n",
      "The verbose.fileo rcparam was deprecated in Matplotlib 3.1 and will be removed in 3.3.\n"
     ]
    }
   ],
   "source": [
    "import os, sys\n",
    "sys.path.append('../')\n",
    "from xd import *\n",
    "from run_DMASS_Y3 import *\n",
    "from utils import *\n",
    "import esutil\n",
    "import healpy as hp\n",
    "from systematics import *\n",
    "%matplotlib inline\n",
    "\n",
    "%load_ext autoreload\n",
    "%autoreload 2"
   ]
  },
  {
   "cell_type": "code",
   "execution_count": 2,
   "id": "77aaf4fb-6845-47c2-b6fd-bcbe40607375",
   "metadata": {},
   "outputs": [
    {
     "name": "stdout",
     "output_type": "stream",
     "text": [
      "[('PIXEL', '>i4'), ('SIGNAL', '>f4')]\n"
     ]
    },
    {
     "data": {
      "text/plain": [
       "\"\\nGoldMask_st82 = LSSGoldmask[ LSSGoldmask['DEC'] > -3.0 ]\\n\\nGoldMask_spt = LSSGoldMask[ LSSGoldMask['DEC'] < -3.0 ]\\n#GoldMask_spt = Cuts.SpatialCuts(GoldMask_spt, ra=0, ra2 = 100, dec=-52, dec2 = -48)\\n\\npixarea = hp.nside2pixarea( 4096, degrees = True)\\nsptnpix = GoldMask_spt['PIXEL'].size #hp.get_map_size( GoldMask_spt['PIXEL'] )\\nst82npix =  GoldMask_st82['PIXEL'].size # hp.get_map_size( GoldMask_st82 )\\nSPTMaparea = pixarea * sptnpix\\nST82Maparea = pixarea * st82npix \""
      ]
     },
     "execution_count": 2,
     "metadata": {},
     "output_type": "execute_result"
    }
   ],
   "source": [
    "# Calling Gold mask and calculating map area\n",
    "# calling map \n",
    "\n",
    "path = '/fs/scratch/PCON0003/warner785/bwarner/'\n",
    "##GoldMask = callingEliGoldMask()\n",
    "LSSGoldmask = fitsio.read(path+'MASK_Y3LSSBAOSOF_22_3_v2p2.fits')\n",
    "ringhp = hp.nest2ring(4096, [LSSGoldmask['PIXEL']])\n",
    "ind_good_ring = ringhp\n",
    "\n",
    "print(LSSGoldmask.dtype)\n",
    "##LSSMask = callingOldY1BAOLSSMask()\n",
    "\n",
    "###LSSMask = LSSMask[LSSMask['DEC']>-3.0 ]\n",
    "#GoldMask_st82 = Cuts.SpatialCuts(GoldMask, ra=320, ra2=360, dec=-2, dec2=2)\n",
    "'''\n",
    "GoldMask_st82 = LSSGoldmask[ LSSGoldmask['DEC'] > -3.0 ]\n",
    "\n",
    "GoldMask_spt = LSSGoldMask[ LSSGoldMask['DEC'] < -3.0 ]\n",
    "#GoldMask_spt = Cuts.SpatialCuts(GoldMask_spt, ra=0, ra2 = 100, dec=-52, dec2 = -48)\n",
    "\n",
    "pixarea = hp.nside2pixarea( 4096, degrees = True)\n",
    "sptnpix = GoldMask_spt['PIXEL'].size #hp.get_map_size( GoldMask_spt['PIXEL'] )\n",
    "st82npix =  GoldMask_st82['PIXEL'].size # hp.get_map_size( GoldMask_st82 )\n",
    "SPTMaparea = pixarea * sptnpix\n",
    "ST82Maparea = pixarea * st82npix '''"
   ]
  },
  {
   "cell_type": "code",
   "execution_count": 3,
   "id": "dbefb9b5-881d-48a6-85d1-4b523d133719",
   "metadata": {},
   "outputs": [],
   "source": [
    "rootdir = '../output/sfd_train_photo_SamPle_nozband_ran10_3_full_tol1e5_validate/'"
   ]
  },
  {
   "cell_type": "code",
   "execution_count": 4,
   "id": "299fc6d6-8b0e-4d80-b8cc-f51e063b7c54",
   "metadata": {},
   "outputs": [
    {
     "ename": "SyntaxError",
     "evalue": "Missing parentheses in call to 'print'. Did you mean print('total num of train', train_sample.size)? (<ipython-input-4-6df596d910c9>, line 4)",
     "output_type": "error",
     "traceback": [
      "\u001b[0;36m  File \u001b[0;32m\"<ipython-input-4-6df596d910c9>\"\u001b[0;36m, line \u001b[0;32m4\u001b[0m\n\u001b[0;31m    print 'total num of train', train_sample.size\u001b[0m\n\u001b[0m                             ^\u001b[0m\n\u001b[0;31mSyntaxError\u001b[0m\u001b[0;31m:\u001b[0m Missing parentheses in call to 'print'. Did you mean print('total num of train', train_sample.size)?\n"
     ]
    }
   ],
   "source": [
    "# calling BOSS cmass and applying dmass goodregion mask ----------------------------\n",
    "#cmass = io.getSGCCMASSphotoObjcat()\n",
    "train_sample = esutil.io.read('../output/sfd_train_photo_SamPle_nozband_ran10_3_full_tol1e5/train_sample_des.fits')\n",
    "print('total num of train', train_sample.size)\n",
    "print('\\n--------------------------------\\n applying DES veto mask to CMASS\\n--------------------------------')\n",
    "train_sample = Cuts.keepGoodRegion(train_sample)"
   ]
  },
  {
   "cell_type": "code",
   "execution_count": null,
   "id": "817590c2-00d0-4ef3-acaf-909191190d97",
   "metadata": {},
   "outputs": [],
   "source": [
    "gold_st82 = io.SearchAndCallFits(path = '/n/des/lee.5922/data/gold_cat/', columns = None, keyword = 'Y1A1_GOLD_STRIPE82_v2')\n",
    "gold_st82 = gold_st82[(gold_st82['MODEST_CLASS'] == 1)&(gold_st82['FLAGS_GOLD'] == 0 )]\n",
    "gold_st82 = Cuts.keepGoodRegion(gold_st82)\n",
    "\n",
    "\n",
    "gold_st82 = RemovingSLRReddening(gold_st82)\n",
    "gold_st82 = AddingSFD98Reddening(gold_st82, kind='STRIPE82')\n",
    "\n",
    "# flags and color cut\n",
    "mask_all = priorCut_test(gold_st82)\n",
    "gold_st82 = gold_st82[mask_all]"
   ]
  },
  {
   "cell_type": "code",
   "execution_count": null,
   "id": "5c849626-fe13-4ac3-ac92-61ca1358f4b0",
   "metadata": {},
   "outputs": [],
   "source": [
    "healConfig={'out_nside':64, 'nest':True}"
   ]
  },
  {
   "cell_type": "code",
   "execution_count": null,
   "id": "d93f025f-fe91-4b3c-b190-edd4e8fca8d5",
   "metadata": {},
   "outputs": [],
   "source": [
    "train_sample = HealPixifyCatalogs(catalog=train_sample, healConfig=healConfig, ratag='RA', dectag = 'DEC')\n",
    "gold_st82 = HealPixifyCatalogs(catalog=gold_st82, healConfig=healConfig, ratag='RA', dectag = 'DEC')"
   ]
  },
  {
   "cell_type": "code",
   "execution_count": null,
   "id": "18082a70-8fa2-4cb7-bd78-ce143cc7c8ac",
   "metadata": {},
   "outputs": [],
   "source": [
    "evenmask_train = train_sample['HEALIndex']%2 == 0\n",
    "evenmask = gold_st82['HEALIndex']%2 == 0\n",
    "\n",
    "print 'odd', np.sum(evenmask_train), ' even', np.sum(~evenmask_train)"
   ]
  },
  {
   "cell_type": "code",
   "execution_count": null,
   "id": "74296cb2-7ee9-44f2-9dbf-9ce6b9e4a3a0",
   "metadata": {},
   "outputs": [],
   "source": [
    "GoldMask_st82_hpix64.size"
   ]
  },
  {
   "cell_type": "code",
   "execution_count": null,
   "id": "a2b37435-c089-4f0e-8416-f13e4abf6a9a",
   "metadata": {},
   "outputs": [],
   "source": [
    "GoldMask_st82_hpix64 = HealPixifyCatalogs(catalog=GoldMask_st82, healConfig=healConfig, ratag='RA', dectag = 'DEC')\n",
    "evenmask_map = GoldMask_st82_hpix64['HEALIndex']%2 == 0\n",
    "\n",
    "#pixarea64 = hp.nside2pixarea( 64, degrees = True)\n",
    "\n",
    "print 'odd', np.sum(evenmask_map), ' even', np.sum(~evenmask_map)\n",
    "print 'area', 'odd', np.sum(evenmask_map)*pixarea, ' even', np.sum(~evenmask_map)*pixarea"
   ]
  },
  {
   "cell_type": "code",
   "execution_count": null,
   "id": "97d84398-5fba-48de-ace4-a69c2cf21f7a",
   "metadata": {},
   "outputs": [],
   "source": [
    "train_even = train_sample[evenmask_train]\n",
    "train_odd = train_sample[~evenmask_train]\n",
    "gold_st82_even = gold_st82[evenmask]\n",
    "gold_st82_odd = gold_st82[~evenmask]"
   ]
  },
  {
   "cell_type": "code",
   "execution_count": null,
   "id": "40c8d7c4-46aa-48d8-9c6e-d9287165ee1a",
   "metadata": {},
   "outputs": [],
   "source": [
    "rootdir2 = '../output/validate_NEST/'"
   ]
  },
  {
   "cell_type": "code",
   "execution_count": null,
   "id": "97b5de6d-3238-4193-a028-2c5ac004306c",
   "metadata": {},
   "outputs": [],
   "source": [
    "fitsio.write(rootdir2+'train_NEST_even.fits', train_even, clobber=True)\n",
    "fitsio.write(rootdir2+'train_NEST_odd.fits', train_odd, clobber=True)"
   ]
  },
  {
   "cell_type": "code",
   "execution_count": null,
   "id": "e582caf4-3769-4378-963e-82bda1bbdc3f",
   "metadata": {},
   "outputs": [],
   "source": [
    "fitsio.write(rootdir2+'gold_st82_NEST_even.fits', gold_st82_even, clobber=True)\n",
    "fitsio.write(rootdir2+'gold_st82_NEST_odd.fits', gold_st82_odd, clobber=True)"
   ]
  },
  {
   "cell_type": "code",
   "execution_count": null,
   "id": "ea98558b-63c4-4f23-afe5-37a8769eccd3",
   "metadata": {},
   "outputs": [],
   "source": [
    "spatialcheck( [train_sample, train_even, train_odd], label = ['all', 'even NEST', 'odd NEST'] )"
   ]
  },
  {
   "cell_type": "code",
   "execution_count": null,
   "id": "bd6c2f4b-6b8c-4cb1-af80-c1e6d2197ef1",
   "metadata": {},
   "outputs": [],
   "source": [
    "mg1, mg2, _ = esutil.htm.HTM(10).match(train_sample['RA'], train_sample['DEC'], gold_st82['RA'], \\\n",
    "                                     gold_st82['DEC'],2./3600, maxmatch=1)\n",
    "cmass_mask = np.zeros(gold_st82.size, dtype=bool)\n",
    "cmass_mask[mg2] = 1\n",
    "clean_cmass_data_des, nocmass = gold_st82[cmass_mask], gold_st82[~cmass_mask]\n",
    "print 'cmass_fraction even', clean_cmass_data_des.size *1./gold_st82.size\n",
    "fraction_even = clean_cmass_data_des.size *1./gold_st82.size"
   ]
  },
  {
   "cell_type": "code",
   "execution_count": null,
   "id": "dcbec748-b0a4-40c9-bebb-135621a79ebe",
   "metadata": {},
   "outputs": [],
   "source": [
    "mg1, mg2, _ = esutil.htm.HTM(10).match(train_even['RA'], train_even['DEC'], gold_st82_even['RA'], \\\n",
    "                                     gold_st82_even['DEC'],2./3600, maxmatch=1)\n",
    "cmass_mask_even = np.zeros(gold_st82_even.size, dtype=bool)\n",
    "cmass_mask_even[mg2] = 1\n",
    "clean_cmass_data_des_even, nocmass_even = gold_st82_even[cmass_mask_even], gold_st82_even[~cmass_mask_even]\n",
    "print 'cmass_fraction even', clean_cmass_data_des_even.size *1./gold_st82_even.size\n",
    "fraction_even = clean_cmass_data_des_even.size *1./gold_st82_even.size"
   ]
  },
  {
   "cell_type": "code",
   "execution_count": null,
   "id": "499cdb5e-7c91-4c19-a518-754d21055121",
   "metadata": {},
   "outputs": [],
   "source": [
    "nocmass_even.size, clean_cmass_data_des_even.size"
   ]
  },
  {
   "cell_type": "code",
   "execution_count": null,
   "id": "89745ae6-0971-4d88-a505-4b46c429350e",
   "metadata": {},
   "outputs": [],
   "source": [
    "mg1, mg2, _ = esutil.htm.HTM(10).match(train_odd['RA'], train_odd['DEC'], gold_st82_odd['RA'], \\\n",
    "                                     gold_st82_odd['DEC'],2./3600, maxmatch=1)\n",
    "cmass_mask_odd = np.zeros(gold_st82_odd.size, dtype=bool)\n",
    "cmass_mask_odd[mg2] = 1\n",
    "clean_cmass_data_des_odd, nocmass_odd = gold_st82_odd[cmass_mask_odd], gold_st82_odd[~cmass_mask_odd]\n",
    "print 'cmass_fraction odd', clean_cmass_data_des_odd.size *1./gold_st82_odd.size\n",
    "fraction_odd = clean_cmass_data_des_odd.size *1./gold_st82_odd.size"
   ]
  },
  {
   "cell_type": "code",
   "execution_count": null,
   "id": "92f360b1-28ad-4e00-b21c-24316b8a91e7",
   "metadata": {},
   "outputs": [],
   "source": []
  },
  {
   "cell_type": "code",
   "execution_count": null,
   "id": "587ba980-182f-4a2e-a762-c3bcd5b8c589",
   "metadata": {},
   "outputs": [],
   "source": []
  },
  {
   "cell_type": "code",
   "execution_count": null,
   "id": "e45b5f0f-6d79-4581-9818-befb332273be",
   "metadata": {},
   "outputs": [],
   "source": []
  }
 ],
 "metadata": {
  "kernelspec": {
   "display_name": "Python (DES_env)",
   "language": "python",
   "name": "des_env"
  },
  "language_info": {
   "codemirror_mode": {
    "name": "ipython",
    "version": 3
   },
   "file_extension": ".py",
   "mimetype": "text/x-python",
   "name": "python",
   "nbconvert_exporter": "python",
   "pygments_lexer": "ipython3",
   "version": "3.7.0"
  }
 },
 "nbformat": 4,
 "nbformat_minor": 5
}
