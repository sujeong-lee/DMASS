{
 "cells": [
  {
   "cell_type": "code",
   "execution_count": 1,
   "id": "61321406-ae7d-4279-9565-1baaafc82364",
   "metadata": {},
   "outputs": [
    {
     "name": "stderr",
     "output_type": "stream",
     "text": [
      "WARNING: AstroMLDeprecationWarning: 'decorators' has been moved to 'astroML.utils' and will be removed from the main namespace in the future. [astroML.decorators]\n",
      "In /users/PCON0003/warner785/.conda/envs/DES_env/lib/python3.7/site-packages/matplotlib/mpl-data/stylelib/_classic_test.mplstyle: \n",
      "The savefig.frameon rcparam was deprecated in Matplotlib 3.1 and will be removed in 3.3.\n",
      "In /users/PCON0003/warner785/.conda/envs/DES_env/lib/python3.7/site-packages/matplotlib/mpl-data/stylelib/_classic_test.mplstyle: \n",
      "The verbose.level rcparam was deprecated in Matplotlib 3.1 and will be removed in 3.3.\n",
      "In /users/PCON0003/warner785/.conda/envs/DES_env/lib/python3.7/site-packages/matplotlib/mpl-data/stylelib/_classic_test.mplstyle: \n",
      "The verbose.fileo rcparam was deprecated in Matplotlib 3.1 and will be removed in 3.3.\n"
     ]
    },
    {
     "name": "stdout",
     "output_type": "stream",
     "text": [
      "/users/PCON0003/warner785/DMASS_XDGMM/code_py3\n",
      "/users/PCON0003/warner785/DMASSY3/code_py3\n"
     ]
    }
   ],
   "source": [
    "import os, sys\n",
    "import esutil\n",
    "import healpy as hp\n",
    "import numpy as np\n",
    "import fitsio\n",
    "sys.path.append('../')\n",
    "from xd import *\n",
    "from run_DMASS_Y3 import *\n",
    "from utils import *\n",
    "import healpy as hp\n",
    "from systematics import *\n",
    "from cmass_modules import io\n",
    "os.chdir('../../DMASS_XDGMM/code_py3/')\n",
    "print(os.getcwd())\n",
    "from xdgmm import XDGMM as XDGMM_Holoien\n",
    "os.chdir('../../DMASSY3/code_py3/')\n",
    "print(os.getcwd())"
   ]
  },
  {
   "cell_type": "code",
   "execution_count": 2,
   "id": "7f350795-ed4f-4371-98c2-92ef391ab83d",
   "metadata": {},
   "outputs": [],
   "source": [
    "#load in dmass model:\n",
    "clf_200 = XDGMM_Holoien(filename='output/test/fitting/gauss_gold_bovyY3_200DET_unfixed.xdgmm')\n",
    "clf_no200 = XDGMM_Holoien(filename='output/test/fitting/gauss_nogold_bovyY3_200DET_unfixed.xdgmm')"
   ]
  },
  {
   "cell_type": "code",
   "execution_count": 2,
   "id": "87099fb8-7a3d-47dd-8075-6eed6c76fbb3",
   "metadata": {},
   "outputs": [
    {
     "name": "stdout",
     "output_type": "stream",
     "text": [
      "\n",
      "Calling catalogs >>>\n",
      "full_spt_000034.fits\n",
      "full_spt_000001.fits\n",
      "full_spt_000032.fits\n",
      "full_spt_000027.fits\n",
      "full_spt_000022.fits\n",
      "full_spt_000025.fits\n",
      "full_spt_000005.fits\n",
      "full_spt_000021.fits\n",
      "full_spt_000010.fits\n",
      "full_spt_000012.fits\n",
      "full_spt_000004.fits\n",
      "full_spt_000033.fits\n",
      "full_spt_000016.fits\n",
      "full_spt_000013.fits\n",
      "full_spt_000024.fits\n",
      "full_spt_000006.fits\n",
      "full_spt_000031.fits\n",
      "full_spt_000015.fits\n",
      "full_spt_000020.fits\n",
      "full_spt_000002.fits\n",
      "full_spt_000026.fits\n",
      "full_spt_000017.fits\n",
      "full_spt_000011.fits\n",
      "full_spt_000008.fits\n",
      "full_spt_000029.fits\n",
      "full_spt_000028.fits\n",
      "full_spt_000023.fits\n",
      "full_spt_000014.fits\n",
      "full_spt_000019.fits\n",
      "full_spt_000007.fits\n",
      "full_spt_000003.fits\n",
      "full_spt_000030.fits\n",
      "full_spt_000018.fits\n",
      "full_spt_000009.fits\n",
      "reading 1/34 /fs/scratch/PCON0008/warner785/bwarner/full_spt_000034.fits\n",
      "reading 2/34 /fs/scratch/PCON0008/warner785/bwarner/full_spt_000001.fits\n",
      "reading 3/34 /fs/scratch/PCON0008/warner785/bwarner/full_spt_000032.fits\n",
      "reading 4/34 /fs/scratch/PCON0008/warner785/bwarner/full_spt_000027.fits\n",
      "reading 5/34 /fs/scratch/PCON0008/warner785/bwarner/full_spt_000022.fits\n",
      "reading 6/34 /fs/scratch/PCON0008/warner785/bwarner/full_spt_000025.fits\n",
      "reading 7/34 /fs/scratch/PCON0008/warner785/bwarner/full_spt_000005.fits\n",
      "reading 8/34 /fs/scratch/PCON0008/warner785/bwarner/full_spt_000021.fits\n",
      "reading 9/34 /fs/scratch/PCON0008/warner785/bwarner/full_spt_000010.fits\n",
      "reading 10/34 /fs/scratch/PCON0008/warner785/bwarner/full_spt_000012.fits\n",
      "reading 11/34 /fs/scratch/PCON0008/warner785/bwarner/full_spt_000004.fits\n",
      "reading 12/34 /fs/scratch/PCON0008/warner785/bwarner/full_spt_000033.fits\n",
      "reading 13/34 /fs/scratch/PCON0008/warner785/bwarner/full_spt_000016.fits\n",
      "reading 14/34 /fs/scratch/PCON0008/warner785/bwarner/full_spt_000013.fits\n",
      "reading 15/34 /fs/scratch/PCON0008/warner785/bwarner/full_spt_000024.fits\n",
      "reading 16/34 /fs/scratch/PCON0008/warner785/bwarner/full_spt_000006.fits\n",
      "reading 17/34 /fs/scratch/PCON0008/warner785/bwarner/full_spt_000031.fits\n",
      "reading 18/34 /fs/scratch/PCON0008/warner785/bwarner/full_spt_000015.fits\n",
      "reading 19/34 /fs/scratch/PCON0008/warner785/bwarner/full_spt_000020.fits\n",
      "reading 20/34 /fs/scratch/PCON0008/warner785/bwarner/full_spt_000002.fits\n",
      "reading 21/34 /fs/scratch/PCON0008/warner785/bwarner/full_spt_000026.fits\n",
      "reading 22/34 /fs/scratch/PCON0008/warner785/bwarner/full_spt_000017.fits\n",
      "reading 23/34 /fs/scratch/PCON0008/warner785/bwarner/full_spt_000011.fits\n",
      "reading 24/34 /fs/scratch/PCON0008/warner785/bwarner/full_spt_000008.fits\n",
      "reading 25/34 /fs/scratch/PCON0008/warner785/bwarner/full_spt_000029.fits\n",
      "reading 26/34 /fs/scratch/PCON0008/warner785/bwarner/full_spt_000028.fits\n",
      "reading 27/34 /fs/scratch/PCON0008/warner785/bwarner/full_spt_000023.fits\n",
      "reading 28/34 /fs/scratch/PCON0008/warner785/bwarner/full_spt_000014.fits\n",
      "reading 29/34 /fs/scratch/PCON0008/warner785/bwarner/full_spt_000019.fits\n",
      "reading 30/34 /fs/scratch/PCON0008/warner785/bwarner/full_spt_000007.fits\n",
      "reading 31/34 /fs/scratch/PCON0008/warner785/bwarner/full_spt_000003.fits\n",
      "reading 32/34 /fs/scratch/PCON0008/warner785/bwarner/full_spt_000030.fits\n",
      "reading 33/34 /fs/scratch/PCON0008/warner785/bwarner/full_spt_000018.fits\n",
      "reading 34/34 /fs/scratch/PCON0008/warner785/bwarner/full_spt_000009.fits\n"
     ]
    }
   ],
   "source": [
    "#loading in all of y3 gold:\n",
    "\n",
    "input_path = '/fs/scratch/PCON0008/warner785/bwarner/'\n",
    "input_keyword = 'full_spt_'\n",
    "columns =  ['RA', 'DEC', \n",
    "            'HPIX_4096',     # Healpix in ring order, nside=4096\n",
    "            'COADD_OBJECT_ID', \n",
    "            'SOF_CM_MAG_CORRECTED_G', # mag_[griz]\n",
    "            'SOF_CM_MAG_CORRECTED_R',\n",
    "            'SOF_CM_MAG_CORRECTED_I',\n",
    "            'SOF_CM_MAG_CORRECTED_Z',\n",
    "            'SOF_CM_MAG_ERR_G',       # mag error_[griz]\n",
    "            'SOF_CM_MAG_ERR_R',\n",
    "            'SOF_CM_MAG_ERR_I',\n",
    "            'SOF_CM_MAG_ERR_Z', 'EXTENDED_CLASS_MASH_SOF', 'MAG_DETMODEL_G', 'MAG_DETMODEL_R', 'MAG_DETMODEL_I', 'MAG_DETMODEL_Z', \n",
    "            'MAGERR_DETMODEL_G', 'MAGERR_DETMODEL_R', 'MAGERR_DETMODEL_I', 'MAGERR_DETMODEL_Z']\n",
    "gold = io.SearchAndCallFits(path = input_path, keyword = input_keyword, columns=columns)"
   ]
  },
  {
   "cell_type": "code",
   "execution_count": 3,
   "id": "7084b323-8a29-4e4b-b4f9-53cc26abdc05",
   "metadata": {},
   "outputs": [
    {
     "name": "stdout",
     "output_type": "stream",
     "text": [
      "40932019\n"
     ]
    }
   ],
   "source": [
    "# Apply the same color/mag cuts to exclude extreme color/mag sources //\n",
    "mask_magcut = priorCut_test(gold)\n",
    "gold = gold[mask_magcut]\n",
    "\n",
    "gold = gold[(gold['EXTENDED_CLASS_MASH_SOF'] == 3)]\n",
    "        \n",
    "print(gold.size)"
   ]
  },
  {
   "cell_type": "code",
   "execution_count": 3,
   "id": "1000a314-5a15-48d3-9999-4a2e7fb5463f",
   "metadata": {},
   "outputs": [
    {
     "name": "stdout",
     "output_type": "stream",
     "text": [
      "\n",
      "Calling catalogs >>>\n",
      "Y3_GOLD_2_0_STRIPE82_000125.fits\n",
      "Y3_GOLD_2_0_STRIPE82_000136.fits\n",
      "Y3_GOLD_2_0_STRIPE82_000040.fits\n",
      "Y3_GOLD_2_0_STRIPE82_000015.fits\n",
      "Y3_GOLD_2_0_STRIPE82_000086.fits\n",
      "Y3_GOLD_2_0_STRIPE82_000047.fits\n",
      "Y3_GOLD_2_0_STRIPE82_000108.fits\n",
      "Y3_GOLD_2_0_STRIPE82_000079.fits\n",
      "Y3_GOLD_2_0_STRIPE82_000076.fits\n",
      "Y3_GOLD_2_0_STRIPE82_000057.fits\n",
      "Y3_GOLD_2_0_STRIPE82_000111.fits\n",
      "Y3_GOLD_2_0_STRIPE82_000084.fits\n",
      "Y3_GOLD_2_0_STRIPE82_000088.fits\n",
      "Y3_GOLD_2_0_STRIPE82_000049.fits\n",
      "Y3_GOLD_2_0_STRIPE82_000063.fits\n",
      "Y3_GOLD_2_0_STRIPE82_000070.fits\n",
      "Y3_GOLD_2_0_STRIPE82_000077.fits\n",
      "Y3_GOLD_2_0_STRIPE82_000042.fits\n",
      "Y3_GOLD_2_0_STRIPE82_000118.fits\n",
      "Y3_GOLD_2_0_STRIPE82_000115.fits\n",
      "Y3_GOLD_2_0_STRIPE82_000028.fits\n",
      "Y3_GOLD_2_0_STRIPE82_000140.fits\n",
      "Y3_GOLD_2_0_STRIPE82_000060.fits\n",
      "Y3_GOLD_2_0_STRIPE82_000089.fits\n",
      "Y3_GOLD_2_0_STRIPE82_000143.fits\n",
      "Y3_GOLD_2_0_STRIPE82_000012.fits\n",
      "Y3_GOLD_2_0_STRIPE82_000001.fits\n",
      "Y3_GOLD_2_0_STRIPE82_000045.fits\n",
      "Y3_GOLD_2_0_STRIPE82_000137.fits\n",
      "Y3_GOLD_2_0_STRIPE82_000016.fits\n",
      "Y3_GOLD_2_0_STRIPE82_000126.fits\n",
      "Y3_GOLD_2_0_STRIPE82_000025.fits\n",
      "Y3_GOLD_2_0_STRIPE82_000029.fits\n",
      "Y3_GOLD_2_0_STRIPE82_000151.fits\n",
      "Y3_GOLD_2_0_STRIPE82_000062.fits\n",
      "Y3_GOLD_2_0_STRIPE82_000013.fits\n",
      "Y3_GOLD_2_0_STRIPE82_000064.fits\n",
      "Y3_GOLD_2_0_STRIPE82_000027.fits\n",
      "Y3_GOLD_2_0_STRIPE82_000141.fits\n",
      "Y3_GOLD_2_0_STRIPE82_000112.fits\n",
      "Y3_GOLD_2_0_STRIPE82_000038.fits\n",
      "Y3_GOLD_2_0_STRIPE82_000030.fits\n",
      "Y3_GOLD_2_0_STRIPE82_000102.fits\n",
      "Y3_GOLD_2_0_STRIPE82_000055.fits\n",
      "Y3_GOLD_2_0_STRIPE82_000114.fits\n",
      "Y3_GOLD_2_0_STRIPE82_000048.fits\n",
      "Y3_GOLD_2_0_STRIPE82_000056.fits\n",
      "Y3_GOLD_2_0_STRIPE82_000007.fits\n",
      "Y3_GOLD_2_0_STRIPE82_000138.fits\n",
      "Y3_GOLD_2_0_STRIPE82_000083.fits\n",
      "Y3_GOLD_2_0_STRIPE82_000041.fits\n",
      "Y3_GOLD_2_0_STRIPE82_000002.fits\n",
      "Y3_GOLD_2_0_STRIPE82_000081.fits\n",
      "Y3_GOLD_2_0_STRIPE82_000153.fits\n",
      "Y3_GOLD_2_0_STRIPE82_000020.fits\n",
      "Y3_GOLD_2_0_STRIPE82_000103.fits\n",
      "Y3_GOLD_2_0_STRIPE82_000142.fits\n",
      "Y3_GOLD_2_0_STRIPE82_000082.fits\n",
      "Y3_GOLD_2_0_STRIPE82_000100.fits\n",
      "Y3_GOLD_2_0_STRIPE82_000110.fits\n",
      "Y3_GOLD_2_0_STRIPE82_000014.fits\n",
      "Y3_GOLD_2_0_STRIPE82_000144.fits\n",
      "Y3_GOLD_2_0_STRIPE82_000006.fits\n",
      "Y3_GOLD_2_0_STRIPE82_000008.fits\n",
      "Y3_GOLD_2_0_STRIPE82_000005.fits\n",
      "Y3_GOLD_2_0_STRIPE82_000148.fits\n",
      "Y3_GOLD_2_0_STRIPE82_000124.fits\n",
      "Y3_GOLD_2_0_STRIPE82_000122.fits\n",
      "Y3_GOLD_2_0_STRIPE82_000035.fits\n",
      "Y3_GOLD_2_0_STRIPE82_000072.fits\n",
      "Y3_GOLD_2_0_STRIPE82_000093.fits\n",
      "Y3_GOLD_2_0_STRIPE82_000033.fits\n",
      "Y3_GOLD_2_0_STRIPE82_000132.fits\n",
      "Y3_GOLD_2_0_STRIPE82_000011.fits\n",
      "Y3_GOLD_2_0_STRIPE82_000026.fits\n",
      "Y3_GOLD_2_0_STRIPE82_000131.fits\n",
      "Y3_GOLD_2_0_STRIPE82_000129.fits\n",
      "Y3_GOLD_2_0_STRIPE82_000051.fits\n",
      "Y3_GOLD_2_0_STRIPE82_000104.fits\n",
      "Y3_GOLD_2_0_STRIPE82_000105.fits\n",
      "Y3_GOLD_2_0_STRIPE82_000074.fits\n",
      "Y3_GOLD_2_0_STRIPE82_000121.fits\n",
      "Y3_GOLD_2_0_STRIPE82_000078.fits\n",
      "Y3_GOLD_2_0_STRIPE82_000032.fits\n",
      "Y3_GOLD_2_0_STRIPE82_000097.fits\n",
      "Y3_GOLD_2_0_STRIPE82_000135.fits\n",
      "Y3_GOLD_2_0_STRIPE82_000065.fits\n",
      "Y3_GOLD_2_0_STRIPE82_000094.fits\n",
      "Y3_GOLD_2_0_STRIPE82_000003.fits\n",
      "Y3_GOLD_2_0_STRIPE82_000145.fits\n",
      "Y3_GOLD_2_0_STRIPE82_000034.fits\n",
      "Y3_GOLD_2_0_STRIPE82_000146.fits\n",
      "Y3_GOLD_2_0_STRIPE82_000127.fits\n",
      "Y3_GOLD_2_0_STRIPE82_000128.fits\n",
      "Y3_GOLD_2_0_STRIPE82_000116.fits\n",
      "Y3_GOLD_2_0_STRIPE82_000069.fits\n",
      "Y3_GOLD_2_0_STRIPE82_000152.fits\n",
      "Y3_GOLD_2_0_STRIPE82_000053.fits\n",
      "Y3_GOLD_2_0_STRIPE82_000058.fits\n",
      "Y3_GOLD_2_0_STRIPE82_000010.fits\n",
      "Y3_GOLD_2_0_STRIPE82_000046.fits\n",
      "Y3_GOLD_2_0_STRIPE82_000095.fits\n",
      "Y3_GOLD_2_0_STRIPE82_000073.fits\n",
      "Y3_GOLD_2_0_STRIPE82_000019.fits\n",
      "Y3_GOLD_2_0_STRIPE82_000068.fits\n",
      "Y3_GOLD_2_0_STRIPE82_000036.fits\n",
      "Y3_GOLD_2_0_STRIPE82_000075.fits\n",
      "Y3_GOLD_2_0_STRIPE82_000037.fits\n",
      "Y3_GOLD_2_0_STRIPE82_000098.fits\n",
      "Y3_GOLD_2_0_STRIPE82_000022.fits\n",
      "Y3_GOLD_2_0_STRIPE82_000050.fits\n",
      "Y3_GOLD_2_0_STRIPE82_000018.fits\n",
      "Y3_GOLD_2_0_STRIPE82_000024.fits\n",
      "Y3_GOLD_2_0_STRIPE82_000080.fits\n",
      "Y3_GOLD_2_0_STRIPE82_000071.fits\n",
      "Y3_GOLD_2_0_STRIPE82_000054.fits\n",
      "Y3_GOLD_2_0_STRIPE82_000101.fits\n",
      "Y3_GOLD_2_0_STRIPE82_000150.fits\n",
      "Y3_GOLD_2_0_STRIPE82_000113.fits\n",
      "Y3_GOLD_2_0_STRIPE82_000147.fits\n",
      "Y3_GOLD_2_0_STRIPE82_000009.fits\n",
      "Y3_GOLD_2_0_STRIPE82_000123.fits\n",
      "Y3_GOLD_2_0_STRIPE82_000061.fits\n",
      "Y3_GOLD_2_0_STRIPE82_000004.fits\n",
      "Y3_GOLD_2_0_STRIPE82_000085.fits\n",
      "Y3_GOLD_2_0_STRIPE82_000091.fits\n",
      "Y3_GOLD_2_0_STRIPE82_000130.fits\n",
      "Y3_GOLD_2_0_STRIPE82_000067.fits\n",
      "Y3_GOLD_2_0_STRIPE82_000117.fits\n",
      "Y3_GOLD_2_0_STRIPE82_000017.fits\n",
      "Y3_GOLD_2_0_STRIPE82_000149.fits\n",
      "Y3_GOLD_2_0_STRIPE82_000119.fits\n",
      "Y3_GOLD_2_0_STRIPE82_000052.fits\n",
      "Y3_GOLD_2_0_STRIPE82_000031.fits\n",
      "Y3_GOLD_2_0_STRIPE82_000107.fits\n",
      "Y3_GOLD_2_0_STRIPE82_000023.fits\n",
      "Y3_GOLD_2_0_STRIPE82_000044.fits\n",
      "Y3_GOLD_2_0_STRIPE82_000120.fits\n",
      "Y3_GOLD_2_0_STRIPE82_000090.fits\n",
      "Y3_GOLD_2_0_STRIPE82_000106.fits\n",
      "Y3_GOLD_2_0_STRIPE82_000133.fits\n",
      "Y3_GOLD_2_0_STRIPE82_000066.fits\n",
      "Y3_GOLD_2_0_STRIPE82_000139.fits\n",
      "Y3_GOLD_2_0_STRIPE82_000087.fits\n",
      "Y3_GOLD_2_0_STRIPE82_000043.fits\n",
      "Y3_GOLD_2_0_STRIPE82_000039.fits\n",
      "Y3_GOLD_2_0_STRIPE82_000099.fits\n",
      "Y3_GOLD_2_0_STRIPE82_000021.fits\n",
      "Y3_GOLD_2_0_STRIPE82_000092.fits\n",
      "Y3_GOLD_2_0_STRIPE82_000096.fits\n",
      "Y3_GOLD_2_0_STRIPE82_000059.fits\n",
      "Y3_GOLD_2_0_STRIPE82_000109.fits\n",
      "Y3_GOLD_2_0_STRIPE82_000134.fits\n",
      "reading 1/153 /fs/scratch/PCON0003/warner785/bwarner/Y3_GOLD_2_0_STRIPE82_000125.fits\n",
      "reading 2/153 /fs/scratch/PCON0003/warner785/bwarner/Y3_GOLD_2_0_STRIPE82_000136.fits\n",
      "reading 3/153 /fs/scratch/PCON0003/warner785/bwarner/Y3_GOLD_2_0_STRIPE82_000040.fits\n",
      "reading 4/153 /fs/scratch/PCON0003/warner785/bwarner/Y3_GOLD_2_0_STRIPE82_000015.fits\n",
      "reading 5/153 /fs/scratch/PCON0003/warner785/bwarner/Y3_GOLD_2_0_STRIPE82_000086.fits\n",
      "reading 6/153 /fs/scratch/PCON0003/warner785/bwarner/Y3_GOLD_2_0_STRIPE82_000047.fits\n",
      "reading 7/153 /fs/scratch/PCON0003/warner785/bwarner/Y3_GOLD_2_0_STRIPE82_000108.fits\n",
      "reading 8/153 /fs/scratch/PCON0003/warner785/bwarner/Y3_GOLD_2_0_STRIPE82_000079.fits\n",
      "reading 9/153 /fs/scratch/PCON0003/warner785/bwarner/Y3_GOLD_2_0_STRIPE82_000076.fits\n",
      "reading 10/153 /fs/scratch/PCON0003/warner785/bwarner/Y3_GOLD_2_0_STRIPE82_000057.fits\n",
      "reading 11/153 /fs/scratch/PCON0003/warner785/bwarner/Y3_GOLD_2_0_STRIPE82_000111.fits\n",
      "reading 12/153 /fs/scratch/PCON0003/warner785/bwarner/Y3_GOLD_2_0_STRIPE82_000084.fits\n",
      "reading 13/153 /fs/scratch/PCON0003/warner785/bwarner/Y3_GOLD_2_0_STRIPE82_000088.fits\n",
      "reading 14/153 /fs/scratch/PCON0003/warner785/bwarner/Y3_GOLD_2_0_STRIPE82_000049.fits\n",
      "reading 15/153 /fs/scratch/PCON0003/warner785/bwarner/Y3_GOLD_2_0_STRIPE82_000063.fits\n",
      "reading 16/153 /fs/scratch/PCON0003/warner785/bwarner/Y3_GOLD_2_0_STRIPE82_000070.fits\n",
      "reading 17/153 /fs/scratch/PCON0003/warner785/bwarner/Y3_GOLD_2_0_STRIPE82_000077.fits\n",
      "reading 18/153 /fs/scratch/PCON0003/warner785/bwarner/Y3_GOLD_2_0_STRIPE82_000042.fits\n",
      "reading 19/153 /fs/scratch/PCON0003/warner785/bwarner/Y3_GOLD_2_0_STRIPE82_000118.fits\n",
      "reading 20/153 /fs/scratch/PCON0003/warner785/bwarner/Y3_GOLD_2_0_STRIPE82_000115.fits\n",
      "reading 21/153 /fs/scratch/PCON0003/warner785/bwarner/Y3_GOLD_2_0_STRIPE82_000028.fits\n",
      "reading 22/153 /fs/scratch/PCON0003/warner785/bwarner/Y3_GOLD_2_0_STRIPE82_000140.fits\n",
      "reading 23/153 /fs/scratch/PCON0003/warner785/bwarner/Y3_GOLD_2_0_STRIPE82_000060.fits\n",
      "reading 24/153 /fs/scratch/PCON0003/warner785/bwarner/Y3_GOLD_2_0_STRIPE82_000089.fits\n",
      "reading 25/153 /fs/scratch/PCON0003/warner785/bwarner/Y3_GOLD_2_0_STRIPE82_000143.fits\n",
      "reading 26/153 /fs/scratch/PCON0003/warner785/bwarner/Y3_GOLD_2_0_STRIPE82_000012.fits\n",
      "reading 27/153 /fs/scratch/PCON0003/warner785/bwarner/Y3_GOLD_2_0_STRIPE82_000001.fits\n",
      "reading 28/153 /fs/scratch/PCON0003/warner785/bwarner/Y3_GOLD_2_0_STRIPE82_000045.fits\n",
      "reading 29/153 /fs/scratch/PCON0003/warner785/bwarner/Y3_GOLD_2_0_STRIPE82_000137.fits\n",
      "reading 30/153 /fs/scratch/PCON0003/warner785/bwarner/Y3_GOLD_2_0_STRIPE82_000016.fits\n",
      "reading 31/153 /fs/scratch/PCON0003/warner785/bwarner/Y3_GOLD_2_0_STRIPE82_000126.fits\n",
      "reading 32/153 /fs/scratch/PCON0003/warner785/bwarner/Y3_GOLD_2_0_STRIPE82_000025.fits\n",
      "reading 33/153 /fs/scratch/PCON0003/warner785/bwarner/Y3_GOLD_2_0_STRIPE82_000029.fits\n",
      "reading 34/153 /fs/scratch/PCON0003/warner785/bwarner/Y3_GOLD_2_0_STRIPE82_000151.fits\n",
      "reading 35/153 /fs/scratch/PCON0003/warner785/bwarner/Y3_GOLD_2_0_STRIPE82_000062.fits\n",
      "reading 36/153 /fs/scratch/PCON0003/warner785/bwarner/Y3_GOLD_2_0_STRIPE82_000013.fits\n",
      "reading 37/153 /fs/scratch/PCON0003/warner785/bwarner/Y3_GOLD_2_0_STRIPE82_000064.fits\n",
      "reading 38/153 /fs/scratch/PCON0003/warner785/bwarner/Y3_GOLD_2_0_STRIPE82_000027.fits\n",
      "reading 39/153 /fs/scratch/PCON0003/warner785/bwarner/Y3_GOLD_2_0_STRIPE82_000141.fits\n",
      "reading 40/153 /fs/scratch/PCON0003/warner785/bwarner/Y3_GOLD_2_0_STRIPE82_000112.fits\n",
      "reading 41/153 /fs/scratch/PCON0003/warner785/bwarner/Y3_GOLD_2_0_STRIPE82_000038.fits\n",
      "reading 42/153 /fs/scratch/PCON0003/warner785/bwarner/Y3_GOLD_2_0_STRIPE82_000030.fits\n",
      "reading 43/153 /fs/scratch/PCON0003/warner785/bwarner/Y3_GOLD_2_0_STRIPE82_000102.fits\n",
      "reading 44/153 /fs/scratch/PCON0003/warner785/bwarner/Y3_GOLD_2_0_STRIPE82_000055.fits\n",
      "reading 45/153 /fs/scratch/PCON0003/warner785/bwarner/Y3_GOLD_2_0_STRIPE82_000114.fits\n",
      "reading 46/153 /fs/scratch/PCON0003/warner785/bwarner/Y3_GOLD_2_0_STRIPE82_000048.fits\n",
      "reading 47/153 /fs/scratch/PCON0003/warner785/bwarner/Y3_GOLD_2_0_STRIPE82_000056.fits\n",
      "reading 48/153 /fs/scratch/PCON0003/warner785/bwarner/Y3_GOLD_2_0_STRIPE82_000007.fits\n",
      "reading 49/153 /fs/scratch/PCON0003/warner785/bwarner/Y3_GOLD_2_0_STRIPE82_000138.fits\n",
      "reading 50/153 /fs/scratch/PCON0003/warner785/bwarner/Y3_GOLD_2_0_STRIPE82_000083.fits\n",
      "reading 51/153 /fs/scratch/PCON0003/warner785/bwarner/Y3_GOLD_2_0_STRIPE82_000041.fits\n",
      "reading 52/153 /fs/scratch/PCON0003/warner785/bwarner/Y3_GOLD_2_0_STRIPE82_000002.fits\n",
      "reading 53/153 /fs/scratch/PCON0003/warner785/bwarner/Y3_GOLD_2_0_STRIPE82_000081.fits\n",
      "reading 54/153 /fs/scratch/PCON0003/warner785/bwarner/Y3_GOLD_2_0_STRIPE82_000153.fits\n",
      "reading 55/153 /fs/scratch/PCON0003/warner785/bwarner/Y3_GOLD_2_0_STRIPE82_000020.fits\n",
      "reading 56/153 /fs/scratch/PCON0003/warner785/bwarner/Y3_GOLD_2_0_STRIPE82_000103.fits\n",
      "reading 57/153 /fs/scratch/PCON0003/warner785/bwarner/Y3_GOLD_2_0_STRIPE82_000142.fits\n",
      "reading 58/153 /fs/scratch/PCON0003/warner785/bwarner/Y3_GOLD_2_0_STRIPE82_000082.fits\n",
      "reading 59/153 /fs/scratch/PCON0003/warner785/bwarner/Y3_GOLD_2_0_STRIPE82_000100.fits\n",
      "reading 60/153 /fs/scratch/PCON0003/warner785/bwarner/Y3_GOLD_2_0_STRIPE82_000110.fits\n",
      "reading 61/153 /fs/scratch/PCON0003/warner785/bwarner/Y3_GOLD_2_0_STRIPE82_000014.fits\n",
      "reading 62/153 /fs/scratch/PCON0003/warner785/bwarner/Y3_GOLD_2_0_STRIPE82_000144.fits\n",
      "reading 63/153 /fs/scratch/PCON0003/warner785/bwarner/Y3_GOLD_2_0_STRIPE82_000006.fits\n",
      "reading 64/153 /fs/scratch/PCON0003/warner785/bwarner/Y3_GOLD_2_0_STRIPE82_000008.fits\n",
      "reading 65/153 /fs/scratch/PCON0003/warner785/bwarner/Y3_GOLD_2_0_STRIPE82_000005.fits\n",
      "reading 66/153 /fs/scratch/PCON0003/warner785/bwarner/Y3_GOLD_2_0_STRIPE82_000148.fits\n",
      "reading 67/153 /fs/scratch/PCON0003/warner785/bwarner/Y3_GOLD_2_0_STRIPE82_000124.fits\n",
      "reading 68/153 /fs/scratch/PCON0003/warner785/bwarner/Y3_GOLD_2_0_STRIPE82_000122.fits\n",
      "reading 69/153 /fs/scratch/PCON0003/warner785/bwarner/Y3_GOLD_2_0_STRIPE82_000035.fits\n",
      "reading 70/153 /fs/scratch/PCON0003/warner785/bwarner/Y3_GOLD_2_0_STRIPE82_000072.fits\n",
      "reading 71/153 /fs/scratch/PCON0003/warner785/bwarner/Y3_GOLD_2_0_STRIPE82_000093.fits\n",
      "reading 72/153 /fs/scratch/PCON0003/warner785/bwarner/Y3_GOLD_2_0_STRIPE82_000033.fits\n",
      "reading 73/153 /fs/scratch/PCON0003/warner785/bwarner/Y3_GOLD_2_0_STRIPE82_000132.fits\n",
      "reading 74/153 /fs/scratch/PCON0003/warner785/bwarner/Y3_GOLD_2_0_STRIPE82_000011.fits\n",
      "reading 75/153 /fs/scratch/PCON0003/warner785/bwarner/Y3_GOLD_2_0_STRIPE82_000026.fits\n",
      "reading 76/153 /fs/scratch/PCON0003/warner785/bwarner/Y3_GOLD_2_0_STRIPE82_000131.fits\n",
      "reading 77/153 /fs/scratch/PCON0003/warner785/bwarner/Y3_GOLD_2_0_STRIPE82_000129.fits\n",
      "reading 78/153 /fs/scratch/PCON0003/warner785/bwarner/Y3_GOLD_2_0_STRIPE82_000051.fits\n",
      "reading 79/153 /fs/scratch/PCON0003/warner785/bwarner/Y3_GOLD_2_0_STRIPE82_000104.fits\n",
      "reading 80/153 /fs/scratch/PCON0003/warner785/bwarner/Y3_GOLD_2_0_STRIPE82_000105.fits\n",
      "reading 81/153 /fs/scratch/PCON0003/warner785/bwarner/Y3_GOLD_2_0_STRIPE82_000074.fits\n",
      "reading 82/153 /fs/scratch/PCON0003/warner785/bwarner/Y3_GOLD_2_0_STRIPE82_000121.fits\n",
      "reading 83/153 /fs/scratch/PCON0003/warner785/bwarner/Y3_GOLD_2_0_STRIPE82_000078.fits\n",
      "reading 84/153 /fs/scratch/PCON0003/warner785/bwarner/Y3_GOLD_2_0_STRIPE82_000032.fits\n",
      "reading 85/153 /fs/scratch/PCON0003/warner785/bwarner/Y3_GOLD_2_0_STRIPE82_000097.fits\n",
      "reading 86/153 /fs/scratch/PCON0003/warner785/bwarner/Y3_GOLD_2_0_STRIPE82_000135.fits\n",
      "reading 87/153 /fs/scratch/PCON0003/warner785/bwarner/Y3_GOLD_2_0_STRIPE82_000065.fits\n",
      "reading 88/153 /fs/scratch/PCON0003/warner785/bwarner/Y3_GOLD_2_0_STRIPE82_000094.fits\n",
      "reading 89/153 /fs/scratch/PCON0003/warner785/bwarner/Y3_GOLD_2_0_STRIPE82_000003.fits\n",
      "reading 90/153 /fs/scratch/PCON0003/warner785/bwarner/Y3_GOLD_2_0_STRIPE82_000145.fits\n",
      "reading 91/153 /fs/scratch/PCON0003/warner785/bwarner/Y3_GOLD_2_0_STRIPE82_000034.fits\n",
      "reading 92/153 /fs/scratch/PCON0003/warner785/bwarner/Y3_GOLD_2_0_STRIPE82_000146.fits\n",
      "reading 93/153 /fs/scratch/PCON0003/warner785/bwarner/Y3_GOLD_2_0_STRIPE82_000127.fits\n",
      "reading 94/153 /fs/scratch/PCON0003/warner785/bwarner/Y3_GOLD_2_0_STRIPE82_000128.fits\n",
      "reading 95/153 /fs/scratch/PCON0003/warner785/bwarner/Y3_GOLD_2_0_STRIPE82_000116.fits\n",
      "reading 96/153 /fs/scratch/PCON0003/warner785/bwarner/Y3_GOLD_2_0_STRIPE82_000069.fits\n",
      "reading 97/153 /fs/scratch/PCON0003/warner785/bwarner/Y3_GOLD_2_0_STRIPE82_000152.fits\n",
      "reading 98/153 /fs/scratch/PCON0003/warner785/bwarner/Y3_GOLD_2_0_STRIPE82_000053.fits\n",
      "reading 99/153 /fs/scratch/PCON0003/warner785/bwarner/Y3_GOLD_2_0_STRIPE82_000058.fits\n",
      "reading 100/153 /fs/scratch/PCON0003/warner785/bwarner/Y3_GOLD_2_0_STRIPE82_000010.fits\n",
      "reading 101/153 /fs/scratch/PCON0003/warner785/bwarner/Y3_GOLD_2_0_STRIPE82_000046.fits\n",
      "reading 102/153 /fs/scratch/PCON0003/warner785/bwarner/Y3_GOLD_2_0_STRIPE82_000095.fits\n",
      "reading 103/153 /fs/scratch/PCON0003/warner785/bwarner/Y3_GOLD_2_0_STRIPE82_000073.fits\n",
      "reading 104/153 /fs/scratch/PCON0003/warner785/bwarner/Y3_GOLD_2_0_STRIPE82_000019.fits\n",
      "reading 105/153 /fs/scratch/PCON0003/warner785/bwarner/Y3_GOLD_2_0_STRIPE82_000068.fits\n",
      "reading 106/153 /fs/scratch/PCON0003/warner785/bwarner/Y3_GOLD_2_0_STRIPE82_000036.fits\n",
      "reading 107/153 /fs/scratch/PCON0003/warner785/bwarner/Y3_GOLD_2_0_STRIPE82_000075.fits\n",
      "reading 108/153 /fs/scratch/PCON0003/warner785/bwarner/Y3_GOLD_2_0_STRIPE82_000037.fits\n",
      "reading 109/153 /fs/scratch/PCON0003/warner785/bwarner/Y3_GOLD_2_0_STRIPE82_000098.fits\n",
      "reading 110/153 /fs/scratch/PCON0003/warner785/bwarner/Y3_GOLD_2_0_STRIPE82_000022.fits\n",
      "reading 111/153 /fs/scratch/PCON0003/warner785/bwarner/Y3_GOLD_2_0_STRIPE82_000050.fits\n",
      "reading 112/153 /fs/scratch/PCON0003/warner785/bwarner/Y3_GOLD_2_0_STRIPE82_000018.fits\n",
      "reading 113/153 /fs/scratch/PCON0003/warner785/bwarner/Y3_GOLD_2_0_STRIPE82_000024.fits\n",
      "reading 114/153 /fs/scratch/PCON0003/warner785/bwarner/Y3_GOLD_2_0_STRIPE82_000080.fits\n",
      "reading 115/153 /fs/scratch/PCON0003/warner785/bwarner/Y3_GOLD_2_0_STRIPE82_000071.fits\n",
      "reading 116/153 /fs/scratch/PCON0003/warner785/bwarner/Y3_GOLD_2_0_STRIPE82_000054.fits\n",
      "reading 117/153 /fs/scratch/PCON0003/warner785/bwarner/Y3_GOLD_2_0_STRIPE82_000101.fits\n",
      "reading 118/153 /fs/scratch/PCON0003/warner785/bwarner/Y3_GOLD_2_0_STRIPE82_000150.fits\n",
      "reading 119/153 /fs/scratch/PCON0003/warner785/bwarner/Y3_GOLD_2_0_STRIPE82_000113.fits\n",
      "reading 120/153 /fs/scratch/PCON0003/warner785/bwarner/Y3_GOLD_2_0_STRIPE82_000147.fits\n",
      "reading 121/153 /fs/scratch/PCON0003/warner785/bwarner/Y3_GOLD_2_0_STRIPE82_000009.fits\n",
      "reading 122/153 /fs/scratch/PCON0003/warner785/bwarner/Y3_GOLD_2_0_STRIPE82_000123.fits\n",
      "reading 123/153 /fs/scratch/PCON0003/warner785/bwarner/Y3_GOLD_2_0_STRIPE82_000061.fits\n",
      "reading 124/153 /fs/scratch/PCON0003/warner785/bwarner/Y3_GOLD_2_0_STRIPE82_000004.fits\n",
      "reading 125/153 /fs/scratch/PCON0003/warner785/bwarner/Y3_GOLD_2_0_STRIPE82_000085.fits\n",
      "reading 126/153 /fs/scratch/PCON0003/warner785/bwarner/Y3_GOLD_2_0_STRIPE82_000091.fits\n",
      "reading 127/153 /fs/scratch/PCON0003/warner785/bwarner/Y3_GOLD_2_0_STRIPE82_000130.fits\n",
      "reading 128/153 /fs/scratch/PCON0003/warner785/bwarner/Y3_GOLD_2_0_STRIPE82_000067.fits\n",
      "reading 129/153 /fs/scratch/PCON0003/warner785/bwarner/Y3_GOLD_2_0_STRIPE82_000117.fits\n",
      "reading 130/153 /fs/scratch/PCON0003/warner785/bwarner/Y3_GOLD_2_0_STRIPE82_000017.fits\n",
      "reading 131/153 /fs/scratch/PCON0003/warner785/bwarner/Y3_GOLD_2_0_STRIPE82_000149.fits\n",
      "reading 132/153 /fs/scratch/PCON0003/warner785/bwarner/Y3_GOLD_2_0_STRIPE82_000119.fits\n",
      "reading 133/153 /fs/scratch/PCON0003/warner785/bwarner/Y3_GOLD_2_0_STRIPE82_000052.fits\n",
      "reading 134/153 /fs/scratch/PCON0003/warner785/bwarner/Y3_GOLD_2_0_STRIPE82_000031.fits\n",
      "reading 135/153 /fs/scratch/PCON0003/warner785/bwarner/Y3_GOLD_2_0_STRIPE82_000107.fits\n",
      "reading 136/153 /fs/scratch/PCON0003/warner785/bwarner/Y3_GOLD_2_0_STRIPE82_000023.fits\n",
      "reading 137/153 /fs/scratch/PCON0003/warner785/bwarner/Y3_GOLD_2_0_STRIPE82_000044.fits\n",
      "reading 138/153 /fs/scratch/PCON0003/warner785/bwarner/Y3_GOLD_2_0_STRIPE82_000120.fits\n",
      "reading 139/153 /fs/scratch/PCON0003/warner785/bwarner/Y3_GOLD_2_0_STRIPE82_000090.fits\n",
      "reading 140/153 /fs/scratch/PCON0003/warner785/bwarner/Y3_GOLD_2_0_STRIPE82_000106.fits\n",
      "reading 141/153 /fs/scratch/PCON0003/warner785/bwarner/Y3_GOLD_2_0_STRIPE82_000133.fits\n",
      "reading 142/153 /fs/scratch/PCON0003/warner785/bwarner/Y3_GOLD_2_0_STRIPE82_000066.fits\n",
      "reading 143/153 /fs/scratch/PCON0003/warner785/bwarner/Y3_GOLD_2_0_STRIPE82_000139.fits\n",
      "reading 144/153 /fs/scratch/PCON0003/warner785/bwarner/Y3_GOLD_2_0_STRIPE82_000087.fits\n",
      "reading 145/153 /fs/scratch/PCON0003/warner785/bwarner/Y3_GOLD_2_0_STRIPE82_000043.fits\n",
      "reading 146/153 /fs/scratch/PCON0003/warner785/bwarner/Y3_GOLD_2_0_STRIPE82_000039.fits\n",
      "reading 147/153 /fs/scratch/PCON0003/warner785/bwarner/Y3_GOLD_2_0_STRIPE82_000099.fits\n",
      "reading 148/153 /fs/scratch/PCON0003/warner785/bwarner/Y3_GOLD_2_0_STRIPE82_000021.fits\n",
      "reading 149/153 /fs/scratch/PCON0003/warner785/bwarner/Y3_GOLD_2_0_STRIPE82_000092.fits\n",
      "reading 150/153 /fs/scratch/PCON0003/warner785/bwarner/Y3_GOLD_2_0_STRIPE82_000096.fits\n",
      "reading 151/153 /fs/scratch/PCON0003/warner785/bwarner/Y3_GOLD_2_0_STRIPE82_000059.fits\n",
      "reading 152/153 /fs/scratch/PCON0003/warner785/bwarner/Y3_GOLD_2_0_STRIPE82_000109.fits\n",
      "reading 153/153 /fs/scratch/PCON0003/warner785/bwarner/Y3_GOLD_2_0_STRIPE82_000134.fits\n"
     ]
    },
    {
     "data": {
      "text/plain": [
       "\"\\nmask_magcut = priorCut_test(gold_st82)\\ngold_st82 = gold_st82[mask_magcut]\\ngold_st82 = gold_st82[(gold_st82['EXTENDED_CLASS_MASH_SOF'] == 3)]\\n\""
      ]
     },
     "execution_count": 3,
     "metadata": {},
     "output_type": "execute_result"
    }
   ],
   "source": [
    "# Call in st82 region to take out this portion of the gold catalog:\n",
    "\n",
    "# Calling Y3 GOLD v2.0 (training)\n",
    "# All catalogs are in the 'input_path' directory \n",
    "# The 'SearchAndCallFits' function below loads all \n",
    "# catalogs in the directory including 'input_keyword' in its name\n",
    "#input_path = '/n/des/lee.5922/data/gold_cat_Y3/STRIPE82/feae9705305d4430993687930f1cc3ad/'\n",
    "input_path = '/fs/scratch/PCON0003/warner785/bwarner/'\n",
    "# call only first 9 catalogs for a fast run.\n",
    "# to call all catalogs in the directory, use 'Y3_GOLD' as input_keyword \n",
    "# but that will consume huge memory\n",
    "input_keyword = 'Y3_GOLD_2_0_STRIPE82'  \n",
    "# Columns to call\n",
    "columns =  ['RA', 'DEC', \n",
    "            'HPIX_4096',     # Healpix in ring order, nside=4096\n",
    "            'COADD_OBJECT_ID', \n",
    "            'SOF_CM_MAG_CORRECTED_G', # mag_[griz]\n",
    "            'SOF_CM_MAG_CORRECTED_R',\n",
    "            'SOF_CM_MAG_CORRECTED_I',\n",
    "            'SOF_CM_MAG_CORRECTED_Z',\n",
    "            'SOF_CM_MAG_ERR_G',       # mag error_[griz]\n",
    "            'SOF_CM_MAG_ERR_R',\n",
    "            'SOF_CM_MAG_ERR_I',\n",
    "            'SOF_CM_MAG_ERR_Z', 'EXTENDED_CLASS_MASH_SOF', 'MAG_DETMODEL_G', 'MAG_DETMODEL_R', 'MAG_DETMODEL_I', 'MAG_DETMODEL_Z', \n",
    "            'MAGERR_DETMODEL_G', 'MAGERR_DETMODEL_R', 'MAGERR_DETMODEL_I', 'MAGERR_DETMODEL_Z']\n",
    "gold_st82 = io.SearchAndCallFits(path = input_path, keyword = input_keyword, columns=columns)\n",
    "\n",
    "# Color/Magnitude cuts to exclude extremely high or low mag/color sources.\n",
    "# 16 < mag_riz < 24, 0 < (r-i) < 1.5, 0 < (g-r) < 2.5\n",
    "# These galaxies are less likeliy to be a CMASS, therefore unnecessary. \n",
    "# We apply these cuts to reduce the sample size to speed up the codes\n",
    "\n",
    "'''\n",
    "mask_magcut = priorCut_test(gold_st82)\n",
    "gold_st82 = gold_st82[mask_magcut]\n",
    "gold_st82 = gold_st82[(gold_st82['EXTENDED_CLASS_MASH_SOF'] == 3)]\n",
    "'''"
   ]
  },
  {
   "cell_type": "code",
   "execution_count": 4,
   "id": "340e17d3-ede8-47e2-a534-76648ef16ac1",
   "metadata": {},
   "outputs": [],
   "source": [
    "def keepGoodRegion(des, hpInd = False, balrog=None):\n",
    "    import healpy as hp\n",
    "    import fitsio\n",
    "    # 25 is the faintest object detected by DES\n",
    "    # objects larger than 25 considered as Noise\n",
    "    \n",
    "    path = '/fs/scratch/PCON0003/warner785/bwarner/'\n",
    "    #LSSGoldmask = fitsio.read(path+'Y1LSSmask_v2_il22_seeil4.0_nside4096ring_redlimcut.fits')\n",
    "    #LSSGoldmask = fitsio.read(path+'Y1LSSmask_v1_il22seeil4.04096ring_redlimcut.fits')\n",
    "    LSSGoldmask = fitsio.read(path+'MASK_Y3LSSBAOSOF_22_3_v2p2.fits')\n",
    "    ringhp = hp.nest2ring(4096, [LSSGoldmask['PIXEL']])\n",
    "    #Y1LSSmask_v1_il22seeil4.04096ring_redlimcut.fits\n",
    "    #frac_cut = LSSGoldmask['FRAC'] > 0.8\n",
    "    #ind_good_ring = LSSGoldmask['PIXEL'][frac_cut]\n",
    "    ind_good_ring = ringhp\n",
    "    \n",
    "    # healpixify the catalog.\n",
    "    nside=4096\n",
    "    # Convert silly ra/dec to silly HP angular coordinates.\n",
    "    phi = des['RA'] * np.pi / 180.0\n",
    "    theta = ( 90.0 - des['DEC'] ) * np.pi/180.0\n",
    "\n",
    "    hpInd = hp.ang2pix(nside,theta,phi,nest=False)\n",
    "    keep = np.in1d(hpInd, ind_good_ring)\n",
    "    des = des[keep]\n",
    "    if hpInd is True:\n",
    "        return ind_good_ring\n",
    "    else:\n",
    "        return des"
   ]
  },
  {
   "cell_type": "code",
   "execution_count": 5,
   "id": "356fa819-30ec-424b-b7f5-b8a52b25c85a",
   "metadata": {},
   "outputs": [
    {
     "name": "stdout",
     "output_type": "stream",
     "text": [
      "50401710\n",
      "217547423\n",
      "43548202\n",
      "205742284\n"
     ]
    }
   ],
   "source": [
    "# apply the keepGoodRegion cut:\n",
    "\n",
    "print(gold_st82.size)   \n",
    "print(gold.size)\n",
    "gold_st82 = keepGoodRegion(gold_st82)\n",
    "gold = keepGoodRegion(gold)\n",
    "print(gold_st82.size)\n",
    "print(gold.size)"
   ]
  },
  {
   "cell_type": "code",
   "execution_count": 7,
   "id": "3bfe5d67-d97e-489f-b678-716966c94d2e",
   "metadata": {},
   "outputs": [],
   "source": [
    "mask = (gold_st82['RA']>310) & (gold_st82['RA']<360)|(gold_st82['RA']<7)\n",
    "mask = mask & (gold_st82['DEC']>-10) & (gold_st82['DEC']<10)\n",
    "gold_st82_train = gold_st82[mask]"
   ]
  },
  {
   "cell_type": "code",
   "execution_count": 6,
   "id": "afb0525a-17aa-4298-8298-f69581ea2e09",
   "metadata": {},
   "outputs": [],
   "source": [
    "mask2 = (gold_st82['RA']>310) & (gold_st82['RA']<320)\n",
    "mask2 = mask2 & (gold_st82['DEC']>-10) & (gold_st82['DEC']<10)\n",
    "gold_st82_check = gold_st82[mask2]"
   ]
  },
  {
   "cell_type": "code",
   "execution_count": 8,
   "id": "f5557271-6085-4edb-b502-6f59a005a7b7",
   "metadata": {},
   "outputs": [
    {
     "data": {
      "image/png": "[encoded data removed]",
      "text/plain": [
       "<Figure size 720x576 with 1 Axes>"
      ]
     },
     "metadata": {
      "needs_background": "light"
     },
     "output_type": "display_data"
    }
   ],
   "source": [
    "# checking footprint:\n",
    "# add validation in different color\n",
    "spatialcheck([gold_st82_train, gold_st82_check], \n",
    "             label = ['ST82 Training Region','check'], convert = None, ratag='RA',dectag='DEC')"
   ]
  },
  {
   "cell_type": "code",
   "execution_count": 9,
   "id": "8be3bcad-ea3e-4ed3-a853-06d85877ef3f",
   "metadata": {},
   "outputs": [],
   "source": [
    "mask3 = (gold['RA']>310) & (gold['RA']<320)\n",
    "mask3 = mask3 & (gold['DEC']>-10) & (gold['DEC']<10)\n",
    "gold_check = gold[mask3]"
   ]
  },
  {
   "cell_type": "code",
   "execution_count": 10,
   "id": "97969d44-4740-4fda-b70f-0ab8e12dcc28",
   "metadata": {},
   "outputs": [
    {
     "data": {
      "image/png": "[encoded data removed]",
      "text/plain": [
       "<Figure size 720x576 with 1 Axes>"
      ]
     },
     "metadata": {
      "needs_background": "light"
     },
     "output_type": "display_data"
    }
   ],
   "source": [
    "# checking footprint:\n",
    "# add validation in different color\n",
    "spatialcheck([gold_st82_train, gold_check], \n",
    "             label = ['ST82 Training Region','check'], convert = None, ratag='RA',dectag='DEC')"
   ]
  },
  {
   "cell_type": "code",
   "execution_count": 11,
   "id": "23e15c7a-4f09-4874-b0ff-49ac041f1fd0",
   "metadata": {},
   "outputs": [
    {
     "name": "stdout",
     "output_type": "stream",
     "text": [
      "406936\n",
      "852742\n"
     ]
    }
   ],
   "source": [
    "print(gold_check.size)\n",
    "print(gold_st82_check.size)\n",
    "\n",
    "# plot colors of missing obj"
   ]
  },
  {
   "cell_type": "code",
   "execution_count": 9,
   "id": "8d46b26f-cb3c-4daf-8709-684135c47210",
   "metadata": {},
   "outputs": [
    {
     "data": {
      "image/png": "[encoded data removed]",
      "text/plain": [
       "<Figure size 720x576 with 1 Axes>"
      ]
     },
     "metadata": {
      "needs_background": "light"
     },
     "output_type": "display_data"
    }
   ],
   "source": [
    "# checking footprint:\n",
    "# add validation in different color\n",
    "spatialcheck([gold, gold_st82_train], \n",
    "             label = ['Full GOLD', 'ST82 Training Region'], convert = None, ratag='RA',dectag='DEC')"
   ]
  },
  {
   "cell_type": "code",
   "execution_count": 13,
   "id": "6da9cb43-96c2-48b2-a896-e98e6f8727d8",
   "metadata": {},
   "outputs": [
    {
     "data": {
      "text/plain": [
       "\"\\nprint(gold.size)\\nprint(gold_st82_train.size)\\nmg1, mg2, _ = esutil.htm.HTM(10).match(gold['COADD_OBJECT_ID'], gold_st82_train['COADD_OBJECT_ID'],                                          maxmatch=1)\\nst82_mask = np.zeros(gold.size, dtype=bool)\\nst82_mask[mg1] = 1\\nst82_data, spt_data = gold[st82_mask], gold[~st82_mask]\\n\\n#clean_cmass_data_sdss = train_sample[mg1]           # common galaxies in cmass catalog\\n\""
      ]
     },
     "execution_count": 13,
     "metadata": {},
     "output_type": "execute_result"
    }
   ],
   "source": [
    "# cutting away st82 region: --- making st82 region a mask\n",
    "#squeue -A PCON0008 (to check how much space on OSC)\n",
    "\n",
    "'''\n",
    "print(gold.size)\n",
    "print(gold_st82_train.size)\n",
    "mg1, mg2, _ = esutil.htm.HTM(10).match(gold['COADD_OBJECT_ID'], gold_st82_train['COADD_OBJECT_ID'], \\\n",
    "                                         maxmatch=1)\n",
    "st82_mask = np.zeros(gold.size, dtype=bool)\n",
    "st82_mask[mg1] = 1\n",
    "st82_data, spt_data = gold[st82_mask], gold[~st82_mask]\n",
    "\n",
    "#clean_cmass_data_sdss = train_sample[mg1]           # common galaxies in cmass catalog\n",
    "'''"
   ]
  },
  {
   "cell_type": "code",
   "execution_count": 12,
   "id": "31e892e6-6aed-4341-85f4-f9060b2022a3",
   "metadata": {},
   "outputs": [
    {
     "name": "stdout",
     "output_type": "stream",
     "text": [
      "36306967\n",
      "1854199\n"
     ]
    }
   ],
   "source": [
    "# check numpy.in1d function.\n",
    "# This function compares array1 and array2, and then produces a mask for array1 \n",
    "# to select components that exist in both arrays.\n",
    "\n",
    "st82_mask = np.in1d(gold['COADD_OBJECT_ID'], gold_st82_train['COADD_OBJECT_ID'], assume_unique=False, invert=False)\n",
    "\n",
    "gold_spt = gold[~st82_mask]\n",
    "# produce two masks for each array, and then mask them to leave components in common, \n",
    "#then would sort them in order.\n",
    "\n",
    "gold_st82_check = gold[st82_mask]\n",
    "\n",
    "index_mask = np.argsort(gold_spt['HPIX_4096'])\n",
    "gold_spt_chron = gold_spt[index_mask] # ordered by hpix values\n",
    "\n",
    "\n",
    "print(gold_spt_chron.size)\n",
    "print(gold_st82_check.size)"
   ]
  },
  {
   "cell_type": "code",
   "execution_count": 12,
   "id": "6822abe8-35c3-4a31-9409-84b15fa5599c",
   "metadata": {},
   "outputs": [
    {
     "name": "stdout",
     "output_type": "stream",
     "text": [
      "(9826682,)\n"
     ]
    }
   ],
   "source": [
    "import numpy as np\n",
    "import pandas as pd\n",
    "\n",
    "# First catalog to be matched\n",
    "#catdir = '/Users/amichoi/src/LEPHARE/ami_spherex_richardsims_shallow/'\n",
    "#file1 = open('%s/sedcat_df_1000_2000_obsf_306sphxfilts_gama.csv' %catdir)\n",
    "#data1 = np.loadtxt(file1, delimiter=',',skiprows=1)\n",
    "#file1.close()\n",
    "tractor_id = gold['COADD_OBJECT_ID'].copy()\n",
    "\n",
    "# Load second catalog into pandas dataframe\n",
    "from astropy.table import Table\n",
    "df = pd.DataFrame(gold_st82_train)\n",
    "#df = gold_st82_train.to_pandas()\n",
    "\n",
    "tractor_id2 = df['COADD_OBJECT_ID']\n",
    "#pix = df['HPIX_4096']\n",
    "# This command finds the i magnitude values for the tractor_id2 values that match tractor_id\n",
    "tmp = tractor_id2.loc[tractor_id2.isin(tractor_id)]\n",
    "# This just sets a new variable equal to the matched imag values\n",
    "obj_same = tmp.values\n",
    "print(obj_same.shape)"
   ]
  },
  {
   "cell_type": "code",
   "execution_count": 26,
   "id": "fb55ef23-6209-4586-a00f-48bf26789566",
   "metadata": {},
   "outputs": [
    {
     "name": "stdout",
     "output_type": "stream",
     "text": [
      "[76923617 74105949 74115431 ... 77930012 77950055 77929999]\n",
      "38161166\n",
      "36305974\n"
     ]
    }
   ],
   "source": [
    "print(obj_same)\n",
    "print(gold.size)\n",
    "st82_mask = np.in1d(gold['HPIX_4096'], obj_same, assume_unique=False, invert=False)\n",
    "gold_spt_pd = gold[~st82_mask]\n",
    "print(gold_spt_pd.size)"
   ]
  },
  {
   "cell_type": "code",
   "execution_count": null,
   "id": "c1a40151-79c9-4cb4-921b-5fbd7cf0c649",
   "metadata": {},
   "outputs": [],
   "source": []
  },
  {
   "cell_type": "code",
   "execution_count": 27,
   "id": "86b7b3d6-439e-42b3-8e49-524636ce3409",
   "metadata": {},
   "outputs": [
    {
     "data": {
      "image/png": "[encoded data removed]",
      "text/plain": [
       "<Figure size 720x576 with 1 Axes>"
      ]
     },
     "metadata": {
      "needs_background": "light"
     },
     "output_type": "display_data"
    }
   ],
   "source": [
    "# spt footprint using pandas (and numpy)\n",
    "spatialcheck([gold_spt_pd], \n",
    "             label = ['SPT'], convert = None, ratag='RA',dectag='DEC')"
   ]
  },
  {
   "cell_type": "code",
   "execution_count": 13,
   "id": "38a3f25b-f493-4f8c-a398-9c1a4658e57e",
   "metadata": {},
   "outputs": [
    {
     "data": {
      "image/png": "[encoded data removed]",
      "text/plain": [
       "<Figure size 720x576 with 1 Axes>"
      ]
     },
     "metadata": {
      "needs_background": "light"
     },
     "output_type": "display_data"
    }
   ],
   "source": [
    "# recheck spt footprint using numpy\n",
    "spatialcheck([gold_spt_chron], \n",
    "             label = ['SPT'], convert = None, ratag='RA',dectag='DEC')\n",
    "\n",
    "# check magnitudes\n",
    "# add cut of >-10 to look at only st82 region\n",
    "# plot histograms"
   ]
  },
  {
   "cell_type": "code",
   "execution_count": 27,
   "id": "825e86ce-fb64-4ed2-adfb-080ecd9ed81d",
   "metadata": {},
   "outputs": [],
   "source": [
    "# save gold_spt as fits file:\n",
    "\n",
    "outdir = '../output/test/train_cat/y3/'\n",
    "os.makedirs(outdir, exist_ok=True)\n",
    "esutil.io.write( outdir+'gold_spt.fits', gold_spt, overwrite=True)"
   ]
  },
  {
   "cell_type": "code",
   "execution_count": 28,
   "id": "856ab6eb-c9ee-4021-ad9a-c4710cc341fe",
   "metadata": {},
   "outputs": [],
   "source": [
    "# clear the memory of gold_st82 and full gold catalog here\n",
    "\n",
    "gold = []\n",
    "gold_st82 = []"
   ]
  },
  {
   "cell_type": "code",
   "execution_count": null,
   "id": "f52536c0-d4c6-49dd-ac32-eefcd91d60c5",
   "metadata": {},
   "outputs": [],
   "source": []
  }
 ],
 "metadata": {
  "kernelspec": {
   "display_name": "Python (DES_env)",
   "language": "python",
   "name": "des_env"
  },
  "language_info": {
   "codemirror_mode": {
    "name": "ipython",
    "version": 3
   },
   "file_extension": ".py",
   "mimetype": "text/x-python",
   "name": "python",
   "nbconvert_exporter": "python",
   "pygments_lexer": "ipython3",
   "version": "3.7.0"
  }
 },
 "nbformat": 4,
 "nbformat_minor": 5
}
