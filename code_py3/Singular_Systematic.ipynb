{
 "cells": [
  {
   "cell_type": "code",
   "execution_count": 8,
   "id": "5df036a6-cd9c-42ec-9559-3b820d529530",
   "metadata": {},
   "outputs": [
    {
     "name": "stdout",
     "output_type": "stream",
     "text": [
      "Calculating DMASS systematic weights...\n",
      "Resulting catalog size\n",
      "DMASS= 28744.940885503802\n",
      "randoms= 5864645\n"
     ]
    },
    {
     "name": "stderr",
     "output_type": "stream",
     "text": [
      "/users/PCON0003/warner785/.conda/envs/DES_env/lib/python3.7/site-packages/healpy/pixelfunc.py:481: RuntimeWarning: invalid value encountered in _ang2pix_ring\n",
      "  return pixlib._ang2pix_ring(nside, theta, phi)\n"
     ]
    },
    {
     "name": "stdout",
     "output_type": "stream",
     "text": [
      "219582\n"
     ]
    }
   ],
   "source": [
    "import sys\n",
    "sys.path.append('../')\n",
    "from xd import *\n",
    "from utils import *\n",
    "import esutil\n",
    "import healpy as hp\n",
    "from systematics import *\n",
    "from systematics_module import *\n",
    "import os\n",
    "from numpy.lib.recfunctions import append_fields\n",
    "import scipy.stats\n",
    "\n",
    "import matplotlib.pyplot as plt\n",
    "import numpy as np\n",
    "from run_systematics import sys_iteration, weightmultiply, fitting_allSP, calling_sysMap\n",
    "\n",
    "#debugging:\n",
    "#import ipdb\n",
    "#ipdb.set_trace()\n",
    "\n",
    "# calling map \n",
    "path = '/fs/scratch/PCON0008/warner785/bwarner/'\n",
    "LSSGoldmask = fitsio.read(path+'MASK_Y3LSSBAOSOF_22_3_v2p2.fits') #BAO is different measurement, may be different from this analysis\n",
    "# 'Y1LSSmask_v2_redlimcut_il22_seeil4.0_4096ring.fits'\n",
    "#GoldMask = callingEliGoldMask()\n",
    "LSSMask = LSSGoldmask\n",
    "GoldMask = LSSGoldmask\n",
    "\n",
    "pixra, pixdec = hp.pix2ang(nside=4096,ipix=GoldMask['PIXEL'],nest=True,lonlat=True)\n",
    "\n",
    "LSSMask = LSSMask[pixdec >-3.0 ]\n",
    "#GoldMask_st82 = Cuts.SpatialCuts(GoldMask, ra=320, ra2=360, dec=-2, dec2=2)\n",
    "GoldMask_st82 = GoldMask[ pixdec > -3.0 ]\n",
    "GoldMask_spt = GoldMask[ pixdec < -3.0 ]\n",
    "#GoldMask_spt = Cuts.SpatialCuts(GoldMask_spt, ra=0, ra2 = 100, dec=-52, dec2 = -48)\n",
    "\n",
    "pixarea = hp.nside2pixarea( 4096, degrees = True)\n",
    "sptnpix = GoldMask_spt['PIXEL'].size #hp.get_map_size( GoldMask_spt['PIXEL'] )\n",
    "st82npix =  GoldMask_st82['PIXEL'].size # hp.get_map_size( GoldMask_st82 )\n",
    "SPTMaparea = pixarea * sptnpix\n",
    "ST82Maparea = pixarea * st82npix\n",
    "\n",
    "def calling_lens_catalog(catname=None):\n",
    "\n",
    "    catdir = ''.join([ c+'/' for c in catname.split('/')[:-1]])\n",
    "    os.system('mkdir '+catdir)\n",
    "    dmass = esutil.io.read(catname)\n",
    "    w_dmass = dmass['CMASS_PROB']\n",
    "    print ('Calculating DMASS systematic weights...')\n",
    "    dmass = appendColumn(dmass, name='WEIGHT', value= w_dmass )\n",
    "#   dmass = dmass[ dmass['CMASS_PROB'] > 0.01 ]   # for low probability galaxies\n",
    "    esutil.io.write(catname, dmass)\n",
    "    #randoms = esutil.io.read('/n/des/lee.5922/data/dmass_cat/random_x50_dmass_spt_masked.fits')\n",
    "    \n",
    "    randoms = esutil.io.read('/fs/scratch/PCON0008/warner785/bwarner/random_dmass_y1_public_v1.fits')\n",
    "#    randoms = esutil.io.read('/users/PCON0003/warner785/DMASSY3/output/test/train_cat/y3/dmass_st82_DET200_randoms.fits')\n",
    "    \n",
    "#    catdir = ''.join([ c+'/' for c in catname.split('/')[:-1]])\n",
    "#    os.system('mkdir '+catdir)\n",
    "#    dmass = esutil.io.read('/n/des/lee.5922/data/dmass_cat/dmass_spt_sys_v3.fits')\n",
    "    #w_dmass = dmass['CMASS_PROB'] *dmass['WEIGHT0_fwhm_r']*dmass['WEIGHT1_airmass_z']\n",
    "    #print ('Calculatig DMASS systematic weights...')\n",
    "    #dmass = appendColumn(dmass, name='WEIGHT', value= w_dmass )\n",
    "    #dmass = dmass[ dmass['CMASS_PROB'] > 0.01 ]\n",
    "    #esutil.io.write(catname, dmass)\n",
    "    #randoms = esutil.io.read('/n/des/lee.5922/data/dmass_cat/random_x50_dmass_spt_masked.fits')\n",
    "\n",
    "#    randoms = esutil.io.read('/n/des/lee.5922/data/dmass_cat/random_x50_dmass_spt_masked.fits')\n",
    "\n",
    "    print ('Resulting catalog size')\n",
    "    print ('DMASS=', np.sum(dmass['WEIGHT']) )\n",
    "    print ('randoms=', randoms.size)\n",
    "    return dmass, randoms\n",
    "\n",
    "def keepGoodRegion(des, hpInd = False, balrog=None):\n",
    "    import healpy as hp\n",
    "    import fitsio\n",
    "    # 25 is the faintest object detected by DES\n",
    "    # objects larger than 25 considered as Noise\n",
    "    \n",
    "    path = '/fs/scratch/PCON0008/warner785/bwarner/'\n",
    "    #LSSGoldmask = fitsio.read(path+'Y1LSSmask_v2_il22_seeil4.0_nside4096ring_redlimcut.fits')\n",
    "    #LSSGoldmask = fitsio.read(path+'Y1LSSmask_v1_il22seeil4.04096ring_redlimcut.fits')\n",
    "    LSSGoldmask = fitsio.read(path+'MASK_Y3LSSBAOSOF_22_3_v2p2.fits')\n",
    "    ringhp = hp.nest2ring(4096, [LSSGoldmask['PIXEL']])\n",
    "    #Y1LSSmask_v1_il22seeil4.04096ring_redlimcut.fits\n",
    "    #frac_cut = LSSGoldmask['FRAC'] > 0.8\n",
    "    #ind_good_ring = LSSGoldmask['PIXEL'][frac_cut]\n",
    "    ind_good_ring = ringhp\n",
    "    \n",
    "    # healpixify the catalog.\n",
    "    nside=4096\n",
    "    # Convert silly ra/dec to silly HP angular coordinates.\n",
    "    phi = des['RA'] * np.pi / 180.0\n",
    "    theta = ( 90.0 - des['DEC'] ) * np.pi/180.0\n",
    "\n",
    "    hpInd = hp.ang2pix(nside,theta,phi,nest=False)\n",
    "    keep = np.in1d(hpInd, ind_good_ring)\n",
    "    des = des[keep]\n",
    "    if hpInd is True:\n",
    "        return ind_good_ring\n",
    "    else:\n",
    "        return des\n",
    "    \n",
    "def ra_dec_to_xyz(ra, dec):\n",
    "    \"\"\"Convert ra & dec to Euclidean points\n",
    "    Parameters\n",
    "    ----------\n",
    "    ra, dec : ndarrays\n",
    "    Returns\n",
    "    x, y, z : ndarrays\n",
    "    \"\"\"\n",
    "    sin_ra = np.sin(ra * np.pi / 180.)\n",
    "    cos_ra = np.cos(ra * np.pi / 180.)\n",
    "\n",
    "    sin_dec = np.sin(np.pi / 2 - dec * np.pi / 180.)\n",
    "    cos_dec = np.cos(np.pi / 2 - dec * np.pi / 180.)\n",
    "\n",
    "    return (cos_ra * sin_dec,\n",
    "            sin_ra * sin_dec,\n",
    "            cos_dec)\n",
    "\n",
    "def uniform_sphere(RAlim, DEClim, size=1):\n",
    "    \"\"\"Draw a uniform sample on a sphere\n",
    "    Parameters\n",
    "    ----------\n",
    "    RAlim : tuple\n",
    "        select Right Ascension between RAlim[0] and RAlim[1]\n",
    "        units are degrees\n",
    "    DEClim : tuple\n",
    "        select Declination between DEClim[0] and DEClim[1]\n",
    "    size : int (optional)\n",
    "        the size of the random arrays to return (default = 1)\n",
    "    Returns\n",
    "    -------\n",
    "    RA, DEC : ndarray\n",
    "        the random sample on the sphere within the given limits.\n",
    "        arrays have shape equal to size.\n",
    "    \"\"\"\n",
    "    zlim = np.sin(np.pi * np.asarray(DEClim) / 180.)\n",
    "\n",
    "    z = zlim[0] + (zlim[1] - zlim[0]) * np.random.random(size)\n",
    "    DEC = (180. / np.pi) * np.arcsin(z)\n",
    "    RA = RAlim[0] + (RAlim[1] - RAlim[0]) * np.random.random(size)\n",
    "    \n",
    "    return RA, DEC\n",
    "\n",
    "def uniform_random_on_sphere(data, size = None ):\n",
    "    ra = data['RA']\n",
    "    dec = data['DEC']\n",
    "    \n",
    "    n_features = ra.size\n",
    "    #size = 100 * data.size\n",
    "    \n",
    "    # draw a random sample with N points\n",
    "    ra_R, dec_R = uniform_sphere((min(ra), max(ra)),\n",
    "                                 (min(dec), max(dec)),\n",
    "                                 size)\n",
    "    #data = np.asarray(ra_dec_to_xyz(ra, dec), order='F').T\n",
    "    #data_R = np.asarray(ra_dec_to_xyz(ra_R, dec_R), order='F').T\n",
    "    \n",
    "    #random redshift distribution\n",
    "    \n",
    "    data_R = np.zeros((ra_R.size,), dtype=[('RA', 'float'), ('DEC', 'float')])\n",
    "    data_R['RA'] = ra_R\n",
    "    data_R['DEC'] = dec_R\n",
    "                              \n",
    "    return data_R\n",
    "\n",
    "## ---------------------------------------------\n",
    "# 2nd option: set seed -- get same randoms\n",
    "\n",
    "# import DMASS in validation region\n",
    "#lens, randoms = calling_lens_catalog('/fs/scratch/PCON0003/warner785/bwarner/dmass_y1_public_v1.fits')\n",
    "dmass_val, randoms = calling_lens_catalog('../output/test/train_cat/y3/dmass_st82_part2.fits')\n",
    "# ('../output/test/train_cat/y3/dmass_st82_DET200_final.fits')\n",
    "\n",
    "random_val = uniform_random_on_sphere(dmass_val, size = 10*int(np.sum(dmass_val['WEIGHT']))) #larger size of randoms\n",
    "# applying LSS mask \n",
    "random_val = keepGoodRegion(random_val)\n",
    "\n",
    "plt.rcParams.update({\n",
    "  \"text.usetex\": False,\n",
    "  \"font.family\": \"Helvetica\"\n",
    "})\n",
    "\n",
    "random_val = appendColumn(random_val, value=np.ones(random_val.size), name='WEIGHT')\n",
    "\n",
    "path = '/fs/scratch/PCON0008/warner785/bwarner/'\n",
    "fracDet = fitsio.read(path+'y3a2_griz_o.4096_t.32768_coverfoot_EQU.fits.gz')\n",
    "\n",
    "phi = random_val['RA'] * np.pi / 180.0\n",
    "theta = ( 90.0 - random_val['DEC'] ) * np.pi/180.0\n",
    "random_pix = hp.ang2pix(4096, theta, phi)\n",
    "print(random_pix.size)\n",
    "\n",
    "frac = np.zeros(hp.nside2npix(4096))\n",
    "fracDet[\"PIXEL\"] = hp.nest2ring(4096, fracDet['PIXEL'])\n",
    "#sysHp[sysMap['PIXEL'][dim_mask]] = sysMap['SIGNAL'][dim_mask]\n",
    "frac[fracDet['PIXEL']] = fracDet['SIGNAL']\n",
    "\n",
    "frac_obj = frac[random_pix]\n",
    "\n",
    "u = np.random.rand(len(random_pix))\n",
    "#select random points with the condition u < frac_obj\n",
    "random_val_fracselected = random_val[u < frac_obj]\n",
    "\n",
    "def cutPCA(sysMap):\n",
    "    RA, DEC = hp.pix2ang(4096, sysMap['PIXEL'], lonlat=True)\n",
    "    sysMap = append_fields(sysMap, 'RA', RA, usemask=False)\n",
    "    sysMap = append_fields(sysMap, 'DEC', DEC, usemask=False)\n",
    "    #print(sysMap.dtype.names)\n",
    "\n",
    "    sysMap = keepGoodRegion(sysMap)\n",
    "    \n",
    "# for validation region\n",
    "    mask4 =(sysMap['RA']>18)&(sysMap['RA']<43)\n",
    "    mask4 = mask4 & (sysMap['DEC']>-10) & (sysMap['DEC']<10)\n",
    "    sysMap = sysMap[mask4]\n",
    "    \n",
    " # for training region\n",
    "    #mask = (sysMap['RA']>310) & (sysMap['RA']<360)|(sysMap['RA']<7)\n",
    "    #mask = mask & (sysMap['DEC']>-10) & (sysMap['DEC']<10)\n",
    "    #sysMap = sysMap[mask]\n",
    "    \n",
    "    return sysMap\n",
    "\n",
    "\n",
    "def cut_and_downgradePCA(sysMap):\n",
    "    #print(sysMap.dtype.names)\n",
    "\n",
    "    RA, DEC = hp.pix2ang(4096, sysMap['PIXEL'], lonlat=True)\n",
    "    sysMap = append_fields(sysMap, 'RA', RA, usemask=False)\n",
    "    sysMap = append_fields(sysMap, 'DEC', DEC, usemask=False)\n",
    "    #print(sysMap.dtype.names)\n",
    "\n",
    "    sysMap = keepGoodRegion(sysMap)\n",
    "\n",
    "    mask4 =(sysMap['RA']>18)&(sysMap['RA']<43)\n",
    "    mask4 = mask4 & (sysMap['DEC']>-10) & (sysMap['DEC']<10)\n",
    "    sysMap = sysMap[mask4]\n",
    "    \n",
    "    sysHp = np.full(hp.nside2npix(4096), hp.UNSEEN)\n",
    "    #sysHp[sysMap['PIXEL'][dim_mask]] = sysMap['SIGNAL'][dim_mask]\n",
    "    sysHp[sysMap['PIXEL']] = sysMap['SIGNAL']\n",
    "    #print(sysHp.size)\n",
    "    #print(sysHp[35369:35469])\n",
    "\n",
    "    #print(sysMap['PIXEL'][dim_mask][0])\n",
    "\n",
    "    nside_in = hp.pixelfunc.get_nside(sysHp)\n",
    "    #print(nside_in)\n",
    "    downgrade = hp.pixelfunc.ud_grade(sysHp, 512, pess=False, order_in='RING', order_out=None, power=None, dtype=None)\n",
    "    #downgrade128 = hp.pixelfunc.ud_grade(sysHp, 128, pess=False, order_in='RING', order_out=None, power=None, dtype=None)\n",
    "    #downgrade256 = hp.pixelfunc.ud_grade(sysHp, 256, pess=False, order_in='RING', order_out=None, power=None, dtype=None)\n",
    "\n",
    "    #default order_out = ring, change to nest? -- check\n",
    "    nside_out = hp.pixelfunc.get_nside(downgrade)\n",
    "    #print(nside_out)\n",
    "\n",
    "    n_good_pixels_at_512 = hp.nside2npix(nside_out)\n",
    "    #np.zeros(n_good_pixels_at_512, dtype=[('PIXEL','int'), ('SIGNAL','float')] )\n",
    "    pixels = np.zeros(n_good_pixels_at_512)\n",
    "    #print(pixels.size)\n",
    "\n",
    "    #print(hp.visufunc.mollview(sysHp))\n",
    "    \n",
    "\n",
    "    #print(sysMap.size)\n",
    "    \n",
    "    for x in range(pixels.size):\n",
    "        if x>0:\n",
    "            pixels[x]=pixels[x-1]+1\n",
    "    #print(pixels)\n",
    "\n",
    "    sysMap = np.zeros( len(pixels), dtype=[('HPIX_512','int'), ('SIGNAL','float'),('RA','float'),('DEC','float')])\n",
    "    sysMap['HPIX_512'] = pixels\n",
    "    sysMap['SIGNAL'] = downgrade\n",
    "\n",
    "    #print(sysMap.size)\n",
    "    #sysMap = keepGoodRegion(sysMap)\n",
    "    #print(sysMap.size)\n",
    "\n",
    "    #restrict to validation region area:\n",
    "    RA, DEC = hp.pix2ang(512, sysMap['HPIX_512'], lonlat=True)\n",
    "    #theta, phi = hp.pix2ang(512, sysMap['PIXEL'])\n",
    "    ##sys_area = np.zeros( len(phi), dtype=[('RA','float'), ('DEC','float')] )\n",
    "\n",
    "    # Convert silly ra/dec to silly HP angular coordinates.\n",
    "    ##phi = des['RA'] * np.pi / 180.0\n",
    "    #RA = phi*(180.0/np.pi)\n",
    "    #DEC = -(180.0/np.pi)*theta+90.0\n",
    "    ##theta = ( 90.0 - des['DEC'] ) * np.pi/180.0\n",
    "\n",
    "    sysMap['RA']= RA\n",
    "    sysMap['DEC'] = DEC\n",
    "    \n",
    "    return sysMap\n",
    "\n",
    "def downgrade_fracDet(fracDet):\n",
    "    frac = np.zeros(hp.nside2npix(4096))\n",
    "    fracDet[\"PIXEL\"] = hp.nest2ring(4096, fracDet['PIXEL'])\n",
    "    #sysHp[sysMap['PIXEL'][dim_mask]] = sysMap['SIGNAL'][dim_mask]\n",
    "    frac[fracDet['PIXEL']] = fracDet['SIGNAL']\n",
    "    downgrade_frac = hp.pixelfunc.ud_grade(frac, 512, pess=False, order_in='RING', order_out=None, power=None, dtype=None)\n",
    "    \n",
    "    n_good_pixels_at_512 = hp.nside2npix(512)\n",
    "    #np.zeros(n_good_pixels_at_512, dtype=[('PIXEL','int'), ('SIGNAL','float')] \n",
    " \n",
    "    pixels = np.arange( n_good_pixels_at_512)\n",
    "\n",
    "\n",
    "    fracDet_512 = np.zeros( len(pixels), dtype=[('HPIX_512','int'), ('SIGNAL','float')])\n",
    "    fracDet_512['HPIX_512'] = pixels\n",
    "    fracDet_512['SIGNAL'] = downgrade_frac    \n",
    "    \n",
    "    return fracDet_512\n",
    "\n",
    "\n",
    "def downgrade_dmass(dmass_val):\n",
    "    index_mask = np.argsort(dmass_val['HPIX_4096'])\n",
    "    dmass_chron = dmass_val[index_mask] # ordered by hpix values\n",
    "    theta, phi = hp.pix2ang(4096, dmass_chron['HPIX_4096'], nest = True)\n",
    "    HPIX_512 = hp.ang2pix(512, theta, phi)\n",
    "\n",
    "    dmass_chron = append_fields(dmass_chron, 'HPIX_512', HPIX_512, usemask=False)\n",
    "    \n",
    "    return dmass_chron\n",
    "\n",
    "def number_gal(sysMap, dmass_chron, sys_weights = False): # apply systematic weights here\n",
    "    \n",
    "    minimum = np.percentile(sysMap['SIGNAL'][sysMap['SIGNAL']!=hp.UNSEEN], 1)\n",
    "    #minimum = np.min(sysMap['SIGNAL'][dim_mask]) #FWHM signal (for g filter)\n",
    "    #maximum = np.percentile(sysMap['SIGNAL'][dim_mask], 99)\n",
    "    maximum = np.percentile(sysMap['SIGNAL'][sysMap['SIGNAL']!=hp.UNSEEN], 99)\n",
    "    #maximum = np.max(sysMap['SIGNAL'][dim_mask])\n",
    "    #print(\"min: \", minimum)\n",
    "    #print(\"max: \", maximum)\n",
    "\n",
    "    #pbin = np.linspace(-.03, .04, 1000)\n",
    "    pbin, pstep = np.linspace( minimum, maximum, 13, retstep=True)\n",
    "    pcenter = pbin[:-1] + pstep/2\n",
    "\n",
    "    #x = np.zeros(hp.nside2npix(512))\n",
    "    x = np.full(hp.nside2npix(4096), hp.UNSEEN)\n",
    "    #print(x, sum(x))\n",
    "    #x[sysMap['PIXEL'][dim_mask]] = sysMap['SIGNAL'][dim_mask]\n",
    "#    x[sysMap['HPIX_512']] = sysMap['SIGNAL']\n",
    "    x[sysMap['PIXEL']] = sysMap['SIGNAL']\n",
    "\n",
    "    #print(hp.visufunc.mollview(x)) # this is fine\n",
    "    #print(hp.UNSEEN)\n",
    "\n",
    "    #systematic value at galaxy location:\n",
    "\n",
    "#    sysval_gal = x[dmass_chron['HPIX_512']].copy()\n",
    "    sysval_gal = x[dmass_chron['HPIX_4096']].copy()\n",
    "\n",
    "    #which healpixels have values in the sysMap signal\n",
    "\n",
    "    #print(sum(sysval_gal[sysval_gal != hp.UNSEEN]))\n",
    "    #print(hp.UNSEEN)\n",
    "\n",
    "    #print(x.size, sysval_gal.size, dmass_chron.size)\n",
    "    #print(maximum, minimum)\n",
    "    #print((sysval_gal != 0.0).any())\n",
    "    \n",
    "    if sys_weights == True:\n",
    "        h,pedge1 = np.histogram(sysval_gal[sysval_gal != hp.UNSEEN], bins=pbin, weights = dmass_chron[\"WEIGHT\"][sysval_gal != hp.UNSEEN]*dmass_chron[\"SYS_WEIGHT\"][sysval_gal != hp.UNSEEN])\n",
    "    else:\n",
    "        h,pedge1 = np.histogram(sysval_gal[sysval_gal != hp.UNSEEN], bins=pbin, weights = dmass_chron[\"WEIGHT\"][sysval_gal != hp.UNSEEN]) # -- density of dmass sample, not gold sample\n",
    "    #print(h)\n",
    "    \n",
    "    #print(\"pedge1: \", pedge1)\n",
    "    #print(\"pbin: \", pbin)\n",
    "    \n",
    "    return h, sysval_gal, pedge1\n",
    "\n",
    "def area_pixels(sysMap, fracDet):\n",
    "    \n",
    "    #minimum = np.percentile(sysMap['SIGNAL'][dim_mask], 1)\n",
    "    minimum = np.percentile(sysMap['SIGNAL'][sysMap['SIGNAL']!=hp.UNSEEN], 1)\n",
    "    #minimum = np.min(sysMap['SIGNAL'][dim_mask]) #FWHM signal (for g filter)\n",
    "    #maximum = np.percentile(sysMap['SIGNAL'][dim_mask], 99)\n",
    "    maximum = np.percentile(sysMap['SIGNAL'][sysMap['SIGNAL']!=hp.UNSEEN], 99)\n",
    "    #print(minimum)\n",
    "    #print(maximum)\n",
    "\n",
    "    pbin, pstep = np.linspace( minimum, maximum, 13, retstep=True)\n",
    "    pcenter = pbin[:-1] + pstep/2\n",
    "# number of galaxies in each pixel:\n",
    "\n",
    "    sys_signal = sysMap['SIGNAL']\n",
    "\n",
    "    #print(sys_signal[sys_signal != hp.UNSEEN])\n",
    "    #print(sys_signal[sys_signal != hp.UNSEEN].size)\n",
    "\n",
    "    n,_ = np.histogram(sys_signal[sys_signal != hp.UNSEEN] , bins=pbin )\n",
    "#    print('area without weights:')\n",
    "#    print(n)\n",
    "\n",
    "    #corrected fracDet nside 512 //\n",
    "\n",
    "    #matched_sys2 = sysMap[dim_mask]\n",
    "    sys = sysMap\n",
    "#    mask = np.full(hp.nside2npix(512), hp.UNSEEN)\n",
    "    mask = np.full(hp.nside2npix(4096), hp.UNSEEN)\n",
    "\n",
    "#    print(fracDet_512[\"HPIX_512\"])\n",
    "#    print(fracDet[\"PIXEL\"])\n",
    "\n",
    "    #Only look at pixels where fracDet has value\n",
    "#    frac_mask = np.in1d(fracDet_512[\"HPIX_512\"], sys[\"HPIX_512\"], assume_unique=False, invert=False)\n",
    "    frac_mask = np.in1d(fracDet[\"PIXEL\"], sys[\"PIXEL\"], assume_unique=False, invert=False)\n",
    "\n",
    "    #make an array with signals corresponding to pixel values \n",
    "#    mask[sys[\"HPIX_512\"]] = sys[\"SIGNAL\"]\n",
    "    mask[sys[\"PIXEL\"]] = sys[\"SIGNAL\"]\n",
    "\n",
    "    #array only including fracDet/sys seen pixels sys signal values \n",
    "    #print(mask[mask != hp.UNSEEN])\n",
    "#    frac_sys = mask[fracDet_512[\"HPIX_512\"][frac_mask]]\n",
    "    frac_sys = mask[fracDet[\"PIXEL\"][frac_mask]]\n",
    "\n",
    "    #print(frac_sys[frac_sys != hp.UNSEEN])\n",
    "    #print(frac_sys[frac_sys != hp.UNSEEN].size)\n",
    "\n",
    "    #print(frac_sys[frac_sys != hp.UNSEEN])\n",
    "\n",
    "\n",
    "    #print(\"sum: \", sum(fracDet_512[\"SIGNAL\"]))\n",
    "\n",
    "    #weights of fracDet in the overlap applied for accurate areas\n",
    "    area,_ = np.histogram(frac_sys[frac_sys != hp.UNSEEN] , bins=pbin , weights = fracDet[\"SIGNAL\"][frac_mask][frac_sys != hp.UNSEEN])\n",
    "#    print('area with weights:')\n",
    "#    print(area)\n",
    "    # area = units of healpixels\n",
    "\n",
    "    return area\n",
    "\n",
    "def random_pixel(random_val_fracselected):\n",
    "    phi = random_val_fracselected['RA'] * np.pi / 180.0\n",
    "    theta = ( 90.0 - random_val_fracselected['DEC'] ) * np.pi/180.0\n",
    "    nside= 4096\n",
    "\n",
    "    HPIX_4096 = hp.ang2pix(4096, theta, phi)\n",
    "\n",
    "    random_val = append_fields(random_val_fracselected, 'HPIX_4096', HPIX_4096, usemask=False)\n",
    "    #print(random_val.dtype.names)\n",
    "    \n",
    "    return random_val\n",
    "\n",
    "def downgrade_ran(random_val_fracselected):\n",
    "    # convert nside for randoms:\n",
    "    phi = random_val_fracselected['RA'] * np.pi / 180.0\n",
    "    theta = ( 90.0 - random_val_fracselected['DEC'] ) * np.pi/180.0\n",
    "    nside= 4096\n",
    "\n",
    "    HPIX_512 = hp.ang2pix(512, theta, phi)\n",
    "\n",
    "    random_val = append_fields(random_val_fracselected, 'HPIX_512', HPIX_512, usemask=False)\n",
    "    #print(random_val.dtype.names)\n",
    "\n",
    "    index_ran_mask = np.argsort(random_val['HPIX_512'])\n",
    "    random_chron = random_val[index_ran_mask] # ordered by hpix values\n",
    "    \n",
    "    return random_chron\n",
    "\n",
    "\n",
    "def number_density(sysMap, h, area):\n",
    "    \n",
    "    minimum = np.percentile(sysMap['SIGNAL'][sysMap['SIGNAL']!=hp.UNSEEN], 1)\n",
    "    #minimum = np.min(sysMap['SIGNAL'][dim_mask]) #FWHM signal (for g filter)\n",
    "    #maximum = np.percentile(sysMap['SIGNAL'][dim_mask], 99)\n",
    "    maximum = np.percentile(sysMap['SIGNAL'][sysMap['SIGNAL']!=hp.UNSEEN], 99)\n",
    "    #print(minimum)\n",
    "    #print(maximum)\n",
    "\n",
    "    pbin, pstep = np.linspace( minimum, maximum, 13, retstep=True)\n",
    "    pcenter = pbin[:-1] + pstep/2\n",
    "    # change to number density: divide by area\n",
    "\n",
    "    #fig, ax = plt.subplots()\n",
    "    #ax.errorbar( pcenter, h_ran)\n",
    "    #ax.legend(chi2_reduced)\n",
    "    #plt.title('number of random galaxies per bin')\n",
    "    #fig.savefig('ran_gal_bin.pdf')\n",
    "\n",
    "    #print(hp.visufunc.mollview(sysMap['SIGNAL'][dim_mask]))\n",
    "\n",
    "    # h_ran = number of galaxies\n",
    "    #print(\"number of random galaxies: \", h_ran)\n",
    "\n",
    "    # number density in bins: h/area\n",
    "\n",
    "    number_density = []\n",
    "    for x in range(len(h)):\n",
    "        den = h[x]/area[x]\n",
    "        number_density.append(den)\n",
    "    \n",
    "    #print(\"randoms number density: \", number_density_ran)\n",
    "\n",
    "\n",
    "    total_area = 0\n",
    "    #Normalize based on total number density of used footprint:\n",
    "    for x in range(len(area)):\n",
    "        total_area += area[x]\n",
    "\n",
    "    #print(\"total_area: \", total_area)\n",
    "\n",
    "    # total galaxies:\n",
    "    total_h = 0\n",
    "    for x in range(len(h)):\n",
    "        total_h += h[x]\n",
    "\n",
    "    #print(\"total galaxies: \", total_h)\n",
    "\n",
    "    #normalization: \n",
    "    total_num_density = total_h/total_area\n",
    "\n",
    "    #print(\"total number density: \", total_num_density_ran)\n",
    "    \n",
    "    # apply normalization: \n",
    "    #print(number_density)\n",
    "    norm_number_density = number_density/total_num_density\n",
    "    #print(norm_number_density_ran)\n",
    "\n",
    "    fracerr = np.sqrt(h) #1 / sqrt(number of randoms cmass galaxies in each bin)\n",
    "    fracerr_norm = (fracerr/area)/total_num_density\n",
    "    #print(\"normalized error: \", fracerr_ran_norm)\n",
    "    \n",
    "    return pcenter, norm_number_density, fracerr_norm\n",
    "\n",
    "\n",
    "def chi2(norm_number_density, x2_value, fracerr_norm, n):\n",
    "    #chi**2 values for qualitative analysis:\n",
    "    # difference of (randoms-horizontal line)**2/err_ran**2\n",
    "    x1 = norm_number_density\n",
    "    x2 = x2_value\n",
    "    err = fracerr_norm\n",
    "    chi2 = (x1-x2)**2 / err **2 \n",
    "    chi2_reduced = sum(chi2)/(chi2.size-n)  # n = 2 for linear fit, 3 for quad.\n",
    "    #print(\"chi2: \",chi2_reduced)\n",
    "    \n",
    "    return chi2, chi2_reduced"
   ]
  },
  {
   "cell_type": "code",
   "execution_count": 9,
   "id": "305e9ba9-37f5-4a90-af77-4547f0b5aad0",
   "metadata": {},
   "outputs": [],
   "source": [
    "chi2_randoms = []\n",
    "chi2_dmassi = []\n",
    "chi2_trend1 = []\n",
    "chi2_trend2 = []\n",
    "chi2_dmassf = []\n",
    "trend = []"
   ]
  },
  {
   "cell_type": "code",
   "execution_count": 10,
   "id": "9b1b417d-5e03-4e61-a8c4-d6b0dfbbbbc4",
   "metadata": {},
   "outputs": [
    {
     "name": "stdout",
     "output_type": "stream",
     "text": [
      "\n",
      "Calling catalogs >>>\n",
      "pca0_ALL_maps_4096_ring_jointmask.fits.gz\n",
      "reading 1/1 /fs/scratch/PCON0008/warner785/bwarner/pca_maps_jointmask_no_stars1623/pca0_ALL_maps_4096_ring_jointmask.fits.gz\n"
     ]
    }
   ],
   "source": [
    "input_path = '/fs/scratch/PCON0008/warner785/bwarner/pca_maps_jointmask_no_stars1623/'\n",
    "#y3/band_z/\n",
    "input_keyword = 'pca0_'\n",
    "sysMap = io.SearchAndCallFits(path = input_path, keyword = input_keyword)\n",
    "\n",
    "path = '/fs/scratch/PCON0008/warner785/bwarner/'\n",
    "    \n",
    "sys_weights = False\n",
    "    \n",
    "linear = False\n",
    "quadratic = False\n",
    "    \n",
    "#    sysMap = cut_and_downgradePCA(sysMap)\n",
    "#sysMap['PIXEL'] = hp.nest2ring(4096, sysMap['PIXEL'])\n",
    "sysMap = cutPCA(sysMap)\n",
    "fracDet = fitsio.read(path+'y3a2_griz_o.4096_t.32768_coverfoot_EQU.fits.gz')\n",
    "fracDet['PIXEL'] = hp.nest2ring(4096, fracDet['PIXEL'])\n",
    "index_mask = np.argsort(dmass_val)\n",
    "dmass_chron = dmass_val[index_mask] # ordered by hpix values\n",
    "dmass_chron['HPIX_4096'] = hp.nest2ring(4096, dmass_chron['HPIX_4096'])\n",
    "\n",
    "#out = '../output/test/train_cat/y3/'\n",
    "out = '/fs/scratch/PCON0008/warner785/bwarner/'\n",
    "h_ran = fitsio.read(out+input_keyword+'h_ran_comp_lin.fits')\n",
    "norm_number_density_ran = fitsio.read(out+input_keyword+'norm_ran_comp_lin.fits')\n",
    "fracerr_ran_norm = fitsio.read(out+input_keyword+'fracerr_ran_comp_lin.fits')\n",
    "        \n",
    "h, sysval_gal, pedge1 = number_gal(sysMap, dmass_chron, sys_weights = False)\n",
    "area = area_pixels(sysMap, fracDet)\n",
    "pcenter, norm_number_density, fracerr_norm = number_density(sysMap, h, area)"
   ]
  },
  {
   "cell_type": "code",
   "execution_count": 11,
   "id": "77eb791c-0b0e-4201-9156-6c5622774ac0",
   "metadata": {},
   "outputs": [
    {
     "data": {
      "image/png": "[encoded data removed]",
      "text/plain": [
       "<Figure size 432x288 with 1 Axes>"
      ]
     },
     "metadata": {
      "needs_background": "light"
     },
     "output_type": "display_data"
    }
   ],
   "source": [
    "#plotting:\n",
    "\n",
    "fig, ax = plt.subplots()\n",
    "ax.errorbar( pcenter, norm_number_density, yerr=fracerr_norm, label = \"dmass in validation\")\n",
    "ax.errorbar( pcenter, norm_number_density_ran, yerr=fracerr_ran_norm, label = \"randoms in validation\")\n",
    "plt.legend()\n",
    "xlabel = input_keyword\n",
    "plt.xlabel(xlabel)\n",
    "plt.ylabel(\"n_gal/n_tot 4096\")\n",
    "#plt.ylim(top=1.2)  # adjust the top leaving bottom unchanged\n",
    "#plt.ylim(bottom=0.85)\n",
    "plt.axhline(y=1, color='grey', linestyle='--')\n",
    "#    plt.title(xlabel+' systematic check')\n",
    "if sys_weights == True:\n",
    "    plt.title(xlabel+' sys weights applied in validation')\n",
    "    fig.savefig(xlabel+'sys_applied_val.pdf')\n",
    "else:\n",
    "    plt.title(xlabel+' systematics check in validation')\n",
    "    fig.savefig(xlabel+'sys_check_val.pdf')        \n",
    "    \n"
   ]
  },
  {
   "cell_type": "code",
   "execution_count": 12,
   "id": "e855d90a-b306-43db-a6d2-eb605d35eba6",
   "metadata": {},
   "outputs": [],
   "source": [
    "outdir = '/fs/scratch/PCON0008/warner785/bwarner/'\n",
    "os.makedirs(outdir, exist_ok=True)\n",
    "esutil.io.write( outdir+xlabel+'norm_number_density_val.fits', norm_number_density, overwrite=True)\n",
    "esutil.io.write( outdir+xlabel+'fracerr_norm_val.fits', fracerr_norm, overwrite=True)"
   ]
  },
  {
   "cell_type": "code",
   "execution_count": 96,
   "id": "256767d7-422e-463c-8d85-48618cb22871",
   "metadata": {},
   "outputs": [
    {
     "name": "stdout",
     "output_type": "stream",
     "text": [
      "percentage in last bins:  3.173562777589431 %\n"
     ]
    },
    {
     "data": {
      "image/png": "[encoded data removed]",
      "text/plain": [
       "<Figure size 432x288 with 1 Axes>"
      ]
     },
     "metadata": {
      "needs_background": "light"
     },
     "output_type": "display_data"
    }
   ],
   "source": [
    "# truncating the data that goes against the trend-- if data is small enough to neglect\n",
    "#print(h)\n",
    "#print(pedge1)\n",
    "fig, ax = plt.subplots()\n",
    "#print(pedge1.size, h.size)\n",
    "\n",
    "#mask1 = sysval_gal > pedge1[11]\n",
    "#print(sysval_gal.size, dmass_chron.size)\n",
    "ax.errorbar(pedge1[:-1], h)\n",
    "#ax.hist(sysval_gal, bins=pedge1)\n",
    "#h2, pedge2 = np.histogram(sysval_gal[mask1], bins=pedge1, weights = dmass_chron[\"WEIGHT\"][mask1])\n",
    "#ax.errorbar(pedge2[:-1], h2)\n",
    "\n",
    "#print(\"dmass size: \", np.sum(dmass_chron[\"WEIGHT\"][mask1]))\n",
    "#print(\"sys:\", np.sum(sysval_gal[mask1]))\n",
    "\n",
    "sum_h = np.sum(h)\n",
    "#print(\"sum_h\", sum_h)\n",
    "#sum_h2=h2[11] #+h2[11]\n",
    "#print(sum_h2)\n",
    "\n",
    "#ax.legend(chi2_reduced)\n",
    "plt.title('number of galaxies per bin')\n",
    "\n",
    "print(\"percentage in last bins: \", ((h[0]+h[1])/np.sum(h))*100, \"%\") #h[10]+"
   ]
  },
  {
   "cell_type": "code",
   "execution_count": 46,
   "id": "30ed96d5-97fb-40da-a00a-8542628f6d62",
   "metadata": {},
   "outputs": [],
   "source": [
    "#??ax.hist"
   ]
  },
  {
   "cell_type": "code",
   "execution_count": 97,
   "id": "80c41129-207d-4cfe-a8b2-22cfa7b1f9be",
   "metadata": {},
   "outputs": [
    {
     "name": "stdout",
     "output_type": "stream",
     "text": [
      "min:  -1.8148457535864688\n",
      "max:  1.917022333996486\n",
      "pbin:  [-1.81484575 -1.50385675 -1.19286774 -0.88187873 -0.57088972 -0.25990072\n",
      "  0.05108829  0.3620773   0.6730663   0.98405531  1.29504432  1.60603333\n",
      "  1.91702233]\n",
      "pstep:  0.31098900729857953\n",
      "sum of bins 864.0059883073852\n",
      "864.0059883073793\n"
     ]
    }
   ],
   "source": [
    "minimum = np.percentile(sysMap['SIGNAL'][sysMap['SIGNAL']!=hp.UNSEEN], 1)\n",
    "print(\"min: \",minimum)\n",
    "maximum = np.percentile(sysMap['SIGNAL'][sysMap['SIGNAL']!=hp.UNSEEN], 99)\n",
    "print(\"max: \",maximum)\n",
    "pbin, pstep = np.linspace( minimum, maximum, 13, retstep=True)\n",
    "print(\"pbin: \", pbin)\n",
    "#print(pedge1)\n",
    "print(\"pstep: \", pstep)\n",
    "pcenter = pbin[:-1] + pstep/2\n",
    "pedge = pbin[:-1] + pstep\n",
    "#print(pedge1)\n",
    "\n",
    "print(\"sum of bins\", h[0]+h[1])\n",
    "#cut_region = sysval_gal[sysval_gal >= pedge1[10]]\n",
    "# pick edge of bin rather than center\n",
    "#print(cut_region.size)\n",
    "\n",
    "#want to compare the sum of dmass_chron[“WEIGHT”] in this region:\n",
    "mask1 = sysval_gal < pedge1[2]\n",
    "mask2 = sysval_gal != hp.UNSEEN\n",
    "#print(np.sum(mask1),np.sum(mask2))\n",
    "mask3 = sysval_gal < maximum\n",
    "mask4 = sysval_gal > minimum\n",
    "mask_tot = mask1&mask2&mask3&mask4\n",
    "#print(np.sum(mask_tot))\n",
    "cut_dmass = dmass_chron[mask_tot]\n",
    "cut_sum = sum(cut_dmass['WEIGHT'])\n",
    "\n",
    "print(cut_sum)\n",
    "\n",
    "# systematic value at galaxy location---\n",
    "#sysval_gal = x[dmass_chron['HPIX_4096']].copy()\n",
    "\n",
    "# In the histogram, each bin is the sum of the weights\n",
    "# sum the weights of objects with systematic above bin10: it will match"
   ]
  },
  {
   "cell_type": "code",
   "execution_count": 98,
   "id": "4c4297af-b700-48ec-9820-0e15017abf3b",
   "metadata": {},
   "outputs": [
    {
     "data": {
      "text/plain": [
       "Text(0.5, 1.0, 'pca24_ systematics check')"
      ]
     },
     "execution_count": 98,
     "metadata": {},
     "output_type": "execute_result"
    },
    {
     "data": {
      "image/png": "[encoded data removed]",
      "text/plain": [
       "<Figure size 432x288 with 1 Axes>"
      ]
     },
     "metadata": {
      "needs_background": "light"
     },
     "output_type": "display_data"
    }
   ],
   "source": [
    "pcenter_new = pcenter[2:]\n",
    "norm_number_density_new = norm_number_density[2:] # [:-1]\n",
    "fracerr_norm_new = fracerr_norm[2:]\n",
    "\n",
    "norm_number_density_ran_new = norm_number_density_ran[2:]\n",
    "fracerr_ran_norm_new = fracerr_ran_norm[2:]\n",
    "\n",
    "fig, ax = plt.subplots()\n",
    "ax.errorbar( pcenter_new, norm_number_density_new, yerr=fracerr_norm_new, label = \"dmass in validation\")\n",
    "ax.errorbar( pcenter_new, norm_number_density_ran_new, yerr=fracerr_ran_norm_new, label = \"randoms in validation\")\n",
    "plt.legend()\n",
    "xlabel = input_keyword\n",
    "plt.xlabel(xlabel)\n",
    "plt.ylabel(\"n_gal/n_tot 4096\")\n",
    "#plt.ylim(top=1.2)  # adjust the top leaving bottom unchanged\n",
    "#plt.ylim(bottom=0.85)\n",
    "plt.axhline(y=1, color='grey', linestyle='--')\n",
    "#    plt.title(xlabel+' systematic check')\n",
    "plt.title(xlabel+' systematics check')"
   ]
  },
  {
   "cell_type": "code",
   "execution_count": 99,
   "id": "1553a327-24f1-40c7-888b-953d87d31b6c",
   "metadata": {},
   "outputs": [
    {
     "name": "stdout",
     "output_type": "stream",
     "text": [
      "ran_chi2:  1.4090275989745196\n",
      "checking chi2 before correction:  3.5000887764157893\n",
      " \n",
      "-0.02601 x + 1.005\n",
      "linear trend_chi2:  3.413096427022916\n",
      "          2\n",
      "-0.05291 x + 0.003805 x + 1.025\n",
      "quadratic trend_chi2:  0.9717351190863706\n",
      "difference of chi2 between models:  20.502625582578734\n",
      "Linear fit is suitable for  pca24_\n"
     ]
    },
    {
     "data": {
      "image/png": "[encoded data removed]",
      "text/plain": [
       "<Figure size 432x288 with 1 Axes>"
      ]
     },
     "metadata": {
      "needs_background": "light"
     },
     "output_type": "display_data"
    },
    {
     "data": {
      "image/png": "[encoded data removed]",
      "text/plain": [
       "<Figure size 432x288 with 1 Axes>"
      ]
     },
     "metadata": {
      "needs_background": "light"
     },
     "output_type": "display_data"
    }
   ],
   "source": [
    "### errorbars taken into account with trends -- very important \n",
    "# weight option -- 1/err\n",
    "# Over slack\n",
    "\n",
    "ran_chi2, ran_chi2_reduced = chi2(norm_number_density_ran_new, 1, fracerr_ran_norm_new, 0)\n",
    "print('ran_chi2: ', ran_chi2_reduced)\n",
    "chi2_randoms.append(ran_chi2_reduced)\n",
    "    \n",
    "if sys_weights == True:\n",
    "    trend_chi2, trend_chi2_reduced = chi2(norm_number_density_new, 1, fracerr_norm_new, 0)\n",
    "    print('applied_sys_chi2: ', trend_chi2_reduced)\n",
    "    chi2_dmassf.append(trend_chi2_reduced)\n",
    "    \n",
    "if sys_weights == False:    \n",
    "    dmass_chi2, dmass_chi2_reduced = chi2(norm_number_density_new, 1, fracerr_norm_new, 0)\n",
    "    print('checking chi2 before correction: ', dmass_chi2_reduced)\n",
    "    chi2_dmassi.append(dmass_chi2_reduced)\n",
    "        \n",
    "    #trendline:\n",
    "    # fit to trend:\n",
    "    fig,ax = plt.subplots(1,1)\n",
    "    #linear trends first -- chi2 for higher order study --- check for threshold value (afterward)\n",
    "    z = np.polyfit(pcenter_new, norm_number_density_new, 1, w = 1/(fracerr_norm_new))\n",
    "    p = np.poly1d(z)\n",
    "\n",
    "    print(p)\n",
    "\n",
    "    ax.plot(pcenter_new,p(pcenter_new),\"r--\")\n",
    "    ax.errorbar( pcenter_new, norm_number_density_new, yerr=fracerr_norm_new, label = \"dmass in validation\")\n",
    "    plt.title(xlabel+' systematic linear trendline')\n",
    "    #fig.savefig(xlabel+'linear.pdf')\n",
    "\n",
    "    trend_chi2, trend_chi2_reduced = chi2(norm_number_density_new, p(pcenter_new), fracerr_norm_new, 2)\n",
    "\n",
    "    print('linear trend_chi2: ', trend_chi2_reduced)\n",
    "    chi2_trend1.append(trend_chi2_reduced)\n",
    "    \n",
    "# difference between sum(chi2) between models (free parameters-- 1 new, want more than 1 better in sum(chi2))\n",
    "\n",
    "    # second trendline:\n",
    "    # fit to trend:\n",
    "    fig,ax = plt.subplots(1,1)\n",
    "    #linear trends first -- chi2 for higher order study --- check for threshold value (afterward)\n",
    "    z2 = np.polyfit(pcenter_new, norm_number_density_new, 2, w = 1/fracerr_norm_new)\n",
    "    p2 = np.poly1d(z2)\n",
    "\n",
    "    print(p2)\n",
    "\n",
    "    ax.plot(pcenter_new,p2(pcenter_new),\"r--\")\n",
    "    ax.errorbar( pcenter_new, norm_number_density_new, yerr=fracerr_norm_new, label = \"dmass in validation\")\n",
    "    plt.title(xlabel+' systematic quadratic trendline')\n",
    "    #fig.savefig(xlabel+'quadratic.pdf')\n",
    "\n",
    "    trend2_chi2, trend2_chi2_reduced = chi2(norm_number_density_new, p2(pcenter_new), fracerr_norm_new, 3)\n",
    "    diff_chi2 = sum(trend_chi2)-sum(trend2_chi2)\n",
    "    print('quadratic trend_chi2: ', trend2_chi2_reduced)\n",
    "    chi2_trend2.append(trend2_chi2_reduced)\n",
    "\n",
    "    print(\"difference of chi2 between models: \", diff_chi2)\n",
    "    if diff_chi2 > 10000:\n",
    "        quadratic=True\n",
    "        linear = False\n",
    "        print(\"Quadratic is better fit for \", xlabel)\n",
    "        trend.append(1)\n",
    "    else:\n",
    "        linear=True\n",
    "        print(\"Linear fit is suitable for \", xlabel)\n",
    "        trend.append(0)"
   ]
  },
  {
   "cell_type": "code",
   "execution_count": 100,
   "id": "8e06f5d3-2683-47f6-adb2-8d42b03abac8",
   "metadata": {},
   "outputs": [
    {
     "name": "stdout",
     "output_type": "stream",
     "text": [
      "pca24_  NEEDS TO BE FLAGGED\n"
     ]
    }
   ],
   "source": [
    "# work on applying the weights to dmass:\n",
    "\n",
    "#linear:\n",
    "#weight_pixel = (1/p(sysMap[\"PIXEL\"]))\n",
    "minimum = np.percentile(sysMap['SIGNAL'][sysMap['SIGNAL']!=hp.UNSEEN], 1)\n",
    "maximum = np.percentile(sysMap['SIGNAL'][sysMap['SIGNAL']!=hp.UNSEEN], 99)\n",
    "pbin, pstep = np.linspace( minimum, maximum, 13, retstep=True)\n",
    "pcenter = pbin[:-1] + pstep/2\n",
    "pedge = pbin[:-1] + pstep\n",
    "\n",
    "if linear==True:\n",
    "#check chi2 first\n",
    "    chi2_ = np.linspace(0,30,100)\n",
    "    #### CHANGE THIS LINE DEPENDING ON HOW MANY DATA POINTS ARE REMOVED:\n",
    "    y = np.abs((100*(1.-scipy.stats.chi2(10).cdf(chi2_))-5.))  #for 5% p-value threshold\n",
    "    index = np.where(y == y.min())[0][0]\n",
    "    threshold = chi2_[index]\n",
    "    if sum(trend_chi2)>threshold:\n",
    "        print(xlabel, \" NEEDS TO BE FLAGGED\")\n",
    "            \n",
    "    #make sure object density stays the same\n",
    "    #TAKE OUT PROBLEMATIC GALAXIES\n",
    "    weight_object = (1/p(sysval_gal))\n",
    "    weight_object[sysval_gal == hp.UNSEEN] = 0\n",
    "    mask1 = sysval_gal < pedge1[2]\n",
    "    mask2 = sysval_gal < maximum\n",
    "    mask3 = sysval_gal > minimum\n",
    "    mass_t = mask1&mask2&mask3\n",
    "    weight_object[mass_t] = 0\n",
    "    avg = np.average(weight_object[weight_object!=0])\n",
    "#       print(avg)  # should be aprox. 1\n",
    "        # normalize density\n",
    "    weight_object = weight_object/avg\n",
    "        \n",
    "# quadratic:\n",
    "#use weight_pixel for galaxies taken out\n",
    "#weight_pixel = (1/p2(sysMap[\"PIXEL\"]))\n",
    "if quadratic==True:\n",
    "    #check chi2 first\n",
    "    chi2_ = np.linspace(0,30,100)\n",
    "    #### CHANGE THIS LINE DEPENDING ON HOW MANY DATA POINTS ARE REMOVED:\n",
    "    y = np.abs((100*(1.-scipy.stats.chi2(11).cdf(chi2_))-5.))  #for 5% p-value threshold****\n",
    "    index = np.where(y == y.min())[0][0]\n",
    "    threshold = chi2_[index]\n",
    "    if sum(trend2_chi2)>threshold:\n",
    "        print(xlabel, \" NEEDS TO BE FLAGGED\")\n",
    "                    \n",
    "    #make sure object density stays the same\n",
    "    #TAKE OUT PROBLEMATIC GALAXIES\n",
    "    weight_object = (1/p2(sysval_gal))\n",
    "    weight_object[sysval_gal == hp.UNSEEN] = 0\n",
    "    mask1 = sysval_gal > pedge1[9]\n",
    "    mask2 = sysval_gal < maximum\n",
    "    mask3 = sysval_gal > minimum\n",
    "    mass_t = mask1&mask2&mask3\n",
    "    weight_object[mass_t] = 0   \n",
    "    avg = np.average(weight_object[weight_object!=0])\n",
    "#          print(avg)  # should be aprox. 1\n",
    "    #normalize density\n",
    "    weight_object = weight_object/avg "
   ]
  },
  {
   "cell_type": "code",
   "execution_count": 17,
   "id": "a937ae7e-cf92-433c-9861-b9af27a1ba26",
   "metadata": {},
   "outputs": [
    {
     "name": "stdout",
     "output_type": "stream",
     "text": [
      "20246003\n",
      "68554\n",
      "20177449\n"
     ]
    }
   ],
   "source": [
    "# RUN THIS ONCE\n",
    "# modify GoldMask -- copy GoldMask into new -- sysMask with valid galaxies\n",
    "#GoldMask = LSSGoldmask for the first time\n",
    "\n",
    "# sysMap['PIXEL'], sysMap['SIGNAL']\n",
    "mask1 = sysMap['SIGNAL'] < pedge1[]\n",
    "mask2 = sysMap['SIGNAL'] != hp.UNSEEN\n",
    "mask3 = sysMap['SIGNAL'] < maximum\n",
    "mask4 = sysMap['SIGNAL'] > minimum\n",
    "mask_tot = mask1&mask2&mask3&mask4\n",
    "tossed_hpix = sysMap[mask_tot]\n",
    "\n",
    "New_GoldMask = LSSGoldmask.copy()\n",
    "New_GoldMask['PIXEL'] = hp.nest2ring(4096, New_GoldMask['PIXEL'])\n",
    "\n",
    "print(New_GoldMask.size)\n",
    "print(tossed_hpix['PIXEL'].size)\n",
    "\n",
    "New_GoldMask = New_GoldMask[~np.in1d(New_GoldMask['PIXEL'],tossed_hpix['PIXEL'])]\n",
    "print(New_GoldMask.size)\n",
    "\n",
    "outdir = '/fs/scratch/PCON0008/warner785/bwarner/'\n",
    "os.makedirs(outdir, exist_ok=True)\n",
    "esutil.io.write( outdir+xlabel+'New_GoldMask_lin.fits', New_GoldMask, overwrite=True)  "
   ]
  },
  {
   "cell_type": "code",
   "execution_count": 101,
   "id": "51bbf08b-9250-451a-8217-98da4dfc0098",
   "metadata": {},
   "outputs": [
    {
     "name": "stdout",
     "output_type": "stream",
     "text": [
      "20245921\n",
      "46276\n",
      "20245875\n"
     ]
    }
   ],
   "source": [
    "# FOR ALL BUT FIRST RUN:\n",
    "\n",
    "mask1 = sysMap['SIGNAL'] < pedge1[2]\n",
    "mask2 = sysMap['SIGNAL'] != hp.UNSEEN\n",
    "mask3 = sysMap['SIGNAL'] < maximum\n",
    "mask4 = sysMap['SIGNAL'] > minimum\n",
    "mask_tot = mask1&mask2&mask3&mask4\n",
    "tossed_hpix = sysMap[mask_tot]\n",
    "\n",
    "New_GoldMask = fitsio.read('/fs/scratch/PCON0008/warner785/bwarner/pca23_New_GoldMask_lin.fits')\n",
    "#New_GoldMask['PIXEL'] = hp.nest2ring(4096, New_GoldMask['PIXEL'])\n",
    "\n",
    "print(New_GoldMask.size)\n",
    "print(tossed_hpix['PIXEL'].size)\n",
    "\n",
    "New_GoldMask = New_GoldMask[~np.in1d(New_GoldMask['PIXEL'],tossed_hpix['PIXEL'])]\n",
    "print(New_GoldMask.size)\n",
    "\n",
    "outdir = '/fs/scratch/PCON0008/warner785/bwarner/'\n",
    "os.makedirs(outdir, exist_ok=True)\n",
    "esutil.io.write( outdir+xlabel+'New_GoldMask_lin.fits', New_GoldMask, overwrite=True) "
   ]
  },
  {
   "cell_type": "code",
   "execution_count": 20,
   "id": "9d24f7b3-3ca1-4d0e-ad3b-a26bade3a282",
   "metadata": {},
   "outputs": [
    {
     "name": "stdout",
     "output_type": "stream",
     "text": [
      "[False False False ... False False False]\n",
      "[ 91318094  91350862  91383630 ... 118007093 118007094 118023476]\n"
     ]
    }
   ],
   "source": [
    "#print(np.in1d(New_GoldMask['PIXEL'],tossed_hpix['PIXEL']))\n",
    "print(tossed_hpix['PIXEL'])"
   ]
  },
  {
   "cell_type": "code",
   "execution_count": 102,
   "id": "c414197f-7fbf-48fe-9f6f-5a660d3c15af",
   "metadata": {},
   "outputs": [],
   "source": [
    "dmass_chron = append_fields(dmass_chron, 'SYS_WEIGHT', weight_object, usemask=False)\n",
    "#        print(dmass_chron[\"SYS_WEIGHT\"], dmass_chron[\"SYS_WEIGHT\"].size)\n",
    "    \n",
    "outdir = '../output/test/train_cat/y3/'\n",
    "os.makedirs(outdir, exist_ok=True)\n",
    "esutil.io.write( outdir+xlabel+'dmass_sys_weight2_lin.fits', dmass_chron, overwrite=True)    "
   ]
  },
  {
   "cell_type": "code",
   "execution_count": 7,
   "id": "29216cea-7a2d-4a29-86b0-26f5967bbd22",
   "metadata": {},
   "outputs": [
    {
     "name": "stdout",
     "output_type": "stream",
     "text": [
      "[0.9057029782733329, 1.5073738043110143, 1.0736437038081252, 1.2542362125456188, 0.7206945841093119, 0.7208462261408911, 0.4387387617206869, 0.40034333580488307, 1.1288506574096915, 1.5257125106437013, 1.4708181191690877, 1.1117312568534121, 0.848142130481762, 0.856998989307614, 0.25451947872471675, 1.1526930832863431]\n",
      "[0.8340374852306002, 0.6835470836101109, 0.5610638753792837, 0.8552032693871207, 0.6843936842446044, 0.7800197311723185, 0.4115294228188106, 0.6005558455276164, 0.32815128104011093, 0.46721797183632846, 0.6017695617786005, 1.09880603668796, 0.5226407064863163, 0.4693261334973846, 0.891737356518504, 1.4896967983638978]\n"
     ]
    }
   ],
   "source": [
    "# checking where to keep systematic weights (threshold-wise):\n",
    "\n",
    "file_path = '/users/PCON0003/warner785/DMASSY3/code_py3/'\n",
    "\n",
    "with open(file_path + 'chi2_randoms_pca.txt') as randoms:\n",
    "#    w  = [float(x) for x in next(randoms).split()]\n",
    "    chi2_randoms = [float(x) for x in randoms]\n",
    "randoms.close()\n",
    "\n",
    "with open(file_path + 'chi2_dmassf_pca_ALL.txt') as dmass:\n",
    "#    w  = [float(x) for x in next(dmass).split()]\n",
    "    chi2_dmass = [float(x) for x in dmass]\n",
    "dmass.close()\n",
    "\n",
    "with open(file_path + 'chi2_dmassf_pca50.txt') as dmassi:\n",
    "    chi2_dmassi = [float(x) for x in dmassi]\n",
    "dmassi.close()\n",
    "    \n",
    "print(chi2_randoms)\n",
    "print(chi2_dmass)"
   ]
  },
  {
   "cell_type": "code",
   "execution_count": 2,
   "id": "b652ad3e-5f7a-49a4-8959-e9c497b60a35",
   "metadata": {},
   "outputs": [
    {
     "ename": "NameError",
     "evalue": "name 'np' is not defined",
     "output_type": "error",
     "traceback": [
      "\u001b[0;31m---------------------------------------------------------------------------\u001b[0m",
      "\u001b[0;31mNameError\u001b[0m                                 Traceback (most recent call last)",
      "\u001b[0;32m<ipython-input-2-dbf2b29fbc20>\u001b[0m in \u001b[0;36m<module>\u001b[0;34m\u001b[0m\n\u001b[0;32m----> 1\u001b[0;31m \u001b[0mprint\u001b[0m\u001b[0;34m(\u001b[0m\u001b[0mnp\u001b[0m\u001b[0;34m.\u001b[0m\u001b[0mmax\u001b[0m\u001b[0;34m(\u001b[0m\u001b[0mchi2_randoms\u001b[0m\u001b[0;34m)\u001b[0m\u001b[0;34m)\u001b[0m\u001b[0;34m\u001b[0m\u001b[0m\n\u001b[0m\u001b[1;32m      2\u001b[0m \u001b[0mthreshold\u001b[0m \u001b[0;34m=\u001b[0m \u001b[0;34m[\u001b[0m\u001b[0;34m]\u001b[0m\u001b[0;34m\u001b[0m\u001b[0m\n\u001b[1;32m      3\u001b[0m \u001b[0mpaper\u001b[0m \u001b[0;34m=\u001b[0m \u001b[0;34m[\u001b[0m\u001b[0;34m]\u001b[0m\u001b[0;34m\u001b[0m\u001b[0m\n\u001b[1;32m      4\u001b[0m \u001b[0;32mfor\u001b[0m \u001b[0mx\u001b[0m \u001b[0;32min\u001b[0m \u001b[0mrange\u001b[0m\u001b[0;34m(\u001b[0m\u001b[0;36m50\u001b[0m\u001b[0;34m)\u001b[0m\u001b[0;34m:\u001b[0m\u001b[0;34m\u001b[0m\u001b[0m\n\u001b[1;32m      5\u001b[0m     \u001b[0mthreshold\u001b[0m\u001b[0;34m.\u001b[0m\u001b[0mappend\u001b[0m\u001b[0;34m(\u001b[0m\u001b[0mnp\u001b[0m\u001b[0;34m.\u001b[0m\u001b[0mmax\u001b[0m\u001b[0;34m(\u001b[0m\u001b[0mchi2_randoms\u001b[0m\u001b[0;34m)\u001b[0m\u001b[0;34m)\u001b[0m\u001b[0;34m\u001b[0m\u001b[0m\n",
      "\u001b[0;31mNameError\u001b[0m: name 'np' is not defined"
     ]
    }
   ],
   "source": [
    "print(np.max(chi2_randoms))\n",
    "threshold = []\n",
    "paper = []\n",
    "for x in range(50):\n",
    "    threshold.append(np.max(chi2_randoms))\n",
    "    paper.append(2)\n",
    "#print(threshold)"
   ]
  },
  {
   "cell_type": "code",
   "execution_count": 8,
   "id": "efb85afd-fbbd-4b40-98c0-320df39e4ddc",
   "metadata": {},
   "outputs": [
    {
     "data": {
      "image/png": "[encoded data removed]",
      "text/plain": [
       "<Figure size 432x288 with 1 Axes>"
      ]
     },
     "metadata": {
      "needs_background": "light"
     },
     "output_type": "display_data"
    }
   ],
   "source": [
    "import matplotlib.pyplot as plt\n",
    "\n",
    "plt.plot(chi2_randoms, color='red', marker='.')\n",
    "plt.plot(chi2_dmass, color='blue', marker='.')\n",
    "plt.plot(chi2_dmassi, marker='.')\n",
    "#plt.plot(threshold, color='grey', marker='_')\n",
    "#plt.plot(paper, color='black', marker='_')\n",
    "plt.ylabel('chi2 value') \n",
    "plt.xlabel('SP map')\n",
    "plt.title(\"Variation of chi2\") \n",
    "plt.show()"
   ]
  },
  {
   "cell_type": "code",
   "execution_count": 8,
   "id": "b0ed65c0-2f17-4b69-afc6-7b162f4258fd",
   "metadata": {},
   "outputs": [
    {
     "name": "stdout",
     "output_type": "stream",
     "text": [
      "1 2.1596245082536574\n",
      "2 2.098512105719195\n",
      "3 2.639228812133014\n",
      "4 2.134139079289058\n",
      "5 3.2858923334051258\n",
      "6 2.1804382219647107\n",
      "11 3.4894659211287293\n"
     ]
    }
   ],
   "source": [
    "#pca_corrected = [1, 3, 30]\n",
    "#print(chi2_dmass)\n",
    "#update_chi2 = np.delete(chi2_dmass,pca_corrected)\n",
    "#print(update_chi2)\n",
    "for x in range(len(chi2_dmass)):\n",
    "    if chi2_dmass[x]>2:\n",
    "        print(x, chi2_dmass[x])   "
   ]
  },
  {
   "cell_type": "code",
   "execution_count": 19,
   "id": "0e8d168f-63e9-4b6e-9ee2-252f093af817",
   "metadata": {},
   "outputs": [
    {
     "name": "stdout",
     "output_type": "stream",
     "text": [
      "the maximum difference is:  4.180760657709298 which is PCA 21\n"
     ]
    }
   ],
   "source": [
    "maximum = np.max(chi2_dmass)\n",
    "for x in range(len(chi2_dmass)):\n",
    "    if chi2_dmass[x] == maximum:\n",
    "        PCA = x\n",
    "      \n",
    "print(\"the maximum difference is: \", np.max(chi2_dmass), \"which is PCA\", PCA)\n",
    "\n",
    "#1, 15, 21, 30, 24"
   ]
  },
  {
   "cell_type": "code",
   "execution_count": 21,
   "id": "9435f8ad-a66d-49b3-b223-8f3958a56e19",
   "metadata": {},
   "outputs": [],
   "source": [
    "# ONE WEIGHT AT A TIME\n",
    "\n",
    "# Apply Systematics into one weight\n",
    "\n",
    "keyword_template = 'pca{0}_'\n",
    "dmass_chron = fitsio.read('/fs/scratch/PCON0008/warner785/bwarner/'+'pca1_'+'dmass_sys_weight_pca.fits')\n",
    "norm_weight1 = 1\n",
    "#norm_weight1 = np.mean(dmass_chron['SYS_WEIGHT'][dmass_chron['SYS_WEIGHT']!=0])\n",
    "full_dmass_sysweights = dmass_chron['SYS_WEIGHT']/norm_weight1"
   ]
  },
  {
   "cell_type": "code",
   "execution_count": 7,
   "id": "d55cf5a8-0402-42b9-8e60-c1d394c601ce",
   "metadata": {},
   "outputs": [
    {
     "name": "stdout",
     "output_type": "stream",
     "text": [
      "2740075\n",
      "1\n",
      "5\n",
      "pc5_\n",
      "10\n",
      "pc10_\n",
      "14\n",
      "pc14_\n",
      "18\n",
      "pc18_\n",
      "25\n",
      "pc25_\n",
      "29\n",
      "pc29_\n"
     ]
    }
   ],
   "source": [
    "# Apply Systematics into one weight----MOST UPDATED****\n",
    "\n",
    "keyword_template = 'pc{0}_'\n",
    "dmass_chron = fitsio.read('/fs/scratch/PCON0008/warner785/bwarner/'+'pc1_'+'dmass_sys_weight_pca.fits')\n",
    "norm_weight1 = 1\n",
    "#norm_weight1 = np.mean(dmass_chron['SYS_WEIGHT'][dmass_chron['SYS_WEIGHT']!=0])\n",
    "dmass_chron_i = dmass_chron['SYS_WEIGHT']/norm_weight1\n",
    "print(dmass_chron_i.size)\n",
    "for x in range(50): #50\n",
    "    if chi2_dmass[x]>2:\n",
    "        print(x)\n",
    "        if x!=1:\n",
    "            input_keyword = keyword_template.format(x)\n",
    "            print(input_keyword)\n",
    "            dmass_chron = fitsio.read('/fs/scratch/PCON0008/warner785/bwarner/'+input_keyword+'dmass_sys_weight_pca.fits')\n",
    "            norm_weight = 1\n",
    "            #norm_weight = np.mean(dmass_chron['SYS_WEIGHT'][dmass_chron['SYS_WEIGHT']!=0])\n",
    "            full_dmass_sysweights = (dmass_chron['SYS_WEIGHT']/norm_weight)*dmass_chron_i\n",
    "            dmass_chron_i = full_dmass_sysweights"
   ]
  },
  {
   "cell_type": "code",
   "execution_count": 2,
   "id": "e94f399e-c878-4795-ba0c-67067b44fc01",
   "metadata": {},
   "outputs": [
    {
     "name": "stdout",
     "output_type": "stream",
     "text": [
      "2740075\n",
      "pca1_\n",
      "pca2_\n",
      "pca3_\n",
      "pca4_\n",
      "pca5_\n",
      "pca6_\n",
      "pca7_\n",
      "pca8_\n",
      "pca9_\n",
      "pca10_\n",
      "pca11_\n",
      "pca12_\n",
      "pca13_\n",
      "pca14_\n",
      "pca15_\n",
      "pca16_\n",
      "pca17_\n",
      "pca18_\n",
      "pca19_\n",
      "pca20_\n",
      "pca21_\n",
      "pca22_\n",
      "pca23_\n",
      "pca24_\n",
      "pca25_\n",
      "pca26_\n",
      "pca27_\n",
      "pca28_\n",
      "pca29_\n",
      "pca30_\n",
      "pca31_\n",
      "pca32_\n",
      "pca33_\n",
      "pca34_\n",
      "pca35_\n",
      "pca36_\n",
      "pca37_\n",
      "pca38_\n",
      "pca39_\n",
      "pca40_\n",
      "pca41_\n",
      "pca42_\n",
      "pca43_\n",
      "pca44_\n",
      "pca45_\n",
      "pca46_\n",
      "pca47_\n",
      "pca48_\n",
      "pca49_\n"
     ]
    }
   ],
   "source": [
    "# ALL WEIGHTS\n",
    "\n",
    "# Apply Systematics into one weight\n",
    "\n",
    "keyword_template = 'pca{0}_'\n",
    "dmass_chron = fitsio.read('/fs/scratch/PCON0008/warner785/bwarner/'+'pca0_'+'dmass_sys_weight_comp_lin.fits')\n",
    "norm_weight1 = 1\n",
    "#norm_weight1 = np.mean(dmass_chron['SYS_WEIGHT'][dmass_chron['SYS_WEIGHT']!=0])\n",
    "dmass_chron_i = dmass_chron['SYS_WEIGHT']/norm_weight1\n",
    "print(dmass_chron_i.size)\n",
    "for x in range(50): #50\n",
    "    if x!=0:\n",
    "        input_keyword = keyword_template.format(x)\n",
    "        print(input_keyword)\n",
    "        dmass_chron = fitsio.read('/fs/scratch/PCON0008/warner785/bwarner/'+input_keyword+'dmass_sys_weight_comp_lin.fits')\n",
    "        norm_weight = 1\n",
    "        #norm_weight = np.mean(dmass_chron['SYS_WEIGHT'][dmass_chron['SYS_WEIGHT']!=0])\n",
    "        full_dmass_sysweights = (dmass_chron['SYS_WEIGHT']/norm_weight)*dmass_chron_i\n",
    "        dmass_chron_i = full_dmass_sysweights"
   ]
  },
  {
   "cell_type": "code",
   "execution_count": 104,
   "id": "7fcbd13f-2bf8-4357-8f10-5827e8c59560",
   "metadata": {},
   "outputs": [
    {
     "name": "stdout",
     "output_type": "stream",
     "text": [
      "pca1_\n",
      "pca19_\n",
      "pca23_\n",
      "pca24_\n"
     ]
    }
   ],
   "source": [
    "# reapplied weights:\n",
    "i_pca = 1\n",
    "for x in range(25):\n",
    "#    if i_pca==1 or i_pca==21 or i_pca==48:\n",
    "    if i_pca == 1 or i_pca==19 or i_pca==23 or i_pca==24:\n",
    "        input_keyword = keyword_template.format(i_pca)\n",
    "        print(input_keyword)\n",
    "        dmass_chron = fitsio.read('../output/test/train_cat/y3/'+input_keyword+'dmass_sys_weight2_lin.fits')\n",
    "        norm_weight = 1\n",
    "        #norm_weight = np.mean(dmass_chron['SYS_WEIGHT'][dmass_chron['SYS_WEIGHT']!=0])\n",
    "        full_dmass_sysweights = (dmass_chron['SYS_WEIGHT']/norm_weight)*dmass_chron_i\n",
    "        dmass_chron_i = full_dmass_sysweights\n",
    "    i_pca+=1"
   ]
  },
  {
   "cell_type": "code",
   "execution_count": 7,
   "id": "fd9c3a18-44ed-4e93-bc38-29560ff89c40",
   "metadata": {},
   "outputs": [
    {
     "data": {
      "text/plain": [
       "(array([1.000000e+01, 1.200000e+02, 1.590000e+02, 2.520000e+02,\n",
       "        2.760000e+02, 5.320000e+02, 2.340000e+03, 8.073000e+03,\n",
       "        6.674800e+04, 2.572337e+06]),\n",
       " array([0.29184702, 0.36408455, 0.43632209, 0.50855962, 0.58079715,\n",
       "        0.65303469, 0.72527222, 0.79750975, 0.86974729, 0.94198482,\n",
       "        1.01422235]),\n",
       " <a list of 10 Patch objects>)"
      ]
     },
     "execution_count": 7,
     "metadata": {},
     "output_type": "execute_result"
    },
    {
     "data": {
      "image/png": "[encoded data removed]",
      "text/plain": [
       "<Figure size 432x288 with 1 Axes>"
      ]
     },
     "metadata": {
      "needs_background": "light"
     },
     "output_type": "display_data"
    }
   ],
   "source": [
    "fig, ax = plt.subplots()\n",
    "ax.hist(dmass_chron['SYS_WEIGHT'][dmass_chron['SYS_WEIGHT']!=0])"
   ]
  },
  {
   "cell_type": "code",
   "execution_count": 9,
   "id": "4635fc8b-b2a5-4252-9552-87c91c63cd03",
   "metadata": {},
   "outputs": [
    {
     "name": "stdout",
     "output_type": "stream",
     "text": [
      "[1.14074246 1.14398117 1.06999519 ... 1.10247186 1.10503148 1.10996086]\n"
     ]
    }
   ],
   "source": [
    "print(full_dmass_sysweights)\n",
    "\n",
    "#fig, ax = plt.subplots()\n",
    "#ax.hist(full_dmass_sysweights[full_dmass_sysweights!=0])\n",
    "\n",
    "dmass_chron['SYS_WEIGHT'] = full_dmass_sysweights\n",
    "outdir = '/fs/scratch/PCON0008/warner785/bwarner/'\n",
    "os.makedirs(outdir, exist_ok=True)\n",
    "esutil.io.write( outdir+'dmass_sys_weight_pca50.fits', dmass_chron, overwrite=True)"
   ]
  },
  {
   "cell_type": "code",
   "execution_count": 10,
   "id": "9d1cf2f4-6e0c-46d8-8411-75743cd9f80a",
   "metadata": {},
   "outputs": [
    {
     "name": "stdout",
     "output_type": "stream",
     "text": [
      "0.9995770611858648\n"
     ]
    }
   ],
   "source": [
    "print(np.mean(full_dmass_sysweights))"
   ]
  },
  {
   "cell_type": "code",
   "execution_count": 76,
   "id": "6323778b-600f-410f-88a5-264ad257604e",
   "metadata": {},
   "outputs": [
    {
     "name": "stdout",
     "output_type": "stream",
     "text": [
      "[0.         0.         1.01969432 ... 1.13715762 1.07799877 1.0740174 ]\n"
     ]
    }
   ],
   "source": [
    "print(full_dmass_sysweights)"
   ]
  },
  {
   "cell_type": "code",
   "execution_count": 22,
   "id": "d2bc295d-5192-495b-a1ec-640c31a9eb5e",
   "metadata": {},
   "outputs": [
    {
     "data": {
      "text/plain": [
       "(array([2.440676e+06, 6.802700e+04, 3.152000e+04, 1.963700e+04,\n",
       "        1.390800e+04, 1.048100e+04, 8.649000e+03, 6.918000e+03,\n",
       "        6.050000e+03, 5.171000e+03, 4.684000e+03, 4.106000e+03,\n",
       "        3.741000e+03, 3.346000e+03, 3.018000e+03, 2.783000e+03,\n",
       "        2.606000e+03, 2.397000e+03, 2.281000e+03, 2.088000e+03,\n",
       "        1.970000e+03, 1.838000e+03, 1.760000e+03, 1.605000e+03,\n",
       "        1.605000e+03, 1.481000e+03, 1.437000e+03, 1.287000e+03,\n",
       "        1.264000e+03, 1.209000e+03]),\n",
       " array([0.        , 0.00166667, 0.00333333, 0.005     , 0.00666667,\n",
       "        0.00833333, 0.01      , 0.01166667, 0.01333333, 0.015     ,\n",
       "        0.01666667, 0.01833333, 0.02      , 0.02166667, 0.02333333,\n",
       "        0.025     , 0.02666667, 0.02833333, 0.03      , 0.03166667,\n",
       "        0.03333333, 0.035     , 0.03666667, 0.03833333, 0.04      ,\n",
       "        0.04166667, 0.04333333, 0.045     , 0.04666667, 0.04833333,\n",
       "        0.05      ]),\n",
       " <a list of 30 Patch objects>)"
      ]
     },
     "execution_count": 22,
     "metadata": {},
     "output_type": "execute_result"
    },
    {
     "data": {
      "image/png": "[encoded data removed]",
      "text/plain": [
       "<Figure size 432x288 with 1 Axes>"
      ]
     },
     "metadata": {
      "needs_background": "light"
     },
     "output_type": "display_data"
    }
   ],
   "source": [
    "fig, ax = plt.subplots()\n",
    "ax.hist(dmass_chron['WEIGHT'], range = (0,0.05), bins = 30)\n",
    "\n",
    "# what fraction of objects in ~ 0.01 etc"
   ]
  },
  {
   "cell_type": "code",
   "execution_count": null,
   "id": "b255f3ed-29d5-45e5-88d2-510b4c807364",
   "metadata": {},
   "outputs": [],
   "source": [
    "# weights\n",
    "# total weighted number of DMASS (training) and CMASS in training\n",
    "#dmass_chron[\"WEIGHT\"]*dmass_chron[\"SYS_WEIGHT\"]"
   ]
  }
 ],
 "metadata": {
  "kernelspec": {
   "display_name": "Python (DES_env)",
   "language": "python",
   "name": "des_env"
  },
  "language_info": {
   "codemirror_mode": {
    "name": "ipython",
    "version": 3
   },
   "file_extension": ".py",
   "mimetype": "text/x-python",
   "name": "python",
   "nbconvert_exporter": "python",
   "pygments_lexer": "ipython3",
   "version": "3.7.0"
  }
 },
 "nbformat": 4,
 "nbformat_minor": 5
}
