{
 "cells": [
  {
   "cell_type": "code",
   "execution_count": 4,
   "id": "4cba5e5b-b224-4989-be43-09247e58f167",
   "metadata": {},
   "outputs": [
    {
     "name": "stdout",
     "output_type": "stream",
     "text": [
      "The autoreload extension is already loaded. To reload it, use:\n",
      "  %reload_ext autoreload\n",
      "/users/PCON0003/warner785/DMASS-analysis/measurements/code_py3\n",
      "\n",
      "XTENSION= 'BINTABLE'           / binary table extension\n",
      "BITPIX  =                    8 / 8-bit bytes\n",
      "NAXIS   =                    2 / 2-dimensional binary table\n",
      "NAXIS1  =                    8 / width of table in bytes\n",
      "NAXIS2  =            201326592 / number of rows in table\n",
      "PCOUNT  =                    0 / size of special data area\n",
      "GCOUNT  =                    1 / one data group (required keyword)\n",
      "TFIELDS =                    1 / number of fields in each row\n",
      "TTYPE1  = 'I'                  / label for field   1\n",
      "TFORM1  = 'D'                  / data format of field: 8-byte DOUBLE\n"
     ]
    }
   ],
   "source": [
    "import os, sys\n",
    "import healpy as hp\n",
    "import numpy as np\n",
    "\n",
    "sys.path.append('../../')\n",
    "sys.path.append('/DMASS-analysis/measurements/code_py3/')\n",
    "\n",
    "import esutil\n",
    "import matplotlib.pyplot as plt\n",
    "%matplotlib inline\n",
    "\n",
    "%load_ext autoreload\n",
    "%autoreload 2\n",
    "\n",
    "from utils import *\n",
    "\n",
    "from matplotlib import rc\n",
    "rc('font',**{'family':'sans-serif','sans-serif':['Helvetica']})\n",
    "## for Palatino and other serif fonts use:\n",
    "#rc('font',**{'family':'serif','serif':['Palatino']})\n",
    "rc('text', usetex=True)\n",
    "\n",
    "os.chdir('/users/PCON0003/warner785/DMASS-analysis/measurements/code_py3/')\n",
    "print(os.getcwd())\n",
    "\n",
    "from calling_catalogs import *\n",
    "from sys_functions import *\n",
    "\n",
    "rootdir = '/users/PCON0003/warner785/DMASS-analysis/measurements/clustering/'\n",
    "\n",
    "from ggl_mcal import run_ng_jk, run_nn_jk, run_nk_jk, compute_eix_jk, compute_Rgamma_jk, construct_jk, compute_jkcov, save_results\n",
    "\n",
    "sysMap = fitsio.read('/fs/scratch/PCON0008/warner785/bwarner/PCA/stars/stars_extmashsof0_16_20_zeros_footprint_nside_4096_nest.fits.gz')\n",
    "f = fitsio.FITS('/fs/scratch/PCON0008/warner785/bwarner/PCA/stars/stars_extmashsof0_16_20_zeros_footprint_nside_4096_nest.fits.gz')\n",
    "h = f[-1].read_header()\n",
    "print(h)"
   ]
  },
  {
   "cell_type": "code",
   "execution_count": 10,
   "id": "c823d1fe-b45f-4a2d-a1a2-5bd60305b1f4",
   "metadata": {},
   "outputs": [
    {
     "name": "stdout",
     "output_type": "stream",
     "text": [
      "(201326592,)\n",
      "(201326592,)\n",
      "None\n",
      "8210508\n"
     ]
    },
    {
     "data": {
      "image/png": "[encoded data removed]",
      "text/plain": [
       "<Figure size 612x388.8 with 2 Axes>"
      ]
     },
     "metadata": {
      "needs_background": "light"
     },
     "output_type": "display_data"
    }
   ],
   "source": [
    "print(sysMap.shape)\n",
    "flat = sysMap['I'].flatten()\n",
    "print(sysMap.shape)\n",
    "print(hp.visufunc.mollview(flat))\n",
    "\n",
    "unseen = flat[flat != hp.UNSEEN]\n",
    "print(unseen[unseen != 0].size)"
   ]
  },
  {
   "cell_type": "code",
   "execution_count": null,
   "id": "1b280476-fa2e-4571-9cac-9c6af2bcb584",
   "metadata": {},
   "outputs": [
    {
     "name": "stderr",
     "output_type": "stream",
     "text": [
      "WARNING: AstroMLDeprecationWarning: 'decorators' has been moved to 'astroML.utils' and will be removed from the main namespace in the future. [astroML.decorators]\n",
      "In /users/PCON0003/warner785/.conda/envs/DES_env/lib/python3.7/site-packages/matplotlib/mpl-data/stylelib/_classic_test.mplstyle: \n",
      "The savefig.frameon rcparam was deprecated in Matplotlib 3.1 and will be removed in 3.3.\n",
      "In /users/PCON0003/warner785/.conda/envs/DES_env/lib/python3.7/site-packages/matplotlib/mpl-data/stylelib/_classic_test.mplstyle: \n",
      "The verbose.level rcparam was deprecated in Matplotlib 3.1 and will be removed in 3.3.\n",
      "In /users/PCON0003/warner785/.conda/envs/DES_env/lib/python3.7/site-packages/matplotlib/mpl-data/stylelib/_classic_test.mplstyle: \n",
      "The verbose.fileo rcparam was deprecated in Matplotlib 3.1 and will be removed in 3.3.\n"
     ]
    },
    {
     "name": "stdout",
     "output_type": "stream",
     "text": [
      "/users/PCON0003/warner785/DMASS_XDGMM/code_py3\n"
     ]
    }
   ],
   "source": [
    "import os, sys\n",
    "import esutil\n",
    "import healpy as hp\n",
    "import numpy as np\n",
    "import fitsio\n",
    "sys.path.append('../')\n",
    "from xd import *\n",
    "from run_DMASS_Y3 import *\n",
    "from utils import *\n",
    "import healpy as hp\n",
    "from systematics import *\n",
    "from cmass_modules import io\n",
    "os.chdir('../../DMASS_XDGMM/code_py3/')\n",
    "print(os.getcwd())\n",
    "from xdgmm import XDGMM as XDGMM_Holoien\n",
    "os.chdir('../../DMASSY3/code_py3/')\n",
    "print(os.getcwd())\n",
    "\n",
    "gold_spt = fitsio.read('/fs/scratch/PCON0008/warner785/bwarner/'+'cardinal.fits')"
   ]
  },
  {
   "cell_type": "code",
   "execution_count": 3,
   "id": "3e84c4ce-65ad-4105-8dfb-6059c0f24b4e",
   "metadata": {},
   "outputs": [],
   "source": [
    "def keepGoodRegion(des, hpInd = False, balrog=None):\n",
    "    import healpy as hp\n",
    "    import fitsio\n",
    "    # 25 is the faintest object detected by DES\n",
    "    # objects larger than 25 considered as Noise\n",
    "    \n",
    "    path = '/fs/scratch/PCON0008/warner785/bwarner/'\n",
    "    #LSSGoldmask = fitsio.read(path+'Y1LSSmask_v2_il22_seeil4.0_nside4096ring_redlimcut.fits')\n",
    "    #LSSGoldmask = fitsio.read(path+'Y1LSSmask_v1_il22seeil4.04096ring_redlimcut.fits')\n",
    "    LSSGoldmask = fitsio.read(path+'MASK_Y3LSSBAOSOF_22_3_v2p2.fits')\n",
    "    ringhp = hp.nest2ring(4096, [LSSGoldmask['PIXEL']])\n",
    "    #Y1LSSmask_v1_il22seeil4.04096ring_redlimcut.fits\n",
    "    #frac_cut = LSSGoldmask['FRAC'] > 0.8\n",
    "    #ind_good_ring = LSSGoldmask['PIXEL'][frac_cut]\n",
    "    ind_good_ring = ringhp\n",
    "    \n",
    "    # healpixify the catalog.\n",
    "    nside=4096\n",
    "    # Convert silly ra/dec to silly HP angular coordinates.\n",
    "    phi = des['RA'] * np.pi / 180.0\n",
    "    theta = ( 90.0 - des['DEC'] ) * np.pi/180.0\n",
    "\n",
    "    hpInd = hp.ang2pix(nside,theta,phi,nest=False)\n",
    "    keep = np.in1d(hpInd, ind_good_ring)\n",
    "    des = des[keep]\n",
    "    if hpInd is True:\n",
    "        return ind_good_ring\n",
    "    else:\n",
    "        return des"
   ]
  },
  {
   "cell_type": "code",
   "execution_count": 4,
   "id": "cac97a0a-df92-40f7-a9fc-61a65681eecf",
   "metadata": {},
   "outputs": [
    {
     "name": "stdout",
     "output_type": "stream",
     "text": [
      "43785812\n",
      "38284875\n"
     ]
    }
   ],
   "source": [
    "mask_magcut = priorCut_test(gold_spt)\n",
    "gold_spt = gold_spt[mask_magcut]\n",
    "print(gold_spt.size)    \n",
    "gold_spt = keepGoodRegion(gold_spt)\n",
    "print(gold_spt.size)"
   ]
  },
  {
   "cell_type": "code",
   "execution_count": 5,
   "id": "51b2ce81-0de1-42b9-bf6e-ee08c15f2340",
   "metadata": {},
   "outputs": [],
   "source": [
    "#save fits file:\n",
    "outdir = '/fs/scratch/PCON0008/warner785/bwarner/'\n",
    "os.makedirs(outdir, exist_ok=True)\n",
    "esutil.io.write(outdir+'cardinal_masked.fits', gold_spt, overwrite=True)"
   ]
  },
  {
   "cell_type": "code",
   "execution_count": 4,
   "id": "b1a097f2-89f5-4adf-bd2b-a148ce17cb52",
   "metadata": {},
   "outputs": [
    {
     "name": "stdout",
     "output_type": "stream",
     "text": [
      "2.340824920565865e-07\n",
      "-67.44583892822266\n"
     ]
    }
   ],
   "source": [
    "#fig, ax = plt.subplots()\n",
    "print(np.min(gold_spt['RA']))\n",
    "print(np.min(gold_spt['DEC']))"
   ]
  },
  {
   "cell_type": "code",
   "execution_count": 7,
   "id": "638ff7b2-e866-4753-a0be-c53e3e26c1f4",
   "metadata": {},
   "outputs": [
    {
     "name": "stdout",
     "output_type": "stream",
     "text": [
      "1399546088\n"
     ]
    }
   ],
   "source": [
    "print(gold_spt['RA'].size)"
   ]
  },
  {
   "cell_type": "code",
   "execution_count": 1,
   "id": "c6aa2d52-4002-47e2-8846-8c01fd71d8fc",
   "metadata": {},
   "outputs": [
    {
     "name": "stderr",
     "output_type": "stream",
     "text": [
      "WARNING: AstroMLDeprecationWarning: 'decorators' has been moved to 'astroML.utils' and will be removed from the main namespace in the future. [astroML.decorators]\n",
      "In /users/PCON0003/warner785/.conda/envs/DES_env/lib/python3.7/site-packages/matplotlib/mpl-data/stylelib/_classic_test.mplstyle: \n",
      "The savefig.frameon rcparam was deprecated in Matplotlib 3.1 and will be removed in 3.3.\n",
      "In /users/PCON0003/warner785/.conda/envs/DES_env/lib/python3.7/site-packages/matplotlib/mpl-data/stylelib/_classic_test.mplstyle: \n",
      "The verbose.level rcparam was deprecated in Matplotlib 3.1 and will be removed in 3.3.\n",
      "In /users/PCON0003/warner785/.conda/envs/DES_env/lib/python3.7/site-packages/matplotlib/mpl-data/stylelib/_classic_test.mplstyle: \n",
      "The verbose.fileo rcparam was deprecated in Matplotlib 3.1 and will be removed in 3.3.\n"
     ]
    },
    {
     "name": "stdout",
     "output_type": "stream",
     "text": [
      "/users/PCON0003/warner785/DMASS_XDGMM/code_py3\n",
      "/users/PCON0003/warner785/DMASSY3/code_py3\n",
      "\n",
      "Calling catalogs >>>\n",
      "dmass_cardinal_0.fits\n",
      "dmass_cardinal_6.fits\n",
      "dmass_cardinal_4.fits\n",
      "dmass_cardinal_9.fits\n",
      "dmass_cardinal_1.fits\n",
      "dmass_cardinal_2.fits\n",
      "dmass_cardinal_7.fits\n",
      "dmass_cardinal_8.fits\n",
      "dmass_cardinal_3.fits\n",
      "dmass_cardinal_5.fits\n",
      "reading 1/10 /fs/scratch/PCON0008/warner785/bwarner/dmass_cardinal_0.fits\n",
      "reading 2/10 /fs/scratch/PCON0008/warner785/bwarner/dmass_cardinal_6.fits\n",
      "reading 3/10 /fs/scratch/PCON0008/warner785/bwarner/dmass_cardinal_4.fits\n",
      "reading 4/10 /fs/scratch/PCON0008/warner785/bwarner/dmass_cardinal_9.fits\n",
      "reading 5/10 /fs/scratch/PCON0008/warner785/bwarner/dmass_cardinal_1.fits\n",
      "reading 6/10 /fs/scratch/PCON0008/warner785/bwarner/dmass_cardinal_2.fits\n",
      "reading 7/10 /fs/scratch/PCON0008/warner785/bwarner/dmass_cardinal_7.fits\n",
      "reading 8/10 /fs/scratch/PCON0008/warner785/bwarner/dmass_cardinal_8.fits\n",
      "reading 9/10 /fs/scratch/PCON0008/warner785/bwarner/dmass_cardinal_3.fits\n",
      "reading 10/10 /fs/scratch/PCON0008/warner785/bwarner/dmass_cardinal_5.fits\n"
     ]
    }
   ],
   "source": [
    "import os, sys\n",
    "import esutil\n",
    "import healpy as hp\n",
    "import numpy as np\n",
    "import fitsio\n",
    "sys.path.append('../')\n",
    "from xd import *\n",
    "from run_DMASS_Y3 import *\n",
    "from utils import *\n",
    "import healpy as hp\n",
    "from systematics import *\n",
    "from cmass_modules import io\n",
    "os.chdir('../../DMASS_XDGMM/code_py3/')\n",
    "print(os.getcwd())\n",
    "from xdgmm import XDGMM as XDGMM_Holoien\n",
    "os.chdir('../../DMASSY3/code_py3/')\n",
    "print(os.getcwd())\n",
    "\n",
    "input_path = '/fs/scratch/PCON0008/warner785/bwarner/'\n",
    "input_keyword = 'dmass_cardinal_'\n",
    "\n",
    "dmass_card = io.SearchAndCallFits(path = input_path, keyword = input_keyword)"
   ]
  },
  {
   "cell_type": "code",
   "execution_count": 2,
   "id": "772f02b0-d4e6-40c9-ade7-be2f4f894d5f",
   "metadata": {},
   "outputs": [],
   "source": [
    "outdir = '/fs/scratch/PCON0008/warner785/bwarner/'\n",
    "os.makedirs(outdir, exist_ok=True)\n",
    "esutil.io.write( outdir+'dmass_cardinal_FULL.fits', dmass_card, overwrite=True)"
   ]
  },
  {
   "cell_type": "code",
   "execution_count": null,
   "id": "ac2cb250-224f-41d5-8222-c38dc8225fb9",
   "metadata": {},
   "outputs": [],
   "source": []
  }
 ],
 "metadata": {
  "kernelspec": {
   "display_name": "Python (DES_env)",
   "language": "python",
   "name": "des_env"
  },
  "language_info": {
   "codemirror_mode": {
    "name": "ipython",
    "version": 3
   },
   "file_extension": ".py",
   "mimetype": "text/x-python",
   "name": "python",
   "nbconvert_exporter": "python",
   "pygments_lexer": "ipython3",
   "version": "3.7.0"
  }
 },
 "nbformat": 4,
 "nbformat_minor": 5
}
