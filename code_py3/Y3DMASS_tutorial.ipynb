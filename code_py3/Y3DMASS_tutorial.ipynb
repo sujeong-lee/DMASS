{
 "cells": [
  {
   "cell_type": "markdown",
   "metadata": {},
   "source": [
    "# DMASS tutorial"
   ]
  },
  {
   "cell_type": "markdown",
   "metadata": {},
   "source": [
    "esutil and healpy should be installed "
   ]
  },
  {
   "cell_type": "code",
<<<<<<< HEAD
   "execution_count": 2,
=======
   "execution_count": 7,
>>>>>>> 1823efbff6519f459521800a95a1991e8d2be281
   "metadata": {
    "scrolled": true
   },
   "outputs": [
    {
<<<<<<< HEAD
     "name": "stderr",
     "output_type": "stream",
     "text": [
      "In /users/PCON0003/warner785/.conda/envs/DES_env/lib/python3.7/site-packages/matplotlib/mpl-data/stylelib/_classic_test.mplstyle: \n",
      "The savefig.frameon rcparam was deprecated in Matplotlib 3.1 and will be removed in 3.3.\n",
      "In /users/PCON0003/warner785/.conda/envs/DES_env/lib/python3.7/site-packages/matplotlib/mpl-data/stylelib/_classic_test.mplstyle: \n",
      "The verbose.level rcparam was deprecated in Matplotlib 3.1 and will be removed in 3.3.\n",
      "In /users/PCON0003/warner785/.conda/envs/DES_env/lib/python3.7/site-packages/matplotlib/mpl-data/stylelib/_classic_test.mplstyle: \n",
      "The verbose.fileo rcparam was deprecated in Matplotlib 3.1 and will be removed in 3.3.\n"
=======
     "name": "stdout",
     "output_type": "stream",
     "text": [
      "The autoreload extension is already loaded. To reload it, use:\n",
      "  %reload_ext autoreload\n"
>>>>>>> 1823efbff6519f459521800a95a1991e8d2be281
     ]
    }
   ],
   "source": [
    "import os, sys\n",
    "import esutil\n",
    "import healpy as hp\n",
    "import numpy as np\n",
    "%matplotlib inline\n",
    "\n",
    "%load_ext autoreload\n",
    "%autoreload 2"
   ]
  },
  {
   "cell_type": "code",
<<<<<<< HEAD
   "execution_count": 3,
   "metadata": {},
   "outputs": [
    {
     "name": "stderr",
     "output_type": "stream",
     "text": [
      "WARNING: AstroMLDeprecationWarning: 'decorators' has been moved to 'astroML.utils' and will be removed from the main namespace in the future. [astroML.decorators]\n",
      "/users/PCON0003/warner785/.conda/envs/DES_env/lib/python3.7/site-packages/sklearn/linear_model/least_angle.py:35: DeprecationWarning: `np.float` is a deprecated alias for the builtin `float`. To silence this warning, use `float` by itself. Doing this will not modify any behavior and is safe. If you specifically wanted the numpy scalar type, use `np.float64` here.\n",
      "Deprecated in NumPy 1.20; for more details and guidance: https://numpy.org/devdocs/release/1.20.0-notes.html#deprecations\n",
      "  eps=np.finfo(np.float).eps,\n",
      "/users/PCON0003/warner785/.conda/envs/DES_env/lib/python3.7/site-packages/sklearn/linear_model/least_angle.py:597: DeprecationWarning: `np.float` is a deprecated alias for the builtin `float`. To silence this warning, use `float` by itself. Doing this will not modify any behavior and is safe. If you specifically wanted the numpy scalar type, use `np.float64` here.\n",
      "Deprecated in NumPy 1.20; for more details and guidance: https://numpy.org/devdocs/release/1.20.0-notes.html#deprecations\n",
      "  eps=np.finfo(np.float).eps, copy_X=True, fit_path=True,\n",
      "/users/PCON0003/warner785/.conda/envs/DES_env/lib/python3.7/site-packages/sklearn/linear_model/least_angle.py:836: DeprecationWarning: `np.float` is a deprecated alias for the builtin `float`. To silence this warning, use `float` by itself. Doing this will not modify any behavior and is safe. If you specifically wanted the numpy scalar type, use `np.float64` here.\n",
      "Deprecated in NumPy 1.20; for more details and guidance: https://numpy.org/devdocs/release/1.20.0-notes.html#deprecations\n",
      "  eps=np.finfo(np.float).eps, copy_X=True, fit_path=True,\n",
      "/users/PCON0003/warner785/.conda/envs/DES_env/lib/python3.7/site-packages/sklearn/linear_model/least_angle.py:862: DeprecationWarning: `np.float` is a deprecated alias for the builtin `float`. To silence this warning, use `float` by itself. Doing this will not modify any behavior and is safe. If you specifically wanted the numpy scalar type, use `np.float64` here.\n",
      "Deprecated in NumPy 1.20; for more details and guidance: https://numpy.org/devdocs/release/1.20.0-notes.html#deprecations\n",
      "  eps=np.finfo(np.float).eps, positive=False):\n",
      "/users/PCON0003/warner785/.conda/envs/DES_env/lib/python3.7/site-packages/sklearn/linear_model/least_angle.py:1097: DeprecationWarning: `np.float` is a deprecated alias for the builtin `float`. To silence this warning, use `float` by itself. Doing this will not modify any behavior and is safe. If you specifically wanted the numpy scalar type, use `np.float64` here.\n",
      "Deprecated in NumPy 1.20; for more details and guidance: https://numpy.org/devdocs/release/1.20.0-notes.html#deprecations\n",
      "  max_n_alphas=1000, n_jobs=None, eps=np.finfo(np.float).eps,\n",
      "/users/PCON0003/warner785/.conda/envs/DES_env/lib/python3.7/site-packages/sklearn/linear_model/least_angle.py:1344: DeprecationWarning: `np.float` is a deprecated alias for the builtin `float`. To silence this warning, use `float` by itself. Doing this will not modify any behavior and is safe. If you specifically wanted the numpy scalar type, use `np.float64` here.\n",
      "Deprecated in NumPy 1.20; for more details and guidance: https://numpy.org/devdocs/release/1.20.0-notes.html#deprecations\n",
      "  max_n_alphas=1000, n_jobs=None, eps=np.finfo(np.float).eps,\n",
      "/users/PCON0003/warner785/.conda/envs/DES_env/lib/python3.7/site-packages/sklearn/linear_model/least_angle.py:1480: DeprecationWarning: `np.float` is a deprecated alias for the builtin `float`. To silence this warning, use `float` by itself. Doing this will not modify any behavior and is safe. If you specifically wanted the numpy scalar type, use `np.float64` here.\n",
      "Deprecated in NumPy 1.20; for more details and guidance: https://numpy.org/devdocs/release/1.20.0-notes.html#deprecations\n",
      "  eps=np.finfo(np.float).eps, copy_X=True, positive=False):\n",
      "/users/PCON0003/warner785/.conda/envs/DES_env/lib/python3.7/site-packages/sklearn/linear_model/randomized_l1.py:152: DeprecationWarning: `np.float` is a deprecated alias for the builtin `float`. To silence this warning, use `float` by itself. Doing this will not modify any behavior and is safe. If you specifically wanted the numpy scalar type, use `np.float64` here.\n",
      "Deprecated in NumPy 1.20; for more details and guidance: https://numpy.org/devdocs/release/1.20.0-notes.html#deprecations\n",
      "  precompute=False, eps=np.finfo(np.float).eps,\n",
      "/users/PCON0003/warner785/.conda/envs/DES_env/lib/python3.7/site-packages/sklearn/linear_model/randomized_l1.py:320: DeprecationWarning: `np.float` is a deprecated alias for the builtin `float`. To silence this warning, use `float` by itself. Doing this will not modify any behavior and is safe. If you specifically wanted the numpy scalar type, use `np.float64` here.\n",
      "Deprecated in NumPy 1.20; for more details and guidance: https://numpy.org/devdocs/release/1.20.0-notes.html#deprecations\n",
      "  eps=np.finfo(np.float).eps, random_state=None,\n",
      "/users/PCON0003/warner785/.conda/envs/DES_env/lib/python3.7/site-packages/sklearn/linear_model/randomized_l1.py:580: DeprecationWarning: `np.float` is a deprecated alias for the builtin `float`. To silence this warning, use `float` by itself. Doing this will not modify any behavior and is safe. If you specifically wanted the numpy scalar type, use `np.float64` here.\n",
      "Deprecated in NumPy 1.20; for more details and guidance: https://numpy.org/devdocs/release/1.20.0-notes.html#deprecations\n",
      "  eps=4 * np.finfo(np.float).eps, n_jobs=None,\n",
      "/users/PCON0003/warner785/.conda/envs/DES_env/lib/python3.7/site-packages/sklearn/decomposition/online_lda.py:31: DeprecationWarning: `np.float` is a deprecated alias for the builtin `float`. To silence this warning, use `float` by itself. Doing this will not modify any behavior and is safe. If you specifically wanted the numpy scalar type, use `np.float64` here.\n",
      "Deprecated in NumPy 1.20; for more details and guidance: https://numpy.org/devdocs/release/1.20.0-notes.html#deprecations\n",
      "  EPS = np.finfo(np.float).eps\n"
     ]
    }
   ],
=======
   "execution_count": 8,
   "metadata": {},
   "outputs": [],
>>>>>>> 1823efbff6519f459521800a95a1991e8d2be281
   "source": [
    "# call required functions from modules \n",
    "sys.path.append('code_py3/')\n",
    "from cmass_modules import io\n",
    "from utils import matchCatalogsbyPosition, hpHEALPixelToRaDec, HealPixifyCatalogs, spatialcheck\n",
    "from xd import mixing_color, XD_fitting_X, assignCMASSProb, doVisualization_1d\n",
    "from run_DMASS_Y3 import priorCut_test"
   ]
  },
  {
   "cell_type": "markdown",
   "metadata": {},
   "source": [
    "# Construct training samples"
   ]
  },
  {
   "cell_type": "markdown",
   "metadata": {},
   "source": [
    "We first need to load Y3 Gold catalogs in the overlapping region (training region) and split them into the cmass sample and non-cmass sample. "
   ]
  },
  {
   "cell_type": "code",
   "execution_count": 5,
   "metadata": {},
   "outputs": [
    {
     "name": "stdout",
     "output_type": "stream",
     "text": [
      "\n",
      "Calling catalogs >>>\n",
      "Y3_GOLD_2_0_STRIPE82_000125.fits\n",
      "Y3_GOLD_2_0_STRIPE82_000136.fits\n",
      "Y3_GOLD_2_0_STRIPE82_000040.fits\n",
      "Y3_GOLD_2_0_STRIPE82_000015.fits\n",
      "Y3_GOLD_2_0_STRIPE82_000086.fits\n",
      "Y3_GOLD_2_0_STRIPE82_000047.fits\n",
      "Y3_GOLD_2_0_STRIPE82_000108.fits\n",
      "Y3_GOLD_2_0_STRIPE82_000079.fits\n",
      "Y3_GOLD_2_0_STRIPE82_000076.fits\n",
      "Y3_GOLD_2_0_STRIPE82_000057.fits\n",
      "Y3_GOLD_2_0_STRIPE82_000111.fits\n",
      "Y3_GOLD_2_0_STRIPE82_000084.fits\n",
      "Y3_GOLD_2_0_STRIPE82_000088.fits\n",
      "Y3_GOLD_2_0_STRIPE82_000049.fits\n",
      "Y3_GOLD_2_0_STRIPE82_000063.fits\n",
      "Y3_GOLD_2_0_STRIPE82_000070.fits\n",
      "Y3_GOLD_2_0_STRIPE82_000077.fits\n",
      "Y3_GOLD_2_0_STRIPE82_000042.fits\n",
      "Y3_GOLD_2_0_STRIPE82_000118.fits\n",
      "Y3_GOLD_2_0_STRIPE82_000115.fits\n",
      "Y3_GOLD_2_0_STRIPE82_000028.fits\n",
      "Y3_GOLD_2_0_STRIPE82_000140.fits\n",
      "Y3_GOLD_2_0_STRIPE82_000060.fits\n",
      "Y3_GOLD_2_0_STRIPE82_000089.fits\n",
      "Y3_GOLD_2_0_STRIPE82_000143.fits\n",
      "Y3_GOLD_2_0_STRIPE82_000012.fits\n",
      "Y3_GOLD_2_0_STRIPE82_000001.fits\n",
      "Y3_GOLD_2_0_STRIPE82_000045.fits\n",
      "Y3_GOLD_2_0_STRIPE82_000137.fits\n",
      "Y3_GOLD_2_0_STRIPE82_000016.fits\n",
      "Y3_GOLD_2_0_STRIPE82_000126.fits\n",
      "Y3_GOLD_2_0_STRIPE82_000025.fits\n",
      "Y3_GOLD_2_0_STRIPE82_000029.fits\n",
      "Y3_GOLD_2_0_STRIPE82_000151.fits\n",
      "Y3_GOLD_2_0_STRIPE82_000062.fits\n",
      "Y3_GOLD_2_0_STRIPE82_000013.fits\n",
      "Y3_GOLD_2_0_STRIPE82_000064.fits\n",
      "Y3_GOLD_2_0_STRIPE82_000027.fits\n",
      "Y3_GOLD_2_0_STRIPE82_000141.fits\n",
      "Y3_GOLD_2_0_STRIPE82_000112.fits\n",
      "Y3_GOLD_2_0_STRIPE82_000038.fits\n",
      "Y3_GOLD_2_0_STRIPE82_000030.fits\n",
      "Y3_GOLD_2_0_STRIPE82_000102.fits\n",
      "Y3_GOLD_2_0_STRIPE82_000055.fits\n",
      "Y3_GOLD_2_0_STRIPE82_000114.fits\n",
      "Y3_GOLD_2_0_STRIPE82_000048.fits\n",
      "Y3_GOLD_2_0_STRIPE82_000056.fits\n",
      "Y3_GOLD_2_0_STRIPE82_000007.fits\n",
      "Y3_GOLD_2_0_STRIPE82_000138.fits\n",
      "Y3_GOLD_2_0_STRIPE82_000083.fits\n",
      "Y3_GOLD_2_0_STRIPE82_000041.fits\n",
      "Y3_GOLD_2_0_STRIPE82_000002.fits\n",
      "Y3_GOLD_2_0_STRIPE82_000081.fits\n",
      "Y3_GOLD_2_0_STRIPE82_000153.fits\n",
      "Y3_GOLD_2_0_STRIPE82_000020.fits\n",
      "Y3_GOLD_2_0_STRIPE82_000103.fits\n",
      "Y3_GOLD_2_0_STRIPE82_000142.fits\n",
      "Y3_GOLD_2_0_STRIPE82_000082.fits\n",
      "Y3_GOLD_2_0_STRIPE82_000100.fits\n",
      "Y3_GOLD_2_0_STRIPE82_000110.fits\n",
      "Y3_GOLD_2_0_STRIPE82_000014.fits\n",
      "Y3_GOLD_2_0_STRIPE82_000144.fits\n",
      "Y3_GOLD_2_0_STRIPE82_000006.fits\n",
      "Y3_GOLD_2_0_STRIPE82_000008.fits\n",
      "Y3_GOLD_2_0_STRIPE82_000005.fits\n",
      "Y3_GOLD_2_0_STRIPE82_000148.fits\n",
      "Y3_GOLD_2_0_STRIPE82_000124.fits\n",
      "Y3_GOLD_2_0_STRIPE82_000122.fits\n",
      "Y3_GOLD_2_0_STRIPE82_000035.fits\n",
      "Y3_GOLD_2_0_STRIPE82_000072.fits\n",
      "Y3_GOLD_2_0_STRIPE82_000093.fits\n",
      "Y3_GOLD_2_0_STRIPE82_000033.fits\n",
      "Y3_GOLD_2_0_STRIPE82_000132.fits\n",
      "Y3_GOLD_2_0_STRIPE82_000011.fits\n",
      "Y3_GOLD_2_0_STRIPE82_000026.fits\n",
      "Y3_GOLD_2_0_STRIPE82_000131.fits\n",
      "Y3_GOLD_2_0_STRIPE82_000129.fits\n",
      "Y3_GOLD_2_0_STRIPE82_000051.fits\n",
      "Y3_GOLD_2_0_STRIPE82_000104.fits\n",
      "Y3_GOLD_2_0_STRIPE82_000105.fits\n",
      "Y3_GOLD_2_0_STRIPE82_000074.fits\n",
      "Y3_GOLD_2_0_STRIPE82_000121.fits\n",
      "Y3_GOLD_2_0_STRIPE82_000078.fits\n",
      "Y3_GOLD_2_0_STRIPE82_000032.fits\n",
      "Y3_GOLD_2_0_STRIPE82_000097.fits\n",
      "Y3_GOLD_2_0_STRIPE82_000135.fits\n",
      "Y3_GOLD_2_0_STRIPE82_000065.fits\n",
      "Y3_GOLD_2_0_STRIPE82_000094.fits\n",
      "Y3_GOLD_2_0_STRIPE82_000003.fits\n",
      "Y3_GOLD_2_0_STRIPE82_000145.fits\n",
      "Y3_GOLD_2_0_STRIPE82_000034.fits\n",
      "Y3_GOLD_2_0_STRIPE82_000146.fits\n",
      "Y3_GOLD_2_0_STRIPE82_000127.fits\n",
      "Y3_GOLD_2_0_STRIPE82_000128.fits\n",
      "Y3_GOLD_2_0_STRIPE82_000116.fits\n",
      "Y3_GOLD_2_0_STRIPE82_000069.fits\n",
      "Y3_GOLD_2_0_STRIPE82_000152.fits\n",
      "Y3_GOLD_2_0_STRIPE82_000053.fits\n",
      "Y3_GOLD_2_0_STRIPE82_000058.fits\n",
      "Y3_GOLD_2_0_STRIPE82_000010.fits\n",
      "Y3_GOLD_2_0_STRIPE82_000046.fits\n",
      "Y3_GOLD_2_0_STRIPE82_000095.fits\n",
      "Y3_GOLD_2_0_STRIPE82_000073.fits\n",
      "Y3_GOLD_2_0_STRIPE82_000019.fits\n",
      "Y3_GOLD_2_0_STRIPE82_000068.fits\n",
      "Y3_GOLD_2_0_STRIPE82_000036.fits\n",
      "Y3_GOLD_2_0_STRIPE82_000075.fits\n",
      "Y3_GOLD_2_0_STRIPE82_000037.fits\n",
      "Y3_GOLD_2_0_STRIPE82_000098.fits\n",
      "Y3_GOLD_2_0_STRIPE82_000022.fits\n",
      "Y3_GOLD_2_0_STRIPE82_000050.fits\n",
      "Y3_GOLD_2_0_STRIPE82_000018.fits\n",
      "Y3_GOLD_2_0_STRIPE82_000024.fits\n",
      "Y3_GOLD_2_0_STRIPE82_000080.fits\n",
      "Y3_GOLD_2_0_STRIPE82_000071.fits\n",
      "Y3_GOLD_2_0_STRIPE82_000054.fits\n",
      "Y3_GOLD_2_0_STRIPE82_000101.fits\n",
      "Y3_GOLD_2_0_STRIPE82_000150.fits\n",
      "Y3_GOLD_2_0_STRIPE82_000113.fits\n",
      "Y3_GOLD_2_0_STRIPE82_000147.fits\n",
      "Y3_GOLD_2_0_STRIPE82_000009.fits\n",
      "Y3_GOLD_2_0_STRIPE82_000123.fits\n",
      "Y3_GOLD_2_0_STRIPE82_000061.fits\n",
      "Y3_GOLD_2_0_STRIPE82_000004.fits\n",
      "Y3_GOLD_2_0_STRIPE82_000085.fits\n",
      "Y3_GOLD_2_0_STRIPE82_000091.fits\n",
      "Y3_GOLD_2_0_STRIPE82_000130.fits\n",
      "Y3_GOLD_2_0_STRIPE82_000067.fits\n",
      "Y3_GOLD_2_0_STRIPE82_000117.fits\n",
      "Y3_GOLD_2_0_STRIPE82_000017.fits\n",
      "Y3_GOLD_2_0_STRIPE82_000149.fits\n",
      "Y3_GOLD_2_0_STRIPE82_000119.fits\n",
      "Y3_GOLD_2_0_STRIPE82_000052.fits\n",
      "Y3_GOLD_2_0_STRIPE82_000031.fits\n",
      "Y3_GOLD_2_0_STRIPE82_000107.fits\n",
      "Y3_GOLD_2_0_STRIPE82_000023.fits\n",
      "Y3_GOLD_2_0_STRIPE82_000044.fits\n",
      "Y3_GOLD_2_0_STRIPE82_000120.fits\n",
      "Y3_GOLD_2_0_STRIPE82_000090.fits\n",
      "Y3_GOLD_2_0_STRIPE82_000106.fits\n",
      "Y3_GOLD_2_0_STRIPE82_000133.fits\n",
      "Y3_GOLD_2_0_STRIPE82_000066.fits\n",
      "Y3_GOLD_2_0_STRIPE82_000139.fits\n",
      "Y3_GOLD_2_0_STRIPE82_000087.fits\n",
      "Y3_GOLD_2_0_STRIPE82_000043.fits\n",
<<<<<<< HEAD
      "Y3_GOLD_2_0_STRIPE82_000039.fits\n",
      "Y3_GOLD_2_0_STRIPE82_000099.fits\n",
      "Y3_GOLD_2_0_STRIPE82_000021.fits\n",
      "Y3_GOLD_2_0_STRIPE82_000092.fits\n",
      "Y3_GOLD_2_0_STRIPE82_000096.fits\n",
      "Y3_GOLD_2_0_STRIPE82_000059.fits\n",
      "Y3_GOLD_2_0_STRIPE82_000109.fits\n",
      "Y3_GOLD_2_0_STRIPE82_000134.fits\n",
      "reading 1/153 /fs/scratch/PCON0003/warner785/bwarner/Y3_GOLD_2_0_STRIPE82_000125.fits\n",
      "reading 2/153 /fs/scratch/PCON0003/warner785/bwarner/Y3_GOLD_2_0_STRIPE82_000136.fits\n",
      "reading 3/153 /fs/scratch/PCON0003/warner785/bwarner/Y3_GOLD_2_0_STRIPE82_000040.fits\n",
      "reading 4/153 /fs/scratch/PCON0003/warner785/bwarner/Y3_GOLD_2_0_STRIPE82_000015.fits\n",
      "reading 5/153 /fs/scratch/PCON0003/warner785/bwarner/Y3_GOLD_2_0_STRIPE82_000086.fits\n",
      "reading 6/153 /fs/scratch/PCON0003/warner785/bwarner/Y3_GOLD_2_0_STRIPE82_000047.fits\n",
      "reading 7/153 /fs/scratch/PCON0003/warner785/bwarner/Y3_GOLD_2_0_STRIPE82_000108.fits\n",
      "reading 8/153 /fs/scratch/PCON0003/warner785/bwarner/Y3_GOLD_2_0_STRIPE82_000079.fits\n",
      "reading 9/153 /fs/scratch/PCON0003/warner785/bwarner/Y3_GOLD_2_0_STRIPE82_000076.fits\n",
      "reading 10/153 /fs/scratch/PCON0003/warner785/bwarner/Y3_GOLD_2_0_STRIPE82_000057.fits\n",
      "reading 11/153 /fs/scratch/PCON0003/warner785/bwarner/Y3_GOLD_2_0_STRIPE82_000111.fits\n",
      "reading 12/153 /fs/scratch/PCON0003/warner785/bwarner/Y3_GOLD_2_0_STRIPE82_000084.fits\n",
      "reading 13/153 /fs/scratch/PCON0003/warner785/bwarner/Y3_GOLD_2_0_STRIPE82_000088.fits\n",
      "reading 14/153 /fs/scratch/PCON0003/warner785/bwarner/Y3_GOLD_2_0_STRIPE82_000049.fits\n",
      "reading 15/153 /fs/scratch/PCON0003/warner785/bwarner/Y3_GOLD_2_0_STRIPE82_000063.fits\n",
      "reading 16/153 /fs/scratch/PCON0003/warner785/bwarner/Y3_GOLD_2_0_STRIPE82_000070.fits\n",
      "reading 17/153 /fs/scratch/PCON0003/warner785/bwarner/Y3_GOLD_2_0_STRIPE82_000077.fits\n",
      "reading 18/153 /fs/scratch/PCON0003/warner785/bwarner/Y3_GOLD_2_0_STRIPE82_000042.fits\n",
      "reading 19/153 /fs/scratch/PCON0003/warner785/bwarner/Y3_GOLD_2_0_STRIPE82_000118.fits\n",
      "reading 20/153 /fs/scratch/PCON0003/warner785/bwarner/Y3_GOLD_2_0_STRIPE82_000115.fits\n",
      "reading 21/153 /fs/scratch/PCON0003/warner785/bwarner/Y3_GOLD_2_0_STRIPE82_000028.fits\n",
      "reading 22/153 /fs/scratch/PCON0003/warner785/bwarner/Y3_GOLD_2_0_STRIPE82_000140.fits\n",
      "reading 23/153 /fs/scratch/PCON0003/warner785/bwarner/Y3_GOLD_2_0_STRIPE82_000060.fits\n",
      "reading 24/153 /fs/scratch/PCON0003/warner785/bwarner/Y3_GOLD_2_0_STRIPE82_000089.fits\n",
      "reading 25/153 /fs/scratch/PCON0003/warner785/bwarner/Y3_GOLD_2_0_STRIPE82_000143.fits\n",
      "reading 26/153 /fs/scratch/PCON0003/warner785/bwarner/Y3_GOLD_2_0_STRIPE82_000012.fits\n",
      "reading 27/153 /fs/scratch/PCON0003/warner785/bwarner/Y3_GOLD_2_0_STRIPE82_000001.fits\n",
      "reading 28/153 /fs/scratch/PCON0003/warner785/bwarner/Y3_GOLD_2_0_STRIPE82_000045.fits\n",
      "reading 29/153 /fs/scratch/PCON0003/warner785/bwarner/Y3_GOLD_2_0_STRIPE82_000137.fits\n",
      "reading 30/153 /fs/scratch/PCON0003/warner785/bwarner/Y3_GOLD_2_0_STRIPE82_000016.fits\n",
      "reading 31/153 /fs/scratch/PCON0003/warner785/bwarner/Y3_GOLD_2_0_STRIPE82_000126.fits\n",
      "reading 32/153 /fs/scratch/PCON0003/warner785/bwarner/Y3_GOLD_2_0_STRIPE82_000025.fits\n",
      "reading 33/153 /fs/scratch/PCON0003/warner785/bwarner/Y3_GOLD_2_0_STRIPE82_000029.fits\n",
      "reading 34/153 /fs/scratch/PCON0003/warner785/bwarner/Y3_GOLD_2_0_STRIPE82_000151.fits\n",
      "reading 35/153 /fs/scratch/PCON0003/warner785/bwarner/Y3_GOLD_2_0_STRIPE82_000062.fits\n",
      "reading 36/153 /fs/scratch/PCON0003/warner785/bwarner/Y3_GOLD_2_0_STRIPE82_000013.fits\n",
      "reading 37/153 /fs/scratch/PCON0003/warner785/bwarner/Y3_GOLD_2_0_STRIPE82_000064.fits\n",
      "reading 38/153 /fs/scratch/PCON0003/warner785/bwarner/Y3_GOLD_2_0_STRIPE82_000027.fits\n",
      "reading 39/153 /fs/scratch/PCON0003/warner785/bwarner/Y3_GOLD_2_0_STRIPE82_000141.fits\n",
      "reading 40/153 /fs/scratch/PCON0003/warner785/bwarner/Y3_GOLD_2_0_STRIPE82_000112.fits\n",
      "reading 41/153 /fs/scratch/PCON0003/warner785/bwarner/Y3_GOLD_2_0_STRIPE82_000038.fits\n",
      "reading 42/153 /fs/scratch/PCON0003/warner785/bwarner/Y3_GOLD_2_0_STRIPE82_000030.fits\n",
      "reading 43/153 /fs/scratch/PCON0003/warner785/bwarner/Y3_GOLD_2_0_STRIPE82_000102.fits\n",
      "reading 44/153 /fs/scratch/PCON0003/warner785/bwarner/Y3_GOLD_2_0_STRIPE82_000055.fits\n",
      "reading 45/153 /fs/scratch/PCON0003/warner785/bwarner/Y3_GOLD_2_0_STRIPE82_000114.fits\n",
      "reading 46/153 /fs/scratch/PCON0003/warner785/bwarner/Y3_GOLD_2_0_STRIPE82_000048.fits\n",
      "reading 47/153 /fs/scratch/PCON0003/warner785/bwarner/Y3_GOLD_2_0_STRIPE82_000056.fits\n",
      "reading 48/153 /fs/scratch/PCON0003/warner785/bwarner/Y3_GOLD_2_0_STRIPE82_000007.fits\n",
      "reading 49/153 /fs/scratch/PCON0003/warner785/bwarner/Y3_GOLD_2_0_STRIPE82_000138.fits\n",
      "reading 50/153 /fs/scratch/PCON0003/warner785/bwarner/Y3_GOLD_2_0_STRIPE82_000083.fits\n",
      "reading 51/153 /fs/scratch/PCON0003/warner785/bwarner/Y3_GOLD_2_0_STRIPE82_000041.fits\n",
      "reading 52/153 /fs/scratch/PCON0003/warner785/bwarner/Y3_GOLD_2_0_STRIPE82_000002.fits\n",
      "reading 53/153 /fs/scratch/PCON0003/warner785/bwarner/Y3_GOLD_2_0_STRIPE82_000081.fits\n",
      "reading 54/153 /fs/scratch/PCON0003/warner785/bwarner/Y3_GOLD_2_0_STRIPE82_000153.fits\n",
      "reading 55/153 /fs/scratch/PCON0003/warner785/bwarner/Y3_GOLD_2_0_STRIPE82_000020.fits\n",
      "reading 56/153 /fs/scratch/PCON0003/warner785/bwarner/Y3_GOLD_2_0_STRIPE82_000103.fits\n",
      "reading 57/153 /fs/scratch/PCON0003/warner785/bwarner/Y3_GOLD_2_0_STRIPE82_000142.fits\n",
      "reading 58/153 /fs/scratch/PCON0003/warner785/bwarner/Y3_GOLD_2_0_STRIPE82_000082.fits\n",
      "reading 59/153 /fs/scratch/PCON0003/warner785/bwarner/Y3_GOLD_2_0_STRIPE82_000100.fits\n",
      "reading 60/153 /fs/scratch/PCON0003/warner785/bwarner/Y3_GOLD_2_0_STRIPE82_000110.fits\n",
      "reading 61/153 /fs/scratch/PCON0003/warner785/bwarner/Y3_GOLD_2_0_STRIPE82_000014.fits\n",
      "reading 62/153 /fs/scratch/PCON0003/warner785/bwarner/Y3_GOLD_2_0_STRIPE82_000144.fits\n",
      "reading 63/153 /fs/scratch/PCON0003/warner785/bwarner/Y3_GOLD_2_0_STRIPE82_000006.fits\n",
      "reading 64/153 /fs/scratch/PCON0003/warner785/bwarner/Y3_GOLD_2_0_STRIPE82_000008.fits\n",
      "reading 65/153 /fs/scratch/PCON0003/warner785/bwarner/Y3_GOLD_2_0_STRIPE82_000005.fits\n",
      "reading 66/153 /fs/scratch/PCON0003/warner785/bwarner/Y3_GOLD_2_0_STRIPE82_000148.fits\n",
      "reading 67/153 /fs/scratch/PCON0003/warner785/bwarner/Y3_GOLD_2_0_STRIPE82_000124.fits\n",
      "reading 68/153 /fs/scratch/PCON0003/warner785/bwarner/Y3_GOLD_2_0_STRIPE82_000122.fits\n",
      "reading 69/153 /fs/scratch/PCON0003/warner785/bwarner/Y3_GOLD_2_0_STRIPE82_000035.fits\n",
      "reading 70/153 /fs/scratch/PCON0003/warner785/bwarner/Y3_GOLD_2_0_STRIPE82_000072.fits\n",
      "reading 71/153 /fs/scratch/PCON0003/warner785/bwarner/Y3_GOLD_2_0_STRIPE82_000093.fits\n",
      "reading 72/153 /fs/scratch/PCON0003/warner785/bwarner/Y3_GOLD_2_0_STRIPE82_000033.fits\n",
      "reading 73/153 /fs/scratch/PCON0003/warner785/bwarner/Y3_GOLD_2_0_STRIPE82_000132.fits\n",
      "reading 74/153 /fs/scratch/PCON0003/warner785/bwarner/Y3_GOLD_2_0_STRIPE82_000011.fits\n",
      "reading 75/153 /fs/scratch/PCON0003/warner785/bwarner/Y3_GOLD_2_0_STRIPE82_000026.fits\n",
      "reading 76/153 /fs/scratch/PCON0003/warner785/bwarner/Y3_GOLD_2_0_STRIPE82_000131.fits\n",
      "reading 77/153 /fs/scratch/PCON0003/warner785/bwarner/Y3_GOLD_2_0_STRIPE82_000129.fits\n",
      "reading 78/153 /fs/scratch/PCON0003/warner785/bwarner/Y3_GOLD_2_0_STRIPE82_000051.fits\n",
      "reading 79/153 /fs/scratch/PCON0003/warner785/bwarner/Y3_GOLD_2_0_STRIPE82_000104.fits\n",
      "reading 80/153 /fs/scratch/PCON0003/warner785/bwarner/Y3_GOLD_2_0_STRIPE82_000105.fits\n",
      "reading 81/153 /fs/scratch/PCON0003/warner785/bwarner/Y3_GOLD_2_0_STRIPE82_000074.fits\n",
      "reading 82/153 /fs/scratch/PCON0003/warner785/bwarner/Y3_GOLD_2_0_STRIPE82_000121.fits\n",
      "reading 83/153 /fs/scratch/PCON0003/warner785/bwarner/Y3_GOLD_2_0_STRIPE82_000078.fits\n",
      "reading 84/153 /fs/scratch/PCON0003/warner785/bwarner/Y3_GOLD_2_0_STRIPE82_000032.fits\n",
      "reading 85/153 /fs/scratch/PCON0003/warner785/bwarner/Y3_GOLD_2_0_STRIPE82_000097.fits\n",
      "reading 86/153 /fs/scratch/PCON0003/warner785/bwarner/Y3_GOLD_2_0_STRIPE82_000135.fits\n",
      "reading 87/153 /fs/scratch/PCON0003/warner785/bwarner/Y3_GOLD_2_0_STRIPE82_000065.fits\n",
      "reading 88/153 /fs/scratch/PCON0003/warner785/bwarner/Y3_GOLD_2_0_STRIPE82_000094.fits\n",
      "reading 89/153 /fs/scratch/PCON0003/warner785/bwarner/Y3_GOLD_2_0_STRIPE82_000003.fits\n",
      "reading 90/153 /fs/scratch/PCON0003/warner785/bwarner/Y3_GOLD_2_0_STRIPE82_000145.fits\n",
      "reading 91/153 /fs/scratch/PCON0003/warner785/bwarner/Y3_GOLD_2_0_STRIPE82_000034.fits\n",
      "reading 92/153 /fs/scratch/PCON0003/warner785/bwarner/Y3_GOLD_2_0_STRIPE82_000146.fits\n",
      "reading 93/153 /fs/scratch/PCON0003/warner785/bwarner/Y3_GOLD_2_0_STRIPE82_000127.fits\n",
      "reading 94/153 /fs/scratch/PCON0003/warner785/bwarner/Y3_GOLD_2_0_STRIPE82_000128.fits\n",
      "reading 95/153 /fs/scratch/PCON0003/warner785/bwarner/Y3_GOLD_2_0_STRIPE82_000116.fits\n",
      "reading 96/153 /fs/scratch/PCON0003/warner785/bwarner/Y3_GOLD_2_0_STRIPE82_000069.fits\n",
      "reading 97/153 /fs/scratch/PCON0003/warner785/bwarner/Y3_GOLD_2_0_STRIPE82_000152.fits\n",
      "reading 98/153 /fs/scratch/PCON0003/warner785/bwarner/Y3_GOLD_2_0_STRIPE82_000053.fits\n",
      "reading 99/153 /fs/scratch/PCON0003/warner785/bwarner/Y3_GOLD_2_0_STRIPE82_000058.fits\n",
      "reading 100/153 /fs/scratch/PCON0003/warner785/bwarner/Y3_GOLD_2_0_STRIPE82_000010.fits\n",
      "reading 101/153 /fs/scratch/PCON0003/warner785/bwarner/Y3_GOLD_2_0_STRIPE82_000046.fits\n",
      "reading 102/153 /fs/scratch/PCON0003/warner785/bwarner/Y3_GOLD_2_0_STRIPE82_000095.fits\n",
      "reading 103/153 /fs/scratch/PCON0003/warner785/bwarner/Y3_GOLD_2_0_STRIPE82_000073.fits\n",
      "reading 104/153 /fs/scratch/PCON0003/warner785/bwarner/Y3_GOLD_2_0_STRIPE82_000019.fits\n",
      "reading 105/153 /fs/scratch/PCON0003/warner785/bwarner/Y3_GOLD_2_0_STRIPE82_000068.fits\n",
      "reading 106/153 /fs/scratch/PCON0003/warner785/bwarner/Y3_GOLD_2_0_STRIPE82_000036.fits\n",
      "reading 107/153 /fs/scratch/PCON0003/warner785/bwarner/Y3_GOLD_2_0_STRIPE82_000075.fits\n",
      "reading 108/153 /fs/scratch/PCON0003/warner785/bwarner/Y3_GOLD_2_0_STRIPE82_000037.fits\n",
      "reading 109/153 /fs/scratch/PCON0003/warner785/bwarner/Y3_GOLD_2_0_STRIPE82_000098.fits\n",
      "reading 110/153 /fs/scratch/PCON0003/warner785/bwarner/Y3_GOLD_2_0_STRIPE82_000022.fits\n",
      "reading 111/153 /fs/scratch/PCON0003/warner785/bwarner/Y3_GOLD_2_0_STRIPE82_000050.fits\n",
      "reading 112/153 /fs/scratch/PCON0003/warner785/bwarner/Y3_GOLD_2_0_STRIPE82_000018.fits\n",
      "reading 113/153 /fs/scratch/PCON0003/warner785/bwarner/Y3_GOLD_2_0_STRIPE82_000024.fits\n",
      "reading 114/153 /fs/scratch/PCON0003/warner785/bwarner/Y3_GOLD_2_0_STRIPE82_000080.fits\n",
      "reading 115/153 /fs/scratch/PCON0003/warner785/bwarner/Y3_GOLD_2_0_STRIPE82_000071.fits\n",
      "reading 116/153 /fs/scratch/PCON0003/warner785/bwarner/Y3_GOLD_2_0_STRIPE82_000054.fits\n",
      "reading 117/153 /fs/scratch/PCON0003/warner785/bwarner/Y3_GOLD_2_0_STRIPE82_000101.fits\n",
      "reading 118/153 /fs/scratch/PCON0003/warner785/bwarner/Y3_GOLD_2_0_STRIPE82_000150.fits\n",
      "reading 119/153 /fs/scratch/PCON0003/warner785/bwarner/Y3_GOLD_2_0_STRIPE82_000113.fits\n",
      "reading 120/153 /fs/scratch/PCON0003/warner785/bwarner/Y3_GOLD_2_0_STRIPE82_000147.fits\n",
      "reading 121/153 /fs/scratch/PCON0003/warner785/bwarner/Y3_GOLD_2_0_STRIPE82_000009.fits\n",
      "reading 122/153 /fs/scratch/PCON0003/warner785/bwarner/Y3_GOLD_2_0_STRIPE82_000123.fits\n",
      "reading 123/153 /fs/scratch/PCON0003/warner785/bwarner/Y3_GOLD_2_0_STRIPE82_000061.fits\n",
      "reading 124/153 /fs/scratch/PCON0003/warner785/bwarner/Y3_GOLD_2_0_STRIPE82_000004.fits\n",
      "reading 125/153 /fs/scratch/PCON0003/warner785/bwarner/Y3_GOLD_2_0_STRIPE82_000085.fits\n",
      "reading 126/153 /fs/scratch/PCON0003/warner785/bwarner/Y3_GOLD_2_0_STRIPE82_000091.fits\n",
      "reading 127/153 /fs/scratch/PCON0003/warner785/bwarner/Y3_GOLD_2_0_STRIPE82_000130.fits\n",
      "reading 128/153 /fs/scratch/PCON0003/warner785/bwarner/Y3_GOLD_2_0_STRIPE82_000067.fits\n",
      "reading 129/153 /fs/scratch/PCON0003/warner785/bwarner/Y3_GOLD_2_0_STRIPE82_000117.fits\n",
      "reading 130/153 /fs/scratch/PCON0003/warner785/bwarner/Y3_GOLD_2_0_STRIPE82_000017.fits\n",
      "reading 131/153 /fs/scratch/PCON0003/warner785/bwarner/Y3_GOLD_2_0_STRIPE82_000149.fits\n",
      "reading 132/153 /fs/scratch/PCON0003/warner785/bwarner/Y3_GOLD_2_0_STRIPE82_000119.fits\n",
      "reading 133/153 /fs/scratch/PCON0003/warner785/bwarner/Y3_GOLD_2_0_STRIPE82_000052.fits\n",
      "reading 134/153 /fs/scratch/PCON0003/warner785/bwarner/Y3_GOLD_2_0_STRIPE82_000031.fits\n",
      "reading 135/153 /fs/scratch/PCON0003/warner785/bwarner/Y3_GOLD_2_0_STRIPE82_000107.fits\n",
      "reading 136/153 /fs/scratch/PCON0003/warner785/bwarner/Y3_GOLD_2_0_STRIPE82_000023.fits\n",
      "reading 137/153 /fs/scratch/PCON0003/warner785/bwarner/Y3_GOLD_2_0_STRIPE82_000044.fits\n",
      "reading 138/153 /fs/scratch/PCON0003/warner785/bwarner/Y3_GOLD_2_0_STRIPE82_000120.fits\n",
      "reading 139/153 /fs/scratch/PCON0003/warner785/bwarner/Y3_GOLD_2_0_STRIPE82_000090.fits\n",
      "reading 140/153 /fs/scratch/PCON0003/warner785/bwarner/Y3_GOLD_2_0_STRIPE82_000106.fits\n",
      "reading 141/153 /fs/scratch/PCON0003/warner785/bwarner/Y3_GOLD_2_0_STRIPE82_000133.fits\n",
      "reading 142/153 /fs/scratch/PCON0003/warner785/bwarner/Y3_GOLD_2_0_STRIPE82_000066.fits\n",
      "reading 143/153 /fs/scratch/PCON0003/warner785/bwarner/Y3_GOLD_2_0_STRIPE82_000139.fits\n",
      "reading 144/153 /fs/scratch/PCON0003/warner785/bwarner/Y3_GOLD_2_0_STRIPE82_000087.fits\n",
      "reading 145/153 /fs/scratch/PCON0003/warner785/bwarner/Y3_GOLD_2_0_STRIPE82_000043.fits\n",
      "reading 146/153 /fs/scratch/PCON0003/warner785/bwarner/Y3_GOLD_2_0_STRIPE82_000039.fits\n",
      "reading 147/153 /fs/scratch/PCON0003/warner785/bwarner/Y3_GOLD_2_0_STRIPE82_000099.fits\n",
      "reading 148/153 /fs/scratch/PCON0003/warner785/bwarner/Y3_GOLD_2_0_STRIPE82_000021.fits\n",
      "reading 149/153 /fs/scratch/PCON0003/warner785/bwarner/Y3_GOLD_2_0_STRIPE82_000092.fits\n",
      "reading 150/153 /fs/scratch/PCON0003/warner785/bwarner/Y3_GOLD_2_0_STRIPE82_000096.fits\n",
      "reading 151/153 /fs/scratch/PCON0003/warner785/bwarner/Y3_GOLD_2_0_STRIPE82_000059.fits\n",
      "reading 152/153 /fs/scratch/PCON0003/warner785/bwarner/Y3_GOLD_2_0_STRIPE82_000109.fits\n",
      "reading 153/153 /fs/scratch/PCON0003/warner785/bwarner/Y3_GOLD_2_0_STRIPE82_000134.fits\n"
=======
      "Y3_GOLD_2_0_STRIPE82_000146.fits\n",
      "Y3_GOLD_2_0_STRIPE82_000136.fits\n",
      "reading 1/153 /global/cscratch1/sd/bwarner/Y3_GOLD_2_0_STRIPE82_000059.fits\n",
      "reading 2/153 /global/cscratch1/sd/bwarner/Y3_GOLD_2_0_STRIPE82_000006.fits\n",
      "reading 3/153 /global/cscratch1/sd/bwarner/Y3_GOLD_2_0_STRIPE82_000047.fits\n",
      "reading 4/153 /global/cscratch1/sd/bwarner/Y3_GOLD_2_0_STRIPE82_000126.fits\n",
      "reading 5/153 /global/cscratch1/sd/bwarner/Y3_GOLD_2_0_STRIPE82_000080.fits\n",
      "reading 6/153 /global/cscratch1/sd/bwarner/Y3_GOLD_2_0_STRIPE82_000003.fits\n",
      "reading 7/153 /global/cscratch1/sd/bwarner/Y3_GOLD_2_0_STRIPE82_000045.fits\n",
      "reading 8/153 /global/cscratch1/sd/bwarner/Y3_GOLD_2_0_STRIPE82_000037.fits\n",
      "reading 9/153 /global/cscratch1/sd/bwarner/Y3_GOLD_2_0_STRIPE82_000118.fits\n",
      "reading 10/153 /global/cscratch1/sd/bwarner/Y3_GOLD_2_0_STRIPE82_000134.fits\n"
>>>>>>> 1823efbff6519f459521800a95a1991e8d2be281
     ]
    }
   ],
   "source": [
    "# Calling Y3 GOLD v2.0 (training)\n",
    "# All catalogs are in the 'input_path' directory \n",
    "# The 'SearchAndCallFits' function below loads all \n",
    "# catalogs in the directory including 'input_keyword' in its name\n",
    "#input_path = '/n/des/lee.5922/data/gold_cat_Y3/STRIPE82/feae9705305d4430993687930f1cc3ad/'\n",
    "input_path = '/fs/scratch/PCON0003/warner785/bwarner/'\n",
    "# call only first 9 catalogs for a fast run.\n",
    "# to call all catalogs in the directory, use 'Y3_GOLD' as input_keyword \n",
    "# but that will consume huge memory\n",
    "input_keyword = 'Y3_GOLD_2_0_STRIPE82'  \n",
    "# Columns to call\n",
    "columns =  ['RA', 'DEC', \n",
    "            'HPIX_4096',     # Healpix in ring order, nside=4096\n",
    "            'COADD_OBJECT_ID', \n",
    "            'SOF_CM_MAG_CORRECTED_G', # mag_[griz]\n",
    "            'SOF_CM_MAG_CORRECTED_R',\n",
    "            'SOF_CM_MAG_CORRECTED_I',\n",
    "            'SOF_CM_MAG_CORRECTED_Z',\n",
    "            'SOF_CM_MAG_ERR_G',       # mag error_[griz]\n",
    "            'SOF_CM_MAG_ERR_R',\n",
    "            'SOF_CM_MAG_ERR_I',\n",
    "            'SOF_CM_MAG_ERR_Z']\n",
    "gold_st82 = io.SearchAndCallFits(path = input_path, keyword = input_keyword, columns=columns)\n",
    "\n",
    "# Color/Magnitude cuts to exclude extremely high or low mag/color sources.\n",
    "# 16 < mag_riz < 24, 0 < (r-i) < 1.5, 0 < (g-r) < 2.5\n",
    "# These galaxies are less likeliy to be a CMASS, therefore unnecessary. \n",
    "# We apply these cuts to reduce the sample size to speed up the codes\n",
    "mask_magcut = priorCut_test(gold_st82)\n",
    "gold_st82 = gold_st82[mask_magcut]"
   ]
  },
  {
   "cell_type": "code",
   "execution_count": 34,
   "metadata": {},
   "outputs": [
    {
     "name": "stdout",
     "output_type": "stream",
     "text": [
      "59473989\n",
      "59473989\n",
      "11157377\n",
      "files loaded successfully\n",
      "11157377\n",
      "20000\n"
     ]
    },
    {
     "data": {
      "text/plain": [
       "[<matplotlib.lines.Line2D at 0x2b9c85228470>]"
      ]
     },
     "execution_count": 34,
     "metadata": {},
     "output_type": "execute_result"
    },
    {
     "data": {
      "image/png": "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\n",
      "text/plain": [
       "<Figure size 432x288 with 1 Axes>"
      ]
     },
     "metadata": {
      "needs_background": "light"
     },
     "output_type": "display_data"
    }
   ],
   "source": [
    "#Reading in MasterCat Gold H5 file as CHECK:  \n",
    "import h5py\n",
    "import matplotlib.pyplot as plt\n",
    "\n",
    "#opening DES catalog:\n",
    "filename='/fs/scratch/cond0080/y3_eboss_overlap/Y3_GOLD_2_2.1_12_3_19_ebossoverlap.h5'\n",
    "#f=h5py.File(filename,'r')\n",
    "with h5py.File(filename, 'r') as f:\n",
    "#read in values:\n",
    "    modelmag_g_des=f['catalog/gold/sof_cm_mag_corrected_g'][:]\n",
    "    modelmag_r_des=f['catalog/gold/sof_cm_mag_corrected_r'][:]\n",
    "    modelmag_i_des=f['catalog/gold/sof_cm_mag_corrected_i'][:]\n",
    "    \n",
    "    magerr_detmodel_g=f['catalog/gold/sof_cm_mag_err_g']\n",
    "    magerr_detmodel_r=f['catalog/gold/sof_cm_mag_err_r']\n",
    "    magerr_detmodel_i=f['catalog/gold/sof_cm_mag_err_i']\n",
    "    \n",
    "    ra=f['catalog/gold/ra'][:]\n",
    "    dec=f['catalog/gold/dec'][:]\n",
    "    \n",
    "cmodelmag_g_des=modelmag_g_des\n",
    "cmodelmag_r_des=modelmag_r_des\n",
    "cmodelmag_i_des=modelmag_i_des\n",
    "magauto_des=modelmag_i_des\n",
    "\n",
    "print(len(modelmag_g_des))\n",
    "print(len(ra))\n",
    "    \n",
    "#defining the cut:\n",
    "\n",
    "cut = (((cmodelmag_r_des>16)&(cmodelmag_r_des<24))&((cmodelmag_i_des>16)&(cmodelmag_i_des<24))&((cmodelmag_g_des>16)&(cmodelmag_g_des<24))&((modelmag_r_des-modelmag_i_des)<1.5)&((modelmag_r_des-modelmag_i_des)>0.)&((modelmag_g_des-modelmag_r_des)>0.)&((modelmag_g_des-modelmag_r_des)<2.5)&(magauto_des<21.5))\n",
    "ra=ra[cut]\n",
    "dec=dec[cut]\n",
    "\n",
    "#modelmag_g_des=modelmag_g_des[cut]\n",
    "#modelmag_r_des=modelmag_r_des[cut]\n",
    "#modelmag_i_des=modelmag_i_des[cut]\n",
    "\n",
    "print(len(ra))\n",
    "#print(modelmag_g_des.size)\n",
    "\n",
    "print('files loaded successfully')\n",
    "# ---------------------------------------------------------\n",
    "#smaller amount of data:\n",
    "\n",
    "size=ra.size\n",
    "print(size)\n",
    "####seed choosing random number\n",
    "#arrays always the same for each\n",
    "\n",
    "rand_arr=np.random.random(ra.size)\n",
    "#sorting this array:\n",
    "ra2=ra[rand_arr.argsort()]\n",
    "dec2=dec[rand_arr.argsort()]\n",
    "\n",
    "#matching: randomize in the same way, providing the same indices. \n",
    "\n",
    "#shorten the randomly selected data to plottable size:\n",
    "short_ra= ra2[:20000]\n",
    "short_dec= dec2[:20000]\n",
    "\n",
    "size2=short_ra.size\n",
    "print(size2)\n",
    "\n",
    "plt.plot(short_ra, short_dec, 'r.', label='GOLD catalog in overlap region')"
   ]
  },
  {
   "cell_type": "code",
   "execution_count": 14,
   "metadata": {},
   "outputs": [
    {
     "name": "stdout",
     "output_type": "stream",
     "text": [
      "9547728\n",
      "7950260\n"
     ]
    }
   ],
   "source": [
    "#making cuts to Y3 GOLD data: HOLD OFF ON FOR NOW\n",
    "\n",
    "def keepGoodRegion(des, hpInd = False, balrog=None):\n",
    "    import healpy as hp\n",
    "    import fitsio\n",
    "    # 25 is the faintest object detected by DES\n",
    "    # objects larger than 25 considered as Noise\n",
    "    \n",
    "    path = '/fs/scratch/PCON0003/warner785/bwarner/'\n",
    "    #LSSGoldmask = fitsio.read(path+'Y1LSSmask_v2_il22_seeil4.0_nside4096ring_redlimcut.fits')\n",
    "    #LSSGoldmask = fitsio.read(path+'Y1LSSmask_v1_il22seeil4.04096ring_redlimcut.fits')\n",
    "    LSSGoldmask = fitsio.read(path+'MASK_Y3LSSBAOSOF_22_3_v2p2.fits')\n",
    "    ringhp = hp.nest2ring(4096, [LSSGoldmask['PIXEL']])\n",
    "    #Y1LSSmask_v1_il22seeil4.04096ring_redlimcut.fits\n",
    "    #frac_cut = LSSGoldmask['FRAC'] > 0.8\n",
    "    #ind_good_ring = LSSGoldmask['PIXEL'][frac_cut]\n",
    "    ind_good_ring = ringhp\n",
    "    \n",
    "    # healpixify the catalog.\n",
    "    nside=4096\n",
    "    # Convert silly ra/dec to silly HP angular coordinates.\n",
    "    phi = des['RA'] * np.pi / 180.0\n",
    "    theta = ( 90.0 - des['DEC'] ) * np.pi/180.0\n",
    "\n",
    "    hpInd = hp.ang2pix(nside,theta,phi,nest=False)\n",
    "    keep = np.in1d(hpInd, ind_good_ring)\n",
    "    des = des[keep]\n",
    "    if hpInd is True:\n",
    "        return ind_good_ring\n",
    "    else:\n",
    "        return des\n",
    "\n",
    "print(gold_st82.size)    \n",
    "gold_st82 = keepGoodRegion(gold_st82)\n",
    "print(gold_st82.size)"
   ]
  },
  {
   "cell_type": "code",
   "execution_count": null,
   "metadata": {},
   "outputs": [],
   "source": [
    "import healpy as hp\n",
    "\n",
    "path = '/fs/scratch/PCON0003/warner785/bwarner/'\n",
    "LSSGoldmask = fitsio.read(path+'MASK_Y3LSSBAOSOF_22_3_v2p2.fits')\n",
    "\n",
    "new_array = np.zeros(hp.nside2npix(4096)) #number of pixels, zeroes of correct length\n",
    "#blank_array[LSSGoldmask['PIXEL']] = 1 #each element cor. to 1 healpix pixel\n",
    "ringhp = hp.nest2ring(4096, [LSSGoldmask['PIXEL']])\n",
    "new_array[ringhp] = 1\n",
    "#hp.mollview(blank_array, nest= True)\n",
    "hp.mollview(new_array, nest= False)\n",
    "#convert from ring to nested hpixel:\n",
    "\n",
    "#plot the ra, dec of matches before and after applying keepGoodRegion to find where galaxies are lost\n",
    "#import ---\n",
    "plt.plot(ra, dec, \",\") # mark around plot is single pixel, not full circle-- for large data "
   ]
  },
  {
   "cell_type": "code",
   "execution_count": null,
   "metadata": {},
   "outputs": [],
   "source": [
    "?hp.ring2nest"
   ]
  },
  {
   "cell_type": "markdown",
   "metadata": {},
   "source": [
    "Loading BOSS CMASS photometric sample"
   ]
  },
  {
   "cell_type": "code",
<<<<<<< HEAD
   "execution_count": 21,
=======
   "execution_count": 5,
>>>>>>> 1823efbff6519f459521800a95a1991e8d2be281
   "metadata": {},
   "outputs": [
    {
     "name": "stdout",
     "output_type": "stream",
     "text": [
      "total num of train 258884\n",
      "\n",
      "--------------------------------\n",
      " applying DES veto mask to CMASS\n",
      "--------------------------------\n",
<<<<<<< HEAD
      "num of train_sample after des veto 61031\n"
=======
      "num of train_sample after des veto 258884\n"
>>>>>>> 1823efbff6519f459521800a95a1991e8d2be281
     ]
    }
   ],
   "source": [
    "#this CMASS used for Y1, and Y3 now:\n",
    "\n",
    "import fitsio\n",
    "cmass = esutil.io.read('/fs/scratch/PCON0003/warner785/bwarner/cmass-dr12v4-S-Reid-full.dat.fits')\n",
    "train_sample = esutil.io.read('/fs/scratch/PCON0003/warner785/bwarner/cmass-dr12v4-S-Reid-full.dat.fits')\n",
    "#train_sample = esutil.io.read('/global/cscratch1/sd/bwarner/galaxy_DR11v1_CMASS_South-photoObj.fits.gz')\n",
    "print('total num of train', train_sample.size)\n",
    "print('\\n--------------------------------\\n applying DES veto mask to CMASS\\n--------------------------------')   \n",
<<<<<<< HEAD
    "train_sample = keepGoodRegion(train_sample)\n",
=======
    "#train_sample = keepGoodRegion(train_sample)\n",
>>>>>>> 1823efbff6519f459521800a95a1991e8d2be281
    "\n",
    "#fitsio.write( output_dir+'/cmass_in_st82.fits', train_sample)\n",
    "\n",
    "print('num of train_sample after des veto', train_sample.size)"
   ]
  },
  {
   "cell_type": "markdown",
   "metadata": {},
   "source": [
    "Now we find the CMASS galaxies in the DES Y3 GOLD catalog by matching positions of galaxies.  "
   ]
  },
  {
   "cell_type": "code",
<<<<<<< HEAD
   "execution_count": 27,
=======
   "execution_count": 6,
>>>>>>> 1823efbff6519f459521800a95a1991e8d2be281
   "metadata": {},
   "outputs": [
    {
     "name": "stdout",
     "output_type": "stream",
     "text": [
<<<<<<< HEAD
      "61031\n",
      "9547728\n",
      "('num of cmass in des side', 60191, '(23%)')\n"
=======
      "258884\n",
      "9547728\n",
      "('num of cmass in des side', 70407, '(27%)')\n"
>>>>>>> 1823efbff6519f459521800a95a1991e8d2be281
     ]
    }
   ],
   "source": [
    "# find cmass in des_gold side --------------------\n",
    "print(train_sample.size)\n",
    "print(gold_st82.size)\n",
    "mg1, mg2, _ = esutil.htm.HTM(10).match(train_sample['RA'], train_sample['DEC'], gold_st82['RA'], \\\n",
    "                                         gold_st82['DEC'],2./3600, maxmatch=1)\n",
    "cmass_mask = np.zeros(gold_st82.size, dtype=bool)\n",
    "cmass_mask[mg2] = 1\n",
    "clean_cmass_data_des, nocmass = gold_st82[cmass_mask], gold_st82[~cmass_mask]\n",
    "\n",
    "\n",
    "print(('num of cmass in des side', clean_cmass_data_des.size, '({:0.0f}%)'.format(clean_cmass_data_des.size*1./cmass.size*100.)))"
   ]
  },
  {
   "cell_type": "code",
   "execution_count": null,
   "metadata": {},
   "outputs": [],
   "source": [
    "# save the samples. \n",
    "outdir = '../output/test/train_cat/y3/'\n",
    "os.makedirs(outdir, exist_ok=True)\n",
    "esutil.io.write( outdir+'train_cmass_sample_sdss.fits', clean_cmass_data_sdss, overwrite=True)\n",
    "esutil.io.write( outdir+'train_cmass_sample_des.fits', clean_cmass_data_des, overwrite=True)\n",
    "esutil.io.write( outdir+'train_non_cmass_sample_des.fits', nocmass, overwrite=True)"
   ]
  },
  {
   "cell_type": "code",
   "execution_count": 26,
   "metadata": {},
   "outputs": [
    {
     "data": {
      "image/png": "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\n",
      "text/plain": [
       "<Figure size 720x576 with 1 Axes>"
      ]
     },
     "metadata": {
      "needs_background": "light"
     },
     "output_type": "display_data"
    }
   ],
   "source": [
    "# Plotting footprint\n",
    "#import matplotlib.pyplot as plt\n",
    "#LSSGoldmask = fitsio.read('/fs/scratch/PCON0003/warner785/bwarner/MASK_Y3LSSBAOSOF_22_3_v2p2.fits')\n",
    "#hpdes = hp.ang2pix(4096, gold_st82['RA'], gold_st82['DEC'])\n",
<<<<<<< HEAD
    "#ringhp = hp.nest2ring(4096, [LSSGoldmask['PIXEL']])\n",
    "#rapix, decpix = hp.pix2ang(4096, ringhp, lonlat = True)\n",
    "#cmass, clean_cmass_data_des\n",
    "spatialcheck([train_sample], \n",
    "             label = ['CMASS Footprint in Train Sample'], convert = None, ratag='RA',dectag='DEC')\n",
    "#plt.plot(rapix, decpix, \",\")"
=======
    "ringhp = hp.nest2ring(4096, [LSSGoldmask['PIXEL']])\n",
    "rapix, decpix = hp.pix2ang(4096, ringhp, lonlat = True)\n",
    "spatialcheck([cmass], \n",
    "             label = ['CMASS'], convert = None, ratag='RA',dectag='DEC')\n",
    "plt.plot(rapix, decpix, \",\")"
>>>>>>> 1823efbff6519f459521800a95a1991e8d2be281
   ]
  },
  {
   "cell_type": "code",
   "execution_count": null,
   "metadata": {},
   "outputs": [],
   "source": [
    "print(cmass.dtype)\n",
    "import healpy as hp\n",
    "\n",
    "#making healpix IDs from RA and DEC\n",
    "ra = train_sample['RA'] \n",
    "dec = train_sample['DEC']  \n",
    "hp.ang2pix(4096, ra, dec, lonlat = True) #converts ang. cor. to healpix ids\n"
   ]
  },
  {
   "cell_type": "markdown",
   "metadata": {},
   "source": [
    "# Footprints of Train and Test regions"
   ]
  },
  {
   "cell_type": "markdown",
   "metadata": {},
   "source": [
    "Codes for computing the areas of the training and test regions. \n",
    "This is not needed to run the DMASS algorithm. Only included this here as you asked before. "
   ]
  },
  {
   "cell_type": "code",
   "execution_count": null,
   "metadata": {},
   "outputs": [],
   "source": [
    "import healpy as hp\n",
    "\n",
    "# calling Y3 GOLD footprint map\n",
    "# downloaded from https://cdcvs.fnal.gov/redmine/projects/des-y3/wiki/Y3A2_Gold_footprint\n",
    "#mapname='/global/homes/b/bwarner/DMASS/code/y3a2_footprint_griz_1exp_v2.0.fits.gz.1'\n",
    "mapname = '/global/cscratch1/sd/bwarner/MASK_Y3LSSBAOSOF_22_3_v2p2.fits'\n",
    "hpmap_y3gold = hp.read_map(mapname)\n",
    "goodmask = hp.mask_good(hpmap_y3gold)\n",
    "hpind_y3gold = np.arange(hpmap_y3gold.size)\n",
    "\n",
    "#making healpix IDs from RA and DEC\n",
    "ra = train_sample['RA'] \n",
    "dec = train_sample['DEC']  \n",
    "mask_cmass= hp.ang2pix(4096, ra, dec, lonlat = True) #converts ang. cor. to healpix ids\n",
    "\n",
    "# Generate mask for cmass\n",
    "mask_train = np.in1d(mask_cmass, hpind_y3gold[goodmask])\n",
    "\n",
    "# Apply mask to extract cmass in the Y3 gold region\n",
    "# This results 76722 CMASS galaxies\n",
    "train_sample = mask_cmass[mask_train]"
   ]
  },
  {
   "cell_type": "code",
   "execution_count": null,
   "metadata": {},
   "outputs": [],
   "source": [
    "# convert hp indices to ra/dec and split into st82 (training) and spt (test) regions. \n",
    "# Apply a rough cut (DEC > -10.0)\n",
    "ra_hpmap_y3gold, dec_hpmap_y3gold = hpHEALPixelToRaDec( hpind_y3gold[goodmask], nside = 4096, nest=False )\n",
    "mask_hpmap_y3gold_training = dec_hpmap_y3gold > -10.0\n",
    "mask_hpmap_y3gold_testing = dec_hpmap_y3gold < -10.0\n",
    "\n",
    "pixarea = hp.nside2pixarea( 4096, degrees = True)\n",
    "npix_training =  np.sum(mask_hpmap_y3gold_training)\n",
    "npix_testing = np.sum(mask_hpmap_y3gold_testing)\n",
    "TrainingMapArea = pixarea * npix_training\n",
    "TestingMapArea = pixarea * npix_testing\n",
    "print ('<Survey Area> \\n-This is a rough estimation')\n",
    "print ('training region (dec > -10.0):{:5.0f} sq.deg'.format(TrainingMapArea) )\n",
    "print ('testing region  (dec < -10.0):{:5.0f} sq.deg'.format(TestingMapArea) )"
   ]
  },
  {
   "cell_type": "markdown",
   "metadata": {},
   "source": [
    "# Training the algorithm"
   ]
  },
  {
   "cell_type": "code",
   "execution_count": null,
   "metadata": {},
   "outputs": [],
   "source": [
    "# call training samples\n",
    "outdir = '../output/test/train_cat/'\n",
    "clean_cmass_data_des = esutil.io.read( outdir+'train_cmass_sample_des.fits')\n",
    "nocmass = esutil.io.read( outdir+'train_non_cmass_sample_des.fits')"
   ]
  },
  {
   "cell_type": "code",
   "execution_count": null,
   "metadata": {},
   "outputs": [],
   "source": [
    "# For a fast run, we draw a random sample to reduce the sample size. \n",
    "# Larger sample tends to make a better model but the sample size is not always proportional to the accuracy of the model. \n",
    "\n",
    "# Put sample size you want \n",
    "\n",
    "n_sample = int(clean_cmass_data_des.size)  # train cmass sample size\n",
    "n_sample_non = int(nocmass.size/20)          # train non-cmass sample size, **speed of the code**\n",
    "#5% of the non-cmass sample-- for test run\n",
    "#full training: n_sample_non = int(nocmass.size/10) --random sampling\n",
    "#check reasonable color distribution\n",
    "\n",
    "#n_sample =  int(clean_cmass_data_des.size)  # train cmass sample size\n",
    "#n_sample_non = int(nocmass.size/20)          # train non-cmass sample size\n",
    "\n",
    "print('random sampling... ')\n",
    "sampling_ind = np.random.choice(np.arange(clean_cmass_data_des.size), size = n_sample)\n",
    "clean_cmass_data_des_sub = clean_cmass_data_des[sampling_ind]\n",
    "print('num of randomly sampled cmass ', clean_cmass_data_des_sub.size)\n",
    "random_sampling_ind = np.random.choice(np.arange(nocmass.size), size = n_sample_non )\n",
    "nocmass_sub = nocmass[random_sampling_ind]\n",
    "print('num of randomly sampled non-cmass ', nocmass_sub.size)\n",
    "\n",
    "# The fraction of CMASS galaxies in the training region.\n",
    "# This number is required to put a prior for the Bayesian statistics \n",
    "cmass_fraction = clean_cmass_data_des.size *1./gold_st82.size\n",
    "print('cmass_fraction (cmass/non-cmass): ', cmass_fraction)\n",
    "outdir = '../output/test/fitting/'\n",
    "os.makedirs(outdir, exist_ok=True)\n",
    "f = open(outdir+'cmassfrac', 'w')\n",
    "f.write('{0:.10f}'.format(cmass_fraction))\n",
    "f.close()"
   ]
  },
  {
   "cell_type": "markdown",
   "metadata": {},
   "source": [
    "### Model Fitting"
   ]
  },
  {
   "cell_type": "code",
   "execution_count": null,
   "metadata": {},
   "outputs": [],
   "source": [
    "# number of gaussian mixtures\n",
    "# Set None for a initial run. The algorithm automatically finds an optimal number\n",
    "n_cmass = None    # for cmass\n",
    "n_no = None       # for non-cmass \n",
    "\n",
    "# number of XD iteration. \n",
    "# I set these numbers small for a fast run but generally\n",
    "# should be run until the XD algorithm converges (more than 10000 iterations)\n",
    "n_iter_cmass = 10  #500 for CMASS**** important\n",
    "n_iter_no = 1  #10-100 for test -- not nec. converging\n",
    "# tolerance\n",
    "tol = 1E-5\n",
    "\n",
    "# Fitted parameters and covariance will be stored as a pickle\n",
    "outdir = '../output/test/fitting/'\n",
    "os.makedirs(outdir, exist_ok=True)\n",
    "cmass_pickle = outdir+'gauss_cmass.pkl'\n",
    "no_pickle = outdir+'gauss_no.pkl'"
   ]
  },
  {
   "cell_type": "code",
   "execution_count": null,
   "metadata": {},
   "outputs": [],
   "source": [
    "# Magnitudes and corresponding errors you want to use to train the algorithm. \n",
    "# `mixing_color` automatically constructs [mag g, mag r, color (g-r), color (r-i)] and \n",
    "# its 4x4 covariance matrix from the input magnitudes. \n",
    "# I simply put `SOF_CM_MAG_CORRECTED` magnitudes for now. \n",
    "# If you want to use different combinations of mags and colors, \n",
    "# modify `mixing_color` or build your own function. \n",
    "mag = ['SOF_CM_MAG_CORRECTED', 'SOF_CM_MAG_CORRECTED' ]\n",
    "err = ['SOF_CM_MAG_ERR', 'SOF_CM_MAG_ERR']\n",
    "filter = ['G', 'R', 'I']\n",
    "\n",
    "# This generates four columns of cmass training sample. order : mag r, mag i, (g-r), (r-i)\n",
    "X_cmass_true, X_cmass_cov = mixing_color(clean_cmass_data_des_sub, \n",
    "                mag = mag, err=err, filter=filter, \n",
    "                no_zband = True )\n",
    "\n",
    "# This generates four columns of non-cmass training sample. order : mag r, mag i, (g-r), (r-i)\n",
    "X_no_true, X_no_cov = mixing_color(nocmass_sub, \n",
    "                mag = mag, err=err, filter=filter, \n",
    "                no_zband = True )"
   ]
  },
  {
   "cell_type": "code",
   "execution_count": null,
   "metadata": {},
   "outputs": [],
   "source": [
    "# Run XD Fitting. This will take a while \n",
    "clf_cmass = XD_fitting_X( X_cmass_true, X_cmass_cov, pickleFileName = cmass_pickle, \n",
    "                       n_cl = n_cmass, n_iter = n_iter_cmass, tol = tol, \n",
    "                       verbose = True, init_params= None)                 \n",
    "clf_no = XD_fitting_X( X_no_true, X_no_cov, pickleFileName = no_pickle, \n",
    "                    n_cl = n_no, n_iter = n_iter_no, tol = tol, \n",
    "                    verbose = True, init_params = None)"
   ]
  },
  {
   "cell_type": "markdown",
   "metadata": {},
   "source": [
    "# Validation of the fitted XD model"
   ]
  },
  {
   "cell_type": "code",
   "execution_count": null,
   "metadata": {},
   "outputs": [],
   "source": [
    "# call saved pickles if you empty memory. Otherwise skip it \n",
    "outdir = '../output/test/fitting/'\n",
    "cmass_pickle = outdir+'gauss_cmass.pkl'\n",
    "no_pickle = outdir+'gauss_no.pkl'\n",
    "clf_cmass = XD_fitting_X( None, None, pickleFileName = cmass_pickle)               \n",
    "clf_no = XD_fitting_X( None, None, pickleFileName = no_pickle)"
   ]
  },
  {
   "cell_type": "code",
   "execution_count": null,
   "metadata": {},
   "outputs": [],
   "source": [
    "# We will generate a random sample from the fitted model and compare the resulting samples with the training sample\n",
    "# If the model is correct, the random sample should match with the training sample\n",
    "X_sample_cmass = clf_cmass.sample(200000)  # cmass model\n",
    "X_sample_no = clf_no.sample(200000)        # non-cmass model"
   ]
  },
  {
   "cell_type": "code",
   "execution_count": null,
   "metadata": {},
   "outputs": [],
   "source": [
    "# Comparison. train vs. randoms from the fitted gaussian mixture model\n",
    "#color distribution test:\n",
    "\n",
    "doVisualization_1d( data=[X_cmass_true, X_sample_cmass], \n",
    "                   labels = ['mag r', 'mag i', 'g-r', 'r-i'], \n",
    "                   ranges = None, \n",
    "                   name = ['train sample', 'model sample'], \n",
    "                   weight = [None,None], \n",
    "                   nbins=100)"
   ]
  },
  {
   "cell_type": "code",
   "execution_count": null,
   "metadata": {},
   "outputs": [],
   "source": [
    "# Comparison. train vs. randoms for non-cmass\n",
    "doVisualization_1d( data=[X_no_true, X_sample_no], \n",
    "                   labels = ['mag r', 'mag i', 'g-r', 'r-i'], \n",
    "                   ranges = None, \n",
    "                   name = ['train sample', 'model sample'], \n",
    "                   weight = [None,None], \n",
    "                   nbins=100)"
   ]
  },
  {
   "cell_type": "markdown",
   "metadata": {},
   "source": [
    "If model samples agree with the training samples, we will use the fitted model to assign a CMASS membership probability to the Y3 Gold galaxies. First, try with the training region. As the model is trained with the training region, the assigned probability should reflect the color distributions of the taining galaxies. "
   ]
  },
  {
   "cell_type": "code",
   "execution_count": null,
   "metadata": {},
   "outputs": [],
   "source": [
    "###FIGURE 3:\n",
    "\n",
    "# For a fast run, we use a subset of y3 gold selected randomly.  \n",
    "# Generate random indices, sample size 100,000\n",
    "\n",
    "#rand_ind = np.random.choice(np.arange(gold_st82.size), size = 100000)\n",
    "gold_st82_sub = fitsio.read('../output/test/train_cat/train_cmass_sample_des.fits')\n",
    "#changed to cmass-matched in DES cat in st82\n",
    "\n",
    "# Assigning CMASS probabilities to Gold Y3 in Stripe 82.\n",
    "mag = ['SOF_CM_MAG_CORRECTED', 'SOF_CM_MAG_CORRECTED'] \n",
    "err = ['SOF_CM_MAG_ERR', 'SOF_CM_MAG_ERR'] \n",
    "filter = ['G', 'R', 'I']\n",
    "gold_st82_test = assignCMASSProb(gold_st82_sub, clf_cmass, clf_no, \n",
    "                     cmass_fraction = 0.006678648677551668\n",
    ", \n",
    "                     mag=mag, err=err, filter=filter )"
   ]
  },
  {
   "cell_type": "code",
   "execution_count": null,
   "metadata": {},
   "outputs": [],
   "source": [
    "print(gold_st82_test.size)\n",
    "print(gold_st82_test.dtype.names)\n",
    "#np.histogram(gold_st82_test['CMASS_PROB'], bins=20)\n",
    "pbin = np.linspace(0, 1, 21)\n",
    "pcenter = pbin[:-1] + 0.025\n",
    "N, _ = np.histogram( gold_st82_test['CMASS_PROB'], bins=pbin)\n",
    "print(pbin)"
   ]
  },
  {
   "cell_type": "code",
   "execution_count": null,
   "metadata": {},
   "outputs": [],
   "source": [
    "import matplotlib.pyplot as plt\n",
    "#pbin, frac, fracerr = np.genfromtxt('../paper_figure/model_probability.txt', unpack=True)\n",
    "\n",
    "frac = N/gold_st82_test.size\n",
    "fracerr = np.zeros(20)\n",
    "\n",
    "print(N.size)\n",
    "print(pbin.size)\n",
    "print(frac)\n",
    "\n",
    "fig, ax = plt.subplots(figsize = (5.3,5))\n",
    "\n",
    "ax.bar(pcenter, frac , 5, edgecolor='w',\n",
    "        color='grey', yerr = fracerr, \n",
    "        alpha = 0.5, label = 'test', error_kw = {'elinewidth':0.01, 'capsize':2.4} )\n",
    "\n",
    "ax.plot([0,1], [0,1], ls='--', color='grey')\n",
    "ax.set_ylim(0,1)\n",
    "ax.set_xlim(0,1)\n",
    "\n",
    "ax.set_xlabel(r'{\\rm Model Probability (\\%)}', fontsize = 20)\n",
    "ax.set_ylabel(r'$f_{ {\\rm CMASS},~i}~(\\%)$', fontsize = 20)\n",
    "ax.tick_params(axis='both', labelsize = 15)\n",
    "#ax.legend(loc='best', fontsize=15)\n",
    "fig.tight_layout()\n",
    "#fig.savefig('../paper_figure/model_probability.pdf')"
   ]
  },
  {
   "cell_type": "markdown",
   "metadata": {},
   "source": [
    "The probability is saved into the `CMASS_PROB` column. `y3 gold` galaxies should be weighted with this column to be a DMASS galaxy. Now we will compare the color/magnitude distributions of the weighted `y3 gold` galaxies (DMASS) with the training sample"
   ]
  },
  {
   "cell_type": "code",
   "execution_count": null,
   "metadata": {},
   "outputs": [],
   "source": [
    "# Generate Four columns of data : mag r, mag i, (g-r), (r-i)\n",
    "X_dmass_st82, Xcov = mixing_color(gold_st82_test, \n",
    "                mag = ['SOF_CM_MAG_CORRECTED', 'SOF_CM_MAG_CORRECTED'], \n",
    "                err = ['SOF_CM_MAG_ERR', 'SOF_CM_MAG_ERR'], \n",
    "                filter = ['G', 'R', 'I'],\n",
    "                no_zband = True  )"
   ]
  },
  {
   "cell_type": "code",
   "execution_count": null,
   "metadata": {},
   "outputs": [],
   "source": [
    "# Comparison plot for the training sample (cmass) vs. dmass sample selected in the training region\n",
    "# DMASS sample should be weighted by 'CMASS_PROB' column when plotting\n",
    "weight_dmass = gold_st82_test['CMASS_PROB']\n",
    "doVisualization_1d( data=[X_cmass_true, X_dmass_st82], \n",
    "                   weight = [None, weight_dmass], # put DMASS weight here \n",
    "                   labels = ['mag r', 'mag i', 'g-r', 'r-i'], \n",
    "                   ranges = None, \n",
    "                   name = ['train sample', 'dmass in the training region'], \n",
    "                   nbins=100)"
   ]
  },
  {
   "cell_type": "markdown",
   "metadata": {},
   "source": [
    "# Apply the fitted model to galaxies outside the training region"
   ]
  },
  {
   "cell_type": "markdown",
   "metadata": {},
   "source": [
    "If the fitted model works well in the training region, we will apply the model to `y3 gold` galaxies outside the training region. We call a small patch of `y3 gold` at `-40 < dec < -30`, `10 < ra < 20`. "
   ]
  },
  {
   "cell_type": "code",
   "execution_count": null,
   "metadata": {},
   "outputs": [],
   "source": [
    "# empty memory \n",
    "gold_st82 = None\n",
    "gold_st82_sub = None\n",
    "nocmass = None"
   ]
  },
  {
   "cell_type": "code",
   "execution_count": null,
   "metadata": {},
   "outputs": [],
   "source": [
    "# Calling Y3 GOLD in a small square area \n",
    "input_path = '/global/cscratch1/sd/bwarner/'\n",
    "input_keyword = 'Y3_GOLD_2_0_SPT_ra10_20'\n",
    "columns = \\\n",
    "['RA', 'DEC', 'HPIX_4096', \n",
    "'COADD_OBJECT_ID', \n",
    "'SOF_CM_MAG_CORRECTED_G',\n",
    "'SOF_CM_MAG_CORRECTED_R',\n",
    "'SOF_CM_MAG_CORRECTED_I',\n",
    "'SOF_CM_MAG_CORRECTED_Z',\n",
    "'SOF_CM_MAG_ERR_G',\n",
    "'SOF_CM_MAG_ERR_R',\n",
    "'SOF_CM_MAG_ERR_I',\n",
    "'SOF_CM_MAG_ERR_Z']\n",
    "gold_spt = io.SearchAndCallFits(path = input_path, keyword = input_keyword, columns=columns)\n",
    "\n",
    "# Apply the same color/mag cuts to exclude extreme color/mag sources \n",
    "mask_magcut = priorCut_test(gold_spt)\n",
    "gold_spt = gold_spt[mask_magcut]"
   ]
  },
  {
   "cell_type": "code",
   "execution_count": null,
   "metadata": {},
   "outputs": [],
   "source": [
    "# For a fast run, draw a random sample to reduce the sample size \n",
    "rand_ind = np.random.choice(np.arange(gold_spt.size), size = 100000)\n",
    "gold_spt_sub = gold_spt[rand_ind]\n",
    "\n",
    "# Assigning CMASS probabilities to Gold Y3\n",
    "mag = ['SOF_CM_MAG_CORRECTED', 'SOF_CM_MAG_CORRECTED'] \n",
    "err = ['SOF_CM_MAG_ERR', 'SOF_CM_MAG_ERR'] \n",
    "filter = ['G', 'R', 'I']\n",
    "gold_spt_test = assignCMASSProb(gold_spt_sub, clf_cmass, clf_no, \n",
    "                     cmass_fraction = cmass_fraction, \n",
    "                     mag=mag, err=err, filter=filter )"
   ]
  },
  {
   "cell_type": "code",
   "execution_count": null,
   "metadata": {},
   "outputs": [],
   "source": [
    "X_dmass, Xcov = mixing_color(gold_spt_test, \n",
    "                mag = ['SOF_CM_MAG_CORRECTED', 'SOF_CM_MAG_CORRECTED'], \n",
    "                err = ['SOF_CM_MAG_ERR', 'SOF_CM_MAG_ERR'], \n",
    "                filter = ['G', 'R', 'I'],\n",
    "                no_zband = True  )"
   ]
  },
  {
   "cell_type": "code",
   "execution_count": null,
   "metadata": {},
   "outputs": [],
   "source": [
    "weight_dmass = gold_spt_test['CMASS_PROB']\n",
    "doVisualization_1d(data=[X_cmass_true, X_dmass], \n",
    "                   weight = [None, weight_dmass],  # apply dmass weights\n",
    "                   labels = ['mag r', 'mag i', 'g-r', 'r-i'], \n",
    "                   ranges = None, \n",
    "                   name = ['train', 'dmass'], \n",
    "                   nbins=100)"
   ]
  },
  {
   "cell_type": "code",
   "execution_count": null,
   "metadata": {},
   "outputs": [],
   "source": [
    "#KS test:\n",
    "from scipy import stats\n",
    "\n",
    "#print(X_cmass_true.shape)\n",
    "#print(X_dmass.shape)\n",
    "#print(weight_dmass.shape)\n",
    "\n",
    "#matching catalogs\n",
    "#cuts to select RA and DEC\n",
    "\n",
    "#numpy array slicing function \n",
    "#pass the first column etc.\n",
    "\n",
    "Xdmass_magr=X_dmass[:,0]\n",
    "Xdmass_magi=X_dmass[:,1]\n",
    "Xdmass_gr=X_dmass[:,2]\n",
    "Xdmass_ri=X_dmass[:,3]\n",
    "\n",
    "Xcmass_magr=X_cmass_true[:,0]\n",
    "Xcmass_magi=X_cmass_true[:,1]\n",
    "Xcmass_gr=X_cmass_true[:,2]\n",
    "Xcmass_ri=X_cmass_true[:,3]\n",
    "\n",
    "print(Xdmass_magi.shape)\n",
    "print(Xcmass_magr.shape)\n",
    "\n",
    "stats.kstest(Xcmass_magr, Xdmass_magr)\n",
    "stats.kstest(Xcmass_magi, Xdmass_magi)\n",
    "stats.kstest(Xcmass_gr, Xdmass_gr)\n",
    "stats.kstest(Xcmass_ri, Xdmass_ri)\n",
    "\n",
    "#model training: make dist. match up more\n",
    "#larger training set\n",
    "\n",
    "######################################\n",
    "#other notes:\n",
    "\n",
    "#astro-coffee: once a week- depending on topic\n",
    "#cosmology meeting Tuesday: 2pm-3pm (zoom)\n",
    "#mailing list: subscribed?\n",
    "#cosmolunch: present paper every so often"
   ]
  },
  {
   "cell_type": "code",
   "execution_count": null,
   "metadata": {},
   "outputs": [],
   "source": [
    "#create subsample:\n",
    "#select all g-r values within an amount\n",
    "\n"
   ]
  },
  {
   "cell_type": "code",
   "execution_count": null,
   "metadata": {},
   "outputs": [],
   "source": [
    "#KS test sample (not same distribution):\n",
    "from scipy import stats\n",
    "#Arrays:\n",
    "i=[0.125,0.375,0.375,0.5,0.5,0.875,1]\n",
    "f=[0.285714,0.428571,0.714286,0.714286,0.857143,1,1]\n",
    "\n",
    "stats.kstest(i,f)"
   ]
  },
  {
   "cell_type": "code",
   "execution_count": null,
   "metadata": {},
   "outputs": [],
   "source": [
    "#KS test sample 2 (same distribution):\n",
    "from scipy import stats\n",
    "\n",
    "m=[0.05, 0.1875, 0.25, 0.3375, 0.3375, 0.4, 0.5125, 0.675, 0.925, 1]\n",
    "w=[0.112903, 0.177419, 0.193548, 0.370968, 0.564516, 0.629032, 0.66129, 0.725806, 0.854839, 1]\n",
    "\n",
    "stats.kstest(m,w)"
   ]
  },
  {
   "cell_type": "code",
   "execution_count": null,
   "metadata": {},
   "outputs": [],
   "source": [
    "#data from the same distribution:\n",
    "import numpy\n",
    "import matplotlib.pyplot as plt\n",
    "from scipy import stats\n",
    "\n",
    "x = numpy.random.normal(5.0, 1.0, 100000)\n",
    "\n",
    "#randomly select from array (twice):\n",
    "x1=np.random.choice(x, 50000, replace=False)\n",
    "x2=np.random.choice(x, 50000, replace=False)\n",
    "\n",
    "print(x1.shape)\n",
    "plt.hist(x, 100)\n",
    "plt.show()\n",
    "\n",
    "#check that ks test gives a correlation:\n",
    "stats.kstest(x1,x2)"
   ]
  },
  {
   "cell_type": "code",
   "execution_count": null,
   "metadata": {},
   "outputs": [],
   "source": [
    "#push to repo\n",
    "#KS test by hand: double check \n",
    "#p value, X^2\n",
    "#write out changing pieces\n",
    "#main functions in code: input outputs-- Y3\n",
    "####decide training set\\validation set-- part of overlap data is only used for testing\n",
    "#cross-validation of model while training\n",
    "#decide once-- Su- what was considered during choice\n",
    "#look at mock catalog-- Y3 realization of Y3 data-- mag. colors. simulated photo z-- use catalog and simulate DMASS by \n"
   ]
  }
 ],
 "metadata": {
  "kernelspec": {
   "display_name": "Python (DES_env)",
   "language": "python",
   "name": "des_env"
  },
  "language_info": {
   "codemirror_mode": {
    "name": "ipython",
    "version": 3
   },
   "file_extension": ".py",
   "mimetype": "text/x-python",
   "name": "python",
   "nbconvert_exporter": "python",
   "pygments_lexer": "ipython3",
   "version": "3.7.0"
  }
 },
 "nbformat": 4,
 "nbformat_minor": 4
}
