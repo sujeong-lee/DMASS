{
 "cells": [
  {
   "cell_type": "code",
   "execution_count": 1,
   "id": "2a756990-6979-4cd6-92ea-bf36bcb1d1b1",
   "metadata": {},
   "outputs": [
    {
     "name": "stderr",
     "output_type": "stream",
     "text": [
      "WARNING: AstroMLDeprecationWarning: 'decorators' has been moved to 'astroML.utils' and will be removed from the main namespace in the future. [astroML.decorators]\n",
      "In /users/PCON0003/warner785/.conda/envs/DES_env/lib/python3.7/site-packages/matplotlib/mpl-data/stylelib/_classic_test.mplstyle: \n",
      "The savefig.frameon rcparam was deprecated in Matplotlib 3.1 and will be removed in 3.3.\n",
      "In /users/PCON0003/warner785/.conda/envs/DES_env/lib/python3.7/site-packages/matplotlib/mpl-data/stylelib/_classic_test.mplstyle: \n",
      "The verbose.level rcparam was deprecated in Matplotlib 3.1 and will be removed in 3.3.\n",
      "In /users/PCON0003/warner785/.conda/envs/DES_env/lib/python3.7/site-packages/matplotlib/mpl-data/stylelib/_classic_test.mplstyle: \n",
      "The verbose.fileo rcparam was deprecated in Matplotlib 3.1 and will be removed in 3.3.\n"
     ]
    },
    {
     "name": "stdout",
     "output_type": "stream",
     "text": [
      "Resulting catalog size\n",
      "DMASS= 341117.6414259936\n"
     ]
    },
    {
     "name": "stderr",
     "output_type": "stream",
     "text": [
      "/users/PCON0003/warner785/.conda/envs/DES_env/lib/python3.7/site-packages/healpy/pixelfunc.py:481: RuntimeWarning: invalid value encountered in _ang2pix_ring\n",
      "  return pixlib._ang2pix_ring(nside, theta, phi)\n"
     ]
    }
   ],
   "source": [
    "import sys\n",
    "sys.path.append('../')\n",
    "from xd import *\n",
    "from utils import *\n",
    "import esutil\n",
    "import healpy as hp\n",
    "from systematics import *\n",
    "from systematics_module import *\n",
    "import os\n",
    "from numpy.lib.recfunctions import append_fields\n",
    "import scipy.stats\n",
    "\n",
    "import matplotlib.pyplot as plt\n",
    "import numpy as np\n",
    "from run_systematics import sys_iteration, weightmultiply, fitting_allSP, calling_sysMap\n",
    "from sys_functions import *\n",
    "\n",
    "#debugging:\n",
    "#import ipdb\n",
    "#ipdb.set_trace()\n",
    "\n",
    "\n",
    "# -----------------------\n",
    "\n",
    "#variables to set:\n",
    "\n",
    "SPT = True\n",
    "SPmap = False\n",
    "\n",
    "# -----------------------\n",
    "\n",
    "if SPT == True:\n",
    "    dmass_spt = calling_catalog('/fs/scratch/PCON0008/warner785/bwarner/dmass_spt.fits')\n",
    "    random_spt = uniform_random_on_sphere(dmass_spt, size = 10*int(np.sum(dmass_spt['CMASS_PROB']))) \n",
    "    random_spt = keepGoodRegion(random_spt)\n",
    "    random_spt = appendColumn(random_spt, value=np.ones(random_spt.size), name='CMASS_PROB')\n",
    "    index_mask = np.argsort(dmass_spt)\n",
    "    dmass_chron = dmass_spt[index_mask] # ordered by hpix values\n",
    "    \n",
    "else:\n",
    "    dmass_val = calling_catalog('/users/PCON0003/warner785/DMASSY3/output/test/train_cat/y3/dmass_part2.fits')\n",
    "    random_val = uniform_random_on_sphere(dmass_val, size = 10*int(np.sum(dmass_val['CMASS_PROB'])))#larger size of randoms\n",
    "    random_val = keepGoodRegion(random_val)\n",
    "    random_val = appendColumn(random_val, value=np.ones(random_val.size), name='CMASS_PROB')\n",
    "    index_mask = np.argsort(dmass_val)\n",
    "    dmass_chron = dmass_val[index_mask]\n",
    "    \n",
    "dmass_chron['HPIX_4096'] = hp.nest2ring(4096, dmass_chron['HPIX_4096']) \n",
    "\n",
    "path = '/fs/scratch/PCON0008/warner785/bwarner/'\n",
    "fracDet = fitsio.read(path+'y3a2_griz_o.4096_t.32768_coverfoot_EQU.fits.gz')\n",
    "\n",
    "if SPT == True:\n",
    "    phi = random_spt['RA'] * np.pi / 180.0\n",
    "    theta = ( 90.0 - random_spt['DEC'] ) * np.pi/180.0\n",
    "\n",
    "else:    \n",
    "    phi = random_val['RA'] * np.pi / 180.0\n",
    "    theta = ( 90.0 - random_val['DEC'] ) * np.pi/180.0\n",
    "    \n",
    "random_pix = hp.ang2pix(4096, theta, phi)\n",
    "\n",
    "frac = np.zeros(hp.nside2npix(4096))\n",
    "fracDet[\"PIXEL\"] = hp.nest2ring(4096, fracDet['PIXEL'])\n",
    "frac[fracDet['PIXEL']] = fracDet['SIGNAL']\n",
    "fracHp = np.full(hp.nside2npix(4096), hp.UNSEEN)\n",
    "fracHp[fracDet['PIXEL']] = fracDet['SIGNAL']\n",
    "\n",
    "frac_obj = frac[random_pix]\n",
    "\n",
    "u = np.random.rand(len(random_pix))\n",
    "#select random points with the condition u < frac_obj\n",
    "if SPT == True:\n",
    "    random_spt_fracselected = random_spt[u < frac_obj]\n",
    "    randoms4096 = random_pixel(random_spt_fracselected)\n",
    "else:\n",
    "    random_val_fracselected = random_val[u < frac_obj]\n",
    "    randoms4096 = random_pixel(random_val_fracselected)\n",
    "\n",
    "index_ran_mask = np.argsort(randoms4096)\n",
    "random_chron = randoms4096[index_ran_mask]\n",
    "\n",
    "outdir = '/fs/scratch/PCON0008/warner785/bwarner/'\n",
    "os.makedirs(outdir, exist_ok=True)\n",
    "esutil.io.write( outdir+'dmass_spt_chron.fits', dmass_chron, overwrite=True)\n",
    "esutil.io.write( outdir+'randoms_spt_chron.fits', random_chron, overwrite=True)"
   ]
  },
  {
   "cell_type": "code",
   "execution_count": null,
   "id": "ab8e8081-389f-44f7-ada9-346c2d2c6aca",
   "metadata": {},
   "outputs": [],
   "source": [
    "#scp warner785@pitzer.osc.edu:/fs/scratch/PCON0008/warner785/bwarner/dmass_spt_chron.fits /global/cfs/cdirs/des/sjlee/\n",
    "#scp warner785@pitzer.osc.edu:/users/PCON0003/warner785/DMASSY3/code_py3/dmass-randoms.ipynb /global/cfs/cdirs/des/sjlee/\n",
    "\n",
    "#scp warner785@pitzer.osc.edu:/users/PCON0003/warner785/DMASSY3/output/test/train_cat/y3/dmass_part2.fits /global/cfs/cdirs/des/sjlee/\n",
    "#scp warner785@pitzer.osc.edu:/fs/scratch/PCON0008/warner785/bwarner/MASK_Y3LSSBAOSOF_22_3_v2p2.fits /global/cfs/cdirs/des/sjlee/"
   ]
  }
 ],
 "metadata": {
  "kernelspec": {
   "display_name": "Python (DES_env)",
   "language": "python",
   "name": "des_env"
  },
  "language_info": {
   "codemirror_mode": {
    "name": "ipython",
    "version": 3
   },
   "file_extension": ".py",
   "mimetype": "text/x-python",
   "name": "python",
   "nbconvert_exporter": "python",
   "pygments_lexer": "ipython3",
   "version": "3.7.0"
  }
 },
 "nbformat": 4,
 "nbformat_minor": 5
}
