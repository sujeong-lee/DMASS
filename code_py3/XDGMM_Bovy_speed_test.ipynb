{
 "cells": [
  {
   "cell_type": "markdown",
   "metadata": {},
   "source": [
    "# XDGMM Bovy speed test"
   ]
  },
  {
   "cell_type": "markdown",
   "metadata": {},
   "source": [
    "esutil and healpy should be installed "
   ]
  },
  {
   "cell_type": "code",
   "execution_count": 1,
   "metadata": {
    "scrolled": true
   },
   "outputs": [],
   "source": [
    "import os, sys, time\n",
    "import esutil\n",
    "import healpy as hp\n",
    "import numpy as np\n",
    "import matplotlib.pyplot as plt\n",
    "%matplotlib inline\n",
    "\n",
    "%load_ext autoreload\n",
    "%autoreload 2\n",
    "\n",
    "import time\n",
    "from xdgmm import XDGMM\n",
    "import warnings\n",
    "warnings.filterwarnings('ignore')"
   ]
  },
  {
   "cell_type": "code",
   "execution_count": 2,
   "metadata": {},
   "outputs": [],
   "source": [
    "# call required functions from modules \n",
    "sys.path.append('code_py3/')\n",
    "from cmass_modules import io\n",
    "from utils import matchCatalogsbyPosition, hpHEALPixelToRaDec, HealPixifyCatalogs, spatialcheck\n",
    "from xd import mixing_color, doVisualization_1d, XDnew_fitting_X, XDastroML_fitting_X\n",
    "from run_DMASS_Y3 import priorCut_test"
   ]
  },
  {
   "cell_type": "markdown",
   "metadata": {},
   "source": [
    "# Construct training samples"
   ]
  },
  {
   "cell_type": "markdown",
   "metadata": {},
   "source": [
    "We first need to load Y3 Gold catalogs in the overlapping region (training region) and split them into the cmass sample and non-cmass sample. "
   ]
  },
  {
   "cell_type": "code",
   "execution_count": 3,
   "metadata": {
    "scrolled": false
   },
   "outputs": [
    {
     "name": "stdout",
     "output_type": "stream",
     "text": [
      "\n",
      "Calling catalogs >>>\n",
      "gold_y3_stripe82_patch_000002.fits\n",
      "gold_y3_stripe82_patch_000001.fits\n",
      "reading 1/2 ../../data/gold_y3/gold_y3_stripe82_patch_000002.fits\n",
      "reading 2/2 ../../data/gold_y3/gold_y3_stripe82_patch_000001.fits\n"
     ]
    }
   ],
   "source": [
    "# Calling Y3 GOLD v2.0 (training)\n",
    "# All catalogs are in the 'input_path' directory \n",
    "# The 'SearchAndCallFits' function below loads all \n",
    "# catalogs in the directory including 'input_keyword' in its name\n",
    "input_path = '../../data/gold_y3/'\n",
    "# call only first 9 catalogs for a fast run.\n",
    "# to call all catalogs in the directory, use 'Y3_GOLD' as input_keyword \n",
    "# but that will consume huge memory\n",
    "#input_keyword = 'Y3_GOLD_2_0_STRIPE82_00000'  \n",
    "input_keyword = 'gold_y3_stripe82_patch_00000'  \n",
    "# Columns to call\n",
    "columns =  ['RA', 'DEC', \n",
    "            'HPIX_4096',     # Healpix in ring order, nside=4096\n",
    "            'COADD_OBJECT_ID', \n",
    "            'SOF_CM_MAG_CORRECTED_G', # mag_[griz]\n",
    "            'SOF_CM_MAG_CORRECTED_R',\n",
    "            'SOF_CM_MAG_CORRECTED_I',\n",
    "            'SOF_CM_MAG_CORRECTED_Z',\n",
    "            'SOF_CM_MAG_ERR_G',       # mag error_[griz]\n",
    "            'SOF_CM_MAG_ERR_R',\n",
    "            'SOF_CM_MAG_ERR_I',\n",
    "            'SOF_CM_MAG_ERR_Z']\n",
    "gold_st82 = io.SearchAndCallFits(path = input_path, keyword = input_keyword, columns=columns)\n",
    "\n",
    "# Color/Magnitude cuts to exclude extremely high or low mag/color sources.\n",
    "# 16 < mag_riz < 24, 0 < (r-i) < 1.5, 0 < (g-r) < 2.5\n",
    "# These galaxies are less likeliy to be a CMASS, therefore unnecessary. \n",
    "# We apply these cuts to reduce the sample size to speed up the codes\n",
    "mask_magcut = priorCut_test(gold_st82)\n",
    "gold_st82 = gold_st82[mask_magcut]"
   ]
  },
  {
   "cell_type": "markdown",
   "metadata": {},
   "source": [
    "# Training the algorithm"
   ]
  },
  {
   "cell_type": "code",
   "execution_count": 11,
   "metadata": {},
   "outputs": [
    {
     "name": "stdout",
     "output_type": "stream",
     "text": [
      "random sampling... \n",
      "sample size = 33054\n"
     ]
    }
   ],
   "source": [
    "# For a fast run, we draw a random sample to reduce the sample size. \n",
    "# Larger sample tends to make a better model but the sample size is not always proportional to the accuracy of the model. \n",
    "\n",
    "# Put sample size you want \n",
    "n_sample =  int(gold_st82.size/5)  # train cmass sample size\n",
    "print('random sampling... ')\n",
    "sampling_ind = np.random.choice(np.arange(gold_st82.size), size = n_sample)\n",
    "gold_st82_sub = gold_st82[sampling_ind]\n",
    "print('sample size =', n_sample)"
   ]
  },
  {
   "cell_type": "markdown",
   "metadata": {},
   "source": [
    "### Model Fitting"
   ]
  },
  {
   "cell_type": "code",
   "execution_count": 12,
   "metadata": {},
   "outputs": [],
   "source": [
    "# number of gaussian mixtures\n",
    "# Set None for a initial run. The algorithm automatically finds an optimal number\n",
    "n_gold = None \n",
    "\n",
    "# number of XD iteration. \n",
    "# I set these numbers small for a fast run but generally\n",
    "# should be run until the XD algorithm converges (more than 10000 iterations)\n",
    "n_iter_gold = 5000\n",
    "# tolerance\n",
    "tol = 1E-5\n",
    "\n",
    "# Fitted parameters and covariance will be stored as a pickle\n",
    "outdir = 'output/test/fitting/'\n",
    "os.makedirs(outdir, exist_ok=True)\n",
    "gold_xd_astroml_filename = outdir+'gauss_gold_astroml.pkl'\n",
    "gold_xd_bovy_filename = outdir+'gauss_gold_bovy.xdgmm'"
   ]
  },
  {
   "cell_type": "code",
   "execution_count": 13,
   "metadata": {},
   "outputs": [],
   "source": [
    "# Magnitudes and corresponding errors you want to use to train the algorithm. \n",
    "# `mixing_color` automatically constructs [mag g, mag r, color (g-r), color (r-i)] and \n",
    "# its 4x4 covariance matrix from the input magnitudes. \n",
    "# I simply put `SOF_CM_MAG_CORRECTED` magnitudes for now. \n",
    "# If you want to use different combinations of mags and colors, \n",
    "# modify `mixing_color` or build your own function. \n",
    "mag = ['SOF_CM_MAG_CORRECTED', 'SOF_CM_MAG_CORRECTED' ]\n",
    "err = ['SOF_CM_MAG_ERR', 'SOF_CM_MAG_ERR']\n",
    "filter = ['G', 'R', 'I']\n",
    "\n",
    "# This generates four columns of gold training sample. order : mag r, mag i, (g-r), (r-i)\n",
    "X_gold, X_gold_cov = mixing_color(gold_st82_sub, \n",
    "                mag = mag, err=err, filter=filter, \n",
    "                no_zband = True )"
   ]
  },
  {
   "cell_type": "markdown",
   "metadata": {},
   "source": [
    "### Running New XDGMM code with Bovy's method"
   ]
  },
  {
   "cell_type": "code",
   "execution_count": 27,
   "metadata": {},
   "outputs": [
    {
     "name": "stdout",
     "output_type": "stream",
     "text": [
      "@pickle_results: computing results and saving to 'output/test/fitting/gauss_gold_bovy.xdgmm.n_cluster'\n",
      "Finding optimal number of cluster : 100 % \n",
      "best fit converged: True  n_components =  26\n"
     ]
    }
   ],
   "source": [
    "# Determine the best number of Gaussian Mixtures to use \n",
    "# You might not need this function as this is already included in XDnew_fitting_X()\n",
    "from xd import _FindOptimalN_with_err\n",
    "n_cl_gold,_,_= _FindOptimalN_with_err( np.arange(2, 50, 2), X_gold, X_gold_cov, \n",
    "            pickleFileName = gold_xd_bovy_filename+'.n_cluster' , suffix = '')\n",
    "\n",
    "#n_cl_gold = None"
   ]
  },
  {
   "cell_type": "code",
   "execution_count": 28,
   "metadata": {},
   "outputs": [
    {
     "name": "stdout",
     "output_type": "stream",
     "text": [
      "n_components= 26\n",
      "fit finished. elapsed time: 11.13330602645874 s\n",
      "file saved to  output/test/fitting/gauss_gold_bovy.xdgmm\n"
     ]
    }
   ],
   "source": [
    "# Fitting start with Bovy's method\n",
    "clf_gold = XDnew_fitting_X( X_gold, X_gold_cov, FileName = gold_xd_bovy_filename, \n",
    "                    n_cl = n_cl_gold, n_iter = n_iter_gold, tol = tol, method='Bovy')"
   ]
  },
  {
   "cell_type": "code",
   "execution_count": null,
   "metadata": {},
   "outputs": [],
   "source": [
    "# testing the computing time for each step"
   ]
  },
  {
   "cell_type": "code",
   "execution_count": 7,
   "metadata": {},
   "outputs": [
    {
     "name": "stdout",
     "output_type": "stream",
     "text": [
      "@pickle_results: using precomputed results from 'output/test/fitting/gauss_gold_bovy.xdgmm.test.n_cluster'\n",
      "Finding optimal number of cluster : 100 % \n",
      "best fit converged: True  n_components =  26\n"
     ]
    }
   ],
   "source": [
    "# Determine the best number of Gaussian Mixtures to use \n",
    "# You might not need this function as this is already included in XDnew_fitting_X()\n",
    "from xd import _FindOptimalN_with_err\n",
    "n_cl_gold,_,_= _FindOptimalN_with_err( np.arange(2, 50, 2), X_gold, X_gold_cov, \n",
    "            pickleFileName = gold_xd_bovy_filename+'.test.n_cluster' , suffix = '')\n",
    "\n",
    "#n_cl_gold = None"
   ]
  },
  {
   "cell_type": "code",
   "execution_count": 9,
   "metadata": {},
   "outputs": [
    {
     "name": "stdout",
     "output_type": "stream",
     "text": [
      "start timing\n",
      "n_components= 26\n",
      "fit finished. elapsed time: 34.258455753326416 s\n",
      "saving xdgmm object to..  output/test/fitting/gauss_gold_bovy.xdgmm.test\n",
      "file saved\n",
      "saving obj. time: 0.0008215904235839844 s\n",
      "loading obj. time: 0.022568941116333008 s\n",
      "total elapsed time:  34.28895831108093 s\n"
     ]
    }
   ],
   "source": [
    "# Fitting start with Bovy's method\n",
    "print ('start timing')\n",
    "t1 = time.time()\n",
    "clf_gold = XDnew_fitting_X( X_gold, X_gold_cov, FileName = gold_xd_bovy_filename+'.test', \n",
    "                    n_cl = n_cl_gold, n_iter = n_iter_gold, tol = tol, method='Bovy')\n",
    "\n",
    "t2 = time.time()-t1\n",
    "print ('total elapsed time: ',t2%60, 's')  "
   ]
  },
  {
   "cell_type": "code",
   "execution_count": 22,
   "metadata": {},
   "outputs": [],
   "source": [
    "# Fitting start\n",
    "# Astroml (old function) \n",
    "\n",
    "#print ('start timing')\n",
    "#t1 = time.time()\n",
    "#clf_gold = XDastroML_fitting_X( X_gold, X_gold_cov, FileName = gold_xd_astroml_filename, \n",
    "#                    n_cl = n_cl_gold, n_iter = n_iter_gold, tol = tol, verbose=True)\n",
    "#t2 = time.time()-t1\n",
    "#print ('elapsed time: ',t2%60, 's')  "
   ]
  },
  {
   "cell_type": "code",
   "execution_count": 30,
   "metadata": {},
   "outputs": [
    {
     "name": "stdout",
     "output_type": "stream",
     "text": [
      "Using precomputed results from  output/test/fitting/gauss_gold_bovy.xdgmm\n",
      "Using central 100% to set range.\n"
     ]
    },
    {
     "data": {
      "image/png": "[encoded data removed]",
      "text/plain": [
       "<Figure size 1152x288 with 4 Axes>"
      ]
     },
     "metadata": {
      "needs_background": "light"
     },
     "output_type": "display_data"
    }
   ],
   "source": [
    "from xd import add_errors\n",
    "\n",
    "# calling model\n",
    "#FileName = 'output/test/fitting/gauss_gold_bovy.xdgmm'\n",
    "clf_gold_bovy = XDnew_fitting_X( FileName = gold_xd_bovy_filename )\n",
    "#clf_gold_astroml = XDastroML_fitting_X(FileName = gold_xd_astroml_filename)\n",
    "\n",
    "# X_gold: real data\n",
    "# X_gold_cov : error covariance assocated with data\n",
    "# X_gold_model: extreme deconvolution model obtained from data (free from error)\n",
    "# X_gold_model_noisy: artificial noise added to the extreme deconvolution model to make it look real data\n",
    "\n",
    "X_gold_bovy_model = clf_gold_bovy.sample(80000)\n",
    "X_gold_bovy_model_noisy = add_errors(X_gold_bovy_model, X_gold, X_gold_cov)\n",
    "\n",
    "#X_gold_astroml_model = clf_gold_astroml.sample(20000)\n",
    "\n",
    "# Comparison. real data vs. noise-added XD model\n",
    "doVisualization_1d( data=[X_gold, X_gold_bovy_model], #, X_gold_astroml_model], \n",
    "                   labels = ['mag r', 'mag i', 'g-r', 'r-i'], \n",
    "                   ranges = None, \n",
    "                   name = ['real data', 'error added model'], \n",
    "                   weight = [None,None], \n",
    "                   nbins=100)"
   ]
  },
  {
   "cell_type": "markdown",
   "metadata": {},
   "source": [
    "# Speed Test for the different size of training data"
   ]
  },
  {
   "cell_type": "code",
   "execution_count": 33,
   "metadata": {
    "collapsed": true
   },
   "outputs": [
    {
     "name": "stdout",
     "output_type": "stream",
     "text": [
      "sample size = 8263\n",
      "@pickle_results: using precomputed results from 'output/test/fitting/gauss_gold_bovy.xdgmm.i1.n_cluster'\n",
      "Finding optimal number of cluster : 100 % \n",
      "best fit converged: True  n_components =  12\n",
      "start timing\n",
      "n_components= 12\n",
      "fit finished. elapsed time: 30.981290578842163 s\n",
      "file saved to  output/test/fitting/gauss_gold_bovy.xdgmm.i1\n",
      "sample size = 16527\n",
      "@pickle_results: computing results and saving to 'output/test/fitting/gauss_gold_bovy.xdgmm.i2.n_cluster'\n",
      "Finding optimal number of cluster : 100 % \n",
      "best fit converged: True  n_components =  22\n",
      "start timing\n",
      "n_components= 22\n",
      "fit finished. elapsed time: 37.027477502822876 s\n",
      "file saved to  output/test/fitting/gauss_gold_bovy.xdgmm.i2\n",
      "sample size = 24790\n",
      "@pickle_results: computing results and saving to 'output/test/fitting/gauss_gold_bovy.xdgmm.i3.n_cluster'\n",
      "Finding optimal number of cluster : 100 % \n",
      "best fit converged: True  n_components =  30\n",
      "start timing\n",
      "n_components= 30\n",
      "fit finished. elapsed time: 32.388566970825195 s\n",
      "file saved to  output/test/fitting/gauss_gold_bovy.xdgmm.i3\n",
      "sample size = 33054\n",
      "@pickle_results: computing results and saving to 'output/test/fitting/gauss_gold_bovy.xdgmm.i4.n_cluster'\n",
      "Finding optimal number of cluster : 100 % \n",
      "best fit converged: True  n_components =  22\n",
      "start timing\n",
      "n_components= 22\n",
      "fit finished. elapsed time: 59.10496115684509 s\n",
      "file saved to  output/test/fitting/gauss_gold_bovy.xdgmm.i4\n",
      "sample size = 41317\n",
      "@pickle_results: computing results and saving to 'output/test/fitting/gauss_gold_bovy.xdgmm.i5.n_cluster'\n",
      "Finding optimal number of cluster : 100 % \n",
      "best fit converged: True  n_components =  32\n",
      "start timing\n",
      "n_components= 32\n",
      "fit finished. elapsed time: 18.278090953826904 s\n",
      "file saved to  output/test/fitting/gauss_gold_bovy.xdgmm.i5\n",
      "sample size = 49581\n",
      "@pickle_results: computing results and saving to 'output/test/fitting/gauss_gold_bovy.xdgmm.i6.n_cluster'\n",
      "Finding optimal number of cluster : 100 % \n",
      "best fit converged: True  n_components =  38\n",
      "start timing\n",
      "n_components= 38\n",
      "fit finished. elapsed time: 0.713627815246582 s\n",
      "file saved to  output/test/fitting/gauss_gold_bovy.xdgmm.i6\n",
      "sample size = 57844\n",
      "@pickle_results: computing results and saving to 'output/test/fitting/gauss_gold_bovy.xdgmm.i7.n_cluster'\n",
      "Finding optimal number of cluster : 100 % \n",
      "best fit converged: True  n_components =  32\n",
      "start timing\n",
      "n_components= 32\n",
      "fit finished. elapsed time: 10.808396339416504 s\n",
      "file saved to  output/test/fitting/gauss_gold_bovy.xdgmm.i7\n",
      "sample size = 66108\n",
      "@pickle_results: computing results and saving to 'output/test/fitting/gauss_gold_bovy.xdgmm.i8.n_cluster'\n",
      "Finding optimal number of cluster : 100 % \n",
      "best fit converged: True  n_components =  40\n",
      "start timing\n",
      "n_components= 40\n",
      "fit finished. elapsed time: 31.311599016189575 s\n",
      "file saved to  output/test/fitting/gauss_gold_bovy.xdgmm.i8\n",
      "sample size = 74371\n",
      "@pickle_results: computing results and saving to 'output/test/fitting/gauss_gold_bovy.xdgmm.i9.n_cluster'\n",
      "Finding optimal number of cluster : 100 % \n",
      "best fit converged: True  n_components =  30\n",
      "start timing\n",
      "n_components= 30\n",
      "fit finished. elapsed time: 19.139524936676025 s\n",
      "file saved to  output/test/fitting/gauss_gold_bovy.xdgmm.i9\n",
      "sample size = 82635\n",
      "@pickle_results: computing results and saving to 'output/test/fitting/gauss_gold_bovy.xdgmm.i10.n_cluster'\n",
      "Finding optimal number of cluster : 100 % \n",
      "best fit converged: True  n_components =  36\n",
      "start timing\n",
      "n_components= 36\n",
      "fit finished. elapsed time: 41.44326448440552 s\n",
      "file saved to  output/test/fitting/gauss_gold_bovy.xdgmm.i10\n"
     ]
    }
   ],
   "source": [
    "\n",
    "elapsed_time = []\n",
    "# timing Bovy method for different sample size\n",
    "for n_i in np.arange(1,11):\n",
    "    \n",
    "    gold_xd_bovy_filename_ni = gold_xd_bovy_filename+'.i{}'.format(str(n_i))\n",
    "    \n",
    "    # Put sample size you want \n",
    "    n_sample =  int(gold_st82.size/20 * n_i)  \n",
    "    sampling_ind = np.random.choice(np.arange(gold_st82.size), size = n_sample)\n",
    "    gold_st82_sub = gold_st82[sampling_ind]\n",
    "    print('sample size =', n_sample)\n",
    "    \n",
    "    # structure data\n",
    "    X_gold, X_gold_cov = mixing_color(gold_st82_sub, \n",
    "                    mag = mag, err=err, filter=filter, \n",
    "                    no_zband = True )\n",
    "\n",
    "    # Determine the best number of Gaussian Mixtures to use \n",
    "    n_cl_gold,_,_= _FindOptimalN_with_err( np.arange(2, 50, 2), X_gold, X_gold_cov, \n",
    "                pickleFileName = gold_xd_bovy_filename_ni+'.n_cluster' , suffix = '')\n",
    "    \n",
    "    # Fitting start\n",
    "    print ('start timing')\n",
    "    t1 = time.time()\n",
    "    clf_gold = XDnew_fitting_X( X_gold, X_gold_cov, FileName = gold_xd_bovy_filename_ni, \n",
    "                        n_cl = n_cl_gold, n_iter = n_iter_gold, tol = tol, method='Bovy')\n",
    "    t2 = time.time()-t1\n",
    "    elapsed_time.append(t2)\n",
    "    #print ('elapsed time: ',t2%60, 's')  \n",
    "    "
   ]
  },
  {
   "cell_type": "code",
   "execution_count": 34,
   "metadata": {},
   "outputs": [
    {
     "name": "stdout",
     "output_type": "stream",
     "text": [
      "[30.996947288513184, 157.06671023368835, 332.40741419792175, 419.1485526561737, 858.3061051368713, 900.7409245967865, 730.8350837230682, 1171.3625190258026, 979.1930067539215, 1601.4915063381195]\n"
     ]
    }
   ],
   "source": [
    "print (elapsed_time)"
   ]
  },
  {
   "cell_type": "code",
   "execution_count": null,
   "metadata": {},
   "outputs": [],
   "source": [
    "\n",
    "elapsed_time_astroml = []\n",
    "# timing Bovy method for different sample size\n",
    "for n_i in np.arange(1,11):\n",
    "    \n",
    "    gold_xd_astroml_filename_ni = gold_xd_astroml_filename+'.i{}'.format(str(n_i))\n",
    "    gold_xd_bovy_filename_ni = gold_xd_bovy_filename+'.i{}'.format(str(n_i))\n",
    "    \n",
    "    # Put sample size you want \n",
    "    n_sample =  int(gold_st82.size/10 * n_i)  \n",
    "    sampling_ind = np.random.choice(np.arange(gold_st82.size), size = n_sample)\n",
    "    gold_st82_sub = gold_st82[sampling_ind]\n",
    "    print('sample size =', n_sample)\n",
    "    \n",
    "    # structure data\n",
    "    X_gold, X_gold_cov = mixing_color(gold_st82_sub, \n",
    "                    mag = mag, err=err, filter=filter, \n",
    "                    no_zband = True )\n",
    "\n",
    "    # Determine the best number of Gaussian Mixtures to use \n",
    "    n_cl_gold,_,_= _FindOptimalN_with_err( np.arange(2, 50, 2), X_gold, X_gold_cov, \n",
    "                pickleFileName = gold_xd_bovy_filename_ni+'.n_cluster' , suffix = '')\n",
    "    \n",
    "    # Fitting start\n",
    "    print ('start timing')\n",
    "    t1 = time.time()\n",
    "    clf_gold = XDastroML_fitting_X( X_gold, X_gold_cov, FileName = gold_xd_astroml_filename_ni, \n",
    "                        n_cl = n_cl_gold, n_iter = n_iter_gold, tol = tol)\n",
    "    t2 = time.time()-t1\n",
    "    elapsed_time_astroml.append(t2)\n",
    "    #print ('elapsed time: ',t2%60, 's')  \n",
    "    "
   ]
  },
  {
   "cell_type": "markdown",
   "metadata": {},
   "source": [
    "### Bovy's extreme deconvolution algorithm's computing time versus data size"
   ]
  },
  {
   "cell_type": "code",
   "execution_count": 17,
   "metadata": {},
   "outputs": [],
   "source": [
    "elapsed_time=[30.996947288513184, 157.06671023368835, 332.40741419792175, 419.1485526561737, 858.3061051368713, 900.7409245967865, 730.8350837230682, 1171.3625190258026, 979.1930067539215, 1601.4915063381195]"
   ]
  },
  {
   "cell_type": "code",
   "execution_count": 20,
   "metadata": {},
   "outputs": [
    {
     "data": {
      "text/plain": [
       "<matplotlib.legend.Legend at 0x7fa850d50730>"
      ]
     },
     "execution_count": 20,
     "metadata": {},
     "output_type": "execute_result"
    },
    {
     "data": {
      "image/png": "[encoded data removed]",
      "text/plain": [
       "<Figure size 432x288 with 1 Axes>"
      ]
     },
     "metadata": {
      "needs_background": "light"
     },
     "output_type": "display_data"
    }
   ],
   "source": [
    "datasize = np.arange(1,11) * int(gold_st82.size/20)\n",
    "\n",
    "fig, ax = plt.subplots()\n",
    "ax.plot(datasize/1000, elapsed_time, 'o', label='Bovy')\n",
    "ax.plot(datasize[3]/1000, 3861, 'r^', label='astroML')\n",
    "ax.set_xlabel('data size (1k)')\n",
    "ax.set_ylabel('computing time (s)')\n",
    "ax.legend()"
   ]
  },
  {
   "cell_type": "code",
   "execution_count": 41,
   "metadata": {},
   "outputs": [
    {
     "name": "stdout",
     "output_type": "stream",
     "text": [
      "Using precomputed results from  output/test/fitting/gauss_gold_bovy.xdgmm.i10\n",
      "Using central 100% to set range.\n"
     ]
    },
    {
     "data": {
      "image/png": "[encoded data removed]",
      "text/plain": [
       "<Figure size 1152x288 with 4 Axes>"
      ]
     },
     "metadata": {
      "needs_background": "light"
     },
     "output_type": "display_data"
    }
   ],
   "source": [
    "from xd import add_errors\n",
    "\n",
    "# calling model\n",
    "FileName = 'output/test/fitting/gauss_gold_bovy.xdgmm.i10'\n",
    "clf_gold = XDnew_fitting_X( FileName = FileName )\n",
    "\n",
    "# X_gold: real data\n",
    "# X_gold_cov : error covariance assocated with data\n",
    "# X_gold_model: extreme deconvolution model obtained from data (free from error)\n",
    "# X_gold_model_noisy: artificial noise added to the extreme deconvolution model to make it look real data\n",
    "\n",
    "X_gold_model = clf_gold.sample(gold_st82_sub.size)\n",
    "X_gold_model_noisy = add_errors(X_gold_model, X_gold, X_gold_cov)\n",
    "\n",
    "# Comparison. real data vs. noise-added XD model\n",
    "doVisualization_1d( data=[X_gold, X_gold_model_noisy], \n",
    "                   labels = ['mag r', 'mag i', 'g-r', 'r-i'], \n",
    "                   ranges = None, \n",
    "                   name = ['real data', 'error added model'], \n",
    "                   weight = [None,None], \n",
    "                   nbins=100)"
   ]
  },
  {
   "cell_type": "code",
   "execution_count": null,
   "metadata": {},
   "outputs": [],
   "source": []
  }
 ],
 "metadata": {
  "kernelspec": {
   "display_name": "Python 3",
   "language": "python",
   "name": "python3"
  },
  "language_info": {
   "codemirror_mode": {
    "name": "ipython",
    "version": 3
   },
   "file_extension": ".py",
   "mimetype": "text/x-python",
   "name": "python",
   "nbconvert_exporter": "python",
   "pygments_lexer": "ipython3",
   "version": "3.9.1"
  }
 },
 "nbformat": 4,
 "nbformat_minor": 1
}
