{
 "cells": [
  {
   "cell_type": "code",
   "execution_count": 1,
   "id": "7922370d-8ff9-49c9-ae8d-26c21e1bc769",
   "metadata": {},
   "outputs": [
    {
     "name": "stderr",
     "output_type": "stream",
     "text": [
      "In /users/PCON0003/warner785/.conda/envs/DES_env/lib/python3.7/site-packages/matplotlib/mpl-data/stylelib/_classic_test.mplstyle: \n",
      "The savefig.frameon rcparam was deprecated in Matplotlib 3.1 and will be removed in 3.3.\n",
      "In /users/PCON0003/warner785/.conda/envs/DES_env/lib/python3.7/site-packages/matplotlib/mpl-data/stylelib/_classic_test.mplstyle: \n",
      "The verbose.level rcparam was deprecated in Matplotlib 3.1 and will be removed in 3.3.\n",
      "In /users/PCON0003/warner785/.conda/envs/DES_env/lib/python3.7/site-packages/matplotlib/mpl-data/stylelib/_classic_test.mplstyle: \n",
      "The verbose.fileo rcparam was deprecated in Matplotlib 3.1 and will be removed in 3.3.\n"
     ]
    }
   ],
   "source": [
    "#Choosing training/validation for Y3\n",
    "\n",
    "#50/50 : start with 150 deg^2, 250 deg^2, 350 deg^2 – converge on limit for size\n",
    "#*Random selection of parts of 624deg^2 to show invariance or not\n",
    "#**reserve part of overlap region for science**\n",
    "\n",
    "import os, sys\n",
    "import esutil\n",
    "import healpy as hp\n",
    "import numpy as np\n",
    "import fitsio\n",
    "%matplotlib inline\n",
    "\n",
    "%load_ext autoreload\n",
    "%autoreload 2\n",
    "\n",
    "#for only galaxies: EXTENDED_CLASS_MASH_SOF = 3 apply this cut (this is the same as Y1 MODEST cut)"
   ]
  },
  {
   "cell_type": "code",
   "execution_count": 2,
   "id": "7b07e19b-31a4-4733-bafb-6c4ce55de2a3",
   "metadata": {},
   "outputs": [
    {
     "name": "stderr",
     "output_type": "stream",
     "text": [
      "WARNING: AstroMLDeprecationWarning: 'decorators' has been moved to 'astroML.utils' and will be removed from the main namespace in the future. [astroML.decorators]\n"
     ]
    }
   ],
   "source": [
    "sys.path.append('../')\n",
    "from xd import *\n",
    "from run_DMASS_Y3 import *\n",
    "from utils import *\n",
    "import healpy as hp\n",
    "from systematics import *\n",
    "from cmass_modules import io"
   ]
  },
  {
   "cell_type": "code",
   "execution_count": 3,
   "id": "7ac4e776-c66a-43ca-95ef-d9ed3df19cc5",
   "metadata": {},
   "outputs": [
    {
     "name": "stdout",
     "output_type": "stream",
     "text": [
      "/users/PCON0003/warner785/DMASS_XDGMM/code_py3\n"
     ]
    }
   ],
   "source": [
    "os.chdir('../../DMASS_XDGMM/code_py3/')\n",
    "print(os.getcwd())"
   ]
  },
  {
   "cell_type": "code",
   "execution_count": 4,
   "id": "9edb2eff-ab0f-4e6d-a487-4b060947fd3b",
   "metadata": {},
   "outputs": [],
   "source": [
    "from xdgmm import XDGMM as XDGMM_Holoien"
   ]
  },
  {
   "cell_type": "code",
   "execution_count": 5,
   "id": "d5fdd25e-6d26-4d82-9107-c3e2c838652e",
   "metadata": {},
   "outputs": [],
   "source": [
    "def _FindOptimalN_with_err( N, Xdata, Xcov, pickleFileName = None, suffix = None):\n",
    "    #from sklearn.mixture import GMM\n",
    "    #data, _ = mixing_color(data, suffix = suffix)\n",
    "    @pickle_results( pickleFileName )\n",
    "    def compute_GMM( N, covariance_type='full', n_iter=1000):\n",
    "        models = [None for n in N]\n",
    "        for i in range(len(N)):\n",
    "            sys.stdout.write(\"\\r\" + 'Finding optimal number of cluster : {:0.0f} % '\\\n",
    "                             .format(i * 1./len(N) * 100.))\n",
    "            sys.stdout.flush()\n",
    "            models[i] = GaussianMixture(n_components=N[i], max_iter=n_iter,\n",
    "                            covariance_type=covariance_type)\n",
    "            models[i].fit(Xdata, Xcov)\n",
    "        return models\n",
    "    \n",
    "    models = compute_GMM(N)\n",
    "    AIC = [m.aic(Xdata) for m in models]\n",
    "    BIC = [m.bic(Xdata) for m in models]\n",
    "    i_best = np.argmin(BIC)\n",
    "    gmm_best = models[i_best]\n",
    "    sys.stdout.write(\"\\r\" + 'Finding optimal number of cluster : {:0.0f} % '\\\n",
    "                     .format(100))\n",
    "    print(\"\\nbest fit converged:\", gmm_best.converged_, end=' ')\n",
    "    print(\" n_components =  %i\" % N[i_best])\n",
    "    return N[i_best], AIC, BIC\n",
    "\n",
    "def XDnew_fitting_X( X = None, Xcov=None, \n",
    "        FileName = None, \n",
    "        #init_params = None, \n",
    "        #suffix='', \n",
    "        #mag = ['MAG_MODEL', 'MAG_DETMODEL'],\n",
    "        #err = [ 'MAGERR_MODEL','MAGERR_DETMODEL'],\n",
    "        #filter = ['G', 'R', 'I'],\n",
    "        n_cl = None, n_iter = 500, tol=1E-5, method='Bovy', verbose=False ):\n",
    "\n",
    "    \n",
    "\n",
    "    try: \n",
    "        xdgmm_obj = XDGMM_Holoien(filename=FileName) \n",
    "        print ('Using precomputed results from ', FileName)\n",
    "        return xdgmm_obj\n",
    "    except FileNotFoundError: pass\n",
    "    \n",
    "    if X is None:\n",
    "        # calling pre-computed model\n",
    "        xdgmm_obj = XDGMM_Holoien(filename=FileName) \n",
    "        print ('Using precomputed results from ', FileName)\n",
    "        return xdgmm_obj\n",
    "\n",
    "    else: \n",
    "        if n_cl == None : \n",
    "            param_range=np.arange(2, 50, 2)\n",
    "            optimal_n_comp,_,_= _FindOptimalN_with_err( param_range, X, Xcov, \n",
    "            pickleFileName = FileName+'.n_cluster' , suffix = '')\n",
    "            \n",
    "            #xdgmm_test = XDGMM_Holoien( n_iter=n_iter, tol=tol, method=method )\n",
    "            ## Define the range of component numbers, and get ready to compute the BIC for each one:\n",
    "            #param_range = np.arange(2, 50, 2)\n",
    "            ## Loop over component numbers, fitting XDGMM model and computing the BIC:\n",
    "            #bic, optimal_n_comp, lowest_bic = xdgmm_test.bic_test(X, Xcov, param_range)\n",
    "            ##n_cl = optimal_n_comp[np.argmin(bic)]\n",
    "        else: optimal_n_comp = n_cl\n",
    "\n",
    "        #import time\n",
    "        # fitting\n",
    "        #initiated class\n",
    "        xdgmm_obj = XDGMM_Holoien( n_components=optimal_n_comp, n_iter=n_iter, tol=tol, method=method )\n",
    "        #xdgmm.n_components = optimal_n_comp\n",
    "        print ('n_components=', optimal_n_comp)\n",
    "        print ('fitting started. This will take for a while.')\n",
    "#        t1 = time.time()\n",
    "        xdgmm_obj = xdgmm_obj.fit(X, Xcov)\n",
    "        #t2 = time.time()\n",
    "        print ('fitting finished')\n",
    "        \n",
    "        #t3 = time.time()\n",
    "        print ('saving xdgmm object to.. ', FileName)\n",
    "        xdgmm_obj.save_model(FileName)\n",
    "        print ('file saved')\n",
    "        #print ('saving obj. time:', (t3-t2)%60,'s')\n",
    "        \n",
    "        #t4 = time.time()\n",
    "        xdgmm_obj = XDGMM_Holoien(filename=FileName) \n",
    "        #print ('loading obj. time:', (t4-t3)%60,'s')\n",
    "#        t2 = time.time()\n",
    "#        print ('elapsed time:', (t2-t1)/60.0,'s')\n",
    "        return xdgmm_obj"
   ]
  },
  {
   "cell_type": "code",
   "execution_count": 6,
   "id": "17bb21ab-313a-4f60-938a-e424e572714c",
   "metadata": {},
   "outputs": [
    {
     "name": "stdout",
     "output_type": "stream",
     "text": [
      "/users/PCON0003/warner785/DMASSY3/code_py3\n"
     ]
    }
   ],
   "source": [
    "os.chdir('../../DMASSY3/code_py3/')\n",
    "print(os.getcwd())"
   ]
  },
  {
   "cell_type": "code",
   "execution_count": 7,
   "id": "6e922885-445a-4165-9127-6f5c2cef942b",
   "metadata": {},
   "outputs": [
    {
     "name": "stdout",
     "output_type": "stream",
     "text": [
      "\n",
      "Calling catalogs >>>\n",
      "gold_st82_final_000056.fits\n",
      "gold_st82_final_000003.fits\n",
      "gold_st82_final_000026.fits\n",
      "gold_st82_final_000121.fits\n",
      "gold_st82_final_000094.fits\n",
      "gold_st82_final_000040.fits\n",
      "gold_st82_final_000010.fits\n",
      "gold_st82_final_000082.fits\n",
      "gold_st82_final_000068.fits\n",
      "gold_st82_final_000075.fits\n",
      "gold_st82_final_000103.fits\n",
      "gold_st82_final_000112.fits\n",
      "gold_st82_final_000043.fits\n",
      "gold_st82_final_000125.fits\n",
      "gold_st82_final_000083.fits\n",
      "gold_st82_final_000101.fits\n",
      "gold_st82_final_000016.fits\n",
      "gold_st82_final_000031.fits\n",
      "gold_st82_final_000041.fits\n",
      "gold_st82_final_000052.fits\n",
      "gold_st82_final_000092.fits\n",
      "gold_st82_final_000027.fits\n",
      "gold_st82_final_000127.fits\n",
      "gold_st82_final_000095.fits\n",
      "gold_st82_final_000114.fits\n",
      "gold_st82_final_000079.fits\n",
      "gold_st82_final_000045.fits\n",
      "gold_st82_final_000086.fits\n",
      "gold_st82_final_000007.fits\n",
      "gold_st82_final_000029.fits\n",
      "gold_st82_final_000055.fits\n",
      "gold_st82_final_000076.fits\n",
      "gold_st82_final_000069.fits\n",
      "gold_st82_final_000105.fits\n",
      "gold_st82_final_000100.fits\n",
      "gold_st82_final_000008.fits\n",
      "gold_st82_final_000017.fits\n",
      "gold_st82_final_000032.fits\n",
      "gold_st82_final_000070.fits\n",
      "gold_st82_final_000080.fits\n",
      "gold_st82_final_000039.fits\n",
      "gold_st82_final_000093.fits\n",
      "gold_st82_final_000096.fits\n",
      "gold_st82_final_000034.fits\n",
      "gold_st82_final_000104.fits\n",
      "gold_st82_final_000072.fits\n",
      "gold_st82_final_000046.fits\n",
      "gold_st82_final_000037.fits\n",
      "gold_st82_final_000011.fits\n",
      "gold_st82_final_000028.fits\n",
      "gold_st82_final_000060.fits\n",
      "gold_st82_final_000067.fits\n",
      "gold_st82_final_000063.fits\n",
      "gold_st82_final_000050.fits\n",
      "gold_st82_final_000091.fits\n",
      "gold_st82_final_000085.fits\n",
      "gold_st82_final_000033.fits\n",
      "gold_st82_final_000013.fits\n",
      "gold_st82_final_000089.fits\n",
      "gold_st82_final_000004.fits\n",
      "gold_st82_final_000049.fits\n",
      "gold_st82_final_000115.fits\n",
      "gold_st82_final_000113.fits\n",
      "gold_st82_final_000019.fits\n",
      "gold_st82_final_000066.fits\n",
      "gold_st82_final_000107.fits\n",
      "gold_st82_final_000098.fits\n",
      "gold_st82_final_000087.fits\n",
      "gold_st82_final_000065.fits\n",
      "gold_st82_final_000053.fits\n",
      "gold_st82_final_000023.fits\n",
      "gold_st82_final_000020.fits\n",
      "gold_st82_final_000071.fits\n",
      "gold_st82_final_000124.fits\n",
      "gold_st82_final_000001.fits\n",
      "gold_st82_final_000062.fits\n",
      "gold_st82_final_000002.fits\n",
      "gold_st82_final_000025.fits\n",
      "gold_st82_final_000120.fits\n",
      "gold_st82_final_000015.fits\n",
      "gold_st82_final_000014.fits\n",
      "gold_st82_final_000009.fits\n",
      "gold_st82_final_000036.fits\n",
      "gold_st82_final_000024.fits\n",
      "gold_st82_final_000102.fits\n",
      "gold_st82_final_000054.fits\n",
      "gold_st82_final_000047.fits\n",
      "gold_st82_final_000006.fits\n",
      "gold_st82_final_000038.fits\n",
      "gold_st82_final_000111.fits\n",
      "gold_st82_final_000126.fits\n",
      "gold_st82_final_000074.fits\n",
      "gold_st82_final_000084.fits\n",
      "gold_st82_final_000057.fits\n",
      "gold_st82_final_000097.fits\n",
      "gold_st82_final_000123.fits\n",
      "gold_st82_final_000018.fits\n",
      "gold_st82_final_000106.fits\n",
      "gold_st82_final_000128.fits\n",
      "gold_st82_final_000035.fits\n",
      "gold_st82_final_000051.fits\n",
      "gold_st82_final_000021.fits\n",
      "gold_st82_final_000048.fits\n",
      "gold_st82_final_000118.fits\n",
      "gold_st82_final_000109.fits\n",
      "gold_st82_final_000059.fits\n",
      "gold_st82_final_000108.fits\n",
      "gold_st82_final_000099.fits\n",
      "gold_st82_final_000022.fits\n",
      "gold_st82_final_000005.fits\n",
      "gold_st82_final_000122.fits\n",
      "gold_st82_final_000061.fits\n",
      "gold_st82_final_000090.fits\n",
      "gold_st82_final_000088.fits\n",
      "gold_st82_final_000058.fits\n",
      "gold_st82_final_000073.fits\n",
      "gold_st82_final_000030.fits\n",
      "gold_st82_final_000081.fits\n",
      "gold_st82_final_000042.fits\n",
      "gold_st82_final_000012.fits\n",
      "gold_st82_final_000117.fits\n",
      "gold_st82_final_000110.fits\n",
      "gold_st82_final_000044.fits\n",
      "gold_st82_final_000078.fits\n",
      "gold_st82_final_000064.fits\n",
      "gold_st82_final_000129.fits\n",
      "gold_st82_final_000116.fits\n",
      "gold_st82_final_000130.fits\n",
      "gold_st82_final_000119.fits\n",
      "gold_st82_final_000077.fits\n",
      "reading 1/130 /fs/scratch/PCON0008/warner785/bwarner/gold_full/gold_st82_final_000056.fits\n",
      "reading 2/130 /fs/scratch/PCON0008/warner785/bwarner/gold_full/gold_st82_final_000003.fits\n",
      "reading 3/130 /fs/scratch/PCON0008/warner785/bwarner/gold_full/gold_st82_final_000026.fits\n",
      "reading 4/130 /fs/scratch/PCON0008/warner785/bwarner/gold_full/gold_st82_final_000121.fits\n",
      "reading 5/130 /fs/scratch/PCON0008/warner785/bwarner/gold_full/gold_st82_final_000094.fits\n",
      "reading 6/130 /fs/scratch/PCON0008/warner785/bwarner/gold_full/gold_st82_final_000040.fits\n",
      "reading 7/130 /fs/scratch/PCON0008/warner785/bwarner/gold_full/gold_st82_final_000010.fits\n",
      "reading 8/130 /fs/scratch/PCON0008/warner785/bwarner/gold_full/gold_st82_final_000082.fits\n",
      "reading 9/130 /fs/scratch/PCON0008/warner785/bwarner/gold_full/gold_st82_final_000068.fits\n",
      "reading 10/130 /fs/scratch/PCON0008/warner785/bwarner/gold_full/gold_st82_final_000075.fits\n",
      "reading 11/130 /fs/scratch/PCON0008/warner785/bwarner/gold_full/gold_st82_final_000103.fits\n",
      "reading 12/130 /fs/scratch/PCON0008/warner785/bwarner/gold_full/gold_st82_final_000112.fits\n",
      "reading 13/130 /fs/scratch/PCON0008/warner785/bwarner/gold_full/gold_st82_final_000043.fits\n",
      "reading 14/130 /fs/scratch/PCON0008/warner785/bwarner/gold_full/gold_st82_final_000125.fits\n",
      "reading 15/130 /fs/scratch/PCON0008/warner785/bwarner/gold_full/gold_st82_final_000083.fits\n",
      "reading 16/130 /fs/scratch/PCON0008/warner785/bwarner/gold_full/gold_st82_final_000101.fits\n",
      "reading 17/130 /fs/scratch/PCON0008/warner785/bwarner/gold_full/gold_st82_final_000016.fits\n",
      "reading 18/130 /fs/scratch/PCON0008/warner785/bwarner/gold_full/gold_st82_final_000031.fits\n",
      "reading 19/130 /fs/scratch/PCON0008/warner785/bwarner/gold_full/gold_st82_final_000041.fits\n",
      "reading 20/130 /fs/scratch/PCON0008/warner785/bwarner/gold_full/gold_st82_final_000052.fits\n",
      "reading 21/130 /fs/scratch/PCON0008/warner785/bwarner/gold_full/gold_st82_final_000092.fits\n",
      "reading 22/130 /fs/scratch/PCON0008/warner785/bwarner/gold_full/gold_st82_final_000027.fits\n",
      "reading 23/130 /fs/scratch/PCON0008/warner785/bwarner/gold_full/gold_st82_final_000127.fits\n",
      "reading 24/130 /fs/scratch/PCON0008/warner785/bwarner/gold_full/gold_st82_final_000095.fits\n",
      "reading 25/130 /fs/scratch/PCON0008/warner785/bwarner/gold_full/gold_st82_final_000114.fits\n",
      "reading 26/130 /fs/scratch/PCON0008/warner785/bwarner/gold_full/gold_st82_final_000079.fits\n",
      "reading 27/130 /fs/scratch/PCON0008/warner785/bwarner/gold_full/gold_st82_final_000045.fits\n",
      "reading 28/130 /fs/scratch/PCON0008/warner785/bwarner/gold_full/gold_st82_final_000086.fits\n",
      "reading 29/130 /fs/scratch/PCON0008/warner785/bwarner/gold_full/gold_st82_final_000007.fits\n",
      "reading 30/130 /fs/scratch/PCON0008/warner785/bwarner/gold_full/gold_st82_final_000029.fits\n",
      "reading 31/130 /fs/scratch/PCON0008/warner785/bwarner/gold_full/gold_st82_final_000055.fits\n",
      "reading 32/130 /fs/scratch/PCON0008/warner785/bwarner/gold_full/gold_st82_final_000076.fits\n",
      "reading 33/130 /fs/scratch/PCON0008/warner785/bwarner/gold_full/gold_st82_final_000069.fits\n",
      "reading 34/130 /fs/scratch/PCON0008/warner785/bwarner/gold_full/gold_st82_final_000105.fits\n",
      "reading 35/130 /fs/scratch/PCON0008/warner785/bwarner/gold_full/gold_st82_final_000100.fits\n",
      "reading 36/130 /fs/scratch/PCON0008/warner785/bwarner/gold_full/gold_st82_final_000008.fits\n",
      "reading 37/130 /fs/scratch/PCON0008/warner785/bwarner/gold_full/gold_st82_final_000017.fits\n",
      "reading 38/130 /fs/scratch/PCON0008/warner785/bwarner/gold_full/gold_st82_final_000032.fits\n",
      "reading 39/130 /fs/scratch/PCON0008/warner785/bwarner/gold_full/gold_st82_final_000070.fits\n",
      "reading 40/130 /fs/scratch/PCON0008/warner785/bwarner/gold_full/gold_st82_final_000080.fits\n",
      "reading 41/130 /fs/scratch/PCON0008/warner785/bwarner/gold_full/gold_st82_final_000039.fits\n",
      "reading 42/130 /fs/scratch/PCON0008/warner785/bwarner/gold_full/gold_st82_final_000093.fits\n",
      "reading 43/130 /fs/scratch/PCON0008/warner785/bwarner/gold_full/gold_st82_final_000096.fits\n",
      "reading 44/130 /fs/scratch/PCON0008/warner785/bwarner/gold_full/gold_st82_final_000034.fits\n",
      "reading 45/130 /fs/scratch/PCON0008/warner785/bwarner/gold_full/gold_st82_final_000104.fits\n",
      "reading 46/130 /fs/scratch/PCON0008/warner785/bwarner/gold_full/gold_st82_final_000072.fits\n",
      "reading 47/130 /fs/scratch/PCON0008/warner785/bwarner/gold_full/gold_st82_final_000046.fits\n",
      "reading 48/130 /fs/scratch/PCON0008/warner785/bwarner/gold_full/gold_st82_final_000037.fits\n",
      "reading 49/130 /fs/scratch/PCON0008/warner785/bwarner/gold_full/gold_st82_final_000011.fits\n",
      "reading 50/130 /fs/scratch/PCON0008/warner785/bwarner/gold_full/gold_st82_final_000028.fits\n",
      "reading 51/130 /fs/scratch/PCON0008/warner785/bwarner/gold_full/gold_st82_final_000060.fits\n",
      "reading 52/130 /fs/scratch/PCON0008/warner785/bwarner/gold_full/gold_st82_final_000067.fits\n",
      "reading 53/130 /fs/scratch/PCON0008/warner785/bwarner/gold_full/gold_st82_final_000063.fits\n",
      "reading 54/130 /fs/scratch/PCON0008/warner785/bwarner/gold_full/gold_st82_final_000050.fits\n",
      "reading 55/130 /fs/scratch/PCON0008/warner785/bwarner/gold_full/gold_st82_final_000091.fits\n",
      "reading 56/130 /fs/scratch/PCON0008/warner785/bwarner/gold_full/gold_st82_final_000085.fits\n",
      "reading 57/130 /fs/scratch/PCON0008/warner785/bwarner/gold_full/gold_st82_final_000033.fits\n",
      "reading 58/130 /fs/scratch/PCON0008/warner785/bwarner/gold_full/gold_st82_final_000013.fits\n",
      "reading 59/130 /fs/scratch/PCON0008/warner785/bwarner/gold_full/gold_st82_final_000089.fits\n",
      "reading 60/130 /fs/scratch/PCON0008/warner785/bwarner/gold_full/gold_st82_final_000004.fits\n",
      "reading 61/130 /fs/scratch/PCON0008/warner785/bwarner/gold_full/gold_st82_final_000049.fits\n",
      "reading 62/130 /fs/scratch/PCON0008/warner785/bwarner/gold_full/gold_st82_final_000115.fits\n",
      "reading 63/130 /fs/scratch/PCON0008/warner785/bwarner/gold_full/gold_st82_final_000113.fits\n",
      "reading 64/130 /fs/scratch/PCON0008/warner785/bwarner/gold_full/gold_st82_final_000019.fits\n",
      "reading 65/130 /fs/scratch/PCON0008/warner785/bwarner/gold_full/gold_st82_final_000066.fits\n",
      "reading 66/130 /fs/scratch/PCON0008/warner785/bwarner/gold_full/gold_st82_final_000107.fits\n",
      "reading 67/130 /fs/scratch/PCON0008/warner785/bwarner/gold_full/gold_st82_final_000098.fits\n",
      "reading 68/130 /fs/scratch/PCON0008/warner785/bwarner/gold_full/gold_st82_final_000087.fits\n",
      "reading 69/130 /fs/scratch/PCON0008/warner785/bwarner/gold_full/gold_st82_final_000065.fits\n",
      "reading 70/130 /fs/scratch/PCON0008/warner785/bwarner/gold_full/gold_st82_final_000053.fits\n",
      "reading 71/130 /fs/scratch/PCON0008/warner785/bwarner/gold_full/gold_st82_final_000023.fits\n",
      "reading 72/130 /fs/scratch/PCON0008/warner785/bwarner/gold_full/gold_st82_final_000020.fits\n",
      "reading 73/130 /fs/scratch/PCON0008/warner785/bwarner/gold_full/gold_st82_final_000071.fits\n",
      "reading 74/130 /fs/scratch/PCON0008/warner785/bwarner/gold_full/gold_st82_final_000124.fits\n",
      "reading 75/130 /fs/scratch/PCON0008/warner785/bwarner/gold_full/gold_st82_final_000001.fits\n",
      "reading 76/130 /fs/scratch/PCON0008/warner785/bwarner/gold_full/gold_st82_final_000062.fits\n",
      "reading 77/130 /fs/scratch/PCON0008/warner785/bwarner/gold_full/gold_st82_final_000002.fits\n",
      "reading 78/130 /fs/scratch/PCON0008/warner785/bwarner/gold_full/gold_st82_final_000025.fits\n",
      "reading 79/130 /fs/scratch/PCON0008/warner785/bwarner/gold_full/gold_st82_final_000120.fits\n",
      "reading 80/130 /fs/scratch/PCON0008/warner785/bwarner/gold_full/gold_st82_final_000015.fits\n",
      "reading 81/130 /fs/scratch/PCON0008/warner785/bwarner/gold_full/gold_st82_final_000014.fits\n",
      "reading 82/130 /fs/scratch/PCON0008/warner785/bwarner/gold_full/gold_st82_final_000009.fits\n",
      "reading 83/130 /fs/scratch/PCON0008/warner785/bwarner/gold_full/gold_st82_final_000036.fits\n",
      "reading 84/130 /fs/scratch/PCON0008/warner785/bwarner/gold_full/gold_st82_final_000024.fits\n",
      "reading 85/130 /fs/scratch/PCON0008/warner785/bwarner/gold_full/gold_st82_final_000102.fits\n",
      "reading 86/130 /fs/scratch/PCON0008/warner785/bwarner/gold_full/gold_st82_final_000054.fits\n",
      "reading 87/130 /fs/scratch/PCON0008/warner785/bwarner/gold_full/gold_st82_final_000047.fits\n",
      "reading 88/130 /fs/scratch/PCON0008/warner785/bwarner/gold_full/gold_st82_final_000006.fits\n",
      "reading 89/130 /fs/scratch/PCON0008/warner785/bwarner/gold_full/gold_st82_final_000038.fits\n",
      "reading 90/130 /fs/scratch/PCON0008/warner785/bwarner/gold_full/gold_st82_final_000111.fits\n",
      "reading 91/130 /fs/scratch/PCON0008/warner785/bwarner/gold_full/gold_st82_final_000126.fits\n",
      "reading 92/130 /fs/scratch/PCON0008/warner785/bwarner/gold_full/gold_st82_final_000074.fits\n",
      "reading 93/130 /fs/scratch/PCON0008/warner785/bwarner/gold_full/gold_st82_final_000084.fits\n",
      "reading 94/130 /fs/scratch/PCON0008/warner785/bwarner/gold_full/gold_st82_final_000057.fits\n",
      "reading 95/130 /fs/scratch/PCON0008/warner785/bwarner/gold_full/gold_st82_final_000097.fits\n",
      "reading 96/130 /fs/scratch/PCON0008/warner785/bwarner/gold_full/gold_st82_final_000123.fits\n",
      "reading 97/130 /fs/scratch/PCON0008/warner785/bwarner/gold_full/gold_st82_final_000018.fits\n",
      "reading 98/130 /fs/scratch/PCON0008/warner785/bwarner/gold_full/gold_st82_final_000106.fits\n",
      "reading 99/130 /fs/scratch/PCON0008/warner785/bwarner/gold_full/gold_st82_final_000128.fits\n",
      "reading 100/130 /fs/scratch/PCON0008/warner785/bwarner/gold_full/gold_st82_final_000035.fits\n",
      "reading 101/130 /fs/scratch/PCON0008/warner785/bwarner/gold_full/gold_st82_final_000051.fits\n",
      "reading 102/130 /fs/scratch/PCON0008/warner785/bwarner/gold_full/gold_st82_final_000021.fits\n",
      "reading 103/130 /fs/scratch/PCON0008/warner785/bwarner/gold_full/gold_st82_final_000048.fits\n",
      "reading 104/130 /fs/scratch/PCON0008/warner785/bwarner/gold_full/gold_st82_final_000118.fits\n",
      "reading 105/130 /fs/scratch/PCON0008/warner785/bwarner/gold_full/gold_st82_final_000109.fits\n",
      "reading 106/130 /fs/scratch/PCON0008/warner785/bwarner/gold_full/gold_st82_final_000059.fits\n",
      "reading 107/130 /fs/scratch/PCON0008/warner785/bwarner/gold_full/gold_st82_final_000108.fits\n",
      "reading 108/130 /fs/scratch/PCON0008/warner785/bwarner/gold_full/gold_st82_final_000099.fits\n",
      "reading 109/130 /fs/scratch/PCON0008/warner785/bwarner/gold_full/gold_st82_final_000022.fits\n",
      "reading 110/130 /fs/scratch/PCON0008/warner785/bwarner/gold_full/gold_st82_final_000005.fits\n",
      "reading 111/130 /fs/scratch/PCON0008/warner785/bwarner/gold_full/gold_st82_final_000122.fits\n",
      "reading 112/130 /fs/scratch/PCON0008/warner785/bwarner/gold_full/gold_st82_final_000061.fits\n",
      "reading 113/130 /fs/scratch/PCON0008/warner785/bwarner/gold_full/gold_st82_final_000090.fits\n",
      "reading 114/130 /fs/scratch/PCON0008/warner785/bwarner/gold_full/gold_st82_final_000088.fits\n",
      "reading 115/130 /fs/scratch/PCON0008/warner785/bwarner/gold_full/gold_st82_final_000058.fits\n",
      "reading 116/130 /fs/scratch/PCON0008/warner785/bwarner/gold_full/gold_st82_final_000073.fits\n",
      "reading 117/130 /fs/scratch/PCON0008/warner785/bwarner/gold_full/gold_st82_final_000030.fits\n",
      "reading 118/130 /fs/scratch/PCON0008/warner785/bwarner/gold_full/gold_st82_final_000081.fits\n",
      "reading 119/130 /fs/scratch/PCON0008/warner785/bwarner/gold_full/gold_st82_final_000042.fits\n",
      "reading 120/130 /fs/scratch/PCON0008/warner785/bwarner/gold_full/gold_st82_final_000012.fits\n",
      "reading 121/130 /fs/scratch/PCON0008/warner785/bwarner/gold_full/gold_st82_final_000117.fits\n",
      "reading 122/130 /fs/scratch/PCON0008/warner785/bwarner/gold_full/gold_st82_final_000110.fits\n",
      "reading 123/130 /fs/scratch/PCON0008/warner785/bwarner/gold_full/gold_st82_final_000044.fits\n",
      "reading 124/130 /fs/scratch/PCON0008/warner785/bwarner/gold_full/gold_st82_final_000078.fits\n",
      "reading 125/130 /fs/scratch/PCON0008/warner785/bwarner/gold_full/gold_st82_final_000064.fits\n",
      "reading 126/130 /fs/scratch/PCON0008/warner785/bwarner/gold_full/gold_st82_final_000129.fits\n",
      "reading 127/130 /fs/scratch/PCON0008/warner785/bwarner/gold_full/gold_st82_final_000116.fits\n",
      "reading 128/130 /fs/scratch/PCON0008/warner785/bwarner/gold_full/gold_st82_final_000130.fits\n",
      "reading 129/130 /fs/scratch/PCON0008/warner785/bwarner/gold_full/gold_st82_final_000119.fits\n",
      "reading 130/130 /fs/scratch/PCON0008/warner785/bwarner/gold_full/gold_st82_final_000077.fits\n",
      "6860133\n",
      "5752145\n"
     ]
    }
   ],
   "source": [
    "# call required functions from modules \n",
    "\n",
    "sys.path.append('code_py3/')\n",
    "from cmass_modules import io\n",
    "from utils import matchCatalogsbyPosition, hpHEALPixelToRaDec, HealPixifyCatalogs, spatialcheck\n",
    "from xd import mixing_color, XD_fitting_X, assignCMASSProb, doVisualization_1d\n",
    "from run_DMASS_Y3 import priorCut_test\n",
    "\n",
    "# Calling Y3 GOLD v2.0 (training)\n",
    "# All catalogs are in the 'input_path' directory \n",
    "# The 'SearchAndCallFits' function below loads all \n",
    "# catalogs in the directory including 'input_keyword' in its name\n",
    "#input_path = '/n/des/lee.5922/data/gold_cat_Y3/STRIPE82/feae9705305d4430993687930f1cc3ad/'\n",
    "input_path = '/fs/scratch/PCON0008/warner785/bwarner/gold_full/'\n",
    "# call only first 9 catalogs for a fast run.\n",
    "# to call all catalogs in the directory, use 'Y3_GOLD' as input_keyword \n",
    "# but that will consume huge memory\n",
    "input_keyword = 'gold_st82_final'  \n",
    "# Columns to call\n",
    "columns =  ['RA', 'DEC', \n",
    "            'HPIX_4096',     # Healpix in ring order, nside=4096\n",
    "            'COADD_OBJECT_ID', \n",
    "            'SOF_CM_MAG_CORRECTED_G', # mag_[griz]\n",
    "            'SOF_CM_MAG_CORRECTED_R',\n",
    "            'SOF_CM_MAG_CORRECTED_I',\n",
    "            'SOF_CM_MAG_CORRECTED_Z',\n",
    "            'SOF_CM_MAG_ERR_G',       # mag error_[griz]\n",
    "            'SOF_CM_MAG_ERR_R',\n",
    "            'SOF_CM_MAG_ERR_I',\n",
    "            'SOF_CM_MAG_ERR_Z', 'EXTENDED_CLASS_MASH_SOF', 'MAG_DETMODEL_G', 'MAG_DETMODEL_R', 'MAG_DETMODEL_I', 'MAG_DETMODEL_Z', \n",
    "            'MAGERR_DETMODEL_G', 'MAGERR_DETMODEL_R', 'MAGERR_DETMODEL_I', 'MAGERR_DETMODEL_Z',\n",
    "            'MOF_CM_MAG_CORRECTED_G', 'MOF_CM_MAG_CORRECTED_R', 'MOF_CM_MAG_CORRECTED_I', 'MOF_CM_MAG_CORRECTED_Z',\n",
    "            'MOF_CM_MAG_ERR_G', 'MOF_CM_MAG_ERR_R', 'MOF_CM_MAG_ERR_I', 'MOF_CM_MAG_ERR_Z']\n",
    "gold_st82 = io.SearchAndCallFits(path = input_path, keyword = input_keyword, columns=columns)\n",
    "\n",
    "# Color/Magnitude cuts to exclude extremely high or low mag/color sources.\n",
    "# 16 < mag_riz < 24, 0 < (r-i) < 1.5, 0 < (g-r) < 2.5\n",
    "# These galaxies are less likeliy to be a CMASS, therefore unnecessary. \n",
    "# We apply these cuts to reduce the sample size to speed up the codes\n",
    "mask_magcut = priorCut_test(gold_st82)\n",
    "gold_st82 = gold_st82[mask_magcut]\n",
    "gold_st82 = gold_st82[(gold_st82['EXTENDED_CLASS_MASH_SOF'] == 3)]\n",
    "\n",
    "def keepGoodRegion(des, hpInd = False, balrog=None):\n",
    "    import healpy as hp\n",
    "    import fitsio\n",
    "    # 25 is the faintest object detected by DES\n",
    "    # objects larger than 25 considered as Noise\n",
    "    \n",
    "    path = '/fs/scratch/PCON0003/warner785/bwarner/'\n",
    "    #LSSGoldmask = fitsio.read(path+'Y1LSSmask_v2_il22_seeil4.0_nside4096ring_redlimcut.fits')\n",
    "    #LSSGoldmask = fitsio.read(path+'Y1LSSmask_v1_il22seeil4.04096ring_redlimcut.fits')\n",
    "    LSSGoldmask = fitsio.read(path+'MASK_Y3LSSBAOSOF_22_3_v2p2.fits')\n",
    "    ringhp = hp.nest2ring(4096, [LSSGoldmask['PIXEL']])\n",
    "    #Y1LSSmask_v1_il22seeil4.04096ring_redlimcut.fits\n",
    "    #frac_cut = LSSGoldmask['FRAC'] > 0.8\n",
    "    #ind_good_ring = LSSGoldmask['PIXEL'][frac_cut]\n",
    "    ind_good_ring = ringhp\n",
    "    \n",
    "    # healpixify the catalog.\n",
    "    nside=4096\n",
    "    # Convert silly ra/dec to silly HP angular coordinates.\n",
    "    phi = des['RA'] * np.pi / 180.0\n",
    "    theta = ( 90.0 - des['DEC'] ) * np.pi/180.0\n",
    "\n",
    "    hpInd = hp.ang2pix(nside,theta,phi,nest=False)\n",
    "    keep = np.in1d(hpInd, ind_good_ring)\n",
    "    des = des[keep]\n",
    "    if hpInd is True:\n",
    "        return ind_good_ring\n",
    "    else:\n",
    "        return des\n",
    "\n",
    "print(gold_st82.size)    \n",
    "gold_st82 = keepGoodRegion(gold_st82)\n",
    "print(gold_st82.size)"
   ]
  },
  {
   "cell_type": "code",
   "execution_count": 8,
   "id": "20282c95-7fb2-410d-861b-ae10c96239c8",
   "metadata": {},
   "outputs": [
    {
     "name": "stdout",
     "output_type": "stream",
     "text": [
      "total num of train 258884\n",
      "\n",
      "--------------------------------\n",
      " applying DES veto mask to CMASS\n",
      "--------------------------------\n",
      "num of train_sample after des veto 61031\n"
     ]
    }
   ],
   "source": [
    "#this CMASS used for Y1, and Y3 now:\n",
    "\n",
    "import fitsio\n",
    "cmass = esutil.io.read('/fs/scratch/PCON0003/warner785/bwarner/cmass-dr12v4-S-Reid-full.dat.fits')\n",
    "train_sample = esutil.io.read('/fs/scratch/PCON0003/warner785/bwarner/cmass-dr12v4-S-Reid-full.dat.fits')\n",
    "#train_sample = esutil.io.read('/global/cscratch1/sd/bwarner/galaxy_DR11v1_CMASS_South-photoObj.fits.gz')\n",
    "print('total num of train', train_sample.size)\n",
    "print('\\n--------------------------------\\n applying DES veto mask to CMASS\\n--------------------------------')   \n",
    "train_sample = keepGoodRegion(train_sample)\n",
    "\n",
    "#fitsio.write( output_dir+'/cmass_in_st82.fits', train_sample)\n",
    "\n",
    "print('num of train_sample after des veto', train_sample.size)"
   ]
  },
  {
   "cell_type": "code",
   "execution_count": 8,
   "id": "7454adb2-23f0-4032-88a6-9010562574cf",
   "metadata": {},
   "outputs": [
    {
     "name": "stdout",
     "output_type": "stream",
     "text": [
      "61031\n",
      "5752145\n",
      "('num of cmass in des side', 60037, '(23%)')\n"
     ]
    }
   ],
   "source": [
    "# find cmass in des_gold side --------------------\n",
    "print(train_sample.size)\n",
    "print(gold_st82.size)\n",
    "mg1, mg2, _ = esutil.htm.HTM(10).match(train_sample['RA'], train_sample['DEC'], gold_st82['RA'], \\\n",
    "                                         gold_st82['DEC'],2./3600, maxmatch=1)\n",
    "cmass_mask = np.zeros(gold_st82.size, dtype=bool)\n",
    "cmass_mask[mg2] = 1\n",
    "clean_cmass_data_des, nocmass = gold_st82[cmass_mask], gold_st82[~cmass_mask]\n",
    "\n",
    "\n",
    "print(('num of cmass in des side', clean_cmass_data_des.size, '({:0.0f}%)'.format(clean_cmass_data_des.size*1./cmass.size*100.)))"
   ]
  },
  {
   "cell_type": "code",
   "execution_count": 12,
   "id": "05c450c1-5f47-48b8-a6e2-c5bae3652570",
   "metadata": {},
   "outputs": [],
   "source": [
    "# number of gaussian mixtures\n",
    "# Set None for a initial run. The algorithm automatically finds an optimal number\n",
    "n_gold = None \n",
    "\n",
    "# number of XD iteration. \n",
    "# I set these numbers small for a fast run but generally\n",
    "# should be run until the XD algorithm converges (more than 10000 iterations)\n",
    "n_iter_gold = 10000\n",
    "# tolerance\n",
    "tol = 1E-5\n",
    "\n",
    "# Fitted parameters and covariance will be stored as a pickle\n",
    "outdir = 'output/test/fitting/'\n",
    "os.makedirs(outdir, exist_ok=True)\n",
    "gold_xd_bovy_filename = outdir+'gauss_gold_bovyY3_testDET.xdgmm'"
   ]
  },
  {
   "cell_type": "code",
   "execution_count": 13,
   "id": "2bdb2f8f-1e8e-4988-a6af-1c5f5c3b290a",
   "metadata": {},
   "outputs": [],
   "source": [
    "# Magnitudes and corresponding errors you want to use to train the algorithm. \n",
    "# `mixing_color` automatically constructs [mag g, mag r, color (g-r), color (r-i)] and \n",
    "# its 4x4 covariance matrix from the input magnitudes. \n",
    "# I simply put `SOF_CM_MAG_CORRECTED` magnitudes for now. \n",
    "# If you want to use different combinations of mags and colors, \n",
    "# modify `mixing_color` or build your own function. \n",
    "mag = ['MAG_DETMODEL', 'MAG_DETMODEL']\n",
    "err = ['MAGERR_DETMODEL', 'MAGERR_DETMODEL']\n",
    "filter = ['G', 'R', 'I']\n",
    "\n",
    "# This generates four columns of gold training sample. order : mag r, mag i, (g-r), (r-i)\n",
    "X_gold, X_gold_cov = mixing_color(clean_cmass_data_des, \n",
    "                mag = mag, err=err, filter=filter, \n",
    "                no_zband = True )"
   ]
  },
  {
   "cell_type": "code",
   "execution_count": 14,
   "id": "ae03b912-a938-41a0-8f4b-24154e531242",
   "metadata": {},
   "outputs": [
    {
     "name": "stdout",
     "output_type": "stream",
     "text": [
      "@pickle_results: computing results and saving to 'output/test/fitting/gauss_gold_bovyY3_testDET.xdgmm.n_cluster'\n",
      "Finding optimal number of cluster : 100 % \n",
      "best fit converged: True  n_components =  12\n"
     ]
    }
   ],
   "source": [
    "# Determine the best number of Gaussian Mixtures to use \n",
    "# You might not need this function as this is already included in XDnew_fitting_X()\n",
    "n_cl_gold,_,_= _FindOptimalN_with_err( np.arange(2, 50, 2), X_gold, None, \n",
    "            pickleFileName = gold_xd_bovy_filename+'.n_cluster' , suffix = '')\n",
    "\n",
    "#n_cl_gold = None"
   ]
  },
  {
   "cell_type": "code",
   "execution_count": 14,
   "id": "ded9f14a-12d4-4c78-8f59-0ebc586377aa",
   "metadata": {},
   "outputs": [
    {
     "name": "stdout",
     "output_type": "stream",
     "text": [
      "Using precomputed results from  output/test/fitting/gauss_gold_bovyY3_130MOF_unfixed.xdgmm\n"
     ]
    }
   ],
   "source": [
    "# Fitting start with Bovy's method\n",
    "#clf_gold = XDnew_fitting_X( X_gold, X_gold_cov, FileName = gold_xd_bovy_filename, \n",
    "#                    n_cl = 16, n_iter = n_iter_gold, tol = tol, method='Bovy')"
   ]
  },
  {
   "cell_type": "code",
   "execution_count": 15,
   "id": "a155d8f9-aa2f-4e89-b314-f9c51476d00a",
   "metadata": {},
   "outputs": [],
   "source": [
    "#Next: noncmass data\n",
    "\n",
    "# number of gaussian mixtures\n",
    "# Set None for a initial run. The algorithm automatically finds an optimal number\n",
    "n_nogold = None \n",
    "\n",
    "# number of XD iteration. \n",
    "# I set these numbers small for a fast run but generally\n",
    "# should be run until the XD algorithm converges (more than 10000 iterations)\n",
    "n_iter_nogold = 15000\n",
    "# tolerance\n",
    "tol = 1E-5\n",
    "\n",
    "# Fitted parameters and covariance will be stored as a pickle\n",
    "outdir = 'output/test/fitting/'\n",
    "os.makedirs(outdir, exist_ok=True)\n",
    "gold_xd_bovy_filename = outdir+'gauss_nogold_bovyY3_test_DET.xdgmm'"
   ]
  },
  {
   "cell_type": "code",
   "execution_count": 18,
   "id": "6b72b9b9-ab53-49c1-956b-1bee8cb76a67",
   "metadata": {},
   "outputs": [],
   "source": [
    "import numpy as np\n",
    "nocmass_random_ind = np.random.choice(np.arange(nocmass.size), size = int(nocmass.size/5))\n",
    "nocmass_random = nocmass[nocmass_random_ind]"
   ]
  },
  {
   "cell_type": "code",
   "execution_count": 19,
   "id": "9ecc81a3-b1f8-4cde-b280-5a090057a75d",
   "metadata": {},
   "outputs": [],
   "source": [
    "# Magnitudes and corresponding errors you want to use to train the algorithm. \n",
    "# `mixing_color` automatically constructs [mag g, mag r, color (g-r), color (r-i)] and \n",
    "# its 4x4 covariance matrix from the input magnitudes. \n",
    "# I simply put `SOF_CM_MAG_CORRECTED` magnitudes for now. \n",
    "# If you want to use different combinations of mags and colors, \n",
    "# modify `mixing_color` or build your own function. \n",
    "mag = ['MAG_DETMODEL', 'MAG_DETMODEL']\n",
    "err = ['MAGERR_DETMODEL', 'MAGERR_DETMODEL']\n",
    "filter = ['G', 'R', 'I']\n",
    "\n",
    "# This generates four columns of gold training sample. order : mag r, mag i, (g-r), (r-i)\n",
    "X_nogold, X_nogold_cov = mixing_color(nocmass_random, \n",
    "                mag = mag, err=err, filter=filter, \n",
    "                no_zband = True )"
   ]
  },
  {
   "cell_type": "code",
   "execution_count": 20,
   "id": "d8d3d7e2-a9f8-47a3-89e1-d31d54bc15f2",
   "metadata": {},
   "outputs": [
    {
     "name": "stdout",
     "output_type": "stream",
     "text": [
      "@pickle_results: computing results and saving to 'output/test/fitting/gauss_nogold_bovyY3_test_DET.xdgmm.n_cluster'\n",
      "Finding optimal number of cluster : 100 % \n",
      "best fit converged: True  n_components =  46\n"
     ]
    }
   ],
   "source": [
    "# Determine the best number of Gaussian Mixtures to use \n",
    "# You might not need this function as this is already included in XDnew_fitting_X()\n",
    "n_cl_nogold,_,_= _FindOptimalN_with_err( np.arange(2, 50, 2), X_nogold, None, \n",
    "            pickleFileName = gold_xd_bovy_filename+'.n_cluster' , suffix = '')\n",
    "\n",
    "#n_cl_gold = None"
   ]
  },
  {
   "cell_type": "code",
   "execution_count": null,
   "id": "de23ef0a-d440-4f8d-893f-515c98008fb5",
   "metadata": {},
   "outputs": [
    {
     "name": "stdout",
     "output_type": "stream",
     "text": [
      "n_components= 48\n",
      "fitting started. This will take for a while.\n"
     ]
    },
    {
     "name": "stderr",
     "output_type": "stream",
     "text": [
      "/users/PCON0003/warner785/.conda/envs/DES_env/lib/python3.7/site-packages/sklearn/mixture/_base.py:282: ConvergenceWarning: Initialization 1 did not converge. Try different init parameters, or increase max_iter, tol or check for degenerate data.\n",
      "  ConvergenceWarning,\n"
     ]
    }
   ],
   "source": [
    "# Fitting start with Bovy's method\n",
    "#clf_nogold = XDnew_fitting_X( X_nogold, X_nogold_cov, FileName = gold_xd_bovy_filename, \n",
    "#                    n_cl = 48, n_iter = n_iter_gold, tol = tol, method='Bovy')"
   ]
  },
  {
   "cell_type": "code",
   "execution_count": null,
   "id": "47a88ad5-dd22-4cc9-8da9-dd2e67aafa29",
   "metadata": {},
   "outputs": [],
   "source": [
    "# STOP HERE #"
   ]
  },
  {
   "cell_type": "code",
   "execution_count": 12,
   "id": "6d68eafb-c53f-4001-a9a3-830a3e25d84d",
   "metadata": {},
   "outputs": [],
   "source": [
    "#testing figure 3\n",
    "#clf_nodmass = clf_nogold \n",
    "#clf_dmass = clf_gold\n",
    "\n",
    "#load in:\n",
    "#clf_dmass = XDGMM_Holoien(filename='output/test/fitting/gauss_gold_bovyY3_130MOF_unfixed.xdgmm')\n",
    "#clf_nodmass = XDGMM_Holoien(filename='output/test/fitting/gauss_nogold_bovyY3_130MOF_unfixed3.xdgmm')"
   ]
  },
  {
   "cell_type": "code",
   "execution_count": 16,
   "id": "fc1b0652-d1cc-4d14-b4b0-3e7e260ef48b",
   "metadata": {},
   "outputs": [
    {
     "name": "stdout",
     "output_type": "stream",
     "text": [
      "1192126\n",
      "238425\n",
      "calculate loglikelihood gaussian with multiprocessing module\n",
      "multiprocessing 50 %"
     ]
    },
    {
     "name": "stderr",
     "output_type": "stream",
     "text": [
      "/users/PCON0003/warner785/.conda/envs/DES_env/lib/python3.7/site-packages/astroML/density_estimation/xdeconv.py:130: RuntimeWarning: divide by zero encountered in log\n",
      "  return log_multivariate_gaussian(X, self.mu, T) + np.log(self.alpha)\n"
     ]
    },
    {
     "name": "stdout",
     "output_type": "stream",
     "text": [
      "multiprocessing 54 %"
     ]
    },
    {
     "name": "stderr",
     "output_type": "stream",
     "text": [
      "/users/PCON0003/warner785/.conda/envs/DES_env/lib/python3.7/site-packages/astroML/density_estimation/xdeconv.py:130: RuntimeWarning: divide by zero encountered in log\n",
      "  return log_multivariate_gaussian(X, self.mu, T) + np.log(self.alpha)\n"
     ]
    },
    {
     "name": "stdout",
     "output_type": "stream",
     "text": [
      "multiprocessing 58 %"
     ]
    },
    {
     "name": "stderr",
     "output_type": "stream",
     "text": [
      "/users/PCON0003/warner785/.conda/envs/DES_env/lib/python3.7/site-packages/astroML/density_estimation/xdeconv.py:130: RuntimeWarning: divide by zero encountered in log\n",
      "  return log_multivariate_gaussian(X, self.mu, T) + np.log(self.alpha)\n"
     ]
    },
    {
     "name": "stdout",
     "output_type": "stream",
     "text": [
      "multiprocessing 62 %"
     ]
    },
    {
     "name": "stderr",
     "output_type": "stream",
     "text": [
      "/users/PCON0003/warner785/.conda/envs/DES_env/lib/python3.7/site-packages/astroML/density_estimation/xdeconv.py:130: RuntimeWarning: divide by zero encountered in log\n",
      "  return log_multivariate_gaussian(X, self.mu, T) + np.log(self.alpha)\n",
      "/users/PCON0003/warner785/.conda/envs/DES_env/lib/python3.7/site-packages/astroML/density_estimation/xdeconv.py:130: RuntimeWarning: divide by zero encountered in log\n",
      "  return log_multivariate_gaussian(X, self.mu, T) + np.log(self.alpha)\n"
     ]
    },
    {
     "name": "stdout",
     "output_type": "stream",
     "text": [
      "multiprocessing 71 %"
     ]
    },
    {
     "name": "stderr",
     "output_type": "stream",
     "text": [
      "/users/PCON0003/warner785/.conda/envs/DES_env/lib/python3.7/site-packages/astroML/density_estimation/xdeconv.py:130: RuntimeWarning: divide by zero encountered in log\n",
      "  return log_multivariate_gaussian(X, self.mu, T) + np.log(self.alpha)\n"
     ]
    },
    {
     "name": "stdout",
     "output_type": "stream",
     "text": [
      "multiprocessing 75 %"
     ]
    },
    {
     "name": "stderr",
     "output_type": "stream",
     "text": [
      "/users/PCON0003/warner785/.conda/envs/DES_env/lib/python3.7/site-packages/astroML/density_estimation/xdeconv.py:130: RuntimeWarning: divide by zero encountered in log\n",
      "  return log_multivariate_gaussian(X, self.mu, T) + np.log(self.alpha)\n"
     ]
    },
    {
     "name": "stdout",
     "output_type": "stream",
     "text": [
      "multiprocessing 79 %"
     ]
    },
    {
     "name": "stderr",
     "output_type": "stream",
     "text": [
      "/users/PCON0003/warner785/.conda/envs/DES_env/lib/python3.7/site-packages/astroML/density_estimation/xdeconv.py:130: RuntimeWarning: divide by zero encountered in log\n",
      "  return log_multivariate_gaussian(X, self.mu, T) + np.log(self.alpha)\n",
      "/users/PCON0003/warner785/.conda/envs/DES_env/lib/python3.7/site-packages/astroML/density_estimation/xdeconv.py:130: RuntimeWarning: divide by zero encountered in log\n",
      "  return log_multivariate_gaussian(X, self.mu, T) + np.log(self.alpha)\n"
     ]
    },
    {
     "name": "stdout",
     "output_type": "stream",
     "text": [
      "multiprocessing 88 %"
     ]
    },
    {
     "name": "stderr",
     "output_type": "stream",
     "text": [
      "/users/PCON0003/warner785/.conda/envs/DES_env/lib/python3.7/site-packages/astroML/density_estimation/xdeconv.py:130: RuntimeWarning: divide by zero encountered in log\n",
      "  return log_multivariate_gaussian(X, self.mu, T) + np.log(self.alpha)\n"
     ]
    },
    {
     "name": "stdout",
     "output_type": "stream",
     "text": [
      "multiprocessing 92 %"
     ]
    },
    {
     "name": "stderr",
     "output_type": "stream",
     "text": [
      "/users/PCON0003/warner785/.conda/envs/DES_env/lib/python3.7/site-packages/astroML/density_estimation/xdeconv.py:130: RuntimeWarning: divide by zero encountered in log\n",
      "  return log_multivariate_gaussian(X, self.mu, T) + np.log(self.alpha)\n"
     ]
    },
    {
     "name": "stdout",
     "output_type": "stream",
     "text": [
      "multiprocessing 96 %"
     ]
    },
    {
     "name": "stderr",
     "output_type": "stream",
     "text": [
      "/users/PCON0003/warner785/.conda/envs/DES_env/lib/python3.7/site-packages/astroML/density_estimation/xdeconv.py:130: RuntimeWarning: divide by zero encountered in log\n",
      "  return log_multivariate_gaussian(X, self.mu, T) + np.log(self.alpha)\n"
     ]
    },
    {
     "name": "stdout",
     "output_type": "stream",
     "text": [
      "multiprocessing 100 % \n",
      "calculate loglikelihood gaussian with multiprocessing module\n",
      "multiprocessing 50 %"
     ]
    },
    {
     "name": "stderr",
     "output_type": "stream",
     "text": [
      "/users/PCON0003/warner785/.conda/envs/DES_env/lib/python3.7/site-packages/astroML/density_estimation/xdeconv.py:130: RuntimeWarning: divide by zero encountered in log\n",
      "  return log_multivariate_gaussian(X, self.mu, T) + np.log(self.alpha)\n"
     ]
    },
    {
     "name": "stdout",
     "output_type": "stream",
     "text": [
      "multiprocessing 54 %"
     ]
    },
    {
     "name": "stderr",
     "output_type": "stream",
     "text": [
      "/users/PCON0003/warner785/.conda/envs/DES_env/lib/python3.7/site-packages/astroML/density_estimation/xdeconv.py:130: RuntimeWarning: divide by zero encountered in log\n",
      "  return log_multivariate_gaussian(X, self.mu, T) + np.log(self.alpha)\n"
     ]
    },
    {
     "name": "stdout",
     "output_type": "stream",
     "text": [
      "multiprocessing 58 %"
     ]
    },
    {
     "name": "stderr",
     "output_type": "stream",
     "text": [
      "/users/PCON0003/warner785/.conda/envs/DES_env/lib/python3.7/site-packages/astroML/density_estimation/xdeconv.py:130: RuntimeWarning: divide by zero encountered in log\n",
      "  return log_multivariate_gaussian(X, self.mu, T) + np.log(self.alpha)\n",
      "/users/PCON0003/warner785/.conda/envs/DES_env/lib/python3.7/site-packages/astroML/density_estimation/xdeconv.py:130: RuntimeWarning: divide by zero encountered in log\n",
      "  return log_multivariate_gaussian(X, self.mu, T) + np.log(self.alpha)\n"
     ]
    },
    {
     "name": "stdout",
     "output_type": "stream",
     "text": [
      "multiprocessing 67 %"
     ]
    },
    {
     "name": "stderr",
     "output_type": "stream",
     "text": [
      "/users/PCON0003/warner785/.conda/envs/DES_env/lib/python3.7/site-packages/astroML/density_estimation/xdeconv.py:130: RuntimeWarning: divide by zero encountered in log\n",
      "  return log_multivariate_gaussian(X, self.mu, T) + np.log(self.alpha)\n"
     ]
    },
    {
     "name": "stdout",
     "output_type": "stream",
     "text": [
      "multiprocessing 71 %"
     ]
    },
    {
     "name": "stderr",
     "output_type": "stream",
     "text": [
      "/users/PCON0003/warner785/.conda/envs/DES_env/lib/python3.7/site-packages/astroML/density_estimation/xdeconv.py:130: RuntimeWarning: divide by zero encountered in log\n",
      "  return log_multivariate_gaussian(X, self.mu, T) + np.log(self.alpha)\n"
     ]
    },
    {
     "name": "stdout",
     "output_type": "stream",
     "text": [
      "multiprocessing 75 %"
     ]
    },
    {
     "name": "stderr",
     "output_type": "stream",
     "text": [
      "/users/PCON0003/warner785/.conda/envs/DES_env/lib/python3.7/site-packages/astroML/density_estimation/xdeconv.py:130: RuntimeWarning: divide by zero encountered in log\n",
      "  return log_multivariate_gaussian(X, self.mu, T) + np.log(self.alpha)\n"
     ]
    },
    {
     "name": "stdout",
     "output_type": "stream",
     "text": [
      "multiprocessing 79 %"
     ]
    },
    {
     "name": "stderr",
     "output_type": "stream",
     "text": [
      "/users/PCON0003/warner785/.conda/envs/DES_env/lib/python3.7/site-packages/astroML/density_estimation/xdeconv.py:130: RuntimeWarning: divide by zero encountered in log\n",
      "  return log_multivariate_gaussian(X, self.mu, T) + np.log(self.alpha)\n",
      "/users/PCON0003/warner785/.conda/envs/DES_env/lib/python3.7/site-packages/astroML/density_estimation/xdeconv.py:130: RuntimeWarning: divide by zero encountered in log\n",
      "  return log_multivariate_gaussian(X, self.mu, T) + np.log(self.alpha)\n"
     ]
    },
    {
     "name": "stdout",
     "output_type": "stream",
     "text": [
      "multiprocessing 88 %"
     ]
    },
    {
     "name": "stderr",
     "output_type": "stream",
     "text": [
      "/users/PCON0003/warner785/.conda/envs/DES_env/lib/python3.7/site-packages/astroML/density_estimation/xdeconv.py:130: RuntimeWarning: divide by zero encountered in log\n",
      "  return log_multivariate_gaussian(X, self.mu, T) + np.log(self.alpha)\n"
     ]
    },
    {
     "name": "stdout",
     "output_type": "stream",
     "text": [
      "multiprocessing 92 %"
     ]
    },
    {
     "name": "stderr",
     "output_type": "stream",
     "text": [
      "/users/PCON0003/warner785/.conda/envs/DES_env/lib/python3.7/site-packages/astroML/density_estimation/xdeconv.py:130: RuntimeWarning: divide by zero encountered in log\n",
      "  return log_multivariate_gaussian(X, self.mu, T) + np.log(self.alpha)\n"
     ]
    },
    {
     "name": "stdout",
     "output_type": "stream",
     "text": [
      "multiprocessing 96 %"
     ]
    },
    {
     "name": "stderr",
     "output_type": "stream",
     "text": [
      "/users/PCON0003/warner785/.conda/envs/DES_env/lib/python3.7/site-packages/astroML/density_estimation/xdeconv.py:130: RuntimeWarning: divide by zero encountered in log\n",
      "  return log_multivariate_gaussian(X, self.mu, T) + np.log(self.alpha)\n"
     ]
    },
    {
     "name": "stdout",
     "output_type": "stream",
     "text": [
      "multiprocessing 100 % \n",
      "chi2_reduced:  0.3099749702396593\n",
      "size:  20\n",
      "sum of chi2:  6.199499404793186\n"
     ]
    }
   ],
   "source": [
    "#training region check\n",
    "\n",
    "mask = (gold_st82['RA']>310) & (gold_st82['RA']<360)|(gold_st82['RA']<7)\n",
    "mask = mask & (gold_st82['DEC']>-10) & (gold_st82['DEC']<10)\n",
    "gold_st82_train = gold_st82[mask]\n",
    "\n",
    "mag = ['MOF_CM_MAG_CORRECTED', 'MOF_CM_MAG_CORRECTED' ]\n",
    "err = ['MOF_CM_MAG_ERR', 'MOF_CM_MAG_ERR']\n",
    "filter = ['G', 'R', 'I']\n",
    "\n",
    "print(gold_st82_train.size)\n",
    "gold_train_random_ind = np.random.choice(np.arange(gold_st82_train.size), size = int(gold_st82_train.size/5))\n",
    "gold_train_random = gold_st82_train[gold_train_random_ind]\n",
    "print(gold_train_random.size)\n",
    "\n",
    "mg1, mg2, _ = esutil.htm.HTM(10).match(train_sample['RA'], train_sample['DEC'], gold_st82_train['RA'], \\\n",
    "                                         gold_st82_train['DEC'],2./3600, maxmatch=1)\n",
    "cmass_mask_train = np.zeros(gold_st82_train.size, dtype=bool)\n",
    "cmass_mask_train[mg2] = 1\n",
    "clean_cmass_data_des_train, nocmass_train = gold_st82_train[cmass_mask_train], gold_st82_train[~cmass_mask_train]\n",
    "\n",
    "#clean_cmass_data_des = clean_cmass_data_des_train\n",
    "\n",
    "clean_dmass_prob_train = assignCMASSProb(clean_cmass_data_des_train, clf_dmass, clf_nodmass, \n",
    "                     cmass_fraction =cmass_fraction_full\n",
    ", \n",
    "                     mag=mag, err=err, filter=filter )\n",
    "\n",
    "\n",
    "dmass_st82_real_train = clean_dmass_prob_train # actual CMASS galaxies in train set\n",
    "dmass_st82_val_train = assignCMASSProb(gold_st82_train, clf_dmass, clf_nodmass, \n",
    "                     cmass_fraction = cmass_fraction_full\n",
    ", \n",
    "                     mag=mag, err=err, filter=filter )\n",
    "\n",
    "pbin = np.linspace(0, 1, 21)\n",
    "pcenter = pbin[:-1] + 0.025\n",
    "N, _ = np.histogram(dmass_st82_real_train['CMASS_PROB'], bins=pbin)\n",
    "\n",
    "import matplotlib.pyplot as plt\n",
    "#pbin, frac, fracerr = np.genfromtxt('../paper_figure/model_probability.txt', unpack=True)\n",
    "\n",
    "M, _ = np.histogram(dmass_st82_val_train['CMASS_PROB'], bins=pbin)\n",
    "\n",
    "frac = N/M\n",
    "fracerr = 1/np.sqrt(N) #1 / sqrt(number of true cmass galaxies in each bin)\n",
    "\n",
    "x1=frac\n",
    "x2=pcenter\n",
    "err=fracerr\n",
    "chi2 = (x1-x2)**2 / err **2 \n",
    "chi2_reduced = sum(chi2)/chi2.size\n",
    "print(\"chi2_reduced: \",chi2_reduced)\n",
    "print(\"size: \",chi2.size)\n",
    "print(\"sum of chi2: \",sum(chi2))\n",
    "\n",
    "fig, ax = plt.subplots()\n",
    "ax.errorbar( pcenter, frac, yerr=fracerr, label = str(sum(chi2)))\n",
    "ax.plot([0,1], [0,1], ls='--', color='grey')\n",
    "plt.title('Training Region Check 100%')\n",
    "fig.savefig('MOF_train.pdf')"
   ]
  },
  {
   "cell_type": "code",
   "execution_count": 13,
   "id": "21c88205-3371-4176-86f5-eaf12bd9ebd6",
   "metadata": {},
   "outputs": [
    {
     "name": "stdout",
     "output_type": "stream",
     "text": [
      "calculate loglikelihood gaussian with multiprocessing module\n"
     ]
    },
    {
     "name": "stderr",
     "output_type": "stream",
     "text": [
      "/users/PCON0003/warner785/.conda/envs/DES_env/lib/python3.7/site-packages/astroML/density_estimation/xdeconv.py:130: RuntimeWarning: divide by zero encountered in log\n",
      "  return log_multivariate_gaussian(X, self.mu, T) + np.log(self.alpha)\n",
      "/users/PCON0003/warner785/.conda/envs/DES_env/lib/python3.7/site-packages/astroML/density_estimation/xdeconv.py:130: RuntimeWarning: divide by zero encountered in log\n",
      "  return log_multivariate_gaussian(X, self.mu, T) + np.log(self.alpha)\n"
     ]
    },
    {
     "name": "stdout",
     "output_type": "stream",
     "text": [
      "multiprocessing 8 %"
     ]
    },
    {
     "name": "stderr",
     "output_type": "stream",
     "text": [
      "/users/PCON0003/warner785/.conda/envs/DES_env/lib/python3.7/site-packages/astroML/density_estimation/xdeconv.py:130: RuntimeWarning: divide by zero encountered in log\n",
      "  return log_multivariate_gaussian(X, self.mu, T) + np.log(self.alpha)\n"
     ]
    },
    {
     "name": "stdout",
     "output_type": "stream",
     "text": [
      "multiprocessing 12 %"
     ]
    },
    {
     "name": "stderr",
     "output_type": "stream",
     "text": [
      "/users/PCON0003/warner785/.conda/envs/DES_env/lib/python3.7/site-packages/astroML/density_estimation/xdeconv.py:130: RuntimeWarning: divide by zero encountered in log\n",
      "  return log_multivariate_gaussian(X, self.mu, T) + np.log(self.alpha)\n"
     ]
    },
    {
     "name": "stdout",
     "output_type": "stream",
     "text": [
      "multiprocessing 17 %"
     ]
    },
    {
     "name": "stderr",
     "output_type": "stream",
     "text": [
      "/users/PCON0003/warner785/.conda/envs/DES_env/lib/python3.7/site-packages/astroML/density_estimation/xdeconv.py:130: RuntimeWarning: divide by zero encountered in log\n",
      "  return log_multivariate_gaussian(X, self.mu, T) + np.log(self.alpha)\n",
      "/users/PCON0003/warner785/.conda/envs/DES_env/lib/python3.7/site-packages/astroML/density_estimation/xdeconv.py:130: RuntimeWarning: divide by zero encountered in log\n",
      "  return log_multivariate_gaussian(X, self.mu, T) + np.log(self.alpha)\n"
     ]
    },
    {
     "name": "stdout",
     "output_type": "stream",
     "text": [
      "multiprocessing 25 %"
     ]
    },
    {
     "name": "stderr",
     "output_type": "stream",
     "text": [
      "/users/PCON0003/warner785/.conda/envs/DES_env/lib/python3.7/site-packages/astroML/density_estimation/xdeconv.py:130: RuntimeWarning: divide by zero encountered in log\n",
      "  return log_multivariate_gaussian(X, self.mu, T) + np.log(self.alpha)\n",
      "/users/PCON0003/warner785/.conda/envs/DES_env/lib/python3.7/site-packages/astroML/density_estimation/xdeconv.py:130: RuntimeWarning: divide by zero encountered in log\n",
      "  return log_multivariate_gaussian(X, self.mu, T) + np.log(self.alpha)\n"
     ]
    },
    {
     "name": "stdout",
     "output_type": "stream",
     "text": [
      "multiprocessing 33 %"
     ]
    },
    {
     "name": "stderr",
     "output_type": "stream",
     "text": [
      "/users/PCON0003/warner785/.conda/envs/DES_env/lib/python3.7/site-packages/astroML/density_estimation/xdeconv.py:130: RuntimeWarning: divide by zero encountered in log\n",
      "  return log_multivariate_gaussian(X, self.mu, T) + np.log(self.alpha)\n"
     ]
    },
    {
     "name": "stdout",
     "output_type": "stream",
     "text": [
      "multiprocessing 37 %"
     ]
    },
    {
     "name": "stderr",
     "output_type": "stream",
     "text": [
      "/users/PCON0003/warner785/.conda/envs/DES_env/lib/python3.7/site-packages/astroML/density_estimation/xdeconv.py:130: RuntimeWarning: divide by zero encountered in log\n",
      "  return log_multivariate_gaussian(X, self.mu, T) + np.log(self.alpha)\n",
      "/users/PCON0003/warner785/.conda/envs/DES_env/lib/python3.7/site-packages/astroML/density_estimation/xdeconv.py:130: RuntimeWarning: divide by zero encountered in log\n",
      "  return log_multivariate_gaussian(X, self.mu, T) + np.log(self.alpha)\n"
     ]
    },
    {
     "name": "stdout",
     "output_type": "stream",
     "text": [
      "multiprocessing 46 %"
     ]
    },
    {
     "name": "stderr",
     "output_type": "stream",
     "text": [
      "/users/PCON0003/warner785/.conda/envs/DES_env/lib/python3.7/site-packages/astroML/density_estimation/xdeconv.py:130: RuntimeWarning: divide by zero encountered in log\n",
      "  return log_multivariate_gaussian(X, self.mu, T) + np.log(self.alpha)\n"
     ]
    },
    {
     "name": "stdout",
     "output_type": "stream",
     "text": [
      "multiprocessing 100 % \n",
      "calculate loglikelihood gaussian with multiprocessing module\n"
     ]
    },
    {
     "name": "stderr",
     "output_type": "stream",
     "text": [
      "/users/PCON0003/warner785/.conda/envs/DES_env/lib/python3.7/site-packages/astroML/density_estimation/xdeconv.py:130: RuntimeWarning: divide by zero encountered in log\n",
      "  return log_multivariate_gaussian(X, self.mu, T) + np.log(self.alpha)\n"
     ]
    },
    {
     "name": "stdout",
     "output_type": "stream",
     "text": [
      "multiprocessing 4 %"
     ]
    },
    {
     "name": "stderr",
     "output_type": "stream",
     "text": [
      "/users/PCON0003/warner785/.conda/envs/DES_env/lib/python3.7/site-packages/astroML/density_estimation/xdeconv.py:130: RuntimeWarning: divide by zero encountered in log\n",
      "  return log_multivariate_gaussian(X, self.mu, T) + np.log(self.alpha)\n"
     ]
    },
    {
     "name": "stdout",
     "output_type": "stream",
     "text": [
      "multiprocessing 8 %"
     ]
    },
    {
     "name": "stderr",
     "output_type": "stream",
     "text": [
      "/users/PCON0003/warner785/.conda/envs/DES_env/lib/python3.7/site-packages/astroML/density_estimation/xdeconv.py:130: RuntimeWarning: divide by zero encountered in log\n",
      "  return log_multivariate_gaussian(X, self.mu, T) + np.log(self.alpha)\n"
     ]
    },
    {
     "name": "stdout",
     "output_type": "stream",
     "text": [
      "multiprocessing 12 %"
     ]
    },
    {
     "name": "stderr",
     "output_type": "stream",
     "text": [
      "/users/PCON0003/warner785/.conda/envs/DES_env/lib/python3.7/site-packages/astroML/density_estimation/xdeconv.py:130: RuntimeWarning: divide by zero encountered in log\n",
      "  return log_multivariate_gaussian(X, self.mu, T) + np.log(self.alpha)\n",
      "/users/PCON0003/warner785/.conda/envs/DES_env/lib/python3.7/site-packages/astroML/density_estimation/xdeconv.py:130: RuntimeWarning: divide by zero encountered in log\n",
      "  return log_multivariate_gaussian(X, self.mu, T) + np.log(self.alpha)\n"
     ]
    },
    {
     "name": "stdout",
     "output_type": "stream",
     "text": [
      "multiprocessing 21 %"
     ]
    },
    {
     "name": "stderr",
     "output_type": "stream",
     "text": [
      "/users/PCON0003/warner785/.conda/envs/DES_env/lib/python3.7/site-packages/astroML/density_estimation/xdeconv.py:130: RuntimeWarning: divide by zero encountered in log\n",
      "  return log_multivariate_gaussian(X, self.mu, T) + np.log(self.alpha)\n"
     ]
    },
    {
     "name": "stdout",
     "output_type": "stream",
     "text": [
      "multiprocessing 25 %"
     ]
    },
    {
     "name": "stderr",
     "output_type": "stream",
     "text": [
      "/users/PCON0003/warner785/.conda/envs/DES_env/lib/python3.7/site-packages/astroML/density_estimation/xdeconv.py:130: RuntimeWarning: divide by zero encountered in log\n",
      "  return log_multivariate_gaussian(X, self.mu, T) + np.log(self.alpha)\n"
     ]
    },
    {
     "name": "stdout",
     "output_type": "stream",
     "text": [
      "multiprocessing 29 %"
     ]
    },
    {
     "name": "stderr",
     "output_type": "stream",
     "text": [
      "/users/PCON0003/warner785/.conda/envs/DES_env/lib/python3.7/site-packages/astroML/density_estimation/xdeconv.py:130: RuntimeWarning: divide by zero encountered in log\n",
      "  return log_multivariate_gaussian(X, self.mu, T) + np.log(self.alpha)\n"
     ]
    },
    {
     "name": "stdout",
     "output_type": "stream",
     "text": [
      "multiprocessing 33 %"
     ]
    },
    {
     "name": "stderr",
     "output_type": "stream",
     "text": [
      "/users/PCON0003/warner785/.conda/envs/DES_env/lib/python3.7/site-packages/astroML/density_estimation/xdeconv.py:130: RuntimeWarning: divide by zero encountered in log\n",
      "  return log_multivariate_gaussian(X, self.mu, T) + np.log(self.alpha)\n"
     ]
    },
    {
     "name": "stdout",
     "output_type": "stream",
     "text": [
      "multiprocessing 37 %"
     ]
    },
    {
     "name": "stderr",
     "output_type": "stream",
     "text": [
      "/users/PCON0003/warner785/.conda/envs/DES_env/lib/python3.7/site-packages/astroML/density_estimation/xdeconv.py:130: RuntimeWarning: divide by zero encountered in log\n",
      "  return log_multivariate_gaussian(X, self.mu, T) + np.log(self.alpha)\n"
     ]
    },
    {
     "name": "stdout",
     "output_type": "stream",
     "text": [
      "multiprocessing 42 %"
     ]
    },
    {
     "name": "stderr",
     "output_type": "stream",
     "text": [
      "/users/PCON0003/warner785/.conda/envs/DES_env/lib/python3.7/site-packages/astroML/density_estimation/xdeconv.py:130: RuntimeWarning: divide by zero encountered in log\n",
      "  return log_multivariate_gaussian(X, self.mu, T) + np.log(self.alpha)\n"
     ]
    },
    {
     "name": "stdout",
     "output_type": "stream",
     "text": [
      "multiprocessing 46 %"
     ]
    },
    {
     "name": "stderr",
     "output_type": "stream",
     "text": [
      "/users/PCON0003/warner785/.conda/envs/DES_env/lib/python3.7/site-packages/astroML/density_estimation/xdeconv.py:130: RuntimeWarning: divide by zero encountered in log\n",
      "  return log_multivariate_gaussian(X, self.mu, T) + np.log(self.alpha)\n"
     ]
    },
    {
     "name": "stdout",
     "output_type": "stream",
     "text": [
      "multiprocessing 100 % \n",
      "pbin = [0.   0.05 0.1  0.15 0.2  0.25 0.3  0.35 0.4  0.45 0.5  0.55 0.6  0.65\n",
      " 0.7  0.75 0.8  0.85 0.9  0.95 1.  ]\n",
      "frac =  [0.00102011 0.07935994 0.14040896 0.20146806 0.25511711 0.3172582\n",
      " 0.3669605  0.41340168 0.44831829 0.51379149 0.53251408 0.58684654\n",
      " 0.625      0.66589994 0.69420989 0.76518987 0.78224456 0.82006205\n",
      " 0.863103   0.89532821]\n",
      "diff2_reduced:  0.0012928825768563632\n",
      "size:  20\n",
      "sum of diff2:  0.025857651537127265\n"
     ]
    }
   ],
   "source": [
    "#(Validation 2) Figure 3\n",
    "\n",
    "mag = ['MOF_CM_MAG_CORRECTED', 'MOF_CM_MAG_CORRECTED' ]\n",
    "err = ['MOF_CM_MAG_ERR', 'MOF_CM_MAG_ERR']\n",
    "filter = ['G', 'R', 'I']\n",
    "\n",
    "mask4 =(gold_st82['RA']>15)&(gold_st82['RA']<41)\n",
    "mask4 = mask4 & (gold_st82['DEC']>-10) & (gold_st82['DEC']<10)\n",
    "gold_st82_v4 = gold_st82[mask4]\n",
    "\n",
    "mg1, mg2, _ = esutil.htm.HTM(10).match(train_sample['RA'], train_sample['DEC'], gold_st82_v4['RA'], \\\n",
    "                                         gold_st82_v4['DEC'],2./3600, maxmatch=1)\n",
    "cmass_mask4 = np.zeros(gold_st82_v4.size, dtype=bool)\n",
    "cmass_mask4[mg2] = 1\n",
    "clean_cmass_data_des_v4, nocmass_v4 = gold_st82_v4[cmass_mask4], gold_st82_v4[~cmass_mask4]\n",
    "\n",
    "clean_dmass_prob4 = assignCMASSProb(clean_cmass_data_des_v4, clf_dmass, clf_nodmass, \n",
    "                     cmass_fraction =cmass_fraction_full\n",
    ", \n",
    "                     mag=mag, err=err, filter=filter ) \n",
    "dmass_st82_real4 = clean_dmass_prob4\n",
    "\n",
    "dmass_st82_val4 = assignCMASSProb(gold_st82_v4, clf_dmass, clf_nodmass, \n",
    "                     cmass_fraction = cmass_fraction_full\n",
    ", \n",
    "                     mag=mag, err=err, filter=filter )\n",
    "\n",
    "\n",
    "pbin = np.linspace(0, 1, 21)\n",
    "pcenter = pbin[:-1] + 0.025\n",
    "N, _ = np.histogram(dmass_st82_real4['CMASS_PROB'], bins=pbin)\n",
    "print('pbin =', pbin)\n",
    "import matplotlib.pyplot as plt\n",
    "#pbin, frac, fracerr = np.genfromtxt('../paper_figure/model_probability.txt', unpack=True)\n",
    "\n",
    "M, _ = np.histogram(dmass_st82_val4['CMASS_PROB'], bins=pbin)\n",
    "\n",
    "frac = N/M\n",
    "print('frac = ', frac)\n",
    "fracerr = 1/np.sqrt(N) #1 / sqrt(number of true cmass galaxies in each bin)\n",
    "#fracerr = (N/M)*np.sqrt((1/N)-(1/M))\n",
    "\n",
    "x1=frac\n",
    "x2=pcenter\n",
    "err=fracerr\n",
    "diff2 = (x1-x2)**2 \n",
    "diff2_reduced = sum(diff2)/diff2.size\n",
    "print(\"diff2_reduced: \",diff2_reduced)\n",
    "print(\"size: \",diff2.size)\n",
    "print(\"sum of diff2: \",sum(diff2))\n",
    "\n",
    "fig, ax = plt.subplots()\n",
    "ax.errorbar( pcenter, frac, yerr=fracerr)\n",
    "ax.plot([0,1], [0,1], ls='--', color='grey')\n",
    "#ax.legend(chi2_reduced)\n",
    "plt.title('Validation Region Check 100%')\n",
    "fig.savefig('MOF_Val_new_check.pdf')\n",
    "\n",
    "#describe plot: ***used for model and validation sample-- what is done to create plot"
   ]
  },
  {
   "cell_type": "code",
   "execution_count": 16,
   "id": "c331f274-13a1-4087-86cb-b4c80f00bece",
   "metadata": {},
   "outputs": [
    {
     "name": "stdout",
     "output_type": "stream",
     "text": [
      "chi2_reduced:  1.5328781770634328\n",
      "size:  20\n",
      "sum of chi2:  30.657563541268654\n"
     ]
    }
   ],
   "source": [
    "x1=frac\n",
    "x2=pcenter\n",
    "err=fracerr\n",
    "chi2 = (x1-x2)**2 / err **2 \n",
    "chi2_reduced = sum(chi2)/chi2.size\n",
    "print(\"chi2_reduced: \",chi2_reduced)\n",
    "print(\"size: \",chi2.size)\n",
    "print(\"sum of chi2: \",sum(chi2))"
   ]
  },
  {
   "cell_type": "code",
   "execution_count": 9,
   "id": "6e2d2215-5352-4264-a78d-ec96f66da9c5",
   "metadata": {},
   "outputs": [
    {
     "name": "stdout",
     "output_type": "stream",
     "text": [
      "1855129\n"
     ]
    }
   ],
   "source": [
    "# color distributions\" figure 5\n",
    "\n",
    "mask = (gold_st82['RA']>310) & (gold_st82['RA']<360)|(gold_st82['RA']<7)\n",
    "mask = mask & (gold_st82['DEC']>-10) & (gold_st82['DEC']<10)\n",
    "gold_st82_train = gold_st82[mask]\n",
    "\n",
    "print(gold_st82_train.size)\n",
    "#gold_train_random_ind = np.random.choice(np.arange(gold_st82_train.size), size = int(gold_st82_train.size/5))\n",
    "#gold_train_random = gold_st82_train[gold_train_random_ind]\n",
    "#print(gold_train_random.size)\n",
    "\n",
    "mg1, mg2, _ = esutil.htm.HTM(10).match(train_sample['RA'], train_sample['DEC'], gold_st82_train['RA'], \\\n",
    "                                         gold_st82_train['DEC'],2./3600, maxmatch=1)\n",
    "cmass_mask_train = np.zeros(gold_st82_train.size, dtype=bool)\n",
    "cmass_mask_train[mg2] = 1\n",
    "clean_cmass_data_des_train, nocmass_train = gold_st82_train[cmass_mask_train], gold_st82_train[~cmass_mask_train]\n",
    "\n",
    "clf_200 = XDGMM_Holoien(filename='output/test/fitting/gauss_gold_bovyY3_final2.xdgmm')\n",
    "clf_no200 = XDGMM_Holoien(filename='output/test/fitting/gauss_nogold_bovyY3_final2.xdgmm')\n",
    "X_sample_dmass = clf_200.sample(200000)        # non-cmass model\n",
    "X_sample_nodmass = clf_no200.sample(200000)\n",
    "\n",
    "mag = ['MAG_DETMODEL', 'MAG_DETMODEL']\n",
    "err = ['MAGERR_DETMODEL', 'MAGERR_DETMODEL']\n",
    "filter = ['G', 'R', 'I']\n",
    "\n",
    "# This generates four columns of cmass training sample. order : mag r, mag i, (g-r), (r-i)\n",
    "X_cmass_true, X_cmass_cov = mixing_color(clean_cmass_data_des_train, \n",
    "                mag = mag, err=err, filter=filter, \n",
    "                no_zband = True )\n",
    "\n",
    "# This generates four columns of non-cmass training sample. order : mag r, mag i, (g-r), (r-i)\n",
    "X_no_true, X_no_cov = mixing_color(nocmass_train, \n",
    "                mag = mag, err=err, filter=filter, \n",
    "                no_zband = True )"
   ]
  },
  {
   "cell_type": "code",
   "execution_count": 38,
   "id": "0c7236a0-153c-4af9-aa71-63e5dd931489",
   "metadata": {},
   "outputs": [],
   "source": [
    "def doVisualization_1d( data=None, labels = None, \n",
    "ranges = None, name = None, weight = [None,None], \n",
    "color=['grey', 'tab:blue', 'tab:orange', 'tab:green'],\n",
    "nbins=100, filename=None):\n",
    "\n",
    "\n",
    "    if labels == None:\n",
    "        print(\" always label your axes! you must populate the 'labels' keyword with one entry for each dimension of the data.\")\n",
    "        stop\n",
    "    else:\n",
    "        ndim = len(labels)\n",
    "    \n",
    "    if ranges == None:\n",
    "        # try to figure out the correct axis ranges.\n",
    "        print(\"Using central 100% to set range.\")\n",
    "        ranges = []\n",
    "        for i in range(ndim):\n",
    "            ranges.append( np.percentile(data[-1][:,i],[0.,100.]) )\n",
    "\n",
    "    \n",
    "    fig,axes = plt.subplots(nrows=1, ncols= ndim, figsize= (4*ndim, 4) )\n",
    "    #print weight[0], weight[1].size, data1[:,0].size \n",
    "    for i in range(ndim):\n",
    "        xbins = np.linspace(ranges[i][0],ranges[i][1], nbins)\n",
    "        for j in range(len(data)):    \n",
    "            if j == 0:\n",
    "                axes[i].hist(data[j][:,i],bins=xbins, label=name[j], weights=weight[j], alpha = 0.8, color =color[j], density=True, histtype='step')\n",
    "            else:\n",
    "                axes[i].hist(data[j][:,i],bins=xbins, label=name[j], weights=weight[j], alpha = 0.5, color =color[j], density=True)\n",
    "            #axes[i].hist(data[:,i],bins=xbins, alpha=1.0,label=name[1], weights=weight[1], histtype='step', color='k', lw=1, density=True)\n",
    "        axes[i].set_xlabel(labels[i], fontsize = 20)\n",
    "        #axes[i].hist(data2[:,i],bins=xbins,normed=True,alpha=0.5,label='data2')\n",
    "        axes[i].get_yaxis().set_visible(False)\n",
    "        axes[i].tick_params(labelsize=15)\n",
    "        axes[i].legend(loc='best',fontsize = 10)\n",
    "\n",
    "    #filename = \"figure/diagnostic_histograms_1d.pdf\"\n",
    "    #print(\"writing output plot to: \"+filename)\n",
    "    fig.tight_layout()\n",
    "    fig.subplots_adjust(wspace=0.05, hspace=0.5);\n",
    "    if filename != None: fig.savefig(filename)\n",
    "    #plt.close(fig)\n"
   ]
  },
  {
   "cell_type": "code",
   "execution_count": 39,
   "id": "3c190a66-11d5-4dd2-b2fc-a4702a7b5c2b",
   "metadata": {},
   "outputs": [],
   "source": [
    "def mixing_color(data, suffix = '', \n",
    "    mag = ['MAG_DETMODEL', 'MAG_DETMODEL'], \n",
    "    err = [ 'MAGERR_DETMODEL','MAGERR_DETMODEL'], \n",
    "    filter = ['G', 'R', 'I'],\n",
    "    sdss = None, cmass = None, elg=None,\n",
    "    no_zband = True  ):\n",
    "    \n",
    "    magtag = [ m+'_'+f+suffix for m in mag for f in filter ]\n",
    "    errtag = [ e+'_'+f for e in err for f in filter ]\n",
    "    del magtag[0], errtag[0]\n",
    "    if 'Z' in filter: del magtag[2], errtag[2]\n",
    "    #print(magtag)\n",
    "\n",
    "    X = [ data[mt] for mt in magtag ]\n",
    "    Xerr = [ data[mt] for mt in errtag ]\n",
    "    #reddeningtag = 'XCORR_SFD98'\n",
    "\n",
    "    X = np.vstack(X).T\n",
    "    Xerr = np.vstack(Xerr).T\n",
    "    # mixing matrix\n",
    "    W = np.array([\n",
    "                  [1, 0, 0, 0, 0, 0],    # r mag\n",
    "                  [0, 1, 0, 0, 0, 0],    # i mag\n",
    "                  [0, 0, 1, -1, 0, 0],   # g-r\n",
    "                  [0, 0, 0, 1, -1, 0],   # r-i\n",
    "                  [0, 0, 0, 0, 1, -1]])  # i-z\n",
    "\n",
    "    if 'Z' not in filter: W = W[:-1,:-1]\n",
    "    X = np.dot(X, W.T)\n",
    "\n",
    "    Xcov = np.zeros(Xerr.shape + Xerr.shape[-1:])\n",
    "    Xcov[:, list(range(Xerr.shape[1])), list(range(Xerr.shape[1]))] = Xerr**2\n",
    "    Xcov = np.tensordot(np.dot(Xcov, W.T), W, (-2, -1))\n",
    "    return X, Xcov\n"
   ]
  },
  {
   "cell_type": "code",
   "execution_count": 40,
   "id": "8257d224-b25e-4455-b716-694b9bc78b77",
   "metadata": {},
   "outputs": [
    {
     "data": {
      "image/png": "[encoded data removed]",
      "text/plain": [
       "<Figure size 1152x288 with 4 Axes>"
      ]
     },
     "metadata": {
      "needs_background": "light"
     },
     "output_type": "display_data"
    }
   ],
   "source": [
    "weights = dmass_spt['CMASS_PROB'] * dmass_spt['SYS_WEIGHT']\n",
    "X_dmass,_ = mixing_color(dmass_spt)\n",
    "\n",
    "# Comparison. train vs. randoms from the fitted gaussian mixture model\n",
    "doVisualization_1d( data=[X_cmass_true, X_dmass], \n",
    "                   labels = [r'${R_{\\rm DET}}$', r'${I_{\\rm DET}}$', r'$G_{\\rm DET}-R_{\\rm DET}$', r'$R_{\\rm DET}-I_{\\rm DET}$'], \n",
    "                   ranges = [(17,22),(17,22),(0,3),(0.0,1.6)], \n",
    "                   name = ['train sample', 'DMASS'], \n",
    "                   weight = [None,weights], \n",
    "                   color = ['black','tab:blue'],\n",
    "                   nbins=100, filename = 'DET_cmass.pdf')"
   ]
  },
  {
   "cell_type": "code",
   "execution_count": 26,
   "id": "9890d918-ef66-4282-b1a2-2a1b186eb34c",
   "metadata": {},
   "outputs": [
    {
     "ename": "NameError",
     "evalue": "name 'axes' is not defined",
     "output_type": "error",
     "traceback": [
      "\u001b[0;31m---------------------------------------------------------------------------\u001b[0m",
      "\u001b[0;31mNameError\u001b[0m                                 Traceback (most recent call last)",
      "\u001b[0;32m<ipython-input-26-e623ea9f8c34>\u001b[0m in \u001b[0;36m<module>\u001b[0;34m\u001b[0m\n\u001b[1;32m      7\u001b[0m \u001b[0mcolor\u001b[0m \u001b[0;34m=\u001b[0m \u001b[0;34m[\u001b[0m\u001b[0;34m'black'\u001b[0m\u001b[0;34m,\u001b[0m\u001b[0;34m'blue'\u001b[0m\u001b[0;34m]\u001b[0m\u001b[0;34m\u001b[0m\u001b[0m\n\u001b[1;32m      8\u001b[0m \u001b[0;34m\u001b[0m\u001b[0m\n\u001b[0;32m----> 9\u001b[0;31m \u001b[0maxes\u001b[0m\u001b[0;34m[\u001b[0m\u001b[0mi\u001b[0m\u001b[0;34m]\u001b[0m\u001b[0;34m.\u001b[0m\u001b[0mhist\u001b[0m\u001b[0;34m(\u001b[0m\u001b[0mdata\u001b[0m\u001b[0;34m[\u001b[0m\u001b[0mj\u001b[0m\u001b[0;34m]\u001b[0m\u001b[0;34m[\u001b[0m\u001b[0;34m:\u001b[0m\u001b[0;34m,\u001b[0m\u001b[0mi\u001b[0m\u001b[0;34m]\u001b[0m\u001b[0;34m,\u001b[0m\u001b[0mbins\u001b[0m\u001b[0;34m=\u001b[0m\u001b[0mxbins\u001b[0m\u001b[0;34m,\u001b[0m \u001b[0mlabel\u001b[0m\u001b[0;34m=\u001b[0m\u001b[0mname\u001b[0m\u001b[0;34m[\u001b[0m\u001b[0mj\u001b[0m\u001b[0;34m]\u001b[0m\u001b[0;34m,\u001b[0m \u001b[0mweights\u001b[0m\u001b[0;34m=\u001b[0m\u001b[0mweight\u001b[0m\u001b[0;34m[\u001b[0m\u001b[0mj\u001b[0m\u001b[0;34m]\u001b[0m\u001b[0;34m,\u001b[0m \u001b[0malpha\u001b[0m \u001b[0;34m=\u001b[0m \u001b[0;36m0.5\u001b[0m\u001b[0;34m,\u001b[0m \u001b[0mcolor\u001b[0m \u001b[0;34m=\u001b[0m\u001b[0mcolor\u001b[0m\u001b[0;34m[\u001b[0m\u001b[0mj\u001b[0m\u001b[0;34m]\u001b[0m\u001b[0;34m,\u001b[0m \u001b[0mdensity\u001b[0m\u001b[0;34m=\u001b[0m\u001b[0;32mTrue\u001b[0m\u001b[0;34m)\u001b[0m\u001b[0;34m\u001b[0m\u001b[0m\n\u001b[0m\u001b[1;32m     10\u001b[0m \u001b[0;34m\u001b[0m\u001b[0m\n\u001b[1;32m     11\u001b[0m \u001b[0;32mif\u001b[0m \u001b[0mj\u001b[0m \u001b[0;34m==\u001b[0m \u001b[0;36m0\u001b[0m\u001b[0;34m:\u001b[0m\u001b[0;34m\u001b[0m\u001b[0m\n",
      "\u001b[0;31mNameError\u001b[0m: name 'axes' is not defined"
     ]
    }
   ],
   "source": [
    "dmass_spt = fitsio.read('../output/test/train_cat/y3/dmass_sys_weight_val_FULL_lin.fits')\n",
    "\n",
    "weight = dmass_spt['CMASS_PROB'] * dmass_spt['SYS_WEIGHT']\n",
    "name = [r'${R_{\\rm DET}}$', r'${I_{\\rm DET}}$', r'$G_{\\rm DET}-R_{\\rm DET}$', r'$R_{\\rm DET}-I_{\\rm DET}$']\n",
    "xbins = 100\n",
    "data = [X_cmass_true, X_sample_dmass]\n",
    "color = ['black','blue']\n",
    "\n",
    "#axes[i].hist(data[j][:,i],bins=xbins, label=name[j], weights=weight[j], alpha = 0.5, color =color[j], density=True)\n",
    "\n",
    "if j == 0:\n",
    "    axes[i].hist(data[j][:,i],bins=xbins, label=name[j], weights=weight[j], alpha = 0.5, color =color[j], density=True, histtype='step')\n",
    "else:\n",
    "    axes[i].hist(data[j][:,i],bins=xbins, label=name[j], weights=weight[j], alpha = 0.5, color =color[j], density=True)"
   ]
  },
  {
   "cell_type": "code",
   "execution_count": 17,
   "id": "4891508a-a9e9-491f-858d-ecffa41ccb4c",
   "metadata": {},
   "outputs": [],
   "source": [
    "def hist_plot( true, data1, labels = None, ranges = None, name = None, weight = [None,None], nbins=100, prefix= 'default', outdir='./'):\n",
    "\n",
    "\n",
    "    if labels == None:\n",
    "        print(\" always label your axes! you must populate the 'labels' keyword with one entry for each dimension of the data.\")\n",
    "        stop\n",
    "    else:\n",
    "        ndim = len(labels)\n",
    "\n",
    "    if ranges == None:\n",
    "        # try to figure out the correct axis ranges.\n",
    "        print(\"Using central 98% to set range.\")\n",
    "        ranges = []\n",
    "        for i in range(ndim):\n",
    "            ranges.append( np.percentile(real_data[:,i],[1.,99.]) )\n",
    "\n",
    "    fig,axes = plt.subplots(nrows=1, ncols= ndim, figsize= (4*ndim, 4) )\n",
    "\n",
    "    #print weight[0], weight[1].size, data1[:,0].size\n",
    "    for i in range(ndim):\n",
    "        xbins = np.linspace(ranges[i][0],ranges[i][1], nbins)\n",
    "        axes[i].hist(true[:,i],bins=xbins,normed=True, label=name[0], weights=weight[0], alpha = 0.5, color ='grey')\n",
    "        Nhist, _, _=axes[i].hist(data1[:,i],bins=xbins,normed=True,alpha=1.0,label=name[1], weights=weight[1], histtype='step', color='k', lw=1)\n",
    "        axes[i].set_xlabel(labels[i], fontsize = 20)\n",
    "        #axes[i].hist(data2[:,i],bins=xbins,normed=True,alpha=0.5,label='data2')\n",
    "        if i == 0 :\n",
    "            axes[i].set_yticks([0, Nhist.max()])\n",
    "            axes[i].set_yticklabels(['$0$', '$1$'])\n",
    "            axes[i].set_ylabel(r'$n_{\\rm gal}$', fontsize=20)\n",
    "        axes[i].get_yaxis().set_visible(False)\n",
    "        axes[i].tick_params(labelsize=15)\n",
    "        axes[i].legend(loc='best',fontsize = 15)\n",
    "\n",
    "    axes[0].get_yaxis().set_visible(True)\n",
    "    \n",
    "    \n",
    "    \n",
    "    filename = outdir+\"/\"+prefix+\"diagnostic_histograms_1d.pdf\"\n",
    "    print(\"writing output plot to: \"+filename)\n",
    "    fig.tight_layout()\n",
    "    fig.subplots_adjust(wspace=0.05, hspace=0.5);\n",
    "    fig.savefig(filename)\n",
    "    #plt.close(fig)"
   ]
  },
  {
   "cell_type": "code",
   "execution_count": 25,
   "id": "631cb7cd-7a07-43c3-a76e-160e95036dfb",
   "metadata": {},
   "outputs": [
    {
     "name": "stderr",
     "output_type": "stream",
     "text": [
      "/users/PCON0003/warner785/.conda/envs/DES_env/lib/python3.7/site-packages/numpy/core/_asarray.py:83: VisibleDeprecationWarning: Creating an ndarray from ragged nested sequences (which is a list-or-tuple of lists-or-tuples-or ndarrays with different lengths or shapes) is deprecated. If you meant to do this, you must specify 'dtype=object' when creating the ndarray\n",
      "  return array(a, dtype, copy=False, order=order)\n"
     ]
    },
    {
     "ename": "ValueError",
     "evalue": "weights should have the same shape as x",
     "output_type": "error",
     "traceback": [
      "\u001b[0;31m---------------------------------------------------------------------------\u001b[0m",
      "\u001b[0;31mValueError\u001b[0m                                Traceback (most recent call last)",
      "\u001b[0;32m<ipython-input-25-91aa8aa1be66>\u001b[0m in \u001b[0;36m<module>\u001b[0;34m\u001b[0m\n\u001b[1;32m      9\u001b[0m plt.hist( X_cmass_true, X_sample_dmass, labels = labels, range = ranges,\\\n\u001b[1;32m     10\u001b[0m                          \u001b[0mname\u001b[0m \u001b[0;34m=\u001b[0m\u001b[0;34m[\u001b[0m\u001b[0;34mr'{\\rm train}'\u001b[0m\u001b[0;34m,\u001b[0m\u001b[0;34mr'{\\rm DMASS}'\u001b[0m \u001b[0;34m]\u001b[0m\u001b[0;34m,\u001b[0m\u001b[0;31m \u001b[0m\u001b[0;31m\\\u001b[0m\u001b[0;34m\u001b[0m\u001b[0m\n\u001b[0;32m---> 11\u001b[0;31m                    weights=[None, weight], histtype = 'step')\n\u001b[0m",
      "\u001b[0;32m~/.conda/envs/DES_env/lib/python3.7/site-packages/matplotlib/pyplot.py\u001b[0m in \u001b[0;36mhist\u001b[0;34m(x, bins, range, density, weights, cumulative, bottom, histtype, align, orientation, rwidth, log, color, label, stacked, data, **kwargs)\u001b[0m\n\u001b[1;32m   2608\u001b[0m         \u001b[0malign\u001b[0m\u001b[0;34m=\u001b[0m\u001b[0malign\u001b[0m\u001b[0;34m,\u001b[0m \u001b[0morientation\u001b[0m\u001b[0;34m=\u001b[0m\u001b[0morientation\u001b[0m\u001b[0;34m,\u001b[0m \u001b[0mrwidth\u001b[0m\u001b[0;34m=\u001b[0m\u001b[0mrwidth\u001b[0m\u001b[0;34m,\u001b[0m \u001b[0mlog\u001b[0m\u001b[0;34m=\u001b[0m\u001b[0mlog\u001b[0m\u001b[0;34m,\u001b[0m\u001b[0;34m\u001b[0m\u001b[0m\n\u001b[1;32m   2609\u001b[0m         color=color, label=label, stacked=stacked, **({\"data\": data}\n\u001b[0;32m-> 2610\u001b[0;31m         if data is not None else {}), **kwargs)\n\u001b[0m\u001b[1;32m   2611\u001b[0m \u001b[0;34m\u001b[0m\u001b[0m\n\u001b[1;32m   2612\u001b[0m \u001b[0;34m\u001b[0m\u001b[0m\n",
      "\u001b[0;32m~/.conda/envs/DES_env/lib/python3.7/site-packages/matplotlib/__init__.py\u001b[0m in \u001b[0;36minner\u001b[0;34m(ax, data, *args, **kwargs)\u001b[0m\n\u001b[1;32m   1563\u001b[0m     \u001b[0;32mdef\u001b[0m \u001b[0minner\u001b[0m\u001b[0;34m(\u001b[0m\u001b[0max\u001b[0m\u001b[0;34m,\u001b[0m \u001b[0;34m*\u001b[0m\u001b[0margs\u001b[0m\u001b[0;34m,\u001b[0m \u001b[0mdata\u001b[0m\u001b[0;34m=\u001b[0m\u001b[0;32mNone\u001b[0m\u001b[0;34m,\u001b[0m \u001b[0;34m**\u001b[0m\u001b[0mkwargs\u001b[0m\u001b[0;34m)\u001b[0m\u001b[0;34m:\u001b[0m\u001b[0;34m\u001b[0m\u001b[0m\n\u001b[1;32m   1564\u001b[0m         \u001b[0;32mif\u001b[0m \u001b[0mdata\u001b[0m \u001b[0;32mis\u001b[0m \u001b[0;32mNone\u001b[0m\u001b[0;34m:\u001b[0m\u001b[0;34m\u001b[0m\u001b[0m\n\u001b[0;32m-> 1565\u001b[0;31m             \u001b[0;32mreturn\u001b[0m \u001b[0mfunc\u001b[0m\u001b[0;34m(\u001b[0m\u001b[0max\u001b[0m\u001b[0;34m,\u001b[0m \u001b[0;34m*\u001b[0m\u001b[0mmap\u001b[0m\u001b[0;34m(\u001b[0m\u001b[0msanitize_sequence\u001b[0m\u001b[0;34m,\u001b[0m \u001b[0margs\u001b[0m\u001b[0;34m)\u001b[0m\u001b[0;34m,\u001b[0m \u001b[0;34m**\u001b[0m\u001b[0mkwargs\u001b[0m\u001b[0;34m)\u001b[0m\u001b[0;34m\u001b[0m\u001b[0m\n\u001b[0m\u001b[1;32m   1566\u001b[0m \u001b[0;34m\u001b[0m\u001b[0m\n\u001b[1;32m   1567\u001b[0m         \u001b[0mbound\u001b[0m \u001b[0;34m=\u001b[0m \u001b[0mnew_sig\u001b[0m\u001b[0;34m.\u001b[0m\u001b[0mbind\u001b[0m\u001b[0;34m(\u001b[0m\u001b[0max\u001b[0m\u001b[0;34m,\u001b[0m \u001b[0;34m*\u001b[0m\u001b[0margs\u001b[0m\u001b[0;34m,\u001b[0m \u001b[0;34m**\u001b[0m\u001b[0mkwargs\u001b[0m\u001b[0;34m)\u001b[0m\u001b[0;34m\u001b[0m\u001b[0m\n",
      "\u001b[0;32m~/.conda/envs/DES_env/lib/python3.7/site-packages/matplotlib/axes/_axes.py\u001b[0m in \u001b[0;36mhist\u001b[0;34m(self, x, bins, range, density, weights, cumulative, bottom, histtype, align, orientation, rwidth, log, color, label, stacked, **kwargs)\u001b[0m\n\u001b[1;32m   6599\u001b[0m \u001b[0;34m\u001b[0m\u001b[0m\n\u001b[1;32m   6600\u001b[0m         \u001b[0;32mif\u001b[0m \u001b[0mlen\u001b[0m\u001b[0;34m(\u001b[0m\u001b[0mw\u001b[0m\u001b[0;34m)\u001b[0m \u001b[0;34m!=\u001b[0m \u001b[0mnx\u001b[0m\u001b[0;34m:\u001b[0m\u001b[0;34m\u001b[0m\u001b[0m\n\u001b[0;32m-> 6601\u001b[0;31m             \u001b[0;32mraise\u001b[0m \u001b[0mValueError\u001b[0m\u001b[0;34m(\u001b[0m\u001b[0;34m'weights should have the same shape as x'\u001b[0m\u001b[0;34m)\u001b[0m\u001b[0;34m\u001b[0m\u001b[0m\n\u001b[0m\u001b[1;32m   6602\u001b[0m \u001b[0;34m\u001b[0m\u001b[0m\n\u001b[1;32m   6603\u001b[0m         \u001b[0;32mfor\u001b[0m \u001b[0mxi\u001b[0m\u001b[0;34m,\u001b[0m \u001b[0mwi\u001b[0m \u001b[0;32min\u001b[0m \u001b[0mzip\u001b[0m\u001b[0;34m(\u001b[0m\u001b[0mx\u001b[0m\u001b[0;34m,\u001b[0m \u001b[0mw\u001b[0m\u001b[0;34m)\u001b[0m\u001b[0;34m:\u001b[0m\u001b[0;34m\u001b[0m\u001b[0m\n",
      "\u001b[0;31mValueError\u001b[0m: weights should have the same shape as x"
     ]
    },
    {
     "data": {
      "image/png": "[encoded data removed]",
      "text/plain": [
       "<Figure size 432x288 with 1 Axes>"
      ]
     },
     "metadata": {
      "needs_background": "light"
     },
     "output_type": "display_data"
    }
   ],
   "source": [
    "dmass_spt = fitsio.read('../output/test/train_cat/y3/dmass_sys_weight_val_FULL_lin.fits')\n",
    "X_dmass,_ = mixing_color(dmass_spt)\n",
    "\n",
    "weight = dmass_spt['CMASS_PROB'] * dmass_spt['SYS_WEIGHT'] \n",
    "ranges = [(17,22),(17,22),(0,3),(0.0,1.6)]\n",
    "\n",
    "# Plotting all\n",
    "labels = [r'${R_{\\rm DET}}$', r'${I_{\\rm DET}}$', r'$G_{\\rm DET}-R_{\\rm DET}$', r'$R_{\\rm DET}-I_{\\rm DET}$']\n",
    "ranges =  [[17,22], [16,21], [-.5,2], [-.5,1.5]]\n",
    "plt.hist( X_cmass_true, X_sample_dmass, labels = labels, range = ranges,\\\n",
    "                         name =[r'{\\rm train}',r'{\\rm DMASS}' ], \\\n",
    "                   weights=[None, weight], histtype = 'step')"
   ]
  },
  {
   "cell_type": "code",
   "execution_count": null,
   "id": "3b787c94-0637-4f16-882e-91ac5613efc1",
   "metadata": {},
   "outputs": [],
   "source": []
  },
  {
   "cell_type": "code",
   "execution_count": 19,
   "id": "4977f6a6-c078-483c-89d8-8723de841108",
   "metadata": {},
   "outputs": [
    {
     "data": {
      "text/plain": [
       "\u001b[0;31mSignature:\u001b[0m\n",
       "\u001b[0mplt\u001b[0m\u001b[0;34m.\u001b[0m\u001b[0mhist\u001b[0m\u001b[0;34m(\u001b[0m\u001b[0;34m\u001b[0m\n",
       "\u001b[0;34m\u001b[0m    \u001b[0mx\u001b[0m\u001b[0;34m,\u001b[0m\u001b[0;34m\u001b[0m\n",
       "\u001b[0;34m\u001b[0m    \u001b[0mbins\u001b[0m\u001b[0;34m=\u001b[0m\u001b[0;32mNone\u001b[0m\u001b[0;34m,\u001b[0m\u001b[0;34m\u001b[0m\n",
       "\u001b[0;34m\u001b[0m    \u001b[0mrange\u001b[0m\u001b[0;34m=\u001b[0m\u001b[0;32mNone\u001b[0m\u001b[0;34m,\u001b[0m\u001b[0;34m\u001b[0m\n",
       "\u001b[0;34m\u001b[0m    \u001b[0mdensity\u001b[0m\u001b[0;34m=\u001b[0m\u001b[0;32mFalse\u001b[0m\u001b[0;34m,\u001b[0m\u001b[0;34m\u001b[0m\n",
       "\u001b[0;34m\u001b[0m    \u001b[0mweights\u001b[0m\u001b[0;34m=\u001b[0m\u001b[0;32mNone\u001b[0m\u001b[0;34m,\u001b[0m\u001b[0;34m\u001b[0m\n",
       "\u001b[0;34m\u001b[0m    \u001b[0mcumulative\u001b[0m\u001b[0;34m=\u001b[0m\u001b[0;32mFalse\u001b[0m\u001b[0;34m,\u001b[0m\u001b[0;34m\u001b[0m\n",
       "\u001b[0;34m\u001b[0m    \u001b[0mbottom\u001b[0m\u001b[0;34m=\u001b[0m\u001b[0;32mNone\u001b[0m\u001b[0;34m,\u001b[0m\u001b[0;34m\u001b[0m\n",
       "\u001b[0;34m\u001b[0m    \u001b[0mhisttype\u001b[0m\u001b[0;34m=\u001b[0m\u001b[0;34m'bar'\u001b[0m\u001b[0;34m,\u001b[0m\u001b[0;34m\u001b[0m\n",
       "\u001b[0;34m\u001b[0m    \u001b[0malign\u001b[0m\u001b[0;34m=\u001b[0m\u001b[0;34m'mid'\u001b[0m\u001b[0;34m,\u001b[0m\u001b[0;34m\u001b[0m\n",
       "\u001b[0;34m\u001b[0m    \u001b[0morientation\u001b[0m\u001b[0;34m=\u001b[0m\u001b[0;34m'vertical'\u001b[0m\u001b[0;34m,\u001b[0m\u001b[0;34m\u001b[0m\n",
       "\u001b[0;34m\u001b[0m    \u001b[0mrwidth\u001b[0m\u001b[0;34m=\u001b[0m\u001b[0;32mNone\u001b[0m\u001b[0;34m,\u001b[0m\u001b[0;34m\u001b[0m\n",
       "\u001b[0;34m\u001b[0m    \u001b[0mlog\u001b[0m\u001b[0;34m=\u001b[0m\u001b[0;32mFalse\u001b[0m\u001b[0;34m,\u001b[0m\u001b[0;34m\u001b[0m\n",
       "\u001b[0;34m\u001b[0m    \u001b[0mcolor\u001b[0m\u001b[0;34m=\u001b[0m\u001b[0;32mNone\u001b[0m\u001b[0;34m,\u001b[0m\u001b[0;34m\u001b[0m\n",
       "\u001b[0;34m\u001b[0m    \u001b[0mlabel\u001b[0m\u001b[0;34m=\u001b[0m\u001b[0;32mNone\u001b[0m\u001b[0;34m,\u001b[0m\u001b[0;34m\u001b[0m\n",
       "\u001b[0;34m\u001b[0m    \u001b[0mstacked\u001b[0m\u001b[0;34m=\u001b[0m\u001b[0;32mFalse\u001b[0m\u001b[0;34m,\u001b[0m\u001b[0;34m\u001b[0m\n",
       "\u001b[0;34m\u001b[0m    \u001b[0;34m*\u001b[0m\u001b[0;34m,\u001b[0m\u001b[0;34m\u001b[0m\n",
       "\u001b[0;34m\u001b[0m    \u001b[0mdata\u001b[0m\u001b[0;34m=\u001b[0m\u001b[0;32mNone\u001b[0m\u001b[0;34m,\u001b[0m\u001b[0;34m\u001b[0m\n",
       "\u001b[0;34m\u001b[0m    \u001b[0;34m**\u001b[0m\u001b[0mkwargs\u001b[0m\u001b[0;34m,\u001b[0m\u001b[0;34m\u001b[0m\n",
       "\u001b[0;34m\u001b[0m\u001b[0;34m)\u001b[0m\u001b[0;34m\u001b[0m\u001b[0m\n",
       "\u001b[0;31mDocstring:\u001b[0m\n",
       "Plot a histogram.\n",
       "\n",
       "Compute and draw the histogram of *x*.  The return value is a tuple\n",
       "(*n*, *bins*, *patches*) or ([*n0*, *n1*, ...], *bins*, [*patches0*,\n",
       "*patches1*,...]) if the input contains multiple data.  See the\n",
       "documentation of the *weights* parameter to draw a histogram of\n",
       "already-binned data.\n",
       "\n",
       "Multiple data can be provided via *x* as a list of datasets\n",
       "of potentially different length ([*x0*, *x1*, ...]), or as\n",
       "a 2-D ndarray in which each column is a dataset.  Note that\n",
       "the ndarray form is transposed relative to the list form.\n",
       "\n",
       "Masked arrays are not supported.\n",
       "\n",
       "The *bins*, *range*, *weights*, and *density* parameters behave as in\n",
       "`numpy.histogram`.\n",
       "\n",
       "Parameters\n",
       "----------\n",
       "x : (n,) array or sequence of (n,) arrays\n",
       "    Input values, this takes either a single array or a sequence of\n",
       "    arrays which are not required to be of the same length.\n",
       "\n",
       "bins : int or sequence or str, optional\n",
       "    If *bins* is an integer, it defines the number of equal-width bins\n",
       "    in the range.\n",
       "\n",
       "    If *bins* is a sequence, it defines the bin edges, including the\n",
       "    left edge of the first bin and the right edge of the last bin;\n",
       "    in this case, bins may be unequally spaced.  All but the last\n",
       "    (righthand-most) bin is half-open.  In other words, if *bins* is::\n",
       "\n",
       "        [1, 2, 3, 4]\n",
       "\n",
       "    then the first bin is ``[1, 2)`` (including 1, but excluding 2) and\n",
       "    the second ``[2, 3)``.  The last bin, however, is ``[3, 4]``, which\n",
       "    *includes* 4.\n",
       "\n",
       "    If *bins* is a string, it is one of the binning strategies\n",
       "    supported by `numpy.histogram_bin_edges`: 'auto', 'fd', 'doane',\n",
       "    'scott', 'stone', 'rice', 'sturges', or 'sqrt'.\n",
       "\n",
       "    The default is :rc:`hist.bins`.\n",
       "\n",
       "range : tuple or None, optional\n",
       "    The lower and upper range of the bins. Lower and upper outliers\n",
       "    are ignored. If not provided, *range* is ``(x.min(), x.max())``.\n",
       "    Range has no effect if *bins* is a sequence.\n",
       "\n",
       "    If *bins* is a sequence or *range* is specified, autoscaling\n",
       "    is based on the specified bin range instead of the\n",
       "    range of x.\n",
       "\n",
       "    Default is ``None``\n",
       "\n",
       "density : bool, optional\n",
       "    If ``True``, the first element of the return tuple will\n",
       "    be the counts normalized to form a probability density, i.e.,\n",
       "    the area (or integral) under the histogram will sum to 1.\n",
       "    This is achieved by dividing the count by the number of\n",
       "    observations times the bin width and not dividing by the total\n",
       "    number of observations. If *stacked* is also ``True``, the sum of\n",
       "    the histograms is normalized to 1.\n",
       "\n",
       "    Default is ``False``.\n",
       "\n",
       "weights : (n, ) array-like or None, optional\n",
       "    An array of weights, of the same shape as *x*.  Each value in *x*\n",
       "    only contributes its associated weight towards the bin count\n",
       "    (instead of 1).  If *normed* or *density* is ``True``,\n",
       "    the weights are normalized, so that the integral of the density\n",
       "    over the range remains 1.\n",
       "\n",
       "    Default is ``None``.\n",
       "\n",
       "    This parameter can be used to draw a histogram of data that has\n",
       "    already been binned, e.g. using `np.histogram` (by treating each\n",
       "    bin as a single point with a weight equal to its count) ::\n",
       "\n",
       "        counts, bins = np.histogram(data)\n",
       "        plt.hist(bins[:-1], bins, weights=counts)\n",
       "\n",
       "    (or you may alternatively use `~.bar()`).\n",
       "\n",
       "cumulative : bool or -1, optional\n",
       "    If ``True``, then a histogram is computed where each bin gives the\n",
       "    counts in that bin plus all bins for smaller values. The last bin\n",
       "    gives the total number of datapoints.\n",
       "\n",
       "    If *density* is also ``True`` then the histogram is normalized such\n",
       "    that the last bin equals 1.\n",
       "\n",
       "    If *cumulative* is a number less than 0 (e.g., -1), the direction\n",
       "    of accumulation is reversed.  In this case, if *density* is also\n",
       "    ``True``, then the histogram is normalized such that the first bin\n",
       "    equals 1.\n",
       "\n",
       "bottom : array-like, scalar, or None, default: None\n",
       "    Location of the bottom of each bin, ie. bins are drawn from\n",
       "    ``bottom`` to ``bottom + hist(x, bins)`` If a scalar, the bottom\n",
       "    of each bin is shifted by the same amount. If an array, each bin\n",
       "    is shifted independently and the length of bottom must match the\n",
       "    number of bins. If None, defaults to 0.\n",
       "\n",
       "histtype : {'bar', 'barstacked', 'step',  'stepfilled'}, optional\n",
       "    The type of histogram to draw.\n",
       "\n",
       "    - 'bar' is a traditional bar-type histogram.  If multiple data\n",
       "      are given the bars are arranged side by side.\n",
       "    - 'barstacked' is a bar-type histogram where multiple\n",
       "      data are stacked on top of each other.\n",
       "    - 'step' generates a lineplot that is by default unfilled.\n",
       "    - 'stepfilled' generates a lineplot that is by default filled.\n",
       "\n",
       "    Default is 'bar'\n",
       "\n",
       "align : {'left', 'mid', 'right'}, optional\n",
       "    Controls how the histogram is plotted.\n",
       "\n",
       "    - 'left': bars are centered on the left bin edges.\n",
       "    - 'mid': bars are centered between the bin edges.\n",
       "    - 'right': bars are centered on the right bin edges.\n",
       "\n",
       "    Default is 'mid'\n",
       "\n",
       "orientation : {'horizontal', 'vertical'}, optional\n",
       "    If 'horizontal', `~matplotlib.pyplot.barh` will be used for\n",
       "    bar-type histograms and the *bottom* kwarg will be the left edges.\n",
       "\n",
       "rwidth : scalar or None, optional\n",
       "    The relative width of the bars as a fraction of the bin width.  If\n",
       "    ``None``, automatically compute the width.\n",
       "\n",
       "    Ignored if *histtype* is 'step' or 'stepfilled'.\n",
       "\n",
       "    Default is ``None``\n",
       "\n",
       "log : bool, optional\n",
       "    If ``True``, the histogram axis will be set to a log scale. If\n",
       "    *log* is ``True`` and *x* is a 1D array, empty bins will be\n",
       "    filtered out and only the non-empty ``(n, bins, patches)``\n",
       "    will be returned.\n",
       "\n",
       "    Default is ``False``\n",
       "\n",
       "color : color or array-like of colors or None, optional\n",
       "    Color or sequence of colors, one per dataset.  Default (``None``)\n",
       "    uses the standard line color sequence.\n",
       "\n",
       "    Default is ``None``\n",
       "\n",
       "label : str or None, optional\n",
       "    String, or sequence of strings to match multiple datasets.  Bar\n",
       "    charts yield multiple patches per dataset, but only the first gets\n",
       "    the label, so that the legend command will work as expected.\n",
       "\n",
       "    default is ``None``\n",
       "\n",
       "stacked : bool, optional\n",
       "    If ``True``, multiple data are stacked on top of each other If\n",
       "    ``False`` multiple data are arranged side by side if histtype is\n",
       "    'bar' or on top of each other if histtype is 'step'\n",
       "\n",
       "    Default is ``False``\n",
       "\n",
       "Returns\n",
       "-------\n",
       "n : array or list of arrays\n",
       "    The values of the histogram bins. See *density* and *weights* for a\n",
       "    description of the possible semantics.  If input *x* is an array,\n",
       "    then this is an array of length *nbins*. If input is a sequence of\n",
       "    arrays ``[data1, data2, ...]``, then this is a list of arrays with\n",
       "    the values of the histograms for each of the arrays in the same\n",
       "    order.  The dtype of the array *n* (or of its element arrays) will\n",
       "    always be float even if no weighting or normalization is used.\n",
       "\n",
       "bins : array\n",
       "    The edges of the bins. Length nbins + 1 (nbins left edges and right\n",
       "    edge of last bin).  Always a single array even when multiple data\n",
       "    sets are passed in.\n",
       "\n",
       "patches : list or list of lists\n",
       "    Silent list of individual patches used to create the histogram\n",
       "    or list of such list if multiple input datasets.\n",
       "\n",
       "Other Parameters\n",
       "----------------\n",
       "**kwargs : `~matplotlib.patches.Patch` properties\n",
       "\n",
       "See also\n",
       "--------\n",
       "hist2d : 2D histograms\n",
       "\n",
       "Notes\n",
       "-----\n",
       "\n",
       "\n",
       ".. note::\n",
       "    In addition to the above described arguments, this function can take a\n",
       "    **data** keyword argument. If such a **data** argument is given, the\n",
       "    following arguments are replaced by **data[<arg>]**:\n",
       "\n",
       "    * All arguments with the following names: 'weights', 'x'.\n",
       "\n",
       "    Objects passed as **data** must support item access (``data[<arg>]``) and\n",
       "    membership test (``<arg> in data``).\n",
       "\u001b[0;31mFile:\u001b[0m      ~/.conda/envs/DES_env/lib/python3.7/site-packages/matplotlib/pyplot.py\n",
       "\u001b[0;31mType:\u001b[0m      function\n"
      ]
     },
     "metadata": {},
     "output_type": "display_data"
    }
   ],
   "source": [
    "?plt.hist"
   ]
  },
  {
   "cell_type": "code",
   "execution_count": 18,
   "id": "9efae153-78f3-4aa4-a0e7-e2a41be51abc",
   "metadata": {},
   "outputs": [
    {
     "ename": "AttributeError",
     "evalue": "'Rectangle' object has no property 'normed'",
     "output_type": "error",
     "traceback": [
      "\u001b[0;31m---------------------------------------------------------------------------\u001b[0m",
      "\u001b[0;31mAttributeError\u001b[0m                            Traceback (most recent call last)",
      "\u001b[0;32m<ipython-input-18-dfbe028704b5>\u001b[0m in \u001b[0;36m<module>\u001b[0;34m\u001b[0m\n\u001b[1;32m     10\u001b[0m hist_plot( X_cmass_true, X_sample_dmass, labels = labels, ranges = ranges,\\\n\u001b[1;32m     11\u001b[0m                          \u001b[0mname\u001b[0m \u001b[0;34m=\u001b[0m\u001b[0;34m[\u001b[0m\u001b[0;34mr'{\\rm train}'\u001b[0m\u001b[0;34m,\u001b[0m\u001b[0;34mr'{\\rm DMASS}'\u001b[0m \u001b[0;34m]\u001b[0m\u001b[0;34m,\u001b[0m \u001b[0mnbins\u001b[0m\u001b[0;34m=\u001b[0m\u001b[0;36m70\u001b[0m\u001b[0;34m,\u001b[0m\u001b[0;31m \u001b[0m\u001b[0;31m\\\u001b[0m\u001b[0;34m\u001b[0m\u001b[0m\n\u001b[0;32m---> 12\u001b[0;31m                    weight=[None, weight], outdir = '../paper_figure/', prefix='validation_test')\n\u001b[0m",
      "\u001b[0;32m<ipython-input-17-3d6a8b8ad666>\u001b[0m in \u001b[0;36mhist_plot\u001b[0;34m(true, data1, labels, ranges, name, weight, nbins, prefix, outdir)\u001b[0m\n\u001b[1;32m     20\u001b[0m     \u001b[0;32mfor\u001b[0m \u001b[0mi\u001b[0m \u001b[0;32min\u001b[0m \u001b[0mrange\u001b[0m\u001b[0;34m(\u001b[0m\u001b[0mndim\u001b[0m\u001b[0;34m)\u001b[0m\u001b[0;34m:\u001b[0m\u001b[0;34m\u001b[0m\u001b[0m\n\u001b[1;32m     21\u001b[0m         \u001b[0mxbins\u001b[0m \u001b[0;34m=\u001b[0m \u001b[0mnp\u001b[0m\u001b[0;34m.\u001b[0m\u001b[0mlinspace\u001b[0m\u001b[0;34m(\u001b[0m\u001b[0mranges\u001b[0m\u001b[0;34m[\u001b[0m\u001b[0mi\u001b[0m\u001b[0;34m]\u001b[0m\u001b[0;34m[\u001b[0m\u001b[0;36m0\u001b[0m\u001b[0;34m]\u001b[0m\u001b[0;34m,\u001b[0m\u001b[0mranges\u001b[0m\u001b[0;34m[\u001b[0m\u001b[0mi\u001b[0m\u001b[0;34m]\u001b[0m\u001b[0;34m[\u001b[0m\u001b[0;36m1\u001b[0m\u001b[0;34m]\u001b[0m\u001b[0;34m,\u001b[0m \u001b[0mnbins\u001b[0m\u001b[0;34m)\u001b[0m\u001b[0;34m\u001b[0m\u001b[0m\n\u001b[0;32m---> 22\u001b[0;31m         \u001b[0maxes\u001b[0m\u001b[0;34m[\u001b[0m\u001b[0mi\u001b[0m\u001b[0;34m]\u001b[0m\u001b[0;34m.\u001b[0m\u001b[0mhist\u001b[0m\u001b[0;34m(\u001b[0m\u001b[0mtrue\u001b[0m\u001b[0;34m[\u001b[0m\u001b[0;34m:\u001b[0m\u001b[0;34m,\u001b[0m\u001b[0mi\u001b[0m\u001b[0;34m]\u001b[0m\u001b[0;34m,\u001b[0m\u001b[0mbins\u001b[0m\u001b[0;34m=\u001b[0m\u001b[0mxbins\u001b[0m\u001b[0;34m,\u001b[0m\u001b[0mnormed\u001b[0m\u001b[0;34m=\u001b[0m\u001b[0;32mTrue\u001b[0m\u001b[0;34m,\u001b[0m \u001b[0mlabel\u001b[0m\u001b[0;34m=\u001b[0m\u001b[0mname\u001b[0m\u001b[0;34m[\u001b[0m\u001b[0;36m0\u001b[0m\u001b[0;34m]\u001b[0m\u001b[0;34m,\u001b[0m \u001b[0mweights\u001b[0m\u001b[0;34m=\u001b[0m\u001b[0mweight\u001b[0m\u001b[0;34m[\u001b[0m\u001b[0;36m0\u001b[0m\u001b[0;34m]\u001b[0m\u001b[0;34m,\u001b[0m \u001b[0malpha\u001b[0m \u001b[0;34m=\u001b[0m \u001b[0;36m0.5\u001b[0m\u001b[0;34m,\u001b[0m \u001b[0mcolor\u001b[0m \u001b[0;34m=\u001b[0m\u001b[0;34m'grey'\u001b[0m\u001b[0;34m)\u001b[0m\u001b[0;34m\u001b[0m\u001b[0m\n\u001b[0m\u001b[1;32m     23\u001b[0m         \u001b[0mNhist\u001b[0m\u001b[0;34m,\u001b[0m \u001b[0m_\u001b[0m\u001b[0;34m,\u001b[0m \u001b[0m_\u001b[0m\u001b[0;34m=\u001b[0m\u001b[0maxes\u001b[0m\u001b[0;34m[\u001b[0m\u001b[0mi\u001b[0m\u001b[0;34m]\u001b[0m\u001b[0;34m.\u001b[0m\u001b[0mhist\u001b[0m\u001b[0;34m(\u001b[0m\u001b[0mdata1\u001b[0m\u001b[0;34m[\u001b[0m\u001b[0;34m:\u001b[0m\u001b[0;34m,\u001b[0m\u001b[0mi\u001b[0m\u001b[0;34m]\u001b[0m\u001b[0;34m,\u001b[0m\u001b[0mbins\u001b[0m\u001b[0;34m=\u001b[0m\u001b[0mxbins\u001b[0m\u001b[0;34m,\u001b[0m\u001b[0mnormed\u001b[0m\u001b[0;34m=\u001b[0m\u001b[0;32mTrue\u001b[0m\u001b[0;34m,\u001b[0m\u001b[0malpha\u001b[0m\u001b[0;34m=\u001b[0m\u001b[0;36m1.0\u001b[0m\u001b[0;34m,\u001b[0m\u001b[0mlabel\u001b[0m\u001b[0;34m=\u001b[0m\u001b[0mname\u001b[0m\u001b[0;34m[\u001b[0m\u001b[0;36m1\u001b[0m\u001b[0;34m]\u001b[0m\u001b[0;34m,\u001b[0m \u001b[0mweights\u001b[0m\u001b[0;34m=\u001b[0m\u001b[0mweight\u001b[0m\u001b[0;34m[\u001b[0m\u001b[0;36m1\u001b[0m\u001b[0;34m]\u001b[0m\u001b[0;34m,\u001b[0m \u001b[0mhisttype\u001b[0m\u001b[0;34m=\u001b[0m\u001b[0;34m'step'\u001b[0m\u001b[0;34m,\u001b[0m \u001b[0mcolor\u001b[0m\u001b[0;34m=\u001b[0m\u001b[0;34m'k'\u001b[0m\u001b[0;34m,\u001b[0m \u001b[0mlw\u001b[0m\u001b[0;34m=\u001b[0m\u001b[0;36m1\u001b[0m\u001b[0;34m)\u001b[0m\u001b[0;34m\u001b[0m\u001b[0m\n\u001b[1;32m     24\u001b[0m         \u001b[0maxes\u001b[0m\u001b[0;34m[\u001b[0m\u001b[0mi\u001b[0m\u001b[0;34m]\u001b[0m\u001b[0;34m.\u001b[0m\u001b[0mset_xlabel\u001b[0m\u001b[0;34m(\u001b[0m\u001b[0mlabels\u001b[0m\u001b[0;34m[\u001b[0m\u001b[0mi\u001b[0m\u001b[0;34m]\u001b[0m\u001b[0;34m,\u001b[0m \u001b[0mfontsize\u001b[0m \u001b[0;34m=\u001b[0m \u001b[0;36m20\u001b[0m\u001b[0;34m)\u001b[0m\u001b[0;34m\u001b[0m\u001b[0m\n",
      "\u001b[0;32m~/.conda/envs/DES_env/lib/python3.7/site-packages/matplotlib/__init__.py\u001b[0m in \u001b[0;36minner\u001b[0;34m(ax, data, *args, **kwargs)\u001b[0m\n\u001b[1;32m   1563\u001b[0m     \u001b[0;32mdef\u001b[0m \u001b[0minner\u001b[0m\u001b[0;34m(\u001b[0m\u001b[0max\u001b[0m\u001b[0;34m,\u001b[0m \u001b[0;34m*\u001b[0m\u001b[0margs\u001b[0m\u001b[0;34m,\u001b[0m \u001b[0mdata\u001b[0m\u001b[0;34m=\u001b[0m\u001b[0;32mNone\u001b[0m\u001b[0;34m,\u001b[0m \u001b[0;34m**\u001b[0m\u001b[0mkwargs\u001b[0m\u001b[0;34m)\u001b[0m\u001b[0;34m:\u001b[0m\u001b[0;34m\u001b[0m\u001b[0m\n\u001b[1;32m   1564\u001b[0m         \u001b[0;32mif\u001b[0m \u001b[0mdata\u001b[0m \u001b[0;32mis\u001b[0m \u001b[0;32mNone\u001b[0m\u001b[0;34m:\u001b[0m\u001b[0;34m\u001b[0m\u001b[0m\n\u001b[0;32m-> 1565\u001b[0;31m             \u001b[0;32mreturn\u001b[0m \u001b[0mfunc\u001b[0m\u001b[0;34m(\u001b[0m\u001b[0max\u001b[0m\u001b[0;34m,\u001b[0m \u001b[0;34m*\u001b[0m\u001b[0mmap\u001b[0m\u001b[0;34m(\u001b[0m\u001b[0msanitize_sequence\u001b[0m\u001b[0;34m,\u001b[0m \u001b[0margs\u001b[0m\u001b[0;34m)\u001b[0m\u001b[0;34m,\u001b[0m \u001b[0;34m**\u001b[0m\u001b[0mkwargs\u001b[0m\u001b[0;34m)\u001b[0m\u001b[0;34m\u001b[0m\u001b[0m\n\u001b[0m\u001b[1;32m   1566\u001b[0m \u001b[0;34m\u001b[0m\u001b[0m\n\u001b[1;32m   1567\u001b[0m         \u001b[0mbound\u001b[0m \u001b[0;34m=\u001b[0m \u001b[0mnew_sig\u001b[0m\u001b[0;34m.\u001b[0m\u001b[0mbind\u001b[0m\u001b[0;34m(\u001b[0m\u001b[0max\u001b[0m\u001b[0;34m,\u001b[0m \u001b[0;34m*\u001b[0m\u001b[0margs\u001b[0m\u001b[0;34m,\u001b[0m \u001b[0;34m**\u001b[0m\u001b[0mkwargs\u001b[0m\u001b[0;34m)\u001b[0m\u001b[0;34m\u001b[0m\u001b[0m\n",
      "\u001b[0;32m~/.conda/envs/DES_env/lib/python3.7/site-packages/matplotlib/axes/_axes.py\u001b[0m in \u001b[0;36mhist\u001b[0;34m(self, x, bins, range, density, weights, cumulative, bottom, histtype, align, orientation, rwidth, log, color, label, stacked, **kwargs)\u001b[0m\n\u001b[1;32m   6817\u001b[0m             \u001b[0;32mif\u001b[0m \u001b[0mpatch\u001b[0m\u001b[0;34m:\u001b[0m\u001b[0;34m\u001b[0m\u001b[0m\n\u001b[1;32m   6818\u001b[0m                 \u001b[0mp\u001b[0m \u001b[0;34m=\u001b[0m \u001b[0mpatch\u001b[0m\u001b[0;34m[\u001b[0m\u001b[0;36m0\u001b[0m\u001b[0;34m]\u001b[0m\u001b[0;34m\u001b[0m\u001b[0m\n\u001b[0;32m-> 6819\u001b[0;31m                 \u001b[0mp\u001b[0m\u001b[0;34m.\u001b[0m\u001b[0mupdate\u001b[0m\u001b[0;34m(\u001b[0m\u001b[0mkwargs\u001b[0m\u001b[0;34m)\u001b[0m\u001b[0;34m\u001b[0m\u001b[0m\n\u001b[0m\u001b[1;32m   6820\u001b[0m                 \u001b[0;32mif\u001b[0m \u001b[0mlbl\u001b[0m \u001b[0;32mis\u001b[0m \u001b[0;32mnot\u001b[0m \u001b[0;32mNone\u001b[0m\u001b[0;34m:\u001b[0m\u001b[0;34m\u001b[0m\u001b[0m\n\u001b[1;32m   6821\u001b[0m                     \u001b[0mp\u001b[0m\u001b[0;34m.\u001b[0m\u001b[0mset_label\u001b[0m\u001b[0;34m(\u001b[0m\u001b[0mlbl\u001b[0m\u001b[0;34m)\u001b[0m\u001b[0;34m\u001b[0m\u001b[0m\n",
      "\u001b[0;32m~/.conda/envs/DES_env/lib/python3.7/site-packages/matplotlib/artist.py\u001b[0m in \u001b[0;36mupdate\u001b[0;34m(self, props)\u001b[0m\n\u001b[1;32m   1004\u001b[0m \u001b[0;34m\u001b[0m\u001b[0m\n\u001b[1;32m   1005\u001b[0m         \u001b[0;32mwith\u001b[0m \u001b[0mcbook\u001b[0m\u001b[0;34m.\u001b[0m\u001b[0m_setattr_cm\u001b[0m\u001b[0;34m(\u001b[0m\u001b[0mself\u001b[0m\u001b[0;34m,\u001b[0m \u001b[0meventson\u001b[0m\u001b[0;34m=\u001b[0m\u001b[0;32mFalse\u001b[0m\u001b[0;34m)\u001b[0m\u001b[0;34m:\u001b[0m\u001b[0;34m\u001b[0m\u001b[0m\n\u001b[0;32m-> 1006\u001b[0;31m             \u001b[0mret\u001b[0m \u001b[0;34m=\u001b[0m \u001b[0;34m[\u001b[0m\u001b[0m_update_property\u001b[0m\u001b[0;34m(\u001b[0m\u001b[0mself\u001b[0m\u001b[0;34m,\u001b[0m \u001b[0mk\u001b[0m\u001b[0;34m,\u001b[0m \u001b[0mv\u001b[0m\u001b[0;34m)\u001b[0m \u001b[0;32mfor\u001b[0m \u001b[0mk\u001b[0m\u001b[0;34m,\u001b[0m \u001b[0mv\u001b[0m \u001b[0;32min\u001b[0m \u001b[0mprops\u001b[0m\u001b[0;34m.\u001b[0m\u001b[0mitems\u001b[0m\u001b[0;34m(\u001b[0m\u001b[0;34m)\u001b[0m\u001b[0;34m]\u001b[0m\u001b[0;34m\u001b[0m\u001b[0m\n\u001b[0m\u001b[1;32m   1007\u001b[0m \u001b[0;34m\u001b[0m\u001b[0m\n\u001b[1;32m   1008\u001b[0m         \u001b[0;32mif\u001b[0m \u001b[0mlen\u001b[0m\u001b[0;34m(\u001b[0m\u001b[0mret\u001b[0m\u001b[0;34m)\u001b[0m\u001b[0;34m:\u001b[0m\u001b[0;34m\u001b[0m\u001b[0m\n",
      "\u001b[0;32m~/.conda/envs/DES_env/lib/python3.7/site-packages/matplotlib/artist.py\u001b[0m in \u001b[0;36m<listcomp>\u001b[0;34m(.0)\u001b[0m\n\u001b[1;32m   1004\u001b[0m \u001b[0;34m\u001b[0m\u001b[0m\n\u001b[1;32m   1005\u001b[0m         \u001b[0;32mwith\u001b[0m \u001b[0mcbook\u001b[0m\u001b[0;34m.\u001b[0m\u001b[0m_setattr_cm\u001b[0m\u001b[0;34m(\u001b[0m\u001b[0mself\u001b[0m\u001b[0;34m,\u001b[0m \u001b[0meventson\u001b[0m\u001b[0;34m=\u001b[0m\u001b[0;32mFalse\u001b[0m\u001b[0;34m)\u001b[0m\u001b[0;34m:\u001b[0m\u001b[0;34m\u001b[0m\u001b[0m\n\u001b[0;32m-> 1006\u001b[0;31m             \u001b[0mret\u001b[0m \u001b[0;34m=\u001b[0m \u001b[0;34m[\u001b[0m\u001b[0m_update_property\u001b[0m\u001b[0;34m(\u001b[0m\u001b[0mself\u001b[0m\u001b[0;34m,\u001b[0m \u001b[0mk\u001b[0m\u001b[0;34m,\u001b[0m \u001b[0mv\u001b[0m\u001b[0;34m)\u001b[0m \u001b[0;32mfor\u001b[0m \u001b[0mk\u001b[0m\u001b[0;34m,\u001b[0m \u001b[0mv\u001b[0m \u001b[0;32min\u001b[0m \u001b[0mprops\u001b[0m\u001b[0;34m.\u001b[0m\u001b[0mitems\u001b[0m\u001b[0;34m(\u001b[0m\u001b[0;34m)\u001b[0m\u001b[0;34m]\u001b[0m\u001b[0;34m\u001b[0m\u001b[0m\n\u001b[0m\u001b[1;32m   1007\u001b[0m \u001b[0;34m\u001b[0m\u001b[0m\n\u001b[1;32m   1008\u001b[0m         \u001b[0;32mif\u001b[0m \u001b[0mlen\u001b[0m\u001b[0;34m(\u001b[0m\u001b[0mret\u001b[0m\u001b[0;34m)\u001b[0m\u001b[0;34m:\u001b[0m\u001b[0;34m\u001b[0m\u001b[0m\n",
      "\u001b[0;32m~/.conda/envs/DES_env/lib/python3.7/site-packages/matplotlib/artist.py\u001b[0m in \u001b[0;36m_update_property\u001b[0;34m(self, k, v)\u001b[0m\n\u001b[1;32m   1000\u001b[0m                 \u001b[0;32mif\u001b[0m \u001b[0;32mnot\u001b[0m \u001b[0mcallable\u001b[0m\u001b[0;34m(\u001b[0m\u001b[0mfunc\u001b[0m\u001b[0;34m)\u001b[0m\u001b[0;34m:\u001b[0m\u001b[0;34m\u001b[0m\u001b[0m\n\u001b[1;32m   1001\u001b[0m                     raise AttributeError('{!r} object has no property {!r}'\n\u001b[0;32m-> 1002\u001b[0;31m                                          .format(type(self).__name__, k))\n\u001b[0m\u001b[1;32m   1003\u001b[0m                 \u001b[0;32mreturn\u001b[0m \u001b[0mfunc\u001b[0m\u001b[0;34m(\u001b[0m\u001b[0mv\u001b[0m\u001b[0;34m)\u001b[0m\u001b[0;34m\u001b[0m\u001b[0m\n\u001b[1;32m   1004\u001b[0m \u001b[0;34m\u001b[0m\u001b[0m\n",
      "\u001b[0;31mAttributeError\u001b[0m: 'Rectangle' object has no property 'normed'"
     ]
    },
    {
     "data": {
      "image/png": "[encoded data removed]",
      "text/plain": [
       "<Figure size 1152x288 with 4 Axes>"
      ]
     },
     "metadata": {
      "needs_background": "light"
     },
     "output_type": "display_data"
    }
   ],
   "source": [
    "dmass_spt = fitsio.read('../output/test/train_cat/y3/dmass_sys_weight_val_FULL_lin.fits')\n",
    "\n",
    "#X_train, Xcov_train = mixing_color(train_sample)\n",
    "#X_test,_ = mixing_color(dmass_spt)\n",
    "\n",
    "weight = dmass_spt['CMASS_PROB'] * dmass_spt['SYS_WEIGHT'] \n",
    "# Plotting all\n",
    "labels = [r'${R_{\\rm DET}}$', r'${I_{\\rm DET}}$', r'$G_{\\rm DET}-R_{\\rm DET}$', r'$R_{\\rm DET}-I_{\\rm DET}$']\n",
    "ranges =  [[17,22], [16,21], [-.5,2], [-.5,1.5]]\n",
    "hist_plot( X_cmass_true, X_sample_dmass, labels = labels, ranges = ranges,\\\n",
    "                         name =[r'{\\rm train}',r'{\\rm DMASS}' ], nbins=70, \\\n",
    "                   weight=[None, weight], outdir = '../paper_figure/', prefix='validation_test')"
   ]
  },
  {
   "cell_type": "code",
   "execution_count": 12,
   "id": "9198d525-045a-4b1b-80af-cb96c5bb21b6",
   "metadata": {},
   "outputs": [
    {
     "data": {
      "text/plain": [
       "\u001b[0;31mSignature:\u001b[0m\n",
       "\u001b[0mdoVisualization_1d\u001b[0m\u001b[0;34m(\u001b[0m\u001b[0;34m\u001b[0m\n",
       "\u001b[0;34m\u001b[0m    \u001b[0mdata\u001b[0m\u001b[0;34m=\u001b[0m\u001b[0;32mNone\u001b[0m\u001b[0;34m,\u001b[0m\u001b[0;34m\u001b[0m\n",
       "\u001b[0;34m\u001b[0m    \u001b[0mlabels\u001b[0m\u001b[0;34m=\u001b[0m\u001b[0;32mNone\u001b[0m\u001b[0;34m,\u001b[0m\u001b[0;34m\u001b[0m\n",
       "\u001b[0;34m\u001b[0m    \u001b[0mranges\u001b[0m\u001b[0;34m=\u001b[0m\u001b[0;32mNone\u001b[0m\u001b[0;34m,\u001b[0m\u001b[0;34m\u001b[0m\n",
       "\u001b[0;34m\u001b[0m    \u001b[0mname\u001b[0m\u001b[0;34m=\u001b[0m\u001b[0;32mNone\u001b[0m\u001b[0;34m,\u001b[0m\u001b[0;34m\u001b[0m\n",
       "\u001b[0;34m\u001b[0m    \u001b[0mweight\u001b[0m\u001b[0;34m=\u001b[0m\u001b[0;34m[\u001b[0m\u001b[0;32mNone\u001b[0m\u001b[0;34m,\u001b[0m \u001b[0;32mNone\u001b[0m\u001b[0;34m]\u001b[0m\u001b[0;34m,\u001b[0m\u001b[0;34m\u001b[0m\n",
       "\u001b[0;34m\u001b[0m    \u001b[0mcolor\u001b[0m\u001b[0;34m=\u001b[0m\u001b[0;34m[\u001b[0m\u001b[0;34m'grey'\u001b[0m\u001b[0;34m,\u001b[0m \u001b[0;34m'tab:blue'\u001b[0m\u001b[0;34m,\u001b[0m \u001b[0;34m'tab:orange'\u001b[0m\u001b[0;34m,\u001b[0m \u001b[0;34m'tab:green'\u001b[0m\u001b[0;34m]\u001b[0m\u001b[0;34m,\u001b[0m\u001b[0;34m\u001b[0m\n",
       "\u001b[0;34m\u001b[0m    \u001b[0mnbins\u001b[0m\u001b[0;34m=\u001b[0m\u001b[0;36m100\u001b[0m\u001b[0;34m,\u001b[0m\u001b[0;34m\u001b[0m\n",
       "\u001b[0;34m\u001b[0m    \u001b[0mfilename\u001b[0m\u001b[0;34m=\u001b[0m\u001b[0;32mNone\u001b[0m\u001b[0;34m,\u001b[0m\u001b[0;34m\u001b[0m\n",
       "\u001b[0;34m\u001b[0m\u001b[0;34m)\u001b[0m\u001b[0;34m\u001b[0m\u001b[0m\n",
       "\u001b[0;31mDocstring:\u001b[0m <no docstring>\n",
       "\u001b[0;31mFile:\u001b[0m      ~/DMASSY3/code_py3/xd.py\n",
       "\u001b[0;31mType:\u001b[0m      function\n"
      ]
     },
     "metadata": {},
     "output_type": "display_data"
    }
   ],
   "source": [
    "?doVisualization_1d"
   ]
  },
  {
   "cell_type": "code",
   "execution_count": 22,
   "id": "bc2b48ea-5fe4-45ed-9b3c-8eca1f0b0ef7",
   "metadata": {},
   "outputs": [],
   "source": [
    "# Comparison. train vs. randoms from the fitted gaussian mixture model\n",
    "doVisualization_1d( data=[X_no_true, X_sample_nodmass], \n",
    "                   labels = ['mag r', 'mag i', 'g-r', 'r-i'], \n",
    "                   ranges = [(17,24),(17,24),(0,3),(0.0,1.6)], \n",
    "                   name = ['train sample', 'model sample'], \n",
    "                   histtype = ['step','stepfilled'],\n",
    "                   color = ['black','blue'],\n",
    "                   weight = [None,None], \n",
    "                   nbins=100, filename = 'DET_nocmass.pdf')"
   ]
  },
  {
   "cell_type": "code",
   "execution_count": null,
   "id": "592b48d7-0b84-4226-ad6a-f182ebb66695",
   "metadata": {},
   "outputs": [],
   "source": []
  }
 ],
 "metadata": {
  "kernelspec": {
   "display_name": "Python (DES_env)",
   "language": "python",
   "name": "des_env"
  },
  "language_info": {
   "codemirror_mode": {
    "name": "ipython",
    "version": 3
   },
   "file_extension": ".py",
   "mimetype": "text/x-python",
   "name": "python",
   "nbconvert_exporter": "python",
   "pygments_lexer": "ipython3",
   "version": "3.7.0"
  }
 },
 "nbformat": 4,
 "nbformat_minor": 5
}
