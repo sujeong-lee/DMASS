{
 "cells": [
  {
   "cell_type": "code",
   "execution_count": 1,
   "id": "cb4d0fa8-0c04-47e1-a6c1-3a9c35bf3d7f",
   "metadata": {},
   "outputs": [
    {
     "name": "stderr",
     "output_type": "stream",
     "text": [
      "WARNING: AstroMLDeprecationWarning: 'decorators' has been moved to 'astroML.utils' and will be removed from the main namespace in the future. [astroML.decorators]\n",
      "In /users/PCON0003/warner785/.conda/envs/DES_env/lib/python3.7/site-packages/matplotlib/mpl-data/stylelib/_classic_test.mplstyle: \n",
      "The savefig.frameon rcparam was deprecated in Matplotlib 3.1 and will be removed in 3.3.\n",
      "In /users/PCON0003/warner785/.conda/envs/DES_env/lib/python3.7/site-packages/matplotlib/mpl-data/stylelib/_classic_test.mplstyle: \n",
      "The verbose.level rcparam was deprecated in Matplotlib 3.1 and will be removed in 3.3.\n",
      "In /users/PCON0003/warner785/.conda/envs/DES_env/lib/python3.7/site-packages/matplotlib/mpl-data/stylelib/_classic_test.mplstyle: \n",
      "The verbose.fileo rcparam was deprecated in Matplotlib 3.1 and will be removed in 3.3.\n"
     ]
    },
    {
     "name": "stdout",
     "output_type": "stream",
     "text": [
      "\n",
      "Calling catalogs >>>\n",
      "pc0_SP107_SPT_v2_cformat_4096ring.fits.gz\n",
      "reading 1/1 /users/PCON0003/warner785/DMASSy3/systematics/pca_SP107_SPT_v2_cformat/pc0_SP107_SPT_v2_cformat_4096ring.fits.gz\n",
      "[(167747584,  5.10530658) (167731200,  1.01238584)\n",
      " (167714816,  0.29834569) ... (165009364, 11.64403223)\n",
      " (165025709,  3.71789272) (165025708,  4.21633824)]\n"
     ]
    }
   ],
   "source": [
    "import sys\n",
    "sys.path.append('../')\n",
    "from xd import *\n",
    "from utils import *\n",
    "import esutil\n",
    "import healpy as hp\n",
    "from systematics import *\n",
    "from systematics_module import *\n",
    "import os\n",
    "\n",
    "%matplotlib inline\n",
    "\n",
    "%load_ext autoreload\n",
    "%autoreload 2\n",
    "\n",
    "input_path = '/users/PCON0003/warner785/DMASSy3/systematics/pca_SP107_SPT_v2_cformat/'\n",
    "#y3/band_z/\n",
    "input_keyword = 'pc0'\n",
    "sysMap = io.SearchAndCallFits(path = input_path, keyword = input_keyword)\n",
    "print(sysMap)"
   ]
  },
  {
   "cell_type": "code",
   "execution_count": 2,
   "id": "6f45396d-7e01-4635-96da-657810af8406",
   "metadata": {},
   "outputs": [
    {
     "name": "stdout",
     "output_type": "stream",
     "text": [
      "['airmass_maxg' 'airmass_maxi' 'airmass_maxr' 'airmass_maxz'\n",
      " 'airmass_ming' 'airmass_mini' 'airmass_minr' 'airmass_minz' 'airmassg'\n",
      " 'airmassi' 'airmassr' 'airmassz' 'exptimeg' 'exptimei' 'exptimer'\n",
      " 'exptimez' 'fgcm_gry_ming' 'fgcm_gry_mini' 'fgcm_gry_minr'\n",
      " 'fgcm_gry_minz' 'fgcm_gryg' 'fgcm_gryi' 'fgcm_gryr' 'fgcm_gryz'\n",
      " 'fwhm_fluxrad_maxg' 'fwhm_fluxrad_maxi' 'fwhm_fluxrad_maxr'\n",
      " 'fwhm_fluxrad_maxz' 'fwhm_fluxrad_ming' 'fwhm_fluxrad_mini'\n",
      " 'fwhm_fluxrad_minr' 'fwhm_fluxrad_minz' 'fwhm_fluxradg' 'fwhm_fluxradi'\n",
      " 'fwhm_fluxradr' 'fwhm_fluxradz' 'fwhm_maxg' 'fwhm_maxi' 'fwhm_maxr'\n",
      " 'fwhm_maxz' 'fwhm_ming' 'fwhm_mini' 'fwhm_minr' 'fwhm_minz' 'fwhmg'\n",
      " 'fwhmi' 'fwhmr' 'fwhmz' 'magauto_depthg' 'magauto_depthi'\n",
      " 'magauto_depthr' 'magauto_depthz' 'maglimg' 'maglimi' 'maglimr' 'maglimz'\n",
      " 'sfd98' 'sigma_mag_zerog' 'sigma_mag_zeroi' 'sigma_mag_zeror'\n",
      " 'sigma_mag_zeroz' 'skybriteg' 'skybritei' 'skybriter' 'skybritez'\n",
      " 'skyvar_maxg' 'skyvar_maxi' 'skyvar_maxr' 'skyvar_maxz' 'skyvar_ming'\n",
      " 'skyvar_mini' 'skyvar_minr' 'skyvar_minz' 'skyvar_sqrtg' 'skyvar_sqrti'\n",
      " 'skyvar_sqrtr' 'skyvar_sqrtz' 'skyvar_uncertg' 'skyvar_uncerti'\n",
      " 'skyvar_uncertr' 'skyvar_uncertz' 'skyvarg' 'skyvari' 'skyvarr' 'skyvarz'\n",
      " 'sof_depthg' 'sof_depthi' 'sof_depthr' 'sof_depthz' 'stars_1620'\n",
      " 'stellar_dens' 't_eff_exptimeg' 't_eff_exptimei' 't_eff_exptimer'\n",
      " 't_eff_exptimez' 't_eff_maxg' 't_eff_maxi' 't_eff_maxr' 't_eff_maxz'\n",
      " 't_eff_ming' 't_eff_mini' 't_eff_minr' 't_eff_minz' 't_effg' 't_effi'\n",
      " 't_effr' 't_effz']\n"
     ]
    }
   ],
   "source": [
    "loadings = np.load('/fs/scratch/PCON0008/warner785/bwarner/loadings.npy',allow_pickle=True)\n",
    "#print(loadings)\n",
    "\n",
    "variables = np.load('/fs/scratch/PCON0008/warner785/bwarner/variables.npy',allow_pickle=True)\n",
    "print(variables)"
   ]
  },
  {
   "cell_type": "code",
   "execution_count": 3,
   "id": "126979f7-0ed8-4796-a3db-223a7c4ece86",
   "metadata": {},
   "outputs": [
    {
     "name": "stdout",
     "output_type": "stream",
     "text": [
      "107\n"
     ]
    }
   ],
   "source": [
    "print(variables.size)"
   ]
  },
  {
   "cell_type": "code",
   "execution_count": 3,
   "id": "0475e72e-821d-48d1-ab15-31469a1bf2d8",
   "metadata": {},
   "outputs": [
    {
     "name": "stdout",
     "output_type": "stream",
     "text": [
      "Reading config file\n",
      "Working with Y3\n",
      "skymapper not found, some visualisation tools won't work\n"
     ]
    }
   ],
   "source": [
    "#you can take each row of loadings.npy and find the elements with the largest absolute values and \n",
    "#list a few of them. That way you can say things like PCA0 is X% this map and Y% that map, and Z% everything else\n",
    "import sys\n",
    "sys.path.append('/users/PCON0003/warner785/lss_sys/')\n",
    "\n",
    "import lsssys.config\n",
    "\n",
    "spconfig = lsssys.config.sysmap_shortnames_2col_format_Y3 #dictionary \n",
    "# other dictionary needed as well for different file format\n",
    "\n",
    "#get missing files from nersc\n",
    "#spconfig['airmass']"
   ]
  },
  {
   "cell_type": "code",
   "execution_count": 4,
   "id": "6f24ac1b-0199-4210-a5fb-bd12f78ff8db",
   "metadata": {},
   "outputs": [
    {
     "name": "stdout",
     "output_type": "stream",
     "text": [
      "/fs/scratch/PCON0003/warner785/bwarner/band_z/y3a2_{band}_o.4096_t.32768_T_EFF.WMEAN_EQU.fits.gz\n"
     ]
    }
   ],
   "source": [
    "#for shortname in variables:\n",
    "#    systype = shortname[:-1]\n",
    "#    band = shortname[-1]\n",
    "#    syspath = path_sys.format(band=band) + spconfig[systype]['filename']\n",
    "    \n",
    "# edit:\n",
    "path_sys = '/fs/scratch/PCON0003/warner785/bwarner/band_{band}/'\n",
    "for shortname in variables:\n",
    "    systype = shortname[:-1]\n",
    "    band = shortname[-1]\n",
    "\n",
    "    if systype in spconfig.keys():\n",
    "        syspath = path_sys.format(band=band) + spconfig[systype]['filename']\n",
    "        \n",
    "print(syspath)"
   ]
  },
  {
   "cell_type": "code",
   "execution_count": 7,
   "id": "e46a89c2-86a4-4e46-9b63-8db501c7f984",
   "metadata": {},
   "outputs": [
    {
     "name": "stdout",
     "output_type": "stream",
     "text": [
      "positive coeff: \n",
      " [['skyvar_minr' 0.11789219016019943 0.013898568500768623]\n",
      " ['skyvar_uncertz' 0.1648317734541665 0.027169513540045667]\n",
      " ['skyvar_uncertg' 0.1758257687495787 0.030914700956380325]\n",
      " ['skyvar_uncerti' 0.17902987831923148 0.03205169733099883]\n",
      " ['skyvar_uncertr' 0.18507594904552038 0.03425310691510006]]\n",
      "negative coeff: \n",
      " [['sof_depthi' -0.19258149634646715 0.03708763273504434]\n",
      " ['maglimr' -0.18955791858444884 0.03593220449806853]\n",
      " ['sof_depthr' -0.1883711904553456 0.03548370539356408]\n",
      " ['magauto_depthr' -0.18546525804684877 0.0343973619423842]\n",
      " ['maglimi' -0.18368450250720647 0.03373999646131994]]\n",
      "absolute val coeff: \n",
      " [['skyvar_uncertr' 0.18507594904552038 0.03425310691510006]\n",
      " ['magauto_depthr' -0.18546525804684877 0.0343973619423842]\n",
      " ['sof_depthr' -0.1883711904553456 0.03548370539356408]\n",
      " ['maglimr' -0.18955791858444884 0.03593220449806853]\n",
      " ['sof_depthi' -0.19258149634646715 0.03708763273504434]]\n"
     ]
    }
   ],
   "source": [
    "#pc0_coeff = loadings[0,:]\n",
    "#sysmap_list = [<loaded sysmap 1>, <loaded sysmap 2>, ….]\n",
    "\n",
    "a = loadings[0,:]  \n",
    "s = np.argsort(a)\n",
    "largest5index = s[-5:]\n",
    "largest_negative = s[:5]\n",
    "n = np.argsort(np.abs(a))\n",
    "neg_pos_5index = n[-5:]\n",
    "\n",
    "largest5names = np.array(variables)[largest5index]\n",
    "largest5coeff = a[largest5index]\n",
    "largest_sq = largest5coeff**2\n",
    "\n",
    "largest5_neg_names = np.array(variables)[largest_negative]\n",
    "largest5_neg_coeff = a[largest_negative]\n",
    "largest_neg_sq = largest5_neg_coeff**2\n",
    "\n",
    "largest5_total_names = np.array(variables)[neg_pos_5index]\n",
    "largest5_total_coeff = a[neg_pos_5index]\n",
    "largest_total_sq = largest5_total_coeff**2 # actual percentage\n",
    "\n",
    "print(\"positive coeff: \\n\", np.transpose([largest5names, largest5coeff, largest_sq]))\n",
    "print(\"negative coeff: \\n\", np.transpose([largest5_neg_names, largest5_neg_coeff, largest_neg_sq]))\n",
    "print(\"absolute val coeff: \\n\", np.transpose([largest5_total_names, largest5_total_coeff, largest_total_sq]))"
   ]
  },
  {
   "cell_type": "code",
   "execution_count": 8,
   "id": "7353b56b-bed8-4689-b426-ab2fa454046c",
   "metadata": {},
   "outputs": [
    {
     "data": {
      "text/plain": [
       "(array([18.,  2.,  7., 12., 18., 18., 18.,  9.,  1.,  4.]),\n",
       " array([-0.1925815 , -0.15481575, -0.11705001, -0.07928426, -0.04151852,\n",
       "        -0.00375277,  0.03401297,  0.07177872,  0.10954446,  0.1473102 ,\n",
       "         0.18507595]),\n",
       " <a list of 10 Patch objects>)"
      ]
     },
     "execution_count": 8,
     "metadata": {},
     "output_type": "execute_result"
    },
    {
     "data": {
      "image/png": "[encoded data removed]",
      "text/plain": [
       "<Figure size 432x288 with 1 Axes>"
      ]
     },
     "metadata": {
      "needs_background": "light"
     },
     "output_type": "display_data"
    }
   ],
   "source": [
    "# first few sp maps for each pca: qual. statements \n",
    "\n",
    "#save numbers into document for reference\n",
    "\n",
    "# all the coefficents \n",
    "plt.hist(a)"
   ]
  },
  {
   "cell_type": "code",
   "execution_count": 1,
   "id": "d684811a-e071-4d49-b4ac-aec4aef9a5ee",
   "metadata": {},
   "outputs": [
    {
     "data": {
      "text/plain": [
       "<scipy.stats._distn_infrastructure.rv_frozen at 0x2b50c6842a90>"
      ]
     },
     "execution_count": 1,
     "metadata": {},
     "output_type": "execute_result"
    }
   ],
   "source": [
    "import scipy.stats\n",
    "scipy.stats.chi2(12)"
   ]
  },
  {
   "cell_type": "code",
   "execution_count": 16,
   "id": "fb2ce3bc-c7e7-4e1e-93a4-8f9a1710112b",
   "metadata": {},
   "outputs": [
    {
     "data": {
      "text/plain": [
       "0.0"
      ]
     },
     "execution_count": 16,
     "metadata": {},
     "output_type": "execute_result"
    }
   ],
   "source": [
    "scipy.stats.chi2(12).cdf(2.5*12)\n",
    "#Out[4]: 0.997207570667299\n",
    "1.-scipy.stats.chi2(12).cdf(2.5*12)\n",
    "#Out[5]: 0.002792429332700963\n",
    "100*(1.-scipy.stats.chi2(12).cdf(2.5*12))\n",
    "#Out[6]: 0.2792429332700963\n",
    "chi2 = np.linspace(0,30,100)\n",
    "y = np.abs((100*(1.-scipy.stats.chi2(12).cdf(chi2))-5.))  #for 5% p-value threshold\n",
    "index = np.where(y == y.min())[0][0]\n",
    "chi2[index]\n",
    "#Out[26]: 20.90909090909091\n",
    "chi2[index]/12\n",
    "#Out[29]: 1.7424242424242424"
   ]
  },
  {
   "cell_type": "code",
   "execution_count": 17,
   "id": "611a6ac0-41e3-4f6b-9e72-ca04c004bbc2",
   "metadata": {},
   "outputs": [
    {
     "name": "stdout",
     "output_type": "stream",
     "text": [
      "[0.96256577 0.91306981 0.77649507 0.99212329 0.69998584]\n"
     ]
    }
   ],
   "source": [
    "chi2 = [1, 1.5, 2.5, 0.5, 3]\n",
    "p_val = 1.-scipy.stats.chi2(5).cdf(chi2)\n",
    "print(p_val)"
   ]
  },
  {
   "cell_type": "code",
   "execution_count": 18,
   "id": "6589c6c4-55f0-4228-bf6d-ef9ddde965e0",
   "metadata": {},
   "outputs": [
    {
     "name": "stdout",
     "output_type": "stream",
     "text": [
      "[403.74342268 408.69301855 422.35049289 400.78767068 430.00141641]\n"
     ]
    }
   ],
   "source": [
    "import numpy as np\n",
    "y = np.abs(100*(p_val - 5.))\n",
    "print(y)"
   ]
  },
  {
   "cell_type": "code",
   "execution_count": 19,
   "id": "011e4b9a-6a67-4f78-a32d-2b5c019de15c",
   "metadata": {},
   "outputs": [
    {
     "name": "stdout",
     "output_type": "stream",
     "text": [
      "4\n"
     ]
    }
   ],
   "source": [
    "index = np.where(y == y.max())[0][0]\n",
    "print(index)"
   ]
  },
  {
   "cell_type": "code",
   "execution_count": null,
   "id": "580cbbc0-25df-4459-b5df-feca8d42898d",
   "metadata": {},
   "outputs": [],
   "source": [
    "y = np.abs((100*(1.-scipy.stats.chi2(12).cdf(chi2))-5.))  #for 5% p-value threshold\n",
    "index = np.where(y == y.min())[0][0]\n",
    "threshold = chi2[index]/12\n",
    "print(threshold)\n",
    "if threshold > 2:"
   ]
  }
 ],
 "metadata": {
  "kernelspec": {
   "display_name": "Python (DES_env)",
   "language": "python",
   "name": "des_env"
  },
  "language_info": {
   "codemirror_mode": {
    "name": "ipython",
    "version": 3
   },
   "file_extension": ".py",
   "mimetype": "text/x-python",
   "name": "python",
   "nbconvert_exporter": "python",
   "pygments_lexer": "ipython3",
   "version": "3.7.0"
  }
 },
 "nbformat": 4,
 "nbformat_minor": 5
}
