{
 "cells": [
  {
   "cell_type": "code",
   "execution_count": 1,
   "id": "ab539049-f65f-481d-bef4-92ffc07127f0",
   "metadata": {},
   "outputs": [
    {
     "name": "stderr",
     "output_type": "stream",
     "text": [
      "WARNING: AstroMLDeprecationWarning: 'decorators' has been moved to 'astroML.utils' and will be removed from the main namespace in the future. [astroML.decorators]\n",
      "In /users/PCON0003/warner785/.conda/envs/DES_env/lib/python3.7/site-packages/matplotlib/mpl-data/stylelib/_classic_test.mplstyle: \n",
      "The savefig.frameon rcparam was deprecated in Matplotlib 3.1 and will be removed in 3.3.\n",
      "In /users/PCON0003/warner785/.conda/envs/DES_env/lib/python3.7/site-packages/matplotlib/mpl-data/stylelib/_classic_test.mplstyle: \n",
      "The verbose.level rcparam was deprecated in Matplotlib 3.1 and will be removed in 3.3.\n",
      "In /users/PCON0003/warner785/.conda/envs/DES_env/lib/python3.7/site-packages/matplotlib/mpl-data/stylelib/_classic_test.mplstyle: \n",
      "The verbose.fileo rcparam was deprecated in Matplotlib 3.1 and will be removed in 3.3.\n"
     ]
    },
    {
     "name": "stdout",
     "output_type": "stream",
     "text": [
      "<xd.XDGMM object at 0x2b0d832e5e80>\n",
      "<xd.XDGMM object at 0x2b0d8e2c3b70>\n"
     ]
    }
   ],
   "source": [
    "#Running Su's pickle file\n",
    "import pickle\n",
    "\n",
    "# Su's pickle file: changing from 'b'\n",
    "outdir = '../code/output/n2/'\n",
    "cmass_su_pickle = outdir+'gold_st82_XD_cmass_full_tol1e5.pkl'  # cmass Su\n",
    "cmass_su_no_pickle = outdir+'gold_st82_XD_no_full_tol1e5.pkl' # noncmass Su\n",
    "#clf_cmass_su = XD_fitting_X( None, None, pickleFileName = cmass_su_pickle)\n",
    "\n",
    "f = open(cmass_su_pickle, 'rb')\n",
    "g = open(cmass_su_no_pickle, 'rb')\n",
    "\n",
    "clf_cmass_su = pickle.load(f, encoding=\"latin1\")\n",
    "clf_cmass_su = clf_cmass_su['retval']\n",
    "clf_nocmass_su = pickle.load(g, encoding=\"latin1\")\n",
    "clf_nocmass_su = clf_nocmass_su['retval']\n",
    "X_sample_cmass_su = clf_cmass_su.sample(200000)        # non-cmass model\n",
    "X_sample_nocmass_su = clf_nocmass_su.sample(200000)\n",
    "print(clf_cmass_su)\n",
    "print(clf_nocmass_su)"
   ]
  },
  {
   "cell_type": "code",
   "execution_count": 33,
   "id": "b28d1505-855c-4c24-9c02-641671e7a38c",
   "metadata": {},
   "outputs": [
    {
     "name": "stdout",
     "output_type": "stream",
     "text": [
      "{'kwargs': {'n_cl': None, 'init_params': 'output/sfd_train_photo_SamPle_nozband_ran10_3_full_tol1e5/gold_st82_XD_cmass.pkl', 'verbose': True, 'tol': 1e-05, 'n_iter': 10000}, 'args': (array([[20.71866989, 19.87635803,  1.75757217,  0.87721252],\n",
      "       [20.76591873, 19.93801498,  1.80604172,  0.86790466],\n",
      "       [20.86281013, 19.93903542,  1.82202339,  0.99887276],\n",
      "       ...,\n",
      "       [20.32920456, 19.69071007,  1.17407227,  0.68229294],\n",
      "       [20.35455132, 19.608284  ,  1.67535782,  0.81416702],\n",
      "       [20.35326767, 19.67707253,  1.91374779,  0.8653965 ]]), array([[[ 1.18810000e-04,  0.00000000e+00,  0.00000000e+00,\n",
      "          0.00000000e+00],\n",
      "        [ 0.00000000e+00,  8.83600005e-05,  0.00000000e+00,\n",
      "          0.00000000e+00],\n",
      "        [ 0.00000000e+00,  0.00000000e+00,  1.94309012e-03,\n",
      "         -9.40900063e-05],\n",
      "        [ 0.00000000e+00,  0.00000000e+00, -9.40900063e-05,\n",
      "          1.43090008e-04]],\n",
      "\n",
      "       [[ 3.16839985e-04,  0.00000000e+00,  0.00000000e+00,\n",
      "          0.00000000e+00],\n",
      "        [ 0.00000000e+00,  1.10249995e-04,  0.00000000e+00,\n",
      "          0.00000000e+00],\n",
      "        [ 0.00000000e+00,  0.00000000e+00,  2.04580004e-03,\n",
      "         -1.79559982e-04],\n",
      "        [ 0.00000000e+00,  0.00000000e+00, -1.79559982e-04,\n",
      "          2.23119980e-04]],\n",
      "\n",
      "       [[ 4.12090041e-04,  0.00000000e+00,  0.00000000e+00,\n",
      "          0.00000000e+00],\n",
      "        [ 0.00000000e+00,  1.69000006e-04,  0.00000000e+00,\n",
      "          0.00000000e+00],\n",
      "        [ 0.00000000e+00,  0.00000000e+00,  3.30984997e-03,\n",
      "         -2.07359990e-04],\n",
      "        [ 0.00000000e+00,  0.00000000e+00, -2.07359990e-04,\n",
      "          2.59199987e-04]],\n",
      "\n",
      "       ...,\n",
      "\n",
      "       [[ 4.49439976e-04,  0.00000000e+00,  0.00000000e+00,\n",
      "          0.00000000e+00],\n",
      "        [ 0.00000000e+00,  2.46489974e-04,  0.00000000e+00,\n",
      "          0.00000000e+00],\n",
      "        [ 0.00000000e+00,  0.00000000e+00,  1.08945000e-03,\n",
      "         -2.07359990e-04],\n",
      "        [ 0.00000000e+00,  0.00000000e+00, -2.07359990e-04,\n",
      "          3.03399989e-04]],\n",
      "\n",
      "       [[ 2.31040001e-04,  0.00000000e+00,  0.00000000e+00,\n",
      "          0.00000000e+00],\n",
      "        [ 0.00000000e+00,  1.41610013e-04,  0.00000000e+00,\n",
      "          0.00000000e+00],\n",
      "        [ 0.00000000e+00,  0.00000000e+00,  1.54601001e-03,\n",
      "         -1.32250003e-04],\n",
      "        [ 0.00000000e+00,  0.00000000e+00, -1.32250003e-04,\n",
      "          1.81250005e-04]],\n",
      "\n",
      "       [[ 4.70890023e-04,  0.00000000e+00,  0.00000000e+00,\n",
      "          0.00000000e+00],\n",
      "        [ 0.00000000e+00,  1.63839984e-04,  0.00000000e+00,\n",
      "          0.00000000e+00],\n",
      "        [ 0.00000000e+00,  0.00000000e+00,  2.83333012e-03,\n",
      "         -2.01639996e-04],\n",
      "        [ 0.00000000e+00,  0.00000000e+00, -2.01639996e-04,\n",
      "          2.59399996e-04]]])), 'retval': <xd.XDGMM object at 0x2b0de6da8fd0>, 'funcname': 'compute_XD'}\n"
     ]
    }
   ],
   "source": [
    "f = open(cmass_su_pickle, 'rb')\n",
    "clf_cmass_su = pickle.load(f, encoding=\"latin1\")\n",
    "#print(clf_cmass_su)\n",
    "print(clf_cmass_su)"
   ]
  },
  {
   "cell_type": "code",
   "execution_count": 2,
   "id": "6d1db34f-a942-49c8-b83b-7ea068505aee",
   "metadata": {},
   "outputs": [
    {
     "name": "stdout",
     "output_type": "stream",
     "text": [
      "<xd.XDGMM object at 0x2b0d8e2c36d8>\n",
      "<xd.XDGMM object at 0x2b0db7e0b080>\n"
     ]
    }
   ],
   "source": [
    "# New method, my EVEN pickle file:\n",
    "\n",
    "# pickle file: changing from 'b'\n",
    "outdir = '../output/validate_NEST/'\n",
    "dmass_pickle_even = outdir+'gold_st82_XD_cmass_NEST_even.pkl'  # cmass\n",
    "dmass_no_pickle_even = outdir+'gold_st82_XD_no_NEST_even2.pkl' # noncmass\n",
    "#clf_cmass_su = XD_fitting_X( None, None, pickleFileName = cmass_su_pickle)\n",
    "\n",
    "f = open(dmass_pickle_even, 'rb')\n",
    "g = open(dmass_no_pickle_even, 'rb')\n",
    "\n",
    "clf_dmass_even = pickle.load(f, encoding=\"latin1\")\n",
    "clf_dmass_even = clf_dmass_even['retval']\n",
    "clf_nodmass_even = pickle.load(g, encoding=\"latin1\")\n",
    "clf_nodmass_even = clf_nodmass_even['retval']\n",
    "X_sample_dmass_even = clf_dmass_even.sample(200000)        # non-cmass model\n",
    "X_sample_nodmass_even = clf_nodmass_even.sample(200000)\n",
    "print(clf_dmass_even)\n",
    "print(clf_nodmass_even)"
   ]
  },
  {
   "cell_type": "code",
   "execution_count": 4,
   "id": "154cfb88-ec6f-4ec4-bec7-070dc97699de",
   "metadata": {},
   "outputs": [],
   "source": [
    "#Y1 Data\n",
    "\n",
    "import os, sys\n",
    "import esutil\n",
    "import healpy as hp\n",
    "import numpy as np\n",
    "%matplotlib inline\n",
    "\n",
    "%load_ext autoreload\n",
    "%autoreload 2\n",
    "\n",
    "sys.path.append('code_py3/')\n",
    "from cmass_modules import io\n",
    "from utils import matchCatalogsbyPosition, hpHEALPixelToRaDec, HealPixifyCatalogs, spatialcheck\n",
    "from xd import mixing_color, XD_fitting_X, assignCMASSProb, doVisualization_1d\n",
    "from run_DMASS import priorCut_test"
   ]
  },
  {
   "cell_type": "code",
   "execution_count": 17,
   "id": "568d9092-eee2-491d-82e6-6093fa8f4871",
   "metadata": {},
   "outputs": [
    {
     "name": "stdout",
     "output_type": "stream",
     "text": [
      "Using central 100% to set range.\n"
     ]
    }
   ],
   "source": [
    "# Comparison. beverly vs su sample from the fitted gaussian mixture model (visual)\n",
    "#comparison of fitted function: trained versus fitted\n",
    "doVisualization_1d( data=[X_sample_nocmass_su], \n",
    "                   labels = ['mag r', 'mag i', 'g-r', 'r-i'], \n",
    "                   ranges = None, \n",
    "                   name = ['no_su'], \n",
    "                   weight = [None,None], \n",
    "                   nbins=100, filename = 'test_nocmass1.png')"
   ]
  },
  {
   "cell_type": "code",
   "execution_count": 19,
   "id": "d834cab2-cc32-46d3-add0-475b3aa62ef9",
   "metadata": {},
   "outputs": [
    {
     "name": "stdout",
     "output_type": "stream",
     "text": [
      "Using central 100% to set range.\n"
     ]
    }
   ],
   "source": [
    "# Comparison. beverly vs su sample from the fitted gaussian mixture model (visual)\n",
    "#comparison of fitted function: trained versus fitted\n",
    "doVisualization_1d( data=[X_sample_cmass_su], \n",
    "                   labels = ['mag r', 'mag i', 'g-r', 'r-i'], \n",
    "                   ranges = None, \n",
    "                   name = ['su'], \n",
    "                   weight = [None,None], \n",
    "                   nbins=100, filename = 'test_cmass1.png')"
   ]
  },
  {
   "cell_type": "code",
   "execution_count": null,
   "id": "f58a0e2a-7cc6-4ed6-b8cb-2f8fdf4c2d20",
   "metadata": {},
   "outputs": [],
   "source": []
  }
 ],
 "metadata": {
  "kernelspec": {
   "display_name": "Python (DES_env)",
   "language": "python",
   "name": "des_env"
  },
  "language_info": {
   "codemirror_mode": {
    "name": "ipython",
    "version": 3
   },
   "file_extension": ".py",
   "mimetype": "text/x-python",
   "name": "python",
   "nbconvert_exporter": "python",
   "pygments_lexer": "ipython3",
   "version": "3.7.0"
  }
 },
 "nbformat": 4,
 "nbformat_minor": 5
}
