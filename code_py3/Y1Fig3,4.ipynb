{
 "cells": [
  {
   "cell_type": "code",
   "execution_count": null,
   "id": "392b95ae-df22-4677-a0c1-aaf841a3a28e",
   "metadata": {},
   "outputs": [],
   "source": [
    "# creating Figure 3 and 4 in paper:\n",
    "\n",
    "###FIGURE 3 (goes after Figure 4 data):"
   ]
  },
  {
   "cell_type": "code",
   "execution_count": 1,
   "id": "970916db-e56c-42b7-84fa-e336821163b8",
   "metadata": {},
   "outputs": [
    {
     "name": "stderr",
     "output_type": "stream",
     "text": [
      "In /users/PCON0003/warner785/.conda/envs/DES_env/lib/python3.7/site-packages/matplotlib/mpl-data/stylelib/_classic_test.mplstyle: \n",
      "The savefig.frameon rcparam was deprecated in Matplotlib 3.1 and will be removed in 3.3.\n",
      "In /users/PCON0003/warner785/.conda/envs/DES_env/lib/python3.7/site-packages/matplotlib/mpl-data/stylelib/_classic_test.mplstyle: \n",
      "The verbose.level rcparam was deprecated in Matplotlib 3.1 and will be removed in 3.3.\n",
      "In /users/PCON0003/warner785/.conda/envs/DES_env/lib/python3.7/site-packages/matplotlib/mpl-data/stylelib/_classic_test.mplstyle: \n",
      "The verbose.fileo rcparam was deprecated in Matplotlib 3.1 and will be removed in 3.3.\n",
      "WARNING: AstroMLDeprecationWarning: 'decorators' has been moved to 'astroML.utils' and will be removed from the main namespace in the future. [astroML.decorators]\n"
     ]
    }
   ],
   "source": [
    "#Y1 Data\n",
    "\n",
    "import os, sys\n",
    "import esutil\n",
    "import healpy as hp\n",
    "import numpy as np\n",
    "%matplotlib inline\n",
    "\n",
    "%load_ext autoreload\n",
    "%autoreload 2\n",
    "\n",
    "sys.path.append('code_py3/')\n",
    "from cmass_modules import io\n",
    "from utils import matchCatalogsbyPosition, hpHEALPixelToRaDec, HealPixifyCatalogs, spatialcheck\n",
    "from xd import mixing_color, XD_fitting_X, assignCMASSProb, doVisualization_1d\n",
    "from run_DMASS import priorCut_test"
   ]
  },
  {
   "cell_type": "code",
   "execution_count": 2,
   "id": "aca75a74-9477-480c-8460-ef34a9ae6f48",
   "metadata": {},
   "outputs": [
    {
     "name": "stdout",
     "output_type": "stream",
     "text": [
      "\n",
      "Calling catalogs >>>\n",
      "Y1A1_GOLD_STRIPE82_v2_000006.fits\n",
      "Y1A1_GOLD_STRIPE82_v2_000005.fits\n",
      "Y1A1_GOLD_STRIPE82_v2_000002.fits\n",
      "Y1A1_GOLD_STRIPE82_v2_000008.fits\n",
      "Y1A1_GOLD_STRIPE82_v2_000003.fits\n",
      "Y1A1_GOLD_STRIPE82_v2_000001.fits\n",
      "Y1A1_GOLD_STRIPE82_v2_000007.fits\n",
      "Y1A1_GOLD_STRIPE82_v2_000004.fits\n",
      "reading 1/8 /fs/scratch/PCON0003/warner785/bwarner/gold_cat/GOLD_STRIPE82/Y1A1_GOLD_STRIPE82_v2_000006.fits\n",
      "reading 2/8 /fs/scratch/PCON0003/warner785/bwarner/gold_cat/GOLD_STRIPE82/Y1A1_GOLD_STRIPE82_v2_000005.fits\n",
      "reading 3/8 /fs/scratch/PCON0003/warner785/bwarner/gold_cat/GOLD_STRIPE82/Y1A1_GOLD_STRIPE82_v2_000002.fits\n",
      "reading 4/8 /fs/scratch/PCON0003/warner785/bwarner/gold_cat/GOLD_STRIPE82/Y1A1_GOLD_STRIPE82_v2_000008.fits\n",
      "reading 5/8 /fs/scratch/PCON0003/warner785/bwarner/gold_cat/GOLD_STRIPE82/Y1A1_GOLD_STRIPE82_v2_000003.fits\n",
      "reading 6/8 /fs/scratch/PCON0003/warner785/bwarner/gold_cat/GOLD_STRIPE82/Y1A1_GOLD_STRIPE82_v2_000001.fits\n",
      "reading 7/8 /fs/scratch/PCON0003/warner785/bwarner/gold_cat/GOLD_STRIPE82/Y1A1_GOLD_STRIPE82_v2_000007.fits\n",
      "reading 8/8 /fs/scratch/PCON0003/warner785/bwarner/gold_cat/GOLD_STRIPE82/Y1A1_GOLD_STRIPE82_v2_000004.fits\n",
      "change reddening corrections from SLR to SFD98\n",
      "Removing SLR Shift \n",
      "  removing SLR from  MAG_MODEL\n",
      "  removing SLR from  MAG_DETMODEL\n",
      "  removing SLR from  MAG_AUTO\n",
      "Adding SFD98 Shift \n",
      "Bands : ['G', 'R', 'I', 'Z']\n",
      "coefficients =  [3.186, 2.14, 1.569, 1.196]\n",
      "  Adding SFD to  MAG_MODEL\n",
      "  Adding SFD to  MAG_DETMODEL\n",
      "  Adding SFD to  MAG_AUTO\n",
      "CHECK input catalog has only galaxies\n",
      "943599\n"
     ]
    }
   ],
   "source": [
    "#read in gold catalogs here:\n",
    "##ST82 REGION catalog:\n",
    "\n",
    "train_path = '/fs/scratch/PCON0003/warner785/bwarner/gold_cat/GOLD_STRIPE82/'\n",
    "path =  train_path\n",
    "train_keyword = 'Y1A1_GOLD_STRIPE82_v2'\n",
    "    \n",
    "columns = ['FLAGS_GOLD', 'FLAGS_BADREGION', 'MAG_MODEL_G', 'MAG_MODEL_R', 'MAG_MODEL_I', 'MAG_MODEL_Z',\\\n",
    "               'MAG_DETMODEL_G', 'MAG_DETMODEL_R', 'MAG_DETMODEL_I', 'MAG_DETMODEL_Z', 'MAGERR_DETMODEL_G',\\\n",
    "               'MAGERR_DETMODEL_R', 'MAGERR_DETMODEL_I', 'MAGERR_DETMODEL_Z', 'MAGERR_MODEL_G', 'MAGERR_MODEL_R',\\\n",
    "               'MAGERR_MODEL_I', 'MAGERR_MODEL_Z', 'MAG_AUTO_G', 'MAG_AUTO_R', 'MAG_AUTO_I', 'MAG_AUTO_Z', 'RA',\\\n",
    "               'DEC', 'COADD_OBJECTS_ID', 'MODEST_CLASS', 'HPIX', 'DESDM_ZP',\\\n",
    "               'SLR_SHIFT_G', 'SLR_SHIFT_R', 'SLR_SHIFT_I', 'SLR_SHIFT_Z', 'SLR_SHIFT_Y', 'EBV']\n",
    "\n",
    "gold_st82 = io.SearchAndCallFits(path = train_path, columns = columns, keyword = train_keyword )\n",
    "gold_st82 = gold_st82[(gold_st82['MODEST_CLASS'] == 1)&(gold_st82['FLAGS_GOLD'] == 0 )]\n",
    "    \n",
    "def RemovingSLRReddening(cat):\n",
    "\n",
    "\n",
    "    if 'SLR_SHIFT_G' not in cat.dtype.names : \n",
    "        import numpy.lib.recfunctions as rf   \n",
    "        #from suchyta_utils.y1a1_slr_shiftmap import SLRShift\n",
    "        from y1a1_slr_shiftmap import SLRShift\n",
    "        zpfile = '/fs/scratch/PCON0003/warner785/bwarner/y1a1_wide_slr_wavg_zpshift2.fit'\n",
    "        slrshift = SLRShift(zpfile, fill_periphery=True)\n",
    "        offsets_g = slrshift.get_zeropoint_offset('g',cat['RA'],cat['DEC'],interpolate=True)\n",
    "        offsets_r = slrshift.get_zeropoint_offset('r',cat['RA'],cat['DEC'],interpolate=True)\n",
    "        offsets_i = slrshift.get_zeropoint_offset('i',cat['RA'],cat['DEC'],interpolate=True)\n",
    "        offsets_z = slrshift.get_zeropoint_offset('z',cat['RA'],cat['DEC'],interpolate=True)\n",
    "\n",
    "        offsets = [ offsets_g, offsets_r, offsets_i, offsets_z  ]\n",
    "        from pandas import DataFrame, concat\n",
    "        nametag = ['SLR_SHIFT_'+f for f in ['G', 'R', 'I', 'Z'] ]\n",
    "        catnametag = cat.dtype.names\n",
    "        try : \n",
    "            offsetsdf = DataFrame( offsets, index = nametag ).T\n",
    "            cat = DataFrame(cat, index = catnametag)\n",
    "            #del cat['index']\n",
    "            print('concatenate two ndarrays')\n",
    "            cat = concat([cat, offsetsdf], axis=1)\n",
    "            print('dataframe to recordarray')\n",
    "            cat = cat.to_records()\n",
    "        \n",
    "        except ValueError :\n",
    "            print(\"Big-endian buffer not supported on little-endian compiler\")\n",
    "            print(\"Doing byte swapping\")\n",
    "            \n",
    "            #offsetsdf = np.array(offsetsdf).byteswap().newbyteorder()\n",
    "            cat = np.array(cat).byteswap().newbyteorder()\n",
    "            offsetsdf = DataFrame( offsets, index = nametag ).T\n",
    "            cat = DataFrame(cat)\n",
    "\n",
    "            print('concatenate two ndarrays')\n",
    "            cat = concat([cat, offsetsdf], axis=1)\n",
    "            print('dataframe to recordarray')\n",
    "            cat = cat.to_records()\n",
    "            cat.dtype.names = [str(x) for x in cat.dtype.names]\n",
    "            \n",
    "            #matched = pd.merge(desData, goldData, on=key, how=how, suffixes = suffixes, left_index=left_index)\n",
    "\n",
    "\n",
    "    print('Removing SLR Shift ')\n",
    "    for mag in ['MAG_MODEL', 'MAG_DETMODEL', 'MAG_AUTO']:\n",
    "        print('  removing SLR from ', mag)\n",
    "        for b in ['G', 'R', 'I', 'Z']:\n",
    "            cat[mag + '_'+b] = cat[mag + '_'+b] - cat['SLR_SHIFT'+ '_'+b]\n",
    "\n",
    "    \"\"\"\n",
    "    cat = rf.append_fields(cat, 'SLR_SHIFT_G', offsets_g)\n",
    "    cat = rf.append_fields(cat, 'SLR_SHIFT_R', offsets_r)\n",
    "    cat = rf.append_fields(cat, 'SLR_SHIFT_I', offsets_i)\n",
    "    cat = rf.append_fields(cat, 'SLR_SHIFT_Z', offsets_z)\n",
    "    \"\"\"\n",
    "    return cat\n",
    "\n",
    "def AddingSFD98Reddening(cat, kind='SPT', coeff = [3.186,2.140,1.569,1.196 ] ):\n",
    "    import numpy.lib.recfunctions as rf\n",
    "    import pandas as pd\n",
    "\n",
    "    band = ['G', 'R', 'I', 'Z']\n",
    "\n",
    "    if 'EBV' not in cat.dtype.names :   \n",
    "     \n",
    "        print('Using SFD98 nside 4096 healpix map')\n",
    "        print('Bands :',  band)\n",
    "        #print 'NSIDE = 4096'\n",
    "        print('coefficients = ', coeff)\n",
    "        nside = 4096\n",
    "\n",
    "        #from suchyta_utils.y1a1_slr_shiftmap import SLRShift\n",
    "        #sfdfile = '/n/des/lee.5922/data/systematic_maps/y1a1_wide_slr_wavg_zpshift2.fit'\n",
    "        mapname = '/fs/scratch/PCON0003/warner785/bwarner/ebv_sfd98_fullres_nside_4096_nest_equatorial.fits'\n",
    "        #mapname = '/n/des/lee.5922/data/systematic_maps/ebv_lenz17_nside_4096_nest_equatorial.fits'\n",
    "        reddening_ring = hp.read_map(mapname)\n",
    "        hpIndices = np.arange(reddening_ring.size)\n",
    "        #goodmask = hp.mask_good(reddening_ring)\n",
    "        #goldmask = \n",
    "\n",
    "        goodIndices = hpIndices #hpIndices[goodmask]\n",
    "        clean_map = reddening_ring #reddening_ring[goodmask]\n",
    "\n",
    "        sysMap = np.zeros((clean_map.size, ), dtype=[('PIXEL', 'i4'), ('EBV', 'f8'), ('RA', 'f8'), ('DEC', 'f8')])\n",
    "        sysMap['PIXEL'] = goodIndices\n",
    "        sysMap['EBV'] = clean_map\n",
    "        \n",
    "        sys_ra, sys_dec = hpHEALPixelToRaDec(goodIndices, nside = nside)\n",
    "        sysMap['RA'] = sys_ra\n",
    "        sysMap['DEC'] = sys_dec\n",
    "\n",
    "        from cmass_modules.Cuts import keepGoodRegion\n",
    "        sysMap = keepGoodRegion(sysMap)\n",
    "        if kind is 'STRIPE82': sysMap = sysMap[sysMap['DEC'] > -30]\n",
    "        elif kind is 'SPT': sysMap = sysMap[sysMap['DEC'] < -30]\n",
    "\n",
    "\n",
    "        cat_hp = cat\n",
    "        hpind = hpRaDecToHEALPixel(cat_hp['RA'], cat_hp['DEC'], nside= 4096, nest= False)\n",
    "        #cat_hp.dtype.names = [str(x) for x in cat_hp.dtype.names]\n",
    "        cat_hp = changeColumnName(cat_hp, name = 'HPIX', rename = 'PIXEL')\n",
    "        cat_hp['PIXEL'] = hpind\n",
    "        \n",
    "        #sfdmap = changeColumnName( sysMap_ge, name = 'SIGNAL', rename = 'SFD98' )\n",
    "\n",
    "\n",
    "        try : \n",
    "\n",
    "            cat_Data = pd.DataFrame(cat_hp)\n",
    "            sfdData = pd.DataFrame(sysMap)\n",
    "            matched = pd.merge(cat_Data, sfdData, on='PIXEL', how='left', \n",
    "                               suffixes = ['','_sys'], left_index=False, right_index=False)\n",
    "        except ValueError :\n",
    "            print(\"Big-endian buffer not supported on little-endian compiler\")\n",
    "            print(\"Doing byte swapping ....\")\n",
    "\n",
    "            cat_hp = np.array(cat_hp).byteswap().newbyteorder()\n",
    "            #sfdmap = np.array(sfdmap).byteswap().newbyteorder()\n",
    "            cat_Data = pd.DataFrame(cat_hp)\n",
    "            sfdData = pd.DataFrame(sysMap)\n",
    "            \n",
    "\n",
    "            #print cat_Data.keys()\n",
    "            #print sfdData.keys()\n",
    "            matched = pd.merge(cat_Data, sfdData, on='PIXEL', how='left', \n",
    "                               suffixes = ['','_sys'], left_index=False, right_index=False)\n",
    "            \n",
    "        matched_arr = matched.to_records(index=False)\n",
    "        matched_arr.dtype.names = [str(x) for x in matched_arr.dtype.names]\n",
    "\n",
    "\n",
    "    else : matched_arr = cat\n",
    "\n",
    "    print('Adding SFD98 Shift ')\n",
    "    print('Bands :',  band)\n",
    "    print('coefficients = ', coeff)\n",
    "\n",
    "    for mag in ['MAG_MODEL', 'MAG_DETMODEL', 'MAG_AUTO']:\n",
    "        print('  Adding SFD to ', mag)\n",
    "        for i,b in enumerate(band):\n",
    "            matched_arr[mag + '_'+b] = matched_arr[mag + '_'+b] - matched_arr['EBV'] * coeff[i]    \n",
    "\n",
    "    return matched_arr\n",
    "\n",
    "params={'SFD98':True}\n",
    "if 'SFD98' in params : \n",
    "    if params['SFD98'] : \n",
    "        print('change reddening corrections from SLR to SFD98')\n",
    "        gold_st82 = RemovingSLRReddening(gold_st82)\n",
    "        gold_st82 = AddingSFD98Reddening(gold_st82, kind='STRIPE82')\n",
    "\n",
    "# flags and color cut\n",
    "mask_all = priorCut_test(gold_st82)\n",
    "gold_st82 = gold_st82[mask_all]\n",
    "print(gold_st82.size)"
   ]
  },
  {
   "cell_type": "code",
   "execution_count": 3,
   "id": "f6f0090c-6a7c-4cbe-a605-8fc51ebd305a",
   "metadata": {},
   "outputs": [
    {
     "name": "stdout",
     "output_type": "stream",
     "text": [
      "\n",
      "Calling catalogs >>>\n",
      "Y1A1_GOLD_slr_ebv_000007.fits\n",
      "Y1A1_GOLD_slr_ebv_000015.fits\n",
      "Y1A1_GOLD_slr_ebv_000008.fits\n",
      "Y1A1_GOLD_slr_ebv_000010.fits\n",
      "Y1A1_GOLD_slr_ebv_000009.fits\n",
      "Y1A1_GOLD_slr_ebv_000014.fits\n",
      "Y1A1_GOLD_slr_ebv_000003.fits\n",
      "Y1A1_GOLD_slr_ebv_000011.fits\n",
      "Y1A1_GOLD_slr_ebv_000004.fits\n",
      "Y1A1_GOLD_slr_ebv_000012.fits\n",
      "Y1A1_GOLD_slr_ebv_000005.fits\n",
      "Y1A1_GOLD_slr_ebv_000013.fits\n",
      "Y1A1_GOLD_slr_ebv_000001.fits\n",
      "Y1A1_GOLD_slr_ebv_000006.fits\n",
      "Y1A1_GOLD_slr_ebv_000002.fits\n",
      "reading 1/15 /fs/scratch/PCON0003/warner785/bwarner/gold_cat/Y1A1_GOLD_slr_ebv_000007.fits\n",
      "reading 2/15 /fs/scratch/PCON0003/warner785/bwarner/gold_cat/Y1A1_GOLD_slr_ebv_000015.fits\n",
      "reading 3/15 /fs/scratch/PCON0003/warner785/bwarner/gold_cat/Y1A1_GOLD_slr_ebv_000008.fits\n",
      "reading 4/15 /fs/scratch/PCON0003/warner785/bwarner/gold_cat/Y1A1_GOLD_slr_ebv_000010.fits\n",
      "reading 5/15 /fs/scratch/PCON0003/warner785/bwarner/gold_cat/Y1A1_GOLD_slr_ebv_000009.fits\n",
      "reading 6/15 /fs/scratch/PCON0003/warner785/bwarner/gold_cat/Y1A1_GOLD_slr_ebv_000014.fits\n",
      "reading 7/15 /fs/scratch/PCON0003/warner785/bwarner/gold_cat/Y1A1_GOLD_slr_ebv_000003.fits\n",
      "reading 8/15 /fs/scratch/PCON0003/warner785/bwarner/gold_cat/Y1A1_GOLD_slr_ebv_000011.fits\n",
      "reading 9/15 /fs/scratch/PCON0003/warner785/bwarner/gold_cat/Y1A1_GOLD_slr_ebv_000004.fits\n",
      "reading 10/15 /fs/scratch/PCON0003/warner785/bwarner/gold_cat/Y1A1_GOLD_slr_ebv_000012.fits\n",
      "reading 11/15 /fs/scratch/PCON0003/warner785/bwarner/gold_cat/Y1A1_GOLD_slr_ebv_000005.fits\n",
      "reading 12/15 /fs/scratch/PCON0003/warner785/bwarner/gold_cat/Y1A1_GOLD_slr_ebv_000013.fits\n",
      "reading 13/15 /fs/scratch/PCON0003/warner785/bwarner/gold_cat/Y1A1_GOLD_slr_ebv_000001.fits\n",
      "reading 14/15 /fs/scratch/PCON0003/warner785/bwarner/gold_cat/Y1A1_GOLD_slr_ebv_000006.fits\n",
      "reading 15/15 /fs/scratch/PCON0003/warner785/bwarner/gold_cat/Y1A1_GOLD_slr_ebv_000002.fits\n",
      "change reddening corrections from SLR to SFD98\n",
      "Removing SLR Shift \n",
      "  removing SLR from  MAG_MODEL\n",
      "  removing SLR from  MAG_DETMODEL\n",
      "  removing SLR from  MAG_AUTO\n",
      "Adding SFD98 Shift \n",
      "Bands : ['G', 'R', 'I', 'Z']\n",
      "coefficients =  [3.186, 2.14, 1.569, 1.196]\n",
      "  Adding SFD to  MAG_MODEL\n",
      "  Adding SFD to  MAG_DETMODEL\n",
      "  Adding SFD to  MAG_AUTO\n",
      "CHECK input catalog has only galaxies\n",
      "7015838\n"
     ]
    }
   ],
   "source": [
    "##SPT REGION catalog:\n",
    "\n",
    "# Calling Y1 GOLD in a small square area \n",
    "input_path = '/fs/scratch/PCON0003/warner785/bwarner/gold_cat/'\n",
    "input_keyword = 'Y1A1_GOLD_slr_ebv_'\n",
    "columns = ['FLAGS_GOLD', 'FLAGS_BADREGION', 'MAG_MODEL_G', 'MAG_MODEL_R', 'MAG_MODEL_I', 'MAG_MODEL_Z',\\\n",
    "               'MAG_DETMODEL_G', 'MAG_DETMODEL_R', 'MAG_DETMODEL_I', 'MAG_DETMODEL_Z', 'MAGERR_DETMODEL_G',\\\n",
    "               'MAGERR_DETMODEL_R', 'MAGERR_DETMODEL_I', 'MAGERR_DETMODEL_Z', 'MAGERR_MODEL_G', 'MAGERR_MODEL_R',\\\n",
    "               'MAGERR_MODEL_I', 'MAGERR_MODEL_Z', 'MAG_AUTO_G', 'MAG_AUTO_R', 'MAG_AUTO_I', 'MAG_AUTO_Z', 'RA',\\\n",
    "               'DEC', 'COADD_OBJECTS_ID', 'MODEST_CLASS', 'HPIX', 'DESDM_ZP',\\\n",
    "               'SLR_SHIFT_G','SLR_SHIFT_R', 'SLR_SHIFT_I', 'SLR_SHIFT_Z','EBV']\n",
    "gold_spt = io.SearchAndCallFits(path = input_path, keyword = input_keyword, columns=columns)\n",
    "gold_spt = gold_spt[(gold_spt['MODEST_CLASS'] == 1)&(gold_spt['FLAGS_GOLD'] == 0 )]\n",
    "\n",
    "#correct for SFD98:\n",
    "params={'SFD98':True}\n",
    "if 'SFD98' in params : \n",
    "    if params['SFD98'] : \n",
    "        print('change reddening corrections from SLR to SFD98')\n",
    "        gold_spt = RemovingSLRReddening(gold_spt)\n",
    "        gold_spt = AddingSFD98Reddening(gold_spt, kind='SPT')\n",
    "        \n",
    "# Apply the same color/mag cuts to exclude extreme color/mag sources //\n",
    "mask_magcut = priorCut_test(gold_spt)\n",
    "gold_spt = gold_spt[mask_magcut]\n",
    "        \n",
    "print(gold_spt.size)"
   ]
  },
  {
   "cell_type": "code",
   "execution_count": 4,
   "id": "ed06ba8b-f63a-4852-90bc-ccdbbd3da43e",
   "metadata": {},
   "outputs": [
    {
     "name": "stdout",
     "output_type": "stream",
     "text": [
      "\n",
      "Calling catalogs >>>\n",
      "Y1A1_GOLD_000007.fits\n",
      "Y1A1_GOLD_000002.fits\n",
      "Y1A1_GOLD_000008.fits\n",
      "Y1A1_GOLD_000006.fits\n",
      "Y1A1_GOLD_000013.fits\n",
      "Y1A1_GOLD_000015.fits\n",
      "Y1A1_GOLD_000011.fits\n",
      "Y1A1_GOLD_000004.fits\n",
      "Y1A1_GOLD_000010.fits\n",
      "Y1A1_GOLD_000009.fits\n",
      "Y1A1_GOLD_000012.fits\n",
      "Y1A1_GOLD_000014.fits\n",
      "Y1A1_GOLD_000003.fits\n",
      "Y1A1_GOLD_000001.fits\n",
      "Y1A1_GOLD_000005.fits\n",
      "reading 1/15 /fs/scratch/PCON0003/warner785/bwarner/gold_cat/GOLD_Y1A1/Y1A1_GOLD_000007.fits\n",
      "reading 2/15 /fs/scratch/PCON0003/warner785/bwarner/gold_cat/GOLD_Y1A1/Y1A1_GOLD_000002.fits\n",
      "reading 3/15 /fs/scratch/PCON0003/warner785/bwarner/gold_cat/GOLD_Y1A1/Y1A1_GOLD_000008.fits\n",
      "reading 4/15 /fs/scratch/PCON0003/warner785/bwarner/gold_cat/GOLD_Y1A1/Y1A1_GOLD_000006.fits\n",
      "reading 5/15 /fs/scratch/PCON0003/warner785/bwarner/gold_cat/GOLD_Y1A1/Y1A1_GOLD_000013.fits\n",
      "reading 6/15 /fs/scratch/PCON0003/warner785/bwarner/gold_cat/GOLD_Y1A1/Y1A1_GOLD_000015.fits\n",
      "reading 7/15 /fs/scratch/PCON0003/warner785/bwarner/gold_cat/GOLD_Y1A1/Y1A1_GOLD_000011.fits\n",
      "reading 8/15 /fs/scratch/PCON0003/warner785/bwarner/gold_cat/GOLD_Y1A1/Y1A1_GOLD_000004.fits\n",
      "reading 9/15 /fs/scratch/PCON0003/warner785/bwarner/gold_cat/GOLD_Y1A1/Y1A1_GOLD_000010.fits\n",
      "reading 10/15 /fs/scratch/PCON0003/warner785/bwarner/gold_cat/GOLD_Y1A1/Y1A1_GOLD_000009.fits\n",
      "reading 11/15 /fs/scratch/PCON0003/warner785/bwarner/gold_cat/GOLD_Y1A1/Y1A1_GOLD_000012.fits\n",
      "reading 12/15 /fs/scratch/PCON0003/warner785/bwarner/gold_cat/GOLD_Y1A1/Y1A1_GOLD_000014.fits\n",
      "reading 13/15 /fs/scratch/PCON0003/warner785/bwarner/gold_cat/GOLD_Y1A1/Y1A1_GOLD_000003.fits\n",
      "reading 14/15 /fs/scratch/PCON0003/warner785/bwarner/gold_cat/GOLD_Y1A1/Y1A1_GOLD_000001.fits\n",
      "reading 15/15 /fs/scratch/PCON0003/warner785/bwarner/gold_cat/GOLD_Y1A1/Y1A1_GOLD_000005.fits\n",
      "CHECK input catalog has only galaxies\n",
      "9312647\n"
     ]
    }
   ],
   "source": [
    "# other catalog for spt in directory: (for check)\n",
    "\n",
    "##SPT REGION catalog:\n",
    "\n",
    "# Calling Y1 GOLD in a small square area \n",
    "input_path = '/fs/scratch/PCON0003/warner785/bwarner/gold_cat/GOLD_Y1A1/'\n",
    "input_keyword = 'Y1A1'\n",
    "columns = ['FLAGS_GOLD', 'FLAGS_BADREGION', 'MAG_MODEL_G', 'MAG_MODEL_R', 'MAG_MODEL_I', 'MAG_MODEL_Z',\\\n",
    "               'MAG_DETMODEL_G', 'MAG_DETMODEL_R', 'MAG_DETMODEL_I', 'MAG_DETMODEL_Z', 'MAGERR_DETMODEL_G',\\\n",
    "               'MAGERR_DETMODEL_R', 'MAGERR_DETMODEL_I', 'MAGERR_DETMODEL_Z', 'MAGERR_MODEL_G', 'MAGERR_MODEL_R',\\\n",
    "               'MAGERR_MODEL_I', 'MAGERR_MODEL_Z', 'MAG_AUTO_G', 'MAG_AUTO_R', 'MAG_AUTO_I', 'MAG_AUTO_Z', 'RA',\\\n",
    "               'DEC', 'COADD_OBJECTS_ID', 'MODEST_CLASS', 'HPIX', 'DESDM_ZP']\n",
    "gold_spt2 = io.SearchAndCallFits(path = input_path, keyword = input_keyword, columns=columns)\n",
    "gold_spt2 = gold_spt2[(gold_spt2['MODEST_CLASS'] == 1)&(gold_spt2['FLAGS_GOLD'] == 0 )]\n",
    "\n",
    "\"\"\"#correct for SFD98:\n",
    "params={'SFD98':True}\n",
    "if 'SFD98' in params : \n",
    "    if params['SFD98'] : \n",
    "        print('change reddening corrections from SLR to SFD98')\n",
    "        gold_spt2 = RemovingSLRReddening(gold_spt2)\n",
    "        gold_spt2 = AddingSFD98Reddening(gold_spt2, kind='SPT')\"\"\"\n",
    "        \n",
    "# Apply the same color/mag cuts to exclude extreme color/mag sources //\n",
    "mask_magcut = priorCut_test(gold_spt2)\n",
    "gold_spt2 = gold_spt2[mask_magcut]\n",
    "        \n",
    "print(gold_spt2.size)\n",
    "\n",
    "#cuts could be different to begin with"
   ]
  },
  {
   "cell_type": "code",
   "execution_count": null,
   "id": "444feda0-0e31-4886-a434-b64f7d3c41f8",
   "metadata": {},
   "outputs": [],
   "source": [
    "#checking the magnitude cuts between the two sections:\n",
    "print(gold_spt['MAG_DETMODEL_R'])"
   ]
  },
  {
   "cell_type": "code",
   "execution_count": 27,
   "id": "3227d038-d750-4705-936e-bb9ccfa9fd44",
   "metadata": {},
   "outputs": [
    {
     "name": "stdout",
     "output_type": "stream",
     "text": [
      "[21.23384  20.250126 21.090021 ... 18.908398 21.241213 21.020706]\n"
     ]
    }
   ],
   "source": [
    "print(gold_st82['MAG_DETMODEL_R'])\n",
    "\n",
    "#these appear to have been applied correctly"
   ]
  },
  {
   "cell_type": "code",
   "execution_count": 5,
   "id": "0c181329-9b3b-4e8f-9fdf-98e37c09dc4a",
   "metadata": {},
   "outputs": [
    {
     "name": "stdout",
     "output_type": "stream",
     "text": [
      "7015838\n",
      "70158\n"
     ]
    }
   ],
   "source": [
    "#takes 1 percent of spt sample:\n",
    "print(gold_spt.size)\n",
    "gold_spt_random_ind = np.random.choice(np.arange(gold_spt.size), size = int(gold_spt.size/100))\n",
    "gold_spt_random = gold_spt[gold_spt_random_ind]\n",
    "print(gold_spt_random.size)"
   ]
  },
  {
   "cell_type": "code",
   "execution_count": 6,
   "id": "8db3643e-44d2-4144-9e49-c6e6ec3a012d",
   "metadata": {},
   "outputs": [
    {
     "name": "stdout",
     "output_type": "stream",
     "text": [
      "694475\n",
      "7015838\n"
     ]
    }
   ],
   "source": [
    "#implement Cuts.keepgoodregion:\n",
    "\n",
    "def keepGoodRegion(des, hpInd = False, balrog=None):\n",
    "    import healpy as hp\n",
    "    import fitsio\n",
    "    # 25 is the faintest object detected by DES\n",
    "    # objects larger than 25 considered as Noise\n",
    "    \n",
    "    path = '/fs/scratch/PCON0003/warner785/bwarner/'\n",
    "    #LSSGoldmask = fitsio.read(path+'Y1LSSmask_v2_il22_seeil4.0_nside4096ring_redlimcut.fits')\n",
    "    #LSSGoldmask = fitsio.read(path+'Y1LSSmask_v1_il22seeil4.04096ring_redlimcut.fits')\n",
    "    LSSGoldmask = fitsio.read(path+'Y1LSSmask_v2_redlimcut_il22_seeil4.0_4096ring.fits')\n",
    "    #Y1LSSmask_v1_il22seeil4.04096ring_redlimcut.fits\n",
    "    #frac_cut = LSSGoldmask['FRAC'] > 0.8\n",
    "    #ind_good_ring = LSSGoldmask['PIXEL'][frac_cut]\n",
    "    ind_good_ring = LSSGoldmask['PIXEL']\n",
    "    \n",
    "    # healpixify the catalog.\n",
    "    nside=4096\n",
    "    # Convert silly ra/dec to silly HP angular coordinates.\n",
    "    phi = des['RA'] * np.pi / 180.0\n",
    "    theta = ( 90.0 - des['DEC'] ) * np.pi/180.0\n",
    "\n",
    "    hpInd = hp.ang2pix(nside,theta,phi,nest=False)\n",
    "    keep = np.in1d(hpInd, ind_good_ring)\n",
    "    des = des[keep]\n",
    "    if hpInd is True:\n",
    "        return ind_good_ring\n",
    "    else:\n",
    "        return des\n",
    "    \n",
    "gold_st82 = keepGoodRegion(gold_st82)\n",
    "print(gold_st82.size)\n",
    "gold_spt = keepGoodRegion(gold_spt)\n",
    "print(gold_spt.size)"
   ]
  },
  {
   "cell_type": "code",
   "execution_count": 7,
   "id": "4e4e4ce2-18d9-4d74-bd50-b77ae9c405a9",
   "metadata": {},
   "outputs": [
    {
     "name": "stdout",
     "output_type": "stream",
     "text": [
      "694475\n",
      "70158\n",
      "Using central 100% to set range.\n"
     ]
    }
   ],
   "source": [
    "# compare GOLD catalog in ST82 and SPT\n",
    "\n",
    "print(gold_st82.size)\n",
    "print(gold_spt_random.size)\n",
    "\n",
    "#des gold catalog probability distribution\n",
    "\n",
    "X_train, Xcov_train = mixing_color(gold_st82)\n",
    "X_sample_st82 = X_train\n",
    "X_train2, Xcov_train2 = mixing_color(gold_spt_random)\n",
    "X_sample_spt = X_train2\n",
    "\n",
    "# Comparison. st82 vs. spt sample from the fitted gaussian mixture model (visual)\n",
    "# des gold galaxies: should be same because isotropic-- color cuts problem?\n",
    "doVisualization_1d( data=[X_sample_st82, X_sample_spt], \n",
    "                   labels = ['mag r', 'mag i', 'g-r', 'r-i'], \n",
    "                   ranges = None, \n",
    "                   name = ['st82', 'spt'], \n",
    "                   weight = [None,None], \n",
    "                   nbins=100, filename = 'ST82vSPT.png')"
   ]
  },
  {
   "cell_type": "code",
   "execution_count": 19,
   "id": "e665d407-7464-4713-9686-5f68dc1f4049",
   "metadata": {},
   "outputs": [
    {
     "name": "stdout",
     "output_type": "stream",
     "text": [
      "17719345\n",
      "17719345\n",
      "Using central 100% to set range.\n"
     ]
    },
    {
     "data": {
      "image/png": "[encoded data removed]",
      "text/plain": [
       "<Figure size 1152x288 with 4 Axes>"
      ]
     },
     "metadata": {
      "needs_background": "light"
     },
     "output_type": "display_data"
    }
   ],
   "source": [
    "# compare different SPT fits files\n",
    "\n",
    "print(gold_spt.size)\n",
    "print(gold_spt2.size)\n",
    "\n",
    "#des gold catalog probability distribution\n",
    "\n",
    "X_train, Xcov_train = mixing_color(gold_spt)\n",
    "X_sample_spt = X_train\n",
    "X_train2, Xcov_train2 = mixing_color(gold_spt2)\n",
    "X_sample_spt2 = X_train2\n",
    "\n",
    "# Comparison. st82 vs. spt sample from the fitted gaussian mixture model (visual)\n",
    "# des gold galaxies: should be same because isotropic-- color cuts problem?\n",
    "doVisualization_1d( data=[X_sample_spt, X_sample_spt2], \n",
    "                   labels = ['mag r', 'mag i', 'g-r', 'r-i'], \n",
    "                   ranges = None, \n",
    "                   name = ['spt', 'spt2'], \n",
    "                   weight = [None,None],\n",
    "                   nbins=100)\n",
    "\n",
    "#these match"
   ]
  },
  {
   "cell_type": "code",
   "execution_count": 7,
   "id": "e6493121-b79d-4859-82b5-aa8abbc58c6f",
   "metadata": {},
   "outputs": [
    {
     "name": "stdout",
     "output_type": "stream",
     "text": [
      "total num of train 258884\n",
      "\n",
      "--------------------------------\n",
      " applying DES veto mask to CMASS\n",
      "--------------------------------\n",
      "num of train_sample after des veto 13046\n",
      "681836\n",
      "('num of cmass in des side', 12639, '(5%)')\n"
     ]
    }
   ],
   "source": [
    "#cmass catalog\n",
    "\n",
    "import fitsio\n",
    "cmass = esutil.io.read('/fs/scratch/PCON0003/warner785/bwarner/cmass-dr12v4-S-Reid-full.dat.fits')\n",
    "train_sample = esutil.io.read('/fs/scratch/PCON0003/warner785/bwarner/cmass-dr12v4-S-Reid-full.dat.fits')\n",
    "#train_sample = esutil.io.read('/global/cscratch1/sd/bwarner/galaxy_DR11v1_CMASS_South-photoObj.fits.gz')\n",
    "print('total num of train', train_sample.size)\n",
    "print('\\n--------------------------------\\n applying DES veto mask to CMASS\\n--------------------------------')   \n",
    "train_sample = keepGoodRegion(train_sample)\n",
    "\n",
    "#fitsio.write( output_dir+'/cmass_in_st82.fits', train_sample)\n",
    "\n",
    "print('num of train_sample after des veto', train_sample.size)\n",
    "\n",
    "#matching:\n",
    "# find cmass in des_gold side --------------------\n",
    "\n",
    "mg1, mg2, _ = esutil.htm.HTM(10).match(train_sample['RA'], train_sample['DEC'], gold_st82['RA'], \\\n",
    "                                         gold_st82['DEC'],2./3600, maxmatch=1)\n",
    "cmass_mask = np.zeros(gold_st82.size, dtype=bool)\n",
    "cmass_mask[mg2] = 1\n",
    "clean_cmass_data_des, nocmass = gold_st82[cmass_mask], gold_st82[~cmass_mask]\n",
    "\n",
    "print(nocmass.size)\n",
    "\n",
    "print(('num of cmass in des side', clean_cmass_data_des.size, '({:0.0f}%)'.format(clean_cmass_data_des.size*1./cmass.size*100.)))"
   ]
  },
  {
   "cell_type": "code",
   "execution_count": 8,
   "id": "4d73fd40-f9db-49ec-8282-0dd9d4fa0204",
   "metadata": {},
   "outputs": [
    {
     "name": "stdout",
     "output_type": "stream",
     "text": [
      "calculate loglikelihood gaussian with multiprocessing module\n",
      "multiprocessing 100 % \n",
      "calculate loglikelihood gaussian with multiprocessing module\n",
      "multiprocessing 100 % \n",
      "0.01819935922819396\n"
     ]
    }
   ],
   "source": [
    "###FIGURE 4:\n",
    "\n",
    "clf_cmass = XD_fitting_X( None, None, pickleFileName = '../output/test/fitting/gauss_cmass_v4.pkl')               \n",
    "clf_no = XD_fitting_X( None, None, pickleFileName = '../output/test/fitting/gauss_no_v4.pkl')\n",
    "\n",
    "cmass_fraction = clean_cmass_data_des.size *1./gold_st82.size\n",
    "#call in catalogs\n",
    "# Assigning CMASS probabilities to Gold Y1 in Stripe 82.\n",
    "mag = ['MAG_MODEL', 'MAG_DETMODEL'] \n",
    "err = ['MAGERR_MODEL', 'MAGERR_DETMODEL'] \n",
    "filter = ['G', 'R', 'I']\n",
    "\n",
    "mask_half = gold_st82['RA'] < 320\n",
    "gold_st82_train = gold_st82[mask_half] #-- y1: gold_st82\n",
    "gold_st82_test = gold_st82[~mask_half] #-- y1: gold_spt (same method)\n",
    "\n",
    "mask_half = clean_cmass_data_des['RA'] < 320\n",
    "cmass_train = clean_cmass_data_des[mask_half]\n",
    "cmass_test = clean_cmass_data_des[~mask_half]\n",
    "\n",
    "\n",
    "clean_dmass_prob = assignCMASSProb(clean_cmass_data_des, clf_cmass, clf_no, \n",
    "                     cmass_fraction =cmass_fraction\n",
    ", \n",
    "                     mag=mag, err=err, filter=filter ) \n",
    "#dmass_st82 = io.SearchAndCallFits(path = rootdir, keyword='gold_st82_prob.fits')\n",
    "#this is simply gold_st82 with all cuts made\n",
    "#XD of y1 gold des in st82 -- with membership probability\n",
    "dmass_st82 = clean_dmass_prob # actual CMASS gal in val set\n",
    "\n",
    "gold_st82_val = assignCMASSProb(gold_st82, clf_cmass, clf_no, \n",
    "                     cmass_fraction = cmass_fraction\n",
    ", \n",
    "                     mag=mag, err=err, filter=filter )\n",
    "\n",
    "# Assigning CMASS probabilities to Gold Y1 in SPT.\n",
    "mag = ['MAG_MODEL', 'MAG_DETMODEL'] \n",
    "err = ['MAGERR_MODEL', 'MAGERR_DETMODEL'] \n",
    "filter = ['G', 'R', 'I']\n",
    "gold_spt_test = assignCMASSProb(gold_spt_random, clf_cmass, clf_no, \n",
    "                     cmass_fraction = cmass_fraction\n",
    ", \n",
    "                     mag=mag, err=err, filter=filter )\n",
    "#dmass_spt = io.SearchAndCallFits(path = rootdir, keyword='dmass_spt_sys_v3.fits')\n",
    "#gold_spt data\n",
    "#XD of y1 gold des in spt -- with membership probability\n",
    "dmass_spt = gold_spt_test\n",
    "\n",
    "print(cmass_fraction)"
   ]
  },
  {
   "cell_type": "code",
   "execution_count": 9,
   "id": "9e667bfc-49bf-459d-96e3-4cf4e549a9e2",
   "metadata": {},
   "outputs": [
    {
     "name": "stdout",
     "output_type": "stream",
     "text": [
      "calculate loglikelihood gaussian with multiprocessing module\n",
      "multiprocessing 100 % \n",
      "calculate loglikelihood gaussian with multiprocessing module\n",
      "multiprocessing 100 % \n",
      "calculate loglikelihood gaussian with multiprocessing module\n",
      "multiprocessing 100 % \n",
      "0.01819935922819396\n"
     ]
    }
   ],
   "source": [
    "# for Figure 3\n",
    "\n",
    "\n",
    "clf_cmass = XD_fitting_X( None, None, pickleFileName = '../output/test/fitting/gauss_cmass_v4.pkl')               \n",
    "clf_no = XD_fitting_X( None, None, pickleFileName = '../output/test/fitting/gauss_no_v4.pkl')\n",
    "\n",
    "cmass_fraction = clean_cmass_data_des.size *1./gold_st82.size\n",
    "#call in catalogs\n",
    "# Assigning CMASS probabilities to Gold Y1 in Stripe 82.\n",
    "mag = ['MAG_MODEL', 'MAG_DETMODEL'] \n",
    "err = ['MAGERR_MODEL', 'MAGERR_DETMODEL'] \n",
    "filter = ['G', 'R', 'I']\n",
    "\n",
    "mask_half = gold_st82['RA'] < 320\n",
    "gold_st82_train = gold_st82[mask_half] #-- y1: gold_st82\n",
    "gold_st82_test = gold_st82[~mask_half] #-- y1: gold_spt (same method)\n",
    "\n",
    "mask_half = clean_cmass_data_des['RA'] < 320\n",
    "cmass_train = clean_cmass_data_des[mask_half]\n",
    "cmass_test = clean_cmass_data_des[~mask_half]\n",
    "\n",
    "\n",
    "clean_dmass_prob = assignCMASSProb(cmass_test, clf_cmass, clf_no, \n",
    "                     cmass_fraction =cmass_fraction\n",
    ", \n",
    "                     mag=mag, err=err, filter=filter ) \n",
    "#dmass_st82 = io.SearchAndCallFits(path = rootdir, keyword='gold_st82_prob.fits')\n",
    "#this is simply gold_st82 with all cuts made\n",
    "#XD of y1 gold des in st82 -- with membership probability\n",
    "dmass_st82 = clean_dmass_prob # actual CMASS gal in val set\n",
    "\n",
    "gold_st82_val = assignCMASSProb(gold_st82_test, clf_cmass, clf_no, \n",
    "                     cmass_fraction = cmass_fraction\n",
    ", \n",
    "                     mag=mag, err=err, filter=filter )\n",
    "\n",
    "# Assigning CMASS probabilities to Gold Y1 in SPT.\n",
    "mag = ['MAG_MODEL', 'MAG_DETMODEL'] \n",
    "err = ['MAGERR_MODEL', 'MAGERR_DETMODEL'] \n",
    "filter = ['G', 'R', 'I']\n",
    "gold_spt_test = assignCMASSProb(gold_spt_random, clf_cmass, clf_no, \n",
    "                     cmass_fraction = cmass_fraction\n",
    ", \n",
    "                     mag=mag, err=err, filter=filter )\n",
    "#dmass_spt = io.SearchAndCallFits(path = rootdir, keyword='dmass_spt_sys_v3.fits')\n",
    "#gold_spt data\n",
    "#XD of y1 gold des in spt -- with membership probability\n",
    "dmass_spt = gold_spt_test\n",
    "\n",
    "print(cmass_fraction)"
   ]
  },
  {
   "cell_type": "code",
   "execution_count": 19,
   "id": "0641c863-a5e9-44a6-bfef-cc7e3874b000",
   "metadata": {},
   "outputs": [],
   "source": [
    "#dmass_st82['CMASS_PROB'].min()\n",
    "#N, _ = np.histogram(dmass_st82['CMASS_PROB'], bins=pbin)\n",
    "\n",
    "fig, ax = plt.subplots()\n",
    "ax.hist(dmass_st82['CMASS_PROB'])\n",
    "fig.savefig('histogram.png')"
   ]
  },
  {
   "cell_type": "code",
   "execution_count": 27,
   "id": "585bb869-24cd-478b-91ae-e1692c20793e",
   "metadata": {},
   "outputs": [
    {
     "name": "stdout",
     "output_type": "stream",
     "text": [
      "('FLAGS_GOLD', 'FLAGS_BADREGION', 'MAG_MODEL_G', 'MAG_MODEL_R', 'MAG_MODEL_I', 'MAG_MODEL_Z', 'MAG_DETMODEL_G', 'MAG_DETMODEL_R', 'MAG_DETMODEL_I', 'MAG_DETMODEL_Z', 'MAGERR_DETMODEL_G', 'MAGERR_DETMODEL_R', 'MAGERR_DETMODEL_I', 'MAGERR_DETMODEL_Z', 'MAGERR_MODEL_G', 'MAGERR_MODEL_R', 'MAGERR_MODEL_I', 'MAGERR_MODEL_Z', 'MAG_AUTO_G', 'MAG_AUTO_R', 'MAG_AUTO_I', 'MAG_AUTO_Z', 'RA', 'DEC', 'COADD_OBJECTS_ID', 'MODEST_CLASS', 'HPIX', 'DESDM_ZP', 'EBV', 'CMASS_PROB')\n",
      "('COADD_OBJECTS_ID', 'RA', 'DEC', 'EBV', 'MAG_AUTO_G', 'MAG_AUTO_I', 'MAG_AUTO_R', 'MAG_AUTO_Z', 'MAG_MODEL_G', 'MAG_MODEL_I', 'MAG_MODEL_R', 'MAG_MODEL_Z', 'MAG_DETMODEL_G', 'MAG_DETMODEL_I', 'MAG_DETMODEL_R', 'MAG_DETMODEL_Z', 'MAGERR_MODEL_G', 'MAGERR_MODEL_R', 'MAGERR_MODEL_I', 'MAGERR_MODEL_Z', 'MAGERR_DETMODEL_G', 'MAGERR_DETMODEL_R', 'MAGERR_DETMODEL_I', 'MAGERR_DETMODEL_Z', 'SLR_SHIFT_G', 'SLR_SHIFT_R', 'SLR_SHIFT_I', 'SLR_SHIFT_Z', 'SLR_SHIFT_Y', 'FLAGS_BADREGION', 'FLAGS_GOLD', 'DESDM_ZP', 'MODEST_CLASS', 'HPIX')\n"
     ]
    }
   ],
   "source": [
    "print(dmass_spt.dtype.names)\n",
    "print(clean_cmass_data_des.dtype.names)"
   ]
  },
  {
   "cell_type": "code",
   "execution_count": 8,
   "id": "9ea7e075-6ac3-44ef-9047-cf77bb383963",
   "metadata": {},
   "outputs": [
    {
     "name": "stdout",
     "output_type": "stream",
     "text": [
      "0 14.265369095656302\n",
      "1 8.96431679721497\n",
      "2 7.769602025476699\n",
      "3 7.611361658359048\n",
      "4 7.010048263311972\n",
      "5 8.157290924914946\n",
      "6 8.418387530659071\n",
      "7 9.874198908141468\n",
      "8 12.11330010285624\n",
      "9 15.81612469340929\n"
     ]
    },
    {
     "data": {
      "image/png": "[encoded data removed]",
      "text/plain": [
       "<Figure size 1440x720 with 10 Axes>"
      ]
     },
     "metadata": {
      "needs_background": "light"
     },
     "output_type": "display_data"
    }
   ],
   "source": [
    "import matplotlib.pyplot as plt\n",
    "from matplotlib.ticker import FormatStrFormatter\n",
    "%matplotlib inline\n",
    "\n",
    "probcut = 0.0\n",
    "np.linspace(0.0, 1.5, 6)\n",
    "\n",
    "labels = [r'${\\rm train}$', r'{\\rm DMASS}']\n",
    "catlist = [dmass_st82, dmass_spt[dmass_spt['CMASS_PROB']>0.00]]\n",
    "cbin = np.linspace(0.,1.5, 80)\n",
    "probcut = 0\n",
    "fig, ax = plt.subplots(2,5, figsize=(20,10))\n",
    "ax = ax.ravel()\n",
    "\n",
    "for i in range(10):     \n",
    "    for la, cat in zip(labels, catlist) :     \n",
    "        mask = (cat['CMASS_PROB'] > probcut) & (cat['CMASS_PROB'] < probcut + 0.1) \\\n",
    "        & (cat['CMASS_PROB'] > 0.00) # & ( (cat['MAG_MODEL_G']- cat['MAG_MODEL_R']) < 1.6)\n",
    "        \n",
    "        histtype = 'stepfilled'\n",
    "        alpha = 0.5\n",
    "        if la == r'{\\rm DMASS}' : \n",
    "            Nhist, _,_ = ax[i].hist( (cat['MAG_DETMODEL_R']-cat['MAG_DETMODEL_I']- (cat['MAG_DETMODEL_G']-cat['MAG_DETMODEL_R'])/8.)[mask], \\\n",
    "                    bins = cbin, density= True, alpha = 1.0, label = la + ''.format(np.sum(mask)*1./mask.size*100), \\\n",
    "                       histtype='step', color = 'black', weights = cat[mask]['CMASS_PROB']);  \n",
    "        \n",
    "        else : \n",
    "            Nhist2, _, _=ax[i].hist( (cat['MAG_DETMODEL_R']-cat['MAG_DETMODEL_I']- (cat['MAG_DETMODEL_G']-cat['MAG_DETMODEL_R'])/8.)[mask], \\\n",
    "                    bins = cbin, density = True, alpha = alpha, label = la + ''.format(np.sum(mask)*1./mask.size*100), \\\n",
    "                     histtype=histtype); \n",
    "            fraction_train = np.sum(mask)*1./mask.size*100\n",
    "            print(i, fraction_train)\n",
    "            \n",
    "        #print probcut, probcut+0.1, np.sum(mask), la\n",
    "        #print i,\n",
    "        tag = r' ${:0.0f} < P(\\%) < {:0.0f}$'.format(probcut*100, probcut*100+10)\n",
    "        \n",
    "        #ax[i].set_xlim(0, 1.0)\n",
    "        if i in [0, 5]: \n",
    "            ax[i].legend(loc=1, fontsize = 18)\n",
    "            ax[i].set_ylabel(r'$n_{\\rm gal}$', fontsize = 30)\n",
    "            \n",
    "#            ax[i].set_yticks([0, max(Nhist.max(), Nhist2.max())])\n",
    "#            ax[i].set_yticklabels(['$0$', '$1$'])\n",
    "            ax[i].text(0.95, 0.7, r'$f_{\\rm train}=$'+'$~{:0.1f}\\%$'.format(fraction_train), \n",
    "                   fontsize = 20, ha='right', va='top', transform=ax[i].transAxes)\n",
    "        else : \n",
    "            #pass\n",
    "            ax[i].get_yaxis().set_visible(False)\n",
    "            ax[i].text(0.95, 0.85, r'$f_{\\rm train}=$'+'$~{:0.1f}\\%$'.format(fraction_train), \n",
    "                   fontsize = 20, ha='right', va='top', transform=ax[i].transAxes)\n",
    "        ax[i].set_title(tag, fontsize=25)\n",
    "        ax[i].set_xlabel(r'$d_{\\perp, {\\rm DES}}$', fontsize = 30)\n",
    "        ax[i].set_xlim(-0.1, 1.6)\n",
    "        ax[i].set_xticks(np.linspace(0.0, 1.5, 4))\n",
    "        #ax[i].set_xticklabels(np.linspace(0.0, 1.5, 6))\n",
    "        #ax[i].set_ylabel(r'$n(z)$')\n",
    "        #ax[i].get_yaxis().set_visible(False)\n",
    "        ax[i].tick_params(labelsize = 22)\n",
    "        #ax[i].set_ylim(0,7)\n",
    "        \n",
    "        #ax[i].xaxis.set_major_formatter(FormatStrFormatter('%.1f'))\n",
    "        #elif i != 2 : ax[i].get_yaxis().set_visible(False)\n",
    "        \n",
    "    probcut += 0.1\n",
    "    \n",
    "#ax[0].get_yaxis().set_visible(True)\n",
    "#ax[5].get_yaxis().set_visible(True)\n",
    "\n",
    "\n",
    "fig.tight_layout()\n",
    "fig.subplots_adjust(wspace=0.05, hspace=0.5);"
   ]
  },
  {
   "cell_type": "code",
   "execution_count": 28,
   "id": "14cb9f37-b121-46d8-aa1d-0cc618c5d0c6",
   "metadata": {},
   "outputs": [
    {
     "name": "stdout",
     "output_type": "stream",
     "text": [
      "pbin = [0.   0.05 0.1  0.15 0.2  0.25 0.3  0.35 0.4  0.45 0.5  0.55 0.6  0.65\n",
      " 0.7  0.75 0.8  0.85 0.9  0.95 1.  ]\n",
      "frac =  [0.00170232 0.06225026 0.10803746 0.16193481 0.19897484 0.25261217\n",
      " 0.30786517 0.33226066 0.37512953 0.4556213  0.51576577 0.55112219\n",
      " 0.60027285 0.6743555  0.70555556 0.74005305 0.79333333 0.83503982\n",
      " 0.86881473 0.9093432 ]\n"
     ]
    },
    {
     "ename": "NameError",
     "evalue": "name 'stop' is not defined",
     "output_type": "error",
     "traceback": [
      "\u001b[0;31m---------------------------------------------------------------------------\u001b[0m",
      "\u001b[0;31mNameError\u001b[0m                                 Traceback (most recent call last)",
      "\u001b[0;32m<ipython-input-28-2f549da2492c>\u001b[0m in \u001b[0;36m<module>\u001b[0;34m\u001b[0m\n\u001b[1;32m     19\u001b[0m \u001b[0mfig\u001b[0m\u001b[0;34m.\u001b[0m\u001b[0msavefig\u001b[0m\u001b[0;34m(\u001b[0m\u001b[0;34m'test_histo.pdf'\u001b[0m\u001b[0;34m)\u001b[0m\u001b[0;34m\u001b[0m\u001b[0m\n\u001b[1;32m     20\u001b[0m \u001b[0;34m\u001b[0m\u001b[0m\n\u001b[0;32m---> 21\u001b[0;31m \u001b[0mstop\u001b[0m\u001b[0;34m\u001b[0m\u001b[0m\n\u001b[0m\u001b[1;32m     22\u001b[0m \u001b[0;34m\u001b[0m\u001b[0m\n\u001b[1;32m     23\u001b[0m \u001b[0mprint\u001b[0m\u001b[0;34m(\u001b[0m\u001b[0mN\u001b[0m\u001b[0;34m.\u001b[0m\u001b[0msize\u001b[0m\u001b[0;34m)\u001b[0m\u001b[0;34m\u001b[0m\u001b[0m\n",
      "\u001b[0;31mNameError\u001b[0m: name 'stop' is not defined"
     ]
    }
   ],
   "source": [
    "# FIGURE 3\n",
    "pbin = np.linspace(0, 1, 21)\n",
    "pcenter = pbin[:-1] + 0.025\n",
    "N, _ = np.histogram(dmass_st82['CMASS_PROB'], bins=pbin)\n",
    "print('pbin =', pbin)\n",
    "import matplotlib.pyplot as plt\n",
    "#pbin, frac, fracerr = np.genfromtxt('../paper_figure/model_probability.txt', unpack=True)\n",
    "\n",
    "M, _ = np.histogram(gold_st82_val['CMASS_PROB'], bins=pbin)\n",
    "\n",
    "frac = N/M\n",
    "print('frac = ', frac)\n",
    "fracerr = 1/np.sqrt(N) #1 / sqrt(number of true cmass galaxies in each bin)\n",
    "\n",
    "fig, ax = plt.subplots()\n",
    "ax.errorbar( pcenter, frac, yerr=fracerr)\n",
    "ax.plot([0,1], [0,1], ls='--', color='grey')\n",
    "\n",
    "fig.savefig('test_histo.pdf')\n",
    "\n",
    "stop\n",
    "\n",
    "print(N.size)\n",
    "print(pbin.size)\n",
    "\n",
    "fig, ax = plt.subplots(figsize = (5.3,5))\n",
    "\n",
    "ax.bar(pcenter, frac , 5, edgecolor='w',\n",
    "        color='grey', yerr = fracerr, \n",
    "        alpha = 0.5, label = 'test', error_kw = {'elinewidth':0.01, 'capsize':2.4} )\n",
    "\n",
    "ax.plot([0,1], [0,1], ls='--', color='grey')\n",
    "ax.set_ylim(0,1)\n",
    "ax.set_xlim(0,1)\n",
    "\n",
    "ax.set_xlabel(r'{\\rm Model Probability (\\%)}', fontsize = 20)\n",
    "ax.set_ylabel(r'$f_{ {\\rm CMASS},~i}~(\\%)$', fontsize = 20)\n",
    "ax.tick_params(axis='both', labelsize = 15)\n",
    "#ax.legend(loc='best', fontsize=15)\n",
    "fig.tight_layout()\n",
    "fig.savefig('model_probability.pdf')"
   ]
  },
  {
   "cell_type": "code",
   "execution_count": null,
   "id": "4894f184-191e-48cf-848e-17e0d5a75439",
   "metadata": {},
   "outputs": [],
   "source": [
    "pbin, frac, fracerr = np.genfromtxt('../paper_figure/model_probability.txt', unpack=True)\n",
    "\n",
    "\n",
    "fig, ax = plt.subplots(figsize = (5.3,5))\n",
    "\n",
    "ax.bar(pbin, frac , 5, edgecolor='w',\n",
    "        color='grey', yerr = fracerr, \n",
    "        alpha = 0.5, label = 'test', error_kw = {'elinewidth':1, 'capsize':2.4} )\n",
    "\n",
    "ax.plot([0,100], [0,100], ls='--', color='grey')\n",
    "ax.set_ylim(0,100)\n",
    "ax.set_xlim(0,100)\n",
    "\n",
    "ax.set_xlabel(r'{\\rm Model Probability (\\%)}', fontsize = 20)\n",
    "ax.set_ylabel(r'$f_{ {\\rm CMASS},~i}~(\\%)$', fontsize = 20)\n",
    "ax.tick_params(axis='both', labelsize = 15)\n",
    "#ax.legend(loc='best', fontsize=15)\n",
    "fig.tight_layout()\n",
    "#fig.savefig('../paper_figure/model_probability.pdf'"
   ]
  },
  {
   "cell_type": "code",
   "execution_count": 16,
   "id": "1f709119-eff3-44bc-a3f3-efef65981d84",
   "metadata": {},
   "outputs": [
    {
     "data": {
      "text/plain": [
       "'/users/PCON0003/warner785/DMASSY3/code_py3'"
      ]
     },
     "execution_count": 16,
     "metadata": {},
     "output_type": "execute_result"
    }
   ],
   "source": [
    "# second try at Figure 3:\n",
    "\n",
    "pbin, frac, fracerr = np.genfromtxt('../paper_figure/model_probability.txt', unpack=True)\n",
    "\n",
    "\n",
    "fig, ax = plt.subplots(figsize = (5.3,5))\n",
    "\n",
    "ax.bar(pbin, frac , 5, edgecolor='w',\n",
    "        color='grey', yerr = fracerr, \n",
    "        alpha = 0.5, label = 'test', error_kw = {'elinewidth':1, 'capsize':2.4} )\n",
    "\n",
    "ax.plot([0,100], [0,100], ls='--', color='grey')\n",
    "ax.set_ylim(0,100)\n",
    "ax.set_xlim(0,100)\n",
    "\n",
    "ax.set_xlabel(r'{\\rm Model Probability (\\%)}', fontsize = 20)\n",
    "ax.set_ylabel(r'$f_{ {\\rm CMASS},~i}~(\\%)$', fontsize = 20)\n",
    "ax.tick_params(axis='both', labelsize = 15)\n",
    "#ax.legend(loc='best', fontsize=15)\n",
    "fig.tight_layout()\n",
    "#fig.savefig('../paper_figure/model_probability.pdf')"
   ]
  },
  {
   "cell_type": "code",
   "execution_count": 21,
   "id": "6cc8dc84-f09f-4286-b38a-a7dd2e19078a",
   "metadata": {},
   "outputs": [
    {
     "name": "stdout",
     "output_type": "stream",
     "text": [
      "cmassfrac       dmass_st82.fits                   log\n",
      "config.yaml     gold_st82_XD_cmass.pkl            log.v2\n",
      "config.yaml.v2  gold_st82_XD_cmass.pkl.n_cluster\n",
      "dmass_spt.fits  gold_st82_XD_no.pkl.n_cluster\n"
     ]
    }
   ],
   "source": [
    "ls ../code/output/n2"
   ]
  },
  {
   "cell_type": "code",
   "execution_count": 9,
   "id": "6f57d639-3710-419b-bfeb-900703295153",
   "metadata": {},
   "outputs": [],
   "source": [
    "#Probability function comparision (my full run versus Su's run):\n",
    "#(two random samples from the probability functions: pickle file)\n",
    "\n",
    "# my pickle file\n",
    "outdir = '../output/test/fitting/'\n",
    "cmass_pickle = outdir+'gauss_cmass.pkl'\n",
    "no_pickle = outdir+'gauss_no.pkl'\n",
    "clf_cmass = XD_fitting_X( None, None, pickleFileName = cmass_pickle) \n",
    "clf_nocmass = XD_fitting_X( None, None, pickleFileName = no_pickle) \n",
    "X_sample_nocmass_warner = clf_nocmass.sample(200000)\n",
    "X_sample_cmass_warner = clf_cmass.sample(200000)"
   ]
  },
  {
   "cell_type": "code",
   "execution_count": 10,
   "id": "7b34af38-7742-41e7-bea9-b3cff6cf2d70",
   "metadata": {},
   "outputs": [],
   "source": [
    "#CMASS Probability Distribution\n",
    "\n",
    "X_train, Xcov_train = mixing_color(clean_cmass_data_des)\n",
    "X_sample_cmass = X_train"
   ]
  },
  {
   "cell_type": "code",
   "execution_count": 15,
   "id": "252afc6e-4faa-414a-a816-3d35441402b5",
   "metadata": {},
   "outputs": [],
   "source": [
    "#nonCMASS Probability Distribution\n",
    "\n",
    "X_train, Xcov_train = mixing_color(nocmass)\n",
    "X_sample_nocmass = X_train\n",
    "X_train2, Xcov_train2 = mixing_color(clean_cmass_data_des)\n",
    "X_sample_cmass = X_train2"
   ]
  },
  {
   "cell_type": "code",
   "execution_count": 11,
   "id": "2498a0a8-2d92-4d76-9963-06021ec0a545",
   "metadata": {},
   "outputs": [
    {
     "name": "stdout",
     "output_type": "stream",
     "text": [
      "<xd.XDGMM object at 0x2ad3f3aff080>\n",
      "<xd.XDGMM object at 0x2ad3f3b1ea90>\n"
     ]
    }
   ],
   "source": [
    "#Running Su pickle\n",
    "\n",
    "import pickle\n",
    "\n",
    "# Su's pickle file: changing from 'b'\n",
    "outdir = '../code/output/n2/'\n",
    "cmass_su_pickle = outdir+'gold_st82_XD_cmass_full_tol1e5.pkl'  # cmass Su\n",
    "cmass_su_no_pickle = outdir+'gold_st82_XD_no_full_tol1e5.pkl' # noncmass Su\n",
    "#clf_cmass_su = XD_fitting_X( None, None, pickleFileName = cmass_su_pickle)\n",
    "\n",
    "f = open(cmass_su_pickle, 'rb')\n",
    "g = open(cmass_su_no_pickle, 'rb')\n",
    "\n",
    "clf_cmass_su = pickle.load(f, encoding=\"latin1\")\n",
    "clf_cmass_su = clf_cmass_su['retval']\n",
    "clf_nocmass_su = pickle.load(g, encoding=\"latin1\")\n",
    "clf_nocmass_su = clf_nocmass_su['retval']\n",
    "X_sample_cmass_su = clf_cmass_su.sample(200000)        # non-cmass model\n",
    "X_sample_nocmass_su = clf_nocmass_su.sample(200000)\n",
    "print(clf_cmass_su)\n",
    "print(clf_nocmass_su)"
   ]
  },
  {
   "cell_type": "code",
   "execution_count": 18,
   "id": "bc816dff-f930-49fc-a2aa-d8a92b7630af",
   "metadata": {},
   "outputs": [
    {
     "name": "stdout",
     "output_type": "stream",
     "text": [
      "Using central 100% to set range.\n"
     ]
    },
    {
     "data": {
      "image/png": "[encoded data removed]",
      "text/plain": [
       "<Figure size 1152x288 with 4 Axes>"
      ]
     },
     "metadata": {
      "needs_background": "light"
     },
     "output_type": "display_data"
    }
   ],
   "source": [
    "# Comparison. train vs. random sample from the fitted gaussian mixture model (visual)-- CMASS\n",
    "doVisualization_1d( data=[X_sample_cmass, X_sample_cmass_warner], \n",
    "                   labels = ['mag r', 'mag i', 'g-r', 'r-i'], \n",
    "                   ranges = None, \n",
    "                   name = ['train sample', 'model sample'], \n",
    "                   weight = [None,None], \n",
    "                   nbins=100)"
   ]
  },
  {
   "cell_type": "code",
   "execution_count": 16,
   "id": "1d699853-b34a-4190-87c7-bdbbf4e95fe9",
   "metadata": {},
   "outputs": [
    {
     "name": "stdout",
     "output_type": "stream",
     "text": [
      "Using central 100% to set range.\n"
     ]
    }
   ],
   "source": [
    "# Comparison. train vs. random sample from the fitted gaussian mixture model (visual)-- CMASS\n",
    "doVisualization_1d( data=[X_sample_nocmass, X_sample_nocmass_su], \n",
    "                   labels = ['mag r', 'mag i', 'g-r', 'r-i'], \n",
    "                   ranges = None, \n",
    "                   name = ['train sample', 'model sample'], \n",
    "                   weight = [None,None], \n",
    "                   nbins=100, filename = 'suVnocmass.png')"
   ]
  },
  {
   "cell_type": "code",
   "execution_count": 21,
   "id": "fc077f34-2c81-434e-a6e3-c4e770f916c6",
   "metadata": {},
   "outputs": [
    {
     "name": "stdout",
     "output_type": "stream",
     "text": [
      "Using central 100% to set range.\n",
      "writing output plot to: ..//spt_v3_diagnostic_histograms_1d.pdf\n"
     ]
    },
    {
     "data": {
      "image/png": "[encoded data removed]",
      "text/plain": [
       "<Figure size 1152x288 with 4 Axes>"
      ]
     },
     "metadata": {
      "needs_background": "light"
     },
     "output_type": "display_data"
    },
    {
     "data": {
      "image/png": "[encoded data removed]",
      "text/plain": [
       "<Figure size 1152x288 with 4 Axes>"
      ]
     },
     "metadata": {
      "needs_background": "light"
     },
     "output_type": "display_data"
    }
   ],
   "source": [
    "# Comparison. train vs. random sample from the fitted gaussian mixture model (visual)-- nonCMASS\n",
    "#comparison of fitted function: trained versus fitted\n",
    "doVisualization_1d( data=[X_sample_nocmass, X_sample_nocmass_warner], \n",
    "                   labels = ['mag r', 'mag i', 'g-r', 'r-i'], \n",
    "                   ranges = None, \n",
    "                   name = ['X_sample_nocmass', 'X_sample_nocmass_warner'], \n",
    "                   weight = [None,None], \n",
    "                   nbins=100)\n",
    "\n",
    "#Figure 5: full histogram of dmass data\n",
    "\n",
    "#CMASS distribution is correct: nonCMASS distribution is wrong--- need to fit nonCMASS distribution\n",
    "X_train, Xcov_train = mixing_color(clean_cmass_data_des)\n",
    "X_test,_ = mixing_color(dmass_spt)\n",
    "\n",
    "weight = dmass_spt['CMASS_PROB']\n",
    "# Plotting all\n",
    "labels = [r'${R_{\\rm MOD}}$', r'${I_{\\rm MOD}}$', r'$G_{\\rm DET}-R_{\\rm DET}$', r'$R_{\\rm DET}-I_{\\rm DET}$']\n",
    "ranges =  [[17,22], [16,21], [-.5,2], [-.5,1.5]]\n",
    "hist_plot( X_train, X_test, labels = labels, ranges = ranges,\\\n",
    "                         name =[r'{\\rm train}',r'{\\rm DMASS}' ], nbins=70, \\\n",
    "                   weight=[None, weight], outdir = '../', prefix='spt_v3_')\n",
    "\n",
    "#nonCMASS distribution problem for G-R panel--- sample size?\n",
    "\n",
    "#second: computed cmass probab. based on bayesian stats. \n",
    "#line = (equation 15) total probab. of cmass and non\n",
    "#gray = actual cmass data"
   ]
  },
  {
   "cell_type": "code",
   "execution_count": 41,
   "id": "be742537-d067-443d-9def-f44bc7cf3e06",
   "metadata": {},
   "outputs": [],
   "source": [
    "import pickle\n",
    "f = open(cmass_su_pickle, 'rb')\n",
    "cmass_su = pickle.load(f, encoding=\"bytes\")"
   ]
  },
  {
   "cell_type": "code",
   "execution_count": 42,
   "id": "21301680-41ed-448d-a4b0-ade8aed75cbb",
   "metadata": {},
   "outputs": [],
   "source": [
    "f = open(cmass_pickle, 'rb')\n",
    "cmass_warner = pickle.load(f, encoding=\"bytes\")"
   ]
  },
  {
   "cell_type": "code",
   "execution_count": 46,
   "id": "6e74e1fd-f924-408c-a365-d2865d31b3c5",
   "metadata": {},
   "outputs": [
    {
     "data": {
      "text/plain": [
       "{b'kwargs': {b'n_cl': None, b'init_params': None},\n",
       " b'args': (array([[20.69549942, 19.86739922,  1.74149895,  0.86300087,  0.39699936],\n",
       "         [20.72130013, 19.92510033,  1.78319931,  0.83620071,  0.40659904],\n",
       "         [20.81640053, 19.92749977,  1.7954998 ,  0.96399879,  0.43880081],\n",
       "         ...,\n",
       "         [20.29470062, 19.6826992 ,  1.167799  ,  0.65579987,  0.32999992],\n",
       "         [20.3295002 , 19.60029984,  1.66820145,  0.79710007,  0.35919952],\n",
       "         [20.32119942, 19.6678009 ,  1.9022007 ,  0.84259987,  0.42749977]]),\n",
       "  array([[[ 1.18810000e-04,  0.00000000e+00,  0.00000000e+00,\n",
       "            0.00000000e+00,  0.00000000e+00],\n",
       "          [ 0.00000000e+00,  8.83600005e-05,  0.00000000e+00,\n",
       "            0.00000000e+00,  0.00000000e+00],\n",
       "          [ 0.00000000e+00,  0.00000000e+00,  1.94309012e-03,\n",
       "           -9.40900063e-05,  0.00000000e+00],\n",
       "          [ 0.00000000e+00,  0.00000000e+00, -9.40900063e-05,\n",
       "            1.43090008e-04, -4.90000020e-05],\n",
       "          [ 0.00000000e+00,  0.00000000e+00,  0.00000000e+00,\n",
       "           -4.90000020e-05,  2.02760006e-04]],\n",
       "  \n",
       "         [[ 3.16839985e-04,  0.00000000e+00,  0.00000000e+00,\n",
       "            0.00000000e+00,  0.00000000e+00],\n",
       "          [ 0.00000000e+00,  1.10249995e-04,  0.00000000e+00,\n",
       "            0.00000000e+00,  0.00000000e+00],\n",
       "          [ 0.00000000e+00,  0.00000000e+00,  2.04580004e-03,\n",
       "           -1.79559982e-04,  0.00000000e+00],\n",
       "          [ 0.00000000e+00,  0.00000000e+00, -1.79559982e-04,\n",
       "            2.23119980e-04, -4.35599977e-05],\n",
       "          [ 0.00000000e+00,  0.00000000e+00,  0.00000000e+00,\n",
       "           -4.35599977e-05,  1.45569993e-04]],\n",
       "  \n",
       "         [[ 4.12090041e-04,  0.00000000e+00,  0.00000000e+00,\n",
       "            0.00000000e+00,  0.00000000e+00],\n",
       "          [ 0.00000000e+00,  1.69000006e-04,  0.00000000e+00,\n",
       "            0.00000000e+00,  0.00000000e+00],\n",
       "          [ 0.00000000e+00,  0.00000000e+00,  3.30984997e-03,\n",
       "           -2.07359990e-04,  0.00000000e+00],\n",
       "          [ 0.00000000e+00,  0.00000000e+00, -2.07359990e-04,\n",
       "            2.59199987e-04, -5.18399975e-05],\n",
       "          [ 0.00000000e+00,  0.00000000e+00,  0.00000000e+00,\n",
       "           -5.18399975e-05,  2.10599996e-04]],\n",
       "  \n",
       "         ...,\n",
       "  \n",
       "         [[ 4.49439976e-04,  0.00000000e+00,  0.00000000e+00,\n",
       "            0.00000000e+00,  0.00000000e+00],\n",
       "          [ 0.00000000e+00,  2.46489974e-04,  0.00000000e+00,\n",
       "            0.00000000e+00,  0.00000000e+00],\n",
       "          [ 0.00000000e+00,  0.00000000e+00,  1.08945000e-03,\n",
       "           -2.07359990e-04,  0.00000000e+00],\n",
       "          [ 0.00000000e+00,  0.00000000e+00, -2.07359990e-04,\n",
       "            3.03399989e-04, -9.60399993e-05],\n",
       "          [ 0.00000000e+00,  0.00000000e+00,  0.00000000e+00,\n",
       "           -9.60399993e-05,  3.09200004e-04]],\n",
       "  \n",
       "         [[ 2.31040001e-04,  0.00000000e+00,  0.00000000e+00,\n",
       "            0.00000000e+00,  0.00000000e+00],\n",
       "          [ 0.00000000e+00,  1.41610013e-04,  0.00000000e+00,\n",
       "            0.00000000e+00,  0.00000000e+00],\n",
       "          [ 0.00000000e+00,  0.00000000e+00,  1.54601001e-03,\n",
       "           -1.32250003e-04,  0.00000000e+00],\n",
       "          [ 0.00000000e+00,  0.00000000e+00, -1.32250003e-04,\n",
       "            1.81250005e-04, -4.90000020e-05],\n",
       "          [ 0.00000000e+00,  0.00000000e+00,  0.00000000e+00,\n",
       "           -4.90000020e-05,  1.47010003e-04]],\n",
       "  \n",
       "         [[ 4.70890023e-04,  0.00000000e+00,  0.00000000e+00,\n",
       "            0.00000000e+00,  0.00000000e+00],\n",
       "          [ 0.00000000e+00,  1.63839984e-04,  0.00000000e+00,\n",
       "            0.00000000e+00,  0.00000000e+00],\n",
       "          [ 0.00000000e+00,  0.00000000e+00,  2.83333012e-03,\n",
       "           -2.01639996e-04,  0.00000000e+00],\n",
       "          [ 0.00000000e+00,  0.00000000e+00, -2.01639996e-04,\n",
       "            2.59399996e-04, -5.77600003e-05],\n",
       "          [ 0.00000000e+00,  0.00000000e+00,  0.00000000e+00,\n",
       "           -5.77600003e-05,  1.28319996e-04]]])),\n",
       " b'retval': <xd.XDGMM at 0x2b35e981acf8>,\n",
       " b'funcname': b'compute_XD'}"
      ]
     },
     "execution_count": 46,
     "metadata": {},
     "output_type": "execute_result"
    }
   ],
   "source": [
    "cmass_su"
   ]
  },
  {
   "cell_type": "code",
   "execution_count": 47,
   "id": "19863c80-1fcb-4a0a-89eb-bc3a994d9952",
   "metadata": {},
   "outputs": [
    {
     "data": {
      "text/plain": [
       "{'funcname': 'compute_XD',\n",
       " 'retval': <xd.XDGMM at 0x2b35e981ab70>,\n",
       " 'args': (array([[20.01748085, 19.24313354,  1.82705688,  0.77434731],\n",
       "         [20.15995979, 19.26239777,  0.99136543,  0.89756203],\n",
       "         [19.76826096, 19.24153328,  0.85228539,  0.52672768],\n",
       "         ...,\n",
       "         [20.52250481, 19.75559425,  1.76026154,  0.76691055],\n",
       "         [20.67845917, 19.82345009,  1.89496613,  0.85500908],\n",
       "         [20.74147987, 19.96460724,  1.78933907,  0.77687263]]),\n",
       "  array([[[ 4.62400021e-05,  0.00000000e+00,  0.00000000e+00,\n",
       "            0.00000000e+00],\n",
       "          [ 0.00000000e+00,  2.80899985e-05,  0.00000000e+00,\n",
       "            0.00000000e+00],\n",
       "          [ 0.00000000e+00,  0.00000000e+00,  9.46239987e-04,\n",
       "           -4.62400021e-05],\n",
       "          [ 0.00000000e+00,  0.00000000e+00, -4.62400021e-05,\n",
       "            7.43300006e-05]],\n",
       "  \n",
       "         [[ 8.46400071e-05,  0.00000000e+00,  0.00000000e+00,\n",
       "            0.00000000e+00],\n",
       "          [ 0.00000000e+00,  4.09599961e-05,  0.00000000e+00,\n",
       "            0.00000000e+00],\n",
       "          [ 0.00000000e+00,  0.00000000e+00,  2.86280003e-04,\n",
       "           -8.46400071e-05],\n",
       "          [ 0.00000000e+00,  0.00000000e+00, -8.46400071e-05,\n",
       "            1.25600003e-04]],\n",
       "  \n",
       "         [[ 5.92899996e-05,  0.00000000e+00,  0.00000000e+00,\n",
       "            0.00000000e+00],\n",
       "          [ 0.00000000e+00,  7.05599959e-05,  0.00000000e+00,\n",
       "            0.00000000e+00],\n",
       "          [ 0.00000000e+00,  0.00000000e+00,  2.03290005e-04,\n",
       "           -5.92899996e-05],\n",
       "          [ 0.00000000e+00,  0.00000000e+00, -5.92899996e-05,\n",
       "            1.29849996e-04]],\n",
       "  \n",
       "         ...,\n",
       "  \n",
       "         [[ 7.22500045e-05,  0.00000000e+00,  0.00000000e+00,\n",
       "            0.00000000e+00],\n",
       "          [ 0.00000000e+00,  3.72100003e-05,  0.00000000e+00,\n",
       "            0.00000000e+00],\n",
       "          [ 0.00000000e+00,  0.00000000e+00,  1.44125007e-03,\n",
       "           -7.22500045e-05],\n",
       "          [ 0.00000000e+00,  0.00000000e+00, -7.22500045e-05,\n",
       "            1.09460005e-04]],\n",
       "  \n",
       "         [[ 1.69000006e-04,  0.00000000e+00,  0.00000000e+00,\n",
       "            0.00000000e+00],\n",
       "          [ 0.00000000e+00,  5.32900012e-05,  0.00000000e+00,\n",
       "            0.00000000e+00],\n",
       "          [ 0.00000000e+00,  0.00000000e+00,  2.54069001e-03,\n",
       "           -1.69000006e-04],\n",
       "          [ 0.00000000e+00,  0.00000000e+00, -1.69000006e-04,\n",
       "            2.22290008e-04]],\n",
       "  \n",
       "         [[ 9.99999975e-05,  0.00000000e+00,  0.00000000e+00,\n",
       "            0.00000000e+00],\n",
       "          [ 0.00000000e+00,  5.04099989e-05,  0.00000000e+00,\n",
       "            0.00000000e+00],\n",
       "          [ 0.00000000e+00,  0.00000000e+00,  2.10703996e-03,\n",
       "           -9.99999975e-05],\n",
       "          [ 0.00000000e+00,  0.00000000e+00, -9.99999975e-05,\n",
       "            1.50409996e-04]]])),\n",
       " 'kwargs': {'init_params': None,\n",
       "  'n_cl': None,\n",
       "  'n_iter': 10000,\n",
       "  'tol': 1e-05,\n",
       "  'verbose': True}}"
      ]
     },
     "execution_count": 47,
     "metadata": {},
     "output_type": "execute_result"
    }
   ],
   "source": [
    "cmass_warner"
   ]
  },
  {
   "cell_type": "code",
   "execution_count": null,
   "id": "07ffd892-aded-4e4e-b425-a7fcd10e9504",
   "metadata": {},
   "outputs": [],
   "source": [
    "help(XD_fitting_X)"
   ]
  },
  {
   "cell_type": "code",
   "execution_count": 20,
   "id": "15478a18-436c-43e5-bbf3-f060725bcb47",
   "metadata": {},
   "outputs": [],
   "source": [
    "\n",
    "def hist_plot( true, data1, labels = None, ranges = None, name = None, weight = [None,None], nbins=100, prefix= 'default', outdir='./'):\n",
    "\n",
    "\n",
    "    if labels == None:\n",
    "        print(\" always label your axes! you must populate the 'labels' keyword with one entry for each dimension of the data.\")\n",
    "        stop\n",
    "    else:\n",
    "        ndim = len(labels)\n",
    "\n",
    "    if ranges == None:\n",
    "        # try to figure out the correct axis ranges.\n",
    "        print(\"Using central 98% to set range.\")\n",
    "        ranges = []\n",
    "        for i in range(ndim):\n",
    "            ranges.append( np.percentile(real_data[:,i],[1.,99.]) )\n",
    "\n",
    "    fig,axes = plt.subplots(nrows=1, ncols= ndim, figsize= (4*ndim, 4) )\n",
    "\n",
    "    #print weight[0], weight[1].size, data1[:,0].size\n",
    "    for i in range(ndim):\n",
    "        xbins = np.linspace(ranges[i][0],ranges[i][1], nbins)\n",
    "        axes[i].hist(true[:,i],bins=xbins, density= True, label=name[0], weights=weight[0], alpha = 0.5, color ='grey')\n",
    "        Nhist, _, _=axes[i].hist(data1[:,i],bins=xbins, density = True, alpha=1.0,label=name[1], weights=weight[1], histtype='step', color='k', lw=1)\n",
    "        axes[i].set_xlabel(labels[i], fontsize = 20)\n",
    "        #axes[i].hist(data2[:,i],bins=xbins,normed=True,alpha=0.5,label='data2')\n",
    "        if i == 0 :\n",
    "            axes[i].set_yticks([0, Nhist.max()])\n",
    "            axes[i].set_yticklabels(['$0$', '$1$'])\n",
    "            axes[i].set_ylabel(r'$n_{\\rm gal}$', fontsize=20)\n",
    "        axes[i].get_yaxis().set_visible(False)\n",
    "        axes[i].tick_params(labelsize=15)\n",
    "        axes[i].legend(loc='best',fontsize = 15)\n",
    "\n",
    "    axes[0].get_yaxis().set_visible(True)\n",
    "    \n",
    "    \n",
    "    \n",
    "    filename = outdir+\"/\"+prefix+\"diagnostic_histograms_1d.pdf\"\n",
    "    print(\"writing output plot to: \"+filename)\n",
    "    fig.tight_layout()\n",
    "    fig.subplots_adjust(wspace=0.05, hspace=0.5);\n",
    "    fig.savefig(filename)\n",
    "    #plt.close(fig)"
   ]
  },
  {
   "cell_type": "code",
   "execution_count": 59,
   "id": "60aecc59-a043-4544-871b-bdd71ffe81ea",
   "metadata": {},
   "outputs": [
    {
     "name": "stdout",
     "output_type": "stream",
     "text": [
      "writing output plot to: ..//spt_v3_diagnostic_histograms_1d.pdf\n"
     ]
    },
    {
     "data": {
      "image/png": "[encoded data removed]",
      "text/plain": [
       "<Figure size 1152x288 with 4 Axes>"
      ]
     },
     "metadata": {
      "needs_background": "light"
     },
     "output_type": "display_data"
    }
   ],
   "source": [
    "#Figure 5: full histogram of dmass data\n",
    "\n",
    "#CMASS distribution is correct: nonCMASS distribution is wrong--- need to fit nonCMASS distribution\n",
    "X_train, Xcov_train = mixing_color(clean_cmass_data_des)\n",
    "X_test,_ = mixing_color(dmass_spt)\n",
    "\n",
    "weight = dmass_spt['CMASS_PROB']\n",
    "# Plotting all\n",
    "labels = [r'${R_{\\rm MOD}}$', r'${I_{\\rm MOD}}$', r'$G_{\\rm DET}-R_{\\rm DET}$', r'$R_{\\rm DET}-I_{\\rm DET}$']\n",
    "ranges =  [[17,22], [16,21], [-.5,2], [-.5,1.5]]\n",
    "hist_plot( X_train, X_test, labels = labels, ranges = ranges,\\\n",
    "                         name =[r'{\\rm train}',r'{\\rm DMASS}' ], nbins=70, \\\n",
    "                   weight=[None, weight], outdir = '../', prefix='spt_v3_')"
   ]
  },
  {
   "cell_type": "code",
   "execution_count": 3,
   "id": "00884068-5649-42b5-8986-261caece3d56",
   "metadata": {},
   "outputs": [
    {
     "name": "stdout",
     "output_type": "stream",
     "text": [
      "Help on function SearchAndCallFits in module cmass_modules.io:\n",
      "\n",
      "SearchAndCallFits(path=None, keyword=None, no_keyword=None, columns=None)\n",
      "\n"
     ]
    }
   ],
   "source": [
    "help(io.SearchAndCallFits)"
   ]
  },
  {
   "cell_type": "code",
   "execution_count": 5,
   "id": "996570bd-c21a-4417-8456-6f77e195b552",
   "metadata": {},
   "outputs": [
    {
     "name": "stdout",
     "output_type": "stream",
     "text": [
      "\n",
      "Calling catalogs >>>\n",
      "Y1A1_GOLD_STRIPE82_v2_000006.fits\n",
      "Y1A1_GOLD_STRIPE82_v2_000005.fits\n",
      "Y1A1_GOLD_STRIPE82_v2_000002.fits\n",
      "Y1A1_GOLD_STRIPE82_v2_000008.fits\n",
      "Y1A1_GOLD_STRIPE82_v2_000003.fits\n",
      "Y1A1_GOLD_STRIPE82_v2_000001.fits\n",
      "Y1A1_GOLD_STRIPE82_v2_000007.fits\n",
      "Y1A1_GOLD_STRIPE82_v2_000004.fits\n",
      "reading 1/8 /fs/scratch/PCON0003/warner785/bwarner/gold_cat/GOLD_STRIPE82/Y1A1_GOLD_STRIPE82_v2_000006.fits\n",
      "reading 2/8 /fs/scratch/PCON0003/warner785/bwarner/gold_cat/GOLD_STRIPE82/Y1A1_GOLD_STRIPE82_v2_000005.fits\n",
      "reading 3/8 /fs/scratch/PCON0003/warner785/bwarner/gold_cat/GOLD_STRIPE82/Y1A1_GOLD_STRIPE82_v2_000002.fits\n",
      "reading 4/8 /fs/scratch/PCON0003/warner785/bwarner/gold_cat/GOLD_STRIPE82/Y1A1_GOLD_STRIPE82_v2_000008.fits\n",
      "reading 5/8 /fs/scratch/PCON0003/warner785/bwarner/gold_cat/GOLD_STRIPE82/Y1A1_GOLD_STRIPE82_v2_000003.fits\n",
      "reading 6/8 /fs/scratch/PCON0003/warner785/bwarner/gold_cat/GOLD_STRIPE82/Y1A1_GOLD_STRIPE82_v2_000001.fits\n",
      "reading 7/8 /fs/scratch/PCON0003/warner785/bwarner/gold_cat/GOLD_STRIPE82/Y1A1_GOLD_STRIPE82_v2_000007.fits\n",
      "reading 8/8 /fs/scratch/PCON0003/warner785/bwarner/gold_cat/GOLD_STRIPE82/Y1A1_GOLD_STRIPE82_v2_000004.fits\n",
      "9050359\n"
     ]
    }
   ],
   "source": [
    "# catalogs without cuts applied:\n",
    "\n",
    "##ST82 REGION catalog:\n",
    "\n",
    "train_path = '/fs/scratch/PCON0003/warner785/bwarner/gold_cat/GOLD_STRIPE82/'\n",
    "path =  train_path\n",
    "train_keyword = 'Y1A1_GOLD_STRIPE82_v2'\n",
    "    \n",
    "columns = ['FLAGS_GOLD', 'FLAGS_BADREGION', 'MAG_MODEL_G', 'MAG_MODEL_R', 'MAG_MODEL_I', 'MAG_MODEL_Z',\\\n",
    "               'MAG_DETMODEL_G', 'MAG_DETMODEL_R', 'MAG_DETMODEL_I', 'MAG_DETMODEL_Z', 'MAGERR_DETMODEL_G',\\\n",
    "               'MAGERR_DETMODEL_R', 'MAGERR_DETMODEL_I', 'MAGERR_DETMODEL_Z', 'MAGERR_MODEL_G', 'MAGERR_MODEL_R',\\\n",
    "               'MAGERR_MODEL_I', 'MAGERR_MODEL_Z', 'MAG_AUTO_G', 'MAG_AUTO_R', 'MAG_AUTO_I', 'MAG_AUTO_Z', 'RA',\\\n",
    "               'DEC', 'COADD_OBJECTS_ID', 'MODEST_CLASS', 'HPIX', 'DESDM_ZP',\\\n",
    "               'SLR_SHIFT_G', 'SLR_SHIFT_R', 'SLR_SHIFT_I', 'SLR_SHIFT_Z', 'SLR_SHIFT_Y', 'EBV']\n",
    "\n",
    "gold_st82_pure = io.SearchAndCallFits(path = train_path, columns = columns, keyword = train_keyword )\n",
    "gold_st82_pure = gold_st82_pure[(gold_st82_pure['MODEST_CLASS'] == 1)&(gold_st82_pure['FLAGS_GOLD'] == 0 )]\n",
    "print(gold_st82_pure.size)"
   ]
  },
  {
   "cell_type": "code",
   "execution_count": 24,
   "id": "3ed62a41-ffda-4025-a064-9a7f09d4d2ff",
   "metadata": {},
   "outputs": [
    {
     "name": "stdout",
     "output_type": "stream",
     "text": [
      "\n",
      "Calling catalogs >>>\n",
      "Y1A1_GOLD_slr_ebv_000007.fits\n",
      "Y1A1_GOLD_slr_ebv_000008.fits\n",
      "Y1A1_GOLD_slr_ebv_000009.fits\n",
      "Y1A1_GOLD_slr_ebv_000003.fits\n",
      "Y1A1_GOLD_slr_ebv_000004.fits\n",
      "Y1A1_GOLD_slr_ebv_000005.fits\n",
      "Y1A1_GOLD_slr_ebv_000001.fits\n",
      "Y1A1_GOLD_slr_ebv_000006.fits\n",
      "Y1A1_GOLD_slr_ebv_000002.fits\n",
      "reading 1/9 /fs/scratch/PCON0003/warner785/bwarner/gold_cat/Y1A1_GOLD_slr_ebv_000007.fits\n",
      "reading 2/9 /fs/scratch/PCON0003/warner785/bwarner/gold_cat/Y1A1_GOLD_slr_ebv_000008.fits\n",
      "reading 3/9 /fs/scratch/PCON0003/warner785/bwarner/gold_cat/Y1A1_GOLD_slr_ebv_000009.fits\n",
      "reading 4/9 /fs/scratch/PCON0003/warner785/bwarner/gold_cat/Y1A1_GOLD_slr_ebv_000003.fits\n",
      "reading 5/9 /fs/scratch/PCON0003/warner785/bwarner/gold_cat/Y1A1_GOLD_slr_ebv_000004.fits\n",
      "reading 6/9 /fs/scratch/PCON0003/warner785/bwarner/gold_cat/Y1A1_GOLD_slr_ebv_000005.fits\n",
      "reading 7/9 /fs/scratch/PCON0003/warner785/bwarner/gold_cat/Y1A1_GOLD_slr_ebv_000001.fits\n",
      "reading 8/9 /fs/scratch/PCON0003/warner785/bwarner/gold_cat/Y1A1_GOLD_slr_ebv_000006.fits\n",
      "reading 9/9 /fs/scratch/PCON0003/warner785/bwarner/gold_cat/Y1A1_GOLD_slr_ebv_000002.fits\n",
      "58386848\n"
     ]
    }
   ],
   "source": [
    "##SPT REGION catalog: (only part of)\n",
    "\n",
    "input_path = '/fs/scratch/PCON0003/warner785/bwarner/gold_cat/'\n",
    "input_keyword = 'Y1A1_GOLD_slr_ebv_00000'\n",
    "columns = ['FLAGS_GOLD', 'FLAGS_BADREGION', 'MAG_MODEL_G', 'MAG_MODEL_R', 'MAG_MODEL_I', 'MAG_MODEL_Z',\\\n",
    "               'MAG_DETMODEL_G', 'MAG_DETMODEL_R', 'MAG_DETMODEL_I', 'MAG_DETMODEL_Z', 'MAGERR_DETMODEL_G',\\\n",
    "               'MAGERR_DETMODEL_R', 'MAGERR_DETMODEL_I', 'MAGERR_DETMODEL_Z', 'MAGERR_MODEL_G', 'MAGERR_MODEL_R',\\\n",
    "               'MAGERR_MODEL_I', 'MAGERR_MODEL_Z', 'MAG_AUTO_G', 'MAG_AUTO_R', 'MAG_AUTO_I', 'MAG_AUTO_Z', 'RA',\\\n",
    "               'DEC', 'COADD_OBJECTS_ID', 'MODEST_CLASS', 'HPIX', 'DESDM_ZP',\\\n",
    "               'SLR_SHIFT_G','SLR_SHIFT_R', 'SLR_SHIFT_I', 'SLR_SHIFT_Z','EBV']\n",
    "gold_spt_pure = io.SearchAndCallFits(path = input_path, keyword = input_keyword, columns=columns)\n",
    "gold_spt_pure = gold_spt_pure[(gold_spt_pure['MODEST_CLASS'] == 1)&(gold_spt_pure['FLAGS_GOLD'] == 0 )]\n",
    "\n",
    "print(gold_spt_pure.size)"
   ]
  },
  {
   "cell_type": "code",
   "execution_count": 25,
   "id": "6d4fc272-8cd5-4ce3-87cf-d130b3a1d976",
   "metadata": {},
   "outputs": [
    {
     "name": "stdout",
     "output_type": "stream",
     "text": [
      "58386848\n",
      "583868\n"
     ]
    }
   ],
   "source": [
    "#takes 1 percent of spt sample:\n",
    "print(gold_spt_pure.size)\n",
    "gold_spt_random_ind = np.random.choice(np.arange(gold_spt_pure.size), size = int(gold_spt_pure.size/100))\n",
    "gold_spt_random = gold_spt_pure[gold_spt_random_ind]\n",
    "print(gold_spt_random.size)"
   ]
  },
  {
   "cell_type": "code",
   "execution_count": 26,
   "id": "811157e6-cfe8-41c7-a835-86423215e7c1",
   "metadata": {},
   "outputs": [
    {
     "name": "stdout",
     "output_type": "stream",
     "text": [
      "9050359\n",
      "583868\n"
     ]
    },
    {
     "data": {
      "image/png": "[encoded data removed]",
      "text/plain": [
       "<Figure size 1152x288 with 4 Axes>"
      ]
     },
     "metadata": {
      "needs_background": "light"
     },
     "output_type": "display_data"
    }
   ],
   "source": [
    "# compare pure gold fits files\n",
    "\n",
    "print(gold_st82_pure.size)\n",
    "print(gold_spt_random.size)\n",
    "\n",
    "#des gold catalog probability distribution\n",
    "\n",
    "X_train, Xcov_train = mixing_color(gold_st82_pure)\n",
    "X_sample_st82 = X_train\n",
    "X_train2, Xcov_train2 = mixing_color(gold_spt_random)\n",
    "X_sample_spt = X_train2\n",
    "\n",
    "# Comparison. st82 vs. spt sample from the fitted gaussian mixture model (visual)\n",
    "# des gold galaxies: should be same because isotropic-- color cuts problem?\n",
    "doVisualization_1d( data=[X_sample_st82, X_sample_spt], \n",
    "                   labels = ['mag r', 'mag i', 'g-r', 'r-i'], \n",
    "                   ranges = [[16, 25], [16, 25] , [0, 2.5] , [0, 1.5] ], \n",
    "                   name = ['st82', 'spt'], \n",
    "                   weight = [None,None], \n",
    "                   nbins=100, filename = 'pure.png')"
   ]
  },
  {
   "cell_type": "code",
   "execution_count": 14,
   "id": "4109e516-aebe-4a68-be03-24c73a5fe568",
   "metadata": {},
   "outputs": [],
   "source": [
    "# make plots for other colors\n",
    "MAG_AUTO_i\n",
    "gold_st82['MAG_AUTO_i']\n",
    "\n",
    "#make plots for mag_griz (for mag_auto, mag_detmodel, mag_model), g-r, r-i, i-z\n",
    "# make histogram of mag_auto"
   ]
  }
 ],
 "metadata": {
  "kernelspec": {
   "display_name": "Python (DES_env)",
   "language": "python",
   "name": "des_env"
  },
  "language_info": {
   "codemirror_mode": {
    "name": "ipython",
    "version": 3
   },
   "file_extension": ".py",
   "mimetype": "text/x-python",
   "name": "python",
   "nbconvert_exporter": "python",
   "pygments_lexer": "ipython3",
   "version": "3.7.0"
  }
 },
 "nbformat": 4,
 "nbformat_minor": 5
}
