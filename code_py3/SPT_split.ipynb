{
 "cells": [
  {
   "cell_type": "code",
   "execution_count": 1,
   "id": "47843046-5231-41d6-bfd3-2d1f8fd27e2e",
   "metadata": {
    "tags": []
   },
   "outputs": [
    {
     "name": "stderr",
     "output_type": "stream",
     "text": [
      "WARNING: AstroMLDeprecationWarning: 'decorators' has been moved to 'astroML.utils' and will be removed from the main namespace in the future. [astroML.decorators]\n",
      "In /users/PCON0003/warner785/.conda/envs/DES_env/lib/python3.7/site-packages/matplotlib/mpl-data/stylelib/_classic_test.mplstyle: \n",
      "The savefig.frameon rcparam was deprecated in Matplotlib 3.1 and will be removed in 3.3.\n",
      "In /users/PCON0003/warner785/.conda/envs/DES_env/lib/python3.7/site-packages/matplotlib/mpl-data/stylelib/_classic_test.mplstyle: \n",
      "The verbose.level rcparam was deprecated in Matplotlib 3.1 and will be removed in 3.3.\n",
      "In /users/PCON0003/warner785/.conda/envs/DES_env/lib/python3.7/site-packages/matplotlib/mpl-data/stylelib/_classic_test.mplstyle: \n",
      "The verbose.fileo rcparam was deprecated in Matplotlib 3.1 and will be removed in 3.3.\n"
     ]
    },
    {
     "name": "stdout",
     "output_type": "stream",
     "text": [
      "/users/PCON0003/warner785/DMASS_XDGMM/code_py3\n",
      "/users/PCON0003/warner785/DMASSY3/code_py3\n"
     ]
    }
   ],
   "source": [
    "import os, sys\n",
    "import esutil\n",
    "import healpy as hp\n",
    "import numpy as np\n",
    "import fitsio\n",
    "sys.path.append('../')\n",
    "from xd import *\n",
    "from run_DMASS_Y3 import *\n",
    "from utils import *\n",
    "import healpy as hp\n",
    "from systematics import *\n",
    "from cmass_modules import io\n",
    "os.chdir('../../DMASS_XDGMM/code_py3/')\n",
    "print(os.getcwd())\n",
    "from xdgmm import XDGMM as XDGMM_Holoien\n",
    "os.chdir('../../DMASSY3/code_py3/')\n",
    "print(os.getcwd())\n",
    "\n",
    "gold_spt = fitsio.read('../output/test/train_cat/y3/gold_spt.fits')"
   ]
  },
  {
   "cell_type": "code",
   "execution_count": 2,
   "id": "3e0c27d3-9e44-4a90-a9c6-37354c109584",
   "metadata": {},
   "outputs": [
    {
     "data": {
      "image/png": "[encoded data removed]",
      "text/plain": [
       "<Figure size 720x576 with 1 Axes>"
      ]
     },
     "metadata": {
      "needs_background": "light"
     },
     "output_type": "display_data"
    }
   ],
   "source": [
    "#check spt fits file:\n",
    "spatialcheck([gold_spt], \n",
    "             label = ['SPT'], convert = None, ratag='RA',dectag='DEC')"
   ]
  },
  {
   "cell_type": "code",
   "execution_count": 3,
   "id": "5269c8d0-3831-4d88-b6ef-04168085b758",
   "metadata": {},
   "outputs": [
    {
     "ename": "TypeError",
     "evalue": "ufunc 'bitwise_or' not supported for the input types, and the inputs could not be safely coerced to any supported types according to the casting rule ''safe''",
     "output_type": "error",
     "traceback": [
      "\u001b[0;31m---------------------------------------------------------------------------\u001b[0m",
      "\u001b[0;31mTypeError\u001b[0m                                 Traceback (most recent call last)",
      "\u001b[0;32m<ipython-input-3-745dfed5296f>\u001b[0m in \u001b[0;36m<module>\u001b[0;34m\u001b[0m\n\u001b[1;32m      1\u001b[0m \u001b[0;31m#split into 4 regions:\u001b[0m\u001b[0;34m\u001b[0m\u001b[0;34m\u001b[0m\u001b[0m\n\u001b[1;32m      2\u001b[0m \u001b[0;34m\u001b[0m\u001b[0m\n\u001b[0;32m----> 3\u001b[0;31m \u001b[0mmask1\u001b[0m \u001b[0;34m=\u001b[0m \u001b[0mgold_spt\u001b[0m\u001b[0;34m[\u001b[0m\u001b[0;34m'DEC'\u001b[0m\u001b[0;34m]\u001b[0m\u001b[0;34m>\u001b[0m\u001b[0;34m-\u001b[0m\u001b[0;36m25\u001b[0m \u001b[0;34m|\u001b[0m \u001b[0mgold_spt\u001b[0m\u001b[0;34m[\u001b[0m\u001b[0;34m'DEC'\u001b[0m\u001b[0;34m]\u001b[0m\u001b[0;34m==\u001b[0m\u001b[0;34m-\u001b[0m\u001b[0;36m25\u001b[0m\u001b[0;34m\u001b[0m\u001b[0m\n\u001b[0m\u001b[1;32m      4\u001b[0m \u001b[0mmask2\u001b[0m \u001b[0;34m=\u001b[0m \u001b[0mgold_spt\u001b[0m\u001b[0;34m[\u001b[0m\u001b[0;34m'DEC'\u001b[0m\u001b[0;34m]\u001b[0m\u001b[0;34m>\u001b[0m\u001b[0;34m-\u001b[0m\u001b[0;36m38\u001b[0m \u001b[0;34m&\u001b[0m \u001b[0mgold_spt\u001b[0m\u001b[0;34m[\u001b[0m\u001b[0;34m'DEC'\u001b[0m\u001b[0;34m]\u001b[0m\u001b[0;34m<\u001b[0m\u001b[0;34m-\u001b[0m\u001b[0;36m25\u001b[0m \u001b[0;34m|\u001b[0m \u001b[0mgold_spt\u001b[0m\u001b[0;34m[\u001b[0m\u001b[0;34m'DEC'\u001b[0m\u001b[0;34m]\u001b[0m\u001b[0;34m==\u001b[0m\u001b[0;34m-\u001b[0m\u001b[0;36m38\u001b[0m\u001b[0;34m\u001b[0m\u001b[0m\n\u001b[1;32m      5\u001b[0m \u001b[0mmask3\u001b[0m \u001b[0;34m=\u001b[0m \u001b[0mgold_spt\u001b[0m\u001b[0;34m[\u001b[0m\u001b[0;34m'DEC'\u001b[0m\u001b[0;34m]\u001b[0m\u001b[0;34m>\u001b[0m\u001b[0;34m-\u001b[0m\u001b[0;36m50\u001b[0m \u001b[0;34m&\u001b[0m \u001b[0mgold_spt\u001b[0m\u001b[0;34m[\u001b[0m\u001b[0;34m'DEC'\u001b[0m\u001b[0;34m]\u001b[0m\u001b[0;34m<\u001b[0m\u001b[0;34m-\u001b[0m\u001b[0;36m38\u001b[0m \u001b[0;34m|\u001b[0m \u001b[0mgold_spt\u001b[0m\u001b[0;34m[\u001b[0m\u001b[0;34m'DEC'\u001b[0m\u001b[0;34m]\u001b[0m\u001b[0;34m==\u001b[0m\u001b[0;34m-\u001b[0m\u001b[0;36m50\u001b[0m\u001b[0;34m\u001b[0m\u001b[0m\n",
      "\u001b[0;31mTypeError\u001b[0m: ufunc 'bitwise_or' not supported for the input types, and the inputs could not be safely coerced to any supported types according to the casting rule ''safe''"
     ]
    }
   ],
   "source": [
    "#split into 4 regions:\n",
    "\n",
    "mask1 = gold_spt['DEC']>-25 | gold_spt['DEC']==-25\n",
    "mask2 = gold_spt['DEC']>-38 & gold_spt['DEC']<-25 | gold_spt['DEC']==-38\n",
    "mask3 = gold_spt['DEC']>-50 & gold_spt['DEC']<-38 | gold_spt['DEC']==-50\n",
    "mask4 = gold_spt['DEC']<-50\n",
    "\n",
    "spt1 = gold_spt[mask1]\n",
    "spt2 = gold_spt[mask2]\n",
    "spt3 = gold_spt[mask3]\n",
    "spt4 = gold_spt[mask4]"
   ]
  },
  {
   "cell_type": "code",
   "execution_count": 4,
   "id": "7267af55-3e5d-43fb-ac2b-5b194c585c3d",
   "metadata": {},
   "outputs": [],
   "source": [
    "# Su's method:\n",
    "\n",
    "def GenerateRegions(jarrs, jras, jdecs, jfile, njack, jtype):\n",
    "\n",
    "    import kmeans_radec\n",
    "    \n",
    "    if jtype=='generate':\n",
    "        rdi = np.zeros( (len(jarrs),2) )\n",
    "        rdi[:,0] = jras# jarrs[gindex][jras[gindex]]\n",
    "        rdi[:,1] = jdecs #jarrs[gindex][jdecs[gindex]]\n",
    "\n",
    "        if jfile == None:\n",
    "            jfile = 'JK-{0}.txt'.format(njack)\n",
    "        km = kmeans_radec.kmeans_sample(rdi, njack, maxiter=200, tol=1.0e-5)\n",
    "\n",
    "        if not km.converged:\n",
    "            raise RuntimeError(\"k means did not converge\")\n",
    "        np.savetxt(jfile, km.centers)\n",
    "\n",
    "    elif jtype=='read':\n",
    "        print('read stored jfile :', jfile)\n",
    "        centers = np.loadtxt(jfile)\n",
    "        km = kmeans_radec.KMeans(centers)\n",
    "        njack = len(centers)\n",
    "\n",
    "    return [km, jfile]\n",
    "\n",
    "\n",
    "def AssignIndex(jarrs, jras, jdecs, km):\n",
    "    \n",
    "    ind = []\n",
    "    for i in range(len(jarrs)):\n",
    "        rdi = np.zeros( (len(jarrs[i]),2) )\n",
    "        rdi[:,0] = jras[i]\n",
    "        rdi[:,1] = jdecs[i]\n",
    "        index = km.find_nearest(rdi)\n",
    "        ind.append(index[0])\n",
    "    return np.array(ind)\n",
    "\n",
    "\n",
    "def construct_jk_catalog( cat, njack = 50, root='./', jtype = 'generate', jfile = 'jkregion.txt', suffix = '' , retind = False):\n",
    "\n",
    "    import os\n",
    "    os.system('mkdir '+root)\n",
    "    km, jfile = GenerateRegions(cat, cat['RA'], cat['DEC'], root+jfile, njack, jtype)\n",
    "    ind = AssignIndex(cat, cat['RA'], cat['DEC'], km)\n",
    "    #ind_rand = AssignIndex(rand, rand['RA'], rand['DEC'], km)\n",
    "    \n",
    "\n",
    "    if retind : \n",
    "        if 'JKindex' in cat.dtype.names : cat['JKindex'] = ind\n",
    "        else : cat = appendColumn(cat, name = 'JKindex', value = ind, dtypes=None)\n",
    "        return cat\n",
    "\n",
    "    else : \n",
    "        catlist = []\n",
    "        for i in range(njack):\n",
    "            mask = (ind == i)\n",
    "            catlist.append(cat[mask])\n",
    "            #mask_rand = (ind_rand == i)\n",
    "            #_constructing_input_file(cat[mask], rand[mask_rand], root = root, suffix = suffix)\n",
    "            \n",
    "        #os.remove(jkfile)  \n",
    "\n",
    "        return catlist"
   ]
  },
  {
   "cell_type": "code",
   "execution_count": null,
   "id": "ed037e8c-762f-4246-b084-aa303f6e5bf6",
   "metadata": {},
   "outputs": [
    {
     "name": "stdout",
     "output_type": "stream",
     "text": [
      "X (11385, 2)  centers (50, 2)  tol=1e-05  maxiter=200\n",
      "53 iterations  cluster sizes: [265 291 306 338 319 252 321 228 127 271 287 187 304 197 178 266 129 141\n",
      " 274 231 247 294 308 172 306 231 157 136 193 309 224 157 256 182 203 136\n",
      " 203 173 184 295 283 365 214 112 222 118 139 249 258 147]\n",
      "X (32409121, 2)  centers (50, 2)  tol=1e-05  maxiter=200\n"
     ]
    }
   ],
   "source": [
    "construct_jk_catalog(gold_spt)"
   ]
  },
  {
   "cell_type": "code",
   "execution_count": null,
   "id": "11f13ed9-9d8f-4776-90fc-af61d0dffebf",
   "metadata": {},
   "outputs": [],
   "source": []
  }
 ],
 "metadata": {
  "kernelspec": {
   "display_name": "Python (DES_env)",
   "language": "python",
   "name": "des_env"
  },
  "language_info": {
   "codemirror_mode": {
    "name": "ipython",
    "version": 3
   },
   "file_extension": ".py",
   "mimetype": "text/x-python",
   "name": "python",
   "nbconvert_exporter": "python",
   "pygments_lexer": "ipython3",
   "version": "3.7.0"
  }
 },
 "nbformat": 4,
 "nbformat_minor": 5
}
