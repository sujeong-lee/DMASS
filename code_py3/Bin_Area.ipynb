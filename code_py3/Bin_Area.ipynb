{
 "cells": [
  {
   "cell_type": "code",
   "execution_count": 1,
   "id": "4a4f8432-e266-4d19-9625-b7bf6a4567fd",
   "metadata": {},
   "outputs": [
    {
     "name": "stderr",
     "output_type": "stream",
     "text": [
      "WARNING: AstroMLDeprecationWarning: 'decorators' has been moved to 'astroML.utils' and will be removed from the main namespace in the future. [astroML.decorators]\n",
      "In /users/PCON0003/warner785/.conda/envs/DES_env/lib/python3.7/site-packages/matplotlib/mpl-data/stylelib/_classic_test.mplstyle: \n",
      "The savefig.frameon rcparam was deprecated in Matplotlib 3.1 and will be removed in 3.3.\n",
      "In /users/PCON0003/warner785/.conda/envs/DES_env/lib/python3.7/site-packages/matplotlib/mpl-data/stylelib/_classic_test.mplstyle: \n",
      "The verbose.level rcparam was deprecated in Matplotlib 3.1 and will be removed in 3.3.\n",
      "In /users/PCON0003/warner785/.conda/envs/DES_env/lib/python3.7/site-packages/matplotlib/mpl-data/stylelib/_classic_test.mplstyle: \n",
      "The verbose.fileo rcparam was deprecated in Matplotlib 3.1 and will be removed in 3.3.\n"
     ]
    }
   ],
   "source": [
    "import sys\n",
    "sys.path.append('../')\n",
    "from xd import *\n",
    "from utils import *\n",
    "import esutil\n",
    "import healpy as hp\n",
    "from systematics import *\n",
    "from systematics_module import *\n",
    "import os\n",
    "from numpy.lib.recfunctions import append_fields\n",
    "import scipy.stats\n",
    "\n",
    "import matplotlib.pyplot as plt\n",
    "import numpy as np\n",
    "from run_systematics import sys_iteration, weightmultiply, fitting_allSP, calling_sysMap\n",
    "\n",
    "from sys_functions import *"
   ]
  },
  {
   "cell_type": "code",
   "execution_count": 21,
   "id": "963b4b0a-5c86-4168-a02f-4da2b2b086b1",
   "metadata": {},
   "outputs": [
    {
     "data": {
      "text/plain": [
       "'\\n    x = np.full(hp.nside2npix(4096), hp.UNSEEN)\\n    x[sysMap[\\'PIXEL\\']] = sysMap[\\'SIGNAL\\']\\n    if mocks != True:\\n        sysval_gal = x[dmass_chron[\\'HPIX_4096\\']].copy()\\n        \\n    else: \\n        sysval_gal = x[dmass_chron].copy()\\n    \\n    if mocks != True:\\n        if sys_weights == True:\\n            print(\"weights being applied...\")\\n            h,_ = np.histogram(sysval_gal[sysval_gal != hp.UNSEEN], bins=pbin, weights = dmass_chron[\"CMASS_PROB\"][sysval_gal != hp.UNSEEN]*dmass_chron_weights[sysval_gal != hp.UNSEEN])\\n        else:\\n            if iterative != True:\\n                h,_ = np.histogram(sysval_gal[sysval_gal != hp.UNSEEN], bins=pbin, weights = dmass_chron[\"CMASS_PROB\"][sysval_gal != hp.UNSEEN]) # -- density of dmass sample, not gold sample\\n        if iterative == True:\\n            print(\"weights being applied...\")\\n            h,_ = np.histogram(sysval_gal[sysval_gal != hp.UNSEEN], bins=pbin, weights = dmass_chron[\"CMASS_PROB\"][sysval_gal != hp.UNSEEN]*dmass_chron_weights[sysval_gal != hp.UNSEEN])\\n    else:\\n        h,_ = np.histogram(sysval_gal[sysval_gal != hp.UNSEEN], bins=pbin, weights = dmass_chron_weights[sysval_gal != hp.UNSEEN])\\n    \\n    return h, sysval_gal\\n'"
      ]
     },
     "execution_count": 21,
     "metadata": {},
     "output_type": "execute_result"
    }
   ],
   "source": [
    "def number_gal_update(sysMap, dmass_chron, dmass_chron_weights, sys_weights = False, mocks = False, iterative = False): # apply systematic weights here\n",
    "    \n",
    "    #minimum = np.percentile(sysMap['SIGNAL'][sysMap['SIGNAL']!=hp.UNSEEN], 1)\n",
    "    #maximum = np.percentile(sysMap['SIGNAL'][sysMap['SIGNAL']!=hp.UNSEEN], 99)\n",
    "    import numpy\n",
    "    \n",
    "    # create binning in area option:\n",
    "    percentile  = [0, 10, 20, 30, 40, 50, 60, 70, 80, 90, 100]\n",
    "\n",
    "    # Calculate the bin edges\n",
    "    bin_edges = np.percentile(sysMap['SIGNAL'][sysMap['SIGNAL']!=hp.UNSEEN], percentile)\n",
    "    pbin = bin_edges \n",
    "    #print(pbin)\n",
    "    \n",
    "    # Calculate the bin widths\n",
    "    bin_widths = np.diff(bin_edges)\n",
    "    #print(bin_widths)\n",
    "\n",
    "    #pbin, pstep = np.linspace( minimum, maximum, 13, retstep=True)\n",
    "    data = sysMap['SIGNAL'][sysMap['SIGNAL']!=hp.UNSEEN]\n",
    "    digitized = numpy.digitize(data, pbin)\n",
    "    pmean = [data[digitized == i].mean() for i in range(1, len(pbin))]\n",
    "    print(pmean)\n",
    "'''\n",
    "    x = np.full(hp.nside2npix(4096), hp.UNSEEN)\n",
    "    x[sysMap['PIXEL']] = sysMap['SIGNAL']\n",
    "    if mocks != True:\n",
    "        sysval_gal = x[dmass_chron['HPIX_4096']].copy()\n",
    "        \n",
    "    else: \n",
    "        sysval_gal = x[dmass_chron].copy()\n",
    "    \n",
    "    if mocks != True:\n",
    "        if sys_weights == True:\n",
    "            print(\"weights being applied...\")\n",
    "            h,_ = np.histogram(sysval_gal[sysval_gal != hp.UNSEEN], bins=pbin, weights = dmass_chron[\"CMASS_PROB\"][sysval_gal != hp.UNSEEN]*dmass_chron_weights[sysval_gal != hp.UNSEEN])\n",
    "        else:\n",
    "            if iterative != True:\n",
    "                h,_ = np.histogram(sysval_gal[sysval_gal != hp.UNSEEN], bins=pbin, weights = dmass_chron[\"CMASS_PROB\"][sysval_gal != hp.UNSEEN]) # -- density of dmass sample, not gold sample\n",
    "        if iterative == True:\n",
    "            print(\"weights being applied...\")\n",
    "            h,_ = np.histogram(sysval_gal[sysval_gal != hp.UNSEEN], bins=pbin, weights = dmass_chron[\"CMASS_PROB\"][sysval_gal != hp.UNSEEN]*dmass_chron_weights[sysval_gal != hp.UNSEEN])\n",
    "    else:\n",
    "        h,_ = np.histogram(sysval_gal[sysval_gal != hp.UNSEEN], bins=pbin, weights = dmass_chron_weights[sysval_gal != hp.UNSEEN])\n",
    "    \n",
    "    return h, sysval_gal\n",
    "'''"
   ]
  },
  {
   "cell_type": "code",
   "execution_count": 3,
   "id": "94f6c590-8634-49a0-9c50-99314dcb346b",
   "metadata": {},
   "outputs": [
    {
     "name": "stdout",
     "output_type": "stream",
     "text": [
      "Resulting catalog size\n",
      "DMASS= 341117.6414259936\n",
      "\n",
      "Calling catalogs >>>\n",
      "pc0_SP107_SPT_v2_cformat_4096ring.fits.gz\n",
      "reading 1/1 /fs/scratch/PCON0008/warner785/bwarner/pca_SP107_SPT_v2_cformat/pc0_SP107_SPT_v2_cformat_4096ring.fits.gz\n"
     ]
    }
   ],
   "source": [
    "dmass_spt = calling_catalog('/fs/scratch/PCON0008/warner785/bwarner/dmass_spt.fits')\n",
    "index_mask = np.argsort(dmass_spt)\n",
    "dmass_chron = dmass_spt[index_mask] # ordered by hpix values\n",
    "dmass_chron['HPIX_4096'] = hp.nest2ring(4096, dmass_chron['HPIX_4096'])\n",
    "\n",
    "path = '/fs/scratch/PCON0008/warner785/bwarner/'\n",
    "fracDet = fitsio.read(path+'y3a2_griz_o.4096_t.32768_coverfoot_EQU.fits.gz')\n",
    "frac = np.zeros(hp.nside2npix(4096))\n",
    "fracDet[\"PIXEL\"] = hp.nest2ring(4096, fracDet['PIXEL'])\n",
    "frac[fracDet['PIXEL']] = fracDet['SIGNAL']\n",
    "fracHp = np.full(hp.nside2npix(4096), hp.UNSEEN)\n",
    "fracHp[fracDet['PIXEL']] = fracDet['SIGNAL']\n",
    "\n",
    "sysMap = io.SearchAndCallFits(path = '/fs/scratch/PCON0008/warner785/bwarner/pca_SP107_SPT_v2_cformat/', keyword = 'pc0_') \n",
    "frac_weight = fracHp[sysMap['PIXEL']]\n",
    "sysMap = sysMap[frac_weight != hp.UNSEEN]"
   ]
  },
  {
   "cell_type": "code",
   "execution_count": 22,
   "id": "9c49491d-358a-4b0f-a73a-e8fc42b673ab",
   "metadata": {},
   "outputs": [
    {
     "name": "stdout",
     "output_type": "stream",
     "text": [
      "[-7.3441375835208635, -4.420084188284406, -2.9717047980856086, -1.7998364863305951, -0.7439502895798059, 0.30524848049474823, 1.4498064442404612, 2.7697097047561217, 4.502442826254022, 8.253282633599808]\n"
     ]
    }
   ],
   "source": [
    "number_gal_update(sysMap, dmass_chron, None)"
   ]
  },
  {
   "cell_type": "code",
   "execution_count": null,
   "id": "e83ab2be-9e5b-40a7-ac3e-bf8d4e8101fd",
   "metadata": {},
   "outputs": [],
   "source": [
    "# area in total: 16690111.25\n",
    "# area for each bin: 1390842.60416667"
   ]
  },
  {
   "cell_type": "code",
   "execution_count": 15,
   "id": "eb8dbd42-b486-4ba2-8dc8-5c67e29d0fd3",
   "metadata": {},
   "outputs": [
    {
     "data": {
      "image/png": "[encoded data removed]",
      "text/plain": [
       "<Figure size 432x288 with 1 Axes>"
      ]
     },
     "metadata": {
      "needs_background": "light"
     },
     "output_type": "display_data"
    }
   ],
   "source": [
    "import numpy as np\n",
    "import matplotlib.pyplot as plt\n",
    "\n",
    "# Generate some data\n",
    "sys_signal = sysMap['SIGNAL']\n",
    "data = sys_signal[sys_signal != hp.UNSEEN]*frac_weight\n",
    "\n",
    "# Calculate the number of bins\n",
    "#num_bins = int(np.sqrt(len(data)))\n",
    "num_bins = 11\n",
    "\n",
    "minimum = np.percentile(sysMap['SIGNAL'][sysMap['SIGNAL']!=hp.UNSEEN], 1)\n",
    "maximum = np.percentile(sysMap['SIGNAL'][sysMap['SIGNAL']!=hp.UNSEEN], 99)\n",
    "\n",
    "percentile  = [0, 10, 20, 30, 40, 50, 60, 70, 80, 90, 100]\n",
    "\n",
    "# Calculate the bin edges\n",
    "bin_edges = np.percentile(sysMap['SIGNAL'][sysMap['SIGNAL']!=hp.UNSEEN], percentile)\n",
    "\n",
    "# Calculate the bin widths\n",
    "bin_widths = np.diff(bin_edges)\n",
    "\n",
    "# Calculate the bin heights\n",
    "bin_heights, _ = np.histogram(data, bins=bin_edges)\n",
    "\n",
    "# Normalize the bin heights so that the area of each bin is 1\n",
    "bin_heights = bin_heights / (bin_widths * len(data))\n",
    "\n",
    "# Plot the histogram\n",
    "plt.bar(bin_edges[:-1], bin_heights, width=bin_widths, edgecolor='black')\n",
    "plt.title('Equal-Area Histogram')\n",
    "plt.xlabel('Data')\n",
    "plt.ylabel('Frequency')\n",
    "plt.show()"
   ]
  },
  {
   "cell_type": "code",
   "execution_count": 16,
   "id": "01a7442d-fe1e-4782-b1e1-af9bfd4f11a6",
   "metadata": {},
   "outputs": [
    {
     "name": "stdout",
     "output_type": "stream",
     "text": [
      "[1.78418923 1.78418923 1.78418923 1.78418923 1.78418923 1.78418923\n",
      " 1.78418923 1.78418923 1.78418923 1.78418923 1.78418923 1.78418923]\n",
      "[0.0078795  0.01927601 0.04224286 0.06940365 0.09058717 0.09571244\n",
      " 0.08141609 0.06145758 0.03922109 0.02324521 0.01300855 0.00647664]\n"
     ]
    }
   ],
   "source": [
    "print(bin_widths)\n",
    "print(bin_heights)"
   ]
  },
  {
   "cell_type": "code",
   "execution_count": null,
   "id": "bdbc1748-5456-483b-bd0b-932d366d1fb5",
   "metadata": {},
   "outputs": [],
   "source": []
  }
 ],
 "metadata": {
  "kernelspec": {
   "display_name": "Python (DES_env)",
   "language": "python",
   "name": "des_env"
  },
  "language_info": {
   "codemirror_mode": {
    "name": "ipython",
    "version": 3
   },
   "file_extension": ".py",
   "mimetype": "text/x-python",
   "name": "python",
   "nbconvert_exporter": "python",
   "pygments_lexer": "ipython3",
   "version": "3.7.0"
  }
 },
 "nbformat": 4,
 "nbformat_minor": 5
}
