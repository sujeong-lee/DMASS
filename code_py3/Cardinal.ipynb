{
 "cells": [
  {
   "cell_type": "code",
   "execution_count": 1,
   "id": "e9bbb103-ad11-4a46-a7ce-3bf89e8fca3e",
   "metadata": {},
   "outputs": [],
   "source": [
    "import esutil, yaml, sys, os, argparse\n",
    "import healpy as hp\n",
    "#from systematics import *\n",
    "import warnings\n",
    "warnings.filterwarnings(\"ignore\", category=DeprecationWarning)\n",
    "import numpy as np\n",
    "import astropy.io.fits as fits\n",
    "import h5py\n",
    "\n",
    "#opening DES Y6 Cardinal simulations catalog:\n",
    "filename='/fs/scratch/PCON0008/warner785/bwarner/Cardinal-3_v2.0_Y6a_gold.h5'\n",
    "f=h5py.File(filename,'r')\n",
    "\n",
    "#print(list(f.keys()))\n",
    "dset = f['catalog/']\n",
    "#print(list(dset.keys()))\n",
    "mask = f['masks/gold/']\n",
    "\n",
    "golddset = f['catalog/gold/']\n",
    "#print(list(golddset.keys()))\n",
    "\n",
    "#print(list(mask.keys())) \n",
    "\n",
    "#read in values:\n",
    "sof_g = f['catalog/gold/mag_g'][:]\n",
    "err_g = f['catalog/gold/mag_err_g'][:]\n",
    "\n",
    "sof_r = f['catalog/gold/mag_r'][:]\n",
    "err_r = f['catalog/gold/mag_err_r'][:]\n",
    "\n",
    "sof_i = f['catalog/gold/mag_i'][:]\n",
    "err_i = f['catalog/gold/mag_err_i'][:]\n",
    "\n",
    "ra = f['catalog/gold/ra'][:]\n",
    "dec = f['catalog/gold/dec'][:]\n",
    "coadd_object_id = f['catalog/gold/coadd_object_id'][:]\n",
    "\n",
    "f.close()"
   ]
  },
  {
   "cell_type": "code",
   "execution_count": 2,
   "id": "5f76f716-4605-442d-8605-a85534255e28",
   "metadata": {},
   "outputs": [
    {
     "name": "stdout",
     "output_type": "stream",
     "text": [
      "create file\n"
     ]
    }
   ],
   "source": [
    "#create fits file:\n",
    "print(\"create file\")\n"
   ]
  },
  {
   "cell_type": "code",
   "execution_count": 3,
   "id": "84da3f12-bee4-4015-bbb2-1d7fbe37d225",
   "metadata": {},
   "outputs": [
    {
     "name": "stdout",
     "output_type": "stream",
     "text": [
      "fill file\n"
     ]
    }
   ],
   "source": [
    "print(\"fill file\")\n",
    "cardinal['COADD_OBJECT_ID'] = coadd_object_id"
   ]
  },
  {
   "cell_type": "code",
   "execution_count": 4,
   "id": "8a711840-84e3-4d31-8edb-27d05f9186c6",
   "metadata": {},
   "outputs": [],
   "source": [
    "cardinal['RA'] = ra"
   ]
  },
  {
   "cell_type": "code",
   "execution_count": 5,
   "id": "9196b9ae-5cd7-4d38-ae62-8c9c58f67813",
   "metadata": {},
   "outputs": [],
   "source": [
    "cardinal['DEC'] = dec"
   ]
  },
  {
   "cell_type": "code",
   "execution_count": 6,
   "id": "7bfb87cd-3953-4335-ba42-8b57ca8130fd",
   "metadata": {},
   "outputs": [],
   "source": [
    "cardinal['SOF_CM_MAG_CORRECTED_G'] = sof_g"
   ]
  },
  {
   "cell_type": "code",
   "execution_count": 7,
   "id": "6acb5f40-d783-4749-9f54-3778b873ff6f",
   "metadata": {},
   "outputs": [],
   "source": [
    "cardinal['SOF_CM_MAG_ERR_G'] = err_g"
   ]
  },
  {
   "cell_type": "code",
   "execution_count": 8,
   "id": "e4822ff1-88a5-4141-9735-1698fa6058f7",
   "metadata": {},
   "outputs": [],
   "source": [
    "cardinal['SOF_CM_MAG_CORRECTED_R'] = sof_r"
   ]
  },
  {
   "cell_type": "code",
   "execution_count": 9,
   "id": "c92d09ae-7f8a-46ab-951e-6d09128e2781",
   "metadata": {},
   "outputs": [],
   "source": [
    "cardinal['SOF_CM_MAG_ERR_R'] = err_r"
   ]
  },
  {
   "cell_type": "code",
   "execution_count": 10,
   "id": "ee667d99-ec52-451d-9b7d-4659396531ae",
   "metadata": {},
   "outputs": [],
   "source": [
    "cardinal['SOF_CM_MAG_CORRECTED_I'] = sof_i"
   ]
  },
  {
   "cell_type": "code",
   "execution_count": 11,
   "id": "5133c34b-3bed-4c56-9fa2-21ec7830daaa",
   "metadata": {},
   "outputs": [],
   "source": [
    "cardinal['SOF_CM_MAG_ERR_I'] = err_i"
   ]
  },
  {
   "cell_type": "code",
   "execution_count": 12,
   "id": "3935a2fd-b107-4d26-bfa2-9536be495932",
   "metadata": {},
   "outputs": [],
   "source": [
    "#save fits file:\n",
    "outdir = '/fs/scratch/PCON0008/warner785/bwarner/'\n",
    "os.makedirs(outdir, exist_ok=True)\n",
    "esutil.io.write(outdir+'cardinal.fits', cardinal, overwrite=True)"
   ]
  },
  {
   "cell_type": "code",
   "execution_count": null,
   "id": "52701f89-cab9-463e-a5d7-47f07d56b80f",
   "metadata": {},
   "outputs": [],
   "source": []
  }
 ],
 "metadata": {
  "kernelspec": {
   "display_name": "Python (DES_env)",
   "language": "python",
   "name": "des_env"
  },
  "language_info": {
   "codemirror_mode": {
    "name": "ipython",
    "version": 3
   },
   "file_extension": ".py",
   "mimetype": "text/x-python",
   "name": "python",
   "nbconvert_exporter": "python",
   "pygments_lexer": "ipython3",
   "version": "3.7.0"
  }
 },
 "nbformat": 4,
 "nbformat_minor": 5
}
