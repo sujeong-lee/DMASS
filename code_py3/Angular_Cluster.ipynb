{
 "cells": [
  {
   "cell_type": "code",
   "execution_count": 1,
   "id": "6b67b4de-0a6e-4e23-8f03-d269e0039b13",
   "metadata": {},
   "outputs": [
    {
     "name": "stderr",
     "output_type": "stream",
     "text": [
      "In /users/PCON0003/warner785/.conda/envs/DES_env/lib/python3.7/site-packages/matplotlib/mpl-data/stylelib/_classic_test.mplstyle: \n",
      "The savefig.frameon rcparam was deprecated in Matplotlib 3.1 and will be removed in 3.3.\n",
      "In /users/PCON0003/warner785/.conda/envs/DES_env/lib/python3.7/site-packages/matplotlib/mpl-data/stylelib/_classic_test.mplstyle: \n",
      "The verbose.level rcparam was deprecated in Matplotlib 3.1 and will be removed in 3.3.\n",
      "In /users/PCON0003/warner785/.conda/envs/DES_env/lib/python3.7/site-packages/matplotlib/mpl-data/stylelib/_classic_test.mplstyle: \n",
      "The verbose.fileo rcparam was deprecated in Matplotlib 3.1 and will be removed in 3.3.\n"
     ]
    },
    {
     "name": "stdout",
     "output_type": "stream",
     "text": [
      "/users/PCON0003/warner785/DMASS-analysis/measurements/code_py3\n"
     ]
    },
    {
     "name": "stderr",
     "output_type": "stream",
     "text": [
      "WARNING: AstroMLDeprecationWarning: 'decorators' has been moved to 'astroML.utils' and will be removed from the main namespace in the future. [astroML.decorators]\n"
     ]
    }
   ],
   "source": [
    "import os, sys\n",
    "import healpy as hp\n",
    "import numpy as np\n",
    "\n",
    "sys.path.append('../../')\n",
    "sys.path.append('/DMASS-analysis/measurements/code_py3/')\n",
    "\n",
    "import esutil\n",
    "import matplotlib.pyplot as plt\n",
    "%matplotlib inline\n",
    "\n",
    "%load_ext autoreload\n",
    "%autoreload 2\n",
    "\n",
    "from utils import *\n",
    "\n",
    "from matplotlib import rc\n",
    "rc('font',**{'family':'sans-serif','sans-serif':['Helvetica']})\n",
    "## for Palatino and other serif fonts use:\n",
    "#rc('font',**{'family':'serif','serif':['Palatino']})\n",
    "rc('text', usetex=True)\n",
    "\n",
    "os.chdir('/users/PCON0003/warner785/DMASS-analysis/measurements/code_py3/')\n",
    "print(os.getcwd())\n",
    "\n",
    "from calling_catalogs import *\n",
    "from sys_functions import *\n",
    "\n",
    "rootdir = '/users/PCON0003/warner785/DMASS-analysis/measurements/clustering/'\n",
    "\n",
    "from ggl_mcal import run_ng_jk, run_nn_jk, run_nk_jk, compute_eix_jk, compute_Rgamma_jk, construct_jk, compute_jkcov, save_results"
   ]
  },
  {
   "cell_type": "code",
   "execution_count": 3,
   "id": "7adf9feb-3864-4d17-89af-7a4a44faa671",
   "metadata": {},
   "outputs": [],
   "source": [
    "def keepGoodRegion(des, hpInd = False, balrog=None):\n",
    "    import healpy as hp\n",
    "    import fitsio\n",
    "    # 25 is the faintest object detected by DES\n",
    "    # objects larger than 25 considered as Noise\n",
    "    \n",
    "    path = '/fs/scratch/PCON0003/warner785/bwarner/'\n",
    "    #LSSGoldmask = fitsio.read(path+'Y1LSSmask_v2_il22_seeil4.0_nside4096ring_redlimcut.fits')\n",
    "    #LSSGoldmask = fitsio.read(path+'Y1LSSmask_v1_il22seeil4.04096ring_redlimcut.fits')\n",
    "    LSSGoldmask = fitsio.read(path+'MASK_Y3LSSBAOSOF_22_3_v2p2.fits')\n",
    "    ringhp = hp.nest2ring(4096, [LSSGoldmask['PIXEL']])\n",
    "    #Y1LSSmask_v1_il22seeil4.04096ring_redlimcut.fits\n",
    "    #frac_cut = LSSGoldmask['FRAC'] > 0.8\n",
    "    #ind_good_ring = LSSGoldmask['PIXEL'][frac_cut]\n",
    "    ind_good_ring = ringhp\n",
    "    \n",
    "    # healpixify the catalog.\n",
    "    nside=4096\n",
    "    # Convert silly ra/dec to silly HP angular coordinates.\n",
    "    phi = des['RA'] * np.pi / 180.0\n",
    "    theta = ( 90.0 - des['DEC'] ) * np.pi/180.0\n",
    "\n",
    "    hpInd = hp.ang2pix(nside,theta,phi,nest=False)\n",
    "    keep = np.in1d(hpInd, ind_good_ring)\n",
    "    des = des[keep]\n",
    "    if hpInd is True:\n",
    "        return ind_good_ring\n",
    "    else:\n",
    "        return des"
   ]
  },
  {
   "cell_type": "code",
   "execution_count": 37,
   "id": "6e0e880b-5b83-473f-b1ec-89238a75856a",
   "metadata": {},
   "outputs": [],
   "source": [
    "# for checking maps\n",
    "\n",
    "sysMap = fitsio.read('/fs/scratch/PCON0008/warner785/bwarner/PCA/extinction/ebv_sfd98_fullres_nside_4096_nest_equatorial_des.fits.gz')\n",
    "f = fitsio.FITS('/fs/scratch/PCON0008/warner785/bwarner/PCA/extinction/ebv_sfd98_fullres_nside_4096_nest_equatorial_des.fits.gz')\n",
    "h = f[-1].read_header()\n",
    "print(h)\n",
    "\n",
    "print(sysMap.shape)\n",
    "#flat = sysMap['I'].flatten()\n",
    "#print(flat.shape)\n",
    "print(hp.visufunc.mollview(sysMap['SIGNAL']))"
   ]
  },
  {
   "cell_type": "code",
   "execution_count": 3,
   "id": "0bb2798c-e8c0-4090-a764-f2ff3ae8782d",
   "metadata": {},
   "outputs": [
    {
     "name": "stdout",
     "output_type": "stream",
     "text": [
      "Resulting catalog size\n",
      "DMASS= 341117.6414259936\n"
     ]
    }
   ],
   "source": [
    "# for dmass spt\n",
    "\n",
    "dmass_spt = calling_catalog('/fs/scratch/PCON0008/warner785/bwarner/dmass_spt.fits')\n",
    "random_spt = uniform_random_on_sphere(dmass_spt, size = 10*int(np.sum(dmass_spt['CMASS_PROB']))) \n",
    "random_spt = keepGoodRegion(random_spt)\n",
    "random_spt = appendColumn(random_spt, value=np.ones(random_spt.size), name='CMASS_PROB')\n",
    "index_mask = np.argsort(dmass_spt)\n",
    "dmass_chron = dmass_spt[index_mask] # ordered by hpix values"
   ]
  },
  {
   "cell_type": "code",
   "execution_count": 4,
   "id": "e8e81625-b4ba-42d6-b232-80f9c6431112",
   "metadata": {},
   "outputs": [],
   "source": [
    "quad_weight = fitsio.read('/fs/scratch/PCON0008/warner785/bwarner/june23_tests/'+'iterative50.fits')\n",
    "lin_weight = fitsio.read('/fs/scratch/PCON0008/warner785/bwarner/june23_tests/'+'linchi2_50.fits')\n",
    "\n",
    "qweights = dmass_chron[\"CMASS_PROB\"]*quad_weight\n",
    "lweights = dmass_chron[\"CMASS_PROB\"]*lin_weight"
   ]
  },
  {
   "cell_type": "code",
   "execution_count": 7,
   "id": "e7092116-37f6-40c8-b977-971f298c44bb",
   "metadata": {},
   "outputs": [
    {
     "name": "stdout",
     "output_type": "stream",
     "text": [
      "60037\n"
     ]
    }
   ],
   "source": [
    "# load in CMASS later:\n",
    "\n",
    "import fitsio\n",
    "cmass = esutil.io.read('/fs/scratch/PCON0008/warner785/bwarner/matched_cmass.fits')\n",
    "\n",
    "print(cmass.size)"
   ]
  },
  {
   "cell_type": "code",
   "execution_count": 2,
   "id": "e2651c93-98bc-48c2-91f4-7a6a1977e09d",
   "metadata": {},
   "outputs": [
    {
     "name": "stdout",
     "output_type": "stream",
     "text": [
      "Resulting catalog size\n",
      "DMASS= 117292.90214602613\n"
     ]
    }
   ],
   "source": [
    "# checking y1 dmass:\n",
    "y1_dmass = calling_catalog('/fs/scratch/PCON0008/warner785/bwarner/dmass_y1_public_v1.fits')\n",
    "randoms = esutil.io.read('/fs/scratch/PCON0008/warner785/bwarner/random_dmass_y1_public_v1.fits')"
   ]
  },
  {
   "cell_type": "code",
   "execution_count": 3,
   "id": "97bad35d-29c6-4154-b8ea-52c92c7a134f",
   "metadata": {},
   "outputs": [],
   "source": [
    "randoms = appendColumn(randoms, value=np.ones(randoms.size), name='CMASS_PROB')"
   ]
  },
  {
   "cell_type": "code",
   "execution_count": 8,
   "id": "64f22dfc-5a1e-4761-95fa-fb43327a437a",
   "metadata": {},
   "outputs": [
    {
     "name": "stdout",
     "output_type": "stream",
     "text": [
      "('COADD_OBJECTS_ID', 'RA', 'DEC', 'VETO', 'CMASS_PROB', 'WEIGHT_SYS')\n"
     ]
    }
   ],
   "source": [
    "print(y1_dmass.dtype.names)"
   ]
  },
  {
   "cell_type": "raw",
   "id": "d5a29607-0411-4967-a3ca-c0a2cac595aa",
   "metadata": {},
   "source": [
    "#validation region\n",
    "# convert\n",
    "mask4 =(cmass['RA']>18)&(cmass['RA']<43)\n",
    "mask4 = mask4 & (cmass['DEC']>-10) & (cmass['DEC']<10)\n",
    "cmass_val = cmass[mask4]"
   ]
  },
  {
   "cell_type": "raw",
   "id": "7ad38b0f-0b98-4a40-a35a-5d07f407db49",
   "metadata": {},
   "source": [
    "from numpy.lib.recfunctions import append_fields\n",
    "weights = np.zeros(len(cmass))\n",
    "for x in range(len(cmass)-1):\n",
    "    weights[x]=1\n",
    "cmass = append_fields(cmass, 'WEIGHT', weights, usemask=False)"
   ]
  },
  {
   "cell_type": "raw",
   "id": "06e7dab5-f082-41ca-9bf4-699bb4e7f719",
   "metadata": {},
   "source": [
    "random_cmass = uniform_random_on_sphere(cmass, size = 50 * cmass.size)\n",
    "# applying LSS mask \n",
    "random_cmass = keepGoodRegion(random_cmass)"
   ]
  },
  {
   "cell_type": "raw",
   "id": "c57b49b5-90c8-4eed-b163-11b2e3bb1ace",
   "metadata": {},
   "source": [
    "fig, ax = plt.subplots()\n",
    "ax.plot( cmass['RA'], cmass['DEC'], \"b.\")\n",
    "ax.plot(random_cmass['RA'], random_cmass['DEC'], \"g.\")"
   ]
  },
  {
   "cell_type": "raw",
   "id": "e78ee5ba-40f9-4454-9ebe-cb67ae2ad700",
   "metadata": {},
   "source": [
    "fig, ax = plt.subplots()\n",
    "ax.plot(random_cmass['RA'], random_cmass['DEC'], \"g.\")\n",
    "ax.plot( cmass['RA'], cmass['DEC'], \"b.\")"
   ]
  },
  {
   "cell_type": "raw",
   "id": "0f82cde3-bc5b-45be-9594-1ce75af0265b",
   "metadata": {},
   "source": [
    "# make visuals of the maps to check\n",
    "\n",
    "randomsind_cmass = np.random.choice( random_cmass.size, size=int(random_cmass.size/3.) )\n",
    "random_cmass = random_cmass[randomsind_cmass]"
   ]
  },
  {
   "cell_type": "raw",
   "id": "769e6561-68d8-4774-85cc-cf0428a54eb5",
   "metadata": {},
   "source": [
    "plt.rcParams.update({\n",
    "  \"text.usetex\": False,\n",
    "  \"font.family\": \"Helvetica\"\n",
    "})\n",
    "\n",
    "fig, ax = plt.subplots()\n",
    "ax.plot( dmass_val['RA'], dmass_val['DEC'], \"b.\")\n",
    "ax.plot(random_create['RA'], random_create['DEC'], \"g.\")"
   ]
  },
  {
   "cell_type": "raw",
   "id": "5efa8a8c-cfd5-46ff-9780-b94dd854e621",
   "metadata": {},
   "source": [
    "fig, ax = plt.subplots()\n",
    "ax.plot(random_create['RA'], random_create['DEC'], \"g.\")\n",
    "ax.plot( dmass_val['RA'], dmass_val['DEC'], \"b.\")"
   ]
  },
  {
   "cell_type": "code",
   "execution_count": 8,
   "id": "9169ad4a-9e5c-4d59-97ec-59f5f1db911c",
   "metadata": {},
   "outputs": [],
   "source": [
    "randomsind_create = np.random.choice( random_create.size, size=int(random_create.size/3.) )\n",
    "random_create = random_create[randomsind_create]"
   ]
  },
  {
   "cell_type": "code",
   "execution_count": 4,
   "id": "d6ceb60f-7a96-408a-8696-aa0f603fd859",
   "metadata": {},
   "outputs": [],
   "source": [
    "def treecorr_xi(lens, random=None, filename=None, rootdir=None, \n",
    "\t\tnbins=20, min_sep=2.5, max_sep=250, sep_units='arcmin', bin_slop=0.05, \n",
    "        npatch=10, var_method='jackknife', cen_file = None, w = None):\n",
    "    \n",
    "    import treecorr\n",
    "\n",
    "    if cen_file != None:\n",
    "        if os.path.exists(cen_file):\n",
    "            print ('Saved cen_file exists:',cen_file)\n",
    "            cen_file_switch_on = cen_file\n",
    "            npatch=1\n",
    "        else : \n",
    "            print ('Create cen_file=',cen_file)\n",
    "            cen_file_switch_on = None\n",
    "\n",
    "    #temp_dir=filename.split('.txt')[0]\n",
    "    cat_l = treecorr.Catalog(ra=lens['RA'], dec=lens['DEC'], w=lens['CMASS_PROB']*lens['WEIGHT_SYS'], \n",
    "                             ra_units='deg', dec_units='deg', npatch=npatch, \n",
    "                             patch_centers=cen_file_switch_on )\n",
    "\n",
    "    if cen_file_switch_on == None : \n",
    "        cat_l.write_patch_centers(cen_file)\n",
    "#changed to make weights = 1 for randoms\n",
    "    #from numpy.lib.recfunctions import append_fields\n",
    "    #weights = np.zeros(len(random))\n",
    "    #for x in range(len(random)-1):\n",
    "        #weights[x]=1\n",
    "    #random = append_fields(random, 'WEIGHT', weights, usemask=False)\n",
    "    \n",
    "    cat_r = treecorr.Catalog(ra=random['RA'], dec=random['DEC'], w=random['CMASS_PROB'], \n",
    "                             ra_units='deg', dec_units='deg', \n",
    "                             patch_centers=cen_file_switch_on )\n",
    "    \n",
    "    dd = treecorr.NNCorrelation(nbins=nbins, min_sep=min_sep,\n",
    "                            max_sep=max_sep, sep_units=sep_units, bin_slop=bin_slop, \n",
    "                            var_method=var_method,\n",
    "                            num_threads=30, verbose=1)\n",
    "    dr = treecorr.NNCorrelation(nbins=nbins, min_sep=min_sep,\n",
    "                                max_sep=max_sep, sep_units=sep_units, bin_slop=bin_slop, \n",
    "                                var_method=var_method,\n",
    "                                num_threads=30, verbose=1)\n",
    "    rd = treecorr.NNCorrelation(nbins=nbins, min_sep=min_sep,\n",
    "                                max_sep=max_sep, sep_units=sep_units, bin_slop=bin_slop, \n",
    "                                var_method=var_method,\n",
    "                                num_threads=30, verbose=1)\n",
    "    rr = treecorr.NNCorrelation(nbins=nbins, min_sep=min_sep,\n",
    "                                max_sep=max_sep, sep_units=sep_units, bin_slop=bin_slop, \n",
    "                                var_method=var_method,\n",
    "                                num_threads=30, verbose=1)\n",
    "\n",
    "    dd.process(cat_l)\n",
    "    dr.process(cat_l, cat_r)\n",
    "    rd.process(cat_r, cat_l)\n",
    "    rr.process(cat_r)\n",
    "    xi,varxi = dd.calculateXi(rr,dr)\n",
    "    dd.write(filename,rr,dr,rd)\n",
    "    \n",
    "    cov_jk = dd.estimate_cov(var_method)\n",
    "    cov_filename=filename.split('.txt')[0]+'.cov'\n",
    "    np.savetxt(cov_filename, cov_jk)\n",
    "    \n",
    "    print ('save to', filename)\n",
    "    \n",
    "# search for VETO in run_DMASS\n",
    "# ask Su about this, if not"
   ]
  },
  {
   "cell_type": "code",
   "execution_count": 5,
   "id": "9c48788a-cd1c-445c-909b-ebd7049ffc5c",
   "metadata": {},
   "outputs": [
    {
     "name": "stdout",
     "output_type": "stream",
     "text": [
      "Create cen_file= /users/PCON0003/warner785/DMASS-analysis/measurements/clustering//80/nn_cen_file_y1.txt\n"
     ]
    },
    {
     "name": "stderr",
     "output_type": "stream",
     "text": [
      "/users/PCON0003/warner785/.conda/envs/DES_env/lib/python3.7/site-packages/treecorr/util.py:669: FutureWarning: Use of keyword-only arguments as positional arguments is deprecated in the function calculateXi. The following parameters now require an explicit keyword name: ['rr', 'dr']\n",
      "  str(kw_names), FutureWarning)\n",
      "/users/PCON0003/warner785/.conda/envs/DES_env/lib/python3.7/site-packages/treecorr/util.py:669: FutureWarning: Use of keyword-only arguments as positional arguments is deprecated in the function write. The following parameters now require an explicit keyword name: ['rr', 'dr', 'rd']\n",
      "  str(kw_names), FutureWarning)\n"
     ]
    },
    {
     "name": "stdout",
     "output_type": "stream",
     "text": [
      "save to /users/PCON0003/warner785/DMASS-analysis/measurements/clustering//80/nn.lens_y1.txt\n"
     ]
    }
   ],
   "source": [
    "npatch=80\n",
    "tempdir = rootdir+'/{}/'.format(npatch)\n",
    "cen_file = tempdir + 'nn_cen_file_y1.txt'\n",
    "filename = tempdir + 'nn.lens_y1.txt'\n",
    "\n",
    "#os.system('mkdir '+savedir)\n",
    "#print (os.path.exists(tempdir) )\n",
    "os.system('rm -rf '+tempdir)\n",
    "os.system('mkdir '+tempdir)\n",
    "\n",
    "# default of poisson errors -- try this\n",
    "# ***save to different variables to compare different methods of errors\n",
    "\n",
    "treecorr_xi(y1_dmass, random=randoms,\n",
    "        filename=filename, rootdir = tempdir, \n",
    "        nbins=20, min_sep=2.5, max_sep=250., sep_units='arcmin', bin_slop=0.05,\n",
    "        npatch=npatch, cen_file=cen_file, var_method='jackknife', w = y1_dmass['CMASS_PROB']*y1_dmass['WEIGHT_SYS'])\n",
    "\n",
    "cov_quad_dmass= np.genfromtxt(tempdir+'/nn.lens_y1.cov'.format(npatch))\n",
    "_, meanr, _, galaxy_xi, xi_err,_,_,_,_,_ = np.genfromtxt(tempdir+'nn.lens_y1.txt'.format(npatch), unpack=True)"
   ]
  },
  {
   "cell_type": "code",
   "execution_count": 7,
   "id": "240410a9-ac50-42f8-85ec-73384bd2e947",
   "metadata": {},
   "outputs": [
    {
     "name": "stdout",
     "output_type": "stream",
     "text": [
      "save to /users/PCON0003/warner785/DMASS-analysis/measurements/clustering//80/nn.lens_lin.txt\n"
     ]
    }
   ],
   "source": [
    "npatch=80\n",
    "tempdir = rootdir+'/{}/'.format(npatch)\n",
    "cen_file = tempdir + 'nn_cen_file_lin.txt'\n",
    "filename = tempdir + 'nn.lens_lin.txt'\n",
    "\n",
    "#os.system('mkdir '+savedir)\n",
    "#print (os.path.exists(tempdir) )\n",
    "os.system('rm -rf '+tempdir)\n",
    "os.system('mkdir '+tempdir)\n",
    "\n",
    "# default of poisson errors -- try this\n",
    "# ***save to different variables to compare different methods of errors\n",
    "\n",
    "treecorr_xi(dmass_chron, random=random_spt,\n",
    "        filename=filename, rootdir = tempdir, \n",
    "        nbins=20, min_sep=2.5, max_sep=250., sep_units='arcmin', bin_slop=0.05,\n",
    "        npatch=npatch, cen_file=cen_file, var_method='jackknife', w = lweights*dmass_chron['CMASS_PROB'])\n",
    "\n",
    "cov_lin_dmass= np.genfromtxt(tempdir+'/nn.lens_lin.cov'.format(npatch))\n",
    "_, meanr_lin, _, galaxy_xi_lin, xi_err_lin,_,_,_,_,_ = np.genfromtxt(tempdir+'nn.lens_lin.txt'.format(npatch), unpack=True)"
   ]
  },
  {
   "cell_type": "code",
   "execution_count": 8,
   "id": "644b765f-94cf-47ac-b463-c491642f92cb",
   "metadata": {},
   "outputs": [],
   "source": [
    "# read in Su's data:\n",
    "\n",
    "wtheta_su = np.array([[2.80504614e+00, 2.04160000e-01],\n",
    " [3.53134386e+00, 1.71170000e-01],\n",
    " [4.44569853e+00, 1.47430000e-01],\n",
    " [5.59680285e+00, 1.25550000e-01],\n",
    " [7.04595733e+00, 1.05600000e-01],\n",
    " [8.87033473e+00, 8.70390000e-02],\n",
    " [1.11670898e+01, 7.65390000e-02],\n",
    " [1.40585331e+01, 6.24190000e-02],\n",
    " [1.76986446e+01, 5.21800000e-02],\n",
    " [2.22812735e+01, 4.21460000e-02],\n",
    " [2.80504614e+01, 3.38060000e-02],\n",
    " [3.53134386e+01, 2.75830000e-02],\n",
    " [4.44569853e+01, 2.07170000e-02],\n",
    " [5.59680285e+01, 1.57440000e-02],\n",
    " [7.04595733e+01, 1.27630000e-02],\n",
    " [8.87033473e+01, 9.31180000e-03],\n",
    " [1.11670898e+02, 6.26490000e-03],\n",
    " [1.40585331e+02, 3.96460000e-03],\n",
    " [1.76986446e+02, 2.31330000e-03],\n",
    " [2.22812735e+02, 6.60470000e-04]])"
   ]
  },
  {
   "cell_type": "code",
   "execution_count": 19,
   "id": "de0b574d-08f8-4fef-a9a8-f47fa937b7e3",
   "metadata": {},
   "outputs": [
    {
     "name": "stdout",
     "output_type": "stream",
     "text": [
      "0.20416\n",
      "(20, 2)\n"
     ]
    }
   ],
   "source": [
    "print(wtheta_su[0][1])\n",
    "print(wtheta_su.shape)"
   ]
  },
  {
   "cell_type": "code",
   "execution_count": 21,
   "id": "9dcfab01-52fc-4971-b1a5-1667aabd5c54",
   "metadata": {},
   "outputs": [],
   "source": [
    "meanr_su = []\n",
    "galaxy_xi_su = []\n",
    "for x in range(20):\n",
    "    meanr_su.append(wtheta_su[x,0])\n",
    "    galaxy_xi_su.append(wtheta_su[x,1])"
   ]
  },
  {
   "cell_type": "code",
   "execution_count": 23,
   "id": "de409486-3448-45d3-90ce-40c20eeca528",
   "metadata": {},
   "outputs": [
    {
     "data": {
      "image/png": "[encoded data removed]",
      "text/plain": [
       "<Figure size 432x288 with 1 Axes>"
      ]
     },
     "metadata": {
      "needs_background": "light"
     },
     "output_type": "display_data"
    }
   ],
   "source": [
    "fig, ax = plt.subplots()\n",
    "\n",
    "#ax.loglog(theta, galaxy_xi_theory)\n",
    "ax.errorbar( meanr_su, galaxy_xi_su)\n",
    "#ax.errorbar( meanr, galaxy_xi_lin-galaxy_xi, xi_err )\n",
    "ax.errorbar( meanr, galaxy_xi, xi_err)\n",
    "ax.set_xscale('log')\n",
    "ax.set_yscale('log')"
   ]
  },
  {
   "cell_type": "code",
   "execution_count": 14,
   "id": "e4465dd9-1e4e-4333-bdb0-c2bd8373a358",
   "metadata": {},
   "outputs": [
    {
     "data": {
      "image/png": "[encoded data removed]",
      "text/plain": [
       "<Figure size 432x288 with 1 Axes>"
      ]
     },
     "metadata": {
      "needs_background": "light"
     },
     "output_type": "display_data"
    }
   ],
   "source": [
    "# difference of dmass with and without prob cut\n",
    "\n",
    "fig, ax = plt.subplots()\n",
    "\n",
    "ax.errorbar( meanr, (galaxy_xi-galaxy_xi_cut), xi_err )\n",
    "ax.set_xscale('log')"
   ]
  },
  {
   "cell_type": "code",
   "execution_count": 15,
   "id": "62dba9fd-de13-45fb-a06e-88412ee4e532",
   "metadata": {},
   "outputs": [
    {
     "data": {
      "image/png": "[encoded data removed]",
      "text/plain": [
       "<Figure size 432x288 with 1 Axes>"
      ]
     },
     "metadata": {
      "needs_background": "light"
     },
     "output_type": "display_data"
    }
   ],
   "source": [
    "# difference of dmass with and without prob cut\n",
    "\n",
    "fig, ax = plt.subplots()\n",
    "\n",
    "ax.errorbar( meanr, galaxy_xi, xi_err )\n",
    "ax.errorbar( meanr_cut, galaxy_xi_cut, xi_err_cut )\n",
    "ax.set_xscale('log')"
   ]
  },
  {
   "cell_type": "code",
   "execution_count": null,
   "id": "09962a0e-c6aa-4418-a989-156f93b554f3",
   "metadata": {},
   "outputs": [],
   "source": []
  }
 ],
 "metadata": {
  "kernelspec": {
   "display_name": "Python (DES_env)",
   "language": "python",
   "name": "des_env"
  },
  "language_info": {
   "codemirror_mode": {
    "name": "ipython",
    "version": 3
   },
   "file_extension": ".py",
   "mimetype": "text/x-python",
   "name": "python",
   "nbconvert_exporter": "python",
   "pygments_lexer": "ipython3",
   "version": "3.7.0"
  }
 },
 "nbformat": 4,
 "nbformat_minor": 5
}
