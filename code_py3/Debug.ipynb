{
 "cells": [
  {
   "cell_type": "code",
   "execution_count": 25,
   "id": "1af06ff5-3515-425a-b952-3fd173f30501",
   "metadata": {},
   "outputs": [
    {
     "name": "stdout",
     "output_type": "stream",
     "text": [
      "pc0_\n",
      "\n",
      "Calling catalogs >>>\n",
      "pc0_SP107_SPT_v2_cformat_4096ring.fits.gz\n",
      "reading 1/1 /users/PCON0003/warner785/DMASSy3/systematics/pca_SP107_SPT_v2_cformat/pc0_SP107_SPT_v2_cformat_4096ring.fits.gz\n"
     ]
    }
   ],
   "source": [
    "import sys\n",
    "sys.path.append('../')\n",
    "from xd import *\n",
    "from utils import *\n",
    "import esutil\n",
    "import healpy as hp\n",
    "from systematics import *\n",
    "from systematics_module import *\n",
    "import os\n",
    "from numpy.lib.recfunctions import append_fields\n",
    "import scipy.stats\n",
    "\n",
    "import matplotlib.pyplot as plt\n",
    "import numpy as np\n",
    "from run_systematics import sys_iteration, weightmultiply, fitting_allSP, calling_sysMap\n",
    "\n",
    "\n",
    "input_path = '/users/PCON0003/warner785/DMASSy3/systematics/pca_SP107_SPT_v2_cformat/'\n",
    "#y3/band_z/\n",
    "keyword_template = 'pc{0}_'\n",
    "\n",
    "chi2_randoms = []\n",
    "chi2_dmassi = []\n",
    "chi2_trend1 = []\n",
    "chi2_trend2 = []\n",
    "chi2_dmassf = []\n",
    "trend = []\n",
    "\n",
    "for i_pca in range(1): #50\n",
    "    if i_pca > -1:\n",
    "        input_keyword = keyword_template.format(i_pca)\n",
    "        print(input_keyword)\n",
    "        sysMap = io.SearchAndCallFits(path = input_path, keyword = input_keyword)"
   ]
  },
  {
   "cell_type": "code",
   "execution_count": 26,
   "id": "009f5e6b-71cb-44fd-9f3b-9b8f217922e0",
   "metadata": {},
   "outputs": [],
   "source": [
    "def keepGoodRegion(des, hpInd = False, balrog=None):\n",
    "    import healpy as hp\n",
    "    import fitsio\n",
    "    # 25 is the faintest object detected by DES\n",
    "    # objects larger than 25 considered as Noise\n",
    "    \n",
    "    path = '/fs/scratch/PCON0008/warner785/bwarner/'\n",
    "    #LSSGoldmask = fitsio.read(path+'Y1LSSmask_v2_il22_seeil4.0_nside4096ring_redlimcut.fits')\n",
    "    #LSSGoldmask = fitsio.read(path+'Y1LSSmask_v1_il22seeil4.04096ring_redlimcut.fits')\n",
    "    LSSGoldmask = fitsio.read(path+'MASK_Y3LSSBAOSOF_22_3_v2p2.fits')\n",
    "    ringhp = hp.nest2ring(4096, [LSSGoldmask['PIXEL']])\n",
    "    #Y1LSSmask_v1_il22seeil4.04096ring_redlimcut.fits\n",
    "    #frac_cut = LSSGoldmask['FRAC'] > 0.8\n",
    "    #ind_good_ring = LSSGoldmask['PIXEL'][frac_cut]\n",
    "    ind_good_ring = ringhp\n",
    "    \n",
    "    # healpixify the catalog.\n",
    "    nside=4096\n",
    "    # Convert silly ra/dec to silly HP angular coordinates.\n",
    "    phi = des['RA'] * np.pi / 180.0\n",
    "    theta = ( 90.0 - des['DEC'] ) * np.pi/180.0\n",
    "\n",
    "    hpInd = hp.ang2pix(nside,theta,phi,nest=False)\n",
    "    keep = np.in1d(hpInd, ind_good_ring)\n",
    "    des = des[keep]\n",
    "    if hpInd is True:\n",
    "        return ind_good_ring\n",
    "    else:\n",
    "        return des\n",
    "\n",
    "def cutPCA(sysMap):\n",
    "    \n",
    "    RA, DEC = hp.pix2ang(4096, sysMap['PIXEL'], lonlat=True)\n",
    "    sysMap = append_fields(sysMap, 'RA', RA, usemask=False)\n",
    "    sysMap = append_fields(sysMap, 'DEC', DEC, usemask=False)\n",
    "    #print(sysMap.dtype.names)\n",
    "\n",
    "    sysMap = keepGoodRegion(sysMap)\n",
    "    \n",
    "    # for SPT region\n",
    "    mask_spt = (sysMap['RA']>295)&(sysMap['RA']<360)|(sysMap['RA']<105)\n",
    "    mask_spt = mask_spt & (sysMap['DEC']>-68) & (sysMap['DEC']<-10)\n",
    "    sysMap = sysMap[mask_spt]\n",
    "    \n",
    "    # for validation region\n",
    "#    mask4 =(sysMap['RA']>18)&(sysMap['RA']<43)\n",
    "#    mask4 = mask4 & (sysMap['DEC']>-10) & (sysMap['DEC']<10)\n",
    "#    sysMap = sysMap[mask4]\n",
    "    \n",
    "    # for training region\n",
    "#    mask = (sysMap['RA']>310) & (sysMap['RA']<360)|(sysMap['RA']<7)\n",
    "#    mask = mask & (sysMap['DEC']>-10) & (sysMap['DEC']<10)\n",
    "#    sysMap = sysMap[mask]\n",
    "    \n",
    "    return sysMap\n",
    "\n",
    "#sysMap['PIXEL'] = hp.nest2ring(4096, sysMap['PIXEL'])\n",
    "sysMap = cutPCA(sysMap)"
   ]
  },
  {
   "cell_type": "code",
   "execution_count": 27,
   "id": "5a1766f3-3c4a-46c1-980b-0fb37ab43dd6",
   "metadata": {},
   "outputs": [
    {
     "name": "stdout",
     "output_type": "stream",
     "text": [
      "[]\n"
     ]
    }
   ],
   "source": [
    "print(sysMap[sysMap['SIGNAL']==0])"
   ]
  },
  {
   "cell_type": "code",
   "execution_count": 28,
   "id": "9724bf9d-8fd1-4231-ad3d-ed3bb2f096d6",
   "metadata": {},
   "outputs": [
    {
     "data": {
      "text/plain": [
       "[<matplotlib.lines.Line2D at 0x2b4badf6eb38>]"
      ]
     },
     "execution_count": 28,
     "metadata": {},
     "output_type": "execute_result"
    },
    {
     "data": {
      "image/png": "[encoded data removed]",
      "text/plain": [
       "<Figure size 432x288 with 1 Axes>"
      ]
     },
     "metadata": {
      "needs_background": "light"
     },
     "output_type": "display_data"
    }
   ],
   "source": [
    "fig, ax = plt.subplots()\n",
    "#ax.plot( dmass_chron['RA'], dmass_chron['DEC'], '.')\n",
    "ax.plot( sysMap['RA'], sysMap['DEC'], \"b.\")"
   ]
  },
  {
   "cell_type": "code",
   "execution_count": 10,
   "id": "8a79e8b4-0899-45ed-ba3c-c647c6de0a9b",
   "metadata": {},
   "outputs": [
    {
     "ename": "IndexError",
     "evalue": "only integers, slices (`:`), ellipsis (`...`), numpy.newaxis (`None`) and integer or boolean arrays are valid indices",
     "output_type": "error",
     "traceback": [
      "\u001b[0;31m---------------------------------------------------------------------------\u001b[0m",
      "\u001b[0;31mIndexError\u001b[0m                                Traceback (most recent call last)",
      "\u001b[0;32m<ipython-input-10-24bd3597998e>\u001b[0m in \u001b[0;36m<module>\u001b[0;34m\u001b[0m\n\u001b[1;32m      1\u001b[0m \u001b[0mfig\u001b[0m\u001b[0;34m,\u001b[0m \u001b[0max\u001b[0m \u001b[0;34m=\u001b[0m \u001b[0mplt\u001b[0m\u001b[0;34m.\u001b[0m\u001b[0msubplots\u001b[0m\u001b[0;34m(\u001b[0m\u001b[0;34m)\u001b[0m\u001b[0;34m\u001b[0m\u001b[0m\n\u001b[0;32m----> 2\u001b[0;31m \u001b[0max\u001b[0m\u001b[0;34m.\u001b[0m\u001b[0mplot\u001b[0m\u001b[0;34m(\u001b[0m \u001b[0mincluded\u001b[0m\u001b[0;34m[\u001b[0m\u001b[0;34m'RA'\u001b[0m\u001b[0;34m]\u001b[0m\u001b[0;34m,\u001b[0m \u001b[0mincluded\u001b[0m\u001b[0;34m[\u001b[0m\u001b[0;34m'DEC'\u001b[0m\u001b[0;34m]\u001b[0m\u001b[0;34m,\u001b[0m \u001b[0;34m'.'\u001b[0m\u001b[0;34m)\u001b[0m\u001b[0;34m\u001b[0m\u001b[0m\n\u001b[0m\u001b[1;32m      3\u001b[0m \u001b[0max\u001b[0m\u001b[0;34m.\u001b[0m\u001b[0mplot\u001b[0m\u001b[0;34m(\u001b[0m \u001b[0msysMap\u001b[0m\u001b[0;34m[\u001b[0m\u001b[0;34m'RA'\u001b[0m\u001b[0;34m]\u001b[0m\u001b[0;34m,\u001b[0m \u001b[0msysMap\u001b[0m\u001b[0;34m[\u001b[0m\u001b[0;34m'DEC'\u001b[0m\u001b[0;34m]\u001b[0m\u001b[0;34m,\u001b[0m \u001b[0;34m\"b.\"\u001b[0m\u001b[0;34m)\u001b[0m\u001b[0;34m\u001b[0m\u001b[0m\n",
      "\u001b[0;31mIndexError\u001b[0m: only integers, slices (`:`), ellipsis (`...`), numpy.newaxis (`None`) and integer or boolean arrays are valid indices"
     ]
    },
    {
     "data": {
      "image/png": "[encoded data removed]",
      "text/plain": [
       "<Figure size 432x288 with 1 Axes>"
      ]
     },
     "metadata": {
      "needs_background": "light"
     },
     "output_type": "display_data"
    }
   ],
   "source": [
    "fig, ax = plt.subplots()\n",
    "ax.plot( included['RA'], included['DEC'], '.')\n",
    "ax.plot( sysMap['RA'], sysMap['DEC'], \"b.\")"
   ]
  },
  {
   "cell_type": "code",
   "execution_count": 29,
   "id": "12afaa7c-7d8c-41a2-8b65-9b84d8d13076",
   "metadata": {},
   "outputs": [
    {
     "data": {
      "text/plain": [
       "[<matplotlib.lines.Line2D at 0x2b4badffe908>]"
      ]
     },
     "execution_count": 29,
     "metadata": {},
     "output_type": "execute_result"
    },
    {
     "data": {
      "image/png": "[encoded data removed]",
      "text/plain": [
       "<Figure size 432x288 with 1 Axes>"
      ]
     },
     "metadata": {
      "needs_background": "light"
     },
     "output_type": "display_data"
    }
   ],
   "source": [
    "fig, ax = plt.subplots()\n",
    "ax.plot( sysMap['SIGNAL'], sysMap['PIXEL'], \"b.\")"
   ]
  },
  {
   "cell_type": "code",
   "execution_count": 30,
   "id": "7aba19a4-7c1f-4208-b50c-5b6c8f39b81a",
   "metadata": {},
   "outputs": [],
   "source": [
    "def calling_lens_catalog(catname=None):\n",
    "\n",
    "    catdir = ''.join([ c+'/' for c in catname.split('/')[:-1]])\n",
    "    os.system('mkdir '+catdir)\n",
    "    dmass = esutil.io.read(catname)\n",
    "    w_dmass = dmass['CMASS_PROB']\n",
    "    print ('Calculating DMASS systematic weights...')\n",
    "    dmass = appendColumn(dmass, name='WEIGHT', value= w_dmass )\n",
    "#   dmass = dmass[ dmass['CMASS_PROB'] > 0.01 ]   # for low probability galaxies\n",
    "    esutil.io.write(catname, dmass)\n",
    "    #randoms = esutil.io.read('/n/des/lee.5922/data/dmass_cat/random_x50_dmass_spt_masked.fits')\n",
    "    \n",
    "    randoms = esutil.io.read('/fs/scratch/PCON0008/warner785/bwarner/random_dmass_y1_public_v1.fits')\n",
    "#    randoms = esutil.io.read('/users/PCON0003/warner785/DMASSY3/output/test/train_cat/y3/dmass_st82_DET200_randoms.fits')\n",
    "    \n",
    "#    catdir = ''.join([ c+'/' for c in catname.split('/')[:-1]])\n",
    "#    os.system('mkdir '+catdir)\n",
    "#    dmass = esutil.io.read('/n/des/lee.5922/data/dmass_cat/dmass_spt_sys_v3.fits')\n",
    "    #w_dmass = dmass['CMASS_PROB'] *dmass['WEIGHT0_fwhm_r']*dmass['WEIGHT1_airmass_z']\n",
    "    #print ('Calculatig DMASS systematic weights...')\n",
    "    #dmass = appendColumn(dmass, name='WEIGHT', value= w_dmass )\n",
    "    #dmass = dmass[ dmass['CMASS_PROB'] > 0.01 ]\n",
    "    #esutil.io.write(catname, dmass)\n",
    "    #randoms = esutil.io.read('/n/des/lee.5922/data/dmass_cat/random_x50_dmass_spt_masked.fits')\n",
    "\n",
    "#    randoms = esutil.io.read('/n/des/lee.5922/data/dmass_cat/random_x50_dmass_spt_masked.fits')\n",
    "\n",
    "    print ('Resulting catalog size')\n",
    "    print ('DMASS=', np.sum(dmass['WEIGHT']) )\n",
    "    print ('randoms=', randoms.size)\n",
    "    return dmass, randoms"
   ]
  },
  {
   "cell_type": "code",
   "execution_count": 31,
   "id": "09a62208-7926-43c1-a4c1-a5c1ece801b1",
   "metadata": {},
   "outputs": [
    {
     "name": "stdout",
     "output_type": "stream",
     "text": [
      "Calculating DMASS systematic weights...\n",
      "Resulting catalog size\n",
      "DMASS= 351963.5197393462\n",
      "randoms= 5864645\n"
     ]
    }
   ],
   "source": [
    "\n",
    "dmass_spt, randoms = calling_lens_catalog('../output/test/train_cat/y3/dmass_spt.fits')"
   ]
  },
  {
   "cell_type": "code",
   "execution_count": 32,
   "id": "12e1c7d1-7667-4721-a038-6ef679f8d1eb",
   "metadata": {},
   "outputs": [],
   "source": [
    "index_mask = np.argsort(dmass_spt)\n",
    "dmass_chron = dmass_spt[index_mask]"
   ]
  },
  {
   "cell_type": "code",
   "execution_count": 33,
   "id": "bf444710-1b71-4234-80c7-e9c4a5b9fdb0",
   "metadata": {},
   "outputs": [
    {
     "name": "stdout",
     "output_type": "stream",
     "text": [
      "32409121\n",
      "17201244\n",
      "17201244\n"
     ]
    },
    {
     "ename": "IndexError",
     "evalue": "boolean index did not match indexed array along dimension 0; dimension is 32409121 but corresponding boolean dimension is 17201244",
     "output_type": "error",
     "traceback": [
      "\u001b[0;31m---------------------------------------------------------------------------\u001b[0m",
      "\u001b[0;31mIndexError\u001b[0m                                Traceback (most recent call last)",
      "\u001b[0;32m<ipython-input-33-ae8b9b11e729>\u001b[0m in \u001b[0;36m<module>\u001b[0;34m\u001b[0m\n\u001b[1;32m      4\u001b[0m \u001b[0mprint\u001b[0m\u001b[0;34m(\u001b[0m\u001b[0mincluded\u001b[0m\u001b[0;34m.\u001b[0m\u001b[0msize\u001b[0m\u001b[0;34m)\u001b[0m\u001b[0;34m\u001b[0m\u001b[0m\n\u001b[1;32m      5\u001b[0m \u001b[0;34m\u001b[0m\u001b[0m\n\u001b[0;32m----> 6\u001b[0;31m \u001b[0mdmass_sys\u001b[0m \u001b[0;34m=\u001b[0m \u001b[0mdmass_chron\u001b[0m\u001b[0;34m[\u001b[0m\u001b[0mincluded\u001b[0m\u001b[0;34m]\u001b[0m\u001b[0;34m\u001b[0m\u001b[0m\n\u001b[0m",
      "\u001b[0;32m~/.conda/envs/DES_env/lib/python3.7/site-packages/numpy/ma/core.py\u001b[0m in \u001b[0;36m__getitem__\u001b[0;34m(self, indx)\u001b[0m\n\u001b[1;32m   3223\u001b[0m         \u001b[0;31m# mask of being reshaped if it hasn't been set up properly yet\u001b[0m\u001b[0;34m\u001b[0m\u001b[0;34m\u001b[0m\u001b[0m\n\u001b[1;32m   3224\u001b[0m         \u001b[0;31m# So it's easier to stick to the current version\u001b[0m\u001b[0;34m\u001b[0m\u001b[0;34m\u001b[0m\u001b[0m\n\u001b[0;32m-> 3225\u001b[0;31m         \u001b[0mdout\u001b[0m \u001b[0;34m=\u001b[0m \u001b[0mself\u001b[0m\u001b[0;34m.\u001b[0m\u001b[0mdata\u001b[0m\u001b[0;34m[\u001b[0m\u001b[0mindx\u001b[0m\u001b[0;34m]\u001b[0m\u001b[0;34m\u001b[0m\u001b[0m\n\u001b[0m\u001b[1;32m   3226\u001b[0m         \u001b[0m_mask\u001b[0m \u001b[0;34m=\u001b[0m \u001b[0mself\u001b[0m\u001b[0;34m.\u001b[0m\u001b[0m_mask\u001b[0m\u001b[0;34m\u001b[0m\u001b[0m\n\u001b[1;32m   3227\u001b[0m \u001b[0;34m\u001b[0m\u001b[0m\n",
      "\u001b[0;31mIndexError\u001b[0m: boolean index did not match indexed array along dimension 0; dimension is 32409121 but corresponding boolean dimension is 17201244"
     ]
    }
   ],
   "source": [
    "print(dmass_chron.size)\n",
    "print(sysMap.size)\n",
    "included = np.in1d(sysMap[\"PIXEL\"], dmass_chron['HPIX_4096'], assume_unique=False, invert=False)\n",
    "print(included.size)\n",
    "\n",
    "dmass_sys = dmass_chron[included]"
   ]
  },
  {
   "cell_type": "code",
   "execution_count": 38,
   "id": "2bfef67f-c4bd-45d2-bd56-b686f7f2e8ef",
   "metadata": {},
   "outputs": [
    {
     "name": "stdout",
     "output_type": "stream",
     "text": [
      "\n",
      "Calling catalogs >>>\n",
      "y3a2_g_o.4096_t.32768_EXPTIME.SUM_EQU.fits.gz\n",
      "reading 1/1 /fs/scratch/PCON0008/warner785/bwarner/PCA/band_g/y3a2_g_o.4096_t.32768_EXPTIME.SUM_EQU.fits.gz\n"
     ]
    }
   ],
   "source": [
    "input_path = '/fs/scratch/PCON0008/warner785/bwarner/PCA/band_g/' \n",
    "#/band_g,r,i,z/:\n",
    "\n",
    "#test weighted pca-dmass on the sp checks\n",
    "\n",
    "#y3a2_g_o.4096_t.32768_AIRMASS.WMEAN_EQU.fits.gz\n",
    "#y3a2_g_o.4096_t.32768_EXPTIME.SUM_EQU.fits.gz \n",
    "#y3a2_g_o.4096_t.32768_FWHM.WMEAN_EQU.fits.gz \n",
    "#y3a2_g_o.4096_t.32768_SKYBRITE.WMEAN_EQU.fits.gz\n",
    "#redmine\n",
    "#nersc pca location for sp\n",
    "\n",
    "#current_map = 'SKYBRITEz'\n",
    "\n",
    "input_keyword = 'y3a2_g_o.4096_t.32768_EXPTIME.SUM_EQU.fits.gz'\n",
    "Map = io.SearchAndCallFits(path = input_path, keyword = input_keyword)"
   ]
  },
  {
   "cell_type": "code",
   "execution_count": 39,
   "id": "cb665c15-9cb6-4e68-84ef-f3d7534e74af",
   "metadata": {},
   "outputs": [],
   "source": [
    "Map['PIXEL'] = hp.nest2ring(4096, Map['PIXEL'])\n",
    "Map = cutPCA(Map)"
   ]
  },
  {
   "cell_type": "code",
   "execution_count": 40,
   "id": "44595a6f-70d6-4e21-b1d1-18bca84f9b8b",
   "metadata": {},
   "outputs": [
    {
     "data": {
      "text/plain": [
       "[<matplotlib.lines.Line2D at 0x2b2cc345c9b0>]"
      ]
     },
     "execution_count": 40,
     "metadata": {},
     "output_type": "execute_result"
    },
    {
     "data": {
      "image/png": "[encoded data removed]",
      "text/plain": [
       "<Figure size 432x288 with 1 Axes>"
      ]
     },
     "metadata": {
      "needs_background": "light"
     },
     "output_type": "display_data"
    }
   ],
   "source": [
    "fig, ax = plt.subplots()\n",
    "ax.plot( Map['RA'], Map['DEC'], '.')"
   ]
  },
  {
   "cell_type": "code",
   "execution_count": null,
   "id": "fc0e864b-9544-4e1e-a6ee-96c2afc579e0",
   "metadata": {},
   "outputs": [],
   "source": []
  }
 ],
 "metadata": {
  "kernelspec": {
   "display_name": "Python (DES_env)",
   "language": "python",
   "name": "des_env"
  },
  "language_info": {
   "codemirror_mode": {
    "name": "ipython",
    "version": 3
   },
   "file_extension": ".py",
   "mimetype": "text/x-python",
   "name": "python",
   "nbconvert_exporter": "python",
   "pygments_lexer": "ipython3",
   "version": "3.7.0"
  }
 },
 "nbformat": 4,
 "nbformat_minor": 5
}
