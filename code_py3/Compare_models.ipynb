{
 "cells": [
  {
   "cell_type": "code",
   "execution_count": 1,
   "id": "c2286dec-5256-4089-ac1b-8e9dc91af484",
   "metadata": {},
   "outputs": [
    {
     "name": "stderr",
     "output_type": "stream",
     "text": [
      "WARNING: AstroMLDeprecationWarning: 'decorators' has been moved to 'astroML.utils' and will be removed from the main namespace in the future. [astroML.decorators]\n",
      "In /users/PCON0003/warner785/.conda/envs/DES_env/lib/python3.7/site-packages/matplotlib/mpl-data/stylelib/_classic_test.mplstyle: \n",
      "The savefig.frameon rcparam was deprecated in Matplotlib 3.1 and will be removed in 3.3.\n",
      "In /users/PCON0003/warner785/.conda/envs/DES_env/lib/python3.7/site-packages/matplotlib/mpl-data/stylelib/_classic_test.mplstyle: \n",
      "The verbose.level rcparam was deprecated in Matplotlib 3.1 and will be removed in 3.3.\n",
      "In /users/PCON0003/warner785/.conda/envs/DES_env/lib/python3.7/site-packages/matplotlib/mpl-data/stylelib/_classic_test.mplstyle: \n",
      "The verbose.fileo rcparam was deprecated in Matplotlib 3.1 and will be removed in 3.3.\n"
     ]
    },
    {
     "name": "stdout",
     "output_type": "stream",
     "text": [
      "/users/PCON0003/warner785/DMASS_XDGMM/code_py3\n",
      "/users/PCON0003/warner785/DMASSY3/code_py3\n"
     ]
    }
   ],
   "source": [
    "import os, sys\n",
    "import esutil\n",
    "import healpy as hp\n",
    "import numpy as np\n",
    "import fitsio\n",
    "sys.path.append('../')\n",
    "from xd import *\n",
    "from run_DMASS import *\n",
    "from utils import *\n",
    "import healpy as hp\n",
    "from systematics import *\n",
    "from cmass_modules import io\n",
    "os.chdir('../../DMASS_XDGMM/code_py3/')\n",
    "print(os.getcwd())\n",
    "from xdgmm import XDGMM as XDGMM_Holoien\n",
    "os.chdir('../../DMASSY3/code_py3/')\n",
    "print(os.getcwd())"
   ]
  },
  {
   "cell_type": "code",
   "execution_count": 2,
   "id": "5d786f47-c3f8-446e-8822-9fce84750037",
   "metadata": {},
   "outputs": [],
   "source": [
    "clf_old = XDGMM_Holoien(filename='output/test/fitting/gauss_gold_bovyY3_200DET_unfixed.xdgmm')\n",
    "clf_noold = XDGMM_Holoien(filename='output/test/fitting/gauss_nogold_bovyY3_200DET_unfixed.xdgmm')"
   ]
  },
  {
   "cell_type": "code",
   "execution_count": 2,
   "id": "356a834c-216f-4785-b6f5-973aed778bbb",
   "metadata": {},
   "outputs": [],
   "source": [
    "clf_new = XDGMM_Holoien(filename='output/test/fitting/gauss_gold_bovyY3_final.xdgmm')\n",
    "clf_nonew = XDGMM_Holoien(filename='output/test/fitting/gauss_nogold_bovyY3_final.xdgmm')"
   ]
  },
  {
   "cell_type": "code",
   "execution_count": 4,
   "id": "da14032d-0de8-42e2-93ff-1d35cf4fb4df",
   "metadata": {},
   "outputs": [
    {
     "name": "stdout",
     "output_type": "stream",
     "text": [
      "\n",
      "Calling catalogs >>>\n",
      "Y3_GOLD_2_0_STRIPE82_000125.fits\n",
      "Y3_GOLD_2_0_STRIPE82_000136.fits\n",
      "Y3_GOLD_2_0_STRIPE82_000040.fits\n",
      "Y3_GOLD_2_0_STRIPE82_000015.fits\n",
      "Y3_GOLD_2_0_STRIPE82_000086.fits\n",
      "Y3_GOLD_2_0_STRIPE82_000047.fits\n",
      "Y3_GOLD_2_0_STRIPE82_000108.fits\n",
      "Y3_GOLD_2_0_STRIPE82_000079.fits\n",
      "Y3_GOLD_2_0_STRIPE82_000076.fits\n",
      "Y3_GOLD_2_0_STRIPE82_000057.fits\n",
      "Y3_GOLD_2_0_STRIPE82_000111.fits\n",
      "Y3_GOLD_2_0_STRIPE82_000084.fits\n",
      "Y3_GOLD_2_0_STRIPE82_000088.fits\n",
      "Y3_GOLD_2_0_STRIPE82_000049.fits\n",
      "Y3_GOLD_2_0_STRIPE82_000063.fits\n",
      "Y3_GOLD_2_0_STRIPE82_000070.fits\n",
      "Y3_GOLD_2_0_STRIPE82_000077.fits\n",
      "Y3_GOLD_2_0_STRIPE82_000042.fits\n",
      "Y3_GOLD_2_0_STRIPE82_000118.fits\n",
      "Y3_GOLD_2_0_STRIPE82_000115.fits\n",
      "Y3_GOLD_2_0_STRIPE82_000028.fits\n",
      "Y3_GOLD_2_0_STRIPE82_000140.fits\n",
      "Y3_GOLD_2_0_STRIPE82_000060.fits\n",
      "Y3_GOLD_2_0_STRIPE82_000089.fits\n",
      "Y3_GOLD_2_0_STRIPE82_000143.fits\n",
      "Y3_GOLD_2_0_STRIPE82_000012.fits\n",
      "Y3_GOLD_2_0_STRIPE82_000001.fits\n",
      "Y3_GOLD_2_0_STRIPE82_000045.fits\n",
      "Y3_GOLD_2_0_STRIPE82_000137.fits\n",
      "Y3_GOLD_2_0_STRIPE82_000016.fits\n",
      "Y3_GOLD_2_0_STRIPE82_000126.fits\n",
      "Y3_GOLD_2_0_STRIPE82_000025.fits\n",
      "Y3_GOLD_2_0_STRIPE82_000029.fits\n",
      "Y3_GOLD_2_0_STRIPE82_000151.fits\n",
      "Y3_GOLD_2_0_STRIPE82_000062.fits\n",
      "Y3_GOLD_2_0_STRIPE82_000013.fits\n",
      "Y3_GOLD_2_0_STRIPE82_000064.fits\n",
      "Y3_GOLD_2_0_STRIPE82_000027.fits\n",
      "Y3_GOLD_2_0_STRIPE82_000141.fits\n",
      "Y3_GOLD_2_0_STRIPE82_000112.fits\n",
      "Y3_GOLD_2_0_STRIPE82_000038.fits\n",
      "Y3_GOLD_2_0_STRIPE82_000030.fits\n",
      "Y3_GOLD_2_0_STRIPE82_000102.fits\n",
      "Y3_GOLD_2_0_STRIPE82_000055.fits\n",
      "Y3_GOLD_2_0_STRIPE82_000114.fits\n",
      "Y3_GOLD_2_0_STRIPE82_000048.fits\n",
      "Y3_GOLD_2_0_STRIPE82_000056.fits\n",
      "Y3_GOLD_2_0_STRIPE82_000007.fits\n",
      "Y3_GOLD_2_0_STRIPE82_000138.fits\n",
      "Y3_GOLD_2_0_STRIPE82_000083.fits\n",
      "Y3_GOLD_2_0_STRIPE82_000041.fits\n",
      "Y3_GOLD_2_0_STRIPE82_000002.fits\n",
      "Y3_GOLD_2_0_STRIPE82_000081.fits\n",
      "Y3_GOLD_2_0_STRIPE82_000153.fits\n",
      "Y3_GOLD_2_0_STRIPE82_000020.fits\n",
      "Y3_GOLD_2_0_STRIPE82_000103.fits\n",
      "Y3_GOLD_2_0_STRIPE82_000142.fits\n",
      "Y3_GOLD_2_0_STRIPE82_000082.fits\n",
      "Y3_GOLD_2_0_STRIPE82_000100.fits\n",
      "Y3_GOLD_2_0_STRIPE82_000110.fits\n",
      "Y3_GOLD_2_0_STRIPE82_000014.fits\n",
      "Y3_GOLD_2_0_STRIPE82_000144.fits\n",
      "Y3_GOLD_2_0_STRIPE82_000006.fits\n",
      "Y3_GOLD_2_0_STRIPE82_000008.fits\n",
      "Y3_GOLD_2_0_STRIPE82_000005.fits\n",
      "Y3_GOLD_2_0_STRIPE82_000148.fits\n",
      "Y3_GOLD_2_0_STRIPE82_000124.fits\n",
      "Y3_GOLD_2_0_STRIPE82_000122.fits\n",
      "Y3_GOLD_2_0_STRIPE82_000035.fits\n",
      "Y3_GOLD_2_0_STRIPE82_000072.fits\n",
      "Y3_GOLD_2_0_STRIPE82_000093.fits\n",
      "Y3_GOLD_2_0_STRIPE82_000033.fits\n",
      "Y3_GOLD_2_0_STRIPE82_000132.fits\n",
      "Y3_GOLD_2_0_STRIPE82_000011.fits\n",
      "Y3_GOLD_2_0_STRIPE82_000026.fits\n",
      "Y3_GOLD_2_0_STRIPE82_000131.fits\n",
      "Y3_GOLD_2_0_STRIPE82_000129.fits\n",
      "Y3_GOLD_2_0_STRIPE82_000051.fits\n",
      "Y3_GOLD_2_0_STRIPE82_000104.fits\n",
      "Y3_GOLD_2_0_STRIPE82_000105.fits\n",
      "Y3_GOLD_2_0_STRIPE82_000074.fits\n",
      "Y3_GOLD_2_0_STRIPE82_000121.fits\n",
      "Y3_GOLD_2_0_STRIPE82_000078.fits\n",
      "Y3_GOLD_2_0_STRIPE82_000032.fits\n",
      "Y3_GOLD_2_0_STRIPE82_000097.fits\n",
      "Y3_GOLD_2_0_STRIPE82_000135.fits\n",
      "Y3_GOLD_2_0_STRIPE82_000065.fits\n",
      "Y3_GOLD_2_0_STRIPE82_000094.fits\n",
      "Y3_GOLD_2_0_STRIPE82_000003.fits\n",
      "Y3_GOLD_2_0_STRIPE82_000145.fits\n",
      "Y3_GOLD_2_0_STRIPE82_000034.fits\n",
      "Y3_GOLD_2_0_STRIPE82_000146.fits\n",
      "Y3_GOLD_2_0_STRIPE82_000127.fits\n",
      "Y3_GOLD_2_0_STRIPE82_000128.fits\n",
      "Y3_GOLD_2_0_STRIPE82_000116.fits\n",
      "Y3_GOLD_2_0_STRIPE82_000069.fits\n",
      "Y3_GOLD_2_0_STRIPE82_000152.fits\n",
      "Y3_GOLD_2_0_STRIPE82_000053.fits\n",
      "Y3_GOLD_2_0_STRIPE82_000058.fits\n",
      "Y3_GOLD_2_0_STRIPE82_000010.fits\n",
      "Y3_GOLD_2_0_STRIPE82_000046.fits\n",
      "Y3_GOLD_2_0_STRIPE82_000095.fits\n",
      "Y3_GOLD_2_0_STRIPE82_000073.fits\n",
      "Y3_GOLD_2_0_STRIPE82_000019.fits\n",
      "Y3_GOLD_2_0_STRIPE82_000068.fits\n",
      "Y3_GOLD_2_0_STRIPE82_000036.fits\n",
      "Y3_GOLD_2_0_STRIPE82_000075.fits\n",
      "Y3_GOLD_2_0_STRIPE82_000037.fits\n",
      "Y3_GOLD_2_0_STRIPE82_000098.fits\n",
      "Y3_GOLD_2_0_STRIPE82_000022.fits\n",
      "Y3_GOLD_2_0_STRIPE82_000050.fits\n",
      "Y3_GOLD_2_0_STRIPE82_000018.fits\n",
      "Y3_GOLD_2_0_STRIPE82_000024.fits\n",
      "Y3_GOLD_2_0_STRIPE82_000080.fits\n",
      "Y3_GOLD_2_0_STRIPE82_000071.fits\n",
      "Y3_GOLD_2_0_STRIPE82_000054.fits\n",
      "Y3_GOLD_2_0_STRIPE82_000101.fits\n",
      "Y3_GOLD_2_0_STRIPE82_000150.fits\n",
      "Y3_GOLD_2_0_STRIPE82_000113.fits\n",
      "Y3_GOLD_2_0_STRIPE82_000147.fits\n",
      "Y3_GOLD_2_0_STRIPE82_000009.fits\n",
      "Y3_GOLD_2_0_STRIPE82_000123.fits\n",
      "Y3_GOLD_2_0_STRIPE82_000061.fits\n",
      "Y3_GOLD_2_0_STRIPE82_000004.fits\n",
      "Y3_GOLD_2_0_STRIPE82_000085.fits\n",
      "Y3_GOLD_2_0_STRIPE82_000091.fits\n",
      "Y3_GOLD_2_0_STRIPE82_000130.fits\n",
      "Y3_GOLD_2_0_STRIPE82_000067.fits\n",
      "Y3_GOLD_2_0_STRIPE82_000117.fits\n",
      "Y3_GOLD_2_0_STRIPE82_000017.fits\n",
      "Y3_GOLD_2_0_STRIPE82_000149.fits\n",
      "Y3_GOLD_2_0_STRIPE82_000119.fits\n",
      "Y3_GOLD_2_0_STRIPE82_000052.fits\n",
      "Y3_GOLD_2_0_STRIPE82_000031.fits\n",
      "Y3_GOLD_2_0_STRIPE82_000107.fits\n",
      "Y3_GOLD_2_0_STRIPE82_000023.fits\n",
      "Y3_GOLD_2_0_STRIPE82_000044.fits\n",
      "Y3_GOLD_2_0_STRIPE82_000120.fits\n",
      "Y3_GOLD_2_0_STRIPE82_000090.fits\n",
      "Y3_GOLD_2_0_STRIPE82_000106.fits\n",
      "Y3_GOLD_2_0_STRIPE82_000133.fits\n",
      "Y3_GOLD_2_0_STRIPE82_000066.fits\n",
      "Y3_GOLD_2_0_STRIPE82_000139.fits\n",
      "Y3_GOLD_2_0_STRIPE82_000087.fits\n",
      "Y3_GOLD_2_0_STRIPE82_000043.fits\n",
      "Y3_GOLD_2_0_STRIPE82_000039.fits\n",
      "Y3_GOLD_2_0_STRIPE82_000099.fits\n",
      "Y3_GOLD_2_0_STRIPE82_000021.fits\n",
      "Y3_GOLD_2_0_STRIPE82_000092.fits\n",
      "Y3_GOLD_2_0_STRIPE82_000096.fits\n",
      "Y3_GOLD_2_0_STRIPE82_000059.fits\n",
      "Y3_GOLD_2_0_STRIPE82_000109.fits\n",
      "Y3_GOLD_2_0_STRIPE82_000134.fits\n",
      "reading 1/153 /fs/scratch/PCON0003/warner785/bwarner/Y3_GOLD_2_0_STRIPE82_000125.fits\n",
      "reading 2/153 /fs/scratch/PCON0003/warner785/bwarner/Y3_GOLD_2_0_STRIPE82_000136.fits\n",
      "reading 3/153 /fs/scratch/PCON0003/warner785/bwarner/Y3_GOLD_2_0_STRIPE82_000040.fits\n",
      "reading 4/153 /fs/scratch/PCON0003/warner785/bwarner/Y3_GOLD_2_0_STRIPE82_000015.fits\n",
      "reading 5/153 /fs/scratch/PCON0003/warner785/bwarner/Y3_GOLD_2_0_STRIPE82_000086.fits\n",
      "reading 6/153 /fs/scratch/PCON0003/warner785/bwarner/Y3_GOLD_2_0_STRIPE82_000047.fits\n",
      "reading 7/153 /fs/scratch/PCON0003/warner785/bwarner/Y3_GOLD_2_0_STRIPE82_000108.fits\n",
      "reading 8/153 /fs/scratch/PCON0003/warner785/bwarner/Y3_GOLD_2_0_STRIPE82_000079.fits\n",
      "reading 9/153 /fs/scratch/PCON0003/warner785/bwarner/Y3_GOLD_2_0_STRIPE82_000076.fits\n",
      "reading 10/153 /fs/scratch/PCON0003/warner785/bwarner/Y3_GOLD_2_0_STRIPE82_000057.fits\n",
      "reading 11/153 /fs/scratch/PCON0003/warner785/bwarner/Y3_GOLD_2_0_STRIPE82_000111.fits\n",
      "reading 12/153 /fs/scratch/PCON0003/warner785/bwarner/Y3_GOLD_2_0_STRIPE82_000084.fits\n",
      "reading 13/153 /fs/scratch/PCON0003/warner785/bwarner/Y3_GOLD_2_0_STRIPE82_000088.fits\n",
      "reading 14/153 /fs/scratch/PCON0003/warner785/bwarner/Y3_GOLD_2_0_STRIPE82_000049.fits\n",
      "reading 15/153 /fs/scratch/PCON0003/warner785/bwarner/Y3_GOLD_2_0_STRIPE82_000063.fits\n",
      "reading 16/153 /fs/scratch/PCON0003/warner785/bwarner/Y3_GOLD_2_0_STRIPE82_000070.fits\n",
      "reading 17/153 /fs/scratch/PCON0003/warner785/bwarner/Y3_GOLD_2_0_STRIPE82_000077.fits\n",
      "reading 18/153 /fs/scratch/PCON0003/warner785/bwarner/Y3_GOLD_2_0_STRIPE82_000042.fits\n",
      "reading 19/153 /fs/scratch/PCON0003/warner785/bwarner/Y3_GOLD_2_0_STRIPE82_000118.fits\n",
      "reading 20/153 /fs/scratch/PCON0003/warner785/bwarner/Y3_GOLD_2_0_STRIPE82_000115.fits\n",
      "reading 21/153 /fs/scratch/PCON0003/warner785/bwarner/Y3_GOLD_2_0_STRIPE82_000028.fits\n",
      "reading 22/153 /fs/scratch/PCON0003/warner785/bwarner/Y3_GOLD_2_0_STRIPE82_000140.fits\n",
      "reading 23/153 /fs/scratch/PCON0003/warner785/bwarner/Y3_GOLD_2_0_STRIPE82_000060.fits\n",
      "reading 24/153 /fs/scratch/PCON0003/warner785/bwarner/Y3_GOLD_2_0_STRIPE82_000089.fits\n",
      "reading 25/153 /fs/scratch/PCON0003/warner785/bwarner/Y3_GOLD_2_0_STRIPE82_000143.fits\n",
      "reading 26/153 /fs/scratch/PCON0003/warner785/bwarner/Y3_GOLD_2_0_STRIPE82_000012.fits\n",
      "reading 27/153 /fs/scratch/PCON0003/warner785/bwarner/Y3_GOLD_2_0_STRIPE82_000001.fits\n",
      "reading 28/153 /fs/scratch/PCON0003/warner785/bwarner/Y3_GOLD_2_0_STRIPE82_000045.fits\n",
      "reading 29/153 /fs/scratch/PCON0003/warner785/bwarner/Y3_GOLD_2_0_STRIPE82_000137.fits\n",
      "reading 30/153 /fs/scratch/PCON0003/warner785/bwarner/Y3_GOLD_2_0_STRIPE82_000016.fits\n",
      "reading 31/153 /fs/scratch/PCON0003/warner785/bwarner/Y3_GOLD_2_0_STRIPE82_000126.fits\n",
      "reading 32/153 /fs/scratch/PCON0003/warner785/bwarner/Y3_GOLD_2_0_STRIPE82_000025.fits\n",
      "reading 33/153 /fs/scratch/PCON0003/warner785/bwarner/Y3_GOLD_2_0_STRIPE82_000029.fits\n",
      "reading 34/153 /fs/scratch/PCON0003/warner785/bwarner/Y3_GOLD_2_0_STRIPE82_000151.fits\n",
      "reading 35/153 /fs/scratch/PCON0003/warner785/bwarner/Y3_GOLD_2_0_STRIPE82_000062.fits\n",
      "reading 36/153 /fs/scratch/PCON0003/warner785/bwarner/Y3_GOLD_2_0_STRIPE82_000013.fits\n",
      "reading 37/153 /fs/scratch/PCON0003/warner785/bwarner/Y3_GOLD_2_0_STRIPE82_000064.fits\n",
      "reading 38/153 /fs/scratch/PCON0003/warner785/bwarner/Y3_GOLD_2_0_STRIPE82_000027.fits\n",
      "reading 39/153 /fs/scratch/PCON0003/warner785/bwarner/Y3_GOLD_2_0_STRIPE82_000141.fits\n",
      "reading 40/153 /fs/scratch/PCON0003/warner785/bwarner/Y3_GOLD_2_0_STRIPE82_000112.fits\n",
      "reading 41/153 /fs/scratch/PCON0003/warner785/bwarner/Y3_GOLD_2_0_STRIPE82_000038.fits\n",
      "reading 42/153 /fs/scratch/PCON0003/warner785/bwarner/Y3_GOLD_2_0_STRIPE82_000030.fits\n",
      "reading 43/153 /fs/scratch/PCON0003/warner785/bwarner/Y3_GOLD_2_0_STRIPE82_000102.fits\n",
      "reading 44/153 /fs/scratch/PCON0003/warner785/bwarner/Y3_GOLD_2_0_STRIPE82_000055.fits\n",
      "reading 45/153 /fs/scratch/PCON0003/warner785/bwarner/Y3_GOLD_2_0_STRIPE82_000114.fits\n",
      "reading 46/153 /fs/scratch/PCON0003/warner785/bwarner/Y3_GOLD_2_0_STRIPE82_000048.fits\n",
      "reading 47/153 /fs/scratch/PCON0003/warner785/bwarner/Y3_GOLD_2_0_STRIPE82_000056.fits\n",
      "reading 48/153 /fs/scratch/PCON0003/warner785/bwarner/Y3_GOLD_2_0_STRIPE82_000007.fits\n",
      "reading 49/153 /fs/scratch/PCON0003/warner785/bwarner/Y3_GOLD_2_0_STRIPE82_000138.fits\n",
      "reading 50/153 /fs/scratch/PCON0003/warner785/bwarner/Y3_GOLD_2_0_STRIPE82_000083.fits\n",
      "reading 51/153 /fs/scratch/PCON0003/warner785/bwarner/Y3_GOLD_2_0_STRIPE82_000041.fits\n",
      "reading 52/153 /fs/scratch/PCON0003/warner785/bwarner/Y3_GOLD_2_0_STRIPE82_000002.fits\n",
      "reading 53/153 /fs/scratch/PCON0003/warner785/bwarner/Y3_GOLD_2_0_STRIPE82_000081.fits\n",
      "reading 54/153 /fs/scratch/PCON0003/warner785/bwarner/Y3_GOLD_2_0_STRIPE82_000153.fits\n",
      "reading 55/153 /fs/scratch/PCON0003/warner785/bwarner/Y3_GOLD_2_0_STRIPE82_000020.fits\n",
      "reading 56/153 /fs/scratch/PCON0003/warner785/bwarner/Y3_GOLD_2_0_STRIPE82_000103.fits\n",
      "reading 57/153 /fs/scratch/PCON0003/warner785/bwarner/Y3_GOLD_2_0_STRIPE82_000142.fits\n",
      "reading 58/153 /fs/scratch/PCON0003/warner785/bwarner/Y3_GOLD_2_0_STRIPE82_000082.fits\n",
      "reading 59/153 /fs/scratch/PCON0003/warner785/bwarner/Y3_GOLD_2_0_STRIPE82_000100.fits\n",
      "reading 60/153 /fs/scratch/PCON0003/warner785/bwarner/Y3_GOLD_2_0_STRIPE82_000110.fits\n",
      "reading 61/153 /fs/scratch/PCON0003/warner785/bwarner/Y3_GOLD_2_0_STRIPE82_000014.fits\n",
      "reading 62/153 /fs/scratch/PCON0003/warner785/bwarner/Y3_GOLD_2_0_STRIPE82_000144.fits\n",
      "reading 63/153 /fs/scratch/PCON0003/warner785/bwarner/Y3_GOLD_2_0_STRIPE82_000006.fits\n",
      "reading 64/153 /fs/scratch/PCON0003/warner785/bwarner/Y3_GOLD_2_0_STRIPE82_000008.fits\n",
      "reading 65/153 /fs/scratch/PCON0003/warner785/bwarner/Y3_GOLD_2_0_STRIPE82_000005.fits\n",
      "reading 66/153 /fs/scratch/PCON0003/warner785/bwarner/Y3_GOLD_2_0_STRIPE82_000148.fits\n",
      "reading 67/153 /fs/scratch/PCON0003/warner785/bwarner/Y3_GOLD_2_0_STRIPE82_000124.fits\n",
      "reading 68/153 /fs/scratch/PCON0003/warner785/bwarner/Y3_GOLD_2_0_STRIPE82_000122.fits\n",
      "reading 69/153 /fs/scratch/PCON0003/warner785/bwarner/Y3_GOLD_2_0_STRIPE82_000035.fits\n",
      "reading 70/153 /fs/scratch/PCON0003/warner785/bwarner/Y3_GOLD_2_0_STRIPE82_000072.fits\n",
      "reading 71/153 /fs/scratch/PCON0003/warner785/bwarner/Y3_GOLD_2_0_STRIPE82_000093.fits\n",
      "reading 72/153 /fs/scratch/PCON0003/warner785/bwarner/Y3_GOLD_2_0_STRIPE82_000033.fits\n",
      "reading 73/153 /fs/scratch/PCON0003/warner785/bwarner/Y3_GOLD_2_0_STRIPE82_000132.fits\n",
      "reading 74/153 /fs/scratch/PCON0003/warner785/bwarner/Y3_GOLD_2_0_STRIPE82_000011.fits\n",
      "reading 75/153 /fs/scratch/PCON0003/warner785/bwarner/Y3_GOLD_2_0_STRIPE82_000026.fits\n",
      "reading 76/153 /fs/scratch/PCON0003/warner785/bwarner/Y3_GOLD_2_0_STRIPE82_000131.fits\n",
      "reading 77/153 /fs/scratch/PCON0003/warner785/bwarner/Y3_GOLD_2_0_STRIPE82_000129.fits\n",
      "reading 78/153 /fs/scratch/PCON0003/warner785/bwarner/Y3_GOLD_2_0_STRIPE82_000051.fits\n",
      "reading 79/153 /fs/scratch/PCON0003/warner785/bwarner/Y3_GOLD_2_0_STRIPE82_000104.fits\n",
      "reading 80/153 /fs/scratch/PCON0003/warner785/bwarner/Y3_GOLD_2_0_STRIPE82_000105.fits\n",
      "reading 81/153 /fs/scratch/PCON0003/warner785/bwarner/Y3_GOLD_2_0_STRIPE82_000074.fits\n",
      "reading 82/153 /fs/scratch/PCON0003/warner785/bwarner/Y3_GOLD_2_0_STRIPE82_000121.fits\n",
      "reading 83/153 /fs/scratch/PCON0003/warner785/bwarner/Y3_GOLD_2_0_STRIPE82_000078.fits\n",
      "reading 84/153 /fs/scratch/PCON0003/warner785/bwarner/Y3_GOLD_2_0_STRIPE82_000032.fits\n",
      "reading 85/153 /fs/scratch/PCON0003/warner785/bwarner/Y3_GOLD_2_0_STRIPE82_000097.fits\n",
      "reading 86/153 /fs/scratch/PCON0003/warner785/bwarner/Y3_GOLD_2_0_STRIPE82_000135.fits\n",
      "reading 87/153 /fs/scratch/PCON0003/warner785/bwarner/Y3_GOLD_2_0_STRIPE82_000065.fits\n",
      "reading 88/153 /fs/scratch/PCON0003/warner785/bwarner/Y3_GOLD_2_0_STRIPE82_000094.fits\n",
      "reading 89/153 /fs/scratch/PCON0003/warner785/bwarner/Y3_GOLD_2_0_STRIPE82_000003.fits\n",
      "reading 90/153 /fs/scratch/PCON0003/warner785/bwarner/Y3_GOLD_2_0_STRIPE82_000145.fits\n",
      "reading 91/153 /fs/scratch/PCON0003/warner785/bwarner/Y3_GOLD_2_0_STRIPE82_000034.fits\n",
      "reading 92/153 /fs/scratch/PCON0003/warner785/bwarner/Y3_GOLD_2_0_STRIPE82_000146.fits\n",
      "reading 93/153 /fs/scratch/PCON0003/warner785/bwarner/Y3_GOLD_2_0_STRIPE82_000127.fits\n",
      "reading 94/153 /fs/scratch/PCON0003/warner785/bwarner/Y3_GOLD_2_0_STRIPE82_000128.fits\n",
      "reading 95/153 /fs/scratch/PCON0003/warner785/bwarner/Y3_GOLD_2_0_STRIPE82_000116.fits\n",
      "reading 96/153 /fs/scratch/PCON0003/warner785/bwarner/Y3_GOLD_2_0_STRIPE82_000069.fits\n",
      "reading 97/153 /fs/scratch/PCON0003/warner785/bwarner/Y3_GOLD_2_0_STRIPE82_000152.fits\n",
      "reading 98/153 /fs/scratch/PCON0003/warner785/bwarner/Y3_GOLD_2_0_STRIPE82_000053.fits\n",
      "reading 99/153 /fs/scratch/PCON0003/warner785/bwarner/Y3_GOLD_2_0_STRIPE82_000058.fits\n",
      "reading 100/153 /fs/scratch/PCON0003/warner785/bwarner/Y3_GOLD_2_0_STRIPE82_000010.fits\n",
      "reading 101/153 /fs/scratch/PCON0003/warner785/bwarner/Y3_GOLD_2_0_STRIPE82_000046.fits\n",
      "reading 102/153 /fs/scratch/PCON0003/warner785/bwarner/Y3_GOLD_2_0_STRIPE82_000095.fits\n",
      "reading 103/153 /fs/scratch/PCON0003/warner785/bwarner/Y3_GOLD_2_0_STRIPE82_000073.fits\n",
      "reading 104/153 /fs/scratch/PCON0003/warner785/bwarner/Y3_GOLD_2_0_STRIPE82_000019.fits\n",
      "reading 105/153 /fs/scratch/PCON0003/warner785/bwarner/Y3_GOLD_2_0_STRIPE82_000068.fits\n",
      "reading 106/153 /fs/scratch/PCON0003/warner785/bwarner/Y3_GOLD_2_0_STRIPE82_000036.fits\n",
      "reading 107/153 /fs/scratch/PCON0003/warner785/bwarner/Y3_GOLD_2_0_STRIPE82_000075.fits\n",
      "reading 108/153 /fs/scratch/PCON0003/warner785/bwarner/Y3_GOLD_2_0_STRIPE82_000037.fits\n",
      "reading 109/153 /fs/scratch/PCON0003/warner785/bwarner/Y3_GOLD_2_0_STRIPE82_000098.fits\n",
      "reading 110/153 /fs/scratch/PCON0003/warner785/bwarner/Y3_GOLD_2_0_STRIPE82_000022.fits\n",
      "reading 111/153 /fs/scratch/PCON0003/warner785/bwarner/Y3_GOLD_2_0_STRIPE82_000050.fits\n",
      "reading 112/153 /fs/scratch/PCON0003/warner785/bwarner/Y3_GOLD_2_0_STRIPE82_000018.fits\n",
      "reading 113/153 /fs/scratch/PCON0003/warner785/bwarner/Y3_GOLD_2_0_STRIPE82_000024.fits\n",
      "reading 114/153 /fs/scratch/PCON0003/warner785/bwarner/Y3_GOLD_2_0_STRIPE82_000080.fits\n",
      "reading 115/153 /fs/scratch/PCON0003/warner785/bwarner/Y3_GOLD_2_0_STRIPE82_000071.fits\n",
      "reading 116/153 /fs/scratch/PCON0003/warner785/bwarner/Y3_GOLD_2_0_STRIPE82_000054.fits\n",
      "reading 117/153 /fs/scratch/PCON0003/warner785/bwarner/Y3_GOLD_2_0_STRIPE82_000101.fits\n",
      "reading 118/153 /fs/scratch/PCON0003/warner785/bwarner/Y3_GOLD_2_0_STRIPE82_000150.fits\n",
      "reading 119/153 /fs/scratch/PCON0003/warner785/bwarner/Y3_GOLD_2_0_STRIPE82_000113.fits\n",
      "reading 120/153 /fs/scratch/PCON0003/warner785/bwarner/Y3_GOLD_2_0_STRIPE82_000147.fits\n",
      "reading 121/153 /fs/scratch/PCON0003/warner785/bwarner/Y3_GOLD_2_0_STRIPE82_000009.fits\n",
      "reading 122/153 /fs/scratch/PCON0003/warner785/bwarner/Y3_GOLD_2_0_STRIPE82_000123.fits\n",
      "reading 123/153 /fs/scratch/PCON0003/warner785/bwarner/Y3_GOLD_2_0_STRIPE82_000061.fits\n",
      "reading 124/153 /fs/scratch/PCON0003/warner785/bwarner/Y3_GOLD_2_0_STRIPE82_000004.fits\n",
      "reading 125/153 /fs/scratch/PCON0003/warner785/bwarner/Y3_GOLD_2_0_STRIPE82_000085.fits\n",
      "reading 126/153 /fs/scratch/PCON0003/warner785/bwarner/Y3_GOLD_2_0_STRIPE82_000091.fits\n",
      "reading 127/153 /fs/scratch/PCON0003/warner785/bwarner/Y3_GOLD_2_0_STRIPE82_000130.fits\n",
      "reading 128/153 /fs/scratch/PCON0003/warner785/bwarner/Y3_GOLD_2_0_STRIPE82_000067.fits\n",
      "reading 129/153 /fs/scratch/PCON0003/warner785/bwarner/Y3_GOLD_2_0_STRIPE82_000117.fits\n",
      "reading 130/153 /fs/scratch/PCON0003/warner785/bwarner/Y3_GOLD_2_0_STRIPE82_000017.fits\n",
      "reading 131/153 /fs/scratch/PCON0003/warner785/bwarner/Y3_GOLD_2_0_STRIPE82_000149.fits\n",
      "reading 132/153 /fs/scratch/PCON0003/warner785/bwarner/Y3_GOLD_2_0_STRIPE82_000119.fits\n",
      "reading 133/153 /fs/scratch/PCON0003/warner785/bwarner/Y3_GOLD_2_0_STRIPE82_000052.fits\n",
      "reading 134/153 /fs/scratch/PCON0003/warner785/bwarner/Y3_GOLD_2_0_STRIPE82_000031.fits\n",
      "reading 135/153 /fs/scratch/PCON0003/warner785/bwarner/Y3_GOLD_2_0_STRIPE82_000107.fits\n",
      "reading 136/153 /fs/scratch/PCON0003/warner785/bwarner/Y3_GOLD_2_0_STRIPE82_000023.fits\n",
      "reading 137/153 /fs/scratch/PCON0003/warner785/bwarner/Y3_GOLD_2_0_STRIPE82_000044.fits\n",
      "reading 138/153 /fs/scratch/PCON0003/warner785/bwarner/Y3_GOLD_2_0_STRIPE82_000120.fits\n",
      "reading 139/153 /fs/scratch/PCON0003/warner785/bwarner/Y3_GOLD_2_0_STRIPE82_000090.fits\n",
      "reading 140/153 /fs/scratch/PCON0003/warner785/bwarner/Y3_GOLD_2_0_STRIPE82_000106.fits\n",
      "reading 141/153 /fs/scratch/PCON0003/warner785/bwarner/Y3_GOLD_2_0_STRIPE82_000133.fits\n",
      "reading 142/153 /fs/scratch/PCON0003/warner785/bwarner/Y3_GOLD_2_0_STRIPE82_000066.fits\n",
      "reading 143/153 /fs/scratch/PCON0003/warner785/bwarner/Y3_GOLD_2_0_STRIPE82_000139.fits\n",
      "reading 144/153 /fs/scratch/PCON0003/warner785/bwarner/Y3_GOLD_2_0_STRIPE82_000087.fits\n",
      "reading 145/153 /fs/scratch/PCON0003/warner785/bwarner/Y3_GOLD_2_0_STRIPE82_000043.fits\n",
      "reading 146/153 /fs/scratch/PCON0003/warner785/bwarner/Y3_GOLD_2_0_STRIPE82_000039.fits\n",
      "reading 147/153 /fs/scratch/PCON0003/warner785/bwarner/Y3_GOLD_2_0_STRIPE82_000099.fits\n",
      "reading 148/153 /fs/scratch/PCON0003/warner785/bwarner/Y3_GOLD_2_0_STRIPE82_000021.fits\n",
      "reading 149/153 /fs/scratch/PCON0003/warner785/bwarner/Y3_GOLD_2_0_STRIPE82_000092.fits\n",
      "reading 150/153 /fs/scratch/PCON0003/warner785/bwarner/Y3_GOLD_2_0_STRIPE82_000096.fits\n",
      "reading 151/153 /fs/scratch/PCON0003/warner785/bwarner/Y3_GOLD_2_0_STRIPE82_000059.fits\n",
      "reading 152/153 /fs/scratch/PCON0003/warner785/bwarner/Y3_GOLD_2_0_STRIPE82_000109.fits\n",
      "reading 153/153 /fs/scratch/PCON0003/warner785/bwarner/Y3_GOLD_2_0_STRIPE82_000134.fits\n",
      "6867149\n",
      "5757776\n"
     ]
    }
   ],
   "source": [
    "# call required functions from modules \n",
    "\n",
    "sys.path.append('code_py3/')\n",
    "from cmass_modules import io\n",
    "from utils import matchCatalogsbyPosition, hpHEALPixelToRaDec, HealPixifyCatalogs, spatialcheck\n",
    "from xd import mixing_color, XD_fitting_X, assignCMASSProb, doVisualization_1d\n",
    "from run_DMASS_Y3 import priorCut_test\n",
    "\n",
    "# Calling Y3 GOLD v2.0 (training)\n",
    "# All catalogs are in the 'input_path' directory \n",
    "# The 'SearchAndCallFits' function below loads all \n",
    "# catalogs in the directory including 'input_keyword' in its name\n",
    "#input_path = '/n/des/lee.5922/data/gold_cat_Y3/STRIPE82/feae9705305d4430993687930f1cc3ad/'\n",
    "input_path = '/fs/scratch/PCON0003/warner785/bwarner/'\n",
    "# call only first 9 catalogs for a fast run.\n",
    "# to call all catalogs in the directory, use 'Y3_GOLD' as input_keyword \n",
    "# but that will consume huge memory\n",
    "input_keyword = 'Y3_GOLD_2_0_STRIPE82'  \n",
    "# Columns to call\n",
    "columns =  ['RA', 'DEC', \n",
    "            'HPIX_4096',     # Healpix in ring order, nside=4096\n",
    "            'COADD_OBJECT_ID', \n",
    "            'SOF_CM_MAG_CORRECTED_G', # mag_[griz]\n",
    "            'SOF_CM_MAG_CORRECTED_R',\n",
    "            'SOF_CM_MAG_CORRECTED_I',\n",
    "            'SOF_CM_MAG_CORRECTED_Z',\n",
    "            'SOF_CM_MAG_ERR_G',       # mag error_[griz]\n",
    "            'SOF_CM_MAG_ERR_R',\n",
    "            'SOF_CM_MAG_ERR_I',\n",
    "            'SOF_CM_MAG_ERR_Z', 'EXTENDED_CLASS_MASH_SOF', 'MAG_DETMODEL_G', 'MAG_DETMODEL_R', 'MAG_DETMODEL_I', 'MAG_DETMODEL_Z', \n",
    "            'MAGERR_DETMODEL_G', 'MAGERR_DETMODEL_R', 'MAGERR_DETMODEL_I', 'MAGERR_DETMODEL_Z',\n",
    "            'MOF_CM_MAG_CORRECTED_G', 'MOF_CM_MAG_CORRECTED_R', 'MOF_CM_MAG_CORRECTED_I', 'MOF_CM_MAG_CORRECTED_Z',\n",
    "            'MOF_CM_MAG_ERR_G', 'MOF_CM_MAG_ERR_R', 'MOF_CM_MAG_ERR_I', 'MOF_CM_MAG_ERR_Z']\n",
    "gold_st82_old = io.SearchAndCallFits(path = input_path, keyword = input_keyword, columns=columns)\n",
    "\n",
    "# Color/Magnitude cuts to exclude extremely high or low mag/color sources.\n",
    "# 16 < mag_riz < 24, 0 < (r-i) < 1.5, 0 < (g-r) < 2.5\n",
    "# These galaxies are less likeliy to be a CMASS, therefore unnecessary. \n",
    "# We apply these cuts to reduce the sample size to speed up the codes\n",
    "mask_magcut = priorCut_test(gold_st82_old)\n",
    "gold_st82_old = gold_st82_old[mask_magcut]\n",
    "gold_st82_old = gold_st82_old[(gold_st82_old['EXTENDED_CLASS_MASH_SOF'] == 3)]\n",
    "\n",
    "def keepGoodRegion(des, hpInd = False, balrog=None):\n",
    "    import healpy as hp\n",
    "    import fitsio\n",
    "    # 25 is the faintest object detected by DES\n",
    "    # objects larger than 25 considered as Noise\n",
    "    \n",
    "    path = '/fs/scratch/PCON0003/warner785/bwarner/'\n",
    "    #LSSGoldmask = fitsio.read(path+'Y1LSSmask_v2_il22_seeil4.0_nside4096ring_redlimcut.fits')\n",
    "    #LSSGoldmask = fitsio.read(path+'Y1LSSmask_v1_il22seeil4.04096ring_redlimcut.fits')\n",
    "    LSSGoldmask = fitsio.read(path+'MASK_Y3LSSBAOSOF_22_3_v2p2.fits')\n",
    "    ringhp = hp.nest2ring(4096, [LSSGoldmask['PIXEL']])\n",
    "    #Y1LSSmask_v1_il22seeil4.04096ring_redlimcut.fits\n",
    "    #frac_cut = LSSGoldmask['FRAC'] > 0.8\n",
    "    #ind_good_ring = LSSGoldmask['PIXEL'][frac_cut]\n",
    "    ind_good_ring = ringhp\n",
    "    \n",
    "    # healpixify the catalog.\n",
    "    nside=4096\n",
    "    # Convert silly ra/dec to silly HP angular coordinates.\n",
    "    phi = des['RA'] * np.pi / 180.0\n",
    "    theta = ( 90.0 - des['DEC'] ) * np.pi/180.0\n",
    "\n",
    "    hpInd = hp.ang2pix(nside,theta,phi,nest=False)\n",
    "    keep = np.in1d(hpInd, ind_good_ring)\n",
    "    des = des[keep]\n",
    "    if hpInd is True:\n",
    "        return ind_good_ring\n",
    "    else:\n",
    "        return des\n",
    "\n",
    "print(gold_st82_old.size)    \n",
    "gold_st82_old = keepGoodRegion(gold_st82_old)\n",
    "print(gold_st82_old.size)"
   ]
  },
  {
   "cell_type": "code",
   "execution_count": 4,
   "id": "df3ce86e-aa72-42a5-a3b9-641f092f23f3",
   "metadata": {},
   "outputs": [
    {
     "name": "stdout",
     "output_type": "stream",
     "text": [
      "total num of train 258884\n",
      "\n",
      "--------------------------------\n",
      " applying DES veto mask to CMASS\n",
      "--------------------------------\n",
      "num of train_sample after des veto 61031\n"
     ]
    }
   ],
   "source": [
    "#this CMASS used for Y1, and Y3 now:\n",
    "\n",
    "import fitsio\n",
    "cmass = esutil.io.read('/fs/scratch/PCON0003/warner785/bwarner/cmass-dr12v4-S-Reid-full.dat.fits')\n",
    "train_sample = esutil.io.read('/fs/scratch/PCON0003/warner785/bwarner/cmass-dr12v4-S-Reid-full.dat.fits')\n",
    "#train_sample = esutil.io.read('/global/cscratch1/sd/bwarner/galaxy_DR11v1_CMASS_South-photoObj.fits.gz')\n",
    "print('total num of train', train_sample.size)\n",
    "print('\\n--------------------------------\\n applying DES veto mask to CMASS\\n--------------------------------')   \n",
    "train_sample = keepGoodRegion(train_sample)\n",
    "\n",
    "#fitsio.write( output_dir+'/cmass_in_st82.fits', train_sample)\n",
    "\n",
    "print('num of train_sample after des veto', train_sample.size)"
   ]
  },
  {
   "cell_type": "code",
   "execution_count": 6,
   "id": "3afd0656-57cc-44a3-9122-0b3e835ec736",
   "metadata": {},
   "outputs": [
    {
     "name": "stdout",
     "output_type": "stream",
     "text": [
      "1859266\n",
      "0.011108684825086888\n",
      "calculate loglikelihood gaussian with multiprocessing module\n",
      "multiprocessing 50 %"
     ]
    },
    {
     "name": "stderr",
     "output_type": "stream",
     "text": [
      "/users/PCON0003/warner785/.conda/envs/DES_env/lib/python3.7/site-packages/astroML/density_estimation/xdeconv.py:130: RuntimeWarning: divide by zero encountered in log\n",
      "  return log_multivariate_gaussian(X, self.mu, T) + np.log(self.alpha)\n"
     ]
    },
    {
     "name": "stdout",
     "output_type": "stream",
     "text": [
      "multiprocessing 54 %"
     ]
    },
    {
     "name": "stderr",
     "output_type": "stream",
     "text": [
      "/users/PCON0003/warner785/.conda/envs/DES_env/lib/python3.7/site-packages/astroML/density_estimation/xdeconv.py:130: RuntimeWarning: divide by zero encountered in log\n",
      "  return log_multivariate_gaussian(X, self.mu, T) + np.log(self.alpha)\n"
     ]
    },
    {
     "name": "stdout",
     "output_type": "stream",
     "text": [
      "multiprocessing 58 %"
     ]
    },
    {
     "name": "stderr",
     "output_type": "stream",
     "text": [
      "/users/PCON0003/warner785/.conda/envs/DES_env/lib/python3.7/site-packages/astroML/density_estimation/xdeconv.py:130: RuntimeWarning: divide by zero encountered in log\n",
      "  return log_multivariate_gaussian(X, self.mu, T) + np.log(self.alpha)\n",
      "/users/PCON0003/warner785/.conda/envs/DES_env/lib/python3.7/site-packages/astroML/density_estimation/xdeconv.py:130: RuntimeWarning: divide by zero encountered in log\n",
      "  return log_multivariate_gaussian(X, self.mu, T) + np.log(self.alpha)\n"
     ]
    },
    {
     "name": "stdout",
     "output_type": "stream",
     "text": [
      "multiprocessing 67 %"
     ]
    },
    {
     "name": "stderr",
     "output_type": "stream",
     "text": [
      "/users/PCON0003/warner785/.conda/envs/DES_env/lib/python3.7/site-packages/astroML/density_estimation/xdeconv.py:130: RuntimeWarning: divide by zero encountered in log\n",
      "  return log_multivariate_gaussian(X, self.mu, T) + np.log(self.alpha)\n"
     ]
    },
    {
     "name": "stdout",
     "output_type": "stream",
     "text": [
      "multiprocessing 71 %"
     ]
    },
    {
     "name": "stderr",
     "output_type": "stream",
     "text": [
      "/users/PCON0003/warner785/.conda/envs/DES_env/lib/python3.7/site-packages/astroML/density_estimation/xdeconv.py:130: RuntimeWarning: divide by zero encountered in log\n",
      "  return log_multivariate_gaussian(X, self.mu, T) + np.log(self.alpha)\n",
      "/users/PCON0003/warner785/.conda/envs/DES_env/lib/python3.7/site-packages/astroML/density_estimation/xdeconv.py:130: RuntimeWarning: divide by zero encountered in log\n",
      "  return log_multivariate_gaussian(X, self.mu, T) + np.log(self.alpha)\n"
     ]
    },
    {
     "name": "stdout",
     "output_type": "stream",
     "text": [
      "multiprocessing 79 %"
     ]
    },
    {
     "name": "stderr",
     "output_type": "stream",
     "text": [
      "/users/PCON0003/warner785/.conda/envs/DES_env/lib/python3.7/site-packages/astroML/density_estimation/xdeconv.py:130: RuntimeWarning: divide by zero encountered in log\n",
      "  return log_multivariate_gaussian(X, self.mu, T) + np.log(self.alpha)\n"
     ]
    },
    {
     "name": "stdout",
     "output_type": "stream",
     "text": [
      "multiprocessing 83 %"
     ]
    },
    {
     "name": "stderr",
     "output_type": "stream",
     "text": [
      "/users/PCON0003/warner785/.conda/envs/DES_env/lib/python3.7/site-packages/astroML/density_estimation/xdeconv.py:130: RuntimeWarning: divide by zero encountered in log\n",
      "  return log_multivariate_gaussian(X, self.mu, T) + np.log(self.alpha)\n"
     ]
    },
    {
     "name": "stdout",
     "output_type": "stream",
     "text": [
      "multiprocessing 88 %"
     ]
    },
    {
     "name": "stderr",
     "output_type": "stream",
     "text": [
      "/users/PCON0003/warner785/.conda/envs/DES_env/lib/python3.7/site-packages/astroML/density_estimation/xdeconv.py:130: RuntimeWarning: divide by zero encountered in log\n",
      "  return log_multivariate_gaussian(X, self.mu, T) + np.log(self.alpha)\n"
     ]
    },
    {
     "name": "stdout",
     "output_type": "stream",
     "text": [
      "multiprocessing 92 %"
     ]
    },
    {
     "name": "stderr",
     "output_type": "stream",
     "text": [
      "/users/PCON0003/warner785/.conda/envs/DES_env/lib/python3.7/site-packages/astroML/density_estimation/xdeconv.py:130: RuntimeWarning: divide by zero encountered in log\n",
      "  return log_multivariate_gaussian(X, self.mu, T) + np.log(self.alpha)\n"
     ]
    },
    {
     "name": "stdout",
     "output_type": "stream",
     "text": [
      "multiprocessing 96 %"
     ]
    },
    {
     "name": "stderr",
     "output_type": "stream",
     "text": [
      "/users/PCON0003/warner785/.conda/envs/DES_env/lib/python3.7/site-packages/astroML/density_estimation/xdeconv.py:130: RuntimeWarning: divide by zero encountered in log\n",
      "  return log_multivariate_gaussian(X, self.mu, T) + np.log(self.alpha)\n"
     ]
    },
    {
     "name": "stdout",
     "output_type": "stream",
     "text": [
      "multiprocessing 100 % \n",
      "calculate loglikelihood gaussian with multiprocessing module\n",
      "multiprocessing 50 %"
     ]
    },
    {
     "name": "stderr",
     "output_type": "stream",
     "text": [
      "/users/PCON0003/warner785/.conda/envs/DES_env/lib/python3.7/site-packages/astroML/density_estimation/xdeconv.py:130: RuntimeWarning: divide by zero encountered in log\n",
      "  return log_multivariate_gaussian(X, self.mu, T) + np.log(self.alpha)\n"
     ]
    },
    {
     "name": "stdout",
     "output_type": "stream",
     "text": [
      "multiprocessing 54 %"
     ]
    },
    {
     "name": "stderr",
     "output_type": "stream",
     "text": [
      "/users/PCON0003/warner785/.conda/envs/DES_env/lib/python3.7/site-packages/astroML/density_estimation/xdeconv.py:130: RuntimeWarning: divide by zero encountered in log\n",
      "  return log_multivariate_gaussian(X, self.mu, T) + np.log(self.alpha)\n",
      "/users/PCON0003/warner785/.conda/envs/DES_env/lib/python3.7/site-packages/astroML/density_estimation/xdeconv.py:130: RuntimeWarning: divide by zero encountered in log\n",
      "  return log_multivariate_gaussian(X, self.mu, T) + np.log(self.alpha)\n"
     ]
    },
    {
     "name": "stdout",
     "output_type": "stream",
     "text": [
      "multiprocessing 62 %"
     ]
    },
    {
     "name": "stderr",
     "output_type": "stream",
     "text": [
      "/users/PCON0003/warner785/.conda/envs/DES_env/lib/python3.7/site-packages/astroML/density_estimation/xdeconv.py:130: RuntimeWarning: divide by zero encountered in log\n",
      "  return log_multivariate_gaussian(X, self.mu, T) + np.log(self.alpha)\n"
     ]
    },
    {
     "name": "stdout",
     "output_type": "stream",
     "text": [
      "multiprocessing 67 %"
     ]
    },
    {
     "name": "stderr",
     "output_type": "stream",
     "text": [
      "/users/PCON0003/warner785/.conda/envs/DES_env/lib/python3.7/site-packages/astroML/density_estimation/xdeconv.py:130: RuntimeWarning: divide by zero encountered in log\n",
      "  return log_multivariate_gaussian(X, self.mu, T) + np.log(self.alpha)\n"
     ]
    },
    {
     "name": "stdout",
     "output_type": "stream",
     "text": [
      "multiprocessing 71 %"
     ]
    },
    {
     "name": "stderr",
     "output_type": "stream",
     "text": [
      "/users/PCON0003/warner785/.conda/envs/DES_env/lib/python3.7/site-packages/astroML/density_estimation/xdeconv.py:130: RuntimeWarning: divide by zero encountered in log\n",
      "  return log_multivariate_gaussian(X, self.mu, T) + np.log(self.alpha)\n",
      "/users/PCON0003/warner785/.conda/envs/DES_env/lib/python3.7/site-packages/astroML/density_estimation/xdeconv.py:130: RuntimeWarning: divide by zero encountered in log\n",
      "  return log_multivariate_gaussian(X, self.mu, T) + np.log(self.alpha)\n"
     ]
    },
    {
     "name": "stdout",
     "output_type": "stream",
     "text": [
      "multiprocessing 79 %"
     ]
    },
    {
     "name": "stderr",
     "output_type": "stream",
     "text": [
      "/users/PCON0003/warner785/.conda/envs/DES_env/lib/python3.7/site-packages/astroML/density_estimation/xdeconv.py:130: RuntimeWarning: divide by zero encountered in log\n",
      "  return log_multivariate_gaussian(X, self.mu, T) + np.log(self.alpha)\n"
     ]
    },
    {
     "name": "stdout",
     "output_type": "stream",
     "text": [
      "multiprocessing 83 %"
     ]
    },
    {
     "name": "stderr",
     "output_type": "stream",
     "text": [
      "/users/PCON0003/warner785/.conda/envs/DES_env/lib/python3.7/site-packages/astroML/density_estimation/xdeconv.py:130: RuntimeWarning: divide by zero encountered in log\n",
      "  return log_multivariate_gaussian(X, self.mu, T) + np.log(self.alpha)\n"
     ]
    },
    {
     "name": "stdout",
     "output_type": "stream",
     "text": [
      "multiprocessing 88 %"
     ]
    },
    {
     "name": "stderr",
     "output_type": "stream",
     "text": [
      "/users/PCON0003/warner785/.conda/envs/DES_env/lib/python3.7/site-packages/astroML/density_estimation/xdeconv.py:130: RuntimeWarning: divide by zero encountered in log\n",
      "  return log_multivariate_gaussian(X, self.mu, T) + np.log(self.alpha)\n"
     ]
    },
    {
     "name": "stdout",
     "output_type": "stream",
     "text": [
      "multiprocessing 92 %"
     ]
    },
    {
     "name": "stderr",
     "output_type": "stream",
     "text": [
      "/users/PCON0003/warner785/.conda/envs/DES_env/lib/python3.7/site-packages/astroML/density_estimation/xdeconv.py:130: RuntimeWarning: divide by zero encountered in log\n",
      "  return log_multivariate_gaussian(X, self.mu, T) + np.log(self.alpha)\n"
     ]
    },
    {
     "name": "stdout",
     "output_type": "stream",
     "text": [
      "multiprocessing 96 %"
     ]
    },
    {
     "name": "stderr",
     "output_type": "stream",
     "text": [
      "/users/PCON0003/warner785/.conda/envs/DES_env/lib/python3.7/site-packages/astroML/density_estimation/xdeconv.py:130: RuntimeWarning: divide by zero encountered in log\n",
      "  return log_multivariate_gaussian(X, self.mu, T) + np.log(self.alpha)\n"
     ]
    },
    {
     "name": "stdout",
     "output_type": "stream",
     "text": [
      "multiprocessing 100 % \n",
      "pbin = [0.   0.05 0.1  0.15 0.2  0.25 0.3  0.35 0.4  0.45 0.5  0.55 0.6  0.65\n",
      " 0.7  0.75 0.8  0.85 0.9  0.95 1.  ]\n",
      "frac =  [0.00103102 0.07772113 0.13092755 0.17614035 0.22640061 0.2735959\n",
      " 0.32290143 0.37896762 0.42223762 0.48533951 0.52835052 0.57427938\n",
      " 0.62295082 0.67628362 0.73654244 0.7994695  0.83350785 0.8693522\n",
      " 0.89326146 0.91966173]\n",
      "diff2_reduced:  0.0002840242207636532\n",
      "size:  20\n",
      "sum of diff2:  0.005680484415273064\n"
     ]
    }
   ],
   "source": [
    "#(Validation) old\n",
    "\n",
    "mask = (gold_st82_old['RA']>310) & (gold_st82_old['RA']<360)|(gold_st82_old['RA']<7)\n",
    "mask = mask & (gold_st82_old['DEC']>-10) & (gold_st82_old['DEC']<10)\n",
    "gold_st82_train = gold_st82_old[mask]\n",
    "\n",
    "print(gold_st82_train.size)\n",
    "\n",
    "mg1, mg2, _ = esutil.htm.HTM(10).match(train_sample['RA'], train_sample['DEC'], gold_st82_train['RA'], \\\n",
    "                                         gold_st82_train['DEC'],2./3600, maxmatch=1)\n",
    "cmass_mask_train = np.zeros(gold_st82_train.size, dtype=bool)\n",
    "cmass_mask_train[mg2] = 1\n",
    "clean_cmass_data_des_train, nocmass_train = gold_st82_train[cmass_mask_train], gold_st82_train[~cmass_mask_train]\n",
    "\n",
    "cmass_fraction_200 = clean_cmass_data_des_train.size *1./gold_st82_train.size\n",
    "print(cmass_fraction_200)\n",
    "\n",
    "mag = ['MAG_DETMODEL', 'MAG_DETMODEL']\n",
    "err = ['MAGERR_DETMODEL', 'MAGERR_DETMODEL']\n",
    "filter = ['G', 'R', 'I']\n",
    "\n",
    "mask4 =(gold_st82_old['RA']>18)&(gold_st82_old['RA']<43)\n",
    "mask4 = mask4 & (gold_st82_old['DEC']>-10) & (gold_st82_old['DEC']<10)\n",
    "gold_st82_v4 = gold_st82_old[mask4]\n",
    "\n",
    "mg1, mg2, _ = esutil.htm.HTM(10).match(train_sample['RA'], train_sample['DEC'], gold_st82_v4['RA'], \\\n",
    "                                         gold_st82_v4['DEC'],2./3600, maxmatch=1)\n",
    "cmass_mask4 = np.zeros(gold_st82_v4.size, dtype=bool)\n",
    "cmass_mask4[mg2] = 1\n",
    "clean_cmass_data_des_v4, nocmass_v4 = gold_st82_v4[cmass_mask4], gold_st82_v4[~cmass_mask4]\n",
    "\n",
    "clean_dmass_prob_old = assignCMASSProb(clean_cmass_data_des_v4, clf_old, clf_noold, \n",
    "                     cmass_fraction =cmass_fraction_200\n",
    ", \n",
    "                     mag=mag, err=err, filter=filter ) \n",
    "dmass_st82_real_old = clean_dmass_prob_old\n",
    "# healpix number apart of dmass val catalog? -- use gold column of hpix \n",
    "#different way:\n",
    "#\n",
    "dmass_st82_val_old = assignCMASSProb(gold_st82_v4, clf_old, clf_noold, \n",
    "                     cmass_fraction = cmass_fraction_200\n",
    ", \n",
    "                     mag=mag, err=err, filter=filter )\n",
    "\n",
    "\n",
    "pbin = np.linspace(0, 1, 21)\n",
    "pcenter = pbin[:-1] + 0.025\n",
    "N_old, _ = np.histogram(dmass_st82_real_old['CMASS_PROB'], bins=pbin)\n",
    "print('pbin =', pbin)\n",
    "import matplotlib.pyplot as plt\n",
    "#pbin, frac, fracerr = np.genfromtxt('../paper_figure/model_probability.txt', unpack=True)\n",
    "\n",
    "M_old, _ = np.histogram(dmass_st82_val_old['CMASS_PROB'], bins=pbin)\n",
    "\n",
    "frac_old = N_old/M_old\n",
    "print('frac = ', frac_old)\n",
    "fracerr = 1/np.sqrt(N_old) #1 / sqrt(number of true cmass galaxies in each bin)\n",
    "#fracerr = (N/M)*np.sqrt((1/N)-(1/M))\n",
    "\n",
    "x1=frac_old\n",
    "x2=pcenter\n",
    "err=fracerr\n",
    "diff2_old = (x1-x2)**2 \n",
    "diff2_reduced = sum(diff2_old)/diff2_old.size\n",
    "print(\"diff2_reduced: \",diff2_reduced)\n",
    "print(\"size: \",diff2_old.size)\n",
    "print(\"sum of diff2: \",sum(diff2_old))\n",
    "\n",
    "fig, ax = plt.subplots()\n",
    "ax.errorbar( pcenter, frac_old, yerr=fracerr)\n",
    "ax.plot([0,1], [0,1], ls='--', color='grey')\n",
    "#ax.legend(chi2_reduced)\n",
    "plt.title('Validation Region Check OLD')\n",
    "fig.savefig('DET_Val_200_OLD.pdf')\n",
    "\n",
    "#describe plot: ***used for model and validation sample-- what is done to create plot"
   ]
  },
  {
   "cell_type": "code",
   "execution_count": 3,
   "id": "ab0aab64-d35c-46f5-a4af-bd825ee5f3c9",
   "metadata": {},
   "outputs": [
    {
     "name": "stdout",
     "output_type": "stream",
     "text": [
      "\n",
      "Calling catalogs >>>\n",
      "gold_st82_final_000056.fits\n",
      "gold_st82_final_000003.fits\n",
      "gold_st82_final_000026.fits\n",
      "gold_st82_final_000121.fits\n",
      "gold_st82_final_000094.fits\n",
      "gold_st82_final_000040.fits\n",
      "gold_st82_final_000010.fits\n",
      "gold_st82_final_000082.fits\n",
      "gold_st82_final_000068.fits\n",
      "gold_st82_final_000075.fits\n",
      "gold_st82_final_000103.fits\n",
      "gold_st82_final_000112.fits\n",
      "gold_st82_final_000043.fits\n",
      "gold_st82_final_000125.fits\n",
      "gold_st82_final_000083.fits\n",
      "gold_st82_final_000101.fits\n",
      "gold_st82_final_000016.fits\n",
      "gold_st82_final_000031.fits\n",
      "gold_st82_final_000041.fits\n",
      "gold_st82_final_000052.fits\n",
      "gold_st82_final_000092.fits\n",
      "gold_st82_final_000027.fits\n",
      "gold_st82_final_000127.fits\n",
      "gold_st82_final_000095.fits\n",
      "gold_st82_final_000114.fits\n",
      "gold_st82_final_000079.fits\n",
      "gold_st82_final_000045.fits\n",
      "gold_st82_final_000086.fits\n",
      "gold_st82_final_000007.fits\n",
      "gold_st82_final_000029.fits\n",
      "gold_st82_final_000055.fits\n",
      "gold_st82_final_000076.fits\n",
      "gold_st82_final_000069.fits\n",
      "gold_st82_final_000105.fits\n",
      "gold_st82_final_000100.fits\n",
      "gold_st82_final_000008.fits\n",
      "gold_st82_final_000017.fits\n",
      "gold_st82_final_000032.fits\n",
      "gold_st82_final_000070.fits\n",
      "gold_st82_final_000080.fits\n",
      "gold_st82_final_000039.fits\n",
      "gold_st82_final_000093.fits\n",
      "gold_st82_final_000096.fits\n",
      "gold_st82_final_000034.fits\n",
      "gold_st82_final_000104.fits\n",
      "gold_st82_final_000072.fits\n",
      "gold_st82_final_000046.fits\n",
      "gold_st82_final_000037.fits\n",
      "gold_st82_final_000011.fits\n",
      "gold_st82_final_000028.fits\n",
      "gold_st82_final_000060.fits\n",
      "gold_st82_final_000067.fits\n",
      "gold_st82_final_000063.fits\n",
      "gold_st82_final_000050.fits\n",
      "gold_st82_final_000091.fits\n",
      "gold_st82_final_000085.fits\n",
      "gold_st82_final_000033.fits\n",
      "gold_st82_final_000013.fits\n",
      "gold_st82_final_000089.fits\n",
      "gold_st82_final_000004.fits\n",
      "gold_st82_final_000049.fits\n",
      "gold_st82_final_000115.fits\n",
      "gold_st82_final_000113.fits\n",
      "gold_st82_final_000019.fits\n",
      "gold_st82_final_000066.fits\n",
      "gold_st82_final_000107.fits\n",
      "gold_st82_final_000098.fits\n",
      "gold_st82_final_000087.fits\n",
      "gold_st82_final_000065.fits\n",
      "gold_st82_final_000053.fits\n",
      "gold_st82_final_000023.fits\n",
      "gold_st82_final_000020.fits\n",
      "gold_st82_final_000071.fits\n",
      "gold_st82_final_000124.fits\n",
      "gold_st82_final_000001.fits\n",
      "gold_st82_final_000062.fits\n",
      "gold_st82_final_000002.fits\n",
      "gold_st82_final_000025.fits\n",
      "gold_st82_final_000120.fits\n",
      "gold_st82_final_000015.fits\n",
      "gold_st82_final_000014.fits\n",
      "gold_st82_final_000009.fits\n",
      "gold_st82_final_000036.fits\n",
      "gold_st82_final_000024.fits\n",
      "gold_st82_final_000102.fits\n",
      "gold_st82_final_000054.fits\n",
      "gold_st82_final_000047.fits\n",
      "gold_st82_final_000006.fits\n",
      "gold_st82_final_000038.fits\n",
      "gold_st82_final_000111.fits\n",
      "gold_st82_final_000126.fits\n",
      "gold_st82_final_000074.fits\n",
      "gold_st82_final_000084.fits\n",
      "gold_st82_final_000057.fits\n",
      "gold_st82_final_000097.fits\n",
      "gold_st82_final_000123.fits\n",
      "gold_st82_final_000018.fits\n",
      "gold_st82_final_000106.fits\n",
      "gold_st82_final_000128.fits\n",
      "gold_st82_final_000035.fits\n",
      "gold_st82_final_000051.fits\n",
      "gold_st82_final_000021.fits\n",
      "gold_st82_final_000048.fits\n",
      "gold_st82_final_000118.fits\n",
      "gold_st82_final_000109.fits\n",
      "gold_st82_final_000059.fits\n",
      "gold_st82_final_000108.fits\n",
      "gold_st82_final_000099.fits\n",
      "gold_st82_final_000022.fits\n",
      "gold_st82_final_000005.fits\n",
      "gold_st82_final_000122.fits\n",
      "gold_st82_final_000061.fits\n",
      "gold_st82_final_000090.fits\n",
      "gold_st82_final_000088.fits\n",
      "gold_st82_final_000058.fits\n",
      "gold_st82_final_000073.fits\n",
      "gold_st82_final_000030.fits\n",
      "gold_st82_final_000081.fits\n",
      "gold_st82_final_000042.fits\n",
      "gold_st82_final_000012.fits\n",
      "gold_st82_final_000117.fits\n",
      "gold_st82_final_000110.fits\n",
      "gold_st82_final_000044.fits\n",
      "gold_st82_final_000078.fits\n",
      "gold_st82_final_000064.fits\n",
      "gold_st82_final_000129.fits\n",
      "gold_st82_final_000116.fits\n",
      "gold_st82_final_000130.fits\n",
      "gold_st82_final_000119.fits\n",
      "gold_st82_final_000077.fits\n",
      "reading 1/130 /fs/scratch/PCON0008/warner785/bwarner/gold_full/gold_st82_final_000056.fits\n",
      "reading 2/130 /fs/scratch/PCON0008/warner785/bwarner/gold_full/gold_st82_final_000003.fits\n",
      "reading 3/130 /fs/scratch/PCON0008/warner785/bwarner/gold_full/gold_st82_final_000026.fits\n",
      "reading 4/130 /fs/scratch/PCON0008/warner785/bwarner/gold_full/gold_st82_final_000121.fits\n",
      "reading 5/130 /fs/scratch/PCON0008/warner785/bwarner/gold_full/gold_st82_final_000094.fits\n",
      "reading 6/130 /fs/scratch/PCON0008/warner785/bwarner/gold_full/gold_st82_final_000040.fits\n",
      "reading 7/130 /fs/scratch/PCON0008/warner785/bwarner/gold_full/gold_st82_final_000010.fits\n",
      "reading 8/130 /fs/scratch/PCON0008/warner785/bwarner/gold_full/gold_st82_final_000082.fits\n",
      "reading 9/130 /fs/scratch/PCON0008/warner785/bwarner/gold_full/gold_st82_final_000068.fits\n",
      "reading 10/130 /fs/scratch/PCON0008/warner785/bwarner/gold_full/gold_st82_final_000075.fits\n",
      "reading 11/130 /fs/scratch/PCON0008/warner785/bwarner/gold_full/gold_st82_final_000103.fits\n",
      "reading 12/130 /fs/scratch/PCON0008/warner785/bwarner/gold_full/gold_st82_final_000112.fits\n",
      "reading 13/130 /fs/scratch/PCON0008/warner785/bwarner/gold_full/gold_st82_final_000043.fits\n",
      "reading 14/130 /fs/scratch/PCON0008/warner785/bwarner/gold_full/gold_st82_final_000125.fits\n",
      "reading 15/130 /fs/scratch/PCON0008/warner785/bwarner/gold_full/gold_st82_final_000083.fits\n",
      "reading 16/130 /fs/scratch/PCON0008/warner785/bwarner/gold_full/gold_st82_final_000101.fits\n",
      "reading 17/130 /fs/scratch/PCON0008/warner785/bwarner/gold_full/gold_st82_final_000016.fits\n",
      "reading 18/130 /fs/scratch/PCON0008/warner785/bwarner/gold_full/gold_st82_final_000031.fits\n",
      "reading 19/130 /fs/scratch/PCON0008/warner785/bwarner/gold_full/gold_st82_final_000041.fits\n",
      "reading 20/130 /fs/scratch/PCON0008/warner785/bwarner/gold_full/gold_st82_final_000052.fits\n",
      "reading 21/130 /fs/scratch/PCON0008/warner785/bwarner/gold_full/gold_st82_final_000092.fits\n",
      "reading 22/130 /fs/scratch/PCON0008/warner785/bwarner/gold_full/gold_st82_final_000027.fits\n",
      "reading 23/130 /fs/scratch/PCON0008/warner785/bwarner/gold_full/gold_st82_final_000127.fits\n",
      "reading 24/130 /fs/scratch/PCON0008/warner785/bwarner/gold_full/gold_st82_final_000095.fits\n",
      "reading 25/130 /fs/scratch/PCON0008/warner785/bwarner/gold_full/gold_st82_final_000114.fits\n",
      "reading 26/130 /fs/scratch/PCON0008/warner785/bwarner/gold_full/gold_st82_final_000079.fits\n",
      "reading 27/130 /fs/scratch/PCON0008/warner785/bwarner/gold_full/gold_st82_final_000045.fits\n",
      "reading 28/130 /fs/scratch/PCON0008/warner785/bwarner/gold_full/gold_st82_final_000086.fits\n",
      "reading 29/130 /fs/scratch/PCON0008/warner785/bwarner/gold_full/gold_st82_final_000007.fits\n",
      "reading 30/130 /fs/scratch/PCON0008/warner785/bwarner/gold_full/gold_st82_final_000029.fits\n",
      "reading 31/130 /fs/scratch/PCON0008/warner785/bwarner/gold_full/gold_st82_final_000055.fits\n",
      "reading 32/130 /fs/scratch/PCON0008/warner785/bwarner/gold_full/gold_st82_final_000076.fits\n",
      "reading 33/130 /fs/scratch/PCON0008/warner785/bwarner/gold_full/gold_st82_final_000069.fits\n",
      "reading 34/130 /fs/scratch/PCON0008/warner785/bwarner/gold_full/gold_st82_final_000105.fits\n",
      "reading 35/130 /fs/scratch/PCON0008/warner785/bwarner/gold_full/gold_st82_final_000100.fits\n",
      "reading 36/130 /fs/scratch/PCON0008/warner785/bwarner/gold_full/gold_st82_final_000008.fits\n",
      "reading 37/130 /fs/scratch/PCON0008/warner785/bwarner/gold_full/gold_st82_final_000017.fits\n",
      "reading 38/130 /fs/scratch/PCON0008/warner785/bwarner/gold_full/gold_st82_final_000032.fits\n",
      "reading 39/130 /fs/scratch/PCON0008/warner785/bwarner/gold_full/gold_st82_final_000070.fits\n",
      "reading 40/130 /fs/scratch/PCON0008/warner785/bwarner/gold_full/gold_st82_final_000080.fits\n",
      "reading 41/130 /fs/scratch/PCON0008/warner785/bwarner/gold_full/gold_st82_final_000039.fits\n",
      "reading 42/130 /fs/scratch/PCON0008/warner785/bwarner/gold_full/gold_st82_final_000093.fits\n",
      "reading 43/130 /fs/scratch/PCON0008/warner785/bwarner/gold_full/gold_st82_final_000096.fits\n",
      "reading 44/130 /fs/scratch/PCON0008/warner785/bwarner/gold_full/gold_st82_final_000034.fits\n",
      "reading 45/130 /fs/scratch/PCON0008/warner785/bwarner/gold_full/gold_st82_final_000104.fits\n",
      "reading 46/130 /fs/scratch/PCON0008/warner785/bwarner/gold_full/gold_st82_final_000072.fits\n",
      "reading 47/130 /fs/scratch/PCON0008/warner785/bwarner/gold_full/gold_st82_final_000046.fits\n",
      "reading 48/130 /fs/scratch/PCON0008/warner785/bwarner/gold_full/gold_st82_final_000037.fits\n",
      "reading 49/130 /fs/scratch/PCON0008/warner785/bwarner/gold_full/gold_st82_final_000011.fits\n",
      "reading 50/130 /fs/scratch/PCON0008/warner785/bwarner/gold_full/gold_st82_final_000028.fits\n",
      "reading 51/130 /fs/scratch/PCON0008/warner785/bwarner/gold_full/gold_st82_final_000060.fits\n",
      "reading 52/130 /fs/scratch/PCON0008/warner785/bwarner/gold_full/gold_st82_final_000067.fits\n",
      "reading 53/130 /fs/scratch/PCON0008/warner785/bwarner/gold_full/gold_st82_final_000063.fits\n",
      "reading 54/130 /fs/scratch/PCON0008/warner785/bwarner/gold_full/gold_st82_final_000050.fits\n",
      "reading 55/130 /fs/scratch/PCON0008/warner785/bwarner/gold_full/gold_st82_final_000091.fits\n",
      "reading 56/130 /fs/scratch/PCON0008/warner785/bwarner/gold_full/gold_st82_final_000085.fits\n",
      "reading 57/130 /fs/scratch/PCON0008/warner785/bwarner/gold_full/gold_st82_final_000033.fits\n",
      "reading 58/130 /fs/scratch/PCON0008/warner785/bwarner/gold_full/gold_st82_final_000013.fits\n",
      "reading 59/130 /fs/scratch/PCON0008/warner785/bwarner/gold_full/gold_st82_final_000089.fits\n",
      "reading 60/130 /fs/scratch/PCON0008/warner785/bwarner/gold_full/gold_st82_final_000004.fits\n",
      "reading 61/130 /fs/scratch/PCON0008/warner785/bwarner/gold_full/gold_st82_final_000049.fits\n",
      "reading 62/130 /fs/scratch/PCON0008/warner785/bwarner/gold_full/gold_st82_final_000115.fits\n",
      "reading 63/130 /fs/scratch/PCON0008/warner785/bwarner/gold_full/gold_st82_final_000113.fits\n",
      "reading 64/130 /fs/scratch/PCON0008/warner785/bwarner/gold_full/gold_st82_final_000019.fits\n",
      "reading 65/130 /fs/scratch/PCON0008/warner785/bwarner/gold_full/gold_st82_final_000066.fits\n",
      "reading 66/130 /fs/scratch/PCON0008/warner785/bwarner/gold_full/gold_st82_final_000107.fits\n",
      "reading 67/130 /fs/scratch/PCON0008/warner785/bwarner/gold_full/gold_st82_final_000098.fits\n",
      "reading 68/130 /fs/scratch/PCON0008/warner785/bwarner/gold_full/gold_st82_final_000087.fits\n",
      "reading 69/130 /fs/scratch/PCON0008/warner785/bwarner/gold_full/gold_st82_final_000065.fits\n",
      "reading 70/130 /fs/scratch/PCON0008/warner785/bwarner/gold_full/gold_st82_final_000053.fits\n",
      "reading 71/130 /fs/scratch/PCON0008/warner785/bwarner/gold_full/gold_st82_final_000023.fits\n",
      "reading 72/130 /fs/scratch/PCON0008/warner785/bwarner/gold_full/gold_st82_final_000020.fits\n",
      "reading 73/130 /fs/scratch/PCON0008/warner785/bwarner/gold_full/gold_st82_final_000071.fits\n",
      "reading 74/130 /fs/scratch/PCON0008/warner785/bwarner/gold_full/gold_st82_final_000124.fits\n",
      "reading 75/130 /fs/scratch/PCON0008/warner785/bwarner/gold_full/gold_st82_final_000001.fits\n",
      "reading 76/130 /fs/scratch/PCON0008/warner785/bwarner/gold_full/gold_st82_final_000062.fits\n",
      "reading 77/130 /fs/scratch/PCON0008/warner785/bwarner/gold_full/gold_st82_final_000002.fits\n",
      "reading 78/130 /fs/scratch/PCON0008/warner785/bwarner/gold_full/gold_st82_final_000025.fits\n",
      "reading 79/130 /fs/scratch/PCON0008/warner785/bwarner/gold_full/gold_st82_final_000120.fits\n",
      "reading 80/130 /fs/scratch/PCON0008/warner785/bwarner/gold_full/gold_st82_final_000015.fits\n",
      "reading 81/130 /fs/scratch/PCON0008/warner785/bwarner/gold_full/gold_st82_final_000014.fits\n",
      "reading 82/130 /fs/scratch/PCON0008/warner785/bwarner/gold_full/gold_st82_final_000009.fits\n",
      "reading 83/130 /fs/scratch/PCON0008/warner785/bwarner/gold_full/gold_st82_final_000036.fits\n",
      "reading 84/130 /fs/scratch/PCON0008/warner785/bwarner/gold_full/gold_st82_final_000024.fits\n",
      "reading 85/130 /fs/scratch/PCON0008/warner785/bwarner/gold_full/gold_st82_final_000102.fits\n",
      "reading 86/130 /fs/scratch/PCON0008/warner785/bwarner/gold_full/gold_st82_final_000054.fits\n",
      "reading 87/130 /fs/scratch/PCON0008/warner785/bwarner/gold_full/gold_st82_final_000047.fits\n",
      "reading 88/130 /fs/scratch/PCON0008/warner785/bwarner/gold_full/gold_st82_final_000006.fits\n",
      "reading 89/130 /fs/scratch/PCON0008/warner785/bwarner/gold_full/gold_st82_final_000038.fits\n",
      "reading 90/130 /fs/scratch/PCON0008/warner785/bwarner/gold_full/gold_st82_final_000111.fits\n",
      "reading 91/130 /fs/scratch/PCON0008/warner785/bwarner/gold_full/gold_st82_final_000126.fits\n",
      "reading 92/130 /fs/scratch/PCON0008/warner785/bwarner/gold_full/gold_st82_final_000074.fits\n",
      "reading 93/130 /fs/scratch/PCON0008/warner785/bwarner/gold_full/gold_st82_final_000084.fits\n",
      "reading 94/130 /fs/scratch/PCON0008/warner785/bwarner/gold_full/gold_st82_final_000057.fits\n",
      "reading 95/130 /fs/scratch/PCON0008/warner785/bwarner/gold_full/gold_st82_final_000097.fits\n",
      "reading 96/130 /fs/scratch/PCON0008/warner785/bwarner/gold_full/gold_st82_final_000123.fits\n",
      "reading 97/130 /fs/scratch/PCON0008/warner785/bwarner/gold_full/gold_st82_final_000018.fits\n",
      "reading 98/130 /fs/scratch/PCON0008/warner785/bwarner/gold_full/gold_st82_final_000106.fits\n",
      "reading 99/130 /fs/scratch/PCON0008/warner785/bwarner/gold_full/gold_st82_final_000128.fits\n",
      "reading 100/130 /fs/scratch/PCON0008/warner785/bwarner/gold_full/gold_st82_final_000035.fits\n",
      "reading 101/130 /fs/scratch/PCON0008/warner785/bwarner/gold_full/gold_st82_final_000051.fits\n",
      "reading 102/130 /fs/scratch/PCON0008/warner785/bwarner/gold_full/gold_st82_final_000021.fits\n",
      "reading 103/130 /fs/scratch/PCON0008/warner785/bwarner/gold_full/gold_st82_final_000048.fits\n",
      "reading 104/130 /fs/scratch/PCON0008/warner785/bwarner/gold_full/gold_st82_final_000118.fits\n",
      "reading 105/130 /fs/scratch/PCON0008/warner785/bwarner/gold_full/gold_st82_final_000109.fits\n",
      "reading 106/130 /fs/scratch/PCON0008/warner785/bwarner/gold_full/gold_st82_final_000059.fits\n",
      "reading 107/130 /fs/scratch/PCON0008/warner785/bwarner/gold_full/gold_st82_final_000108.fits\n",
      "reading 108/130 /fs/scratch/PCON0008/warner785/bwarner/gold_full/gold_st82_final_000099.fits\n",
      "reading 109/130 /fs/scratch/PCON0008/warner785/bwarner/gold_full/gold_st82_final_000022.fits\n",
      "reading 110/130 /fs/scratch/PCON0008/warner785/bwarner/gold_full/gold_st82_final_000005.fits\n",
      "reading 111/130 /fs/scratch/PCON0008/warner785/bwarner/gold_full/gold_st82_final_000122.fits\n",
      "reading 112/130 /fs/scratch/PCON0008/warner785/bwarner/gold_full/gold_st82_final_000061.fits\n",
      "reading 113/130 /fs/scratch/PCON0008/warner785/bwarner/gold_full/gold_st82_final_000090.fits\n",
      "reading 114/130 /fs/scratch/PCON0008/warner785/bwarner/gold_full/gold_st82_final_000088.fits\n",
      "reading 115/130 /fs/scratch/PCON0008/warner785/bwarner/gold_full/gold_st82_final_000058.fits\n",
      "reading 116/130 /fs/scratch/PCON0008/warner785/bwarner/gold_full/gold_st82_final_000073.fits\n",
      "reading 117/130 /fs/scratch/PCON0008/warner785/bwarner/gold_full/gold_st82_final_000030.fits\n",
      "reading 118/130 /fs/scratch/PCON0008/warner785/bwarner/gold_full/gold_st82_final_000081.fits\n",
      "reading 119/130 /fs/scratch/PCON0008/warner785/bwarner/gold_full/gold_st82_final_000042.fits\n",
      "reading 120/130 /fs/scratch/PCON0008/warner785/bwarner/gold_full/gold_st82_final_000012.fits\n",
      "reading 121/130 /fs/scratch/PCON0008/warner785/bwarner/gold_full/gold_st82_final_000117.fits\n",
      "reading 122/130 /fs/scratch/PCON0008/warner785/bwarner/gold_full/gold_st82_final_000110.fits\n",
      "reading 123/130 /fs/scratch/PCON0008/warner785/bwarner/gold_full/gold_st82_final_000044.fits\n",
      "reading 124/130 /fs/scratch/PCON0008/warner785/bwarner/gold_full/gold_st82_final_000078.fits\n",
      "reading 125/130 /fs/scratch/PCON0008/warner785/bwarner/gold_full/gold_st82_final_000064.fits\n",
      "reading 126/130 /fs/scratch/PCON0008/warner785/bwarner/gold_full/gold_st82_final_000129.fits\n",
      "reading 127/130 /fs/scratch/PCON0008/warner785/bwarner/gold_full/gold_st82_final_000116.fits\n",
      "reading 128/130 /fs/scratch/PCON0008/warner785/bwarner/gold_full/gold_st82_final_000130.fits\n",
      "reading 129/130 /fs/scratch/PCON0008/warner785/bwarner/gold_full/gold_st82_final_000119.fits\n",
      "reading 130/130 /fs/scratch/PCON0008/warner785/bwarner/gold_full/gold_st82_final_000077.fits\n",
      "6860133\n",
      "5752145\n"
     ]
    }
   ],
   "source": [
    "sys.path.append('code_py3/')\n",
    "from cmass_modules import io\n",
    "from utils import matchCatalogsbyPosition, hpHEALPixelToRaDec, HealPixifyCatalogs, spatialcheck\n",
    "from xd import mixing_color, XD_fitting_X, assignCMASSProb, doVisualization_1d\n",
    "from run_DMASS_Y3 import priorCut_test\n",
    "\n",
    "# Calling Y3 GOLD v2.0 (training)\n",
    "# All catalogs are in the 'input_path' directory \n",
    "# The 'SearchAndCallFits' function below loads all \n",
    "# catalogs in the directory including 'input_keyword' in its name\n",
    "#input_path = '/n/des/lee.5922/data/gold_cat_Y3/STRIPE82/feae9705305d4430993687930f1cc3ad/'\n",
    "input_path = '/fs/scratch/PCON0008/warner785/bwarner/gold_full/'\n",
    "# call only first 9 catalogs for a fast run.\n",
    "# to call all catalogs in the directory, use 'Y3_GOLD' as input_keyword \n",
    "# but that will consume huge memory\n",
    "input_keyword = 'gold_st82_final'  \n",
    "# Columns to call\n",
    "columns =  ['RA', 'DEC', \n",
    "            'HPIX_4096',     # Healpix in ring order, nside=4096\n",
    "            'COADD_OBJECT_ID', \n",
    "            'SOF_CM_MAG_CORRECTED_G', # mag_[griz]\n",
    "            'SOF_CM_MAG_CORRECTED_R',\n",
    "            'SOF_CM_MAG_CORRECTED_I',\n",
    "            'SOF_CM_MAG_CORRECTED_Z',\n",
    "            'SOF_CM_MAG_ERR_G',       # mag error_[griz]\n",
    "            'SOF_CM_MAG_ERR_R',\n",
    "            'SOF_CM_MAG_ERR_I',\n",
    "            'SOF_CM_MAG_ERR_Z', 'EXTENDED_CLASS_MASH_SOF', 'MAG_DETMODEL_G', 'MAG_DETMODEL_R', 'MAG_DETMODEL_I', 'MAG_DETMODEL_Z', \n",
    "            'MAGERR_DETMODEL_G', 'MAGERR_DETMODEL_R', 'MAGERR_DETMODEL_I', 'MAGERR_DETMODEL_Z',\n",
    "            'MOF_CM_MAG_CORRECTED_G', 'MOF_CM_MAG_CORRECTED_R', 'MOF_CM_MAG_CORRECTED_I', 'MOF_CM_MAG_CORRECTED_Z',\n",
    "            'MOF_CM_MAG_ERR_G', 'MOF_CM_MAG_ERR_R', 'MOF_CM_MAG_ERR_I', 'MOF_CM_MAG_ERR_Z']\n",
    "gold_st82_new = io.SearchAndCallFits(path = input_path, keyword = input_keyword, columns=columns)\n",
    "\n",
    "# Color/Magnitude cuts to exclude extremely high or low mag/color sources.\n",
    "# 16 < mag_riz < 24, 0 < (r-i) < 1.5, 0 < (g-r) < 2.5\n",
    "# These galaxies are less likeliy to be a CMASS, therefore unnecessary. \n",
    "# We apply these cuts to reduce the sample size to speed up the codes\n",
    "mask_magcut = priorCut_test(gold_st82_new)\n",
    "gold_st82_new = gold_st82_new[mask_magcut]\n",
    "gold_st82_new = gold_st82_new[(gold_st82_new['EXTENDED_CLASS_MASH_SOF'] == 3)]\n",
    "\n",
    "def keepGoodRegion(des, hpInd = False, balrog=None):\n",
    "    import healpy as hp\n",
    "    import fitsio\n",
    "    # 25 is the faintest object detected by DES\n",
    "    # objects larger than 25 considered as Noise\n",
    "    \n",
    "    path = '/fs/scratch/PCON0008/warner785/bwarner/'\n",
    "    #LSSGoldmask = fitsio.read(path+'Y1LSSmask_v2_il22_seeil4.0_nside4096ring_redlimcut.fits')\n",
    "    #LSSGoldmask = fitsio.read(path+'Y1LSSmask_v1_il22seeil4.04096ring_redlimcut.fits')\n",
    "    LSSGoldmask = fitsio.read(path+'MASK_Y3LSSBAOSOF_22_3_v2p2.fits')\n",
    "    ringhp = hp.nest2ring(4096, [LSSGoldmask['PIXEL']])\n",
    "    #Y1LSSmask_v1_il22seeil4.04096ring_redlimcut.fits\n",
    "    #frac_cut = LSSGoldmask['FRAC'] > 0.8\n",
    "    #ind_good_ring = LSSGoldmask['PIXEL'][frac_cut]\n",
    "    ind_good_ring = ringhp\n",
    "    \n",
    "    # healpixify the catalog.\n",
    "    nside=4096\n",
    "    # Convert silly ra/dec to silly HP angular coordinates.\n",
    "    phi = des['RA'] * np.pi / 180.0\n",
    "    theta = ( 90.0 - des['DEC'] ) * np.pi/180.0\n",
    "\n",
    "    hpInd = hp.ang2pix(nside,theta,phi,nest=False)\n",
    "    keep = np.in1d(hpInd, ind_good_ring)\n",
    "    des = des[keep]\n",
    "    if hpInd is True:\n",
    "        return ind_good_ring\n",
    "    else:\n",
    "        return des\n",
    "\n",
    "print(gold_st82_new.size)    \n",
    "gold_st82_new = keepGoodRegion(gold_st82_new)\n",
    "print(gold_st82_new.size)"
   ]
  },
  {
   "cell_type": "code",
   "execution_count": 7,
   "id": "fbc530a4-ae1d-4c57-bc42-11613f284855",
   "metadata": {},
   "outputs": [
    {
     "name": "stdout",
     "output_type": "stream",
     "text": [
      "1855129\n",
      "0.011133457565484664\n",
      "calculate loglikelihood gaussian with multiprocessing module\n",
      "multiprocessing 50 %"
     ]
    },
    {
     "name": "stderr",
     "output_type": "stream",
     "text": [
      "/users/PCON0003/warner785/.conda/envs/DES_env/lib/python3.7/site-packages/astroML/density_estimation/xdeconv.py:130: RuntimeWarning: divide by zero encountered in log\n",
      "  return log_multivariate_gaussian(X, self.mu, T) + np.log(self.alpha)\n",
      "/users/PCON0003/warner785/.conda/envs/DES_env/lib/python3.7/site-packages/astroML/density_estimation/xdeconv.py:130: RuntimeWarning: divide by zero encountered in log\n",
      "  return log_multivariate_gaussian(X, self.mu, T) + np.log(self.alpha)\n"
     ]
    },
    {
     "name": "stdout",
     "output_type": "stream",
     "text": [
      "multiprocessing 58 %"
     ]
    },
    {
     "name": "stderr",
     "output_type": "stream",
     "text": [
      "/users/PCON0003/warner785/.conda/envs/DES_env/lib/python3.7/site-packages/astroML/density_estimation/xdeconv.py:130: RuntimeWarning: divide by zero encountered in log\n",
      "  return log_multivariate_gaussian(X, self.mu, T) + np.log(self.alpha)\n",
      "/users/PCON0003/warner785/.conda/envs/DES_env/lib/python3.7/site-packages/astroML/density_estimation/xdeconv.py:130: RuntimeWarning: divide by zero encountered in log\n",
      "  return log_multivariate_gaussian(X, self.mu, T) + np.log(self.alpha)\n"
     ]
    },
    {
     "name": "stdout",
     "output_type": "stream",
     "text": [
      "multiprocessing 67 %"
     ]
    },
    {
     "name": "stderr",
     "output_type": "stream",
     "text": [
      "/users/PCON0003/warner785/.conda/envs/DES_env/lib/python3.7/site-packages/astroML/density_estimation/xdeconv.py:130: RuntimeWarning: divide by zero encountered in log\n",
      "  return log_multivariate_gaussian(X, self.mu, T) + np.log(self.alpha)\n"
     ]
    },
    {
     "name": "stdout",
     "output_type": "stream",
     "text": [
      "multiprocessing 71 %"
     ]
    },
    {
     "name": "stderr",
     "output_type": "stream",
     "text": [
      "/users/PCON0003/warner785/.conda/envs/DES_env/lib/python3.7/site-packages/astroML/density_estimation/xdeconv.py:130: RuntimeWarning: divide by zero encountered in log\n",
      "  return log_multivariate_gaussian(X, self.mu, T) + np.log(self.alpha)\n"
     ]
    },
    {
     "name": "stdout",
     "output_type": "stream",
     "text": [
      "multiprocessing 75 %"
     ]
    },
    {
     "name": "stderr",
     "output_type": "stream",
     "text": [
      "/users/PCON0003/warner785/.conda/envs/DES_env/lib/python3.7/site-packages/astroML/density_estimation/xdeconv.py:130: RuntimeWarning: divide by zero encountered in log\n",
      "  return log_multivariate_gaussian(X, self.mu, T) + np.log(self.alpha)\n",
      "/users/PCON0003/warner785/.conda/envs/DES_env/lib/python3.7/site-packages/astroML/density_estimation/xdeconv.py:130: RuntimeWarning: divide by zero encountered in log\n",
      "  return log_multivariate_gaussian(X, self.mu, T) + np.log(self.alpha)\n"
     ]
    },
    {
     "name": "stdout",
     "output_type": "stream",
     "text": [
      "multiprocessing 83 %"
     ]
    },
    {
     "name": "stderr",
     "output_type": "stream",
     "text": [
      "/users/PCON0003/warner785/.conda/envs/DES_env/lib/python3.7/site-packages/astroML/density_estimation/xdeconv.py:130: RuntimeWarning: divide by zero encountered in log\n",
      "  return log_multivariate_gaussian(X, self.mu, T) + np.log(self.alpha)\n"
     ]
    },
    {
     "name": "stdout",
     "output_type": "stream",
     "text": [
      "multiprocessing 88 %"
     ]
    },
    {
     "name": "stderr",
     "output_type": "stream",
     "text": [
      "/users/PCON0003/warner785/.conda/envs/DES_env/lib/python3.7/site-packages/astroML/density_estimation/xdeconv.py:130: RuntimeWarning: divide by zero encountered in log\n",
      "  return log_multivariate_gaussian(X, self.mu, T) + np.log(self.alpha)\n",
      "/users/PCON0003/warner785/.conda/envs/DES_env/lib/python3.7/site-packages/astroML/density_estimation/xdeconv.py:130: RuntimeWarning: divide by zero encountered in log\n",
      "  return log_multivariate_gaussian(X, self.mu, T) + np.log(self.alpha)\n",
      "/users/PCON0003/warner785/.conda/envs/DES_env/lib/python3.7/site-packages/astroML/density_estimation/xdeconv.py:130: RuntimeWarning: divide by zero encountered in log\n",
      "  return log_multivariate_gaussian(X, self.mu, T) + np.log(self.alpha)\n"
     ]
    },
    {
     "name": "stdout",
     "output_type": "stream",
     "text": [
      "multiprocessing 100 % \n",
      "calculate loglikelihood gaussian with multiprocessing module\n",
      "multiprocessing 50 %"
     ]
    },
    {
     "name": "stderr",
     "output_type": "stream",
     "text": [
      "/users/PCON0003/warner785/.conda/envs/DES_env/lib/python3.7/site-packages/astroML/density_estimation/xdeconv.py:130: RuntimeWarning: divide by zero encountered in log\n",
      "  return log_multivariate_gaussian(X, self.mu, T) + np.log(self.alpha)\n"
     ]
    },
    {
     "name": "stdout",
     "output_type": "stream",
     "text": [
      "multiprocessing 54 %"
     ]
    },
    {
     "name": "stderr",
     "output_type": "stream",
     "text": [
      "/users/PCON0003/warner785/.conda/envs/DES_env/lib/python3.7/site-packages/astroML/density_estimation/xdeconv.py:130: RuntimeWarning: divide by zero encountered in log\n",
      "  return log_multivariate_gaussian(X, self.mu, T) + np.log(self.alpha)\n"
     ]
    },
    {
     "name": "stdout",
     "output_type": "stream",
     "text": [
      "multiprocessing 58 %"
     ]
    },
    {
     "name": "stderr",
     "output_type": "stream",
     "text": [
      "/users/PCON0003/warner785/.conda/envs/DES_env/lib/python3.7/site-packages/astroML/density_estimation/xdeconv.py:130: RuntimeWarning: divide by zero encountered in log\n",
      "  return log_multivariate_gaussian(X, self.mu, T) + np.log(self.alpha)\n",
      "/users/PCON0003/warner785/.conda/envs/DES_env/lib/python3.7/site-packages/astroML/density_estimation/xdeconv.py:130: RuntimeWarning: divide by zero encountered in log\n",
      "  return log_multivariate_gaussian(X, self.mu, T) + np.log(self.alpha)\n"
     ]
    },
    {
     "name": "stdout",
     "output_type": "stream",
     "text": [
      "multiprocessing 67 %"
     ]
    },
    {
     "name": "stderr",
     "output_type": "stream",
     "text": [
      "/users/PCON0003/warner785/.conda/envs/DES_env/lib/python3.7/site-packages/astroML/density_estimation/xdeconv.py:130: RuntimeWarning: divide by zero encountered in log\n",
      "  return log_multivariate_gaussian(X, self.mu, T) + np.log(self.alpha)\n"
     ]
    },
    {
     "name": "stdout",
     "output_type": "stream",
     "text": [
      "multiprocessing 71 %"
     ]
    },
    {
     "name": "stderr",
     "output_type": "stream",
     "text": [
      "/users/PCON0003/warner785/.conda/envs/DES_env/lib/python3.7/site-packages/astroML/density_estimation/xdeconv.py:130: RuntimeWarning: divide by zero encountered in log\n",
      "  return log_multivariate_gaussian(X, self.mu, T) + np.log(self.alpha)\n"
     ]
    },
    {
     "name": "stdout",
     "output_type": "stream",
     "text": [
      "multiprocessing 75 %"
     ]
    },
    {
     "name": "stderr",
     "output_type": "stream",
     "text": [
      "/users/PCON0003/warner785/.conda/envs/DES_env/lib/python3.7/site-packages/astroML/density_estimation/xdeconv.py:130: RuntimeWarning: divide by zero encountered in log\n",
      "  return log_multivariate_gaussian(X, self.mu, T) + np.log(self.alpha)\n"
     ]
    },
    {
     "name": "stdout",
     "output_type": "stream",
     "text": [
      "multiprocessing 79 %"
     ]
    },
    {
     "name": "stderr",
     "output_type": "stream",
     "text": [
      "/users/PCON0003/warner785/.conda/envs/DES_env/lib/python3.7/site-packages/astroML/density_estimation/xdeconv.py:130: RuntimeWarning: divide by zero encountered in log\n",
      "  return log_multivariate_gaussian(X, self.mu, T) + np.log(self.alpha)\n"
     ]
    },
    {
     "name": "stdout",
     "output_type": "stream",
     "text": [
      "multiprocessing 83 %"
     ]
    },
    {
     "name": "stderr",
     "output_type": "stream",
     "text": [
      "/users/PCON0003/warner785/.conda/envs/DES_env/lib/python3.7/site-packages/astroML/density_estimation/xdeconv.py:130: RuntimeWarning: divide by zero encountered in log\n",
      "  return log_multivariate_gaussian(X, self.mu, T) + np.log(self.alpha)\n",
      "/users/PCON0003/warner785/.conda/envs/DES_env/lib/python3.7/site-packages/astroML/density_estimation/xdeconv.py:130: RuntimeWarning: divide by zero encountered in log\n",
      "  return log_multivariate_gaussian(X, self.mu, T) + np.log(self.alpha)\n"
     ]
    },
    {
     "name": "stdout",
     "output_type": "stream",
     "text": [
      "multiprocessing 92 %"
     ]
    },
    {
     "name": "stderr",
     "output_type": "stream",
     "text": [
      "/users/PCON0003/warner785/.conda/envs/DES_env/lib/python3.7/site-packages/astroML/density_estimation/xdeconv.py:130: RuntimeWarning: divide by zero encountered in log\n",
      "  return log_multivariate_gaussian(X, self.mu, T) + np.log(self.alpha)\n"
     ]
    },
    {
     "name": "stdout",
     "output_type": "stream",
     "text": [
      "multiprocessing 96 %"
     ]
    },
    {
     "name": "stderr",
     "output_type": "stream",
     "text": [
      "/users/PCON0003/warner785/.conda/envs/DES_env/lib/python3.7/site-packages/astroML/density_estimation/xdeconv.py:130: RuntimeWarning: divide by zero encountered in log\n",
      "  return log_multivariate_gaussian(X, self.mu, T) + np.log(self.alpha)\n"
     ]
    },
    {
     "name": "stdout",
     "output_type": "stream",
     "text": [
      "multiprocessing 100 % \n",
      "chi2_reduced:  0.39089995733769844\n",
      "size:  20\n",
      "sum of chi2:  7.8179991467539685\n"
     ]
    }
   ],
   "source": [
    "#training region check\n",
    "\n",
    "mask = (gold_st82_new['RA']>310) & (gold_st82_new['RA']<360)|(gold_st82_new['RA']<7)\n",
    "mask = mask & (gold_st82_new['DEC']>-10) & (gold_st82_new['DEC']<10)\n",
    "gold_st82_train = gold_st82_new[mask]\n",
    "\n",
    "mag = ['MAG_DETMODEL', 'MAG_DETMODEL']\n",
    "err = ['MAGERR_DETMODEL', 'MAGERR_DETMODEL']\n",
    "filter = ['G', 'R', 'I']\n",
    "\n",
    "print(gold_st82_train.size)\n",
    "\n",
    "mg1, mg2, _ = esutil.htm.HTM(10).match(train_sample['RA'], train_sample['DEC'], gold_st82_train['RA'], \\\n",
    "                                         gold_st82_train['DEC'],2./3600, maxmatch=1)\n",
    "cmass_mask_train = np.zeros(gold_st82_train.size, dtype=bool)\n",
    "cmass_mask_train[mg2] = 1\n",
    "clean_cmass_data_des_train, nocmass_train = gold_st82_train[cmass_mask_train], gold_st82_train[~cmass_mask_train]\n",
    "\n",
    "cmass_fraction_200 = clean_cmass_data_des_train.size *1./gold_st82_train.size\n",
    "print(cmass_fraction_200)\n",
    "\n",
    "#clean_cmass_data_des = clean_cmass_data_des_train\n",
    "\n",
    "clean_dmass_prob_train = assignCMASSProb(clean_cmass_data_des_train, clf_new, clf_nonew, \n",
    "                     cmass_fraction =cmass_fraction_200\n",
    ", \n",
    "                     mag=mag, err=err, filter=filter )\n",
    "\n",
    "\n",
    "dmass_st82_real_train = clean_dmass_prob_train # actual CMASS galaxies in train set\n",
    "dmass_st82_val_train = assignCMASSProb(gold_st82_train, clf_new, clf_nonew, \n",
    "                     cmass_fraction = cmass_fraction_200\n",
    ", \n",
    "                     mag=mag, err=err, filter=filter )\n",
    "\n",
    "pbin = np.linspace(0, 1, 21)\n",
    "pcenter = pbin[:-1] + 0.025\n",
    "N, _ = np.histogram(dmass_st82_real_train['CMASS_PROB'], bins=pbin)\n",
    "\n",
    "import matplotlib.pyplot as plt\n",
    "#pbin, frac, fracerr = np.genfromtxt('../paper_figure/model_probability.txt', unpack=True)\n",
    "\n",
    "M, _ = np.histogram(dmass_st82_val_train['CMASS_PROB'], bins=pbin)\n",
    "\n",
    "frac = N/M\n",
    "fracerr = 1/np.sqrt(N) #1 / sqrt(number of true cmass galaxies in each bin)\n",
    "\n",
    "x1=frac\n",
    "x2=pcenter\n",
    "err=fracerr\n",
    "chi2 = (x1-x2)**2 / err **2 \n",
    "chi2_reduced = sum(chi2)/chi2.size\n",
    "print(\"chi2_reduced: \",chi2_reduced)\n",
    "print(\"size: \",chi2.size)\n",
    "print(\"sum of chi2: \",sum(chi2))\n",
    "\n",
    "fig, ax = plt.subplots()\n",
    "ax.errorbar( pcenter, frac, yerr=fracerr, label = str(sum(chi2)))\n",
    "ax.plot([0,1], [0,1], ls='--', color='grey')\n",
    "plt.title('Training Region Check')\n",
    "fig.savefig('DMASS_train.pdf')\n",
    "\n",
    "# save the samples. \n",
    "outdir = '../output/test/train_cat/y3/'\n",
    "os.makedirs(outdir, exist_ok=True)\n",
    "esutil.io.write( outdir+'dmass_st82_DET200_TRAIN.fits', dmass_st82_val_train, overwrite=True)"
   ]
  },
  {
   "cell_type": "code",
   "execution_count": 5,
   "id": "14dacf93-4277-43af-8417-3bf3182a2b69",
   "metadata": {},
   "outputs": [
    {
     "name": "stdout",
     "output_type": "stream",
     "text": [
      "1855129\n",
      "0.011133457565484664\n",
      "calculate loglikelihood gaussian with multiprocessing module\n",
      "multiprocessing 50 %"
     ]
    },
    {
     "name": "stderr",
     "output_type": "stream",
     "text": [
      "/users/PCON0003/warner785/.conda/envs/DES_env/lib/python3.7/site-packages/astroML/density_estimation/xdeconv.py:130: RuntimeWarning: divide by zero encountered in log\n",
      "  return log_multivariate_gaussian(X, self.mu, T) + np.log(self.alpha)\n"
     ]
    },
    {
     "name": "stdout",
     "output_type": "stream",
     "text": [
      "multiprocessing 54 %"
     ]
    },
    {
     "name": "stderr",
     "output_type": "stream",
     "text": [
      "/users/PCON0003/warner785/.conda/envs/DES_env/lib/python3.7/site-packages/astroML/density_estimation/xdeconv.py:130: RuntimeWarning: divide by zero encountered in log\n",
      "  return log_multivariate_gaussian(X, self.mu, T) + np.log(self.alpha)\n"
     ]
    },
    {
     "name": "stdout",
     "output_type": "stream",
     "text": [
      "multiprocessing 58 %"
     ]
    },
    {
     "name": "stderr",
     "output_type": "stream",
     "text": [
      "/users/PCON0003/warner785/.conda/envs/DES_env/lib/python3.7/site-packages/astroML/density_estimation/xdeconv.py:130: RuntimeWarning: divide by zero encountered in log\n",
      "  return log_multivariate_gaussian(X, self.mu, T) + np.log(self.alpha)\n"
     ]
    },
    {
     "name": "stdout",
     "output_type": "stream",
     "text": [
      "multiprocessing 62 %"
     ]
    },
    {
     "name": "stderr",
     "output_type": "stream",
     "text": [
      "/users/PCON0003/warner785/.conda/envs/DES_env/lib/python3.7/site-packages/astroML/density_estimation/xdeconv.py:130: RuntimeWarning: divide by zero encountered in log\n",
      "  return log_multivariate_gaussian(X, self.mu, T) + np.log(self.alpha)\n"
     ]
    },
    {
     "name": "stdout",
     "output_type": "stream",
     "text": [
      "multiprocessing 67 %"
     ]
    },
    {
     "name": "stderr",
     "output_type": "stream",
     "text": [
      "/users/PCON0003/warner785/.conda/envs/DES_env/lib/python3.7/site-packages/astroML/density_estimation/xdeconv.py:130: RuntimeWarning: divide by zero encountered in log\n",
      "  return log_multivariate_gaussian(X, self.mu, T) + np.log(self.alpha)\n",
      "/users/PCON0003/warner785/.conda/envs/DES_env/lib/python3.7/site-packages/astroML/density_estimation/xdeconv.py:130: RuntimeWarning: divide by zero encountered in log\n",
      "  return log_multivariate_gaussian(X, self.mu, T) + np.log(self.alpha)\n"
     ]
    },
    {
     "name": "stdout",
     "output_type": "stream",
     "text": [
      "multiprocessing 71 %"
     ]
    },
    {
     "name": "stderr",
     "output_type": "stream",
     "text": [
      "/users/PCON0003/warner785/.conda/envs/DES_env/lib/python3.7/site-packages/astroML/density_estimation/xdeconv.py:130: RuntimeWarning: divide by zero encountered in log\n",
      "  return log_multivariate_gaussian(X, self.mu, T) + np.log(self.alpha)\n"
     ]
    },
    {
     "name": "stdout",
     "output_type": "stream",
     "text": [
      "multiprocessing 79 %"
     ]
    },
    {
     "name": "stderr",
     "output_type": "stream",
     "text": [
      "/users/PCON0003/warner785/.conda/envs/DES_env/lib/python3.7/site-packages/astroML/density_estimation/xdeconv.py:130: RuntimeWarning: divide by zero encountered in log\n",
      "  return log_multivariate_gaussian(X, self.mu, T) + np.log(self.alpha)\n"
     ]
    },
    {
     "name": "stdout",
     "output_type": "stream",
     "text": [
      "multiprocessing 83 %"
     ]
    },
    {
     "name": "stderr",
     "output_type": "stream",
     "text": [
      "/users/PCON0003/warner785/.conda/envs/DES_env/lib/python3.7/site-packages/astroML/density_estimation/xdeconv.py:130: RuntimeWarning: divide by zero encountered in log\n",
      "  return log_multivariate_gaussian(X, self.mu, T) + np.log(self.alpha)\n"
     ]
    },
    {
     "name": "stdout",
     "output_type": "stream",
     "text": [
      "multiprocessing 88 %"
     ]
    },
    {
     "name": "stderr",
     "output_type": "stream",
     "text": [
      "/users/PCON0003/warner785/.conda/envs/DES_env/lib/python3.7/site-packages/astroML/density_estimation/xdeconv.py:130: RuntimeWarning: divide by zero encountered in log\n",
      "  return log_multivariate_gaussian(X, self.mu, T) + np.log(self.alpha)\n"
     ]
    },
    {
     "name": "stdout",
     "output_type": "stream",
     "text": [
      "multiprocessing 92 %"
     ]
    },
    {
     "name": "stderr",
     "output_type": "stream",
     "text": [
      "/users/PCON0003/warner785/.conda/envs/DES_env/lib/python3.7/site-packages/astroML/density_estimation/xdeconv.py:130: RuntimeWarning: divide by zero encountered in log\n",
      "  return log_multivariate_gaussian(X, self.mu, T) + np.log(self.alpha)\n"
     ]
    },
    {
     "name": "stdout",
     "output_type": "stream",
     "text": [
      "multiprocessing 96 %"
     ]
    },
    {
     "name": "stderr",
     "output_type": "stream",
     "text": [
      "/users/PCON0003/warner785/.conda/envs/DES_env/lib/python3.7/site-packages/astroML/density_estimation/xdeconv.py:130: RuntimeWarning: divide by zero encountered in log\n",
      "  return log_multivariate_gaussian(X, self.mu, T) + np.log(self.alpha)\n"
     ]
    },
    {
     "name": "stdout",
     "output_type": "stream",
     "text": [
      "multiprocessing 100 % \n",
      "calculate loglikelihood gaussian with multiprocessing module\n",
      "multiprocessing 50 %"
     ]
    },
    {
     "name": "stderr",
     "output_type": "stream",
     "text": [
      "/users/PCON0003/warner785/.conda/envs/DES_env/lib/python3.7/site-packages/astroML/density_estimation/xdeconv.py:130: RuntimeWarning: divide by zero encountered in log\n",
      "  return log_multivariate_gaussian(X, self.mu, T) + np.log(self.alpha)\n"
     ]
    },
    {
     "name": "stdout",
     "output_type": "stream",
     "text": [
      "multiprocessing 54 %"
     ]
    },
    {
     "name": "stderr",
     "output_type": "stream",
     "text": [
      "/users/PCON0003/warner785/.conda/envs/DES_env/lib/python3.7/site-packages/astroML/density_estimation/xdeconv.py:130: RuntimeWarning: divide by zero encountered in log\n",
      "  return log_multivariate_gaussian(X, self.mu, T) + np.log(self.alpha)\n"
     ]
    },
    {
     "name": "stdout",
     "output_type": "stream",
     "text": [
      "multiprocessing 58 %"
     ]
    },
    {
     "name": "stderr",
     "output_type": "stream",
     "text": [
      "/users/PCON0003/warner785/.conda/envs/DES_env/lib/python3.7/site-packages/astroML/density_estimation/xdeconv.py:130: RuntimeWarning: divide by zero encountered in log\n",
      "  return log_multivariate_gaussian(X, self.mu, T) + np.log(self.alpha)\n"
     ]
    },
    {
     "name": "stdout",
     "output_type": "stream",
     "text": [
      "multiprocessing 62 %"
     ]
    },
    {
     "name": "stderr",
     "output_type": "stream",
     "text": [
      "/users/PCON0003/warner785/.conda/envs/DES_env/lib/python3.7/site-packages/astroML/density_estimation/xdeconv.py:130: RuntimeWarning: divide by zero encountered in log\n",
      "  return log_multivariate_gaussian(X, self.mu, T) + np.log(self.alpha)\n"
     ]
    },
    {
     "name": "stdout",
     "output_type": "stream",
     "text": [
      "multiprocessing 67 %"
     ]
    },
    {
     "name": "stderr",
     "output_type": "stream",
     "text": [
      "/users/PCON0003/warner785/.conda/envs/DES_env/lib/python3.7/site-packages/astroML/density_estimation/xdeconv.py:130: RuntimeWarning: divide by zero encountered in log\n",
      "  return log_multivariate_gaussian(X, self.mu, T) + np.log(self.alpha)\n",
      "/users/PCON0003/warner785/.conda/envs/DES_env/lib/python3.7/site-packages/astroML/density_estimation/xdeconv.py:130: RuntimeWarning: divide by zero encountered in log\n",
      "  return log_multivariate_gaussian(X, self.mu, T) + np.log(self.alpha)\n"
     ]
    },
    {
     "name": "stdout",
     "output_type": "stream",
     "text": [
      "multiprocessing 71 %"
     ]
    },
    {
     "name": "stderr",
     "output_type": "stream",
     "text": [
      "/users/PCON0003/warner785/.conda/envs/DES_env/lib/python3.7/site-packages/astroML/density_estimation/xdeconv.py:130: RuntimeWarning: divide by zero encountered in log\n",
      "  return log_multivariate_gaussian(X, self.mu, T) + np.log(self.alpha)\n"
     ]
    },
    {
     "name": "stdout",
     "output_type": "stream",
     "text": [
      "multiprocessing 79 %"
     ]
    },
    {
     "name": "stderr",
     "output_type": "stream",
     "text": [
      "/users/PCON0003/warner785/.conda/envs/DES_env/lib/python3.7/site-packages/astroML/density_estimation/xdeconv.py:130: RuntimeWarning: divide by zero encountered in log\n",
      "  return log_multivariate_gaussian(X, self.mu, T) + np.log(self.alpha)\n"
     ]
    },
    {
     "name": "stdout",
     "output_type": "stream",
     "text": [
      "multiprocessing 83 %"
     ]
    },
    {
     "name": "stderr",
     "output_type": "stream",
     "text": [
      "/users/PCON0003/warner785/.conda/envs/DES_env/lib/python3.7/site-packages/astroML/density_estimation/xdeconv.py:130: RuntimeWarning: divide by zero encountered in log\n",
      "  return log_multivariate_gaussian(X, self.mu, T) + np.log(self.alpha)\n",
      "/users/PCON0003/warner785/.conda/envs/DES_env/lib/python3.7/site-packages/astroML/density_estimation/xdeconv.py:130: RuntimeWarning: divide by zero encountered in log\n",
      "  return log_multivariate_gaussian(X, self.mu, T) + np.log(self.alpha)\n",
      "/users/PCON0003/warner785/.conda/envs/DES_env/lib/python3.7/site-packages/astroML/density_estimation/xdeconv.py:130: RuntimeWarning: divide by zero encountered in log\n",
      "  return log_multivariate_gaussian(X, self.mu, T) + np.log(self.alpha)\n"
     ]
    },
    {
     "name": "stdout",
     "output_type": "stream",
     "text": [
      "multiprocessing 96 %"
     ]
    },
    {
     "name": "stderr",
     "output_type": "stream",
     "text": [
      "/users/PCON0003/warner785/.conda/envs/DES_env/lib/python3.7/site-packages/astroML/density_estimation/xdeconv.py:130: RuntimeWarning: divide by zero encountered in log\n",
      "  return log_multivariate_gaussian(X, self.mu, T) + np.log(self.alpha)\n"
     ]
    },
    {
     "name": "stdout",
     "output_type": "stream",
     "text": [
      "multiprocessing 100 % \n",
      "pbin = [0.   0.05 0.1  0.15 0.2  0.25 0.3  0.35 0.4  0.45 0.5  0.55 0.6  0.65\n",
      " 0.7  0.75 0.8  0.85 0.9  0.95 1.  ]\n",
      "frac =  [0.00099566 0.07678805 0.12645022 0.17169915 0.22431259 0.27129264\n",
      " 0.33035215 0.3749192  0.41915954 0.45804989 0.54842567 0.56232814\n",
      " 0.60510806 0.68035808 0.71118177 0.78287777 0.81895183 0.85331961\n",
      " 0.89389234 0.91565569]\n",
      "diff2_reduced:  0.000366974168600759\n",
      "size:  20\n",
      "sum of diff2:  0.00733948337201518\n"
     ]
    }
   ],
   "source": [
    "#(Validation) new\n",
    "\n",
    "mask = (gold_st82_new['RA']>310) & (gold_st82_new['RA']<360)|(gold_st82_new['RA']<7)\n",
    "mask = mask & (gold_st82_new['DEC']>-10) & (gold_st82_new['DEC']<10)\n",
    "gold_st82_train = gold_st82_new[mask]\n",
    "\n",
    "print(gold_st82_train.size)\n",
    "\n",
    "mg1, mg2, _ = esutil.htm.HTM(10).match(train_sample['RA'], train_sample['DEC'], gold_st82_train['RA'], \\\n",
    "                                         gold_st82_train['DEC'],2./3600, maxmatch=1)\n",
    "cmass_mask_train = np.zeros(gold_st82_train.size, dtype=bool)\n",
    "cmass_mask_train[mg2] = 1\n",
    "clean_cmass_data_des_train, nocmass_train = gold_st82_train[cmass_mask_train], gold_st82_train[~cmass_mask_train]\n",
    "\n",
    "cmass_fraction_200 = clean_cmass_data_des_train.size *1./gold_st82_train.size\n",
    "print(cmass_fraction_200)\n",
    "\n",
    "mag = ['MAG_DETMODEL', 'MAG_DETMODEL']\n",
    "err = ['MAGERR_DETMODEL', 'MAGERR_DETMODEL']\n",
    "filter = ['G', 'R', 'I']\n",
    "\n",
    "mask4 =(gold_st82_new['RA']>18)&(gold_st82_new['RA']<43)\n",
    "mask4 = mask4 & (gold_st82_new['DEC']>-10) & (gold_st82_new['DEC']<10)\n",
    "gold_st82_v4 = gold_st82_new[mask4]\n",
    "\n",
    "mg1, mg2, _ = esutil.htm.HTM(10).match(train_sample['RA'], train_sample['DEC'], gold_st82_v4['RA'], \\\n",
    "                                         gold_st82_v4['DEC'],2./3600, maxmatch=1)\n",
    "cmass_mask4 = np.zeros(gold_st82_v4.size, dtype=bool)\n",
    "cmass_mask4[mg2] = 1\n",
    "clean_cmass_data_des_v4, nocmass_v4 = gold_st82_v4[cmass_mask4], gold_st82_v4[~cmass_mask4]\n",
    "\n",
    "clean_dmass_prob_new = assignCMASSProb(clean_cmass_data_des_v4, clf_new, clf_nonew, \n",
    "                     cmass_fraction =cmass_fraction_200\n",
    ", \n",
    "                     mag=mag, err=err, filter=filter ) \n",
    "dmass_st82_real_new = clean_dmass_prob_new\n",
    "# healpix number apart of dmass val catalog? -- use gold column of hpix \n",
    "#different way:\n",
    "#\n",
    "dmass_st82_val_new = assignCMASSProb(gold_st82_v4, clf_new, clf_nonew, \n",
    "                     cmass_fraction = cmass_fraction_200\n",
    ", \n",
    "                     mag=mag, err=err, filter=filter )\n",
    "\n",
    "\n",
    "pbin = np.linspace(0, 1, 21)\n",
    "pcenter = pbin[:-1] + 0.025\n",
    "N_new, _ = np.histogram(dmass_st82_real_new['CMASS_PROB'], bins=pbin)\n",
    "print('pbin =', pbin)\n",
    "import matplotlib.pyplot as plt\n",
    "#pbin, frac, fracerr = np.genfromtxt('../paper_figure/model_probability.txt', unpack=True)\n",
    "\n",
    "M_new, _ = np.histogram(dmass_st82_val_new['CMASS_PROB'], bins=pbin)\n",
    "\n",
    "frac_new = N_new/M_new\n",
    "print('frac = ', frac_new)\n",
    "fracerr_new = 1/np.sqrt(N_new) #1 / sqrt(number of true cmass galaxies in each bin)\n",
    "#fracerr = (N/M)*np.sqrt((1/N)-(1/M))\n",
    "\n",
    "x1=frac_new\n",
    "x2=pcenter\n",
    "err=fracerr_new\n",
    "diff2_new = (x1-x2)**2 \n",
    "diff2_reduced = sum(diff2_new)/diff2_new.size\n",
    "print(\"diff2_reduced: \",diff2_reduced)\n",
    "print(\"size: \",diff2_new.size)\n",
    "print(\"sum of diff2: \",sum(diff2_new))\n",
    "\n",
    "fig, ax = plt.subplots()\n",
    "ax.errorbar( pcenter, frac_new, yerr=fracerr_new)\n",
    "ax.plot([0,1], [0,1], ls='--', color='grey')\n",
    "#ax.legend(chi2_reduced)\n",
    "plt.title('Validation Region Final Check NEW')\n",
    "fig.savefig('DET_Val_200_NEW.pdf')\n",
    "\n",
    "# save the samples. \n",
    "outdir = '../output/test/train_cat/y3/'\n",
    "os.makedirs(outdir, exist_ok=True)\n",
    "esutil.io.write( outdir+'dmass_st82_DET200_VAL.fits', dmass_st82_val_new, overwrite=True)"
   ]
  },
  {
   "cell_type": "code",
   "execution_count": 13,
   "id": "03eca9ab-ea2b-440f-a481-a4c1f101e727",
   "metadata": {},
   "outputs": [],
   "source": [
    "#compare\n",
    "\n",
    "fig, ax = plt.subplots()\n",
    "ax.errorbar( pcenter, diff2_old, color = 'r')\n",
    "ax.errorbar( pcenter, diff2_new)\n",
    "plt.title('Difference of models')\n",
    "fig.savefig('Diff_models.pdf')"
   ]
  },
  {
   "cell_type": "code",
   "execution_count": 11,
   "id": "9943c1b3-6894-4eee-97c5-c8dee42f8be7",
   "metadata": {},
   "outputs": [
    {
     "data": {
      "text/plain": [
       "\u001b[0;31mType:\u001b[0m            AxesSubplot\n",
       "\u001b[0;31mString form:\u001b[0m     AxesSubplot(0.125,0.125;0.775x0.755)\n",
       "\u001b[0;31mFile:\u001b[0m            ~/.conda/envs/DES_env/lib/python3.7/site-packages/matplotlib/axes/_subplots.py\n",
       "\u001b[0;31mDocstring:\u001b[0m       <no docstring>\n",
       "\u001b[0;31mClass docstring:\u001b[0m\n",
       "Base class for subplots, which are :class:`Axes` instances with\n",
       "additional methods to facilitate generating and manipulating a set\n",
       "of :class:`Axes` within a figure.\n",
       "\u001b[0;31mInit docstring:\u001b[0m \n",
       "Parameters\n",
       "----------\n",
       "fig : `matplotlib.figure.Figure`\n",
       "\n",
       "*args : tuple (*nrows*, *ncols*, *index*) or int\n",
       "    The array of subplots in the figure has dimensions ``(nrows,\n",
       "    ncols)``, and *index* is the index of the subplot being created.\n",
       "    *index* starts at 1 in the upper left corner and increases to the\n",
       "    right.\n",
       "\n",
       "    If *nrows*, *ncols*, and *index* are all single digit numbers, then\n",
       "    *args* can be passed as a single 3-digit number (e.g. 234 for\n",
       "    (2, 3, 4)).\n"
      ]
     },
     "metadata": {},
     "output_type": "display_data"
    }
   ],
   "source": [
    "ax?"
   ]
  },
  {
   "cell_type": "code",
   "execution_count": null,
   "id": "d4087862-bc4d-4bab-b788-b1f3b70e5b6f",
   "metadata": {},
   "outputs": [],
   "source": []
  }
 ],
 "metadata": {
  "kernelspec": {
   "display_name": "Python (DES_env)",
   "language": "python",
   "name": "des_env"
  },
  "language_info": {
   "codemirror_mode": {
    "name": "ipython",
    "version": 3
   },
   "file_extension": ".py",
   "mimetype": "text/x-python",
   "name": "python",
   "nbconvert_exporter": "python",
   "pygments_lexer": "ipython3",
   "version": "3.7.0"
  }
 },
 "nbformat": 4,
 "nbformat_minor": 5
}
