{
 "cells": [
  {
   "cell_type": "code",
   "execution_count": 1,
   "id": "26b25ed6-7174-4ce6-88ef-695f1c6d951f",
   "metadata": {},
   "outputs": [
    {
     "name": "stdout",
     "output_type": "stream",
     "text": [
      "total num of train 258884\n",
      "\n",
      "--------------------------------\n",
      " applying DES veto mask to CMASS\n",
      "--------------------------------\n",
      "num of train_sample after des veto 61031\n"
     ]
    }
   ],
   "source": [
    "import healpy as hp\n",
    "import numpy as np\n",
    "import esutil\n",
    "import os\n",
    "\n",
    "def keepGoodRegion(des, hpInd = False, balrog=None):\n",
    "    import healpy as hp\n",
    "    import fitsio\n",
    "    # 25 is the faintest object detected by DES\n",
    "    # objects larger than 25 considered as Noise\n",
    "    \n",
    "    path = '/fs/scratch/PCON0008/warner785/bwarner/'\n",
    "    #LSSGoldmask = fitsio.read(path+'Y1LSSmask_v2_il22_seeil4.0_nside4096ring_redlimcut.fits')\n",
    "    #LSSGoldmask = fitsio.read(path+'Y1LSSmask_v1_il22seeil4.04096ring_redlimcut.fits')\n",
    "    LSSGoldmask = fitsio.read(path+'MASK_Y3LSSBAOSOF_22_3_v2p2.fits')\n",
    "    ringhp = hp.nest2ring(4096, [LSSGoldmask['PIXEL']])\n",
    "    #Y1LSSmask_v1_il22seeil4.04096ring_redlimcut.fits\n",
    "    #frac_cut = LSSGoldmask['FRAC'] > 0.8\n",
    "    #ind_good_ring = LSSGoldmask['PIXEL'][frac_cut]\n",
    "    ind_good_ring = ringhp\n",
    "    \n",
    "    # healpixify the catalog.\n",
    "    nside=4096\n",
    "    # Convert silly ra/dec to silly HP angular coordinates.\n",
    "    phi = des['RA'] * np.pi / 180.0\n",
    "    theta = ( 90.0 - des['DEC'] ) * np.pi/180.0\n",
    "\n",
    "    hpInd = hp.ang2pix(nside,theta,phi,nest=False)\n",
    "    keep = np.in1d(hpInd, ind_good_ring)\n",
    "    des = des[keep]\n",
    "    if hpInd is True:\n",
    "        return ind_good_ring\n",
    "    else:\n",
    "        return des\n",
    "\n",
    "import fitsio\n",
    "cmass = esutil.io.read('/fs/scratch/PCON0003/warner785/bwarner/cmass-dr12v4-S-Reid-full.dat.fits')\n",
    "train_sample = esutil.io.read('/fs/scratch/PCON0003/warner785/bwarner/cmass-dr12v4-S-Reid-full.dat.fits')\n",
    "#train_sample = esutil.io.read('/global/cscratch1/sd/bwarner/galaxy_DR11v1_CMASS_South-photoObj.fits.gz')\n",
    "print('total num of train', train_sample.size)\n",
    "print('\\n--------------------------------\\n applying DES veto mask to CMASS\\n--------------------------------')   \n",
    "train_sample = keepGoodRegion(train_sample)\n",
    "\n",
    "#fitsio.write( output_dir+'/cmass_in_st82.fits', train_sample)\n",
    "\n",
    "print('num of train_sample after des veto', train_sample.size)"
   ]
  },
  {
   "cell_type": "code",
   "execution_count": 6,
   "id": "a2e7ebf0-3150-44b5-9068-79c5307b71f6",
   "metadata": {},
   "outputs": [],
   "source": [
    "import numpy \n",
    "# create binning in area option:\n",
    "percentile  = [0, 10, 20, 30, 40, 50, 60, 70, 80, 90, 100]\n",
    "# Calculate the bin edges\n",
    "bin_edges = np.percentile(train_sample['MODELFLUX'], percentile)\n",
    "pbin = bin_edges \n",
    "data = train_sample['MODELFLUX']\n",
    "digitized = numpy.digitize(data, pbin)\n",
    "pmean = [data[digitized == i].mean() for i in range(1, len(pbin))]"
   ]
  },
  {
   "cell_type": "code",
   "execution_count": 5,
   "id": "d30b37c4-259d-402c-b15f-19d6a12e2254",
   "metadata": {},
   "outputs": [
    {
     "name": "stdout",
     "output_type": "stream",
     "text": [
      "[[ 1.2067251e-02  1.0100182e+00  5.1210017e+00  1.3349723e+01\n",
      "   2.0785576e+01]\n",
      " [ 1.3008292e-01  2.3289137e+00  1.0380801e+01  2.4473183e+01\n",
      "   3.2750881e+01]\n",
      " [ 5.1989114e-01  1.1966074e+00  5.3954234e+00  1.3482336e+01\n",
      "   2.0196157e+01]\n",
      " ...\n",
      " [ 2.8186893e-01  1.0734087e+00  5.0721703e+00  1.3458070e+01\n",
      "   1.8848003e+01]\n",
      " [-7.6981169e-01  1.1131186e+00  7.0957890e+00  1.8917547e+01\n",
      "   3.0705122e+01]\n",
      " [ 1.3457608e-01  4.7537518e-01  3.8115921e+00  1.2212469e+01\n",
      "   2.0130594e+01]]\n"
     ]
    }
   ],
   "source": [
    "print(train_sample['MODELFLUX'])"
   ]
  },
  {
   "cell_type": "code",
   "execution_count": null,
   "id": "f0cd5004-0c8d-4cdd-b3fe-31324dd1b3ec",
   "metadata": {},
   "outputs": [],
   "source": [
    "# flux to magnitude"
   ]
  }
 ],
 "metadata": {
  "kernelspec": {
   "display_name": "Python (DES_env)",
   "language": "python",
   "name": "des_env"
  },
  "language_info": {
   "codemirror_mode": {
    "name": "ipython",
    "version": 3
   },
   "file_extension": ".py",
   "mimetype": "text/x-python",
   "name": "python",
   "nbconvert_exporter": "python",
   "pygments_lexer": "ipython3",
   "version": "3.7.0"
  }
 },
 "nbformat": 4,
 "nbformat_minor": 5
}
