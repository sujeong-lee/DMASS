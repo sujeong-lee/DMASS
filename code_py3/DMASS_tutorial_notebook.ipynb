{
 "cells": [
  {
   "cell_type": "markdown",
   "metadata": {},
   "source": [
    "# DMASS tutorial"
   ]
  },
  {
   "cell_type": "markdown",
   "metadata": {},
   "source": [
    "esutil and healpy should be installed "
   ]
  },
  {
   "cell_type": "code",
   "execution_count": 2,
   "metadata": {
    "scrolled": true
   },
   "outputs": [],
   "source": [
    "import os, sys\n",
    "import esutil\n",
    "import healpy as hp\n",
    "import numpy as np\n",
    "%matplotlib inline\n",
    "\n",
    "%load_ext autoreload\n",
    "%autoreload 2"
   ]
  },
  {
   "cell_type": "code",
   "execution_count": 3,
   "metadata": {},
   "outputs": [
    {
     "name": "stderr",
     "output_type": "stream",
     "text": [
      "WARNING: AstroMLDeprecationWarning: 'decorators' has been moved to 'astroML.utils' and will be removed from the main namespace in the future. [astroML.decorators]\n"
     ]
    }
   ],
   "source": [
    "# call required functions from modules \n",
    "sys.path.append('code_py3/')\n",
    "from cmass_modules import io\n",
    "from utils import matchCatalogsbyPosition, hpHEALPixelToRaDec, HealPixifyCatalogs, spatialcheck\n",
    "from xd import mixing_color, XD_fitting_X, assignCMASSProb, doVisualization_1d\n",
    "from run_DMASS_Y3 import priorCut_test"
   ]
  },
  {
   "cell_type": "markdown",
   "metadata": {},
   "source": [
    "# Construct training samples"
   ]
  },
  {
   "cell_type": "markdown",
   "metadata": {},
   "source": [
    "We first need to load Y3 Gold catalogs in the overlapping region (training region) and split them into the cmass sample and non-cmass sample. "
   ]
  },
  {
   "cell_type": "code",
   "execution_count": 4,
   "metadata": {},
   "outputs": [
    {
     "name": "stdout",
     "output_type": "stream",
     "text": [
      "\n",
      "Calling catalogs >>>\n",
      "Y3_GOLD_2_0_STRIPE82_000059.fits\n",
      "Y3_GOLD_2_0_STRIPE82_000006.fits\n",
      "Y3_GOLD_2_0_STRIPE82_000047.fits\n",
      "Y3_GOLD_2_0_STRIPE82_000126.fits\n",
      "Y3_GOLD_2_0_STRIPE82_000080.fits\n",
      "Y3_GOLD_2_0_STRIPE82_000003.fits\n",
      "Y3_GOLD_2_0_STRIPE82_000045.fits\n",
      "Y3_GOLD_2_0_STRIPE82_000037.fits\n",
      "Y3_GOLD_2_0_STRIPE82_000118.fits\n",
      "Y3_GOLD_2_0_STRIPE82_000134.fits\n",
      "Y3_GOLD_2_0_STRIPE82_000070.fits\n",
      "Y3_GOLD_2_0_STRIPE82_000066.fits\n",
      "Y3_GOLD_2_0_STRIPE82_000030.fits\n",
      "Y3_GOLD_2_0_STRIPE82_000116.fits\n",
      "Y3_GOLD_2_0_STRIPE82_000092.fits\n",
      "Y3_GOLD_2_0_STRIPE82_000120.fits\n",
      "Y3_GOLD_2_0_STRIPE82_000035.fits\n",
      "Y3_GOLD_2_0_STRIPE82_000129.fits\n",
      "Y3_GOLD_2_0_STRIPE82_000112.fits\n",
      "Y3_GOLD_2_0_STRIPE82_000023.fits\n",
      "Y3_GOLD_2_0_STRIPE82_000083.fits\n",
      "Y3_GOLD_2_0_STRIPE82_000106.fits\n",
      "Y3_GOLD_2_0_STRIPE82_000034.fits\n",
      "Y3_GOLD_2_0_STRIPE82_000014.fits\n",
      "Y3_GOLD_2_0_STRIPE82_000004.fits\n",
      "Y3_GOLD_2_0_STRIPE82_000013.fits\n",
      "Y3_GOLD_2_0_STRIPE82_000090.fits\n",
      "Y3_GOLD_2_0_STRIPE82_000101.fits\n",
      "Y3_GOLD_2_0_STRIPE82_000021.fits\n",
      "Y3_GOLD_2_0_STRIPE82_000097.fits\n",
      "Y3_GOLD_2_0_STRIPE82_000086.fits\n",
      "Y3_GOLD_2_0_STRIPE82_000052.fits\n",
      "Y3_GOLD_2_0_STRIPE82_000055.fits\n",
      "Y3_GOLD_2_0_STRIPE82_000122.fits\n",
      "Y3_GOLD_2_0_STRIPE82_000094.fits\n",
      "Y3_GOLD_2_0_STRIPE82_000050.fits\n",
      "Y3_GOLD_2_0_STRIPE82_000088.fits\n",
      "Y3_GOLD_2_0_STRIPE82_000133.fits\n",
      "Y3_GOLD_2_0_STRIPE82_000012.fits\n",
      "Y3_GOLD_2_0_STRIPE82_000091.fits\n",
      "Y3_GOLD_2_0_STRIPE82_000002.fits\n",
      "Y3_GOLD_2_0_STRIPE82_000117.fits\n",
      "Y3_GOLD_2_0_STRIPE82_000078.fits\n",
      "Y3_GOLD_2_0_STRIPE82_000069.fits\n",
      "Y3_GOLD_2_0_STRIPE82_000141.fits\n",
      "Y3_GOLD_2_0_STRIPE82_000039.fits\n",
      "Y3_GOLD_2_0_STRIPE82_000149.fits\n",
      "Y3_GOLD_2_0_STRIPE82_000056.fits\n",
      "Y3_GOLD_2_0_STRIPE82_000029.fits\n",
      "Y3_GOLD_2_0_STRIPE82_000061.fits\n",
      "Y3_GOLD_2_0_STRIPE82_000109.fits\n",
      "Y3_GOLD_2_0_STRIPE82_000081.fits\n",
      "Y3_GOLD_2_0_STRIPE82_000115.fits\n",
      "Y3_GOLD_2_0_STRIPE82_000005.fits\n",
      "Y3_GOLD_2_0_STRIPE82_000114.fits\n",
      "Y3_GOLD_2_0_STRIPE82_000110.fits\n",
      "Y3_GOLD_2_0_STRIPE82_000124.fits\n",
      "Y3_GOLD_2_0_STRIPE82_000095.fits\n",
      "Y3_GOLD_2_0_STRIPE82_000111.fits\n",
      "Y3_GOLD_2_0_STRIPE82_000025.fits\n",
      "Y3_GOLD_2_0_STRIPE82_000022.fits\n",
      "Y3_GOLD_2_0_STRIPE82_000132.fits\n",
      "Y3_GOLD_2_0_STRIPE82_000084.fits\n",
      "Y3_GOLD_2_0_STRIPE82_000074.fits\n",
      "Y3_GOLD_2_0_STRIPE82_000082.fits\n",
      "Y3_GOLD_2_0_STRIPE82_000016.fits\n",
      "Y3_GOLD_2_0_STRIPE82_000143.fits\n",
      "Y3_GOLD_2_0_STRIPE82_000153.fits\n",
      "Y3_GOLD_2_0_STRIPE82_000113.fits\n",
      "Y3_GOLD_2_0_STRIPE82_000065.fits\n",
      "Y3_GOLD_2_0_STRIPE82_000123.fits\n",
      "Y3_GOLD_2_0_STRIPE82_000058.fits\n",
      "Y3_GOLD_2_0_STRIPE82_000007.fits\n",
      "Y3_GOLD_2_0_STRIPE82_000085.fits\n",
      "Y3_GOLD_2_0_STRIPE82_000135.fits\n",
      "Y3_GOLD_2_0_STRIPE82_000027.fits\n",
      "Y3_GOLD_2_0_STRIPE82_000107.fits\n",
      "Y3_GOLD_2_0_STRIPE82_000127.fits\n",
      "Y3_GOLD_2_0_STRIPE82_000015.fits\n",
      "Y3_GOLD_2_0_STRIPE82_000144.fits\n",
      "Y3_GOLD_2_0_STRIPE82_000150.fits\n",
      "Y3_GOLD_2_0_STRIPE82_000139.fits\n",
      "Y3_GOLD_2_0_STRIPE82_000137.fits\n",
      "Y3_GOLD_2_0_STRIPE82_000142.fits\n",
      "Y3_GOLD_2_0_STRIPE82_000010.fits\n",
      "Y3_GOLD_2_0_STRIPE82_000071.fits\n",
      "Y3_GOLD_2_0_STRIPE82_000131.fits\n",
      "Y3_GOLD_2_0_STRIPE82_000044.fits\n",
      "Y3_GOLD_2_0_STRIPE82_000068.fits\n",
      "Y3_GOLD_2_0_STRIPE82_000049.fits\n",
      "Y3_GOLD_2_0_STRIPE82_000033.fits\n",
      "Y3_GOLD_2_0_STRIPE82_000130.fits\n",
      "Y3_GOLD_2_0_STRIPE82_000001.fits\n",
      "Y3_GOLD_2_0_STRIPE82_000018.fits\n",
      "Y3_GOLD_2_0_STRIPE82_000048.fits\n",
      "Y3_GOLD_2_0_STRIPE82_000073.fits\n",
      "Y3_GOLD_2_0_STRIPE82_000151.fits\n",
      "Y3_GOLD_2_0_STRIPE82_000017.fits\n",
      "Y3_GOLD_2_0_STRIPE82_000128.fits\n",
      "Y3_GOLD_2_0_STRIPE82_000072.fits\n",
      "Y3_GOLD_2_0_STRIPE82_000099.fits\n",
      "Y3_GOLD_2_0_STRIPE82_000098.fits\n",
      "Y3_GOLD_2_0_STRIPE82_000087.fits\n",
      "Y3_GOLD_2_0_STRIPE82_000036.fits\n",
      "Y3_GOLD_2_0_STRIPE82_000152.fits\n",
      "Y3_GOLD_2_0_STRIPE82_000064.fits\n",
      "Y3_GOLD_2_0_STRIPE82_000121.fits\n",
      "Y3_GOLD_2_0_STRIPE82_000053.fits\n",
      "Y3_GOLD_2_0_STRIPE82_000028.fits\n",
      "Y3_GOLD_2_0_STRIPE82_000062.fits\n",
      "Y3_GOLD_2_0_STRIPE82_000096.fits\n",
      "Y3_GOLD_2_0_STRIPE82_000060.fits\n",
      "Y3_GOLD_2_0_STRIPE82_000009.fits\n",
      "Y3_GOLD_2_0_STRIPE82_000024.fits\n",
      "Y3_GOLD_2_0_STRIPE82_000032.fits\n",
      "Y3_GOLD_2_0_STRIPE82_000147.fits\n",
      "Y3_GOLD_2_0_STRIPE82_000040.fits\n",
      "Y3_GOLD_2_0_STRIPE82_000105.fits\n",
      "Y3_GOLD_2_0_STRIPE82_000011.fits\n",
      "Y3_GOLD_2_0_STRIPE82_000104.fits\n",
      "Y3_GOLD_2_0_STRIPE82_000093.fits\n",
      "Y3_GOLD_2_0_STRIPE82_000077.fits\n",
      "Y3_GOLD_2_0_STRIPE82_000138.fits\n",
      "Y3_GOLD_2_0_STRIPE82_000108.fits\n",
      "Y3_GOLD_2_0_STRIPE82_000046.fits\n",
      "Y3_GOLD_2_0_STRIPE82_000119.fits\n",
      "Y3_GOLD_2_0_STRIPE82_000041.fits\n",
      "Y3_GOLD_2_0_STRIPE82_000019.fits\n",
      "Y3_GOLD_2_0_STRIPE82_000079.fits\n",
      "Y3_GOLD_2_0_STRIPE82_000089.fits\n",
      "Y3_GOLD_2_0_STRIPE82_000026.fits\n",
      "Y3_GOLD_2_0_STRIPE82_000008.fits\n",
      "Y3_GOLD_2_0_STRIPE82_000145.fits\n",
      "Y3_GOLD_2_0_STRIPE82_000125.fits\n",
      "Y3_GOLD_2_0_STRIPE82_000100.fits\n",
      "Y3_GOLD_2_0_STRIPE82_000042.fits\n",
      "Y3_GOLD_2_0_STRIPE82_000063.fits\n",
      "Y3_GOLD_2_0_STRIPE82_000054.fits\n",
      "Y3_GOLD_2_0_STRIPE82_000148.fits\n",
      "Y3_GOLD_2_0_STRIPE82_000103.fits\n",
      "Y3_GOLD_2_0_STRIPE82_000102.fits\n",
      "Y3_GOLD_2_0_STRIPE82_000020.fits\n",
      "Y3_GOLD_2_0_STRIPE82_000051.fits\n",
      "Y3_GOLD_2_0_STRIPE82_000140.fits\n",
      "Y3_GOLD_2_0_STRIPE82_000057.fits\n",
      "Y3_GOLD_2_0_STRIPE82_000038.fits\n",
      "Y3_GOLD_2_0_STRIPE82_000076.fits\n",
      "Y3_GOLD_2_0_STRIPE82_000075.fits\n",
      "Y3_GOLD_2_0_STRIPE82_000067.fits\n",
      "Y3_GOLD_2_0_STRIPE82_000031.fits\n",
      "Y3_GOLD_2_0_STRIPE82_000043.fits\n",
      "Y3_GOLD_2_0_STRIPE82_000146.fits\n",
      "Y3_GOLD_2_0_STRIPE82_000136.fits\n",
      "reading 1/153 /global/cscratch1/sd/bwarner/Y3_GOLD_2_0_STRIPE82_000059.fits\n",
      "reading 2/153 /global/cscratch1/sd/bwarner/Y3_GOLD_2_0_STRIPE82_000006.fits\n",
      "reading 3/153 /global/cscratch1/sd/bwarner/Y3_GOLD_2_0_STRIPE82_000047.fits\n",
      "reading 4/153 /global/cscratch1/sd/bwarner/Y3_GOLD_2_0_STRIPE82_000126.fits\n",
      "reading 5/153 /global/cscratch1/sd/bwarner/Y3_GOLD_2_0_STRIPE82_000080.fits\n",
      "reading 6/153 /global/cscratch1/sd/bwarner/Y3_GOLD_2_0_STRIPE82_000003.fits\n",
      "reading 7/153 /global/cscratch1/sd/bwarner/Y3_GOLD_2_0_STRIPE82_000045.fits\n",
      "reading 8/153 /global/cscratch1/sd/bwarner/Y3_GOLD_2_0_STRIPE82_000037.fits\n",
      "reading 9/153 /global/cscratch1/sd/bwarner/Y3_GOLD_2_0_STRIPE82_000118.fits\n",
      "reading 10/153 /global/cscratch1/sd/bwarner/Y3_GOLD_2_0_STRIPE82_000134.fits\n",
      "reading 11/153 /global/cscratch1/sd/bwarner/Y3_GOLD_2_0_STRIPE82_000070.fits\n",
      "reading 12/153 /global/cscratch1/sd/bwarner/Y3_GOLD_2_0_STRIPE82_000066.fits\n",
      "reading 13/153 /global/cscratch1/sd/bwarner/Y3_GOLD_2_0_STRIPE82_000030.fits\n",
      "reading 14/153 /global/cscratch1/sd/bwarner/Y3_GOLD_2_0_STRIPE82_000116.fits\n",
      "reading 15/153 /global/cscratch1/sd/bwarner/Y3_GOLD_2_0_STRIPE82_000092.fits\n",
      "reading 16/153 /global/cscratch1/sd/bwarner/Y3_GOLD_2_0_STRIPE82_000120.fits\n",
      "reading 17/153 /global/cscratch1/sd/bwarner/Y3_GOLD_2_0_STRIPE82_000035.fits\n",
      "reading 18/153 /global/cscratch1/sd/bwarner/Y3_GOLD_2_0_STRIPE82_000129.fits\n",
      "reading 19/153 /global/cscratch1/sd/bwarner/Y3_GOLD_2_0_STRIPE82_000112.fits\n",
      "reading 20/153 /global/cscratch1/sd/bwarner/Y3_GOLD_2_0_STRIPE82_000023.fits\n",
      "reading 21/153 /global/cscratch1/sd/bwarner/Y3_GOLD_2_0_STRIPE82_000083.fits\n",
      "reading 22/153 /global/cscratch1/sd/bwarner/Y3_GOLD_2_0_STRIPE82_000106.fits\n",
      "reading 23/153 /global/cscratch1/sd/bwarner/Y3_GOLD_2_0_STRIPE82_000034.fits\n",
      "reading 24/153 /global/cscratch1/sd/bwarner/Y3_GOLD_2_0_STRIPE82_000014.fits\n",
      "reading 25/153 /global/cscratch1/sd/bwarner/Y3_GOLD_2_0_STRIPE82_000004.fits\n",
      "reading 26/153 /global/cscratch1/sd/bwarner/Y3_GOLD_2_0_STRIPE82_000013.fits\n",
      "reading 27/153 /global/cscratch1/sd/bwarner/Y3_GOLD_2_0_STRIPE82_000090.fits\n",
      "reading 28/153 /global/cscratch1/sd/bwarner/Y3_GOLD_2_0_STRIPE82_000101.fits\n",
      "reading 29/153 /global/cscratch1/sd/bwarner/Y3_GOLD_2_0_STRIPE82_000021.fits\n",
      "reading 30/153 /global/cscratch1/sd/bwarner/Y3_GOLD_2_0_STRIPE82_000097.fits\n",
      "reading 31/153 /global/cscratch1/sd/bwarner/Y3_GOLD_2_0_STRIPE82_000086.fits\n",
      "reading 32/153 /global/cscratch1/sd/bwarner/Y3_GOLD_2_0_STRIPE82_000052.fits\n",
      "reading 33/153 /global/cscratch1/sd/bwarner/Y3_GOLD_2_0_STRIPE82_000055.fits\n",
      "reading 34/153 /global/cscratch1/sd/bwarner/Y3_GOLD_2_0_STRIPE82_000122.fits\n",
      "reading 35/153 /global/cscratch1/sd/bwarner/Y3_GOLD_2_0_STRIPE82_000094.fits\n",
      "reading 36/153 /global/cscratch1/sd/bwarner/Y3_GOLD_2_0_STRIPE82_000050.fits\n",
      "reading 37/153 /global/cscratch1/sd/bwarner/Y3_GOLD_2_0_STRIPE82_000088.fits\n",
      "reading 38/153 /global/cscratch1/sd/bwarner/Y3_GOLD_2_0_STRIPE82_000133.fits\n",
      "reading 39/153 /global/cscratch1/sd/bwarner/Y3_GOLD_2_0_STRIPE82_000012.fits\n",
      "reading 40/153 /global/cscratch1/sd/bwarner/Y3_GOLD_2_0_STRIPE82_000091.fits\n",
      "reading 41/153 /global/cscratch1/sd/bwarner/Y3_GOLD_2_0_STRIPE82_000002.fits\n",
      "reading 42/153 /global/cscratch1/sd/bwarner/Y3_GOLD_2_0_STRIPE82_000117.fits\n",
      "reading 43/153 /global/cscratch1/sd/bwarner/Y3_GOLD_2_0_STRIPE82_000078.fits\n",
      "reading 44/153 /global/cscratch1/sd/bwarner/Y3_GOLD_2_0_STRIPE82_000069.fits\n",
      "reading 45/153 /global/cscratch1/sd/bwarner/Y3_GOLD_2_0_STRIPE82_000141.fits\n",
      "reading 46/153 /global/cscratch1/sd/bwarner/Y3_GOLD_2_0_STRIPE82_000039.fits\n",
      "reading 47/153 /global/cscratch1/sd/bwarner/Y3_GOLD_2_0_STRIPE82_000149.fits\n",
      "reading 48/153 /global/cscratch1/sd/bwarner/Y3_GOLD_2_0_STRIPE82_000056.fits\n",
      "reading 49/153 /global/cscratch1/sd/bwarner/Y3_GOLD_2_0_STRIPE82_000029.fits\n",
      "reading 50/153 /global/cscratch1/sd/bwarner/Y3_GOLD_2_0_STRIPE82_000061.fits\n",
      "reading 51/153 /global/cscratch1/sd/bwarner/Y3_GOLD_2_0_STRIPE82_000109.fits\n",
      "reading 52/153 /global/cscratch1/sd/bwarner/Y3_GOLD_2_0_STRIPE82_000081.fits\n",
      "reading 53/153 /global/cscratch1/sd/bwarner/Y3_GOLD_2_0_STRIPE82_000115.fits\n",
      "reading 54/153 /global/cscratch1/sd/bwarner/Y3_GOLD_2_0_STRIPE82_000005.fits\n",
      "reading 55/153 /global/cscratch1/sd/bwarner/Y3_GOLD_2_0_STRIPE82_000114.fits\n",
      "reading 56/153 /global/cscratch1/sd/bwarner/Y3_GOLD_2_0_STRIPE82_000110.fits\n",
      "reading 57/153 /global/cscratch1/sd/bwarner/Y3_GOLD_2_0_STRIPE82_000124.fits\n",
      "reading 58/153 /global/cscratch1/sd/bwarner/Y3_GOLD_2_0_STRIPE82_000095.fits\n",
      "reading 59/153 /global/cscratch1/sd/bwarner/Y3_GOLD_2_0_STRIPE82_000111.fits\n",
      "reading 60/153 /global/cscratch1/sd/bwarner/Y3_GOLD_2_0_STRIPE82_000025.fits\n",
      "reading 61/153 /global/cscratch1/sd/bwarner/Y3_GOLD_2_0_STRIPE82_000022.fits\n",
      "reading 62/153 /global/cscratch1/sd/bwarner/Y3_GOLD_2_0_STRIPE82_000132.fits\n",
      "reading 63/153 /global/cscratch1/sd/bwarner/Y3_GOLD_2_0_STRIPE82_000084.fits\n",
      "reading 64/153 /global/cscratch1/sd/bwarner/Y3_GOLD_2_0_STRIPE82_000074.fits\n",
      "reading 65/153 /global/cscratch1/sd/bwarner/Y3_GOLD_2_0_STRIPE82_000082.fits\n",
      "reading 66/153 /global/cscratch1/sd/bwarner/Y3_GOLD_2_0_STRIPE82_000016.fits\n",
      "reading 67/153 /global/cscratch1/sd/bwarner/Y3_GOLD_2_0_STRIPE82_000143.fits\n",
      "reading 68/153 /global/cscratch1/sd/bwarner/Y3_GOLD_2_0_STRIPE82_000153.fits\n",
      "reading 69/153 /global/cscratch1/sd/bwarner/Y3_GOLD_2_0_STRIPE82_000113.fits\n",
      "reading 70/153 /global/cscratch1/sd/bwarner/Y3_GOLD_2_0_STRIPE82_000065.fits\n",
      "reading 71/153 /global/cscratch1/sd/bwarner/Y3_GOLD_2_0_STRIPE82_000123.fits\n",
      "reading 72/153 /global/cscratch1/sd/bwarner/Y3_GOLD_2_0_STRIPE82_000058.fits\n",
      "reading 73/153 /global/cscratch1/sd/bwarner/Y3_GOLD_2_0_STRIPE82_000007.fits\n",
      "reading 74/153 /global/cscratch1/sd/bwarner/Y3_GOLD_2_0_STRIPE82_000085.fits\n",
      "reading 75/153 /global/cscratch1/sd/bwarner/Y3_GOLD_2_0_STRIPE82_000135.fits\n",
      "reading 76/153 /global/cscratch1/sd/bwarner/Y3_GOLD_2_0_STRIPE82_000027.fits\n",
      "reading 77/153 /global/cscratch1/sd/bwarner/Y3_GOLD_2_0_STRIPE82_000107.fits\n",
      "reading 78/153 /global/cscratch1/sd/bwarner/Y3_GOLD_2_0_STRIPE82_000127.fits\n",
      "reading 79/153 /global/cscratch1/sd/bwarner/Y3_GOLD_2_0_STRIPE82_000015.fits\n",
      "reading 80/153 /global/cscratch1/sd/bwarner/Y3_GOLD_2_0_STRIPE82_000144.fits\n",
      "reading 81/153 /global/cscratch1/sd/bwarner/Y3_GOLD_2_0_STRIPE82_000150.fits\n",
      "reading 82/153 /global/cscratch1/sd/bwarner/Y3_GOLD_2_0_STRIPE82_000139.fits\n",
      "reading 83/153 /global/cscratch1/sd/bwarner/Y3_GOLD_2_0_STRIPE82_000137.fits\n",
      "reading 84/153 /global/cscratch1/sd/bwarner/Y3_GOLD_2_0_STRIPE82_000142.fits\n",
      "reading 85/153 /global/cscratch1/sd/bwarner/Y3_GOLD_2_0_STRIPE82_000010.fits\n",
      "reading 86/153 /global/cscratch1/sd/bwarner/Y3_GOLD_2_0_STRIPE82_000071.fits\n",
      "reading 87/153 /global/cscratch1/sd/bwarner/Y3_GOLD_2_0_STRIPE82_000131.fits\n",
      "reading 88/153 /global/cscratch1/sd/bwarner/Y3_GOLD_2_0_STRIPE82_000044.fits\n",
      "reading 89/153 /global/cscratch1/sd/bwarner/Y3_GOLD_2_0_STRIPE82_000068.fits\n",
      "reading 90/153 /global/cscratch1/sd/bwarner/Y3_GOLD_2_0_STRIPE82_000049.fits\n",
      "reading 91/153 /global/cscratch1/sd/bwarner/Y3_GOLD_2_0_STRIPE82_000033.fits\n",
      "reading 92/153 /global/cscratch1/sd/bwarner/Y3_GOLD_2_0_STRIPE82_000130.fits\n",
      "reading 93/153 /global/cscratch1/sd/bwarner/Y3_GOLD_2_0_STRIPE82_000001.fits\n",
      "reading 94/153 /global/cscratch1/sd/bwarner/Y3_GOLD_2_0_STRIPE82_000018.fits\n",
      "reading 95/153 /global/cscratch1/sd/bwarner/Y3_GOLD_2_0_STRIPE82_000048.fits\n",
      "reading 96/153 /global/cscratch1/sd/bwarner/Y3_GOLD_2_0_STRIPE82_000073.fits\n",
      "reading 97/153 /global/cscratch1/sd/bwarner/Y3_GOLD_2_0_STRIPE82_000151.fits\n",
      "reading 98/153 /global/cscratch1/sd/bwarner/Y3_GOLD_2_0_STRIPE82_000017.fits\n",
      "reading 99/153 /global/cscratch1/sd/bwarner/Y3_GOLD_2_0_STRIPE82_000128.fits\n",
      "reading 100/153 /global/cscratch1/sd/bwarner/Y3_GOLD_2_0_STRIPE82_000072.fits\n",
      "reading 101/153 /global/cscratch1/sd/bwarner/Y3_GOLD_2_0_STRIPE82_000099.fits\n",
      "reading 102/153 /global/cscratch1/sd/bwarner/Y3_GOLD_2_0_STRIPE82_000098.fits\n",
      "reading 103/153 /global/cscratch1/sd/bwarner/Y3_GOLD_2_0_STRIPE82_000087.fits\n",
      "reading 104/153 /global/cscratch1/sd/bwarner/Y3_GOLD_2_0_STRIPE82_000036.fits\n",
      "reading 105/153 /global/cscratch1/sd/bwarner/Y3_GOLD_2_0_STRIPE82_000152.fits\n",
      "reading 106/153 /global/cscratch1/sd/bwarner/Y3_GOLD_2_0_STRIPE82_000064.fits\n",
      "reading 107/153 /global/cscratch1/sd/bwarner/Y3_GOLD_2_0_STRIPE82_000121.fits\n",
      "reading 108/153 /global/cscratch1/sd/bwarner/Y3_GOLD_2_0_STRIPE82_000053.fits\n",
      "reading 109/153 /global/cscratch1/sd/bwarner/Y3_GOLD_2_0_STRIPE82_000028.fits\n",
      "reading 110/153 /global/cscratch1/sd/bwarner/Y3_GOLD_2_0_STRIPE82_000062.fits\n",
      "reading 111/153 /global/cscratch1/sd/bwarner/Y3_GOLD_2_0_STRIPE82_000096.fits\n",
      "reading 112/153 /global/cscratch1/sd/bwarner/Y3_GOLD_2_0_STRIPE82_000060.fits\n",
      "reading 113/153 /global/cscratch1/sd/bwarner/Y3_GOLD_2_0_STRIPE82_000009.fits\n",
      "reading 114/153 /global/cscratch1/sd/bwarner/Y3_GOLD_2_0_STRIPE82_000024.fits\n",
      "reading 115/153 /global/cscratch1/sd/bwarner/Y3_GOLD_2_0_STRIPE82_000032.fits\n",
      "reading 116/153 /global/cscratch1/sd/bwarner/Y3_GOLD_2_0_STRIPE82_000147.fits\n",
      "reading 117/153 /global/cscratch1/sd/bwarner/Y3_GOLD_2_0_STRIPE82_000040.fits\n",
      "reading 118/153 /global/cscratch1/sd/bwarner/Y3_GOLD_2_0_STRIPE82_000105.fits\n",
      "reading 119/153 /global/cscratch1/sd/bwarner/Y3_GOLD_2_0_STRIPE82_000011.fits\n",
      "reading 120/153 /global/cscratch1/sd/bwarner/Y3_GOLD_2_0_STRIPE82_000104.fits\n",
      "reading 121/153 /global/cscratch1/sd/bwarner/Y3_GOLD_2_0_STRIPE82_000093.fits\n",
      "reading 122/153 /global/cscratch1/sd/bwarner/Y3_GOLD_2_0_STRIPE82_000077.fits\n",
      "reading 123/153 /global/cscratch1/sd/bwarner/Y3_GOLD_2_0_STRIPE82_000138.fits\n",
      "reading 124/153 /global/cscratch1/sd/bwarner/Y3_GOLD_2_0_STRIPE82_000108.fits\n",
      "reading 125/153 /global/cscratch1/sd/bwarner/Y3_GOLD_2_0_STRIPE82_000046.fits\n",
      "reading 126/153 /global/cscratch1/sd/bwarner/Y3_GOLD_2_0_STRIPE82_000119.fits\n",
      "reading 127/153 /global/cscratch1/sd/bwarner/Y3_GOLD_2_0_STRIPE82_000041.fits\n",
      "reading 128/153 /global/cscratch1/sd/bwarner/Y3_GOLD_2_0_STRIPE82_000019.fits\n",
      "reading 129/153 /global/cscratch1/sd/bwarner/Y3_GOLD_2_0_STRIPE82_000079.fits\n",
      "reading 130/153 /global/cscratch1/sd/bwarner/Y3_GOLD_2_0_STRIPE82_000089.fits\n",
      "reading 131/153 /global/cscratch1/sd/bwarner/Y3_GOLD_2_0_STRIPE82_000026.fits\n",
      "reading 132/153 /global/cscratch1/sd/bwarner/Y3_GOLD_2_0_STRIPE82_000008.fits\n",
      "reading 133/153 /global/cscratch1/sd/bwarner/Y3_GOLD_2_0_STRIPE82_000145.fits\n",
      "reading 134/153 /global/cscratch1/sd/bwarner/Y3_GOLD_2_0_STRIPE82_000125.fits\n",
      "reading 135/153 /global/cscratch1/sd/bwarner/Y3_GOLD_2_0_STRIPE82_000100.fits\n",
      "reading 136/153 /global/cscratch1/sd/bwarner/Y3_GOLD_2_0_STRIPE82_000042.fits\n",
      "reading 137/153 /global/cscratch1/sd/bwarner/Y3_GOLD_2_0_STRIPE82_000063.fits\n",
      "reading 138/153 /global/cscratch1/sd/bwarner/Y3_GOLD_2_0_STRIPE82_000054.fits\n",
      "reading 139/153 /global/cscratch1/sd/bwarner/Y3_GOLD_2_0_STRIPE82_000148.fits\n",
      "reading 140/153 /global/cscratch1/sd/bwarner/Y3_GOLD_2_0_STRIPE82_000103.fits\n",
      "reading 141/153 /global/cscratch1/sd/bwarner/Y3_GOLD_2_0_STRIPE82_000102.fits\n",
      "reading 142/153 /global/cscratch1/sd/bwarner/Y3_GOLD_2_0_STRIPE82_000020.fits\n",
      "reading 143/153 /global/cscratch1/sd/bwarner/Y3_GOLD_2_0_STRIPE82_000051.fits\n",
      "reading 144/153 /global/cscratch1/sd/bwarner/Y3_GOLD_2_0_STRIPE82_000140.fits\n",
      "reading 145/153 /global/cscratch1/sd/bwarner/Y3_GOLD_2_0_STRIPE82_000057.fits\n",
      "reading 146/153 /global/cscratch1/sd/bwarner/Y3_GOLD_2_0_STRIPE82_000038.fits\n",
      "reading 147/153 /global/cscratch1/sd/bwarner/Y3_GOLD_2_0_STRIPE82_000076.fits\n",
      "reading 148/153 /global/cscratch1/sd/bwarner/Y3_GOLD_2_0_STRIPE82_000075.fits\n",
      "reading 149/153 /global/cscratch1/sd/bwarner/Y3_GOLD_2_0_STRIPE82_000067.fits\n",
      "reading 150/153 /global/cscratch1/sd/bwarner/Y3_GOLD_2_0_STRIPE82_000031.fits\n",
      "reading 151/153 /global/cscratch1/sd/bwarner/Y3_GOLD_2_0_STRIPE82_000043.fits\n",
      "reading 152/153 /global/cscratch1/sd/bwarner/Y3_GOLD_2_0_STRIPE82_000146.fits\n",
      "reading 153/153 /global/cscratch1/sd/bwarner/Y3_GOLD_2_0_STRIPE82_000136.fits\n"
     ]
    }
   ],
   "source": [
    "# Calling Y3 GOLD v2.0 (training)\n",
    "# All catalogs are in the 'input_path' directory \n",
    "# The 'SearchAndCallFits' function below loads all \n",
    "# catalogs in the directory including 'input_keyword' in its name\n",
    "#input_path = '/n/des/lee.5922/data/gold_cat_Y3/STRIPE82/feae9705305d4430993687930f1cc3ad/'\n",
    "input_path = '/global/cscratch1/sd/bwarner/'\n",
    "# call only first 9 catalogs for a fast run.\n",
    "# to call all catalogs in the directory, use 'Y3_GOLD' as input_keyword \n",
    "# but that will consume huge memory\n",
    "input_keyword = 'Y3_GOLD_2_0_STRIPE82'  \n",
    "# Columns to call\n",
    "columns =  ['RA', 'DEC', \n",
    "            'HPIX_4096',     # Healpix in ring order, nside=4096\n",
    "            'COADD_OBJECT_ID', \n",
    "            'SOF_CM_MAG_CORRECTED_G', # mag_[griz]\n",
    "            'SOF_CM_MAG_CORRECTED_R',\n",
    "            'SOF_CM_MAG_CORRECTED_I',\n",
    "            'SOF_CM_MAG_CORRECTED_Z',\n",
    "            'SOF_CM_MAG_ERR_G',       # mag error_[griz]\n",
    "            'SOF_CM_MAG_ERR_R',\n",
    "            'SOF_CM_MAG_ERR_I',\n",
    "            'SOF_CM_MAG_ERR_Z']\n",
    "gold_st82 = io.SearchAndCallFits(path = input_path, keyword = input_keyword, columns=columns)\n",
    "\n",
    "# Color/Magnitude cuts to exclude extremely high or low mag/color sources.\n",
    "# 16 < mag_riz < 24, 0 < (r-i) < 1.5, 0 < (g-r) < 2.5\n",
    "# These galaxies are less likeliy to be a CMASS, therefore unnecessary. \n",
    "# We apply these cuts to reduce the sample size to speed up the codes\n",
    "mask_magcut = priorCut_test(gold_st82)\n",
    "gold_st82 = gold_st82[mask_magcut]"
   ]
  },
  {
   "cell_type": "markdown",
   "metadata": {},
   "source": [
    "Loading BOSS CMASS photometric sample"
   ]
  },
  {
   "cell_type": "code",
   "execution_count": 6,
   "metadata": {},
   "outputs": [],
   "source": [
    "# cmass catalog is stored in cosmos machine\n",
    "#cmass_filename = '/n/des/lee.5922/data/cmass_cat/cmass-dr12v4-S-Reid-full.dat.fits'\n",
    "cmass_filename = '/global/homes/b/bwarner/DMASS/code/galaxy_DR11v1_CMASS_South-photoObj.fits.gz'\n",
    "cmass = esutil.io.read(cmass_filename)\n",
    "\n",
    "# Add healpix index (nside=4096) to the CMASS catalog\n",
    "healConfig = {'map_inside':4096,\n",
    "              'out_nside':4096,\n",
    "              'nest':False}\n",
    "cmass = HealPixifyCatalogs(catalog=cmass, healConfig=healConfig, ratag='RA', dectag = 'DEC')"
   ]
  },
  {
   "cell_type": "markdown",
   "metadata": {},
   "source": [
    "Now we find the CMASS galaxies in the DES Y3 GOLD catalog by matching positions of galaxies.  "
   ]
  },
  {
   "cell_type": "code",
   "execution_count": 7,
   "metadata": {},
   "outputs": [
    {
     "name": "stdout",
     "output_type": "stream",
     "text": [
      "('num of cmass in des side', 52063, '(28%)')\n"
     ]
    }
   ],
   "source": [
    "# this function returns indices of common galaxies (CMASS) in each catalog. \n",
    "# mg1: indices of common galaxies in cmass catalog\n",
    "# mg2: indicies of common galaxies in Y3 GOLD catalog \n",
    "mg1, mg2, _ = esutil.htm.HTM(10).match(cmass['RA'], cmass['DEC'], gold_st82['RA'], \\\n",
    "                                     gold_st82['DEC'],2./3600, maxmatch=1)\n",
    "# Apply indices to each catalog to select common galaxies. \n",
    "# Selected galaxies are then ordered in the same way. \n",
    "# (i.e clean_cmass_data_sdss[0] and clean_cmass_data_des[0] are the same galaxy) \n",
    "clean_cmass_data_sdss = cmass[mg1]           # common galaxies in cmass catalog\n",
    "clean_cmass_data_des = gold_st82[mg2] # common galaxies in Y3 Gold\n",
    "\n",
    "# We also need non-CMASS galaxies in the DES Y3 gold catalog\n",
    "cmass_mask = np.zeros(gold_st82.size, dtype=bool)\n",
    "cmass_mask[mg2] = 1\n",
    "nocmass = gold_st82[~cmass_mask]\n",
    "\n",
    "print(('num of cmass in des side', clean_cmass_data_des.size, '({:0.0f}%)'.format(clean_cmass_data_des.size*1./cmass.size*100.)))"
   ]
  },
  {
   "cell_type": "code",
   "execution_count": 61,
   "metadata": {},
   "outputs": [],
   "source": [
    "# save the samples. \n",
    "outdir = '../output/test/train_cat/'\n",
    "os.makedirs(outdir, exist_ok=True)\n",
    "esutil.io.write( outdir+'train_cmass_sample_sdss.fits', clean_cmass_data_sdss, overwrite=True)\n",
    "esutil.io.write( outdir+'train_cmass_sample_des.fits', clean_cmass_data_des, overwrite=True)\n",
    "esutil.io.write( outdir+'train_non_cmass_sample_des.fits', nocmass, overwrite=True)"
   ]
  },
  {
   "cell_type": "code",
   "execution_count": 62,
   "metadata": {},
   "outputs": [
    {
     "data": {
      "image/png": "[encoded data removed]",
      "text/plain": [
       "<Figure size 720x576 with 1 Axes>"
      ]
     },
     "metadata": {
      "needs_background": "light"
     },
     "output_type": "display_data"
    }
   ],
   "source": [
    "# Plotting footprint\n",
    "spatialcheck([cmass, clean_cmass_data_des], \n",
    "             label = ['CMASS', 'CMASS in train'], convert = None, ratag='RA',dectag='DEC')"
   ]
  },
  {
   "cell_type": "code",
   "execution_count": 8,
   "metadata": {},
   "outputs": [],
   "source": [
    "#Healpixels:\n",
    "\n"
   ]
  },
  {
   "cell_type": "markdown",
   "metadata": {},
   "source": [
    "# Footprints of Train and Test regions"
   ]
  },
  {
   "cell_type": "markdown",
   "metadata": {},
   "source": [
    "Codes for computing the areas of the training and test regions. \n",
    "This is not needed to run the DMASS algorithm. Only included this here as you asked before. "
   ]
  },
  {
   "cell_type": "code",
   "execution_count": 63,
   "metadata": {},
   "outputs": [
    {
     "name": "stderr",
     "output_type": "stream",
     "text": [
      "/global/homes/b/bwarner/.conda/envs/DES_env/lib/python3.9/site-packages/healpy/fitsfunc.py:368: UserWarning: If you are not specifying the input dtype and using the default np.float64 dtype of read_map(), please consider that it will change in a future version to None as to keep the same dtype of the input file: please explicitly set the dtype if it is important to you.\n",
      "  warnings.warn(\n"
     ]
    },
    {
     "ename": "OSError",
     "evalue": "Header missing END card.",
     "output_type": "error",
     "traceback": [
      "\u001b[0;31m---------------------------------------------------------------------------\u001b[0m",
      "\u001b[0;31mException\u001b[0m                                 Traceback (most recent call last)",
      "\u001b[0;32m~/.conda/envs/DES_env/lib/python3.9/site-packages/astropy/io/fits/hdu/base.py\u001b[0m in \u001b[0;36m_readfrom_internal\u001b[0;34m(cls, data, header, checksum, ignore_missing_end, **kwargs)\u001b[0m\n\u001b[1;32m    405\u001b[0m                     \u001b[0;31m# that are needed to build the HDU object.\u001b[0m\u001b[0;34m\u001b[0m\u001b[0;34m\u001b[0m\u001b[0;34m\u001b[0m\u001b[0m\n\u001b[0;32m--> 406\u001b[0;31m                     \u001b[0mheader_str\u001b[0m\u001b[0;34m,\u001b[0m \u001b[0mheader\u001b[0m \u001b[0;34m=\u001b[0m \u001b[0m_BasicHeader\u001b[0m\u001b[0;34m.\u001b[0m\u001b[0mfromfile\u001b[0m\u001b[0;34m(\u001b[0m\u001b[0mdata\u001b[0m\u001b[0;34m)\u001b[0m\u001b[0;34m\u001b[0m\u001b[0;34m\u001b[0m\u001b[0m\n\u001b[0m\u001b[1;32m    407\u001b[0m                 \u001b[0;32mexcept\u001b[0m \u001b[0mException\u001b[0m\u001b[0;34m:\u001b[0m\u001b[0;34m\u001b[0m\u001b[0;34m\u001b[0m\u001b[0m\n",
      "\u001b[0;32m~/.conda/envs/DES_env/lib/python3.9/site-packages/astropy/io/fits/header.py\u001b[0m in \u001b[0;36mfromfile\u001b[0;34m(cls, fileobj)\u001b[0m\n\u001b[1;32m   2084\u001b[0m         \u001b[0;32mtry\u001b[0m\u001b[0;34m:\u001b[0m\u001b[0;34m\u001b[0m\u001b[0;34m\u001b[0m\u001b[0m\n\u001b[0;32m-> 2085\u001b[0;31m             \u001b[0mheader_str\u001b[0m\u001b[0;34m,\u001b[0m \u001b[0mcards\u001b[0m \u001b[0;34m=\u001b[0m \u001b[0mparse_header\u001b[0m\u001b[0;34m(\u001b[0m\u001b[0mfileobj\u001b[0m\u001b[0;34m)\u001b[0m\u001b[0;34m\u001b[0m\u001b[0;34m\u001b[0m\u001b[0m\n\u001b[0m\u001b[1;32m   2086\u001b[0m             \u001b[0m_check_padding\u001b[0m\u001b[0;34m(\u001b[0m\u001b[0mheader_str\u001b[0m\u001b[0;34m,\u001b[0m \u001b[0mBLOCK_SIZE\u001b[0m\u001b[0;34m,\u001b[0m \u001b[0;32mFalse\u001b[0m\u001b[0;34m)\u001b[0m\u001b[0;34m\u001b[0m\u001b[0;34m\u001b[0m\u001b[0m\n",
      "\u001b[0;32mastropy/io/fits/_utils.pyx\u001b[0m in \u001b[0;36mastropy.io.fits._utils.parse_header\u001b[0;34m()\u001b[0m\n",
      "\u001b[0;31mException\u001b[0m: ",
      "\nDuring handling of the above exception, another exception occurred:\n",
      "\u001b[0;31mOSError\u001b[0m                                   Traceback (most recent call last)",
      "\u001b[0;32m<ipython-input-63-f2789713503e>\u001b[0m in \u001b[0;36m<module>\u001b[0;34m\u001b[0m\n\u001b[1;32m      2\u001b[0m \u001b[0;31m# downloaded from https://cdcvs.fnal.gov/redmine/projects/des-y3/wiki/Y3A2_Gold_footprint\u001b[0m\u001b[0;34m\u001b[0m\u001b[0;34m\u001b[0m\u001b[0;34m\u001b[0m\u001b[0m\n\u001b[1;32m      3\u001b[0m \u001b[0mmapname\u001b[0m\u001b[0;34m=\u001b[0m\u001b[0;34m'/global/homes/b/bwarner/DMASS/code/y3a2_footprint_griz_1exp_v2.0.fits.gz.1'\u001b[0m\u001b[0;34m\u001b[0m\u001b[0;34m\u001b[0m\u001b[0m\n\u001b[0;32m----> 4\u001b[0;31m \u001b[0mhpmap_y3gold\u001b[0m \u001b[0;34m=\u001b[0m \u001b[0mhp\u001b[0m\u001b[0;34m.\u001b[0m\u001b[0mread_map\u001b[0m\u001b[0;34m(\u001b[0m\u001b[0mmapname\u001b[0m\u001b[0;34m)\u001b[0m\u001b[0;34m\u001b[0m\u001b[0;34m\u001b[0m\u001b[0m\n\u001b[0m\u001b[1;32m      5\u001b[0m \u001b[0mgoodmask\u001b[0m \u001b[0;34m=\u001b[0m \u001b[0mhp\u001b[0m\u001b[0;34m.\u001b[0m\u001b[0mmask_good\u001b[0m\u001b[0;34m(\u001b[0m\u001b[0mhpmap_y3gold\u001b[0m\u001b[0;34m)\u001b[0m\u001b[0;34m\u001b[0m\u001b[0;34m\u001b[0m\u001b[0m\n\u001b[1;32m      6\u001b[0m \u001b[0mhpind_y3gold\u001b[0m \u001b[0;34m=\u001b[0m \u001b[0mnp\u001b[0m\u001b[0;34m.\u001b[0m\u001b[0marange\u001b[0m\u001b[0;34m(\u001b[0m\u001b[0mhpmap_y3gold\u001b[0m\u001b[0;34m.\u001b[0m\u001b[0msize\u001b[0m\u001b[0;34m)\u001b[0m\u001b[0;34m\u001b[0m\u001b[0;34m\u001b[0m\u001b[0m\n",
      "\u001b[0;32m~/.conda/envs/DES_env/lib/python3.9/site-packages/healpy/fitsfunc.py\u001b[0m in \u001b[0;36mread_map\u001b[0;34m(filename, field, dtype, nest, partial, hdu, h, verbose, memmap)\u001b[0m\n\u001b[1;32m    376\u001b[0m     \u001b[0mopened_file\u001b[0m \u001b[0;34m=\u001b[0m \u001b[0;32mFalse\u001b[0m\u001b[0;34m\u001b[0m\u001b[0;34m\u001b[0m\u001b[0m\n\u001b[1;32m    377\u001b[0m     \u001b[0;32mif\u001b[0m \u001b[0misinstance\u001b[0m\u001b[0;34m(\u001b[0m\u001b[0mfilename\u001b[0m\u001b[0;34m,\u001b[0m \u001b[0mallowed_paths\u001b[0m\u001b[0;34m)\u001b[0m\u001b[0;34m:\u001b[0m\u001b[0;34m\u001b[0m\u001b[0;34m\u001b[0m\u001b[0m\n\u001b[0;32m--> 378\u001b[0;31m         \u001b[0mfilename\u001b[0m \u001b[0;34m=\u001b[0m \u001b[0mpf\u001b[0m\u001b[0;34m.\u001b[0m\u001b[0mopen\u001b[0m\u001b[0;34m(\u001b[0m\u001b[0mfilename\u001b[0m\u001b[0;34m,\u001b[0m \u001b[0mmemmap\u001b[0m\u001b[0;34m=\u001b[0m\u001b[0mmemmap\u001b[0m\u001b[0;34m)\u001b[0m\u001b[0;34m\u001b[0m\u001b[0;34m\u001b[0m\u001b[0m\n\u001b[0m\u001b[1;32m    379\u001b[0m         \u001b[0mopened_file\u001b[0m \u001b[0;34m=\u001b[0m \u001b[0;32mTrue\u001b[0m\u001b[0;34m\u001b[0m\u001b[0;34m\u001b[0m\u001b[0m\n\u001b[1;32m    380\u001b[0m \u001b[0;34m\u001b[0m\u001b[0m\n",
      "\u001b[0;32m~/.conda/envs/DES_env/lib/python3.9/site-packages/astropy/io/fits/hdu/hdulist.py\u001b[0m in \u001b[0;36mfitsopen\u001b[0;34m(name, mode, memmap, save_backup, cache, lazy_load_hdus, **kwargs)\u001b[0m\n\u001b[1;32m    162\u001b[0m         \u001b[0;32mraise\u001b[0m \u001b[0mValueError\u001b[0m\u001b[0;34m(\u001b[0m\u001b[0;34mf'Empty filename: {name!r}'\u001b[0m\u001b[0;34m)\u001b[0m\u001b[0;34m\u001b[0m\u001b[0;34m\u001b[0m\u001b[0m\n\u001b[1;32m    163\u001b[0m \u001b[0;34m\u001b[0m\u001b[0m\n\u001b[0;32m--> 164\u001b[0;31m     return HDUList.fromfile(name, mode, memmap, save_backup, cache,\n\u001b[0m\u001b[1;32m    165\u001b[0m                             lazy_load_hdus, **kwargs)\n\u001b[1;32m    166\u001b[0m \u001b[0;34m\u001b[0m\u001b[0m\n",
      "\u001b[0;32m~/.conda/envs/DES_env/lib/python3.9/site-packages/astropy/io/fits/hdu/hdulist.py\u001b[0m in \u001b[0;36mfromfile\u001b[0;34m(cls, fileobj, mode, memmap, save_backup, cache, lazy_load_hdus, **kwargs)\u001b[0m\n\u001b[1;32m    399\u001b[0m         \"\"\"\n\u001b[1;32m    400\u001b[0m \u001b[0;34m\u001b[0m\u001b[0m\n\u001b[0;32m--> 401\u001b[0;31m         return cls._readfrom(fileobj=fileobj, mode=mode, memmap=memmap,\n\u001b[0m\u001b[1;32m    402\u001b[0m                              \u001b[0msave_backup\u001b[0m\u001b[0;34m=\u001b[0m\u001b[0msave_backup\u001b[0m\u001b[0;34m,\u001b[0m \u001b[0mcache\u001b[0m\u001b[0;34m=\u001b[0m\u001b[0mcache\u001b[0m\u001b[0;34m,\u001b[0m\u001b[0;34m\u001b[0m\u001b[0;34m\u001b[0m\u001b[0m\n\u001b[1;32m    403\u001b[0m                              lazy_load_hdus=lazy_load_hdus, **kwargs)\n",
      "\u001b[0;32m~/.conda/envs/DES_env/lib/python3.9/site-packages/astropy/io/fits/hdu/hdulist.py\u001b[0m in \u001b[0;36m_readfrom\u001b[0;34m(cls, fileobj, data, mode, memmap, cache, lazy_load_hdus, **kwargs)\u001b[0m\n\u001b[1;32m   1075\u001b[0m \u001b[0;34m\u001b[0m\u001b[0m\n\u001b[1;32m   1076\u001b[0m         \u001b[0;31m# Make sure at least the PRIMARY HDU can be read\u001b[0m\u001b[0;34m\u001b[0m\u001b[0;34m\u001b[0m\u001b[0;34m\u001b[0m\u001b[0m\n\u001b[0;32m-> 1077\u001b[0;31m         \u001b[0mread_one\u001b[0m \u001b[0;34m=\u001b[0m \u001b[0mhdulist\u001b[0m\u001b[0;34m.\u001b[0m\u001b[0m_read_next_hdu\u001b[0m\u001b[0;34m(\u001b[0m\u001b[0;34m)\u001b[0m\u001b[0;34m\u001b[0m\u001b[0;34m\u001b[0m\u001b[0m\n\u001b[0m\u001b[1;32m   1078\u001b[0m \u001b[0;34m\u001b[0m\u001b[0m\n\u001b[1;32m   1079\u001b[0m         \u001b[0;31m# If we're trying to read only and no header units were found,\u001b[0m\u001b[0;34m\u001b[0m\u001b[0;34m\u001b[0m\u001b[0;34m\u001b[0m\u001b[0m\n",
      "\u001b[0;32m~/.conda/envs/DES_env/lib/python3.9/site-packages/astropy/io/fits/hdu/hdulist.py\u001b[0m in \u001b[0;36m_read_next_hdu\u001b[0;34m(self)\u001b[0m\n\u001b[1;32m   1150\u001b[0m                                 \u001b[0mfileobj\u001b[0m\u001b[0;34m.\u001b[0m\u001b[0mseek\u001b[0m\u001b[0;34m(\u001b[0m\u001b[0moffset\u001b[0m\u001b[0;34m,\u001b[0m \u001b[0mos\u001b[0m\u001b[0;34m.\u001b[0m\u001b[0mSEEK_SET\u001b[0m\u001b[0;34m)\u001b[0m\u001b[0;34m\u001b[0m\u001b[0;34m\u001b[0m\u001b[0m\n\u001b[1;32m   1151\u001b[0m \u001b[0;34m\u001b[0m\u001b[0m\n\u001b[0;32m-> 1152\u001b[0;31m                         \u001b[0mhdu\u001b[0m \u001b[0;34m=\u001b[0m \u001b[0m_BaseHDU\u001b[0m\u001b[0;34m.\u001b[0m\u001b[0mreadfrom\u001b[0m\u001b[0;34m(\u001b[0m\u001b[0mfileobj\u001b[0m\u001b[0;34m,\u001b[0m \u001b[0;34m**\u001b[0m\u001b[0mkwargs\u001b[0m\u001b[0;34m)\u001b[0m\u001b[0;34m\u001b[0m\u001b[0;34m\u001b[0m\u001b[0m\n\u001b[0m\u001b[1;32m   1153\u001b[0m                     \u001b[0;32mexcept\u001b[0m \u001b[0mEOFError\u001b[0m\u001b[0;34m:\u001b[0m\u001b[0;34m\u001b[0m\u001b[0;34m\u001b[0m\u001b[0m\n\u001b[1;32m   1154\u001b[0m                         \u001b[0mself\u001b[0m\u001b[0;34m.\u001b[0m\u001b[0m_read_all\u001b[0m \u001b[0;34m=\u001b[0m \u001b[0;32mTrue\u001b[0m\u001b[0;34m\u001b[0m\u001b[0;34m\u001b[0m\u001b[0m\n",
      "\u001b[0;32m~/.conda/envs/DES_env/lib/python3.9/site-packages/astropy/io/fits/hdu/base.py\u001b[0m in \u001b[0;36mreadfrom\u001b[0;34m(cls, fileobj, checksum, ignore_missing_end, **kwargs)\u001b[0m\n\u001b[1;32m    323\u001b[0m             \u001b[0mfileobj\u001b[0m \u001b[0;34m=\u001b[0m \u001b[0m_File\u001b[0m\u001b[0;34m(\u001b[0m\u001b[0mfileobj\u001b[0m\u001b[0;34m)\u001b[0m\u001b[0;34m\u001b[0m\u001b[0;34m\u001b[0m\u001b[0m\n\u001b[1;32m    324\u001b[0m \u001b[0;34m\u001b[0m\u001b[0m\n\u001b[0;32m--> 325\u001b[0;31m         hdu = cls._readfrom_internal(fileobj, checksum=checksum,\n\u001b[0m\u001b[1;32m    326\u001b[0m                                      \u001b[0mignore_missing_end\u001b[0m\u001b[0;34m=\u001b[0m\u001b[0mignore_missing_end\u001b[0m\u001b[0;34m,\u001b[0m\u001b[0;34m\u001b[0m\u001b[0;34m\u001b[0m\u001b[0m\n\u001b[1;32m    327\u001b[0m                                      **kwargs)\n",
      "\u001b[0;32m~/.conda/envs/DES_env/lib/python3.9/site-packages/astropy/io/fits/hdu/base.py\u001b[0m in \u001b[0;36m_readfrom_internal\u001b[0;34m(cls, data, header, checksum, ignore_missing_end, **kwargs)\u001b[0m\n\u001b[1;32m    411\u001b[0m                     \u001b[0;31m# in the wild.\u001b[0m\u001b[0;34m\u001b[0m\u001b[0;34m\u001b[0m\u001b[0;34m\u001b[0m\u001b[0m\n\u001b[1;32m    412\u001b[0m                     \u001b[0mdata\u001b[0m\u001b[0;34m.\u001b[0m\u001b[0mseek\u001b[0m\u001b[0;34m(\u001b[0m\u001b[0mheader_offset\u001b[0m\u001b[0;34m)\u001b[0m\u001b[0;34m\u001b[0m\u001b[0;34m\u001b[0m\u001b[0m\n\u001b[0;32m--> 413\u001b[0;31m                     header = Header.fromfile(data,\n\u001b[0m\u001b[1;32m    414\u001b[0m                                              endcard=not ignore_missing_end)\n\u001b[1;32m    415\u001b[0m             \u001b[0mhdu_fileobj\u001b[0m \u001b[0;34m=\u001b[0m \u001b[0mdata\u001b[0m\u001b[0;34m\u001b[0m\u001b[0;34m\u001b[0m\u001b[0m\n",
      "\u001b[0;32m~/.conda/envs/DES_env/lib/python3.9/site-packages/astropy/io/fits/header.py\u001b[0m in \u001b[0;36mfromfile\u001b[0;34m(cls, fileobj, sep, endcard, padding)\u001b[0m\n\u001b[1;32m    520\u001b[0m                         \u001b[0;32mbreak\u001b[0m\u001b[0;34m\u001b[0m\u001b[0;34m\u001b[0m\u001b[0m\n\u001b[1;32m    521\u001b[0m \u001b[0;34m\u001b[0m\u001b[0m\n\u001b[0;32m--> 522\u001b[0;31m             return cls._from_blocks(block_iter, is_binary, sep, endcard,\n\u001b[0m\u001b[1;32m    523\u001b[0m                                     padding)[1]\n\u001b[1;32m    524\u001b[0m         \u001b[0;32mfinally\u001b[0m\u001b[0;34m:\u001b[0m\u001b[0;34m\u001b[0m\u001b[0;34m\u001b[0m\u001b[0m\n",
      "\u001b[0;32m~/.conda/envs/DES_env/lib/python3.9/site-packages/astropy/io/fits/header.py\u001b[0m in \u001b[0;36m_from_blocks\u001b[0;34m(cls, block_iter, is_binary, sep, endcard, padding)\u001b[0m\n\u001b[1;32m    603\u001b[0m             \u001b[0;31m# TODO: Pass this error to validation framework as an ERROR,\u001b[0m\u001b[0;34m\u001b[0m\u001b[0;34m\u001b[0m\u001b[0;34m\u001b[0m\u001b[0m\n\u001b[1;32m    604\u001b[0m             \u001b[0;31m# rather than raising an exception\u001b[0m\u001b[0;34m\u001b[0m\u001b[0;34m\u001b[0m\u001b[0;34m\u001b[0m\u001b[0m\n\u001b[0;32m--> 605\u001b[0;31m             \u001b[0;32mraise\u001b[0m \u001b[0mOSError\u001b[0m\u001b[0;34m(\u001b[0m\u001b[0;34m'Header missing END card.'\u001b[0m\u001b[0;34m)\u001b[0m\u001b[0;34m\u001b[0m\u001b[0;34m\u001b[0m\u001b[0m\n\u001b[0m\u001b[1;32m    606\u001b[0m \u001b[0;34m\u001b[0m\u001b[0m\n\u001b[1;32m    607\u001b[0m         \u001b[0mheader_str\u001b[0m \u001b[0;34m=\u001b[0m \u001b[0;34m''\u001b[0m\u001b[0;34m.\u001b[0m\u001b[0mjoin\u001b[0m\u001b[0;34m(\u001b[0m\u001b[0mread_blocks\u001b[0m\u001b[0;34m)\u001b[0m\u001b[0;34m\u001b[0m\u001b[0;34m\u001b[0m\u001b[0m\n",
      "\u001b[0;31mOSError\u001b[0m: Header missing END card."
     ]
    }
   ],
   "source": [
    "# calling Y3 GOLD footprint map\n",
    "# downloaded from https://cdcvs.fnal.gov/redmine/projects/des-y3/wiki/Y3A2_Gold_footprint\n",
    "mapname='/global/homes/b/bwarner/DMASS/code/y3a2_footprint_griz_1exp_v2.0.fits.gz.1'\n",
    "hpmap_y3gold = hp.read_map(mapname)\n",
    "goodmask = hp.mask_good(hpmap_y3gold)\n",
    "hpind_y3gold = np.arange(hpmap_y3gold.size)\n",
    "\n",
    "# Generate mask for cmass\n",
    "mask_train = np.in1d(cmass['HEALIndex'],hpind_y3gold[goodmask])\n",
    "\n",
    "# Apply mask to extract cmass in the Y3 gold region\n",
    "# This results 76722 CMASS galaxies\n",
    "train_sample = cmass[mask_train]"
   ]
  },
  {
   "cell_type": "code",
   "execution_count": 14,
   "metadata": {},
   "outputs": [
    {
     "ename": "NameError",
     "evalue": "name 'hpind_y3gold' is not defined",
     "output_type": "error",
     "traceback": [
      "\u001b[0;31m---------------------------------------------------------------------------\u001b[0m",
      "\u001b[0;31mNameError\u001b[0m                                 Traceback (most recent call last)",
      "\u001b[0;32m<ipython-input-14-42d67e16260f>\u001b[0m in \u001b[0;36m<module>\u001b[0;34m\u001b[0m\n\u001b[1;32m      1\u001b[0m \u001b[0;31m# convert hp indices to ra/dec and split into st82 (training) and spt (test) regions.\u001b[0m\u001b[0;34m\u001b[0m\u001b[0;34m\u001b[0m\u001b[0;34m\u001b[0m\u001b[0m\n\u001b[1;32m      2\u001b[0m \u001b[0;31m# Apply a rough cut (DEC > -10.0)\u001b[0m\u001b[0;34m\u001b[0m\u001b[0;34m\u001b[0m\u001b[0;34m\u001b[0m\u001b[0m\n\u001b[0;32m----> 3\u001b[0;31m \u001b[0mra_hpmap_y3gold\u001b[0m\u001b[0;34m,\u001b[0m \u001b[0mdec_hpmap_y3gold\u001b[0m \u001b[0;34m=\u001b[0m \u001b[0mhpHEALPixelToRaDec\u001b[0m\u001b[0;34m(\u001b[0m \u001b[0mhpind_y3gold\u001b[0m\u001b[0;34m[\u001b[0m\u001b[0mgoodmask\u001b[0m\u001b[0;34m]\u001b[0m\u001b[0;34m,\u001b[0m \u001b[0mnside\u001b[0m \u001b[0;34m=\u001b[0m \u001b[0;36m4096\u001b[0m\u001b[0;34m,\u001b[0m \u001b[0mnest\u001b[0m\u001b[0;34m=\u001b[0m\u001b[0;32mFalse\u001b[0m \u001b[0;34m)\u001b[0m\u001b[0;34m\u001b[0m\u001b[0;34m\u001b[0m\u001b[0m\n\u001b[0m\u001b[1;32m      4\u001b[0m \u001b[0mmask_hpmap_y3gold_training\u001b[0m \u001b[0;34m=\u001b[0m \u001b[0mdec_hpmap_y3gold\u001b[0m \u001b[0;34m>\u001b[0m \u001b[0;34m-\u001b[0m\u001b[0;36m10.0\u001b[0m\u001b[0;34m\u001b[0m\u001b[0;34m\u001b[0m\u001b[0m\n\u001b[1;32m      5\u001b[0m \u001b[0mmask_hpmap_y3gold_testing\u001b[0m \u001b[0;34m=\u001b[0m \u001b[0mdec_hpmap_y3gold\u001b[0m \u001b[0;34m<\u001b[0m \u001b[0;34m-\u001b[0m\u001b[0;36m10.0\u001b[0m\u001b[0;34m\u001b[0m\u001b[0;34m\u001b[0m\u001b[0m\n",
      "\u001b[0;31mNameError\u001b[0m: name 'hpind_y3gold' is not defined"
     ]
    }
   ],
   "source": [
    "# convert hp indices to ra/dec and split into st82 (training) and spt (test) regions. \n",
    "# Apply a rough cut (DEC > -10.0)\n",
    "ra_hpmap_y3gold, dec_hpmap_y3gold = hpHEALPixelToRaDec( hpind_y3gold[goodmask], nside = 4096, nest=False )\n",
    "mask_hpmap_y3gold_training = dec_hpmap_y3gold > -10.0\n",
    "mask_hpmap_y3gold_testing = dec_hpmap_y3gold < -10.0\n",
    "\n",
    "pixarea = hp.nside2pixarea( 4096, degrees = True)\n",
    "npix_training =  np.sum(mask_hpmap_y3gold_training)\n",
    "npix_testing = np.sum(mask_hpmap_y3gold_testing)\n",
    "TrainingMapArea = pixarea * npix_training\n",
    "TestingMapArea = pixarea * npix_testing\n",
    "print ('<Survey Area> \\n-This is a rough estimation')\n",
    "print ('training region (dec > -10.0):{:5.0f} sq.deg'.format(TrainingMapArea) )\n",
    "print ('testing region  (dec < -10.0):{:5.0f} sq.deg'.format(TestingMapArea) )"
   ]
  },
  {
   "cell_type": "markdown",
   "metadata": {},
   "source": [
    "# Training the algorithm"
   ]
  },
  {
   "cell_type": "code",
   "execution_count": 64,
   "metadata": {},
   "outputs": [],
   "source": [
    "# call training samples\n",
    "outdir = '../output/test/train_cat/'\n",
    "clean_cmass_data_des = esutil.io.read( outdir+'train_cmass_sample_des.fits')\n",
    "nocmass = esutil.io.read( outdir+'train_non_cmass_sample_des.fits')"
   ]
  },
  {
   "cell_type": "code",
   "execution_count": 72,
   "metadata": {},
   "outputs": [
    {
     "name": "stdout",
     "output_type": "stream",
     "text": [
      "random sampling... \n",
      "num of randomly sampled cmass  100000\n",
      "num of randomly sampled non-cmass  64622\n",
      "cmass_fraction (cmass/non-cmass):  3.173529870142928e-05\n"
     ]
    }
   ],
   "source": [
    "# For a fast run, we draw a random sample to reduce the sample size. \n",
    "# Larger sample tends to make a better model but the sample size is not always proportional to the accuracy of the model. \n",
    "\n",
    "# Put sample size you want \n",
    "\n",
    "n_sample =  100000  # train cmass sample size\n",
    "n_sample_non = int(nocmass.size)          # train non-cmass sample size\n",
    "\n",
    "#n_sample =  int(clean_cmass_data_des.size)  # train cmass sample size\n",
    "#n_sample_non = int(nocmass.size/20)          # train non-cmass sample size\n",
    "\n",
    "print('random sampling... ')\n",
    "sampling_ind = np.random.choice(np.arange(clean_cmass_data_des.size), size = n_sample)\n",
    "clean_cmass_data_des_sub = clean_cmass_data_des[sampling_ind]\n",
    "print('num of randomly sampled cmass ', clean_cmass_data_des_sub.size)\n",
    "random_sampling_ind = np.random.choice(np.arange(nocmass.size), size = n_sample_non )\n",
    "nocmass_sub = nocmass[random_sampling_ind]\n",
    "print('num of randomly sampled non-cmass ', nocmass_sub.size)\n",
    "\n",
    "# The fraction of CMASS galaxies in the training region.\n",
    "# This number is required to put a prior for the Bayesian statistics \n",
    "cmass_fraction = clean_cmass_data_des.size *1./gold_st82.size\n",
    "print('cmass_fraction (cmass/non-cmass): ', cmass_fraction)\n",
    "outdir = '../output/test/fitting/'\n",
    "os.makedirs(outdir, exist_ok=True)\n",
    "f = open(outdir+'cmassfrac', 'w')\n",
    "f.write('{0:.10f}'.format(cmass_fraction))\n",
    "f.close()"
   ]
  },
  {
   "cell_type": "markdown",
   "metadata": {},
   "source": [
    "### Model Fitting"
   ]
  },
  {
   "cell_type": "code",
   "execution_count": 73,
   "metadata": {},
   "outputs": [],
   "source": [
    "# number of gaussian mixtures\n",
    "# Set None for a initial run. The algorithm automatically finds an optimal number\n",
    "n_cmass = None    # for cmass\n",
    "n_no = None       # for non-cmass \n",
    "\n",
    "# number of XD iteration. \n",
    "# I set these numbers small for a fast run but generally\n",
    "# should be run until the XD algorithm converges (more than 10000 iterations)\n",
    "n_iter_cmass = 10\n",
    "n_iter_no = 1\n",
    "# tolerance\n",
    "tol = 1E-5\n",
    "\n",
    "# Fitted parameters and covariance will be stored as a pickle\n",
    "outdir = '../output/test/fitting/'\n",
    "os.makedirs(outdir, exist_ok=True)\n",
    "cmass_pickle = outdir+'gauss_cmass.pkl'\n",
    "no_pickle = outdir+'gauss_no.pkl'"
   ]
  },
  {
   "cell_type": "code",
   "execution_count": 74,
   "metadata": {},
   "outputs": [],
   "source": [
    "# Magnitudes and corresponding errors you want to use to train the algorithm. \n",
    "# `mixing_color` automatically constructs [mag g, mag r, color (g-r), color (r-i)] and \n",
    "# its 4x4 covariance matrix from the input magnitudes. \n",
    "# I simply put `SOF_CM_MAG_CORRECTED` magnitudes for now. \n",
    "# If you want to use different combinations of mags and colors, \n",
    "# modify `mixing_color` or build your own function. \n",
    "mag = ['SOF_CM_MAG_CORRECTED', 'SOF_CM_MAG_CORRECTED' ]\n",
    "err = ['SOF_CM_MAG_ERR', 'SOF_CM_MAG_ERR']\n",
    "filter = ['G', 'R', 'I']\n",
    "\n",
    "# This generates four columns of cmass training sample. order : mag r, mag i, (g-r), (r-i)\n",
    "X_cmass_true, X_cmass_cov = mixing_color(clean_cmass_data_des_sub, \n",
    "                mag = mag, err=err, filter=filter, \n",
    "                no_zband = True )\n",
    "\n",
    "# This generates four columns of non-cmass training sample. order : mag r, mag i, (g-r), (r-i)\n",
    "X_no_true, X_no_cov = mixing_color(nocmass_sub, \n",
    "                mag = mag, err=err, filter=filter, \n",
    "                no_zband = True )"
   ]
  },
  {
   "cell_type": "code",
   "execution_count": 75,
   "metadata": {},
   "outputs": [
    {
     "name": "stdout",
     "output_type": "stream",
     "text": [
      "@pickle_results: computing results and saving to '../output/test/fitting/gauss_cmass.pkl'\n",
      "  warning: cache file '../output/test/fitting/gauss_cmass.pkl' exists\n",
      "    - args match:   False\n",
      "    - kwargs match: True\n",
      "@pickle_results: using precomputed results from '../output/test/fitting/gauss_cmass.pkl.n_cluster'\n",
      "Finding optimal number of cluster : 100 % \n",
      "best fit converged: True  n_components =  8\n",
      "n components = 8\n",
      "tolerance = 1e-05\n"
     ]
    },
    {
     "name": "stderr",
     "output_type": "stream",
     "text": [
      "/global/homes/b/bwarner/.conda/envs/DES_env/lib/python3.9/site-packages/sklearn/mixture/_base.py:265: ConvergenceWarning: Initialization 1 did not converge. Try different init parameters, or increase max_iter, tol or check for degenerate data.\n",
      "  warnings.warn('Initialization %d did not converge. '\n"
     ]
    },
    {
     "name": "stdout",
     "output_type": "stream",
     "text": [
      "1: log(L) = 356568.5092\n",
      "    (9.6 sec)\n",
      "2: log(L) = 357310.7851\n",
      "    (10 sec)\n",
      "3: log(L) = 357801.5043\n",
      "    (9.5 sec)\n",
      "4: log(L) = 358197.4517\n",
      "    (9.6 sec)\n",
      "5: log(L) = 358566.1718\n",
      "    (9.6 sec)\n",
      "6: log(L) = 358939.3637\n",
      "    (9.5 sec)\n",
      "7: log(L) = 359325.3327\n",
      "    (9.5 sec)\n",
      "8: log(L) = 359719.8454\n",
      "    (9.3 sec)\n",
      "9: log(L) = 360114.2592\n",
      "    (9.2 sec)\n",
      "10: log(L) = 360496.0725\n",
      "    (9.3 sec)\n",
      "elapsed time: 1.40 min,  total iteration 9                                 \n",
      "@pickle_results: computing results and saving to '../output/test/fitting/gauss_no.pkl'\n",
      "  warning: cache file '../output/test/fitting/gauss_no.pkl' exists\n",
      "    - args match:   False\n",
      "    - kwargs match: True\n",
      "@pickle_results: using precomputed results from '../output/test/fitting/gauss_no.pkl.n_cluster'\n",
      "Finding optimal number of cluster : 100 % \n",
      "best fit converged: True  n_components =  16\n",
      "n components = 16\n",
      "tolerance = 1e-05\n"
     ]
    },
    {
     "name": "stderr",
     "output_type": "stream",
     "text": [
      "/global/homes/b/bwarner/.conda/envs/DES_env/lib/python3.9/site-packages/sklearn/mixture/_base.py:265: ConvergenceWarning: Initialization 1 did not converge. Try different init parameters, or increase max_iter, tol or check for degenerate data.\n",
      "  warnings.warn('Initialization %d did not converge. '\n"
     ]
    },
    {
     "name": "stdout",
     "output_type": "stream",
     "text": [
      "1: log(L) = 88170.04941\n",
      "    (12 sec)\n",
      "elapsed time: 0.00 min,  total iteration 0                                 \n"
     ]
    }
   ],
   "source": [
    "# Run XD Fitting. This will take a while \n",
    "clf_cmass = XD_fitting_X( X_cmass_true, X_cmass_cov, pickleFileName = cmass_pickle, \n",
    "                       n_cl = n_cmass, n_iter = n_iter_cmass, tol = tol, \n",
    "                       verbose = True, init_params= None)                 \n",
    "clf_no = XD_fitting_X( X_no_true, X_no_cov, pickleFileName = no_pickle, \n",
    "                    n_cl = n_no, n_iter = n_iter_no, tol = tol, \n",
    "                    verbose = True, init_params = None)"
   ]
  },
  {
   "cell_type": "markdown",
   "metadata": {},
   "source": [
    "# Validation of the fitted XD model"
   ]
  },
  {
   "cell_type": "code",
   "execution_count": 76,
   "metadata": {},
   "outputs": [],
   "source": [
    "# call saved pickles if you empty memory. Otherwise skip it \n",
    "outdir = '../output/test/fitting/'\n",
    "cmass_pickle = outdir+'gauss_cmass.pkl'\n",
    "no_pickle = outdir+'gauss_no.pkl'\n",
    "clf_cmass = XD_fitting_X( None, None, pickleFileName = cmass_pickle)               \n",
    "clf_no = XD_fitting_X( None, None, pickleFileName = no_pickle)"
   ]
  },
  {
   "cell_type": "code",
   "execution_count": 77,
   "metadata": {},
   "outputs": [],
   "source": [
    "# We will generate a random sample from the fitted model and compare the resulting samples with the training sample\n",
    "# If the model is correct, the random sample should match with the training sample\n",
    "X_sample_cmass = clf_cmass.sample(200000)  # cmass model\n",
    "X_sample_no = clf_no.sample(200000)        # non-cmass model"
   ]
  },
  {
   "cell_type": "code",
   "execution_count": 78,
   "metadata": {},
   "outputs": [
    {
     "name": "stdout",
     "output_type": "stream",
     "text": [
      "Using central 100% to set range.\n"
     ]
    },
    {
     "data": {
      "image/png": "[encoded data removed]",
      "text/plain": [
       "<Figure size 1152x288 with 4 Axes>"
      ]
     },
     "metadata": {
      "needs_background": "light"
     },
     "output_type": "display_data"
    }
   ],
   "source": [
    "# Comparison. train vs. randoms from the fitted gaussian mixture model\n",
    "doVisualization_1d( data=[X_cmass_true, X_sample_cmass], \n",
    "                   labels = ['mag r', 'mag i', 'g-r', 'r-i'], \n",
    "                   ranges = None, \n",
    "                   name = ['train sample', 'model sample'], \n",
    "                   weight = [None,None], \n",
    "                   nbins=100)"
   ]
  },
  {
   "cell_type": "code",
   "execution_count": 79,
   "metadata": {},
   "outputs": [
    {
     "name": "stdout",
     "output_type": "stream",
     "text": [
      "Using central 100% to set range.\n"
     ]
    },
    {
     "data": {
      "image/png": "[encoded data removed]",
      "text/plain": [
       "<Figure size 1152x288 with 4 Axes>"
      ]
     },
     "metadata": {
      "needs_background": "light"
     },
     "output_type": "display_data"
    }
   ],
   "source": [
    "# Comparison. train vs. randoms for non-cmass\n",
    "doVisualization_1d( data=[X_no_true, X_sample_no], \n",
    "                   labels = ['mag r', 'mag i', 'g-r', 'r-i'], \n",
    "                   ranges = None, \n",
    "                   name = ['train sample', 'model sample'], \n",
    "                   weight = [None,None], \n",
    "                   nbins=100)"
   ]
  },
  {
   "cell_type": "markdown",
   "metadata": {},
   "source": [
    "If model samples agree with the training samples, we will use the fitted model to assign a CMASS membership probability to the Y3 Gold galaxies. First, try with the training region. As the model is trained with the training region, the assigned probability should reflect the color distributions of the taining galaxies. "
   ]
  },
  {
   "cell_type": "code",
   "execution_count": 80,
   "metadata": {},
   "outputs": [
    {
     "name": "stdout",
     "output_type": "stream",
     "text": [
      "calculate loglikelihood gaussian with multiprocessing module\n",
      "multiprocessing 100 % \n"
     ]
    }
   ],
   "source": [
    "# For a fast run, we use a subset of y3 gold selected randomly.  \n",
    "# Generate random indices, sample size 100,000\n",
    "rand_ind = np.random.choice(np.arange(gold_st82.size), size = 100000)\n",
    "gold_st82_sub = gold_st82[rand_ind]\n",
    "\n",
    "# Assigning CMASS probabilities to Gold Y3 in Stripe 82.\n",
    "mag = ['SOF_CM_MAG_CORRECTED', 'SOF_CM_MAG_CORRECTED'] \n",
    "err = ['SOF_CM_MAG_ERR', 'SOF_CM_MAG_ERR'] \n",
    "filter = ['G', 'R', 'I']\n",
    "gold_st82_test = assignCMASSProb(gold_st82_sub, clf_cmass, clf_no, \n",
    "                     cmass_fraction = cmass_fraction, \n",
    "                     mag=mag, err=err, filter=filter )"
   ]
  },
  {
   "cell_type": "markdown",
   "metadata": {},
   "source": [
    "The probability is saved into the `CMASS_PROB` column. `y3 gold` galaxies should be weighted with this column to be a DMASS galaxy. Now we will compare the color/magnitude distributions of the weighted `y3 gold` galaxies (DMASS) with the training sample"
   ]
  },
  {
   "cell_type": "code",
   "execution_count": 81,
   "metadata": {},
   "outputs": [],
   "source": [
    "# Generate Four columns of data : mag r, mag i, (g-r), (r-i)\n",
    "X_dmass_st82, Xcov = mixing_color(gold_st82_test, \n",
    "                mag = ['SOF_CM_MAG_CORRECTED', 'SOF_CM_MAG_CORRECTED'], \n",
    "                err = ['SOF_CM_MAG_ERR', 'SOF_CM_MAG_ERR'], \n",
    "                filter = ['G', 'R', 'I'],\n",
    "                no_zband = True  )"
   ]
  },
  {
   "cell_type": "code",
   "execution_count": 82,
   "metadata": {},
   "outputs": [
    {
     "name": "stdout",
     "output_type": "stream",
     "text": [
      "Using central 100% to set range.\n"
     ]
    },
    {
     "data": {
      "image/png": "[encoded data removed]",
      "text/plain": [
       "<Figure size 1152x288 with 4 Axes>"
      ]
     },
     "metadata": {
      "needs_background": "light"
     },
     "output_type": "display_data"
    }
   ],
   "source": [
    "# Comparison plot for the training sample (cmass) vs. dmass sample selected in the training region\n",
    "# DMASS sample should be weighted by 'CMASS_PROB' column when plotting\n",
    "weight_dmass = gold_st82_test['CMASS_PROB']\n",
    "doVisualization_1d( data=[X_cmass_true, X_dmass_st82], \n",
    "                   weight = [None, weight_dmass], # put DMASS weight here \n",
    "                   labels = ['mag r', 'mag i', 'g-r', 'r-i'], \n",
    "                   ranges = None, \n",
    "                   name = ['train sample', 'dmass in the training region'], \n",
    "                   nbins=100)"
   ]
  },
  {
   "cell_type": "markdown",
   "metadata": {},
   "source": [
    "# Apply the fitted model to galaxies outside the training region"
   ]
  },
  {
   "cell_type": "markdown",
   "metadata": {},
   "source": [
    "If the fitted model works well in the training region, we will apply the model to `y3 gold` galaxies outside the training region. We call a small patch of `y3 gold` at `-40 < dec < -30`, `10 < ra < 20`. "
   ]
  },
  {
   "cell_type": "code",
   "execution_count": 83,
   "metadata": {},
   "outputs": [],
   "source": [
    "# empty memory \n",
    "gold_st82 = None\n",
    "gold_st82_sub = None\n",
    "nocmass = None"
   ]
  },
  {
   "cell_type": "code",
   "execution_count": 84,
   "metadata": {},
   "outputs": [
    {
     "name": "stdout",
     "output_type": "stream",
     "text": [
      "\n",
      "Calling catalogs >>>\n",
      "Y3_GOLD_2_0_SPT_ra10_20_decm40_m30_000004.fits\n",
      "Y3_GOLD_2_0_SPT_ra10_20_decm40_m30_000006.fits\n",
      "Y3_GOLD_2_0_SPT_ra10_20_decm40_m30_000007.fits\n",
      "Y3_GOLD_2_0_SPT_ra10_20_decm40_m30_000012.fits\n",
      "Y3_GOLD_2_0_SPT_ra10_20_decm40_m30_000008.fits\n",
      "Y3_GOLD_2_0_SPT_ra10_20_decm40_m30_000013.fits\n",
      "Y3_GOLD_2_0_SPT_ra10_20_decm40_m30_000015.fits\n",
      "Y3_GOLD_2_0_SPT_ra10_20_decm40_m30_000003.fits\n",
      "Y3_GOLD_2_0_SPT_ra10_20_decm40_m30_000016.fits\n",
      "Y3_GOLD_2_0_SPT_ra10_20_decm40_m30_000011.fits\n",
      "Y3_GOLD_2_0_SPT_ra10_20_decm40_m30_000009.fits\n",
      "Y3_GOLD_2_0_SPT_ra10_20_decm40_m30_000010.fits\n",
      "Y3_GOLD_2_0_SPT_ra10_20_decm40_m30_000014.fits\n",
      "Y3_GOLD_2_0_SPT_ra10_20_decm40_m30_000002.fits\n",
      "Y3_GOLD_2_0_SPT_ra10_20_decm40_m30_000017.fits\n",
      "Y3_GOLD_2_0_SPT_ra10_20_decm40_m30_000001.fits\n",
      "Y3_GOLD_2_0_SPT_ra10_20_decm40_m30_000005.fits\n",
      "reading 1/17 /global/cscratch1/sd/bwarner/Y3_GOLD_2_0_SPT_ra10_20_decm40_m30_000004.fits\n",
      "reading 2/17 /global/cscratch1/sd/bwarner/Y3_GOLD_2_0_SPT_ra10_20_decm40_m30_000006.fits\n",
      "reading 3/17 /global/cscratch1/sd/bwarner/Y3_GOLD_2_0_SPT_ra10_20_decm40_m30_000007.fits\n",
      "reading 4/17 /global/cscratch1/sd/bwarner/Y3_GOLD_2_0_SPT_ra10_20_decm40_m30_000012.fits\n",
      "reading 5/17 /global/cscratch1/sd/bwarner/Y3_GOLD_2_0_SPT_ra10_20_decm40_m30_000008.fits\n",
      "reading 6/17 /global/cscratch1/sd/bwarner/Y3_GOLD_2_0_SPT_ra10_20_decm40_m30_000013.fits\n",
      "reading 7/17 /global/cscratch1/sd/bwarner/Y3_GOLD_2_0_SPT_ra10_20_decm40_m30_000015.fits\n",
      "reading 8/17 /global/cscratch1/sd/bwarner/Y3_GOLD_2_0_SPT_ra10_20_decm40_m30_000003.fits\n",
      "reading 9/17 /global/cscratch1/sd/bwarner/Y3_GOLD_2_0_SPT_ra10_20_decm40_m30_000016.fits\n",
      "reading 10/17 /global/cscratch1/sd/bwarner/Y3_GOLD_2_0_SPT_ra10_20_decm40_m30_000011.fits\n",
      "reading 11/17 /global/cscratch1/sd/bwarner/Y3_GOLD_2_0_SPT_ra10_20_decm40_m30_000009.fits\n",
      "reading 12/17 /global/cscratch1/sd/bwarner/Y3_GOLD_2_0_SPT_ra10_20_decm40_m30_000010.fits\n",
      "reading 13/17 /global/cscratch1/sd/bwarner/Y3_GOLD_2_0_SPT_ra10_20_decm40_m30_000014.fits\n",
      "reading 14/17 /global/cscratch1/sd/bwarner/Y3_GOLD_2_0_SPT_ra10_20_decm40_m30_000002.fits\n",
      "reading 15/17 /global/cscratch1/sd/bwarner/Y3_GOLD_2_0_SPT_ra10_20_decm40_m30_000017.fits\n",
      "reading 16/17 /global/cscratch1/sd/bwarner/Y3_GOLD_2_0_SPT_ra10_20_decm40_m30_000001.fits\n",
      "reading 17/17 /global/cscratch1/sd/bwarner/Y3_GOLD_2_0_SPT_ra10_20_decm40_m30_000005.fits\n"
     ]
    }
   ],
   "source": [
    "# Calling Y3 GOLD in a small square area \n",
    "input_path = '/global/cscratch1/sd/bwarner/'\n",
    "input_keyword = 'Y3_GOLD_2_0_SPT_ra10_20'\n",
    "columns = \\\n",
    "['RA', 'DEC', 'HPIX_4096', \n",
    "'COADD_OBJECT_ID', \n",
    "'SOF_CM_MAG_CORRECTED_G',\n",
    "'SOF_CM_MAG_CORRECTED_R',\n",
    "'SOF_CM_MAG_CORRECTED_I',\n",
    "'SOF_CM_MAG_CORRECTED_Z',\n",
    "'SOF_CM_MAG_ERR_G',\n",
    "'SOF_CM_MAG_ERR_R',\n",
    "'SOF_CM_MAG_ERR_I',\n",
    "'SOF_CM_MAG_ERR_Z']\n",
    "gold_spt = io.SearchAndCallFits(path = input_path, keyword = input_keyword, columns=columns)\n",
    "\n",
    "# Apply the same color/mag cuts to exclude extreme color/mag sources \n",
    "mask_magcut = priorCut_test(gold_spt)\n",
    "gold_spt = gold_spt[mask_magcut]"
   ]
  },
  {
   "cell_type": "code",
   "execution_count": 85,
   "metadata": {},
   "outputs": [
    {
     "name": "stdout",
     "output_type": "stream",
     "text": [
      "calculate loglikelihood gaussian with multiprocessing module\n",
      "multiprocessing 100 % \n"
     ]
    }
   ],
   "source": [
    "# For a fast run, draw a random sample to reduce the sample size \n",
    "rand_ind = np.random.choice(np.arange(gold_spt.size), size = 100000)\n",
    "gold_spt_sub = gold_spt[rand_ind]\n",
    "\n",
    "# Assigning CMASS probabilities to Gold Y3\n",
    "mag = ['SOF_CM_MAG_CORRECTED', 'SOF_CM_MAG_CORRECTED'] \n",
    "err = ['SOF_CM_MAG_ERR', 'SOF_CM_MAG_ERR'] \n",
    "filter = ['G', 'R', 'I']\n",
    "gold_spt_test = assignCMASSProb(gold_spt_sub, clf_cmass, clf_no, \n",
    "                     cmass_fraction = cmass_fraction, \n",
    "                     mag=mag, err=err, filter=filter )"
   ]
  },
  {
   "cell_type": "code",
   "execution_count": 86,
   "metadata": {},
   "outputs": [],
   "source": [
    "X_dmass, Xcov = mixing_color(gold_spt_test, \n",
    "                mag = ['SOF_CM_MAG_CORRECTED', 'SOF_CM_MAG_CORRECTED'], \n",
    "                err = ['SOF_CM_MAG_ERR', 'SOF_CM_MAG_ERR'], \n",
    "                filter = ['G', 'R', 'I'],\n",
    "                no_zband = True  )"
   ]
  },
  {
   "cell_type": "code",
   "execution_count": 87,
   "metadata": {},
   "outputs": [
    {
     "name": "stdout",
     "output_type": "stream",
     "text": [
      "Using central 100% to set range.\n"
     ]
    },
    {
     "data": {
      "image/png": "[encoded data removed]",
      "text/plain": [
       "<Figure size 1152x288 with 4 Axes>"
      ]
     },
     "metadata": {
      "needs_background": "light"
     },
     "output_type": "display_data"
    }
   ],
   "source": [
    "weight_dmass = gold_spt_test['CMASS_PROB']\n",
    "doVisualization_1d(data=[X_cmass_true, X_dmass], \n",
    "                   weight = [None, weight_dmass],  # apply dmass weights\n",
    "                   labels = ['mag r', 'mag i', 'g-r', 'r-i'], \n",
    "                   ranges = None, \n",
    "                   name = ['train', 'dmass'], \n",
    "                   nbins=100)"
   ]
  },
  {
   "cell_type": "code",
   "execution_count": 88,
   "metadata": {},
   "outputs": [
    {
     "name": "stdout",
     "output_type": "stream",
     "text": [
      "(100000,)\n",
      "(100000,)\n"
     ]
    },
    {
     "data": {
      "text/plain": [
       "KstestResult(statistic=0.6279899999999999, pvalue=0.0)"
      ]
     },
     "execution_count": 88,
     "metadata": {},
     "output_type": "execute_result"
    }
   ],
   "source": [
    "#KS test:\n",
    "from scipy import stats\n",
    "\n",
    "#print(X_cmass_true.shape)\n",
    "#print(X_dmass.shape)\n",
    "#print(weight_dmass.shape)\n",
    "\n",
    "#matching catalogs\n",
    "#cuts to select RA and DEC\n",
    "\n",
    "#numpy array slicing function \n",
    "#pass the first column etc.\n",
    "\n",
    "Xdmass_magr=X_dmass[:,0]\n",
    "Xdmass_magi=X_dmass[:,1]\n",
    "Xdmass_gr=X_dmass[:,2]\n",
    "Xdmass_ri=X_dmass[:,3]\n",
    "\n",
    "Xcmass_magr=X_cmass_true[:,0]\n",
    "Xcmass_magi=X_cmass_true[:,1]\n",
    "Xcmass_gr=X_cmass_true[:,2]\n",
    "Xcmass_ri=X_cmass_true[:,3]\n",
    "\n",
    "print(Xdmass_magi.shape)\n",
    "print(Xcmass_magr.shape)\n",
    "\n",
    "stats.kstest(Xcmass_magr, Xdmass_magr)\n",
    "stats.kstest(Xcmass_magi, Xdmass_magi)\n",
    "stats.kstest(Xcmass_gr, Xdmass_gr)\n",
    "stats.kstest(Xcmass_ri, Xdmass_ri)\n",
    "\n",
    "#model training: make dist. match up more\n",
    "#larger training set\n",
    "\n",
    "######################################\n",
    "#other notes:\n",
    "\n",
    "#astro-coffee: once a week- depending on topic\n",
    "#cosmology meeting Tuesday: 2pm-3pm (zoom)\n",
    "#mailing list: subscribed?\n",
    "#cosmolunch: present paper every so often"
   ]
  },
  {
   "cell_type": "code",
   "execution_count": null,
   "metadata": {},
   "outputs": [],
   "source": [
    "#create subsample:\n",
    "#select all g-r values within an amount\n",
    "\n"
   ]
  },
  {
   "cell_type": "code",
   "execution_count": 37,
   "metadata": {},
   "outputs": [
    {
     "data": {
      "text/plain": [
       "KstestResult(statistic=0.42857142857142855, pvalue=0.5751748251748252)"
      ]
     },
     "execution_count": 37,
     "metadata": {},
     "output_type": "execute_result"
    }
   ],
   "source": [
    "#KS test sample (not same distribution):\n",
    "from scipy import stats\n",
    "#Arrays:\n",
    "i=[0.125,0.375,0.375,0.5,0.5,0.875,1]\n",
    "f=[0.285714,0.428571,0.714286,0.714286,0.857143,1,1]\n",
    "\n",
    "stats.kstest(i,f)"
   ]
  },
  {
   "cell_type": "code",
   "execution_count": 38,
   "metadata": {},
   "outputs": [
    {
     "data": {
      "text/plain": [
       "KstestResult(statistic=0.3, pvalue=0.7869297884777761)"
      ]
     },
     "execution_count": 38,
     "metadata": {},
     "output_type": "execute_result"
    }
   ],
   "source": [
    "#KS test sample 2 (same distribution):\n",
    "from scipy import stats\n",
    "\n",
    "m=[0.05, 0.1875, 0.25, 0.3375, 0.3375, 0.4, 0.5125, 0.675, 0.925, 1]\n",
    "w=[0.112903, 0.177419, 0.193548, 0.370968, 0.564516, 0.629032, 0.66129, 0.725806, 0.854839, 1]\n",
    "\n",
    "stats.kstest(m,w)"
   ]
  },
  {
   "cell_type": "code",
   "execution_count": 89,
   "metadata": {},
   "outputs": [
    {
     "name": "stdout",
     "output_type": "stream",
     "text": [
      "(50000,)\n"
     ]
    },
    {
     "data": {
      "image/png": "[encoded data removed]",
      "text/plain": [
       "<Figure size 432x288 with 1 Axes>"
      ]
     },
     "metadata": {
      "needs_background": "light"
     },
     "output_type": "display_data"
    },
    {
     "data": {
      "text/plain": [
       "KstestResult(statistic=0.00384000000000001, pvalue=0.8532323035610377)"
      ]
     },
     "execution_count": 89,
     "metadata": {},
     "output_type": "execute_result"
    }
   ],
   "source": [
    "#data from the same distribution:\n",
    "import numpy\n",
    "import matplotlib.pyplot as plt\n",
    "from scipy import stats\n",
    "\n",
    "x = numpy.random.normal(5.0, 1.0, 100000)\n",
    "\n",
    "#randomly select from array (twice):\n",
    "x1=np.random.choice(x, 50000, replace=False)\n",
    "x2=np.random.choice(x, 50000, replace=False)\n",
    "\n",
    "print(x1.shape)\n",
    "plt.hist(x, 100)\n",
    "plt.show()\n",
    "\n",
    "#check that ks test gives a correlation:\n",
    "stats.kstest(x1,x2)"
   ]
  },
  {
   "cell_type": "code",
   "execution_count": null,
   "metadata": {},
   "outputs": [],
   "source": [
    "#push to repo\n",
    "#KS test by hand: double check \n",
    "#p value, X^2\n",
    "#write out changing pieces\n",
    "#main functions in code: input outputs-- Y3\n",
    "####decide training set\\validation set-- part of overlap data is only used for testing\n",
    "#cross-validation of model while training\n",
    "#decide once-- Su- what was considered during choice\n",
    "#look at mock catalog-- Y3 realization of Y3 data-- mag. colors. simulated photo z-- use catalog and simulate DMASS by \n"
   ]
  }
 ],
 "metadata": {
  "kernelspec": {
   "display_name": "DMASS",
   "language": "python",
   "name": "des_env"
  },
  "language_info": {
   "codemirror_mode": {
    "name": "ipython",
    "version": 3
   },
   "file_extension": ".py",
   "mimetype": "text/x-python",
   "name": "python",
   "nbconvert_exporter": "python",
   "pygments_lexer": "ipython3",
   "version": "3.9.2"
  }
 },
 "nbformat": 4,
 "nbformat_minor": 4
}
