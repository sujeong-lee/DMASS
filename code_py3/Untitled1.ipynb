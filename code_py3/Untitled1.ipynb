{
 "cells": [
  {
   "cell_type": "code",
   "execution_count": null,
   "id": "4a7b2ece-1631-4d70-99a8-f4a6910ed06e",
   "metadata": {},
   "outputs": [],
   "source": [
    "pbin, frac, fracerr = np.genfromtxt('../paper_figure/model_probability.txt', unpack=True)\n",
    "\n",
    "\n",
    "fig, ax = plt.subplots(figsize = (5.3,5))\n",
    "\n",
    "ax.bar(pbin, frac , 5, edgecolor='w',\n",
    "        color='grey', yerr = fracerr, \n",
    "        alpha = 0.5, label = 'test', error_kw = {'elinewidth':1, 'capsize':2.4} )\n",
    "\n",
    "ax.plot([0,100], [0,100], ls='--', color='grey')\n",
    "ax.set_ylim(0,100)\n",
    "ax.set_xlim(0,100)\n",
    "\n",
    "ax.set_xlabel(r'{\\rm Model Probability (\\%)}', fontsize = 20)\n",
    "ax.set_ylabel(r'$f_{ {\\rm CMASS},~i}~(\\%)$', fontsize = 20)\n",
    "ax.tick_params(axis='both', labelsize = 15)\n",
    "#ax.legend(loc='best', fontsize=15)\n",
    "fig.tight_layout()\n",
    "#fig.savefig('../paper_figure/model_probability.pdf')"
   ]
  },
  {
   "cell_type": "code",
   "execution_count": null,
   "id": "4730eb78-541a-4520-9ec2-4d0e1451327d",
   "metadata": {},
   "outputs": [],
   "source": []
  }
 ],
 "metadata": {
  "kernelspec": {
   "display_name": "DMASS",
   "language": "python",
   "name": "des_env"
  },
  "language_info": {
   "codemirror_mode": {
    "name": "ipython",
    "version": 3
   },
   "file_extension": ".py",
   "mimetype": "text/x-python",
   "name": "python",
   "nbconvert_exporter": "python",
   "pygments_lexer": "ipython3",
   "version": "3.9.2"
  }
 },
 "nbformat": 4,
 "nbformat_minor": 5
}
