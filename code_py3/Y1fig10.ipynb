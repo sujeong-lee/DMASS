{
 "cells": [
  {
   "cell_type": "code",
   "execution_count": 4,
   "id": "c9effd64-baaf-463b-86fb-fc37d57699a6",
   "metadata": {},
   "outputs": [],
   "source": [
    "import os, sys\n",
    "import healpy as hp\n",
    "import numpy as np"
   ]
  },
  {
   "cell_type": "code",
   "execution_count": 5,
   "id": "f2c48349-2d1f-43ec-aaa1-44f21deca611",
   "metadata": {},
   "outputs": [],
   "source": [
    "sys.path.append('../../')\n",
    "sys.path.append('/DMASS-analysis/measurements/code_py3/')"
   ]
  },
  {
   "cell_type": "code",
   "execution_count": 6,
   "id": "0fdf6131-7d51-43fe-8693-867660be80f7",
   "metadata": {},
   "outputs": [
    {
     "name": "stdout",
     "output_type": "stream",
     "text": [
      "The autoreload extension is already loaded. To reload it, use:\n",
      "  %reload_ext autoreload\n"
     ]
    }
   ],
   "source": [
    "import esutil\n",
    "import matplotlib.pyplot as plt\n",
    "%matplotlib inline\n",
    "\n",
    "%load_ext autoreload\n",
    "%autoreload 2\n",
    "\n",
    "from utils import *"
   ]
  },
  {
   "cell_type": "code",
   "execution_count": 7,
   "id": "03b17b6e-8637-47a8-9835-8d926d0d274b",
   "metadata": {},
   "outputs": [],
   "source": [
    "from matplotlib import rc\n",
    "rc('font',**{'family':'sans-serif','sans-serif':['Helvetica']})\n",
    "## for Palatino and other serif fonts use:\n",
    "#rc('font',**{'family':'serif','serif':['Palatino']})\n",
    "rc('text', usetex=True)"
   ]
  },
  {
   "cell_type": "code",
   "execution_count": 8,
   "id": "62f55333-60be-400f-870f-fac4cce36a1f",
   "metadata": {},
   "outputs": [
    {
     "name": "stdout",
     "output_type": "stream",
     "text": [
      "/users/PCON0003/warner785/DMASS-analysis/measurements/code_py3\n"
     ]
    }
   ],
   "source": [
    "os.chdir('../../DMASS-analysis/measurements/code_py3/')\n",
    "print(os.getcwd())"
   ]
  },
  {
   "cell_type": "code",
   "execution_count": 9,
   "id": "7e938132-59b1-476e-9fd6-85809c199bb6",
   "metadata": {},
   "outputs": [],
   "source": [
    "from calling_catalogs import *"
   ]
  },
  {
   "cell_type": "code",
   "execution_count": 10,
   "id": "58a9bb8f-bed9-4dbd-8674-deacb8f3b4f0",
   "metadata": {},
   "outputs": [],
   "source": [
    "rootdir = '/users/PCON0003/warner785/DMASS-analysis/measurements/clustering/'"
   ]
  },
  {
   "cell_type": "code",
   "execution_count": 11,
   "id": "b699a273-8ab0-4ff2-8bc7-0e3760d8c0a2",
   "metadata": {},
   "outputs": [],
   "source": [
    "from ggl_mcal import run_ng_jk, run_nn_jk, run_nk_jk, compute_eix_jk, compute_Rgamma_jk, construct_jk, compute_jkcov, save_results"
   ]
  },
  {
   "cell_type": "code",
   "execution_count": 12,
   "id": "116a8e6e-0dc6-46b9-99c0-7a329d659d90",
   "metadata": {},
   "outputs": [],
   "source": [
    "def calling_lens_catalog(catname=None):\n",
    "\n",
    "    catdir = ''.join([ c+'/' for c in catname.split('/')[:-1]])\n",
    "    os.system('mkdir '+catdir)\n",
    "    dmass = esutil.io.read(catname)\n",
    "    w_dmass = dmass['CMASS_PROB']\n",
    "    print ('Calculating DMASS systematic weights...')\n",
    "    dmass = appendColumn(dmass, name='WEIGHT', value= w_dmass )\n",
    "#   dmass = dmass[ dmass['CMASS_PROB'] > 0.01 ]   # for low probability galaxies\n",
    "    esutil.io.write(catname, dmass)\n",
    "    #randoms = esutil.io.read('/n/des/lee.5922/data/dmass_cat/random_x50_dmass_spt_masked.fits')\n",
    "    \n",
    "    randoms = esutil.io.read('/fs/scratch/PCON0003/warner785/bwarner/random_dmass_y1_public_v1.fits')\n",
    "#    randoms = esutil.io.read('/users/PCON0003/warner785/DMASSY3/output/test/train_cat/y3/dmass_st82_DET200_randoms.fits')\n",
    "    \n",
    "#    catdir = ''.join([ c+'/' for c in catname.split('/')[:-1]])\n",
    "#    os.system('mkdir '+catdir)\n",
    "#    dmass = esutil.io.read('/n/des/lee.5922/data/dmass_cat/dmass_spt_sys_v3.fits')\n",
    "    w_dmass = dmass['CMASS_PROB'] *dmass['WEIGHT_SYS']\n",
    "    print ('Calculatig DMASS systematic weights...')\n",
    "    dmass = appendColumn(dmass, name='WEIGHT', value= w_dmass )\n",
    "    dmass = dmass[ dmass['CMASS_PROB'] > 0.01 ]\n",
    "    esutil.io.write(catname, dmass)\n",
    "    #randoms = esutil.io.read('/n/des/lee.5922/data/dmass_cat/random_x50_dmass_spt_masked.fits')\n",
    "\n",
    "#    randoms = esutil.io.read('/n/des/lee.5922/data/dmass_cat/random_x50_dmass_spt_masked.fits')\n",
    "\n",
    "    print ('Resulting catalog size')\n",
    "    print ('DMASS=', np.sum(dmass['WEIGHT']) )\n",
    "    print ('randoms=', randoms.size)\n",
    "    return dmass, randoms"
   ]
  },
  {
   "cell_type": "code",
   "execution_count": 13,
   "id": "2ff3ba1d-ae40-4d98-b86b-b6481177c621",
   "metadata": {},
   "outputs": [
    {
     "name": "stdout",
     "output_type": "stream",
     "text": [
      "('COADD_OBJECTS_ID', 'RA', 'DEC', 'VETO', 'CMASS_PROB', 'WEIGHT_SYS')\n"
     ]
    }
   ],
   "source": [
    "y1_dmass = esutil.io.read('/fs/scratch/PCON0003/warner785/bwarner/dmass_y1_public_v1.fits')\n",
    "print(y1_dmass.dtype.names)"
   ]
  },
  {
   "cell_type": "code",
   "execution_count": 14,
   "id": "0c1de7e9-af4f-4a42-b5c7-9a4c500bf29b",
   "metadata": {},
   "outputs": [
    {
     "name": "stdout",
     "output_type": "stream",
     "text": [
      "Calculating DMASS systematic weights...\n",
      "Calculatig DMASS systematic weights...\n",
      "Resulting catalog size\n",
      "DMASS= 114623.04051867768\n",
      "randoms= 5864645\n"
     ]
    },
    {
     "data": {
      "text/plain": [
       "'Calling DMASS catalogs and corresponding randoms\\nResulting catalog size\\nDMASS= 114623.04051867768\\nrandoms= 20990512'"
      ]
     },
     "execution_count": 14,
     "metadata": {},
     "output_type": "execute_result"
    }
   ],
   "source": [
    "lens, randoms = calling_lens_catalog('/fs/scratch/PCON0003/warner785/bwarner/dmass_y1_public_v1.fits')\n",
    "#lens, randoms = calling_lens_catalog('/users/PCON0003/warner785/DMASSY3/output/test/train_cat/y3/dmass_st82_DET200.fits')\n",
    "'''Calling DMASS catalogs and corresponding randoms\n",
    "Resulting catalog size\n",
    "DMASS= 114623.04051867768\n",
    "randoms= 20990512'''"
   ]
  },
  {
   "cell_type": "code",
   "execution_count": 13,
   "id": "96348d41-98bb-4a92-aa11-e40cbc020f0e",
   "metadata": {},
   "outputs": [],
   "source": [
    "# unneeded step\n",
    "\n",
    "def keepGoodRegion(des, hpInd = False, balrog=None):\n",
    "    import healpy as hp\n",
    "    import fitsio\n",
    "    # 25 is the faintest object detected by DES\n",
    "    # objects larger than 25 considered as Noise\n",
    "    \n",
    "    path = '/fs/scratch/PCON0003/warner785/bwarner/'\n",
    "    #LSSGoldmask = fitsio.read(path+'Y1LSSmask_v2_il22_seeil4.0_nside4096ring_redlimcut.fits')\n",
    "    #LSSGoldmask = fitsio.read(path+'Y1LSSmask_v1_il22seeil4.04096ring_redlimcut.fits')\n",
    "    LSSGoldmask = fitsio.read(path+'MASK_Y3LSSBAOSOF_22_3_v2p2.fits')\n",
    "    ringhp = hp.nest2ring(4096, [LSSGoldmask['PIXEL']])\n",
    "    #Y1LSSmask_v1_il22seeil4.04096ring_redlimcut.fits\n",
    "    #frac_cut = LSSGoldmask['FRAC'] > 0.8\n",
    "    #ind_good_ring = LSSGoldmask['PIXEL'][frac_cut]\n",
    "    ind_good_ring = ringhp\n",
    "    \n",
    "    # healpixify the catalog.\n",
    "    nside=4096\n",
    "    # Convert silly ra/dec to silly HP angular coordinates.\n",
    "    phi = des['RA'] * np.pi / 180.0\n",
    "    theta = ( 90.0 - des['DEC'] ) * np.pi/180.0\n",
    "\n",
    "    hpInd = hp.ang2pix(nside,theta,phi,nest=False)\n",
    "    keep = np.in1d(hpInd, ind_good_ring)\n",
    "    des = des[keep]\n",
    "    if hpInd is True:\n",
    "        return ind_good_ring\n",
    "    else:\n",
    "        return des"
   ]
  },
  {
   "cell_type": "code",
   "execution_count": null,
   "id": "d07d493e-59a8-4886-a66a-17af605102ec",
   "metadata": {},
   "outputs": [],
   "source": [
    "# unneeded step\n",
    "\n",
    "def ra_dec_to_xyz(ra, dec):\n",
    "    \"\"\"Convert ra & dec to Euclidean points\n",
    "    Parameters\n",
    "    ----------\n",
    "    ra, dec : ndarrays\n",
    "    Returns\n",
    "    x, y, z : ndarrays\n",
    "    \"\"\"\n",
    "    sin_ra = np.sin(ra * np.pi / 180.)\n",
    "    cos_ra = np.cos(ra * np.pi / 180.)\n",
    "\n",
    "    sin_dec = np.sin(np.pi / 2 - dec * np.pi / 180.)\n",
    "    cos_dec = np.cos(np.pi / 2 - dec * np.pi / 180.)\n",
    "\n",
    "    return (cos_ra * sin_dec,\n",
    "            sin_ra * sin_dec,\n",
    "            cos_dec)\n",
    "\n",
    "def uniform_sphere(RAlim, DEClim, size=1):\n",
    "    \"\"\"Draw a uniform sample on a sphere\n",
    "    Parameters\n",
    "    ----------\n",
    "    RAlim : tuple\n",
    "        select Right Ascension between RAlim[0] and RAlim[1]\n",
    "        units are degrees\n",
    "    DEClim : tuple\n",
    "        select Declination between DEClim[0] and DEClim[1]\n",
    "    size : int (optional)\n",
    "        the size of the random arrays to return (default = 1)\n",
    "    Returns\n",
    "    -------\n",
    "    RA, DEC : ndarray\n",
    "        the random sample on the sphere within the given limits.\n",
    "        arrays have shape equal to size.\n",
    "    \"\"\"\n",
    "    zlim = np.sin(np.pi * np.asarray(DEClim) / 180.)\n",
    "\n",
    "    z = zlim[0] + (zlim[1] - zlim[0]) * np.random.random(size)\n",
    "    DEC = (180. / np.pi) * np.arcsin(z)\n",
    "    RA = RAlim[0] + (RAlim[1] - RAlim[0]) * np.random.random(size)\n",
    "    \n",
    "    return RA, DEC\n",
    "\n",
    "def uniform_random_on_sphere(data, size = None ):\n",
    "    ra = data['RA']\n",
    "    dec = data['DEC']\n",
    "    \n",
    "    n_features = ra.size\n",
    "    #size = 100 * data.size\n",
    "    \n",
    "    # draw a random sample with N points\n",
    "    ra_R, dec_R = uniform_sphere((min(ra), max(ra)),\n",
    "                                 (min(dec), max(dec)),\n",
    "                                 size)\n",
    "    #data = np.asarray(ra_dec_to_xyz(ra, dec), order='F').T\n",
    "    #data_R = np.asarray(ra_dec_to_xyz(ra_R, dec_R), order='F').T\n",
    "    \n",
    "    #random redshift distribution\n",
    "    \n",
    "    data_R = np.zeros((ra_R.size,), dtype=[('RA', 'float'), ('DEC', 'float')])\n",
    "    data_R['RA'] = ra_R\n",
    "    data_R['DEC'] = dec_R\n",
    "                              \n",
    "    return data_R\n",
    "\n",
    "## ---------------------------------------------\n",
    "## generate randoms in a dmass region\n",
    "random_create = uniform_random_on_sphere(lens, size = 50 * lens.size)\n",
    "# applying LSS mask \n",
    "random_create = keepGoodRegion(random_create)\n",
    "\n",
    "#mask = (gold_st82['RA']>310) & (gold_st82['RA']<360)|(gold_st82['RA']<7)\n",
    "#mask = mask & (gold_st82['DEC']>-10) & (gold_st82['DEC']<10)\n",
    "#gold_st82_train = gold_st82[mask]"
   ]
  },
  {
   "cell_type": "code",
   "execution_count": 18,
   "id": "4d6d92f5-ad50-407c-b342-21a3094985eb",
   "metadata": {},
   "outputs": [
    {
     "name": "stdout",
     "output_type": "stream",
     "text": [
      "685616\n",
      "665582\n"
     ]
    }
   ],
   "source": [
    "# apply this mask to DMASS:\n",
    "print(lens.size)\n",
    "#lens = (lens[lens['VETO'] != 0] and lens[lens['CMASS_PROB'] > 0.01])\n",
    "mask1 = (lens['VETO'] != 0)\n",
    "lens = lens[mask1]\n",
    "\n",
    "# check same number density in cmass\n",
    "# compare systematic corrections in small scale to get cmass_prob limit\n",
    "mask2 = (lens['CMASS_PROB'] > 0.01)\n",
    "lens = lens[mask2]\n",
    "print(lens.size)"
   ]
  },
  {
   "cell_type": "code",
   "execution_count": 19,
   "id": "6b453329-f8fe-4ed9-a721-b9f28cfcd41a",
   "metadata": {},
   "outputs": [],
   "source": [
    "plt.rcParams.update({\n",
    "  \"text.usetex\": False,\n",
    "  \"font.family\": \"Helvetica\"\n",
    "})"
   ]
  },
  {
   "cell_type": "code",
   "execution_count": 20,
   "id": "c79c1fbb-5395-4879-bd5c-512139e57c2d",
   "metadata": {},
   "outputs": [
    {
     "data": {
      "text/plain": [
       "[<matplotlib.lines.Line2D at 0x2b49b7e3fe10>]"
      ]
     },
     "execution_count": 20,
     "metadata": {},
     "output_type": "execute_result"
    },
    {
     "name": "stderr",
     "output_type": "stream",
     "text": [
      "findfont: Font family ['Helvetica'] not found. Falling back to DejaVu Sans.\n"
     ]
    },
    {
     "data": {
      "image/png": "[encoded data removed]",
      "text/plain": [
       "<Figure size 432x288 with 1 Axes>"
      ]
     },
     "metadata": {
      "needs_background": "light"
     },
     "output_type": "display_data"
    }
   ],
   "source": [
    "fig, ax = plt.subplots()\n",
    "ax.plot( lens['RA'], lens['DEC'], \"b.\")\n",
    "ax.plot(randoms['RA'], randoms['DEC'], \"g.\")"
   ]
  },
  {
   "cell_type": "code",
   "execution_count": 21,
   "id": "38a09af6-e301-46c9-8022-e84421b7248a",
   "metadata": {},
   "outputs": [
    {
     "data": {
      "text/plain": [
       "[<matplotlib.lines.Line2D at 0x2b4997e569e8>]"
      ]
     },
     "execution_count": 21,
     "metadata": {},
     "output_type": "execute_result"
    },
    {
     "data": {
      "image/png": "[encoded data removed]",
      "text/plain": [
       "<Figure size 432x288 with 1 Axes>"
      ]
     },
     "metadata": {
      "needs_background": "light"
     },
     "output_type": "display_data"
    }
   ],
   "source": [
    "fig, ax = plt.subplots()\n",
    "ax.plot(randoms['RA'], randoms['DEC'], \"g.\")\n",
    "ax.plot( lens['RA'], lens['DEC'], \"b.\")"
   ]
  },
  {
   "cell_type": "code",
   "execution_count": 16,
   "id": "7ec1a037-387b-405b-845d-a9ff58c95a3e",
   "metadata": {},
   "outputs": [],
   "source": [
    "# unneeded step\n",
    "#randoms = appendColumn(randoms, value=np.ones(randoms.size), name='WEIGHT')\n",
    "\n",
    "random_create = appendColumn(random_create, value=np.ones(random_create.size), name='WEIGHT')"
   ]
  },
  {
   "cell_type": "code",
   "execution_count": 15,
   "id": "d9eee7d3-3b30-4ecb-bfdd-a2ae82da5c20",
   "metadata": {},
   "outputs": [],
   "source": [
    "randomsind = np.random.choice( randoms.size, size=int(randoms.size/3.) )\n",
    "#np.savetxt( rootdir+'random_ind.txt', randomsind )\n",
    "#randomsind = np.genfromtxt(rootdir+'random_ind.txt')\n",
    "#randomsind = randomsind.astype(np.int)\n",
    "randoms = randoms[randomsind]"
   ]
  },
  {
   "cell_type": "code",
   "execution_count": 18,
   "id": "b2fc85f4-ef7d-488e-b8c6-47115b72116d",
   "metadata": {},
   "outputs": [],
   "source": [
    "# unneeded\n",
    "\n",
    "randomsind_create = np.random.choice( random_create.size, size=int(random_create.size/3.) )\n",
    "#np.savetxt( rootdir+'random_ind.txt', randomsind )\n",
    "#randomsind = np.genfromtxt(rootdir+'random_ind.txt')\n",
    "#randomsind = randomsind.astype(np.int)\n",
    "random_create = random_create[randomsind_create]"
   ]
  },
  {
   "cell_type": "code",
   "execution_count": 19,
   "id": "b6ce4fc0-8b1f-4ea7-8455-1a60c9a76faf",
   "metadata": {},
   "outputs": [
    {
     "data": {
      "text/plain": [
       "[<matplotlib.lines.Line2D at 0x2b913efd5da0>]"
      ]
     },
     "execution_count": 19,
     "metadata": {},
     "output_type": "execute_result"
    },
    {
     "data": {
      "image/png": "[encoded data removed]",
      "text/plain": [
       "<Figure size 432x288 with 1 Axes>"
      ]
     },
     "metadata": {
      "needs_background": "light"
     },
     "output_type": "display_data"
    }
   ],
   "source": [
    "# unneeded\n",
    "#real randoms over created\n",
    "fig, ax = plt.subplots()\n",
    "ax.plot( random_create['RA'], random_create['DEC'], \"b.\")\n",
    "#ax.plot(randoms['RA'], randoms['DEC'], \"g.\")"
   ]
  },
  {
   "cell_type": "code",
   "execution_count": 20,
   "id": "23af4b95-309f-408d-b2ae-0f0fd0ca58bd",
   "metadata": {},
   "outputs": [],
   "source": [
    "# unneeded\n",
    "# save the randoms. \n",
    "outdir = '../output/test/train_cat/y3/'\n",
    "os.makedirs(outdir, exist_ok=True)\n",
    "esutil.io.write( outdir+'dmass_st82_DET200_randoms_train.fits', random_create, overwrite=True)"
   ]
  },
  {
   "cell_type": "code",
   "execution_count": 17,
   "id": "d959c42b-6110-4673-aeca-25abb7eff239",
   "metadata": {},
   "outputs": [
    {
     "data": {
      "text/plain": [
       "[<matplotlib.lines.Line2D at 0x2b8f418c95f8>]"
      ]
     },
     "execution_count": 17,
     "metadata": {},
     "output_type": "execute_result"
    },
    {
     "data": {
      "image/png": "[encoded data removed]",
      "text/plain": [
       "<Figure size 432x288 with 1 Axes>"
      ]
     },
     "metadata": {
      "needs_background": "light"
     },
     "output_type": "display_data"
    }
   ],
   "source": [
    "# unneeded\n",
    "#created randoms over real\n",
    "fig, ax = plt.subplots()\n",
    "ax.plot( random_spt['RA'], random_spt['DEC'], \"g.\")\n",
    "ax.plot(randoms['RA'], randoms['DEC'], \"b.\")"
   ]
  },
  {
   "cell_type": "code",
   "execution_count": 23,
   "id": "df67860f-b26b-447a-80ea-2be642b0ce00",
   "metadata": {},
   "outputs": [
    {
     "name": "stdout",
     "output_type": "stream",
     "text": [
      "('RA', 'DEC', 'VETO')\n"
     ]
    }
   ],
   "source": [
    "print(randoms.dtype.names)"
   ]
  },
  {
   "cell_type": "code",
   "execution_count": 16,
   "id": "ba32530c-87c4-418c-a5d4-2e32406a8ad4",
   "metadata": {},
   "outputs": [],
   "source": [
    "def treecorr_xi(lens, random=None, filename=None, rootdir=None, \n",
    "\t\tnbins=20, min_sep=2.5, max_sep=250, sep_units='arcmin', bin_slop=0.05, \n",
    "        npatch=10, var_method='jackknife', cen_file = None):\n",
    "    \n",
    "    import treecorr\n",
    "\n",
    "    if cen_file != None:\n",
    "        if os.path.exists(cen_file):\n",
    "            print ('Saved cen_file exists:',cen_file)\n",
    "            cen_file_switch_on = cen_file\n",
    "            npatch=1\n",
    "        else : \n",
    "            print ('Create cen_file=',cen_file)\n",
    "            cen_file_switch_on = None\n",
    "\n",
    "    #temp_dir=filename.split('.txt')[0]\n",
    "    cat_l = treecorr.Catalog(ra=lens['RA'], dec=lens['DEC'], w=lens['WEIGHT'], \n",
    "                             ra_units='deg', dec_units='deg', npatch=npatch, \n",
    "                             patch_centers=cen_file_switch_on )\n",
    "\n",
    "    if cen_file_switch_on == None : \n",
    "        cat_l.write_patch_centers(cen_file)\n",
    "#changed to make weights = 1 for randoms\n",
    "    #weights = np.zeros(len(randoms))\n",
    "    \n",
    "    cat_r = treecorr.Catalog(ra=random['RA'], dec=random['DEC'], w=random['VETO'], \n",
    "                             ra_units='deg', dec_units='deg', \n",
    "                             patch_centers=cen_file_switch_on )\n",
    "    \n",
    "    dd = treecorr.NNCorrelation(nbins=nbins, min_sep=min_sep,\n",
    "                            max_sep=max_sep, sep_units=sep_units, bin_slop=bin_slop, \n",
    "                            var_method=var_method,\n",
    "                            num_threads=30, verbose=1)\n",
    "    dr = treecorr.NNCorrelation(nbins=nbins, min_sep=min_sep,\n",
    "                                max_sep=max_sep, sep_units=sep_units, bin_slop=bin_slop, \n",
    "                                var_method=var_method,\n",
    "                                num_threads=30, verbose=1)\n",
    "    rd = treecorr.NNCorrelation(nbins=nbins, min_sep=min_sep,\n",
    "                                max_sep=max_sep, sep_units=sep_units, bin_slop=bin_slop, \n",
    "                                var_method=var_method,\n",
    "                                num_threads=30, verbose=1)\n",
    "    rr = treecorr.NNCorrelation(nbins=nbins, min_sep=min_sep,\n",
    "                                max_sep=max_sep, sep_units=sep_units, bin_slop=bin_slop, \n",
    "                                var_method=var_method,\n",
    "                                num_threads=30, verbose=1)\n",
    "\n",
    "    dd.process(cat_l)\n",
    "    dr.process(cat_l, cat_r)\n",
    "    rd.process(cat_r, cat_l)\n",
    "    rr.process(cat_r)\n",
    "    xi,varxi = dd.calculateXi(rr,dr)\n",
    "    dd.write(filename,rr,dr,rd)\n",
    "    \n",
    "    cov_jk = dd.estimate_cov(var_method)\n",
    "    cov_filename=filename.split('.txt')[0]+'.cov'\n",
    "    np.savetxt(cov_filename, cov_jk)\n",
    "    \n",
    "    print ('save to', filename)"
   ]
  },
  {
   "cell_type": "code",
   "execution_count": 17,
   "id": "c095c874-503f-4478-a716-a340c94afca3",
   "metadata": {},
   "outputs": [
    {
     "name": "stdout",
     "output_type": "stream",
     "text": [
      "Create cen_file= /users/PCON0003/warner785/DMASS-analysis/measurements/clustering//80/nn_cen_file.txt\n",
      "save to /users/PCON0003/warner785/DMASS-analysis/measurements/clustering//80/nn.lens.txt\n"
     ]
    }
   ],
   "source": [
    "npatch=80\n",
    "tempdir = rootdir+'/{}/'.format(npatch)\n",
    "cen_file = tempdir + 'nn_cen_file.txt'\n",
    "filename = tempdir + 'nn.lens.txt'\n",
    "\n",
    "#os.system('mkdir '+savedir)\n",
    "#print (os.path.exists(tempdir) )\n",
    "os.system('rm -rf '+tempdir)\n",
    "os.system('mkdir '+tempdir)\n",
    "\n",
    "# default of poisson errors -- try this\n",
    "# ***save to different variables to compare different methods of errors\n",
    "\n",
    "treecorr_xi(lens, random=randoms,\n",
    "        filename=filename, rootdir = tempdir, \n",
    "        nbins=20, min_sep=2.5, max_sep=250., sep_units='arcmin', bin_slop=0.05,\n",
    "        npatch=npatch, cen_file=cen_file, var_method='jackknife')\n",
    "\n",
    "# look into Treecorr documentation:\n",
    "# bin_slop = accuracy of separation of pairs of galaxies --- 0.05 = 0.05 of bin width, difference in bin compared to true separation\n",
    "\n",
    "# plot the jackknife regions"
   ]
  },
  {
   "cell_type": "code",
   "execution_count": 18,
   "id": "048c57fc-f6d2-4cba-a4f4-3ecbf60d41ae",
   "metadata": {},
   "outputs": [],
   "source": [
    "cov_new= np.genfromtxt(tempdir+'/nn.lens.cov'.format(npatch))"
   ]
  },
  {
   "cell_type": "code",
   "execution_count": 28,
   "id": "778f7205-91a5-41f3-9a43-97ead6f5d0f9",
   "metadata": {},
   "outputs": [],
   "source": [
    "#print(cov_new)"
   ]
  },
  {
   "cell_type": "code",
   "execution_count": 19,
   "id": "ecbec046-ff43-4dd1-835a-8603df3231b6",
   "metadata": {},
   "outputs": [],
   "source": [
    "_, meanr, _, galaxy_xi, xi_err,_,_,_,_,_ = np.genfromtxt(tempdir+'nn.lens.txt'.format(npatch), unpack=True)"
   ]
  },
  {
   "cell_type": "code",
   "execution_count": 24,
   "id": "6d30f75c-d4b0-4ca4-8e92-ca74246cc4b4",
   "metadata": {},
   "outputs": [
    {
     "name": "stdout",
     "output_type": "stream",
     "text": [
      "[0.016046 0.01583  0.015194 0.015672 0.015351 0.014815 0.014698 0.015159\n",
      " 0.014911 0.014858 0.015026 0.015024 0.01505  0.015101 0.015114 0.0151\n",
      " 0.015028 0.015659 0.017877 0.021524]\n",
      "[0.20389    0.16576    0.14751    0.1277     0.1063     0.087769\n",
      " 0.075951   0.063143   0.052986   0.042958   0.034142   0.02801\n",
      " 0.0206     0.015911   0.012786   0.0092089  0.0062471  0.0039931\n",
      " 0.0018873  0.00045854]\n",
      "[0.35293287 0.2802455  0.22270723 0.17681277 0.14045536 0.11153619\n",
      " 0.0886132  0.07038784 0.05590652 0.04441286 0.03527337 0.02802141\n",
      " 0.02225883 0.0176794  0.01404475 0.01115611 0.00886132 0.00703928\n",
      " 0.0055919  0.        ]\n"
     ]
    }
   ],
   "source": [
    "print(xi_err)\n",
    "print(galaxy_xi)\n",
    "test_err = np.zeros(len(galaxy_xi)) \n",
    "#for x in range(len(galaxy_xi)-1):\n",
    "#    test_err[x] = 1/meanr[x]\n",
    "#print(test_err) "
   ]
  },
  {
   "cell_type": "code",
   "execution_count": 31,
   "id": "98da5e79-6655-433f-9f28-c6edac609f09",
   "metadata": {},
   "outputs": [
    {
     "name": "stdout",
     "output_type": "stream",
     "text": [
      "[[2.80504614e+00 2.04160000e-01]\n",
      " [3.53134386e+00 1.71170000e-01]\n",
      " [4.44569853e+00 1.47430000e-01]\n",
      " [5.59680285e+00 1.25550000e-01]\n",
      " [7.04595733e+00 1.05600000e-01]\n",
      " [8.87033473e+00 8.70390000e-02]\n",
      " [1.11670898e+01 7.65390000e-02]\n",
      " [1.40585331e+01 6.24190000e-02]\n",
      " [1.76986446e+01 5.21800000e-02]\n",
      " [2.22812735e+01 4.21460000e-02]\n",
      " [2.80504614e+01 3.38060000e-02]\n",
      " [3.53134386e+01 2.75830000e-02]\n",
      " [4.44569853e+01 2.07170000e-02]\n",
      " [5.59680285e+01 1.57440000e-02]\n",
      " [7.04595733e+01 1.27630000e-02]\n",
      " [8.87033473e+01 9.31180000e-03]\n",
      " [1.11670898e+02 6.26490000e-03]\n",
      " [1.40585331e+02 3.96460000e-03]\n",
      " [1.76986446e+02 2.31330000e-03]\n",
      " [2.22812735e+02 6.60470000e-04]]\n",
      "\n"
     ]
    }
   ],
   "source": [
    "# read in Su's data:\n",
    "\n",
    "wtheta_su = np.loadtxt('/fs/scratch/PCON0008/warner785/bwarner/dmass_analysis-1.0/measurement/results/2pt/wtheta.txt')\n",
    "print(wtheta_su)\n",
    "print()\n",
    "#wtheta_y1 = np.loadtxt(tempdir+'nn.lens.txt')\n",
    "#print(wtheta_y1)\n",
    "\n",
    "#_, meanr, _, galaxy_xi, xi_err,_,_,_,_,_ = np.genfromtxt(tempdir+'nn.lens.txt'.format(npatch), unpack=True)\n",
    "meanr_su, galaxy_xi_su = np.genfromtxt('/fs/scratch/PCON0008/warner785/bwarner/dmass_analysis-1.0/measurement/results/2pt/wtheta.txt'.format(npatch), unpack=True)"
   ]
  },
  {
   "cell_type": "code",
   "execution_count": 32,
   "id": "1429807c-d8d0-431b-bbde-98e235fe6c62",
   "metadata": {},
   "outputs": [],
   "source": [
    "# save as a 2pt file\n",
    "import fitsio\n",
    "FITS_DMASS = fitsio.FITS('/users/PCON0003/warner785/DMASS-analysis/simulated_data/simulated_y1_dmass_3x2pt_neff_baseline_cov.fits')\n",
    "cov = FITS_DMASS['COVMAT'].read()[480:, 480:]\n",
    "theta= FITS_DMASS['galaxy_xi']['ANG'].read()\n",
    "galaxy_xi_theory= FITS_DMASS['galaxy_xi']['VALUE'].read()"
   ]
  },
  {
   "cell_type": "code",
   "execution_count": 6,
   "id": "0b0e931a-de55-4e0a-9e0c-f468b631f8aa",
   "metadata": {},
   "outputs": [
    {
     "name": "stdout",
     "output_type": "stream",
     "text": [
      "[0.20615624 0.16827023 0.13921777 0.11661693 0.09867715 0.08389656\n",
      " 0.07121967 0.05997378 0.04978825 0.04051678 0.03215079 0.02474214\n",
      " 0.01835607 0.01304067 0.00879036 0.00555369 0.0032274  0.00167394\n",
      " 0.00075586 0.00038512]\n"
     ]
    }
   ],
   "source": [
    "print(galaxy_xi_theory)"
   ]
  },
  {
   "cell_type": "code",
   "execution_count": 26,
   "id": "6877b8af-2956-49a7-949f-850d2f12eee6",
   "metadata": {},
   "outputs": [
    {
     "data": {
      "image/png": "[encoded data removed]",
      "text/plain": [
       "<Figure size 432x288 with 1 Axes>"
      ]
     },
     "metadata": {
      "needs_background": "light"
     },
     "output_type": "display_data"
    }
   ],
   "source": [
    "fig, ax = plt.subplots()\n",
    "\n",
    "#ax.loglog(theta, galaxy_xi_theory)\n",
    "#ax.errorbar( theta, galaxy_xi_theory, np.sqrt(cov.diagonal()))\n",
    "ax.errorbar( meanr_su, galaxy_xi_su )\n",
    "ax.errorbar( meanr, galaxy_xi, xi_err)\n",
    "ax.set_xscale('log')\n",
    "ax.set_yscale('log')\n",
    "\n",
    "#write own jackknife errors -- for understanding and checking treecore's calculation\n",
    "# what are the subsamples for the jackknife?\n",
    "# size of ther jackknife patches versus the scales\n",
    "# ex: bin size  == 20arcmin , not wanting jk = 100 patches in 20 arcmin, or too big--- 20 patches \n",
    "# use 20, 100 etc for jk size to check the errors for each choice\n",
    "\n",
    "# check papers on jackknife -- general range of reasonable choices for jk"
   ]
  },
  {
   "cell_type": "code",
   "execution_count": 35,
   "id": "81cf8de6-b0c1-4056-bdc7-15249745f788",
   "metadata": {},
   "outputs": [
    {
     "data": {
      "text/plain": [
       "<matplotlib.lines.Line2D at 0x2b49d270d588>"
      ]
     },
     "execution_count": 35,
     "metadata": {},
     "output_type": "execute_result"
    },
    {
     "data": {
      "image/png": "[encoded data removed]",
      "text/plain": [
       "<Figure size 432x288 with 1 Axes>"
      ]
     },
     "metadata": {
      "needs_background": "light"
     },
     "output_type": "display_data"
    }
   ],
   "source": [
    "# plot fractional difference (orange/blue)\n",
    "\n",
    "fig, ax = plt.subplots()\n",
    "#ax.errorbar( meanr, galaxy_xi/galaxy_xi_theory - 1, np.sqrt(cov.diagonal())/galaxy_xi_theory)\n",
    "\n",
    "# ** prop. of errorbars: (derivative)\n",
    "ax.errorbar( meanr, (galaxy_xi-galaxy_xi_su)/xi_err)\n",
    "#ax.set_ylim(-1,1)\n",
    "ax.axhline(y=0)\n",
    "\n",
    "#prop. of errors \n",
    "# ask questions about paper\n",
    "\n",
    "# Tuesday updates *** \n",
    "\n",
    "# DES data release page: \n",
    "#compare su's data to dmass data rather than theory"
   ]
  },
  {
   "cell_type": "code",
   "execution_count": null,
   "id": "9498c670-a9ad-4ee9-8b5a-843fa963fdc5",
   "metadata": {},
   "outputs": [],
   "source": []
  },
  {
   "cell_type": "code",
   "execution_count": 36,
   "id": "0478ab39-be33-4d87-8560-302e7c6aecac",
   "metadata": {},
   "outputs": [
    {
     "data": {
      "text/plain": [
       "[<matplotlib.lines.Line2D at 0x2b49d27e91d0>]"
      ]
     },
     "execution_count": 36,
     "metadata": {},
     "output_type": "execute_result"
    },
    {
     "data": {
      "image/png": "[encoded data removed]",
      "text/plain": [
       "<Figure size 432x288 with 1 Axes>"
      ]
     },
     "metadata": {
      "needs_background": "light"
     },
     "output_type": "display_data"
    }
   ],
   "source": [
    "fig, ax = plt.subplots()\n",
    "\n",
    "ax.loglog(theta, np.sqrt( cov.diagonal() ) )\n",
    "ax.loglog( meanr, np.sqrt(cov_new.diagonal()))"
   ]
  },
  {
   "cell_type": "code",
   "execution_count": null,
   "id": "18eda7ad-4200-49d3-a468-992aba6823b3",
   "metadata": {},
   "outputs": [],
   "source": [
    "prob_cat_ilist = []\n",
    "dmlist = []\n",
    "\n",
    "from xd import resampleWithPth\n",
    "fig, ax = plt.subplots()\n",
    "for i in range(10):\n",
    "    prob_cat_i = io.SearchAndCallFits(path = '/n/des/lee.5922/Dropbox/repositories/CMASS/code/output/n2_2//',\\\n",
    "                                    keyword='gold_spt_prob_jk{:03}'.format(i+1))\n",
    "    dm, _ = resampleWithPth( prob_cat_i, pstart = 0.01, pmax = 1.0 )\n",
    "    prob_cat_ilist.append(prob_cat_i)\n",
    "    dmlist.append(dm)\n",
    "    \n",
    "    ra = dm['RA']\n",
    "    ra[ra > 180] = ra[ra > 180] - 360\n",
    "    \n",
    "    ax.plot(ra, dm['DEC'], '.', label = 'jk{}'.format(i+1))\n",
    "ax.legend()\n",
    "#fig.savefig('../output/n2_2/pics/jkregion.png')"
   ]
  }
 ],
 "metadata": {
  "kernelspec": {
   "display_name": "Python (DES_env)",
   "language": "python",
   "name": "des_env"
  },
  "language_info": {
   "codemirror_mode": {
    "name": "ipython",
    "version": 3
   },
   "file_extension": ".py",
   "mimetype": "text/x-python",
   "name": "python",
   "nbconvert_exporter": "python",
   "pygments_lexer": "ipython3",
   "version": "3.7.0"
  }
 },
 "nbformat": 4,
 "nbformat_minor": 5
}
