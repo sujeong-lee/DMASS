{
 "cells": [
  {
   "cell_type": "code",
   "execution_count": 1,
   "id": "58178eaa-b504-453c-8373-607325546e53",
   "metadata": {},
   "outputs": [],
   "source": [
    "import os, sys\n",
    "import healpy as hp\n",
    "import numpy as np"
   ]
  },
  {
   "cell_type": "code",
   "execution_count": 2,
   "id": "f2c48349-2d1f-43ec-aaa1-44f21deca611",
   "metadata": {},
   "outputs": [],
   "source": [
    "sys.path.append('../../')\n",
    "sys.path.append('/DMASS-analysis/measurements/code_py3/')"
   ]
  },
  {
   "cell_type": "code",
   "execution_count": 3,
   "id": "0fdf6131-7d51-43fe-8693-867660be80f7",
   "metadata": {},
   "outputs": [
    {
     "name": "stderr",
     "output_type": "stream",
     "text": [
      "In /users/PCON0003/warner785/.conda/envs/DES_env/lib/python3.7/site-packages/matplotlib/mpl-data/stylelib/_classic_test.mplstyle: \n",
      "The savefig.frameon rcparam was deprecated in Matplotlib 3.1 and will be removed in 3.3.\n",
      "In /users/PCON0003/warner785/.conda/envs/DES_env/lib/python3.7/site-packages/matplotlib/mpl-data/stylelib/_classic_test.mplstyle: \n",
      "The verbose.level rcparam was deprecated in Matplotlib 3.1 and will be removed in 3.3.\n",
      "In /users/PCON0003/warner785/.conda/envs/DES_env/lib/python3.7/site-packages/matplotlib/mpl-data/stylelib/_classic_test.mplstyle: \n",
      "The verbose.fileo rcparam was deprecated in Matplotlib 3.1 and will be removed in 3.3.\n"
     ]
    }
   ],
   "source": [
    "import esutil\n",
    "import matplotlib.pyplot as plt\n",
    "%matplotlib inline\n",
    "\n",
    "%load_ext autoreload\n",
    "%autoreload 2\n",
    "\n",
    "from utils import *"
   ]
  },
  {
   "cell_type": "code",
   "execution_count": 4,
   "id": "03b17b6e-8637-47a8-9835-8d926d0d274b",
   "metadata": {},
   "outputs": [],
   "source": [
    "from matplotlib import rc\n",
    "rc('font',**{'family':'sans-serif','sans-serif':['Helvetica']})\n",
    "## for Palatino and other serif fonts use:\n",
    "#rc('font',**{'family':'serif','serif':['Palatino']})\n",
    "rc('text', usetex=True)"
   ]
  },
  {
   "cell_type": "code",
   "execution_count": 5,
   "id": "62f55333-60be-400f-870f-fac4cce36a1f",
   "metadata": {},
   "outputs": [
    {
     "name": "stdout",
     "output_type": "stream",
     "text": [
      "/users/PCON0003/warner785/DMASS-analysis/measurements/code_py3\n"
     ]
    }
   ],
   "source": [
    "os.chdir('../../DMASS-analysis/measurements/code_py3/')\n",
    "print(os.getcwd())"
   ]
  },
  {
   "cell_type": "code",
   "execution_count": 6,
   "id": "7e938132-59b1-476e-9fd6-85809c199bb6",
   "metadata": {},
   "outputs": [],
   "source": [
    "from calling_catalogs import *"
   ]
  },
  {
   "cell_type": "code",
   "execution_count": 7,
   "id": "58a9bb8f-bed9-4dbd-8674-deacb8f3b4f0",
   "metadata": {},
   "outputs": [],
   "source": [
    "rootdir = '/users/PCON0003/warner785/DMASS-analysis/measurements/clustering/'"
   ]
  },
  {
   "cell_type": "code",
   "execution_count": 8,
   "id": "b699a273-8ab0-4ff2-8bc7-0e3760d8c0a2",
   "metadata": {},
   "outputs": [],
   "source": [
    "from ggl_mcal import run_ng_jk, run_nn_jk, run_nk_jk, compute_eix_jk, compute_Rgamma_jk, construct_jk, compute_jkcov, save_results"
   ]
  },
  {
   "cell_type": "code",
   "execution_count": 22,
   "id": "116a8e6e-0dc6-46b9-99c0-7a329d659d90",
   "metadata": {},
   "outputs": [],
   "source": [
    "def calling_lens_catalog(catname=None):\n",
    "\n",
    "    catdir = ''.join([ c+'/' for c in catname.split('/')[:-1]])\n",
    "    os.system('mkdir '+catdir)\n",
    "    dmass = esutil.io.read(catname)\n",
    "    w_dmass = dmass['CMASS_PROB']\n",
    "    print ('Calculating DMASS systematic weights...')\n",
    "    dmass = appendColumn(dmass, name='WEIGHT', value= w_dmass )\n",
    "#   dmass = dmass[ dmass['CMASS_PROB'] > 0.01 ]   # for low probability galaxies\n",
    "    esutil.io.write(catname, dmass)\n",
    "    #randoms = esutil.io.read('/n/des/lee.5922/data/dmass_cat/random_x50_dmass_spt_masked.fits')\n",
    "    \n",
    "    randoms = esutil.io.read('/fs/scratch/PCON0003/warner785/bwarner/random_dmass_y1_public_v1.fits')\n",
    "#    randoms = esutil.io.read('/users/PCON0003/warner785/DMASSY3/output/test/train_cat/y3/dmass_st82_DET200_randoms.fits')\n",
    "    \n",
    "#    catdir = ''.join([ c+'/' for c in catname.split('/')[:-1]])\n",
    "#    os.system('mkdir '+catdir)\n",
    "#    dmass = esutil.io.read('/n/des/lee.5922/data/dmass_cat/dmass_spt_sys_v3.fits')\n",
    "    w_dmass = dmass['CMASS_PROB'] *dmass['WEIGHT_SYS']\n",
    "    print ('Calculatig DMASS systematic weights...')\n",
    "    dmass = appendColumn(dmass, name='WEIGHT', value= w_dmass )\n",
    "    dmass = dmass[ dmass['CMASS_PROB'] > 0.01 ]\n",
    "    esutil.io.write(catname, dmass)\n",
    "    #randoms = esutil.io.read('/n/des/lee.5922/data/dmass_cat/random_x50_dmass_spt_masked.fits')\n",
    "\n",
    "#    randoms = esutil.io.read('/n/des/lee.5922/data/dmass_cat/random_x50_dmass_spt_masked.fits')\n",
    "\n",
    "    print ('Resulting catalog size')\n",
    "    print ('DMASS=', np.sum(dmass['WEIGHT']) )\n",
    "    print ('randoms=', randoms.size)\n",
    "    return dmass, randoms"
   ]
  },
  {
   "cell_type": "code",
   "execution_count": 21,
   "id": "2ff3ba1d-ae40-4d98-b86b-b6481177c621",
   "metadata": {},
   "outputs": [
    {
     "name": "stdout",
     "output_type": "stream",
     "text": [
      "('COADD_OBJECTS_ID', 'RA', 'DEC', 'VETO', 'CMASS_PROB', 'WEIGHT_SYS')\n"
     ]
    }
   ],
   "source": [
    "y1_dmass = esutil.io.read('/fs/scratch/PCON0003/warner785/bwarner/dmass_y1_public_v1.fits')\n",
    "print(y1_dmass.dtype.names)"
   ]
  },
  {
   "cell_type": "code",
   "execution_count": 23,
   "id": "0c1de7e9-af4f-4a42-b5c7-9a4c500bf29b",
   "metadata": {},
   "outputs": [
    {
     "name": "stdout",
     "output_type": "stream",
     "text": [
      "Calculating DMASS systematic weights...\n",
      "Calculatig DMASS systematic weights...\n",
      "Resulting catalog size\n",
      "DMASS= 114623.04051867768\n",
      "randoms= 5864645\n"
     ]
    },
    {
     "data": {
      "text/plain": [
       "'Calling DMASS catalogs and corresponding randoms\\nResulting catalog size\\nDMASS= 114623.04051867768\\nrandoms= 20990512'"
      ]
     },
     "execution_count": 23,
     "metadata": {},
     "output_type": "execute_result"
    }
   ],
   "source": [
    "lens, randoms = calling_lens_catalog('/fs/scratch/PCON0003/warner785/bwarner/dmass_y1_public_v1.fits')\n",
    "#lens, randoms = calling_lens_catalog('/users/PCON0003/warner785/DMASSY3/output/test/train_cat/y3/dmass_st82_DET200.fits')\n",
    "'''Calling DMASS catalogs and corresponding randoms\n",
    "Resulting catalog size\n",
    "DMASS= 114623.04051867768\n",
    "randoms= 20990512'''"
   ]
  },
  {
   "cell_type": "code",
   "execution_count": 13,
   "id": "96348d41-98bb-4a92-aa11-e40cbc020f0e",
   "metadata": {},
   "outputs": [],
   "source": [
    "# unneeded step\n",
    "\n",
    "def keepGoodRegion(des, hpInd = False, balrog=None):\n",
    "    import healpy as hp\n",
    "    import fitsio\n",
    "    # 25 is the faintest object detected by DES\n",
    "    # objects larger than 25 considered as Noise\n",
    "    \n",
    "    path = '/fs/scratch/PCON0003/warner785/bwarner/'\n",
    "    #LSSGoldmask = fitsio.read(path+'Y1LSSmask_v2_il22_seeil4.0_nside4096ring_redlimcut.fits')\n",
    "    #LSSGoldmask = fitsio.read(path+'Y1LSSmask_v1_il22seeil4.04096ring_redlimcut.fits')\n",
    "    LSSGoldmask = fitsio.read(path+'MASK_Y3LSSBAOSOF_22_3_v2p2.fits')\n",
    "    ringhp = hp.nest2ring(4096, [LSSGoldmask['PIXEL']])\n",
    "    #Y1LSSmask_v1_il22seeil4.04096ring_redlimcut.fits\n",
    "    #frac_cut = LSSGoldmask['FRAC'] > 0.8\n",
    "    #ind_good_ring = LSSGoldmask['PIXEL'][frac_cut]\n",
    "    ind_good_ring = ringhp\n",
    "    \n",
    "    # healpixify the catalog.\n",
    "    nside=4096\n",
    "    # Convert silly ra/dec to silly HP angular coordinates.\n",
    "    phi = des['RA'] * np.pi / 180.0\n",
    "    theta = ( 90.0 - des['DEC'] ) * np.pi/180.0\n",
    "\n",
    "    hpInd = hp.ang2pix(nside,theta,phi,nest=False)\n",
    "    keep = np.in1d(hpInd, ind_good_ring)\n",
    "    des = des[keep]\n",
    "    if hpInd is True:\n",
    "        return ind_good_ring\n",
    "    else:\n",
    "        return des"
   ]
  },
  {
   "cell_type": "code",
   "execution_count": null,
   "id": "d07d493e-59a8-4886-a66a-17af605102ec",
   "metadata": {},
   "outputs": [],
   "source": [
    "# unneeded step\n",
    "\n",
    "def ra_dec_to_xyz(ra, dec):\n",
    "    \"\"\"Convert ra & dec to Euclidean points\n",
    "    Parameters\n",
    "    ----------\n",
    "    ra, dec : ndarrays\n",
    "    Returns\n",
    "    x, y, z : ndarrays\n",
    "    \"\"\"\n",
    "    sin_ra = np.sin(ra * np.pi / 180.)\n",
    "    cos_ra = np.cos(ra * np.pi / 180.)\n",
    "\n",
    "    sin_dec = np.sin(np.pi / 2 - dec * np.pi / 180.)\n",
    "    cos_dec = np.cos(np.pi / 2 - dec * np.pi / 180.)\n",
    "\n",
    "    return (cos_ra * sin_dec,\n",
    "            sin_ra * sin_dec,\n",
    "            cos_dec)\n",
    "\n",
    "def uniform_sphere(RAlim, DEClim, size=1):\n",
    "    \"\"\"Draw a uniform sample on a sphere\n",
    "    Parameters\n",
    "    ----------\n",
    "    RAlim : tuple\n",
    "        select Right Ascension between RAlim[0] and RAlim[1]\n",
    "        units are degrees\n",
    "    DEClim : tuple\n",
    "        select Declination between DEClim[0] and DEClim[1]\n",
    "    size : int (optional)\n",
    "        the size of the random arrays to return (default = 1)\n",
    "    Returns\n",
    "    -------\n",
    "    RA, DEC : ndarray\n",
    "        the random sample on the sphere within the given limits.\n",
    "        arrays have shape equal to size.\n",
    "    \"\"\"\n",
    "    zlim = np.sin(np.pi * np.asarray(DEClim) / 180.)\n",
    "\n",
    "    z = zlim[0] + (zlim[1] - zlim[0]) * np.random.random(size)\n",
    "    DEC = (180. / np.pi) * np.arcsin(z)\n",
    "    RA = RAlim[0] + (RAlim[1] - RAlim[0]) * np.random.random(size)\n",
    "    \n",
    "    return RA, DEC\n",
    "\n",
    "def uniform_random_on_sphere(data, size = None ):\n",
    "    ra = data['RA']\n",
    "    dec = data['DEC']\n",
    "    \n",
    "    n_features = ra.size\n",
    "    #size = 100 * data.size\n",
    "    \n",
    "    # draw a random sample with N points\n",
    "    ra_R, dec_R = uniform_sphere((min(ra), max(ra)),\n",
    "                                 (min(dec), max(dec)),\n",
    "                                 size)\n",
    "    #data = np.asarray(ra_dec_to_xyz(ra, dec), order='F').T\n",
    "    #data_R = np.asarray(ra_dec_to_xyz(ra_R, dec_R), order='F').T\n",
    "    \n",
    "    #random redshift distribution\n",
    "    \n",
    "    data_R = np.zeros((ra_R.size,), dtype=[('RA', 'float'), ('DEC', 'float')])\n",
    "    data_R['RA'] = ra_R\n",
    "    data_R['DEC'] = dec_R\n",
    "                              \n",
    "    return data_R\n",
    "\n",
    "## ---------------------------------------------\n",
    "## generate randoms in a dmass region\n",
    "random_create = uniform_random_on_sphere(lens, size = 50 * lens.size)\n",
    "# applying LSS mask \n",
    "random_create = keepGoodRegion(random_create)\n",
    "\n",
    "#mask = (gold_st82['RA']>310) & (gold_st82['RA']<360)|(gold_st82['RA']<7)\n",
    "#mask = mask & (gold_st82['DEC']>-10) & (gold_st82['DEC']<10)\n",
    "#gold_st82_train = gold_st82[mask]"
   ]
  },
  {
   "cell_type": "code",
   "execution_count": 24,
   "id": "6b453329-f8fe-4ed9-a721-b9f28cfcd41a",
   "metadata": {},
   "outputs": [],
   "source": [
    "plt.rcParams.update({\n",
    "  \"text.usetex\": False,\n",
    "  \"font.family\": \"Helvetica\"\n",
    "})"
   ]
  },
  {
   "cell_type": "code",
   "execution_count": 25,
   "id": "c79c1fbb-5395-4879-bd5c-512139e57c2d",
   "metadata": {},
   "outputs": [
    {
     "data": {
      "text/plain": [
       "[<matplotlib.lines.Line2D at 0x2af987078080>]"
      ]
     },
     "execution_count": 25,
     "metadata": {},
     "output_type": "execute_result"
    },
    {
     "data": {
      "image/png": "[encoded data removed]",
      "text/plain": [
       "<Figure size 432x288 with 1 Axes>"
      ]
     },
     "metadata": {
      "needs_background": "light"
     },
     "output_type": "display_data"
    }
   ],
   "source": [
    "fig, ax = plt.subplots()\n",
    "ax.plot( lens['RA'], lens['DEC'], \"b.\")\n",
    "ax.plot(randoms['RA'], randoms['DEC'], \"g.\")"
   ]
  },
  {
   "cell_type": "code",
   "execution_count": 26,
   "id": "38a09af6-e301-46c9-8022-e84421b7248a",
   "metadata": {},
   "outputs": [
    {
     "data": {
      "text/plain": [
       "[<matplotlib.lines.Line2D at 0x2af9870d4978>]"
      ]
     },
     "execution_count": 26,
     "metadata": {},
     "output_type": "execute_result"
    },
    {
     "data": {
      "image/png": "[encoded data removed]",
      "text/plain": [
       "<Figure size 432x288 with 1 Axes>"
      ]
     },
     "metadata": {
      "needs_background": "light"
     },
     "output_type": "display_data"
    }
   ],
   "source": [
    "fig, ax = plt.subplots()\n",
    "ax.plot(randoms['RA'], randoms['DEC'], \"g.\")\n",
    "ax.plot( lens['RA'], lens['DEC'], \"b.\")"
   ]
  },
  {
   "cell_type": "code",
   "execution_count": 16,
   "id": "7ec1a037-387b-405b-845d-a9ff58c95a3e",
   "metadata": {},
   "outputs": [],
   "source": [
    "#randoms = appendColumn(randoms, value=np.ones(randoms.size), name='WEIGHT')\n",
    "\n",
    "random_create = appendColumn(random_create, value=np.ones(random_create.size), name='WEIGHT')"
   ]
  },
  {
   "cell_type": "code",
   "execution_count": 17,
   "id": "d9eee7d3-3b30-4ecb-bfdd-a2ae82da5c20",
   "metadata": {},
   "outputs": [],
   "source": [
    "randomsind = np.random.choice( randoms.size, size=int(randoms.size/3.) )\n",
    "#np.savetxt( rootdir+'random_ind.txt', randomsind )\n",
    "#randomsind = np.genfromtxt(rootdir+'random_ind.txt')\n",
    "#randomsind = randomsind.astype(np.int)\n",
    "randoms = randoms[randomsind]"
   ]
  },
  {
   "cell_type": "code",
   "execution_count": 18,
   "id": "b2fc85f4-ef7d-488e-b8c6-47115b72116d",
   "metadata": {},
   "outputs": [],
   "source": [
    "randomsind_create = np.random.choice( random_create.size, size=int(random_create.size/3.) )\n",
    "#np.savetxt( rootdir+'random_ind.txt', randomsind )\n",
    "#randomsind = np.genfromtxt(rootdir+'random_ind.txt')\n",
    "#randomsind = randomsind.astype(np.int)\n",
    "random_create = random_create[randomsind_create]"
   ]
  },
  {
   "cell_type": "code",
   "execution_count": 19,
   "id": "b6ce4fc0-8b1f-4ea7-8455-1a60c9a76faf",
   "metadata": {},
   "outputs": [
    {
     "data": {
      "text/plain": [
       "[<matplotlib.lines.Line2D at 0x2b913efd5da0>]"
      ]
     },
     "execution_count": 19,
     "metadata": {},
     "output_type": "execute_result"
    },
    {
     "data": {
      "image/png": "[encoded data removed]",
      "text/plain": [
       "<Figure size 432x288 with 1 Axes>"
      ]
     },
     "metadata": {
      "needs_background": "light"
     },
     "output_type": "display_data"
    }
   ],
   "source": [
    "#real randoms over created\n",
    "fig, ax = plt.subplots()\n",
    "ax.plot( random_create['RA'], random_create['DEC'], \"b.\")\n",
    "#ax.plot(randoms['RA'], randoms['DEC'], \"g.\")"
   ]
  },
  {
   "cell_type": "code",
   "execution_count": 20,
   "id": "23af4b95-309f-408d-b2ae-0f0fd0ca58bd",
   "metadata": {},
   "outputs": [],
   "source": [
    "# save the randoms. \n",
    "outdir = '../output/test/train_cat/y3/'\n",
    "os.makedirs(outdir, exist_ok=True)\n",
    "esutil.io.write( outdir+'dmass_st82_DET200_randoms_train.fits', random_create, overwrite=True)"
   ]
  },
  {
   "cell_type": "code",
   "execution_count": 17,
   "id": "d959c42b-6110-4673-aeca-25abb7eff239",
   "metadata": {},
   "outputs": [
    {
     "data": {
      "text/plain": [
       "[<matplotlib.lines.Line2D at 0x2b8f418c95f8>]"
      ]
     },
     "execution_count": 17,
     "metadata": {},
     "output_type": "execute_result"
    },
    {
     "data": {
      "image/png": "[encoded data removed]",
      "text/plain": [
       "<Figure size 432x288 with 1 Axes>"
      ]
     },
     "metadata": {
      "needs_background": "light"
     },
     "output_type": "display_data"
    }
   ],
   "source": [
    "#created randoms over real\n",
    "fig, ax = plt.subplots()\n",
    "ax.plot( random_spt['RA'], random_spt['DEC'], \"g.\")\n",
    "ax.plot(randoms['RA'], randoms['DEC'], \"b.\")"
   ]
  },
  {
   "cell_type": "code",
   "execution_count": 39,
   "id": "df67860f-b26b-447a-80ea-2be642b0ce00",
   "metadata": {},
   "outputs": [
    {
     "name": "stdout",
     "output_type": "stream",
     "text": [
      "('RA', 'DEC', 'VETO')\n"
     ]
    }
   ],
   "source": [
    "print(randoms.dtype.names)"
   ]
  },
  {
   "cell_type": "code",
   "execution_count": 40,
   "id": "ba32530c-87c4-418c-a5d4-2e32406a8ad4",
   "metadata": {},
   "outputs": [],
   "source": [
    "def treecorr_xi(lens, random=None, filename=None, rootdir=None, \n",
    "\t\tnbins=20, min_sep=2.5, max_sep=250, sep_units='arcmin', bin_slop=0.05, \n",
    "        npatch=10, var_method='jackknife', cen_file = None):\n",
    "    \n",
    "    import treecorr\n",
    "\n",
    "    if cen_file != None:\n",
    "        if os.path.exists(cen_file):\n",
    "            print ('Saved cen_file exists:',cen_file)\n",
    "            cen_file_switch_on = cen_file\n",
    "            npatch=1\n",
    "        else : \n",
    "            print ('Create cen_file=',cen_file)\n",
    "            cen_file_switch_on = None\n",
    "\n",
    "    #temp_dir=filename.split('.txt')[0]\n",
    "    cat_l = treecorr.Catalog(ra=lens['RA'], dec=lens['DEC'], w=lens['WEIGHT'], \n",
    "                             ra_units='deg', dec_units='deg', npatch=npatch, \n",
    "                             patch_centers=cen_file_switch_on )\n",
    "\n",
    "    if cen_file_switch_on == None : \n",
    "        cat_l.write_patch_centers(cen_file)\n",
    "#changed to make weights = 1 for randoms\n",
    "    #weights = np.zeros(len(randoms))\n",
    "    \n",
    "    cat_r = treecorr.Catalog(ra=random['RA'], dec=random['DEC'], w=random['VETO'], \n",
    "                             ra_units='deg', dec_units='deg', \n",
    "                             patch_centers=cen_file_switch_on )\n",
    "    \n",
    "    dd = treecorr.NNCorrelation(nbins=nbins, min_sep=min_sep,\n",
    "                            max_sep=max_sep, sep_units=sep_units, bin_slop=bin_slop, \n",
    "                            var_method=var_method,\n",
    "                            num_threads=30, verbose=1)\n",
    "    dr = treecorr.NNCorrelation(nbins=nbins, min_sep=min_sep,\n",
    "                                max_sep=max_sep, sep_units=sep_units, bin_slop=bin_slop, \n",
    "                                var_method=var_method,\n",
    "                                num_threads=30, verbose=1)\n",
    "    rd = treecorr.NNCorrelation(nbins=nbins, min_sep=min_sep,\n",
    "                                max_sep=max_sep, sep_units=sep_units, bin_slop=bin_slop, \n",
    "                                var_method=var_method,\n",
    "                                num_threads=30, verbose=1)\n",
    "    rr = treecorr.NNCorrelation(nbins=nbins, min_sep=min_sep,\n",
    "                                max_sep=max_sep, sep_units=sep_units, bin_slop=bin_slop, \n",
    "                                var_method=var_method,\n",
    "                                num_threads=30, verbose=1)\n",
    "\n",
    "    dd.process(cat_l)\n",
    "    dr.process(cat_l, cat_r)\n",
    "    rd.process(cat_r, cat_l)\n",
    "    rr.process(cat_r)\n",
    "    xi,varxi = dd.calculateXi(rr,dr)\n",
    "    dd.write(filename,rr,dr,rd)\n",
    "    \n",
    "    cov_jk = dd.estimate_cov(var_method)\n",
    "    cov_filename=filename.split('.txt')[0]+'.cov'\n",
    "    np.savetxt(cov_filename, cov_jk)\n",
    "    \n",
    "    print ('save to', filename)"
   ]
  },
  {
   "cell_type": "code",
   "execution_count": 41,
   "id": "c095c874-503f-4478-a716-a340c94afca3",
   "metadata": {},
   "outputs": [
    {
     "name": "stdout",
     "output_type": "stream",
     "text": [
      "Create cen_file= /users/PCON0003/warner785/DMASS-analysis/measurements/clustering//80/nn_cen_file.txt\n",
      "save to /users/PCON0003/warner785/DMASS-analysis/measurements/clustering//80/nn.lens.txt\n"
     ]
    }
   ],
   "source": [
    "npatch=80\n",
    "tempdir = rootdir+'/{}/'.format(npatch)\n",
    "cen_file = tempdir + 'nn_cen_file.txt'\n",
    "filename = tempdir + 'nn.lens.txt'\n",
    "\n",
    "#os.system('mkdir '+savedir)\n",
    "#print (os.path.exists(tempdir) )\n",
    "os.system('rm -rf '+tempdir)\n",
    "os.system('mkdir '+tempdir)\n",
    "\n",
    "treecorr_xi(lens, random=randoms,\n",
    "        filename=filename, rootdir = tempdir, \n",
    "        nbins=20, min_sep=2.5, max_sep=250., sep_units='arcmin', bin_slop=0.05,\n",
    "        npatch=npatch, cen_file=cen_file, var_method='jackknife', )"
   ]
  },
  {
   "cell_type": "code",
   "execution_count": 42,
   "id": "048c57fc-f6d2-4cba-a4f4-3ecbf60d41ae",
   "metadata": {},
   "outputs": [],
   "source": [
    "cov_new= np.genfromtxt(tempdir+'/nn.lens.cov'.format(npatch))"
   ]
  },
  {
   "cell_type": "code",
   "execution_count": 43,
   "id": "ecbec046-ff43-4dd1-835a-8603df3231b6",
   "metadata": {},
   "outputs": [],
   "source": [
    "_, meanr, _, galaxy_xi, xi_err,_,_,_,_,_ = np.genfromtxt(tempdir+'nn.lens.txt'.format(npatch), unpack=True)"
   ]
  },
  {
   "cell_type": "code",
   "execution_count": 44,
   "id": "1429807c-d8d0-431b-bbde-98e235fe6c62",
   "metadata": {},
   "outputs": [],
   "source": [
    "# save as an 2pt file\n",
    "import fitsio\n",
    "FITS_DMASS = fitsio.FITS('/users/PCON0003/warner785/DMASS-analysis/simulated_data/simulated_y1_dmass_3x2pt_neff_baseline_cov.fits')\n",
    "cov = FITS_DMASS['COVMAT'].read()[480:, 480:]\n",
    "theta= FITS_DMASS['galaxy_xi']['ANG'].read()\n",
    "galaxy_xi_theory= FITS_DMASS['galaxy_xi']['VALUE'].read()"
   ]
  },
  {
   "cell_type": "code",
   "execution_count": 45,
   "id": "6877b8af-2956-49a7-949f-850d2f12eee6",
   "metadata": {},
   "outputs": [
    {
     "data": {
      "image/png": "[encoded data removed]",
      "text/plain": [
       "<Figure size 432x288 with 1 Axes>"
      ]
     },
     "metadata": {
      "needs_background": "light"
     },
     "output_type": "display_data"
    }
   ],
   "source": [
    "fig, ax = plt.subplots()\n",
    "\n",
    "#ax.loglog(theta, galaxy_xi_theory)\n",
    "ax.errorbar( theta, galaxy_xi_theory, np.sqrt(cov.diagonal()))\n",
    "ax.errorbar( meanr, galaxy_xi, xi_err )\n",
    "ax.set_xscale('log')\n",
    "ax.set_yscale('log')\n",
    "\n",
    "#write own jackknife errors -- for understanding and checking treecore's calculation\n",
    "# what are the subsamples for the jackknife?\n",
    "# size of ther jackknife patches versus the scales\n",
    "# ex: bin size  == 20arcmin , not wanting jk = 100 patches in 20 arcmin, or too big--- 20 patches \n",
    "# use 20, 100 etc for jk size to check the errors for each choice\n",
    "\n",
    "# check papers on jackknife? -- general range of reasonable choices for jk\n",
    "# on Slack -- for an old but helpful paper\n",
    "# plot fractional difference (orange/blue)"
   ]
  },
  {
   "cell_type": "code",
   "execution_count": 62,
   "id": "81cf8de6-b0c1-4056-bdc7-15249745f788",
   "metadata": {},
   "outputs": [
    {
     "data": {
      "text/plain": [
       "<matplotlib.lines.Line2D at 0x2af9936c0390>"
      ]
     },
     "execution_count": 62,
     "metadata": {},
     "output_type": "execute_result"
    },
    {
     "data": {
      "image/png": "[encoded data removed]",
      "text/plain": [
       "<Figure size 432x288 with 1 Axes>"
      ]
     },
     "metadata": {
      "needs_background": "light"
     },
     "output_type": "display_data"
    }
   ],
   "source": [
    "fig, ax = plt.subplots()\n",
    "ax.errorbar( theta, galaxy_xi/galaxy_xi_theory - 1, np.sqrt(cov.diagonal())/galaxy_xi_theory)\n",
    "ax.set_ylim(-1,1)\n",
    "ax.axhline(y=0)\n",
    "\n",
    "#prop. of errors \n",
    "\n",
    "#measurements from Su compared to orange\n",
    "#compare cmass data to dmass data rather than theory"
   ]
  },
  {
   "cell_type": "code",
   "execution_count": 46,
   "id": "0478ab39-be33-4d87-8560-302e7c6aecac",
   "metadata": {},
   "outputs": [
    {
     "data": {
      "text/plain": [
       "[<matplotlib.lines.Line2D at 0x2af983a54160>]"
      ]
     },
     "execution_count": 46,
     "metadata": {},
     "output_type": "execute_result"
    },
    {
     "data": {
      "image/png": "[encoded data removed]",
      "text/plain": [
       "<Figure size 432x288 with 1 Axes>"
      ]
     },
     "metadata": {
      "needs_background": "light"
     },
     "output_type": "display_data"
    }
   ],
   "source": [
    "fig, ax = plt.subplots()\n",
    "\n",
    "ax.loglog(theta, np.sqrt( cov.diagonal() ) )\n",
    "ax.loglog( meanr, np.sqrt(cov_new.diagonal()))"
   ]
  },
  {
   "cell_type": "code",
   "execution_count": null,
   "id": "18eda7ad-4200-49d3-a468-992aba6823b3",
   "metadata": {},
   "outputs": [],
   "source": []
  }
 ],
 "metadata": {
  "kernelspec": {
   "display_name": "Python (DES_env)",
   "language": "python",
   "name": "des_env"
  },
  "language_info": {
   "codemirror_mode": {
    "name": "ipython",
    "version": 3
   },
   "file_extension": ".py",
   "mimetype": "text/x-python",
   "name": "python",
   "nbconvert_exporter": "python",
   "pygments_lexer": "ipython3",
   "version": "3.7.0"
  }
 },
 "nbformat": 4,
 "nbformat_minor": 5
}
