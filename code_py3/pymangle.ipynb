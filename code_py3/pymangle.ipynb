{
 "cells": [
  {
   "cell_type": "code",
   "execution_count": 15,
   "id": "774a57fd-caad-47fe-90ed-2e1123000e5f",
   "metadata": {},
   "outputs": [
    {
     "name": "stdout",
     "output_type": "stream",
     "text": [
      "Mangle\n",
      "\tfile:       /fs/scratch/PCON0008/warner785/bwarner/mask_DR12v5_CMASS_South.ply\n",
      "\tarea:       10337.8 sqdeg\n",
      "\tnpoly:      33072\n",
      "\tpixeltype:  's'\n",
      "\tpixelres:   6\n",
      "\treal:       10\n",
      "\tnpix:       3861\n",
      "\tsnapped:    1\n",
      "\tbalkanized: 1\n",
      "\tweightfile: \n",
      "\tverbose:    0\n",
      "\n",
      "[0.57943596 0.13747585 0.12491481 ... 0.30749082 0.12237931 0.05444705]\n",
      "258884\n",
      "258884\n"
     ]
    }
   ],
   "source": [
    "import pymangle\n",
    "import healpy as hp\n",
    "import numpy as np\n",
    "import esutil\n",
    "import os\n",
    "\n",
    "file_outdir = '/fs/scratch/PCON0008/warner785/bwarner/'\n",
    "# read a mangle polygon file\n",
    "m=pymangle.Mangle(file_outdir+\"mask_DR12v5_CMASS_South.ply\")\n",
    "\n",
    "print(m)\n",
    "#create a full sky healpix map in very high resolution (NSIDE=32768)\n",
    "full_sky = np.full(hp.nside2npix(4096), hp.UNSEEN)\n",
    "n_good_pixels_at_4096 = hp.nside2npix(4096)\n",
    "print(m.get_areas())\n",
    "#def my_func(min, max)->list:     \n",
    "#    return list(range(min, max))\n",
    "\n",
    "#N = n_good_pixels_at_4096; \n",
    "#pixels = my_func(0,N)\n",
    "#pixels = np.array(pixels)\n",
    "#print(pixels.shape)\n",
    "\n",
    "#pixels = np.zeros(n_good_pixels_at_32768)\n",
    "#for x in range(pixels.size):\n",
    "    #if x>0:\n",
    "        #pixels[x]=pixels[x-1]+1\n",
    "\n",
    "#ra, dec = hp.pix2ang(4096, pixels, lonlat=True)\n",
    "#print(np.max(ra), np.min(ra))\n",
    "#print(np.max(dec), np.min(dec))\n",
    "\n",
    "# test an ra,dec point against the mask\n",
    "#good = m.contains(200.0, 0.0)\n",
    "\n",
    "# test arrays of ra,dec points against the mask\n",
    "#ra = np.array([359.989013671875, 0.0])\n",
    "#dec = np.array([89.98857866011927, -89.98857866011926])\n",
    "\n",
    "#check cmass here:\n",
    "\n",
    "\n",
    "good = m.contains(train_sample['RA'],train_sample['DEC'])\n",
    "\n",
    "print(sum(good))\n",
    "print(len(good))\n",
    "\n",
    "# get the polygon ids\n",
    "#ids = m.polyid(train_sample['RA'],train_sample['DEC'])\n",
    "\n",
    "# get the weights\n",
    "#weights = m.weight(ra,dec)\n",
    "\n",
    "# get both polyids and weights\n",
    "#ids, weights = m.polyid_and_weight(ra, dec)\n",
    "\n",
    "# generate random points    \n",
    "#ra_rand, dec_rand = m.genrand(1000)\n",
    "\n",
    "# generate randoms from the mask and with the additional constraint that they\n",
    "# are within the specified rectangle.  This speeds things up if your mask is\n",
    "# relatively small compared to the full sphere; choose the box just big enough\n",
    "# to contain the mask.\n",
    "\n",
    "#ra_min=200.0\n",
    "#ra_max=210.0\n",
    "#dec_min=0.0\n",
    "#dec_max=10.0\n",
    "#ra_rand, dec_rand = m.genrand_range(1000,ra_min,ra_max,dec_min,dec_max)\n",
    "\n",
    "# get the polygon weights\n",
    "#weights = m.weights\n",
    "\n",
    "# read in a new set of weights\n",
    "#m.read_weightfile(weightfile)\n",
    "\n",
    "# set the weights\n",
    "\n",
    "#m.weights = weight_array\n",
    "\n",
    "# sparcely sample mangle mask -- nside 4096 or 1 higher\n",
    "# sample mangle mask == 0, 1 pixels out or in, m.contain for finding center of pixel\n",
    "# check stablity with nside \n",
    "\n",
    "#downgrade the resolution of the weights to 4096\n",
    "##downgrade = hp.pixelfunc.ud_grade(weights, 4096, pess=False, order_in='RING', order_out=None, power=None, dtype=None)\n",
    "\n",
    "#SAVE THE WEIGHTS FILE\n",
    "#np.savetxt('/fs/scratch/PCON0008/warner785/bwarner/cmass_mask.txt', good)"
   ]
  },
  {
   "cell_type": "code",
   "execution_count": 7,
   "id": "592923c8-776a-45aa-87a8-1c4d66ed9642",
   "metadata": {},
   "outputs": [],
   "source": [
    "import pymangle\n",
    "import healpy as hp\n",
    "import numpy as np\n",
    "import esutil\n",
    "import fitsio\n",
    "import os\n",
    "\n",
    "path = '/fs/scratch/PCON0008/warner785/bwarner/'\n",
    "x = fitsio.read(path + 'mask_DR12v5_CMASS_South.fits.gz')\n",
    "m = pymangle.Mangle(path + 'mask_DR12v5_CMASS_South.ply')\n",
    "\n",
    "select_north = (x['RAMID']>100)*(x['RAMID']<300)\n",
    "select_south = ~select_north\n",
    "\n",
    "poly_areas = m.get_areas()\n",
    "#tot_num = m.get_npoly()\n",
    "\n",
    "area_north = np.sum(poly_areas[select_north])\n",
    "area_south = np.sum(poly_areas[select_south])\n",
    "\n",
    "#num_south = np.sum(tot_num[select_south])"
   ]
  },
  {
   "cell_type": "code",
   "execution_count": 2,
   "id": "47b9214e-bfc2-4325-a100-4ac192a1fda7",
   "metadata": {},
   "outputs": [
    {
     "name": "stdout",
     "output_type": "stream",
     "text": [
      "2901.8059807725780206\n"
     ]
    }
   ],
   "source": [
    "print(area_south)\n",
    "#print(num_south)"
   ]
  },
  {
   "cell_type": "code",
   "execution_count": null,
   "id": "4b02e690-3c6c-41fd-b34d-b5868aa226ed",
   "metadata": {},
   "outputs": [],
   "source": []
  },
  {
   "cell_type": "code",
   "execution_count": 3,
   "id": "b815306d-4e58-4789-8f98-e4aee4522f49",
   "metadata": {},
   "outputs": [
    {
     "data": {
      "text/plain": [
       "\u001b[0;31mType:\u001b[0m        Mangle\n",
       "\u001b[0;31mString form:\u001b[0m\n",
       "Mangle\n",
       "           file:       /fs/scratch/PCON0008/warner785/bwarner/mask_DR12v5_CMASS_South.ply\n",
       "           area:     <...>   6\n",
       "           real:       10\n",
       "           npix:       3861\n",
       "           snapped:    1\n",
       "           balkanized: 1\n",
       "           weightfile:\n",
       "           verbose:    0\n",
       "           \n",
       "\u001b[0;31mFile:\u001b[0m        ~/.conda/envs/DES_env/lib/python3.7/site-packages/pymangle/mangle.py\n",
       "\u001b[0;31mDocstring:\u001b[0m  \n",
       "A class to work with Mangle masks.\n",
       "\n",
       "construction\n",
       "    import pymangle\n",
       "    m=pymangle.Mangle(mask_file, verbose=False)\n",
       "\n",
       "\n",
       "read-only properties\n",
       "--------------------\n",
       "    filename\n",
       "    area\n",
       "    npoly\n",
       "    is_pixelized\n",
       "    pixeltype\n",
       "    pixelres\n",
       "    maxpix\n",
       "    is_snapped\n",
       "    is_balkanized\n",
       "    weightfile\n",
       "\n",
       "See docs for each property for more details.\n",
       "\n",
       "methods\n",
       "----------------------\n",
       "    polyid(ra,dec)\n",
       "    weight(ra,dec)\n",
       "    polyid_and_weight(ra,dec)\n",
       "    contains(ra,dec)\n",
       "    genrand(nrand)\n",
       "    genrand_range(nrand,ramin,ramax,decmin,decmax)\n",
       "    calc_simplepix(ra,dec)\n",
       "    read_weights(weightfile)\n",
       "\n",
       "getters (correspond to properties above)\n",
       "----------------------------------------\n",
       "    get_filename()\n",
       "    get_weightfile()\n",
       "    get_area()\n",
       "    get_npoly()\n",
       "    get_is_pixelized()\n",
       "    get_pixeltype()\n",
       "    get_pixelres()\n",
       "    get_maxpix()\n",
       "    get_is_snapped()\n",
       "    get_is_balkanized()\n",
       "    get_pixels()\n",
       "    get_weights()\n",
       "    get_areas()\n",
       "\n",
       "setter (corresponding to property above)\n",
       "----------------------------------------\n",
       "    set_weights(weights)\n",
       "\n",
       "See docs for each method for more detail.\n"
      ]
     },
     "metadata": {},
     "output_type": "display_data"
    }
   ],
   "source": [
    "?m"
   ]
  },
  {
   "cell_type": "code",
   "execution_count": 21,
   "id": "193842ce-5043-4f6a-a50b-4abdda24898c",
   "metadata": {},
   "outputs": [
    {
     "data": {
      "text/plain": [
       "array([1517, 1517, 1518, ..., 3860, 3860, 3860])"
      ]
     },
     "execution_count": 21,
     "metadata": {},
     "output_type": "execute_result"
    }
   ],
   "source": [
    "m.get_pixels()"
   ]
  },
  {
   "cell_type": "code",
   "execution_count": null,
   "id": "ea2ef40f-7272-403a-a936-e8fc07064643",
   "metadata": {},
   "outputs": [],
   "source": [
    "import pymangle\n",
    "import healpy as hp\n",
    "import numpy as np\n",
    "import esutil\n",
    "import os\n",
    "\n",
    "#np.savetxt('/fs/scratch/PCON0008/warner785/bwarner/RA_mask.txt', ra[good==True])\n",
    "#np.savetxt('/fs/scratch/PCON0008/warner785/bwarner/DEC_mask.txt', dec[good==True])\n",
    "\n",
    "# get the polygon ids\n",
    "#ids = m.polyid(ra,dec)"
   ]
  },
  {
   "cell_type": "code",
   "execution_count": 16,
   "id": "a98278fc-eb83-482e-a2b3-be75a2eb06b1",
   "metadata": {},
   "outputs": [
    {
     "data": {
      "text/plain": [
       "[<matplotlib.lines.Line2D at 0x2ae2f37146a0>]"
      ]
     },
     "execution_count": 16,
     "metadata": {},
     "output_type": "execute_result"
    },
    {
     "data": {
      "image/png": "[encoded data removed]",
      "text/plain": [
       "<Figure size 432x288 with 1 Axes>"
      ]
     },
     "metadata": {
      "needs_background": "light"
     },
     "output_type": "display_data"
    }
   ],
   "source": [
    "import matplotlib.pyplot as plt\n",
    "fig, ax = plt.subplots()\n",
    "ax.plot( ra[good==True], dec[good==True], \"b,\")\n",
    "#train_sample['RA'][train_sample['RA'][good==True]]"
   ]
  },
  {
   "cell_type": "code",
   "execution_count": 22,
   "id": "f59ef57a-dc4e-47d6-8c90-128ec1d49d55",
   "metadata": {},
   "outputs": [
    {
     "name": "stdout",
     "output_type": "stream",
     "text": [
      "(33072,)\n"
     ]
    },
    {
     "data": {
      "image/png": "[encoded data removed]",
      "text/plain": [
       "<Figure size 432x288 with 1 Axes>"
      ]
     },
     "metadata": {
      "needs_background": "light"
     },
     "output_type": "display_data"
    }
   ],
   "source": [
    "import matplotlib.pyplot as plt\n",
    "fig, ax = plt.subplots()\n",
    "ax.plot( cmass[\"RAMID\"], cmass[\"DECMID\"], \"b,\")\n",
    "print(cmass.shape)"
   ]
  },
  {
   "cell_type": "code",
   "execution_count": 26,
   "id": "aea4fd1b-e7ba-4f46-9ee3-6909b223c1d4",
   "metadata": {},
   "outputs": [
    {
     "name": "stdout",
     "output_type": "stream",
     "text": [
      "9309.860977317852\n"
     ]
    }
   ],
   "source": [
    "print(np.sum(cmass[\"WEIGHT\"]))"
   ]
  },
  {
   "cell_type": "code",
   "execution_count": 1,
   "id": "7db673e5-d571-4af9-a5e8-3ee132cc3ba9",
   "metadata": {},
   "outputs": [],
   "source": [
    "def keepGoodRegion(des, hpInd = False, balrog=None):\n",
    "    import healpy as hp\n",
    "    import fitsio\n",
    "    # 25 is the faintest object detected by DES\n",
    "    # objects larger than 25 considered as Noise\n",
    "    \n",
    "    path = '/fs/scratch/PCON0008/warner785/bwarner/'\n",
    "    #LSSGoldmask = fitsio.read(path+'Y1LSSmask_v2_il22_seeil4.0_nside4096ring_redlimcut.fits')\n",
    "    #LSSGoldmask = fitsio.read(path+'Y1LSSmask_v1_il22seeil4.04096ring_redlimcut.fits')\n",
    "    LSSGoldmask = fitsio.read(path+'MASK_Y3LSSBAOSOF_22_3_v2p2.fits')\n",
    "    ringhp = hp.nest2ring(4096, [LSSGoldmask['PIXEL']])\n",
    "    #Y1LSSmask_v1_il22seeil4.04096ring_redlimcut.fits\n",
    "    #frac_cut = LSSGoldmask['FRAC'] > 0.8\n",
    "    #ind_good_ring = LSSGoldmask['PIXEL'][frac_cut]\n",
    "    ind_good_ring = ringhp\n",
    "    \n",
    "    # healpixify the catalog.\n",
    "    nside=4096\n",
    "    # Convert silly ra/dec to silly HP angular coordinates.\n",
    "    phi = des['RA'] * np.pi / 180.0\n",
    "    theta = ( 90.0 - des['DEC'] ) * np.pi/180.0\n",
    "\n",
    "    hpInd = hp.ang2pix(nside,theta,phi,nest=False)\n",
    "    keep = np.in1d(hpInd, ind_good_ring)\n",
    "    des = des[keep]\n",
    "    if hpInd is True:\n",
    "        return ind_good_ring\n",
    "    else:\n",
    "        return des"
   ]
  },
  {
   "cell_type": "code",
   "execution_count": 8,
   "id": "d9724625-47dc-4bd1-b2c3-3e8ede0bc403",
   "metadata": {},
   "outputs": [
    {
     "name": "stdout",
     "output_type": "stream",
     "text": [
      "total num of train 258884\n",
      "\n",
      "--------------------------------\n",
      " applying DES veto mask to CMASS\n",
      "--------------------------------\n",
      "num of train_sample after des veto 258884\n"
     ]
    }
   ],
   "source": [
    "import esutil\n",
    "import fitsio\n",
    "import numpy as np\n",
    "cmass = esutil.io.read('/fs/scratch/PCON0003/warner785/bwarner/cmass-dr12v4-S-Reid-full.dat.fits')\n",
    "train_sample = esutil.io.read('/fs/scratch/PCON0003/warner785/bwarner/cmass-dr12v4-S-Reid-full.dat.fits')\n",
    "#train_sample = esutil.io.read('/global/cscratch1/sd/bwarner/galaxy_DR11v1_CMASS_South-photoObj.fits.gz')\n",
    "print('total num of train', train_sample.size)\n",
    "print('\\n--------------------------------\\n applying DES veto mask to CMASS\\n--------------------------------')   \n",
    "#train_sample = keepGoodRegion(train_sample)\n",
    "\n",
    "#fitsio.write( output_dir+'/cmass_in_st82.fits', train_sample)\n",
    "\n",
    "print('num of train_sample after des veto', train_sample.size)"
   ]
  },
  {
   "cell_type": "code",
   "execution_count": 17,
   "id": "fab3df3a-92e6-4754-9b06-d5565e0a435d",
   "metadata": {},
   "outputs": [
    {
     "name": "stdout",
     "output_type": "stream",
     "text": [
      "258884\n",
      "33072\n"
     ]
    }
   ],
   "source": [
    "m = pymangle.Mangle(\"/fs/scratch/PCON0008/warner785/bwarner/mask_DR12v5_CMASS_South.ply\")\n",
    "train_sample = esutil.io.read('/fs/scratch/PCON0003/warner785/bwarner/cmass-dr12v4-S-Reid-full.dat.fits')\n",
    "good = m.contains(train_sample['RA'],train_sample['DEC'])\n",
    "print(good.size)\n",
    "tot = m.contain(ra,dec)\n",
    "print(tot.size)"
   ]
  },
  {
   "cell_type": "code",
   "execution_count": 28,
   "id": "37d3dad3-1e92-4f97-baa3-0808831a2b10",
   "metadata": {},
   "outputs": [],
   "source": [
    "#create a full sky healpix map in very high resolution (NSIDE=32768)\n",
    "full_sky = np.full(hp.nside2npix(4096), hp.UNSEEN)\n",
    "n_good_pixels_at_4096 = hp.nside2npix(4096)  \n",
    "\n",
    "pixels = np.zeros(n_good_pixels_at_4096)\n",
    "for x in range(pixels.size):\n",
    "    if x==0:\n",
    "        pixels[0]= np.int(pixels[0])\n",
    "    if x>0:\n",
    "        pixels[x]=np.int(pixels[x-1]+1)"
   ]
  },
  {
   "cell_type": "code",
   "execution_count": 29,
   "id": "e959fc79-e8b4-473d-af40-1c551fa972ea",
   "metadata": {},
   "outputs": [
    {
     "ename": "TypeError",
     "evalue": "ufunc '_pix2ang_ring' not supported for the input types, and the inputs could not be safely coerced to any supported types according to the casting rule ''safe''",
     "output_type": "error",
     "traceback": [
      "\u001b[0;31m---------------------------------------------------------------------------\u001b[0m",
      "\u001b[0;31mTypeError\u001b[0m                                 Traceback (most recent call last)",
      "\u001b[0;32m<ipython-input-29-3a707fe87d18>\u001b[0m in \u001b[0;36m<module>\u001b[0;34m\u001b[0m\n\u001b[0;32m----> 1\u001b[0;31m \u001b[0mra\u001b[0m\u001b[0;34m,\u001b[0m \u001b[0mdec\u001b[0m \u001b[0;34m=\u001b[0m \u001b[0mhp\u001b[0m\u001b[0;34m.\u001b[0m\u001b[0mpix2ang\u001b[0m\u001b[0;34m(\u001b[0m\u001b[0;36m4096\u001b[0m\u001b[0;34m,\u001b[0m \u001b[0mpixels\u001b[0m\u001b[0;34m,\u001b[0m \u001b[0mlonlat\u001b[0m\u001b[0;34m=\u001b[0m\u001b[0;32mTrue\u001b[0m\u001b[0;34m)\u001b[0m\u001b[0;34m\u001b[0m\u001b[0m\n\u001b[0m",
      "\u001b[0;32m~/.conda/envs/DES_env/lib/python3.7/site-packages/healpy/pixelfunc.py\u001b[0m in \u001b[0;36mpix2ang\u001b[0;34m(nside, ipix, nest, lonlat)\u001b[0m\n\u001b[1;32m    526\u001b[0m         \u001b[0mtheta\u001b[0m\u001b[0;34m,\u001b[0m \u001b[0mphi\u001b[0m \u001b[0;34m=\u001b[0m \u001b[0mpixlib\u001b[0m\u001b[0;34m.\u001b[0m\u001b[0m_pix2ang_nest\u001b[0m\u001b[0;34m(\u001b[0m\u001b[0mnside\u001b[0m\u001b[0;34m,\u001b[0m \u001b[0mipix\u001b[0m\u001b[0;34m)\u001b[0m\u001b[0;34m\u001b[0m\u001b[0m\n\u001b[1;32m    527\u001b[0m     \u001b[0;32melse\u001b[0m\u001b[0;34m:\u001b[0m\u001b[0;34m\u001b[0m\u001b[0m\n\u001b[0;32m--> 528\u001b[0;31m         \u001b[0mtheta\u001b[0m\u001b[0;34m,\u001b[0m \u001b[0mphi\u001b[0m \u001b[0;34m=\u001b[0m \u001b[0mpixlib\u001b[0m\u001b[0;34m.\u001b[0m\u001b[0m_pix2ang_ring\u001b[0m\u001b[0;34m(\u001b[0m\u001b[0mnside\u001b[0m\u001b[0;34m,\u001b[0m \u001b[0mipix\u001b[0m\u001b[0;34m)\u001b[0m\u001b[0;34m\u001b[0m\u001b[0m\n\u001b[0m\u001b[1;32m    529\u001b[0m \u001b[0;34m\u001b[0m\u001b[0m\n\u001b[1;32m    530\u001b[0m     \u001b[0;32mif\u001b[0m \u001b[0mlonlat\u001b[0m\u001b[0;34m:\u001b[0m\u001b[0;34m\u001b[0m\u001b[0m\n",
      "\u001b[0;31mTypeError\u001b[0m: ufunc '_pix2ang_ring' not supported for the input types, and the inputs could not be safely coerced to any supported types according to the casting rule ''safe''"
     ]
    }
   ],
   "source": [
    "ra, dec = hp.pix2ang(4096, pixels, lonlat=True)"
   ]
  },
  {
   "cell_type": "code",
   "execution_count": 6,
   "id": "622d3f8e-4a42-4bd2-a52e-8857c27d9103",
   "metadata": {},
   "outputs": [],
   "source": [
    "cmass = esutil.io.read('/fs/scratch/PCON0008/warner785/bwarner/mask_DR12v5_CMASS_South.fits.gz')"
   ]
  },
  {
   "cell_type": "code",
   "execution_count": 9,
   "id": "09c3b97b-31d3-4b48-a3d4-e61583fd1f55",
   "metadata": {},
   "outputs": [
    {
     "name": "stdout",
     "output_type": "stream",
     "text": [
      "('XCAPS', 'CMCAPS', 'NCAPS', 'WEIGHT', 'PIXEL', 'STR', 'USE_CAPS', 'AREANAME', 'IBOSS', 'SECTOR', 'SECTORAREA', 'NTILES', 'TILES', 'CHUNK', 'TARGETFILE', 'CHUNKVECTOR', 'RAMID', 'DECMID', 'MASKEDAREA')\n"
     ]
    }
   ],
   "source": [
    "print(cmass.dtype.names)"
   ]
  },
  {
   "cell_type": "raw",
   "id": "53ae7cd4-066b-4e02-bed0-67f36b302454",
   "metadata": {},
   "source": [
    "phi = train_sample['RA'] * np.pi / 180.0\n",
    "theta = ( 90.0 - train_sample['DEC'] ) * np.pi/180.0\n",
    "pixel = hp.pixelfunc.ang2pix(4096, theta, phi, nest=False, lonlat=False)\n",
    "cmass = np.zeros( len(pixel), dtype=[('PIXEL','int'), ('SIGNAL','float')])\n",
    "cmass['PIXEL'] = pixel\n",
    "cmass['SIGNAL'] = train_sample['']"
   ]
  },
  {
   "cell_type": "raw",
   "id": "372d55d5-489f-410a-9659-c011869ffbe3",
   "metadata": {},
   "source": [
    "cmassHp = np.full(hp.nside2npix(4096), hp.UNSEEN)\n",
    "#sysHp[sysMap['PIXEL'][dim_mask]] = sysMap['SIGNAL'][dim_mask]\n",
    "cmassHp[cmass['PIXEL']] = cmass['SIGNAL']"
   ]
  },
  {
   "cell_type": "code",
   "execution_count": 10,
   "id": "42406bf4-0814-48b6-a11f-d7f36811e6bb",
   "metadata": {},
   "outputs": [
    {
     "name": "stderr",
     "output_type": "stream",
     "text": [
      "WARNING: AstroMLDeprecationWarning: 'decorators' has been moved to 'astroML.utils' and will be removed from the main namespace in the future. [astroML.decorators]\n"
     ]
    },
    {
     "name": "stdout",
     "output_type": "stream",
     "text": [
      "/users/PCON0003/warner785/DMASS_XDGMM/code_py3\n",
      "/users/PCON0003/warner785/DMASSY3/code_py3\n",
      "50430593\n",
      "297\n"
     ]
    }
   ],
   "source": [
    "import os, sys\n",
    "import esutil\n",
    "import healpy as hp\n",
    "import numpy as np\n",
    "import fitsio\n",
    "sys.path.append('../')\n",
    "from xd import *\n",
    "from run_DMASS import *\n",
    "from utils import *\n",
    "import healpy as hp\n",
    "from systematics import *\n",
    "from cmass_modules import io\n",
    "os.chdir('../../DMASS_XDGMM/code_py3/')\n",
    "print(os.getcwd())\n",
    "from xdgmm import XDGMM as XDGMM_Holoien\n",
    "os.chdir('../../DMASSY3/code_py3/')\n",
    "print(os.getcwd())\n",
    "\n",
    "print(ra[good == True].size)\n",
    "ra_good = ra[good==True]\n",
    "dec_good = dec[good == True]\n",
    "#ra_mask = np.in1d(ra_good, train_sample[\"RA\"], assume_unique=False, invert=False)\n",
    "mg1, mg2, _ = esutil.htm.HTM(10).match(train_sample['RA'], train_sample['DEC'], ra_good, \\\n",
    "                                         dec_good,2./3600, maxmatch=1)\n",
    "cmass_mask = np.zeros(ra_good.size, dtype=bool)\n",
    "cmass_mask[mg2] = 1\n",
    "\n",
    "print(train_sample[mg1].size)\n",
    "\n",
    "\n",
    "#clean_cmass_data_des, nocmass = gold_st82[cmass_mask], gold_st82[~cmass_mask]\n",
    "\n",
    "#import matplotlib.pyplot as plt\n",
    "#fig, ax = plt.subplots()\n",
    "#ax.plot( train_sample['RA'][train_sample['RA']==ra[good==True]], train_sample['DEC'][train_sample['DEC']==dec[good==True]], \"b,\")"
   ]
  },
  {
   "cell_type": "code",
   "execution_count": 11,
   "id": "13fd0d3c-98de-42f9-af98-4910a6ebb1fa",
   "metadata": {},
   "outputs": [
    {
     "data": {
      "text/plain": [
       "[<matplotlib.lines.Line2D at 0x2aacbb205c88>]"
      ]
     },
     "execution_count": 11,
     "metadata": {},
     "output_type": "execute_result"
    },
    {
     "data": {
      "image/png": "[encoded data removed]",
      "text/plain": [
       "<Figure size 432x288 with 1 Axes>"
      ]
     },
     "metadata": {
      "needs_background": "light"
     },
     "output_type": "display_data"
    }
   ],
   "source": [
    "import matplotlib.pyplot as plt\n",
    "fig, ax = plt.subplots()\n",
    "ax.plot( train_sample[\"RA\"][mg1], train_sample[\"DEC\"][mg1], \"b,\")"
   ]
  },
  {
   "cell_type": "code",
   "execution_count": null,
   "id": "4da7bd2c-b156-4649-9729-519c3760df8c",
   "metadata": {},
   "outputs": [],
   "source": []
  }
 ],
 "metadata": {
  "kernelspec": {
   "display_name": "Python (DES_env)",
   "language": "python",
   "name": "des_env"
  },
  "language_info": {
   "codemirror_mode": {
    "name": "ipython",
    "version": 3
   },
   "file_extension": ".py",
   "mimetype": "text/x-python",
   "name": "python",
   "nbconvert_exporter": "python",
   "pygments_lexer": "ipython3",
   "version": "3.7.0"
  }
 },
 "nbformat": 4,
 "nbformat_minor": 5
}
