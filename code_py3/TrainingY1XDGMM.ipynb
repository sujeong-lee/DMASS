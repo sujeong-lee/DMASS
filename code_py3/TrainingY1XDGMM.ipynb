{
 "cells": [
  {
   "cell_type": "code",
   "execution_count": 1,
   "id": "9f95ae06-236d-48fa-aae3-38d5c966e685",
   "metadata": {},
   "outputs": [
    {
     "name": "stderr",
     "output_type": "stream",
     "text": [
      "WARNING: AstroMLDeprecationWarning: 'decorators' has been moved to 'astroML.utils' and will be removed from the main namespace in the future. [astroML.decorators]\n",
      "In /users/PCON0003/warner785/.conda/envs/DES_env/lib/python3.7/site-packages/matplotlib/mpl-data/stylelib/_classic_test.mplstyle: \n",
      "The savefig.frameon rcparam was deprecated in Matplotlib 3.1 and will be removed in 3.3.\n",
      "In /users/PCON0003/warner785/.conda/envs/DES_env/lib/python3.7/site-packages/matplotlib/mpl-data/stylelib/_classic_test.mplstyle: \n",
      "The verbose.level rcparam was deprecated in Matplotlib 3.1 and will be removed in 3.3.\n",
      "In /users/PCON0003/warner785/.conda/envs/DES_env/lib/python3.7/site-packages/matplotlib/mpl-data/stylelib/_classic_test.mplstyle: \n",
      "The verbose.fileo rcparam was deprecated in Matplotlib 3.1 and will be removed in 3.3.\n"
     ]
    }
   ],
   "source": [
    "import os, sys\n",
    "sys.path.append('../')\n",
    "from xd import *\n",
    "from run_DMASS import *\n",
    "from utils import *\n",
    "import esutil\n",
    "import healpy as hp\n",
    "from systematics import *\n",
    "import fitsio\n",
    "from cmass_modules import io"
   ]
  },
  {
   "cell_type": "code",
   "execution_count": null,
   "id": "62639448-6834-4ed5-82b0-0e21ecb846e2",
   "metadata": {},
   "outputs": [],
   "source": []
  },
  {
   "cell_type": "code",
   "execution_count": 2,
   "id": "281c4d0f-0492-4db5-bd50-63f665395994",
   "metadata": {},
   "outputs": [
    {
     "name": "stdout",
     "output_type": "stream",
     "text": [
      "/users/PCON0003/warner785/DMASS_XDGMM/code_py3\n"
     ]
    }
   ],
   "source": [
    "os.chdir('../../DMASS_XDGMM/code_py3/')\n",
    "print(os.getcwd())"
   ]
  },
  {
   "cell_type": "code",
   "execution_count": 3,
   "id": "5c0a069d-b877-4aa1-b271-41d5f7f3181d",
   "metadata": {},
   "outputs": [],
   "source": [
    "from xdgmm import XDGMM as XDGMM_Holoien"
   ]
  },
  {
   "cell_type": "code",
   "execution_count": 4,
   "id": "628f0bf8-fec9-4228-af51-11ae52c99df2",
   "metadata": {},
   "outputs": [],
   "source": [
    "def _FindOptimalN_with_err( N, Xdata, Xcov, pickleFileName = None, suffix = None):\n",
    "    #from sklearn.mixture import GMM\n",
    "    #data, _ = mixing_color(data, suffix = suffix)\n",
    "    @pickle_results( pickleFileName )\n",
    "    def compute_GMM( N, covariance_type='full', n_iter=1000):\n",
    "        models = [None for n in N]\n",
    "        for i in range(len(N)):\n",
    "            sys.stdout.write(\"\\r\" + 'Finding optimal number of cluster : {:0.0f} % '\\\n",
    "                             .format(i * 1./len(N) * 100.))\n",
    "            sys.stdout.flush()\n",
    "            models[i] = GaussianMixture(n_components=N[i], max_iter=n_iter,\n",
    "                            covariance_type=covariance_type)\n",
    "            models[i].fit(Xdata, Xcov)\n",
    "        return models\n",
    "    \n",
    "    models = compute_GMM(N)\n",
    "    AIC = [m.aic(Xdata) for m in models]\n",
    "    BIC = [m.bic(Xdata) for m in models]\n",
    "    i_best = np.argmin(BIC)\n",
    "    gmm_best = models[i_best]\n",
    "    sys.stdout.write(\"\\r\" + 'Finding optimal number of cluster : {:0.0f} % '\\\n",
    "                     .format(100))\n",
    "    print(\"\\nbest fit converged:\", gmm_best.converged_, end=' ')\n",
    "    print(\" n_components =  %i\" % N[i_best])\n",
    "    return N[i_best], AIC, BIC"
   ]
  },
  {
   "cell_type": "code",
   "execution_count": 5,
   "id": "20d8cd0d-5c1f-4aef-98ae-1b29e916c8a3",
   "metadata": {},
   "outputs": [],
   "source": [
    "def XDnew_fitting_X( X = None, Xcov=None, \n",
    "        FileName = None, \n",
    "        #init_params = None, \n",
    "        #suffix='', \n",
    "        #mag = ['MAG_MODEL', 'MAG_DETMODEL'],\n",
    "        #err = [ 'MAGERR_MODEL','MAGERR_DETMODEL'],\n",
    "        #filter = ['G', 'R', 'I'],\n",
    "        n_cl = None, n_iter = 500, tol=1E-5, method='Bovy', verbose=False ):\n",
    "\n",
    "    \n",
    "\n",
    "    try: \n",
    "        xdgmm_obj = XDGMM_Holoien(filename=FileName) \n",
    "        print ('Using precomputed results from ', FileName)\n",
    "        return xdgmm_obj\n",
    "    except FileNotFoundError: pass\n",
    "    \n",
    "    if X is None:\n",
    "        # calling pre-computed model\n",
    "        xdgmm_obj = XDGMM_Holoien(filename=FileName) \n",
    "        print ('Using precomputed results from ', FileName)\n",
    "        return xdgmm_obj\n",
    "\n",
    "    else: \n",
    "        if n_cl == None : \n",
    "            param_range=np.arange(2, 50, 2)\n",
    "            optimal_n_comp,_,_= _FindOptimalN_with_err( param_range, X, Xcov, \n",
    "            pickleFileName = FileName+'.n_cluster' , suffix = '')\n",
    "            \n",
    "            #xdgmm_test = XDGMM_Holoien( n_iter=n_iter, tol=tol, method=method )\n",
    "            ## Define the range of component numbers, and get ready to compute the BIC for each one:\n",
    "            #param_range = np.arange(2, 50, 2)\n",
    "            ## Loop over component numbers, fitting XDGMM model and computing the BIC:\n",
    "            #bic, optimal_n_comp, lowest_bic = xdgmm_test.bic_test(X, Xcov, param_range)\n",
    "            ##n_cl = optimal_n_comp[np.argmin(bic)]\n",
    "        else: optimal_n_comp = n_cl\n",
    "\n",
    "        #import time\n",
    "        # fitting\n",
    "        #initiated class\n",
    "        xdgmm_obj = XDGMM_Holoien( n_components=optimal_n_comp, n_iter=n_iter, tol=tol, method=method )\n",
    "        #xdgmm.n_components = optimal_n_comp\n",
    "        print ('n_components=', optimal_n_comp)\n",
    "        print ('fitting started. This will take for a while.')\n",
    "#        t1 = time.time()\n",
    "        xdgmm_obj = xdgmm_obj.fit(X, Xcov)\n",
    "        #t2 = time.time()\n",
    "        print ('fitting finished')\n",
    "        \n",
    "        #t3 = time.time()\n",
    "        print ('saving xdgmm object to.. ', FileName)\n",
    "        xdgmm_obj.save_model(FileName)\n",
    "        print ('file saved')\n",
    "        #print ('saving obj. time:', (t3-t2)%60,'s')\n",
    "        \n",
    "        #t4 = time.time()\n",
    "        xdgmm_obj = XDGMM_Holoien(filename=FileName) \n",
    "        #print ('loading obj. time:', (t4-t3)%60,'s')\n",
    "#        t2 = time.time()\n",
    "#        print ('elapsed time:', (t2-t1)/60.0,'s')\n",
    "        return xdgmm_obj"
   ]
  },
  {
   "cell_type": "code",
   "execution_count": 6,
   "id": "ecd341c2-674b-43c7-928e-9c37a7b6434b",
   "metadata": {},
   "outputs": [
    {
     "name": "stdout",
     "output_type": "stream",
     "text": [
      "/users/PCON0003/warner785/DMASSY3/code_py3\n"
     ]
    }
   ],
   "source": [
    "os.chdir('../../DMASSY3/code_py3/')\n",
    "print(os.getcwd())"
   ]
  },
  {
   "cell_type": "code",
   "execution_count": 7,
   "id": "90cbc6b4-03ac-4964-b162-2eb0c57792e8",
   "metadata": {},
   "outputs": [],
   "source": [
    "# calling map \n",
    "path = '/fs/scratch/PCON0003/warner785/bwarner/'\n",
    "LSSGoldmask = fitsio.read(path+'Y1LSSmask_v2_redlimcut_il22_seeil4.0_4096ring.fits')\n",
    "# 'Y1LSSmask_v2_redlimcut_il22_seeil4.0_4096ring.fits'\n",
    "#GoldMask = callingEliGoldMask()\n",
    "LSSMask = LSSGoldmask\n",
    "GoldMask = LSSGoldmask\n",
    "LSSMask = LSSMask[LSSMask['DEC']>-3.0 ]\n",
    "#GoldMask_st82 = Cuts.SpatialCuts(GoldMask, ra=320, ra2=360, dec=-2, dec2=2)\n",
    "GoldMask_st82 = GoldMask[ GoldMask['DEC'] > -3.0 ]\n",
    "GoldMask_spt = GoldMask[ GoldMask['DEC'] < -3.0 ]\n",
    "#GoldMask_spt = Cuts.SpatialCuts(GoldMask_spt, ra=0, ra2 = 100, dec=-52, dec2 = -48)\n",
    "\n",
    "pixarea = hp.nside2pixarea( 4096, degrees = True)\n",
    "sptnpix = GoldMask_spt['PIXEL'].size #hp.get_map_size( GoldMask_spt['PIXEL'] )\n",
    "st82npix =  GoldMask_st82['PIXEL'].size # hp.get_map_size( GoldMask_st82 )\n",
    "SPTMaparea = pixarea * sptnpix\n",
    "ST82Maparea = pixarea * st82npix\n",
    "\n",
    "rootdir = '../output/sfd_train_photo_SamPle_nozband_ran10_3_full_tol1e5_validate/'"
   ]
  },
  {
   "cell_type": "code",
   "execution_count": 8,
   "id": "4e23ef2c-e3d5-46f9-a2c1-ab2caeb68c58",
   "metadata": {},
   "outputs": [
    {
     "name": "stdout",
     "output_type": "stream",
     "text": [
      "total num of train 258884\n",
      "\n",
      "--------------------------------\n",
      " applying DES veto mask to CMASS\n",
      "--------------------------------\n",
      "total num of train 13046\n"
     ]
    }
   ],
   "source": [
    "# Directory doesn't exist ---- create \n",
    "# check for error: print statement \n",
    "import os\n",
    "outdir = '../output/sfd_train_photo_SamPle_nozband_ran10_3_full_tol1e5_validate//'\n",
    "if os.path.exists(outdir) == False:\n",
    "    os.mkdir(outdir)\n",
    "rootdir = '../output/sfd_train_photo_SamPle_nozband_ran10_3_full_tol1e5_validate/'\n",
    "\n",
    "#implement Cuts.keepgoodregion:\n",
    "\n",
    "def keepGoodRegion(des, hpInd = False, balrog=None):\n",
    "    import healpy as hp\n",
    "    import fitsio\n",
    "    # 25 is the faintest object detected by DES\n",
    "    # objects larger than 25 considered as Noise\n",
    "    \n",
    "    path = '/fs/scratch/PCON0003/warner785/bwarner/'\n",
    "    #LSSGoldmask = fitsio.read(path+'Y1LSSmask_v2_il22_seeil4.0_nside4096ring_redlimcut.fits')\n",
    "    #LSSGoldmask = fitsio.read(path+'Y1LSSmask_v1_il22seeil4.04096ring_redlimcut.fits')\n",
    "    LSSGoldmask = fitsio.read(path+'Y1LSSmask_v2_redlimcut_il22_seeil4.0_4096ring.fits')\n",
    "    #Y1LSSmask_v1_il22seeil4.04096ring_redlimcut.fits\n",
    "    #frac_cut = LSSGoldmask['FRAC'] > 0.8\n",
    "    #ind_good_ring = LSSGoldmask['PIXEL'][frac_cut]\n",
    "    ind_good_ring = LSSGoldmask['PIXEL']\n",
    "    \n",
    "    # healpixify the catalog.\n",
    "    nside=4096\n",
    "    # Convert silly ra/dec to silly HP angular coordinates.\n",
    "    phi = des['RA'] * np.pi / 180.0\n",
    "    theta = ( 90.0 - des['DEC'] ) * np.pi/180.0\n",
    "\n",
    "    hpInd = hp.ang2pix(nside,theta,phi,nest=False)\n",
    "    keep = np.in1d(hpInd, ind_good_ring)\n",
    "    des = des[keep]\n",
    "    if hpInd is True:\n",
    "        return ind_good_ring\n",
    "    else:\n",
    "        return des\n",
    "    \n",
    "#gold_st82 = keepGoodRegion(gold_st82)\n",
    "#print(gold_st82.size)\n",
    "#gold_spt = keepGoodRegion(gold_spt)\n",
    "#print(gold_spt.size)\n",
    "\n",
    "# calling BOSS cmass and applying dmass goodregion mask ----------------------------\n",
    "#cmass = io.getSGCCMASSphotoObjcat()\n",
    "train_sample = esutil.io.read('/fs/scratch/PCON0003/warner785/bwarner/cmass-dr12v4-S-Reid-full.dat.fits')\n",
    "print('total num of train', train_sample.size)\n",
    "print('\\n--------------------------------\\n applying DES veto mask to CMASS\\n--------------------------------')\n",
    "train_sample = keepGoodRegion(train_sample)\n",
    "print('total num of train', train_sample.size)\n"
   ]
  },
  {
   "cell_type": "code",
   "execution_count": 9,
   "id": "872a8fd7-416e-4e93-bd13-180d2ec9a6e7",
   "metadata": {},
   "outputs": [
    {
     "name": "stdout",
     "output_type": "stream",
     "text": [
      "\n",
      "Calling catalogs >>>\n",
      "Y1A1_GOLD_STRIPE82_v2_000006.fits\n",
      "Y1A1_GOLD_STRIPE82_v2_000005.fits\n",
      "Y1A1_GOLD_STRIPE82_v2_000002.fits\n",
      "Y1A1_GOLD_STRIPE82_v2_000008.fits\n",
      "Y1A1_GOLD_STRIPE82_v2_000003.fits\n",
      "Y1A1_GOLD_STRIPE82_v2_000001.fits\n",
      "Y1A1_GOLD_STRIPE82_v2_000007.fits\n",
      "Y1A1_GOLD_STRIPE82_v2_000004.fits\n",
      "reading 1/8 /fs/scratch/PCON0003/warner785/bwarner/gold_cat/GOLD_STRIPE82/Y1A1_GOLD_STRIPE82_v2_000006.fits\n",
      "reading 2/8 /fs/scratch/PCON0003/warner785/bwarner/gold_cat/GOLD_STRIPE82/Y1A1_GOLD_STRIPE82_v2_000005.fits\n",
      "reading 3/8 /fs/scratch/PCON0003/warner785/bwarner/gold_cat/GOLD_STRIPE82/Y1A1_GOLD_STRIPE82_v2_000002.fits\n",
      "reading 4/8 /fs/scratch/PCON0003/warner785/bwarner/gold_cat/GOLD_STRIPE82/Y1A1_GOLD_STRIPE82_v2_000008.fits\n",
      "reading 5/8 /fs/scratch/PCON0003/warner785/bwarner/gold_cat/GOLD_STRIPE82/Y1A1_GOLD_STRIPE82_v2_000003.fits\n",
      "reading 6/8 /fs/scratch/PCON0003/warner785/bwarner/gold_cat/GOLD_STRIPE82/Y1A1_GOLD_STRIPE82_v2_000001.fits\n",
      "reading 7/8 /fs/scratch/PCON0003/warner785/bwarner/gold_cat/GOLD_STRIPE82/Y1A1_GOLD_STRIPE82_v2_000007.fits\n",
      "reading 8/8 /fs/scratch/PCON0003/warner785/bwarner/gold_cat/GOLD_STRIPE82/Y1A1_GOLD_STRIPE82_v2_000004.fits\n",
      "change reddening corrections from SLR to SFD98\n",
      "Removing SLR Shift \n",
      "  removing SLR from  MAG_MODEL\n",
      "  removing SLR from  MAG_DETMODEL\n",
      "  removing SLR from  MAG_AUTO\n",
      "Adding SFD98 Shift \n",
      "Bands : ['G', 'R', 'I', 'Z']\n",
      "coefficients =  [3.186, 2.14, 1.569, 1.196]\n",
      "  Adding SFD to  MAG_MODEL\n",
      "  Adding SFD to  MAG_DETMODEL\n",
      "  Adding SFD to  MAG_AUTO\n",
      "CHECK input catalog has only galaxies\n",
      "694475\n"
     ]
    }
   ],
   "source": [
    "#read in gold catalogs here:\n",
    "##ST82 REGION catalog:\n",
    "\n",
    "train_path = '/fs/scratch/PCON0003/warner785/bwarner/gold_cat/GOLD_STRIPE82/'\n",
    "path =  train_path\n",
    "train_keyword = 'Y1A1_GOLD_STRIPE82_v2'\n",
    "    \n",
    "columns = ['FLAGS_GOLD', 'FLAGS_BADREGION', 'MAG_MODEL_G', 'MAG_MODEL_R', 'MAG_MODEL_I', 'MAG_MODEL_Z',\\\n",
    "               'MAG_DETMODEL_G', 'MAG_DETMODEL_R', 'MAG_DETMODEL_I', 'MAG_DETMODEL_Z', 'MAGERR_DETMODEL_G',\\\n",
    "               'MAGERR_DETMODEL_R', 'MAGERR_DETMODEL_I', 'MAGERR_DETMODEL_Z', 'MAGERR_MODEL_G', 'MAGERR_MODEL_R',\\\n",
    "               'MAGERR_MODEL_I', 'MAGERR_MODEL_Z', 'MAG_AUTO_G', 'MAG_AUTO_R', 'MAG_AUTO_I', 'MAG_AUTO_Z', 'RA',\\\n",
    "               'DEC', 'COADD_OBJECTS_ID', 'MODEST_CLASS', 'HPIX', 'DESDM_ZP',\\\n",
    "               'SLR_SHIFT_G', 'SLR_SHIFT_R', 'SLR_SHIFT_I', 'SLR_SHIFT_Z', 'SLR_SHIFT_Y', 'EBV']\n",
    "\n",
    "gold_st82 = io.SearchAndCallFits(path = train_path, columns = columns, keyword = train_keyword )\n",
    "gold_st82 = gold_st82[(gold_st82['MODEST_CLASS'] == 1)&(gold_st82['FLAGS_GOLD'] == 0 )]\n",
    "\n",
    "gold_st82 = keepGoodRegion(gold_st82)\n",
    "    \n",
    "def RemovingSLRReddening(cat):\n",
    "\n",
    "\n",
    "    if 'SLR_SHIFT_G' not in cat.dtype.names : \n",
    "        import numpy.lib.recfunctions as rf   \n",
    "        #from suchyta_utils.y1a1_slr_shiftmap import SLRShift\n",
    "        from y1a1_slr_shiftmap import SLRShift\n",
    "        zpfile = '/fs/scratch/PCON0003/warner785/bwarner/y1a1_wide_slr_wavg_zpshift2.fit'\n",
    "        slrshift = SLRShift(zpfile, fill_periphery=True)\n",
    "        offsets_g = slrshift.get_zeropoint_offset('g',cat['RA'],cat['DEC'],interpolate=True)\n",
    "        offsets_r = slrshift.get_zeropoint_offset('r',cat['RA'],cat['DEC'],interpolate=True)\n",
    "        offsets_i = slrshift.get_zeropoint_offset('i',cat['RA'],cat['DEC'],interpolate=True)\n",
    "        offsets_z = slrshift.get_zeropoint_offset('z',cat['RA'],cat['DEC'],interpolate=True)\n",
    "\n",
    "        offsets = [ offsets_g, offsets_r, offsets_i, offsets_z  ]\n",
    "        from pandas import DataFrame, concat\n",
    "        nametag = ['SLR_SHIFT_'+f for f in ['G', 'R', 'I', 'Z'] ]\n",
    "        catnametag = cat.dtype.names\n",
    "        try : \n",
    "            offsetsdf = DataFrame( offsets, index = nametag ).T\n",
    "            cat = DataFrame(cat, index = catnametag)\n",
    "            #del cat['index']\n",
    "            print('concatenate two ndarrays')\n",
    "            cat = concat([cat, offsetsdf], axis=1)\n",
    "            print('dataframe to recordarray')\n",
    "            cat = cat.to_records()\n",
    "        \n",
    "        except ValueError :\n",
    "            print(\"Big-endian buffer not supported on little-endian compiler\")\n",
    "            print(\"Doing byte swapping\")\n",
    "            \n",
    "            #offsetsdf = np.array(offsetsdf).byteswap().newbyteorder()\n",
    "            cat = np.array(cat).byteswap().newbyteorder()\n",
    "            offsetsdf = DataFrame( offsets, index = nametag ).T\n",
    "            cat = DataFrame(cat)\n",
    "\n",
    "            print('concatenate two ndarrays')\n",
    "            cat = concat([cat, offsetsdf], axis=1)\n",
    "            print('dataframe to recordarray')\n",
    "            cat = cat.to_records()\n",
    "            cat.dtype.names = [str(x) for x in cat.dtype.names]\n",
    "            \n",
    "            #matched = pd.merge(desData, goldData, on=key, how=how, suffixes = suffixes, left_index=left_index)\n",
    "\n",
    "\n",
    "    print('Removing SLR Shift ')\n",
    "    for mag in ['MAG_MODEL', 'MAG_DETMODEL', 'MAG_AUTO']:\n",
    "        print('  removing SLR from ', mag)\n",
    "        for b in ['G', 'R', 'I', 'Z']:\n",
    "            cat[mag + '_'+b] = cat[mag + '_'+b] - cat['SLR_SHIFT'+ '_'+b]\n",
    "\n",
    "    \"\"\"\n",
    "    cat = rf.append_fields(cat, 'SLR_SHIFT_G', offsets_g)\n",
    "    cat = rf.append_fields(cat, 'SLR_SHIFT_R', offsets_r)\n",
    "    cat = rf.append_fields(cat, 'SLR_SHIFT_I', offsets_i)\n",
    "    cat = rf.append_fields(cat, 'SLR_SHIFT_Z', offsets_z)\n",
    "    \"\"\"\n",
    "    return cat\n",
    "\n",
    "def AddingSFD98Reddening(cat, kind='SPT', coeff = [3.186,2.140,1.569,1.196 ] ):\n",
    "    import numpy.lib.recfunctions as rf\n",
    "    import pandas as pd\n",
    "\n",
    "    band = ['G', 'R', 'I', 'Z']\n",
    "\n",
    "    if 'EBV' not in cat.dtype.names :   \n",
    "     \n",
    "        print('Using SFD98 nside 4096 healpix map')\n",
    "        print('Bands :',  band)\n",
    "        #print 'NSIDE = 4096'\n",
    "        print('coefficients = ', coeff)\n",
    "        nside = 4096\n",
    "\n",
    "        #from suchyta_utils.y1a1_slr_shiftmap import SLRShift\n",
    "        #sfdfile = '/n/des/lee.5922/data/systematic_maps/y1a1_wide_slr_wavg_zpshift2.fit'\n",
    "        mapname = '/fs/scratch/PCON0003/warner785/bwarner/ebv_sfd98_fullres_nside_4096_nest_equatorial.fits'\n",
    "        #mapname = '/n/des/lee.5922/data/systematic_maps/ebv_lenz17_nside_4096_nest_equatorial.fits'\n",
    "        reddening_ring = hp.read_map(mapname)\n",
    "        hpIndices = np.arange(reddening_ring.size)\n",
    "        #goodmask = hp.mask_good(reddening_ring)\n",
    "        #goldmask = \n",
    "\n",
    "        goodIndices = hpIndices #hpIndices[goodmask]\n",
    "        clean_map = reddening_ring #reddening_ring[goodmask]\n",
    "\n",
    "        sysMap = np.zeros((clean_map.size, ), dtype=[('PIXEL', 'i4'), ('EBV', 'f8'), ('RA', 'f8'), ('DEC', 'f8')])\n",
    "        sysMap['PIXEL'] = goodIndices\n",
    "        sysMap['EBV'] = clean_map\n",
    "        \n",
    "        sys_ra, sys_dec = hpHEALPixelToRaDec(goodIndices, nside = nside)\n",
    "        sysMap['RA'] = sys_ra\n",
    "        sysMap['DEC'] = sys_dec\n",
    "\n",
    "        from cmass_modules.Cuts import keepGoodRegion\n",
    "        sysMap = keepGoodRegion(sysMap)\n",
    "        if kind is 'STRIPE82': sysMap = sysMap[sysMap['DEC'] > -30]\n",
    "        elif kind is 'SPT': sysMap = sysMap[sysMap['DEC'] < -30]\n",
    "\n",
    "\n",
    "        cat_hp = cat\n",
    "        hpind = hpRaDecToHEALPixel(cat_hp['RA'], cat_hp['DEC'], nside= 4096, nest= False)\n",
    "        #cat_hp.dtype.names = [str(x) for x in cat_hp.dtype.names]\n",
    "        cat_hp = changeColumnName(cat_hp, name = 'HPIX', rename = 'PIXEL')\n",
    "        cat_hp['PIXEL'] = hpind\n",
    "        \n",
    "        #sfdmap = changeColumnName( sysMap_ge, name = 'SIGNAL', rename = 'SFD98' )\n",
    "\n",
    "\n",
    "        try : \n",
    "\n",
    "            cat_Data = pd.DataFrame(cat_hp)\n",
    "            sfdData = pd.DataFrame(sysMap)\n",
    "            matched = pd.merge(cat_Data, sfdData, on='PIXEL', how='left', \n",
    "                               suffixes = ['','_sys'], left_index=False, right_index=False)\n",
    "        except ValueError :\n",
    "            print(\"Big-endian buffer not supported on little-endian compiler\")\n",
    "            print(\"Doing byte swapping ....\")\n",
    "\n",
    "            cat_hp = np.array(cat_hp).byteswap().newbyteorder()\n",
    "            #sfdmap = np.array(sfdmap).byteswap().newbyteorder()\n",
    "            cat_Data = pd.DataFrame(cat_hp)\n",
    "            sfdData = pd.DataFrame(sysMap)\n",
    "            \n",
    "\n",
    "            #print cat_Data.keys()\n",
    "            #print sfdData.keys()\n",
    "            matched = pd.merge(cat_Data, sfdData, on='PIXEL', how='left', \n",
    "                               suffixes = ['','_sys'], left_index=False, right_index=False)\n",
    "            \n",
    "        matched_arr = matched.to_records(index=False)\n",
    "        matched_arr.dtype.names = [str(x) for x in matched_arr.dtype.names]\n",
    "\n",
    "\n",
    "    else : matched_arr = cat\n",
    "\n",
    "    print('Adding SFD98 Shift ')\n",
    "    print('Bands :',  band)\n",
    "    print('coefficients = ', coeff)\n",
    "\n",
    "    for mag in ['MAG_MODEL', 'MAG_DETMODEL', 'MAG_AUTO']:\n",
    "        print('  Adding SFD to ', mag)\n",
    "        for i,b in enumerate(band):\n",
    "            matched_arr[mag + '_'+b] = matched_arr[mag + '_'+b] - matched_arr['EBV'] * coeff[i]    \n",
    "\n",
    "    return matched_arr\n",
    "\n",
    "params={'SFD98':True}\n",
    "if 'SFD98' in params : \n",
    "    if params['SFD98'] : \n",
    "        print('change reddening corrections from SLR to SFD98')\n",
    "        gold_st82 = RemovingSLRReddening(gold_st82)\n",
    "        gold_st82 = AddingSFD98Reddening(gold_st82, kind='STRIPE82')\n",
    "\n",
    "# flags and color cut\n",
    "mask_all = priorCut_test(gold_st82)\n",
    "gold_st82 = gold_st82[mask_all]\n",
    "print(gold_st82.size)\n"
   ]
  },
  {
   "cell_type": "code",
   "execution_count": 10,
   "id": "53d84e0a-d392-4078-8737-7825112f3fcd",
   "metadata": {},
   "outputs": [
    {
     "name": "stdout",
     "output_type": "stream",
     "text": [
      "odd 6547  even 6499\n",
      "area odd 5494.855495197509  even 5454.569400227373\n",
      "0.8392936452111668\n",
      "odd 304376  even 305127\n",
      "area odd 255460.8425547941  even 256091.1520823477\n",
      "cmass_fraction even 0.018252545977658307\n"
     ]
    }
   ],
   "source": [
    "healConfig={'out_nside':64, 'nest':True}\n",
    "\n",
    "train_sample = HealPixifyCatalogs(catalog=train_sample, healConfig=healConfig, ratag='RA', dectag = 'DEC')\n",
    "gold_st82 = HealPixifyCatalogs(catalog=gold_st82, healConfig=healConfig, ratag='RA', dectag = 'DEC')\n",
    "\n",
    "#numbers slightly off: odd 6325  even 6314 -- from Su\n",
    "#total healpix number is larger --- proportional to area, therefore larger area --- mask is different-- masking less of region\n",
    "evenmask_train = train_sample['HEALIndex']%2 == 0\n",
    "evenmask = gold_st82['HEALIndex']%2 == 0\n",
    "\n",
    "pixarea = hp.nside2pixarea( 64, degrees = True)\n",
    "print('odd', np.sum(evenmask_train), ' even', np.sum(~evenmask_train))\n",
    "print('area', 'odd', np.sum(evenmask_train)*pixarea, ' even', np.sum(~evenmask_train)*pixarea)\n",
    "print(pixarea)\n",
    "\n",
    "GoldMask_st82_hpix64 = HealPixifyCatalogs(catalog=GoldMask_st82, healConfig=healConfig, ratag='RA', dectag = 'DEC')\n",
    "evenmask_map = GoldMask_st82_hpix64['HEALIndex']%2 == 0\n",
    "\n",
    "#pixarea64 = hp.nside2pixarea( 64, degrees = True)\n",
    "\n",
    "print('odd', np.sum(evenmask_map), ' even', np.sum(~evenmask_map))\n",
    "print('area', 'odd', np.sum(evenmask_map)*pixarea, ' even', np.sum(~evenmask_map)*pixarea)\n",
    "# area odd 62.36836976435403  even 62.522253926354416\n",
    "\n",
    "GoldMask_st82_hpix64.size\n",
    "\n",
    "train_even = train_sample[evenmask_train]\n",
    "train_odd = train_sample[~evenmask_train]\n",
    "gold_st82_even = gold_st82[evenmask]\n",
    "gold_st82_odd = gold_st82[~evenmask]\n",
    "\n",
    "# Directory doesn't exist ---- create \n",
    "# check for error: print statement \n",
    "import os\n",
    "outdir = '../output/validate_NEST/'\n",
    "if os.path.exists(outdir) == False:\n",
    "    os.mkdir(outdir)\n",
    "rootdir2 = '../output/validate_NEST/'\n",
    "\n",
    "fitsio.write(rootdir2+'train_NEST_even.fits', train_even, clobber=True)\n",
    "fitsio.write(rootdir2+'train_NEST_odd.fits', train_odd, clobber=True)\n",
    "\n",
    "fitsio.write(rootdir2+'gold_st82_NEST_even.fits', gold_st82_even, clobber=True)\n",
    "fitsio.write(rootdir2+'gold_st82_NEST_odd.fits', gold_st82_odd, clobber=True)\n",
    "\n",
    "mg1, mg2, _ = esutil.htm.HTM(10).match(train_even['RA'], train_even['DEC'], gold_st82_even['RA'], \\\n",
    "                                     gold_st82_even['DEC'],2./3600, maxmatch=1)\n",
    "cmass_mask_even = np.zeros(gold_st82_even.size, dtype=bool)\n",
    "cmass_mask_even[mg2] = 1\n",
    "clean_cmass_data_des_even, nocmass_even = gold_st82_even[cmass_mask_even], gold_st82_even[~cmass_mask_even]\n",
    "print('cmass_fraction even', clean_cmass_data_des_even.size *1./gold_st82_even.size)\n",
    "fraction_even = clean_cmass_data_des_even.size *1./gold_st82_even.size"
   ]
  },
  {
   "cell_type": "code",
   "execution_count": 11,
   "id": "b7e1bc73-6699-4e4d-98ad-c68ebd662bba",
   "metadata": {},
   "outputs": [
    {
     "name": "stdout",
     "output_type": "stream",
     "text": [
      "cmass_fraction odd 0.01814638969041351\n"
     ]
    }
   ],
   "source": [
    "mg1, mg2, _ = esutil.htm.HTM(10).match(train_odd['RA'], train_odd['DEC'], gold_st82_odd['RA'], \\\n",
    "                                     gold_st82_odd['DEC'],2./3600, maxmatch=1)\n",
    "cmass_mask_odd = np.zeros(gold_st82_odd.size, dtype=bool)\n",
    "cmass_mask_odd[mg2] = 1\n",
    "clean_cmass_data_des_odd, nocmass_odd = gold_st82_odd[cmass_mask_odd], gold_st82_odd[~cmass_mask_odd]\n",
    "print('cmass_fraction odd', clean_cmass_data_des_odd.size *1./gold_st82_odd.size)\n",
    "fraction_odd = clean_cmass_data_des_odd.size *1./gold_st82_odd.size\n",
    "\n",
    "gold_st82 = None\n",
    "train_sample = None\n",
    "\n",
    "import numpy as np\n",
    "nocmass_random_ind = np.random.choice(np.arange(nocmass_even.size), size = int(nocmass_even.size/5))\n",
    "nocmass_random = nocmass_even[nocmass_random_ind] "
   ]
  },
  {
   "cell_type": "code",
   "execution_count": null,
   "id": "d07fc350-d0e2-40f7-a71f-1edc33c71535",
   "metadata": {},
   "outputs": [],
   "source": [
    "#old pickle method (do not run)\n",
    "\n",
    "cmass_pickle = rootdir2+'gold_st82_XD_cmass_NEST_even_new.pkl'\n",
    "clf_cmass_st82=XD_fitting( data = clean_cmass_data_des_even, pickleFileName = cmass_pickle, init_params = None, n_cl = None, n_iter = 5000, tol = 1e-5, verbose = True)\n",
    "\n",
    "no_pickle = rootdir2+'gold_st82_XD_no_NEST_even_20.pkl'\n",
    "#init_pickle = rootdir2+'gold_st82_XD_no_NEST_even.pkl'# '../output/sfd_train_photo_SamPle_nozband_ran10_3/gold_st82_XD_no.pkl'\n",
    "init_pickle = None\n",
    "clf_no_st82 = XD_fitting( data = nocmass_random, pickleFileName = no_pickle , init_params = None, \n",
    "                    n_cl = None, n_iter = 10000, tol = 1e-5, verbose = True)"
   ]
  },
  {
   "cell_type": "code",
   "execution_count": 34,
   "id": "8319ea4c-d331-432a-b8af-006bf03c0f17",
   "metadata": {},
   "outputs": [
    {
     "name": "stdout",
     "output_type": "stream",
     "text": [
      "6325\n"
     ]
    }
   ],
   "source": [
    "print(clean_cmass_data_des_even.size)"
   ]
  },
  {
   "cell_type": "code",
   "execution_count": 13,
   "id": "79814ffa-992e-4797-a236-f631afecec0a",
   "metadata": {},
   "outputs": [],
   "source": [
    "# number of gaussian mixtures\n",
    "# Set None for a initial run. The algorithm automatically finds an optimal number\n",
    "n_gold = None \n",
    "\n",
    "# number of XD iteration. \n",
    "# I set these numbers small for a fast run but generally\n",
    "# should be run until the XD algorithm converges (more than 10000 iterations)\n",
    "n_iter_gold = 10000\n",
    "# tolerance\n",
    "tol = 1E-5\n",
    "\n",
    "# Fitted parameters and covariance will be stored as a pickle\n",
    "outdir = 'output/test/fitting/'\n",
    "os.makedirs(outdir, exist_ok=True)\n",
    "gold_xd_bovy_filename = outdir+'gauss_gold_bovySET.xdgmm'"
   ]
  },
  {
   "cell_type": "code",
   "execution_count": 14,
   "id": "18a51919-2757-4508-ae0a-2321e92aec4b",
   "metadata": {},
   "outputs": [],
   "source": [
    "# Magnitudes and corresponding errors you want to use to train the algorithm. \n",
    "# `mixing_color` automatically constructs [mag g, mag r, color (g-r), color (r-i)] and \n",
    "# its 4x4 covariance matrix from the input magnitudes. \n",
    "# I simply put `SOF_CM_MAG_CORRECTED` magnitudes for now. \n",
    "# If you want to use different combinations of mags and colors, \n",
    "# modify `mixing_color` or build your own function. \n",
    "mag = ['MAG_MODEL', 'MAG_DETMODEL'] \n",
    "err = ['MAGERR_MODEL', 'MAGERR_DETMODEL'] \n",
    "filter = ['G', 'R', 'I']\n",
    "\n",
    "# This generates four columns of gold training sample. order : mag r, mag i, (g-r), (r-i)\n",
    "X_gold, X_gold_cov = mixing_color(clean_cmass_data_des_even, \n",
    "                mag = mag, err=err, filter=filter, \n",
    "                no_zband = True )"
   ]
  },
  {
   "cell_type": "code",
   "execution_count": 15,
   "id": "172e37b2-765d-4968-bb88-59517d81912c",
   "metadata": {},
   "outputs": [
    {
     "name": "stdout",
     "output_type": "stream",
     "text": [
      "@pickle_results: computing results and saving to 'output/test/fitting/gauss_gold_bovySET.xdgmm.n_cluster'\n",
      "Finding optimal number of cluster : 100 % \n",
      "best fit converged: True  n_components =  8\n"
     ]
    }
   ],
   "source": [
    "# Determine the best number of Gaussian Mixtures to use \n",
    "# You might not need this function as this is already included in XDnew_fitting_X()\n",
    "n_cl_gold,_,_= _FindOptimalN_with_err( np.arange(2, 50, 2), X_gold, None, \n",
    "            pickleFileName = gold_xd_bovy_filename+'.n_cluster' , suffix = '')\n",
    "\n",
    "#n_cl_gold = None"
   ]
  },
  {
   "cell_type": "code",
   "execution_count": 16,
   "id": "fb20efcb-e153-4c51-9bc2-c9b3ba735ee8",
   "metadata": {},
   "outputs": [
    {
     "name": "stdout",
     "output_type": "stream",
     "text": [
      "n_components= 8\n",
      "fitting started. This will take for a while.\n"
     ]
    },
    {
     "name": "stderr",
     "output_type": "stream",
     "text": [
      "/users/PCON0003/warner785/.conda/envs/DES_env/lib/python3.7/site-packages/sklearn/mixture/_base.py:282: ConvergenceWarning: Initialization 1 did not converge. Try different init parameters, or increase max_iter, tol or check for degenerate data.\n",
      "  ConvergenceWarning,\n"
     ]
    },
    {
     "name": "stdout",
     "output_type": "stream",
     "text": [
      "fitting finished\n",
      "saving xdgmm object to..  output/test/fitting/gauss_gold_bovySET.xdgmm\n",
      "file saved\n"
     ]
    }
   ],
   "source": [
    "# Fitting start with Bovy's method\n",
    "clf_gold = XDnew_fitting_X( X_gold, X_gold_cov, FileName = gold_xd_bovy_filename, \n",
    "                    n_cl = 8, n_iter = n_iter_gold, tol = tol, method='Bovy')"
   ]
  },
  {
   "cell_type": "code",
   "execution_count": 17,
   "id": "11dc2370-2bf3-46c1-8b97-03fe6189da52",
   "metadata": {},
   "outputs": [],
   "source": [
    "#Next: noncmass data\n",
    "\n",
    "# number of gaussian mixtures\n",
    "# Set None for a initial run. The algorithm automatically finds an optimal number\n",
    "n_nogold = None \n",
    "\n",
    "# number of XD iteration. \n",
    "# I set these numbers small for a fast run but generally\n",
    "# should be run until the XD algorithm converges (more than 10000 iterations)\n",
    "n_iter_nogold = 15000\n",
    "# tolerance\n",
    "tol = 1E-5\n",
    "\n",
    "# Fitted parameters and covariance will be stored as a pickle\n",
    "outdir = 'output/test/fitting/'\n",
    "os.makedirs(outdir, exist_ok=True)\n",
    "gold_xd_bovy_filename = outdir+'gauss_nogold_bovySET.xdgmm'"
   ]
  },
  {
   "cell_type": "code",
   "execution_count": 18,
   "id": "7a6b9008-d5e3-4e26-8d78-8c3aa72a9577",
   "metadata": {},
   "outputs": [],
   "source": [
    "# Magnitudes and corresponding errors you want to use to train the algorithm. \n",
    "# `mixing_color` automatically constructs [mag g, mag r, color (g-r), color (r-i)] and \n",
    "# its 4x4 covariance matrix from the input magnitudes. \n",
    "# I simply put `SOF_CM_MAG_CORRECTED` magnitudes for now. \n",
    "# If you want to use different combinations of mags and colors, \n",
    "# modify `mixing_color` or build your own function. \n",
    "mag = ['MAG_MODEL', 'MAG_DETMODEL'] \n",
    "err = ['MAGERR_MODEL', 'MAGERR_DETMODEL'] \n",
    "filter = ['G', 'R', 'I']\n",
    "\n",
    "# This generates four columns of gold training sample. order : mag r, mag i, (g-r), (r-i)\n",
    "X_nogold, X_nogold_cov = mixing_color(nocmass_random, \n",
    "                mag = mag, err=err, filter=filter, \n",
    "                no_zband = True )"
   ]
  },
  {
   "cell_type": "code",
   "execution_count": 19,
   "id": "a1beee5f-1412-48f5-9318-d74cfc2b3fad",
   "metadata": {},
   "outputs": [
    {
     "name": "stdout",
     "output_type": "stream",
     "text": [
      "@pickle_results: computing results and saving to 'output/test/fitting/gauss_nogold_bovySET.xdgmm.n_cluster'\n",
      "Finding optimal number of cluster : 100 % \n",
      "best fit converged: True  n_components =  26\n"
     ]
    }
   ],
   "source": [
    "# Determine the best number of Gaussian Mixtures to use \n",
    "# You might not need this function as this is already included in XDnew_fitting_X()\n",
    "n_cl_nogold,_,_= _FindOptimalN_with_err( np.arange(2, 50, 2), X_nogold, None, \n",
    "            pickleFileName = gold_xd_bovy_filename+'.n_cluster' , suffix = '')\n",
    "\n",
    "#n_cl_gold = None"
   ]
  },
  {
   "cell_type": "code",
   "execution_count": 20,
   "id": "12feab7d-52c0-4539-b75e-97479b6ffb26",
   "metadata": {},
   "outputs": [
    {
     "name": "stdout",
     "output_type": "stream",
     "text": [
      "n_components= 26\n",
      "fitting started. This will take for a while.\n"
     ]
    },
    {
     "name": "stderr",
     "output_type": "stream",
     "text": [
      "/users/PCON0003/warner785/.conda/envs/DES_env/lib/python3.7/site-packages/sklearn/mixture/_base.py:282: ConvergenceWarning: Initialization 1 did not converge. Try different init parameters, or increase max_iter, tol or check for degenerate data.\n",
      "  ConvergenceWarning,\n"
     ]
    },
    {
     "name": "stdout",
     "output_type": "stream",
     "text": [
      "fitting finished\n",
      "saving xdgmm object to..  output/test/fitting/gauss_nogold_bovySET.xdgmm\n",
      "file saved\n"
     ]
    }
   ],
   "source": [
    "# Fitting start with Bovy's method\n",
    "clf_nogold = XDnew_fitting_X( X_nogold, X_nogold_cov, FileName = gold_xd_bovy_filename, \n",
    "                    n_cl = 26, n_iter = n_iter_gold, tol = tol, method='Bovy')"
   ]
  },
  {
   "cell_type": "code",
   "execution_count": null,
   "id": "bea78bd9-7681-4a01-8fa5-aa4c3735b0e1",
   "metadata": {},
   "outputs": [],
   "source": [
    "# testing figure 3"
   ]
  },
  {
   "cell_type": "code",
   "execution_count": 21,
   "id": "942fe73e-eaeb-4494-a19f-464789d4a30c",
   "metadata": {},
   "outputs": [],
   "source": [
    "#Y1 Data\n",
    "\n",
    "import os, sys\n",
    "import esutil\n",
    "import healpy as hp\n",
    "import numpy as np\n",
    "import fitsio\n",
    "\n",
    "%matplotlib inline\n",
    "\n",
    "%load_ext autoreload\n",
    "%autoreload 2\n",
    "\n",
    "sys.path.append('code_py3/')\n",
    "from cmass_modules import io\n",
    "from utils import matchCatalogsbyPosition, hpHEALPixelToRaDec, HealPixifyCatalogs, spatialcheck\n",
    "from xd import mixing_color, XD_fitting_X, assignCMASSProb, doVisualization_1d\n",
    "from run_DMASS import priorCut_test"
   ]
  },
  {
   "cell_type": "code",
   "execution_count": 22,
   "id": "b8408b34-be7c-4a98-a7f6-8dcf69bec658",
   "metadata": {},
   "outputs": [],
   "source": [
    "# calling map \n",
    "path = '/fs/scratch/PCON0003/warner785/bwarner/'\n",
    "LSSGoldmask = fitsio.read(path+'Y1LSSmask_v2_redlimcut_il22_seeil4.0_4096ring.fits')\n",
    "\n",
    "#GoldMask = callingEliGoldMask()\n",
    "LSSMask = LSSGoldmask\n",
    "GoldMask = LSSGoldmask\n",
    "LSSMask = LSSMask[LSSMask['DEC']>-3.0 ]\n",
    "#GoldMask_st82 = Cuts.SpatialCuts(GoldMask, ra=320, ra2=360, dec=-2, dec2=2)\n",
    "GoldMask_st82 = GoldMask[ GoldMask['DEC'] > -3.0 ]\n",
    "GoldMask_spt = GoldMask[ GoldMask['DEC'] < -3.0 ]\n",
    "#GoldMask_spt = Cuts.SpatialCuts(GoldMask_spt, ra=0, ra2 = 100, dec=-52, dec2 = -48)\n",
    "\n",
    "pixarea = hp.nside2pixarea( 4096, degrees = True)\n",
    "sptnpix = GoldMask_spt['PIXEL'].size #hp.get_map_size( GoldMask_spt['PIXEL'] )\n",
    "st82npix =  GoldMask_st82['PIXEL'].size # hp.get_map_size( GoldMask_st82 )\n",
    "SPTMaparea = pixarea * sptnpix\n",
    "ST82Maparea = pixarea * st82npix"
   ]
  },
  {
   "cell_type": "code",
   "execution_count": 23,
   "id": "881952f9-3933-4f98-9203-81c4f68578e4",
   "metadata": {},
   "outputs": [
    {
     "name": "stdout",
     "output_type": "stream",
     "text": [
      "\n",
      "Calling catalogs >>>\n",
      "Y1A1_GOLD_STRIPE82_v2_000006.fits\n",
      "Y1A1_GOLD_STRIPE82_v2_000005.fits\n",
      "Y1A1_GOLD_STRIPE82_v2_000002.fits\n",
      "Y1A1_GOLD_STRIPE82_v2_000008.fits\n",
      "Y1A1_GOLD_STRIPE82_v2_000003.fits\n",
      "Y1A1_GOLD_STRIPE82_v2_000001.fits\n",
      "Y1A1_GOLD_STRIPE82_v2_000007.fits\n",
      "Y1A1_GOLD_STRIPE82_v2_000004.fits\n",
      "reading 1/8 /fs/scratch/PCON0003/warner785/bwarner/gold_cat/GOLD_STRIPE82/Y1A1_GOLD_STRIPE82_v2_000006.fits\n",
      "reading 2/8 /fs/scratch/PCON0003/warner785/bwarner/gold_cat/GOLD_STRIPE82/Y1A1_GOLD_STRIPE82_v2_000005.fits\n",
      "reading 3/8 /fs/scratch/PCON0003/warner785/bwarner/gold_cat/GOLD_STRIPE82/Y1A1_GOLD_STRIPE82_v2_000002.fits\n",
      "reading 4/8 /fs/scratch/PCON0003/warner785/bwarner/gold_cat/GOLD_STRIPE82/Y1A1_GOLD_STRIPE82_v2_000008.fits\n",
      "reading 5/8 /fs/scratch/PCON0003/warner785/bwarner/gold_cat/GOLD_STRIPE82/Y1A1_GOLD_STRIPE82_v2_000003.fits\n",
      "reading 6/8 /fs/scratch/PCON0003/warner785/bwarner/gold_cat/GOLD_STRIPE82/Y1A1_GOLD_STRIPE82_v2_000001.fits\n",
      "reading 7/8 /fs/scratch/PCON0003/warner785/bwarner/gold_cat/GOLD_STRIPE82/Y1A1_GOLD_STRIPE82_v2_000007.fits\n",
      "reading 8/8 /fs/scratch/PCON0003/warner785/bwarner/gold_cat/GOLD_STRIPE82/Y1A1_GOLD_STRIPE82_v2_000004.fits\n",
      "change reddening corrections from SLR to SFD98\n",
      "Removing SLR Shift \n",
      "  removing SLR from  MAG_MODEL\n",
      "  removing SLR from  MAG_DETMODEL\n",
      "  removing SLR from  MAG_AUTO\n",
      "Adding SFD98 Shift \n",
      "Bands : ['G', 'R', 'I', 'Z']\n",
      "coefficients =  [3.186, 2.14, 1.569, 1.196]\n",
      "  Adding SFD to  MAG_MODEL\n",
      "  Adding SFD to  MAG_DETMODEL\n",
      "  Adding SFD to  MAG_AUTO\n",
      "CHECK input catalog has only galaxies\n",
      "943599\n"
     ]
    }
   ],
   "source": [
    "#read in gold catalogs here:\n",
    "##ST82 REGION catalog:\n",
    "\n",
    "train_path = '/fs/scratch/PCON0003/warner785/bwarner/gold_cat/GOLD_STRIPE82/'\n",
    "path =  train_path\n",
    "train_keyword = 'Y1A1_GOLD_STRIPE82_v2'\n",
    "    \n",
    "columns = ['FLAGS_GOLD', 'FLAGS_BADREGION', 'MAG_MODEL_G', 'MAG_MODEL_R', 'MAG_MODEL_I', 'MAG_MODEL_Z',\\\n",
    "               'MAG_DETMODEL_G', 'MAG_DETMODEL_R', 'MAG_DETMODEL_I', 'MAG_DETMODEL_Z', 'MAGERR_DETMODEL_G',\\\n",
    "               'MAGERR_DETMODEL_R', 'MAGERR_DETMODEL_I', 'MAGERR_DETMODEL_Z', 'MAGERR_MODEL_G', 'MAGERR_MODEL_R',\\\n",
    "               'MAGERR_MODEL_I', 'MAGERR_MODEL_Z', 'MAG_AUTO_G', 'MAG_AUTO_R', 'MAG_AUTO_I', 'MAG_AUTO_Z', 'RA',\\\n",
    "               'DEC', 'COADD_OBJECTS_ID', 'MODEST_CLASS', 'HPIX', 'DESDM_ZP',\\\n",
    "               'SLR_SHIFT_G', 'SLR_SHIFT_R', 'SLR_SHIFT_I', 'SLR_SHIFT_Z', 'SLR_SHIFT_Y', 'EBV']\n",
    "\n",
    "gold_st82 = io.SearchAndCallFits(path = train_path, columns = columns, keyword = train_keyword )\n",
    "gold_st82 = gold_st82[(gold_st82['MODEST_CLASS'] == 1)&(gold_st82['FLAGS_GOLD'] == 0 )]\n",
    "    \n",
    "def RemovingSLRReddening(cat):\n",
    "\n",
    "\n",
    "    if 'SLR_SHIFT_G' not in cat.dtype.names : \n",
    "        import numpy.lib.recfunctions as rf   \n",
    "        #from suchyta_utils.y1a1_slr_shiftmap import SLRShift\n",
    "        from y1a1_slr_shiftmap import SLRShift\n",
    "        zpfile = '/fs/scratch/PCON0003/warner785/bwarner/y1a1_wide_slr_wavg_zpshift2.fit'\n",
    "        slrshift = SLRShift(zpfile, fill_periphery=True)\n",
    "        offsets_g = slrshift.get_zeropoint_offset('g',cat['RA'],cat['DEC'],interpolate=True)\n",
    "        offsets_r = slrshift.get_zeropoint_offset('r',cat['RA'],cat['DEC'],interpolate=True)\n",
    "        offsets_i = slrshift.get_zeropoint_offset('i',cat['RA'],cat['DEC'],interpolate=True)\n",
    "        offsets_z = slrshift.get_zeropoint_offset('z',cat['RA'],cat['DEC'],interpolate=True)\n",
    "\n",
    "        offsets = [ offsets_g, offsets_r, offsets_i, offsets_z  ]\n",
    "        from pandas import DataFrame, concat\n",
    "        nametag = ['SLR_SHIFT_'+f for f in ['G', 'R', 'I', 'Z'] ]\n",
    "        catnametag = cat.dtype.names\n",
    "        try : \n",
    "            offsetsdf = DataFrame( offsets, index = nametag ).T\n",
    "            cat = DataFrame(cat, index = catnametag)\n",
    "            #del cat['index']\n",
    "            print('concatenate two ndarrays')\n",
    "            cat = concat([cat, offsetsdf], axis=1)\n",
    "            print('dataframe to recordarray')\n",
    "            cat = cat.to_records()\n",
    "        \n",
    "        except ValueError :\n",
    "            print(\"Big-endian buffer not supported on little-endian compiler\")\n",
    "            print(\"Doing byte swapping\")\n",
    "            \n",
    "            #offsetsdf = np.array(offsetsdf).byteswap().newbyteorder()\n",
    "            cat = np.array(cat).byteswap().newbyteorder()\n",
    "            offsetsdf = DataFrame( offsets, index = nametag ).T\n",
    "            cat = DataFrame(cat)\n",
    "\n",
    "            print('concatenate two ndarrays')\n",
    "            cat = concat([cat, offsetsdf], axis=1)\n",
    "            print('dataframe to recordarray')\n",
    "            cat = cat.to_records()\n",
    "            cat.dtype.names = [str(x) for x in cat.dtype.names]\n",
    "            \n",
    "            #matched = pd.merge(desData, goldData, on=key, how=how, suffixes = suffixes, left_index=left_index)\n",
    "\n",
    "\n",
    "    print('Removing SLR Shift ')\n",
    "    for mag in ['MAG_MODEL', 'MAG_DETMODEL', 'MAG_AUTO']:\n",
    "        print('  removing SLR from ', mag)\n",
    "        for b in ['G', 'R', 'I', 'Z']:\n",
    "            cat[mag + '_'+b] = cat[mag + '_'+b] - cat['SLR_SHIFT'+ '_'+b]\n",
    "\n",
    "    \"\"\"\n",
    "    cat = rf.append_fields(cat, 'SLR_SHIFT_G', offsets_g)\n",
    "    cat = rf.append_fields(cat, 'SLR_SHIFT_R', offsets_r)\n",
    "    cat = rf.append_fields(cat, 'SLR_SHIFT_I', offsets_i)\n",
    "    cat = rf.append_fields(cat, 'SLR_SHIFT_Z', offsets_z)\n",
    "    \"\"\"\n",
    "    return cat\n",
    "\n",
    "def AddingSFD98Reddening(cat, kind='SPT', coeff = [3.186,2.140,1.569,1.196 ] ):\n",
    "    import numpy.lib.recfunctions as rf\n",
    "    import pandas as pd\n",
    "\n",
    "    band = ['G', 'R', 'I', 'Z']\n",
    "\n",
    "    if 'EBV' not in cat.dtype.names :   \n",
    "     \n",
    "        print('Using SFD98 nside 4096 healpix map')\n",
    "        print('Bands :',  band)\n",
    "        #print 'NSIDE = 4096'\n",
    "        print('coefficients = ', coeff)\n",
    "        nside = 4096\n",
    "\n",
    "        #from suchyta_utils.y1a1_slr_shiftmap import SLRShift\n",
    "        #sfdfile = '/n/des/lee.5922/data/systematic_maps/y1a1_wide_slr_wavg_zpshift2.fit'\n",
    "        mapname = '/fs/scratch/PCON0003/warner785/bwarner/ebv_sfd98_fullres_nside_4096_nest_equatorial.fits'\n",
    "        #mapname = '/n/des/lee.5922/data/systematic_maps/ebv_lenz17_nside_4096_nest_equatorial.fits'\n",
    "        reddening_ring = hp.read_map(mapname)\n",
    "        hpIndices = np.arange(reddening_ring.size)\n",
    "        #goodmask = hp.mask_good(reddening_ring)\n",
    "        #goldmask = \n",
    "\n",
    "        goodIndices = hpIndices #hpIndices[goodmask]\n",
    "        clean_map = reddening_ring #reddening_ring[goodmask]\n",
    "\n",
    "        sysMap = np.zeros((clean_map.size, ), dtype=[('PIXEL', 'i4'), ('EBV', 'f8'), ('RA', 'f8'), ('DEC', 'f8')])\n",
    "        sysMap['PIXEL'] = goodIndices\n",
    "        sysMap['EBV'] = clean_map\n",
    "        \n",
    "        sys_ra, sys_dec = hpHEALPixelToRaDec(goodIndices, nside = nside)\n",
    "        sysMap['RA'] = sys_ra\n",
    "        sysMap['DEC'] = sys_dec\n",
    "\n",
    "        from cmass_modules.Cuts import keepGoodRegion\n",
    "        sysMap = keepGoodRegion(sysMap)\n",
    "        if kind is 'STRIPE82': sysMap = sysMap[sysMap['DEC'] > -30]\n",
    "        elif kind is 'SPT': sysMap = sysMap[sysMap['DEC'] < -30]\n",
    "\n",
    "\n",
    "        cat_hp = cat\n",
    "        hpind = hpRaDecToHEALPixel(cat_hp['RA'], cat_hp['DEC'], nside= 4096, nest= False)\n",
    "        #cat_hp.dtype.names = [str(x) for x in cat_hp.dtype.names]\n",
    "        cat_hp = changeColumnName(cat_hp, name = 'HPIX', rename = 'PIXEL')\n",
    "        cat_hp['PIXEL'] = hpind\n",
    "        \n",
    "        #sfdmap = changeColumnName( sysMap_ge, name = 'SIGNAL', rename = 'SFD98' )\n",
    "\n",
    "\n",
    "        try : \n",
    "\n",
    "            cat_Data = pd.DataFrame(cat_hp)\n",
    "            sfdData = pd.DataFrame(sysMap)\n",
    "            matched = pd.merge(cat_Data, sfdData, on='PIXEL', how='left', \n",
    "                               suffixes = ['','_sys'], left_index=False, right_index=False)\n",
    "        except ValueError :\n",
    "            print(\"Big-endian buffer not supported on little-endian compiler\")\n",
    "            print(\"Doing byte swapping ....\")\n",
    "\n",
    "            cat_hp = np.array(cat_hp).byteswap().newbyteorder()\n",
    "            #sfdmap = np.array(sfdmap).byteswap().newbyteorder()\n",
    "            cat_Data = pd.DataFrame(cat_hp)\n",
    "            sfdData = pd.DataFrame(sysMap)\n",
    "            \n",
    "\n",
    "            #print cat_Data.keys()\n",
    "            #print sfdData.keys()\n",
    "            matched = pd.merge(cat_Data, sfdData, on='PIXEL', how='left', \n",
    "                               suffixes = ['','_sys'], left_index=False, right_index=False)\n",
    "            \n",
    "        matched_arr = matched.to_records(index=False)\n",
    "        matched_arr.dtype.names = [str(x) for x in matched_arr.dtype.names]\n",
    "\n",
    "\n",
    "    else : matched_arr = cat\n",
    "\n",
    "    print('Adding SFD98 Shift ')\n",
    "    print('Bands :',  band)\n",
    "    print('coefficients = ', coeff)\n",
    "\n",
    "    for mag in ['MAG_MODEL', 'MAG_DETMODEL', 'MAG_AUTO']:\n",
    "        print('  Adding SFD to ', mag)\n",
    "        for i,b in enumerate(band):\n",
    "            matched_arr[mag + '_'+b] = matched_arr[mag + '_'+b] - matched_arr['EBV'] * coeff[i]    \n",
    "\n",
    "    return matched_arr\n",
    "\n",
    "params={'SFD98':True}\n",
    "if 'SFD98' in params : \n",
    "    if params['SFD98'] : \n",
    "        print('change reddening corrections from SLR to SFD98')\n",
    "        gold_st82 = RemovingSLRReddening(gold_st82)\n",
    "        gold_st82 = AddingSFD98Reddening(gold_st82, kind='STRIPE82')\n",
    "\n",
    "# flags and color cut\n",
    "mask_all = priorCut_test(gold_st82)\n",
    "gold_st82 = gold_st82[mask_all]\n",
    "print(gold_st82.size)"
   ]
  },
  {
   "cell_type": "code",
   "execution_count": 24,
   "id": "94c620d6-2e0b-4197-803e-752a74086b17",
   "metadata": {},
   "outputs": [],
   "source": [
    "#implement Cuts.keepgoodregion:\n",
    "\n",
    "def keepGoodRegion(des, hpInd = False, balrog=None):\n",
    "    import healpy as hp\n",
    "    import fitsio\n",
    "    # 25 is the faintest object detected by DES\n",
    "    # objects larger than 25 considered as Noise\n",
    "    \n",
    "    path = '/fs/scratch/PCON0003/warner785/bwarner/'\n",
    "    #LSSGoldmask = fitsio.read(path+'Y1LSSmask_v2_il22_seeil4.0_nside4096ring_redlimcut.fits')\n",
    "    #LSSGoldmask = fitsio.read(path+'Y1LSSmask_v1_il22seeil4.04096ring_redlimcut.fits')\n",
    "    LSSGoldmask = fitsio.read(path+'Y1LSSmask_v2_redlimcut_il22_seeil4.0_4096ring.fits')\n",
    "    #Y1LSSmask_v1_il22seeil4.04096ring_redlimcut.fits\n",
    "    #frac_cut = LSSGoldmask['FRAC'] > 0.8\n",
    "    #ind_good_ring = LSSGoldmask['PIXEL'][frac_cut]\n",
    "    ind_good_ring = LSSGoldmask['PIXEL']\n",
    "    \n",
    "    # healpixify the catalog.\n",
    "    nside=4096\n",
    "    # Convert silly ra/dec to silly HP angular coordinates.\n",
    "    phi = des['RA'] * np.pi / 180.0\n",
    "    theta = ( 90.0 - des['DEC'] ) * np.pi/180.0\n",
    "\n",
    "    hpInd = hp.ang2pix(nside,theta,phi,nest=False)\n",
    "    keep = np.in1d(hpInd, ind_good_ring)\n",
    "    des = des[keep]\n",
    "    if hpInd is True:\n",
    "        return ind_good_ring\n",
    "    else:\n",
    "        return des\n",
    "    \n",
    "gold_st82 = keepGoodRegion(gold_st82)\n",
    "#print(gold_st82.size)\n",
    "\n",
    "#gold_spt = keepGoodRegion(gold_spt)\n",
    "#print(gold_spt.size)"
   ]
  },
  {
   "cell_type": "code",
   "execution_count": 25,
   "id": "7bd4fe67-bce4-4f88-81d9-e25b5b58ed66",
   "metadata": {},
   "outputs": [
    {
     "name": "stdout",
     "output_type": "stream",
     "text": [
      "total num of train 258884\n",
      "\n",
      "--------------------------------\n",
      " applying DES veto mask to CMASS\n",
      "--------------------------------\n",
      "num of train_sample after des veto 13046\n",
      "681836\n",
      "('num of cmass in des side', 12639, '(5%)')\n"
     ]
    }
   ],
   "source": [
    "#cmass catalog\n",
    "\n",
    "import fitsio\n",
    "cmass = esutil.io.read('/fs/scratch/PCON0003/warner785/bwarner/cmass-dr12v4-S-Reid-full.dat.fits')\n",
    "train_sample = esutil.io.read('/fs/scratch/PCON0003/warner785/bwarner/cmass-dr12v4-S-Reid-full.dat.fits')\n",
    "#train_sample = esutil.io.read('/global/cscratch1/sd/bwarner/galaxy_DR11v1_CMASS_South-photoObj.fits.gz')\n",
    "print('total num of train', train_sample.size)\n",
    "print('\\n--------------------------------\\n applying DES veto mask to CMASS\\n--------------------------------')   \n",
    "train_sample = keepGoodRegion(train_sample)\n",
    "\n",
    "#fitsio.write( output_dir+'/cmass_in_st82.fits', train_sample)\n",
    "\n",
    "print('num of train_sample after des veto', train_sample.size)\n",
    "\n",
    "#matching:\n",
    "# find cmass in des_gold side --------------------\n",
    "\n",
    "mg1, mg2, _ = esutil.htm.HTM(10).match(train_sample['RA'], train_sample['DEC'], gold_st82['RA'], \\\n",
    "                                         gold_st82['DEC'],2./3600, maxmatch=1)\n",
    "cmass_mask = np.zeros(gold_st82.size, dtype=bool)\n",
    "cmass_mask[mg2] = 1\n",
    "clean_cmass_data_des, nocmass = gold_st82[cmass_mask], gold_st82[~cmass_mask]\n",
    "\n",
    "print(nocmass.size)\n",
    "\n",
    "print(('num of cmass in des side', clean_cmass_data_des.size, '({:0.0f}%)'.format(clean_cmass_data_des.size*1./cmass.size*100.)))"
   ]
  },
  {
   "cell_type": "code",
   "execution_count": 26,
   "id": "3b59beda-3165-48fb-a1b0-d49ca21a8d5d",
   "metadata": {},
   "outputs": [
    {
     "name": "stdout",
     "output_type": "stream",
     "text": [
      "0.01819935922819396\n"
     ]
    }
   ],
   "source": [
    "cmass_fraction = clean_cmass_data_des.size *1./gold_st82.size\n",
    "\n",
    "print(cmass_fraction)"
   ]
  },
  {
   "cell_type": "code",
   "execution_count": 27,
   "id": "71e34312-e659-48d7-9b9f-34ca09c9dd87",
   "metadata": {},
   "outputs": [],
   "source": [
    "healConfig={'out_nside':64, 'nest':True}"
   ]
  },
  {
   "cell_type": "code",
   "execution_count": 28,
   "id": "28ee24de-0a28-4137-ae75-0da11d784086",
   "metadata": {},
   "outputs": [
    {
     "name": "stdout",
     "output_type": "stream",
     "text": [
      "odd 6547  even 6499\n",
      "odd 304376  even 305127\n",
      "area odd 62.36836976435403  even 62.522253926354416\n"
     ]
    }
   ],
   "source": [
    "train_sample = HealPixifyCatalogs(catalog=train_sample, healConfig=healConfig, ratag='RA', dectag = 'DEC')\n",
    "gold_st82 = HealPixifyCatalogs(catalog=gold_st82, healConfig=healConfig, ratag='RA', dectag = 'DEC')\n",
    "\n",
    "evenmask_train = train_sample['HEALIndex']%2 == 0\n",
    "evenmask = gold_st82['HEALIndex']%2 == 0\n",
    "\n",
    "print('odd', np.sum(evenmask_train), ' even', np.sum(~evenmask_train))\n",
    "\n",
    "GoldMask_st82_hpix64 = HealPixifyCatalogs(catalog=GoldMask_st82, healConfig=healConfig, ratag='RA', dectag = 'DEC')\n",
    "evenmask_map = GoldMask_st82_hpix64['HEALIndex']%2 == 0\n",
    "\n",
    "#pixarea64 = hp.nside2pixarea( 64, degrees = True)\n",
    "\n",
    "print('odd', np.sum(evenmask_map), ' even', np.sum(~evenmask_map))\n",
    "print('area', 'odd', np.sum(evenmask_map)*pixarea, ' even', np.sum(~evenmask_map)*pixarea)\n",
    "\n",
    "GoldMask_st82_hpix64.size\n",
    "\n",
    "train_even = train_sample[evenmask_train]\n",
    "train_odd = train_sample[~evenmask_train]\n",
    "gold_st82_even = gold_st82[evenmask]\n",
    "gold_st82_odd = gold_st82[~evenmask]  # Validation Region is using Odd Healpix"
   ]
  },
  {
   "cell_type": "code",
   "execution_count": 29,
   "id": "a2856d20-4859-4ae0-9c00-6bd43f4c1aab",
   "metadata": {},
   "outputs": [
    {
     "name": "stdout",
     "output_type": "stream",
     "text": [
      "340202\n",
      "('num of cmass in des side in training', 6325, '(2%)')\n"
     ]
    }
   ],
   "source": [
    "# ODD cmass fraction: use even as validation\n",
    "\n",
    "mg1, mg2, _ = esutil.htm.HTM(10).match(train_sample['RA'], train_sample['DEC'], gold_st82_even['RA'], \\\n",
    "                                         gold_st82_even['DEC'],2./3600, maxmatch=1)\n",
    "cmass_mask = np.zeros(gold_st82_even.size, dtype=bool)\n",
    "cmass_mask[mg2] = 1\n",
    "clean_cmass_data_des_even, nocmass_even = gold_st82_even[cmass_mask], gold_st82_even[~cmass_mask]\n",
    "\n",
    "print(nocmass_even.size)\n",
    "\n",
    "print(('num of cmass in des side in training', clean_cmass_data_des_even.size, '({:0.0f}%)'.format(clean_cmass_data_des_even.size*1./cmass.size*100.)))"
   ]
  },
  {
   "cell_type": "code",
   "execution_count": 30,
   "id": "99520cbd-6566-4ade-bdbe-ece1f952065b",
   "metadata": {},
   "outputs": [
    {
     "name": "stdout",
     "output_type": "stream",
     "text": [
      "341634\n",
      "('num of cmass in des side in training', 6314, '(2%)')\n"
     ]
    }
   ],
   "source": [
    "# EVEN cmass fraction: use odd as validation\n",
    "\n",
    "mg1, mg2, _ = esutil.htm.HTM(10).match(train_sample['RA'], train_sample['DEC'], gold_st82_odd['RA'], \\\n",
    "                                         gold_st82_odd['DEC'],2./3600, maxmatch=1)\n",
    "cmass_mask = np.zeros(gold_st82_odd.size, dtype=bool)\n",
    "cmass_mask[mg2] = 1\n",
    "clean_cmass_data_des_odd, nocmass_odd = gold_st82_odd[cmass_mask], gold_st82_odd[~cmass_mask]\n",
    "\n",
    "print(nocmass_odd.size)\n",
    "\n",
    "print(('num of cmass in des side in training', clean_cmass_data_des_odd.size, '({:0.0f}%)'.format(clean_cmass_data_des_odd.size*1./cmass.size*100.)))"
   ]
  },
  {
   "cell_type": "code",
   "execution_count": 31,
   "id": "fa1ad7cc-001a-43ae-96b3-0eb681d5ce7f",
   "metadata": {},
   "outputs": [
    {
     "name": "stdout",
     "output_type": "stream",
     "text": [
      "0.018252545977658307\n",
      "0.01814638969041351\n"
     ]
    }
   ],
   "source": [
    "cmass_fraction_even = clean_cmass_data_des_even.size *1./gold_st82_even.size\n",
    "cmass_fraction_odd = clean_cmass_data_des_odd.size *1./gold_st82_odd.size\n",
    "\n",
    "print(cmass_fraction_even)\n",
    "print(cmass_fraction_odd)"
   ]
  },
  {
   "cell_type": "code",
   "execution_count": 32,
   "id": "059a073c-8559-493a-8355-ac22477e876b",
   "metadata": {},
   "outputs": [],
   "source": [
    "clf_dmass = clf_gold\n",
    "clf_nodmass = clf_nogold\n",
    "\n",
    "X_sample_dmass = clf_dmass.sample(200000)        # non-cmass model\n",
    "X_sample_nodmass = clf_nodmass.sample(200000)"
   ]
  },
  {
   "cell_type": "code",
   "execution_count": 33,
   "id": "542eff51-b45e-45e5-97d0-2d83794160e7",
   "metadata": {},
   "outputs": [
    {
     "name": "stdout",
     "output_type": "stream",
     "text": [
      "calculate loglikelihood gaussian with multiprocessing module\n",
      "multiprocessing 100 % \n",
      "calculate loglikelihood gaussian with multiprocessing module\n",
      "multiprocessing 100 % \n",
      "pcenter 20\n",
      "pbin = [0.   0.05 0.1  0.15 0.2  0.25 0.3  0.35 0.4  0.45 0.5  0.55 0.6  0.65\n",
      " 0.7  0.75 0.8  0.85 0.9  0.95 1.  ]\n",
      "frac =  [0.00194687 0.0705601  0.12553011 0.17280643 0.22450889 0.26826484\n",
      " 0.35352113 0.36173913 0.40239044 0.47410359 0.52561247 0.57627119\n",
      " 0.6278481  0.65274151 0.70927318 0.72146119 0.78935698 0.84421053\n",
      " 0.89649123 0.91819699]\n",
      "frac.size 20\n",
      "frac err 20\n",
      "[0.03943615 0.0531494  0.05812382 0.06225728 0.06454972 0.06523281\n",
      " 0.06311944 0.06933752 0.07035975 0.06482037 0.06509446 0.06482037\n",
      " 0.06350006 0.06324555 0.05944383 0.0562544  0.05299989 0.04993762\n",
      " 0.0442374  0.04264014]\n"
     ]
    },
    {
     "data": {
      "image/png": "[encoded data removed]",
      "text/plain": [
       "<Figure size 432x288 with 1 Axes>"
      ]
     },
     "metadata": {
      "needs_background": "light"
     },
     "output_type": "display_data"
    },
    {
     "data": {
      "image/png": "[encoded data removed]",
      "text/plain": [
       "<Figure size 432x288 with 1 Axes>"
      ]
     },
     "metadata": {
      "needs_background": "light"
     },
     "output_type": "display_data"
    },
    {
     "data": {
      "image/png": "[encoded data removed]",
      "text/plain": [
       "<Figure size 432x288 with 1 Axes>"
      ]
     },
     "metadata": {
      "needs_background": "light"
     },
     "output_type": "display_data"
    }
   ],
   "source": [
    "# Figure 3 start:\n",
    "%matplotlib inline\n",
    "import matplotlib.pyplot as plt\n",
    "\n",
    "cmass_fraction = clean_cmass_data_des.size *1./gold_st82.size\n",
    "#call in catalogs\n",
    "# Assigning CMASS probabilities to Gold Y1 in Stripe 82.\n",
    "mag = ['MAG_MODEL', 'MAG_DETMODEL'] \n",
    "err = ['MAGERR_MODEL', 'MAGERR_DETMODEL'] \n",
    "filter = ['G', 'R', 'I']\n",
    "\n",
    "clean_dmass_prob = assignCMASSProb(clean_cmass_data_des_odd, clf_dmass, clf_nodmass, \n",
    "                     cmass_fraction =cmass_fraction_even\n",
    ", \n",
    "                     mag=mag, err=err, filter=filter )\n",
    "\n",
    "dmass_st82_real = clean_dmass_prob\n",
    "\n",
    "dmass_st82_val = assignCMASSProb(gold_st82_odd, clf_dmass, clf_nodmass, \n",
    "                     cmass_fraction =cmass_fraction_even\n",
    ", \n",
    "                     mag=mag, err=err, filter=filter )\n",
    "\n",
    "pbin = np.linspace(0, 1, 21)\n",
    "pcenter = pbin[:-1] + 0.025\n",
    "print('pcenter',pcenter.size)\n",
    "N, _ = np.histogram(dmass_st82_real['CMASS_PROB'], bins=pbin) # -- true cmass\n",
    "print('pbin =', pbin)\n",
    "M, _ = np.histogram(dmass_st82_val['CMASS_PROB'], bins=pbin) # -- dmass\n",
    "\n",
    "fig, ax = plt.subplots()\n",
    "ax.hist( dmass_st82_real['CMASS_PROB'], bins= 100)\n",
    "fig, ax = plt.subplots()\n",
    "ax.hist( dmass_st82_val['CMASS_PROB'], bins= 100)\n",
    "\n",
    "#pbin, frac, fracerr = np.genfromtxt('../paper_figure/model_probability.txt', unpack=True)\n",
    "\n",
    "frac = N/M\n",
    "print('frac = ', frac)\n",
    "print('frac.size', frac.size)\n",
    "fracerr = 1/np.sqrt(N) #1 / sqrt(number of true cmass galaxies in each bin)\n",
    "print('frac err', fracerr.size)\n",
    "fig, ax = plt.subplots()\n",
    "ax.errorbar( pcenter, frac, yerr=fracerr)\n",
    "plt.title('Odd Validation Region Check Bovy Y1')\n",
    "print(fracerr)\n",
    "ax.plot([0,1], [0,1], ls='--', color='grey')\n",
    "\n",
    "fig.savefig('test_histo_y1_bovy.pdf')"
   ]
  },
  {
   "cell_type": "code",
   "execution_count": null,
   "id": "331a9c7d-a851-4c20-8128-7f7f42f850cd",
   "metadata": {},
   "outputs": [],
   "source": []
  }
 ],
 "metadata": {
  "kernelspec": {
   "display_name": "Python (DES_env)",
   "language": "python",
   "name": "des_env"
  },
  "language_info": {
   "codemirror_mode": {
    "name": "ipython",
    "version": 3
   },
   "file_extension": ".py",
   "mimetype": "text/x-python",
   "name": "python",
   "nbconvert_exporter": "python",
   "pygments_lexer": "ipython3",
   "version": "3.7.0"
  }
 },
 "nbformat": 4,
 "nbformat_minor": 5
}
