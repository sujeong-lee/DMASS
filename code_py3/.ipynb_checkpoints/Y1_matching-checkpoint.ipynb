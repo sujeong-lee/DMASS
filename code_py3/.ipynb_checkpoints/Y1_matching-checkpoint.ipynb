{
 "cells": [
  {
   "cell_type": "code",
   "execution_count": null,
   "id": "2a7344ce-8193-4367-ae73-636c4914743e",
   "metadata": {},
   "outputs": [],
   "source": [
    "import os, sys, scipy\n",
    "import esutil\n",
    "import healpy as hp\n",
    "import numpy as np\n",
    "%matplotlib inline\n",
    "\n",
    "%load_ext autoreload\n",
    "%autoreload 2"
   ]
  },
  {
   "cell_type": "code",
   "execution_count": null,
   "id": "252199c5-e279-4cf1-8826-15343541c7cc",
   "metadata": {},
   "outputs": [],
   "source": [
    "# call required functions from modules \n",
    "sys.path.append('code_py3/')\n",
    "from cmass_modules import io\n",
    "from utils import matchCatalogsbyPosition, hpHEALPixelToRaDec, HealPixifyCatalogs, spatialcheck\n",
    "from xd import mixing_color, XD_fitting_X, assignCMASSProb, doVisualization_1d\n",
    "from run_DMASS_Y3 import priorCut_test"
   ]
  },
  {
   "cell_type": "code",
   "execution_count": null,
   "id": "02aa31be-5309-4ba4-9957-4d4e385d9660",
   "metadata": {},
   "outputs": [],
   "source": [
    "# Calling Y1 GOLD v2.0 (training)\n",
    "# All catalogs are in the 'input_path' directory \n",
    "# The 'SearchAndCallFits' function below loads all \n",
    "# catalogs in the directory including 'input_keyword' in its name\n",
    "input_path = '/n/des/lee.5922/data/gold_cat/GOLD_STRIPE_82/'\n",
    "# call only first 9 catalogs for a fast run.\n",
    "# to call all catalogs in the directory, use 'Y3_GOLD' as input_keyword \n",
    "# but that will consume huge memory\n",
    "input_keyword = 'Y1A1_GOLD_STRIPE82_v2'  \n",
    "# Columns to call\n",
    "columns =  ['RA', 'DEC', \n",
    "            'HPIX_4096',     # Healpix in ring order, nside=4096\n",
    "            'COADD_OBJECT_ID', \n",
    "            'SOF_CM_MAG_CORRECTED_G', # mag_[griz]\n",
    "            'SOF_CM_MAG_CORRECTED_R',\n",
    "            'SOF_CM_MAG_CORRECTED_I',\n",
    "            'SOF_CM_MAG_CORRECTED_Z',\n",
    "            'SOF_CM_MAG_ERR_G',       # mag error_[griz]\n",
    "            'SOF_CM_MAG_ERR_R',\n",
    "            'SOF_CM_MAG_ERR_I',\n",
    "            'SOF_CM_MAG_ERR_Z']\n",
    "gold_st82 = io.SearchAndCallFits(path = input_path, keyword = input_keyword, columns=columns)\n",
    "\n",
    "# Color/Magnitude cuts to exclude extremely high or low mag/color sources.\n",
    "# 16 < mag_riz < 24, 0 < (r-i) < 1.5, 0 < (g-r) < 2.5\n",
    "# These galaxies are less likeliy to be a CMASS, therefore unnecessary. \n",
    "# We apply these cuts to reduce the sample size to speed up the codes\n",
    "mask_magcut = priorCut_test(gold_st82)\n",
    "gold_st82 = gold_st82[mask_magcut]"
   ]
  },
  {
   "cell_type": "code",
   "execution_count": null,
   "id": "2811de6b-708b-40f0-b6e4-5d158ec38891",
   "metadata": {},
   "outputs": [],
   "source": [
    "# cmass catalog is stored in cosmos machine\n",
    "cmass_filename = '/n/des/lee.5922/data/cmass_cat/cmass-dr12v4-S-Reid-full.dat.fits'\n",
    "cmass = esutil.io.read(cmass_filename)\n",
    "\n",
    "# Add healpix index (nside=4096) to the CMASS catalog\n",
    "healConfig = {'map_inside':4096,\n",
    "              'out_nside':4096,\n",
    "              'nest':False}\n",
    "cmass = HealPixifyCatalogs(catalog=cmass, healConfig=healConfig, ratag='RA', dectag = 'DEC')"
   ]
  },
  {
   "cell_type": "code",
   "execution_count": null,
   "id": "2fa41fc0-59b1-47a7-beb2-df87797d9582",
   "metadata": {},
   "outputs": [],
   "source": [
    "# this function returns indices of common galaxies (CMASS) in each catalog. \n",
    "# mg1: indices of common galaxies in cmass catalog\n",
    "# mg2: indicies of common galaxies in Y3 GOLD catalog \n",
    "mg1, mg2, _ = esutil.htm.HTM(10).match(cmass['RA'], cmass['DEC'], gold_st82['RA'], \\\n",
    "                                     gold_st82['DEC'],2./3600, maxmatch=1)\n",
    "# Apply indices to each catalog to select common galaxies. \n",
    "# Selected galaxies are then ordered in the same way. \n",
    "# (i.e clean_cmass_data_sdss[0] and clean_cmass_data_des[0] are the same galaxy) \n",
    "clean_cmass_data_sdss = cmass[mg1]           # common galaxies in cmass catalog\n",
    "clean_cmass_data_des = gold_st82[mg2] # common galaxies in Y3 Gold\n",
    "\n",
    "# We also need non-CMASS galaxies in the DES Y3 gold catalog\n",
    "cmass_mask = np.zeros(gold_st82.size, dtype=bool)\n",
    "cmass_mask[mg2] = 1\n",
    "nocmass = gold_st82[~cmass_mask]"
   ]
  }
 ],
 "metadata": {
  "kernelspec": {
   "display_name": "DMASS",
   "language": "python",
   "name": "des_env"
  },
  "language_info": {
   "codemirror_mode": {
    "name": "ipython",
    "version": 3
   },
   "file_extension": ".py",
   "mimetype": "text/x-python",
   "name": "python",
   "nbconvert_exporter": "python",
   "pygments_lexer": "ipython3",
   "version": "3.9.2"
  }
 },
 "nbformat": 4,
 "nbformat_minor": 5
}
