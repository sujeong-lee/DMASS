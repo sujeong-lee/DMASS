{
 "cells": [
  {
   "cell_type": "code",
   "execution_count": 1,
   "id": "c844c823-0c78-4a0a-a426-0d73651bdd15",
   "metadata": {},
   "outputs": [
    {
     "name": "stderr",
     "output_type": "stream",
     "text": [
      "In /users/PCON0003/warner785/.conda/envs/DES_env/lib/python3.7/site-packages/matplotlib/mpl-data/stylelib/_classic_test.mplstyle: \n",
      "The savefig.frameon rcparam was deprecated in Matplotlib 3.1 and will be removed in 3.3.\n",
      "In /users/PCON0003/warner785/.conda/envs/DES_env/lib/python3.7/site-packages/matplotlib/mpl-data/stylelib/_classic_test.mplstyle: \n",
      "The verbose.level rcparam was deprecated in Matplotlib 3.1 and will be removed in 3.3.\n",
      "In /users/PCON0003/warner785/.conda/envs/DES_env/lib/python3.7/site-packages/matplotlib/mpl-data/stylelib/_classic_test.mplstyle: \n",
      "The verbose.fileo rcparam was deprecated in Matplotlib 3.1 and will be removed in 3.3.\n",
      "WARNING: AstroMLDeprecationWarning: 'decorators' has been moved to 'astroML.utils' and will be removed from the main namespace in the future. [astroML.decorators]\n"
     ]
    }
   ],
   "source": [
    "#Y1 Data\n",
    "\n",
    "import os, sys\n",
    "import esutil\n",
    "import healpy as hp\n",
    "import numpy as np\n",
    "import fitsio\n",
    "\n",
    "%matplotlib inline\n",
    "\n",
    "%load_ext autoreload\n",
    "%autoreload 2\n",
    "\n",
    "sys.path.append('code_py3/')\n",
    "from cmass_modules import io\n",
    "from utils import matchCatalogsbyPosition, hpHEALPixelToRaDec, HealPixifyCatalogs, spatialcheck\n",
    "from xd import mixing_color, XD_fitting_X, assignCMASSProb, doVisualization_1d\n",
    "from run_DMASS import priorCut_test"
   ]
  },
  {
   "cell_type": "code",
   "execution_count": 2,
   "id": "8275f773-3f1b-4edb-bcac-66705e32082d",
   "metadata": {},
   "outputs": [],
   "source": [
    "# calling map \n",
    "path = '/fs/scratch/PCON0003/warner785/bwarner/'\n",
    "LSSGoldmask = fitsio.read(path+'Y1LSSmask_v2_redlimcut_il22_seeil4.0_4096ring.fits')\n",
    "\n",
    "#GoldMask = callingEliGoldMask()\n",
    "LSSMask = LSSGoldmask\n",
    "GoldMask = LSSGoldmask\n",
    "LSSMask = LSSMask[LSSMask['DEC']>-3.0 ]\n",
    "#GoldMask_st82 = Cuts.SpatialCuts(GoldMask, ra=320, ra2=360, dec=-2, dec2=2)\n",
    "GoldMask_st82 = GoldMask[ GoldMask['DEC'] > -3.0 ]\n",
    "GoldMask_spt = GoldMask[ GoldMask['DEC'] < -3.0 ]\n",
    "#GoldMask_spt = Cuts.SpatialCuts(GoldMask_spt, ra=0, ra2 = 100, dec=-52, dec2 = -48)\n",
    "\n",
    "pixarea = hp.nside2pixarea( 4096, degrees = True)\n",
    "sptnpix = GoldMask_spt['PIXEL'].size #hp.get_map_size( GoldMask_spt['PIXEL'] )\n",
    "st82npix =  GoldMask_st82['PIXEL'].size # hp.get_map_size( GoldMask_st82 )\n",
    "SPTMaparea = pixarea * sptnpix\n",
    "ST82Maparea = pixarea * st82npix"
   ]
  },
  {
   "cell_type": "code",
   "execution_count": 3,
   "id": "7cfe5799-964c-4811-89ad-e43e37ef0465",
   "metadata": {},
   "outputs": [
    {
     "name": "stdout",
     "output_type": "stream",
     "text": [
      "\n",
      "Calling catalogs >>>\n",
      "Y1A1_GOLD_STRIPE82_v2_000006.fits\n",
      "Y1A1_GOLD_STRIPE82_v2_000005.fits\n",
      "Y1A1_GOLD_STRIPE82_v2_000002.fits\n",
      "Y1A1_GOLD_STRIPE82_v2_000008.fits\n",
      "Y1A1_GOLD_STRIPE82_v2_000003.fits\n",
      "Y1A1_GOLD_STRIPE82_v2_000001.fits\n",
      "Y1A1_GOLD_STRIPE82_v2_000007.fits\n",
      "Y1A1_GOLD_STRIPE82_v2_000004.fits\n",
      "reading 1/8 /fs/scratch/PCON0003/warner785/bwarner/gold_cat/GOLD_STRIPE82/Y1A1_GOLD_STRIPE82_v2_000006.fits\n",
      "reading 2/8 /fs/scratch/PCON0003/warner785/bwarner/gold_cat/GOLD_STRIPE82/Y1A1_GOLD_STRIPE82_v2_000005.fits\n",
      "reading 3/8 /fs/scratch/PCON0003/warner785/bwarner/gold_cat/GOLD_STRIPE82/Y1A1_GOLD_STRIPE82_v2_000002.fits\n",
      "reading 4/8 /fs/scratch/PCON0003/warner785/bwarner/gold_cat/GOLD_STRIPE82/Y1A1_GOLD_STRIPE82_v2_000008.fits\n",
      "reading 5/8 /fs/scratch/PCON0003/warner785/bwarner/gold_cat/GOLD_STRIPE82/Y1A1_GOLD_STRIPE82_v2_000003.fits\n",
      "reading 6/8 /fs/scratch/PCON0003/warner785/bwarner/gold_cat/GOLD_STRIPE82/Y1A1_GOLD_STRIPE82_v2_000001.fits\n",
      "reading 7/8 /fs/scratch/PCON0003/warner785/bwarner/gold_cat/GOLD_STRIPE82/Y1A1_GOLD_STRIPE82_v2_000007.fits\n",
      "reading 8/8 /fs/scratch/PCON0003/warner785/bwarner/gold_cat/GOLD_STRIPE82/Y1A1_GOLD_STRIPE82_v2_000004.fits\n",
      "change reddening corrections from SLR to SFD98\n",
      "Removing SLR Shift \n",
      "  removing SLR from  MAG_MODEL\n",
      "  removing SLR from  MAG_DETMODEL\n",
      "  removing SLR from  MAG_AUTO\n",
      "Adding SFD98 Shift \n",
      "Bands : ['G', 'R', 'I', 'Z']\n",
      "coefficients =  [3.186, 2.14, 1.569, 1.196]\n",
      "  Adding SFD to  MAG_MODEL\n",
      "  Adding SFD to  MAG_DETMODEL\n",
      "  Adding SFD to  MAG_AUTO\n",
      "CHECK input catalog has only galaxies\n",
      "943599\n"
     ]
    }
   ],
   "source": [
    "#read in gold catalogs here:\n",
    "##ST82 REGION catalog:\n",
    "\n",
    "train_path = '/fs/scratch/PCON0003/warner785/bwarner/gold_cat/GOLD_STRIPE82/'\n",
    "path =  train_path\n",
    "train_keyword = 'Y1A1_GOLD_STRIPE82_v2'\n",
    "    \n",
    "columns = ['FLAGS_GOLD', 'FLAGS_BADREGION', 'MAG_MODEL_G', 'MAG_MODEL_R', 'MAG_MODEL_I', 'MAG_MODEL_Z',\\\n",
    "               'MAG_DETMODEL_G', 'MAG_DETMODEL_R', 'MAG_DETMODEL_I', 'MAG_DETMODEL_Z', 'MAGERR_DETMODEL_G',\\\n",
    "               'MAGERR_DETMODEL_R', 'MAGERR_DETMODEL_I', 'MAGERR_DETMODEL_Z', 'MAGERR_MODEL_G', 'MAGERR_MODEL_R',\\\n",
    "               'MAGERR_MODEL_I', 'MAGERR_MODEL_Z', 'MAG_AUTO_G', 'MAG_AUTO_R', 'MAG_AUTO_I', 'MAG_AUTO_Z', 'RA',\\\n",
    "               'DEC', 'COADD_OBJECTS_ID', 'MODEST_CLASS', 'HPIX', 'DESDM_ZP',\\\n",
    "               'SLR_SHIFT_G', 'SLR_SHIFT_R', 'SLR_SHIFT_I', 'SLR_SHIFT_Z', 'SLR_SHIFT_Y', 'EBV']\n",
    "\n",
    "gold_st82 = io.SearchAndCallFits(path = train_path, columns = columns, keyword = train_keyword )\n",
    "gold_st82 = gold_st82[(gold_st82['MODEST_CLASS'] == 1)&(gold_st82['FLAGS_GOLD'] == 0 )]\n",
    "    \n",
    "def RemovingSLRReddening(cat):\n",
    "\n",
    "\n",
    "    if 'SLR_SHIFT_G' not in cat.dtype.names : \n",
    "        import numpy.lib.recfunctions as rf   \n",
    "        #from suchyta_utils.y1a1_slr_shiftmap import SLRShift\n",
    "        from y1a1_slr_shiftmap import SLRShift\n",
    "        zpfile = '/fs/scratch/PCON0003/warner785/bwarner/y1a1_wide_slr_wavg_zpshift2.fit'\n",
    "        slrshift = SLRShift(zpfile, fill_periphery=True)\n",
    "        offsets_g = slrshift.get_zeropoint_offset('g',cat['RA'],cat['DEC'],interpolate=True)\n",
    "        offsets_r = slrshift.get_zeropoint_offset('r',cat['RA'],cat['DEC'],interpolate=True)\n",
    "        offsets_i = slrshift.get_zeropoint_offset('i',cat['RA'],cat['DEC'],interpolate=True)\n",
    "        offsets_z = slrshift.get_zeropoint_offset('z',cat['RA'],cat['DEC'],interpolate=True)\n",
    "\n",
    "        offsets = [ offsets_g, offsets_r, offsets_i, offsets_z  ]\n",
    "        from pandas import DataFrame, concat\n",
    "        nametag = ['SLR_SHIFT_'+f for f in ['G', 'R', 'I', 'Z'] ]\n",
    "        catnametag = cat.dtype.names\n",
    "        try : \n",
    "            offsetsdf = DataFrame( offsets, index = nametag ).T\n",
    "            cat = DataFrame(cat, index = catnametag)\n",
    "            #del cat['index']\n",
    "            print('concatenate two ndarrays')\n",
    "            cat = concat([cat, offsetsdf], axis=1)\n",
    "            print('dataframe to recordarray')\n",
    "            cat = cat.to_records()\n",
    "        \n",
    "        except ValueError :\n",
    "            print(\"Big-endian buffer not supported on little-endian compiler\")\n",
    "            print(\"Doing byte swapping\")\n",
    "            \n",
    "            #offsetsdf = np.array(offsetsdf).byteswap().newbyteorder()\n",
    "            cat = np.array(cat).byteswap().newbyteorder()\n",
    "            offsetsdf = DataFrame( offsets, index = nametag ).T\n",
    "            cat = DataFrame(cat)\n",
    "\n",
    "            print('concatenate two ndarrays')\n",
    "            cat = concat([cat, offsetsdf], axis=1)\n",
    "            print('dataframe to recordarray')\n",
    "            cat = cat.to_records()\n",
    "            cat.dtype.names = [str(x) for x in cat.dtype.names]\n",
    "            \n",
    "            #matched = pd.merge(desData, goldData, on=key, how=how, suffixes = suffixes, left_index=left_index)\n",
    "\n",
    "\n",
    "    print('Removing SLR Shift ')\n",
    "    for mag in ['MAG_MODEL', 'MAG_DETMODEL', 'MAG_AUTO']:\n",
    "        print('  removing SLR from ', mag)\n",
    "        for b in ['G', 'R', 'I', 'Z']:\n",
    "            cat[mag + '_'+b] = cat[mag + '_'+b] - cat['SLR_SHIFT'+ '_'+b]\n",
    "\n",
    "    \"\"\"\n",
    "    cat = rf.append_fields(cat, 'SLR_SHIFT_G', offsets_g)\n",
    "    cat = rf.append_fields(cat, 'SLR_SHIFT_R', offsets_r)\n",
    "    cat = rf.append_fields(cat, 'SLR_SHIFT_I', offsets_i)\n",
    "    cat = rf.append_fields(cat, 'SLR_SHIFT_Z', offsets_z)\n",
    "    \"\"\"\n",
    "    return cat\n",
    "\n",
    "def AddingSFD98Reddening(cat, kind='SPT', coeff = [3.186,2.140,1.569,1.196 ] ):\n",
    "    import numpy.lib.recfunctions as rf\n",
    "    import pandas as pd\n",
    "\n",
    "    band = ['G', 'R', 'I', 'Z']\n",
    "\n",
    "    if 'EBV' not in cat.dtype.names :   \n",
    "     \n",
    "        print('Using SFD98 nside 4096 healpix map')\n",
    "        print('Bands :',  band)\n",
    "        #print 'NSIDE = 4096'\n",
    "        print('coefficients = ', coeff)\n",
    "        nside = 4096\n",
    "\n",
    "        #from suchyta_utils.y1a1_slr_shiftmap import SLRShift\n",
    "        #sfdfile = '/n/des/lee.5922/data/systematic_maps/y1a1_wide_slr_wavg_zpshift2.fit'\n",
    "        mapname = '/fs/scratch/PCON0003/warner785/bwarner/ebv_sfd98_fullres_nside_4096_nest_equatorial.fits'\n",
    "        #mapname = '/n/des/lee.5922/data/systematic_maps/ebv_lenz17_nside_4096_nest_equatorial.fits'\n",
    "        reddening_ring = hp.read_map(mapname)\n",
    "        hpIndices = np.arange(reddening_ring.size)\n",
    "        #goodmask = hp.mask_good(reddening_ring)\n",
    "        #goldmask = \n",
    "\n",
    "        goodIndices = hpIndices #hpIndices[goodmask]\n",
    "        clean_map = reddening_ring #reddening_ring[goodmask]\n",
    "\n",
    "        sysMap = np.zeros((clean_map.size, ), dtype=[('PIXEL', 'i4'), ('EBV', 'f8'), ('RA', 'f8'), ('DEC', 'f8')])\n",
    "        sysMap['PIXEL'] = goodIndices\n",
    "        sysMap['EBV'] = clean_map\n",
    "        \n",
    "        sys_ra, sys_dec = hpHEALPixelToRaDec(goodIndices, nside = nside)\n",
    "        sysMap['RA'] = sys_ra\n",
    "        sysMap['DEC'] = sys_dec\n",
    "\n",
    "        from cmass_modules.Cuts import keepGoodRegion\n",
    "        sysMap = keepGoodRegion(sysMap)\n",
    "        if kind is 'STRIPE82': sysMap = sysMap[sysMap['DEC'] > -30]\n",
    "        elif kind is 'SPT': sysMap = sysMap[sysMap['DEC'] < -30]\n",
    "\n",
    "\n",
    "        cat_hp = cat\n",
    "        hpind = hpRaDecToHEALPixel(cat_hp['RA'], cat_hp['DEC'], nside= 4096, nest= False)\n",
    "        #cat_hp.dtype.names = [str(x) for x in cat_hp.dtype.names]\n",
    "        cat_hp = changeColumnName(cat_hp, name = 'HPIX', rename = 'PIXEL')\n",
    "        cat_hp['PIXEL'] = hpind\n",
    "        \n",
    "        #sfdmap = changeColumnName( sysMap_ge, name = 'SIGNAL', rename = 'SFD98' )\n",
    "\n",
    "\n",
    "        try : \n",
    "\n",
    "            cat_Data = pd.DataFrame(cat_hp)\n",
    "            sfdData = pd.DataFrame(sysMap)\n",
    "            matched = pd.merge(cat_Data, sfdData, on='PIXEL', how='left', \n",
    "                               suffixes = ['','_sys'], left_index=False, right_index=False)\n",
    "        except ValueError :\n",
    "            print(\"Big-endian buffer not supported on little-endian compiler\")\n",
    "            print(\"Doing byte swapping ....\")\n",
    "\n",
    "            cat_hp = np.array(cat_hp).byteswap().newbyteorder()\n",
    "            #sfdmap = np.array(sfdmap).byteswap().newbyteorder()\n",
    "            cat_Data = pd.DataFrame(cat_hp)\n",
    "            sfdData = pd.DataFrame(sysMap)\n",
    "            \n",
    "\n",
    "            #print cat_Data.keys()\n",
    "            #print sfdData.keys()\n",
    "            matched = pd.merge(cat_Data, sfdData, on='PIXEL', how='left', \n",
    "                               suffixes = ['','_sys'], left_index=False, right_index=False)\n",
    "            \n",
    "        matched_arr = matched.to_records(index=False)\n",
    "        matched_arr.dtype.names = [str(x) for x in matched_arr.dtype.names]\n",
    "\n",
    "\n",
    "    else : matched_arr = cat\n",
    "\n",
    "    print('Adding SFD98 Shift ')\n",
    "    print('Bands :',  band)\n",
    "    print('coefficients = ', coeff)\n",
    "\n",
    "    for mag in ['MAG_MODEL', 'MAG_DETMODEL', 'MAG_AUTO']:\n",
    "        print('  Adding SFD to ', mag)\n",
    "        for i,b in enumerate(band):\n",
    "            matched_arr[mag + '_'+b] = matched_arr[mag + '_'+b] - matched_arr['EBV'] * coeff[i]    \n",
    "\n",
    "    return matched_arr\n",
    "\n",
    "params={'SFD98':True}\n",
    "if 'SFD98' in params : \n",
    "    if params['SFD98'] : \n",
    "        print('change reddening corrections from SLR to SFD98')\n",
    "        gold_st82 = RemovingSLRReddening(gold_st82)\n",
    "        gold_st82 = AddingSFD98Reddening(gold_st82, kind='STRIPE82')\n",
    "\n",
    "# flags and color cut\n",
    "mask_all = priorCut_test(gold_st82)\n",
    "gold_st82 = gold_st82[mask_all]\n",
    "print(gold_st82.size)"
   ]
  },
  {
   "cell_type": "code",
   "execution_count": 4,
   "id": "c07d9ab4-cc61-477b-8a65-9954170338a4",
   "metadata": {},
   "outputs": [],
   "source": [
    "#implement Cuts.keepgoodregion:\n",
    "\n",
    "def keepGoodRegion(des, hpInd = False, balrog=None):\n",
    "    import healpy as hp\n",
    "    import fitsio\n",
    "    # 25 is the faintest object detected by DES\n",
    "    # objects larger than 25 considered as Noise\n",
    "    \n",
    "    path = '/fs/scratch/PCON0003/warner785/bwarner/'\n",
    "    #LSSGoldmask = fitsio.read(path+'Y1LSSmask_v2_il22_seeil4.0_nside4096ring_redlimcut.fits')\n",
    "    #LSSGoldmask = fitsio.read(path+'Y1LSSmask_v1_il22seeil4.04096ring_redlimcut.fits')\n",
    "    LSSGoldmask = fitsio.read(path+'Y1LSSmask_v2_redlimcut_il22_seeil4.0_4096ring.fits')\n",
    "    #Y1LSSmask_v1_il22seeil4.04096ring_redlimcut.fits\n",
    "    #frac_cut = LSSGoldmask['FRAC'] > 0.8\n",
    "    #ind_good_ring = LSSGoldmask['PIXEL'][frac_cut]\n",
    "    ind_good_ring = LSSGoldmask['PIXEL']\n",
    "    \n",
    "    # healpixify the catalog.\n",
    "    nside=4096\n",
    "    # Convert silly ra/dec to silly HP angular coordinates.\n",
    "    phi = des['RA'] * np.pi / 180.0\n",
    "    theta = ( 90.0 - des['DEC'] ) * np.pi/180.0\n",
    "\n",
    "    hpInd = hp.ang2pix(nside,theta,phi,nest=False)\n",
    "    keep = np.in1d(hpInd, ind_good_ring)\n",
    "    des = des[keep]\n",
    "    if hpInd is True:\n",
    "        return ind_good_ring\n",
    "    else:\n",
    "        return des\n",
    "    \n",
    "gold_st82 = keepGoodRegion(gold_st82)\n",
    "#print(gold_st82.size)\n",
    "\n",
    "#gold_spt = keepGoodRegion(gold_spt)\n",
    "#print(gold_spt.size)"
   ]
  },
  {
   "cell_type": "code",
   "execution_count": 5,
   "id": "4d7daf34-c664-4e12-ab67-de37e8579ac9",
   "metadata": {},
   "outputs": [
    {
     "name": "stdout",
     "output_type": "stream",
     "text": [
      "total num of train 258884\n",
      "\n",
      "--------------------------------\n",
      " applying DES veto mask to CMASS\n",
      "--------------------------------\n",
      "num of train_sample after des veto 13046\n",
      "681836\n",
      "('num of cmass in des side', 12639, '(5%)')\n"
     ]
    }
   ],
   "source": [
    "#cmass catalog\n",
    "\n",
    "import fitsio\n",
    "cmass = esutil.io.read('/fs/scratch/PCON0003/warner785/bwarner/cmass-dr12v4-S-Reid-full.dat.fits')\n",
    "train_sample = esutil.io.read('/fs/scratch/PCON0003/warner785/bwarner/cmass-dr12v4-S-Reid-full.dat.fits')\n",
    "#train_sample = esutil.io.read('/global/cscratch1/sd/bwarner/galaxy_DR11v1_CMASS_South-photoObj.fits.gz')\n",
    "print('total num of train', train_sample.size)\n",
    "print('\\n--------------------------------\\n applying DES veto mask to CMASS\\n--------------------------------')   \n",
    "train_sample = keepGoodRegion(train_sample)\n",
    "\n",
    "#fitsio.write( output_dir+'/cmass_in_st82.fits', train_sample)\n",
    "\n",
    "print('num of train_sample after des veto', train_sample.size)\n",
    "\n",
    "#matching:\n",
    "# find cmass in des_gold side --------------------\n",
    "\n",
    "mg1, mg2, _ = esutil.htm.HTM(10).match(train_sample['RA'], train_sample['DEC'], gold_st82['RA'], \\\n",
    "                                         gold_st82['DEC'],2./3600, maxmatch=1)\n",
    "cmass_mask = np.zeros(gold_st82.size, dtype=bool)\n",
    "cmass_mask[mg2] = 1\n",
    "clean_cmass_data_des, nocmass = gold_st82[cmass_mask], gold_st82[~cmass_mask]\n",
    "\n",
    "print(nocmass.size)\n",
    "\n",
    "print(('num of cmass in des side', clean_cmass_data_des.size, '({:0.0f}%)'.format(clean_cmass_data_des.size*1./cmass.size*100.)))"
   ]
  },
  {
   "cell_type": "code",
   "execution_count": 6,
   "id": "01f9be51-5cfb-4353-a1fe-5bc722b5f41a",
   "metadata": {},
   "outputs": [
    {
     "name": "stdout",
     "output_type": "stream",
     "text": [
      "0.01819935922819396\n"
     ]
    }
   ],
   "source": [
    "cmass_fraction = clean_cmass_data_des.size *1./gold_st82.size\n",
    "\n",
    "print(cmass_fraction)"
   ]
  },
  {
   "cell_type": "code",
   "execution_count": 7,
   "id": "e686f3c8-5e83-483b-a5d9-dce8d16f3993",
   "metadata": {},
   "outputs": [],
   "source": [
    "healConfig={'out_nside':64, 'nest':True}"
   ]
  },
  {
   "cell_type": "code",
   "execution_count": 8,
   "id": "b3e62182-8669-481e-b167-eb66655f1aac",
   "metadata": {},
   "outputs": [
    {
     "name": "stdout",
     "output_type": "stream",
     "text": [
      "odd 6547  even 6499\n",
      "odd 304376  even 305127\n",
      "area odd 62.36836976435403  even 62.522253926354416\n"
     ]
    }
   ],
   "source": [
    "train_sample = HealPixifyCatalogs(catalog=train_sample, healConfig=healConfig, ratag='RA', dectag = 'DEC')\n",
    "gold_st82 = HealPixifyCatalogs(catalog=gold_st82, healConfig=healConfig, ratag='RA', dectag = 'DEC')\n",
    "\n",
    "evenmask_train = train_sample['HEALIndex']%2 == 0\n",
    "evenmask = gold_st82['HEALIndex']%2 == 0\n",
    "\n",
    "print('odd', np.sum(evenmask_train), ' even', np.sum(~evenmask_train))\n",
    "\n",
    "GoldMask_st82_hpix64 = HealPixifyCatalogs(catalog=GoldMask_st82, healConfig=healConfig, ratag='RA', dectag = 'DEC')\n",
    "evenmask_map = GoldMask_st82_hpix64['HEALIndex']%2 == 0\n",
    "\n",
    "#pixarea64 = hp.nside2pixarea( 64, degrees = True)\n",
    "\n",
    "print('odd', np.sum(evenmask_map), ' even', np.sum(~evenmask_map))\n",
    "print('area', 'odd', np.sum(evenmask_map)*pixarea, ' even', np.sum(~evenmask_map)*pixarea)\n",
    "\n",
    "GoldMask_st82_hpix64.size\n",
    "\n",
    "train_even = train_sample[evenmask_train]\n",
    "train_odd = train_sample[~evenmask_train]\n",
    "gold_st82_even = gold_st82[evenmask]\n",
    "gold_st82_odd = gold_st82[~evenmask]  # Validation Region is using Odd Healpix"
   ]
  },
  {
   "cell_type": "code",
   "execution_count": 9,
   "id": "141e54f1-a4c3-45ea-ae0b-ca27a055b22b",
   "metadata": {},
   "outputs": [
    {
     "name": "stdout",
     "output_type": "stream",
     "text": [
      "340202\n",
      "('num of cmass in des side in training', 6325, '(2%)')\n"
     ]
    }
   ],
   "source": [
    "# ODD cmass fraction: use even as validation\n",
    "\n",
    "mg1, mg2, _ = esutil.htm.HTM(10).match(train_sample['RA'], train_sample['DEC'], gold_st82_even['RA'], \\\n",
    "                                         gold_st82_even['DEC'],2./3600, maxmatch=1)\n",
    "cmass_mask = np.zeros(gold_st82_even.size, dtype=bool)\n",
    "cmass_mask[mg2] = 1\n",
    "clean_cmass_data_des_even, nocmass_even = gold_st82_even[cmass_mask], gold_st82_even[~cmass_mask]\n",
    "\n",
    "print(nocmass_even.size)\n",
    "\n",
    "print(('num of cmass in des side in training', clean_cmass_data_des_even.size, '({:0.0f}%)'.format(clean_cmass_data_des_even.size*1./cmass.size*100.)))"
   ]
  },
  {
   "cell_type": "code",
   "execution_count": 10,
   "id": "c67aee9b-77e5-4d24-a6b8-02efb536d405",
   "metadata": {},
   "outputs": [
    {
     "name": "stdout",
     "output_type": "stream",
     "text": [
      "341634\n",
      "('num of cmass in des side in training', 6314, '(2%)')\n"
     ]
    }
   ],
   "source": [
    "# EVEN cmass fraction: use odd as validation\n",
    "\n",
    "mg1, mg2, _ = esutil.htm.HTM(10).match(train_sample['RA'], train_sample['DEC'], gold_st82_odd['RA'], \\\n",
    "                                         gold_st82_odd['DEC'],2./3600, maxmatch=1)\n",
    "cmass_mask = np.zeros(gold_st82_odd.size, dtype=bool)\n",
    "cmass_mask[mg2] = 1\n",
    "clean_cmass_data_des_odd, nocmass_odd = gold_st82_odd[cmass_mask], gold_st82_odd[~cmass_mask]\n",
    "\n",
    "print(nocmass_odd.size)\n",
    "\n",
    "print(('num of cmass in des side in training', clean_cmass_data_des_odd.size, '({:0.0f}%)'.format(clean_cmass_data_des_odd.size*1./cmass.size*100.)))"
   ]
  },
  {
   "cell_type": "code",
   "execution_count": 11,
   "id": "3b656236-43a8-4e44-81ca-8cb1ff9155ca",
   "metadata": {},
   "outputs": [
    {
     "name": "stdout",
     "output_type": "stream",
     "text": [
      "0.018252545977658307\n",
      "0.01814638969041351\n"
     ]
    }
   ],
   "source": [
    "cmass_fraction_even = clean_cmass_data_des_even.size *1./gold_st82_even.size\n",
    "cmass_fraction_odd = clean_cmass_data_des_odd.size *1./gold_st82_odd.size\n",
    "\n",
    "print(cmass_fraction_even)\n",
    "print(cmass_fraction_odd)"
   ]
  },
  {
   "cell_type": "code",
   "execution_count": 12,
   "id": "68e5a97e-f65f-42fb-8d12-7c748a572169",
   "metadata": {},
   "outputs": [
    {
     "name": "stdout",
     "output_type": "stream",
     "text": [
      "<xd.XDGMM object at 0x2b1daf62cbe0>\n",
      "<xd.XDGMM object at 0x2b1daf62cf98>\n"
     ]
    }
   ],
   "source": [
    "#Running my pickle file\n",
    "import pickle\n",
    "\n",
    "# pickle file: changing from 'b'\n",
    "outdir = '../output/test/fitting/'\n",
    "dmass_pickle = outdir+'gauss_cmass_v6.pkl'  # cmass\n",
    "dmass_no_pickle = outdir+'gauss_no_v6.pkl' # noncmass\n",
    "#clf_cmass_su = XD_fitting_X( None, None, pickleFileName = cmass_su_pickle)\n",
    "\n",
    "f = open(dmass_pickle, 'rb')\n",
    "g = open(dmass_no_pickle, 'rb')\n",
    "\n",
    "clf_dmass = pickle.load(f, encoding=\"latin1\")\n",
    "clf_dmass = clf_dmass['retval']\n",
    "clf_nodmass = pickle.load(g, encoding=\"latin1\")\n",
    "clf_nodmass = clf_nodmass['retval']\n",
    "X_sample_dmass = clf_dmass.sample(200000)        # non-cmass model\n",
    "X_sample_nodmass = clf_nodmass.sample(200000)\n",
    "print(clf_dmass)\n",
    "print(clf_nodmass)"
   ]
  },
  {
   "cell_type": "code",
   "execution_count": 13,
   "id": "fa7b2fcb-dc0f-4d5c-9efa-208eaf4d119c",
   "metadata": {},
   "outputs": [
    {
     "name": "stdout",
     "output_type": "stream",
     "text": [
      "<xd.XDGMM object at 0x2b40da956908>\n",
      "<xd.XDGMM object at 0x2b40da956860>\n"
     ]
    }
   ],
   "source": [
    "#Running Su's pickle file\n",
    "import pickle\n",
    "\n",
    "# Su's pickle file: changing from 'b'\n",
    "outdir = '../code/output/n2/'\n",
    "cmass_su_pickle = outdir+'gold_st82_XD_cmass_full_tol1e5.pkl'  # cmass Su\n",
    "cmass_su_no_pickle = outdir+'gold_st82_XD_no_full_tol1e5.pkl' # noncmass Su\n",
    "#clf_cmass_su = XD_fitting_X( None, None, pickleFileName = cmass_su_pickle)\n",
    "\n",
    "f = open(cmass_su_pickle, 'rb')\n",
    "g = open(cmass_su_no_pickle, 'rb')\n",
    "\n",
    "clf_cmass_su = pickle.load(f, encoding=\"latin1\")\n",
    "clf_cmass_su = clf_cmass_su['retval']\n",
    "clf_nocmass_su = pickle.load(g, encoding=\"latin1\")\n",
    "clf_nocmass_su = clf_nocmass_su['retval']\n",
    "X_sample_cmass_su = clf_cmass_su.sample(200000)        # non-cmass model\n",
    "X_sample_nocmass_su = clf_nocmass_su.sample(200000)\n",
    "print(clf_cmass_su)\n",
    "print(clf_nocmass_su)"
   ]
  },
  {
   "cell_type": "code",
   "execution_count": 25,
   "id": "aeb4c350-830a-47f3-9484-819b59a20e5b",
   "metadata": {},
   "outputs": [
    {
     "name": "stdout",
     "output_type": "stream",
     "text": [
      "<xd.XDGMM object at 0x2b045c60b668>\n",
      "<xd.XDGMM object at 0x2b045c60b940>\n"
     ]
    }
   ],
   "source": [
    "# New method, my EVEN pickle file:\n",
    "import pickle\n",
    "# pickle file: changing from 'b'\n",
    "outdir = '../output/validate_NEST/'\n",
    "dmass_pickle_even = outdir+'gold_st82_XD_cmass_NEST_even_new.pkl'  # cmass\n",
    "dmass_no_pickle_even = outdir+'gold_st82_XD_no_NEST_even_20.pkl' # noncmass\n",
    "#clf_cmass_su = XD_fitting_X( None, None, pickleFileName = cmass_su_pickle)\n",
    "\n",
    "f = open(dmass_pickle_even, 'rb')\n",
    "g = open(dmass_no_pickle_even, 'rb')\n",
    "\n",
    "clf_dmass_even = pickle.load(f, encoding=\"latin1\")\n",
    "clf_dmass_even = clf_dmass_even['retval']\n",
    "clf_nodmass_even = pickle.load(g, encoding=\"latin1\")\n",
    "clf_nodmass_even = clf_nodmass_even['retval']\n",
    "X_sample_dmass_even = clf_dmass_even.sample(200000)        # non-cmass model\n",
    "X_sample_nodmass_even = clf_nodmass_even.sample(200000)\n",
    "print(clf_dmass_even)\n",
    "print(clf_nodmass_even)"
   ]
  },
  {
   "cell_type": "code",
   "execution_count": 12,
   "id": "75b5a959-a878-481a-b26c-1d8f28d12b1d",
   "metadata": {},
   "outputs": [
    {
     "ename": "FileNotFoundError",
     "evalue": "[Errno 2] No such file or directory: '../output/test/fitting/gauss_gold_bovy.xdgmm'",
     "output_type": "error",
     "traceback": [
      "\u001b[0;31m---------------------------------------------------------------------------\u001b[0m",
      "\u001b[0;31mFileNotFoundError\u001b[0m                         Traceback (most recent call last)",
      "\u001b[0;32m<ipython-input-12-11f3c202e83f>\u001b[0m in \u001b[0;36m<module>\u001b[0;34m\u001b[0m\n\u001b[1;32m      8\u001b[0m \u001b[0;31m#clf_cmass_su = XD_fitting_X( None, None, pickleFileName = cmass_su_pickle)\u001b[0m\u001b[0;34m\u001b[0m\u001b[0;34m\u001b[0m\u001b[0m\n\u001b[1;32m      9\u001b[0m \u001b[0;34m\u001b[0m\u001b[0m\n\u001b[0;32m---> 10\u001b[0;31m \u001b[0mf\u001b[0m \u001b[0;34m=\u001b[0m \u001b[0mopen\u001b[0m\u001b[0;34m(\u001b[0m\u001b[0mdmass_pickle_even\u001b[0m\u001b[0;34m,\u001b[0m \u001b[0;34m'rb'\u001b[0m\u001b[0;34m)\u001b[0m\u001b[0;34m\u001b[0m\u001b[0m\n\u001b[0m\u001b[1;32m     11\u001b[0m \u001b[0mg\u001b[0m \u001b[0;34m=\u001b[0m \u001b[0mopen\u001b[0m\u001b[0;34m(\u001b[0m\u001b[0mdmass_no_pickle_even\u001b[0m\u001b[0;34m,\u001b[0m \u001b[0;34m'rb'\u001b[0m\u001b[0;34m)\u001b[0m\u001b[0;34m\u001b[0m\u001b[0m\n\u001b[1;32m     12\u001b[0m \u001b[0;34m\u001b[0m\u001b[0m\n",
      "\u001b[0;31mFileNotFoundError\u001b[0m: [Errno 2] No such file or directory: '../output/test/fitting/gauss_gold_bovy.xdgmm'"
     ]
    }
   ],
   "source": [
    "#Bovy method:\n",
    "#EVEN file:\n",
    "import pickle\n",
    "# pickle file: changing from 'b'\n",
    "outdir = '../output/test/fitting/'\n",
    "dmass_pickle_even = outdir+'gauss_gold_bovy.xdgmm'  # cmass\n",
    "dmass_no_pickle_even = outdir+'gauss_nogold_bovy.xdgmm' # noncmass\n",
    "#clf_cmass_su = XD_fitting_X( None, None, pickleFileName = cmass_su_pickle)\n",
    "\n",
    "f = open(dmass_pickle_even, 'rb')\n",
    "g = open(dmass_no_pickle_even, 'rb')\n",
    "\n",
    "clf_dmass_even = pickle.load(f, encoding=\"latin1\")\n",
    "clf_dmass_even = clf_dmass_even['retval']\n",
    "clf_nodmass_even = pickle.load(g, encoding=\"latin1\")\n",
    "clf_nodmass_even = clf_nodmass_even['retval']\n",
    "X_sample_dmass_even = clf_dmass_even.sample(200000)        # non-cmass model\n",
    "X_sample_nodmass_even = clf_nodmass_even.sample(200000)\n",
    "print(clf_dmass_even)\n",
    "print(clf_nodmass_even)"
   ]
  },
  {
   "cell_type": "code",
   "execution_count": 15,
   "id": "161b2654-36e3-477e-8fc1-c088bc0d9167",
   "metadata": {},
   "outputs": [
    {
     "name": "stdout",
     "output_type": "stream",
     "text": [
      "<xd.XDGMM object at 0x2b1e21baf780>\n",
      "<xd.XDGMM object at 0x2b1daf6322b0>\n"
     ]
    }
   ],
   "source": [
    "# New method, my ODD pickle file:\n",
    "\n",
    "# pickle file: changing from 'b'\n",
    "outdir = '../output/validate_NEST/'\n",
    "dmass_pickle_odd = outdir+'gold_st82_XD_cmass_NEST_odd2.pkl'  # cmass\n",
    "dmass_no_pickle_odd = outdir+'gold_st82_XD_no_NEST_odd2.pkl' # noncmass\n",
    "#clf_cmass_su = XD_fitting_X( None, None, pickleFileName = cmass_su_pickle)\n",
    "\n",
    "f = open(dmass_pickle_odd, 'rb')\n",
    "g = open(dmass_no_pickle_odd, 'rb')\n",
    "\n",
    "clf_dmass_odd = pickle.load(f, encoding=\"latin1\")\n",
    "clf_dmass_odd = clf_dmass_odd['retval']\n",
    "clf_nodmass_odd = pickle.load(g, encoding=\"latin1\")\n",
    "clf_nodmass_odd = clf_nodmass_odd['retval']\n",
    "X_sample_dmass_odd = clf_dmass_odd.sample(200000)        # non-cmass model\n",
    "X_sample_nodmass_odd = clf_nodmass_odd.sample(200000)\n",
    "print(clf_dmass_odd)\n",
    "print(clf_nodmass_odd)"
   ]
  },
  {
   "cell_type": "code",
   "execution_count": 15,
   "id": "17d48edf-fac2-4db0-b971-2f88ad65d6e0",
   "metadata": {},
   "outputs": [
    {
     "name": "stdout",
     "output_type": "stream",
     "text": [
      "calculate loglikelihood gaussian with multiprocessing module\n",
      "multiprocessing 100 % \n",
      "calculate loglikelihood gaussian with multiprocessing module\n",
      "multiprocessing 100 % \n",
      "pcenter 20\n",
      "pbin = [0.   0.05 0.1  0.15 0.2  0.25 0.3  0.35 0.4  0.45 0.5  0.55 0.6  0.65\n",
      " 0.7  0.75 0.8  0.85 0.9  0.95 1.  ]\n",
      "frac =  [0.00185098 0.0647535  0.12593467 0.1722365  0.22279349 0.26809955\n",
      " 0.34794908 0.37859425 0.41899441 0.51265823 0.50669643 0.55112219\n",
      " 0.63549161 0.66753247 0.6875     0.77458034 0.78772379 0.85260771\n",
      " 0.88645418 0.92363112]\n",
      "frac.size 20\n",
      "frac err 20\n",
      "[0.04048882 0.05330018 0.0559017  0.06108472 0.06201737 0.06495698\n",
      " 0.06375767 0.06495698 0.06666667 0.06415003 0.06637233 0.06726728\n",
      " 0.06142951 0.06237829 0.06286946 0.05564149 0.05698029 0.05157106\n",
      " 0.04740455 0.03949763]\n"
     ]
    },
    {
     "data": {
      "image/png": "[encoded data removed]",
      "text/plain": [
       "<Figure size 432x288 with 1 Axes>"
      ]
     },
     "metadata": {
      "needs_background": "light"
     },
     "output_type": "display_data"
    },
    {
     "data": {
      "image/png": "[encoded data removed]",
      "text/plain": [
       "<Figure size 432x288 with 1 Axes>"
      ]
     },
     "metadata": {
      "needs_background": "light"
     },
     "output_type": "display_data"
    },
    {
     "data": {
      "image/png": "[encoded data removed]",
      "text/plain": [
       "<Figure size 432x288 with 1 Axes>"
      ]
     },
     "metadata": {
      "needs_background": "light"
     },
     "output_type": "display_data"
    }
   ],
   "source": [
    "# Figure 3 start: Su:\n",
    "%matplotlib inline\n",
    "import matplotlib.pyplot as plt\n",
    "\n",
    "cmass_fraction = clean_cmass_data_des.size *1./gold_st82.size\n",
    "#call in catalogs\n",
    "# Assigning CMASS probabilities to Gold Y1 in Stripe 82.\n",
    "mag = ['MAG_MODEL', 'MAG_DETMODEL'] \n",
    "err = ['MAGERR_MODEL', 'MAGERR_DETMODEL'] \n",
    "filter = ['G', 'R', 'I']\n",
    "\n",
    "clean_dmass_prob = assignCMASSProb(clean_cmass_data_des_odd, clf_cmass_su, clf_nocmass_su, \n",
    "                     cmass_fraction =cmass_fraction_even\n",
    ", \n",
    "                     mag=mag, err=err, filter=filter )\n",
    "\n",
    "dmass_st82_real = clean_dmass_prob\n",
    "\n",
    "dmass_st82_val = assignCMASSProb(gold_st82_odd, clf_cmass_su, clf_nocmass_su, \n",
    "                     cmass_fraction =cmass_fraction_even\n",
    ", \n",
    "                     mag=mag, err=err, filter=filter )\n",
    "\n",
    "pbin = np.linspace(0, 1, 21)\n",
    "pcenter = pbin[:-1] + 0.025\n",
    "print('pcenter',pcenter.size)\n",
    "N, _ = np.histogram(dmass_st82_real['CMASS_PROB'], bins=pbin) # -- true cmass\n",
    "print('pbin =', pbin)\n",
    "M, _ = np.histogram(dmass_st82_val['CMASS_PROB'], bins=pbin) # -- dmass\n",
    "\n",
    "fig, ax = plt.subplots()\n",
    "ax.hist( dmass_st82_real['CMASS_PROB'], bins= 100)\n",
    "fig, ax = plt.subplots()\n",
    "ax.hist( dmass_st82_val['CMASS_PROB'], bins= 100)\n",
    "\n",
    "#pbin, frac, fracerr = np.genfromtxt('../paper_figure/model_probability.txt', unpack=True)\n",
    "\n",
    "frac = N/M\n",
    "print('frac = ', frac)\n",
    "print('frac.size', frac.size)\n",
    "fracerr = 1/np.sqrt(N) #1 / sqrt(number of true cmass galaxies in each bin)\n",
    "print('frac err', fracerr.size)\n",
    "fig, ax = plt.subplots()\n",
    "ax.errorbar( pcenter, frac, yerr=fracerr)\n",
    "plt.title('Odd Validation Region Check Su Y1')\n",
    "print(fracerr)\n",
    "ax.plot([0,1], [0,1], ls='--', color='grey')\n",
    "\n",
    "fig.savefig('test_histo_y1_su.pdf')"
   ]
  },
  {
   "cell_type": "code",
   "execution_count": 16,
   "id": "dcfb1e73-24bb-4b9c-90b3-661f3c962976",
   "metadata": {},
   "outputs": [
    {
     "name": "stdout",
     "output_type": "stream",
     "text": [
      "random sampling... \n",
      "num of randomly sampled cmass  6325\n",
      "num of randomly sampled non-cmass  34020\n",
      "cmass_fraction (cmass/non-cmass):  0.018252545977658307\n",
      "Using central 100% to set range.\n",
      "Using central 100% to set range.\n"
     ]
    },
    {
     "data": {
      "image/png": "[encoded data removed]",
      "text/plain": [
       "<Figure size 1152x288 with 4 Axes>"
      ]
     },
     "metadata": {
      "needs_background": "light"
     },
     "output_type": "display_data"
    },
    {
     "data": {
      "image/png": "[encoded data removed]",
      "text/plain": [
       "<Figure size 1152x288 with 4 Axes>"
      ]
     },
     "metadata": {
      "needs_background": "light"
     },
     "output_type": "display_data"
    }
   ],
   "source": [
    "# do ks-test\n",
    "# make 2D plots: contour plots\n",
    "\n",
    "n_sample =  int(clean_cmass_data_des_even.size)  # train cmass sample size\n",
    "n_sample_non = int(nocmass_even.size/10)  # train non-cmass sample size\n",
    "\n",
    "print('random sampling... ')\n",
    "sampling_ind = np.random.choice(np.arange(clean_cmass_data_des_even.size), size = n_sample)\n",
    "clean_cmass_data_des_sub = clean_cmass_data_des_even[sampling_ind]\n",
    "print('num of randomly sampled cmass ', clean_cmass_data_des_sub.size)\n",
    "random_sampling_ind = np.random.choice(np.arange(nocmass_even.size), size = n_sample_non )\n",
    "nocmass_sub = nocmass_even[random_sampling_ind]\n",
    "print('num of randomly sampled non-cmass ', nocmass_sub.size)\n",
    "\n",
    "# The fraction of CMASS galaxies in the training region.\n",
    "# This number is required to put a prior for the Bayesian statistics \n",
    "cmass_fraction = clean_cmass_data_des_even.size *1./gold_st82_even.size\n",
    "print('cmass_fraction (cmass/non-cmass): ', cmass_fraction)\n",
    "outdir = '../output/test/fitting/'\n",
    "os.makedirs(outdir, exist_ok=True)\n",
    "f = open(outdir+'cmassfrac', 'w')\n",
    "f.write('{0:.10f}'.format(cmass_fraction))\n",
    "f.close()\n",
    "\n",
    "# number of gaussian mixtures\n",
    "# Set None for a initial run. The algorithm automatically finds an optimal number\n",
    "n_cmass = None    # for cmass\n",
    "n_no = None       # for non-cmass \n",
    "\n",
    "# Magnitudes and corresponding errors you want to use to train the algorithm. \n",
    "# `mixing_color` automatically constructs [mag g, mag r, color (g-r), color (r-i)] and \n",
    "# its 4x4 covariance matrix from the input magnitudes. \n",
    "# I simply put `SOF_CM_MAG_CORRECTED` magnitudes for now. \n",
    "# If you want to use different combinations of mags and colors, \n",
    "# modify `mixing_color` or build your own function. \n",
    "mag = ['MAG_MODEL', 'MAG_DETMODEL'] \n",
    "err = ['MAGERR_MODEL', 'MAGERR_DETMODEL'] \n",
    "filter = ['G', 'R', 'I']\n",
    "\n",
    "# This generates four columns of cmass training sample. order : mag r, mag i, (g-r), (r-i)\n",
    "X_cmass_true, X_cmass_cov = mixing_color(clean_cmass_data_des_sub, \n",
    "                mag = mag, err=err, filter=filter, \n",
    "                no_zband = True )\n",
    "\n",
    "# This generates four columns of non-cmass training sample. order : mag r, mag i, (g-r), (r-i)\n",
    "X_no_true, X_no_cov = mixing_color(nocmass_sub, \n",
    "                mag = mag, err=err, filter=filter, \n",
    "                no_zband = True )\n",
    "\n",
    "\n",
    "doVisualization_1d( data=[X_cmass_true, X_sample_cmass_su], \n",
    "                   labels = ['mag r', 'mag i', 'g-r', 'r-i'], \n",
    "                   ranges = None, \n",
    "                   name = ['train sample', 'model sample'], \n",
    "                   weight = [None,None], \n",
    "                   nbins=100)\n",
    "\n",
    "doVisualization_1d( data=[X_no_true, X_sample_nocmass_su], \n",
    "                   labels = ['mag r', 'mag i', 'g-r', 'r-i'], \n",
    "                   ranges = None, \n",
    "                   name = ['train sample', 'model sample'], \n",
    "                   weight = [None,None], \n",
    "                   nbins=100)"
   ]
  },
  {
   "cell_type": "code",
   "execution_count": 32,
   "id": "983d304a-7f64-4ac6-a721-cbba4772bbf5",
   "metadata": {},
   "outputs": [
    {
     "name": "stdout",
     "output_type": "stream",
     "text": [
      "pcenter:  [0.025 0.075 0.125 0.175 0.225 0.275 0.325 0.375 0.425 0.475 0.525 0.575\n",
      " 0.625 0.675 0.725 0.775 0.825 0.875 0.925 0.975]\n",
      "fraction:  [0.00185098 0.0647535  0.12593467 0.1722365  0.22279349 0.26809955\n",
      " 0.34794908 0.37859425 0.41899441 0.51265823 0.50669643 0.55112219\n",
      " 0.63549161 0.66753247 0.6875     0.77458034 0.78772379 0.85260771\n",
      " 0.88645418 0.92363112]\n",
      "error:  [0.04048882 0.05330018 0.0559017  0.06108472 0.06201737 0.06495698\n",
      " 0.06375767 0.06495698 0.06666667 0.06415003 0.06637233 0.06726728\n",
      " 0.06142951 0.06237829 0.06286946 0.05564149 0.05698029 0.05157106\n",
      " 0.04740455 0.03949763]\n"
     ]
    }
   ],
   "source": [
    "# prob bin center, fraction,  err\n",
    "\n",
    "print('pcenter: ', pcenter)\n",
    "print('fraction: ', frac)\n",
    "print('error: ', fracerr)"
   ]
  },
  {
   "cell_type": "code",
   "execution_count": 34,
   "id": "7b59d5e9-73e8-4501-a414-3956f2591ccf",
   "metadata": {},
   "outputs": [
    {
     "name": "stdout",
     "output_type": "stream",
     "text": [
      "[4.04888165089458, 5.330017908890261, 5.5901699437494745, 6.108472217815261, 6.201736729460423, 6.495698024616309, 6.375767130633382, 6.495698024616309, 6.666666666666667, 6.415002990995841, 6.63723311599972, 6.726727939963125, 6.142951168339512, 6.237828615518053, 6.286946134619314, 5.564148840746572, 5.698028822981898, 5.157106231293967, 4.740454631399772, 3.949762527666821]\n"
     ]
    }
   ],
   "source": [
    "su_pcenter= [] \n",
    "su_frac= []\n",
    "su_err= []\n",
    "\n",
    "for x in range(len(pcenter)):   #    print(pcenter[x]*100,frac[x]*100,fracerr[x]*100) \n",
    "    su_pcenter.append(pcenter[x]*100)\n",
    "    su_frac.append(frac[x]*100)\n",
    "    su_err.append(fracerr[x]*100)\n",
    "print(su_err)    \n",
    "\n",
    "#what causes the differences? --- small differences, but same data\n",
    "#sample difference-- using all of st82\n",
    "\n",
    "#Su's split for training and validation--- github *** jupyter notebook-- Splitting ----- not full st82** --- just validation set\n",
    "# https://github.com/sujeong-lee/DMASS/blob/py3/notebook/XD_fitting-new%20DMASS-half%20st82.ipynb\n",
    "# split st82 region in half for fig 3\n",
    "# module applied to spt: trained over all st82\n",
    "\n",
    "#noise component to XDfitting-- can't control noise level\n",
    "\n",
    "#if splitting does not nulify the difference: use pickle file to see if the same result is attainable-- if not: \n",
    "#problem within XDfitting\n",
    "\n",
    "#for toy distributions (some part of pickle file): fluctuations between runs ** what are the fluc."
   ]
  },
  {
   "cell_type": "code",
   "execution_count": 60,
   "id": "f6ed11fe-d7bf-4fb7-bc58-42352848ef1b",
   "metadata": {},
   "outputs": [
    {
     "name": "stdout",
     "output_type": "stream",
     "text": [
      "[-0.10526662  0.0460154  -0.07699148  0.04610233  0.04826327 -0.08069503\n",
      "  0.          0.          0.06006127 -0.12805686  0.18271028 -0.03023264\n",
      "  0.13160688 -0.05980798 -0.1089255   0.1154695   0.05632455  0.05575412\n",
      " -0.01589872  0.02802389]\n",
      "[ 0.00977281  0.07395958  0.66197202  0.00872559  0.65971934  1.4458592\n",
      "  0.54991952  0.06057508  0.11576778  2.33587213  0.27822444  0.36041736\n",
      " -0.67787354 -0.75828454  3.03082192 -0.15130041  0.28521311  0.12205965\n",
      "  0.06745296  0.03454843]\n"
     ]
    },
    {
     "data": {
      "text/plain": [
       "[<matplotlib.lines.Line2D at 0x2b1e38766ba8>]"
      ]
     },
     "execution_count": 60,
     "metadata": {},
     "output_type": "execute_result"
    },
    {
     "data": {
      "image/png": "[encoded data removed]",
      "text/plain": [
       "<Figure size 432x288 with 1 Axes>"
      ]
     },
     "metadata": {
      "needs_background": "light"
     },
     "output_type": "display_data"
    }
   ],
   "source": [
    "# Su's numbers:\n",
    "\n",
    "su_data_string = '''2.500000000000000000e+00 1.948703339465334139e-01 3.943615033625495148e+00\n",
    "7.500000000000000888e+00 6.549309104675374194e+00 5.376033305704703835e+00\n",
    "1.250000000000000000e+01 1.325543916196615690e+01 5.513178464199712359e+00\n",
    "1.750000000000000000e+01 1.723237597911227326e+01 6.154574548966635916e+00\n",
    "2.250000000000000000e+01 2.293906810035842270e+01 6.250000000000000000e+00\n",
    "2.750000000000000355e+01 2.825581395348837432e+01 6.415002990995841259e+00\n",
    "3.250000000000000711e+01 3.534482758620689680e+01 6.375767130633382074e+00\n",
    "3.750000000000000711e+01 3.792000000000000171e+01 6.495698024616308963e+00\n",
    "4.250000000000000711e+01 4.201520912547528042e+01 6.726727939963124570e+00\n",
    "4.750000000000000000e+01 5.360169491525424235e+01 6.286946134619314286e+00\n",
    "5.250000000000000000e+01 5.094786729857819552e+01 6.819943394704734985e+00\n",
    "5.750000000000000711e+01 5.547263681592039575e+01 6.696495301824251456e+00\n",
    "6.250000000000001421e+01 6.287128712871287206e+01 6.274558051381585955e+00\n",
    "6.750000000000000000e+01 6.599496221662468542e+01 6.178020632152154690e+00\n",
    "7.250000000000001421e+01 7.178082191780822541e+01 6.178020632152154690e+00\n",
    "7.750000000000000000e+01 7.730673316708229947e+01 5.679618342470647896e+00\n",
    "8.250000000000000000e+01 7.905759162303664311e+01 5.754353376484360183e+00\n",
    "8.750000000000001421e+01 8.538283062645011512e+01 5.212860351426868988e+00\n",
    "9.250000000000000000e+01 8.871287128712872061e+01 4.724555912615340247e+00\n",
    "9.750000000000001421e+01 9.239766081871344738e+01 3.977786420878649754e+00'''\n",
    "\n",
    "#su_numbers = np.array('2.500000000000000000e+00 1.948703339465334139e-01 3.943615033625495148e+00 7.500000000000000888e+00 6.549309104675374194e+00 5.376033305704703835e+00 1.250000000000000000e+01 1.325543916196615690e+01 5.513178464199712359e+00 1.750000000000000000e+01 1.723237597911227326e+01 6.154574548966635916e+00 2.250000000000000000e+01 2.293906810035842270e+01 6.250000000000000000e+00 2.750000000000000355e+01 2.825581395348837432e+01 6.415002990995841259e+00 3.250000000000000711e+01 3.534482758620689680e+01 6.375767130633382074e+00 3.750000000000000711e+01 3.792000000000000171e+01 6.495698024616308963e+00 4.250000000000000711e+01 4.201520912547528042e+01 6.726727939963124570e+00 4.750000000000000000e+01 5.360169491525424235e+01 6.286946134619314286e+00 5.250000000000000000e+01 5.094786729857819552e+01 6.819943394704734985e+00 5.750000000000000711e+01 5.547263681592039575e+01 6.696495301824251456e+00 6.250000000000001421e+01 6.287128712871287206e+01 6.274558051381585955e+00 6.750000000000000000e+01 6.599496221662468542e+01 6.178020632152154690e+00 7.250000000000001421e+01 7.178082191780822541e+01 6.178020632152154690e+00 7.750000000000000000e+01 7.730673316708229947e+01 5.679618342470647896e+00 8.250000000000000000e+01 7.905759162303664311e+01 5.754353376484360183e+00 8.750000000000001421e+01 8.538283062645011512e+01 5.212860351426868988e+00 9.250000000000000000e+01 8.871287128712872061e+01 4.724555912615340247e+00 9.750000000000001421e+01 9.239766081871344738e+01 3.977786420878649754e+00')\n",
    "su_array = np.array([line.split() for line in su_data_string.split('\\n')]).astype('float')\n",
    "\n",
    "\n",
    "#print(su_array)\n",
    "'''\n",
    "diff_err = []\n",
    "for x in range(len(su_err)):\n",
    "    diff = su_array[x][2]-su_err[x]\n",
    "    diff_err.append(diff)\n",
    "print(diff_err)\n",
    "'''\n",
    "\n",
    "Diff_err = su_array[:,2] - su_err\n",
    "Diff_frac = su_array[:,1] - su_frac\n",
    "print(Diff_err)\n",
    "print(Diff_frac)\n",
    "\n",
    "fig,ax=plt.subplots()\n",
    "plt.plot(su_pcenter, Diff_err)\n",
    "plt.plot(su_pcenter, Diff_frac)"
   ]
  },
  {
   "cell_type": "code",
   "execution_count": 21,
   "id": "dc8747b8-9b40-49de-bd67-9355959b3a4f",
   "metadata": {},
   "outputs": [
    {
     "name": "stdout",
     "output_type": "stream",
     "text": [
      "calculate loglikelihood gaussian with multiprocessing module\n",
      "multiprocessing 100 % \n",
      "calculate loglikelihood gaussian with multiprocessing module\n",
      "multiprocessing 100 % \n",
      "pcenter 20\n",
      "pbin = [0.   0.05 0.1  0.15 0.2  0.25 0.3  0.35 0.4  0.45 0.5  0.55 0.6  0.65\n",
      " 0.7  0.75 0.8  0.85 0.9  0.95 1.  ]\n",
      "frac =  [0.00170817 0.07063049 0.11573524 0.16193962 0.20154044 0.2513312\n",
      " 0.32168285 0.3358209  0.37867338 0.44444444 0.51388889 0.56236786\n",
      " 0.58775982 0.67741935 0.71198157 0.76649746 0.80837004 0.84768908\n",
      " 0.87693798 0.9184    ]\n",
      "frac.size 20\n",
      "frac err 20\n",
      "[0.02984078 0.0375823  0.04138029 0.0433963  0.04607757 0.04602873\n",
      " 0.04485613 0.04714045 0.04708816 0.04622502 0.04559608 0.0433555\n",
      " 0.04432422 0.04279605 0.0402259  0.04068942 0.03691067 0.03520167\n",
      " 0.03324112 0.02951407]\n"
     ]
    },
    {
     "data": {
      "image/png": "[encoded data removed]",
      "text/plain": [
       "<Figure size 432x288 with 1 Axes>"
      ]
     },
     "metadata": {
      "needs_background": "light"
     },
     "output_type": "display_data"
    },
    {
     "data": {
      "image/png": "[encoded data removed]",
      "text/plain": [
       "<Figure size 432x288 with 1 Axes>"
      ]
     },
     "metadata": {
      "needs_background": "light"
     },
     "output_type": "display_data"
    },
    {
     "data": {
      "image/png": "[encoded data removed]",
      "text/plain": [
       "<Figure size 432x288 with 1 Axes>"
      ]
     },
     "metadata": {
      "needs_background": "light"
     },
     "output_type": "display_data"
    }
   ],
   "source": [
    "# Figure 3 start: Beverly old:\n",
    "%matplotlib inline\n",
    "import matplotlib.pyplot as plt\n",
    "\n",
    "cmass_fraction = clean_cmass_data_des.size *1./gold_st82.size\n",
    "#call in catalogs\n",
    "# Assigning CMASS probabilities to Gold Y1 in Stripe 82.\n",
    "mag = ['MAG_MODEL', 'MAG_DETMODEL'] \n",
    "err = ['MAGERR_MODEL', 'MAGERR_DETMODEL'] \n",
    "filter = ['G', 'R', 'I']\n",
    "\n",
    "clean_dmass_prob = assignCMASSProb(clean_cmass_data_des, clf_dmass, clf_nodmass, \n",
    "                     cmass_fraction =cmass_fraction\n",
    ", \n",
    "                     mag=mag, err=err, filter=filter )\n",
    "\n",
    "dmass_st82_real = clean_dmass_prob\n",
    "\n",
    "dmass_st82_val = assignCMASSProb(gold_st82, clf_dmass, clf_nodmass, \n",
    "                     cmass_fraction =cmass_fraction\n",
    ", \n",
    "                     mag=mag, err=err, filter=filter )\n",
    "\n",
    "pbin = np.linspace(0, 1, 21)\n",
    "pcenter = pbin[:-1] + 0.025\n",
    "print('pcenter',pcenter.size)\n",
    "N, _ = np.histogram(dmass_st82_real['CMASS_PROB'], bins=pbin) # -- true cmass\n",
    "print('pbin =', pbin)\n",
    "M, _ = np.histogram(dmass_st82_val['CMASS_PROB'], bins=pbin) # -- dmass\n",
    "\n",
    "fig, ax = plt.subplots()\n",
    "ax.hist( dmass_st82_real['CMASS_PROB'], bins= 100)\n",
    "fig, ax = plt.subplots()\n",
    "ax.hist( dmass_st82_val['CMASS_PROB'], bins= 100)\n",
    "\n",
    "#pbin, frac, fracerr = np.genfromtxt('../paper_figure/model_probability.txt', unpack=True)\n",
    "\n",
    "frac = N/M\n",
    "print('frac = ', frac)\n",
    "print('frac.size', frac.size)\n",
    "fracerr = 1/np.sqrt(N) #1 / sqrt(number of true cmass galaxies in each bin)\n",
    "print('frac err', fracerr.size)\n",
    "fig, ax = plt.subplots()\n",
    "ax.errorbar( pcenter, frac, yerr=fracerr)\n",
    "plt.title('ST82 Region Check Y1')\n",
    "print(fracerr)\n",
    "ax.plot([0,1], [0,1], ls='--', color='grey')\n",
    "\n",
    "fig.savefig('test_histo_y1_warner_old.pdf')"
   ]
  },
  {
   "cell_type": "code",
   "execution_count": 22,
   "id": "e838c9fd-c184-4f59-8b0e-eebfb15a15af",
   "metadata": {},
   "outputs": [
    {
     "name": "stdout",
     "output_type": "stream",
     "text": [
      "2.5 0.17081666489207975 2.984077663422269\n",
      "7.500000000000001 7.063048683160416 3.7582301400141445\n",
      "12.5 11.573523583036067 4.13802944301184\n",
      "17.5 16.193961573650505 4.339630366027461\n",
      "22.5 20.154043645699616 4.607756775840914\n",
      "27.500000000000004 25.133120340788075 4.602873089491617\n",
      "32.50000000000001 32.16828478964401 4.485613040162566\n",
      "37.50000000000001 33.582089552238806 4.714045207910317\n",
      "42.50000000000001 37.86733837111671 4.70881609348011\n",
      "47.5 44.44444444444444 4.622501635210242\n",
      "52.5 51.388888888888886 4.559607525875532\n",
      "57.50000000000001 56.236786469344615 4.3355498476206\n",
      "62.500000000000014 58.775981524249424 4.432422071779363\n",
      "67.5 67.74193548387096 4.279604925109129\n",
      "72.50000000000001 71.19815668202764 4.022589933545649\n",
      "77.5 76.6497461928934 4.068942293855797\n",
      "82.5 80.83700440528634 3.691067352627811\n",
      "87.50000000000001 84.76890756302521 3.5201667190438144\n",
      "92.5 87.6937984496124 3.324112476572668\n",
      "97.50000000000001 91.84 2.9514066805047765\n"
     ]
    }
   ],
   "source": [
    "warner_pcenter= [] \n",
    "warner_frac= []\n",
    "warner_err= []\n",
    "\n",
    "for x in range(len(pcenter)):\n",
    "    print(pcenter[x]*100,frac[x]*100,fracerr[x]*100)\n",
    "    \n",
    "    warner_pcenter.append(pcenter[x]*100)\n",
    "    warner_frac.append(frac[x]*100)\n",
    "    warner_err.append(fracerr[x]*100)"
   ]
  },
  {
   "cell_type": "code",
   "execution_count": 23,
   "id": "ca55d21f-9e96-47af-a4bc-b964b85c706f",
   "metadata": {},
   "outputs": [
    {
     "ename": "TypeError",
     "evalue": "unsupported operand type(s) for -: 'list' and 'list'",
     "output_type": "error",
     "traceback": [
      "\u001b[0;31m---------------------------------------------------------------------------\u001b[0m",
      "\u001b[0;31mTypeError\u001b[0m                                 Traceback (most recent call last)",
      "\u001b[0;32m<ipython-input-23-66b6517cc651>\u001b[0m in \u001b[0;36m<module>\u001b[0;34m\u001b[0m\n\u001b[1;32m      1\u001b[0m \u001b[0;31m# checking difference between Su and Warner DMASS:\u001b[0m\u001b[0;34m\u001b[0m\u001b[0;34m\u001b[0m\u001b[0m\n\u001b[1;32m      2\u001b[0m \u001b[0;34m\u001b[0m\u001b[0m\n\u001b[0;32m----> 3\u001b[0;31m \u001b[0mpcenter_diff\u001b[0m\u001b[0;34m=\u001b[0m \u001b[0msu_pcenter\u001b[0m\u001b[0;34m-\u001b[0m\u001b[0mwarner_pcenter\u001b[0m\u001b[0;34m\u001b[0m\u001b[0m\n\u001b[0m\u001b[1;32m      4\u001b[0m \u001b[0mfrac_diff\u001b[0m\u001b[0;34m=\u001b[0m \u001b[0msu_frac\u001b[0m\u001b[0;34m-\u001b[0m\u001b[0mwarner_frac\u001b[0m\u001b[0;34m\u001b[0m\u001b[0m\n\u001b[1;32m      5\u001b[0m \u001b[0merr_diff\u001b[0m\u001b[0;34m=\u001b[0m \u001b[0msu_err\u001b[0m\u001b[0;34m-\u001b[0m\u001b[0mwarner_err\u001b[0m\u001b[0;34m\u001b[0m\u001b[0m\n",
      "\u001b[0;31mTypeError\u001b[0m: unsupported operand type(s) for -: 'list' and 'list'"
     ]
    }
   ],
   "source": [
    "# checking difference between Su and Warner DMASS:\n",
    "\n",
    "pcenter_diff= su_pcenter-warner_pcenter\n",
    "frac_diff= su_frac-warner_frac\n",
    "err_diff= su_err-warner_err\n",
    "\n",
    "print(su_frac)\n",
    "print(frac_diff)\n",
    "\n",
    "fig, ax = plt.subplots()\n",
    "ax.hist( pcenter_diff, bins= 100)\n",
    "plt.title('pcenter difference')\n",
    "fig, ax = plt.subplots()\n",
    "ax.hist( frac_diff, bins= 100)\n",
    "plt.title('fraction difference')\n",
    "fig, ax = plt.subplots()\n",
    "ax.hist( err_diff, bins= 100)\n",
    "plt.title('fraction error difference')"
   ]
  },
  {
   "cell_type": "code",
   "execution_count": 26,
   "id": "e99d7b93-fcf8-4ec8-acc6-32ff18cc77e5",
   "metadata": {},
   "outputs": [
    {
     "name": "stdout",
     "output_type": "stream",
     "text": [
      "calculate loglikelihood gaussian with multiprocessing module\n",
      "multiprocessing 100 % \n",
      "calculate loglikelihood gaussian with multiprocessing module\n",
      "multiprocessing 100 % \n",
      "pcenter 20\n",
      "pbin = [0.   0.05 0.1  0.15 0.2  0.25 0.3  0.35 0.4  0.45 0.5  0.55 0.6  0.65\n",
      " 0.7  0.75 0.8  0.85 0.9  0.95 1.  ]\n",
      "frac =  [0.00202386 0.06847721 0.12328767 0.16644562 0.22506862 0.30132053\n",
      " 0.34206897 0.37213115 0.41081081 0.50833333 0.50229358 0.57943925\n",
      " 0.62268519 0.67703349 0.74226804 0.76777251 0.81954887 0.83148559\n",
      " 0.882      0.90877193]\n",
      "frac.size 20\n",
      "frac err 20\n",
      "[0.03869116 0.05322463 0.0571662  0.06311944 0.06375767 0.06311944\n",
      " 0.06350006 0.06637233 0.06622662 0.06401844 0.06757374 0.06350006\n",
      " 0.06097108 0.05944383 0.05892557 0.05555556 0.05530013 0.05163978\n",
      " 0.04761905 0.04393748]\n"
     ]
    },
    {
     "data": {
      "image/png": "[encoded data removed]",
      "text/plain": [
       "<Figure size 432x288 with 1 Axes>"
      ]
     },
     "metadata": {
      "needs_background": "light"
     },
     "output_type": "display_data"
    },
    {
     "data": {
      "image/png": "[encoded data removed]",
      "text/plain": [
       "<Figure size 432x288 with 1 Axes>"
      ]
     },
     "metadata": {
      "needs_background": "light"
     },
     "output_type": "display_data"
    },
    {
     "data": {
      "image/png": "[encoded data removed]",
      "text/plain": [
       "<Figure size 432x288 with 1 Axes>"
      ]
     },
     "metadata": {
      "needs_background": "light"
     },
     "output_type": "display_data"
    }
   ],
   "source": [
    "# Figure 3 start: Beverly, New EVEN:\n",
    "%matplotlib inline\n",
    "import matplotlib.pyplot as plt\n",
    "\n",
    "#cmass_fraction = clean_cmass_data_des.size *1./gold_st82.size\n",
    "#call in catalogs\n",
    "# Assigning CMASS probabilities to Gold Y1 in Stripe 82.\n",
    "mag = ['MAG_MODEL', 'MAG_DETMODEL'] \n",
    "err = ['MAGERR_MODEL', 'MAGERR_DETMODEL'] \n",
    "filter = ['G', 'R', 'I']\n",
    "\n",
    "clean_dmass_prob = assignCMASSProb(clean_cmass_data_des_odd, clf_dmass_even, clf_nodmass_even, \n",
    "                     cmass_fraction =cmass_fraction_even\n",
    ", \n",
    "                     mag=mag, err=err, filter=filter )\n",
    "\n",
    "dmass_st82_real = clean_dmass_prob\n",
    "\n",
    "dmass_st82_val = assignCMASSProb(gold_st82_odd, clf_dmass_even, clf_nodmass_even, \n",
    "                     cmass_fraction =cmass_fraction_even\n",
    ", \n",
    "                     mag=mag, err=err, filter=filter )\n",
    "\n",
    "pbin = np.linspace(0, 1, 21)\n",
    "pcenter = pbin[:-1] + 0.025\n",
    "print('pcenter',pcenter.size)\n",
    "N, _ = np.histogram(dmass_st82_real['CMASS_PROB'], bins=pbin) # -- true cmass\n",
    "print('pbin =', pbin)\n",
    "M, _ = np.histogram(dmass_st82_val['CMASS_PROB'], bins=pbin) # -- dmass\n",
    "\n",
    "fig, ax = plt.subplots()\n",
    "ax.hist( dmass_st82_real['CMASS_PROB'], bins= 100)\n",
    "fig, ax = plt.subplots()\n",
    "ax.hist( dmass_st82_val['CMASS_PROB'], bins= 100)\n",
    "\n",
    "#pbin, frac, fracerr = np.genfromtxt('../paper_figure/model_probability.txt', unpack=True)\n",
    "\n",
    "frac = N/M\n",
    "print('frac = ', frac)\n",
    "print('frac.size', frac.size)\n",
    "fracerr = 1/np.sqrt(N) #1 / sqrt(number of true cmass galaxies in each bin)\n",
    "print('frac err', fracerr.size)\n",
    "fig, ax = plt.subplots()\n",
    "ax.errorbar( pcenter, frac, yerr=fracerr)\n",
    "plt.title('Odd Validation Region Check Y1')\n",
    "print(fracerr)\n",
    "ax.plot([0,1], [0,1], ls='--', color='grey')\n",
    "\n",
    "fig.savefig('test_histo_y1_warner_even.pdf')"
   ]
  },
  {
   "cell_type": "code",
   "execution_count": 27,
   "id": "61f13067-c95f-44a5-b709-19415dd61a2f",
   "metadata": {},
   "outputs": [],
   "source": [
    "# save the sample. \n",
    "outdir = '../output/test/train_cat/y1/'\n",
    "os.makedirs(outdir, exist_ok=True)\n",
    "esutil.io.write( outdir+'dmass_st82_val_warner.fits', dmass_st82_val, overwrite=True)"
   ]
  },
  {
   "cell_type": "code",
   "execution_count": 18,
   "id": "24addf2c-528a-4b3a-afe5-33360a418a9f",
   "metadata": {},
   "outputs": [
    {
     "name": "stdout",
     "output_type": "stream",
     "text": [
      "random sampling... \n",
      "num of randomly sampled cmass  6325\n",
      "num of randomly sampled non-cmass  34020\n",
      "cmass_fraction (cmass/non-cmass):  0.018252545977658307\n",
      "Using central 100% to set range.\n",
      "Using central 100% to set range.\n"
     ]
    },
    {
     "data": {
      "image/png": "[encoded data removed]",
      "text/plain": [
       "<Figure size 1152x288 with 4 Axes>"
      ]
     },
     "metadata": {
      "needs_background": "light"
     },
     "output_type": "display_data"
    },
    {
     "data": {
      "image/png": "[encoded data removed]",
      "text/plain": [
       "<Figure size 1152x288 with 4 Axes>"
      ]
     },
     "metadata": {
      "needs_background": "light"
     },
     "output_type": "display_data"
    }
   ],
   "source": [
    "# do ks-test\n",
    "# make 2D plots: contour plots\n",
    "\n",
    "n_sample =  int(clean_cmass_data_des_even.size)  # train cmass sample size\n",
    "n_sample_non = int(nocmass_even.size/10)  # train non-cmass sample size\n",
    "\n",
    "print('random sampling... ')\n",
    "sampling_ind = np.random.choice(np.arange(clean_cmass_data_des_even.size), size = n_sample)\n",
    "clean_cmass_data_des_sub = clean_cmass_data_des_even[sampling_ind]\n",
    "print('num of randomly sampled cmass ', clean_cmass_data_des_sub.size)\n",
    "random_sampling_ind = np.random.choice(np.arange(nocmass_even.size), size = n_sample_non )\n",
    "nocmass_sub = nocmass_even[random_sampling_ind]\n",
    "print('num of randomly sampled non-cmass ', nocmass_sub.size)\n",
    "\n",
    "# The fraction of CMASS galaxies in the training region.\n",
    "# This number is required to put a prior for the Bayesian statistics \n",
    "cmass_fraction = clean_cmass_data_des_even.size *1./gold_st82_even.size\n",
    "print('cmass_fraction (cmass/non-cmass): ', cmass_fraction)\n",
    "outdir = '../output/test/fitting/'\n",
    "os.makedirs(outdir, exist_ok=True)\n",
    "f = open(outdir+'cmassfrac', 'w')\n",
    "f.write('{0:.10f}'.format(cmass_fraction))\n",
    "f.close()\n",
    "\n",
    "# number of gaussian mixtures\n",
    "# Set None for a initial run. The algorithm automatically finds an optimal number\n",
    "n_cmass = None    # for cmass\n",
    "n_no = None       # for non-cmass \n",
    "\n",
    "# Magnitudes and corresponding errors you want to use to train the algorithm. \n",
    "# `mixing_color` automatically constructs [mag g, mag r, color (g-r), color (r-i)] and \n",
    "# its 4x4 covariance matrix from the input magnitudes. \n",
    "# I simply put `SOF_CM_MAG_CORRECTED` magnitudes for now. \n",
    "# If you want to use different combinations of mags and colors, \n",
    "# modify `mixing_color` or build your own function. \n",
    "mag = ['MAG_MODEL', 'MAG_DETMODEL'] \n",
    "err = ['MAGERR_MODEL', 'MAGERR_DETMODEL'] \n",
    "filter = ['G', 'R', 'I']\n",
    "\n",
    "# This generates four columns of cmass training sample. order : mag r, mag i, (g-r), (r-i)\n",
    "X_cmass_true, X_cmass_cov = mixing_color(clean_cmass_data_des_sub, \n",
    "                mag = mag, err=err, filter=filter, \n",
    "                no_zband = True )\n",
    "\n",
    "# This generates four columns of non-cmass training sample. order : mag r, mag i, (g-r), (r-i)\n",
    "X_no_true, X_no_cov = mixing_color(nocmass_sub, \n",
    "                mag = mag, err=err, filter=filter, \n",
    "                no_zband = True )\n",
    "\n",
    "\n",
    "doVisualization_1d( data=[X_cmass_true, X_sample_dmass_even], \n",
    "                   labels = ['mag r', 'mag i', 'g-r', 'r-i'], \n",
    "                   ranges = None, \n",
    "                   name = ['train sample', 'model sample'], \n",
    "                   weight = [None,None], \n",
    "                   nbins=100)\n",
    "\n",
    "doVisualization_1d( data=[X_no_true, X_sample_nodmass_even], \n",
    "                   labels = ['mag r', 'mag i', 'g-r', 'r-i'], \n",
    "                   ranges = None, \n",
    "                   name = ['train sample', 'model sample'], \n",
    "                   weight = [None,None], \n",
    "                   nbins=100)"
   ]
  },
  {
   "cell_type": "code",
   "execution_count": 36,
   "id": "4d4abd91-3644-4e74-a286-baf80f17039d",
   "metadata": {},
   "outputs": [],
   "source": [
    "w_odd_pcenter= [] \n",
    "w_odd_frac= []\n",
    "w_odd_err= []\n",
    "\n",
    "for x in range(len(pcenter)):\n",
    "    \n",
    "    w_odd_pcenter.append(pcenter[x]*100)\n",
    "    w_odd_frac.append(frac[x]*100)\n",
    "    w_odd_err.append(fracerr[x]*100)"
   ]
  },
  {
   "cell_type": "code",
   "execution_count": 37,
   "id": "dd44cd0b-b678-4cf2-a381-51800d7d37f2",
   "metadata": {},
   "outputs": [
    {
     "name": "stdout",
     "output_type": "stream",
     "text": [
      "calculate loglikelihood gaussian with multiprocessing module\n",
      "multiprocessing 100 % \n",
      "calculate loglikelihood gaussian with multiprocessing module\n",
      "multiprocessing 100 % \n",
      "pcenter 20\n",
      "pbin = [0.   0.05 0.1  0.15 0.2  0.25 0.3  0.35 0.4  0.45 0.5  0.55 0.6  0.65\n",
      " 0.7  0.75 0.8  0.85 0.9  0.95 1.  ]\n",
      "frac =  [0.00152014 0.06365129 0.09612519 0.13821138 0.18128655 0.22147651\n",
      " 0.27657005 0.30222222 0.3216     0.38502674 0.44680851 0.48336595\n",
      " 0.53862213 0.57366071 0.66371681 0.73043478 0.75       0.83157895\n",
      " 0.87480438 0.91094891]\n",
      "frac.size 20\n",
      "frac err 20\n",
      "[0.04490133 0.05352877 0.06225728 0.06482037 0.06350006 0.06579517\n",
      " 0.06608186 0.070014   0.07053456 0.06804138 0.06579517 0.06362848\n",
      " 0.06225728 0.06237829 0.05773503 0.05455447 0.05205792 0.04593152\n",
      " 0.04229549 0.04003204]\n"
     ]
    },
    {
     "data": {
      "image/png": "[encoded data removed]",
      "text/plain": [
       "<Figure size 432x288 with 1 Axes>"
      ]
     },
     "metadata": {
      "needs_background": "light"
     },
     "output_type": "display_data"
    },
    {
     "data": {
      "image/png": "[encoded data removed]",
      "text/plain": [
       "<Figure size 432x288 with 1 Axes>"
      ]
     },
     "metadata": {
      "needs_background": "light"
     },
     "output_type": "display_data"
    },
    {
     "data": {
      "image/png": "[encoded data removed]",
      "text/plain": [
       "<Figure size 432x288 with 1 Axes>"
      ]
     },
     "metadata": {
      "needs_background": "light"
     },
     "output_type": "display_data"
    }
   ],
   "source": [
    "# Figure 3 start: Beverly, New ODD:\n",
    "%matplotlib inline\n",
    "import matplotlib.pyplot as plt\n",
    "\n",
    "#cmass_fraction = clean_cmass_data_des.size *1./gold_st82.size\n",
    "#call in catalogs\n",
    "# Assigning CMASS probabilities to Gold Y1 in Stripe 82.\n",
    "mag = ['MAG_MODEL', 'MAG_DETMODEL'] \n",
    "err = ['MAGERR_MODEL', 'MAGERR_DETMODEL'] \n",
    "filter = ['G', 'R', 'I']\n",
    "\n",
    "clean_dmass_prob = assignCMASSProb(clean_cmass_data_des_even, clf_dmass_odd, clf_nodmass_odd, \n",
    "                     cmass_fraction =cmass_fraction_odd\n",
    ", \n",
    "                     mag=mag, err=err, filter=filter )\n",
    "\n",
    "dmass_st82_real = clean_dmass_prob\n",
    "\n",
    "dmass_st82_val = assignCMASSProb(gold_st82_even, clf_dmass_odd, clf_nodmass_odd, \n",
    "                     cmass_fraction =cmass_fraction_odd\n",
    ", \n",
    "                     mag=mag, err=err, filter=filter )\n",
    "\n",
    "pbin = np.linspace(0, 1, 21)\n",
    "pcenter = pbin[:-1] + 0.025\n",
    "print('pcenter',pcenter.size)\n",
    "N, _ = np.histogram(dmass_st82_real['CMASS_PROB'], bins=pbin) # -- true cmass\n",
    "print('pbin =', pbin)\n",
    "M, _ = np.histogram(dmass_st82_val['CMASS_PROB'], bins=pbin) # -- dmass\n",
    "\n",
    "fig, ax = plt.subplots()\n",
    "ax.hist( dmass_st82_real['CMASS_PROB'], bins= 100)\n",
    "fig, ax = plt.subplots()\n",
    "ax.hist( dmass_st82_val['CMASS_PROB'], bins= 100)\n",
    "\n",
    "#pbin, frac, fracerr = np.genfromtxt('../paper_figure/model_probability.txt', unpack=True)\n",
    "\n",
    "frac = N/M\n",
    "print('frac = ', frac)\n",
    "print('frac.size', frac.size)\n",
    "fracerr = 1/np.sqrt(N) #1 / sqrt(number of true cmass galaxies in each bin)\n",
    "print('frac err', fracerr.size)\n",
    "fig, ax = plt.subplots()\n",
    "ax.errorbar( pcenter, frac, yerr=fracerr)\n",
    "plt.title('Even Validation Region Check Y1')\n",
    "print(fracerr)\n",
    "ax.plot([0,1], [0,1], ls='--', color='grey')\n",
    "\n",
    "fig.savefig('test_histo_y1_warner_odd.pdf')"
   ]
  },
  {
   "cell_type": "code",
   "execution_count": null,
   "id": "d579ec6b-f13c-4833-85d2-813b2d5a4bc7",
   "metadata": {},
   "outputs": [],
   "source": [
    "# do ks-test\n",
    "# make 2D plots: contour plots\n",
    "\n",
    "n_sample =  int(clean_cmass_data_des_odd.size)  # train cmass sample size\n",
    "n_sample_non = int(nocmass_odd.size/20)  # train non-cmass sample size\n",
    "\n",
    "print('random sampling... ')\n",
    "sampling_ind = np.random.choice(np.arange(clean_cmass_data_des_odd.size), size = n_sample)\n",
    "clean_cmass_data_des_sub = clean_cmass_data_des_odd[sampling_ind]\n",
    "print('num of randomly sampled cmass ', clean_cmass_data_des_sub.size)\n",
    "random_sampling_ind = np.random.choice(np.arange(nocmass_odd.size), size = n_sample_non )\n",
    "nocmass_sub = nocmass_odd[random_sampling_ind]\n",
    "print('num of randomly sampled non-cmass ', nocmass_sub.size)\n",
    "\n",
    "# The fraction of CMASS galaxies in the training region.\n",
    "# This number is required to put a prior for the Bayesian statistics \n",
    "cmass_fraction = clean_cmass_data_des_odd.size *1./gold_st82_odd.size\n",
    "print('cmass_fraction (cmass/non-cmass): ', cmass_fraction)\n",
    "outdir = '../output/test/fitting/'\n",
    "os.makedirs(outdir, exist_ok=True)\n",
    "f = open(outdir+'cmassfrac', 'w')\n",
    "f.write('{0:.10f}'.format(cmass_fraction))\n",
    "f.close()\n",
    "\n",
    "# number of gaussian mixtures\n",
    "# Set None for a initial run. The algorithm automatically finds an optimal number\n",
    "n_cmass = None    # for cmass\n",
    "n_no = None       # for non-cmass \n",
    "\n",
    "# Magnitudes and corresponding errors you want to use to train the algorithm. \n",
    "# `mixing_color` automatically constructs [mag g, mag r, color (g-r), color (r-i)] and \n",
    "# its 4x4 covariance matrix from the input magnitudes. \n",
    "# I simply put `SOF_CM_MAG_CORRECTED` magnitudes for now. \n",
    "# If you want to use different combinations of mags and colors, \n",
    "# modify `mixing_color` or build your own function. \n",
    "mag = ['MAG_MODEL', 'MAG_DETMODEL'] \n",
    "err = ['MAGERR_MODEL', 'MAGERR_DETMODEL'] \n",
    "filter = ['G', 'R', 'I']\n",
    "\n",
    "# This generates four columns of cmass training sample. order : mag r, mag i, (g-r), (r-i)\n",
    "X_cmass_true, X_cmass_cov = mixing_color(clean_cmass_data_des_sub, \n",
    "                mag = mag, err=err, filter=filter, \n",
    "                no_zband = True )\n",
    "\n",
    "# This generates four columns of non-cmass training sample. order : mag r, mag i, (g-r), (r-i)\n",
    "X_no_true, X_no_cov = mixing_color(nocmass_sub, \n",
    "                mag = mag, err=err, filter=filter, \n",
    "                no_zband = True )\n",
    "\n",
    "\n",
    "doVisualization_1d( data=[X_cmass_true, X_sample_dmass_odd], \n",
    "                   labels = ['mag r', 'mag i', 'g-r', 'r-i'], \n",
    "                   ranges = None, \n",
    "                   name = ['train sample', 'model sample'], \n",
    "                   weight = [None,None], \n",
    "                   nbins=100)\n",
    "\n",
    "doVisualization_1d( data=[X_no_true, X_sample_nodmass_odd], \n",
    "                   labels = ['mag r', 'mag i', 'g-r', 'r-i'], \n",
    "                   ranges = None, \n",
    "                   name = ['train sample', 'model sample'], \n",
    "                   weight = [None,None], \n",
    "                   nbins=100)"
   ]
  },
  {
   "cell_type": "code",
   "execution_count": 38,
   "id": "64535653-231b-4b82-acc5-c0ca0a4ada93",
   "metadata": {},
   "outputs": [],
   "source": [
    "w_even_pcenter= [] \n",
    "w_even_frac= []\n",
    "w_even_err= []\n",
    "\n",
    "for x in range(len(pcenter)):\n",
    "    \n",
    "    w_even_pcenter.append(pcenter[x]*100)\n",
    "    w_even_frac.append(frac[x]*100)\n",
    "    w_even_err.append(fracerr[x]*100)"
   ]
  },
  {
   "cell_type": "code",
   "execution_count": null,
   "id": "d2925809-79b0-4a90-bab9-5b9e169434b9",
   "metadata": {},
   "outputs": [],
   "source": [
    "#My DMASS colors Y1 distribution for all colors (current y1 version) versus CMASS --- need to alter mixingcolor code\n",
    "\n",
    "def mixing_color_elg(data, suffix = '', \n",
    "    mag = ['MAG_MODEL', 'MAG_DETMODEL'], \n",
    "    err = [ 'MAGERR_MODEL','MAGERR_DETMODEL'], \n",
    "    filter = ['G', 'R', 'I', 'Z'],\n",
    "    full=True,\n",
    "    no_zband = True  ):\n",
    "    print(mag) \n",
    "    magtag = [ m+'_'+f+suffix for m in mag for f in filter ]\n",
    "    print(magtag)\n",
    "    errtag = [ e+'_'+f for e in err for f in filter ]\n",
    "    #del magtag[0], errtag[0]\n",
    "    if 'Z' in filter: del magtag[3], errtag[3]\n",
    "    print(magtag)\n",
    "\n",
    "    X = [ data[mt] for mt in magtag ]\n",
    "    Xerr = [ data[mt] for mt in errtag ]\n",
    "    #reddeningtag = 'XCORR_SFD98'\n",
    "\n",
    "    X = np.vstack(X).T\n",
    "    Xerr = np.vstack(Xerr).T\n",
    "    print(X.shape)\n",
    "    # mixing matrix\n",
    "    W = np.array([[1, 0, 0, 0, 0, 0, 0],    # g mag\n",
    "                  [0, 1, 0, 0, 0, 0, 0],    # r mag\n",
    "                  [0, 0, 1, 0, 0, 0, 0],    # i mag\n",
    "                  [0, 0, 0, 1, -1, 0, 0],   # g-r\n",
    "                  #[0, 0, 0, 0, 1, -1, 0],   # r-i\n",
    "                  #[0, 0, 0, 0, 0, 1, -1],   # i-z\n",
    "                  [1, 0, 0, 0, 0, 0, -1]])  # r-z\n",
    "    if full:\n",
    "        W = np.array([[1, 0, 0, 0, 0, 0, 0],    # g mag\n",
    "                    [0, 1, 0, 0, 0, 0, 0],    # r mag\n",
    "                    [0, 0, 1, 0, 0, 0, 0],    # i mag\n",
    "                    [0, 0, 0, 1, -1, 0, 0],   # g-r\n",
    "                    [0, 0, 0, 0, 1, -1, 0],   # r-i\n",
    "                    [0, 0, 0, 0, 0, 1, -1],   # i-z\n",
    "                    [1, 0, 0, 0, 0, 0, -1]])  # r-z\n",
    "\n",
    "    #if 'Z' not in filter: W = W[:-1,:-1]\n",
    "    print(W.shape)\n",
    "    X = np.dot(X, W.T)\n",
    "\n",
    "    Xcov = np.zeros(Xerr.shape + Xerr.shape[-1:])\n",
    "    Xcov[:, list(range(Xerr.shape[1])), list(range(Xerr.shape[1]))] = Xerr**2\n",
    "    Xcov = np.tensordot(np.dot(Xcov, W.T), W, (-2, -1))\n",
    "    return X, Xcov"
   ]
  },
  {
   "cell_type": "code",
   "execution_count": null,
   "id": "ba4cd6ed-ead4-42b3-8747-4d8c508e5cd3",
   "metadata": {},
   "outputs": [],
   "source": [
    "#checking Mixing Colors code:\n",
    "\n",
    "data = clean_cmass_data_des_sub\n",
    "mag = ['MAG_MODEL', 'MAG_DETMODEL']\n",
    "suffix = ''\n",
    "err = [ 'MAGERR_MODEL','MAGERR_DETMODEL'] \n",
    "filter = ['G', 'R', 'I', 'Z']\n",
    "full=True\n",
    "no_zband = False\n",
    "print(mag)    \n",
    "magtag = [ m+'_'+f+suffix for m in mag for f in filter ]\n",
    "print(magtag)\n",
    "\n",
    "errtag = [ e+'_'+f for e in err for f in filter ]\n",
    "#del magtag[0], errtag[0]\n",
    "if 'Z' in filter: del magtag[3], errtag[3]\n",
    "print(magtag)\n",
    "\n",
    "X = [ data[mt] for mt in magtag ]\n",
    "Xerr = [ data[mt] for mt in errtag ]\n",
    "#reddeningtag = 'XCORR_SFD98'\n",
    "\n",
    "X = np.vstack(X).T\n",
    "Xerr = np.vstack(Xerr).T\n",
    "print(X.shape)\n",
    "# mixing matrix\n",
    "W = np.array([[1, 0, 0, 0, 0, 0, 0],    # g mag\n",
    "    [0, 1, 0, 0, 0, 0, 0],    # r mag\n",
    "    [0, 0, 1, 0, 0, 0, 0],    # i mag\n",
    "    [0, 0, 0, 1, -1, 0, 0],   # g-r\n",
    "    #[0, 0, 0, 0, 1, -1, 0],   # r-i\n",
    "    #[0, 0, 0, 0, 0, 1, -1],   # i-z\n",
    "    [1, 0, 0, 0, 0, 0, -1]])  # r-z\n",
    "if full:\n",
    "    W = np.array([[1, 0, 0, 0, 0, 0, 0],    # g mag\n",
    "    [0, 1, 0, 0, 0, 0, 0],    # r mag\n",
    "    [0, 0, 1, 0, 0, 0, 0],    # i mag\n",
    "    [0, 0, 0, 1, -1, 0, 0],   # g-r\n",
    "    [0, 0, 0, 0, 1, -1, 0],   # r-i\n",
    "    [0, 0, 0, 0, 0, 1, -1],   # i-z\n",
    "    [1, 0, 0, 0, 0, 0, -1]])  # r-z\n",
    "\n",
    "#if 'Z' not in filter: W = W[:-1,:-1]\n",
    "print(W.shape)\n",
    "X = np.dot(X, W.T)\n",
    "\n",
    "Xcov = np.zeros(Xerr.shape + Xerr.shape[-1:])\n",
    "Xcov[:, list(range(Xerr.shape[1])), list(range(Xerr.shape[1]))] = Xerr**2\n",
    "Xcov = np.tensordot(np.dot(Xcov, W.T), W, (-2, -1))"
   ]
  },
  {
   "cell_type": "code",
   "execution_count": null,
   "id": "c0847803-94a0-4c11-9b69-01d2e6028651",
   "metadata": {},
   "outputs": [],
   "source": [
    "n_sample =  int(clean_cmass_data_des.size)  # train cmass sample size\n",
    "n_sample_non = int(nocmass.size/20)  # train non-cmass sample size\n",
    "\n",
    "print('random sampling... ')\n",
    "sampling_ind = np.random.choice(np.arange(clean_cmass_data_des.size), size = n_sample)\n",
    "clean_cmass_data_des_sub = clean_cmass_data_des[sampling_ind]\n",
    "print('num of randomly sampled cmass ', clean_cmass_data_des_sub.size)\n",
    "random_sampling_ind = np.random.choice(np.arange(nocmass.size), size = n_sample_non )\n",
    "nocmass_sub = nocmass[random_sampling_ind]\n",
    "print('num of randomly sampled non-cmass ', nocmass_sub.size)\n",
    "\n",
    "# The fraction of CMASS galaxies in the training region.\n",
    "# This number is required to put a prior for the Bayesian statistics \n",
    "cmass_fraction = clean_cmass_data_des.size *1./gold_st82.size\n",
    "print('cmass_fraction (cmass/non-cmass): ', cmass_fraction)\n",
    "outdir = '../output/test/fitting/'\n",
    "os.makedirs(outdir, exist_ok=True)\n",
    "f = open(outdir+'cmassfrac', 'w')\n",
    "f.write('{0:.10f}'.format(cmass_fraction))\n",
    "f.close()\n",
    "\n",
    "# number of gaussian mixtures\n",
    "# Set None for a initial run. The algorithm automatically finds an optimal number\n",
    "n_cmass = None    # for cmass\n",
    "n_no = None       # for non-cmass \n",
    "\n",
    "\n",
    "mag = ['MAG_MODEL', 'MAG_DETMODEL'] \n",
    "err = ['MAGERR_MODEL', 'MAGERR_DETMODEL'] \n",
    "filter = ['G', 'R', 'I', 'Z']\n",
    "\n",
    "# This generates four columns of cmass training sample. order : mag r, mag i, (g-r), (r-i)\n",
    "X_cmass_true, X_cmass_cov = mixing_color_elg(clean_cmass_data_des_sub, \n",
    "                mag = mag, err=err, filter=filter, \n",
    "                no_zband = False )\n",
    "\n",
    "# This generates four columns of non-cmass training sample. order : mag r, mag i, (g-r), (r-i)\n",
    "X_no_true, X_no_cov = mixing_color_elg(nocmass_sub, \n",
    "                mag = mag, err=err, filter=filter, \n",
    "                no_zband = False )\n",
    "\n",
    "\n",
    "doVisualization_1d( data=[X_cmass_true, X_sample_dmass], \n",
    "                   labels = ['mag g','mag r', 'mag i', 'g-r', 'r-i', 'i-z', 'r-z'], \n",
    "                   ranges = None, \n",
    "                   name = ['train sample', 'model sample'], \n",
    "                   weight = [None,None], \n",
    "                   nbins=100)\n",
    "\n",
    "doVisualization_1d( data=[X_no_true, X_sample_nodmass], \n",
    "                   labels = ['mag g','mag r', 'mag i', 'g-r', 'r-i', 'i-z', 'r-z'], \n",
    "                   ranges = None, \n",
    "                   name = ['train sample', 'model sample'], \n",
    "                   weight = [None,None], \n",
    "                   nbins=100)"
   ]
  },
  {
   "cell_type": "code",
   "execution_count": null,
   "id": "78ac8f7c-ace8-4b8c-b985-89366d69a5c9",
   "metadata": {},
   "outputs": [],
   "source": [
    "# another way: plotting colors\n",
    "\n",
    "fig, ax = plt.subplots()\n",
    "ax.hist( clean_cmass_data_des['MAG_MODEL_I'] - clean_cmass_data_des['MAG_MODEL_R'], bins = 100, density=True )\n",
    "ax.hist( dmass_st82_val['MAG_MODEL_I'] - dmass_st82_val['MAG_MODEL_R'], bins = 100, weight = dmass_st82_val['CMASS_PROB'], density=True)"
   ]
  },
  {
   "cell_type": "code",
   "execution_count": 39,
   "id": "dfe93314-f52b-40d4-bec7-1b2c24645c1f",
   "metadata": {},
   "outputs": [
    {
     "name": "stdout",
     "output_type": "stream",
     "text": [
      "[19.352446 19.637426 20.191978 ... 19.70943  20.028873 19.41806 ]\n"
     ]
    }
   ],
   "source": [
    "print(clean_cmass_data_des['MAG_MODEL_I'])"
   ]
  },
  {
   "cell_type": "code",
   "execution_count": 50,
   "id": "52967075-bd9f-4608-955b-8936b4bc590d",
   "metadata": {},
   "outputs": [
    {
     "name": "stdout",
     "output_type": "stream",
     "text": [
      "[0.0, 0.0, 0.0, 0.0, 0.0, 0.0, 0.0, 0.0, 0.0, 0.0, 0.0, 0.0, 0.0, 0.0, 0.0, 0.0, 0.0, 0.0, 0.0, 0.0]\n",
      "[0.003353941645704017, 0.007297777293183039, 2.4879476584022058, 2.140879079656843, 2.5744876463867463, 1.2189989443480798, 6.38873839642503, 4.883553606454868, 2.5106467737193086, 9.208061051958133, 3.4696428571428655, 3.1581964628658312, 5.979864296196318, 6.488346090995101, 0.577956989247312, 6.606015635921736, -0.04118080540985147, 2.0309573104604084, 1.4743656951142867, 1.132083724139946]\n",
      "[-0.0404224496530734, -0.17480091674154252, -0.7470725614953047, -0.26729491281812123, -0.4354963865392971, 0.1584555193715298, -0.3509608093297425, 0.11993089398292689, 0.10134502368053955, -0.13621482980834276, 0.127787566958526, 0.07482688758573186, 0.05714497383766659, 0.18555328883002797, 0.6703865716020108, -0.06129066388354776, 0.5132703493297717, 0.1695595507558023, 0.39673220376907814, -0.349573276256657]\n"
     ]
    }
   ],
   "source": [
    "# comparing values:\n",
    "#Su's odd versus my odd and even:\n",
    "diff__pcenter_odd = []\n",
    "for x in range(len(su_frac)):\n",
    "    diff = su_pcenter[x]-w_odd_pcenter[x]\n",
    "    diff__pcenter_odd.append(diff)\n",
    "print(diff__pcenter_odd)\n",
    "\n",
    "diff_frac_odd = []\n",
    "for x in range(len(su_frac)):\n",
    "    diff = su_frac[x]-w_odd_frac[x]\n",
    "    diff_frac_odd.append(diff)\n",
    "print(diff_frac_odd) \n",
    "\n",
    "diff_err_odd = []\n",
    "for x in range(len(su_frac)):\n",
    "    diff = su_err[x]-w_odd_err[x]\n",
    "    diff_err_odd.append(diff)\n",
    "print(diff_err_odd) "
   ]
  },
  {
   "cell_type": "code",
   "execution_count": 51,
   "id": "9f91726b-df34-49e7-b7ec-ff490efbf77c",
   "metadata": {},
   "outputs": [
    {
     "data": {
      "text/plain": [
       "(array([1., 0., 0., 0., 0., 0., 0., 0., 0., 0., 0., 0., 0., 0., 0., 0., 0.,\n",
       "        0., 0., 0., 0., 1., 0., 0., 0., 0., 0., 1., 1., 0., 0., 0., 0., 1.,\n",
       "        0., 0., 0., 0., 0., 0., 1., 0., 0., 1., 0., 0., 0., 0., 1., 1., 0.,\n",
       "        0., 0., 0., 0., 0., 1., 1., 0., 1., 0., 2., 0., 1., 1., 1., 0., 0.,\n",
       "        0., 0., 0., 0., 0., 0., 0., 0., 0., 0., 0., 0., 1., 0., 0., 0., 0.,\n",
       "        0., 0., 0., 1., 0., 0., 0., 0., 0., 0., 0., 0., 0., 0., 1.]),\n",
       " array([-0.74707256, -0.73289797, -0.71872338, -0.70454879, -0.6903742 ,\n",
       "        -0.6761996 , -0.66202501, -0.64785042, -0.63367583, -0.61950124,\n",
       "        -0.60532665, -0.59115206, -0.57697747, -0.56280287, -0.54862828,\n",
       "        -0.53445369, -0.5202791 , -0.50610451, -0.49192992, -0.47775533,\n",
       "        -0.46358073, -0.44940614, -0.43523155, -0.42105696, -0.40688237,\n",
       "        -0.39270778, -0.37853319, -0.3643586 , -0.350184  , -0.33600941,\n",
       "        -0.32183482, -0.30766023, -0.29348564, -0.27931105, -0.26513646,\n",
       "        -0.25096186, -0.23678727, -0.22261268, -0.20843809, -0.1942635 ,\n",
       "        -0.18008891, -0.16591432, -0.15173973, -0.13756513, -0.12339054,\n",
       "        -0.10921595, -0.09504136, -0.08086677, -0.06669218, -0.05251759,\n",
       "        -0.03834299, -0.0241684 , -0.00999381,  0.00418078,  0.01835537,\n",
       "         0.03252996,  0.04670455,  0.06087914,  0.07505374,  0.08922833,\n",
       "         0.10340292,  0.11757751,  0.1317521 ,  0.14592669,  0.16010128,\n",
       "         0.17427588,  0.18845047,  0.20262506,  0.21679965,  0.23097424,\n",
       "         0.24514883,  0.25932342,  0.27349801,  0.28767261,  0.3018472 ,\n",
       "         0.31602179,  0.33019638,  0.34437097,  0.35854556,  0.37272015,\n",
       "         0.38689474,  0.40106934,  0.41524393,  0.42941852,  0.44359311,\n",
       "         0.4577677 ,  0.47194229,  0.48611688,  0.50029148,  0.51446607,\n",
       "         0.52864066,  0.54281525,  0.55698984,  0.57116443,  0.58533902,\n",
       "         0.59951361,  0.61368821,  0.6278628 ,  0.64203739,  0.65621198,\n",
       "         0.67038657]),\n",
       " <a list of 100 Patch objects>)"
      ]
     },
     "execution_count": 51,
     "metadata": {},
     "output_type": "execute_result"
    },
    {
     "data": {
      "image/png": "[encoded data removed]",
      "text/plain": [
       "<Figure size 432x288 with 1 Axes>"
      ]
     },
     "metadata": {
      "needs_background": "light"
     },
     "output_type": "display_data"
    }
   ],
   "source": [
    "fig,ax=plt.subplots()\n",
    "ax.hist(diff_err_odd, bins=100)"
   ]
  },
  {
   "cell_type": "code",
   "execution_count": null,
   "id": "3327ddbb-bd43-4294-a5b5-fd12d8572099",
   "metadata": {},
   "outputs": [],
   "source": []
  }
 ],
 "metadata": {
  "kernelspec": {
   "display_name": "Python (DES_env)",
   "language": "python",
   "name": "des_env"
  },
  "language_info": {
   "codemirror_mode": {
    "name": "ipython",
    "version": 3
   },
   "file_extension": ".py",
   "mimetype": "text/x-python",
   "name": "python",
   "nbconvert_exporter": "python",
   "pygments_lexer": "ipython3",
   "version": "3.7.0"
  }
 },
 "nbformat": 4,
 "nbformat_minor": 5
}
