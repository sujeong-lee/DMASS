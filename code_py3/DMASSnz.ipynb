{
 "cells": [
  {
   "cell_type": "code",
   "execution_count": 1,
   "id": "4a19cd1f-9d73-4ad7-9bc6-cea4a42d0fef",
   "metadata": {},
   "outputs": [
    {
     "name": "stderr",
     "output_type": "stream",
     "text": [
      "In /users/PCON0003/warner785/.conda/envs/DES_env/lib/python3.7/site-packages/matplotlib/mpl-data/stylelib/_classic_test.mplstyle: \n",
      "The savefig.frameon rcparam was deprecated in Matplotlib 3.1 and will be removed in 3.3.\n",
      "In /users/PCON0003/warner785/.conda/envs/DES_env/lib/python3.7/site-packages/matplotlib/mpl-data/stylelib/_classic_test.mplstyle: \n",
      "The verbose.level rcparam was deprecated in Matplotlib 3.1 and will be removed in 3.3.\n",
      "In /users/PCON0003/warner785/.conda/envs/DES_env/lib/python3.7/site-packages/matplotlib/mpl-data/stylelib/_classic_test.mplstyle: \n",
      "The verbose.fileo rcparam was deprecated in Matplotlib 3.1 and will be removed in 3.3.\n",
      "WARNING: AstroMLDeprecationWarning: 'decorators' has been moved to 'astroML.utils' and will be removed from the main namespace in the future. [astroML.decorators]\n"
     ]
    },
    {
     "name": "stdout",
     "output_type": "stream",
     "text": [
      "\n",
      "Calling catalogs >>>\n",
      "photoz_GOLD_000002.fits\n",
      "photoz_GOLD_000003.fits\n",
      "photoz_GOLD_000011.fits\n",
      "photoz_GOLD_000001.fits\n",
      "photoz_GOLD_000005.fits\n",
      "photoz_GOLD_000009.fits\n",
      "photoz_GOLD_000008.fits\n",
      "photoz_GOLD_000010.fits\n",
      "photoz_GOLD_000004.fits\n",
      "photoz_GOLD_000007.fits\n",
      "photoz_GOLD_000006.fits\n",
      "reading 1/11 /fs/scratch/PCON0008/warner785/bwarner/photoz_GOLD_000002.fits\n",
      "reading 2/11 /fs/scratch/PCON0008/warner785/bwarner/photoz_GOLD_000003.fits\n",
      "reading 3/11 /fs/scratch/PCON0008/warner785/bwarner/photoz_GOLD_000011.fits\n",
      "reading 4/11 /fs/scratch/PCON0008/warner785/bwarner/photoz_GOLD_000001.fits\n",
      "reading 5/11 /fs/scratch/PCON0008/warner785/bwarner/photoz_GOLD_000005.fits\n",
      "reading 6/11 /fs/scratch/PCON0008/warner785/bwarner/photoz_GOLD_000009.fits\n",
      "reading 7/11 /fs/scratch/PCON0008/warner785/bwarner/photoz_GOLD_000008.fits\n",
      "reading 8/11 /fs/scratch/PCON0008/warner785/bwarner/photoz_GOLD_000010.fits\n",
      "reading 9/11 /fs/scratch/PCON0008/warner785/bwarner/photoz_GOLD_000004.fits\n",
      "reading 10/11 /fs/scratch/PCON0008/warner785/bwarner/photoz_GOLD_000007.fits\n",
      "reading 11/11 /fs/scratch/PCON0008/warner785/bwarner/photoz_GOLD_000006.fits\n",
      "7786723\n",
      "5768487\n"
     ]
    }
   ],
   "source": [
    "# call required functions from modules \n",
    "\n",
    "#sys.path.append('code_py3/')\n",
    "import numpy as np\n",
    "from cmass_modules import io\n",
    "from utils import matchCatalogsbyPosition, hpHEALPixelToRaDec, HealPixifyCatalogs, spatialcheck\n",
    "from xd import mixing_color, XD_fitting_X, assignCMASSProb, doVisualization_1d\n",
    "from run_DMASS_Y3 import priorCut_test\n",
    "\n",
    "# Calling Y3 GOLD v2.0 (training)\n",
    "# All catalogs are in the 'input_path' directory \n",
    "# The 'SearchAndCallFits' function below loads all \n",
    "# catalogs in the directory including 'input_keyword' in its name\n",
    "#input_path = '/n/des/lee.5922/data/gold_cat_Y3/STRIPE82/feae9705305d4430993687930f1cc3ad/'\n",
    "input_path = '/fs/scratch/PCON0008/warner785/bwarner/'\n",
    "# call only first 9 catalogs for a fast run.\n",
    "# to call all catalogs in the directory, use 'Y3_GOLD' as input_keyword \n",
    "# but that will consume huge memory\n",
    "input_keyword = 'photoz_GOLD_'  \n",
    "# Columns to call\n",
    "columns =  ['RA', 'DEC', \n",
    "            'HPIX_4096',     # Healpix in ring order, nside=4096\n",
    "            'SOF_CM_MAG_CORRECTED_G', # mag_[griz]\n",
    "            'SOF_CM_MAG_CORRECTED_R',\n",
    "            'SOF_CM_MAG_CORRECTED_I',\n",
    "            'SOF_CM_MAG_CORRECTED_Z',\n",
    "            'SOF_CM_MAG_ERR_G',       # mag error_[griz]\n",
    "            'SOF_CM_MAG_ERR_R',\n",
    "            'SOF_CM_MAG_ERR_I',\n",
    "            'SOF_CM_MAG_ERR_Z',\n",
    "            'COADD_OBJECT_ID', 'MAG_DETMODEL_G', 'MAG_DETMODEL_R', 'MAG_DETMODEL_I', 'MAG_DETMODEL_Z', \n",
    "            'MAGERR_DETMODEL_G', 'MAGERR_DETMODEL_R', 'MAGERR_DETMODEL_I', 'MAGERR_DETMODEL_Z','EXTENDED_CLASS_MASH_SOF', 'DNF_ZMC_MOF', 'DNF_ZMC_SOF', 'DNF_ZMEAN_MOF', 'DNF_ZMEAN_SOF'] \n",
    "gold_st82 = io.SearchAndCallFits(path = input_path, keyword = input_keyword, columns=columns)\n",
    "\n",
    "# Color/Magnitude cuts to exclude extremely high or low mag/color sources.\n",
    "# 16 < mag_riz < 24, 0 < (r-i) < 1.5, 0 < (g-r) < 2.5\n",
    "# These galaxies are less likeliy to be a CMASS, therefore unnecessary. \n",
    "# We apply these cuts to reduce the sample size to speed up the codes\n",
    "mask_magcut = priorCut_test(gold_st82)\n",
    "gold_st82 = gold_st82[mask_magcut]\n",
    "gold_st82 = gold_st82[(gold_st82['EXTENDED_CLASS_MASH_SOF'] == 3)]\n",
    "\n",
    "def keepGoodRegion(des, hpInd = False, balrog=None):\n",
    "    import healpy as hp\n",
    "    import fitsio\n",
    "    # 25 is the faintest object detected by DES\n",
    "    # objects larger than 25 considered as Noise\n",
    "    \n",
    "    path = '/fs/scratch/PCON0003/warner785/bwarner/'\n",
    "    #LSSGoldmask = fitsio.read(path+'Y1LSSmask_v2_il22_seeil4.0_nside4096ring_redlimcut.fits')\n",
    "    #LSSGoldmask = fitsio.read(path+'Y1LSSmask_v1_il22seeil4.04096ring_redlimcut.fits')\n",
    "    LSSGoldmask = fitsio.read(path+'MASK_Y3LSSBAOSOF_22_3_v2p2.fits')\n",
    "    ringhp = hp.nest2ring(4096, [LSSGoldmask['PIXEL']])\n",
    "    #Y1LSSmask_v1_il22seeil4.04096ring_redlimcut.fits\n",
    "    #frac_cut = LSSGoldmask['FRAC'] > 0.8\n",
    "    #ind_good_ring = LSSGoldmask['PIXEL'][frac_cut]\n",
    "    ind_good_ring = ringhp\n",
    "    \n",
    "    # healpixify the catalog.\n",
    "    nside=4096\n",
    "    # Convert silly ra/dec to silly HP angular coordinates.\n",
    "    phi = des['RA'] * np.pi / 180.0\n",
    "    theta = ( 90.0 - des['DEC'] ) * np.pi/180.0\n",
    "\n",
    "    hpInd = hp.ang2pix(nside,theta,phi,nest=False)\n",
    "    keep = np.in1d(hpInd, ind_good_ring)\n",
    "    des = des[keep]\n",
    "    if hpInd is True:\n",
    "        return ind_good_ring\n",
    "    else:\n",
    "        return des\n",
    "\n",
    "print(gold_st82.size)    \n",
    "gold_st82 = keepGoodRegion(gold_st82)\n",
    "print(gold_st82.size)"
   ]
  },
  {
   "cell_type": "code",
   "execution_count": 2,
   "id": "610e6953-ab04-4365-b932-ec281d63ecf1",
   "metadata": {},
   "outputs": [],
   "source": [
    "import sys\n",
    "sys.path.append('../')\n",
    "from xd import *\n",
    "from utils import *\n",
    "import esutil\n",
    "import healpy as hp\n",
    "from systematics import *\n",
    "from systematics_module import *\n",
    "import os\n",
    "from numpy.lib.recfunctions import append_fields\n",
    "import scipy.stats\n",
    "\n",
    "import healpy\n",
    "\n",
    "import matplotlib.pyplot as plt\n",
    "import numpy as np\n",
    "from run_systematics import sys_iteration, weightmultiply, fitting_allSP, calling_sysMap\n",
    "from sys_functions import *"
   ]
  },
  {
   "cell_type": "code",
   "execution_count": 3,
   "id": "c9385f84-8a0b-46b4-ab05-0a8326600c33",
   "metadata": {},
   "outputs": [],
   "source": [
    "import numpy as np\n",
    "\n",
    "with open('fullCMASSnz.txt') as f:\n",
    "    cmass = f.read()\n",
    "    cmass = np.array(cmass)\n",
    "    #print(cmass)\n",
    "\n",
    "with open('y6dmass_small_clusteringz_nocorr_earlyNov23_cutrange_z_nz_err.txt') as g:\n",
    "    dmass = g.read()\n",
    "    dmass = np.array(dmass)\n",
    "    #print(dmass)"
   ]
  },
  {
   "cell_type": "code",
   "execution_count": 4,
   "id": "f0d8e0b9-63bb-4b28-94a6-e19527a9dbcb",
   "metadata": {},
   "outputs": [],
   "source": [
    "z = []\n",
    "w = 0\n",
    "\n",
    "g = open('y6dmass_small_clusteringz_nocorr_earlyNov23_cutrange_z_nz_err.txt', 'r')\n",
    "for line in g:\n",
    "    line = line.strip()\n",
    "    data = line.split(' ')\n",
    "    data = np.array(data)\n",
    "    #print(data[0])\n",
    "    z.append(np.float(data[w]))\n",
    "g.close()"
   ]
  },
  {
   "cell_type": "code",
   "execution_count": 5,
   "id": "1c550ab9-cf6d-41b3-a660-0bbdad29bf2d",
   "metadata": {},
   "outputs": [
    {
     "name": "stdout",
     "output_type": "stream",
     "text": [
      "556.2061238596043\n",
      "1.0\n"
     ]
    }
   ],
   "source": [
    "dmass_nz = []\n",
    "w = 1\n",
    "\n",
    "g = open('y6dmass_small_clusteringz_nocorr_earlyNov23_cutrange_z_nz_err.txt', 'r')\n",
    "for line in g:\n",
    "    line = line.strip()\n",
    "    data = line.split(' ')\n",
    "    data = np.array(data)\n",
    "    #print(data[0])\n",
    "    dmass_nz.append(np.float(data[w]))\n",
    "g.close()\n",
    "\n",
    "area = np.trapz(dmass_nz,z)\n",
    "print(area)\n",
    "dmass_norm = dmass_nz/area\n",
    "area2 = np.trapz(dmass_norm,z)\n",
    "print(area2)"
   ]
  },
  {
   "cell_type": "code",
   "execution_count": 6,
   "id": "91b28043-0d9c-4b98-a72e-35ead819b553",
   "metadata": {},
   "outputs": [],
   "source": [
    "dmass_error = []\n",
    "w = 2\n",
    "\n",
    "g = open('y6dmass_small_clusteringz_nocorr_earlyNov23_cutrange_z_nz_err.txt', 'r')\n",
    "for line in g:\n",
    "    line = line.strip()\n",
    "    data = line.split(' ')\n",
    "    data = np.array(data)\n",
    "    #print(data[0])\n",
    "    dmass_error.append(np.float(data[w]))\n",
    "g.close()\n",
    "\n",
    "norm_error = dmass_error/area"
   ]
  },
  {
   "cell_type": "code",
   "execution_count": 7,
   "id": "63669d8d-5108-4a12-8d37-7b5e25bf7169",
   "metadata": {},
   "outputs": [],
   "source": [
    "z2 = []\n",
    "w = 0\n",
    "\n",
    "g = open('fullCMASSnz.txt', 'r')\n",
    "for line in g:\n",
    "    line = line.strip()\n",
    "    data = line.split(' ')\n",
    "    data = np.array(data)\n",
    "    #print(data[0])\n",
    "    z2.append(np.float(data[w]))\n",
    "g.close()\n",
    "\n",
    "#print(z2)\n",
    "\n",
    "cmass_nz = []\n",
    "w = 1\n",
    "\n",
    "g = open('fullCMASSnz.txt', 'r')\n",
    "for line in g:\n",
    "    line = line.strip()\n",
    "    data = line.split(' ')\n",
    "    data = np.array(data)\n",
    "    #print(data[0])\n",
    "    cmass_nz.append(np.float(data[w]))\n",
    "g.close()\n",
    "\n",
    "#print(cmass_nz)"
   ]
  },
  {
   "cell_type": "code",
   "execution_count": 8,
   "id": "298f2dac-5e7d-4654-b2d9-516ff5cf2be1",
   "metadata": {},
   "outputs": [
    {
     "name": "stdout",
     "output_type": "stream",
     "text": [
      "Resulting catalog size\n",
      "DMASS= 341117.6414259936\n",
      "Resulting catalog size\n",
      "DMASS= 27833.545127855094\n",
      "Resulting catalog size\n",
      "DMASS= 20206.04487947579\n"
     ]
    }
   ],
   "source": [
    "dmass_spt = calling_catalog('/fs/scratch/PCON0008/warner785/bwarner/dmass_spt.fits')\n",
    "index_mask = np.argsort(dmass_spt)\n",
    "dmass_chron_spt = dmass_spt[index_mask]\n",
    "\n",
    "dmass_val = calling_catalog('/users/PCON0003/warner785/DMASSY3/output/test/train_cat/y3/dmass_part2.fits')\n",
    "index_mask2 = np.argsort(dmass_val)\n",
    "dmass_chron_val = dmass_val[index_mask2]\n",
    "\n",
    "prob_st82 = calling_catalog('../output/test/train_cat/y3/dmass_st82_part1.fits')"
   ]
  },
  {
   "cell_type": "code",
   "execution_count": 9,
   "id": "cbaa5c5d-557d-460a-9660-85cdbdb44f14",
   "metadata": {},
   "outputs": [
    {
     "name": "stdout",
     "output_type": "stream",
     "text": [
      "\n",
      "Calling catalogs >>>\n",
      "gold_spt_photoz_000001.fits\n",
      "gold_spt_photoz_000010.fits\n",
      "gold_spt_photoz_000015.fits\n",
      "gold_spt_photoz_000007.fits\n",
      "gold_spt_photoz_000012.fits\n",
      "gold_spt_photoz_000009.fits\n",
      "gold_spt_photoz_000016.fits\n",
      "gold_spt_photoz_000005.fits\n",
      "gold_spt_photoz_000003.fits\n",
      "gold_spt_photoz_000006.fits\n",
      "gold_spt_photoz_000017.fits\n",
      "gold_spt_photoz_000004.fits\n",
      "gold_spt_photoz_000013.fits\n",
      "gold_spt_photoz_000019.fits\n",
      "gold_spt_photoz_000002.fits\n",
      "gold_spt_photoz_000018.fits\n",
      "gold_spt_photoz_000014.fits\n",
      "gold_spt_photoz_000008.fits\n",
      "gold_spt_photoz_000011.fits\n",
      "reading 1/19 /fs/scratch/PCON0008/warner785/bwarner/gold_spt_photoz_000001.fits\n",
      "reading 2/19 /fs/scratch/PCON0008/warner785/bwarner/gold_spt_photoz_000010.fits\n",
      "reading 3/19 /fs/scratch/PCON0008/warner785/bwarner/gold_spt_photoz_000015.fits\n",
      "reading 4/19 /fs/scratch/PCON0008/warner785/bwarner/gold_spt_photoz_000007.fits\n",
      "reading 5/19 /fs/scratch/PCON0008/warner785/bwarner/gold_spt_photoz_000012.fits\n",
      "reading 6/19 /fs/scratch/PCON0008/warner785/bwarner/gold_spt_photoz_000009.fits\n",
      "reading 7/19 /fs/scratch/PCON0008/warner785/bwarner/gold_spt_photoz_000016.fits\n",
      "reading 8/19 /fs/scratch/PCON0008/warner785/bwarner/gold_spt_photoz_000005.fits\n",
      "reading 9/19 /fs/scratch/PCON0008/warner785/bwarner/gold_spt_photoz_000003.fits\n",
      "reading 10/19 /fs/scratch/PCON0008/warner785/bwarner/gold_spt_photoz_000006.fits\n",
      "reading 11/19 /fs/scratch/PCON0008/warner785/bwarner/gold_spt_photoz_000017.fits\n",
      "reading 12/19 /fs/scratch/PCON0008/warner785/bwarner/gold_spt_photoz_000004.fits\n",
      "reading 13/19 /fs/scratch/PCON0008/warner785/bwarner/gold_spt_photoz_000013.fits\n",
      "reading 14/19 /fs/scratch/PCON0008/warner785/bwarner/gold_spt_photoz_000019.fits\n",
      "reading 15/19 /fs/scratch/PCON0008/warner785/bwarner/gold_spt_photoz_000002.fits\n",
      "reading 16/19 /fs/scratch/PCON0008/warner785/bwarner/gold_spt_photoz_000018.fits\n",
      "reading 17/19 /fs/scratch/PCON0008/warner785/bwarner/gold_spt_photoz_000014.fits\n",
      "reading 18/19 /fs/scratch/PCON0008/warner785/bwarner/gold_spt_photoz_000008.fits\n",
      "reading 19/19 /fs/scratch/PCON0008/warner785/bwarner/gold_spt_photoz_000011.fits\n"
     ]
    }
   ],
   "source": [
    "input_path = '/fs/scratch/PCON0008/warner785/bwarner/'\n",
    "input_keyword = 'gold_spt_photoz_'\n",
    "#input_keyword ='test_'\n",
    "columns =  ['RA', 'DEC',   \n",
    "            'COADD_OBJECT_ID', 'DNF_ZMC_MOF', 'DNF_ZMC_SOF', 'DNF_ZMEAN_MOF', 'DNF_ZMEAN_SOF']\n",
    "gold_spt = io.SearchAndCallFits(path = input_path, keyword = input_keyword, columns=columns)"
   ]
  },
  {
   "cell_type": "code",
   "execution_count": 27,
   "id": "5a467cbe-5c50-45df-8eaf-65db81541901",
   "metadata": {},
   "outputs": [],
   "source": [
    "# 'DNF_ZMC_MOF', 'DNF_ZMC_SOF', 'DNF_ZMEAN_MOF', 'DNF_ZMEAN_SOF'\n",
    "\n",
    "\n",
    "def photoz_column(catalog, region):\n",
    "    \n",
    "    photoz = 0\n",
    "    photoz = np.full(1000000000, hp.UNSEEN)\n",
    "    print(region)\n",
    "    if region == \"st82\":\n",
    "        photoz[gold_st82['COADD_OBJECT_ID']] = gold_st82['DNF_ZMEAN_MOF']\n",
    "    if region == \"spt\":\n",
    "        photoz[gold_spt['COADD_OBJECT_ID']] = gold_spt['DNF_ZMEAN_MOF']\n",
    "    photoz_cat = photoz[catalog['COADD_OBJECT_ID']]\n",
    "    \n",
    "    return photoz_cat"
   ]
  },
  {
   "cell_type": "code",
   "execution_count": 28,
   "id": "84876ca6-fcf5-4edf-9f82-b854a50ba240",
   "metadata": {},
   "outputs": [
    {
     "name": "stdout",
     "output_type": "stream",
     "text": [
      "st82\n",
      "st82\n",
      "spt\n"
     ]
    }
   ],
   "source": [
    "photoz_train = photoz_column(prob_st82, \"st82\")\n",
    "photoz_val = photoz_column(dmass_chron_val, \"st82\")\n",
    "photoz_spt = photoz_column(dmass_chron_spt, \"spt\")"
   ]
  },
  {
   "cell_type": "code",
   "execution_count": 29,
   "id": "b556a1d0-f9aa-408a-90e4-b9846cbeec21",
   "metadata": {},
   "outputs": [
    {
     "name": "stderr",
     "output_type": "stream",
     "text": [
      "No handles with labels found to put in legend.\n"
     ]
    },
    {
     "data": {
      "image/png": "[encoded data removed]",
      "text/plain": [
       "<Figure size 432x288 with 1 Axes>"
      ]
     },
     "metadata": {
      "needs_background": "light"
     },
     "output_type": "display_data"
    }
   ],
   "source": [
    "fig, ax = plt.subplots()\n",
    "\n",
    "#print(photoz_val2)\n",
    "plt.legend()\n",
    "plt.xlabel(\"z\")\n",
    "plt.ylabel(\"nz\")\n",
    "nz_val = ax.hist( photoz_val[photoz_val!=hp.UNSEEN], bins=np.linspace(0, 1.0, 101), density=True, weights = dmass_chron_val[\"CMASS_PROB\"][photoz_val!=hp.UNSEEN], label = \"des photoz validation\")\n",
    "nz_train = ax.hist( photoz_train[photoz_train!=hp.UNSEEN], bins=np.linspace(0, 1.0, 101), density=True, weights = prob_st82[\"CMASS_PROB\"][photoz_train!=hp.UNSEEN], label = \"des photoz train\")\n",
    "nz_spt = ax.hist( photoz_spt[photoz_spt!=hp.UNSEEN], bins=np.linspace(0, 1.0, 101), density=True, weights = dmass_chron_spt[\"CMASS_PROB\"][photoz_spt!=hp.UNSEEN], label = \"des photoz spt\")"
   ]
  },
  {
   "cell_type": "code",
   "execution_count": 30,
   "id": "761b2d9a-df91-44f7-8ba4-8a5ead1c1fbb",
   "metadata": {},
   "outputs": [
    {
     "data": {
      "text/plain": [
       "<matplotlib.lines.Line2D at 0x2b0c46dd30f0>"
      ]
     },
     "execution_count": 30,
     "metadata": {},
     "output_type": "execute_result"
    },
    {
     "data": {
      "image/png": "[encoded data removed]",
      "text/plain": [
       "<Figure size 432x288 with 1 Axes>"
      ]
     },
     "metadata": {
      "needs_background": "light"
     },
     "output_type": "display_data"
    }
   ],
   "source": [
    "import matplotlib.pyplot as plt\n",
    "\n",
    "fig, ax = plt.subplots()\n",
    "ax.errorbar( z, dmass_norm, yerr=norm_error, label = \"dmass redshift distribution\")\n",
    "ax.errorbar( z2, cmass_nz, yerr=0, label = \"full cmass spec-z\")\n",
    "nz_val = ax.hist( photoz_val[photoz_val!=hp.UNSEEN], bins=np.linspace(0, 1.0, 101), density=True, weights = dmass_chron_val[\"CMASS_PROB\"][photoz_val!=hp.UNSEEN], label = \"des photoz validation\")\n",
    "nz_train = ax.hist( photoz_train[photoz_train!=hp.UNSEEN], bins=np.linspace(0, 1.0, 101), density=True, weights = prob_st82[\"CMASS_PROB\"][photoz_train!=hp.UNSEEN], label = \"des photoz train\")\n",
    "nz_spt = ax.hist( photoz_spt[photoz_spt!=hp.UNSEEN], bins=np.linspace(0, 1.0, 101), density=True, weights = dmass_chron_spt[\"CMASS_PROB\"][photoz_spt!=hp.UNSEEN], label = \"des photoz spt\")\n",
    "#ax.hist( cmass_train['Z'], bins=np.linspace(0, 1.0, 101), density=True, color = \"purple\", label = \"cmass training\")\n",
    "plt.legend()\n",
    "plt.xlabel(\"z\")\n",
    "plt.ylabel(\"nz\")\n",
    "plt.xlim(0.2, 0.8)\n",
    "plt.axhline(y=0, color='grey', linestyle='--')"
   ]
  },
  {
   "cell_type": "code",
   "execution_count": null,
   "id": "05bfca53-ed01-4363-b31a-3ae8d006431b",
   "metadata": {},
   "outputs": [],
   "source": []
  }
 ],
 "metadata": {
  "kernelspec": {
   "display_name": "Python (DES_env)",
   "language": "python",
   "name": "des_env"
  },
  "language_info": {
   "codemirror_mode": {
    "name": "ipython",
    "version": 3
   },
   "file_extension": ".py",
   "mimetype": "text/x-python",
   "name": "python",
   "nbconvert_exporter": "python",
   "pygments_lexer": "ipython3",
   "version": "3.7.0"
  }
 },
 "nbformat": 4,
 "nbformat_minor": 5
}
