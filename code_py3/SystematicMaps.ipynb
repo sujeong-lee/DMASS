{
 "cells": [
  {
   "cell_type": "code",
   "execution_count": null,
   "id": "fd32505c-df8c-4db4-8d7f-fca6a9438ee7",
   "metadata": {},
   "outputs": [],
   "source": [
    "#/global/cfs/cdirs/des/jelvinpo/sysmaps/y3\n",
    "#move to:\n",
    "#/global/cscratch1/sd/bwarner/y3\n",
    "\n",
    "#The processes done in the notebook is that:\n",
    "# 1) call DMASS or CMASS catalogs\n",
    "# 2) call randoms (to compare with DMASS)\n",
    "# 3) call survey property maps\n",
    "# 4) masking areas (and remove galaxies in that areas) where certain survey properties are extreme \n",
    "#(those are highly likely to be outliers or regions where map producing codes failed due to extreme colors)\n",
    "# 5) compute cross-correlations between galaxy number densities and survey properties \n",
    "#(for both DMASS and randoms)\n",
    "# 6) fitting with linear functions to check the resulting correlation functions are consistent with null.\n",
    "\n",
    "#may want to check sys_ngal function. This function computes cross-correlation between galaxy number \n",
    "#density and survey properties. The function is in run_systematics.py.\n",
    "#And read CH4 in DMASS paper and DES Y1 and Y3 papers."
   ]
  },
  {
   "cell_type": "code",
   "execution_count": 5,
   "id": "ce90fe3a-53fe-49ee-8118-c02297c7f878",
   "metadata": {},
   "outputs": [
    {
     "name": "stdout",
     "output_type": "stream",
     "text": [
      "The autoreload extension is already loaded. To reload it, use:\n",
      "  %reload_ext autoreload\n"
     ]
    },
    {
     "name": "stderr",
     "output_type": "stream",
     "text": [
      "/global/u2/b/bwarner/DMASS/code_py3/systematics_module/contCorrection.py:195: SyntaxWarning: \"is\" with a literal. Did you mean \"==\"?\n",
      "  if property is 'NSTARS_allband' :\n",
      "/global/u2/b/bwarner/DMASS/code_py3/systematics_module/contCorrection.py:198: SyntaxWarning: \"is\" with a literal. Did you mean \"==\"?\n",
      "  elif property is 'GE' :\n",
      "/global/u2/b/bwarner/DMASS/code_py3/systematics_module/contCorrection.py:245: SyntaxWarning: \"is\" with a literal. Did you mean \"==\"?\n",
      "  if kind is 'SPT' : ymin, ymax = 0.7, 1.3\n",
      "/global/u2/b/bwarner/DMASS/code_py3/systematics_module/contCorrection.py:288: SyntaxWarning: \"is\" with a literal. Did you mean \"==\"?\n",
      "  if property is 'NSTARS_allband' :\n",
      "/global/u2/b/bwarner/DMASS/code_py3/systematics_module/contCorrection.py:291: SyntaxWarning: \"is\" with a literal. Did you mean \"==\"?\n",
      "  if property is 'GE':\n",
      "/global/u2/b/bwarner/DMASS/code_py3/systematics_module/contCorrection.py:336: SyntaxWarning: \"is\" with a literal. Did you mean \"==\"?\n",
      "  if kind is 'SPT' : ymin, ymax = 0.7, 1.3\n",
      "/global/u2/b/bwarner/DMASS/code_py3/systematics_module/contCorrection.py:347: SyntaxWarning: \"is\" with a literal. Did you mean \"==\"?\n",
      "  if property is 'GE': ax[i].set_xscale('log')\n",
      "/global/u2/b/bwarner/DMASS/code_py3/cmass_modules/Cuts.py:266: SyntaxWarning: \"is\" with a literal. Did you mean \"==\"?\n",
      "  if object is 'galaxy': use = use & (modtype == 1)\n",
      "/global/u2/b/bwarner/DMASS/code_py3/cmass_modules/Cuts.py:267: SyntaxWarning: \"is\" with a literal. Did you mean \"==\"?\n",
      "  elif object is 'star'  : use = use & (modtype == 2)\n",
      "/global/u2/b/bwarner/DMASS/code_py3/cmass_modules/Cuts.py:375: SyntaxWarning: \"is\" with a literal. Did you mean \"==\"?\n",
      "  if object is 'galaxy':\n",
      "/global/u2/b/bwarner/DMASS/code_py3/cmass_modules/Cuts.py:379: SyntaxWarning: \"is\" with a literal. Did you mean \"==\"?\n",
      "  elif object is 'star' :\n"
     ]
    }
   ],
   "source": [
    "import sys\n",
    "sys.path.append('../')\n",
    "from xd import *\n",
    "from utils import *\n",
    "import esutil\n",
    "import healpy as hp\n",
    "#from systematics import *\n",
    "from systematics_module import *\n",
    "\n",
    "%matplotlib inline\n",
    "\n",
    "%load_ext autoreload\n",
    "%autoreload 2\n",
    "\n",
    "import numpy as np"
   ]
  },
  {
   "cell_type": "code",
   "execution_count": 12,
   "id": "2beb62b6-a4fd-4484-aba8-980a08902777",
   "metadata": {},
   "outputs": [],
   "source": [
    "from run_systematics import sys_iteration, weightmultiply, fitting_allSP, calling_sysMap\n",
    "\n",
    "#fitting_SP\n",
    "#sys_ngal\n",
    "#maskingCatalogSP"
   ]
  },
  {
   "cell_type": "code",
   "execution_count": 13,
   "id": "2fee0d0b-1c9f-43e1-b311-ba2796272941",
   "metadata": {},
   "outputs": [
    {
     "ename": "NameError",
     "evalue": "name 'os' is not defined",
     "output_type": "error",
     "traceback": [
      "\u001b[0;31m---------------------------------------------------------------------------\u001b[0m",
      "\u001b[0;31mNameError\u001b[0m                                 Traceback (most recent call last)",
      "\u001b[0;32m<ipython-input-13-b4805a07a428>\u001b[0m in \u001b[0;36m<module>\u001b[0;34m\u001b[0m\n\u001b[1;32m      4\u001b[0m \u001b[0msysoutdir\u001b[0m \u001b[0;34m=\u001b[0m \u001b[0minputdir\u001b[0m\u001b[0;34m+\u001b[0m\u001b[0;34m'/sys/'\u001b[0m\u001b[0;34m\u001b[0m\u001b[0;34m\u001b[0m\u001b[0m\n\u001b[1;32m      5\u001b[0m \u001b[0mwdir\u001b[0m \u001b[0;34m=\u001b[0m \u001b[0msysoutdir\u001b[0m\u001b[0;34m+\u001b[0m\u001b[0;34m'/weights/'\u001b[0m\u001b[0;34m\u001b[0m\u001b[0;34m\u001b[0m\u001b[0m\n\u001b[0;32m----> 6\u001b[0;31m \u001b[0mos\u001b[0m\u001b[0;34m.\u001b[0m\u001b[0msystem\u001b[0m\u001b[0;34m(\u001b[0m\u001b[0;34m'mkdir '\u001b[0m\u001b[0;34m+\u001b[0m\u001b[0minputdir\u001b[0m\u001b[0;34m)\u001b[0m\u001b[0;34m\u001b[0m\u001b[0;34m\u001b[0m\u001b[0m\n\u001b[0m\u001b[1;32m      7\u001b[0m \u001b[0mos\u001b[0m\u001b[0;34m.\u001b[0m\u001b[0msystem\u001b[0m\u001b[0;34m(\u001b[0m\u001b[0;34m'mkdir '\u001b[0m\u001b[0;34m+\u001b[0m\u001b[0mfigoutdir\u001b[0m\u001b[0;34m)\u001b[0m\u001b[0;34m\u001b[0m\u001b[0;34m\u001b[0m\u001b[0m\n\u001b[1;32m      8\u001b[0m \u001b[0mos\u001b[0m\u001b[0;34m.\u001b[0m\u001b[0msystem\u001b[0m\u001b[0;34m(\u001b[0m\u001b[0;34m'mkdir '\u001b[0m\u001b[0;34m+\u001b[0m\u001b[0msysoutdir\u001b[0m\u001b[0;34m)\u001b[0m\u001b[0;34m\u001b[0m\u001b[0;34m\u001b[0m\u001b[0m\n",
      "\u001b[0;31mNameError\u001b[0m: name 'os' is not defined"
     ]
    }
   ],
   "source": [
    "rootdir = '../output/sfd_train_photo_SamPle_full2/'\n",
    "inputdir = rootdir\n",
    "figoutdir = inputdir+'/figure/'\n",
    "sysoutdir = inputdir+'/sys/'\n",
    "wdir = sysoutdir+'/weights/'\n",
    "os.system('mkdir '+inputdir)\n",
    "os.system('mkdir '+figoutdir)\n",
    "os.system('mkdir '+sysoutdir)\n",
    "os.system('mkdir '+wdir)\n",
    "#os.system('cp ../data_txt/systematics/4th/systematic*_no_weight.txt '+inputdir+'/.')"
   ]
  },
  {
   "cell_type": "code",
   "execution_count": 1,
   "id": "3d2a210c-b641-4671-a6a2-8d6430e64cac",
   "metadata": {},
   "outputs": [
    {
     "ename": "OSError",
     "evalue": "FITSIO status = 104: could not open the named file\nfailed to find or open the following file: (ffopen)\n/global/cscratch1/sd/bwarner/y3/global/cscratch1/sd/bwarner/y3/band_r/y3a2_r_o.4\n096_t.32768_AIRMASS.WMEAN_EQU.fits.gz\n",
     "output_type": "error",
     "traceback": [
      "\u001b[0;31m---------------------------------------------------------------------------\u001b[0m",
      "\u001b[0;31mOSError\u001b[0m                                   Traceback (most recent call last)",
      "\u001b[0;32m<ipython-input-1-6ce0065d098e>\u001b[0m in \u001b[0;36m<module>\u001b[0;34m\u001b[0m\n\u001b[1;32m      2\u001b[0m \u001b[0;32mimport\u001b[0m \u001b[0mesutil\u001b[0m\u001b[0;34m\u001b[0m\u001b[0;34m\u001b[0m\u001b[0m\n\u001b[1;32m      3\u001b[0m \u001b[0;34m\u001b[0m\u001b[0m\n\u001b[0;32m----> 4\u001b[0;31m \u001b[0mmaps\u001b[0m \u001b[0;34m=\u001b[0m \u001b[0mesutil\u001b[0m\u001b[0;34m.\u001b[0m\u001b[0mio\u001b[0m\u001b[0;34m.\u001b[0m\u001b[0mread\u001b[0m\u001b[0;34m(\u001b[0m\u001b[0;34m'/global/cscratch1/sd/bwarner/y3/global/cscratch1/sd/bwarner/y3/band_r/y3a2_r_o.4096_t.32768_AIRMASS.WMEAN_EQU.fits.gz'\u001b[0m\u001b[0;34m)\u001b[0m\u001b[0;34m\u001b[0m\u001b[0;34m\u001b[0m\u001b[0m\n\u001b[0m",
      "\u001b[0;32m~/.conda/envs/DES_env/lib/python3.9/site-packages/esutil/io.py\u001b[0m in \u001b[0;36mread\u001b[0;34m(fileobj, **keywords)\u001b[0m\n\u001b[1;32m    239\u001b[0m     \u001b[0;32mtry\u001b[0m\u001b[0;34m:\u001b[0m\u001b[0;34m\u001b[0m\u001b[0;34m\u001b[0m\u001b[0m\n\u001b[1;32m    240\u001b[0m         \u001b[0;32mif\u001b[0m \u001b[0mtype\u001b[0m \u001b[0;34m==\u001b[0m \u001b[0;34m'fits'\u001b[0m\u001b[0;34m:\u001b[0m\u001b[0;34m\u001b[0m\u001b[0;34m\u001b[0m\u001b[0m\n\u001b[0;32m--> 241\u001b[0;31m             \u001b[0mdata\u001b[0m \u001b[0;34m=\u001b[0m \u001b[0mread_fits\u001b[0m\u001b[0;34m(\u001b[0m\u001b[0mfobj\u001b[0m\u001b[0;34m,\u001b[0m \u001b[0;34m**\u001b[0m\u001b[0mkeywords\u001b[0m\u001b[0;34m)\u001b[0m\u001b[0;34m\u001b[0m\u001b[0;34m\u001b[0m\u001b[0m\n\u001b[0m\u001b[1;32m    242\u001b[0m         \u001b[0;32melif\u001b[0m \u001b[0mtype\u001b[0m \u001b[0;34m==\u001b[0m \u001b[0;34m'json'\u001b[0m\u001b[0;34m:\u001b[0m\u001b[0;34m\u001b[0m\u001b[0;34m\u001b[0m\u001b[0m\n\u001b[1;32m    243\u001b[0m             \u001b[0mdata\u001b[0m \u001b[0;34m=\u001b[0m \u001b[0mjson_util\u001b[0m\u001b[0;34m.\u001b[0m\u001b[0mread\u001b[0m\u001b[0;34m(\u001b[0m\u001b[0mfobj\u001b[0m\u001b[0;34m,\u001b[0m \u001b[0;34m**\u001b[0m\u001b[0mkeywords\u001b[0m\u001b[0;34m)\u001b[0m\u001b[0;34m\u001b[0m\u001b[0;34m\u001b[0m\u001b[0m\n",
      "\u001b[0;32m~/.conda/envs/DES_env/lib/python3.9/site-packages/esutil/io.py\u001b[0m in \u001b[0;36mread_fits\u001b[0;34m(fname, **keywords)\u001b[0m\n\u001b[1;32m    432\u001b[0m \u001b[0;34m\u001b[0m\u001b[0m\n\u001b[1;32m    433\u001b[0m     \u001b[0;32mif\u001b[0m \u001b[0mfits_package\u001b[0m \u001b[0;34m==\u001b[0m \u001b[0;34m'fitsio'\u001b[0m\u001b[0;34m:\u001b[0m\u001b[0;34m\u001b[0m\u001b[0;34m\u001b[0m\u001b[0m\n\u001b[0;32m--> 434\u001b[0;31m         \u001b[0mresult\u001b[0m \u001b[0;34m=\u001b[0m \u001b[0mread_fits_fitsio\u001b[0m\u001b[0;34m(\u001b[0m\u001b[0mfname\u001b[0m\u001b[0;34m,\u001b[0m \u001b[0;34m**\u001b[0m\u001b[0mkeywords\u001b[0m\u001b[0;34m)\u001b[0m\u001b[0;34m\u001b[0m\u001b[0;34m\u001b[0m\u001b[0m\n\u001b[0m\u001b[1;32m    435\u001b[0m     \u001b[0;32melif\u001b[0m \u001b[0mfits_package\u001b[0m \u001b[0;34m==\u001b[0m \u001b[0;34m'pyfits'\u001b[0m\u001b[0;34m:\u001b[0m\u001b[0;34m\u001b[0m\u001b[0;34m\u001b[0m\u001b[0m\n\u001b[1;32m    436\u001b[0m         \u001b[0mresult\u001b[0m \u001b[0;34m=\u001b[0m \u001b[0mread_fits_pyfits\u001b[0m\u001b[0;34m(\u001b[0m\u001b[0mfname\u001b[0m\u001b[0;34m,\u001b[0m \u001b[0;34m**\u001b[0m\u001b[0mkeywords\u001b[0m\u001b[0;34m)\u001b[0m\u001b[0;34m\u001b[0m\u001b[0;34m\u001b[0m\u001b[0m\n",
      "\u001b[0;32m~/.conda/envs/DES_env/lib/python3.9/site-packages/esutil/io.py\u001b[0m in \u001b[0;36mread_fits_fitsio\u001b[0;34m(fname, **keywords)\u001b[0m\n\u001b[1;32m    480\u001b[0m         \u001b[0;32mreturn\u001b[0m \u001b[0mfitsio\u001b[0m\u001b[0;34m.\u001b[0m\u001b[0mread_header\u001b[0m\u001b[0;34m(\u001b[0m\u001b[0mfname\u001b[0m\u001b[0;34m,\u001b[0m \u001b[0;34m**\u001b[0m\u001b[0mkeywords\u001b[0m\u001b[0;34m)\u001b[0m\u001b[0;34m\u001b[0m\u001b[0;34m\u001b[0m\u001b[0m\n\u001b[1;32m    481\u001b[0m     \u001b[0;32melse\u001b[0m\u001b[0;34m:\u001b[0m\u001b[0;34m\u001b[0m\u001b[0;34m\u001b[0m\u001b[0m\n\u001b[0;32m--> 482\u001b[0;31m         return fitsio.read(fname,\n\u001b[0m\u001b[1;32m    483\u001b[0m                            \u001b[0mext\u001b[0m\u001b[0;34m=\u001b[0m\u001b[0mext\u001b[0m\u001b[0;34m,\u001b[0m\u001b[0;34m\u001b[0m\u001b[0;34m\u001b[0m\u001b[0m\n\u001b[1;32m    484\u001b[0m                            \u001b[0mrows\u001b[0m\u001b[0;34m=\u001b[0m\u001b[0mrows\u001b[0m\u001b[0;34m,\u001b[0m\u001b[0;34m\u001b[0m\u001b[0;34m\u001b[0m\u001b[0m\n",
      "\u001b[0;32m~/.conda/envs/DES_env/lib/python3.9/site-packages/fitsio/fitslib.py\u001b[0m in \u001b[0;36mread\u001b[0;34m(filename, ext, extver, columns, rows, header, case_sensitive, upper, lower, vstorage, verbose, trim_strings, **keys)\u001b[0m\n\u001b[1;32m    137\u001b[0m         \u001b[0mread_kwargs\u001b[0m\u001b[0;34m[\u001b[0m\u001b[0;34m'rows'\u001b[0m\u001b[0;34m]\u001b[0m \u001b[0;34m=\u001b[0m \u001b[0mrows\u001b[0m\u001b[0;34m\u001b[0m\u001b[0;34m\u001b[0m\u001b[0m\n\u001b[1;32m    138\u001b[0m \u001b[0;34m\u001b[0m\u001b[0m\n\u001b[0;32m--> 139\u001b[0;31m     \u001b[0;32mwith\u001b[0m \u001b[0mFITS\u001b[0m\u001b[0;34m(\u001b[0m\u001b[0mfilename\u001b[0m\u001b[0;34m,\u001b[0m \u001b[0;34m**\u001b[0m\u001b[0mkwargs\u001b[0m\u001b[0;34m)\u001b[0m \u001b[0;32mas\u001b[0m \u001b[0mfits\u001b[0m\u001b[0;34m:\u001b[0m\u001b[0;34m\u001b[0m\u001b[0;34m\u001b[0m\u001b[0m\n\u001b[0m\u001b[1;32m    140\u001b[0m \u001b[0;34m\u001b[0m\u001b[0m\n\u001b[1;32m    141\u001b[0m         \u001b[0;32mif\u001b[0m \u001b[0mext\u001b[0m \u001b[0;32mis\u001b[0m \u001b[0;32mNone\u001b[0m\u001b[0;34m:\u001b[0m\u001b[0;34m\u001b[0m\u001b[0;34m\u001b[0m\u001b[0m\n",
      "\u001b[0;32m~/.conda/envs/DES_env/lib/python3.9/site-packages/fitsio/fitslib.py\u001b[0m in \u001b[0;36m__init__\u001b[0;34m(self, filename, mode, lower, upper, trim_strings, vstorage, case_sensitive, iter_row_buffer, write_bitcols, ignore_empty, verbose, clobber, **keys)\u001b[0m\n\u001b[1;32m    518\u001b[0m \u001b[0;34m\u001b[0m\u001b[0m\n\u001b[1;32m    519\u001b[0m         \u001b[0mself\u001b[0m\u001b[0;34m.\u001b[0m\u001b[0m_did_create\u001b[0m \u001b[0;34m=\u001b[0m \u001b[0;34m(\u001b[0m\u001b[0mcreate\u001b[0m \u001b[0;34m==\u001b[0m \u001b[0;36m1\u001b[0m\u001b[0;34m)\u001b[0m\u001b[0;34m\u001b[0m\u001b[0;34m\u001b[0m\u001b[0m\n\u001b[0;32m--> 520\u001b[0;31m         \u001b[0mself\u001b[0m\u001b[0;34m.\u001b[0m\u001b[0m_FITS\u001b[0m \u001b[0;34m=\u001b[0m \u001b[0m_fitsio_wrap\u001b[0m\u001b[0;34m.\u001b[0m\u001b[0mFITS\u001b[0m\u001b[0;34m(\u001b[0m\u001b[0mfilename\u001b[0m\u001b[0;34m,\u001b[0m \u001b[0mself\u001b[0m\u001b[0;34m.\u001b[0m\u001b[0mintmode\u001b[0m\u001b[0;34m,\u001b[0m \u001b[0mcreate\u001b[0m\u001b[0;34m)\u001b[0m\u001b[0;34m\u001b[0m\u001b[0;34m\u001b[0m\u001b[0m\n\u001b[0m\u001b[1;32m    521\u001b[0m \u001b[0;34m\u001b[0m\u001b[0m\n\u001b[1;32m    522\u001b[0m     \u001b[0;32mdef\u001b[0m \u001b[0mclose\u001b[0m\u001b[0;34m(\u001b[0m\u001b[0mself\u001b[0m\u001b[0;34m)\u001b[0m\u001b[0;34m:\u001b[0m\u001b[0;34m\u001b[0m\u001b[0;34m\u001b[0m\u001b[0m\n",
      "\u001b[0;31mOSError\u001b[0m: FITSIO status = 104: could not open the named file\nfailed to find or open the following file: (ffopen)\n/global/cscratch1/sd/bwarner/y3/global/cscratch1/sd/bwarner/y3/band_r/y3a2_r_o.4\n096_t.32768_AIRMASS.WMEAN_EQU.fits.gz\n"
     ]
    }
   ],
   "source": [
    "import fitsio\n",
    "import esutil\n",
    "\n",
    "maps = esutil.io.read('/global/cscratch1/sd/bwarner/y3/global/cscratch1/sd/bwarner/y3/band_r/y3a2_r_o.4096_t.32768_AIRMASS.WMEAN_EQU.fits.gz')"
   ]
  },
  {
   "cell_type": "code",
   "execution_count": null,
   "id": "d467f2d1-10f0-4b5a-86f9-85b2ad507fd8",
   "metadata": {},
   "outputs": [],
   "source": []
  }
 ],
 "metadata": {
  "kernelspec": {
   "display_name": "DMASS",
   "language": "python",
   "name": "des_env"
  },
  "language_info": {
   "codemirror_mode": {
    "name": "ipython",
    "version": 3
   },
   "file_extension": ".py",
   "mimetype": "text/x-python",
   "name": "python",
   "nbconvert_exporter": "python",
   "pygments_lexer": "ipython3",
   "version": "3.9.2"
  }
 },
 "nbformat": 4,
 "nbformat_minor": 5
}
