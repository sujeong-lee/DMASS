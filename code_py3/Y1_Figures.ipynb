{
 "cells": [
  {
   "cell_type": "code",
   "execution_count": null,
   "id": "3653ccb3-f6cf-4cdc-ba31-f663ef6b8705",
   "metadata": {},
   "outputs": [],
   "source": [
    "#gold_st82 = io.SearchAndCallFits(path = '/n/des/lee.5922/data/gold_cat/', keyword='Y1A1_GOLD_STRIPE82_v2_000')\n",
    "#gold_st82 = clean_gold(gold_st82)\n",
    "gold_st82 = io.SearchAndCallFits(path = '/n/des/lee.5922/data', keyword='gold_st82_prob.fits')"
   ]
  },
  {
   "cell_type": "code",
   "execution_count": null,
   "id": "8b6743ed-b2a3-4e77-bab5-0035d9cbf7d2",
   "metadata": {},
   "outputs": [],
   "source": [
    "#cmass_spec = esutil.io.read('/n/des/lee.5922/data/cmass_cat/galaxy_DR11v1_CMASS_South.fits.gz')\n",
    "cmass_photo = esutil.io.read('/n/des/lee.5922/data/cmass_cat/galaxy_DR11v1_CMASS_South-photoObj.fits.gz')\n",
    "cmass_stripe = Cuts.keepGoodRegion(cmass_photo)\n",
    "#gold_train, cmass_train = matchCatalogsbyPosition( gold , cmass_stripe)\n",
    "gold_train = train_sample.copy()"
   ]
  },
  {
   "cell_type": "code",
   "execution_count": null,
   "id": "2b7f138a-18b7-48a4-9e80-5b5b9918b7f6",
   "metadata": {},
   "outputs": [],
   "source": [
    "g_sdss = cmass_train['MODELMAG'][:,1]-cmass_train['EXTINCTION'][:,1]\n",
    "r_sdss = cmass_train['MODELMAG'][:,2]-cmass_train['EXTINCTION'][:,2]\n",
    "i_sdss = cmass_train['MODELMAG'][:,3]-cmass_train['EXTINCTION'][:,3]\n",
    "gr_sdss = g_sdss - r_sdss\n",
    "ri_sdss = r_sdss - i_sdss\n",
    "\n",
    "gr_des = gold_train['MAG_DETMODEL_G']- gold_train['MAG_DETMODEL_R']\n",
    "ri_des = gold_train['MAG_DETMODEL_R']- gold_train['MAG_DETMODEL_I']\n",
    "\n",
    "gr_gold = gold_st82['MAG_DETMODEL_G']- gold_st82['MAG_DETMODEL_R']\n",
    "ri_gold = gold_st82['MAG_DETMODEL_R']- gold_st82['MAG_DETMODEL_I']"
   ]
  },
  {
   "cell_type": "code",
   "execution_count": null,
   "id": "5391005d-8d3b-4e44-bcbf-9461648bfea7",
   "metadata": {},
   "outputs": [],
   "source": [
    "x = np.linspace(-2,4,10)\n",
    "dperp = 0.55 + x/8."
   ]
  },
  {
   "cell_type": "code",
   "execution_count": null,
   "id": "022db93e-510a-4524-a655-5695bb11c028",
   "metadata": {},
   "outputs": [],
   "source": [
    "gr_sdss_err = np.sqrt(cmass_train['MODELMAGERR'][:,1]**2 + cmass_train['MODELMAGERR'][:,2]**2)\n",
    "ri_sdss_err = np.sqrt(cmass_train['MODELMAGERR'][:,2]**2 + cmass_train['MODELMAGERR'][:,3]**2)\n",
    "\n",
    "gr_des_err = np.sqrt(gold_train['MAGERR_DETMODEL_G']**2 +  gold_train['MAGERR_DETMODEL_R']**2 )\n",
    "ri_des_err = np.sqrt(gold_train['MAGERR_DETMODEL_R']**2 +  gold_train['MAGERR_DETMODEL_I']**2 )"
   ]
  },
  {
   "cell_type": "code",
   "execution_count": null,
   "id": "480d01af-1ecd-48a6-ab06-cd840650fa5f",
   "metadata": {},
   "outputs": [],
   "source": [
    "dperpcut = ((ri_sdss - gr_sdss/8. < 0.55) & \n",
    "((gr_sdss>0.5)&(gr_sdss<0.96)|\n",
    " ((gr_sdss>1.43)&(gr_sdss<1.435))|\n",
    " ((gr_sdss>1.85)&(gr_sdss<3.0)) ) )\n",
    "\n",
    "dperpcut_des = (ri_des - gr_des/8. < 0.5505) & (ri_des - gr_des/8. > 0.55035)\n",
    "print np.sum(dperpcut), np.sum(dperpcut_des)"
   ]
  },
  {
   "cell_type": "code",
   "execution_count": null,
   "id": "e50e6d63-7e2d-412f-a9b7-6861097242cd",
   "metadata": {},
   "outputs": [],
   "source": [
    "from chainconsumer import ChainConsumer\n",
    "\n",
    "#seed(0)\n",
    "#cov = normal(size=(3, 3))\n",
    "#data = multivariate_normal(normal(size=3), np.dot(cov, cov.T), size=100000)\n",
    "\n",
    "data_gold = np.column_stack( [gr_gold, ri_gold] )\n",
    "data_sdss = np.column_stack( [gr_sdss, ri_sdss] )\n",
    "data_des = np.column_stack( [gr_des, ri_des] )\n",
    "\n",
    "c = ChainConsumer()\n",
    "c.add_chain(data_gold, parameters=[\"$g-r$\", \"$r-i$\"])\n",
    "#c.add_chain(data_des)\n",
    "c.configure(plot_hists=False, cloud=True, sigmas=np.linspace(0, 3, 10), colors ='grey', \n",
    "            shade_alpha = 0.7, kde=True)\n",
    "\n",
    "\n",
    "fig = c.plotter.plot()\n",
    "ax = fig.axes[0]\n",
    "ax.plot(gr_des, ri_des, 'g.', markersize = 1, alpha = 0.7)\n",
    "#ax.plot(gr_sdss, ri_sdss, '.',markersize = 1, alpha = 0.7)\n",
    "ax.plot(x, dperp, 'r-', linewidth=1)\n",
    "ax.set_ylim(0,2)\n",
    "ax.set_xlim(0, 3)\n",
    "\n",
    "ax.text(2.0, 0.1, 'DES  Color')\n",
    "plt.tight_layout()\n",
    "\n",
    "#fig.savefig('../paper_figure/gri_des.pdf')"
   ]
  },
  {
   "cell_type": "code",
   "execution_count": null,
   "id": "3cfb280c-710d-4170-beaf-d6f25db4261e",
   "metadata": {},
   "outputs": [],
   "source": [
    "c = ChainConsumer()\n",
    "\n",
    "dat = data_gold.copy()\n",
    "dat[:,0] = dat[:,0]+10\n",
    "dat[:,1] = dat[:,1]+10\n",
    "c.add_chain(dat, parameters=[\"$g-r$\", \"$r-i$\"])\n",
    "#c.add_chain(data_des)\n",
    "c.configure(plot_hists=False, cloud=False, sigmas=np.linspace(0, 3, 10), colors ='grey', \n",
    "            shade_alpha = 0.5, kde=True)\n",
    "\n",
    "\n",
    "fig = c.plotter.plot()\n",
    "ax = fig.axes[0]\n",
    "#ax.plot(gr_des, ri_des, 'g.', markersize = 1, alpha = 0.7)\n",
    "ax.plot(gr_sdss, ri_sdss, '.',markersize = 1, alpha = 0.7)\n",
    "ax.plot(x, dperp, 'r-', linewidth=1)\n",
    "ax.set_ylim(0,2)\n",
    "ax.set_xlim(0,3)\n",
    "\n",
    "ax.text(1.8, 0.1, 'SDSS  Color')\n",
    "\n",
    "plt.tight_layout()\n",
    "#fig.savefig('../paper_figure/gri_sdss.pdf')"
   ]
  },
  {
   "cell_type": "code",
   "execution_count": null,
   "id": "29d10d25-c742-41ce-b702-d382a6b5ded9",
   "metadata": {},
   "outputs": [],
   "source": [
    "from run_DMASS import *\n",
    "\n",
    "cutmask = priorCut_test(gold_st82)\n",
    "gold_cut_outlier = gold_st82[cutmask]"
   ]
  },
  {
   "cell_type": "code",
   "execution_count": null,
   "id": "8c1251a8-5502-4082-bb85-6a407116f0e0",
   "metadata": {},
   "outputs": [],
   "source": [
    "#dperp_des = ri_des - gr_des/8.\n",
    "\n",
    "gr_gold = gold_cut_outlier['MAG_DETMODEL_G']- gold_cut_outlier['MAG_DETMODEL_R']\n",
    "ri_gold = gold_cut_outlier['MAG_DETMODEL_R']- gold_cut_outlier['MAG_DETMODEL_I']\n",
    "dperp_gold = ri_gold - gr_gold/8."
   ]
  },
  {
   "cell_type": "code",
   "execution_count": null,
   "id": "52750c97-cb7c-43ed-af32-3e65a802c06d",
   "metadata": {},
   "outputs": [],
   "source": [
    "Ncmass = []\n",
    "Nall = []\n",
    "for dp in np.linspace(0.3, 0.6, 31):\n",
    "    dpmask = dperp_gold > dp\n",
    "    gold_train, cmass_train = matchCatalogsbyPosition(gold_cut_outlier[dpmask], cmass_stripe)\n",
    "    Ncmass.append(gold_train.size)\n",
    "    Nall.append(gold_cut_outlier[dpmask].size)\n",
    "    print dp, gold_train.size, gold_cut_outlier[dpmask].size"
   ]
  },
  {
   "cell_type": "code",
   "execution_count": null,
   "id": "b01e1e86-bf06-4435-bd7e-07b7b868d08e",
   "metadata": {},
   "outputs": [],
   "source": [
    "ncmass = np.array(Ncmass) * 1./np.array(Nall)\n",
    "Nno = np.array(Nall) - np.array(Ncmass)"
   ]
  },
  {
   "cell_type": "code",
   "execution_count": null,
   "id": "429c7d06-e319-4f20-a571-b97bcfb5b443",
   "metadata": {},
   "outputs": [],
   "source": [
    "fig, ax = plt.subplots()\n",
    "ax.plot( np.linspace(0.3, 0.6, 31), ncmass*1./ncmass.max() )\n",
    "ax.plot( np.linspace(0.3, 0.6, 31), Nno *1./np.array(Nall)  )\n",
    "ax.axvline(x = 0.55, ls='--', color='k')"
   ]
  },
  {
   "cell_type": "code",
   "execution_count": null,
   "id": "c73e8d45-5a7d-4dee-98b1-ecfac42211fe",
   "metadata": {},
   "outputs": [],
   "source": [
    "def mixing_SDSS_color(data, suffix = '', sdss = None, cmass = None ):\n",
    "    \n",
    "    #filter = ['G', 'R', 'I', 'Z']\n",
    "    filter = [1,2,3,4]\n",
    "    mag = ['CMODELMAG', 'MODELMAG']\n",
    "    magtag = mag#[ m+'_'+f+suffix for m in mag for f in filter ]\n",
    "    #del magtag[0], magtag[2]\n",
    "    err = [ 'CMODELMAGERR','MODELMAGERR']\n",
    "    errtag = err#[ e+'_'+f for e in err for f in filter ]\n",
    "    #del errtag[0], errtag[2]\n",
    "    \n",
    "    \n",
    "    print data['CMODELMAG'][:,0].size\n",
    "    \n",
    "    X = [ data[mt][:,i] for mt in magtag for i in filter ]\n",
    "    del X[0], X[2]\n",
    "    Xerr = [ data[mt][:,i] for mt in errtag for i in filter]\n",
    "    del Xerr[0], Xerr[2]\n",
    "    #reddeningtag = 'XCORR_SFD98'\n",
    "\n",
    "    X = np.vstack(X).T\n",
    "    Xerr = np.vstack(Xerr).T\n",
    "    # mixing matrix\n",
    "    W = np.array([\n",
    "                  [1, 0, 0, 0, 0, 0],\n",
    "                  [0, 1, 0, 0, 0, 0],    # i cmag\n",
    "                  [0, 0, 1, -1, 0, 0],   # g-r\n",
    "                  [0, 0, 0, 1, -1, 0],   # r-i\n",
    "                  [0, 0, 0, 0, 1, -1]])  # i-z\n",
    "\n",
    "    X = np.dot(X, W.T)\n",
    "\n",
    "    Xcov = np.zeros(Xerr.shape + Xerr.shape[-1:])\n",
    "    Xcov[:, range(Xerr.shape[1]), range(Xerr.shape[1])] = Xerr**2\n",
    "    Xcov = np.tensordot(np.dot(Xcov, W.T), W, (-2, -1))\n",
    "    return X, Xcov"
   ]
  },
  {
   "cell_type": "code",
   "execution_count": null,
   "id": "ea3989c8-f645-461c-9935-c4c43aedeb12",
   "metadata": {},
   "outputs": [],
   "source": [
    "X_cmass_train, Xcov_cmass_train = mixing_SDSS_color(cmass_train)"
   ]
  },
  {
   "cell_type": "code",
   "execution_count": null,
   "id": "c16b2b77-63c0-4ff4-b129-666e22deb6c7",
   "metadata": {},
   "outputs": [],
   "source": [
    "X_cmass_train_new = [np.random.multivariate_normal( X_cmass_train[i], Xcov_cmass_train[i], 1 ) for i in range(cmass_train.size) ]"
   ]
  },
  {
   "cell_type": "code",
   "execution_count": null,
   "id": "73674915-7bff-489f-9e46-aba43b15ef6c",
   "metadata": {},
   "outputs": [],
   "source": [
    "X_cmass_train_new = np.array(X_cmass_train_new)"
   ]
  },
  {
   "cell_type": "code",
   "execution_count": null,
   "id": "10a05898-63b8-4fdd-968f-5fcc02588e9b",
   "metadata": {},
   "outputs": [],
   "source": [
    "new_gr_sdss = X_cmass_train_new[:,0][:,2]\n",
    "new_ri_sdss = X_cmass_train_new[:,0][:,3]"
   ]
  },
  {
   "cell_type": "code",
   "execution_count": null,
   "id": "bd088317-a658-4d62-9ce8-30288d2c66a3",
   "metadata": {},
   "outputs": [],
   "source": [
    "xbins = np.linspace(0, 3.0, 150)\n",
    "ybins = np.linspace(0.2, 1.8, 120)\n",
    "Ngal_sdss, xedges, yedges = np.histogram2d(gr_sdss, ri_sdss, bins=(xbins, ybins), normed=False)\n",
    "Ngal_des, xedges, yedges = np.histogram2d(gr_des, ri_des, bins=(xbins, ybins), normed=False)\n",
    "\n",
    "Ngal_sdss[Ngal_sdss == 0] = np.nan\n",
    "Ngal_des[Ngal_des == 0] = np.nan"
   ]
  },
  {
   "cell_type": "code",
   "execution_count": null,
   "id": "c36b496b-f9e5-430f-a645-300ecd796a19",
   "metadata": {},
   "outputs": [],
   "source": [
    "from chainconsumer import ChainConsumer\n",
    "\n",
    "c = ChainConsumer()\n",
    "\n",
    "dat = data_gold.copy()\n",
    "dat[:,0] = dat[:,0]+10\n",
    "dat[:,1] = dat[:,1]+10\n",
    "c.add_chain(dat, parameters=[\"$g-r$\", \"$r-i$\"])\n",
    "#c.add_chain(data_des)\n",
    "c.configure(plot_hists=False, cloud=False, sigmas=np.linspace(0, 3, 10), colors ='grey', \n",
    "            shade_alpha = 0.5, kde=False)\n",
    "\n",
    "\n",
    "fig = c.plotter.plot(figsize=(4,3.2))\n",
    "ax = fig.axes[0]\n",
    "\n",
    "im = ax.imshow(np.rot90(Ngal_sdss), extent=(np.amin(xbins), np.amax(xbins), np.amin(ybins), np.amax(ybins)),\n",
    "        cmap=plt.cm.jet, aspect='auto', zorder = 2 )#, \n",
    "cbar = fig.colorbar(im, ax=ax)\n",
    "cbar.set_label(r'$N_{\\rm gal}$', fontsize=15)\n",
    "ax.plot(x, dperp, 'r-', linewidth=1, zorder = 3)\n",
    "\n",
    "#ax.errorbar( gr_sdss[dperpcut], ri_sdss[dperpcut], xerr = gr_sdss_err[dperpcut], \n",
    "#            yerr = ri_sdss_err[dperpcut], fmt = 'o', color='black', zorder=10)\n",
    "\n",
    "\n",
    "ax.set_xlabel('g-r', fontsize=15)\n",
    "ax.set_ylabel('r-i', fontsize=15)\n",
    "ax.set_xlim(0,3.)\n",
    "ax.set_ylim(0.2,1.8)\n",
    "\n",
    "ax.text(1.9, 0.3, 'SDSS  Color' )\n",
    "plt.tight_layout()\n",
    "\n",
    "fig.savefig('../paper_figure/gri_sdss_color_cbar.pdf')"
   ]
  },
  {
   "cell_type": "code",
   "execution_count": null,
   "id": "1f7e00f5-4e94-4c9c-9aa9-6ffc58e2c773",
   "metadata": {},
   "outputs": [],
   "source": [
    "from chainconsumer import ChainConsumer\n",
    "\n",
    "#seed(0)\n",
    "#cov = normal(size=(3, 3))\n",
    "#data = multivariate_normal(normal(size=3), np.dot(cov, cov.T), size=100000)\n",
    "\n",
    "data_gold = np.column_stack( [gr_gold, ri_gold] )\n",
    "data_sdss = np.column_stack( [gr_sdss, ri_sdss] )\n",
    "data_des = np.column_stack( [gr_des, ri_des] )\n",
    "\n",
    "c = ChainConsumer()\n",
    "c.add_chain(data_gold, parameters=[\"$g-r$\", \"$r-i$\"])\n",
    "#c.add_chain(data_des)\n",
    "c.configure(plot_hists=False, cloud=True, sigmas=np.linspace(0, 3, 10), colors ='grey', \n",
    "            shade_alpha = 0.7, kde=False)\n",
    "\n",
    "\n",
    "fig = c.plotter.plot(figsize=(4,3.2))\n",
    "ax = fig.axes[0]\n",
    "\n",
    "ax.imshow(np.rot90(Ngal_des), extent=(np.amin(xbins), np.amax(xbins), np.amin(ybins), np.amax(ybins)),\n",
    "        cmap=plt.cm.jet, aspect='auto', zorder = 2, alpha = 1.0 )#, \n",
    "cbar = fig.colorbar(im, ax=ax)\n",
    "cbar.set_label(r'$N_{\\rm gal}$', fontsize=15)\n",
    "ax.plot(x, dperp, 'r-', linewidth=1, zorder = 3)\n",
    "\n",
    "#ax.errorbar( gr_sdss[dperpcut], ri_sdss[dperpcut], xerr = gr_sdss_err[dperpcut], \n",
    "#            yerr = ri_sdss_err[dperpcut], fmt = 'o', color='black', zorder=10)\n",
    "\n",
    "\n",
    "ax.set_xlabel('g-r', fontsize=15)\n",
    "ax.set_ylabel('r-i', fontsize=15)\n",
    "ax.set_xlim(0,3.)\n",
    "ax.set_ylim(0.2,1.8)\n",
    "\n",
    "ax.text(2.0, 0.3, 'DES  Color')\n",
    "plt.tight_layout()\n",
    "\n",
    "fig.savefig('../paper_figure/gri_des_color_cbar.pdf')"
   ]
  }
 ],
 "metadata": {
  "kernelspec": {
   "display_name": "DMASS",
   "language": "python",
   "name": "des_env"
  },
  "language_info": {
   "codemirror_mode": {
    "name": "ipython",
    "version": 3
   },
   "file_extension": ".py",
   "mimetype": "text/x-python",
   "name": "python",
   "nbconvert_exporter": "python",
   "pygments_lexer": "ipython3",
   "version": "3.9.2"
  }
 },
 "nbformat": 4,
 "nbformat_minor": 5
}
