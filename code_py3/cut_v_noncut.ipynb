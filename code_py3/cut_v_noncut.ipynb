{
 "cells": [
  {
   "cell_type": "code",
   "execution_count": 1,
   "id": "11623e14-81e2-414f-b694-6d26d82d2fea",
   "metadata": {},
   "outputs": [
    {
     "name": "stderr",
     "output_type": "stream",
     "text": [
      "In /users/PCON0003/warner785/.conda/envs/DES_env/lib/python3.7/site-packages/matplotlib/mpl-data/stylelib/_classic_test.mplstyle: \n",
      "The savefig.frameon rcparam was deprecated in Matplotlib 3.1 and will be removed in 3.3.\n",
      "In /users/PCON0003/warner785/.conda/envs/DES_env/lib/python3.7/site-packages/matplotlib/mpl-data/stylelib/_classic_test.mplstyle: \n",
      "The verbose.level rcparam was deprecated in Matplotlib 3.1 and will be removed in 3.3.\n",
      "In /users/PCON0003/warner785/.conda/envs/DES_env/lib/python3.7/site-packages/matplotlib/mpl-data/stylelib/_classic_test.mplstyle: \n",
      "The verbose.fileo rcparam was deprecated in Matplotlib 3.1 and will be removed in 3.3.\n"
     ]
    },
    {
     "name": "stdout",
     "output_type": "stream",
     "text": [
      "/users/PCON0003/warner785/DMASS-analysis/measurements/code_py3\n"
     ]
    }
   ],
   "source": [
    "import os, sys\n",
    "import healpy as hp\n",
    "import numpy as np\n",
    "\n",
    "sys.path.append('../../')\n",
    "sys.path.append('/DMASS-analysis/measurements/code_py3/')\n",
    "\n",
    "import esutil\n",
    "import matplotlib.pyplot as plt\n",
    "%matplotlib inline\n",
    "\n",
    "%load_ext autoreload\n",
    "%autoreload 2\n",
    "\n",
    "from utils import *\n",
    "\n",
    "from matplotlib import rc\n",
    "rc('font',**{'family':'sans-serif','sans-serif':['Helvetica']})\n",
    "## for Palatino and other serif fonts use:\n",
    "#rc('font',**{'family':'serif','serif':['Palatino']})\n",
    "rc('text', usetex=True)\n",
    "\n",
    "os.chdir('../../DMASS-analysis/measurements/code_py3/')\n",
    "print(os.getcwd())\n",
    "\n",
    "from calling_catalogs import *\n",
    "\n",
    "rootdir = '/users/PCON0003/warner785/DMASS-analysis/measurements/clustering/'\n",
    "\n",
    "from ggl_mcal import run_ng_jk, run_nn_jk, run_nk_jk, compute_eix_jk, compute_Rgamma_jk, construct_jk, compute_jkcov, save_results"
   ]
  },
  {
   "cell_type": "code",
   "execution_count": 2,
   "id": "bdc593e5-5cfa-4194-8f9c-6e5c8f17f1ff",
   "metadata": {},
   "outputs": [],
   "source": [
    "def calling_lens_catalog_cut(catname=None):\n",
    "\n",
    "    catdir = ''.join([ c+'/' for c in catname.split('/')[:-1]])\n",
    "    os.system('mkdir '+catdir)\n",
    "    dmass = esutil.io.read(catname)\n",
    "    w_dmass = dmass['CMASS_PROB']\n",
    "    print ('Calculating DMASS systematic weights...')\n",
    "    dmass = appendColumn(dmass, name='WEIGHT', value= w_dmass )\n",
    "#   dmass = dmass[ dmass['CMASS_PROB'] > 0.01 ]   # for low probability galaxies\n",
    "    esutil.io.write(catname, dmass)\n",
    "    #randoms = esutil.io.read('/n/des/lee.5922/data/dmass_cat/random_x50_dmass_spt_masked.fits')\n",
    "    \n",
    "    randoms = esutil.io.read('/fs/scratch/PCON0003/warner785/bwarner/random_dmass_y1_public_v1.fits')\n",
    "#    randoms = esutil.io.read('/users/PCON0003/warner785/DMASSY3/output/test/train_cat/y3/dmass_st82_DET200_randoms.fits')\n",
    "    \n",
    "#    catdir = ''.join([ c+'/' for c in catname.split('/')[:-1]])\n",
    "#    os.system('mkdir '+catdir)\n",
    "#    dmass = esutil.io.read('/n/des/lee.5922/data/dmass_cat/dmass_spt_sys_v3.fits')\n",
    "    w_dmass = dmass['CMASS_PROB'] *dmass['SYS_WEIGHT']\n",
    "    print ('Calculatig DMASS systematic weights...')\n",
    "    dmass['WEIGHT'] = w_dmass\n",
    "    dmass = dmass[ dmass['CMASS_PROB'] > 0.01 ]\n",
    "    \n",
    "    # find cutoff later\n",
    "#    dmass = dmass[ dmass['CMASS_PROB'] > 0.01 ]\n",
    "    esutil.io.write(catname, dmass)\n",
    "    #randoms = esutil.io.read('/n/des/lee.5922/data/dmass_cat/random_x50_dmass_spt_masked.fits')\n",
    "\n",
    "#    randoms = esutil.io.read('/n/des/lee.5922/data/dmass_cat/random_x50_dmass_spt_masked.fits')\n",
    "\n",
    "    print ('Resulting catalog size')\n",
    "    print ('DMASS=', np.sum(dmass['WEIGHT']) )\n",
    "    print ('randoms=', randoms.size)\n",
    "    return dmass, randoms"
   ]
  },
  {
   "cell_type": "code",
   "execution_count": 3,
   "id": "3cb7cec0-f00a-4e78-b82c-2a54f9693533",
   "metadata": {},
   "outputs": [],
   "source": [
    "def calling_lens_catalog(catname=None):\n",
    "\n",
    "    catdir = ''.join([ c+'/' for c in catname.split('/')[:-1]])\n",
    "    os.system('mkdir '+catdir)\n",
    "    dmass = esutil.io.read(catname)\n",
    "    w_dmass = dmass['CMASS_PROB']\n",
    "    print ('Calculating DMASS systematic weights...')\n",
    "    dmass = appendColumn(dmass, name='WEIGHT', value= w_dmass )\n",
    "#   dmass = dmass[ dmass['CMASS_PROB'] > 0.01 ]   # for low probability galaxies\n",
    "    esutil.io.write(catname, dmass)\n",
    "    #randoms = esutil.io.read('/n/des/lee.5922/data/dmass_cat/random_x50_dmass_spt_masked.fits')\n",
    "    \n",
    "    randoms = esutil.io.read('/fs/scratch/PCON0003/warner785/bwarner/random_dmass_y1_public_v1.fits')\n",
    "#    randoms = esutil.io.read('/users/PCON0003/warner785/DMASSY3/output/test/train_cat/y3/dmass_st82_DET200_randoms.fits')\n",
    "    \n",
    "#    catdir = ''.join([ c+'/' for c in catname.split('/')[:-1]])\n",
    "#    os.system('mkdir '+catdir)\n",
    "#    dmass = esutil.io.read('/n/des/lee.5922/data/dmass_cat/dmass_spt_sys_v3.fits')\n",
    "    w_dmass = dmass['CMASS_PROB'] *dmass['SYS_WEIGHT']\n",
    "    print ('Calculatig DMASS systematic weights...')\n",
    "    dmass['WEIGHT'] = w_dmass\n",
    "    \n",
    "    # find cutoff later\n",
    "#    dmass = dmass[ dmass['CMASS_PROB'] > 0.01 ]\n",
    "    esutil.io.write(catname, dmass)\n",
    "    #randoms = esutil.io.read('/n/des/lee.5922/data/dmass_cat/random_x50_dmass_spt_masked.fits')\n",
    "\n",
    "#    randoms = esutil.io.read('/n/des/lee.5922/data/dmass_cat/random_x50_dmass_spt_masked.fits')\n",
    "\n",
    "    print ('Resulting catalog size')\n",
    "    print ('DMASS=', np.sum(dmass['WEIGHT']) )\n",
    "    print ('randoms=', randoms.size)\n",
    "    return dmass, randoms"
   ]
  },
  {
   "cell_type": "code",
   "execution_count": 4,
   "id": "e74d4595-72a5-4021-bac3-46a9e3fdcb41",
   "metadata": {},
   "outputs": [
    {
     "name": "stdout",
     "output_type": "stream",
     "text": [
      "Calculating DMASS systematic weights...\n",
      "Calculatig DMASS systematic weights...\n",
      "Resulting catalog size\n",
      "DMASS= 27618.543122842555\n",
      "randoms= 5864645\n",
      "('COADD_OBJECT_ID', 'RA', 'DEC', 'HPIX_4096', 'MAG_DETMODEL_G', 'MAGERR_DETMODEL_G', 'MAG_DETMODEL_R', 'MAGERR_DETMODEL_R', 'MAG_DETMODEL_I', 'MAGERR_DETMODEL_I', 'MAG_DETMODEL_Z', 'MAGERR_DETMODEL_Z', 'MOF_CM_MAG_ERR_G', 'MOF_CM_MAG_ERR_R', 'MOF_CM_MAG_ERR_I', 'MOF_CM_MAG_ERR_Z', 'MOF_CM_MAG_CORRECTED_G', 'MOF_CM_MAG_CORRECTED_R', 'MOF_CM_MAG_CORRECTED_I', 'MOF_CM_MAG_CORRECTED_Z', 'SOF_CM_MAG_ERR_G', 'SOF_CM_MAG_ERR_R', 'SOF_CM_MAG_ERR_I', 'SOF_CM_MAG_ERR_Z', 'SOF_CM_MAG_CORRECTED_G', 'SOF_CM_MAG_CORRECTED_R', 'SOF_CM_MAG_CORRECTED_I', 'SOF_CM_MAG_CORRECTED_Z', 'EXTENDED_CLASS_MASH_SOF', 'CMASS_PROB', 'WEIGHT', 'SYS_WEIGHT')\n"
     ]
    }
   ],
   "source": [
    "dmass_val, randoms = calling_lens_catalog('../../../DMASSY3/output/test/train_cat/y3/dmass_sys_weight_val_FULL_lin.fits')\n",
    "print(dmass_val.dtype.names)"
   ]
  },
  {
   "cell_type": "code",
   "execution_count": 5,
   "id": "d5145039-bca8-488c-b7f4-9676fafbe9d4",
   "metadata": {},
   "outputs": [
    {
     "name": "stdout",
     "output_type": "stream",
     "text": [
      "Calculating DMASS systematic weights...\n",
      "Calculatig DMASS systematic weights...\n",
      "Resulting catalog size\n",
      "DMASS= 26735.92056563343\n",
      "randoms= 5864645\n",
      "('COADD_OBJECT_ID', 'RA', 'DEC', 'HPIX_4096', 'MAG_DETMODEL_G', 'MAGERR_DETMODEL_G', 'MAG_DETMODEL_R', 'MAGERR_DETMODEL_R', 'MAG_DETMODEL_I', 'MAGERR_DETMODEL_I', 'MAG_DETMODEL_Z', 'MAGERR_DETMODEL_Z', 'MOF_CM_MAG_ERR_G', 'MOF_CM_MAG_ERR_R', 'MOF_CM_MAG_ERR_I', 'MOF_CM_MAG_ERR_Z', 'MOF_CM_MAG_CORRECTED_G', 'MOF_CM_MAG_CORRECTED_R', 'MOF_CM_MAG_CORRECTED_I', 'MOF_CM_MAG_CORRECTED_Z', 'SOF_CM_MAG_ERR_G', 'SOF_CM_MAG_ERR_R', 'SOF_CM_MAG_ERR_I', 'SOF_CM_MAG_ERR_Z', 'SOF_CM_MAG_CORRECTED_G', 'SOF_CM_MAG_CORRECTED_R', 'SOF_CM_MAG_CORRECTED_I', 'SOF_CM_MAG_CORRECTED_Z', 'EXTENDED_CLASS_MASH_SOF', 'CMASS_PROB', 'WEIGHT', 'SYS_WEIGHT')\n"
     ]
    }
   ],
   "source": [
    "dmass_val_cut, randoms = calling_lens_catalog_cut('../../../DMASSY3/output/test/train_cat/y3/dmass_sys_weight_val_FULL_lin.fits')\n",
    "print(dmass_val_cut.dtype.names)"
   ]
  },
  {
   "cell_type": "code",
   "execution_count": 6,
   "id": "0cd329e5-d5cd-4092-a50c-f044a3e55f7c",
   "metadata": {},
   "outputs": [],
   "source": [
    "def keepGoodRegion(des, hpInd = False, balrog=None):\n",
    "    import healpy as hp\n",
    "    import fitsio\n",
    "    # 25 is the faintest object detected by DES\n",
    "    # objects larger than 25 considered as Noise\n",
    "    \n",
    "    path = '/fs/scratch/PCON0003/warner785/bwarner/'\n",
    "    #LSSGoldmask = fitsio.read(path+'Y1LSSmask_v2_il22_seeil4.0_nside4096ring_redlimcut.fits')\n",
    "    #LSSGoldmask = fitsio.read(path+'Y1LSSmask_v1_il22seeil4.04096ring_redlimcut.fits')\n",
    "    LSSGoldmask = fitsio.read(path+'MASK_Y3LSSBAOSOF_22_3_v2p2.fits')\n",
    "    ringhp = hp.nest2ring(4096, [LSSGoldmask['PIXEL']])\n",
    "    #Y1LSSmask_v1_il22seeil4.04096ring_redlimcut.fits\n",
    "    #frac_cut = LSSGoldmask['FRAC'] > 0.8\n",
    "    #ind_good_ring = LSSGoldmask['PIXEL'][frac_cut]\n",
    "    ind_good_ring = ringhp\n",
    "    \n",
    "    # healpixify the catalog.\n",
    "    nside=4096\n",
    "    # Convert silly ra/dec to silly HP angular coordinates.\n",
    "    phi = des['RA'] * np.pi / 180.0\n",
    "    theta = ( 90.0 - des['DEC'] ) * np.pi/180.0\n",
    "\n",
    "    hpInd = hp.ang2pix(nside,theta,phi,nest=False)\n",
    "    keep = np.in1d(hpInd, ind_good_ring)\n",
    "    des = des[keep]\n",
    "    if hpInd is True:\n",
    "        return ind_good_ring\n",
    "    else:\n",
    "        return des"
   ]
  },
  {
   "cell_type": "code",
   "execution_count": 7,
   "id": "1bee6db0-b844-45f4-907e-ae4b9fa10143",
   "metadata": {},
   "outputs": [],
   "source": [
    "def ra_dec_to_xyz(ra, dec):\n",
    "    \"\"\"Convert ra & dec to Euclidean points\n",
    "    Parameters\n",
    "    ----------\n",
    "    ra, dec : ndarrays\n",
    "    Returns\n",
    "    x, y, z : ndarrays\n",
    "    \"\"\"\n",
    "    sin_ra = np.sin(ra * np.pi / 180.)\n",
    "    cos_ra = np.cos(ra * np.pi / 180.)\n",
    "\n",
    "    sin_dec = np.sin(np.pi / 2 - dec * np.pi / 180.)\n",
    "    cos_dec = np.cos(np.pi / 2 - dec * np.pi / 180.)\n",
    "\n",
    "    return (cos_ra * sin_dec,\n",
    "            sin_ra * sin_dec,\n",
    "            cos_dec)\n",
    "\n",
    "def uniform_sphere(RAlim, DEClim, size=1):\n",
    "    \"\"\"Draw a uniform sample on a sphere\n",
    "    Parameters\n",
    "    ----------\n",
    "    RAlim : tuple\n",
    "        select Right Ascension between RAlim[0] and RAlim[1]\n",
    "        units are degrees\n",
    "    DEClim : tuple\n",
    "        select Declination between DEClim[0] and DEClim[1]\n",
    "    size : int (optional)\n",
    "        the size of the random arrays to return (default = 1)\n",
    "    Returns\n",
    "    -------\n",
    "    RA, DEC : ndarray\n",
    "        the random sample on the sphere within the given limits.\n",
    "        arrays have shape equal to size.\n",
    "    \"\"\"\n",
    "    zlim = np.sin(np.pi * np.asarray(DEClim) / 180.)\n",
    "\n",
    "    z = zlim[0] + (zlim[1] - zlim[0]) * np.random.random(size)\n",
    "    DEC = (180. / np.pi) * np.arcsin(z)\n",
    "    RA = RAlim[0] + (RAlim[1] - RAlim[0]) * np.random.random(size)\n",
    "    \n",
    "    return RA, DEC\n",
    "\n",
    "def uniform_random_on_sphere(data, size = None ):\n",
    "    ra = data['RA']\n",
    "    dec = data['DEC']\n",
    "    \n",
    "    n_features = ra.size\n",
    "    #size = 100 * data.size\n",
    "    \n",
    "    # draw a random sample with N points\n",
    "    ra_R, dec_R = uniform_sphere((min(ra), max(ra)),\n",
    "                                 (min(dec), max(dec)),\n",
    "                                 size)\n",
    "    #data = np.asarray(ra_dec_to_xyz(ra, dec), order='F').T\n",
    "    #data_R = np.asarray(ra_dec_to_xyz(ra_R, dec_R), order='F').T\n",
    "    \n",
    "    #random redshift distribution\n",
    "    \n",
    "    data_R = np.zeros((ra_R.size,), dtype=[('RA', 'float'), ('DEC', 'float')])\n",
    "    data_R['RA'] = ra_R\n",
    "    data_R['DEC'] = dec_R\n",
    "                              \n",
    "    return data_R\n",
    "\n",
    "## ---------------------------------------------\n",
    "## generate randoms in a dmass region\n",
    "random_create = uniform_random_on_sphere(dmass_val, size = 50 * dmass_val.size)\n",
    "# applying LSS mask \n",
    "random_create = keepGoodRegion(random_create)\n",
    "\n",
    "random_cut = uniform_random_on_sphere(dmass_val_cut, size = 50 * dmass_val_cut.size)\n",
    "random_cut = keepGoodRegion(random_create)\n",
    "\n",
    "#mask = (gold_st82['RA']>310) & (gold_st82['RA']<360)|(gold_st82['RA']<7)\n",
    "#mask = mask & (gold_st82['DEC']>-10) & (gold_st82['DEC']<10)\n",
    "#gold_st82_train = gold_st82[mask]"
   ]
  },
  {
   "cell_type": "code",
   "execution_count": 8,
   "id": "9fe7dc5a-f899-4b5b-8bd0-228c3dcb76bd",
   "metadata": {},
   "outputs": [],
   "source": [
    "randomsind_create = np.random.choice( random_create.size, size=int(random_create.size/3.) )\n",
    "random_create = random_create[randomsind_create]\n",
    "\n",
    "randomsind_cut = np.random.choice( random_cut.size, size=int(random_cut.size/3.) )\n",
    "random_cut = random_cut[randomsind_cut]"
   ]
  },
  {
   "cell_type": "code",
   "execution_count": 9,
   "id": "258cfc8c-920f-4301-b1c0-1028dcb42f13",
   "metadata": {},
   "outputs": [],
   "source": [
    "def treecorr_xi(lens, random=None, filename=None, rootdir=None, \n",
    "\t\tnbins=20, min_sep=2.5, max_sep=250, sep_units='arcmin', bin_slop=0.05, \n",
    "        npatch=10, var_method='jackknife', cen_file = None):\n",
    "    \n",
    "    import treecorr\n",
    "\n",
    "    if cen_file != None:\n",
    "        if os.path.exists(cen_file):\n",
    "            print ('Saved cen_file exists:',cen_file)\n",
    "            cen_file_switch_on = cen_file\n",
    "            npatch=1\n",
    "        else : \n",
    "            print ('Create cen_file=',cen_file)\n",
    "            cen_file_switch_on = None\n",
    "\n",
    "    #temp_dir=filename.split('.txt')[0]\n",
    "    cat_l = treecorr.Catalog(ra=lens['RA'], dec=lens['DEC'], w=lens['WEIGHT'], \n",
    "                             ra_units='deg', dec_units='deg', npatch=npatch, \n",
    "                             patch_centers=cen_file_switch_on )\n",
    "\n",
    "    if cen_file_switch_on == None : \n",
    "        cat_l.write_patch_centers(cen_file)\n",
    "#changed to make weights = 1 for randoms\n",
    "    from numpy.lib.recfunctions import append_fields\n",
    "    weights = np.zeros(len(random))\n",
    "    for x in range(len(random)-1):\n",
    "        weights[x]=1\n",
    "    random = append_fields(random, 'WEIGHT', weights, usemask=False)\n",
    "    \n",
    "    cat_r = treecorr.Catalog(ra=random['RA'], dec=random['DEC'], w=random['WEIGHT'], \n",
    "                             ra_units='deg', dec_units='deg', \n",
    "                             patch_centers=cen_file_switch_on )\n",
    "    \n",
    "    dd = treecorr.NNCorrelation(nbins=nbins, min_sep=min_sep,\n",
    "                            max_sep=max_sep, sep_units=sep_units, bin_slop=bin_slop, \n",
    "                            var_method=var_method,\n",
    "                            num_threads=30, verbose=1)\n",
    "    dr = treecorr.NNCorrelation(nbins=nbins, min_sep=min_sep,\n",
    "                                max_sep=max_sep, sep_units=sep_units, bin_slop=bin_slop, \n",
    "                                var_method=var_method,\n",
    "                                num_threads=30, verbose=1)\n",
    "    rd = treecorr.NNCorrelation(nbins=nbins, min_sep=min_sep,\n",
    "                                max_sep=max_sep, sep_units=sep_units, bin_slop=bin_slop, \n",
    "                                var_method=var_method,\n",
    "                                num_threads=30, verbose=1)\n",
    "    rr = treecorr.NNCorrelation(nbins=nbins, min_sep=min_sep,\n",
    "                                max_sep=max_sep, sep_units=sep_units, bin_slop=bin_slop, \n",
    "                                var_method=var_method,\n",
    "                                num_threads=30, verbose=1)\n",
    "\n",
    "    dd.process(cat_l)\n",
    "    dr.process(cat_l, cat_r)\n",
    "    rd.process(cat_r, cat_l)\n",
    "    rr.process(cat_r)\n",
    "    xi,varxi = dd.calculateXi(rr,dr)\n",
    "    dd.write(filename,rr,dr,rd)\n",
    "    \n",
    "    cov_jk = dd.estimate_cov(var_method)\n",
    "    cov_filename=filename.split('.txt')[0]+'.cov'\n",
    "    np.savetxt(cov_filename, cov_jk)\n",
    "    \n",
    "    print ('save to', filename)\n",
    "    \n",
    "# search for VETO in run_DMASS\n",
    "# ask Su about this, if not"
   ]
  },
  {
   "cell_type": "code",
   "execution_count": null,
   "id": "3fdcda9d-49a8-4272-8607-93c3afce4c08",
   "metadata": {},
   "outputs": [
    {
     "name": "stdout",
     "output_type": "stream",
     "text": [
      "Create cen_file= /users/PCON0003/warner785/DMASS-analysis/measurements/clustering//80/nn_cen_file.txt\n"
     ]
    }
   ],
   "source": [
    "npatch=80\n",
    "tempdir = rootdir+'/{}/'.format(npatch)\n",
    "cen_file = tempdir + 'nn_cen_file.txt'\n",
    "filename = tempdir + 'nn.lens.txt'\n",
    "\n",
    "#os.system('mkdir '+savedir)\n",
    "#print (os.path.exists(tempdir) )\n",
    "os.system('rm -rf '+tempdir)\n",
    "os.system('mkdir '+tempdir)\n",
    "\n",
    "# default of poisson errors -- try this\n",
    "# ***save to different variables to compare different methods of errors\n",
    "\n",
    "treecorr_xi(dmass_val, random=random_create,\n",
    "        filename=filename, rootdir = tempdir, \n",
    "        nbins=20, min_sep=2.5, max_sep=250., sep_units='arcmin', bin_slop=0.05,\n",
    "        npatch=npatch, cen_file=cen_file, var_method='jackknife')\n",
    "\n",
    "cov_new_dmass= np.genfromtxt(tempdir+'/nn.lens.cov'.format(npatch))\n",
    "_, meanr, _, galaxy_xi, xi_err,_,_,_,_,_ = np.genfromtxt(tempdir+'nn.lens.txt'.format(npatch), unpack=True)"
   ]
  },
  {
   "cell_type": "code",
   "execution_count": 11,
   "id": "4b69a7cc-04e2-420b-9b3a-f4e8c165a01b",
   "metadata": {},
   "outputs": [
    {
     "name": "stdout",
     "output_type": "stream",
     "text": [
      "save to /users/PCON0003/warner785/DMASS-analysis/measurements/clustering//80/nn.lens_cut.txt\n"
     ]
    }
   ],
   "source": [
    "#Other dmass-- Prob Cut\n",
    "\n",
    "npatch=80\n",
    "tempdir = rootdir+'/{}/'.format(npatch)\n",
    "cen_file = tempdir + 'nn_cen_file_cut.txt'\n",
    "filename = tempdir + 'nn.lens_cut.txt'\n",
    "\n",
    "#os.system('mkdir '+savedir)\n",
    "#print (os.path.exists(tempdir) )\n",
    "os.system('rm -rf '+tempdir)\n",
    "os.system('mkdir '+tempdir)\n",
    "\n",
    "# default of poisson errors -- try this\n",
    "# ***save to different variables to compare different methods of errors\n",
    "\n",
    "treecorr_xi(dmass_val_cut, random=random_cut,\n",
    "        filename=filename, rootdir = tempdir, \n",
    "        nbins=20, min_sep=2.5, max_sep=250., sep_units='arcmin', bin_slop=0.05,\n",
    "        npatch=npatch, cen_file=cen_file, var_method='jackknife')\n",
    "\n",
    "cov_new_dmass_cut= np.genfromtxt(tempdir+'/nn.lens_cut.cov'.format(npatch))\n",
    "_, meanr_cut, _, galaxy_xi_cut, xi_err_cut,_,_,_,_,_ = np.genfromtxt(tempdir+'nn.lens_cut.txt'.format(npatch), unpack=True)"
   ]
  },
  {
   "cell_type": "code",
   "execution_count": 12,
   "id": "57392bb8-a2bd-4665-b4c6-09031f60a7d9",
   "metadata": {},
   "outputs": [
    {
     "data": {
      "image/png": "[encoded data removed]",
      "text/plain": [
       "<Figure size 432x288 with 1 Axes>"
      ]
     },
     "metadata": {
      "needs_background": "light"
     },
     "output_type": "display_data"
    }
   ],
   "source": [
    "#difference:\n",
    "\n",
    "fig, ax = plt.subplots()\n",
    "\n",
    "ax.errorbar( meanr, (galaxy_xi-galaxy_xi_cut), xi_err )\n",
    "ax.set_xscale('log')"
   ]
  },
  {
   "cell_type": "code",
   "execution_count": 13,
   "id": "91eb32af-bee1-4e28-8a60-2becb5a01dd1",
   "metadata": {},
   "outputs": [
    {
     "data": {
      "image/png": "[encoded data removed]",
      "text/plain": [
       "<Figure size 432x288 with 1 Axes>"
      ]
     },
     "metadata": {
      "needs_background": "light"
     },
     "output_type": "display_data"
    }
   ],
   "source": [
    "# plotted together:\n",
    "\n",
    "fig, ax = plt.subplots()\n",
    "\n",
    "ax.errorbar( meanr, galaxy_xi, xi_err )\n",
    "ax.errorbar( meanr_cut, galaxy_xi_cut, xi_err_cut )\n",
    "ax.set_xscale('log')"
   ]
  },
  {
   "cell_type": "code",
   "execution_count": 14,
   "id": "9d6d5958-c764-42e1-999e-7e5100a48b72",
   "metadata": {},
   "outputs": [
    {
     "name": "stdout",
     "output_type": "stream",
     "text": [
      "60037\n"
     ]
    }
   ],
   "source": [
    "# compare against CMASS:\n",
    "\n",
    "import fitsio\n",
    "cmass = esutil.io.read('/fs/scratch/PCON0008/warner785/bwarner/matched_cmass.fits')\n",
    "\n",
    "print(cmass.size)"
   ]
  },
  {
   "cell_type": "code",
   "execution_count": 15,
   "id": "a8f957ed-a278-4c90-986a-6c6770202ebd",
   "metadata": {},
   "outputs": [
    {
     "data": {
      "text/plain": [
       "[<matplotlib.lines.Line2D at 0x2b466c60f470>]"
      ]
     },
     "execution_count": 15,
     "metadata": {},
     "output_type": "execute_result"
    },
    {
     "data": {
      "image/png": "[encoded data removed]",
      "text/plain": [
       "<Figure size 432x288 with 1 Axes>"
      ]
     },
     "metadata": {
      "needs_background": "light"
     },
     "output_type": "display_data"
    }
   ],
   "source": [
    "#validation region\n",
    "# convert\n",
    "mask4 =(cmass['RA']>18)&(cmass['RA']<43)\n",
    "mask4 = mask4 & (cmass['DEC']>-10) & (cmass['DEC']<10)\n",
    "cmass = cmass[mask4]\n",
    "\n",
    "from numpy.lib.recfunctions import append_fields\n",
    "weights = np.zeros(len(cmass))\n",
    "for x in range(len(cmass)-1):\n",
    "    weights[x]=1\n",
    "cmass = append_fields(cmass, 'WEIGHT', weights, usemask=False)\n",
    "\n",
    "random_cmass = uniform_random_on_sphere(cmass, size = 50 * cmass.size)\n",
    "# applying LSS mask \n",
    "random_cmass = keepGoodRegion(random_cmass)\n",
    "\n",
    "fig, ax = plt.subplots()\n",
    "ax.plot( cmass['RA'], cmass['DEC'], \"b.\")\n",
    "ax.plot(random_cmass['RA'], random_cmass['DEC'], \"g.\")"
   ]
  },
  {
   "cell_type": "code",
   "execution_count": 16,
   "id": "c437de3b-4368-4761-9ea7-7587f8fe8e6c",
   "metadata": {},
   "outputs": [],
   "source": [
    "randomsind_cmass = np.random.choice( random_cmass.size, size=int(random_cmass.size/3.) )\n",
    "random_cmass = random_cmass[randomsind_cmass]"
   ]
  },
  {
   "cell_type": "code",
   "execution_count": 17,
   "id": "7c309f4a-6f45-4269-8cbb-05356f68364d",
   "metadata": {},
   "outputs": [
    {
     "name": "stdout",
     "output_type": "stream",
     "text": [
      "Create cen_file= /users/PCON0003/warner785/DMASS-analysis/measurements/clustering//80/nn_cen_file_cmass.txt\n",
      "save to /users/PCON0003/warner785/DMASS-analysis/measurements/clustering//80/nn.lens_cmass.txt\n"
     ]
    }
   ],
   "source": [
    "npatch=80\n",
    "tempdir = rootdir+'/{}/'.format(npatch)\n",
    "cen_file = tempdir + 'nn_cen_file_cmass.txt'\n",
    "filename = tempdir + 'nn.lens_cmass.txt'\n",
    "\n",
    "#os.system('mkdir '+savedir)\n",
    "#print (os.path.exists(tempdir) )\n",
    "os.system('rm -rf '+tempdir)\n",
    "os.system('mkdir '+tempdir)\n",
    "\n",
    "# default of poisson errors -- try this\n",
    "# ***save to different variables to compare different methods of errors\n",
    "\n",
    "treecorr_xi(cmass, random=random_cmass,\n",
    "        filename=filename, rootdir = tempdir, \n",
    "        nbins=20, min_sep=2.5, max_sep=250., sep_units='arcmin', bin_slop=0.05,\n",
    "        npatch=npatch, cen_file=cen_file, var_method='jackknife')\n",
    "\n",
    "cov_new= np.genfromtxt(tempdir+'/nn.lens_cmass.cov'.format(npatch))\n",
    "_, meanr_cmass, _, galaxy_xi_cmass, xi_err_cmass,_,_,_,_,_ = np.genfromtxt(tempdir+'nn.lens_cmass.txt'.format(npatch), unpack=True)"
   ]
  },
  {
   "cell_type": "code",
   "execution_count": 18,
   "id": "66470df7-d41a-4dc8-8cce-c784b6b536ff",
   "metadata": {},
   "outputs": [
    {
     "data": {
      "image/png": "[encoded data removed]",
      "text/plain": [
       "<Figure size 432x288 with 1 Axes>"
      ]
     },
     "metadata": {
      "needs_background": "light"
     },
     "output_type": "display_data"
    }
   ],
   "source": [
    "# plot up against CMASS\n",
    "\n",
    "fig, ax = plt.subplots()\n",
    "\n",
    "#ax.loglog(theta, galaxy_xi_theory)\n",
    "#ax.errorbar( theta, galaxy_xi_theory, np.sqrt(cov.diagonal()))\n",
    "ax.errorbar( meanr_cmass, galaxy_xi_cmass, xi_err_cmass )\n",
    "ax.errorbar( meanr, galaxy_xi, xi_err)\n",
    "ax.set_xscale('log')"
   ]
  },
  {
   "cell_type": "code",
   "execution_count": 21,
   "id": "e62ff8aa-c6af-4321-a75c-7cf0aa09195f",
   "metadata": {},
   "outputs": [
    {
     "data": {
      "image/png": "[encoded data removed]",
      "text/plain": [
       "<Figure size 432x288 with 1 Axes>"
      ]
     },
     "metadata": {
      "needs_background": "light"
     },
     "output_type": "display_data"
    }
   ],
   "source": [
    "# fix units to be like Y1 paper:\n",
    "\n",
    "fig, ax = plt.subplots()\n",
    "\n",
    "#ax.loglog(theta, galaxy_xi_theory)\n",
    "#ax.errorbar( theta, galaxy_xi_theory, np.sqrt(cov.diagonal()))\n",
    "ax.errorbar( meanr_cmass/60, 1000*galaxy_xi_cmass*(meanr_cmass/60), xi_err_cmass )\n",
    "ax.errorbar( meanr/60, 1000*galaxy_xi*(meanr/60),xi_err)\n",
    "ax.set_xscale('log')"
   ]
  },
  {
   "cell_type": "code",
   "execution_count": null,
   "id": "68ef443e-4069-4e91-9aa7-39305f1dc99a",
   "metadata": {},
   "outputs": [],
   "source": []
  }
 ],
 "metadata": {
  "kernelspec": {
   "display_name": "Python (DES_env)",
   "language": "python",
   "name": "des_env"
  },
  "language_info": {
   "codemirror_mode": {
    "name": "ipython",
    "version": 3
   },
   "file_extension": ".py",
   "mimetype": "text/x-python",
   "name": "python",
   "nbconvert_exporter": "python",
   "pygments_lexer": "ipython3",
   "version": "3.7.0"
  }
 },
 "nbformat": 4,
 "nbformat_minor": 5
}
