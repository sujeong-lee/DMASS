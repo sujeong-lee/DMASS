{
 "cells": [
  {
   "cell_type": "markdown",
   "id": "a771b5a0-eabf-473f-b276-3d65647a98dc",
   "metadata": {},
   "source": [
    "# Computing number densities of CMASS from published samples"
   ]
  },
  {
   "cell_type": "code",
   "execution_count": 18,
   "id": "7e056821-a859-4b2f-973a-0308577e5218",
   "metadata": {
    "tags": []
   },
   "outputs": [],
   "source": [
    "import fitsio\n",
    "import numpy as np\n",
    "import matplotlib.pyplot as plt"
   ]
  },
  {
   "cell_type": "code",
   "execution_count": 133,
   "id": "d68bc189-ae0e-441d-b711-189a771067a0",
   "metadata": {
    "tags": []
   },
   "outputs": [],
   "source": [
    "# published CMASS catalogues \n",
    "cmass_sgc = fitsio.read('cmass_cat/galaxy_DR12v5_CMASS_South.fits.gz')\n",
    "cmass_ngc = fitsio.read('cmass_cat/galaxy_DR12v5_CMASS_North.fits.gz')\n",
    "# this is unpublished version - contain all photometric targets \n",
    "# http://arxiv.org/abs/1509.06529 \n",
    "cmass_photo = fitsio.read('cmass_cat/cmass-dr12v4-S-Reid-full.dat.fits')"
   ]
  },
  {
   "cell_type": "code",
   "execution_count": 134,
   "id": "a8e9e47b-74e5-4e93-961d-fbde1dcb21cb",
   "metadata": {
    "tags": []
   },
   "outputs": [],
   "source": [
    "# No redshift cut\n",
    "zmin=0.0\n",
    "zmax=10\n",
    "cmass_zcut = cmass_sgc[(cmass_sgc['Z'] > zmin) & (cmass_sgc['Z'] < zmax)]"
   ]
  },
  {
   "cell_type": "markdown",
   "id": "add160b8-1b92-49ba-a1ff-34ddcebafce5",
   "metadata": {},
   "source": [
    "Production of this paper http://arxiv.org/abs/1509.06529  \\\n",
    "But the numbers don't exactly match with table 2. \\\n",
    "Number in the paper is 258,901."
   ]
  },
  {
   "cell_type": "code",
   "execution_count": 138,
   "id": "c501b281-09eb-419c-8ee5-5302a577ebea",
   "metadata": {
    "tags": []
   },
   "outputs": [
    {
     "name": "stdout",
     "output_type": "stream",
     "text": [
      "Number of photometric sources: N_photo= 258884\n"
     ]
    }
   ],
   "source": [
    "print ('Number of photometric sources: N_photo=', cmass_photo.size)"
   ]
  },
  {
   "cell_type": "markdown",
   "id": "746b63cc-0544-4b59-af9b-54e15a8e369e",
   "metadata": {
    "tags": []
   },
   "source": [
    "Now let's compute number of various sources from the spectroscopic samples.\\\n",
    "I am going to compute: \n",
    "* $N_{\\rm source}$: the number of sources in the sample\\\n",
    "* $N_{\\rm cp}$: the number of missing galaxies due to fiber collision. Those galaxies are in the photometric sample but not in the spectroscopic sample. Nearby galaxies with spectroscopic redshift are double-counted to account for those missing galaxies. \n",
    "* $N_{\\rm nz}$: the number of galaxies with redshift failure. \n",
    "* $N_{\\rm photo}$: the number of sources I beilieve in photometric sample for training. Clean galaxies + double counted fiber-collosion galaxies + galaxies upweighted to account for redshift failure of nearby galaxies.\n",
    "* $N_{\\rm eff}$: effective number of galaxies that systematics are corrected (seeing and stellar density) + double counting of fiber-collision galaxies + redshift failure correction\n",
    "\n",
    "\n",
    "\n",
    "There are three `area` described in Reid et al. 2016.\n",
    "* Total area: total area of BOSS survey. The area is constructed of spherical polygons\n",
    "* Veto area: Area vetoed by following reasons as below. Those areas are already vetoed in randoms. \n",
    "1. centerpost : each sloan plate is secured to the focal plane by a central bolt. Targets coninciding with the centerpost cannot be observed (0.04% region) \n",
    "2. fiber collision : Ly-alpha quasar targets receive higher priority than galaxies. In regions of only a single spectroscopic tile, galaxies within a fiber collision radius of those targets are not observable. Masking a 62'' radius around each quasar. 1.5% survey area\n",
    "3. Bright stars mask + Bright objects mask \n",
    "4. Non-photometric condition amsk: mask regions where the imaging was not photometric in g,r,or i bands, the PSF modeling failed, the imaging reduction pipeline fails to process. 3.4%\n",
    "5. Seeing cut \n",
    "6. Extinction cut. \n",
    "\n",
    "* Used area: Total area - Veto area\n"
   ]
  },
  {
   "cell_type": "code",
   "execution_count": 153,
   "id": "697c28ae-e2ba-4ccf-999e-9156c0a650d4",
   "metadata": {
    "tags": []
   },
   "outputs": [],
   "source": [
    "def comp_various_numbers( cmass_zcut ):\n",
    "    \n",
    "    #redshift cut\n",
    "    #cmass_zcut = cmass_sgc[(cmass_sgc['Z'] > zmin) & (cmass_sgc['Z'] < zmax)]\n",
    "    \n",
    "    # Number of sources in the sample\n",
    "    print ('Number of spectroscopic sample\\n')\n",
    "    print ('Number of source: N_source=', cmass_zcut.size)\n",
    "\n",
    "    # Number of fiber collision galaxies (should be double counted)\n",
    "    print ('Number of fiber-collision: N_cp=', np.sum(cmass_zcut['WEIGHT_CP'] == 2))\n",
    "\n",
    "    # Number of galaxies with redshift failure \n",
    "    print ('Number of redshift failure: N_nz=', np.sum(cmass_zcut['WEIGHT_NOZ'] != 1))\n",
    "    #print ('N_source + fiber-collision =', cmass_zcut.size + np.sum(cmass_zcut['WEIGHT_CP'] == 2))\n",
    "\n",
    "    # Number of sources that I believe in photoemtric sample for training \n",
    "    # photometric sample has everything \n",
    "    print ('Number of photometric sources : N_photo =', np.sum( (cmass_zcut['WEIGHT_CP'] + cmass_zcut['WEIGHT_NOZ'] - 1)))\n",
    "\n",
    "    # the number of galaxies weighted by systematics weight + fiber collision double counting + redshift failure correction\n",
    "    Neff = np.sum( cmass_zcut['WEIGHT_SYSTOT']  * (cmass_zcut['WEIGHT_CP'] + cmass_zcut['WEIGHT_NOZ'] - 1))\n",
    "    print ('N_effective =', Neff)\n",
    "    return Neff\n",
    "    "
   ]
  },
  {
   "cell_type": "markdown",
   "id": "a8aa2191-3ee0-40db-b54d-81d4c017d7d5",
   "metadata": {},
   "source": [
    "Areas obtained from the same paper, table 2. "
   ]
  },
  {
   "cell_type": "markdown",
   "id": "b4dd1407-445b-46d4-aacb-ed3bb0c848ec",
   "metadata": {},
   "source": [
    "## SGC"
   ]
  },
  {
   "cell_type": "code",
   "execution_count": 154,
   "id": "3bc980fe-d50b-4b16-9a1a-a62d659870d2",
   "metadata": {
    "tags": []
   },
   "outputs": [
    {
     "name": "stdout",
     "output_type": "stream",
     "text": [
      "Number of spectroscopic sample\n",
      "\n",
      "Number of source: N_source= 230831\n",
      "Number of fiber-collision: N_cp= 8475\n",
      "Number of redshift failure: N_nz= 4760\n",
      "Number of photometric sources : N_photo = 246794.53\n",
      "N_effective = 249701.58\n",
      "\n",
      "number density with effective area : 98.89171410891089\n",
      "number density with used area : 97.53967895507813\n",
      "number density with total area : 88.4525604410202\n"
     ]
    }
   ],
   "source": [
    "Neff = comp_various_numbers( cmass_sgc )\n",
    "# number density with Area from literature\n",
    "Aeff = 2525\n",
    "Aused = 2560\n",
    "Atotal = 2823\n",
    "print ('\\nnumber density with effective area :' , Neff/Aeff)\n",
    "print ('number density with used area :' , Neff/Aused)\n",
    "print ('number density with total area :' , Neff/Atotal)"
   ]
  },
  {
   "cell_type": "markdown",
   "id": "72aed38b-5684-4ef7-ba5c-66f1e22a6773",
   "metadata": {
    "tags": []
   },
   "source": [
    "## NGC"
   ]
  },
  {
   "cell_type": "code",
   "execution_count": 131,
   "id": "451f3637-b0b5-4330-80a1-161e990c183e",
   "metadata": {
    "tags": []
   },
   "outputs": [
    {
     "name": "stdout",
     "output_type": "stream",
     "text": [
      "Number of spectroscopic sample\n",
      "\n",
      "Number of source: N_source= 618806\n",
      "Number of fiber-collision: N_cp= 26856\n",
      "Number of redshift failure: N_nz= 9608\n",
      "Number of photometric sources : N_photo = 662470.4\n",
      "N_effective = 658792.5\n",
      "\n",
      "number density with effective area : 96.16004962779157\n",
      "number density with used area : 95.00901355638881\n",
      "number density with total area : 88.67848970251717\n"
     ]
    }
   ],
   "source": [
    "Neff = comp_various_numbers( cmass_ngc )\n",
    "# number density with Area from literature\n",
    "Aeff = 6851\n",
    "Aused = 6934\n",
    "Atotal = 7429\n",
    "print ('\\nnumber density with effective area :' , Neff/Aeff)\n",
    "print ('number density with used area :' , Neff/Aused)\n",
    "print ('number density with total area :' , Neff/Atotal)"
   ]
  }
 ],
 "metadata": {
  "kernelspec": {
   "display_name": "cosmosis-3-env",
   "language": "python",
   "name": "cosmosis-3-env"
  },
  "language_info": {
   "codemirror_mode": {
    "name": "ipython",
    "version": 3
   },
   "file_extension": ".py",
   "mimetype": "text/x-python",
   "name": "python",
   "nbconvert_exporter": "python",
   "pygments_lexer": "ipython3",
   "version": "3.11.4"
  }
 },
 "nbformat": 4,
 "nbformat_minor": 5
}
