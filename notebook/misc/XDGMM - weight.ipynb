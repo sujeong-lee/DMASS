{
 "cells": [
  {
   "cell_type": "markdown",
   "metadata": {},
   "source": []
  },
  {
   "cell_type": "code",
   "execution_count": null,
   "metadata": {},
   "outputs": [],
   "source": []
  },
  {
   "cell_type": "code",
   "execution_count": 1,
   "metadata": {},
   "outputs": [],
   "source": [
    "import sys\n",
    "sys.path.append('./../')\n",
    "from xd import *\n",
    "from utils import *\n",
    "import esutil\n",
    "import healpy as hp\n",
    "from systematics import *\n",
    "%matplotlib inline\n",
    "\n",
    "%load_ext autoreload\n",
    "%autoreload 2"
   ]
  },
  {
   "cell_type": "code",
   "execution_count": 2,
   "metadata": {},
   "outputs": [],
   "source": [
    "import esutil\n",
    "import healpy as hp\n",
    "from systematics import *\n",
    "\n",
    "import yaml\n",
    "import argparse"
   ]
  },
  {
   "cell_type": "code",
   "execution_count": 3,
   "metadata": {},
   "outputs": [],
   "source": [
    "from systematics_module.corr import *"
   ]
  },
  {
   "cell_type": "code",
   "execution_count": 4,
   "metadata": {},
   "outputs": [],
   "source": [
    "def priorCut_test(data):\n",
    "    print 'CHECK input catalog has only galaxies'\n",
    "    ## Should add MODEST_CLASS cut later.\n",
    "    modelmag_g_des = data['MAG_DETMODEL_G']\n",
    "    modelmag_r_des = data['MAG_DETMODEL_R']\n",
    "    modelmag_i_des = data['MAG_DETMODEL_I']\n",
    "    cmodelmag_g_des = data['MAG_MODEL_G']\n",
    "    cmodelmag_r_des = data['MAG_MODEL_R']\n",
    "    cmodelmag_i_des = data['MAG_MODEL_I']\n",
    "    magauto_des = data['MAG_AUTO_I']\n",
    "\n",
    "    cut = (((cmodelmag_r_des > 17) & (cmodelmag_r_des <24)) &\n",
    "           ((cmodelmag_i_des > 17) & (cmodelmag_i_des <24)) &\n",
    "           ((cmodelmag_g_des > 17) & (cmodelmag_g_des <24)) &\n",
    "           ((modelmag_r_des - modelmag_i_des ) < 1.5 ) & # 10122 (95%)\n",
    "           ((modelmag_r_des - modelmag_i_des ) > 0. ) & # 10120 (95%)\n",
    "           ((modelmag_g_des - modelmag_r_des ) > 0. ) & # 10118 (95%)\n",
    "           ((modelmag_g_des - modelmag_r_des ) < 2.5 ) & # 10122 (95%)\n",
    "           (magauto_des < 21. ) #&  10124 (95%)\n",
    "        )\n",
    "    return cut"
   ]
  },
  {
   "cell_type": "code",
   "execution_count": 5,
   "metadata": {},
   "outputs": [],
   "source": [
    "def prepare_cmass_sample(params):\n",
    "\n",
    "    cmass = io.getSGCCMASSphotoObjcat()\n",
    "    print 'num of cmass in sgc region', cmass.size\n",
    "    print '\\n--------------------------------\\n applying DES veto mask to CMASS\\n--------------------------------'\n",
    "    cmass = Cuts.keepGoodRegion(cmass)\n",
    "    print 'num of cmass after des veto', cmass.size\n",
    "\n",
    "    return cmass"
   ]
  },
  {
   "cell_type": "code",
   "execution_count": 6,
   "metadata": {},
   "outputs": [],
   "source": [
    "def train_st82(params, param_file):\n",
    "\n",
    "    # calling params\n",
    "    output_dir = params['output_dir']\n",
    "    #cmass_fraction = params['cmass_fraction']\n",
    "    train_sample_filename = params['train_sample']\n",
    "    cmass_pickle = output_dir + params['cmass_pickle']\n",
    "    no_pickle = output_dir + params['no_pickle']\n",
    "    #out_catname = params['out_catname']\n",
    "    #out_resampled_cat = params['out_resampled_cat']\n",
    "    #input_path = params['input_cat_dir']\n",
    "    #input_keyword = params['input_cat_keyword']\n",
    "\n",
    "\n",
    "    # calling map --------------------\n",
    "    GoldMask = callingEliGoldMask()\n",
    "    GoldMask_st82 = GoldMask[ GoldMask['DEC'] > -3.0 ]\n",
    "    GoldMask_spt = GoldMask[ GoldMask['DEC'] < -3.0 ]\n",
    "\n",
    "    pixarea = hp.nside2pixarea( 4096, degrees = True)\n",
    "    sptnpix = GoldMask_spt['PIXEL'].size #hp.get_map_size( GoldMask_spt['PIXEL'] )\n",
    "    st82npix =  GoldMask_st82['PIXEL'].size # hp.get_map_size( GoldMask_st82 )\n",
    "    SPTMaparea = pixarea * sptnpix\n",
    "    ST82Maparea = pixarea * st82npix\n",
    "\n",
    "\n",
    "    # calling stripe82 gold catalogue -----------------------------\n",
    "    path = '/n/des/lee.5922/data/gold_cat/'\n",
    "    columns = ['FLAGS_GOLD', 'FLAGS_BADREGION', 'MAG_MODEL_G', 'MAG_MODEL_R', 'MAG_MODEL_I', 'MAG_MODEL_Z',\\\n",
    "               'MAG_DETMODEL_G', 'MAG_DETMODEL_R', 'MAG_DETMODEL_I', 'MAG_DETMODEL_Z', 'MAGERR_DETMODEL_G',\\\n",
    "               'MAGERR_DETMODEL_R', 'MAGERR_DETMODEL_I', 'MAGERR_DETMODEL_Z', 'MAGERR_MODEL_G', 'MAGERR_MODEL_R',\\\n",
    "               'MAGERR_MODEL_I', 'MAGERR_MODEL_Z', 'MAG_AUTO_G', 'MAG_AUTO_R', 'MAG_AUTO_I', 'MAG_AUTO_Z', 'RA',\\\n",
    "               'DEC', 'COADD_OBJECTS_ID', 'MODEST_CLASS', 'HPIX', 'DESDM_ZP']\n",
    "\n",
    "    gold_st82 = io.SearchAndCallFits(path = path, columns = columns, keyword = 'Y1A1_GOLD_STRIPE82_v2')\n",
    "    gold_st82 = gold_st82[gold_st82['MODEST_CLASS'] == 1]\n",
    "    gold_st82 = Cuts.keepGoodRegion(gold_st82)\n",
    "\n",
    "    # flags and color cut\n",
    "    mask_all = (gold_st82['FLAGS_GOLD'] == 0 )&(priorCut_test(gold_st82))\n",
    "    gold_st82 = gold_st82[mask_all]\n",
    "\n",
    "\n",
    "    # calling BOSS cmass and applying dmass goodregion mask ----------------------------\n",
    "    #cmass = io.getSGCCMASSphotoObjcat()\n",
    "    train_sample = esutil.io.read(train_sample_filename)\n",
    "    print 'total num of train', train_sample.size\n",
    "    print '\\n--------------------------------\\n applying DES veto mask to CMASS\\n--------------------------------'\n",
    "    train_sample = Cuts.keepGoodRegion(train_sample)\n",
    "    print 'num of train_sample after des veto', train_sample.size\n",
    "\n",
    "    print '\\n--------------------------------\\n matching catalogues\\n--------------------------------'\n",
    "\n",
    "    # find cmass in des_gold side --------------------\n",
    "    mg1, mg2, _ = esutil.htm.HTM(10).match(train_sample['RA'], train_sample['DEC'], gold_st82['RA'], \\\n",
    "                                         gold_st82['DEC'],2./3600, maxmatch=1)\n",
    "    cmass_mask = np.zeros(gold_st82.size, dtype=bool)\n",
    "    cmass_mask[mg2] = 1\n",
    "    clean_cmass_data_des, nocmass = gold_st82[cmass_mask], gold_st82[~cmass_mask]\n",
    "\n",
    "\n",
    "    print 'num of cmass in des side', clean_cmass_data_des.size, '({:0.0f}%)'.format(clean_cmass_data_des.size*1./train_sample.size * 100)\n",
    "    print 'num of non-cmass in des side ', nocmass.size\n",
    "\n",
    "    if params['random_sampling'] :\n",
    "        random_sampling_ind = np.random.choice(np.arange(nocmass.size), size = nocmass.size/10)\n",
    "        nocmass = nocmass[random_sampling_ind]\n",
    "        print 'num of randomly sampled non-cmass ', nocmass.size\n",
    "\n",
    "    cmass_fraction = clean_cmass_data_des.size *1./gold_st82.size\n",
    "    print 'cmass_fraction', cmass_fraction\n",
    "    f = open(output_dir+'cmassfrac', 'w')\n",
    "    f.write('{0:.10f}'.format(cmass_fraction))\n",
    "\n",
    "    gold_st82 = None  # initialize called catalogs to save memory\n",
    "    \n",
    "    #params['cmass_fraction'] = cmass_fraction\n",
    "    print '\\n--------------------------------\\n Extreme deconvolution fitting\\n--------------------------------'\n",
    "    # Fitting ----------------------------------------------\n",
    "\n",
    "    n_cmass, n_no = None, None\n",
    "    if 'n_cmass' in params : n_cmass = params['n_cmass']\n",
    "    if 'n_no' in params : n_no = params['n_no']\n",
    "    clf_cmass = XD_fitting( data = clean_cmass_data_des, pickleFileName = cmass_pickle, n_cl = n_cmass )\n",
    "    clf_no = XD_fitting( data = nocmass, pickleFileName = no_pickle , n_cl = n_no)\n",
    "\n",
    "\n",
    "    print '\\n--------------------------\\n Fitting End\\n---------------------------'"
   ]
  },
  {
   "cell_type": "code",
   "execution_count": 7,
   "metadata": {},
   "outputs": [
    {
     "data": {
      "text/plain": [
       "u'/n/des/lee.5922/Dropbox/repositories/CMASS/code/notebook'"
      ]
     },
     "execution_count": 7,
     "metadata": {},
     "output_type": "execute_result"
    }
   ],
   "source": [
    "pwd"
   ]
  },
  {
   "cell_type": "code",
   "execution_count": 8,
   "metadata": {},
   "outputs": [],
   "source": [
    "param_file = '../yaml/config_xd_bovy.yaml'\n",
    "params = yaml.load(open(param_file))\n",
    "output_dir = params['output_dir']"
   ]
  },
  {
   "cell_type": "code",
   "execution_count": 9,
   "metadata": {},
   "outputs": [
    {
     "name": "stdout",
     "output_type": "stream",
     "text": [
      "\n",
      "--------------------------------\n",
      " calling catalog\n",
      "--------------------------------\n",
      "Y1A1_GOLD_STRIPE82_v2_000001.fits\n",
      "Y1A1_GOLD_STRIPE82_v2_000002.fits\n",
      "Y1A1_GOLD_STRIPE82_v2_000003.fits\n",
      "Y1A1_GOLD_STRIPE82_v2_000004.fits\n",
      "Y1A1_GOLD_STRIPE82_v2_000005.fits\n",
      "Y1A1_GOLD_STRIPE82_v2_000006.fits\n",
      "Y1A1_GOLD_STRIPE82_v2_000007.fits\n",
      "Y1A1_GOLD_STRIPE82_v2_000008.fits\n",
      "reading 1/8 /n/des/lee.5922/data/gold_cat/Y1A1_GOLD_STRIPE82_v2_000001.fits\n",
      "reading 2/8 /n/des/lee.5922/data/gold_cat/Y1A1_GOLD_STRIPE82_v2_000002.fits\n",
      "reading 3/8 /n/des/lee.5922/data/gold_cat/Y1A1_GOLD_STRIPE82_v2_000003.fits\n",
      "reading 4/8 /n/des/lee.5922/data/gold_cat/Y1A1_GOLD_STRIPE82_v2_000004.fits\n",
      "reading 5/8 /n/des/lee.5922/data/gold_cat/Y1A1_GOLD_STRIPE82_v2_000005.fits\n",
      "reading 6/8 /n/des/lee.5922/data/gold_cat/Y1A1_GOLD_STRIPE82_v2_000006.fits\n",
      "reading 7/8 /n/des/lee.5922/data/gold_cat/Y1A1_GOLD_STRIPE82_v2_000007.fits\n",
      "reading 8/8 /n/des/lee.5922/data/gold_cat/Y1A1_GOLD_STRIPE82_v2_000008.fits\n",
      "CHECK input catalog has only galaxies\n"
     ]
    }
   ],
   "source": [
    "# calling params\n",
    "output_dir = params['output_dir']\n",
    "#cmass_fraction = params['cmass_fraction']\n",
    "train_sample_filename = params['train_sample']\n",
    "cmass_pickle = output_dir + params['cmass_pickle']\n",
    "no_pickle = output_dir + params['no_pickle']\n",
    "#out_catname = params['out_catname']\n",
    "#out_resampled_cat = params['out_resampled_cat']\n",
    "#input_path = params['input_cat_dir']\n",
    "#input_keyword = params['input_cat_keyword']\n",
    "\n",
    "\n",
    "# calling map --------------------\n",
    "GoldMask = callingEliGoldMask()\n",
    "GoldMask_st82 = GoldMask[ GoldMask['DEC'] > -3.0 ]\n",
    "GoldMask_spt = GoldMask[ GoldMask['DEC'] < -3.0 ]\n",
    "\n",
    "pixarea = hp.nside2pixarea( 4096, degrees = True)\n",
    "sptnpix = GoldMask_spt['PIXEL'].size #hp.get_map_size( GoldMask_spt['PIXEL'] )\n",
    "st82npix =  GoldMask_st82['PIXEL'].size # hp.get_map_size( GoldMask_st82 )\n",
    "SPTMaparea = pixarea * sptnpix\n",
    "ST82Maparea = pixarea * st82npix\n",
    "\n",
    "\n",
    "# calling stripe82 gold catalogue -----------------------------\n",
    "path = '/n/des/lee.5922/data/gold_cat/'\n",
    "columns = ['FLAGS_GOLD', 'FLAGS_BADREGION', 'MAG_MODEL_G', 'MAG_MODEL_R', 'MAG_MODEL_I', 'MAG_MODEL_Z',\\\n",
    "           'MAG_DETMODEL_G', 'MAG_DETMODEL_R', 'MAG_DETMODEL_I', 'MAG_DETMODEL_Z', 'MAGERR_DETMODEL_G',\\\n",
    "           'MAGERR_DETMODEL_R', 'MAGERR_DETMODEL_I', 'MAGERR_DETMODEL_Z', 'MAGERR_MODEL_G', 'MAGERR_MODEL_R',\\\n",
    "           'MAGERR_MODEL_I', 'MAGERR_MODEL_Z', 'MAG_AUTO_G', 'MAG_AUTO_R', 'MAG_AUTO_I', 'MAG_AUTO_Z', 'RA',\\\n",
    "           'DEC', 'COADD_OBJECTS_ID', 'MODEST_CLASS', 'HPIX', 'DESDM_ZP']\n",
    "\n",
    "gold_st82 = io.SearchAndCallFits(path = path, columns = columns, keyword = 'Y1A1_GOLD_STRIPE82_v2')\n",
    "gold_st82 = gold_st82[gold_st82['MODEST_CLASS'] == 1]\n",
    "gold_st82 = Cuts.keepGoodRegion(gold_st82)\n",
    "\n",
    "# flags and color cut\n",
    "mask_all = (gold_st82['FLAGS_GOLD'] == 0 )&(priorCut_test(gold_st82))\n",
    "gold_st82 = gold_st82[mask_all]"
   ]
  },
  {
   "cell_type": "code",
   "execution_count": 10,
   "metadata": {},
   "outputs": [
    {
     "name": "stdout",
     "output_type": "stream",
     "text": [
      "total num of train 230831\n",
      "\n",
      "--------------------------------\n",
      " applying DES veto mask to CMASS\n",
      "--------------------------------\n",
      "num of train_sample after des veto 11908\n",
      "\n",
      "--------------------------------\n",
      " matching catalogues\n",
      "--------------------------------\n"
     ]
    }
   ],
   "source": [
    "\n",
    "# calling BOSS cmass and applying dmass goodregion mask ----------------------------\n",
    "#cmass = io.getSGCCMASSphotoObjcat()\n",
    "train_sample = esutil.io.read(train_sample_filename)\n",
    "print 'total num of train', train_sample.size\n",
    "print '\\n--------------------------------\\n applying DES veto mask to CMASS\\n--------------------------------'\n",
    "train_sample = Cuts.keepGoodRegion(train_sample)\n",
    "print 'num of train_sample after des veto', train_sample.size\n",
    "\n",
    "print '\\n--------------------------------\\n matching catalogues\\n--------------------------------'\n",
    "\n",
    "# find cmass in des_gold side --------------------\n",
    "mg1, mg2, _ = esutil.htm.HTM(10).match(train_sample['RA'], train_sample['DEC'], gold_st82['RA'], \\\n",
    "                                     gold_st82['DEC'],2./3600, maxmatch=1)\n",
    "\n",
    "train_sample = train_sample[mg1]\n",
    "clean_cmass_data_des = gold_st82[mg2]\n",
    "\n",
    "cmass_mask = np.zeros(gold_st82.size, dtype=bool)\n",
    "cmass_mask[mg2] = 1\n",
    "no_cmass = gold_st82[~cmass_mask]\n",
    "#clean_cmass_data_des, nocmass = gold_st82[cmass_mask], gold_st82[~cmass_mask]\n"
   ]
  },
  {
   "cell_type": "code",
   "execution_count": 69,
   "metadata": {},
   "outputs": [],
   "source": [
    "w_sgc = train_sample['WEIGHT_SYSTOT']*( train_sample['WEIGHT_CP'] + train_sample['WEIGHT_NOZ'] - 1. )\n",
    "clean_cmass_data_des['CMASS_WEIGHT'] = w_sgc\n",
    "#clean_cmass_data_des = appendColumn(clean_cmass_data_des, name = 'CMASS_WEIGHT', value = w_sgc)"
   ]
  },
  {
   "cell_type": "code",
   "execution_count": 12,
   "metadata": {},
   "outputs": [
    {
     "name": "stdout",
     "output_type": "stream",
     "text": [
      "num of randomly sampled non-cmass  69673\n",
      "cmass_fraction 0.0165126166668\n",
      "\n",
      "--------------------------------\n",
      " Extreme deconvolution fitting\n",
      "--------------------------------\n"
     ]
    }
   ],
   "source": [
    "if params['random_sampling'] :\n",
    "    random_sampling_ind = np.random.choice(np.arange(no_cmass.size), size = no_cmass.size/10)\n",
    "    no_cmass = no_cmass[random_sampling_ind]\n",
    "    print 'num of randomly sampled non-cmass ', no_cmass.size\n",
    "\n",
    "cmass_fraction = clean_cmass_data_des.size *1./gold_st82.size\n",
    "print 'cmass_fraction', cmass_fraction\n",
    "f = open(output_dir+'cmassfrac', 'w')\n",
    "f.write('{0:.10f}'.format(cmass_fraction))\n",
    "\n",
    "gold_st82 = None  # initialize called catalogs to save memory\n",
    "\n",
    "#params['cmass_fraction'] = cmass_fraction\n",
    "print '\\n--------------------------------\\n Extreme deconvolution fitting\\n--------------------------------'\n",
    "# Fitting ----------------------------------------------"
   ]
  },
  {
   "cell_type": "code",
   "execution_count": 18,
   "metadata": {},
   "outputs": [],
   "source": []
  },
  {
   "cell_type": "code",
   "execution_count": 65,
   "metadata": {},
   "outputs": [],
   "source": [
    "def extreme_fitting( cat, n_comp = 20, xmean=None, xamp=None, xcovar=None, pickle_name = '../output/test/pickle.pkl', log='../xd_log/log', weight=None ):\n",
    "    from extreme_deconvolution import extreme_deconvolution\n",
    "    from xd import XDGMM\n",
    "    import pickle\n",
    "    \n",
    "    ydata, ycovar = mixing_color(cat)\n",
    "    if weight is True : weight = cat['CMASS_WEIGHT']\n",
    "\n",
    "    if xmean is None : \n",
    "        from sklearn.mixture import GMM\n",
    "        print 'initial guess'\n",
    "        gmm = GMM(n_comp, n_iter= 10, covariance_type='full',\n",
    "                          random_state=1).fit(ydata)\n",
    "        xmean = gmm.means_\n",
    "        xamp = gmm.weights_\n",
    "        xcovar = gmm.covars_\n",
    "\n",
    "        #return xmean, xamp, xcovar\n",
    "\n",
    "    print 'fitting started'\n",
    "    \n",
    "    l = extreme_deconvolution(ydata, ycovar, xamp, xmean, xcovar, projection=None, weight=weight, \\\n",
    "                          fixamp=None, fixmean=None, fixcovar=None, tol=1e-10, maxiter=1000000, \\\n",
    "                          w=0.0, logfile=log, splitnmerge=0, maxsnm=False, likeonly=False, logweight=False)\n",
    " \n",
    "    \n",
    "    data = XDGMM(n_comp, tol= 1e-6)\n",
    "    data.V = xcovar\n",
    "    data.mu = xmean\n",
    "    data.alpha = xamp\n",
    "    \n",
    "    clf = {'retval' : data }\n",
    "    output = open( pickle_name, 'wb')\n",
    "    pickle.dump( clf, output )\n",
    "    print 'pickle saved ', pickle_name\n",
    "    \n",
    "    #return clf"
   ]
  },
  {
   "cell_type": "code",
   "execution_count": null,
   "metadata": {},
   "outputs": [],
   "source": [
    "def loadpickle(filename)\n",
    "    import pickle\n",
    "    f = open(filename)\n",
    "    pickle = pickle.load(f)\n",
    "    clf = pickle['retval']\n",
    "    xamp = clf.alpha\n",
    "    xmean = clf.mu\n",
    "    xcovar = clf.V\n",
    "    ncomp = clf.n_components\n",
    "    return ncomp, xamp, xmean, xcovar"
   ]
  },
  {
   "cell_type": "code",
   "execution_count": 17,
   "metadata": {},
   "outputs": [],
   "source": [
    "xmean, xamp, xcovar = extreme_fitting(no_cmass, n_comp = ncomp, \\\n",
    "                                      xamp=xamp, xmean=xmean, xcovar=xcovar, \\\n",
    "                                      log='../xd_log/no_cmass')"
   ]
  },
  {
   "cell_type": "code",
   "execution_count": 70,
   "metadata": {},
   "outputs": [
    {
     "name": "stdout",
     "output_type": "stream",
     "text": [
      "fitting started\n",
      "pickle saved  ../output/test/gold_st82_XD_cmass_sys_cp_nz_weight.pkl\n"
     ]
    }
   ],
   "source": [
    "import pickle\n",
    "f = open('../output/n2/gold_st82_XD_cmass.pkl')\n",
    "pickle = pickle.load(f)\n",
    "clf = pickle['retval']\n",
    "xamp = clf.alpha\n",
    "xmean = clf.mu\n",
    "xcovar = clf.V\n",
    "ncomp = clf.n_components\n",
    "\n",
    "extreme_fitting(clean_cmass_data_des, n_comp = ncomp, weight=True,\\\n",
    "              xamp=xamp, xmean=xmean, xcovar=xcovar, \\\n",
    "              log='../xd_log/cmass', pickle_name='../output/test/gold_st82_XD_cmass_sys_cp_nz_weight.pkl')"
   ]
  },
  {
   "cell_type": "code",
   "execution_count": 62,
   "metadata": {},
   "outputs": [],
   "source": [
    "clf_cmass = XD_fitting(None, pickleFileName='../output/test/pickle.pkl')"
   ]
  },
  {
   "cell_type": "code",
   "execution_count": null,
   "metadata": {},
   "outputs": [],
   "source": []
  }
 ],
 "metadata": {
  "kernelspec": {
   "display_name": "Python 2",
   "language": "python",
   "name": "python2"
  },
  "language_info": {
   "codemirror_mode": {
    "name": "ipython",
    "version": 2
   },
   "file_extension": ".py",
   "mimetype": "text/x-python",
   "name": "python",
   "nbconvert_exporter": "python",
   "pygments_lexer": "ipython2",
   "version": "2.7.14"
  }
 },
 "nbformat": 4,
 "nbformat_minor": 1
}
