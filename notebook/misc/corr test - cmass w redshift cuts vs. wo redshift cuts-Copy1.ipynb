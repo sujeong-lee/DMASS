{
 "cells": [
  {
   "cell_type": "markdown",
   "metadata": {},
   "source": []
  },
  {
   "cell_type": "code",
   "execution_count": 2,
   "metadata": {},
   "outputs": [],
   "source": [
    "from xd import *\n",
    "from utils import *\n",
    "import esutil\n",
    "import healpy as hp\n",
    "from systematics import *\n",
    "from matplotlib.backends.backend_pdf import PdfPages\n",
    "%matplotlib inline\n",
    "\n",
    "%load_ext autoreload\n",
    "%autoreload 2"
   ]
  },
  {
   "cell_type": "code",
   "execution_count": 2,
   "metadata": {
    "collapsed": true
   },
   "outputs": [],
   "source": [
    "def plot_z_distribution( cats = None, labels = None, zlabel = 'Z', suffix = 'test' ):\n",
    "    \n",
    "    import matplotlib.pyplot as plt\n",
    "    z_bin, s = np.linspace(1e-5, 1.0, 200, retstep=True)\n",
    "    z_center = z_bin[:-1]+s/2.\n",
    "    \n",
    "    fig, axes = plt.subplots( 1, 1, figsize = (8,5))\n",
    "    N, _= np.histogram(cats[zlabel], bins = z_bin)\n",
    "    \n",
    "    #n = N/ST82Maparea\n",
    "\n",
    "    axes.bar(z_center, N, s, color='b' )\n",
    "    axes.set_xlabel('photo_z')\n",
    "    axes.set_ylabel('n(z)')\n",
    "    #ax.set_yscale('log')\n",
    "    axes.legend(loc='best')\n",
    "\n",
    "    axes.set_title('\\nredshift histogram')\n",
    "    figname ='figure/hist_z_'+suffix+'.png'\n",
    "    fig.savefig(figname)\n",
    "    print 'saving fig to ',figname\n",
    "    \n",
    "    #DAT = np.column_stack((z_center, n))\n",
    "    #filename = 'data_txt/z_distribution_'+suffix+'.txt'\n",
    "    #np.savetxt(filename, DAT, header = 'z, n(z)')\n",
    "    #print 'saving data to ',filename"
   ]
  },
  {
   "cell_type": "code",
   "execution_count": 3,
   "metadata": {},
   "outputs": [
    {
     "data": {
      "text/plain": [
       "\"\\n# calling map \\nGoldMask = callingEliGoldMask()\\nGoldMask_st82 = Cuts.SpatialCuts(GoldMask, ra=320, ra2=360, dec=-2, dec2=2)\\nGoldMask_spt = GoldMask[ GoldMask['DEC'] < -3.0 ]\\n\\npixarea = hp.nside2pixarea( 4096, degrees = True)\\nsptnpix = GoldMask_spt['PIXEL'].size #hp.get_map_size( GoldMask_spt['PIXEL'] )\\nst82npix =  GoldMask_st82['PIXEL'].size # hp.get_map_size( GoldMask_st82 )\\nSPTMaparea = pixarea * sptnpix\\nST82Maparea = pixarea * st82npix\\n\""
      ]
     },
     "execution_count": 3,
     "metadata": {},
     "output_type": "execute_result"
    }
   ],
   "source": [
    "\"\"\"\n",
    "# calling map \n",
    "GoldMask = callingEliGoldMask()\n",
    "GoldMask_st82 = Cuts.SpatialCuts(GoldMask, ra=320, ra2=360, dec=-2, dec2=2)\n",
    "GoldMask_spt = GoldMask[ GoldMask['DEC'] < -3.0 ]\n",
    "\n",
    "pixarea = hp.nside2pixarea( 4096, degrees = True)\n",
    "sptnpix = GoldMask_spt['PIXEL'].size #hp.get_map_size( GoldMask_spt['PIXEL'] )\n",
    "st82npix =  GoldMask_st82['PIXEL'].size # hp.get_map_size( GoldMask_st82 )\n",
    "SPTMaparea = pixarea * sptnpix\n",
    "ST82Maparea = pixarea * st82npix\n",
    "\"\"\""
   ]
  },
  {
   "cell_type": "code",
   "execution_count": 9,
   "metadata": {},
   "outputs": [],
   "source": [
    "# sgc data\n",
    "import esutil\n",
    "import numpy as np\n",
    "\n",
    "path = '/n/des/lee.5922/data/cmass_cat/'\n",
    "\n",
    "cmass_sgc = esutil.io.read(path+'galaxy_DR12v5_CMASS_South.fits.gz')\n",
    "#cmass_sgc_zcut = cmass_sgc[(cmass_sgc['Z'] > 0.43) & (cmass_sgc['Z'] < 0.7)]\n",
    "random_sgc = esutil.io.read(path+'random0_DR12v5_CMASS_South.fits.gz')\n",
    "#random_sgc_zcut = random_sgc[(random_sgc['Z'] > 0.43) & (random_sgc['Z'] < 0.7)]"
   ]
  },
  {
   "cell_type": "code",
   "execution_count": 12,
   "metadata": {},
   "outputs": [
    {
     "name": "stdout",
     "output_type": "stream",
     "text": [
      "Spatial Cut  128183\n",
      "Spatial Cut  6350534\n"
     ]
    }
   ],
   "source": [
    "cmass_sgc = Cuts.SpatialCuts(cmass_sgc, ra=0, ra2=50, dec=-180, dec2=180)\n",
    "random_sgc = Cuts.SpatialCuts(random_sgc, ra=0, ra2=50, dec=-180, dec2=180)"
   ]
  },
  {
   "cell_type": "code",
   "execution_count": 13,
   "metadata": {},
   "outputs": [
    {
     "name": "stdout",
     "output_type": "stream",
     "text": [
      "Calculate comoving distance with FlatLambdaCDM cosmology \n",
      "H0=70, Om0=0.3\n"
     ]
    }
   ],
   "source": [
    "from astropy.cosmology import FlatLambdaCDM\n",
    "cosmo = FlatLambdaCDM(H0=70, Om0=0.3)\n",
    "print 'Calculate comoving distance with FlatLambdaCDM cosmology \\nH0=70, Om0=0.3'\n",
    "sys.stdout.flush()\n",
    "\n",
    "h = 0.7\n",
    "r = cosmo.comoving_distance(cmass_sgc['Z']).value *h\n",
    "r_rand = cosmo.comoving_distance(random_sgc['Z']).value *h"
   ]
  },
  {
   "cell_type": "code",
   "execution_count": 14,
   "metadata": {},
   "outputs": [
    {
     "name": "stdout",
     "output_type": "stream",
     "text": [
      "Adding Comoving distance column\n"
     ]
    }
   ],
   "source": [
    "#import numpy.lib.recfuctions as rf\n",
    "from numpy.lib import recfunctions as rf\n",
    "print 'Adding Comoving distance column'\n",
    "sys.stdout.flush()\n",
    "cmass_sgc = rf.append_fields( cmass_sgc, 'DC', data = r )\n",
    "random_sgc = rf.append_fields( random_sgc, 'DC', data = r_rand )"
   ]
  },
  {
   "cell_type": "code",
   "execution_count": 15,
   "metadata": {
    "collapsed": true
   },
   "outputs": [],
   "source": [
    "cmass_sgc_zcut = cmass_sgc[(cmass_sgc['Z'] > 0.43) & (cmass_sgc['Z'] < 0.7)]\n",
    "random_sgc_zcut = random_sgc[(random_sgc['Z'] > 0.43) & (random_sgc['Z'] < 0.7)]"
   ]
  },
  {
   "cell_type": "code",
   "execution_count": null,
   "metadata": {
    "collapsed": true
   },
   "outputs": [
    {
     "name": "stdout",
     "output_type": "stream",
     "text": [
      "calculate 3d correlation function\n",
      "JK sampling\n",
      "X (716, 2)  centers (30, 2)  tol=1e-05  maxiter=200\n",
      "17 iterations  cluster sizes: [10 20 22 15 25 21 38 22 10 23 19 32 22 23 38 31 29 22 24 16 14 27 22 24 25\n",
      " 23 29 21 40 29]\n",
      "X (128183, 2)  centers (30, 2)  tol=1e-05  maxiter=200\n",
      "72 iterations  cluster sizes: [2761 3917 4058 5046 5124 4378 5643 4127 3191 4407 4301 6109 5077 4803 5219\n",
      " 4254 5118 4434 3787 3952 2995 3684 3244 3561 4374 3080 4614 3489 4967 4469]\n",
      "cfz running\n"
     ]
    }
   ],
   "source": [
    "#tree corr\n",
    "from systematics_module.corr import correlation_function_3d\n",
    "\n",
    "correlation_function_3d(data = cmass_sgc, rand = random_sgc, zlabel='Z', weight = None, njack = 30, suffix = 'cmass_sgc', out = None)\n",
    "#correlation_function_3d(data = cmass_sgc_zcut, rand = rand_sgc_zcut, zlabel='Z', weight = None, njack = 30, suffix = 'cmass_sgc_zcut', out = None)\n",
    "#w_sgc = cmass_sgc['WEIGHT_SYSTOT']*( cmass_sgc['WEIGHT_CP'] + cmass_sgc['WEIGHT_NOZ'] - 1. )\n",
    "#w_rand = random_sgc['WEIGHT_FKP']\n",
    "#data = angular_correlation(data = cmass_sgc, rand = random_sgc, njack = 30, weight = [w_sgc, w_rand], suffix = '_cmass_sgc_noz', out = None)"
   ]
  },
  {
   "cell_type": "code",
   "execution_count": null,
   "metadata": {
    "collapsed": true
   },
   "outputs": [],
   "source": [
    "correlation_function_3d(data = cmass_sgc_zcut, rand = rand_sgc_zcut, zlabel='Z', weight = None, njack = 30, \n",
    "                        suffix = 'cmass_sgc_zcut', out = None)"
   ]
  },
  {
   "cell_type": "code",
   "execution_count": 20,
   "metadata": {},
   "outputs": [
    {
     "data": {
      "text/plain": [
       "array([ 37.28339472,  40.49978408,  40.56560521, ...,  41.174744  ,\n",
       "        43.00712504,  44.35834428])"
      ]
     },
     "execution_count": 20,
     "metadata": {},
     "output_type": "execute_result"
    }
   ],
   "source": [
    "cmass_sgc['RA'].data"
   ]
  },
  {
   "cell_type": "code",
   "execution_count": null,
   "metadata": {
    "collapsed": true
   },
   "outputs": [
    {
     "name": "stderr",
     "output_type": "stream",
     "text": [
      "nbins = 30, min,max sep = 30..200, bin_size = 0.0632373\n",
      "INFO:treecorr:nbins = 30, min,max sep = 30..200, bin_size = 0.0632373\n",
      "nbins = 30, min,max sep = 30..200, bin_size = 0.0632373\n",
      "INFO:treecorr:nbins = 30, min,max sep = 30..200, bin_size = 0.0632373\n",
      "nbins = 30, min,max sep = 30..200, bin_size = 0.0632373\n",
      "INFO:treecorr:nbins = 30, min,max sep = 30..200, bin_size = 0.0632373\n",
      "Starting process NN auto-correlations\n",
      "INFO:treecorr:Starting process NN auto-correlations\n",
      "Using 32 threads.\n",
      "INFO:treecorr:Using 32 threads.\n",
      "Building NField\n",
      "INFO:treecorr:Building NField\n",
      "Starting 330 jobs.\n",
      "INFO:treecorr:Starting 330 jobs.\n",
      "Starting process NN cross-correlations\n",
      "INFO:treecorr:Starting process NN cross-correlations\n",
      "Using 32 threads.\n",
      "INFO:treecorr:Using 32 threads.\n",
      "Building NField\n",
      "INFO:treecorr:Building NField\n",
      "Starting 330 jobs.\n",
      "INFO:treecorr:Starting 330 jobs.\n",
      "Starting process NN auto-correlations\n",
      "INFO:treecorr:Starting process NN auto-correlations\n",
      "Using 32 threads.\n",
      "INFO:treecorr:Using 32 threads.\n",
      "Starting 329 jobs.\n",
      "INFO:treecorr:Starting 329 jobs.\n"
     ]
    }
   ],
   "source": [
    "\n",
    "import treecorr\n",
    "\n",
    "cat = treecorr.Catalog(ra=cmass_sgc['RA'].data, dec=cmass_sgc['DEC'].data, r=cmass_sgc['DC'].data,  w = None, ra_units='deg', dec_units='deg')\n",
    "cat_rand = treecorr.Catalog(ra=random_sgc['RA'].data, dec=random_sgc['DEC'].data, r=random_sgc['DC'].data, is_rand=True, w = None, ra_units='deg', dec_units='deg')\n",
    "\n",
    "nbins = 30\n",
    "min_sep = 30\n",
    "max_sep = 200\n",
    "\n",
    "dd = treecorr.NNCorrelation(nbins = nbins, max_sep = max_sep, min_sep= min_sep, verbose=2)\n",
    "dr = treecorr.NNCorrelation(nbins = nbins, max_sep = max_sep, min_sep= min_sep, verbose=2)\n",
    "rr = treecorr.NNCorrelation(nbins = nbins, max_sep = max_sep, min_sep= min_sep, verbose=2)\n",
    "\n",
    "dd.process(cat, num_threads = 32)\n",
    "dr.process(cat,cat_rand, num_threads = 32)\n",
    "rr.process(cat_rand, num_threads= 32)\n",
    "\n",
    "xi, varxi = dd.calculateXi(rr,dr)\n"
   ]
  },
  {
   "cell_type": "code",
   "execution_count": 18,
   "metadata": {},
   "outputs": [
    {
     "data": {
      "image/png": "[encoded data removed]",
      "text/plain": [
       "<matplotlib.figure.Figure at 0x463f3750>"
      ]
     },
     "metadata": {},
     "output_type": "display_data"
    }
   ],
   "source": [
    "DAT = np.loadtxt('data_txt/cfz_comparison_cmass_sgc.txt')\n",
    "meanr, xi, xi_err = [DAT[:,i] for i in range(3)]\n",
    "DAT2 = np.loadtxt('data_txt/cfz_comparison_cmass_sgc_zcut.txt')\n",
    "meanr2, xi2, xi_err2 = [DAT2[:,i] for i in range(3)]\n",
    "\n",
    "fig, ax = plt.subplots(figsize = (10, 7))\n",
    "#ax.errorbar(dd.meanr, dd.meanr**2 * xi, yerr = varxi, fmt = '.r', label='cmass sgc')\n",
    "ax.errorbar(meanr, meanr**2 * xi, yerr = xi_err, fmt = '.r', label='cmass sgc')\n",
    "#ax.errorbar(meanr2*1.01, meanr2**2 * xi2, yerr = xi_err2, fmt = '.k', label='cmass sgc zcut')\n",
    "ax.set_xscale('linear')\n",
    "ax.set_yscale('linear')\n",
    "ax.legend(loc = 'best', fontsize = 20)\n",
    "#ax.set_ylim(1e-3,)\n",
    "ax.set_xlabel(r'$r$ $(Mpc/h)$', size=20)\n",
    "ax.set_ylabel(r'$r^2 \\xi(r)$', size=20)\n",
    "ax.set_xlim(30, 200)\n",
    "ax.tick_params(labelsize = 20)\n",
    "fig.savefig('figure/cfz_comparison.pdf')\n",
    "#fig.savefig('figure/acf_comparison.png')"
   ]
  },
  {
   "cell_type": "code",
   "execution_count": 110,
   "metadata": {},
   "outputs": [
    {
     "data": {
      "image/png": "[encoded data removed]",
      "text/plain": [
       "<matplotlib.figure.Figure at 0x291fb550>"
      ]
     },
     "metadata": {},
     "output_type": "display_data"
    }
   ],
   "source": [
    "#DAT = np.loadtxt('data_txt/acf_comparison_dmass_spt.txt')\n",
    "\n",
    "fig, ax = plt.subplots(figsize = (10, 7))\n",
    "ax.errorbar(dd.meanr, dd.meanr**2 * xi, yerr = varxi, fmt = '.r', label='cmass sgc')\n",
    "#ax.errorbar(dd.meanr,xi, yerr = varxi, fmt = '.r', label='cmass sgc')\n",
    "ax.set_xscale('linear')\n",
    "ax.set_yscale('linear')\n",
    "ax.legend(loc = 'best', fontsize = 20)\n",
    "#ax.set_ylim(1e-3,)\n",
    "ax.set_xlabel(r'$r$ $(Mpc/h)$', size=20)\n",
    "ax.set_ylabel(r'$r^2 \\xi(r)$', size=20)\n",
    "ax.set_xlim(40, 200)\n",
    "ax.tick_params(labelsize = 20)\n",
    "#fig.savefig('figure/acf_comparison.pdf')\n",
    "#fig.savefig('figure/acf_comparison.png')"
   ]
  },
  {
   "cell_type": "code",
   "execution_count": null,
   "metadata": {
    "collapsed": true
   },
   "outputs": [],
   "source": []
  },
  {
   "cell_type": "code",
   "execution_count": 14,
   "metadata": {},
   "outputs": [
    {
     "data": {
      "image/png": "[encoded data removed]",
      "text/plain": [
       "<matplotlib.figure.Figure at 0x545afdd0>"
      ]
     },
     "metadata": {},
     "output_type": "display_data"
    }
   ],
   "source": [
    "#DAT = np.loadtxt('data_txt/acf_comparison_dmass_spt.txt')\n",
    "DAT = np.loadtxt('data_txt/acf_comparison_dmass_spt_30_test.txt')\n",
    "meanr, xi, xi_err = [DAT[:,i] for i in range(3)]\n",
    "DAT2 = np.loadtxt('data_txt/acf_comparison_cmass_sgc_noz.txt')\n",
    "meanr2, xi2, xi_err2 = [DAT2[:,i] for i in range(3)]\n",
    "#DAT3 = np.loadtxt('data_txt/acf_comparison_cmass_sgc_noz.txt')\n",
    "#meanr3, xi3, xi_err3 = [DAT3[:,i] for i in range(3)]\n",
    "\n",
    "fig, ax = plt.subplots(figsize = (10, 7))\n",
    "ax.errorbar(meanr, xi, yerr = xi_err, fmt = '.r', label='dmass spt')\n",
    "ax.errorbar(meanr2*1.05, xi2, yerr = xi_err2, fmt = '.k', label='cmass sgc')\n",
    "#ax.errorbar(meanr3*0.95, xi3, yerr = xi_err3, fmt = '.b', label='dmass spt rand')\n",
    "\n",
    "chisqr = np.sum((xi - xi2)**2/xi_err**2 )\n",
    "chisqr_dof = np.sum((xi - xi2)**2/xi_err**2 )/xi.size\n",
    "\n",
    "ax.text(1,0.13,r'$\\chi^2 = {:>0.2f}$'.format(chisqr), fontsize=20)\n",
    "ax.set_xscale('log')\n",
    "ax.set_yscale('log')\n",
    "ax.legend(loc = 'best', fontsize = 20)\n",
    "ax.set_ylim(1e-3,)\n",
    "ax.set_xlabel(r'$\\theta$ $(deg)$', size=20)\n",
    "ax.set_ylabel(r'$w(\\theta)$', size=20)\n",
    "\n",
    "ax.tick_params(labelsize = 20)\n",
    "#fig.savefig('figure/acf_comparison.pdf')\n",
    "#fig.savefig('figure/acf_comparison.png')"
   ]
  },
  {
   "cell_type": "code",
   "execution_count": 24,
   "metadata": {},
   "outputs": [
    {
     "data": {
      "text/plain": [
       "(32.554344724502975, 1.6277172362251489)"
      ]
     },
     "execution_count": 24,
     "metadata": {},
     "output_type": "execute_result"
    }
   ],
   "source": [
    "np.sum((xi - xi2)**2/xi_err**2 ), np.sum((xi - xi2)**2/xi_err**2 )/xi.size"
   ]
  },
  {
   "cell_type": "code",
   "execution_count": 46,
   "metadata": {
    "scrolled": false
   },
   "outputs": [
    {
     "name": "stdout",
     "output_type": "stream",
     "text": [
      "calculate angular correlation function\n",
      "X (960, 2)  centers (2, 2)  tol=1e-05  maxiter=200\n",
      "8 iterations  cluster sizes: [468 492]\n",
      "X (230831, 2)  centers (2, 2)  tol=1e-05  maxiter=200\n",
      "7 iterations  cluster sizes: [106492 124339]\n",
      "saving data file to :  data_txt/acf_comparison_cmass_sgc_z.txt\n"
     ]
    },
    {
     "data": {
      "text/plain": [
       "0"
      ]
     },
     "execution_count": 46,
     "metadata": {},
     "output_type": "execute_result"
    }
   ],
   "source": [
    "#tree corr\n",
    "from systematics_module.corr import two_point_function\n",
    "#two_point_function(data = dmass_spt, rand = GoldMask_spt, ztag = 'DESDM_ZP', suffix = '_dmass_spt')\n",
    "#angular_correlation(data = dmass_spt, rand = random_spt, weight = None, suffix = '_dmass_spt_rand', out = None)\n",
    "w_sgc = cmass_sgc['WEIGHT_SYSTOT']*( cmass_sgc['WEIGHT_CP'] + cmass_sgc['WEIGHT_NOZ'] - 1. )\n",
    "w_rand = random_sgc['WEIGHT_FKP']\n",
    "two_point_function(data = cmass_sgc, rand = random_sgc, njack = 2, ztag = 'Z', weight = [w_sgc, w_rand], suffix = '_cmass_sgc_z')"
   ]
  },
  {
   "cell_type": "code",
   "execution_count": null,
   "metadata": {
    "collapsed": true
   },
   "outputs": [],
   "source": []
  },
  {
   "cell_type": "code",
   "execution_count": 45,
   "metadata": {},
   "outputs": [
    {
     "data": {
      "text/plain": [
       "(0.001, 10.0)"
      ]
     },
     "execution_count": 45,
     "metadata": {},
     "output_type": "execute_result"
    },
    {
     "data": {
      "image/png": "[encoded data removed]",
      "text/plain": [
       "<matplotlib.figure.Figure at 0x658dc910>"
      ]
     },
     "metadata": {},
     "output_type": "display_data"
    }
   ],
   "source": [
    "DAT = np.loadtxt('data_txt/acf_comparison_cmass_sgc_z.txt')\n",
    "meanr, xiz, xiz_err = [DAT[:,i] for i in range(3)]\n",
    "#DAT2 = np.loadtxt('data_txt/acf_comparison_cmass_sgc.txt')\n",
    "#meanr2, xi2, xi_err2 = [DAT2[:,i] for i in range(3)]\n",
    "\n",
    "fig, ax = plt.subplots(figsize = (10, 7))\n",
    "ax.errorbar(meanr, xiz, yerr = xiz_err, fmt = '.r', label='cmass sgc')\n",
    "#ax.errorbar(meanr2*1.05, xi2, yerr = xi_err2, fmt = '.k', label='cmass sgc')\n",
    "ax.set_xscale('log')\n",
    "ax.set_yscale('log')\n",
    "ax.legend(loc = 'best')\n",
    "ax.set_ylim(1e-3,)"
   ]
  },
  {
   "cell_type": "code",
   "execution_count": 163,
   "metadata": {},
   "outputs": [
    {
     "name": "stdout",
     "output_type": "stream",
     "text": [
      "Spatial Cut  2108394\n"
     ]
    }
   ],
   "source": [
    "# calling im3shape'\n",
    "from cmass_modules.io import getCatalogsWithKeys\n",
    "shear = getCatalogsWithKeys(keyword = 'im3shape_st82.fits', path = '/n/des/lee.5922/data/')\n",
    "shear = shear[shear['INFO_FLAG'] == 0]\n",
    "#shear = changeColumnName( shear, name = 'RA_AS', rename = 'RA' )\n",
    "#shear = changeColumnName( shear, name = 'DEC_AS', rename = 'DEC' )\n",
    "shear = Cuts.keepGoodRegion(shear)\n",
    "shear = Cuts.SpatialCuts(shear, ra=320, ra2=360 , dec=-2, dec2=2 )"
   ]
  },
  {
   "cell_type": "code",
   "execution_count": 57,
   "metadata": {},
   "outputs": [
    {
     "name": "stdout",
     "output_type": "stream",
     "text": [
      "\n",
      "--------------------------------\n",
      " calling BOSS SGC CMASS catalog\n",
      "--------------------------------\n",
      "Applying Healpix BOSS SGC footprint mask\n",
      "Change healpix mask to spatial cut later..... Don't forget!!! \n",
      "Spatial Cut  10331\n"
     ]
    }
   ],
   "source": [
    "# calling cmass\n",
    "cmass = io.getSGCCMASSphotoObjcat()\n",
    "cmass = Cuts.keepGoodRegion(cmass)\n",
    "cmass = Cuts.SpatialCuts(cmass, ra=320, ra2=360, dec=-2, dec2=2)\n",
    "m1, m2, _ = esutil.htm.HTM(10).match(cmass['RA'], cmass['DEC'], gold_prob_cat['RA'], \\\n",
    "                                     gold_prob_cat['DEC'], 1./3600, maxmatch=1)\n",
    "cmass_mask = np.zeros(gold_prob_cat.size, dtype=bool)\n",
    "cmass_mask[m2] = 1\n",
    "clean_cmass_data_des, nocmass = gold_prob_cat[cmass_mask], gold_prob_cat[~cmass_mask]"
   ]
  },
  {
   "cell_type": "code",
   "execution_count": 15,
   "metadata": {
    "collapsed": true
   },
   "outputs": [],
   "source": [
    "#------------------------------------------------------------\n",
    "# Set up correlation function computation\n",
    "#  This calculation takes a long time with the bootstrap resampling,\n",
    "#  so we'll save the results.\n",
    "#bins = 10 ** np.linspace(np.log10(1. / 60.), np.log10(6), 16)\n",
    "bins = np.linspace(0, 1/60. * 200, 201)\n",
    "bin_centers = 0.5 * (bins[1:] + bins[:-1])\n",
    "\n",
    "bins_log = 10 ** np.linspace(np.log10(1. / 60.), np.log10(6), 16)\n",
    "#bins = np.linspace(0.0, 1.5, 16)\n",
    "bin_centers_log = 0.5 * (bins_log[1:] + bins_log[:-1])\n",
    "\n",
    "\n",
    "#@pickle_results(\"correlation_functions_DMASS_st82_even.pkl\")\n",
    "def compute_results(data, bins = None, Nbootstraps=10,  method='landy-szalay', rseed=0):\n",
    "    \n",
    "    from astroML.correlation import bootstrap_two_point_angular\n",
    "    \n",
    "    np.random.seed(rseed)\n",
    "    Nbins = bins.size\n",
    "    \n",
    "    results = [bins]\n",
    "    results += bootstrap_two_point_angular(data['RA'], data['DEC'],bins=bins,method=method,Nbootstraps=Nbootstraps)\n",
    "    return results"
   ]
  },
  {
   "cell_type": "code",
   "execution_count": null,
   "metadata": {},
   "outputs": [],
   "source": [
    "#(bins, r_corr, r_corr_err, r_bootstraps,\n",
    "# b_corr, b_corr_err, b_bootstraps) = compute_results()\n",
    "\n",
    "(bins, c_corr, c_corr_err, c_bootstraps) = compute_results(dmass_spt, bins=bins)\n",
    "(bins, d_corr, d_corr_err, d_bootstraps) = compute_results(cmass_sgc, bins=bins)\n",
    "\n",
    "DAT = np.column_stack((bin_centers, c_corr, c_corr_err, d_corr, d_corr_err) )\n",
    "np.savetxt('data_txt/corr_dmass_cmass.txt', DAT, header = 'bin_centers, c_corr2, c_corr_err2, d_corr2, d_corr_err2' )\n",
    "\n",
    "#(bins, d_corr2, d_corr_err2, d_bootstraps2) = compute_results(dmass_st82, bins=bins)\n",
    "#(bins_log, d_corr, d_corr_err, d_bootstraps) = compute_results(dmass_st82, bins=bins_log)"
   ]
  },
  {
   "cell_type": "code",
   "execution_count": 61,
   "metadata": {},
   "outputs": [
    {
     "data": {
      "image/png": "[encoded data removed]",
      "text/plain": [
       "<matplotlib.figure.Figure at 0x81a3d90>"
      ]
     },
     "metadata": {},
     "output_type": "display_data"
    }
   ],
   "source": [
    "#------------------------------------------------------------\n",
    "# Plot the results\n",
    "#corr = [r_corr, b_corr]\n",
    "#corr_err = [r_corr_err, b_corr_err]\n",
    "#bootstraps = [r_bootstraps, b_bootstraps]\n",
    "\n",
    "\n",
    "\n",
    "#labels = '$CMASS~in~st82$\\n$N=%i$' % len(cmass)\n",
    "\n",
    "fig = plt.figure(figsize=(10, 10))\n",
    "fig.subplots_adjust(bottom=0.2, top=0.9,\n",
    "                    left=0.13, right=0.95)\n",
    "\n",
    "ax = fig.add_subplot(111, xscale='linear', yscale='linear')\n",
    "ax.errorbar(bin_centers, c_corr, c_corr_err,\n",
    "            fmt='.k', ecolor='gray', lw=1, label = 'cmass sgc')\n",
    "ax.errorbar(bin_centers, d_corr, d_corr_err,\n",
    "            fmt='.r', ecolor='red', lw=1, label='dmass spt')\n",
    "#ax.errorbar(bin_centers, d_corr, d_corr_err,\n",
    "#            fmt='.b', ecolor='blue', lw=1, label='cmass in des')\n",
    "\n",
    "#t = np.array([0.01, 10])\n",
    "#ax.plot(t, 10 * (t / 0.0005) ** -0.7, ':k', linewidth=1)\n",
    "\n",
    "#ax.text(0.95, 0.95, labels,\n",
    "#        ha='right', va='top', transform=ax.transAxes)\n",
    "ax.set_xlabel(r'$\\theta\\ (deg)$')\n",
    "ax.set_ylabel(r'$\\omega(\\theta)$')\n",
    "#ax.set_xscale('linear')\n",
    "#if i == 0:\n",
    "#    ax.set_ylabel(r'$\\hat{w}(\\theta)$')\n",
    "ax.legend(loc='best')\n",
    "ax.set_yscale('log')\n",
    "ax.set_xscale('log')\n",
    "ax.set_xlim(0, 2)     \n",
    "plt.show()\n",
    "\n",
    "fig.savefig('figure/acf_comparison_dmass_cmass.png')"
   ]
  },
  {
   "cell_type": "code",
   "execution_count": 79,
   "metadata": {},
   "outputs": [
    {
     "name": "stdout",
     "output_type": "stream",
     "text": [
      "saving fig to  figure/hist_z_cmass_st82.png\n",
      "saving data to  data_txt/z_distribution_cmass_st82.txt\n"
     ]
    },
    {
     "data": {
      "image/png": "[encoded data removed]",
      "text/plain": [
       "<matplotlib.figure.Figure at 0x7395850>"
      ]
     },
     "metadata": {},
     "output_type": "display_data"
    }
   ],
   "source": [
    "plot_z_distribution( cats = clean_cmass_data_des, labels = 'cmass_st82', suffix = 'cmass_st82' )"
   ]
  },
  {
   "cell_type": "code",
   "execution_count": 80,
   "metadata": {},
   "outputs": [
    {
     "name": "stdout",
     "output_type": "stream",
     "text": [
      "saving fig to  figure/hist_z_dmass_st82.png\n",
      "saving data to  data_txt/z_distribution_dmass_st82.txt\n"
     ]
    },
    {
     "data": {
      "image/png": "[encoded data removed]",
      "text/plain": [
       "<matplotlib.figure.Figure at 0xc32e190>"
      ]
     },
     "metadata": {},
     "output_type": "display_data"
    }
   ],
   "source": [
    "plot_z_distribution( cats = dmass_st82, labels = 'dmass_st82', suffix = 'dmass_st82' )"
   ]
  },
  {
   "cell_type": "code",
   "execution_count": 75,
   "metadata": {},
   "outputs": [
    {
     "ename": "NameError",
     "evalue": "name 'plot_z_distribution' is not defined",
     "output_type": "error",
     "traceback": [
      "\u001b[0;31m---------------------------------------------------------------------------\u001b[0m",
      "\u001b[0;31mNameError\u001b[0m                                 Traceback (most recent call last)",
      "\u001b[0;32m<ipython-input-75-615f45797a94>\u001b[0m in \u001b[0;36m<module>\u001b[0;34m()\u001b[0m\n\u001b[0;32m----> 1\u001b[0;31m \u001b[0mplot_z_distribution\u001b[0m\u001b[0;34m(\u001b[0m \u001b[0mcats\u001b[0m \u001b[0;34m=\u001b[0m \u001b[0mdmass_st82\u001b[0m\u001b[0;34m,\u001b[0m \u001b[0mlabels\u001b[0m \u001b[0;34m=\u001b[0m \u001b[0;34m'dmass_st82'\u001b[0m\u001b[0;34m,\u001b[0m \u001b[0msuffix\u001b[0m \u001b[0;34m=\u001b[0m \u001b[0;34m'dmass_st82'\u001b[0m \u001b[0;34m)\u001b[0m\u001b[0;34m\u001b[0m\u001b[0m\n\u001b[0m",
      "\u001b[0;31mNameError\u001b[0m: name 'plot_z_distribution' is not defined"
     ]
    }
   ],
   "source": [
    "plot_z_distribution( cats = dmass_st82, labels = 'dmass_st82', suffix = 'dmass_st82' )"
   ]
  },
  {
   "cell_type": "code",
   "execution_count": null,
   "metadata": {
    "collapsed": true
   },
   "outputs": [],
   "source": [
    "plot_z_distribution( cats = dmass_st82, labels = '_dmass_st82', suffix = 'dmass_st82_binedge' )"
   ]
  },
  {
   "cell_type": "code",
   "execution_count": 58,
   "metadata": {},
   "outputs": [
    {
     "data": {
      "text/plain": [
       "(5487,)"
      ]
     },
     "execution_count": 58,
     "metadata": {},
     "output_type": "execute_result"
    }
   ],
   "source": [
    "dmass_st82.shape"
   ]
  },
  {
   "cell_type": "code",
   "execution_count": 59,
   "metadata": {},
   "outputs": [],
   "source": [
    "def ra_dec_to_xyz(ra, dec):\n",
    "    \"\"\"Convert ra & dec to Euclidean points\n",
    "    Parameters\n",
    "    ----------\n",
    "    ra, dec : ndarrays\n",
    "    Returns\n",
    "    x, y, z : ndarrays\n",
    "    \"\"\"\n",
    "    sin_ra = np.sin(ra * np.pi / 180.)\n",
    "    cos_ra = np.cos(ra * np.pi / 180.)\n",
    "\n",
    "    sin_dec = np.sin(np.pi / 2 - dec * np.pi / 180.)\n",
    "    cos_dec = np.cos(np.pi / 2 - dec * np.pi / 180.)\n",
    "\n",
    "    return (cos_ra * sin_dec,\n",
    "            sin_ra * sin_dec,\n",
    "            cos_dec)\n",
    "\n",
    "def uniform_sphere(RAlim, DEClim, size=1):\n",
    "    \"\"\"Draw a uniform sample on a sphere\n",
    "    Parameters\n",
    "    ----------\n",
    "    RAlim : tuple\n",
    "        select Right Ascension between RAlim[0] and RAlim[1]\n",
    "        units are degrees\n",
    "    DEClim : tuple\n",
    "        select Declination between DEClim[0] and DEClim[1]\n",
    "    size : int (optional)\n",
    "        the size of the random arrays to return (default = 1)\n",
    "    Returns\n",
    "    -------\n",
    "    RA, DEC : ndarray\n",
    "        the random sample on the sphere within the given limits.\n",
    "        arrays have shape equal to size.\n",
    "    \"\"\"\n",
    "    zlim = np.sin(np.pi * np.asarray(DEClim) / 180.)\n",
    "\n",
    "    z = zlim[0] + (zlim[1] - zlim[0]) * np.random.random(size)\n",
    "    DEC = (180. / np.pi) * np.arcsin(z)\n",
    "    RA = RAlim[0] + (RAlim[1] - RAlim[0]) * np.random.random(size)\n",
    "    \n",
    "    return RA, DEC\n",
    "\n",
    "def uniform_random_on_sphere(data, size = None ):\n",
    "    ra = data['RA']\n",
    "    dec = data['DEC']\n",
    "    \n",
    "    n_features = ra.size\n",
    "    #size = 100 * data.size\n",
    "    \n",
    "    # draw a random sample with N points\n",
    "    ra_R, dec_R = uniform_sphere((min(ra), max(ra)),\n",
    "                                 (min(dec), max(dec)),\n",
    "                                 size)\n",
    "    #data = np.asarray(ra_dec_to_xyz(ra, dec), order='F').T\n",
    "    #data_R = np.asarray(ra_dec_to_xyz(ra_R, dec_R), order='F').T\n",
    "    \n",
    "    #random redshift distribution\n",
    "    mu, sigma = np.mean(data['DESDM_ZP']), np.std(data['DESDM_ZP'])\n",
    "    z_R = np.random.normal(mu, sigma, size)\n",
    "    \n",
    "    data_R = np.zeros((ra_R.size,), dtype=[('RA', 'float'), ('DEC', 'float'), ('DESDM_ZP', 'float')])\n",
    "    data_R['RA'] = ra_R\n",
    "    data_R['DEC'] = dec_R\n",
    "    data_R['DESDM_ZP'] = z_R\n",
    "                              \n",
    "    return data_R\n",
    "\n",
    "data_R = uniform_random_on_sphere(dmass_st82, size = 100 * dmass_st82.size)\n",
    "data_R = Cuts.keepGoodRegion(data_R)\n",
    "data_R_t = uniform_random_on_sphere(clean_cmass_data_des, size = 100 * cmass.size)\n",
    "data_R_t = Cuts.keepGoodRegion(data_R_t)"
   ]
  },
  {
   "cell_type": "code",
   "execution_count": 60,
   "metadata": {},
   "outputs": [
    {
     "data": {
      "text/plain": [
       "(44215, 5487)"
      ]
     },
     "execution_count": 60,
     "metadata": {},
     "output_type": "execute_result"
    }
   ],
   "source": [
    "data_R.size, dmass_st82.size"
   ]
  },
  {
   "cell_type": "code",
   "execution_count": 63,
   "metadata": {},
   "outputs": [
    {
     "name": "stdout",
     "output_type": "stream",
     "text": [
      "X (300, 2)  centers (30, 2)  tol=1e-05  maxiter=200\n",
      "8 iterations  cluster sizes: [11  9  9 13 12 22  8  9 11 10  6  4 10 14 14 10  7 12 11  4 10  6  8 18  9\n",
      " 11  6  5  9 12]\n",
      "X (3420, 2)  centers (30, 2)  tol=1e-05  maxiter=200\n",
      "14 iterations  cluster sizes: [ 86 138  93 126 121 213  54 122 175  61  78  88 107 167 107  73 110 126\n",
      " 158  46  60 111 108 129 140 133 143  70 107 170]\n",
      "saving data file to :  data_txt/acf_cross_cross_st82.txt\n"
     ]
    }
   ],
   "source": [
    "from systematics_module.corr import angular_correlation,cross_angular_correlation\n",
    "#angular_correlation(data = dmass_st82, rand = data_R, weight = None, suffix = '_dmass_st82', out = None)\n",
    "#angular_correlation(data = clean_cmass_data_des, rand = data_R_t, weight = None, suffix = '_cmass_st82', out = None)\n",
    "cross_angular_correlation(data = clean_cmass_data_des, data2 = dmass_st82, rand = data_R_t, rand2= data_R, njack = 30,\\\n",
    "                          weight = None, suffix = '_cmass_dmass_st82', out=None)"
   ]
  },
  {
   "cell_type": "code",
   "execution_count": 66,
   "metadata": {
    "collapsed": true
   },
   "outputs": [],
   "source": [
    "cp data_txt/acf_cross_cross_st82.txt data_txt/acf_cross_cmass_dmass_st82.txt"
   ]
  },
  {
   "cell_type": "code",
   "execution_count": 70,
   "metadata": {},
   "outputs": [],
   "source": [
    "DAT = np.loadtxt('data_txt/acf_comparison_dmass_st82.txt')\n",
    "meanr, xi, xi_err = [DAT[:,i] for i in range(3)]\n",
    "DAT2 = np.loadtxt('data_txt/acf_comparison_cmass_st82.txt')\n",
    "meanr2, xi2, xi_err2 = [DAT2[:,i] for i in range(3)]\n",
    "DAT3 = np.loadtxt('data_txt/acf_cross_cmass_dmass_st82.txt')\n",
    "meanr3, xi3, xi_err3 = [DAT3[:,i] for i in range(3)]"
   ]
  },
  {
   "cell_type": "code",
   "execution_count": 71,
   "metadata": {},
   "outputs": [
    {
     "data": {
      "text/plain": [
       "(5487, 3420)"
      ]
     },
     "execution_count": 71,
     "metadata": {},
     "output_type": "execute_result"
    }
   ],
   "source": [
    "dmass_st82.size, clean_cmass_data_des.size"
   ]
  },
  {
   "cell_type": "code",
   "execution_count": 72,
   "metadata": {},
   "outputs": [
    {
     "data": {
      "text/plain": [
       "<matplotlib.legend.Legend at 0x1bb2bf90>"
      ]
     },
     "execution_count": 72,
     "metadata": {},
     "output_type": "execute_result"
    },
    {
     "data": {
      "image/png": "[encoded data removed]",
      "text/plain": [
       "<matplotlib.figure.Figure at 0x31e16d0>"
      ]
     },
     "metadata": {},
     "output_type": "display_data"
    }
   ],
   "source": [
    "fig, ax = plt.subplots(figsize = (10,10))\n",
    "ax.errorbar(meanr, xi, yerr = xi_err, fmt = '.b', label='dmass st82')\n",
    "ax.errorbar(meanr2*1.05, xi2, yerr = xi_err2, fmt = '.r', label='cmass st82')\n",
    "ax.errorbar(meanr3*1.1, xi3, yerr = xi_err3, fmt = '.g', label='cross corr')\n",
    "ax.set_xscale('log')\n",
    "ax.set_yscale('log')\n",
    "ax.legend(loc = 'best')"
   ]
  },
  {
   "cell_type": "markdown",
   "metadata": {},
   "source": [
    "Lensing "
   ]
  },
  {
   "cell_type": "code",
   "execution_count": null,
   "metadata": {},
   "outputs": [],
   "source": [
    "source_R = uniform_random_on_sphere(shear, size = shear.size)\n",
    "source_R = Cuts.keepGoodRegion(source_R)"
   ]
  },
  {
   "cell_type": "code",
   "execution_count": 192,
   "metadata": {},
   "outputs": [
    {
     "name": "stdout",
     "output_type": "stream",
     "text": [
      "Calculating lensing signal \n",
      "z_l = (0.45, 0.55)  z_s = (0.7, 1.0)\n",
      "X (179, 2)  centers (10, 2)  tol=1e-05  maxiter=200\n",
      "13 iterations  cluster sizes: [13 19 13 26 16 12 21 14 25 20]\n",
      "X (8013, 2)  centers (10, 2)  tol=1e-05  maxiter=200\n",
      "14 iterations  cluster sizes: [811 668 827 863 702 770 830 826 919 797]\n",
      "saving data file to :  data_txt/lensing_cmass.txt\n",
      "Calculating lensing signal \n",
      "z_l = (0.45, 0.55)  z_s = (0.7, 1.0)\n",
      "X (173, 2)  centers (10, 2)  tol=1e-05  maxiter=200\n",
      "9 iterations  cluster sizes: [17  6 15 24 16 15 16 21 28 15]\n",
      "X (7564, 2)  centers (10, 2)  tol=1e-05  maxiter=200\n",
      "11 iterations  cluster sizes: [ 662  521  501  913  958  621  714  763 1090  821]\n",
      "saving data file to :  data_txt/lensing_dmass.txt\n"
     ]
    }
   ],
   "source": [
    "from systematics_module.corr import LensingSignal, cross_angular_correlation, angular_correlation\n",
    "LensingSignal(lense = clean_cmass_data_des, source = shear, rand = data_R, suffix = 'cmass')\n",
    "LensingSignal(lense = dmass_st82, source = shear, rand = data_R, suffix = 'dmass')"
   ]
  },
  {
   "cell_type": "code",
   "execution_count": 193,
   "metadata": {},
   "outputs": [
    {
     "name": "stdout",
     "output_type": "stream",
     "text": [
      "saving fig to : figure/lensing_comparison.png\n"
     ]
    },
    {
     "data": {
      "image/png": "[encoded data removed]",
      "text/plain": [
       "<matplotlib.figure.Figure at 0x7281e10>"
      ]
     },
     "metadata": {},
     "output_type": "display_data"
    }
   ],
   "source": [
    "# plotting\n",
    "\n",
    "labels = ['cmass', 'dmass']\n",
    "lensingdat = [np.loadtxt('data_txt/lensing_'+s+'.txt') for s in labels ]\n",
    "\n",
    "#r_p_bins, LensSignal, LSjkerr, correctedLensSignal, CLSjkerr, BoostFactor, Boostjkerr = lensingdat[:,0], lensingdat[:,1],lensingdat[:,2],lensingdat[:,3],lensingdat[:,4],lensingdat[:,5],lensingdat[:,6]\n",
    "fig, ax = plt.subplots(1,1, figsize = (7,7))\n",
    "\n",
    "for j in range(len(labels)):\n",
    "\n",
    "    r_p_bins, LensSignal, LSjkerr = [lensingdat[j][:,i] for i in range(lensingdat[0][0].size)]\n",
    "    ax.errorbar(r_p_bins * (1 + 0.1*j), LensSignal, yerr = LSjkerr, fmt='o', label = labels[j])\n",
    "\n",
    "theory = np.loadtxt('data_txt/smd_v_theta_cmass.dat')\n",
    "rr_the = theory[:,0]\n",
    "delta_sigma_the = theory[:,1]\n",
    "error_the = theory[:,2] * np.sqrt(5000/120)\n",
    "ax.errorbar(10**rr_the, 10**delta_sigma_the, yerr = 10**error_the, color = 'black', fmt='--o', label = 'theory')\n",
    "\n",
    "ax.set_yscale('log')\n",
    "ax.set_xscale('log')\n",
    "ax.set_xlim(10, 1e5)\n",
    "ax.set_ylim(1e-2,1e3)\n",
    "ax.set_xlabel(r'$r$ $(kpc/h)$')\n",
    "ax.set_ylabel(r'$\\Delta\\Sigma$ $(M_{s}h/pc^{2})$')\n",
    "ax.set_title('z_lense = [0.45, 0.55]'  )\n",
    "ax.legend(loc = 'best')\n",
    "\n",
    "figname='figure/lensing_comparison.png'\n",
    "fig.savefig(figname)\n",
    "print 'saving fig to :', figname"
   ]
  },
  {
   "cell_type": "code",
   "execution_count": null,
   "metadata": {
    "collapsed": true
   },
   "outputs": [],
   "source": []
  }
 ],
 "metadata": {
  "kernelspec": {
   "display_name": "Python 2",
   "language": "python",
   "name": "python2"
  },
  "language_info": {
   "codemirror_mode": {
    "name": "ipython",
    "version": 2
   },
   "file_extension": ".py",
   "mimetype": "text/x-python",
   "name": "python",
   "nbconvert_exporter": "python",
   "pygments_lexer": "ipython2",
   "version": "2.7.14"
  }
 },
 "nbformat": 4,
 "nbformat_minor": 1
}
