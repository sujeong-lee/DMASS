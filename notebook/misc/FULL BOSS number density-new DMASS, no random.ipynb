{
 "cells": [
  {
   "cell_type": "markdown",
   "metadata": {},
   "source": [
    "# Full Boss NUM density"
   ]
  },
  {
   "cell_type": "code",
   "execution_count": 1,
   "metadata": {
    "scrolled": true
   },
   "outputs": [],
   "source": [
    "import sys, os\n",
    "sys.path.append('../')\n",
    "from xd import *\n",
    "from utils import *\n",
    "import esutil\n",
    "import healpy as hp\n",
    "from systematics import *\n",
    "from matplotlib.backends.backend_pdf import PdfPages\n",
    "\n",
    "\n",
    "from matplotlib import rc\n",
    "rc('font',**{'family':'sans-serif','sans-serif':['Helvetica']})\n",
    "## for Palatino and other serif fonts use:\n",
    "#rc('font',**{'family':'serif','serif':['Palatino']})\n",
    "rc('text', usetex=True)\n",
    "\n",
    "\n",
    "%matplotlib inline\n",
    "\n",
    "%load_ext autoreload\n",
    "%autoreload 2"
   ]
  },
  {
   "cell_type": "code",
   "execution_count": 2,
   "metadata": {},
   "outputs": [],
   "source": [
    "def valid_hp(cat, nside = 4096):\n",
    "    \n",
    "    hpind = hpRaDecToHEALPixel(cat['RA'], cat['DEC'], nside=nside, nest= False)\n",
    "    hpind_reject = hpRaDecToHEALPixel(cat['RA'][cat['VETO_FLAG'] == 0], \n",
    "                                    cat['DEC'][cat['VETO_FLAG'] == 0], nside=nside, nest= False)\n",
    "    \n",
    "    hppixnumber = np.arange(hp.nside2npix(nside))\n",
    "    \n",
    "    geomask = np.in1d( hppixnumber, hpind )\n",
    "    rejectmask = np.in1d( hppixnumber, hpind_reject )\n",
    "    \n",
    "    print np.sum(geomask), np.sum(~rejectmask)\n",
    "    \n",
    "    \n",
    "    totalmask = geomask * (~rejectmask)\n",
    "    return hppixnumber[totalmask]\n",
    "\n",
    "\n",
    "def hp_mask(cat, valid_hpind, nside = 4096):\n",
    "    hpind = hpRaDecToHEALPixel(cat['RA'], cat['DEC'], nside=nside, nest= False)\n",
    "    HPmask = np.in1d(hpind, valid_hpind)\n",
    "    return HPmask\n",
    "\n",
    "\n",
    "\n",
    "\n",
    "def callingBOSSmask(option='SGC'):\n",
    "    \n",
    "    if option == 'SGC':\n",
    "        valid_hpind = fitsio.read('/n/des/lee.5922/data/cmass_cat/vetomask/mask_nside4096_Patchy-Mocks-Randoms-DR12SGC-COMPSAM_V6C.fits')\n",
    "    elif option == 'NGC': \n",
    "        valid_hpind = fitsio.read('/n/des/lee.5922/data/cmass_cat/vetomask/mask_nside4096_Patchy-Mocks-Randoms-DR12NGC-COMPSAM_V6C.fits')\n",
    "\n",
    "    CleanMask = np.zeros((valid_hpind.size, ), dtype=[('PIXEL', 'i4'),('RA', 'f8'), ('DEC', 'f8')])\n",
    "    CleanMask['PIXEL'] = valid_hpind\n",
    "    sys_ra, sys_dec = hpHEALPixelToRaDec(valid_hpind, nside = 4096)\n",
    "    CleanMask['RA'] = sys_ra\n",
    "    CleanMask['DEC'] = sys_dec\n",
    "    return CleanMask\n",
    "\n",
    "\n",
    "def BOSSvetoing(cat, option='SGC'):\n",
    "    \n",
    "    if option == 'SGC':\n",
    "        valid_hpind = esutil.io.read('/n/des/lee.5922/data/cmass_cat/vetomask/mask_nside4096_Patchy-Mocks-Randoms-DR12SGC-COMPSAM_V6C.fits')\n",
    "    elif option == 'NGC': \n",
    "        valid_hpind = esutil.io.read('/n/des/lee.5922/data/cmass_cat/vetomask/mask_nside4096_Patchy-Mocks-Randoms-DR12NGC-COMPSAM_V6C.fits')\n",
    "    elif option =='all':\n",
    "        valid_hpind = esutil.io.read(['/n/des/lee.5922/data/cmass_cat/vetomask/mask_nside4096_Patchy-Mocks-Randoms-DR12NGC-COMPSAM_V6C.fits',\n",
    "                                   '/n/des/lee.5922/data/cmass_cat/vetomask/mask_nside4096_Patchy-Mocks-Randoms-DR12SGC-COMPSAM_V6C.fits'],\n",
    "                                 combine=True)\n",
    "    hpind = hpRaDecToHEALPixel(cat['RA'], cat['DEC'], nside=4096, nest= False)\n",
    "    HPmask = np.in1d(hpind, valid_hpind)\n",
    "    \n",
    "    return cat[HPmask]\n",
    "\n",
    "#valid_hp4096 = valid_hp(mock_rand_ngc, nside = 4096)\n",
    "#vetoed_obj = hp_mask(mock_rand_ngc, valid_hp4096, nside = 4096)\n",
    "#print 'vetoed by flag', np.sum(mock_rand_ngc['VETO_FLAG'] == 0)\n",
    "#print 'vetoed by 4096mask', mock_rand_ngc.size - np.sum(vetoed_obj)\n",
    "#print 'vetoed by 2048mask', mock_rand_sgc.size - np.sum(vetoed_obj2048)"
   ]
  },
  {
   "cell_type": "code",
   "execution_count": 31,
   "metadata": {},
   "outputs": [
    {
     "name": "stdout",
     "output_type": "stream",
     "text": [
      "\n",
      "--------------------------------\n",
      " calling catalog\n",
      "--------------------------------\n",
      "dmass_spt_sys_v3.fits\n",
      "\n",
      "--------------------------------\n",
      " calling catalog\n",
      "--------------------------------\n",
      "gold_st82_prob.fits\n",
      "12637.112833275674\n",
      "117292.90214602613\n",
      "12639\n"
     ]
    }
   ],
   "source": [
    "\n",
    "rootdir = '../output/sfd_train_photo_SamPle_nozband_ran10_3_full_tol1e5/'\n",
    "dmass_spt = io.SearchAndCallFits(path = rootdir, columns = None, keyword = 'dmass_spt_sys_v3.fits')\n",
    "dmass_spt = dmass_spt[ dmass_spt['CMASS_PROB'] > 0.01 ]\n",
    "dmass_st82 = io.SearchAndCallFits(path = rootdir, columns = None, keyword = 'gold_st82_prob.fits')\n",
    "dmass_st82 =dmass_st82[ dmass_st82['EachProb_CMASS'] > 0.01]\n",
    "\n",
    "train = esutil.io.read(rootdir+'train_sample_des.fits')\n",
    "train = Cuts.keepGoodRegion(train)\n",
    "\n",
    "dmass_spt = Cuts.keepGoodRegion(dmass_spt)\n",
    "dmass_st82 = Cuts.keepGoodRegion(dmass_st82)\n",
    "\n",
    "print np.sum(dmass_st82['EachProb_CMASS'])\n",
    "print np.sum(dmass_spt['CMASS_PROB'])\n",
    "print train.size"
   ]
  },
  {
   "cell_type": "code",
   "execution_count": 131,
   "metadata": {},
   "outputs": [
    {
     "name": "stdout",
     "output_type": "stream",
     "text": [
      "1243.5360337558907 123.17511816060514\n"
     ]
    }
   ],
   "source": [
    "# calling map \n",
    "GoldMask = callingEliGoldMask()\n",
    "#GoldMask_st82 = Cuts.SpatialCuts(GoldMask, ra=320, ra2=360, dec=-2, dec2=2)\n",
    "GoldMask_st82 = GoldMask[ GoldMask['DEC'] > -3.0 ]\n",
    "GoldMask_spt = GoldMask[ GoldMask['DEC'] < -3.0 ]\n",
    "#GoldMask_spt = Cuts.SpatialCuts(GoldMask_spt, ra=0, ra2 = 100, dec=-52, dec2 = -48)\n",
    "\n",
    "pixarea = hp.nside2pixarea( 4096, degrees = True)\n",
    "sptnpix = np.sum(GoldMask_spt['FRAC']) #hp.get_map_size( GoldMask_spt['PIXEL'] )\n",
    "st82npix =  np.sum(GoldMask_st82['FRAC']) # hp.get_map_size( GoldMask_st82 )\n",
    "SPTMaparea = pixarea * sptnpix\n",
    "ST82Maparea = pixarea * st82npix\n",
    "\n",
    "print SPTMaparea, ST82Maparea"
   ]
  },
  {
   "cell_type": "code",
   "execution_count": 7,
   "metadata": {
    "collapsed": true
   },
   "outputs": [
    {
     "name": "stdout",
     "output_type": "stream",
     "text": [
      "\n",
      "PATH =  /n/des/lee.5922/data/systematic_maps/seeing_i_spt/\n",
      "Y1A1NEW_COADD_SPT_band_g_nside4096_oversamp4_FWHM_MEAN_coaddweights3_mean.fits.gz\n",
      "NSIDE = 4096\n",
      "ORDERING = RING in fits file\n",
      "INDXSCHM = EXPLICIT\n",
      "\n",
      "PATH =  /n/des/lee.5922/data/systematic_maps/seeing_i_spt/\n",
      "Y1A1NEW_COADD_SPT_band_r_nside4096_oversamp4_FWHM_MEAN_coaddweights3_mean.fits.gz\n",
      "NSIDE = 4096\n",
      "ORDERING = RING in fits file\n",
      "INDXSCHM = EXPLICIT\n",
      "\n",
      "PATH =  /n/des/lee.5922/data/systematic_maps/seeing_i_spt/\n",
      "Y1A1NEW_COADD_SPT_band_i_nside4096_oversamp4_FWHM_MEAN_coaddweights3_mean.fits.gz\n",
      "NSIDE = 4096\n",
      "ORDERING = RING in fits file\n",
      "INDXSCHM = EXPLICIT\n",
      "\n",
      "PATH =  /n/des/lee.5922/data/systematic_maps/seeing_i_spt/\n",
      "Y1A1NEW_COADD_SPT_band_z_nside4096_oversamp4_FWHM_MEAN_coaddweights3_mean.fits.gz\n",
      "NSIDE = 4096\n",
      "ORDERING = RING in fits file\n",
      "INDXSCHM = EXPLICIT\n"
     ]
    }
   ],
   "source": [
    "from run_systematics import sys_iteration, fitting_SP, sys_ngal, weightmultiply, fitting_allSP, calling_sysMap, maskingCatalogSP\n",
    "\n",
    "sysMap = calling_sysMap( properties=['FWHM'], kind='SPT', nside=4096 )"
   ]
  },
  {
   "cell_type": "code",
   "execution_count": 24,
   "metadata": {},
   "outputs": [
    {
     "name": "stdout",
     "output_type": "stream",
     "text": [
      "1218.6081762218325 1243.5360337558907\n"
     ]
    }
   ],
   "source": [
    "sys_mask = (sysMap['sys_FWHM_r_SPT']['SIGNAL'] < 4.5)\n",
    "map_mask = np.in1d( GoldMask_spt['PIXEL'],  sysMap['sys_FWHM_r_SPT']['PIXEL'][sys_mask])\n",
    "GoldMask_spt_sysmasked = GoldMask_spt[map_mask]\n",
    "sptnpix_sys = np.sum(GoldMask_spt_sysmasked['FRAC']) \n",
    "#print np.sum(sys_mask), np.sum(map_mask)\n",
    "#print GoldMask_spt.size, GoldMask_spt_sysmasked.size\n",
    "SPTMaparea_sys = pixarea * sptnpix_sys\n",
    "print SPTMaparea_sys, SPTMaparea"
   ]
  },
  {
   "cell_type": "code",
   "execution_count": 5,
   "metadata": {},
   "outputs": [],
   "source": [
    "\n",
    "#hpix_dmass = hpRaDecToHEALPixel(dmass_spt['RA'], dmass_spt['DEC'], nside=4096, nest= False)\n",
    "#dmass_spt_hpix = appendColumn(dmass_spt, name = 'PIXEL', value = hpix_dmass, dtypes=None)"
   ]
  },
  {
   "cell_type": "code",
   "execution_count": 32,
   "metadata": {},
   "outputs": [],
   "source": [
    "import pandas as pd\n",
    "desData = pd.DataFrame(dmass_spt)\n",
    "goldData = pd.DataFrame(GoldMask_spt)\n",
    "matched = pd.merge(desData, goldData, left_on='HPIX', right_on='PIXEL', how='left')\n",
    "matched_arr = matched.to_records(index=False)"
   ]
  },
  {
   "cell_type": "code",
   "execution_count": 33,
   "metadata": {},
   "outputs": [],
   "source": [
    "from utils import mergeCatalogsUsingPandas\n",
    "dmass_spt_hpix = mergeCatalogsUsingPandas(des=dmass_spt, gold=GoldMask_spt, how = 'right', \n",
    "                                      left_key='HPIX', right_key = 'PIXEL', suffixes = ['','_GOLD'], \n",
    "                                      left_index=False, right_index = False)"
   ]
  },
  {
   "cell_type": "code",
   "execution_count": 34,
   "metadata": {},
   "outputs": [
    {
     "name": "stdout",
     "output_type": "stream",
     "text": [
      "2422.648564262496 6523.511490618644\n"
     ]
    }
   ],
   "source": [
    "BOSSCleanMaskSGC = callingBOSSmask(option='SGC')\n",
    "BOSSCleanMaskNGC = callingBOSSmask(option='NGC')\n",
    "BOSSSGCMaparea = BOSSCleanMaskSGC.size * pixarea\n",
    "BOSSNGCMaparea = BOSSCleanMaskNGC.size * pixarea\n",
    "print BOSSSGCMaparea, BOSSNGCMaparea"
   ]
  },
  {
   "cell_type": "code",
   "execution_count": 26,
   "metadata": {},
   "outputs": [],
   "source": [
    "import numpy as np\n",
    "\n",
    "path = '/n/des/lee.5922/data/cmass_cat/'\n",
    "\n",
    "cmass_ngc = esutil.io.read(path+'galaxy_DR12v5_CMASS_North.fits.gz')\n",
    "cmass_sgc = esutil.io.read(path+'galaxy_DR12v5_CMASS_South.fits.gz')\n",
    "#cmass_ngc = esutil.io.read(path+'cmass-dr12v4-N-Reid-full.dat.fits')\n",
    "#cmass_sgc = esutil.io.read(path+'cmass-dr12v4-S-Reid-full.dat.fits')\n",
    "#cmass_ngc = cmass_ngc[(cmass_ngc['Z'] > 0.43) & (cmass_ngc['Z'] < 0.7)]\n",
    "#cmass_sgc = cmass_sgc[(cmass_sgc['Z'] > 0.43) & (cmass_sgc['Z'] < 0.7)]\n",
    "#cmass_train = Cuts.SpatialCuts(cmass_sgc, ra=310, ra2=360, dec=-2, dec2=2)\n",
    "cmass_train = Cuts.keepGoodRegion(cmass_sgc)"
   ]
  },
  {
   "cell_type": "code",
   "execution_count": 27,
   "metadata": {},
   "outputs": [],
   "source": [
    "cmass = np.hstack([cmass_ngc, cmass_sgc])"
   ]
  },
  {
   "cell_type": "code",
   "execution_count": 28,
   "metadata": {},
   "outputs": [
    {
     "name": "stdout",
     "output_type": "stream",
     "text": [
      "12422.0\n"
     ]
    }
   ],
   "source": [
    "print np.sum(cmass_train['WEIGHT_CP'])"
   ]
  },
  {
   "cell_type": "code",
   "execution_count": 29,
   "metadata": {},
   "outputs": [],
   "source": []
  },
  {
   "cell_type": "code",
   "execution_count": 12,
   "metadata": {},
   "outputs": [],
   "source": [
    "cmass_mock_fileN = np.loadtxt(path+'patchy_mock/Patchy-Mocks-DR12CMASS-N-V6C-Portsmouth-mass_0011.dat')\n",
    "cmass_mock_fileS = np.loadtxt(path+'patchy_mock/Patchy-Mocks-DR12CMASS-S-V6C-Portsmouth-mass_0011.dat')\n",
    "cmass_mock_file = np.vstack([cmass_mock_fileN, cmass_mock_fileS])"
   ]
  },
  {
   "cell_type": "code",
   "execution_count": 13,
   "metadata": {},
   "outputs": [],
   "source": [
    "#cmass_mock_file = np.loadtxt(path+'patchy_mock/Patchy-Mocks-DR12CMASS-N-V6C-Portsmouth-mass_0001.dat')\n",
    "cmass_mock = np.zeros( (cmass_mock_file.shape[0],), dtype = [('RA', 'float'), ('DEC', 'float'), ('Z', 'float'),('VETO_FLAG', 'int')])\n",
    "cmass_mock['RA'] = cmass_mock_file[:,0]\n",
    "cmass_mock['DEC'] = cmass_mock_file[:,1]\n",
    "cmass_mock['Z'] = cmass_mock_file[:,2]\n",
    "cmass_mock['VETO_FLAG'] = cmass_mock_file[:,6]\n",
    "#cmass_mock = cmass_mock[(cmass_mock['Z'] > 0.43) & (cmass_mock['Z'] < 0.7)]\n",
    "cmass_mock = cmass_mock[ cmass_mock['VETO_FLAG'] == 1]\n",
    "\n",
    "cmass_mock = BOSSvetoing(cmass_mock, option = 'all')"
   ]
  },
  {
   "cell_type": "code",
   "execution_count": 14,
   "metadata": {},
   "outputs": [],
   "source": [
    "cmass_mock_fileN, cmass_mock_fileS, cmass_mock_file = None, None, None"
   ]
  },
  {
   "cell_type": "code",
   "execution_count": 69,
   "metadata": {},
   "outputs": [],
   "source": [
    "def CalculateNumDensityArea(cat, hpix, area_frac = None, weight = 'DES', weight_value = None):\n",
    "    \n",
    "    if weight_value is None : weight_value = np.ones(cat.size)\n",
    "    Npix = hpix.size\n",
    "    hpind = hpRaDecToHEALPixel(cat['RA'], cat['DEC'], nside=4096, nest= False)\n",
    "    vetoobjmask = np.in1d( hpind, hpix )\n",
    "    \n",
    "    pixarea = hp.nside2pixarea( 4096, degrees = True)\n",
    "    TotalArea = Npix * pixarea\n",
    "    \n",
    "    if weight is 'DES' :\n",
    "        try:\n",
    "            TotalArea = np.sum( area_frac ) * pixarea\n",
    "            #ncat = np.sum( cat['EachProb_CMASS'][vetoobjmask] )\n",
    "            ncat = np.sum( (cat['EachProb_CMASS'] * weight_value )[vetoobjmask] )\n",
    "            num_density = ncat * 1./TotalArea\n",
    "            #print ' Nobj', ncat\n",
    "            print 'total area', TotalArea\n",
    "            \n",
    "        except ZeroDivisionError: num_density = 0.0\n",
    "        \n",
    "    elif weight is True :\n",
    "        #vetoobj = cat[vetoobjmask]\n",
    "        ncat = np.sum( (cat['WEIGHT_SYSTOT']*( cat['WEIGHT_CP'] +cat['WEIGHT_NOZ'] - 1 ))[vetoobjmask] ) \n",
    "        try : num_density = ncat * 1./TotalArea \n",
    "        except ZeroDivisionError: num_density = 0.0\n",
    "        #print ' Nobj', ncat\n",
    "        \n",
    "    elif weight is False :\n",
    "        ncat = cat[vetoobjmask].size\n",
    "        num_density = ncat *1./TotalArea\n",
    "        \n",
    "    else : print 'something is wrong!!!'\n",
    "    \n",
    "    #print ' Nobj', ncat\n",
    "    return num_density"
   ]
  },
  {
   "cell_type": "code",
   "execution_count": 36,
   "metadata": {},
   "outputs": [],
   "source": [
    "# add jack knife error\n",
    "def jkerror( catalog, random, njack = 10 ):\n",
    "    import os\n",
    "    #from suchyta_utils import _jkfunctions as _jk\n",
    "\n",
    "    # jk error\n",
    "    jkfile = './jkregion.txt'\n",
    "    jk.GenerateJKRegions( catalog['RA'], catalog['DEC'], njack, jkfile)\n",
    "    jktest = jk.SphericalJK( target = CalculateNumDensity, jkargs=[catalog, random], jkargsby=[['RA', 'DEC'],['RA', 'DEC']], \\\n",
    "                            nojkargs=[], regions = jkfile)\n",
    "    jktest.DoJK( regions = jkfile )\n",
    "    jkresults = jktest.GetResults(jk=True, full = True)\n",
    "\n",
    "    \n",
    "    full_j = jkresults['full']   \n",
    "    it = jkresults['it']\n",
    "    it_j = jkresults['jk']\n",
    "\n",
    "    norm = (njack-1)*1./njack\n",
    "    #cov = np.std(it_j)**2 * norm\n",
    "    cov = np.sum((it_j - it_j.mean())**2) * norm\n",
    "    \n",
    "    \n",
    "    os.remove(jkfile)\n",
    "    return it_j.mean(), it_j, np.sqrt(cov)"
   ]
  },
  {
   "cell_type": "code",
   "execution_count": 22,
   "metadata": {
    "collapsed": true
   },
   "outputs": [
    {
     "ename": "NameError",
     "evalue": "name 'BOSSCleanMaskSGC' is not defined",
     "output_type": "error",
     "traceback": [
      "\u001b[0;31m---------------------------------------------------------------------------\u001b[0m",
      "\u001b[0;31mNameError\u001b[0m                                 Traceback (most recent call last)",
      "\u001b[0;32m<ipython-input-22-d2579d5c47ef>\u001b[0m in \u001b[0;36m<module>\u001b[0;34m()\u001b[0m\n\u001b[0;32m----> 1\u001b[0;31m \u001b[0mBOSSCleanMask\u001b[0m \u001b[0;34m=\u001b[0m \u001b[0mnp\u001b[0m\u001b[0;34m.\u001b[0m\u001b[0mhstack\u001b[0m\u001b[0;34m(\u001b[0m\u001b[0;34m[\u001b[0m\u001b[0mBOSSCleanMaskSGC\u001b[0m\u001b[0;34m[\u001b[0m\u001b[0;34m'PIXEL'\u001b[0m\u001b[0;34m]\u001b[0m\u001b[0;34m,\u001b[0m \u001b[0mBOSSCleanMaskNGC\u001b[0m\u001b[0;34m[\u001b[0m\u001b[0;34m'PIXEL'\u001b[0m\u001b[0;34m]\u001b[0m\u001b[0;34m]\u001b[0m\u001b[0;34m)\u001b[0m\u001b[0;34m\u001b[0m\u001b[0m\n\u001b[0m\u001b[1;32m      2\u001b[0m \u001b[0mNarr\u001b[0m \u001b[0;34m=\u001b[0m \u001b[0mBOSSCleanMask\u001b[0m\u001b[0;34m.\u001b[0m\u001b[0msize\u001b[0m\u001b[0;34m/\u001b[0m\u001b[0;36m615362\u001b[0m \u001b[0;31m#600000\u001b[0m\u001b[0;34m\u001b[0m\u001b[0m\n\u001b[1;32m      3\u001b[0m \u001b[0mHIND_BOSSCleanMask\u001b[0m \u001b[0;34m=\u001b[0m \u001b[0mnp\u001b[0m\u001b[0;34m.\u001b[0m\u001b[0msplit\u001b[0m\u001b[0;34m(\u001b[0m \u001b[0mBOSSCleanMask\u001b[0m\u001b[0;34m[\u001b[0m\u001b[0;34m:\u001b[0m\u001b[0;36m615362\u001b[0m\u001b[0;34m*\u001b[0m\u001b[0mNarr\u001b[0m\u001b[0;34m]\u001b[0m\u001b[0;34m,\u001b[0m \u001b[0mNarr\u001b[0m\u001b[0;34m)\u001b[0m\u001b[0;34m\u001b[0m\u001b[0m\n\u001b[1;32m      4\u001b[0m \u001b[0;31m#HIND_CMASSCleanMask = np.array_split( BOSSCleanMask, BOSSCleanMask.size/600000)\u001b[0m\u001b[0;34m\u001b[0m\u001b[0;34m\u001b[0m\u001b[0m\n\u001b[1;32m      5\u001b[0m \u001b[0;34m\u001b[0m\u001b[0m\n",
      "\u001b[0;31mNameError\u001b[0m: name 'BOSSCleanMaskSGC' is not defined"
     ]
    }
   ],
   "source": [
    "BOSSCleanMask = np.hstack([BOSSCleanMaskSGC['PIXEL'], BOSSCleanMaskNGC['PIXEL']])\n",
    "Narr = BOSSCleanMask.size/615362 #600000\n",
    "HIND_BOSSCleanMask = np.split( BOSSCleanMask[:615362*Narr], Narr)\n",
    "#HIND_CMASSCleanMask = np.array_split( BOSSCleanMask, BOSSCleanMask.size/600000)\n",
    "\n",
    "\n",
    "n_density_CMASS = np.zeros(len(HIND_CMASSCleanMask))\n",
    "i = 0\n",
    "for vind in HIND_CMASSCleanMask:\n",
    "    print '\\r', i, '/',len(HIND_CMASSCleanMask),\n",
    "    n_density_CMASS[i] = CalculateNumDensityArea(cmass, vind, weight = True )\n",
    "    i += 1\n",
    "\n",
    "    \n",
    "avg_n_density_cmass = n_density_CMASS * 1./n_density_CMASS.mean()\n",
    "mean_n_density_cmass = np.mean(avg_n_density_cmass)\n",
    "std_n_density_cmass = np.std(avg_n_density_cmass)\n",
    "area_cmass = hp.nside2pixarea( 4096, degrees = True) * HIND_CMASSCleanMask[0].size\n",
    "print 'Area', area_cmass"
   ]
  },
  {
   "cell_type": "code",
   "execution_count": 125,
   "metadata": {},
   "outputs": [
    {
     "data": {
      "text/plain": [
       "array([103908805, 103908806, 103908807, ..., 107053888, 107053889,\n",
       "       107053890], dtype=int32)"
      ]
     },
     "execution_count": 125,
     "metadata": {},
     "output_type": "execute_result"
    }
   ],
   "source": [
    "BOSSCleanMaskNGC['PIXEL'][-( BOSSCleanMaskNGC['PIXEL'].size - 615362*Narr):]"
   ]
  },
  {
   "cell_type": "code",
   "execution_count": 205,
   "metadata": {},
   "outputs": [
    {
     "name": "stdout",
     "output_type": "stream",
     "text": [
      "301656\n",
      "53 / 53                                                    Area 121.91887668472759\n",
      "number of hpix 595000 595000\n"
     ]
    }
   ],
   "source": [
    "nfactor = 595000 #606000 #595000\n",
    "Narr = BOSSCleanMaskNGC['PIXEL'].size/nfactor #615362 #600000\n",
    "HIND_BOSSCleanMaskNGC = np.split( BOSSCleanMaskNGC['PIXEL'][:nfactor*Narr], Narr)\n",
    "remain = [BOSSCleanMaskNGC['PIXEL'][-( BOSSCleanMaskNGC['PIXEL'].size - nfactor*Narr):] ]\n",
    "print remain[0].size\n",
    "#HIND_BOSSCleanMaskNGC = HIND_BOSSCleanMaskNGC + remain\n",
    "#HIND_BOSSCleanMaskNGC = np.array_split( BOSSCleanMaskNGC['PIXEL'], Narr)\n",
    "\n",
    "n_density_ngc = np.zeros(len(HIND_BOSSCleanMaskNGC))\n",
    "i = 0\n",
    "for vind in HIND_BOSSCleanMaskNGC:\n",
    "    print '\\r', i+1, '/',len(HIND_BOSSCleanMaskNGC),\n",
    "    n_density_ngc[i] = CalculateNumDensityArea(cmass_ngc, vind, weight = True )\n",
    "    i += 1\n",
    "    \n",
    "avg_n_density_ngc = n_density_ngc * 1./n_density_ngc.mean()\n",
    "mean_n_density_ngc = np.mean(avg_n_density_ngc)\n",
    "std_n_density_ngc = np.std(avg_n_density_ngc)\n",
    "area_ngc = hp.nside2pixarea( 4096, degrees = True) * HIND_BOSSCleanMaskNGC[0].size\n",
    "print 'Area', area_ngc\n",
    "print 'number of hpix',  len(HIND_BOSSCleanMaskNGC[0]), len(HIND_BOSSCleanMaskNGC[-1])\n"
   ]
  },
  {
   "cell_type": "code",
   "execution_count": 206,
   "metadata": {},
   "outputs": [
    {
     "name": "stdout",
     "output_type": "stream",
     "text": [
      "518238\n",
      "19 / 19 Area 121.91887668472759\n",
      "number of hpix 595000 595000\n"
     ]
    }
   ],
   "source": [
    "nfactor = 595000 #606000 #595000 #606000\n",
    "Narr = BOSSCleanMaskSGC['PIXEL'].size/nfactor #615362 #600000\n",
    "HIND_BOSSCleanMaskSGC = np.split( BOSSCleanMaskSGC['PIXEL'][:nfactor*Narr], Narr)\n",
    "remain = [ BOSSCleanMaskSGC['PIXEL'][-(BOSSCleanMaskSGC['PIXEL'].size - nfactor*Narr):] ]\n",
    "print remain[0].size\n",
    "#HIND_BOSSCleanMaskSGC = HIND_BOSSCleanMaskSGC + remain\n",
    "#HIND_BOSSCleanMaskSGC = np.array_split( BOSSCleanMaskSGC['PIXEL'], Narr)\n",
    "n_density_sgc = np.zeros(len(HIND_BOSSCleanMaskSGC))\n",
    "i = 0\n",
    "for vind in HIND_BOSSCleanMaskSGC:\n",
    "    print '\\r', i+1, '/',len(HIND_BOSSCleanMaskSGC),\n",
    "    n_density_sgc[i] = CalculateNumDensityArea(cmass_sgc, vind, weight = True )\n",
    "    i += 1\n",
    "    \n",
    "avg_n_density_sgc = n_density_sgc * 1./n_density_sgc.mean()\n",
    "mean_n_density_sgc = np.mean(avg_n_density_sgc)\n",
    "std_n_density_sgc = np.std(avg_n_density_sgc)\n",
    "area_sgc = hp.nside2pixarea( 4096, degrees = True) * HIND_BOSSCleanMaskSGC[0].size\n",
    "print 'Area', area_sgc\n",
    "print 'number of hpix',  len(HIND_BOSSCleanMaskSGC[0]), len(HIND_BOSSCleanMaskSGC[-1])"
   ]
  },
  {
   "cell_type": "code",
   "execution_count": 84,
   "metadata": {},
   "outputs": [
    {
     "name": "stdout",
     "output_type": "stream",
     "text": [
      "1 / 10 total area 124.46290230384344\n",
      "2 / 10 total area 124.44393892394314\n",
      "3 / 10 total area 124.14054725709646\n",
      "4 / 10 total area 124.08536679912216\n",
      "5 / 10 total area 124.65981345596373\n",
      "6 / 10 total area 124.80769772366509\n",
      "7 / 10 total area 124.86291660145346\n",
      "8 / 10 total area 123.88177380100288\n",
      "9 / 10 total area 123.87060003840757\n",
      "10 / 10 total area 124.3204768513928\n",
      "Area 1243.5360337558907\n",
      "number of hpix 615363 615362\n"
     ]
    }
   ],
   "source": [
    "Narr = GoldMask_spt['PIXEL'].size/600000\n",
    "#HIND_DMASSCleanMask = np.split( GoldMask_spt['PIXEL'][:600000*Narr], Narr)\n",
    "#remain = [ GoldMask_spt['PIXEL'][-(GoldMask_spt['PIXEL'].size - 600000*Narr):] ]\n",
    "#print remain[0].size\n",
    "#HIND_DMASSCleanMask = HIND_DMASSCleanMask + remain\n",
    "#HIND_DMASSCleanMask = HIND_DMASSCleanMask[:-1]\n",
    "#HIND_DMASSCleanMask = np.array_split( GoldMask_spt['PIXEL'], Narr)\n",
    "HIND_DMASSCleanMask = np.array_split( GoldMask_spt['PIXEL'], Narr)\n",
    "HIND_DMASSCleanMask_frac = np.array_split( GoldMask_spt['FRAC'], Narr)\n",
    "\n",
    "dmass_weight = np.ones(dmass_spt.size)\n",
    "dmass_sysweight = dmass_spt['WEIGHT0_fwhm_r'] * dmass_spt['WEIGHT1_airmass_z']\n",
    "#HIND_DMASSCleanMask = np.array_split( GoldMask_spt['PIXEL'], GoldMask_spt['PIXEL'].size/600000)\n",
    "n_density_dmass = np.zeros(len(HIND_DMASSCleanMask))\n",
    "i = 0\n",
    "for vind, vind_frac in zip(HIND_DMASSCleanMask,HIND_DMASSCleanMask_frac) :\n",
    "    print '\\r', i+1, '/',len(HIND_DMASSCleanMask),\n",
    "    n_density_dmass[i] = CalculateNumDensityArea(dmass_spt, vind, area_frac = vind_frac, weight = 'DES', weight_value=dmass_weight)\n",
    "    i += 1\n",
    "    \n",
    "avg_n_density_dmass = n_density_dmass * 1./n_density_dmass.mean()\n",
    "mean_n_density_dmass = np.mean(avg_n_density_dmass)\n",
    "std_n_density_dmass = np.std(avg_n_density_dmass)\n",
    "#area_dmass = hp.nside2pixarea( 4096, degrees = True) * HIND_DMASSCleanMask[0].size\n",
    "print 'Area', SPTMaparea\n",
    "print 'number of hpix',  len(HIND_DMASSCleanMask[0]), len(HIND_DMASSCleanMask[-1])"
   ]
  },
  {
   "cell_type": "code",
   "execution_count": 180,
   "metadata": {},
   "outputs": [
    {
     "data": {
      "text/plain": [
       "10.050271666666667"
      ]
     },
     "execution_count": 180,
     "metadata": {},
     "output_type": "execute_result"
    }
   ],
   "source": [
    "GoldMask_spt_sysmasked['PIXEL'].size/600000."
   ]
  },
  {
   "cell_type": "code",
   "execution_count": 203,
   "metadata": {},
   "outputs": [
    {
     "name": "stdout",
     "output_type": "stream",
     "text": [
      "1 / 10 total area 121.96147465359026\n",
      "2 / 10 total area 121.96214059703433\n",
      "3 / 10 total area 121.65505102308234\n",
      "4 / 10 total area 121.61245625587084\n",
      "5 / 10 total area 122.16288412560924\n",
      "6 / 10 total area 122.30438109921958\n",
      "7 / 10 total area 122.35716352046497\n",
      "8 / 10 total area 121.37555648059424\n",
      "9 / 10 total area 121.3918849015788\n",
      "10 / 10 total area 121.82518356478795\n",
      "Area 1218.6081762218325\n",
      "number of hpix 603017 603016\n"
     ]
    }
   ],
   "source": [
    "\n",
    "nfactor = 600000\n",
    "\n",
    "#Narr = GoldMask_spt_sysmasked['PIXEL'].size/nfactor\n",
    "#HIND_DMASSCleanMask = np.split( GoldMask_spt_sysmasked['PIXEL'][:nfactor*Narr], Narr)\n",
    "#remain = [ GoldMask_spt_sysmasked['PIXEL'][-(GoldMask_spt_sysmasked['PIXEL'].size - nfactor*Narr):] ]\n",
    "#print remain[0].size\n",
    "#HIND_DMASSCleanMask = HIND_DMASSCleanMask + remain\n",
    "\n",
    "#HIND_DMASSCleanMask_frac = np.split( GoldMask_spt_sysmasked['FRAC'][:nfactor*Narr], Narr)\n",
    "#remain_frac = [ GoldMask_spt_sysmasked['FRAC'][-(GoldMask_spt_sysmasked['FRAC'].size - nfactor*Narr):] ]\n",
    "#print remain_frac[0].size\n",
    "#HIND_DMASSCleanMask_frac = HIND_DMASSCleanMask_frac + remain_frac\n",
    "\n",
    "HIND_DMASSCleanMask = np.array_split( GoldMask_spt_sysmasked['PIXEL'], Narr)\n",
    "HIND_DMASSCleanMask_frac = np.array_split( GoldMask_spt_sysmasked['FRAC'], Narr)\n",
    "\n",
    "dmass_weight = np.ones(dmass_spt.size)\n",
    "dmass_sysweight = dmass_spt['WEIGHT0_fwhm_r'] * dmass_spt['WEIGHT1_airmass_z']\n",
    "#HIND_DMASSCleanMask = np.array_split( GoldMask_spt['PIXEL'], GoldMask_spt['PIXEL'].size/600000)\n",
    "n_density_dmass_sys = np.zeros(len(HIND_DMASSCleanMask))\n",
    "i = 0\n",
    "for vind, vind_frac in zip(HIND_DMASSCleanMask,HIND_DMASSCleanMask_frac) :\n",
    "    print '\\r', i+1, '/',len(HIND_DMASSCleanMask),\n",
    "    n_density_dmass_sys[i] = CalculateNumDensityArea(dmass_spt, vind, area_frac = vind_frac, weight = 'DES', weight_value=dmass_sysweight)\n",
    "    i += 1\n",
    "    \n",
    "avg_n_density_dmass_sys = n_density_dmass_sys * 1./n_density_dmass_sys.mean()\n",
    "mean_n_density_dmass_sys = np.mean(avg_n_density_dmass_sys)\n",
    "std_n_density_dmass_sys = np.std(avg_n_density_dmass_sys)\n",
    "area_dmass_sys = hp.nside2pixarea( 4096, degrees = True) * np.sum(vind_frac)\n",
    "print 'Area', SPTMaparea_sys\n",
    "print 'number of hpix',  len(HIND_DMASSCleanMask[0]), len(HIND_DMASSCleanMask[-1])"
   ]
  },
  {
   "cell_type": "code",
   "execution_count": 40,
   "metadata": {
    "collapsed": true
   },
   "outputs": [
    {
     "name": "stdout",
     "output_type": "stream",
     "text": [
      "\r",
      "1 / 70"
     ]
    },
    {
     "ename": "NameError",
     "evalue": "name 'cmass_mock' is not defined",
     "output_type": "error",
     "traceback": [
      "\u001b[0;31m---------------------------------------------------------------------------\u001b[0m",
      "\u001b[0;31mNameError\u001b[0m                                 Traceback (most recent call last)",
      "\u001b[0;32m<ipython-input-40-5f4d55fc3d1a>\u001b[0m in \u001b[0;36m<module>\u001b[0;34m()\u001b[0m\n\u001b[1;32m     10\u001b[0m \u001b[0;32mfor\u001b[0m \u001b[0mvind\u001b[0m \u001b[0;32min\u001b[0m \u001b[0mHIND_MockCleanMask\u001b[0m\u001b[0;34m:\u001b[0m\u001b[0;34m\u001b[0m\u001b[0m\n\u001b[1;32m     11\u001b[0m     \u001b[0;32mprint\u001b[0m \u001b[0;34m'\\r'\u001b[0m\u001b[0;34m,\u001b[0m \u001b[0mi\u001b[0m\u001b[0;34m+\u001b[0m\u001b[0;36m1\u001b[0m\u001b[0;34m,\u001b[0m \u001b[0;34m'/'\u001b[0m\u001b[0;34m,\u001b[0m\u001b[0mlen\u001b[0m\u001b[0;34m(\u001b[0m\u001b[0mHIND_MockCleanMask\u001b[0m\u001b[0;34m)\u001b[0m\u001b[0;34m,\u001b[0m\u001b[0;34m\u001b[0m\u001b[0m\n\u001b[0;32m---> 12\u001b[0;31m     \u001b[0mn_density_mock\u001b[0m\u001b[0;34m[\u001b[0m\u001b[0mi\u001b[0m\u001b[0;34m]\u001b[0m \u001b[0;34m=\u001b[0m \u001b[0mCalculateNumDensityArea\u001b[0m\u001b[0;34m(\u001b[0m\u001b[0mcmass_mock\u001b[0m\u001b[0;34m,\u001b[0m \u001b[0mvind\u001b[0m\u001b[0;34m,\u001b[0m \u001b[0mweight\u001b[0m \u001b[0;34m=\u001b[0m \u001b[0mFalse\u001b[0m \u001b[0;34m)\u001b[0m\u001b[0;34m\u001b[0m\u001b[0m\n\u001b[0m\u001b[1;32m     13\u001b[0m     \u001b[0mi\u001b[0m \u001b[0;34m+=\u001b[0m \u001b[0;36m1\u001b[0m\u001b[0;34m\u001b[0m\u001b[0m\n\u001b[1;32m     14\u001b[0m \u001b[0mavg_n_density_mock\u001b[0m \u001b[0;34m=\u001b[0m \u001b[0mn_density_mock\u001b[0m \u001b[0;34m*\u001b[0m \u001b[0;36m1.\u001b[0m\u001b[0;34m/\u001b[0m\u001b[0mn_density_mock\u001b[0m\u001b[0;34m.\u001b[0m\u001b[0mmean\u001b[0m\u001b[0;34m(\u001b[0m\u001b[0;34m)\u001b[0m\u001b[0;34m\u001b[0m\u001b[0m\n",
      "\u001b[0;31mNameError\u001b[0m: name 'cmass_mock' is not defined"
     ]
    }
   ],
   "source": [
    "BOSSCleanMask = np.hstack([BOSSCleanMaskSGC['PIXEL'], BOSSCleanMaskNGC['PIXEL']])\n",
    "\n",
    "Narr = BOSSCleanMask.size/615362 #600000\n",
    "HIND_MockCleanMask = np.split( BOSSCleanMask[:615362*Narr], Narr)\n",
    "#HIND_MockCleanMask = np.array_split( BOSSCleanMask, Narr)\n",
    "\n",
    "#HIND_MockCleanMask = np.array_split( BOSSCleanMask, BOSSCleanMask.size/600000)\n",
    "n_density_mock = np.zeros(len(HIND_MockCleanMask))\n",
    "i = 0\n",
    "for vind in HIND_MockCleanMask:\n",
    "    print '\\r', i+1, '/',len(HIND_MockCleanMask),\n",
    "    n_density_mock[i] = CalculateNumDensityArea(cmass_mock, vind, weight = False )\n",
    "    i += 1\n",
    "avg_n_density_mock = n_density_mock * 1./n_density_mock.mean()\n",
    "mean_n_density_mock = np.mean(avg_n_density_mock)\n",
    "std_n_density_mock = np.std(avg_n_density_mock)\n",
    "area_mock = hp.nside2pixarea( 4096, degrees = True) * HIND_MockCleanMask[0].size\n",
    "print 'Area', area_mock\n",
    "print 'number of hpix',  len(HIND_MockCleanMask[0]), len(HIND_MockCleanMask[-1])"
   ]
  },
  {
   "cell_type": "code",
   "execution_count": 86,
   "metadata": {},
   "outputs": [
    {
     "name": "stdout",
     "output_type": "stream",
     "text": [
      "total area 1243.5360337558907\n",
      "total area 1218.6081762218325\n",
      "total area 123.17511816060514\n",
      "101.20055154260801 102.5946881317251\n"
     ]
    }
   ],
   "source": [
    "#ntotal_CMASS = CalculateNumDensityArea(cmass, BOSSCleanMask, weight =  True)\n",
    "#ntotal_MOCK = CalculateNumDensityArea(cmass_mock, BOSSCleanMask, weight =  False)\n",
    "ntotal_NGC = CalculateNumDensityArea(cmass_ngc, BOSSCleanMaskNGC['PIXEL'], weight = True)\n",
    "ntotal_SGC = CalculateNumDensityArea(cmass_sgc, BOSSCleanMaskSGC['PIXEL'], weight = True)\n",
    "ntotal_DMASS = CalculateNumDensityArea(dmass_spt, GoldMask_spt['PIXEL'], area_frac = GoldMask_spt['FRAC'], weight = 'DES')\n",
    "ntotal_DMASS_sys = CalculateNumDensityArea(dmass_spt, GoldMask_spt_sysmasked['PIXEL'], area_frac = GoldMask_spt_sysmasked['FRAC'], \\\n",
    "                                           weight = 'DES', weight_value=dmass_sysweight)\n",
    "ntotal_st82 = CalculateNumDensityArea(train, GoldMask_st82['PIXEL'], weight = False)\n",
    "ntotal_dmass_st82 = CalculateNumDensityArea(dmass_st82, GoldMask_st82['PIXEL'], area_frac = GoldMask_st82['FRAC'], weight = 'DES')\n",
    "\n",
    "#print ntotal_CMASS, ntotal_MOCK, ntotal_NGC, ntotal_SGC, ntotal_DMASS\n",
    "print ntotal_st82, ntotal_dmass_st82"
   ]
  },
  {
   "cell_type": "code",
   "execution_count": 129,
   "metadata": {},
   "outputs": [
    {
     "name": "stdout",
     "output_type": "stream",
     "text": [
      "num of pixels in one patch : 606000\n",
      "SPT weighted area  1243.5360337558907\n"
     ]
    },
    {
     "data": {
      "image/png": "[encoded data removed]",
      "text/plain": [
       "<matplotlib.figure.Figure at 0x7fe81ce45b50>"
      ]
     },
     "metadata": {
      "needs_background": "light"
     },
     "output_type": "display_data"
    }
   ],
   "source": [
    "# plot------------------\n",
    "fig,(ax, ax2, ax3) = plt.subplots(1, 3, figsize = (17, 5))\n",
    "\n",
    "\n",
    "ax.axhspan( mean_n_density_ngc - std_n_density_ngc, mean_n_density_ngc + std_n_density_ngc, alpha=0.3, color='grey')#, label = r'\\rm 68% confidence}')\n",
    "ax.axhspan( mean_n_density_ngc - 2*std_n_density_ngc, mean_n_density_ngc + 2*std_n_density_ngc, alpha=0.1, color='grey')#, label = r'\\rm 68 % confidence}')\n",
    "#ax.axhspan( 1. - 2*defined_sigma_st82/mean, 1 + 2*defined_sigma_st82/mean, alpha=0.1, color='grey', linestyle = None, label = '95 % confidence')\n",
    "#ax.errorbar( np.arange(n_density_ngc_norm.size), n_density_ngc_norm, yerr = err_ngc, fmt='o' )\n",
    "ax.plot( np.arange(avg_n_density_ngc.size), avg_n_density_ngc, marker = '.' , linestyle = 'none', color = 'black' )\n",
    "ax.plot( avg_n_density_ngc.size/2., ntotal_st82/n_density_ngc.mean(), marker = '*', color = 'red',  markersize = 10, linestyle = 'none', label = r'{\\rm train}')\n",
    "ax.plot( avg_n_density_ngc.size/2., ntotal_DMASS/n_density_ngc.mean(), marker = '*', color = 'blue',  markersize = 10, linestyle = 'none', label = r'{\\rm DMASS}')\n",
    "\n",
    "ax.axhline(y = mean_n_density_ngc, linestyle='--', color = 'grey')\n",
    "ax.set_title(r'{\\rm CMASS NGC}', fontsize = 20)\n",
    "ax.set_ylim(0.85, 1.15)\n",
    "ax.legend(loc=4, fontsize = 15)\n",
    "ax.set_ylabel(r'$n_i / \\langle n \\rangle$', fontsize = 20)\n",
    "ax.set_xlabel(r'{\\rm patch index $i$}', fontsize = 20)\n",
    "ax.text(0, 1.12, r'{\\rm  Patch area }'+ r'${:0.0f} \\deg^2$'.format(area_ngc), fontsize = 15)\n",
    "#ax.text(0, 1.10, r'{\\rm  St82 area }'+ r'${:0.0f} \\deg^2$'.format(123), fontsize = 15)\n",
    "ax.tick_params(labelsize = 15)\n",
    "\n",
    "\n",
    "ax2.axhspan( mean_n_density_sgc - std_n_density_sgc, mean_n_density_sgc + std_n_density_sgc, alpha=0.3, color='grey')#, label = '68 % confidence')\n",
    "ax2.axhspan( mean_n_density_sgc - 2*std_n_density_sgc, mean_n_density_sgc + 2*std_n_density_sgc, alpha=0.1, color='grey')#, label = '68 % confidence')\n",
    "#ax.axhspan( 1. - 2*defined_sigma_st82/mean, 1 + 2*defined_sigma_st82/mean, alpha=0.1, color='grey', linestyle = None, label = '95 % confidence')\n",
    "#ax.errorbar( np.arange(n_density_ngc_norm.size), n_density_ngc_norm, yerr = err_ngc, fmt='o' )\n",
    "ax2.plot( np.arange(avg_n_density_sgc.size), avg_n_density_sgc, marker = '.' , linestyle = 'none', color = 'black' )\n",
    "ax2.plot( avg_n_density_sgc.size/2., ntotal_st82/n_density_sgc.mean(), marker = '*', color = 'red',  markersize = 10, linestyle = 'none', label = r'{\\rm TRAIN}')\n",
    "ax2.plot( avg_n_density_sgc.size/2., ntotal_DMASS/n_density_sgc.mean(), marker = '*', color = 'blue',  markersize = 10, linestyle = 'none', label = r'{\\rm DMASS}')\n",
    "ax2.axhline(y = mean_n_density_sgc, linestyle='--', color = 'grey')\n",
    "\n",
    "ax2.set_title(r'{\\rm CMASS SGC}', fontsize = 20)\n",
    "ax2.set_ylim(0.85, 1.15)\n",
    "#ax2.legend(loc=4, fontsize = 15)\n",
    "ax2.set_ylabel(r'$n_i / \\langle n \\rangle$', fontsize = 20)\n",
    "ax2.set_xlabel(r'{\\rm patch index $i$}', fontsize = 20)\n",
    "ax2.text(0, 1.12, r'{\\rm  Patch area }'+ r'${:0.0f} \\deg^2$'.format(area_sgc), fontsize = 15)\n",
    "#ax2.text(0, 1.10, r'{\\rm  St82 area }'+ r'${:0.0f} \\deg^2$'.format(123), fontsize = 15)\n",
    "ax2.tick_params(labelsize = 15)\n",
    "\n",
    "\n",
    "\n",
    "ax3.axhspan( mean_n_density_dmass - std_n_density_dmass, mean_n_density_dmass + std_n_density_dmass, alpha=0.3, color='grey', label = '68 % confidence')\n",
    "ax3.axhspan( mean_n_density_dmass - 2*std_n_density_dmass, mean_n_density_dmass + 2*std_n_density_dmass, alpha=0.1, color='grey', label = '68 % confidence')\n",
    "#ax.axhspan( 1. - 2*defined_sigma_st82/mean, 1 + 2*defined_sigma_st82/mean, alpha=0.1, color='grey', linestyle = None, label = '95 % confidence')\n",
    "#ax.errorbar( np.arange(n_density_ngc_norm.size), n_density_ngc_norm, yerr = err_ngc, fmt='o' )\n",
    "ax3.plot( np.arange(avg_n_density_dmass.size), avg_n_density_dmass, marker = '.' , linestyle = 'none', color = 'black' )\n",
    "ax3.plot( avg_n_density_dmass.size/2., ntotal_st82/n_density_dmass.mean(), marker = '*', color = 'red',  markersize = 10, linestyle = 'none', label = 'TRAIN')\n",
    "ax3.axhline(y = mean_n_density_dmass, linestyle='--', color = 'grey')\n",
    "\n",
    "ax3.set_title(r'{\\rm DMASS}', fontsize = 20)\n",
    "ax3.set_ylim(0.85, 1.15)\n",
    "#ax3.legend(loc=4, fontsize = 15)\n",
    "ax3.set_ylabel(r'$n_i / \\langle n \\rangle$', fontsize = 20)\n",
    "ax3.set_xlabel(r'{\\rm patch index $i$}', fontsize = 20)\n",
    "ax3.text(0, 1.12, r'{\\rm  Patch area }'+ r'${:0.0f} \\deg^2$'.format(area_dmass), fontsize = 15)\n",
    "#ax3.text(0, 1.10, r'{\\rm  St82 area }'+ r'${:0.0f} \\deg^2$'.format(123), fontsize = 15)\n",
    "ax3.tick_params(labelsize = 15)\n",
    "\n",
    "fig.tight_layout()\n",
    "fig.savefig('../paper_figure/ndensity-areafrac.pdf')\n",
    "\n",
    "print 'num of pixels in one patch :', nfactor\n",
    "print 'SPT weighted area ', SPTMaparea"
   ]
  },
  {
   "cell_type": "code",
   "execution_count": 208,
   "metadata": {},
   "outputs": [
    {
     "name": "stdout",
     "output_type": "stream",
     "text": [
      "num of pixels in one patch : 595000\n",
      "SPT weighted area  1218.6081762218325\n"
     ]
    },
    {
     "data": {
      "image/png": "[encoded data removed]",
      "text/plain": [
       "<matplotlib.figure.Figure at 0x7fe81cee2810>"
      ]
     },
     "metadata": {
      "needs_background": "light"
     },
     "output_type": "display_data"
    }
   ],
   "source": [
    "# plot------------------\n",
    "fig,(ax, ax2, ax3) = plt.subplots(1, 3, figsize = (17, 5))\n",
    "\n",
    "\n",
    "ax.axhspan( mean_n_density_ngc - std_n_density_ngc, mean_n_density_ngc + std_n_density_ngc, alpha=0.3, color='grey')#, label = r'\\rm 68% confidence}')\n",
    "ax.axhspan( mean_n_density_ngc - 2*std_n_density_ngc, mean_n_density_ngc + 2*std_n_density_ngc, alpha=0.1, color='grey')#, label = r'\\rm 68 % confidence}')\n",
    "#ax.axhspan( 1. - 2*defined_sigma_st82/mean, 1 + 2*defined_sigma_st82/mean, alpha=0.1, color='grey', linestyle = None, label = '95 % confidence')\n",
    "#ax.errorbar( np.arange(n_density_ngc_norm.size), n_density_ngc_norm, yerr = err_ngc, fmt='o' )\n",
    "ax.plot( np.arange(avg_n_density_ngc.size), avg_n_density_ngc, marker = '.' , linestyle = 'none', color = 'black' )\n",
    "ax.plot( avg_n_density_ngc.size/2., ntotal_st82/n_density_ngc.mean(), marker = '*', color = 'red',  markersize = 10, linestyle = 'none', label = r'{\\rm train}')\n",
    "ax.plot( avg_n_density_ngc.size/2., ntotal_DMASS_sys/n_density_ngc.mean(), marker = '*', color = 'blue',  markersize = 10, linestyle = 'none', label = r'{\\rm DMASS}')\n",
    "\n",
    "ax.axhline(y = mean_n_density_ngc, linestyle='--', color = 'grey')\n",
    "ax.set_title(r'{\\rm CMASS NGC}', fontsize = 20)\n",
    "ax.set_ylim(0.85, 1.15)\n",
    "ax.legend(loc=4, fontsize = 15)\n",
    "ax.set_ylabel(r'$n_i / \\langle n \\rangle$', fontsize = 20)\n",
    "ax.set_xlabel(r'{\\rm patch index $i$}', fontsize = 20)\n",
    "ax.text(0, 1.12, r'{\\rm  Patch area }'+ r'${:0.0f} \\deg^2$'.format(area_ngc), fontsize = 15)\n",
    "#ax.text(0, 1.10, r'{\\rm  St82 area }'+ r'${:0.0f} \\deg^2$'.format(123), fontsize = 15)\n",
    "ax.tick_params(labelsize = 15)\n",
    "\n",
    "\n",
    "ax2.axhspan( mean_n_density_sgc - std_n_density_sgc, mean_n_density_sgc + std_n_density_sgc, alpha=0.3, color='grey')#, label = '68 % confidence')\n",
    "ax2.axhspan( mean_n_density_sgc - 2*std_n_density_sgc, mean_n_density_sgc + 2*std_n_density_sgc, alpha=0.1, color='grey')#, label = '68 % confidence')\n",
    "#ax.axhspan( 1. - 2*defined_sigma_st82/mean, 1 + 2*defined_sigma_st82/mean, alpha=0.1, color='grey', linestyle = None, label = '95 % confidence')\n",
    "#ax.errorbar( np.arange(n_density_ngc_norm.size), n_density_ngc_norm, yerr = err_ngc, fmt='o' )\n",
    "ax2.plot( np.arange(avg_n_density_sgc.size), avg_n_density_sgc, marker = '.' , linestyle = 'none', color = 'black' )\n",
    "ax2.plot( avg_n_density_sgc.size/2., ntotal_st82/n_density_sgc.mean(), marker = '*', color = 'red',  markersize = 10, linestyle = 'none', label = r'{\\rm TRAIN}')\n",
    "ax2.plot( avg_n_density_sgc.size/2., ntotal_DMASS_sys/n_density_sgc.mean(), marker = '*', color = 'blue',  markersize = 10, linestyle = 'none', label = r'{\\rm DMASS}')\n",
    "ax2.axhline(y = mean_n_density_sgc, linestyle='--', color = 'grey')\n",
    "\n",
    "ax2.set_title(r'{\\rm CMASS SGC}', fontsize = 20)\n",
    "ax2.set_ylim(0.85, 1.15)\n",
    "#ax2.legend(loc=4, fontsize = 15)\n",
    "ax2.set_ylabel(r'$n_i / \\langle n \\rangle$', fontsize = 20)\n",
    "ax2.set_xlabel(r'{\\rm patch index $i$}', fontsize = 20)\n",
    "ax2.text(0, 1.12, r'{\\rm  Patch area }'+ r'${:0.0f} \\deg^2$'.format(area_sgc), fontsize = 15)\n",
    "#ax2.text(0, 1.10, r'{\\rm  St82 area }'+ r'${:0.0f} \\deg^2$'.format(123), fontsize = 15)\n",
    "ax2.tick_params(labelsize = 15)\n",
    "\n",
    "\n",
    "\n",
    "ax3.axhspan( mean_n_density_dmass_sys - std_n_density_dmass_sys, mean_n_density_dmass_sys + std_n_density_dmass_sys, alpha=0.3, color='grey', label = '68 % confidence')\n",
    "ax3.axhspan( mean_n_density_dmass_sys - 2*std_n_density_dmass_sys, mean_n_density_dmass_sys + 2*std_n_density_dmass_sys, alpha=0.1, color='grey', label = '68 % confidence')\n",
    "#ax.axhspan( 1. - 2*defined_sigma_st82/mean, 1 + 2*defined_sigma_st82/mean, alpha=0.1, color='grey', linestyle = None, label = '95 % confidence')\n",
    "#ax.errorbar( np.arange(n_density_ngc_norm.size), n_density_ngc_norm, yerr = err_ngc, fmt='o' )\n",
    "ax3.plot( np.arange(avg_n_density_dmass_sys.size), avg_n_density_dmass_sys, marker = '.' , linestyle = 'none', color = 'black' )\n",
    "ax3.plot( avg_n_density_dmass_sys.size/2., ntotal_st82/n_density_dmass_sys.mean(), marker = '*', color = 'red',  markersize = 10, linestyle = 'none', label = 'TRAIN')\n",
    "ax3.axhline(y = mean_n_density_dmass_sys, linestyle='--', color = 'grey')\n",
    "\n",
    "ax3.set_title(r'{\\rm DMASS sys}', fontsize = 20)\n",
    "ax3.set_ylim(0.85, 1.15)\n",
    "#ax3.legend(loc=4, fontsize = 15)\n",
    "ax3.set_ylabel(r'$n_i / \\langle n \\rangle$', fontsize = 20)\n",
    "ax3.set_xlabel(r'{\\rm patch index $i$}', fontsize = 20)\n",
    "ax3.text(0, 1.12, r'{\\rm  Patch area }'+ r'${:0.0f} \\deg^2$'.format(122), fontsize = 15)\n",
    "#ax3.text(0, 1.10, r'{\\rm  St82 area }'+ r'${:0.0f} \\deg^2$'.format(123), fontsize = 15)\n",
    "ax3.tick_params(labelsize = 15)\n",
    "\n",
    "fig.tight_layout()\n",
    "#fig.savefig('../paper_figure/ndensity-areafrac-sys.pdf')\n",
    "\n",
    "print 'num of pixels in one patch :', nfactor\n",
    "print 'SPT weighted area ', SPTMaparea_sys"
   ]
  },
  {
   "cell_type": "code",
   "execution_count": 207,
   "metadata": {},
   "outputs": [
    {
     "name": "stdout",
     "output_type": "stream",
     "text": [
      "num of pixels in one patch : 595000\n",
      "SPT weighted area  1243.5360337558907\n"
     ]
    },
    {
     "data": {
      "image/png": "[encoded data removed]",
      "text/plain": [
       "<matplotlib.figure.Figure at 0x7fe748c12d50>"
      ]
     },
     "metadata": {
      "needs_background": "light"
     },
     "output_type": "display_data"
    }
   ],
   "source": [
    "# plot------------------\n",
    "fig,(ax, ax2, ax3, ax4) = plt.subplots(1, 4, figsize = (25, 5))\n",
    "\n",
    "\n",
    "ax.axhspan( mean_n_density_ngc - std_n_density_ngc, mean_n_density_ngc + std_n_density_ngc, alpha=0.3, color='grey')#, label = r'\\rm 68% confidence}')\n",
    "ax.axhspan( mean_n_density_ngc - 2*std_n_density_ngc, mean_n_density_ngc + 2*std_n_density_ngc, alpha=0.1, color='grey')#, label = r'\\rm 68 % confidence}')\n",
    "#ax.axhspan( 1. - 2*defined_sigma_st82/mean, 1 + 2*defined_sigma_st82/mean, alpha=0.1, color='grey', linestyle = None, label = '95 % confidence')\n",
    "#ax.errorbar( np.arange(n_density_ngc_norm.size), n_density_ngc_norm, yerr = err_ngc, fmt='o' )\n",
    "ax.plot( np.arange(avg_n_density_ngc.size), avg_n_density_ngc, marker = '.' , linestyle = 'none', color = 'black' )\n",
    "ax.plot( avg_n_density_ngc.size/2., ntotal_st82/n_density_ngc.mean(), marker = '*', color = 'red',  markersize = 10, linestyle = 'none', label = r'{\\rm train}')\n",
    "ax.plot( avg_n_density_ngc.size/2., ntotal_DMASS/n_density_ngc.mean(), marker = '*', color = 'blue',  markersize = 10, linestyle = 'none', label = r'{\\rm DMASS}')\n",
    "\n",
    "ax.axhline(y = mean_n_density_ngc, linestyle='--', color = 'grey')\n",
    "ax.set_title(r'{\\rm CMASS NGC}', fontsize = 20)\n",
    "ax.set_ylim(0.85, 1.15)\n",
    "ax.legend(loc=4, fontsize = 15)\n",
    "ax.set_ylabel(r'$n_i / \\langle n \\rangle$', fontsize = 20)\n",
    "ax.set_xlabel(r'{\\rm patch index $i$}', fontsize = 20)\n",
    "ax.text(0, 1.12, r'{\\rm  Patch area }'+ r'${:0.0f} \\deg^2$'.format(area_ngc), fontsize = 15)\n",
    "#ax.text(0, 1.10, r'{\\rm  St82 area }'+ r'${:0.0f} \\deg^2$'.format(123), fontsize = 15)\n",
    "ax.tick_params(labelsize = 15)\n",
    "\n",
    "\n",
    "ax2.axhspan( mean_n_density_sgc - std_n_density_sgc, mean_n_density_sgc + std_n_density_sgc, alpha=0.3, color='grey')#, label = '68 % confidence')\n",
    "ax2.axhspan( mean_n_density_sgc - 2*std_n_density_sgc, mean_n_density_sgc + 2*std_n_density_sgc, alpha=0.1, color='grey')#, label = '68 % confidence')\n",
    "#ax.axhspan( 1. - 2*defined_sigma_st82/mean, 1 + 2*defined_sigma_st82/mean, alpha=0.1, color='grey', linestyle = None, label = '95 % confidence')\n",
    "#ax.errorbar( np.arange(n_density_ngc_norm.size), n_density_ngc_norm, yerr = err_ngc, fmt='o' )\n",
    "ax2.plot( np.arange(avg_n_density_sgc.size), avg_n_density_sgc, marker = '.' , linestyle = 'none', color = 'black' )\n",
    "ax2.plot( avg_n_density_sgc.size/2., ntotal_st82/n_density_sgc.mean(), marker = '*', color = 'red',  markersize = 10, linestyle = 'none', label = r'{\\rm TRAIN}')\n",
    "ax2.plot( avg_n_density_sgc.size/2., ntotal_DMASS/n_density_sgc.mean(), marker = '*', color = 'blue',  markersize = 10, linestyle = 'none', label = r'{\\rm DMASS}')\n",
    "ax2.axhline(y = mean_n_density_sgc, linestyle='--', color = 'grey')\n",
    "\n",
    "ax2.set_title(r'{\\rm CMASS SGC}', fontsize = 20)\n",
    "ax2.set_ylim(0.85, 1.15)\n",
    "#ax2.legend(loc=4, fontsize = 15)\n",
    "ax2.set_ylabel(r'$n_i / \\langle n \\rangle$', fontsize = 20)\n",
    "ax2.set_xlabel(r'{\\rm patch index $i$}', fontsize = 20)\n",
    "ax2.text(0, 1.12, r'{\\rm  Patch area }'+ r'${:0.0f} \\deg^2$'.format(area_sgc), fontsize = 15)\n",
    "#ax2.text(0, 1.10, r'{\\rm  St82 area }'+ r'${:0.0f} \\deg^2$'.format(123), fontsize = 15)\n",
    "ax2.tick_params(labelsize = 15)\n",
    "\n",
    "\n",
    "\n",
    "ax3.axhspan( mean_n_density_dmass - std_n_density_dmass, mean_n_density_dmass + std_n_density_dmass, alpha=0.3, color='grey', label = '68 % confidence')\n",
    "ax3.axhspan( mean_n_density_dmass - 2*std_n_density_dmass, mean_n_density_dmass + 2*std_n_density_dmass, alpha=0.1, color='grey', label = '68 % confidence')\n",
    "#ax.axhspan( 1. - 2*defined_sigma_st82/mean, 1 + 2*defined_sigma_st82/mean, alpha=0.1, color='grey', linestyle = None, label = '95 % confidence')\n",
    "#ax.errorbar( np.arange(n_density_ngc_norm.size), n_density_ngc_norm, yerr = err_ngc, fmt='o' )\n",
    "ax3.plot( np.arange(avg_n_density_dmass.size), avg_n_density_dmass, marker = '.' , linestyle = 'none', color = 'black' )\n",
    "ax3.plot( avg_n_density_dmass.size/2., ntotal_st82/n_density_dmass.mean(), marker = '*', color = 'red',  markersize = 10, linestyle = 'none', label = 'TRAIN')\n",
    "ax3.axhline(y = mean_n_density_dmass, linestyle='--', color = 'grey')\n",
    "\n",
    "ax3.set_title(r'{\\rm DMASS}', fontsize = 20)\n",
    "ax3.set_ylim(0.85, 1.15)\n",
    "#ax3.legend(loc=4, fontsize = 15)\n",
    "ax3.set_ylabel(r'$n_i / \\langle n \\rangle$', fontsize = 20)\n",
    "ax3.set_xlabel(r'{\\rm patch index $i$}', fontsize = 20)\n",
    "ax3.text(0, 1.12, r'{\\rm  Patch area }'+ r'${:0.0f} \\deg^2$'.format(area_dmass), fontsize = 15)\n",
    "#ax3.text(0, 1.10, r'{\\rm  St82 area }'+ r'${:0.0f} \\deg^2$'.format(123), fontsize = 15)\n",
    "ax3.tick_params(labelsize = 15)\n",
    "\n",
    "\n",
    "\n",
    "ax4.axhspan( mean_n_density_dmass_sys - std_n_density_dmass_sys, mean_n_density_dmass_sys + std_n_density_dmass_sys, alpha=0.3, color='grey', label = '68 % confidence')\n",
    "ax4.axhspan( mean_n_density_dmass_sys - 2*std_n_density_dmass_sys, mean_n_density_dmass_sys + 2*std_n_density_dmass_sys, alpha=0.1, color='grey', label = '68 % confidence')\n",
    "#ax.axhspan( 1. - 2*defined_sigma_st82/mean, 1 + 2*defined_sigma_st82/mean, alpha=0.1, color='grey', linestyle = None, label = '95 % confidence')\n",
    "#ax.errorbar( np.arange(n_density_ngc_norm.size), n_density_ngc_norm, yerr = err_ngc, fmt='o' )\n",
    "ax4.plot( np.arange(avg_n_density_dmass_sys.size), avg_n_density_dmass_sys, marker = '.' , linestyle = 'none', color = 'black' )\n",
    "ax4.plot( avg_n_density_dmass_sys.size/2., ntotal_st82/n_density_dmass_sys.mean(), marker = '*', color = 'red',  markersize = 10, linestyle = 'none', label = 'TRAIN')\n",
    "ax4.axhline(y = mean_n_density_dmass_sys, linestyle='--', color = 'grey')\n",
    "\n",
    "ax4.set_title(r'{\\rm DMASS sys}', fontsize = 20)\n",
    "ax4.set_ylim(0.85, 1.15)\n",
    "#ax3.legend(loc=4, fontsize = 15)\n",
    "ax4.set_ylabel(r'$n_i / \\langle n \\rangle$', fontsize = 20)\n",
    "ax4.set_xlabel(r'{\\rm patch index $i$}', fontsize = 20)\n",
    "ax4.text(0, 1.12, r'{\\rm  Patch area }'+ r'${:0.0f} \\deg^2$'.format(area_dmass_sys), fontsize = 15)\n",
    "#ax3.text(0, 1.10, r'{\\rm  St82 area }'+ r'${:0.0f} \\deg^2$'.format(123), fontsize = 15)\n",
    "ax4.tick_params(labelsize = 15)\n",
    "\n",
    "\n",
    "fig.tight_layout()\n",
    "#fig.savefig('../paper_figure/ndensity-areafrac.pdf')\n",
    "\n",
    "print 'num of pixels in one patch :', nfactor\n",
    "print 'SPT weighted area ', SPTMaparea"
   ]
  },
  {
   "cell_type": "code",
   "execution_count": 130,
   "metadata": {},
   "outputs": [
    {
     "name": "stdout",
     "output_type": "stream",
     "text": [
      "0.9799540529125097\n"
     ]
    }
   ],
   "source": [
    "print SPTMaparea_sys*1./ SPTMaparea"
   ]
  },
  {
   "cell_type": "code",
   "execution_count": 194,
   "metadata": {},
   "outputs": [
    {
     "data": {
      "image/png": "[encoded data removed]",
      "text/plain": [
       "<matplotlib.figure.Figure at 0x7fe81d6f5cd0>"
      ]
     },
     "metadata": {
      "needs_background": "light"
     },
     "output_type": "display_data"
    }
   ],
   "source": [
    "# plot------------------\n",
    "fig,(ax, ax2, ax3) = plt.subplots(1, 3, figsize = (17, 5))\n",
    "\n",
    "\n",
    "ax.axhspan( mean_n_density_ngc - std_n_density_ngc, mean_n_density_ngc + std_n_density_ngc, alpha=0.3, color='grey')#, label = r'\\rm 68% confidence}')\n",
    "ax.axhspan( mean_n_density_ngc - 2*std_n_density_ngc, mean_n_density_ngc + 2*std_n_density_ngc, alpha=0.1, color='grey')#, label = r'\\rm 68 % confidence}')\n",
    "#ax.axhspan( 1. - 2*defined_sigma_st82/mean, 1 + 2*defined_sigma_st82/mean, alpha=0.1, color='grey', linestyle = None, label = '95 % confidence')\n",
    "#ax.errorbar( np.arange(n_density_ngc_norm.size), n_density_ngc_norm, yerr = err_ngc, fmt='o' )\n",
    "ax.plot( np.arange(avg_n_density_ngc.size), avg_n_density_ngc, marker = '.' , linestyle = 'none', color = 'black' )\n",
    "ax.plot( avg_n_density_ngc.size/2., ntotal_st82/n_density_ngc.mean(), marker = '*', color = 'red',  markersize = 10, linestyle = 'none', label = r'{\\rm train}')\n",
    "ax.plot( avg_n_density_ngc.size/2., ntotal_DMASS/n_density_ngc.mean(), marker = '*', color = 'blue',  markersize = 10, linestyle = 'none', label = r'{\\rm DMASS}')\n",
    "\n",
    "ax.axhline(y = mean_n_density_ngc, linestyle='--', color = 'grey')\n",
    "ax.set_title(r'{\\rm CMASS NGC}', fontsize = 20)\n",
    "ax.set_ylim(0.85, 1.15)\n",
    "ax.legend(loc=4, fontsize = 15)\n",
    "ax.set_ylabel(r'$n_i / \\langle n \\rangle$', fontsize = 20)\n",
    "ax.set_xlabel(r'{\\rm patch index $i$}', fontsize = 20)\n",
    "ax.text(0, 1.12, r'{\\rm  Patch area }'+ r'${:0.0f} \\deg^2$'.format(area_ngc), fontsize = 15)\n",
    "#ax.text(0, 1.10, r'{\\rm  St82 area }'+ r'${:0.0f} \\deg^2$'.format(123), fontsize = 15)\n",
    "ax.tick_params(labelsize = 15)\n",
    "\n",
    "\n",
    "ax2.axhspan( mean_n_density_sgc - std_n_density_sgc, mean_n_density_sgc + std_n_density_sgc, alpha=0.3, color='grey')#, label = '68 % confidence')\n",
    "ax2.axhspan( mean_n_density_sgc - 2*std_n_density_sgc, mean_n_density_sgc + 2*std_n_density_sgc, alpha=0.1, color='grey')#, label = '68 % confidence')\n",
    "#ax.axhspan( 1. - 2*defined_sigma_st82/mean, 1 + 2*defined_sigma_st82/mean, alpha=0.1, color='grey', linestyle = None, label = '95 % confidence')\n",
    "#ax.errorbar( np.arange(n_density_ngc_norm.size), n_density_ngc_norm, yerr = err_ngc, fmt='o' )\n",
    "ax2.plot( np.arange(avg_n_density_sgc.size), avg_n_density_sgc, marker = '.' , linestyle = 'none', color = 'black' )\n",
    "ax2.plot( avg_n_density_sgc.size/2., ntotal_st82/n_density_sgc.mean(), marker = '*', color = 'red',  markersize = 10, linestyle = 'none', label = r'{\\rm TRAIN}')\n",
    "ax2.plot( avg_n_density_sgc.size/2., ntotal_DMASS/n_density_sgc.mean(), marker = '*', color = 'blue',  markersize = 10, linestyle = 'none', label = r'{\\rm DMASS}')\n",
    "ax2.axhline(y = mean_n_density_sgc, linestyle='--', color = 'grey')\n",
    "\n",
    "ax2.set_title(r'{\\rm CMASS SGC}', fontsize = 20)\n",
    "ax2.set_ylim(0.85, 1.15)\n",
    "#ax2.legend(loc=4, fontsize = 15)\n",
    "ax2.set_ylabel(r'$n_i / \\langle n \\rangle$', fontsize = 20)\n",
    "ax2.set_xlabel(r'{\\rm patch index $i$}', fontsize = 20)\n",
    "ax2.text(0, 1.12, r'{\\rm  Patch area }'+ r'${:0.0f} \\deg^2$'.format(area_sgc), fontsize = 15)\n",
    "#ax2.text(0, 1.10, r'{\\rm  St82 area }'+ r'${:0.0f} \\deg^2$'.format(123), fontsize = 15)\n",
    "ax2.tick_params(labelsize = 15)\n",
    "\n",
    "\n",
    "\n",
    "ax3.axhspan( mean_n_density_dmass - std_n_density_dmass, mean_n_density_dmass + std_n_density_dmass, alpha=0.3, color='grey', label = '68 % confidence')\n",
    "ax3.axhspan( mean_n_density_dmass - 2*std_n_density_dmass, mean_n_density_dmass + 2*std_n_density_dmass, alpha=0.1, color='grey', label = '68 % confidence')\n",
    "#ax.axhspan( 1. - 2*defined_sigma_st82/mean, 1 + 2*defined_sigma_st82/mean, alpha=0.1, color='grey', linestyle = None, label = '95 % confidence')\n",
    "#ax.errorbar( np.arange(n_density_ngc_norm.size), n_density_ngc_norm, yerr = err_ngc, fmt='o' )\n",
    "ax3.plot( np.arange(avg_n_density_dmass.size), avg_n_density_dmass, marker = '.' , linestyle = 'none', color = 'black' )\n",
    "ax3.plot( avg_n_density_dmass.size/2., ntotal_st82/n_density_dmass.mean(), marker = '*', color = 'red',  markersize = 10, linestyle = 'none', label = 'TRAIN')\n",
    "ax3.axhline(y = mean_n_density_dmass, linestyle='--', color = 'grey')\n",
    "\n",
    "ax3.set_title(r'{\\rm DMASS}', fontsize = 20)\n",
    "ax3.set_ylim(0.85, 1.15)\n",
    "#ax3.legend(loc=4, fontsize = 15)\n",
    "ax3.set_ylabel(r'$n_i / \\langle n \\rangle$', fontsize = 20)\n",
    "ax3.set_xlabel(r'{\\rm patch index $i$}', fontsize = 20)\n",
    "ax3.text(0, 1.12, r'{\\rm  Patch area }'+ r'${:0.0f} \\deg^2$'.format(area_dmass), fontsize = 15)\n",
    "#ax3.text(0, 1.10, r'{\\rm  St82 area }'+ r'${:0.0f} \\deg^2$'.format(123), fontsize = 15)\n",
    "ax3.tick_params(labelsize = 15)\n",
    "\n",
    "fig.tight_layout()\n",
    "#fig.savefig('../paper_figure/ndensity-sameA.pdf')"
   ]
  },
  {
   "cell_type": "code",
   "execution_count": 37,
   "metadata": {},
   "outputs": [
    {
     "data": {
      "image/png": "[encoded data removed]",
      "text/plain": [
       "<matplotlib.figure.Figure at 0x7fe593fdbcd0>"
      ]
     },
     "metadata": {
      "needs_background": "light"
     },
     "output_type": "display_data"
    }
   ],
   "source": [
    "# plot------------------\n",
    "fig,(ax, ax2, ax3) = plt.subplots(1, 3, figsize = (17, 5))\n",
    "\n",
    "\n",
    "ax.axhspan( mean_n_density_ngc - std_n_density_ngc, mean_n_density_ngc + std_n_density_ngc, alpha=0.3, color='grey')#, label = r'\\rm 68% confidence}')\n",
    "ax.axhspan( mean_n_density_ngc - 2*std_n_density_ngc, mean_n_density_ngc + 2*std_n_density_ngc, alpha=0.1, color='grey')#, label = r'\\rm 68 % confidence}')\n",
    "#ax.axhspan( 1. - 2*defined_sigma_st82/mean, 1 + 2*defined_sigma_st82/mean, alpha=0.1, color='grey', linestyle = None, label = '95 % confidence')\n",
    "#ax.errorbar( np.arange(n_density_ngc_norm.size), n_density_ngc_norm, yerr = err_ngc, fmt='o' )\n",
    "ax.plot( np.arange(avg_n_density_ngc.size), avg_n_density_ngc, marker = '.' , linestyle = 'none', color = 'black' )\n",
    "ax.plot( avg_n_density_ngc.size/2., ntotal_st82/n_density_ngc.mean(), marker = '*', color = 'red',  markersize = 10, linestyle = 'none', label = r'{\\rm train}')\n",
    "ax.plot( avg_n_density_ngc.size/2., ntotal_DMASS/n_density_ngc.mean(), marker = '*', color = 'blue',  markersize = 10, linestyle = 'none', label = r'{\\rm DMASS}')\n",
    "\n",
    "ax.axhline(y = mean_n_density_ngc, linestyle='--', color = 'grey')\n",
    "ax.set_title(r'{\\rm CMASS NGC}', fontsize = 20)\n",
    "ax.set_ylim(0.85, 1.15)\n",
    "ax.legend(loc=4, fontsize = 15)\n",
    "ax.set_ylabel(r'$n_i / \\langle n \\rangle$', fontsize = 20)\n",
    "ax.set_xlabel(r'{\\rm patch index $i$}', fontsize = 20)\n",
    "ax.text(0, 1.12, r'{\\rm  Patch area }'+ r'${:0.0f} \\deg^2$'.format(area_ngc), fontsize = 15)\n",
    "#ax.text(0, 1.10, r'{\\rm  St82 area }'+ r'${:0.0f} \\deg^2$'.format(123), fontsize = 15)\n",
    "ax.tick_params(labelsize = 15)\n",
    "\n",
    "\n",
    "ax2.axhspan( mean_n_density_sgc - std_n_density_sgc, mean_n_density_sgc + std_n_density_sgc, alpha=0.3, color='grey')#, label = '68 % confidence')\n",
    "ax2.axhspan( mean_n_density_sgc - 2*std_n_density_sgc, mean_n_density_sgc + 2*std_n_density_sgc, alpha=0.1, color='grey')#, label = '68 % confidence')\n",
    "#ax.axhspan( 1. - 2*defined_sigma_st82/mean, 1 + 2*defined_sigma_st82/mean, alpha=0.1, color='grey', linestyle = None, label = '95 % confidence')\n",
    "#ax.errorbar( np.arange(n_density_ngc_norm.size), n_density_ngc_norm, yerr = err_ngc, fmt='o' )\n",
    "ax2.plot( np.arange(avg_n_density_sgc.size), avg_n_density_sgc, marker = '.' , linestyle = 'none', color = 'black' )\n",
    "ax2.plot( avg_n_density_sgc.size/2., ntotal_st82/n_density_sgc.mean(), marker = '*', color = 'red',  markersize = 10, linestyle = 'none', label = r'{\\rm TRAIN}')\n",
    "ax2.plot( avg_n_density_sgc.size/2., ntotal_DMASS/n_density_sgc.mean(), marker = '*', color = 'blue',  markersize = 10, linestyle = 'none', label = r'{\\rm DMASS}')\n",
    "ax2.axhline(y = mean_n_density_sgc, linestyle='--', color = 'grey')\n",
    "\n",
    "ax2.set_title(r'{\\rm CMASS SGC}', fontsize = 20)\n",
    "ax2.set_ylim(0.85, 1.15)\n",
    "#ax2.legend(loc=4, fontsize = 15)\n",
    "ax2.set_ylabel(r'$n_i / \\langle n \\rangle$', fontsize = 20)\n",
    "ax2.set_xlabel(r'{\\rm patch index $i$}', fontsize = 20)\n",
    "ax2.text(0, 1.12, r'{\\rm  Patch area }'+ r'${:0.0f} \\deg^2$'.format(area_sgc), fontsize = 15)\n",
    "#ax2.text(0, 1.10, r'{\\rm  St82 area }'+ r'${:0.0f} \\deg^2$'.format(123), fontsize = 15)\n",
    "ax2.tick_params(labelsize = 15)\n",
    "\n",
    "\n",
    "\n",
    "ax3.axhspan( mean_n_density_dmass - std_n_density_dmass, mean_n_density_dmass + std_n_density_dmass, alpha=0.3, color='grey', label = '68 % confidence')\n",
    "ax3.axhspan( mean_n_density_dmass - 2*std_n_density_dmass, mean_n_density_dmass + 2*std_n_density_dmass, alpha=0.1, color='grey', label = '68 % confidence')\n",
    "#ax.axhspan( 1. - 2*defined_sigma_st82/mean, 1 + 2*defined_sigma_st82/mean, alpha=0.1, color='grey', linestyle = None, label = '95 % confidence')\n",
    "#ax.errorbar( np.arange(n_density_ngc_norm.size), n_density_ngc_norm, yerr = err_ngc, fmt='o' )\n",
    "ax3.plot( np.arange(avg_n_density_dmass.size), avg_n_density_dmass, marker = '.' , linestyle = 'none', color = 'black' )\n",
    "ax3.plot( avg_n_density_dmass.size/2., ntotal_st82/n_density_dmass.mean(), marker = '*', color = 'red',  markersize = 10, linestyle = 'none', label = 'TRAIN')\n",
    "ax3.axhline(y = mean_n_density_dmass, linestyle='--', color = 'grey')\n",
    "\n",
    "ax3.set_title(r'{\\rm DMASS}', fontsize = 20)\n",
    "ax3.set_ylim(0.85, 1.15)\n",
    "#ax3.legend(loc=4, fontsize = 15)\n",
    "ax3.set_ylabel(r'$n_i / \\langle n \\rangle$', fontsize = 20)\n",
    "ax3.set_xlabel(r'{\\rm patch index $i$}', fontsize = 20)\n",
    "ax3.text(0, 1.12, r'{\\rm  Patch area }'+ r'${:0.0f} \\deg^2$'.format(area_dmass), fontsize = 15)\n",
    "#ax3.text(0, 1.10, r'{\\rm  St82 area }'+ r'${:0.0f} \\deg^2$'.format(123), fontsize = 15)\n",
    "ax3.tick_params(labelsize = 15)\n",
    "\n",
    "fig.tight_layout()\n",
    "#fig.savefig('../paper_figure/ndensity-sameA.pdf')"
   ]
  },
  {
   "cell_type": "code",
   "execution_count": 287,
   "metadata": {},
   "outputs": [
    {
     "data": {
      "image/png": "[encoded data removed]",
      "text/plain": [
       "<matplotlib.figure.Figure at 0x7f5ae700c190>"
      ]
     },
     "metadata": {},
     "output_type": "display_data"
    }
   ],
   "source": [
    "# plot------------------\n",
    "fig,(ax, ax2, ax3) = plt.subplots(1, 3, figsize = (17, 5))\n",
    "\n",
    "\n",
    "ax.axhspan( mean_n_density_ngc - std_n_density_ngc, mean_n_density_ngc + std_n_density_ngc, alpha=0.3, color='grey')#, label = r'\\rm 68% confidence}')\n",
    "ax.axhspan( mean_n_density_ngc - 2*std_n_density_ngc, mean_n_density_ngc + 2*std_n_density_ngc, alpha=0.1, color='grey')#, label = r'\\rm 68 % confidence}')\n",
    "#ax.axhspan( 1. - 2*defined_sigma_st82/mean, 1 + 2*defined_sigma_st82/mean, alpha=0.1, color='grey', linestyle = None, label = '95 % confidence')\n",
    "#ax.errorbar( np.arange(n_density_ngc_norm.size), n_density_ngc_norm, yerr = err_ngc, fmt='o' )\n",
    "ax.plot( np.arange(avg_n_density_ngc.size), avg_n_density_ngc, marker = '.' , linestyle = 'none', color = 'black' )\n",
    "ax.plot( avg_n_density_ngc.size/2., ntotal_st82/n_density_ngc.mean(), marker = '*', color = 'red',  markersize = 10, linestyle = 'none', label = r'{\\rm STRIPE 82}')\n",
    "ax.plot( avg_n_density_ngc.size/2., ntotal_DMASS/n_density_ngc.mean(), marker = '*', color = 'blue',  markersize = 10, linestyle = 'none', label = r'{\\rm DES-CMASS}')\n",
    "\n",
    "ax.axhline(y = mean_n_density_ngc, linestyle='--', color = 'grey')\n",
    "ax.set_title(r'{\\rm CMASS NGC}', fontsize = 20)\n",
    "ax.set_ylim(0.85, 1.15)\n",
    "ax.legend(loc=4, fontsize = 15)\n",
    "ax.set_ylabel(r'$n_i / \\langle n \\rangle$', fontsize = 20)\n",
    "ax.set_xlabel(r'{\\rm patch index $i$}', fontsize = 20)\n",
    "ax.text(0, 1.12, r'{\\rm  Patch area }'+ r'${:0.0f} \\deg^2$'.format(area_ngc), fontsize = 15)\n",
    "#ax.text(0, 1.10, r'{\\rm  St82 area }'+ r'${:0.0f} \\deg^2$'.format(123), fontsize = 15)\n",
    "ax.tick_params(labelsize = 15)\n",
    "\n",
    "\n",
    "ax2.axhspan( mean_n_density_sgc - std_n_density_sgc, mean_n_density_sgc + std_n_density_sgc, alpha=0.3, color='grey')#, label = '68 % confidence')\n",
    "ax2.axhspan( mean_n_density_sgc - 2*std_n_density_sgc, mean_n_density_sgc + 2*std_n_density_sgc, alpha=0.1, color='grey')#, label = '68 % confidence')\n",
    "#ax.axhspan( 1. - 2*defined_sigma_st82/mean, 1 + 2*defined_sigma_st82/mean, alpha=0.1, color='grey', linestyle = None, label = '95 % confidence')\n",
    "#ax.errorbar( np.arange(n_density_ngc_norm.size), n_density_ngc_norm, yerr = err_ngc, fmt='o' )\n",
    "ax2.plot( np.arange(avg_n_density_sgc.size), avg_n_density_sgc, marker = '.' , linestyle = 'none', color = 'black' )\n",
    "ax2.plot( avg_n_density_sgc.size/2., ntotal_st82/n_density_sgc.mean(), marker = '*', color = 'red',  markersize = 10, linestyle = 'none', label = r'{\\rm STRIPE 82}')\n",
    "ax2.plot( avg_n_density_sgc.size/2., ntotal_DMASS/n_density_sgc.mean(), marker = '*', color = 'blue',  markersize = 10, linestyle = 'none', label = r'{\\rm DES-CMASS}')\n",
    "ax2.axhline(y = mean_n_density_sgc, linestyle='--', color = 'grey')\n",
    "\n",
    "ax2.set_title(r'{\\rm CMASS SGC}', fontsize = 20)\n",
    "ax2.set_ylim(0.85, 1.15)\n",
    "#ax2.legend(loc=4, fontsize = 15)\n",
    "ax2.set_ylabel(r'$n_i / \\langle n \\rangle$', fontsize = 20)\n",
    "ax2.set_xlabel(r'{\\rm patch index $i$}', fontsize = 20)\n",
    "ax2.text(0, 1.12, r'{\\rm  Patch area }'+ r'${:0.0f} \\deg^2$'.format(area_sgc), fontsize = 15)\n",
    "#ax2.text(0, 1.10, r'{\\rm  St82 area }'+ r'${:0.0f} \\deg^2$'.format(123), fontsize = 15)\n",
    "ax2.tick_params(labelsize = 15)\n",
    "\n",
    "\n",
    "\n",
    "ax3.axhspan( mean_n_density_dmass - std_n_density_dmass, mean_n_density_dmass + std_n_density_dmass, alpha=0.3, color='grey', label = '68 % confidence')\n",
    "ax3.axhspan( mean_n_density_dmass - 2*std_n_density_dmass, mean_n_density_dmass + 2*std_n_density_dmass, alpha=0.1, color='grey', label = '68 % confidence')\n",
    "#ax.axhspan( 1. - 2*defined_sigma_st82/mean, 1 + 2*defined_sigma_st82/mean, alpha=0.1, color='grey', linestyle = None, label = '95 % confidence')\n",
    "#ax.errorbar( np.arange(n_density_ngc_norm.size), n_density_ngc_norm, yerr = err_ngc, fmt='o' )\n",
    "ax3.plot( np.arange(avg_n_density_dmass.size), avg_n_density_dmass, marker = '.' , linestyle = 'none', color = 'black' )\n",
    "ax3.plot( avg_n_density_dmass.size/2., n_density_st82/n_density_dmass.mean(), marker = '*', color = 'red',  markersize = 10, linestyle = 'none', label = 'STRIPE 82')\n",
    "ax3.axhline(y = mean_n_density_dmass, linestyle='--', color = 'grey')\n",
    "\n",
    "ax3.set_title(r'{\\rm DES-CMASS}', fontsize = 20)\n",
    "ax3.set_ylim(0.85, 1.15)\n",
    "#ax3.legend(loc=4, fontsize = 15)\n",
    "ax3.set_ylabel(r'$n_i / \\langle n \\rangle$', fontsize = 20)\n",
    "ax3.set_xlabel(r'{\\rm patch index $i$}', fontsize = 20)\n",
    "ax3.text(0, 1.12, r'{\\rm  Patch area }'+ r'${:0.0f} \\deg^2$'.format(area_dmass), fontsize = 15)\n",
    "#ax3.text(0, 1.10, r'{\\rm  St82 area }'+ r'${:0.0f} \\deg^2$'.format(123), fontsize = 15)\n",
    "ax3.tick_params(labelsize = 15)\n",
    "\n",
    "fig.tight_layout()\n",
    "fig.savefig('../paper_figure/ndensity.pdf')"
   ]
  },
  {
   "cell_type": "code",
   "execution_count": null,
   "metadata": {},
   "outputs": [],
   "source": []
  },
  {
   "cell_type": "code",
   "execution_count": 288,
   "metadata": {},
   "outputs": [
    {
     "data": {
      "image/png": "[encoded data removed]",
      "text/plain": [
       "<matplotlib.figure.Figure at 0x7f5ae726e8d0>"
      ]
     },
     "metadata": {},
     "output_type": "display_data"
    }
   ],
   "source": [
    "fig,(ax, ax2, ax3) = plt.subplots(1, 3, figsize = (17, 5))\n",
    "\n",
    "ax.axhspan( mean_n_density_cmass - std_n_density_cmass, mean_n_density_cmass + std_n_density_cmass, alpha=0.3, color='grey')#, label = '68 % confidence')\n",
    "ax.axhspan( mean_n_density_cmass - 2*std_n_density_cmass, mean_n_density_cmass + 2*std_n_density_cmass, alpha=0.1, color='grey')#, label = '68 % confidence')\n",
    "#ax.axhspan( 1. - 2*defined_sigma_st82/mean, 1 + 2*defined_sigma_st82/mean, alpha=0.1, color='grey', linestyle = None, label = '95 % confidence')\n",
    "#ax.errorbar( np.arange(n_density_ngc_norm.size), n_density_ngc_norm, yerr = err_ngc, fmt='o' )\n",
    "ax.plot( np.arange(avg_n_density_cmass.size), avg_n_density_cmass, marker = '.' , linestyle = 'none', color = 'black' )\n",
    "ax.plot( avg_n_density_cmass.size/2., n_density_st82/n_density_CMASS.mean(), marker = '*', color = 'red',  markersize = 10, linestyle = 'none', label = r'{\\rm STRIPE 82}')\n",
    "ax.plot( avg_n_density_cmass.size/2., ntotal_DMASS/n_density_CMASS.mean(), marker = '*', color = 'blue',  markersize = 10, linestyle = 'none', label = r'{\\rm DES-CMASS}')\n",
    "\n",
    "ax.axhline(y = mean_n_density_ngc, linestyle='--', color = 'grey')\n",
    "\n",
    "ax.set_title(r'{\\rm FULL CMASS}', fontsize = 20)\n",
    "ax.set_ylim(0.85, 1.15)\n",
    "ax.legend(loc=4, fontsize = 15)\n",
    "ax.set_ylabel(r'$n_i / \\langle n \\rangle$', fontsize = 20)\n",
    "ax.set_xlabel(r'{\\rm patch index $i$}', fontsize = 20)\n",
    "ax.text(0, 1.12, r'{\\rm  Patch area }'+ r'${:0.0f} \\deg^2$'.format(area_cmass), fontsize = 15)\n",
    "#ax.text(0, 1.10, r'{\\rm  St82 area }'+ r'${:0.0f} \\deg^2$'.format(123), fontsize = 15)\n",
    "ax.tick_params(labelsize = 15)\n",
    "\n",
    "\n",
    "ax2.axhspan( mean_n_density_mock - std_n_density_mock, mean_n_density_mock + std_n_density_mock, alpha=0.3, color='grey', label = '68 % confidence')\n",
    "ax2.axhspan( mean_n_density_mock - 2*std_n_density_mock, mean_n_density_mock + 2*std_n_density_mock, alpha=0.1, color='grey', label = '68 % confidence')\n",
    "#ax.axhspan( 1. - 2*defined_sigma_st82/mean, 1 + 2*defined_sigma_st82/mean, alpha=0.1, color='grey', linestyle = None, label = '95 % confidence')\n",
    "#ax.errorbar( np.arange(n_density_ngc_norm.size), n_density_ngc_norm, yerr = err_ngc, fmt='o' )\n",
    "ax2.plot( np.arange(avg_n_density_mock.size), avg_n_density_mock, marker = '.' , linestyle = 'none', color = 'black' )\n",
    "#ax2.plot( avg_n_density_mock.size/2., n_density_st82/n_density_mock.mean(), marker = '*', color = 'red',  markersize = 10, linestyle = 'none', label = 'st82')\n",
    "#ax2.plot( avg_n_density_mock.size/2., ntotal_DMASS/n_density_mock.mean(), marker = '*', color = 'blue',  markersize = 10, linestyle = 'none', label = r'{\\rm DES-CMASS}')\n",
    "\n",
    "ax2.axhline(y = mean_n_density_ngc, linestyle='--', color = 'grey')\n",
    "\n",
    "ax2.set_title(r'{\\rm CMASS MOCK}', fontsize = 20)\n",
    "ax2.set_ylim(0.85, 1.15)\n",
    "#ax2.legend(loc=4, fontsize = 15)\n",
    "ax2.set_ylabel(r'$n_i / \\langle n \\rangle$', fontsize = 20)\n",
    "ax2.set_xlabel(r'{\\rm patch index $i$}', fontsize = 20)\n",
    "ax2.text(0, 1.12, r'{\\rm  Patch area }'+ r'${:0.0f} \\deg^2$'.format(area_mock), fontsize = 15)\n",
    "#ax2.text(0, 1.10, r'{\\rm  St82 area }'+ r'${:0.0f} \\deg^2$'.format(123), fontsize = 15)\n",
    "ax2.tick_params(labelsize = 15)\n",
    "\n",
    "\n",
    "ax3.axhspan( mean_n_density_dmass - std_n_density_dmass, mean_n_density_dmass + std_n_density_dmass, alpha=0.3, color='grey', label = '68 % confidence')\n",
    "ax3.axhspan( mean_n_density_dmass - 2*std_n_density_dmass, mean_n_density_dmass + 2*std_n_density_dmass, alpha=0.1, color='grey', label = '68 % confidence')\n",
    "#ax.axhspan( 1. - 2*defined_sigma_st82/mean, 1 + 2*defined_sigma_st82/mean, alpha=0.1, color='grey', linestyle = None, label = '95 % confidence')\n",
    "#ax.errorbar( np.arange(n_density_ngc_norm.size), n_density_ngc_norm, yerr = err_ngc, fmt='o' )\n",
    "ax3.plot( np.arange(avg_n_density_dmass.size), avg_n_density_dmass, marker = '.' , linestyle = 'none', color = 'black' )\n",
    "ax3.plot( avg_n_density_dmass.size/2., n_density_st82/n_density_dmass.mean(), marker = '*', color = 'red',  markersize = 10, linestyle = 'none', label = 'st82')\n",
    "ax3.axhline(y = mean_n_density_dmass, linestyle='--', color = 'grey')\n",
    "\n",
    "ax3.set_title(r'{\\rm DES-CMASS}', fontsize = 20)\n",
    "ax3.set_ylim(0.85, 1.15)\n",
    "#ax3.legend(loc=4, fontsize = 15)\n",
    "ax3.set_ylabel(r'$n_i / \\langle n \\rangle$', fontsize = 20)\n",
    "ax3.set_xlabel(r'{\\rm patch index $i$}', fontsize = 20)\n",
    "ax3.text(0, 1.12, r'{\\rm  Patch area }'+ r'${:0.0f} \\deg^2$'.format(area_dmass), fontsize = 15)\n",
    "#ax3.text(0, 1.10, r'{\\rm  St82 area }'+ r'${:0.0f} \\deg^2$'.format(123), fontsize = 15)\n",
    "ax3.tick_params(labelsize = 15)\n",
    "\n",
    "fig.tight_layout()\n",
    "fig.savefig('../paper_figure/ndensity_mock.pdf')"
   ]
  },
  {
   "cell_type": "code",
   "execution_count": null,
   "metadata": {},
   "outputs": [],
   "source": []
  }
 ],
 "metadata": {
  "kernelspec": {
   "display_name": "Python 2",
   "language": "python",
   "name": "python2"
  },
  "language_info": {
   "codemirror_mode": {
    "name": "ipython",
    "version": 2
   },
   "file_extension": ".py",
   "mimetype": "text/x-python",
   "name": "python",
   "nbconvert_exporter": "python",
   "pygments_lexer": "ipython2",
   "version": "2.7.5"
  }
 },
 "nbformat": 4,
 "nbformat_minor": 1
}
