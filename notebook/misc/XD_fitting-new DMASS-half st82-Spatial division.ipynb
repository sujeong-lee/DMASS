{
 "cells": [
  {
   "cell_type": "markdown",
   "metadata": {},
   "source": [
    "# Number density and bias with real data"
   ]
  },
  {
   "cell_type": "code",
   "execution_count": 35,
   "metadata": {
    "scrolled": true
   },
   "outputs": [
    {
     "name": "stdout",
     "output_type": "stream",
     "text": [
      "The autoreload extension is already loaded. To reload it, use:\n",
      "  %reload_ext autoreload\n"
     ]
    }
   ],
   "source": [
    "import os, sys\n",
    "sys.path.append('../')\n",
    "from xd import *\n",
    "from run_DMASS import *\n",
    "from utils import *\n",
    "import esutil\n",
    "import healpy as hp\n",
    "from systematics import *\n",
    "%matplotlib inline\n",
    "\n",
    "%load_ext autoreload\n",
    "%autoreload 2"
   ]
  },
  {
   "cell_type": "markdown",
   "metadata": {},
   "source": [
    "##### Calling Gold mask and calculating map area"
   ]
  },
  {
   "cell_type": "code",
   "execution_count": 36,
   "metadata": {},
   "outputs": [],
   "source": [
    "# calling map \n",
    "GoldMask = callingEliGoldMask()\n",
    "#GoldMask_st82 = Cuts.SpatialCuts(GoldMask, ra=320, ra2=360, dec=-2, dec2=2)\n",
    "GoldMask_st82 = GoldMask[ GoldMask['DEC'] > -3.0 ]\n",
    "GoldMask_spt = GoldMask[ GoldMask['DEC'] < -3.0 ]\n",
    "#GoldMask_spt = Cuts.SpatialCuts(GoldMask_spt, ra=0, ra2 = 100, dec=-52, dec2 = -48)\n",
    "\n",
    "pixarea = hp.nside2pixarea( 4096, degrees = True)\n",
    "sptnpix = GoldMask_spt['PIXEL'].size #hp.get_map_size( GoldMask_spt['PIXEL'] )\n",
    "st82npix =  GoldMask_st82['PIXEL'].size # hp.get_map_size( GoldMask_st82 )\n",
    "SPTMaparea = pixarea * sptnpix\n",
    "ST82Maparea = pixarea * st82npix"
   ]
  },
  {
   "cell_type": "code",
   "execution_count": null,
   "metadata": {},
   "outputs": [],
   "source": [
    "spatialcheck([gold_st82])"
   ]
  },
  {
   "cell_type": "code",
   "execution_count": 4,
   "metadata": {},
   "outputs": [],
   "source": [
    "rootdir = '../output/sfd_train_photo_SamPle_nozband_ran10_3_full_tol1e5_baomask/'"
   ]
  },
  {
   "cell_type": "code",
   "execution_count": 5,
   "metadata": {},
   "outputs": [
    {
     "name": "stdout",
     "output_type": "stream",
     "text": [
      "total num of train 11590\n",
      "\n",
      "--------------------------------\n",
      " applying DES veto mask to CMASS\n",
      "--------------------------------\n"
     ]
    }
   ],
   "source": [
    "# calling BOSS cmass and applying dmass goodregion mask ----------------------------\n",
    "#cmass = io.getSGCCMASSphotoObjcat()\n",
    "train_sample = esutil.io.read('../output/sfd_train_photo_SamPle_nozband_ran10_3_full_tol1e5_baomask/train_sample_des.fits')\n",
    "print 'total num of train', train_sample.size\n",
    "print '\\n--------------------------------\\n applying DES veto mask to CMASS\\n--------------------------------'   \n",
    "#train_sample = Cuts.keepGoodRegion(train_sample)"
   ]
  },
  {
   "cell_type": "code",
   "execution_count": 6,
   "metadata": {},
   "outputs": [
    {
     "name": "stdout",
     "output_type": "stream",
     "text": [
      "\n",
      "--------------------------------\n",
      " calling catalog\n",
      "--------------------------------\n",
      "Y1A1_GOLD_STRIPE82_v2_000001.fits\n",
      "Y1A1_GOLD_STRIPE82_v2_000002.fits\n",
      "Y1A1_GOLD_STRIPE82_v2_000003.fits\n",
      "Y1A1_GOLD_STRIPE82_v2_000004.fits\n",
      "Y1A1_GOLD_STRIPE82_v2_000005.fits\n",
      "Y1A1_GOLD_STRIPE82_v2_000006.fits\n",
      "Y1A1_GOLD_STRIPE82_v2_000007.fits\n",
      "Y1A1_GOLD_STRIPE82_v2_000008.fits\n",
      "reading 1/8 /n/des/lee.5922/data/gold_cat/Y1A1_GOLD_STRIPE82_v2_000001.fits\n",
      "reading 2/8 /n/des/lee.5922/data/gold_cat/Y1A1_GOLD_STRIPE82_v2_000002.fits\n",
      "reading 3/8 /n/des/lee.5922/data/gold_cat/Y1A1_GOLD_STRIPE82_v2_000003.fits\n",
      "reading 4/8 /n/des/lee.5922/data/gold_cat/Y1A1_GOLD_STRIPE82_v2_000004.fits\n",
      "reading 5/8 /n/des/lee.5922/data/gold_cat/Y1A1_GOLD_STRIPE82_v2_000005.fits\n",
      "reading 6/8 /n/des/lee.5922/data/gold_cat/Y1A1_GOLD_STRIPE82_v2_000006.fits\n",
      "reading 7/8 /n/des/lee.5922/data/gold_cat/Y1A1_GOLD_STRIPE82_v2_000007.fits\n",
      "reading 8/8 /n/des/lee.5922/data/gold_cat/Y1A1_GOLD_STRIPE82_v2_000008.fits\n",
      "Removing SLR Shift \n",
      "  removing SLR from  MAG_MODEL\n",
      "  removing SLR from  MAG_DETMODEL\n",
      "  removing SLR from  MAG_AUTO\n",
      "Adding SFD98 Shift \n",
      "Bands : ['G', 'R', 'I', 'Z']\n",
      "coefficients =  [3.186, 2.14, 1.569, 1.196]\n",
      "  Adding SFD to  MAG_MODEL\n",
      "  Adding SFD to  MAG_DETMODEL\n",
      "  Adding SFD to  MAG_AUTO\n",
      "CHECK input catalog has only galaxies\n"
     ]
    }
   ],
   "source": [
    "gold_st82 = io.SearchAndCallFits(path = '/n/des/lee.5922/data/gold_cat/', columns = None, keyword = 'Y1A1_GOLD_STRIPE82_v2')\n",
    "gold_st82 = gold_st82[(gold_st82['MODEST_CLASS'] == 1)&(gold_st82['FLAGS_GOLD'] == 0 )]\n",
    "gold_st82 = Cuts.keepGoodRegion(gold_st82)\n",
    "\n",
    "gold_st82 = RemovingSLRReddening(gold_st82)\n",
    "gold_st82 = AddingSFD98Reddening(gold_st82, kind='STRIPE82')\n",
    "\n",
    "# flags and color cut\n",
    "mask_all = priorCut_test(gold_st82)\n",
    "gold_st82 = gold_st82[mask_all]"
   ]
  },
  {
   "cell_type": "code",
   "execution_count": 8,
   "metadata": {},
   "outputs": [
    {
     "name": "stdout",
     "output_type": "stream",
     "text": [
      "figsave : .//spatialtest_.png\n"
     ]
    },
    {
     "data": {
      "image/png": "[encoded data removed]",
      "text/plain": [
       "<matplotlib.figure.Figure at 0x7fc89446ebd0>"
      ]
     },
     "metadata": {},
     "output_type": "display_data"
    }
   ],
   "source": [
    "spatialcheck([gold_st82])"
   ]
  },
  {
   "cell_type": "code",
   "execution_count": 14,
   "metadata": {},
   "outputs": [
    {
     "data": {
      "text/plain": [
       "338.74188649999996"
      ]
     },
     "execution_count": 14,
     "metadata": {},
     "output_type": "execute_result"
    }
   ],
   "source": [
    "np.sum([gold_st82['RA'].min(), gold_st82['RA'].max()])/2."
   ]
  },
  {
   "cell_type": "code",
   "execution_count": 156,
   "metadata": {},
   "outputs": [],
   "source": [
    "healConfig={}\n",
    "healConfig['out_nside'] = 64"
   ]
  },
  {
   "cell_type": "code",
   "execution_count": 197,
   "metadata": {},
   "outputs": [],
   "source": [
    "train_sample = HealPixifyCatalogs(catalog=train_sample, healConfig=healConfig, ratag='RA', dectag = 'DEC')\n",
    "gold_st82 = HealPixifyCatalogs(catalog=gold_st82, healConfig=healConfig, ratag='RA', dectag = 'DEC')"
   ]
  },
  {
   "cell_type": "code",
   "execution_count": 20,
   "metadata": {},
   "outputs": [],
   "source": [
    "evenmask_train = train_sample['RA'] > 339\n",
    "evenmask = gold_st82['RA'] > 339"
   ]
  },
  {
   "cell_type": "code",
   "execution_count": 21,
   "metadata": {},
   "outputs": [],
   "source": [
    "train_even = train_sample[evenmask_train]\n",
    "train_odd = train_sample[~evenmask_train]\n",
    "gold_st82_even = gold_st82[evenmask]\n",
    "gold_st82_odd = gold_st82[~evenmask]"
   ]
  },
  {
   "cell_type": "code",
   "execution_count": 22,
   "metadata": {},
   "outputs": [
    {
     "data": {
      "text/plain": [
       "(5776, 5814)"
      ]
     },
     "execution_count": 22,
     "metadata": {},
     "output_type": "execute_result"
    }
   ],
   "source": [
    "train_even.size, train_odd.size"
   ]
  },
  {
   "cell_type": "code",
   "execution_count": 25,
   "metadata": {},
   "outputs": [],
   "source": [
    "fitsio.write('../output/st82_halfhalf_numdensity_spatial/gold_st82_highra.fits', gold_st82_even, clobber=True)\n",
    "fitsio.write('../output/st82_halfhalf_numdensity_spatial/gold_st82_lowra.fits', gold_st82_odd, clobber=True)"
   ]
  },
  {
   "cell_type": "code",
   "execution_count": 84,
   "metadata": {},
   "outputs": [],
   "source": [
    "#rootdir2 = '../output/sfd_train_photo_SamPle_nozband_ran10_restore/'\n",
    "#fitsio.write(rootdir2 + 'gold_st82_prob.fits', gold_st82)"
   ]
  },
  {
   "cell_type": "code",
   "execution_count": 26,
   "metadata": {},
   "outputs": [
    {
     "name": "stdout",
     "output_type": "stream",
     "text": [
      "cmass_fraction even 0.0182077537696\n"
     ]
    }
   ],
   "source": [
    "mg1, mg2, _ = esutil.htm.HTM(10).match(train_sample['RA'], train_sample['DEC'], gold_st82['RA'], \\\n",
    "                                     gold_st82['DEC'],2./3600, maxmatch=1)\n",
    "cmass_mask = np.zeros(gold_st82.size, dtype=bool)\n",
    "cmass_mask[mg2] = 1\n",
    "clean_cmass_data_des, nocmass = gold_st82[cmass_mask], gold_st82[~cmass_mask]\n",
    "print 'cmass_fraction even', clean_cmass_data_des.size *1./gold_st82.size\n",
    "fraction_even = clean_cmass_data_des.size *1./gold_st82.size"
   ]
  },
  {
   "cell_type": "code",
   "execution_count": 191,
   "metadata": {},
   "outputs": [
    {
     "data": {
      "text/plain": [
       "11590"
      ]
     },
     "execution_count": 191,
     "metadata": {},
     "output_type": "execute_result"
    }
   ],
   "source": [
    "clean_cmass_data_des.size"
   ]
  },
  {
   "cell_type": "code",
   "execution_count": 34,
   "metadata": {},
   "outputs": [
    {
     "data": {
      "text/plain": [
       "(307731, 328811)"
      ]
     },
     "execution_count": 34,
     "metadata": {},
     "output_type": "execute_result"
    }
   ],
   "source": [
    "gold_st82_even.size, gold_st82_odd.size"
   ]
  },
  {
   "cell_type": "code",
   "execution_count": 27,
   "metadata": {},
   "outputs": [
    {
     "name": "stdout",
     "output_type": "stream",
     "text": [
      "cmass_fraction even 0.0187696397178\n"
     ]
    }
   ],
   "source": [
    "mg1, mg2, _ = esutil.htm.HTM(10).match(train_even['RA'], train_even['DEC'], gold_st82_even['RA'], \\\n",
    "                                     gold_st82_even['DEC'],2./3600, maxmatch=1)\n",
    "cmass_mask_even = np.zeros(gold_st82_even.size, dtype=bool)\n",
    "cmass_mask_even[mg2] = 1\n",
    "clean_cmass_data_des_even, nocmass_even = gold_st82_even[cmass_mask_even], gold_st82_even[~cmass_mask_even]\n",
    "print 'cmass_fraction even', clean_cmass_data_des_even.size *1./gold_st82_even.size\n",
    "fraction_even = clean_cmass_data_des_even.size *1./gold_st82_even.size"
   ]
  },
  {
   "cell_type": "code",
   "execution_count": 28,
   "metadata": {},
   "outputs": [
    {
     "name": "stdout",
     "output_type": "stream",
     "text": [
      "cmass_fraction odd 0.0176818902044\n"
     ]
    }
   ],
   "source": [
    "mg1, mg2, _ = esutil.htm.HTM(10).match(train_odd['RA'], train_odd['DEC'], gold_st82_odd['RA'], \\\n",
    "                                     gold_st82_odd['DEC'],2./3600, maxmatch=1)\n",
    "cmass_mask_odd = np.zeros(gold_st82_odd.size, dtype=bool)\n",
    "cmass_mask_odd[mg2] = 1\n",
    "clean_cmass_data_des_odd, nocmass_odd = gold_st82_odd[cmass_mask_odd], gold_st82_odd[~cmass_mask_odd]\n",
    "print 'cmass_fraction odd', clean_cmass_data_des_odd.size *1./gold_st82_odd.size\n",
    "fraction_odd = clean_cmass_data_des_odd.size *1./gold_st82_odd.size"
   ]
  },
  {
   "cell_type": "markdown",
   "metadata": {},
   "source": [
    "# Fitting "
   ]
  },
  {
   "cell_type": "code",
   "execution_count": 30,
   "metadata": {},
   "outputs": [
    {
     "name": "stdout",
     "output_type": "stream",
     "text": [
      "No z_band!\n",
      "@pickle_results: computing results and saving to '../output/st82_halfhalf_numdensity_spatial//gold_st82_XD_cmass_highra.pkl'\n",
      "init_params = True : initializing with cmass params \n",
      "n components = 8\n",
      "tolerance = 1e-05\n",
      "1: log(L) = 13205.11376\n",
      "    (4.3 sec)\n",
      "2: log(L) = 13205.26756\n",
      "    (4.5 sec)\n",
      "3: log(L) = 13205.45503\n",
      "    (4.7 sec)\n",
      "4: log(L) = 13205.60041\n",
      "    (4.9 sec)\n",
      "5: log(L) = 13205.69811\n",
      "    (4.6 sec)\n",
      "6: log(L) = 13205.76129\n",
      "    (4.7 sec)\n",
      "7: log(L) = 13205.80203\n",
      "    (4.4 sec)\n",
      "8: log(L) = 13205.82861\n",
      "    (4.5 sec)\n",
      "9: log(L) = 13205.84625\n",
      "    (4.8 sec)\n",
      "10: log(L) = 13205.85818\n",
      "    (4.5 sec)\n",
      "11: log(L) = 13205.86642\n",
      "    (4.8 sec)\n",
      "12: log(L) = 13205.87223\n",
      "    (4.8 sec)\n",
      "13: log(L) = 13205.87641\n",
      "    (4.5 sec)\n",
      "14: log(L) = 13205.87947\n",
      "    (4.7 sec)\n",
      "15: log(L) = 13205.88176\n",
      "    (4.9 sec)\n",
      "16: log(L) = 13205.88348\n",
      "    (5 sec)\n",
      "17: log(L) = 13205.88481\n",
      "    (4.5 sec)\n",
      "18: log(L) = 13205.88583\n",
      "    (4.5 sec)\n",
      "19: log(L) = 13205.88663\n",
      "    (4.5 sec)\n",
      "20: log(L) = 13205.88726\n",
      "    (4.8 sec)\n",
      "21: log(L) = 13205.88776\n",
      "    (4.6 sec)\n",
      "22: log(L) = 13205.88816\n",
      "    (4.5 sec)\n",
      "23: log(L) = 13205.88847\n",
      "    (4.6 sec)\n",
      "24: log(L) = 13205.88872\n",
      "    (4.5 sec)\n",
      "25: log(L) = 13205.88892\n",
      "    (4.8 sec)\n",
      "26: log(L) = 13205.88908\n",
      "    (5 sec)\n",
      "27: log(L) = 13205.88921\n",
      "    (4.5 sec)\n",
      "28: log(L) = 13205.88932\n",
      "    (4.9 sec)\n",
      "29: log(L) = 13205.8894\n",
      "    (4.8 sec)\n",
      "30: log(L) = 13205.88946\n",
      "    (4.6 sec)\n",
      "31: log(L) = 13205.88952\n",
      "    (4.6 sec)\n",
      "32: log(L) = 13205.88956\n",
      "    (4.6 sec)\n",
      "33: log(L) = 13205.88959\n",
      "    (4.6 sec)\n",
      "34: log(L) = 13205.88962\n",
      "    (4.6 sec)\n",
      "35: log(L) = 13205.88964\n",
      "    (4.8 sec)\n",
      "36: log(L) = 13205.88966\n",
      "    (4.4 sec)\n",
      "37: log(L) = 13205.88967\n",
      "    (4.5 sec)\n",
      "38: log(L) = 13205.88968\n",
      "    (4.3 sec)\n",
      "39: log(L) = 13205.88969\n",
      "    (4.8 sec)\n",
      "elapsed time: 3.06 min,  total iteration 38                                 \n"
     ]
    }
   ],
   "source": [
    "cmass_pickle = '../output/st82_halfhalf_numdensity_spatial//gold_st82_XD_cmass_highra.pkl'\n",
    "init_cmass_pickle = '../output/sfd_train_photo_SamPle_nozband_ran10_3/gold_st82_XD_cmass.pkl'\n",
    "clf_cmass_st82 = XD_fitting( data = clean_cmass_data_des_even, pickleFileName = cmass_pickle , init_params = init_cmass_pickle, \n",
    "                    n_cl = 10, n_iter = 2000, tol = 1e-5, verbose = True)"
   ]
  },
  {
   "cell_type": "code",
   "execution_count": 31,
   "metadata": {},
   "outputs": [
    {
     "name": "stdout",
     "output_type": "stream",
     "text": [
      "No z_band!\n",
      "@pickle_results: computing results and saving to '../output/st82_halfhalf_numdensity_spatial//gold_st82_XD_cmass_lowra.pkl'\n",
      "init_params = True : initializing with cmass params \n",
      "n components = 8\n",
      "tolerance = 1e-05\n",
      "1: log(L) = 12691.84654\n",
      "    (4.5 sec)\n",
      "2: log(L) = 12692.06921\n",
      "    (4.8 sec)\n",
      "3: log(L) = 12692.23945\n",
      "    (4.7 sec)\n",
      "4: log(L) = 12692.3562\n",
      "    (4.7 sec)\n",
      "5: log(L) = 12692.42584\n",
      "    (4.6 sec)\n",
      "6: log(L) = 12692.46197\n",
      "    (4.8 sec)\n",
      "7: log(L) = 12692.47675\n",
      "    (4.7 sec)\n",
      "8: log(L) = 12692.47888\n",
      "    (4.8 sec)\n",
      "9: log(L) = 12692.47407\n",
      "    (4.7 sec)\n",
      "elapsed time: 0.62 min,  total iteration 8                                 \n"
     ]
    }
   ],
   "source": [
    "cmass_pickle = '../output/st82_halfhalf_numdensity_spatial//gold_st82_XD_cmass_lowra.pkl'\n",
    "init_cmass_pickle = '../output/sfd_train_photo_SamPle_nozband_ran10_3/gold_st82_XD_cmass.pkl'\n",
    "clf_cmass_st82 = XD_fitting( data = clean_cmass_data_des_odd, pickleFileName = cmass_pickle , init_params = init_cmass_pickle, \n",
    "                    n_cl = 10, n_iter = 2000, tol = 1e-5, verbose = True)"
   ]
  },
  {
   "cell_type": "code",
   "execution_count": 32,
   "metadata": {},
   "outputs": [
    {
     "name": "stdout",
     "output_type": "stream",
     "text": [
      "No z_band!\n",
      "@pickle_results: computing results and saving to '../output/st82_halfhalf_numdensity_spatial//gold_st82_XD_no_highra.pkl'\n",
      "init_params = True : initializing with cmass params \n",
      "n components = 26\n",
      "tolerance = 1e-05\n",
      "1: log(L) = 327450.0284\n",
      "    (1.9e+02 sec)\n",
      "2: log(L) = 327457.2476\n",
      "    (1.9e+02 sec)\n",
      "3: log(L) = 327459.6415\n",
      "    (1.9e+02 sec)\n",
      "4: log(L) = 327461.2988\n",
      "    (1.9e+02 sec)\n",
      "5: log(L) = 327462.4052\n",
      "    (1.8e+02 sec)\n",
      "6: log(L) = 327463.0681\n",
      "    (1.8e+02 sec)\n",
      "7: log(L) = 327463.4183\n",
      "    (1.9e+02 sec)\n",
      "8: log(L) = 327463.5652\n",
      "    (1.9e+02 sec)\n",
      "9: log(L) = 327463.5877\n",
      "    (1.9e+02 sec)\n",
      "10: log(L) = 327463.5385\n",
      "    (1.9e+02 sec)\n",
      "elapsed time: 28.61 min,  total iteration 9                                 \n"
     ]
    }
   ],
   "source": [
    "no_pickle = '../output/st82_halfhalf_numdensity_spatial//gold_st82_XD_no_highra.pkl'\n",
    "init_pickle = '../output/sfd_train_photo_SamPle_nozband_ran10_3/gold_st82_XD_no.pkl'\n",
    "clf_no_st82 = XD_fitting( data = nocmass_even, pickleFileName = no_pickle , init_params = init_pickle, \n",
    "                    n_cl = 10, n_iter = 5000, tol = 1e-5, verbose = True)"
   ]
  },
  {
   "cell_type": "code",
   "execution_count": 33,
   "metadata": {},
   "outputs": [
    {
     "name": "stdout",
     "output_type": "stream",
     "text": [
      "No z_band!\n",
      "@pickle_results: computing results and saving to '../output/st82_halfhalf_numdensity_spatial//gold_st82_XD_no_lowra.pkl'\n",
      "init_params = True : initializing with cmass params \n",
      "n components = 26\n",
      "tolerance = 1e-05\n",
      "1: log(L) = 341240.195\n",
      "    (2e+02 sec)\n",
      "2: log(L) = 341248.7798\n",
      "    (2.2e+02 sec)\n",
      "3: log(L) = 341250.6123\n",
      "    (2.6e+02 sec)\n",
      "4: log(L) = 341251.4832\n",
      "    (2.5e+02 sec)\n",
      "5: log(L) = 341251.6303\n",
      "    (2e+02 sec)\n",
      "6: log(L) = 341251.2744\n",
      "    (2e+02 sec)\n",
      "elapsed time: 16.41 min,  total iteration 5                                 \n"
     ]
    }
   ],
   "source": [
    "no_pickle = '../output/st82_halfhalf_numdensity_spatial//gold_st82_XD_no_lowra.pkl'\n",
    "init_pickle = '../output/sfd_train_photo_SamPle_nozband_ran10_3/gold_st82_XD_no.pkl'\n",
    "clf_no_st82 = XD_fitting( data = nocmass_odd, pickleFileName = no_pickle , init_params = init_pickle, \n",
    "                    n_cl = 10, n_iter = 5000, tol = 1e-5, verbose = True)"
   ]
  },
  {
   "cell_type": "code",
   "execution_count": null,
   "metadata": {},
   "outputs": [],
   "source": []
  },
  {
   "cell_type": "code",
   "execution_count": 179,
   "metadata": {},
   "outputs": [
    {
     "ename": "KeyboardInterrupt",
     "evalue": "",
     "output_type": "error",
     "traceback": [
      "\u001b[0;31m---------------------------------------------------------------------------\u001b[0m",
      "\u001b[0;31mKeyboardInterrupt\u001b[0m                         Traceback (most recent call last)",
      "\u001b[0;32m<ipython-input-179-0d14910ccb03>\u001b[0m in \u001b[0;36m<module>\u001b[0;34m()\u001b[0m\n\u001b[1;32m     24\u001b[0m \u001b[0max\u001b[0m\u001b[0;34m.\u001b[0m\u001b[0mlegend\u001b[0m\u001b[0;34m(\u001b[0m\u001b[0mloc\u001b[0m\u001b[0;34m=\u001b[0m\u001b[0;34m'best'\u001b[0m\u001b[0;34m)\u001b[0m\u001b[0;34m\u001b[0m\u001b[0m\n\u001b[1;32m     25\u001b[0m \u001b[0;34m\u001b[0m\u001b[0m\n\u001b[0;32m---> 26\u001b[0;31m \u001b[0mfig\u001b[0m\u001b[0;34m.\u001b[0m\u001b[0msavefig\u001b[0m\u001b[0;34m(\u001b[0m\u001b[0;34m'../paper_figure/model_prob.pdf'\u001b[0m\u001b[0;34m)\u001b[0m\u001b[0;34m\u001b[0m\u001b[0m\n\u001b[0m",
      "\u001b[0;32m/n/home00/lee.5922/.local/lib/python2.7/site-packages/matplotlib/figure.pyc\u001b[0m in \u001b[0;36msavefig\u001b[0;34m(self, *args, **kwargs)\u001b[0m\n\u001b[1;32m   1571\u001b[0m             \u001b[0mself\u001b[0m\u001b[0;34m.\u001b[0m\u001b[0mset_frameon\u001b[0m\u001b[0;34m(\u001b[0m\u001b[0mframeon\u001b[0m\u001b[0;34m)\u001b[0m\u001b[0;34m\u001b[0m\u001b[0m\n\u001b[1;32m   1572\u001b[0m \u001b[0;34m\u001b[0m\u001b[0m\n\u001b[0;32m-> 1573\u001b[0;31m         \u001b[0mself\u001b[0m\u001b[0;34m.\u001b[0m\u001b[0mcanvas\u001b[0m\u001b[0;34m.\u001b[0m\u001b[0mprint_figure\u001b[0m\u001b[0;34m(\u001b[0m\u001b[0;34m*\u001b[0m\u001b[0margs\u001b[0m\u001b[0;34m,\u001b[0m \u001b[0;34m**\u001b[0m\u001b[0mkwargs\u001b[0m\u001b[0;34m)\u001b[0m\u001b[0;34m\u001b[0m\u001b[0m\n\u001b[0m\u001b[1;32m   1574\u001b[0m \u001b[0;34m\u001b[0m\u001b[0m\n\u001b[1;32m   1575\u001b[0m         \u001b[0;32mif\u001b[0m \u001b[0mframeon\u001b[0m\u001b[0;34m:\u001b[0m\u001b[0;34m\u001b[0m\u001b[0m\n",
      "\u001b[0;32m/n/home00/lee.5922/.local/lib/python2.7/site-packages/matplotlib/backend_bases.pyc\u001b[0m in \u001b[0;36mprint_figure\u001b[0;34m(self, filename, dpi, facecolor, edgecolor, orientation, format, **kwargs)\u001b[0m\n\u001b[1;32m   2250\u001b[0m                 \u001b[0morientation\u001b[0m\u001b[0;34m=\u001b[0m\u001b[0morientation\u001b[0m\u001b[0;34m,\u001b[0m\u001b[0;34m\u001b[0m\u001b[0m\n\u001b[1;32m   2251\u001b[0m                 \u001b[0mbbox_inches_restore\u001b[0m\u001b[0;34m=\u001b[0m\u001b[0m_bbox_inches_restore\u001b[0m\u001b[0;34m,\u001b[0m\u001b[0;34m\u001b[0m\u001b[0m\n\u001b[0;32m-> 2252\u001b[0;31m                 **kwargs)\n\u001b[0m\u001b[1;32m   2253\u001b[0m         \u001b[0;32mfinally\u001b[0m\u001b[0;34m:\u001b[0m\u001b[0;34m\u001b[0m\u001b[0m\n\u001b[1;32m   2254\u001b[0m             \u001b[0;32mif\u001b[0m \u001b[0mbbox_inches\u001b[0m \u001b[0;32mand\u001b[0m \u001b[0mrestore_bbox\u001b[0m\u001b[0;34m:\u001b[0m\u001b[0;34m\u001b[0m\u001b[0m\n",
      "\u001b[0;32m/n/home00/lee.5922/.local/lib/python2.7/site-packages/matplotlib/backends/backend_pdf.pyc\u001b[0m in \u001b[0;36mprint_pdf\u001b[0;34m(self, filename, **kwargs)\u001b[0m\n\u001b[1;32m   2525\u001b[0m                 \u001b[0mRendererPdf\u001b[0m\u001b[0;34m(\u001b[0m\u001b[0mfile\u001b[0m\u001b[0;34m,\u001b[0m \u001b[0mimage_dpi\u001b[0m\u001b[0;34m,\u001b[0m \u001b[0mheight\u001b[0m\u001b[0;34m,\u001b[0m \u001b[0mwidth\u001b[0m\u001b[0;34m)\u001b[0m\u001b[0;34m,\u001b[0m\u001b[0;34m\u001b[0m\u001b[0m\n\u001b[1;32m   2526\u001b[0m                 bbox_inches_restore=_bbox_inches_restore)\n\u001b[0;32m-> 2527\u001b[0;31m             \u001b[0mself\u001b[0m\u001b[0;34m.\u001b[0m\u001b[0mfigure\u001b[0m\u001b[0;34m.\u001b[0m\u001b[0mdraw\u001b[0m\u001b[0;34m(\u001b[0m\u001b[0mrenderer\u001b[0m\u001b[0;34m)\u001b[0m\u001b[0;34m\u001b[0m\u001b[0m\n\u001b[0m\u001b[1;32m   2528\u001b[0m             \u001b[0mrenderer\u001b[0m\u001b[0;34m.\u001b[0m\u001b[0mfinalize\u001b[0m\u001b[0;34m(\u001b[0m\u001b[0;34m)\u001b[0m\u001b[0;34m\u001b[0m\u001b[0m\n\u001b[1;32m   2529\u001b[0m         \u001b[0;32mfinally\u001b[0m\u001b[0;34m:\u001b[0m\u001b[0;34m\u001b[0m\u001b[0m\n",
      "\u001b[0;32m/n/home00/lee.5922/.local/lib/python2.7/site-packages/matplotlib/artist.pyc\u001b[0m in \u001b[0;36mdraw_wrapper\u001b[0;34m(artist, renderer, *args, **kwargs)\u001b[0m\n\u001b[1;32m     61\u001b[0m     \u001b[0;32mdef\u001b[0m \u001b[0mdraw_wrapper\u001b[0m\u001b[0;34m(\u001b[0m\u001b[0martist\u001b[0m\u001b[0;34m,\u001b[0m \u001b[0mrenderer\u001b[0m\u001b[0;34m,\u001b[0m \u001b[0;34m*\u001b[0m\u001b[0margs\u001b[0m\u001b[0;34m,\u001b[0m \u001b[0;34m**\u001b[0m\u001b[0mkwargs\u001b[0m\u001b[0;34m)\u001b[0m\u001b[0;34m:\u001b[0m\u001b[0;34m\u001b[0m\u001b[0m\n\u001b[1;32m     62\u001b[0m         \u001b[0mbefore\u001b[0m\u001b[0;34m(\u001b[0m\u001b[0martist\u001b[0m\u001b[0;34m,\u001b[0m \u001b[0mrenderer\u001b[0m\u001b[0;34m)\u001b[0m\u001b[0;34m\u001b[0m\u001b[0m\n\u001b[0;32m---> 63\u001b[0;31m         \u001b[0mdraw\u001b[0m\u001b[0;34m(\u001b[0m\u001b[0martist\u001b[0m\u001b[0;34m,\u001b[0m \u001b[0mrenderer\u001b[0m\u001b[0;34m,\u001b[0m \u001b[0;34m*\u001b[0m\u001b[0margs\u001b[0m\u001b[0;34m,\u001b[0m \u001b[0;34m**\u001b[0m\u001b[0mkwargs\u001b[0m\u001b[0;34m)\u001b[0m\u001b[0;34m\u001b[0m\u001b[0m\n\u001b[0m\u001b[1;32m     64\u001b[0m         \u001b[0mafter\u001b[0m\u001b[0;34m(\u001b[0m\u001b[0martist\u001b[0m\u001b[0;34m,\u001b[0m \u001b[0mrenderer\u001b[0m\u001b[0;34m)\u001b[0m\u001b[0;34m\u001b[0m\u001b[0m\n\u001b[1;32m     65\u001b[0m \u001b[0;34m\u001b[0m\u001b[0m\n",
      "\u001b[0;32m/n/home00/lee.5922/.local/lib/python2.7/site-packages/matplotlib/figure.pyc\u001b[0m in \u001b[0;36mdraw\u001b[0;34m(self, renderer)\u001b[0m\n\u001b[1;32m   1142\u001b[0m \u001b[0;34m\u001b[0m\u001b[0m\n\u001b[1;32m   1143\u001b[0m             mimage._draw_list_compositing_images(\n\u001b[0;32m-> 1144\u001b[0;31m                 renderer, self, dsu, self.suppressComposite)\n\u001b[0m\u001b[1;32m   1145\u001b[0m \u001b[0;34m\u001b[0m\u001b[0m\n\u001b[1;32m   1146\u001b[0m             \u001b[0mrenderer\u001b[0m\u001b[0;34m.\u001b[0m\u001b[0mclose_group\u001b[0m\u001b[0;34m(\u001b[0m\u001b[0;34m'figure'\u001b[0m\u001b[0;34m)\u001b[0m\u001b[0;34m\u001b[0m\u001b[0m\n",
      "\u001b[0;32m/n/home00/lee.5922/.local/lib/python2.7/site-packages/matplotlib/image.pyc\u001b[0m in \u001b[0;36m_draw_list_compositing_images\u001b[0;34m(renderer, parent, dsu, suppress_composite)\u001b[0m\n\u001b[1;32m    137\u001b[0m     \u001b[0;32mif\u001b[0m \u001b[0mnot_composite\u001b[0m \u001b[0;32mor\u001b[0m \u001b[0;32mnot\u001b[0m \u001b[0mhas_images\u001b[0m\u001b[0;34m:\u001b[0m\u001b[0;34m\u001b[0m\u001b[0m\n\u001b[1;32m    138\u001b[0m         \u001b[0;32mfor\u001b[0m \u001b[0mzorder\u001b[0m\u001b[0;34m,\u001b[0m \u001b[0ma\u001b[0m \u001b[0;32min\u001b[0m \u001b[0mdsu\u001b[0m\u001b[0;34m:\u001b[0m\u001b[0;34m\u001b[0m\u001b[0m\n\u001b[0;32m--> 139\u001b[0;31m             \u001b[0ma\u001b[0m\u001b[0;34m.\u001b[0m\u001b[0mdraw\u001b[0m\u001b[0;34m(\u001b[0m\u001b[0mrenderer\u001b[0m\u001b[0;34m)\u001b[0m\u001b[0;34m\u001b[0m\u001b[0m\n\u001b[0m\u001b[1;32m    140\u001b[0m     \u001b[0;32melse\u001b[0m\u001b[0;34m:\u001b[0m\u001b[0;34m\u001b[0m\u001b[0m\n\u001b[1;32m    141\u001b[0m         \u001b[0;31m# Composite any adjacent images together\u001b[0m\u001b[0;34m\u001b[0m\u001b[0;34m\u001b[0m\u001b[0m\n",
      "\u001b[0;32m/n/home00/lee.5922/.local/lib/python2.7/site-packages/matplotlib/artist.pyc\u001b[0m in \u001b[0;36mdraw_wrapper\u001b[0;34m(artist, renderer, *args, **kwargs)\u001b[0m\n\u001b[1;32m     61\u001b[0m     \u001b[0;32mdef\u001b[0m \u001b[0mdraw_wrapper\u001b[0m\u001b[0;34m(\u001b[0m\u001b[0martist\u001b[0m\u001b[0;34m,\u001b[0m \u001b[0mrenderer\u001b[0m\u001b[0;34m,\u001b[0m \u001b[0;34m*\u001b[0m\u001b[0margs\u001b[0m\u001b[0;34m,\u001b[0m \u001b[0;34m**\u001b[0m\u001b[0mkwargs\u001b[0m\u001b[0;34m)\u001b[0m\u001b[0;34m:\u001b[0m\u001b[0;34m\u001b[0m\u001b[0m\n\u001b[1;32m     62\u001b[0m         \u001b[0mbefore\u001b[0m\u001b[0;34m(\u001b[0m\u001b[0martist\u001b[0m\u001b[0;34m,\u001b[0m \u001b[0mrenderer\u001b[0m\u001b[0;34m)\u001b[0m\u001b[0;34m\u001b[0m\u001b[0m\n\u001b[0;32m---> 63\u001b[0;31m         \u001b[0mdraw\u001b[0m\u001b[0;34m(\u001b[0m\u001b[0martist\u001b[0m\u001b[0;34m,\u001b[0m \u001b[0mrenderer\u001b[0m\u001b[0;34m,\u001b[0m \u001b[0;34m*\u001b[0m\u001b[0margs\u001b[0m\u001b[0;34m,\u001b[0m \u001b[0;34m**\u001b[0m\u001b[0mkwargs\u001b[0m\u001b[0;34m)\u001b[0m\u001b[0;34m\u001b[0m\u001b[0m\n\u001b[0m\u001b[1;32m     64\u001b[0m         \u001b[0mafter\u001b[0m\u001b[0;34m(\u001b[0m\u001b[0martist\u001b[0m\u001b[0;34m,\u001b[0m \u001b[0mrenderer\u001b[0m\u001b[0;34m)\u001b[0m\u001b[0;34m\u001b[0m\u001b[0m\n\u001b[1;32m     65\u001b[0m \u001b[0;34m\u001b[0m\u001b[0m\n",
      "\u001b[0;32m/n/home00/lee.5922/.local/lib/python2.7/site-packages/matplotlib/axes/_base.pyc\u001b[0m in \u001b[0;36mdraw\u001b[0;34m(self, renderer, inframe)\u001b[0m\n\u001b[1;32m   2424\u001b[0m             \u001b[0mrenderer\u001b[0m\u001b[0;34m.\u001b[0m\u001b[0mstop_rasterizing\u001b[0m\u001b[0;34m(\u001b[0m\u001b[0;34m)\u001b[0m\u001b[0;34m\u001b[0m\u001b[0m\n\u001b[1;32m   2425\u001b[0m \u001b[0;34m\u001b[0m\u001b[0m\n\u001b[0;32m-> 2426\u001b[0;31m         \u001b[0mmimage\u001b[0m\u001b[0;34m.\u001b[0m\u001b[0m_draw_list_compositing_images\u001b[0m\u001b[0;34m(\u001b[0m\u001b[0mrenderer\u001b[0m\u001b[0;34m,\u001b[0m \u001b[0mself\u001b[0m\u001b[0;34m,\u001b[0m \u001b[0mdsu\u001b[0m\u001b[0;34m)\u001b[0m\u001b[0;34m\u001b[0m\u001b[0m\n\u001b[0m\u001b[1;32m   2427\u001b[0m \u001b[0;34m\u001b[0m\u001b[0m\n\u001b[1;32m   2428\u001b[0m         \u001b[0mrenderer\u001b[0m\u001b[0;34m.\u001b[0m\u001b[0mclose_group\u001b[0m\u001b[0;34m(\u001b[0m\u001b[0;34m'axes'\u001b[0m\u001b[0;34m)\u001b[0m\u001b[0;34m\u001b[0m\u001b[0m\n",
      "\u001b[0;32m/n/home00/lee.5922/.local/lib/python2.7/site-packages/matplotlib/image.pyc\u001b[0m in \u001b[0;36m_draw_list_compositing_images\u001b[0;34m(renderer, parent, dsu, suppress_composite)\u001b[0m\n\u001b[1;32m    137\u001b[0m     \u001b[0;32mif\u001b[0m \u001b[0mnot_composite\u001b[0m \u001b[0;32mor\u001b[0m \u001b[0;32mnot\u001b[0m \u001b[0mhas_images\u001b[0m\u001b[0;34m:\u001b[0m\u001b[0;34m\u001b[0m\u001b[0m\n\u001b[1;32m    138\u001b[0m         \u001b[0;32mfor\u001b[0m \u001b[0mzorder\u001b[0m\u001b[0;34m,\u001b[0m \u001b[0ma\u001b[0m \u001b[0;32min\u001b[0m \u001b[0mdsu\u001b[0m\u001b[0;34m:\u001b[0m\u001b[0;34m\u001b[0m\u001b[0m\n\u001b[0;32m--> 139\u001b[0;31m             \u001b[0ma\u001b[0m\u001b[0;34m.\u001b[0m\u001b[0mdraw\u001b[0m\u001b[0;34m(\u001b[0m\u001b[0mrenderer\u001b[0m\u001b[0;34m)\u001b[0m\u001b[0;34m\u001b[0m\u001b[0m\n\u001b[0m\u001b[1;32m    140\u001b[0m     \u001b[0;32melse\u001b[0m\u001b[0;34m:\u001b[0m\u001b[0;34m\u001b[0m\u001b[0m\n\u001b[1;32m    141\u001b[0m         \u001b[0;31m# Composite any adjacent images together\u001b[0m\u001b[0;34m\u001b[0m\u001b[0;34m\u001b[0m\u001b[0m\n",
      "\u001b[0;32m/n/home00/lee.5922/.local/lib/python2.7/site-packages/matplotlib/artist.pyc\u001b[0m in \u001b[0;36mdraw_wrapper\u001b[0;34m(artist, renderer, *args, **kwargs)\u001b[0m\n\u001b[1;32m     61\u001b[0m     \u001b[0;32mdef\u001b[0m \u001b[0mdraw_wrapper\u001b[0m\u001b[0;34m(\u001b[0m\u001b[0martist\u001b[0m\u001b[0;34m,\u001b[0m \u001b[0mrenderer\u001b[0m\u001b[0;34m,\u001b[0m \u001b[0;34m*\u001b[0m\u001b[0margs\u001b[0m\u001b[0;34m,\u001b[0m \u001b[0;34m**\u001b[0m\u001b[0mkwargs\u001b[0m\u001b[0;34m)\u001b[0m\u001b[0;34m:\u001b[0m\u001b[0;34m\u001b[0m\u001b[0m\n\u001b[1;32m     62\u001b[0m         \u001b[0mbefore\u001b[0m\u001b[0;34m(\u001b[0m\u001b[0martist\u001b[0m\u001b[0;34m,\u001b[0m \u001b[0mrenderer\u001b[0m\u001b[0;34m)\u001b[0m\u001b[0;34m\u001b[0m\u001b[0m\n\u001b[0;32m---> 63\u001b[0;31m         \u001b[0mdraw\u001b[0m\u001b[0;34m(\u001b[0m\u001b[0martist\u001b[0m\u001b[0;34m,\u001b[0m \u001b[0mrenderer\u001b[0m\u001b[0;34m,\u001b[0m \u001b[0;34m*\u001b[0m\u001b[0margs\u001b[0m\u001b[0;34m,\u001b[0m \u001b[0;34m**\u001b[0m\u001b[0mkwargs\u001b[0m\u001b[0;34m)\u001b[0m\u001b[0;34m\u001b[0m\u001b[0m\n\u001b[0m\u001b[1;32m     64\u001b[0m         \u001b[0mafter\u001b[0m\u001b[0;34m(\u001b[0m\u001b[0martist\u001b[0m\u001b[0;34m,\u001b[0m \u001b[0mrenderer\u001b[0m\u001b[0;34m)\u001b[0m\u001b[0;34m\u001b[0m\u001b[0m\n\u001b[1;32m     65\u001b[0m \u001b[0;34m\u001b[0m\u001b[0m\n",
      "\u001b[0;32m/n/home00/lee.5922/.local/lib/python2.7/site-packages/matplotlib/collections.pyc\u001b[0m in \u001b[0;36mdraw\u001b[0;34m(self, renderer)\u001b[0m\n\u001b[1;32m    352\u001b[0m                 \u001b[0mself\u001b[0m\u001b[0;34m.\u001b[0m\u001b[0m_linewidths\u001b[0m\u001b[0;34m,\u001b[0m \u001b[0mself\u001b[0m\u001b[0;34m.\u001b[0m\u001b[0m_linestyles\u001b[0m\u001b[0;34m,\u001b[0m\u001b[0;34m\u001b[0m\u001b[0m\n\u001b[1;32m    353\u001b[0m                 \u001b[0mself\u001b[0m\u001b[0;34m.\u001b[0m\u001b[0m_antialiaseds\u001b[0m\u001b[0;34m,\u001b[0m \u001b[0mself\u001b[0m\u001b[0;34m.\u001b[0m\u001b[0m_urls\u001b[0m\u001b[0;34m,\u001b[0m\u001b[0;34m\u001b[0m\u001b[0m\n\u001b[0;32m--> 354\u001b[0;31m                 self._offset_position)\n\u001b[0m\u001b[1;32m    355\u001b[0m \u001b[0;34m\u001b[0m\u001b[0m\n\u001b[1;32m    356\u001b[0m         \u001b[0mgc\u001b[0m\u001b[0;34m.\u001b[0m\u001b[0mrestore\u001b[0m\u001b[0;34m(\u001b[0m\u001b[0;34m)\u001b[0m\u001b[0;34m\u001b[0m\u001b[0m\n",
      "\u001b[0;32m/n/home00/lee.5922/.local/lib/python2.7/site-packages/matplotlib/backends/backend_pdf.pyc\u001b[0m in \u001b[0;36mdraw_path_collection\u001b[0;34m(self, gc, master_transform, paths, all_transforms, offsets, offsetTrans, facecolors, edgecolors, linewidths, linestyles, antialiaseds, urls, offset_position)\u001b[0m\n\u001b[1;32m   1682\u001b[0m                 \u001b[0moffsets\u001b[0m\u001b[0;34m,\u001b[0m \u001b[0moffsetTrans\u001b[0m\u001b[0;34m,\u001b[0m \u001b[0mfacecolors\u001b[0m\u001b[0;34m,\u001b[0m \u001b[0medgecolors\u001b[0m\u001b[0;34m,\u001b[0m\u001b[0;34m\u001b[0m\u001b[0m\n\u001b[1;32m   1683\u001b[0m                 \u001b[0mlinewidths\u001b[0m\u001b[0;34m,\u001b[0m \u001b[0mlinestyles\u001b[0m\u001b[0;34m,\u001b[0m \u001b[0mantialiaseds\u001b[0m\u001b[0;34m,\u001b[0m \u001b[0murls\u001b[0m\u001b[0;34m,\u001b[0m\u001b[0;34m\u001b[0m\u001b[0m\n\u001b[0;32m-> 1684\u001b[0;31m                 offset_position)\n\u001b[0m\u001b[1;32m   1685\u001b[0m \u001b[0;34m\u001b[0m\u001b[0m\n\u001b[1;32m   1686\u001b[0m         \u001b[0mpadding\u001b[0m \u001b[0;34m=\u001b[0m \u001b[0mnp\u001b[0m\u001b[0;34m.\u001b[0m\u001b[0mmax\u001b[0m\u001b[0;34m(\u001b[0m\u001b[0mlinewidths\u001b[0m\u001b[0;34m)\u001b[0m\u001b[0;34m\u001b[0m\u001b[0m\n",
      "\u001b[0;32m/n/home00/lee.5922/.local/lib/python2.7/site-packages/matplotlib/backend_bases.pyc\u001b[0m in \u001b[0;36mdraw_path_collection\u001b[0;34m(self, gc, master_transform, paths, all_transforms, offsets, offsetTrans, facecolors, edgecolors, linewidths, linestyles, antialiaseds, urls, offset_position)\u001b[0m\n\u001b[1;32m    311\u001b[0m             transform = transforms.Affine2D(\n\u001b[1;32m    312\u001b[0m                             transform.get_matrix()).translate(xo, yo)\n\u001b[0;32m--> 313\u001b[0;31m             \u001b[0mself\u001b[0m\u001b[0;34m.\u001b[0m\u001b[0mdraw_path\u001b[0m\u001b[0;34m(\u001b[0m\u001b[0mgc0\u001b[0m\u001b[0;34m,\u001b[0m \u001b[0mpath\u001b[0m\u001b[0;34m,\u001b[0m \u001b[0mtransform\u001b[0m\u001b[0;34m,\u001b[0m \u001b[0mrgbFace\u001b[0m\u001b[0;34m)\u001b[0m\u001b[0;34m\u001b[0m\u001b[0m\n\u001b[0m\u001b[1;32m    314\u001b[0m \u001b[0;34m\u001b[0m\u001b[0m\n\u001b[1;32m    315\u001b[0m     def draw_quad_mesh(self, gc, master_transform, meshWidth, meshHeight,\n",
      "\u001b[0;32m/n/home00/lee.5922/.local/lib/python2.7/site-packages/matplotlib/backends/backend_pdf.pyc\u001b[0m in \u001b[0;36mdraw_path\u001b[0;34m(self, gc, path, transform, rgbFace)\u001b[0m\n\u001b[1;32m   1634\u001b[0m             \u001b[0mpath\u001b[0m\u001b[0;34m,\u001b[0m \u001b[0mtransform\u001b[0m\u001b[0;34m,\u001b[0m\u001b[0;34m\u001b[0m\u001b[0m\n\u001b[1;32m   1635\u001b[0m             \u001b[0mrgbFace\u001b[0m \u001b[0;32mis\u001b[0m \u001b[0mNone\u001b[0m \u001b[0;32mand\u001b[0m \u001b[0mgc\u001b[0m\u001b[0;34m.\u001b[0m\u001b[0mget_hatch_path\u001b[0m\u001b[0;34m(\u001b[0m\u001b[0;34m)\u001b[0m \u001b[0;32mis\u001b[0m \u001b[0mNone\u001b[0m\u001b[0;34m,\u001b[0m\u001b[0;34m\u001b[0m\u001b[0m\n\u001b[0;32m-> 1636\u001b[0;31m             gc.get_sketch_params())\n\u001b[0m\u001b[1;32m   1637\u001b[0m         \u001b[0mself\u001b[0m\u001b[0;34m.\u001b[0m\u001b[0mfile\u001b[0m\u001b[0;34m.\u001b[0m\u001b[0moutput\u001b[0m\u001b[0;34m(\u001b[0m\u001b[0mself\u001b[0m\u001b[0;34m.\u001b[0m\u001b[0mgc\u001b[0m\u001b[0;34m.\u001b[0m\u001b[0mpaint\u001b[0m\u001b[0;34m(\u001b[0m\u001b[0;34m)\u001b[0m\u001b[0;34m)\u001b[0m\u001b[0;34m\u001b[0m\u001b[0m\n\u001b[1;32m   1638\u001b[0m \u001b[0;34m\u001b[0m\u001b[0m\n",
      "\u001b[0;32m/n/home00/lee.5922/.local/lib/python2.7/site-packages/matplotlib/backends/backend_pdf.pyc\u001b[0m in \u001b[0;36mwritePath\u001b[0;34m(self, path, transform, clip, sketch)\u001b[0m\n\u001b[1;32m   1439\u001b[0m             \u001b[0msimplify\u001b[0m \u001b[0;34m=\u001b[0m \u001b[0mFalse\u001b[0m\u001b[0;34m\u001b[0m\u001b[0m\n\u001b[1;32m   1440\u001b[0m         cmds = self.pathOperations(path, transform, clip, simplify=simplify,\n\u001b[0;32m-> 1441\u001b[0;31m                                    sketch=sketch)\n\u001b[0m\u001b[1;32m   1442\u001b[0m         \u001b[0mself\u001b[0m\u001b[0;34m.\u001b[0m\u001b[0moutput\u001b[0m\u001b[0;34m(\u001b[0m\u001b[0;34m*\u001b[0m\u001b[0mcmds\u001b[0m\u001b[0;34m)\u001b[0m\u001b[0;34m\u001b[0m\u001b[0m\n\u001b[1;32m   1443\u001b[0m \u001b[0;34m\u001b[0m\u001b[0m\n",
      "\u001b[0;32m/n/home00/lee.5922/.local/lib/python2.7/site-packages/matplotlib/backends/backend_pdf.pyc\u001b[0m in \u001b[0;36mpathOperations\u001b[0;34m(path, transform, clip, simplify, sketch)\u001b[0m\n\u001b[1;32m   1429\u001b[0m             \u001b[0;36m6\u001b[0m\u001b[0;34m,\u001b[0m\u001b[0;34m\u001b[0m\u001b[0m\n\u001b[1;32m   1430\u001b[0m             \u001b[0;34m[\u001b[0m\u001b[0mOp\u001b[0m\u001b[0;34m.\u001b[0m\u001b[0mmoveto\u001b[0m\u001b[0;34m.\u001b[0m\u001b[0mop\u001b[0m\u001b[0;34m,\u001b[0m \u001b[0mOp\u001b[0m\u001b[0;34m.\u001b[0m\u001b[0mlineto\u001b[0m\u001b[0;34m.\u001b[0m\u001b[0mop\u001b[0m\u001b[0;34m,\u001b[0m \u001b[0;34mb''\u001b[0m\u001b[0;34m,\u001b[0m \u001b[0mOp\u001b[0m\u001b[0;34m.\u001b[0m\u001b[0mcurveto\u001b[0m\u001b[0;34m.\u001b[0m\u001b[0mop\u001b[0m\u001b[0;34m,\u001b[0m \u001b[0mOp\u001b[0m\u001b[0;34m.\u001b[0m\u001b[0mclosepath\u001b[0m\u001b[0;34m.\u001b[0m\u001b[0mop\u001b[0m\u001b[0;34m]\u001b[0m\u001b[0;34m,\u001b[0m\u001b[0;34m\u001b[0m\u001b[0m\n\u001b[0;32m-> 1431\u001b[0;31m             True))]\n\u001b[0m\u001b[1;32m   1432\u001b[0m \u001b[0;34m\u001b[0m\u001b[0m\n\u001b[1;32m   1433\u001b[0m     \u001b[0;32mdef\u001b[0m \u001b[0mwritePath\u001b[0m\u001b[0;34m(\u001b[0m\u001b[0mself\u001b[0m\u001b[0;34m,\u001b[0m \u001b[0mpath\u001b[0m\u001b[0;34m,\u001b[0m \u001b[0mtransform\u001b[0m\u001b[0;34m,\u001b[0m \u001b[0mclip\u001b[0m\u001b[0;34m=\u001b[0m\u001b[0mFalse\u001b[0m\u001b[0;34m,\u001b[0m \u001b[0msketch\u001b[0m\u001b[0;34m=\u001b[0m\u001b[0mNone\u001b[0m\u001b[0;34m)\u001b[0m\u001b[0;34m:\u001b[0m\u001b[0;34m\u001b[0m\u001b[0m\n",
      "\u001b[0;31mKeyboardInterrupt\u001b[0m: "
     ]
    },
    {
     "data": {
      "image/png": "[encoded data removed]",
      "text/plain": [
       "<matplotlib.figure.Figure at 0x7faaef77c250>"
      ]
     },
     "metadata": {},
     "output_type": "display_data"
    }
   ],
   "source": [
    "bins, step = np.linspace(0, 1.0, 31, retstep = True)\n",
    "Ngal_cmass, _ = np.histogram( clean_cmass_data_des['EachProb_CMASS'], bins=bins )\n",
    "Ngal_all, _ = np.histogram( gold_st82['EachProb_CMASS'], bins=bins )\n",
    "ngal = Ngal_cmass * 1./Ngal_all\n",
    "err = 1./np.sqrt(Ngal_cmass) #* ngal\n",
    "\n",
    "\n",
    "Ngal_dmass_spt, _ = np.histogram( gold_spt['EachProb_CMASS'], bins=bins , weights=gold_spt['EachProb_CMASS'])\n",
    "Ngal_all_spt, _ = np.histogram( gold_spt['EachProb_CMASS'], bins=bins )\n",
    "ngal_spt = Ngal_dmass_spt * 1./Ngal_all_spt\n",
    "err_spt = 1./np.sqrt(Ngal_dmass_spt)# * ngal_spt\n",
    "\n",
    "\n",
    "fig, ax = plt.subplots(figsize = (5,5))\n",
    "\n",
    "ax.errorbar( bins[:-1] + step/2.-0.005, ngal, yerr = err, fmt='none', color = 'k', alpha = 1, label='cmass in s82' )\n",
    "ax.errorbar( bins[:-1] + step/2., ngal_spt, yerr = err_spt, fmt='none', color = 'r', alpha = 1, label = 'dmass' )\n",
    "\n",
    "ax.plot([0,1], [0,1], '-', lw = 0.5, color = 'k')\n",
    "ax.set_ylim(0,1)\n",
    "ax.set_xlim(0,1)\n",
    "ax.set_xlabel('Assigned probability', fontsize = 15)\n",
    "ax.set_ylabel('CMASS fraction per bin', fontsize = 15)\n",
    "ax.legend(loc='best')\n",
    "\n",
    "fig.savefig('../paper_figure/model_prob.pdf')"
   ]
  },
  {
   "cell_type": "code",
   "execution_count": null,
   "metadata": {},
   "outputs": [],
   "source": []
  },
  {
   "cell_type": "markdown",
   "metadata": {
    "collapsed": true
   },
   "source": [
    "## Density vs maglimit"
   ]
  },
  {
   "cell_type": "code",
   "execution_count": 12,
   "metadata": {},
   "outputs": [
    {
     "name": "stdout",
     "output_type": "stream",
     "text": [
      "NSIDE = 4096\n",
      "ORDERING = NESTED in fits file\n",
      "INDXSCHM = IMPLICIT\n",
      "Ordering converted to RING\n",
      "NSIDE = 4096\n",
      "ORDERING = RING in fits file\n",
      "INDXSCHM = IMPLICIT\n",
      "NSIDE = 4096\n",
      "ORDERING = RING in fits file\n",
      "INDXSCHM = IMPLICIT\n",
      "NSIDE = 4096\n",
      "ORDERING = RING in fits file\n",
      "INDXSCHM = IMPLICIT\n"
     ]
    }
   ],
   "source": [
    "# apply basic Cuts to maglim map\n",
    "path = '/n/des/lee.5922/data/balrog_cat/'\n",
    "goodmask = path+'y1a1_gold_1.0.2_wide_footprint_4096.fit'\n",
    "badmask = path+'y1a1_gold_1.0.2_wide_badmask_4096.fit'\n",
    "fraction = hp.read_map(path+'Y1A1_WIDE_frac_combined_griz_o.4096_t.32768_EQU.fits')\n",
    "\n",
    "# Note that the masks here in in equatorial, ring format.\n",
    "gdmask = hp.read_map(goodmask)\n",
    "bdmask = hp.read_map(badmask)\n",
    "\n",
    "ind_good_ring = np.where(( gdmask >= 1)\n",
    "                         & ((bdmask.astype('int64') & (64+32+8)) == 0)\n",
    "                         & (fraction > 0.8)\n",
    "                         )\n",
    "\n",
    "goldmask = np.zeros(gdmask.size, dtype=bool)\n",
    "goldmask[ind_good_ring] = 1\n",
    "\n",
    "path = '/n/des/lee.5922/data/systematic_maps/'\n",
    "maglim_i = hp.read_map(path+'y1a1_gold_1.0.2_wide_auto_nside4096_i_10sigma.fits')\n",
    "maglim_i[~goldmask] = hp.UNSEEN"
   ]
  },
  {
   "cell_type": "code",
   "execution_count": 3,
   "metadata": {
    "collapsed": true
   },
   "outputs": [
    {
     "name": "stdout",
     "output_type": "stream",
     "text": [
      "Y1A1_GOLD_merged_01.fits\n",
      "Y1A1_GOLD_merged_02.fits\n",
      "Y1A1_GOLD_merged_03.fits\n",
      "Y1A1_GOLD_merged_04.fits\n",
      "Y1A1_GOLD_merged_05.fits\n",
      "Y1A1_GOLD_merged_06.fits\n",
      "Y1A1_GOLD_merged_07.fits\n",
      "Y1A1_GOLD_merged_08.fits\n",
      "Y1A1_GOLD_merged_09.fits\n",
      "Spatial Cut  4970916\n",
      "Spatial Cut  11313779\n",
      "Y1A1_GOLD_merged_10.fits\n",
      "Y1A1_GOLD_merged_11.fits\n",
      "Y1A1_GOLD_merged_12.fits\n",
      "Y1A1_GOLD_merged_13.fits\n",
      "Y1A1_GOLD_merged_14.fits\n",
      "Y1A1_GOLD_merged_15.fits\n",
      "Y1A1_GOLD_merged_16.fits\n",
      "Y1A1_GOLD_merged_17.fits\n",
      "Y1A1_GOLD_merged_18.fits\n",
      "Y1A1_GOLD_merged_19.fits\n",
      "Spatial Cut  2665556\n",
      "Spatial Cut  2269240\n",
      "Y1A1_GOLD_merged_20.fits\n",
      "Spatial Cut  216904\n",
      "Spatial Cut  311760\n"
     ]
    }
   ],
   "source": [
    "# calling data w/o cuts\n",
    "#des_gold_st82_list = []\n",
    "des_gold_spt1_list = []\n",
    "#des_gold_spt2_list = []\n",
    "for i in range(3):\n",
    "    des_gold = io.getDESY1A1catalogs(keyword = 'merged_'+str(i), gold=True)\n",
    "    #des_gold_st82 = Cuts.SpatialCuts(des_gold, ra=320, ra2=360, dec = -2, dec2 = 2)\n",
    "    des_gold_spt1 = Cuts.SpatialCuts(des_gold, ra=0, ra2=100, dec = -48, dec2 = -44)\n",
    "    #des_gold_spt2 = Cuts.SpatialCuts(des_gold, ra=50, ra2=100, dec = -52, dec2 = -48)\n",
    "    #des_gold_st82_list.append(des_gold_st82)\n",
    "    des_gold_spt1_list.append(des_gold_spt1)\n",
    "    #des_gold_spt2_list.append(des_gold_spt2)\n",
    "    des_gold = None\n",
    "\"\"\"\n",
    "des_gold_st82_list = np.hstack(des_gold_st82_list)\n",
    "mags = ['MAG_MODEL', 'MAG_DETMODEL', 'MAG_AUTO', 'MAG_APER_3', 'MAG_APER_4', 'MAG_APER_5', 'MAG_APER_6']\n",
    "des_gold_st82_list = getCorrectedMag( des_gold_st82_list, mags = mags, reddening = None )\n",
    "fitsio.write('result_cat/merged_des_st82_nocut.fits', des_gold_st82_list, clobber = True)\n",
    "\"\"\"\n",
    "des_gold_spt1_list = np.hstack(des_gold_spt1_list)\n",
    "mags = ['MAG_MODEL', 'MAG_DETMODEL', 'MAG_AUTO', 'MAG_APER_3', 'MAG_APER_4', 'MAG_APER_5', 'MAG_APER_6']\n",
    "des_gold_spt1_list = getCorrectedMag( des_gold_spt1_list, mags = mags, reddening = None )\n",
    "fitsio.write('result_cat/merged_des_spt_nocut.fits', des_gold_spt1_list, clobber = True)"
   ]
  },
  {
   "cell_type": "code",
   "execution_count": 160,
   "metadata": {},
   "outputs": [],
   "source": [
    "def CalculateOverdensity(des, maglim_i, nside = 512):\n",
    "    # maglim should be masked in advance\n",
    "    \n",
    "    maglim_i_256 = hp.ud_grade(maglim_i, nside_out = nside, pess=True)\n",
    "    bdmask = maglim_i_256 > 0\n",
    "    mapInd = np.arange(maglim_i_256.size)[bdmask] \n",
    "    buzInd = hpRaDecToHEALPixel( des['RA'], des['DEC'],nside=nside)\n",
    "    \n",
    "    \n",
    "    \n",
    "    # combine array\n",
    "    maglim_i_com = np.zeros((maglim_i_256[bdmask].size,), \\\n",
    "                            dtype=[('pix', 'int'),('sig', 'float')])                        \n",
    "    maglim_i_com['pix'] = mapInd\n",
    "    maglim_i_com['sig'] = maglim_i_256[bdmask]\n",
    "    \n",
    "    \n",
    "    MM = np.in1d(mapInd, buzInd)\n",
    "    maglim_i_com = maglim_i_com[MM]\n",
    "    \n",
    "    r, d = hpHEALPixelToRaDec(maglim_i_com['pix'], nside = nside)\n",
    "    fig, ax = plt.subplots()\n",
    "    ax.plot(r, d, '.')\n",
    "    \n",
    "    \n",
    "    N = []\n",
    "    for i in range(maglim_i_com.size):\n",
    "        n = np.sum(buzInd == maglim_i_com['pix'][i])\n",
    "        N.append(n)\n",
    "    N = np.array(N)\n",
    "    \n",
    "    Apix256 = hp.nside2pixarea( nside, degrees = True)\n",
    "    n256 = (N/Apix256) #[effectivemask]\n",
    "    #mapIndinbuz_mask = np.in1d(mapInd, buzInd)\n",
    "    #Atot = np.sum(bdmask) * Apix256\n",
    "    #ntot = des.size/Atot\n",
    "    ntot = np.mean(n256)\n",
    "    overdensity = (n256/ntot)\n",
    "    \n",
    "    bin_mag, s = np.linspace(21.8, 23, 20, retstep=True)\n",
    "    #bin_mag = #bin_mag + s/2.\n",
    "    mag_ind = np.digitize(maglim_i_com['sig'], bins = bin_mag)\n",
    "    avg_overdensity = []\n",
    "    error_over = []\n",
    "    for i in range(bin_mag.size):\n",
    "        ma = mag_ind == i\n",
    "        avg = np.mean(overdensity[ma])\n",
    "        avg_overdensity.append(avg)\n",
    "        Nt = np.sum(N[ma])\n",
    "        #print np.std(overdensity[ma])\n",
    "        err = np.std(overdensity[ma]) /np.sqrt(np.sum(ma))\n",
    "        error_over.append(err)\n",
    "        \n",
    "    return np.array(bin_mag), np.array(avg_overdensity), np.array(error_over)"
   ]
  },
  {
   "cell_type": "code",
   "execution_count": 66,
   "metadata": {},
   "outputs": [],
   "source": [
    "# masking maglim map within stripe82 region\n",
    "mapInd = np.arange(maglim_i.size)\n",
    "r, d = hpHEALPixelToRaDec(mapInd, nside = 4096)\n",
    "mask = (r > 320)&(r < 360) & (d >-2)&(d<2)\n",
    "maglim_i_st82 = maglim_i.copy()\n",
    "maglim_i_st82[~mask] = hp.UNSEEN\n",
    "\n",
    "# masking maglim map within spt region\n",
    "mask_spt = (r > 0)&(r < 100) & (d >-52)&(d<-48)\n",
    "maglim_i_spt = maglim_i.copy()\n",
    "maglim_i_spt[~mask_spt] = hp.UNSEEN"
   ]
  },
  {
   "cell_type": "code",
   "execution_count": 158,
   "metadata": {
    "collapsed": true
   },
   "outputs": [
    {
     "name": "stdout",
     "output_type": "stream",
     "text": [
      "nan\n",
      "0.0614206832197\n",
      "0.103998208837\n",
      "0.114463079785\n",
      "0.127525798663\n",
      "0.118901595\n",
      "0.117321217773\n",
      "0.133722649768\n",
      "0.129317375319\n",
      "0.131427133839\n",
      "0.12127907391\n",
      "0.131729675726\n",
      "0.131255439806\n",
      "0.136870884207\n",
      "0.135309326023\n",
      "0.125617853857\n",
      "0.158645248827\n",
      "0.128205488922\n",
      "0.0927554997303\n",
      "0.0822501367118\n"
     ]
    },
    {
     "data": {
      "image/png": "[encoded data removed]",
      "text/plain": [
       "<matplotlib.figure.Figure at 0xdff4d90>"
      ]
     },
     "metadata": {},
     "output_type": "display_data"
    }
   ],
   "source": [
    "bin_mag, avg_overdensity, error_over = CalculateOverdensity(merged_des_st82, maglim_i_st82, nside = 512)\n",
    "bin_mag2, avg_overdensity2, error_over2 = CalculateOverdensity(merged_des_patch, maglim_i_spt, nside = 512)"
   ]
  },
  {
   "cell_type": "code",
   "execution_count": 165,
   "metadata": {},
   "outputs": [
    {
     "data": {
      "image/png": "[encoded data removed]",
      "text/plain": [
       "<matplotlib.figure.Figure at 0xba8fb10>"
      ]
     },
     "metadata": {},
     "output_type": "display_data"
    },
    {
     "data": {
      "image/png": "[encoded data removed]",
      "text/plain": [
       "<matplotlib.figure.Figure at 0xc1d8ad0>"
      ]
     },
     "metadata": {},
     "output_type": "display_data"
    }
   ],
   "source": [
    "merged_des_st82_2 = merged_des_st82[merged_des_st82['MAG_AUTO_I_corrected']<= 21]\n",
    "merged_des_patch_2 = merged_des_patch[merged_des_patch['MAG_AUTO_I_corrected']<= 21]\n",
    "bin_mag3, avg_overdensity3, error_over3 = CalculateOverdensity(merged_des_st82_2, maglim_i_st82, nside = 512)\n",
    "bin_mag4, avg_overdensity4, error_over4 = CalculateOverdensity(merged_des_patch_2, maglim_i_spt, nside = 512)"
   ]
  },
  {
   "cell_type": "code",
   "execution_count": 168,
   "metadata": {},
   "outputs": [],
   "source": [
    "def chisquare_test(avg_overdensity, error_over):\n",
    "\n",
    "    avg_overdensity = np.array(avg_overdensity)\n",
    "    error_over = np.array(error_over)\n",
    "    mask = np.ma.masked_invalid(avg_overdensity)\n",
    "    #mask2 = np.ma.masked_invalid(error_over)\n",
    "    m = ((~mask.mask) & (error_over != 0))\n",
    "    #m2 = ~mask2.mask\n",
    "    galaxy_density = avg_overdensity[m]\n",
    "    err = error_over[m]\n",
    "    bin = bin_mag[m]\n",
    "    chisquare = np.sum((galaxy_density - 1.0)**2/err**2 )\n",
    "    return chisquare/np.sum(m)"
   ]
  },
  {
   "cell_type": "code",
   "execution_count": 169,
   "metadata": {},
   "outputs": [],
   "source": [
    "chi1 = chisquare_test(avg_overdensity, error_over)\n",
    "chi2 = chisquare_test(avg_overdensity2, error_over2)"
   ]
  },
  {
   "cell_type": "code",
   "execution_count": 166,
   "metadata": {
    "scrolled": false
   },
   "outputs": [
    {
     "data": {
      "text/plain": [
       "<matplotlib.legend.Legend at 0xc209cd0>"
      ]
     },
     "execution_count": 166,
     "metadata": {},
     "output_type": "execute_result"
    },
    {
     "data": {
      "image/png": "[encoded data removed]",
      "text/plain": [
       "<matplotlib.figure.Figure at 0xadc3150>"
      ]
     },
     "metadata": {},
     "output_type": "display_data"
    }
   ],
   "source": [
    "fig, ax = plt.subplots(1,1, figsize = (12, 8))\n",
    "#ax.plot(maglim_i_256[bdmask][zeromask], overdensity, '.')\n",
    "#ax.plot(bin_mag, avg_overdensity, '.')\n",
    "ax.errorbar(bin_mag, avg_overdensity, yerr = error_over, color = 'green', label = 'St82')\n",
    "ax.errorbar(bin_mag3, avg_overdensity3, yerr = error_over3, color = 'green', linestyle = '--', label = 'St82, cut21')\n",
    "ax.errorbar(bin_mag2 + 0.005, avg_overdensity2, yerr = error_over2, color = 'blue', label = 'spt')\n",
    "ax.errorbar(bin_mag4 + 0.005, avg_overdensity4, yerr = error_over4, color = 'blue', linestyle='--',label='SPT, cut21')\n",
    "ax.axhline(y=1, color='grey', linestyle='--')\n",
    "ax.set_xlabel('maglim_i')\n",
    "ax.set_ylabel('n512 / n_mean')\n",
    "ax.set_title('resolution 512, des_gold')\n",
    "ax.set_ylim(0,2)\n",
    "ax.set_xlim(21.8, 23)\n",
    "ax.legend(loc='best')"
   ]
  },
  {
   "cell_type": "markdown",
   "metadata": {},
   "source": [
    "## Density comparison in SPT and stripe82"
   ]
  },
  {
   "cell_type": "code",
   "execution_count": null,
   "metadata": {
    "collapsed": true
   },
   "outputs": [],
   "source": []
  }
 ],
 "metadata": {
  "kernelspec": {
   "display_name": "Python 2",
   "language": "python",
   "name": "python2"
  },
  "language_info": {
   "codemirror_mode": {
    "name": "ipython",
    "version": 2
   },
   "file_extension": ".py",
   "mimetype": "text/x-python",
   "name": "python",
   "nbconvert_exporter": "python",
   "pygments_lexer": "ipython2",
   "version": "2.7.14"
  }
 },
 "nbformat": 4,
 "nbformat_minor": 1
}
