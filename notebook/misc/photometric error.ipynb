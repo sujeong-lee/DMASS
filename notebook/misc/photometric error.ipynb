{
 "cells": [
  {
   "cell_type": "markdown",
   "metadata": {},
   "source": [
    "# Photometric error"
   ]
  },
  {
   "cell_type": "code",
   "execution_count": 1,
   "metadata": {
    "scrolled": true
   },
   "outputs": [],
   "source": [
    "import sys, os\n",
    "sys.path.append('../')\n",
    "from xd import *\n",
    "from utils import *\n",
    "import esutil\n",
    "import healpy as hp\n",
    "from systematics import *\n",
    "from matplotlib.backends.backend_pdf import PdfPages\n",
    "\n",
    "\n",
    "from matplotlib import rc\n",
    "rc('font',**{'family':'sans-serif','sans-serif':['Helvetica']})\n",
    "## for Palatino and other serif fonts use:\n",
    "#rc('font',**{'family':'serif','serif':['Palatino']})\n",
    "rc('text', usetex=True)\n",
    "\n",
    "\n",
    "%matplotlib inline\n",
    "\n",
    "%load_ext autoreload\n",
    "%autoreload 2"
   ]
  },
  {
   "cell_type": "code",
   "execution_count": 2,
   "metadata": {},
   "outputs": [],
   "source": [
    "def valid_hp(cat, nside = 4096):\n",
    "    \n",
    "    hpind = hpRaDecToHEALPixel(cat['RA'], cat['DEC'], nside=nside, nest= False)\n",
    "    hpind_reject = hpRaDecToHEALPixel(cat['RA'][cat['VETO_FLAG'] == 0], \n",
    "                                    cat['DEC'][cat['VETO_FLAG'] == 0], nside=nside, nest= False)\n",
    "    \n",
    "    hppixnumber = np.arange(hp.nside2npix(nside))\n",
    "    \n",
    "    geomask = np.in1d( hppixnumber, hpind )\n",
    "    rejectmask = np.in1d( hppixnumber, hpind_reject )\n",
    "    \n",
    "    print np.sum(geomask), np.sum(~rejectmask)\n",
    "    \n",
    "    \n",
    "    totalmask = geomask * (~rejectmask)\n",
    "    return hppixnumber[totalmask]\n",
    "\n",
    "\n",
    "def hp_mask(cat, valid_hpind, nside = 4096):\n",
    "    hpind = hpRaDecToHEALPixel(cat['RA'], cat['DEC'], nside=nside, nest= False)\n",
    "    HPmask = np.in1d(hpind, valid_hpind)\n",
    "    return HPmask\n",
    "\n",
    "\n",
    "\n",
    "\n",
    "def callingBOSSmask(option='SGC'):\n",
    "    \n",
    "    if option == 'SGC':\n",
    "        valid_hpind = fitsio.read('/n/des/lee.5922/data/cmass_cat/vetomask/mask_nside4096_Patchy-Mocks-Randoms-DR12SGC-COMPSAM_V6C.fits')\n",
    "    elif option == 'NGC': \n",
    "        valid_hpind = fitsio.read('/n/des/lee.5922/data/cmass_cat/vetomask/mask_nside4096_Patchy-Mocks-Randoms-DR12NGC-COMPSAM_V6C.fits')\n",
    "\n",
    "    CleanMask = np.zeros((valid_hpind.size, ), dtype=[('PIXEL', 'i4'),('RA', 'f8'), ('DEC', 'f8')])\n",
    "    CleanMask['PIXEL'] = valid_hpind\n",
    "    sys_ra, sys_dec = hpHEALPixelToRaDec(valid_hpind, nside = 4096)\n",
    "    CleanMask['RA'] = sys_ra\n",
    "    CleanMask['DEC'] = sys_dec\n",
    "    return CleanMask\n",
    "\n",
    "\n",
    "def BOSSvetoing(cat, option='SGC'):\n",
    "    \n",
    "    if option == 'SGC':\n",
    "        valid_hpind = esutil.io.read('/n/des/lee.5922/data/cmass_cat/vetomask/mask_nside4096_Patchy-Mocks-Randoms-DR12SGC-COMPSAM_V6C.fits')\n",
    "    elif option == 'NGC': \n",
    "        valid_hpind = esutil.io.read('/n/des/lee.5922/data/cmass_cat/vetomask/mask_nside4096_Patchy-Mocks-Randoms-DR12NGC-COMPSAM_V6C.fits')\n",
    "    elif option =='all':\n",
    "        valid_hpind = esutil.io.read(['/n/des/lee.5922/data/cmass_cat/vetomask/mask_nside4096_Patchy-Mocks-Randoms-DR12NGC-COMPSAM_V6C.fits',\n",
    "                                   '/n/des/lee.5922/data/cmass_cat/vetomask/mask_nside4096_Patchy-Mocks-Randoms-DR12SGC-COMPSAM_V6C.fits'],\n",
    "                                 combine=True)\n",
    "    hpind = hpRaDecToHEALPixel(cat['RA'], cat['DEC'], nside=4096, nest= False)\n",
    "    HPmask = np.in1d(hpind, valid_hpind)\n",
    "    \n",
    "    return cat[HPmask]\n",
    "\n",
    "#valid_hp4096 = valid_hp(mock_rand_ngc, nside = 4096)\n",
    "#vetoed_obj = hp_mask(mock_rand_ngc, valid_hp4096, nside = 4096)\n",
    "#print 'vetoed by flag', np.sum(mock_rand_ngc['VETO_FLAG'] == 0)\n",
    "#print 'vetoed by 4096mask', mock_rand_ngc.size - np.sum(vetoed_obj)\n",
    "#print 'vetoed by 2048mask', mock_rand_sgc.size - np.sum(vetoed_obj2048)"
   ]
  },
  {
   "cell_type": "code",
   "execution_count": 18,
   "metadata": {},
   "outputs": [
    {
     "name": "stdout",
     "output_type": "stream",
     "text": [
      "\n",
      "--------------------------------\n",
      " calling catalog\n",
      "--------------------------------\n",
      "dmass_spt_sys_v3.fits\n",
      "\n",
      "--------------------------------\n",
      " calling catalog\n",
      "--------------------------------\n",
      "gold_st82_prob.fits\n",
      "12637.112833275674\n",
      "117292.90214602613\n",
      "12639\n"
     ]
    }
   ],
   "source": [
    "\n",
    "rootdir = '../output/sfd_train_photo_SamPle_nozband_ran10_3_full_tol1e5/'\n",
    "dmass_spt = io.SearchAndCallFits(path = rootdir, columns = None, keyword = 'dmass_spt_sys_v3.fits')\n",
    "dmass_spt = dmass_spt[ dmass_spt['CMASS_PROB'] > 0.01 ]\n",
    "dmass_st82 = io.SearchAndCallFits(path = rootdir, columns = None, keyword = 'gold_st82_prob.fits')\n",
    "dmass_st82 =dmass_st82[ dmass_st82['EachProb_CMASS'] > 0.01]\n",
    "\n",
    "train = esutil.io.read(rootdir+'train_sample_des.fits')\n",
    "train = Cuts.keepGoodRegion(train)\n",
    "\n",
    "train_cmass = esutil.io.read(rootdir+'train_sample_sdss.fits')\n",
    "train_cmass = Cuts.keepGoodRegion(train_cmass)\n",
    "\n",
    "dmass_spt = Cuts.keepGoodRegion(dmass_spt)\n",
    "dmass_st82 = Cuts.keepGoodRegion(dmass_st82)\n",
    "\n",
    "print np.sum(dmass_st82['EachProb_CMASS'])\n",
    "print np.sum(dmass_spt['CMASS_PROB'])\n",
    "print train.size"
   ]
  },
  {
   "cell_type": "code",
   "execution_count": 54,
   "metadata": {},
   "outputs": [
    {
     "name": "stdout",
     "output_type": "stream",
     "text": [
      "1243.5360337558907 123.17511816060514\n"
     ]
    }
   ],
   "source": [
    "# calling map \n",
    "GoldMask = callingEliGoldMask()\n",
    "#GoldMask_st82 = Cuts.SpatialCuts(GoldMask, ra=320, ra2=360, dec=-2, dec2=2)\n",
    "GoldMask_st82 = GoldMask[ GoldMask['DEC'] > -3.0 ]\n",
    "GoldMask_spt = GoldMask[ GoldMask['DEC'] < -3.0 ]\n",
    "#GoldMask_spt = Cuts.SpatialCuts(GoldMask_spt, ra=0, ra2 = 100, dec=-52, dec2 = -48)\n",
    "\n",
    "pixarea = hp.nside2pixarea( 4096, degrees = True)\n",
    "sptnpix = np.sum(GoldMask_spt['FRAC']) #hp.get_map_size( GoldMask_spt['PIXEL'] )\n",
    "st82npix =  np.sum(GoldMask_st82['FRAC']) # hp.get_map_size( GoldMask_st82 )\n",
    "SPTMaparea = pixarea * sptnpix\n",
    "ST82Maparea = pixarea * st82npix\n",
    "\n",
    "print SPTMaparea, ST82Maparea"
   ]
  },
  {
   "cell_type": "code",
   "execution_count": 7,
   "metadata": {
    "collapsed": true
   },
   "outputs": [
    {
     "name": "stdout",
     "output_type": "stream",
     "text": [
      "\n",
      "PATH =  /n/des/lee.5922/data/systematic_maps/seeing_i_spt/\n",
      "Y1A1NEW_COADD_SPT_band_g_nside4096_oversamp4_FWHM_MEAN_coaddweights3_mean.fits.gz\n",
      "NSIDE = 4096\n",
      "ORDERING = RING in fits file\n",
      "INDXSCHM = EXPLICIT\n",
      "\n",
      "PATH =  /n/des/lee.5922/data/systematic_maps/seeing_i_spt/\n",
      "Y1A1NEW_COADD_SPT_band_r_nside4096_oversamp4_FWHM_MEAN_coaddweights3_mean.fits.gz\n",
      "NSIDE = 4096\n",
      "ORDERING = RING in fits file\n",
      "INDXSCHM = EXPLICIT\n",
      "\n",
      "PATH =  /n/des/lee.5922/data/systematic_maps/seeing_i_spt/\n",
      "Y1A1NEW_COADD_SPT_band_i_nside4096_oversamp4_FWHM_MEAN_coaddweights3_mean.fits.gz\n",
      "NSIDE = 4096\n",
      "ORDERING = RING in fits file\n",
      "INDXSCHM = EXPLICIT\n",
      "\n",
      "PATH =  /n/des/lee.5922/data/systematic_maps/seeing_i_spt/\n",
      "Y1A1NEW_COADD_SPT_band_z_nside4096_oversamp4_FWHM_MEAN_coaddweights3_mean.fits.gz\n",
      "NSIDE = 4096\n",
      "ORDERING = RING in fits file\n",
      "INDXSCHM = EXPLICIT\n"
     ]
    }
   ],
   "source": [
    "from run_systematics import sys_iteration, fitting_SP, sys_ngal, weightmultiply, fitting_allSP, calling_sysMap, maskingCatalogSP\n",
    "\n",
    "sysMap = calling_sysMap( properties=['FWHM'], kind='SPT', nside=4096 )"
   ]
  },
  {
   "cell_type": "code",
   "execution_count": 24,
   "metadata": {},
   "outputs": [
    {
     "name": "stdout",
     "output_type": "stream",
     "text": [
      "1218.6081762218325 1243.5360337558907\n"
     ]
    }
   ],
   "source": [
    "sys_mask = (sysMap['sys_FWHM_r_SPT']['SIGNAL'] < 4.5)\n",
    "map_mask = np.in1d( GoldMask_spt['PIXEL'],  sysMap['sys_FWHM_r_SPT']['PIXEL'][sys_mask])\n",
    "GoldMask_spt_sysmasked = GoldMask_spt[map_mask]\n",
    "sptnpix_sys = np.sum(GoldMask_spt_sysmasked['FRAC']) \n",
    "#print np.sum(sys_mask), np.sum(map_mask)\n",
    "#print GoldMask_spt.size, GoldMask_spt_sysmasked.size\n",
    "SPTMaparea_sys = pixarea * sptnpix_sys\n",
    "print SPTMaparea_sys, SPTMaparea"
   ]
  },
  {
   "cell_type": "code",
   "execution_count": 5,
   "metadata": {},
   "outputs": [],
   "source": [
    "\n",
    "#hpix_dmass = hpRaDecToHEALPixel(dmass_spt['RA'], dmass_spt['DEC'], nside=4096, nest= False)\n",
    "#dmass_spt_hpix = appendColumn(dmass_spt, name = 'PIXEL', value = hpix_dmass, dtypes=None)"
   ]
  },
  {
   "cell_type": "code",
   "execution_count": 32,
   "metadata": {},
   "outputs": [],
   "source": [
    "import pandas as pd\n",
    "desData = pd.DataFrame(dmass_spt)\n",
    "goldData = pd.DataFrame(GoldMask_spt)\n",
    "matched = pd.merge(desData, goldData, left_on='HPIX', right_on='PIXEL', how='left')\n",
    "matched_arr = matched.to_records(index=False)"
   ]
  },
  {
   "cell_type": "code",
   "execution_count": 33,
   "metadata": {},
   "outputs": [],
   "source": [
    "from utils import mergeCatalogsUsingPandas\n",
    "dmass_spt_hpix = mergeCatalogsUsingPandas(des=dmass_spt, gold=GoldMask_spt, how = 'right', \n",
    "                                      left_key='HPIX', right_key = 'PIXEL', suffixes = ['','_GOLD'], \n",
    "                                      left_index=False, right_index = False)"
   ]
  },
  {
   "cell_type": "code",
   "execution_count": 34,
   "metadata": {},
   "outputs": [
    {
     "name": "stdout",
     "output_type": "stream",
     "text": [
      "2422.648564262496 6523.511490618644\n"
     ]
    }
   ],
   "source": [
    "BOSSCleanMaskSGC = callingBOSSmask(option='SGC')\n",
    "BOSSCleanMaskNGC = callingBOSSmask(option='NGC')\n",
    "BOSSSGCMaparea = BOSSCleanMaskSGC.size * pixarea\n",
    "BOSSNGCMaparea = BOSSCleanMaskNGC.size * pixarea\n",
    "print BOSSSGCMaparea, BOSSNGCMaparea"
   ]
  },
  {
   "cell_type": "code",
   "execution_count": 8,
   "metadata": {},
   "outputs": [],
   "source": [
    "import numpy as np\n",
    "\n",
    "path = '/n/des/lee.5922/data/cmass_cat/'\n",
    "cmass_sgc = esutil.io.read(path+'galaxy_DR11v1_CMASS_South-photoObj.fits.gz')\n",
    "\n",
    "#cmass_ngc = esutil.io.read(path+'galaxy_DR12v5_CMASS_North.fits.gz')\n",
    "#cmass_sgc = esutil.io.read(path+'galaxy_DR12v5_CMASS_South.fits.gz')\n",
    "#cmass_ngc = esutil.io.read(path+'cmass-dr12v4-N-Reid-full.dat.fits')\n",
    "#cmass_sgc = esutil.io.read(path+'cmass-dr12v4-S-Reid-full.dat.fits')\n",
    "#cmass_ngc = cmass_ngc[(cmass_ngc['Z'] > 0.43) & (cmass_ngc['Z'] < 0.7)]\n",
    "#cmass_sgc = cmass_sgc[(cmass_sgc['Z'] > 0.43) & (cmass_sgc['Z'] < 0.7)]\n",
    "#cmass_train = Cuts.SpatialCuts(cmass_sgc, ra=310, ra2=360, dec=-2, dec2=2)\n",
    "cmass_train = Cuts.keepGoodRegion(cmass_sgc)"
   ]
  },
  {
   "cell_type": "code",
   "execution_count": 27,
   "metadata": {},
   "outputs": [],
   "source": [
    "cmass = np.hstack([cmass_ngc, cmass_sgc])"
   ]
  },
  {
   "cell_type": "code",
   "execution_count": 49,
   "metadata": {},
   "outputs": [],
   "source": [
    "gr_sgc_err = np.sqrt(cmass_sgc['MODELMAGERR'][:,1]**2 + cmass_sgc['MODELMAGERR'][:,2]**2)\n",
    "ri_sgc_err = np.sqrt(cmass_sgc['MODELMAGERR'][:,2]**2 + cmass_sgc['MODELMAGERR'][:,3]**2)\n",
    "\n",
    "gr_cmass_err = np.sqrt(cmass_train['MODELMAGERR'][:,1]**2 + cmass_train['MODELMAGERR'][:,2]**2)\n",
    "ri_cmass_err = np.sqrt(cmass_train['MODELMAGERR'][:,2]**2 + cmass_train['MODELMAGERR'][:,3]**2)\n",
    "\n",
    "gr_dmass_err = np.sqrt(train['MAGERR_DETMODEL_G']**2 + train['MAGERR_DETMODEL_R']**2)\n",
    "ri_dmass_err = np.sqrt(train['MAGERR_DETMODEL_R']**2 + train['MAGERR_DETMODEL_I']**2)"
   ]
  },
  {
   "cell_type": "code",
   "execution_count": 38,
   "metadata": {},
   "outputs": [
    {
     "data": {
      "text/plain": [
       "array([0.0440805 , 0.04523052, 0.05753129, ..., 0.03300682, 0.03931933,\n",
       "       0.05322903], dtype=float32)"
      ]
     },
     "execution_count": 38,
     "metadata": {},
     "output_type": "execute_result"
    }
   ],
   "source": [
    "np.sqrt( train['MAGERR_DETMODEL_G']**2+train['MAGERR_DETMODEL_R']**2 )"
   ]
  },
  {
   "cell_type": "code",
   "execution_count": 53,
   "metadata": {},
   "outputs": [
    {
     "name": "stdout",
     "output_type": "stream",
     "text": [
      "0.1940159 0.20088947 0.04520512\n",
      "0.0708217 0.07530501 0.0128009925\n"
     ]
    },
    {
     "data": {
      "image/png": "[encoded data removed]",
      "text/plain": [
       "<matplotlib.figure.Figure at 0x7f65946672d0>"
      ]
     },
     "metadata": {
      "needs_background": "light"
     },
     "output_type": "display_data"
    },
    {
     "data": {
      "image/png": "[encoded data removed]",
      "text/plain": [
       "<matplotlib.figure.Figure at 0x7f652e07d990>"
      ]
     },
     "metadata": {
      "needs_background": "light"
     },
     "output_type": "display_data"
    }
   ],
   "source": [
    "grbin = np.linspace(0, 0.5, 100)\n",
    "fig, ax = plt.subplots()\n",
    "ax.hist( gr_cmass_err, bins=grbin, normed=1 )\n",
    "ax.hist( gr_sgc_err, bins = grbin, alpha = 0.5, normed=1)\n",
    "ax.hist( gr_dmass_err, bins = grbin, alpha = 0.5, normed=1)\n",
    "ax.axvline( x = np.mean(gr_cmass_err))\n",
    "ax.axvline( x = np.mean(gr_dmass_err))\n",
    "print np.mean(gr_cmass_err), np.mean(gr_sgc_err),np.mean(gr_dmass_err)\n",
    "\n",
    "ribin = np.linspace(0, 0.2, 100)\n",
    "fig, ax = plt.subplots()\n",
    "ax.hist( ri_cmass_err, bins=ribin, normed=1 )\n",
    "ax.hist( ri_sgc_err, bins = ribin, alpha = 0.5, normed=1)\n",
    "ax.hist( ri_dmass_err, bins = ribin, alpha = 0.5, normed=1)\n",
    "ax.axvline( x = np.mean(ri_cmass_err))\n",
    "ax.axvline( x = np.mean(ri_dmass_err))\n",
    "print np.mean(ri_cmass_err),np.mean(ri_sgc_err), np.mean(ri_dmass_err)"
   ]
  },
  {
   "cell_type": "code",
   "execution_count": null,
   "metadata": {},
   "outputs": [],
   "source": [
    "gr_dmass_err = np.sqrt(cmass_train['MODELMAGERR'][:,1]**2 + cmass_train['MODELMAGERR'][:,2]**2)\n",
    "ri_dmass_err = np.sqrt(cmass_train['MODELMAGERR'][:,2]**2 + cmass_train['MODELMAGERR'][:,3]**2)"
   ]
  }
 ],
 "metadata": {
  "kernelspec": {
   "display_name": "Python 2",
   "language": "python",
   "name": "python2"
  },
  "language_info": {
   "codemirror_mode": {
    "name": "ipython",
    "version": 2
   },
   "file_extension": ".py",
   "mimetype": "text/x-python",
   "name": "python",
   "nbconvert_exporter": "python",
   "pygments_lexer": "ipython2",
   "version": "2.7.5"
  }
 },
 "nbformat": 4,
 "nbformat_minor": 1
}
