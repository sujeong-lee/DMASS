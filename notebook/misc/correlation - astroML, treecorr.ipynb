{
 "cells": [
  {
   "cell_type": "markdown",
   "metadata": {},
   "source": []
  },
  {
   "cell_type": "code",
   "execution_count": null,
   "metadata": {},
   "outputs": [],
   "source": [
    "import sys\n",
    "sys.path.append('..')\n",
    "from xd import *\n",
    "from utils import *\n",
    "import esutil\n",
    "import healpy as hp\n",
    "from systematics import *\n",
    "%matplotlib inline\n",
    "\n",
    "%load_ext autoreload\n",
    "%autoreload 2"
   ]
  },
  {
   "cell_type": "code",
   "execution_count": 2,
   "metadata": {},
   "outputs": [
    {
     "name": "stdout",
     "output_type": "stream",
     "text": [
      "Spatial Cut  530537\n",
      "Spatial Cut  1003503\n"
     ]
    }
   ],
   "source": [
    "# calling map \n",
    "GoldMask = callingEliGoldMask()\n",
    "GoldMask_st82 = Cuts.SpatialCuts(GoldMask, ra=320, ra2=360, dec=-2, dec2=2)\n",
    "GoldMask_spt = GoldMask[ GoldMask['DEC'] < -3.0 ]\n",
    "GoldMask_spt = Cuts.SpatialCuts(GoldMask_spt, ra=0, ra2 = 100, dec=-52, dec2 = -48)\n",
    "\n",
    "pixarea = hp.nside2pixarea( 4096, degrees = True)\n",
    "sptnpix = GoldMask_spt['PIXEL'].size #hp.get_map_size( GoldMask_spt['PIXEL'] )\n",
    "st82npix =  GoldMask_st82['PIXEL'].size # hp.get_map_size( GoldMask_st82 )\n",
    "SPTMaparea = pixarea * sptnpix\n",
    "ST82Maparea = pixarea * st82npix"
   ]
  },
  {
   "cell_type": "code",
   "execution_count": 118,
   "metadata": {},
   "outputs": [
    {
     "name": "stdout",
     "output_type": "stream",
     "text": [
      "6372382 1183 7382\n",
      "do Basic Cut 2122335\n",
      "prior cut  1116939\n"
     ]
    }
   ],
   "source": [
    "# calling gold + des catalog\n",
    "merged_des_st82 = fitsio.read('result_cat/merged_des_st82_nocut.fits') # in stripe82\n",
    "#merged_des_patch = fitsio.read('result_cat/merged_des_spt_nocut.fits') # spt 0<ra<100, -52<dec<-48\n",
    "# prior Cut, limit survey depth\n",
    "#from cmass_modules import Cuts\n",
    "merged_des_st82_s  = Cuts.doBasicCuts( merged_des_st82 )\n",
    "#merged_des_patch_s = Cuts.doBasicCuts( merged_des_patch )\n",
    "merged_des_st82_s, _ = priorCut( merged_des_st82_s )\n",
    "#merged_des_patch_s, _ = priorCut( merged_des_patch_s )\n",
    "#merged_des_st82_s = Cuts._keepGoodRegion(merged_des_st82_s)\n",
    "#merged_des_patch_s = Cuts._keepGoodRegion( merged_des_patch_s)"
   ]
  },
  {
   "cell_type": "code",
   "execution_count": 163,
   "metadata": {},
   "outputs": [
    {
     "name": "stdout",
     "output_type": "stream",
     "text": [
      "Spatial Cut  2108394\n"
     ]
    }
   ],
   "source": [
    "# calling im3shape'\n",
    "from cmass_modules.io import getCatalogsWithKeys\n",
    "shear = getCatalogsWithKeys(keyword = 'im3shape_st82.fits', path = '/n/des/lee.5922/data/')\n",
    "shear = shear[shear['INFO_FLAG'] == 0]\n",
    "#shear = changeColumnName( shear, name = 'RA_AS', rename = 'RA' )\n",
    "#shear = changeColumnName( shear, name = 'DEC_AS', rename = 'DEC' )\n",
    "shear = Cuts.keepGoodRegion(shear)\n",
    "shear = Cuts.SpatialCuts(shear, ra=320, ra2=360 , dec=-2, dec2=2 )"
   ]
  },
  {
   "cell_type": "code",
   "execution_count": 46,
   "metadata": {},
   "outputs": [
    {
     "name": "stdout",
     "output_type": "stream",
     "text": [
      "Applying Healpix BOSS SGC footprint mask\n",
      "Spatial Cut  10641\n"
     ]
    }
   ],
   "source": [
    "# calling cmass\n",
    "cmass = io.getSGCCMASSphotoObjcat()\n",
    "cmass = Cuts.keepGoodRegion(cmass)\n",
    "cmass = Cuts.SpatialCuts(cmass, ra=320, ra2=360, dec=-2, dec2=2)\n",
    "m1, m2, _ = esutil.htm.HTM(10).match(cmass['RA'], cmass['DEC'], merged_des_st82_s['RA'], \\\n",
    "                                     merged_des_st82_s['DEC'], 1./3600, maxmatch=1)\n",
    "cmass_mask = np.zeros(merged_des_st82_s.size, dtype=bool)\n",
    "cmass_mask[m2] = 1\n",
    "clean_cmass_data_des, nocmass = merged_des_st82_s[cmass_mask], merged_des_st82_s[~cmass_mask]"
   ]
  },
  {
   "cell_type": "code",
   "execution_count": 3,
   "metadata": {},
   "outputs": [],
   "source": [
    "dmass_st82 = fitsio.read('result_cat/dmass_st82_21.fits')\n",
    "#result_st82 = fitsio.read('result_cat/result_gold_st82_18.fits')\n",
    "\n",
    "#result_st82 = Cuts.SpatialCuts(result_st82, ra=320, ra2=360, dec=-2, dec2=2)\n",
    "#dmass_st82, _ = resampleWithPth( result_st82, pstart = 0, pmax = 1.0 )"
   ]
  },
  {
   "cell_type": "code",
   "execution_count": 14,
   "metadata": {},
   "outputs": [
    {
     "ename": "NameError",
     "evalue": "name 'cmass' is not defined",
     "output_type": "error",
     "traceback": [
      "\u001b[0;31m---------------------------------------------------------------------------\u001b[0m",
      "\u001b[0;31mNameError\u001b[0m                                 Traceback (most recent call last)",
      "\u001b[0;32m<ipython-input-14-d536410f9a55>\u001b[0m in \u001b[0;36m<module>\u001b[0;34m()\u001b[0m\n\u001b[0;32m----> 1\u001b[0;31m \u001b[0;32mprint\u001b[0m \u001b[0mcmass\u001b[0m\u001b[0;34m.\u001b[0m\u001b[0msize\u001b[0m\u001b[0;34m/\u001b[0m\u001b[0mST82Maparea\u001b[0m\u001b[0;34m,\u001b[0m \u001b[0mclean_cmass_data_des\u001b[0m\u001b[0;34m.\u001b[0m\u001b[0msize\u001b[0m\u001b[0;34m,\u001b[0m \u001b[0mdmass_st82\u001b[0m\u001b[0;34m.\u001b[0m\u001b[0msize\u001b[0m\u001b[0;34m\u001b[0m\u001b[0m\n\u001b[0m",
      "\u001b[0;31mNameError\u001b[0m: name 'cmass' is not defined"
     ]
    }
   ],
   "source": [
    "print cmass.size, clean_cmass_data_des.size, dmass_st82.size"
   ]
  },
  {
   "cell_type": "code",
   "execution_count": 194,
   "metadata": {},
   "outputs": [
    {
     "data": {
      "text/plain": [
       "(0.016666666666666666, 0.08333333333333333, 0.16666666666666666)"
      ]
     },
     "execution_count": 194,
     "metadata": {},
     "output_type": "execute_result"
    }
   ],
   "source": [
    "1/60., 1/60. * 5, 1/60. * 10"
   ]
  },
  {
   "cell_type": "code",
   "execution_count": 35,
   "metadata": {},
   "outputs": [
    {
     "ename": "NameError",
     "evalue": "name 'clean_cmass_data_des' is not defined",
     "output_type": "error",
     "traceback": [
      "\u001b[0;31m---------------------------------------------------------------------------\u001b[0m",
      "\u001b[0;31mNameError\u001b[0m                                 Traceback (most recent call last)",
      "\u001b[0;32m<ipython-input-35-988bb59de372>\u001b[0m in \u001b[0;36m<module>\u001b[0;34m()\u001b[0m\n\u001b[1;32m     34\u001b[0m \u001b[0;31m# b_corr, b_corr_err, b_bootstraps) = compute_results()\u001b[0m\u001b[0;34m\u001b[0m\u001b[0;34m\u001b[0m\u001b[0m\n\u001b[1;32m     35\u001b[0m \u001b[0;34m\u001b[0m\u001b[0m\n\u001b[0;32m---> 36\u001b[0;31m \u001b[0;34m(\u001b[0m\u001b[0mbins\u001b[0m\u001b[0;34m,\u001b[0m \u001b[0mc_corr2\u001b[0m\u001b[0;34m,\u001b[0m \u001b[0mc_corr_err2\u001b[0m\u001b[0;34m,\u001b[0m \u001b[0mc_bootstraps2\u001b[0m\u001b[0;34m)\u001b[0m \u001b[0;34m=\u001b[0m \u001b[0mcompute_results\u001b[0m\u001b[0;34m(\u001b[0m\u001b[0mclean_cmass_data_des\u001b[0m\u001b[0;34m,\u001b[0m \u001b[0mbins\u001b[0m\u001b[0;34m=\u001b[0m\u001b[0mbins\u001b[0m\u001b[0;34m)\u001b[0m\u001b[0;34m\u001b[0m\u001b[0m\n\u001b[0m\u001b[1;32m     37\u001b[0m \u001b[0;31m#(bins_log, c_corr, c_corr_err, c_bootstraps) = compute_results(clean_cmass_data_des, bins=bins_log)\u001b[0m\u001b[0;34m\u001b[0m\u001b[0;34m\u001b[0m\u001b[0m\n\u001b[1;32m     38\u001b[0m \u001b[0;34m(\u001b[0m\u001b[0mbins\u001b[0m\u001b[0;34m,\u001b[0m \u001b[0md_corr2\u001b[0m\u001b[0;34m,\u001b[0m \u001b[0md_corr_err2\u001b[0m\u001b[0;34m,\u001b[0m \u001b[0md_bootstraps2\u001b[0m\u001b[0;34m)\u001b[0m \u001b[0;34m=\u001b[0m \u001b[0mcompute_results\u001b[0m\u001b[0;34m(\u001b[0m\u001b[0mdmass_st82\u001b[0m\u001b[0;34m,\u001b[0m \u001b[0mbins\u001b[0m\u001b[0;34m=\u001b[0m\u001b[0mbins\u001b[0m\u001b[0;34m)\u001b[0m\u001b[0;34m\u001b[0m\u001b[0m\n",
      "\u001b[0;31mNameError\u001b[0m: name 'clean_cmass_data_des' is not defined"
     ]
    }
   ],
   "source": [
    "\n",
    "#------------------------------------------------------------\n",
    "# Set up correlation function computation\n",
    "#  This calculation takes a long time with the bootstrap resampling,\n",
    "#  so we'll save the results.\n",
    "#bins = 10 ** np.linspace(np.log10(1. / 60.), np.log10(6), 16)\n",
    "bins = np.linspace(0, 1/60. * 200, 201)\n",
    "bin_centers = 0.5 * (bins[1:] + bins[:-1])\n",
    "\n",
    "bins_log = 10 ** np.linspace(np.log10(1. / 60.), np.log10(6), 16)\n",
    "#bins = np.linspace(0.0, 1.5, 16)\n",
    "bin_centers_log = 0.5 * (bins_log[1:] + bins_log[:-1])\n",
    "\n",
    "\n",
    "\n",
    "#@pickle_results(\"correlation_functions_DMASS_st82_even.pkl\")\n",
    "def compute_results(data, bins = None, Nbootstraps=10,  method='landy-szalay', rseed=0):\n",
    "    np.random.seed(rseed)\n",
    "    #bins = 10 ** np.linspace(np.log10(1. / 60.), np.log10(6), 16)\n",
    "    #bins = np.linspace(0.0, 1.5, 16)\n",
    "    Nbins = bins.size\n",
    "    \n",
    "    results = [bins]\n",
    "    #for D in [data_red, data_blue]:\n",
    "    results += bootstrap_two_point_angular(data['RA'],\n",
    "                                               data['DEC'],\n",
    "                                               bins=bins,\n",
    "                                               method=method,\n",
    "                                               Nbootstraps=Nbootstraps)\n",
    "\n",
    "    return results\n",
    "\n",
    "#(bins, r_corr, r_corr_err, r_bootstraps,\n",
    "# b_corr, b_corr_err, b_bootstraps) = compute_results()\n",
    "\n",
    "(bins, c_corr2, c_corr_err2, c_bootstraps2) = compute_results(clean_cmass_data_des, bins=bins)\n",
    "#(bins_log, c_corr, c_corr_err, c_bootstraps) = compute_results(clean_cmass_data_des, bins=bins_log)\n",
    "(bins, d_corr2, d_corr_err2, d_bootstraps2) = compute_results(dmass_st82, bins=bins)\n",
    "(bins_log, d_corr, d_corr_err, d_bootstraps) = compute_results(dmass_st82, bins=bins_log)"
   ]
  },
  {
   "cell_type": "code",
   "execution_count": 200,
   "metadata": {},
   "outputs": [],
   "source": [
    "DAT = np.column_stack((bin_centers, c_corr2, c_corr_err2, d_corr2, d_corr_err2) )\n",
    "np.savetxt('data_txt/acf_10arc.txt', DAT, header = 'bin_centers, c_corr2, c_corr_err2, d_corr2, d_corr_err2' )"
   ]
  },
  {
   "cell_type": "code",
   "execution_count": 37,
   "metadata": {
    "collapsed": true
   },
   "outputs": [],
   "source": [
    "DAT = np.loadtxt('data_txt/acf_5arc.txt')\n",
    "bin_centers, c_corr2, c_corr_err2, d_corr2, d_corr_err2 = [DAT[:,i] for i in range(DAT[0,:].size)]"
   ]
  },
  {
   "cell_type": "code",
   "execution_count": 207,
   "metadata": {},
   "outputs": [
    {
     "data": {
      "image/png": "[encoded data removed]",
      "text/plain": [
       "<matplotlib.figure.Figure at 0x46bdb50>"
      ]
     },
     "metadata": {},
     "output_type": "display_data"
    }
   ],
   "source": [
    "#------------------------------------------------------------\n",
    "# Plot the results\n",
    "#corr = [r_corr, b_corr]\n",
    "#corr_err = [r_corr_err, b_corr_err]\n",
    "#bootstraps = [r_bootstraps, b_bootstraps]\n",
    "\n",
    "\n",
    "\n",
    "labels = '$CMASS~in~st82$\\n$N=%i$' % len(cmass)\n",
    "\n",
    "fig = plt.figure(figsize=(10, 10))\n",
    "fig.subplots_adjust(bottom=0.2, top=0.9,\n",
    "                    left=0.13, right=0.95)\n",
    "\n",
    "ax = fig.add_subplot(111, xscale='linear', yscale='linear')\n",
    "\n",
    "#ax.errorbar(bin_centers_log, c_corr, c_corr_err,\n",
    "#            fmt='.k', ecolor='gray', lw=1, label = 'cmass in des')\n",
    "#ax.errorbar(bin_centers_log, d_corr, d_corr_err,\n",
    "#            fmt='.r', ecolor='red', lw=1, label='dmass')\n",
    "ax.errorbar(bin_centers, c_corr2, c_corr_err2,\n",
    "            fmt='.k', ecolor='gray', lw=1, label = 'cmass in des')\n",
    "ax.errorbar(bin_centers, d_corr2, d_corr_err2,\n",
    "            fmt='.r', ecolor='red', lw=1, label='dmass')\n",
    "#ax.errorbar(bin_centers, d_corr, d_corr_err,\n",
    "#            fmt='.b', ecolor='blue', lw=1, label='cmass in des')\n",
    "\n",
    "#t = np.array([0.01, 10])\n",
    "#ax.plot(t, 10 * (t / 0.0005) ** -0.7, ':k', linewidth=1)\n",
    "\n",
    "#ax.text(0.95, 0.95, labels,\n",
    "#        ha='right', va='top', transform=ax.transAxes)\n",
    "ax.set_xlabel(r'$\\theta\\ (deg)$')\n",
    "ax.set_ylabel(r'$\\omega(\\theta)$')\n",
    "#ax.set_xscale('linear')\n",
    "#if i == 0:\n",
    "#    ax.set_ylabel(r'$\\hat{w}(\\theta)$')\n",
    "ax.legend(loc='best')\n",
    "ax.set_xlim(0, 2)     \n",
    "plt.show()\n",
    "\n",
    "fig.savefig('figure/acf_comparison_even.png')"
   ]
  },
  {
   "cell_type": "code",
   "execution_count": 21,
   "metadata": {
    "collapsed": true
   },
   "outputs": [],
   "source": [
    "def plot_z_distribution( cats = None, labels = None, suffix = 'test' ):\n",
    "    \n",
    "    import matplotlib.pyplot as plt\n",
    "    z_bin, s = np.linspace(1e-5, 1.0, 200, retstep=True)\n",
    "    z_center = z_bin[:-1]+s/2.\n",
    "    \n",
    "    fig, axes = plt.subplots( 1, 1, figsize = (8,5))\n",
    "    N, _= np.histogram(cats['DESDM_ZP'], bins = z_bin)\n",
    "    \n",
    "    n = N/ST82Maparea\n",
    "\n",
    "    axes.bar(z_center, n, s, color='b' )\n",
    "    axes.set_xlabel('photo_z')\n",
    "    axes.set_ylabel('n(z)')\n",
    "    #ax.set_yscale('log')\n",
    "    axes.legend(loc='best')\n",
    "\n",
    "    axes.set_title('\\nredshift histogram')\n",
    "    figname ='figure/hist_z_'+suffix+'.png'\n",
    "    fig.savefig(figname)\n",
    "    print 'saving fig to ',figname\n",
    "    \n",
    "    DAT = np.column_stack((z_center, n))\n",
    "    filename = 'data_txt/z_distribution_'+suffix+'.txt'\n",
    "    np.savetxt(filename, DAT, header = 'z, n(z)')\n",
    "    print 'saving data to ',filename"
   ]
  },
  {
   "cell_type": "code",
   "execution_count": 20,
   "metadata": {},
   "outputs": [
    {
     "name": "stdout",
     "output_type": "stream",
     "text": [
      "saving fig to  figure/hist_z_dmass_st82.png\n",
      "saving data to  data_txt/z_distribution_dmass_st82.txt\n"
     ]
    },
    {
     "data": {
      "image/png": "[encoded data removed]",
      "text/plain": [
       "<matplotlib.figure.Figure at 0x72bfdd0>"
      ]
     },
     "metadata": {},
     "output_type": "display_data"
    }
   ],
   "source": [
    "plot_z_distribution( cats = dmass_st82, labels = 'dmass_st82', suffix = 'dmass_st82' )"
   ]
  },
  {
   "cell_type": "code",
   "execution_count": null,
   "metadata": {
    "collapsed": true
   },
   "outputs": [],
   "source": [
    "plot_z_distribution( cats = dmass_st82, labels = '_dmass_st82', suffix = 'dmass_st82_binedge' )"
   ]
  },
  {
   "cell_type": "code",
   "execution_count": 60,
   "metadata": {},
   "outputs": [
    {
     "data": {
      "text/plain": [
       "(7564,)"
      ]
     },
     "execution_count": 60,
     "metadata": {},
     "output_type": "execute_result"
    }
   ],
   "source": [
    "dmass_st82.shape"
   ]
  },
  {
   "cell_type": "code",
   "execution_count": 133,
   "metadata": {},
   "outputs": [],
   "source": [
    "def ra_dec_to_xyz(ra, dec):\n",
    "    \"\"\"Convert ra & dec to Euclidean points\n",
    "    Parameters\n",
    "    ----------\n",
    "    ra, dec : ndarrays\n",
    "    Returns\n",
    "    x, y, z : ndarrays\n",
    "    \"\"\"\n",
    "    sin_ra = np.sin(ra * np.pi / 180.)\n",
    "    cos_ra = np.cos(ra * np.pi / 180.)\n",
    "\n",
    "    sin_dec = np.sin(np.pi / 2 - dec * np.pi / 180.)\n",
    "    cos_dec = np.cos(np.pi / 2 - dec * np.pi / 180.)\n",
    "\n",
    "    return (cos_ra * sin_dec,\n",
    "            sin_ra * sin_dec,\n",
    "            cos_dec)\n",
    "\n",
    "def uniform_sphere(RAlim, DEClim, size=1):\n",
    "    \"\"\"Draw a uniform sample on a sphere\n",
    "    Parameters\n",
    "    ----------\n",
    "    RAlim : tuple\n",
    "        select Right Ascension between RAlim[0] and RAlim[1]\n",
    "        units are degrees\n",
    "    DEClim : tuple\n",
    "        select Declination between DEClim[0] and DEClim[1]\n",
    "    size : int (optional)\n",
    "        the size of the random arrays to return (default = 1)\n",
    "    Returns\n",
    "    -------\n",
    "    RA, DEC : ndarray\n",
    "        the random sample on the sphere within the given limits.\n",
    "        arrays have shape equal to size.\n",
    "    \"\"\"\n",
    "    zlim = np.sin(np.pi * np.asarray(DEClim) / 180.)\n",
    "\n",
    "    z = zlim[0] + (zlim[1] - zlim[0]) * np.random.random(size)\n",
    "    DEC = (180. / np.pi) * np.arcsin(z)\n",
    "    RA = RAlim[0] + (RAlim[1] - RAlim[0]) * np.random.random(size)\n",
    "    \n",
    "    return RA, DEC\n",
    "\n",
    "def uniform_random_on_sphere(data, size = None ):\n",
    "    ra = data['RA']\n",
    "    dec = data['DEC']\n",
    "    \n",
    "    n_features = ra.size\n",
    "    #size = 100 * data.size\n",
    "    \n",
    "    # draw a random sample with N points\n",
    "    ra_R, dec_R = uniform_sphere((min(ra), max(ra)),\n",
    "                                 (min(dec), max(dec)),\n",
    "                                 size)\n",
    "    #data = np.asarray(ra_dec_to_xyz(ra, dec), order='F').T\n",
    "    #data_R = np.asarray(ra_dec_to_xyz(ra_R, dec_R), order='F').T\n",
    "    \n",
    "    #random redshift distribution\n",
    "    mu, sigma = np.mean(data['DESDM_ZP']), np.std(data['DESDM_ZP'])\n",
    "    z_R = np.random.normal(mu, sigma, size)\n",
    "    \n",
    "    data_R = np.zeros((ra_R.size,), dtype=[('RA', 'float'), ('DEC', 'float'), ('DESDM_ZP', 'float')])\n",
    "    data_R['RA'] = ra_R\n",
    "    data_R['DEC'] = dec_R\n",
    "    data_R['DESDM_ZP'] = z_R\n",
    "                              \n",
    "    return data_R\n",
    "\n",
    "data_R = uniform_random_on_sphere(dmass_st82, size = 100 * dmass_st82.size)\n",
    "data_R = Cuts.keepGoodRegion(data_R)\n",
    "data_R_t = uniform_random_on_sphere(clean_cmass_data_des, size = 100 * clean_cmass_data_des.size)\n",
    "data_R_t = Cuts.keepGoodRegion(data_R_t)"
   ]
  },
  {
   "cell_type": "code",
   "execution_count": 110,
   "metadata": {},
   "outputs": [
    {
     "data": {
      "text/plain": [
       "(575807, 7564)"
      ]
     },
     "execution_count": 110,
     "metadata": {},
     "output_type": "execute_result"
    }
   ],
   "source": [
    "data_R.size, dmass_st82.size"
   ]
  },
  {
   "cell_type": "code",
   "execution_count": 114,
   "metadata": {},
   "outputs": [
    {
     "name": "stdout",
     "output_type": "stream",
     "text": [
      "calculate angular correlation function\n",
      "X (300, 2)  centers (30, 2)  tol=1e-05  maxiter=200\n",
      "9 iterations  cluster sizes: [ 7 16 18  9  5 14  8  9  5 15  9  9 11 10 14 11 12 18  9  6  9  8  4  7  9\n",
      "  7 10  8 11 12]\n",
      "X (7564, 2)  centers (30, 2)  tol=1e-05  maxiter=200\n",
      "75 iterations  cluster sizes: [302 361 360 149 159 244 231 260 212 277 363 206 245 302 179 267 213 323\n",
      " 325 208 209 231 216 208 239 161 243 292 301 278]\n",
      "saving data file to :  data_txt/acf_comparison_dmass_st82.txt\n",
      "calculate angular correlation function\n",
      "X (300, 2)  centers (30, 2)  tol=1e-05  maxiter=200\n",
      "11 iterations  cluster sizes: [24 16  5  5  8 11  3 10  7  8 18  9  3 12  8  7  7  8  7 12 13  6 14  7  6\n",
      " 21  5  7 18 15]\n",
      "X (8013, 2)  centers (30, 2)  tol=1e-05  maxiter=200\n",
      "78 iterations  cluster sizes: [425 345 135 268 254 257 198 265 341 264 268 212 192 272 290 275 368 238\n",
      " 365 293 291 233 182 246 293 278 160 215 282 308]\n",
      "saving data file to :  data_txt/acf_comparison_cmass_st82.txt\n"
     ]
    },
    {
     "data": {
      "text/plain": [
       "0"
      ]
     },
     "execution_count": 114,
     "metadata": {},
     "output_type": "execute_result"
    }
   ],
   "source": [
    "from systematics_module.corr import angular_correlation\n",
    "angular_correlation(data = dmass_st82, rand = data_R, weight = None, suffix = '_dmass_st82', out = None)\n",
    "angular_correlation(data = clean_cmass_data_des, rand = data_R_t, weight = None, suffix = '_cmass_st82', out = None)"
   ]
  },
  {
   "cell_type": "code",
   "execution_count": 115,
   "metadata": {},
   "outputs": [
    {
     "name": "stdout",
     "output_type": "stream",
     "text": [
      "[[  4.75622923e-02   1.98527299e-01   7.23450349e-02]\n",
      " [  5.95735917e-02   1.05857921e-01   5.51298715e-02]\n",
      " [  7.49705238e-02   1.39484907e-01   3.27807555e-02]\n",
      " [  9.40332834e-02   9.01407601e-02   4.11311830e-02]\n",
      " [  1.18809198e-01   9.96324876e-02   2.64148285e-02]\n",
      " [  1.49514395e-01   1.01459637e-01   2.66591897e-02]\n",
      " [  1.88137421e-01   5.35880020e-02   2.29104788e-02]\n",
      " [  2.36777528e-01   5.38897250e-02   2.37350815e-02]\n",
      " [  2.98015323e-01   2.87036290e-02   1.32216190e-02]\n",
      " [  3.75271521e-01   3.04660219e-02   2.09212846e-02]\n",
      " [  4.72578917e-01   4.01029124e-02   1.94887369e-02]\n",
      " [  5.94734524e-01   1.10201600e-02   1.69557085e-02]\n",
      " [  7.48467997e-01   2.04154742e-02   1.75261865e-02]\n",
      " [  9.41856116e-01   1.03631282e-02   1.25646825e-02]\n",
      " [  1.18601246e+00   1.27935469e-02   1.84526208e-02]\n",
      " [  1.49157363e+00  -2.71682995e-03   2.10311429e-02]\n",
      " [  1.87608897e+00  -6.16829870e-03   2.34911280e-02]\n",
      " [  2.36002107e+00  -1.65452310e-03   1.07857442e-02]\n",
      " [  2.96586651e+00  -1.14282792e-02   1.17968520e-02]\n",
      " [  3.73140571e+00   2.57651070e-04   2.02871562e-02]]\n"
     ]
    }
   ],
   "source": [
    "DAT = np.loadtxt('data_txt/acf_comparison_dmass_st82.txt')\n",
    "meanr, xi, xi_err = [DAT[:,i] for i in range(3)]\n",
    "DAT2 = np.loadtxt('data_txt/acf_comparison_cmass_st82.txt')\n",
    "meanr2, xi2, xi_err2 = [DAT2[:,i] for i in range(3)]\n",
    "print DAT"
   ]
  },
  {
   "cell_type": "code",
   "execution_count": 116,
   "metadata": {},
   "outputs": [
    {
     "data": {
      "text/plain": [
       "<matplotlib.legend.Legend at 0x8add250>"
      ]
     },
     "execution_count": 116,
     "metadata": {},
     "output_type": "execute_result"
    },
    {
     "data": {
      "image/png": "[encoded data removed]",
      "text/plain": [
       "<matplotlib.figure.Figure at 0x7b4dd50>"
      ]
     },
     "metadata": {},
     "output_type": "display_data"
    }
   ],
   "source": [
    "fig, ax = plt.subplots()\n",
    "ax.errorbar(meanr, xi, yerr = xi_err, fmt = '.b', label='dmass st82 -treecorr')\n",
    "ax.errorbar(meanr2, xi2, yerr = xi_err2, fmt = '.r', label='cmass in des -treecorr')\n",
    "ax.errorbar(bin_centers, c_corr2, c_corr_err2,\n",
    "            fmt='.k', ecolor='gray', lw=1, label = 'cmass in des -astroML')\n",
    "ax.set_xscale('log')\n",
    "ax.set_yscale('log')\n",
    "ax.legend(loc = 'best')"
   ]
  },
  {
   "cell_type": "code",
   "execution_count": null,
   "metadata": {},
   "outputs": [],
   "source": [
    "source_R = uniform_random_on_sphere(shear, size = shear.size)\n",
    "source_R = Cuts.keepGoodRegion(source_R)"
   ]
  },
  {
   "cell_type": "code",
   "execution_count": 192,
   "metadata": {},
   "outputs": [
    {
     "name": "stdout",
     "output_type": "stream",
     "text": [
      "Calculating lensing signal \n",
      "z_l = (0.45, 0.55)  z_s = (0.7, 1.0)\n",
      "X (179, 2)  centers (10, 2)  tol=1e-05  maxiter=200\n",
      "13 iterations  cluster sizes: [13 19 13 26 16 12 21 14 25 20]\n",
      "X (8013, 2)  centers (10, 2)  tol=1e-05  maxiter=200\n",
      "14 iterations  cluster sizes: [811 668 827 863 702 770 830 826 919 797]\n",
      "saving data file to :  data_txt/lensing_cmass.txt\n",
      "Calculating lensing signal \n",
      "z_l = (0.45, 0.55)  z_s = (0.7, 1.0)\n",
      "X (173, 2)  centers (10, 2)  tol=1e-05  maxiter=200\n",
      "9 iterations  cluster sizes: [17  6 15 24 16 15 16 21 28 15]\n",
      "X (7564, 2)  centers (10, 2)  tol=1e-05  maxiter=200\n",
      "11 iterations  cluster sizes: [ 662  521  501  913  958  621  714  763 1090  821]\n",
      "saving data file to :  data_txt/lensing_dmass.txt\n"
     ]
    }
   ],
   "source": [
    "from systematics_module.corr import LensingSignal, cross_angular_correlation, angular_correlation\n",
    "LensingSignal(lense = clean_cmass_data_des, source = shear, rand = data_R, suffix = 'cmass')\n",
    "LensingSignal(lense = dmass_st82, source = shear, rand = data_R, suffix = 'dmass')"
   ]
  },
  {
   "cell_type": "code",
   "execution_count": 193,
   "metadata": {},
   "outputs": [
    {
     "name": "stdout",
     "output_type": "stream",
     "text": [
      "saving fig to : figure/lensing_comparison.png\n"
     ]
    },
    {
     "data": {
      "image/png": "[encoded data removed]",
      "text/plain": [
       "<matplotlib.figure.Figure at 0x7281e10>"
      ]
     },
     "metadata": {},
     "output_type": "display_data"
    }
   ],
   "source": [
    "# plotting\n",
    "\n",
    "labels = ['cmass', 'dmass']\n",
    "lensingdat = [np.loadtxt('data_txt/lensing_'+s+'.txt') for s in labels ]\n",
    "\n",
    "#r_p_bins, LensSignal, LSjkerr, correctedLensSignal, CLSjkerr, BoostFactor, Boostjkerr = lensingdat[:,0], lensingdat[:,1],lensingdat[:,2],lensingdat[:,3],lensingdat[:,4],lensingdat[:,5],lensingdat[:,6]\n",
    "fig, ax = plt.subplots(1,1, figsize = (7,7))\n",
    "\n",
    "for j in range(len(labels)):\n",
    "\n",
    "    r_p_bins, LensSignal, LSjkerr = [lensingdat[j][:,i] for i in range(lensingdat[0][0].size)]\n",
    "    ax.errorbar(r_p_bins * (1 + 0.1*j), LensSignal, yerr = LSjkerr, fmt='o', label = labels[j])\n",
    "\n",
    "theory = np.loadtxt('data_txt/smd_v_theta_cmass.dat')\n",
    "rr_the = theory[:,0]\n",
    "delta_sigma_the = theory[:,1]\n",
    "error_the = theory[:,2] * np.sqrt(5000/120)\n",
    "ax.errorbar(10**rr_the, 10**delta_sigma_the, yerr = 10**error_the, color = 'black', fmt='--o', label = 'theory')\n",
    "\n",
    "ax.set_yscale('log')\n",
    "ax.set_xscale('log')\n",
    "ax.set_xlim(10, 1e5)\n",
    "ax.set_ylim(1e-2,1e3)\n",
    "ax.set_xlabel(r'$r$ $(kpc/h)$')\n",
    "ax.set_ylabel(r'$\\Delta\\Sigma$ $(M_{s}h/pc^{2})$')\n",
    "ax.set_title('z_lense = [0.45, 0.55]'  )\n",
    "ax.legend(loc = 'best')\n",
    "\n",
    "figname='figure/lensing_comparison.png'\n",
    "fig.savefig(figname)\n",
    "print 'saving fig to :', figname"
   ]
  },
  {
   "cell_type": "code",
   "execution_count": null,
   "metadata": {
    "collapsed": true
   },
   "outputs": [],
   "source": []
  }
 ],
 "metadata": {
  "kernelspec": {
   "display_name": "Python 2",
   "language": "python",
   "name": "python2"
  },
  "language_info": {
   "codemirror_mode": {
    "name": "ipython",
    "version": 2
   },
   "file_extension": ".py",
   "mimetype": "text/x-python",
   "name": "python",
   "nbconvert_exporter": "python",
   "pygments_lexer": "ipython2",
   "version": "2.7.5"
  }
 },
 "nbformat": 4,
 "nbformat_minor": 1
}
