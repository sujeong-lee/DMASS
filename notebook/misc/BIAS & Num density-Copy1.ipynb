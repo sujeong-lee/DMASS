{
 "cells": [
  {
   "cell_type": "code",
   "execution_count": 1,
   "metadata": {},
   "outputs": [],
   "source": [
    "import sys\n",
    "sys.path.append('../')\n",
    "from xd import *\n",
    "from utils import *\n",
    "import esutil\n",
    "import healpy as hp\n",
    "from systematics import *\n",
    "from cmass_modules import *\n",
    "%matplotlib inline\n",
    "\n",
    "%load_ext autoreload\n",
    "%autoreload 2"
   ]
  },
  {
   "cell_type": "code",
   "execution_count": 4,
   "metadata": {},
   "outputs": [],
   "source": [
    "sys.path.append('/n/des/lee.5922/programs/chomp')\n",
    "import correlation\n",
    "import cosmology\n",
    "import halo\n",
    "import hod\n",
    "import kernel\n",
    "import mass_function"
   ]
  },
  {
   "cell_type": "code",
   "execution_count": 8,
   "metadata": {},
   "outputs": [],
   "source": [
    "from scipy.integrate import simps  "
   ]
  },
  {
   "cell_type": "code",
   "execution_count": 9,
   "metadata": {},
   "outputs": [],
   "source": [
    "def integrate( array, x=None, dx = None):\n",
    "    from scipy.integrate import simps  \n",
    "    return simps( array, x = x, dx=dx )\n",
    "\n",
    "def produce_massbin(mass_min, mass_max, nM = 200, lnM = False):\n",
    "    \n",
    "    import numpy\n",
    "    dln_mass = (numpy.log(mass_max) - numpy.log(mass_min))/nM\n",
    "    ln_mass_max = numpy.log(mass_max) + dln_mass\n",
    "    ln_mass_min = numpy.log(mass_min) - dln_mass\n",
    "\n",
    "    ln_mass_array = numpy.arange(\n",
    "        ln_mass_min, ln_mass_max + dln_mass, dln_mass)\n",
    "    \n",
    "    if lnM : return ln_mass_array, dln_mass\n",
    "    else : return np.exp(ln_mass_array), dln_mass"
   ]
  },
  {
   "cell_type": "code",
   "execution_count": 10,
   "metadata": {},
   "outputs": [],
   "source": [
    "def CMASS_HOD(mass, nth = 3) : \n",
    "    \n",
    "    hod_dict = {\"log_M_min\": 12.99139,\n",
    "            \"sigma\":     0.3076970,\n",
    "            \"log_M_0\":  13.19778,\n",
    "            \"log_M_1p\": 14.07659,\n",
    "            \"alpha\":      0.8242392}\n",
    "    \n",
    "    cmass_hod = hod.HODZheng(hod_dict)\n",
    "    result = np.sum([cmass_hod.first_moment(mass), cmass_hod.second_moment(mass),\n",
    "                cmass_hod.nth_moment(mass,3, None)])\n",
    "    if nth == 1 : result = cmass_hod.first_moment(mass)\n",
    "    elif nth == 2 : result = np.sum([cmass_hod.first_moment(mass), cmass_hod.second_moment(mass)])\n",
    "    else : result = np.sum([cmass_hod.first_moment(mass), cmass_hod.second_moment(mass),\n",
    "                cmass_hod.nth_moment(mass,3, None)])\n",
    "        \n",
    "    return result"
   ]
  },
  {
   "cell_type": "code",
   "execution_count": 30,
   "metadata": {},
   "outputs": [],
   "source": [
    "\n",
    "\n",
    "def HOD(M, Mcut = 1e11):\n",
    "    p = np.zeros(M.size)\n",
    "    p[M>Mcut] = 1\n",
    "    return p\n",
    "\n",
    "\n",
    "def halo_mass_tinker(M):\n",
    "    \n",
    "    from colossus.cosmology.cosmology import setCosmology\n",
    "    cosmo = setCosmology('planck15')\n",
    "\n",
    "    from colossus.lss import mass_function\n",
    "    z = 0.0\n",
    "    mfunc_so = mass_function.massFunction(M, z, q_in = 'M', mdef = 'vir', model = 'tinker08')\n",
    "\n",
    "    return mfunc_so\n",
    "\n",
    "def bias_halo_tinker(M, z = 0):\n",
    "    from systematics_module.contCorrection import haloBiasTinker10\n",
    "    nu, HaloBias = haloBiasTinker10(M, z = z)  \n",
    "    return HaloBias\n",
    "\n"
   ]
  },
  {
   "cell_type": "code",
   "execution_count": 15,
   "metadata": {},
   "outputs": [],
   "source": [
    "def num_gal(M_halobin, st_mass, dlnM= 1):\n",
    "    \n",
    "    #dlnM = np.log10(M_halobin[1]*2./M_halobin[0])\n",
    "    #dndm = np.array([halo_mass(m, st_mass) for m in M_halobin])\n",
    "    hod =  np.array([CMASS_HOD(m) for m in M_halobin])\n",
    "    \n",
    "    dndm = st_mass.dndm(M_halobin)\n",
    "    ng = integrate( dndm * hod, x= M_halobin, dx = None )\n",
    "    return ng\n",
    "\n",
    "def bias_gal(M_halobin, st_mass, dlnM = 1):\n",
    "    \n",
    "    dndm = st_mass.dndm(M_halobin)\n",
    "    bh = st_mass.bias_m(M_halobin)\n",
    "    #dndm = np.array([halo_mass(m, st_mass) for m in M_halobin])\n",
    "    hod =  np.array([CMASS_HOD(m) for m in M_halobin])\n",
    "    #bh = np.array([bias_halo(m, st_mass) for m in M_halobin])\n",
    "    array = dndm * hod * bh\n",
    "    ng = num_gal(M_halobin, st_mass)\n",
    "    \n",
    "    #array = halo_mass(M_halobin) * bias_halo(M_halobin) * CMASS_HOD(M_halobin)\n",
    "    #dlnM = np.log10(M_halobin[1]*2./M_halobin[0])\n",
    "    bg = 1./ng * integrate( array, x= M_halobin, dx = None)\n",
    "    return bg\n",
    "\n",
    "def dbg_dng(Mmin, st_mass):  \n",
    "    mass_max = 1.0e16\n",
    "    mass_min = 1.0e9\n",
    "    #M_halobin = np.logspace(9, 16, 1000, base=10.)\n",
    "    M_halobin, dlnM = produce_massbin(mass_min, mass_max)\n",
    "    \n",
    "    bh = st_mass.bias_m(Mmin)\n",
    "    ng = num_gal(M_halobin, st_mass, dlnM = None)\n",
    "    bg = bias_gal(M_halobin, st_mass, dlnM = None)\n",
    "    return 1./ng * ( -1.* bg + bh)"
   ]
  },
  {
   "cell_type": "code",
   "execution_count": 15,
   "metadata": {},
   "outputs": [
    {
     "ename": "NameError",
     "evalue": "name 'mass_min' is not defined",
     "output_type": "error",
     "traceback": [
      "\u001b[0;31m---------------------------------------------------------------------------\u001b[0m",
      "\u001b[0;31mNameError\u001b[0m                                 Traceback (most recent call last)",
      "\u001b[0;32m<ipython-input-15-9294960736d4>\u001b[0m in \u001b[0;36m<module>\u001b[0;34m()\u001b[0m\n\u001b[1;32m      1\u001b[0m \u001b[0;31m#M_halobin = np.logspace(9, 16, 1000, base=10.)\u001b[0m\u001b[0;34m\u001b[0m\u001b[0;34m\u001b[0m\u001b[0m\n\u001b[0;32m----> 2\u001b[0;31m \u001b[0mM_halobin\u001b[0m\u001b[0;34m,\u001b[0m \u001b[0mdlnM\u001b[0m \u001b[0;34m=\u001b[0m \u001b[0mproduce_massbin\u001b[0m\u001b[0;34m(\u001b[0m\u001b[0mmass_min\u001b[0m\u001b[0;34m,\u001b[0m \u001b[0mmass_max\u001b[0m\u001b[0;34m,\u001b[0m \u001b[0mnM\u001b[0m \u001b[0;34m=\u001b[0m \u001b[0;36m100\u001b[0m\u001b[0;34m)\u001b[0m\u001b[0;34m\u001b[0m\u001b[0m\n\u001b[0m\u001b[1;32m      3\u001b[0m \u001b[0mng\u001b[0m \u001b[0;34m=\u001b[0m \u001b[0mnum_gal\u001b[0m\u001b[0;34m(\u001b[0m\u001b[0mM_halobin\u001b[0m\u001b[0;34m,\u001b[0m \u001b[0mst_mass\u001b[0m\u001b[0;34m,\u001b[0m \u001b[0mdlnM\u001b[0m \u001b[0;34m=\u001b[0m \u001b[0mdlnM\u001b[0m\u001b[0;34m)\u001b[0m\u001b[0;34m\u001b[0m\u001b[0m\n\u001b[1;32m      4\u001b[0m \u001b[0mbg\u001b[0m \u001b[0;34m=\u001b[0m \u001b[0mbias_gal\u001b[0m\u001b[0;34m(\u001b[0m\u001b[0mM_halobin\u001b[0m\u001b[0;34m,\u001b[0m \u001b[0mst_mass\u001b[0m\u001b[0;34m,\u001b[0m \u001b[0mdlnM\u001b[0m \u001b[0;34m=\u001b[0m \u001b[0mdlnM\u001b[0m\u001b[0;34m)\u001b[0m\u001b[0;34m\u001b[0m\u001b[0m\n",
      "\u001b[0;31mNameError\u001b[0m: name 'mass_min' is not defined"
     ]
    }
   ],
   "source": [
    "#M_halobin = np.logspace(9, 16, 1000, base=10.)\n",
    "M_halobin, dlnM = produce_massbin(mass_min, mass_max, nM = 100)\n",
    "ng = num_gal(M_halobin, st_mass, dlnM = dlnM)\n",
    "bg = bias_gal(M_halobin, st_mass, dlnM = dlnM)"
   ]
  },
  {
   "cell_type": "code",
   "execution_count": 493,
   "metadata": {},
   "outputs": [
    {
     "data": {
      "text/plain": [
       "(0.0013142146808001228, 2.2338741116557106, 0.16118095650958325)"
      ]
     },
     "execution_count": 493,
     "metadata": {},
     "output_type": "execute_result"
    }
   ],
   "source": [
    "ng, bg, dlnM"
   ]
  },
  {
   "cell_type": "code",
   "execution_count": 433,
   "metadata": {},
   "outputs": [],
   "source": [
    "dbg_dnglist = [dbg_dng(M, st_mass) for M in M_halobin]"
   ]
  },
  {
   "cell_type": "code",
   "execution_count": 1342,
   "metadata": {},
   "outputs": [
    {
     "name": "stdout",
     "output_type": "stream",
     "text": [
      "db_dn -1062.590140127243\n",
      "b_diff 2.2357020521617015 %\n",
      "A_cmass 6689.347390836286  A_dmass 1260.9130947509416\n",
      "N_cmass 566850  N_dmass 110270\n"
     ]
    }
   ],
   "source": [
    "Mmin_cmass = 10**(12.99139)\n",
    "dbg_dng_Mmin = dbg_dng(Mmin_cmass, st_mass)\n",
    "b_difference = dbg_dng_Mmin * ng * (N_cmass - N_dmass * A_cmass/A_dmass)*1./N_cmass\n",
    "print 'db_dn', dbg_dng_Mmin\n",
    "print 'b_diff', b_difference/b_cmass * 100, '%'\n",
    "\n",
    "print 'A_cmass', A_cmass, ' A_dmass', A_dmass\n",
    "print 'N_cmass', N_cmass, ' N_dmass', N_dmass\n",
    "#sigma_n = poisson_sigman(cmass_ngc)\n",
    "#sigma_b = dbg_dng_Mmin * sigma_n\n",
    "#sigma_n_percentage = poisson_sigman_dmass_percentage()\n",
    "#sigma_b_cosmic = dbg_dng_Mmin * poisson_sigman_dmass()\n",
    "#print sigma_b, sigma_b_cosmic"
   ]
  },
  {
   "cell_type": "code",
   "execution_count": null,
   "metadata": {},
   "outputs": [],
   "source": [
    "N_cmass = cmass_ngc.size\n",
    "db_dn =  b_cmass * (1.-1*./brel_bestfit) * 1./0.15/N_cmass\n",
    "\n",
    "sigma_n = poisson_sigman(dmass_spt)\n",
    "sigma_b = db_dn * poisson_sigman_dmass()\n",
    "\n",
    "print sigma_b"
   ]
  },
  {
   "cell_type": "code",
   "execution_count": 495,
   "metadata": {},
   "outputs": [
    {
     "data": {
      "text/plain": [
       "(12, 16)"
      ]
     },
     "execution_count": 495,
     "metadata": {},
     "output_type": "execute_result"
    },
    {
     "data": {
      "image/png": "[encoded data removed]",
      "text/plain": [
       "<matplotlib.figure.Figure at 0x7fd2e7786dd0>"
      ]
     },
     "metadata": {},
     "output_type": "display_data"
    },
    {
     "data": {
      "image/png": "[encoded data removed]",
      "text/plain": [
       "<matplotlib.figure.Figure at 0x7fd2e771dc50>"
      ]
     },
     "metadata": {},
     "output_type": "display_data"
    },
    {
     "data": {
      "image/png": "[encoded data removed]",
      "text/plain": [
       "<matplotlib.figure.Figure at 0x7fd2e2736cd0>"
      ]
     },
     "metadata": {},
     "output_type": "display_data"
    },
    {
     "data": {
      "image/png": "[encoded data removed]",
      "text/plain": [
       "<matplotlib.figure.Figure at 0x7fd2e26b6d90>"
      ]
     },
     "metadata": {},
     "output_type": "display_data"
    },
    {
     "data": {
      "image/png": "[encoded data removed]",
      "text/plain": [
       "<matplotlib.figure.Figure at 0x7fd2e26eded0>"
      ]
     },
     "metadata": {},
     "output_type": "display_data"
    }
   ],
   "source": [
    "fig, ax = plt.subplots()\n",
    "ax.plot(np.log10(M_halobin), dbg_dnglist)\n",
    "ax.axvline(x = np.log10(Mmin_cmass), color = 'k', linestyle = '--')\n",
    "ax.set_xlabel(r'$log_{10} (M/M_{sun})$')\n",
    "ax.set_ylabel('db/dn (M)')\n",
    "ax.set_xlim(12,16)\n",
    "#ax.set_yscale('log')\n",
    "\n",
    "#bias_halo_list = [bias_halo(m) for m in M_halobin]\n",
    "bias_tinker =[ bias_halo_tinker(m, z = 0) for m in M_halobin]\n",
    "fig, ax = plt.subplots()\n",
    "ax.plot(np.log10(M_halobin), st_mass.bias_m(M_halobin))\n",
    "#ax.plot(np.log10(M_halobin), bias_tinker)\n",
    "ax.set_xlabel(r'$log_{10} (M/M_{sun})$')\n",
    "ax.set_ylabel('halo bias (M)')\n",
    "ax.set_xlim(12,16)\n",
    "#ax.set_yscale('log')\n",
    "ax.set_ylim(0, 12)\n",
    "\n",
    "#hm_tinker = [halo_mass_tinker(m) for m in M_halobin]\n",
    "fig, ax = plt.subplots()\n",
    "ax.plot(np.log10(M_halobin), st_mass.dndm(M_halobin))\n",
    "#ax.plot(np.log10(M_halobin), hm_tinker)\n",
    "ax.set_yscale('log')\n",
    "ax.set_xlabel(r'$log_{10} (M/M_{sun})$')\n",
    "ax.set_ylabel('dn/dM (M)')\n",
    "\n",
    "fig, ax = plt.subplots()\n",
    "cmass_hod =  np.array([CMASS_HOD(m) for m in M_halobin])\n",
    "ax.semilogy(np.log10(M_halobin), cmass_hod)\n",
    "\n",
    "fig, ax = plt.subplots()\n",
    "p_max = (st_mass.dndm(M_halobin) * cmass_hod).max()\n",
    "ax.plot(np.log10(M_halobin), st_mass.dndm(M_halobin) * cmass_hod )\n",
    "ax.set_xlabel(r'$log_{10} (M/M_{sun})$')\n",
    "ax.set_ylabel(' dn/dM * HOD')\n",
    "ax.set_xlim(12,16)"
   ]
  },
  {
   "cell_type": "code",
   "execution_count": 2,
   "metadata": {},
   "outputs": [],
   "source": [
    "sys.path.append('/n/des/lee.5922/programs/chomp')\n",
    "import correlation\n",
    "import cosmology\n",
    "import halo\n",
    "import hod\n",
    "import kernel\n",
    "import mass_function"
   ]
  },
  {
   "cell_type": "code",
   "execution_count": 7,
   "metadata": {},
   "outputs": [],
   "source": [
    "cosmo_dict = {\n",
    "    \"omega_m0\": 0.3 - 4.15e-5/0.7**2,\n",
    "    \"omega_b0\": 0.046,\n",
    "    \"omega_l0\": 0.7,\n",
    "    \"omega_r0\": 4.15e-5/0.7**2,\n",
    "    \"cmb_temp\": 2.726,\n",
    "    \"h\"       : 0.7,\n",
    "    \"sigma_8\" : 0.800,\n",
    "    \"n_scalar\": 0.960,\n",
    "    \"w0\"      : -1.0,\n",
    "    \"wa\"      : 0.0\n",
    "    }\n",
    "halo_dict = {\n",
    "    \"stq\": 0.3,\n",
    "    \"st_little_a\": 0.707,\n",
    "    \"c0\": 9.,\n",
    "    \"beta\": -0.13,\n",
    "    \"alpha\": -1,\n",
    "    \"delta_v\": -1\n",
    "    }\n",
    "\n",
    "cosmo_single = cosmology.SingleEpoch(redshift=0.0, cosmo_dict=cosmo_dict,\n",
    "                                 with_bao=False)\n",
    "#Sheth& Tormen mass function\n",
    "st_mass = mass_function.MassFunction(redshift=0.0, cosmo_single_epoch=cosmo_single,\n",
    "                                  halo_dict=halo_dict)\n",
    "#st_mass.write('massftn.txt')"
   ]
  },
  {
   "cell_type": "code",
   "execution_count": 8,
   "metadata": {},
   "outputs": [],
   "source": [
    "# BOSS CMASS\n",
    "#{\"Mmin\" : 12.99139,\n",
    "#  \"M1\" : 14.07659,\n",
    "#  \"alpha\" : 0.8242392, \n",
    "#  \"Mcut\" : 13.19778,\n",
    "#  \"sigma_logm\" : 0.3076970}\n",
    "    \n",
    "hod_dict = {\"log_M_min\": 12.99139,\n",
    "            \"sigma\":     0.3076970,\n",
    "            \"log_M_0\":  13.19778,\n",
    "            \"log_M_1p\": 14.07659,\n",
    "            \"alpha\":      0.8242392}\n",
    "\n",
    "cmass_hod = hod.HODZheng(hod_dict)\n",
    "\n",
    "\"\"\"\n",
    "HOD object describing the model from Zheng2007. Input is a dictionary\n",
    "of variable names and values. Names for these variables are listed below.\n",
    "Attributes:\n",
    "    M_min: Minimum mass for a halo to to contain a central galaxy\n",
    "    sigma: with of central the central galaxy turn on\n",
    "    M_0: minimum mass for a halo to contain satellite galaxies. Note: \n",
    "        Wake et al. 2011 and Zehavi et al. 2011 show show that M_0~M_min\n",
    "    M_1p: Mass differential at which a halo contains one satellite (M-M_0).\n",
    "    alpha: slope of the satellite number counts. Note: This is motivated to\n",
    "        be 1. (see references above)\n",
    "\"\"\"\n",
    "    \n",
    "halo_model = halo.Halo(redshift=0.0, input_hod=cmass_hod,\n",
    "                       cosmo_single_epoch=cosmo_single)"
   ]
  },
  {
   "cell_type": "code",
   "execution_count": 9,
   "metadata": {},
   "outputs": [],
   "source": [
    "mass_max = 1.0e16\n",
    "mass_min = 1.0e9\n",
    "\n",
    "import numpy\n",
    "dln_mass = (numpy.log(mass_max) - numpy.log(mass_min))/200\n",
    "ln_mass_max = numpy.log(mass_max) + dln_mass\n",
    "ln_mass_min = numpy.log(mass_min) - dln_mass\n",
    "\n",
    "ln_mass_array = numpy.arange(\n",
    "    ln_mass_min, ln_mass_max + dln_mass, dln_mass)\n",
    "\n",
    "output_filename = 'hod_test.txt'\n",
    "f = open(output_filename, \"w\")\n",
    "for ln_mass in ln_mass_array:\n",
    "    mass = numpy.exp(ln_mass)\n",
    "    f.write(\"%1.10f %1.10f %1.10f %1.10f\\n\" % (\n",
    "                mass, cmass_hod.first_moment(mass), cmass_hod.second_moment(mass),\n",
    "                cmass_hod.nth_moment(mass,3, None)))\n",
    "    "
   ]
  },
  {
   "cell_type": "code",
   "execution_count": 11,
   "metadata": {},
   "outputs": [
    {
     "data": {
      "text/plain": [
       "<matplotlib.text.Text at 0x7f27a18d43d0>"
      ]
     },
     "execution_count": 11,
     "metadata": {},
     "output_type": "execute_result"
    },
    {
     "data": {
      "image/png": "[encoded data removed]",
      "text/plain": [
       "<matplotlib.figure.Figure at 0x7f2728e25c50>"
      ]
     },
     "metadata": {},
     "output_type": "display_data"
    }
   ],
   "source": [
    "fig, ax = plt.subplots()\n",
    "\n",
    "massbin, fst, snd, nth = np.genfromtxt('hod_test.txt', unpack=True)\n",
    "logmass= np.log10(massbin)\n",
    "ax.plot(logmass, fst, 'k--')\n",
    "ax.plot(logmass, snd, 'k--')\n",
    "ax.plot(logmass, nth, 'k--')\n",
    "ax.plot(logmass, fst + snd + nth , 'r-')\n",
    "ax.set_yscale('log')\n",
    "ax.set_ylim(0.05, 100)\n",
    "ax.set_xlim(12, 15)\n",
    "ax.set_xlabel(r'$log_{10} (M/M_{sun})$')\n",
    "ax.set_ylabel('N(M)')\n",
    "ax.set_title('CMASS HOD, (Zheng 07)')"
   ]
  },
  {
   "cell_type": "code",
   "execution_count": 13,
   "metadata": {},
   "outputs": [
    {
     "data": {
      "text/plain": [
       "<matplotlib.text.Text at 0x7f27a06a8e50>"
      ]
     },
     "execution_count": 13,
     "metadata": {},
     "output_type": "execute_result"
    },
    {
     "data": {
      "image/png": "[encoded data removed]",
      "text/plain": [
       "<matplotlib.figure.Figure at 0x7f27b014ac90>"
      ]
     },
     "metadata": {},
     "output_type": "display_data"
    },
    {
     "data": {
      "image/png": "[encoded data removed]",
      "text/plain": [
       "<matplotlib.figure.Figure at 0x7f272b011b50>"
      ]
     },
     "metadata": {},
     "output_type": "display_data"
    }
   ],
   "source": [
    "\n",
    "mass, nu, fnu, bnu = np.genfromtxt('../massftn.txt', unpack=True)\n",
    "bm = st_mass.bias_m(mass)\n",
    "st_dndm = st_mass.dndm(mass)\n",
    "fig, ax = plt.subplots()\n",
    "#ax.plot(np.log10(mass), bm)\n",
    "ax.plot(np.log10(mass), st_dndm, 'k-')\n",
    "#ax.axvline(x = np.log10(Mmin_cmass), color = 'grey', linestyle = '--')\n",
    "ax.set_xlim(12, 16)\n",
    "ax.set_ylim(1e-26,1e-15)\n",
    "ax.set_yscale('log')\n",
    "ax.set_xlabel(r'$log_{10} (M/M_{sun})$')\n",
    "ax.set_ylabel('dn/dM (M)')\n",
    "ax.set_title('Sheth & Tormen mass ftn')\n",
    "\n",
    "fig, ax = plt.subplots()\n",
    "ax.plot(np.log10(mass), bm, 'k-')\n",
    "#ax.axvline(x = np.log10(Mmin_cmass), color = 'grey', linestyle = '--')\n",
    "#ax.plot(np.log10(mass), st_dndm)\n",
    "#ax.set_yscale('log')\n",
    "ax.set_ylim(0,12)\n",
    "ax.set_xlim(12, 16)\n",
    "ax.set_xlabel(r'$log_{10} (M/M_{sun})$')\n",
    "ax.set_ylabel('halo bias')\n",
    "ax.set_title('')"
   ]
  },
  {
   "cell_type": "markdown",
   "metadata": {},
   "source": [
    "JK test "
   ]
  },
  {
   "cell_type": "code",
   "execution_count": 580,
   "metadata": {},
   "outputs": [
    {
     "name": "stdout",
     "output_type": "stream",
     "text": [
      "JK sampling\n",
      "X (1505, 2)  centers (10, 2)  tol=1e-05  maxiter=200\n",
      "26 iterations  cluster sizes: [170 144 125 144 128 156 170 166 141 161]\n",
      "X (566850, 2)  centers (10, 2)  tol=1e-05  maxiter=200\n",
      "33 iterations  cluster sizes: [70069 49040 48029 56507 58930 60067 59040 54149 56409 54610]\n"
     ]
    }
   ],
   "source": [
    "\n",
    "\n",
    "import os, sys\n",
    "from suchyta_utils import jk\n",
    "\n",
    "print 'JK sampling'\n",
    "sys.stdout.flush()\n",
    "\n",
    "jkfile = './jkregion.txt'\n",
    "\n",
    "raTag, decTag = 'RA', 'DEC'\n",
    "jk.GenerateJKRegions( cmass_ngc[raTag], cmass_ngc[decTag], 10, jkfile )\n",
    "\n",
    "#jktest = jk.SphericalJK( target = _constructing_input_file, jkargs=[ data, rand ], \n",
    "#                        jkargsby=[[raTag, decTag],[raTag, decTag]], regions = jkfile, \n",
    "#                        nojkkwargs = {'suffix':suffix})\n",
    "#jktest.DoJK( regions = jkfile, mpi=mpi )\n",
    "#jkresults = jktest.GetResults(jk=True, full = False)\n",
    "#os.remove(jkfile)"
   ]
  },
  {
   "cell_type": "code",
   "execution_count": 581,
   "metadata": {},
   "outputs": [
    {
     "name": "stdout",
     "output_type": "stream",
     "text": [
      "1.866502672397804758e+02 1.247229610339111261e+01\r\n",
      "2.104979261479554395e+02 2.845615935458574342e+01\r\n",
      "2.323211391834970527e+02 4.582277532667336573e+01\r\n",
      "2.177304811392343993e+02 6.611718555890205629e+00\r\n",
      "2.432789534717561537e+02 2.251301342093752567e+01\r\n",
      "1.318641030775989407e+02 1.347303091213154325e+01\r\n",
      "1.591686123486870770e+02 3.472169161719406816e+01\r\n",
      "1.281294251716646215e+02 4.076011461597185104e+01\r\n",
      "1.884315985581222037e+02 4.479038936876109034e+01\r\n",
      "1.590833233514738083e+02 9.151194831731338297e+00\r\n"
     ]
    }
   ],
   "source": [
    "cat jkregion.txt"
   ]
  },
  {
   "cell_type": "code",
   "execution_count": 656,
   "metadata": {},
   "outputs": [],
   "source": [
    "def GenerateRegions(jarrs, jras, jdecs, jfile, njack, jtype):\n",
    "\n",
    "    import kmeans_radec\n",
    "    \n",
    "    if jtype=='generate':\n",
    "        rdi = np.zeros( (len(jarrs),2) )\n",
    "        rdi[:,0] = jras# jarrs[gindex][jras[gindex]]\n",
    "        rdi[:,1] = jdecs #jarrs[gindex][jdecs[gindex]]\n",
    "\n",
    "        if jfile is None:\n",
    "            jfile = 'JK-{0}.txt'.format(njack)\n",
    "        km = kmeans_radec.kmeans_sample(rdi, njack, maxiter=200, tol=1.0e-5)\n",
    "\n",
    "        if not km.converged:\n",
    "            raise RuntimeError(\"k means did not converge\")\n",
    "        np.savetxt(jfile, km.centers)\n",
    "\n",
    "    elif jtype=='read':\n",
    "        centers = np.loadtxt(jfile)\n",
    "        km = kmeans_radec.KMeans(centers)\n",
    "        njack = len(centers)\n",
    "\n",
    "    return [km, jfile]\n",
    "\n",
    "\n",
    "def AssignIndex(jarrs, jras, jdecs, km):\n",
    "    \n",
    "    ind = []\n",
    "    for i in range(len(jarrs)):\n",
    "        rdi = np.zeros( (len(jarrs[i]),2) )\n",
    "        rdi[:,0] = jras[i]\n",
    "        rdi[:,1] = jdecs[i]\n",
    "        index = km.find_nearest(rdi)\n",
    "        ind.append(index[0])\n",
    "    return np.array(ind)\n",
    "\n",
    "def construct_jk_catalog( cat, rand, njack = 10, root='./', suffix = '' ):\n",
    "    \n",
    "    #jarrs = cat\n",
    "    #jras = cat['RA']\n",
    "    #jdecs = cat['DEC']\n",
    "    jfile = 'jkregion.txt'\n",
    "    jtype = 'generate'\n",
    "    \n",
    "    km, jfile = GenerateRegions(cat, cat['RA'], cat['DEC'], jfile, njack, jtype)\n",
    "    ind = AssignIndex(cat, cat['RA'], cat['DEC'], km)\n",
    "    ind_rand = AssignIndex(rand, rand['RA'], rand['DEC'], km)\n",
    "    \n",
    "    for i in range(njack):\n",
    "        mask = (ind == i)\n",
    "        mask_rand = (ind_rand == i)\n",
    "        _constructing_input_file(cat[mask], rand[mask_rand], root = root, suffix = suffix)\n",
    "        \n",
    "    #os.remove(jkfile)   \n",
    "    "
   ]
  },
  {
   "cell_type": "code",
   "execution_count": null,
   "metadata": {},
   "outputs": [],
   "source": []
  },
  {
   "cell_type": "code",
   "execution_count": 649,
   "metadata": {},
   "outputs": [
    {
     "name": "stdout",
     "output_type": "stream",
     "text": [
      "X (1505, 2)  centers (10, 2)  tol=1e-05  maxiter=200\n",
      "23 iterations  cluster sizes: [128 145 133 128 170 141 178 148 185 149]\n",
      "X (566850, 2)  centers (10, 2)  tol=1e-05  maxiter=200\n",
      "42 iterations  cluster sizes: [51532 63600 49362 51778 54234 54795 58305 59496 61598 62150]\n"
     ]
    }
   ],
   "source": [
    "km, jfile = GenerateRegions(cmass_ngc, cmass_ngc['RA'], cmass_ngc['DEC'], 'jkregion.txt', 10, 'generate')"
   ]
  },
  {
   "cell_type": "code",
   "execution_count": 657,
   "metadata": {},
   "outputs": [],
   "source": [
    "ind = AssignIndex(cmass_ngc, cmass_ngc['RA'], cmass_ngc['DEC'], km)"
   ]
  },
  {
   "cell_type": "code",
   "execution_count": 661,
   "metadata": {},
   "outputs": [
    {
     "data": {
      "image/png": "[encoded data removed]",
      "text/plain": [
       "<matplotlib.figure.Figure at 0x7fd2e20195d0>"
      ]
     },
     "metadata": {},
     "output_type": "display_data"
    }
   ],
   "source": [
    "fig, ax = plt.subplots()\n",
    "for i in range(10):\n",
    "    mask = index_1st == i\n",
    "    ra = cmass_ngc['RA'][mask]\n",
    "    dec = cmass_ngc['DEC'][mask]\n",
    "    ax.plot(ra, dec, '.')"
   ]
  },
  {
   "cell_type": "code",
   "execution_count": 995,
   "metadata": {},
   "outputs": [],
   "source": [
    "jk_index = np.arange(5+1)"
   ]
  },
  {
   "cell_type": "code",
   "execution_count": 998,
   "metadata": {},
   "outputs": [
    {
     "data": {
      "text/plain": [
       "array([0, 1, 3, 4, 5])"
      ]
     },
     "execution_count": 998,
     "metadata": {},
     "output_type": "execute_result"
    }
   ],
   "source": [
    "np.delete(jk_index, 2)"
   ]
  },
  {
   "cell_type": "code",
   "execution_count": 1166,
   "metadata": {},
   "outputs": [],
   "source": [
    "def combine_jk_npairs(root = './', suffix = ['', ''], kind = ['dd', 'dr', 'rr'], njack = 5 ):\n",
    "\n",
    "    from scipy.special import eval_legendre\n",
    "\n",
    "    jk_full_index = np.arange(njack+1)\n",
    "    \n",
    "    for jkinx in range(njack+1):\n",
    "        jk_index = np.delete(jk_full_index, jkinx)\n",
    "\n",
    "        datalist_dd = []\n",
    "        datalist_dr = []\n",
    "        datalist_rr = []\n",
    "    \n",
    "        for s in suffix:\n",
    "            _root = root + s+'/'\n",
    "            for i in jk_index:\n",
    "                for j in jk_index:\n",
    "                    dd_picklename = _root+'djk{}djk{}2ptdmu.dat'.format(i,j)\n",
    "                    dr_picklename = _root+'djk{}rjk{}2ptdmu.dat'.format(i,j)\n",
    "                    rr_picklename = _root+'rjk{}rjk{}2ptdmu.dat'.format(i,j)\n",
    "                    #print dd_picklename\n",
    "                    \n",
    "                    #print '----------------'\n",
    "                    if os.path.exists(dd_picklename):\n",
    "                        #print dd_picklename, i, j\n",
    "                        datalist_dd.append(np.genfromtxt(dd_picklename))\n",
    "                        if i != j : \n",
    "                            datalist_dd.append(np.genfromtxt(dd_picklename))\n",
    "                        #    print dd_picklename, j, i\n",
    "                        else : pass\n",
    "\n",
    "                    if os.path.exists(dr_picklename):\n",
    "                        datalist_dr.append(np.genfromtxt(dr_picklename))\n",
    "\n",
    "                    if os.path.exists(rr_picklename):\n",
    "                        #print rr_picklename, i, j\n",
    "                        \n",
    "                        datalist_rr.append(np.genfromtxt(rr_picklename))\n",
    "                        if i != j : \n",
    "                            datalist_rr.append(np.genfromtxt(rr_picklename))\n",
    "                            #print dd_picklename, i, j\n",
    "                        else : pass\n",
    "\n",
    "                    else : pass \n",
    "\n",
    "                    \n",
    "        if jkinx == njack : jkinx = 'full'\n",
    "        if 'dd' in kind : \n",
    "            #datalist_dd = [d*1./d[0] for d in datalist_dd]\n",
    "            datalist_dd = np.sum(datalist_dd, axis = 0)\n",
    "            dd_combine_filename = _root+'dd_JK{}_combine_2ptdmu.dat'.format(jkinx)\n",
    "            np.savetxt(dd_combine_filename, datalist_dd )\n",
    "            print 'data save to ',dd_combine_filename\n",
    "\n",
    "        if 'dr' in kind : \n",
    "            #datalist_dr = [d*1./d[0] for d in datalist_dr]\n",
    "            datalist_dr = np.sum(datalist_dr, axis = 0)\n",
    "            dr_combine_filename = _root+'dr_JK{}_combine_2ptdmu.dat'.format(jkinx)\n",
    "            np.savetxt(dr_combine_filename, datalist_dr )\n",
    "            print 'data save to ',dr_combine_filename\n",
    "\n",
    "        if 'rr' in kind :\n",
    "            #datalist_rr = [d*1./d[0] for d in datalist_rr]\n",
    "            datalist_rr = np.sum(datalist_rr, axis = 0)\n",
    "            rr_combine_filename = _root+'rr_JK{}_combine_2ptdmu.dat'.format(jkinx)\n",
    "            np.savetxt(rr_combine_filename, datalist_rr )\n",
    "            print 'data save to ',rr_combine_filename\n"
   ]
  },
  {
   "cell_type": "code",
   "execution_count": 1167,
   "metadata": {},
   "outputs": [],
   "source": [
    "\n",
    "def binning_smu( Ncounts, sbin, mubin ):\n",
    "\n",
    "    sbin_orig, sstep = np.linspace(0,250, 251, retstep =True)\n",
    "    s = sbin_orig[:-1] + sstep/2.\n",
    "    mubin_orig, mus = np.linspace(0,1,101, retstep=True)\n",
    "    mu = mubin_orig[:-1]+mus/2.\n",
    "    \n",
    "    #npairs = Ncounts.reshape((sbin_orig.size-1, mubin_orig.size-1))\n",
    "    npairs = Ncounts\n",
    "    \n",
    "    new_npairs = np.zeros((sbin.size-1, mubin.size-1))\n",
    "    #wsqr = np.zeros((sbin.size-1, mubin.size-1))\n",
    "    \n",
    "    for i in range(s.size-1):\n",
    "        for j in range(mu.size-1):\n",
    "            ind_s = np.digitize( s[i], sbin )\n",
    "            ind_mu = np.digitize( mu[j], mubin )\n",
    "            if ind_s == sbin.size: pass\n",
    "            elif ind_mu == mubin.size: pass\n",
    "            else : \n",
    "                new_npairs[ind_s-1, ind_mu-1] += npairs[i*mu.size+j]\n",
    "                #print s[i], mu[j], ind_s, ind_mu, new_npairs[ind_s-1, ind_mu-1]\n",
    "    return new_npairs\n",
    "\n",
    "def _cf_smu(DD_counts, DR_counts, RR_counts, sbin, mubin):\n",
    "    \n",
    "    DD = binning_smu( DD_counts, sbin, mubin )\n",
    "    DR = binning_smu( DR_counts, sbin, mubin )\n",
    "    RR = binning_smu( RR_counts, sbin, mubin )\n",
    "    \n",
    "    wd = np.sqrt(np.sum(DD))\n",
    "    wdr = np.sqrt(np.sum(DR))\n",
    "    wr = np.sqrt(np.sum(RR))\n",
    "    norm_DD = DD # *1./wd**2\n",
    "    norm_DR = DR # *1./(wd*wr)\n",
    "    norm_RR = RR # *1./wr**2\n",
    "    \n",
    "    zeromask = norm_RR == 0\n",
    "    norm_RR[zeromask] = 0.\n",
    "    xi_smu = (norm_DD - 2*norm_DR + norm_RR) *1./norm_RR\n",
    "    \n",
    "    xi_smu[zeromask] = 0\n",
    "    return xi_smu"
   ]
  },
  {
   "cell_type": "code",
   "execution_count": 1177,
   "metadata": {},
   "outputs": [],
   "source": [
    "def _xi_from_jkdat(root = './', suffix = '', njack = 5):\n",
    "    \n",
    "    from scipy.special import eval_legendre\n",
    "     \n",
    "    smin = 40\n",
    "    smax = 180\n",
    "    snbin = 29\n",
    "\n",
    "    sbin, step = np.linspace(smin, smax, snbin, retstep=True)\n",
    "\n",
    "    sbin_center = sbin[:-1] + step/2.\n",
    "    mubin, mus = np.linspace(0.0, 1.0, 101, retstep = True)\n",
    "    mucenter = mubin[:-1]+mus/2.\n",
    "\n",
    "    xilist = []\n",
    "\n",
    "    s = suffix\n",
    "\n",
    "    _root = root + s+'/'\n",
    "    jkindex = list(np.arange(njack)) + ['full']\n",
    "    for i in jkindex:\n",
    "        dd_picklename = _root+'dd_JK{}_combine_2ptdmu.dat'.format(i)\n",
    "        dr_picklename = _root+'dr_JK{}_combine_2ptdmu.dat'.format(i)\n",
    "        rr_picklename = _root+'rr_JK{}_combine_2ptdmu.dat'.format(i)\n",
    "        if os.path.exists(dd_picklename):\n",
    "            #print dd_picklename\n",
    "\n",
    "            #stop\n",
    "            dd = np.loadtxt(dd_picklename)[1:] *1./np.loadtxt(dd_picklename)[0] \n",
    "            dr = np.loadtxt(dr_picklename)[1:] *1./np.loadtxt(dr_picklename)[0]\n",
    "            rr = np.loadtxt(rr_picklename)[1:] *1./np.loadtxt(rr_picklename)[0]\n",
    "            print i, np.loadtxt(dd_picklename)[0]\n",
    "            \n",
    "            if i == 'full' : \n",
    "                fig, ax = plt.subplots()\n",
    "                ax.plot(np.arange(250), np.sum(dd.reshape(250,100), axis=1))\n",
    "                ax.plot(np.arange(250), np.sum(dr.reshape(250,100), axis=1))\n",
    "                ax.plot(np.arange(250), np.sum(rr.reshape(250,100), axis=1), '--', label = 'RR')\n",
    "                ax.legend()\n",
    "            \n",
    "            \n",
    "            xi_smu = _cf_smu( dd, dr, rr, sbin, mubin)                \n",
    "\n",
    "            legendre0 = np.array([eval_legendre(0,m) for m in mucenter]).ravel() \n",
    "            #legendre2 = np.array([scipy.special.eval_legendre(2,m) for m in mucenter]).ravel() \n",
    "\n",
    "            xi_monopole = np.sum(xi_smu * legendre0.T, axis = 1)/mucenter.size\n",
    "            #xi_quadrupole = 5*np.sum(xi_smu * legendre2.T, axis = 1)/mucenter.size\n",
    "           \n",
    "            if i == 'full' : xi_full = xi_monopole\n",
    "            else : xilist.append(xi_monopole)\n",
    "\n",
    "        else : break    \n",
    "\n",
    "    \n",
    "    #njack = len(xilist)-1\n",
    "    \n",
    "    #xi_data = np.column_stack((xilist))\n",
    "    #np.savetxt(root+'/xi_jk.txt', xi_data )\n",
    "    \n",
    "    #xi_mean = np.mean(xilist, axis = 0)\n",
    "    norm = 1. * (njack-1)/njack\n",
    "\n",
    "    xi_cov = 0\n",
    "    for k in range(njack):\n",
    "        #print k \n",
    "        xi_cov +=  (xilist[k] - xi_full)**2\n",
    "    xijkerr = np.sqrt(norm * xi_cov)\n",
    "    \n",
    "    DAT = np.column_stack((sbin_center, xi_full, xijkerr ))\n",
    "    txtname = _root+'cfz_multipole'\n",
    "    txtname += '_'+s\n",
    "\n",
    "    np.savetxt(txtname+'.txt', DAT)\n",
    "    print 'data save to ', txtname+'.txt'"
   ]
  },
  {
   "cell_type": "code",
   "execution_count": 1178,
   "metadata": {
    "scrolled": false
   },
   "outputs": [
    {
     "name": "stdout",
     "output_type": "stream",
     "text": [
      "0 39762562857.937195\n"
     ]
    },
    {
     "name": "stderr",
     "output_type": "stream",
     "text": [
      "/n/home00/lee.5922/.local/lib/python2.7/site-packages/ipykernel_launcher.py:41: RuntimeWarning: invalid value encountered in divide\n"
     ]
    },
    {
     "name": "stdout",
     "output_type": "stream",
     "text": [
      "1 40050303007.67734\n",
      "2 39873287588.13683\n",
      "3 40734669590.23969\n",
      "4 39799637839.987465\n",
      "full 36001190164.89597\n",
      "data save to  data_txt/pair_counting/cmass_ngc_highM/cfz_multipole_cmass_ngc_highM.txt\n"
     ]
    },
    {
     "data": {
      "image/png": "[encoded data removed]",
      "text/plain": [
       "<matplotlib.figure.Figure at 0x7fd2d7d73810>"
      ]
     },
     "metadata": {},
     "output_type": "display_data"
    }
   ],
   "source": [
    "#combine_jk_npairs(root = 'data_txt/pair_counting/', suffix = ['cmass_ngc_rand10'], njack = 10 )\n",
    "_xi_from_jkdat(root = 'data_txt/pair_counting/', suffix = 'cmass_ngc_highM', njack = 5)"
   ]
  },
  {
   "cell_type": "code",
   "execution_count": 961,
   "metadata": {},
   "outputs": [],
   "source": [
    "DD = np.genfromtxt('data_txt/pair_counting/cmass_sgc_rand100/dd_combine_2ptdmu.dat')\n",
    "DR = np.genfromtxt('data_txt/pair_counting/cmass_sgc_rand100/dr_combine_2ptdmu.dat')\n",
    "RR = np.genfromtxt('data_txt/pair_counting/cmass_sgc_rand100/rr_combine_2ptdmu.dat')\n",
    "#DD_norm = DD.reshape(250, 100)\n",
    "#DR_norm = DR.reshape(250, 100)\n",
    "#RR_norm = RR.reshape(250, 100)\n",
    "\n",
    "DD_norm =  (DD[1:] * 1./DD[0]).reshape(250, 100)\n",
    "DR_norm = (DR[1:] * 1./DR[0]).reshape(250, 100)\n",
    "RR_norm = (RR[1:] * 1./RR[0]).reshape(250, 100)"
   ]
  },
  {
   "cell_type": "code",
   "execution_count": 943,
   "metadata": {},
   "outputs": [],
   "source": [
    "#wr = np.sqrt(np.sum(RR_norm))\n",
    "#wd = np.sqrt(np.sum(DD_norm))\n",
    "#wdr = np.sqrt(np.sum(DR_norm))\n",
    "#DD_norm =  DD_norm * 1./wd**2\n",
    "#DR_norm = DR_norm * 1./wdr**2\n",
    "#RR_norm = RR_norm *1./wr**2"
   ]
  },
  {
   "cell_type": "code",
   "execution_count": 962,
   "metadata": {},
   "outputs": [],
   "source": [
    "DD_s = np.sum(DD_norm, axis = 1)\n",
    "DR_s = np.sum(DR_norm, axis = 1) \n",
    "RR_s = np.sum(RR_norm, axis = 1) "
   ]
  },
  {
   "cell_type": "code",
   "execution_count": 963,
   "metadata": {},
   "outputs": [
    {
     "data": {
      "text/plain": [
       "<matplotlib.legend.Legend at 0x7fd2d72ad750>"
      ]
     },
     "execution_count": 963,
     "metadata": {},
     "output_type": "execute_result"
    },
    {
     "data": {
      "image/png": "[encoded data removed]",
      "text/plain": [
       "<matplotlib.figure.Figure at 0x7fd2d7782f90>"
      ]
     },
     "metadata": {},
     "output_type": "display_data"
    }
   ],
   "source": [
    "fig, ax = plt.subplots()\n",
    "ax.plot(np.arange(DD_s.size), DD_s, label= 'DD')\n",
    "ax.plot(np.arange(DD_s.size), DR_s, label = 'DR')\n",
    "ax.plot(np.arange(DD_s.size), RR_s, '--',label = 'RR')\n",
    "ax.legend()"
   ]
  },
  {
   "cell_type": "code",
   "execution_count": 1215,
   "metadata": {},
   "outputs": [
    {
     "data": {
      "text/plain": [
       "(40, 180)"
      ]
     },
     "execution_count": 1215,
     "metadata": {},
     "output_type": "execute_result"
    },
    {
     "data": {
      "image/png": "[encoded data removed]",
      "text/plain": [
       "<matplotlib.figure.Figure at 0x7fd2d76fa810>"
      ]
     },
     "metadata": {},
     "output_type": "display_data"
    }
   ],
   "source": [
    "\n",
    "theory_rr, theory_corr = np.genfromtxt('data_txt/Ashley_cmass/xi0gcmassNdr12v4_mz0.43xz0.7fcos65st0.dat', unpack=True)\n",
    "#theory_corr2 = np.genfromtxt('../../bandpower/SNR/data_txt/datav/mcmc_cmass_zcut_xionly_b_monopole.datavector')[1500:1500+28]\n",
    "\n",
    "fig, ax = plt.subplots()\n",
    "#rr, rs = np.linspace(40, 180, 29, retstep=True)\n",
    "#rcenter = rr[:-1] + rs/2.\n",
    "rcenter, xi, xierr = np.loadtxt('data_txt/pair_counting/./cmass_ngc_rand10/cfz_multipole_cmass_ngc_rand10.txt', unpack=True)\n",
    "ax.errorbar(rcenter, rcenter**2* xi, yerr = rcenter**2*xierr, fmt='.')\n",
    "\n",
    "rcenter, xi, xierr = np.loadtxt('data_txt/pair_counting/./cmass_ngc_highM_rand10/cfz_multipole_cmass_ngc_highM_rand10.txt', unpack=True)\n",
    "ax.errorbar(rcenter+1, rcenter**2* xi, yerr = rcenter**2*xierr, fmt='.')\n",
    "\n",
    "#rcenter, xi, xierr = np.loadtxt('data_txt/pair_counting/./cmass_ngc_highM_rand10/cfz_multipole_cmass_ngc_highM_rand10.txt', unpack=True)\n",
    "#ax.errorbar(rcenter+1, rcenter**2* xi, yerr = rcenter**2*xierr, fmt='.')\n",
    "ax.plot(theory_rr, theory_rr**2*theory_corr)\n",
    "ax.set_ylim(-50, 100)\n",
    "ax.set_xlim(40, 180)\n",
    "#ax.set_ylim(-50, 100)"
   ]
  },
  {
   "cell_type": "code",
   "execution_count": 1275,
   "metadata": {},
   "outputs": [],
   "source": [
    "def chisqr_brel(brel, D, D2, covinv):\n",
    "    brel = brel**2\n",
    "    Ibanez_covinv = covinv\n",
    "    chi2 = np.dot( np.dot( (D - brel*D2), Ibanez_covinv ), (D - brel*D2).T )\n",
    "    return chi2*1./D.size\n",
    "\n",
    "\n",
    "rcenter, xi, xierr = np.loadtxt('data_txt/pair_counting/./cmass_ngc_rand10/cfz_multipole_cmass_ngc_rand10.txt', unpack=True)\n",
    "rcenter, xi_high, xierr = np.loadtxt('data_txt/pair_counting/./cmass_ngc_highM_rand10/cfz_multipole_cmass_ngc_highM_rand10.txt', unpack=True)\n",
    "\n",
    "ibanez_cov = np.genfromtxt('../../bandpower/SNR/data_txt/cov/Pellejero-Ibanez/Pellejero-Ibanez_2016_CMASSDR12_covariance_matrix.dat') \n",
    "ibanez_inv = np.linalg.inv(ibanez_cov[:28,:28])\n",
    "\n",
    "\n",
    "brelbin = np.linspace(0.9,1.1, 1000)\n",
    "chilist = np.array([ chisqr_brel(rel, xi, xi_high, ibanez_inv) for rel in brelbin ])"
   ]
  },
  {
   "cell_type": "code",
   "execution_count": 1276,
   "metadata": {},
   "outputs": [
    {
     "data": {
      "text/plain": [
       "<matplotlib.text.Text at 0x7fd2d60e2910>"
      ]
     },
     "execution_count": 1276,
     "metadata": {},
     "output_type": "execute_result"
    },
    {
     "data": {
      "image/png": "[encoded data removed]",
      "text/plain": [
       "<matplotlib.figure.Figure at 0x7fd2d5a98e90>"
      ]
     },
     "metadata": {},
     "output_type": "display_data"
    }
   ],
   "source": [
    "fig, ax = plt.subplots()\n",
    "ax.plot(brelbin, chilist)\n",
    "ax.set_xlabel(r'$b_{rel} = (b_{cmass}/b_{highM})$')\n",
    "ax.set_ylabel(r'$\\chi^2$')"
   ]
  },
  {
   "cell_type": "code",
   "execution_count": 1278,
   "metadata": {},
   "outputs": [
    {
     "name": "stdout",
     "output_type": "stream",
     "text": [
      "0.9860860860860862 0.32021119133154713\n"
     ]
    }
   ],
   "source": [
    "argmin = chilist.argmin()\n",
    "brel_bestfit = brelbin[argmin]\n",
    "print brel_bestfit, chilist.min()"
   ]
  },
  {
   "cell_type": "code",
   "execution_count": 1345,
   "metadata": {},
   "outputs": [
    {
     "name": "stdout",
     "output_type": "stream",
     "text": [
      "0.006445028550512624\n",
      "db_dn -0.0023753555199997165\n",
      "n_cmass - n_dmass -2.713290072263959\n",
      "b_diff 0.006445028550512624\n",
      "0.32225142752563124 %\n"
     ]
    }
   ],
   "source": [
    "def cmass_ngc_area():\n",
    "    boss_hpind = esutil.io.read('/n/des/lee.5922/data/cmass_cat/healpix_boss_footprint_DR11v1_NGC_1024.fits')\n",
    "    Npix = boss_hpind.size\n",
    "    Apix = hp.nside2pixarea(nside = 1024, degrees = True)\n",
    "    Boss_Area = Npix * Apix\n",
    "    return Boss_Area\n",
    "\n",
    "def dmass_spt_area():\n",
    "    GoldMask = callingEliGoldMask()\n",
    "    GoldMask_spt = GoldMask[ GoldMask['DEC'] < -3.0 ]\n",
    "    #GoldMask_spt = Cuts.SpatialCuts(GoldMask_spt, ra=0, ra2 = 100, dec=-52, dec2 = -48)\n",
    "\n",
    "    Apix = hp.nside2pixarea( 4096, degrees = True)\n",
    "    Npix = GoldMask_spt['PIXEL'].size #hp.get_map_size( GoldMask_spt['PIXEL'] )\n",
    "    Area = Npix * Apix\n",
    "    return Area\n",
    "\n",
    "\n",
    "#####################################################\n",
    "dmass_spt = esutil.io.read('/n/des/lee.5922/data/dmass_cat/dmass_spt_30.fits')\n",
    "A_cmass = cmass_ngc_area()\n",
    "A_dmass = dmass_spt_area()\n",
    "N_cmass = cmass_ngc.size\n",
    "N_dmass = dmass_spt.size\n",
    "n_cmass = N_cmass * 1./A_cmass\n",
    "n_dmass = N_dmass * 1./A_dmass\n",
    "b_cmass = 2.0\n",
    "b_dmass = b_cmass * 1./brel_bestfit\n",
    "\n",
    "dN = N_cmass - cmass_highM.size\n",
    "db_dn = A_cmass * (b_cmass - b_dmass) * 1./dN\n",
    "\n",
    "b_difference = db_dn * (n_cmass - n_dmass)\n",
    "print b_difference\n",
    "\n",
    "fracdiff = b_difference *1./b_cmass * 100\n",
    "print 'db_dn', db_dn\n",
    "print 'n_cmass - n_dmass', n_cmass - 1.*n_dmass\n",
    "print 'b_diff', b_difference\n",
    "print fracdiff , '%'"
   ]
  },
  {
   "cell_type": "code",
   "execution_count": null,
   "metadata": {},
   "outputs": [],
   "source": []
  }
 ],
 "metadata": {
  "kernelspec": {
   "display_name": "Python 2",
   "language": "python",
   "name": "python2"
  },
  "language_info": {
   "codemirror_mode": {
    "name": "ipython",
    "version": 2
   },
   "file_extension": ".py",
   "mimetype": "text/x-python",
   "name": "python",
   "nbconvert_exporter": "python",
   "pygments_lexer": "ipython2",
   "version": "2.7.14"
  }
 },
 "nbformat": 4,
 "nbformat_minor": 2
}
