{
 "cells": [
  {
   "cell_type": "code",
   "execution_count": 302,
   "metadata": {
    "collapsed": false
   },
   "outputs": [
    {
     "name": "stdout",
     "output_type": "stream",
     "text": [
      "The autoreload extension is already loaded. To reload it, use:\n",
      "  %reload_ext autoreload\n"
     ]
    }
   ],
   "source": [
    "from xd import *\n",
    "from utils import *\n",
    "import esutil\n",
    "import healpy as hp\n",
    "from systematics import *\n",
    "%matplotlib inline\n",
    "\n",
    "%load_ext autoreload\n",
    "%autoreload 2"
   ]
  },
  {
   "cell_type": "code",
   "execution_count": 304,
   "metadata": {
    "collapsed": false
   },
   "outputs": [],
   "source": [
    "# calling map \n",
    "GoldMask = callingEliGoldMask()\n",
    "#GoldMask_st82 = Cuts.SpatialCuts(GoldMask, ra=320, ra2=360, dec=-2, dec2=2)\n",
    "GoldMask_st82 = GoldMask[ GoldMask['DEC'] > -3.0 ]\n",
    "GoldMask_spt = GoldMask[ GoldMask['DEC'] < -3.0 ]\n",
    "#GoldMask_spt = Cuts.SpatialCuts(GoldMask_spt, ra=0, ra2 = 100, dec=-52, dec2 = -48)\n",
    "\n",
    "pixarea = hp.nside2pixarea( 4096, degrees = True)\n",
    "sptnpix = GoldMask_spt['PIXEL'].size #hp.get_map_size( GoldMask_spt['PIXEL'] )\n",
    "st82npix =  GoldMask_st82['PIXEL'].size # hp.get_map_size( GoldMask_st82 )\n",
    "SPTMaparea = pixarea * sptnpix\n",
    "ST82Maparea = pixarea * st82npix"
   ]
  },
  {
   "cell_type": "code",
   "execution_count": 312,
   "metadata": {
    "collapsed": false
   },
   "outputs": [
    {
     "data": {
      "text/plain": [
       "1260.9130947509416"
      ]
     },
     "execution_count": 312,
     "metadata": {},
     "output_type": "execute_result"
    }
   ],
   "source": [
    "SPTMaparea"
   ]
  },
  {
   "cell_type": "code",
   "execution_count": 257,
   "metadata": {
    "collapsed": false,
    "scrolled": false
   },
   "outputs": [],
   "source": [
    "path= '/n/des/lee.5922/data/y1a1_coadd/'\n",
    "columns = ['COADD_OBJECTS_ID', 'RA', 'DEC']\n",
    "coadd_st82 = io.SearchAndCallFits(path = path, columns = columns, keyword = 'STRIPE82_COADD_OBJECTS_0')\n",
    "\n",
    "# add gold modest class to coadd\n",
    "m_coadd, m_gold = esutil.numpy_util.match(coadd_st82['COADD_OBJECTS_ID'], merged_des_st82['COADD_OBJECTS_ID'])\n",
    "\n",
    "modest_coadd = np.zeros(coadd_st82.size, dtype=int)\n",
    "modest_coadd.fill(99)\n",
    "modest_coadd[m_coadd] = merged_des_st82[m_gold]['MODEST_CLASS']\n",
    "\n",
    "import numpy.lib.recfunctions as rf\n",
    "coadd_st82['MODEST_CLASS'] = modest_coadd\n",
    "#coadd_st82 = rf.append_fields(coadd_st82, 'MODEST_CLASS', data=modest_coadd, dtypes=None)\n",
    "coadd_st82 = Cuts.keepGoodRegion(coadd_st82)\n",
    "coadd_galaxy = (coadd_st82['MODEST_CLASS'] == 1) | (coadd_st82['MODEST_CLASS'] == 99)\n",
    "coadd_st82 = coadd_st82[coadd_galaxy]"
   ]
  },
  {
   "cell_type": "code",
   "execution_count": 305,
   "metadata": {
    "collapsed": false,
    "scrolled": true
   },
   "outputs": [
    {
     "name": "stdout",
     "output_type": "stream",
     "text": [
      "Y1A1_GOLD_STRIPE82_v2_000001.fits\n",
      "Y1A1_GOLD_STRIPE82_v2_000002.fits\n",
      "Y1A1_GOLD_STRIPE82_v2_000003.fits\n",
      "Y1A1_GOLD_STRIPE82_v2_000004.fits\n",
      "Y1A1_GOLD_STRIPE82_v2_000005.fits\n",
      "Y1A1_GOLD_STRIPE82_v2_000006.fits\n",
      "Y1A1_GOLD_STRIPE82_v2_000007.fits\n",
      "Y1A1_GOLD_STRIPE82_v2_000008.fits\n"
     ]
    }
   ],
   "source": [
    "#merged_des_st82_s = fitsio.read('result_cat/merged_des_st82_nocut.fits')\n",
    "path = '/n/des/lee.5922/data/gold_cat/'\n",
    "\n",
    "columns = ['FLAGS_GOLD', 'FLAGS_BADREGION', 'MAG_MODEL_G', 'MAG_MODEL_R', 'MAG_MODEL_I', 'MAG_MODEL_Z',\\\n",
    "           'MAG_DETMODEL_G', 'MAG_DETMODEL_R', 'MAG_DETMODEL_I', 'MAG_DETMODEL_Z', 'MAGERR_DETMODEL_G',\\\n",
    "           'MAGERR_DETMODEL_R', 'MAGERR_DETMODEL_I', 'MAGERR_DETMODEL_Z', 'MAGERR_MODEL_G', 'MAGERR_MODEL_R',\\\n",
    "           'MAGERR_MODEL_I', 'MAGERR_MODEL_Z', 'MAG_AUTO_G', 'MAG_AUTO_R', 'MAG_AUTO_I', 'MAG_AUTO_Z', 'RA',\\\n",
    "           'DEC', 'COADD_OBJECTS_ID', 'MODEST_CLASS', 'HPIX', 'DESDM_ZP']\n",
    "\n",
    "merged_des_st82 = io.SearchAndCallFits(path = path, columns = columns, keyword = 'Y1A1_GOLD_STRIPE82_v2')\n",
    "merged_des_st82 = merged_des_st82[merged_des_st82['MODEST_CLASS'] == 1]\n",
    "merged_des_st82 = Cuts.keepGoodRegion(merged_des_st82)\n",
    "#merged_des_st82 = Cuts.SpatialCuts(merged_des_st82, ra=320, ra2=360, dec=-2, dec2=2)"
   ]
  },
  {
   "cell_type": "code",
   "execution_count": 308,
   "metadata": {
    "collapsed": false
   },
   "outputs": [],
   "source": [
    "#mask_cmass = (clean_cmass_data_des['FLAGS_GOLD'] == 0 )&(priorCut_test(clean_cmass_data_des))\n",
    "mask_all = (merged_des_st82['FLAGS_GOLD'] == 0 )&(priorCut_test(merged_des_st82))\n",
    "merged_des_st82 = merged_des_st82[mask_all]\n",
    "#clean_cmass_data_des = clean_cmass_data_des[mask_cmass]"
   ]
  },
  {
   "cell_type": "code",
   "execution_count": 307,
   "metadata": {
    "collapsed": false
   },
   "outputs": [],
   "source": [
    "def priorCut_test(data):\n",
    "    modelmag_g_des = data['MAG_DETMODEL_G']\n",
    "    modelmag_r_des = data['MAG_DETMODEL_R']\n",
    "    modelmag_i_des = data['MAG_DETMODEL_I']\n",
    "    cmodelmag_g_des = data['MAG_MODEL_G']\n",
    "    cmodelmag_r_des = data['MAG_MODEL_R']\n",
    "    cmodelmag_i_des = data['MAG_MODEL_I']\n",
    "    magauto_des = data['MAG_AUTO_I']\n",
    "\n",
    "    cut = (((cmodelmag_r_des > 17) & (cmodelmag_r_des <24)) &\n",
    "           ((cmodelmag_i_des > 17) & (cmodelmag_i_des <24)) &\n",
    "           ((cmodelmag_g_des > 17) & (cmodelmag_g_des <24)) &\n",
    "           ((modelmag_r_des - modelmag_i_des ) < 1.5 ) & # 10122 (95%)\n",
    "           ((modelmag_r_des - modelmag_i_des ) > 0. ) & # 10120 (95%)\n",
    "           ((modelmag_g_des - modelmag_r_des ) > 0. ) & # 10118 (95%)\n",
    "           ((modelmag_g_des - modelmag_r_des ) < 2.5 ) & # 10122 (95%)\n",
    "           (magauto_des < 21. ) #&  10124 (95%)\n",
    "        )\n",
    "    return cut"
   ]
  },
  {
   "cell_type": "code",
   "execution_count": 309,
   "metadata": {
    "collapsed": false
   },
   "outputs": [
    {
     "name": "stdout",
     "output_type": "stream",
     "text": [
      "Applying Healpix BOSS SGC footprint mask\n",
      "Change healpix mask to spatial cut later..... Don't forget!!! \n",
      "num of cmass in sgc region 246982\n",
      "num of cmass after des veto 11933\n"
     ]
    }
   ],
   "source": [
    "# calling cmass\n",
    "cmass = io.getSGCCMASSphotoObjcat()\n",
    "#cmass = Cuts.SpatialCuts(cmass, ra=320, ra2=360, dec=-2, dec2=2)\n",
    "print 'num of cmass in sgc region', cmass.size\n",
    "cmass = Cuts.keepGoodRegion(cmass)\n",
    "print 'num of cmass after des veto', cmass.size"
   ]
  },
  {
   "cell_type": "code",
   "execution_count": 310,
   "metadata": {
    "collapsed": false,
    "scrolled": true
   },
   "outputs": [
    {
     "name": "stdout",
     "output_type": "stream",
     "text": [
      "11552 11552 11552 11933\n"
     ]
    }
   ],
   "source": [
    "# caught by gold\n",
    "mg1, mg2, dg = esutil.htm.HTM(10).match(cmass['RA'], cmass['DEC'], merged_des_st82['RA'], \\\n",
    "                                     merged_des_st82['DEC'],2./3600, maxmatch=1)\n",
    "print mg1.size, mg2.size, dg.size, cmass.size"
   ]
  },
  {
   "cell_type": "code",
   "execution_count": 282,
   "metadata": {
    "collapsed": false,
    "scrolled": true
   },
   "outputs": [
    {
     "name": "stdout",
     "output_type": "stream",
     "text": [
      "11933 11933 11933\n"
     ]
    }
   ],
   "source": [
    "# caught by coadd\n",
    "mc1, mc2, dc = esutil.htm.HTM(10).match(cmass['RA'], cmass['DEC'], coadd_st82['RA'], \\\n",
    "                                     coadd_st82['DEC'],24./3600, maxmatch=1)\n",
    "print mc1.size, mc2.size, cmass.size"
   ]
  },
  {
   "cell_type": "code",
   "execution_count": 283,
   "metadata": {
    "collapsed": false
   },
   "outputs": [
    {
     "data": {
      "text/plain": [
       "(11924, 11731)"
      ]
     },
     "execution_count": 283,
     "metadata": {},
     "output_type": "execute_result"
    }
   ],
   "source": [
    "np.sum( coadd_st82[mc2]['MODEST_CLASS'] == 1), np.sum(merged_des_st82[mg2]['MODEST_CLASS'] == 1)"
   ]
  },
  {
   "cell_type": "code",
   "execution_count": 284,
   "metadata": {
    "collapsed": false
   },
   "outputs": [
    {
     "name": "stdout",
     "output_type": "stream",
     "text": [
      "11731\n"
     ]
    }
   ],
   "source": [
    "coadd_caught = coadd_st82[mc2]\n",
    "gold_caught = merged_des_st82[mg2]\n",
    "\n",
    "goldIncoadd = np.in1d(gold_caught['COADD_OBJECTS_ID'], coadd_st82['COADD_OBJECTS_ID'] )\n",
    "print np.sum(goldIncoadd)"
   ]
  },
  {
   "cell_type": "code",
   "execution_count": 285,
   "metadata": {
    "collapsed": false
   },
   "outputs": [
    {
     "name": "stdout",
     "output_type": "stream",
     "text": [
      "0 \n",
      "A : 11731\n"
     ]
    }
   ],
   "source": [
    "far_obj_g = (dg > 2./3600)\n",
    "gold_missed = merged_des_st82[mg2][far_obj_g]\n",
    "gold_caught = merged_des_st82[mg2][~far_obj_g]\n",
    "print gold_missed.size, '\\nA :', gold_caught.size"
   ]
  },
  {
   "cell_type": "code",
   "execution_count": 287,
   "metadata": {
    "collapsed": false
   },
   "outputs": [
    {
     "name": "stdout",
     "output_type": "stream",
     "text": [
      "C : 193 \n",
      "A + B : 11740\n",
      "A + B + C : 11933\n"
     ]
    }
   ],
   "source": [
    "far_obj = (dc > 2./3600)\n",
    "coadd_missed = coadd_st82[mc2][far_obj]\n",
    "coadd_missed_insdss = cmass[mc1][far_obj]\n",
    "coadd_caught = coadd_st82[mc2][~far_obj]\n",
    "print 'C :',coadd_missed.size, '\\nA + B :',coadd_caught.size\n",
    "print 'A + B + C :', coadd_caught.size + coadd_missed.size"
   ]
  },
  {
   "cell_type": "code",
   "execution_count": 292,
   "metadata": {
    "collapsed": false
   },
   "outputs": [
    {
     "name": "stdout",
     "output_type": "stream",
     "text": [
      "B-A : 9\n",
      "0\n"
     ]
    }
   ],
   "source": [
    "#check (B-A) is in gold catalogue\n",
    "# B-A\n",
    "coaddInGold = np.in1d(coadd_caught['COADD_OBJECTS_ID'], gold_caught['COADD_OBJECTS_ID'] )\n",
    "print 'B-A :', np.sum(~coaddInGold)\n",
    "B_AinGold = np.in1d( coadd_caught[~coaddInGold]['COADD_OBJECTS_ID'], merged_des_st82['COADD_OBJECTS_ID'] )\n",
    "print np.sum(B_AinGold)"
   ]
  },
  {
   "cell_type": "code",
   "execution_count": 301,
   "metadata": {
    "collapsed": false
   },
   "outputs": [
    {
     "data": {
      "text/plain": [
       "7"
      ]
     },
     "execution_count": 301,
     "metadata": {},
     "output_type": "execute_result"
    }
   ],
   "source": [
    "np.sum(dc > 15./3600)"
   ]
  },
  {
   "cell_type": "code",
   "execution_count": 293,
   "metadata": {
    "collapsed": false
   },
   "outputs": [
    {
     "name": "stdout",
     "output_type": "stream",
     "text": [
      "193\n"
     ]
    }
   ],
   "source": [
    "# check distance in C\n",
    "m_coadd_missed_in_goldside = np.in1d(merged_des_st82['COADD_OBJECTS_ID'], coadd_missed['COADD_OBJECTS_ID'] )\n",
    "coadd_missed_in_goldside = merged_des_st82[m_coadd_missed_in_goldside]\n",
    "print coadd_missed_in_goldside.size"
   ]
  },
  {
   "cell_type": "code",
   "execution_count": null,
   "metadata": {
    "collapsed": true
   },
   "outputs": [],
   "source": []
  },
  {
   "cell_type": "code",
   "execution_count": 294,
   "metadata": {
    "collapsed": false,
    "scrolled": false
   },
   "outputs": [
    {
     "name": "stdout",
     "output_type": "stream",
     "text": [
      "193\n",
      "353.68826 0.59227108\n",
      "320.20087 -1.2428136\n",
      "325.24708 -1.1656921\n",
      "344.83152 1.4608154\n",
      "345.54912 1.5089021\n",
      "342.65704 1.3425333\n",
      "325.33189 -0.87567971\n",
      "345.19094 1.4271193\n",
      "345.95994 1.3864989\n",
      "323.56231 -1.2390209\n",
      "321.12016 -0.85087472\n",
      "321.82611 -0.87817496\n",
      "322.67321 -0.972182\n",
      "322.8389 -0.97797887\n",
      "326.38883 -0.3304865\n",
      "342.25209 1.2713979\n",
      "352.74165 1.4034957\n",
      "343.26814 1.3244131\n",
      "347.47095 1.4844263\n",
      "342.52064 1.6859328\n",
      "327.47854 -1.0391701\n",
      "326.69023 -1.0347715\n",
      "342.09916 1.7107062\n",
      "340.46381 1.6822464\n",
      "1.4258071 2.0480331\n",
      "351.55342 1.371168\n",
      "359.38789 1.4057567\n",
      "324.09648 -1.3928608\n",
      "3.2086199 1.4364683\n",
      "318.13993 -1.6037639\n",
      "330.79498 1.6307761\n",
      "318.28141 -1.3632735\n",
      "318.68036 -1.3368401\n",
      "349.85991 -1.2596579\n",
      "343.90745 -1.2780762\n",
      "324.3197 -1.4839363\n",
      "341.80646 -1.5545446\n",
      "326.6496 -1.5400196\n",
      "326.47768 -1.3179244\n",
      "349.52712 -1.7466093\n",
      "353.2219 -1.6987105\n",
      "327.51838 -1.4180026\n",
      "2.4838006 -1.76987\n",
      "333.76117 -1.5539773\n",
      "336.9721 1.2686606\n",
      "333.02283 1.6005857\n",
      "337.61324 -1.2657685\n",
      "317.74449 0.0017899005\n",
      "336.26238 1.6419942\n",
      "320.26411 -0.24450453\n",
      "320.6934 -0.22831266\n",
      "320.92936 -0.3700515\n",
      "321.85681 -0.28091597\n",
      "318.92414 -0.68734561\n",
      "319.44571 -0.79313214\n",
      "320.2452 -0.65740471\n",
      "321.6121 -0.76899873\n",
      "336.94586 1.5024049\n",
      "319.04705 -0.31280243\n",
      "319.36645 -0.41638725\n",
      "324.06815 0.47861216\n",
      "321.00307 0.85421664\n",
      "318.92402 -0.98614802\n",
      "322.37055 0.042852747\n",
      "321.14935 0.93119601\n",
      "334.24509 1.3238287\n",
      "341.21069 -1.7689731\n",
      "321.10301 0.4909457\n",
      "319.2636 -0.18991274\n",
      "324.14526 0.87830715\n",
      "354.31573 -1.4219219\n",
      "319.74673 -0.52131078\n",
      "319.77701 -0.60851641\n",
      "321.12136 -0.4721906\n",
      "324.87103 -0.50842138\n",
      "352.07727 -1.4704066\n",
      "322.5191 -0.60519017\n",
      "322.53096 -0.057442848\n",
      "322.74913 -0.06792955\n",
      "322.98576 -0.14019312\n",
      "322.31186 -0.098604065\n",
      "318.26574 -0.0016505611\n",
      "318.77145 0.82173238\n",
      "323.13865 0.41454756\n",
      "324.73848 0.37222479\n",
      "319.80894 0.36252911\n",
      "320.27751 0.30103616\n",
      "322.03259 0.25917205\n",
      "320.14107 0.69193156\n",
      "320.30603 1.0891846\n",
      "319.28484 1.2319697\n",
      "318.46333 0.98191092\n",
      "322.95302 0.75603596\n",
      "323.22176 0.63813449\n",
      "333.0376 -1.0827598\n",
      "330.12741 -1.0788688\n",
      "330.34904 -0.65008742\n",
      "325.91419 1.0641109\n",
      "327.64986 -0.73403056\n",
      "334.44164 -0.75697051\n",
      "329.09997 -0.37376329\n",
      "334.30146 -0.76929444\n",
      "339.44921 -0.98498835\n",
      "334.6141 -0.3852614\n",
      "345.91166 -1.013865\n",
      "337.76393 -0.92318532\n",
      "330.85246 -1.0345935\n",
      "320.01029 1.3005848\n",
      "320.34984 1.3188243\n",
      "322.73198 1.3385414\n",
      "323.57058 1.3606706\n",
      "326.11319 1.521224\n",
      "326.09923 1.4506336\n",
      "318.96301 1.6687015\n",
      "325.89068 1.3506316\n",
      "329.1763 1.7773154\n",
      "357.48512 -0.11268507\n",
      "355.23073 -0.14803304\n",
      "354.55272 -0.11910772\n",
      "349.65066 -0.20425868\n",
      "0.36609521 -0.47169506\n",
      "3.4008406 1.131557\n",
      "350.7031 1.7867979\n",
      "338.80602 -1.1479331\n",
      "336.74986 -1.0966616\n",
      "344.36817 -1.2157291\n",
      "348.17016 -1.2116697\n",
      "357.61347 -1.2238587\n",
      "351.98017 -1.0564068\n",
      "345.70077 0.54822381\n",
      "345.69771 0.62730554\n",
      "345.35488 0.92119586\n",
      "358.97427 0.42898333\n",
      "356.10406 0.96644958\n",
      "353.03327 0.96223134\n",
      "342.56908 0.69945372\n",
      "354.87736 1.1788936\n",
      "343.94667 0.32890603\n",
      "338.42632 -0.3590976\n",
      "343.19809 0.35424271\n",
      "336.14081 -0.35510153\n",
      "336.22718 -0.38486136\n",
      "337.99438 -0.22631075\n",
      "332.06258 0.14735435\n",
      "332.95636 0.15417586\n",
      "333.8065 0.062724584\n",
      "326.46423 0.5144229\n",
      "338.32546 0.47947458\n",
      "344.5964 0.031846503\n",
      "327.86208 0.44578784\n",
      "337.52082 0.87043966\n",
      "339.32206 0.5089737\n",
      "341.80159 0.47116164\n",
      "342.72868 1.008813\n",
      "327.00349 -0.44953627\n",
      "330.08909 -0.629877\n",
      "343.3033 0.96721947\n",
      "329.51433 -0.59799892\n",
      "339.4965 -0.5570041\n",
      "331.82669 -0.078830141\n",
      "330.14644 -0.19158873\n",
      "330.87391 -0.2034415\n",
      "333.4238 0.21413537\n",
      "333.68894 0.67988374\n",
      "330.2039 0.3295989\n",
      "335.90207 0.27627514\n",
      "330.76554 0.38971178\n",
      "335.74606 0.7646545\n",
      "355.42931 -0.28186755\n",
      "354.28361 -0.21817973\n",
      "353.91235 -0.24309083\n",
      "350.80921 -0.27327219\n",
      "359.63023 -0.27196367\n",
      "349.84253 0.17470681\n",
      "3.0809234 0.11775612\n",
      "345.75576 -0.16779361\n",
      "328.81548 1.0387551\n",
      "343.88798 -0.16337565\n",
      "339.06559 1.2157863\n",
      "331.21545 0.84207624\n",
      "333.02486 1.1712904\n",
      "330.40458 1.147939\n",
      "326.48884 0.71604452\n",
      "336.6902 1.0167006\n",
      "327.1017 0.88079566\n",
      "329.10099 0.76830162\n",
      "345.39459 1.2302077\n",
      "331.82663 0.89488986\n",
      "332.0587 1.2439217\n",
      "338.87965 1.1703845\n",
      "339.98167 1.0456361\n",
      "341.10338 1.1055919\n",
      "318.31321 1.271241\n"
     ]
    }
   ],
   "source": [
    "m_coadd_missed_but_in_goldcat = np.in1d(coadd_missed['COADD_OBJECTS_ID'], merged_des_st82['COADD_OBJECTS_ID'] )\n",
    "coadd_missed_but_in_goldcat_sdss_side = coadd_missed_insdss[m_coadd_missed_but_in_goldcat]\n",
    "coadd_missed_but_in_goldcat_des_side = coadd_missed[m_coadd_missed_but_in_goldcat]\n",
    "\n",
    "DAT = np.column_stack((coadd_missed_but_in_goldcat_sdss_side['OBJID'], coadd_missed_but_in_goldcat_sdss_side['RA'], coadd_missed_but_in_goldcat_sdss_side['DEC'],\\\n",
    "                      coadd_missed_but_in_goldcat_des_side['COADD_OBJECTS_ID'],coadd_missed_but_in_goldcat_des_side['RA'],coadd_missed_but_in_goldcat_des_side['DEC'] ))\n",
    "\n",
    "\n",
    "#np.savetxt('data_txt/coadd_missed_but_in_goldcat.txt', DAT, \\\n",
    "#           header = '1 arcmin \\n \"object that exists in gold catalog but no counterpart\" \\\n",
    "#           \\nobjid, sdss_ra, sdss_dec, coadd_objID, coadd_ra, coadd_dec')\n",
    "\n",
    "print coadd_missed_but_in_goldcat_sdss_side.size\n",
    "for i in range(coadd_missed_but_in_goldcat_sdss_side.size):\n",
    "    print coadd_missed_but_in_goldcat_sdss_side['RA'][i], coadd_missed_but_in_goldcat_sdss_side['DEC'][i]"
   ]
  },
  {
   "cell_type": "code",
   "execution_count": 172,
   "metadata": {
    "collapsed": false
   },
   "outputs": [
    {
     "name": "stdout",
     "output_type": "stream",
     "text": [
      "0 0 0 30\n"
     ]
    }
   ],
   "source": [
    "# coadd_missed_but_in_goldcat_des_side 중에서 flag에 의해 가려지는 것\n",
    "\n",
    "m1, m2, d = esutil.htm.HTM(10).match(cmass['RA'], cmass['DEC'], coadd_missed_but_in_goldcat_des_side['RA'], \\\n",
    "                                     coadd_missed_but_in_goldcat_des_side['DEC'],1./3600, maxmatch=1)\n",
    "print m1.size, m2.size, d.size, coadd_missed_but_in_goldcat_des_side.size\n",
    "\n",
    "arcsec10_22 = ((d > 10./3600) & (d < 23./3600))\n",
    "\n",
    "for i in range(cmass[m1][arcsec10_22].size):\n",
    "    print cmass[m1][arcsec10_22]['RA'][i], cmass[m1][arcsec10_22]['DEC'][i]"
   ]
  },
  {
   "cell_type": "code",
   "execution_count": 125,
   "metadata": {
    "collapsed": false
   },
   "outputs": [
    {
     "name": "stdout",
     "output_type": "stream",
     "text": [
      "326.55224 -0.23847007\n",
      "342.65704 1.3425333\n",
      "0.87464213 2.3407031\n",
      "359.38789 1.4057567\n",
      "2.3911544 1.3462425\n",
      "1.645762 1.6806761\n",
      "349.52712 -1.7466093\n",
      "323.62916 -1.7229878\n",
      "320.92936 -0.3700515\n",
      "320.2452 -0.65740471\n",
      "319.34911 -0.01744776\n",
      "323.69011 -0.13095961\n",
      "320.27751 0.30103616\n",
      "322.88025 0.75796932\n",
      "333.0376 -1.0827598\n",
      "327.57714 -1.0225526\n",
      "329.51683 1.3539768\n",
      "325.89068 1.3506316\n",
      "357.48512 -0.11268507\n",
      "329.78864 1.6965945\n",
      "0.36609521 -0.47169506\n",
      "338.80602 -1.1479331\n",
      "336.74986 -1.0966616\n",
      "357.61347 -1.2238587\n",
      "358.96961 0.55091143\n",
      "358.97427 0.42898333\n",
      "345.99072 0.81742478\n",
      "336.22718 -0.38486136\n",
      "326.46423 0.5144229\n",
      "336.16176 0.43071409\n",
      "336.81204 -0.57786087\n",
      "339.4965 -0.5570041\n",
      "333.4238 0.21413537\n",
      "358.76108 -0.32061885\n",
      "355.42931 -0.28186755\n",
      "359.63023 -0.27196367\n",
      "3.0809234 0.11775612\n",
      "343.88798 -0.16337565\n",
      "353.81941 0.30370134\n",
      "354.42032 0.3049743\n",
      "345.02496 1.2222779\n",
      "326.89981 0.77278406\n",
      "342.84406 1.2453699\n"
     ]
    }
   ],
   "source": [
    "DAT = np.column_stack((coadd_missed_insdss['OBJID'], coadd_missed_insdss['RA'], coadd_missed_insdss['DEC'],\\\n",
    "                      coadd_missed['COADD_OBJECTS_ID'],coadd_missed['RA'],coadd_missed['DEC'] ))\n",
    "#np.savetxt('data_txt/coadd_missed.txt', DAT, header = '1arcmin \\nobjid, sdss_ra, sdss_dec, coadd_objID, coadd_ra, coadd_dec')\n",
    "\n",
    "\n",
    "for i in range(coadd_missed_insdss.size):\n",
    "    print coadd_missed_insdss['RA'][i], coadd_missed_insdss['DEC'][i]"
   ]
  },
  {
   "cell_type": "code",
   "execution_count": 476,
   "metadata": {
    "collapsed": false,
    "scrolled": true
   },
   "outputs": [
    {
     "data": {
      "text/plain": [
       "102"
      ]
     },
     "execution_count": 476,
     "metadata": {},
     "output_type": "execute_result"
    }
   ],
   "source": [
    "cmass_counterpart_mask = np.zeros(cmass.size, dtype=bool)\n",
    "cmass_counterpart_mask[m1] = 1\n",
    "cmass_no_counterpart = cmass[~cmass_counterpart_mask]\n",
    "cmass_no_counterpart.size"
   ]
  },
  {
   "cell_type": "code",
   "execution_count": 364,
   "metadata": {
    "collapsed": false,
    "scrolled": true
   },
   "outputs": [
    {
     "name": "stdout",
     "output_type": "stream",
     "text": [
      "353.68826 0.59227108\n",
      "320.20087 -1.2428136\n",
      "325.24708 -1.1656921\n",
      "344.83152 1.4608154\n",
      "342.43488 1.2612157\n",
      "325.33189 -0.87567971\n",
      "345.95994 1.3864989\n",
      "321.12016 -0.85087472\n",
      "321.82611 -0.87817496\n",
      "322.67321 -0.972182\n",
      "322.8389 -0.97797887\n",
      "326.38883 -0.3304865\n",
      "342.25209 1.2713979\n",
      "352.74165 1.4034957\n",
      "343.26814 1.3244131\n",
      "347.47095 1.4844263\n",
      "342.52064 1.6859328\n",
      "327.47854 -1.0391701\n",
      "326.69023 -1.0347715\n",
      "340.46381 1.6822464\n",
      "1.4258071 2.0480331\n",
      "3.8241213 1.9226387\n",
      "0.41517963 1.4348971\n",
      "351.55342 1.371168\n",
      "350.70335 1.7881966\n",
      "324.09648 -1.3928608\n",
      "3.2086199 1.4364683\n",
      "330.79498 1.6307761\n",
      "318.28141 -1.3632735\n",
      "318.68036 -1.3368401\n",
      "349.85991 -1.2596579\n",
      "343.90745 -1.2780762\n",
      "324.3197 -1.4839363\n",
      "341.80646 -1.5545446\n",
      "326.47768 -1.3179244\n",
      "349.52712 -1.7466093\n",
      "327.51838 -1.4180026\n",
      "2.4838006 -1.76987\n",
      "333.76117 -1.5539773\n",
      "333.02283 1.6005857\n",
      "337.61324 -1.2657685\n",
      "317.74449 0.0017899005\n",
      "336.26238 1.6419942\n",
      "320.26411 -0.24450453\n",
      "320.6934 -0.22831266\n",
      "320.92936 -0.3700515\n",
      "321.85681 -0.28091597\n",
      "318.92414 -0.68734561\n",
      "319.44571 -0.79313214\n",
      "320.2452 -0.65740471\n",
      "321.6121 -0.76899873\n",
      "336.94586 1.5024049\n",
      "319.04705 -0.31280243\n",
      "319.36645 -0.41638725\n",
      "321.00307 0.85421664\n",
      "318.92402 -0.98614802\n",
      "321.14935 0.93119601\n",
      "334.24509 1.3238287\n",
      "341.21069 -1.7689731\n",
      "321.10301 0.4909457\n",
      "319.2636 -0.18991274\n",
      "324.14526 0.87830715\n",
      "354.31573 -1.4219219\n",
      "319.74673 -0.52131078\n",
      "319.77701 -0.60851641\n",
      "324.87103 -0.50842138\n",
      "352.07727 -1.4704066\n",
      "322.5191 -0.60519017\n",
      "322.53096 -0.057442848\n",
      "322.98576 -0.14019312\n",
      "322.31186 -0.098604065\n",
      "318.26574 -0.0016505611\n",
      "323.13865 0.41454756\n",
      "319.80894 0.36252911\n",
      "320.27751 0.30103616\n",
      "320.30603 1.0891846\n",
      "319.28484 1.2319697\n",
      "318.46333 0.98191092\n",
      "322.95302 0.75603596\n",
      "323.22176 0.63813449\n",
      "330.12741 -1.0788688\n",
      "325.91419 1.0641109\n",
      "327.64986 -0.73403056\n",
      "334.44164 -0.75697051\n",
      "329.09997 -0.37376329\n",
      "334.30146 -0.76929444\n",
      "334.6141 -0.3852614\n",
      "345.91166 -1.013865\n",
      "337.76393 -0.92318532\n",
      "330.85246 -1.0345935\n",
      "320.34984 1.3188243\n",
      "322.73198 1.3385414\n",
      "326.09923 1.4506336\n",
      "318.96301 1.6687015\n",
      "325.89068 1.3506316\n",
      "357.48512 -0.11268507\n",
      "355.23073 -0.14803304\n",
      "354.55272 -0.11910772\n",
      "349.65066 -0.20425868\n",
      "0.36609521 -0.47169506\n",
      "350.7031 1.7867979\n",
      "336.74986 -1.0966616\n",
      "344.36817 -1.2157291\n",
      "348.17016 -1.2116697\n",
      "357.61347 -1.2238587\n",
      "351.98017 -1.0564068\n",
      "345.70077 0.54822381\n",
      "345.69771 0.62730554\n",
      "345.35488 0.92119586\n",
      "2.6572085 0.53943773\n",
      "3.4069981 0.53802683\n",
      "358.97427 0.42898333\n",
      "356.10406 0.96644958\n",
      "353.03327 0.96223134\n",
      "342.56908 0.69945372\n",
      "354.87736 1.1788936\n",
      "338.42632 -0.3590976\n",
      "343.19809 0.35424271\n",
      "336.14081 -0.35510153\n",
      "336.22718 -0.38486136\n",
      "337.99438 -0.22631075\n",
      "332.06258 0.14735435\n",
      "332.95636 0.15417586\n",
      "333.8065 0.062724584\n",
      "326.46423 0.5144229\n",
      "338.32546 0.47947458\n",
      "344.5964 0.031846503\n",
      "327.86208 0.44578784\n",
      "337.52082 0.87043966\n",
      "339.32206 0.5089737\n",
      "341.80159 0.47116164\n",
      "327.00349 -0.44953627\n",
      "330.08909 -0.629877\n",
      "343.3033 0.96721947\n",
      "329.51433 -0.59799892\n",
      "339.4965 -0.5570041\n",
      "330.14644 -0.19158873\n",
      "330.87391 -0.2034415\n",
      "333.4238 0.21413537\n",
      "333.68894 0.67988374\n",
      "330.2039 0.3295989\n",
      "335.90207 0.27627514\n",
      "328.99355 0.6336284\n",
      "335.74606 0.7646545\n",
      "355.42931 -0.28186755\n",
      "354.28361 -0.21817973\n",
      "353.91235 -0.24309083\n",
      "359.63023 -0.27196367\n",
      "349.84253 0.17470681\n",
      "2.0642783 0.14962398\n",
      "354.55781 -0.56652542\n",
      "328.81548 1.0387551\n",
      "343.88798 -0.16337565\n",
      "339.06559 1.2157863\n",
      "331.21545 0.84207624\n",
      "333.02486 1.1712904\n",
      "330.40458 1.147939\n",
      "326.48884 0.71604452\n",
      "327.1017 0.88079566\n",
      "329.10099 0.76830162\n",
      "345.39459 1.2302077\n",
      "331.82663 0.89488986\n",
      "332.0587 1.2439217\n",
      "339.98167 1.0456361\n",
      "341.10338 1.1055919\n"
     ]
    }
   ],
   "source": [
    "DAT = np.column_stack((cmass_no_counterpart['RA'], cmass_no_counterpart['DEC'] ))\n",
    "#np.savetxt('data_txt/cmass_no_counterpart.txt', DAT, header='ra  dec   num of obj = 168')\n",
    "\n",
    "for i in range(cmass_no_counterpart.size):\n",
    "    print cmass_no_counterpart['RA'][i], cmass_no_counterpart['DEC'][i]"
   ]
  },
  {
   "cell_type": "code",
   "execution_count": 358,
   "metadata": {
    "collapsed": false
   },
   "outputs": [
    {
     "name": "stdout",
     "output_type": "stream",
     "text": [
      "num of cmass in des side 11768 (99%)\n"
     ]
    }
   ],
   "source": [
    "cmass_mask = np.zeros(merged_des_st82.size, dtype=bool)\n",
    "cmass_mask[m2] = 1\n",
    "clean_cmass_data_des, nocmass = merged_des_st82[cmass_mask], merged_des_st82[~cmass_mask]\n",
    "print 'num of cmass in des side', clean_cmass_data_des.size, '({:0.0f}%)'.format(clean_cmass_data_des.size*1./cmass.size * 100)"
   ]
  },
  {
   "cell_type": "code",
   "execution_count": 357,
   "metadata": {
    "collapsed": false
   },
   "outputs": [
    {
     "name": "stdout",
     "output_type": "stream",
     "text": [
      "cmass flags and color cut test\n",
      "-------------------------------\n",
      "   =0  98.521 %\n",
      "   <2  98.530 %\n",
      "   <3  98.598 %\n",
      "   <4  98.606 %\n",
      "  <=4  98.666 %\n",
      " <=10  99.958 %\n",
      "no fl  100.000 %\n",
      "color cut 99.473 % 62\n",
      "colorcut+(=0) 98.300 %\n",
      "\n",
      "des flags and color cut test\n",
      "-------------------------------\n",
      "des fl 91.517 %\n",
      "des fl+color 9.579 %\n"
     ]
    }
   ],
   "source": [
    "print 'cmass flags and color cut test\\n-------------------------------'\n",
    "print '   =0  {:>0.3f} %'.format(np.sum(clean_cmass_data_des['FLAGS_GOLD'] == 0 ) * 1./clean_cmass_data_des.size * 100)\n",
    "print '   <2  {:>0.3f} %'.format(np.sum(clean_cmass_data_des['FLAGS_GOLD'] < 2 ) * 1./clean_cmass_data_des.size * 100)\n",
    "print '   <3  {:>0.3f} %'.format(np.sum(clean_cmass_data_des['FLAGS_GOLD'] < 3 ) * 1./clean_cmass_data_des.size * 100)\n",
    "print '   <4  {:>0.3f} %'.format(np.sum(clean_cmass_data_des['FLAGS_GOLD'] < 4 ) * 1./clean_cmass_data_des.size * 100)\n",
    "print '  <=4  {:>0.3f} %'.format(np.sum(clean_cmass_data_des['FLAGS_GOLD'] <=4 ) * 1./clean_cmass_data_des.size * 100)\n",
    "print ' <=10  {:>0.3f} %'.format(np.sum(clean_cmass_data_des['FLAGS_GOLD'] <=10 ) * 1./clean_cmass_data_des.size * 100)\n",
    "print 'no fl  {:>0.3f} %'.format(np.sum(clean_cmass_data_des['FLAGS_GOLD'] <=100 ) * 1./clean_cmass_data_des.size * 100)\n",
    "print 'color cut {:>0.3f} %'.format(np.sum(priorCut_test(clean_cmass_data_des))* 1./clean_cmass_data_des.size * 100), \\\n",
    "np.sum(~(priorCut_test(clean_cmass_data_des)))\n",
    "print 'colorcut+(=0) {:>0.3f} %'.format( np.sum((clean_cmass_data_des['FLAGS_GOLD'] == 0 )&(priorCut_test(clean_cmass_data_des))) * 1./clean_cmass_data_des.size * 100)\n",
    "print '\\ndes flags and color cut test\\n-------------------------------'\n",
    "print 'des fl {:>0.3f} %'.format( np.sum((merged_des_st82['FLAGS_GOLD'] == 0 )) * 1./merged_des_st82.size * 100)\n",
    "print 'des fl+color {:>0.3f} %'.format( np.sum((merged_des_st82['FLAGS_GOLD'] == 0 )&(priorCut_test(merged_des_st82))) * 1./merged_des_st82.size * 100)"
   ]
  },
  {
   "cell_type": "code",
   "execution_count": 361,
   "metadata": {
    "collapsed": false
   },
   "outputs": [],
   "source": [
    "mask_cmass = (clean_cmass_data_des['FLAGS_GOLD'] == 0 )&(priorCut_test(clean_cmass_data_des))\n",
    "mask_all = (merged_des_st82['FLAGS_GOLD'] == 0 )&(priorCut_test(merged_des_st82))\n",
    "merged_des_st82 = merged_des_st82[mask_all]\n",
    "clean_cmass_data_des = clean_cmass_data_des[mask_cmass]"
   ]
  },
  {
   "cell_type": "code",
   "execution_count": 362,
   "metadata": {
    "collapsed": false
   },
   "outputs": [
    {
     "name": "stdout",
     "output_type": "stream",
     "text": [
      "writing output plot to: figure/cmass_diagnostic_histograms_1d.png\n",
      "writing output plot to: figure/gold_diagnostic_histograms_1d.png\n"
     ]
    },
    {
     "data": {
      "image/png": "[encoded data removed]",
      "text/plain": [
       "<matplotlib.figure.Figure at 0x182ca1d0>"
      ]
     },
     "metadata": {},
     "output_type": "display_data"
    },
    {
     "data": {
      "image/png": "[encoded data removed]",
      "text/plain": [
       "<matplotlib.figure.Figure at 0x164b8c10>"
      ]
     },
     "metadata": {},
     "output_type": "display_data"
    }
   ],
   "source": [
    "labels = ['MAG_R', 'MAG_I', 'g-r', 'r-i', 'i-z']\n",
    "ranges =  [[17,22.5], [17,22.5], [0,2.5], [0,1.5], [0.0,.8]]\n",
    "\n",
    "X_train, Xcov_train = mixing_color(clean_cmass_data_des, suffix = '')\n",
    "X_test,_ = mixing_color(clean_cmass_data_des, suffix = '')\n",
    "doVisualization_1d_NperA( X_train, X_test, labels = labels, ranges = ranges,\\\n",
    "                         name =['train','test' ], area=[1,1], nbins=100, prefix='cmass_')\n",
    "\n",
    "X_train, Xcov_train = mixing_color(merged_des_st82[mask_all], suffix = '')\n",
    "X_test,_ = mixing_color(merged_des_st82[mask_all], suffix = '')\n",
    "doVisualization_1d_NperA( X_train, X_test, labels = labels, ranges = ranges,\\\n",
    "                         name =['train','test' ], area=[1,1], nbins=100, prefix='gold_')"
   ]
  },
  {
   "cell_type": "code",
   "execution_count": null,
   "metadata": {
    "collapsed": false
   },
   "outputs": [],
   "source": [
    "# Divide sample into train and test\n",
    "#(trainInd, testInd), _ = split_samples(merged_des_st82_s, merged_des_st82_s, [0.9,0.1], random_state=0)\n",
    "#des_train = merged_des_st82_s[trainInd]\n",
    "#des_test = merged_des_st82_s[testInd]\n",
    "\n",
    "no_train = 0.2\n",
    "#train_ind = np.random.choice( merged_des_st82.size, size = int(merged_des_st82.size * no_train))\n",
    "#np.savetxt('data_txt/random_index30.txt', np.array(train_ind))\n",
    "train_ind = np.array([ int(i) for i in np.loadtxt('data_txt/random_index30.txt')])\n",
    "train_mask = np.zeros(merged_des_st82.size, dtype = bool)\n",
    "train_mask[train_ind] = 1\n",
    "des_train = merged_des_st82[train_mask]\n",
    "des_test = merged_des_st82[~train_mask]\n",
    "\n",
    "m1, m2 = esutil.numpy_util.match(clean_cmass_data_des['COADD_OBJECTS_ID'], des_train['COADD_OBJECTS_ID'])\n",
    "cmass_mask = np.zeros(des_train.size, dtype=bool)\n",
    "cmass_mask[m2] = 1\n",
    "cmass_train, nocmass_train = des_train[cmass_mask], des_train[~cmass_mask]\n",
    "\n",
    "m1, m2 = esutil.numpy_util.match(clean_cmass_data_des['COADD_OBJECTS_ID'], des_test['COADD_OBJECTS_ID'])\n",
    "cmass_mask = np.zeros(des_test.size, dtype=bool)\n",
    "cmass_mask[m2] = 1\n",
    "cmass_test, _ = des_test[cmass_mask], des_test[~cmass_mask]\n",
    "\n",
    "print cmass_train.size, cmass_test.size, des_train.size, des_test.size\n",
    "\n",
    "print \\\n",
    "clean_cmass_data_des.size * 1./merged_des_st82.size, \\\n",
    "cmass_train.size*1./des_train.size, \\\n",
    "cmass_test.size*1./des_test.size # test is always small..why?"
   ]
  },
  {
   "cell_type": "code",
   "execution_count": 135,
   "metadata": {
    "collapsed": false
   },
   "outputs": [
    {
     "name": "stdout",
     "output_type": "stream",
     "text": [
      "@pickle_results: using precomputed results from 'pickle/gold_st82_30_cut21_XD_no.pkl'\n",
      "@pickle_results: using precomputed results from 'pickle/gold_st82_30_cut21_XD_cmass.pkl'\n"
     ]
    }
   ],
   "source": [
    "# Fitting\n",
    "from xd import _FindOptimalN\n",
    "n_cmass, _, _ = _FindOptimalN( np.arange(2, 10, 2), clean_cmass_data_des, pickleFileName = 'pickle/optimal_n_cmass30.pkl', suffix = '')\n",
    "n_no,_,_ = _FindOptimalN( np.arange(20,30, 2), nocmass_train, pickleFileName = 'pickle/optimal_n_no30.pkl', suffix = '')\n",
    "\n",
    "pickleFileName = 'pickle/gold_st82_30_cut21_XD_no.pkl'                  \n",
    "clf_no = XD_fitting( nocmass_train, pickleFileName = pickleFileName, \\\n",
    "                  init_params=None, suffix = '', n_cl = n_no )\n",
    "#pickleFileName = 'pickle/gold_st82_28_cut21_XD_cmass_tot.pkl'\n",
    "#clf_cmass = XD_fitting( clean_cmass_data_des, pickleFileName = pickleFileName,\\\n",
    "#                       suffix = '', n_cl = n_cmass )\n",
    "pickleFileName = 'pickle/gold_st82_30_cut21_XD_cmass.pkl'\n",
    "clf_cmass = XD_fitting( cmass_train, pickleFileName = pickleFileName,\\\n",
    "                       suffix = '', n_cl = n_cmass )"
   ]
  },
  {
   "cell_type": "code",
   "execution_count": null,
   "metadata": {
    "collapsed": true
   },
   "outputs": [],
   "source": [
    "cmass_fraction = cmass_train.size*1./des_train.size "
   ]
  },
  {
   "cell_type": "code",
   "execution_count": null,
   "metadata": {
    "collapsed": true
   },
   "outputs": [],
   "source": [
    "cmass_fraction"
   ]
  },
  {
   "cell_type": "code",
   "execution_count": 136,
   "metadata": {
    "collapsed": false,
    "scrolled": true
   },
   "outputs": [
    {
     "name": "stdout",
     "output_type": "stream",
     "text": [
      "cmass_fraction 0.0162980028331\n",
      "calculate loglikelihood gaussian with multiprocessing module\n",
      "multiprocessing 100 % \n"
     ]
    }
   ],
   "source": [
    "cmass_fraction = cmass_train.size*1./des_train.size \n",
    "#cmass_fraction = clean_cmass_data_des.size *1./merged_des_st82_s.size\n",
    "print 'cmass_fraction', cmass_fraction\n",
    "from xd import assignCMASSProb\n",
    "merged_des_st82_s = assignCMASSProb( merged_des_st82, clf_cmass, clf_no, cmass_fraction = cmass_fraction )\n",
    "des_train = merged_des_st82_s[train_mask]\n",
    "des_test = merged_des_st82_s[~train_mask]"
   ]
  },
  {
   "cell_type": "code",
   "execution_count": null,
   "metadata": {
    "collapsed": true
   },
   "outputs": [],
   "source": [
    "dmass_train, _ = resampleWithPth( des_train, pstart = 0, pmax = 1.0 )\n",
    "print 100. * dmass_train.size/ cmass_train.size, '%'\n",
    "dmass_test, _ = resampleWithPth( des_test, pstart = 0, pmax = 1.0 )\n",
    "print 100. * dmass_test.size/ cmass_test.size, '%'\n",
    "dmass, _ = resampleWithPth( merged_des_st82_s, pstart = 0, pmax = 1.0 )\n",
    "print 100. * dmass.size/ clean_cmass_data_des.size, '%'"
   ]
  },
  {
   "cell_type": "code",
   "execution_count": 367,
   "metadata": {
    "collapsed": false
   },
   "outputs": [],
   "source": [
    "esutil.io.write('result_cat/gold_st82_30_cut21_dmass_st82.fits', dmass, clobber = True)"
   ]
  },
  {
   "cell_type": "code",
   "execution_count": 138,
   "metadata": {
    "collapsed": false
   },
   "outputs": [
    {
     "name": "stdout",
     "output_type": "stream",
     "text": [
      "save fig: com_pur_results/gold_st82_24_train_probability_calibration.png\n",
      "save fig: com_pur_results/gold_st82_24_test_probability_calibration.png\n",
      "save fig: com_pur_results/gold_st82_24_probability_calibration.png\n"
     ]
    },
    {
     "data": {
      "image/png": "[encoded data removed]",
      "text/plain": [
       "<matplotlib.figure.Figure at 0xac79a10>"
      ]
     },
     "metadata": {},
     "output_type": "display_data"
    },
    {
     "data": {
      "image/png": "[encoded data removed]",
      "text/plain": [
       "<matplotlib.figure.Figure at 0xac5b650>"
      ]
     },
     "metadata": {},
     "output_type": "display_data"
    },
    {
     "data": {
      "image/png": "[encoded data removed]",
      "text/plain": [
       "<matplotlib.figure.Figure at 0x16ce0090>"
      ]
     },
     "metadata": {},
     "output_type": "display_data"
    }
   ],
   "source": [
    "probability_calibration( des = des_train, cmass_des = cmass_train, \\\n",
    "                        matchID= 'COADD_OBJECTS_ID', prefix = 'gold_st82_24_train' )\n",
    "probability_calibration( des = des_test, cmass_des = cmass_test, \\\n",
    "                        matchID= 'COADD_OBJECTS_ID', prefix = 'gold_st82_24_test' )\n",
    "probability_calibration( des = merged_des_st82_s, cmass_des = clean_cmass_data_des, \\\n",
    "                        matchID= 'COADD_OBJECTS_ID', prefix = 'gold_st82_24' )"
   ]
  },
  {
   "cell_type": "code",
   "execution_count": 35,
   "metadata": {
    "collapsed": false
   },
   "outputs": [
    {
     "name": "stdout",
     "output_type": "stream",
     "text": [
      "writing output plot to: figure/gold_st82_27_cut21_st82_diagnostic_histograms_1d.png\n"
     ]
    },
    {
     "data": {
      "image/png": "[encoded data removed]",
      "text/plain": [
       "<matplotlib.figure.Figure at 0xcef8ad0>"
      ]
     },
     "metadata": {},
     "output_type": "display_data"
    }
   ],
   "source": [
    "# Plotting all\n",
    "labels = ['MAG_R', 'MAG_I', 'g-r', 'r-i', 'i-z']\n",
    "ranges =  [[17,22.5], [17,22.5], [-0.5,2], [-.5,1.5], [0.0,.8]]\n",
    "\n",
    "X_train, Xcov_train = mixing_color(dmass_train, suffix ='')\n",
    "X_test,_ = mixing_color(dmass_test, suffix = '')\n",
    "doVisualization_1d( X_train, X_test, labels = labels, ranges = ranges,\\\n",
    "                         name =['train','test' ], nbins=100, prefix='gold_st82_27_cut21_st82_')"
   ]
  },
  {
   "cell_type": "code",
   "execution_count": 139,
   "metadata": {
    "collapsed": true
   },
   "outputs": [],
   "source": [
    "def getavgbias( cat, pstart=0.0 ):\n",
    "    from systematics_module.contCorrection import logL_from_mag,logL_to_galaxyBias\n",
    "    mag = cat['MAG_MODEL_I']\n",
    "    z = cat['DESDM_ZP']\n",
    "    logL = logL_from_mag( mag = mag, z = z )\n",
    "    avg_b = logL_to_galaxyBias(logL = logL)\n",
    "    print 'avg bias=',avg_b, ' sample size=', mag.size\n",
    "    return avg_b"
   ]
  },
  {
   "cell_type": "code",
   "execution_count": 140,
   "metadata": {
    "collapsed": false
   },
   "outputs": [
    {
     "name": "stdout",
     "output_type": "stream",
     "text": [
      "avg bias= 1.18324008822  sample size= 11546\n",
      "avg bias= 1.2023724201  sample size= 2117\n",
      "avg bias= 1.19570550493  sample size= 9368\n",
      "avg bias= 1.19071755457  sample size= 11496\n",
      "bias ratio b_dmass/b_cmass, train 101.616944191 %\n",
      "bias ratio b_dmass/b_cmass, test  101.053498511 %\n",
      "bias ratio b_dmass/b_cmass, all   100.631948361 %\n"
     ]
    }
   ],
   "source": [
    "avg_b_cmass = getavgbias( clean_cmass_data_des )\n",
    "avg_b_dmass_train = getavgbias( dmass_train )\n",
    "avg_b_dmass_test = getavgbias( dmass_test )\n",
    "avg_b_dmass = getavgbias( dmass )\n",
    "\n",
    "print 'bias ratio b_dmass/b_cmass, train', avg_b_dmass_train * 100/ avg_b_cmass, '%'\n",
    "print 'bias ratio b_dmass/b_cmass, test ', avg_b_dmass_test * 100/ avg_b_cmass, '%'\n",
    "print 'bias ratio b_dmass/b_cmass, all  ', avg_b_dmass * 100/ avg_b_cmass, '%'"
   ]
  },
  {
   "cell_type": "markdown",
   "metadata": {},
   "source": [
    "## Calling SPT"
   ]
  },
  {
   "cell_type": "code",
   "execution_count": 39,
   "metadata": {
    "collapsed": false
   },
   "outputs": [],
   "source": [
    "des_spt = io.SearchAndCallFits(path = path, keyword = 'Y1A1_GOLD_00')\n",
    "des_spt = des_spt[des_spt['MODEST_CLASS'] == 1]\n",
    "des_spt = Cuts.keepGoodRegion(des_spt)\n",
    "des_spt = des_spt[des_spt['DEC'] < -3]\n",
    "mask_y1a1 = (des_spt['FLAGS_GOLD'] == 0 )&(priorCut_test(des_spt))\n",
    "des_spt = des_spt[mask_y1a1]"
   ]
  },
  {
   "cell_type": "code",
   "execution_count": 144,
   "metadata": {
    "collapsed": false
   },
   "outputs": [
    {
     "name": "stdout",
     "output_type": "stream",
     "text": [
      "calculate loglikelihood gaussian with multiprocessing module\n",
      "multiprocessing 100 % \n",
      "calculate loglikelihood gaussian with multiprocessing module\n",
      "multiprocessing 100 % \n",
      "calculate loglikelihood gaussian with multiprocessing module\n",
      "multiprocessing 100 % \n",
      "calculate loglikelihood gaussian with multiprocessing module\n",
      "multiprocessing 100 % \n",
      "calculate loglikelihood gaussian with multiprocessing module\n",
      "multiprocessing 100 % \n",
      "calculate loglikelihood gaussian with multiprocessing module\n",
      "multiprocessing 100 % \n",
      "calculate loglikelihood gaussian with multiprocessing module\n",
      "multiprocessing 100 % \n",
      "calculate loglikelihood gaussian with multiprocessing module\n",
      "multiprocessing 100 % \n",
      "calculate loglikelihood gaussian with multiprocessing module\n",
      "multiprocessing 100 % \n",
      "calculate loglikelihood gaussian with multiprocessing module\n",
      "multiprocessing 100 % \n",
      "calculate loglikelihood gaussian with multiprocessing module\n",
      "multiprocessing 100 % \n",
      "calculate loglikelihood gaussian with multiprocessing module\n",
      "multiprocessing 100 % \n",
      "calculate loglikelihood gaussian with multiprocessing module\n",
      "multiprocessing 100 % \n",
      "calculate loglikelihood gaussian with multiprocessing module\n",
      "multiprocessing 100 % \n"
     ]
    }
   ],
   "source": [
    "# dmass from spt\n",
    "rabin = np.linspace(des_spt['RA'].min(), des_spt['RA'].max(), 15)\n",
    "ind_map = np.digitize(des_spt['RA'], bins = rabin)\n",
    "\n",
    "des_spt_list = []\n",
    "for i in range(1, rabin.size):\n",
    "    ts = assignCMASSProb(des_spt[ind_map == i] , clf_cmass, clf_no, cmass_fraction = cmass_fraction )\n",
    "    des_spt_list.append(ts)\n",
    "    ts = None\n",
    "des_spt = np.hstack(des_spt_list)"
   ]
  },
  {
   "cell_type": "code",
   "execution_count": 439,
   "metadata": {
    "collapsed": true
   },
   "outputs": [],
   "source": [
    "dmass_spt, _ = resampleWithPth( des_spt, pstart = 0, pmax = 1.0 )"
   ]
  },
  {
   "cell_type": "code",
   "execution_count": 438,
   "metadata": {
    "collapsed": true
   },
   "outputs": [],
   "source": [
    "#fitsio.write('result_cat/des_spt_30.fits', des_spt)\n",
    "fitsio.write('result_cat/dmass_spt_30.fits', dmass_spt)"
   ]
  },
  {
   "cell_type": "code",
   "execution_count": 3,
   "metadata": {
    "collapsed": false
   },
   "outputs": [
    {
     "ename": "NameError",
     "evalue": "name 'clean_cmass_data_des' is not defined",
     "output_type": "error",
     "traceback": [
      "\u001b[0;31m---------------------------------------------------------------------------\u001b[0m",
      "\u001b[0;31mNameError\u001b[0m                                 Traceback (most recent call last)",
      "\u001b[0;32m<ipython-input-3-6310778d87a6>\u001b[0m in \u001b[0;36m<module>\u001b[0;34m()\u001b[0m\n\u001b[1;32m      3\u001b[0m \u001b[0mranges\u001b[0m \u001b[0;34m=\u001b[0m  \u001b[0;34m[\u001b[0m\u001b[0;34m[\u001b[0m\u001b[0;36m17\u001b[0m\u001b[0;34m,\u001b[0m\u001b[0;36m22.5\u001b[0m\u001b[0;34m]\u001b[0m\u001b[0;34m,\u001b[0m \u001b[0;34m[\u001b[0m\u001b[0;36m17\u001b[0m\u001b[0;34m,\u001b[0m\u001b[0;36m22.5\u001b[0m\u001b[0;34m]\u001b[0m\u001b[0;34m,\u001b[0m \u001b[0;34m[\u001b[0m\u001b[0;34m-\u001b[0m\u001b[0;36m0.5\u001b[0m\u001b[0;34m,\u001b[0m\u001b[0;36m2\u001b[0m\u001b[0;34m]\u001b[0m\u001b[0;34m,\u001b[0m \u001b[0;34m[\u001b[0m\u001b[0;34m-\u001b[0m\u001b[0;36m.5\u001b[0m\u001b[0;34m,\u001b[0m\u001b[0;36m1.5\u001b[0m\u001b[0;34m]\u001b[0m\u001b[0;34m,\u001b[0m \u001b[0;34m[\u001b[0m\u001b[0;36m0.0\u001b[0m\u001b[0;34m,\u001b[0m\u001b[0;36m.8\u001b[0m\u001b[0;34m]\u001b[0m\u001b[0;34m]\u001b[0m\u001b[0;34m\u001b[0m\u001b[0m\n\u001b[1;32m      4\u001b[0m \u001b[0;34m\u001b[0m\u001b[0m\n\u001b[0;32m----> 5\u001b[0;31m \u001b[0mX_train\u001b[0m\u001b[0;34m,\u001b[0m \u001b[0mXcov_train\u001b[0m \u001b[0;34m=\u001b[0m \u001b[0mmixing_color\u001b[0m\u001b[0;34m(\u001b[0m\u001b[0mclean_cmass_data_des\u001b[0m\u001b[0;34m,\u001b[0m \u001b[0msuffix\u001b[0m \u001b[0;34m=\u001b[0m\u001b[0;34m''\u001b[0m\u001b[0;34m)\u001b[0m\u001b[0;34m\u001b[0m\u001b[0m\n\u001b[0m\u001b[1;32m      6\u001b[0m \u001b[0mX_test\u001b[0m\u001b[0;34m,\u001b[0m\u001b[0m_\u001b[0m \u001b[0;34m=\u001b[0m \u001b[0mmixing_color\u001b[0m\u001b[0;34m(\u001b[0m\u001b[0mdmass_spt\u001b[0m\u001b[0;34m,\u001b[0m \u001b[0msuffix\u001b[0m \u001b[0;34m=\u001b[0m \u001b[0;34m''\u001b[0m\u001b[0;34m)\u001b[0m\u001b[0;34m\u001b[0m\u001b[0m\n\u001b[1;32m      7\u001b[0m \u001b[0mdoVisualization_1d_NperA\u001b[0m\u001b[0;34m(\u001b[0m \u001b[0mX_train\u001b[0m\u001b[0;34m,\u001b[0m \u001b[0mX_test\u001b[0m\u001b[0;34m,\u001b[0m \u001b[0mlabels\u001b[0m \u001b[0;34m=\u001b[0m \u001b[0mlabels\u001b[0m\u001b[0;34m,\u001b[0m \u001b[0mranges\u001b[0m \u001b[0;34m=\u001b[0m \u001b[0mranges\u001b[0m\u001b[0;34m,\u001b[0m                         \u001b[0mname\u001b[0m \u001b[0;34m=\u001b[0m\u001b[0;34m[\u001b[0m\u001b[0;34m'train'\u001b[0m\u001b[0;34m,\u001b[0m\u001b[0;34m'test'\u001b[0m \u001b[0;34m]\u001b[0m\u001b[0;34m,\u001b[0m \u001b[0marea\u001b[0m \u001b[0;34m=\u001b[0m \u001b[0;34m[\u001b[0m\u001b[0mST82Maparea\u001b[0m\u001b[0;34m,\u001b[0m \u001b[0mSPTMaparea\u001b[0m\u001b[0;34m]\u001b[0m\u001b[0;34m,\u001b[0m \u001b[0mnbins\u001b[0m\u001b[0;34m=\u001b[0m\u001b[0;36m100\u001b[0m\u001b[0;34m,\u001b[0m \u001b[0mprefix\u001b[0m\u001b[0;34m=\u001b[0m\u001b[0;34m'gold_st82_30_cut21_spt_'\u001b[0m\u001b[0;34m)\u001b[0m\u001b[0;34m\u001b[0m\u001b[0m\n",
      "\u001b[0;31mNameError\u001b[0m: name 'clean_cmass_data_des' is not defined"
     ]
    }
   ],
   "source": [
    "# Plotting all\n",
    "labels = ['MAG_R', 'MAG_I', 'g-r', 'r-i', 'i-z']\n",
    "ranges =  [[17,22.5], [17,22.5], [-0.5,2], [-.5,1.5], [0.0,.8]]\n",
    "\n",
    "X_train, Xcov_train = mixing_color(clean_cmass_data_des, suffix ='')\n",
    "X_test,_ = mixing_color(dmass_spt, suffix = '')\n",
    "doVisualization_1d_NperA( X_train, X_test, labels = labels, ranges = ranges,\\\n",
    "                         name =['train','test' ], area = [ST82Maparea, SPTMaparea], nbins=100, prefix='gold_st82_30_cut21_spt_')\n",
    "\n",
    "X_train, Xcov_train = mixing_color(merged_des_st82_s, suffix ='')\n",
    "X_test,_ = mixing_color(des_spt, suffix = '')\n",
    "doVisualization_1d_NperA( X_train, X_test, labels = labels, ranges = ranges,\\\n",
    "                         name =['train','test' ], area = [ST82Maparea, SPTMaparea], nbins=100, prefix='gold_st82_30_cut21_spt_')"
   ]
  },
  {
   "cell_type": "code",
   "execution_count": 441,
   "metadata": {
    "collapsed": false
   },
   "outputs": [],
   "source": [
    "dmass_full = np.hstack([dmass, dmass_spt])\n",
    "rand = uniform_random_on_sphere(dmass_full, size = 50 * dmass_full.size)\n",
    "rand = Cuts.keepGoodRegion(rand)\n",
    "#rand_train = Cuts.SpatialCuts(rand, ra=320, ra2 = 360, dec = -2, dec2 = 2)\n",
    "rand_train = rand[rand['DEC'] > -3]\n",
    "rand = rand[rand['DEC'] < -3]"
   ]
  },
  {
   "cell_type": "code",
   "execution_count": 447,
   "metadata": {
    "collapsed": false
   },
   "outputs": [
    {
     "name": "stdout",
     "output_type": "stream",
     "text": [
      "avg bias= 1.19636262016  sample size= 71\n",
      "avg bias= 1.1708300584  sample size= 1855\n",
      "avg bias= 1.1619454918  sample size= 2481\n",
      "avg bias= 1.14749181956  sample size= 4335\n",
      "avg bias= 1.15341975562  sample size= 4053\n",
      "avg bias= 1.16926051101  sample size= 4080\n",
      "avg bias= 1.19657058769  sample size= 629\n",
      "avg bias= 1.15911550155  sample size= 814\n",
      "avg bias= 1.15826570373  sample size= 2095\n",
      "avg bias= 1.16853364719  sample size= 3819\n",
      "avg bias= 1.1610443938  sample size= 4160\n",
      "avg bias= 1.15252158695  sample size= 4345\n",
      "avg bias= 1.16669950503  sample size= 3843\n",
      "avg bias= 1.1596341171  sample size= 3489\n",
      "avg bias= 1.21052789377  sample size= 968\n",
      "avg bias= 1.11184654747  sample size= 1906\n",
      "avg bias= 1.13665153288  sample size= 620\n",
      "avg bias= 1.26509201414  sample size= 2\n",
      "avg bias= 1.14175767623  sample size= 132\n",
      "avg bias= 1.13726900305  sample size= 567\n",
      "avg bias= 1.17104560361  sample size= 1487\n",
      "avg bias= 1.19420948164  sample size= 225\n",
      "avg bias= 1.17066531064  sample size= 1266\n",
      "avg bias= 1.15065364104  sample size= 2948\n",
      "avg bias= 1.13549282496  sample size= 2967\n",
      "avg bias= 1.16405011793  sample size= 3152\n",
      "avg bias= 1.16381086819  sample size= 1645\n"
     ]
    },
    {
     "data": {
      "image/png": "[encoded data removed]",
      "text/plain": [
       "<matplotlib.figure.Figure at 0x102f4210>"
      ]
     },
     "metadata": {},
     "output_type": "display_data"
    }
   ],
   "source": [
    "n_density_st82 = clean_cmass_data_des.size * 1./rand_train.size\n",
    "\n",
    "nside = 8\n",
    "hpix8 = hpRaDecToHEALPixel(dmass_spt['RA'], dmass_spt['DEC'], nside= nside )\n",
    "hpix8rand = hpRaDecToHEALPixel(rand['RA'], rand['DEC'], nside= nside )\n",
    "apix8 = hp.nside2pixarea(nside, degrees=True)\n",
    "\n",
    "\n",
    "hpix8list = list(set(hpix8))\n",
    "n_density_spt = np.zeros(len(hpix8list)-1)\n",
    "N_spt = np.zeros(len(hpix8list)-1)\n",
    "N_rand = np.zeros(len(hpix8list)-1)\n",
    "avg_b_dmass_spt = np.zeros(len(hpix8list)-1)\n",
    "\n",
    "fig, ax = plt.subplots()\n",
    "for j in np.arange(0, len(hpix8list)-1, 2):\n",
    "    ma = hpix8 == hpix8list[j]\n",
    "    ma2 = hpix8 == hpix8list[j+1]\n",
    "    ma3 = hpix8rand == hpix8list[j]\n",
    "    ma4 = hpix8rand == hpix8list[j+1]\n",
    "    n_density_spt[j] = (np.sum(ma)+np.sum(ma2)) * 1./(np.sum(ma3) + np.sum(ma4))\n",
    "    N_spt[j] = np.sum(ma) + np.sum(ma2)\n",
    "    N_rand[j] = np.sum(ma3)+np.sum(ma4)\n",
    "    avg_b_dmass_spt[j] = getavgbias( dmass_spt[ma] )\n",
    "    ax.plot(dmass_spt[ma]['RA'], dmass_spt[ma]['DEC'], '.')  \n",
    "    ax.plot(dmass_spt[ma2]['RA'], dmass_spt[ma2]['DEC'], color = ax.lines[-1].get_color(), marker='.')   "
   ]
  },
  {
   "cell_type": "code",
   "execution_count": 452,
   "metadata": {
    "collapsed": false,
    "scrolled": false
   },
   "outputs": [
    {
     "name": "stdout",
     "output_type": "stream",
     "text": [
      "24\n"
     ]
    },
    {
     "data": {
      "image/png": "[encoded data removed]",
      "text/plain": [
       "<matplotlib.figure.Figure at 0x26f1a290>"
      ]
     },
     "metadata": {},
     "output_type": "display_data"
    }
   ],
   "source": [
    "# MOCK --------------------------------------\n",
    "\n",
    "spt_mask = (N_rand > N_rand.mean() * 0.2 )  & (n_density_spt > 0)\n",
    "mean_spt = n_density_spt[spt_mask].mean() \n",
    "defined_sigma_st82 = np.std(n_density_spt[spt_mask])\n",
    "spt_maskb = (N_rand > N_rand.mean() * 0.2 ) & (avg_b_dmass_spt < 100.0)\n",
    "mean_b = avg_b_dmass_spt[spt_maskb].mean()\n",
    "defined_sigma_st82_b = np.std(avg_b_dmass_spt[spt_maskb])\n",
    "\n",
    "# plot------------------\n",
    "fig, (ax, ax2) = plt.subplots(1, 2, figsize = (20/3 * 2., 5))\n",
    "ax.axhspan( 1. - defined_sigma_st82/mean_spt, 1 + defined_sigma_st82/mean_spt, alpha=0.5, color='grey', label = '68% confidence')\n",
    "ax.axhspan( 1. - 2*defined_sigma_st82/mean_spt, 1 + 2*defined_sigma_st82/mean_spt, alpha=0.1, color='grey',label = '95% confidence')\n",
    "ax.plot( np.arange(np.sum(spt_mask)), n_density_spt[spt_mask]/mean_spt, 'k.' )\n",
    "ax.plot( 2, n_density_st82/mean_spt, 'r*', markersize = 10, label = 'cmass stripe82' )\n",
    "ax.axhline(y = 1, linestyle='--', color = 'grey')\n",
    "ax.set_title('dmass SPT')\n",
    "ax.set_ylim(0.8, 1.2)\n",
    "ax.set_ylabel('n_patch/n_mean')\n",
    "ax.set_xlabel('patch index')\n",
    "ax.text(0, 1.18, '  Patch area {:0.0f} deg^2'.format(apix8 * 2))\n",
    "ax.text(0, 1.16, '  St82 Patch area {:0.0f} deg^2'.format(109))\n",
    "ax.legend(loc = 1)\n",
    "\n",
    "\n",
    "ax2.axhspan( 1. - defined_sigma_st82_b/mean_b, 1 + defined_sigma_st82_b/mean_b, alpha=0.5, color='grey', label = '68% confidence')\n",
    "ax2.axhspan( 1. - 2*defined_sigma_st82_b/mean_b, 1 + 2*defined_sigma_st82_b/mean_b, alpha=0.1, color='grey',label = '95% confidence')\n",
    "\n",
    "ax2.plot( np.arange(np.sum(spt_maskb)), avg_b_dmass_spt[spt_maskb]/mean_b, 'k.')\n",
    "ax2.plot( 10, avg_b_cmass/mean_b, 'r*', markersize = 10, label = 'stripe 82')\n",
    "#ax.errorbar( 1, n_density_st82/mean_spt, yerr = sigma_f_st82, fmt='none', ecolor = 'red', label = 'stripe82' )\n",
    "ax2.axhline(y = 1, linestyle='--', color = 'grey')\n",
    "ax2.set_title('dmass SPT bias')\n",
    "ax2.set_ylim(0.8, 1.2)\n",
    "ax2.set_ylabel('b_patch/b_avg')\n",
    "ax2.set_xlabel('patch index')\n",
    "ax2.text(0, 1.18, '  Patch area {:0.0f} deg^2'.format(apix8*2))\n",
    "ax2.text(0, 1.16, '  St82 Patch area {:0.0f} deg^2'.format(109))\n",
    "ax2.legend(loc = 4)\n",
    "\n",
    "print n_density_spt[spt_mask].size"
   ]
  },
  {
   "cell_type": "code",
   "execution_count": 453,
   "metadata": {
    "collapsed": false
   },
   "outputs": [
    {
     "name": "stdout",
     "output_type": "stream",
     "text": [
      "avg bias= 1.18257475506  sample size= 11568\n",
      "avg bias= 1.2023724201  sample size= 2117\n",
      "avg bias= 1.19570550493  sample size= 9368\n",
      "avg bias= 1.19071755457  sample size= 11496\n",
      "avg bias= 1.15838077711  sample size= 110270\n",
      "bias ratio b_dmass/b_cmass, train 101.674115311 %\n",
      "bias ratio b_dmass/b_cmass, test  101.110352628 %\n",
      "bias ratio b_dmass/b_cmass, all   100.688565308 %\n",
      "bias ratio b_dmass/b_cmass, spt   97.9541269725 %\n"
     ]
    }
   ],
   "source": [
    "avg_b_cmass = getavgbias( clean_cmass_data_des )\n",
    "avg_b_dmass_train = getavgbias( dmass_train )\n",
    "avg_b_dmass_test = getavgbias( dmass_test )\n",
    "avg_b_dmass = getavgbias( dmass )\n",
    "avg_b_dmass_spt = getavgbias( dmass_spt )\n",
    "\n",
    "print 'bias ratio b_dmass/b_cmass, train', avg_b_dmass_train * 100/ avg_b_cmass, '%'\n",
    "print 'bias ratio b_dmass/b_cmass, test ', avg_b_dmass_test * 100/ avg_b_cmass, '%'\n",
    "print 'bias ratio b_dmass/b_cmass, all  ', avg_b_dmass * 100/ avg_b_cmass, '%'\n",
    "print 'bias ratio b_dmass/b_cmass, spt  ', avg_b_dmass_spt * 100/ avg_b_cmass, '%'"
   ]
  },
  {
   "cell_type": "markdown",
   "metadata": {
    "collapsed": true
   },
   "source": [
    "## ratio test "
   ]
  },
  {
   "cell_type": "code",
   "execution_count": 422,
   "metadata": {
    "collapsed": false
   },
   "outputs": [
    {
     "name": "stdout",
     "output_type": "stream",
     "text": [
      "Spatial Cut  14165\n"
     ]
    }
   ],
   "source": [
    "#calling BOSS cmass\n",
    "import esutil\n",
    "import numpy as np\n",
    "\n",
    "path = '/n/des/lee.5922/data/cmass_cat/'\n",
    "cmass_sgc = esutil.io.read(path+'galaxy_DR12v5_CMASS_South.fits.gz')\n",
    "cmass_sgc = cmass_sgc[(cmass_sgc['Z'] > 0.43) & (cmass_sgc['Z'] < 0.7)]\n",
    "cmass_st82 = Cuts.SpatialCuts(cmass_sgc, ra=310, ra2=360, dec=-2, dec2=2)"
   ]
  },
  {
   "cell_type": "code",
   "execution_count": 423,
   "metadata": {
    "collapsed": false
   },
   "outputs": [
    {
     "name": "stdout",
     "output_type": "stream",
     "text": [
      "Spatial Cut  739390\n"
     ]
    }
   ],
   "source": [
    "# boss random\n",
    "random_sgc = esutil.io.read(path+'random0_DR12v5_CMASS_South.fits.gz')\n",
    "#random_sgc = random_sgc[(random_sgc['Z'] > 0.43) & (random_sgc['Z'] < 0.7)]\n",
    "random_st82 = Cuts.SpatialCuts(random_sgc, ra=310, ra2=360, dec=-2, dec2=2)"
   ]
  },
  {
   "cell_type": "code",
   "execution_count": 424,
   "metadata": {
    "collapsed": false
   },
   "outputs": [
    {
     "name": "stdout",
     "output_type": "stream",
     "text": [
      "0.945642277642 0.934965895758\n"
     ]
    }
   ],
   "source": [
    "# st82/sgc = st82/spt \n",
    "\n",
    "des_side = dmass_spt.size * 1./rand.size * rand_train.size *1./clean_cmass_data_des.size\n",
    "sdss_side = cmass_sgc.size * 1./random_sgc.size * random_st82.size *1./cmass_st82.size\n",
    "print des_side, sdss_side"
   ]
  },
  {
   "cell_type": "code",
   "execution_count": 425,
   "metadata": {
    "collapsed": false
   },
   "outputs": [
    {
     "data": {
      "text/plain": [
       "0.021268378326635147"
      ]
     },
     "execution_count": 425,
     "metadata": {},
     "output_type": "execute_result"
    }
   ],
   "source": [
    "defined_sigma_st82"
   ]
  },
  {
   "cell_type": "code",
   "execution_count": 426,
   "metadata": {
    "collapsed": false
   },
   "outputs": [
    {
     "name": "stdout",
     "output_type": "stream",
     "text": [
      "0.314518263155 0.252075262036\n"
     ]
    },
    {
     "data": {
      "text/plain": [
       "[<matplotlib.text.Text at 0x154c9850>,\n",
       " <matplotlib.text.Text at 0x154bce10>,\n",
       " <matplotlib.text.Text at 0x17381210>,\n",
       " <matplotlib.text.Text at 0x1737b110>]"
      ]
     },
     "execution_count": 426,
     "metadata": {},
     "output_type": "execute_result"
    },
    {
     "data": {
      "image/png": "[encoded data removed]",
      "text/plain": [
       "<matplotlib.figure.Figure at 0x7b1af10>"
      ]
     },
     "metadata": {},
     "output_type": "display_data"
    }
   ],
   "source": [
    "defined_sigma_sgc = 0.0011229122108526231\n",
    "\n",
    "areafd = np.sqrt(ST82Maparea/SPTMaparea)\n",
    "areafc = np.sqrt(random_st82.size *1./random_sgc.size)\n",
    "\n",
    "print areafd, areafc\n",
    "\n",
    "fig, ax = plt.subplots()\n",
    "ax.errorbar(1, des_side, marker = '*', yerr=defined_sigma_st82 * (rand_train.size *1./clean_cmass_data_des.size) * areafd, color = 'blue')\n",
    "ax.errorbar(2, sdss_side, marker = '*', yerr = defined_sigma_sgc * (random_st82.size *1./cmass_st82.size) * areafc, color = 'red')\n",
    "ax.set_xlim(0,3)\n",
    "ax.set_xticks([0,1,2,3])\n",
    "ax.set_xticklabels(['', 'dmass spt/s82', 'cmass sgc/s82', ''])"
   ]
  },
  {
   "cell_type": "code",
   "execution_count": 435,
   "metadata": {
    "collapsed": false
   },
   "outputs": [],
   "source": [
    "def plot_z_distribution( cats = None, ztag = 'DESDM_ZP', area = None, name = None, labels = None, suffix = 'test' ):\n",
    "    \n",
    "    import matplotlib.pyplot as plt\n",
    "    z_bin, s = np.linspace(1e-5, 1.0, 200, retstep=True)\n",
    "    z_center = z_bin[:-1]+s/2.\n",
    "    \n",
    "    \n",
    "    fig, axes = plt.subplots( 1, 1, figsize = (8,5))\n",
    "    \n",
    "    color = ['blue', 'red', 'yellow']\n",
    "    \n",
    "    if len(cats) > 1:\n",
    "        for i in range(len(cats)):\n",
    "            N, _= np.histogram(cats[i][ztag], bins = z_bin, normed = False)        \n",
    "            n = N/area[i]\n",
    "            axes.bar(z_center, n, s, alpha = 0.5, color = color[i], label=name[i] )\n",
    "    \n",
    "    else : \n",
    "        N, _= np.histogram(cats[ztag], bins = z_bin, normed = False) \n",
    "        n = N/area\n",
    "        axes.bar(z_center, n, s, label = name)\n",
    "        \n",
    "    axes.set_xlabel('photo_z')\n",
    "    axes.set_ylabel('n(z)')\n",
    "    #ax.set_yscale('log')\n",
    "    axes.legend(loc='best')\n",
    "    axes.set_xlim(0.2,1.0)\n",
    "    axes.set_title('\\nredshift histogram')\n",
    "    figname ='figure/hist_z_'+suffix+'.png'\n",
    "    fig.savefig(figname)\n",
    "    print 'saving fig to ',figname\n",
    "    \n",
    "    DAT = np.column_stack((z_center, n))\n",
    "    filename = 'data_txt/z_distribution_'+suffix+'.txt'\n",
    "    np.savetxt(filename, DAT, header = 'z, n(z)')\n",
    "    print 'saving data to ',filename"
   ]
  },
  {
   "cell_type": "code",
   "execution_count": 436,
   "metadata": {
    "collapsed": false,
    "scrolled": false
   },
   "outputs": [
    {
     "name": "stdout",
     "output_type": "stream",
     "text": [
      "saving fig to  figure/hist_z_dmass_st82.png\n",
      "saving data to  data_txt/z_distribution_dmass_st82.txt\n",
      "saving fig to  figure/hist_z_dmass_spt.png\n",
      "saving data to  data_txt/z_distribution_dmass_spt.txt\n"
     ]
    },
    {
     "data": {
      "image/png": "[encoded data removed]",
      "text/plain": [
       "<matplotlib.figure.Figure at 0x11261250>"
      ]
     },
     "metadata": {},
     "output_type": "display_data"
    },
    {
     "data": {
      "image/png": "[encoded data removed]",
      "text/plain": [
       "<matplotlib.figure.Figure at 0x8abb550>"
      ]
     },
     "metadata": {},
     "output_type": "display_data"
    }
   ],
   "source": [
    "plot_z_distribution( cats = [clean_cmass_data_des, dmass], name = ['cmass s82', 'dmass s82'], area = [ST82Maparea, ST82Maparea], labels = 'dmass_st82', suffix = 'dmass_st82' )\n",
    "plot_z_distribution( cats = [clean_cmass_data_des, dmass_spt], name = ['cmass s82', 'dmass spt'], area = [ST82Maparea, SPTMaparea], labels = 'dmass_st82', suffix = 'dmass_spt' )"
   ]
  },
  {
   "cell_type": "code",
   "execution_count": null,
   "metadata": {
    "collapsed": true
   },
   "outputs": [],
   "source": []
  },
  {
   "cell_type": "code",
   "execution_count": null,
   "metadata": {
    "collapsed": true
   },
   "outputs": [],
   "source": [
    "k"
   ]
  }
 ],
 "metadata": {
  "kernelspec": {
   "display_name": "Python 2",
   "language": "python",
   "name": "python2"
  },
  "language_info": {
   "codemirror_mode": {
    "name": "ipython",
    "version": 2
   },
   "file_extension": ".py",
   "mimetype": "text/x-python",
   "name": "python",
   "nbconvert_exporter": "python",
   "pygments_lexer": "ipython2",
   "version": "2.7.5"
  }
 },
 "nbformat": 4,
 "nbformat_minor": 0
}
