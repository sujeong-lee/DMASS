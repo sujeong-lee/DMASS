{
 "cells": [
  {
   "cell_type": "code",
   "execution_count": 7,
   "metadata": {},
   "outputs": [],
   "source": [
    "import sys\n",
    "sys.path.append('../')\n",
    "from xd import *\n",
    "from utils import *\n",
    "import esutil\n",
    "import healpy as hp\n",
    "from systematics import *\n",
    "from systematics_module import *\n",
    "\n",
    "%matplotlib inline\n",
    "\n",
    "%load_ext autoreload\n",
    "%autoreload 2"
   ]
  },
  {
   "cell_type": "markdown",
   "metadata": {},
   "source": [
    "## systematic test "
   ]
  },
  {
   "cell_type": "markdown",
   "metadata": {},
   "source": [
    "# Resampling 100 bins, pstart = 0.05"
   ]
  },
  {
   "cell_type": "code",
   "execution_count": 2,
   "metadata": {
    "scrolled": true
   },
   "outputs": [],
   "source": [
    "import numpy as np\n",
    "import healpy as hp"
   ]
  },
  {
   "cell_type": "code",
   "execution_count": 3,
   "metadata": {},
   "outputs": [],
   "source": [
    "def brelchisqr(xi, xi2, invcov, brelsqr):\n",
    "    DiffVector = xi2 - brelsqr*xi\n",
    "    chi2 = np.dot( np.dot( DiffVector , invcov), DiffVector )\n",
    "    return chi2\n",
    "\n",
    "def find_nearest(array, value, brell):\n",
    "    \n",
    "    ind_min = array.argmin()\n",
    "    array1 = np.asarray(array[:ind_min])\n",
    "    idx1 = (np.abs(array1 - value)).argmin()\n",
    "    \n",
    "    array2 = np.asarray(array[ind_min:])\n",
    "    idx2 = (np.abs(array2 - value)).argmin()\n",
    "    \n",
    "    return brell[:ind_min][idx1], brell[ind_min], brell[ind_min:][idx2]\n",
    "\n",
    "\n",
    "def brel_chisqr_fitting(xi1, xi2, Fisher, verbose=False):\n",
    "    \n",
    "    brelsqr = np.linspace(0.8, 1.2, 5000)   \n",
    "    brelarr = np.sqrt(brelsqr) \n",
    "    chisqr_result = np.zeros(brelsqr.size)\n",
    "    \n",
    "    i=0\n",
    "    for b in brelsqr:\n",
    "        chisqr_result[i] = brelchisqr(xi1, xi2, Fisher, b)\n",
    "        i+=1   \n",
    "        \n",
    "    minarg = chisqr_result.argmin()\n",
    "    chisqr_min = chisqr_result.min()\n",
    "    brel = np.sqrt(brelsqr[minarg])\n",
    "    \n",
    "    b_cmass = 2.0\n",
    "    db = b_cmass * (1. - 1./brel)\n",
    "    \n",
    "       \n",
    "    b_cmass = 2.0\n",
    "\n",
    "    br1, brmin, br2 = find_nearest( chisqr_result, chisqr_min + 1,brelarr )\n",
    "    err_brel = np.abs(br1-br2)/2.\n",
    "    err_db = err_brel *b_cmass\n",
    "    if verbose : print 'err db, db / br1, brmin, br2 :', err_db, db, br1, brmin, br2  \n",
    "    #return err_db, db, chisqr_result\n",
    "    return err_brel, brmin, chisqr_result\n",
    "    "
   ]
  },
  {
   "cell_type": "code",
   "execution_count": 4,
   "metadata": {
    "scrolled": true
   },
   "outputs": [],
   "source": [
    "# calling catalog\n",
    "#from systematics import GalaxyDensity_Systematics,loadSystematicMaps, chisquare_dof, MatchHPArea, SysMapBadRegionMask, callingEliGoldMask\n",
    "\n",
    "def calling_sysMap( properties=None, kind='SPT', nside=4096, path = None ):\n",
    "    # Calling maps\n",
    "    from systematics import callingEliGoldMask,callingY1GoldMask\n",
    "    GoldMask = callingEliGoldMask()\n",
    "    #GoldMask = callingY1GoldMask(nside)\n",
    "    \n",
    "    MaskDic = {}\n",
    "    for i,p in enumerate(properties):\n",
    "        if p == 'NSTARS_allband':\n",
    "            filename =  'y1a1_gold_1.0.2_stars_nside1024.fits'\n",
    "            sysMap = loadSystematicMaps( filename = filename, property = p, filter = 'g', nside = 1024 , kind = kind, path = path)\n",
    "            if kind is 'STRIPE82': sysMap = sysMap[sysMap['DEC'] > -3]\n",
    "            elif kind is 'SPT': sysMap = sysMap[sysMap['DEC'] < -3]\n",
    "            mapname = 'sys_'+p+'_'+'g'+'_'+kind\n",
    "            MaskDic[mapname] = sysMap\n",
    "            \n",
    "        elif p == 'GE':\n",
    "            sysMap = loadSystematicMaps( property = p, filter = 'g', nside = 512 , kind = kind, path = path)\n",
    "            if kind is 'STRIPE82': sysMap = sysMap[sysMap['DEC'] > -3]\n",
    "            elif kind is 'SPT': sysMap = sysMap[sysMap['DEC'] < -3]\n",
    "            mapname = 'sys_'+p+'_'+'g'+'_'+kind\n",
    "            MaskDic[mapname] = sysMap\n",
    "            \n",
    "         \n",
    "        else :\n",
    "            filter = ['g', 'r', 'i', 'z']\n",
    "            \n",
    "            if p =='EXPTIME':\n",
    "                filename = ['Y1A1NEW_COADD_'+kind+'_band_'+f+'_nside4096_oversamp4_EXPTIME__total.fits.gz'\\\n",
    "                             for f in filter ]\n",
    "            elif p =='DEPTH' :\n",
    "                filename = ['Y1A1NEW_COADD_'+kind+'_band_'+f+'_nside4096_oversamp4_maglimit3__.fits.gz'\\\n",
    "                             for f in filter ]\n",
    "            elif p == 'NSTARS' : \n",
    "                filename = ['Y1A1NEW_COADD_'+kind+'_band_'+f+'_nside4096_oversamp4_NSTARS_ACCEPTED_MEAN_coaddweights3_mean.fits.gz'\\\n",
    "                             for f in filter ]\n",
    "            else : filename = [None for f in filter]\n",
    "\n",
    "            for j,f in enumerate(filter):\n",
    "                sysMap = loadSystematicMaps( filename = filename[j], property = p, filter = f, nside = nside , kind = kind, path = path)\n",
    "                mapname = 'sys_'+p+'_'+f+'_'+kind\n",
    "                keep = np.in1d(sysMap['PIXEL'], GoldMask['PIXEL'])\n",
    "                MaskDic[mapname] = sysMap[keep]\n",
    "                \n",
    "    return MaskDic"
   ]
  },
  {
   "cell_type": "code",
   "execution_count": 5,
   "metadata": {},
   "outputs": [],
   "source": [
    "def maskingCatalogSP(catalog=None, sysMap=None):\n",
    "    \n",
    "    \n",
    "    exp_i_hpind = sysMap['sys_EXPTIME_i_SPT']['PIXEL'][(sysMap['sys_EXPTIME_i_SPT']['SIGNAL'] < 500)]\n",
    "    fwhm_r_hpind = sysMap['sys_FWHM_r_SPT']['PIXEL'][(sysMap['sys_FWHM_r_SPT']['SIGNAL'] < 4.5)]\n",
    "    #ge_hpind = sysMap['sys_GE_g_SPT']['PIXEL'][(sysMap['sys_GE_g_SPT']['SIGNAL'] < 0.09)]\n",
    "    #ge_hpind = sysMap['sys_GE_g_SPT']['PIXEL'][(sysMap['sys_GE_g_SPT']['SIGNAL'] < 100000)]\n",
    "    #skybrite_g_hpind = sysMap['sys_SKYBRITE_g_SPT']['PIXEL'][(sysMap['sys_SKYBRITE_g_SPT']['SIGNAL'] < 170)]\n",
    "    #skybrite_i_hpind = sysMap['sys_SKYBRITE_i_SPT']['PIXEL'][(sysMap['sys_SKYBRITE_i_SPT']['SIGNAL'] < 1400)]\n",
    "    skybrite_g_hpind = sysMap['sys_SKYBRITE_g_SPT']['PIXEL'][(sysMap['sys_SKYBRITE_g_SPT']['SIGNAL'] < 1700000)]\n",
    "    skybrite_i_hpind = sysMap['sys_SKYBRITE_i_SPT']['PIXEL'][(sysMap['sys_SKYBRITE_i_SPT']['SIGNAL'] < 14000000)]  \n",
    "    \n",
    "    all_mask1 = np.zeros( hp.nside2npix(4096), dtype=bool )\n",
    "    all_mask2 = np.zeros( hp.nside2npix(4096),dtype=bool )\n",
    "    all_mask3 = np.zeros( hp.nside2npix(4096),dtype=bool )\n",
    "    all_mask4 = np.zeros( hp.nside2npix(4096),dtype=bool )\n",
    "    \n",
    "    all_mask512 = np.zeros( hp.nside2npix(512),dtype=bool )\n",
    "    \n",
    "    all_mask1[exp_i_hpind] = 1\n",
    "    all_mask2[fwhm_r_hpind] = 1\n",
    "    all_mask3[skybrite_g_hpind] = 1\n",
    "    all_mask4[skybrite_i_hpind] = 1\n",
    "    \n",
    "    #all_mask512[ge_hpind] = 1\n",
    "    all_mask512 = np.ones( hp.nside2npix(512),dtype=bool )\n",
    "    all_mask4096 = all_mask1 * all_mask2 * all_mask3* all_mask4\n",
    "\n",
    "\n",
    "    all_ind4096 = np.arange( hp.nside2npix(4096) )\n",
    "    all_ind512 = np.arange( hp.nside2npix(512) )\n",
    "    goodindices4096 = all_ind4096[all_mask4096]\n",
    "    goodindices512 = all_ind512[all_mask512]\n",
    "  \n",
    "    \n",
    "    #goodindices = np.hstack([exp_i_hpind, fwhm_r_hpind, ge_hpind])\n",
    "    \n",
    "    #exp_mask =  (sysMap['sys_EXPTIME_i_SPT']['SIGNAL'] < 500) &  (sysMap['sys_EXPTIME_r_SPT']['SIGNAL'] < 500)\n",
    "    #fwhm_mask = ((sysMap['sys_FWHM_g_SPT']['SIGNAL'] < 500) & (sysMap['sys_FWHM_r_SPT']['SIGNAL'] < 500) \n",
    "    #            & (sysMap['sys_FWHM_i_SPT']['SIGNAL'] < 500) & (sysMap['sys_FWHM_z_SPT']['SIGNAL'] < 500))\n",
    "\n",
    "    fwhm_mask = (sysMap['sys_FWHM_r_SPT']['SIGNAL'] < 4.5) \n",
    "    skybrite_mask = (sysMap['sys_SKYBRITE_g_SPT']['SIGNAL'] < 160) & (sysMap['sys_SKYBRITE_i_SPT']['SIGNAL'] < 1400) \\\n",
    "    &(sysMap['sys_SKYBRITE_z_SPT']['SIGNAL'] < 3000) \n",
    "    \n",
    "    #ge_mask = (sysMap['sys_GE_g_SPT']['SIGNAL'] < 0.08)  \n",
    "    #all_mask = fwhm_mask*exp_mask*skybrite_mask\n",
    "    #print 'exp mask ', 1. - np.sum(exp_mask) *1./exp_mask.size\n",
    "    #print 'fwhm mask', 1. - np.sum(fwhm_mask) *1./fwhm_mask.size\n",
    "    #print 'skybrite mask', 1. - np.sum(skybrite_mask) *1./skybrite_mask.size\n",
    "    #print 'all mask', 1. - np.sum(fwhm_mask*exp_mask*skybrite_mask) *1./fwhm_mask.size   \n",
    "\n",
    "    catHpInd4096 = hpRaDecToHEALPixel(catalog['RA'], catalog['DEC'], nside=4096, nest=False)\n",
    "    catHpInd512 = hpRaDecToHEALPixel(catalog['RA'], catalog['DEC'], nside=512, nest=False)\n",
    "    HpIdxInsys_mask4096 = np.in1d(catHpInd4096, goodindices4096)\n",
    "    HpIdxInsys_mask512 = np.in1d(catHpInd512, goodindices512)\n",
    "    \n",
    "    HpIdxInsys_mask = HpIdxInsys_mask4096 * HpIdxInsys_mask512\n",
    "    \n",
    "    print HpIdxInsys_mask.size, np.sum(HpIdxInsys_mask)\n",
    "    print 'mask ', np.sum(HpIdxInsys_mask) * 1./catalog.size\n",
    "    return catalog[HpIdxInsys_mask]\n",
    "    "
   ]
  },
  {
   "cell_type": "code",
   "execution_count": 8,
   "metadata": {},
   "outputs": [],
   "source": [
    "# calling map \n",
    "GoldMask = callingEliGoldMask()\n",
    "#GoldMask_st82 = Cuts.SpatialCuts(GoldMask, ra=320, ra2=360, dec=-2, dec2=2)\n",
    "GoldMask_st82 = GoldMask[ GoldMask['DEC'] > -3.0 ]\n",
    "GoldMask_spt = GoldMask[ GoldMask['DEC'] < -3.0 ]\n",
    "#GoldMask_spt = cutcat20(GoldMask_spt)\n",
    "#GoldMask_spt = Cuts.SpatialCuts(GoldMask_spt, ra=0, ra2 = 100, dec=-52, dec2 = -48)\n",
    "\n",
    "pixarea = hp.nside2pixarea( 4096, degrees = True)\n",
    "sptnpix = GoldMask_spt['PIXEL'].size #hp.get_map_size( GoldMask_spt['PIXEL'] )\n",
    "st82npix =  GoldMask_st82['PIXEL'].size # hp.get_map_size( GoldMask_st82 )\n",
    "SPTMaparea = pixarea * sptnpix\n",
    "ST82Maparea = pixarea * st82npix"
   ]
  },
  {
   "cell_type": "code",
   "execution_count": 16,
   "metadata": {},
   "outputs": [
    {
     "name": "stdout",
     "output_type": "stream",
     "text": [
      "dmass sample size : 112398\n",
      "cmass sample size : 11698\n"
     ]
    }
   ],
   "source": [
    "# import DMASS\n",
    "\n",
    "dmass = fitsio.read('../output/n2_2/dmass_spt.fits')\n",
    "#dmass = cutcat20(dmass)\n",
    "cmass = fitsio.read('../output/ge_low/train_sample_des.fits')\n",
    "print 'dmass sample size :', dmass.size\n",
    "print 'cmass sample size :', cmass.size"
   ]
  },
  {
   "cell_type": "code",
   "execution_count": 17,
   "metadata": {},
   "outputs": [
    {
     "name": "stdout",
     "output_type": "stream",
     "text": [
      "510430 112398\n",
      "189577 11698\n"
     ]
    }
   ],
   "source": [
    "#rand_bg = uniform_random_on_sphere(dmass_spt2, size = 100 * dmass_spt2.size)\n",
    "#rand_bg = Cuts.keepGoodRegion(rand_bg)\n",
    "#rand_bg_train = uniform_random_on_sphere(clean_cmass_data_des, size = 100 * clean_cmass_data_des.size)\n",
    "#rand_bg_train = Cuts.keepGoodRegion(rand_bg_train)\n",
    "\n",
    "rand = uniform_random_on_sphere(dmass, size = 10 * dmass.size)\n",
    "rand = Cuts.keepGoodRegion(rand)\n",
    "#rand = Cuts.keepY1GoldRegion(rand)\n",
    "rand = rand[ rand['DEC'] < -3.0 ]\n",
    "#rand = cutcat20(rand)\n",
    "\n",
    "rand2 = uniform_random_on_sphere(dmass, size = 50 * dmass.size)\n",
    "rand2 = Cuts.keepGoodRegion(rand2)\n",
    "#rand = Cuts.keepY1GoldRegion(rand)\n",
    "rand2 = rand2[ rand2['DEC'] < -3.0 ]\n",
    "#rand2 = cutcat20(rand2)\n",
    "\n",
    "rand_cmass = uniform_random_on_sphere(cmass, size = 200 * cmass.size)\n",
    "rand_cmass = Cuts.keepGoodRegion(rand_cmass)\n",
    "rand_cmass = rand_cmass[ rand_cmass['DEC'] > -3.0 ]\n",
    "\n",
    "rand2_cmass = uniform_random_on_sphere(cmass, size = 500 * cmass.size)\n",
    "rand2_cmass = Cuts.keepGoodRegion(rand2_cmass)\n",
    "rand2_cmass = rand2_cmass[ rand2_cmass['DEC'] > -3.0 ]\n",
    "\n",
    "print rand.size, dmass.size\n",
    "print rand_cmass.size, cmass.size\n",
    "#rand_train = uniform_random_on_sphere(clean_cmass_data_des, size = 10 * clean_cmass_data_des.size)\n",
    "#rand_train = Cuts.keepGoodRegion(rand_train)"
   ]
  },
  {
   "cell_type": "code",
   "execution_count": 19,
   "metadata": {},
   "outputs": [],
   "source": [
    "mock_num = 10"
   ]
  },
  {
   "cell_type": "code",
   "execution_count": 11,
   "metadata": {},
   "outputs": [
    {
     "data": {
      "text/plain": [
       "0"
      ]
     },
     "execution_count": 11,
     "metadata": {},
     "output_type": "execute_result"
    }
   ],
   "source": [
    "rootdir ='../data_txt/systematics/mock2/'\n",
    "basedir = rootdir+'act/'\n",
    "os.system('mkdir '+rootdir)\n",
    "os.system('mkdir '+basedir)"
   ]
  },
  {
   "cell_type": "code",
   "execution_count": 15,
   "metadata": {},
   "outputs": [
    {
     "data": {
      "text/plain": [
       "0"
      ]
     },
     "execution_count": 15,
     "metadata": {},
     "output_type": "execute_result"
    }
   ],
   "source": [
    "rand2.size"
   ]
  },
  {
   "cell_type": "code",
   "execution_count": 18,
   "metadata": {},
   "outputs": [
    {
     "name": "stdout",
     "output_type": "stream",
     "text": [
      "mock number 1\n",
      "calculate angular correlation function\n",
      "X (670, 2)  centers (50, 2)  tol=1e-05  maxiter=200\n",
      "14 iterations  cluster sizes: [12  9 14 12 12 10 14  9 17 14  9 16 21 18  9 15 15 12 13 14 17 17 11 13\n",
      " 15 16  9 12  6 13 20  9 21 10  9 25 10 23  7  8 16 16 10  6 12 15  9 24\n",
      " 14 12]\n",
      "X (112547, 2)  centers (50, 2)  tol=1e-05  maxiter=200\n",
      "52 iterations  cluster sizes: [2351 2169 2561 2465 2443 2305 2103 2294 2254 2697 1704 1936 2489 2387\n",
      " 2248 2619 1849 2169 2183 2800 1540 2526 2221 2200 2403 2321 1974 1902\n",
      " 2012 2517 2951 2065 2716 2106 2410 2031 2228 2189 1137 2644 2831 2384\n",
      " 2524 1984 2542 2426 1714 2360 1909 1754]\n",
      ". . . . . . . . . . . . . . . . . . . . . . . . . . . . . . . . . . . . . . . . . . . . . . . . . . . saving data file to :  ../data_txt/systematics/mock2/act//acf_auto_dmass_mock_0001_nbins20_jk50.txt\n",
      "mock number 2\n",
      "calculate angular correlation function\n",
      "X (670, 2)  centers (50, 2)  tol=1e-05  maxiter=200\n",
      "14 iterations  cluster sizes: [13 14 16  4 23 11  9 10 20  4 15 10 12  7 22  9  8  9 15 30 16 16 11  7\n",
      "  8 27  8 12 11 14 15 14 20 11  9 10 17 20 14  8 14 17 12  6 15 12 18 19\n",
      " 12 16]\n",
      "X (112547, 2)  centers (50, 2)  tol=1e-05  maxiter=200\n",
      "37 iterations  cluster sizes: [2244 2537 2449 2176 2192 2459 1985 1658 2904 2021 2852 1692 2743 2102\n",
      " 2243 2014 2363 1475 1631 3458 2583 2819 2000 2652 1912 3073 1513 2176\n",
      " 1920 2647 2652 2354 2802 2021 2236 1963 3067 2133 1268 2227 2251 2322\n",
      " 1984 1001 3161 1383 2872 2287 2071 1999]\n",
      ". . . . . . . . . . . . . . . . . . . . . . . . . . . . . . . . . . . . . . . . . . . . . . . . . . . saving data file to :  ../data_txt/systematics/mock2/act//acf_auto_dmass_mock_0002_nbins20_jk50.txt\n",
      "mock number 3\n",
      "calculate angular correlation function\n",
      "X (670, 2)  centers (50, 2)  tol=1e-05  maxiter=200\n",
      "16 iterations  cluster sizes: [19 21 11 13  9  8 20  7 16 26 14 14 10  8 16  9  8 23 11 16 15 20 14 21\n",
      " 16 19  6 13  7  5  6 21 11 13 17 19 23 18  7 16  6 12 10  8  9  8 11 15\n",
      "  6 19]\n",
      "X (112547, 2)  centers (50, 2)  tol=1e-05  maxiter=200\n",
      "74 iterations  cluster sizes: [2624 2218 2768 1862 2202 2457 2240 1802 3000 2562 2121 2451 1742 1448\n",
      " 1552 1616 2636 2649 2774 2632 1463 2204 2142 2649 2444 2671 1036 2804\n",
      " 2549 2313 2432 2669 1968 2235 2125 2414 2797 1991 1838 2825 2403 2497\n",
      " 1830 2046 2073 2516 2022 2184 2124 1927]\n",
      ". . . . . . . . . . . . . . . . . . . . . . . . . . . . . . . . . . . . . . . . . . . . . . . . . . . saving data file to :  ../data_txt/systematics/mock2/act//acf_auto_dmass_mock_0003_nbins20_jk50.txt\n",
      "mock number 4\n",
      "calculate angular correlation function\n",
      "X (670, 2)  centers (50, 2)  tol=1e-05  maxiter=200\n",
      "15 iterations  cluster sizes: [15 31 12 13 13 15 17 15  9 18 17 16  6  8  9  7 17  7 14 14 16 22 16 10\n",
      "  9 14  7 10 22 16 14 10 10 16 14 14 11 12 14 11 15  4  7 17 12 17  9 20\n",
      " 10 18]\n",
      "X (112547, 2)  centers (50, 2)  tol=1e-05  maxiter=200\n",
      "67 iterations  cluster sizes: [2047 2842 1748 2157 2430 2164 2557 2134 2201 2522 2275 1980 2020 2036\n",
      " 1817 2543 2256 2303 2702 2214 2015 2781 2355 2110 1625 2111 2205 2425\n",
      " 3093 2068 2232 2179 1370 2634 2389 1515 1704 1994 2946 2200 2619 1021\n",
      " 2560 2690 2372 2284 2076 3184 2006 2836]\n",
      ". . . . . . . . . . . . . . . . . . . . . . . . . . . . . . . . . . . . . . . . . . . . . . . . . . . saving data file to :  ../data_txt/systematics/mock2/act//acf_auto_dmass_mock_0004_nbins20_jk50.txt\n",
      "mock number 5\n",
      "calculate angular correlation function\n",
      "X (670, 2)  centers (50, 2)  tol=1e-05  maxiter=200\n",
      "19 iterations  cluster sizes: [13  6 11 16 10 13 21 13 18 11  8 11 15 15 16 14  9  7 15 15 12 14 15  9\n",
      " 21 11 11 18 16 33 13  9  5 15 17  3 14 12 11 13  9  9 16 10 10 10 26 10\n",
      " 29 12]\n",
      "X (112547, 2)  centers (50, 2)  tol=1e-05  maxiter=200\n",
      "58 iterations  cluster sizes: [2113  964 2455 2444 2642 2302 2707 2402 2446 2219 2471 2094 2090 2600\n",
      " 2723 2071 1749 2283 2346 2830 2722 1346 1851 1748 2131 2256 2635 2425\n",
      " 2775 2493 2183 2351 1790 2915 2440 2200 2320 2752 1491 2544 2207 2017\n",
      " 2294 1747 2087 1639 2563 1970 2433 2271]\n",
      ". . . . . . . . . . . . . . . . . . . . . . . . . . . . . . . . . . . . . . . . . . . . . . . . . . . saving data file to :  ../data_txt/systematics/mock2/act//acf_auto_dmass_mock_0005_nbins20_jk50.txt\n",
      "mock number 6\n",
      "calculate angular correlation function\n",
      "X (670, 2)  centers (50, 2)  tol=1e-05  maxiter=200\n",
      "16 iterations  cluster sizes: [16  5 13 10 22 15 15  7  8  9 28  7  5 11  8  7 18 12  9 10 17  9  6  5\n",
      "  6  8 13 14  7 16 21 14  5 22 29 17 10 21 17 18  8 21 14  8 14 22 11 17\n",
      " 19 26]\n",
      "X (112547, 2)  centers (50, 2)  tol=1e-05  maxiter=200\n",
      "40 iterations  cluster sizes: [2360 2005 2304 2582 1985 2330 2235 2282 1717 1052 1941 2315 2523 1992\n",
      " 1954 2252 2156 1864 2073 2920 2105 2573 2337 2166 2675 1837 1623 2558\n",
      " 2013 2158 2856 2471 1836 2063 1966 2712 1938 2629 3007 2142 2894 2496\n",
      " 2257 2331 2173 2974 1795 2129 2535 2456]\n",
      ". . . . . . . . . . . . . . . . . . . . . . . . . . . . . . . . . . . . . . . . . . . . . . . . . . . saving data file to :  ../data_txt/systematics/mock2/act//acf_auto_dmass_mock_0006_nbins20_jk50.txt\n",
      "mock number 7\n",
      "calculate angular correlation function\n",
      "X (670, 2)  centers (50, 2)  tol=1e-05  maxiter=200\n",
      "15 iterations  cluster sizes: [ 8 11 18  5 21  8 14  7 26 16 16 10  8 11 24  7 13 21  9 15 14 16  9 10\n",
      " 12 17 19 13  5 12  7 16 11 13 22 18  9 17 10 16 16 25 21 14 16 11  9  5\n",
      " 14  5]\n",
      "X (112547, 2)  centers (50, 2)  tol=1e-05  maxiter=200\n",
      "51 iterations  cluster sizes: [2843 2096 2425 1619 1078 2573 1441 1803 2616 2406 2626 1985 2158 1618\n",
      " 1466 2741 1669 2512 1701 2385 2569 2535 2510 2672 2630 2627 2796 2593\n",
      " 1133 1701 2494 2499 2520 2625 2878 2650 2643 2307 1664 2975 2727 2104\n",
      " 2620 2608 3117 1491 2224 1536 2132 1206]\n",
      ". . . . . . . . . . . . . . . . . . . . . . . . . . . . . . . . . . . . . . . . . . . . . . . . . . . saving data file to :  ../data_txt/systematics/mock2/act//acf_auto_dmass_mock_0007_nbins20_jk50.txt\n",
      "mock number 8\n",
      "calculate angular correlation function\n",
      "X (670, 2)  centers (50, 2)  tol=1e-05  maxiter=200\n",
      "16 iterations  cluster sizes: [16  8 13 16 22  5 19 11 16 17  8 10  7 22 23  9 11 14 20 15  7 14 18  9\n",
      " 20 19  9  6 25 11  8 22 11  4  8 15 14 13 12 17 11 10 21 12  7 12  4 25\n",
      " 18  6]\n",
      "X (112547, 2)  centers (50, 2)  tol=1e-05  maxiter=200\n",
      "106 iterations  cluster sizes: [2192 1729 2088 2493 2752 1327 2955 2339 2332 2029 2391 2107 1854 2805\n",
      " 2452 2121 2423 1810 2572 1845 1733 1800 2695 1547 1047 2670 2594 1514\n",
      " 2964 2126 2541 2131 2547 1454 1655 2609 2977 2490 2335 2771 2384 2785\n",
      " 2965 1947 2334 2493 2032 2949 1777 2065]\n",
      ". . . . . . . . . . . . . . . . . . . . . . . . . . . . . . . . . . . . . . . . . . . . . . . . . . . saving data file to :  ../data_txt/systematics/mock2/act//acf_auto_dmass_mock_0008_nbins20_jk50.txt\n",
      "mock number 9\n",
      "calculate angular correlation function\n",
      "X (670, 2)  centers (50, 2)  tol=1e-05  maxiter=200\n",
      "22 iterations  cluster sizes: [25 11 13 12 16 14 13 12 14 13 19 11 20 12 20 19 22 13 11 22  6 10 20  9\n",
      " 30 12  8  6 23 12  8 20 11 15 11 12 18  9 13  9  7  8  5 12 12  8  6 11\n",
      " 12 15]\n",
      "X (112547, 2)  centers (50, 2)  tol=1e-05  maxiter=200\n",
      "71 iterations  cluster sizes: [2935 2414 2086 2359 1498 2149 2624 2146 2309 2426 3129 1367 2573 2004\n",
      " 2609 2722 2797 1879 2446 2294 1967 1659 2431 2552 2734 1947 2279 2282\n",
      " 2904 1505 2108 2461 2698 2717 2040 2632 2355 2373 2389 2117 2142 1577\n",
      "  938 2069 2371 2106 1277 2567 1833 2751]\n",
      ". . . . . . . . . . . . . . . . . . . . . . . . . . . . . . . . . . . . . . . . . . . . . . . . . . . saving data file to :  ../data_txt/systematics/mock2/act//acf_auto_dmass_mock_0009_nbins20_jk50.txt\n",
      "mock number 10\n",
      "calculate angular correlation function\n",
      "X (670, 2)  centers (50, 2)  tol=1e-05  maxiter=200\n",
      "15 iterations  cluster sizes: [ 6 10 22  9 11  9  6 12 16 20 10  9  5 25 12 24 16 11 15  9 15  9 17 13\n",
      " 18 17 11 15 16  9  9 24 18  9 28 28  6  6 10  8  6 14 10 15 12  9 16  9\n",
      " 21 15]\n",
      "X (112547, 2)  centers (50, 2)  tol=1e-05  maxiter=200\n",
      "84 iterations  cluster sizes: [2708 2331 2415 2343 2527 2411 2241 1706 1935 2577 1603 2365 1962 2868\n",
      " 2703 3014 1741 2138 2097 1926 2349 2299 2418 2325 2662 2655 2213 2074\n",
      " 2112 2439 2436 2187 2355 2079 2555 2358 2067 2247 2450 1039 2377 2081\n",
      " 2282 2398 1909 2295 2115 2154 1923 2083]\n"
     ]
    },
    {
     "name": "stdout",
     "output_type": "stream",
     "text": [
      ". . . . . . . . . . . . . . . . . . . . . . . . . . . . . . . . . . . . . . . . . . . . . . . . . . . saving data file to :  ../data_txt/systematics/mock2/act//acf_auto_dmass_mock_0010_nbins20_jk50.txt\n"
     ]
    }
   ],
   "source": [
    "#tree corr\n",
    "from systematics_module.corr import angular_correlation\n",
    "os.system('mkdir '+basedir)\n",
    "for i in range(mock_num):\n",
    "    print 'mock number', i+1\n",
    "    dmass = fitsio.read('../output/mock2/dmass_spt_{:04}.fits'.format(i+1))\n",
    "    angular_correlation(data = dmass, rand = rand2, nbins=20, njack = 50, \n",
    "                        suffix = '_dmass_mock_{:04}_nbins20_jk50'.format(i+1), dir = basedir)"
   ]
  },
  {
   "cell_type": "code",
   "execution_count": null,
   "metadata": {},
   "outputs": [],
   "source": [
    "mock_num = 7"
   ]
  },
  {
   "cell_type": "code",
   "execution_count": 20,
   "metadata": {
    "scrolled": false
   },
   "outputs": [
    {
     "name": "stdout",
     "output_type": "stream",
     "text": [
      "err db, db / br1, brmin, br2 : 0.03590854496960039 -0.039508259953782154 0.9625098882905107 0.9806285364322685 0.998418433260111\n",
      "err db, db / br1, brmin, br2 : 0.03460201158116716 0.02346525694663537 0.9944032218137222 1.0118719172678878 1.0290052333948894\n",
      "err db, db / br1, brmin, br2 : 0.042053378657318174 -0.017059174197961546 0.9702928906565954 0.9915425514451033 1.0123462693139136\n",
      "err db, db / br1, brmin, br2 : 0.023787407498276236 0.03137250238688427 1.0039729041754382 1.015936230914646 1.0277603116737144\n",
      "err db, db / br1, brmin, br2 : 0.03516905316118257 -0.06553878119039913 0.950505492955421 0.9682703700423246 0.9856745461166035\n",
      "err db, db / br1, brmin, br2 : 0.031204072006083217 -0.022995108740433867 0.9729282182481772 0.9886331367579276 1.0041322902542604\n",
      "err db, db / br1, brmin, br2 : 0.036031704134412035 -0.0076856037815464795 0.9779730498624446 0.9961719087056906 1.0140047539968566\n",
      "err db, db / br1, brmin, br2 : 0.04366645958031601 0.05320971378556982 1.0052472852094076 1.0273320214110155 1.0489137447897237\n",
      "err db, db / br1, brmin, br2 : 0.03583179211866838 0.023233518627161276 0.9936787607148998 1.0117532945070102 1.0295105528335682\n",
      "err db, db / br1, brmin, br2 : 0.03240578178843678 -0.012152276301228504 0.9776457222489373 0.9939605583313171 1.010051504037374\n"
     ]
    },
    {
     "name": "stderr",
     "output_type": "stream",
     "text": [
      "/n/home00/lee.5922/.local/lib/python2.7/site-packages/matplotlib/axes/_axes.py:545: UserWarning: No labelled objects found. Use label='...' kwarg on individual plots.\n",
      "  warnings.warn(\"No labelled objects found. \"\n"
     ]
    },
    {
     "name": "stdout",
     "output_type": "stream",
     "text": [
      "pic save to  ../data_txt/systematics/mock2/bias_weight.png\n"
     ]
    },
    {
     "data": {
      "image/png": "[encoded data removed]",
      "text/plain": [
       "<matplotlib.figure.Figure at 0x7fa718a32350>"
      ]
     },
     "metadata": {},
     "output_type": "display_data"
    }
   ],
   "source": [
    "import scipy\n",
    "theta_th, theory_sgc = np.loadtxt('../data_txt/acf_cmass_sgc_theory.txt', unpack=True)\n",
    "\n",
    "theory_sgc_interp = scipy.interpolate.interp1d(theta_th, theory_sgc)\n",
    "#theory_sgc_interp = theory_sgc_interp(meanr)\n",
    "\n",
    "fig, ax = plt.subplots(figsize = (3,7))\n",
    "brelsqr = np.linspace(0.8, 1.2, 5000) \n",
    "b_n = 2.0\n",
    "brelarr = np.sqrt(brelsqr)\n",
    "dbarray = b_n*(1-brelarr)\n",
    "HF = lambda Nr,Nbin: (Nr-Nbin-2) *1./(Nr-1)\n",
    "\n",
    "brelall = []\n",
    "for j in range(mock_num):\n",
    "    \n",
    "    filename = basedir+ 'acf_auto_dmass_mock_{:04}_nbins20_jk50.txt'.format(j+1)\n",
    "    covname = basedir+ 'acf_auto_dmass_mock_{:04}_nbins20_jk50.cov'.format(j+1)\n",
    "    meanrw, xiw, xi_errw = np.loadtxt( filename, unpack=True)\n",
    "    cov_dmass_w = np.loadtxt( covname, unpack=True)\n",
    "    HFd = HF(100, 10)\n",
    "    F_d = HFd * np.linalg.inv(cov_dmass_w)\n",
    "    err_brelw, brelw, chisqr_resultw = brel_chisqr_fitting(xiw, theory_sgc_interp(meanrw), F_d, verbose=True)   \n",
    "    #ax.errorbar(2.-2*brelw, mock_num+1-j, xerr =err_brelw*2., fmt='-|', color='k')\n",
    "    ax.errorbar(2*brelw, mock_num+1-j, xerr =err_brelw*2., fmt='-|', color='k')\n",
    "    brelall.append(brelw)\n",
    "\n",
    "\n",
    "ax.axvspan(2.- err_brelw*2, 2 + err_brelw*2.,  alpha=0.1, color='grey')\n",
    "ax.axvline(x=2.0, color = 'grey', ls='--')\n",
    "brelall = np.array(brelall)\n",
    "brelallmean = np.mean(brelall)\n",
    "brelallstd = np.std(brelall)\n",
    "ax.axvspan(2.- brelallstd*2, 2 + brelallstd*2.,  alpha=0.2, color='grey')\n",
    "ax.axvline(x=brelallmean*2, color = 'grey', ls='--')\n",
    " \n",
    "#ax.set_xlabel(r'$\\Delta b = b_{th} - b_x$', fontsize = 20)\n",
    "ax.set_xlabel(r'$b$', fontsize = 20)\n",
    "#ax.set_ylabel(r'$\\chi^2$')\n",
    "ax.legend(loc=1)\n",
    "#ax.set_xlim(-0.1, 0.1)\n",
    "#ax.set_yticks([1,2,3,4,5,6,7,8,9,10,11,12])\n",
    "#ax.set_yticks(np.arange(1, mock_num+1 ))\n",
    "ax.set_yticklabels( '', fontsize = 15) \n",
    "fig.savefig(rootdir + 'bias_weight.png')\n",
    "print 'pic save to ', rootdir + 'bias_weight.png'"
   ]
  },
  {
   "cell_type": "code",
   "execution_count": 68,
   "metadata": {
    "collapsed": true
   },
   "outputs": [
    {
     "name": "stdout",
     "output_type": "stream",
     "text": [
      "saving fig to  ../figure/hist_z_test.png\n"
     ]
    },
    {
     "data": {
      "image/png": "[encoded data removed]",
      "text/plain": [
       "<matplotlib.figure.Figure at 0x7fa31fb69790>"
      ]
     },
     "metadata": {},
     "output_type": "display_data"
    }
   ],
   "source": [
    "#dmass1 = fitsio.read('../output/mock/dmass_spt_{:04}.fits'.format(1))\n",
    "#dmass2 = fitsio.read('../output/mock/dmass_spt_{:04}.fits'.format(2))\n",
    "\n",
    "dmasslist = [ fitsio.read('../output/mock/dmass_spt_{:04}.fits'.format(i+1)) for i in range(10)]\n",
    "doVisualization_z( cats = dmasslist, labels = None, suffix = 'test', zlabel = 'DESDM_ZP', outdir='../figure/' )\n"
   ]
  },
  {
   "cell_type": "code",
   "execution_count": 35,
   "metadata": {},
   "outputs": [
    {
     "data": {
      "text/plain": [
       "<matplotlib.text.Text at 0x7fa38b35e190>"
      ]
     },
     "execution_count": 35,
     "metadata": {},
     "output_type": "execute_result"
    },
    {
     "data": {
      "image/png": "[encoded data removed]",
      "text/plain": [
       "<matplotlib.figure.Figure at 0x7fa397083e10>"
      ]
     },
     "metadata": {},
     "output_type": "display_data"
    }
   ],
   "source": [
    "\n",
    "theta_th, theory = np.loadtxt('../data_txt/acf_cmass_ngc_theory.txt', unpack=True)\n",
    "theta_th, theory_sgc = np.loadtxt('../data_txt/acf_cmass_sgc_theory.txt', unpack=True)\n",
    "\n",
    "#_, theory_bias = np.loadtxt('../data_txt/acf_cmass_sgc_theory_bias.txt', unpack=True)\n",
    "\n",
    "#theory_interp = scipy.interpolate.interp1d(theta_th, theory)\n",
    "#theory_interp = theory_interp(meanr)\n",
    "#theory_sgc_interp = scipy.interpolate.interp1d(theta_th, theory_sgc)\n",
    "#theory_sgc_interp = theory_sgc_interp(meanr)\n",
    "\n",
    "mock_num = 72\n",
    "\n",
    "fig, ax = plt.subplots(figsize = (13, 10))\n",
    "for j in range(mock_num):\n",
    "    \n",
    "    filename = basedir+ 'acf_auto_dmass_mock_{:04}_nbins10_jk100.txt'.format(j+1)\n",
    "    covname = basedir+ 'acf_auto_dmass_mock_{:04}_nbins10_jk100.cov'.format(j+1)\n",
    "    meanrw, xiw, xi_errw = np.loadtxt( filename, unpack=True)\n",
    "    cov_dmass_w = np.loadtxt( covname, unpack=True)\n",
    "    HFd = HF(100, 10)\n",
    "    F_d = HFd * np.linalg.inv(cov_dmass_w)\n",
    "    #err_brelw, brelw, chisqr_resultw = brel_chisqr_fitting(xiw, theory_sgc_interp(meanrw), F_d, verbose=True)\n",
    "    ax.errorbar(meanrw, xiw, yerr = xi_errw, fmt = '-', color='grey', alpha=0.1)\n",
    "    \n",
    "ax.plot(theta_th, theory_sgc, '-', color='k', label='theory sgc')\n",
    "ax.set_xscale('log')\n",
    "ax.set_yscale('log')\n",
    "ax.legend(loc = 'best', fontsize = 12)\n",
    "#ax.text(1.5, 0.07, r'$\\chi^2 $ = {:0.3f}  (south)'.format(chisqr), fontsize = 12)\n",
    "ax.set_ylim(1e-4,1)\n",
    "ax.set_xlim(2.5/60, 250./60)\n",
    "ax.set_xlabel(r'$\\theta$ (deg)', fontsize = 15)\n",
    "ax.set_ylabel(r'$\\omega(\\theta)$', fontsize = 15)"
   ]
  },
  {
   "cell_type": "code",
   "execution_count": null,
   "metadata": {},
   "outputs": [],
   "source": []
  },
  {
   "cell_type": "markdown",
   "metadata": {},
   "source": [
    "# Weight "
   ]
  },
  {
   "cell_type": "code",
   "execution_count": 9,
   "metadata": {},
   "outputs": [],
   "source": [
    "kind = 'SPT'\n",
    "FullArea = SPTMaparea\n",
    "#def CalculteGalaxyNgal(data, ):\n",
    "#properties = ['DEPTH','EXPTIME']\n",
    "#properties = ['DEPTH', 'EXPTIME', 'AIRMASS', 'SKYBRITE', 'FWHM', 'NSTARS']\n",
    "properties = ['DEPTH', 'EXPTIME', 'AIRMASS', 'SKYBRITE', 'FWHM', 'NSTARS_allband','GE']\n",
    "#properties = ['FWHM']\n",
    "suffix='no_weight'"
   ]
  },
  {
   "cell_type": "code",
   "execution_count": 11,
   "metadata": {
    "collapsed": true
   },
   "outputs": [
    {
     "name": "stdout",
     "output_type": "stream",
     "text": [
      "\n",
      "PATH =  /n/des/lee.5922/data/systematic_maps/Y1A1NEW_COADD_SPT/nside4096_oversamp4/\n",
      "Y1A1NEW_COADD_SPT_band_g_nside4096_oversamp4_maglimit3__.fits.gz\n",
      "NSIDE = 4096\n",
      "ORDERING = RING in fits file\n",
      "INDXSCHM = EXPLICIT\n",
      "\n",
      "PATH =  /n/des/lee.5922/data/systematic_maps/Y1A1NEW_COADD_SPT/nside4096_oversamp4/\n",
      "Y1A1NEW_COADD_SPT_band_r_nside4096_oversamp4_maglimit3__.fits.gz\n",
      "NSIDE = 4096\n",
      "ORDERING = RING in fits file\n",
      "INDXSCHM = EXPLICIT\n",
      "\n",
      "PATH =  /n/des/lee.5922/data/systematic_maps/Y1A1NEW_COADD_SPT/nside4096_oversamp4/\n",
      "Y1A1NEW_COADD_SPT_band_i_nside4096_oversamp4_maglimit3__.fits.gz\n",
      "NSIDE = 4096\n",
      "ORDERING = RING in fits file\n",
      "INDXSCHM = EXPLICIT\n",
      "\n",
      "PATH =  /n/des/lee.5922/data/systematic_maps/Y1A1NEW_COADD_SPT/nside4096_oversamp4/\n",
      "Y1A1NEW_COADD_SPT_band_z_nside4096_oversamp4_maglimit3__.fits.gz\n",
      "NSIDE = 4096\n",
      "ORDERING = RING in fits file\n",
      "INDXSCHM = EXPLICIT\n",
      "\n",
      "PATH =  /n/des/lee.5922/data/systematic_maps/Y1A1NEW_COADD_SPT/nside4096_oversamp4/\n",
      "Y1A1NEW_COADD_SPT_band_g_nside4096_oversamp4_EXPTIME__total.fits.gz\n",
      "NSIDE = 4096\n",
      "ORDERING = RING in fits file\n",
      "INDXSCHM = EXPLICIT\n",
      "\n",
      "PATH =  /n/des/lee.5922/data/systematic_maps/Y1A1NEW_COADD_SPT/nside4096_oversamp4/\n",
      "Y1A1NEW_COADD_SPT_band_r_nside4096_oversamp4_EXPTIME__total.fits.gz\n",
      "NSIDE = 4096\n",
      "ORDERING = RING in fits file\n",
      "INDXSCHM = EXPLICIT\n",
      "\n",
      "PATH =  /n/des/lee.5922/data/systematic_maps/Y1A1NEW_COADD_SPT/nside4096_oversamp4/\n",
      "Y1A1NEW_COADD_SPT_band_i_nside4096_oversamp4_EXPTIME__total.fits.gz\n",
      "NSIDE = 4096\n",
      "ORDERING = RING in fits file\n",
      "INDXSCHM = EXPLICIT\n",
      "\n",
      "PATH =  /n/des/lee.5922/data/systematic_maps/Y1A1NEW_COADD_SPT/nside4096_oversamp4/\n",
      "Y1A1NEW_COADD_SPT_band_z_nside4096_oversamp4_EXPTIME__total.fits.gz\n",
      "NSIDE = 4096\n",
      "ORDERING = RING in fits file\n",
      "INDXSCHM = EXPLICIT\n",
      "\n",
      "PATH =  /n/des/lee.5922/data/systematic_maps/Y1A1NEW_COADD_SPT/nside4096_oversamp4/\n",
      "Y1A1NEW_COADD_SPT_band_g_nside4096_oversamp4_AIRMASS_coaddweights3_mean.fits.gz\n",
      "NSIDE = 4096\n",
      "ORDERING = RING in fits file\n",
      "INDXSCHM = EXPLICIT\n",
      "\n",
      "PATH =  /n/des/lee.5922/data/systematic_maps/Y1A1NEW_COADD_SPT/nside4096_oversamp4/\n",
      "Y1A1NEW_COADD_SPT_band_r_nside4096_oversamp4_AIRMASS_coaddweights3_mean.fits.gz\n",
      "NSIDE = 4096\n",
      "ORDERING = RING in fits file\n",
      "INDXSCHM = EXPLICIT\n",
      "\n",
      "PATH =  /n/des/lee.5922/data/systematic_maps/Y1A1NEW_COADD_SPT/nside4096_oversamp4/\n",
      "Y1A1NEW_COADD_SPT_band_i_nside4096_oversamp4_AIRMASS_coaddweights3_mean.fits.gz\n",
      "NSIDE = 4096\n",
      "ORDERING = RING in fits file\n",
      "INDXSCHM = EXPLICIT\n",
      "\n",
      "PATH =  /n/des/lee.5922/data/systematic_maps/Y1A1NEW_COADD_SPT/nside4096_oversamp4/\n",
      "Y1A1NEW_COADD_SPT_band_z_nside4096_oversamp4_AIRMASS_coaddweights3_mean.fits.gz\n",
      "NSIDE = 4096\n",
      "ORDERING = RING in fits file\n",
      "INDXSCHM = EXPLICIT\n",
      "\n",
      "PATH =  /n/des/lee.5922/data/systematic_maps/Y1A1NEW_COADD_SPT/nside4096_oversamp4/\n",
      "Y1A1NEW_COADD_SPT_band_g_nside4096_oversamp4_SKYBRITE_coaddweights3_mean.fits.gz\n",
      "NSIDE = 4096\n",
      "ORDERING = RING in fits file\n",
      "INDXSCHM = EXPLICIT\n",
      "\n",
      "PATH =  /n/des/lee.5922/data/systematic_maps/Y1A1NEW_COADD_SPT/nside4096_oversamp4/\n",
      "Y1A1NEW_COADD_SPT_band_r_nside4096_oversamp4_SKYBRITE_coaddweights3_mean.fits.gz\n",
      "NSIDE = 4096\n",
      "ORDERING = RING in fits file\n",
      "INDXSCHM = EXPLICIT\n",
      "\n",
      "PATH =  /n/des/lee.5922/data/systematic_maps/Y1A1NEW_COADD_SPT/nside4096_oversamp4/\n",
      "Y1A1NEW_COADD_SPT_band_i_nside4096_oversamp4_SKYBRITE_coaddweights3_mean.fits.gz\n",
      "NSIDE = 4096\n",
      "ORDERING = RING in fits file\n",
      "INDXSCHM = EXPLICIT\n",
      "\n",
      "PATH =  /n/des/lee.5922/data/systematic_maps/Y1A1NEW_COADD_SPT/nside4096_oversamp4/\n",
      "Y1A1NEW_COADD_SPT_band_z_nside4096_oversamp4_SKYBRITE_coaddweights3_mean.fits.gz\n",
      "NSIDE = 4096\n",
      "ORDERING = RING in fits file\n",
      "INDXSCHM = EXPLICIT\n",
      "\n",
      "PATH =  /n/des/lee.5922/data/systematic_maps/seeing_i_spt/\n",
      "Y1A1NEW_COADD_SPT_band_g_nside4096_oversamp4_FWHM_MEAN_coaddweights3_mean.fits.gz\n",
      "NSIDE = 4096\n",
      "ORDERING = RING in fits file\n",
      "INDXSCHM = EXPLICIT\n",
      "\n",
      "PATH =  /n/des/lee.5922/data/systematic_maps/seeing_i_spt/\n",
      "Y1A1NEW_COADD_SPT_band_r_nside4096_oversamp4_FWHM_MEAN_coaddweights3_mean.fits.gz\n",
      "NSIDE = 4096\n",
      "ORDERING = RING in fits file\n",
      "INDXSCHM = EXPLICIT\n",
      "\n",
      "PATH =  /n/des/lee.5922/data/systematic_maps/seeing_i_spt/\n",
      "Y1A1NEW_COADD_SPT_band_i_nside4096_oversamp4_FWHM_MEAN_coaddweights3_mean.fits.gz\n",
      "NSIDE = 4096\n",
      "ORDERING = RING in fits file\n",
      "INDXSCHM = EXPLICIT\n",
      "\n",
      "PATH =  /n/des/lee.5922/data/systematic_maps/seeing_i_spt/\n",
      "Y1A1NEW_COADD_SPT_band_z_nside4096_oversamp4_FWHM_MEAN_coaddweights3_mean.fits.gz\n",
      "NSIDE = 4096\n",
      "ORDERING = RING in fits file\n",
      "INDXSCHM = EXPLICIT\n",
      "\n",
      "PATH =  /n/des/lee.5922/data/systematic_maps/Y1A1NEW_COADD_SPT/nside4096_oversamp4/\n",
      "y1a1_gold_1.0.2_stars_nside1024.fits\n",
      "NSIDE = 1024\n",
      "ORDERING = RING in fits file\n",
      "INDXSCHM = IMPLICIT\n",
      "DOWNGRADE =  1024\n"
     ]
    }
   ],
   "source": [
    "# calculating galaxy density and weights iterately\n",
    "sysMap = calling_sysMap( properties=properties, kind='SPT', nside=4096 )"
   ]
  },
  {
   "cell_type": "code",
   "execution_count": 12,
   "metadata": {},
   "outputs": [
    {
     "name": "stdout",
     "output_type": "stream",
     "text": [
      "112398 108272\n",
      "mask  0.9632911617644442\n",
      "510791 494623\n",
      "mask  0.9683471321930105\n",
      "2550725 2470300\n",
      "mask  0.9684697487969107\n"
     ]
    }
   ],
   "source": [
    "dmass_masked = maskingCatalogSP(catalog=dmass, sysMap=sysMap)\n",
    "rand_masked = maskingCatalogSP(catalog=rand, sysMap=sysMap)\n",
    "rand2_masked = maskingCatalogSP(catalog=rand2, sysMap=sysMap)"
   ]
  },
  {
   "cell_type": "code",
   "execution_count": 262,
   "metadata": {},
   "outputs": [
    {
     "name": "stdout",
     "output_type": "stream",
     "text": [
      "ge_g\n",
      "fwhm_r\n",
      "airmass_z\n",
      "skybrite_i\n",
      "skybrite_r\n",
      "fwhm_i\n",
      "airmass_r\n",
      "skybrite_z\n",
      "fwhm_g\n",
      "airmass_g\n",
      "exptime_z\n",
      "exptime_g\n"
     ]
    }
   ],
   "source": [
    "weightname = 'wg_ge_g_fwhm_r_airmass_z_skybrite_i_skybrite_r_fwhm_i_airmass_r_skybrite_z_fwhm_g_airmass_g_exptime_z_exptime_g'\n",
    "weightname = weightname.split('_')[1:]\n",
    "order = []\n",
    "for i in np.arange(0, len(weightname), 2):\n",
    "    print weightname[i]+'_'+ weightname[i+1]\n",
    "    order.append(weightname[i]+'_'+ weightname[i+1] )"
   ]
  },
  {
   "cell_type": "code",
   "execution_count": 31,
   "metadata": {},
   "outputs": [],
   "source": [
    "rootdir ='../data_txt/systematics/6th_include_ge/'\n",
    "basedir = rootdir+'act/'\n",
    "wdir = rootdir+'weights/'\n",
    "os.system('mkdir '+basedir)\n",
    "os.system('mkdir '+wdir)\n",
    "#order = ['ge_g', 'fwhm_r', 'airmass_z', 'skybrite_i', 'airmass_g', 'fwhm_i', 'airmass_i', 'fwhm_g', 'skybrite_r', 'fwhm_z']\n",
    "#order = ['fwhm_r','airmass_z', 'airmass_i', 'skybrite_i', 'skybrite_r', 'airmass_r', 'airmass_g', \\\n",
    "#         'nstars_allband_g', 'depth_i', 'exptime_g', 'fwhm_g', 'fwhm_z', 'exptime_z', 'depth_r', \\\n",
    "#         'fwhm_i', 'exptime_i', 'depth_g']\n",
    "weightslist = [fitsio.read(wdir+'wg_'+o+'_SPT.fits') for o in order]\n",
    "all_weight = np.ones(weightslist[0].size)\n",
    "#for w in weightslist: all_weight *= w"
   ]
  },
  {
   "cell_type": "code",
   "execution_count": 32,
   "metadata": {},
   "outputs": [
    {
     "data": {
      "text/plain": [
       "0"
      ]
     },
     "execution_count": 32,
     "metadata": {},
     "output_type": "execute_result"
    }
   ],
   "source": [
    "os.system('cp ../data_txt/systematics/4th/act/acf_auto_dmass_nbins10_jk100.* '+basedir+'/.')\n",
    "os.system('cp ../data_txt/systematics/4th/act/acf_auto_dmass_veto_nbins10_jk100.* '+basedir+'.')"
   ]
  },
  {
   "cell_type": "code",
   "execution_count": 264,
   "metadata": {
    "collapsed": true
   },
   "outputs": [
    {
     "name": "stdout",
     "output_type": "stream",
     "text": [
      "calculate angular correlation function\n",
      "X (1000, 2)  centers (100, 2)  tol=1e-05  maxiter=200\n",
      "12 iterations  cluster sizes: [ 7  4  5 14  7  7  9  8 12  4  5  7  5  6 18 17 13 12  7  0  3  8  6  9\n",
      "  5 15  7 19 13 13  8 17 10 12 10 11 18  9  7  9 15 12  8 18  5  3  8  4\n",
      " 11  7 19 14 14 13 10  7  4  9 11  4 14 13 15 14  4 22 10 10  9 11 16  7\n",
      " 15 12  1 12 11 15 12 12 14  9  8 14 11  8  2 11  7 14 10  5  4 12  8 13\n",
      " 11 12 12  8]\n",
      "X (112398, 2)  centers (100, 2)  tol=1e-05  maxiter=200\n",
      "116 iterations  cluster sizes: [1027 1051  981 1273 1274  921 1229 1215  983  873 1057 1320 1067 1228\n",
      " 1407 1294 1143 1149 1019 1028  951  942  983 1178 1350 1370 1165 1287\n",
      " 1041 1123 1221 1191 1115 1224 1348 1068 1384 1164 1102  983 1350 1227\n",
      " 1116  994 1253 1254 1178  857 1244  802 1310  870 1145 1137 1051  796\n",
      " 1012 1384  937 1211 1189 1013 1181 1267  822 1192 1439 1350 1094  893\n",
      " 1062  993 1131  899  910 1129  858 1559  790 1099 1403 1063 1145 1449\n",
      " 1009 1060 1107 1032  894 1230 1012  959 1188 1132 1303 1216 1111 1234\n",
      " 1152  972]\n",
      ". . . . . . . . . . . . . . . . . . . . . . . . . . . . . . . . . . . . . . . . . . . . . . . . . . . . . . . . . . . . . . . . . . . . . . . . . . . . . . . . . . . . . . . . ."
     ]
    },
    {
     "name": "stderr",
     "output_type": "stream",
     "text": [
      "Exception KeyboardInterrupt in <bound method NNCorrelation.__del__ of NNCorrelation(config={'nbins': 10, 'split_method': 'mean', 'verbose': 1, 'min_sep': 0.041666666666666664, 'max_sep': 4.166666666666667, 'sep_units': 'deg', 'metric': 'Euclidean', 'precision': 4, 'pairwise': False, 'max_top': 10, 'm2_uform': 'Crittenden'})> ignored\n"
     ]
    },
    {
     "name": "stdout",
     "output_type": "stream",
     "text": [
      " ."
     ]
    },
    {
     "name": "stderr",
     "output_type": "stream",
     "text": [
      "ERROR:root:Internal Python error in the inspect module.\n",
      "Below is the traceback from this internal error.\n",
      "\n"
     ]
    },
    {
     "name": "stdout",
     "output_type": "stream",
     "text": [
      "Traceback (most recent call last):\n",
      "  File \"/n/home00/lee.5922/.local/lib/python2.7/site-packages/IPython/core/ultratb.py\", line 1132, in get_records\n",
      "    return _fixed_getinnerframes(etb, number_of_lines_of_context, tb_offset)\n",
      "  File \"/n/home00/lee.5922/.local/lib/python2.7/site-packages/IPython/core/ultratb.py\", line 313, in wrapped\n",
      "    return f(*args, **kwargs)\n",
      "  File \"/n/home00/lee.5922/.local/lib/python2.7/site-packages/IPython/core/ultratb.py\", line 376, in _fixed_getinnerframes\n",
      "    lines = ulinecache.getlines(file)[start:end]\n",
      "  File \"/n/home00/lee.5922/.local/lib/python2.7/site-packages/IPython/utils/ulinecache.py\", line 37, in getlines\n",
      "    return [l.decode(encoding, 'replace') for l in lines]\n",
      "KeyboardInterrupt\n"
     ]
    },
    {
     "ename": "IndexError",
     "evalue": "string index out of range",
     "output_type": "error",
     "traceback": [
      "\u001b[0;31m---------------------------------------------------------------------------\u001b[0m",
      "\u001b[0;31mIndexError\u001b[0m                                Traceback (most recent call last)",
      "\u001b[0;32m/n/home00/lee.5922/.local/lib/python2.7/site-packages/IPython/core/interactiveshell.pyc\u001b[0m in \u001b[0;36mrun_code\u001b[0;34m(self, code_obj, result)\u001b[0m\n\u001b[1;32m   2893\u001b[0m             \u001b[0;32mif\u001b[0m \u001b[0mresult\u001b[0m \u001b[0;32mis\u001b[0m \u001b[0;32mnot\u001b[0m \u001b[0mNone\u001b[0m\u001b[0;34m:\u001b[0m\u001b[0;34m\u001b[0m\u001b[0m\n\u001b[1;32m   2894\u001b[0m                 \u001b[0mresult\u001b[0m\u001b[0;34m.\u001b[0m\u001b[0merror_in_exec\u001b[0m \u001b[0;34m=\u001b[0m \u001b[0msys\u001b[0m\u001b[0;34m.\u001b[0m\u001b[0mexc_info\u001b[0m\u001b[0;34m(\u001b[0m\u001b[0;34m)\u001b[0m\u001b[0;34m[\u001b[0m\u001b[0;36m1\u001b[0m\u001b[0;34m]\u001b[0m\u001b[0;34m\u001b[0m\u001b[0m\n\u001b[0;32m-> 2895\u001b[0;31m             \u001b[0mself\u001b[0m\u001b[0;34m.\u001b[0m\u001b[0mshowtraceback\u001b[0m\u001b[0;34m(\u001b[0m\u001b[0;34m)\u001b[0m\u001b[0;34m\u001b[0m\u001b[0m\n\u001b[0m\u001b[1;32m   2896\u001b[0m         \u001b[0;32melse\u001b[0m\u001b[0;34m:\u001b[0m\u001b[0;34m\u001b[0m\u001b[0m\n\u001b[1;32m   2897\u001b[0m             \u001b[0moutflag\u001b[0m \u001b[0;34m=\u001b[0m \u001b[0;36m0\u001b[0m\u001b[0;34m\u001b[0m\u001b[0m\n",
      "\u001b[0;32m/n/home00/lee.5922/.local/lib/python2.7/site-packages/IPython/core/interactiveshell.pyc\u001b[0m in \u001b[0;36mshowtraceback\u001b[0;34m(self, exc_tuple, filename, tb_offset, exception_only)\u001b[0m\n\u001b[1;32m   1824\u001b[0m                     \u001b[0;32mexcept\u001b[0m \u001b[0mException\u001b[0m\u001b[0;34m:\u001b[0m\u001b[0;34m\u001b[0m\u001b[0m\n\u001b[1;32m   1825\u001b[0m                         stb = self.InteractiveTB.structured_traceback(etype,\n\u001b[0;32m-> 1826\u001b[0;31m                                             value, tb, tb_offset=tb_offset)\n\u001b[0m\u001b[1;32m   1827\u001b[0m \u001b[0;34m\u001b[0m\u001b[0m\n\u001b[1;32m   1828\u001b[0m                     \u001b[0mself\u001b[0m\u001b[0;34m.\u001b[0m\u001b[0m_showtraceback\u001b[0m\u001b[0;34m(\u001b[0m\u001b[0metype\u001b[0m\u001b[0;34m,\u001b[0m \u001b[0mvalue\u001b[0m\u001b[0;34m,\u001b[0m \u001b[0mstb\u001b[0m\u001b[0;34m)\u001b[0m\u001b[0;34m\u001b[0m\u001b[0m\n",
      "\u001b[0;32m/n/home00/lee.5922/.local/lib/python2.7/site-packages/IPython/core/ultratb.pyc\u001b[0m in \u001b[0;36mstructured_traceback\u001b[0;34m(self, etype, value, tb, tb_offset, number_of_lines_of_context)\u001b[0m\n\u001b[1;32m   1409\u001b[0m         \u001b[0mself\u001b[0m\u001b[0;34m.\u001b[0m\u001b[0mtb\u001b[0m \u001b[0;34m=\u001b[0m \u001b[0mtb\u001b[0m\u001b[0;34m\u001b[0m\u001b[0m\n\u001b[1;32m   1410\u001b[0m         return FormattedTB.structured_traceback(\n\u001b[0;32m-> 1411\u001b[0;31m             self, etype, value, tb, tb_offset, number_of_lines_of_context)\n\u001b[0m\u001b[1;32m   1412\u001b[0m \u001b[0;34m\u001b[0m\u001b[0m\n\u001b[1;32m   1413\u001b[0m \u001b[0;34m\u001b[0m\u001b[0m\n",
      "\u001b[0;32m/n/home00/lee.5922/.local/lib/python2.7/site-packages/IPython/core/ultratb.pyc\u001b[0m in \u001b[0;36mstructured_traceback\u001b[0;34m(self, etype, value, tb, tb_offset, number_of_lines_of_context)\u001b[0m\n\u001b[1;32m   1317\u001b[0m             \u001b[0;31m# Verbose modes need a full traceback\u001b[0m\u001b[0;34m\u001b[0m\u001b[0;34m\u001b[0m\u001b[0m\n\u001b[1;32m   1318\u001b[0m             return VerboseTB.structured_traceback(\n\u001b[0;32m-> 1319\u001b[0;31m                 \u001b[0mself\u001b[0m\u001b[0;34m,\u001b[0m \u001b[0metype\u001b[0m\u001b[0;34m,\u001b[0m \u001b[0mvalue\u001b[0m\u001b[0;34m,\u001b[0m \u001b[0mtb\u001b[0m\u001b[0;34m,\u001b[0m \u001b[0mtb_offset\u001b[0m\u001b[0;34m,\u001b[0m \u001b[0mnumber_of_lines_of_context\u001b[0m\u001b[0;34m\u001b[0m\u001b[0m\n\u001b[0m\u001b[1;32m   1320\u001b[0m             )\n\u001b[1;32m   1321\u001b[0m         \u001b[0;32melse\u001b[0m\u001b[0;34m:\u001b[0m\u001b[0;34m\u001b[0m\u001b[0m\n",
      "\u001b[0;32m/n/home00/lee.5922/.local/lib/python2.7/site-packages/IPython/core/ultratb.pyc\u001b[0m in \u001b[0;36mstructured_traceback\u001b[0;34m(self, etype, evalue, etb, tb_offset, number_of_lines_of_context)\u001b[0m\n\u001b[1;32m   1202\u001b[0m                 \u001b[0mstructured_traceback_parts\u001b[0m \u001b[0;34m+=\u001b[0m \u001b[0mformatted_exception\u001b[0m\u001b[0;34m\u001b[0m\u001b[0m\n\u001b[1;32m   1203\u001b[0m         \u001b[0;32melse\u001b[0m\u001b[0;34m:\u001b[0m\u001b[0;34m\u001b[0m\u001b[0m\n\u001b[0;32m-> 1204\u001b[0;31m             \u001b[0mstructured_traceback_parts\u001b[0m \u001b[0;34m+=\u001b[0m \u001b[0mformatted_exception\u001b[0m\u001b[0;34m[\u001b[0m\u001b[0;36m0\u001b[0m\u001b[0;34m]\u001b[0m\u001b[0;34m\u001b[0m\u001b[0m\n\u001b[0m\u001b[1;32m   1205\u001b[0m \u001b[0;34m\u001b[0m\u001b[0m\n\u001b[1;32m   1206\u001b[0m         \u001b[0;32mreturn\u001b[0m \u001b[0mstructured_traceback_parts\u001b[0m\u001b[0;34m\u001b[0m\u001b[0m\n",
      "\u001b[0;31mIndexError\u001b[0m: string index out of range"
     ]
    }
   ],
   "source": [
    "angular_correlation(data = dmass, rand = rand2, nbins=10, weight = None, njack = 100, \n",
    "                        suffix = '_dmass_nbins10_jk100', dir = basedir)"
   ]
  },
  {
   "cell_type": "code",
   "execution_count": 33,
   "metadata": {
    "scrolled": true
   },
   "outputs": [
    {
     "name": "stdout",
     "output_type": "stream",
     "text": [
      "1 ge_g\n",
      "calculate angular correlation function\n",
      "X (1000, 2)  centers (100, 2)  tol=1e-05  maxiter=200\n",
      "13 iterations  cluster sizes: [12  8 11 10 11  4  9 15 10 37  5  7  7  8 10  7 12  7  8  7 14 15 11  8\n",
      "  7  6 32 25 14 11  9 10  9  7  4 16 16  5 12  9 13 12  7 10  2  4  0  8\n",
      " 12  7 10  4  7 13  7 12  9  9 11 13  8  4 14  9  9  8 10 10 12 12 11  8\n",
      " 10 11  5  5  5  9  8 10  8  8 11  6 16 15  8 13  9 10  5 20 11 11  5  8\n",
      " 11  9 12 11]\n",
      "X (108272, 2)  centers (100, 2)  tol=1e-05  maxiter=200\n",
      "131 iterations  cluster sizes: [1300 1509 1405 1000 1099 1080  967  897 1145 1931  653  781 1220 1043\n",
      "  814  849  878  918  954 1009 1258 1192 1116  995  927  874 2253 1958\n",
      "  903 1076  952  963 1144  921  819 1776 1359  868  855  868 1118 1179\n",
      "  886 1205  952  725  887  914 2101  955 1133  772 1092 1130  905 2594\n",
      " 1032  968  992 1101  935  749 1131 1213  907  883  926 1009 1131 1001\n",
      "  856  902  676  883 1021  944 1180  822 1323 1377  951  916 1345 1078\n",
      " 2012  894  994  806  897  946  896 1461 1406  903  831  994  782 1036\n",
      " 1261  824]\n",
      ". . . . . . . . . . . . . . . . . . . . . . . . . . . . . . . . . . . . . . . . . . . . . . . . . . . . . . . . . . . . . . . . . . . . . . . . . . . . . . . . . . . . . . . . . . . . . . . . . . . . . saving data file to :  ../data_txt/systematics/6th_include_ge/act//acf_auto_dmass_weight1_nbins10_jk100.txt\n",
      "2 fwhm_r\n",
      "calculate angular correlation function\n",
      "X (1000, 2)  centers (100, 2)  tol=1e-05  maxiter=200\n",
      "15 iterations  cluster sizes: [20 21 12 15 19  7  5 16  6  9 10 10  7  5 17  5 24 12 13 12  7  2  9 18\n",
      " 13  9 11 11 16  7  6  7  8 10  5  9  5 12  3 14  9 11  4  7 11  9  7  6\n",
      " 29 15 15 23  9 14  7 14  9 10  6  5 18  0 11 11 11  6 12  4  5  6 13 12\n",
      "  2  6 12 10 13  6  5 10  8 14 14  8 12  6  7 12  5 12 11 11  5 14 11  4\n",
      "  1 10  8  7]\n",
      "X (108272, 2)  centers (100, 2)  tol=1e-05  maxiter=200\n",
      "155 iterations  cluster sizes: [ 683 1699 1215 1094 1150 1311  989 1328  860  831  883 1917 1044  778\n",
      " 1308 1301 1785  732 1267 1106  747  793 1238 1504 1503 1170 1121 1436\n",
      "  970  835  634  930  858  747  725 1162  818 1213  928 1555 1129 1012\n",
      "  957 1097 1178 1208 2195 1154 1893  905 1132 1645 1140 1258  893 1190\n",
      "  946 1151  919  636 1187  615  960 1340 1025  803  665  799  927 1352\n",
      " 2009 1845  821 1317  932  645 1265 1045 1142  980  903  827 1017  659\n",
      "  830  912 1436  628  897  849 1002 1488 1188  813 1099  661  596  926\n",
      " 1363  698]\n",
      ". . . . . . . . . . . . . . . . . . . . . . . . . . . . . . . . . . . . . . . . . . . . . . . . . . . . . . . . . . . . . . . . . . . . . . . . . . . . . . . . . . . . . . . . . . . . . . . . . . . . . saving data file to :  ../data_txt/systematics/6th_include_ge/act//acf_auto_dmass_weight2_nbins10_jk100.txt\n",
      "3 airmass_z\n",
      "calculate angular correlation function\n",
      "X (1000, 2)  centers (100, 2)  tol=1e-05  maxiter=200\n",
      "17 iterations  cluster sizes: [13 15 13  3 11 15  6  7  7  7 15 10 13 10  3  8  9  4 11 10 17  7  9  6\n",
      " 12 10  3  9 10  4 12 17  1  5  9 20  8  6  7  5 13  6 12 17  1  6 13 11\n",
      "  7 12 18 10  7 13  5  4 12  9 18 13 12  7 10 12  6 10 13  9  3  9 15 16\n",
      "  2  4 21  9  4  6  8 11 18  5 10  9 12 14  7 12 22  7 15 19 12  5 10 21\n",
      " 10  6 13 12]\n",
      "X (108272, 2)  centers (100, 2)  tol=1e-05  maxiter=200\n",
      "122 iterations  cluster sizes: [ 929  765 1209  927  933 1252  845 1061 1080 1129 1552 1049  915 1149\n",
      "  590  838 1124 1029 1305  912 1302 1347 1182 1095 1295 1447 1089 1231\n",
      " 1152  949  874 1505  956  730 1416 1290 1007  780  985  890 1133  910\n",
      " 1245 1649  922 1082  975 1038  918  893 1086  836  887 1199 1130  421\n",
      "  996  905 1299 1306 1291  950  767 1348  946 1173 1063 1224  838  996\n",
      " 1160 1315  931  939 1217  931  938 1207  951 1331 1466 1113  707  845\n",
      " 1482  986  917 1187 1248  593 1448 1633  941 1069  877 1426 1108  971\n",
      " 1214 1580]\n",
      ". . . . . . . . . . . . . . . . . . . . . . . . . . . . . . . . . . . . . . . . . . . . . . . . . . . . . . . . . . . . . . . . . . . . . . . . . . . . . . . . . . . . . . . . . . . . . . . . . . . . . saving data file to :  ../data_txt/systematics/6th_include_ge/act//acf_auto_dmass_weight3_nbins10_jk100.txt\n",
      "4 skybrite_i\n",
      "calculate angular correlation function\n",
      "X (1000, 2)  centers (100, 2)  tol=1e-05  maxiter=200\n",
      "19 iterations  cluster sizes: [15 11 16  7 16  5 10  9  8 10 11 24  5  7  6  1  6 14 14 13  8 13  8 12\n",
      "  8 17  9 17 11 16 10  9  4  3 15 12  5  9  9 12 10 10 13  8  6  8 11  8\n",
      "  4  9  7  9 10  8 11  5  2 19  2  7  5  8 20 19  3 18 19  7  5  6 11  4\n",
      "  4 26 15 20  4 11  5 14 10 11 10  8  3  7 10  8  8  3  8 14 15  5  8 15\n",
      " 16  3 26  6]\n",
      "X (108272, 2)  centers (100, 2)  tol=1e-05  maxiter=200\n",
      "129 iterations  cluster sizes: [1030 1017 1269 1319 1388  779 1249 1194  815 1015  839 1857  785 1297\n",
      " 1250  671  986  756 1624 1287 1309  966 1238 1336  832 1221 1326 1283\n",
      " 1279 1283 1255  995  629  871 1037 1317 1343 1231 1283  753 1074 1431\n",
      " 1108 1208  756 1201 1135 1294  514  861  696  901  727 1208  740  931\n",
      "  710 1397  303  812 1006 1038 1280 1768  769 1479 1351 1045  835  771\n",
      " 1077  799  196 1297 1347 1350  782 1163  601 1384 1349 1121 1222 1208\n",
      "  904 1071 1208  889 1285 1427 1187 1145 1469  384 1369 1418 1512  417\n",
      "  999 1129]\n",
      ". . . . . . . . . . . . . . . . . . . . . . . . . . . . . . . . . . . . . . . . . . . . . . . . . . . . . . . . . . . . . . . . . . . . . . . . . . . . . . . . . . . . . . . . . . . . . . . . . . . . . saving data file to :  ../data_txt/systematics/6th_include_ge/act//acf_auto_dmass_weight4_nbins10_jk100.txt\n",
      "5 skybrite_r\n",
      "calculate angular correlation function\n",
      "X (1000, 2)  centers (100, 2)  tol=1e-05  maxiter=200\n",
      "19 iterations  cluster sizes: [10  4 12  8  5 10  4 17  4  7 10 17 10  7 13 18  3  7 17  2 13  9 10 16\n",
      "  8  7 15 14 11 11 12  4 15 16 17 13  5  4  3 21 14  6 18  6  5  6 12  3\n",
      "  6  4  5  8  3 16 15  6  6 16 12 17  6  5  5  6 10 20 12 19  6  7  4 19\n",
      " 13 14  7 10  6 10 14 14  8 10  4  5 17 10  7  6 11 12 14  9 16 13  6 12\n",
      "  6 12  8 14]\n",
      "X (108272, 2)  centers (100, 2)  tol=1e-05  maxiter=200\n",
      "60 iterations  cluster sizes: [ 902  873 1186  750 1267  862  676 1476 1004  509 1053 1239 1230 1158\n",
      " 1188 1764  897 1358 1501  911 1039 1279 1002 1272  938  503 1378 1139\n",
      "  952 1134 1518 1017 1194 1024 1380  717  911 1187 1228 1306 1146  956\n",
      " 1307  907  770  599 1239 1061 1069  890  758  555  789 1403 1371  702\n",
      " 1129 1303 1411 1322 1098  797  820  969 1387 1281 1109 1391  801 1172\n",
      "  499 1226 1097 1009  949 1056 1146  599 1353 1398 1222 1043 1066  832\n",
      " 1382  918  937 1058 1025 1452 1205 1499 1320 1124 1055 1458  661 1009\n",
      " 1137 1103]\n",
      ". . . . . . . . . . . . . . . . . . . . . . . . . . . . . . . . . . . . . . . . . . . . . . . . . . . . . . . . . . . . . . . . . . . . . . . . . . . . . . . . . . . . . . . . . . . . . . . . . . . . . saving data file to :  ../data_txt/systematics/6th_include_ge/act//acf_auto_dmass_weight5_nbins10_jk100.txt\n",
      "6 fwhm_i\n",
      "calculate angular correlation function\n",
      "X (1000, 2)  centers (100, 2)  tol=1e-05  maxiter=200\n",
      "10 iterations  cluster sizes: [15  9  9 13 18 10  9 12 14 10 15 21 18  6  9 11 12  7  7  5  7 11  9  9\n",
      " 16 14  6  6 16 14 10  8 10  9  6  8  6 13 17  6 14  7  9  7  8  8  2  4\n",
      " 13  9 13  7 10  7 10  7  4 17  5 10 18  9  2  4  6  8 13 17  4 14  4  5\n",
      " 11 11 17 17  8 14  8 14  1 12  5 10 12 10  9 11 11 10 14  5 11  5 11  4\n",
      " 16 15 15  7]\n",
      "X (108272, 2)  centers (100, 2)  tol=1e-05  maxiter=200\n",
      "79 iterations  cluster sizes: [1421  914  650 1005 1395  976 1109 1306 1406 1143 1236 1271 1198 1107\n",
      " 1401  828 1312  914  584 1132 1093 1294  697 1218 1138 1014 1333 1181\n",
      " 1470 1297 1398  954 1360  684  787 1043 1152  983 1158  908 1571  913\n",
      "  807  869 1253  783  688  980 1348 1155 1329 1024  996 1066 1236 1098\n",
      "  722 1382 1377 1122 1336  839  556  914  796 1252 1178 1709  947 1518\n",
      "  976  926  600 1080 1404 1425 1444 1061 1122 1434  624  767  776  946\n",
      " 1272  978 1000  896 1143  780 1216  802 1103  807 1274 1187  996  990\n",
      " 1242  767]\n",
      ". . . . . . . . . . . . . . . . . . . . . . . . . . . . . . . . . . . . . . . . . . . . . . . . . . . . . . . . . . . . . . . . . . . . . . . . . . . . . . . . . . . . . . . . . . . . . . . . . . . . . saving data file to :  ../data_txt/systematics/6th_include_ge/act//acf_auto_dmass_weight6_nbins10_jk100.txt\n",
      "7 airmass_r\n",
      "calculate angular correlation function\n",
      "X (1000, 2)  centers (100, 2)  tol=1e-05  maxiter=200\n",
      "13 iterations  cluster sizes: [ 8  6  7 11 11 11  2 10 14  5  7 15  5 10  4 12 12 10 10  4 11 15  9 24\n",
      " 15 12  9 13  5 14  7  6 10  7  7 15 12  6 11 10 14 12 14 10  9 12 10 11\n",
      "  8 18 10  8 19  4 10  7 10  7  6  8  4  5  2  7 11 16 10 15 20  5 12 18\n",
      "  4 11 12  8  7 11 18  4  9 16  3  8  3 11  8 14 10  4 17  8  8  6 10 21\n",
      " 10 11 11 13]\n",
      "X (108272, 2)  centers (100, 2)  tol=1e-05  maxiter=200\n"
     ]
    },
    {
     "name": "stdout",
     "output_type": "stream",
     "text": [
      "86 iterations  cluster sizes: [1065 1172  838 1110  834  969  858  988 1136  766 1095  972 1040  793\n",
      "  763 1146 1157  964 1156  854 1163 1129 1125 1277 1421 1154  890 1221\n",
      "  932 1176  616  961 1234  969 1364 1203  796  840 1220 1252 1324 1212\n",
      " 1406 1298 1074 1357 1042  996  499 1175 1018 1118 1323 1108 1006  819\n",
      " 1121  750 1050 1461 1145  863 1032  642 1179 1000 1220 1204 1379 1036\n",
      "  910 1508  501 1194 1432 1080  790 1027 1439 1075 1407 1075 1000 1280\n",
      "  841 1129 1226 1712 1120  836 1198 1294 1035  913  775 1478 1137 1013\n",
      " 1237 1134]\n",
      ". . . . . . . . . . . . . . . . . . . . . . . . . . . . . . . . . . . . . . . . . . . . . . . . . . . . . . . . . . . . . . . . . . . . . . . . . . . . . . . . . . . . . . . . . . . . . . . . . . . . . saving data file to :  ../data_txt/systematics/6th_include_ge/act//acf_auto_dmass_weight7_nbins10_jk100.txt\n",
      "8 skybrite_z\n",
      "calculate angular correlation function\n",
      "X (1000, 2)  centers (100, 2)  tol=1e-05  maxiter=200\n",
      "16 iterations  cluster sizes: [12  3  6 13  8  7 10  6  9 13 14 11 14 11 13  5 12  6  9  6 12  7 10 14\n",
      " 11  6  5 12 13  8  9 13  8 13  3 19  8  7  7 10  5  6  8 11  3  9 11 14\n",
      " 10 13  8 13 18  9 15  9  3  4 11  6 12  5 14  7 10  7 14 12 11 11  5  8\n",
      " 16 14  5 12 12  8  4  9 13 15 14 10  5 11 13  8  8 14 18 15 12  8  4 25\n",
      "  6 12 17  7]\n",
      "X (108272, 2)  centers (100, 2)  tol=1e-05  maxiter=200\n",
      "81 iterations  cluster sizes: [1269  898 1085  654 1126  974 1079  986  895 1102 2098 1298 1212 1162\n",
      " 1154  884 1092  866 1059 1027 1121  919  865 1145 1604  906 1027  970\n",
      " 1108 1146 1044 1141  917  808  825 1248 1162  978 1087  931  914 1070\n",
      " 1044 1176  989 1059 1273 1111 1238  964  903 1688 1239 1268 1127  954\n",
      "  873 1061 1218  895 1080  935  928 1130 1101  966 1110 1586 1130 1317\n",
      " 1172 1056 1055  971  865 1079  949  999 1055 1256  960  859 1367 1152\n",
      "  511 1455  973 1032  923 1044 1100 1538  952 1116 1124 1527  983 1050\n",
      "  964  966]\n",
      ". . . . . . . . . . . . . . . . . . . . . . . . . . . . . . . . . . . . . . . . . . . . . . . . . . . . . . . . . . . . . . . . . . . . . . . . . . . . . . . . . . . . . . . . . . . . . . . . . . . . . saving data file to :  ../data_txt/systematics/6th_include_ge/act//acf_auto_dmass_weight8_nbins10_jk100.txt\n",
      "9 fwhm_g\n",
      "calculate angular correlation function\n",
      "X (1000, 2)  centers (100, 2)  tol=1e-05  maxiter=200\n",
      "14 iterations  cluster sizes: [13  4  8 10 12 10  9  7  9  9 10  8 15 13  6  7  8 18  5 12 12  8 12 10\n",
      " 11  7 15 13  9 11 18  7  7 22 16  9 12  7 17 10 12 12  8  8 14  7  3 12\n",
      " 14 21 19  8  3  5  5 17  8 11 12  6  5 10 10  6 13 15  9  1 22  7 17 11\n",
      "  4 12  5 14  5  3 12 14 12  8  6  8  6  6  2  6  6  7 10 10 14  4 19  7\n",
      " 10  8 13 12]\n",
      "X (108272, 2)  centers (100, 2)  tol=1e-05  maxiter=200\n",
      "54 iterations  cluster sizes: [1151  862 1137 1319  919  829 1019 1041 1084 1089 1025  993 1108 1315\n",
      "  988 1039  839 1208  875 1076  872 1066 1192 1142  881 1275 1186 1153\n",
      "  815  936 1069  951 1243 1111 1413 1161 1434 1485 1124 1058 1043 1032\n",
      "  501 1272 1297  898  827 1088 1425 1218 1214 1255  899  954 1011  968\n",
      " 1129 1030 1395 1149 1032  958 1047  994 1140 1226  982  499 1495 1015\n",
      " 1065 1325  754 1238 1008 1200  602  978 1160  819 1295 1258 1327 1057\n",
      " 1070  963 1005 1233  796 1252 1144 1202 1175 1049 1250  918 1139 1076\n",
      " 1297 1141]\n",
      ". . . . . . . . . . . . . . . . . . . . . . . . . . . . . . . . . . . . . . . . . . . . . . . . . . . . . . . . . . . . . . . . . . . . . . . . . . . . . . . . . . . . . . . . . . . . . . . . . . . . . saving data file to :  ../data_txt/systematics/6th_include_ge/act//acf_auto_dmass_weight9_nbins10_jk100.txt\n",
      "10 airmass_g\n",
      "calculate angular correlation function\n",
      "X (1000, 2)  centers (100, 2)  tol=1e-05  maxiter=200\n",
      "14 iterations  cluster sizes: [14  9 10  7 18  9  7 10 15  6 14  8 10 13 13  8 13 10  5  9  5  7 11 13\n",
      "  9 10 13 15 10  5  7  7 23 15 10  6 12 11 11 14  8  7  5  6 12 10  5  9\n",
      "  9 19 11  6 13 10  9  8  5  9  6 12  9  9 10  9  9  7 12  9  6  5 12 15\n",
      "  7 11 13 16 14 14 10  6 11 14  9 11 10  7  8 11  3 12  7 14 14  8  4  7\n",
      "  8 10 16 12]\n",
      "X (108272, 2)  centers (100, 2)  tol=1e-05  maxiter=200\n",
      "72 iterations  cluster sizes: [1132 1159 1071  986  949 1090 1045  998 1110 1097 1426  625 1007 1302\n",
      " 1322  990 1378  984  990 1174  556 1163 1156 1579  829 1280 1222  910\n",
      " 1163 1229  858  903 1693 1142 1011  998 2005 1062 1163 1107 1052 1086\n",
      "  828  914  842  859  953 1016 1202 1439 1191 1027 1113 1086 1319 1141\n",
      " 1144  850  958 1173 1211 1367 1133  816 1146  984 1113 1077  939  879\n",
      " 1125 1226 1119  992  729 1360 1278 1558  957 1141  803 1136 1047 1093\n",
      "  899  783  851 1132  896  987 1106 1010 1103 1035  981 1023 1045  846\n",
      " 1113 1176]\n",
      ". . . . . . . . . . . . . . . . . . . . . . . . . . . . . . . . . . . . . . . . . . . . . . . . . . . . . . . . . . . . . . . . . . . . . . . . . . . . . . . . . . . . . . . . . . . . . . . . . . . . . saving data file to :  ../data_txt/systematics/6th_include_ge/act//acf_auto_dmass_weight10_nbins10_jk100.txt\n",
      "11 exptime_z\n",
      "calculate angular correlation function\n",
      "X (1000, 2)  centers (100, 2)  tol=1e-05  maxiter=200\n",
      "15 iterations  cluster sizes: [ 6  6  8  5 22 19  3  6 17 11 25  5  9  4 11  7 10 10 17 16 17  6  4 13\n",
      " 19 12 11 12  8  5 16  3  5  8  7  8  8  7  6  6 19  9  8 13 10 10  8 12\n",
      " 10 13  3 13  8 11 11 18 14 15  8  9 12 13 12  4  5  9 15  5 13  7  7 14\n",
      " 14  8  4 10  3 10 13  3 14  9  3 11 15  4  6 18 19 10 11 10 10  6  3  9\n",
      "  5 14 19  3]\n",
      "X (108272, 2)  centers (100, 2)  tol=1e-05  maxiter=200\n",
      "89 iterations  cluster sizes: [1044 1032  911  950 1999 1200  810 1216  827 1123 1581 1009 1111  871\n",
      " 1366  922  804 1310 1157 1354  941 1100  859  977 1141 1082 1437 1163\n",
      " 1002 1070 1283 1090  986  926 1080  754 1269 1202  980 1190  970  993\n",
      "  953  949  874 1520 1034 1205 1046 1285 1002 1110 1131 1378 1108  936\n",
      "  980 1000  995  726 1112 1139 1186  964 1151 1077 1261 1074 1018  795\n",
      "  924 1032 1375 1141 1061 1228 1086  988 1092 1002  938 1026 1016 1099\n",
      " 1126 1039 1100 1015 1019  905  973 1143 1303 1332 1028 1009  841 1224\n",
      " 1218  888]\n",
      ". . . . . . . . . . . . . . . . . . . . . . . . . . . . . . . . . . . . . . . . . . . . . . . . . . . . . . . . . . . . . . . . . . . . . . . . . . . . . . . . . . . . . . . . . . . . . . . . . . . . . saving data file to :  ../data_txt/systematics/6th_include_ge/act//acf_auto_dmass_weight11_nbins10_jk100.txt\n",
      "12 exptime_g\n",
      "calculate angular correlation function\n",
      "X (1000, 2)  centers (100, 2)  tol=1e-05  maxiter=200\n",
      "14 iterations  cluster sizes: [ 8 17  4 11 12  6  9 11 14  9 15  4 10 12 22  6  9  8 10 17 12  7  6  1\n",
      " 18 10  8 12  2 14 13  6  7  7 11 14 13 15 22 15  2 14  2 19  4 22 13  8\n",
      " 15 13 16 14 14  5  6 15 15 10  7 10  0  8  8  3 18  3 16 10 26 16 10 12\n",
      "  7  3 14 16  1  3  5  7 14  7  5  4  4 10 12  7 12  9  5 11  9  2  7 13\n",
      " 10 12  7  3]\n",
      "X (108272, 2)  centers (100, 2)  tol=1e-05  maxiter=200\n",
      "75 iterations  cluster sizes: [1257 1306  690 1381 1074 1066 1031 1199  954  734 1314  507  552 1361\n",
      " 1267 1065 1179 1058 1011  891 1225 1066 1093  498 1085 1142  885 1118\n",
      "  968 1104 1334 1464 1024 1027 1132 1151 1091 1262 1455 1013  477 1288\n",
      " 1106 1570 1060 1654 1465 1213 1016 1034 1241 1332 1190 1166 1131 1165\n",
      " 1254  824 1185 1133 1031  985  964 1172 1189  908  932 1073 1640  956\n",
      " 1231  979 1217 1257 1252 1224  740  315 1437 1181 1219  998 1079  825\n",
      "  879 1328 1166 1150 1277  936 1063  902  973  407  890 1111 1149  956\n",
      "  990  753]\n",
      ". . . . . . . . . . . . . . . . . . . . . . . . . . . . . . . . . . . . . . . . . . . . . . . . . . . . . . . . . . . . . . . . . . . . . . . . . . . . . . . . . . . . . . . . . . . . . . . . . . . . . saving data file to :  ../data_txt/systematics/6th_include_ge/act//acf_auto_dmass_weight12_nbins10_jk100.txt\n"
     ]
    }
   ],
   "source": [
    "#tree corr\n",
    "from systematics_module.corr import angular_correlation\n",
    "os.system('mkdir '+basedir)\n",
    "#angular_correlation(data = dmass, rand = rand2, nbins=10, weight = None, njack = 100, \n",
    "#                        suffix = '_dmass_nbins10_jk100', dir = basedir)\n",
    "\n",
    "#angular_correlation(data = dmass_masked, rand = rand2_masked, nbins=10, weight = None, njack = 100, \n",
    "#                        suffix = '_dmass_veto_nbins10_jk100', dir = basedir)\n",
    "\n",
    "for i in range(1,len(weightslist)+1):\n",
    "    weight_com = np.ones(weightslist[0].size)\n",
    "    for w in weightslist[:i]: weight_com *= w\n",
    "    print i, order[i-1]\n",
    "    \n",
    "    angular_correlation(data = dmass_masked, rand = rand2_masked, nbins=10, weight = weight_com, njack = 100, \n",
    "                        suffix = '_dmass_weight'+str(i)+'_nbins10_jk100', dir = basedir)"
   ]
  },
  {
   "cell_type": "code",
   "execution_count": 263,
   "metadata": {},
   "outputs": [
    {
     "name": "stdout",
     "output_type": "stream",
     "text": [
      "err db, db / br1, brmin, br2 : 0.0430486225368798 -0.031578636660483994 0.9626761392440419 0.9844561091110935 1.0057247617809217\n",
      "err db, db / br1, brmin, br2 : 0.043315893768491986 -0.019443745913897192 0.9684769432040722 0.9903717318428705 1.0117928369725642\n",
      "err db, db / br1, brmin, br2 : 0.04348996207717393 -0.029485217893895133 0.9635069637183878 0.985471577898708 1.0069969257955618\n",
      "err db, db / br1, brmin, br2 : 0.045262804093214926 -0.054521563121468386 0.9505475833127074 0.9734626474113842 0.9958103874059223\n",
      "err db, db / br1, brmin, br2 : 0.048136814049466015 -0.0030073697504158226 0.9741200038785731 0.9984985727981668 1.0222568179280391\n",
      "err db, db / br1, brmin, br2 : 0.044255424679410904 -0.01804486859179999 0.9686834723137929 0.9910582421269991 1.0129388969932038\n",
      "err db, db / br1, brmin, br2 : 0.03955980245233004 -0.01755184080596761 0.9713231664789777 0.9913004263627961 1.0108829689313077\n",
      "err db, db / br1, brmin, br2 : 0.04624779859843475 -0.032837801690568824 0.9604709786871127 0.9838463247469817 1.0067187772855475\n",
      "err db, db / br1, brmin, br2 : 0.04429981059520072 -0.025567047703098034 0.9649591852746152 0.9873778319349686 1.009258995869816\n",
      "err db, db / br1, brmin, br2 : 0.04463325032698029 -0.020515440668036344 0.9672782047710394 0.9898464321256295 1.0119114550980197\n",
      "err db, db / br1, brmin, br2 : 0.047681725894646476 -0.021175793799702358 0.9654151465981131 0.9895230321555094 1.0130968724927596\n",
      "err db, db / br1, brmin, br2 : 0.04538387392724019 -0.03789797663268191 0.9584694740817515 0.9814033984687974 1.0038533480089917\n",
      "err db, db / br1, brmin, br2 : 0.047035195031762345 -0.022912306001773075 0.9648762600662574 0.9886736039254916 1.0119114550980197\n",
      "err db, db / br1, brmin, br2 : 0.0412547276033044 -0.02940161569337363 0.9646689158584123 0.9855121748864242 1.0059236434617167\n",
      "pic save to  ../data_txt/systematics/6th_include_ge/bias_weight.png\n"
     ]
    },
    {
     "data": {
      "image/png": "[encoded data removed]",
      "text/plain": [
       "<matplotlib.figure.Figure at 0x7fe75e85b590>"
      ]
     },
     "metadata": {},
     "output_type": "display_data"
    }
   ],
   "source": [
    "\n",
    "fig, ax = plt.subplots(figsize = (3,7))\n",
    "brelsqr = np.linspace(0.8, 1.2, 5000) \n",
    "b_n = 2.0\n",
    "brelarr = np.sqrt(brelsqr)\n",
    "dbarray = b_n*(1-brelarr)\n",
    "\n",
    "labels_SP = ['DMASS', 'veto mask'] + ['+ '+o for o in order ]\n",
    "\n",
    "filenames = [ basedir+ 'acf_auto_dmass_nbins10_jk100.txt', \\\n",
    "              basedir + 'acf_auto_dmass_veto_nbins10_jk100.txt'] +\\\n",
    "[ basedir+'acf_auto_dmass_weight'+str(j)+'_nbins10_jk100.txt' for j in range(1, len(labels_SP))]\n",
    "\n",
    "covnames = [ basedir+ 'acf_auto_dmass_nbins10_jk100.cov', \\\n",
    "              basedir + 'acf_auto_dmass_veto_nbins10_jk100.cov'] +\\\n",
    "[ basedir+'acf_auto_dmass_weight'+str(j)+'_nbins10_jk100.cov' for j in range(1, len(labels_SP))]\n",
    "\n",
    "\n",
    "for j in range(1, len(labels_SP)+1):\n",
    "    \n",
    "    meanrw, xiw, xi_errw = np.loadtxt( filenames[j-1], unpack=True)\n",
    "    cov_dmass_w = np.loadtxt( covnames[j-1], unpack=True)\n",
    "    #meanrw, xiw, xi_errw = np.loadtxt(basedir+'acf_auto_dmass_weight'+str(j)+'_nbins10_jk100.txt', unpack=True)\n",
    "    #cov_dmass_w = np.loadtxt(basedir+'acf_auto_dmass_weight'+str(j)+'_nbins10_jk100.cov', unpack=True)\n",
    "    HFd = HF(100, 10)\n",
    "    F_d = HFd * np.linalg.inv(cov_dmass_w)\n",
    "    err_brelw, brelw, chisqr_resultw = brel_chisqr_fitting(xiw, theory_sgc_interp, F_d, verbose=True)\n",
    "    if j == 1 : \n",
    "        color = 'red'\n",
    "        ax.axvspan(2.-2*brelw - err_brelw*2., 2.-2*brelw + err_brelw*2.,  alpha=0.1, color='grey')\n",
    "        ax.axvline(x=2.-2*brelw, color = 'grey', ls='--')\n",
    "    else : color = 'k'  \n",
    "        \n",
    "    ax.errorbar(2.-2*brelw, len(labels_SP)+1-j, xerr =err_brelw*2., fmt='-o', color=color)\n",
    "    \n",
    "ax.set_xlabel(r'$\\Delta b = b_{th} - b_x$', fontsize = 20)\n",
    "#ax.set_ylabel(r'$\\chi^2$')\n",
    "ax.legend(loc=1)\n",
    "ax.set_xlim(-0.1+0.02, 0.1+0.02)\n",
    "#ax.set_yticks([1,2,3,4,5,6,7,8,9,10,11,12])\n",
    "ax.set_yticks(np.arange(1, len(labels_SP)+1 ))\n",
    "\n",
    "labels = labels_SP[::-1]\n",
    "ax.set_yticklabels( labels, fontsize = 15) \n",
    "fig.savefig(rootdir + 'bias_weight.png')\n",
    "print 'pic save to ', rootdir + 'bias_weight.png'\n",
    "\n",
    "\n"
   ]
  },
  {
   "cell_type": "code",
   "execution_count": null,
   "metadata": {},
   "outputs": [],
   "source": []
  },
  {
   "cell_type": "code",
   "execution_count": null,
   "metadata": {},
   "outputs": [],
   "source": []
  },
  {
   "cell_type": "markdown",
   "metadata": {},
   "source": [
    "# No Galactic Extinction "
   ]
  },
  {
   "cell_type": "code",
   "execution_count": 272,
   "metadata": {},
   "outputs": [
    {
     "name": "stdout",
     "output_type": "stream",
     "text": [
      "fwhm_r\n",
      "airmass_z\n",
      "airmass_i\n",
      "nstars_allband_g\n",
      "skybrite_i\n",
      "fwhm_g\n",
      "skybrite_r\n",
      "exptime_i\n",
      "fwhm_z\n",
      "exptime_g\n",
      "exptime_z\n",
      "depth_r\n"
     ]
    }
   ],
   "source": [
    "weightname = 'wg_fwhm_r_airmass_z_airmass_i_nstarsallband_g_skybrite_i_fwhm_g_skybrite_r_exptime_i_fwhm_z_exptime_g_exptime_z_depth_r'\n",
    "weightname = weightname.split('_')[1:]\n",
    "order = []\n",
    "for i in np.arange(0, len(weightname), 2):   \n",
    "    if weightname[i] == 'nstarsallband' : weightname[i] = 'nstars_allband'\n",
    "    print weightname[i]+'_'+ weightname[i+1]\n",
    "    order.append(weightname[i]+'_'+ weightname[i+1] )"
   ]
  },
  {
   "cell_type": "code",
   "execution_count": 273,
   "metadata": {},
   "outputs": [],
   "source": [
    "rootdir ='../data_txt/systematics/6th_ignore_ge/'\n",
    "basedir = rootdir+'act/'\n",
    "wdir = rootdir+'weights/'\n",
    "os.system('mkdir '+basedir)\n",
    "os.system('mkdir '+wdir)\n",
    "#order = ['ge_g', 'fwhm_r', 'airmass_z', 'skybrite_i', 'airmass_g', 'fwhm_i', 'airmass_i', 'fwhm_g', 'skybrite_r', 'fwhm_z']\n",
    "#order = ['fwhm_r','airmass_z', 'airmass_i', 'skybrite_i', 'skybrite_r', 'airmass_r', 'airmass_g', \\\n",
    "#         'nstars_allband_g', 'depth_i', 'exptime_g', 'fwhm_g', 'fwhm_z', 'exptime_z', 'depth_r', \\\n",
    "#         'fwhm_i', 'exptime_i', 'depth_g']\n",
    "weightslist = [fitsio.read(wdir+'wg_'+o+'_SPT.fits') for o in order]\n",
    "all_weight = np.ones(weightslist[0].size)\n",
    "#for w in weightslist: all_weight *= w"
   ]
  },
  {
   "cell_type": "code",
   "execution_count": 268,
   "metadata": {},
   "outputs": [
    {
     "data": {
      "text/plain": [
       "0"
      ]
     },
     "execution_count": 268,
     "metadata": {},
     "output_type": "execute_result"
    }
   ],
   "source": [
    "os.system('cp ../data_txt/systematics/4th/act/acf_auto_dmass_nbins10_jk100.* '+basedir+'/.')\n",
    "os.system('cp ../data_txt/systematics/4th/act/acf_auto_dmass_veto_nbins10_jk100.* '+basedir+'.')"
   ]
  },
  {
   "cell_type": "code",
   "execution_count": 274,
   "metadata": {},
   "outputs": [
    {
     "name": "stdout",
     "output_type": "stream",
     "text": [
      "1 fwhm_r\n",
      "2 airmass_z\n",
      "3 airmass_i\n",
      "4 nstars_allband_g\n",
      "5 skybrite_i\n",
      "calculate angular correlation function\n",
      "X (1000, 2)  centers (100, 2)  tol=1e-05  maxiter=200\n",
      "16 iterations  cluster sizes: [ 9 16 16  8 19  6  7  8  9  9  9 11  9  7 10  5 13  9 17 13 25 17  9 14\n",
      "  9  2 11 14 11 13 10  7 13 14  8  8  7 19  9 11 10  5 11 11 10  9  5  6\n",
      "  7  4 11 11  4  2  2  7  7 12  7  9 13 15 10 14  5  8 16 10  6  2  9  4\n",
      " 16  4 10 10 12 17  8  8 13 11 10 13  9 15 12 10 12  9 12  4  9  7 11  8\n",
      "  7  4 22 14]\n",
      "X (108272, 2)  centers (100, 2)  tol=1e-05  maxiter=200\n",
      "91 iterations  cluster sizes: [1319  814 1416 1204 1097  932 1036 1079 1280  692  580  760 1352  786\n",
      " 1110  969 1066  954 1344 1116 1795 1528 1131 1022  633  883 1201 1334\n",
      " 1217 1094 1204 1122 1155 1739 1156 1029  891 1245 1287  508 1084 1140\n",
      " 1641 1085 1220  921  848 1025  947  563  760 1142  889  764 1407  499\n",
      "  890 1185 1195  873 1461 1390  939 1185 1048  997  933 1079 1042  697\n",
      "  741  697 1405  976 1269 1558  831 1170 1172 1443 1394  972  820 1611\n",
      "  378 1424 1393  956  816  956 1105 1222 1408 1012  961 1366  583 1322\n",
      " 1177 1205]\n",
      ". . . . . . . . . . . . . . . . . . . . . . . . . . . . . . . . . . . . . . . . . . . . . . . . . . . . . . . . . . . . . . . . . . . . . . . . . . . . . . . . . . . . . . . . . . . . . . . . . . . . . saving data file to :  ../data_txt/systematics/6th_ignore_ge/act//acf_auto_dmass_weight5_nbins10_jk100.txt\n",
      "6 fwhm_g\n",
      "calculate angular correlation function\n",
      "X (1000, 2)  centers (100, 2)  tol=1e-05  maxiter=200\n",
      "13 iterations  cluster sizes: [ 7  5  9 20  5  9  3  4 10  8  8  8 10 11  9  7  6  8 18  4 14  9 19 12\n",
      "  9 11  8  7 12 15 10 16 15 10 12 14 11  7  7  7 16 17  5  8 10 19 11  8\n",
      "  8  8 14 11 12  7  8 10  8  4 18  8 10  6 10  5 18 11 24  6  2  5 10 14\n",
      " 17 13  7  7 19  5 17  3  8 10 11  6 15 12 10  2 15  9  9 10  2  5 12  6\n",
      "  3 19 15  8]\n",
      "X (108272, 2)  centers (100, 2)  tol=1e-05  maxiter=200\n",
      "84 iterations  cluster sizes: [1214  945 1129 1446  730 1207  410  896  771  917 1069 1112 1314 1337\n",
      " 1385 1080  944 1020 1349 1141 1221 1617 1209 1110 1217 1218  729  905\n",
      " 1179 1600 1154 1459 1143 1173 1168 1144 1140  666  804 1116 1097 1107\n",
      " 1062  964 1277 1305 1007 1031 1066 1344  958 1351 1139 1017 1160  914\n",
      " 1134  850 1233 1106 1251 1144  951  582 1334 1292 1272  724  585  753\n",
      " 1243 1109 1089 1087 1232 1017 1223 1236 1289  826  925  949 1009  860\n",
      " 1156 1017 1010  840 1252 1057 1138 1194  429 1002  995 1531  781 1491\n",
      " 1184  703]\n",
      ". . . . . . . . . . . . . . . . . . . . . . . . . . . . . . . . . . . . . . . . . . . . . . . . . . . . . . . . . . . . . . . . . . . . . . . . . . . . . . . . . . . . . . . . . saving data file to :  ../data_txt/systematics/6th_ignore_ge/act//acf_auto_dmass_weight6_nbins10_jk100.txt\n",
      "7 skybrite_r\n",
      "calculate angular correlation function\n",
      "X (1000, 2)  centers (100, 2)  tol=1e-05  maxiter=200\n",
      "12 iterations  cluster sizes: [ 8 17 21 11  6 11  0  6  9 13 10  3  8 12  7  7 10 15 15 16 15 10 13  3\n",
      " 11  2  8  9  4  8 10  4  2  9 10  5  8  9  5  8  9 14 14 16  9  6  6 10\n",
      "  8  7 23 10 18 11 25  9  7 16  8 13  9 10 11  9  8 12  7  5 17  8  8 11\n",
      " 11 13  8  5 11 10 14  7  6 10  9 20 10 12  8  8 13 11 12 12 10  8 12  8\n",
      " 15  5  4 16]\n",
      "X (108272, 2)  centers (100, 2)  tol=1e-05  maxiter=200\n",
      "77 iterations  cluster sizes: [1558 1404 1507 1162  584 1297  343  982 1220  925  935 1220 1138 1254\n",
      " 1259 1178 1210 1188 1094 1417 1120 1101 1228  956 1136  586 1127 1136\n",
      "  914  965 1220  768  477 1175 1220  949 1241 1056  947  951  982 1208\n",
      " 1214 1117  938 1165 1165  862 1018 1241 1229  898  962 1097 1461  610\n",
      "  942 1375 1100 1046 1147 1261 1088 1210 1252 1147 1400 1028 1153 1180\n",
      "  843  788  955  801 1047  980 1148 1219 1239 1044 1272 1065 1233 1323\n",
      "  891 1116 1064 1053 1011 1277 1286 1018 1088 1061  944 1060 1255  427\n",
      " 1021 1099]\n",
      ". . . . . . . . . . . . . . . . . . . . . . . . . . . . . . . . . . . . . . . . . . . . . . . . . . . . . . . . . . . . . . . . . . . . . . . . . . . . . . . . . . . . . . . . . . . . . . . . . . . . . saving data file to :  ../data_txt/systematics/6th_ignore_ge/act//acf_auto_dmass_weight7_nbins10_jk100.txt\n",
      "8 exptime_i\n",
      "calculate angular correlation function\n",
      "X (1000, 2)  centers (100, 2)  tol=1e-05  maxiter=200\n",
      "15 iterations  cluster sizes: [ 5  6 11 11  9 11  6  8  9  4  8  9 14  5  9 15 10  5 15  7  5 15  4 10\n",
      " 12 17 11  3  0  8 10  4  2 11 11 12  1 14  5  9 20  8 11  5  7 10 23 13\n",
      " 21 12 12  7  6  8 15 23 12 16  3 11 12 12  9 11  9 10  8 10  9 18  7  8\n",
      " 10  9  3  9 20 20  1 16  8  6  7 11 14  2  5  6 24  9 24 12 10 15 11  6\n",
      "  6  7 15  7]\n",
      "X (108272, 2)  centers (100, 2)  tol=1e-05  maxiter=200\n",
      "86 iterations  cluster sizes: [ 738 1354 1008  861 1403 1016 1144  939 1280  870 1031 1138 1187  910\n",
      " 1019 1146  799  806 1166 1023  731  868 1164  922 1201 1315 1065  499\n",
      " 1153 1200 1435  687  869 1065 1159 1176  501 1272 1038 1004 1745 1140\n",
      "  827 1044  714  608 1033 1086 1605 1029 1147 1170  878 1099 1049 2024\n",
      " 1115 1083  952 1285  872  952 1458 1076 1189  788 1147 1092 1027 1453\n",
      " 1029 1170  956  915  991 1052 1193 1420 1102 1174 1040  821  958 1146\n",
      " 1031  706  887 1261 1748 1272 1285 1060 1108 1075 1112  944 1344 1123\n",
      " 1411 1089]\n",
      ". . . . . . . . . . . . . . . . . . . . . . . . . . . . . . . . . . . . . . . . . . . . . . . . . . . . . . . . . . . . . . . . . . . . . . . . . . . . . . . . . . . . . . . . . . . . . . . . . . . . . saving data file to :  ../data_txt/systematics/6th_ignore_ge/act//acf_auto_dmass_weight8_nbins10_jk100.txt\n",
      "9 fwhm_z\n",
      "calculate angular correlation function\n",
      "X (1000, 2)  centers (100, 2)  tol=1e-05  maxiter=200\n",
      "16 iterations  cluster sizes: [11  9 13  5 15  9  8  6  7 18 21 12  9  7  5  7 11 11  8  4  3  9 11  7\n",
      "  7 24 10  4 14  3  7 16  7 10 14  9  5  6  7  9 17  9 17 15  5  5  5 15\n",
      "  9  4  6 11 14  5  7 15  6 24  8  9 11  7  6  8 16 10 12 11 14 14  7 11\n",
      " 10 12 15  5 10 12  8 27  2  4 11 17 15 23  3  4  3 13 13  3  9 12 16  7\n",
      " 11  8  4 12]\n",
      "X (108272, 2)  centers (100, 2)  tol=1e-05  maxiter=200\n",
      "46 iterations  cluster sizes: [1058  901  841  498 1896 1183  717 1300  936 1212 1580 1343  832  887\n",
      " 1139 1545 1146 1340  850  957  813  934  976 1170 1155 1848 1068  747\n",
      " 1016  845 1299 1049  925 1086 1611  894  532 1119 1024  893 1120 1011\n",
      " 1628 1292  715  665  963 1155  985 1306  933  910 1089  834 1183  771\n",
      "  918 1143  888  931 1432 1105 1115 1078 1445 1181  991 1404  931  993\n",
      " 1152 1114 1212 1133  928  703 1070 1173  963 1883  498  850 1173 1579\n",
      " 1284 1295  737  931  928 1505 1199  939 1422 1192 1336  869 1249  680\n",
      "  838 1157]\n",
      ". . . . . . . . . . . . . . . . . . . . . . . . . . . . . . . . . . . . . . . . . . . . . . . . . . . . . . . . . . . . . . . . . . . . . . . . . . . . . . . . . . . . . . . . . . . . . . . . . . . . . saving data file to :  ../data_txt/systematics/6th_ignore_ge/act//acf_auto_dmass_weight9_nbins10_jk100.txt\n",
      "10 exptime_g\n",
      "calculate angular correlation function\n",
      "X (1000, 2)  centers (100, 2)  tol=1e-05  maxiter=200\n",
      "13 iterations  cluster sizes: [ 5 21  5  6  0  3  9 13  7 10  9  5  9 15 21  4 22 12 13 12  4 11  6 11\n",
      "  9  7 11 10  6 17  5  9  7 11  5 10 16  8  5  7  8  0  6 25 16 18  4  5\n",
      " 18  7  5  5 14  7 15 13 10  2 13  5 16 15 10 10  8  9  7  6 14 11 10 16\n",
      " 21  7  8  8 30  7 12 11 10  5 14 15  8 11  7  2 17  9  8  8  9  1 11 11\n",
      " 16 12 12  6]\n",
      "X (108272, 2)  centers (100, 2)  tol=1e-05  maxiter=200\n",
      "97 iterations  cluster sizes: [1099 1211  967 1251  384  979 1244 1249 1066 1058 1128 1002  886 1325\n",
      " 1430  748  971 1096 1905 1144 1125 1195 1179 1102 1188  937 1123  915\n",
      " 1294  938  927 1022 1021 1208 1043  967 1418  820 1127  549  960  782\n",
      "  907 1986 1277 1078  932 1073 1143 1019 1218  826 1115  899 1121 1596\n",
      "  955 1139 1133  607 1245  766 1297 1182  870 1113 1253 1028 1333 1088\n",
      " 1288 1080 1179  963  950 1077 1021  406 1203 1275  854 1146 1205 1631\n",
      " 1055 1019  860  979 1354  906  867 1235  853  913 1125 1223 1130 1327\n",
      " 1052  914]\n",
      ". . . . . . . . . . . . . . . . . . . . . . . . . . . . . . . . . . . . . . . . . . . . . . . . . . . . . . . . . . . . . . . . . . . . . . . . . . . . . . . . . . . . . . . . . . . . . . . . . . . . . saving data file to :  ../data_txt/systematics/6th_ignore_ge/act//acf_auto_dmass_weight10_nbins10_jk100.txt\n",
      "11 exptime_z\n",
      "calculate angular correlation function\n",
      "X (1000, 2)  centers (100, 2)  tol=1e-05  maxiter=200\n",
      "13 iterations  cluster sizes: [12 14 12 11 17 13 22  7  9  8 10 19  8  2 12  2  0 17  8  2 13  4 14  5\n",
      "  7 22  1  9  9  8  8 11 14  5  0 18 11 17 16  8 10 21 10 13  8 11 24 11\n",
      "  6  6  8  8  2 10 10 16  3 10 17 14 11 14 16  4 16  2  9  8  6 13  3 11\n",
      "  9  9  9 14 11  8 18  2  8  5  6  6  3  9  6 11 12 14  5  9 21  3  8 16\n",
      "  3 10 10 19]\n",
      "X (108272, 2)  centers (100, 2)  tol=1e-05  maxiter=200\n"
     ]
    },
    {
     "name": "stdout",
     "output_type": "stream",
     "text": [
      "99 iterations  cluster sizes: [1123 1492 1228  738 1553 1739 1449  792 1468 1152 1189 1332 1213  620\n",
      "  856  596  542 1088  751  578 1245  641 1821  578  755 1568  581  572\n",
      " 1064 1155 1404  856 1038  588 1160 1264 1121 1488 1455 1303 1566 1807\n",
      " 1061 1463  820 1104 1519  809 1244 1202  639  830  633 1063 1102 1261\n",
      " 1064 1134 1552  786 1015 1406 1341  688 1352  941  871  735  554 1006\n",
      "  975 1123 1306  982  914 1591 1225  553 1090  613 1478  925 1033  763\n",
      "  934 1430 1246 1120  923 1313 1041  770 1873  414  498 1290  941 1935\n",
      " 1100 1149]\n",
      ". . . . . . . . . . . . . . . . . . . . . . . . . . . . . . . . . . . . . . . . . . . . . . . . . . . . . . . . . . . . . . . . . . . . . . . . . . . . . . . . . . . . . . . . . . . . . . . . . . . . . saving data file to :  ../data_txt/systematics/6th_ignore_ge/act//acf_auto_dmass_weight11_nbins10_jk100.txt\n",
      "12 depth_r\n",
      "calculate angular correlation function\n",
      "X (1000, 2)  centers (100, 2)  tol=1e-05  maxiter=200\n",
      "12 iterations  cluster sizes: [16  6 11  7 11  6  9  7 17  8  5  5  3  6 18  6  4  9 12  7 13  5  6  3\n",
      "  6  7 15 12 21  8  7 14  6  7 19 12  2 11 17  6 11  9 10 18  5  9 11 10\n",
      " 16 11  6  5 13  7 14  5  9 12 14  5  9  9  5  8 11 11  8  6  7  5 16 18\n",
      "  7  9 11 16 10 17 15  7  8 17  3  9  6 13 10 14 19  6 11  9  5 21 12  9\n",
      "  8  7 34  4]\n",
      "X (108272, 2)  centers (100, 2)  tol=1e-05  maxiter=200\n",
      "84 iterations  cluster sizes: [1561 1005  802 1204  588 1236 1436 1391 1127  987  900 1340  781 1319\n",
      " 1151 1276  855  950 1108 1115 1111  425  984 1033  905 1284 1064 1053\n",
      " 1191  609 1098 1776 1107  946 1110 1022 1169  908 1080 1184 1173  984\n",
      " 1212 1116 1021  864 1484  962 1476 1058 1007  963  851  909  927  935\n",
      " 1508 1129  808 1038 1114 1065 1013 1211 1123 1132 1092 1160  809  855\n",
      " 1309 1318 1143  859  868 1274  593 1195 1344 1373 1088 1342  733 1192\n",
      " 1119  968 1269 1177 1138 1197  871  384  854 1591 1594 1113 1120  954\n",
      " 1188  914]\n",
      ". . . . . . . . . . . . . . . . . . . . . . . . . . . . . . . . . . . . . . . . . . . . . . . . . . . . . . . . . . . . . . . . . . . . . . . . . . . . . . . . . . . . . . . . . . . . . . . . . . . . . saving data file to :  ../data_txt/systematics/6th_ignore_ge/act//acf_auto_dmass_weight12_nbins10_jk100.txt\n"
     ]
    }
   ],
   "source": [
    "#tree corr\n",
    "from systematics_module.corr import angular_correlation\n",
    "os.system('mkdir '+basedir)\n",
    "#angular_correlation(data = dmass, rand = rand2, nbins=10, weight = None, njack = 100, \n",
    "#                        suffix = '_dmass_nbins10_jk100', dir = basedir)\n",
    "\n",
    "#angular_correlation(data = dmass_masked, rand = rand2_masked, nbins=10, weight = None, njack = 100, \n",
    "#                        suffix = '_dmass_veto_nbins10_jk100', dir = basedir)\n",
    "\n",
    "for i in range(1,len(weightslist)+1):\n",
    "    weight_com = np.ones(weightslist[0].size)\n",
    "    for w in weightslist[:i]: weight_com *= w\n",
    "    print i, order[i-1]\n",
    "    if i < 5 : pass\n",
    "    else : \n",
    "        angular_correlation(data = dmass_masked, rand = rand2_masked, nbins=10, weight = weight_com, njack = 100, \n",
    "                            suffix = '_dmass_weight'+str(i)+'_nbins10_jk100', dir = basedir)"
   ]
  },
  {
   "cell_type": "code",
   "execution_count": null,
   "metadata": {},
   "outputs": [],
   "source": []
  },
  {
   "cell_type": "code",
   "execution_count": null,
   "metadata": {},
   "outputs": [],
   "source": []
  },
  {
   "cell_type": "code",
   "execution_count": null,
   "metadata": {},
   "outputs": [],
   "source": []
  },
  {
   "cell_type": "code",
   "execution_count": null,
   "metadata": {},
   "outputs": [],
   "source": []
  },
  {
   "cell_type": "code",
   "execution_count": null,
   "metadata": {},
   "outputs": [],
   "source": []
  },
  {
   "cell_type": "code",
   "execution_count": 102,
   "metadata": {},
   "outputs": [
    {
     "data": {
      "text/plain": [
       "<matplotlib.text.Text at 0x7fe7754bbb50>"
      ]
     },
     "execution_count": 102,
     "metadata": {},
     "output_type": "execute_result"
    },
    {
     "data": {
      "image/png": "[encoded data removed]",
      "text/plain": [
       "<matplotlib.figure.Figure at 0x7fe78f677750>"
      ]
     },
     "metadata": {},
     "output_type": "display_data"
    },
    {
     "data": {
      "image/png": "[encoded data removed]",
      "text/plain": [
       "<matplotlib.figure.Figure at 0x7fe7755f8590>"
      ]
     },
     "metadata": {},
     "output_type": "display_data"
    }
   ],
   "source": [
    "import scipy\n",
    "meanr_old, xi_old, xi_err_old = np.loadtxt('../data_txt/acf_auto_dmass_spt_nbins10_jk100.txt',unpack=True)\n",
    "\n",
    "theta_th, theory = np.loadtxt('../data_txt/acf_cmass_ngc_theory.txt', unpack=True)\n",
    "theta_th, theory_sgc = np.loadtxt('../data_txt/acf_cmass_sgc_theory.txt', unpack=True)\n",
    "\n",
    "#_, theory_bias = np.loadtxt('../data_txt/acf_cmass_sgc_theory_bias.txt', unpack=True)\n",
    "\n",
    "\n",
    "theory_interp = scipy.interpolate.interp1d(theta_th, theory)\n",
    "theory_interp = theory_interp(meanr)\n",
    "theory_sgc_interp = scipy.interpolate.interp1d(theta_th, theory_sgc)\n",
    "theory_sgc_interp = theory_sgc_interp(meanr)\n",
    "\n",
    "nzs_ratio = theory_sgc_interp/theory_interp\n",
    "\n",
    "fig, ax = plt.subplots(figsize = (13, 10))\n",
    "\n",
    "ax.errorbar(meanr*0.97, xi, yerr = xi_err, fmt = '-', color='k', label='dmass spt')\n",
    "ax.errorbar(meanr_old*1.01, xi_old, yerr = xi_err_old, fmt = '-', color='skyblue', label='dmass spt old')\n",
    "ax.errorbar(meanr12, xi12, yerr = xi_err12, fmt = '-', color='green', label='dmass spt weight')\n",
    "#ax.errorbar(meanr7*1.03, xi7, yerr =xi_err7, fmt = '.r', label='cmass S')\n",
    "#ax.errorbar(meanr11*1.0, xi11, yerr = xi_err11, fmt = '.b', label='cmass N')\n",
    "\n",
    "ax.plot(theta_th, theory, '-', color='grey', label='theory')\n",
    "ax.plot(theta_th, theory_sgc, '--', color='grey', label='theory sgc')\n",
    "#ax.plot(theta_th, theta_th*theory_bias, '--', color='green', label='theory bias')\n",
    "\n",
    "ax.set_xscale('log')\n",
    "ax.set_yscale('log')\n",
    "ax.legend(loc = 'best', fontsize = 12)\n",
    "#ax.text(1.5, 0.07, r'$\\chi^2 $ = {:0.3f}  (south)'.format(chisqr), fontsize = 12)\n",
    "ax.set_ylim(1e-4,1)\n",
    "ax.set_xlim(2.5/60, 250./60)\n",
    "ax.set_xlabel(r'$\\theta$ (deg)', fontsize = 15)\n",
    "ax.set_ylabel(r'$\\omega(\\theta)$', fontsize = 15)\n",
    "\n",
    "\n",
    "fig.savefig('../figure/acf_comparison_cmass_dmass.pdf')\n",
    "\n",
    "\n",
    "\n",
    "fig, ax = plt.subplots(figsize = (7, 5))\n",
    "\n",
    "ax.errorbar(meanr*0.98, xi-xi, yerr = np.sqrt(2)*xi_err, fmt = '.-', color='k')\n",
    "ax.errorbar(meanr*0.99, xi2-xi, yerr = np.sqrt(2)*xi_err2, fmt = '.-', color='g')\n",
    "#ax.errorbar(meanr11*1.01, xi11-xi, yerr = np.sqrt(xi_err11**2+xi_err**2), fmt = '.-b', label='cmass N')\n",
    "#ax.errorbar(meanr7*1.0, xi7-xi, yerr = np.sqrt(xi_err7**2+xi_err**2), fmt = '.-r', label='cmass S')\n",
    "\n",
    "ax.plot(meanr, theory_interp -xi, '-', color='grey',label='theory ngc' )\n",
    "ax.plot(meanr, theory_sgc_interp -xi, '--', color='grey', label='theory sgc' )\n",
    "\n",
    "vdiff = xi - xi7\n",
    "chisqr = np.dot(np.dot( vdiff, F_ns), vdiff)#/vdiff.size\n",
    "\n",
    "ax.set_xscale('log')\n",
    "#ax.set_yscale('log')\n",
    "ax.legend(loc = 'best', fontsize = 12)\n",
    "#ax.text(1.5, 0.07, r'$\\chi^2 $ = {:0.3f}  (south)'.format(chisqr), fontsize = 12)\n",
    "#ax.set_ylim(1e-3,)\n",
    "ax.set_xlabel(r'$\\theta$ (deg)', fontsize = 15)\n",
    "ax.set_ylabel(r'$\\omega_x(\\theta)- \\omega_{dmass}(\\theta)$', fontsize = 15)\n"
   ]
  },
  {
   "cell_type": "code",
   "execution_count": null,
   "metadata": {},
   "outputs": [],
   "source": []
  }
 ],
 "metadata": {
  "kernelspec": {
   "display_name": "Python 2",
   "language": "python",
   "name": "python2"
  },
  "language_info": {
   "codemirror_mode": {
    "name": "ipython",
    "version": 2
   },
   "file_extension": ".py",
   "mimetype": "text/x-python",
   "name": "python",
   "nbconvert_exporter": "python",
   "pygments_lexer": "ipython2",
   "version": "2.7.14"
  }
 },
 "nbformat": 4,
 "nbformat_minor": 1
}
