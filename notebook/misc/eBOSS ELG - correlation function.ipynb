{
 "cells": [
  {
   "cell_type": "code",
   "execution_count": 232,
   "metadata": {},
   "outputs": [
    {
     "name": "stdout",
     "output_type": "stream",
     "text": [
      "The autoreload extension is already loaded. To reload it, use:\n",
      "  %reload_ext autoreload\n"
     ]
    }
   ],
   "source": [
    "import os, sys\n",
    "import esutil\n",
    "import healpy as hp\n",
    "import numpy as np\n",
    "import matplotlib\n",
    "import matplotlib.pyplot as plt\n",
    "%matplotlib inline\n",
    "\n",
    "%load_ext autoreload\n",
    "%autoreload 2"
   ]
  },
  {
   "cell_type": "code",
   "execution_count": 233,
   "metadata": {},
   "outputs": [],
   "source": [
    "def treecorr_xi(lens, random=None, filename=None, rootdir=None, \n",
    "\t\tnbins=20, min_sep=2.5, max_sep=250, sep_units='arcmin', bin_slop=0.05, \n",
    "        npatch=10, var_method='jackknife', cen_file = None):\n",
    "    \n",
    "    import treecorr\n",
    "    \n",
    "    if cen_file != None:\n",
    "        if os.path.exists(cen_file):\n",
    "            print ('Saved cen_file exists:',cen_file)\n",
    "            cen_file_switch_on = cen_file\n",
    "            npatch=1\n",
    "        else : \n",
    "            print ('Create cen_file=',cen_file)\n",
    "            cen_file_switch_on = None\n",
    "    \n",
    "    \n",
    "    #temp_dir=filename.split('.txt')[0]\n",
    "    cat_l = treecorr.Catalog(ra=lens['RA'], dec=lens['DEC'], w=lens['WEIGHT'], \n",
    "                             ra_units='deg', dec_units='deg', npatch=npatch) #, \n",
    "                             #patch_centers=cen_file_switch_on )\n",
    "\n",
    "    #if cen_file_switch_on == None : \n",
    "    #    cat_l.write_patch_centers(cen_file)\n",
    "       \n",
    "    cat_r = treecorr.Catalog(ra=random['RA'], dec=random['DEC'], w=random['WEIGHT'], \n",
    "                             ra_units='deg', dec_units='deg', patch_centers=cat_l.patch_centers)\n",
    "                             #patch_centers=cen_file_switch_on )\n",
    "    \n",
    "    dd = treecorr.NNCorrelation(nbins=nbins, min_sep=min_sep,\n",
    "                            max_sep=max_sep, sep_units=sep_units, bin_slop=bin_slop, \n",
    "                            var_method=var_method,\n",
    "                            num_threads=30, verbose=1)\n",
    "    dr = treecorr.NNCorrelation(nbins=nbins, min_sep=min_sep,\n",
    "                                max_sep=max_sep, sep_units=sep_units, bin_slop=bin_slop, \n",
    "                                var_method=var_method,\n",
    "                                num_threads=30, verbose=1)\n",
    "    rd = treecorr.NNCorrelation(nbins=nbins, min_sep=min_sep,\n",
    "                                max_sep=max_sep, sep_units=sep_units, bin_slop=bin_slop, \n",
    "                                var_method=var_method,\n",
    "                                num_threads=30, verbose=1)\n",
    "    rr = treecorr.NNCorrelation(nbins=nbins, min_sep=min_sep,\n",
    "                                max_sep=max_sep, sep_units=sep_units, bin_slop=bin_slop, \n",
    "                                var_method=var_method,\n",
    "                                num_threads=30, verbose=1)\n",
    "\n",
    "    dd.process(cat_l)\n",
    "    dr.process(cat_l, cat_r)\n",
    "    rd.process(cat_r, cat_l)\n",
    "    rr.process(cat_r)\n",
    "\n",
    "    #xi,varxi = dd.calculateXi(rr,dr)\n",
    "    dd.write(filename,rr,dr,rd)\n",
    "    cov_jk = dd.cov\n",
    "    \n",
    "    \n",
    "    #cov_jk = dd.estimate_cov(var_method)\n",
    "    #cov_jk_rand = rr.estimate_cov(var_method)\n",
    "    cov_filename=filename.split('.txt')[0]+'.cov'\n",
    "    np.savetxt(cov_filename, cov_jk)\n",
    "    \n",
    "    print ('save to', filename)\n"
   ]
  },
  {
   "cell_type": "code",
   "execution_count": 234,
   "metadata": {},
   "outputs": [],
   "source": [
    "sys.path.append('../code_py3/')\n",
    "from cmass_modules import io\n",
    "from utils import appendColumn\n",
    "#from utils import matchCatalogsbyPosition, hpHEALPixelToRaDec, HealPixifyCatalogs, spatialcheck\n",
    "#from xd import mixing_color_elg, assignELGProb, doVisualization_1d, XD_fitting_X\n",
    "#from run_DMASS_Y3 import priorCut_test\n",
    "#from systematics import *\n",
    "sys.path.append('../../DMASS-analysis/measurements/code_py3/')\n",
    "from ggl_mcal import run_ng_jk, run_nn_jk, run_nk_jk, compute_eix_jk, compute_Rgamma_jk, construct_jk, compute_jkcov, save_results"
   ]
  },
  {
   "cell_type": "code",
   "execution_count": 235,
   "metadata": {},
   "outputs": [],
   "source": [
    "from matplotlib import rc\n",
    "rc('font',**{'family':'sans-serif','sans-serif':['Helvetica']})\n",
    "## for Palatino and other serif fonts use:\n",
    "#rc('font',**{'family':'serif','serif':['Palatino']})\n",
    "rc('text', usetex=True)"
   ]
  },
  {
   "cell_type": "code",
   "execution_count": 369,
   "metadata": {},
   "outputs": [],
   "source": [
    "rootdir = '../output/test/'"
   ]
  },
  {
   "cell_type": "code",
   "execution_count": 370,
   "metadata": {},
   "outputs": [
    {
     "name": "stdout",
     "output_type": "stream",
     "text": [
      "\n",
      "Calling catalogs >>>\n",
      "DMASS_Y3_GOLD_2_0_SPT_ra10_20_decm40_m30_000001.fits\n",
      "DMASS_Y3_GOLD_2_0_SPT_ra10_20_decm40_m30_000002.fits\n",
      "DMASS_Y3_GOLD_2_0_SPT_ra10_20_decm40_m30_000003.fits\n",
      "DMASS_Y3_GOLD_2_0_SPT_ra10_20_decm40_m30_000004.fits\n",
      "DMASS_Y3_GOLD_2_0_SPT_ra10_20_decm40_m30_000005.fits\n",
      "DMASS_Y3_GOLD_2_0_SPT_ra10_20_decm40_m30_000006.fits\n",
      "DMASS_Y3_GOLD_2_0_SPT_ra10_20_decm40_m30_000007.fits\n",
      "DMASS_Y3_GOLD_2_0_SPT_ra10_20_decm40_m30_000008.fits\n",
      "DMASS_Y3_GOLD_2_0_SPT_ra10_20_decm40_m30_000009.fits\n",
      "DMASS_Y3_GOLD_2_0_SPT_ra10_20_decm40_m30_000010.fits\n",
      "DMASS_Y3_GOLD_2_0_SPT_ra10_20_decm40_m30_000011.fits\n",
      "DMASS_Y3_GOLD_2_0_SPT_ra10_20_decm40_m30_000012.fits\n",
      "DMASS_Y3_GOLD_2_0_SPT_ra10_20_decm40_m30_000013.fits\n",
      "DMASS_Y3_GOLD_2_0_SPT_ra10_20_decm40_m30_000014.fits\n",
      "DMASS_Y3_GOLD_2_0_SPT_ra10_20_decm40_m30_000015.fits\n",
      "DMASS_Y3_GOLD_2_0_SPT_ra10_20_decm40_m30_000016.fits\n",
      "DMASS_Y3_GOLD_2_0_SPT_ra10_20_decm40_m30_000017.fits\n",
      "reading 1/17 ../output/test//test_cat/DMASS_Y3_GOLD_2_0_SPT_ra10_20_decm40_m30_000001.fits\n",
      "reading 2/17 ../output/test//test_cat/DMASS_Y3_GOLD_2_0_SPT_ra10_20_decm40_m30_000002.fits\n",
      "reading 3/17 ../output/test//test_cat/DMASS_Y3_GOLD_2_0_SPT_ra10_20_decm40_m30_000003.fits\n",
      "reading 4/17 ../output/test//test_cat/DMASS_Y3_GOLD_2_0_SPT_ra10_20_decm40_m30_000004.fits\n",
      "reading 5/17 ../output/test//test_cat/DMASS_Y3_GOLD_2_0_SPT_ra10_20_decm40_m30_000005.fits\n",
      "reading 6/17 ../output/test//test_cat/DMASS_Y3_GOLD_2_0_SPT_ra10_20_decm40_m30_000006.fits\n",
      "reading 7/17 ../output/test//test_cat/DMASS_Y3_GOLD_2_0_SPT_ra10_20_decm40_m30_000007.fits\n",
      "reading 8/17 ../output/test//test_cat/DMASS_Y3_GOLD_2_0_SPT_ra10_20_decm40_m30_000008.fits\n",
      "reading 9/17 ../output/test//test_cat/DMASS_Y3_GOLD_2_0_SPT_ra10_20_decm40_m30_000009.fits\n",
      "reading 10/17 ../output/test//test_cat/DMASS_Y3_GOLD_2_0_SPT_ra10_20_decm40_m30_000010.fits\n",
      "reading 11/17 ../output/test//test_cat/DMASS_Y3_GOLD_2_0_SPT_ra10_20_decm40_m30_000011.fits\n",
      "reading 12/17 ../output/test//test_cat/DMASS_Y3_GOLD_2_0_SPT_ra10_20_decm40_m30_000012.fits\n",
      "reading 13/17 ../output/test//test_cat/DMASS_Y3_GOLD_2_0_SPT_ra10_20_decm40_m30_000013.fits\n",
      "reading 14/17 ../output/test//test_cat/DMASS_Y3_GOLD_2_0_SPT_ra10_20_decm40_m30_000014.fits\n",
      "reading 15/17 ../output/test//test_cat/DMASS_Y3_GOLD_2_0_SPT_ra10_20_decm40_m30_000015.fits\n",
      "reading 16/17 ../output/test//test_cat/DMASS_Y3_GOLD_2_0_SPT_ra10_20_decm40_m30_000016.fits\n",
      "reading 17/17 ../output/test//test_cat/DMASS_Y3_GOLD_2_0_SPT_ra10_20_decm40_m30_000017.fits\n"
     ]
    },
    {
     "ename": "ValueError",
     "evalue": "no field of name ELG_PROB",
     "output_type": "error",
     "traceback": [
      "\u001b[0;31m---------------------------------------------------------------------------\u001b[0m",
      "\u001b[0;31mValueError\u001b[0m                                Traceback (most recent call last)",
      "\u001b[0;32m<ipython-input-370-641ca827ac39>\u001b[0m in \u001b[0;36m<module>\u001b[0;34m\u001b[0m\n\u001b[1;32m      3\u001b[0m \u001b[0minput_keyword\u001b[0m \u001b[0;34m=\u001b[0m \u001b[0;34m'Y3_GOLD_2_0_SPT_ra10_20_decm40_m30_000'\u001b[0m\u001b[0;34m\u001b[0m\u001b[0;34m\u001b[0m\u001b[0m\n\u001b[1;32m      4\u001b[0m \u001b[0mgold_spt_prob\u001b[0m \u001b[0;34m=\u001b[0m \u001b[0mio\u001b[0m\u001b[0;34m.\u001b[0m\u001b[0mSearchAndCallFits\u001b[0m\u001b[0;34m(\u001b[0m\u001b[0mpath\u001b[0m \u001b[0;34m=\u001b[0m \u001b[0minput_path\u001b[0m\u001b[0;34m,\u001b[0m \u001b[0mkeyword\u001b[0m \u001b[0;34m=\u001b[0m \u001b[0minput_keyword\u001b[0m\u001b[0;34m,\u001b[0m \u001b[0mcolumns\u001b[0m\u001b[0;34m=\u001b[0m\u001b[0;32mNone\u001b[0m\u001b[0;34m)\u001b[0m\u001b[0;34m\u001b[0m\u001b[0;34m\u001b[0m\u001b[0m\n\u001b[0;32m----> 5\u001b[0;31m \u001b[0mpcut\u001b[0m \u001b[0;34m=\u001b[0m \u001b[0mgold_spt_prob\u001b[0m\u001b[0;34m[\u001b[0m\u001b[0;34m'ELG_PROB'\u001b[0m\u001b[0;34m]\u001b[0m \u001b[0;34m>\u001b[0m \u001b[0;36m0.01\u001b[0m\u001b[0;34m\u001b[0m\u001b[0;34m\u001b[0m\u001b[0m\n\u001b[0m\u001b[1;32m      6\u001b[0m \u001b[0mgold_spt_prob_pcut\u001b[0m \u001b[0;34m=\u001b[0m \u001b[0mgold_spt_prob\u001b[0m\u001b[0;34m[\u001b[0m \u001b[0mpcut\u001b[0m \u001b[0;34m]\u001b[0m\u001b[0;34m\u001b[0m\u001b[0;34m\u001b[0m\u001b[0m\n",
      "\u001b[0;31mValueError\u001b[0m: no field of name ELG_PROB"
     ]
    }
   ],
   "source": [
    "# calling the final catalog \n",
    "input_path = rootdir+'/test_cat/'\n",
    "input_keyword = 'Y3_GOLD_2_0_SPT_ra10_20_decm40_m30_000'\n",
    "gold_spt_prob = io.SearchAndCallFits(path = input_path, keyword = input_keyword, columns=None)\n",
    "pcut = gold_spt_prob['ELG_PROB'] > 0.01\n",
    "gold_spt_prob_pcut = gold_spt_prob[ pcut ]"
   ]
  },
  {
   "cell_type": "code",
   "execution_count": null,
   "metadata": {},
   "outputs": [],
   "source": [
    "N_delg = int(np.sum(gold_spt_prob_pcut['ELG_PROB']))\n",
    "print (N_delg)"
   ]
  },
  {
   "cell_type": "code",
   "execution_count": 343,
   "metadata": {},
   "outputs": [
    {
     "name": "stderr",
     "output_type": "stream",
     "text": [
      "/n/des/lee.5922/programs/anaconda3/envs/env_py3/lib/python3.8/site-packages/healpy/fitsfunc.py:351: UserWarning: If you are not specifying the input dtype and using the default np.float64 dtype of read_map(), please consider that it will change in a future version to None as to keep the same dtype of the input file: please explicitly set the dtype if it is important to you.\n",
      "  warnings.warn(\n"
     ]
    },
    {
     "name": "stdout",
     "output_type": "stream",
     "text": [
      "NSIDE = 4096\n",
      "ORDERING = NESTED in fits file\n",
      "INDXSCHM = IMPLICIT\n",
      "Ordering converted to RING\n"
     ]
    }
   ],
   "source": [
    "# calling Y3 GOLD footprint map\n",
    "# downloaded from https://cdcvs.fnal.gov/redmine/projects/des-y3/wiki/Y3A2_Gold_footprint\n",
    "mapname='../data/masks/y3a2_footprint_griz_1exp_v2.0.fits.gz'\n",
    "hpmap_y3gold = hp.read_map(mapname)\n",
    "goodmask = hp.mask_good(hpmap_y3gold)\n",
    "hpind_y3gold = np.arange(hpmap_y3gold.size)\n",
    "goodind = hpind_y3gold[goodmask]\n",
    "# Generate mask for eboss ELG\n",
    "#mask_train = np.in1d(elg['HEALIndex'],goodind)"
   ]
  },
  {
   "cell_type": "code",
   "execution_count": 344,
   "metadata": {},
   "outputs": [],
   "source": [
    "from utils import uniform_random_on_sphere, spatialcheck, HealPixifyCatalogs"
   ]
  },
  {
   "cell_type": "code",
   "execution_count": 371,
   "metadata": {},
   "outputs": [],
   "source": [
    "randoms = uniform_random_on_sphere(gold_spt_prob, size = N_delg*10, z=False )\n",
    "randoms = randoms[ np.in1d( randoms['HPIX'],goodind) ]"
   ]
  },
  {
   "cell_type": "code",
   "execution_count": 372,
   "metadata": {},
   "outputs": [],
   "source": [
    "weight_data = gold_spt_prob_pcut['ELG_PROB']\n",
    "weight_rand = np.ones(randoms.size)\n",
    "gold_spt_prob_pcut = appendColumn(gold_spt_prob_pcut, name='WEIGHT', value=weight_data)\n",
    "randoms = appendColumn(randoms, name='WEIGHT', value=weight_rand)"
   ]
  },
  {
   "cell_type": "code",
   "execution_count": 373,
   "metadata": {},
   "outputs": [],
   "source": [
    "#filename = '/n/des/lee.5922/data/eboss_cat/eBOSS_ELG_full_ALLdata-vDR16.fits'\n",
    "filename = '/n/des/lee.5922/data/eboss_cat/eBOSS_ELG_clustering_data-NGC-vDR16.fits'\n",
    "elg_ngc = esutil.io.read(filename)\n",
    "filename = '/n/des/lee.5922/data/eboss_cat/eBOSS_ELG_clustering_random-NGC-vDR16.fits'\n",
    "random_elg_ngc = esutil.io.read(filename)\n",
    "\n",
    "weight_data = elg_ngc['WEIGHT_FKP']* elg_ngc['WEIGHT_SYSTOT']*elg_ngc['WEIGHT_CP']*elg_ngc['WEIGHT_NOZ']\n",
    "weight_rand = random_elg_ngc['WEIGHT_FKP']* random_elg_ngc['WEIGHT_SYSTOT']*random_elg_ngc['WEIGHT_CP']*random_elg_ngc['WEIGHT_NOZ']\n",
    "elg_ngc = appendColumn(elg_ngc, name='WEIGHT', value=weight_data)\n",
    "random_elg_ngc = appendColumn(random_elg_ngc, name='WEIGHT', value=weight_rand)"
   ]
  },
  {
   "cell_type": "code",
   "execution_count": 374,
   "metadata": {},
   "outputs": [],
   "source": [
    "#filename = '/n/des/lee.5922/data/eboss_cat/eBOSS_ELG_full_ALLdata-vDR16.fits'\n",
    "filename = '/n/des/lee.5922/data/eboss_cat/eBOSS_ELG_clustering_data-SGC-vDR16.fits'\n",
    "elg = esutil.io.read(filename)\n",
    "filename = '/n/des/lee.5922/data/eboss_cat/eBOSS_ELG_clustering_random-SGC-vDR16.fits'\n",
    "random_elg = esutil.io.read(filename)"
   ]
  },
  {
   "cell_type": "code",
   "execution_count": 375,
   "metadata": {},
   "outputs": [],
   "source": [
    "weight_data = elg['WEIGHT_FKP']* elg['WEIGHT_SYSTOT']*elg['WEIGHT_CP']*elg['WEIGHT_NOZ']\n",
    "weight_rand = random_elg['WEIGHT_FKP']* random_elg['WEIGHT_SYSTOT']*random_elg['WEIGHT_CP']*random_elg['WEIGHT_NOZ']\n",
    "elg = appendColumn(elg, name='WEIGHT', value=weight_data)\n",
    "random_elg = appendColumn(random_elg, name='WEIGHT', value=weight_rand)"
   ]
  },
  {
   "cell_type": "code",
   "execution_count": 268,
   "metadata": {
    "collapsed": true
   },
   "outputs": [
    {
     "name": "stderr",
     "output_type": "stream",
     "text": [
      "/n/des/lee.5922/programs/anaconda3/envs/env_py3/lib/python3.8/site-packages/healpy/pixelfunc.py:481: RuntimeWarning: invalid value encountered in _ang2pix_ring\n",
      "  return pixlib._ang2pix_ring(nside, theta, phi)\n"
     ]
    },
    {
     "ename": "KeyboardInterrupt",
     "evalue": "",
     "output_type": "error",
     "traceback": [
      "\u001b[0;31m---------------------------------------------------------------------------\u001b[0m",
      "\u001b[0;31mKeyboardInterrupt\u001b[0m                         Traceback (most recent call last)",
      "    \u001b[0;31m[... skipping hidden 1 frame]\u001b[0m\n",
      "\u001b[0;32m<ipython-input-268-4d4797b9f777>\u001b[0m in \u001b[0;36m<module>\u001b[0;34m\u001b[0m\n\u001b[1;32m      5\u001b[0m \u001b[0;31m#elg = HealPixifyCatalogs(catalog=elg, healConfig=healConfig, ratag='RA', dectag = 'DEC')\u001b[0m\u001b[0;34m\u001b[0m\u001b[0;34m\u001b[0m\u001b[0;34m\u001b[0m\u001b[0m\n\u001b[0;32m----> 6\u001b[0;31m \u001b[0mrandom_elg\u001b[0m \u001b[0;34m=\u001b[0m \u001b[0mHealPixifyCatalogs\u001b[0m\u001b[0;34m(\u001b[0m\u001b[0mcatalog\u001b[0m\u001b[0;34m=\u001b[0m\u001b[0mrandom_elg\u001b[0m\u001b[0;34m,\u001b[0m \u001b[0mhealConfig\u001b[0m\u001b[0;34m=\u001b[0m\u001b[0mhealConfig\u001b[0m\u001b[0;34m,\u001b[0m \u001b[0mratag\u001b[0m\u001b[0;34m=\u001b[0m\u001b[0;34m'RA'\u001b[0m\u001b[0;34m,\u001b[0m \u001b[0mdectag\u001b[0m \u001b[0;34m=\u001b[0m \u001b[0;34m'DEC'\u001b[0m\u001b[0;34m)\u001b[0m\u001b[0;34m\u001b[0m\u001b[0;34m\u001b[0m\u001b[0m\n\u001b[0m",
      "\u001b[0;32m/n/des/lee.5922/programs/cosmolike/DMASS-algorithm/code_py3/utils.py\u001b[0m in \u001b[0;36mHealPixifyCatalogs\u001b[0;34m(catalog, healConfig, ratag, dectag)\u001b[0m\n\u001b[1;32m     86\u001b[0m     \u001b[0;32melse\u001b[0m\u001b[0;34m:\u001b[0m\u001b[0;34m\u001b[0m\u001b[0;34m\u001b[0m\u001b[0m\n\u001b[0;32m---> 87\u001b[0;31m         \u001b[0mhealCat\u001b[0m \u001b[0;34m=\u001b[0m \u001b[0mrf\u001b[0m\u001b[0;34m.\u001b[0m\u001b[0mappend_fields\u001b[0m\u001b[0;34m(\u001b[0m\u001b[0mcatalog\u001b[0m\u001b[0;34m,\u001b[0m\u001b[0;34m'HEALIndex'\u001b[0m\u001b[0;34m,\u001b[0m\u001b[0mHealInds\u001b[0m\u001b[0;34m,\u001b[0m\u001b[0mdtypes\u001b[0m\u001b[0;34m=\u001b[0m\u001b[0mHealInds\u001b[0m\u001b[0;34m.\u001b[0m\u001b[0mdtype\u001b[0m\u001b[0;34m)\u001b[0m\u001b[0;34m\u001b[0m\u001b[0;34m\u001b[0m\u001b[0m\n\u001b[0m\u001b[1;32m     88\u001b[0m     \u001b[0;32mreturn\u001b[0m \u001b[0mhealCat\u001b[0m\u001b[0;34m\u001b[0m\u001b[0;34m\u001b[0m\u001b[0m\n",
      "\u001b[0;32m<__array_function__ internals>\u001b[0m in \u001b[0;36mappend_fields\u001b[0;34m(*args, **kwargs)\u001b[0m\n",
      "\u001b[0;32m/n/des/lee.5922/programs/anaconda3/envs/env_py3/lib/python3.8/site-packages/numpy/lib/recfunctions.py\u001b[0m in \u001b[0;36mappend_fields\u001b[0;34m(base, names, data, dtypes, fill_value, usemask, asrecarray)\u001b[0m\n\u001b[1;32m    730\u001b[0m     \u001b[0;31m#\u001b[0m\u001b[0;34m\u001b[0m\u001b[0;34m\u001b[0m\u001b[0;34m\u001b[0m\u001b[0m\n\u001b[0;32m--> 731\u001b[0;31m     \u001b[0mbase\u001b[0m \u001b[0;34m=\u001b[0m \u001b[0mmerge_arrays\u001b[0m\u001b[0;34m(\u001b[0m\u001b[0mbase\u001b[0m\u001b[0;34m,\u001b[0m \u001b[0musemask\u001b[0m\u001b[0;34m=\u001b[0m\u001b[0musemask\u001b[0m\u001b[0;34m,\u001b[0m \u001b[0mfill_value\u001b[0m\u001b[0;34m=\u001b[0m\u001b[0mfill_value\u001b[0m\u001b[0;34m)\u001b[0m\u001b[0;34m\u001b[0m\u001b[0;34m\u001b[0m\u001b[0m\n\u001b[0m\u001b[1;32m    732\u001b[0m     \u001b[0;32mif\u001b[0m \u001b[0mlen\u001b[0m\u001b[0;34m(\u001b[0m\u001b[0mdata\u001b[0m\u001b[0;34m)\u001b[0m \u001b[0;34m>\u001b[0m \u001b[0;36m1\u001b[0m\u001b[0;34m:\u001b[0m\u001b[0;34m\u001b[0m\u001b[0;34m\u001b[0m\u001b[0m\n",
      "\u001b[0;32m<__array_function__ internals>\u001b[0m in \u001b[0;36mmerge_arrays\u001b[0;34m(*args, **kwargs)\u001b[0m\n",
      "\u001b[0;32m/n/des/lee.5922/programs/anaconda3/envs/env_py3/lib/python3.8/site-packages/numpy/ma/core.py\u001b[0m in \u001b[0;36m__getitem__\u001b[0;34m(self, indx)\u001b[0m\n\u001b[1;32m   3239\u001b[0m                 \u001b[0;31m# on rows that have no masked values, which is inconsistent.\u001b[0m\u001b[0;34m\u001b[0m\u001b[0;34m\u001b[0m\u001b[0;34m\u001b[0m\u001b[0m\n\u001b[0;32m-> 3240\u001b[0;31m                 \u001b[0;32mreturn\u001b[0m \u001b[0mmvoid\u001b[0m\u001b[0;34m(\u001b[0m\u001b[0mdout\u001b[0m\u001b[0;34m,\u001b[0m \u001b[0mmask\u001b[0m\u001b[0;34m=\u001b[0m\u001b[0mmout\u001b[0m\u001b[0;34m,\u001b[0m \u001b[0mhardmask\u001b[0m\u001b[0;34m=\u001b[0m\u001b[0mself\u001b[0m\u001b[0;34m.\u001b[0m\u001b[0m_hardmask\u001b[0m\u001b[0;34m)\u001b[0m\u001b[0;34m\u001b[0m\u001b[0;34m\u001b[0m\u001b[0m\n\u001b[0m\u001b[1;32m   3241\u001b[0m \u001b[0;34m\u001b[0m\u001b[0m\n",
      "\u001b[0;32m/n/des/lee.5922/programs/anaconda3/envs/env_py3/lib/python3.8/site-packages/numpy/ma/core.py\u001b[0m in \u001b[0;36m__new__\u001b[0;34m(self, data, mask, dtype, fill_value, hardmask, copy, subok)\u001b[0m\n\u001b[1;32m   6159\u001b[0m         \u001b[0m_data\u001b[0m \u001b[0;34m=\u001b[0m \u001b[0mnp\u001b[0m\u001b[0;34m.\u001b[0m\u001b[0marray\u001b[0m\u001b[0;34m(\u001b[0m\u001b[0mdata\u001b[0m\u001b[0;34m,\u001b[0m \u001b[0mcopy\u001b[0m\u001b[0;34m=\u001b[0m\u001b[0mcopy\u001b[0m\u001b[0;34m,\u001b[0m \u001b[0msubok\u001b[0m\u001b[0;34m=\u001b[0m\u001b[0msubok\u001b[0m\u001b[0;34m,\u001b[0m \u001b[0mdtype\u001b[0m\u001b[0;34m=\u001b[0m\u001b[0mdtype\u001b[0m\u001b[0;34m)\u001b[0m\u001b[0;34m\u001b[0m\u001b[0;34m\u001b[0m\u001b[0m\n\u001b[0;32m-> 6160\u001b[0;31m         \u001b[0m_data\u001b[0m \u001b[0;34m=\u001b[0m \u001b[0m_data\u001b[0m\u001b[0;34m.\u001b[0m\u001b[0mview\u001b[0m\u001b[0;34m(\u001b[0m\u001b[0mself\u001b[0m\u001b[0;34m)\u001b[0m\u001b[0;34m\u001b[0m\u001b[0;34m\u001b[0m\u001b[0m\n\u001b[0m\u001b[1;32m   6161\u001b[0m         \u001b[0m_data\u001b[0m\u001b[0;34m.\u001b[0m\u001b[0m_hardmask\u001b[0m \u001b[0;34m=\u001b[0m \u001b[0mhardmask\u001b[0m\u001b[0;34m\u001b[0m\u001b[0;34m\u001b[0m\u001b[0m\n",
      "\u001b[0;32m/n/des/lee.5922/programs/anaconda3/envs/env_py3/lib/python3.8/site-packages/numpy/ma/core.py\u001b[0m in \u001b[0;36m__array_finalize__\u001b[0;34m(self, obj)\u001b[0m\n\u001b[1;32m   2975\u001b[0m             \u001b[0;32mif\u001b[0m \u001b[0mobj\u001b[0m\u001b[0;34m.\u001b[0m\u001b[0mdtype\u001b[0m\u001b[0;34m.\u001b[0m\u001b[0mnames\u001b[0m \u001b[0;32mis\u001b[0m \u001b[0;32mnot\u001b[0m \u001b[0;32mNone\u001b[0m\u001b[0;34m:\u001b[0m\u001b[0;34m\u001b[0m\u001b[0;34m\u001b[0m\u001b[0m\n\u001b[0;32m-> 2976\u001b[0;31m                 \u001b[0m_mask\u001b[0m \u001b[0;34m=\u001b[0m \u001b[0mgetmaskarray\u001b[0m\u001b[0;34m(\u001b[0m\u001b[0mobj\u001b[0m\u001b[0;34m)\u001b[0m\u001b[0;34m\u001b[0m\u001b[0;34m\u001b[0m\u001b[0m\n\u001b[0m\u001b[1;32m   2977\u001b[0m             \u001b[0;32melse\u001b[0m\u001b[0;34m:\u001b[0m\u001b[0;34m\u001b[0m\u001b[0;34m\u001b[0m\u001b[0m\n",
      "\u001b[0;32m/n/des/lee.5922/programs/anaconda3/envs/env_py3/lib/python3.8/site-packages/numpy/ma/core.py\u001b[0m in \u001b[0;36mgetmaskarray\u001b[0;34m(arr)\u001b[0m\n\u001b[1;32m   1478\u001b[0m     \u001b[0;32mif\u001b[0m \u001b[0mmask\u001b[0m \u001b[0;32mis\u001b[0m \u001b[0mnomask\u001b[0m\u001b[0;34m:\u001b[0m\u001b[0;34m\u001b[0m\u001b[0;34m\u001b[0m\u001b[0m\n\u001b[0;32m-> 1479\u001b[0;31m         \u001b[0mmask\u001b[0m \u001b[0;34m=\u001b[0m \u001b[0mmake_mask_none\u001b[0m\u001b[0;34m(\u001b[0m\u001b[0mnp\u001b[0m\u001b[0;34m.\u001b[0m\u001b[0mshape\u001b[0m\u001b[0;34m(\u001b[0m\u001b[0marr\u001b[0m\u001b[0;34m)\u001b[0m\u001b[0;34m,\u001b[0m \u001b[0mgetattr\u001b[0m\u001b[0;34m(\u001b[0m\u001b[0marr\u001b[0m\u001b[0;34m,\u001b[0m \u001b[0;34m'dtype'\u001b[0m\u001b[0;34m,\u001b[0m \u001b[0;32mNone\u001b[0m\u001b[0;34m)\u001b[0m\u001b[0;34m)\u001b[0m\u001b[0;34m\u001b[0m\u001b[0;34m\u001b[0m\u001b[0m\n\u001b[0m\u001b[1;32m   1480\u001b[0m     \u001b[0;32mreturn\u001b[0m \u001b[0mmask\u001b[0m\u001b[0;34m\u001b[0m\u001b[0;34m\u001b[0m\u001b[0m\n",
      "\u001b[0;32m/n/des/lee.5922/programs/anaconda3/envs/env_py3/lib/python3.8/site-packages/numpy/ma/core.py\u001b[0m in \u001b[0;36mmake_mask_none\u001b[0;34m(newshape, dtype)\u001b[0m\n\u001b[1;32m   1695\u001b[0m     \u001b[0;32melse\u001b[0m\u001b[0;34m:\u001b[0m\u001b[0;34m\u001b[0m\u001b[0;34m\u001b[0m\u001b[0m\n\u001b[0;32m-> 1696\u001b[0;31m         \u001b[0mresult\u001b[0m \u001b[0;34m=\u001b[0m \u001b[0mnp\u001b[0m\u001b[0;34m.\u001b[0m\u001b[0mzeros\u001b[0m\u001b[0;34m(\u001b[0m\u001b[0mnewshape\u001b[0m\u001b[0;34m,\u001b[0m \u001b[0mdtype\u001b[0m\u001b[0;34m=\u001b[0m\u001b[0mmake_mask_descr\u001b[0m\u001b[0;34m(\u001b[0m\u001b[0mdtype\u001b[0m\u001b[0;34m)\u001b[0m\u001b[0;34m)\u001b[0m\u001b[0;34m\u001b[0m\u001b[0;34m\u001b[0m\u001b[0m\n\u001b[0m\u001b[1;32m   1697\u001b[0m     \u001b[0;32mreturn\u001b[0m \u001b[0mresult\u001b[0m\u001b[0;34m\u001b[0m\u001b[0;34m\u001b[0m\u001b[0m\n",
      "\u001b[0;31mKeyboardInterrupt\u001b[0m: ",
      "\nDuring handling of the above exception, another exception occurred:\n",
      "\u001b[0;31mKeyboardInterrupt\u001b[0m                         Traceback (most recent call last)",
      "\u001b[0;31mKeyboardInterrupt\u001b[0m: "
     ]
    }
   ],
   "source": [
    "\n",
    "# Add healpix index to ELG catalog\n",
    "healConfig = {'map_inside':4096,\n",
    "              'out_nside':4096,\n",
    "              'nest':False}\n",
    "elg = HealPixifyCatalogs(catalog=elg, healConfig=healConfig, ratag='RA', dectag = 'DEC')\n",
    "random_elg = HealPixifyCatalogs(catalog=random_elg, healConfig=healConfig, ratag='RA', dectag = 'DEC')"
   ]
  },
  {
   "cell_type": "code",
   "execution_count": 384,
   "metadata": {},
   "outputs": [
    {
     "name": "stdout",
     "output_type": "stream",
     "text": [
      "save to ../output/test//2pt/elg_sgc_jk//100/nn.lens.txt\n"
     ]
    }
   ],
   "source": [
    "npatch=100\n",
    "\n",
    "twoptdir = rootdir+'/2pt/elg_sgc_jk/'\n",
    "tempdir = twoptdir+'/{}/'.format(npatch)\n",
    "#cen_file = tempdir + 'nn_cen_file.txt'\n",
    "filename = tempdir + 'nn.lens.txt'\n",
    "\n",
    "os.system('rm -rf '+tempdir)\n",
    "os.makedirs( tempdir, exist_ok=True )\n",
    "\n",
    "treecorr_xi(elg, random=random_elg,\n",
    "        filename=filename, rootdir = tempdir, \n",
    "        nbins=20, min_sep=2.5, max_sep=250., sep_units='arcmin', bin_slop=0.1,\n",
    "        npatch=npatch, cen_file=None, var_method='jackknife', )"
   ]
  },
  {
   "cell_type": "code",
   "execution_count": 385,
   "metadata": {},
   "outputs": [
    {
     "name": "stdout",
     "output_type": "stream",
     "text": [
      "save to ../output/test//2pt/elg_ngc_jk//100/nn.lens.txt\n"
     ]
    }
   ],
   "source": [
    "npatch=100\n",
    "\n",
    "twoptdir = rootdir+'/2pt/elg_ngc_jk/'\n",
    "tempdir = twoptdir+'/{}/'.format(npatch)\n",
    "#cen_file = tempdir + 'nn_cen_file.txt'\n",
    "filename = tempdir + 'nn.lens.txt'\n",
    "\n",
    "os.system('rm -rf '+tempdir)\n",
    "os.makedirs( tempdir, exist_ok=True )\n",
    "\n",
    "treecorr_xi(elg_ngc, random=random_elg_ngc,\n",
    "        filename=filename, rootdir = tempdir, \n",
    "        nbins=20, min_sep=2.5, max_sep=250., sep_units='arcmin', bin_slop=0.1,\n",
    "        npatch=npatch, cen_file=None, var_method='jackknife', )"
   ]
  },
  {
   "cell_type": "code",
   "execution_count": 386,
   "metadata": {},
   "outputs": [
    {
     "name": "stdout",
     "output_type": "stream",
     "text": [
      "save to ../output/test//2pt/delg_jk//100/nn.lens.txt\n"
     ]
    }
   ],
   "source": [
    "npatch=100\n",
    "\n",
    "twoptdir = rootdir+'/2pt/delg_jk/'\n",
    "tempdir = twoptdir+'/{}/'.format(npatch)\n",
    "#cen_file = tempdir + 'nn_cen_file.txt'\n",
    "filename = tempdir + 'nn.lens.txt'\n",
    "\n",
    "os.system('rm -rf '+tempdir)\n",
    "os.makedirs( tempdir, exist_ok=True )\n",
    "\n",
    "treecorr_xi(gold_spt_prob_pcut, random=randoms,\n",
    "        filename=filename, rootdir = tempdir, \n",
    "        nbins=20, min_sep=2.5, max_sep=250., sep_units='arcmin', bin_slop=0.1,\n",
    "        npatch=npatch, cen_file=None, var_method='jackknife', )"
   ]
  },
  {
   "cell_type": "code",
   "execution_count": 387,
   "metadata": {},
   "outputs": [],
   "source": [
    "tempdir = rootdir+'/2pt/elg_sgc_jk/'\n",
    "cov_elg= np.genfromtxt(tempdir+'/{}/nn.lens.cov'.format(npatch))\n",
    "err_elg = np.sqrt(cov_elg.diagonal())\n",
    "_, meanr_elg, _, galaxy_xi_elg, xi_err_elg, DD_elg_sgc, RR_elg_sgc, DR_elg_sgc, _, npairs_elg_sgc = \\\n",
    "np.genfromtxt(tempdir+'/{}/nn.lens.txt'.format(npatch), unpack=True)"
   ]
  },
  {
   "cell_type": "code",
   "execution_count": 388,
   "metadata": {},
   "outputs": [],
   "source": [
    "tempdir = rootdir+'/2pt/elg_ngc_jk/'\n",
    "cov_elg_ngc= np.genfromtxt(tempdir+'/{}/nn.lens.cov'.format(npatch))\n",
    "err_elg_ngc = np.sqrt(cov_elg.diagonal())\n",
    "_, meanr_elg_ngc, _, galaxy_xi_elg_ngc, xi_err_elg_ngc, \\\n",
    "DD_elg_ngc, RR_elg_ngc, DR_elg_ngc, _, npairs_elg_ngc = \\\n",
    "np.genfromtxt(tempdir+'/{}/nn.lens.txt'.format(npatch), unpack=True)"
   ]
  },
  {
   "cell_type": "code",
   "execution_count": 389,
   "metadata": {},
   "outputs": [],
   "source": [
    "DD_elg = DD_elg_sgc + DD_elg_ngc\n",
    "DR_elg = DR_elg_sgc + DR_elg_ngc\n",
    "RR_elg = RR_elg_sgc + RR_elg_ngc\n",
    "xi_elg_total = (DD_elg + RR_elg - 2*DR_elg)/RR_elg\n",
    "err_elg_total = 1./np.sqrt( 1./cov_elg.diagonal() + 1./cov_elg_ngc.diagonal() )"
   ]
  },
  {
   "cell_type": "code",
   "execution_count": 390,
   "metadata": {},
   "outputs": [],
   "source": [
    "tempdir = rootdir+'/2pt/delg_jk/'\n",
    "cov_delg= np.genfromtxt(tempdir+'/{}/nn.lens.cov'.format(npatch))\n",
    "err_delg = np.sqrt(cov_delg.diagonal())\n",
    "_, meanr_delg, _, galaxy_xi_delg, xi_err_delg,_,_,_,_,_ = \\\n",
    "np.genfromtxt(tempdir+'/{}/nn.lens.txt'.format(npatch), unpack=True)"
   ]
  },
  {
   "cell_type": "code",
   "execution_count": 393,
   "metadata": {},
   "outputs": [
    {
     "data": {
      "text/plain": [
       "Text(0.5, 0.1, '${\\\\rm Very~Preliminary}$')"
      ]
     },
     "execution_count": 393,
     "metadata": {},
     "output_type": "execute_result"
    },
    {
     "data": {
      "image/png": "[encoded data removed]",
      "text/plain": [
       "<Figure size 504x360 with 1 Axes>"
      ]
     },
     "metadata": {
      "needs_background": "light"
     },
     "output_type": "display_data"
    }
   ],
   "source": [
    "fig, ax = plt.subplots(figsize=(7,5))\n",
    "\n",
    "ax.errorbar(meanr_elg, xi_elg_total, yerr=err_elg_total, fmt='o', color='k', capsize=5, label='${\\\\rm eBOSS ~ELG~(full)}$')\n",
    "ax.errorbar(meanr_elg*1.03, galaxy_xi_elg, yerr=err_elg, fmt='o', capsize=5, label='${\\\\rm eBOSS ~ELG~(SGC)}$')\n",
    "#ax.errorbar(meanr_elg_ngc, galaxy_xi_elg_ngc, yerr=err_elg_ngc, fmt='o', capsize=5, label='${\\\\rm eBOSS ~ELG~(NGC)}$')\n",
    "ax.errorbar(meanr_delg*1.06, galaxy_xi_delg, yerr=err_delg, fmt='o',capsize=5, label='${\\\\rm DES ~ELG ~(small~patch)}$')\n",
    "\n",
    "\n",
    "ax.set_xscale('log')\n",
    "ax.set_yscale('log')\n",
    "ax.legend(fontsize=15)\n",
    "ax.set_xlabel('$\\\\theta {\\\\rm[arcmin]}$', fontsize=15)\n",
    "ax.set_ylabel('$w(\\\\theta)$',fontsize=15)\n",
    "\n",
    "ax.tick_params(labelsize=15)\n",
    "\n",
    "ax.text(0.5, 0.1, '${\\\\rm Very~Preliminary}$', transform=ax.transAxes,\n",
    "        fontsize=50, color='gray', alpha=0.5,\n",
    "        ha='center', va='bottom', rotation='0')"
   ]
  },
  {
   "cell_type": "code",
   "execution_count": null,
   "metadata": {},
   "outputs": [],
   "source": []
  },
  {
   "cell_type": "code",
   "execution_count": 339,
   "metadata": {},
   "outputs": [
    {
     "data": {
      "text/plain": [
       "Text(0.5, 0.1, '${\\\\rm Very~Preliminary}$')"
      ]
     },
     "execution_count": 339,
     "metadata": {},
     "output_type": "execute_result"
    },
    {
     "data": {
      "image/png": "[encoded data removed]",
      "text/plain": [
       "<Figure size 720x504 with 1 Axes>"
      ]
     },
     "metadata": {
      "needs_background": "light"
     },
     "output_type": "display_data"
    }
   ],
   "source": [
    "fig, ax = plt.subplots(figsize=(10,7))\n",
    "\n",
    "ax.errorbar(meanr_elg, xi_elg_total, yerr=err_elg_total, fmt='o', color='k', capsize=5, label='${\\\\rm eBOSS ~ELG~(full)}$')\n",
    "ax.errorbar(meanr_elg*1.03, galaxy_xi_elg, yerr=err_elg, fmt='o', capsize=5, label='${\\\\rm eBOSS ~ELG~(SGC)}$')\n",
    "#ax.errorbar(meanr_elg_ngc, galaxy_xi_elg_ngc, yerr=err_elg_ngc, fmt='o', capsize=5, label='${\\\\rm eBOSS ~ELG~(NGC)}$')\n",
    "ax.errorbar(meanr_delg*1.06, galaxy_xi_delg, yerr=err_delg, fmt='o',capsize=5, label='${\\\\rm DES ~ELG ~(small~patch)}$')\n",
    "\n",
    "\n",
    "ax.set_xscale('log')\n",
    "ax.set_yscale('log')\n",
    "ax.legend(fontsize=15)\n",
    "ax.set_xlabel('$\\\\theta {\\\\rm[arcmin]}$', fontsize=15)\n",
    "ax.set_ylabel('$w(\\\\theta)$',fontsize=15)\n",
    "\n",
    "ax.tick_params(labelsize=15)\n",
    "\n",
    "ax.text(0.5, 0.1, '${\\\\rm Very~Preliminary}$', transform=ax.transAxes,\n",
    "        fontsize=100, color='gray', alpha=0.5,\n",
    "        ha='center', va='bottom', rotation='0')"
   ]
  },
  {
   "cell_type": "code",
   "execution_count": null,
   "metadata": {},
   "outputs": [],
   "source": []
  }
 ],
 "metadata": {
  "kernelspec": {
   "display_name": "env_py3",
   "language": "python",
   "name": "env_py3"
  },
  "language_info": {
   "codemirror_mode": {
    "name": "ipython",
    "version": 3
   },
   "file_extension": ".py",
   "mimetype": "text/x-python",
   "name": "python",
   "nbconvert_exporter": "python",
   "pygments_lexer": "ipython3",
   "version": "3.8.3"
  }
 },
 "nbformat": 4,
 "nbformat_minor": 2
}
