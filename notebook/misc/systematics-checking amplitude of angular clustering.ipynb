{
 "cells": [
  {
   "cell_type": "code",
   "execution_count": 1,
   "metadata": {},
   "outputs": [],
   "source": [
    "import sys\n",
    "sys.path.append('../')\n",
    "from xd import *\n",
    "from utils import *\n",
    "import esutil\n",
    "import healpy as hp\n",
    "from systematics import *\n",
    "from systematics_module import *\n",
    "\n",
    "%matplotlib inline\n",
    "\n",
    "%load_ext autoreload\n",
    "%autoreload 2"
   ]
  },
  {
   "cell_type": "markdown",
   "metadata": {},
   "source": [
    "## systematic test "
   ]
  },
  {
   "cell_type": "code",
   "execution_count": 2,
   "metadata": {
    "scrolled": true
   },
   "outputs": [],
   "source": [
    "import numpy as np"
   ]
  },
  {
   "cell_type": "code",
   "execution_count": 3,
   "metadata": {},
   "outputs": [],
   "source": [
    "from run_systematics import sys_iteration, fitting_SP, sys_ngal, weightmultiply, fitting_allSP, calling_sysMap, maskingCatalogSP"
   ]
  },
  {
   "cell_type": "code",
   "execution_count": 13,
   "metadata": {},
   "outputs": [
    {
     "data": {
      "text/plain": [
       "256"
      ]
     },
     "execution_count": 13,
     "metadata": {},
     "output_type": "execute_result"
    }
   ],
   "source": [
    "rootdir = '../output/sfd_train_photo_SamPle_nozband_ran10_3_full_tol1e5/'\n",
    "inputdir = rootdir\n",
    "figoutdir = inputdir+'/figure/'\n",
    "sysoutdir = inputdir+'/sys/'\n",
    "wdir = sysoutdir+'/weights/'\n",
    "basedir = inputdir + '/act/'\n",
    "os.system('mkdir '+inputdir)\n",
    "os.system('mkdir '+figoutdir)\n",
    "os.system('mkdir '+sysoutdir)\n",
    "os.system('mkdir '+wdir)\n",
    "#os.system('cp ../data_txt/systematics/4th/systematic*_no_weight.txt '+inputdir+'/.')"
   ]
  },
  {
   "cell_type": "code",
   "execution_count": 5,
   "metadata": {},
   "outputs": [],
   "source": [
    "# calling map \n",
    "GoldMask = callingEliGoldMask()\n",
    "#GoldMask_st82 = Cuts.SpatialCuts(GoldMask, ra=320, ra2=360, dec=-2, dec2=2)\n",
    "GoldMask_st82 = GoldMask[ GoldMask['DEC'] > -3.0 ]\n",
    "GoldMask_spt = GoldMask[ GoldMask['DEC'] < -3.0 ]\n",
    "#GoldMask_spt = cutcat20(GoldMask_spt)\n",
    "#GoldMask_spt = Cuts.SpatialCuts(GoldMask_spt, ra=0, ra2 = 100, dec=-52, dec2 = -48)\n",
    "\n",
    "pixarea = hp.nside2pixarea( 4096, degrees = True)\n",
    "sptnpix = GoldMask_spt['PIXEL'].size #hp.get_map_size( GoldMask_spt['PIXEL'] )\n",
    "st82npix =  GoldMask_st82['PIXEL'].size # hp.get_map_size( GoldMask_st82 )\n",
    "SPTMaparea = pixarea * sptnpix\n",
    "ST82Maparea = pixarea * st82npix"
   ]
  },
  {
   "cell_type": "code",
   "execution_count": 6,
   "metadata": {},
   "outputs": [
    {
     "data": {
      "text/plain": [
       "'../output/sfd_train_photo_SamPle_nozband_ran10_3_full_tol1e5/'"
      ]
     },
     "execution_count": 6,
     "metadata": {},
     "output_type": "execute_result"
    }
   ],
   "source": [
    "rootdir"
   ]
  },
  {
   "cell_type": "code",
   "execution_count": 6,
   "metadata": {},
   "outputs": [
    {
     "name": "stdout",
     "output_type": "stream",
     "text": [
      "\n",
      "--------------------------------\n",
      " calling catalog\n",
      "--------------------------------\n",
      "dmass_spt_sys_v3.fits\n",
      "dmass sample size : 120874.72753482158\n",
      "cmass sample size : 12639\n"
     ]
    }
   ],
   "source": [
    "# import DMASS\n",
    "\n",
    "#dmass = fitsio.read(rootdir+'spt.fits')\n",
    "#dmass = io.SearchAndCallFits(path = rootdir, keyword='gold_spt_prob')\n",
    "dmass = io.SearchAndCallFits(path = rootdir, keyword='dmass_spt_sys_v3.fits')\n",
    "dmass = appendColumn(cat = dmass, name='WEIGHT', value=dmass['EachProb_CMASS'])\n",
    "dmass = dmass[dmass['CMASS_PROB'] > 0.00]\n",
    "#dmass = dmass[dmass['VETO'] == 1]\n",
    "print 'dmass sample size :', np.sum(dmass['CMASS_PROB'])\n",
    "\n",
    "#dmass = cutcat20(dmass)\n",
    "#dmass_st82 = fitsio.read(rootdir+'dmass_st82_0004.fits')\n",
    "#dmass_st82 = io.SearchAndCallFits(path = rootdir, keyword='gold_st82_prob')\n",
    "#dmass_st82 = dmass_st82[dmass_st82['EachProb_CMASS'] > 0.01]\n",
    "\n",
    "cmass = fitsio.read(rootdir+'train_sample_des.fits')\n",
    "#print 'dmass st82 sample size :', np.sum(dmass_st82['CMASS_PROB'])\n",
    "print 'cmass sample size :', cmass.size\n",
    "\n",
    "\n",
    "\n",
    "#dmass_st82 = appendColumn(cat = dmass_st82, name='WEIGHT', value=dmass_st82['EachProb_CMASS'])\n",
    "#print np.sum(dmass['EachProb_CMASS']), np.sum(dmass_st82['EachProb_CMASS'])"
   ]
  },
  {
   "cell_type": "code",
   "execution_count": 7,
   "metadata": {},
   "outputs": [
    {
     "name": "stdout",
     "output_type": "stream",
     "text": [
      "\n",
      "--------------------------------\n",
      " calling catalog\n",
      "--------------------------------\n",
      "random_x50_dmass_spt.fits\n",
      "\n",
      "--------------------------------\n",
      " calling catalog\n",
      "--------------------------------\n",
      "random_x50_dmass_spt_masked.fits\n"
     ]
    }
   ],
   "source": [
    "rand2_unmasked = io.SearchAndCallFits(path = rootdir, keyword='random_x50_dmass_spt.fits')\n",
    "rand2 = io.SearchAndCallFits(path = rootdir, keyword='random_x50_dmass_spt_masked.fits')"
   ]
  },
  {
   "cell_type": "code",
   "execution_count": 8,
   "metadata": {},
   "outputs": [
    {
     "data": {
      "text/plain": [
       "('index',\n",
       " 'FLAGS_GOLD',\n",
       " 'FLAGS_BADREGION',\n",
       " 'MAG_MODEL_G',\n",
       " 'MAG_MODEL_R',\n",
       " 'MAG_MODEL_I',\n",
       " 'MAG_MODEL_Z',\n",
       " 'MAG_DETMODEL_G',\n",
       " 'MAG_DETMODEL_R',\n",
       " 'MAG_DETMODEL_I',\n",
       " 'MAG_DETMODEL_Z',\n",
       " 'MAGERR_DETMODEL_G',\n",
       " 'MAGERR_DETMODEL_R',\n",
       " 'MAGERR_DETMODEL_I',\n",
       " 'MAGERR_DETMODEL_Z',\n",
       " 'MAGERR_MODEL_G',\n",
       " 'MAGERR_MODEL_R',\n",
       " 'MAGERR_MODEL_I',\n",
       " 'MAGERR_MODEL_Z',\n",
       " 'MAG_AUTO_G',\n",
       " 'MAG_AUTO_R',\n",
       " 'MAG_AUTO_I',\n",
       " 'MAG_AUTO_Z',\n",
       " 'RA',\n",
       " 'DEC',\n",
       " 'COADD_OBJECTS_ID',\n",
       " 'MODEST_CLASS',\n",
       " 'HPIX',\n",
       " 'DESDM_ZP',\n",
       " 'SLR_SHIFT_G',\n",
       " 'SLR_SHIFT_R',\n",
       " 'SLR_SHIFT_I',\n",
       " 'SLR_SHIFT_Z',\n",
       " 'EBV',\n",
       " 'RA_sys',\n",
       " 'DEC_sys',\n",
       " 'EachProb_CMASS',\n",
       " 'CMASS_PROB',\n",
       " 'VETO',\n",
       " 'WEIGHT_SYS',\n",
       " 'WEIGHT0_fwhm_r',\n",
       " 'WEIGHT1_airmass_z',\n",
       " 'WEIGHT2_exptime_g',\n",
       " 'WEIGHT3_fwhm_i',\n",
       " 'WEIGHT4_airmass_g',\n",
       " 'WEIGHT5_fwhm_g',\n",
       " 'WEIGHT')"
      ]
     },
     "execution_count": 8,
     "metadata": {},
     "output_type": "execute_result"
    }
   ],
   "source": [
    "dmass.dtype.names"
   ]
  },
  {
   "cell_type": "code",
   "execution_count": 10,
   "metadata": {},
   "outputs": [
    {
     "name": "stdout",
     "output_type": "stream",
     "text": [
      "['vetoed', 'fwhm_r', 'airmass_z', 'exptime_g', 'fwhm_i', 'airmass_g', 'fwhm_g']\n"
     ]
    }
   ],
   "source": [
    "suf = 'wg_fwhm_r_airmass_z_exptime_g_fwhm_i_airmass_g_fwhm_g'\n",
    "#suf = 'wg_fwhm_r_airmass_z_exptime_g_fwhm_i_airmass_g_fwhm_g_airmass_i_skybrite_i'\n",
    "#suf = 'wg_fwhm_r_airmass_z_fwhm_i_skybrite_i_fwhm_g_airmass_g_fwhm_z_exptime_g_airmass_i_exptime_z_skybrite_z_airmass_r_skybrite_g'\n",
    "#suf = 'wg_fwhm_r_airmass_z_fwhm_i_skybrite_i_fwhm_g_airmass_g_fwhm_z_exptime_g_airmass_i_exptime_z'\n",
    "\n",
    "orderlabel = suf.split('_')[1:]\n",
    "order = []\n",
    "for i in np.arange(0, len(orderlabel), 2):\n",
    "    order.append( orderlabel[i]+'_'+orderlabel[i+1] )\n",
    "order = ['vetoed'] + order\n",
    "print order"
   ]
  },
  {
   "cell_type": "code",
   "execution_count": 15,
   "metadata": {},
   "outputs": [],
   "source": [
    "from systematics import brel_chisqr_fitting\n",
    "import scipy\n",
    "\n",
    "\n",
    "theta_th, theory = np.loadtxt('../data_txt/acf_cmass_ngc_theory.txt', unpack=True)\n",
    "theta_th, theory_sgc = np.loadtxt('../data_txt/acf_cmass_sgc_theory.txt', unpack=True)\n",
    "theory_sgc_interp = scipy.interpolate.interp1d(theta_th, theory_sgc)\n",
    "#theory_sgc_interp = theory_sgc_interp(meanr)\n",
    "\n",
    "meanr_sgc, xi_sgc, xi_err_sgc = np.loadtxt('../data_txt//acf_auto_cmass_sgc_sys_cp_nz_weight_nbins10_jk100.txt',unpack=True)\n",
    "cov_cmass_s = np.genfromtxt('../data_txt//acf_auto_cmass_sgc_sys_cp_nz_weight_nbins10_jk100.cov')\n",
    "\n",
    "\n",
    "labels_SP = ['no weight', 'veto'] + ['+ '+o for o in order[1:] ]\n",
    "\n",
    "filenames = [ basedir+ 'acf_auto_dmass_no_weight_pcut01_nbins10_jk100.txt', \\\n",
    "              basedir + 'acf_auto_dmass_veto_pcut01_nbins10_jk100.txt'\n",
    "            ] \\\n",
    "+[ basedir+'acf_auto_dmass_weight'+str(j)+'_pcut01_nbins10_jk100.txt' for j in range(0, len(labels_SP))]\n",
    "\n",
    "covnames = [ basedir+ 'acf_auto_dmass_no_weight_pcut01_nbins10_jk100.cov', \\\n",
    "              basedir + 'acf_auto_dmass_veto_pcut01_nbins10_jk100.cov'\n",
    "           ] \\\n",
    "+[ basedir+'acf_auto_dmass_weight'+str(j)+'_pcut01_nbins10_jk100.cov' for j in range(0, len(labels_SP))]"
   ]
  },
  {
   "cell_type": "code",
   "execution_count": 41,
   "metadata": {
    "scrolled": false
   },
   "outputs": [
    {
     "name": "stdout",
     "output_type": "stream",
     "text": [
      "no weight\n",
      "veto\n",
      "+ fwhm_r\n",
      "+ airmass_z\n",
      "+ exptime_g\n",
      "+ fwhm_i\n",
      "+ airmass_g\n",
      "+ fwhm_g\n"
     ]
    },
    {
     "data": {
      "image/png": "[encoded data removed]",
      "text/plain": [
       "<matplotlib.figure.Figure at 0x7fda5f1ffed0>"
      ]
     },
     "metadata": {},
     "output_type": "display_data"
    }
   ],
   "source": [
    "fig, ax = plt.subplots(figsize = (10, 8))\n",
    "\n",
    "#ax.errorbar(meanr_sgc, 1000*xi_sgc, yerr = 1000*xi_err_sgc, fmt = '.', color='k', label='CMASS SGC')\n",
    "#ax.plot(meanr_sgc, 1000*xi_sgc, 'k-', lw=0.5)\n",
    "\n",
    "for j in range(1, len(labels_SP)+1):\n",
    "    print labels_SP[j-1]\n",
    "    meanrw, xiw, xi_errw = np.loadtxt( filenames[j-1], unpack=True)\n",
    "    cov_dmass_w = np.loadtxt( covnames[j-1], unpack=True)\n",
    "    ax.errorbar(meanrw, 1000*xiw-1000*xi_sgc, yerr = 1000*xi_errw, fmt = '-', label = labels_SP[j-1])\n",
    "    \n",
    "#ax.errorbar(meanr, xi, yerr = xi_err, fmt = '-', color='r', label='dmass no weight')\n",
    "#ax.errorbar(meanr2, xi2, yerr = xi_err2, fmt = '-', color='b', label='dmass vetoed')\n",
    "\n",
    "#ax.errorbar(meanr4*0.95, xi4, yerr = xi_err4, fmt = '.', color='b', label='dmass no weight')\n",
    "#ax.errorbar(meanr3*1.05, xi3, yerr = xi_err3, fmt = '.', color='r', label='DMASS')\n",
    "\n",
    "\n",
    "\n",
    "\n",
    "#ax.plot(theta_th, theory, '-', color='grey', label='theory')\n",
    "#ax.plot(theta_th, theory_sgc, '--', color='grey', label='theory sgc')\n",
    "#ax.plot(theta_th, theta_th*theory_bias, '--', color='green', label='theory bias')\n",
    "\n",
    "ax.set_xscale('log')\n",
    "ax.set_yscale('linear')\n",
    "ax.legend(loc = 'best', fontsize = 10)\n",
    "#ax.text(1.5, 0.07, r'$\\chi^2 $ = {:0.3f}  (south)'.format(chisqr), fontsize = 12)\n",
    "ax.set_ylim(-5,5)\n",
    "ax.set_xlim(2.5/60, 250./60)\n",
    "ax.set_xlabel(r'$\\theta$ (deg)', fontsize = 25)\n",
    "ax.set_ylabel(r'$\\omega(\\theta)$', fontsize = 25)\n",
    "ax.tick_params(labelsize=20)\n",
    "#fig.savefig('../paper_figure/acf_comparison_cmass_dmass.pdf')"
   ]
  },
  {
   "cell_type": "code",
   "execution_count": 11,
   "metadata": {},
   "outputs": [
    {
     "ename": "NameError",
     "evalue": "name 'basedir' is not defined",
     "output_type": "error",
     "traceback": [
      "\u001b[0;31m---------------------------------------------------------------------------\u001b[0m",
      "\u001b[0;31mNameError\u001b[0m                                 Traceback (most recent call last)",
      "\u001b[0;32m<ipython-input-11-fd27b2287299>\u001b[0m in \u001b[0;36m<module>\u001b[0;34m()\u001b[0m\n\u001b[1;32m     22\u001b[0m \u001b[0mlabels_SP\u001b[0m \u001b[0;34m=\u001b[0m \u001b[0;34m[\u001b[0m\u001b[0;34m'no weight'\u001b[0m\u001b[0;34m,\u001b[0m \u001b[0;34m'veto'\u001b[0m\u001b[0;34m]\u001b[0m \u001b[0;34m+\u001b[0m \u001b[0;34m[\u001b[0m\u001b[0;34m'+ '\u001b[0m\u001b[0;34m+\u001b[0m\u001b[0mo\u001b[0m \u001b[0;32mfor\u001b[0m \u001b[0mo\u001b[0m \u001b[0;32min\u001b[0m \u001b[0morder\u001b[0m\u001b[0;34m[\u001b[0m\u001b[0;36m1\u001b[0m\u001b[0;34m:\u001b[0m\u001b[0;34m]\u001b[0m \u001b[0;34m]\u001b[0m\u001b[0;34m\u001b[0m\u001b[0m\n\u001b[1;32m     23\u001b[0m \u001b[0;34m\u001b[0m\u001b[0m\n\u001b[0;32m---> 24\u001b[0;31m filenames = [ basedir+ 'acf_auto_dmass_no_weight_pcut01_nbins10_jk100.txt',               basedir + 'acf_auto_dmass_veto_pcut01_nbins10_jk100.txt'\n\u001b[0m\u001b[1;32m     25\u001b[0m             ] \\\n\u001b[1;32m     26\u001b[0m \u001b[0;34m+\u001b[0m\u001b[0;34m[\u001b[0m \u001b[0mbasedir\u001b[0m\u001b[0;34m+\u001b[0m\u001b[0;34m'acf_auto_dmass_weight'\u001b[0m\u001b[0;34m+\u001b[0m\u001b[0mstr\u001b[0m\u001b[0;34m(\u001b[0m\u001b[0mj\u001b[0m\u001b[0;34m)\u001b[0m\u001b[0;34m+\u001b[0m\u001b[0;34m'_pcut01_nbins10_jk100.txt'\u001b[0m \u001b[0;32mfor\u001b[0m \u001b[0mj\u001b[0m \u001b[0;32min\u001b[0m \u001b[0mrange\u001b[0m\u001b[0;34m(\u001b[0m\u001b[0;36m0\u001b[0m\u001b[0;34m,\u001b[0m \u001b[0mlen\u001b[0m\u001b[0;34m(\u001b[0m\u001b[0mlabels_SP\u001b[0m\u001b[0;34m)\u001b[0m\u001b[0;34m)\u001b[0m\u001b[0;34m]\u001b[0m\u001b[0;34m\u001b[0m\u001b[0m\n",
      "\u001b[0;31mNameError\u001b[0m: name 'basedir' is not defined"
     ]
    },
    {
     "data": {
      "image/png": "[encoded data removed]",
      "text/plain": [
       "<matplotlib.figure.Figure at 0x7fda5f79f610>"
      ]
     },
     "metadata": {},
     "output_type": "display_data"
    }
   ],
   "source": [
    "\n",
    "\n",
    "for j in range(1, len(labels_SP)+1):\n",
    "#for j in [1,7]:\n",
    "    \n",
    "    print filenames[j-1]\n",
    "    meanrw, xiw, xi_errw = np.loadtxt( filenames[j-1], unpack=True)\n",
    "    cov_dmass_w = np.loadtxt( covnames[j-1], unpack=True)\n",
    "    #meanrw, xiw, xi_errw = np.loadtxt(basedir+'acf_auto_dmass_weight'+str(j)+'_nbins10_jk100.txt', unpack=True)\n",
    "    #cov_dmass_w = np.loadtxt(basedir+'acf_auto_dmass_weight'+str(j)+'_nbins10_jk100.cov', unpack=True)\n",
    "    HFd = 1.0 #HF(50, 10)\n",
    "    F_d = HFd * np.linalg.inv(cov_dmass_w)\n",
    "    err_brelw, brelw, chisqr_resultw = brel_chisqr_fitting(xiw, theory_sgc_interp(meanrw), F_d, verbose=True)\n",
    "    if j == 1 : \n",
    "        color = 'red'\n",
    "        ax.axvspan(2*brelw - err_brelw*2., 2*brelw + err_brelw*2.,  alpha=0.1, color='grey')\n",
    "        ax.axvline(x=2*brelw, color = 'grey', ls='--')\n",
    "        #ax.axvspan(- err_brelw*2.,  err_brelw*2.,  alpha=0.1, color='grey')\n",
    "        #ax.axvline(x=0, color = 'grey', ls='--')\n",
    "    else : color = 'k'  \n",
    "        \n",
    "    ax.errorbar(2*brelw, len(labels_SP)+1-j, xerr =err_brelw*2., fmt='-o', color=color)\n",
    "    \n",
    "#ax.set_xlabel(r'$\\Delta b = b_{fid} - b_x$', fontsize = 20)\n",
    "ax.set_xlabel(r'$b$', fontsize = 20)\n",
    "#ax.set_ylabel(r'$\\chi^2$')\n",
    "ax.legend(loc=1)\n",
    "ax.set_xlim(1.96, 2.06)\n",
    "#ax.set_yticks([1,2,3,4,5,6,7,8,9,10,11,12])\n",
    "ax.set_yticks(np.arange(1, len(labels_SP)+1 ))\n",
    "\n",
    "labels = labels_SP[::-1]\n",
    "ax.set_yticklabels( labels, fontsize = 15) \n",
    "#fig.savefig(figoutdir + 'sys_bias_weight.png')\n",
    "#print 'pic save to ', figoutdir + 'sys_bias_weight.png'"
   ]
  },
  {
   "cell_type": "markdown",
   "metadata": {},
   "source": [
    "# Angular Clustering"
   ]
  },
  {
   "cell_type": "code",
   "execution_count": 41,
   "metadata": {
    "collapsed": true
   },
   "outputs": [
    {
     "name": "stdout",
     "output_type": "stream",
     "text": [
      "calculate angular correlation function\n",
      "X (5206, 2)  centers (50, 2)  tol=1e-05  maxiter=200\n",
      "51 iterations  cluster sizes: [ 70  74  77 115  97  86 132  84 110 130 108 170  66 103  84 103  83  68\n",
      " 114 103 127 139 127  87  46  85 104 114 128  72  80  93 112  60 110 126\n",
      "  82 122  73 118 191 122  84  98 127 147 102 130 108 115]\n",
      "X (6777228, 2)  centers (50, 2)  tol=1e-05  maxiter=200\n",
      "116 iterations  cluster sizes: [ 99082 120257 127819 155004 147996 130400 188896 125052 144287 154132\n",
      " 148524 154813  93375 139048 133988 140639 109198 103674 153031 139688\n",
      " 136415 142736 144825 124158  53619  93599 149819 154450 140660 127174\n",
      " 127277 101212 116665 112569 138497 160170 138162 138624 123702 164029\n",
      " 167225 142363 119626 133862 148420 200984 146098 160664 133371 127350]\n",
      ". . . . . . . . . . . . . . . . . . . . . . . . . . . . . . . . . . . . . . . . . . . . . . . . . . saving data file to :  ../output/sfd_train_photo_SamPle_nozband_ran10_3_full_tol1e5//act//acf_auto_dmass_no_weight_pcut00_nbins10_jk50.txt\n",
      "calculate angular correlation function\n",
      "X (1656, 2)  centers (50, 2)  tol=1e-05  maxiter=200\n",
      "46 iterations  cluster sizes: [28 34 30 23 26 27 43 19 46 48 38 25 27 32 33 40 41 15 29 33  9 36 43 48\n",
      " 48 27 38 42 30 26 29 31 53 29 19 41 27 25 35 35 40 47 33 41 27 44 17 31\n",
      " 36 32]\n",
      "X (685616, 2)  centers (50, 2)  tol=1e-05  maxiter=200\n",
      "47 iterations  cluster sizes: [14704 12798 13785 13414 15094 13659 14058 13253 12884 15347 11826 10941\n",
      " 13123 13854 13031 13287 15737 11912 12392 15265 11241 14784 15441 16801\n",
      " 11268 13830 15554 13258 13677 13912 15388 14682 19427  5721 13218 17484\n",
      " 14896 12575 15108 13526 15532 16827 11558 13167 14029 14923 10146 13546\n",
      " 10049 13684]\n",
      ". . . . . . . . . . . . . . . . . . . . . . . . . . . . . . . . . . . . . . . . . . . . . . . . . . . saving data file to :  ../output/sfd_train_photo_SamPle_nozband_ran10_3_full_tol1e5//act//acf_auto_dmass_no_weight_pcut01_nbins10_jk50.txt\n"
     ]
    }
   ],
   "source": [
    "#tree corr\n",
    "from systematics_module.corr import angular_correlation, angular_correlation_poisson\n",
    "basedir = inputdir+'/act/'\n",
    "os.system('mkdir '+inputdir+'/act/')\n",
    "#angular_correlation(data = dmass_st82, rand = rand2_cmass, nbins=10, weight = [True, False], njack = 50, \n",
    "#                        suffix = '_dmass_st82_no_weight_nbins10_jk50', dir = basedir)\n",
    "#angular_correlation(data = dmass, rand = rand, nbins=10, weight = [True, False], njack = 50, \n",
    "#                        suffix = '_dmass_no_weight_nbins10_jk50', dir = basedir)\n",
    "\n",
    "angular_correlation(data = dmass, rand = rand2, nbins=10, weight = [True, False], njack = 50, \n",
    "                        suffix = '_dmass_no_weight_pcut00_nbins10_jk50', dir = basedir)\n",
    "\n",
    "pmask = (dmass['EachProb_CMASS'] > 0.01)\n",
    "angular_correlation(data = dmass[pmask], rand = rand2, nbins=10, weight = [True, False], njack = 50, \n",
    "                        suffix = '_dmass_no_weight_pcut01_nbins10_jk50', dir = basedir)"
   ]
  },
  {
   "cell_type": "code",
   "execution_count": 51,
   "metadata": {},
   "outputs": [
    {
     "name": "stdout",
     "output_type": "stream",
     "text": [
      "err db, db / br1, brmin, br2 : 0.026249121038352974 0.009020421295941938 0.9913004263627961 1.0045306448104372 1.0175495474011491\n",
      "err db, db / br1, brmin, br2 : 0.02152003641069089 0.03699521003078754 1.0080293768759565 1.0188462148537945 1.0295494132866474\n",
      "err db, db / br1, brmin, br2 : 0.026249121038352974 0.009020421295941938 0.9913004263627961 1.0045306448104372 1.0175495474011491\n",
      "err db, db / br1, brmin, br2 : 0.023670808676459876 -0.0156652430181885 0.9803020954989783 0.9922282516541626 1.0039729041754382\n",
      "pic save to  ../output/sfd_train_photo_SamPle_nozband_ran10_3_full_tol1e5//figure/sys_bias.png\n"
     ]
    },
    {
     "data": {
      "image/png": "[encoded data removed]",
      "text/plain": [
       "<matplotlib.figure.Figure at 0x7f26ac976890>"
      ]
     },
     "metadata": {},
     "output_type": "display_data"
    }
   ],
   "source": [
    "import scipy\n",
    "\n",
    "theta_th, theory = np.loadtxt('../data_txt/acf_cmass_ngc_theory.txt', unpack=True)\n",
    "theta_th, theory_sgc = np.loadtxt('../data_txt/acf_cmass_sgc_theory.txt', unpack=True)\n",
    "theory_sgc_interp = scipy.interpolate.interp1d(theta_th, theory_sgc)\n",
    "theory_ngc_interp = scipy.interpolate.interp1d(theta_th, theory)\n",
    "#theory_sgc_interp = theory_sgc_interp(meanr)\n",
    "\n",
    "fig, ax = plt.subplots(figsize = (3,7))\n",
    "brelsqr = np.linspace(0.8, 1.2, 5000) \n",
    "b_n = 2.0\n",
    "brelarr = np.sqrt(brelsqr)\n",
    "dbarray = b_n*(1-brelarr)\n",
    "\n",
    "labels_SP = ['dmass_no_weight_pcut00', 'dmass_no_weight_pcut01'] #, 'vetoed'] + ['+ '+o for o in order ]\n",
    "#labels_SP = ['dmass_st82_no_weight'] #, 'vetoed'] + ['+ '+o for o in order ]\n",
    "filenames = [ basedir+'acf_auto_'+str(j)+'_nbins10_jk50.txt' for j in labels_SP]\n",
    "covnames = [ basedir+'acf_auto_'+str(j)+'_nbins10_jk50.cov' for j in labels_SP]\n",
    "\n",
    "for j in range(0, len(labels_SP)+1):\n",
    "    \n",
    "    meanrw, xiw, xi_errw = np.loadtxt( filenames[j-1], unpack=True)\n",
    "    cov_dmass_w = np.loadtxt( covnames[j-1], unpack=True)\n",
    "    #meanrw, xiw, xi_errw = np.loadtxt(basedir+'acf_auto_dmass_weight'+str(j)+'_nbins10_jk100.txt', unpack=True)\n",
    "    #cov_dmass_w = np.loadtxt(basedir+'acf_auto_dmass_weight'+str(j)+'_nbins10_jk100.cov', unpack=True)\n",
    "    HFd = 1.0 #HF(100, 10)\n",
    "    F_d = HFd * np.linalg.inv(cov_dmass_w)\n",
    "    err_brelw, brelw, chisqr_resultw = brel_chisqr_fitting(xiw, theory_sgc_interp(meanrw), F_d, verbose=True)\n",
    "    color = 'k'       \n",
    "    ax.errorbar(2.-2*brelw, len(labels_SP)+1-j, xerr =err_brelw*2., fmt='-|', color=color)\n",
    "\n",
    "\n",
    "\n",
    "j += 1\n",
    "meanr_sgc, xi_sgc, xi_err_sgc = np.loadtxt('../data_txt//acf_auto_cmass_sgc_sys_cp_nz_weight_nbins10_jk100.txt',unpack=True)\n",
    "cov_cmass_s = np.genfromtxt('../data_txt//acf_auto_cmass_sgc_sys_cp_nz_weight_nbins10_jk100.cov')\n",
    "HFs = 1.0 #HF(100, 10)\n",
    "F_s = HFs * np.linalg.inv(cov_cmass_s)\n",
    "err_brel_sgc, brel_sgc, chisqr_result_sgc = brel_chisqr_fitting(xi_sgc, theory_sgc_interp(meanr_sgc), F_s, verbose=True)\n",
    "\n",
    "\"\"\"\n",
    "meanr_ngc, xi_ngc, xi_err_ngc = np.loadtxt('../data_txt//acf_auto_cmass_ngc_sys_cp_nz_weight_nbin10_jk100.txt',unpack=True)\n",
    "cov_cmass_n = np.genfromtxt('../data_txt//acf_auto_cmass_ngc_sys_cp_nz_weight_nbin10_jk100.cov')\n",
    "HFn = 1.0 #HF(100, 10)\n",
    "F_n = HFn * np.linalg.inv(cov_cmass_n)\n",
    "err_brel_ngc, brel_ngc, chisqr_result_ngc = brel_chisqr_fitting(xi_ngc, theory_ngc_interp(meanr_ngc), F_n, verbose=True)\n",
    "ax.errorbar(2.-2*brel_ngc, len(labels_SP)+1-j-1 , xerr =err_brel_ngc*2., fmt='-|', color='b')\n",
    "\"\"\"\n",
    "\n",
    "\n",
    "\n",
    "ax.errorbar(2.-2*brel_sgc, len(labels_SP)+1-j , xerr =err_brel_sgc*2., fmt='-|', color='r')\n",
    "ax.axvspan( - err_brel_sgc*2., err_brel_sgc*2.,  alpha=0.1, color='red')\n",
    "ax.axvline(x=0.0, color = 'grey', ls='--')\n",
    "        \n",
    "ax.set_xlabel(r'$\\Delta b = b_{th} - b_x$', fontsize = 20)\n",
    "#ax.set_ylabel(r'$\\chi^2$')\n",
    "ax.legend(loc=1)\n",
    "#ax.set_xlim(-0.1+0.02, 0.1+0.02)\n",
    "#ax.set_yticks([1,2,3,4,5,6,7,8,9,10,11,12])\n",
    "ax.set_yticks(np.arange(0, len(labels_SP)+1 ))\n",
    "\n",
    "labels = labels_SP[::-1]\n",
    "labels = [ 'cmass sgc', 'dmass pcut0.1', 'dmass pcut 0.0']\n",
    "ax.set_yticklabels( labels, fontsize = 15) \n",
    "ax.set_ylim(-1, 3)\n",
    "ax.set_xlim(-0.1, 0.1)\n",
    "fig.savefig(figoutdir + 'sys_bias.png')\n",
    "print 'pic save to ', figoutdir + 'sys_bias.png'\n",
    "\n"
   ]
  },
  {
   "cell_type": "markdown",
   "metadata": {},
   "source": [
    "# Systematics "
   ]
  },
  {
   "cell_type": "code",
   "execution_count": 13,
   "metadata": {},
   "outputs": [],
   "source": [
    "kind = 'SPT'\n",
    "FullArea = SPTMaparea\n",
    "properties = ['DEPTH', 'EXPTIME', 'AIRMASS', 'SKYBRITE', 'FWHM']\n",
    "suffix='no_weight'"
   ]
  },
  {
   "cell_type": "code",
   "execution_count": 14,
   "metadata": {
    "collapsed": true
   },
   "outputs": [
    {
     "name": "stdout",
     "output_type": "stream",
     "text": [
      "\n",
      "PATH =  /n/des/lee.5922/data/systematic_maps/Y1A1NEW_COADD_SPT/nside4096_oversamp4/\n",
      "Y1A1NEW_COADD_SPT_band_g_nside4096_oversamp4_maglimit3__.fits.gz\n",
      "NSIDE = 4096\n",
      "ORDERING = RING in fits file\n",
      "INDXSCHM = EXPLICIT\n",
      "\n",
      "PATH =  /n/des/lee.5922/data/systematic_maps/Y1A1NEW_COADD_SPT/nside4096_oversamp4/\n",
      "Y1A1NEW_COADD_SPT_band_r_nside4096_oversamp4_maglimit3__.fits.gz\n",
      "NSIDE = 4096\n",
      "ORDERING = RING in fits file\n",
      "INDXSCHM = EXPLICIT\n",
      "\n",
      "PATH =  /n/des/lee.5922/data/systematic_maps/Y1A1NEW_COADD_SPT/nside4096_oversamp4/\n",
      "Y1A1NEW_COADD_SPT_band_i_nside4096_oversamp4_maglimit3__.fits.gz\n",
      "NSIDE = 4096\n",
      "ORDERING = RING in fits file\n",
      "INDXSCHM = EXPLICIT\n",
      "\n",
      "PATH =  /n/des/lee.5922/data/systematic_maps/Y1A1NEW_COADD_SPT/nside4096_oversamp4/\n",
      "Y1A1NEW_COADD_SPT_band_z_nside4096_oversamp4_maglimit3__.fits.gz\n",
      "NSIDE = 4096\n",
      "ORDERING = RING in fits file\n",
      "INDXSCHM = EXPLICIT\n",
      "\n",
      "PATH =  /n/des/lee.5922/data/systematic_maps/Y1A1NEW_COADD_SPT/nside4096_oversamp4/\n",
      "Y1A1NEW_COADD_SPT_band_g_nside4096_oversamp4_EXPTIME__total.fits.gz\n",
      "NSIDE = 4096\n",
      "ORDERING = RING in fits file\n",
      "INDXSCHM = EXPLICIT\n",
      "\n",
      "PATH =  /n/des/lee.5922/data/systematic_maps/Y1A1NEW_COADD_SPT/nside4096_oversamp4/\n",
      "Y1A1NEW_COADD_SPT_band_r_nside4096_oversamp4_EXPTIME__total.fits.gz\n",
      "NSIDE = 4096\n",
      "ORDERING = RING in fits file\n",
      "INDXSCHM = EXPLICIT\n",
      "\n",
      "PATH =  /n/des/lee.5922/data/systematic_maps/Y1A1NEW_COADD_SPT/nside4096_oversamp4/\n",
      "Y1A1NEW_COADD_SPT_band_i_nside4096_oversamp4_EXPTIME__total.fits.gz\n",
      "NSIDE = 4096\n",
      "ORDERING = RING in fits file\n",
      "INDXSCHM = EXPLICIT\n",
      "\n",
      "PATH =  /n/des/lee.5922/data/systematic_maps/Y1A1NEW_COADD_SPT/nside4096_oversamp4/\n",
      "Y1A1NEW_COADD_SPT_band_z_nside4096_oversamp4_EXPTIME__total.fits.gz\n",
      "NSIDE = 4096\n",
      "ORDERING = RING in fits file\n",
      "INDXSCHM = EXPLICIT\n",
      "\n",
      "PATH =  /n/des/lee.5922/data/systematic_maps/Y1A1NEW_COADD_SPT/nside4096_oversamp4/\n",
      "Y1A1NEW_COADD_SPT_band_g_nside4096_oversamp4_AIRMASS_coaddweights3_mean.fits.gz\n",
      "NSIDE = 4096\n",
      "ORDERING = RING in fits file\n",
      "INDXSCHM = EXPLICIT\n",
      "\n",
      "PATH =  /n/des/lee.5922/data/systematic_maps/Y1A1NEW_COADD_SPT/nside4096_oversamp4/\n",
      "Y1A1NEW_COADD_SPT_band_r_nside4096_oversamp4_AIRMASS_coaddweights3_mean.fits.gz\n",
      "NSIDE = 4096\n",
      "ORDERING = RING in fits file\n",
      "INDXSCHM = EXPLICIT\n",
      "\n",
      "PATH =  /n/des/lee.5922/data/systematic_maps/Y1A1NEW_COADD_SPT/nside4096_oversamp4/\n",
      "Y1A1NEW_COADD_SPT_band_i_nside4096_oversamp4_AIRMASS_coaddweights3_mean.fits.gz\n",
      "NSIDE = 4096\n",
      "ORDERING = RING in fits file\n",
      "INDXSCHM = EXPLICIT\n",
      "\n",
      "PATH =  /n/des/lee.5922/data/systematic_maps/Y1A1NEW_COADD_SPT/nside4096_oversamp4/\n",
      "Y1A1NEW_COADD_SPT_band_z_nside4096_oversamp4_AIRMASS_coaddweights3_mean.fits.gz\n",
      "NSIDE = 4096\n",
      "ORDERING = RING in fits file\n",
      "INDXSCHM = EXPLICIT\n",
      "\n",
      "PATH =  /n/des/lee.5922/data/systematic_maps/Y1A1NEW_COADD_SPT/nside4096_oversamp4/\n",
      "Y1A1NEW_COADD_SPT_band_g_nside4096_oversamp4_SKYBRITE_coaddweights3_mean.fits.gz\n",
      "NSIDE = 4096\n",
      "ORDERING = RING in fits file\n",
      "INDXSCHM = EXPLICIT\n",
      "\n",
      "PATH =  /n/des/lee.5922/data/systematic_maps/Y1A1NEW_COADD_SPT/nside4096_oversamp4/\n",
      "Y1A1NEW_COADD_SPT_band_r_nside4096_oversamp4_SKYBRITE_coaddweights3_mean.fits.gz\n",
      "NSIDE = 4096\n",
      "ORDERING = RING in fits file\n",
      "INDXSCHM = EXPLICIT\n",
      "\n",
      "PATH =  /n/des/lee.5922/data/systematic_maps/Y1A1NEW_COADD_SPT/nside4096_oversamp4/\n",
      "Y1A1NEW_COADD_SPT_band_i_nside4096_oversamp4_SKYBRITE_coaddweights3_mean.fits.gz\n",
      "NSIDE = 4096\n",
      "ORDERING = RING in fits file\n",
      "INDXSCHM = EXPLICIT\n",
      "\n",
      "PATH =  /n/des/lee.5922/data/systematic_maps/Y1A1NEW_COADD_SPT/nside4096_oversamp4/\n",
      "Y1A1NEW_COADD_SPT_band_z_nside4096_oversamp4_SKYBRITE_coaddweights3_mean.fits.gz\n",
      "NSIDE = 4096\n",
      "ORDERING = RING in fits file\n",
      "INDXSCHM = EXPLICIT\n",
      "\n",
      "PATH =  /n/des/lee.5922/data/systematic_maps/seeing_i_spt/\n",
      "Y1A1NEW_COADD_SPT_band_g_nside4096_oversamp4_FWHM_MEAN_coaddweights3_mean.fits.gz\n",
      "NSIDE = 4096\n",
      "ORDERING = RING in fits file\n",
      "INDXSCHM = EXPLICIT\n",
      "\n",
      "PATH =  /n/des/lee.5922/data/systematic_maps/seeing_i_spt/\n",
      "Y1A1NEW_COADD_SPT_band_r_nside4096_oversamp4_FWHM_MEAN_coaddweights3_mean.fits.gz\n",
      "NSIDE = 4096\n",
      "ORDERING = RING in fits file\n",
      "INDXSCHM = EXPLICIT\n",
      "\n",
      "PATH =  /n/des/lee.5922/data/systematic_maps/seeing_i_spt/\n",
      "Y1A1NEW_COADD_SPT_band_i_nside4096_oversamp4_FWHM_MEAN_coaddweights3_mean.fits.gz\n",
      "NSIDE = 4096\n",
      "ORDERING = RING in fits file\n",
      "INDXSCHM = EXPLICIT\n",
      "\n",
      "PATH =  /n/des/lee.5922/data/systematic_maps/seeing_i_spt/\n",
      "Y1A1NEW_COADD_SPT_band_z_nside4096_oversamp4_FWHM_MEAN_coaddweights3_mean.fits.gz\n",
      "NSIDE = 4096\n",
      "ORDERING = RING in fits file\n",
      "INDXSCHM = EXPLICIT\n"
     ]
    }
   ],
   "source": [
    "sysMap = calling_sysMap( properties=properties, kind='SPT', nside=4096 )"
   ]
  },
  {
   "cell_type": "markdown",
   "metadata": {},
   "source": [
    "# Appling weights "
   ]
  },
  {
   "cell_type": "code",
   "execution_count": 26,
   "metadata": {},
   "outputs": [
    {
     "name": "stdout",
     "output_type": "stream",
     "text": [
      "['vetoed', 'fwhm_r', 'airmass_z', 'exptime_g', 'fwhm_i', 'airmass_g', 'fwhm_g']\n",
      "['vetoed', 'fwhm_g', 'airmass_z', 'fwhm_r', 'fwhm_i', 'airmass_g', 'exptime_g']\n",
      "vetoed\n",
      "fwhm_g\n",
      "airmass_z\n",
      "fwhm_r\n",
      "fwhm_i\n",
      "airmass_g\n",
      "exptime_g\n"
     ]
    }
   ],
   "source": [
    "suf = 'wg_fwhm_r_airmass_z_exptime_g_fwhm_i_airmass_g_fwhm_g'\n",
    "#suf = 'wg_fwhm_r_airmass_z_exptime_g_fwhm_i_airmass_g_fwhm_g_airmass_i_skybrite_i'\n",
    "#suf = 'wg_fwhm_r_airmass_z_fwhm_i_skybrite_i_fwhm_g_airmass_g_fwhm_z_exptime_g_airmass_i_exptime_z_skybrite_z_airmass_r_skybrite_g'\n",
    "#suf = 'wg_fwhm_r_airmass_z_fwhm_i_skybrite_i_fwhm_g_airmass_g_fwhm_z_exptime_g_airmass_i_exptime_z'\n",
    "\n",
    "orderlabel = suf.split('_')[1:]\n",
    "order = []\n",
    "for i in np.arange(0, len(orderlabel), 2):\n",
    "    order.append( orderlabel[i]+'_'+orderlabel[i+1] )\n",
    "order = ['vetoed'] + order\n",
    "print order\n",
    "\n",
    "weightDic = {}\n",
    "#weightDic_re['vetoed'] = dmass['CMASS_PROB']\n",
    "#maskhp = maskingCatalogSP(catalog=dmass, maskonly=True, sysMap=sysMap)\n",
    "#weightDic_re['vetoed'][~maskhp] = 0 \n",
    "for o in order : \n",
    "    w = fitsio.read(sysoutdir+'weights/wg_'+o+'_SPT.fits')\n",
    "    weightDic[o] = w   #[maskhp]\n",
    "    \n",
    "all_weight = weightmultiply(weightDic)"
   ]
  },
  {
   "cell_type": "code",
   "execution_count": 263,
   "metadata": {},
   "outputs": [],
   "source": [
    "paperpic =  '../paper_figure/'"
   ]
  },
  {
   "cell_type": "code",
   "execution_count": 205,
   "metadata": {},
   "outputs": [],
   "source": [
    "#weightslist = [fitsio.read(wdir+'wg_'+o+'_SPT.fits') for o in order]\n",
    "#all_weight = np.ones(weightslist[0].size)"
   ]
  },
  {
   "cell_type": "code",
   "execution_count": 91,
   "metadata": {},
   "outputs": [
    {
     "name": "stdout",
     "output_type": "stream",
     "text": [
      "calculate angular correlation function\n",
      "X (1656, 2)  centers (100, 2)  tol=1e-05  maxiter=200\n",
      "24 iterations  cluster sizes: [18 16 21 17 11 26 13 13 12 26 14 23 11 14 28 15 14 12  7 11 12  5 19 21\n",
      " 22 23 18 11 24 17 12 13  8 11  5 19  8 25 11 25 25 18 10  8 14 14 25 27\n",
      "  8 17 20  6 15 29 20 10 16 23 20  6 25  6 15 20  7 23 11 22 14 24 19  9\n",
      " 16 16 16 18 21 19 16 26 12 18 17  8 13 15 29 18 10 13 19 17 19 10 17 17\n",
      " 14 38 31 16]\n",
      "X (685616, 2)  centers (100, 2)  tol=1e-05  maxiter=200\n",
      "154 iterations  cluster sizes: [5163 5758 5095 5144 5848 9347 8497 8543 6843 6888 8892 5350 5089 7050\n",
      " 7681 5925 6260 5432 5478 7331 6464 4829 7020 7503 9680 5591 5619 5315\n",
      " 7986 7655 5718 7237 5289 3081 6045 7915 4874 8535 4387 9157 8041 8958\n",
      " 7460 6898 6262 7705 7093 8439 7182 7898 5350 5917 7943 9284 5391 4435\n",
      " 5878 4810 8198 4175 7504 6389 8436 7693 5581 7424 5142 6529 7016 7351\n",
      " 5437 7567 5604 4852 6890 8953 9232 6347 6283 7773 7820 5389 7855 6060\n",
      " 7306 7199 8451 7306 7721 7874 6160 6820 6575 7462 8965 7617 7531 8450\n",
      " 9052 7169]\n",
      ". . . . . . . . . . . . . . . . . . . . . . . . . . . . . . . . . . . . . . . . . . . . . . . . . . . . . . . . . . . . . . . . . . . . . . . . . . . . . . . . . . . . . . . . . . . . . . . . . . . . . saving data file to :  ../output/sfd_train_photo_SamPle_nozband_ran10_3_full_tol1e5//act//acf_auto_dmass_no_weight_pcut01_nbins10_jk100.txt\n"
     ]
    }
   ],
   "source": [
    "dmass['WEIGHT'] = dmass['CMASS_PROB']\n",
    "angular_correlation(data = dmass, rand = rand2_unmasked, \n",
    "                    nbins=10, weight = [True, None], njack = 100, \n",
    "                    suffix = '_dmass_no_weight_pcut01_nbins10_jk100', dir = basedir)"
   ]
  },
  {
   "cell_type": "code",
   "execution_count": 85,
   "metadata": {},
   "outputs": [
    {
     "name": "stdout",
     "output_type": "stream",
     "text": [
      "initial 117292.90214602613 117292.90214602613\n",
      "0 WEIGHT0_fwhm_r\n",
      "calculate angular correlation function\n",
      "X (1656, 2)  centers (100, 2)  tol=1e-05  maxiter=200\n",
      "13 iterations  cluster sizes: [16 18 26 20  9 21 15 11 19 21 19 22 17 22 18 29 19 14 13 11 19 17 11 21\n",
      " 17 11 18 17 17 22 24 14 20 11 10 10 22 14 17 18 11 12 21 14 23 21 28 11\n",
      " 16 25 20 24  9 22 22 10 17 19 21 12  9 22 11 12 16 10 12 17 17 14 17 13\n",
      " 17 16 11 12 21 25 19 13  7 11 19  2  8 14 13 15 10 10 12 27 22 18 15 16\n",
      " 32 28 15 10]\n",
      "X (685616, 2)  centers (100, 2)  tol=1e-05  maxiter=200\n",
      "83 iterations  cluster sizes: [6817 6596 8596 5662 6760 7641 7417 7634 6863 7424 7836 7097 7322 6885\n",
      " 6684 8157 6639 5968 6133 6503 6700 5894 5305 7040 8004 3801 6779 7169\n",
      " 9291 8928 7087 6959 6937 6260 6778 5538 7522 7119 6852 6581 4995 5562\n",
      " 7141 8759 7068 5873 7446 8002 6464 9421 7115 7229 7975 8464 7572 7438\n",
      " 7774 6573 7515 6938 5791 6473 3186 7165 8640 4391 7250 6417 9166 8278\n",
      " 6750 6953 7010 7441 6775 6410 6971 6791 5203 6942 6628 5613 9546 2887\n",
      " 6990 4464 5545 5865 7437 6060 7115 5446 8119 7554 7788 5165 6632 6895\n",
      " 7300 6062]\n",
      ". . . . . . . . . . . . . . . . . . . . . . . . . . . . . . . . . . . . . . . . . . . . . . . . . . . . . . . . . . . . . . . . . . . . . . . . . . . . . . . . . . . . . . . . . . . . . . . . . . . . . saving data file to :  ../output/sfd_train_photo_SamPle_nozband_ran10_3_full_tol1e5//act//acf_auto_dmass_weight0_pcut01_nbins10_jk100.txt\n",
      "1 WEIGHT1_airmass_z\n",
      "calculate angular correlation function\n",
      "X (1656, 2)  centers (100, 2)  tol=1e-05  maxiter=200\n",
      "30 iterations  cluster sizes: [15 14 24 17 14 20 18 21 22 10 22 12 17 12  9 12  7 15  7 21 13 11 20 11\n",
      " 19  9 29 22 16 14 14 15 18  9 23  4 22 20 23  8 23 18 29 19 12 24 25 16\n",
      " 17 21  5 17  9 11 11 18 32 12 11  6 23  6 17 17 17 19 12 17 14 17 16 23\n",
      " 16 18 18 22 11 19 18 22 17  5 26 15 21  9 18 21 12  7 21 22 14 27 17 14\n",
      " 28 22 12 21]\n",
      "X (685616, 2)  centers (100, 2)  tol=1e-05  maxiter=200\n",
      "129 iterations  cluster sizes: [6193 7333 5551 7579 6646 6061 6992 6080 6806 5570 7344 5095 6376 6985\n",
      " 6882 4253 6133 7036 5768 7886 7173 4912 7072 6009 6607 5547 7436 6795\n",
      " 8141 6131 8461 6033 9571 5927 8244 1878 8280 7722 7043 5791 6895 7758\n",
      " 9272 7627 5425 8183 8281 6637 9372 7810 3221 7129 6578 6370 6494 7001\n",
      " 9114 7146 6140 6244 6948 4462 8100 8818 7302 7705 5113 4335 6968 9570\n",
      " 5159 6925 5778 7491 5162 8307 7400 8287 7007 6949 8454 1006 8200 8020\n",
      " 6419 5693 6355 7856 7054 5382 8853 8953 6648 7831 6397 7791 7244 6779\n",
      " 8538 8318]\n",
      ". . . . . . . . . . . . . . . . . . . . . . . . . . . . . . . . . . . . . . . . . . . . . . . . . . . . . . . . . . . . . . . . . . . . . . . . . . . . . . . . . . . . . . . . . . . . . . . . . . . . saving data file to :  ../output/sfd_train_photo_SamPle_nozband_ran10_3_full_tol1e5//act//acf_auto_dmass_weight1_pcut01_nbins10_jk100.txt\n",
      "2 WEIGHT2_exptime_g\n",
      "calculate angular correlation function\n",
      "X (1656, 2)  centers (100, 2)  tol=1e-05  maxiter=200\n",
      "17 iterations  cluster sizes: [20 14 14 10 18 17 14 14 12 12 32 24 18 12 17 11 10  8 10 16 16 17  3 14\n",
      " 11 19 15 25 23  6 15  5 12 16 13 14 12 25 26 17 10 21 14 30 17 16 12 25\n",
      " 16 21 16 28 19 14 20 13 30 13 13 14 18 12 14 16 15 16 10 13 26 24 13 12\n",
      "  8 19 23 29 19 14 33 12  9 12 17 17 16 16 14 26 14  9 16 26 13 13 23 21\n",
      " 23 13 21 22]\n",
      "X (685616, 2)  centers (100, 2)  tol=1e-05  maxiter=200\n",
      "89 iterations  cluster sizes: [5935 6972 5513 3320 6020 5432 7689 7737 8248 7160 6779 7093 6739 7858\n",
      " 5315 5238 6799 6072 6196 8062 7374 4322 6214 6159 7347 7738 7760 5653\n",
      " 8168 8509 7116 5641 7375 7012 7333 6328 6498 7704 7912 6553 5972 6614\n",
      " 7390 5778 6896 6857 7614 7050 7086 7606 7453 6445 7844 6670 5522 7549\n",
      " 6520 6312 5925 8268 7336 6514 7449 6221 7876 6859 8013 7824 8401 6085\n",
      " 5707 7596 7070 6222 7668 8552 6819 5532 6732 6711 2895 6494 6927 6954\n",
      " 7141 6792 7582 7113 7224 6836 7263 7190 6335 8303 6763 6372 7645 8051\n",
      " 7810 6475]\n",
      ". . . . . . . . . . . . . . . . . . . . . . . . . . . . . . . . . . . . . . . . . . . . . . . . . . . . . . . . . . . . . . . . . . . . . . . . . . . . . . . . . . . . . . . . . . . . . . . . . . . . . saving data file to :  ../output/sfd_train_photo_SamPle_nozband_ran10_3_full_tol1e5//act//acf_auto_dmass_weight2_pcut01_nbins10_jk100.txt\n",
      "3 WEIGHT3_fwhm_i\n",
      "calculate angular correlation function\n",
      "X (1656, 2)  centers (100, 2)  tol=1e-05  maxiter=200\n",
      "21 iterations  cluster sizes: [15 10  7 17 16 15 26 18 18 18 10 18 21  4 21 24  9 12 16 16 12 22 26 11\n",
      " 13 14 12  8 18 13 14 10  6 15 16 11 17 23 12 20 27 10 12 20 22 22 21  7\n",
      " 15 17 26 26 22 16 17  6 18  8 23 32 17 12 19 12 11 17 16 13  5 10 24 14\n",
      " 21 10 17 16 15 23 22 18 20 18 21 15 15 22 16 23 23 12 19 15 21 17 28 19\n",
      " 18 19 16 16]\n",
      "X (685616, 2)  centers (100, 2)  tol=1e-05  maxiter=200\n",
      "77 iterations  cluster sizes: [6781 6384 5225 7878 7072 6121 7975 6150 5954 7730 5126 8149 8226 5324\n",
      " 7426 8361 5216 5904 5445 8213 7477 7014 9165 6669 5624 8176 7023 6761\n",
      " 5006 7879 5604 6335 5380 6572 7746 6415 5280 9758 5780 7155 7084 6993\n",
      " 6313 5037 8989 7279 8828 5403 6501 4480 8179 5096 6723 5853 7020 5806\n",
      " 9182 5159 6161 8002 7098 5650 6568 6969 6533 7682 5680 7119 5463 5407\n",
      " 9272 6767 7804 5976 5969 6958 8030 7562 8023 7384 6906 9269 8509 6552\n",
      " 6911 8586 6883 7291 6411 6594 6301 6949 9000 5557 7199 4929 8450 6902\n",
      " 5754 7182]\n",
      ". . . . . . . . . . . . . . . . . . . . . . . . . . . . . . . . . . . . . . . . . . . . . . . . . . . . . . . . . . . . . . . . . . . . . . . . . . . . . . . . . . . . . . . . . . . . . . . . . . . . . saving data file to :  ../output/sfd_train_photo_SamPle_nozband_ran10_3_full_tol1e5//act//acf_auto_dmass_weight3_pcut01_nbins10_jk100.txt\n",
      "4 WEIGHT4_airmass_g\n",
      "calculate angular correlation function\n",
      "X (1656, 2)  centers (100, 2)  tol=1e-05  maxiter=200\n",
      "21 iterations  cluster sizes: [13 12 14 19  6 12 18 12 22 14 22 18 15 13 15 11 20 16 17  6 21 10 14 16\n",
      " 21 14 15 20 21 15 16 19 14 15 16 19 20 30 15 23 13 24 22 19 11 12 19 14\n",
      " 26 16 11 10 20 11  6 13 17 15 24 13 17 26 16 17 26 25 13 14 18 24 12 20\n",
      " 10 12  9 15 16 11 12 15 13 20 27 27 27 21 16 20 15 12 18 13 12 17 13 20\n",
      " 17 21 11 23]\n",
      "X (685616, 2)  centers (100, 2)  tol=1e-05  maxiter=200\n",
      "82 iterations  cluster sizes: [4275 5866 7804 8033 2889 6377 7096 7659 9131 5253 7290 6759 5720 4456\n",
      " 7706 6042 7711 7422 6051 5714 7081 6548 6872 7637 7713 6567 6722 5894\n",
      " 7605 5793 6268 6224 7150 6498 7517 6891 6468 9122 8336 7190 5772 6551\n",
      " 8034 8385 6873 7021 6057 6936 6202 7365 7290 7785 7941 5952 3222 6488\n",
      " 6842 7314 6837 6757 5271 9188 6402 6972 8981 7717 5130 6863 6377 8902\n",
      " 6091 6363 3784 9513 6629 7898 9402 7273 7000 7092 6701 6955 6947 7746\n",
      " 7997 6217 6146 7967 5910 7921 6453 7735 8191 5216 6069 7012 6075 7500\n",
      " 6004 7032]\n",
      ". . . . . . . . . . . . . . . . . . . . . . . . . . . . . . . . . . . . . . . . . . . . . . . . . . . . . . . . . . . . . . . . . . . . . . . . . . . . . . . . . . . . . . . . . . . . . . . . . . . . saving data file to :  ../output/sfd_train_photo_SamPle_nozband_ran10_3_full_tol1e5//act//acf_auto_dmass_weight4_pcut01_nbins10_jk100.txt\n",
      "5 WEIGHT5_fwhm_g\n",
      "calculate angular correlation function\n",
      "X (1656, 2)  centers (100, 2)  tol=1e-05  maxiter=200\n",
      "19 iterations  cluster sizes: [17 20 23 10 13 13 17 10 18 11 13 18 24 20 22 27 16 32 13  9  8 15 10 20\n",
      " 21 17 10 20 15 17 23 18 11 17 31 13 12 30  6 28 13 15 13 14 24 11 15 14\n",
      " 12  8 13 32 10  6 12 23 23 15 13 17 26 21  7 11  9 21 10 26 14 10 13 21\n",
      " 20 14 12 15 15 11 25 13  6  8 16 15 20 25 27 24 21 25 16 14 16 26 21 13\n",
      " 15 16 13 14]\n",
      "X (685616, 2)  centers (100, 2)  tol=1e-05  maxiter=200\n",
      "116 iterations  cluster sizes: [7363 6855 7637 5428 6014 6777 7068 5895 7616 7168 8169 7435 6327 7945\n",
      " 7823 8442 6355 7591 5609 5161 6754 8271 7072 7014 6967 7177 5279 7005\n",
      " 4578 7674 5739 5845 6059 8207 8036 7134 7759 5932 5626 7660 7697 8080\n",
      " 7524 6036 7290 8396 4856 6970 5709 7024 5576 8177 7622 5203 6915 6759\n",
      " 8333 6935 6502 6007 7578 6625 4519 7951 5166 6361 6091 7440 5544 6868\n",
      " 6390 6792 6893 6621 7032 6418 5996 5982 7218 7462 5938 5729 7030 6767\n",
      " 6655 8762 8438 7752 7311 7442 6311 6323 7886 9118 8021 6291 5078 6315\n",
      " 8948 6477]\n",
      ". . . . . . . . . . . . . . . . . . . . . . . . . . . . . . . . . . . . . . . . . . . . . . . . . . . . . . . . . . . . . . . . . . . . . . . . . . . . . . . . . . . . . . . . . . . . . . . . . . . . . saving data file to :  ../output/sfd_train_photo_SamPle_nozband_ran10_3_full_tol1e5//act//acf_auto_dmass_weight5_pcut01_nbins10_jk100.txt\n"
     ]
    }
   ],
   "source": [
    "#tree corr\n",
    "from systematics_module.corr import angular_correlation\n",
    "basedir = inputdir+'/act/'\n",
    "os.system('mkdir '+inputdir+'/act/')\n",
    "\n",
    "#dmass['WEIGHT'] = dmass['CMASS_PROB']\n",
    "#angular_correlation(data = dmass, rand = rand2_unmasked, \n",
    "#                    nbins=10, weight = [True, None], njack = 100, \n",
    "#                    suffix = '_dmass_no_weight_pcut01_nbins10_jk100', dir = basedir)\n",
    "\n",
    "#dmass['WEIGHT'] = dmass['CMASS_PROB'] * dmass['VETO']\n",
    "#angular_correlation(data = dmass, rand = rand2, \n",
    "#                    nbins=10, weight = [True, None], njack = 100, \n",
    "#                    suffix = '_dmass_veto_pcut01_nbins10_jk100', dir = basedir)\n",
    "\n",
    "\n",
    "weight_com = dmass['CMASS_PROB']*dmass['VETO']\n",
    "print 'initial', np.sum(dmass['WEIGHT']), np.sum(dmass['CMASS_PROB'])\n",
    "for i,o in enumerate(order[1:]):   \n",
    "     \n",
    "    #for w in weightslist[:i]: weight_com *= w\n",
    "    print i, 'WEIGHT'+str(i)+'_'+o\n",
    "    weight_com *= dmass['WEIGHT'+str(i)+'_'+o]\n",
    "    dmass['WEIGHT'] = weight_com\n",
    "    #randind = np.random.choice( rand2.size, size = dmass.size/10)\n",
    "    #dmass_m = dmass[randind]\n",
    "    \n",
    "    angular_correlation(data = dmass, rand = rand2, nbins=10, weight = [True, None], njack = 100, \n",
    "                        suffix = '_dmass_weight'+str(i)+'_pcut01_nbins10_jk100', dir = basedir)\n",
    "    "
   ]
  },
  {
   "cell_type": "code",
   "execution_count": null,
   "metadata": {},
   "outputs": [],
   "source": [
    "#angular_correlation(data = dmass[pcut], rand = rand2, nbins=10, weight = [True, None], njack = 100, \n",
    "#                        suffix = '_dmass_no_weight_nbins10_jk100', dir = basedir)"
   ]
  },
  {
   "cell_type": "code",
   "execution_count": 206,
   "metadata": {
    "collapsed": true
   },
   "outputs": [
    {
     "name": "stdout",
     "output_type": "stream",
     "text": [
      "calculate angular correlation function\n",
      "X (515, 2)  centers (50, 2)  tol=1e-05  maxiter=200\n",
      "11 iterations  cluster sizes: [11 12  9 16 20  6  7  6  9 10  9 15 17  7  4  6 20  5 19 12 11  9  3 10\n",
      " 17 10  3  6  6  1  9  7 17 10 14  7 18 10 19 16  5  7  2 10  3 11 11 26\n",
      "  7 10]\n",
      "X (66538, 2)  centers (50, 2)  tol=1e-05  maxiter=200\n",
      "131 iterations  cluster sizes: [1531 1580 1555 1198 1601 1368 1350 1057 1781  885 1273 1323 1276 1561\n",
      "  764 1688 1725 1161 1538 1262 1640 1531 1400 1252 1103 1675 1119 1019\n",
      " 1880 1145 1403 1434 1752  707 1439  815 1935 1751  560 1554  828 1581\n",
      " 1013  972 1129 1310  990 1563 1112 1449]\n",
      ". . . . . . . . . . . . . . . . . . . . . . . . . . . . . . . . . . . . . ."
     ]
    },
    {
     "ename": "KeyboardInterrupt",
     "evalue": "",
     "output_type": "error",
     "traceback": [
      "\u001b[0;31m---------------------------------------------------------------------------\u001b[0m",
      "\u001b[0;31mKeyboardInterrupt\u001b[0m                         Traceback (most recent call last)",
      "\u001b[0;32m<ipython-input-206-20d967517c41>\u001b[0m in \u001b[0;36m<module>\u001b[0;34m()\u001b[0m\n\u001b[1;32m      5\u001b[0m angular_correlation(data = dmass_sam[pcut2], rand = rand_masked, \n\u001b[1;32m      6\u001b[0m                     \u001b[0mnbins\u001b[0m\u001b[0;34m=\u001b[0m\u001b[0;36m10\u001b[0m\u001b[0;34m,\u001b[0m \u001b[0mweight\u001b[0m \u001b[0;34m=\u001b[0m \u001b[0;34m[\u001b[0m\u001b[0mTrue\u001b[0m\u001b[0;34m,\u001b[0m \u001b[0mNone\u001b[0m\u001b[0;34m]\u001b[0m\u001b[0;34m,\u001b[0m \u001b[0mnjack\u001b[0m \u001b[0;34m=\u001b[0m \u001b[0;36m50\u001b[0m\u001b[0;34m,\u001b[0m\u001b[0;34m\u001b[0m\u001b[0m\n\u001b[0;32m----> 7\u001b[0;31m                     suffix = '_dmass_vetoed_nbins10_jk100', dir = basedir)\n\u001b[0m",
      "\u001b[0;32m/n/des/lee.5922/Dropbox/repositories/CMASS/code/systematics_module/corr.pyc\u001b[0m in \u001b[0;36mangular_correlation\u001b[0;34m(data, rand, njack, nbins, min_sep, max_sep, weight, mpi, suffix, out, dir)\u001b[0m\n\u001b[1;32m    709\u001b[0m         \u001b[0mnojkkwargs\u001b[0m \u001b[0;34m=\u001b[0m \u001b[0;34m{\u001b[0m\u001b[0;34m'weight'\u001b[0m\u001b[0;34m:\u001b[0m\u001b[0mweight\u001b[0m\u001b[0;34m,\u001b[0m \u001b[0;34m'nbins'\u001b[0m\u001b[0;34m:\u001b[0m\u001b[0mnbins\u001b[0m\u001b[0;34m,\u001b[0m \u001b[0;34m'min_sep'\u001b[0m\u001b[0;34m:\u001b[0m\u001b[0mmin_sep\u001b[0m\u001b[0;34m,\u001b[0m \u001b[0;34m'max_sep'\u001b[0m\u001b[0;34m:\u001b[0m\u001b[0mmax_sep\u001b[0m\u001b[0;34m}\u001b[0m\u001b[0;34m,\u001b[0m\u001b[0;34m\u001b[0m\u001b[0m\n\u001b[1;32m    710\u001b[0m \tmpi=mpi)\n\u001b[0;32m--> 711\u001b[0;31m     \u001b[0mjktest\u001b[0m\u001b[0;34m.\u001b[0m\u001b[0mDoJK\u001b[0m\u001b[0;34m(\u001b[0m \u001b[0mregions\u001b[0m \u001b[0;34m=\u001b[0m \u001b[0mjkfile\u001b[0m \u001b[0;34m)\u001b[0m\u001b[0;34m\u001b[0m\u001b[0m\n\u001b[0m\u001b[1;32m    712\u001b[0m     \u001b[0mjkresults\u001b[0m \u001b[0;34m=\u001b[0m \u001b[0mjktest\u001b[0m\u001b[0;34m.\u001b[0m\u001b[0mGetResults\u001b[0m\u001b[0;34m(\u001b[0m\u001b[0mjk\u001b[0m\u001b[0;34m=\u001b[0m\u001b[0mTrue\u001b[0m\u001b[0;34m,\u001b[0m \u001b[0mfull\u001b[0m \u001b[0;34m=\u001b[0m \u001b[0mFalse\u001b[0m\u001b[0;34m)\u001b[0m\u001b[0;34m\u001b[0m\u001b[0m\n\u001b[1;32m    713\u001b[0m     \u001b[0mos\u001b[0m\u001b[0;34m.\u001b[0m\u001b[0mremove\u001b[0m\u001b[0;34m(\u001b[0m\u001b[0mjkfile\u001b[0m\u001b[0;34m)\u001b[0m\u001b[0;34m\u001b[0m\u001b[0m\n",
      "\u001b[0;32m/n/home00/lee.5922/.local/lib/python2.7/site-packages/suchyta_utils/jk.pyc\u001b[0m in \u001b[0;36mDoJK\u001b[0;34m(self, regions, mpi)\u001b[0m\n\u001b[1;32m    248\u001b[0m         \u001b[0;32mfor\u001b[0m \u001b[0mi\u001b[0m \u001b[0;32min\u001b[0m \u001b[0mrange\u001b[0m\u001b[0;34m(\u001b[0m\u001b[0mlen\u001b[0m\u001b[0;34m(\u001b[0m\u001b[0mindex\u001b[0m\u001b[0;34m)\u001b[0m\u001b[0;34m)\u001b[0m\u001b[0;34m:\u001b[0m\u001b[0;34m\u001b[0m\u001b[0m\n\u001b[1;32m    249\u001b[0m             \u001b[0margs\u001b[0m \u001b[0;34m=\u001b[0m \u001b[0mself\u001b[0m\u001b[0;34m.\u001b[0m\u001b[0m_GetArgs\u001b[0m\u001b[0;34m(\u001b[0m\u001b[0mindex\u001b[0m\u001b[0;34m[\u001b[0m\u001b[0mi\u001b[0m\u001b[0;34m]\u001b[0m\u001b[0;34m)\u001b[0m\u001b[0;34m\u001b[0m\u001b[0m\n\u001b[0;32m--> 250\u001b[0;31m             \u001b[0mres\u001b[0m \u001b[0;34m=\u001b[0m \u001b[0mself\u001b[0m\u001b[0;34m.\u001b[0m\u001b[0mtarget\u001b[0m\u001b[0;34m(\u001b[0m\u001b[0;34m*\u001b[0m\u001b[0margs\u001b[0m\u001b[0;34m,\u001b[0m \u001b[0;34m**\u001b[0m\u001b[0mself\u001b[0m\u001b[0;34m.\u001b[0m\u001b[0mnojkkwargs\u001b[0m\u001b[0;34m)\u001b[0m\u001b[0;34m\u001b[0m\u001b[0m\n\u001b[0m\u001b[1;32m    251\u001b[0m             \u001b[0mresults\u001b[0m\u001b[0;34m.\u001b[0m\u001b[0mappend\u001b[0m\u001b[0;34m(\u001b[0m\u001b[0mres\u001b[0m\u001b[0;34m)\u001b[0m\u001b[0;34m\u001b[0m\u001b[0m\n\u001b[1;32m    252\u001b[0m         \u001b[0mresults\u001b[0m \u001b[0;34m=\u001b[0m \u001b[0m_np\u001b[0m\u001b[0;34m.\u001b[0m\u001b[0marray\u001b[0m\u001b[0;34m(\u001b[0m\u001b[0mresults\u001b[0m\u001b[0;34m)\u001b[0m\u001b[0;34m\u001b[0m\u001b[0m\n",
      "\u001b[0;32m/n/des/lee.5922/Dropbox/repositories/CMASS/code/systematics_module/corr.pyc\u001b[0m in \u001b[0;36m_acf\u001b[0;34m(data, rand, weight, nbins, min_sep, max_sep)\u001b[0m\n\u001b[1;32m    646\u001b[0m     \u001b[0mrr\u001b[0m \u001b[0;34m=\u001b[0m \u001b[0mtreecorr\u001b[0m\u001b[0;34m.\u001b[0m\u001b[0mNNCorrelation\u001b[0m\u001b[0;34m(\u001b[0m\u001b[0mnbins\u001b[0m \u001b[0;34m=\u001b[0m \u001b[0mnbins\u001b[0m\u001b[0;34m,\u001b[0m \u001b[0mmax_sep\u001b[0m \u001b[0;34m=\u001b[0m \u001b[0mmax_sep\u001b[0m\u001b[0;34m,\u001b[0m \u001b[0mmin_sep\u001b[0m\u001b[0;34m=\u001b[0m \u001b[0mmin_sep\u001b[0m\u001b[0;34m,\u001b[0m \u001b[0msep_units\u001b[0m\u001b[0;34m=\u001b[0m\u001b[0msep_units\u001b[0m\u001b[0;34m)\u001b[0m\u001b[0;34m\u001b[0m\u001b[0m\n\u001b[1;32m    647\u001b[0m \u001b[0;34m\u001b[0m\u001b[0m\n\u001b[0;32m--> 648\u001b[0;31m     \u001b[0mdd\u001b[0m\u001b[0;34m.\u001b[0m\u001b[0mprocess\u001b[0m\u001b[0;34m(\u001b[0m\u001b[0mcat\u001b[0m\u001b[0;34m)\u001b[0m\u001b[0;34m\u001b[0m\u001b[0m\n\u001b[0m\u001b[1;32m    649\u001b[0m     \u001b[0mdr\u001b[0m\u001b[0;34m.\u001b[0m\u001b[0mprocess\u001b[0m\u001b[0;34m(\u001b[0m\u001b[0mcat\u001b[0m\u001b[0;34m,\u001b[0m\u001b[0mcat_rand\u001b[0m\u001b[0;34m)\u001b[0m\u001b[0;34m\u001b[0m\u001b[0m\n\u001b[1;32m    650\u001b[0m     \u001b[0mrr\u001b[0m\u001b[0;34m.\u001b[0m\u001b[0mprocess\u001b[0m\u001b[0;34m(\u001b[0m\u001b[0mcat_rand\u001b[0m\u001b[0;34m)\u001b[0m\u001b[0;34m\u001b[0m\u001b[0m\n",
      "\u001b[0;32m/n/home00/lee.5922/.local/lib/python2.7/site-packages/treecorr/nncorrelation.pyc\u001b[0m in \u001b[0;36mprocess\u001b[0;34m(self, cat1, cat2, metric, num_threads)\u001b[0m\n\u001b[1;32m    317\u001b[0m \u001b[0;34m\u001b[0m\u001b[0m\n\u001b[1;32m    318\u001b[0m         \u001b[0;32mif\u001b[0m \u001b[0mcat2\u001b[0m \u001b[0;32mis\u001b[0m \u001b[0mNone\u001b[0m \u001b[0;32mor\u001b[0m \u001b[0mlen\u001b[0m\u001b[0;34m(\u001b[0m\u001b[0mcat2\u001b[0m\u001b[0;34m)\u001b[0m \u001b[0;34m==\u001b[0m \u001b[0;36m0\u001b[0m\u001b[0;34m:\u001b[0m\u001b[0;34m\u001b[0m\u001b[0m\n\u001b[0;32m--> 319\u001b[0;31m             \u001b[0mself\u001b[0m\u001b[0;34m.\u001b[0m\u001b[0m_process_all_auto\u001b[0m\u001b[0;34m(\u001b[0m\u001b[0mcat1\u001b[0m\u001b[0;34m,\u001b[0m\u001b[0mmetric\u001b[0m\u001b[0;34m,\u001b[0m\u001b[0mnum_threads\u001b[0m\u001b[0;34m)\u001b[0m\u001b[0;34m\u001b[0m\u001b[0m\n\u001b[0m\u001b[1;32m    320\u001b[0m         \u001b[0;32melse\u001b[0m\u001b[0;34m:\u001b[0m\u001b[0;34m\u001b[0m\u001b[0m\n\u001b[1;32m    321\u001b[0m             \u001b[0mself\u001b[0m\u001b[0;34m.\u001b[0m\u001b[0m_process_all_cross\u001b[0m\u001b[0;34m(\u001b[0m\u001b[0mcat1\u001b[0m\u001b[0;34m,\u001b[0m\u001b[0mcat2\u001b[0m\u001b[0;34m,\u001b[0m\u001b[0mmetric\u001b[0m\u001b[0;34m,\u001b[0m\u001b[0mnum_threads\u001b[0m\u001b[0;34m)\u001b[0m\u001b[0;34m\u001b[0m\u001b[0m\n",
      "\u001b[0;32m/n/home00/lee.5922/.local/lib/python2.7/site-packages/treecorr/binnedcorr2.pyc\u001b[0m in \u001b[0;36m_process_all_auto\u001b[0;34m(self, cat1, metric, num_threads)\u001b[0m\n\u001b[1;32m    292\u001b[0m     \u001b[0;32mdef\u001b[0m \u001b[0m_process_all_auto\u001b[0m\u001b[0;34m(\u001b[0m\u001b[0mself\u001b[0m\u001b[0;34m,\u001b[0m \u001b[0mcat1\u001b[0m\u001b[0;34m,\u001b[0m \u001b[0mmetric\u001b[0m\u001b[0;34m,\u001b[0m \u001b[0mnum_threads\u001b[0m\u001b[0;34m)\u001b[0m\u001b[0;34m:\u001b[0m\u001b[0;34m\u001b[0m\u001b[0m\n\u001b[1;32m    293\u001b[0m         \u001b[0;32mfor\u001b[0m \u001b[0mi\u001b[0m\u001b[0;34m,\u001b[0m\u001b[0mc1\u001b[0m \u001b[0;32min\u001b[0m \u001b[0menumerate\u001b[0m\u001b[0;34m(\u001b[0m\u001b[0mcat1\u001b[0m\u001b[0;34m)\u001b[0m\u001b[0;34m:\u001b[0m\u001b[0;34m\u001b[0m\u001b[0m\n\u001b[0;32m--> 294\u001b[0;31m             \u001b[0mself\u001b[0m\u001b[0;34m.\u001b[0m\u001b[0mprocess_auto\u001b[0m\u001b[0;34m(\u001b[0m\u001b[0mc1\u001b[0m\u001b[0;34m,\u001b[0m\u001b[0mmetric\u001b[0m\u001b[0;34m,\u001b[0m\u001b[0mnum_threads\u001b[0m\u001b[0;34m)\u001b[0m\u001b[0;34m\u001b[0m\u001b[0m\n\u001b[0m\u001b[1;32m    295\u001b[0m             \u001b[0;32mfor\u001b[0m \u001b[0mc2\u001b[0m \u001b[0;32min\u001b[0m \u001b[0mcat1\u001b[0m\u001b[0;34m[\u001b[0m\u001b[0mi\u001b[0m\u001b[0;34m+\u001b[0m\u001b[0;36m1\u001b[0m\u001b[0;34m:\u001b[0m\u001b[0;34m]\u001b[0m\u001b[0;34m:\u001b[0m\u001b[0;34m\u001b[0m\u001b[0m\n\u001b[1;32m    296\u001b[0m                 \u001b[0mself\u001b[0m\u001b[0;34m.\u001b[0m\u001b[0mprocess_cross\u001b[0m\u001b[0;34m(\u001b[0m\u001b[0mc1\u001b[0m\u001b[0;34m,\u001b[0m\u001b[0mc2\u001b[0m\u001b[0;34m,\u001b[0m\u001b[0mmetric\u001b[0m\u001b[0;34m,\u001b[0m\u001b[0mnum_threads\u001b[0m\u001b[0;34m)\u001b[0m\u001b[0;34m\u001b[0m\u001b[0m\n",
      "\u001b[0;32m/n/home00/lee.5922/.local/lib/python2.7/site-packages/treecorr/nncorrelation.pyc\u001b[0m in \u001b[0;36mprocess_auto\u001b[0;34m(self, cat, metric, num_threads)\u001b[0m\n\u001b[1;32m    146\u001b[0m         \u001b[0mself\u001b[0m\u001b[0;34m.\u001b[0m\u001b[0mlogger\u001b[0m\u001b[0;34m.\u001b[0m\u001b[0minfo\u001b[0m\u001b[0;34m(\u001b[0m\u001b[0;34m'Starting %d jobs.'\u001b[0m\u001b[0;34m,\u001b[0m\u001b[0mfield\u001b[0m\u001b[0;34m.\u001b[0m\u001b[0mnTopLevelNodes\u001b[0m\u001b[0;34m)\u001b[0m\u001b[0;34m\u001b[0m\u001b[0m\n\u001b[1;32m    147\u001b[0m         treecorr._lib.ProcessAutoNN(self.corr, field.data, self.output_dots,\n\u001b[0;32m--> 148\u001b[0;31m                                     self._coords, self._metric)\n\u001b[0m\u001b[1;32m    149\u001b[0m         \u001b[0mself\u001b[0m\u001b[0;34m.\u001b[0m\u001b[0mtot\u001b[0m \u001b[0;34m+=\u001b[0m \u001b[0;36m0.5\u001b[0m \u001b[0;34m*\u001b[0m \u001b[0mcat\u001b[0m\u001b[0;34m.\u001b[0m\u001b[0msumw\u001b[0m\u001b[0;34m**\u001b[0m\u001b[0;36m2\u001b[0m\u001b[0;34m\u001b[0m\u001b[0m\n\u001b[1;32m    150\u001b[0m \u001b[0;34m\u001b[0m\u001b[0m\n",
      "\u001b[0;31mKeyboardInterrupt\u001b[0m: "
     ]
    }
   ],
   "source": [
    "randind = np.random.choice( dmass_masked.size, size = dmass_masked.size/10)\n",
    "dmass_sam = dmass_masked[randind]\n",
    "\n",
    "pcut2 = (dmass_sam['EachProb_CMASS'] > 0.01)\n",
    "angular_correlation(data = dmass_sam[pcut2], rand = rand_masked, \n",
    "                    nbins=10, weight = [True, None], njack = 50, \n",
    "                    suffix = '_dmass_vetoed_nbins10_jk100', dir = basedir)"
   ]
  },
  {
   "cell_type": "code",
   "execution_count": 298,
   "metadata": {
    "collapsed": true
   },
   "outputs": [
    {
     "name": "stdout",
     "output_type": "stream",
     "text": [
      "calculate angular correlation function\n",
      "X (525, 2)  centers (50, 2)  tol=1e-05  maxiter=200\n",
      "18 iterations  cluster sizes: [ 6 15 11 11  4  9 15  6  4 12 17 10 13 10 15 15 11 11  5 17 10  8  4 16\n",
      " 11 15 12 12  7 16 10 10 13  6  6  8 10  6 10 16  5  9 12 17  6 11  9 16\n",
      "  6 11]\n",
      "X (68921, 2)  centers (50, 2)  tol=1e-05  maxiter=200\n",
      "38 iterations  cluster sizes: [1288 1316 1544 1421 1304 1266 1389 1416 1350 1441 1560 1453 1571 1084\n",
      " 1073 1653 1327 1624  866 1840 1609 1287 1195 1420 1376 1536 1454 1472\n",
      " 1559 1426 1554 1196 1471 1571 1451 1371 1427 1038 1240 1414  602 1350\n",
      " 1160 1484 1320 1430 1729 1641 1131 1221]\n"
     ]
    },
    {
     "ename": "KeyboardInterrupt",
     "evalue": "",
     "output_type": "error",
     "traceback": [
      "\u001b[0;31m---------------------------------------------------------------------------\u001b[0m",
      "\u001b[0;31mKeyboardInterrupt\u001b[0m                         Traceback (most recent call last)",
      "\u001b[0;32m<ipython-input-298-ef77c86be917>\u001b[0m in \u001b[0;36m<module>\u001b[0;34m()\u001b[0m\n\u001b[1;32m      6\u001b[0m angular_correlation(data = dmass_sam[pcut2], rand = maskedGoldMask_spt, \n\u001b[1;32m      7\u001b[0m                     \u001b[0mnbins\u001b[0m\u001b[0;34m=\u001b[0m\u001b[0;36m10\u001b[0m\u001b[0;34m,\u001b[0m \u001b[0mweight\u001b[0m \u001b[0;34m=\u001b[0m \u001b[0;34m[\u001b[0m\u001b[0mTrue\u001b[0m\u001b[0;34m,\u001b[0m \u001b[0mNone\u001b[0m\u001b[0;34m]\u001b[0m\u001b[0;34m,\u001b[0m \u001b[0mnjack\u001b[0m \u001b[0;34m=\u001b[0m \u001b[0;36m50\u001b[0m\u001b[0;34m,\u001b[0m\u001b[0;34m\u001b[0m\u001b[0m\n\u001b[0;32m----> 8\u001b[0;31m                     suffix = '_dmass_all_weight_pcut01_nbins10_jk100', dir = basedir)\n\u001b[0m",
      "\u001b[0;32m/n/des/lee.5922/Dropbox/repositories/CMASS/code/systematics_module/corr.pyc\u001b[0m in \u001b[0;36mangular_correlation\u001b[0;34m(data, rand, njack, nbins, min_sep, max_sep, weight, mpi, suffix, out, dir)\u001b[0m\n\u001b[1;32m    709\u001b[0m         \u001b[0mnojkkwargs\u001b[0m \u001b[0;34m=\u001b[0m \u001b[0;34m{\u001b[0m\u001b[0;34m'weight'\u001b[0m\u001b[0;34m:\u001b[0m\u001b[0mweight\u001b[0m\u001b[0;34m,\u001b[0m \u001b[0;34m'nbins'\u001b[0m\u001b[0;34m:\u001b[0m\u001b[0mnbins\u001b[0m\u001b[0;34m,\u001b[0m \u001b[0;34m'min_sep'\u001b[0m\u001b[0;34m:\u001b[0m\u001b[0mmin_sep\u001b[0m\u001b[0;34m,\u001b[0m \u001b[0;34m'max_sep'\u001b[0m\u001b[0;34m:\u001b[0m\u001b[0mmax_sep\u001b[0m\u001b[0;34m}\u001b[0m\u001b[0;34m,\u001b[0m\u001b[0;34m\u001b[0m\u001b[0m\n\u001b[1;32m    710\u001b[0m \tmpi=mpi)\n\u001b[0;32m--> 711\u001b[0;31m     \u001b[0mjktest\u001b[0m\u001b[0;34m.\u001b[0m\u001b[0mDoJK\u001b[0m\u001b[0;34m(\u001b[0m \u001b[0mregions\u001b[0m \u001b[0;34m=\u001b[0m \u001b[0mjkfile\u001b[0m \u001b[0;34m)\u001b[0m\u001b[0;34m\u001b[0m\u001b[0m\n\u001b[0m\u001b[1;32m    712\u001b[0m     \u001b[0mjkresults\u001b[0m \u001b[0;34m=\u001b[0m \u001b[0mjktest\u001b[0m\u001b[0;34m.\u001b[0m\u001b[0mGetResults\u001b[0m\u001b[0;34m(\u001b[0m\u001b[0mjk\u001b[0m\u001b[0;34m=\u001b[0m\u001b[0mTrue\u001b[0m\u001b[0;34m,\u001b[0m \u001b[0mfull\u001b[0m \u001b[0;34m=\u001b[0m \u001b[0mFalse\u001b[0m\u001b[0;34m)\u001b[0m\u001b[0;34m\u001b[0m\u001b[0m\n\u001b[1;32m    713\u001b[0m     \u001b[0mos\u001b[0m\u001b[0;34m.\u001b[0m\u001b[0mremove\u001b[0m\u001b[0;34m(\u001b[0m\u001b[0mjkfile\u001b[0m\u001b[0;34m)\u001b[0m\u001b[0;34m\u001b[0m\u001b[0m\n",
      "\u001b[0;32m/n/home00/lee.5922/.local/lib/python2.7/site-packages/suchyta_utils/jk.pyc\u001b[0m in \u001b[0;36mDoJK\u001b[0;34m(self, regions, mpi)\u001b[0m\n\u001b[1;32m    235\u001b[0m             \u001b[0mrank\u001b[0m \u001b[0;34m=\u001b[0m \u001b[0mMPI\u001b[0m\u001b[0;34m.\u001b[0m\u001b[0mCOMM_WORLD\u001b[0m\u001b[0;34m.\u001b[0m\u001b[0mGet_rank\u001b[0m\u001b[0;34m(\u001b[0m\u001b[0;34m)\u001b[0m\u001b[0;34m\u001b[0m\u001b[0m\n\u001b[1;32m    236\u001b[0m \u001b[0;34m\u001b[0m\u001b[0m\n\u001b[0;32m--> 237\u001b[0;31m         \u001b[0mself\u001b[0m\u001b[0;34m.\u001b[0m\u001b[0m_FindIndex\u001b[0m\u001b[0;34m(\u001b[0m\u001b[0mregions\u001b[0m\u001b[0;34m=\u001b[0m\u001b[0mregions\u001b[0m\u001b[0;34m)\u001b[0m\u001b[0;34m\u001b[0m\u001b[0m\n\u001b[0m\u001b[1;32m    238\u001b[0m         \u001b[0;32mif\u001b[0m \u001b[0mmpi\u001b[0m\u001b[0;34m:\u001b[0m\u001b[0;34m\u001b[0m\u001b[0m\n\u001b[1;32m    239\u001b[0m             \u001b[0mindex\u001b[0m \u001b[0;34m=\u001b[0m \u001b[0mNone\u001b[0m\u001b[0;34m\u001b[0m\u001b[0m\n",
      "\u001b[0;32m/n/home00/lee.5922/.local/lib/python2.7/site-packages/suchyta_utils/jk.pyc\u001b[0m in \u001b[0;36m_FindIndex\u001b[0;34m(self, regions)\u001b[0m\n\u001b[1;32m    313\u001b[0m             \u001b[0mrdi\u001b[0m\u001b[0;34m[\u001b[0m\u001b[0;34m:\u001b[0m\u001b[0;34m,\u001b[0m\u001b[0;36m0\u001b[0m\u001b[0;34m]\u001b[0m \u001b[0;34m=\u001b[0m \u001b[0mra\u001b[0m\u001b[0;34m\u001b[0m\u001b[0m\n\u001b[1;32m    314\u001b[0m             \u001b[0mrdi\u001b[0m\u001b[0;34m[\u001b[0m\u001b[0;34m:\u001b[0m\u001b[0;34m,\u001b[0m\u001b[0;36m1\u001b[0m\u001b[0;34m]\u001b[0m \u001b[0;34m=\u001b[0m \u001b[0mdec\u001b[0m\u001b[0;34m\u001b[0m\u001b[0m\n\u001b[0;32m--> 315\u001b[0;31m             \u001b[0mindex\u001b[0m \u001b[0;34m=\u001b[0m \u001b[0mkm\u001b[0m\u001b[0;34m.\u001b[0m\u001b[0mfind_nearest\u001b[0m\u001b[0;34m(\u001b[0m\u001b[0mrdi\u001b[0m\u001b[0;34m)\u001b[0m\u001b[0;34m\u001b[0m\u001b[0m\n\u001b[0m\u001b[1;32m    316\u001b[0m             \u001b[0mself\u001b[0m\u001b[0;34m.\u001b[0m\u001b[0mindex\u001b[0m\u001b[0;34m.\u001b[0m\u001b[0mappend\u001b[0m\u001b[0;34m(\u001b[0m\u001b[0mindex\u001b[0m\u001b[0;34m)\u001b[0m\u001b[0;34m\u001b[0m\u001b[0m\n\u001b[1;32m    317\u001b[0m \u001b[0;34m\u001b[0m\u001b[0m\n",
      "\u001b[0;32m/n/home00/lee.5922/.local/lib/python2.7/site-packages/kmeans_radec/kmeans_radec.pyc\u001b[0m in \u001b[0;36mfind_nearest\u001b[0;34m(self, X)\u001b[0m\n\u001b[1;32m    189\u001b[0m         \u001b[0mfind\u001b[0m \u001b[0mthe\u001b[0m \u001b[0mnearest\u001b[0m \u001b[0mcenters\u001b[0m \u001b[0mto\u001b[0m \u001b[0mthe\u001b[0m \u001b[0minput\u001b[0m \u001b[0mpoints\u001b[0m\u001b[0;34m\u001b[0m\u001b[0m\n\u001b[1;32m    190\u001b[0m         \"\"\"\n\u001b[0;32m--> 191\u001b[0;31m         \u001b[0;32mreturn\u001b[0m \u001b[0mfind_nearest\u001b[0m\u001b[0;34m(\u001b[0m\u001b[0mX\u001b[0m\u001b[0;34m,\u001b[0m \u001b[0mself\u001b[0m\u001b[0;34m.\u001b[0m\u001b[0mcenters\u001b[0m\u001b[0;34m)\u001b[0m\u001b[0;34m\u001b[0m\u001b[0m\n\u001b[0m\u001b[1;32m    192\u001b[0m \u001b[0;34m\u001b[0m\u001b[0m\n\u001b[1;32m    193\u001b[0m     \u001b[0;32mdef\u001b[0m \u001b[0m_print_info\u001b[0m\u001b[0;34m(\u001b[0m\u001b[0mself\u001b[0m\u001b[0;34m)\u001b[0m\u001b[0;34m:\u001b[0m\u001b[0;34m\u001b[0m\u001b[0m\n",
      "\u001b[0;32m/n/home00/lee.5922/.local/lib/python2.7/site-packages/kmeans_radec/kmeans_radec.pyc\u001b[0m in \u001b[0;36mfind_nearest\u001b[0;34m(X, centers)\u001b[0m\n\u001b[1;32m    368\u001b[0m     \"\"\"\n\u001b[1;32m    369\u001b[0m     \u001b[0m_check_dims\u001b[0m\u001b[0;34m(\u001b[0m\u001b[0mX\u001b[0m\u001b[0;34m,\u001b[0m \u001b[0mcenters\u001b[0m\u001b[0;34m)\u001b[0m\u001b[0;34m\u001b[0m\u001b[0m\n\u001b[0;32m--> 370\u001b[0;31m     \u001b[0mD\u001b[0m \u001b[0;34m=\u001b[0m \u001b[0mcdist_radec\u001b[0m\u001b[0;34m(\u001b[0m \u001b[0mX\u001b[0m\u001b[0;34m,\u001b[0m \u001b[0mcenters\u001b[0m\u001b[0;34m)\u001b[0m  \u001b[0;31m# |X| x |centers|\u001b[0m\u001b[0;34m\u001b[0m\u001b[0m\n\u001b[0m\u001b[1;32m    371\u001b[0m     \u001b[0;32mreturn\u001b[0m \u001b[0mD\u001b[0m\u001b[0;34m.\u001b[0m\u001b[0margmin\u001b[0m\u001b[0;34m(\u001b[0m\u001b[0maxis\u001b[0m\u001b[0;34m=\u001b[0m\u001b[0;36m1\u001b[0m\u001b[0;34m)\u001b[0m\u001b[0;34m\u001b[0m\u001b[0m\n\u001b[1;32m    372\u001b[0m \u001b[0;34m\u001b[0m\u001b[0m\n",
      "\u001b[0;32m/n/home00/lee.5922/.local/lib/python2.7/site-packages/kmeans_radec/kmeans_radec.pyc\u001b[0m in \u001b[0;36mcdist_radec\u001b[0;34m(a1, a2)\u001b[0m\n\u001b[1;32m    340\u001b[0m \u001b[0;34m\u001b[0m\u001b[0m\n\u001b[1;32m    341\u001b[0m     \u001b[0mcostheta\u001b[0m\u001b[0;34m=\u001b[0m\u001b[0mnumpy\u001b[0m\u001b[0;34m.\u001b[0m\u001b[0mclip\u001b[0m\u001b[0;34m(\u001b[0m\u001b[0mcostheta\u001b[0m\u001b[0;34m,\u001b[0m\u001b[0;34m-\u001b[0m\u001b[0;36m1.0\u001b[0m\u001b[0;34m,\u001b[0m\u001b[0;36m1.0\u001b[0m\u001b[0;34m)\u001b[0m\u001b[0;34m\u001b[0m\u001b[0m\n\u001b[0;32m--> 342\u001b[0;31m     \u001b[0mtheta\u001b[0m \u001b[0;34m=\u001b[0m \u001b[0marccos\u001b[0m\u001b[0;34m(\u001b[0m\u001b[0mcostheta\u001b[0m\u001b[0;34m)\u001b[0m\u001b[0;34m\u001b[0m\u001b[0m\n\u001b[0m\u001b[1;32m    343\u001b[0m     \u001b[0;32mreturn\u001b[0m \u001b[0mtheta\u001b[0m\u001b[0;34m\u001b[0m\u001b[0m\n\u001b[1;32m    344\u001b[0m \u001b[0;34m\u001b[0m\u001b[0m\n",
      "\u001b[0;31mKeyboardInterrupt\u001b[0m: "
     ]
    }
   ],
   "source": [
    "randind = np.random.choice( dmass.size, size = dmass.size/10)\n",
    "dmass['WEIGHT'] = dmass['WEIGHT_SYS'].copy()\n",
    "dmass_sam = dmass[randind]\n",
    "\n",
    "pcut2 = (dmass_sam['EachProb_CMASS'] > 0.01)\n",
    "angular_correlation(data = dmass_sam[pcut2], rand = maskedGoldMask_spt, \n",
    "                    nbins=10, weight = [True, None], njack = 50, \n",
    "                    suffix = '_dmass_all_weight_pcut01_nbins10_jk100', dir = basedir)"
   ]
  },
  {
   "cell_type": "code",
   "execution_count": 304,
   "metadata": {},
   "outputs": [
    {
     "data": {
      "text/plain": [
       "(6030163, 6777228)"
      ]
     },
     "execution_count": 304,
     "metadata": {},
     "output_type": "execute_result"
    }
   ],
   "source": [
    "maskedGoldMask_spt.size, dmass.size"
   ]
  },
  {
   "cell_type": "code",
   "execution_count": 312,
   "metadata": {},
   "outputs": [
    {
     "name": "stdout",
     "output_type": "stream",
     "text": [
      "calculate angular correlation function\n",
      "X (1633, 2)  centers (50, 2)  tol=1e-05  maxiter=200\n",
      "21 iterations  cluster sizes: [48 40 28 36 28 34 35 44 27 34 32 20 44 18 28 34 35 36 30 45 29 32 13 30\n",
      " 36 30 32 26 31 28 41 30 43 34 27 24 46 27 31 28 29 31 27 41 39 40 23 30\n",
      " 30 49]\n",
      "X (666775, 2)  centers (50, 2)  tol=1e-05  maxiter=200\n",
      "64 iterations  cluster sizes: [14138 16145 13195 15815 12795 13863 15636 13628 12894 15712 16510  9206\n",
      " 14843 10529 15365 13610 13322 13411 13179 12680 14304 11277  5706 15374\n",
      " 13076 13647 12257  8230 10668 13536 14463 12768 15119 13415 11360 14370\n",
      " 15702 12664 13801 14114 10258 14463 12131 15552 15179 11102 13079 13232\n",
      " 14049 15403]\n",
      ". . . . . . . . . . . . . . . . . . . . . . . . . . . . . . . . . . . . . . . . . . . . . . . . . . . saving data file to :  ../output/sfd_train_photo_SamPle_nozband_ran10_3_full_tol1e5//act//acf_auto_dmass_all_weight_pcut01_nbins10_jk100.txt\n"
     ]
    }
   ],
   "source": [
    "randind = np.random.choice( dmass.size, size = dmass.size)\n",
    "dmass['WEIGHT'] = dmass['CMASS_PROB'] * dmass['WEIGHT_SYS']\n",
    "dmass_sam = dmass[randind]\n",
    "\n",
    "pcut2 = (dmass_sam['EachProb_CMASS'] > 0.01)\n",
    "angular_correlation(data = dmass_sam[pcut2], rand = maskedGoldMask_spt, \n",
    "                    nbins=10, weight = [True, None], njack = 50, \n",
    "                    suffix = '_dmass_all_weight_pcut01_nbins10_jk100', dir = basedir)"
   ]
  },
  {
   "cell_type": "code",
   "execution_count": 306,
   "metadata": {},
   "outputs": [
    {
     "name": "stdout",
     "output_type": "stream",
     "text": [
      "calculate angular correlation function\n",
      "X (1653, 2)  centers (50, 2)  tol=1e-05  maxiter=200\n",
      "21 iterations  cluster sizes: [35 48 41 50 29 33 43 33 36 30 26 26 49 30 31 22 25 51 34 19 36 39 27 21\n",
      " 31 33 29 29 35 36 38 43 24 15 36 26 38 25 44 34 46 34 21 31 26 37 14 34\n",
      " 38 42]\n",
      "X (683718, 2)  centers (50, 2)  tol=1e-05  maxiter=200\n",
      "75 iterations  cluster sizes: [15426 15231 14818 15757 14954 15003 15881 14960 14115 14049 11844 16237\n",
      "  5596 15012 15947  8636  7914 14870 15607 13933 16951 15114 14056 11050\n",
      " 15356 12330 13230 13015 14767 15701  9110 11839  8058 11416 15800 13795\n",
      " 15545 10743 13010 15537 15320 18198 11093  9727 12091 14332 15742 14216\n",
      " 17363 13423]\n",
      ". . . . . . . . . . . . . . . . . . . . . . . . . . . . . . . . . . . . . . . . . . . . . . . . . . . saving data file to :  ../output/sfd_train_photo_SamPle_nozband_ran10_3_full_tol1e5//act//acf_auto_dmass_veto_pcut01_nbins10_jk100.txt\n"
     ]
    }
   ],
   "source": [
    "randind = np.random.choice( dmass.size, size = dmass.size)\n",
    "dmass['WEIGHT'] = dmass['CMASS_PROB'] * dmass['VETO']\n",
    "dmass_sam = dmass[randind]\n",
    "\n",
    "pcut2 = (dmass_sam['EachProb_CMASS'] > 0.01)\n",
    "angular_correlation(data = dmass_sam[pcut2], rand = maskedGoldMask_spt, \n",
    "                    nbins=10, weight = [True, None], njack = 50, \n",
    "                    suffix = '_dmass_veto_pcut01_nbins10_jk100', dir = basedir)"
   ]
  },
  {
   "cell_type": "code",
   "execution_count": 325,
   "metadata": {},
   "outputs": [
    {
     "data": {
      "text/plain": [
       "0"
      ]
     },
     "execution_count": 325,
     "metadata": {},
     "output_type": "execute_result"
    }
   ],
   "source": [
    "np.sum(dmass['CMASS_PROB'] == 0 )"
   ]
  },
  {
   "cell_type": "code",
   "execution_count": 344,
   "metadata": {
    "collapsed": true
   },
   "outputs": [
    {
     "name": "stdout",
     "output_type": "stream",
     "text": [
      "calculate angular correlation function\n",
      "X (5206, 2)  centers (50, 2)  tol=1e-05  maxiter=200\n",
      "52 iterations  cluster sizes: [ 86 130  98 100 112  94 110 153 149  67 100  98 124 114  71  88 117  71\n",
      " 132 138  89  78 114  88 135 118 109 101 139  62 119  84  89  44 113 179\n",
      "  84  65  90  95 114 110 131  67 102 127 108 108 141  51]\n",
      "X (6777228, 2)  centers (50, 2)  tol=1e-05  maxiter=200\n"
     ]
    },
    {
     "ename": "KeyboardInterrupt",
     "evalue": "",
     "output_type": "error",
     "traceback": [
      "\u001b[0;31m---------------------------------------------------------------------------\u001b[0m",
      "\u001b[0;31mKeyboardInterrupt\u001b[0m                         Traceback (most recent call last)",
      "\u001b[0;32m<ipython-input-344-b6e0ef2b1f92>\u001b[0m in \u001b[0;36m<module>\u001b[0;34m()\u001b[0m\n\u001b[1;32m      6\u001b[0m angular_correlation(data = dmass_sam[pcut2], rand = rand, \n\u001b[1;32m      7\u001b[0m                     \u001b[0mnbins\u001b[0m\u001b[0;34m=\u001b[0m\u001b[0;36m10\u001b[0m\u001b[0;34m,\u001b[0m \u001b[0mweight\u001b[0m \u001b[0;34m=\u001b[0m \u001b[0;34m[\u001b[0m\u001b[0mTrue\u001b[0m\u001b[0;34m,\u001b[0m \u001b[0mNone\u001b[0m\u001b[0;34m]\u001b[0m\u001b[0;34m,\u001b[0m \u001b[0mnjack\u001b[0m \u001b[0;34m=\u001b[0m \u001b[0;36m50\u001b[0m\u001b[0;34m,\u001b[0m\u001b[0;34m\u001b[0m\u001b[0m\n\u001b[0;32m----> 8\u001b[0;31m                     suffix = '_dmass_no_weight2_pcut00_nbins10_jk100', dir = basedir)\n\u001b[0m",
      "\u001b[0;32m/n/des/lee.5922/Dropbox/repositories/CMASS/code/systematics_module/corr.pyc\u001b[0m in \u001b[0;36mangular_correlation\u001b[0;34m(data, rand, njack, nbins, min_sep, max_sep, weight, mpi, suffix, out, dir)\u001b[0m\n\u001b[1;32m    703\u001b[0m \u001b[0;34m\u001b[0m\u001b[0m\n\u001b[1;32m    704\u001b[0m     \u001b[0mraTag\u001b[0m\u001b[0;34m,\u001b[0m \u001b[0mdecTag\u001b[0m \u001b[0;34m=\u001b[0m \u001b[0;34m'RA'\u001b[0m\u001b[0;34m,\u001b[0m \u001b[0;34m'DEC'\u001b[0m\u001b[0;34m\u001b[0m\u001b[0m\n\u001b[0;32m--> 705\u001b[0;31m     \u001b[0mjk\u001b[0m\u001b[0;34m.\u001b[0m\u001b[0mGenerateJKRegions\u001b[0m\u001b[0;34m(\u001b[0m \u001b[0mdata\u001b[0m\u001b[0;34m[\u001b[0m\u001b[0mraTag\u001b[0m\u001b[0;34m]\u001b[0m\u001b[0;34m,\u001b[0m \u001b[0mdata\u001b[0m\u001b[0;34m[\u001b[0m\u001b[0mdecTag\u001b[0m\u001b[0;34m]\u001b[0m\u001b[0;34m,\u001b[0m \u001b[0mnjack\u001b[0m\u001b[0;34m,\u001b[0m \u001b[0mjkfile\u001b[0m \u001b[0;34m)\u001b[0m\u001b[0;34m\u001b[0m\u001b[0m\n\u001b[0m\u001b[1;32m    706\u001b[0m     jktest = jk.SphericalJK( target = _acf, jkargs=[ data, rand ], \n\u001b[1;32m    707\u001b[0m         \u001b[0mjkargsby\u001b[0m\u001b[0;34m=\u001b[0m\u001b[0;34m[\u001b[0m\u001b[0;34m[\u001b[0m\u001b[0mraTag\u001b[0m\u001b[0;34m,\u001b[0m \u001b[0mdecTag\u001b[0m\u001b[0;34m]\u001b[0m\u001b[0;34m,\u001b[0m\u001b[0;34m[\u001b[0m\u001b[0mraTag\u001b[0m\u001b[0;34m,\u001b[0m \u001b[0mdecTag\u001b[0m\u001b[0;34m]\u001b[0m\u001b[0;34m]\u001b[0m\u001b[0;34m,\u001b[0m\u001b[0;34m\u001b[0m\u001b[0m\n",
      "\u001b[0;32m/n/home00/lee.5922/.local/lib/python2.7/site-packages/suchyta_utils/jk.pyc\u001b[0m in \u001b[0;36mGenerateJKRegions\u001b[0;34m(ra, dec, njack, jfile, maxiter, tol)\u001b[0m\n\u001b[1;32m    465\u001b[0m     \u001b[0mrd\u001b[0m\u001b[0;34m[\u001b[0m\u001b[0;34m:\u001b[0m\u001b[0;34m,\u001b[0m\u001b[0;36m1\u001b[0m\u001b[0;34m]\u001b[0m \u001b[0;34m=\u001b[0m \u001b[0mdec\u001b[0m\u001b[0;34m\u001b[0m\u001b[0m\n\u001b[1;32m    466\u001b[0m \u001b[0;34m\u001b[0m\u001b[0m\n\u001b[0;32m--> 467\u001b[0;31m     \u001b[0mkm\u001b[0m \u001b[0;34m=\u001b[0m \u001b[0mkmeans_radec\u001b[0m\u001b[0;34m.\u001b[0m\u001b[0mkmeans_sample\u001b[0m\u001b[0;34m(\u001b[0m\u001b[0mrd\u001b[0m\u001b[0;34m,\u001b[0m \u001b[0mnjack\u001b[0m\u001b[0;34m,\u001b[0m \u001b[0mmaxiter\u001b[0m\u001b[0;34m=\u001b[0m\u001b[0mmaxiter\u001b[0m\u001b[0;34m,\u001b[0m \u001b[0mtol\u001b[0m\u001b[0;34m=\u001b[0m\u001b[0mtol\u001b[0m\u001b[0;34m)\u001b[0m\u001b[0;34m\u001b[0m\u001b[0m\n\u001b[0m\u001b[1;32m    468\u001b[0m \u001b[0;34m\u001b[0m\u001b[0m\n\u001b[1;32m    469\u001b[0m     \u001b[0;32mif\u001b[0m \u001b[0;32mnot\u001b[0m \u001b[0mkm\u001b[0m\u001b[0;34m.\u001b[0m\u001b[0mconverged\u001b[0m\u001b[0;34m:\u001b[0m\u001b[0;34m\u001b[0m\u001b[0m\n",
      "\u001b[0;32m/n/home00/lee.5922/.local/lib/python2.7/site-packages/kmeans_radec/kmeans_radec.pyc\u001b[0m in \u001b[0;36mkmeans_sample\u001b[0;34m(X, ncen, nsample, maxiter, **kw)\u001b[0m\n\u001b[1;32m    302\u001b[0m \u001b[0;34m\u001b[0m\u001b[0m\n\u001b[1;32m    303\u001b[0m     \u001b[0mkm\u001b[0m\u001b[0;34m=\u001b[0m\u001b[0mKMeans\u001b[0m\u001b[0;34m(\u001b[0m\u001b[0msample_centers\u001b[0m\u001b[0;34m,\u001b[0m \u001b[0;34m**\u001b[0m\u001b[0mkw\u001b[0m\u001b[0;34m)\u001b[0m\u001b[0;34m\u001b[0m\u001b[0m\n\u001b[0;32m--> 304\u001b[0;31m     \u001b[0mkm\u001b[0m\u001b[0;34m.\u001b[0m\u001b[0mrun\u001b[0m\u001b[0;34m(\u001b[0m\u001b[0mX\u001b[0m\u001b[0;34m,\u001b[0m \u001b[0mmaxiter\u001b[0m\u001b[0;34m=\u001b[0m\u001b[0mmaxiter\u001b[0m\u001b[0;34m)\u001b[0m\u001b[0;34m\u001b[0m\u001b[0m\n\u001b[0m\u001b[1;32m    305\u001b[0m \u001b[0;34m\u001b[0m\u001b[0m\n\u001b[1;32m    306\u001b[0m     \u001b[0;32mreturn\u001b[0m \u001b[0mkm\u001b[0m\u001b[0;34m\u001b[0m\u001b[0m\n",
      "\u001b[0;32m/n/home00/lee.5922/.local/lib/python2.7/site-packages/kmeans_radec/kmeans_radec.pyc\u001b[0m in \u001b[0;36mrun\u001b[0;34m(self, X, maxiter)\u001b[0m\n\u001b[1;32m    123\u001b[0m         \u001b[0;32mfor\u001b[0m \u001b[0mjiter\u001b[0m \u001b[0;32min\u001b[0m \u001b[0mxrange\u001b[0m\u001b[0;34m(\u001b[0m \u001b[0;36m1\u001b[0m\u001b[0;34m,\u001b[0m \u001b[0mmaxiter\u001b[0m\u001b[0;34m+\u001b[0m\u001b[0;36m1\u001b[0m \u001b[0;34m)\u001b[0m\u001b[0;34m:\u001b[0m\u001b[0;34m\u001b[0m\u001b[0m\n\u001b[1;32m    124\u001b[0m \u001b[0;34m\u001b[0m\u001b[0m\n\u001b[0;32m--> 125\u001b[0;31m             \u001b[0mD\u001b[0m \u001b[0;34m=\u001b[0m \u001b[0mcdist_radec\u001b[0m\u001b[0;34m(\u001b[0m\u001b[0mX\u001b[0m\u001b[0;34m,\u001b[0m \u001b[0mcenters\u001b[0m\u001b[0;34m)\u001b[0m  \u001b[0;31m# npoints x ncenters\u001b[0m\u001b[0;34m\u001b[0m\u001b[0m\n\u001b[0m\u001b[1;32m    126\u001b[0m \u001b[0;34m\u001b[0m\u001b[0m\n\u001b[1;32m    127\u001b[0m             \u001b[0mlabels\u001b[0m \u001b[0;34m=\u001b[0m \u001b[0mD\u001b[0m\u001b[0;34m.\u001b[0m\u001b[0margmin\u001b[0m\u001b[0;34m(\u001b[0m\u001b[0maxis\u001b[0m\u001b[0;34m=\u001b[0m\u001b[0;36m1\u001b[0m\u001b[0;34m)\u001b[0m  \u001b[0;31m# X -> nearest centre\u001b[0m\u001b[0;34m\u001b[0m\u001b[0m\n",
      "\u001b[0;32m/n/home00/lee.5922/.local/lib/python2.7/site-packages/kmeans_radec/kmeans_radec.pyc\u001b[0m in \u001b[0;36mcdist_radec\u001b[0;34m(a1, a2)\u001b[0m\n\u001b[1;32m    340\u001b[0m \u001b[0;34m\u001b[0m\u001b[0m\n\u001b[1;32m    341\u001b[0m     \u001b[0mcostheta\u001b[0m\u001b[0;34m=\u001b[0m\u001b[0mnumpy\u001b[0m\u001b[0;34m.\u001b[0m\u001b[0mclip\u001b[0m\u001b[0;34m(\u001b[0m\u001b[0mcostheta\u001b[0m\u001b[0;34m,\u001b[0m\u001b[0;34m-\u001b[0m\u001b[0;36m1.0\u001b[0m\u001b[0;34m,\u001b[0m\u001b[0;36m1.0\u001b[0m\u001b[0;34m)\u001b[0m\u001b[0;34m\u001b[0m\u001b[0m\n\u001b[0;32m--> 342\u001b[0;31m     \u001b[0mtheta\u001b[0m \u001b[0;34m=\u001b[0m \u001b[0marccos\u001b[0m\u001b[0;34m(\u001b[0m\u001b[0mcostheta\u001b[0m\u001b[0;34m)\u001b[0m\u001b[0;34m\u001b[0m\u001b[0m\n\u001b[0m\u001b[1;32m    343\u001b[0m     \u001b[0;32mreturn\u001b[0m \u001b[0mtheta\u001b[0m\u001b[0;34m\u001b[0m\u001b[0m\n\u001b[1;32m    344\u001b[0m \u001b[0;34m\u001b[0m\u001b[0m\n",
      "\u001b[0;31mKeyboardInterrupt\u001b[0m: "
     ]
    }
   ],
   "source": [
    "randind = np.random.choice( dmass.size, size = dmass.size)\n",
    "dmass['WEIGHT'] = dmass['CMASS_PROB'] # * dmass['VETO']\n",
    "dmass_sam = dmass[randind]\n",
    "\n",
    "pcut2 = (dmass_sam['EachProb_CMASS'] > 0.0)\n",
    "angular_correlation(data = dmass_sam[pcut2], rand = rand, \n",
    "                    nbins=10, weight = [True, None], njack = 50, \n",
    "                    suffix = '_dmass_no_weight2_pcut00_nbins10_jk100', dir = basedir)"
   ]
  },
  {
   "cell_type": "code",
   "execution_count": 390,
   "metadata": {},
   "outputs": [
    {
     "name": "stdout",
     "output_type": "stream",
     "text": [
      "calculate angular correlation function\n",
      "X (1631, 2)  centers (100, 2)  tol=1e-05  maxiter=200\n",
      "15 iterations  cluster sizes: [14 16  5 16 18 17  8 16 26 17 25 10 24 16 16 10 27 15 25 19 27 28 22 11\n",
      " 24 12 21  6 14 16 19  3 24 26 13 23 13 14 16 16 22 20 18 13 15 11 17 21\n",
      " 16 14 14  8 17 37 28 12 13 15 19 16 19 17 30  2 16  8 25 23 13 22 16 21\n",
      " 11 16 22  9 21 18  8 15 12 14  9 14  5 19 11  9 21 23 15 13  1 17 22 12\n",
      " 12  8  9 19]\n",
      "X (665582, 2)  centers (100, 2)  tol=1e-05  maxiter=200\n",
      "82 iterations  cluster sizes: [7450 7043 6828 5494 8148 7881 3410 7058 6034 6626 7616 5875 7589 6060\n",
      " 6674 6085 8825 6631 6480 5784 7227 6963 6017 8112 6793 6222 7529 6611\n",
      " 6182 5931 6361 5909 7325 6356 7854 6051 6528 6055 7795 6271 6442 6372\n",
      " 6288 5078 7846 7879 5597 7451 7409 6911 6586 7431 7369 8024 6815 6395\n",
      " 4288 5996 6253 5524 5556 7093 6108 3600 6140 7512 7215 6624 6701 6703\n",
      " 7697 6548 6689 7537 6310 6892 5882 6142 8031 6505 7368 6069 6837 6961\n",
      " 6609 6098 7464 6307 6760 8270 6199 8145 4248 7067 7005 6669 6627 6833\n",
      " 6097 6827]\n",
      ". . . . . . . . . . . . . . . . . . . . . . . . . . . . . . . . . . . . . . . . . . . . . . . . . . . . . . . . . . . . . . . . . . . . . . . . . . . . . . . . . . . . . . . . . . . . . . . . . . . . . saving data file to :  ../output/sfd_train_photo_SamPle_nozband_ran10_3_full_tol1e5//act//acf_auto_dmass_all_weight_pcut01_nbins10_jk100.txt\n"
     ]
    }
   ],
   "source": [
    "\n",
    "dmass['WEIGHT'] = dmass['CMASS_PROB'] * dmass['WEIGHT_SYS']\n",
    "\n",
    "angular_correlation(data = dmass, rand = rand2, \n",
    "                    nbins=10, weight = [True, None], njack = 100, \n",
    "                    suffix = '_dmass_all_weight_pcut01_nbins10_jk100', dir = basedir)"
   ]
  },
  {
   "cell_type": "code",
   "execution_count": 67,
   "metadata": {},
   "outputs": [
    {
     "data": {
      "text/plain": [
       "117292.90214602613"
      ]
     },
     "execution_count": 67,
     "metadata": {},
     "output_type": "execute_result"
    }
   ],
   "source": [
    "np.sum(dmass['CMASS_PROB'])"
   ]
  },
  {
   "cell_type": "code",
   "execution_count": 391,
   "metadata": {},
   "outputs": [
    {
     "name": "stdout",
     "output_type": "stream",
     "text": [
      "calculate angular correlation function\n",
      "X (1631, 2)  centers (100, 2)  tol=1e-05  maxiter=200\n",
      "15 iterations  cluster sizes: [18 12  8 12 19 18  1 22 18 13 11 12 19 27  7 10 18 15 29 11 15 23 18 16\n",
      "  6 12 29 21 15 25 28 25 16 15 17 30 11 17 22 23 12 11 14 16  8 28 13  8\n",
      " 10 19 21 15 20 12 24 13 16 16 18 10 11  9 30 16 10 38 11 19 13  8 10 17\n",
      " 15 19 16 27 28 12  9 16  9 29 15 22 12 13 10 14 14 13 11 26 16 13 23  9\n",
      " 24  9 12 15]\n",
      "X (665582, 2)  centers (100, 2)  tol=1e-05  maxiter=200\n",
      "50 iterations  cluster sizes: [6319 6347 5652 6298 6719 6176 2595 6488 6386 5654 6503 7253 7869 9348\n",
      " 6732 8434 5983 7158 8704 5131 6358 6813 7022 7927 3550 6991 7662 7030\n",
      " 7450 8690 7905 9134 7041 7527 7856 8165 5075 6098 8158 6973 6177 6985\n",
      " 6795 6648 4632 8241 8969 6286 6125 8248 4531 5525 7712 3380 8533 7197\n",
      " 6839 6904 8045 4465 6193 7603 5276 6848 5880 9322 4380 7115 5461 6921\n",
      " 2909 5965 7742 6216 6424 6745 7009 5850 6464 6559 6833 7322 6707 9263\n",
      " 6792 7737 7638 7879 4638 4906 7015 5549 5261 7438 7625 5156 8294 4231\n",
      " 3258 7747]\n",
      ". . . . . . . . . . . . . . . . . . . . . . . . . . . . . . . . . . . . . . . . . . . . . . . . . . . . . . . . . . . . . . . . . . . . . . . . . . . . . . . . . . . . . . . . . . . . . . . . . . . . saving data file to :  ../output/sfd_train_photo_SamPle_nozband_ran10_3_full_tol1e5//act//acf_auto_dmass_veto_pcut01_nbins10_jk100.txt\n"
     ]
    }
   ],
   "source": [
    "\n",
    "dmass['WEIGHT'] = dmass['CMASS_PROB']* dmass['VETO']\n",
    "\n",
    "angular_correlation(data = dmass, rand = rand2, \n",
    "                    nbins=10, weight = [True, None], njack = 100, \n",
    "                    suffix = '_dmass_veto_pcut01_nbins10_jk100', dir = basedir)\n"
   ]
  },
  {
   "cell_type": "code",
   "execution_count": 385,
   "metadata": {},
   "outputs": [
    {
     "name": "stdout",
     "output_type": "stream",
     "text": [
      "saving data file to :  ../output/sfd_train_photo_SamPle_nozband_ran10_3_full_tol1e5//act//acf_auto_poisson_dmass_no_veto_pcut01_nbins10_jk100.txt\n"
     ]
    }
   ],
   "source": [
    "dmass['WEIGHT'] = dmass['CMASS_PROB'] * dmass['VETO']\n",
    "#pcut2 = (dmass['CMASS_PROB'] > 0.01)\n",
    "\n",
    "from systematics_module.corr import angular_correlation_poisson\n",
    "angular_correlation_poisson(data = dmass, rand = rand2, \n",
    "                    nbins=10, weight_data = True, \n",
    "                    suffix = '_dmass_no_veto_pcut01_nbins10_jk100', dir = basedir)"
   ]
  },
  {
   "cell_type": "code",
   "execution_count": 387,
   "metadata": {},
   "outputs": [
    {
     "name": "stdout",
     "output_type": "stream",
     "text": [
      "saving data file to :  ../output/sfd_train_photo_SamPle_nozband_ran10_3_full_tol1e5//act//acf_auto_poisson_dmass_all_weight_pcut01_nbins10_jk100.txt\n"
     ]
    }
   ],
   "source": [
    "#mass_masked['WEIGHT'] = dmass_masked['CMASS_PROB'] * dmass_masked['WEIGHT_SYS']\n",
    "dmass['WEIGHT'] = dmass['CMASS_PROB'] * dmass['WEIGHT_SYS']\n",
    "#pcut2 = (dmass['CMASS_PROB'] > 0.01)\n",
    "\n",
    "from systematics_module.corr import angular_correlation_poisson\n",
    "angular_correlation_poisson(data = dmass, rand = rand2, \n",
    "                    nbins=10, weight_data = True, \n",
    "                    suffix = '_dmass_all_weight_pcut01_nbins10_jk100', dir = basedir)"
   ]
  },
  {
   "cell_type": "code",
   "execution_count": 388,
   "metadata": {},
   "outputs": [
    {
     "name": "stdout",
     "output_type": "stream",
     "text": [
      "initial 114774.39081275917 114200.33709136744\n",
      "1 fwhm_r"
     ]
    },
    {
     "ename": "ValueError",
     "evalue": "operands could not be broadcast together with shapes (665582,) () (6777228,) ",
     "output_type": "error",
     "traceback": [
      "\u001b[0;31m---------------------------------------------------------------------------\u001b[0m",
      "\u001b[0;31mValueError\u001b[0m                                Traceback (most recent call last)",
      "\u001b[0;32m<ipython-input-388-50ad6efac04c>\u001b[0m in \u001b[0;36m<module>\u001b[0;34m()\u001b[0m\n\u001b[1;32m     25\u001b[0m     \u001b[0;31m#for w in weightslist[:i]: weight_com *= w\u001b[0m\u001b[0;34m\u001b[0m\u001b[0;34m\u001b[0m\u001b[0m\n\u001b[1;32m     26\u001b[0m     \u001b[0;32mprint\u001b[0m \u001b[0mi\u001b[0m\u001b[0;34m,\u001b[0m \u001b[0morder\u001b[0m\u001b[0;34m[\u001b[0m\u001b[0mi\u001b[0m\u001b[0;34m-\u001b[0m\u001b[0;36m1\u001b[0m\u001b[0;34m]\u001b[0m\u001b[0;34m,\u001b[0m\u001b[0;34m\u001b[0m\u001b[0m\n\u001b[0;32m---> 27\u001b[0;31m     \u001b[0mweight_com\u001b[0m \u001b[0;34m*=\u001b[0m \u001b[0mweightslist\u001b[0m\u001b[0;34m[\u001b[0m\u001b[0mi\u001b[0m\u001b[0;34m-\u001b[0m\u001b[0;36m1\u001b[0m\u001b[0;34m]\u001b[0m\u001b[0;34m\u001b[0m\u001b[0m\n\u001b[0m\u001b[1;32m     28\u001b[0m     \u001b[0mdmass\u001b[0m\u001b[0;34m[\u001b[0m\u001b[0;34m'WEIGHT'\u001b[0m\u001b[0;34m]\u001b[0m \u001b[0;34m=\u001b[0m \u001b[0mweight_com\u001b[0m\u001b[0;34m\u001b[0m\u001b[0m\n\u001b[1;32m     29\u001b[0m \u001b[0;34m\u001b[0m\u001b[0m\n",
      "\u001b[0;32m/n/home00/lee.5922/.local/lib/python2.7/site-packages/numpy/ma/core.pyc\u001b[0m in \u001b[0;36m__imul__\u001b[0;34m(self, other)\u001b[0m\n\u001b[1;32m   4206\u001b[0m             \u001b[0mself\u001b[0m\u001b[0;34m.\u001b[0m\u001b[0m_mask\u001b[0m \u001b[0;34m+=\u001b[0m \u001b[0mm\u001b[0m\u001b[0;34m\u001b[0m\u001b[0m\n\u001b[1;32m   4207\u001b[0m         self._data.__imul__(np.where(self._mask, self.dtype.type(1),\n\u001b[0;32m-> 4208\u001b[0;31m                                      getdata(other)))\n\u001b[0m\u001b[1;32m   4209\u001b[0m         \u001b[0;32mreturn\u001b[0m \u001b[0mself\u001b[0m\u001b[0;34m\u001b[0m\u001b[0m\n\u001b[1;32m   4210\u001b[0m \u001b[0;34m\u001b[0m\u001b[0m\n",
      "\u001b[0;31mValueError\u001b[0m: operands could not be broadcast together with shapes (665582,) () (6777228,) "
     ]
    }
   ],
   "source": [
    "#tree corr\n",
    "from systematics_module.corr import angular_correlation\n",
    "basedir = inputdir+'/act/'\n",
    "os.system('mkdir '+inputdir+'/act/')\n",
    "\n",
    "pcut1 = (dmass['EachProb_CMASS'] > 0.01)\n",
    "pcut2 = (dmass_masked['EachProb_CMASS'] > 0.01)\n",
    "\n",
    "\n",
    "#angular_correlation(data = dmass[pcut1], rand = rand2, \n",
    "#                    nbins=10, weight = [True, None], njack = 100, \n",
    "#                    suffix = '_dmass_no_weight_nbins10_jk100', dir = basedir)\n",
    "\n",
    "#angular_correlation(data = dmass_masked[pcut2], rand = rand2_masked, nbins=10, \n",
    "#                    weight = [True, None], njack = 100, \n",
    "#                    suffix = '_dmass_vetoed_nbins10_jk100', dir = basedir)\n",
    "\n",
    "\n",
    "weight_com = dmass['CMASS_PROB']\n",
    "\n",
    "print 'initial', np.sum(dmass['WEIGHT'][pcut1]), np.sum(dmass['EachProb_CMASS'][pcut1])\n",
    "for i in range(1,len(weightslist)+1):\n",
    "    \n",
    "     \n",
    "    #for w in weightslist[:i]: weight_com *= w\n",
    "    print i, order[i-1],\n",
    "    weight_com *= weightslist[i-1]\n",
    "    dmass['WEIGHT'] = weight_com\n",
    "    \n",
    "    #dmass_m = maskingCatalogSP(catalog=dmass, sysMap=sysMap)\n",
    "    \n",
    "    \n",
    "    \n",
    "    randind = np.random.choice( dmass.size, size = dmass.size)\n",
    "    dmass_m = dmass[randind]\n",
    "    pcut = (dmass_m['EachProb_CMASS'] > 0.01)\n",
    "    \n",
    "    angular_correlation(data = dmass_m[pcut], rand = rand_masked, nbins=10, weight = [True, None], njack = 50, \n",
    "                        suffix = '_dmass_weight'+str(i)+'_nbins10_jk100', dir = basedir)\n",
    "    "
   ]
  },
  {
   "cell_type": "code",
   "execution_count": 144,
   "metadata": {},
   "outputs": [
    {
     "data": {
      "image/png": "[encoded data removed]",
      "text/plain": [
       "<matplotlib.figure.Figure at 0x7fc589b26590>"
      ]
     },
     "metadata": {},
     "output_type": "display_data"
    }
   ],
   "source": [
    "import scipy\n",
    "\n",
    "theta_th, theory = np.loadtxt('../data_txt/acf_cmass_ngc_theory.txt', unpack=True)\n",
    "theta_th, theory_sgc = np.loadtxt('../data_txt/acf_cmass_sgc_theory.txt', unpack=True)\n",
    "\n",
    "#_, theory_bias = np.loadtxt('../data_txt/acf_cmass_sgc_theory_bias.txt', unpack=True)\n",
    "#meanr, xi, xi_err = np.loadtxt(rootdir+'/act//acf_auto_gold_st82_nbins10_jk100.txt', unpack=True)\n",
    "#meanr, xi, xi_err = np.loadtxt(rootdir+'/act//acf_auto_poisson_dmass_no_weight_pcut01_nbins10_jk100.txt', unpack=True)\n",
    "meanr2, xi2, xi_err2 = np.loadtxt(rootdir+'/act//acf_auto_dmass_veto_pcut01_nbins10_jk100.txt', unpack=True)\n",
    "meanr3, xi3, xi_err3 = np.loadtxt(rootdir+'/act//acf_auto_dmass_all_weight_pcut01_nbins10_jk100.txt', unpack=True)\n",
    "meanr4, xi4, xi_err4 = np.loadtxt(rootdir+'/act//acf_auto_dmass_no_weight_pcut01_nbins10_jk100.txt', unpack=True)\n",
    "\n",
    "\n",
    "\n",
    "theory_interp = scipy.interpolate.interp1d(theta_th, theory)\n",
    "theory_interp = theory_interp(meanr)\n",
    "theory_sgc_interp = scipy.interpolate.interp1d(theta_th, theory_sgc)\n",
    "theory_sgc_interp = theory_sgc_interp(meanr)\n",
    "\n",
    "nzs_ratio = theory_sgc_interp/theory_interp\n",
    "\n",
    "\n",
    "meanr_sgc, xi_sgc, xi_err_sgc = np.loadtxt('../data_txt//acf_auto_cmass_sgc_sys_cp_nz_weight_nbins10_jk100.txt',unpack=True)\n",
    "cov_cmass_s = np.genfromtxt('../data_txt//acf_auto_cmass_sgc_sys_cp_nz_weight_nbins10_jk100.cov')\n",
    "\n",
    "\n",
    "fig, ax = plt.subplots(figsize = (10, 8))\n",
    "\n",
    "\n",
    "#ax.errorbar(meanr, xi, yerr = xi_err, fmt = '-', color='r', label='dmass no weight')\n",
    "#ax.errorbar(meanr2, xi2, yerr = xi_err2, fmt = '-', color='b', label='dmass vetoed')\n",
    "ax.errorbar(meanr_sgc, xi_sgc, yerr = xi_err_sgc, fmt = '.', color='k', label='CMASS SGC')\n",
    "ax.plot(meanr_sgc, xi_sgc, 'k-', lw=0.5)\n",
    "#ax.errorbar(meanr4*0.95, xi4, yerr = xi_err4, fmt = '.', color='b', label='dmass no weight')\n",
    "ax.errorbar(meanr3*1.05, xi3, yerr = xi_err3, fmt = '.', color='r', label='DMASS')\n",
    "\n",
    "\n",
    "\n",
    "\n",
    "#ax.plot(theta_th, theory, '-', color='grey', label='theory')\n",
    "#ax.plot(theta_th, theory_sgc, '--', color='grey', label='theory sgc')\n",
    "#ax.plot(theta_th, theta_th*theory_bias, '--', color='green', label='theory bias')\n",
    "\n",
    "ax.set_xscale('log')\n",
    "ax.set_yscale('log')\n",
    "ax.legend(loc = 'best', fontsize = 20)\n",
    "#ax.text(1.5, 0.07, r'$\\chi^2 $ = {:0.3f}  (south)'.format(chisqr), fontsize = 12)\n",
    "#ax.set_ylim(1e-4,1)\n",
    "ax.set_xlim(2.5/60, 250./60)\n",
    "ax.set_xlabel(r'$\\theta$ (deg)', fontsize = 25)\n",
    "ax.set_ylabel(r'$\\omega(\\theta)$', fontsize = 25)\n",
    "ax.tick_params(labelsize=20)\n",
    "fig.savefig('../paper_figure/acf_comparison_cmass_dmass.pdf')"
   ]
  },
  {
   "cell_type": "code",
   "execution_count": 45,
   "metadata": {},
   "outputs": [
    {
     "data": {
      "text/plain": [
       "['all_weight',\n",
       " 'veto',\n",
       " '+ vetoed',\n",
       " '+ fwhm_r',\n",
       " '+ airmass_z',\n",
       " '+ exptime_g',\n",
       " '+ fwhm_i',\n",
       " '+ airmass_g',\n",
       " '+ fwhm_g']"
      ]
     },
     "execution_count": 45,
     "metadata": {},
     "output_type": "execute_result"
    }
   ],
   "source": [
    "labels_SP"
   ]
  },
  {
   "cell_type": "code",
   "execution_count": 146,
   "metadata": {},
   "outputs": [
    {
     "data": {
      "text/plain": [
       "'wg_fwhm_r_airmass_z_exptime_g_fwhm_i_airmass_g_fwhm_g'"
      ]
     },
     "execution_count": 146,
     "metadata": {},
     "output_type": "execute_result"
    }
   ],
   "source": [
    "suf"
   ]
  },
  {
   "cell_type": "code",
   "execution_count": 102,
   "metadata": {},
   "outputs": [
    {
     "name": "stdout",
     "output_type": "stream",
     "text": [
      "../output/sfd_train_photo_SamPle_nozband_ran10_3_full_tol1e5//act/acf_auto_dmass_no_weight_pcut01_nbins10_jk100.txt\n",
      "err db, db / br1, brmin, br2 : 0.026365634741858046 0.012170458200698953 0.9928731839625272 1.0061224858292843 1.0192388187043853\n",
      "../output/sfd_train_photo_SamPle_nozband_ran10_3_full_tol1e5//act/acf_auto_dmass_veto_pcut01_nbins10_jk100.txt\n",
      "err db, db / br1, brmin, br2 : 0.026136292476463208 0.011463003569439634 0.9926313834514213 1.0057645412632583 1.0187676759278845\n",
      "../output/sfd_train_photo_SamPle_nozband_ran10_3_full_tol1e5//act/acf_auto_dmass_weight0_pcut01_nbins10_jk100.txt\n",
      "err db, db / br1, brmin, br2 : 0.026080323425738627 0.024776903060909516 0.9994197156118098 1.0125438504133053 1.0255000390375484\n",
      "../output/sfd_train_photo_SamPle_nozband_ran10_3_full_tol1e5//act/acf_auto_dmass_weight1_pcut01_nbins10_jk100.txt\n",
      "err db, db / br1, brmin, br2 : 0.022877927392664477 0.007677113428239846 0.9923492083890015 1.0038533480089917 1.015227135781666\n",
      "../output/sfd_train_photo_SamPle_nozband_ran10_3_full_tol1e5//act/acf_auto_dmass_weight2_pcut01_nbins10_jk100.txt\n",
      "err db, db / br1, brmin, br2 : 0.02602811694854168 0.016711569076234056 0.9953281547445172 1.0084261919828021 1.0213562716930589\n",
      "../output/sfd_train_photo_SamPle_nozband_ran10_3_full_tol1e5//act/acf_auto_dmass_weight3_pcut01_nbins10_jk100.txt\n",
      "err db, db / br1, brmin, br2 : 0.02554186571868433 0.01749137818549862 0.9959710797399368 1.0088228510045467 1.0215129454586211\n",
      "../output/sfd_train_photo_SamPle_nozband_ran10_3_full_tol1e5//act/acf_auto_dmass_weight4_pcut01_nbins10_jk100.txt\n",
      "err db, db / br1, brmin, br2 : 0.024362529939903066 0.013426293146736379 0.9944836849138914 1.00675851749191 1.0188462148537945\n",
      "../output/sfd_train_photo_SamPle_nozband_ran10_3_full_tol1e5//act/acf_auto_dmass_weight5_pcut01_nbins10_jk100.txt\n",
      "err db, db / br1, brmin, br2 : 0.025031842116253644 0.013896617986264292 0.9944032218137222 1.0069969257955618 1.0194350639299758\n",
      "pic save to  ../output/sfd_train_photo_SamPle_nozband_ran10_3_full_tol1e5//figure/sys_bias_weight.png\n"
     ]
    },
    {
     "data": {
      "image/png": "[encoded data removed]",
      "text/plain": [
       "<matplotlib.figure.Figure at 0x7fc75185e950>"
      ]
     },
     "metadata": {},
     "output_type": "display_data"
    }
   ],
   "source": [
    "from systematics import brel_chisqr_fitting\n",
    "import scipy\n",
    "\n",
    "\n",
    "theta_th, theory = np.loadtxt('../data_txt/acf_cmass_ngc_theory.txt', unpack=True)\n",
    "theta_th, theory_sgc = np.loadtxt('../data_txt/acf_cmass_sgc_theory.txt', unpack=True)\n",
    "theory_sgc_interp = scipy.interpolate.interp1d(theta_th, theory_sgc)\n",
    "#theory_sgc_interp = theory_sgc_interp(meanr)\n",
    "\n",
    "fig, ax = plt.subplots(figsize = (3,7))\n",
    "brelsqr = np.linspace(0.5, 1.5, 5000) \n",
    "b_n = 2.0\n",
    "brelarr = np.sqrt(brelsqr)\n",
    "dbarray = b_n*(1-brelarr)\n",
    "\n",
    "\n",
    "\n",
    "meanr_sgc, xi_sgc, xi_err_sgc = np.loadtxt('../data_txt//acf_auto_cmass_sgc_sys_cp_nz_weight_nbins10_jk100.txt',unpack=True)\n",
    "cov_cmass_s = np.genfromtxt('../data_txt//acf_auto_cmass_sgc_sys_cp_nz_weight_nbins10_jk100.cov')\n",
    "\n",
    "\n",
    "labels_SP = ['no weight', 'veto'] + ['+ '+o for o in order[1:] ]\n",
    "\n",
    "filenames = [ basedir+ 'acf_auto_dmass_no_weight_pcut01_nbins10_jk100.txt', \\\n",
    "              basedir + 'acf_auto_dmass_veto_pcut01_nbins10_jk100.txt'\n",
    "            ] \\\n",
    "+[ basedir+'acf_auto_dmass_weight'+str(j)+'_pcut01_nbins10_jk100.txt' for j in range(0, len(labels_SP))]\n",
    "\n",
    "covnames = [ basedir+ 'acf_auto_dmass_no_weight_pcut01_nbins10_jk100.cov', \\\n",
    "              basedir + 'acf_auto_dmass_veto_pcut01_nbins10_jk100.cov'\n",
    "           ] \\\n",
    "+[ basedir+'acf_auto_dmass_weight'+str(j)+'_pcut01_nbins10_jk100.cov' for j in range(0, len(labels_SP))]\n",
    "\n",
    "\n",
    "for j in range(1, len(labels_SP)+1):\n",
    "#for j in [1,7]:\n",
    "    \n",
    "    print filenames[j-1]\n",
    "    meanrw, xiw, xi_errw = np.loadtxt( filenames[j-1], unpack=True)\n",
    "    cov_dmass_w = np.loadtxt( covnames[j-1], unpack=True)\n",
    "    #meanrw, xiw, xi_errw = np.loadtxt(basedir+'acf_auto_dmass_weight'+str(j)+'_nbins10_jk100.txt', unpack=True)\n",
    "    #cov_dmass_w = np.loadtxt(basedir+'acf_auto_dmass_weight'+str(j)+'_nbins10_jk100.cov', unpack=True)\n",
    "    HFd = 1.0 #HF(50, 10)\n",
    "    F_d = HFd * np.linalg.inv(cov_dmass_w)\n",
    "    err_brelw, brelw, chisqr_resultw = brel_chisqr_fitting(xiw, theory_sgc_interp(meanrw), F_d, verbose=True)\n",
    "    if j == 1 : \n",
    "        color = 'red'\n",
    "        ax.axvspan(2*brelw - err_brelw*2., 2*brelw + err_brelw*2.,  alpha=0.1, color='grey')\n",
    "        ax.axvline(x=2*brelw, color = 'grey', ls='--')\n",
    "        #ax.axvspan(- err_brelw*2.,  err_brelw*2.,  alpha=0.1, color='grey')\n",
    "        #ax.axvline(x=0, color = 'grey', ls='--')\n",
    "    else : color = 'k'  \n",
    "        \n",
    "    ax.errorbar(2*brelw, len(labels_SP)+1-j, xerr =err_brelw*2., fmt='-o', color=color)\n",
    "    \n",
    "#ax.set_xlabel(r'$\\Delta b = b_{fid} - b_x$', fontsize = 20)\n",
    "ax.set_xlabel(r'$b$', fontsize = 20)\n",
    "#ax.set_ylabel(r'$\\chi^2$')\n",
    "ax.legend(loc=1)\n",
    "ax.set_xlim(1.96, 2.06)\n",
    "#ax.set_yticks([1,2,3,4,5,6,7,8,9,10,11,12])\n",
    "ax.set_yticks(np.arange(1, len(labels_SP)+1 ))\n",
    "\n",
    "labels = labels_SP[::-1]\n",
    "ax.set_yticklabels( labels, fontsize = 15) \n",
    "fig.savefig(figoutdir + 'sys_bias_weight.png')\n",
    "print 'pic save to ', figoutdir + 'sys_bias_weight.png'\n",
    "\n",
    "\n",
    "\n"
   ]
  },
  {
   "cell_type": "code",
   "execution_count": null,
   "metadata": {},
   "outputs": [],
   "source": []
  }
 ],
 "metadata": {
  "kernelspec": {
   "display_name": "Python 2",
   "language": "python",
   "name": "python2"
  },
  "language_info": {
   "codemirror_mode": {
    "name": "ipython",
    "version": 2
   },
   "file_extension": ".py",
   "mimetype": "text/x-python",
   "name": "python",
   "nbconvert_exporter": "python",
   "pygments_lexer": "ipython2",
   "version": "2.7.14"
  }
 },
 "nbformat": 4,
 "nbformat_minor": 1
}
