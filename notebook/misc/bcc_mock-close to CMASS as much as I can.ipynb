{
 "cells": [
  {
   "cell_type": "markdown",
   "metadata": {},
   "source": [
    "# Notebook - BCC mock"
   ]
  },
  {
   "cell_type": "code",
   "execution_count": 22,
   "metadata": {
    "collapsed": false,
    "scrolled": true
   },
   "outputs": [
    {
     "name": "stdout",
     "output_type": "stream",
     "text": [
      "The autoreload extension is already loaded. To reload it, use:\n",
      "  %reload_ext autoreload\n"
     ]
    }
   ],
   "source": [
    "from xd import *\n",
    "from utils import *\n",
    "import esutil\n",
    "import healpy as hp\n",
    "from systematics import *\n",
    "%matplotlib inline\n",
    "\n",
    "%load_ext autoreload\n",
    "%autoreload 2"
   ]
  },
  {
   "cell_type": "markdown",
   "metadata": {},
   "source": [
    "#### calling BCC-buzzard "
   ]
  },
  {
   "cell_type": "markdown",
   "metadata": {},
   "source": [
    "Remove objects having crazy colors or undetected in all bands."
   ]
  },
  {
   "cell_type": "code",
   "execution_count": 23,
   "metadata": {
    "collapsed": false
   },
   "outputs": [],
   "source": [
    "def priorCut_buz(merged_buz):\n",
    "    basicmask = (\n",
    "                 ( merged_buz['MAG_G'] > 15.0 ) & ( merged_buz['MAG_G'] < 25.0 ) &\n",
    "                 ( merged_buz['MAG_R'] > 15.0 ) & ( merged_buz['MAG_R'] < 25.0 ) &\n",
    "                 ( merged_buz['MAG_I'] > 15.0 ) & ( merged_buz['MAG_I'] < 22.0 ) &\n",
    "                 ( merged_buz['MAG_Z'] > 15.0 ) & ( merged_buz['MAG_Z'] < 25.0 ) &\n",
    "                 ( merged_buz['MAG_G'] - merged_buz['MAG_R'] < 2.5 ) &\n",
    "                 ( merged_buz['MAG_G'] - merged_buz['MAG_R'] > -0.5 ) &\n",
    "                 #( merged_buz['MAG_G'] - merged_buz['MAG_R'] > 0.0 ) &\n",
    "                 ( merged_buz['MAG_R'] - merged_buz['MAG_I'] < 2.0 ) &\n",
    "                 ( merged_buz['MAG_R'] - merged_buz['MAG_I'] > -0.5 )\n",
    "                 #( merged_buz['MAG_R'] - merged_buz['MAG_I'] > 0.0 )\n",
    "                 )\n",
    "    return merged_buz[basicmask]"
   ]
  },
  {
   "cell_type": "code",
   "execution_count": 25,
   "metadata": {
    "collapsed": true
   },
   "outputs": [],
   "source": [
    "# code for unfolding sdss-buz\n",
    "def unfold_buz(buz_sdss):\n",
    "    #buz_sdss = fitsio.read(path+name)\n",
    "    dtype = [('OMAG_'+f, float) for f in ['G', 'R', 'I', 'Z']] \\\n",
    "    +  [('OMAGERR_'+f, float) for f in ['G', 'R', 'I', 'Z']] \\\n",
    "    #+ [('AMAG_'+f, float) for f in ['G', 'R', 'I', 'Z']] \\\n",
    "    #+ [('LMAG_'+f, float) for f in ['G', 'R', 'I', 'Z']] \\\n",
    "    #+ [('TMAG_'+f, float) for f in ['G', 'R', 'I', 'Z']]\n",
    "    \n",
    "    buz_sdss_df = np.zeros((buz_sdss.size,), dtype=dtype)\n",
    "    \n",
    "    for i, f in enumerate(['G', 'R', 'I','Z']):\n",
    "        buz_sdss_df['OMAG_'+f] = buz_sdss['OMAG'][:,i+1]\n",
    "        buz_sdss_df['OMAGERR_'+f] = buz_sdss['OMAGERR'][:,i+1]\n",
    "        #buz_sdss_df['AMAG_'+f] = buz_sdss['AMAG'][:,i+1]\n",
    "        #buz_sdss_df['LMAG_'+f] = buz_sdss['LMAG'][:,i+1]\n",
    "        #buz_sdss_df['TMAG_'+f] = buz_sdss['TMAG'][:,i+1]\n",
    "    \n",
    "    #fitsio.write(path+'Buzzard_v1.1_stripe82_mag.unfold.60.fit', buz_sdss_df)\n",
    "    return buz_sdss_df"
   ]
  },
  {
   "cell_type": "code",
   "execution_count": 26,
   "metadata": {
    "collapsed": false
   },
   "outputs": [
    {
     "name": "stdout",
     "output_type": "stream",
     "text": [
      "24\n",
      "84\n",
      "112\n",
      "144\n",
      "176\n"
     ]
    }
   ],
   "source": [
    "# 24  40  60  84 112 144 176 208\n",
    "catnum = [24, 84, 112, 144, 176]\n",
    "path = '/n/des/lee.5922/data/buzzard/'\n",
    "for c in catnum:\n",
    "    print c\n",
    "    buz_sdss = fitsio.read(path+'Buzzard_v1.1_stripe82_mag.'+str(c)+'.fit') \n",
    "    buz_sdss = unfold_buz(buz_sdss)\n",
    "    fitsio.write(path+'Buzzard_v1.1_stripe82_mag.unfold.'+str(c)+'.fit', buz_sdss)"
   ]
  },
  {
   "cell_type": "code",
   "execution_count": null,
   "metadata": {
    "collapsed": true
   },
   "outputs": [],
   "source": []
  },
  {
   "cell_type": "code",
   "execution_count": null,
   "metadata": {
    "collapsed": true
   },
   "outputs": [],
   "source": [
    "# calling map \n",
    "GoldMask = callingEliGoldMask()\n"
   ]
  },
  {
   "cell_type": "markdown",
   "metadata": {},
   "source": [
    "Calling buzzard des and sdss catalogs."
   ]
  },
  {
   "cell_type": "code",
   "execution_count": null,
   "metadata": {
    "collapsed": true
   },
   "outputs": [],
   "source": [
    "path = '/n/des/lee.5922/data/buzzard/'\n",
    "buz = np.hstack([fitsio.read(path+'Buzzard_v1.1_Y1A1.40.fit'), fitsio.read(path+'Buzzard_v1.1_Y1A1.60.fit')])\n",
    "buz_sdss = np.hstack([fitsio.read(path+'Buzzard_v1.1_stripe82_mag.unfold.40.fit'), \\\n",
    "                      fitsio.read(path+'Buzzard_v1.1_stripe82_mag.unfold.60.fit')]) # buzzard sdss side photometry\n",
    "merged_buz = mergeCatalogsUsingPandas(des=buz, gold=buz_sdss, how = 'outer', key=None, suffixes = ['',''],\\\n",
    "                                      left_index=True, right_index=True)\n",
    "merged_buz = priorCut_buz(merged_buz)"
   ]
  },
  {
   "cell_type": "code",
   "execution_count": null,
   "metadata": {
    "collapsed": false
   },
   "outputs": [],
   "source": [
    "merged_buz = Cuts.keepGoodRegion(merged_buz)"
   ]
  },
  {
   "cell_type": "code",
   "execution_count": null,
   "metadata": {
    "collapsed": false
   },
   "outputs": [],
   "source": [
    "A = getHPArea(cat=merged_buz, nside=4096)\n",
    "print merged_buz.size /A, merged_buz.size"
   ]
  },
  {
   "cell_type": "markdown",
   "metadata": {},
   "source": [
    "Make Fake CMASS sample"
   ]
  },
  {
   "cell_type": "code",
   "execution_count": null,
   "metadata": {
    "collapsed": false
   },
   "outputs": [],
   "source": [
    "dperp = ( merged_buz['OMAG_R'] - merged_buz['OMAG_I'] ) - ( merged_buz['OMAG_G'] - merged_buz['OMAG_R'])/8.0\n",
    "fakemask =(\n",
    "            ( merged_buz['OMAG_I'] < 19.86 + 1.6 * (dperp - 0.8)) &\n",
    "            #( merged_buz['OMAG_I'] > 17.5 ) & ( merged_buz['OMAG_I'] < 20.0 ) &\n",
    "            ( merged_buz['TMAG_I'] > 17.5 ) & ( merged_buz['TMAG_I'] < 20.0 ) &\n",
    "            ( merged_buz['OMAG_R'] - merged_buz['OMAG_I'] < 2.0 ) &\n",
    "            #( merged_buz['OMAG_R'] - merged_buz['OMAG_I'] > 0.0 ) &\n",
    "            ( dperp > 0.55 )\n",
    "            )\n",
    "fakecmass = merged_buz[fakemask]"
   ]
  },
  {
   "cell_type": "markdown",
   "metadata": {},
   "source": [
    "Fit data with XD"
   ]
  },
  {
   "cell_type": "code",
   "execution_count": null,
   "metadata": {
    "collapsed": false
   },
   "outputs": [],
   "source": [
    "# Divide sample into train and test\n",
    "(trainInd, testInd), _ = split_samples(merged_buz, merged_buz, [0.2,0.8], random_state=0)\n",
    "des_train = merged_buz[trainInd]\n",
    "des_test = merged_buz[testInd]\n",
    "\n",
    "m1, m2 = esutil.numpy_util.match(fakecmass['ID'], des_train['ID'])\n",
    "cmass_mask = np.zeros(des_train.size, dtype=bool)\n",
    "cmass_mask[m2] = 1\n",
    "fakecmass_train, nocmass_train = des_train[cmass_mask], des_train[~cmass_mask]"
   ]
  },
  {
   "cell_type": "code",
   "execution_count": null,
   "metadata": {
    "collapsed": false
   },
   "outputs": [],
   "source": [
    "des_train.size, fakecmass.size, fakecmass_train.size"
   ]
  },
  {
   "cell_type": "code",
   "execution_count": null,
   "metadata": {
    "collapsed": false
   },
   "outputs": [],
   "source": [
    "#rm pickle/buz_XD_cmass_tor_noricut6.pkl"
   ]
  },
  {
   "cell_type": "code",
   "execution_count": null,
   "metadata": {
    "collapsed": false
   },
   "outputs": [],
   "source": [
    "# Fitting\n",
    "pickleFileName = 'pickle/buz_XD_cmass_tor_noricut6.pkl'\n",
    "clf_cmass = XD_fitting2( fakecmass_train, pickleFileName = pickleFileName, \\\n",
    "                  #init_params= 'pickle/buz_XD_cmass_tor_noricut6.pkl',\\\n",
    "                        suffix = '_cmass', n_cl = 10 )"
   ]
  },
  {
   "cell_type": "code",
   "execution_count": null,
   "metadata": {
    "collapsed": false
   },
   "outputs": [],
   "source": [
    "pickleFileName = 'pickle/buz_XD_no_tor_noricut6.pkl'\n",
    "rows = np.random.choice(nocmass_train.size, size=int(nocmass_train.size/10.))                    \n",
    "clf_no = XD_fitting2( nocmass_train, pickleFileName = pickleFileName, \\\n",
    "                  init_params= 'pickle/buz_XD_no_tor_noricut5.pkl', \\\n",
    "                     suffix = '_no', n_cl = 25 )"
   ]
  },
  {
   "cell_type": "markdown",
   "metadata": {},
   "source": [
    "Assign Fake cmass memb prob to test sample"
   ]
  },
  {
   "cell_type": "code",
   "execution_count": null,
   "metadata": {
    "collapsed": false
   },
   "outputs": [],
   "source": [
    "cmass_fraction = fakecmass_train.size * 1./des_train.size\n",
    "print 'cmass_fraction', cmass_fraction\n",
    "from xd import assignCMASSProb\n",
    "des_test = assignCMASSProb( des_test, clf_cmass, clf_no, cmass_fraction = cmass_fraction )\n",
    "#buz_test = assignCMASSProb( buz_test, clf_cmass, clf_no, cmass_fraction = cmass_fraction )"
   ]
  },
  {
   "cell_type": "markdown",
   "metadata": {},
   "source": [
    "###### Check model probability"
   ]
  },
  {
   "cell_type": "code",
   "execution_count": null,
   "metadata": {
    "collapsed": false
   },
   "outputs": [],
   "source": [
    "probability_calibration( des = des_test, cmass_des = fakecmass, matchID= 'ID', prefix = 'test' )"
   ]
  },
  {
   "cell_type": "markdown",
   "metadata": {},
   "source": [
    "###### Make DMASS by resampling"
   ]
  },
  {
   "cell_type": "code",
   "execution_count": null,
   "metadata": {
    "collapsed": false
   },
   "outputs": [],
   "source": [
    "dmass_buz, _ = resampleWithPth( des_test, pstart = 0, pmax = 1.0 )"
   ]
  },
  {
   "cell_type": "markdown",
   "metadata": {},
   "source": [
    "#### Comparison of error-convolved model and observed data"
   ]
  },
  {
   "cell_type": "code",
   "execution_count": null,
   "metadata": {
    "collapsed": false
   },
   "outputs": [],
   "source": [
    "cmass_model = clf_cmass.sample(fakecmass_train.size)\n",
    "no_model = clf_no.sample(nocmass_train.size)\n",
    "\n",
    "X_train, Xcov_train = mixing_color_buz(des_train)\n",
    "X_test,_ = mixing_color_buz(des_test)\n",
    "\n",
    "noisy_cmass_model = add_errors_multiprocessing(cmass_model, X_train[cmass_mask], Xcov_train[cmass_mask])\n",
    "nosiy_no_model = add_errors_multiprocessing(no_model, X_train[~cmass_mask], Xcov_train[~cmass_mask])"
   ]
  },
  {
   "cell_type": "code",
   "execution_count": null,
   "metadata": {
    "collapsed": false,
    "scrolled": false
   },
   "outputs": [],
   "source": [
    "# Plotting all\n",
    "labels = ['MAG_R', 'MAG_I', 'g-r', 'r-i', 'i-z']\n",
    "ranges =  [[17,22.5], [17,22.5], [.0,2.5], [-.5,1.5], [0.0,.8]]\n",
    "doVisualization_1d_NperA( noisy_cmass_model, X_train[cmass_mask], area=[1,1], labels = labels, ranges = ranges,\\\n",
    "                         name =['model','obs' ], nbins=100, prefix='buz_model_cmass_')\n",
    "doVisualization_1d_NperA( nosiy_no_model, X_train[~cmass_mask], area=[1,1], labels = labels, ranges = ranges,\\\n",
    "                         name =['model','obs' ], nbins=100, prefix='buz_model_no_')"
   ]
  },
  {
   "cell_type": "markdown",
   "metadata": {},
   "source": [
    "#### Comparison with train and test observational data"
   ]
  },
  {
   "cell_type": "code",
   "execution_count": null,
   "metadata": {
    "collapsed": false
   },
   "outputs": [],
   "source": [
    "# Plotting all\n",
    "labels = ['MAG_R', 'MAG_I', 'g-r', 'r-i', 'i-z']\n",
    "ranges =  [[17,22.5], [17,22.5], [-0.5,2], [-.5,1.5], [0.0,.8]]\n",
    "#X_buz,_ = mixing_color_buz(buz_test)\n",
    "rows = np.random.choice(nocmass_train.size, size=int(nocmass_train.size/2.)) \n",
    "doVisualization_1d_NperA( X_train[rows,:], X_test, area=[1,8], labels = labels, ranges = ranges,\\\n",
    "                         name =['train','test' ], nbins=100, prefix='buz_all_')"
   ]
  },
  {
   "cell_type": "code",
   "execution_count": null,
   "metadata": {
    "collapsed": false
   },
   "outputs": [],
   "source": [
    "# Plotting dmass\n",
    "X_cmass,_ = mixing_color_buz(fakecmass_train)\n",
    "X_dmass,_ = mixing_color_buz(dmass_buz)\n",
    "labels = ['MAG_R', 'MAG_I', 'g-r', 'r-i', 'i-z']\n",
    "ranges =  [[17,22.5], [17,22.5], [0,2], [-.5,1.5], [0.0,.8]]\n",
    "doVisualization_1d_NperA( X_cmass, X_dmass, area=[2,8], labels = labels, ranges = ranges,\\\n",
    "                         name =['cmass','dmass' ], nbins=100, prefix='buz_dmass_')"
   ]
  },
  {
   "cell_type": "markdown",
   "metadata": {},
   "source": [
    "#### bias and number density of DMASS"
   ]
  },
  {
   "cell_type": "code",
   "execution_count": null,
   "metadata": {
    "collapsed": true
   },
   "outputs": [],
   "source": [
    "def getavgbias( cat, pstart=0.0 ):\n",
    "    from systematics_module.contCorrection import logL_from_mag,logL_to_galaxyBias\n",
    "    mag = cat['MAG_I']\n",
    "    z = cat['PHOTOZ_GAUSSIAN']\n",
    "    logL = logL_from_mag( mag = mag, z = z )\n",
    "    avg_b = logL_to_galaxyBias(logL = logL)\n",
    "    print 'avg bias=',avg_b, ' sample size=', mag.size\n",
    "    return avg_b"
   ]
  },
  {
   "cell_type": "code",
   "execution_count": null,
   "metadata": {
    "collapsed": false
   },
   "outputs": [],
   "source": [
    "avg_b_cmass = getavgbias( fakecmass_train )\n",
    "avg_b_dmass = getavgbias( dmass_buz )\n",
    "print 'num_density', fakecmass_train.size * 4 *1./dmass_buz.size * 100 , '%' \n",
    "print 'bias ratio', avg_b_cmass /avg_b_dmass * 100, '%'"
   ]
  },
  {
   "cell_type": "markdown",
   "metadata": {},
   "source": [
    "----"
   ]
  },
  {
   "cell_type": "markdown",
   "metadata": {},
   "source": [
    "### Testing Same region with DES SPT"
   ]
  },
  {
   "cell_type": "markdown",
   "metadata": {},
   "source": [
    "Find heapix index for given range"
   ]
  },
  {
   "cell_type": "code",
   "execution_count": null,
   "metadata": {
    "collapsed": true
   },
   "outputs": [],
   "source": [
    "# testing for same area of des_gold \n",
    "def getHealInd_buz(ra, ra2, dec, dec2):\n",
    "    #ra = np.linspace(0, 50, 2000)\n",
    "    #dec = np.random.choice(np.linspace(-52, -50, 10), size = 2000)\n",
    "    ra = np.linspace(ra, ra2, 2000)\n",
    "    dec = np.random.choice(np.linspace(dec, dec2, 10), size = 2000)\n",
    "    #Buzzard rotational matrix\n",
    "    rmat = np.array([ 0.382192, 0.054546, 0.922472,\\\n",
    "                     -0.924079, 0.025571, 0.381346,\\\n",
    "                     -0.002787, -0.998184, 0.060177 ]).reshape(3,3)\n",
    "    vec  = hp.ang2vec(-(dec - 90.) * np.pi / 180., ra * np.pi / 180.)\n",
    "    rvec = np.dot(np.linalg.inv(rmat), vec.T)\n",
    "    pix  = set(hp.vec2pix(8, *rvec, nest=False))\n",
    "    print 'Healpix ind ', np.sort(list(pix))\n",
    "    return np.sort(list(pix))"
   ]
  },
  {
   "cell_type": "code",
   "execution_count": null,
   "metadata": {
    "collapsed": false
   },
   "outputs": [],
   "source": [
    "#ra, ra2, dec, dec2 = [0, 50, -52, -50]\n",
    "ra, ra2, dec, dec2 = [320, 360, -1, 1]\n",
    "pix3 = getHealInd_buz(ra, ra2, dec, dec2)"
   ]
  },
  {
   "cell_type": "code",
   "execution_count": null,
   "metadata": {
    "collapsed": false
   },
   "outputs": [],
   "source": [
    "# testing for other regions (same with des spt)\n",
    "path = '/n/des/lee.5922/data/buzzard/'\n",
    "buz_test_list = []\n",
    "for p in pix:\n",
    "    cat = priorCut_buz(fitsio.read(path+'Buzzard_v1.1_Y1A1.'+str(p)+'.fit'))\n",
    "    cat = Cuts._keepGoodRegion(cat)\n",
    "    print 'Buzzard_v1.1_Y1A1.'+str(p)+'.fit'\n",
    "    #cat = assignCMASSProb( cat, clf_cmass, clf_no, cmass_fraction = cmass_fraction ) \n",
    "    buz_test_list.append(cat)\n",
    "    cat = None"
   ]
  },
  {
   "cell_type": "code",
   "execution_count": null,
   "metadata": {
    "collapsed": false
   },
   "outputs": [],
   "source": [
    "train_area = getHPArea(pix = 40) + getHPArea(pix = 60)\n",
    "nd =  merged_buz.size/train_area\n",
    "\n",
    "nd_ratio = []\n",
    "for i, d in enumerate(buz_test_list):\n",
    "    test_area = getHPArea(pix = pix[i]) #* 1/5    \n",
    "    nd_ratio.append(d.size /test_area /nd)"
   ]
  },
  {
   "cell_type": "code",
   "execution_count": null,
   "metadata": {
    "collapsed": true
   },
   "outputs": [],
   "source": [
    "# histograms\n",
    "dmass_buz_list = []\n",
    "for i, p in enumerate(pix):\n",
    "    dmass_buz , _ = resampleWithPth( buz_test_list[i], pstart = 0, pmax = 1.0 )\n",
    "    dmass_buz_list.append(dmass_buz)"
   ]
  },
  {
   "cell_type": "code",
   "execution_count": null,
   "metadata": {
    "collapsed": false,
    "scrolled": false
   },
   "outputs": [],
   "source": [
    "train_area = (getHPArea(pix = 40) + getHPArea(pix = 60))/5\n",
    "#for i in range(len(dmass_buz_list)):\n",
    "for i, p in enumerate(pix):\n",
    "    X_buz_dmass, _ = mixing_color_buz(dmass_buz_list[i])\n",
    "    X_cmass, _ = mixing_color_buz(fakecmass_train)\n",
    "    X_train,_ = mixing_color_buz(des_train)\n",
    "    X_test,_ = mixing_color_buz(buz_test_list[i])\n",
    "    labels = ['MAG_R', 'MAG_I', 'g-r', 'r-i', 'i-z']\n",
    "    ranges =  [[17,22.5], [17,22.5], [0,2], [-.5,1.5], [0.0,.8]]\n",
    "    #test_area = getHPArea(cat=buz_test[i], nside=512)\n",
    "    test_area = getHPArea(pix = pix[i])\n",
    "    #doVisualization_1d_NperA( X_cmass, X_buz_dmass, area=[train_area ,test_area], labels = labels, ranges = ranges,\\\n",
    "    #                         name =['cmass','dmass'], nbins=100, prefix='buz_dmass_pix'+str(p)+'_')\n",
    "    #doVisualization_1d_NperA( X_train, X_test, area=[train_area,test_area], labels = labels, ranges = ranges,\\\n",
    "    #                         name =['train','test' ], nbins=100, prefix='buz_all_pix'+str(p)+'_')\n",
    "    doVisualization_1d( X_cmass, X_buz_dmass, labels = labels, ranges = ranges,\\\n",
    "                             name =['cmass','dmass'], nbins=100, prefix='buz_dmass_pix'+str(p)+'_')\n",
    "    doVisualization_1d( X_train, X_test, labels = labels, ranges = ranges,\\\n",
    "                             name =['train','test' ], nbins=100, prefix='buz_all_pix'+str(p)+'_')"
   ]
  },
  {
   "cell_type": "code",
   "execution_count": null,
   "metadata": {
    "collapsed": false,
    "scrolled": false
   },
   "outputs": [],
   "source": [
    "# bias\n",
    "\n",
    "train_area = getHPArea(pix = 40) + getHPArea(pix = 60)\n",
    "num_density = fakecmass.size/train_area\n",
    "print 'num density', num_density\n",
    "print 'area', test_area\n",
    "avg_b_cmass = getavgbias( fakecmass )\n",
    "print '-----------------------------'\n",
    "\n",
    "nd_ratio_cmass = []\n",
    "bias_ratio = []\n",
    "for i,p in enumerate(pix):\n",
    "    test_area = getHPArea(pix = p)\n",
    "    num_d = dmass_buz_list[i].size/test_area\n",
    "    print p, 'num density', num_d, num_d/num_density * 100, '%'\n",
    "    nd_ratio_cmass.append(num_d/num_density)\n",
    "    print 'area', test_area\n",
    "    avg_b_dmass = getavgbias( dmass_buz_list[i] )\n",
    "    print '-----------------------------'\n",
    "    bias_ratio.append(avg_b_dmass/avg_b_cmass)"
   ]
  },
  {
   "cell_type": "code",
   "execution_count": null,
   "metadata": {
    "collapsed": false
   },
   "outputs": [],
   "source": [
    "def grmask(cat):\n",
    "    gr_mask = (((cat['MAG_G'] - cat['MAG_R']) > 1.3 ) &\n",
    "               ((cat['MAG_G'] - cat['MAG_R']) < 1.8 ))\n",
    "    #cat = cat[gr_mask]\n",
    "    return gr_mask"
   ]
  },
  {
   "cell_type": "code",
   "execution_count": null,
   "metadata": {
    "collapsed": false
   },
   "outputs": [],
   "source": [
    "gr_train = np.sum(grmask(merged_buz))\n",
    "test_area = getHPArea(pix = 40) + getHPArea(pix = 60)\n",
    "n_gr_train = gr_train/test_area\n",
    "\n",
    "nd_gr = []\n",
    "for i, d in enumerate(buz_test_list):\n",
    "    a = getHPArea(pix = pix[i])\n",
    "    mask = grmask(d)\n",
    "    nd = np.sum(mask)/a * 1./n_gr_train\n",
    "    nd_gr.append(nd)"
   ]
  },
  {
   "cell_type": "code",
   "execution_count": null,
   "metadata": {
    "collapsed": false
   },
   "outputs": [],
   "source": [
    "avg_buz_test = np.hstack(buz_test_list)\n",
    "avg_dmass_buz = np.hstack(dmass_buz_list)\n",
    "#dmass_buz , _ = resampleWithPth( avg_buz_test, pstart = 0, pmax = 1.0 )\n",
    "test_area = np.sum([getHPArea(pix = p) for p in pix])\n",
    "num_dmass = avg_dmass_buz.size/test_area /num_density\n",
    "avg_b_dmass = getavgbias( avg_dmass_buz ) /avg_b_cmass\n",
    "nd_test =  avg_buz_test.size/test_area /nd\n",
    "print num_dmass, avg_b_dmass"
   ]
  },
  {
   "cell_type": "code",
   "execution_count": null,
   "metadata": {
    "collapsed": false
   },
   "outputs": [],
   "source": [
    "fig, ax = plt.subplots(figsize = (10, 8))\n",
    "ax.plot(range(len(pix)),nd_ratio, '-o', label = 'number density' )\n",
    "ax.plot(range(len(pix)),nd_gr, '-o', label = 'gr number density 1.3-1.8' )\n",
    "ax.plot(range(len(pix)), nd_ratio_cmass, '-^', label='dmass number density')\n",
    "ax.axhline(y = num_dmass, linestyle='--', color=ax.lines[-1].get_color())\n",
    "ax.plot(range(len(pix)), bias_ratio, '-*', label = 'bias')\n",
    "ax.axhline(y = avg_b_dmass, linestyle='--', color=ax.lines[-1].get_color())\n",
    "ax.axhline(y = 1.0, linestyle='--', color = 'grey')\n",
    "ax.set_ylim(0.8, 1.20)\n",
    "ax.set_xlabel('pixel  ' + str(pix))\n",
    "ax.set_ylabel('number density ratio & bias')\n",
    "ax.legend(loc='best')"
   ]
  },
  {
   "cell_type": "code",
   "execution_count": null,
   "metadata": {
    "collapsed": false
   },
   "outputs": [],
   "source": [
    "spatialcheck(buz_test_list, label=pix, suffix = 'buz_test')"
   ]
  },
  {
   "cell_type": "markdown",
   "metadata": {},
   "source": [
    "#### Testing Region 3"
   ]
  },
  {
   "cell_type": "code",
   "execution_count": null,
   "metadata": {
    "collapsed": false
   },
   "outputs": [],
   "source": [
    "pix3"
   ]
  },
  {
   "cell_type": "code",
   "execution_count": null,
   "metadata": {
    "collapsed": false,
    "scrolled": false
   },
   "outputs": [],
   "source": [
    "# testing for other regions \n",
    "path = '/n/des/lee.5922/data/buzzard/'\n",
    "buz_test_list2 = []\n",
    "pix2 = [40, 60, 24, 84, 112, 144]# + [90, 91]\n",
    "for p in pix2:\n",
    "    cat = priorCut_buz(fitsio.read(path+'Buzzard_v1.1_Y1A1.'+str(p)+'.fit'))\n",
    "    cat = Cuts.keepGoodRegion(cat)\n",
    "    cat = assignCMASSProb( cat, clf_cmass, clf_no, cmass_fraction = cmass_fraction ) \n",
    "    buz_test_list2.append(cat)\n",
    "    cat = None"
   ]
  },
  {
   "cell_type": "code",
   "execution_count": null,
   "metadata": {
    "collapsed": false
   },
   "outputs": [],
   "source": [
    "train_area = getHPArea(pix = 40) + getHPArea(pix = 60)\n",
    "nd =  merged_buz.size/train_area\n",
    "\n",
    "nd_ratio2 = []\n",
    "for i, d in enumerate(buz_test_list2):\n",
    "    test_area = getHPArea(pix = pix2[i]) #* 1/5    \n",
    "    nd_ratio2.append(d.size /test_area /nd)"
   ]
  },
  {
   "cell_type": "code",
   "execution_count": null,
   "metadata": {
    "collapsed": false
   },
   "outputs": [],
   "source": [
    "# histograms\n",
    "dmass_buz_list2 = []\n",
    "for i, p in enumerate(pix2):\n",
    "    dmass_buz , _ = resampleWithPth( buz_test_list2[i], pstart = 0, pmax = 1.0 )\n",
    "    dmass_buz_list2.append(dmass_buz)"
   ]
  },
  {
   "cell_type": "code",
   "execution_count": null,
   "metadata": {
    "collapsed": false
   },
   "outputs": [],
   "source": [
    "# histograms\n",
    "train_area = getHPArea(pix = 40) + getHPArea(pix = 60)\n",
    "for i, p in enumerate(pix2):\n",
    "    \n",
    "    #dmass_buz , _ = resampleWithPth( buz_test_list2[i], pstart = 0, pmax = 1.0 )\n",
    "    X_buz_dmass, _ = mixing_color_buz(dmass_buz_list2[i])\n",
    "    X_cmass, _ = mixing_color_buz(fakecmass_train)\n",
    "    X_train,_ = mixing_color_buz(merged_buz)\n",
    "    X_test,_ = mixing_color_buz(buz_test_list2[i])\n",
    "    labels = ['MAG_R', 'MAG_I', 'g-r', 'r-i', 'i-z']\n",
    "    ranges =  [[17,22.5], [17,22.5], [0,2], [-.5,1.5], [0.0,.8]]\n",
    "    test_area = getHPArea(pix = p)\n",
    "    doVisualization_1d_NperA( X_cmass, X_buz_dmass, area=[train_area,test_area], labels = labels, ranges = ranges,\\\n",
    "                             name =['cmass','dmass'], nbins=100, prefix='buz_dmass_pix'+p+'_')\n",
    "    doVisualization_1d_NperA( X_train, X_test, area=[train_area,test_area], labels = labels, ranges = ranges,\\\n",
    "                             name =['train','test' ], nbins=100, prefix='buz_all_pix'+p+'_')"
   ]
  },
  {
   "cell_type": "code",
   "execution_count": null,
   "metadata": {
    "collapsed": false,
    "scrolled": false
   },
   "outputs": [],
   "source": [
    "# bias\n",
    "\n",
    "train_area = getHPArea(pix = 40) + getHPArea(pix = 60)\n",
    "num_density = fakecmass.size/train_area\n",
    "print 'num density', num_density\n",
    "print 'area', train_area\n",
    "avg_b_cmass = getavgbias( fakecmass )\n",
    "print '-----------------------------'\n",
    "\n",
    "nd_ratio_cmass2 = []\n",
    "bias_ratio2 = []\n",
    "for i,p in enumerate(pix2):\n",
    "    test_area = getHPArea(pix = p)\n",
    "    num_d = dmass_buz_list2[i].size/test_area\n",
    "    print p, 'num density', num_d, num_d/num_density * 100, '%'\n",
    "    nd_ratio_cmass2.append(num_d/num_density)\n",
    "    print 'area', test_area\n",
    "    avg_b_dmass = getavgbias( dmass_buz_list2[i] )\n",
    "    print '-----------------------------'\n",
    "    bias_ratio2.append(avg_b_dmass/avg_b_cmass)"
   ]
  },
  {
   "cell_type": "code",
   "execution_count": null,
   "metadata": {
    "collapsed": false
   },
   "outputs": [],
   "source": [
    "gr_train = np.sum(grmask(merged_buz))\n",
    "train_area = getHPArea(pix = 40) + getHPArea(pix = 60)\n",
    "n_gr_train = gr_train/train_area\n",
    "\n",
    "nd_gr2 = []\n",
    "for i, d in enumerate(buz_test_list2):\n",
    "    a = getHPArea(pix = pix2[i])\n",
    "    mask = grmask(d)\n",
    "    nd = np.sum(mask)/a * 1./n_gr_train\n",
    "    nd_gr2.append(nd)"
   ]
  },
  {
   "cell_type": "code",
   "execution_count": null,
   "metadata": {
    "collapsed": false
   },
   "outputs": [],
   "source": [
    "avg_buz_test2 = np.hstack(buz_test_list2)\n",
    "avg_dmass_buz2 = np.hstack(dmass_buz_list2)\n",
    "#dmass_buz , _ = resampleWithPth( avg_buz_test, pstart = 0, pmax = 1.0 )\n",
    "test_area = np.sum([getHPArea(pix = p) for p in pix2])\n",
    "num_dmass = avg_dmass_buz2.size/test_area /num_density\n",
    "avg_b_dmass = getavgbias( avg_dmass_buz2 ) /avg_b_cmass\n",
    "nd_test =  avg_buz_test2.size/test_area /nd\n",
    "print avg_b_dmass, nd_test"
   ]
  },
  {
   "cell_type": "code",
   "execution_count": null,
   "metadata": {
    "collapsed": false
   },
   "outputs": [],
   "source": [
    "fig, ax = plt.subplots(figsize = (10, 8))\n",
    "ax.plot(range(len(pix2)), nd_ratio2, '-o', label = 'number density' )\n",
    "ax.plot(range(len(pix2)), nd_gr2, '-o', label = 'gr number density 1.3-1.8' )\n",
    "ax.plot(range(len(pix2)), nd_ratio_cmass2, '-^', label='dmass number density')\n",
    "ax.axhline(y = num_dmass, linestyle='--', color=ax.lines[-1].get_color())\n",
    "ax.plot(range(len(pix2)), bias_ratio2, '-*', label = 'bias')\n",
    "ax.axhline(y = avg_b_dmass, linestyle='--', color=ax.lines[-1].get_color())\n",
    "ax.axhline(y = 1.0, linestyle='--', color = 'grey')\n",
    "ax.set_ylim(0.8, 1.20)\n",
    "ax.set_xlabel('pixel  ' + str(pix2))\n",
    "ax.set_ylabel('number density ratio & bias')\n",
    "ax.legend(loc='best')"
   ]
  },
  {
   "cell_type": "code",
   "execution_count": null,
   "metadata": {
    "collapsed": false,
    "scrolled": false
   },
   "outputs": [],
   "source": [
    "spatialcheck(buz_test_list2, label=pix2, suffix = 'buz_test2')"
   ]
  },
  {
   "cell_type": "code",
   "execution_count": 20,
   "metadata": {
    "collapsed": true
   },
   "outputs": [],
   "source": [
    "# testing for other regions \n",
    "import esutil\n",
    "\n",
    "path = '/n/des/lee.5922/data/buzzard/'\n",
    "buz_test_list2 = []\n",
    "pix2 = [40, 60, 24, 84, 112, 144] # + [90, 91]                 \n",
    "\n",
    "names = []\n",
    "for p in pix2:\n",
    "    names.append(path+'Buzzard_v1.1_Y1A1.'+str(p)+'.fit')\n",
    "\n",
    "buz_test = esutil.io.read(names, combine=True)\n",
    "buz_test = priorCut_buz(buz_test)\n",
    "buz_test = Cuts.keepGoodRegion(buz_test)\n",
    "#avg_buz_test = assignCMASSProb( buz_test, clf_cmass, clf_no, cmass_fraction = cmass_fraction ) \n",
    "#    buz_test_list2.append(cat)\n",
    "#    cat = None"
   ]
  },
  {
   "cell_type": "code",
   "execution_count": null,
   "metadata": {
    "collapsed": false
   },
   "outputs": [],
   "source": []
  },
  {
   "cell_type": "code",
   "execution_count": null,
   "metadata": {
    "collapsed": false
   },
   "outputs": [],
   "source": [
    "avg_buz_test.size, avg_dmass_buz.size"
   ]
  },
  {
   "cell_type": "code",
   "execution_count": null,
   "metadata": {
    "collapsed": false
   },
   "outputs": [],
   "source": [
    "avg_buz_test = np.hstack(buz_test_list)\n",
    "avg_dmass_buz = np.hstack(dmass_buz_list)\n",
    "#dmass_buz , _ = resampleWithPth( avg_buz_test, pstart = 0, pmax = 1.0 )\n",
    "test_area = np.sum([getHPArea(pix = p) for p in pix])\n",
    "num_dmass = avg_dmass_buz.size/test_area\n",
    "avg_b_dmass = getavgbias( avg_dmass_buz )\n",
    "nd_test =  avg_buz_test.size/test_area\n",
    "print num_dmass/num_density, avg_b_dmass/avg_b_cmass, nd_test/nd"
   ]
  },
  {
   "cell_type": "code",
   "execution_count": null,
   "metadata": {
    "collapsed": false
   },
   "outputs": [],
   "source": [
    "dmass_buz , _ = resampleWithPth( avg_buz_test2, pstart = 0, pmax = 1.0 )\n",
    "test_area = np.sum([getHPArea(pix = p) for p in pix2])\n",
    "num_dmass = dmass_buz.size/test_area\n",
    "avg_b_dmass = getavgbias( dmass_buz )\n",
    "nd_test =  avg_buz_test2.size/test_area\n",
    "print num_dmass/num_density, avg_b_dmass/avg_b_cmass, nd_test/nd"
   ]
  },
  {
   "cell_type": "code",
   "execution_count": null,
   "metadata": {
    "collapsed": false
   },
   "outputs": [],
   "source": [
    "train_area = getHPArea(pix = 40) + getHPArea(pix = 60)\n",
    "nd =  merged_buz.size/train_area\n",
    "print nd"
   ]
  },
  {
   "cell_type": "markdown",
   "metadata": {},
   "source": [
    "#### Compare Underlying distribution in train and another area"
   ]
  },
  {
   "cell_type": "code",
   "execution_count": null,
   "metadata": {
    "collapsed": true
   },
   "outputs": [],
   "source": [
    "buz_test = fitsio.read(path+'Buzzard_v1.1_Y1A1.60.fit') # test sample\n",
    "buz_test = priorCut_buz(buz_test)\n",
    "#buz_test = fitsio.read(path+'Buzzard_v1.1_Y1A1.7.fit')"
   ]
  },
  {
   "cell_type": "code",
   "execution_count": null,
   "metadata": {
    "collapsed": false
   },
   "outputs": [],
   "source": [
    "# add map area\n",
    "spatialcheck([des_train,buz_test], label=['train', 'buz pix60'])"
   ]
  },
  {
   "cell_type": "code",
   "execution_count": null,
   "metadata": {
    "collapsed": false
   },
   "outputs": [],
   "source": [
    "spatialcheck(buz_test_list2 + [des_train], label=pix2 + ['des_train'], suffix = 'test')"
   ]
  },
  {
   "cell_type": "code",
   "execution_count": null,
   "metadata": {
    "collapsed": false
   },
   "outputs": [],
   "source": [
    "# train\n",
    "pickleFileName = 'pickle/buz_XD_all.pkl'\n",
    "pickleFileName = 'pickle/buz_XD_no_tor.pkl'\n",
    "rows = np.random.choice(des_train.size, size=int(des_train.size /10.))                    \n",
    "clf1 = XD_fitting2( des_train[rows], pickleFileName = pickleFileName, \\\n",
    "                  init_params= 'pickle/buz_XD_no_tor.pkl', suffix = '_all', n_cl = 25 )\n",
    "# buzzard pix60\n",
    "pickleFileName = 'pickle/buz_XD_all2.pkl'\n",
    "rows = np.random.choice(buz_test.size, size=int(buz_test.size /10.))                    \n",
    "clf2 = XD_fitting2( buz_test[rows], pickleFileName = pickleFileName, \\\n",
    "                  init_params= 'pickle/buz_XD_all.pkl', suffix = '_all', n_cl = 25 )"
   ]
  },
  {
   "cell_type": "code",
   "execution_count": null,
   "metadata": {
    "collapsed": false
   },
   "outputs": [],
   "source": [
    "# make clean sample (w/o noise)\n",
    "clean_all1 = clf1.sample(des_train.size)\n",
    "clean_all2 = clf2.sample(des_train.size)"
   ]
  },
  {
   "cell_type": "code",
   "execution_count": null,
   "metadata": {
    "collapsed": false,
    "scrolled": true
   },
   "outputs": [],
   "source": [
    "# Plotting all\n",
    "labels = ['MAG_R', 'MAG_I', 'g-r', 'r-i', 'i-z']\n",
    "ranges =  [[17,22.5], [17,22.5], [0,2], [-.5,1.5], [0.0,.8]]\n",
    "doVisualization_1d_NperA( clean_all1, clean_all2, area=[1,1], labels = labels, ranges = ranges,\\\n",
    "                         name =['train','test' ], nbins=100, prefix='buz_underlying_')"
   ]
  },
  {
   "cell_type": "markdown",
   "metadata": {},
   "source": [
    "----"
   ]
  },
  {
   "cell_type": "markdown",
   "metadata": {},
   "source": [
    "##### Calling Gold mask and calculating map area"
   ]
  },
  {
   "cell_type": "code",
   "execution_count": null,
   "metadata": {
    "collapsed": false
   },
   "outputs": [],
   "source": [
    "# calling map \n",
    "GoldMask = Cuts.limitingDepth(callingEliGoldMask())\n",
    "GoldMask_st82 = Cuts.SpatialCuts(GoldMask, ra=320, ra2=360, dec=-2, dec2=2)\n",
    "GoldMask_spt = GoldMask[ GoldMask['DEC'] < -3.0 ]\n",
    "#GoldMask_spt = Cuts.SpatialCuts(GoldMask_spt, ra=0, ra2 = 50, dec=-52, dec2 = -50)\n",
    "\n",
    "pixarea = hp.nside2pixarea( 4096, degrees = True)\n",
    "sptnpix = GoldMask_spt['PIXEL'].size #hp.get_map_size( GoldMask_spt['PIXEL'] )\n",
    "st82npix =  GoldMask_st82['PIXEL'].size # hp.get_map_size( GoldMask_st82 )\n",
    "SPTMaparea = pixarea * sptnpix\n",
    "ST82Maparea = pixarea * st82npix"
   ]
  },
  {
   "cell_type": "markdown",
   "metadata": {},
   "source": [
    "##### DES + GOLD catalogs "
   ]
  },
  {
   "cell_type": "code",
   "execution_count": null,
   "metadata": {
    "collapsed": true
   },
   "outputs": [],
   "source": [
    "# calling gold + des catalog\n",
    "merged_des_st82 = fitsio.read('result_cat/merged_des_st82.fits') # in stripe82\n",
    "merged_des_patch = fitsio.read('result_cat/merged_des_patch.fits') # spt 0<ra<50, -52<dec<-50"
   ]
  },
  {
   "cell_type": "code",
   "execution_count": null,
   "metadata": {
    "collapsed": false
   },
   "outputs": [],
   "source": [
    "# prior Cut\n",
    "merged_des_st82_s, _ = priorCut( merged_des_st82 )\n",
    "merged_des_s, _ = priorCut( merged_des_patch )\n",
    "\n",
    "#check number density after prior Cut\n",
    "n_spt = merged_des_s.size * 1./SPTMaparea\n",
    "n_st82 = merged_des_st82_s.size * 1./ST82Maparea\n",
    "print 'number density (patch, st82) ', n_spt, n_st82"
   ]
  },
  {
   "cell_type": "markdown",
   "metadata": {},
   "source": [
    "##### CMASS in des catalog "
   ]
  },
  {
   "cell_type": "code",
   "execution_count": null,
   "metadata": {
    "collapsed": true
   },
   "outputs": [],
   "source": [
    "# calling cmass\n",
    "cmass = io.getSGCCMASSphotoObjcat()\n",
    "cmass = Cuts.keepGoodRegion(cmass)\n",
    "cmass = Cuts.SpatialCuts(cmass, ra=320, ra2=360, dec=-2, dec2=2)\n",
    "m1, m2, _ = esutil.htm.HTM(10).match(cmass['RA'], cmass['DEC'], merged_des_st82['RA'], merged_des_st82['DEC'], 1./3600, maxmatch=1)\n",
    "cmass_mask = np.zeros(merged_des_st82.size, dtype=bool)\n",
    "cmass_mask[m2] = 1\n",
    "clean_cmass_data_des, nocmass = merged_des_st82[cmass_mask], merged_des_st82[~cmass_mask]"
   ]
  },
  {
   "cell_type": "markdown",
   "metadata": {},
   "source": [
    "##### Assigning CMASS membership probability with XD algorithm "
   ]
  },
  {
   "cell_type": "code",
   "execution_count": null,
   "metadata": {
    "collapsed": true
   },
   "outputs": [],
   "source": [
    "# get cmass membership prob\n",
    "\n",
    "# divide sample into train and test\n",
    "(trainInd, testInd), _ = split_samples(merged_des_st82_s, merged_des_st82_s, [0.1,0.9], random_state=0)\n",
    "des_train = merged_des_st82_s[trainInd]\n",
    "#des_test = merged_des_st82_s[testInd]\n",
    "\n",
    "prefix = 'gold_st82_20_'\n",
    "result_gold_st82 = XDGMM_model(clean_cmass_data_des, clean_cmass_data_des, train=des_train, test=merged_des_st82_s, prefix = prefix )\n",
    "result_gold_patch = XDGMM_model(clean_cmass_data_des, clean_cmass_data_des, train=des_train, test=merged_des_patch, prefix = prefix, spt=True )"
   ]
  },
  {
   "cell_type": "markdown",
   "metadata": {},
   "source": [
    "## 1. g-r number density difference"
   ]
  },
  {
   "cell_type": "code",
   "execution_count": null,
   "metadata": {
    "collapsed": true
   },
   "outputs": [],
   "source": [
    "# calling all gold catalogue\n",
    "des_gold = io.getDESY1A1catalogs(keyword = 'Y1A1_GOLD_merged', gold=True)"
   ]
  },
  {
   "cell_type": "code",
   "execution_count": null,
   "metadata": {
    "collapsed": true
   },
   "outputs": [],
   "source": [
    "des_gold = des_gold[des_gold['MODEST_CLASS'] == 1]"
   ]
  },
  {
   "cell_type": "code",
   "execution_count": null,
   "metadata": {
    "collapsed": true
   },
   "outputs": [],
   "source": [
    "# reddening correction : \n",
    "mags = ['MAG_MODEL', 'MAG_DETMODEL', 'MAG_AUTO','MAG_APER_3', 'MAG_APER_4', 'MAG_APER_5', 'MAG_APER_6']\n",
    "des_gold = getCorrectedMag( des_gold, mags = mags, reddening = None )\n",
    "des_gold_s, _ = priorCut(des_gold)"
   ]
  },
  {
   "cell_type": "code",
   "execution_count": null,
   "metadata": {
    "collapsed": false
   },
   "outputs": [],
   "source": [
    "# reddening correction : \n",
    "#mags = ['MAG_APER_3', 'MAG_APER_4', 'MAG_APER_5', 'MAG_APER_6']\n",
    "#des_gold_s = getCorrectedMag( des_gold_s[0], mags = mags, reddening = None )"
   ]
  },
  {
   "cell_type": "code",
   "execution_count": null,
   "metadata": {
    "collapsed": true
   },
   "outputs": [],
   "source": [
    "des_gold = 0\n",
    "des_gold_s = Cuts.doBasicCuts(des_gold_s, raTag = 'RA', decTag='DEC', object = None)"
   ]
  },
  {
   "cell_type": "code",
   "execution_count": null,
   "metadata": {
    "collapsed": false
   },
   "outputs": [],
   "source": [
    "gr_mask = (((des_gold_s['MAG_DETMODEL_G_corrected'] - des_gold_s['MAG_DETMODEL_R_corrected']) > 1.3 ) &\n",
    "           ((des_gold_s['MAG_DETMODEL_G_corrected'] - des_gold_s['MAG_DETMODEL_R_corrected']) < 1.8 ))\n",
    "des_gold_s_gr = des_gold_s[gr_mask]\n",
    "print des_gold_s_gr.size"
   ]
  },
  {
   "cell_type": "code",
   "execution_count": null,
   "metadata": {
    "collapsed": true
   },
   "outputs": [],
   "source": [
    "ind = np.random.choice(des_gold_s_gr.size, size=des_gold_s_gr.size * 0.01)\n",
    "spatialcheck(des_gold_s_gr[ind])"
   ]
  },
  {
   "cell_type": "code",
   "execution_count": null,
   "metadata": {
    "collapsed": true
   },
   "outputs": [],
   "source": [
    "# Healpixify\n",
    "nside = 128\n",
    "hpInd = hpRaDecToHEALPixel(des_gold_s_gr['RA'], des_gold_s_gr['DEC'], nside=nside, nest= False)\n",
    "HmapPix = list(set(hpInd))\n",
    "Apix = hp.nside2pixarea( nside, degrees = True)"
   ]
  },
  {
   "cell_type": "code",
   "execution_count": null,
   "metadata": {
    "collapsed": false
   },
   "outputs": [],
   "source": [
    "import matplotlib.cm as cm\n",
    "\n",
    "num_density = np.zeros(des_gold_s_gr.size)\n",
    "for i, h in enumerate(HmapPix):\n",
    "    cat = des_gold_s_gr[ hpInd == h ]\n",
    "    num_density[ hpInd == h ] = cat.size*1./Apix"
   ]
  },
  {
   "cell_type": "code",
   "execution_count": null,
   "metadata": {
    "collapsed": false
   },
   "outputs": [],
   "source": [
    "ind = np.random.choice(des_gold_s_gr.size, size=des_gold_s_gr.size/20)\n",
    "catalog = des_gold_s_gr[ind]\n",
    "catalog_st82 = Cuts.SpatialCuts(des_gold_s_gr, ra=320, ra2=360, dec=-1, dec2=1)\n",
    "Nst82 = catalog_st82.size* 1./ST82Maparea\n",
    "\n",
    "var = np.abs(num_density - Nst82)/Nst82\n",
    "\n",
    "fig, ax = plt.subplots(1,1, figsize = (14,14))\n",
    "ra = catalog['RA']\n",
    "ra[catalog['RA'] > 180 ] = catalog['RA'][catalog['RA'] > 180 ] - 360\n",
    "cax = ax.scatter( ra, catalog['DEC'], c = var[ind], s = 5, edgecolor='', cmap='gist_heat')\n",
    "\n",
    "ra = catalog_st82['RA']\n",
    "ra[catalog_st82['RA'] > 180 ] = catalog_st82['RA'][catalog_st82['RA'] > 180 ] - 360\n",
    "cax2 = ax.scatter( ra, catalog_st82['DEC'], c = 'white', s = 5, edgecolor='')\n",
    "#cax2 = ax2.scatter( ra, catalog['DEC'], c = var[ind], s = 5, edgecolor='', cmap='seismic', vmin = None, vmax = None)\n",
    "fig.colorbar( cax, ax=ax, orientation = 'horizontal' )\n",
    "ax.set_xlabel('ra')\n",
    "ax.set_ylabel('dec')\n",
    "ax.set_title('num density var')\n",
    "figname = 'figure/num_density_gr.png'\n",
    "fig.savefig(figname)\n",
    "print 'fig save to ', figname\n",
    "#plt.close(fig)"
   ]
  },
  {
   "cell_type": "markdown",
   "metadata": {},
   "source": [
    "variation : (data - st82)/st82"
   ]
  },
  {
   "cell_type": "markdown",
   "metadata": {},
   "source": [
    "##### Magnitude limit test"
   ]
  },
  {
   "cell_type": "code",
   "execution_count": null,
   "metadata": {
    "collapsed": false,
    "scrolled": true
   },
   "outputs": [],
   "source": [
    "# calling data\n",
    "# need mag depth map\n",
    "# need mag limit map\n",
    "# cut mag in data\n",
    "# collect indices of survived healpix map in mag_depth map\n",
    "\n",
    "path = '/n/des/lee.5922/data/systematic_maps/'\n",
    "maglim_g = hp.read_map(path+'y1a1_gold_1.0.2_wide_auto_nside4096_g_10sigma.fits')\n",
    "maglim_r = hp.read_map(path+'y1a1_gold_1.0.2_wide_auto_nside4096_r_10sigma.fits')\n",
    "maglim_i = hp.read_map(path+'y1a1_gold_1.0.2_wide_auto_nside4096_i_10sigma.fits')\n",
    "maglim_z = hp.read_map(path+'y1a1_gold_1.0.2_wide_auto_nside4096_z_10sigma.fits')"
   ]
  },
  {
   "cell_type": "code",
   "execution_count": null,
   "metadata": {
    "collapsed": false
   },
   "outputs": [],
   "source": [
    "from utils import getLowerHPind\n",
    "bdmask = maglim_i > 0\n",
    "maglim_i_map = np.zeros(np.sum(bdmask), dtype=[('PIXEL', 'int'), ('SIGNAL', 'float'), ('RA', 'float'), ('DEC', 'float')])\n",
    "maglim_i_map['PIXEL'] = np.arange(maglim_i.size)[bdmask]\n",
    "maglim_i_map['SIGNAL'] = maglim_i[bdmask]\n",
    "ra, dec = hpHEALPixelToRaDec( maglim_i_map['PIXEL'], nside = 4096 )\n",
    "maglim_i_map['RA'] = ra\n",
    "maglim_i_map['DEC'] = dec\n",
    "maglim_i_map = Cuts._keepGoodRegion(maglim_i_map)\n",
    "ind8 = getLowerHPind(maglim_i_map, nside = 4096, nside2 = 8)"
   ]
  },
  {
   "cell_type": "code",
   "execution_count": null,
   "metadata": {
    "collapsed": false
   },
   "outputs": [],
   "source": [
    "maglim_i_map['SIGNAL'].max(), maglim_i_map['SIGNAL'].min()"
   ]
  },
  {
   "cell_type": "code",
   "execution_count": null,
   "metadata": {
    "collapsed": true
   },
   "outputs": [],
   "source": [
    "path = '/n/des/lee.5922/data/buzzard/'\n",
    "buz = np.hstack([fitsio.read(path+'Buzzard_v1.1_Y1A1.40.fit'),\\\n",
    "                 fitsio.read(path+'Buzzard_v1.1_Y1A1.60.fit')])\n",
    "buz_sdss = np.hstack([fitsio.read(path+'Buzzard_v1.1_stripe82_mag.unfold.40.fit'), \\\n",
    "                      fitsio.read(path+'Buzzard_v1.1_stripe82_mag.unfold.60.fit')]) # buzzard sdss side photometry\n",
    "merged_buz = mergeCatalogsUsingPandas(des=buz, gold=buz_sdss, how = 'outer', key=None, suffixes = ['',''],\\\n",
    "                                      left_index=True, right_index=True)\n",
    "merged_buz = priorCut_buz(merged_buz)"
   ]
  },
  {
   "cell_type": "code",
   "execution_count": null,
   "metadata": {
    "collapsed": false
   },
   "outputs": [],
   "source": [
    "merged_buz = Cuts._keepGoodRegion(merged_buz)"
   ]
  },
  {
   "cell_type": "code",
   "execution_count": null,
   "metadata": {
    "collapsed": false
   },
   "outputs": [],
   "source": [
    "def NvsMagLimit(cat, maglimmask):\n",
    "    import healpy as hp\n",
    "    limit = np.linspace(maglimmask['SIGNAL'].min(), maglimmask['SIGNAL'].max(), 20)\n",
    "    #GoldMask = callingEliGoldMask()\n",
    "    catHPind = hpRaDecToHEALPixel(cat['RA'], cat['DEC'], nside= 4096, nest= False)\n",
    "\n",
    "    #fig2, (ax2, ax3) = plt.subplots(1,2, figsize = (20, 7))   \n",
    "    #print 'limit_mag, Nobj, Area'\n",
    "    Nobj = []\n",
    "    for l in limit:\n",
    "        #ind_good = np.where(maglimmask > l)\n",
    "        mask = maglimmask['SIGNAL'] > l\n",
    "        keep = np.in1d(catHPind, maglimmask['PIXEL'][mask])\n",
    "        #A = len(set(catHPind[keep])) * hp.nside2pixarea( 4096, degrees = True)\n",
    "        A = np.sum(mask) * hp.nside2pixarea( 4096, degrees = True)\n",
    "        #print l, np.sum(keep), np.sum(mask)\n",
    "        Nobj.append(cat[keep].size *1./A)\n",
    "    \"\"\" \n",
    "        ax2.plot( l, np.sum(keep), 'r.')\n",
    "        ax3.plot( l, A, 'b.')\n",
    "    ax2.set_xlabel('limit mag i')\n",
    "    ax2.set_ylabel('num of obj')\n",
    "    ax3.set_ylabel('area')\n",
    "    ax3.set_xlabel('limit mag i')\n",
    "    \"\"\"\n",
    "    return limit, Nobj"
   ]
  },
  {
   "cell_type": "code",
   "execution_count": null,
   "metadata": {
    "collapsed": false,
    "scrolled": false
   },
   "outputs": [],
   "source": [
    "N_patch = []\n",
    "for i in range(len(pix)):\n",
    "    mask = (ind8==pix[i])\n",
    "    limit, N = NvsMagLimit(buz_test_list[i], maglim_i_map[mask])\n",
    "    N_patch.append(N)"
   ]
  },
  {
   "cell_type": "code",
   "execution_count": null,
   "metadata": {
    "collapsed": false,
    "scrolled": false
   },
   "outputs": [],
   "source": [
    "fig, ax = plt.subplots(figsize = (10, 8))\n",
    "for i in range(len(pix)):\n",
    "    ax.plot(limit, N_patch[i], '-x', label = 'pix {}'.format(pix[i]))\n",
    "ax.axvline(x = 22.0, color='grey', linestyle='--')\n",
    "ax.legend(loc='best')\n",
    "ax.set_xlim(21.3, 23)\n",
    "ax.set_ylim(11000, 13000)"
   ]
  },
  {
   "cell_type": "code",
   "execution_count": null,
   "metadata": {
    "collapsed": false
   },
   "outputs": [],
   "source": [
    "#np.sum(mask), np.sum((ind8==40)),  np.sum((ind8==60))\n",
    "ind8 = getLowerHPind(maglim_i_map, nside = 4096, nside2 = 8)\n",
    "\n",
    "mask = ((ind8==40)|(ind8==60))\n",
    "limit, Nobj = NvsMagLimit(merged_buz, maglim_i_map[mask])"
   ]
  },
  {
   "cell_type": "code",
   "execution_count": null,
   "metadata": {
    "collapsed": false
   },
   "outputs": [],
   "source": [
    "pix"
   ]
  },
  {
   "cell_type": "code",
   "execution_count": null,
   "metadata": {
    "collapsed": false
   },
   "outputs": [],
   "source": [
    "mask = ((ind8 == 119)|(ind8 == 120)|(ind8 == 151)|(ind8 == 152)|(ind8 == 153)|(ind8 == 182)|(ind8 == 183)|(ind8 == 184)|\n",
    "(ind8 == 185))\n",
    "avg_buz_test = np.hstack(buz_test_list)\n",
    "_, Nobj_spt = NvsMagLimit(avg_buz_test, maglim_i_map[mask])\n",
    "#limit, Nobj_st = NvsMagLimit(avg_buz_test2, maglim_i)"
   ]
  },
  {
   "cell_type": "code",
   "execution_count": null,
   "metadata": {
    "collapsed": false
   },
   "outputs": [],
   "source": [
    "fig, (ax, ax2) = plt.subplots(1,2, figsize = (20, 8))\n",
    "ax.plot(limit, np.array(Nobj), '-x', label='train')\n",
    "ax.plot(limit, Nobj_spt, '-x', label='spt')\n",
    "#ax.plot(limit, np.array(Nobj_st), '-x', label='st82')\n",
    "ax.axvline(x = 22.0, linestyle='--', color='grey')\n",
    "ax.set_xlabel('maglim_auto_i')\n",
    "ax.legend(loc='best')\n",
    "\n",
    "ax2.plot(limit, np.array(Nobj), '-x', label='train')\n",
    "ax2.plot(limit, Nobj_spt, '-x', label='spt')\n",
    "#ax.plot(limit, np.array(Nobj_st), '-x', label='st82')\n",
    "ax2.axvline(x = 22.0, linestyle='--', color='grey')\n",
    "ax2.set_xlabel('maglim_auto_i')\n",
    "ax2.legend(loc='best')\n",
    "ax2.set_xlim(21.8, 22.5)\n",
    "ax2.set_ylim(11500, 12200)"
   ]
  },
  {
   "cell_type": "markdown",
   "metadata": {},
   "source": [
    "----"
   ]
  },
  {
   "cell_type": "markdown",
   "metadata": {},
   "source": [
    "### Magnitude limit vs num density"
   ]
  },
  {
   "cell_type": "code",
   "execution_count": 5,
   "metadata": {
    "collapsed": true
   },
   "outputs": [],
   "source": [
    "# code for unfolding sdss-buz\n",
    "def unfold_cat(buz_sdss):\n",
    "    #buz_sdss = fitsio.read(path+name)\n",
    "    dtype = [('MAG_'+f, float) for f in ['G', 'R', 'I', 'Z']] \\\n",
    "    +  [('MAGERR_'+f, float) for f in ['G', 'R', 'I', 'Z']]\\\n",
    "    + [('RA', float ), ('DEC',float), ('ID', int)]\n",
    "    \n",
    "    buz_sdss_df = np.zeros((buz_sdss.size,), dtype=dtype)\n",
    "\n",
    "    #print buz_sdss.dtype\n",
    "    for i, f in enumerate(['G', 'R', 'I','Z']):\n",
    "        buz_sdss_df['MAG_'+f] = buz_sdss['OMAG'][:,i+1]\n",
    "        buz_sdss_df['MAGERR_'+f] = buz_sdss['OMAGERR'][:,i+1]\n",
    "    buz_sdss_df['RA'] = buz_sdss['RA']\n",
    "    buz_sdss_df['DEC'] = buz_sdss['DEC']\n",
    "    buz_sdss_df['ID'] = buz_sdss['ID']\n",
    "    \n",
    "    #fitsio.write(path+'Buzzard_v1.1_stripe82_mag.unfold.60.fit', buz_sdss_df)\n",
    "    return buz_sdss_df"
   ]
  },
  {
   "cell_type": "code",
   "execution_count": 6,
   "metadata": {
    "collapsed": false
   },
   "outputs": [
    {
     "name": "stdout",
     "output_type": "stream",
     "text": [
      "NSIDE = 4096\n",
      "ORDERING = NESTED in fits file\n",
      "INDXSCHM = IMPLICIT\n",
      "Ordering converted to RING\n",
      "NSIDE = 4096\n",
      "ORDERING = RING in fits file\n",
      "INDXSCHM = IMPLICIT\n",
      "NSIDE = 4096\n",
      "ORDERING = RING in fits file\n",
      "INDXSCHM = IMPLICIT\n",
      "NSIDE = 4096\n",
      "ORDERING = RING in fits file\n",
      "INDXSCHM = IMPLICIT\n"
     ]
    }
   ],
   "source": [
    "# apply basic Cuts to maglim map\n",
    "path = '/n/des/lee.5922/data/balrog_cat/'\n",
    "goodmask = path+'y1a1_gold_1.0.2_wide_footprint_4096.fit'\n",
    "badmask = path+'y1a1_gold_1.0.2_wide_badmask_4096.fit'\n",
    "fraction = hp.read_map(path+'Y1A1_WIDE_frac_combined_griz_o.4096_t.32768_EQU.fits')\n",
    "\n",
    "# Note that the masks here in in equatorial, ring format.\n",
    "gdmask = hp.read_map(goodmask)\n",
    "bdmask = hp.read_map(badmask)\n",
    "\n",
    "ind_good_ring = np.where(( gdmask >= 1)\n",
    "                         & ((bdmask.astype('int64') & (64+32+8)) == 0)\n",
    "                         & (fraction > 0.8)\n",
    "                         )\n",
    "\n",
    "goldmask = np.zeros(gdmask.size, dtype=bool)\n",
    "goldmask[ind_good_ring] = 1\n",
    "\n",
    "path = '/n/des/lee.5922/data/systematic_maps/'\n",
    "maglim_i = hp.read_map(path+'y1a1_gold_1.0.2_wide_auto_nside4096_i_10sigma.fits')\n",
    "maglim_i[~goldmask] = hp.UNSEEN\n",
    "#maglim_i_512 = hp.ud_grade(maglim_i, nside_out = 512, pess=True)\n",
    "#maglim_i_256 = hp.ud_grade(maglim_i, nside_out = 256, pess=True)"
   ]
  },
  {
   "cell_type": "code",
   "execution_count": null,
   "metadata": {
    "collapsed": false
   },
   "outputs": [],
   "source": []
  },
  {
   "cell_type": "code",
   "execution_count": 10,
   "metadata": {
    "collapsed": false
   },
   "outputs": [
    {
     "name": "stdout",
     "output_type": "stream",
     "text": [
      "NSIDE = 4096\n",
      "ORDERING = NESTED in fits file\n",
      "INDXSCHM = IMPLICIT\n",
      "Ordering converted to RING\n",
      "NSIDE = 4096\n",
      "ORDERING = RING in fits file\n",
      "INDXSCHM = IMPLICIT\n",
      "NSIDE = 4096\n",
      "ORDERING = RING in fits file\n",
      "INDXSCHM = IMPLICIT\n",
      "NSIDE = 4096\n",
      "ORDERING = NESTED in fits file\n",
      "INDXSCHM = IMPLICIT\n",
      "Ordering converted to RING\n",
      "NSIDE = 4096\n",
      "ORDERING = RING in fits file\n",
      "INDXSCHM = IMPLICIT\n",
      "NSIDE = 4096\n",
      "ORDERING = RING in fits file\n",
      "INDXSCHM = IMPLICIT\n",
      "NSIDE = 4096\n",
      "ORDERING = NESTED in fits file\n",
      "INDXSCHM = IMPLICIT\n",
      "Ordering converted to RING\n",
      "NSIDE = 4096\n",
      "ORDERING = RING in fits file\n",
      "INDXSCHM = IMPLICIT\n",
      "NSIDE = 4096\n",
      "ORDERING = RING in fits file\n",
      "INDXSCHM = IMPLICIT\n",
      "NSIDE = 4096\n",
      "ORDERING = NESTED in fits file\n",
      "INDXSCHM = IMPLICIT\n",
      "Ordering converted to RING\n",
      "NSIDE = 4096\n",
      "ORDERING = RING in fits file\n",
      "INDXSCHM = IMPLICIT\n",
      "NSIDE = 4096\n",
      "ORDERING = RING in fits file\n",
      "INDXSCHM = IMPLICIT\n",
      "NSIDE = 4096\n",
      "ORDERING = NESTED in fits file\n",
      "INDXSCHM = IMPLICIT\n",
      "Ordering converted to RING\n",
      "NSIDE = 4096\n",
      "ORDERING = RING in fits file\n",
      "INDXSCHM = IMPLICIT\n",
      "NSIDE = 4096\n",
      "ORDERING = RING in fits file\n",
      "INDXSCHM = IMPLICIT\n",
      "NSIDE = 4096\n",
      "ORDERING = NESTED in fits file\n",
      "INDXSCHM = IMPLICIT\n",
      "Ordering converted to RING\n",
      "NSIDE = 4096\n",
      "ORDERING = RING in fits file\n",
      "INDXSCHM = IMPLICIT\n",
      "NSIDE = 4096\n",
      "ORDERING = RING in fits file\n",
      "INDXSCHM = IMPLICIT\n",
      "NSIDE = 4096\n",
      "ORDERING = NESTED in fits file\n",
      "INDXSCHM = IMPLICIT\n",
      "Ordering converted to RING\n",
      "NSIDE = 4096\n",
      "ORDERING = RING in fits file\n",
      "INDXSCHM = IMPLICIT\n",
      "NSIDE = 4096\n",
      "ORDERING = RING in fits file\n",
      "INDXSCHM = IMPLICIT\n",
      "NSIDE = 4096\n",
      "ORDERING = NESTED in fits file\n",
      "INDXSCHM = IMPLICIT\n",
      "Ordering converted to RING\n",
      "NSIDE = 4096\n",
      "ORDERING = RING in fits file\n",
      "INDXSCHM = IMPLICIT\n",
      "NSIDE = 4096\n",
      "ORDERING = RING in fits file\n",
      "INDXSCHM = IMPLICIT\n",
      "NSIDE = 4096\n",
      "ORDERING = NESTED in fits file\n",
      "INDXSCHM = IMPLICIT\n",
      "Ordering converted to RING\n",
      "NSIDE = 4096\n",
      "ORDERING = RING in fits file\n",
      "INDXSCHM = IMPLICIT\n",
      "NSIDE = 4096\n",
      "ORDERING = RING in fits file\n",
      "INDXSCHM = IMPLICIT\n"
     ]
    }
   ],
   "source": [
    "path = '/n/des/lee.5922/data/buzzard/'\n",
    "HPIX = [119, 120, 151, 152, 153, 182, 183, 184, 185] \n",
    "# [ 24  40  60  84 112 144 176 208]\n",
    "buz_list = []\n",
    "\n",
    "for p in HPIX:\n",
    "    buz = fitsio.read(path+'Buzzard_v1.1_truth.'+str(p)+'.fit')\n",
    "    buz = unfold_cat(buz)\n",
    "    buz = priorCut_buz(buz)\n",
    "    buz = Cuts._keepGoodRegion(buz)\n",
    "    buz_list.append(buz)\n",
    "    "
   ]
  },
  {
   "cell_type": "code",
   "execution_count": 11,
   "metadata": {
    "collapsed": false
   },
   "outputs": [
    {
     "ename": "NameError",
     "evalue": "name 'maglim_i_512' is not defined",
     "output_type": "error",
     "traceback": [
      "\u001b[0;31m---------------------------------------------------------------------------\u001b[0m",
      "\u001b[0;31mNameError\u001b[0m                                 Traceback (most recent call last)",
      "\u001b[0;32m<ipython-input-11-fec0efbf63e1>\u001b[0m in \u001b[0;36m<module>\u001b[0;34m()\u001b[0m\n\u001b[0;32m----> 1\u001b[0;31m \u001b[0mbdmask\u001b[0m \u001b[0;34m=\u001b[0m \u001b[0mmaglim_i_512\u001b[0m \u001b[0;34m>\u001b[0m \u001b[0;36m0\u001b[0m\u001b[0;34m\u001b[0m\u001b[0m\n\u001b[0m\u001b[1;32m      2\u001b[0m \u001b[0mmapInd\u001b[0m \u001b[0;34m=\u001b[0m \u001b[0mnp\u001b[0m\u001b[0;34m.\u001b[0m\u001b[0marange\u001b[0m\u001b[0;34m(\u001b[0m\u001b[0mmaglim_i_512\u001b[0m\u001b[0;34m.\u001b[0m\u001b[0msize\u001b[0m\u001b[0;34m)\u001b[0m\u001b[0;34m[\u001b[0m\u001b[0mbdmask\u001b[0m\u001b[0;34m]\u001b[0m\u001b[0;34m\u001b[0m\u001b[0m\n\u001b[1;32m      3\u001b[0m \u001b[0mNlist\u001b[0m \u001b[0;34m=\u001b[0m \u001b[0;34m[\u001b[0m\u001b[0;34m]\u001b[0m\u001b[0;34m\u001b[0m\u001b[0m\n\u001b[1;32m      4\u001b[0m \u001b[0;32mfor\u001b[0m \u001b[0mi\u001b[0m\u001b[0;34m,\u001b[0m\u001b[0mp\u001b[0m \u001b[0;32min\u001b[0m \u001b[0menumerate\u001b[0m\u001b[0;34m(\u001b[0m\u001b[0mHPIX\u001b[0m\u001b[0;34m)\u001b[0m\u001b[0;34m:\u001b[0m\u001b[0;34m\u001b[0m\u001b[0m\n\u001b[1;32m      5\u001b[0m     \u001b[0mbuzInd\u001b[0m \u001b[0;34m=\u001b[0m \u001b[0mhpRaDecToHEALPixel\u001b[0m\u001b[0;34m(\u001b[0m \u001b[0mbuz_list\u001b[0m\u001b[0;34m[\u001b[0m\u001b[0mi\u001b[0m\u001b[0;34m]\u001b[0m\u001b[0;34m[\u001b[0m\u001b[0;34m'RA'\u001b[0m\u001b[0;34m]\u001b[0m\u001b[0;34m,\u001b[0m \u001b[0mbuz_list\u001b[0m\u001b[0;34m[\u001b[0m\u001b[0mi\u001b[0m\u001b[0;34m]\u001b[0m\u001b[0;34m[\u001b[0m\u001b[0;34m'DEC'\u001b[0m\u001b[0;34m]\u001b[0m\u001b[0;34m,\u001b[0m \u001b[0mnside\u001b[0m \u001b[0;34m=\u001b[0m \u001b[0;36m512\u001b[0m \u001b[0;34m)\u001b[0m\u001b[0;34m\u001b[0m\u001b[0m\n",
      "\u001b[0;31mNameError\u001b[0m: name 'maglim_i_512' is not defined"
     ]
    }
   ],
   "source": [
    "bdmask = maglim_i_512 > 0\n",
    "mapInd = np.arange(maglim_i_512.size)[bdmask]\n",
    "Nlist = []    \n",
    "for i,p in enumerate(HPIX):\n",
    "    buzInd = hpRaDecToHEALPixel( buz_list[i]['RA'], buz_list[i]['DEC'], nside = 512 )\n",
    "    N, _ = np.histogram(buzInd, bins = np.append(mapInd, mapInd[-1]+1))\n",
    "    Nlist.append(N)"
   ]
  },
  {
   "cell_type": "code",
   "execution_count": null,
   "metadata": {
    "collapsed": true
   },
   "outputs": [],
   "source": [
    "fig, ax = plt.subplots(4,3, figsize = (15, 15))\n",
    "ax = ax.ravel()\n",
    "for i, p in enumerate(HPIX):\n",
    "    ax[i].plot(maglim_i_512[bdmask], Nlist[i], '.')\n",
    "    #ax[i].set_xlabel('maglim_i')\n",
    "    ax[i].set_ylabel('num of galaxies')\n",
    "    ax[i].set_title('resolution 512, HPIX '+str(p))\n",
    "ax[9].set_xlabel('maglim_i')\n",
    "ax[10].set_xlabel('maglim_i')\n",
    "ax[11].set_xlabel('maglim_i')"
   ]
  },
  {
   "cell_type": "code",
   "execution_count": 12,
   "metadata": {
    "collapsed": false
   },
   "outputs": [
    {
     "name": "stdout",
     "output_type": "stream",
     "text": [
      "NSIDE = 4096\n",
      "ORDERING = NESTED in fits file\n",
      "INDXSCHM = IMPLICIT\n",
      "Ordering converted to RING\n",
      "NSIDE = 4096\n",
      "ORDERING = RING in fits file\n",
      "INDXSCHM = IMPLICIT\n",
      "NSIDE = 4096\n",
      "ORDERING = RING in fits file\n",
      "INDXSCHM = IMPLICIT\n"
     ]
    }
   ],
   "source": [
    "path = '/n/des/lee.5922/data/buzzard/'\n",
    "#HPIX = [40, 60 ] #119, 120, 151, 152, 153, 182, 183, 184, 185] # [ 24  40  60  84 112 144 176 208]\n",
    "buz_train = [fitsio.read(path+'Buzzard_v1.1_truth.'+str(40)+'.fit'),\\\n",
    "       fitsio.read(path+'Buzzard_v1.1_truth.'+str(60)+'.fit')]\n",
    "buz_train = np.hstack(buz_train)\n",
    "buz_train = unfold_cat(buz_train)\n",
    "buz_train = priorCut_buz(buz_train)\n",
    "buz_train = Cuts._keepGoodRegion(buz_train)\n",
    "#buz_list.append(buz)"
   ]
  },
  {
   "cell_type": "markdown",
   "metadata": {},
   "source": []
  },
  {
   "cell_type": "code",
   "execution_count": 15,
   "metadata": {
    "collapsed": false
   },
   "outputs": [],
   "source": [
    "def CalculateOverdensity(buz, maglim_i, inputPix = [40, 60], nside = 512):\n",
    "    \n",
    "    maglim_i_256 = hp.ud_grade(maglim_i, nside_out = nside, pess=True)\n",
    "    from utils import hpRaDecToRotatedHEALPixel\n",
    "    bdmask = maglim_i_256 > 0\n",
    "    mapInd = np.arange(maglim_i_256.size)[bdmask]\n",
    "    #print mapInd\n",
    "    r, d = hpHEALPixelToRaDec(mapInd, nside = nside)\n",
    "    \n",
    "    mapInd_rot = hpRaDecToRotatedHEALPixel( r, d, nside = nside ) \n",
    "   \n",
    "    mapInd8 = hpRaDecToRotatedHEALPixel( r, d, nside = 8 )\n",
    "    buzInd8 = hpRaDecToRotatedHEALPixel( buz['RA'], buz['DEC'], nside =8)\n",
    "    effectivemask = np.in1d(mapInd8, np.array(inputPix) )    \n",
    "    buzInd = hpRaDecToRotatedHEALPixel( buz['RA'], buz['DEC'],nside=nside)\n",
    "    print len(set(mapInd_rot)), mapInd_rot.size\n",
    "    # combine array\n",
    "    maglim_i_com = np.zeros((maglim_i_256[bdmask].size,), \\\n",
    "                            dtype=[('pix', 'int'),('pix_rot8', 'int'),\\\n",
    "                                   ('pix_rot', 'int'),('sig', 'float'),\\\n",
    "                                   ('valid', 'bool'), ('ra', 'float'), \\\n",
    "                                   ('dec', 'float')])\n",
    "    maglim_i_com['pix'] = mapInd\n",
    "    maglim_i_com['pix_rot'] = mapInd_rot\n",
    "    maglim_i_com['sig'] = maglim_i_256[bdmask]\n",
    "    maglim_i_com['pix_rot8'] = mapInd8\n",
    "    maglim_i_com['valid'][effectivemask] = 1\n",
    "    maglim_i_com['ra'] = r\n",
    "    maglim_i_com['dec'] = d\n",
    "    \n",
    "    #print 'buzInd', buzInd\n",
    "    #print 'mapInd_rot', mapInd_rot\n",
    "    \n",
    "    fig, ax = plt.subplots()\n",
    "    ra = r.copy()\n",
    "    ra[r > 180] = ra[r > 180]-360\n",
    "    ax.plot(ra[effectivemask], d[effectivemask], '.')\n",
    "\n",
    "    \"\"\"\n",
    "    N = []\n",
    "    for i, m in enumerate(mapInd_rot[effectivemask]):\n",
    "        n = np.sum(buzInd == m)\n",
    "        print i, n\n",
    "        N.append(n)\n",
    "    \"\"\"\n",
    "\n",
    "    MM = maglim_i_com['valid'] == True\n",
    "    maglim_i_com = maglim_i_com[MM]\n",
    "    N = []\n",
    "    for i in range(maglim_i_com.size):\n",
    "        n = np.sum(buzInd == maglim_i_com['pix_rot'][i])\n",
    "        N.append(n)\n",
    "        \n",
    "    \n",
    "    Apix256 = hp.nside2pixarea( nside, degrees = True)\n",
    "    n256 = (np.array(N)/Apix256) #[effectivemask]\n",
    "    #mapIndinbuz_mask = np.in1d(mapInd, buzInd)\n",
    "    #Atot = np.sum(effectivemask) * Apix256\n",
    "    #ntot = buz.size/Atot\n",
    "    ntot = np.mean(n256)\n",
    "    overdensity = (n256/ntot)\n",
    "    \n",
    "    bin_mag, s = np.linspace(21.8, 23, 20, retstep=True)\n",
    "    #bin_mag = #bin_mag + s/2.\n",
    "    mag_ind = np.digitize(maglim_i_com['sig'], bins = bin_mag)\n",
    "    avg_overdensity = []\n",
    "    error_over = []\n",
    "    for i in range(bin_mag.size):\n",
    "        ma = mag_ind == i\n",
    "        avg = np.mean(overdensity[ma])\n",
    "        #print np.sum(ma)\n",
    "        avg_overdensity.append(avg)\n",
    "        err = np.std(overdensity[ma]) /np.sqrt(np.sum(ma))\n",
    "        error_over.append(err)\n",
    "        \n",
    "    return bin_mag, avg_overdensity, error_over"
   ]
  },
  {
   "cell_type": "code",
   "execution_count": null,
   "metadata": {
    "collapsed": false,
    "scrolled": true
   },
   "outputs": [],
   "source": [
    "maglim_i_256 = hp.ud_grade(maglim_i, nside_out = 512)"
   ]
  },
  {
   "cell_type": "code",
   "execution_count": null,
   "metadata": {
    "collapsed": false
   },
   "outputs": [],
   "source": [
    "HPIX"
   ]
  },
  {
   "cell_type": "code",
   "execution_count": 16,
   "metadata": {
    "collapsed": false
   },
   "outputs": [
    {
     "name": "stdout",
     "output_type": "stream",
     "text": [
      "25150 26116\n",
      "3\n",
      "7\n",
      "17\n",
      "33\n",
      "87\n",
      "128\n",
      "183\n",
      "273\n",
      "510\n",
      "760\n",
      "1094\n",
      "1389\n",
      "1676\n",
      "1472\n",
      "759\n",
      "324\n",
      "109\n",
      "61\n",
      "33\n",
      "9\n",
      "25150 26116\n",
      "3\n",
      "7\n",
      "17\n",
      "33\n",
      "87\n",
      "128\n",
      "183\n",
      "273\n",
      "510\n",
      "760\n",
      "1094\n",
      "1389\n",
      "1676\n",
      "1472\n",
      "759\n",
      "324\n",
      "109\n",
      "61\n",
      "33\n",
      "9\n"
     ]
    },
    {
     "data": {
      "image/png": "[encoded data removed]",
      "text/plain": [
       "<matplotlib.figure.Figure at 0x5703bd0>"
      ]
     },
     "metadata": {},
     "output_type": "display_data"
    },
    {
     "data": {
      "image/png": "[encoded data removed]",
      "text/plain": [
       "<matplotlib.figure.Figure at 0x5cc7410>"
      ]
     },
     "metadata": {},
     "output_type": "display_data"
    }
   ],
   "source": [
    "#buz = np.hstack(buz_list)\n",
    "buz_list2 = []\n",
    "for b in buz_list:\n",
    "    b=b[b['MAG_I']<=21]\n",
    "    buz_list2.append(b)\n",
    "\n",
    "buz = np.hstack(buz_list)\n",
    "buz2 = np.hstack(buz_list2)\n",
    "bin_mag, avg_overdensity, error_over = CalculateOverdensity(buz, maglim_i, inputPix = HPIX, nside = 512)\n",
    "bin_mag3, avg_overdensity3, error_over3 = CalculateOverdensity(buz2, maglim_i, inputPix = HPIX, nside = 512)\n",
    "#print buz.size, buz2.size"
   ]
  },
  {
   "cell_type": "code",
   "execution_count": 17,
   "metadata": {
    "collapsed": true
   },
   "outputs": [
    {
     "name": "stdout",
     "output_type": "stream",
     "text": [
      "25150 26116\n",
      "0\n",
      "0\n",
      "0\n",
      "0\n",
      "0\n",
      "0\n",
      "3\n",
      "3\n",
      "8\n",
      "29\n",
      "52\n",
      "110\n",
      "152\n",
      "195\n",
      "82\n",
      "34\n",
      "5\n",
      "0\n",
      "0\n",
      "0\n",
      "25150 26116\n",
      "0\n",
      "0\n",
      "0\n",
      "0\n",
      "0\n",
      "0\n",
      "3\n",
      "3\n",
      "8\n",
      "29\n",
      "52\n",
      "110\n",
      "152\n",
      "195\n",
      "82\n",
      "34\n",
      "5\n",
      "0\n",
      "0\n",
      "0\n"
     ]
    },
    {
     "name": "stderr",
     "output_type": "stream",
     "text": [
      "/n/home00/lee.5922/.local/lib/python2.7/site-packages/numpy/core/_methods.py:59: RuntimeWarning: Mean of empty slice.\n",
      "  warnings.warn(\"Mean of empty slice.\", RuntimeWarning)\n",
      "/n/home00/lee.5922/.local/lib/python2.7/site-packages/numpy/core/_methods.py:82: RuntimeWarning: Degrees of freedom <= 0 for slice\n",
      "  warnings.warn(\"Degrees of freedom <= 0 for slice\", RuntimeWarning)\n"
     ]
    },
    {
     "data": {
      "image/png": "[encoded data removed]",
      "text/plain": [
       "<matplotlib.figure.Figure at 0x5cc75d0>"
      ]
     },
     "metadata": {},
     "output_type": "display_data"
    },
    {
     "data": {
      "image/png": "[encoded data removed]",
      "text/plain": [
       "<matplotlib.figure.Figure at 0x817b5d0>"
      ]
     },
     "metadata": {},
     "output_type": "display_data"
    }
   ],
   "source": [
    "buz_train2 = buz_train[buz_train['MAG_I']<= 21]\n",
    "#print buz_train.size, buz_train2.size\n",
    "HPIX_train = [40, 60]\n",
    "bin_mag2, avg_overdensity2, error_over2 = CalculateOverdensity(buz_train, maglim_i,\\\n",
    "                                                               inputPix=HPIX_train,nside = 512)\n",
    "bin_mag4, avg_overdensity4, error_over4 = CalculateOverdensity(buz_train2, maglim_i,\\\n",
    "                                                               inputPix=HPIX_train, nside = 512)"
   ]
  },
  {
   "cell_type": "code",
   "execution_count": null,
   "metadata": {
    "collapsed": true
   },
   "outputs": [],
   "source": [
    "def chisquare_test(avg_overdensity, error_over):\n",
    "\n",
    "    avg_overdensity = np.array(avg_overdensity)\n",
    "    error_over = np.array(error_over)\n",
    "    mask = np.ma.masked_invalid(avg_overdensity)\n",
    "    m = ~mask.mask\n",
    "\n",
    "    galaxy_density = avg_overdensity[m]\n",
    "    err = error_over[m]\n",
    "    bin = bin_mag[m]\n",
    "    chisquare = np.sum((galaxy_density - 1.0)**2/err**2 )\n",
    "    print chisquare/np.sum(m)"
   ]
  },
  {
   "cell_type": "code",
   "execution_count": null,
   "metadata": {
    "collapsed": false
   },
   "outputs": [],
   "source": [
    "chi1 = chisquare_test(avg_overdensity, error_over)\n",
    "chi2 = chisquare_test(avg_overdensity2, error_over2)\n",
    "chi3 = chisquare_test(avg_overdensity3, error_over3)\n",
    "chi4 = chisquare_test(avg_overdensity4, error_over4)"
   ]
  },
  {
   "cell_type": "code",
   "execution_count": 19,
   "metadata": {
    "collapsed": false,
    "scrolled": false
   },
   "outputs": [
    {
     "data": {
      "text/plain": [
       "<matplotlib.legend.Legend at 0x893da10>"
      ]
     },
     "execution_count": 19,
     "metadata": {},
     "output_type": "execute_result"
    },
    {
     "data": {
      "image/png": "[encoded data removed]",
      "text/plain": [
       "<matplotlib.figure.Figure at 0x7e49c50>"
      ]
     },
     "metadata": {},
     "output_type": "display_data"
    }
   ],
   "source": [
    "fig, ax = plt.subplots(1,1, figsize = (12, 8))\n",
    "#ax.plot(maglim_i_256[bdmask][zeromask], overdensity, '.')\n",
    "#ax.plot(bin_mag, avg_overdensity, '.')\n",
    "ax.errorbar(bin_mag, avg_overdensity, yerr = error_over, color = 'blue', label = 'SPT')\n",
    "ax.errorbar(bin_mag3, avg_overdensity3, yerr = error_over3, color = 'blue', linestyle = '--', label = 'SPT, cut21')\n",
    "ax.errorbar(bin_mag2 + 0.005, avg_overdensity2, yerr = error_over2, color = 'green', label = 'train')\n",
    "ax.errorbar(bin_mag4 + 0.005, avg_overdensity4, yerr = error_over4, color = 'green', linestyle='--',label = 'train, cut21')\n",
    "ax.axhline(y=1, color='grey', linestyle='--')\n",
    "ax.set_xlabel('maglim_i')\n",
    "ax.set_ylabel('n512 / n_mean')\n",
    "ax.set_title('resolution 512')\n",
    "ax.set_ylim(0,2)\n",
    "ax.set_xlim(21.8, 23)\n",
    "ax.legend(loc='best')"
   ]
  },
  {
   "cell_type": "code",
   "execution_count": null,
   "metadata": {
    "collapsed": true
   },
   "outputs": [],
   "source": []
  },
  {
   "cell_type": "code",
   "execution_count": null,
   "metadata": {
    "collapsed": true
   },
   "outputs": [],
   "source": [
    "bdmask = maglim_i > 0\n",
    "magInd = np.arange(maglim_i.size)[bdmask] \n",
    "r, d = hpHEALPixelToRaDec(magInd, nside = 4096)"
   ]
  },
  {
   "cell_type": "code",
   "execution_count": null,
   "metadata": {
    "collapsed": false
   },
   "outputs": [],
   "source": [
    "Hind_map = hpRaDecToRotatedHEALPixel(r,d, nside=8)\n",
    "mask_map = Hind_map == 40"
   ]
  },
  {
   "cell_type": "code",
   "execution_count": null,
   "metadata": {
    "collapsed": false
   },
   "outputs": [],
   "source": [
    "fig, ax = plt.subplots()\n",
    "ax.plot(r[mask_map],d[mask_map], '.')"
   ]
  },
  {
   "cell_type": "code",
   "execution_count": null,
   "metadata": {
    "collapsed": true
   },
   "outputs": [],
   "source": []
  },
  {
   "cell_type": "code",
   "execution_count": null,
   "metadata": {
    "collapsed": false
   },
   "outputs": [],
   "source": [
    "Hind = hpRaDecToRotatedHEALPixel(buz_train['RA'],buz_train['DEC'], nside=8)\n",
    "#print np.sum(Hind == 40\n",
    "mask = Hind == 40\n",
    "\n",
    "spatialcheck(buz_train[mask])"
   ]
  },
  {
   "cell_type": "code",
   "execution_count": null,
   "metadata": {
    "collapsed": false
   },
   "outputs": [],
   "source": [
    "maglim_i_256 = hp.ud_grade(maglim_i, nside_out = nside, pest=True)\n",
    "from utils import hpRaDecToRotatedHEALPixel\n",
    "bdmask = maglim_i > 0\n",
    "mapInd = np.arange(maglim_i_256.size)[bdmask]\n",
    "#print mapInd\n",
    "r, d = hpHEALPixelToRaDec(mapInd, nside = nside)\n",
    "mapInd_rot = hpRaDecToRotatedHEALPixel( r, d, nside = nside )    \n",
    "mapInd8 = hpRaDecToRotatedHEALPixel( r, d, nside = 8 )\n",
    "maglim_i_8 = hp.ud_grade(maglim_i, nside_out = 8, pest=True)\n",
    "#mapInd8 = np.arange(maglim_i_8.size)\n",
    "buzInd8 = hpRaDecToRotatedHEALPixel( buz['RA'], buz['DEC'], nside = 8 )\n",
    "effectivemask = np.in1d(mapInd8, np.array(inputPix) )\n",
    "#print np.sum(effectivemask), mapInd8.size, len(set(buzInd8))\n",
    "#mapInd = mapInd[effectivemask]\n"
   ]
  },
  {
   "cell_type": "code",
   "execution_count": null,
   "metadata": {
    "collapsed": true
   },
   "outputs": [],
   "source": []
  }
 ],
 "metadata": {
  "kernelspec": {
   "display_name": "Python 2",
   "language": "python",
   "name": "python2"
  },
  "language_info": {
   "codemirror_mode": {
    "name": "ipython",
    "version": 2
   },
   "file_extension": ".py",
   "mimetype": "text/x-python",
   "name": "python",
   "nbconvert_exporter": "python",
   "pygments_lexer": "ipython2",
   "version": "2.7.5"
  }
 },
 "nbformat": 4,
 "nbformat_minor": 0
}
