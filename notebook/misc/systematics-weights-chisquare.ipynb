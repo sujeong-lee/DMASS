{
 "cells": [
  {
   "cell_type": "code",
   "execution_count": 11,
   "metadata": {},
   "outputs": [
    {
     "name": "stdout",
     "output_type": "stream",
     "text": [
      "The autoreload extension is already loaded. To reload it, use:\n",
      "  %reload_ext autoreload\n"
     ]
    }
   ],
   "source": [
    "import sys\n",
    "sys.path.append('../')\n",
    "from xd import *\n",
    "from utils import *\n",
    "import esutil, scipy\n",
    "import healpy as hp\n",
    "from systematics import *\n",
    "from systematics_module import *\n",
    "\n",
    "%matplotlib inline\n",
    "\n",
    "%load_ext autoreload\n",
    "%autoreload 2\n",
    "\n",
    "HF = lambda Nr,Nbin: (Nr-Nbin-2) *1./(Nr-1)\n",
    "HFactor = HF(100, 10)"
   ]
  },
  {
   "cell_type": "code",
   "execution_count": 12,
   "metadata": {},
   "outputs": [],
   "source": [
    "def NNpairCount(data, rand, weight_data = None, weight_rand = None, \n",
    "    nbins = 20, min_sep = 2.5/60., bin_slop=0.05, max_sep = 250/60., dir = './', suffix=''):\n",
    "    # cmass and balrog : all systematic correction except obscuration should be applied before passing here\n",
    "    \n",
    "    import treecorr\n",
    "    \n",
    "    if weight_data : weight_data = data['WEIGHT']\n",
    "    if weight_rand : weight_rand = rand['WEIGHT_RAND']\n",
    "\n",
    "    cat = treecorr.Catalog(ra=data['RA'], dec=data['DEC'], w = weight_data, ra_units='deg', dec_units='deg')\n",
    "    cat_rand = treecorr.Catalog(ra=rand['RA'], dec=rand['DEC'], is_rand=True, w = weight_rand, ra_units='deg', dec_units='deg')\n",
    "    #nbins = 20\n",
    "    #bin_size = 0.5\n",
    "    #min_sep = 2.5/60.\n",
    "    #max_sep = 250/60.\n",
    "    sep_units = 'degree'\n",
    "\n",
    "    dd = treecorr.NNCorrelation(nbins = nbins, max_sep = max_sep, min_sep= min_sep, sep_units=sep_units,bin_slop=bin_slop)\n",
    "    dr = treecorr.NNCorrelation(nbins = nbins, max_sep = max_sep, min_sep= min_sep, sep_units=sep_units,bin_slop=bin_slop)\n",
    "    rr = treecorr.NNCorrelation(nbins = nbins, max_sep = max_sep, min_sep= min_sep, sep_units=sep_units,bin_slop=bin_slop)\n",
    "    \n",
    "    dd.process(cat)\n",
    "    dr.process(cat,cat_rand)\n",
    "    rr.process(cat_rand)\n",
    "    \n",
    "    dd.write(dir+'npairs'+suffix+'.txt', rr=rr, dr=dr)\n",
    "    print 'file save to', dir+'npairs'+suffix+'.txt'\n",
    "    #xi, varxi = dd.calculateXi(rr,dr)\n",
    "    #errxi = np.sqrt(varxi)\n",
    "    \n",
    "    return dd, dr, rr"
   ]
  },
  {
   "cell_type": "markdown",
   "metadata": {},
   "source": [
    "## systematic test "
   ]
  },
  {
   "cell_type": "code",
   "execution_count": 13,
   "metadata": {
    "scrolled": true
   },
   "outputs": [],
   "source": [
    "import numpy as np"
   ]
  },
  {
   "cell_type": "code",
   "execution_count": 14,
   "metadata": {},
   "outputs": [],
   "source": [
    "from run_systematics import sys_iteration, fitting_SP, sys_ngal, weightmultiply, fitting_allSP, calling_sysMap, maskingCatalogSP"
   ]
  },
  {
   "cell_type": "code",
   "execution_count": 15,
   "metadata": {},
   "outputs": [
    {
     "data": {
      "text/plain": [
       "256"
      ]
     },
     "execution_count": 15,
     "metadata": {},
     "output_type": "execute_result"
    }
   ],
   "source": [
    "rootdir = '../output/sfd_train_photo_SamPle_nozband_ran10_3_full_tol1e5/'\n",
    "inputdir = rootdir\n",
    "figoutdir = inputdir+'/figure/'\n",
    "sysoutdir = inputdir+'/sys/'\n",
    "wdir = sysoutdir+'/weights/'\n",
    "basedir = inputdir+'/act/'\n",
    "os.system('mkdir '+inputdir)\n",
    "os.system('mkdir '+figoutdir)\n",
    "os.system('mkdir '+sysoutdir)\n",
    "os.system('mkdir '+wdir)\n",
    "#os.system('cp ../data_txt/systematics/4th/systematic*_no_weight.txt '+inputdir+'/.')"
   ]
  },
  {
   "cell_type": "code",
   "execution_count": 16,
   "metadata": {},
   "outputs": [],
   "source": [
    "# calling map \n",
    "GoldMask = callingEliGoldMask()\n",
    "#GoldMask_st82 = Cuts.SpatialCuts(GoldMask, ra=320, ra2=360, dec=-2, dec2=2)\n",
    "GoldMask_st82 = GoldMask[ GoldMask['DEC'] > -3.0 ]\n",
    "GoldMask_spt = GoldMask[ GoldMask['DEC'] < -3.0 ]\n",
    "#GoldMask_spt = cutcat20(GoldMask_spt)\n",
    "#GoldMask_spt = Cuts.SpatialCuts(GoldMask_spt, ra=0, ra2 = 100, dec=-52, dec2 = -48)\n",
    "\n",
    "pixarea = hp.nside2pixarea( 4096, degrees = True)\n",
    "sptnpix = GoldMask_spt['PIXEL'].size #hp.get_map_size( GoldMask_spt['PIXEL'] )\n",
    "st82npix =  GoldMask_st82['PIXEL'].size # hp.get_map_size( GoldMask_st82 )\n",
    "SPTMaparea = pixarea * sptnpix\n",
    "ST82Maparea = pixarea * st82npix"
   ]
  },
  {
   "cell_type": "code",
   "execution_count": null,
   "metadata": {},
   "outputs": [],
   "source": []
  },
  {
   "cell_type": "code",
   "execution_count": 17,
   "metadata": {},
   "outputs": [
    {
     "name": "stdout",
     "output_type": "stream",
     "text": [
      "\n",
      "--------------------------------\n",
      " calling catalog\n",
      "--------------------------------\n",
      "dmass_spt_sys_v3.fits\n",
      "dmass sample size : 117292.90214602613 114200.33709136744\n",
      "\n",
      "--------------------------------\n",
      " calling catalog\n",
      "--------------------------------\n",
      "gold_st82_prob.fits\n",
      "dmass st82 sample size : 13002.574050557929\n",
      "cmass sample size : 12639\n",
      "117292.90214602613 13002.574050557929\n"
     ]
    }
   ],
   "source": [
    "# import DMASS\n",
    "\n",
    "#dmass = fitsio.read(rootdir+'spt.fits')\n",
    "#dmass = io.SearchAndCallFits(path = rootdir, keyword='gold_spt_prob')\n",
    "dmass = io.SearchAndCallFits(path = rootdir, keyword='dmass_spt_sys_v3.fits')\n",
    "dmass = dmass[dmass['CMASS_PROB'] > 0.01]\n",
    "print 'dmass sample size :', np.sum(dmass['CMASS_PROB']), np.sum(dmass['CMASS_PROB'] * dmass['VETO'])\n",
    "\n",
    "\n",
    "#dmass = cutcat20(dmass)\n",
    "#dmass_st82 = fitsio.read(rootdir+'dmass_st82_0004.fits')\n",
    "dmass_st82 = io.SearchAndCallFits(path = rootdir, keyword='gold_st82_prob')\n",
    "#dmass_st82 = dmass_st82[dmass_st82['EachProb_CMASS'] > 0.01]\n",
    "\n",
    "cmass = fitsio.read(rootdir+'train_sample_des.fits')\n",
    "\n",
    "\n",
    "print 'dmass st82 sample size :', np.sum(dmass_st82['EachProb_CMASS'])\n",
    "print 'cmass sample size :', cmass.size\n",
    "\n",
    "\n",
    "dmass = appendColumn(cat = dmass, name='WEIGHT', value=dmass['CMASS_PROB'])\n",
    "dmass_st82 = appendColumn(cat = dmass_st82, name='WEIGHT', value=dmass_st82['EachProb_CMASS'])\n",
    "print np.sum(dmass['CMASS_PROB']), np.sum(dmass_st82['EachProb_CMASS'])"
   ]
  },
  {
   "cell_type": "code",
   "execution_count": 18,
   "metadata": {},
   "outputs": [
    {
     "name": "stdout",
     "output_type": "stream",
     "text": [
      "685616 0 100.0\n"
     ]
    }
   ],
   "source": [
    "Ntot = dmass.size\n",
    "Nexc = np.sum(dmass['CMASS_PROB'] < 0.005)\n",
    "Ndiff = Ntot - Nexc\n",
    "print Ntot, Nexc, Ndiff * 1./Ntot * 100 "
   ]
  },
  {
   "cell_type": "code",
   "execution_count": 19,
   "metadata": {},
   "outputs": [
    {
     "name": "stdout",
     "output_type": "stream",
     "text": [
      "117292.90214602613 117292.90214602613 0.0\n"
     ]
    }
   ],
   "source": [
    "Ntoteff = np.sum(dmass['EachProb_CMASS'])\n",
    "Nexceff = np.sum(dmass[dmass['EachProb_CMASS'] > 0.005]['EachProb_CMASS'])\n",
    "Ndiffeff = Ntoteff - Nexceff\n",
    "print Ntoteff, Nexceff, Ndiffeff * 1./Ntoteff * 100 \n"
   ]
  },
  {
   "cell_type": "code",
   "execution_count": 130,
   "metadata": {},
   "outputs": [
    {
     "data": {
      "text/plain": [
       "'../output/sfd_train_photo_SamPle_nozband_ran10_3_full_tol1e5/'"
      ]
     },
     "execution_count": 130,
     "metadata": {},
     "output_type": "execute_result"
    }
   ],
   "source": [
    "rootdir"
   ]
  },
  {
   "cell_type": "code",
   "execution_count": 154,
   "metadata": {},
   "outputs": [
    {
     "name": "stdout",
     "output_type": "stream",
     "text": [
      "\n",
      "--------------------------------\n",
      " calling catalog\n",
      "--------------------------------\n",
      "random_x50_dmass_spt_v2.fits\n"
     ]
    }
   ],
   "source": [
    "#rand_bg = uniform_random_on_sphere(dmass_spt2, size = 100 * dmass_spt2.size)\n",
    "#rand_bg = Cuts.keepGoodRegion(rand_bg)\n",
    "#rand_bg_train = uniform_random_on_sphere(clean_cmass_data_des, size = 100 * clean_cmass_data_des.size)\n",
    "#rand_bg_train = Cuts.keepGoodRegion(rand_bg_train)\n",
    "\n",
    "rand = uniform_random_on_sphere(dmass, size = dmass.size/10)\n",
    "rand = Cuts.keepGoodRegion(rand)\n",
    "#rand = Cuts.keepY1GoldRegion(rand)\n",
    "rand = rand[ rand['DEC'] < -3.0 ]\n",
    "#rand = cutcat20(rand)\n",
    "\n",
    "#rand2 = io.SearchAndCallFits(path = rootdir, keyword='random_x50_dmass_spt_masked.fits')\n",
    "#uniform_random_on_sphere(dmass, size = 10 * dmass.size)\n",
    "#rand2 = Cuts.keepGoodRegion(rand2)\n",
    "#rand = Cuts.keepY1GoldRegion(rand)\n",
    "#rand2 = rand2[ rand2['DEC'] < -3.0 ]\n",
    "#rand2 = cutcat20(rand2)\n",
    "\n",
    "rand_no_mask = io.SearchAndCallFits(path = rootdir, keyword='random_x50_dmass_spt_v2.fits')\n",
    "#rand_no_mask = io.SearchAndCallFits(path = rootdir, keyword='random_x180_dmass_spt.fits')"
   ]
  },
  {
   "cell_type": "code",
   "execution_count": 103,
   "metadata": {},
   "outputs": [],
   "source": []
  },
  {
   "cell_type": "code",
   "execution_count": 23,
   "metadata": {
    "collapsed": true
   },
   "outputs": [
    {
     "name": "stdout",
     "output_type": "stream",
     "text": [
      "\n",
      "PATH =  /n/des/lee.5922/data/systematic_maps/seeing_i_spt/\n",
      "Y1A1NEW_COADD_SPT_band_g_nside4096_oversamp4_FWHM_MEAN_coaddweights3_mean.fits.gz\n",
      "NSIDE = 4096\n",
      "ORDERING = RING in fits file\n",
      "INDXSCHM = EXPLICIT\n",
      "\n",
      "PATH =  /n/des/lee.5922/data/systematic_maps/seeing_i_spt/\n",
      "Y1A1NEW_COADD_SPT_band_r_nside4096_oversamp4_FWHM_MEAN_coaddweights3_mean.fits.gz\n",
      "NSIDE = 4096\n",
      "ORDERING = RING in fits file\n",
      "INDXSCHM = EXPLICIT\n",
      "\n",
      "PATH =  /n/des/lee.5922/data/systematic_maps/seeing_i_spt/\n",
      "Y1A1NEW_COADD_SPT_band_i_nside4096_oversamp4_FWHM_MEAN_coaddweights3_mean.fits.gz\n",
      "NSIDE = 4096\n",
      "ORDERING = RING in fits file\n",
      "INDXSCHM = EXPLICIT\n",
      "\n",
      "PATH =  /n/des/lee.5922/data/systematic_maps/seeing_i_spt/\n",
      "Y1A1NEW_COADD_SPT_band_z_nside4096_oversamp4_FWHM_MEAN_coaddweights3_mean.fits.gz\n",
      "NSIDE = 4096\n",
      "ORDERING = RING in fits file\n",
      "INDXSCHM = EXPLICIT\n"
     ]
    }
   ],
   "source": [
    "from run_systematics import sys_iteration, fitting_SP, sys_ngal, weightmultiply, fitting_allSP, calling_sysMap, maskingCatalogSP\n",
    "sysMap = calling_sysMap( properties=['FWHM'], kind='SPT', nside=4096 )"
   ]
  },
  {
   "cell_type": "code",
   "execution_count": 145,
   "metadata": {},
   "outputs": [],
   "source": [
    "rand_no_mask = np.array(rand_no_mask).byteswap().newbyteorder()\n",
    "\n",
    "hpind_rand_no_mask = hpRaDecToHEALPixel(rand_no_mask['RA'], rand_no_mask['DEC'], nside = 4096 )\n",
    "rand_no_mask = appendColumn(cat=rand_no_mask, name='HPIX', value=hpind_rand_no_mask, dtypes='int')\n",
    "sys_mask = (sysMap['sys_FWHM_r_SPT']['SIGNAL'] < 4.5)\n",
    "map_mask = np.in1d( rand_no_mask['HPIX'],  sysMap['sys_FWHM_r_SPT']['PIXEL'][sys_mask])\n",
    "map_mask2 = np.zeros(rand_no_mask.size)\n",
    "map_mask2[map_mask] = 1\n",
    "rand_no_mask = appendColumn(cat=rand_no_mask, name='VETO', value=map_mask2, dtypes='float')"
   ]
  },
  {
   "cell_type": "code",
   "execution_count": 121,
   "metadata": {},
   "outputs": [
    {
     "name": "stdout",
     "output_type": "stream",
     "text": [
      "merge\n"
     ]
    }
   ],
   "source": [
    "import pandas as pd\n",
    "randData = pd.DataFrame(rand_no_mask.data)\n",
    "goldData = pd.DataFrame(GoldMask_spt)\n",
    "print 'merge'\n",
    "matched = pd.merge(randData, goldData, left_on='HPIX', right_on='PIXEL', how='left', suffixes = ['','_y'])\n",
    "matched_arr = matched.to_records(index=False)"
   ]
  },
  {
   "cell_type": "code",
   "execution_count": 125,
   "metadata": {},
   "outputs": [],
   "source": [
    "rand_no_mask = appendColumn(cat=rand_no_mask, name='GOLD_FRAC', value=matched_arr['FRAC'], dtypes='float')"
   ]
  },
  {
   "cell_type": "code",
   "execution_count": 148,
   "metadata": {},
   "outputs": [],
   "source": [
    "#fitsio.write( '../output/sfd_train_photo_SamPle_nozband_ran10_3_full_tol1e5/random_x180_dmass_spt.fits', rand_no_mask)"
   ]
  },
  {
   "cell_type": "code",
   "execution_count": 153,
   "metadata": {},
   "outputs": [],
   "source": [
    "#fitsio.write( '../output/sfd_train_photo_SamPle_nozband_ran10_3_full_tol1e5/random_x50_dmass_spt_v2.fits', rand_no_mask[rand_no_mask_50_ind])"
   ]
  },
  {
   "cell_type": "code",
   "execution_count": 23,
   "metadata": {},
   "outputs": [
    {
     "name": "stdout",
     "output_type": "stream",
     "text": [
      "135700 6777228\n",
      "10440 12639\n"
     ]
    }
   ],
   "source": [
    "rand_cmass = uniform_random_on_sphere(cmass, size = 10*cmass.size)\n",
    "rand_cmass = Cuts.keepGoodRegion(rand_cmass)\n",
    "rand_cmass = rand_cmass[ rand_cmass['DEC'] > -3.0 ]\n",
    "\n",
    "rand2_cmass = uniform_random_on_sphere(cmass, size = 10*cmass.size)\n",
    "rand2_cmass = Cuts.keepGoodRegion(rand2_cmass)\n",
    "rand2_cmass = rand2_cmass[ rand2_cmass['DEC'] > -3.0 ]\n",
    "\n",
    "print rand.size, dmass.size\n",
    "print rand_cmass.size, cmass.size\n",
    "#rand_train = uniform_random_on_sphere(clean_cmass_data_des, size = 10 * clean_cmass_data_des.size)\n",
    "#rand_train = Cuts.keepGoodRegion(rand_train)"
   ]
  },
  {
   "cell_type": "markdown",
   "metadata": {},
   "source": [
    "# Systematics "
   ]
  },
  {
   "cell_type": "code",
   "execution_count": 8,
   "metadata": {},
   "outputs": [],
   "source": [
    "kind = 'SPT'\n",
    "#FullArea = SPTMaparea\n",
    "#properties = ['DEPTH','EXPTIME']\n",
    "#properties = ['DEPTH', 'EXPTIME', 'AIRMASS', 'SKYBRITE', 'FWHM', 'NSTARS']\n",
    "properties = ['DEPTH', 'EXPTIME', 'AIRMASS', 'SKYBRITE', 'FWHM']\n",
    "#properties = ['GE', 'NSTARS_allband']\n",
    "#properties = ['FWHM']\n",
    "suffix='no_weight'\n",
    "# calculating galaxy density and weights iterately"
   ]
  },
  {
   "cell_type": "code",
   "execution_count": 20,
   "metadata": {},
   "outputs": [
    {
     "name": "stdout",
     "output_type": "stream",
     "text": [
      "\n",
      "PATH =  /n/des/lee.5922/data/systematic_maps/Y1A1NEW_COADD_SPT/nside4096_oversamp4/\n",
      "Y1A1NEW_COADD_SPT_band_g_nside4096_oversamp4_maglimit3__.fits.gz\n",
      "NSIDE = 4096\n",
      "ORDERING = RING in fits file\n",
      "INDXSCHM = EXPLICIT\n",
      "\n",
      "PATH =  /n/des/lee.5922/data/systematic_maps/Y1A1NEW_COADD_SPT/nside4096_oversamp4/\n",
      "Y1A1NEW_COADD_SPT_band_r_nside4096_oversamp4_maglimit3__.fits.gz\n",
      "NSIDE = 4096\n",
      "ORDERING = RING in fits file\n",
      "INDXSCHM = EXPLICIT\n",
      "\n",
      "PATH =  /n/des/lee.5922/data/systematic_maps/Y1A1NEW_COADD_SPT/nside4096_oversamp4/\n",
      "Y1A1NEW_COADD_SPT_band_i_nside4096_oversamp4_maglimit3__.fits.gz\n",
      "NSIDE = 4096\n",
      "ORDERING = RING in fits file\n",
      "INDXSCHM = EXPLICIT\n",
      "\n",
      "PATH =  /n/des/lee.5922/data/systematic_maps/Y1A1NEW_COADD_SPT/nside4096_oversamp4/\n",
      "Y1A1NEW_COADD_SPT_band_z_nside4096_oversamp4_maglimit3__.fits.gz\n",
      "NSIDE = 4096\n",
      "ORDERING = RING in fits file\n",
      "INDXSCHM = EXPLICIT\n",
      "\n",
      "PATH =  /n/des/lee.5922/data/systematic_maps/Y1A1NEW_COADD_SPT/nside4096_oversamp4/\n",
      "Y1A1NEW_COADD_SPT_band_g_nside4096_oversamp4_EXPTIME__total.fits.gz\n",
      "NSIDE = 4096\n",
      "ORDERING = RING in fits file\n",
      "INDXSCHM = EXPLICIT\n",
      "\n",
      "PATH =  /n/des/lee.5922/data/systematic_maps/Y1A1NEW_COADD_SPT/nside4096_oversamp4/\n",
      "Y1A1NEW_COADD_SPT_band_r_nside4096_oversamp4_EXPTIME__total.fits.gz\n",
      "NSIDE = 4096\n",
      "ORDERING = RING in fits file\n",
      "INDXSCHM = EXPLICIT\n",
      "\n",
      "PATH =  /n/des/lee.5922/data/systematic_maps/Y1A1NEW_COADD_SPT/nside4096_oversamp4/\n",
      "Y1A1NEW_COADD_SPT_band_i_nside4096_oversamp4_EXPTIME__total.fits.gz\n",
      "NSIDE = 4096\n",
      "ORDERING = RING in fits file\n",
      "INDXSCHM = EXPLICIT\n",
      "\n",
      "PATH =  /n/des/lee.5922/data/systematic_maps/Y1A1NEW_COADD_SPT/nside4096_oversamp4/\n",
      "Y1A1NEW_COADD_SPT_band_z_nside4096_oversamp4_EXPTIME__total.fits.gz\n",
      "NSIDE = 4096\n",
      "ORDERING = RING in fits file\n",
      "INDXSCHM = EXPLICIT\n",
      "\n",
      "PATH =  /n/des/lee.5922/data/systematic_maps/Y1A1NEW_COADD_SPT/nside4096_oversamp4/\n",
      "Y1A1NEW_COADD_SPT_band_g_nside4096_oversamp4_AIRMASS_coaddweights3_mean.fits.gz\n",
      "NSIDE = 4096\n",
      "ORDERING = RING in fits file\n",
      "INDXSCHM = EXPLICIT\n",
      "\n",
      "PATH =  /n/des/lee.5922/data/systematic_maps/Y1A1NEW_COADD_SPT/nside4096_oversamp4/\n",
      "Y1A1NEW_COADD_SPT_band_r_nside4096_oversamp4_AIRMASS_coaddweights3_mean.fits.gz\n",
      "NSIDE = 4096\n",
      "ORDERING = RING in fits file\n",
      "INDXSCHM = EXPLICIT\n",
      "\n",
      "PATH =  /n/des/lee.5922/data/systematic_maps/Y1A1NEW_COADD_SPT/nside4096_oversamp4/\n",
      "Y1A1NEW_COADD_SPT_band_i_nside4096_oversamp4_AIRMASS_coaddweights3_mean.fits.gz\n",
      "NSIDE = 4096\n",
      "ORDERING = RING in fits file\n",
      "INDXSCHM = EXPLICIT\n",
      "\n",
      "PATH =  /n/des/lee.5922/data/systematic_maps/Y1A1NEW_COADD_SPT/nside4096_oversamp4/\n",
      "Y1A1NEW_COADD_SPT_band_z_nside4096_oversamp4_AIRMASS_coaddweights3_mean.fits.gz\n",
      "NSIDE = 4096\n",
      "ORDERING = RING in fits file\n",
      "INDXSCHM = EXPLICIT\n",
      "\n",
      "PATH =  /n/des/lee.5922/data/systematic_maps/Y1A1NEW_COADD_SPT/nside4096_oversamp4/\n",
      "Y1A1NEW_COADD_SPT_band_g_nside4096_oversamp4_SKYBRITE_coaddweights3_mean.fits.gz\n",
      "NSIDE = 4096\n",
      "ORDERING = RING in fits file\n",
      "INDXSCHM = EXPLICIT\n",
      "\n",
      "PATH =  /n/des/lee.5922/data/systematic_maps/Y1A1NEW_COADD_SPT/nside4096_oversamp4/\n",
      "Y1A1NEW_COADD_SPT_band_r_nside4096_oversamp4_SKYBRITE_coaddweights3_mean.fits.gz\n",
      "NSIDE = 4096\n",
      "ORDERING = RING in fits file\n",
      "INDXSCHM = EXPLICIT\n",
      "\n",
      "PATH =  /n/des/lee.5922/data/systematic_maps/Y1A1NEW_COADD_SPT/nside4096_oversamp4/\n",
      "Y1A1NEW_COADD_SPT_band_i_nside4096_oversamp4_SKYBRITE_coaddweights3_mean.fits.gz\n",
      "NSIDE = 4096\n",
      "ORDERING = RING in fits file\n",
      "INDXSCHM = EXPLICIT\n",
      "\n",
      "PATH =  /n/des/lee.5922/data/systematic_maps/Y1A1NEW_COADD_SPT/nside4096_oversamp4/\n",
      "Y1A1NEW_COADD_SPT_band_z_nside4096_oversamp4_SKYBRITE_coaddweights3_mean.fits.gz\n",
      "NSIDE = 4096\n",
      "ORDERING = RING in fits file\n",
      "INDXSCHM = EXPLICIT\n",
      "\n",
      "PATH =  /n/des/lee.5922/data/systematic_maps/seeing_i_spt/\n",
      "Y1A1NEW_COADD_SPT_band_g_nside4096_oversamp4_FWHM_MEAN_coaddweights3_mean.fits.gz\n",
      "NSIDE = 4096\n",
      "ORDERING = RING in fits file\n",
      "INDXSCHM = EXPLICIT\n",
      "\n",
      "PATH =  /n/des/lee.5922/data/systematic_maps/seeing_i_spt/\n",
      "Y1A1NEW_COADD_SPT_band_r_nside4096_oversamp4_FWHM_MEAN_coaddweights3_mean.fits.gz\n",
      "NSIDE = 4096\n",
      "ORDERING = RING in fits file\n",
      "INDXSCHM = EXPLICIT\n",
      "\n",
      "PATH =  /n/des/lee.5922/data/systematic_maps/seeing_i_spt/\n",
      "Y1A1NEW_COADD_SPT_band_i_nside4096_oversamp4_FWHM_MEAN_coaddweights3_mean.fits.gz\n",
      "NSIDE = 4096\n",
      "ORDERING = RING in fits file\n",
      "INDXSCHM = EXPLICIT\n",
      "\n",
      "PATH =  /n/des/lee.5922/data/systematic_maps/seeing_i_spt/\n",
      "Y1A1NEW_COADD_SPT_band_z_nside4096_oversamp4_FWHM_MEAN_coaddweights3_mean.fits.gz\n",
      "NSIDE = 4096\n",
      "ORDERING = RING in fits file\n",
      "INDXSCHM = EXPLICIT\n"
     ]
    }
   ],
   "source": [
    "sysMap = calling_sysMap( properties=properties, kind='SPT', nside=4096 )"
   ]
  },
  {
   "cell_type": "code",
   "execution_count": 21,
   "metadata": {
    "scrolled": true
   },
   "outputs": [
    {
     "name": "stdout",
     "output_type": "stream",
     "text": [
      "\n",
      "PATH =  /n/des/lee.5922/data/systematic_maps/Y1A1NEW_COADD_SPT/nside4096_oversamp4/\n",
      "y1a1_gold_1.0.2_stars_nside1024.fits\n",
      "NSIDE = 1024\n",
      "ORDERING = RING in fits file\n",
      "INDXSCHM = IMPLICIT\n",
      "DOWNGRADE =  1024\n"
     ]
    }
   ],
   "source": [
    "sysMap_nstar = calling_sysMap( properties=['NSTARS_allband'], kind='SPT', nside=4096 )\n",
    "sysMap_ge = calling_sysMap( properties=['GE'], kind='SPT', nside=4096 )"
   ]
  },
  {
   "cell_type": "code",
   "execution_count": 22,
   "metadata": {},
   "outputs": [],
   "source": [
    "sysMap_st82 = calling_sysMap( properties=['GE'], kind='STRIPE82', nside=4096 )"
   ]
  },
  {
   "cell_type": "code",
   "execution_count": 23,
   "metadata": {
    "collapsed": true
   },
   "outputs": [
    {
     "name": "stdout",
     "output_type": "stream",
     "text": [
      "685616 665582\n",
      "mask  0.9707795617371824\n"
     ]
    },
    {
     "ename": "NameError",
     "evalue": "name 'rand' is not defined",
     "output_type": "error",
     "traceback": [
      "\u001b[0;31m---------------------------------------------------------------------------\u001b[0m",
      "\u001b[0;31mNameError\u001b[0m                                 Traceback (most recent call last)",
      "\u001b[0;32m<ipython-input-23-5640aeac064a>\u001b[0m in \u001b[0;36m<module>\u001b[0;34m()\u001b[0m\n\u001b[1;32m      1\u001b[0m \u001b[0mdmass_masked\u001b[0m \u001b[0;34m=\u001b[0m \u001b[0mmaskingCatalogSP\u001b[0m\u001b[0;34m(\u001b[0m\u001b[0mcatalog\u001b[0m\u001b[0;34m=\u001b[0m\u001b[0mdmass\u001b[0m\u001b[0;34m,\u001b[0m \u001b[0msysMap\u001b[0m\u001b[0;34m=\u001b[0m\u001b[0msysMap\u001b[0m\u001b[0;34m)\u001b[0m\u001b[0;34m\u001b[0m\u001b[0m\n\u001b[0;32m----> 2\u001b[0;31m \u001b[0mrand_masked\u001b[0m \u001b[0;34m=\u001b[0m \u001b[0mmaskingCatalogSP\u001b[0m\u001b[0;34m(\u001b[0m\u001b[0mcatalog\u001b[0m\u001b[0;34m=\u001b[0m\u001b[0mrand\u001b[0m\u001b[0;34m,\u001b[0m \u001b[0msysMap\u001b[0m\u001b[0;34m=\u001b[0m\u001b[0msysMap\u001b[0m\u001b[0;34m)\u001b[0m\u001b[0;34m\u001b[0m\u001b[0m\n\u001b[0m\u001b[1;32m      3\u001b[0m \u001b[0mrand2_masked\u001b[0m \u001b[0;34m=\u001b[0m \u001b[0mmaskingCatalogSP\u001b[0m\u001b[0;34m(\u001b[0m\u001b[0mcatalog\u001b[0m\u001b[0;34m=\u001b[0m\u001b[0mrand2\u001b[0m\u001b[0;34m,\u001b[0m \u001b[0msysMap\u001b[0m\u001b[0;34m=\u001b[0m\u001b[0msysMap\u001b[0m\u001b[0;34m)\u001b[0m\u001b[0;34m\u001b[0m\u001b[0m\n",
      "\u001b[0;31mNameError\u001b[0m: name 'rand' is not defined"
     ]
    }
   ],
   "source": [
    "dmass_masked = maskingCatalogSP(catalog=dmass, sysMap=sysMap)\n",
    "rand_masked = maskingCatalogSP(catalog=rand, sysMap=sysMap)\n",
    "rand2_masked = maskingCatalogSP(catalog=rand2, sysMap=sysMap)"
   ]
  },
  {
   "cell_type": "markdown",
   "metadata": {},
   "source": [
    "# Appling weights "
   ]
  },
  {
   "cell_type": "code",
   "execution_count": 113,
   "metadata": {},
   "outputs": [
    {
     "data": {
      "text/plain": [
       "'wg_fwhm_r_airmass_z_exptime_g_fwhm_i_airmass_g_fwhm_g'"
      ]
     },
     "execution_count": 113,
     "metadata": {},
     "output_type": "execute_result"
    }
   ],
   "source": [
    "suffix"
   ]
  },
  {
   "cell_type": "code",
   "execution_count": 9,
   "metadata": {},
   "outputs": [
    {
     "name": "stdout",
     "output_type": "stream",
     "text": [
      "['fwhm_r', 'airmass_z', 'exptime_g', 'fwhm_i', 'airmass_g', 'fwhm_g', 'airmass_i', 'skybrite_i']\n",
      "['vetoed', 'fwhm_g', 'airmass_z', 'fwhm_r', 'fwhm_i', 'airmass_g', 'airmass_i', 'skybrite_i', 'exptime_g']\n",
      "vetoed\n",
      "fwhm_g\n"
     ]
    },
    {
     "ename": "ValueError",
     "evalue": "operands could not be broadcast together with shapes (685616,) (6777228,) (685616,) ",
     "output_type": "error",
     "traceback": [
      "\u001b[0;31m---------------------------------------------------------------------------\u001b[0m",
      "\u001b[0;31mValueError\u001b[0m                                Traceback (most recent call last)",
      "\u001b[0;32m<ipython-input-9-087307584058>\u001b[0m in \u001b[0;36m<module>\u001b[0;34m()\u001b[0m\n\u001b[1;32m     18\u001b[0m     \u001b[0mweightDic_re\u001b[0m\u001b[0;34m[\u001b[0m\u001b[0mo\u001b[0m\u001b[0;34m]\u001b[0m \u001b[0;34m=\u001b[0m \u001b[0mw\u001b[0m \u001b[0;31m#[maskhp]\u001b[0m\u001b[0;34m\u001b[0m\u001b[0m\n\u001b[1;32m     19\u001b[0m \u001b[0;34m\u001b[0m\u001b[0m\n\u001b[0;32m---> 20\u001b[0;31m \u001b[0mall_weight\u001b[0m \u001b[0;34m=\u001b[0m \u001b[0mweightmultiply\u001b[0m\u001b[0;34m(\u001b[0m\u001b[0mweightDic_re\u001b[0m\u001b[0;34m)\u001b[0m\u001b[0;34m\u001b[0m\u001b[0m\n\u001b[0m",
      "\u001b[0;32m/n/des/lee.5922/Dropbox/repositories/CMASS/code/run_systematics.pyc\u001b[0m in \u001b[0;36mweightmultiply\u001b[0;34m(weightDic)\u001b[0m\n\u001b[1;32m     17\u001b[0m     \u001b[0;32mfor\u001b[0m \u001b[0mi\u001b[0m \u001b[0;32min\u001b[0m \u001b[0mrange\u001b[0m\u001b[0;34m(\u001b[0m\u001b[0mn\u001b[0m\u001b[0;34m)\u001b[0m\u001b[0;34m:\u001b[0m\u001b[0;34m\u001b[0m\u001b[0m\n\u001b[1;32m     18\u001b[0m         \u001b[0;32mprint\u001b[0m \u001b[0mnames\u001b[0m\u001b[0;34m[\u001b[0m\u001b[0mi\u001b[0m\u001b[0;34m]\u001b[0m\u001b[0;34m\u001b[0m\u001b[0m\n\u001b[0;32m---> 19\u001b[0;31m         \u001b[0mw0\u001b[0m \u001b[0;34m*=\u001b[0m \u001b[0mweightDic\u001b[0m\u001b[0;34m[\u001b[0m\u001b[0mnames\u001b[0m\u001b[0;34m[\u001b[0m\u001b[0mi\u001b[0m\u001b[0;34m]\u001b[0m\u001b[0;34m]\u001b[0m\u001b[0;34m\u001b[0m\u001b[0m\n\u001b[0m\u001b[1;32m     20\u001b[0m \u001b[0;34m\u001b[0m\u001b[0m\n\u001b[1;32m     21\u001b[0m     \u001b[0;32mreturn\u001b[0m \u001b[0mw0\u001b[0m\u001b[0;34m\u001b[0m\u001b[0m\n",
      "\u001b[0;31mValueError\u001b[0m: operands could not be broadcast together with shapes (685616,) (6777228,) (685616,) "
     ]
    }
   ],
   "source": [
    "#suf = 'wg_fwhm_r_airmass_z_exptime_g_fwhm_i_airmass_g_fwhm_g'\n",
    "suf = 'wg_fwhm_r_airmass_z_exptime_g_fwhm_i_airmass_g_fwhm_g_airmass_i_skybrite_i'\n",
    "#suf = 'wg_fwhm_r_airmass_z_fwhm_i_skybrite_i_fwhm_g_airmass_g_fwhm_z_exptime_g_airmass_i_exptime_z_skybrite_z_airmass_r_skybrite_g'\n",
    "#suf = 'wg_fwhm_r_airmass_z_fwhm_i_skybrite_i_fwhm_g_airmass_g_fwhm_z_exptime_g_airmass_i_exptime_z'\n",
    "\n",
    "orderlabel = suf.split('_')[1:]\n",
    "order = []\n",
    "for i in np.arange(0, len(orderlabel), 2):\n",
    "    order.append( orderlabel[i]+'_'+orderlabel[i+1] )\n",
    "print order\n",
    "\n",
    "weightDic_re = {}\n",
    "weightDic_re['vetoed'] = dmass['CMASS_PROB'] * dmass['VETO']\n",
    "#maskhp = maskingCatalogSP(catalog=dmass, maskonly=True, sysMap=sysMap)\n",
    "#weightDic_re['vetoed'][~maskhp] = 0 \n",
    "for o in order : \n",
    "    w = fitsio.read(sysoutdir+'weights/wg_'+o+'_SPT.fits')\n",
    "    weightDic_re[o] = w #[maskhp]\n",
    "    \n",
    "all_weight = weightmultiply(weightDic_re)"
   ]
  },
  {
   "cell_type": "code",
   "execution_count": null,
   "metadata": {},
   "outputs": [],
   "source": [
    "#pname = 'skybrite_i'\n",
    "#w = fitsio.read(sysoutdir+'weights/wg_'+pname+'_SPT.fits')\n",
    "#print w.size\n",
    "#emptyarray = np.zeros(dmass.size)\n",
    "#emptyarray[maskhp] = w\n",
    "#fitsio.write(sysoutdir+'weights/wg_'+pname+'_SPT.fits', emptyarray, clobber=True)"
   ]
  },
  {
   "cell_type": "code",
   "execution_count": 12,
   "metadata": {},
   "outputs": [],
   "source": [
    "weightslist = [fitsio.read(wdir+'wg_'+o+'_SPT.fits') for o in order]\n",
    "#all_weight = np.ones(weightslist[0].size)"
   ]
  },
  {
   "cell_type": "code",
   "execution_count": 34,
   "metadata": {},
   "outputs": [
    {
     "data": {
      "text/plain": [
       "117292.90214602613"
      ]
     },
     "execution_count": 34,
     "metadata": {},
     "output_type": "execute_result"
    }
   ],
   "source": [
    "np.sum(dmass['CMASS_PROB'])"
   ]
  },
  {
   "cell_type": "code",
   "execution_count": 155,
   "metadata": {},
   "outputs": [
    {
     "data": {
      "text/plain": [
       "('RA', 'DEC', 'DESDM_ZP', 'HPIX', 'VETO', 'GOLD_FRAC')"
      ]
     },
     "execution_count": 155,
     "metadata": {},
     "output_type": "execute_result"
    }
   ],
   "source": [
    "rand_no_mask.dtype.names"
   ]
  },
  {
   "cell_type": "code",
   "execution_count": 160,
   "metadata": {},
   "outputs": [],
   "source": [
    "rand_no_mask = appendColumn(cat=rand_no_mask, name='WEIGHT_RAND', \n",
    "                            value = rand_no_mask['GOLD_FRAC'] ) # * rand_no_mask['VETO'] )\n",
    "\n",
    "dmass = appendColumn(cat=dmass, name='WEIGHT',\n",
    "                            value = dmass['CMASS_PROB'] )"
   ]
  },
  {
   "cell_type": "code",
   "execution_count": 161,
   "metadata": {
    "collapsed": true
   },
   "outputs": [
    {
     "ename": "KeyboardInterrupt",
     "evalue": "",
     "output_type": "error",
     "traceback": [
      "\u001b[0;31m---------------------------------------------------------------------------\u001b[0m",
      "\u001b[0;31mKeyboardInterrupt\u001b[0m                         Traceback (most recent call last)",
      "\u001b[0;32m<ipython-input-161-f87e579788ad>\u001b[0m in \u001b[0;36m<module>\u001b[0;34m()\u001b[0m\n\u001b[1;32m      2\u001b[0m dd, dr, rr = NNpairCount(data = dmass, rand = rand_no_mask, \n\u001b[1;32m      3\u001b[0m                     \u001b[0mnbins\u001b[0m\u001b[0;34m=\u001b[0m\u001b[0;36m10\u001b[0m\u001b[0;34m,\u001b[0m \u001b[0mbin_slop\u001b[0m\u001b[0;34m=\u001b[0m\u001b[0;36m0.05\u001b[0m\u001b[0;34m,\u001b[0m \u001b[0mweight_data\u001b[0m \u001b[0;34m=\u001b[0m \u001b[0mTrue\u001b[0m\u001b[0;34m,\u001b[0m \u001b[0mweight_rand\u001b[0m \u001b[0;34m=\u001b[0m \u001b[0mTrue\u001b[0m\u001b[0;34m,\u001b[0m\u001b[0;34m\u001b[0m\u001b[0m\n\u001b[0;32m----> 4\u001b[0;31m                     suffix = '_DMASS_pcut_NOWEIGHT_FRAC_10bins', dir = basedir)\n\u001b[0m\u001b[1;32m      5\u001b[0m \u001b[0;32mprint\u001b[0m \u001b[0mdd\u001b[0m\u001b[0;34m.\u001b[0m\u001b[0mtot\u001b[0m\u001b[0;34m,\u001b[0m \u001b[0mdr\u001b[0m\u001b[0;34m.\u001b[0m\u001b[0mtot\u001b[0m\u001b[0;34m,\u001b[0m \u001b[0mrr\u001b[0m\u001b[0;34m.\u001b[0m\u001b[0mtot\u001b[0m\u001b[0;34m\u001b[0m\u001b[0m\n",
      "\u001b[0;32m<ipython-input-12-08baf67611bd>\u001b[0m in \u001b[0;36mNNpairCount\u001b[0;34m(data, rand, weight_data, weight_rand, nbins, min_sep, bin_slop, max_sep, dir, suffix)\u001b[0m\n\u001b[1;32m     21\u001b[0m \u001b[0;34m\u001b[0m\u001b[0m\n\u001b[1;32m     22\u001b[0m     \u001b[0mdd\u001b[0m\u001b[0;34m.\u001b[0m\u001b[0mprocess\u001b[0m\u001b[0;34m(\u001b[0m\u001b[0mcat\u001b[0m\u001b[0;34m)\u001b[0m\u001b[0;34m\u001b[0m\u001b[0m\n\u001b[0;32m---> 23\u001b[0;31m     \u001b[0mdr\u001b[0m\u001b[0;34m.\u001b[0m\u001b[0mprocess\u001b[0m\u001b[0;34m(\u001b[0m\u001b[0mcat\u001b[0m\u001b[0;34m,\u001b[0m\u001b[0mcat_rand\u001b[0m\u001b[0;34m)\u001b[0m\u001b[0;34m\u001b[0m\u001b[0m\n\u001b[0m\u001b[1;32m     24\u001b[0m     \u001b[0mrr\u001b[0m\u001b[0;34m.\u001b[0m\u001b[0mprocess\u001b[0m\u001b[0;34m(\u001b[0m\u001b[0mcat_rand\u001b[0m\u001b[0;34m)\u001b[0m\u001b[0;34m\u001b[0m\u001b[0m\n\u001b[1;32m     25\u001b[0m \u001b[0;34m\u001b[0m\u001b[0m\n",
      "\u001b[0;32m/home/lee.5922/.local/lib/python2.7/site-packages/treecorr/nncorrelation.pyc\u001b[0m in \u001b[0;36mprocess\u001b[0;34m(self, cat1, cat2, metric, num_threads)\u001b[0m\n\u001b[1;32m    319\u001b[0m             \u001b[0mself\u001b[0m\u001b[0;34m.\u001b[0m\u001b[0m_process_all_auto\u001b[0m\u001b[0;34m(\u001b[0m\u001b[0mcat1\u001b[0m\u001b[0;34m,\u001b[0m\u001b[0mmetric\u001b[0m\u001b[0;34m,\u001b[0m\u001b[0mnum_threads\u001b[0m\u001b[0;34m)\u001b[0m\u001b[0;34m\u001b[0m\u001b[0m\n\u001b[1;32m    320\u001b[0m         \u001b[0;32melse\u001b[0m\u001b[0;34m:\u001b[0m\u001b[0;34m\u001b[0m\u001b[0m\n\u001b[0;32m--> 321\u001b[0;31m             \u001b[0mself\u001b[0m\u001b[0;34m.\u001b[0m\u001b[0m_process_all_cross\u001b[0m\u001b[0;34m(\u001b[0m\u001b[0mcat1\u001b[0m\u001b[0;34m,\u001b[0m\u001b[0mcat2\u001b[0m\u001b[0;34m,\u001b[0m\u001b[0mmetric\u001b[0m\u001b[0;34m,\u001b[0m\u001b[0mnum_threads\u001b[0m\u001b[0;34m)\u001b[0m\u001b[0;34m\u001b[0m\u001b[0m\n\u001b[0m\u001b[1;32m    322\u001b[0m         \u001b[0mself\u001b[0m\u001b[0;34m.\u001b[0m\u001b[0mfinalize\u001b[0m\u001b[0;34m(\u001b[0m\u001b[0;34m)\u001b[0m\u001b[0;34m\u001b[0m\u001b[0m\n\u001b[1;32m    323\u001b[0m \u001b[0;34m\u001b[0m\u001b[0m\n",
      "\u001b[0;32m/home/lee.5922/.local/lib/python2.7/site-packages/treecorr/binnedcorr2.pyc\u001b[0m in \u001b[0;36m_process_all_cross\u001b[0;34m(self, cat1, cat2, metric, num_threads)\u001b[0m\n\u001b[1;32m    307\u001b[0m             \u001b[0;32mfor\u001b[0m \u001b[0mc1\u001b[0m \u001b[0;32min\u001b[0m \u001b[0mcat1\u001b[0m\u001b[0;34m:\u001b[0m\u001b[0;34m\u001b[0m\u001b[0m\n\u001b[1;32m    308\u001b[0m                 \u001b[0;32mfor\u001b[0m \u001b[0mc2\u001b[0m \u001b[0;32min\u001b[0m \u001b[0mcat2\u001b[0m\u001b[0;34m:\u001b[0m\u001b[0;34m\u001b[0m\u001b[0m\n\u001b[0;32m--> 309\u001b[0;31m                     \u001b[0mself\u001b[0m\u001b[0;34m.\u001b[0m\u001b[0mprocess_cross\u001b[0m\u001b[0;34m(\u001b[0m\u001b[0mc1\u001b[0m\u001b[0;34m,\u001b[0m\u001b[0mc2\u001b[0m\u001b[0;34m,\u001b[0m\u001b[0mmetric\u001b[0m\u001b[0;34m,\u001b[0m\u001b[0mnum_threads\u001b[0m\u001b[0;34m)\u001b[0m\u001b[0;34m\u001b[0m\u001b[0m\n\u001b[0m\u001b[1;32m    310\u001b[0m \u001b[0;34m\u001b[0m\u001b[0m\n\u001b[1;32m    311\u001b[0m     \u001b[0;32mdef\u001b[0m \u001b[0m_set_num_threads\u001b[0m\u001b[0;34m(\u001b[0m\u001b[0mself\u001b[0m\u001b[0;34m,\u001b[0m \u001b[0mnum_threads\u001b[0m\u001b[0;34m)\u001b[0m\u001b[0;34m:\u001b[0m\u001b[0;34m\u001b[0m\u001b[0m\n",
      "\u001b[0;32m/home/lee.5922/.local/lib/python2.7/site-packages/treecorr/nncorrelation.pyc\u001b[0m in \u001b[0;36mprocess_cross\u001b[0;34m(self, cat1, cat2, metric, num_threads)\u001b[0m\n\u001b[1;32m    184\u001b[0m         \u001b[0mself\u001b[0m\u001b[0;34m.\u001b[0m\u001b[0mlogger\u001b[0m\u001b[0;34m.\u001b[0m\u001b[0minfo\u001b[0m\u001b[0;34m(\u001b[0m\u001b[0;34m'Starting %d jobs.'\u001b[0m\u001b[0;34m,\u001b[0m\u001b[0mf1\u001b[0m\u001b[0;34m.\u001b[0m\u001b[0mnTopLevelNodes\u001b[0m\u001b[0;34m)\u001b[0m\u001b[0;34m\u001b[0m\u001b[0m\n\u001b[1;32m    185\u001b[0m         treecorr._lib.ProcessCrossNN(self.corr, f1.data, f2.data, self.output_dots,\n\u001b[0;32m--> 186\u001b[0;31m                                      self._coords, self._metric)\n\u001b[0m\u001b[1;32m    187\u001b[0m         \u001b[0mself\u001b[0m\u001b[0;34m.\u001b[0m\u001b[0mtot\u001b[0m \u001b[0;34m+=\u001b[0m \u001b[0mcat1\u001b[0m\u001b[0;34m.\u001b[0m\u001b[0msumw\u001b[0m\u001b[0;34m*\u001b[0m\u001b[0mcat2\u001b[0m\u001b[0;34m.\u001b[0m\u001b[0msumw\u001b[0m\u001b[0;34m\u001b[0m\u001b[0m\n\u001b[1;32m    188\u001b[0m \u001b[0;34m\u001b[0m\u001b[0m\n",
      "\u001b[0;31mKeyboardInterrupt\u001b[0m: "
     ]
    }
   ],
   "source": [
    "#randind = np.random.choice(rand_no_mask.size, size = rand_no_mask.size/4)\n",
    "#dd, dr, rr = NNpairCount(data = dmass, rand = rand_no_mask, \n",
    "#                    nbins=10, bin_slop=0.05, weight_data = True, weight_rand = True, \n",
    "#                    suffix = '_DMASS_pcut_NOWEIGHT_FRAC_10bins', dir = basedir)\n",
    "#print dd.tot, dr.tot, rr.tot"
   ]
  },
  {
   "cell_type": "code",
   "execution_count": 166,
   "metadata": {},
   "outputs": [
    {
     "name": "stdout",
     "output_type": "stream",
     "text": [
      "saving data file to :  ../output/sfd_train_photo_SamPle_nozband_ran10_3_full_tol1e5//act//acf_auto_poisson_DMASS_pcut_NOWEIGHT_FRAC_10bins.txt\n"
     ]
    }
   ],
   "source": [
    "\n",
    "angular_correlation_poisson(data = dmass, rand = rand_no_mask, \n",
    "                    nbins=10, bin_slop=0.05, weight_data = True, weight_rand = True, \n",
    "                    suffix = '_DMASS_pcut_NOWEIGHT_FRAC_10bins', dir = basedir)"
   ]
  },
  {
   "cell_type": "code",
   "execution_count": 168,
   "metadata": {},
   "outputs": [
    {
     "name": "stdout",
     "output_type": "stream",
     "text": [
      "5783834.90625\n"
     ]
    }
   ],
   "source": [
    "print np.sum(rand_no_mask['WEIGHT_RAND'])"
   ]
  },
  {
   "cell_type": "code",
   "execution_count": 169,
   "metadata": {},
   "outputs": [],
   "source": [
    "rand_no_mask = appendColumn(cat=rand_no_mask, name='WEIGHT_RAND', \n",
    "                            value = rand_no_mask['GOLD_FRAC'] * rand_no_mask['VETO'] )\n",
    "dmass = appendColumn(cat=dmass, name='WEIGHT',\n",
    "                            value = dmass['CMASS_PROB'] * dmass['WEIGHT0_fwhm_r'] * dmass['WEIGHT1_airmass_z'] )"
   ]
  },
  {
   "cell_type": "code",
   "execution_count": 170,
   "metadata": {},
   "outputs": [
    {
     "name": "stdout",
     "output_type": "stream",
     "text": [
      "5667910.296875\n"
     ]
    }
   ],
   "source": [
    "print np.sum(rand_no_mask['WEIGHT_RAND'])"
   ]
  },
  {
   "cell_type": "code",
   "execution_count": 171,
   "metadata": {},
   "outputs": [
    {
     "name": "stdout",
     "output_type": "stream",
     "text": [
      "saving data file to :  ../output/sfd_train_photo_SamPle_nozband_ran10_3_full_tol1e5//act//acf_auto_poisson_DMASS_pcut_sysweight_FRAC_10bins.txt\n"
     ]
    }
   ],
   "source": [
    "angular_correlation_poisson(data = dmass, rand = rand_no_mask, \n",
    "                    nbins=10, bin_slop=0.05, weight_data = True,  weight_rand = True, \n",
    "                    suffix = '_DMASS_pcut_sysweight_FRAC_10bins', dir = basedir)"
   ]
  },
  {
   "cell_type": "code",
   "execution_count": null,
   "metadata": {},
   "outputs": [],
   "source": []
  },
  {
   "cell_type": "code",
   "execution_count": 66,
   "metadata": {},
   "outputs": [
    {
     "name": "stdout",
     "output_type": "stream",
     "text": [
      "file save to ../output/sfd_train_photo_SamPle_nozband_ran10_3_full_tol1e5//act/npairs_DMASS_pcut_NOWEIGHT_10bins.txt\n",
      "6878812446.918631 627871837510.2316 1.43274383253e+13\n"
     ]
    }
   ],
   "source": [
    "randind = np.random.choice(rand_no_mask.size, size = rand_no_mask.size/4)\n",
    "dd, dr, rr = NNpairCount(data = dmass, rand = rand_no_mask[randind], \n",
    "                    nbins=10, bin_slop=0.05, weight_data = True, weight_rand = None, \n",
    "                    suffix = '_DMASS_pcut_NOWEIGHT_10bins', dir = basedir)\n",
    "print dd.tot, dr.tot, rr.tot"
   ]
  },
  {
   "cell_type": "code",
   "execution_count": 63,
   "metadata": {},
   "outputs": [
    {
     "name": "stdout",
     "output_type": "stream",
     "text": [
      "saving data file to :  ../output/sfd_train_photo_SamPle_nozband_ran10_3_full_tol1e5//act//acf_auto_poisson_DMASS_pcut_NOWEIGHT_10bins.txt\n"
     ]
    }
   ],
   "source": [
    "#dmass = appendColumn(cat = dmass, name='WEIGHT', value=dmass_weight)\n",
    "\n",
    "randind2 = np.random.choice( rand_no_mask.size, size = rand_no_mask.size/4)\n",
    "angular_correlation_poisson(data = dmass, rand = rand_no_mask[randind2], \n",
    "                    nbins=10, bin_slop=0.05, weight_data = True, \n",
    "                    suffix = '_DMASS_pcut_NOWEIGHT_10bins', dir = basedir)"
   ]
  },
  {
   "cell_type": "code",
   "execution_count": 69,
   "metadata": {},
   "outputs": [
    {
     "name": "stdout",
     "output_type": "stream",
     "text": [
      "#   R_nom       meanR       meanlogR        xi        sigma_xi        DD           RR           DR         npairs   \r\n",
      "  5.2455e-02   5.4621e-02  -2.9158e+00   1.8394e-01   5.0329e-03   4.6608e+04   3.9478e+04   3.9412e+04   1.5034e+06\r\n",
      "  8.3136e-02   8.6633e-02  -2.4545e+00   1.3526e-01   3.2031e-03   1.1030e+05   9.7466e+04   9.7293e+04   3.5903e+06\r\n",
      "  1.3176e-01   1.3738e-01  -1.9934e+00   9.4213e-02   2.0350e-03   2.6334e+05   2.4149e+05   2.4104e+05   8.6984e+06\r\n",
      "  2.0883e-01   2.1770e-01  -1.5330e+00   6.7161e-02   1.2912e-03   6.3807e+05   5.9977e+05   5.9878e+05   2.1292e+07\r\n",
      "  3.3097e-01   3.4517e-01  -1.0721e+00   4.5639e-02   8.2142e-04   1.5456e+06   1.4821e+06   1.4800e+06   5.1926e+07\r\n",
      "  5.2455e-01   5.4708e-01  -6.1153e-01   2.9190e-02   5.2353e-04   3.7497e+06   3.6485e+06   3.6458e+06   1.2676e+08\r\n",
      "  8.3136e-01   8.6690e-01  -1.5121e-01   1.7220e-02   3.3476e-04   9.0825e+06   8.9237e+06   8.9262e+06   3.0839e+08\r\n",
      "  1.3176e+00   1.3735e+00   3.0900e-01   1.0795e-02   2.1509e-04   2.1909e+07   2.1615e+07   2.1645e+07   7.4495e+08\r\n",
      "  2.0883e+00   2.1764e+00   7.6929e-01   5.3440e-03   1.3877e-04   5.2384e+07   5.1932e+07   5.2019e+07   1.7857e+09\r\n",
      "  3.3097e+00   3.4465e+00   1.2290e+00   2.2713e-03   9.0402e-05   1.2323e+08   1.2236e+08   1.2266e+08   4.2048e+09\r\n"
     ]
    }
   ],
   "source": [
    "cat ../output/sfd_train_photo_SamPle_nozband_ran10_3_full_tol1e5//act//acf_auto_poisson_DMASS_pcut_NOWEIGHT_10bins.npairs"
   ]
  },
  {
   "cell_type": "code",
   "execution_count": 70,
   "metadata": {},
   "outputs": [
    {
     "name": "stdout",
     "output_type": "stream",
     "text": [
      "#   R_nom       meanR       meanlogR        xi        sigma_xi        DD           RR           DR         npairs   \r\n",
      "  5.2455e-02   5.4621e-02  -2.9158e+00   1.8174e-01   5.0325e-03   4.6608e+04   3.9485e+04   3.9458e+04   1.5034e+06\r\n",
      "  8.3136e-02   8.6633e-02  -2.4545e+00   1.3452e-01   3.2026e-03   1.1030e+05   9.7498e+04   9.7343e+04   3.5903e+06\r\n",
      "  1.3176e-01   1.3738e-01  -1.9934e+00   9.4167e-02   2.0346e-03   2.6334e+05   2.4157e+05   2.4108e+05   8.6984e+06\r\n",
      "  2.0883e-01   2.1770e-01  -1.5330e+00   6.7241e-02   1.2911e-03   6.3807e+05   5.9988e+05   5.9881e+05   2.1292e+07\r\n",
      "  3.3097e-01   3.4517e-01  -1.0721e+00   4.5475e-02   8.2134e-04   1.5456e+06   1.4824e+06   1.4803e+06   5.1926e+07\r\n",
      "  5.2455e-01   5.4708e-01  -6.1153e-01   2.9000e-02   5.2349e-04   3.7497e+06   3.6490e+06   3.6464e+06   1.2676e+08\r\n",
      "  8.3136e-01   8.6690e-01  -1.5121e-01   1.7173e-02   3.3473e-04   9.0825e+06   8.9251e+06   8.9272e+06   3.0839e+08\r\n",
      "  1.3176e+00   1.3735e+00   3.0900e-01   1.0792e-02   2.1510e-04   2.1909e+07   2.1613e+07   2.1644e+07   7.4495e+08\r\n",
      "  2.0883e+00   2.1764e+00   7.6929e-01   5.3902e-03   1.3878e-04   5.2384e+07   5.1919e+07   5.2011e+07   1.7857e+09\r\n",
      "  3.3097e+00   3.4465e+00   1.2290e+00   2.3292e-03   9.0416e-05   1.2323e+08   1.2232e+08   1.2263e+08   4.2048e+09\r\n"
     ]
    }
   ],
   "source": [
    "cat ../output/sfd_train_photo_SamPle_nozband_ran10_3_full_tol1e5//act/npairs_DMASS_pcut_NOWEIGHT_10bins.txt"
   ]
  },
  {
   "cell_type": "code",
   "execution_count": null,
   "metadata": {},
   "outputs": [],
   "source": []
  },
  {
   "cell_type": "code",
   "execution_count": 30,
   "metadata": {},
   "outputs": [
    {
     "name": "stdout",
     "output_type": "stream",
     "text": [
      "saving data file to :  ../output/sfd_train_photo_SamPle_nozband_ran10_3_full_tol1e5//act//acf_auto_poisson_DMASS_pcut_NOWEIGHT_10bins.txt\n"
     ]
    },
    {
     "ename": "NameError",
     "evalue": "name 'stop' is not defined",
     "output_type": "error",
     "traceback": [
      "\u001b[0;31m---------------------------------------------------------------------------\u001b[0m",
      "\u001b[0;31mNameError\u001b[0m                                 Traceback (most recent call last)",
      "\u001b[0;32m<ipython-input-30-1b6d336dc435>\u001b[0m in \u001b[0;36m<module>\u001b[0;34m()\u001b[0m\n\u001b[1;32m     12\u001b[0m \u001b[0;34m\u001b[0m\u001b[0m\n\u001b[1;32m     13\u001b[0m \u001b[0;34m\u001b[0m\u001b[0m\n\u001b[0;32m---> 14\u001b[0;31m \u001b[0mstop\u001b[0m\u001b[0;34m\u001b[0m\u001b[0m\n\u001b[0m\u001b[1;32m     15\u001b[0m \u001b[0;34m\u001b[0m\u001b[0m\n\u001b[1;32m     16\u001b[0m \u001b[0;34m\u001b[0m\u001b[0m\n",
      "\u001b[0;31mNameError\u001b[0m: name 'stop' is not defined"
     ]
    }
   ],
   "source": [
    "from systematics_module.corr import angular_correlation_poisson\n",
    "randind = np.random.choice( rand2.size, size = rand2.size/4)\n",
    "randind2 = np.random.choice( rand_no_mask.size, size = rand_no_mask.size/4)\n",
    "\n",
    "\n",
    "dmass_weight = dmass['CMASS_PROB']\n",
    "dmass = appendColumn(cat = dmass, name='WEIGHT', value=dmass_weight)\n",
    "angular_correlation_poisson(data = dmass, rand = rand_no_mask[randind2], \n",
    "                    nbins=10, bin_slop=0.05, weight_data = True, \n",
    "                    suffix = '_DMASS_pcut_NOWEIGHT_10bins', dir = basedir)\n",
    "\n",
    "dmass_weight = dmass['CMASS_PROB']*dmass['VETO']\n",
    "dmass = appendColumn(cat = dmass, name='WEIGHT', value=dmass_weight)\n",
    "angular_correlation_poisson(data = dmass, rand = rand2[randind], \n",
    "                    nbins=10, bin_slop=0.05, weight_data = True, \n",
    "                    suffix = '_DMASS_pcut_VETO_10bins', dir = basedir)\n",
    "\n",
    "\n",
    "for ind in range(6):\n",
    "    for d in dmass.dtype.names:\n",
    "        if 'WEIGHT'+str(ind) in d : \n",
    "            dmass_weight = dmass_weight * dmass[d]\n",
    "            print d\n",
    "            #print dmass[d]\n",
    "        else : pass\n",
    "    dmass = appendColumn(cat = dmass, name='WEIGHT', value=dmass_weight)\n",
    "    angular_correlation_poisson(data = dmass, rand = rand2[randind], \n",
    "                    nbins=10, bin_slop=0.05, weight_data = True, \n",
    "                    suffix = '_DMASS_pcut_WEIGHT'+str(ind)+'_10bins', dir = basedir)"
   ]
  },
  {
   "cell_type": "code",
   "execution_count": null,
   "metadata": {},
   "outputs": [],
   "source": [
    "dmass['WEIGHT'] = dmass['CMASS_PROB'] * dmass['VETO']\n",
    "#pcut2 = (dmass['CMASS_PROB'] > 0.01)\n",
    "\n",
    "from systematics_module.corr import angular_correlation_poisson\n",
    "angular_correlation_poisson(data = dmass, rand = rand2, \n",
    "                    nbins=10, weight_data = True, \n",
    "                    suffix = '_dmass_no_veto_pcut01_nbins10_jk100', dir = basedir)"
   ]
  },
  {
   "cell_type": "code",
   "execution_count": 206,
   "metadata": {
    "collapsed": true
   },
   "outputs": [
    {
     "name": "stdout",
     "output_type": "stream",
     "text": [
      "calculate angular correlation function\n",
      "X (515, 2)  centers (50, 2)  tol=1e-05  maxiter=200\n",
      "11 iterations  cluster sizes: [11 12  9 16 20  6  7  6  9 10  9 15 17  7  4  6 20  5 19 12 11  9  3 10\n",
      " 17 10  3  6  6  1  9  7 17 10 14  7 18 10 19 16  5  7  2 10  3 11 11 26\n",
      "  7 10]\n",
      "X (66538, 2)  centers (50, 2)  tol=1e-05  maxiter=200\n",
      "131 iterations  cluster sizes: [1531 1580 1555 1198 1601 1368 1350 1057 1781  885 1273 1323 1276 1561\n",
      "  764 1688 1725 1161 1538 1262 1640 1531 1400 1252 1103 1675 1119 1019\n",
      " 1880 1145 1403 1434 1752  707 1439  815 1935 1751  560 1554  828 1581\n",
      " 1013  972 1129 1310  990 1563 1112 1449]\n",
      ". . . . . . . . . . . . . . . . . . . . . . . . . . . . . . . . . . . . . ."
     ]
    },
    {
     "ename": "KeyboardInterrupt",
     "evalue": "",
     "output_type": "error",
     "traceback": [
      "\u001b[0;31m---------------------------------------------------------------------------\u001b[0m",
      "\u001b[0;31mKeyboardInterrupt\u001b[0m                         Traceback (most recent call last)",
      "\u001b[0;32m<ipython-input-206-20d967517c41>\u001b[0m in \u001b[0;36m<module>\u001b[0;34m()\u001b[0m\n\u001b[1;32m      5\u001b[0m angular_correlation(data = dmass_sam[pcut2], rand = rand_masked, \n\u001b[1;32m      6\u001b[0m                     \u001b[0mnbins\u001b[0m\u001b[0;34m=\u001b[0m\u001b[0;36m10\u001b[0m\u001b[0;34m,\u001b[0m \u001b[0mweight\u001b[0m \u001b[0;34m=\u001b[0m \u001b[0;34m[\u001b[0m\u001b[0mTrue\u001b[0m\u001b[0;34m,\u001b[0m \u001b[0mNone\u001b[0m\u001b[0;34m]\u001b[0m\u001b[0;34m,\u001b[0m \u001b[0mnjack\u001b[0m \u001b[0;34m=\u001b[0m \u001b[0;36m50\u001b[0m\u001b[0;34m,\u001b[0m\u001b[0;34m\u001b[0m\u001b[0m\n\u001b[0;32m----> 7\u001b[0;31m                     suffix = '_dmass_vetoed_nbins10_jk100', dir = basedir)\n\u001b[0m",
      "\u001b[0;32m/n/des/lee.5922/Dropbox/repositories/CMASS/code/systematics_module/corr.pyc\u001b[0m in \u001b[0;36mangular_correlation\u001b[0;34m(data, rand, njack, nbins, min_sep, max_sep, weight, mpi, suffix, out, dir)\u001b[0m\n\u001b[1;32m    709\u001b[0m         \u001b[0mnojkkwargs\u001b[0m \u001b[0;34m=\u001b[0m \u001b[0;34m{\u001b[0m\u001b[0;34m'weight'\u001b[0m\u001b[0;34m:\u001b[0m\u001b[0mweight\u001b[0m\u001b[0;34m,\u001b[0m \u001b[0;34m'nbins'\u001b[0m\u001b[0;34m:\u001b[0m\u001b[0mnbins\u001b[0m\u001b[0;34m,\u001b[0m \u001b[0;34m'min_sep'\u001b[0m\u001b[0;34m:\u001b[0m\u001b[0mmin_sep\u001b[0m\u001b[0;34m,\u001b[0m \u001b[0;34m'max_sep'\u001b[0m\u001b[0;34m:\u001b[0m\u001b[0mmax_sep\u001b[0m\u001b[0;34m}\u001b[0m\u001b[0;34m,\u001b[0m\u001b[0;34m\u001b[0m\u001b[0m\n\u001b[1;32m    710\u001b[0m \tmpi=mpi)\n\u001b[0;32m--> 711\u001b[0;31m     \u001b[0mjktest\u001b[0m\u001b[0;34m.\u001b[0m\u001b[0mDoJK\u001b[0m\u001b[0;34m(\u001b[0m \u001b[0mregions\u001b[0m \u001b[0;34m=\u001b[0m \u001b[0mjkfile\u001b[0m \u001b[0;34m)\u001b[0m\u001b[0;34m\u001b[0m\u001b[0m\n\u001b[0m\u001b[1;32m    712\u001b[0m     \u001b[0mjkresults\u001b[0m \u001b[0;34m=\u001b[0m \u001b[0mjktest\u001b[0m\u001b[0;34m.\u001b[0m\u001b[0mGetResults\u001b[0m\u001b[0;34m(\u001b[0m\u001b[0mjk\u001b[0m\u001b[0;34m=\u001b[0m\u001b[0mTrue\u001b[0m\u001b[0;34m,\u001b[0m \u001b[0mfull\u001b[0m \u001b[0;34m=\u001b[0m \u001b[0mFalse\u001b[0m\u001b[0;34m)\u001b[0m\u001b[0;34m\u001b[0m\u001b[0m\n\u001b[1;32m    713\u001b[0m     \u001b[0mos\u001b[0m\u001b[0;34m.\u001b[0m\u001b[0mremove\u001b[0m\u001b[0;34m(\u001b[0m\u001b[0mjkfile\u001b[0m\u001b[0;34m)\u001b[0m\u001b[0;34m\u001b[0m\u001b[0m\n",
      "\u001b[0;32m/n/home00/lee.5922/.local/lib/python2.7/site-packages/suchyta_utils/jk.pyc\u001b[0m in \u001b[0;36mDoJK\u001b[0;34m(self, regions, mpi)\u001b[0m\n\u001b[1;32m    248\u001b[0m         \u001b[0;32mfor\u001b[0m \u001b[0mi\u001b[0m \u001b[0;32min\u001b[0m \u001b[0mrange\u001b[0m\u001b[0;34m(\u001b[0m\u001b[0mlen\u001b[0m\u001b[0;34m(\u001b[0m\u001b[0mindex\u001b[0m\u001b[0;34m)\u001b[0m\u001b[0;34m)\u001b[0m\u001b[0;34m:\u001b[0m\u001b[0;34m\u001b[0m\u001b[0m\n\u001b[1;32m    249\u001b[0m             \u001b[0margs\u001b[0m \u001b[0;34m=\u001b[0m \u001b[0mself\u001b[0m\u001b[0;34m.\u001b[0m\u001b[0m_GetArgs\u001b[0m\u001b[0;34m(\u001b[0m\u001b[0mindex\u001b[0m\u001b[0;34m[\u001b[0m\u001b[0mi\u001b[0m\u001b[0;34m]\u001b[0m\u001b[0;34m)\u001b[0m\u001b[0;34m\u001b[0m\u001b[0m\n\u001b[0;32m--> 250\u001b[0;31m             \u001b[0mres\u001b[0m \u001b[0;34m=\u001b[0m \u001b[0mself\u001b[0m\u001b[0;34m.\u001b[0m\u001b[0mtarget\u001b[0m\u001b[0;34m(\u001b[0m\u001b[0;34m*\u001b[0m\u001b[0margs\u001b[0m\u001b[0;34m,\u001b[0m \u001b[0;34m**\u001b[0m\u001b[0mself\u001b[0m\u001b[0;34m.\u001b[0m\u001b[0mnojkkwargs\u001b[0m\u001b[0;34m)\u001b[0m\u001b[0;34m\u001b[0m\u001b[0m\n\u001b[0m\u001b[1;32m    251\u001b[0m             \u001b[0mresults\u001b[0m\u001b[0;34m.\u001b[0m\u001b[0mappend\u001b[0m\u001b[0;34m(\u001b[0m\u001b[0mres\u001b[0m\u001b[0;34m)\u001b[0m\u001b[0;34m\u001b[0m\u001b[0m\n\u001b[1;32m    252\u001b[0m         \u001b[0mresults\u001b[0m \u001b[0;34m=\u001b[0m \u001b[0m_np\u001b[0m\u001b[0;34m.\u001b[0m\u001b[0marray\u001b[0m\u001b[0;34m(\u001b[0m\u001b[0mresults\u001b[0m\u001b[0;34m)\u001b[0m\u001b[0;34m\u001b[0m\u001b[0m\n",
      "\u001b[0;32m/n/des/lee.5922/Dropbox/repositories/CMASS/code/systematics_module/corr.pyc\u001b[0m in \u001b[0;36m_acf\u001b[0;34m(data, rand, weight, nbins, min_sep, max_sep)\u001b[0m\n\u001b[1;32m    646\u001b[0m     \u001b[0mrr\u001b[0m \u001b[0;34m=\u001b[0m \u001b[0mtreecorr\u001b[0m\u001b[0;34m.\u001b[0m\u001b[0mNNCorrelation\u001b[0m\u001b[0;34m(\u001b[0m\u001b[0mnbins\u001b[0m \u001b[0;34m=\u001b[0m \u001b[0mnbins\u001b[0m\u001b[0;34m,\u001b[0m \u001b[0mmax_sep\u001b[0m \u001b[0;34m=\u001b[0m \u001b[0mmax_sep\u001b[0m\u001b[0;34m,\u001b[0m \u001b[0mmin_sep\u001b[0m\u001b[0;34m=\u001b[0m \u001b[0mmin_sep\u001b[0m\u001b[0;34m,\u001b[0m \u001b[0msep_units\u001b[0m\u001b[0;34m=\u001b[0m\u001b[0msep_units\u001b[0m\u001b[0;34m)\u001b[0m\u001b[0;34m\u001b[0m\u001b[0m\n\u001b[1;32m    647\u001b[0m \u001b[0;34m\u001b[0m\u001b[0m\n\u001b[0;32m--> 648\u001b[0;31m     \u001b[0mdd\u001b[0m\u001b[0;34m.\u001b[0m\u001b[0mprocess\u001b[0m\u001b[0;34m(\u001b[0m\u001b[0mcat\u001b[0m\u001b[0;34m)\u001b[0m\u001b[0;34m\u001b[0m\u001b[0m\n\u001b[0m\u001b[1;32m    649\u001b[0m     \u001b[0mdr\u001b[0m\u001b[0;34m.\u001b[0m\u001b[0mprocess\u001b[0m\u001b[0;34m(\u001b[0m\u001b[0mcat\u001b[0m\u001b[0;34m,\u001b[0m\u001b[0mcat_rand\u001b[0m\u001b[0;34m)\u001b[0m\u001b[0;34m\u001b[0m\u001b[0m\n\u001b[1;32m    650\u001b[0m     \u001b[0mrr\u001b[0m\u001b[0;34m.\u001b[0m\u001b[0mprocess\u001b[0m\u001b[0;34m(\u001b[0m\u001b[0mcat_rand\u001b[0m\u001b[0;34m)\u001b[0m\u001b[0;34m\u001b[0m\u001b[0m\n",
      "\u001b[0;32m/n/home00/lee.5922/.local/lib/python2.7/site-packages/treecorr/nncorrelation.pyc\u001b[0m in \u001b[0;36mprocess\u001b[0;34m(self, cat1, cat2, metric, num_threads)\u001b[0m\n\u001b[1;32m    317\u001b[0m \u001b[0;34m\u001b[0m\u001b[0m\n\u001b[1;32m    318\u001b[0m         \u001b[0;32mif\u001b[0m \u001b[0mcat2\u001b[0m \u001b[0;32mis\u001b[0m \u001b[0mNone\u001b[0m \u001b[0;32mor\u001b[0m \u001b[0mlen\u001b[0m\u001b[0;34m(\u001b[0m\u001b[0mcat2\u001b[0m\u001b[0;34m)\u001b[0m \u001b[0;34m==\u001b[0m \u001b[0;36m0\u001b[0m\u001b[0;34m:\u001b[0m\u001b[0;34m\u001b[0m\u001b[0m\n\u001b[0;32m--> 319\u001b[0;31m             \u001b[0mself\u001b[0m\u001b[0;34m.\u001b[0m\u001b[0m_process_all_auto\u001b[0m\u001b[0;34m(\u001b[0m\u001b[0mcat1\u001b[0m\u001b[0;34m,\u001b[0m\u001b[0mmetric\u001b[0m\u001b[0;34m,\u001b[0m\u001b[0mnum_threads\u001b[0m\u001b[0;34m)\u001b[0m\u001b[0;34m\u001b[0m\u001b[0m\n\u001b[0m\u001b[1;32m    320\u001b[0m         \u001b[0;32melse\u001b[0m\u001b[0;34m:\u001b[0m\u001b[0;34m\u001b[0m\u001b[0m\n\u001b[1;32m    321\u001b[0m             \u001b[0mself\u001b[0m\u001b[0;34m.\u001b[0m\u001b[0m_process_all_cross\u001b[0m\u001b[0;34m(\u001b[0m\u001b[0mcat1\u001b[0m\u001b[0;34m,\u001b[0m\u001b[0mcat2\u001b[0m\u001b[0;34m,\u001b[0m\u001b[0mmetric\u001b[0m\u001b[0;34m,\u001b[0m\u001b[0mnum_threads\u001b[0m\u001b[0;34m)\u001b[0m\u001b[0;34m\u001b[0m\u001b[0m\n",
      "\u001b[0;32m/n/home00/lee.5922/.local/lib/python2.7/site-packages/treecorr/binnedcorr2.pyc\u001b[0m in \u001b[0;36m_process_all_auto\u001b[0;34m(self, cat1, metric, num_threads)\u001b[0m\n\u001b[1;32m    292\u001b[0m     \u001b[0;32mdef\u001b[0m \u001b[0m_process_all_auto\u001b[0m\u001b[0;34m(\u001b[0m\u001b[0mself\u001b[0m\u001b[0;34m,\u001b[0m \u001b[0mcat1\u001b[0m\u001b[0;34m,\u001b[0m \u001b[0mmetric\u001b[0m\u001b[0;34m,\u001b[0m \u001b[0mnum_threads\u001b[0m\u001b[0;34m)\u001b[0m\u001b[0;34m:\u001b[0m\u001b[0;34m\u001b[0m\u001b[0m\n\u001b[1;32m    293\u001b[0m         \u001b[0;32mfor\u001b[0m \u001b[0mi\u001b[0m\u001b[0;34m,\u001b[0m\u001b[0mc1\u001b[0m \u001b[0;32min\u001b[0m \u001b[0menumerate\u001b[0m\u001b[0;34m(\u001b[0m\u001b[0mcat1\u001b[0m\u001b[0;34m)\u001b[0m\u001b[0;34m:\u001b[0m\u001b[0;34m\u001b[0m\u001b[0m\n\u001b[0;32m--> 294\u001b[0;31m             \u001b[0mself\u001b[0m\u001b[0;34m.\u001b[0m\u001b[0mprocess_auto\u001b[0m\u001b[0;34m(\u001b[0m\u001b[0mc1\u001b[0m\u001b[0;34m,\u001b[0m\u001b[0mmetric\u001b[0m\u001b[0;34m,\u001b[0m\u001b[0mnum_threads\u001b[0m\u001b[0;34m)\u001b[0m\u001b[0;34m\u001b[0m\u001b[0m\n\u001b[0m\u001b[1;32m    295\u001b[0m             \u001b[0;32mfor\u001b[0m \u001b[0mc2\u001b[0m \u001b[0;32min\u001b[0m \u001b[0mcat1\u001b[0m\u001b[0;34m[\u001b[0m\u001b[0mi\u001b[0m\u001b[0;34m+\u001b[0m\u001b[0;36m1\u001b[0m\u001b[0;34m:\u001b[0m\u001b[0;34m]\u001b[0m\u001b[0;34m:\u001b[0m\u001b[0;34m\u001b[0m\u001b[0m\n\u001b[1;32m    296\u001b[0m                 \u001b[0mself\u001b[0m\u001b[0;34m.\u001b[0m\u001b[0mprocess_cross\u001b[0m\u001b[0;34m(\u001b[0m\u001b[0mc1\u001b[0m\u001b[0;34m,\u001b[0m\u001b[0mc2\u001b[0m\u001b[0;34m,\u001b[0m\u001b[0mmetric\u001b[0m\u001b[0;34m,\u001b[0m\u001b[0mnum_threads\u001b[0m\u001b[0;34m)\u001b[0m\u001b[0;34m\u001b[0m\u001b[0m\n",
      "\u001b[0;32m/n/home00/lee.5922/.local/lib/python2.7/site-packages/treecorr/nncorrelation.pyc\u001b[0m in \u001b[0;36mprocess_auto\u001b[0;34m(self, cat, metric, num_threads)\u001b[0m\n\u001b[1;32m    146\u001b[0m         \u001b[0mself\u001b[0m\u001b[0;34m.\u001b[0m\u001b[0mlogger\u001b[0m\u001b[0;34m.\u001b[0m\u001b[0minfo\u001b[0m\u001b[0;34m(\u001b[0m\u001b[0;34m'Starting %d jobs.'\u001b[0m\u001b[0;34m,\u001b[0m\u001b[0mfield\u001b[0m\u001b[0;34m.\u001b[0m\u001b[0mnTopLevelNodes\u001b[0m\u001b[0;34m)\u001b[0m\u001b[0;34m\u001b[0m\u001b[0m\n\u001b[1;32m    147\u001b[0m         treecorr._lib.ProcessAutoNN(self.corr, field.data, self.output_dots,\n\u001b[0;32m--> 148\u001b[0;31m                                     self._coords, self._metric)\n\u001b[0m\u001b[1;32m    149\u001b[0m         \u001b[0mself\u001b[0m\u001b[0;34m.\u001b[0m\u001b[0mtot\u001b[0m \u001b[0;34m+=\u001b[0m \u001b[0;36m0.5\u001b[0m \u001b[0;34m*\u001b[0m \u001b[0mcat\u001b[0m\u001b[0;34m.\u001b[0m\u001b[0msumw\u001b[0m\u001b[0;34m**\u001b[0m\u001b[0;36m2\u001b[0m\u001b[0;34m\u001b[0m\u001b[0m\n\u001b[1;32m    150\u001b[0m \u001b[0;34m\u001b[0m\u001b[0m\n",
      "\u001b[0;31mKeyboardInterrupt\u001b[0m: "
     ]
    }
   ],
   "source": [
    "randind = np.random.choice( dmass_masked.size, size = dmass_masked.size/10)\n",
    "dmass_sam = dmass_masked[randind]\n",
    "\n",
    "pcut2 = (dmass_sam['EachProb_CMASS'] > 0.01)\n",
    "angular_correlation(data = dmass_sam[pcut2], rand = rand_masked, \n",
    "                    nbins=10, weight = [True, None], njack = 50, \n",
    "                    suffix = '_dmass_vetoed_nbins10_jk100', dir = basedir)"
   ]
  },
  {
   "cell_type": "code",
   "execution_count": 223,
   "metadata": {},
   "outputs": [
    {
     "data": {
      "text/plain": [
       "array([4.72085163e-06, 5.46449689e-06, 1.41742377e-05, ...,\n",
       "       7.72475137e-02, 1.19393022e-05, 4.90540888e-04])"
      ]
     },
     "execution_count": 223,
     "metadata": {},
     "output_type": "execute_result"
    }
   ],
   "source": [
    "all_weight"
   ]
  },
  {
   "cell_type": "code",
   "execution_count": 298,
   "metadata": {
    "collapsed": true
   },
   "outputs": [
    {
     "name": "stdout",
     "output_type": "stream",
     "text": [
      "calculate angular correlation function\n",
      "X (525, 2)  centers (50, 2)  tol=1e-05  maxiter=200\n",
      "18 iterations  cluster sizes: [ 6 15 11 11  4  9 15  6  4 12 17 10 13 10 15 15 11 11  5 17 10  8  4 16\n",
      " 11 15 12 12  7 16 10 10 13  6  6  8 10  6 10 16  5  9 12 17  6 11  9 16\n",
      "  6 11]\n",
      "X (68921, 2)  centers (50, 2)  tol=1e-05  maxiter=200\n",
      "38 iterations  cluster sizes: [1288 1316 1544 1421 1304 1266 1389 1416 1350 1441 1560 1453 1571 1084\n",
      " 1073 1653 1327 1624  866 1840 1609 1287 1195 1420 1376 1536 1454 1472\n",
      " 1559 1426 1554 1196 1471 1571 1451 1371 1427 1038 1240 1414  602 1350\n",
      " 1160 1484 1320 1430 1729 1641 1131 1221]\n"
     ]
    },
    {
     "ename": "KeyboardInterrupt",
     "evalue": "",
     "output_type": "error",
     "traceback": [
      "\u001b[0;31m---------------------------------------------------------------------------\u001b[0m",
      "\u001b[0;31mKeyboardInterrupt\u001b[0m                         Traceback (most recent call last)",
      "\u001b[0;32m<ipython-input-298-ef77c86be917>\u001b[0m in \u001b[0;36m<module>\u001b[0;34m()\u001b[0m\n\u001b[1;32m      6\u001b[0m angular_correlation(data = dmass_sam[pcut2], rand = maskedGoldMask_spt, \n\u001b[1;32m      7\u001b[0m                     \u001b[0mnbins\u001b[0m\u001b[0;34m=\u001b[0m\u001b[0;36m10\u001b[0m\u001b[0;34m,\u001b[0m \u001b[0mweight\u001b[0m \u001b[0;34m=\u001b[0m \u001b[0;34m[\u001b[0m\u001b[0mTrue\u001b[0m\u001b[0;34m,\u001b[0m \u001b[0mNone\u001b[0m\u001b[0;34m]\u001b[0m\u001b[0;34m,\u001b[0m \u001b[0mnjack\u001b[0m \u001b[0;34m=\u001b[0m \u001b[0;36m50\u001b[0m\u001b[0;34m,\u001b[0m\u001b[0;34m\u001b[0m\u001b[0m\n\u001b[0;32m----> 8\u001b[0;31m                     suffix = '_dmass_all_weight_pcut01_nbins10_jk100', dir = basedir)\n\u001b[0m",
      "\u001b[0;32m/n/des/lee.5922/Dropbox/repositories/CMASS/code/systematics_module/corr.pyc\u001b[0m in \u001b[0;36mangular_correlation\u001b[0;34m(data, rand, njack, nbins, min_sep, max_sep, weight, mpi, suffix, out, dir)\u001b[0m\n\u001b[1;32m    709\u001b[0m         \u001b[0mnojkkwargs\u001b[0m \u001b[0;34m=\u001b[0m \u001b[0;34m{\u001b[0m\u001b[0;34m'weight'\u001b[0m\u001b[0;34m:\u001b[0m\u001b[0mweight\u001b[0m\u001b[0;34m,\u001b[0m \u001b[0;34m'nbins'\u001b[0m\u001b[0;34m:\u001b[0m\u001b[0mnbins\u001b[0m\u001b[0;34m,\u001b[0m \u001b[0;34m'min_sep'\u001b[0m\u001b[0;34m:\u001b[0m\u001b[0mmin_sep\u001b[0m\u001b[0;34m,\u001b[0m \u001b[0;34m'max_sep'\u001b[0m\u001b[0;34m:\u001b[0m\u001b[0mmax_sep\u001b[0m\u001b[0;34m}\u001b[0m\u001b[0;34m,\u001b[0m\u001b[0;34m\u001b[0m\u001b[0m\n\u001b[1;32m    710\u001b[0m \tmpi=mpi)\n\u001b[0;32m--> 711\u001b[0;31m     \u001b[0mjktest\u001b[0m\u001b[0;34m.\u001b[0m\u001b[0mDoJK\u001b[0m\u001b[0;34m(\u001b[0m \u001b[0mregions\u001b[0m \u001b[0;34m=\u001b[0m \u001b[0mjkfile\u001b[0m \u001b[0;34m)\u001b[0m\u001b[0;34m\u001b[0m\u001b[0m\n\u001b[0m\u001b[1;32m    712\u001b[0m     \u001b[0mjkresults\u001b[0m \u001b[0;34m=\u001b[0m \u001b[0mjktest\u001b[0m\u001b[0;34m.\u001b[0m\u001b[0mGetResults\u001b[0m\u001b[0;34m(\u001b[0m\u001b[0mjk\u001b[0m\u001b[0;34m=\u001b[0m\u001b[0mTrue\u001b[0m\u001b[0;34m,\u001b[0m \u001b[0mfull\u001b[0m \u001b[0;34m=\u001b[0m \u001b[0mFalse\u001b[0m\u001b[0;34m)\u001b[0m\u001b[0;34m\u001b[0m\u001b[0m\n\u001b[1;32m    713\u001b[0m     \u001b[0mos\u001b[0m\u001b[0;34m.\u001b[0m\u001b[0mremove\u001b[0m\u001b[0;34m(\u001b[0m\u001b[0mjkfile\u001b[0m\u001b[0;34m)\u001b[0m\u001b[0;34m\u001b[0m\u001b[0m\n",
      "\u001b[0;32m/n/home00/lee.5922/.local/lib/python2.7/site-packages/suchyta_utils/jk.pyc\u001b[0m in \u001b[0;36mDoJK\u001b[0;34m(self, regions, mpi)\u001b[0m\n\u001b[1;32m    235\u001b[0m             \u001b[0mrank\u001b[0m \u001b[0;34m=\u001b[0m \u001b[0mMPI\u001b[0m\u001b[0;34m.\u001b[0m\u001b[0mCOMM_WORLD\u001b[0m\u001b[0;34m.\u001b[0m\u001b[0mGet_rank\u001b[0m\u001b[0;34m(\u001b[0m\u001b[0;34m)\u001b[0m\u001b[0;34m\u001b[0m\u001b[0m\n\u001b[1;32m    236\u001b[0m \u001b[0;34m\u001b[0m\u001b[0m\n\u001b[0;32m--> 237\u001b[0;31m         \u001b[0mself\u001b[0m\u001b[0;34m.\u001b[0m\u001b[0m_FindIndex\u001b[0m\u001b[0;34m(\u001b[0m\u001b[0mregions\u001b[0m\u001b[0;34m=\u001b[0m\u001b[0mregions\u001b[0m\u001b[0;34m)\u001b[0m\u001b[0;34m\u001b[0m\u001b[0m\n\u001b[0m\u001b[1;32m    238\u001b[0m         \u001b[0;32mif\u001b[0m \u001b[0mmpi\u001b[0m\u001b[0;34m:\u001b[0m\u001b[0;34m\u001b[0m\u001b[0m\n\u001b[1;32m    239\u001b[0m             \u001b[0mindex\u001b[0m \u001b[0;34m=\u001b[0m \u001b[0mNone\u001b[0m\u001b[0;34m\u001b[0m\u001b[0m\n",
      "\u001b[0;32m/n/home00/lee.5922/.local/lib/python2.7/site-packages/suchyta_utils/jk.pyc\u001b[0m in \u001b[0;36m_FindIndex\u001b[0;34m(self, regions)\u001b[0m\n\u001b[1;32m    313\u001b[0m             \u001b[0mrdi\u001b[0m\u001b[0;34m[\u001b[0m\u001b[0;34m:\u001b[0m\u001b[0;34m,\u001b[0m\u001b[0;36m0\u001b[0m\u001b[0;34m]\u001b[0m \u001b[0;34m=\u001b[0m \u001b[0mra\u001b[0m\u001b[0;34m\u001b[0m\u001b[0m\n\u001b[1;32m    314\u001b[0m             \u001b[0mrdi\u001b[0m\u001b[0;34m[\u001b[0m\u001b[0;34m:\u001b[0m\u001b[0;34m,\u001b[0m\u001b[0;36m1\u001b[0m\u001b[0;34m]\u001b[0m \u001b[0;34m=\u001b[0m \u001b[0mdec\u001b[0m\u001b[0;34m\u001b[0m\u001b[0m\n\u001b[0;32m--> 315\u001b[0;31m             \u001b[0mindex\u001b[0m \u001b[0;34m=\u001b[0m \u001b[0mkm\u001b[0m\u001b[0;34m.\u001b[0m\u001b[0mfind_nearest\u001b[0m\u001b[0;34m(\u001b[0m\u001b[0mrdi\u001b[0m\u001b[0;34m)\u001b[0m\u001b[0;34m\u001b[0m\u001b[0m\n\u001b[0m\u001b[1;32m    316\u001b[0m             \u001b[0mself\u001b[0m\u001b[0;34m.\u001b[0m\u001b[0mindex\u001b[0m\u001b[0;34m.\u001b[0m\u001b[0mappend\u001b[0m\u001b[0;34m(\u001b[0m\u001b[0mindex\u001b[0m\u001b[0;34m)\u001b[0m\u001b[0;34m\u001b[0m\u001b[0m\n\u001b[1;32m    317\u001b[0m \u001b[0;34m\u001b[0m\u001b[0m\n",
      "\u001b[0;32m/n/home00/lee.5922/.local/lib/python2.7/site-packages/kmeans_radec/kmeans_radec.pyc\u001b[0m in \u001b[0;36mfind_nearest\u001b[0;34m(self, X)\u001b[0m\n\u001b[1;32m    189\u001b[0m         \u001b[0mfind\u001b[0m \u001b[0mthe\u001b[0m \u001b[0mnearest\u001b[0m \u001b[0mcenters\u001b[0m \u001b[0mto\u001b[0m \u001b[0mthe\u001b[0m \u001b[0minput\u001b[0m \u001b[0mpoints\u001b[0m\u001b[0;34m\u001b[0m\u001b[0m\n\u001b[1;32m    190\u001b[0m         \"\"\"\n\u001b[0;32m--> 191\u001b[0;31m         \u001b[0;32mreturn\u001b[0m \u001b[0mfind_nearest\u001b[0m\u001b[0;34m(\u001b[0m\u001b[0mX\u001b[0m\u001b[0;34m,\u001b[0m \u001b[0mself\u001b[0m\u001b[0;34m.\u001b[0m\u001b[0mcenters\u001b[0m\u001b[0;34m)\u001b[0m\u001b[0;34m\u001b[0m\u001b[0m\n\u001b[0m\u001b[1;32m    192\u001b[0m \u001b[0;34m\u001b[0m\u001b[0m\n\u001b[1;32m    193\u001b[0m     \u001b[0;32mdef\u001b[0m \u001b[0m_print_info\u001b[0m\u001b[0;34m(\u001b[0m\u001b[0mself\u001b[0m\u001b[0;34m)\u001b[0m\u001b[0;34m:\u001b[0m\u001b[0;34m\u001b[0m\u001b[0m\n",
      "\u001b[0;32m/n/home00/lee.5922/.local/lib/python2.7/site-packages/kmeans_radec/kmeans_radec.pyc\u001b[0m in \u001b[0;36mfind_nearest\u001b[0;34m(X, centers)\u001b[0m\n\u001b[1;32m    368\u001b[0m     \"\"\"\n\u001b[1;32m    369\u001b[0m     \u001b[0m_check_dims\u001b[0m\u001b[0;34m(\u001b[0m\u001b[0mX\u001b[0m\u001b[0;34m,\u001b[0m \u001b[0mcenters\u001b[0m\u001b[0;34m)\u001b[0m\u001b[0;34m\u001b[0m\u001b[0m\n\u001b[0;32m--> 370\u001b[0;31m     \u001b[0mD\u001b[0m \u001b[0;34m=\u001b[0m \u001b[0mcdist_radec\u001b[0m\u001b[0;34m(\u001b[0m \u001b[0mX\u001b[0m\u001b[0;34m,\u001b[0m \u001b[0mcenters\u001b[0m\u001b[0;34m)\u001b[0m  \u001b[0;31m# |X| x |centers|\u001b[0m\u001b[0;34m\u001b[0m\u001b[0m\n\u001b[0m\u001b[1;32m    371\u001b[0m     \u001b[0;32mreturn\u001b[0m \u001b[0mD\u001b[0m\u001b[0;34m.\u001b[0m\u001b[0margmin\u001b[0m\u001b[0;34m(\u001b[0m\u001b[0maxis\u001b[0m\u001b[0;34m=\u001b[0m\u001b[0;36m1\u001b[0m\u001b[0;34m)\u001b[0m\u001b[0;34m\u001b[0m\u001b[0m\n\u001b[1;32m    372\u001b[0m \u001b[0;34m\u001b[0m\u001b[0m\n",
      "\u001b[0;32m/n/home00/lee.5922/.local/lib/python2.7/site-packages/kmeans_radec/kmeans_radec.pyc\u001b[0m in \u001b[0;36mcdist_radec\u001b[0;34m(a1, a2)\u001b[0m\n\u001b[1;32m    340\u001b[0m \u001b[0;34m\u001b[0m\u001b[0m\n\u001b[1;32m    341\u001b[0m     \u001b[0mcostheta\u001b[0m\u001b[0;34m=\u001b[0m\u001b[0mnumpy\u001b[0m\u001b[0;34m.\u001b[0m\u001b[0mclip\u001b[0m\u001b[0;34m(\u001b[0m\u001b[0mcostheta\u001b[0m\u001b[0;34m,\u001b[0m\u001b[0;34m-\u001b[0m\u001b[0;36m1.0\u001b[0m\u001b[0;34m,\u001b[0m\u001b[0;36m1.0\u001b[0m\u001b[0;34m)\u001b[0m\u001b[0;34m\u001b[0m\u001b[0m\n\u001b[0;32m--> 342\u001b[0;31m     \u001b[0mtheta\u001b[0m \u001b[0;34m=\u001b[0m \u001b[0marccos\u001b[0m\u001b[0;34m(\u001b[0m\u001b[0mcostheta\u001b[0m\u001b[0;34m)\u001b[0m\u001b[0;34m\u001b[0m\u001b[0m\n\u001b[0m\u001b[1;32m    343\u001b[0m     \u001b[0;32mreturn\u001b[0m \u001b[0mtheta\u001b[0m\u001b[0;34m\u001b[0m\u001b[0m\n\u001b[1;32m    344\u001b[0m \u001b[0;34m\u001b[0m\u001b[0m\n",
      "\u001b[0;31mKeyboardInterrupt\u001b[0m: "
     ]
    }
   ],
   "source": [
    "randind = np.random.choice( dmass.size, size = dmass.size/10)\n",
    "dmass['WEIGHT'] = dmass['WEIGHT_SYS'].copy()\n",
    "dmass_sam = dmass[randind]\n",
    "\n",
    "pcut2 = (dmass_sam['EachProb_CMASS'] > 0.01)\n",
    "angular_correlation(data = dmass_sam[pcut2], rand = maskedGoldMask_spt, \n",
    "                    nbins=10, weight = [True, None], njack = 50, \n",
    "                    suffix = '_dmass_all_weight_pcut01_nbins10_jk100', dir = basedir)"
   ]
  },
  {
   "cell_type": "code",
   "execution_count": 304,
   "metadata": {},
   "outputs": [
    {
     "data": {
      "text/plain": [
       "(6030163, 6777228)"
      ]
     },
     "execution_count": 304,
     "metadata": {},
     "output_type": "execute_result"
    }
   ],
   "source": [
    "maskedGoldMask_spt.size, dmass.size"
   ]
  },
  {
   "cell_type": "code",
   "execution_count": 312,
   "metadata": {},
   "outputs": [
    {
     "name": "stdout",
     "output_type": "stream",
     "text": [
      "calculate angular correlation function\n",
      "X (1633, 2)  centers (50, 2)  tol=1e-05  maxiter=200\n",
      "21 iterations  cluster sizes: [48 40 28 36 28 34 35 44 27 34 32 20 44 18 28 34 35 36 30 45 29 32 13 30\n",
      " 36 30 32 26 31 28 41 30 43 34 27 24 46 27 31 28 29 31 27 41 39 40 23 30\n",
      " 30 49]\n",
      "X (666775, 2)  centers (50, 2)  tol=1e-05  maxiter=200\n",
      "64 iterations  cluster sizes: [14138 16145 13195 15815 12795 13863 15636 13628 12894 15712 16510  9206\n",
      " 14843 10529 15365 13610 13322 13411 13179 12680 14304 11277  5706 15374\n",
      " 13076 13647 12257  8230 10668 13536 14463 12768 15119 13415 11360 14370\n",
      " 15702 12664 13801 14114 10258 14463 12131 15552 15179 11102 13079 13232\n",
      " 14049 15403]\n",
      ". . . . . . . . . . . . . . . . . . . . . . . . . . . . . . . . . . . . . . . . . . . . . . . . . . . saving data file to :  ../output/sfd_train_photo_SamPle_nozband_ran10_3_full_tol1e5//act//acf_auto_dmass_all_weight_pcut01_nbins10_jk100.txt\n"
     ]
    }
   ],
   "source": [
    "randind = np.random.choice( dmass.size, size = dmass.size)\n",
    "dmass['WEIGHT'] = dmass['CMASS_PROB'] * dmass['WEIGHT_SYS']\n",
    "dmass_sam = dmass[randind]\n",
    "\n",
    "pcut2 = (dmass_sam['EachProb_CMASS'] > 0.01)\n",
    "angular_correlation(data = dmass_sam[pcut2], rand = maskedGoldMask_spt, \n",
    "                    nbins=10, weight = [True, None], njack = 50, \n",
    "                    suffix = '_dmass_all_weight_pcut01_nbins10_jk100', dir = basedir)"
   ]
  },
  {
   "cell_type": "code",
   "execution_count": 306,
   "metadata": {},
   "outputs": [
    {
     "name": "stdout",
     "output_type": "stream",
     "text": [
      "calculate angular correlation function\n",
      "X (1653, 2)  centers (50, 2)  tol=1e-05  maxiter=200\n",
      "21 iterations  cluster sizes: [35 48 41 50 29 33 43 33 36 30 26 26 49 30 31 22 25 51 34 19 36 39 27 21\n",
      " 31 33 29 29 35 36 38 43 24 15 36 26 38 25 44 34 46 34 21 31 26 37 14 34\n",
      " 38 42]\n",
      "X (683718, 2)  centers (50, 2)  tol=1e-05  maxiter=200\n",
      "75 iterations  cluster sizes: [15426 15231 14818 15757 14954 15003 15881 14960 14115 14049 11844 16237\n",
      "  5596 15012 15947  8636  7914 14870 15607 13933 16951 15114 14056 11050\n",
      " 15356 12330 13230 13015 14767 15701  9110 11839  8058 11416 15800 13795\n",
      " 15545 10743 13010 15537 15320 18198 11093  9727 12091 14332 15742 14216\n",
      " 17363 13423]\n",
      ". . . . . . . . . . . . . . . . . . . . . . . . . . . . . . . . . . . . . . . . . . . . . . . . . . . saving data file to :  ../output/sfd_train_photo_SamPle_nozband_ran10_3_full_tol1e5//act//acf_auto_dmass_veto_pcut01_nbins10_jk100.txt\n"
     ]
    }
   ],
   "source": [
    "randind = np.random.choice( dmass.size, size = dmass.size)\n",
    "dmass['WEIGHT'] = dmass['CMASS_PROB'] * dmass['VETO']\n",
    "dmass_sam = dmass[randind]\n",
    "\n",
    "pcut2 = (dmass_sam['EachProb_CMASS'] > 0.01)\n",
    "angular_correlation(data = dmass_sam[pcut2], rand = maskedGoldMask_spt, \n",
    "                    nbins=10, weight = [True, None], njack = 50, \n",
    "                    suffix = '_dmass_veto_pcut01_nbins10_jk100', dir = basedir)"
   ]
  },
  {
   "cell_type": "code",
   "execution_count": 325,
   "metadata": {},
   "outputs": [
    {
     "data": {
      "text/plain": [
       "0"
      ]
     },
     "execution_count": 325,
     "metadata": {},
     "output_type": "execute_result"
    }
   ],
   "source": [
    "np.sum(dmass['CMASS_PROB'] == 0 )"
   ]
  },
  {
   "cell_type": "code",
   "execution_count": 344,
   "metadata": {
    "collapsed": true
   },
   "outputs": [
    {
     "name": "stdout",
     "output_type": "stream",
     "text": [
      "calculate angular correlation function\n",
      "X (5206, 2)  centers (50, 2)  tol=1e-05  maxiter=200\n",
      "52 iterations  cluster sizes: [ 86 130  98 100 112  94 110 153 149  67 100  98 124 114  71  88 117  71\n",
      " 132 138  89  78 114  88 135 118 109 101 139  62 119  84  89  44 113 179\n",
      "  84  65  90  95 114 110 131  67 102 127 108 108 141  51]\n",
      "X (6777228, 2)  centers (50, 2)  tol=1e-05  maxiter=200\n"
     ]
    },
    {
     "ename": "KeyboardInterrupt",
     "evalue": "",
     "output_type": "error",
     "traceback": [
      "\u001b[0;31m---------------------------------------------------------------------------\u001b[0m",
      "\u001b[0;31mKeyboardInterrupt\u001b[0m                         Traceback (most recent call last)",
      "\u001b[0;32m<ipython-input-344-b6e0ef2b1f92>\u001b[0m in \u001b[0;36m<module>\u001b[0;34m()\u001b[0m\n\u001b[1;32m      6\u001b[0m angular_correlation(data = dmass_sam[pcut2], rand = rand, \n\u001b[1;32m      7\u001b[0m                     \u001b[0mnbins\u001b[0m\u001b[0;34m=\u001b[0m\u001b[0;36m10\u001b[0m\u001b[0;34m,\u001b[0m \u001b[0mweight\u001b[0m \u001b[0;34m=\u001b[0m \u001b[0;34m[\u001b[0m\u001b[0mTrue\u001b[0m\u001b[0;34m,\u001b[0m \u001b[0mNone\u001b[0m\u001b[0;34m]\u001b[0m\u001b[0;34m,\u001b[0m \u001b[0mnjack\u001b[0m \u001b[0;34m=\u001b[0m \u001b[0;36m50\u001b[0m\u001b[0;34m,\u001b[0m\u001b[0;34m\u001b[0m\u001b[0m\n\u001b[0;32m----> 8\u001b[0;31m                     suffix = '_dmass_no_weight2_pcut00_nbins10_jk100', dir = basedir)\n\u001b[0m",
      "\u001b[0;32m/n/des/lee.5922/Dropbox/repositories/CMASS/code/systematics_module/corr.pyc\u001b[0m in \u001b[0;36mangular_correlation\u001b[0;34m(data, rand, njack, nbins, min_sep, max_sep, weight, mpi, suffix, out, dir)\u001b[0m\n\u001b[1;32m    703\u001b[0m \u001b[0;34m\u001b[0m\u001b[0m\n\u001b[1;32m    704\u001b[0m     \u001b[0mraTag\u001b[0m\u001b[0;34m,\u001b[0m \u001b[0mdecTag\u001b[0m \u001b[0;34m=\u001b[0m \u001b[0;34m'RA'\u001b[0m\u001b[0;34m,\u001b[0m \u001b[0;34m'DEC'\u001b[0m\u001b[0;34m\u001b[0m\u001b[0m\n\u001b[0;32m--> 705\u001b[0;31m     \u001b[0mjk\u001b[0m\u001b[0;34m.\u001b[0m\u001b[0mGenerateJKRegions\u001b[0m\u001b[0;34m(\u001b[0m \u001b[0mdata\u001b[0m\u001b[0;34m[\u001b[0m\u001b[0mraTag\u001b[0m\u001b[0;34m]\u001b[0m\u001b[0;34m,\u001b[0m \u001b[0mdata\u001b[0m\u001b[0;34m[\u001b[0m\u001b[0mdecTag\u001b[0m\u001b[0;34m]\u001b[0m\u001b[0;34m,\u001b[0m \u001b[0mnjack\u001b[0m\u001b[0;34m,\u001b[0m \u001b[0mjkfile\u001b[0m \u001b[0;34m)\u001b[0m\u001b[0;34m\u001b[0m\u001b[0m\n\u001b[0m\u001b[1;32m    706\u001b[0m     jktest = jk.SphericalJK( target = _acf, jkargs=[ data, rand ], \n\u001b[1;32m    707\u001b[0m         \u001b[0mjkargsby\u001b[0m\u001b[0;34m=\u001b[0m\u001b[0;34m[\u001b[0m\u001b[0;34m[\u001b[0m\u001b[0mraTag\u001b[0m\u001b[0;34m,\u001b[0m \u001b[0mdecTag\u001b[0m\u001b[0;34m]\u001b[0m\u001b[0;34m,\u001b[0m\u001b[0;34m[\u001b[0m\u001b[0mraTag\u001b[0m\u001b[0;34m,\u001b[0m \u001b[0mdecTag\u001b[0m\u001b[0;34m]\u001b[0m\u001b[0;34m]\u001b[0m\u001b[0;34m,\u001b[0m\u001b[0;34m\u001b[0m\u001b[0m\n",
      "\u001b[0;32m/n/home00/lee.5922/.local/lib/python2.7/site-packages/suchyta_utils/jk.pyc\u001b[0m in \u001b[0;36mGenerateJKRegions\u001b[0;34m(ra, dec, njack, jfile, maxiter, tol)\u001b[0m\n\u001b[1;32m    465\u001b[0m     \u001b[0mrd\u001b[0m\u001b[0;34m[\u001b[0m\u001b[0;34m:\u001b[0m\u001b[0;34m,\u001b[0m\u001b[0;36m1\u001b[0m\u001b[0;34m]\u001b[0m \u001b[0;34m=\u001b[0m \u001b[0mdec\u001b[0m\u001b[0;34m\u001b[0m\u001b[0m\n\u001b[1;32m    466\u001b[0m \u001b[0;34m\u001b[0m\u001b[0m\n\u001b[0;32m--> 467\u001b[0;31m     \u001b[0mkm\u001b[0m \u001b[0;34m=\u001b[0m \u001b[0mkmeans_radec\u001b[0m\u001b[0;34m.\u001b[0m\u001b[0mkmeans_sample\u001b[0m\u001b[0;34m(\u001b[0m\u001b[0mrd\u001b[0m\u001b[0;34m,\u001b[0m \u001b[0mnjack\u001b[0m\u001b[0;34m,\u001b[0m \u001b[0mmaxiter\u001b[0m\u001b[0;34m=\u001b[0m\u001b[0mmaxiter\u001b[0m\u001b[0;34m,\u001b[0m \u001b[0mtol\u001b[0m\u001b[0;34m=\u001b[0m\u001b[0mtol\u001b[0m\u001b[0;34m)\u001b[0m\u001b[0;34m\u001b[0m\u001b[0m\n\u001b[0m\u001b[1;32m    468\u001b[0m \u001b[0;34m\u001b[0m\u001b[0m\n\u001b[1;32m    469\u001b[0m     \u001b[0;32mif\u001b[0m \u001b[0;32mnot\u001b[0m \u001b[0mkm\u001b[0m\u001b[0;34m.\u001b[0m\u001b[0mconverged\u001b[0m\u001b[0;34m:\u001b[0m\u001b[0;34m\u001b[0m\u001b[0m\n",
      "\u001b[0;32m/n/home00/lee.5922/.local/lib/python2.7/site-packages/kmeans_radec/kmeans_radec.pyc\u001b[0m in \u001b[0;36mkmeans_sample\u001b[0;34m(X, ncen, nsample, maxiter, **kw)\u001b[0m\n\u001b[1;32m    302\u001b[0m \u001b[0;34m\u001b[0m\u001b[0m\n\u001b[1;32m    303\u001b[0m     \u001b[0mkm\u001b[0m\u001b[0;34m=\u001b[0m\u001b[0mKMeans\u001b[0m\u001b[0;34m(\u001b[0m\u001b[0msample_centers\u001b[0m\u001b[0;34m,\u001b[0m \u001b[0;34m**\u001b[0m\u001b[0mkw\u001b[0m\u001b[0;34m)\u001b[0m\u001b[0;34m\u001b[0m\u001b[0m\n\u001b[0;32m--> 304\u001b[0;31m     \u001b[0mkm\u001b[0m\u001b[0;34m.\u001b[0m\u001b[0mrun\u001b[0m\u001b[0;34m(\u001b[0m\u001b[0mX\u001b[0m\u001b[0;34m,\u001b[0m \u001b[0mmaxiter\u001b[0m\u001b[0;34m=\u001b[0m\u001b[0mmaxiter\u001b[0m\u001b[0;34m)\u001b[0m\u001b[0;34m\u001b[0m\u001b[0m\n\u001b[0m\u001b[1;32m    305\u001b[0m \u001b[0;34m\u001b[0m\u001b[0m\n\u001b[1;32m    306\u001b[0m     \u001b[0;32mreturn\u001b[0m \u001b[0mkm\u001b[0m\u001b[0;34m\u001b[0m\u001b[0m\n",
      "\u001b[0;32m/n/home00/lee.5922/.local/lib/python2.7/site-packages/kmeans_radec/kmeans_radec.pyc\u001b[0m in \u001b[0;36mrun\u001b[0;34m(self, X, maxiter)\u001b[0m\n\u001b[1;32m    123\u001b[0m         \u001b[0;32mfor\u001b[0m \u001b[0mjiter\u001b[0m \u001b[0;32min\u001b[0m \u001b[0mxrange\u001b[0m\u001b[0;34m(\u001b[0m \u001b[0;36m1\u001b[0m\u001b[0;34m,\u001b[0m \u001b[0mmaxiter\u001b[0m\u001b[0;34m+\u001b[0m\u001b[0;36m1\u001b[0m \u001b[0;34m)\u001b[0m\u001b[0;34m:\u001b[0m\u001b[0;34m\u001b[0m\u001b[0m\n\u001b[1;32m    124\u001b[0m \u001b[0;34m\u001b[0m\u001b[0m\n\u001b[0;32m--> 125\u001b[0;31m             \u001b[0mD\u001b[0m \u001b[0;34m=\u001b[0m \u001b[0mcdist_radec\u001b[0m\u001b[0;34m(\u001b[0m\u001b[0mX\u001b[0m\u001b[0;34m,\u001b[0m \u001b[0mcenters\u001b[0m\u001b[0;34m)\u001b[0m  \u001b[0;31m# npoints x ncenters\u001b[0m\u001b[0;34m\u001b[0m\u001b[0m\n\u001b[0m\u001b[1;32m    126\u001b[0m \u001b[0;34m\u001b[0m\u001b[0m\n\u001b[1;32m    127\u001b[0m             \u001b[0mlabels\u001b[0m \u001b[0;34m=\u001b[0m \u001b[0mD\u001b[0m\u001b[0;34m.\u001b[0m\u001b[0margmin\u001b[0m\u001b[0;34m(\u001b[0m\u001b[0maxis\u001b[0m\u001b[0;34m=\u001b[0m\u001b[0;36m1\u001b[0m\u001b[0;34m)\u001b[0m  \u001b[0;31m# X -> nearest centre\u001b[0m\u001b[0;34m\u001b[0m\u001b[0m\n",
      "\u001b[0;32m/n/home00/lee.5922/.local/lib/python2.7/site-packages/kmeans_radec/kmeans_radec.pyc\u001b[0m in \u001b[0;36mcdist_radec\u001b[0;34m(a1, a2)\u001b[0m\n\u001b[1;32m    340\u001b[0m \u001b[0;34m\u001b[0m\u001b[0m\n\u001b[1;32m    341\u001b[0m     \u001b[0mcostheta\u001b[0m\u001b[0;34m=\u001b[0m\u001b[0mnumpy\u001b[0m\u001b[0;34m.\u001b[0m\u001b[0mclip\u001b[0m\u001b[0;34m(\u001b[0m\u001b[0mcostheta\u001b[0m\u001b[0;34m,\u001b[0m\u001b[0;34m-\u001b[0m\u001b[0;36m1.0\u001b[0m\u001b[0;34m,\u001b[0m\u001b[0;36m1.0\u001b[0m\u001b[0;34m)\u001b[0m\u001b[0;34m\u001b[0m\u001b[0m\n\u001b[0;32m--> 342\u001b[0;31m     \u001b[0mtheta\u001b[0m \u001b[0;34m=\u001b[0m \u001b[0marccos\u001b[0m\u001b[0;34m(\u001b[0m\u001b[0mcostheta\u001b[0m\u001b[0;34m)\u001b[0m\u001b[0;34m\u001b[0m\u001b[0m\n\u001b[0m\u001b[1;32m    343\u001b[0m     \u001b[0;32mreturn\u001b[0m \u001b[0mtheta\u001b[0m\u001b[0;34m\u001b[0m\u001b[0m\n\u001b[1;32m    344\u001b[0m \u001b[0;34m\u001b[0m\u001b[0m\n",
      "\u001b[0;31mKeyboardInterrupt\u001b[0m: "
     ]
    }
   ],
   "source": [
    "randind = np.random.choice( dmass.size, size = dmass.size)\n",
    "dmass['WEIGHT'] = dmass['CMASS_PROB'] # * dmass['VETO']\n",
    "dmass_sam = dmass[randind]\n",
    "\n",
    "pcut2 = (dmass_sam['EachProb_CMASS'] > 0.0)\n",
    "angular_correlation(data = dmass_sam[pcut2], rand = rand, \n",
    "                    nbins=10, weight = [True, None], njack = 50, \n",
    "                    suffix = '_dmass_no_weight2_pcut00_nbins10_jk100', dir = basedir)"
   ]
  },
  {
   "cell_type": "code",
   "execution_count": 390,
   "metadata": {},
   "outputs": [
    {
     "name": "stdout",
     "output_type": "stream",
     "text": [
      "calculate angular correlation function\n",
      "X (1631, 2)  centers (100, 2)  tol=1e-05  maxiter=200\n",
      "15 iterations  cluster sizes: [14 16  5 16 18 17  8 16 26 17 25 10 24 16 16 10 27 15 25 19 27 28 22 11\n",
      " 24 12 21  6 14 16 19  3 24 26 13 23 13 14 16 16 22 20 18 13 15 11 17 21\n",
      " 16 14 14  8 17 37 28 12 13 15 19 16 19 17 30  2 16  8 25 23 13 22 16 21\n",
      " 11 16 22  9 21 18  8 15 12 14  9 14  5 19 11  9 21 23 15 13  1 17 22 12\n",
      " 12  8  9 19]\n",
      "X (665582, 2)  centers (100, 2)  tol=1e-05  maxiter=200\n",
      "82 iterations  cluster sizes: [7450 7043 6828 5494 8148 7881 3410 7058 6034 6626 7616 5875 7589 6060\n",
      " 6674 6085 8825 6631 6480 5784 7227 6963 6017 8112 6793 6222 7529 6611\n",
      " 6182 5931 6361 5909 7325 6356 7854 6051 6528 6055 7795 6271 6442 6372\n",
      " 6288 5078 7846 7879 5597 7451 7409 6911 6586 7431 7369 8024 6815 6395\n",
      " 4288 5996 6253 5524 5556 7093 6108 3600 6140 7512 7215 6624 6701 6703\n",
      " 7697 6548 6689 7537 6310 6892 5882 6142 8031 6505 7368 6069 6837 6961\n",
      " 6609 6098 7464 6307 6760 8270 6199 8145 4248 7067 7005 6669 6627 6833\n",
      " 6097 6827]\n",
      ". . . . . . . . . . . . . . . . . . . . . . . . . . . . . . . . . . . . . . . . . . . . . . . . . . . . . . . . . . . . . . . . . . . . . . . . . . . . . . . . . . . . . . . . . . . . . . . . . . . . . saving data file to :  ../output/sfd_train_photo_SamPle_nozband_ran10_3_full_tol1e5//act//acf_auto_dmass_all_weight_pcut01_nbins10_jk100.txt\n"
     ]
    }
   ],
   "source": [
    "\n",
    "dmass['WEIGHT'] = dmass['CMASS_PROB'] * dmass['WEIGHT_SYS']\n",
    "\n",
    "angular_correlation(data = dmass, rand = rand2, \n",
    "                    nbins=10, weight = [True, None], njack = 100, \n",
    "                    suffix = '_dmass_all_weight_pcut01_nbins10_jk100', dir = basedir)"
   ]
  },
  {
   "cell_type": "code",
   "execution_count": 391,
   "metadata": {},
   "outputs": [
    {
     "name": "stdout",
     "output_type": "stream",
     "text": [
      "calculate angular correlation function\n",
      "X (1631, 2)  centers (100, 2)  tol=1e-05  maxiter=200\n",
      "15 iterations  cluster sizes: [18 12  8 12 19 18  1 22 18 13 11 12 19 27  7 10 18 15 29 11 15 23 18 16\n",
      "  6 12 29 21 15 25 28 25 16 15 17 30 11 17 22 23 12 11 14 16  8 28 13  8\n",
      " 10 19 21 15 20 12 24 13 16 16 18 10 11  9 30 16 10 38 11 19 13  8 10 17\n",
      " 15 19 16 27 28 12  9 16  9 29 15 22 12 13 10 14 14 13 11 26 16 13 23  9\n",
      " 24  9 12 15]\n",
      "X (665582, 2)  centers (100, 2)  tol=1e-05  maxiter=200\n",
      "50 iterations  cluster sizes: [6319 6347 5652 6298 6719 6176 2595 6488 6386 5654 6503 7253 7869 9348\n",
      " 6732 8434 5983 7158 8704 5131 6358 6813 7022 7927 3550 6991 7662 7030\n",
      " 7450 8690 7905 9134 7041 7527 7856 8165 5075 6098 8158 6973 6177 6985\n",
      " 6795 6648 4632 8241 8969 6286 6125 8248 4531 5525 7712 3380 8533 7197\n",
      " 6839 6904 8045 4465 6193 7603 5276 6848 5880 9322 4380 7115 5461 6921\n",
      " 2909 5965 7742 6216 6424 6745 7009 5850 6464 6559 6833 7322 6707 9263\n",
      " 6792 7737 7638 7879 4638 4906 7015 5549 5261 7438 7625 5156 8294 4231\n",
      " 3258 7747]\n",
      ". . . . . . . . . . . . . . . . . . . . . . . . . . . . . . . . . . . . . . . . . . . . . . . . . . . . . . . . . . . . . . . . . . . . . . . . . . . . . . . . . . . . . . . . . . . . . . . . . . . . saving data file to :  ../output/sfd_train_photo_SamPle_nozband_ran10_3_full_tol1e5//act//acf_auto_dmass_veto_pcut01_nbins10_jk100.txt\n"
     ]
    }
   ],
   "source": [
    "\n",
    "dmass['WEIGHT'] = dmass['CMASS_PROB'] # * dmass['VETO']\n",
    "\n",
    "angular_correlation(data = dmass, rand = rand2, \n",
    "                    nbins=10, weight = [True, None], njack = 100, \n",
    "                    suffix = '_dmass_veto_pcut01_nbins10_jk100', dir = basedir)\n"
   ]
  },
  {
   "cell_type": "code",
   "execution_count": 385,
   "metadata": {},
   "outputs": [
    {
     "name": "stdout",
     "output_type": "stream",
     "text": [
      "saving data file to :  ../output/sfd_train_photo_SamPle_nozband_ran10_3_full_tol1e5//act//acf_auto_poisson_dmass_no_veto_pcut01_nbins10_jk100.txt\n"
     ]
    }
   ],
   "source": [
    "dmass['WEIGHT'] = dmass['CMASS_PROB'] * dmass['VETO']\n",
    "#pcut2 = (dmass['CMASS_PROB'] > 0.01)\n",
    "\n",
    "from systematics_module.corr import angular_correlation_poisson\n",
    "angular_correlation_poisson(data = dmass, rand = rand2, \n",
    "                    nbins=10, weight_data = True, \n",
    "                    suffix = '_dmass_no_veto_pcut01_nbins10_jk100', dir = basedir)"
   ]
  },
  {
   "cell_type": "code",
   "execution_count": 387,
   "metadata": {},
   "outputs": [
    {
     "name": "stdout",
     "output_type": "stream",
     "text": [
      "saving data file to :  ../output/sfd_train_photo_SamPle_nozband_ran10_3_full_tol1e5//act//acf_auto_poisson_dmass_all_weight_pcut01_nbins10_jk100.txt\n"
     ]
    }
   ],
   "source": [
    "#mass_masked['WEIGHT'] = dmass_masked['CMASS_PROB'] * dmass_masked['WEIGHT_SYS']\n",
    "dmass['WEIGHT'] = dmass['CMASS_PROB'] * dmass['WEIGHT_SYS']\n",
    "#pcut2 = (dmass['CMASS_PROB'] > 0.01)\n",
    "\n",
    "from systematics_module.corr import angular_correlation_poisson\n",
    "angular_correlation_poisson(data = dmass, rand = rand2, \n",
    "                    nbins=10, weight_data = True, \n",
    "                    suffix = '_dmass_all_weight_pcut01_nbins10_jk100', dir = basedir)"
   ]
  },
  {
   "cell_type": "code",
   "execution_count": 144,
   "metadata": {},
   "outputs": [
    {
     "name": "stdout",
     "output_type": "stream",
     "text": [
      "Help on function maskingCatalogSP in module systematics:\n",
      "\n",
      "maskingCatalogSP(catalog=None, sysMap=None, maskonly=False)\n",
      "\n"
     ]
    }
   ],
   "source": [
    "help(maskingCatalogSP)"
   ]
  },
  {
   "cell_type": "code",
   "execution_count": 145,
   "metadata": {},
   "outputs": [
    {
     "name": "stdout",
     "output_type": "stream",
     "text": [
      "20990512 20990512\n",
      "mask  1.0\n"
     ]
    }
   ],
   "source": [
    "mask = maskingCatalogSP(catalog=rand2, sysMap=sysMap, maskonly=True)"
   ]
  },
  {
   "cell_type": "code",
   "execution_count": 207,
   "metadata": {},
   "outputs": [
    {
     "data": {
      "text/plain": [
       "6777228"
      ]
     },
     "execution_count": 207,
     "metadata": {},
     "output_type": "execute_result"
    }
   ],
   "source": [
    "np.sum(dmass['CMASS_PROB'] != 0)"
   ]
  },
  {
   "cell_type": "code",
   "execution_count": null,
   "metadata": {},
   "outputs": [
    {
     "name": "stdout",
     "output_type": "stream",
     "text": [
      "initial 117292.90214602613 117292.90214602613\n",
      "1 fwhm_r\n",
      "calculate angular correlation function\n",
      "X (1656, 2)  centers (100, 2)  tol=1e-05  maxiter=200\n",
      "19 iterations  cluster sizes: [19 20 21  9 19 21 12 15 16 16  8  9 18 15 19 28 19 16 18 16 17 10 22 19\n",
      " 20 16 12 21 13 25 18 12 13 18 20 15 22 17 13  9 16 18 15 18 12 16 19 13\n",
      " 14 20  9 26 23 21 22 19 13 18 20 23 13 13 13 10 13 14 19 29 20 19 16 11\n",
      " 14 14 18 14 13  9  8 11 26 29 15 28 29 10 19 23 15 14 22 12 18  7 18 17\n",
      "  9 14 10  9]\n",
      "X (685616, 2)  centers (100, 2)  tol=1e-05  maxiter=200\n",
      "123 iterations  cluster sizes: [6441 7955 6301 6394 8879 4456 4444 8022 5690 6667 6491 5585 5734 6335\n",
      " 6402 7428 5392 9126 6937 5760 7600 6384 8082 8084 8379 7502 6737 8351\n",
      " 6837 7782 7160 5120 4447 8195 6597 8876 7551 6367 5340 5366 6859 6734\n",
      " 7171 6730 5991 6531 6636 6249 6798 6950 5724 6877 7131 6631 6752 7229\n",
      " 6739 8656 8602 7892 7568 6666 7655 7013 7033 6615 7570 7422 7107 7521\n",
      " 6340 6541 7130 7539 7316 6624 6578 2637 7174 7752 6930 6745 7154 5190\n",
      " 6032 7931 6884 6988 6617 6618 7443 5887 6843 7258 9684 7073 6989 6856\n",
      " 6544 6071]\n",
      ". . . . . . . . . . . . . . . . . . . . . . . . . . . . . . . . . . . . . . . . . . . . . . . . . . . . . . . . . . . . . . . . . . . . . . . . . . . . . . . . . . . ."
     ]
    }
   ],
   "source": [
    "#tree corr\n",
    "from systematics_module.corr import angular_correlation\n",
    "from systematics_module.corr import angular_correlation_poisson\n",
    "basedir = inputdir+'/act/'\n",
    "os.system('mkdir '+inputdir+'/act/')\n",
    "\n",
    "pcut1 = (dmass['EachProb_CMASS'] > 0.01)\n",
    "pcut2 = (dmass_masked['EachProb_CMASS'] > 0.01)\n",
    "\n",
    "\n",
    "#angular_correlation(data = dmass[pcut1], rand = rand2, \n",
    "#                    nbins=10, weight = [True, None], njack = 100, \n",
    "#                    suffix = '_dmass_no_weight_nbins10_jk100', dir = basedir)\n",
    "\n",
    "#angular_correlation(data = dmass_masked[pcut2], rand = rand2_masked, nbins=10, \n",
    "#                    weight = [True, None], njack = 100, \n",
    "#                    suffix = '_dmass_vetoed_nbins10_jk100', dir = basedir)\n",
    "\n",
    "\"\"\"\n",
    "\n",
    "dmass['WEIGHT'] = dmass['CMASS_PROB']\n",
    "angular_correlation_poisson(data = dmass[pcut1], rand = rand_no_mask, \n",
    "            nbins=10, weight_data = True, \n",
    "            suffix = '_dmass_no_weight_pcut01_nbins10_jk100', dir = basedir)\n",
    "\n",
    "\n",
    "\n",
    "dmass['WEIGHT'] = dmass['CMASS_PROB'] * dmass['VETO']\n",
    "angular_correlation_poisson(data = dmass[pcut1], rand = rand2, \n",
    "            nbins=10, weight_data = True, \n",
    "            suffix = '_dmass_vetoed_pcut01_nbins10_jk100', dir = basedir)\n",
    "\n",
    "\n",
    "\"\"\"\n",
    "\n",
    "weight_com = dmass['CMASS_PROB']\n",
    "#dmass['WEIGHT'] = weight_com\n",
    "\n",
    "print 'initial', np.sum(dmass['WEIGHT'][pcut1]), np.sum(dmass['EachProb_CMASS'][pcut1])\n",
    "for i in range(1,len(weightslist)+1):\n",
    "    \n",
    "     \n",
    "    #for w in weightslist[:i]: weight_com *= w\n",
    "    print i, order[i-1]\n",
    "    weight_com *= weightslist[i-1]\n",
    "    dmass['WEIGHT'] = weight_com\n",
    "    #dmass_m = maskingCatalogSP(catalog=dmass, sysMap=sysMap)\n",
    "    #rand_masked = maskingCatalogSP(catalog=rand2, sysMap=sysMap)\n",
    "    \n",
    "    \n",
    "    #randind = np.random.choice( rand2.size, size = rand2.size/10)\n",
    "    #rand_masked = rand2[randind]\n",
    "    #dmass_m = dmass[randind]\n",
    "    #pcut = (dmass_m['EachProb_CMASS'] > 0.01)\n",
    "    \n",
    "    if i == 1 :       \n",
    "        \n",
    "        angular_correlation(data = dmass[pcut1], rand = rand2, nbins=10, weight = [True, None], njack = 100, \n",
    "                            suffix = '_dmass_weight'+str(i-1)+'_pcut01_nbins10_jk100_redo', dir = basedir)\n",
    "        #angular_correlation_poisson(data = dmass[pcut1], rand = rand2, \n",
    "        #                nbins=10, weight_data = True, \n",
    "        #                suffix = '_dmass_weight'+str(i-1)+'_pcut01_nbins10_jk100', dir = basedir)\n",
    "    else : pass\n",
    "    "
   ]
  },
  {
   "cell_type": "code",
   "execution_count": 9,
   "metadata": {},
   "outputs": [
    {
     "data": {
      "text/plain": [
       "'../output/sfd_train_photo_SamPle_nozband_ran10_3_full_tol1e5/'"
      ]
     },
     "execution_count": 9,
     "metadata": {},
     "output_type": "execute_result"
    }
   ],
   "source": [
    "rootdir"
   ]
  },
  {
   "cell_type": "code",
   "execution_count": 40,
   "metadata": {},
   "outputs": [
    {
     "data": {
      "text/plain": [
       "<matplotlib.text.Text at 0x7f16f100f250>"
      ]
     },
     "execution_count": 40,
     "metadata": {},
     "output_type": "execute_result"
    },
    {
     "data": {
      "image/png": "[encoded data removed]",
      "text/plain": [
       "<matplotlib.figure.Figure at 0x7f17e0c97450>"
      ]
     },
     "metadata": {
      "needs_background": "light"
     },
     "output_type": "display_data"
    }
   ],
   "source": [
    "import scipy\n",
    "\n",
    "theta_th, theory = np.loadtxt('../data_txt/acf_cmass_ngc_theory.txt', unpack=True)\n",
    "theta_th, theory_sgc = np.loadtxt('../data_txt/acf_cmass_sgc_theory.txt', unpack=True)\n",
    "\n",
    "#_, theory_bias = np.loadtxt('../data_txt/acf_cmass_sgc_theory_bias.txt', unpack=True)\n",
    "#meanr, xi, xi_err = np.loadtxt(rootdir+'/act//acf_auto_gold_st82_nbins10_jk100.txt', unpack=True)\n",
    "meanr, xi, xi_err = np.loadtxt(rootdir+'/act//acf_auto_poisson_DMASS_pcut_NOWEIGHT_10bins.txt', unpack=True)\n",
    "meanr2, xi2, xi_err2 = np.loadtxt(rootdir+'/act//acf_auto_dmass_veto_pcut01_nbins10_jk100.txt', unpack=True)\n",
    "meanr3, xi3, xi_err3 = np.loadtxt(rootdir+'/act//acf_auto_dmass_all_weight_pcut01_nbins10_jk100.txt', unpack=True)\n",
    "\n",
    "theory_interp = scipy.interpolate.interp1d(theta_th, theory)\n",
    "theory_interp = theory_interp(meanr)\n",
    "theory_sgc_interp = scipy.interpolate.interp1d(theta_th, theory_sgc)\n",
    "theory_sgc_interp = theory_sgc_interp(meanr)\n",
    "\n",
    "nzs_ratio = theory_sgc_interp/theory_interp\n",
    "\n",
    "\n",
    "meanr_sgc, xi_sgc, xi_err_sgc = np.loadtxt('../data_txt//acf_auto_cmass_sgc_sys_cp_nz_weight_nbins10_jk100.txt',unpack=True)\n",
    "cov_cmass_s = np.genfromtxt('../data_txt//acf_auto_cmass_sgc_sys_cp_nz_weight_nbins10_jk100.cov')\n",
    "\n",
    "\n",
    "\n",
    "\n",
    "fig, ax = plt.subplots(figsize = (13, 10))\n",
    "\n",
    "\n",
    "ax.errorbar(meanr, meanr*xi, yerr = meanr*xi_err, fmt = '-', color='r', label='weight6')\n",
    "ax.errorbar(meanr, meanr*xi_dmass, yerr = meanr*xi_err, fmt = '-', color='k', label='xi_dmass')\n",
    "#ax.errorbar(meanr2, xi2, yerr = xi_err2, fmt = '-', color='b', label='dmass vetoed')\n",
    "#ax.errorbar(meanr3, xi3, yerr = xi_err3, fmt = '-', color='g', label='dmass all weight')\n",
    "#ax.errorbar(meanr_sgc, xi_sgc, yerr = xi_err_sgc, fmt = 'k.', color='r', label='cmass sgc')\n",
    "\n",
    "ax.plot(theta_th, theta_th*theory, '-', color='grey', label='theory')\n",
    "ax.plot(theta_th, theta_th*theory_sgc, '--', color='grey', label='theory sgc')\n",
    "#ax.plot(theta_th, theta_th*theory_bias, '--', color='green', label='theory bias')\n",
    "\n",
    "ax.set_xscale('log')\n",
    "ax.set_yscale('log')\n",
    "ax.legend(loc = 'best', fontsize = 12)\n",
    "#ax.text(1.5, 0.07, r'$\\chi^2 $ = {:0.3f}  (south)'.format(chisqr), fontsize = 12)\n",
    "#ax.set_ylim(1e-4,1)\n",
    "ax.set_xlim(2.5/60, 250./60)\n",
    "ax.set_xlabel(r'$\\theta$ (deg)', fontsize = 15)\n",
    "ax.set_ylabel(r'$\\omega(\\theta)$', fontsize = 15)"
   ]
  },
  {
   "cell_type": "code",
   "execution_count": 49,
   "metadata": {},
   "outputs": [],
   "source": [
    "sys.path.append('/n/des/lee.5922/programs/cosmolike/MG_musigma/cosmolike_planck_working/')\n",
    "from su_utils import read_cov, imshowplot\n",
    "\n",
    "\n",
    "Nthetabin = 10\n",
    "#cov_an_filename = '/n/des/lee.5922/programs/cosmolike/MG_musigma/cosmolike_planck_mg_deltab_gauss/cov/cov_mcal4_dmass_10bins'\n",
    "\n",
    "cov_an_cmass_filename = '/n/des/lee.5922/programs/cosmolike/lighthouse_cov/output_cmass_sgc/cov_mcal4_cmass_sgc_veto_10bins_NG_llll_cov_Ntheta10_Ntomo4_1'\n",
    "#cov_an_cmass_filename = '/n/des/lee.5922/programs/cosmolike/MG_musigma/cosmolike_planck_mg_deltab_gauss/cov/cov_mcal4_cmass_sgc_veto_10bins_NG'\n",
    "cov_an_cmass_only_NG = read_cov( covfilename=cov_an_cmass_filename, G=False )[-10:, -10:]\n",
    "cov_an_cmass_G = read_cov( covfilename=cov_an_cmass_filename, NG=False )[-10:, -10:]\n",
    "cov_an_cmass_NG = cov_an_cmass_G + cov_an_cmass_only_NG\n",
    "\n",
    "#cov_an_dmass_filename = '/n/des/lee.5922/programs/cosmolike/lighthouse_cov/output_dmass/cov_mcal4_dmass_pcut_sysweight_10bins_NG_llll_cov_Ntheta10_Ntomo4_1'\n",
    "cov_an_dmass_filename = '/n/des/lee.5922/programs/cosmolike/lighthouse_cov/output_dmass/cov_mcal4_dmass_pcut_no_veto_10bins_NG_llll_cov_Ntheta10_Ntomo4_1'\n",
    "#cov_an_dmass_filename = '/n/des/lee.5922/programs/cosmolike/MG_musigma/cosmolike_planck_mg_deltab_gauss/cov/cov_mcal4_dmass_pcut_sysweight_10bins_NG'\n",
    "cov_an_dmass_G = read_cov( covfilename=cov_an_dmass_filename, NG = False )[-Nthetabin:, -Nthetabin:]\n",
    "cov_an_dmass_only_NG = read_cov( covfilename=cov_an_dmass_filename, G=False )[-Nthetabin:, -Nthetabin:]\n",
    "cov_an_dmass_NG = cov_an_dmass_G + cov_an_dmass_only_NG\n",
    "\n",
    "\n",
    "#print cov_an.shape"
   ]
  },
  {
   "cell_type": "code",
   "execution_count": 50,
   "metadata": {},
   "outputs": [],
   "source": [
    "def chisquare_calculation(xi1, xi2, F):\n",
    "    \n",
    "    diff = (xi1 - xi2)\n",
    "    chi2 = np.dot(np.dot(diff, F), diff.T)\n",
    "    \n",
    "    return chi2"
   ]
  },
  {
   "cell_type": "code",
   "execution_count": null,
   "metadata": {},
   "outputs": [],
   "source": [
    "cov_mocks = np.genfromtxt('../data_txt/mocks/cov_mock_galaxy_DR12_CMASS_S_QPM_760.cov')\n",
    "#cov_mocks = np.genfromtxt('../data_txt/mocks/cov_mock_galaxy_DR12_CMASS_S_QPM_550_binslop05.cov')\n",
    "#sigma_xi_sgc = np.sqrt(cov_mocks.diagonal()) \n",
    "cov_mocks_ngc = np.genfromtxt('../data_txt/mocks/cov_mock_galaxy_DR12_CMASS_N_QPM_1000.cov')\n",
    "#sigma_xi_ngc = np.sqrt(cov_mocks_ngc.diagonal()) \n",
    "\n",
    "#cov_rescaled_mocks = np.genfromtxt('../data_txt/cmass/cov_rescaled_mocks_NG.txt')\n",
    "cov_rescaled_mocks = np.genfromtxt('../data_txt/cmass/cov_dmass_no_veto_rescaled_mocks_NG.txt')\n",
    "#sigma_xi_dmass = np.sqrt(cov_rescaled_mocks.diagonal()) \n",
    "#print cov_rescaled_mocks.shape"
   ]
  },
  {
   "cell_type": "code",
   "execution_count": 87,
   "metadata": {},
   "outputs": [],
   "source": [
    "#meanr_sgc, xi_sgc, _ = np.loadtxt('../data_txt//acf_auto_cmass_sgc_sys_cp_nz_weight_nbins10_jk100.txt',unpack=True)\n",
    "cmass_sgc_data = np.genfromtxt('../data_txt/cmass/npairs_cmass_sgc_bins10_binslop_05.txt')\n",
    "_, meanr_sgc, _, xi_sgc, _, DD_sgc, RR_sgc, DR_sgc, npairs_sgc = [cmass_sgc_data[:,i] for i in range(9)]\n",
    "cov_cmass_s = cov_mocks.copy() #cov_an_cmass.copy()\n",
    "xi_err_sgc = np.sqrt(cov_cmass_s.diagonal())\n",
    "\n",
    "cmass_ngc_data1 = np.genfromtxt('../data_txt/cmass/npairs_cmass_ngc_bins10_binslop_05.txt')\n",
    "_, meanr_ngc, _, xi_ngc, sigma_xi_ngc1, DD_ngc, RR_ngc, DR_ngc, npairs_ngc = [cmass_ngc_data1[:,i] for i in range(9)]\n",
    "#meanr_ngc, xi_ngc, _ = np.loadtxt('../data_txt//acf_auto_cmass_ngc_sys_cp_nz_weight_nbin10_jk100.txt',unpack=True)\n",
    "cov_cmass_n = cov_mocks_ngc.copy() #np.genfromtxt('../data_txt//acf_auto_cmass_ngc_sys_cp_nz_weight_nbin10_jk100.cov')* 1./HFactor\n",
    "xi_err_ngc = np.sqrt(cov_cmass_n.diagonal())\n",
    "\n",
    "\n",
    "DD_full = DD_sgc + DD_ngc\n",
    "DR_full = DR_sgc + DR_ngc\n",
    "RR_full = RR_sgc + RR_ngc\n",
    "\n",
    "meanr_full = meanr_ngc.copy()\n",
    "xi_full = (DD_full - 2*DR_full + RR_full)*1./RR_full\n",
    "cov_cmass_full = np.linalg.inv(np.linalg.inv( cov_cmass_s ) + np.linalg.inv( cov_cmass_s ))\n",
    "xi_err_full = np.sqrt(cov_cmass_full.diagonal())\n",
    "\n",
    "#dmass_data = np.genfromtxt('../data_txt/cmass/npairs_dmass_pcut_sysweight_bins10_binslop_05.txt')\n",
    "#dmass_data = np.genfromtxt('../data_txt/cmass/npairs_dmass_pcut_veto_no_sysweight_10bins_binslop_05.txt')\n",
    "#dmass_data = np.genfromtxt('../data_txt/cmass/npairs_dmass_pcut_no_veto_10bins_binslop_05.txt')\n",
    "dmass_data = np.genfromtxt('../data_txt/cmass/npairs_dmass_pcut_no_veto_10bins_binslop_05_no3.txt')\n",
    "_, meanr_dmass, _, xi_dmass, _, _, _, _, _ = [dmass_data[:,i] for i in range(9)]\n",
    "cov_dmass = cov_rescaled_mocks.copy() #cov_an_dmass.copy()\n",
    "xi_err_dmass = np.sqrt(cov_dmass.diagonal())\n"
   ]
  },
  {
   "cell_type": "code",
   "execution_count": 19,
   "metadata": {},
   "outputs": [],
   "source": [
    "# callig cosmosis theory line\n",
    "\n",
    "sis_dir = '/n/des/lee.5922/programs/cosmolike/cosmosis/output/'\n",
    "xi_sgc_sis = np.genfromtxt(sis_dir + 'datav_cmass_sgc_theory/galaxy_xi_dmass/bin_1_1.txt')\n",
    "xi_ngc_sis = np.genfromtxt(sis_dir + 'datav_cmass_ngc_theory/galaxy_xi_dmass/bin_1_1.txt')\n",
    "xi_full_sis = np.genfromtxt(sis_dir + 'datav_cmass_full_theory/galaxy_xi_dmass/bin_1_1.txt')\n",
    "theta_sis = np.genfromtxt(sis_dir + 'datav_cmass_sgc_theory/galaxy_xi_dmass/theta.txt')\n",
    "theta_sis = theta_sis * 180/np.pi"
   ]
  },
  {
   "cell_type": "code",
   "execution_count": 20,
   "metadata": {},
   "outputs": [],
   "source": [
    "sis_sgc_interp = scipy.interpolate.interp1d(theta_sis, xi_sgc_sis)\n",
    "#sis_sgc_interp = sis_sgc_interp(meanr_sgc)\n",
    "\n",
    "sis_full_interp = scipy.interpolate.interp1d(theta_sis, xi_full_sis)\n",
    "#sis_full_interp = sis_full_interp(meanr_sgc)\n",
    "\n",
    "sis_ngc_interp = scipy.interpolate.interp1d(theta_sis, xi_ngc_sis)\n",
    "#sis_ngc_interp = sis_ngc_interp(meanr_sgc)"
   ]
  },
  {
   "cell_type": "code",
   "execution_count": 21,
   "metadata": {},
   "outputs": [],
   "source": [
    "def chisquare(data1, data2, cov, ind = 0):\n",
    "    diff = (data1 - data2)[ind:]\n",
    "    F = np.linalg.inv(cov[ind:, ind:])\n",
    "    chi2 = np.dot(diff, np.dot(F, diff))*1./diff.size\n",
    "    return chi2"
   ]
  },
  {
   "cell_type": "code",
   "execution_count": 57,
   "metadata": {},
   "outputs": [
    {
     "data": {
      "text/plain": [
       "'../output/sfd_train_photo_SamPle_nozband_ran10_3_full_tol1e5//act/'"
      ]
     },
     "execution_count": 57,
     "metadata": {},
     "output_type": "execute_result"
    }
   ],
   "source": [
    "basedir"
   ]
  },
  {
   "cell_type": "code",
   "execution_count": 92,
   "metadata": {},
   "outputs": [
    {
     "name": "stdout",
     "output_type": "stream",
     "text": [
      "../output/sfd_train_photo_SamPle_nozband_ran10_3_full_tol1e5//act/acf_auto_poisson_DMASS_pcut_NOWEIGHT_10bins.npairs\n",
      "err db, db / br1, brmin, br2 : 0.03714897818076557 -0.06079545814538134 0.9517673939752543 0.9704990333198354 0.9889163721560199\n",
      "0.5136818835985826\n",
      "../output/sfd_train_photo_SamPle_nozband_ran10_3_full_tol1e5//act/acf_auto_poisson_DMASS_pcut_VETO_10bins.npairs\n",
      "err db, db / br1, brmin, br2 : 0.037131620511355434 -0.059745816927129436 0.9522296720170266 0.9709935971535254 0.989361292528382\n",
      "0.5311722546434221\n",
      "../output/sfd_train_photo_SamPle_nozband_ran10_3_full_tol1e5//act/acf_auto_poisson_DMASS_pcut_WEIGHT0_10bins.npairs\n",
      "err db, db / br1, brmin, br2 : 0.03698920903584235 -0.07031500878897834 0.9473856173183021 0.966036565213277 0.9843748263541444\n",
      "0.6065590165086735\n",
      "../output/sfd_train_photo_SamPle_nozband_ran10_3_full_tol1e5//act/acf_auto_poisson_DMASS_pcut_WEIGHT1_10bins.npairs\n",
      "err db, db / br1, brmin, br2 : 0.03702288008663468 -0.0606204065028364 0.9518934920693852 0.9705814781259409 0.9889163721560199\n",
      "0.39183139331565014\n",
      "../output/sfd_train_photo_SamPle_nozband_ran10_3_full_tol1e5//act/acf_auto_poisson_DMASS_pcut_WEIGHT2_10bins.npairs\n",
      "err db, db / br1, brmin, br2 : 0.037056575352907295 -0.05791279772071567 0.9531535554883421 0.9718584782674667 0.9902101308412494\n",
      "0.3450001774364338\n",
      "../output/sfd_train_photo_SamPle_nozband_ran10_3_full_tol1e5//act/acf_auto_poisson_DMASS_pcut_WEIGHT3_10bins.npairs\n",
      "err db, db / br1, brmin, br2 : 0.037129026482198624 -0.05504220043095032 0.9544538733952982 0.9732160242648994 0.9915828998774968\n",
      "0.3220321910661944\n",
      "../output/sfd_train_photo_SamPle_nozband_ran10_3_full_tol1e5//act/acf_auto_poisson_DMASS_pcut_WEIGHT4_10bins.npairs\n",
      "err db, db / br1, brmin, br2 : 0.037067137546504036 -0.05625856170965182 0.9539507347871169 0.9726403270691424 0.9910178723336209\n",
      "0.3007727912284197\n"
     ]
    },
    {
     "data": {
      "text/plain": [
       "[<matplotlib.text.Text at 0x7f17257c0390>,\n",
       " <matplotlib.text.Text at 0x7f172574c410>,\n",
       " <matplotlib.text.Text at 0x7f172573ff50>,\n",
       " <matplotlib.text.Text at 0x7f17256ca690>,\n",
       " <matplotlib.text.Text at 0x7f17256cad90>,\n",
       " <matplotlib.text.Text at 0x7f17256d24d0>,\n",
       " <matplotlib.text.Text at 0x7f17256d2bd0>,\n",
       " <matplotlib.text.Text at 0x7f17256de310>,\n",
       " <matplotlib.text.Text at 0x7f17256dea10>,\n",
       " <matplotlib.text.Text at 0x7f17256e6150>]"
      ]
     },
     "execution_count": 92,
     "metadata": {},
     "output_type": "execute_result"
    },
    {
     "data": {
      "image/png": "[encoded data removed]",
      "text/plain": [
       "<matplotlib.figure.Figure at 0x7f17257ab6d0>"
      ]
     },
     "metadata": {
      "needs_background": "light"
     },
     "output_type": "display_data"
    }
   ],
   "source": [
    "from systematics import brel_chisqr_fitting\n",
    "import scipy\n",
    "\n",
    "\n",
    "#theta_th, theory = np.loadtxt('../data_txt/acf_cmass_ngc_theory.txt', unpack=True)\n",
    "#theta_th, theory_sgc = np.loadtxt('../data_txt/acf_cmass_sgc_theory.txt', unpack=True)\n",
    "#theory_sgc_interp = scipy.interpolate.interp1d(theta_th, theory_sgc)\n",
    "#theory_sgc_interp = theory_sgc_interp(meanr)\n",
    "\n",
    "fig, ax = plt.subplots(figsize = (3,7))\n",
    "brelsqr = np.linspace(0.5, 1.5, 5000) \n",
    "b_n = 2.0\n",
    "brelarr = np.sqrt(brelsqr)\n",
    "dbarray = b_n*(1-brelarr)\n",
    "\n",
    "\n",
    "labels_SP = ['no weight', 'veto'] + ['+ '+o for o in order] #[1:] ]\n",
    "#labels_SP = ['no weight'] + ['+ '+o for o in order]#[1:] ]\n",
    "\n",
    "\n",
    "filenames = [ basedir+ 'acf_auto_poisson_DMASS_pcut_NOWEIGHT_10bins.npairs' \\\n",
    "              ,basedir + 'acf_auto_poisson_DMASS_pcut_VETO_10bins.npairs'\n",
    "            ] \\\n",
    "+[ basedir+'acf_auto_poisson_DMASS_pcut_WEIGHT'+str(j)+'_10bins.npairs' for j in range(0, len(labels_SP)-2)]\n",
    "\n",
    "#covnames = [ basedir+ 'acf_auto_dmass_no_weight_pcut01_nbins10_jk100.cov' \\\n",
    "#              ,basedir + 'acf_auto_dmass_veto_pcut01_nbins10_jk100.cov'\n",
    "#           ] \\\n",
    "#+[ basedir+'acf_auto_dmass_weight'+str(j)+'_pcut01_nbins10_jk100.cov' for j in range(0, len(labels_SP)-2)]\n",
    "\n",
    "F_d = np.linalg.inv(cov_rescaled_mocks)\n",
    "F_d_an = np.linalg.inv(cov_an_dmass_NG)\n",
    "F_ds = np.linalg.inv(cov_rescaled_mocks + cov_mocks)\n",
    "F_ds_an = np.linalg.inv(cov_an_dmass_NG + cov_an_cmass_NG)\n",
    "    \n",
    "\n",
    "chisquare_list = []\n",
    "chisquare_list_anlytic = []\n",
    "chisquare_data_data_list = []\n",
    "chisquare_data_data_an_list = []\n",
    "\n",
    "delta_chi_list = []\n",
    "delta_chi_list_analytic = []\n",
    "for j in range(1, len(labels_SP)-2):\n",
    "#for j in [1,7]:\n",
    "    \n",
    "    print filenames[j-1]\n",
    "    #meanrw, xiw, xi_errw = np.loadtxt( filenames[j-1], unpack=True)\n",
    "    _, meanrw, _, xiw, xi_errw, _, _, _,npairs = np.loadtxt( filenames[j-1], unpack=True)\n",
    "    #cov_dmass_w = np.loadtxt( covnames[j-1], unpack=True)\n",
    "    #cov_dmass_w = np.loadtxt( covnames[0], unpack=True)\n",
    "    #meanrw, xiw, xi_errw = np.loadtxt(basedir+'acf_auto_dmass_weight'+str(j)+'_nbins10_jk100.txt', unpack=True)\n",
    "    #cov_dmass_w = np.loadtxt(basedir+'acf_auto_dmass_weight'+str(j)+'_nbins10_jk100.cov', unpack=True)\n",
    "    #HFd = HF(100, 10)\n",
    "    #F_d = HFd * np.linalg.inv(cov_dmass_w)\n",
    "    #F_s = np.linalg.inv(cov_cmass_s)\n",
    "    err_brelw, brelw, chisqr_resultw = brel_chisqr_fitting(xiw, sis_sgc_interp(meanrw), F_d, verbose=True)\n",
    "    #err_brelw, brelw, chisqr_resultw = brel_chisqr_fitting(xiw, xi_sgc, F_s, verbose=True)\n",
    "    \n",
    "    chi2 = chisquare_calculation(xiw, sis_sgc_interp(meanrw), F_d)\n",
    "    chisquare_list.append( chi2/xiw.size )\n",
    "    \n",
    "    chi2_an = chisquare_calculation(xiw, sis_sgc_interp(meanrw), F_d_an)\n",
    "    chisquare_list_anlytic.append( chi2_an/xiw.size )\n",
    "    \n",
    "    #chi2 = chisquare_calculation(xiw, xi_sgc, F_ds)\n",
    "    chi2 = chisquare(xi_sgc, xiw, cov_mocks + cov_rescaled_mocks, ind=0)\n",
    "    chisquare_data_data_list.append( chi2 )\n",
    "    print chi2\n",
    "    \n",
    "\n",
    "    chi2 = chisquare(xi_sgc, xiw, cov_an_dmass_NG + cov_an_cmass_NG, ind=0)\n",
    "    #chi2 = chisquare_calculation(xiw, xi_sgc, F_ds_an)\n",
    "    chisquare_data_data_an_list.append( chi2 )\n",
    "    \n",
    "    if j < len(labels_SP) : \n",
    "        #meanrw2, xiw2, xi_errw2 = np.loadtxt( filenames[j], unpack=True)\n",
    "        _, meanrw2, _, xiw2, xi_errw2, _, _, _,npairs = np.loadtxt( filenames[j], unpack=True)\n",
    "        deltaw = xiw2-xiw\n",
    "        delta_chi = np.dot(deltaw, np.dot( F_d/2., deltaw.T ))\n",
    "        delta_chi_list.append(delta_chi)\n",
    "        \n",
    "        delta_chi_an = np.dot(deltaw, np.dot( F_d_an/2., deltaw.T ))\n",
    "        delta_chi_list_analytic.append(delta_chi_an)\n",
    "    \n",
    "    if j == 1 : \n",
    "        color = 'red'\n",
    "        ax.axvspan(2*1 - err_brelw*2., 2*1 + err_brelw*2.,  alpha=0.1, color='grey')\n",
    "        ax.axvline(x=2, color = 'grey', ls='--')\n",
    "        #ax.axvspan(- err_brelw*2.,  err_brelw*2.,  alpha=0.1, color='grey')\n",
    "        #ax.axvline(x=0, color = 'grey', ls='--')\n",
    "    else : color = 'k'  \n",
    "        \n",
    "    ax.errorbar(2*brelw, len(labels_SP)+1-j, xerr =err_brelw*2., fmt='-o', color=color)\n",
    "    \n",
    "#ax.set_xlabel(r'$\\Delta b = b_{fid} - b_x$', fontsize = 20)\n",
    "ax.set_xlabel(r'$b$', fontsize = 20)\n",
    "#ax.set_ylabel(r'$\\chi^2$')\n",
    "ax.legend(loc=1)\n",
    "#ax.set_xlim(1.96, 2.06)\n",
    "#ax.set_yticks([1,2,3,4,5,6,7,8,9,10,11,12])\n",
    "ax.set_yticks(np.arange(1, len(labels_SP)+1 ))\n",
    "\n",
    "labels = labels_SP[::-1]\n",
    "ax.set_yticklabels( labels, fontsize = 15) \n",
    "#fig.savefig(figoutdir + 'sys_bias_weight.png')\n",
    "#print 'pic save to ', figoutdir + 'sys_bias_weight.png'\n",
    "\n",
    "\n",
    "\n",
    "\n"
   ]
  },
  {
   "cell_type": "code",
   "execution_count": 137,
   "metadata": {},
   "outputs": [
    {
     "name": "stdout",
     "output_type": "stream",
     "text": [
      "0.7721609241023436\n",
      "0.7615414314105466\n",
      "0.7606532147831833\n",
      "0.8486739337140488\n",
      "0.7369800740107658\n",
      "0.8804042810215866\n",
      "1.0356001986087837\n",
      "0.8706193967808215\n",
      "1.0823447014516274\n",
      "1.3671828920308182\n"
     ]
    },
    {
     "data": {
      "text/plain": [
       "<matplotlib.text.Text at 0x7f17247eaa50>"
      ]
     },
     "execution_count": 137,
     "metadata": {},
     "output_type": "execute_result"
    },
    {
     "data": {
      "image/png": "[encoded data removed]",
      "text/plain": [
       "<matplotlib.figure.Figure at 0x7f172502eed0>"
      ]
     },
     "metadata": {
      "needs_background": "light"
     },
     "output_type": "display_data"
    }
   ],
   "source": [
    "_, _, _, xi_dmass_az, _, _, _, _,npairs = np.loadtxt( filenames[5], unpack=True)\n",
    "\n",
    "\n",
    "fig, ax = plt.subplots(figsize = (7,7))\n",
    "\n",
    "\n",
    "chi_dmass_data_data_list = np.zeros(xi_sgc.size)\n",
    "chi_dmass_data_data_an_list = np.zeros(xi_sgc.size)\n",
    "\n",
    "chi_dmass_data_data_az_list = np.zeros(xi_sgc.size)\n",
    "chi_dmass_data_data_az_an_list = np.zeros(xi_sgc.size)\n",
    "\n",
    "for ind in range(0, 10):\n",
    "    \n",
    "    #chi_dmass_mocks_data_list[ind] = chisquare(xi_mocks_sgc, xi_dmass, cov_rescaled_mocks, ind=ind)\n",
    "    #chi_dmass_mocks_data_an_list[ind] = chisquare(xi_mocks_sgc, xi_dmass, cov_an_dmass_NG, ind=ind)\n",
    "    chi_dmass_data_data_list[ind] = chisquare(xi_sgc, xi_dmass, cov_mocks + cov_rescaled_mocks, ind=ind)\n",
    "    chi_dmass_data_data_an_list[ind] = chisquare(xi_sgc, xi_dmass, cov_an_cmass_NG + cov_an_dmass_NG, ind=ind)\n",
    "    \n",
    "    chi_dmass_data_data_az_list[ind] = chisquare(xi_sgc, xi_dmass_az, cov_mocks + cov_rescaled_mocks, ind=ind)\n",
    "    chi_dmass_data_data_az_an_list[ind] = chisquare(xi_sgc, xi_dmass_az, cov_an_cmass_NG + cov_an_dmass_NG, ind=ind)\n",
    "    \n",
    "    #chi_dmass_theory_data_list[ind] = chisquare(sis_sgc_interp, xi_dmass, cov_rescaled_mocks, ind=ind)\n",
    "    #chi_dmass_theory_data_an_list[ind] = chisquare(sis_sagc_interp, xi_dmass, cov_an_dmass_NG, ind=ind)\n",
    "    print chi_dmass_data_data_an_list[ind]\n",
    "    \n",
    "#ax.plot(theta_sgc, chi_dmass_mocks_data_list, 'bo-', label='mock-data, cov-mocks')\n",
    "#ax.plot(theta_sgc, chi_dmass_mocks_data_an_list, 'bo--', label='mock-data, cov-an')\n",
    "ax.plot(meanr_sgc, chi_dmass_data_data_list, 'r^-', label='no weight, cov-mocks')\n",
    "ax.plot(meanr_sgc, chi_dmass_data_data_an_list, 'r^--', label='no weight, cov-an')\n",
    "\n",
    "ax.plot(meanr_sgc, chi_dmass_data_data_az_list, 'bo-', label='airmass z, cov-mocks')\n",
    "ax.plot(meanr_sgc, chi_dmass_data_data_az_an_list, 'bo--', label='airmass z, cov-an')\n",
    "\n",
    "#ax.plot(theta_sgc, chi_dmass_theory_data_list, 'ks-', label='data-theory, cov-mocks')\n",
    "#ax.plot(theta_sgc, chi_dmass_theory_data_an_list, 'ks--', label='data-theory, cov-an')\n",
    "ax.set_xscale('log')\n",
    "ax.set_xlim(2.5/60, 250/60.)\n",
    "#ax.set_ylim(0, 4)\n",
    "ax.axhline(y = 1.0, ls='--', color='k', lw=1)\n",
    "\n",
    "ax.legend(loc='best', fontsize=15)\n",
    "ax.set_xlabel('$\\\\theta$ (deg)', fontsize = 20)\n",
    "ax.set_ylabel(r'$\\chi^2/{\\rm dof}$', fontsize = 20)\n",
    "\n",
    "ax.set_title('DMASS data vs. SGC data', fontsize=20)"
   ]
  },
  {
   "cell_type": "code",
   "execution_count": 97,
   "metadata": {},
   "outputs": [
    {
     "data": {
      "text/plain": [
       "<matplotlib.legend.Legend at 0x7f17255acf90>"
      ]
     },
     "execution_count": 97,
     "metadata": {},
     "output_type": "execute_result"
    },
    {
     "data": {
      "image/png": "[encoded data removed]",
      "text/plain": [
       "<matplotlib.figure.Figure at 0x7f17254ead90>"
      ]
     },
     "metadata": {
      "needs_background": "light"
     },
     "output_type": "display_data"
    }
   ],
   "source": [
    "fig, ax = plt.subplots()\n",
    "\n",
    "ax.plot( np.arange(len(chisquare_list)), chisquare_list, 'ko-', label='data-theory, mock cov' )\n",
    "ax.plot( np.arange(len(chisquare_list)), chisquare_list_anlytic, 'ko--', label='data-theory, analytic cov' )\n",
    "ax.plot( np.arange(len(chisquare_list)), chisquare_data_data_list, 'rs-', label='data-data, cov mocks' )\n",
    "ax.plot( np.arange(len(chisquare_list)), chisquare_data_data_an_list, 'rs--', label='data-data, analytic cov' )\n",
    "\n",
    "#ax.set_xlabel(r'$\\Delta b = b_{fid} - b_x$', fontsize = 20)\n",
    "ax.set_ylabel(r'$\\chi^2/ dof$', fontsize = 20)\n",
    "#ax.set_ylabel(r'$\\chi^2$')\n",
    "#ax.legend(loc=1)\n",
    "#ax.set_xlim(1.96, 2.06)\n",
    "#ax.set_yticks([1,2,3,4,5,6,7,8,9,10,11,12])\n",
    "ax.set_xticks(np.arange(0, len(labels_SP) ))\n",
    "ax.axhline(y=1.0, color='grey', ls='--')\n",
    "\n",
    "labels = labels_SP\n",
    "ax.set_xticklabels( labels, fontsize = 15, rotation=90) \n",
    "\n",
    "ax.legend()\n",
    "\n"
   ]
  },
  {
   "cell_type": "code",
   "execution_count": 90,
   "metadata": {},
   "outputs": [
    {
     "data": {
      "text/plain": [
       "[0.7850340745698972,\n",
       " 0.7884390501875588,\n",
       " 0.8459772881618424,\n",
       " 0.6129550005645541,\n",
       " 0.5653033440598881,\n",
       " 0.540526041822423,\n",
       " 0.5181774814747364]"
      ]
     },
     "execution_count": 90,
     "metadata": {},
     "output_type": "execute_result"
    }
   ],
   "source": [
    "chisquare_data_data_an_list"
   ]
  },
  {
   "cell_type": "code",
   "execution_count": 39,
   "metadata": {},
   "outputs": [
    {
     "data": {
      "text/plain": [
       "''"
      ]
     },
     "execution_count": 39,
     "metadata": {},
     "output_type": "execute_result"
    }
   ],
   "source": [
    "labels_SP[2].split('+')[0]"
   ]
  },
  {
   "cell_type": "code",
   "execution_count": 128,
   "metadata": {},
   "outputs": [
    {
     "data": {
      "text/plain": [
       "<matplotlib.text.Text at 0x7f17247ea250>"
      ]
     },
     "execution_count": 128,
     "metadata": {},
     "output_type": "execute_result"
    },
    {
     "data": {
      "image/png": "[encoded data removed]",
      "text/plain": [
       "<matplotlib.figure.Figure at 0x7f17247b35d0>"
      ]
     },
     "metadata": {
      "needs_background": "light"
     },
     "output_type": "display_data"
    }
   ],
   "source": [
    "fig, ax = plt.subplots()\n",
    "\n",
    "delta_chisquare_list = np.array(chisquare_list[:-1]) - np.array(chisquare_list[1:]) \n",
    "delta_chisquare_list_an = np.array(chisquare_list_anlytic[:-1]) - np.array(chisquare_list_anlytic[1:]) \n",
    "#ax.plot( np.arange(9), delta_chisquare_list, label='mock' )\n",
    "#ax.plot( np.arange(9), delta_chisquare_list_an, label='analytic' )\n",
    "ax.plot( np.arange(len(delta_chi_list)), delta_chi_list, 'o' , markersize = 12, label='mock' )\n",
    "ax.plot( np.arange(len(delta_chi_list)), delta_chi_list_analytic, '^', markersize = 12, label='analytic' )\n",
    "ax.legend()\n",
    "\n",
    "#ax.set_xlabel(r'$\\Delta b = b_{fid} - b_x$', fontsize = 20)\n",
    "ax.set_ylabel(r'$\\Delta \\chi^2$', fontsize = 20)\n",
    "ax.axhline(y=0, color='k', ls='--')\n",
    "#ax.set_ylabel(r'$\\chi^2$')\n",
    "#ax.legend(loc=1)\n",
    "#ax.set_xlim(1.96, 2.06)\n",
    "#ax.set_yticks([1,2,3,4,5,6,7,8,9,10,11,12])\n",
    "ax.set_xticks(np.arange(0, len(labels_SP) ))\n",
    "\n",
    "#labels = [ labels_SP[i+1].split('+')[-1] + ' - ' + labels_SP[i].split('+')[-1] for i in range(len(labels_SP)-1) ]\n",
    "labels = [ labels_SP[i+1].split('+')[-1] for i in range(len(labels_SP)-1) ]\n",
    "ax.set_xticklabels( labels, fontsize = 12, rotation=45) \n",
    "ax.set_xlabel(' X - (previous weight)', fontsize = 20)"
   ]
  },
  {
   "cell_type": "code",
   "execution_count": 150,
   "metadata": {},
   "outputs": [
    {
     "data": {
      "text/plain": [
       "<matplotlib.text.Text at 0x7f172258d7d0>"
      ]
     },
     "execution_count": 150,
     "metadata": {},
     "output_type": "execute_result"
    },
    {
     "data": {
      "image/png": "[encoded data removed]",
      "text/plain": [
       "<matplotlib.figure.Figure at 0x7f17226989d0>"
      ]
     },
     "metadata": {
      "needs_background": "light"
     },
     "output_type": "display_data"
    }
   ],
   "source": [
    "import scipy\n",
    "\n",
    "_, _, _, xi_dmass_no_weight, _, _, _, _,npairs = np.loadtxt( filenames[0], unpack=True)\n",
    "_, _, _, xi_dmass_az, _, _, _, _,npairs = np.loadtxt( filenames[5], unpack=True)\n",
    "\n",
    "\n",
    "\n",
    "\n",
    "fig, ax = plt.subplots(figsize = (7, 5))\n",
    "\n",
    "\n",
    "ax.errorbar(meanr_dmass*0.97, meanr_dmass* xi_dmass_no_weight, yerr = meanr_dmass* xi_err_dmass, fmt = '-', color='k', label='no weight')\n",
    "ax.errorbar(meanr_dmass, meanr_dmass*xi_dmass_az, yerr = meanr_dmass * xi_err_dmass, fmt = '-', color='r', label='airmass-z')\n",
    "ax.errorbar(meanr_sgc*1.03, meanr_sgc*xi_sgc, yerr = meanr_sgc*xi_err_sgc, fmt = '-', color='orange', label='sgc data')\n",
    "#ax.errorbar(meanr3, xi3, yerr = xi_err3, fmt = '-', color='g', label='dmass all weight')\n",
    "#ax.errorbar(meanr_sgc, xi_sgc, yerr = xi_err_sgc, fmt = 'k.', color='r', label='cmass sgc')\n",
    "\n",
    "ax.plot(theta_sis, theta_sis * xi_sgc_sis, '--', color='grey', label='theory')\n",
    "#ax.plot(theta_th, theta_th*theory_bias, '--', color='green', label='theory bias')\n",
    "\n",
    "ax.set_xscale('log')\n",
    "ax.set_yscale('log')\n",
    "ax.legend(loc = 'best', fontsize = 12)\n",
    "#ax.text(1.5, 0.07, r'$\\chi^2 $ = {:0.3f}  (south)'.format(chisqr), fontsize = 12)\n",
    "ax.set_ylim(5e-4,0.03)\n",
    "ax.set_xlim(2.5/60, 250./60)\n",
    "ax.set_xlabel(r'$\\theta$ (deg)', fontsize = 15)\n",
    "ax.set_ylabel(r'$\\theta \\omega(\\theta)$', fontsize = 15)"
   ]
  },
  {
   "cell_type": "code",
   "execution_count": null,
   "metadata": {},
   "outputs": [],
   "source": []
  }
 ],
 "metadata": {
  "kernelspec": {
   "display_name": "Python 2",
   "language": "python",
   "name": "python2"
  },
  "language_info": {
   "codemirror_mode": {
    "name": "ipython",
    "version": 2
   },
   "file_extension": ".py",
   "mimetype": "text/x-python",
   "name": "python",
   "nbconvert_exporter": "python",
   "pygments_lexer": "ipython2",
   "version": "2.7.5"
  }
 },
 "nbformat": 4,
 "nbformat_minor": 1
}
