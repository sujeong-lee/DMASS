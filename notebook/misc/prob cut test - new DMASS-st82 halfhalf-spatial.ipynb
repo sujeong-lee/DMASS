{
 "cells": [
  {
   "cell_type": "code",
   "execution_count": 1,
   "metadata": {},
   "outputs": [],
   "source": [
    "import os, sys, fitsio\n",
    "sys.path.append('../')\n",
    "import numpy as np\n",
    "import healpy as hp\n",
    "from run_DMASS import *\n",
    "%matplotlib inline\n",
    "\n",
    "%load_ext autoreload\n",
    "%autoreload 2"
   ]
  },
  {
   "cell_type": "code",
   "execution_count": 2,
   "metadata": {},
   "outputs": [],
   "source": [
    "import healpy as hp"
   ]
  },
  {
   "cell_type": "code",
   "execution_count": 3,
   "metadata": {},
   "outputs": [
    {
     "data": {
      "text/plain": [
       "256"
      ]
     },
     "execution_count": 3,
     "metadata": {},
     "output_type": "execute_result"
    }
   ],
   "source": [
    "rootdir = '../output/st82_halfhalf_numdensity_spatial/'\n",
    "figoutdir = rootdir + '/figure/'\n",
    "os.system('mkdir '+figoutdir)"
   ]
  },
  {
   "cell_type": "code",
   "execution_count": 4,
   "metadata": {},
   "outputs": [],
   "source": [
    "#import pickle\n",
    "#filename = open('../output/sfd_train_photo_SamPle_nozband_ran10_3_full_tol1e5/gold_st82_XD_no_full_tol1e5.pkl')\n",
    "#pic = pickle.load(filename)"
   ]
  },
  {
   "cell_type": "code",
   "execution_count": 5,
   "metadata": {},
   "outputs": [
    {
     "name": "stdout",
     "output_type": "stream",
     "text": [
      "\n",
      "--------------------------------\n",
      " calling catalog\n",
      "--------------------------------\n",
      "dmass_st82_highra.fits\n",
      "\n",
      "--------------------------------\n",
      " calling catalog\n",
      "--------------------------------\n",
      "dmass_st82_lowra.fits\n",
      "dmass sample size : 5860.1192427372225 6358.345886268865\n",
      "cmass sample size : 5758 5814 11572\n"
     ]
    }
   ],
   "source": [
    "# import DMASS\n",
    "\n",
    "#dmass = fitsio.read(rootdir+'spt.fits')\n",
    "dmass_st82_even = io.SearchAndCallFits(path = rootdir, keyword='dmass_st82_highra')\n",
    "dmass_st82_odd = io.SearchAndCallFits(path = rootdir, keyword='dmass_st82_lowra')\n",
    "dmass_st82_even = Cuts.keepGoodRegion(dmass_st82_even)\n",
    "dmass_st82_odd = Cuts.keepGoodRegion(dmass_st82_odd)\n",
    "#dmass_st82 = io.SearchAndCallFits(path = rootdir, keyword='dmass_st82.fits')\n",
    "#dmass = fitsio.read(rootdir+'dmass_spt_sys_v3.fits')\n",
    "#dmass = dmass[dmass['EachProb_CMASS'] > 0.00]\n",
    "print 'dmass sample size :', np.sum(dmass_st82_even['CMASS_PROB']), np.sum(dmass_st82_odd['CMASS_PROB'])\n",
    "\n",
    "\n",
    "cmass = fitsio.read('../output/sfd_train_photo_SamPle_nozband_ran10_3_full_tol1e5_baomask///train_sample_des.fits')\n",
    "cmass = Cuts.keepGoodRegion(cmass)\n",
    "#healConfig={}\n",
    "#healConfig['out_nside'] = 64\n",
    "#cmass = HealPixifyCatalogs(catalog=cmass, healConfig=healConfig, ratag='RA', dectag = 'DEC')\n",
    "\n",
    "evenmask = cmass['RA'] > 339\n",
    "#evenmask = gold_st82['RA'] > 339\n",
    "\n",
    "#evenmask = cmass['HEALIndex']%2 == 0\n",
    "cmass_even = cmass[evenmask]\n",
    "cmass_odd = cmass[~evenmask]\n",
    "print 'cmass sample size :', cmass_even.size, cmass_odd.size, cmass.size\n",
    "\n",
    "#dmass = appendColumn(dmass, name = 'WEIGHT', value = dmass['EachProb_CMASS'], dtypes=float)\n",
    "#dmass_st82 = appendColumn(dmass_st82, name = 'WEIGHT', value = dmass_st82['EachProb_CMASS'], dtypes=float)\n",
    "\n",
    "#print 'dmass st82 sample size :', np.sum(dmass_st82['CMASS_PROB'])\n",
    "#print 'cmass sample size :', cmass.size"
   ]
  },
  {
   "cell_type": "code",
   "execution_count": 7,
   "metadata": {},
   "outputs": [
    {
     "data": {
      "text/plain": [
       "(11572, 5758, 5814)"
      ]
     },
     "execution_count": 7,
     "metadata": {},
     "output_type": "execute_result"
    }
   ],
   "source": [
    "cmass.size, cmass_even.size, cmass_odd.size"
   ]
  },
  {
   "cell_type": "code",
   "execution_count": 10,
   "metadata": {},
   "outputs": [
    {
     "name": "stdout",
     "output_type": "stream",
     "text": [
      "\n",
      "--------------------------------\n",
      " calling catalog\n",
      "--------------------------------\n",
      "random_x50_dmass_spt_masked.fits\n"
     ]
    }
   ],
   "source": [
    "#random = io.SearchAndCallFits(path = rootdir, keyword='random_x50_dmass_spt_masked.fits')"
   ]
  },
  {
   "cell_type": "code",
   "execution_count": 10,
   "metadata": {},
   "outputs": [],
   "source": [
    "# calling map \n",
    "GoldMask = callingEliGoldMask()\n",
    "#GoldMask = callingY1GoldMask( nside = 4096 )\n",
    "#GoldMask_st82 = Cuts.SpatialCuts(GoldMask, ra=320, ra2=360, dec=-2, dec2=2)\n",
    "GoldMask_st82 = GoldMask[ GoldMask['DEC'] > -3.0 ]\n",
    "GoldMask_spt = GoldMask[ GoldMask['DEC'] < -3.0 ]\n",
    "#GoldMask_spt = cutcat20(GoldMask_spt)\n",
    "#GoldMask_spt = Cuts.SpatialCuts(GoldMask_spt, ra=0, ra2 = 100, dec=-52, dec2 = -48)\n",
    "\n",
    "pixarea = hp.nside2pixarea( 4096, degrees = True)\n",
    "sptnpix = np.sum(GoldMask_spt['FRAC']) #hp.get_map_size( GoldMask_spt['PIXEL'] )\n",
    "st82npix =  np.sum(GoldMask_st82['FRAC']) # hp.get_map_size( GoldMask_st82 )\n",
    "SPTMaparea = pixarea * sptnpix\n",
    "ST82Maparea = pixarea * st82npix"
   ]
  },
  {
   "cell_type": "code",
   "execution_count": 11,
   "metadata": {
    "scrolled": true
   },
   "outputs": [
    {
     "data": {
      "text/plain": [
       "(113.34792842737247, 1204.3633578044362)"
      ]
     },
     "execution_count": 11,
     "metadata": {},
     "output_type": "execute_result"
    }
   ],
   "source": [
    "ST82Maparea, SPTMaparea"
   ]
  },
  {
   "cell_type": "code",
   "execution_count": 12,
   "metadata": {},
   "outputs": [
    {
     "name": "stdout",
     "output_type": "stream",
     "text": [
      "11511727 11859756\n"
     ]
    },
    {
     "data": {
      "text/plain": [
       "\"\\nrandom = uniform_random_on_sphere(GoldMask, size = 10 * dmass.size)\\nrandom = Cuts.keepGoodRegion(random)\\n#rand = Cuts.keepY1GoldRegion(rand)\\nrand2 = random[ random['DEC'] < -3.0 ]\\nrand_st82_2 = random[ random['DEC'] > -3.0 ]\\n#rand2 = cutcat20(rand2)\\n\\nprint rand.size, dmass.size\\n#rand_train = uniform_random_on_sphere(clean_cmass_data_des, size = 10 * clean_cmass_data_des.size)\\n#rand_train = Cuts.keepGoodRegion(rand_train)\\nrandom = None\\n\""
      ]
     },
     "execution_count": 12,
     "metadata": {},
     "output_type": "execute_result"
    }
   ],
   "source": [
    "\n",
    "random = uniform_random_on_sphere(GoldMask_st82, size = 100 * dmass_st82_even.size)\n",
    "random = Cuts.keepGoodRegion(random)\n",
    "#rand = Cuts.keepY1GoldRegion(rand)\n",
    "#rand = random[ random['DEC'] < -3.0 ]\n",
    "rand_st82 = random[ random['DEC'] > -3.0 ]\n",
    "\n",
    "#healConfig={}\n",
    "#healConfig['out_nside'] = 64\n",
    "#rand_st82 = HealPixifyCatalogs(catalog=rand_st82, healConfig=healConfig, ratag='RA', dectag = 'DEC')\n",
    "\n",
    "evenmask = rand_st82['RA']>339\n",
    "rand_st82_even = rand_st82[evenmask]\n",
    "rand_st82_odd = rand_st82[~evenmask]\n",
    "\n",
    "print rand_st82_even.size, rand_st82_odd.size\n",
    "\n",
    "#rand2 = cutcat20(rand2)\n",
    "\n",
    "\"\"\"\n",
    "random = uniform_random_on_sphere(GoldMask, size = 10 * dmass.size)\n",
    "random = Cuts.keepGoodRegion(random)\n",
    "#rand = Cuts.keepY1GoldRegion(rand)\n",
    "rand2 = random[ random['DEC'] < -3.0 ]\n",
    "rand_st82_2 = random[ random['DEC'] > -3.0 ]\n",
    "#rand2 = cutcat20(rand2)\n",
    "\n",
    "print rand.size, dmass.size\n",
    "#rand_train = uniform_random_on_sphere(clean_cmass_data_des, size = 10 * clean_cmass_data_des.size)\n",
    "#rand_train = Cuts.keepGoodRegion(rand_train)\n",
    "random = None\n",
    "\"\"\"\n"
   ]
  },
  {
   "cell_type": "code",
   "execution_count": 13,
   "metadata": {},
   "outputs": [],
   "source": [
    "\n",
    "#train_sample = esutil.io.read('../output/sfd_train_photo_SamPle_nozband_ran10_3/cmass_in_st82.fits')\n",
    "\n",
    "#mg1, mg2, _ = esutil.htm.HTM(10).match(train_sample['RA'], train_sample['DEC'], dmass_st82['RA'], \\\n",
    "#                                     dmass_st82['DEC'],2./3600, maxmatch=1)\n",
    "#cmass_mask = np.zeros(dmass_st82.size, dtype=bool)\n",
    "#cmass_mask[mg2] = 1\n",
    "#clean_cmass_data_des, nocmass = dmass_st82[cmass_mask], dmass_st82[~cmass_mask]\n",
    "\n",
    "train_sample = cmass.copy()\n",
    "\n",
    "mg1, mg2, _ = esutil.htm.HTM(10).match(train_sample['RA'], train_sample['DEC'], dmass_st82_even['RA'], \\\n",
    "                                     dmass_st82_even['DEC'],2./3600, maxmatch=1)\n",
    "cmass_mask = np.zeros(dmass_st82_even.size, dtype=bool)\n",
    "cmass_mask[mg2] = 1\n",
    "clean_cmass_data_des_even, nocmass_even = dmass_st82_even[cmass_mask], dmass_st82_even[~cmass_mask]\n",
    "\n",
    "\n",
    "mg1, mg2, _ = esutil.htm.HTM(10).match(train_sample['RA'], train_sample['DEC'], dmass_st82_odd['RA'], \\\n",
    "                                     dmass_st82_odd['DEC'],2./3600, maxmatch=1)\n",
    "cmass_mask = np.zeros(dmass_st82_odd.size, dtype=bool)\n",
    "cmass_mask[mg2] = 1\n",
    "clean_cmass_data_des_odd, nocmass_odd = dmass_st82_odd[cmass_mask], dmass_st82_odd[~cmass_mask]"
   ]
  },
  {
   "cell_type": "code",
   "execution_count": 14,
   "metadata": {},
   "outputs": [],
   "source": [
    "pbinsmall, steps = np.linspace(0, 0.02, 21,retstep=1 )\n",
    "pbinbig, stepb = np.linspace(0.02, 1, 197, retstep=1 )\n",
    "pth_bin = np.hstack([pbinsmall, pbinbig[1:]])\n",
    "pcenters = pbinsmall[:-1] + steps/2.\n",
    "pcenterb = pbinbig[:-1] + stepb/2.\n",
    "pcenter = np.hstack([pcenters, pcenterb[1:]])"
   ]
  },
  {
   "cell_type": "code",
   "execution_count": 15,
   "metadata": {},
   "outputs": [
    {
     "data": {
      "image/png": "[encoded data removed]",
      "text/plain": [
       "<matplotlib.figure.Figure at 0x7f7e3c07f510>"
      ]
     },
     "metadata": {},
     "output_type": "display_data"
    }
   ],
   "source": [
    "\n",
    "pbin = np.linspace(0,1,31)\n",
    "\n",
    "fig, ax = plt.subplots()\n",
    "_ = ax.hist( dmass_st82_even['CMASS_PROB'], bins = pbin, \n",
    "            normed=True, alpha= 0.5, weights = dmass_st82_even['CMASS_PROB'] )\n",
    "_ = ax.hist( dmass_st82_odd['CMASS_PROB'], bins = pbin, \n",
    "           normed=True, alpha= 0.5, weights = dmass_st82_odd['CMASS_PROB'] )\n",
    "#_ = ax.hist( dmass_st82['CMASS_PROB'], bins = pbin, \n",
    "#           normed=True, alpha= 0.5, weights = dmass_st82['CMASS_PROB'] )\n",
    "_ = ax.hist( clean_cmass_data_des_even['CMASS_PROB'], bins = pbin, normed=True, alpha= 0.5 )\n",
    "_ = ax.hist( clean_cmass_data_des_odd['CMASS_PROB'], bins = pbin, normed=True, alpha= 0.5 )"
   ]
  },
  {
   "cell_type": "code",
   "execution_count": 17,
   "metadata": {
    "scrolled": false
   },
   "outputs": [
    {
     "data": {
      "image/png": "[encoded data removed]",
      "text/plain": [
       "<matplotlib.figure.Figure at 0x7f7ea7381150>"
      ]
     },
     "metadata": {},
     "output_type": "display_data"
    },
    {
     "data": {
      "image/png": "[encoded data removed]",
      "text/plain": [
       "<matplotlib.figure.Figure at 0x7f7e30e01710>"
      ]
     },
     "metadata": {},
     "output_type": "display_data"
    },
    {
     "data": {
      "image/png": "[encoded data removed]",
      "text/plain": [
       "<matplotlib.figure.Figure at 0x7f7ea527af90>"
      ]
     },
     "metadata": {},
     "output_type": "display_data"
    }
   ],
   "source": [
    "\n",
    "pbin, ps = np.linspace(0,1,21, retstep=True)\n",
    "\n",
    "#from matplotlib import rc\n",
    "#rc('font',**{'family':'sans-serif','sans-serif':['Helvetica']})\n",
    "## for Palatino and other serif fonts use:\n",
    "#rc('font',**{'family':'serif','serif':['Palatino']})\n",
    "plt.rc('text', usetex=True)\n",
    "plt.rc('font', family='serif')\n",
    "\n",
    "\n",
    "fig, ax = plt.subplots()\n",
    "_ = ax.hist( dmass_st82_even['CMASS_PROB'], bins = pbin, \n",
    "            normed=True, alpha= 0.5, weights = dmass_st82_even['CMASS_PROB'] )\n",
    "_ = ax.hist( dmass_st82_odd['CMASS_PROB'], bins = pbin, \n",
    "           normed=True, alpha= 0.5, weights = dmass_st82_odd['CMASS_PROB'] )\n",
    "#_ = ax.hist( dmass_st82['CMASS_PROB'], bins = pbin, \n",
    "#           normed=True, alpha= 0.5, weights = dmass_st82['CMASS_PROB'] )\n",
    "#_ = ax.hist( clean_cmass_data_des_even['CMASS_PROB'], bins = pbin, normed=True, alpha= 0.5 )\n",
    "N_cmass_even, _, _ = ax.hist( clean_cmass_data_des_even['CMASS_PROB'], bins = pbin, normed=False, alpha= 0.5 )\n",
    "N_all_even, _, _ = ax.hist( dmass_st82_even['CMASS_PROB'], bins = pbin, \n",
    "            normed=False, alpha= 0.5 )\n",
    "\n",
    "N_cmass_odd, _, _ = ax.hist( clean_cmass_data_des_odd['CMASS_PROB'], bins = pbin, normed=False, alpha= 0.5 )\n",
    "N_all_odd, _, _ = ax.hist( dmass_st82_odd['CMASS_PROB'], bins = pbin, \n",
    "            normed=False, alpha= 0.5 )\n",
    "\n",
    "#N_cmass, _, _ = ax.hist( clean_cmass_data_des['CMASS_PROB'], bins = pbin, normed=False, alpha= 0.5 )\n",
    "#N_all, _, _ = ax.hist( dmass_st82['CMASS_PROB'], bins = pbin, \n",
    "#            normed=False, alpha= 0.5 )\n",
    "\n",
    "fig, ax = plt.subplots(figsize = (5,5))\n",
    "#ax.plot(pbin[:-1]+ps/2., N_cmass*1./N_all )\n",
    "ax.errorbar(pbin[:-1]+ps/2.-0.01 , N_cmass_even*1./N_all_even, yerr = 1./np.sqrt(N_cmass_even), fmt='', label='train'  )\n",
    "ax.errorbar(pbin[:-1]+ps/2., N_cmass_odd*1./N_all_odd, yerr = 1./np.sqrt(N_cmass_odd),fmt='', label='test' )\n",
    "#ax.errorbar(pbin[:-1]+ps/2., N_cmass*1./N_all, yerr = 1./np.sqrt(N_cmass), label='full' )\n",
    "ax.plot([0,1], [0,1], ls='--', color='grey')\n",
    "ax.set_ylim(0,1)\n",
    "ax.set_xlim(0,1)\n",
    "\n",
    "ax.set_xlabel(r'${\\rm Model~Probability}$', fontsize = 20)\n",
    "ax.set_ylabel(r'$\\frac{\\rm N_{c}}{\\rm N_{all}}$', fontsize = 20)\n",
    "ax.tick_params(axis='both', labelsize = 15)\n",
    "ax.legend(loc='best', fontsize=15)\n",
    "fig.tight_layout()\n",
    "fig.savefig('../paper_figure/model_prob_train_spatial.pdf')\n",
    "\n",
    "fig, ax = plt.subplots(figsize = (5,5))\n",
    "#ax.plot(pbin[:-1]+ps/2., N_cmass*1./N_all )\n",
    "#ax.errorbar(pbin[:-1]+ps/2.-0.01 , N_cmass_even*1./N_all_even, yerr = 1./np.sqrt(N_cmass_even), fmt='', label='train'  )\n",
    "ax.errorbar(pbin[:-1]+ps/2., N_cmass_odd*1./N_all_odd, yerr = 1./np.sqrt(N_cmass_odd),fmt='', label='test' )\n",
    "#ax.errorbar(pbin[:-1]+ps/2., N_cmass*1./N_all, yerr = 1./np.sqrt(N_cmass), label='full' )\n",
    "ax.plot([0,1], [0,1], ls='--', color='grey')\n",
    "ax.set_ylim(0,1)\n",
    "ax.set_xlim(0,1)\n",
    "\n",
    "ax.set_xlabel(r'${\\rm Model~Probability}$', fontsize = 20)\n",
    "ax.set_ylabel(r'$\\frac{N_{\\rm c}}{\\rm N_{all}}$', fontsize = 20)\n",
    "ax.tick_params(axis='both', labelsize = 15)\n",
    "#ax.legend(loc='best', fontsize=15)\n",
    "fig.tight_layout()\n",
    "fig.savefig('../paper_figure/model_prob_test_spatial.pdf')"
   ]
  },
  {
   "cell_type": "code",
   "execution_count": null,
   "metadata": {},
   "outputs": [],
   "source": []
  },
  {
   "cell_type": "code",
   "execution_count": 176,
   "metadata": {},
   "outputs": [
    {
     "name": "stdout",
     "output_type": "stream",
     "text": [
      "0.0 6642.029684236465 6354.456661902469\n",
      "0.001 6611.830354759245 6325.557891840383\n",
      "0.002 6589.2100731573955 6303.7841521633845\n",
      "0.003 6568.883646792504 6284.036054715164\n",
      "0.004 6550.363551438668 6265.703756033771\n",
      "0.005 6532.178023963603 6248.728748646414\n",
      "0.006 6515.338447528913 6232.769605322137\n",
      "0.007 6499.497173406395 6217.374636465673\n",
      "0.008 6484.2044039329 6202.743637639961\n",
      "0.009000000000000001 6469.185409448837 6188.709680280634\n",
      "0.01 6455.427206649112 6175.173750403913\n",
      "0.011 6442.200562424443 6161.9519861243125\n",
      "0.012 6428.735937836025 6149.211116958344\n",
      "0.013000000000000001 6415.239222484904 6136.943440576358\n",
      "0.014 6402.968102001631 6123.986064871951\n",
      "0.015 6390.199099606551 6112.197360547312\n"
     ]
    },
    {
     "data": {
      "image/png": "[encoded data removed]",
      "text/plain": [
       "<matplotlib.figure.Figure at 0x7fc7b7951590>"
      ]
     },
     "metadata": {},
     "output_type": "display_data"
    }
   ],
   "source": [
    "cmass_numdensity_even = cmass_even.size * 1./rand_st82_even.size\n",
    "cmass_numdensity_odd = cmass_odd.size * 1./rand_st82_odd.size\n",
    "cmass_numdensity = cmass.size * 1./rand_st82.size\n",
    "\n",
    "fig, ax = plt.subplots(figsize = (5,5))\n",
    "\n",
    "i=0\n",
    "for pc in pth_bin[:16] :\n",
    "    #print i,\n",
    "    \n",
    "    #dmass_spt_pc, _ = resampleWithPth( gold_spt_prob_ran, pstart = pc)\n",
    "    dc = dmass_st82[dmass_st82['CMASS_PROB'] > pc] \n",
    "    dc_even = dmass_st82_even[dmass_st82_even['CMASS_PROB'] > pc] \n",
    "    dc_odd = dmass_st82_odd[dmass_st82_odd['CMASS_PROB'] > pc] \n",
    "    weight = np.sum(dc['CMASS_PROB'] )\n",
    "    weight_even = np.sum(dc_even['CMASS_PROB'] )\n",
    "    weight_odd = np.sum(dc_odd['CMASS_PROB'] )\n",
    "    #print weight, weight82, rand2.size, rand_\n",
    "    \n",
    "    numdensity = weight*1./rand_st82.size * 1./cmass_numdensity\n",
    "    numdensity_even = weight_even*1./rand_st82_even.size * 1./cmass_numdensity_even\n",
    "    numdensity_odd = weight_odd*1./rand_st82_odd.size * 1./cmass_numdensity_odd\n",
    "    if pc == 0.01 : \n",
    "        ax.scatter(0.01, numdensity, marker='*', color='red', s=50)\n",
    "        ax.scatter(0.01, numdensity_even, marker='*', color='red', s=50)\n",
    "        ax.scatter(0.01, numdensity_odd, marker='*', color='red', s=50, label = 'current setting')\n",
    "    else :  \n",
    "        ax.plot(pc, numdensity, 'g.')\n",
    "        ax.plot(pc, numdensity_even, 'k.')\n",
    "        ax.plot(pc, numdensity_odd, '.', c='blue')\n",
    "    print pc, weight_even, weight_odd\n",
    "    \n",
    "    i+=1\n",
    "    \n",
    "ax.axhline(y = 1.0, ls = '--', color='grey')\n",
    "ax.scatter(pc, numdensity, marker='o', color='green', s=5, label = 'full')\n",
    "ax.scatter(pc, numdensity_even, marker='o', color='blue', s=5, label = 'even Hpix')\n",
    "ax.scatter(pc, numdensity_odd, marker='o', color='black', s=5, label = 'odd Hpix')\n",
    "\n",
    "#ax.scatter(0.01, numdensity_s82, marker='*', color='red', s=150)\n",
    "#ax.scatter(0.01, numdensity, marker='*', color='red', s=150, label = 'current setting')\n",
    "ax.set_xlabel('probability cut')\n",
    "ax.set_ylabel(r'$\\rm n_{\\rm DMASS}$ / $\\rm n_{\\rm train}$', fontsize = 15)\n",
    "#ax.text(0.007, 0.925, 'bin size = 0.0001')\n",
    "ax.legend()\n",
    "fig.savefig(figoutdir + 'prob_test_num_density.png')    "
   ]
  },
  {
   "cell_type": "code",
   "execution_count": 12,
   "metadata": {},
   "outputs": [
    {
     "data": {
      "text/plain": [
       "array([0.   , 0.001, 0.002, 0.003, 0.004, 0.005, 0.006, 0.007, 0.008,\n",
       "       0.009, 0.01 , 0.011, 0.012, 0.013, 0.014, 0.015])"
      ]
     },
     "execution_count": 12,
     "metadata": {},
     "output_type": "execute_result"
    }
   ],
   "source": [
    "pth_bin[:16]"
   ]
  },
  {
   "cell_type": "code",
   "execution_count": 16,
   "metadata": {},
   "outputs": [],
   "source": [
    "pbinsmall, steps = np.linspace(0, 0.02, 21,retstep=1 )\n",
    "pbinbig, stepb = np.linspace(0.02, 1, 197, retstep=1 )\n",
    "pth_bin = np.hstack([pbinsmall, pbinbig[1:]])\n",
    "pcenters = pbinsmall[:-1] + steps/2.\n",
    "pcenterb = pbinbig[:-1] + stepb/2.\n",
    "pcenter = np.hstack([pcenters, pcenterb[1:]])"
   ]
  },
  {
   "cell_type": "code",
   "execution_count": 23,
   "metadata": {
    "scrolled": false
   },
   "outputs": [
    {
     "name": "stdout",
     "output_type": "stream",
     "text": [
      "saving data file to :  ../output/sfd_train_photo_SamPle_nozband_ran10_3_full_tol1e5//act//acf_auto_poisson_dmass_pcut0.000_nbins10_jk50.txt\n",
      "cut : 0.0 sample size :  6777228\n",
      "saving data file to :  ../output/sfd_train_photo_SamPle_nozband_ran10_3_full_tol1e5//act//acf_auto_poisson_dmass_pcut0.001_nbins10_jk50.txt\n",
      "cut : 0.001 sample size :  1534301\n",
      "saving data file to :  ../output/sfd_train_photo_SamPle_nozband_ran10_3_full_tol1e5//act//acf_auto_poisson_dmass_pcut0.002_nbins10_jk50.txt\n",
      "cut : 0.002 sample size :  1227405\n",
      "saving data file to :  ../output/sfd_train_photo_SamPle_nozband_ran10_3_full_tol1e5//act//acf_auto_poisson_dmass_pcut0.003_nbins10_jk50.txt\n",
      "cut : 0.003 sample size :  1068655\n",
      "saving data file to :  ../output/sfd_train_photo_SamPle_nozband_ran10_3_full_tol1e5//act//acf_auto_poisson_dmass_pcut0.004_nbins10_jk50.txt\n",
      "cut : 0.004 sample size :  965011\n",
      "saving data file to :  ../output/sfd_train_photo_SamPle_nozband_ran10_3_full_tol1e5//act//acf_auto_poisson_dmass_pcut0.005_nbins10_jk50.txt\n",
      "cut : 0.005 sample size :  889527\n",
      "saving data file to :  ../output/sfd_train_photo_SamPle_nozband_ran10_3_full_tol1e5//act//acf_auto_poisson_dmass_pcut0.006_nbins10_jk50.txt\n",
      "cut : 0.006 sample size :  831780\n",
      "saving data file to :  ../output/sfd_train_photo_SamPle_nozband_ran10_3_full_tol1e5//act//acf_auto_poisson_dmass_pcut0.007_nbins10_jk50.txt\n",
      "cut : 0.007 sample size :  785680\n",
      "saving data file to :  ../output/sfd_train_photo_SamPle_nozband_ran10_3_full_tol1e5//act//acf_auto_poisson_dmass_pcut0.008_nbins10_jk50.txt\n",
      "cut : 0.008 sample size :  746967\n",
      "saving data file to :  ../output/sfd_train_photo_SamPle_nozband_ran10_3_full_tol1e5//act//acf_auto_poisson_dmass_pcut0.009_nbins10_jk50.txt\n",
      "cut : 0.009000000000000001 sample size :  714287\n",
      "saving data file to :  ../output/sfd_train_photo_SamPle_nozband_ran10_3_full_tol1e5//act//acf_auto_poisson_dmass_pcut0.010_nbins10_jk50.txt\n",
      "cut : 0.01 sample size :  685616\n",
      "saving data file to :  ../output/sfd_train_photo_SamPle_nozband_ran10_3_full_tol1e5//act//acf_auto_poisson_dmass_pcut0.011_nbins10_jk50.txt\n",
      "cut : 0.011 sample size :  660783\n",
      "saving data file to :  ../output/sfd_train_photo_SamPle_nozband_ran10_3_full_tol1e5//act//acf_auto_poisson_dmass_pcut0.012_nbins10_jk50.txt\n",
      "cut : 0.012 sample size :  639095\n",
      "saving data file to :  ../output/sfd_train_photo_SamPle_nozband_ran10_3_full_tol1e5//act//acf_auto_poisson_dmass_pcut0.013_nbins10_jk50.txt\n",
      "cut : 0.013000000000000001 sample size :  619419\n",
      "saving data file to :  ../output/sfd_train_photo_SamPle_nozband_ran10_3_full_tol1e5//act//acf_auto_poisson_dmass_pcut0.015_nbins10_jk50.txt\n",
      "cut : 0.015 sample size :  585321\n",
      "saving data file to :  ../output/sfd_train_photo_SamPle_nozband_ran10_3_full_tol1e5//act//acf_auto_poisson_dmass_pcut0.016_nbins10_jk50.txt\n",
      "cut : 0.016 sample size :  570485\n",
      "saving data file to :  ../output/sfd_train_photo_SamPle_nozband_ran10_3_full_tol1e5//act//acf_auto_poisson_dmass_pcut0.017_nbins10_jk50.txt\n",
      "cut : 0.017 sample size :  556750\n",
      "saving data file to :  ../output/sfd_train_photo_SamPle_nozband_ran10_3_full_tol1e5//act//acf_auto_poisson_dmass_pcut0.018_nbins10_jk50.txt\n",
      "cut : 0.018000000000000002 sample size :  544122\n",
      "saving data file to :  ../output/sfd_train_photo_SamPle_nozband_ran10_3_full_tol1e5//act//acf_auto_poisson_dmass_pcut0.019_nbins10_jk50.txt\n",
      "cut : 0.019 sample size :  532431\n",
      "saving data file to :  ../output/sfd_train_photo_SamPle_nozband_ran10_3_full_tol1e5//act//acf_auto_poisson_dmass_pcut0.020_nbins10_jk50.txt\n",
      "cut : 0.02 sample size :  521524\n"
     ]
    }
   ],
   "source": [
    "#tree corr\n",
    "from systematics_module.corr import angular_correlation\n",
    "basedir = rootdir+'/act/'\n",
    "os.system('mkdir '+basedir)\n",
    "\n",
    "dmass['WEIGHT'] = dmass['CMASS_PROB'] * dmass['VETO']\n",
    "for pc in pth_bin[0:21] :\n",
    "    #dc = dmass[dmass['WEIGHT'] > pc] \n",
    "    #randind = np.random.choice( range(dc.size), size = dc.size/10)\n",
    "    \n",
    "    \n",
    "    pcut = dmass['EachProb_CMASS'] > pc\n",
    "    angular_correlation_poisson(data = dmass[pcut], rand = random, nbins=10, \n",
    "                    weight_data = True, weight_rand = None,\n",
    "                    suffix = '_dmass_pcut{:0.3f}_nbins10_jk50'.format(pc), dir = rootdir+'/act/')\n",
    "    print 'cut :', pc,  'sample size : ', dmass[pcut].size\n",
    "    #angular_correlation(data = dmass[pcut], rand = random, nbins=10, njack = 100, weight=[True, False],\n",
    "    #                    suffix = '_dmass_pcut{:0.3f}_nbins10_jk100'.format(pc), dir = basedir)"
   ]
  },
  {
   "cell_type": "code",
   "execution_count": 40,
   "metadata": {},
   "outputs": [
    {
     "data": {
      "text/plain": [
       "(16, 16)"
      ]
     },
     "execution_count": 40,
     "metadata": {},
     "output_type": "execute_result"
    }
   ],
   "source": [
    "len(pth_bin[:16]), len(filenames)"
   ]
  },
  {
   "cell_type": "code",
   "execution_count": 55,
   "metadata": {},
   "outputs": [
    {
     "name": "stdout",
     "output_type": "stream",
     "text": [
      "err db, db / br1, brmin, br2 : 0.028844271515027886 0.038431122021409525 1.005048269689014 1.019592032914497 1.0338925412040418\n",
      "err db, db / br1, brmin, br2 : 0.02889359647580836 0.03236377416345371 1.0018985777772271 1.0164480475295652 1.0307921742530355\n",
      "err db, db / br1, brmin, br2 : 0.024157447446197855 0.023619703889090626 0.9998199477833982 1.0119509913833735 1.023977395229596\n",
      "err db, db / br1, brmin, br2 : 0.024315620434039453 0.023619703889090626 0.9997399141672777 1.0119509913833735 1.0240555346013172\n",
      "err db, db / br1, brmin, br2 : 0.028039333787853726 0.017569308515205773 0.9947652545109908 1.0088625083291294 1.0228045882988446\n",
      "err db, db / br1, brmin, br2 : 0.02768940781208118 0.017101588633391174 0.9946848141878487 1.008624540992801 1.0223742219999299\n",
      "err db, db / br1, brmin, br2 : 0.027486157025174873 0.017413438664629632 0.9949663268665526 1.0087831921209538 1.0224524838917275\n",
      "err db, db / br1, brmin, br2 : 0.02793257600779353 0.002595459042053383 0.9872157408509028 1.0012994158112851 1.0151483168586963\n",
      "err db, db / br1, brmin, br2 : 0.02412213195980295 0.01350470382375546 0.9946848141878487 1.0067982561296522 1.0188069461476517\n",
      "err db, db / br1, brmin, br2 : 0.02711116572854666 0.012955634019061746 0.9928731839625272 1.00652005271793 1.0199843496910739\n",
      "err db, db / br1, brmin, br2 : 0.02471959643181365 0.010203439233209766 0.9927119901658708 1.005127880625785 1.0174315865976844\n",
      "err db, db / br1, brmin, br2 : 0.025692714231080105 0.015070970168494124 0.9946445915867208 1.007592699760038 1.020337305817801\n",
      "err db, db / br1, brmin, br2 : 0.027626671250988055 0.0072815051388475105 0.9897655920395683 1.0036540560834986 1.0173922632905563\n",
      "err db, db / br1, brmin, br2 : 0.025297018330581178 0.008625612832899865 0.9916232466681418 1.004331487282595 1.016920264998723\n",
      "err db, db / br1, brmin, br2 : 0.02661939745145392 -0.000840697816285374 0.986161499400874 0.9995798277108203 1.012780896852328\n",
      "err db, db / br1, brmin, br2 : 0.02555391063186163 0.000999450364746357 0.9876614273216322 1.0004999750324874 1.0132153379534938\n",
      "pic save to  ../output/sfd_train_photo_SamPle_nozband_ran10_3_full_tol1e5//figure/sys_bias_pcut.png\n"
     ]
    },
    {
     "data": {
      "image/png": "[encoded data removed]",
      "text/plain": [
       "<matplotlib.figure.Figure at 0x7f6ff08cbb50>"
      ]
     },
     "metadata": {},
     "output_type": "display_data"
    }
   ],
   "source": [
    "import scipy\n",
    "\n",
    "theta_th, theory = np.loadtxt('../data_txt/acf_cmass_ngc_theory.txt', unpack=True)\n",
    "theta_th, theory_sgc = np.loadtxt('../data_txt/acf_cmass_sgc_theory.txt', unpack=True)\n",
    "theory_sgc_interp = scipy.interpolate.interp1d(theta_th, theory_sgc)\n",
    "#theory_sgc_interp = theory_sgc_interp(meanr)\n",
    "\n",
    "fig, ax = plt.subplots(figsize = (3,7))\n",
    "brelsqr = np.linspace(0.8, 1.2, 5000) \n",
    "b_n = 2.0\n",
    "brelarr = np.sqrt(brelsqr)\n",
    "dbarray = b_n*(1-brelarr)\n",
    "\n",
    "labels_SP = ['{:0.3f}'.format(pc) for pc in pth_bin[:16]]\n",
    "\n",
    "filenames = [ basedir+'acf_auto_poisson_dmass_pcut{:0.3f}_nbins10_jk50.txt'.format(pc) for pc in pth_bin[:16]]\n",
    "#covnames = [ basedir+'acf_auto_dmass_pcut{:0.5f}_nbins10_jk50.cov'.format(pc) for pc in pth_bin[::5][:23]]\n",
    "covnames = [ basedir +'acf_auto_dmass_pcut{:0.3f}_nbins10_jk100.cov'.format(pc) for pc in pth_bin[:16]]\n",
    "\n",
    "for j in range(1, len(pth_bin[:16])+1):\n",
    "    meanrw, xiw, xi_errw = np.loadtxt( filenames[j-1], unpack=True)\n",
    "    cov_dmass_w = np.loadtxt( covnames[j-1], unpack=True)\n",
    "    #meanrw, xiw, xi_errw = np.loadtxt(basedir+'acf_auto_dmass_weight'+str(j)+'_nbins10_jk100.txt', unpack=True)\n",
    "    #cov_dmass_w = np.loadtxt(basedir+'acf_auto_dmass_weight'+str(j)+'_nbins10_jk100.cov', unpack=True)\n",
    "    HFd = 1.0 #HF(100, 10)\n",
    "    F_d = HFd * np.linalg.inv(cov_dmass_w)\n",
    "    err_brelw, brelw, chisqr_resultw = brel_chisqr_fitting(xiw, theory_sgc_interp(meanrw), F_d, verbose=True)\n",
    "    if pth_bin[:16][j-1] == 0.01 : \n",
    "        color = 'r'\n",
    "        ax.axvspan(- err_brelw*2., err_brelw*2.,  alpha=0.1, color='grey')\n",
    "        ax.axvline(x=0, color = 'grey', ls='--')\n",
    "    else : color = 'k'  \n",
    "   \n",
    "    ax.errorbar(2.-2*brelw, len(labels_SP)-j, xerr =err_brelw*2., fmt='-o', color=color)\n",
    "    \n",
    "ax.set_xlabel(r'$\\Delta b = b_{th} - b_x$', fontsize = 20)\n",
    "#ax.set_ylabel(r'$\\chi^2$')\n",
    "ax.legend(loc=1)\n",
    "ax.set_xlim(-0.1, 0.1)\n",
    "#ax.set_yticks([1,2,3,4,5,6,7,8,9,10,11,12])\n",
    "ax.set_yticks(np.arange(len(labels_SP)+1))\n",
    "ax.set_ylabel('probabiliy cut', fontsize = 20)\n",
    "labels = labels_SP[::-1] + ['']\n",
    "ax.set_yticklabels( labels, fontsize = 15) \n",
    "fig.savefig(figoutdir + 'sys_bias_pcut.png')\n",
    "print 'pic save to ', figoutdir + 'sys_bias_pcut.png'\n",
    "\n",
    "\n",
    "\n",
    "\n"
   ]
  },
  {
   "cell_type": "code",
   "execution_count": null,
   "metadata": {},
   "outputs": [],
   "source": [
    "fig, ax = plt.subplots()\n",
    "_ = ax.hist( dmass_spt_pc['EachProb_CMASS'], bins = pth_bin[:101])\n",
    "ax.set_xlabel('Probability')\n",
    "ax.set_ylabel('N galaxy')\n",
    "ax.text(0.005, 175, 'bin size = 0.0001', fontsize = 12)"
   ]
  },
  {
   "cell_type": "code",
   "execution_count": null,
   "metadata": {},
   "outputs": [],
   "source": [
    "fig, ax = plt.subplots()\n",
    "_ = ax.hist( dmass_spt_pc['EachProb_CMASS'], bins = pth_bin)"
   ]
  },
  {
   "cell_type": "code",
   "execution_count": null,
   "metadata": {},
   "outputs": [],
   "source": [
    "from systematics_module.contCorrection import doVisualization_ngal\n",
    "from run_systematics import sys_iteration, fitting_SP, sys_ngal, weightmultiply, fitting_allSP, calling_sysMap, maskingCatalogSP"
   ]
  },
  {
   "cell_type": "code",
   "execution_count": null,
   "metadata": {},
   "outputs": [],
   "source": [
    "properties = ['GE', 'NSTARS_allband']\n",
    "sysMap = calling_sysMap( properties=properties, kind='SPT', nside=4096 )"
   ]
  },
  {
   "cell_type": "code",
   "execution_count": null,
   "metadata": {},
   "outputs": [],
   "source": [
    "sysoutdir = rootdir+'/sys/'"
   ]
  },
  {
   "cell_type": "code",
   "execution_count": null,
   "metadata": {
    "scrolled": false
   },
   "outputs": [],
   "source": [
    "for pc in pth_bin[::5][:23]:\n",
    "#pc = 0\n",
    "    suffix = 'pcut_{:0.4f}'.format(pc)\n",
    "\n",
    "    for p in ['GE', 'NSTARS_allband'] : \n",
    "        \n",
    "        dc = dmass_spt_pc[dmass_spt_pc['EachProb_CMASS'] > pc ]\n",
    "        print pc, dc.size\n",
    "        sys_ngal(cat1 = dc, cat2=rand, rand1 = rand2, rand2 = rand2, sysmap = sysMap, \n",
    "             FullArea = SPTMaparea, properties = properties, kind='SPT', nbins =15, \n",
    "             reweight= None, nside = 4096,\n",
    "             suffix=suffix, outdir=sysoutdir)\n",
    "\n",
    "        doVisualization_ngal(property = p, nside = 4096, kind = 'SPT', suffix=suffix, \\\n",
    "                             inputdir=sysoutdir, outdir=figoutdir)"
   ]
  },
  {
   "cell_type": "code",
   "execution_count": null,
   "metadata": {},
   "outputs": [],
   "source": []
  }
 ],
 "metadata": {
  "kernelspec": {
   "display_name": "Python 2",
   "language": "python",
   "name": "python2"
  },
  "language_info": {
   "codemirror_mode": {
    "name": "ipython",
    "version": 2
   },
   "file_extension": ".py",
   "mimetype": "text/x-python",
   "name": "python",
   "nbconvert_exporter": "python",
   "pygments_lexer": "ipython2",
   "version": "2.7.14"
  }
 },
 "nbformat": 4,
 "nbformat_minor": 2
}
