{
 "cells": [
  {
   "cell_type": "code",
   "execution_count": 1,
   "metadata": {},
   "outputs": [],
   "source": [
    "import sys\n",
    "sys.path.append('../')\n",
    "from xd import *\n",
    "import numpy as np\n",
    "from utils import *\n",
    "import esutil\n",
    "import healpy as hp\n",
    "from systematics import *\n",
    "from systematics_module import *\n",
    "\n",
    "%matplotlib inline\n",
    "\n",
    "%load_ext autoreload\n",
    "%autoreload 2\n",
    "\n",
    "HF = lambda Nr,Nbin: (Nr-Nbin-2) *1./(Nr-1)\n",
    "HFactor = HF(100, 10)\n",
    "\n",
    "from systematics_module.corr import angular_correlation_poisson, angular_correlation"
   ]
  },
  {
   "cell_type": "code",
   "execution_count": 2,
   "metadata": {},
   "outputs": [],
   "source": [
    "def BOSSveto(cat, option='SGC'):\n",
    "    \n",
    "    if option == 'SGC':\n",
    "        valid_hpind = fitsio.read('/n/des/lee.5922/data/cmass_cat/vetomask/mask_nside4096_Patchy-Mocks-Randoms-DR12SGC-COMPSAM_V6C.fits')\n",
    "    elif option == 'NGC': \n",
    "        vetomaskNGC = fitsio.read('/n/des/lee.5922/data/cmass_cat/vetomask/mask_nside4096_Patchy-Mocks-Randoms-DR12NGC-COMPSAM_V6C.fits')\n",
    "\n",
    "    hpind = hpRaDecToHEALPixel(cat['RA'], cat['DEC'], nside=4096, nest= False)\n",
    "    HPmask = np.in1d(hpind, valid_hpind)\n",
    "    \n",
    "    return cat[HPmask]"
   ]
  },
  {
   "cell_type": "code",
   "execution_count": 3,
   "metadata": {},
   "outputs": [],
   "source": [
    "#root = '/n/des/lee.5922/data/cmass_cat/dr12_multidark_patchy_mocks/'\n",
    "basedir = '../data_txt/cmass/'"
   ]
  },
  {
   "cell_type": "code",
   "execution_count": 25,
   "metadata": {},
   "outputs": [],
   "source": [
    "\n",
    "#cmass_ngc = esutil.io.read(path+'cmass-dr12v4-N-Reid-full.dat.fits')\n",
    "#cmass_sgc = esutil.io.read(path+'cmass-dr12v4-S-Reid-full.dat.fits')\n",
    "#cmass_ngc = cmass_ngc[(cmass_ngc['Z'] > 0.43) & (cmass_ngc['Z'] < 0.7)]\n",
    "\n",
    "cmasspath = '/n/des/lee.5922/data/cmass_cat/'\n",
    "#cmass_ngc = esutil.io.read(cmasspath+'galaxy_DR12v5_CMASS_North.fits.gz')\n",
    "#rand_ngc = esutil.io.read(cmasspath+'random0_DR12v5_CMASS_North.fits.gz')\n",
    "cmass_sgc = esutil.io.read(cmasspath+'galaxy_DR12v5_CMASS_South.fits.gz')\n",
    "rand_sgc = esutil.io.read([cmasspath+'random0_DR12v5_CMASS_South.fits.gz'\n",
    "                          # ,cmasspath+'random1_DR12v5_CMASS_South.fits.gz'\n",
    "                          ], combine=True)\n",
    "#cmass_ngc = esutil.io.read(cmasspath+'cmass-dr12v4-N-Reid-full.dat.fits')\n",
    "#cmass_sgc_reid = esutil.io.read(cmasspath+'cmass-dr12v4-S-Reid-full.dat.fits')\n",
    "\n",
    "cmass_sgc_zcut = cmass_sgc[(cmass_sgc['Z'] > 0.43) & (cmass_sgc['Z'] < 0.7)]\n",
    "rand_sgc_zcut = rand_sgc[(rand_sgc['Z'] > 0.43) & (rand_sgc['Z'] < 0.7)]"
   ]
  },
  {
   "cell_type": "code",
   "execution_count": 5,
   "metadata": {},
   "outputs": [
    {
     "data": {
      "text/plain": [
       "(230831, 11636252)"
      ]
     },
     "execution_count": 5,
     "metadata": {},
     "output_type": "execute_result"
    }
   ],
   "source": [
    "cmass_sgc.size, rand_sgc.size"
   ]
  },
  {
   "cell_type": "code",
   "execution_count": 61,
   "metadata": {},
   "outputs": [],
   "source": [
    "#cmass_weight = cmass_ngc['WEIGHT_SYSTOT']*(cmass_ngc['WEIGHT_CP']+cmass_ngc['WEIGHT_NOZ']-1.)\n",
    "#cmass_ngc = appendColumn(cat = cmass_ngc, name='WEIGHT', value=cmass_weight)\n",
    "#rand_ngc = appendColumn(cat = rand_ngc, name='WEIGHT_RAND', value=np.ones(rand_ngc['WEIGHT_FKP'].size))"
   ]
  },
  {
   "cell_type": "code",
   "execution_count": 26,
   "metadata": {},
   "outputs": [],
   "source": [
    "cmass_weight = cmass_sgc['WEIGHT_SYSTOT']*(cmass_sgc['WEIGHT_CP']+cmass_sgc['WEIGHT_NOZ']-1.)\n",
    "cmass_sgc = appendColumn(cat = cmass_sgc, name='WEIGHT', value=cmass_weight)\n",
    "rand_sgc = appendColumn(cat = rand_sgc, name='WEIGHT_RAND', value=np.ones(rand_sgc['WEIGHT_FKP'].size))\n",
    "\n",
    "cmass_zcut_weight = cmass_sgc_zcut['WEIGHT_FKP'] * cmass_sgc_zcut['WEIGHT_SYSTOT'] * (cmass_sgc_zcut['WEIGHT_CP']+cmass_sgc_zcut['WEIGHT_NOZ']-1.)\n",
    "cmass_sgc_zcut = appendColumn(cat = cmass_sgc_zcut, name='WEIGHT', value=cmass_zcut_weight)\n",
    "rand_sgc_zcut = appendColumn(cat = rand_sgc_zcut, name='WEIGHT_RAND', value=rand_sgc_zcut['WEIGHT_FKP'])"
   ]
  },
  {
   "cell_type": "code",
   "execution_count": 66,
   "metadata": {},
   "outputs": [
    {
     "data": {
      "text/plain": [
       "0"
      ]
     },
     "execution_count": 66,
     "metadata": {},
     "output_type": "execute_result"
    },
    {
     "data": {
      "image/png": "[encoded data removed]",
      "text/plain": [
       "<matplotlib.figure.Figure at 0x7f26ff479410>"
      ]
     },
     "metadata": {
      "needs_background": "light"
     },
     "output_type": "display_data"
    }
   ],
   "source": [
    "fig, ax = plt.subplots()\n",
    "zbin = np.linspace(0,1,100)\n",
    "ax.hist(cmass_sgc['Z'], bins=zbin, normed=1 )\n",
    "ax.hist(rand_sgc['Z'], bins=zbin, normed=1,alpha=0.5 )\n",
    "0"
   ]
  },
  {
   "cell_type": "code",
   "execution_count": 42,
   "metadata": {},
   "outputs": [],
   "source": [
    "rand_sgc_veto = BOSSveto(rand_sgc, option='SGC')\n",
    "cmass_sgc_veto = BOSSveto(cmass_sgc, option='SGC')"
   ]
  },
  {
   "cell_type": "code",
   "execution_count": null,
   "metadata": {},
   "outputs": [],
   "source": []
  },
  {
   "cell_type": "code",
   "execution_count": 62,
   "metadata": {},
   "outputs": [
    {
     "name": "stdout",
     "output_type": "stream",
     "text": [
      "saving data file to :  ../data_txt/cmass//acf_auto_poisson_DR12v5_CMASS_North.txt\n"
     ]
    }
   ],
   "source": [
    "angular_correlation_poisson(data = cmass_ngc, rand = rand_ngc, \n",
    "                    nbins=10, weight_data = True, weight_rand = True, \n",
    "                    suffix = '_DR12v5_CMASS_North', dir = basedir)"
   ]
  },
  {
   "cell_type": "code",
   "execution_count": 319,
   "metadata": {},
   "outputs": [],
   "source": [
    "def NNpairCount(data, rand, weight_data = None, weight_rand = None, \n",
    "    nbins = 20, min_sep = 2.5/60., max_sep = 250/60., dir = './', suffix=''):\n",
    "    # cmass and balrog : all systematic correction except obscuration should be applied before passing here\n",
    "    \n",
    "    import treecorr\n",
    "    \n",
    "    if weight_data : weight_data = data['WEIGHT']\n",
    "    if weight_rand : weight_rand = rand['WEIGHT_RAND']\n",
    "\n",
    "    cat = treecorr.Catalog(ra=data['RA'], dec=data['DEC'], w = weight_data, ra_units='deg', dec_units='deg')\n",
    "    cat_rand = treecorr.Catalog(ra=rand['RA'], dec=rand['DEC'], is_rand=True, w = weight_rand, ra_units='deg', dec_units='deg')\n",
    "    #nbins = 20\n",
    "    #bin_size = 0.5\n",
    "    #min_sep = 2.5/60.\n",
    "    #max_sep = 250/60.\n",
    "    sep_units = 'degree'\n",
    "\n",
    "    dd = treecorr.NNCorrelation(nbins = nbins, max_sep = max_sep, min_sep= min_sep, sep_units=sep_units)\n",
    "    dr = treecorr.NNCorrelation(nbins = nbins, max_sep = max_sep, min_sep= min_sep, sep_units=sep_units)\n",
    "    rr = treecorr.NNCorrelation(nbins = nbins, max_sep = max_sep, min_sep= min_sep, sep_units=sep_units)\n",
    "    \n",
    "    dd.process(cat)\n",
    "    dr.process(cat,cat_rand)\n",
    "    rr.process(cat_rand)\n",
    "    \n",
    "    dd.write(dir+'npairs'+suffix+'.txt', rr=rr, dr=dr)\n",
    "    print 'file save to', dir+'npairs'+suffix+'.txt'\n",
    "    #xi, varxi = dd.calculateXi(rr,dr)\n",
    "    #errxi = np.sqrt(varxi)\n",
    "    \n",
    "    return dd, dr, rr"
   ]
  },
  {
   "cell_type": "code",
   "execution_count": 322,
   "metadata": {},
   "outputs": [
    {
     "data": {
      "text/plain": [
       "'../data_txt/mocks_hybrid/'"
      ]
     },
     "execution_count": 322,
     "metadata": {},
     "output_type": "execute_result"
    }
   ],
   "source": [
    "basedir"
   ]
  },
  {
   "cell_type": "code",
   "execution_count": 330,
   "metadata": {},
   "outputs": [
    {
     "name": "stdout",
     "output_type": "stream",
     "text": [
      "file save to ../data_txt/cmass/npairs_DR12v5_CMASS_North_10bins.txt\n"
     ]
    }
   ],
   "source": [
    "dd, dr, rr = NNpairCount(data = cmass_sgc, rand = rand_sgc, \n",
    "                    nbins=10, weight_data = True, weight_rand = True, \n",
    "                    suffix = '_DR12v5_CMASS_North_10bins', dir = '../data_txt/cmass/')\n",
    "\n",
    "#xi, varxi = dd.calculateXi(dr, rr)\n",
    "#dd.write()"
   ]
  },
  {
   "cell_type": "code",
   "execution_count": 340,
   "metadata": {},
   "outputs": [
    {
     "data": {
      "text/plain": [
       "(67701180303752.0, 67701180303752.0)"
      ]
     },
     "execution_count": 340,
     "metadata": {},
     "output_type": "execute_result"
    }
   ],
   "source": [
    "rr.tot, np.sum(rand_sgc['WEIGHT_RAND'])**2 /2."
   ]
  },
  {
   "cell_type": "code",
   "execution_count": 338,
   "metadata": {},
   "outputs": [
    {
     "data": {
      "text/plain": [
       "(31175440221.598083, 31175439059.05774, 560973190.6192915)"
      ]
     },
     "execution_count": 338,
     "metadata": {},
     "output_type": "execute_result"
    }
   ],
   "source": [
    "dd.tot, np.sum(cmass_sgc['WEIGHT'])**2 /2., np.sum(dd.weight)"
   ]
  },
  {
   "cell_type": "code",
   "execution_count": 326,
   "metadata": {},
   "outputs": [
    {
     "name": "stdout",
     "output_type": "stream",
     "text": [
      "#   R_nom       meanR       meanlogR        xi        sigma_xi        DD           RR           DR         npairs   \r\n",
      "  5.2455e-02   5.4695e-02  -2.9143e+00   1.9167e-01   3.2291e-03   1.1430e+05   9.5905e+04   9.5909e+04   9.7828e+04\r\n",
      "  8.3136e-02   8.6659e-02  -2.4542e+00   1.3220e-01   2.0435e-03   2.7137e+05   2.3947e+05   2.3960e+05   2.3347e+05\r\n",
      "  1.3176e-01   1.3736e-01  -1.9935e+00   9.4881e-02   1.2952e-03   6.5303e+05   5.9613e+05   5.9630e+05   5.6157e+05\r\n",
      "  2.0883e-01   2.1778e-01  -1.5326e+00   6.7481e-02   8.2163e-04   1.5821e+06   1.4813e+06   1.4817e+06   1.3607e+06\r\n",
      "  3.3097e-01   3.4535e-01  -1.0716e+00   4.3780e-02   5.2021e-04   3.8591e+06   3.6953e+06   3.6963e+06   3.3232e+06\r\n",
      "  5.2455e-01   5.4710e-01  -6.1149e-01   2.9499e-02   3.2976e-04   9.4488e+06   9.1959e+06   9.1868e+06   8.1496e+06\r\n",
      "  8.3136e-01   8.6734e-01  -1.5068e-01   1.9893e-02   2.0966e-04   2.3101e+07   2.2750e+07   2.2699e+07   1.9925e+07\r\n",
      "  1.3176e+00   1.3744e+00   3.0963e-01   5.9812e-03   1.3372e-04   5.6369e+07   5.5923e+07   5.5979e+07   4.8677e+07\r\n",
      "  2.0883e+00   2.1777e+00   7.6989e-01   2.5470e-03   8.5608e-05   1.3688e+08   1.3645e+08   1.3649e+08   1.1838e+08\r\n",
      "  3.3097e+00   3.4497e+00   1.2299e+00   9.5260e-04   5.5167e-05   3.2869e+08   3.2859e+08   3.2848e+08   2.8451e+08\r\n"
     ]
    }
   ],
   "source": [
    "cat ../data_txt/cmass/npairs_DR12v5_CMASS_North_20bins.txt"
   ]
  },
  {
   "cell_type": "code",
   "execution_count": 272,
   "metadata": {},
   "outputs": [],
   "source": [
    "meanr = dd.meanr * 60\n",
    "dlnr = dd.bin_size\n",
    "dA = 2 * np.pi * meanr**2 * dlnr\n",
    "\n",
    "npairs = dd.npairs\n",
    "shotnoise = dA * 1./npairs"
   ]
  },
  {
   "cell_type": "code",
   "execution_count": 174,
   "metadata": {},
   "outputs": [],
   "source": [
    "xi2 = dd.weight/ (rr.weight * dd.tot*1./rr.tot) - 1. "
   ]
  },
  {
   "cell_type": "code",
   "execution_count": 218,
   "metadata": {},
   "outputs": [],
   "source": [
    "rrw = rr.weight * dd.tot/rr.tot\n",
    "varxi2 = ( dd.weight/rrw )**2 * (1/dd.weight + 1./rrw)"
   ]
  },
  {
   "cell_type": "code",
   "execution_count": 229,
   "metadata": {},
   "outputs": [],
   "source": [
    "drw = dr.weight * dd.tot/dr.tot\n",
    "varxi3 = (dd.weight/rrw)**2 * (1/dd.weight + 1./rrw) + 2*( drw/rrw )**2 * (1./drw + 1./rrw)"
   ]
  },
  {
   "cell_type": "code",
   "execution_count": 243,
   "metadata": {},
   "outputs": [],
   "source": [
    "varxi4 =  2./dd.tot /rrw"
   ]
  },
  {
   "cell_type": "code",
   "execution_count": 244,
   "metadata": {},
   "outputs": [
    {
     "data": {
      "text/plain": [
       "array([6.68923414e-16, 2.67890684e-16, 1.07616016e-16, 4.33086920e-17,\n",
       "       1.73608722e-17, 6.97623203e-18, 2.81989840e-18, 1.14717534e-18,\n",
       "       4.70157151e-19, 1.95240368e-19])"
      ]
     },
     "execution_count": 244,
     "metadata": {},
     "output_type": "execute_result"
    }
   ],
   "source": [
    "varxi4"
   ]
  },
  {
   "cell_type": "code",
   "execution_count": 217,
   "metadata": {},
   "outputs": [
    {
     "data": {
      "image/png": "[encoded data removed]",
      "text/plain": [
       "<matplotlib.figure.Figure at 0x7f57b07fd990>"
      ]
     },
     "metadata": {
      "needs_background": "light"
     },
     "output_type": "display_data"
    }
   ],
   "source": [
    "fig, ax = plt.subplots()\n",
    "ax.errorbar(dd.meanr, xi, yerr = np.sqrt(varxi))\n",
    "ax.errorbar(dd.meanr, xi2, yerr = np.sqrt(varxi2))\n",
    "ax.set_xscale('log')\n",
    "ax.set_yscale('log')"
   ]
  },
  {
   "cell_type": "code",
   "execution_count": 180,
   "metadata": {},
   "outputs": [
    {
     "data": {
      "text/plain": [
       "array([3.21866131e-07, 6.58119542e-08, 1.40246428e-08, 2.94671220e-09,\n",
       "       5.15877737e-10, 7.44822225e-11, 7.53113893e-12, 1.42746431e-12,\n",
       "       8.85754325e-14, 4.43905465e-19])"
      ]
     },
     "execution_count": 180,
     "metadata": {},
     "output_type": "execute_result"
    }
   ],
   "source": [
    "1./dd.weight * xi**2"
   ]
  },
  {
   "cell_type": "code",
   "execution_count": 181,
   "metadata": {},
   "outputs": [
    {
     "data": {
      "text/plain": [
       "array([1.04265015e-05, 4.17370369e-06, 1.67701535e-06, 6.74900249e-07,\n",
       "       2.70539583e-07, 1.08852296e-07, 4.40546512e-08, 1.78639963e-08,\n",
       "       7.32639198e-09, 3.04430662e-09])"
      ]
     },
     "execution_count": 181,
     "metadata": {},
     "output_type": "execute_result"
    }
   ],
   "source": [
    "varxi"
   ]
  },
  {
   "cell_type": "code",
   "execution_count": 161,
   "metadata": {},
   "outputs": [
    {
     "name": "stdout",
     "output_type": "stream",
     "text": [
      "[0.19176414 0.13320376 0.09544483 0.06802462 0.04434757 0.02750119\n",
      " 0.01540444 0.00797985 0.00317107 0.00032558]\n"
     ]
    }
   ],
   "source": [
    "xi2 = dd.weight * 1./ (rr.weight* dd.tot/rr.tot) - 1.\n",
    "print xi2"
   ]
  },
  {
   "cell_type": "code",
   "execution_count": 137,
   "metadata": {},
   "outputs": [],
   "source": []
  },
  {
   "cell_type": "code",
   "execution_count": 165,
   "metadata": {},
   "outputs": [
    {
     "name": "stdout",
     "output_type": "stream",
     "text": [
      "[3.59236080e-04 1.46416393e-04 5.97512657e-05 2.43296683e-05\n",
      " 9.84661187e-06 3.97678274e-06 1.61477022e-06 6.60677571e-07\n",
      " 2.70826531e-07 1.12455517e-07]\n"
     ]
    }
   ],
   "source": [
    "varnpairs = 2*1./ dd.npairs * xi**2\n",
    "print varnpairs"
   ]
  },
  {
   "cell_type": "code",
   "execution_count": 153,
   "metadata": {},
   "outputs": [
    {
     "data": {
      "text/plain": [
       "(31175440221.598083, 2905590542035.3047)"
      ]
     },
     "execution_count": 153,
     "metadata": {},
     "output_type": "execute_result"
    }
   ],
   "source": [
    "dd.tot, dr.tot"
   ]
  },
  {
   "cell_type": "code",
   "execution_count": 304,
   "metadata": {},
   "outputs": [
    {
     "name": "stdout",
     "output_type": "stream",
     "text": [
      "(10, 10)\n"
     ]
    }
   ],
   "source": [
    "sys.path.append('/n/des/lee.5922/programs/cosmolike/MG_musigma/cosmolike_planck_working/')\n",
    "from su_utils import read_cov, imshowplot\n",
    "cov_an_cmass_filename = '/n/des/lee.5922/programs/cosmolike/MG_musigma/cosmolike_planck_mg_deltab_gauss/cov/cov_mcal4_cmass_sgc_20bins'\n",
    "cov_an_cmass = read_cov( covfilename=cov_an_cmass_filename )[-20:, -20:]\n",
    "\n",
    "cov_jk_cmass_1 = np.genfromtxt('../data_txt/mocks/acf_auto_DR12v5_CMASS_South_veto_jk100.cov')\n",
    "fisher_jk = HF(100,10) * np.linalg.inv(cov_jk_cmass_1)\n",
    "cov_jk_cmass = np.linalg.inv(fisher_jk)\n",
    "print cov_jk_cmass.shape"
   ]
  },
  {
   "cell_type": "code",
   "execution_count": null,
   "metadata": {},
   "outputs": [],
   "source": [
    "2*1./"
   ]
  },
  {
   "cell_type": "code",
   "execution_count": 306,
   "metadata": {},
   "outputs": [
    {
     "name": "stdout",
     "output_type": "stream",
     "text": [
      "161\n"
     ]
    }
   ],
   "source": [
    "xi_i = []\n",
    "for i in range(1,1001):\n",
    "    try:\n",
    "        meanr_mocks, xi, _ = np.loadtxt('../data_txt/mocks_bin20///acf_auto_poisson_mock_galaxy_DR12_CMASS_S_QPM_{:04}.txt'.format(i), unpack=True)\n",
    "        #ax.errorbar(meanr, xi, yerr = xi_err, fmt = '-', color='r', alpha = 0.5)\n",
    "        xi_i.append(xi)\n",
    "    except (IOError, ValueError): pass\n",
    "    \n",
    "xi_i = np.array(xi_i)\n",
    "\n",
    "xi = np.mean(xi_i, axis=0)\n",
    "#xi_list_sigma = np.std(xi_i, axis=0)\n",
    "\n",
    "\n",
    "Nsample, nthetabins = xi_i.shape\n",
    "print Nsample\n",
    "\n",
    "xi_cov = np.zeros((nthetabins, nthetabins))\n",
    "for i in range(nthetabins):\n",
    "    for j in range(nthetabins):\n",
    "        xi_cov[i][j] = 1./ (Nsample-1.) * np.sum( (xi_i[:, i] - xi[i]) * (xi_i[:,j]-xi[j] ))\n",
    "\n",
    "Hartlap_mock = 1.0 #HF(Nsample, nthetabins)\n",
    "xi_cov_corrected = np.linalg.inv( Hartlap_mock * np.linalg.inv( xi_cov ) )\n"
   ]
  },
  {
   "cell_type": "code",
   "execution_count": 308,
   "metadata": {},
   "outputs": [
    {
     "data": {
      "text/plain": [
       "0"
      ]
     },
     "execution_count": 308,
     "metadata": {},
     "output_type": "execute_result"
    },
    {
     "data": {
      "image/png": "[encoded data removed]",
      "text/plain": [
       "<matplotlib.figure.Figure at 0x7f57b5aebe90>"
      ]
     },
     "metadata": {
      "needs_background": "light"
     },
     "output_type": "display_data"
    }
   ],
   "source": [
    "theta = np.logspace(np.log10(2.5), np.log10(250), 10)\n",
    "theta2 = np.logspace(np.log10(2.5), np.log10(250), 20)\n",
    "\n",
    "fig, ax = plt.subplots(figsize = (10,7))\n",
    "#ax.plot( meanr*60, varxi, 'k--', label='poisson var')\n",
    "ax.plot( dd.meanr*60, varxi, 'k--', label='poisson var')\n",
    "#ax.plot( theta, varxi2, 'k--', label='poisson var')\n",
    "ax.plot( dd.meanr*60, 1./ dd.weight, 'k-', label='poisson var')\n",
    "#ax.plot( meanr*60, varxi3, 'r--', label='poisson var')\n",
    "#ax.plot( theta, cov_jk_cmass.diagonal(), 'b-', label='jk ')\n",
    "ax.plot( theta2, cov_an_cmass.diagonal(), 'r-', label='analytic')\n",
    "ax.plot( meanr_mocks*60, xi_cov_corrected.diagonal(), 'g-', label='mock')\n",
    "\n",
    "ax.set_ylabel(r'$\\sigma^2 ( w(\\theta) )$', fontsize = 20)\n",
    "ax.set_xlabel('theta(arcmin)', fontsize=20)\n",
    "ax.legend(fontsize=15)\n",
    "\n",
    "ax.set_xscale('log')\n",
    "#fig.savefig('../figure/cov_analytic_mocks.png')\n",
    "ax.set_ylim(0,)\n",
    "0"
   ]
  },
  {
   "cell_type": "code",
   "execution_count": 148,
   "metadata": {},
   "outputs": [],
   "source": [
    "dnpairs = dd.npairs\n",
    "rnpairs = rr.npairs\n",
    "\n",
    "npairs = dd.npairs*1./ dd.tot\n",
    "\n"
   ]
  },
  {
   "cell_type": "code",
   "execution_count": 150,
   "metadata": {},
   "outputs": [
    {
     "data": {
      "text/plain": [
       "31175440221.598083"
      ]
     },
     "execution_count": 150,
     "metadata": {},
     "output_type": "execute_result"
    }
   ],
   "source": [
    "dd.tot"
   ]
  },
  {
   "cell_type": "code",
   "execution_count": 113,
   "metadata": {},
   "outputs": [],
   "source": [
    "dA = 2*np.pi* dd.rnom**2 * dd.bin_size\n",
    "num_density = dd.npairs * 1./dA"
   ]
  },
  {
   "cell_type": "code",
   "execution_count": 115,
   "metadata": {},
   "outputs": [
    {
     "data": {
      "text/plain": [
       "array([12287403.08951014, 11674073.77303318, 11178965.17087349,\n",
       "       10783853.94123716, 10484772.93008359, 10236120.94715199,\n",
       "        9963303.70815274,  9689948.05536294,  9381654.07873668,\n",
       "        8976368.71820154])"
      ]
     },
     "execution_count": 115,
     "metadata": {},
     "output_type": "execute_result"
    }
   ],
   "source": [
    "num_density"
   ]
  },
  {
   "cell_type": "code",
   "execution_count": null,
   "metadata": {},
   "outputs": [],
   "source": []
  },
  {
   "cell_type": "code",
   "execution_count": 103,
   "metadata": {},
   "outputs": [],
   "source": [
    "shotnoise = 1./(dd.npairs**2 * dA)"
   ]
  },
  {
   "cell_type": "code",
   "execution_count": 104,
   "metadata": {},
   "outputs": [
    {
     "data": {
      "text/plain": [
       "array([3.44214645e-10, 3.81333261e-11, 4.15859233e-12, 4.46890951e-13,\n",
       "       4.72749955e-14, 4.95996643e-15, 5.23531499e-16, 5.53486021e-17,\n",
       "       5.90460328e-18, 6.44982881e-19])"
      ]
     },
     "execution_count": 104,
     "metadata": {},
     "output_type": "execute_result"
    }
   ],
   "source": [
    "shotnoise"
   ]
  },
  {
   "cell_type": "code",
   "execution_count": 94,
   "metadata": {},
   "outputs": [
    {
     "data": {
      "text/plain": [
       "array([1.14296075e+05, 2.71373727e+05, 6.53026795e+05, 1.58206236e+06,\n",
       "       3.85914345e+06, 9.44884701e+06, 2.31005860e+07, 5.63688854e+07,\n",
       "       1.36882950e+08, 3.28692020e+08])"
      ]
     },
     "execution_count": 94,
     "metadata": {},
     "output_type": "execute_result"
    }
   ],
   "source": [
    "dd.weight"
   ]
  },
  {
   "cell_type": "code",
   "execution_count": 95,
   "metadata": {},
   "outputs": [
    {
     "data": {
      "text/plain": [
       "array([0.05245523, 0.08313593, 0.13176157, 0.20882801, 0.3309701 ,\n",
       "       0.52455225, 0.8313593 , 1.31761569, 2.08828014, 3.30970098])"
      ]
     },
     "execution_count": 95,
     "metadata": {},
     "output_type": "execute_result"
    }
   ],
   "source": [
    "dd.rnom"
   ]
  },
  {
   "cell_type": "code",
   "execution_count": 78,
   "metadata": {},
   "outputs": [
    {
     "name": "stdout",
     "output_type": "stream",
     "text": [
      "saving data file to :  ../data_txt/cmass//acf_auto_poisson_DR11v1_CMASS_South.txt\n",
      "saving data file to :  ../data_txt/cmass//acf_auto_poisson_DR11v1_CMASS_South_zcut.txt\n"
     ]
    }
   ],
   "source": [
    "angular_correlation_poisson(data = cmass_sgc, rand = rand_sgc, \n",
    "                    nbins=10, weight_data = True, weight_rand = True, \n",
    "                    suffix = '_DR11v1_CMASS_South', dir = basedir)\n",
    "\n",
    "angular_correlation_poisson(data = cmass_sgc_zcut, rand = rand_sgc_zcut, \n",
    "                    nbins=10, weight_data = True, weight_rand = True, \n",
    "                    suffix = '_DR11v1_CMASS_South_zcut', dir = basedir)"
   ]
  },
  {
   "cell_type": "code",
   "execution_count": 27,
   "metadata": {},
   "outputs": [
    {
     "name": "stdout",
     "output_type": "stream",
     "text": [
      "saving data file to :  ../data_txt/cmass//acf_auto_poisson_DR12v5_CMASS_South_ran10.txt\n",
      "saving data file to :  ../data_txt/cmass//acf_auto_poisson_DR12v5_CMASS_South_ran5.txt\n",
      "saving data file to :  ../data_txt/cmass//acf_auto_poisson_DR12v5_CMASS_South.txt\n",
      "saving data file to :  ../data_txt/cmass//acf_auto_poisson_DR12v5_CMASS_South_zcut.txt\n"
     ]
    }
   ],
   "source": [
    "#os.system('rm ../data_txt/cmass//acf_auto_poisson_DR12v5_CMASS_South.txt')\n",
    "#os.system('rm ../data_txt/cmass//acf_auto_poisson_DR12v5_CMASS_South_zcut.txt')\n",
    "\n",
    "random_ind = np.random.choice( rand_sgc.size, size = rand_sgc.size/10)\n",
    "angular_correlation_poisson(data = cmass_sgc, rand = rand_sgc[random_ind], \n",
    "                    nbins=10, weight_data = True, weight_rand = True, \n",
    "                    suffix = '_DR12v5_CMASS_South_ran10', dir = basedir)\n",
    "\n",
    "random_ind = np.random.choice( rand_sgc.size, size = rand_sgc.size/5)\n",
    "angular_correlation_poisson(data = cmass_sgc, rand = rand_sgc[random_ind], \n",
    "                    nbins=10, weight_data = True, weight_rand = True, \n",
    "                    suffix = '_DR12v5_CMASS_South_ran5', dir = basedir)\n",
    "\n",
    "angular_correlation_poisson(data = cmass_sgc, rand = rand_sgc, \n",
    "                    nbins=10, weight_data = True, weight_rand = True, \n",
    "                    suffix = '_DR12v5_CMASS_South', dir = basedir)\n",
    "\n",
    "angular_correlation_poisson(data = cmass_sgc_zcut, rand = rand_sgc_zcut, \n",
    "                    nbins=10, weight_data = True, weight_rand = True, \n",
    "                    suffix = '_DR12v5_CMASS_South_zcut', dir = basedir)"
   ]
  },
  {
   "cell_type": "code",
   "execution_count": 43,
   "metadata": {},
   "outputs": [
    {
     "name": "stdout",
     "output_type": "stream",
     "text": [
      "saving data file to :  ../data_txt/cmass//acf_auto_poisson_DR12v5_CMASS_South_veto.txt\n"
     ]
    }
   ],
   "source": [
    "angular_correlation_poisson(data = cmass_sgc_veto, rand = rand_sgc_veto, \n",
    "                    nbins=10, weight_data = True, weight_rand = True, \n",
    "                    suffix = '_DR12v5_CMASS_South_veto', dir = basedir)"
   ]
  },
  {
   "cell_type": "code",
   "execution_count": 27,
   "metadata": {},
   "outputs": [
    {
     "name": "stdout",
     "output_type": "stream",
     "text": [
      "saving data file to :  ../data_txt/cmass//acf_auto_poisson_cmass-dr12v4-S-Reid-full.txt\n",
      "saving data file to :  ../data_txt/cmass//acf_auto_poisson_cmass-dr12v4-S-Reid-full_zcut.txt\n"
     ]
    }
   ],
   "source": [
    "angular_correlation_poisson(data = cmass_sgc, rand = rand_sgc, \n",
    "                    nbins=10, weight_data = True, weight_rand = True, \n",
    "                    suffix = '_cmass-dr12v4-S-Reid-full', dir = basedir)\n",
    "\n",
    "angular_correlation_poisson(data = cmass_sgc_zcut, rand = rand_sgc_zcut, \n",
    "                    nbins=10, weight_data = True, weight_rand = True, \n",
    "                    suffix = '_cmass-dr12v4-S-Reid-full_zcut', dir = basedir)"
   ]
  },
  {
   "cell_type": "code",
   "execution_count": 80,
   "metadata": {},
   "outputs": [
    {
     "name": "stdout",
     "output_type": "stream",
     "text": [
      "calculate angular correlation function\n",
      "X (1000, 2)  centers (100, 2)  tol=1e-05  maxiter=200\n",
      "11 iterations  cluster sizes: [ 5 13 18 10  3  7 11 12  6 10  6 18  5  8  6 20 12  7  9  2 11  7 23  9\n",
      "  5 11 14  8 11 11  6  9 11 12  8  9  5 13 12  6  5  9  8  3 12  8  9 12\n",
      " 14  6 19 17 18 15  6  9  6  8  6 23 11  6  5  7  7 17  9 10  9  7 15  9\n",
      "  5 12 14 13  6  6  0  8 16 14  5 21  5  7  9 11  8 11 12 12  8 20 11 17\n",
      "  7  8 12  8]\n",
      "X (208426, 2)  centers (100, 2)  tol=1e-05  maxiter=200\n",
      "140 iterations  cluster sizes: [2104 2410 2355 1594 1948 1804 2589 1644 1790 2544 2077 2217 1608 2286\n",
      " 2165 1945 2108 1688 2109 1984 2262 2169 3112 1896 1918 2300 1962 1945\n",
      " 1629 2265 1960 2117 2432 2400 2112 2249 1903 2123 2363 2007 2062 1741\n",
      " 2276 2408 2117 1689 2175 2394 2180 2025 2391 2370 2450 2060 2286 1662\n",
      " 1514 1909 1676 2022 2063 1911 2241 2176 2055 1998 2338 2603 2237 2280\n",
      " 1582 2041 2034 2546 2033 2283 2283 2093 1841 1395 2132 1767 2279 2084\n",
      " 2022 2026 1479 2067 1772 1639 2021 2654 2229 2258 2232 2369 2309 1641\n",
      " 1700 2213]\n",
      ". . . . . . . . . . . . . . . . . . . . . . . . . . . . . . . . . . . . . . . . . . . . . . . . . . . . . . . . . . . . . . . . . . . . . . . . . . . . . . . . . . . . . . . . . . . . . . . . . . . . . saving data file to :  ../data_txt/mocks//acf_auto_DR12v5_CMASS_South_zcut_jk100.txt\n"
     ]
    }
   ],
   "source": [
    "angular_correlation(data = cmass_sgc_zcut, rand = rand_sgc_zcut, \n",
    "                    nbins=10, weight = [True, True], njack = 100, \n",
    "                    suffix = '_DR12v5_CMASS_South_zcut_jk100', dir = basedir)"
   ]
  },
  {
   "cell_type": "code",
   "execution_count": 84,
   "metadata": {},
   "outputs": [
    {
     "name": "stdout",
     "output_type": "stream",
     "text": [
      "calculate angular correlation function\n",
      "X (960, 2)  centers (50, 2)  tol=1e-05  maxiter=200\n",
      "19 iterations  cluster sizes: [16 22 36 17 24 14 22 14  9 30 30 17 34 11  6 22 13 34 18 20 23 29 11 22\n",
      " 21 17 23  9 19 37 22 24 18 15 10 14 17 14 12  9 13 18 15 26 19 17 15  9\n",
      " 39 14]\n",
      "X (230831, 2)  centers (50, 2)  tol=1e-05  maxiter=200\n",
      "72 iterations  cluster sizes: [4480 4232 4478 5079 5167 3436 4285 3672 3953 5417 5985 5724 7109 3416\n",
      " 4212 4571 4429 4514 5561 6891 4118 5312 4217 4614 5531 4384 4760 4833\n",
      " 3615 5513 3434 5636 3094 5600 4027 4176 4237 3723 4047 4423 4454 4040\n",
      " 3331 4753 4554 4004 4703 3752 6461 4874]\n",
      ". . . . . . . . . . . . . . . . . . . . . . . . . . . . . . . . . . . . . . . . . . . . . . . . . . . saving data file to :  ../data_txt/mocks//acf_auto_DR12v5_CMASS_South_jk50.txt\n"
     ]
    }
   ],
   "source": [
    "angular_correlation(data = cmass_sgc, rand = rand_sgc, \n",
    "                    nbins=10, weight = [True, True], njack = 50, \n",
    "                    suffix = '_DR12v5_CMASS_South_jk50', dir = basedir)"
   ]
  },
  {
   "cell_type": "code",
   "execution_count": 86,
   "metadata": {},
   "outputs": [
    {
     "name": "stdout",
     "output_type": "stream",
     "text": [
      "calculate angular correlation function\n",
      "X (960, 2)  centers (20, 2)  tol=1e-05  maxiter=200\n",
      "32 iterations  cluster sizes: [50 50 41 32 33 50 36 59 47 58 63 45 31 60 64 31 48 71 48 43]\n",
      "X (230831, 2)  centers (20, 2)  tol=1e-05  maxiter=200\n",
      "52 iterations  cluster sizes: [11002 11318 11954 11015 11867 14400  9708 10743 12963 10431 10870 11948\n",
      " 11498 11660 12194 10907 11065 13348 10767 11173]\n",
      ". . . . . . . . . . . . . . . . . . . . . saving data file to :  ../data_txt/mocks//acf_auto_DR12v5_CMASS_South_jk20.txt\n"
     ]
    }
   ],
   "source": [
    "angular_correlation(data = cmass_sgc, rand = rand_sgc, \n",
    "                    nbins=10, weight = [True, True], njack = 20, \n",
    "                    suffix = '_DR12v5_CMASS_South_jk20', dir = basedir)"
   ]
  },
  {
   "cell_type": "code",
   "execution_count": 72,
   "metadata": {},
   "outputs": [
    {
     "name": "stdout",
     "output_type": "stream",
     "text": [
      "calculate angular correlation function\n",
      "X (1000, 2)  centers (100, 2)  tol=1e-05  maxiter=200\n",
      "22 iterations  cluster sizes: [ 6 12 10 12  7 12  9 13  5  8 10 11  9 11 17  9  9 22  6  8 10  5 10 12\n",
      "  8 10  6 14  8  9 12 11 18  1 11 12  5  9  8 10  2  7 22  5  9  6  8 16\n",
      "  8 15 19 11 11 10  5  5  7 14 10 17  4 17 11 17  9 15 10  7 11 12 11  3\n",
      " 10 10 13 12  1  6  8  5 15 11  9  9  9 11  6  7 12  8  4 14 12 13 11 10\n",
      " 13 15  8  9]\n",
      "X (230831, 2)  centers (100, 2)  tol=1e-05  maxiter=200\n",
      "132 iterations  cluster sizes: [2471 2069 2109 2188 2393 2544 2603 2398 2646 2470 2423 2409 2546 2188\n",
      " 2521 1999 1841 2127 2188 2268 2864 1805 1634 2656 2422 2122 1685 2409\n",
      " 1785 2038 2322 2295 2676 2126 2599 2678 1911 2591 2270 2258 2358 2227\n",
      " 2416 2380 2488 1824 2278 2751 2059 2012 2330 1942 2322 2455 1705 2073\n",
      " 1717 2413 3126 2164 1905 2680 2195 2544 2810 1953 3002 2778 1897 2409\n",
      " 2799 2297 2051 2310 2345 2585 2064 2121 2092 2335 2547 2490 2385 2578\n",
      " 2175 1920 1771 2877 2237 2687 2759 2436 2462 2645 2185 2197 2406 1590\n",
      " 2441 2284]\n",
      ". . . . . . . . . . . . . . . . . . . . . . . . . . . . . . . . . . . . . . . . . . . . . . . . . . . . . . . . . . . . . . . . . . . . . . . . . . . . . . . . . . . . . . . . . . . . . . . . . . . . . saving data file to :  ../data_txt/cmass//acf_auto_DR12v5_CMASS_South_jk100.txt\n",
      "calculate angular correlation function\n",
      "X (1500, 2)  centers (150, 2)  tol=1e-05  maxiter=200\n",
      "13 iterations  cluster sizes: [10 10  6 18  5 15 22 10 11  8  9 15  6 10  9 21 17  7  5  7  4 20  8  6\n",
      "  7 10  9  6  7 12 19  7  4  4  8 12 10  6 11  7  1  5 10  2 15  4 15  7\n",
      "  9  8 12  9 13 13  8  5 11 16 15 20 15  8 12 14  9  6  6 12 12 13  9  8\n",
      "  6 10 14  8  5 17  4 12  9 25  5 13  8 12 12  8  9  7 11  8  6 15 15 11\n",
      " 12  5  8  3  7 13 11  5  8  2 13  9 16  9  4 11 10 13  6 16  7 15 15 14\n",
      " 15 15  6  9  9  5  7 11  7  9  4  5  4 12 15  4  8 15 14  7 11 13 10 14\n",
      " 17 12  8 16  4 12]\n",
      "X (230831, 2)  centers (150, 2)  tol=1e-05  maxiter=200\n",
      "122 iterations  cluster sizes: [1473 1273  908 1800 1721 1383 1647 1680 1841 1341 1669 1846 1199 1956\n",
      " 1567 2112 1922 1837 1703 1647 1385 2057 1731 1212 1499 1559 1304 1291\n",
      " 1622 1757 1799 1644 1294 1059 1667 1533 1676 1392 1944 1182 1753 1167\n",
      " 1643  935 2138 1203 2016 1157 1032 1555 2007 1127 1864 1538 1800 1584\n",
      " 1480 1252 1565 1419 1765 1497 1355 1459 1715 1084 1637 1709 1301 1559\n",
      " 1140 1209 1662 1240 1760 1459 1728 2373 1399 1539 1582 1300 1327 1594\n",
      " 2002 1928 1778 1704 1641 1500 1638 1395 1333 1306 2008 1231 1167 1390\n",
      " 1577 1868 1284 1949 1488 1381 1489  853 1615 1070 1800 1944 1144 1627\n",
      " 1637 1856 1188 1685 1482 2068 1321 1962 1591 1203 1654 1400 1204 1638\n",
      " 1295 1742 1625 1414 1490 1740 1314 1322 1362 1146  975 1733 1774 1673\n",
      " 1464 1578 1579 1746 1537 1471 1554 1553 1210 1775]\n",
      ". . . . . . . . . . . . . . . . . . . . . . . . . . . . . . . . . . . . . . . . . . . . . . . . . . . . . . . . . . . . . . . . . . . . . . . . . . . . . . . . . . . . . . . . . . . . . . . . . . . . . . . . . . . . . . . . . . . . . . . . . . . . . . . . . . . . . . . . . . . . . . . . . . . . . . . saving data file to :  ../data_txt/cmass//acf_auto_DR12v5_CMASS_South_jk150.txt\n"
     ]
    }
   ],
   "source": [
    "angular_correlation(data = cmass_sgc, rand = rand_sgc, \n",
    "                    nbins=10, weight = [True, True], njack = 100, \n",
    "                    suffix = '_DR12v5_CMASS_South_jk100', dir = basedir)\n",
    "\n",
    "angular_correlation(data = cmass_sgc, rand = rand_sgc, \n",
    "                    nbins=10, weight = [True, True], njack = 150, \n",
    "                    suffix = '_DR12v5_CMASS_South_jk150', dir = basedir)"
   ]
  },
  {
   "cell_type": "code",
   "execution_count": 100,
   "metadata": {},
   "outputs": [
    {
     "name": "stdout",
     "output_type": "stream",
     "text": [
      "calculate angular correlation function\n",
      "X (2000, 2)  centers (200, 2)  tol=1e-05  maxiter=200\n",
      "20 iterations  cluster sizes: [ 4  8  3  9 13  5 12 12  6  9 11  7  2 14 15 11 10 18 10 13  6  4 17  8\n",
      " 10 17 12 12  4  4  7 10 16  8 12 10  6  8  6 10  6  9  7 10  9 27  5 12\n",
      "  6  5 13  6  4  4 15 11  9 21  9  8  9 21 11  7  8 11 13 15  6  7  7 13\n",
      " 12 15 11  8  4  5 15  8 12  7  8  8 15 10 11 21  9  9  6  4  7 18 11  2\n",
      " 12  6 14  4  8  7  4 12  9  3 13  2 12  4 11 12 19 10 22 10  6  9 12 13\n",
      " 12  5  7  5  9 19  0 11 12  4 10 21 10  8  8  6 18  3 12 13 12  7  5  7\n",
      " 16 14  7 10 17 10  6 11 10  9 10 12 13 10 17  8  9 11 16  7 19  9 16  6\n",
      "  9 10 14 11  4  4  7  7  8 11  3  8 17  2 17 20 10  4  6  8 11 21 13 22\n",
      " 13 14  6  1 14  2 15 18]\n",
      "X (217452, 2)  centers (200, 2)  tol=1e-05  maxiter=200\n",
      "102 iterations  cluster sizes: [1083 1064  881  986 1007 1054 1334 1164  918 1307 1136 1038 1244  863\n",
      " 1160 1199  885 1139 1138 1125 1021 1311  952 1020 1038 1327 1185  975\n",
      " 1075  952  844 1084 1016 1047 1021 1109  914 1380  939 1254  896 1015\n",
      "  930 1097 1329 1258  983 1112  865 1129 1153  884  861 1083 1171 1182\n",
      "  983 1234 1254 1220 1098 1012 1305  913  960 1290 1115 1170 1242  974\n",
      " 1031  954 1089 1115 1130  957 1249 1239 1092  964 1090 1126 1202 1284\n",
      " 1003  997 1021 1628  870 1010 1135 1194 1036  872 1064 1146  968  914\n",
      " 1083  881  911  977 1076 1025  743 1060 1033 1054 1002 1059 1262 1073\n",
      " 1061 1323 1294 1062 1100 1152 1060 1250 1113  945 1177 1060 1285 1047\n",
      "  941 1417 1086 1214 1155 1064 1009 1085 1233 1237 1134  949 1265 1233\n",
      " 1112  855 1100 1117 1115 1149 1112 1065 1010 1149 1087 1034 1237  987\n",
      "  876 1078 1106 1140 1227 1177 1232 1028 1285  936 1098 1303 1163  998\n",
      "  933 1027 1142 1186 1009 1041 1108  798 1063 1097  998 1018 1111 1016\n",
      " 1079  956 1222 1051 1317  859 1032 1103 1024 1418 1184 1108  948 1156\n",
      " 1069  992 1100 1034]\n",
      ". . . . . . . . . . . . . . . . . . . . . . . . . . . . . . . . . . . . . . . . . . . . . . . . . . . . . . . . . . . . . . . . . . . . . . . . . . . . . . . . . . . . . . . . . . . . . . . . . . . . . . . . . . . . . . . . . . . . . . . . . . . . . . . . . . . . . . . . . . . . . . . . . . . . . . . . . . . . . . . . . . . . . . . . . . . . . . . . . . . . . . . . . . . . . . . . . . . . . . . saving data file to :  ../data_txt/mocks//acf_auto_DR12v5_CMASS_South_veto_jk200.txt\n"
     ]
    }
   ],
   "source": [
    "rand_sgc_veto = BOSSveto(rand_sgc, option='SGC')\n",
    "randind = np.random.choice( rand_sgc_veto.size, size = rand_sgc_veto.size/10)\n",
    "\n",
    "cmass_sgc_veto = BOSSveto(cmass_sgc, option='SGC')\n",
    "\n",
    "angular_correlation(data = cmass_sgc_veto, rand = rand_sgc_veto, \n",
    "                    nbins=10, weight = [True, True], njack = 200, \n",
    "                    suffix = '_DR12v5_CMASS_South_veto_jk200', dir = basedir)"
   ]
  },
  {
   "cell_type": "code",
   "execution_count": 68,
   "metadata": {},
   "outputs": [],
   "source": [
    "#path = '/n/des/lee.5922/data/cmass_cat/patchy_mock/'\n",
    "#cmass_mock_rand_file_S = np.loadtxt(path+'Random-DR12CMASS-S-V6C-x10.dat')"
   ]
  },
  {
   "cell_type": "code",
   "execution_count": 73,
   "metadata": {},
   "outputs": [],
   "source": [
    "#cmass_mock_file = np.loadtxt(path+'patchy_mock/Patchy-Mocks-DR12CMASS-S-V6C-Portsmouth-mass_0001.dat')\n",
    "cmass_mock_rand_file = np.loadtxt('/n/des/lee.5922/data/cmass_cat/qpm_mocks/mock_random_DR12_CMASS_S_50x1.rdzw')"
   ]
  },
  {
   "cell_type": "code",
   "execution_count": 74,
   "metadata": {},
   "outputs": [
    {
     "data": {
      "text/plain": [
       "(12161647, 4)"
      ]
     },
     "execution_count": 74,
     "metadata": {},
     "output_type": "execute_result"
    }
   ],
   "source": [
    "cmass_mock_rand_file.shape"
   ]
  },
  {
   "cell_type": "code",
   "execution_count": 75,
   "metadata": {},
   "outputs": [],
   "source": [
    "\n",
    "#cmass_mock_rand_file = np.loadtxt(path+'Random-DR12CMASS-N-V6C-x10.dat')\n",
    "random_mock = np.zeros( (cmass_mock_rand_file.shape[0],), \n",
    "    dtype = [('RA', 'float'), ('DEC', 'float'), ('Z', 'float'),('WEIGHT_FKP', 'float'), ('WEIGHT_VETO', 'int'), ('WEIGHT_RAND', 'float')])\n",
    "random_mock['RA'] = cmass_mock_rand_file[:,0]\n",
    "random_mock['DEC'] = cmass_mock_rand_file[:,1]\n",
    "random_mock['Z'] = cmass_mock_rand_file[:,2]\n",
    "random_mock['WEIGHT_FKP'] = cmass_mock_rand_file[:,3]\n",
    "#random_mock['WEIGHT_VETO'] = cmass_mock_rand_file[:,4]\n",
    "random_mock['WEIGHT_RAND'] = cmass_mock_rand_file[:,3] # * random_mock['WEIGHT_VETO']\n",
    "\n",
    "random_mock = BOSSveto(random_mock, option='SGC')\n",
    "\n",
    "#random_mock = random_mock[(random_mock['Z'] > 0.43) & (random_mock['Z'] < 0.7)]\n",
    "\n",
    "#cmass_mock = cmass_mock[ cmass_mock['VETO_FLAG'] == 1]\n",
    "#random_mock = random_mock[ random_mock['VETO_FLAG'] == 1]"
   ]
  },
  {
   "cell_type": "code",
   "execution_count": 65,
   "metadata": {},
   "outputs": [],
   "source": []
  },
  {
   "cell_type": "code",
   "execution_count": 61,
   "metadata": {},
   "outputs": [
    {
     "name": "stdout",
     "output_type": "stream",
     "text": [
      "figsave : .//spatialtest_.png\n"
     ]
    },
    {
     "data": {
      "image/png": "[encoded data removed]",
      "text/plain": [
       "<matplotlib.figure.Figure at 0x7f27778a56d0>"
      ]
     },
     "metadata": {
      "needs_background": "light"
     },
     "output_type": "display_data"
    }
   ],
   "source": [
    "spatialcheck([random_mock])"
   ]
  },
  {
   "cell_type": "code",
   "execution_count": null,
   "metadata": {},
   "outputs": [
    {
     "name": "stdout",
     "output_type": "stream",
     "text": [
      "calculate angular correlation function\n",
      "exiting jkregion file found : ../data_txt/mocks_hybrid/./jkregion.txt\n",
      "generate new jkregion : ../data_txt/mocks_hybrid/./jkregion.txt\n",
      "X (914, 2)  centers (10, 2)  tol=1e-05  maxiter=200\n",
      "18 iterations  cluster sizes: [ 84 119  79  89 100  80  63 101 109  90]\n",
      "X (209229, 2)  centers (10, 2)  tol=1e-05  maxiter=200\n",
      "72 iterations  cluster sizes: [22692 20224 21518 19325 23041 21310 21613 19757 17884 21865]\n",
      ". . . . . . . . . . . saving data file to :  ../data_txt/mocks_hybrid//acf_auto_mock_galaxy_DR12_CMASS_S_QPM_0001_jk10.txt\n",
      "calculate angular correlation function\n",
      "exiting jkregion file found : ../data_txt/mocks_hybrid/./jkregion.txt\n",
      "generate new jkregion : ../data_txt/mocks_hybrid/./jkregion.txt\n",
      "X (915, 2)  centers (10, 2)  tol=1e-05  maxiter=200\n",
      "28 iterations  cluster sizes: [ 88  70  99  94 107  97  81  97  99  83]\n",
      "X (209723, 2)  centers (10, 2)  tol=1e-05  maxiter=200\n",
      "39 iterations  cluster sizes: [20677 19282 22633 24673 23590 18504 20268 21351 18716 20029]\n",
      ". . . . . . . . . . . saving data file to :  ../data_txt/mocks_hybrid//acf_auto_mock_galaxy_DR12_CMASS_S_QPM_0002_jk10.txt\n",
      "calculate angular correlation function\n",
      "exiting jkregion file found : ../data_txt/mocks_hybrid/./jkregion.txt\n",
      "generate new jkregion : ../data_txt/mocks_hybrid/./jkregion.txt\n",
      "X (917, 2)  centers (10, 2)  tol=1e-05  maxiter=200\n",
      "29 iterations  cluster sizes: [ 94 112 114  85  77  92  69  99  70 105]\n",
      "X (210379, 2)  centers (10, 2)  tol=1e-05  maxiter=200\n",
      "96 iterations  cluster sizes: [18913 18944 19827 20039 21115 20676 21248 22198 22782 24637]\n",
      ". . . . . . . . . . . saving data file to :  ../data_txt/mocks_hybrid//acf_auto_mock_galaxy_DR12_CMASS_S_QPM_0003_jk10.txt\n",
      "calculate angular correlation function\n",
      "exiting jkregion file found : ../data_txt/mocks_hybrid/./jkregion.txt\n",
      "generate new jkregion : ../data_txt/mocks_hybrid/./jkregion.txt\n",
      "X (915, 2)  centers (10, 2)  tol=1e-05  maxiter=200\n",
      "20 iterations  cluster sizes: [111  96 109 123  90  96  61  93  52  84]\n",
      "X (209684, 2)  centers (10, 2)  tol=1e-05  maxiter=200\n",
      "16 iterations  cluster sizes: [23416 21678 21721 22445 23939 20900 16107 20412 18352 20714]\n",
      ". . . . . . . . . . . saving data file to :  ../data_txt/mocks_hybrid//acf_auto_mock_galaxy_DR12_CMASS_S_QPM_0004_jk10.txt\n",
      "calculate angular correlation function\n",
      "exiting jkregion file found : ../data_txt/mocks_hybrid/./jkregion.txt\n",
      "generate new jkregion : ../data_txt/mocks_hybrid/./jkregion.txt\n",
      "X (916, 2)  centers (10, 2)  tol=1e-05  maxiter=200\n",
      "20 iterations  cluster sizes: [ 44 113  95 126  87  89  78 102 102  80]\n",
      "X (209896, 2)  centers (10, 2)  tol=1e-05  maxiter=200\n",
      "52 iterations  cluster sizes: [17776 23052 23973 20175 17450 19969 19786 25273 22146 20296]\n",
      ". . . . . . . . . . . saving data file to :  ../data_txt/mocks_hybrid//acf_auto_mock_galaxy_DR12_CMASS_S_QPM_0005_jk10.txt\n",
      "calculate angular correlation function\n",
      "exiting jkregion file found : ../data_txt/mocks_hybrid/./jkregion.txt\n",
      "generate new jkregion : ../data_txt/mocks_hybrid/./jkregion.txt\n",
      "X (920, 2)  centers (10, 2)  tol=1e-05  maxiter=200\n",
      "20 iterations  cluster sizes: [101 104  91  67  91 106  58 120  79 103]\n",
      "X (211951, 2)  centers (10, 2)  tol=1e-05  maxiter=200\n",
      "31 iterations  cluster sizes: [20176 22394 23654 18625 20280 23784 21989 21852 18681 20516]\n",
      ". . . . . . . . . . . saving data file to :  ../data_txt/mocks_hybrid//acf_auto_mock_galaxy_DR12_CMASS_S_QPM_0006_jk10.txt\n",
      "calculate angular correlation function\n",
      "exiting jkregion file found : ../data_txt/mocks_hybrid/./jkregion.txt\n",
      "generate new jkregion : ../data_txt/mocks_hybrid/./jkregion.txt\n",
      "X (917, 2)  centers (10, 2)  tol=1e-05  maxiter=200\n",
      "31 iterations  cluster sizes: [ 78  89  99 113  92  69  72 126  79 100]\n",
      "X (210337, 2)  centers (10, 2)  tol=1e-05  maxiter=200\n",
      "58 iterations  cluster sizes: [22322 19424 21748 21111 21156 17881 23780 21419 19262 22234]\n",
      ". . . . . . . . . . . saving data file to :  ../data_txt/mocks_hybrid//acf_auto_mock_galaxy_DR12_CMASS_S_QPM_0007_jk10.txt\n",
      "calculate angular correlation function\n",
      "exiting jkregion file found : ../data_txt/mocks_hybrid/./jkregion.txt\n",
      "generate new jkregion : ../data_txt/mocks_hybrid/./jkregion.txt\n",
      "X (918, 2)  centers (10, 2)  tol=1e-05  maxiter=200\n",
      "18 iterations  cluster sizes: [ 94  93  97  68  92 105  90 107  98  74]\n",
      "X (210968, 2)  centers (10, 2)  tol=1e-05  maxiter=200\n",
      "13 iterations  cluster sizes: [20489 23273 21528 18908 23248 19888 17873 22254 22292 21215]\n",
      ". . . . . . . . . . . saving data file to :  ../data_txt/mocks_hybrid//acf_auto_mock_galaxy_DR12_CMASS_S_QPM_0008_jk10.txt\n",
      "calculate angular correlation function\n",
      "exiting jkregion file found : ../data_txt/mocks_hybrid/./jkregion.txt\n",
      "generate new jkregion : ../data_txt/mocks_hybrid/./jkregion.txt\n",
      "X (913, 2)  centers (10, 2)  tol=1e-05  maxiter=200\n",
      "39 iterations  cluster sizes: [ 60  79  93  79  95 113 105  84 100 105]\n",
      "X (208626, 2)  centers (10, 2)  tol=1e-05  maxiter=200\n",
      "30 iterations  cluster sizes: [19695 19477 20487 17334 21792 24225 23493 21331 19965 20827]\n",
      ". . . . . . . . . . . saving data file to :  ../data_txt/mocks_hybrid//acf_auto_mock_galaxy_DR12_CMASS_S_QPM_0009_jk10.txt\n",
      "calculate angular correlation function\n",
      "exiting jkregion file found : ../data_txt/mocks_hybrid/./jkregion.txt\n",
      "generate new jkregion : ../data_txt/mocks_hybrid/./jkregion.txt\n",
      "X (911, 2)  centers (10, 2)  tol=1e-05  maxiter=200\n",
      "20 iterations  cluster sizes: [116  94  73  76  96  74  98 107  86  91]\n",
      "X (207862, 2)  centers (10, 2)  tol=1e-05  maxiter=200\n",
      "33 iterations  cluster sizes: [25881 22101 19457 19295 23063 16805 22670 20537 18318 19735]\n",
      ". . . . . . . . . . . saving data file to :  ../data_txt/mocks_hybrid//acf_auto_mock_galaxy_DR12_CMASS_S_QPM_0010_jk10.txt\n",
      "calculate angular correlation function\n",
      "exiting jkregion file found : ../data_txt/mocks_hybrid/./jkregion.txt\n",
      "generate new jkregion : ../data_txt/mocks_hybrid/./jkregion.txt\n",
      "X (923, 2)  centers (10, 2)  tol=1e-05  maxiter=200\n",
      "26 iterations  cluster sizes: [ 93  94 105 111 102 106  76  72  70  94]\n",
      "X (213190, 2)  centers (10, 2)  tol=1e-05  maxiter=200\n",
      "82 iterations  cluster sizes: [24711 22566 19709 22322 20525 17836 21613 18573 22895 22440]\n",
      ". . . . . . . . . . . saving data file to :  ../data_txt/mocks_hybrid//acf_auto_mock_galaxy_DR12_CMASS_S_QPM_0011_jk10.txt\n",
      "calculate angular correlation function\n",
      "exiting jkregion file found : ../data_txt/mocks_hybrid/./jkregion.txt\n",
      "generate new jkregion : ../data_txt/mocks_hybrid/./jkregion.txt\n",
      "X (914, 2)  centers (10, 2)  tol=1e-05  maxiter=200\n",
      "27 iterations  cluster sizes: [115 101  73 108  65  62 120  58 125  87]\n",
      "X (209259, 2)  centers (10, 2)  tol=1e-05  maxiter=200\n",
      "41 iterations  cluster sizes: [23346 24091 17075 20145 18733 15799 27858 20758 22702 18752]\n",
      ". . . . . . . . . . . saving data file to :  ../data_txt/mocks_hybrid//acf_auto_mock_galaxy_DR12_CMASS_S_QPM_0012_jk10.txt\n",
      "calculate angular correlation function\n",
      "exiting jkregion file found : ../data_txt/mocks_hybrid/./jkregion.txt\n",
      "generate new jkregion : ../data_txt/mocks_hybrid/./jkregion.txt\n",
      "X (913, 2)  centers (10, 2)  tol=1e-05  maxiter=200\n",
      "39 iterations  cluster sizes: [ 94  92  90 101  80 108  92  84  85  87]\n",
      "X (208397, 2)  centers (10, 2)  tol=1e-05  maxiter=200\n",
      "16 iterations  cluster sizes: [21984 22306 19887 24569 19044 22965 18450 19262 19977 19953]\n",
      ". . . . . . . . . . . saving data file to :  ../data_txt/mocks_hybrid//acf_auto_mock_galaxy_DR12_CMASS_S_QPM_0013_jk10.txt\n",
      "calculate angular correlation function\n",
      "exiting jkregion file found : ../data_txt/mocks_hybrid/./jkregion.txt\n",
      "generate new jkregion : ../data_txt/mocks_hybrid/./jkregion.txt\n",
      "X (918, 2)  centers (10, 2)  tol=1e-05  maxiter=200\n",
      "28 iterations  cluster sizes: [103  77 111  80  89  97  81  90  96  94]\n",
      "X (210783, 2)  centers (10, 2)  tol=1e-05  maxiter=200\n",
      "20 iterations  cluster sizes: [23377 19768 25039 17819 19586 22185 23096 20362 19963 19588]\n",
      ". . . . . . . . . . . saving data file to :  ../data_txt/mocks_hybrid//acf_auto_mock_galaxy_DR12_CMASS_S_QPM_0014_jk10.txt\n",
      "calculate angular correlation function\n",
      "exiting jkregion file found : ../data_txt/mocks_hybrid/./jkregion.txt\n",
      "generate new jkregion : ../data_txt/mocks_hybrid/./jkregion.txt\n",
      "X (921, 2)  centers (10, 2)  tol=1e-05  maxiter=200\n",
      "22 iterations  cluster sizes: [ 66 110 101 102  77  80  92 114  79 100]\n",
      "X (212281, 2)  centers (10, 2)  tol=1e-05  maxiter=200\n"
     ]
    },
    {
     "name": "stdout",
     "output_type": "stream",
     "text": [
      "19 iterations  cluster sizes: [19937 23169 22840 21700 20233 17610 22515 23630 21417 19230]\n",
      ". . . . . . . . . . . saving data file to :  ../data_txt/mocks_hybrid//acf_auto_mock_galaxy_DR12_CMASS_S_QPM_0015_jk10.txt\n",
      "calculate angular correlation function\n",
      "exiting jkregion file found : ../data_txt/mocks_hybrid/./jkregion.txt\n",
      "generate new jkregion : ../data_txt/mocks_hybrid/./jkregion.txt\n",
      "X (914, 2)  centers (10, 2)  tol=1e-05  maxiter=200\n",
      "54 iterations  cluster sizes: [ 94  68  87  84  73  67  94 100 148  99]\n",
      "X (209094, 2)  centers (10, 2)  tol=1e-05  maxiter=200\n",
      "24 iterations  cluster sizes: [23555 18658 20580 18721 16669 17125 21545 27153 23122 21966]\n",
      ". . . . . . . . . . . saving data file to :  ../data_txt/mocks_hybrid//acf_auto_mock_galaxy_DR12_CMASS_S_QPM_0016_jk10.txt\n",
      "calculate angular correlation function\n",
      "exiting jkregion file found : ../data_txt/mocks_hybrid/./jkregion.txt\n",
      "generate new jkregion : ../data_txt/mocks_hybrid/./jkregion.txt\n",
      "X (913, 2)  centers (10, 2)  tol=1e-05  maxiter=200\n",
      "43 iterations  cluster sizes: [ 83  99  86  81  76  87  89 113 104  95]\n",
      "X (208826, 2)  centers (10, 2)  tol=1e-05  maxiter=200\n",
      "25 iterations  cluster sizes: [20758 20560 21333 19865 19278 22301 18686 23590 24566 17889]\n",
      ". . . . . . . . . . . saving data file to :  ../data_txt/mocks_hybrid//acf_auto_mock_galaxy_DR12_CMASS_S_QPM_0017_jk10.txt\n",
      "calculate angular correlation function\n",
      "exiting jkregion file found : ../data_txt/mocks_hybrid/./jkregion.txt\n",
      "generate new jkregion : ../data_txt/mocks_hybrid/./jkregion.txt\n",
      "X (918, 2)  centers (10, 2)  tol=1e-05  maxiter=200\n",
      "30 iterations  cluster sizes: [ 98  68  78  98  96  75 102  93 124  86]\n",
      "X (210917, 2)  centers (10, 2)  tol=1e-05  maxiter=200\n",
      "16 iterations  cluster sizes: [21378 17465 21183 20641 22374 20431 20757 16919 25843 23926]\n",
      ". . . . . . . . . . . saving data file to :  ../data_txt/mocks_hybrid//acf_auto_mock_galaxy_DR12_CMASS_S_QPM_0018_jk10.txt\n",
      "calculate angular correlation function\n",
      "exiting jkregion file found : ../data_txt/mocks_hybrid/./jkregion.txt\n",
      "generate new jkregion : ../data_txt/mocks_hybrid/./jkregion.txt\n",
      "X (918, 2)  centers (10, 2)  tol=1e-05  maxiter=200\n",
      "24 iterations  cluster sizes: [114  97 106  53  53  94 105 106  95  95]\n",
      "X (210830, 2)  centers (10, 2)  tol=1e-05  maxiter=200\n",
      "22 iterations  cluster sizes: [21323 19157 26748 16173 17773 25392 19899 20958 21992 21415]\n",
      ". . . . . . . . . . . saving data file to :  ../data_txt/mocks_hybrid//acf_auto_mock_galaxy_DR12_CMASS_S_QPM_0019_jk10.txt\n",
      "calculate angular correlation function\n",
      "exiting jkregion file found : ../data_txt/mocks_hybrid/./jkregion.txt\n",
      "generate new jkregion : ../data_txt/mocks_hybrid/./jkregion.txt\n",
      "X (920, 2)  centers (10, 2)  tol=1e-05  maxiter=200\n",
      "29 iterations  cluster sizes: [ 94 100  94  80  81  89 107  84  89 102]\n",
      "X (211704, 2)  centers (10, 2)  tol=1e-05  maxiter=200\n",
      "19 iterations  cluster sizes: [21474 22282 20763 17529 23708 21792 21161 21846 19304 21845]\n",
      ". . . . . . . . . . . . . . . . . . . . saving data file to :  ../data_txt/mocks_hybrid//acf_auto_mock_galaxy_DR12_CMASS_S_QPM_0021_jk10.txt\n",
      "calculate angular correlation function\n",
      "exiting jkregion file found : ../data_txt/mocks_hybrid/./jkregion.txt\n",
      "generate new jkregion : ../data_txt/mocks_hybrid/./jkregion.txt\n",
      "X (919, 2)  centers (10, 2)  tol=1e-05  maxiter=200\n",
      "19 iterations  cluster sizes: [ 81  87  75  76  90  87 100  92 107 124]\n",
      "X (211465, 2)  centers (10, 2)  tol=1e-05  maxiter=200\n",
      "19 iterations  cluster sizes: [15531 21835 20807 20373 21474 20381 20524 20588 24240 25712]\n",
      ". . . . . . . . . . . saving data file to :  ../data_txt/mocks_hybrid//acf_auto_mock_galaxy_DR12_CMASS_S_QPM_0022_jk10.txt\n",
      "calculate angular correlation function\n",
      "exiting jkregion file found : ../data_txt/mocks_hybrid/./jkregion.txt\n",
      "generate new jkregion : ../data_txt/mocks_hybrid/./jkregion.txt\n",
      "X (913, 2)  centers (10, 2)  tol=1e-05  maxiter=200\n",
      "29 iterations  cluster sizes: [ 99  94  78  70  89 108 101 105  95  74]\n",
      "X (208572, 2)  centers (10, 2)  tol=1e-05  maxiter=200\n",
      "35 iterations  cluster sizes: [21697 21448 21152 17458 18281 22617 24302 21296 20349 19972]\n",
      ". . . . . . . . . . . saving data file to :  ../data_txt/mocks_hybrid//acf_auto_mock_galaxy_DR12_CMASS_S_QPM_0023_jk10.txt\n",
      "calculate angular correlation function\n",
      "exiting jkregion file found : ../data_txt/mocks_hybrid/./jkregion.txt\n",
      "generate new jkregion : ../data_txt/mocks_hybrid/./jkregion.txt\n",
      "X (918, 2)  centers (10, 2)  tol=1e-05  maxiter=200\n",
      "26 iterations  cluster sizes: [ 86 106  91  90  98 100  86 114  91  56]\n",
      "X (210703, 2)  centers (10, 2)  tol=1e-05  maxiter=200\n",
      "68 iterations  cluster sizes: [24757 21208 20533 21669 19613 21257 22388 24180 16379 18719]\n",
      ". . . . . . . . . . . saving data file to :  ../data_txt/mocks_hybrid//acf_auto_mock_galaxy_DR12_CMASS_S_QPM_0024_jk10.txt\n",
      "calculate angular correlation function\n",
      "exiting jkregion file found : ../data_txt/mocks_hybrid/./jkregion.txt\n",
      "generate new jkregion : ../data_txt/mocks_hybrid/./jkregion.txt\n",
      "X (919, 2)  centers (10, 2)  tol=1e-05  maxiter=200\n",
      "19 iterations  cluster sizes: [ 75  89 120 115 107  91  81  84  94  63]\n",
      "X (211292, 2)  centers (10, 2)  tol=1e-05  maxiter=200\n",
      "53 iterations  cluster sizes: [19303 21999 21965 23110 23497 24924 19490 16943 22095 17966]\n",
      ". . . . . . . . . . . saving data file to :  ../data_txt/mocks_hybrid//acf_auto_mock_galaxy_DR12_CMASS_S_QPM_0025_jk10.txt\n",
      "calculate angular correlation function\n",
      "exiting jkregion file found : ../data_txt/mocks_hybrid/./jkregion.txt\n",
      "generate new jkregion : ../data_txt/mocks_hybrid/./jkregion.txt\n",
      "X (914, 2)  centers (10, 2)  tol=1e-05  maxiter=200\n",
      "40 iterations  cluster sizes: [ 84  89  80 110  80 105  95  71  91 109]\n",
      "X (209101, 2)  centers (10, 2)  tol=1e-05  maxiter=200\n",
      "19 iterations  cluster sizes: [20367 23016 19193 22128 22219 19802 24236 18123 20263 19754]\n",
      ". . . . . . . . . . . saving data file to :  ../data_txt/mocks_hybrid//acf_auto_mock_galaxy_DR12_CMASS_S_QPM_0026_jk10.txt\n",
      "calculate angular correlation function\n",
      "exiting jkregion file found : ../data_txt/mocks_hybrid/./jkregion.txt\n",
      "generate new jkregion : ../data_txt/mocks_hybrid/./jkregion.txt\n",
      "X (916, 2)  centers (10, 2)  tol=1e-05  maxiter=200\n",
      "11 iterations  cluster sizes: [ 94 104  99  86  73 124 108  79  77  72]\n",
      "X (210125, 2)  centers (10, 2)  tol=1e-05  maxiter=200\n",
      "60 iterations  cluster sizes: [20107 26268 20259 22131 15215 21608 26064 22687 15895 19891]\n",
      ". . . . . . . . . . . saving data file to :  ../data_txt/mocks_hybrid//acf_auto_mock_galaxy_DR12_CMASS_S_QPM_0027_jk10.txt\n",
      "calculate angular correlation function\n",
      "exiting jkregion file found : ../data_txt/mocks_hybrid/./jkregion.txt\n",
      "generate new jkregion : ../data_txt/mocks_hybrid/./jkregion.txt\n",
      "X (920, 2)  centers (10, 2)  tol=1e-05  maxiter=200\n",
      "29 iterations  cluster sizes: [ 99  65 106 117  67  96  78 100  95  97]\n",
      "X (211640, 2)  centers (10, 2)  tol=1e-05  maxiter=200\n",
      "56 iterations  cluster sizes: [22475 15556 21800 25547 16628 20271 20264 22471 21789 24839]\n",
      ". . . . . . . . . . . saving data file to :  ../data_txt/mocks_hybrid//acf_auto_mock_galaxy_DR12_CMASS_S_QPM_0028_jk10.txt\n",
      "calculate angular correlation function\n",
      "exiting jkregion file found : ../data_txt/mocks_hybrid/./jkregion.txt\n",
      "generate new jkregion : ../data_txt/mocks_hybrid/./jkregion.txt\n",
      "X (915, 2)  centers (10, 2)  tol=1e-05  maxiter=200\n",
      "14 iterations  cluster sizes: [100 102  98  69  91  79  95  97 106  78]\n",
      "X (209724, 2)  centers (10, 2)  tol=1e-05  maxiter=200\n",
      "29 iterations  cluster sizes: [22364 21722 20295 20368 18912 19374 23443 24538 18471 20237]\n",
      ". . . . . . . . . . . saving data file to :  ../data_txt/mocks_hybrid//acf_auto_mock_galaxy_DR12_CMASS_S_QPM_0029_jk10.txt\n",
      "calculate angular correlation function\n",
      "exiting jkregion file found : ../data_txt/mocks_hybrid/./jkregion.txt\n",
      "generate new jkregion : ../data_txt/mocks_hybrid/./jkregion.txt\n",
      "X (918, 2)  centers (10, 2)  tol=1e-05  maxiter=200\n",
      "28 iterations  cluster sizes: [ 81  92  89 108  92  81  88  97  74 116]\n",
      "X (210848, 2)  centers (10, 2)  tol=1e-05  maxiter=200\n",
      "36 iterations  cluster sizes: [20129 23852 19836 24261 20836 21052 17481 19401 22302 21698]\n",
      ". . . . . . . . . . . saving data file to :  ../data_txt/mocks_hybrid//acf_auto_mock_galaxy_DR12_CMASS_S_QPM_0030_jk10.txt\n",
      "calculate angular correlation function\n",
      "exiting jkregion file found : ../data_txt/mocks_hybrid/./jkregion.txt\n"
     ]
    },
    {
     "name": "stdout",
     "output_type": "stream",
     "text": [
      "generate new jkregion : ../data_txt/mocks_hybrid/./jkregion.txt\n",
      "X (914, 2)  centers (10, 2)  tol=1e-05  maxiter=200\n",
      "16 iterations  cluster sizes: [ 76  86  93  99  94 109 105  89  86  77]\n",
      "X (209134, 2)  centers (10, 2)  tol=1e-05  maxiter=200\n",
      "21 iterations  cluster sizes: [19829 19696 20216 21069 20195 23699 20585 23436 21754 18655]\n",
      ". . . . . . . . . . . saving data file to :  ../data_txt/mocks_hybrid//acf_auto_mock_galaxy_DR12_CMASS_S_QPM_0031_jk10.txt\n",
      "calculate angular correlation function\n",
      "exiting jkregion file found : ../data_txt/mocks_hybrid/./jkregion.txt\n",
      "generate new jkregion : ../data_txt/mocks_hybrid/./jkregion.txt\n",
      "X (920, 2)  centers (10, 2)  tol=1e-05  maxiter=200\n",
      "20 iterations  cluster sizes: [ 69  99  96 105  99  84  83  71 124  90]\n",
      "X (211746, 2)  centers (10, 2)  tol=1e-05  maxiter=200\n",
      "26 iterations  cluster sizes: [17762 18406 23048 18901 23337 20856 21120 22392 24151 21773]\n",
      ". . . . . . . . . . . saving data file to :  ../data_txt/mocks_hybrid//acf_auto_mock_galaxy_DR12_CMASS_S_QPM_0032_jk10.txt\n",
      "calculate angular correlation function\n",
      "exiting jkregion file found : ../data_txt/mocks_hybrid/./jkregion.txt\n",
      "generate new jkregion : ../data_txt/mocks_hybrid/./jkregion.txt\n",
      "X (915, 2)  centers (10, 2)  tol=1e-05  maxiter=200\n",
      "16 iterations  cluster sizes: [109 111  89  77  92  95  90 101  56  95]\n",
      "X (209628, 2)  centers (10, 2)  tol=1e-05  maxiter=200\n",
      "22 iterations  cluster sizes: [23936 23963 19874 17462 21882 19791 20514 23701 18016 20489]\n",
      ". . . . . . . . . . . saving data file to :  ../data_txt/mocks_hybrid//acf_auto_mock_galaxy_DR12_CMASS_S_QPM_0033_jk10.txt\n",
      "calculate angular correlation function\n",
      "exiting jkregion file found : ../data_txt/mocks_hybrid/./jkregion.txt\n",
      "generate new jkregion : ../data_txt/mocks_hybrid/./jkregion.txt\n",
      "X (915, 2)  centers (10, 2)  tol=1e-05  maxiter=200\n",
      "26 iterations  cluster sizes: [ 93 115  82  88  74  88 107  88  75 105]\n",
      "X (209583, 2)  centers (10, 2)  tol=1e-05  maxiter=200\n",
      "51 iterations  cluster sizes: [19658 19569 23149 22543 19190 17722 24287 22271 20642 20552]\n",
      ". . . . . . . . . . . saving data file to :  ../data_txt/mocks_hybrid//acf_auto_mock_galaxy_DR12_CMASS_S_QPM_0034_jk10.txt\n",
      "calculate angular correlation function\n",
      "exiting jkregion file found : ../data_txt/mocks_hybrid/./jkregion.txt\n",
      "generate new jkregion : ../data_txt/mocks_hybrid/./jkregion.txt\n",
      "X (922, 2)  centers (10, 2)  tol=1e-05  maxiter=200\n",
      "22 iterations  cluster sizes: [103  93 112 105  92 128  70  59  69  91]\n",
      "X (212682, 2)  centers (10, 2)  tol=1e-05  maxiter=200\n",
      "56 iterations  cluster sizes: [23200 20719 19865 20103 24583 19664 24893 17408 19281 22966]\n",
      ". . . . . . . . . . . saving data file to :  ../data_txt/mocks_hybrid//acf_auto_mock_galaxy_DR12_CMASS_S_QPM_0035_jk10.txt\n",
      "calculate angular correlation function\n",
      "exiting jkregion file found : ../data_txt/mocks_hybrid/./jkregion.txt\n",
      "generate new jkregion : ../data_txt/mocks_hybrid/./jkregion.txt\n",
      "X (917, 2)  centers (10, 2)  tol=1e-05  maxiter=200\n",
      "21 iterations  cluster sizes: [127  92  99 106  80 107  66  85  85  70]\n",
      "X (210608, 2)  centers (10, 2)  tol=1e-05  maxiter=200\n",
      "14 iterations  cluster sizes: [24546 19955 20754 23752 20245 22741 16169 20984 22398 19064]\n",
      ". . . . . . . . . . . saving data file to :  ../data_txt/mocks_hybrid//acf_auto_mock_galaxy_DR12_CMASS_S_QPM_0036_jk10.txt\n",
      "calculate angular correlation function\n",
      "exiting jkregion file found : ../data_txt/mocks_hybrid/./jkregion.txt\n",
      "generate new jkregion : ../data_txt/mocks_hybrid/./jkregion.txt\n",
      "X (920, 2)  centers (10, 2)  tol=1e-05  maxiter=200\n",
      "26 iterations  cluster sizes: [ 86  90  81  94 110  78 150  65  82  84]\n",
      "X (211726, 2)  centers (10, 2)  tol=1e-05  maxiter=200\n",
      "20 iterations  cluster sizes: [17639 19693 23012 22057 29307 21453 25502 18165 17283 17615]\n",
      ". . . . . . . . . . . saving data file to :  ../data_txt/mocks_hybrid//acf_auto_mock_galaxy_DR12_CMASS_S_QPM_0037_jk10.txt\n",
      "calculate angular correlation function\n",
      "exiting jkregion file found : ../data_txt/mocks_hybrid/./jkregion.txt\n",
      "generate new jkregion : ../data_txt/mocks_hybrid/./jkregion.txt\n",
      "X (924, 2)  centers (10, 2)  tol=1e-05  maxiter=200\n",
      "20 iterations  cluster sizes: [ 70 121  89  75 102  96  83  98  78 112]\n",
      "X (213681, 2)  centers (10, 2)  tol=1e-05  maxiter=200\n",
      "37 iterations  cluster sizes: [16639 24430 20748 19341 21785 22917 22173 21803 22063 21782]\n",
      ". . . . . . . . . . . saving data file to :  ../data_txt/mocks_hybrid//acf_auto_mock_galaxy_DR12_CMASS_S_QPM_0038_jk10.txt\n",
      "calculate angular correlation function\n",
      "exiting jkregion file found : ../data_txt/mocks_hybrid/./jkregion.txt\n",
      "generate new jkregion : ../data_txt/mocks_hybrid/./jkregion.txt\n",
      "X (922, 2)  centers (10, 2)  tol=1e-05  maxiter=200\n",
      "20 iterations  cluster sizes: [ 88  71 114  70 104  98  99  91  83 104]\n",
      "X (212542, 2)  centers (10, 2)  tol=1e-05  maxiter=200\n",
      "15 iterations  cluster sizes: [20327 19818 22536 20645 21728 22809 21426 18571 22416 22266]\n",
      ". . . . . . . . . . . saving data file to :  ../data_txt/mocks_hybrid//acf_auto_mock_galaxy_DR12_CMASS_S_QPM_0039_jk10.txt\n",
      "calculate angular correlation function\n",
      "exiting jkregion file found : ../data_txt/mocks_hybrid/./jkregion.txt\n",
      "generate new jkregion : ../data_txt/mocks_hybrid/./jkregion.txt\n",
      "X (920, 2)  centers (10, 2)  tol=1e-05  maxiter=200\n",
      "11 iterations  cluster sizes: [101 111  77  71 120 125  69  98  82  66]\n",
      "X (211613, 2)  centers (10, 2)  tol=1e-05  maxiter=200\n",
      "15 iterations  cluster sizes: [22210 26504 16606 18696 28671 23022 20130 18076 21289 16409]\n",
      ". . . . . . . . . . . saving data file to :  ../data_txt/mocks_hybrid//acf_auto_mock_galaxy_DR12_CMASS_S_QPM_0040_jk10.txt\n",
      "calculate angular correlation function\n",
      "exiting jkregion file found : ../data_txt/mocks_hybrid/./jkregion.txt\n",
      "generate new jkregion : ../data_txt/mocks_hybrid/./jkregion.txt\n",
      "X (912, 2)  centers (10, 2)  tol=1e-05  maxiter=200\n",
      "22 iterations  cluster sizes: [100 113  72 107  79 102  93  71  82  93]\n",
      "X (208309, 2)  centers (10, 2)  tol=1e-05  maxiter=200\n",
      "13 iterations  cluster sizes: [20289 23661 19670 20466 22428 22489 21272 19121 17326 21587]\n",
      ". . . . . . . . . . . saving data file to :  ../data_txt/mocks_hybrid//acf_auto_mock_galaxy_DR12_CMASS_S_QPM_0041_jk10.txt\n",
      "calculate angular correlation function\n",
      "exiting jkregion file found : ../data_txt/mocks_hybrid/./jkregion.txt\n",
      "generate new jkregion : ../data_txt/mocks_hybrid/./jkregion.txt\n",
      "X (920, 2)  centers (10, 2)  tol=1e-05  maxiter=200\n",
      "10 iterations  cluster sizes: [ 84 102  96  68  97 100  87 119  94  73]\n",
      "X (211611, 2)  centers (10, 2)  tol=1e-05  maxiter=200\n",
      "24 iterations  cluster sizes: [20792 21340 20418 21295 20304 22386 19883 25353 23473 16367]\n",
      ". . . . . . . . . . . saving data file to :  ../data_txt/mocks_hybrid//acf_auto_mock_galaxy_DR12_CMASS_S_QPM_0042_jk10.txt\n",
      "calculate angular correlation function\n",
      "exiting jkregion file found : ../data_txt/mocks_hybrid/./jkregion.txt\n",
      "generate new jkregion : ../data_txt/mocks_hybrid/./jkregion.txt\n",
      "X (913, 2)  centers (10, 2)  tol=1e-05  maxiter=200\n",
      "29 iterations  cluster sizes: [116  75 112 108  65  97  88  90  82  80]\n",
      "X (208525, 2)  centers (10, 2)  tol=1e-05  maxiter=200\n",
      "23 iterations  cluster sizes: [22343 20195 19998 21108 19630 20696 18505 22494 24023 19533]\n",
      ". . . . . . . . . . . saving data file to :  ../data_txt/mocks_hybrid//acf_auto_mock_galaxy_DR12_CMASS_S_QPM_0043_jk10.txt\n",
      "calculate angular correlation function\n",
      "exiting jkregion file found : ../data_txt/mocks_hybrid/./jkregion.txt\n",
      "generate new jkregion : ../data_txt/mocks_hybrid/./jkregion.txt\n",
      "X (918, 2)  centers (10, 2)  tol=1e-05  maxiter=200\n",
      "19 iterations  cluster sizes: [115 102  96  66  77  89  84  92 122  75]\n",
      "X (210835, 2)  centers (10, 2)  tol=1e-05  maxiter=200\n",
      "60 iterations  cluster sizes: [18416 20535 24025 22205 24172 20028 17257 22537 22381 19279]\n",
      ". . . . . . . . . . . saving data file to :  ../data_txt/mocks_hybrid//acf_auto_mock_galaxy_DR12_CMASS_S_QPM_0044_jk10.txt\n",
      "calculate angular correlation function\n",
      "exiting jkregion file found : ../data_txt/mocks_hybrid/./jkregion.txt\n",
      "generate new jkregion : ../data_txt/mocks_hybrid/./jkregion.txt\n",
      "X (924, 2)  centers (10, 2)  tol=1e-05  maxiter=200\n",
      "31 iterations  cluster sizes: [107 104  87  81  71  83 100 113  68 110]\n",
      "X (213548, 2)  centers (10, 2)  tol=1e-05  maxiter=200\n",
      "7 iterations  cluster sizes: [22460 22402 21431 18713 20232 24757 19435 25203 16654 22261]\n"
     ]
    },
    {
     "name": "stdout",
     "output_type": "stream",
     "text": [
      ". . . . . . . . . . . saving data file to :  ../data_txt/mocks_hybrid//acf_auto_mock_galaxy_DR12_CMASS_S_QPM_0045_jk10.txt\n",
      "calculate angular correlation function\n",
      "exiting jkregion file found : ../data_txt/mocks_hybrid/./jkregion.txt\n",
      "generate new jkregion : ../data_txt/mocks_hybrid/./jkregion.txt\n",
      "X (916, 2)  centers (10, 2)  tol=1e-05  maxiter=200\n",
      "37 iterations  cluster sizes: [133  74  94 116  59  78  84  85 111  82]\n",
      "X (209767, 2)  centers (10, 2)  tol=1e-05  maxiter=200\n",
      "32 iterations  cluster sizes: [23527 19509 21436 20417 18664 20423 19148 23646 21055 21942]\n",
      ". . . . . . . . . . . saving data file to :  ../data_txt/mocks_hybrid//acf_auto_mock_galaxy_DR12_CMASS_S_QPM_0046_jk10.txt\n",
      "calculate angular correlation function\n",
      "exiting jkregion file found : ../data_txt/mocks_hybrid/./jkregion.txt\n",
      "generate new jkregion : ../data_txt/mocks_hybrid/./jkregion.txt\n",
      "X (919, 2)  centers (10, 2)  tol=1e-05  maxiter=200\n",
      "26 iterations  cluster sizes: [ 91  92  83  91  99  90 103 106  60 104]\n",
      "X (211467, 2)  centers (10, 2)  tol=1e-05  maxiter=200\n",
      "16 iterations  cluster sizes: [22354 23970 20231 21603 19381 20866 21931 22871 16585 21675]\n",
      ". . . . . . . . . . . saving data file to :  ../data_txt/mocks_hybrid//acf_auto_mock_galaxy_DR12_CMASS_S_QPM_0047_jk10.txt\n",
      "calculate angular correlation function\n",
      "exiting jkregion file found : ../data_txt/mocks_hybrid/./jkregion.txt\n",
      "generate new jkregion : ../data_txt/mocks_hybrid/./jkregion.txt\n",
      "X (921, 2)  centers (10, 2)  tol=1e-05  maxiter=200\n",
      "25 iterations  cluster sizes: [116  98  76  80  76  80 100  82 121  92]\n",
      "X (212209, 2)  centers (10, 2)  tol=1e-05  maxiter=200\n",
      "8 iterations  cluster sizes: [19859 21346 20626 20461 16566 22465 24262 19437 25424 21763]\n",
      ". . . . . . . . . . . saving data file to :  ../data_txt/mocks_hybrid//acf_auto_mock_galaxy_DR12_CMASS_S_QPM_0048_jk10.txt\n",
      "calculate angular correlation function\n",
      "exiting jkregion file found : ../data_txt/mocks_hybrid/./jkregion.txt\n",
      "generate new jkregion : ../data_txt/mocks_hybrid/./jkregion.txt\n",
      "X (913, 2)  centers (10, 2)  tol=1e-05  maxiter=200\n",
      "19 iterations  cluster sizes: [ 93 100  89  67  94  92 105  91  74 108]\n",
      "X (208609, 2)  centers (10, 2)  tol=1e-05  maxiter=200\n",
      "19 iterations  cluster sizes: [20583 21895 23291 18303 20989 19592 18305 23337 21195 21119]\n",
      ". . . . . . . . . . . saving data file to :  ../data_txt/mocks_hybrid//acf_auto_mock_galaxy_DR12_CMASS_S_QPM_0049_jk10.txt\n",
      "calculate angular correlation function\n",
      "exiting jkregion file found : ../data_txt/mocks_hybrid/./jkregion.txt\n",
      "generate new jkregion : ../data_txt/mocks_hybrid/./jkregion.txt\n",
      "X (910, 2)  centers (10, 2)  tol=1e-05  maxiter=200\n",
      "10 iterations  cluster sizes: [ 82  91  78  59 111  95  98 113  59 124]\n",
      "X (207373, 2)  centers (10, 2)  tol=1e-05  maxiter=200\n",
      "89 iterations  cluster sizes: [17473 21220 18500 22909 22661 19308 18822 21688 19831 24961]\n",
      ". . . . . . . . . . . saving data file to :  ../data_txt/mocks_hybrid//acf_auto_mock_galaxy_DR12_CMASS_S_QPM_0050_jk10.txt\n",
      "calculate angular correlation function\n",
      "exiting jkregion file found : ../data_txt/mocks_hybrid/./jkregion.txt\n",
      "generate new jkregion : ../data_txt/mocks_hybrid/./jkregion.txt\n",
      "X (921, 2)  centers (10, 2)  tol=1e-05  maxiter=200\n",
      "15 iterations  cluster sizes: [143  74  89  70 100  74  66 115  91  99]\n",
      "X (212274, 2)  centers (10, 2)  tol=1e-05  maxiter=200\n",
      "60 iterations  cluster sizes: [21731 19322 20645 21243 20721 18554 23085 24381 20597 21995]\n",
      ". . . . . . . . . . . saving data file to :  ../data_txt/mocks_hybrid//acf_auto_mock_galaxy_DR12_CMASS_S_QPM_0051_jk10.txt\n",
      "calculate angular correlation function\n",
      "exiting jkregion file found : ../data_txt/mocks_hybrid/./jkregion.txt\n",
      "generate new jkregion : ../data_txt/mocks_hybrid/./jkregion.txt\n",
      "X (918, 2)  centers (10, 2)  tol=1e-05  maxiter=200\n",
      "23 iterations  cluster sizes: [ 93  75  79  87  80  90  75 102 102 135]\n",
      "X (210789, 2)  centers (10, 2)  tol=1e-05  maxiter=200\n",
      "16 iterations  cluster sizes: [23816 19157 16674 18576 20578 21621 19616 22509 23242 25000]\n",
      ". . . . . . . . . . . saving data file to :  ../data_txt/mocks_hybrid//acf_auto_mock_galaxy_DR12_CMASS_S_QPM_0052_jk10.txt\n",
      "calculate angular correlation function\n",
      "exiting jkregion file found : ../data_txt/mocks_hybrid/./jkregion.txt\n",
      "generate new jkregion : ../data_txt/mocks_hybrid/./jkregion.txt\n",
      "X (923, 2)  centers (10, 2)  tol=1e-05  maxiter=200\n",
      "25 iterations  cluster sizes: [ 88  99  82  92  82  95  72 118  88 107]\n",
      "X (213086, 2)  centers (10, 2)  tol=1e-05  maxiter=200\n",
      "38 iterations  cluster sizes: [20147 22020 17483 17765 19455 24270 18475 26777 20864 25830]\n",
      ". . . . . . . . . . . saving data file to :  ../data_txt/mocks_hybrid//acf_auto_mock_galaxy_DR12_CMASS_S_QPM_0053_jk10.txt\n",
      "calculate angular correlation function\n",
      "exiting jkregion file found : ../data_txt/mocks_hybrid/./jkregion.txt\n",
      "generate new jkregion : ../data_txt/mocks_hybrid/./jkregion.txt\n",
      "X (918, 2)  centers (10, 2)  tol=1e-05  maxiter=200\n",
      "34 iterations  cluster sizes: [ 86  90  72  91  71 110 104  99 113  82]\n",
      "X (210953, 2)  centers (10, 2)  tol=1e-05  maxiter=200\n",
      "9 iterations  cluster sizes: [21075 22290 17837 20767 16338 22845 23450 21227 25257 19867]\n",
      ". . . . . . . . . . . saving data file to :  ../data_txt/mocks_hybrid//acf_auto_mock_galaxy_DR12_CMASS_S_QPM_0054_jk10.txt\n",
      "calculate angular correlation function\n",
      "exiting jkregion file found : ../data_txt/mocks_hybrid/./jkregion.txt\n",
      "generate new jkregion : ../data_txt/mocks_hybrid/./jkregion.txt\n",
      "X (924, 2)  centers (10, 2)  tol=1e-05  maxiter=200\n",
      "19 iterations  cluster sizes: [ 70  69  87 107 120  77  87 100  95 112]\n",
      "X (213644, 2)  centers (10, 2)  tol=1e-05  maxiter=200\n",
      "29 iterations  cluster sizes: [20114 18099 19139 24748 23133 20627 19971 20880 22072 24861]\n",
      ". . . . . . . . . . . saving data file to :  ../data_txt/mocks_hybrid//acf_auto_mock_galaxy_DR12_CMASS_S_QPM_0055_jk10.txt\n",
      "calculate angular correlation function\n",
      "exiting jkregion file found : ../data_txt/mocks_hybrid/./jkregion.txt\n",
      "generate new jkregion : ../data_txt/mocks_hybrid/./jkregion.txt\n",
      "X (915, 2)  centers (10, 2)  tol=1e-05  maxiter=200\n",
      "18 iterations  cluster sizes: [ 83 130  79  98  69 106  62  88  76 124]\n",
      "X (209320, 2)  centers (10, 2)  tol=1e-05  maxiter=200\n",
      "24 iterations  cluster sizes: [22683 27481 19824 18806 19466 19309 16675 21418 19875 23783]\n",
      ". . . . . . . . . . . saving data file to :  ../data_txt/mocks_hybrid//acf_auto_mock_galaxy_DR12_CMASS_S_QPM_0056_jk10.txt\n",
      "calculate angular correlation function\n",
      "exiting jkregion file found : ../data_txt/mocks_hybrid/./jkregion.txt\n",
      "generate new jkregion : ../data_txt/mocks_hybrid/./jkregion.txt\n",
      "X (914, 2)  centers (10, 2)  tol=1e-05  maxiter=200\n",
      "27 iterations  cluster sizes: [ 76  97 100 103  95  95  95  65  88 100]\n",
      "X (209152, 2)  centers (10, 2)  tol=1e-05  maxiter=200\n",
      "34 iterations  cluster sizes: [19137 21421 16242 24160 18335 22094 22597 18955 24758 21453]\n",
      ". . . . . . . . . . . saving data file to :  ../data_txt/mocks_hybrid//acf_auto_mock_galaxy_DR12_CMASS_S_QPM_0057_jk10.txt\n",
      "calculate angular correlation function\n",
      "exiting jkregion file found : ../data_txt/mocks_hybrid/./jkregion.txt\n",
      "generate new jkregion : ../data_txt/mocks_hybrid/./jkregion.txt\n",
      "X (921, 2)  centers (10, 2)  tol=1e-05  maxiter=200\n",
      "25 iterations  cluster sizes: [103 116 104  83  71  88  93  91  72 100]\n",
      "X (212310, 2)  centers (10, 2)  tol=1e-05  maxiter=200\n",
      "30 iterations  cluster sizes: [24784 23224 18984 18174 17793 22479 21360 21110 22182 22220]\n",
      ". . . . . . . . . . . saving data file to :  ../data_txt/mocks_hybrid//acf_auto_mock_galaxy_DR12_CMASS_S_QPM_0058_jk10.txt\n",
      "calculate angular correlation function\n",
      "exiting jkregion file found : ../data_txt/mocks_hybrid/./jkregion.txt\n",
      "generate new jkregion : ../data_txt/mocks_hybrid/./jkregion.txt\n",
      "X (916, 2)  centers (10, 2)  tol=1e-05  maxiter=200\n",
      "15 iterations  cluster sizes: [103  91 110  73 101  93  73  86 111  75]\n",
      "X (209909, 2)  centers (10, 2)  tol=1e-05  maxiter=200\n",
      "12 iterations  cluster sizes: [23729 19406 25734 18440 20609 22973 18843 16879 23207 20089]\n",
      ". . . . ."
     ]
    }
   ],
   "source": [
    "basedir =  '../data_txt/mocks_hybrid/'\n",
    "os.system('mkdir '+basedir)\n",
    "\n",
    "for i in range(1, 1001):\n",
    "    try : \n",
    "        path = '/n/des/lee.5922/data/cmass_cat/qpm_mocks/'\n",
    "        name = 'mock_galaxy_DR12_CMASS_S_QPM_{:04}'.format(i)\n",
    "        #print path+name\n",
    "        cmass_mock_file = np.loadtxt(path+name+'.rdzw')\n",
    "\n",
    "        #cmass_mock_file = np.loadtxt(path+'patchy_mock/Patchy-Mocks-DR12CMASS-N-V6C-Portsmouth-mass_0001.dat')\n",
    "        cmass_mock = np.zeros( (cmass_mock_file.shape[0],), \n",
    "            dtype = [('RA', 'float'), ('DEC', 'float'), ('Z', 'float'),('WEIGHT_FKP', 'float'), ('WEIGHT_VETO', 'int'), ('WEIGHT', 'float')])\n",
    "        cmass_mock['RA'] = cmass_mock_file[:,0]\n",
    "        cmass_mock['DEC'] = cmass_mock_file[:,1]\n",
    "        cmass_mock['Z'] = cmass_mock_file[:,2]\n",
    "        cmass_mock['WEIGHT_FKP'] = cmass_mock_file[:,3]\n",
    "        cmass_mock['WEIGHT_VETO'] = cmass_mock_file[:,4]\n",
    "        #cmass_mock['VETO_FLAG'] = cmass_mock_file[:,6]\n",
    "        cmass_mock['WEIGHT'] = cmass_mock_file[:,4] *cmass_mock_file[:,3]\n",
    "        #cmass_mock = cmass_mock[ cmass_mock['VETO_FLAG'] == 1]\n",
    "        cmass_mock = BOSSveto(cmass_mock, option='SGC')\n",
    "        #angular_correlation_poisson(data = cmass_mock, rand = random_mock, \n",
    "        #                    nbins=10, weight_data = True, \n",
    "        #                    suffix = '_'+name, dir = basedir)\n",
    "\n",
    "        angular_correlation(data = cmass_mock, rand = random_mock, \n",
    "                    nbins=10, weight = [True, True], njack = 10, \n",
    "                    suffix = '_'+name+'_jk10', dir = basedir, jkgenerate = True)\n",
    "        \n",
    "    except (IOError, ValueError): \n",
    "        print 'no files'\n",
    "        pass"
   ]
  },
  {
   "cell_type": "code",
   "execution_count": 58,
   "metadata": {},
   "outputs": [],
   "source": [
    "xi_list = []\n",
    "for i in range(1,1001):\n",
    "    try:\n",
    "        meanr, xi, _ = np.loadtxt('../data_txt/mocks/acf_auto_poisson_mock_galaxy_DR12_CMASS_S_QPM_{:04}.txt'.format(i), unpack=True)\n",
    "        #ax.errorbar(meanr, xi, yerr = xi_err, fmt = '-', color='r', alpha = 0.5)\n",
    "        xi_list.append(xi)\n",
    "    except (IOError, ValueError): pass\n",
    "    \n",
    "xi_list = np.array(xi_list)\n",
    "xi_list_mean = np.mean(xi_list, axis=0)\n",
    "xi_list_sigma = np.std(xi_list, axis=0)"
   ]
  },
  {
   "cell_type": "code",
   "execution_count": null,
   "metadata": {},
   "outputs": [],
   "source": [
    "#RA, DEC, Z, MSTAR, NBAR, BIAS, VETO FLAG, FIBER COLLISION"
   ]
  },
  {
   "cell_type": "code",
   "execution_count": null,
   "metadata": {},
   "outputs": [],
   "source": []
  },
  {
   "cell_type": "code",
   "execution_count": null,
   "metadata": {},
   "outputs": [],
   "source": [
    "meanr4, xi4, xi_err4 = np.loadtxt('../data_txt/cmass/acf_auto_poisson_DR12v5_CMASS_South.', unpack=True)"
   ]
  },
  {
   "cell_type": "code",
   "execution_count": 71,
   "metadata": {},
   "outputs": [
    {
     "data": {
      "text/plain": [
       "<matplotlib.text.Text at 0x7f570200d3d0>"
      ]
     },
     "execution_count": 71,
     "metadata": {},
     "output_type": "execute_result"
    },
    {
     "data": {
      "image/png": "[encoded data removed]",
      "text/plain": [
       "<matplotlib.figure.Figure at 0x7f5702e3ba10>"
      ]
     },
     "metadata": {
      "needs_background": "light"
     },
     "output_type": "display_data"
    }
   ],
   "source": [
    "import scipy\n",
    "\n",
    "rootdir = '../output/sfd_train_photo_SamPle_nozband_ran10_3_full_tol1e5/'\n",
    "\n",
    "theta_th, theory = np.loadtxt('../data_txt/acf_cmass_ngc_theory.txt', unpack=True)\n",
    "theta_th, theory_sgc = np.loadtxt('../data_txt/acf_cmass_sgc_theory.txt', unpack=True)\n",
    "\n",
    "#_, theory_bias = np.loadtxt('../data_txt/acf_cmass_sgc_theory_bias.txt', unpack=True)\n",
    "#meanr, xi, xi_err = np.loadtxt(rootdir+'/act//acf_auto_gold_st82_nbins10_jk100.txt', unpack=True)\n",
    "#meanr, xi, xi_err = np.loadtxt(rootdir+'/act//acf_auto_dmass_weight0_pcut01_nbins10_jk100.txt', unpack=True)\n",
    "meanr2, xi2, xi_err2 = np.loadtxt('../data_txt/cmass//acf_auto_poisson_DR12v5_CMASS_South_ran10.txt', unpack=True)\n",
    "meanr3, xi3, xi_err3 = np.loadtxt('../data_txt/cmass//acf_auto_poisson_DR12v5_CMASS_South_ran5.txt', unpack=True)\n",
    "#meanr4, xi4, xi_err4 = np.loadtxt('../data_txt/cmass/acf_auto_poisson_DR12v5_CMASS_South.txt', unpack=True)\n",
    "meanr4, xi4, xi_err4 = np.loadtxt('../data_txt/mocks/acf_auto_DR12v5_CMASS_South_veto_jk200.txt', unpack=True)\n",
    "meanr5, xi5, xi_err5 = np.loadtxt('../data_txt/cmass//acf_auto_poisson_DR12v5_CMASS_South_zcut.txt', unpack=True)\n",
    "#meanr6, xi6, xi_err6 = np.loadtxt('../data_txt/mocks/acf_auto_poisson_mock_galaxy_DR12_CMASS_S_QPM_0001.txt', unpack=True)\n",
    "\n",
    "#../data_txt//acf_auto_poisson_cmass_full_sys_cp_nz_weight_nbins10_jk200.txt\n",
    "#meanr2, xi2, xi_err2 = np.loadtxt('../data_txt/cmass//acf_auto_poisson_DR12v5_CMASS_South_no_weight.txt', unpack=True)\n",
    "#meanr3, xi3, xi_err3 = np.loadtxt('../data_txt/cmass//acf_auto_poisson_DR12v5_CMASS_South_zcut_no_weight.txt', unpack=True)\n",
    "#meanr2, xi2, xi_err2 = np.loadtxt('../data_txt/cmass//acf_auto_poisson_cmass-dr12v4-S-Reid-full.txt', unpack=True)\n",
    "#meanr3, xi3, xi_err3 = np.loadtxt('../data_txt/cmass//acf_auto_poisson_cmass-dr12v4-S-Reid-full_zcut.txt', unpack=True)\n",
    "\n",
    "meanr, xi, xi_err = np.loadtxt('../data_txt/mocks/acf_auto_DR12v5_CMASS_South_jk50.txt', unpack=True)\n",
    "\n",
    "theory_interp = scipy.interpolate.interp1d(theta_th, theory)\n",
    "theory_interp = theory_interp(meanr)\n",
    "theory_sgc_interp = scipy.interpolate.interp1d(theta_th, theory_sgc)\n",
    "theory_sgc_interp = theory_sgc_interp(meanr)\n",
    "\n",
    "nzs_ratio = theory_sgc_interp/theory_interp\n",
    "\n",
    "\n",
    "meanr_sgc, xi_sgc, xi_err_sgc = np.loadtxt('../data_txt//acf_auto_cmass_sgc_sys_cp_nz_weight_nbins10_jk100.txt',unpack=True)\n",
    "cov_cmass_s = np.genfromtxt('../data_txt//acf_auto_cmass_sgc_sys_cp_nz_weight_nbins10_jk100.cov')\n",
    "\n",
    "\n",
    "\n",
    "\n",
    "fig, ax = plt.subplots(figsize = (13, 10))\n",
    "\n",
    "    \n",
    "#ax.errorbar(meanr, xi, yerr = xi_err, fmt = 'o-', color='r', label='cmass mock')\n",
    "#ax.errorbar(meanr2, xi2, yerr = xi_err2, fmt = '-', color='b', label='cmass sgc ran10')\n",
    "ax.errorbar(meanr4, xi4, yerr = xi_err4, fmt = '-', color='r', label='cmass sgc')\n",
    "ax.errorbar(meanr3, xi3, yerr = xi_err3, fmt = '-', color='g', label='cmass sgc ran5')\n",
    "ax.errorbar(meanr_sgc, xi_sgc, yerr = xi_err_sgc, fmt = 'k', color='r', label='cmass sgc ran 10')\n",
    "\n",
    "#ax.errorbar(meanr5, xi5, yerr = xi_err5, fmt = '--', color='skyblue', label='cmass sgc zcut + all weights')\n",
    "#ax.errorbar(meanr6, xi6, yerr = xi_err6, fmt = '--', color='r', label='jk')\n",
    "\n",
    "#ax.plot(theta_th, theory, '-', color='grey', label='theory')\n",
    "ax.plot(theta_th, theory_sgc, '--', color='grey', label='theory sgc')\n",
    "#ax.plot(theta_th, theta_th*theory_bias, '--', color='green', label='theory bias')\n",
    "\n",
    "ax.set_xscale('log')\n",
    "ax.set_yscale('log')\n",
    "ax.legend(loc = 'best', fontsize = 12)\n",
    "#ax.text(1.5, 0.07, r'$\\chi^2 $ = {:0.3f}  (south)'.format(chisqr), fontsize = 12)\n",
    "#ax.set_ylim(1e-4,1)\n",
    "ax.set_xlim(2.5/60, 250./60)\n",
    "ax.set_xlabel(r'$\\theta$ (deg)', fontsize = 15)\n",
    "ax.set_ylabel(r'$\\omega(\\theta)$', fontsize = 15)\n",
    "\n"
   ]
  },
  {
   "cell_type": "code",
   "execution_count": 69,
   "metadata": {},
   "outputs": [
    {
     "data": {
      "text/plain": [
       "<matplotlib.text.Text at 0x7f57025ce550>"
      ]
     },
     "execution_count": 69,
     "metadata": {},
     "output_type": "execute_result"
    },
    {
     "data": {
      "image/png": "[encoded data removed]",
      "text/plain": [
       "<matplotlib.figure.Figure at 0x7f570285b0d0>"
      ]
     },
     "metadata": {
      "needs_background": "light"
     },
     "output_type": "display_data"
    }
   ],
   "source": [
    "import scipy\n",
    "\n",
    "rootdir = '../output/sfd_train_photo_SamPle_nozband_ran10_3_full_tol1e5/'\n",
    "\n",
    "theta_th, theory = np.loadtxt('../data_txt/acf_cmass_ngc_theory.txt', unpack=True)\n",
    "theta_th, theory_sgc = np.loadtxt('../data_txt/acf_cmass_sgc_theory.txt', unpack=True)\n",
    "\n",
    "#_, theory_bias = np.loadtxt('../data_txt/acf_cmass_sgc_theory_bias.txt', unpack=True)\n",
    "#meanr, xi, xi_err = np.loadtxt(rootdir+'/act//acf_auto_gold_st82_nbins10_jk100.txt', unpack=True)\n",
    "#meanr, xi, xi_err = np.loadtxt(rootdir+'/act//acf_auto_dmass_weight0_pcut01_nbins10_jk100.txt', unpack=True)\n",
    "meanr2, xi2, xi_err2 = np.loadtxt(rootdir+'/act//acf_auto_dmass_veto_pcut01_nbins10_jk100.txt', unpack=True)\n",
    "meanr3, xi3, xi_err3 = np.loadtxt('../data_txt/mocks//acf_auto_poisson_DR12v5_CMASS_South.txt', unpack=True)\n",
    "\n",
    "#\n",
    "meanr, xi, xi_err = np.loadtxt('../data_txt/mocks//acf_auto_poisson_mock_galaxy_DR12_CMASS_S_QPM_0001.txt', unpack=True)\n",
    "\n",
    "theory_interp = scipy.interpolate.interp1d(theta_th, theory)\n",
    "theory_interp = theory_interp(meanr)\n",
    "theory_sgc_interp = scipy.interpolate.interp1d(theta_th, theory_sgc)\n",
    "theory_sgc_interp = theory_sgc_interp(meanr)\n",
    "\n",
    "nzs_ratio = theory_sgc_interp/theory_interp\n",
    "\n",
    "\n",
    "meanr_sgc, xi_sgc, xi_err_sgc = np.loadtxt('../data_txt//acf_auto_cmass_sgc_sys_cp_nz_weight_nbins10_jk100.txt',unpack=True)\n",
    "cov_cmass_s = np.genfromtxt('../data_txt//acf_auto_cmass_sgc_sys_cp_nz_weight_nbins10_jk100.cov')\n",
    "\n",
    "\n",
    "\n",
    "\n",
    "fig, ax = plt.subplots(figsize = (13, 10))\n",
    "\n",
    "\n",
    "for i in range(1,101):\n",
    "    try:\n",
    "        meanr, xi, xi_err = np.loadtxt('../data_txt/mocks/acf_auto_poisson_mock_galaxy_DR12_CMASS_S_QPM_{:04}.txt'.format(i), unpack=True)\n",
    "        ax.plot(meanr, xi, color='grey', alpha = 0.05)\n",
    "    \n",
    "    except (IOError, ValueError): pass\n",
    "    \n",
    "ax.errorbar(meanr, xi_list_mean, yerr = xi_list_sigma, fmt = '-', color='b', label='cmass mock')\n",
    "#ax.errorbar(meanr2, xi2, yerr = xi_err2, fmt = '-', color='r', label='dmass vetoed')\n",
    "ax.errorbar(meanr3, xi3, yerr = xi_err3, fmt = '-', color='g', label='cmass sgc')\n",
    "ax.errorbar(meanr_sgc, xi_sgc, yerr = xi_err_sgc, fmt = 'k-', color='r', label='cmass sgc')\n",
    "\n",
    "ax.plot(theta_th, theory, '-', color='grey', label='theory')\n",
    "ax.plot(theta_th, theory_sgc, '--', color='grey', label='theory sgc')\n",
    "#ax.plot(theta_th, theta_th*theory_bias, '--', color='green', label='theory bias')\n",
    "\n",
    "ax.set_xscale('log')\n",
    "ax.set_yscale('log')\n",
    "ax.legend(loc = 'best', fontsize = 12)\n",
    "#ax.text(1.5, 0.07, r'$\\chi^2 $ = {:0.3f}  (south)'.format(chisqr), fontsize = 12)\n",
    "ax.set_ylim(1e-4,1)\n",
    "ax.set_xlim(2.5/60, 250./60)\n",
    "ax.set_xlabel(r'$\\theta$ (deg)', fontsize = 15)\n",
    "ax.set_ylabel(r'$\\omega(\\theta)$', fontsize = 15)\n"
   ]
  },
  {
   "cell_type": "code",
   "execution_count": 98,
   "metadata": {},
   "outputs": [],
   "source": []
  },
  {
   "cell_type": "code",
   "execution_count": 99,
   "metadata": {},
   "outputs": [],
   "source": []
  },
  {
   "cell_type": "code",
   "execution_count": 21,
   "metadata": {},
   "outputs": [],
   "source": []
  },
  {
   "cell_type": "code",
   "execution_count": 22,
   "metadata": {},
   "outputs": [
    {
     "data": {
      "text/plain": [
       "array([0.00580633, 0.00446376, 0.00351645, 0.00276759, 0.00223925,\n",
       "       0.00199084, 0.00193024, 0.00166533, 0.00153357, 0.00128082])"
      ]
     },
     "execution_count": 22,
     "metadata": {},
     "output_type": "execute_result"
    }
   ],
   "source": [
    "xi_list_sigma"
   ]
  },
  {
   "cell_type": "code",
   "execution_count": 23,
   "metadata": {},
   "outputs": [
    {
     "data": {
      "text/plain": [
       "<matplotlib.text.Text at 0x7f2779bc85d0>"
      ]
     },
     "execution_count": 23,
     "metadata": {},
     "output_type": "execute_result"
    },
    {
     "data": {
      "image/png": "[encoded data removed]",
      "text/plain": [
       "<matplotlib.figure.Figure at 0x7f2780df8190>"
      ]
     },
     "metadata": {
      "needs_background": "light"
     },
     "output_type": "display_data"
    }
   ],
   "source": [
    "import scipy\n",
    "\n",
    "rootdir = '../output/sfd_train_photo_SamPle_nozband_ran10_3_full_tol1e5/'\n",
    "\n",
    "theta_th, theory = np.loadtxt('../data_txt/acf_cmass_ngc_theory.txt', unpack=True)\n",
    "theta_th, theory_sgc = np.loadtxt('../data_txt/acf_cmass_sgc_theory.txt', unpack=True)\n",
    "\n",
    "#_, theory_bias = np.loadtxt('../data_txt/acf_cmass_sgc_theory_bias.txt', unpack=True)\n",
    "#meanr, xi, xi_err = np.loadtxt(rootdir+'/act//acf_auto_gold_st82_nbins10_jk100.txt', unpack=True)\n",
    "#meanr, xi, xi_err = np.loadtxt(rootdir+'/act//acf_auto_dmass_weight0_pcut01_nbins10_jk100.txt', unpack=True)\n",
    "meanr2, xi2, xi_err2 = np.loadtxt(rootdir+'/act//acf_auto_dmass_veto_pcut01_nbins10_jk100.txt', unpack=True)\n",
    "meanr3, xi3, xi_err3 = np.loadtxt('../data_txt/mocks//acf_auto_poisson_DR12v5_CMASS_South.txt', unpack=True)\n",
    "\n",
    "#\n",
    "meanr, xi, xi_err = np.loadtxt('../data_txt/mocks//acf_auto_poisson_Patchy-Mocks-DR12CMASS-S-V6C-Portsmouth-mass_0001.txt', unpack=True)\n",
    "\n",
    "theory_interp = scipy.interpolate.interp1d(theta_th, theory)\n",
    "theory_interp = theory_interp(meanr)\n",
    "theory_sgc_interp = scipy.interpolate.interp1d(theta_th, theory_sgc)\n",
    "theory_sgc_interp = theory_sgc_interp(meanr)\n",
    "\n",
    "nzs_ratio = theory_sgc_interp/theory_interp\n",
    "\n",
    "\n",
    "meanr_sgc, xi_sgc, xi_err_sgc = np.loadtxt('../data_txt//acf_auto_cmass_sgc_sys_cp_nz_weight_nbins10_jk100.txt',unpack=True)\n",
    "cov_cmass_s = np.genfromtxt('../data_txt//acf_auto_cmass_sgc_sys_cp_nz_weight_nbins10_jk100.cov')\n",
    "\n",
    "\n",
    "\n",
    "\n",
    "fig, ax = plt.subplots(figsize = (13, 10))\n",
    "\n",
    "ax.errorbar(meanr, xi_list_mean, yerr = xi_list_sigma, fmt = '-', color='r', alpha = 0.5)\n",
    "ax.errorbar(meanr2, xi2, yerr = xi_err2, fmt = '-', color='b', label='dmass vetoed')\n",
    "ax.errorbar(meanr3, xi3, yerr = xi_err3, fmt = '-', color='g', label='dmass all weight')\n",
    "ax.errorbar(meanr_sgc, xi_sgc, yerr = xi_err_sgc, fmt = 'k.', color='r', label='cmass sgc')\n",
    "\n",
    "ax.plot(theta_th, theory, '-', color='grey', label='theory')\n",
    "ax.plot(theta_th, theory_sgc, '--', color='grey', label='theory sgc')\n",
    "#ax.plot(theta_th, theta_th*theory_bias, '--', color='green', label='theory bias')\n",
    "\n",
    "ax.set_xscale('log')\n",
    "ax.set_yscale('log')\n",
    "ax.legend(loc = 'best', fontsize = 12)\n",
    "#ax.text(1.5, 0.07, r'$\\chi^2 $ = {:0.3f}  (south)'.format(chisqr), fontsize = 12)\n",
    "#ax.set_ylim(1e-4,1)\n",
    "ax.set_xlim(2.5/60, 250./60)\n",
    "ax.set_xlabel(r'$\\theta$ (deg)', fontsize = 15)\n",
    "ax.set_ylabel(r'$\\omega(\\theta)$', fontsize = 15)\n",
    "\n"
   ]
  },
  {
   "cell_type": "code",
   "execution_count": null,
   "metadata": {},
   "outputs": [],
   "source": []
  }
 ],
 "metadata": {
  "kernelspec": {
   "display_name": "Python 2",
   "language": "python",
   "name": "python2"
  },
  "language_info": {
   "codemirror_mode": {
    "name": "ipython",
    "version": 2
   },
   "file_extension": ".py",
   "mimetype": "text/x-python",
   "name": "python",
   "nbconvert_exporter": "python",
   "pygments_lexer": "ipython2",
   "version": "2.7.5"
  }
 },
 "nbformat": 4,
 "nbformat_minor": 2
}
