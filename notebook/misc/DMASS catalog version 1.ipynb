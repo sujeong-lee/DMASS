{
 "cells": [
  {
   "cell_type": "code",
   "execution_count": 1,
   "metadata": {},
   "outputs": [],
   "source": [
    "import sys\n",
    "sys.path.append('../')\n",
    "from xd import *\n",
    "from utils import *\n",
    "import esutil\n",
    "import healpy as hp\n",
    "from systematics import *\n",
    "from systematics_module import *\n",
    "\n",
    "%matplotlib inline\n",
    "\n",
    "%load_ext autoreload\n",
    "%autoreload 2"
   ]
  },
  {
   "cell_type": "markdown",
   "metadata": {},
   "source": [
    "## systematic test "
   ]
  },
  {
   "cell_type": "code",
   "execution_count": 2,
   "metadata": {
    "scrolled": true
   },
   "outputs": [],
   "source": [
    "import numpy as np"
   ]
  },
  {
   "cell_type": "code",
   "execution_count": 3,
   "metadata": {},
   "outputs": [],
   "source": [
    "from run_systematics import sys_iteration, fitting_SP, sys_ngal, weightmultiply, fitting_allSP, calling_sysMap, maskingCatalogSP"
   ]
  },
  {
   "cell_type": "code",
   "execution_count": 4,
   "metadata": {},
   "outputs": [
    {
     "data": {
      "text/plain": [
       "256"
      ]
     },
     "execution_count": 4,
     "metadata": {},
     "output_type": "execute_result"
    }
   ],
   "source": [
    "rootdir = '../output/sfd_train_photo_SamPle_nozband_ran10_3_full_tol1e5/'\n",
    "inputdir = rootdir\n",
    "basedir = inputdir+'/act/'\n",
    "figoutdir = inputdir+'/figure/'\n",
    "sysoutdir = inputdir+'/sys/'\n",
    "wdir = sysoutdir+'/weights/'\n",
    "os.system('mkdir '+inputdir)\n",
    "os.system('mkdir '+figoutdir)\n",
    "os.system('mkdir '+sysoutdir)\n",
    "os.system('mkdir '+wdir)\n",
    "#os.system('cp ../data_txt/systematics/4th/systematic*_no_weight.txt '+inputdir+'/.')"
   ]
  },
  {
   "cell_type": "code",
   "execution_count": 5,
   "metadata": {},
   "outputs": [],
   "source": [
    "# calling map \n",
    "GoldMask = callingEliGoldMask()\n",
    "#GoldMask_st82 = Cuts.SpatialCuts(GoldMask, ra=320, ra2=360, dec=-2, dec2=2)\n",
    "GoldMask_st82 = GoldMask[ GoldMask['DEC'] > -3.0 ]\n",
    "GoldMask_spt = GoldMask[ GoldMask['DEC'] < -3.0 ]\n",
    "#GoldMask_spt = cutcat20(GoldMask_spt)\n",
    "#GoldMask_spt = Cuts.SpatialCuts(GoldMask_spt, ra=0, ra2 = 100, dec=-52, dec2 = -48)\n",
    "\n",
    "pixarea = hp.nside2pixarea( 4096, degrees = True)\n",
    "sptnpix = GoldMask_spt['PIXEL'].size #hp.get_map_size( GoldMask_spt['PIXEL'] )\n",
    "st82npix =  GoldMask_st82['PIXEL'].size # hp.get_map_size( GoldMask_st82 )\n",
    "SPTMaparea = pixarea * sptnpix\n",
    "ST82Maparea = pixarea * st82npix"
   ]
  },
  {
   "cell_type": "code",
   "execution_count": 68,
   "metadata": {},
   "outputs": [
    {
     "name": "stdout",
     "output_type": "stream",
     "text": [
      "\n",
      "--------------------------------\n",
      " calling catalog\n",
      "--------------------------------\n",
      "dmass_spt_sys_v2.fits\n",
      "dmass sample size : 120874.72753482158\n",
      "\n",
      "--------------------------------\n",
      " calling catalog\n",
      "--------------------------------\n",
      "gold_st82_prob.fits\n",
      "cmass sample size : 12639\n"
     ]
    }
   ],
   "source": [
    "# import DMASS\n",
    "\n",
    "#dmass = fitsio.read(rootdir+'spt.fits')\n",
    "dmass = io.SearchAndCallFits(path = rootdir, keyword='dmass_spt_sys_v2.fits')\n",
    "#dmass = dmass[dmass['EachProb_CMASS'] > 0.00]\n",
    "#dmass = appendColumn(cat = dmass, name='WEIGHT', value=dmass['CMASS_PROB'])\n",
    "print 'dmass sample size :', np.sum(dmass['CMASS_PROB'])\n",
    "\n",
    "\n",
    "#dmass = cutcat20(dmass)\n",
    "#dmass_st82 = fitsio.read(rootdir+'dmass_st82_0004.fits')\n",
    "dmass_st82 = io.SearchAndCallFits(path = rootdir, keyword='gold_st82_prob')\n",
    "#dmass_st82 = dmass_st82[dmass_st82['CMASS_PROB'] > 0.00]\n",
    "dmass_st82 = appendColumn(cat = dmass_st82, name='WEIGHT', value=dmass_st82['EachProb_CMASS'])\n",
    "\n",
    "\n",
    "cmass = fitsio.read(rootdir+'train_sample_des.fits')\n",
    "\n",
    "\n",
    "#print 'dmass st82 sample size :', np.sum(dmass_st82['CMASS_PROB'])\n",
    "print 'cmass sample size :', cmass.size\n",
    "\n",
    "\n",
    "#dmass = appendColumn(cat = dmass, name='CMASS_PROB', value=dmass['EachProb_CMASS'])\n",
    "#dmass_st82 = appendColumn(cat = dmass_st82, name='WEIGHT', value=dmass_st82['EachProb_CMASS'])\n",
    "#print np.sum(dmass['EachProb_CMASS']), np.sum(dmass_st82['EachProb_CMASS'])"
   ]
  },
  {
   "cell_type": "code",
   "execution_count": 28,
   "metadata": {},
   "outputs": [
    {
     "name": "stdout",
     "output_type": "stream",
     "text": [
      "42592 21420908 6777228\n"
     ]
    }
   ],
   "source": [
    "\n",
    "random = uniform_random_on_sphere(GoldMask, size = dmass.size/10)\n",
    "random = Cuts.keepGoodRegion(random)\n",
    "#rand = Cuts.keepY1GoldRegion(rand)\n",
    "rand = random[ random['DEC'] < -3.0 ]\n",
    "rand_st82 = random[ random['DEC'] > -3.0 ]\n",
    "#rand2 = cutcat20(rand2)\n",
    "\n",
    "\n",
    "random = uniform_random_on_sphere(GoldMask, size = 50*dmass.size)\n",
    "random = Cuts.keepGoodRegion(random)\n",
    "#rand = Cuts.keepY1GoldRegion(rand)\n",
    "rand2 = random[ random['DEC'] < -3.0 ]\n",
    "rand_st82_2 = random[ random['DEC'] > -3.0 ]\n",
    "#rand2 = cutcat20(rand2)\n",
    "\n",
    "print rand.size, rand2.size, dmass.size\n",
    "#rand_train = uniform_random_on_sphere(clean_cmass_data_des, size = 10 * clean_cmass_data_des.size)\n",
    "#rand_train = Cuts.keepGoodRegion(rand_train)\n",
    "random = None"
   ]
  },
  {
   "cell_type": "code",
   "execution_count": 29,
   "metadata": {},
   "outputs": [
    {
     "name": "stdout",
     "output_type": "stream",
     "text": [
      "21420908 20990512\n",
      "mask  0.9799076677795358\n"
     ]
    }
   ],
   "source": [
    "rand2_masked = maskingCatalogSP(catalog=rand2, sysMap=sysMap, maskonly=False )"
   ]
  },
  {
   "cell_type": "code",
   "execution_count": 27,
   "metadata": {},
   "outputs": [
    {
     "name": "stdout",
     "output_type": "stream",
     "text": [
      "42630 8564689 6777228 8392218\n"
     ]
    }
   ],
   "source": [
    "print rand.size, rand2.size, dmass.size, rand2_masked.size"
   ]
  },
  {
   "cell_type": "code",
   "execution_count": 69,
   "metadata": {},
   "outputs": [
    {
     "name": "stdout",
     "output_type": "stream",
     "text": [
      "['vetoed', 'fwhm_r', 'airmass_z', 'exptime_g', 'fwhm_i', 'airmass_g', 'fwhm_g']\n",
      "['vetoed', 'fwhm_g', 'airmass_z', 'fwhm_r', 'fwhm_i', 'airmass_g', 'exptime_g']\n",
      "vetoed\n",
      "fwhm_g\n",
      "airmass_z\n",
      "fwhm_r\n",
      "fwhm_i\n",
      "airmass_g\n",
      "exptime_g\n"
     ]
    }
   ],
   "source": [
    "suf = 'wg_fwhm_r_airmass_z_exptime_g_fwhm_i_airmass_g_fwhm_g'\n",
    "orderlabel = suf.split('_')[1:]\n",
    "order = []\n",
    "for i in np.arange(0, len(orderlabel), 2):\n",
    "    order.append( orderlabel[i]+'_'+orderlabel[i+1] )\n",
    "order = ['vetoed'] + order\n",
    "print order\n",
    "\n",
    "weightDic_re = {}\n",
    "#weightDic_re['vetoed'] = np.ones(dmass.size)  # dmass['EachProb_CMASS']\n",
    "#hpmask= maskingCatalogSP(catalog=dmass, sysMap=sysMap, maskonly=True )\n",
    "#weightDic_re['vetoed'][~hpmask] = 0\n",
    "#fitsio.write(sysoutdir+'weights/wg_vetoed_SPT.fits', weightDic_re['vetoed'], clobber=True)\n",
    "for o in order : \n",
    "    weightDic_re[o] = fitsio.read(sysoutdir+'weights/wg_'+o+'_SPT.fits')\n",
    "all_weight = weightmultiply(weightDic_re)"
   ]
  },
  {
   "cell_type": "code",
   "execution_count": 114,
   "metadata": {
    "collapsed": true
   },
   "outputs": [
    {
     "ename": "ValueError",
     "evalue": "field 'CMASS_PROB' occurs more than once",
     "output_type": "error",
     "traceback": [
      "\u001b[0;31m---------------------------------------------------------------------------\u001b[0m",
      "\u001b[0;31mValueError\u001b[0m                                Traceback (most recent call last)",
      "\u001b[0;32m<ipython-input-114-7dc13d5bf78b>\u001b[0m in \u001b[0;36m<module>\u001b[0;34m()\u001b[0m\n\u001b[1;32m      1\u001b[0m \u001b[0mdmass\u001b[0m \u001b[0;34m=\u001b[0m \u001b[0mappendColumn\u001b[0m\u001b[0;34m(\u001b[0m\u001b[0mcat\u001b[0m \u001b[0;34m=\u001b[0m \u001b[0mdmass\u001b[0m\u001b[0;34m,\u001b[0m \u001b[0mname\u001b[0m\u001b[0;34m=\u001b[0m\u001b[0;34m'VETO'\u001b[0m\u001b[0;34m,\u001b[0m \u001b[0mvalue\u001b[0m\u001b[0;34m=\u001b[0m\u001b[0mweightDic_re\u001b[0m\u001b[0;34m[\u001b[0m\u001b[0;34m'vetoed'\u001b[0m\u001b[0;34m]\u001b[0m\u001b[0;34m)\u001b[0m\u001b[0;34m\u001b[0m\u001b[0m\n\u001b[1;32m      2\u001b[0m \u001b[0mdmass\u001b[0m \u001b[0;34m=\u001b[0m \u001b[0mappendColumn\u001b[0m\u001b[0;34m(\u001b[0m\u001b[0mcat\u001b[0m \u001b[0;34m=\u001b[0m \u001b[0mdmass\u001b[0m\u001b[0;34m,\u001b[0m \u001b[0mname\u001b[0m\u001b[0;34m=\u001b[0m\u001b[0;34m'WEIGHT_SYS'\u001b[0m\u001b[0;34m,\u001b[0m \u001b[0mvalue\u001b[0m\u001b[0;34m=\u001b[0m\u001b[0mall_weight\u001b[0m\u001b[0;34m)\u001b[0m\u001b[0;34m\u001b[0m\u001b[0m\n\u001b[0;32m----> 3\u001b[0;31m \u001b[0mdmass\u001b[0m \u001b[0;34m=\u001b[0m \u001b[0mappendColumn\u001b[0m\u001b[0;34m(\u001b[0m\u001b[0mcat\u001b[0m \u001b[0;34m=\u001b[0m \u001b[0mdmass\u001b[0m\u001b[0;34m,\u001b[0m \u001b[0mname\u001b[0m\u001b[0;34m=\u001b[0m\u001b[0;34m'CMASS_PROB'\u001b[0m\u001b[0;34m,\u001b[0m \u001b[0mvalue\u001b[0m\u001b[0;34m=\u001b[0m\u001b[0mdmass\u001b[0m\u001b[0;34m[\u001b[0m\u001b[0;34m'EachProb_CMASS'\u001b[0m\u001b[0;34m]\u001b[0m\u001b[0;34m)\u001b[0m\u001b[0;34m\u001b[0m\u001b[0m\n\u001b[0m",
      "\u001b[0;32m/n/des/lee.5922/Dropbox/repositories/CMASS/code/utils.pyc\u001b[0m in \u001b[0;36mappendColumn\u001b[0;34m(cat, name, value, dtypes)\u001b[0m\n\u001b[1;32m    388\u001b[0m \u001b[0;32mdef\u001b[0m \u001b[0mappendColumn\u001b[0m\u001b[0;34m(\u001b[0m\u001b[0mcat\u001b[0m\u001b[0;34m,\u001b[0m \u001b[0mname\u001b[0m \u001b[0;34m=\u001b[0m \u001b[0mNone\u001b[0m\u001b[0;34m,\u001b[0m \u001b[0mvalue\u001b[0m \u001b[0;34m=\u001b[0m \u001b[0mNone\u001b[0m\u001b[0;34m,\u001b[0m \u001b[0mdtypes\u001b[0m\u001b[0;34m=\u001b[0m\u001b[0mNone\u001b[0m\u001b[0;34m)\u001b[0m\u001b[0;34m:\u001b[0m\u001b[0;34m\u001b[0m\u001b[0m\n\u001b[1;32m    389\u001b[0m     \u001b[0;32mimport\u001b[0m \u001b[0mnumpy\u001b[0m\u001b[0;34m.\u001b[0m\u001b[0mlib\u001b[0m\u001b[0;34m.\u001b[0m\u001b[0mrecfunctions\u001b[0m \u001b[0;32mas\u001b[0m \u001b[0mrf\u001b[0m\u001b[0;34m\u001b[0m\u001b[0m\n\u001b[0;32m--> 390\u001b[0;31m     \u001b[0mcat\u001b[0m \u001b[0;34m=\u001b[0m \u001b[0mrf\u001b[0m\u001b[0;34m.\u001b[0m\u001b[0mappend_fields\u001b[0m\u001b[0;34m(\u001b[0m\u001b[0mcat\u001b[0m\u001b[0;34m,\u001b[0m \u001b[0mname\u001b[0m\u001b[0;34m,\u001b[0m \u001b[0mvalue\u001b[0m\u001b[0;34m,\u001b[0m \u001b[0mdtypes\u001b[0m\u001b[0;34m=\u001b[0m\u001b[0mdtypes\u001b[0m\u001b[0;34m)\u001b[0m\u001b[0;34m\u001b[0m\u001b[0m\n\u001b[0m\u001b[1;32m    391\u001b[0m     \u001b[0;32mreturn\u001b[0m \u001b[0mcat\u001b[0m\u001b[0;34m\u001b[0m\u001b[0m\n\u001b[1;32m    392\u001b[0m \u001b[0;34m\u001b[0m\u001b[0m\n",
      "\u001b[0;32m/n/home00/lee.5922/.local/lib/python2.7/site-packages/numpy/lib/recfunctions.pyc\u001b[0m in \u001b[0;36mappend_fields\u001b[0;34m(base, names, data, dtypes, fill_value, usemask, asrecarray)\u001b[0m\n\u001b[1;32m    692\u001b[0m     output = ma.masked_all(\n\u001b[1;32m    693\u001b[0m         \u001b[0mmax\u001b[0m\u001b[0;34m(\u001b[0m\u001b[0mlen\u001b[0m\u001b[0;34m(\u001b[0m\u001b[0mbase\u001b[0m\u001b[0;34m)\u001b[0m\u001b[0;34m,\u001b[0m \u001b[0mlen\u001b[0m\u001b[0;34m(\u001b[0m\u001b[0mdata\u001b[0m\u001b[0;34m)\u001b[0m\u001b[0;34m)\u001b[0m\u001b[0;34m,\u001b[0m\u001b[0;34m\u001b[0m\u001b[0m\n\u001b[0;32m--> 694\u001b[0;31m         dtype=get_fieldspec(base.dtype) + get_fieldspec(data.dtype))\n\u001b[0m\u001b[1;32m    695\u001b[0m     \u001b[0moutput\u001b[0m \u001b[0;34m=\u001b[0m \u001b[0mrecursive_fill_fields\u001b[0m\u001b[0;34m(\u001b[0m\u001b[0mbase\u001b[0m\u001b[0;34m,\u001b[0m \u001b[0moutput\u001b[0m\u001b[0;34m)\u001b[0m\u001b[0;34m\u001b[0m\u001b[0m\n\u001b[1;32m    696\u001b[0m     \u001b[0moutput\u001b[0m \u001b[0;34m=\u001b[0m \u001b[0mrecursive_fill_fields\u001b[0m\u001b[0;34m(\u001b[0m\u001b[0mdata\u001b[0m\u001b[0;34m,\u001b[0m \u001b[0moutput\u001b[0m\u001b[0;34m)\u001b[0m\u001b[0;34m\u001b[0m\u001b[0m\n",
      "\u001b[0;32m/n/home00/lee.5922/.local/lib/python2.7/site-packages/numpy/ma/extras.pyc\u001b[0m in \u001b[0;36mmasked_all\u001b[0;34m(shape, dtype)\u001b[0m\n\u001b[1;32m    153\u001b[0m \u001b[0;34m\u001b[0m\u001b[0m\n\u001b[1;32m    154\u001b[0m     \"\"\"\n\u001b[0;32m--> 155\u001b[0;31m     a = masked_array(np.empty(shape, dtype),\n\u001b[0m\u001b[1;32m    156\u001b[0m                      mask=np.ones(shape, make_mask_descr(dtype)))\n\u001b[1;32m    157\u001b[0m     \u001b[0;32mreturn\u001b[0m \u001b[0ma\u001b[0m\u001b[0;34m\u001b[0m\u001b[0m\n",
      "\u001b[0;31mValueError\u001b[0m: field 'CMASS_PROB' occurs more than once"
     ]
    }
   ],
   "source": [
    "#dmass = appendColumn(cat = dmass, name='VETO', value=weightDic_re['vetoed'])\n",
    "#dmass = appendColumn(cat = dmass, name='WEIGHT_SYS', value=all_weight)\n",
    "#dmass = appendColumn(cat = dmass, name='CMASS_PROB', value=dmass['EachProb_CMASS'])"
   ]
  },
  {
   "cell_type": "code",
   "execution_count": 70,
   "metadata": {},
   "outputs": [],
   "source": [
    "dmass = appendColumn(cat = dmass, name='WEIGHT0_fwhm_r', value=weightDic_re['fwhm_r'])\n",
    "dmass = appendColumn(cat = dmass, name='WEIGHT1_airmass_z', value=weightDic_re['airmass_z'])\n",
    "dmass = appendColumn(cat = dmass, name='WEIGHT2_exptime_g', value=weightDic_re['exptime_g'])\n",
    "dmass = appendColumn(cat = dmass, name='WEIGHT3_fwhm_i', value=weightDic_re['fwhm_i'])\n",
    "dmass = appendColumn(cat = dmass, name='WEIGHT4_airmass_g', value=weightDic_re['airmass_g'])\n",
    "dmass = appendColumn(cat = dmass, name='WEIGHT5_fwhm_g', value=weightDic_re['fwhm_g'])\n"
   ]
  },
  {
   "cell_type": "code",
   "execution_count": 71,
   "metadata": {},
   "outputs": [],
   "source": [
    "fitsio.write( rootdir+'dmass_spt_sys_v3.fits', dmass, clobber=True )"
   ]
  },
  {
   "cell_type": "code",
   "execution_count": null,
   "metadata": {},
   "outputs": [],
   "source": [
    "dmass.dtype.names"
   ]
  },
  {
   "cell_type": "code",
   "execution_count": 31,
   "metadata": {},
   "outputs": [
    {
     "name": "stdout",
     "output_type": "stream",
     "text": [
      "6777228 6641688\n",
      "mask  0.9800006728414626\n"
     ]
    }
   ],
   "source": [
    "dmass_masked = maskingCatalogSP(catalog=dmass, sysMap=sysMap, maskonly=False )\n",
    "dmass_masked = dmass_masked[dmass_masked['CMASS_PROB'] > 0.01 ]"
   ]
  },
  {
   "cell_type": "code",
   "execution_count": 32,
   "metadata": {},
   "outputs": [],
   "source": [
    "fitsio.write( rootdir+'dmass_spt_sys_v2_masked_pcut01.fits', dmass_masked, clobber=True )"
   ]
  },
  {
   "cell_type": "code",
   "execution_count": 30,
   "metadata": {},
   "outputs": [
    {
     "name": "stdout",
     "output_type": "stream",
     "text": [
      "21420908 20990512\n",
      "mask  0.9799076677795358\n"
     ]
    }
   ],
   "source": [
    "rand2_masked = maskingCatalogSP(catalog=rand2, sysMap=sysMap, maskonly=False )\n",
    "fitsio.write( rootdir+'random_x50_dmass_spt_masked.fits', rand2_masked, clobber=True )"
   ]
  },
  {
   "cell_type": "code",
   "execution_count": null,
   "metadata": {},
   "outputs": [],
   "source": []
  },
  {
   "cell_type": "code",
   "execution_count": 28,
   "metadata": {},
   "outputs": [
    {
     "name": "stdout",
     "output_type": "stream",
     "text": [
      "writing output plot to: ../paper_figure//st82_diagnostic_histograms_1d.pdf\n"
     ]
    },
    {
     "data": {
      "image/png": "[encoded data removed]",
      "text/plain": [
       "<matplotlib.figure.Figure at 0x7f2624c1f5d0>"
      ]
     },
     "metadata": {},
     "output_type": "display_data"
    }
   ],
   "source": [
    "labels = ['$mag~r$', '$mag~i$', '$g-r$', '$r-i$']#, 'i-z']\n",
    "ranges =  [[17,22], [17, 22], [-0.0,2], [-0.3,1.5]]#, [0.0,0.8]] \n",
    "\n",
    "X_train, Xcov_train = mixing_color(cmass, no_zband=False)\n",
    "X_test, Xcov_test = mixing_color(dmass_st82, no_zband=False)\n",
    "doVisualization_1d( X_train, X_test, labels = labels, ranges = ranges, weight=[None, dmass_st82['EachProb_CMASS']],\\\n",
    "                    name =['train','DMASS(S82)' ], nbins=100, prefix='st82_', outdir='../paper_figure/')"
   ]
  },
  {
   "cell_type": "code",
   "execution_count": 29,
   "metadata": {
    "scrolled": true
   },
   "outputs": [
    {
     "name": "stdout",
     "output_type": "stream",
     "text": [
      "writing output plot to: ../paper_figure//spt_diagnostic_histograms_1d.pdf\n"
     ]
    },
    {
     "data": {
      "image/png": "[encoded data removed]",
      "text/plain": [
       "<matplotlib.figure.Figure at 0x7f26341ed650>"
      ]
     },
     "metadata": {},
     "output_type": "display_data"
    }
   ],
   "source": [
    "labels = ['$mag~r$', '$mag~i$', '$g-r$', '$r-i$']#, 'i-z']\n",
    "ranges =  [[17,22], [17, 22], [-0.0,2], [-0.3,1.5]]#, [0.0,0.8]] \n",
    "\n",
    "X_train, Xcov_train = mixing_color(cmass, no_zband=False)\n",
    "X_test, Xcov_test = mixing_color(dmass, no_zband=False)\n",
    "doVisualization_1d( X_train, X_test, labels = labels, ranges = ranges,\n",
    "                    weight=[None, dmass['EachProb_CMASS']],\n",
    "                    name =['train','DMASS(SPT)' ], nbins=100, prefix='spt_', outdir='../paper_figure/')"
   ]
  },
  {
   "cell_type": "code",
   "execution_count": 15,
   "metadata": {},
   "outputs": [
    {
     "name": "stdout",
     "output_type": "stream",
     "text": [
      "\n",
      "PATH =  /n/des/lee.5922/data/systematic_maps/Y1A1NEW_COADD_SPT/nside4096_oversamp4/\n",
      "Y1A1NEW_COADD_SPT_band_g_nside4096_oversamp4_maglimit3__.fits.gz\n",
      "NSIDE = 4096\n",
      "ORDERING = RING in fits file\n",
      "INDXSCHM = EXPLICIT\n",
      "\n",
      "PATH =  /n/des/lee.5922/data/systematic_maps/Y1A1NEW_COADD_SPT/nside4096_oversamp4/\n",
      "Y1A1NEW_COADD_SPT_band_r_nside4096_oversamp4_maglimit3__.fits.gz\n",
      "NSIDE = 4096\n",
      "ORDERING = RING in fits file\n",
      "INDXSCHM = EXPLICIT\n",
      "\n",
      "PATH =  /n/des/lee.5922/data/systematic_maps/Y1A1NEW_COADD_SPT/nside4096_oversamp4/\n",
      "Y1A1NEW_COADD_SPT_band_i_nside4096_oversamp4_maglimit3__.fits.gz\n",
      "NSIDE = 4096\n",
      "ORDERING = RING in fits file\n",
      "INDXSCHM = EXPLICIT\n",
      "\n",
      "PATH =  /n/des/lee.5922/data/systematic_maps/Y1A1NEW_COADD_SPT/nside4096_oversamp4/\n",
      "Y1A1NEW_COADD_SPT_band_z_nside4096_oversamp4_maglimit3__.fits.gz\n",
      "NSIDE = 4096\n",
      "ORDERING = RING in fits file\n",
      "INDXSCHM = EXPLICIT\n",
      "\n",
      "PATH =  /n/des/lee.5922/data/systematic_maps/Y1A1NEW_COADD_SPT/nside4096_oversamp4/\n",
      "Y1A1NEW_COADD_SPT_band_g_nside4096_oversamp4_EXPTIME__total.fits.gz\n",
      "NSIDE = 4096\n",
      "ORDERING = RING in fits file\n",
      "INDXSCHM = EXPLICIT\n",
      "\n",
      "PATH =  /n/des/lee.5922/data/systematic_maps/Y1A1NEW_COADD_SPT/nside4096_oversamp4/\n",
      "Y1A1NEW_COADD_SPT_band_r_nside4096_oversamp4_EXPTIME__total.fits.gz\n",
      "NSIDE = 4096\n",
      "ORDERING = RING in fits file\n",
      "INDXSCHM = EXPLICIT\n",
      "\n",
      "PATH =  /n/des/lee.5922/data/systematic_maps/Y1A1NEW_COADD_SPT/nside4096_oversamp4/\n",
      "Y1A1NEW_COADD_SPT_band_i_nside4096_oversamp4_EXPTIME__total.fits.gz\n",
      "NSIDE = 4096\n",
      "ORDERING = RING in fits file\n",
      "INDXSCHM = EXPLICIT\n",
      "\n",
      "PATH =  /n/des/lee.5922/data/systematic_maps/Y1A1NEW_COADD_SPT/nside4096_oversamp4/\n",
      "Y1A1NEW_COADD_SPT_band_z_nside4096_oversamp4_EXPTIME__total.fits.gz\n",
      "NSIDE = 4096\n",
      "ORDERING = RING in fits file\n",
      "INDXSCHM = EXPLICIT\n",
      "\n",
      "PATH =  /n/des/lee.5922/data/systematic_maps/Y1A1NEW_COADD_SPT/nside4096_oversamp4/\n",
      "Y1A1NEW_COADD_SPT_band_g_nside4096_oversamp4_AIRMASS_coaddweights3_mean.fits.gz\n",
      "NSIDE = 4096\n",
      "ORDERING = RING in fits file\n",
      "INDXSCHM = EXPLICIT\n",
      "\n",
      "PATH =  /n/des/lee.5922/data/systematic_maps/Y1A1NEW_COADD_SPT/nside4096_oversamp4/\n",
      "Y1A1NEW_COADD_SPT_band_r_nside4096_oversamp4_AIRMASS_coaddweights3_mean.fits.gz\n",
      "NSIDE = 4096\n",
      "ORDERING = RING in fits file\n",
      "INDXSCHM = EXPLICIT\n",
      "\n",
      "PATH =  /n/des/lee.5922/data/systematic_maps/Y1A1NEW_COADD_SPT/nside4096_oversamp4/\n",
      "Y1A1NEW_COADD_SPT_band_i_nside4096_oversamp4_AIRMASS_coaddweights3_mean.fits.gz\n",
      "NSIDE = 4096\n",
      "ORDERING = RING in fits file\n",
      "INDXSCHM = EXPLICIT\n",
      "\n",
      "PATH =  /n/des/lee.5922/data/systematic_maps/Y1A1NEW_COADD_SPT/nside4096_oversamp4/\n",
      "Y1A1NEW_COADD_SPT_band_z_nside4096_oversamp4_AIRMASS_coaddweights3_mean.fits.gz\n",
      "NSIDE = 4096\n",
      "ORDERING = RING in fits file\n",
      "INDXSCHM = EXPLICIT\n",
      "\n",
      "PATH =  /n/des/lee.5922/data/systematic_maps/Y1A1NEW_COADD_SPT/nside4096_oversamp4/\n",
      "Y1A1NEW_COADD_SPT_band_g_nside4096_oversamp4_SKYBRITE_coaddweights3_mean.fits.gz\n",
      "NSIDE = 4096\n",
      "ORDERING = RING in fits file\n",
      "INDXSCHM = EXPLICIT\n",
      "\n",
      "PATH =  /n/des/lee.5922/data/systematic_maps/Y1A1NEW_COADD_SPT/nside4096_oversamp4/\n",
      "Y1A1NEW_COADD_SPT_band_r_nside4096_oversamp4_SKYBRITE_coaddweights3_mean.fits.gz\n",
      "NSIDE = 4096\n",
      "ORDERING = RING in fits file\n",
      "INDXSCHM = EXPLICIT\n",
      "\n",
      "PATH =  /n/des/lee.5922/data/systematic_maps/Y1A1NEW_COADD_SPT/nside4096_oversamp4/\n",
      "Y1A1NEW_COADD_SPT_band_i_nside4096_oversamp4_SKYBRITE_coaddweights3_mean.fits.gz\n",
      "NSIDE = 4096\n",
      "ORDERING = RING in fits file\n",
      "INDXSCHM = EXPLICIT\n",
      "\n",
      "PATH =  /n/des/lee.5922/data/systematic_maps/Y1A1NEW_COADD_SPT/nside4096_oversamp4/\n",
      "Y1A1NEW_COADD_SPT_band_z_nside4096_oversamp4_SKYBRITE_coaddweights3_mean.fits.gz\n",
      "NSIDE = 4096\n",
      "ORDERING = RING in fits file\n",
      "INDXSCHM = EXPLICIT\n",
      "\n",
      "PATH =  /n/des/lee.5922/data/systematic_maps/seeing_i_spt/\n",
      "Y1A1NEW_COADD_SPT_band_g_nside4096_oversamp4_FWHM_MEAN_coaddweights3_mean.fits.gz\n",
      "NSIDE = 4096\n",
      "ORDERING = RING in fits file\n",
      "INDXSCHM = EXPLICIT\n",
      "\n",
      "PATH =  /n/des/lee.5922/data/systematic_maps/seeing_i_spt/\n",
      "Y1A1NEW_COADD_SPT_band_r_nside4096_oversamp4_FWHM_MEAN_coaddweights3_mean.fits.gz\n",
      "NSIDE = 4096\n",
      "ORDERING = RING in fits file\n",
      "INDXSCHM = EXPLICIT\n",
      "\n",
      "PATH =  /n/des/lee.5922/data/systematic_maps/seeing_i_spt/\n",
      "Y1A1NEW_COADD_SPT_band_i_nside4096_oversamp4_FWHM_MEAN_coaddweights3_mean.fits.gz\n",
      "NSIDE = 4096\n",
      "ORDERING = RING in fits file\n",
      "INDXSCHM = EXPLICIT\n",
      "\n",
      "PATH =  /n/des/lee.5922/data/systematic_maps/seeing_i_spt/\n",
      "Y1A1NEW_COADD_SPT_band_z_nside4096_oversamp4_FWHM_MEAN_coaddweights3_mean.fits.gz\n",
      "NSIDE = 4096\n",
      "ORDERING = RING in fits file\n",
      "INDXSCHM = EXPLICIT\n"
     ]
    }
   ],
   "source": [
    "kind = 'SPT'\n",
    "FullArea = SPTMaparea\n",
    "#properties = ['DEPTH','EXPTIME']\n",
    "#properties = ['DEPTH', 'EXPTIME', 'AIRMASS', 'SKYBRITE', 'FWHM', 'NSTARS']\n",
    "properties = ['DEPTH', 'EXPTIME', 'AIRMASS', 'SKYBRITE', 'FWHM']\n",
    "#properties = ['GE', 'NSTARS_allband']\n",
    "#properties = ['FWHM']\n",
    "suffix='no_weight'\n",
    "# calculating galaxy density and weights iterately\n",
    "sysMap = calling_sysMap( properties=properties, kind='SPT', nside=4096 )"
   ]
  },
  {
   "cell_type": "code",
   "execution_count": 33,
   "metadata": {},
   "outputs": [
    {
     "name": "stdout",
     "output_type": "stream",
     "text": [
      "6153627 6030163\n",
      "mask  0.9799363854845281\n",
      "6153627 6030163\n"
     ]
    }
   ],
   "source": [
    "GoldMask_spt_sys = maskingCatalogSP(catalog=GoldMask_spt, sysMap=sysMap)\n",
    "print GoldMask_spt.size, GoldMask_spt_sys.size"
   ]
  },
  {
   "cell_type": "code",
   "execution_count": 34,
   "metadata": {},
   "outputs": [],
   "source": [
    "fitsio.write(rootdir + 'mask_dmass.fits', GoldMask_spt, clobber=True )\n",
    "fitsio.write(rootdir + 'mask_dmass_sys.fits', GoldMask_spt_sys, clobber=True)"
   ]
  },
  {
   "cell_type": "code",
   "execution_count": null,
   "metadata": {},
   "outputs": [],
   "source": []
  }
 ],
 "metadata": {
  "kernelspec": {
   "display_name": "Python 2",
   "language": "python",
   "name": "python2"
  },
  "language_info": {
   "codemirror_mode": {
    "name": "ipython",
    "version": 2
   },
   "file_extension": ".py",
   "mimetype": "text/x-python",
   "name": "python",
   "nbconvert_exporter": "python",
   "pygments_lexer": "ipython2",
   "version": "2.7.14"
  }
 },
 "nbformat": 4,
 "nbformat_minor": 1
}
