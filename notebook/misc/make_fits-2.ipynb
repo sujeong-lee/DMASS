{
 "cells": [
  {
   "cell_type": "code",
   "execution_count": 1,
   "metadata": {},
   "outputs": [],
   "source": [
    "import numpy as np\n",
    "import matplotlib.pyplot as plt\n",
    "import os, sys\n",
    "%matplotlib inline\n",
    "from scipy.interpolate import interp1d \n",
    "#import fitsio, esutil\n",
    "import scipy\n",
    "#sys.path.append('../cosmolike_planck_working/')\n",
    "\n",
    "%load_ext autoreload\n",
    "%autoreload 2\n",
    "\n",
    "HF = lambda Nr,Nbin: (Nr-Nbin-2) *1./(Nr-1)"
   ]
  },
  {
   "cell_type": "markdown",
   "metadata": {},
   "source": [
    "# UPDATE CMBLENSING FITS"
   ]
  },
  {
   "cell_type": "code",
   "execution_count": 82,
   "metadata": {},
   "outputs": [],
   "source": [
    "def make_fits_cmblensing(filename_data = None, original_fits = None, output_fits = None):\n",
    "    \n",
    "    _, measurement_cmbkappa_xi = np.genfromtxt(filename_data, unpack=True)\n",
    "    \n",
    "    from astropy.io import fits\n",
    "    \n",
    "    fitsfile = fits.open(original_fits)\n",
    "    fitsfile['galaxy_cmbkappa_xi'].data['VALUE'] = measurement_cmbkappa_xi\n",
    "    fitsfile.writeto(output_fits, clobber=True)\n",
    "    \n",
    "    print 'outputfits save to ', output_fits    "
   ]
  },
  {
   "cell_type": "code",
   "execution_count": 73,
   "metadata": {},
   "outputs": [],
   "source": [
    "cmblensing_dir = '../output/cmblensing/'\n",
    "HFactor158 = 1.0\n",
    "\n",
    "rmin_cmb_sgc, kappa_cmb_sgc = np.genfromtxt(cmblensing_dir + 'w_cmass_south_x_cmblensing.txt', unpack=True)\n",
    "rmin_cmb_ngc, kappa_cmb_ngc = np.genfromtxt(cmblensing_dir + 'w_cmass_north_x_cmblensing.txt', unpack=True)\n",
    "rmin_cmb_full, kappa_cmb_full, err_cmb_full = np.genfromtxt(cmblensing_dir + 'w_cmass_tot_x_cmblensing.txt', unpack=True)\n",
    "rmin_cmb_dmass, kappa_cmb_dmass = np.genfromtxt(cmblensing_dir + 're/out_DMASS_nosysweight_mean.out', unpack=True)\n",
    "rmin_cmb_dmass_sys, kappa_cmb_dmass_sys = np.genfromtxt(cmblensing_dir + 're/out_DMASS_withsysweight_mean.out', unpack=True)\n"
   ]
  },
  {
   "cell_type": "code",
   "execution_count": 83,
   "metadata": {},
   "outputs": [
    {
     "name": "stdout",
     "output_type": "stream",
     "text": [
      "outputfits save to  /n/des/lee.5922/programs/cosmolike/cosmosis/output_cmblensing_cmass/measurement_cmblensing_cmass_sgc_lrange8_2048_fwhm1p71.fits\n"
     ]
    }
   ],
   "source": [
    "filename_data_sgc = cmblensing_dir +'w_cmass_south_x_cmblensing.txt'\n",
    "output_fits_sgc = '/n/des/lee.5922/programs/cosmolike/cosmosis/output_cmblensing_cmass/measurement_cmblensing_cmass_sgc_lrange8_2048_fwhm1p71.fits'\n",
    "original_fits_sgc = '/n/des/lee.5922/programs/cosmolike/cosmosis/output_cmblensing_cmass/cmblensing_cmass_sgc_lrange8_2048_fwhm1p71.fits'\n",
    "\n",
    "make_fits_cmblensing(filename_data =filename_data_sgc , original_fits = original_fits_sgc ,output_fits = output_fits_sgc)\n"
   ]
  },
  {
   "cell_type": "code",
   "execution_count": 84,
   "metadata": {},
   "outputs": [
    {
     "name": "stdout",
     "output_type": "stream",
     "text": [
      "outputfits save to  /n/des/lee.5922/programs/cosmolike/cosmosis/output_cmblensing_cmass/measurement_cmblensing_cmass_ngc_lrange8_2048_fwhm1p71.fits\n"
     ]
    }
   ],
   "source": [
    "filename_data_ngc = cmblensing_dir +'w_cmass_north_x_cmblensing.txt'\n",
    "output_fits_ngc = '/n/des/lee.5922/programs/cosmolike/cosmosis/output_cmblensing_cmass/measurement_cmblensing_cmass_ngc_lrange8_2048_fwhm1p71.fits'\n",
    "original_fits_ngc = '/n/des/lee.5922/programs/cosmolike/cosmosis/output_cmblensing_cmass/cmblensing_cmass_ngc_lrange8_2048_fwhm1p71.fits'\n",
    "    \n",
    "make_fits_cmblensing(filename_data =filename_data_ngc , original_fits = original_fits_ngc ,output_fits = output_fits_ngc)\n"
   ]
  },
  {
   "cell_type": "code",
   "execution_count": 85,
   "metadata": {},
   "outputs": [
    {
     "name": "stdout",
     "output_type": "stream",
     "text": [
      "outputfits save to  /n/des/lee.5922/programs/cosmolike/cosmosis/output_cmblensing_cmass/measurement_cmblensing_dmass_lrange8_2048_fwhm1p71.fits\n"
     ]
    }
   ],
   "source": [
    "filename_data_dmass = cmblensing_dir +'re/out_DMASS_nosysweight_mean.out'\n",
    "output_fits_dmass = '/n/des/lee.5922/programs/cosmolike/cosmosis/output_cmblensing_cmass/measurement_cmblensing_dmass_lrange8_2048_fwhm1p71.fits'\n",
    "original_fits_dmass = '/n/des/lee.5922/programs/cosmolike/cosmosis/output_cmblensing_cmass/cmblensing_dmass_lrange8_2048_fwhm1p71.fits'\n",
    "\n",
    "make_fits_cmblensing(filename_data =filename_data_dmass , original_fits = original_fits_dmass, output_fits = output_fits_dmass)"
   ]
  },
  {
   "cell_type": "code",
   "execution_count": 86,
   "metadata": {},
   "outputs": [
    {
     "name": "stdout",
     "output_type": "stream",
     "text": [
      "outputfits save to  /n/des/lee.5922/programs/cosmolike/cosmosis/output_cmblensing_cmass/measurement_cmblensing_dmass_sysweight_lrange8_2048_fwhm1p71.fits\n"
     ]
    }
   ],
   "source": [
    "filename_data_dmass_sys = cmblensing_dir +'re/out_DMASS_withsysweight_mean.out'\n",
    "output_fits_dmass_sys = '/n/des/lee.5922/programs/cosmolike/cosmosis/output_cmblensing_cmass/measurement_cmblensing_dmass_sysweight_lrange8_2048_fwhm1p71.fits'\n",
    "original_fits_dmass_sys = '/n/des/lee.5922/programs/cosmolike/cosmosis/output_cmblensing_cmass/cmblensing_dmass_lrange8_2048_fwhm1p71.fits'\n",
    "\n",
    "make_fits_cmblensing(filename_data =filename_data_dmass_sys , original_fits = original_fits_dmass_sys, output_fits = output_fits_dmass_sys)"
   ]
  },
  {
   "cell_type": "code",
   "execution_count": null,
   "metadata": {},
   "outputs": [],
   "source": []
  },
  {
   "cell_type": "code",
   "execution_count": null,
   "metadata": {},
   "outputs": [],
   "source": []
  },
  {
   "cell_type": "markdown",
   "metadata": {},
   "source": [
    "# MAKE WTHETA FITS"
   ]
  },
  {
   "cell_type": "code",
   "execution_count": 24,
   "metadata": {},
   "outputs": [
    {
     "name": "stdout",
     "output_type": "stream",
     "text": [
      "reading 1/2 /n/des/lee.5922/data/cmass_cat/galaxy_DR12v5_CMASS_North.fits.gz\n",
      "reading 2/2 /n/des/lee.5922/data/cmass_cat/galaxy_DR12v5_CMASS_South.fits.gz\n"
     ]
    }
   ],
   "source": [
    "cmass_spec = esutil.io.read(['/n/des/lee.5922/data/cmass_cat/galaxy_DR12v5_CMASS_North.fits.gz',\n",
    "                          '/n/des/lee.5922/data/cmass_cat/galaxy_DR12v5_CMASS_South.fits.gz'\n",
    "                         ], combine=True)\n",
    "zbins = np.linspace(0.0, 4.0, 401)\n",
    "Nz_cmass,_ = np.histogram( cmass_spec['Z'], bins= zbins, normed=True)\n",
    "\n",
    "DAT = np.column_stack((zbins[:-1], Nz_cmass))\n",
    "np.savetxt('/n/des/lee.5922/programs/cosmolike/cosmosis/dmass_cat/cmass_full.nz',DAT, header='zbin_low, Nz')"
   ]
  },
  {
   "cell_type": "code",
   "execution_count": 119,
   "metadata": {},
   "outputs": [
    {
     "name": "stdout",
     "output_type": "stream",
     "text": [
      "fits saved to  /n/des/lee.5922/programs/cosmolike/cosmosis/dmass_cat//fits/datav_cov_dmass_spt_real.fits\n"
     ]
    }
   ],
   "source": [
    "#theta, corrdata, correrr = np.loadtxt('../data_txt//acf_auto_cmass_sgc_sys_cp_nz_weight_nbins10_jk100.txt', unpack=True)\n",
    "#output files \n",
    "root_dir = '/n/des/lee.5922/programs/cosmolike/cosmosis/dmass_cat/'\n",
    "nzdist_filename = root_dir + './cmass_sgc.nz_2'\n",
    "twopt_dat = '../output/sfd_train_photo_SamPle_nozband_ran10_3_full_tol1e5//act/acf_auto_dmass_all_weight_pcut01_nbins10_jk100'\n",
    "cov_filename = twopt_dat+'.cov'\n",
    "twopt_filename = twopt_dat+'.txt'\n",
    "output_fitsname = root_dir +'/fits/datav_cov_dmass_spt_real.fits'\n",
    "\n",
    "Hfactor = HF(100,10)\n",
    "make_fits( rootdir = root_dir, \n",
    "             nzdist_filename = nzdist_filename,\n",
    "             twopt_filename = twopt_filename, \n",
    "             cov_filename = cov_filename, \n",
    "             output_fitsname=output_fitsname, Hartlap= Hfactor)"
   ]
  },
  {
   "cell_type": "code",
   "execution_count": 120,
   "metadata": {},
   "outputs": [
    {
     "name": "stdout",
     "output_type": "stream",
     "text": [
      "fits saved to  /n/des/lee.5922/programs/cosmolike/cosmosis/dmass_cat//fits/datav_cov_cmass_sgc_real.fits\n"
     ]
    }
   ],
   "source": [
    "root_dir = '/n/des/lee.5922/programs/cosmolike/cosmosis/dmass_cat/'\n",
    "nzdist_filename = root_dir + './cmass_sgc.nz_2'\n",
    "twopt_dat = '../data_txt//acf_auto_cmass_sgc_sys_cp_nz_weight_nbins10_jk100'\n",
    "cov_filename = twopt_dat+'.cov'\n",
    "twopt_filename = twopt_dat+'.txt'\n",
    "output_fitsname = root_dir +'/fits/datav_cov_cmass_sgc_real.fits'\n",
    "\n",
    "\n",
    "make_fits( rootdir = root_dir, \n",
    "             nzdist_filename = nzdist_filename,\n",
    "             twopt_filename = twopt_filename, \n",
    "             cov_filename = cov_filename, \n",
    "             output_fitsname=output_fitsname, Hartlap= Hfactor)"
   ]
  },
  {
   "cell_type": "code",
   "execution_count": 121,
   "metadata": {},
   "outputs": [
    {
     "name": "stdout",
     "output_type": "stream",
     "text": [
      "fits saved to  /n/des/lee.5922/programs/cosmolike/cosmosis/dmass_cat//fits/datav_cov_cmass_full_real.fits\n"
     ]
    }
   ],
   "source": [
    "root_dir = '/n/des/lee.5922/programs/cosmolike/cosmosis/dmass_cat/'\n",
    "nzdist_filename = root_dir + './cmass_full.nz'\n",
    "twopt_dat = '../data_txt//acf_auto_cmass_full_sys_cp_nz_weight_nbins10_jk100'\n",
    "cov_filename = twopt_dat+'.cov'\n",
    "twopt_filename = twopt_dat+'.txt'\n",
    "output_fitsname = root_dir +'/fits/datav_cov_cmass_full_real.fits'\n",
    "\n",
    "\n",
    "make_fits( rootdir = root_dir, \n",
    "             nzdist_filename = nzdist_filename,\n",
    "             twopt_filename = twopt_filename, \n",
    "             cov_filename = cov_filename, \n",
    "             output_fitsname=output_fitsname, Hartlap= Hfactor)"
   ]
  },
  {
   "cell_type": "code",
   "execution_count": 122,
   "metadata": {},
   "outputs": [
    {
     "name": "stdout",
     "output_type": "stream",
     "text": [
      "fits saved to  /n/des/lee.5922/programs/cosmolike/cosmosis/dmass_cat//fits/datav_cov_cmass_ngc_real.fits\n"
     ]
    }
   ],
   "source": [
    "root_dir = '/n/des/lee.5922/programs/cosmolike/cosmosis/dmass_cat/'\n",
    "nzdist_filename = root_dir + './cmass_ngc.nz_2'\n",
    "twopt_dat = '../data_txt//acf_auto_cmass_ngc_sys_cp_nz_weight_nbin10_jk100'\n",
    "cov_filename = twopt_dat+'.cov'\n",
    "twopt_filename = twopt_dat+'.txt'\n",
    "output_fitsname = root_dir +'/fits/datav_cov_cmass_ngc_real.fits'\n",
    "\n",
    "\n",
    "make_fits( rootdir = root_dir, \n",
    "             nzdist_filename = nzdist_filename,\n",
    "             twopt_filename = twopt_filename, \n",
    "             cov_filename = cov_filename, \n",
    "             output_fitsname=output_fitsname, Hartlap= Hfactor)"
   ]
  },
  {
   "cell_type": "code",
   "execution_count": 51,
   "metadata": {},
   "outputs": [
    {
     "name": "stdout",
     "output_type": "stream",
     "text": [
      "[-0.00395873  0.00017522 -0.00108839 -0.00225138  0.00023325  0.00074542\n",
      "  0.00032695  0.00187094  0.00063364 -0.00039429]\n",
      "fits saved to  /n/des/lee.5922/programs/cosmolike/cosmosis/dmass_cat//fits/datav_residual_auto_dmass_cmass_sgc_nbin10_jk100.fits\n"
     ]
    }
   ],
   "source": [
    "#Combining two\n",
    "\n",
    "\n",
    "root_dir = '/n/des/lee.5922/programs/cosmolike/cosmosis/dmass_cat/'\n",
    "nzdist_filename = root_dir + './cmass_sgc.nz_2'\n",
    "\n",
    "twopt_dat1 = '../output/sfd_train_photo_SamPle_nozband_ran10_3_full_tol1e5//act/acf_auto_dmass_all_weight_pcut01_nbins10_jk100'\n",
    "cov_filename1 = twopt_dat1+'.cov'\n",
    "twopt_filename1 = twopt_dat1+'.txt'\n",
    "\n",
    "twopt_dat2 = '../data_txt//acf_auto_cmass_sgc_sys_cp_nz_weight_nbins10_jk100'\n",
    "cov_filename2 = twopt_dat2+'.cov'\n",
    "twopt_filename2 = twopt_dat2+'.txt'\n",
    "\n",
    "cov = np.genfromtxt(cov_filename1) + np.genfromtxt(cov_filename2)\n",
    "bins = np.genfromtxt(twopt_filename2)[:,0]\n",
    "datav = np.genfromtxt(twopt_filename1)[:,1] - np.genfromtxt(twopt_filename2)[:,1]\n",
    "twopt_dat = root_dir+'residual_auto_dmass_cmass_sgc_nbin10_jk100'\n",
    "cov_filename = twopt_dat + '.cov'\n",
    "twopt_filename = twopt_dat + '.txt'\n",
    "\n",
    "np.savetxt(cov_filename, cov)\n",
    "np.savetxt(twopt_filename, np.column_stack((bins, datav, np.sqrt(cov.diagonal()))))\n",
    "\n",
    "output_fitsname = root_dir+'/fits/datav_residual_auto_dmass_cmass_sgc_nbin10_jk100.fits'\n",
    "\n",
    "Hfactor = HF(100,10)\n",
    "make_fits( rootdir = root_dir, \n",
    "             nzdist_filename = nzdist_filename,\n",
    "             twopt_filename = twopt_filename, \n",
    "             cov_filename = cov_filename, \n",
    "             output_fitsname=output_fitsname, Hartlap= Hfactor)"
   ]
  },
  {
   "cell_type": "code",
   "execution_count": 48,
   "metadata": {},
   "outputs": [
    {
     "name": "stdout",
     "output_type": "stream",
     "text": [
      "[-0.01613427 -0.00738069 -0.0090005  -0.00427666 -0.00252637 -0.00170858\n",
      "  0.00060801  0.00314079  0.00117703 -0.00064465]\n",
      "fits saved to  /n/des/lee.5922/programs/cosmolike/cosmosis/dmass_cat//fits/datav_residual_auto_dmass_cmass_full_nbin10_jk100.fits\n"
     ]
    }
   ],
   "source": [
    "#Combining two\n",
    "\n",
    "\n",
    "root_dir = '/n/des/lee.5922/programs/cosmolike/cosmosis/dmass_cat/'\n",
    "nzdist_filename = root_dir + './cmass_full.nz'\n",
    "\n",
    "twopt_dat1 = '../output/sfd_train_photo_SamPle_nozband_ran10_3_full_tol1e5//act/acf_auto_dmass_all_weight_pcut01_nbins10_jk100'\n",
    "cov_filename1 = twopt_dat1+'.cov'\n",
    "twopt_filename1 = twopt_dat1+'.txt'\n",
    "\n",
    "twopt_dat2 = '../data_txt//acf_auto_cmass_full_sys_cp_nz_weight_nbins10_jk100'\n",
    "cov_filename2 = twopt_dat2+'.cov'\n",
    "twopt_filename2 = twopt_dat2+'.txt'\n",
    "\n",
    "cov = np.genfromtxt(cov_filename1) + np.genfromtxt(cov_filename2)\n",
    "bins = np.genfromtxt(twopt_filename2)[:,0]\n",
    "datav = np.genfromtxt(twopt_filename1)[:,1] - np.genfromtxt(twopt_filename2)[:,1]\n",
    "twopt_dat = root_dir+'residual_auto_dmass_cmass_full_nbin10_jk100'\n",
    "cov_filename = twopt_dat + '.cov'\n",
    "twopt_filename = twopt_dat + '.txt'\n",
    "\n",
    "np.savetxt(cov_filename, cov)\n",
    "np.savetxt(twopt_filename, np.column_stack((bins, datav, np.sqrt(cov.diagonal()))))\n",
    "\n",
    "output_fitsname = root_dir+'/fits/datav_residual_auto_dmass_cmass_full_nbin10_jk100.fits'\n",
    "\n",
    "Hfactor = HF(100,10)\n",
    "make_fits( rootdir = root_dir, \n",
    "             nzdist_filename = nzdist_filename,\n",
    "             twopt_filename = twopt_filename, \n",
    "             cov_filename = cov_filename, \n",
    "             output_fitsname=output_fitsname, Hartlap= Hfactor)"
   ]
  },
  {
   "cell_type": "code",
   "execution_count": 18,
   "metadata": {},
   "outputs": [
    {
     "name": "stdout",
     "output_type": "stream",
     "text": [
      "(10, 10)\n"
     ]
    }
   ],
   "source": [
    "cov_mocks = np.genfromtxt('../data_txt/mocks/cov_mock_galaxy_DR12_CMASS_S_QPM_760.cov')\n",
    "#cov_mocks = np.genfromtxt('../data_txt/mocks/cov_mock_galaxy_DR12_CMASS_S_QPM_550_binslop05.cov')\n",
    "cov_mocks_ngc = np.genfromtxt('../data_txt/mocks/cov_mock_galaxy_DR12_CMASS_N_QPM_1000.cov')\n",
    "cov_rescaled_mocks = np.genfromtxt('../data_txt/cmass/cov_rescaled_mocks_NG.txt')\n",
    "cov_mocks_combined = np.genfromtxt('../data_txt/mocks/cov_mock_galaxy_DR12_CMASS_COMBINED_N_QPM_1000_S_QPM_760.cov')\n",
    "print cov_rescaled_mocks.shape\n",
    "\n",
    "cov_cmass_n = cov_mocks_ngc.copy() #np.genfromtxt('../data_txt//acf_auto_cmass_ngc_sys_cp_nz_weight_nbin10_jk100.cov')\n",
    "cov_cmass_s = cov_mocks.copy() #np.genfromtxt('../data_txt//acf_auto_cmass_sgc_sys_cp_nz_weight_nbins10_jk100.cov')\n",
    "cov_dmass = cov_rescaled_mocks.copy() #np.genfromtxt('../data_txt/acf_auto_dmass_spt_nbins10_jk100.cov')\n",
    "#cov_cmass_full = np.linalg.inv(np.linalg.inv( cov_cmass_s ) + np.linalg.inv( cov_cmass_s ))\n",
    "#np.savetxt('../data_txt/mocks/cov_mock_galaxy_DR12_CMASS_COMBINED_N_QPM_1000_S_QPM_760.cov', cov_cmass_full)\n",
    "cov_cmass_full = cov_mocks_combined.copy()\n",
    "\n",
    "#meanr_sgc, xi_sgc, _ = np.loadtxt('../data_txt//acf_auto_cmass_sgc_sys_cp_nz_weight_nbins10_jk100.txt',unpack=True)\n",
    "cmass_sgc_filename = '../data_txt/cmass/npairs_cmass_sgc_veto_bins10_binslop_05.txt'\n",
    "cmass_sgc_data = np.genfromtxt(cmass_sgc_filename)\n",
    "rnom_sgc, meanr_sgc, meanlogR_sgc, xi_sgc, _, DD_sgc, RR_sgc, DR_sgc, npairs_sgc = [cmass_sgc_data[:,i] for i in range(9)]\n",
    "\n",
    "#cov_cmass_s = cov_mocks.copy() #cov_an_cmass.copy()\n",
    "#xi_err_sgc = np.sqrt(cov_cmass_s.diagonal())\n",
    "\n",
    "cmass_ngc_filename = '../data_txt/cmass/npairs_cmass_ngc_bins10_binslop_05.txt'\n",
    "cmass_ngc_data1 = np.genfromtxt(cmass_ngc_filename)\n",
    "rnom_ngc, _, _, xi_ngc, sigma_xi_ngc1, DD_ngc, RR_ngc, DR_ngc, npairs_ngc = [cmass_ngc_data1[:,i] for i in range(9)]\n",
    "#cov_cmass_n = cov_mocks_ngc.copy() #np.genfromtxt('../data_txt//acf_auto_cmass_ngc_sys_cp_nz_weight_nbin10_jk100.cov')* 1./HFactor\n",
    "#xi_err_ngc = np.sqrt(cov_cmass_n.diagonal())\n",
    "\n",
    "DD_full = DD_sgc + DD_ngc\n",
    "DR_full = DR_sgc + DR_ngc\n",
    "RR_full = RR_sgc + RR_ngc\n",
    "\n",
    "#meanr_full = rnom_ngc.copy()\n",
    "xi_full = (DD_full - 2*DR_full + RR_full)*1./RR_full\n",
    "npairs_full = np.zeros(rnom_sgc.size)\n",
    "DAT = np.column_stack((rnom_sgc, meanr_sgc, meanlogR_sgc, xi_full, 1./RR_full, DD_full, RR_full, DR_full,npairs_full))\n",
    "#np.savetxt('../data_txt/cmass/npairs_cmass_combined_ngc_sgc_bins10_binslop_05.txt', DAT)\n",
    "rnom_full, _, _, xi_full, sigma_xi_full, DD_full, RR_full, DR_full, npairs_full = np.genfromtxt('../data_txt/cmass/npairs_cmass_combined_ngc_sgc_bins10_binslop_05.txt', unpack=True)\n",
    "#cov_cmass_full = np.linalg.inv(np.linalg.inv( cov_cmass_s ) + np.linalg.inv( cov_cmass_s ))\n",
    "#xi_err_full = np.sqrt(cov_cmass_full.diagonal())\n",
    "\n",
    "\n",
    "dmass_data_filename = '../data_txt/cmass/npairs_dmass_pcut_sysweight_bins10_binslop_05.txt'\n",
    "dmass_data = np.genfromtxt(dmass_data_filename)\n",
    "#rnom_dmass, _, _, xi_dmass, _, _, _, _, _ = [dmass_data[:,i] for i in range(9)]\n",
    "#cov_dmass = cov_rescaled_mocks.copy() #cov_an_dmass.copy()\n",
    "#xi_err_dmass = np.sqrt(cov_dmass.diagonal())"
   ]
  },
  {
   "cell_type": "code",
   "execution_count": 5,
   "metadata": {},
   "outputs": [
    {
     "name": "stdout",
     "output_type": "stream",
     "text": [
      "[ 2.9500e-03 -1.6400e-03  1.4780e-03  1.2190e-03 -1.3000e-03 -1.1720e-03\n",
      " -4.4300e-04 -1.7764e-03 -9.8970e-04 -8.7400e-05]\n",
      "fits saved to  /n/des/lee.5922/programs/cosmolike/cosmosis/dmass_cat//fits/datav_residual_auto_dmass_cmass_sgc_nbins10_covmocks.fits\n"
     ]
    }
   ],
   "source": [
    "#New mock cov\n",
    "\n",
    "\n",
    "root_dir = '/n/des/lee.5922/programs/cosmolike/cosmosis/dmass_cat/'\n",
    "nzdist_filename = root_dir + './cmass_sgc.nz_2'\n",
    "\n",
    "#twopt_dat1 = '../output/sfd_train_photo_SamPle_nozband_ran10_3_full_tol1e5//act/acf_auto_dmass_all_weight_pcut01_nbins10_jk100'\n",
    "cov_filename1 = '../data_txt/mocks/cov_mock_galaxy_DR12_CMASS_S_QPM_760.cov'\n",
    "twopt_filename1 = '../data_txt/cmass/npairs_cmass_sgc_bins10_binslop_05.txt'\n",
    "\n",
    "#twopt_dat2 = '../data_txt//acf_auto_cmass_sgc_sys_cp_nz_weight_nbins10_jk100'\n",
    "cov_filename2 = '../data_txt/cmass/cov_rescaled_mocks_NG.txt'\n",
    "twopt_filename2 =  '../data_txt/cmass/npairs_dmass_pcut_sysweight_bins10_binslop_05.txt'\n",
    "\n",
    "cov = np.genfromtxt(cov_filename1) + np.genfromtxt(cov_filename2)\n",
    "bins = np.genfromtxt(twopt_filename2)[:,1]\n",
    "datav = np.genfromtxt(twopt_filename1)[:,3] - np.genfromtxt(twopt_filename2)[:,3]\n",
    "twopt_dat = root_dir+'residual_auto_dmass_cmass_sgc_nbins10_covmocks'\n",
    "cov_filename = twopt_dat + '.cov'\n",
    "twopt_filename = twopt_dat + '.txt'\n",
    "\n",
    "np.savetxt(cov_filename, cov)\n",
    "np.savetxt(twopt_filename, np.column_stack((bins, datav, np.sqrt(cov.diagonal()))))\n",
    "\n",
    "output_fitsname = root_dir+'/fits/datav_residual_auto_dmass_cmass_sgc_nbins10_covmocks.fits'\n",
    "\n",
    "Hfactor = 1.0 #HF(100,10)\n",
    "make_fits( rootdir = root_dir, \n",
    "             nzdist_filename = nzdist_filename,\n",
    "             twopt_filename = twopt_filename, \n",
    "             cov_filename = cov_filename, \n",
    "             output_fitsname=output_fitsname, Hartlap= Hfactor)"
   ]
  },
  {
   "cell_type": "code",
   "execution_count": 6,
   "metadata": {},
   "outputs": [
    {
     "name": "stdout",
     "output_type": "stream",
     "text": [
      "[ 0.01653    0.01023    0.011319   0.006546   0.003693   0.000463\n",
      " -0.000912  -0.0024067 -0.001561   0.0003677]\n",
      "fits saved to  /n/des/lee.5922/programs/cosmolike/cosmosis/dmass_cat//fits/datav_residual_auto_dmass_cmass_ngc_nbins10_covmocks.fits\n"
     ]
    }
   ],
   "source": [
    "#New mock cov\n",
    "\n",
    "\n",
    "root_dir = '/n/des/lee.5922/programs/cosmolike/cosmosis/dmass_cat/'\n",
    "nzdist_filename = root_dir + './cmass_ngc.nz_2'\n",
    "\n",
    "#twopt_dat1 = '../output/sfd_train_photo_SamPle_nozband_ran10_3_full_tol1e5//act/acf_auto_dmass_all_weight_pcut01_nbins10_jk100'\n",
    "cov_filename1 = '../data_txt/mocks/cov_mock_galaxy_DR12_CMASS_N_QPM_1000.cov'\n",
    "twopt_filename1 = '../data_txt/cmass/npairs_cmass_ngc_bins10_binslop_05.txt'\n",
    "\n",
    "#twopt_dat2 = '../data_txt//acf_auto_cmass_sgc_sys_cp_nz_weight_nbins10_jk100'\n",
    "cov_filename2 = '../data_txt/cmass/cov_rescaled_mocks_NG.txt'\n",
    "twopt_filename2 =  '../data_txt/cmass/npairs_dmass_pcut_sysweight_bins10_binslop_05.txt'\n",
    "\n",
    "cov = np.genfromtxt(cov_filename1) + np.genfromtxt(cov_filename2)\n",
    "bins = np.genfromtxt(twopt_filename2)[:,1]\n",
    "datav = np.genfromtxt(twopt_filename1)[:,3] - np.genfromtxt(twopt_filename2)[:,3]\n",
    "twopt_dat = root_dir+'residual_auto_dmass_cmass_ngc_nbins10_covmocks'\n",
    "cov_filename = twopt_dat + '.cov'\n",
    "twopt_filename = twopt_dat + '.txt'\n",
    "\n",
    "np.savetxt(cov_filename, cov)\n",
    "np.savetxt(twopt_filename, np.column_stack((bins, datav, np.sqrt(cov.diagonal()))))\n",
    "\n",
    "output_fitsname = root_dir+'/fits/datav_residual_auto_dmass_cmass_ngc_nbins10_covmocks.fits'\n",
    "\n",
    "Hfactor = 1.0 #HF(100,10)\n",
    "make_fits( rootdir = root_dir, \n",
    "             nzdist_filename = nzdist_filename,\n",
    "             twopt_filename = twopt_filename, \n",
    "             cov_filename = cov_filename, \n",
    "             output_fitsname=output_fitsname, Hartlap= Hfactor)"
   ]
  },
  {
   "cell_type": "code",
   "execution_count": 7,
   "metadata": {},
   "outputs": [
    {
     "name": "stdout",
     "output_type": "stream",
     "text": [
      "[ 0.01277694  0.0069337   0.00897411  0.00510915  0.00254888  0.00014651\n",
      " -0.00072967 -0.00215836 -0.00142687  0.00028348]\n",
      "fits saved to  /n/des/lee.5922/programs/cosmolike/cosmosis/dmass_cat//fits/datav_residual_auto_dmass_cmass_full_nbins10_covmocks.fits\n"
     ]
    }
   ],
   "source": [
    "#New mock cov\n",
    "\n",
    "\n",
    "root_dir = '/n/des/lee.5922/programs/cosmolike/cosmosis/dmass_cat/'\n",
    "nzdist_filename = root_dir + './cmass_full.nz'\n",
    "\n",
    "#twopt_dat1 = '../output/sfd_train_photo_SamPle_nozband_ran10_3_full_tol1e5//act/acf_auto_dmass_all_weight_pcut01_nbins10_jk100'\n",
    "cov_filename1 = '../data_txt/mocks/cov_mock_galaxy_DR12_CMASS_COMBINED_N_QPM_1000_S_QPM_760.cov'\n",
    "twopt_filename1 = '../data_txt/cmass/npairs_cmass_combined_ngc_sgc_bins10_binslop_05.txt'\n",
    "\n",
    "#twopt_dat2 = '../data_txt//acf_auto_cmass_sgc_sys_cp_nz_weight_nbins10_jk100'\n",
    "cov_filename2 = '../data_txt/cmass/cov_rescaled_mocks_NG.txt'\n",
    "twopt_filename2 =  '../data_txt/cmass/npairs_dmass_pcut_sysweight_bins10_binslop_05.txt'\n",
    "\n",
    "cov = np.genfromtxt(cov_filename1) + np.genfromtxt(cov_filename2)\n",
    "bins = np.genfromtxt(twopt_filename2)[:,1]\n",
    "datav = np.genfromtxt(twopt_filename1)[:,3] - np.genfromtxt(twopt_filename2)[:,3]\n",
    "twopt_dat = root_dir+'residual_auto_dmass_cmass_full_nbins10_covmocks'\n",
    "cov_filename = twopt_dat + '.cov'\n",
    "twopt_filename = twopt_dat + '.txt'\n",
    "\n",
    "np.savetxt(cov_filename, cov)\n",
    "np.savetxt(twopt_filename, np.column_stack((bins, datav, np.sqrt(cov.diagonal()))))\n",
    "\n",
    "output_fitsname = root_dir+'/fits/datav_residual_auto_dmass_cmass_full_nbins10_covmocks.fits'\n",
    "\n",
    "Hfactor = 1.0 #HF(100,10)\n",
    "make_fits( rootdir = root_dir, \n",
    "             nzdist_filename = nzdist_filename,\n",
    "             twopt_filename = twopt_filename, \n",
    "             cov_filename = cov_filename, \n",
    "             output_fitsname=output_fitsname, Hartlap= Hfactor)"
   ]
  },
  {
   "cell_type": "code",
   "execution_count": 16,
   "metadata": {},
   "outputs": [],
   "source": [
    "Nthetabin = 10\n",
    "sys.path.append('/n/des/lee.5922/programs/cosmolike/MG_musigma/cosmolike_planck_working/')\n",
    "from su_utils import read_cov, imshowplot\n",
    "\n",
    "cov_an_cmass_sgc_filename = '/n/des/lee.5922/programs/cosmolike/lighthouse_cov/output_cmass_sgc/cov_mcal4_cmass_sgc_veto_10bins_NG_llll_cov_Ntheta10_Ntomo4_1'\n",
    "cov_an_cmass_sgc = read_cov( covfilename=cov_an_cmass_sgc_filename)[-10:, -10:]\n",
    "#np.savetxt('/n/des/lee.5922/programs/cosmolike/lighthouse_cov/output_cmass_sgc/cov_mcal4_cmass_sgc_veto_10bins_NG_reshape.cov', cov_an_cmass_sgc)\n",
    "\n",
    "cov_an_cmass_ngc_filename = '/n/des/lee.5922/programs/cosmolike/lighthouse_cov/output_cmass_sgc/cov_mcal4_cmass_ngc_veto_10bins_NG_llll_cov_Ntheta10_Ntomo4_1'\n",
    "cov_an_cmass_ngc = read_cov( covfilename=cov_an_cmass_ngc_filename)[-10:, -10:]\n",
    "#np.savetxt('/n/des/lee.5922/programs/cosmolike/lighthouse_cov/output_cmass_sgc/cov_mcal4_cmass_ngc_veto_10bins_NG_reshape.cov', cov_an_cmass_ngc)\n",
    "\n",
    "cov_an_dmass_filename = '/n/des/lee.5922/programs/cosmolike/lighthouse_cov/output_dmass/cov_mcal4_dmass_pcut_sysweight_10bins_NG_llll_cov_Ntheta10_Ntomo4_1'\n",
    "cov_an_dmass = read_cov( covfilename=cov_an_dmass_filename )[-Nthetabin:, -Nthetabin:]\n",
    "\n",
    "\n",
    "cov_an_dmass_no_veto_filename = '/n/des/lee.5922/programs/cosmolike/lighthouse_cov/output_dmass/cov_mcal4_dmass_pcut_no_veto_10bins_NG_llll_cov_Ntheta10_Ntomo4_1'\n",
    "cov_an_dmass_no_veto_NG = read_cov( covfilename=cov_an_dmass_no_veto_filename )[-10:, -10:]\n",
    "#np.savetxt('/n/des/lee.5922/programs/cosmolike/lighthouse_cov/output_dmass/cov_mcal4_dmass_pcut_no_veto_10bins_NG_reshape.cov', cov_an_dmass_no_veto_NG)\n",
    "\n",
    "cov_cmass_full = np.linalg.inv(np.linalg.inv( cov_an_cmass_sgc ) + np.linalg.inv( cov_an_cmass_ngc ))\n",
    "#cov_an_cmass_full_filename = '/n/des/lee.5922/programs/cosmolike/lighthouse_cov/output_cmass_sgc/cov_mcal4_cmass_full_veto_10bins_NG'\n",
    "#np.savetxt('/n/des/lee.5922/programs/cosmolike/lighthouse_cov/output_cmass_sgc/cov_mcal4_cmass_full_veto_10bins_NG_reshape.cov', cov_cmass_full)\n"
   ]
  },
  {
   "cell_type": "code",
   "execution_count": 13,
   "metadata": {},
   "outputs": [
    {
     "name": "stdout",
     "output_type": "stream",
     "text": [
      "[ 2.9500e-03 -1.6400e-03  1.4780e-03  1.2190e-03 -1.3000e-03 -1.1720e-03\n",
      " -4.4300e-04 -1.7764e-03 -9.8970e-04 -8.7400e-05]\n",
      "fits saved to  /n/des/lee.5922/programs/cosmolike/cosmosis/dmass_cat//fits/datav_residual_auto_dmass_cmass_sgc_nbins10_covanalytic.fits\n"
     ]
    }
   ],
   "source": [
    "#New analhtic cov\n",
    "\n",
    "\n",
    "root_dir = '/n/des/lee.5922/programs/cosmolike/cosmosis/dmass_cat/'\n",
    "nzdist_filename = root_dir + './cmass_sgc.nz_2'\n",
    "\n",
    "#twopt_dat1 = '../output/sfd_train_photo_SamPle_nozband_ran10_3_full_tol1e5//act/acf_auto_dmass_all_weight_pcut01_nbins10_jk100'\n",
    "cov_filename1 = '/n/des/lee.5922/programs/cosmolike/lighthouse_cov/output_cmass_sgc/cov_mcal4_cmass_sgc_veto_10bins_NG_reshape.cov'\n",
    "twopt_filename1 = '../data_txt/cmass/npairs_cmass_sgc_bins10_binslop_05.txt'\n",
    "\n",
    "#twopt_dat2 = '../data_txt//acf_auto_cmass_sgc_sys_cp_nz_weight_nbins10_jk100'\n",
    "cov_filename2 = '/n/des/lee.5922/programs/cosmolike/lighthouse_cov/output_cmass_sgc/cov_mcal4_cmass_ngc_veto_10bins_NG_reshape.cov'\n",
    "twopt_filename2 = '../data_txt/cmass/npairs_dmass_pcut_sysweight_bins10_binslop_05.txt'\n",
    "\n",
    "cov = np.genfromtxt(cov_filename1) + np.genfromtxt(cov_filename2)\n",
    "bins = np.genfromtxt(twopt_filename2)[:,1]\n",
    "datav = np.genfromtxt(twopt_filename1)[:,3] - np.genfromtxt(twopt_filename2)[:,3]\n",
    "twopt_dat = root_dir+'residual_auto_dmass_cmass_sgc_nbins10_covanalytic'\n",
    "cov_filename = twopt_dat + '.cov'\n",
    "twopt_filename = twopt_dat + '.txt'\n",
    "\n",
    "np.savetxt(cov_filename, cov)\n",
    "np.savetxt(twopt_filename, np.column_stack((bins, datav, np.sqrt(cov.diagonal()))))\n",
    "\n",
    "output_fitsname = root_dir+'/fits/datav_residual_auto_dmass_cmass_sgc_nbins10_covanalytic.fits'\n",
    "\n",
    "Hfactor = 1.0 #HF(100,10)\n",
    "make_fits( rootdir = root_dir, \n",
    "             nzdist_filename = nzdist_filename,\n",
    "             twopt_filename = twopt_filename, \n",
    "             cov_filename = cov_filename, \n",
    "             output_fitsname=output_fitsname, Hartlap= Hfactor)"
   ]
  },
  {
   "cell_type": "code",
   "execution_count": 14,
   "metadata": {},
   "outputs": [
    {
     "name": "stdout",
     "output_type": "stream",
     "text": [
      "[ 0.01653    0.01023    0.011319   0.006546   0.003693   0.000463\n",
      " -0.000912  -0.0024067 -0.001561   0.0003677]\n",
      "fits saved to  /n/des/lee.5922/programs/cosmolike/cosmosis/dmass_cat//fits/datav_residual_auto_dmass_cmass_ngc_nbins10_covanalytic.fits\n"
     ]
    }
   ],
   "source": [
    "#New analytic cov\n",
    "\n",
    "\n",
    "root_dir = '/n/des/lee.5922/programs/cosmolike/cosmosis/dmass_cat/'\n",
    "nzdist_filename = root_dir + './cmass_ngc.nz_2'\n",
    "\n",
    "#twopt_dat1 = '../output/sfd_train_photo_SamPle_nozband_ran10_3_full_tol1e5//act/acf_auto_dmass_all_weight_pcut01_nbins10_jk100'\n",
    "cov_filename1 = '/n/des/lee.5922/programs/cosmolike/lighthouse_cov/output_cmass_sgc/cov_mcal4_cmass_ngc_veto_10bins_NG_reshape.cov'\n",
    "twopt_filename1 = '../data_txt/cmass/npairs_cmass_ngc_bins10_binslop_05.txt'\n",
    "\n",
    "#twopt_dat2 = '../data_txt//acf_auto_cmass_sgc_sys_cp_nz_weight_nbins10_jk100'\n",
    "cov_filename2 = '/n/des/lee.5922/programs/cosmolike/lighthouse_cov/output_cmass_sgc/cov_mcal4_cmass_ngc_veto_10bins_NG_reshape.cov'\n",
    "twopt_filename2 = '../data_txt/cmass/npairs_dmass_pcut_sysweight_bins10_binslop_05.txt'\n",
    "\n",
    "cov = np.genfromtxt(cov_filename1) + np.genfromtxt(cov_filename2)\n",
    "bins = np.genfromtxt(twopt_filename2)[:,1]\n",
    "datav = np.genfromtxt(twopt_filename1)[:,3] - np.genfromtxt(twopt_filename2)[:,3]\n",
    "twopt_dat = root_dir+'residual_auto_dmass_cmass_ngc_nbins10_covanalytic'\n",
    "cov_filename = twopt_dat + '.cov'\n",
    "twopt_filename = twopt_dat + '.txt'\n",
    "\n",
    "np.savetxt(cov_filename, cov)\n",
    "np.savetxt(twopt_filename, np.column_stack((bins, datav, np.sqrt(cov.diagonal()))))\n",
    "\n",
    "output_fitsname = root_dir+'/fits/datav_residual_auto_dmass_cmass_ngc_nbins10_covanalytic.fits'\n",
    "\n",
    "Hfactor = 1.0 #HF(100,10)\n",
    "make_fits( rootdir = root_dir, \n",
    "             nzdist_filename = nzdist_filename,\n",
    "             twopt_filename = twopt_filename, \n",
    "             cov_filename = cov_filename, \n",
    "             output_fitsname=output_fitsname, Hartlap= Hfactor)"
   ]
  },
  {
   "cell_type": "code",
   "execution_count": 15,
   "metadata": {},
   "outputs": [
    {
     "name": "stdout",
     "output_type": "stream",
     "text": [
      "[ 0.01277694  0.0069337   0.00897411  0.00510915  0.00254888  0.00014651\n",
      " -0.00072967 -0.00215836 -0.00142687  0.00028348]\n",
      "fits saved to  /n/des/lee.5922/programs/cosmolike/cosmosis/dmass_cat//fits/datav_residual_auto_dmass_cmass_full_nbins10_covanalytic.fits\n"
     ]
    }
   ],
   "source": [
    "#New analytic cov\n",
    "\n",
    "\n",
    "root_dir = '/n/des/lee.5922/programs/cosmolike/cosmosis/dmass_cat/'\n",
    "nzdist_filename = root_dir + './cmass_full.nz'\n",
    "\n",
    "#twopt_dat1 = '../output/sfd_train_photo_SamPle_nozband_ran10_3_full_tol1e5//act/acf_auto_dmass_all_weight_pcut01_nbins10_jk100'\n",
    "cov_filename1 = '/n/des/lee.5922/programs/cosmolike/lighthouse_cov/output_cmass_sgc/cov_mcal4_cmass_full_veto_10bins_NG_reshape.cov'\n",
    "twopt_filename1 = '../data_txt/cmass/npairs_cmass_combined_ngc_sgc_bins10_binslop_05.txt'\n",
    "\n",
    "#twopt_dat2 = '../data_txt//acf_auto_cmass_sgc_sys_cp_nz_weight_nbins10_jk100'\n",
    "cov_filename2 = '/n/des/lee.5922/programs/cosmolike/lighthouse_cov/output_cmass_sgc/cov_mcal4_cmass_ngc_veto_10bins_NG_reshape.cov'\n",
    "twopt_filename2 = '../data_txt/cmass/npairs_dmass_pcut_sysweight_bins10_binslop_05.txt'\n",
    "\n",
    "cov = np.genfromtxt(cov_filename1) + np.genfromtxt(cov_filename2)\n",
    "bins = np.genfromtxt(twopt_filename2)[:,1]\n",
    "datav = np.genfromtxt(twopt_filename1)[:,3] - np.genfromtxt(twopt_filename2)[:,3]\n",
    "twopt_dat = root_dir+'residual_auto_dmass_cmass_full_nbins10_covanalytic'\n",
    "cov_filename = twopt_dat + '.cov'\n",
    "twopt_filename = twopt_dat + '.txt'\n",
    "\n",
    "np.savetxt(cov_filename, cov)\n",
    "np.savetxt(twopt_filename, np.column_stack((bins, datav, np.sqrt(cov.diagonal()))))\n",
    "\n",
    "output_fitsname = root_dir+'/fits/datav_residual_auto_dmass_cmass_full_nbins10_covanalytic.fits'\n",
    "\n",
    "Hfactor = 1.0 #HF(100,10)\n",
    "make_fits( rootdir = root_dir, \n",
    "             nzdist_filename = nzdist_filename,\n",
    "             twopt_filename = twopt_filename, \n",
    "             cov_filename = cov_filename, \n",
    "             output_fitsname=output_fitsname, Hartlap= Hfactor)"
   ]
  },
  {
   "cell_type": "code",
   "execution_count": 17,
   "metadata": {},
   "outputs": [
    {
     "name": "stdout",
     "output_type": "stream",
     "text": [
      "[ 0.00372   -0.0038     0.000916   0.00088   -0.001788  -0.001469\n",
      " -0.00088   -0.0026226 -0.0019108 -0.0011553]\n",
      "fits saved to  /n/des/lee.5922/programs/cosmolike/cosmosis/dmass_cat//fits/datav_residual_auto_dmass_NOWEIGHT_cmass_sgc_nbins10_covanalytic.fits\n"
     ]
    }
   ],
   "source": [
    "#New analytic cov, DMASS no systematics \n",
    "\n",
    "\n",
    "root_dir = '/n/des/lee.5922/programs/cosmolike/cosmosis/dmass_cat/'\n",
    "nzdist_filename = root_dir + './cmass_sgc.nz_2'\n",
    "\n",
    "#twopt_dat1 = '../output/sfd_train_photo_SamPle_nozband_ran10_3_full_tol1e5//act/acf_auto_dmass_all_weight_pcut01_nbins10_jk100'\n",
    "cov_filename1 = '/n/des/lee.5922/programs/cosmolike/lighthouse_cov/output_cmass_sgc/cov_mcal4_cmass_sgc_veto_10bins_NG_reshape.cov'\n",
    "twopt_filename1 = '../data_txt/cmass/npairs_cmass_sgc_bins10_binslop_05.txt'\n",
    "\n",
    "cov_filename2 = '/n/des/lee.5922/programs/cosmolike/lighthouse_cov/output_dmass/\\\n",
    "cov_mcal4_dmass_pcut_no_veto_10bins_NG_reshape.cov'\n",
    "twopt_filename2 = '../output/sfd_train_photo_SamPle_nozband_ran10_3_full_tol1e5/\\\n",
    "act/acf_auto_poisson_DMASS_pcut_NOWEIGHT_10bins.npairs'\n",
    "\n",
    "\n",
    "cov = np.genfromtxt(cov_filename1) + np.genfromtxt(cov_filename2)\n",
    "bins = np.genfromtxt(twopt_filename2)[:,1]\n",
    "datav = np.genfromtxt(twopt_filename1)[:,3] - np.genfromtxt(twopt_filename2)[:,3]\n",
    "twopt_dat = root_dir+'residual_auto_dmass_NOWEIGHT_cmass_sgc_nbins10_covanalytic'\n",
    "cov_filename = twopt_dat + '.cov'\n",
    "twopt_filename = twopt_dat + '.txt'\n",
    "\n",
    "np.savetxt(cov_filename, cov)\n",
    "np.savetxt(twopt_filename, np.column_stack((bins, datav, np.sqrt(cov.diagonal()))))\n",
    "\n",
    "output_fitsname = root_dir+'/fits/datav_residual_auto_dmass_NOWEIGHT_cmass_sgc_nbins10_covanalytic.fits'\n",
    "\n",
    "Hfactor = 1.0 #HF(100,10)\n",
    "make_fits( rootdir = root_dir, \n",
    "             nzdist_filename = nzdist_filename,\n",
    "             twopt_filename = twopt_filename, \n",
    "             cov_filename = cov_filename, \n",
    "             output_fitsname=output_fitsname, Hartlap= Hfactor)"
   ]
  },
  {
   "cell_type": "code",
   "execution_count": 19,
   "metadata": {},
   "outputs": [
    {
     "name": "stdout",
     "output_type": "stream",
     "text": [
      "[ 0.0173     0.00807    0.010757   0.006207   0.003205   0.000166\n",
      " -0.001349  -0.0032529 -0.0024821 -0.0007002]\n",
      "fits saved to  /n/des/lee.5922/programs/cosmolike/cosmosis/dmass_cat//fits/datav_residual_auto_dmass_NOWEIGHT_cmass_ngc_nbins10_covanalytic.fits\n"
     ]
    }
   ],
   "source": [
    "#New analytic cov, DMASS no systematics \n",
    "\n",
    "\n",
    "root_dir = '/n/des/lee.5922/programs/cosmolike/cosmosis/dmass_cat/'\n",
    "nzdist_filename = root_dir + './cmass_ngc.nz_2'\n",
    "\n",
    "#twopt_dat1 = '../output/sfd_train_photo_SamPle_nozband_ran10_3_full_tol1e5//act/acf_auto_dmass_all_weight_pcut01_nbins10_jk100'\n",
    "cov_filename1 = '/n/des/lee.5922/programs/cosmolike/lighthouse_cov/output_cmass_sgc/cov_mcal4_cmass_ngc_veto_10bins_NG_reshape.cov'\n",
    "twopt_filename1 = '../data_txt/cmass/npairs_cmass_ngc_bins10_binslop_05.txt'\n",
    "\n",
    "#twopt_dat2 = '../data_txt//acf_auto_cmass_ngc_sys_cp_nz_weight_nbins10_jk100'\n",
    "#cov_filename2 = '/n/des/lee.5922/programs/cosmolike/lighthouse_cov/output_cmass_ngc/cov_mcal4_cmass_ngc_veto_10bins_NG_reshape.cov'\n",
    "#twopt_filename2 = '../data_txt/cmass/npairs_dmass_pcut_sysweight_bins10_binslop_05.txt'\n",
    "\n",
    "cov_filename2 = '/n/des/lee.5922/programs/cosmolike/lighthouse_cov/output_dmass/\\\n",
    "cov_mcal4_dmass_pcut_no_veto_10bins_NG_reshape.cov'\n",
    "twopt_filename2 = '../output/sfd_train_photo_SamPle_nozband_ran10_3_full_tol1e5/\\\n",
    "act/acf_auto_poisson_DMASS_pcut_NOWEIGHT_10bins.npairs'\n",
    "\n",
    "\n",
    "cov = np.genfromtxt(cov_filename1) + np.genfromtxt(cov_filename2)\n",
    "bins = np.genfromtxt(twopt_filename2)[:,1]\n",
    "datav = np.genfromtxt(twopt_filename1)[:,3] - np.genfromtxt(twopt_filename2)[:,3]\n",
    "twopt_dat = root_dir+'residual_auto_dmass_NOWEIGHT_cmass_ngc_nbins10_covanalytic'\n",
    "cov_filename = twopt_dat + '.cov'\n",
    "twopt_filename = twopt_dat + '.txt'\n",
    "\n",
    "np.savetxt(cov_filename, cov)\n",
    "np.savetxt(twopt_filename, np.column_stack((bins, datav, np.sqrt(cov.diagonal()))))\n",
    "\n",
    "output_fitsname = root_dir+'/fits/datav_residual_auto_dmass_NOWEIGHT_cmass_ngc_nbins10_covanalytic.fits'\n",
    "\n",
    "Hfactor = 1.0 #HF(100,10)\n",
    "make_fits( rootdir = root_dir, \n",
    "             nzdist_filename = nzdist_filename,\n",
    "             twopt_filename = twopt_filename, \n",
    "             cov_filename = cov_filename, \n",
    "             output_fitsname=output_fitsname, Hartlap= Hfactor)"
   ]
  },
  {
   "cell_type": "code",
   "execution_count": 20,
   "metadata": {},
   "outputs": [
    {
     "name": "stdout",
     "output_type": "stream",
     "text": [
      "[ 0.01354694  0.0047737   0.00841211  0.00477015  0.00206088 -0.00015049\n",
      " -0.00116667 -0.00300456 -0.00234797 -0.00078442]\n",
      "fits saved to  /n/des/lee.5922/programs/cosmolike/cosmosis/dmass_cat//fits/datav_residual_auto_dmass_NOWEIGHT_cmass_full_nbins10_covanalytic.fits\n"
     ]
    }
   ],
   "source": [
    "#New analytic cov, DMASS no systematics \n",
    "\n",
    "\n",
    "root_dir = '/n/des/lee.5922/programs/cosmolike/cosmosis/dmass_cat/'\n",
    "nzdist_filename = root_dir + './cmass_full.nz'\n",
    "\n",
    "cov_filename1 = '/n/des/lee.5922/programs/cosmolike/lighthouse_cov/output_cmass_sgc/cov_mcal4_cmass_full_veto_10bins_NG_reshape.cov'\n",
    "twopt_filename1 = '../data_txt/cmass/npairs_cmass_combined_ngc_sgc_bins10_binslop_05.txt'\n",
    "\n",
    "cov_filename2 = '/n/des/lee.5922/programs/cosmolike/lighthouse_cov/output_dmass/\\\n",
    "cov_mcal4_dmass_pcut_no_veto_10bins_NG_reshape.cov'\n",
    "twopt_filename2 = '../output/sfd_train_photo_SamPle_nozband_ran10_3_full_tol1e5/\\\n",
    "act/acf_auto_poisson_DMASS_pcut_NOWEIGHT_10bins.npairs'\n",
    "\n",
    "\n",
    "cov = np.genfromtxt(cov_filename1) + np.genfromtxt(cov_filename2)\n",
    "bins = np.genfromtxt(twopt_filename2)[:,1]\n",
    "datav = np.genfromtxt(twopt_filename1)[:,3] - np.genfromtxt(twopt_filename2)[:,3]\n",
    "twopt_dat = root_dir+'residual_auto_dmass_NOWEIGHT_cmass_full_nbins10_covanalytic'\n",
    "cov_filename = twopt_dat + '.cov'\n",
    "twopt_filename = twopt_dat + '.txt'\n",
    "\n",
    "np.savetxt(cov_filename, cov)\n",
    "np.savetxt(twopt_filename, np.column_stack((bins, datav, np.sqrt(cov.diagonal()))))\n",
    "\n",
    "output_fitsname = root_dir+'/fits/datav_residual_auto_dmass_NOWEIGHT_cmass_full_nbins10_covanalytic.fits'\n",
    "\n",
    "Hfactor = 1.0 #HF(100,10)\n",
    "make_fits( rootdir = root_dir, \n",
    "             nzdist_filename = nzdist_filename,\n",
    "             twopt_filename = twopt_filename, \n",
    "             cov_filename = cov_filename, \n",
    "             output_fitsname=output_fitsname, Hartlap= Hfactor)"
   ]
  },
  {
   "cell_type": "code",
   "execution_count": 121,
   "metadata": {},
   "outputs": [
    {
     "name": "stdout",
     "output_type": "stream",
     "text": [
      "[ 4.4500e-03 -2.8000e-03 -1.9800e-04 -7.0000e-06 -2.3160e-03 -1.9210e-03\n",
      " -1.2550e-03 -2.3466e-03 -1.4481e-03 -1.4260e-04]\n",
      "fits saved to  /n/des/lee.5922/programs/cosmolike/cosmosis/dmass_cat//fits/datav_residual_auto_dmass_sysweight_FRAC_cmass_sgc_nbins10_covmocks.fits\n"
     ]
    }
   ],
   "source": [
    "#New mock cov, DMASS no systematics \n",
    "\n",
    "\n",
    "root_dir = '/n/des/lee.5922/programs/cosmolike/cosmosis/dmass_cat/'\n",
    "nzdist_filename = root_dir + './cmass_sgc.nz_2'\n",
    "\n",
    "#twopt_dat1 = '../output/sfd_train_photo_SamPle_nozband_ran10_3_full_tol1e5//act/acf_auto_dmass_all_weight_pcut01_nbins10_jk100'\n",
    "cov_filename1 = '../data_txt/mocks/cov_mock_galaxy_DR12_CMASS_S_QPM_760.cov'\n",
    "twopt_filename1 = '../data_txt/cmass/npairs_cmass_sgc_bins10_binslop_05.txt'\n",
    "\n",
    "cov_filename2 = '../data_txt/cmass/cov_dmass_no_veto_rescaled_mocks_NG.txt'\n",
    "#twopt_filename2 = '../output/sfd_train_photo_SamPle_nozband_ran10_3_full_tol1e5/\\\n",
    "#act/acf_auto_poisson_DMASS_pcut_NOWEIGHT_10bins.npairs'\n",
    "twopt_filename2 = '../output/sfd_train_photo_SamPle_nozband_ran10_3_full_tol1e5/\\\n",
    "act/acf_auto_poisson_DMASS_pcut_sysweight_FRAC_10bins.npairs'\n",
    "\n",
    "cov = np.genfromtxt(cov_filename1) + np.genfromtxt(cov_filename2)\n",
    "bins = np.genfromtxt(twopt_filename2)[:,1]\n",
    "datav = np.genfromtxt(twopt_filename1)[:,3] - np.genfromtxt(twopt_filename2)[:,3]\n",
    "twopt_dat = root_dir+'residual_auto_dmass_sysweight_FRAC_cmass_sgc_nbins10_covmocks'\n",
    "cov_filename = twopt_dat + '.cov'\n",
    "twopt_filename = twopt_dat + '.txt'\n",
    "\n",
    "np.savetxt(cov_filename, cov)\n",
    "np.savetxt(twopt_filename, np.column_stack((bins, datav, np.sqrt(cov.diagonal()))))\n",
    "\n",
    "output_fitsname = root_dir+'/fits/datav_residual_auto_dmass_sysweight_FRAC_cmass_sgc_nbins10_covmocks.fits'\n",
    "\n",
    "Hfactor = 1.0 #HF(100,10)\n",
    "make_fits( rootdir = root_dir, \n",
    "             nzdist_filename = nzdist_filename,\n",
    "             twopt_filename = twopt_filename, \n",
    "             cov_filename = cov_filename, \n",
    "             output_fitsname=output_fitsname, Hartlap= Hfactor)"
   ]
  },
  {
   "cell_type": "code",
   "execution_count": 124,
   "metadata": {},
   "outputs": [
    {
     "name": "stdout",
     "output_type": "stream",
     "text": [
      "[ 0.01803    0.00907    0.009643   0.00532    0.002677  -0.000286\n",
      " -0.001724  -0.0029769 -0.0020194  0.0003125]\n",
      "fits saved to  /n/des/lee.5922/programs/cosmolike/cosmosis/dmass_cat//fits/datav_residual_auto_dmass_sysweight_FRAC_cmass_ngc_nbins10_covmocks.fits\n"
     ]
    }
   ],
   "source": [
    "#New mock cov, DMASS no systematics \n",
    "\n",
    "\n",
    "root_dir = '/n/des/lee.5922/programs/cosmolike/cosmosis/dmass_cat/'\n",
    "nzdist_filename = root_dir + './cmass_ngc.nz_2'\n",
    "\n",
    "#twopt_dat1 = '../output/sfd_train_photo_SamPle_nozband_ran10_3_full_tol1e5//act/acf_auto_dmass_all_weight_pcut01_nbins10_jk100'\n",
    "cov_filename1 = '../data_txt/mocks/cov_mock_galaxy_DR12_CMASS_N_QPM_1000.cov'\n",
    "twopt_filename1 = '../data_txt/cmass/npairs_cmass_ngc_bins10_binslop_05.txt'\n",
    "\n",
    "cov_filename2 = '../data_txt/cmass/cov_dmass_no_veto_rescaled_mocks_NG.txt'\n",
    "#twopt_filename2 = '../output/sfd_train_photo_SamPle_nozband_ran10_3_full_tol1e5/\\\n",
    "#act/acf_auto_poisson_DMASS_pcut_NOWEIGHT_10bins.npairs'\n",
    "twopt_filename2 = '../output/sfd_train_photo_SamPle_nozband_ran10_3_full_tol1e5/\\\n",
    "act/acf_auto_poisson_DMASS_pcut_sysweight_FRAC_10bins.npairs'\n",
    "\n",
    "\n",
    "cov = np.genfromtxt(cov_filename1) + np.genfromtxt(cov_filename2)\n",
    "bins = np.genfromtxt(twopt_filename2)[:,1]\n",
    "datav = np.genfromtxt(twopt_filename1)[:,3] - np.genfromtxt(twopt_filename2)[:,3]\n",
    "twopt_dat = root_dir+'residual_auto_dmass_sysweight_FRAC_cmass_ngc_nbins10_covmocks'\n",
    "cov_filename = twopt_dat + '.cov'\n",
    "twopt_filename = twopt_dat + '.txt'\n",
    "\n",
    "np.savetxt(cov_filename, cov)\n",
    "np.savetxt(twopt_filename, np.column_stack((bins, datav, np.sqrt(cov.diagonal()))))\n",
    "\n",
    "output_fitsname = root_dir+'/fits/datav_residual_auto_dmass_sysweight_FRAC_cmass_ngc_nbins10_covmocks.fits'\n",
    "\n",
    "Hfactor = 1.0 #HF(100,10)\n",
    "make_fits( rootdir = root_dir, \n",
    "             nzdist_filename = nzdist_filename,\n",
    "             twopt_filename = twopt_filename, \n",
    "             cov_filename = cov_filename, \n",
    "             output_fitsname=output_fitsname, Hartlap= Hfactor)"
   ]
  },
  {
   "cell_type": "code",
   "execution_count": 125,
   "metadata": {},
   "outputs": [
    {
     "name": "stdout",
     "output_type": "stream",
     "text": [
      "[ 0.01427694  0.0057737   0.00729811  0.00388315  0.00153288 -0.00060249\n",
      " -0.00154167 -0.00272856 -0.00188527  0.00022828]\n",
      "fits saved to  /n/des/lee.5922/programs/cosmolike/cosmosis/dmass_cat//fits/datav_residual_auto_dmass_sysweight_FRAC_cmass_full_nbins10_covmocks.fits\n"
     ]
    }
   ],
   "source": [
    "#New mock cov, DMASS no systematics \n",
    "\n",
    "\n",
    "root_dir = '/n/des/lee.5922/programs/cosmolike/cosmosis/dmass_cat/'\n",
    "nzdist_filename = root_dir + './cmass_full.nz'\n",
    "\n",
    "#twopt_dat1 = '../output/sfd_train_photo_SamPle_nozband_ran10_3_full_tol1e5//act/acf_auto_dmass_all_weight_pcut01_nbins10_jk100'\n",
    "cov_filename1 = '../data_txt/mocks/cov_mock_galaxy_DR12_CMASS_COMBINED_N_QPM_1000_S_QPM_760.cov'\n",
    "twopt_filename1 = '../data_txt/cmass/npairs_cmass_combined_ngc_sgc_bins10_binslop_05.txt'\n",
    "\n",
    "cov_filename2 = '../data_txt/cmass/cov_dmass_no_veto_rescaled_mocks_NG.txt'\n",
    "#twopt_filename2 = '../output/sfd_train_photo_SamPle_nozband_ran10_3_full_tol1e5/\\\n",
    "#act/acf_auto_poisson_DMASS_pcut_NOWEIGHT_10bins.npairs'\n",
    "twopt_filename2 = '../output/sfd_train_photo_SamPle_nozband_ran10_3_full_tol1e5/\\\n",
    "act/acf_auto_poisson_DMASS_pcut_sysweight_FRAC_10bins.npairs'\n",
    "\n",
    "\n",
    "cov = np.genfromtxt(cov_filename1) + np.genfromtxt(cov_filename2)\n",
    "bins = np.genfromtxt(twopt_filename2)[:,1]\n",
    "datav = np.genfromtxt(twopt_filename1)[:,3] - np.genfromtxt(twopt_filename2)[:,3]\n",
    "twopt_dat = root_dir+'residual_auto_dmass_sysweight_FRAC_cmass_full_nbins10_covmocks'\n",
    "cov_filename = twopt_dat + '.cov'\n",
    "twopt_filename = twopt_dat + '.txt'\n",
    "\n",
    "np.savetxt(cov_filename, cov)\n",
    "np.savetxt(twopt_filename, np.column_stack((bins, datav, np.sqrt(cov.diagonal()))))\n",
    "\n",
    "output_fitsname = root_dir+'/fits/datav_residual_auto_dmass_sysweight_FRAC_cmass_full_nbins10_covmocks.fits'\n",
    "\n",
    "Hfactor = 1.0 #HF(100,10)\n",
    "make_fits( rootdir = root_dir, \n",
    "             nzdist_filename = nzdist_filename,\n",
    "             twopt_filename = twopt_filename, \n",
    "             cov_filename = cov_filename, \n",
    "             output_fitsname=output_fitsname, Hartlap= Hfactor)"
   ]
  },
  {
   "cell_type": "code",
   "execution_count": 126,
   "metadata": {},
   "outputs": [
    {
     "name": "stdout",
     "output_type": "stream",
     "text": [
      "[ 0.01358    0.01187    0.009841   0.005327   0.004993   0.001635\n",
      " -0.000469  -0.0006303 -0.0005713  0.0004551]\n",
      "fits saved to  /n/des/lee.5922/programs/cosmolike/cosmosis/dmass_cat//fits/datav_residual_auto_cmass_ngc_cmass_sgc_nbins10_covmocks.fits\n"
     ]
    }
   ],
   "source": [
    "#New mock cov, NGC - SGC\n",
    "\n",
    "\n",
    "root_dir = '/n/des/lee.5922/programs/cosmolike/cosmosis/dmass_cat/'\n",
    "nzdist_filename = root_dir + './cmass_ngc.nz_2'\n",
    "\n",
    "#twopt_dat1 = '../output/sfd_train_photo_SamPle_nozband_ran10_3_full_tol1e5//act/acf_auto_dmass_all_weight_pcut01_nbins10_jk100'\n",
    "cov_filename1 = '../data_txt/mocks/cov_mock_galaxy_DR12_CMASS_N_QPM_1000.cov'\n",
    "twopt_filename1 = '../data_txt/cmass/npairs_cmass_ngc_bins10_binslop_05.txt'\n",
    "\n",
    "#twopt_dat1 = '../output/sfd_train_photo_SamPle_nozband_ran10_3_full_tol1e5//act/acf_auto_dmass_all_weight_pcut01_nbins10_jk100'\n",
    "cov_filename2 = '../data_txt/mocks/cov_mock_galaxy_DR12_CMASS_S_QPM_760.cov'\n",
    "twopt_filename2 = '../data_txt/cmass/npairs_cmass_sgc_bins10_binslop_05.txt'\n",
    "\n",
    "cov = np.genfromtxt(cov_filename1) + np.genfromtxt(cov_filename2)\n",
    "bins = np.genfromtxt(twopt_filename2)[:,1]\n",
    "datav = np.genfromtxt(twopt_filename1)[:,3] - np.genfromtxt(twopt_filename2)[:,3]\n",
    "twopt_dat = root_dir+'residual_auto_cmass_ngc_cmass_sgc_nbins10_covmocks'\n",
    "cov_filename = twopt_dat + '.cov'\n",
    "twopt_filename = twopt_dat + '.txt'\n",
    "\n",
    "np.savetxt(cov_filename, cov)\n",
    "np.savetxt(twopt_filename, np.column_stack((bins, datav, np.sqrt(cov.diagonal()))))\n",
    "\n",
    "output_fitsname = root_dir+'/fits/datav_residual_auto_cmass_ngc_cmass_sgc_nbins10_covmocks.fits'\n",
    "\n",
    "Hfactor = 1.0 #HF(100,10)\n",
    "make_fits( rootdir = root_dir, \n",
    "             nzdist_filename = nzdist_filename,\n",
    "             twopt_filename = twopt_filename, \n",
    "             cov_filename = cov_filename, \n",
    "             output_fitsname=output_fitsname, Hartlap= Hfactor)"
   ]
  },
  {
   "cell_type": "markdown",
   "metadata": {},
   "source": [
    "### Single Data Vector ( no residual )"
   ]
  },
  {
   "cell_type": "code",
   "execution_count": 29,
   "metadata": {},
   "outputs": [
    {
     "name": "stdout",
     "output_type": "stream",
     "text": [
      "[0.18766   0.13146   0.095129  0.068041  0.043851  0.027721  0.01634\n",
      " 0.0081724 0.0034332 0.001116 ]\n",
      "fits saved to  /n/des/lee.5922/programs/cosmolike/cosmosis/dmass_cat//fits/datav_auto_cmass_sgc_nbins10_covanalytic.fits\n",
      "[0.18766   0.13146   0.095129  0.068041  0.043851  0.027721  0.01634\n",
      " 0.0081724 0.0034332 0.001116 ]\n",
      "fits saved to  /n/des/lee.5922/programs/cosmolike/cosmosis/dmass_cat//fits/datav_auto_cmass_sgc_nbins10_covmocks.fits\n"
     ]
    }
   ],
   "source": [
    "#SGC\n",
    "\n",
    "\n",
    "root_dir = '/n/des/lee.5922/programs/cosmolike/cosmosis/dmass_cat/'\n",
    "nzdist_filename = root_dir + './cmass_sgc.nz_2'\n",
    "cov_filename = '/n/des/lee.5922/programs/cosmolike/lighthouse_cov/output_cmass_sgc/cov_mcal4_cmass_sgc_veto_10bins_NG_reshape.cov'\n",
    "twopt_filename = '../data_txt/cmass/npairs_cmass_sgc_bins10_binslop_05.txt'\n",
    "output_fitsname = root_dir+'/fits/datav_auto_cmass_sgc_nbins10_covanalytic.fits'\n",
    "\n",
    "Hfactor = 1.0 #HF(100,10)\n",
    "make_fits( rootdir = root_dir, \n",
    "             nzdist_filename = nzdist_filename,\n",
    "             twopt_filename = twopt_filename, \n",
    "             cov_filename = cov_filename, \n",
    "             output_fitsname=output_fitsname, Hartlap= Hfactor)\n",
    "\n",
    "\n",
    "cov_filename =  '../data_txt/mocks/cov_mock_galaxy_DR12_CMASS_S_QPM_760.cov'\n",
    "output_fitsname = root_dir+'/fits/datav_auto_cmass_sgc_nbins10_covmocks.fits'\n",
    "\n",
    "make_fits( rootdir = root_dir, \n",
    "             nzdist_filename = nzdist_filename,\n",
    "             twopt_filename = twopt_filename, \n",
    "             cov_filename = cov_filename, \n",
    "             output_fitsname=output_fitsname, Hartlap= Hfactor)"
   ]
  },
  {
   "cell_type": "code",
   "execution_count": 30,
   "metadata": {},
   "outputs": [
    {
     "name": "stdout",
     "output_type": "stream",
     "text": [
      "[0.20124   0.14333   0.10497   0.073368  0.048844  0.029356  0.015871\n",
      " 0.0075421 0.0028619 0.0015711]\n",
      "fits saved to  /n/des/lee.5922/programs/cosmolike/cosmosis/dmass_cat//fits/datav_auto_cmass_ngc_nbins10_covanalytic.fits\n",
      "[0.20124   0.14333   0.10497   0.073368  0.048844  0.029356  0.015871\n",
      " 0.0075421 0.0028619 0.0015711]\n",
      "fits saved to  /n/des/lee.5922/programs/cosmolike/cosmosis/dmass_cat//fits/datav_auto_cmass_ngc_nbins10_covmocks.fits\n"
     ]
    }
   ],
   "source": [
    "#NGC\n",
    "\n",
    "\n",
    "root_dir = '/n/des/lee.5922/programs/cosmolike/cosmosis/dmass_cat/'\n",
    "nzdist_filename = root_dir + './cmass_ngc.nz_2'\n",
    "cov_filename = '/n/des/lee.5922/programs/cosmolike/lighthouse_cov/output_cmass_sgc/cov_mcal4_cmass_ngc_veto_10bins_NG_reshape.cov'\n",
    "twopt_filename = '../data_txt/cmass/npairs_cmass_ngc_bins10_binslop_05.txt'\n",
    "output_fitsname = root_dir+'/fits/datav_auto_cmass_ngc_nbins10_covanalytic.fits'\n",
    "\n",
    "Hfactor = 1.0 #HF(100,10)\n",
    "make_fits( rootdir = root_dir, \n",
    "             nzdist_filename = nzdist_filename,\n",
    "             twopt_filename = twopt_filename, \n",
    "             cov_filename = cov_filename, \n",
    "             output_fitsname=output_fitsname, Hartlap= Hfactor)\n",
    "\n",
    "\n",
    "cov_filename =  '../data_txt/mocks/cov_mock_galaxy_DR12_CMASS_N_QPM_1000.cov'\n",
    "output_fitsname = root_dir+'/fits/datav_auto_cmass_ngc_nbins10_covmocks.fits'\n",
    "\n",
    "make_fits( rootdir = root_dir, \n",
    "             nzdist_filename = nzdist_filename,\n",
    "             twopt_filename = twopt_filename, \n",
    "             cov_filename = cov_filename, \n",
    "             output_fitsname=output_fitsname, Hartlap= Hfactor)"
   ]
  },
  {
   "cell_type": "code",
   "execution_count": 31,
   "metadata": {},
   "outputs": [
    {
     "name": "stdout",
     "output_type": "stream",
     "text": [
      "[0.19748694 0.1400337  0.10262511 0.07193115 0.04769988 0.02903951\n",
      " 0.01605333 0.00779044 0.00299603 0.00148688]\n",
      "fits saved to  /n/des/lee.5922/programs/cosmolike/cosmosis/dmass_cat//fits/datav_auto_cmass_full_nbins10_covanalytic.fits\n",
      "[0.19748694 0.1400337  0.10262511 0.07193115 0.04769988 0.02903951\n",
      " 0.01605333 0.00779044 0.00299603 0.00148688]\n",
      "fits saved to  /n/des/lee.5922/programs/cosmolike/cosmosis/dmass_cat//fits/datav_auto_cmass_full_nbins10_covmocks.fits\n"
     ]
    }
   ],
   "source": [
    "#FULL\n",
    "\n",
    "\n",
    "root_dir = '/n/des/lee.5922/programs/cosmolike/cosmosis/dmass_cat/'\n",
    "nzdist_filename = root_dir + './cmass_full.nz'\n",
    "\n",
    "cov_filename = '/n/des/lee.5922/programs/cosmolike/lighthouse_cov/output_cmass_sgc/cov_mcal4_cmass_full_veto_10bins_NG_reshape.cov'\n",
    "twopt_filename = '../data_txt/cmass/npairs_cmass_combined_ngc_sgc_bins10_binslop_05.txt'\n",
    "output_fitsname = root_dir+'/fits/datav_auto_cmass_full_nbins10_covanalytic.fits'\n",
    "\n",
    "\n",
    "Hfactor = 1.0 #HF(100,10)\n",
    "make_fits( rootdir = root_dir, \n",
    "             nzdist_filename = nzdist_filename,\n",
    "             twopt_filename = twopt_filename, \n",
    "             cov_filename = cov_filename, \n",
    "             output_fitsname=output_fitsname, Hartlap= Hfactor)\n",
    "\n",
    "\n",
    "cov_filename = '../data_txt/mocks/cov_mock_galaxy_DR12_CMASS_COMBINED_N_QPM_1000_S_QPM_760.cov'\n",
    "output_fitsname = root_dir+'/fits/datav_auto_cmass_full_nbins10_covmocks.fits'\n",
    "\n",
    "make_fits( rootdir = root_dir, \n",
    "             nzdist_filename = nzdist_filename,\n",
    "             twopt_filename = twopt_filename, \n",
    "             cov_filename = cov_filename, \n",
    "             output_fitsname=output_fitsname, Hartlap= Hfactor)"
   ]
  },
  {
   "cell_type": "code",
   "execution_count": 108,
   "metadata": {},
   "outputs": [
    {
     "name": "stdout",
     "output_type": "stream",
     "text": [
      "[0.18394   0.13526   0.094213  0.067161  0.045639  0.02919   0.01722\n",
      " 0.010795  0.005344  0.0022713]\n",
      "fits saved to  /n/des/lee.5922/programs/cosmolike/cosmosis/dmass_cat//fits/datav_auto_dmass_pcut_NOWEIGHT_nbins10_covmocks.fits\n",
      "[0.18471   0.1331    0.093651  0.066822  0.045151  0.028893  0.016783\n",
      " 0.0099488 0.0044229 0.0012034]\n",
      "fits saved to  /n/des/lee.5922/programs/cosmolike/cosmosis/dmass_cat//fits/datav_auto_dmass_pcut_sysweight_nbins10_covmocks.fits\n"
     ]
    }
   ],
   "source": [
    "#DMASS\n",
    "\n",
    "\n",
    "root_dir = '/n/des/lee.5922/programs/cosmolike/cosmosis/dmass_cat/'\n",
    "nzdist_filename = root_dir + './cmass_sgc.nz_2'\n",
    "cov_filename = '../data_txt/cmass/cov_dmass_no_veto_rescaled_mocks_NG.txt'\n",
    "twopt_filename = '../output/sfd_train_photo_SamPle_nozband_ran10_3_full_tol1e5/\\\n",
    "act/acf_auto_poisson_DMASS_pcut_NOWEIGHT_10bins.npairs'\n",
    "output_fitsname = root_dir+'/fits/datav_auto_dmass_pcut_NOWEIGHT_nbins10_covmocks.fits'\n",
    "\n",
    "Hfactor = 1.0 #HF(100,10)\n",
    "make_fits( rootdir = root_dir, \n",
    "             nzdist_filename = nzdist_filename,\n",
    "             twopt_filename = twopt_filename, \n",
    "             cov_filename = cov_filename, \n",
    "             output_fitsname=output_fitsname, Hartlap= Hfactor)\n",
    "\n",
    "\n",
    "#cov_filename = '/n/des/lee.5922/programs/cosmolike/lighthouse_cov/output_cmass_sgc/cov_mcal4_cmass_ngc_veto_10bins_NG_reshape.cov'\n",
    "twopt_filename = '../data_txt/cmass/npairs_dmass_pcut_sysweight_bins10_binslop_05.txt'\n",
    "output_fitsname = root_dir+'/fits/datav_auto_dmass_pcut_sysweight_nbins10_covmocks.fits'\n",
    "\n",
    "make_fits( rootdir = root_dir, \n",
    "             nzdist_filename = nzdist_filename,\n",
    "             twopt_filename = twopt_filename, \n",
    "             cov_filename = cov_filename, \n",
    "             output_fitsname=output_fitsname, Hartlap= Hfactor)"
   ]
  },
  {
   "cell_type": "code",
   "execution_count": 109,
   "metadata": {},
   "outputs": [
    {
     "name": "stdout",
     "output_type": "stream",
     "text": [
      "[0.18203   0.13443   0.094359  0.06708   0.045151  0.028748  0.017074\n",
      " 0.010671  0.0053369 0.0020989]\n",
      "fits saved to  /n/des/lee.5922/programs/cosmolike/cosmosis/dmass_cat//fits/datav_auto_DMASS_pcut_NOWEIGHT_FRAC_nbins10_covmocks.fits\n",
      "[0.18321   0.13426   0.095327  0.068048  0.046167  0.029642  0.017595\n",
      " 0.010519  0.0048813 0.0012586]\n",
      "fits saved to  /n/des/lee.5922/programs/cosmolike/cosmosis/dmass_cat//fits/datav_auto_DMASS_pcut_sysweight_FRAC_nbins10_covmocks.fits\n"
     ]
    }
   ],
   "source": [
    "#DMASS FRAC\n",
    "\n",
    "\n",
    "root_dir = '/n/des/lee.5922/programs/cosmolike/cosmosis/dmass_cat/'\n",
    "nzdist_filename = root_dir + './cmass_sgc.nz_2'\n",
    "cov_filename = '../data_txt/cmass/cov_dmass_no_veto_rescaled_mocks_NG.txt'\n",
    "twopt_filename = '../output/sfd_train_photo_SamPle_nozband_ran10_3_full_tol1e5/\\\n",
    "act/acf_auto_poisson_DMASS_pcut_NOWEIGHT_FRAC_10bins.npairs'\n",
    "output_fitsname = root_dir+'/fits/datav_auto_DMASS_pcut_NOWEIGHT_FRAC_nbins10_covmocks.fits'\n",
    "\n",
    "Hfactor = 1.0 #HF(100,10)\n",
    "make_fits( rootdir = root_dir, \n",
    "             nzdist_filename = nzdist_filename,\n",
    "             twopt_filename = twopt_filename, \n",
    "             cov_filename = cov_filename, \n",
    "             output_fitsname=output_fitsname, Hartlap= Hfactor)\n",
    "\n",
    "\n",
    "#cov_filename = '/n/des/lee.5922/programs/cosmolike/lighthouse_cov/output_cmass_sgc/cov_mcal4_cmass_ngc_veto_10bins_NG_reshape.cov'\n",
    "twopt_filename = '../output/sfd_train_photo_SamPle_nozband_ran10_3_full_tol1e5/\\\n",
    "act/acf_auto_poisson_DMASS_pcut_sysweight_FRAC_10bins.npairs'\n",
    "output_fitsname = root_dir+'/fits/datav_auto_DMASS_pcut_sysweight_FRAC_nbins10_covmocks.fits'\n",
    "\n",
    "make_fits( rootdir = root_dir, \n",
    "             nzdist_filename = nzdist_filename,\n",
    "             twopt_filename = twopt_filename, \n",
    "             cov_filename = cov_filename, \n",
    "             output_fitsname=output_fitsname, Hartlap= Hfactor)"
   ]
  },
  {
   "cell_type": "code",
   "execution_count": null,
   "metadata": {},
   "outputs": [],
   "source": []
  },
  {
   "cell_type": "code",
   "execution_count": null,
   "metadata": {},
   "outputs": [],
   "source": []
  },
  {
   "cell_type": "code",
   "execution_count": null,
   "metadata": {},
   "outputs": [],
   "source": []
  },
  {
   "cell_type": "code",
   "execution_count": null,
   "metadata": {},
   "outputs": [],
   "source": []
  },
  {
   "cell_type": "code",
   "execution_count": 14,
   "metadata": {},
   "outputs": [
    {
     "name": "stdout",
     "output_type": "stream",
     "text": [
      "found no extra columns\n",
      "found no extra columns\n",
      "found no extra columns\n",
      "found no extra columns\n",
      "found no extra columns\n",
      "found no extra columns\n",
      "found no extra columns\n",
      "found no extra columns\n",
      "found no extra columns\n",
      "found no extra columns\n",
      "found no extra columns\n",
      "found no extra columns\n"
     ]
    }
   ],
   "source": [
    "import twopoint\n",
    "\n",
    "cmass_sgc_fits = '/n/des/lee.5922/programs/cosmolike/cosmosis/dmass_cat//fits/datav_cov_cmass_sgc_real.fits'\n",
    "f_sgc = twopoint.TwoPointFile.from_fits(cmass_sgc_fits, covmat_name=\"COVMAT\")\n",
    "wtheta_cmass_sgc = f_sgc.get_spectrum('wtheta').value\n",
    "err_sgc = f_sgc.covmat_info.get_error(name='wtheta') #* HFfactor\n",
    "\n",
    "\n",
    "cmass_full_fits = '/n/des/lee.5922/programs/cosmolike/cosmosis/dmass_cat//fits/datav_cov_cmass_full_real.fits'\n",
    "f = twopoint.TwoPointFile.from_fits(cmass_full_fits, covmat_name=\"COVMAT\")\n",
    "wtheta_cmass_full = f.get_spectrum('wtheta').value\n",
    "err_full = f.covmat_info.get_error(name='wtheta') #*HFfactor\n",
    "\n",
    "\n",
    "dmass_spt_fits = '/n/des/lee.5922/programs/cosmolike/cosmosis/dmass_cat//fits/datav_cov_dmass_spt_real.fits'\n",
    "f = twopoint.TwoPointFile.from_fits(dmass_spt_fits, covmat_name=\"COVMAT\")\n",
    "wtheta_dmass = f.get_spectrum('wtheta').value\n",
    "err_dmass = f.covmat_info.get_error(name='wtheta') #*HFfactor"
   ]
  },
  {
   "cell_type": "code",
   "execution_count": 27,
   "metadata": {},
   "outputs": [
    {
     "data": {
      "text/plain": [
       "'COVMAT'"
      ]
     },
     "execution_count": 27,
     "metadata": {},
     "output_type": "execute_result"
    }
   ],
   "source": [
    "f_sgc.covmat_info.name"
   ]
  },
  {
   "cell_type": "code",
   "execution_count": 43,
   "metadata": {},
   "outputs": [],
   "source": [
    "rm /n/des/lee.5922/programs/cosmolike/cosmosis/dmass_cat//fits/datav_residual_auto_dmass_cmass_full_nbin10_jk100.fits"
   ]
  },
  {
   "cell_type": "code",
   "execution_count": 52,
   "metadata": {},
   "outputs": [
    {
     "name": "stdout",
     "output_type": "stream",
     "text": [
      "found no extra columns\n",
      "found no extra columns\n",
      "found no extra columns\n",
      "found no extra columns\n"
     ]
    }
   ],
   "source": [
    "dv_fits = '/n/des/lee.5922/programs/cosmolike/cosmosis/dmass_cat//fits/datav_residual_auto_dmass_cmass_sgc_nbin10_jk100.fits'\n",
    "f = twopoint.TwoPointFile.from_fits(dv_fits, covmat_name=\"COVMAT\")\n",
    "wtheta_dv = f.get_spectrum('wtheta').value\n",
    "err_dv = f.covmat_info.get_error(name='wtheta') #*HFfactor"
   ]
  },
  {
   "cell_type": "code",
   "execution_count": 46,
   "metadata": {},
   "outputs": [
    {
     "data": {
      "text/plain": [
       "array([0.18522238, 0.13297778, 0.09326339, 0.06738893, 0.04481562,\n",
       "       0.02857895, 0.01690479, 0.01001901, 0.0043968 , 0.00112265])"
      ]
     },
     "execution_count": 46,
     "metadata": {},
     "output_type": "execute_result"
    }
   ],
   "source": [
    "wtheta_dv"
   ]
  },
  {
   "cell_type": "code",
   "execution_count": 11,
   "metadata": {},
   "outputs": [
    {
     "name": "stdout",
     "output_type": "stream",
     "text": [
      "0.888888888889\n"
     ]
    }
   ],
   "source": [
    "\n",
    "\"\"\"\n",
    "dmass_twopt_dat = '../output/sfd_train_photo_SamPle_nozband_ran10_3_full_tol1e5//act/acf_auto_dmass_all_weight_pcut01_nbins10_jk100'\n",
    "\n",
    "\n",
    "\n",
    "#DAT = np.loadtxt('../data_txt/acf_auto_dmass_spt_nbins10_jk100.txt')\n",
    "DAT = np.loadtxt(dmass_twopt_dat+'.txt')\n",
    "meanr, xi, xi_err = [DAT[:,i] for i in range(3)]\n",
    "\n",
    "DAT7 = np.loadtxt('../data_txt//acf_auto_cmass_sgc_sys_cp_nz_weight_nbins10_jk100.txt')\n",
    "meanr7, xi7, xi_err7 = [DAT7[:,i] for i in range(3)]\n",
    "\n",
    "DAT11 = np.loadtxt('../data_txt//acf_auto_cmass_ngc_sys_cp_nz_weight_nbin10_jk100.txt')\n",
    "meanr11, xi11, xi_err11 = [DAT11[:,i] for i in range(3)]\n",
    "\n",
    "\n",
    "\n",
    "cov_cmass_n = np.genfromtxt('../data_txt//acf_auto_cmass_ngc_sys_cp_nz_weight_nbin10_jk100.cov')\n",
    "cov_cmass_s = np.genfromtxt('../data_txt//acf_auto_cmass_sgc_sys_cp_nz_weight_nbins10_jk100.cov')\n",
    "cov_dmass = np.genfromtxt('../data_txt/acf_auto_dmass_spt_nbins10_jk100.cov')\n",
    "\n",
    "\n",
    "HFn = HF(100, 10)\n",
    "HFs = HF(100, 10)\n",
    "HFd = HF(100, 10)\n",
    "\n",
    "print HFn\n",
    "\n",
    "F_ns = HFn * HFs * np.linalg.inv(cov_cmass_n + cov_cmass_s)\n",
    "F_nd = HFn * HFd * np.linalg.inv(cov_cmass_n + cov_dmass)\n",
    "F_sd = HFs * HFd * np.linalg.inv(cov_cmass_s + cov_dmass)\n",
    "\n",
    "\"\"\""
   ]
  },
  {
   "cell_type": "code",
   "execution_count": 12,
   "metadata": {},
   "outputs": [],
   "source": [
    "data_dir = '/n/des/lee.5922/programs/cosmolike/cosmosis/'\n",
    "cosmosis_wtheta = np.genfromtxt(data_dir+'output/wgtheta/galaxy_xi/bin_1_1.txt')\n",
    "cosmosis_theta = np.genfromtxt(data_dir+'output/wgtheta/galaxy_xi/theta.txt')* 57.2958\n",
    "cosmosis_wtheta02 = np.genfromtxt(data_dir+'output/wgtheta_z0.2/galaxy_xi/bin_1_1.txt')\n",
    "cosmosis_wthetam02 = np.genfromtxt(data_dir+'output/wgtheta_zm0.2/galaxy_xi/bin_1_1.txt')\n",
    "#cosmosis_theta = np.genfromtxt(data_dir+'output/wgtheta/galaxy_xi/theta.txt')* 57.2958"
   ]
  },
  {
   "cell_type": "code",
   "execution_count": 53,
   "metadata": {},
   "outputs": [
    {
     "data": {
      "text/plain": [
       "<matplotlib.text.Text at 0x7f243329ae10>"
      ]
     },
     "execution_count": 53,
     "metadata": {},
     "output_type": "execute_result"
    },
    {
     "data": {
      "image/png": "[encoded data removed]",
      "text/plain": [
       "<matplotlib.figure.Figure at 0x7f2433651450>"
      ]
     },
     "metadata": {},
     "output_type": "display_data"
    },
    {
     "data": {
      "image/png": "[encoded data removed]",
      "text/plain": [
       "<matplotlib.figure.Figure at 0x7f243326a150>"
      ]
     },
     "metadata": {},
     "output_type": "display_data"
    }
   ],
   "source": [
    "\n",
    "theta_th, theory = np.loadtxt('../data_txt/acf_cmass_ngc_theory.txt', unpack=True)\n",
    "theta_th, theory_sgc = np.loadtxt('../data_txt/acf_cmass_sgc_theory.txt', unpack=True)\n",
    "\n",
    "#_, theory_bias = np.loadtxt('../data_txt/acf_cmass_sgc_theory_bias.txt', unpack=True)\n",
    "\n",
    "\n",
    "theory_interp = scipy.interpolate.interp1d(theta_th, theory)\n",
    "theory_interp = theory_interp(meanr)\n",
    "theory_sgc_interp = scipy.interpolate.interp1d(theta_th, theory_sgc)\n",
    "theory_sgc_interp = theory_sgc_interp(meanr)\n",
    "cosmosis_interp = scipy.interpolate.interp1d(cosmosis_theta, cosmosis_wtheta)\n",
    "cosmosis_interp = cosmosis_interp( meanr )\n",
    "nzs_ratio = theory_sgc_interp/theory_interp\n",
    "\n",
    "fig, ax = plt.subplots(figsize = (13, 10))\n",
    "\n",
    "ax.errorbar(meanr*0.97, wtheta_dmass, yerr = err_dmass, fmt = '.', color='k', label='dmass spt')\n",
    "ax.errorbar(meanr, wtheta_cmass_sgc, yerr = err_sgc, fmt = '.', color='r', label='cmass sgc')\n",
    "ax.errorbar(meanr*1.03, wtheta_cmass_full, yerr = err_full, fmt = '.', color='b', label='cmass full')\n",
    "\n",
    "ax.plot(theta_th, theory, '-', color='grey', label='theory')\n",
    "ax.plot(theta_th, theory_sgc, '--', color='grey', label='theory sgc')\n",
    "ax.plot(cosmosis_theta, cosmosis_wtheta, '--', color='green', label='cosmosis theory sgc')\n",
    "ax.plot(cosmosis_theta, cosmosis_wtheta02, '-.', color='green', label='cosmosis z+0.2')\n",
    "ax.plot(cosmosis_theta, cosmosis_wthetam02, '-', color='green', label='cosmosis z-0.2')\n",
    "#ax.plot(theta_th, theta_th*theory_bias, '--', color='green', label='theory bias')\n",
    "\n",
    "ax.set_xscale('log')\n",
    "ax.set_yscale('log')\n",
    "ax.legend(loc = 'best', fontsize = 12)\n",
    "#ax.text(1.5, 0.07, r'$\\chi^2 $ = {:0.3f}  (south)'.format(chisqr), fontsize = 12)\n",
    "ax.set_ylim(1e-4,1)\n",
    "ax.set_xlim(2.5/60, 250./60)\n",
    "ax.set_xlabel(r'$\\theta$ (deg)', fontsize = 15)\n",
    "ax.set_ylabel(r'$\\omega(\\theta)$', fontsize = 15)\n",
    "\n",
    "\n",
    "#fig.savefig('../figure/acf_comparison_cmass_dmass.pdf')\n",
    "\n",
    "\n",
    "\n",
    "fig, ax = plt.subplots(figsize = (7, 5))\n",
    "\n",
    "#ax.errorbar(meanr*0.97, wtheta_dmass-wtheta_dmass, yerr = np.sqrt(2)*err_dmass, fmt = '.-', color='k')\n",
    "ax.axhline(y = 0, ls='--', color = 'grey')\n",
    "ax.errorbar(meanr*1.03, wtheta_cmass_sgc-wtheta_dmass, yerr = np.sqrt(err_sgc**2+err_dmass**2), fmt = '.-b', label='cmass S')\n",
    "ax.errorbar(meanr*1.0, wtheta_cmass_full-wtheta_dmass, yerr = np.sqrt(err_dmass**2+err_full**2), fmt = '.-r', label='cmass full')\n",
    "\n",
    "ax.plot(meanr, wtheta_dv, '-', color='grey',label='residuals' )\n",
    "#ax.plot(meanr, theory_sgc_interp -xi, '--', color='grey', label='theory sgc' )\n",
    "#ax.plot(meanr, cosmosis_interp -xi, '--', color='green', label='cosmosis theory sgc' )\n",
    "\n",
    "#vdiff = xi - xi7\n",
    "#chisqr = np.dot(np.dot( vdiff, F_ns), vdiff)#/vdiff.size\n",
    "\n",
    "ax.set_xscale('log')\n",
    "#ax.set_yscale('log')\n",
    "ax.legend(loc = 'best', fontsize = 12)\n",
    "#ax.text(1.5, 0.07, r'$\\chi^2 $ = {:0.3f}  (south)'.format(chisqr), fontsize = 12)\n",
    "#ax.set_ylim(1e-3,)\n",
    "ax.set_xlabel(r'$\\theta$ (deg)', fontsize = 15)\n",
    "ax.set_ylabel(r'$\\omega_x(\\theta)- \\omega_{dmass}(\\theta)$', fontsize = 15)\n",
    "\n",
    "\n",
    "\n"
   ]
  },
  {
   "cell_type": "code",
   "execution_count": 119,
   "metadata": {},
   "outputs": [],
   "source": [
    "def make_fits( rootdir = None, \n",
    "             nzdist_filename = None,\n",
    "             twopt_filename = None, \n",
    "             cov_filename = None, \n",
    "             output_fitsname = None, \n",
    "             Hartlap = 1.0 ) :\n",
    "    \n",
    "    from astropy.io import fits\n",
    "    fitsname = '/n/des/lee.5922/programs/cosmolike/des-mpp/cosmosis/extensions/systematics/1neutrino/2pt_sim_1110_1neutrino_baseline.fits'\n",
    "    #ffits = fitsio.FITS(fitsname)\n",
    "\n",
    "    hdulist = fits.open(fitsname, mode='update')\n",
    "\n",
    "    twopt_datatxt = np.loadtxt(twopt_filename, unpack=False)\n",
    "    Nx, Ny = twopt_datatxt.shape\n",
    "    if Ny == 3 : theta, corrdata = twopt_datatxt[:,0], twopt_datatxt[:,1]\n",
    "    elif Ny > 3 : theta, corrdata =  twopt_datatxt[:,1], twopt_datatxt[:,3]\n",
    "    \n",
    "    print corrdata\n",
    "    \n",
    "    theta = 60 * theta\n",
    "    cov = np.genfromtxt(cov_filename) * 1./np.sqrt(Hartlap)\n",
    "    \n",
    "\n",
    "    cov_empty = np.zeros((40,40))\n",
    "    np.fill_diagonal(cov_empty, 1)\n",
    "    cov_empty[-10:, -10:] = cov[:,:]\n",
    "\n",
    "    hdulist[1].data = cov_empty[:,:]\n",
    "\n",
    "    chdr = hdulist[1].header\n",
    "    chdr.set(\"NAME_0\", \"xip\")\n",
    "    chdr.set(\"STRT_0\", 0)\n",
    "    chdr.set(\"NAME_1\", \"xim\")\n",
    "    chdr.set(\"STRT_1\", 10)\n",
    "    chdr.set(\"NAME_2\", \"gammat\")\n",
    "    chdr.set(\"STRT_2\", 20)\n",
    "    chdr.set(\"NAME_3\", \"wtheta\")\n",
    "    chdr.set(\"STRT_3\", 30)\n",
    "\n",
    "\n",
    "\n",
    "\n",
    "    ntheta = len(theta)\n",
    "    ggl_bin1 = np.ones(ntheta)\n",
    "    ggl_bin2 = np.ones(ntheta)\n",
    "    ggl_angbin = np.arange(1, ntheta+1, 1)\n",
    "    #ggl_value = corrdata[:ntheta].copy()\n",
    "    #ggl_ang = theta[:ntheta].copy()\n",
    "    ggl_value =  np.zeros(ntheta)#corrdata[:ntheta].copy()\n",
    "    ggl_ang =  theta[:ntheta].copy()\n",
    "\n",
    "    ggl_col1 = fits.Column(name='BIN1', format='i8', array=ggl_bin1)\n",
    "    ggl_col2 = fits.Column(name='BIN2', format='i8', array=ggl_bin2)\n",
    "    ggl_col3 = fits.Column(name='ANGBIN', format='i8', array=ggl_angbin)\n",
    "    ggl_col4 = fits.Column(name='VALUE', format='f8', array=ggl_value)\n",
    "    ggl_col5 = fits.Column(name='ANG', format='f8', array=ggl_ang)\n",
    "\n",
    "    ggl_cols = fits.ColDefs([ggl_col1, ggl_col2, ggl_col3, ggl_col4, ggl_col5])\n",
    "    ggl_tbhdu = fits.BinTableHDU.from_columns(ggl_cols)\n",
    "\n",
    "\n",
    "\n",
    "\n",
    "    hdulist[2] = ggl_tbhdu\n",
    "    hdulist[2].name = 'xip'\n",
    "\n",
    "    xip_hdr = hdulist[2].header\n",
    "    xip_hdr.set(\"2PTDATA\", True)\n",
    "    xip_hdr.set(\"EXTNAME\", \"xip\")\n",
    "    xip_hdr.set(\"QUANT1\", \"G+R\")\n",
    "    xip_hdr.set(\"QUANT2\", \"G+R\")\n",
    "    xip_hdr.set(\"KERNEL_1\", \"nz_source\")\n",
    "    xip_hdr.set(\"KERNEL_2\", \"nz_source\")\n",
    "    xip_hdr.set(\"WINDOWS\", \"SAMPLE\")\n",
    "    xip_hdr.set(\"TUNIT5\", \"arcmin\")\n",
    "    xip_hdr.set(\"N_ZBIN_1\", 1)\n",
    "    xip_hdr.set(\"N_ZBIN_2\", 1)\n",
    "    xip_hdr.set(\"N_ANG\", 10)\n",
    "\n",
    "\n",
    "\n",
    "    ntheta = len(theta)\n",
    "    xim_bin1 = np.ones(ntheta)\n",
    "    xim_bin2 = np.ones(ntheta)\n",
    "    xim_angbin = np.arange(1, ntheta+1, 1)\n",
    "    xim_value =  np.zeros(ntheta)#corrdata[:ntheta].copy()\n",
    "    xim_ang =  theta[:ntheta].copy()\n",
    "\n",
    "    xim_col1 = fits.Column(name='BIN1', format='i8', array=xim_bin1)\n",
    "    xim_col2 = fits.Column(name='BIN2', format='i8', array=xim_bin2)\n",
    "    xim_col3 = fits.Column(name='ANGBIN', format='i8', array=xim_angbin)\n",
    "    xim_col4 = fits.Column(name='VALUE', format='f8', array=xim_value)\n",
    "    xim_col5 = fits.Column(name='ANG', format='f8', array=xim_ang)\n",
    "\n",
    "    xim_cols = fits.ColDefs([xim_col1, xim_col2,xim_col3, xim_col4, xim_col5])\n",
    "    xim_tbhdu = fits.BinTableHDU.from_columns(xim_cols)\n",
    "\n",
    "    hdulist[3] = xim_tbhdu\n",
    "    hdulist[3].name = 'xim'\n",
    "\n",
    "    xim_hdr = hdulist[3].header\n",
    "    xim_hdr.set(\"2PTDATA\", True)\n",
    "    xim_hdr.set(\"EXTNAME\", \"xim\")\n",
    "    xim_hdr.set(\"QUANT1\", \"G-R\")\n",
    "    xim_hdr.set(\"QUANT2\", \"G-R\")\n",
    "    xim_hdr.set(\"KERNEL_1\", \"nz_source\")\n",
    "    xim_hdr.set(\"KERNEL_2\", \"nz_source\")\n",
    "    xim_hdr.set(\"WINDOWS\", \"SAMPLE\")\n",
    "    xim_hdr.set(\"TUNIT5\", \"arcmin\")\n",
    "    xim_hdr.set(\"N_ZBIN_1\", 1)\n",
    "    xim_hdr.set(\"N_ZBIN_2\", 1)\n",
    "    xim_hdr.set(\"N_ANG\", 10)\n",
    "\n",
    "\n",
    "\n",
    "    ntheta = len(theta)\n",
    "    xim_bin1 = np.ones(ntheta)\n",
    "    xim_bin2 = np.ones(ntheta)\n",
    "    xim_angbin = np.arange(1, ntheta+1, 1)\n",
    "    xim_value =  np.zeros(ntheta)#corrdata[:ntheta].copy()\n",
    "    xim_ang =  theta[:ntheta].copy()\n",
    "\n",
    "    xim_col1 = fits.Column(name='BIN1', format='i8', array=xim_bin1)\n",
    "    xim_col2 = fits.Column(name='BIN2', format='i8', array=xim_bin2)\n",
    "    xim_col3 = fits.Column(name='ANGBIN', format='i8', array=xim_angbin)\n",
    "    xim_col4 = fits.Column(name='VALUE', format='f8', array=xim_value)\n",
    "    xim_col5 = fits.Column(name='ANG', format='f8', array=xim_ang)\n",
    "\n",
    "    xim_cols = fits.ColDefs([xim_col1, xim_col2,xim_col3, xim_col4, xim_col5])\n",
    "    xim_tbhdu = fits.BinTableHDU.from_columns(xim_cols)\n",
    "\n",
    "    hdulist[4] = xim_tbhdu\n",
    "    hdulist[4].name = 'gammat'\n",
    "\n",
    "    ggl_hdr = hdulist[4].header\n",
    "    ggl_hdr.set(\"2PTDATA\", True)\n",
    "    ggl_hdr.set(\"EXTNAME\", \"gammat\")\n",
    "    ggl_hdr.set(\"QUANT1\", \"GPR\")\n",
    "    ggl_hdr.set(\"QUANT2\", \"G+R\")\n",
    "    ggl_hdr.set(\"KERNEL_1\", \"nz_lens\")\n",
    "    ggl_hdr.set(\"KERNEL_2\", \"nz_source\")\n",
    "    ggl_hdr.set(\"WINDOWS\", \"SAMPLE\")\n",
    "    ggl_hdr.set(\"TUNIT5\", \"arcmin\")\n",
    "    ggl_hdr.set(\"N_ZBIN_1\", 1)\n",
    "    ggl_hdr.set(\"N_ZBIN_2\", 1)\n",
    "    ggl_hdr.set(\"N_ANG\", 10)\n",
    "\n",
    "\n",
    "\n",
    "    ntheta = len(theta)\n",
    "    xim_bin1 = np.ones(ntheta)\n",
    "    xim_bin2 = np.ones(ntheta)\n",
    "    xim_angbin = np.arange(1, ntheta+1, 1)\n",
    "    xim_value =  corrdata[:ntheta].copy()\n",
    "    xim_ang =  theta[:ntheta].copy()\n",
    "\n",
    "    xim_col1 = fits.Column(name='BIN1', format='i8', array=xim_bin1)\n",
    "    xim_col2 = fits.Column(name='BIN2', format='i8', array=xim_bin2)\n",
    "    xim_col3 = fits.Column(name='ANGBIN', format='i8', array=xim_angbin)\n",
    "    xim_col4 = fits.Column(name='VALUE', format='f8', array=xim_value)\n",
    "    xim_col5 = fits.Column(name='ANG', format='f8', array=xim_ang)\n",
    "\n",
    "    xim_cols = fits.ColDefs([xim_col1, xim_col2,xim_col3, xim_col4, xim_col5])\n",
    "    xim_tbhdu = fits.BinTableHDU.from_columns(xim_cols)\n",
    "\n",
    "\n",
    "    hdulist[5] = xim_tbhdu\n",
    "    hdulist[5].name = 'wtheta'\n",
    "\n",
    "    ggl_hdr = hdulist[5].header\n",
    "    ggl_hdr.set(\"2PTDATA\", True)\n",
    "    ggl_hdr.set(\"EXTNAME\", \"wtheta\")\n",
    "    ggl_hdr.set(\"QUANT1\", \"GPR\")\n",
    "    ggl_hdr.set(\"QUANT2\", \"GPR\")\n",
    "    ggl_hdr.set(\"KERNEL_1\", \"nz_lens\")\n",
    "    ggl_hdr.set(\"KERNEL_2\", \"nz_lens\")\n",
    "    ggl_hdr.set(\"WINDOWS\", \"SAMPLE\")\n",
    "    ggl_hdr.set(\"TUNIT5\", \"arcmin\")\n",
    "    ggl_hdr.set(\"N_ZBIN_1\", 1)\n",
    "    ggl_hdr.set(\"N_ZBIN_2\", 1)\n",
    "    ggl_hdr.set(\"N_ANG\", 10)\n",
    "\n",
    "\n",
    "\n",
    "\n",
    "    # Read in NZ\n",
    "    # There is only one bin currently\n",
    "    #zedges_arr = np.linspace(0., 1.301, 100)\n",
    "\n",
    "    #zlo,zmid,zhi,lowz,zkids = np.loadtxt(nzfile, unpack=True)\n",
    "    #zlo, zhi = zedges_arr[:-1], zedges_arr[1:]\n",
    "    zlo,lowz = np.loadtxt(nzdist_filename, unpack=True)\n",
    "    zmid = zlo+0.005\n",
    "    zhi = zlo+0.01\n",
    "    zkids = lowz\n",
    "    zlo_col1 = fits.Column(name='Z_LOW',format='f8', array=zlo)\n",
    "    zmid_col2 = fits.Column(name='Z_MID',format='f8', array=zmid)\n",
    "    zhi_col3 = fits.Column(name='Z_HIGH',format='f8', array=zhi)\n",
    "    bin1_col4 = fits.Column(name='BIN1',format='f8', array=zkids)\n",
    "\n",
    "    nz_cols = fits.ColDefs([zlo_col1, zmid_col2, zhi_col3, bin1_col4])\n",
    "    nz_tbhdu = fits.BinTableHDU.from_columns(nz_cols)\n",
    "    #hdulist.append(nz_tbhdu)\n",
    "    hdulist[6] = nz_tbhdu\n",
    "    hdulist[6].name = 'nz_source'\n",
    "\n",
    "    # NZ data header\n",
    "    nzhdr = hdulist[6].header\n",
    "    nzhdr.set(\"NBIN\", \"1\")\n",
    "    #nzhdr.set(\"NZ\", \"99\")\n",
    "    nzhdr.set(\"NZ\", \"400\")\n",
    "\n",
    "    # Setting a second extension for the BOSS NZ\n",
    "    # which was read in from the same ascii file above\n",
    "    boss_bin1_col4 = fits.Column(name='BIN1',format='f8', array=lowz)\n",
    "\n",
    "    boss_nz_cols = fits.ColDefs([zlo_col1, zmid_col2, zhi_col3, boss_bin1_col4])\n",
    "    boss_nz_tbhdu = fits.BinTableHDU.from_columns(boss_nz_cols)\n",
    "    #hdulist.append(boss_nz_tbhdu)\n",
    "    hdulist[7] = boss_nz_tbhdu\n",
    "    hdulist[7].name = 'nz_lens'\n",
    "\n",
    "    # NZ data header\n",
    "    boss_nzhdr = hdulist[7].header\n",
    "    boss_nzhdr.set(\"NBIN\", \"1\")\n",
    "    #boss_nzhdr.set(\"NZ\", \"99\")\n",
    "    boss_nzhdr.set(\"NZ\", \"400\")\n",
    "\n",
    "    #help(hdulist.writeto)\n",
    "    hdulist.writeto(output_fitsname, clobber=True)\n",
    "    print 'fits saved to ', output_fitsname\n"
   ]
  },
  {
   "cell_type": "code",
   "execution_count": null,
   "metadata": {},
   "outputs": [],
   "source": []
  }
 ],
 "metadata": {
  "kernelspec": {
   "display_name": "Python 2",
   "language": "python",
   "name": "python2"
  },
  "language_info": {
   "codemirror_mode": {
    "name": "ipython",
    "version": 2
   },
   "file_extension": ".py",
   "mimetype": "text/x-python",
   "name": "python",
   "nbconvert_exporter": "python",
   "pygments_lexer": "ipython2",
   "version": "2.7.5"
  }
 },
 "nbformat": 4,
 "nbformat_minor": 2
}
