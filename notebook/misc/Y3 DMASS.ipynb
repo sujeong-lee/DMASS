{
 "cells": [
  {
   "cell_type": "markdown",
   "metadata": {},
   "source": [
    "# DMASS tutorial"
   ]
  },
  {
   "cell_type": "markdown",
   "metadata": {},
   "source": [
    "esutil and healpy should be installed "
   ]
  },
  {
   "cell_type": "code",
   "execution_count": 1,
   "metadata": {
    "scrolled": true
   },
   "outputs": [],
   "source": [
    "import os, sys, scipy\n",
    "import esutil\n",
    "import healpy as hp\n",
    "import numpy as np\n",
    "import matplotlib.pyplot as plt\n",
    "%matplotlib inline\n",
    "\n",
    "%load_ext autoreload\n",
    "%autoreload 2"
   ]
  },
  {
   "cell_type": "code",
   "execution_count": 2,
   "metadata": {},
   "outputs": [
    {
     "name": "stderr",
     "output_type": "stream",
     "text": [
      "WARNING: AstroMLDeprecationWarning: 'decorators' has been moved to 'astroML.utils' and will be removed from the main namespace in the future. [astroML.decorators]\n"
     ]
    }
   ],
   "source": [
    "# call required functions from modules \n",
    "sys.path.append('../code_py3/')\n",
    "from cmass_modules import io\n",
    "from utils import matchCatalogsbyPosition, hpHEALPixelToRaDec, HealPixifyCatalogs, spatialcheck\n",
    "from xd import mixing_color, XD_fitting_X, assignCMASSProb, doVisualization_1d\n",
    "from run_DMASS_Y3 import priorCut_test, priorCut_Y1"
   ]
  },
  {
   "cell_type": "markdown",
   "metadata": {},
   "source": [
    "# Construct training samples"
   ]
  },
  {
   "cell_type": "markdown",
   "metadata": {},
   "source": [
    "We first need to load Y3 Gold catalogs in the overlapping region (training region) and split them into the cmass sample and non-cmass sample. "
   ]
  },
  {
   "cell_type": "code",
   "execution_count": 137,
   "metadata": {},
   "outputs": [
    {
     "name": "stdout",
     "output_type": "stream",
     "text": [
      "\n",
      "Calling catalogs >>>\n",
      "Y3_GOLD_2_0_STRIPE82_000001.fits\n",
      "Y3_GOLD_2_0_STRIPE82_000002.fits\n",
      "Y3_GOLD_2_0_STRIPE82_000003.fits\n",
      "Y3_GOLD_2_0_STRIPE82_000004.fits\n",
      "Y3_GOLD_2_0_STRIPE82_000005.fits\n",
      "Y3_GOLD_2_0_STRIPE82_000006.fits\n",
      "Y3_GOLD_2_0_STRIPE82_000007.fits\n",
      "Y3_GOLD_2_0_STRIPE82_000008.fits\n",
      "Y3_GOLD_2_0_STRIPE82_000009.fits\n",
      "reading 1/9 /n/des/lee.5922/data/gold_cat_Y3/STRIPE82/feae9705305d4430993687930f1cc3ad/Y3_GOLD_2_0_STRIPE82_000001.fits\n",
      "reading 2/9 /n/des/lee.5922/data/gold_cat_Y3/STRIPE82/feae9705305d4430993687930f1cc3ad/Y3_GOLD_2_0_STRIPE82_000002.fits\n",
      "reading 3/9 /n/des/lee.5922/data/gold_cat_Y3/STRIPE82/feae9705305d4430993687930f1cc3ad/Y3_GOLD_2_0_STRIPE82_000003.fits\n",
      "reading 4/9 /n/des/lee.5922/data/gold_cat_Y3/STRIPE82/feae9705305d4430993687930f1cc3ad/Y3_GOLD_2_0_STRIPE82_000004.fits\n",
      "reading 5/9 /n/des/lee.5922/data/gold_cat_Y3/STRIPE82/feae9705305d4430993687930f1cc3ad/Y3_GOLD_2_0_STRIPE82_000005.fits\n",
      "reading 6/9 /n/des/lee.5922/data/gold_cat_Y3/STRIPE82/feae9705305d4430993687930f1cc3ad/Y3_GOLD_2_0_STRIPE82_000006.fits\n",
      "reading 7/9 /n/des/lee.5922/data/gold_cat_Y3/STRIPE82/feae9705305d4430993687930f1cc3ad/Y3_GOLD_2_0_STRIPE82_000007.fits\n",
      "reading 8/9 /n/des/lee.5922/data/gold_cat_Y3/STRIPE82/feae9705305d4430993687930f1cc3ad/Y3_GOLD_2_0_STRIPE82_000008.fits\n",
      "reading 9/9 /n/des/lee.5922/data/gold_cat_Y3/STRIPE82/feae9705305d4430993687930f1cc3ad/Y3_GOLD_2_0_STRIPE82_000009.fits\n"
     ]
    }
   ],
   "source": [
    "# Calling Y3 GOLD v2.0 (training)\n",
    "# All catalogs are in the 'input_path' directory \n",
    "# The 'SearchAndCallFits' function below loads all \n",
    "# catalogs in the directory that include 'input_keyword' in its name\n",
    "input_path = '/n/des/lee.5922/data/gold_cat_Y3/STRIPE82/feae9705305d4430993687930f1cc3ad/'\n",
    "# call only first 9 catalogs for a fast run.\n",
    "# to call all catalogs in the directory, use 'Y3_GOLD' as input_keyword \n",
    "# but that will consume huge memory\n",
    "input_keyword = 'Y3_GOLD_2_0_STRIPE82_00000'  \n",
    "# Columns to call\n",
    "columns =  ['RA', 'DEC', \n",
    "            'HPIX_4096',     # Healpix in ring order, nside=4096\n",
    "            'COADD_OBJECT_ID', \n",
    "            'EBV_SFD98',\n",
    "            'EBV_LENZ17',\n",
    "            'EBV_Planck13',\n",
    "            'MAG_DETMODEL_G',\n",
    "            'MAG_DETMODEL_R',\n",
    "            'MAG_DETMODEL_I',\n",
    "            'MAG_DETMODEL_Z',\n",
    "            'MAGERR_DETMODEL_G',\n",
    "            'MAGERR_DETMODEL_R',\n",
    "            'MAGERR_DETMODEL_I',\n",
    "            'MAGERR_DETMODEL_Z',\n",
    "            'MAG_AUTO_I',\n",
    "            'SOF_CM_MAG_G', # mag_[griz]\n",
    "            'SOF_CM_MAG_R',\n",
    "            'SOF_CM_MAG_I',\n",
    "            'SOF_CM_MAG_Z',\n",
    "            'SOF_CM_MAG_ERR_G',       # mag error_[griz]\n",
    "            'SOF_CM_MAG_ERR_R',\n",
    "            'SOF_CM_MAG_ERR_I',\n",
    "            'SOF_CM_MAG_ERR_Z',\n",
    "            'MOF_CM_MAG_G', # mag_[griz]\n",
    "            'MOF_CM_MAG_R',\n",
    "            'MOF_CM_MAG_I',\n",
    "            'MOF_CM_MAG_Z',\n",
    "            'MOF_CM_MAG_ERR_G',       # mag error_[griz]\n",
    "            'MOF_CM_MAG_ERR_R',\n",
    "            'MOF_CM_MAG_ERR_I',\n",
    "            'MOF_CM_MAG_ERR_Z'\n",
    "            ]\n",
    "gold_st82 = io.SearchAndCallFits(path = input_path, keyword = input_keyword, columns=None)"
   ]
  },
  {
   "cell_type": "code",
   "execution_count": 138,
   "metadata": {},
   "outputs": [
    {
     "name": "stdout",
     "output_type": "stream",
     "text": [
      "Correct Reddening with SFD98\n",
      "  Adding Reddening from  MAG_DETMODEL\n",
      "  Adding Reddening from  SOF_CM_MAG\n",
      "  Adding Reddening from  MOF_CM_MAG\n",
      "  Adding Reddening from  MAG_AUTO\n"
     ]
    }
   ],
   "source": [
    "from utils import AddingReddening\n",
    "gold_st82 = AddingReddening(gold_st82, kind='SFD98')\n",
    "\n",
    "# Color/Magnitude cuts to exclude extremely high or low mag/color sources.\n",
    "# 16 < mag_riz < 24, 0 < (r-i) < 1.5, 0 < (g-r) < 2.5\n",
    "# These galaxies are less likeliy to be a CMASS, therefore unnecessary. \n",
    "# We apply these cuts to reduce the sample size to speed up the codes\n",
    "mask_magcut = priorCut_Y1(gold_st82)\n",
    "gold_st82 = gold_st82[mask_magcut]"
   ]
  },
  {
   "cell_type": "markdown",
   "metadata": {},
   "source": [
    "Loading BOSS CMASS photometric sample"
   ]
  },
  {
   "cell_type": "code",
   "execution_count": 139,
   "metadata": {},
   "outputs": [],
   "source": [
    "# cmass catalog is stored in cosmos machine\n",
    "cmass_filename = '/n/des/lee.5922/data/cmass_cat/cmass-dr12v4-S-Reid-full.dat.fits'\n",
    "cmass = esutil.io.read(cmass_filename)\n",
    "\n",
    "# Add healpix index (nside=4096) to the CMASS catalog\n",
    "healConfig = {'map_inside':4096,\n",
    "              'out_nside':4096,\n",
    "              'nest':False}\n",
    "cmass = HealPixifyCatalogs(catalog=cmass, healConfig=healConfig, ratag='RA', dectag = 'DEC')"
   ]
  },
  {
   "cell_type": "markdown",
   "metadata": {},
   "source": [
    "Now we find the CMASS galaxies in the DES Y3 GOLD catalog by matching positions of galaxies.  "
   ]
  },
  {
   "cell_type": "code",
   "execution_count": 140,
   "metadata": {},
   "outputs": [],
   "source": [
    "# this function returns indices of common galaxies (CMASS) in each catalog. \n",
    "# mg1: indices of common galaxies in cmass catalog\n",
    "# mg2: indicies of common galaxies in Y3 GOLD catalog \n",
    "mg1, mg2, _ = esutil.htm.HTM(10).match(cmass['RA'], cmass['DEC'], gold_st82['RA'], \\\n",
    "                                     gold_st82['DEC'],2./3600, maxmatch=1)\n",
    "# Apply indices to each catalog to select common galaxies. \n",
    "# Selected galaxies are then ordered in the same way. \n",
    "# (i.e clean_cmass_data_sdss[0] and clean_cmass_data_des[0] are the same galaxy) \n",
    "clean_cmass_data_sdss = cmass[mg1]           # common galaxies in cmass catalog\n",
    "clean_cmass_data_des = gold_st82[mg2] # common galaxies in Y3 Gold\n",
    "\n",
    "# We also need non-CMASS galaxies in the DES Y3 gold catalog\n",
    "cmass_mask = np.zeros(gold_st82.size, dtype=bool)\n",
    "cmass_mask[mg2] = 1\n",
    "nocmass = gold_st82[~cmass_mask]"
   ]
  },
  {
   "cell_type": "code",
   "execution_count": 141,
   "metadata": {},
   "outputs": [],
   "source": [
    "from utils import matchCatalogs, matchCatalogsbyPosition"
   ]
  },
  {
   "cell_type": "code",
   "execution_count": 131,
   "metadata": {},
   "outputs": [],
   "source": [
    "dmass_y1 = esutil.io.read('/n/des/lee.5922/Dropbox/repositories/CMASS/code/output/sfd_train_photo_SamPle_nozband_ran10_3_full_tol1e5/train_sample_des.fits')\n",
    "from utils import appendColumn\n",
    "#dmass_y1 = appendColumn( dmass_y1, name='COADD_OBJECT_ID', value=dmass_y1['COADD_OBJECTS_ID'] )\n",
    "dmass_y1, dmass_y3 = matchCatalogsbyPosition(dmass_y1, clean_cmass_data_des)"
   ]
  },
  {
   "cell_type": "code",
   "execution_count": 132,
   "metadata": {},
   "outputs": [],
   "source": [
    "coeff = [3.186,2.140,1.569,1.196 ]"
   ]
  },
  {
   "cell_type": "code",
   "execution_count": 133,
   "metadata": {},
   "outputs": [
    {
     "data": {
      "text/plain": [
       "<matplotlib.legend.Legend at 0x7f0370fde100>"
      ]
     },
     "execution_count": 133,
     "metadata": {},
     "output_type": "execute_result"
    },
    {
     "data": {
      "image/png": "[encoded data removed]",
      "text/plain": [
       "<Figure size 360x360 with 1 Axes>"
      ]
     },
     "metadata": {
      "needs_background": "light"
     },
     "output_type": "display_data"
    }
   ],
   "source": [
    "fig, ax =plt.subplots(figsize=(5,5))\n",
    "#ax.plot( clean_cmass_data_des['SOF_CM_MAG_CORRECTED_G'], clean_cmass_data_des['MOF_CM_MAG_CORRECTED_G'], '.', alpha=0.1  )\n",
    "#ax.plot( clean_cmass_data_des['SOF_CM_MAG_CORRECTED_G'], clean_cmass_data_des['MAG_DETMODEL_G'], 'r.', alpha=0.1  )\n",
    "\n",
    "#ax.plot( dmass_y1['MAG_DETMODEL_I'], dmass_y3['MAG_DETMODEL_I'], '.', alpha=0.5, label='detmodel'  )\n",
    "#ax.plot( dmass_y1['MAG_DETMODEL_I'], dmass_y3['MAG_DETMODEL_I']-dmass_y3['EBV_SFD98'], '.', alpha=0.5, label='detmodel'  )\n",
    "ax.plot( dmass_y1['MAG_DETMODEL_I'], dmass_y3['MAG_DETMODEL_I'], '.', alpha=0.5, label='detmodel'  )\n",
    "\n",
    "\n",
    "\n",
    "#ax.plot( dmass_y1['MAG_DETMODEL_I'], dmass_y3['MAG_AUTO_I']+dmass_y3['EBV_SFD98'], '.', alpha=0.2, label='auto'  )\n",
    "#ax.plot( dmass_y1['MAG_DETMODEL_I'], dmass_y3['MOF_CM_MAG_I']+dmass_y3['EBV_SFD98'], '.', alpha=0.2, label='mof'  )\n",
    "\n",
    "ax.plot( np.linspace(0,25,10), np.linspace(0,25,10), 'k--' )\n",
    "\n",
    "ax.set_ylabel('Y1 mag_detmodel')\n",
    "ax.set_xlabel('Y3 mag_x')\n",
    "ax.set_xlim(18, 21)\n",
    "ax.set_ylim(18, 21)\n",
    "ax.legend()"
   ]
  },
  {
   "cell_type": "code",
   "execution_count": 135,
   "metadata": {},
   "outputs": [
    {
     "data": {
      "text/plain": [
       "<matplotlib.legend.Legend at 0x7f03715f9190>"
      ]
     },
     "execution_count": 135,
     "metadata": {},
     "output_type": "execute_result"
    },
    {
     "data": {
      "image/png": "[encoded data removed]",
      "text/plain": [
       "<Figure size 360x360 with 1 Axes>"
      ]
     },
     "metadata": {
      "needs_background": "light"
     },
     "output_type": "display_data"
    }
   ],
   "source": [
    "fig, ax =plt.subplots(figsize=(5,5))\n",
    "#ax.plot( clean_cmass_data_des['SOF_CM_MAG_CORRECTED_G'], clean_cmass_data_des['MOF_CM_MAG_CORRECTED_G'], '.', alpha=0.1  )\n",
    "#ax.plot( clean_cmass_data_des['SOF_CM_MAG_CORRECTED_G'], clean_cmass_data_des['MAG_DETMODEL_G'], 'r.', alpha=0.1  )\n",
    "ax.plot( dmass_y1['MAG_MODEL_I'], dmass_y3['MAG_DETMODEL_I'], '.', alpha=0.2, label='detmodel'  )\n",
    "ax.plot( dmass_y1['MAG_MODEL_I'], dmass_y3['MAG_AUTO_I'], 'r.', alpha=0.2, label='auto'  )\n",
    "ax.plot( dmass_y1['MAG_MODEL_I'], dmass_y3['MOF_CM_MAG_I'], 'g.', alpha=0.2, label='mof'  )\n",
    "#ax.plot( dmass_y1['MAG_MODEL_I'], dmass_y3['MOF_CM_MAG_I']-dmass_y3['EBV_SFD98']*coeff[2], 'k.', alpha=0.2, label='sof'  )\n",
    "\n",
    "\n",
    "\n",
    "\n",
    "ax.plot( np.linspace(0,25,10), np.linspace(0,25,10), 'k--' )\n",
    "\n",
    "ax.set_ylabel('Y1 mag_model')\n",
    "ax.set_xlabel('Y3 mag_x')\n",
    "ax.set_xlim(18, 21)\n",
    "ax.set_ylim(18, 21)\n",
    "ax.legend()"
   ]
  },
  {
   "cell_type": "code",
   "execution_count": 126,
   "metadata": {},
   "outputs": [
    {
     "data": {
      "text/plain": [
       "<matplotlib.legend.Legend at 0x7f03712adf40>"
      ]
     },
     "execution_count": 126,
     "metadata": {},
     "output_type": "execute_result"
    },
    {
     "data": {
      "image/png": "[encoded data removed]",
      "text/plain": [
       "<Figure size 360x360 with 1 Axes>"
      ]
     },
     "metadata": {
      "needs_background": "light"
     },
     "output_type": "display_data"
    }
   ],
   "source": [
    "fig, ax =plt.subplots(figsize=(5,5))\n",
    "#ax.plot( clean_cmass_data_des['SOF_CM_MAG_CORRECTED_G'], clean_cmass_data_des['MOF_CM_MAG_CORRECTED_G'], '.', alpha=0.1  )\n",
    "#ax.plot( clean_cmass_data_des['SOF_CM_MAG_CORRECTED_G'], clean_cmass_data_des['MAG_DETMODEL_G'], 'r.', alpha=0.1  )\n",
    "ax.plot( dmass_y3['SOF_CM_MAG_CORRECTED_I'], dmass_y3['SOF_CM_MAG_I']-dmass_y3['EBV_SFD98']*coeff[2], '.', alpha=0.2, label='detmodel'  )\n",
    "#ax.plot( dmass_y1['MAG_MODEL_I'], dmass_y3['MOF_CM_MAG_I']-dmass_y3['EBV_SFD98']*coeff[2], 'k.', alpha=0.2, label='sof'  )\n",
    "\n",
    "\n",
    "\n",
    "\n",
    "ax.plot( np.linspace(0,25,10), np.linspace(0,25,10), 'k--' )\n",
    "\n",
    "ax.set_ylabel('Y1 mag_model')\n",
    "ax.set_xlabel('Y3 mag_x')\n",
    "ax.set_xlim(18, 21)\n",
    "ax.set_ylim(18, 21)\n",
    "ax.legend()"
   ]
  },
  {
   "cell_type": "code",
   "execution_count": 86,
   "metadata": {},
   "outputs": [],
   "source": [
    "# save the samples. \n",
    "outdir = '../output/test/train_cat/'\n",
    "os.makedirs(outdir, exist_ok=True)\n",
    "esutil.io.write( outdir+'train_cmass_sample_sdss.fits', clean_cmass_data_sdss, clobber=True)\n",
    "esutil.io.write( outdir+'train_cmass_sample_des.fits', clean_cmass_data_des, clobber=True)\n",
    "esutil.io.write( outdir+'train_non_cmass_sample_des.fits', nocmass, clobber=True)"
   ]
  },
  {
   "cell_type": "code",
   "execution_count": 142,
   "metadata": {},
   "outputs": [
    {
     "data": {
      "image/png": "[encoded data removed]",
      "text/plain": [
       "<Figure size 720x576 with 1 Axes>"
      ]
     },
     "metadata": {
      "needs_background": "light"
     },
     "output_type": "display_data"
    }
   ],
   "source": [
    "# Plotting footprint\n",
    "spatialcheck([cmass, clean_cmass_data_des], \n",
    "             label = ['CMASS', 'CMASS in train'], convert = None, ratag='RA',dectag='DEC')"
   ]
  },
  {
   "cell_type": "markdown",
   "metadata": {},
   "source": [
    "# Training the algorithm"
   ]
  },
  {
   "cell_type": "code",
   "execution_count": 59,
   "metadata": {},
   "outputs": [],
   "source": [
    "# call saved training samples\n",
    "outdir = '../output/test/train_cat/'\n",
    "clean_cmass_data_des = esutil.io.read( outdir+'train_cmass_sample_des.fits')\n",
    "nocmass = esutil.io.read( outdir+'train_non_cmass_sample_des.fits')\n",
    "cmass_fraction = clean_cmass_data_des.size *1./(clean_cmass_data_des.size + nocmass.size)"
   ]
  },
  {
   "cell_type": "code",
   "execution_count": 144,
   "metadata": {},
   "outputs": [
    {
     "name": "stdout",
     "output_type": "stream",
     "text": [
      "random sampling... \n",
      "num of randomly sampled cmass  3858\n",
      "num of randomly sampled non-cmass  54534\n",
      "cmass_fraction (cmass/non-cmass):  0.007024724919565261\n"
     ]
    }
   ],
   "source": [
    "# For a fast run, we draw a random sample to reduce the sample size. \n",
    "# Larger sample tends to make a better model but the sample size is not always proportional to the accuracy of the model. \n",
    "\n",
    "# Put sample size you want \n",
    "n_sample =  int(clean_cmass_data_des.size)  # train cmass sample size\n",
    "n_sample_non = int(nocmass.size/10)          # train non-cmass sample size\n",
    "\n",
    "print('random sampling... ')\n",
    "sampling_ind = np.random.choice(np.arange(clean_cmass_data_des.size), size = n_sample)\n",
    "clean_cmass_data_des_sub = clean_cmass_data_des[sampling_ind]\n",
    "print('num of randomly sampled cmass ', clean_cmass_data_des_sub.size)\n",
    "random_sampling_ind = np.random.choice(np.arange(nocmass.size), size = n_sample_non )\n",
    "nocmass_sub = nocmass[random_sampling_ind]\n",
    "print('num of randomly sampled non-cmass ', nocmass_sub.size)\n",
    "\n",
    "# The fraction of CMASS galaxies in the training region.\n",
    "# This number is required to put a prior for the Bayesian statistics \n",
    "cmass_fraction = clean_cmass_data_des.size *1./(clean_cmass_data_des.size + nocmass.size)\n",
    "print('cmass_fraction (cmass/non-cmass): ', cmass_fraction)\n",
    "#outdir = '../output/test/fitting/'\n",
    "#os.makedirs(outdir, exist_ok=True)\n",
    "#f = open(outdir+'cmassfrac', 'w')\n",
    "#f.write('{0:.10f}'.format(cmass_fraction))\n",
    "#f.close()"
   ]
  },
  {
   "cell_type": "markdown",
   "metadata": {},
   "source": [
    "### Model Fitting"
   ]
  },
  {
   "cell_type": "code",
   "execution_count": 150,
   "metadata": {},
   "outputs": [],
   "source": [
    "# number of gaussian mixtures\n",
    "# Set None for a initial run. The algorithm automatically finds an optimal number\n",
    "n_cmass = None    # for cmass\n",
    "n_no = None       # for non-cmass \n",
    "\n",
    "# number of XD iteration. \n",
    "# I set these numbers small for a fast run but generally\n",
    "# should be run until the XD algorithm converges (more than 10000 iterations)\n",
    "n_iter_cmass = 10\n",
    "n_iter_no = 1\n",
    "# tolerance\n",
    "tol = 1E-5\n",
    "\n",
    "# Fitted parameters and covariance will be stored as a pickle\n",
    "rootdir = '../output/test_cmass_detmodel_mof/'\n",
    "outdir = rootdir+'/fitting/'\n",
    "os.makedirs(outdir, exist_ok=True)\n",
    "cmass_pickle = outdir+'gm_cmass.pkl'\n",
    "no_pickle = outdir+'gm_no.pkl'"
   ]
  },
  {
   "cell_type": "code",
   "execution_count": 148,
   "metadata": {},
   "outputs": [],
   "source": [
    "# Magnitudes and corresponding errors you want to use to train the algorithm. \n",
    "# `mixing_color` automatically constructs [mag g, mag r, color (g-r), color (r-i)] and \n",
    "# its 4x4 covariance matrix from the input magnitudes. \n",
    "# I simply put `SOF_CM_MAG_CORRECTED` magnitudes for now. \n",
    "# If you want to use different combinations of mags and colors, \n",
    "# modify `mixing_color` or build your own function. \n",
    "#mag = ['SOF_CM_MAG_CORRECTED', 'SOF_CM_MAG_CORRECTED' ]\n",
    "#err = ['SOF_CM_MAG_ERR', 'SOF_CM_MAG_ERR']\n",
    "mag = ['MAG_DETMODEL', 'SOF_CM_MAG' ]\n",
    "err = ['MAGERR_DETMODEL', 'SOF_CM_MAG_ERR']\n",
    "filter = ['G', 'R', 'I']\n",
    "\n",
    "# This generates four columns of cmass training sample. order : mag r, mag i, (g-r), (r-i)\n",
    "X_cmass_true, X_cmass_cov = mixing_color(clean_cmass_data_des_sub, \n",
    "                mag = mag, err=err, filter=filter, \n",
    "                no_zband = True )\n",
    "\n",
    "# This generates four columns of non-cmass training sample. order : mag r, mag i, (g-r), (r-i)\n",
    "X_no_true, X_no_cov = mixing_color(nocmass_sub, \n",
    "                mag = mag, err=err, filter=filter, \n",
    "                no_zband = True )"
   ]
  },
  {
   "cell_type": "code",
   "execution_count": 149,
   "metadata": {},
   "outputs": [
    {
     "name": "stdout",
     "output_type": "stream",
     "text": [
      "@pickle_results: computing results and saving to '../output/test_cmass_detmodel_mof/fitting/gm_cmass.pkl'\n",
      "@pickle_results: computing results and saving to '../output/test_cmass_detmodel_mof/fitting/gm_cmass.pkl.n_cluster'\n",
      "Finding optimal number of cluster : 100 % \n",
      "best fit converged: True  n_components =  6\n",
      "n components = 6\n",
      "tolerance = 1e-05\n"
     ]
    },
    {
     "name": "stderr",
     "output_type": "stream",
     "text": [
      "/n/des/lee.5922/programs/anaconda3/envs/env_py3/lib/python3.8/site-packages/sklearn/mixture/_base.py:265: ConvergenceWarning: Initialization 1 did not converge. Try different init parameters, or increase max_iter, tol or check for degenerate data.\n",
      "  warnings.warn('Initialization %d did not converge. '\n"
     ]
    },
    {
     "name": "stdout",
     "output_type": "stream",
     "text": [
      "1: log(L) = 10453.84205\n",
      "    (3.6 sec)\n",
      "2: log(L) = 10527.39446\n",
      "    (3.6 sec)\n",
      "3: log(L) = 10582.99012\n",
      "    (3.7 sec)\n",
      "4: log(L) = 10627.18056\n",
      "    (3.7 sec)\n",
      "5: log(L) = 10663.19014\n",
      "    (3.7 sec)\n",
      "6: log(L) = 10693.22823\n",
      "    (3.7 sec)\n",
      "7: log(L) = 10725.68041\n",
      "    (3.7 sec)\n",
      "8: log(L) = 10861.16954\n",
      "    (3.6 sec)\n",
      "9: log(L) = 10929.47654\n",
      "    (3.6 sec)\n",
      "10: log(L) = 10965.75947\n",
      "    (3.6 sec)\n",
      "elapsed time: 0.54 min,  total iteration 9                                 \n",
      "@pickle_results: computing results and saving to '../output/test_cmass_detmodel_mof/fitting/gm_no.pkl'\n",
      "@pickle_results: computing results and saving to '../output/test_cmass_detmodel_mof/fitting/gm_no.pkl.n_cluster'\n",
      "Finding optimal number of cluster : 100 % \n",
      "best fit converged: True  n_components =  38\n"
     ]
    },
    {
     "name": "stderr",
     "output_type": "stream",
     "text": [
      "/n/des/lee.5922/programs/anaconda3/envs/env_py3/lib/python3.8/site-packages/sklearn/mixture/_base.py:265: ConvergenceWarning: Initialization 1 did not converge. Try different init parameters, or increase max_iter, tol or check for degenerate data.\n",
      "  warnings.warn('Initialization %d did not converge. '\n"
     ]
    },
    {
     "name": "stdout",
     "output_type": "stream",
     "text": [
      "n components = 38\n",
      "tolerance = 1e-05\n",
      "1: log(L) = 29684.8887\n",
      "    (28 sec)\n",
      "elapsed time: 0.00 min,  total iteration 0                                 \n"
     ]
    }
   ],
   "source": [
    "# Run XD Fitting. This will take a while \n",
    "clf_cmass = XD_fitting_X( X_cmass_true, X_cmass_cov, pickleFileName = cmass_pickle, \n",
    "                       n_cl = n_cmass, n_iter = n_iter_cmass, tol = tol, \n",
    "                       verbose = True, init_params= None)                 \n",
    "clf_no = XD_fitting_X( X_no_true, X_no_cov, pickleFileName = no_pickle, \n",
    "                    n_cl = n_no, n_iter = n_iter_no, tol = tol, \n",
    "                    verbose = True, init_params = None)"
   ]
  },
  {
   "cell_type": "markdown",
   "metadata": {},
   "source": [
    "# Validation of the fitted XD model"
   ]
  },
  {
   "cell_type": "code",
   "execution_count": 25,
   "metadata": {},
   "outputs": [],
   "source": [
    "# call saved pickles if you empty memory. Otherwise skip it \n",
    "outdir = rootdir+'/fitting/'\n",
    "cmass_pickle = outdir+'gm_cmass.pkl'\n",
    "no_pickle = outdir+'gm_no.pkl'\n",
    "clf_cmass = XD_fitting_X( None, None, pickleFileName = cmass_pickle)               \n",
    "clf_no = XD_fitting_X( None, None, pickleFileName = no_pickle)\n",
    "cmass_fraction=float(open(outdir+'cmassfrac', 'r').readline())"
   ]
  },
  {
   "cell_type": "code",
   "execution_count": 151,
   "metadata": {},
   "outputs": [],
   "source": [
    "# We will generate a random sample from the fitted model and compare the resulting samples with the training sample\n",
    "# If the model is correct, the random sample should match with the training sample\n",
    "X_sample_cmass = clf_cmass.sample(200000)  # cmass model\n",
    "X_sample_no = clf_no.sample(200000)        # non-cmass model"
   ]
  },
  {
   "cell_type": "code",
   "execution_count": 152,
   "metadata": {},
   "outputs": [
    {
     "name": "stdout",
     "output_type": "stream",
     "text": [
      "Using central 98% to set range.\n",
      "Ttest_indResult(statistic=-0.1957357671773843, pvalue=0.8448171828032475)\n",
      "Ttest_indResult(statistic=-0.219044840285861, pvalue=0.8266153376125791)\n",
      "Ttest_indResult(statistic=0.8166187348080047, pvalue=0.41414729948243845)\n",
      "Ttest_indResult(statistic=-0.028469033571869157, pvalue=0.9772880935117236)\n",
      "KstestResult(statistic=0.002148338467744898, pvalue=0.988759371316389)\n",
      "KstestResult(statistic=0.004952838412733418, pvalue=0.24311136948977885)\n",
      "KstestResult(statistic=0.011769766200902199, pvalue=1.3855871959610326e-05)\n",
      "KstestResult(statistic=0.0074427986210437586, pvalue=0.017262450666686715)\n"
     ]
    },
    {
     "data": {
      "image/png": "[encoded data removed]",
      "text/plain": [
       "<Figure size 1152x288 with 4 Axes>"
      ]
     },
     "metadata": {
      "needs_background": "light"
     },
     "output_type": "display_data"
    }
   ],
   "source": [
    "# Comparison. train vs. randoms from the fitted gaussian mixture model\n",
    "doVisualization_1d( data=[X_cmass_true, X_sample_cmass], \n",
    "                   labels = ['mag r', 'mag i', 'g-r', 'r-i'], \n",
    "                   ranges = None, \n",
    "                   name = ['train sample', 'model sample'], \n",
    "                   weight = [None,None], \n",
    "                   nbins=100)\n",
    "\n",
    "# Statistical significance tests\n",
    "for i in range(4):\n",
    "    res = scipy.stats.ttest_ind(X_cmass_true[:,i], X_sample_cmass[:,i])\n",
    "    print(res)\n",
    "for i in range(4):\n",
    "    res = scipy.stats.ks_2samp(X_no_true[:,i], X_sample_no[:,i])\n",
    "    print (res)\n",
    "    #weight_true = np.ones(X_sample_cmass[:,i].size)\n",
    "    #weight_sample = np.ones(X_sample_cmass[:,i].size)\n",
    "    #res = ks_weighted(X_cmass_true[:,i], X_sample_cmass[:,i], weight_true, weight_sample)\n",
    "    #print (res)"
   ]
  },
  {
   "cell_type": "code",
   "execution_count": 153,
   "metadata": {},
   "outputs": [
    {
     "name": "stdout",
     "output_type": "stream",
     "text": [
      "Using central 98% to set range.\n",
      "Ttest_indResult(statistic=0.046292269890592146, pvalue=0.9630773367566206)\n",
      "Ttest_indResult(statistic=-0.02791274477264552, pvalue=0.9777317654291571)\n",
      "Ttest_indResult(statistic=1.653573770696181, pvalue=0.09821537886129603)\n",
      "Ttest_indResult(statistic=0.2911770121722162, pvalue=0.7709161801192914)\n",
      "KstestResult(statistic=0.002148338467744898, pvalue=0.988759371316389)\n",
      "KstestResult(statistic=0.004952838412733418, pvalue=0.24311136948977885)\n",
      "KstestResult(statistic=0.011769766200902199, pvalue=1.3855871959610326e-05)\n",
      "KstestResult(statistic=0.0074427986210437586, pvalue=0.017262450666686715)\n"
     ]
    },
    {
     "data": {
      "image/png": "[encoded data removed]",
      "text/plain": [
       "<Figure size 1152x288 with 4 Axes>"
      ]
     },
     "metadata": {
      "needs_background": "light"
     },
     "output_type": "display_data"
    }
   ],
   "source": [
    "# Comparison. train vs. randoms for non-cmass\n",
    "doVisualization_1d( data=[X_no_true, X_sample_no], \n",
    "                   labels = ['mag r', 'mag i', 'g-r', 'r-i'], \n",
    "                   ranges = None, \n",
    "                   name = ['train sample', 'model sample'], \n",
    "                   weight = [None,None], \n",
    "                   nbins=100)\n",
    "\n",
    "# Statistical significance tests\n",
    "for i in range(4):\n",
    "    res = scipy.stats.ttest_ind(X_no_true[:,i], X_sample_no[:,i])\n",
    "    print(res)\n",
    "for i in range(4):\n",
    "    res = scipy.stats.ks_2samp(X_no_true[:,i], X_sample_no[:,i])\n",
    "    print (res)"
   ]
  },
  {
   "cell_type": "markdown",
   "metadata": {},
   "source": [
    "If model samples agree with the training samples, we will use the fitted model to assign a CMASS membership probability to the Y3 Gold galaxies. First, try with the training region. As the model is trained with the training region, the assigned probability should reflect the color distributions of the taining galaxies. "
   ]
  },
  {
   "cell_type": "code",
   "execution_count": 193,
   "metadata": {},
   "outputs": [
    {
     "name": "stdout",
     "output_type": "stream",
     "text": [
      "calculate loglikelihood gaussian with multiprocessing module\n",
      "['MAG_DETMODEL_R', 'MAG_DETMODEL_I', 'SOF_CM_MAG_G', 'SOF_CM_MAG_R', 'SOF_CM_MAG_I']\n",
      "multiprocessing 100 % \n"
     ]
    }
   ],
   "source": [
    "# For a fast run, we use a subset of y3 gold selected randomly.  \n",
    "# Generate random indices, sample size 100,000\n",
    "rand_ind = np.random.choice(np.arange(gold_st82.size), size = 500000)\n",
    "gold_st82_sub = gold_st82[rand_ind]\n",
    "\n",
    "# Assigning CMASS probabilities to Gold Y3 in Stripe 82.\n",
    "gold_st82_test = assignCMASSProb(gold_st82_sub, clf_cmass, clf_no, \n",
    "                     cmass_fraction = cmass_fraction, \n",
    "                     mag=mag, err=err, filter=filter )"
   ]
  },
  {
   "cell_type": "markdown",
   "metadata": {},
   "source": [
    "The probability is saved into the `CMASS_PROB` column. `y3 gold` galaxies should be weighted with this column to be a DMASS galaxy. Now we will compare the color/magnitude distributions of the weighted `y3 gold` galaxies (DMASS) with the training sample"
   ]
  },
  {
   "cell_type": "code",
   "execution_count": 194,
   "metadata": {},
   "outputs": [
    {
     "name": "stdout",
     "output_type": "stream",
     "text": [
      "['MAG_DETMODEL_R', 'MAG_DETMODEL_I', 'SOF_CM_MAG_G', 'SOF_CM_MAG_R', 'SOF_CM_MAG_I']\n"
     ]
    }
   ],
   "source": [
    "# Generate Four columns of data : mag r, mag i, (g-r), (r-i)\n",
    "X_dmass_st82, Xcov = mixing_color(gold_st82_test, \n",
    "                mag = mag, \n",
    "                err = err, \n",
    "                filter = filter,\n",
    "                no_zband = True  )"
   ]
  },
  {
   "cell_type": "code",
   "execution_count": 117,
   "metadata": {},
   "outputs": [],
   "source": [
    "from scipy.stats import distributions\n",
    "def ks_weighted(data1, data2, wei1, wei2, alternative='two-sided'):\n",
    "    ix1 = np.argsort(data1)\n",
    "    ix2 = np.argsort(data2)\n",
    "    data1 = data1[ix1]\n",
    "    data2 = data2[ix2]\n",
    "    wei1 = wei1[ix1]\n",
    "    wei2 = wei2[ix2]\n",
    "    data = np.concatenate([data1, data2])\n",
    "    cwei1 = np.hstack([0, np.cumsum(wei1)/sum(wei1)])\n",
    "    cwei2 = np.hstack([0, np.cumsum(wei2)/sum(wei2)])\n",
    "    cdf1we = cwei1[np.searchsorted(data1, data, side='right')]\n",
    "    cdf2we = cwei2[np.searchsorted(data2, data, side='right')]\n",
    "    d = np.max(np.abs(cdf1we - cdf2we))\n",
    "    # calculate p-value\n",
    "    n1 = data1.shape[0]\n",
    "    n2 = data2.shape[0]\n",
    "    m, n = sorted([float(n1), float(n2)], reverse=True)\n",
    "    en = m * n / (m + n)\n",
    "    if alternative == 'two-sided':\n",
    "        prob = distributions.kstwo.sf(d, np.round(en))\n",
    "    else:\n",
    "        z = np.sqrt(en) * d\n",
    "        # Use Hodges' suggested approximation Eqn 5.3\n",
    "        # Requires m to be the larger of (n1, n2)\n",
    "        expt = -2 * z**2 - 2 * z * (m + 2*n)/np.sqrt(m*n*(m+n))/3.0\n",
    "        prob = np.exp(expt)\n",
    "    return d, prob"
   ]
  },
  {
   "cell_type": "code",
   "execution_count": 197,
   "metadata": {},
   "outputs": [
    {
     "name": "stdout",
     "output_type": "stream",
     "text": [
      "Using central 98% to set range.\n",
      "(124.16490882825154, 0.0, 201305.29341748278)\n",
      "(87.73057176910858, 0.0, 201305.29341748278)\n",
      "(167.11190225009236, 0.0, 201305.29341748278)\n",
      "(151.20708315426208, 0.0, 201305.29341748278)\n"
     ]
    },
    {
     "ename": "NameError",
     "evalue": "name 'ks_weighted' is not defined",
     "output_type": "error",
     "traceback": [
      "\u001b[0;31m---------------------------------------------------------------------------\u001b[0m",
      "\u001b[0;31mNameError\u001b[0m                                 Traceback (most recent call last)",
      "\u001b[0;32m<ipython-input-197-0b93e7be7f43>\u001b[0m in \u001b[0;36m<module>\u001b[0;34m\u001b[0m\n\u001b[1;32m     19\u001b[0m     \u001b[0;31m#res = scipy.stats.ks_2samp(X_sample_cmass[:,i], X_dmass_st82[:,i])\u001b[0m\u001b[0;34m\u001b[0m\u001b[0;34m\u001b[0m\u001b[0;34m\u001b[0m\u001b[0m\n\u001b[1;32m     20\u001b[0m     \u001b[0mweight_one\u001b[0m \u001b[0;34m=\u001b[0m \u001b[0mnp\u001b[0m\u001b[0;34m.\u001b[0m\u001b[0mones\u001b[0m\u001b[0;34m(\u001b[0m\u001b[0mX_sample_cmass\u001b[0m\u001b[0;34m[\u001b[0m\u001b[0;34m:\u001b[0m\u001b[0;34m,\u001b[0m\u001b[0mi\u001b[0m\u001b[0;34m]\u001b[0m\u001b[0;34m.\u001b[0m\u001b[0msize\u001b[0m\u001b[0;34m)\u001b[0m\u001b[0;34m\u001b[0m\u001b[0;34m\u001b[0m\u001b[0m\n\u001b[0;32m---> 21\u001b[0;31m     \u001b[0mres\u001b[0m \u001b[0;34m=\u001b[0m \u001b[0mks_weighted\u001b[0m\u001b[0;34m(\u001b[0m\u001b[0mX_sample_cmass\u001b[0m\u001b[0;34m[\u001b[0m\u001b[0;34m:\u001b[0m\u001b[0;34m,\u001b[0m\u001b[0mi\u001b[0m\u001b[0;34m]\u001b[0m\u001b[0;34m,\u001b[0m \u001b[0mX_dmass_st82\u001b[0m\u001b[0;34m[\u001b[0m\u001b[0;34m:\u001b[0m\u001b[0;34m,\u001b[0m\u001b[0mi\u001b[0m\u001b[0;34m]\u001b[0m\u001b[0;34m,\u001b[0m \u001b[0mweight_one\u001b[0m\u001b[0;34m,\u001b[0m \u001b[0mweight_dmass\u001b[0m\u001b[0;34m)\u001b[0m\u001b[0;34m\u001b[0m\u001b[0;34m\u001b[0m\u001b[0m\n\u001b[0m\u001b[1;32m     22\u001b[0m     \u001b[0mprint\u001b[0m \u001b[0;34m(\u001b[0m\u001b[0mres\u001b[0m\u001b[0;34m)\u001b[0m\u001b[0;34m\u001b[0m\u001b[0;34m\u001b[0m\u001b[0m\n",
      "\u001b[0;31mNameError\u001b[0m: name 'ks_weighted' is not defined"
     ]
    },
    {
     "data": {
      "image/png": "[encoded data removed]",
      "text/plain": [
       "<Figure size 1152x288 with 4 Axes>"
      ]
     },
     "metadata": {
      "needs_background": "light"
     },
     "output_type": "display_data"
    }
   ],
   "source": [
    "# Comparison plot for the training sample (cmass) vs. dmass sample selected in the training region\n",
    "# DMASS sample should be weighted by 'CMASS_PROB' column when plotting\n",
    "weight_dmass = gold_st82_test['CMASS_PROB']\n",
    "weight_one = np.ones(X_sample_cmass[:,0].size)\n",
    "doVisualization_1d( data=[X_sample_cmass, X_dmass_st82], \n",
    "                   weight = [None, None], # put DMASS weight here \n",
    "                   labels = ['mag r', 'mag i', 'g-r', 'r-i'], \n",
    "                   ranges = None, \n",
    "                   name = ['train sample', 'dmass in the training region'], \n",
    "                   nbins=100)\n",
    "\n",
    "# Statistical significance tests\n",
    "from statsmodels.stats.weightstats import ttest_ind\n",
    "for i in range(4):\n",
    "    res = ttest_ind(X_sample_cmass[:,i], X_dmass_st82[:,i], weights=(None, weight_dmass))\n",
    "    print(res)\n",
    "for i in range(4):\n",
    "    #KS test should be weighted (not weighted here)\n",
    "    #res = scipy.stats.ks_2samp(X_sample_cmass[:,i], X_dmass_st82[:,i])\n",
    "    weight_one = np.ones(X_sample_cmass[:,i].size)\n",
    "    res = ks_weighted(X_sample_cmass[:,i], X_dmass_st82[:,i], weight_one, weight_dmass)\n",
    "    print (res)"
   ]
  },
  {
   "cell_type": "markdown",
   "metadata": {},
   "source": [
    "# Apply the fitted model to galaxies outside the training region"
   ]
  },
  {
   "cell_type": "markdown",
   "metadata": {},
   "source": [
    "If the fitted model works well in the training region, we will apply the model to `y3 gold` galaxies outside the training region. We call a small patch of `y3 gold` at `-40 < dec < -30`, `10 < ra < 20`. "
   ]
  },
  {
   "cell_type": "code",
   "execution_count": 5,
   "metadata": {},
   "outputs": [],
   "source": [
    "# empty memory \n",
    "gold_st82 = None\n",
    "gold_st82_sub = None\n",
    "nocmass = None"
   ]
  },
  {
   "cell_type": "code",
   "execution_count": 198,
   "metadata": {},
   "outputs": [
    {
     "name": "stdout",
     "output_type": "stream",
     "text": [
      "\n",
      "Calling catalogs >>>\n",
      "Y3_GOLD_2_0_SPT_ra10_20_decm40_m30_000001.fits\n",
      "Y3_GOLD_2_0_SPT_ra10_20_decm40_m30_000002.fits\n",
      "Y3_GOLD_2_0_SPT_ra10_20_decm40_m30_000003.fits\n",
      "Y3_GOLD_2_0_SPT_ra10_20_decm40_m30_000004.fits\n",
      "Y3_GOLD_2_0_SPT_ra10_20_decm40_m30_000005.fits\n",
      "Y3_GOLD_2_0_SPT_ra10_20_decm40_m30_000006.fits\n",
      "Y3_GOLD_2_0_SPT_ra10_20_decm40_m30_000007.fits\n",
      "Y3_GOLD_2_0_SPT_ra10_20_decm40_m30_000008.fits\n",
      "Y3_GOLD_2_0_SPT_ra10_20_decm40_m30_000009.fits\n",
      "Y3_GOLD_2_0_SPT_ra10_20_decm40_m30_000010.fits\n",
      "Y3_GOLD_2_0_SPT_ra10_20_decm40_m30_000011.fits\n",
      "Y3_GOLD_2_0_SPT_ra10_20_decm40_m30_000012.fits\n",
      "Y3_GOLD_2_0_SPT_ra10_20_decm40_m30_000013.fits\n",
      "Y3_GOLD_2_0_SPT_ra10_20_decm40_m30_000014.fits\n",
      "Y3_GOLD_2_0_SPT_ra10_20_decm40_m30_000015.fits\n",
      "Y3_GOLD_2_0_SPT_ra10_20_decm40_m30_000016.fits\n",
      "Y3_GOLD_2_0_SPT_ra10_20_decm40_m30_000017.fits\n",
      "reading 1/17 /n/des/lee.5922/data/gold_cat_Y3/SPT/701615bf64824498972491d545d1e4df/Y3_GOLD_2_0_SPT_ra10_20_decm40_m30_000001.fits\n",
      "reading 2/17 /n/des/lee.5922/data/gold_cat_Y3/SPT/701615bf64824498972491d545d1e4df/Y3_GOLD_2_0_SPT_ra10_20_decm40_m30_000002.fits\n",
      "reading 3/17 /n/des/lee.5922/data/gold_cat_Y3/SPT/701615bf64824498972491d545d1e4df/Y3_GOLD_2_0_SPT_ra10_20_decm40_m30_000003.fits\n",
      "reading 4/17 /n/des/lee.5922/data/gold_cat_Y3/SPT/701615bf64824498972491d545d1e4df/Y3_GOLD_2_0_SPT_ra10_20_decm40_m30_000004.fits\n",
      "reading 5/17 /n/des/lee.5922/data/gold_cat_Y3/SPT/701615bf64824498972491d545d1e4df/Y3_GOLD_2_0_SPT_ra10_20_decm40_m30_000005.fits\n",
      "reading 6/17 /n/des/lee.5922/data/gold_cat_Y3/SPT/701615bf64824498972491d545d1e4df/Y3_GOLD_2_0_SPT_ra10_20_decm40_m30_000006.fits\n",
      "reading 7/17 /n/des/lee.5922/data/gold_cat_Y3/SPT/701615bf64824498972491d545d1e4df/Y3_GOLD_2_0_SPT_ra10_20_decm40_m30_000007.fits\n",
      "reading 8/17 /n/des/lee.5922/data/gold_cat_Y3/SPT/701615bf64824498972491d545d1e4df/Y3_GOLD_2_0_SPT_ra10_20_decm40_m30_000008.fits\n",
      "reading 9/17 /n/des/lee.5922/data/gold_cat_Y3/SPT/701615bf64824498972491d545d1e4df/Y3_GOLD_2_0_SPT_ra10_20_decm40_m30_000009.fits\n",
      "reading 10/17 /n/des/lee.5922/data/gold_cat_Y3/SPT/701615bf64824498972491d545d1e4df/Y3_GOLD_2_0_SPT_ra10_20_decm40_m30_000010.fits\n",
      "reading 11/17 /n/des/lee.5922/data/gold_cat_Y3/SPT/701615bf64824498972491d545d1e4df/Y3_GOLD_2_0_SPT_ra10_20_decm40_m30_000011.fits\n",
      "reading 12/17 /n/des/lee.5922/data/gold_cat_Y3/SPT/701615bf64824498972491d545d1e4df/Y3_GOLD_2_0_SPT_ra10_20_decm40_m30_000012.fits\n",
      "reading 13/17 /n/des/lee.5922/data/gold_cat_Y3/SPT/701615bf64824498972491d545d1e4df/Y3_GOLD_2_0_SPT_ra10_20_decm40_m30_000013.fits\n",
      "reading 14/17 /n/des/lee.5922/data/gold_cat_Y3/SPT/701615bf64824498972491d545d1e4df/Y3_GOLD_2_0_SPT_ra10_20_decm40_m30_000014.fits\n",
      "reading 15/17 /n/des/lee.5922/data/gold_cat_Y3/SPT/701615bf64824498972491d545d1e4df/Y3_GOLD_2_0_SPT_ra10_20_decm40_m30_000015.fits\n",
      "reading 16/17 /n/des/lee.5922/data/gold_cat_Y3/SPT/701615bf64824498972491d545d1e4df/Y3_GOLD_2_0_SPT_ra10_20_decm40_m30_000016.fits\n",
      "reading 17/17 /n/des/lee.5922/data/gold_cat_Y3/SPT/701615bf64824498972491d545d1e4df/Y3_GOLD_2_0_SPT_ra10_20_decm40_m30_000017.fits\n"
     ]
    }
   ],
   "source": [
    "# Calling Y3 GOLD in a small square area \n",
    "input_path = '/n/des/lee.5922/data/gold_cat_Y3/SPT/701615bf64824498972491d545d1e4df/'\n",
    "input_keyword = 'Y3_GOLD'\n",
    "columns =  ['RA', 'DEC', \n",
    "            'HPIX_4096',     # Healpix in ring order, nside=4096\n",
    "            'COADD_OBJECT_ID', \n",
    "            'EBV_SFD98',\n",
    "            'EBV_LENZ17',\n",
    "            'EBV_Planck13',\n",
    "            'MAG_DETMODEL_G',\n",
    "            'MAG_DETMODEL_R',\n",
    "            'MAG_DETMODEL_I',\n",
    "            'MAG_DETMODEL_Z',\n",
    "            'MAGERR_DETMODEL_G',\n",
    "            'MAGERR_DETMODEL_R',\n",
    "            'MAGERR_DETMODEL_I',\n",
    "            'MAGERR_DETMODEL_Z',\n",
    "            'MAG_AUTO_I',\n",
    "            'SOF_CM_MAG_G', # mag_[griz]\n",
    "            'SOF_CM_MAG_R',\n",
    "            'SOF_CM_MAG_I',\n",
    "            'SOF_CM_MAG_Z',\n",
    "            'SOF_CM_MAG_ERR_G',       # mag error_[griz]\n",
    "            'SOF_CM_MAG_ERR_R',\n",
    "            'SOF_CM_MAG_ERR_I',\n",
    "            'SOF_CM_MAG_ERR_Z',\n",
    "            'MOF_CM_MAG_G', # mag_[griz]\n",
    "            'MOF_CM_MAG_R',\n",
    "            'MOF_CM_MAG_I',\n",
    "            'MOF_CM_MAG_Z',\n",
    "            'MOF_CM_MAG_ERR_G',       # mag error_[griz]\n",
    "            'MOF_CM_MAG_ERR_R',\n",
    "            'MOF_CM_MAG_ERR_I',\n",
    "            'MOF_CM_MAG_ERR_Z'\n",
    "            ]\n",
    "gold_spt = io.SearchAndCallFits(path = input_path, keyword = input_keyword, columns=columns)\n",
    "\n",
    "# Apply the same color/mag cuts to exclude extreme color/mag sources \n",
    "mask_magcut = priorCut_Y1(gold_spt)\n",
    "gold_spt = gold_spt[mask_magcut]"
   ]
  },
  {
   "cell_type": "code",
   "execution_count": 199,
   "metadata": {},
   "outputs": [
    {
     "name": "stdout",
     "output_type": "stream",
     "text": [
      "calculate loglikelihood gaussian with multiprocessing module\n",
      "['MAG_DETMODEL_R', 'MAG_DETMODEL_I', 'SOF_CM_MAG_G', 'SOF_CM_MAG_R', 'SOF_CM_MAG_I']\n",
      "multiprocessing 100 % \n"
     ]
    }
   ],
   "source": [
    "gold_spt_prob = assignCMASSProb(gold_spt, clf_cmass, clf_no, \n",
    "                     cmass_fraction = cmass_fraction, \n",
    "                     mag=mag, err=err, filter=filter )"
   ]
  },
  {
   "cell_type": "code",
   "execution_count": 203,
   "metadata": {},
   "outputs": [],
   "source": [
    "esutil.io.write(rootdir+'/test_cat/DMASS_Y3_GOLD_2_0_SPT_ra10_20_decm40_m30.fits', gold_spt_prob)"
   ]
  },
  {
   "cell_type": "code",
   "execution_count": 188,
   "metadata": {
    "collapsed": true
   },
   "outputs": [
    {
     "name": "stdout",
     "output_type": "stream",
     "text": [
      "\n",
      "Calling catalogs >>>\n",
      "DMASS_Y3_GOLD_2_0_SPT_ra10_20_decm40_m30_000002.fits\n",
      "reading 1/1 ../output/test_cmass_detmodel_mof//test_cat/DMASS_Y3_GOLD_2_0_SPT_ra10_20_decm40_m30_000002.fits\n"
     ]
    }
   ],
   "source": [
    "# calling the final catalog \n",
    "#input_path = rootdir+'/test_cat/'\n",
    "#input_keyword = 'Y3_GOLD_2_0_SPT_ra10_20_decm40_m30_000002.fits'\n",
    "#gold_spt_prob = io.SearchAndCallFits(path = input_path, keyword = input_keyword, columns=None)\n",
    "#gold_spt_prob = gold_spt_prob[priorCut_elg(gold_spt_prob)]"
   ]
  },
  {
   "cell_type": "code",
   "execution_count": 201,
   "metadata": {},
   "outputs": [
    {
     "name": "stdout",
     "output_type": "stream",
     "text": [
      "['MAG_DETMODEL_R', 'MAG_DETMODEL_I', 'SOF_CM_MAG_G', 'SOF_CM_MAG_R', 'SOF_CM_MAG_I']\n"
     ]
    }
   ],
   "source": [
    "X_dmass, Xcov = mixing_color(gold_spt_prob, \n",
    "                mag = mag,\n",
    "                err = err,\n",
    "                filter = filter,\n",
    "                no_zband = True  )"
   ]
  },
  {
   "cell_type": "code",
   "execution_count": 202,
   "metadata": {},
   "outputs": [
    {
     "name": "stdout",
     "output_type": "stream",
     "text": [
      "Using central 98% to set range.\n",
      "(-0.1199879266054625, 0.9044928279667983)\n",
      "(-1.169287432116221, 0.2422891855097337)\n",
      "(-18.789793597426545, 1.0640754373840112e-78)\n",
      "(1.441376707064477, 0.14947979322007635)\n",
      "KstestResult(statistic=0.464653384307701, pvalue=0.0)\n",
      "KstestResult(statistic=0.614830630289672, pvalue=0.0)\n",
      "KstestResult(statistic=0.6470746248015123, pvalue=0.0)\n",
      "KstestResult(statistic=0.5968416135275386, pvalue=0.0)\n"
     ]
    },
    {
     "data": {
      "image/png": "[encoded data removed]",
      "text/plain": [
       "<Figure size 1152x288 with 4 Axes>"
      ]
     },
     "metadata": {
      "needs_background": "light"
     },
     "output_type": "display_data"
    }
   ],
   "source": [
    "weight_dmass = gold_spt_prob['CMASS_PROB']\n",
    "doVisualization_1d(data=[X_sample_cmass, X_dmass], \n",
    "                   weight = [None, weight_dmass],  # apply dmass weights\n",
    "                   labels = ['mag r', 'mag i', 'g-r', 'r-i'], \n",
    "                   ranges = None, \n",
    "                   name = ['train', 'dmass'], \n",
    "                   nbins=100)\n",
    "   \n",
    "# Statistical significance tests\n",
    "from statsmodels.stats.weightstats import ttest_ind\n",
    "for i in range(4):\n",
    "    res = ttest_ind(X_sample_cmass[:,i], X_dmass[:,i], weights=(None, weight_dmass))\n",
    "    print(res[:-1])\n",
    "    \n",
    "for i in range(4):\n",
    "    #KS test should be weighted (not weighted here)\n",
    "    weight_none = np.ones(X_sample_cmass[:,i].size)\n",
    "    res = scipy.stats.ks_2samp(X_sample_cmass[:,i], X_dmass[:,i])\n",
    "    print (res)"
   ]
  },
  {
   "cell_type": "markdown",
   "metadata": {},
   "source": [
    "# Footprints of Train and Test regions"
   ]
  },
  {
   "cell_type": "markdown",
   "metadata": {},
   "source": [
    "Codes for computing the areas of the training and test regions. \n",
    "This is not needed to run the DMASS algorithm. Only included this here as you asked before. "
   ]
  },
  {
   "cell_type": "code",
   "execution_count": 25,
   "metadata": {},
   "outputs": [
    {
     "name": "stderr",
     "output_type": "stream",
     "text": [
      "/n/des/lee.5922/programs/anaconda3/envs/env_py3/lib/python3.8/site-packages/healpy/fitsfunc.py:351: UserWarning: If you are not specifying the input dtype and using the default np.float64 dtype of read_map(), please consider that it will change in a future version to None as to keep the same dtype of the input file: please explicitly set the dtype if it is important to you.\n",
      "  warnings.warn(\n"
     ]
    },
    {
     "name": "stdout",
     "output_type": "stream",
     "text": [
      "NSIDE = 4096\n",
      "ORDERING = NESTED in fits file\n",
      "INDXSCHM = IMPLICIT\n",
      "Ordering converted to RING\n"
     ]
    }
   ],
   "source": [
    "# calling Y3 GOLD footprint map\n",
    "# downloaded from https://cdcvs.fnal.gov/redmine/projects/des-y3/wiki/Y3A2_Gold_footprint\n",
    "mapname='../data/masks/y3a2_footprint_griz_1exp_v2.0.fits.gz'\n",
    "hpmap_y3gold = hp.read_map(mapname)\n",
    "goodmask = hp.mask_good(hpmap_y3gold)\n",
    "hpind_y3gold = np.arange(hpmap_y3gold.size)\n",
    "\n",
    "# Generate mask for cmass\n",
    "mask_train = np.in1d(cmass['HEALIndex'],hpind_y3gold[goodmask])\n",
    "\n",
    "# Apply mask to extract cmass in the Y3 gold region\n",
    "# This results 76722 CMASS galaxies\n",
    "train_sample = cmass[mask_train]"
   ]
  },
  {
   "cell_type": "code",
   "execution_count": 26,
   "metadata": {},
   "outputs": [
    {
     "name": "stdout",
     "output_type": "stream",
     "text": [
      "<Survey Area> \n",
      "-This is a rough estimation\n",
      "training region (dec > -10.0):  818 sq.deg\n",
      "testing region  (dec < -10.0): 4245 sq.deg\n"
     ]
    }
   ],
   "source": [
    "# convert hp indices to ra/dec and split into st82 (training) and spt (test) regions. \n",
    "# Apply a rough cut (DEC > -10.0)\n",
    "ra_hpmap_y3gold, dec_hpmap_y3gold = hpHEALPixelToRaDec( hpind_y3gold[goodmask], nside = 4096, nest=False )\n",
    "mask_hpmap_y3gold_training = dec_hpmap_y3gold > -10.0\n",
    "mask_hpmap_y3gold_testing = dec_hpmap_y3gold < -10.0\n",
    "\n",
    "pixarea = hp.nside2pixarea( 4096, degrees = True)\n",
    "npix_training =  np.sum(mask_hpmap_y3gold_training)\n",
    "npix_testing = np.sum(mask_hpmap_y3gold_testing)\n",
    "TrainingMapArea = pixarea * npix_training\n",
    "TestingMapArea = pixarea * npix_testing\n",
    "print ('<Survey Area> \\n-This is a rough estimation')\n",
    "print ('training region (dec > -10.0):{:5.0f} sq.deg'.format(TrainingMapArea) )\n",
    "print ('testing region  (dec < -10.0):{:5.0f} sq.deg'.format(TestingMapArea) )"
   ]
  }
 ],
 "metadata": {
  "kernelspec": {
   "display_name": "env_py3",
   "language": "python",
   "name": "env_py3"
  },
  "language_info": {
   "codemirror_mode": {
    "name": "ipython",
    "version": 3
   },
   "file_extension": ".py",
   "mimetype": "text/x-python",
   "name": "python",
   "nbconvert_exporter": "python",
   "pygments_lexer": "ipython3",
   "version": "3.8.3"
  }
 },
 "nbformat": 4,
 "nbformat_minor": 1
}
