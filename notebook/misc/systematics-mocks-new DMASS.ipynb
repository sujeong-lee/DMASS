{
 "cells": [
  {
   "cell_type": "code",
   "execution_count": 61,
   "metadata": {},
   "outputs": [
    {
     "name": "stdout",
     "output_type": "stream",
     "text": [
      "The autoreload extension is already loaded. To reload it, use:\n",
      "  %reload_ext autoreload\n"
     ]
    }
   ],
   "source": [
    "import sys\n",
    "sys.path.append('../')\n",
    "from xd import *\n",
    "from utils import *\n",
    "import esutil\n",
    "import healpy as hp\n",
    "from systematics import *\n",
    "from systematics_module import *\n",
    "\n",
    "%matplotlib inline\n",
    "\n",
    "%load_ext autoreload\n",
    "%autoreload 2"
   ]
  },
  {
   "cell_type": "markdown",
   "metadata": {},
   "source": [
    "## systematic test "
   ]
  },
  {
   "cell_type": "code",
   "execution_count": 62,
   "metadata": {
    "scrolled": true
   },
   "outputs": [],
   "source": [
    "import numpy as np\n",
    "import healpy as hp"
   ]
  },
  {
   "cell_type": "code",
   "execution_count": 63,
   "metadata": {},
   "outputs": [],
   "source": [
    "def brelchisqr(xi, xi2, invcov, brelsqr):\n",
    "    DiffVector = xi2 - brelsqr*xi\n",
    "    chi2 = np.dot( np.dot( DiffVector , invcov), DiffVector )\n",
    "    return chi2\n",
    "\n",
    "def find_nearest(array, value, brell):\n",
    "    \n",
    "    ind_min = array.argmin()\n",
    "    array1 = np.asarray(array[:ind_min])\n",
    "    idx1 = (np.abs(array1 - value)).argmin()\n",
    "    \n",
    "    array2 = np.asarray(array[ind_min:])\n",
    "    idx2 = (np.abs(array2 - value)).argmin()\n",
    "    \n",
    "    return brell[:ind_min][idx1], brell[ind_min], brell[ind_min:][idx2]\n",
    "\n",
    "\n",
    "def brel_chisqr_fitting(xi1, xi2, Fisher, verbose=False):\n",
    "    \n",
    "    brelsqr = np.linspace(0.8, 1.2, 5000)   \n",
    "    brelarr = np.sqrt(brelsqr) \n",
    "    chisqr_result = np.zeros(brelsqr.size)\n",
    "    \n",
    "    i=0\n",
    "    for b in brelsqr:\n",
    "        chisqr_result[i] = brelchisqr(xi1, xi2, Fisher, b)\n",
    "        i+=1   \n",
    "        \n",
    "    minarg = chisqr_result.argmin()\n",
    "    chisqr_min = chisqr_result.min()\n",
    "    brel = np.sqrt(brelsqr[minarg])\n",
    "    \n",
    "    b_cmass = 2.0\n",
    "    db = b_cmass * (1. - 1./brel)\n",
    "    \n",
    "       \n",
    "    b_cmass = 2.0\n",
    "\n",
    "    br1, brmin, br2 = find_nearest( chisqr_result, chisqr_min + 1,brelarr )\n",
    "    err_brel = np.abs(br1-br2)/2.\n",
    "    err_db = err_brel *b_cmass\n",
    "    if verbose : print 'err db, db / br1, brmin, br2 :', err_db, db, br1, brmin, br2  \n",
    "    #return err_db, db, chisqr_result\n",
    "    return err_brel, brmin, chisqr_result\n",
    "    "
   ]
  },
  {
   "cell_type": "code",
   "execution_count": 64,
   "metadata": {},
   "outputs": [],
   "source": [
    "from run_systematics import calling_sysMap, maskingCatalogSP"
   ]
  },
  {
   "cell_type": "code",
   "execution_count": 60,
   "metadata": {},
   "outputs": [
    {
     "data": {
      "text/plain": [
       "256"
      ]
     },
     "execution_count": 60,
     "metadata": {},
     "output_type": "execute_result"
    }
   ],
   "source": [
    "rootdir ='../output/sfd_train_photo_SamPle_nozband_ran10_2/'\n",
    "basedir = rootdir+'act/'\n",
    "os.system('mkdir '+rootdir)\n",
    "os.system('mkdir '+basedir)"
   ]
  },
  {
   "cell_type": "code",
   "execution_count": 36,
   "metadata": {},
   "outputs": [],
   "source": [
    "# calling map \n",
    "GoldMask = callingEliGoldMask()\n",
    "#GoldMask_st82 = Cuts.SpatialCuts(GoldMask, ra=320, ra2=360, dec=-2, dec2=2)\n",
    "GoldMask_st82 = GoldMask[ GoldMask['DEC'] > -3.0 ]\n",
    "GoldMask_spt = GoldMask[ GoldMask['DEC'] < -3.0 ]\n",
    "#GoldMask_spt = cutcat20(GoldMask_spt)\n",
    "#GoldMask_spt = Cuts.SpatialCuts(GoldMask_spt, ra=0, ra2 = 100, dec=-52, dec2 = -48)\n",
    "\n",
    "pixarea = hp.nside2pixarea( 4096, degrees = True)\n",
    "sptnpix = GoldMask_spt['PIXEL'].size #hp.get_map_size( GoldMask_spt['PIXEL'] )\n",
    "st82npix =  GoldMask_st82['PIXEL'].size # hp.get_map_size( GoldMask_st82 )\n",
    "SPTMaparea = pixarea * sptnpix\n",
    "ST82Maparea = pixarea * st82npix"
   ]
  },
  {
   "cell_type": "code",
   "execution_count": 66,
   "metadata": {},
   "outputs": [
    {
     "name": "stdout",
     "output_type": "stream",
     "text": [
      "dmass sample size : 119819\n",
      "cmass sample size : 12639\n"
     ]
    }
   ],
   "source": [
    "# import DMASS\n",
    "\n",
    "dmass = fitsio.read(rootdir+'dmass_spt_0001.fits')\n",
    "dmass = dmass[dmass['EachProb_CMASS'] > 0.01]\n",
    "#dmass = cutcat20(dmass)\n",
    "cmass = fitsio.read(rootdir+'train_sample_des.fits')\n",
    "print 'dmass sample size :', dmass.size\n",
    "print 'cmass sample size :', cmass.size"
   ]
  },
  {
   "cell_type": "code",
   "execution_count": 67,
   "metadata": {},
   "outputs": [
    {
     "name": "stdout",
     "output_type": "stream",
     "text": [
      "242293 119819\n",
      "205644 12639\n"
     ]
    }
   ],
   "source": [
    "#rand_bg = uniform_random_on_sphere(dmass_spt2, size = 100 * dmass_spt2.size)\n",
    "#rand_bg = Cuts.keepGoodRegion(rand_bg)\n",
    "#rand_bg_train = uniform_random_on_sphere(clean_cmass_data_des, size = 100 * clean_cmass_data_des.size)\n",
    "#rand_bg_train = Cuts.keepGoodRegion(rand_bg_train)\n",
    "\n",
    "rand = uniform_random_on_sphere(dmass, size = 10 * dmass.size)\n",
    "rand = Cuts.keepGoodRegion(rand)\n",
    "#rand = Cuts.keepY1GoldRegion(rand)\n",
    "rand = rand[ rand['DEC'] < -3.0 ]\n",
    "#rand = cutcat20(rand)\n",
    "\n",
    "rand2 = uniform_random_on_sphere(dmass, size = 50 * dmass.size)\n",
    "rand2 = Cuts.keepGoodRegion(rand2)\n",
    "#rand = Cuts.keepY1GoldRegion(rand)\n",
    "rand2 = rand2[ rand2['DEC'] < -3.0 ]\n",
    "#rand2 = cutcat20(rand2)\n",
    "\n",
    "rand_cmass = uniform_random_on_sphere(cmass, size = 200 * cmass.size)\n",
    "rand_cmass = Cuts.keepGoodRegion(rand_cmass)\n",
    "rand_cmass = rand_cmass[ rand_cmass['DEC'] > -3.0 ]\n",
    "\n",
    "rand2_cmass = uniform_random_on_sphere(cmass, size = 500 * cmass.size)\n",
    "rand2_cmass = Cuts.keepGoodRegion(rand2_cmass)\n",
    "rand2_cmass = rand2_cmass[ rand2_cmass['DEC'] > -3.0 ]\n",
    "\n",
    "print rand.size, dmass.size\n",
    "print rand_cmass.size, cmass.size\n",
    "#rand_train = uniform_random_on_sphere(clean_cmass_data_des, size = 10 * clean_cmass_data_des.size)\n",
    "#rand_train = Cuts.keepGoodRegion(rand_train)"
   ]
  },
  {
   "cell_type": "code",
   "execution_count": 76,
   "metadata": {
    "scrolled": false
   },
   "outputs": [
    {
     "name": "stdout",
     "output_type": "stream",
     "text": [
      " mock number 4\n",
      "calculate angular correlation function\n",
      "X (692, 2)  centers (30, 2)  tol=1e-05  maxiter=200\n",
      "23 iterations  cluster sizes: [14 21 25 13 39 21 21 19 11 23 32 14 24 32 10 31 36 16 24 31 22 16 34 21\n",
      " 17 19 20 38 24 24]\n",
      "X (119819, 2)  centers (30, 2)  tol=1e-05  maxiter=200\n",
      "85 iterations  cluster sizes: [4252 4683 4895 3672 4133 4639 3761 3068 2990 3612 3541 3909 4784 4183\n",
      " 1091 4552 5173 4767 4252 4484 3286 3870 5104 5041 2722 3892 2960 4091\n",
      " 4952 3460]\n",
      ". . . . . . . . . . . . . . . . . . . . . . . . . . . . . . . saving data file to :  ../output/sfd_train_photo_SamPle_nozband_ran10_2/act//acf_auto_dmass_mock_0005_nbins10_jk100.txt\n",
      "mock number 5\n",
      "calculate angular correlation function\n",
      "X (692, 2)  centers (30, 2)  tol=1e-05  maxiter=200\n",
      "24 iterations  cluster sizes: [21 24 20 13 19 25 26 14 34 19 41 24 19 30 21 24 23 32 35 17 16 25 24 15\n",
      " 34 19  8 22 21 27]\n",
      "X (119819, 2)  centers (30, 2)  tol=1e-05  maxiter=200\n",
      "52 iterations  cluster sizes: [3980 4241 4385 4380 3818 3845 4220 2814 4872 4145 4793 3855 3944 3813\n",
      " 2984 4774 4500 3789 4725 3846 3259 3795 5141 3454 4371 3420 5160 4265\n",
      " 1265 3966]\n",
      ". . . . . . . . . . . . . . . . . . . . . . . . . . . . . . . saving data file to :  ../output/sfd_train_photo_SamPle_nozband_ran10_2/act//acf_auto_dmass_mock_0006_nbins10_jk100.txt\n",
      "mock number 6\n",
      "calculate angular correlation function\n",
      "X (692, 2)  centers (30, 2)  tol=1e-05  maxiter=200\n",
      "12 iterations  cluster sizes: [15 39 26 18 22 24 24 30 28 29 16 18 19 23 23 11 24 28 24 30 26 18 22 31\n",
      " 13 31 19 14 20 27]\n",
      "X (119819, 2)  centers (30, 2)  tol=1e-05  maxiter=200\n",
      "30 iterations  cluster sizes: [3500 5085 4115 4481 4981 4934 3179 3863 4691 3539 3951 4567 3703 3870\n",
      " 4410 3944 2992 3674 3692 4298 3327 3905 3827 3759 3989 3458 4922 4152\n",
      " 3090 3921]\n",
      ". . . . . . . . . . . . . . . . . . . . . . . . . . . . . . ."
     ]
    },
    {
     "ename": "OSError",
     "evalue": "[Errno 2] No such file or directory: './jkregion.txt'",
     "output_type": "error",
     "traceback": [
      "\u001b[0;31m---------------------------------------------------------------------------\u001b[0m",
      "\u001b[0;31mOSError\u001b[0m                                   Traceback (most recent call last)",
      "\u001b[0;32m<ipython-input-76-0e8fb33530ee>\u001b[0m in \u001b[0;36m<module>\u001b[0;34m()\u001b[0m\n\u001b[1;32m      6\u001b[0m     \u001b[0mdc\u001b[0m \u001b[0;34m=\u001b[0m \u001b[0mdc\u001b[0m\u001b[0;34m[\u001b[0m\u001b[0mdc\u001b[0m\u001b[0;34m[\u001b[0m\u001b[0;34m'EachProb_CMASS'\u001b[0m\u001b[0;34m]\u001b[0m \u001b[0;34m>\u001b[0m \u001b[0;36m0.01\u001b[0m\u001b[0;34m]\u001b[0m\u001b[0;34m\u001b[0m\u001b[0m\n\u001b[1;32m      7\u001b[0m     angular_correlation(data = dc, rand = rand2, nbins=10, njack = 30, \n\u001b[0;32m----> 8\u001b[0;31m                         suffix = '_dmass_mock_{:04}_nbins10_jk100'.format(i+1), dir = basedir)\n\u001b[0m",
      "\u001b[0;32m/n/des/lee.5922/Dropbox/repositories/CMASS/code/systematics_module/corr.pyc\u001b[0m in \u001b[0;36mangular_correlation\u001b[0;34m(data, rand, njack, nbins, min_sep, max_sep, weight, mpi, suffix, out, dir)\u001b[0m\n\u001b[1;32m    674\u001b[0m     \u001b[0mjktest\u001b[0m\u001b[0;34m.\u001b[0m\u001b[0mDoJK\u001b[0m\u001b[0;34m(\u001b[0m \u001b[0mregions\u001b[0m \u001b[0;34m=\u001b[0m \u001b[0mjkfile\u001b[0m \u001b[0;34m)\u001b[0m\u001b[0;34m\u001b[0m\u001b[0m\n\u001b[1;32m    675\u001b[0m     \u001b[0mjkresults\u001b[0m \u001b[0;34m=\u001b[0m \u001b[0mjktest\u001b[0m\u001b[0;34m.\u001b[0m\u001b[0mGetResults\u001b[0m\u001b[0;34m(\u001b[0m\u001b[0mjk\u001b[0m\u001b[0;34m=\u001b[0m\u001b[0mTrue\u001b[0m\u001b[0;34m,\u001b[0m \u001b[0mfull\u001b[0m \u001b[0;34m=\u001b[0m \u001b[0mFalse\u001b[0m\u001b[0;34m)\u001b[0m\u001b[0;34m\u001b[0m\u001b[0m\n\u001b[0;32m--> 676\u001b[0;31m     \u001b[0mos\u001b[0m\u001b[0;34m.\u001b[0m\u001b[0mremove\u001b[0m\u001b[0;34m(\u001b[0m\u001b[0mjkfile\u001b[0m\u001b[0;34m)\u001b[0m\u001b[0;34m\u001b[0m\u001b[0m\n\u001b[0m\u001b[1;32m    677\u001b[0m     \u001b[0;31m#r, xi, varxi = jkresults['full']\u001b[0m\u001b[0;34m\u001b[0m\u001b[0;34m\u001b[0m\u001b[0m\n\u001b[1;32m    678\u001b[0m \u001b[0;34m\u001b[0m\u001b[0m\n",
      "\u001b[0;31mOSError\u001b[0m: [Errno 2] No such file or directory: './jkregion.txt'"
     ]
    }
   ],
   "source": [
    "#tree corr\n",
    "from systematics_module.corr import angular_correlation\n",
    "for i in range(4, 10):\n",
    "    print 'mock number', i\n",
    "    dc = fitsio.read(rootdir+'dmass_spt_{:04}.fits'.format(i+1))\n",
    "    dc = dc[dc['EachProb_CMASS'] > 0.01]\n",
    "    angular_correlation(data = dc, rand = rand2, nbins=10, njack = 30, \n",
    "                        suffix = '_dmass_mock_{:04}_nbins10_jk100'.format(i+1), dir = basedir)"
   ]
  },
  {
   "cell_type": "code",
   "execution_count": 27,
   "metadata": {},
   "outputs": [
    {
     "name": "stdout",
     "output_type": "stream",
     "text": [
      "../output/sfd_train_photo_SamPle_nozband_ran10/act/mock/acf_auto_dmass_mock_0004_nbins10_jk100.txt\r\n"
     ]
    }
   ],
   "source": [
    "ls ../output/sfd_train_photo_SamPle_nozband_ran10/act/mock/acf_auto_dmass_mock_0004_nbins10_jk100.txt"
   ]
  },
  {
   "cell_type": "code",
   "execution_count": 77,
   "metadata": {},
   "outputs": [
    {
     "name": "stdout",
     "output_type": "stream",
     "text": [
      " err db, db / br1, brmin, br2 : 0.034800836168285665 0.03449374518611137 1.000020003800724 1.0175495474011491 1.0348208399690098\n",
      "err db, db / br1, brmin, br2 : 0.047228471163721086 -0.032921829294270566 0.9598876376198263 0.9838056590175435 1.0071161087835474\n",
      "err db, db / br1, brmin, br2 : 0.04674586859670815 0.040089826831076536 0.9968142894970704 1.0204549307309612 1.0435601580937786\n",
      "err db, db / br1, brmin, br2 : 0.033877492348244775 0.0714010143062278 1.0199451248040368 1.0370222191528027 1.0538226171522815\n",
      "err db, db / br1, brmin, br2 : 0.04291134054187318 -0.048304622225446625 0.9547053432648692 0.9764172664059291 0.9976166838067424\n",
      "err db, db / br1, brmin, br2 : 0.04452623178008186 0.0598177330684464 1.0083468414541368 1.0308309863913196 1.0528730732342186\n",
      "err db, db / br1, brmin, br2 : 0.02508189508243852 -0.0156652430181885 0.9796080473257032 0.9922282516541626 1.0046899424081417\n",
      "pic save to  ../output/sfd_train_photo_SamPle_nozband_ran10_2/bias_weight.png\n"
     ]
    },
    {
     "data": {
      "image/png": "[encoded data removed]",
      "text/plain": [
       "<matplotlib.figure.Figure at 0x7f6f5498d090>"
      ]
     },
     "metadata": {},
     "output_type": "display_data"
    }
   ],
   "source": [
    "import scipy\n",
    "theta_th, theory_sgc = np.loadtxt('../data_txt/acf_cmass_sgc_theory.txt', unpack=True)\n",
    "theory_sgc_interp = scipy.interpolate.interp1d(theta_th, theory_sgc)\n",
    "#theory_sgc_interp = theory_sgc_interp(meanr)\n",
    "\n",
    "fig, ax = plt.subplots(figsize = (3,7))\n",
    "brelsqr = np.linspace(0.8, 1.2, 5000) \n",
    "b_n = 2.0\n",
    "brelarr = np.sqrt(brelsqr)\n",
    "dbarray = b_n*(1-brelarr)\n",
    "HF = lambda Nr,Nbin: (Nr-Nbin-2) *1./(Nr-1)\n",
    "\n",
    "mock_num = 6\n",
    "brelall = []\n",
    "for j in range(mock_num):\n",
    "    \n",
    "    filename = basedir+ 'acf_auto_dmass_mock_{:04}_nbins10_jk100.txt'.format(j+1)\n",
    "    covname = basedir+ 'acf_auto_dmass_mock_{:04}_nbins10_jk100.cov'.format(j+1)\n",
    "    meanrw, xiw, xi_errw = np.loadtxt( filename, unpack=True)\n",
    "    cov_dmass_w = np.loadtxt( covname, unpack=True)\n",
    "    HFd = HF(30, 10)\n",
    "    F_d = HFd * np.linalg.inv(cov_dmass_w)\n",
    "    err_brelw, brelw, chisqr_resultw = brel_chisqr_fitting(xiw, theory_sgc_interp(meanrw), F_d, verbose=True)   \n",
    "    #ax.errorbar(2.-2*brelw, mock_num+1-j, xerr =err_brelw*2., fmt='-|', color='k')\n",
    "    ax.errorbar(2.-2*brelw, mock_num+1-j, xerr =err_brelw*2., fmt='-|', color='k')\n",
    "    brelall.append(brelw)\n",
    "\n",
    "\n",
    "meanr_sgc, xi_sgc, xi_err_sgc = np.loadtxt('../data_txt//acf_auto_cmass_sgc_sys_cp_nz_weight_nbins10_jk100.txt',unpack=True)\n",
    "cov_cmass_s = np.genfromtxt('../data_txt//acf_auto_cmass_sgc_sys_cp_nz_weight_nbins10_jk100.cov')\n",
    "HFs = HF(100, 10)\n",
    "F_s = HFs * np.linalg.inv(cov_cmass_s)\n",
    "err_brel_sgc, brel_sgc, chisqr_result_sgc = brel_chisqr_fitting(xi_sgc, theory_sgc_interp(meanr_sgc), F_s, verbose=True)\n",
    "ax.errorbar(2.-2*brel_sgc, mock_num+1-j-1, xerr =err_brel_sgc*2., fmt='-|', color='r')\n",
    "\n",
    "ax.axvspan(0.- err_brel_sgc*2, 0. + err_brel_sgc*2.,  alpha=0.05, color='red')\n",
    "ax.axvline(x=0.0, color = 'black', ls='-', lw = 0.5)\n",
    "brelall = np.array(brelall)\n",
    "brelallmean = np.mean(brelall)\n",
    "brelallstd = np.std(brelall)\n",
    "ax.axvspan((2.-2.*brelallmean)- brelallstd*2, (2.-2.*brelallmean) + brelallstd*2.,  alpha=0.2, color='grey')\n",
    "ax.axvline(x=2.-brelallmean*2, color = 'grey', ls='--')\n",
    " \n",
    "#ax.set_xlabel(r'$\\Delta b = b_{th} - b_x$', fontsize = 20)\n",
    "ax.set_xlabel(r'$\\Delta b = b_{th} - b_x$', fontsize = 20)\n",
    "#ax.set_ylabel(r'$\\chi^2$')\n",
    "ax.legend(loc=1)\n",
    "#ax.set_xlim(-0.1, 0.1)\n",
    "#ax.set_yticks([1,2,3,4,5,6,7,8,9,10,11,12])\n",
    "#ax.set_yticks(np.arange(1, mock_num+1 ))\n",
    "ax.set_yticklabels( '', fontsize = 15) \n",
    "fig.savefig(rootdir + 'bias_weight.png')\n",
    "print 'pic save to ', rootdir + 'bias_weight.png'"
   ]
  },
  {
   "cell_type": "code",
   "execution_count": 47,
   "metadata": {
    "collapsed": true
   },
   "outputs": [
    {
     "name": "stdout",
     "output_type": "stream",
     "text": [
      "saving fig to  ../figure/hist_z_test.png\n"
     ]
    },
    {
     "data": {
      "image/png": "[encoded data removed]",
      "text/plain": [
       "<matplotlib.figure.Figure at 0x7f6fc4d6af90>"
      ]
     },
     "metadata": {},
     "output_type": "display_data"
    }
   ],
   "source": [
    "#dmass1 = fitsio.read('../output/mock/dmass_spt_{:04}.fits'.format(1))\n",
    "#dmass2 = fitsio.read('../output/mock/dmass_spt_{:04}.fits'.format(2))\n",
    "\n",
    "dmasslist = [ fitsio.read(rootdir+'dmass_spt_{:04}.fits'.format(i+1)) for i in range(10)]\n",
    "doVisualization_z( cats = dmasslist, labels = None, suffix = 'test', zlabel = 'DESDM_ZP', outdir='../figure/' )\n"
   ]
  },
  {
   "cell_type": "code",
   "execution_count": null,
   "metadata": {},
   "outputs": [],
   "source": [
    "#DAT = np.loadtxt('../data_txt/acf_auto_dmass_spt_nbins10_jk100.txt')\n",
    "#meanr, xi, xi_err = [DAT[:,i] for i in range(3)]\n",
    "\n",
    "meanr_sgc, xi_sgc, xi_err_sgc = np.loadtxt('../data_txt//acf_auto_cmass_sgc_sys_cp_nz_weight_nbins10_jk100.txt',unpack=True)\n",
    "#DAT11 = np.loadtxt('../data_txt//acf_auto_cmass_ngc_sys_cp_nz_weight_nbin10_jk100.txt')\n",
    "#meanr11, xi11, xi_err11 = [DAT11[:,i] for i in range(3)]\n",
    "#cov_cmass_n = np.genfromtxt('../data_txt//acf_auto_cmass_ngc_sys_cp_nz_weight_nbin10_jk100.cov')\n",
    "#cov_cmass_s = np.genfromtxt('../data_txt//acf_auto_cmass_sgc_sys_cp_nz_weight_nbins10_jk100.cov')\n",
    "#cov_dmass = np.genfromtxt('../data_txt/acf_auto_dmass_spt_nbins10_jk100.cov')\n",
    "\n",
    "##HF = lambda Nr,Nbin: (Nr-Nbin-2) *1./(Nr-1)\n",
    "#HFn = HF(100, 10)\n",
    "#HFs = HF(100, 10)\n",
    "#HFd = HF(100, 10)#\n",
    "\n",
    "\n",
    "#F_ns = HFn * HFs * np.linalg.inv(cov_cmass_n + cov_cmass_s)\n",
    "#F_nd = HFn * HFd * np.linalg.inv(cov_cmass_n + cov_dmass)\n",
    "#F_sd = HFs * HFd * np.linalg.inv(cov_cmass_s + cov_dmass)"
   ]
  },
  {
   "cell_type": "code",
   "execution_count": null,
   "metadata": {},
   "outputs": [],
   "source": [
    "\n",
    "theta_th, theory = np.loadtxt('../data_txt/acf_cmass_ngc_theory.txt', unpack=True)\n",
    "theta_th, theory_sgc = np.loadtxt('../data_txt/acf_cmass_sgc_theory.txt', unpack=True)\n",
    "\n",
    "#_, theory_bias = np.loadtxt('../data_txt/acf_cmass_sgc_theory_bias.txt', unpack=True)\n",
    "\n",
    "#theory_interp = scipy.interpolate.interp1d(theta_th, theory)\n",
    "#theory_interp = theory_interp(meanr)\n",
    "#theory_sgc_interp = scipy.interpolate.interp1d(theta_th, theory_sgc)\n",
    "#theory_sgc_interp = theory_sgc_interp(meanr)\n",
    "\n",
    "mock_num = 10\n",
    "\n",
    "#fig, ax = plt.subplots(figsize = (7, 5))\n",
    "fig, ax = plt.subplots(figsize = (10, 7))\n",
    "for j in range(mock_num):\n",
    "    \n",
    "    filename = basedir+ 'acf_auto_dmass_mock_{:04}_nbins10_jk100.txt'.format(j+1)\n",
    "    covname = basedir+ 'acf_auto_dmass_mock_{:04}_nbins10_jk100.cov'.format(j+1)\n",
    "    meanrw, xiw, xi_errw = np.loadtxt( filename, unpack=True)\n",
    "    cov_dmass_w = np.loadtxt( covname, unpack=True)\n",
    "    HFd = HF(100, 10)\n",
    "    F_d = HFd * np.linalg.inv(cov_dmass_w)\n",
    "    #err_brelw, brelw, chisqr_resultw = brel_chisqr_fitting(xiw, theory_sgc_interp(meanrw), F_d, verbose=True)\n",
    "    ax.errorbar(meanrw, xiw, yerr = xi_errw, fmt = '-', color='grey', alpha=0.2)\n",
    "     \n",
    "ax.errorbar(meanr_sgc*1.01, xi_sgc, yerr = xi_err_sgc, fmt = '-', color='red', alpha=0.9, label = 'cmass sgc')    \n",
    "ax.plot(theta_th, theory_sgc, '-', color='k', label='theory sgc')\n",
    "ax.errorbar(meanrw, xiw, yerr = xi_errw, fmt = '-', color='grey', alpha=0.1, label = 'mock')  \n",
    "ax.set_xscale('log')\n",
    "ax.set_yscale('log')\n",
    "ax.legend(loc = 'best', fontsize = 12)\n",
    "#ax.text(1.5, 0.07, r'$\\chi^2 $ = {:0.3f}  (south)'.format(chisqr), fontsize = 12)\n",
    "ax.set_ylim(1e-4,1)\n",
    "ax.set_xlim(2.5/60, 250./60)\n",
    "ax.set_xlabel(r'$\\theta$ (deg)', fontsize = 15)\n",
    "ax.set_ylabel(r'$\\omega(\\theta)$', fontsize = 15)"
   ]
  },
  {
   "cell_type": "code",
   "execution_count": null,
   "metadata": {},
   "outputs": [],
   "source": []
  },
  {
   "cell_type": "markdown",
   "metadata": {},
   "source": [
    "# Weight "
   ]
  },
  {
   "cell_type": "code",
   "execution_count": 9,
   "metadata": {},
   "outputs": [],
   "source": [
    "kind = 'SPT'\n",
    "FullArea = SPTMaparea\n",
    "#def CalculteGalaxyNgal(data, ):\n",
    "#properties = ['DEPTH','EXPTIME']\n",
    "#properties = ['DEPTH', 'EXPTIME', 'AIRMASS', 'SKYBRITE', 'FWHM', 'NSTARS']\n",
    "properties = ['DEPTH', 'EXPTIME', 'AIRMASS', 'SKYBRITE', 'FWHM', 'NSTARS_allband','GE']\n",
    "#properties = ['FWHM']\n",
    "suffix='no_weight'"
   ]
  },
  {
   "cell_type": "code",
   "execution_count": 11,
   "metadata": {
    "collapsed": true
   },
   "outputs": [
    {
     "name": "stdout",
     "output_type": "stream",
     "text": [
      "\n",
      "PATH =  /n/des/lee.5922/data/systematic_maps/Y1A1NEW_COADD_SPT/nside4096_oversamp4/\n",
      "Y1A1NEW_COADD_SPT_band_g_nside4096_oversamp4_maglimit3__.fits.gz\n",
      "NSIDE = 4096\n",
      "ORDERING = RING in fits file\n",
      "INDXSCHM = EXPLICIT\n",
      "\n",
      "PATH =  /n/des/lee.5922/data/systematic_maps/Y1A1NEW_COADD_SPT/nside4096_oversamp4/\n",
      "Y1A1NEW_COADD_SPT_band_r_nside4096_oversamp4_maglimit3__.fits.gz\n",
      "NSIDE = 4096\n",
      "ORDERING = RING in fits file\n",
      "INDXSCHM = EXPLICIT\n",
      "\n",
      "PATH =  /n/des/lee.5922/data/systematic_maps/Y1A1NEW_COADD_SPT/nside4096_oversamp4/\n",
      "Y1A1NEW_COADD_SPT_band_i_nside4096_oversamp4_maglimit3__.fits.gz\n",
      "NSIDE = 4096\n",
      "ORDERING = RING in fits file\n",
      "INDXSCHM = EXPLICIT\n",
      "\n",
      "PATH =  /n/des/lee.5922/data/systematic_maps/Y1A1NEW_COADD_SPT/nside4096_oversamp4/\n",
      "Y1A1NEW_COADD_SPT_band_z_nside4096_oversamp4_maglimit3__.fits.gz\n",
      "NSIDE = 4096\n",
      "ORDERING = RING in fits file\n",
      "INDXSCHM = EXPLICIT\n",
      "\n",
      "PATH =  /n/des/lee.5922/data/systematic_maps/Y1A1NEW_COADD_SPT/nside4096_oversamp4/\n",
      "Y1A1NEW_COADD_SPT_band_g_nside4096_oversamp4_EXPTIME__total.fits.gz\n",
      "NSIDE = 4096\n",
      "ORDERING = RING in fits file\n",
      "INDXSCHM = EXPLICIT\n",
      "\n",
      "PATH =  /n/des/lee.5922/data/systematic_maps/Y1A1NEW_COADD_SPT/nside4096_oversamp4/\n",
      "Y1A1NEW_COADD_SPT_band_r_nside4096_oversamp4_EXPTIME__total.fits.gz\n",
      "NSIDE = 4096\n",
      "ORDERING = RING in fits file\n",
      "INDXSCHM = EXPLICIT\n",
      "\n",
      "PATH =  /n/des/lee.5922/data/systematic_maps/Y1A1NEW_COADD_SPT/nside4096_oversamp4/\n",
      "Y1A1NEW_COADD_SPT_band_i_nside4096_oversamp4_EXPTIME__total.fits.gz\n",
      "NSIDE = 4096\n",
      "ORDERING = RING in fits file\n",
      "INDXSCHM = EXPLICIT\n",
      "\n",
      "PATH =  /n/des/lee.5922/data/systematic_maps/Y1A1NEW_COADD_SPT/nside4096_oversamp4/\n",
      "Y1A1NEW_COADD_SPT_band_z_nside4096_oversamp4_EXPTIME__total.fits.gz\n",
      "NSIDE = 4096\n",
      "ORDERING = RING in fits file\n",
      "INDXSCHM = EXPLICIT\n",
      "\n",
      "PATH =  /n/des/lee.5922/data/systematic_maps/Y1A1NEW_COADD_SPT/nside4096_oversamp4/\n",
      "Y1A1NEW_COADD_SPT_band_g_nside4096_oversamp4_AIRMASS_coaddweights3_mean.fits.gz\n",
      "NSIDE = 4096\n",
      "ORDERING = RING in fits file\n",
      "INDXSCHM = EXPLICIT\n",
      "\n",
      "PATH =  /n/des/lee.5922/data/systematic_maps/Y1A1NEW_COADD_SPT/nside4096_oversamp4/\n",
      "Y1A1NEW_COADD_SPT_band_r_nside4096_oversamp4_AIRMASS_coaddweights3_mean.fits.gz\n",
      "NSIDE = 4096\n",
      "ORDERING = RING in fits file\n",
      "INDXSCHM = EXPLICIT\n",
      "\n",
      "PATH =  /n/des/lee.5922/data/systematic_maps/Y1A1NEW_COADD_SPT/nside4096_oversamp4/\n",
      "Y1A1NEW_COADD_SPT_band_i_nside4096_oversamp4_AIRMASS_coaddweights3_mean.fits.gz\n",
      "NSIDE = 4096\n",
      "ORDERING = RING in fits file\n",
      "INDXSCHM = EXPLICIT\n",
      "\n",
      "PATH =  /n/des/lee.5922/data/systematic_maps/Y1A1NEW_COADD_SPT/nside4096_oversamp4/\n",
      "Y1A1NEW_COADD_SPT_band_z_nside4096_oversamp4_AIRMASS_coaddweights3_mean.fits.gz\n",
      "NSIDE = 4096\n",
      "ORDERING = RING in fits file\n",
      "INDXSCHM = EXPLICIT\n",
      "\n",
      "PATH =  /n/des/lee.5922/data/systematic_maps/Y1A1NEW_COADD_SPT/nside4096_oversamp4/\n",
      "Y1A1NEW_COADD_SPT_band_g_nside4096_oversamp4_SKYBRITE_coaddweights3_mean.fits.gz\n",
      "NSIDE = 4096\n",
      "ORDERING = RING in fits file\n",
      "INDXSCHM = EXPLICIT\n",
      "\n",
      "PATH =  /n/des/lee.5922/data/systematic_maps/Y1A1NEW_COADD_SPT/nside4096_oversamp4/\n",
      "Y1A1NEW_COADD_SPT_band_r_nside4096_oversamp4_SKYBRITE_coaddweights3_mean.fits.gz\n",
      "NSIDE = 4096\n",
      "ORDERING = RING in fits file\n",
      "INDXSCHM = EXPLICIT\n",
      "\n",
      "PATH =  /n/des/lee.5922/data/systematic_maps/Y1A1NEW_COADD_SPT/nside4096_oversamp4/\n",
      "Y1A1NEW_COADD_SPT_band_i_nside4096_oversamp4_SKYBRITE_coaddweights3_mean.fits.gz\n",
      "NSIDE = 4096\n",
      "ORDERING = RING in fits file\n",
      "INDXSCHM = EXPLICIT\n",
      "\n",
      "PATH =  /n/des/lee.5922/data/systematic_maps/Y1A1NEW_COADD_SPT/nside4096_oversamp4/\n",
      "Y1A1NEW_COADD_SPT_band_z_nside4096_oversamp4_SKYBRITE_coaddweights3_mean.fits.gz\n",
      "NSIDE = 4096\n",
      "ORDERING = RING in fits file\n",
      "INDXSCHM = EXPLICIT\n",
      "\n",
      "PATH =  /n/des/lee.5922/data/systematic_maps/seeing_i_spt/\n",
      "Y1A1NEW_COADD_SPT_band_g_nside4096_oversamp4_FWHM_MEAN_coaddweights3_mean.fits.gz\n",
      "NSIDE = 4096\n",
      "ORDERING = RING in fits file\n",
      "INDXSCHM = EXPLICIT\n",
      "\n",
      "PATH =  /n/des/lee.5922/data/systematic_maps/seeing_i_spt/\n",
      "Y1A1NEW_COADD_SPT_band_r_nside4096_oversamp4_FWHM_MEAN_coaddweights3_mean.fits.gz\n",
      "NSIDE = 4096\n",
      "ORDERING = RING in fits file\n",
      "INDXSCHM = EXPLICIT\n",
      "\n",
      "PATH =  /n/des/lee.5922/data/systematic_maps/seeing_i_spt/\n",
      "Y1A1NEW_COADD_SPT_band_i_nside4096_oversamp4_FWHM_MEAN_coaddweights3_mean.fits.gz\n",
      "NSIDE = 4096\n",
      "ORDERING = RING in fits file\n",
      "INDXSCHM = EXPLICIT\n",
      "\n",
      "PATH =  /n/des/lee.5922/data/systematic_maps/seeing_i_spt/\n",
      "Y1A1NEW_COADD_SPT_band_z_nside4096_oversamp4_FWHM_MEAN_coaddweights3_mean.fits.gz\n",
      "NSIDE = 4096\n",
      "ORDERING = RING in fits file\n",
      "INDXSCHM = EXPLICIT\n",
      "\n",
      "PATH =  /n/des/lee.5922/data/systematic_maps/Y1A1NEW_COADD_SPT/nside4096_oversamp4/\n",
      "y1a1_gold_1.0.2_stars_nside1024.fits\n",
      "NSIDE = 1024\n",
      "ORDERING = RING in fits file\n",
      "INDXSCHM = IMPLICIT\n",
      "DOWNGRADE =  1024\n"
     ]
    }
   ],
   "source": [
    "# calculating galaxy density and weights iterately\n",
    "sysMap = calling_sysMap( properties=properties, kind='SPT', nside=4096 )"
   ]
  },
  {
   "cell_type": "code",
   "execution_count": 12,
   "metadata": {},
   "outputs": [
    {
     "name": "stdout",
     "output_type": "stream",
     "text": [
      "112398 108272\n",
      "mask  0.9632911617644442\n",
      "510791 494623\n",
      "mask  0.9683471321930105\n",
      "2550725 2470300\n",
      "mask  0.9684697487969107\n"
     ]
    }
   ],
   "source": [
    "dmass_masked = maskingCatalogSP(catalog=dmass, sysMap=sysMap)\n",
    "rand_masked = maskingCatalogSP(catalog=rand, sysMap=sysMap)\n",
    "rand2_masked = maskingCatalogSP(catalog=rand2, sysMap=sysMap)"
   ]
  },
  {
   "cell_type": "code",
   "execution_count": 262,
   "metadata": {},
   "outputs": [
    {
     "name": "stdout",
     "output_type": "stream",
     "text": [
      "ge_g\n",
      "fwhm_r\n",
      "airmass_z\n",
      "skybrite_i\n",
      "skybrite_r\n",
      "fwhm_i\n",
      "airmass_r\n",
      "skybrite_z\n",
      "fwhm_g\n",
      "airmass_g\n",
      "exptime_z\n",
      "exptime_g\n"
     ]
    }
   ],
   "source": [
    "weightname = 'wg_ge_g_fwhm_r_airmass_z_skybrite_i_skybrite_r_fwhm_i_airmass_r_skybrite_z_fwhm_g_airmass_g_exptime_z_exptime_g'\n",
    "\n",
    "weightname = weightname.split('_')[1:]\n",
    "order = []\n",
    "for i in np.arange(0, len(weightname), 2):\n",
    "    print weightname[i]+'_'+ weightname[i+1]\n",
    "    order.append(weightname[i]+'_'+ weightname[i+1] )"
   ]
  },
  {
   "cell_type": "code",
   "execution_count": 31,
   "metadata": {},
   "outputs": [],
   "source": [
    "rootdir ='../data_txt/systematics/6th_include_ge/'\n",
    "basedir = rootdir+'act/'\n",
    "wdir = rootdir+'weights/'\n",
    "os.system('mkdir '+basedir)\n",
    "os.system('mkdir '+wdir)\n",
    "#order = ['ge_g', 'fwhm_r', 'airmass_z', 'skybrite_i', 'airmass_g', 'fwhm_i', 'airmass_i', 'fwhm_g', 'skybrite_r', 'fwhm_z']\n",
    "#order = ['fwhm_r','airmass_z', 'airmass_i', 'skybrite_i', 'skybrite_r', 'airmass_r', 'airmass_g', \\\n",
    "#         'nstars_allband_g', 'depth_i', 'exptime_g', 'fwhm_g', 'fwhm_z', 'exptime_z', 'depth_r', \\\n",
    "#         'fwhm_i', 'exptime_i', 'depth_g']\n",
    "weightslist = [fitsio.read(wdir+'wg_'+o+'_SPT.fits') for o in order]\n",
    "all_weight = np.ones(weightslist[0].size)\n",
    "#for w in weightslist: all_weight *= w"
   ]
  },
  {
   "cell_type": "code",
   "execution_count": 32,
   "metadata": {},
   "outputs": [
    {
     "data": {
      "text/plain": [
       "0"
      ]
     },
     "execution_count": 32,
     "metadata": {},
     "output_type": "execute_result"
    }
   ],
   "source": [
    "os.system('cp ../data_txt/systematics/4th/act/acf_auto_dmass_nbins10_jk100.* '+basedir+'/.')\n",
    "os.system('cp ../data_txt/systematics/4th/act/acf_auto_dmass_veto_nbins10_jk100.* '+basedir+'.')"
   ]
  },
  {
   "cell_type": "code",
   "execution_count": 264,
   "metadata": {
    "collapsed": true
   },
   "outputs": [
    {
     "name": "stdout",
     "output_type": "stream",
     "text": [
      "calculate angular correlation function\n",
      "X (1000, 2)  centers (100, 2)  tol=1e-05  maxiter=200\n",
      "12 iterations  cluster sizes: [ 7  4  5 14  7  7  9  8 12  4  5  7  5  6 18 17 13 12  7  0  3  8  6  9\n",
      "  5 15  7 19 13 13  8 17 10 12 10 11 18  9  7  9 15 12  8 18  5  3  8  4\n",
      " 11  7 19 14 14 13 10  7  4  9 11  4 14 13 15 14  4 22 10 10  9 11 16  7\n",
      " 15 12  1 12 11 15 12 12 14  9  8 14 11  8  2 11  7 14 10  5  4 12  8 13\n",
      " 11 12 12  8]\n",
      "X (112398, 2)  centers (100, 2)  tol=1e-05  maxiter=200\n",
      "116 iterations  cluster sizes: [1027 1051  981 1273 1274  921 1229 1215  983  873 1057 1320 1067 1228\n",
      " 1407 1294 1143 1149 1019 1028  951  942  983 1178 1350 1370 1165 1287\n",
      " 1041 1123 1221 1191 1115 1224 1348 1068 1384 1164 1102  983 1350 1227\n",
      " 1116  994 1253 1254 1178  857 1244  802 1310  870 1145 1137 1051  796\n",
      " 1012 1384  937 1211 1189 1013 1181 1267  822 1192 1439 1350 1094  893\n",
      " 1062  993 1131  899  910 1129  858 1559  790 1099 1403 1063 1145 1449\n",
      " 1009 1060 1107 1032  894 1230 1012  959 1188 1132 1303 1216 1111 1234\n",
      " 1152  972]\n",
      ". . . . . . . . . . . . . . . . . . . . . . . . . . . . . . . . . . . . . . . . . . . . . . . . . . . . . . . . . . . . . . . . . . . . . . . . . . . . . . . . . . . . . . . . ."
     ]
    },
    {
     "name": "stderr",
     "output_type": "stream",
     "text": [
      "Exception KeyboardInterrupt in <bound method NNCorrelation.__del__ of NNCorrelation(config={'nbins': 10, 'split_method': 'mean', 'verbose': 1, 'min_sep': 0.041666666666666664, 'max_sep': 4.166666666666667, 'sep_units': 'deg', 'metric': 'Euclidean', 'precision': 4, 'pairwise': False, 'max_top': 10, 'm2_uform': 'Crittenden'})> ignored\n"
     ]
    },
    {
     "name": "stdout",
     "output_type": "stream",
     "text": [
      " ."
     ]
    },
    {
     "name": "stderr",
     "output_type": "stream",
     "text": [
      "ERROR:root:Internal Python error in the inspect module.\n",
      "Below is the traceback from this internal error.\n",
      "\n"
     ]
    },
    {
     "name": "stdout",
     "output_type": "stream",
     "text": [
      "Traceback (most recent call last):\n",
      "  File \"/n/home00/lee.5922/.local/lib/python2.7/site-packages/IPython/core/ultratb.py\", line 1132, in get_records\n",
      "    return _fixed_getinnerframes(etb, number_of_lines_of_context, tb_offset)\n",
      "  File \"/n/home00/lee.5922/.local/lib/python2.7/site-packages/IPython/core/ultratb.py\", line 313, in wrapped\n",
      "    return f(*args, **kwargs)\n",
      "  File \"/n/home00/lee.5922/.local/lib/python2.7/site-packages/IPython/core/ultratb.py\", line 376, in _fixed_getinnerframes\n",
      "    lines = ulinecache.getlines(file)[start:end]\n",
      "  File \"/n/home00/lee.5922/.local/lib/python2.7/site-packages/IPython/utils/ulinecache.py\", line 37, in getlines\n",
      "    return [l.decode(encoding, 'replace') for l in lines]\n",
      "KeyboardInterrupt\n"
     ]
    },
    {
     "ename": "IndexError",
     "evalue": "string index out of range",
     "output_type": "error",
     "traceback": [
      "\u001b[0;31m---------------------------------------------------------------------------\u001b[0m",
      "\u001b[0;31mIndexError\u001b[0m                                Traceback (most recent call last)",
      "\u001b[0;32m/n/home00/lee.5922/.local/lib/python2.7/site-packages/IPython/core/interactiveshell.pyc\u001b[0m in \u001b[0;36mrun_code\u001b[0;34m(self, code_obj, result)\u001b[0m\n\u001b[1;32m   2893\u001b[0m             \u001b[0;32mif\u001b[0m \u001b[0mresult\u001b[0m \u001b[0;32mis\u001b[0m \u001b[0;32mnot\u001b[0m \u001b[0mNone\u001b[0m\u001b[0;34m:\u001b[0m\u001b[0;34m\u001b[0m\u001b[0m\n\u001b[1;32m   2894\u001b[0m                 \u001b[0mresult\u001b[0m\u001b[0;34m.\u001b[0m\u001b[0merror_in_exec\u001b[0m \u001b[0;34m=\u001b[0m \u001b[0msys\u001b[0m\u001b[0;34m.\u001b[0m\u001b[0mexc_info\u001b[0m\u001b[0;34m(\u001b[0m\u001b[0;34m)\u001b[0m\u001b[0;34m[\u001b[0m\u001b[0;36m1\u001b[0m\u001b[0;34m]\u001b[0m\u001b[0;34m\u001b[0m\u001b[0m\n\u001b[0;32m-> 2895\u001b[0;31m             \u001b[0mself\u001b[0m\u001b[0;34m.\u001b[0m\u001b[0mshowtraceback\u001b[0m\u001b[0;34m(\u001b[0m\u001b[0;34m)\u001b[0m\u001b[0;34m\u001b[0m\u001b[0m\n\u001b[0m\u001b[1;32m   2896\u001b[0m         \u001b[0;32melse\u001b[0m\u001b[0;34m:\u001b[0m\u001b[0;34m\u001b[0m\u001b[0m\n\u001b[1;32m   2897\u001b[0m             \u001b[0moutflag\u001b[0m \u001b[0;34m=\u001b[0m \u001b[0;36m0\u001b[0m\u001b[0;34m\u001b[0m\u001b[0m\n",
      "\u001b[0;32m/n/home00/lee.5922/.local/lib/python2.7/site-packages/IPython/core/interactiveshell.pyc\u001b[0m in \u001b[0;36mshowtraceback\u001b[0;34m(self, exc_tuple, filename, tb_offset, exception_only)\u001b[0m\n\u001b[1;32m   1824\u001b[0m                     \u001b[0;32mexcept\u001b[0m \u001b[0mException\u001b[0m\u001b[0;34m:\u001b[0m\u001b[0;34m\u001b[0m\u001b[0m\n\u001b[1;32m   1825\u001b[0m                         stb = self.InteractiveTB.structured_traceback(etype,\n\u001b[0;32m-> 1826\u001b[0;31m                                             value, tb, tb_offset=tb_offset)\n\u001b[0m\u001b[1;32m   1827\u001b[0m \u001b[0;34m\u001b[0m\u001b[0m\n\u001b[1;32m   1828\u001b[0m                     \u001b[0mself\u001b[0m\u001b[0;34m.\u001b[0m\u001b[0m_showtraceback\u001b[0m\u001b[0;34m(\u001b[0m\u001b[0metype\u001b[0m\u001b[0;34m,\u001b[0m \u001b[0mvalue\u001b[0m\u001b[0;34m,\u001b[0m \u001b[0mstb\u001b[0m\u001b[0;34m)\u001b[0m\u001b[0;34m\u001b[0m\u001b[0m\n",
      "\u001b[0;32m/n/home00/lee.5922/.local/lib/python2.7/site-packages/IPython/core/ultratb.pyc\u001b[0m in \u001b[0;36mstructured_traceback\u001b[0;34m(self, etype, value, tb, tb_offset, number_of_lines_of_context)\u001b[0m\n\u001b[1;32m   1409\u001b[0m         \u001b[0mself\u001b[0m\u001b[0;34m.\u001b[0m\u001b[0mtb\u001b[0m \u001b[0;34m=\u001b[0m \u001b[0mtb\u001b[0m\u001b[0;34m\u001b[0m\u001b[0m\n\u001b[1;32m   1410\u001b[0m         return FormattedTB.structured_traceback(\n\u001b[0;32m-> 1411\u001b[0;31m             self, etype, value, tb, tb_offset, number_of_lines_of_context)\n\u001b[0m\u001b[1;32m   1412\u001b[0m \u001b[0;34m\u001b[0m\u001b[0m\n\u001b[1;32m   1413\u001b[0m \u001b[0;34m\u001b[0m\u001b[0m\n",
      "\u001b[0;32m/n/home00/lee.5922/.local/lib/python2.7/site-packages/IPython/core/ultratb.pyc\u001b[0m in \u001b[0;36mstructured_traceback\u001b[0;34m(self, etype, value, tb, tb_offset, number_of_lines_of_context)\u001b[0m\n\u001b[1;32m   1317\u001b[0m             \u001b[0;31m# Verbose modes need a full traceback\u001b[0m\u001b[0;34m\u001b[0m\u001b[0;34m\u001b[0m\u001b[0m\n\u001b[1;32m   1318\u001b[0m             return VerboseTB.structured_traceback(\n\u001b[0;32m-> 1319\u001b[0;31m                 \u001b[0mself\u001b[0m\u001b[0;34m,\u001b[0m \u001b[0metype\u001b[0m\u001b[0;34m,\u001b[0m \u001b[0mvalue\u001b[0m\u001b[0;34m,\u001b[0m \u001b[0mtb\u001b[0m\u001b[0;34m,\u001b[0m \u001b[0mtb_offset\u001b[0m\u001b[0;34m,\u001b[0m \u001b[0mnumber_of_lines_of_context\u001b[0m\u001b[0;34m\u001b[0m\u001b[0m\n\u001b[0m\u001b[1;32m   1320\u001b[0m             )\n\u001b[1;32m   1321\u001b[0m         \u001b[0;32melse\u001b[0m\u001b[0;34m:\u001b[0m\u001b[0;34m\u001b[0m\u001b[0m\n",
      "\u001b[0;32m/n/home00/lee.5922/.local/lib/python2.7/site-packages/IPython/core/ultratb.pyc\u001b[0m in \u001b[0;36mstructured_traceback\u001b[0;34m(self, etype, evalue, etb, tb_offset, number_of_lines_of_context)\u001b[0m\n\u001b[1;32m   1202\u001b[0m                 \u001b[0mstructured_traceback_parts\u001b[0m \u001b[0;34m+=\u001b[0m \u001b[0mformatted_exception\u001b[0m\u001b[0;34m\u001b[0m\u001b[0m\n\u001b[1;32m   1203\u001b[0m         \u001b[0;32melse\u001b[0m\u001b[0;34m:\u001b[0m\u001b[0;34m\u001b[0m\u001b[0m\n\u001b[0;32m-> 1204\u001b[0;31m             \u001b[0mstructured_traceback_parts\u001b[0m \u001b[0;34m+=\u001b[0m \u001b[0mformatted_exception\u001b[0m\u001b[0;34m[\u001b[0m\u001b[0;36m0\u001b[0m\u001b[0;34m]\u001b[0m\u001b[0;34m\u001b[0m\u001b[0m\n\u001b[0m\u001b[1;32m   1205\u001b[0m \u001b[0;34m\u001b[0m\u001b[0m\n\u001b[1;32m   1206\u001b[0m         \u001b[0;32mreturn\u001b[0m \u001b[0mstructured_traceback_parts\u001b[0m\u001b[0;34m\u001b[0m\u001b[0m\n",
      "\u001b[0;31mIndexError\u001b[0m: string index out of range"
     ]
    }
   ],
   "source": [
    "angular_correlation(data = dmass, rand = rand2, nbins=10, weight = None, njack = 100, \n",
    "                        suffix = '_dmass_nbins10_jk100', dir = basedir)"
   ]
  },
  {
   "cell_type": "code",
   "execution_count": 33,
   "metadata": {
    "scrolled": false
   },
   "outputs": [
    {
     "name": "stdout",
     "output_type": "stream",
     "text": [
      "1 ge_g\n",
      "calculate angular correlation function\n",
      "X (1000, 2)  centers (100, 2)  tol=1e-05  maxiter=200\n",
      "13 iterations  cluster sizes: [12  8 11 10 11  4  9 15 10 37  5  7  7  8 10  7 12  7  8  7 14 15 11  8\n",
      "  7  6 32 25 14 11  9 10  9  7  4 16 16  5 12  9 13 12  7 10  2  4  0  8\n",
      " 12  7 10  4  7 13  7 12  9  9 11 13  8  4 14  9  9  8 10 10 12 12 11  8\n",
      " 10 11  5  5  5  9  8 10  8  8 11  6 16 15  8 13  9 10  5 20 11 11  5  8\n",
      " 11  9 12 11]\n",
      "X (108272, 2)  centers (100, 2)  tol=1e-05  maxiter=200\n",
      "131 iterations  cluster sizes: [1300 1509 1405 1000 1099 1080  967  897 1145 1931  653  781 1220 1043\n",
      "  814  849  878  918  954 1009 1258 1192 1116  995  927  874 2253 1958\n",
      "  903 1076  952  963 1144  921  819 1776 1359  868  855  868 1118 1179\n",
      "  886 1205  952  725  887  914 2101  955 1133  772 1092 1130  905 2594\n",
      " 1032  968  992 1101  935  749 1131 1213  907  883  926 1009 1131 1001\n",
      "  856  902  676  883 1021  944 1180  822 1323 1377  951  916 1345 1078\n",
      " 2012  894  994  806  897  946  896 1461 1406  903  831  994  782 1036\n",
      " 1261  824]\n",
      ". . . . . . . . . . . . . . . . . . . . . . . . . . . . . . . . . . . . . . . . . . . . . . . . . . . . . . . . . . . . . . . . . . . . . . . . . . . . . . . . . . . . . . . . . . . . . . . . . . . . . saving data file to :  ../data_txt/systematics/6th_include_ge/act//acf_auto_dmass_weight1_nbins10_jk100.txt\n",
      "2 fwhm_r\n",
      "calculate angular correlation function\n",
      "X (1000, 2)  centers (100, 2)  tol=1e-05  maxiter=200\n",
      "15 iterations  cluster sizes: [20 21 12 15 19  7  5 16  6  9 10 10  7  5 17  5 24 12 13 12  7  2  9 18\n",
      " 13  9 11 11 16  7  6  7  8 10  5  9  5 12  3 14  9 11  4  7 11  9  7  6\n",
      " 29 15 15 23  9 14  7 14  9 10  6  5 18  0 11 11 11  6 12  4  5  6 13 12\n",
      "  2  6 12 10 13  6  5 10  8 14 14  8 12  6  7 12  5 12 11 11  5 14 11  4\n",
      "  1 10  8  7]\n",
      "X (108272, 2)  centers (100, 2)  tol=1e-05  maxiter=200\n",
      "155 iterations  cluster sizes: [ 683 1699 1215 1094 1150 1311  989 1328  860  831  883 1917 1044  778\n",
      " 1308 1301 1785  732 1267 1106  747  793 1238 1504 1503 1170 1121 1436\n",
      "  970  835  634  930  858  747  725 1162  818 1213  928 1555 1129 1012\n",
      "  957 1097 1178 1208 2195 1154 1893  905 1132 1645 1140 1258  893 1190\n",
      "  946 1151  919  636 1187  615  960 1340 1025  803  665  799  927 1352\n",
      " 2009 1845  821 1317  932  645 1265 1045 1142  980  903  827 1017  659\n",
      "  830  912 1436  628  897  849 1002 1488 1188  813 1099  661  596  926\n",
      " 1363  698]\n",
      ". . . . . . . . . . . . . . . . . . . . . . . . . . . . . . . . . . . . . . . . . . . . . . . . . . . . . . . . . . . . . . . . . . . . . . . . . . . . . . . . . . . . . . . . . . . . . . . . . . . . . saving data file to :  ../data_txt/systematics/6th_include_ge/act//acf_auto_dmass_weight2_nbins10_jk100.txt\n",
      "3 airmass_z\n",
      "calculate angular correlation function\n",
      "X (1000, 2)  centers (100, 2)  tol=1e-05  maxiter=200\n",
      "17 iterations  cluster sizes: [13 15 13  3 11 15  6  7  7  7 15 10 13 10  3  8  9  4 11 10 17  7  9  6\n",
      " 12 10  3  9 10  4 12 17  1  5  9 20  8  6  7  5 13  6 12 17  1  6 13 11\n",
      "  7 12 18 10  7 13  5  4 12  9 18 13 12  7 10 12  6 10 13  9  3  9 15 16\n",
      "  2  4 21  9  4  6  8 11 18  5 10  9 12 14  7 12 22  7 15 19 12  5 10 21\n",
      " 10  6 13 12]\n",
      "X (108272, 2)  centers (100, 2)  tol=1e-05  maxiter=200\n",
      "122 iterations  cluster sizes: [ 929  765 1209  927  933 1252  845 1061 1080 1129 1552 1049  915 1149\n",
      "  590  838 1124 1029 1305  912 1302 1347 1182 1095 1295 1447 1089 1231\n",
      " 1152  949  874 1505  956  730 1416 1290 1007  780  985  890 1133  910\n",
      " 1245 1649  922 1082  975 1038  918  893 1086  836  887 1199 1130  421\n",
      "  996  905 1299 1306 1291  950  767 1348  946 1173 1063 1224  838  996\n",
      " 1160 1315  931  939 1217  931  938 1207  951 1331 1466 1113  707  845\n",
      " 1482  986  917 1187 1248  593 1448 1633  941 1069  877 1426 1108  971\n",
      " 1214 1580]\n",
      ". . . . . . . . . . . . . . . . . . . . . . . . . . . . . . . . . . . . . . . . . . . . . . . . . . . . . . . . . . . . . . . . . . . . . . . . . . . . . . . . . . . . . . . . . . . . . . . . . . . . . saving data file to :  ../data_txt/systematics/6th_include_ge/act//acf_auto_dmass_weight3_nbins10_jk100.txt\n",
      "4 skybrite_i\n",
      "calculate angular correlation function\n",
      "X (1000, 2)  centers (100, 2)  tol=1e-05  maxiter=200\n",
      "19 iterations  cluster sizes: [15 11 16  7 16  5 10  9  8 10 11 24  5  7  6  1  6 14 14 13  8 13  8 12\n",
      "  8 17  9 17 11 16 10  9  4  3 15 12  5  9  9 12 10 10 13  8  6  8 11  8\n",
      "  4  9  7  9 10  8 11  5  2 19  2  7  5  8 20 19  3 18 19  7  5  6 11  4\n",
      "  4 26 15 20  4 11  5 14 10 11 10  8  3  7 10  8  8  3  8 14 15  5  8 15\n",
      " 16  3 26  6]\n",
      "X (108272, 2)  centers (100, 2)  tol=1e-05  maxiter=200\n",
      "129 iterations  cluster sizes: [1030 1017 1269 1319 1388  779 1249 1194  815 1015  839 1857  785 1297\n",
      " 1250  671  986  756 1624 1287 1309  966 1238 1336  832 1221 1326 1283\n",
      " 1279 1283 1255  995  629  871 1037 1317 1343 1231 1283  753 1074 1431\n",
      " 1108 1208  756 1201 1135 1294  514  861  696  901  727 1208  740  931\n",
      "  710 1397  303  812 1006 1038 1280 1768  769 1479 1351 1045  835  771\n",
      " 1077  799  196 1297 1347 1350  782 1163  601 1384 1349 1121 1222 1208\n",
      "  904 1071 1208  889 1285 1427 1187 1145 1469  384 1369 1418 1512  417\n",
      "  999 1129]\n",
      ". . . . . . . . . . . . . . . . . . . . . . . . . . . . . . . . . . . . . . . . . . . . . . . . . . . . . . . . . . . . . . . . . . . . . . . . . . . . . . . . . . . . . . . . . . . . . . . . . . . . . saving data file to :  ../data_txt/systematics/6th_include_ge/act//acf_auto_dmass_weight4_nbins10_jk100.txt\n",
      "5 skybrite_r\n",
      "calculate angular correlation function\n",
      "X (1000, 2)  centers (100, 2)  tol=1e-05  maxiter=200\n",
      "19 iterations  cluster sizes: [10  4 12  8  5 10  4 17  4  7 10 17 10  7 13 18  3  7 17  2 13  9 10 16\n",
      "  8  7 15 14 11 11 12  4 15 16 17 13  5  4  3 21 14  6 18  6  5  6 12  3\n",
      "  6  4  5  8  3 16 15  6  6 16 12 17  6  5  5  6 10 20 12 19  6  7  4 19\n",
      " 13 14  7 10  6 10 14 14  8 10  4  5 17 10  7  6 11 12 14  9 16 13  6 12\n",
      "  6 12  8 14]\n",
      "X (108272, 2)  centers (100, 2)  tol=1e-05  maxiter=200\n",
      "60 iterations  cluster sizes: [ 902  873 1186  750 1267  862  676 1476 1004  509 1053 1239 1230 1158\n",
      " 1188 1764  897 1358 1501  911 1039 1279 1002 1272  938  503 1378 1139\n",
      "  952 1134 1518 1017 1194 1024 1380  717  911 1187 1228 1306 1146  956\n",
      " 1307  907  770  599 1239 1061 1069  890  758  555  789 1403 1371  702\n",
      " 1129 1303 1411 1322 1098  797  820  969 1387 1281 1109 1391  801 1172\n",
      "  499 1226 1097 1009  949 1056 1146  599 1353 1398 1222 1043 1066  832\n",
      " 1382  918  937 1058 1025 1452 1205 1499 1320 1124 1055 1458  661 1009\n",
      " 1137 1103]\n",
      ". . . . . . . . . . . . . . . . . . . . . . . . . . . . . . . . . . . . . . . . . . . . . . . . . . . . . . . . . . . . . . . . . . . . . . . . . . . . . . . . . . . . . . . . . . . . . . . . . . . . . saving data file to :  ../data_txt/systematics/6th_include_ge/act//acf_auto_dmass_weight5_nbins10_jk100.txt\n",
      "6 fwhm_i\n",
      "calculate angular correlation function\n",
      "X (1000, 2)  centers (100, 2)  tol=1e-05  maxiter=200\n",
      "10 iterations  cluster sizes: [15  9  9 13 18 10  9 12 14 10 15 21 18  6  9 11 12  7  7  5  7 11  9  9\n",
      " 16 14  6  6 16 14 10  8 10  9  6  8  6 13 17  6 14  7  9  7  8  8  2  4\n",
      " 13  9 13  7 10  7 10  7  4 17  5 10 18  9  2  4  6  8 13 17  4 14  4  5\n",
      " 11 11 17 17  8 14  8 14  1 12  5 10 12 10  9 11 11 10 14  5 11  5 11  4\n",
      " 16 15 15  7]\n",
      "X (108272, 2)  centers (100, 2)  tol=1e-05  maxiter=200\n",
      "79 iterations  cluster sizes: [1421  914  650 1005 1395  976 1109 1306 1406 1143 1236 1271 1198 1107\n",
      " 1401  828 1312  914  584 1132 1093 1294  697 1218 1138 1014 1333 1181\n",
      " 1470 1297 1398  954 1360  684  787 1043 1152  983 1158  908 1571  913\n",
      "  807  869 1253  783  688  980 1348 1155 1329 1024  996 1066 1236 1098\n",
      "  722 1382 1377 1122 1336  839  556  914  796 1252 1178 1709  947 1518\n",
      "  976  926  600 1080 1404 1425 1444 1061 1122 1434  624  767  776  946\n",
      " 1272  978 1000  896 1143  780 1216  802 1103  807 1274 1187  996  990\n",
      " 1242  767]\n",
      ". . . . . . . . . . . . . . . . . . . . . . . . . . . . . . . . . . . . . . . . . . . . . . . . . . . . . . . . . . . . . . . . . . . . . . . . . . . . . . . . . . . . . . . . . . . . . . . . . . . . . saving data file to :  ../data_txt/systematics/6th_include_ge/act//acf_auto_dmass_weight6_nbins10_jk100.txt\n",
      "7 airmass_r\n",
      "calculate angular correlation function\n",
      "X (1000, 2)  centers (100, 2)  tol=1e-05  maxiter=200\n",
      "13 iterations  cluster sizes: [ 8  6  7 11 11 11  2 10 14  5  7 15  5 10  4 12 12 10 10  4 11 15  9 24\n",
      " 15 12  9 13  5 14  7  6 10  7  7 15 12  6 11 10 14 12 14 10  9 12 10 11\n",
      "  8 18 10  8 19  4 10  7 10  7  6  8  4  5  2  7 11 16 10 15 20  5 12 18\n",
      "  4 11 12  8  7 11 18  4  9 16  3  8  3 11  8 14 10  4 17  8  8  6 10 21\n",
      " 10 11 11 13]\n",
      "X (108272, 2)  centers (100, 2)  tol=1e-05  maxiter=200\n"
     ]
    },
    {
     "name": "stdout",
     "output_type": "stream",
     "text": [
      "86 iterations  cluster sizes: [1065 1172  838 1110  834  969  858  988 1136  766 1095  972 1040  793\n",
      "  763 1146 1157  964 1156  854 1163 1129 1125 1277 1421 1154  890 1221\n",
      "  932 1176  616  961 1234  969 1364 1203  796  840 1220 1252 1324 1212\n",
      " 1406 1298 1074 1357 1042  996  499 1175 1018 1118 1323 1108 1006  819\n",
      " 1121  750 1050 1461 1145  863 1032  642 1179 1000 1220 1204 1379 1036\n",
      "  910 1508  501 1194 1432 1080  790 1027 1439 1075 1407 1075 1000 1280\n",
      "  841 1129 1226 1712 1120  836 1198 1294 1035  913  775 1478 1137 1013\n",
      " 1237 1134]\n",
      ". . . . . . . . . . . . . . . . . . . . . . . . . . . . . . . . . . . . . . . . . . . . . . . . . . . . . . . . . . . . . . . . . . . . . . . . . . . . . . . . . . . . . . . . . . . . . . . . . . . . . saving data file to :  ../data_txt/systematics/6th_include_ge/act//acf_auto_dmass_weight7_nbins10_jk100.txt\n",
      "8 skybrite_z\n",
      "calculate angular correlation function\n",
      "X (1000, 2)  centers (100, 2)  tol=1e-05  maxiter=200\n",
      "16 iterations  cluster sizes: [12  3  6 13  8  7 10  6  9 13 14 11 14 11 13  5 12  6  9  6 12  7 10 14\n",
      " 11  6  5 12 13  8  9 13  8 13  3 19  8  7  7 10  5  6  8 11  3  9 11 14\n",
      " 10 13  8 13 18  9 15  9  3  4 11  6 12  5 14  7 10  7 14 12 11 11  5  8\n",
      " 16 14  5 12 12  8  4  9 13 15 14 10  5 11 13  8  8 14 18 15 12  8  4 25\n",
      "  6 12 17  7]\n",
      "X (108272, 2)  centers (100, 2)  tol=1e-05  maxiter=200\n",
      "81 iterations  cluster sizes: [1269  898 1085  654 1126  974 1079  986  895 1102 2098 1298 1212 1162\n",
      " 1154  884 1092  866 1059 1027 1121  919  865 1145 1604  906 1027  970\n",
      " 1108 1146 1044 1141  917  808  825 1248 1162  978 1087  931  914 1070\n",
      " 1044 1176  989 1059 1273 1111 1238  964  903 1688 1239 1268 1127  954\n",
      "  873 1061 1218  895 1080  935  928 1130 1101  966 1110 1586 1130 1317\n",
      " 1172 1056 1055  971  865 1079  949  999 1055 1256  960  859 1367 1152\n",
      "  511 1455  973 1032  923 1044 1100 1538  952 1116 1124 1527  983 1050\n",
      "  964  966]\n",
      ". . . . . . . . . . . . . . . . . . . . . . . . . . . . . . . . . . . . . . . . . . . . . . . . . . . . . . . . . . . . . . . . . . . . . . . . . . . . . . . . . . . . . . . . . . . . . . . . . . . . . saving data file to :  ../data_txt/systematics/6th_include_ge/act//acf_auto_dmass_weight8_nbins10_jk100.txt\n",
      "9 fwhm_g\n",
      "calculate angular correlation function\n",
      "X (1000, 2)  centers (100, 2)  tol=1e-05  maxiter=200\n",
      "14 iterations  cluster sizes: [13  4  8 10 12 10  9  7  9  9 10  8 15 13  6  7  8 18  5 12 12  8 12 10\n",
      " 11  7 15 13  9 11 18  7  7 22 16  9 12  7 17 10 12 12  8  8 14  7  3 12\n",
      " 14 21 19  8  3  5  5 17  8 11 12  6  5 10 10  6 13 15  9  1 22  7 17 11\n",
      "  4 12  5 14  5  3 12 14 12  8  6  8  6  6  2  6  6  7 10 10 14  4 19  7\n",
      " 10  8 13 12]\n",
      "X (108272, 2)  centers (100, 2)  tol=1e-05  maxiter=200\n",
      "54 iterations  cluster sizes: [1151  862 1137 1319  919  829 1019 1041 1084 1089 1025  993 1108 1315\n",
      "  988 1039  839 1208  875 1076  872 1066 1192 1142  881 1275 1186 1153\n",
      "  815  936 1069  951 1243 1111 1413 1161 1434 1485 1124 1058 1043 1032\n",
      "  501 1272 1297  898  827 1088 1425 1218 1214 1255  899  954 1011  968\n",
      " 1129 1030 1395 1149 1032  958 1047  994 1140 1226  982  499 1495 1015\n",
      " 1065 1325  754 1238 1008 1200  602  978 1160  819 1295 1258 1327 1057\n",
      " 1070  963 1005 1233  796 1252 1144 1202 1175 1049 1250  918 1139 1076\n",
      " 1297 1141]\n",
      ". . . . . . . . . . . . . . . . . . . . . . . . . . . . . . . . . . . . . . . . . . . . . . . . . . . . . . . . . . . . . . . . . . . . . . . . . . . . . . . . . . . . . . . . . . . . . . . . . . . . . saving data file to :  ../data_txt/systematics/6th_include_ge/act//acf_auto_dmass_weight9_nbins10_jk100.txt\n",
      "10 airmass_g\n",
      "calculate angular correlation function\n",
      "X (1000, 2)  centers (100, 2)  tol=1e-05  maxiter=200\n",
      "14 iterations  cluster sizes: [14  9 10  7 18  9  7 10 15  6 14  8 10 13 13  8 13 10  5  9  5  7 11 13\n",
      "  9 10 13 15 10  5  7  7 23 15 10  6 12 11 11 14  8  7  5  6 12 10  5  9\n",
      "  9 19 11  6 13 10  9  8  5  9  6 12  9  9 10  9  9  7 12  9  6  5 12 15\n",
      "  7 11 13 16 14 14 10  6 11 14  9 11 10  7  8 11  3 12  7 14 14  8  4  7\n",
      "  8 10 16 12]\n",
      "X (108272, 2)  centers (100, 2)  tol=1e-05  maxiter=200\n",
      "72 iterations  cluster sizes: [1132 1159 1071  986  949 1090 1045  998 1110 1097 1426  625 1007 1302\n",
      " 1322  990 1378  984  990 1174  556 1163 1156 1579  829 1280 1222  910\n",
      " 1163 1229  858  903 1693 1142 1011  998 2005 1062 1163 1107 1052 1086\n",
      "  828  914  842  859  953 1016 1202 1439 1191 1027 1113 1086 1319 1141\n",
      " 1144  850  958 1173 1211 1367 1133  816 1146  984 1113 1077  939  879\n",
      " 1125 1226 1119  992  729 1360 1278 1558  957 1141  803 1136 1047 1093\n",
      "  899  783  851 1132  896  987 1106 1010 1103 1035  981 1023 1045  846\n",
      " 1113 1176]\n",
      ". . . . . . . . . . . . . . . . . . . . . . . . . . . . . . . . . . . . . . . . . . . . . . . . . . . . . . . . . . . . . . . . . . . . . . . . . . . . . . . . . . . . . . . . . . . . . . . . . . . . . saving data file to :  ../data_txt/systematics/6th_include_ge/act//acf_auto_dmass_weight10_nbins10_jk100.txt\n",
      "11 exptime_z\n",
      "calculate angular correlation function\n",
      "X (1000, 2)  centers (100, 2)  tol=1e-05  maxiter=200\n",
      "15 iterations  cluster sizes: [ 6  6  8  5 22 19  3  6 17 11 25  5  9  4 11  7 10 10 17 16 17  6  4 13\n",
      " 19 12 11 12  8  5 16  3  5  8  7  8  8  7  6  6 19  9  8 13 10 10  8 12\n",
      " 10 13  3 13  8 11 11 18 14 15  8  9 12 13 12  4  5  9 15  5 13  7  7 14\n",
      " 14  8  4 10  3 10 13  3 14  9  3 11 15  4  6 18 19 10 11 10 10  6  3  9\n",
      "  5 14 19  3]\n",
      "X (108272, 2)  centers (100, 2)  tol=1e-05  maxiter=200\n",
      "89 iterations  cluster sizes: [1044 1032  911  950 1999 1200  810 1216  827 1123 1581 1009 1111  871\n",
      " 1366  922  804 1310 1157 1354  941 1100  859  977 1141 1082 1437 1163\n",
      " 1002 1070 1283 1090  986  926 1080  754 1269 1202  980 1190  970  993\n",
      "  953  949  874 1520 1034 1205 1046 1285 1002 1110 1131 1378 1108  936\n",
      "  980 1000  995  726 1112 1139 1186  964 1151 1077 1261 1074 1018  795\n",
      "  924 1032 1375 1141 1061 1228 1086  988 1092 1002  938 1026 1016 1099\n",
      " 1126 1039 1100 1015 1019  905  973 1143 1303 1332 1028 1009  841 1224\n",
      " 1218  888]\n",
      ". . . . . . . . . . . . . . . . . . . . . . . . . . . . . . . . . . . . . . . . . . . . . . . . . . . . . . . . . . . . . . . . . . . . . . . . . . . . . . . . . . . . . . . . . . . . . . . . . . . . . saving data file to :  ../data_txt/systematics/6th_include_ge/act//acf_auto_dmass_weight11_nbins10_jk100.txt\n",
      "12 exptime_g\n",
      "calculate angular correlation function\n",
      "X (1000, 2)  centers (100, 2)  tol=1e-05  maxiter=200\n",
      "14 iterations  cluster sizes: [ 8 17  4 11 12  6  9 11 14  9 15  4 10 12 22  6  9  8 10 17 12  7  6  1\n",
      " 18 10  8 12  2 14 13  6  7  7 11 14 13 15 22 15  2 14  2 19  4 22 13  8\n",
      " 15 13 16 14 14  5  6 15 15 10  7 10  0  8  8  3 18  3 16 10 26 16 10 12\n",
      "  7  3 14 16  1  3  5  7 14  7  5  4  4 10 12  7 12  9  5 11  9  2  7 13\n",
      " 10 12  7  3]\n",
      "X (108272, 2)  centers (100, 2)  tol=1e-05  maxiter=200\n",
      "75 iterations  cluster sizes: [1257 1306  690 1381 1074 1066 1031 1199  954  734 1314  507  552 1361\n",
      " 1267 1065 1179 1058 1011  891 1225 1066 1093  498 1085 1142  885 1118\n",
      "  968 1104 1334 1464 1024 1027 1132 1151 1091 1262 1455 1013  477 1288\n",
      " 1106 1570 1060 1654 1465 1213 1016 1034 1241 1332 1190 1166 1131 1165\n",
      " 1254  824 1185 1133 1031  985  964 1172 1189  908  932 1073 1640  956\n",
      " 1231  979 1217 1257 1252 1224  740  315 1437 1181 1219  998 1079  825\n",
      "  879 1328 1166 1150 1277  936 1063  902  973  407  890 1111 1149  956\n",
      "  990  753]\n",
      ". . . . . . . . . . . . . . . . . . . . . . . . . . . . . . . . . . . . . . . . . . . . . . . . . . . . . . . . . . . . . . . . . . . . . . . . . . . . . . . . . . . . . . . . . . . . . . . . . . . . . saving data file to :  ../data_txt/systematics/6th_include_ge/act//acf_auto_dmass_weight12_nbins10_jk100.txt\n"
     ]
    }
   ],
   "source": [
    "#tree corr\n",
    "from systematics_module.corr import angular_correlation\n",
    "os.system('mkdir '+basedir)\n",
    "#angular_correlation(data = dmass, rand = rand2, nbins=10, weight = None, njack = 100, \n",
    "#                        suffix = '_dmass_nbins10_jk100', dir = basedir)\n",
    "\n",
    "#angular_correlation(data = dmass_masked, rand = rand2_masked, nbins=10, weight = None, njack = 100, \n",
    "#                        suffix = '_dmass_veto_nbins10_jk100', dir = basedir)\n",
    "\n",
    "for i in range(1,len(weightslist)+1):\n",
    "    weight_com = np.ones(weightslist[0].size)\n",
    "    for w in weightslist[:i]: weight_com *= w\n",
    "    print i, order[i-1]\n",
    "    \n",
    "    angular_correlation(data = dmass_masked, rand = rand2_masked, nbins=10, weight = weight_com, njack = 100, \n",
    "                        suffix = '_dmass_weight'+str(i)+'_nbins10_jk100', dir = basedir)"
   ]
  },
  {
   "cell_type": "code",
   "execution_count": 263,
   "metadata": {},
   "outputs": [
    {
     "name": "stdout",
     "output_type": "stream",
     "text": [
      "err db, db / br1, brmin, br2 : 0.0430486225368798 -0.031578636660483994 0.9626761392440419 0.9844561091110935 1.0057247617809217\n",
      "err db, db / br1, brmin, br2 : 0.043315893768491986 -0.019443745913897192 0.9684769432040722 0.9903717318428705 1.0117928369725642\n",
      "err db, db / br1, brmin, br2 : 0.04348996207717393 -0.029485217893895133 0.9635069637183878 0.985471577898708 1.0069969257955618\n",
      "err db, db / br1, brmin, br2 : 0.045262804093214926 -0.054521563121468386 0.9505475833127074 0.9734626474113842 0.9958103874059223\n",
      "err db, db / br1, brmin, br2 : 0.048136814049466015 -0.0030073697504158226 0.9741200038785731 0.9984985727981668 1.0222568179280391\n",
      "err db, db / br1, brmin, br2 : 0.044255424679410904 -0.01804486859179999 0.9686834723137929 0.9910582421269991 1.0129388969932038\n",
      "err db, db / br1, brmin, br2 : 0.03955980245233004 -0.01755184080596761 0.9713231664789777 0.9913004263627961 1.0108829689313077\n",
      "err db, db / br1, brmin, br2 : 0.04624779859843475 -0.032837801690568824 0.9604709786871127 0.9838463247469817 1.0067187772855475\n",
      "err db, db / br1, brmin, br2 : 0.04429981059520072 -0.025567047703098034 0.9649591852746152 0.9873778319349686 1.009258995869816\n",
      "err db, db / br1, brmin, br2 : 0.04463325032698029 -0.020515440668036344 0.9672782047710394 0.9898464321256295 1.0119114550980197\n",
      "err db, db / br1, brmin, br2 : 0.047681725894646476 -0.021175793799702358 0.9654151465981131 0.9895230321555094 1.0130968724927596\n",
      "err db, db / br1, brmin, br2 : 0.04538387392724019 -0.03789797663268191 0.9584694740817515 0.9814033984687974 1.0038533480089917\n",
      "err db, db / br1, brmin, br2 : 0.047035195031762345 -0.022912306001773075 0.9648762600662574 0.9886736039254916 1.0119114550980197\n",
      "err db, db / br1, brmin, br2 : 0.0412547276033044 -0.02940161569337363 0.9646689158584123 0.9855121748864242 1.0059236434617167\n",
      "pic save to  ../data_txt/systematics/6th_include_ge/bias_weight.png\n"
     ]
    },
    {
     "data": {
      "image/png": "[encoded data removed]",
      "text/plain": [
       "<matplotlib.figure.Figure at 0x7fe75e85b590>"
      ]
     },
     "metadata": {},
     "output_type": "display_data"
    }
   ],
   "source": [
    "\n",
    "fig, ax = plt.subplots(figsize = (3,7))\n",
    "brelsqr = np.linspace(0.8, 1.2, 5000) \n",
    "b_n = 2.0\n",
    "brelarr = np.sqrt(brelsqr)\n",
    "dbarray = b_n*(1-brelarr)\n",
    "\n",
    "labels_SP = ['DMASS', 'veto mask'] + ['+ '+o for o in order ]\n",
    "\n",
    "filenames = [ basedir+ 'acf_auto_dmass_nbins10_jk100.txt', \\\n",
    "              basedir + 'acf_auto_dmass_veto_nbins10_jk100.txt'] +\\\n",
    "[ basedir+'acf_auto_dmass_weight'+str(j)+'_nbins10_jk100.txt' for j in range(1, len(labels_SP))]\n",
    "\n",
    "covnames = [ basedir+ 'acf_auto_dmass_nbins10_jk100.cov', \\\n",
    "              basedir + 'acf_auto_dmass_veto_nbins10_jk100.cov'] +\\\n",
    "[ basedir+'acf_auto_dmass_weight'+str(j)+'_nbins10_jk100.cov' for j in range(1, len(labels_SP))]\n",
    "\n",
    "\n",
    "for j in range(1, len(labels_SP)+1):\n",
    "    \n",
    "    meanrw, xiw, xi_errw = np.loadtxt( filenames[j-1], unpack=True)\n",
    "    cov_dmass_w = np.loadtxt( covnames[j-1], unpack=True)\n",
    "    #meanrw, xiw, xi_errw = np.loadtxt(basedir+'acf_auto_dmass_weight'+str(j)+'_nbins10_jk100.txt', unpack=True)\n",
    "    #cov_dmass_w = np.loadtxt(basedir+'acf_auto_dmass_weight'+str(j)+'_nbins10_jk100.cov', unpack=True)\n",
    "    HFd = HF(100, 10)\n",
    "    F_d = HFd * np.linalg.inv(cov_dmass_w)\n",
    "    err_brelw, brelw, chisqr_resultw = brel_chisqr_fitting(xiw, theory_sgc_interp, F_d, verbose=True)\n",
    "    if j == 1 : \n",
    "        color = 'red'\n",
    "        ax.axvspan(2.-2*brelw - err_brelw*2., 2.-2*brelw + err_brelw*2.,  alpha=0.1, color='grey')\n",
    "        ax.axvline(x=2.-2*brelw, color = 'grey', ls='--')\n",
    "    else : color = 'k'  \n",
    "        \n",
    "    ax.errorbar(2.-2*brelw, len(labels_SP)+1-j, xerr =err_brelw*2., fmt='-o', color=color)\n",
    "    \n",
    "ax.set_xlabel(r'$\\Delta b = b_{th} - b_x$', fontsize = 20)\n",
    "#ax.set_ylabel(r'$\\chi^2$')\n",
    "ax.legend(loc=1)\n",
    "ax.set_xlim(-0.1+0.02, 0.1+0.02)\n",
    "#ax.set_yticks([1,2,3,4,5,6,7,8,9,10,11,12])\n",
    "ax.set_yticks(np.arange(1, len(labels_SP)+1 ))\n",
    "\n",
    "labels = labels_SP[::-1]\n",
    "ax.set_yticklabels( labels, fontsize = 15) \n",
    "fig.savefig(rootdir + 'bias_weight.png')\n",
    "print 'pic save to ', rootdir + 'bias_weight.png'\n",
    "\n",
    "\n"
   ]
  },
  {
   "cell_type": "code",
   "execution_count": null,
   "metadata": {},
   "outputs": [],
   "source": []
  },
  {
   "cell_type": "code",
   "execution_count": null,
   "metadata": {},
   "outputs": [],
   "source": []
  },
  {
   "cell_type": "code",
   "execution_count": null,
   "metadata": {},
   "outputs": [],
   "source": []
  }
 ],
 "metadata": {
  "kernelspec": {
   "display_name": "Python 2",
   "language": "python",
   "name": "python2"
  },
  "language_info": {
   "codemirror_mode": {
    "name": "ipython",
    "version": 2
   },
   "file_extension": ".py",
   "mimetype": "text/x-python",
   "name": "python",
   "nbconvert_exporter": "python",
   "pygments_lexer": "ipython2",
   "version": "2.7.14"
  }
 },
 "nbformat": 4,
 "nbformat_minor": 1
}
