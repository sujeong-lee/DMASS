{
 "cells": [
  {
   "cell_type": "code",
   "execution_count": 1,
   "metadata": {},
   "outputs": [],
   "source": [
    "import sys, os\n",
    "sys.path.append('../')\n",
    "from xd import *\n",
    "from utils import *\n",
    "import esutil\n",
    "import healpy as hp\n",
    "from systematics import *\n",
    "from cmass_modules import *\n",
    "%matplotlib inline\n",
    "\n",
    "%load_ext autoreload\n",
    "%autoreload 2"
   ]
  },
  {
   "cell_type": "code",
   "execution_count": 2,
   "metadata": {},
   "outputs": [],
   "source": [
    "def reddening_cat(cat, reddening_map = None):\n",
    "    \n",
    "    reddening = reddening_map\n",
    "    \n",
    "    cathpind = hpRaDecToHEALPixel(cat['RA'], cat['DEC'], nside=4096, nest=False)\n",
    "    mind = np.arange(hp.nside2npix(4096))\n",
    "    reliable_hp_mask = (reddening < 0.05/0.367)\n",
    "    reliable_hpind = mind[reliable_hp_mask]\n",
    "    reliable_mask = np.in1d(cathpind, reliable_hpind)\n",
    "    \n",
    "    print cat.size,\n",
    "    cat = cat[reliable_mask]\n",
    "    print cat.size\n",
    "    \n",
    "    return cat"
   ]
  },
  {
   "cell_type": "code",
   "execution_count": 3,
   "metadata": {},
   "outputs": [],
   "source": [
    "def BOSSveto(cat, option='SGC'):\n",
    "    \n",
    "    if option == 'SGC':\n",
    "        valid_hpind = fitsio.read('/n/des/lee.5922/data/cmass_cat/vetomask/mask_nside4096_Patchy-Mocks-Randoms-DR12SGC-COMPSAM_V6C.fits')\n",
    "    elif option == 'NGC': \n",
    "        valid_hpind = fitsio.read('/n/des/lee.5922/data/cmass_cat/vetomask/mask_nside4096_Patchy-Mocks-Randoms-DR12NGC-COMPSAM_V6C.fits')\n",
    "\n",
    "    hpind = hpRaDecToHEALPixel(cat['RA'], cat['DEC'], nside=4096, nest= False)\n",
    "    HPmask = np.in1d(hpind, valid_hpind)\n",
    "    \n",
    "    return cat[HPmask]"
   ]
  },
  {
   "cell_type": "code",
   "execution_count": 4,
   "metadata": {},
   "outputs": [],
   "source": [
    "def making_healpix_density_map(cat = None, nside = 128, nest = False):\n",
    "    hpind = np.arange(hp.nside2npix(nside))\n",
    "    cat_ind = hpRaDecToHEALPixel(cat['RA'], cat['DEC'], nside= nside, nest= nest)\n",
    "    N_gal, _ = np.histogram(cat_ind, bins = np.append(hpind, hpind.size) )\n",
    "    unseen = (N_gal != 0.0)\n",
    "    pixarea = hp.nside2pixarea(nside = nside)\n",
    "    ra,dec = hpHEALPixelToRaDec(hpind)\n",
    "    Map = np.zeros( (hpind.size, ), dtype = [('RA', 'float'),('DEC', 'float'),('PIXEL', 'float'), ('N_GAL', 'float') \\\n",
    "                                            , ('WEIGHT', 'float') , ('WEIGHT_RAND', 'bool') ])\n",
    "    Map['RA'] = ra\n",
    "    Map['DEC'] = dec\n",
    "    Map['PIXEL'] = hpind\n",
    "    Map['N_GAL'] = N_gal*1./pixarea    \n",
    "    Map['WEIGHT'] = N_gal*1./pixarea \n",
    "    Map['WEIGHT_RAND'] = unseen\n",
    "    return Map"
   ]
  },
  {
   "cell_type": "code",
   "execution_count": null,
   "metadata": {},
   "outputs": [],
   "source": []
  }
 ],
 "metadata": {
  "kernelspec": {
   "display_name": "Python 2",
   "language": "python",
   "name": "python2"
  },
  "language_info": {
   "codemirror_mode": {
    "name": "ipython",
    "version": 2
   },
   "file_extension": ".py",
   "mimetype": "text/x-python",
   "name": "python",
   "nbconvert_exporter": "python",
   "pygments_lexer": "ipython2",
   "version": "2.7.5"
  }
 },
 "nbformat": 4,
 "nbformat_minor": 2
}
