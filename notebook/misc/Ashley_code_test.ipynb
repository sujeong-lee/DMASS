{
 "cells": [
  {
   "cell_type": "markdown",
   "metadata": {},
   "source": [
    "# Ashley Piar counting code test"
   ]
  },
  {
   "cell_type": "code",
   "execution_count": 3,
   "metadata": {
    "scrolled": true
   },
   "outputs": [
    {
     "name": "stderr",
     "output_type": "stream",
     "text": [
      "/n/home00/lee.5922/.local/lib/python2.7/site-packages/matplotlib/__init__.py:1405: UserWarning: \n",
      "This call to matplotlib.use() has no effect because the backend has already\n",
      "been chosen; matplotlib.use() must be called *before* pylab, matplotlib.pyplot,\n",
      "or matplotlib.backends is imported for the first time.\n",
      "\n",
      "  warnings.warn(_use_error_msg)\n"
     ]
    }
   ],
   "source": [
    "from xd import *\n",
    "from utils import *\n",
    "import esutil\n",
    "import healpy as hp\n",
    "from systematics import *\n",
    "from cmass_modules import *\n",
    "%matplotlib inline\n",
    "\n",
    "%load_ext autoreload\n",
    "%autoreload 2"
   ]
  },
  {
   "cell_type": "code",
   "execution_count": 225,
   "metadata": {},
   "outputs": [],
   "source": [
    "#&sr,&cr,&sd,&cd,&zd,&w"
   ]
  },
  {
   "cell_type": "code",
   "execution_count": 226,
   "metadata": {},
   "outputs": [],
   "source": [
    "def adding_dc_column(data, h = 0.6777, Om0 = 0.3, zlabel = 'Z'):\n",
    "    \n",
    "    from astropy.cosmology import FlatLambdaCDM\n",
    "    cosmo = FlatLambdaCDM(H0=h*100, Om0=Om0)\n",
    "    print 'Calculate comoving distance with cosmology \\nH0={}, Om0={}'.format(h, Om0)\n",
    "    sys.stdout.flush()\n",
    "    r = cosmo.comoving_distance(data[zlabel]).value *h\n",
    "    #r_rand = cosmo.comoving_distance(rand[zlabel]).value *h\n",
    "    from numpy.lib import recfunctions as rf\n",
    "    #print 'Adding Comoving distance column'\n",
    "    sys.stdout.flush()\n",
    "    data = rf.append_fields( data, 'DC', data = r )\n",
    "    #rand = rf.append_fields( rand, 'DC', data = r_rand )\n",
    "    return data    \n",
    "\n",
    "def constructing_input_file(cat, isrand = False, suffix = ''):\n",
    "    \n",
    "    cat = adding_dc_column(cat)    \n",
    "    chunk = cat.size /1000000\n",
    "    \n",
    "    for i in range(chunk+1):\n",
    "        cat_sub = cat[i*1000000:1000000*(i+1)]\n",
    "        fname = suffix+'_'+str(i)+'pcadw.dat'\n",
    "        \n",
    "        ra = cat_sub['RA']\n",
    "        dec = cat_sub['DEC']\n",
    "        dc = cat_sub['DC']\n",
    "        if isrand : weight = cat_sub['WEIGHT_FKP']\n",
    "        else : weight = cat_sub['WEIGHT_FKP']*cat_sub['WEIGHT_SYSTOT']\\\n",
    "            *( cat_sub['WEIGHT_CP'] + cat_sub['WEIGHT_NOZ'] - 1.)\n",
    "           \n",
    "        DAT = np.column_stack((np.sin(ra), np.cos(ra), np.sin(dec), np.cos(dec), dc, weight))\n",
    "        #os.mkdir('data_txt/pair_counting/')\n",
    "        np.savetxt('data_txt/pair_counting/'+fname, DAT)\n",
    "        print 'file saved to ','data_txt/pair_counting/'+fname\n",
    "\n",
    "def _constructing_input_file(cat, rand, root = 'data_txt/pair_counting/', suffix = ''):\n",
    "    \n",
    "    cat = adding_dc_column(cat)\n",
    "    rand = adding_dc_column(rand)\n",
    "    print cat.size, rand.size\n",
    "    \n",
    "    #chunk = cat.size /1000000\n",
    "    root = 'data_txt/pair_counting/'\n",
    "    _root = root + suffix+'/'\n",
    "    if not os.path.exists(_root) : os.makedirs(_root)\n",
    "    \n",
    "    for i in range(100):\n",
    "        #cat_sub = cat #[i*1000000:1000000*(i+1)]\n",
    "        if os.path.exists(_root+'ddjk'+str(i)+'pcadw.dat') : pass\n",
    "        else : \n",
    "            fname = _root+'ddjk'+str(i)+'pcadw.dat'\n",
    "            fname_rr = _root+'rrjk'+str(i)+'pcadw.dat'\n",
    "            break\n",
    "        \n",
    "    ra = cat['RA']\n",
    "    dec = cat['DEC']\n",
    "    dc = cat['DC']\n",
    "    weight = cat['WEIGHT_FKP']*cat['WEIGHT_SYSTOT']\\\n",
    "        *( cat['WEIGHT_CP'] + cat['WEIGHT_NOZ'] - 1.)\n",
    "\n",
    "    DAT = np.column_stack((np.sin(ra), np.cos(ra), np.sin(dec), np.cos(dec), dc, weight))\n",
    "    np.savetxt(fname, DAT)\n",
    "    \n",
    "    \n",
    "    ra = rand['RA']\n",
    "    dec = rand['DEC']\n",
    "    dc = rand['DC']\n",
    "    weight = rand['WEIGHT_FKP']\n",
    "\n",
    "    DAT = np.column_stack((np.sin(ra), np.cos(ra), np.sin(dec), np.cos(dec), dc, weight))\n",
    "    #os.mkdir('data_txt/pair_counting/')\n",
    "    np.savetxt(fname_rr, DAT)\n",
    "    \n",
    "    \n",
    "    \n",
    "    \n",
    "    print 'file saved to ',fname\n",
    "        \n",
    "def jk_sampling(data, rand, mpi=True, njack=10, suffix=''):\n",
    "    \n",
    "    \n",
    "    print 'JK sampling'\n",
    "    sys.stdout.flush()\n",
    "    \n",
    "    jkfile = './jkregion.txt'\n",
    "\n",
    "    raTag, decTag = 'RA', 'DEC'\n",
    "    jk.GenerateJKRegions( data[raTag], data[decTag], njack, jkfile )\n",
    "    jktest = jk.SphericalJK( target = _constructing_input_file, jkargs=[ data, rand ], \n",
    "                            jkargsby=[[raTag, decTag],[raTag, decTag]], regions = jkfile, \n",
    "                            nojkkwargs = {'suffix':suffix})\n",
    "    jktest.DoJK( regions = jkfile, mpi=mpi )\n",
    "    #jkresults = jktest.GetResults(jk=True, full = False)\n",
    "    os.remove(jkfile)\n",
    "    \n",
    "def _run_paircounting(prefix1, prefix2, path = 'data_txt/pair_counting/'):\n",
    "    arg1list = []\n",
    "    arg2list = []\n",
    "    for i in range(100):\n",
    "        #path = 'data_txt/pair_counting/'\n",
    "        arg1 = prefix1+'jk'+str(i)\n",
    "        arg2 = prefix2+'jk'+str(i)\n",
    "        if os.path.exists(path+arg1+'pcadw.dat') : \n",
    "            arg1list.append(arg1)\n",
    "            arg2list.append(arg2)\n",
    "        else: break  \n",
    "\n",
    "    for a1, a2 in zip(arg1list, arg2list) : \n",
    "        os.system('/n/des/lee.5922/programs/LSSanalysis/pp2pt_Dmufb {} {}'.format( a1, a2 ))\n",
    "        print '/n/des/lee.5922/programs/LSSanalysis/pp2pt_Dmufb {} {}'.format(a1, a2)\n",
    "                \n",
    "        \n",
    "def run_Ashley_paircounting(prefix1, prefix2, path = 'data_txt/pair_counting/', isrand=False):\n",
    "    arg1list = []\n",
    "    arg2list = []\n",
    "    for i in range(100):\n",
    "        #path = 'data_txt/pair_counting/'\n",
    "        arg1 = prefix1+'_'+str(i)\n",
    "        if os.path.exists(path+arg1+'pcadw.dat') : arg1list.append(arg1)\n",
    "        else: break  \n",
    "\n",
    "    for i in range(100):\n",
    "        #path = 'data_txt/pair_counting/'\n",
    "        arg2 = prefix2+'_'+str(i)\n",
    "        if os.path.exists(path+arg2+'pcadw.dat') : arg2list.append(arg2)\n",
    "        else: break \n",
    "\n",
    "    if isrand : \n",
    "        for a1 in arg1list : \n",
    "            os.system('/n/des/lee.5922/programs/LSSanalysis/pp2pt_Dmufb {} {}'.format( a1, a1 ))\n",
    "            print '/n/des/lee.5922/programs/LSSanalysis/pp2pt_Dmufb {} {}'.format(a1, a1)\n",
    "    elif isrand is False :   \n",
    "        for a1 in arg1list : \n",
    "            for a2 in arg2list :\n",
    "                os.system('/n/des/lee.5922/programs/LSSanalysis/pp2pt_Dmufb {} {}'.format( a1, a2 ))\n",
    "                print '/n/des/lee.5922/programs/LSSanalysis/pp2pt_Dmufb {} {}'.format(a1, a2)\n",
    "                \n",
    "                \n",
    "def main():\n",
    "    \n",
    "    path = '/n/des/lee.5922/data/cmass_cat/'\n",
    "    cmass_sgc = esutil.io.read(path+'galaxy_DR12v5_CMASS_South.fits.gz')\n",
    "    cmass_ngc = esutil.io.read(path+'galaxy_DR12v5_CMASS_North.fits.gz')\n",
    "    random = esutil.io.read('/n/des/lee.5922/data/cmass_cat/random0_DR12v5_CMASS_North.fits.gz')\n",
    "    random_sgc = esutil.io.read('/n/des/lee.5922/data/cmass_cat/random0_DR12v5_CMASS_South.fits.gz')\n",
    "    \n",
    "    constructing_input_file(cmass_ngc, suffix = 'd_ngc')\n",
    "    constructing_input_file(cmass_sgc, suffix = 'd_sgc')\n",
    "    constructing_input_file(random, isrand=True, suffix = 'r_ngc')\n",
    "    constructing_input_file(random_sgc, isrand=True, suffix = 'r_sgc') \n",
    "    \n",
    "    #ddpair\n",
    "    run_Ashley_paircounting('d_ngc', 'd_ngc', isrand=False)\n",
    "    run_Ashley_paircounting('d_ngc', 'r_ngc', isrand=False)\n",
    "    run_Ashley_paircounting('r_ngc', 'r_ngc', isrand=True)\n",
    "    #run_Ashley_paircounting(prefix1, prefix2, isrand=True)\n",
    "    "
   ]
  },
  {
   "cell_type": "code",
   "execution_count": 227,
   "metadata": {},
   "outputs": [],
   "source": [
    "def main():\n",
    "    path = '/n/des/lee.5922/data/cmass_cat/'\n",
    "    cmass_sgc = esutil.io.read(path+'galaxy_DR12v5_CMASS_South.fits.gz')\n",
    "    cmass_ngc = esutil.io.read(path+'galaxy_DR12v5_CMASS_North.fits.gz')\n",
    "    random = esutil.io.read('/n/des/lee.5922/data/cmass_cat/random0_DR12v5_CMASS_North.fits.gz')\n",
    "    random_sgc = esutil.io.read('/n/des/lee.5922/data/cmass_cat/random0_DR12v5_CMASS_South.fits.gz')\n",
    "    \n",
    "    constructing_input_file(cmass_ngc, suffix = 'd_ngc')\n",
    "    constructing_input_file(cmass_sgc, suffix = 'd_sgc')\n",
    "    constructing_input_file(random, isrand=True, suffix = 'r_ngc')\n",
    "    constructing_input_file(random_sgc, isrand=True, suffix = 'r_sgc') \n",
    "    \n",
    "    #ddpair\n",
    "    run_Ashley_paircounting('d_ngc', 'd_ngc', isrand=False)\n",
    "    run_Ashley_paircounting('d_ngc', 'r_ngc', isrand=False)\n",
    "    run_Ashley_paircounting('r_ngc', 'r_ngc', isrand=True)\n",
    "    #run_Ashley_paircounting(prefix1, prefix2, isrand=True)\n",
    "    "
   ]
  },
  {
   "cell_type": "code",
   "execution_count": 326,
   "metadata": {},
   "outputs": [],
   "source": [
    "def norm_pair(prefix1, prefix2, suffix='./'):\n",
    "\n",
    "    path = 'data_txt/pair_counting/'\n",
    "    filelist = []\n",
    "    DDpairs = np.zeros(250*100)\n",
    "    #arg2list = []\n",
    "    for i in range(50):\n",
    "        for j in range(50):\n",
    "            arg1 = prefix1+'jk'+str(i)\n",
    "            arg2 = prefix2+'jk'+str(j)\n",
    "            \n",
    "            xi_filename = path+suffix+'/'+arg1+arg2+'2ptdmu.dat'\n",
    "            #print xi_filename\n",
    "            if os.path.exists(xi_filename) :\n",
    "                DDpairs =+ np.genfromtxt(xi_filename)[1:]\n",
    "                filelist.append(xi_filename)\n",
    "                \n",
    "            else: pass \n",
    "    \n",
    "    for fi in filelist : print fi\n",
    "    return DDpairs\n",
    "    \n",
    "def binning_smu( Ncounts, sbin, mubin ):\n",
    "\n",
    "    sbin_orig, sstep = np.linspace(0,250, 251, retstep =True)\n",
    "    s = sbin_orig[:-1] + sstep/2.\n",
    "    mubin_orig, mus = np.linspace(0,1,101, retstep=True)\n",
    "    mu = mubin_orig[:-1]+mus/2.\n",
    "    \n",
    "    #npairs = Ncounts.reshape((sbin_orig.size-1, mubin_orig.size-1))\n",
    "    npairs = Ncounts\n",
    "    \n",
    "    new_npairs = np.zeros((sbin.size-1, mubin.size-1))\n",
    "    #wsqr = np.zeros((sbin.size-1, mubin.size-1))\n",
    "    for j in range(mu.size-1):\n",
    "        for i in range(s.size-1):\n",
    "            ind_s = np.digitize( s[i], sbin )\n",
    "            ind_mu = np.digitize( mu[j], mubin )\n",
    "            if ind_s == 0 or ind_s == sbin.size: pass\n",
    "            elif ind_mu == 0 or ind_mu == mubin.size: pass\n",
    "            else : \n",
    "                #print i*mu.size+j\n",
    "                new_npairs[ind_s-1, ind_mu-1] += npairs[i*mu.size+j]\n",
    "                \n",
    "\n",
    "    return new_npairs\n",
    "\n",
    "\n",
    "\n",
    "\n",
    "def _cf_smu(DD_counts, DR_counts, RR_counts, sbin, mubin):\n",
    "   \n",
    "    #DD_counts = norm_pair(d_prefix, d_prefix, suffix=suffix)#.reshape(rcenter_orig.size, mucenter.size)\n",
    "    #DR_counts = norm_pair(d_prefix, r_prefix, suffix=suffix)#.reshape(rcenter_orig.size, mucenter.size)\n",
    "    #RR_counts = norm_pair(r_prefix, r_prefix, suffix=suffix)#.reshape(rcenter_orig.size, mucenter.size)\n",
    "    \"\"\"\n",
    "    smin = 40\n",
    "    smax = 180\n",
    "    snbin = 29\n",
    "\n",
    "    sbin, step = np.linspace(smin, smax, snbin, retstep=True)\n",
    "    \n",
    "    \n",
    "    sbin_center = sbin[:-1] + step/2.\n",
    "    mubin, mus = np.linspace(0.0, 1.0, 101, retstep = True)\n",
    "    mucenter = mubin[:-1]+mus/2.\n",
    "    \"\"\"\n",
    "    \n",
    "    DD = binning_smu( DD_counts, sbin, mubin )\n",
    "    DR = binning_smu( DR_counts, sbin, mubin )\n",
    "    RR = binning_smu( RR_counts, sbin, mubin )\n",
    "    \n",
    "    DD1 = np.sum(DD, axis=1)\n",
    "    DR1 = np.sum(DR, axis=1)\n",
    "    RR1 = np.sum(RR, axis=1)\n",
    "    \n",
    "    \n",
    "    fig, ax = plt.subplots(figsize = (12, 8))\n",
    "    ax.plot(np.arange(DD1.size), DD1)\n",
    "    ax.plot(np.arange(DD1.size), DR1, '-.')\n",
    "    ax.plot(np.arange(DD1.size), RR1, '--')\n",
    "    \n",
    "    \n",
    "    \n",
    "    #wd = np.sqrt(np.sum(DD))\n",
    "    #wr = np.sqrt(np.sum(RR))\n",
    "    norm_DD = DD # *1./wd**2\n",
    "    norm_DR = DR # *1./(wd*wr)\n",
    "    norm_RR = RR # *1./wr**2\n",
    "    \n",
    "    zeromask = norm_RR == 0\n",
    "    norm_RR[zeromask] = 1.\n",
    "    xi_smu = (norm_DD - 2*norm_DR + norm_RR) *1./norm_RR\n",
    "    \n",
    "    xi_smu[zeromask] = 0\n",
    "    return xi_smu\n",
    "    \n",
    "    \n",
    "def xi_monopole(d_prefix = 'd_ngc_sub', r_prefix = 'r_ngc_sub', suffix = '.'):\n",
    "\n",
    "    \n",
    "    DD_counts = norm_pair(d_prefix, d_prefix, suffix=suffix)#.reshape(rcenter_orig.size, mucenter.size)\n",
    "    DR_counts = norm_pair(d_prefix, r_prefix, suffix=suffix)#.reshape(rcenter_orig.size, mucenter.size)\n",
    "    RR_counts = norm_pair(r_prefix, r_prefix, suffix=suffix)#.reshape(rcenter_orig.size, mucenter.size)\n",
    "\n",
    "    #norm_DD_new = np.zeros((rbin.size-1, mucenter.size))\n",
    "    #norm_DR_new = np.zeros((rbin.size-1, mucenter.size))\n",
    "    #norm_RR_new = np.zeros((rbin.size-1, mucenter.size))\n",
    "    \n",
    "    smin = 40\n",
    "    smax = 180\n",
    "    snbin = 29\n",
    "\n",
    "    sbin, step = np.linspace(smin, smax, snbin, retstep=True)\n",
    "\n",
    "    sbin_center = sbin[:-1] + step/2.\n",
    "    mubin, mus = np.linspace(0.0, 1.0, 101, retstep = True)\n",
    "    mucenter = mubin[:-1]+mus/2.\n",
    "    \n",
    "    DD = binning_smu( DD_counts, sbin, mubin )\n",
    "    DR = binning_smu( DR_counts, sbin, mubin )\n",
    "    RR = binning_smu( RR_counts, sbin, mubin )\n",
    "    \n",
    "    wd = np.sqrt(np.sum(DD))\n",
    "    wr = np.sqrt(np.sum(RR))\n",
    "    norm_DD = DD *1./wd**2\n",
    "    norm_DR = DR *1./(wd*wr)\n",
    "    norm_RR = RR *1./wr**2\n",
    "    \n",
    "    zeromask = norm_RR == 0\n",
    "    norm_RR[zeromask] = 1.\n",
    "    xi_smu = (norm_DD - 2*norm_DR + norm_RR) *1./norm_RR\n",
    "    \n",
    "    xi_smu[zeromask] = 0\n",
    "    \n",
    "    legendre0 = np.array([scipy.special.eval_legendre(0,m) for m in mucenter]).ravel() \n",
    "    #legendre2 = np.array([scipy.special.eval_legendre(2,m) for m in mucenter]).ravel() \n",
    "\n",
    "    xi_monopole = np.sum(xi_smu * legendre0.T, axis = 1)*1./mucenter.size\n",
    "    #xi_quadrupole = 5*np.sum(xi_smu * legendre2.T, axis = 1)#/mucenter.size\n",
    "\n",
    "    return sbin_center, xi_monopole"
   ]
  },
  {
   "cell_type": "code",
   "execution_count": 239,
   "metadata": {},
   "outputs": [],
   "source": [
    "def mask_spatial(cmass_sgc):\n",
    "    mask = ( cmass_sgc['RA'] < 320 ) & ( cmass_sgc['RA'] >360 ) &  ( cmass_sgc['DEC'] < 10 ) & ( cmass_sgc['RA'] > 0 )  \n",
    "    return cmass_sgc[mask]"
   ]
  },
  {
   "cell_type": "code",
   "execution_count": 240,
   "metadata": {},
   "outputs": [],
   "source": [
    "#cmass_sgc = esutil.io.read(path+'galaxy_DR12v5_CMASS_South.fits.gz')\n",
    "#random_sgc = esutil.io.read(path+'random0_DR12v5_CMASS_South.fits.gz')\n",
    "\n",
    "cmass_sub = mask_spatial(cmass_sgc)\n",
    "random_sub = mask_spatial(random_sgc)"
   ]
  },
  {
   "cell_type": "code",
   "execution_count": null,
   "metadata": {},
   "outputs": [],
   "source": [
    "suffix = 'cmass_sgc_patch'\n",
    "_constructing_input_file(cmass_sub, random_sub, root = './', suffix = suffix)\n",
    "run_paircounting('d', 'd', suffix = suffix)\n",
    "run_paircounting('d', 'r', suffix = suffix)\n",
    "run_paircounting('r', 'r', suffix = suffix)"
   ]
  },
  {
   "cell_type": "code",
   "execution_count": 246,
   "metadata": {},
   "outputs": [
    {
     "data": {
      "text/plain": [
       "1.0"
      ]
     },
     "execution_count": 246,
     "metadata": {},
     "output_type": "execute_result"
    }
   ],
   "source": [
    "from scipy.special import eval_legendre\n",
    "eval_legendre(0,0)"
   ]
  },
  {
   "cell_type": "code",
   "execution_count": null,
   "metadata": {},
   "outputs": [],
   "source": []
  },
  {
   "cell_type": "code",
   "execution_count": 331,
   "metadata": {},
   "outputs": [],
   "source": [
    "radian_ra = cmass_sgc['RA'] * np.pi/180"
   ]
  },
  {
   "cell_type": "code",
   "execution_count": 333,
   "metadata": {},
   "outputs": [
    {
     "data": {
      "text/plain": [
       "array([0.78239438, 0.78108137, 0.79456493, ..., 0.74798493, 0.74760699,\n",
       "       0.8535887 ])"
      ]
     },
     "execution_count": 333,
     "metadata": {},
     "output_type": "execute_result"
    }
   ],
   "source": [
    "np.cos(radian_ra)"
   ]
  },
  {
   "cell_type": "code",
   "execution_count": 232,
   "metadata": {
    "scrolled": true
   },
   "outputs": [
    {
     "name": "stdout",
     "output_type": "stream",
     "text": [
      "data_txt/pair_counting/cmass_sgc_test2/ddjk0ddjk02ptdmu.dat\n",
      "data_txt/pair_counting/cmass_sgc_test2/ddjk1ddjk12ptdmu.dat\n",
      "data_txt/pair_counting/cmass_sgc_test2/ddjk2ddjk22ptdmu.dat\n",
      "data_txt/pair_counting/cmass_sgc_test2/ddjk3ddjk32ptdmu.dat\n",
      "data_txt/pair_counting/cmass_sgc_test2/ddjk4ddjk42ptdmu.dat\n",
      "data_txt/pair_counting/cmass_sgc_test2/ddjk5ddjk52ptdmu.dat\n",
      "data save to  data_txt/pair_counting/cmass_sgc_test2/cfz_multipole_cmass_sgc_test2.txt\n"
     ]
    }
   ],
   "source": [
    "#rbin, rstep = np.linspace(5, 250, 50, retstep = True)\n",
    "#rcenter = rbin[:-1] + rstep/2.\n",
    "#sbin_center, xi0 = xi_monopole(d_prefix = 'dd', r_prefix = 'rr', suffix = 'cmass_sgc_jk5')\n",
    "xi_from_dat(root = 'data_txt/pair_counting/', suffix = ['cmass_sgc_patch'] )"
   ]
  },
  {
   "cell_type": "code",
   "execution_count": 200,
   "metadata": {},
   "outputs": [],
   "source": [
    "xi_jk = np.genfromtxt('data_txt/pair_counting/xi_jk.txt')"
   ]
  },
  {
   "cell_type": "code",
   "execution_count": 236,
   "metadata": {},
   "outputs": [
    {
     "name": "stdout",
     "output_type": "stream",
     "text": [
      "figsave : figure/spatialtest_.png\n"
     ]
    },
    {
     "data": {
      "image/png": "[encoded data removed]",
      "text/plain": [
       "<matplotlib.figure.Figure at 0x7faaec64c390>"
      ]
     },
     "metadata": {},
     "output_type": "display_data"
    }
   ],
   "source": [
    "spatialcheck([cmass_sgc])"
   ]
  },
  {
   "cell_type": "code",
   "execution_count": 339,
   "metadata": {},
   "outputs": [
    {
     "data": {
      "text/plain": [
       "(40, 180)"
      ]
     },
     "execution_count": 339,
     "metadata": {},
     "output_type": "execute_result"
    },
    {
     "data": {
      "image/png": "[encoded data removed]",
      "text/plain": [
       "<matplotlib.figure.Figure at 0x7faae27d5090>"
      ]
     },
     "metadata": {},
     "output_type": "display_data"
    }
   ],
   "source": [
    "DAT_measurement = np.genfromtxt('../../bandpower/SNR/data_txt/cov/Pellejero-Ibanez/Pellejero-Ibanez_2016_LOWZDR12_CMASSDR12_correlation_function_monopole_z43z75.dat')\n",
    "r_measurement = DAT_measurement[:,0]\n",
    "xi_mono_measu = DAT_measurement[:,1]\n",
    "\n",
    "DAT_measurement = np.genfromtxt('../../bandpower/SNR/data_txt/cov/Pellejero-Ibanez/Pellejero-Ibanez_2016_LOWZDR12_CMASSDR12_correlation_function_quadrupole_z43z75.dat')\n",
    "r2_measurement = DAT_measurement[:,0]\n",
    "xi_quad_measu = DAT_measurement[:,1]\n",
    "\n",
    "ibanez_cov = np.genfromtxt('../../bandpower/SNR/data_txt/cov/Pellejero-Ibanez/Pellejero-Ibanez_2016_CMASSDR12_covariance_matrix.dat') \n",
    "ibanez_err0 = np.sqrt(ibanez_cov.diagonal())[:28]\n",
    "ibanez_err2 = np.sqrt(ibanez_cov.diagonal())[28:]\n",
    "\n",
    "\n",
    "\n",
    "\n",
    "fig, ax = plt.subplots()\n",
    "\n",
    "ax.errorbar(r_measurement[7:35], r_measurement[7:35]**2*xi_mono_measu[7:35], yerr = r_measurement[7:35]**2*ibanez_err0,\\\n",
    "            fmt='--', color='grey', label = 'Ibanez et al.')\n",
    "\n",
    "#ax.errorbar(rr+2, rr**2*monopole, yerr = rr**2*err0, fmt='.')\n",
    "\n",
    "DAT = np.genfromtxt('data_txt/pair_counting/cmass_sgc_patch2/cfz_multipole_cmass_sgc_patch2.txt')\n",
    "rr, monopole, err0 = DAT[:,0],  DAT[:,1],  DAT[:,2]\n",
    "#ax.plot(rr+2, rr**2*monopole)\n",
    "ax.errorbar(rr+2, rr**2*monopole, yerr = rr**2*err0, fmt='.')\n",
    "ax.set_ylim(-100, 200)\n",
    "#ax.plot(sbin_center, sbin_center**2*xi0)\n",
    "ax.set_xlim(40, 180)"
   ]
  },
  {
   "cell_type": "code",
   "execution_count": 124,
   "metadata": {},
   "outputs": [],
   "source": [
    "DD = np.genfromtxt('data_txt/pair_counting/d_ngc_0d_ngc_02ptdmu.dat')[1:]\n",
    "DR = np.genfromtxt('data_txt/pair_counting/d_ngc_0d_ngc_02ptdmu.dat')[1:]\n",
    "RR = np.genfromtxt('data_txt/pair_counting/d_ngc_0d_ngc_02ptdmu.dat')[1:]"
   ]
  },
  {
   "cell_type": "code",
   "execution_count": 125,
   "metadata": {},
   "outputs": [],
   "source": [
    "twoptmu_dat = twoptdmu.reshape(250, 100)"
   ]
  },
  {
   "cell_type": "code",
   "execution_count": 123,
   "metadata": {},
   "outputs": [],
   "source": [
    "rbin = np.linspace(0,250, 251)\n",
    "mubin = np.linspace(0, 1, 101)"
   ]
  },
  {
   "cell_type": "code",
   "execution_count": 213,
   "metadata": {},
   "outputs": [],
   "source": [
    "path = '/n/des/lee.5922/data/cmass_cat/'\n",
    "cmass_ngc = esutil.io.read(path+'galaxy_DR12v5_CMASS_North.fits.gz', ensure_native=True)\n",
    "#random_ngc = esutil.io.read('/n/des/lee.5922/data/cmass_cat/random0_DR12v5_CMASS_North.fits.gz', ensure_native=True)\n",
    "\n",
    "cmass_sgc = esutil.io.read(path+'galaxy_DR12v5_CMASS_South.fits.gz', ensure_native=True)\n",
    "#random_sgc = esutil.io.read('/n/des/lee.5922/data/cmass_cat/random0_DR12v5_CMASS_South.fits.gz', ensure_native=True)\n",
    "\n",
    "ind = np.random.choice(np.arange(random_ngc.size), size = random_ngc.size/10)\n",
    "#ind2 = np.random.choice(np.arange(cmass_ngc.size), size = cmass_ngc.size/10)\n",
    "random = random_ngc[ind]\n",
    "#random = adding_dc_column(random)\n",
    "#cmass = cmass_ngc[ind2]\n",
    "#cmass = adding_dc_column(cmass)\n"
   ]
  },
  {
   "cell_type": "code",
   "execution_count": 149,
   "metadata": {},
   "outputs": [],
   "source": [
    "#rm data_txt/pair_counting/cmass_ngc_test/ddjk0pcadw.dat"
   ]
  },
  {
   "cell_type": "code",
   "execution_count": 155,
   "metadata": {},
   "outputs": [
    {
     "name": "stdout",
     "output_type": "stream",
     "text": [
      "JK sampling\n",
      "X (1573, 2)  centers (5, 2)  tol=1e-05  maxiter=200\n",
      "34 iterations  cluster sizes: [341 296 326 295 315]\n",
      "X (618806, 2)  centers (5, 2)  tol=1e-05  maxiter=200\n",
      "40 iterations  cluster sizes: [131955 135124 120721 115518 115488]\n",
      "Calculate comoving distance with cosmology \n",
      "H0=0.6777, Om0=0.3\n",
      "Calculate comoving distance with cosmology \n",
      "H0=0.6777, Om0=0.3\n",
      "486851 2540221\n",
      "file saved to  data_txt/pair_counting/cmass_ngc_test/ddjk1pcadw.dat\n",
      "Calculate comoving distance with cosmology \n",
      "H0=0.6777, Om0=0.3\n",
      "Calculate comoving distance with cosmology \n",
      "H0=0.6777, Om0=0.3\n",
      "483682 2504999\n",
      "file saved to  data_txt/pair_counting/cmass_ngc_test/ddjk2pcadw.dat\n",
      "Calculate comoving distance with cosmology \n",
      "H0=0.6777, Om0=0.3\n",
      "Calculate comoving distance with cosmology \n",
      "H0=0.6777, Om0=0.3\n",
      "498085 2576448\n",
      "file saved to  data_txt/pair_counting/cmass_ngc_test/ddjk3pcadw.dat\n",
      "Calculate comoving distance with cosmology \n",
      "H0=0.6777, Om0=0.3\n",
      "Calculate comoving distance with cosmology \n",
      "H0=0.6777, Om0=0.3\n",
      "503288 2630277\n",
      "file saved to  data_txt/pair_counting/cmass_ngc_test/ddjk4pcadw.dat\n",
      "Calculate comoving distance with cosmology \n",
      "H0=0.6777, Om0=0.3\n",
      "Calculate comoving distance with cosmology \n",
      "H0=0.6777, Om0=0.3\n",
      "503318 2608751\n",
      "file saved to  data_txt/pair_counting/cmass_ngc_test/ddjk5pcadw.dat\n",
      "Calculate comoving distance with cosmology \n",
      "H0=0.6777, Om0=0.3\n",
      "Calculate comoving distance with cosmology \n",
      "H0=0.6777, Om0=0.3\n",
      "618806 3215174\n",
      "file saved to  data_txt/pair_counting/cmass_ngc_test/ddjk6pcadw.dat\n"
     ]
    },
    {
     "ename": "ValueError",
     "evalue": "cannot create object arrays from iterator",
     "output_type": "error",
     "traceback": [
      "\u001b[0;31m---------------------------------------------------------------------------\u001b[0m",
      "\u001b[0;31mValueError\u001b[0m                                Traceback (most recent call last)",
      "\u001b[0;32m<ipython-input-155-13708c0ded1f>\u001b[0m in \u001b[0;36m<module>\u001b[0;34m()\u001b[0m\n\u001b[0;32m----> 1\u001b[0;31m \u001b[0mjk_sampling\u001b[0m\u001b[0;34m(\u001b[0m\u001b[0mcmass_ngc\u001b[0m\u001b[0;34m,\u001b[0m \u001b[0mrandom_ngc\u001b[0m\u001b[0;34m[\u001b[0m\u001b[0mind\u001b[0m\u001b[0;34m]\u001b[0m\u001b[0;34m,\u001b[0m \u001b[0mmpi\u001b[0m\u001b[0;34m=\u001b[0m\u001b[0mTrue\u001b[0m\u001b[0;34m,\u001b[0m \u001b[0mnjack\u001b[0m\u001b[0;34m=\u001b[0m\u001b[0;36m5\u001b[0m\u001b[0;34m,\u001b[0m \u001b[0msuffix\u001b[0m\u001b[0;34m=\u001b[0m\u001b[0;34m'cmass_ngc_test'\u001b[0m\u001b[0;34m)\u001b[0m\u001b[0;34m\u001b[0m\u001b[0m\n\u001b[0m\u001b[1;32m      2\u001b[0m \u001b[0;31m#_run_paircounting('dd', 'dd', path = 'data_txt/pair_counting/')\u001b[0m\u001b[0;34m\u001b[0m\u001b[0;34m\u001b[0m\u001b[0m\n\u001b[1;32m      3\u001b[0m \u001b[0;31m#_run_paircounting('dd', 'dr', path = 'data_txt/pair_counting/')\u001b[0m\u001b[0;34m\u001b[0m\u001b[0;34m\u001b[0m\u001b[0m\n\u001b[1;32m      4\u001b[0m \u001b[0;31m#_run_paircounting('rr', 'rr', path = 'data_txt/pair_counting/')\u001b[0m\u001b[0;34m\u001b[0m\u001b[0;34m\u001b[0m\u001b[0m\n",
      "\u001b[0;32m<ipython-input-151-5c671b8277c9>\u001b[0m in \u001b[0;36mjk_sampling\u001b[0;34m(data, rand, mpi, njack, suffix)\u001b[0m\n\u001b[1;32m     89\u001b[0m                             \u001b[0mjkargsby\u001b[0m\u001b[0;34m=\u001b[0m\u001b[0;34m[\u001b[0m\u001b[0;34m[\u001b[0m\u001b[0mraTag\u001b[0m\u001b[0;34m,\u001b[0m \u001b[0mdecTag\u001b[0m\u001b[0;34m]\u001b[0m\u001b[0;34m,\u001b[0m\u001b[0;34m[\u001b[0m\u001b[0mraTag\u001b[0m\u001b[0;34m,\u001b[0m \u001b[0mdecTag\u001b[0m\u001b[0;34m]\u001b[0m\u001b[0;34m]\u001b[0m\u001b[0;34m,\u001b[0m \u001b[0mregions\u001b[0m \u001b[0;34m=\u001b[0m \u001b[0mjkfile\u001b[0m\u001b[0;34m,\u001b[0m\u001b[0;34m\u001b[0m\u001b[0m\n\u001b[1;32m     90\u001b[0m                             nojkkwargs = {'suffix':suffix})\n\u001b[0;32m---> 91\u001b[0;31m     \u001b[0mjktest\u001b[0m\u001b[0;34m.\u001b[0m\u001b[0mDoJK\u001b[0m\u001b[0;34m(\u001b[0m \u001b[0mregions\u001b[0m \u001b[0;34m=\u001b[0m \u001b[0mjkfile\u001b[0m\u001b[0;34m,\u001b[0m \u001b[0mmpi\u001b[0m\u001b[0;34m=\u001b[0m\u001b[0mmpi\u001b[0m \u001b[0;34m)\u001b[0m\u001b[0;34m\u001b[0m\u001b[0m\n\u001b[0m\u001b[1;32m     92\u001b[0m     \u001b[0;31m#jkresults = jktest.GetResults(jk=True, full = False)\u001b[0m\u001b[0;34m\u001b[0m\u001b[0;34m\u001b[0m\u001b[0m\n\u001b[1;32m     93\u001b[0m     \u001b[0mos\u001b[0m\u001b[0;34m.\u001b[0m\u001b[0mremove\u001b[0m\u001b[0;34m(\u001b[0m\u001b[0mjkfile\u001b[0m\u001b[0;34m)\u001b[0m\u001b[0;34m\u001b[0m\u001b[0m\n",
      "\u001b[0;32m/n/home00/lee.5922/.local/lib/python2.7/site-packages/suchyta_utils/jk.pyc\u001b[0m in \u001b[0;36mDoJK\u001b[0;34m(self, regions, mpi)\u001b[0m\n\u001b[1;32m    253\u001b[0m \u001b[0;34m\u001b[0m\u001b[0m\n\u001b[1;32m    254\u001b[0m         \u001b[0;32mif\u001b[0m \u001b[0mmpi\u001b[0m\u001b[0;34m:\u001b[0m\u001b[0;34m\u001b[0m\u001b[0m\n\u001b[0;32m--> 255\u001b[0;31m             \u001b[0mresults\u001b[0m\u001b[0;34m,\u001b[0m \u001b[0mindex\u001b[0m \u001b[0;34m=\u001b[0m \u001b[0m_mpi\u001b[0m\u001b[0;34m.\u001b[0m\u001b[0mGather\u001b[0m\u001b[0;34m(\u001b[0m\u001b[0mresults\u001b[0m\u001b[0;34m,\u001b[0m \u001b[0mindex\u001b[0m\u001b[0;34m)\u001b[0m\u001b[0;34m\u001b[0m\u001b[0m\n\u001b[0m\u001b[1;32m    256\u001b[0m             \u001b[0;32mif\u001b[0m \u001b[0mrank\u001b[0m\u001b[0;34m==\u001b[0m\u001b[0;36m0\u001b[0m\u001b[0;34m:\u001b[0m\u001b[0;34m\u001b[0m\u001b[0m\n\u001b[1;32m    257\u001b[0m                 \u001b[0mself\u001b[0m\u001b[0;34m.\u001b[0m\u001b[0m_GetResults\u001b[0m\u001b[0;34m(\u001b[0m\u001b[0mresults\u001b[0m\u001b[0;34m,\u001b[0m \u001b[0mindex\u001b[0m\u001b[0;34m)\u001b[0m\u001b[0;34m\u001b[0m\u001b[0m\n",
      "\u001b[0;32m/n/home00/lee.5922/.local/lib/python2.7/site-packages/suchyta_utils/mpi.pyc\u001b[0m in \u001b[0;36mGather\u001b[0;34m(*args)\u001b[0m\n\u001b[1;32m     55\u001b[0m         \u001b[0;32mreturn\u001b[0m \u001b[0m_mpif\u001b[0m\u001b[0;34m.\u001b[0m\u001b[0m_gather\u001b[0m\u001b[0;34m(\u001b[0m\u001b[0margs\u001b[0m\u001b[0;34m[\u001b[0m\u001b[0;36m0\u001b[0m\u001b[0;34m]\u001b[0m\u001b[0;34m)\u001b[0m\u001b[0;34m\u001b[0m\u001b[0m\n\u001b[1;32m     56\u001b[0m     \u001b[0;32melse\u001b[0m\u001b[0;34m:\u001b[0m\u001b[0;34m\u001b[0m\u001b[0m\n\u001b[0;32m---> 57\u001b[0;31m         \u001b[0;32mreturn\u001b[0m \u001b[0;34m[\u001b[0m\u001b[0m_mpif\u001b[0m\u001b[0;34m.\u001b[0m\u001b[0m_gather\u001b[0m\u001b[0;34m(\u001b[0m\u001b[0marg\u001b[0m\u001b[0;34m)\u001b[0m \u001b[0;32mfor\u001b[0m \u001b[0marg\u001b[0m \u001b[0;32min\u001b[0m \u001b[0margs\u001b[0m\u001b[0;34m]\u001b[0m\u001b[0;34m\u001b[0m\u001b[0m\n\u001b[0m\u001b[1;32m     58\u001b[0m \u001b[0;34m\u001b[0m\u001b[0m\n\u001b[1;32m     59\u001b[0m \u001b[0;32mdef\u001b[0m \u001b[0mScatter\u001b[0m\u001b[0;34m(\u001b[0m\u001b[0;34m*\u001b[0m\u001b[0margs\u001b[0m\u001b[0;34m)\u001b[0m\u001b[0;34m:\u001b[0m\u001b[0;34m\u001b[0m\u001b[0m\n",
      "\u001b[0;32m/n/home00/lee.5922/.local/lib/python2.7/site-packages/suchyta_utils/_mpifunctions.pyc\u001b[0m in \u001b[0;36m_gather\u001b[0;34m(arr)\u001b[0m\n\u001b[1;32m     43\u001b[0m \u001b[0;34m\u001b[0m\u001b[0m\n\u001b[1;32m     44\u001b[0m             \u001b[0;31m#arr = np.fromiter(arr, dtype=np.float)\u001b[0m\u001b[0;34m\u001b[0m\u001b[0;34m\u001b[0m\u001b[0m\n\u001b[0;32m---> 45\u001b[0;31m             \u001b[0marr\u001b[0m \u001b[0;34m=\u001b[0m \u001b[0mnp\u001b[0m\u001b[0;34m.\u001b[0m\u001b[0mfromiter\u001b[0m\u001b[0;34m(\u001b[0m\u001b[0marr\u001b[0m\u001b[0;34m,\u001b[0m \u001b[0mdtype\u001b[0m\u001b[0;34m=\u001b[0m\u001b[0mdt\u001b[0m\u001b[0;34m)\u001b[0m\u001b[0;34m\u001b[0m\u001b[0m\n\u001b[0m\u001b[1;32m     46\u001b[0m \u001b[0;34m\u001b[0m\u001b[0m\n\u001b[1;32m     47\u001b[0m             \u001b[0;32mif\u001b[0m \u001b[0mrs\u001b[0m \u001b[0;32mis\u001b[0m \u001b[0;32mnot\u001b[0m \u001b[0mNone\u001b[0m\u001b[0;34m:\u001b[0m\u001b[0;34m\u001b[0m\u001b[0m\n",
      "\u001b[0;31mValueError\u001b[0m: cannot create object arrays from iterator"
     ]
    }
   ],
   "source": [
    "#jk_sampling(cmass_ngc, random_ngc[ind], mpi=True, njack=5, suffix='cmass_ngc_test')\n",
    "_run_paircounting('dd', 'dd', path = 'data_txt/pair_counting/cmass_ngc_test/')\n",
    "_run_paircounting('dd', 'rr', path = 'data_txt/pair_counting/cmass_ngc_test/')\n",
    "_run_paircounting('rr', 'rr', path = 'data_txt/pair_counting/cmass_ngc_test/')"
   ]
  },
  {
   "cell_type": "code",
   "execution_count": null,
   "metadata": {},
   "outputs": [
    {
     "name": "stdout",
     "output_type": "stream",
     "text": [
      "calculate correlation function multipoles 0 and 2\n",
      "# of jackknife sample : 5\n",
      "# of threads : 20\n",
      "Ndata : 61880  Nrand : 3215174\n",
      "corr file will be saved to data_txt/pair_counting/cmass_test2/cfz_multipole.txt\n",
      "Calculate comoving distance with Planck cosmology \n",
      "H0=68.0, Om0=0.305\n",
      "Cannot find comoving distance column... Adding Comoving distance column\n",
      "JK sampling\n",
      "X (497, 2)  centers (5, 2)  tol=1e-05  maxiter=200\n",
      "14 iterations  cluster sizes: [ 75  87  86 133 116]\n",
      "X (61880, 2)  centers (5, 2)  tol=1e-05  maxiter=200\n",
      "14 iterations  cluster sizes: [11416 12631 11829 13631 12373]\n",
      "data_txt/pair_counting/cmass_test2/dd_jk12.pkl\n",
      "data_txt/pair_counting/cmass_test2/dr_jk12.pkl\n",
      "data_txt/pair_counting/cmass_test2/rr_jk12.pkl\n",
      "data_txt/pair_counting/cmass_test2/dd_jk13.pkl\n",
      "data_txt/pair_counting/cmass_test2/dr_jk13.pkl\n",
      "data_txt/pair_counting/cmass_test2/rr_jk13.pkl\n",
      "data_txt/pair_counting/cmass_test2/dd_jk14.pkl\n",
      "data_txt/pair_counting/cmass_test2/dr_jk14.pkl\n"
     ]
    }
   ],
   "source": [
    "ind = np.random.choice(np.arange(cmass_ngc.size), size = cmass_ngc.size/10)\n",
    "from systematics_module.corr import correlation_function_multipoles, _cfz_multipoles\n",
    "correlation_function_multipoles(data = cmass_ngc[ind], \n",
    "                                rand = random, zlabel = 'Z', njack = 5, \n",
    "                                weight = False, suffix = 'cmass_test2', nthreads = 20)\n"
   ]
  },
  {
   "cell_type": "code",
   "execution_count": 211,
   "metadata": {},
   "outputs": [
    {
     "data": {
      "text/plain": [
       "618806"
      ]
     },
     "execution_count": 211,
     "metadata": {},
     "output_type": "execute_result"
    }
   ],
   "source": [
    "cmass_ngc.size"
   ]
  },
  {
   "cell_type": "code",
   "execution_count": 19,
   "metadata": {},
   "outputs": [
    {
     "data": {
      "text/plain": [
       "<matplotlib.legend.Legend at 0x7f369b7e99d0>"
      ]
     },
     "execution_count": 19,
     "metadata": {},
     "output_type": "execute_result"
    },
    {
     "data": {
      "image/png": "[encoded data removed]",
      "text/plain": [
       "<matplotlib.figure.Figure at 0x7f369c511c50>"
      ]
     },
     "metadata": {},
     "output_type": "display_data"
    }
   ],
   "source": [
    "DAT_measurement = np.genfromtxt('../../bandpower/SNR/data_txt/cov/Pellejero-Ibanez/Pellejero-Ibanez_2016_LOWZDR12_CMASSDR12_correlation_function_monopole_z43z75.dat')\n",
    "r_measurement = DAT_measurement[:,0]\n",
    "xi_mono_measu = DAT_measurement[:,1]\n",
    "\n",
    "DAT_measurement = np.genfromtxt('../../bandpower/SNR/data_txt/cov/Pellejero-Ibanez/Pellejero-Ibanez_2016_LOWZDR12_CMASSDR12_correlation_function_quadrupole_z43z75.dat')\n",
    "r2_measurement = DAT_measurement[:,0]\n",
    "xi_quad_measu = DAT_measurement[:,1]\n",
    "\n",
    "ibanez_cov = np.genfromtxt('../../bandpower/SNR/data_txt/cov/Pellejero-Ibanez/Pellejero-Ibanez_2016_CMASSDR12_covariance_matrix.dat') \n",
    "ibanez_err0 = np.sqrt(ibanez_cov.diagonal())[:28]\n",
    "ibanez_err2 = np.sqrt(ibanez_cov.diagonal())[28:]\n",
    "\n",
    "\n",
    "#DAT = np.genfromtxt('data_txt/pair_counting/cmass_ngc/cfz_multipole_cmass_ngc.txt')\n",
    "DAT = np.genfromtxt('data_txt/pair_counting/cmass_ngc_jk5/cfz_multipole_cmass_ngc_jk5.txt')\n",
    "rr, monopole, err0 = DAT[:,0],  DAT[:,1],  DAT[:,2]\n",
    "\n",
    "fig, ax = plt.subplots(figsize = (15,10))\n",
    "\n",
    "ax.errorbar(r_measurement[7:35], r_measurement[7:35]**2*xi_mono_measu[7:35], yerr = r_measurement[7:35]**2*ibanez_err0,\\\n",
    "            fmt='--', color='grey', label = 'Ibanez et al.')\n",
    "ax.errorbar(rr+1, rr**2*monopole, yerr=rr**2*err0, fmt='', label = 'my work, NGC' )\n",
    "\n",
    "\n",
    "\n",
    "DAT = np.genfromtxt('data_txt/pair_counting/cmass_sgc/cfz_multipole_cmass_sgc.txt')\n",
    "DAT = np.genfromtxt('data_txt/pair_counting/cmass_sgc_jk5/cfz_multipole_cmass_sgc_jk5.txt')\n",
    "rr, monopole_sgc, err0 = DAT[:,0],  DAT[:,1],  DAT[:,2]\n",
    "ax.errorbar(rr+2, rr**2*monopole_sgc, yerr=rr**2*err0, fmt='', label = 'my work, SGC' )\n",
    "\n",
    "#monopole_full = ( cmass_ngc.size * monopole + cmass_sgc.size * monopole_sgc) *1./(cmass_ngc.size + cmass_sgc.size)\n",
    "#ax.errorbar(rr+3, rr**2*monopole_full, yerr=rr**2*err0, fmt='', label = 'my work, SGC + NGC')\n",
    "\n",
    "theory_rr, theory_corr = np.genfromtxt('data_txt/Ashley_cmass/xi0gcmassSdr12v4_mz0.43xz0.7fcos65st0.dat', unpack=True)\n",
    "theory_rr, theory_corr = np.genfromtxt('data_txt/Ashley_cmass/xi0gcmassNdr12v4_mz0.43xz0.7fcos65st0.dat', unpack=True)\n",
    "ax.plot(theory_rr, theory_rr**2*theory_corr, 'k-' , label = 'Ashley')\n",
    "#theory_corr2 = np.genfromtxt('../../bandpower/SNR/data_txt/datav/mcmc_cmass_zcut_xionly_b_monopole.datavector')[1500:1500+28]\n",
    "\n",
    "\n",
    "#ax.errorbar(sbin_center+1, sbin_center**2*xi_mean, yerr=sbin_center**2*xijkerr, fmt='' )\n",
    "#ax.errorbar(sbin_center2+2, sbin_center2**2*xi_mean2, yerr=sbin_center2**2*xijkerr2, fmt='' )\n",
    "\n",
    "ax.set_ylim(-50, 100)\n",
    "ax.set_xlim(30,200)\n",
    "ax.legend()"
   ]
  },
  {
   "cell_type": "code",
   "execution_count": 336,
   "metadata": {},
   "outputs": [],
   "source": [
    "\n",
    "import pickle\n",
    "import scipy\n",
    "from systematics_module.corr import cf_smu\n",
    "\n",
    "\n",
    "def xi_from_dat(root = 'data_txt/pair_counting/', suffix = ['', ''] ):\n",
    "\n",
    "\n",
    "    smin = 40\n",
    "    smax = 180\n",
    "    snbin = 29\n",
    "\n",
    "    sbin, step = np.linspace(smin, smax, snbin, retstep=True)\n",
    "\n",
    "    sbin_center = sbin[:-1] + step/2.\n",
    "    mubin, mus = np.linspace(0.0, 1.0, 101, retstep = True)\n",
    "    mucenter = mubin[:-1]+mus/2.\n",
    "\n",
    "    xilist = []\n",
    "\n",
    "    for s in suffix:\n",
    "        _root = root + s+'/'\n",
    "        for i in range(100):\n",
    "            dd_picklename = _root+'djk{}djk{}2ptdmu.dat'.format(i,i)\n",
    "            dr_picklename = _root+'djk{}rjk{}2ptdmu.dat'.format(i,i)\n",
    "            rr_picklename = _root+'rjk{}rjk{}2ptdmu.dat'.format(i,i)\n",
    "            if os.path.exists(dd_picklename):\n",
    "                print dd_picklename\n",
    "                \n",
    "                dd = np.loadtxt(dd_picklename)[1:] *1./np.loadtxt(dd_picklename)[0] \n",
    "                dr = np.loadtxt(dr_picklename)[1:] *1./np.loadtxt(dr_picklename)[0]\n",
    "                rr = np.loadtxt(rr_picklename)[1:] *1./np.loadtxt(rr_picklename)[0]\n",
    "\n",
    "                xi_smu = _cf_smu( dd, dr, rr, sbin, mubin)                \n",
    "                \n",
    "                legendre0 = np.array([scipy.special.eval_legendre(0,m) for m in mucenter]).ravel() \n",
    "                #legendre2 = np.array([scipy.special.eval_legendre(2,m) for m in mucenter]).ravel() \n",
    "\n",
    "                xi_monopole = np.sum(xi_smu * legendre0.T, axis = 1)/mucenter.size\n",
    "                #xi_quadrupole = 5*np.sum(xi_smu * legendre2.T, axis = 1)/mucenter.size\n",
    "\n",
    "                xilist.append(xi_monopole)\n",
    "\n",
    "            else : break\n",
    "\n",
    "                \n",
    "    \n",
    "    njack = len(xilist)-1\n",
    "    \n",
    "    xi_data = np.column_stack((xilist))\n",
    "    np.savetxt(root+'/xi_jk.txt', xi_data )\n",
    "    xi_mean = np.mean(xilist, axis = 0)\n",
    "    norm = 1. * (njack-1)/njack\n",
    "\n",
    "    xi_cov = 0\n",
    "    for k in range(njack):\n",
    "        xi_cov +=  (xilist[k] - xi_mean)**2\n",
    "    xijkerr = np.sqrt(norm * xi_cov)\n",
    "    \n",
    "    DAT = np.column_stack((sbin_center, xi_mean, xijkerr))\n",
    "    if len(suffix) == 1 : txtname = _root+'cfz_multipole'\n",
    "    elif len(suffix) > 1 : txtname = root+'cfz_multipole_combine'\n",
    "    for s in suffix : txtname += '_'+s\n",
    "\n",
    "    np.savetxt(txtname+'.txt', DAT)\n",
    "    print 'data save to ', txtname+'.txt'"
   ]
  },
  {
   "cell_type": "code",
   "execution_count": 337,
   "metadata": {
    "scrolled": false
   },
   "outputs": [
    {
     "name": "stdout",
     "output_type": "stream",
     "text": [
      "data_txt/pair_counting/cmass_sgc_patch2/djk0djk02ptdmu.dat\n"
     ]
    },
    {
     "ename": "ZeroDivisionError",
     "evalue": "float division by zero",
     "output_type": "error",
     "traceback": [
      "\u001b[0;31m---------------------------------------------------------------------------\u001b[0m",
      "\u001b[0;31mZeroDivisionError\u001b[0m                         Traceback (most recent call last)",
      "\u001b[0;32m<ipython-input-337-abee718a7053>\u001b[0m in \u001b[0;36m<module>\u001b[0;34m()\u001b[0m\n\u001b[0;32m----> 1\u001b[0;31m \u001b[0mxi_from_dat\u001b[0m\u001b[0;34m(\u001b[0m\u001b[0mroot\u001b[0m \u001b[0;34m=\u001b[0m \u001b[0;34m'data_txt/pair_counting/'\u001b[0m\u001b[0;34m,\u001b[0m \u001b[0msuffix\u001b[0m \u001b[0;34m=\u001b[0m \u001b[0;34m[\u001b[0m\u001b[0;34m'cmass_sgc_patch2'\u001b[0m\u001b[0;34m]\u001b[0m \u001b[0;34m)\u001b[0m\u001b[0;34m\u001b[0m\u001b[0m\n\u001b[0m",
      "\u001b[0;32m<ipython-input-336-81710969c0e0>\u001b[0m in \u001b[0;36mxi_from_dat\u001b[0;34m(root, suffix)\u001b[0m\n\u001b[1;32m     52\u001b[0m     \u001b[0mnp\u001b[0m\u001b[0;34m.\u001b[0m\u001b[0msavetxt\u001b[0m\u001b[0;34m(\u001b[0m\u001b[0mroot\u001b[0m\u001b[0;34m+\u001b[0m\u001b[0;34m'/xi_jk.txt'\u001b[0m\u001b[0;34m,\u001b[0m \u001b[0mxi_data\u001b[0m \u001b[0;34m)\u001b[0m\u001b[0;34m\u001b[0m\u001b[0m\n\u001b[1;32m     53\u001b[0m     \u001b[0mxi_mean\u001b[0m \u001b[0;34m=\u001b[0m \u001b[0mnp\u001b[0m\u001b[0;34m.\u001b[0m\u001b[0mmean\u001b[0m\u001b[0;34m(\u001b[0m\u001b[0mxilist\u001b[0m\u001b[0;34m,\u001b[0m \u001b[0maxis\u001b[0m \u001b[0;34m=\u001b[0m \u001b[0;36m0\u001b[0m\u001b[0;34m)\u001b[0m\u001b[0;34m\u001b[0m\u001b[0m\n\u001b[0;32m---> 54\u001b[0;31m     \u001b[0mnorm\u001b[0m \u001b[0;34m=\u001b[0m \u001b[0;36m1.\u001b[0m \u001b[0;34m*\u001b[0m \u001b[0;34m(\u001b[0m\u001b[0mnjack\u001b[0m\u001b[0;34m-\u001b[0m\u001b[0;36m1\u001b[0m\u001b[0;34m)\u001b[0m\u001b[0;34m/\u001b[0m\u001b[0mnjack\u001b[0m\u001b[0;34m\u001b[0m\u001b[0m\n\u001b[0m\u001b[1;32m     55\u001b[0m \u001b[0;34m\u001b[0m\u001b[0m\n\u001b[1;32m     56\u001b[0m     \u001b[0mxi_cov\u001b[0m \u001b[0;34m=\u001b[0m \u001b[0;36m0\u001b[0m\u001b[0;34m\u001b[0m\u001b[0m\n",
      "\u001b[0;31mZeroDivisionError\u001b[0m: float division by zero"
     ]
    },
    {
     "data": {
      "image/png": "[encoded data removed]",
      "text/plain": [
       "<matplotlib.figure.Figure at 0x7faae2b77810>"
      ]
     },
     "metadata": {},
     "output_type": "display_data"
    }
   ],
   "source": [
    "xi_from_dat(root = 'data_txt/pair_counting/', suffix = ['cmass_sgc_patch2'] )"
   ]
  },
  {
   "cell_type": "code",
   "execution_count": 304,
   "metadata": {},
   "outputs": [],
   "source": [
    "dd = np.genfromtxt('data_txt/pair_counting/cmass_ngc_jk5/ddjk0ddjk02ptdmu.dat')\n",
    "norm_dd = (dd[1:] * 1./dd[0]).reshape(250, 100)\n",
    "norm_dd_s = np.sum(norm_dd, axis = 1)\n",
    "\n",
    "dr = np.genfromtxt('data_txt/pair_counting/cmass_ngc_jk5/ddjk0rrjk02ptdmu.dat')\n",
    "norm_dr = (dr[1:] * 1./dr[0]).reshape(250, 100)\n",
    "norm_dr_s = np.sum(norm_dr, axis = 1)\n",
    "\n",
    "rr = np.genfromtxt('data_txt/pair_counting/cmass_ngc_jk5/rrjk0rrjk02ptdmu.dat')\n",
    "norm_rr = (rr[1:] * 1./rr[0]).reshape(250, 100)\n",
    "norm_rr_s = np.sum(norm_rr, axis = 1)"
   ]
  },
  {
   "cell_type": "code",
   "execution_count": 16,
   "metadata": {},
   "outputs": [],
   "source": [
    "\n",
    "\n",
    "import pickle\n",
    "import scipy\n",
    "from systematics_module.corr import cf_smu, rp_pi_counts_to_smu\n",
    "root = 'data_txt/pair_counting/cmass_test2/'\n",
    "\n",
    "\n",
    "def xi_from_pickle(root = 'data_txt/pair_counting/', suffix = ['', ''] ):\n",
    "\n",
    "\n",
    "    smin = 40\n",
    "    smax = 180\n",
    "    snbin = 29\n",
    "\n",
    "    sbin, step = np.linspace(smin, smax, snbin, retstep=True)\n",
    "\n",
    "    sbin_center = sbin[:-1] + step/2.\n",
    "    mubin, mus = np.linspace(0.0, 1.0, 101, retstep = True)\n",
    "    mucenter = mubin[:-1]+mus/2.\n",
    "\n",
    "    xilist = []\n",
    "\n",
    "    for s in suffix:\n",
    "        _root = root + s+'/'\n",
    "        for i in range(100):\n",
    "            dd_picklename = _root+'dd_jk{}.pkl'.format(i)\n",
    "            dr_picklename = _root+'dr_jk{}.pkl'.format(i)\n",
    "            rr_picklename = _root+'rr_jk{}.pkl'.format(i)\n",
    "            if os.path.exists(dd_picklename):\n",
    "                print dd_picklename\n",
    "                dd = pickle.load(open(dd_picklename))\n",
    "                dr = pickle.load(open(dr_picklename))\n",
    "                rr = pickle.load(open(rr_picklename))\n",
    "\n",
    "                xi_smu = cf_smu( dd, dr, rr, sbin, mubin, None, None)\n",
    "\n",
    "                legendre0 = np.array([scipy.special.eval_legendre(0,m) for m in mucenter]).ravel() \n",
    "                #legendre2 = np.array([scipy.special.eval_legendre(2,m) for m in mucenter]).ravel() \n",
    "\n",
    "                xi_monopole = np.sum(xi_smu * legendre0.T, axis = 1)/mucenter.size\n",
    "                #xi_quadrupole = 5*np.sum(xi_smu * legendre2.T, axis = 1)/mucenter.size\n",
    "\n",
    "                xilist.append(xi_monopole)\n",
    "\n",
    "            else : break\n",
    "\n",
    "    njack = len(xilist)-1\n",
    "    xi_mean = np.mean(xilist, axis = 0)\n",
    "    norm = 1. * (njack-1)/njack\n",
    "\n",
    "    xi_cov = 0\n",
    "    for k in range(njack):\n",
    "        xi_cov +=  (xilist[k] - xi_mean)**2\n",
    "    xijkerr = np.sqrt(norm * xi_cov)\n",
    "    \n",
    "    DAT = np.column_stack((sbin_center, xi_mean, xijkerr))\n",
    "    if len(suffix) == 1 : txtname = _root+'cfz_multipole'\n",
    "    elif len(suffix) > 1 : txtname = root+'cfz_multipole_combine'\n",
    "    for s in suffix : txtname += '_'+s\n",
    "\n",
    "    np.savetxt(txtname+'.txt', DAT)\n",
    "    print 'data save to ', txtname+'.txt'"
   ]
  },
  {
   "cell_type": "code",
   "execution_count": 17,
   "metadata": {
    "scrolled": false
   },
   "outputs": [
    {
     "name": "stdout",
     "output_type": "stream",
     "text": [
      "data_txt/pair_counting/cmass_ngc/dd_jk0.pkl\n"
     ]
    },
    {
     "name": "stderr",
     "output_type": "stream",
     "text": [
      "systematics_module/corr.py:86: RuntimeWarning: invalid value encountered in divide\n",
      "  \n"
     ]
    },
    {
     "name": "stdout",
     "output_type": "stream",
     "text": [
      "data_txt/pair_counting/cmass_ngc/dd_jk1.pkl\n",
      "data_txt/pair_counting/cmass_ngc/dd_jk2.pkl\n",
      "data_txt/pair_counting/cmass_ngc/dd_jk3.pkl\n",
      "data_txt/pair_counting/cmass_ngc/dd_jk4.pkl\n",
      "data_txt/pair_counting/cmass_ngc/dd_jk5.pkl\n",
      "data_txt/pair_counting/cmass_ngc/dd_jk6.pkl\n",
      "data_txt/pair_counting/cmass_ngc/dd_jk7.pkl\n",
      "data_txt/pair_counting/cmass_ngc/dd_jk8.pkl\n",
      "data_txt/pair_counting/cmass_ngc/dd_jk9.pkl\n",
      "data_txt/pair_counting/cmass_ngc/dd_jk10.pkl\n",
      "data_txt/pair_counting/cmass_ngc/dd_jk11.pkl\n",
      "data_txt/pair_counting/cmass_ngc/dd_jk12.pkl\n",
      "data_txt/pair_counting/cmass_ngc/dd_jk13.pkl\n",
      "data_txt/pair_counting/cmass_ngc/dd_jk14.pkl\n",
      "data_txt/pair_counting/cmass_ngc/dd_jk15.pkl\n",
      "data_txt/pair_counting/cmass_ngc/dd_jk16.pkl\n",
      "data_txt/pair_counting/cmass_ngc/dd_jk17.pkl\n",
      "data_txt/pair_counting/cmass_ngc/dd_jk18.pkl\n",
      "data_txt/pair_counting/cmass_ngc/dd_jk19.pkl\n",
      "data_txt/pair_counting/cmass_ngc/dd_jk20.pkl\n",
      "data save to  data_txt/pair_counting/cmass_ngc/cfz_multipole_cmass_ngc.txt\n"
     ]
    }
   ],
   "source": [
    "xi_from_pickle(root = 'data_txt/pair_counting/', suffix = ['cmass_ngc'] )"
   ]
  },
  {
   "cell_type": "code",
   "execution_count": 272,
   "metadata": {},
   "outputs": [
    {
     "data": {
      "text/plain": [
       "(618806, 3215174)"
      ]
     },
     "execution_count": 272,
     "metadata": {},
     "output_type": "execute_result"
    }
   ],
   "source": [
    "cmass_ngc.size, random_ngc.size/10"
   ]
  },
  {
   "cell_type": "code",
   "execution_count": null,
   "metadata": {},
   "outputs": [],
   "source": [
    "constructing_input_file(cmass_sub, suffix = 'd_ngc_sub')"
   ]
  },
  {
   "cell_type": "code",
   "execution_count": 92,
   "metadata": {},
   "outputs": [
    {
     "name": "stdout",
     "output_type": "stream",
     "text": [
      "/n/des/lee.5922/programs/LSSanalysis/pp2pt_Dmufb d_ngc_sub_0 d_ngc_sub_0\n"
     ]
    }
   ],
   "source": [
    "run_Ashley_paircounting('d_ngc_sub', 'd_ngc_sub', isrand=False)"
   ]
  },
  {
   "cell_type": "code",
   "execution_count": 86,
   "metadata": {},
   "outputs": [
    {
     "name": "stdout",
     "output_type": "stream",
     "text": [
      "/n/des/lee.5922/programs/LSSanalysis/pp2pt_Dmufb d_ngc_0 d_ngc_0\n"
     ]
    }
   ],
   "source": [
    "#ddpair\n",
    "prefix1 = 'd_ngc'\n",
    "prefix2 = 'd_ngc'\n",
    "run_Ashley_paircounting(prefix1, prefix2, isrand=False)\n",
    "#run_Ashley_paircounting(prefix1, prefix2, isrand=True)"
   ]
  },
  {
   "cell_type": "code",
   "execution_count": null,
   "metadata": {},
   "outputs": [],
   "source": []
  },
  {
   "cell_type": "code",
   "execution_count": 370,
   "metadata": {},
   "outputs": [],
   "source": [
    "    from scipy.interpolate import interp1d\n",
    "    import scipy"
   ]
  },
  {
   "cell_type": "code",
   "execution_count": 440,
   "metadata": {},
   "outputs": [
    {
     "name": "stdout",
     "output_type": "stream",
     "text": [
      "16 16\n"
     ]
    },
    {
     "data": {
      "image/png": "[encoded data removed]",
      "text/plain": [
       "<matplotlib.figure.Figure at 0x7f78ab7839d0>"
      ]
     },
     "metadata": {},
     "output_type": "display_data"
    }
   ],
   "source": [
    "def twomass_zdist():\n",
    "    \n",
    "    zdist = np.genfromtxt('/n/des/lee.5922/programs/cosmolike/MG_musigma/zdistris/zdistribution_2masx_v2.txt')\n",
    "    zbin = zdist[:,0]\n",
    "    #zbin_sta = zbin[:-1]\n",
    "    #zbin_mid = [zbin[i] + (zbin[i+1] - zbin[i])/2. for i in range(zbin.size-1)]\n",
    "    zbin_mid = (zbin + 0.005)\n",
    "    zbin_end = zdist[:,1]\n",
    "    Ngal = zdist[:,2]\n",
    "    \n",
    "    print zbin_mid.size, Ngal.size\n",
    "    fig, ax = plt.subplots()\n",
    "    #ax.plot(zbin_sta, Ngal, '.')\n",
    "    #ax.plot(zbin_mid, Ngal,'.')\n",
    "    #ax.plot(zbin_end, Ngal,'.')\n",
    "    \n",
    "\n",
    "    #zbin_mid = np.append(zbin_mid,0.23)\n",
    "    #Ngal = np.append(Ngal,0.0)\n",
    "    \n",
    "    #zbin_mid = np.insert(zbin_mid, 0, 0)\n",
    "    #Ngal = np.insert(Ngal, 0, 0)\n",
    "    \n",
    "    zbin_even, step = np.linspace(zbin_mid[0], zbin_mid[-1], 100, retstep=True)\n",
    "    Ngal_interp = interp1d(zbin_mid, Ngal, kind='quadratic')\n",
    "    Ngal_interp = Ngal_interp(zbin_even)\n",
    "    #print Ngal_interp\n",
    "    ax.plot(zbin_even, Ngal_interp )\n",
    "    \n",
    "    #print zbin_even\n",
    "    \n",
    "    zbin_interp_start = zbin_even - step/2.\n",
    "    zbin_interp_end = zbin_even + step/2.\n",
    "    ax.set_title('2mass XSCz z distribution')\n",
    "    ax.set_xlabel('z')\n",
    "    ax.set_ylabel('Count')\n",
    "    \n",
    "    #DAT = np.column_stack((zbin_interp_start, zbin_even, zbin_interp_end, Ngal_interp))\n",
    "    #np.savetxt('/n/des/lee.5922/programs/cosmolike/MG_musigma/zdistris/zdistribution_2masx.nz',DAT, \n",
    "    #          header = 'zmin, zavg, zmax, Ngal')\n",
    "twomass_zdist()"
   ]
  },
  {
   "cell_type": "code",
   "execution_count": null,
   "metadata": {},
   "outputs": [],
   "source": []
  },
  {
   "cell_type": "code",
   "execution_count": 328,
   "metadata": {},
   "outputs": [],
   "source": [
    "def catalog_masking(cat, nside_out = 128, area=None):\n",
    "    \n",
    "    cat = reddening_mask(cat = cat, nside_out = nside_out)\n",
    "    if area is 'NGC' :\n",
    "        cat = boss_mask(cat=cat, nside_out = nside_out, area=area)\n",
    "    elif area is 'SGC' :\n",
    "        cat = boss_mask(cat=cat, nside_out = nside_out, area=area)    \n",
    "    elif area is 'SPT':\n",
    "        cat = Cuts.keepGoodRegion(cat)\n",
    "        cat = y1gold_mask(cat = cat, nside_out = nside_out)\n",
    "    else : print 'area keyword input : either one of NGC SGC SPT'\n",
    "    return cat"
   ]
  },
  {
   "cell_type": "code",
   "execution_count": 249,
   "metadata": {},
   "outputs": [],
   "source": [
    "def making_healpix_density_map(cat = None, nside = 128, nest = False, ext_weight = None):\n",
    "    hpind = np.arange(hp.nside2npix(nside))\n",
    "    cat_ind = hpRaDecToHEALPixel(cat['RA'], cat['DEC'], nside= nside, nest= nest)\n",
    "    N_gal, _ = np.histogram(cat_ind, bins = np.append(hpind, hpind.size) )   \n",
    "    \n",
    "    seen = (N_gal != 0.0)\n",
    "    pixarea = hp.nside2pixarea(nside = nside)\n",
    "    ra,dec = hpHEALPixelToRaDec(hpind, nside = nside)\n",
    "    Map = np.zeros( (hpind.size, ), dtype = [('RA', 'float'),('DEC', 'float'),('PIXEL', 'float'), ('N_GAL', 'float') \\\n",
    "                                            , ('WEIGHT', 'int'), ('KAPPA', 'float')])\n",
    "    Ntot = cat.size\n",
    "    Npix = np.sum(seen)\n",
    "    Atot = pixarea * Npix\n",
    "    ntot = Ntot *1./Atot\n",
    "    ngal = N_gal *1./pixarea\n",
    "    \n",
    "\n",
    "    print 'Ntot', Ntot\n",
    "    #print 'Ngal', N_gal\n",
    "    print 'mean Ngal', np.mean(N_gal[seen])\n",
    "    print 'Npix', Npix\n",
    "    #print 'Map.size', Map.shape\n",
    "    Map['RA'] = ra\n",
    "    Map['DEC'] = dec\n",
    "    Map['PIXEL'] = hpind\n",
    "    Map['N_GAL'] = N_gal \n",
    "    Map['WEIGHT'] = seen #  ( ngal*1./ntot - 1.)*1./Npix\n",
    "    Map['KAPPA'] =  (N_gal*1./Ntot * Npix -1.)\n",
    "    #Map['KAPPA'][~seen] = 0.0\n",
    "    #Map['WEIGHT'][unseen] = 0\n",
    "    #Map['WEIGHT_RAND'] = unseen\n",
    "    return Map"
   ]
  },
  {
   "cell_type": "code",
   "execution_count": 250,
   "metadata": {},
   "outputs": [],
   "source": [
    "def _making_healpix_density_map(cat = None, nside = 128, nest = False):\n",
    "    hpind = np.arange(hp.nside2npix(nside))\n",
    "    cat_ind = hpRaDecToHEALPixel(cat['RA'], cat['DEC'], nside= nside, nest= nest)\n",
    "    N_gal, _ = np.histogram(cat_ind, bins = np.append(hpind, hpind.size) )\n",
    "    seen = (N_gal != 0.0)\n",
    "    pixarea = hp.nside2pixarea(nside = nside)\n",
    "    ra,dec = hpHEALPixelToRaDec(hpind, nside = nside)\n",
    "    Map = np.zeros( (hpind.size, ), dtype = [('RA', 'float'),('DEC', 'float'),('PIXEL', 'float'), ('N_GAL', 'float') \\\n",
    "                                            , ('WEIGHT', 'int'), ('KAPPA', 'float') , ('WEIGHT_RAND', 'int') ])\n",
    "    Ntot = cat.size\n",
    "    Npix = len(set(cat_ind))\n",
    "    print np.sum(seen), Npix\n",
    "    Atot = pixarea * Npix\n",
    "    ntot = Ntot *1./Atot\n",
    "    ngal = N_gal *1./pixarea\n",
    "    \n",
    "\n",
    "    print 'Ngaltot', Ntot\n",
    "    print 'Ngal mean', np.mean(N_gal)\n",
    "    #print 'Ngal', N_gal\n",
    "    print 'Npix', Npix\n",
    "    print 'Map.size', Map.shape\n",
    "    Map['RA'] = ra\n",
    "    Map['DEC'] = dec\n",
    "    Map['PIXEL'] = hpind\n",
    "    Map['N_GAL'] = N_gal \n",
    "    #Map['WEIGHT'] = (N_gal*1./Ntot * Npix -1.)#  ( ngal*1./ntot - 1.)*1./Npix\n",
    "    #Map['WEIGHT'][N_gal == 0] = 0\n",
    "    Map['KAPPA'] =  (N_gal*1./Ntot * Npix -1.)\n",
    "    #Map['KAPPA'][N_gal==0] = 0.0\n",
    "    Map['WEIGHT'] = seen\n",
    "    return Map"
   ]
  },
  {
   "cell_type": "code",
   "execution_count": 326,
   "metadata": {},
   "outputs": [],
   "source": [
    "def y1gold_mask(cat=None, nside_out = 128):\n",
    "    \n",
    "    path = '/n/des/lee.5922/data/systematic_maps/'\n",
    "    LSSGoldmask_hpind = fitsio.read(path+'Y1LSSmask_v2_redlimcut_il22_seeil4.0_4096ring.fits')['PIXEL']\n",
    "    hpind_frac = np.zeros(hp.nside2npix(4096), dtype = 'float')\n",
    "    hpind_frac[LSSGoldmask_hpind] = 1.0\n",
    "    hpind_frac_ud = hp.ud_grade(hpind_frac, pess=True, nside_out = nside_out)\n",
    "    \n",
    "    hpind_up = np.arange(hp.nside2npix(nside_out))\n",
    "    \n",
    "    cat = cat[cat['DEC']<-3.0]\n",
    "    cat_hpind = hpRaDecToHEALPixel(cat['RA'], cat['DEC'], nside= nside_out, nest= False) \n",
    "    goodind = np.in1d(cat_hpind, hpind_up[[ hpind_frac_ud > 0.8]])\n",
    "    return cat[goodind]  "
   ]
  },
  {
   "cell_type": "code",
   "execution_count": 252,
   "metadata": {},
   "outputs": [],
   "source": [
    "def boss_mask(cat=None, area='SGC', nside_out = 128):\n",
    "    \n",
    "\n",
    "    if area is 'SGC' : \n",
    "        boss_hpind = esutil.io.read('/n/des/lee.5922/data/cmass_cat/healpix_boss_footprint_SGC_1024.fits')\n",
    "        \n",
    "        #boss_hpind = hp.ud_grade(boss_hpind, pess=True, nside_out = nside)\n",
    "\n",
    "    elif area is 'NGC':\n",
    "        boss_hpind = esutil.io.read('/n/des/lee.5922/data/cmass_cat/healpix_boss_footprint_NGC_1024.fits')\n",
    "        #boss_hpind = hp.ud_grade(boss_hpind, pess=True, nside_out = nside)\n",
    "    else : \n",
    "        print 'area keyword input : SGC or NGC'\n",
    "        return 0\n",
    "     \n",
    "    boss_hpfrac = np.zeros(hp.nside2npix(1024), dtype = 'float')\n",
    "    boss_hpfrac[boss_hpind] = 1.0\n",
    "    boss_hpfrac_ud = hp.ud_grade(boss_hpfrac, pess=True, nside_out = nside_out)\n",
    "    #boss_hpfrac_ud[ boss_hpfrac_ud < 0.8] = 0\n",
    "    \n",
    "    boss_hpind_up = np.arange(hp.nside2npix(nside_out))\n",
    "    #print boss_hpfrac\n",
    "    \n",
    "    \n",
    "    #boss_hpfrac_ud2 = boss_hpfrac_ud.copy()\n",
    "    #boss_hpfrac_ud2[ boss_hpfrac_ud > 0.8] = 0\n",
    "    #hp.mollview( boss_hpfrac_ud2, max = 1, nest = False)\n",
    "    \n",
    "    #if cat is None : \n",
    "    #    boss_hpmask = np.zeros(hp.nside2npix(4096), dtype = 'bool')\n",
    "    #    boss_hpmask[boss_hpind] = 1\n",
    "    #    return boss_hpmask\n",
    "    \n",
    "    #elif cat is not None : \n",
    "        \n",
    "    hpind = hpRaDecToHEALPixel(cat['RA'], cat['DEC'], nside= nside_out, nest= False) \n",
    "    goodind = np.in1d(hpind, boss_hpind_up[[ boss_hpfrac_ud > 0.8]])\n",
    "    return cat[goodind]"
   ]
  },
  {
   "cell_type": "code",
   "execution_count": 253,
   "metadata": {},
   "outputs": [],
   "source": [
    "def reddening_mask(cat = None, nside_out = 128):\n",
    "    \n",
    "    reddening_nest = esutil.io.read('/n/des/lee.5922/data/2mass_cat/lambda_sfd_ebv.fits', ensure_native=True)\n",
    "    reddening_ring = hp.reorder(reddening_nest['TEMPERATURE'], inp='NEST', out='RING')\n",
    "    reddening_ring_ud = hp.ud_grade(reddening_ring, pess=True, nside_out = nside_out)\n",
    "    reddening = rotate_hp_map(reddening_ring_ud, coord = ['C', 'G'])\n",
    "\n",
    "    reddening_mask = reddening < 0.05 /0.367\n",
    "    \n",
    "    hpind_up = np.arange(hp.nside2npix(nside_out))\n",
    "    \n",
    "    cathpind = hpRaDecToHEALPixel(cat['RA'], cat['DEC'], nside=  nside_out, nest= False)\n",
    "    mask = np.in1d(cathpind, hpind_up[reddening_mask])\n",
    "    \n",
    "    return cat[mask]"
   ]
  },
  {
   "cell_type": "code",
   "execution_count": 254,
   "metadata": {},
   "outputs": [],
   "source": [
    "def _making_healpix_density_map(cat = None, nside = 128, nest = False):\n",
    "    hpind = np.arange(hp.nside2npix(nside))\n",
    "    cat_ind = hpRaDecToHEALPixel(cat['RA'], cat['DEC'], nside= nside, nest= nest)\n",
    "    N_gal, _ = np.histogram(cat_ind, bins = np.append(hpind, hpind.size) )\n",
    "    unseen = (N_gal != 0.0)\n",
    "    pixarea = hp.nside2pixarea(nside = nside)\n",
    "    ra,dec = hpHEALPixelToRaDec(hpind, nside = nside)\n",
    "    Map = np.zeros( (hpind.size, ), dtype = [('RA', 'float'),('DEC', 'float'),('PIXEL', 'float'), ('N_GAL', 'float') \\\n",
    "                                            , ('WEIGHT', 'float') ,  ('WEIGHT_RAND', 'bool') ])\n",
    "    Map['RA'] = ra\n",
    "    Map['DEC'] = dec\n",
    "    Map['PIXEL'] = hpind\n",
    "    Map['N_GAL'] = N_gal   \n",
    "    #Map['WEIGHT'] = N_gal*1./pixarea \n",
    "    Map['WEIGHT'] = unseen\n",
    "    return Map"
   ]
  }
 ],
 "metadata": {
  "kernelspec": {
   "display_name": "Python 2",
   "language": "python",
   "name": "python2"
  },
  "language_info": {
   "codemirror_mode": {
    "name": "ipython",
    "version": 2
   },
   "file_extension": ".py",
   "mimetype": "text/x-python",
   "name": "python",
   "nbconvert_exporter": "python",
   "pygments_lexer": "ipython2",
   "version": "2.7.14"
  }
 },
 "nbformat": 4,
 "nbformat_minor": 2
}
