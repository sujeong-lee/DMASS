{
 "cells": [
  {
   "cell_type": "code",
   "execution_count": 1,
   "metadata": {},
   "outputs": [],
   "source": [
    "import os, sys, fitsio\n",
    "sys.path.append('../')\n",
    "import numpy as np\n",
    "import healpy as hp\n",
    "from run_DMASS import *\n",
    "%matplotlib inline\n",
    "\n",
    "%load_ext autoreload\n",
    "%autoreload 2"
   ]
  },
  {
   "cell_type": "code",
   "execution_count": 3,
   "metadata": {},
   "outputs": [],
   "source": [
    "import healpy as hp"
   ]
  },
  {
   "cell_type": "code",
   "execution_count": 4,
   "metadata": {},
   "outputs": [],
   "source": [
    "rootdir = '../output/sfd_train_photo_SamPle_nozband_ran10/'"
   ]
  },
  {
   "cell_type": "code",
   "execution_count": 5,
   "metadata": {},
   "outputs": [],
   "source": [
    "#rootdir = '../output/sfd_train_photo_SamPle_full2/'\n",
    "dmass = fitsio.read(rootdir+'dmass_spt_0001.fits')\n",
    "dmass_st82 = fitsio.read(rootdir+'dmass_st82_0001.fits')\n",
    "cmass = fitsio.read(rootdir + 'train_sample_des.fits')"
   ]
  },
  {
   "cell_type": "code",
   "execution_count": 110,
   "metadata": {},
   "outputs": [
    {
     "data": {
      "text/plain": [
       "(12639, 12549)"
      ]
     },
     "execution_count": 110,
     "metadata": {},
     "output_type": "execute_result"
    }
   ],
   "source": [
    "cmass.size, dmass_st82.size"
   ]
  },
  {
   "cell_type": "code",
   "execution_count": 157,
   "metadata": {},
   "outputs": [],
   "source": [
    "# calling map \n",
    "GoldMask = callingEliGoldMask()\n",
    "#GoldMask_st82 = Cuts.SpatialCuts(GoldMask, ra=320, ra2=360, dec=-2, dec2=2)\n",
    "GoldMask_st82 = GoldMask[ GoldMask['DEC'] > -3.0 ]\n",
    "GoldMask_spt = GoldMask[ GoldMask['DEC'] < -3.0 ]\n",
    "#GoldMask_spt = cutcat20(GoldMask_spt)\n",
    "#GoldMask_spt = Cuts.SpatialCuts(GoldMask_spt, ra=0, ra2 = 100, dec=-52, dec2 = -48)\n",
    "\n",
    "pixarea = hp.nside2pixarea( 4096, degrees = True)\n",
    "sptnpix = GoldMask_spt['PIXEL'].size #hp.get_map_size( GoldMask_spt['PIXEL'] )\n",
    "st82npix =  GoldMask_st82['PIXEL'].size # hp.get_map_size( GoldMask_st82 )\n",
    "SPTMaparea = pixarea * sptnpix\n",
    "ST82Maparea = pixarea * st82npix"
   ]
  },
  {
   "cell_type": "code",
   "execution_count": 161,
   "metadata": {},
   "outputs": [
    {
     "name": "stdout",
     "output_type": "stream",
     "text": [
      "71440 113084\n"
     ]
    }
   ],
   "source": [
    "\n",
    "random = uniform_random_on_sphere(GoldMask, size = 10 * dmass.size)\n",
    "rand = Cuts.keepGoodRegion(random)\n",
    "#rand = Cuts.keepY1GoldRegion(rand)\n",
    "rand = rand[ rand['DEC'] < -3.0 ]\n",
    "rand_st82 = rand[ rand['DEC'] > -3.0 ]\n",
    "#rand2 = cutcat20(rand2)\n",
    "\n",
    "\n",
    "random = uniform_random_on_sphere(GoldMask, size = 50 * dmass.size)\n",
    "random = Cuts.keepGoodRegion(random)\n",
    "#rand = Cuts.keepY1GoldRegion(rand)\n",
    "rand2 = random[ random['DEC'] < -3.0 ]\n",
    "rand_st82 = random[ random['DEC'] > -3.0 ]\n",
    "#rand2 = cutcat20(rand2)\n",
    "\n",
    "print rand.size, dmass.size\n",
    "#rand_train = uniform_random_on_sphere(clean_cmass_data_des, size = 10 * clean_cmass_data_des.size)\n",
    "#rand_train = Cuts.keepGoodRegion(rand_train)"
   ]
  },
  {
   "cell_type": "code",
   "execution_count": null,
   "metadata": {},
   "outputs": [],
   "source": []
  },
  {
   "cell_type": "code",
   "execution_count": 159,
   "metadata": {},
   "outputs": [],
   "source": [
    "properties = ['GE', 'NSTARS_allband']"
   ]
  },
  {
   "cell_type": "code",
   "execution_count": 155,
   "metadata": {},
   "outputs": [
    {
     "name": "stdout",
     "output_type": "stream",
     "text": [
      "\n",
      "PATH =  /n/des/lee.5922/data/systematic_maps/Y1A1NEW_COADD_SPT/nside4096_oversamp4/\n",
      "y1a1_gold_1.0.2_stars_nside1024.fits\n",
      "NSIDE = 1024\n",
      "ORDERING = RING in fits file\n",
      "INDXSCHM = IMPLICIT\n",
      "DOWNGRADE =  1024\n"
     ]
    }
   ],
   "source": [
    "sysMap = calling_sysMap( properties=properties, kind='SPT', nside=4096 )"
   ]
  },
  {
   "cell_type": "code",
   "execution_count": null,
   "metadata": {},
   "outputs": [],
   "source": []
  },
  {
   "cell_type": "code",
   "execution_count": 151,
   "metadata": {},
   "outputs": [],
   "source": [
    "sysoutdir = rootdir+'/sys/'"
   ]
  },
  {
   "cell_type": "code",
   "execution_count": 165,
   "metadata": {},
   "outputs": [
    {
     "data": {
      "text/plain": [
       "array([0.    , 0.0005, 0.001 , 0.0015, 0.002 , 0.0025, 0.003 , 0.0035,\n",
       "       0.004 , 0.0045, 0.005 , 0.0055, 0.006 , 0.0065, 0.007 , 0.0075,\n",
       "       0.008 , 0.0085, 0.009 , 0.0095, 0.01  , 0.035 , 0.06  ])"
      ]
     },
     "execution_count": 165,
     "metadata": {},
     "output_type": "execute_result"
    }
   ],
   "source": [
    "pth_bin[::5][:23]"
   ]
  },
  {
   "cell_type": "code",
   "execution_count": null,
   "metadata": {},
   "outputs": [
    {
     "name": "stdout",
     "output_type": "stream",
     "text": [
      "saving data to  ../output/sfd_train_photo_SamPle_full2//sys/systematic_GE_g_SPT_pcut_0.0000.txt\n",
      "saving data to  ../output/sfd_train_photo_SamPle_full2//sys/systematic_NSTARS_allband_g_SPT_pcut_0.0000.txt\n",
      "saving fig to  ../output/sfd_train_photo_SamPle_full2//figure/systematic_GE_SPT_pcut_0.0000.png\n",
      "saving data to  ../output/sfd_train_photo_SamPle_full2//sys/systematic_GE_g_SPT_pcut_0.0000.txt\n",
      "saving data to  ../output/sfd_train_photo_SamPle_full2//sys/systematic_NSTARS_allband_g_SPT_pcut_0.0000.txt\n",
      "saving fig to  ../output/sfd_train_photo_SamPle_full2//figure/systematic_NSTARS_allband_SPT_pcut_0.0000.png\n",
      "saving data to  ../output/sfd_train_photo_SamPle_full2//sys/systematic_GE_g_SPT_pcut_0.0005.txt\n",
      "saving data to  ../output/sfd_train_photo_SamPle_full2//sys/systematic_NSTARS_allband_g_SPT_pcut_0.0005.txt\n",
      "saving fig to  ../output/sfd_train_photo_SamPle_full2//figure/systematic_GE_SPT_pcut_0.0005.png\n",
      "saving data to  ../output/sfd_train_photo_SamPle_full2//sys/systematic_GE_g_SPT_pcut_0.0005.txt\n",
      "saving data to  ../output/sfd_train_photo_SamPle_full2//sys/systematic_NSTARS_allband_g_SPT_pcut_0.0005.txt\n",
      "saving fig to  ../output/sfd_train_photo_SamPle_full2//figure/systematic_NSTARS_allband_SPT_pcut_0.0005.png\n",
      "saving data to  ../output/sfd_train_photo_SamPle_full2//sys/systematic_GE_g_SPT_pcut_0.0010.txt\n",
      "saving data to  ../output/sfd_train_photo_SamPle_full2//sys/systematic_NSTARS_allband_g_SPT_pcut_0.0010.txt\n",
      "saving fig to  ../output/sfd_train_photo_SamPle_full2//figure/systematic_GE_SPT_pcut_0.0010.png\n",
      "saving data to  ../output/sfd_train_photo_SamPle_full2//sys/systematic_GE_g_SPT_pcut_0.0010.txt\n",
      "saving data to  ../output/sfd_train_photo_SamPle_full2//sys/systematic_NSTARS_allband_g_SPT_pcut_0.0010.txt\n",
      "saving fig to  ../output/sfd_train_photo_SamPle_full2//figure/systematic_NSTARS_allband_SPT_pcut_0.0010.png\n",
      "saving data to  ../output/sfd_train_photo_SamPle_full2//sys/systematic_GE_g_SPT_pcut_0.0015.txt\n",
      "saving data to  ../output/sfd_train_photo_SamPle_full2//sys/systematic_NSTARS_allband_g_SPT_pcut_0.0015.txt\n",
      "saving fig to  ../output/sfd_train_photo_SamPle_full2//figure/systematic_GE_SPT_pcut_0.0015.png\n",
      "saving data to  ../output/sfd_train_photo_SamPle_full2//sys/systematic_GE_g_SPT_pcut_0.0015.txt\n",
      "saving data to  ../output/sfd_train_photo_SamPle_full2//sys/systematic_NSTARS_allband_g_SPT_pcut_0.0015.txt\n",
      "saving fig to  ../output/sfd_train_photo_SamPle_full2//figure/systematic_NSTARS_allband_SPT_pcut_0.0015.png\n",
      "saving data to  ../output/sfd_train_photo_SamPle_full2//sys/systematic_GE_g_SPT_pcut_0.0020.txt\n",
      "saving data to  ../output/sfd_train_photo_SamPle_full2//sys/systematic_NSTARS_allband_g_SPT_pcut_0.0020.txt\n",
      "saving fig to  ../output/sfd_train_photo_SamPle_full2//figure/systematic_GE_SPT_pcut_0.0020.png\n",
      "saving data to  ../output/sfd_train_photo_SamPle_full2//sys/systematic_GE_g_SPT_pcut_0.0020.txt\n",
      "saving data to  ../output/sfd_train_photo_SamPle_full2//sys/systematic_NSTARS_allband_g_SPT_pcut_0.0020.txt\n",
      "saving fig to  ../output/sfd_train_photo_SamPle_full2//figure/systematic_NSTARS_allband_SPT_pcut_0.0020.png\n",
      "saving data to  ../output/sfd_train_photo_SamPle_full2//sys/systematic_GE_g_SPT_pcut_0.0025.txt\n",
      "saving data to  ../output/sfd_train_photo_SamPle_full2//sys/systematic_NSTARS_allband_g_SPT_pcut_0.0025.txt\n",
      "saving fig to  ../output/sfd_train_photo_SamPle_full2//figure/systematic_GE_SPT_pcut_0.0025.png\n",
      "saving data to  ../output/sfd_train_photo_SamPle_full2//sys/systematic_GE_g_SPT_pcut_0.0025.txt\n",
      "saving data to  ../output/sfd_train_photo_SamPle_full2//sys/systematic_NSTARS_allband_g_SPT_pcut_0.0025.txt\n",
      "saving fig to  ../output/sfd_train_photo_SamPle_full2//figure/systematic_NSTARS_allband_SPT_pcut_0.0025.png\n",
      "saving data to  ../output/sfd_train_photo_SamPle_full2//sys/systematic_GE_g_SPT_pcut_0.0030.txt\n",
      "saving data to  ../output/sfd_train_photo_SamPle_full2//sys/systematic_NSTARS_allband_g_SPT_pcut_0.0030.txt\n",
      "saving fig to  ../output/sfd_train_photo_SamPle_full2//figure/systematic_GE_SPT_pcut_0.0030.png\n",
      "saving data to  ../output/sfd_train_photo_SamPle_full2//sys/systematic_GE_g_SPT_pcut_0.0030.txt\n",
      "saving data to  ../output/sfd_train_photo_SamPle_full2//sys/systematic_NSTARS_allband_g_SPT_pcut_0.0030.txt\n",
      "saving fig to  ../output/sfd_train_photo_SamPle_full2//figure/systematic_NSTARS_allband_SPT_pcut_0.0030.png\n",
      "saving data to  ../output/sfd_train_photo_SamPle_full2//sys/systematic_GE_g_SPT_pcut_0.0035.txt\n",
      "saving data to  ../output/sfd_train_photo_SamPle_full2//sys/systematic_NSTARS_allband_g_SPT_pcut_0.0035.txt\n",
      "saving fig to  ../output/sfd_train_photo_SamPle_full2//figure/systematic_GE_SPT_pcut_0.0035.png\n",
      "saving data to  ../output/sfd_train_photo_SamPle_full2//sys/systematic_GE_g_SPT_pcut_0.0035.txt\n",
      "saving data to  ../output/sfd_train_photo_SamPle_full2//sys/systematic_NSTARS_allband_g_SPT_pcut_0.0035.txt\n",
      "saving fig to  ../output/sfd_train_photo_SamPle_full2//figure/systematic_NSTARS_allband_SPT_pcut_0.0035.png\n",
      "saving data to  ../output/sfd_train_photo_SamPle_full2//sys/systematic_GE_g_SPT_pcut_0.0040.txt\n",
      "saving data to  ../output/sfd_train_photo_SamPle_full2//sys/systematic_NSTARS_allband_g_SPT_pcut_0.0040.txt\n",
      "saving fig to  ../output/sfd_train_photo_SamPle_full2//figure/systematic_GE_SPT_pcut_0.0040.png\n",
      "saving data to  ../output/sfd_train_photo_SamPle_full2//sys/systematic_GE_g_SPT_pcut_0.0040.txt\n",
      "saving data to  ../output/sfd_train_photo_SamPle_full2//sys/systematic_NSTARS_allband_g_SPT_pcut_0.0040.txt\n",
      "saving fig to  ../output/sfd_train_photo_SamPle_full2//figure/systematic_NSTARS_allband_SPT_pcut_0.0040.png\n",
      "saving data to  ../output/sfd_train_photo_SamPle_full2//sys/systematic_GE_g_SPT_pcut_0.0045.txt\n",
      "saving data to  ../output/sfd_train_photo_SamPle_full2//sys/systematic_NSTARS_allband_g_SPT_pcut_0.0045.txt\n",
      "saving fig to  ../output/sfd_train_photo_SamPle_full2//figure/systematic_GE_SPT_pcut_0.0045.png\n",
      "saving data to  ../output/sfd_train_photo_SamPle_full2//sys/systematic_GE_g_SPT_pcut_0.0045.txt\n",
      "saving data to  ../output/sfd_train_photo_SamPle_full2//sys/systematic_NSTARS_allband_g_SPT_pcut_0.0045.txt\n",
      "saving fig to  ../output/sfd_train_photo_SamPle_full2//figure/systematic_NSTARS_allband_SPT_pcut_0.0045.png\n",
      "saving data to  ../output/sfd_train_photo_SamPle_full2//sys/systematic_GE_g_SPT_pcut_0.0050.txt\n",
      "saving data to  ../output/sfd_train_photo_SamPle_full2//sys/systematic_NSTARS_allband_g_SPT_pcut_0.0050.txt\n",
      "saving fig to  ../output/sfd_train_photo_SamPle_full2//figure/systematic_GE_SPT_pcut_0.0050.png\n",
      "saving data to  ../output/sfd_train_photo_SamPle_full2//sys/systematic_GE_g_SPT_pcut_0.0050.txt\n",
      "saving data to  ../output/sfd_train_photo_SamPle_full2//sys/systematic_NSTARS_allband_g_SPT_pcut_0.0050.txt\n",
      "saving fig to  ../output/sfd_train_photo_SamPle_full2//figure/systematic_NSTARS_allband_SPT_pcut_0.0050.png\n",
      "saving data to  ../output/sfd_train_photo_SamPle_full2//sys/systematic_GE_g_SPT_pcut_0.0055.txt\n",
      "saving data to  ../output/sfd_train_photo_SamPle_full2//sys/systematic_NSTARS_allband_g_SPT_pcut_0.0055.txt\n",
      "saving fig to  ../output/sfd_train_photo_SamPle_full2//figure/systematic_GE_SPT_pcut_0.0055.png\n",
      "saving data to  ../output/sfd_train_photo_SamPle_full2//sys/systematic_GE_g_SPT_pcut_0.0055.txt\n",
      "saving data to  ../output/sfd_train_photo_SamPle_full2//sys/systematic_NSTARS_allband_g_SPT_pcut_0.0055.txt\n",
      "saving fig to  ../output/sfd_train_photo_SamPle_full2//figure/systematic_NSTARS_allband_SPT_pcut_0.0055.png\n",
      "saving data to  ../output/sfd_train_photo_SamPle_full2//sys/systematic_GE_g_SPT_pcut_0.0060.txt\n",
      "saving data to  ../output/sfd_train_photo_SamPle_full2//sys/systematic_NSTARS_allband_g_SPT_pcut_0.0060.txt\n",
      "saving fig to  ../output/sfd_train_photo_SamPle_full2//figure/systematic_GE_SPT_pcut_0.0060.png\n",
      "saving data to  ../output/sfd_train_photo_SamPle_full2//sys/systematic_GE_g_SPT_pcut_0.0060.txt\n",
      "saving data to  ../output/sfd_train_photo_SamPle_full2//sys/systematic_NSTARS_allband_g_SPT_pcut_0.0060.txt\n",
      "saving fig to  ../output/sfd_train_photo_SamPle_full2//figure/systematic_NSTARS_allband_SPT_pcut_0.0060.png\n",
      "saving data to  ../output/sfd_train_photo_SamPle_full2//sys/systematic_GE_g_SPT_pcut_0.0065.txt\n",
      "saving data to  ../output/sfd_train_photo_SamPle_full2//sys/systematic_NSTARS_allband_g_SPT_pcut_0.0065.txt\n",
      "saving fig to  ../output/sfd_train_photo_SamPle_full2//figure/systematic_GE_SPT_pcut_0.0065.png\n"
     ]
    },
    {
     "name": "stdout",
     "output_type": "stream",
     "text": [
      "saving data to  ../output/sfd_train_photo_SamPle_full2//sys/systematic_GE_g_SPT_pcut_0.0065.txt\n",
      "saving data to  ../output/sfd_train_photo_SamPle_full2//sys/systematic_NSTARS_allband_g_SPT_pcut_0.0065.txt\n",
      "saving fig to  ../output/sfd_train_photo_SamPle_full2//figure/systematic_NSTARS_allband_SPT_pcut_0.0065.png\n",
      "saving data to  ../output/sfd_train_photo_SamPle_full2//sys/systematic_GE_g_SPT_pcut_0.0070.txt\n",
      "saving data to  ../output/sfd_train_photo_SamPle_full2//sys/systematic_NSTARS_allband_g_SPT_pcut_0.0070.txt\n",
      "saving fig to  ../output/sfd_train_photo_SamPle_full2//figure/systematic_GE_SPT_pcut_0.0070.png\n",
      "saving data to  ../output/sfd_train_photo_SamPle_full2//sys/systematic_GE_g_SPT_pcut_0.0070.txt\n",
      "saving data to  ../output/sfd_train_photo_SamPle_full2//sys/systematic_NSTARS_allband_g_SPT_pcut_0.0070.txt\n",
      "saving fig to  ../output/sfd_train_photo_SamPle_full2//figure/systematic_NSTARS_allband_SPT_pcut_0.0070.png\n",
      "saving data to  ../output/sfd_train_photo_SamPle_full2//sys/systematic_GE_g_SPT_pcut_0.0075.txt\n",
      "saving data to  ../output/sfd_train_photo_SamPle_full2//sys/systematic_NSTARS_allband_g_SPT_pcut_0.0075.txt\n",
      "saving fig to  ../output/sfd_train_photo_SamPle_full2//figure/systematic_GE_SPT_pcut_0.0075.png\n",
      "saving data to  ../output/sfd_train_photo_SamPle_full2//sys/systematic_GE_g_SPT_pcut_0.0075.txt\n",
      "saving data to  ../output/sfd_train_photo_SamPle_full2//sys/systematic_NSTARS_allband_g_SPT_pcut_0.0075.txt\n",
      "saving fig to  ../output/sfd_train_photo_SamPle_full2//figure/systematic_NSTARS_allband_SPT_pcut_0.0075.png\n",
      "saving data to  ../output/sfd_train_photo_SamPle_full2//sys/systematic_GE_g_SPT_pcut_0.0080.txt\n",
      "saving data to  ../output/sfd_train_photo_SamPle_full2//sys/systematic_NSTARS_allband_g_SPT_pcut_0.0080.txt\n",
      "saving fig to  ../output/sfd_train_photo_SamPle_full2//figure/systematic_GE_SPT_pcut_0.0080.png\n",
      "saving data to  ../output/sfd_train_photo_SamPle_full2//sys/systematic_GE_g_SPT_pcut_0.0080.txt\n"
     ]
    }
   ],
   "source": [
    "\n",
    "#for p in properties+['GE', 'NSTARS_allband'] : \n",
    "#    doVisualization_ngal(property = p, nside = 4096, kind = kind, suffix='no_weight', \\\n",
    "#                         inputdir=sysoutdir, outdir=figoutdir)\n",
    "\n",
    "\n",
    "for pc in pth_bin[::5][:23]:\n",
    "#pc = 0\n",
    "    suffix = 'pcut_{:0.4f}'.format(pc)\n",
    "\n",
    "    for p in ['GE', 'NSTARS_allband'] : \n",
    "        sys_ngal(cat1 = dmass, cat2=rand, rand1 = rand2, rand2 = rand2, sysmap = sysMap, \n",
    "             FullArea = SPTMaparea, properties = properties, kind='SPT', nbins =15, \n",
    "             reweight= None, nside = 4096,\n",
    "             suffix=suffix, outdir=sysoutdir)\n",
    "\n",
    "        doVisualization_ngal(property = p, nside = 4096, kind = 'SPT', suffix=suffix, \\\n",
    "                             inputdir=sysoutdir, outdir=figoutdir)"
   ]
  },
  {
   "cell_type": "code",
   "execution_count": null,
   "metadata": {},
   "outputs": [],
   "source": []
  }
 ],
 "metadata": {
  "kernelspec": {
   "display_name": "Python 2",
   "language": "python",
   "name": "python2"
  },
  "language_info": {
   "codemirror_mode": {
    "name": "ipython",
    "version": 2
   },
   "file_extension": ".py",
   "mimetype": "text/x-python",
   "name": "python",
   "nbconvert_exporter": "python",
   "pygments_lexer": "ipython2",
   "version": "2.7.14"
  }
 },
 "nbformat": 4,
 "nbformat_minor": 2
}
