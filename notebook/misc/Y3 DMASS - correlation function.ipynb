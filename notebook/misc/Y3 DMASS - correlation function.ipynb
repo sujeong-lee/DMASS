{
 "cells": [
  {
   "cell_type": "code",
   "execution_count": 2,
   "metadata": {},
   "outputs": [],
   "source": [
    "import os, sys\n",
    "import esutil\n",
    "import healpy as hp\n",
    "import numpy as np\n",
    "import matplotlib\n",
    "import matplotlib.pyplot as plt\n",
    "%matplotlib inline\n",
    "\n",
    "%load_ext autoreload\n",
    "%autoreload 2"
   ]
  },
  {
   "cell_type": "code",
   "execution_count": 3,
   "metadata": {},
   "outputs": [],
   "source": [
    "def treecorr_xi(lens, random=None, filename=None, rootdir=None, \n",
    "\t\tnbins=20, min_sep=2.5, max_sep=250, sep_units='arcmin', bin_slop=0.05, \n",
    "        npatch=10, var_method='jackknife', cen_file = None):\n",
    "    \n",
    "    import treecorr\n",
    "    \n",
    "    if cen_file != None:\n",
    "        if os.path.exists(cen_file):\n",
    "            print ('Saved cen_file exists:',cen_file)\n",
    "            cen_file_switch_on = cen_file\n",
    "            npatch=1\n",
    "        else : \n",
    "            print ('Create cen_file=',cen_file)\n",
    "            cen_file_switch_on = None\n",
    "    \n",
    "    \n",
    "    #temp_dir=filename.split('.txt')[0]\n",
    "    cat_l = treecorr.Catalog(ra=lens['RA'], dec=lens['DEC'], w=lens['WEIGHT'], \n",
    "                             ra_units='deg', dec_units='deg', npatch=npatch) #, \n",
    "                             #patch_centers=cen_file_switch_on )\n",
    "\n",
    "    #if cen_file_switch_on == None : \n",
    "    #    cat_l.write_patch_centers(cen_file)\n",
    "       \n",
    "    cat_r = treecorr.Catalog(ra=random['RA'], dec=random['DEC'], w=random['WEIGHT'], \n",
    "                             ra_units='deg', dec_units='deg', patch_centers=cat_l.patch_centers)\n",
    "                             #patch_centers=cen_file_switch_on )\n",
    "    \n",
    "    dd = treecorr.NNCorrelation(nbins=nbins, min_sep=min_sep,\n",
    "                            max_sep=max_sep, sep_units=sep_units, bin_slop=bin_slop, \n",
    "                            var_method=var_method,\n",
    "                            num_threads=30, verbose=1)\n",
    "    dr = treecorr.NNCorrelation(nbins=nbins, min_sep=min_sep,\n",
    "                                max_sep=max_sep, sep_units=sep_units, bin_slop=bin_slop, \n",
    "                                var_method=var_method,\n",
    "                                num_threads=30, verbose=1)\n",
    "    rd = treecorr.NNCorrelation(nbins=nbins, min_sep=min_sep,\n",
    "                                max_sep=max_sep, sep_units=sep_units, bin_slop=bin_slop, \n",
    "                                var_method=var_method,\n",
    "                                num_threads=30, verbose=1)\n",
    "    rr = treecorr.NNCorrelation(nbins=nbins, min_sep=min_sep,\n",
    "                                max_sep=max_sep, sep_units=sep_units, bin_slop=bin_slop, \n",
    "                                var_method=var_method,\n",
    "                                num_threads=30, verbose=1)\n",
    "\n",
    "    dd.process(cat_l)\n",
    "    dr.process(cat_l, cat_r)\n",
    "    rd.process(cat_r, cat_l)\n",
    "    rr.process(cat_r)\n",
    "\n",
    "    #xi,varxi = dd.calculateXi(rr,dr)\n",
    "    dd.write(filename,rr,dr,rd)\n",
    "    cov_jk = dd.cov\n",
    "    \n",
    "    \n",
    "    #cov_jk = dd.estimate_cov(var_method)\n",
    "    #cov_jk_rand = rr.estimate_cov(var_method)\n",
    "    cov_filename=filename.split('.txt')[0]+'.cov'\n",
    "    np.savetxt(cov_filename, cov_jk)\n",
    "    \n",
    "    print ('save to', filename)\n"
   ]
  },
  {
   "cell_type": "code",
   "execution_count": 4,
   "metadata": {},
   "outputs": [],
   "source": [
    "sys.path.append('../code_py3/')\n",
    "from cmass_modules import io\n",
    "from utils import appendColumn\n",
    "#from utils import matchCatalogsbyPosition, hpHEALPixelToRaDec, HealPixifyCatalogs, spatialcheck\n",
    "#from xd import mixing_color_elg, assignELGProb, doVisualization_1d, XD_fitting_X\n",
    "#from run_DMASS_Y3 import priorCut_test\n",
    "#from systematics import *\n",
    "sys.path.append('../../DMASS-analysis/measurements/code_py3/')\n",
    "from ggl_mcal import run_ng_jk, run_nn_jk, run_nk_jk, compute_eix_jk, compute_Rgamma_jk, construct_jk, compute_jkcov, save_results"
   ]
  },
  {
   "cell_type": "code",
   "execution_count": 5,
   "metadata": {},
   "outputs": [],
   "source": [
    "from matplotlib import rc\n",
    "rc('font',**{'family':'sans-serif','sans-serif':['Helvetica']})\n",
    "## for Palatino and other serif fonts use:\n",
    "#rc('font',**{'family':'serif','serif':['Palatino']})\n",
    "rc('text', usetex=True)"
   ]
  },
  {
   "cell_type": "code",
   "execution_count": 19,
   "metadata": {},
   "outputs": [
    {
     "name": "stdout",
     "output_type": "stream",
     "text": [
      "\n",
      "Calling catalogs >>>\n",
      "DMASS_Y3_GOLD_2_0_SPT_ra10_20_decm40_m30.fits\n",
      "reading 1/1 ../output/test_cmass_detmodel_mof/test_cat/DMASS_Y3_GOLD_2_0_SPT_ra10_20_decm40_m30.fits\n"
     ]
    }
   ],
   "source": [
    "# calling the final catalog \n",
    "rootdir = '../output/test_cmass_detmodel_mof/'\n",
    "input_path = rootdir+'test_cat/'\n",
    "input_keyword = 'Y3_GOLD_2_0_SPT_ra10_20_decm40_m30.fits'\n",
    "gold_spt_prob = io.SearchAndCallFits(path = input_path, keyword = input_keyword, columns=None)\n",
    "pcut = gold_spt_prob['CMASS_PROB'] > 0.01\n",
    "gold_spt_prob_pcut = gold_spt_prob[ pcut ]"
   ]
  },
  {
   "cell_type": "code",
   "execution_count": 20,
   "metadata": {},
   "outputs": [
    {
     "name": "stdout",
     "output_type": "stream",
     "text": [
      "7625\n"
     ]
    }
   ],
   "source": [
    "N_dmass = int(np.sum(gold_spt_prob_pcut['CMASS_PROB']))\n",
    "print (N_dmass)"
   ]
  },
  {
   "cell_type": "code",
   "execution_count": 21,
   "metadata": {},
   "outputs": [
    {
     "name": "stderr",
     "output_type": "stream",
     "text": [
      "/n/des/lee.5922/programs/anaconda3/envs/env_py3/lib/python3.8/site-packages/healpy/fitsfunc.py:351: UserWarning: If you are not specifying the input dtype and using the default np.float64 dtype of read_map(), please consider that it will change in a future version to None as to keep the same dtype of the input file: please explicitly set the dtype if it is important to you.\n",
      "  warnings.warn(\n"
     ]
    },
    {
     "name": "stdout",
     "output_type": "stream",
     "text": [
      "NSIDE = 4096\n",
      "ORDERING = NESTED in fits file\n",
      "INDXSCHM = IMPLICIT\n",
      "Ordering converted to RING\n"
     ]
    }
   ],
   "source": [
    "# calling Y3 GOLD footprint map\n",
    "# downloaded from https://cdcvs.fnal.gov/redmine/projects/des-y3/wiki/Y3A2_Gold_footprint\n",
    "mapname='../data/masks/y3a2_footprint_griz_1exp_v2.0.fits.gz'\n",
    "hpmap_y3gold = hp.read_map(mapname)\n",
    "goodmask = hp.mask_good(hpmap_y3gold)\n",
    "hpind_y3gold = np.arange(hpmap_y3gold.size)\n",
    "goodind = hpind_y3gold[goodmask]\n",
    "# Generate mask for eboss ELG\n",
    "#mask_train = np.in1d(elg['HEALIndex'],goodind)"
   ]
  },
  {
   "cell_type": "code",
   "execution_count": 22,
   "metadata": {},
   "outputs": [],
   "source": [
    "from utils import uniform_random_on_sphere, spatialcheck"
   ]
  },
  {
   "cell_type": "code",
   "execution_count": 23,
   "metadata": {},
   "outputs": [],
   "source": [
    "randoms = uniform_random_on_sphere(gold_spt_prob, size = N_dmass*10, z=False )\n",
    "randoms = randoms[ np.in1d( randoms['HPIX'], goodind) ]"
   ]
  },
  {
   "cell_type": "code",
   "execution_count": 24,
   "metadata": {},
   "outputs": [],
   "source": [
    "weight_data = gold_spt_prob_pcut['CMASS_PROB']\n",
    "weight_rand = np.ones(randoms.size)\n",
    "gold_spt_prob_pcut = appendColumn(gold_spt_prob_pcut, name='WEIGHT', value=weight_data)\n",
    "randoms = appendColumn(randoms, name='WEIGHT', value=weight_rand)"
   ]
  },
  {
   "cell_type": "code",
   "execution_count": 13,
   "metadata": {},
   "outputs": [],
   "source": [
    "#cmass_filename = '/n/des/lee.5922/data/cmass_cat/cmass-dr12v4-S-Reid-full.dat.fits'\n",
    "cmass_filename = '/n/des/lee.5922/data/cmass_cat/galaxy_DR12v5_CMASS_South.fits.gz'\n",
    "cmass = esutil.io.read(cmass_filename)\n",
    "\n",
    "filename = '/n/des/lee.5922/data/cmass_cat/random0_DR12v5_CMASS_South.fits.gz'\n",
    "random_cmass = esutil.io.read(filename)"
   ]
  },
  {
   "cell_type": "code",
   "execution_count": 14,
   "metadata": {},
   "outputs": [],
   "source": [
    "weight_data = cmass['WEIGHT_FKP']* cmass['WEIGHT_SYSTOT']*(cmass['WEIGHT_CP']+cmass['WEIGHT_NOZ']-1.)\n",
    "weight_rand = random_cmass['WEIGHT_FKP']\n",
    "cmass = appendColumn(cmass, name='WEIGHT', value=weight_data)\n",
    "random_cmass = appendColumn(random_cmass, name='WEIGHT', value=weight_rand)"
   ]
  },
  {
   "cell_type": "code",
   "execution_count": 35,
   "metadata": {},
   "outputs": [
    {
     "name": "stdout",
     "output_type": "stream",
     "text": [
      "save to ../output/test_cmass_detmodel_mof//2pt/cmass_sgc_jk//100/nn.lens.txt\n"
     ]
    }
   ],
   "source": [
    "npatch=100\n",
    "\n",
    "twoptdir = rootdir+'/2pt/cmass_sgc_jk/'\n",
    "tempdir = twoptdir+'/{}/'.format(npatch)\n",
    "#cen_file = tempdir + 'nn_cen_file.txt'\n",
    "filename = tempdir + 'nn.lens.txt'\n",
    "\n",
    "os.system('rm -rf '+tempdir)\n",
    "os.makedirs( tempdir, exist_ok=True )\n",
    "\n",
    "treecorr_xi(cmass, random=random_cmass,\n",
    "        filename=filename, rootdir = tempdir, \n",
    "        nbins=30, min_sep=0.5, max_sep=250., sep_units='arcmin', bin_slop=0.1,\n",
    "        npatch=npatch, cen_file=None, var_method='jackknife', )"
   ]
  },
  {
   "cell_type": "code",
   "execution_count": 34,
   "metadata": {},
   "outputs": [
    {
     "name": "stdout",
     "output_type": "stream",
     "text": [
      "save to ../output/test_cmass_detmodel_mof//2pt/dmass_jk//100/nn.lens.txt\n"
     ]
    }
   ],
   "source": [
    "npatch=100\n",
    "\n",
    "twoptdir = rootdir+'/2pt/dmass_jk/'\n",
    "tempdir = twoptdir+'/{}/'.format(npatch)\n",
    "#cen_file = tempdir + 'nn_cen_file.txt'\n",
    "filename = tempdir + 'nn.lens.txt'\n",
    "\n",
    "os.system('rm -rf '+tempdir)\n",
    "os.makedirs( tempdir, exist_ok=True )\n",
    "\n",
    "treecorr_xi(gold_spt_prob_pcut, random=randoms,\n",
    "        filename=filename, rootdir = tempdir, \n",
    "        nbins=30, min_sep=0.5, max_sep=250., sep_units='arcmin', bin_slop=0.1,\n",
    "        npatch=npatch, cen_file=None, var_method='jackknife', )"
   ]
  },
  {
   "cell_type": "code",
   "execution_count": 45,
   "metadata": {},
   "outputs": [],
   "source": [
    "tempdir = rootdir+'/2pt/cmass_sgc_jk/'\n",
    "cov_cmass= np.genfromtxt(tempdir+'/{}/nn.lens.cov'.format(npatch))\n",
    "err_cmass = np.sqrt(cov_cmass.diagonal())\n",
    "_, meanr_cmass, _, galaxy_xi_cmass, xi_err,_,_,_,_,_ = \\\n",
    "np.genfromtxt(tempdir+'/{}/nn.lens.txt'.format(npatch), unpack=True)"
   ]
  },
  {
   "cell_type": "code",
   "execution_count": 46,
   "metadata": {},
   "outputs": [],
   "source": [
    "tempdir = rootdir+'/2pt/dmass_jk/'\n",
    "cov_dmass= np.genfromtxt(tempdir+'/{}/nn.lens.cov'.format(npatch))\n",
    "err_dmass = np.sqrt(cov_dmass.diagonal())\n",
    "_, meanr_dmass, _, galaxy_xi_dmass, xi_err,_,_,_,_,_ = \\\n",
    "np.genfromtxt(tempdir+'/{}/nn.lens.txt'.format(npatch), unpack=True)"
   ]
  },
  {
   "cell_type": "code",
   "execution_count": 38,
   "metadata": {},
   "outputs": [],
   "source": [
    "# new one"
   ]
  },
  {
   "cell_type": "code",
   "execution_count": 41,
   "metadata": {},
   "outputs": [
    {
     "data": {
      "text/plain": [
       "(1.2, 322.4198766787144)"
      ]
     },
     "execution_count": 41,
     "metadata": {},
     "output_type": "execute_result"
    },
    {
     "data": {
      "image/png": "[encoded data removed]",
      "text/plain": [
       "<Figure size 504x360 with 1 Axes>"
      ]
     },
     "metadata": {
      "needs_background": "light"
     },
     "output_type": "display_data"
    }
   ],
   "source": [
    "fig, ax = plt.subplots(figsize=(7,5))\n",
    "ax.errorbar(meanr_cmass, galaxy_xi_cmass, yerr=err_cmass, fmt='o', capsize=5, label='${\\\\rm BOSS ~CMASS~(SGC)}$')\n",
    "ax.errorbar(meanr_dmass*1.05, galaxy_xi_dmass, yerr=err_dmass, fmt='o',capsize=5, label='${\\\\rm DMASS}$')\n",
    "ax.set_xscale('log')\n",
    "ax.set_yscale('log')\n",
    "ax.legend(fontsize=15)\n",
    "ax.set_xlabel('$\\\\theta {\\\\rm[arcmin]}$', fontsize=15)\n",
    "ax.set_ylabel('$w(\\\\theta)$',fontsize=15)\n",
    "\n",
    "ax.tick_params(labelsize=15)\n",
    "\n",
    "ax.text(0.5, 0.1, '${\\\\rm Very~Preliminary}$', transform=ax.transAxes,\n",
    "        fontsize=50, color='gray', alpha=0.5,\n",
    "        ha='center', va='bottom', rotation='0')\n",
    "ax.set_ylim(5e-04,)\n",
    "ax.set_xlim(1.2,)"
   ]
  },
  {
   "cell_type": "code",
   "execution_count": 43,
   "metadata": {},
   "outputs": [
    {
     "data": {
      "text/plain": [
       "(2.5, 322.4198766787144)"
      ]
     },
     "execution_count": 43,
     "metadata": {},
     "output_type": "execute_result"
    },
    {
     "data": {
      "image/png": "[encoded data removed]",
      "text/plain": [
       "<Figure size 504x360 with 1 Axes>"
      ]
     },
     "metadata": {
      "needs_background": "light"
     },
     "output_type": "display_data"
    }
   ],
   "source": [
    "fig, ax = plt.subplots(figsize=(7,5))\n",
    "ax.errorbar(meanr_cmass, galaxy_xi_cmass, yerr=err_cmass, fmt='o', capsize=5, label='${\\\\rm BOSS ~CMASS~(SGC)}$')\n",
    "ax.errorbar(meanr_dmass*1.05, galaxy_xi_dmass, yerr=err_dmass, fmt='o',capsize=5, label='${\\\\rm DMASS}$')\n",
    "ax.set_xscale('log')\n",
    "ax.set_yscale('log')\n",
    "ax.legend(fontsize=15)\n",
    "ax.set_xlabel('$\\\\theta {\\\\rm[arcmin]}$', fontsize=15)\n",
    "ax.set_ylabel('$w(\\\\theta)$',fontsize=15)\n",
    "\n",
    "ax.tick_params(labelsize=15)\n",
    "\n",
    "ax.text(0.5, 0.1, '${\\\\rm Very~Preliminary}$', transform=ax.transAxes,\n",
    "        fontsize=50, color='gray', alpha=0.5,\n",
    "        ha='center', va='bottom', rotation='0')\n",
    "ax.set_ylim(5e-04,)\n",
    "ax.set_xlim(2.5,)"
   ]
  },
  {
   "cell_type": "code",
   "execution_count": 33,
   "metadata": {},
   "outputs": [
    {
     "data": {
      "text/plain": [
       "(0.0005, 0.3448861578740674)"
      ]
     },
     "execution_count": 33,
     "metadata": {},
     "output_type": "execute_result"
    },
    {
     "data": {
      "image/png": "[encoded data removed]",
      "text/plain": [
       "<Figure size 504x360 with 1 Axes>"
      ]
     },
     "metadata": {
      "needs_background": "light"
     },
     "output_type": "display_data"
    }
   ],
   "source": [
    "fig, ax = plt.subplots(figsize=(7,5))\n",
    "ax.errorbar(meanr_cmass, galaxy_xi_cmass, yerr=err_cmass, fmt='o', capsize=5, label='${\\\\rm BOSS ~CMASS~(SGC)}$')\n",
    "ax.errorbar(meanr_dmass*1.05, galaxy_xi_dmass, yerr=err_dmass, fmt='o',capsize=5, label='${\\\\rm DMASS}$')\n",
    "ax.set_xscale('log')\n",
    "ax.set_yscale('log')\n",
    "ax.legend(fontsize=15)\n",
    "ax.set_xlabel('$\\\\theta {\\\\rm[arcmin]}$', fontsize=15)\n",
    "ax.set_ylabel('$w(\\\\theta)$',fontsize=15)\n",
    "\n",
    "ax.tick_params(labelsize=15)\n",
    "\n",
    "ax.text(0.5, 0.1, '${\\\\rm Very~Preliminary}$', transform=ax.transAxes,\n",
    "        fontsize=50, color='gray', alpha=0.5,\n",
    "        ha='center', va='bottom', rotation='0')\n",
    "ax.set_ylim(5e-04,)"
   ]
  },
  {
   "cell_type": "code",
   "execution_count": 47,
   "metadata": {},
   "outputs": [
    {
     "data": {
      "text/plain": [
       "Text(0.5, 0.1, '${\\\\rm Very~Preliminary}$')"
      ]
     },
     "execution_count": 47,
     "metadata": {},
     "output_type": "execute_result"
    },
    {
     "data": {
      "image/png": "[encoded data removed]",
      "text/plain": [
       "<Figure size 504x360 with 1 Axes>"
      ]
     },
     "metadata": {
      "needs_background": "light"
     },
     "output_type": "display_data"
    }
   ],
   "source": [
    "fig, ax = plt.subplots(figsize=(7,5))\n",
    "ax.errorbar(meanr_cmass, galaxy_xi_cmass, yerr=err_cmass, fmt='o', capsize=5, label='${\\\\rm BOSS ~CMASS~(SGC)}$')\n",
    "ax.errorbar(meanr_dmass*1.05, galaxy_xi_dmass, yerr=err_dmass, fmt='o',capsize=5, label='${\\\\rm DMASS}$')\n",
    "ax.set_xscale('log')\n",
    "ax.set_yscale('log')\n",
    "ax.legend(fontsize=15)\n",
    "ax.set_xlabel('$\\\\theta {\\\\rm[arcmin]}$', fontsize=15)\n",
    "ax.set_ylabel('$w(\\\\theta)$',fontsize=15)\n",
    "\n",
    "ax.tick_params(labelsize=15)\n",
    "\n",
    "ax.text(0.5, 0.1, '${\\\\rm Very~Preliminary}$', transform=ax.transAxes,\n",
    "        fontsize=50, color='gray', alpha=0.5,\n",
    "        ha='center', va='bottom', rotation='0')"
   ]
  },
  {
   "cell_type": "code",
   "execution_count": null,
   "metadata": {},
   "outputs": [],
   "source": []
  }
 ],
 "metadata": {
  "kernelspec": {
   "display_name": "env_py3",
   "language": "python",
   "name": "env_py3"
  },
  "language_info": {
   "codemirror_mode": {
    "name": "ipython",
    "version": 3
   },
   "file_extension": ".py",
   "mimetype": "text/x-python",
   "name": "python",
   "nbconvert_exporter": "python",
   "pygments_lexer": "ipython3",
   "version": "3.8.3"
  }
 },
 "nbformat": 4,
 "nbformat_minor": 2
}
