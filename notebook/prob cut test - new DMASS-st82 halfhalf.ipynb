{
 "cells": [
  {
   "cell_type": "code",
   "execution_count": 18,
   "metadata": {},
   "outputs": [
    {
     "name": "stdout",
     "output_type": "stream",
     "text": [
      "The autoreload extension is already loaded. To reload it, use:\n",
      "  %reload_ext autoreload\n"
     ]
    }
   ],
   "source": [
    "import os, sys, fitsio\n",
    "sys.path.append('../')\n",
    "import numpy as np\n",
    "import healpy as hp\n",
    "from run_DMASS import *\n",
    "%matplotlib inline\n",
    "\n",
    "%load_ext autoreload\n",
    "%autoreload 2"
   ]
  },
  {
   "cell_type": "code",
   "execution_count": 3,
   "metadata": {},
   "outputs": [],
   "source": [
    "import healpy as hp"
   ]
  },
  {
   "cell_type": "code",
   "execution_count": 80,
   "metadata": {},
   "outputs": [
    {
     "data": {
      "text/plain": [
       "0"
      ]
     },
     "execution_count": 80,
     "metadata": {},
     "output_type": "execute_result"
    }
   ],
   "source": [
    "rootdir = '../output/validate_NEST/'\n",
    "#rootdir = '../output/sfd_train_photo_SamPle_nozband_ran10_3_full_tol1e5_baomask//'\n",
    "figoutdir = rootdir + '/figure/'\n",
    "os.system('mkdir '+figoutdir)"
   ]
  },
  {
   "cell_type": "code",
   "execution_count": 5,
   "metadata": {},
   "outputs": [],
   "source": [
    "#import pickle\n",
    "#filename = open('../output/sfd_train_photo_SamPle_nozband_ran10_3_full_tol1e5/gold_st82_XD_no_full_tol1e5.pkl')\n",
    "#pic = pickle.load(filename)"
   ]
  },
  {
   "cell_type": "code",
   "execution_count": 104,
   "metadata": {},
   "outputs": [
    {
     "name": "stdout",
     "output_type": "stream",
     "text": [
      "\n",
      "--------------------------------\n",
      " calling catalog\n",
      "--------------------------------\n",
      "dmass_st82_NEST_even.fits\n",
      "\n",
      "--------------------------------\n",
      " calling catalog\n",
      "--------------------------------\n",
      "dmass_st82_NEST_odd.fits\n",
      "\n",
      "--------------------------------\n",
      " calling catalog\n",
      "--------------------------------\n",
      "dmass_st82_NEST_test_odd.fits\n",
      "\n",
      "--------------------------------\n",
      " calling catalog\n",
      "--------------------------------\n",
      "gold_st82_prob.fits\n",
      "dmass sample size : 6500.3101352636795 6489.556470786066 13002.574050557929\n",
      "cmass sample size : 6325 6314 12639\n"
     ]
    }
   ],
   "source": [
    "# import DMASS\n",
    "\n",
    "#dmass = fitsio.read(rootdir+'spt.fits')\n",
    "#rootdir = '../output/validate_RING/'\n",
    "dmass_st82_even = io.SearchAndCallFits(path = rootdir, keyword='dmass_st82_NEST_even.fits')\n",
    "dmass_st82_odd = io.SearchAndCallFits(path = rootdir, keyword='dmass_st82_NEST_odd.fits')\n",
    "dmass_st82_test_odd = io.SearchAndCallFits(path = rootdir, keyword='dmass_st82_NEST_test_odd.fits')\n",
    "dmass_st82_even = Cuts.keepGoodRegion(dmass_st82_even)\n",
    "dmass_st82_odd = Cuts.keepGoodRegion(dmass_st82_odd)\n",
    "\n",
    "dmassdir = '../output/sfd_train_photo_SamPle_nozband_ran10_3_full_tol1e5/'\n",
    "dmass_st82 = io.SearchAndCallFits(path = dmassdir, keyword='gold_st82_prob.fits')\n",
    "#dmass = fitsio.read(rootdir+'dmass_spt_sys_v3.fits')\n",
    "\n",
    "#dmass_st82 = dmass_st82[dmass_st82['EachProb_CMASS'] > 0.01]\n",
    "#dmass_st82_even = dmass_st82_even[dmass_st82_even['CMASS_PROB'] > 0.01]\n",
    "#dmass_st82_odd = dmass_st82_odd[dmass_st82_odd['CMASS_PROB'] > 0.01]\n",
    "\n",
    "print 'dmass sample size :', np.sum(dmass_st82_even['CMASS_PROB']), np.sum(dmass_st82_odd['CMASS_PROB']), np.sum(dmass_st82['EachProb_CMASS'])\n",
    "\n",
    "\n",
    "#cmass = fitsio.read('../output/sfd_train_photo_SamPle_nozband_ran10_3_full_tol1e5/train_sample_des.fits')\n",
    "#cmass = Cuts.keepGoodRegion(cmass)\n",
    "#healConfig={}\n",
    "#healConfig['out_nside'] = 64\n",
    "#cmass = HealPixifyCatalogs(catalog=cmass, healConfig=healConfig, ratag='RA', dectag = 'DEC')\n",
    "\n",
    "#evenmask = cmass['HEALIndex']%2 == 0\n",
    "#cmass_even = cmass[evenmask]\n",
    "#cmass_odd = cmass[~evenmask]\n",
    "\n",
    "cmass_even = esutil.io.read(rootdir+'train_NEST_even.fits')\n",
    "cmass_odd = esutil.io.read(rootdir+'train_NEST_odd.fits')\n",
    "cmass = esutil.io.read(dmassdir+'train_sample_des.fits')\n",
    "print 'cmass sample size :', cmass_even.size, cmass_odd.size, cmass.size\n",
    "\n",
    "#dmass = appendColumn(dmass, name = 'WEIGHT', value = dmass['EachProb_CMASS'], dtypes=float)\n",
    "#dmass_st82 = appendColumn(dmass_st82, name = 'WEIGHT', value = dmass_st82['EachProb_CMASS'], dtypes=float)\n",
    "\n",
    "#print 'dmass st82 sample size :', np.sum(dmass_st82['CMASS_PROB'])\n",
    "#print 'cmass sample size :', cmass.size"
   ]
  },
  {
   "cell_type": "code",
   "execution_count": null,
   "metadata": {},
   "outputs": [],
   "source": [
    "#random = io.SearchAndCallFits(path = rootdir, keyword='random_x50_dmass_spt_masked.fits')"
   ]
  },
  {
   "cell_type": "code",
   "execution_count": 92,
   "metadata": {},
   "outputs": [],
   "source": [
    "# calling map \n",
    "GoldMask = callingEliGoldMask()\n",
    "#GoldMask = callingY1GoldMask( nside = 4096 )\n",
    "#GoldMask_st82 = Cuts.SpatialCuts(GoldMask, ra=320, ra2=360, dec=-2, dec2=2)\n",
    "GoldMask_st82 = GoldMask[ GoldMask['DEC'] > -3.0 ]\n",
    "GoldMask_spt = GoldMask[ GoldMask['DEC'] < -3.0 ]\n",
    "#GoldMask_spt = cutcat20(GoldMask_spt)\n",
    "#GoldMask_spt = Cuts.SpatialCuts(GoldMask_spt, ra=0, ra2 = 100, dec=-52, dec2 = -48)\n",
    "\n",
    "pixarea = hp.nside2pixarea( 4096, degrees = True)\n",
    "sptnpix = np.sum(GoldMask_spt['FRAC']) #hp.get_map_size( GoldMask_spt['PIXEL'] )\n",
    "st82npix =  np.sum(GoldMask_st82['FRAC']) # hp.get_map_size( GoldMask_st82 )\n",
    "SPTMaparea = pixarea * sptnpix\n",
    "ST82Maparea = pixarea * st82npix"
   ]
  },
  {
   "cell_type": "code",
   "execution_count": null,
   "metadata": {},
   "outputs": [],
   "source": []
  },
  {
   "cell_type": "code",
   "execution_count": 93,
   "metadata": {},
   "outputs": [
    {
     "name": "stdout",
     "output_type": "stream",
     "text": [
      "102396 101947\n"
     ]
    }
   ],
   "source": [
    "\n",
    "random = uniform_random_on_sphere(GoldMask_st82, size = 200 * cmass.size)\n",
    "random = Cuts.keepGoodRegion(random)\n",
    "#rand = Cuts.keepY1GoldRegion(rand)\n",
    "#rand = random[ random['DEC'] < -3.0 ]\n",
    "rand_st82 = random[ random['DEC'] > -3.0 ]\n",
    "\n",
    "healConfig={'out_nside':64, 'nest':True}\n",
    "rand_st82 = HealPixifyCatalogs(catalog=rand_st82, healConfig=healConfig, ratag='RA', dectag = 'DEC')\n",
    "\n",
    "evenmask = rand_st82['HEALIndex']%2 == 0\n",
    "rand_st82_even = rand_st82[evenmask]\n",
    "rand_st82_odd = rand_st82[~evenmask]\n",
    "\n",
    "print rand_st82_even.size, rand_st82_odd.size\n"
   ]
  },
  {
   "cell_type": "code",
   "execution_count": null,
   "metadata": {},
   "outputs": [],
   "source": []
  },
  {
   "cell_type": "code",
   "execution_count": 105,
   "metadata": {},
   "outputs": [],
   "source": [
    "\n",
    "#train_sample = esutil.io.read('../output/sfd_train_photo_SamPle_nozband_ran10_3/cmass_in_st82.fits')\n",
    "\n",
    "mg1, mg2, _ = esutil.htm.HTM(10).match(cmass['RA'], cmass['DEC'], dmass_st82['RA'], \\\n",
    "                                     dmass_st82['DEC'],2./3600, maxmatch=1)\n",
    "cmass_mask = np.zeros(dmass_st82.size, dtype=bool)\n",
    "cmass_mask[mg2] = 1\n",
    "clean_cmass_data_des, nocmass = dmass_st82[cmass_mask], dmass_st82[~cmass_mask]\n",
    "\n",
    "mg1, mg2, _ = esutil.htm.HTM(10).match(cmass_even['RA'], cmass_even['DEC'], dmass_st82_even['RA'], \\\n",
    "                                     dmass_st82_even['DEC'],2./3600, maxmatch=1)\n",
    "cmass_mask = np.zeros(dmass_st82_even.size, dtype=bool)\n",
    "cmass_mask[mg2] = 1\n",
    "clean_cmass_data_des_even, nocmass_even = dmass_st82_even[cmass_mask], dmass_st82_even[~cmass_mask]\n",
    "\n",
    "\n",
    "mg1, mg2, _ = esutil.htm.HTM(10).match(cmass_odd['RA'], cmass_odd['DEC'], dmass_st82_odd['RA'], \\\n",
    "                                     dmass_st82_odd['DEC'],2./3600, maxmatch=1)\n",
    "cmass_mask = np.zeros(dmass_st82_odd.size, dtype=bool)\n",
    "cmass_mask[mg2] = 1\n",
    "clean_cmass_data_des_odd, nocmass_odd = dmass_st82_odd[cmass_mask], dmass_st82_odd[~cmass_mask]\n",
    "\n",
    "\n",
    "mg1, mg2, _ = esutil.htm.HTM(10).match(cmass_odd['RA'], cmass_odd['DEC'], dmass_st82_test_odd['RA'], \\\n",
    "                                     dmass_st82_test_odd['DEC'],2./3600, maxmatch=1)\n",
    "cmass_mask = np.zeros(dmass_st82_test_odd.size, dtype=bool)\n",
    "cmass_mask[mg2] = 1\n",
    "clean_cmass_data_des_test_odd, nocmass_odd = dmass_st82_test_odd[cmass_mask], dmass_st82_test_odd[~cmass_mask]"
   ]
  },
  {
   "cell_type": "code",
   "execution_count": 106,
   "metadata": {},
   "outputs": [],
   "source": [
    "pbinsmall, steps = np.linspace(0, 0.02, 21,retstep=1 )\n",
    "pbinbig, stepb = np.linspace(0.02, 1, 197, retstep=1 )\n",
    "pth_bin = np.hstack([pbinsmall, pbinbig[1:]])\n",
    "pcenters = pbinsmall[:-1] + steps/2.\n",
    "pcenterb = pbinbig[:-1] + stepb/2.\n",
    "pcenter = np.hstack([pcenters, pcenterb[1:]])"
   ]
  },
  {
   "cell_type": "code",
   "execution_count": 102,
   "metadata": {},
   "outputs": [
    {
     "data": {
      "image/png": "[encoded data removed]",
      "text/plain": [
       "<matplotlib.figure.Figure at 0x7f0c21e71210>"
      ]
     },
     "metadata": {},
     "output_type": "display_data"
    }
   ],
   "source": [
    "\n",
    "pbin = np.linspace(0,1,31)\n",
    "\n",
    "fig, ax = plt.subplots()\n",
    "_ = ax.hist( dmass_st82_even['CMASS_PROB'], bins = pbin, \n",
    "            normed=True, alpha= 0.5, weights = dmass_st82_even['CMASS_PROB'] )\n",
    "_ = ax.hist( dmass_st82_odd['CMASS_PROB'], bins = pbin, \n",
    "           normed=True, alpha= 0.5, weights = dmass_st82_odd['CMASS_PROB'] )\n",
    "#_ = ax.hist( dmass_st82['CMASS_PROB'], bins = pbin, \n",
    "#           normed=True, alpha= 0.5, weights = dmass_st82['CMASS_PROB'] )\n",
    "_ = ax.hist( clean_cmass_data_des_even['CMASS_PROB'], bins = pbin, normed=True, alpha= 0.5 )\n",
    "_ = ax.hist( clean_cmass_data_des_odd['CMASS_PROB'], bins = pbin, normed=True, alpha= 0.5 )"
   ]
  },
  {
   "cell_type": "code",
   "execution_count": 245,
   "metadata": {
    "scrolled": false
   },
   "outputs": [
    {
     "data": {
      "image/png": "[encoded data removed]",
      "text/plain": [
       "<matplotlib.figure.Figure at 0x7f0c8fd2ec10>"
      ]
     },
     "metadata": {},
     "output_type": "display_data"
    },
    {
     "data": {
      "image/png": "[encoded data removed]",
      "text/plain": [
       "<matplotlib.figure.Figure at 0x7f0c9197c110>"
      ]
     },
     "metadata": {},
     "output_type": "display_data"
    },
    {
     "data": {
      "image/png": "[encoded data removed]",
      "text/plain": [
       "<matplotlib.figure.Figure at 0x7f0c2820a290>"
      ]
     },
     "metadata": {},
     "output_type": "display_data"
    }
   ],
   "source": [
    "\n",
    "pbin, ps = np.linspace(0,1,21, retstep=True)\n",
    "\n",
    "#from matplotlib import rc\n",
    "#rc('font',**{'family':'sans-serif','sans-serif':['Helvetica']})\n",
    "## for Palatino and other serif fonts use:\n",
    "#rc('font',**{'family':'serif','serif':['Palatino']})\n",
    "plt.rc('text', usetex=True)\n",
    "plt.rc('font', family='serif')\n",
    "\n",
    "\n",
    "fig, ax = plt.subplots()\n",
    "_ = ax.hist( dmass_st82_even['CMASS_PROB'], bins = pbin, \n",
    "            normed=True, alpha= 0.5, weights = dmass_st82_even['CMASS_PROB'] )\n",
    "_ = ax.hist( dmass_st82_odd['CMASS_PROB'], bins = pbin, \n",
    "           normed=True, alpha= 0.5, weights = dmass_st82_odd['CMASS_PROB'] )\n",
    "#_ = ax.hist( dmass_st82['CMASS_PROB'], bins = pbin, \n",
    "#           normed=True, alpha= 0.5, weights = dmass_st82['CMASS_PROB'] )\n",
    "#_ = ax.hist( clean_cmass_data_des_even['CMASS_PROB'], bins = pbin, normed=True, alpha= 0.5 )\n",
    "N_cmass_even, _, _ = ax.hist( clean_cmass_data_des_even['CMASS_PROB'], bins = pbin, normed=False, alpha= 0.5 )\n",
    "N_all_even, _, _ = ax.hist( dmass_st82_even['CMASS_PROB'], bins = pbin, \n",
    "            normed=False, alpha= 0.5 )\n",
    "\n",
    "N_cmass_odd, _, _ = ax.hist( clean_cmass_data_des_odd['CMASS_PROB'], bins = pbin, normed=False, alpha= 0.5 )\n",
    "N_all_odd, _, _ = ax.hist( dmass_st82_odd['CMASS_PROB'], bins = pbin, \n",
    "            normed=False, alpha= 0.5 )\n",
    "\n",
    "N_cmass_test_odd, _, _ = ax.hist( clean_cmass_data_des_test_odd['CMASS_PROB'], bins = pbin, normed=False, alpha= 0.5 )\n",
    "N_all_test_odd, _, _ = ax.hist( dmass_st82_test_odd['CMASS_PROB'], bins = pbin, \n",
    "            normed=False, alpha= 0.5 )\n",
    "\n",
    "#N_cmass, _, _ = ax.hist( clean_cmass_data_des['CMASS_PROB'], bins = pbin, normed=False, alpha= 0.5 )\n",
    "#N_all, _, _ = ax.hist( dmass_st82['CMASS_PROB'], bins = pbin, \n",
    "#            normed=False, alpha= 0.5 )\n",
    "\n",
    "fig, ax = plt.subplots(figsize = (5,5))\n",
    "#ax.plot(pbin[:-1]+ps/2., N_cmass*1./N_all )\n",
    "ax.errorbar(pbin[:-1]+ps/2.-0.01 , N_cmass_even*1./N_all_even, yerr = 1./np.sqrt(N_cmass_even), fmt='', label='train'  )\n",
    "ax.errorbar(pbin[:-1]+ps/2., N_cmass_odd*1./N_all_odd, yerr = 1./np.sqrt(N_cmass_odd),fmt='', label='test' )\n",
    "#ax.errorbar(pbin[:-1]+ps/2., N_cmass*1./N_all, yerr = 1./np.sqrt(N_cmass), label='full' )\n",
    "ax.plot([0,1], [0,1], ls='--', color='grey')\n",
    "ax.set_ylim(0,1)\n",
    "ax.set_xlim(0,1)\n",
    "\n",
    "ax.set_xlabel(r'${\\rm Model~Probability}$', fontsize = 20)\n",
    "ax.set_ylabel(r'$\\frac{\\rm N_{c}}{\\rm N_{all}}$', fontsize = 20)\n",
    "ax.tick_params(axis='both', labelsize = 15)\n",
    "ax.legend(loc='best', fontsize=15)\n",
    "fig.tight_layout()\n",
    "#fig.savefig('../paper_figure/test.pdf')\n",
    "\n",
    "\n",
    "\n",
    "\n",
    "#===============================================\n",
    "\n",
    "fig, ax = plt.subplots(figsize = (5.3,5))\n",
    "#ax.plot(pbin[:-1]+ps/2., N_cmass*1./N_all )\n",
    "#ax.errorbar(pbin[:-1]+ps/2.-0.01 , N_cmass_even*1./N_all_even, yerr = 1./np.sqrt(N_cmass_even), fmt='', label='train'  )\n",
    "#ax.errorbar( (pbin[:-1]+ps/2. ) , N_cmass_test_odd*1./N_all_test_odd , \n",
    "#            yerr = 1./np.sqrt(N_cmass_test_odd), fmt='', label='test' )\n",
    "\n",
    "ax.bar((pbin[:-1]+ps/2. ), N_cmass_test_odd*1./N_all_test_odd , 0.05, edgecolor='w',\n",
    "        color='grey', yerr = 1./np.sqrt(N_cmass_test_odd), \n",
    "        alpha = 0.5, label = 'test', error_kw = {'elinewidth':1, 'capsize':2.4} )\n",
    "                #yerr=std_men, error_kw=error_config,\n",
    "                #label='Men')\n",
    "\n",
    "#ax.errorbar(pbin[:-1]+ps/2., N_cmass*1./N_all, yerr = 1./np.sqrt(N_cmass), label='full' )\n",
    "\n",
    "#ax.set_xticks([])\n",
    "#ax.set_yticks([])\n",
    "ax.set_xticklabels([0,20,40,60,80,100])\n",
    "ax.set_yticklabels([0,20,40,60,80,100])\n",
    "\n",
    "ax.plot([0,1], [0,1], ls='--', color='grey')\n",
    "ax.set_ylim(0,1)\n",
    "ax.set_xlim(0,1)\n",
    "\n",
    "ax.set_xlabel(r'{\\rm Model Probability (\\%)}', fontsize = 20)\n",
    "ax.set_ylabel(r'$f_{ {\\rm CMASS},i}~(\\%)$', fontsize = 20)\n",
    "ax.tick_params(axis='both', labelsize = 15)\n",
    "#ax.legend(loc='best', fontsize=15)\n",
    "fig.tight_layout()\n",
    "#fig.savefig('../paper_figure/model_probability.pdf')\n",
    "\n",
    "\n",
    "\n",
    "DAT = np.column_stack(( (pbin[:-1]+ps/2.) * 100, N_cmass_test_odd*1./N_all_test_odd * 100\n",
    "                       ,1./np.sqrt(N_cmass_test_odd) * 100  ))\n",
    "np.savetxt('../paper_figure/model_probability.txt', DAT, header = 'prob bin center, fraction,  err')\n"
   ]
  },
  {
   "cell_type": "code",
   "execution_count": 244,
   "metadata": {},
   "outputs": [
    {
     "name": "stdout",
     "output_type": "stream",
     "text": [
      "0.0 6500.3101352636795 6489.556470786066\n",
      "0.001 6471.304426140013 6459.317647015702\n",
      "0.002 6449.407429675187 6436.92859226472\n",
      "0.003 6429.272973727159 6417.233715731059\n",
      "0.004 6410.5245883957205 6398.854196865046\n",
      "0.005 6393.24167890549 6381.608760130306\n",
      "0.006 6376.879970771096 6365.328496205019\n",
      "0.007 6361.324166139573 6349.255673132629\n",
      "0.008 6346.298736932327 6334.356823858945\n",
      "0.009000000000000001 6332.50554001424 6319.321559719798\n",
      "0.01 6319.672261747244 6305.688980550483\n",
      "0.011 6305.484087479673 6292.606588264451\n",
      "0.012 6292.745583081872 6279.219359321055\n",
      "0.013000000000000001 6280.33806285336 6266.022586728196\n",
      "0.014 6267.856858106896 6252.922440200875\n",
      "0.015 6256.372576752469 6240.25792891981\n"
     ]
    },
    {
     "data": {
      "image/png": "[encoded data removed]",
      "text/plain": [
       "<matplotlib.figure.Figure at 0x7f0ca824b690>"
      ]
     },
     "metadata": {},
     "output_type": "display_data"
    }
   ],
   "source": [
    "cmass_numdensity_even = cmass_even.size# * 1./rand_st82_even.size\n",
    "cmass_numdensity_odd = cmass_odd.size# * 1./rand_st82_odd.size\n",
    "cmass_numdensity = cmass.size# * 1./rand_st82.size\n",
    "\n",
    "fig, ax = plt.subplots(figsize = (5.5,5))\n",
    "\n",
    "numdensity = np.zeros(pth_bin[:16].size)\n",
    "numdensity_even = np.zeros(pth_bin[:16].size)\n",
    "numdensity_odd = np.zeros(pth_bin[:16].size)\n",
    "\n",
    "i=0\n",
    "for pc in pth_bin[:16] :\n",
    "    #print i,\n",
    "    \n",
    "    #dmass_spt_pc, _ = resampleWithPth( gold_spt_prob_ran, pstart = pc)\n",
    "    dc = dmass_st82[dmass_st82['EachProb_CMASS'] > pc] \n",
    "    dc_even = dmass_st82_even[dmass_st82_even['CMASS_PROB'] > pc] \n",
    "    dc_odd = dmass_st82_odd[dmass_st82_odd['CMASS_PROB'] > pc] \n",
    "    weight = np.sum(dc['EachProb_CMASS'] )\n",
    "    weight_even = np.sum(dc_even['CMASS_PROB'] )\n",
    "    weight_odd = np.sum(dc_odd['CMASS_PROB'] )\n",
    "    #print weight, weight82, rand2.size, rand_\n",
    "    \n",
    "    #numdensity = weight*1./rand_st82.size * 1./cmass_numdensity\n",
    "    #numdensity_even = weight_even*1./rand_st82_even.size * 1./cmass_numdensity_even\n",
    "    #numdensity_odd = weight_odd*1./rand_st82_odd.size * 1./cmass_numdensity_odd\n",
    "    numdensity[i] = weight* 1./cmass_numdensity\n",
    "    numdensity_even[i] = weight_even* 1./cmass_numdensity_even\n",
    "    numdensity_odd[i] = weight_odd* 1./cmass_numdensity_odd\n",
    "    \n",
    "    #err1 = 1./np.sqrt( weight ) #*1./cmass_numdensity\n",
    "    #if pc == 0.01 : \n",
    "        #ax.scatter(0.01, numdensity[i], marker='*', color='red', s=50)\n",
    "        #ax.scatter(0.01, numdensity_even[i], marker='*', color='red', s=50)\n",
    "        #ax.scatter(0.01, numdensity_odd[i], marker='*', color='red', s=50)\n",
    "    #else :  \n",
    "        #ax.plot(pc, numdensity, 'g.')\n",
    "        #ax.plot(pc, numdensity_even, 'b.')\n",
    "        #ax.plot(pc, numdensity_odd, 'k.')\n",
    "        #ax.errorbar(pc, numdensity, yerr = err1, color='green')\n",
    "    i+=1\n",
    "    print pc, weight_even, weight_odd\n",
    "    \n",
    "#ax.scatter(pth_bin[:16], numdensity, marker='o', color='green', s = 20, label = 'full train')\n",
    "#ax.scatter(pth_bin[:16], numdensity_even, marker='^', color='blue', s = 20, label = 'even hpix')\n",
    "#ax.scatter(pth_bin[:16], numdensity_odd, marker='o', color='green', s = 20, label = 'odd hpix')\n",
    "  \n",
    "ax.plot(pth_bin[:16]*100, numdensity, ls = '--', marker='d', color='black',  label = 'full train', zorder = 10)\n",
    "ax.plot(pth_bin[:16]*100, numdensity_even, ls = '-', marker='s', color='green',  label = 'even hpix', zorder = 11)\n",
    "ax.plot(pth_bin[:16]*100, numdensity_odd, ls = '--', marker='o', color='skyblue', label = 'odd hpix', zorder = 12)\n",
    "   \n",
    "ax.scatter(0.01*100, numdensity[10], marker='*', color='red', s=120, zorder = 100)\n",
    "\n",
    "ax.axhline(y = 1.0, ls = '--', color='grey')\n",
    "#ax.scatter(pc, numdensity, marker='o', color='green', s=30, label = 'full train')\n",
    "#ax.scatter(pc, numdensity_even, marker='^', color='blue', s=30, label = 'even hpix')\n",
    "#ax.scatter(pc, numdensity_odd, marker='s', color='black', s=30, label = 'odd hpix')\n",
    "\n",
    "#ax.scatter(0.01, numdensity_s82, marker='*', color='red', s=150)\n",
    "#ax.scatter(0.01, numdensity, marker='*', color='red', s=150, label = 'current setting')\n",
    "ax.set_xlabel(r'{\\rm Probability Cut (\\%)}', fontsize = 20)\n",
    "ax.set_ylabel(r'$N_{\\rm DMASS}~/ N_{\\rm CMASS}$', fontsize = 20)\n",
    "#ax.text(0.007, 0.925, 'bin size = 0.0001')\n",
    "ax.legend(fontsize = 15)\n",
    "ax.tick_params(labelsize = 15)\n",
    "ax.set_xlim(0, 0.015*100)\n",
    "fig.tight_layout()\n",
    "#fig.savefig(figoutdir + 'prob_test_num_density.png') \n",
    "\n",
    "\n",
    "DAT = np.column_stack(( pth_bin[:16]*100, numdensity, numdensity_even, numdensity_odd ))\n",
    "np.savetxt('../paper_figure/prob_test_num_density.txt', DAT, header = 'prob, ndensity full, even, odd')"
   ]
  },
  {
   "cell_type": "code",
   "execution_count": 223,
   "metadata": {},
   "outputs": [
    {
     "data": {
      "text/plain": [
       "0.9998506870223652"
      ]
     },
     "execution_count": 223,
     "metadata": {},
     "output_type": "execute_result"
    }
   ],
   "source": [
    "numdensity[10]"
   ]
  },
  {
   "cell_type": "code",
   "execution_count": null,
   "metadata": {},
   "outputs": [],
   "source": [
    "pbinsmall, steps = np.linspace(0, 0.02, 21,retstep=1 )\n",
    "pbinbig, stepb = np.linspace(0.02, 1, 197, retstep=1 )\n",
    "pth_bin = np.hstack([pbinsmall, pbinbig[1:]])\n",
    "pcenters = pbinsmall[:-1] + steps/2.\n",
    "pcenterb = pbinbig[:-1] + stepb/2.\n",
    "pcenter = np.hstack([pcenters, pcenterb[1:]])"
   ]
  },
  {
   "cell_type": "code",
   "execution_count": null,
   "metadata": {
    "scrolled": false
   },
   "outputs": [],
   "source": [
    "#tree corr\n",
    "from systematics_module.corr import angular_correlation\n",
    "basedir = rootdir+'/act/'\n",
    "os.system('mkdir '+basedir)\n",
    "\n",
    "dmass['WEIGHT'] = dmass['CMASS_PROB'] * dmass['VETO']\n",
    "for pc in pth_bin[0:21] :\n",
    "    #dc = dmass[dmass['WEIGHT'] > pc] \n",
    "    #randind = np.random.choice( range(dc.size), size = dc.size/10)\n",
    "    \n",
    "    \n",
    "    pcut = dmass['EachProb_CMASS'] > pc\n",
    "    angular_correlation_poisson(data = dmass[pcut], rand = random, nbins=10, \n",
    "                    weight_data = True, weight_rand = None,\n",
    "                    suffix = '_dmass_pcut{:0.3f}_nbins10_jk50'.format(pc), dir = rootdir+'/act/')\n",
    "    print 'cut :', pc,  'sample size : ', dmass[pcut].size\n",
    "    #angular_correlation(data = dmass[pcut], rand = random, nbins=10, njack = 100, weight=[True, False],\n",
    "    #                    suffix = '_dmass_pcut{:0.3f}_nbins10_jk100'.format(pc), dir = basedir)"
   ]
  },
  {
   "cell_type": "code",
   "execution_count": null,
   "metadata": {},
   "outputs": [],
   "source": [
    "len(pth_bin[:16]), len(filenames)"
   ]
  },
  {
   "cell_type": "code",
   "execution_count": null,
   "metadata": {},
   "outputs": [],
   "source": [
    "import scipy\n",
    "\n",
    "theta_th, theory = np.loadtxt('../data_txt/acf_cmass_ngc_theory.txt', unpack=True)\n",
    "theta_th, theory_sgc = np.loadtxt('../data_txt/acf_cmass_sgc_theory.txt', unpack=True)\n",
    "theory_sgc_interp = scipy.interpolate.interp1d(theta_th, theory_sgc)\n",
    "#theory_sgc_interp = theory_sgc_interp(meanr)\n",
    "\n",
    "fig, ax = plt.subplots(figsize = (3,7))\n",
    "brelsqr = np.linspace(0.8, 1.2, 5000) \n",
    "b_n = 2.0\n",
    "brelarr = np.sqrt(brelsqr)\n",
    "dbarray = b_n*(1-brelarr)\n",
    "\n",
    "labels_SP = ['{:0.3f}'.format(pc) for pc in pth_bin[:16]]\n",
    "\n",
    "filenames = [ basedir+'acf_auto_poisson_dmass_pcut{:0.3f}_nbins10_jk50.txt'.format(pc) for pc in pth_bin[:16]]\n",
    "#covnames = [ basedir+'acf_auto_dmass_pcut{:0.5f}_nbins10_jk50.cov'.format(pc) for pc in pth_bin[::5][:23]]\n",
    "covnames = [ basedir +'acf_auto_dmass_pcut{:0.3f}_nbins10_jk100.cov'.format(pc) for pc in pth_bin[:16]]\n",
    "\n",
    "for j in range(1, len(pth_bin[:16])+1):\n",
    "    meanrw, xiw, xi_errw = np.loadtxt( filenames[j-1], unpack=True)\n",
    "    cov_dmass_w = np.loadtxt( covnames[j-1], unpack=True)\n",
    "    #meanrw, xiw, xi_errw = np.loadtxt(basedir+'acf_auto_dmass_weight'+str(j)+'_nbins10_jk100.txt', unpack=True)\n",
    "    #cov_dmass_w = np.loadtxt(basedir+'acf_auto_dmass_weight'+str(j)+'_nbins10_jk100.cov', unpack=True)\n",
    "    HFd = 1.0 #HF(100, 10)\n",
    "    F_d = HFd * np.linalg.inv(cov_dmass_w)\n",
    "    err_brelw, brelw, chisqr_resultw = brel_chisqr_fitting(xiw, theory_sgc_interp(meanrw), F_d, verbose=True)\n",
    "    if pth_bin[:16][j-1] == 0.01 : \n",
    "        color = 'r'\n",
    "        ax.axvspan(- err_brelw*2., err_brelw*2.,  alpha=0.1, color='grey')\n",
    "        ax.axvline(x=0, color = 'grey', ls='--')\n",
    "    else : color = 'k'  \n",
    "   \n",
    "    ax.errorbar(2.-2*brelw, len(labels_SP)-j, xerr =err_brelw*2., fmt='-o', color=color)\n",
    "    \n",
    "ax.set_xlabel(r'$\\Delta b = b_{th} - b_x$', fontsize = 20)\n",
    "#ax.set_ylabel(r'$\\chi^2$')\n",
    "ax.legend(loc=1)\n",
    "ax.set_xlim(-0.1, 0.1)\n",
    "#ax.set_yticks([1,2,3,4,5,6,7,8,9,10,11,12])\n",
    "ax.set_yticks(np.arange(len(labels_SP)+1))\n",
    "ax.set_ylabel('probabiliy cut', fontsize = 20)\n",
    "labels = labels_SP[::-1] + ['']\n",
    "ax.set_yticklabels( labels, fontsize = 15) \n",
    "fig.savefig(figoutdir + 'sys_bias_pcut.png')\n",
    "print 'pic save to ', figoutdir + 'sys_bias_pcut.png'\n",
    "\n",
    "\n",
    "\n",
    "\n"
   ]
  },
  {
   "cell_type": "code",
   "execution_count": null,
   "metadata": {},
   "outputs": [],
   "source": [
    "fig, ax = plt.subplots()\n",
    "_ = ax.hist( dmass_spt_pc['EachProb_CMASS'], bins = pth_bin[:101])\n",
    "ax.set_xlabel('Probability')\n",
    "ax.set_ylabel('N galaxy')\n",
    "ax.text(0.005, 175, 'bin size = 0.0001', fontsize = 12)"
   ]
  },
  {
   "cell_type": "code",
   "execution_count": null,
   "metadata": {},
   "outputs": [],
   "source": [
    "fig, ax = plt.subplots()\n",
    "_ = ax.hist( dmass_spt_pc['EachProb_CMASS'], bins = pth_bin)"
   ]
  },
  {
   "cell_type": "code",
   "execution_count": null,
   "metadata": {},
   "outputs": [],
   "source": [
    "from systematics_module.contCorrection import doVisualization_ngal\n",
    "from run_systematics import sys_iteration, fitting_SP, sys_ngal, weightmultiply, fitting_allSP, calling_sysMap, maskingCatalogSP"
   ]
  },
  {
   "cell_type": "code",
   "execution_count": null,
   "metadata": {},
   "outputs": [],
   "source": [
    "properties = ['GE', 'NSTARS_allband']\n",
    "sysMap = calling_sysMap( properties=properties, kind='SPT', nside=4096 )"
   ]
  },
  {
   "cell_type": "code",
   "execution_count": null,
   "metadata": {},
   "outputs": [],
   "source": [
    "sysoutdir = rootdir+'/sys/'"
   ]
  },
  {
   "cell_type": "code",
   "execution_count": null,
   "metadata": {
    "scrolled": false
   },
   "outputs": [],
   "source": [
    "for pc in pth_bin[::5][:23]:\n",
    "#pc = 0\n",
    "    suffix = 'pcut_{:0.4f}'.format(pc)\n",
    "\n",
    "    for p in ['GE', 'NSTARS_allband'] : \n",
    "        \n",
    "        dc = dmass_spt_pc[dmass_spt_pc['EachProb_CMASS'] > pc ]\n",
    "        print pc, dc.size\n",
    "        sys_ngal(cat1 = dc, cat2=rand, rand1 = rand2, rand2 = rand2, sysmap = sysMap, \n",
    "             FullArea = SPTMaparea, properties = properties, kind='SPT', nbins =15, \n",
    "             reweight= None, nside = 4096,\n",
    "             suffix=suffix, outdir=sysoutdir)\n",
    "\n",
    "        doVisualization_ngal(property = p, nside = 4096, kind = 'SPT', suffix=suffix, \\\n",
    "                             inputdir=sysoutdir, outdir=figoutdir)"
   ]
  },
  {
   "cell_type": "code",
   "execution_count": null,
   "metadata": {},
   "outputs": [],
   "source": []
  }
 ],
 "metadata": {
  "kernelspec": {
   "display_name": "Python 2",
   "language": "python",
   "name": "python2"
  },
  "language_info": {
   "codemirror_mode": {
    "name": "ipython",
    "version": 2
   },
   "file_extension": ".py",
   "mimetype": "text/x-python",
   "name": "python",
   "nbconvert_exporter": "python",
   "pygments_lexer": "ipython2",
   "version": "2.7.14"
  }
 },
 "nbformat": 4,
 "nbformat_minor": 2
}
