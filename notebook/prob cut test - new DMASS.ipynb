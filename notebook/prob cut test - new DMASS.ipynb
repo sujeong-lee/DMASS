{
 "cells": [
  {
   "cell_type": "code",
   "execution_count": 1,
   "metadata": {},
   "outputs": [],
   "source": [
    "import os, sys, fitsio\n",
    "sys.path.append('../')\n",
    "import numpy as np\n",
    "import healpy as hp\n",
    "from run_DMASS import *\n",
    "%matplotlib inline\n",
    "\n",
    "%load_ext autoreload\n",
    "%autoreload 2"
   ]
  },
  {
   "cell_type": "code",
   "execution_count": 2,
   "metadata": {},
   "outputs": [],
   "source": [
    "import healpy as hp"
   ]
  },
  {
   "cell_type": "code",
   "execution_count": 3,
   "metadata": {},
   "outputs": [
    {
     "data": {
      "text/plain": [
       "256"
      ]
     },
     "execution_count": 3,
     "metadata": {},
     "output_type": "execute_result"
    }
   ],
   "source": [
    "rootdir = '../output/sfd_train_photo_SamPle_nozband_ran10_3_full_tol1e5/'\n",
    "figoutdir = rootdir + '/figure/'\n",
    "os.system('mkdir '+figoutdir)"
   ]
  },
  {
   "cell_type": "code",
   "execution_count": 4,
   "metadata": {},
   "outputs": [],
   "source": [
    "#import pickle\n",
    "#filename = open('../output/sfd_train_photo_SamPle_nozband_ran10_3_full_tol1e5/gold_st82_XD_no_full_tol1e5.pkl')\n",
    "#pic = pickle.load(filename)"
   ]
  },
  {
   "cell_type": "code",
   "execution_count": 5,
   "metadata": {},
   "outputs": [
    {
     "name": "stdout",
     "output_type": "stream",
     "text": [
      "\n",
      "--------------------------------\n",
      " calling catalog\n",
      "--------------------------------\n",
      "dmass_spt_sys_v3.fits\n",
      "dmass sample size : 120874.72753482158\n",
      "\n",
      "--------------------------------\n",
      " calling catalog\n",
      "--------------------------------\n",
      "gold_st82_prob.fits\n",
      "dmass st82 sample size : 13002.574050557929\n",
      "cmass sample size : 12639\n"
     ]
    }
   ],
   "source": [
    "# import DMASS\n",
    "\n",
    "#dmass = fitsio.read(rootdir+'spt.fits')\n",
    "dmass = io.SearchAndCallFits(path = rootdir, keyword='dmass_spt_sys_v3')\n",
    "#dmass = fitsio.read(rootdir+'dmass_spt_sys_v3.fits')\n",
    "#dmass = dmass[dmass['EachProb_CMASS'] > 0.00]\n",
    "print 'dmass sample size :', np.sum(dmass['CMASS_PROB'])\n",
    "\n",
    "\n",
    "#dmass = cutcat20(dmass)\n",
    "#dmass_st82 = fitsio.read(rootdir+'dmass_st82_0004.fits')\n",
    "dmass_st82 = io.SearchAndCallFits(path = rootdir, keyword='gold_st82_prob')\n",
    "dmass_st82 = dmass_st82[dmass_st82['EachProb_CMASS'] > 0.00]\n",
    "\n",
    "cmass = fitsio.read('../output/sfd_train_photo_SamPle_nozband_ran10_3/train_sample_des.fits')\n",
    "\n",
    "\n",
    "dmass = appendColumn(dmass, name = 'WEIGHT', value = dmass['EachProb_CMASS'], dtypes=float)\n",
    "dmass_st82 = appendColumn(dmass_st82, name = 'WEIGHT', value = dmass_st82['EachProb_CMASS'], dtypes=float)\n",
    "\n",
    "print 'dmass st82 sample size :', np.sum(dmass_st82['EachProb_CMASS'])\n",
    "print 'cmass sample size :', cmass.size"
   ]
  },
  {
   "cell_type": "code",
   "execution_count": 6,
   "metadata": {},
   "outputs": [
    {
     "data": {
      "text/plain": [
       "(12639, 694475, 6777228)"
      ]
     },
     "execution_count": 6,
     "metadata": {},
     "output_type": "execute_result"
    }
   ],
   "source": [
    "cmass.size, dmass_st82.size, dmass.size"
   ]
  },
  {
   "cell_type": "code",
   "execution_count": 10,
   "metadata": {},
   "outputs": [
    {
     "name": "stdout",
     "output_type": "stream",
     "text": [
      "\n",
      "--------------------------------\n",
      " calling catalog\n",
      "--------------------------------\n",
      "random_x50_dmass_spt_masked.fits\n"
     ]
    }
   ],
   "source": [
    "random = io.SearchAndCallFits(path = rootdir, keyword='random_x50_dmass_spt_masked.fits')"
   ]
  },
  {
   "cell_type": "code",
   "execution_count": 9,
   "metadata": {},
   "outputs": [],
   "source": [
    "# calling map \n",
    "GoldMask = callingEliGoldMask()\n",
    "#GoldMask_st82 = Cuts.SpatialCuts(GoldMask, ra=320, ra2=360, dec=-2, dec2=2)\n",
    "GoldMask_st82 = GoldMask[ GoldMask['DEC'] > -3.0 ]\n",
    "GoldMask_spt = GoldMask[ GoldMask['DEC'] < -3.0 ]\n",
    "#GoldMask_spt = cutcat20(GoldMask_spt)\n",
    "#GoldMask_spt = Cuts.SpatialCuts(GoldMask_spt, ra=0, ra2 = 100, dec=-52, dec2 = -48)\n",
    "\n",
    "pixarea = hp.nside2pixarea( 4096, degrees = True)\n",
    "sptnpix = GoldMask_spt['PIXEL'].size #hp.get_map_size( GoldMask_spt['PIXEL'] )\n",
    "st82npix =  GoldMask_st82['PIXEL'].size # hp.get_map_size( GoldMask_st82 )\n",
    "SPTMaparea = pixarea * sptnpix\n",
    "ST82Maparea = pixarea * st82npix"
   ]
  },
  {
   "cell_type": "code",
   "execution_count": 20,
   "metadata": {},
   "outputs": [
    {
     "name": "stdout",
     "output_type": "stream",
     "text": [
      "42745 6777228\n"
     ]
    }
   ],
   "source": [
    "\"\"\"\n",
    "random = uniform_random_on_sphere(GoldMask, size = dmass.size/10)\n",
    "random = Cuts.keepGoodRegion(random)\n",
    "#rand = Cuts.keepY1GoldRegion(rand)\n",
    "rand = random[ random['DEC'] < -3.0 ]\n",
    "rand_st82 = random[ random['DEC'] > -3.0 ]\n",
    "#rand2 = cutcat20(rand2)\n",
    "\n",
    "\n",
    "random = uniform_random_on_sphere(GoldMask, size = 10 * dmass.size)\n",
    "random = Cuts.keepGoodRegion(random)\n",
    "#rand = Cuts.keepY1GoldRegion(rand)\n",
    "rand2 = random[ random['DEC'] < -3.0 ]\n",
    "rand_st82_2 = random[ random['DEC'] > -3.0 ]\n",
    "#rand2 = cutcat20(rand2)\n",
    "\n",
    "print rand.size, dmass.size\n",
    "#rand_train = uniform_random_on_sphere(clean_cmass_data_des, size = 10 * clean_cmass_data_des.size)\n",
    "#rand_train = Cuts.keepGoodRegion(rand_train)\n",
    "random = None\n",
    "\"\"\"\n"
   ]
  },
  {
   "cell_type": "code",
   "execution_count": 54,
   "metadata": {
    "collapsed": true
   },
   "outputs": [
    {
     "ename": "TypeError",
     "evalue": "angular_correlation_poisson() got an unexpected keyword argument 'njack'",
     "output_type": "error",
     "traceback": [
      "\u001b[0;31m---------------------------------------------------------------------------\u001b[0m",
      "\u001b[0;31mTypeError\u001b[0m                                 Traceback (most recent call last)",
      "\u001b[0;32m<ipython-input-54-f513b05f325e>\u001b[0m in \u001b[0;36m<module>\u001b[0;34m()\u001b[0m\n\u001b[1;32m      2\u001b[0m \u001b[0;32mfrom\u001b[0m \u001b[0msystematics_module\u001b[0m\u001b[0;34m.\u001b[0m\u001b[0mcorr\u001b[0m \u001b[0;32mimport\u001b[0m \u001b[0mangular_correlation\u001b[0m\u001b[0;34m,\u001b[0m \u001b[0mangular_correlation_poisson\u001b[0m\u001b[0;34m\u001b[0m\u001b[0m\n\u001b[1;32m      3\u001b[0m angular_correlation_poisson(data = dmass[randind], rand = rand2, nbins=10, njack = 50, weight = [True, False], \n\u001b[0;32m----> 4\u001b[0;31m                     suffix = '_dmass_spt_rand_nbins10_jk50', dir = rootdir+'/act/')\n\u001b[0m\u001b[1;32m      5\u001b[0m \u001b[0;31m#angular_correlation(data = gold_st82_prob_ran10, rand = rand_st82, nbins=10, njack = 30, weight = [True, True],\u001b[0m\u001b[0;34m\u001b[0m\u001b[0;34m\u001b[0m\u001b[0m\n\u001b[1;32m      6\u001b[0m \u001b[0;31m#                    suffix = '_gold_st82_nbins10_jk30'.format(i+1), dir = rootdir+'/act/')\u001b[0m\u001b[0;34m\u001b[0m\u001b[0;34m\u001b[0m\u001b[0m\n",
      "\u001b[0;31mTypeError\u001b[0m: angular_correlation_poisson() got an unexpected keyword argument 'njack'"
     ]
    }
   ],
   "source": [
    "#tree corr\n",
    "from systematics_module.corr import angular_correlation, angular_correlation_poisson\n",
    "angular_correlation(data = dmass, rand = rand2, nbins=10, njack = 50, weight = [True, False], \n",
    "                    suffix = '_dmass_spt_nbins10_jk50', dir = rootdir+'/act/')\n",
    "#angular_correlation(data = gold_st82_prob_ran10, rand = rand_st82, nbins=10, njack = 30, weight = [True, True], \n",
    "#                    suffix = '_gold_st82_nbins10_jk30'.format(i+1), dir = rootdir+'/act/')"
   ]
  },
  {
   "cell_type": "code",
   "execution_count": 57,
   "metadata": {},
   "outputs": [
    {
     "data": {
      "text/plain": [
       "(677722, 4281839)"
      ]
     },
     "execution_count": 57,
     "metadata": {},
     "output_type": "execute_result"
    }
   ],
   "source": [
    "dmass[randind].size, rand2.size"
   ]
  },
  {
   "cell_type": "code",
   "execution_count": 12,
   "metadata": {},
   "outputs": [
    {
     "name": "stdout",
     "output_type": "stream",
     "text": [
      "saving data file to :  ../output/sfd_train_photo_SamPle_nozband_ran10_3_full_tol1e5//act//acf_auto_poisson_dmass_spt_pcut00_nbins10_jk50.txt\n"
     ]
    }
   ],
   "source": [
    "from systematics_module.corr import angular_correlation, angular_correlation_poisson\n",
    "dmass['WEIGHT'] = dmass['CMASS_PROB'] * dmass['VETO']\n",
    "angular_correlation_poisson(data = dmass, rand = random, nbins=10, \n",
    "                            weight_data = True, weight_rand = None,\n",
    "                    suffix = '_dmass_spt_pcut00_nbins10_jk50', dir = rootdir+'/act/')"
   ]
  },
  {
   "cell_type": "code",
   "execution_count": 13,
   "metadata": {},
   "outputs": [
    {
     "name": "stdout",
     "output_type": "stream",
     "text": [
      "saving data file to :  ../output/sfd_train_photo_SamPle_nozband_ran10_3_full_tol1e5//act//acf_auto_poisson_dmass_spt_pcut01_nbins10_jk50.txt\n"
     ]
    }
   ],
   "source": [
    "dmass['WEIGHT'] = dmass['CMASS_PROB'] * dmass['VETO']\n",
    "pcut = dmass['EachProb_CMASS'] > 0.01\n",
    "angular_correlation_poisson(data = dmass[pcut], rand = random, nbins=10, \n",
    "                            weight_data = True, weight_rand = None,\n",
    "                    suffix = '_dmass_spt_pcut01_nbins10_jk50', dir = rootdir+'/act/')"
   ]
  },
  {
   "cell_type": "code",
   "execution_count": 14,
   "metadata": {},
   "outputs": [
    {
     "name": "stdout",
     "output_type": "stream",
     "text": [
      "saving data file to :  ../output/sfd_train_photo_SamPle_nozband_ran10_3_full_tol1e5//act//acf_auto_poisson_dmass_spt_pcut02_nbins10_jk50.txt\n"
     ]
    }
   ],
   "source": [
    "dmass['WEIGHT'] = dmass['CMASS_PROB'] * dmass['VETO']\n",
    "pcut = dmass['EachProb_CMASS'] > 0.02\n",
    "angular_correlation_poisson(data = dmass[pcut], rand = random, nbins=10, \n",
    "                            weight_data = True, weight_rand = None,\n",
    "                    suffix = '_dmass_spt_pcut02_nbins10_jk50', dir = rootdir+'/act/')"
   ]
  },
  {
   "cell_type": "code",
   "execution_count": 388,
   "metadata": {
    "collapsed": true
   },
   "outputs": [
    {
     "name": "stdout",
     "output_type": "stream",
     "text": [
      "calculate angular correlation function\n",
      "X (1661, 2)  centers (100, 2)  tol=1e-05  maxiter=200\n",
      "18 iterations  cluster sizes: [17 12 13 18 21 16 32 11 23 21 24 16  6 11 14 16 25 27 28 18 25  9 20 12\n",
      " 14 13  8 31 12 21 25  5 16 28 23 18 21 24 20 15 42 17  3 14 16 22 26 13\n",
      "  6 12 31 25  8 24 18 16 11 11 17 23 11 25 25 17 11 31 22 11 13 15 20 11\n",
      " 14  4 13  8  7 22 11 17  4 18 12 18 26 15 16 27  3  7  7 18  9 13 15  5\n",
      " 15 10 15 16]\n",
      "X (690479, 2)  centers (100, 2)  tol=1e-05  maxiter=200\n",
      "179 iterations  cluster sizes: [6926 5704 7145 7923 7032 7670 8384 6502 8010 5031 8027 9000 5640 7963\n",
      " 7386 8019 7275 7963 8986 5912 6656 4430 6926 7242 6970 8227 7005 8661\n",
      " 6574 8067 7961 4286 7685 9835 4900 7887 6698 8329 8722 6657 7991 7479\n",
      " 4858 8356 7103 7926 7168 5899 3941 8025 7077 8529 4648 8352 8406 7030\n",
      " 7473 7082 7120 7530 5337 5838 6577 6995 6532 7290 7710 5826 6247 7349\n",
      " 7883 6683 5531 4089 7092 5794 3755 4307 7136 6290 3735 6687 5089 7477\n",
      " 7379 7915 6368 6976 4039 4933 8279 7487 8640 6911 6783 4262 5630 7980\n",
      " 8623 8816]\n",
      ". . . . . . . . . . . . . . . . . . . . . . . . . . . . . . . . . . . . . . . . . . . . . . . . . . . . . . . . . . . . . . . . . . . . . . . . . . . . . . . . . . . . . . . . . . . . . . . . . . . . . saving data file to :  ../output/sfd_train_photo_SamPle_nozband_ran10_2//act//acf_auto_gold_spt_nbins10_jk100.txt\n"
     ]
    }
   ],
   "source": [
    "#tree corr\n",
    "from systematics_module.corr import angular_correlation\n",
    "angular_correlation(data = gold_spt_prob_ran10, rand = GoldMask_spt, nbins=10, njack = 100, weight = [True, False], \n",
    "                    suffix = '_gold_spt_nbins10_jk100'.format(i+1), dir = rootdir+'/act/')\n",
    "#angular_correlation(data = gold_st82_prob_ran10, rand = rand_st82, nbins=10, njack = 30, weight = [True, True], \n",
    "#                    suffix = '_gold_st82_nbins10_jk30'.format(i+1), dir = rootdir+'/act/')"
   ]
  },
  {
   "cell_type": "code",
   "execution_count": 396,
   "metadata": {
    "collapsed": true
   },
   "outputs": [
    {
     "name": "stdout",
     "output_type": "stream",
     "text": [
      "calculate angular correlation function\n",
      "X (1000, 2)  centers (100, 2)  tol=1e-05  maxiter=200\n",
      "19 iterations  cluster sizes: [ 4 17  6  9  9 17  6  7 14  7 16 13  6 17 14  5 11 17  9  5 11 11  9 12\n",
      " 15  7 17 12  6 15  9  6 21  0 19 17  8 13  9 14  8 10  7  7  3  6  7  9\n",
      "  8  7  9 14  7  7  2  9  7  8  7 11  9  8 11 14  8  9 13  5 10 13  6  2\n",
      " 14 16 18  4 14  8  8 15  7  5  8 12 18 22 10  8  8 14  4 13  9  6  7  9\n",
      "  9 18  8  7]\n",
      "X (72447, 2)  centers (100, 2)  tol=1e-05  maxiter=200\n",
      "97 iterations  cluster sizes: [ 700  879  637  567  699 1013  535  614  887  592  892  833  598  743\n",
      "  777  929  834 1126  741  596  836  801  698  852  709  850 1157  913\n",
      "  610  768  783  780  639  421  727  506  802  927  546  740  476  652\n",
      "  573  675  421  438  881  668  458  482  869  949  650  729  823  597\n",
      "  670  382  639  782  818  782  746  510  659  717  751  579  719  771\n",
      "  527  528  842  994  857  727  862  757  549 1035  881  651  724  674\n",
      "  992  846  727  766  804  745  484  712  596  668  633  694  670  915\n",
      "  791  673]\n",
      ". . . . . . . . . . . . . . . . . . . . . . . . . . . . . . . . . . . . . . . . . . . . . . . . . . . . . . . . . . . . . . . . . . . . . . . . . . . . . . . . . . . . . . . . . . . . . . . . . . . . . saving data file to :  ../output/sfd_train_photo_SamPle_nozband_ran10_2//act//acf_auto_gold_st82_nbins10_jk100.txt\n"
     ]
    }
   ],
   "source": [
    "angular_correlation(data = gold_st82_prob_ran10, rand = rand_st82, nbins=10, njack = 100, weight = [True, False], \n",
    "                    suffix = '_gold_st82_nbins10_jk100'.format(i+1), dir = rootdir+'/act/')"
   ]
  },
  {
   "cell_type": "code",
   "execution_count": 15,
   "metadata": {},
   "outputs": [
    {
     "data": {
      "text/plain": [
       "<matplotlib.text.Text at 0x7f6ff10e41d0>"
      ]
     },
     "execution_count": 15,
     "metadata": {},
     "output_type": "execute_result"
    },
    {
     "data": {
      "image/png": "[encoded data removed]",
      "text/plain": [
       "<matplotlib.figure.Figure at 0x7f6ff341f410>"
      ]
     },
     "metadata": {},
     "output_type": "display_data"
    }
   ],
   "source": [
    "import scipy\n",
    "\n",
    "theta_th, theory = np.loadtxt('../data_txt/acf_cmass_ngc_theory.txt', unpack=True)\n",
    "theta_th, theory_sgc = np.loadtxt('../data_txt/acf_cmass_sgc_theory.txt', unpack=True)\n",
    "\n",
    "#_, theory_bias = np.loadtxt('../data_txt/acf_cmass_sgc_theory_bias.txt', unpack=True)\n",
    "#meanr, xi, xi_err = np.loadtxt(rootdir+'/act//acf_auto_gold_st82_nbins10_jk100.txt', unpack=True)\n",
    "meanr,  xi,  xi_err  = np.loadtxt(rootdir+'/act//acf_auto_poisson_dmass_spt_pcut00_nbins10_jk50.txt', unpack=True)\n",
    "meanr2, xi2, xi_err2 = np.loadtxt(rootdir+'/act//acf_auto_poisson_dmass_spt_pcut01_nbins10_jk50.txt', unpack=True)\n",
    "meanr3, xi3, xi_err3 = np.loadtxt(rootdir+'/act//acf_auto_poisson_dmass_spt_pcut02_nbins10_jk50.txt', unpack=True)\n",
    "\n",
    "theory_interp = scipy.interpolate.interp1d(theta_th, theory)\n",
    "theory_interp = theory_interp(meanr)\n",
    "theory_sgc_interp = scipy.interpolate.interp1d(theta_th, theory_sgc)\n",
    "theory_sgc_interp = theory_sgc_interp(meanr)\n",
    "\n",
    "nzs_ratio = theory_sgc_interp/theory_interp\n",
    "\n",
    "\n",
    "meanr_sgc, xi_sgc, xi_err_sgc = np.loadtxt('../data_txt//acf_auto_cmass_sgc_sys_cp_nz_weight_nbins10_jk100.txt',unpack=True)\n",
    "cov_cmass_s = np.genfromtxt('../data_txt//acf_auto_cmass_sgc_sys_cp_nz_weight_nbins10_jk100.cov')\n",
    "\n",
    "\n",
    "\n",
    "\n",
    "fig, ax = plt.subplots(figsize = (13, 10))\n",
    "\n",
    "\n",
    "ax.errorbar(meanr, xi, yerr = xi_err, fmt = '-', color='r', label='dmass pcut00')\n",
    "ax.errorbar(meanr2, xi2, yerr = xi_err2, fmt = '-', color='b', label='dmass pcut01')\n",
    "ax.errorbar(meanr3, xi3, yerr = xi_err3, fmt = '-', color='g', label='dmass pcut02')\n",
    "ax.errorbar(meanr_sgc, xi_sgc, yerr = xi_err_sgc, fmt = 'k.', color='r', label='cmass sgc')\n",
    "\n",
    "ax.plot(theta_th, theory, '-', color='grey', label='theory')\n",
    "ax.plot(theta_th, theory_sgc, '--', color='grey', label='theory sgc')\n",
    "#ax.plot(theta_th, theta_th*theory_bias, '--', color='green', label='theory bias')\n",
    "\n",
    "ax.set_xscale('log')\n",
    "ax.set_yscale('log')\n",
    "ax.legend(loc = 'best', fontsize = 12)\n",
    "#ax.text(1.5, 0.07, r'$\\chi^2 $ = {:0.3f}  (south)'.format(chisqr), fontsize = 12)\n",
    "ax.set_ylim(1e-4,1)\n",
    "ax.set_xlim(2.5/60, 250./60)\n",
    "ax.set_xlabel(r'$\\theta$ (deg)', fontsize = 15)\n",
    "ax.set_ylabel(r'$\\omega(\\theta)$', fontsize = 15)"
   ]
  },
  {
   "cell_type": "code",
   "execution_count": 14,
   "metadata": {},
   "outputs": [],
   "source": [
    "train_sample = esutil.io.read(rootdir + 'cmass_in_st82.fits')\n",
    "\n",
    "mg1, mg2, _ = esutil.htm.HTM(10).match(train_sample['RA'], train_sample['DEC'], dmass_st82['RA'], \\\n",
    "                                     dmass_st82['DEC'],2./3600, maxmatch=1)\n",
    "cmass_mask = np.zeros(dmass_st82.size, dtype=bool)\n",
    "cmass_mask[mg2] = 1\n",
    "clean_cmass_data_des, nocmass = dmass_st82[cmass_mask], dmass_st82[~cmass_mask]"
   ]
  },
  {
   "cell_type": "code",
   "execution_count": 15,
   "metadata": {},
   "outputs": [],
   "source": [
    "pbinsmall, steps = np.linspace(0, 0.02, 21,retstep=1 )\n",
    "pbinbig, stepb = np.linspace(0.02, 1, 197, retstep=1 )\n",
    "pth_bin = np.hstack([pbinsmall, pbinbig[1:]])\n",
    "pcenters = pbinsmall[:-1] + steps/2.\n",
    "pcenterb = pbinbig[:-1] + stepb/2.\n",
    "pcenter = np.hstack([pcenters, pcenterb[1:]])"
   ]
  },
  {
   "cell_type": "code",
   "execution_count": 16,
   "metadata": {},
   "outputs": [
    {
     "data": {
      "text/plain": [
       "array([0.001, 0.002, 0.003, 0.004, 0.005, 0.006, 0.007, 0.008, 0.009,\n",
       "       0.01 , 0.011, 0.012, 0.013, 0.014, 0.015])"
      ]
     },
     "execution_count": 16,
     "metadata": {},
     "output_type": "execute_result"
    }
   ],
   "source": [
    "pth_bin[1:16]"
   ]
  },
  {
   "cell_type": "code",
   "execution_count": 21,
   "metadata": {},
   "outputs": [
    {
     "data": {
      "image/png": "[encoded data removed]",
      "text/plain": [
       "<matplotlib.figure.Figure at 0x7fa2d7f17cd0>"
      ]
     },
     "metadata": {},
     "output_type": "display_data"
    }
   ],
   "source": [
    "fig, ax = plt.subplots()\n",
    "_ = ax.hist( dmass['EachProb_CMASS'], bins = np.linspace(0, 1, 201), \n",
    "            normed=True, alpha= 0.5, weights = dmass['WEIGHT_SYS'] )\n",
    "_ = ax.hist( dmass_st82['EachProb_CMASS'], bins = np.linspace(0, 1, 201), \n",
    "            normed=True, alpha= 0.5, weights = dmass_st82['EachProb_CMASS'] )\n",
    "_ = ax.hist( clean_cmass_data_des['EachProb_CMASS'], bins = np.linspace(0, 1, 201), normed=True, alpha= 0.5 )"
   ]
  },
  {
   "cell_type": "code",
   "execution_count": 23,
   "metadata": {},
   "outputs": [
    {
     "name": "stdout",
     "output_type": "stream",
     "text": [
      "0.0 13002.574050557929 120874.72753482158\n",
      "0.001 12943.332168479816 120273.71841185627\n",
      "0.002 12899.13855838352 119835.14115829843\n",
      "0.003 12859.278581022727 119444.92961391063\n",
      "0.004 12822.23997491804 119085.40429117231\n",
      "0.005 12787.72068438419 118747.4249401787\n",
      "0.006 12754.65479369002 118430.91253205613\n",
      "0.007 12723.270644199098 118132.02391346914\n",
      "0.008 12693.113656763411 117842.22952068856\n",
      "0.009000000000000001 12663.762457028732 117564.94898776911\n",
      "0.01 12637.112833275674 117292.90214602613\n",
      "0.011 12610.083287663789 117032.40860440915\n",
      "0.012 12584.401410643746 116783.25352268791\n",
      "0.013000000000000001 12558.620899137746 116537.49685142006\n",
      "0.014 12533.135557325542 116296.9072520335\n",
      "0.015 12508.253516628829 116061.14827466865\n"
     ]
    },
    {
     "data": {
      "image/png": "[encoded data removed]",
      "text/plain": [
       "<matplotlib.figure.Figure at 0x7fa2d5c4fc10>"
      ]
     },
     "metadata": {},
     "output_type": "display_data"
    }
   ],
   "source": [
    "cmass_numdensity = cmass.size * 1./rand_st82_2.size\n",
    "\n",
    "fig, ax = plt.subplots(figsize = (5,5))\n",
    "\n",
    "i=0\n",
    "for pc in pth_bin[:16] :\n",
    "    #print i,\n",
    "    \n",
    "    #dmass_spt_pc, _ = resampleWithPth( gold_spt_prob_ran, pstart = pc)\n",
    "    dc = dmass[dmass['EachProb_CMASS'] > pc] \n",
    "    ds82 = dmass_st82[dmass_st82['EachProb_CMASS'] > pc] \n",
    "    #weight = np.sum(dc['EachProb_CMASS'] )\n",
    "    weight = np.sum(dc['EachProb_CMASS'] )\n",
    "    weight82 = np.sum(ds82['EachProb_CMASS'] )\n",
    "    #print weight, weight82, rand2.size, rand_\n",
    "    numdensity = weight*1./rand2.size * 1./cmass_numdensity\n",
    "    numdensity_s82 = weight82*1./rand_st82_2.size * 1./cmass_numdensity\n",
    "    if pc == 0.01 : \n",
    "        ax.scatter(0.01, numdensity_s82, marker='*', color='red', s=150)\n",
    "        ax.scatter(0.01, numdensity, marker='*', color='red', s=150, label = 'current setting')\n",
    "    else :     \n",
    "        ax.plot(pc, numdensity, 'k.')\n",
    "        ax.plot(pc, numdensity_s82, '.', c='skyblue')\n",
    "    print pc, weight82, weight\n",
    "    \n",
    "    i+=1\n",
    "    \n",
    "ax.axhline(y = 1.0, ls = '--', color='grey')\n",
    "ax.scatter(pc, numdensity_s82, marker='o', color='skyblue', s=5, label = 'stripe82')\n",
    "ax.scatter(pc, numdensity, marker='o', color='black', s=5, label = 'spt')\n",
    "\n",
    "#ax.scatter(0.01, numdensity_s82, marker='*', color='red', s=150)\n",
    "#ax.scatter(0.01, numdensity, marker='*', color='red', s=150, label = 'current setting')\n",
    "ax.set_xlabel('probability cut')\n",
    "ax.set_ylabel(r'$\\rm n_{\\rm DMASS}$ / $\\rm n_{\\rm train}$', fontsize = 15)\n",
    "#ax.text(0.007, 0.925, 'bin size = 0.0001')\n",
    "ax.legend()\n",
    "fig.savefig(figoutdir + 'prob_test_num_density.png')    "
   ]
  },
  {
   "cell_type": "code",
   "execution_count": 12,
   "metadata": {},
   "outputs": [
    {
     "data": {
      "text/plain": [
       "array([0.   , 0.001, 0.002, 0.003, 0.004, 0.005, 0.006, 0.007, 0.008,\n",
       "       0.009, 0.01 , 0.011, 0.012, 0.013, 0.014, 0.015])"
      ]
     },
     "execution_count": 12,
     "metadata": {},
     "output_type": "execute_result"
    }
   ],
   "source": [
    "pth_bin[:16]"
   ]
  },
  {
   "cell_type": "code",
   "execution_count": 16,
   "metadata": {},
   "outputs": [],
   "source": [
    "pbinsmall, steps = np.linspace(0, 0.02, 21,retstep=1 )\n",
    "pbinbig, stepb = np.linspace(0.02, 1, 197, retstep=1 )\n",
    "pth_bin = np.hstack([pbinsmall, pbinbig[1:]])\n",
    "pcenters = pbinsmall[:-1] + steps/2.\n",
    "pcenterb = pbinbig[:-1] + stepb/2.\n",
    "pcenter = np.hstack([pcenters, pcenterb[1:]])"
   ]
  },
  {
   "cell_type": "code",
   "execution_count": 23,
   "metadata": {
    "scrolled": false
   },
   "outputs": [
    {
     "name": "stdout",
     "output_type": "stream",
     "text": [
      "saving data file to :  ../output/sfd_train_photo_SamPle_nozband_ran10_3_full_tol1e5//act//acf_auto_poisson_dmass_pcut0.000_nbins10_jk50.txt\n",
      "cut : 0.0 sample size :  6777228\n",
      "saving data file to :  ../output/sfd_train_photo_SamPle_nozband_ran10_3_full_tol1e5//act//acf_auto_poisson_dmass_pcut0.001_nbins10_jk50.txt\n",
      "cut : 0.001 sample size :  1534301\n",
      "saving data file to :  ../output/sfd_train_photo_SamPle_nozband_ran10_3_full_tol1e5//act//acf_auto_poisson_dmass_pcut0.002_nbins10_jk50.txt\n",
      "cut : 0.002 sample size :  1227405\n",
      "saving data file to :  ../output/sfd_train_photo_SamPle_nozband_ran10_3_full_tol1e5//act//acf_auto_poisson_dmass_pcut0.003_nbins10_jk50.txt\n",
      "cut : 0.003 sample size :  1068655\n",
      "saving data file to :  ../output/sfd_train_photo_SamPle_nozband_ran10_3_full_tol1e5//act//acf_auto_poisson_dmass_pcut0.004_nbins10_jk50.txt\n",
      "cut : 0.004 sample size :  965011\n",
      "saving data file to :  ../output/sfd_train_photo_SamPle_nozband_ran10_3_full_tol1e5//act//acf_auto_poisson_dmass_pcut0.005_nbins10_jk50.txt\n",
      "cut : 0.005 sample size :  889527\n",
      "saving data file to :  ../output/sfd_train_photo_SamPle_nozband_ran10_3_full_tol1e5//act//acf_auto_poisson_dmass_pcut0.006_nbins10_jk50.txt\n",
      "cut : 0.006 sample size :  831780\n",
      "saving data file to :  ../output/sfd_train_photo_SamPle_nozband_ran10_3_full_tol1e5//act//acf_auto_poisson_dmass_pcut0.007_nbins10_jk50.txt\n",
      "cut : 0.007 sample size :  785680\n",
      "saving data file to :  ../output/sfd_train_photo_SamPle_nozband_ran10_3_full_tol1e5//act//acf_auto_poisson_dmass_pcut0.008_nbins10_jk50.txt\n",
      "cut : 0.008 sample size :  746967\n",
      "saving data file to :  ../output/sfd_train_photo_SamPle_nozband_ran10_3_full_tol1e5//act//acf_auto_poisson_dmass_pcut0.009_nbins10_jk50.txt\n",
      "cut : 0.009000000000000001 sample size :  714287\n",
      "saving data file to :  ../output/sfd_train_photo_SamPle_nozband_ran10_3_full_tol1e5//act//acf_auto_poisson_dmass_pcut0.010_nbins10_jk50.txt\n",
      "cut : 0.01 sample size :  685616\n",
      "saving data file to :  ../output/sfd_train_photo_SamPle_nozband_ran10_3_full_tol1e5//act//acf_auto_poisson_dmass_pcut0.011_nbins10_jk50.txt\n",
      "cut : 0.011 sample size :  660783\n",
      "saving data file to :  ../output/sfd_train_photo_SamPle_nozband_ran10_3_full_tol1e5//act//acf_auto_poisson_dmass_pcut0.012_nbins10_jk50.txt\n",
      "cut : 0.012 sample size :  639095\n",
      "saving data file to :  ../output/sfd_train_photo_SamPle_nozband_ran10_3_full_tol1e5//act//acf_auto_poisson_dmass_pcut0.013_nbins10_jk50.txt\n",
      "cut : 0.013000000000000001 sample size :  619419\n",
      "saving data file to :  ../output/sfd_train_photo_SamPle_nozband_ran10_3_full_tol1e5//act//acf_auto_poisson_dmass_pcut0.015_nbins10_jk50.txt\n",
      "cut : 0.015 sample size :  585321\n",
      "saving data file to :  ../output/sfd_train_photo_SamPle_nozband_ran10_3_full_tol1e5//act//acf_auto_poisson_dmass_pcut0.016_nbins10_jk50.txt\n",
      "cut : 0.016 sample size :  570485\n",
      "saving data file to :  ../output/sfd_train_photo_SamPle_nozband_ran10_3_full_tol1e5//act//acf_auto_poisson_dmass_pcut0.017_nbins10_jk50.txt\n",
      "cut : 0.017 sample size :  556750\n",
      "saving data file to :  ../output/sfd_train_photo_SamPle_nozband_ran10_3_full_tol1e5//act//acf_auto_poisson_dmass_pcut0.018_nbins10_jk50.txt\n",
      "cut : 0.018000000000000002 sample size :  544122\n",
      "saving data file to :  ../output/sfd_train_photo_SamPle_nozband_ran10_3_full_tol1e5//act//acf_auto_poisson_dmass_pcut0.019_nbins10_jk50.txt\n",
      "cut : 0.019 sample size :  532431\n",
      "saving data file to :  ../output/sfd_train_photo_SamPle_nozband_ran10_3_full_tol1e5//act//acf_auto_poisson_dmass_pcut0.020_nbins10_jk50.txt\n",
      "cut : 0.02 sample size :  521524\n"
     ]
    }
   ],
   "source": [
    "#tree corr\n",
    "from systematics_module.corr import angular_correlation\n",
    "basedir = rootdir+'/act/'\n",
    "os.system('mkdir '+basedir)\n",
    "\n",
    "dmass['WEIGHT'] = dmass['CMASS_PROB'] * dmass['VETO']\n",
    "for pc in pth_bin[0:21] :\n",
    "    #dc = dmass[dmass['WEIGHT'] > pc] \n",
    "    #randind = np.random.choice( range(dc.size), size = dc.size/10)\n",
    "    \n",
    "    \n",
    "    pcut = dmass['EachProb_CMASS'] > pc\n",
    "    angular_correlation_poisson(data = dmass[pcut], rand = random, nbins=10, \n",
    "                    weight_data = True, weight_rand = None,\n",
    "                    suffix = '_dmass_pcut{:0.3f}_nbins10_jk50'.format(pc), dir = rootdir+'/act/')\n",
    "    print 'cut :', pc,  'sample size : ', dmass[pcut].size\n",
    "    #angular_correlation(data = dmass[pcut], rand = random, nbins=10, njack = 100, weight=[True, False],\n",
    "    #                    suffix = '_dmass_pcut{:0.3f}_nbins10_jk100'.format(pc), dir = basedir)"
   ]
  },
  {
   "cell_type": "code",
   "execution_count": 40,
   "metadata": {},
   "outputs": [
    {
     "data": {
      "text/plain": [
       "(16, 16)"
      ]
     },
     "execution_count": 40,
     "metadata": {},
     "output_type": "execute_result"
    }
   ],
   "source": [
    "len(pth_bin[:16]), len(filenames)"
   ]
  },
  {
   "cell_type": "code",
   "execution_count": 61,
   "metadata": {},
   "outputs": [
    {
     "name": "stdout",
     "output_type": "stream",
     "text": [
      "err db, db / br1, brmin, br2 : 0.028844271515027886 0.038431122021409525 1.005048269689014 1.019592032914497 1.0338925412040418\n",
      "err db, db / br1, brmin, br2 : 0.02889359647580836 0.03236377416345371 1.0018985777772271 1.0164480475295652 1.0307921742530355\n",
      "err db, db / br1, brmin, br2 : 0.024157447446197855 0.023619703889090626 0.9998199477833982 1.0119509913833735 1.023977395229596\n",
      "err db, db / br1, brmin, br2 : 0.024315620434039453 0.023619703889090626 0.9997399141672777 1.0119509913833735 1.0240555346013172\n",
      "err db, db / br1, brmin, br2 : 0.028039333787853726 0.017569308515205773 0.9947652545109908 1.0088625083291294 1.0228045882988446\n",
      "err db, db / br1, brmin, br2 : 0.02768940781208118 0.017101588633391174 0.9946848141878487 1.008624540992801 1.0223742219999299\n",
      "err db, db / br1, brmin, br2 : 0.027486157025174873 0.017413438664629632 0.9949663268665526 1.0087831921209538 1.0224524838917275\n",
      "err db, db / br1, brmin, br2 : 0.02793257600779353 0.002595459042053383 0.9872157408509028 1.0012994158112851 1.0151483168586963\n",
      "err db, db / br1, brmin, br2 : 0.02412213195980295 0.01350470382375546 0.9946848141878487 1.0067982561296522 1.0188069461476517\n",
      "err db, db / br1, brmin, br2 : 0.02711116572854666 0.012955634019061746 0.9928731839625272 1.00652005271793 1.0199843496910739\n",
      "err db, db / br1, brmin, br2 : 0.02471959643181365 0.010203439233209766 0.9927119901658708 1.005127880625785 1.0174315865976844\n",
      "err db, db / br1, brmin, br2 : 0.025692714231080105 0.015070970168494124 0.9946445915867208 1.007592699760038 1.020337305817801\n",
      "err db, db / br1, brmin, br2 : 0.027626671250988055 0.0072815051388475105 0.9897655920395683 1.0036540560834986 1.0173922632905563\n",
      "err db, db / br1, brmin, br2 : 0.025297018330581178 0.008625612832899865 0.9916232466681418 1.004331487282595 1.016920264998723\n",
      "err db, db / br1, brmin, br2 : 0.02661939745145392 -0.000840697816285374 0.986161499400874 0.9995798277108203 1.012780896852328\n",
      "err db, db / br1, brmin, br2 : 0.02555391063186163 0.000999450364746357 0.9876614273216322 1.0004999750324874 1.0132153379534938\n",
      "pic save to  ../output/sfd_train_photo_SamPle_nozband_ran10_3_full_tol1e5//figure/sys_bias_pcut.png\n"
     ]
    },
    {
     "data": {
      "image/png": "[encoded data removed]",
      "text/plain": [
       "<matplotlib.figure.Figure at 0x7f6ff03fdd10>"
      ]
     },
     "metadata": {},
     "output_type": "display_data"
    }
   ],
   "source": [
    "import scipy\n",
    "\n",
    "theta_th, theory = np.loadtxt('../data_txt/acf_cmass_ngc_theory.txt', unpack=True)\n",
    "theta_th, theory_sgc = np.loadtxt('../data_txt/acf_cmass_sgc_theory.txt', unpack=True)\n",
    "theory_sgc_interp = scipy.interpolate.interp1d(theta_th, theory_sgc)\n",
    "#theory_sgc_interp = theory_sgc_interp(meanr)\n",
    "\n",
    "fig, ax = plt.subplots(figsize = (3,7))\n",
    "brelsqr = np.linspace(0.8, 1.2, 5000) \n",
    "b_n = 2.0\n",
    "brelarr = np.sqrt(brelsqr)\n",
    "dbarray = b_n*(1-brelarr)\n",
    "\n",
    "labels_SP = ['{:0.3f}'.format(pc) for pc in pth_bin[:16]]\n",
    "\n",
    "filenames = [ basedir+'acf_auto_poisson_dmass_pcut{:0.3f}_nbins10_jk50.txt'.format(pc) for pc in pth_bin[:16]]\n",
    "#covnames = [ basedir+'acf_auto_dmass_pcut{:0.5f}_nbins10_jk50.cov'.format(pc) for pc in pth_bin[::5][:23]]\n",
    "covnames = [ basedir +'acf_auto_dmass_pcut{:0.3f}_nbins10_jk100.cov'.format(pc) for pc in pth_bin[:16]]\n",
    "\n",
    "for j in range(1, len(pth_bin[:16])+1):\n",
    "    meanrw, xiw, xi_errw = np.loadtxt( filenames[j-1], unpack=True)\n",
    "    cov_dmass_w = np.loadtxt( covnames[j-1], unpack=True)\n",
    "    #meanrw, xiw, xi_errw = np.loadtxt(basedir+'acf_auto_dmass_weight'+str(j)+'_nbins10_jk100.txt', unpack=True)\n",
    "    #cov_dmass_w = np.loadtxt(basedir+'acf_auto_dmass_weight'+str(j)+'_nbins10_jk100.cov', unpack=True)\n",
    "    HFd = 1.0 #HF(100, 10)\n",
    "    F_d = HFd * np.linalg.inv(cov_dmass_w)\n",
    "    err_brelw, brelw, chisqr_resultw = brel_chisqr_fitting(xiw, theory_sgc_interp(meanrw), F_d, verbose=True)\n",
    "    if pth_bin[:16][j-1] == 0.01 : \n",
    "        color = 'r'\n",
    "        ax.axvspan(2.- err_brelw*2., 2.+err_brelw*2.,  alpha=0.1, color='grey')\n",
    "        ax.axvline(x=2, color = 'grey', ls='--')\n",
    "    else : color = 'k'  \n",
    "   \n",
    "    ax.errorbar(2*brelw, len(labels_SP)-j, xerr =err_brelw*2., fmt='-o', color=color)\n",
    "    \n",
    "ax.set_xlabel(r'$b_{\\rm fid}$', fontsize = 20)\n",
    "#ax.set_ylabel(r'$\\chi^2$')\n",
    "ax.legend(loc=1)\n",
    "ax.set_xlim(1.9, 2.1)\n",
    "#ax.set_yticks([1,2,3,4,5,6,7,8,9,10,11,12])\n",
    "ax.set_yticks(np.arange(len(labels_SP)+1))\n",
    "ax.set_ylabel('probabiliy cut', fontsize = 20)\n",
    "labels = labels_SP[::-1] + ['']\n",
    "ax.set_yticklabels( labels, fontsize = 15) \n",
    "fig.savefig(figoutdir + 'sys_bias_pcut.pdf')\n",
    "print 'pic save to ', figoutdir + 'sys_bias_pcut.png'\n",
    "\n",
    "\n",
    "\n",
    "\n"
   ]
  },
  {
   "cell_type": "code",
   "execution_count": null,
   "metadata": {},
   "outputs": [],
   "source": [
    "fig, ax = plt.subplots()\n",
    "_ = ax.hist( dmass_spt_pc['EachProb_CMASS'], bins = pth_bin[:101])\n",
    "ax.set_xlabel('Probability')\n",
    "ax.set_ylabel('N galaxy')\n",
    "ax.text(0.005, 175, 'bin size = 0.0001', fontsize = 12)"
   ]
  },
  {
   "cell_type": "code",
   "execution_count": null,
   "metadata": {},
   "outputs": [],
   "source": [
    "fig, ax = plt.subplots()\n",
    "_ = ax.hist( dmass_spt_pc['EachProb_CMASS'], bins = pth_bin)"
   ]
  },
  {
   "cell_type": "code",
   "execution_count": null,
   "metadata": {},
   "outputs": [],
   "source": [
    "from systematics_module.contCorrection import doVisualization_ngal\n",
    "from run_systematics import sys_iteration, fitting_SP, sys_ngal, weightmultiply, fitting_allSP, calling_sysMap, maskingCatalogSP"
   ]
  },
  {
   "cell_type": "code",
   "execution_count": null,
   "metadata": {},
   "outputs": [],
   "source": [
    "properties = ['GE', 'NSTARS_allband']\n",
    "sysMap = calling_sysMap( properties=properties, kind='SPT', nside=4096 )"
   ]
  },
  {
   "cell_type": "code",
   "execution_count": null,
   "metadata": {},
   "outputs": [],
   "source": [
    "sysoutdir = rootdir+'/sys/'"
   ]
  },
  {
   "cell_type": "code",
   "execution_count": null,
   "metadata": {
    "scrolled": false
   },
   "outputs": [],
   "source": [
    "for pc in pth_bin[::5][:23]:\n",
    "#pc = 0\n",
    "    suffix = 'pcut_{:0.4f}'.format(pc)\n",
    "\n",
    "    for p in ['GE', 'NSTARS_allband'] : \n",
    "        \n",
    "        dc = dmass_spt_pc[dmass_spt_pc['EachProb_CMASS'] > pc ]\n",
    "        print pc, dc.size\n",
    "        sys_ngal(cat1 = dc, cat2=rand, rand1 = rand2, rand2 = rand2, sysmap = sysMap, \n",
    "             FullArea = SPTMaparea, properties = properties, kind='SPT', nbins =15, \n",
    "             reweight= None, nside = 4096,\n",
    "             suffix=suffix, outdir=sysoutdir)\n",
    "\n",
    "        doVisualization_ngal(property = p, nside = 4096, kind = 'SPT', suffix=suffix, \\\n",
    "                             inputdir=sysoutdir, outdir=figoutdir)"
   ]
  },
  {
   "cell_type": "code",
   "execution_count": null,
   "metadata": {},
   "outputs": [],
   "source": []
  }
 ],
 "metadata": {
  "kernelspec": {
   "display_name": "Python 2",
   "language": "python",
   "name": "python2"
  },
  "language_info": {
   "codemirror_mode": {
    "name": "ipython",
    "version": 2
   },
   "file_extension": ".py",
   "mimetype": "text/x-python",
   "name": "python",
   "nbconvert_exporter": "python",
   "pygments_lexer": "ipython2",
   "version": "2.7.14"
  }
 },
 "nbformat": 4,
 "nbformat_minor": 2
}
