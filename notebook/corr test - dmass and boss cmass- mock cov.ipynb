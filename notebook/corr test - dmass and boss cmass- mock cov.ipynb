{
 "cells": [
  {
   "cell_type": "markdown",
   "metadata": {},
   "source": []
  },
  {
   "cell_type": "code",
   "execution_count": 1,
   "metadata": {},
   "outputs": [],
   "source": [
    "import sys, scipy\n",
    "sys.path.append('./../')\n",
    "from xd import *\n",
    "from utils import *\n",
    "import esutil\n",
    "import healpy as hp\n",
    "from systematics import *\n",
    "%matplotlib inline\n",
    "\n",
    "%load_ext autoreload\n",
    "%autoreload 2"
   ]
  },
  {
   "cell_type": "code",
   "execution_count": 30,
   "metadata": {},
   "outputs": [],
   "source": [
    "zbin, Ns = np.genfromtxt('/n/des/lee.5922/programs/cosmolike/cosmosis/dmass_cat/cmass_sgc.nz_2', unpack=True)\n",
    "zbin, Nn = np.genfromtxt('/n/des/lee.5922/programs/cosmolike/cosmosis/dmass_cat/cmass_ngc.nz_2', unpack=True)\n",
    "step = zbin[2]-zbin[1]\n",
    "zcenter = zbin[:-1] + step/2."
   ]
  },
  {
   "cell_type": "code",
   "execution_count": 31,
   "metadata": {},
   "outputs": [
    {
     "name": "stdout",
     "output_type": "stream",
     "text": [
      "0.9535466308866252\n",
      "3.5659365790607374 3.739656209308887\n",
      "1.0000126880382751\n"
     ]
    }
   ],
   "source": [
    "int_nzs = scipy.integrate.simps(Ns**2, dx=step)\n",
    "int_nzn = scipy.integrate.simps(Nn**2, dx=step)\n",
    "nzs_ratio = int_nzs/int_nzn\n",
    "print nzs_ratio\n",
    "print int_nzs, int_nzn\n",
    "\n",
    "int_nzs1 = scipy.integrate.simps(Ns, dx=step)\n",
    "int_nzn1 = scipy.integrate.simps(Nn, dx=step)\n",
    "nzs_ratio1 = int_nzs1/int_nzn1\n",
    "print nzs_ratio1\n"
   ]
  },
  {
   "cell_type": "code",
   "execution_count": 35,
   "metadata": {},
   "outputs": [
    {
     "data": {
      "text/plain": [
       "(0, 1)"
      ]
     },
     "execution_count": 35,
     "metadata": {},
     "output_type": "execute_result"
    },
    {
     "data": {
      "image/png": "[encoded data removed]",
      "text/plain": [
       "<matplotlib.figure.Figure at 0x7fbe38f9a6d0>"
      ]
     },
     "metadata": {
      "needs_background": "light"
     },
     "output_type": "display_data"
    }
   ],
   "source": [
    "fig, ax = plt.subplots()\n",
    "ax.plot(zbin, Ns)\n",
    "ax.plot(zbin, Nn)\n",
    "ax.set_xlim(0,1)"
   ]
  },
  {
   "cell_type": "code",
   "execution_count": 44,
   "metadata": {},
   "outputs": [],
   "source": [
    "rootdir = '../output/sfd_train_photo_SamPle_nozband_ran10_3_full_tol1e5/'"
   ]
  },
  {
   "cell_type": "code",
   "execution_count": 45,
   "metadata": {},
   "outputs": [
    {
     "name": "stdout",
     "output_type": "stream",
     "text": [
      "(10, 10)\n"
     ]
    }
   ],
   "source": [
    "cov_mocks = np.genfromtxt('../data_txt/mocks/cov_mock_galaxy_DR12_CMASS_S_QPM_760.cov')\n",
    "cov_mocks_ngc = np.genfromtxt('../data_txt/mocks/cov_mock_galaxy_DR12_CMASS_N_QPM_1000.cov')\n",
    "cov_rescaled_mocks = np.genfromtxt('../data_txt/cmass/cov_rescaled_mocks_NG.txt')\n",
    "print cov_rescaled_mocks.shape"
   ]
  },
  {
   "cell_type": "code",
   "execution_count": 46,
   "metadata": {},
   "outputs": [],
   "source": [
    "#meanr_sgc, xi_sgc, _ = np.loadtxt('../data_txt//acf_auto_cmass_sgc_sys_cp_nz_weight_nbins10_jk100.txt',unpack=True)\n",
    "cmass_sgc_data = np.genfromtxt('../data_txt/cmass/npairs_cmass_sgc_bins10_binslop_05.txt')\n",
    "_, meanr_sgc, _, xi_sgc, _, DD_sgc, RR_sgc, DR_sgc, npairs_sgc = [cmass_sgc_data[:,i] for i in range(9)]\n",
    "\n",
    "#cov_cmass_s_1 = np.genfromtxt('../data_txt//acf_auto_cmass_sgc_sys_cp_nz_weight_nbins10_jk100.cov')\n",
    "#fisher_cmass_s = HFactor * np.linalg.inv(cov_cmass_s_1)\n",
    "#cov_cmass_s = np.linalg.inv(fisher_cmass_s)\n",
    "cov_cmass_s = cov_mocks.copy() #cov_an_cmass.copy()\n",
    "xi_err_sgc = np.sqrt(cov_cmass_s.diagonal())\n",
    "\n",
    "\n",
    "cmass_ngc_data1 = np.genfromtxt('../data_txt/cmass/npairs_cmass_ngc_bins10_binslop_05.txt')\n",
    "_, meanr_ngc, _, xi_ngc, sigma_xi_ngc1, DD_ngc, RR_ngc, DR_ngc, npairs_ngc = [cmass_ngc_data1[:,i] for i in range(9)]\n",
    "#meanr_ngc, xi_ngc, _ = np.loadtxt('../data_txt//acf_auto_cmass_ngc_sys_cp_nz_weight_nbin10_jk100.txt',unpack=True)\n",
    "cov_cmass_n = cov_mocks_ngc.copy() #np.genfromtxt('../data_txt//acf_auto_cmass_ngc_sys_cp_nz_weight_nbin10_jk100.cov')* 1./HFactor\n",
    "xi_err_ngc = np.sqrt(cov_cmass_n.diagonal())\n",
    "\n",
    "\n",
    "#meanr_full, xi_full, _ = np.loadtxt('../data_txt//acf_auto_cmass_full_sys_cp_nz_weight_nbins10_jk100.txt',unpack=True)\n",
    "#cov_cmass_full = np.genfromtxt('../data_txt//acf_auto_cmass_full_sys_cp_nz_weight_nbins10_jk100.cov')*1./HFactor\n",
    "\n",
    "DD_full = DD_sgc + DD_ngc\n",
    "DR_full = DR_sgc + DR_ngc\n",
    "RR_full = RR_sgc + RR_ngc\n",
    "\n",
    "meanr_full = meanr_ngc.copy()\n",
    "xi_full = (DD_full - 2*DR_full + RR_full)*1./RR_full\n",
    "cov_cmass_full = np.linalg.inv(np.linalg.inv( cov_cmass_s ) + np.linalg.inv( cov_cmass_s ))\n",
    "xi_err_full = np.sqrt(cov_cmass_full.diagonal())\n",
    "\n",
    "#meanr_dmass, xi_dmass, _ = np.genfromtxt(rootdir+'/act//acf_auto_dmass_all_weight_pcut01_nbins10_jk100.txt', unpack=True) \n",
    "#cov_dmass = np.genfromtxt(rootdir+'/act//acf_auto_dmass_all_weight_pcut01_nbins10_jk100.cov')* 1./HFactor\n",
    "\n",
    "dmass_data = np.genfromtxt('../data_txt/cmass/npairs_dmass_pcut_sysweight_bins10_binslop_05.txt')\n",
    "_, meanr_dmass, _, xi_dmass, _, _, _, _, _ = [dmass_data[:,i] for i in range(9)]\n",
    "cov_dmass = cov_rescaled_mocks.copy() #cov_an_dmass.copy()\n",
    "xi_err_dmass = np.sqrt(cov_dmass.diagonal())"
   ]
  },
  {
   "cell_type": "code",
   "execution_count": 47,
   "metadata": {},
   "outputs": [
    {
     "name": "stdout",
     "output_type": "stream",
     "text": [
      "chisqr/dof between SGC and DMASS 2.579001510259711 /10\n",
      "chisqr/dof between NGC and DMASS 10.95656684269568 /10\n",
      "chisqr/dof between NGC and SGC 10.607006619495527 /10\n"
     ]
    }
   ],
   "source": [
    "#cov_dmass = np.genfromtxt(rootdir+'/act//acf_auto_dmass_all_weight_pcut01_nbins10_jk100.cov')* 1./HFactor\n",
    "#meanr_dmass, xi_dmass, _ = np.genfromtxt(rootdir+'/act//acf_auto_dmass_all_weight_pcut01_nbins10_jk100.txt', unpack=True) \n",
    "cov = cov_cmass_s + cov_dmass\n",
    "invcov = np.linalg.inv(cov)\n",
    "datav = xi_dmass - xi_sgc\n",
    "chisqr = np.dot(np.dot(datav, invcov), datav.T) \n",
    "print 'chisqr/dof between SGC and DMASS', chisqr, '/10'\n",
    "\n",
    "\n",
    "cov = cov_cmass_n + cov_dmass\n",
    "invcov = np.linalg.inv(cov)\n",
    "datav = xi_dmass - xi_ngc\n",
    "chisqr_dn = np.dot(np.dot(datav, invcov), datav.T) \n",
    "print 'chisqr/dof between NGC and DMASS', chisqr_dn, '/10'\n",
    "\n",
    "\n",
    "cov = cov_cmass_n + cov_cmass_n\n",
    "invcov = np.linalg.inv(cov)\n",
    "datav = xi_sgc - xi_ngc\n",
    "chisqr_sn = np.dot(np.dot(datav, invcov), datav.T) \n",
    "print 'chisqr/dof between NGC and SGC', chisqr_sn, '/10'"
   ]
  },
  {
   "cell_type": "code",
   "execution_count": 48,
   "metadata": {},
   "outputs": [],
   "source": [
    "F_ns = np.linalg.inv(cov_cmass_n + cov_cmass_s)\n",
    "F_nd = np.linalg.inv(cov_cmass_n + cov_dmass)\n",
    "F_sd = np.linalg.inv(cov_cmass_s + cov_dmass)"
   ]
  },
  {
   "cell_type": "code",
   "execution_count": 43,
   "metadata": {},
   "outputs": [
    {
     "name": "stdout",
     "output_type": "stream",
     "text": [
      "0.888888888889\n"
     ]
    },
    {
     "data": {
      "text/plain": [
       "''"
      ]
     },
     "execution_count": 43,
     "metadata": {},
     "output_type": "execute_result"
    }
   ],
   "source": [
    "\"\"\"\"\"\"\n",
    "DAT = np.loadtxt(rootdir+'/act//acf_auto_dmass_all_weight_pcut01_nbins10_jk100.txt')\n",
    "meanr, xi, xi_err = [DAT[:,i] for i in range(3)]\n",
    "\n",
    "DAT7 = np.loadtxt('../data_txt//acf_auto_cmass_sgc_sys_cp_nz_weight_nbins10_jk100.txt')\n",
    "meanr7, xi7, xi_err7 = [DAT7[:,i] for i in range(3)]\n",
    "\n",
    "DAT11 = np.loadtxt('../data_txt//acf_auto_cmass_ngc_sys_cp_nz_weight_nbin10_jk100.txt')\n",
    "meanr11, xi11, xi_err11 = [DAT11[:,i] for i in range(3)]\n",
    "\n",
    "\n",
    "\n",
    "cov_cmass_n = np.genfromtxt(rootdir+'/act//acf_auto_dmass_all_weight_pcut01_nbins10_jk100.cov')\n",
    "cov_cmass_s = np.genfromtxt('../data_txt//acf_auto_cmass_sgc_sys_cp_nz_weight_nbins10_jk100.cov')\n",
    "cov_dmass = np.genfromtxt('../data_txt/acf_auto_dmass_spt_nbins10_jk100.cov')\n",
    "\n",
    "HF = lambda Nr,Nbin: (Nr-Nbin-2) *1./(Nr-1)\n",
    "HFn = HF(100, 10)\n",
    "HFs = HF(100, 10)\n",
    "HFd = HF(100, 10)\n",
    "\n",
    "print HFn\n",
    "\n",
    "F_ns = HFn * HFs * np.linalg.inv(cov_cmass_n + cov_cmass_s)\n",
    "F_nd = HFn * HFd * np.linalg.inv(cov_cmass_n + cov_dmass)\n",
    "F_sd = HFs * HFd * np.linalg.inv(cov_cmass_s + cov_dmass)\n",
    "\"\"\"\"\"\""
   ]
  },
  {
   "cell_type": "markdown",
   "metadata": {},
   "source": [
    "### 10 bins "
   ]
  },
  {
   "cell_type": "markdown",
   "metadata": {},
   "source": [
    "Equations for brel test"
   ]
  },
  {
   "cell_type": "code",
   "execution_count": 49,
   "metadata": {},
   "outputs": [],
   "source": [
    "def brelchisqr(xi, xi2, invcov, brelsqr):\n",
    "    DiffVector = xi2 - brelsqr*xi\n",
    "    chi2 = np.dot( np.dot( DiffVector , invcov), DiffVector )\n",
    "    return chi2\n",
    "\n",
    "def find_nearest(array, value, brell):\n",
    "    \n",
    "    ind_min = array.argmin()\n",
    "    array1 = np.asarray(array[:ind_min])\n",
    "    idx1 = (np.abs(array1 - value)).argmin()\n",
    "    \n",
    "    array2 = np.asarray(array[ind_min:])\n",
    "    idx2 = (np.abs(array2 - value)).argmin()\n",
    "    \n",
    "    return brell[:ind_min][idx1], brell[ind_min], brell[ind_min:][idx2]\n",
    "\n",
    "\n",
    "def brel_chisqr_fitting(xi1, xi2, Fisher, verbose=False):\n",
    "    \n",
    "    brelsqr = np.linspace(0.8, 1.2, 5000)   \n",
    "    brelarr = np.sqrt(brelsqr) \n",
    "    chisqr_result = np.zeros(brelsqr.size)\n",
    "    \n",
    "    i=0\n",
    "    for b in brelsqr:\n",
    "        chisqr_result[i] = brelchisqr(xi1, xi2, Fisher, b)\n",
    "        i+=1   \n",
    "        \n",
    "    minarg = chisqr_result.argmin()\n",
    "    chisqr_min = chisqr_result.min()\n",
    "    brel = np.sqrt(brelsqr[minarg])\n",
    "    \n",
    "    b_cmass = 2.0\n",
    "    db = b_cmass * (1. - 1./brel)\n",
    "    \n",
    "       \n",
    "    b_cmass = 2.0\n",
    "\n",
    "    br1, brmin, br2 = find_nearest( chisqr_result, chisqr_min + 1,brelarr )\n",
    "    err_brel = np.abs(br1-br2)/2.\n",
    "    err_db = err_brel *b_cmass\n",
    "    if verbose : print 'err db, db / br1, brmin, br2 :', err_db, db, br1, brmin, br2  \n",
    "    #return err_db, db, chisqr_result\n",
    "    return err_brel, brmin, chisqr_result\n",
    "    "
   ]
  },
  {
   "cell_type": "code",
   "execution_count": 50,
   "metadata": {},
   "outputs": [],
   "source": [
    "theta_th, w_theory = np.loadtxt('../data_txt/acf_cmass_ngc_theory.txt', unpack=True)\n",
    "theta_th, w_theory_sgc = np.loadtxt('../data_txt/acf_cmass_sgc_theory.txt', unpack=True)\n",
    "#theta_th, w_theory = np.loadtxt('../data_txt/acf_cmass_theory.txt', unpack=True)"
   ]
  },
  {
   "cell_type": "code",
   "execution_count": 51,
   "metadata": {},
   "outputs": [],
   "source": [
    "from scipy.interpolate import interp1d\n",
    "\n",
    "w_theory_ngc = interp1d(theta_th, w_theory, kind='cubic')\n",
    "w_theory_ngc = w_theory_ngc(meanr_full)\n",
    "\n",
    "w_theory_sgc = interp1d(theta_th, w_theory_sgc, kind='cubic')\n",
    "w_theory_sgc = w_theory_sgc(meanr_full)"
   ]
  },
  {
   "cell_type": "code",
   "execution_count": 52,
   "metadata": {},
   "outputs": [],
   "source": [
    "mock_n = np.random.multivariate_normal( w_theory_ngc, cov_cmass_n, size=1000 )\n",
    "mock_s = np.random.multivariate_normal( w_theory_sgc, cov_cmass_s, size=1000 )\n",
    "mock_d = np.random.multivariate_normal( w_theory_sgc, cov_dmass, size=1000 )"
   ]
  },
  {
   "cell_type": "code",
   "execution_count": 53,
   "metadata": {},
   "outputs": [
    {
     "data": {
      "text/plain": [
       "<Container object of 3 artists>"
      ]
     },
     "execution_count": 53,
     "metadata": {},
     "output_type": "execute_result"
    },
    {
     "data": {
      "image/png": "[encoded data removed]",
      "text/plain": [
       "<matplotlib.figure.Figure at 0x7fbe39c49410>"
      ]
     },
     "metadata": {
      "needs_background": "light"
     },
     "output_type": "display_data"
    }
   ],
   "source": [
    "fig, ax = plt.subplots(figsize=(10,7))\n",
    "for i in range(100): \n",
    "    ax.semilogx(meanr_full, mock_d[i], color='grey', alpha = 0.05)\n",
    "ax.errorbar(meanr_full*0.99, w_theory_ngc, yerr=np.sqrt(cov_cmass_n.diagonal()), fmt='.')\n",
    "ax.errorbar(meanr_full, w_theory_sgc, yerr=np.sqrt(cov_cmass_s.diagonal()), fmt='.-')\n",
    "ax.errorbar(meanr_full*1.01, w_theory_sgc, yerr=np.sqrt(cov_dmass.diagonal()), fmt='.')"
   ]
  },
  {
   "cell_type": "code",
   "execution_count": 54,
   "metadata": {},
   "outputs": [
    {
     "name": "stdout",
     "output_type": "stream",
     "text": [
      "999 \r"
     ]
    }
   ],
   "source": [
    "brel_ns_hist = np.zeros(1000)\n",
    "chisqr_array_ns = np.zeros((1000, 5000))\n",
    "brel_sd_hist = np.zeros(1000)\n",
    "chisqr_array_sd = np.zeros((1000, 5000))\n",
    "\n",
    "brel_nd_hist = np.zeros(1000)\n",
    "chisqr_array_nd = np.zeros((1000, 5000))\n",
    "\n",
    "#brel_ns_nzs_ratio = np.zeros(5000)\n",
    "#chisqr_array_ns_nzs_ratio = np.zeros((5000, 5000))\n",
    "\n",
    "for i in range(1000):\n",
    "    _, brel_ns_hist[i], chisqr_array_ns[i] = brel_chisqr_fitting(mock_s[i], mock_n[i], F_ns)\n",
    "    _, brel_nd_hist[i], chisqr_array_nd[i] = brel_chisqr_fitting(mock_d[i], mock_n[i], F_nd)\n",
    "    _, brel_sd_hist[i], chisqr_array_sd[i] = brel_chisqr_fitting(mock_d[i], mock_s[i], F_sd)\n",
    "    #_, brel_ns[i], chisqr_array_ns[i] = brel_chisqr_fitting(mock_s[i], w_theory, F_ns)\n",
    "    #_, brel_nd[i], chisqr_array_nd[i] = brel_chisqr_fitting(mock_d[i], w_theory, F_nd)\n",
    "    #_, brel_sd[i], chisqr_array_sd[i] = brel_chisqr_fitting(mock_d[i], mock_s[i], F_sd)    \n",
    "    #_, brel_ns_nzs_ratio[i], chisqr_array_ns_nzs_ratio[i] = brel_chisqr_fitting(mock_s[i], nzs_ratio*mock_n[i], F_sd)\n",
    "    print i, '\\r',\n",
    "    #brel_n.append(brel_ns)\n",
    "    #c3hisqr_array_n.append(chisqr_result_ns)\n",
    "#err_db_nd, db_nd, chisqr_result_nd = brel_chisqr_fitting(xi,  xi11, F_nd)\n",
    "#err_db_sd, db_sd, chisqr_result_sd = brel_chisqr_fitting(xi,  xi7, F_sd)\n",
    "#err_db_ns_nzs_ratio, db_ns_nzs_ratio, chisqr_result_ns_nzs_ratio = brel_chisqr_fitting(xi7,  xi11*nzs_ratio, F_ns)"
   ]
  },
  {
   "cell_type": "code",
   "execution_count": 55,
   "metadata": {},
   "outputs": [
    {
     "name": "stdout",
     "output_type": "stream",
     "text": [
      "0.9837365533591043 0.9866998958178302 1.0057395210306586\n"
     ]
    }
   ],
   "source": [
    "bshift_ns= 1./np.mean(brel_ns_hist)\n",
    "bshift_nd= 1./np.mean(brel_nd_hist)\n",
    "bshift_sd= 1./np.mean(brel_sd_hist)\n",
    "print bshift_ns, bshift_nd, bshift_sd"
   ]
  },
  {
   "cell_type": "code",
   "execution_count": 63,
   "metadata": {},
   "outputs": [
    {
     "data": {
      "text/plain": [
       "<matplotlib.text.Text at 0x7fbe40ac87d0>"
      ]
     },
     "execution_count": 63,
     "metadata": {},
     "output_type": "execute_result"
    },
    {
     "data": {
      "image/png": "[encoded data removed]",
      "text/plain": [
       "<matplotlib.figure.Figure at 0x7fbe3e38cb10>"
      ]
     },
     "metadata": {
      "needs_background": "light"
     },
     "output_type": "display_data"
    },
    {
     "data": {
      "image/png": "[encoded data removed]",
      "text/plain": [
       "<matplotlib.figure.Figure at 0x7fbe3e2fed50>"
      ]
     },
     "metadata": {
      "needs_background": "light"
     },
     "output_type": "display_data"
    },
    {
     "data": {
      "image/png": "[encoded data removed]",
      "text/plain": [
       "<matplotlib.figure.Figure at 0x7fbe40ab27d0>"
      ]
     },
     "metadata": {
      "needs_background": "light"
     },
     "output_type": "display_data"
    }
   ],
   "source": [
    "bins, bs = np.linspace(0.8, 1.2, 100, retstep=True)\n",
    "bincent = bins[:-1] + bs/2.\n",
    "\n",
    "fig, ax = plt.subplots()\n",
    "N,_,_ = ax.hist(brel_ns_hist, bins = bins)\n",
    "meanv = np.sum(bincent * N)/np.sum(N)\n",
    "\n",
    "meanv = np.mean(brel_ns_hist)\n",
    "ax.axvline(x = 1.0, color='k')\n",
    "ax.axvline(x=meanv, color='r')\n",
    "ax.set_xlim(0.9, 1.1)\n",
    "ax.set_xlabel('$b_{rel} = b_{NGC} /b_x$')\n",
    "\n",
    "fig, ax = plt.subplots()\n",
    "N,_,_ = ax.hist(brel_nd_hist, bins = bins)\n",
    "meanv = np.sum(bincent * N)/np.sum(N)\n",
    "\n",
    "meanv = np.mean(brel_nd_hist)\n",
    "ax.axvline(x = 1.0, color='k')\n",
    "ax.axvline(x=meanv, color='r')\n",
    "ax.set_xlim(0.9, 1.1)\n",
    "ax.set_xlabel('$b_{rel} = b_{NGC} /b_x$')\n",
    "\n",
    "fig, ax = plt.subplots()\n",
    "N,_,_ = ax.hist(brel_sd_hist, bins = bins)\n",
    "meanv = np.sum(bincent * N)/np.sum(N)\n",
    "\n",
    "meanv = np.mean(brel_sd_hist)\n",
    "ax.axvline(x = 1.0, color='k')\n",
    "ax.axvline(x=meanv, color='r')\n",
    "ax.set_xlim(0.9, 1.1)\n",
    "ax.set_xlabel('$b_{rel} = b_{NGC} /b_x$')\n"
   ]
  },
  {
   "cell_type": "code",
   "execution_count": 72,
   "metadata": {},
   "outputs": [
    {
     "name": "stdout",
     "output_type": "stream",
     "text": [
      "err db, db / br1, brmin, br2 : 0.03473365212725121 0.09006805181396738 1.0296659858461295 1.047157728263308 1.0643996379733807\n",
      "err db, db / br1, brmin, br2 : 0.04276113337391818 0.09692973142104644 1.0293162285613084 1.0509333433564831 1.0720773619352266\n",
      "err db, db / br1, brmin, br2 : 0.04473843867699523 0.007202355197606813 0.9809956526377163 1.0036141929494908 1.0257340913147115\n",
      "err db, db / br1, brmin, br2 : 0.03557064676142452 0.04414341994649362 1.0046102967666983 1.0225698654986686 1.0401809435281228\n"
     ]
    }
   ],
   "source": [
    "#err_brel_ns, brel_ns, chisqr_result_ns = brel_chisqr_fitting(xi_ngc, xi_sgc, F_ns, verbose=True)\n",
    "#err_brel_nd, brel_nd, chisqr_result_nd = brel_chisqr_fitting(xi_ngc,  xi_dmass, F_nd, verbose=True)\n",
    "#err_brel_sd, brel_sd, chisqr_result_sd = brel_chisqr_fitting(xi_sgc,  xi_dmass, F_sd, verbose=True)\n",
    "\n",
    "err_brel_ns, brel_ns, chisqr_result_ns = brel_chisqr_fitting(xi_sgc, xi_ngc, F_ns, verbose=True)\n",
    "err_brel_nd, brel_nd, chisqr_result_nd = brel_chisqr_fitting(xi_dmass,  xi_ngc, F_nd, verbose=True)\n",
    "err_brel_sd, brel_sd, chisqr_result_sd = brel_chisqr_fitting(xi_dmass,  xi_sgc, F_sd, verbose=True)\n",
    "err_brel_ns_nzs_ratio, brel_ns_nzs_ratio, chisqr_result_ns_nzs_ratio = brel_chisqr_fitting(xi_sgc,  xi_ngc*nzs_ratio, F_ns, verbose=True)\n",
    "\n",
    "#err_brel_ns, brel_ns, chisqr_result_ns = brel_chisqr_fitting(theory_sgc_interp, theory_interp, F_ns)\n",
    "#err_brel_nd, brel_nd, chisqr_result_nd = brel_chisqr_fitting(xi,  theory_interp, F_nd)\n",
    "#err_brel_sd, brel_sd, chisqr_result_sd = brel_chisqr_fitting(xi,  theory_sgc_interp, F_sd)\n",
    "#err_brel_ns_nzs_ratio, brel_ns_nzs_ratio, chisqr_result_ns_nzs_ratio = brel_chisqr_fitting(theory_sgc_interp,  theory_interp*nzs_ratio, F_ns)"
   ]
  },
  {
   "cell_type": "code",
   "execution_count": 73,
   "metadata": {},
   "outputs": [
    {
     "data": {
      "text/plain": [
       "<matplotlib.legend.Legend at 0x7fbe3e871990>"
      ]
     },
     "execution_count": 73,
     "metadata": {},
     "output_type": "execute_result"
    },
    {
     "data": {
      "image/png": "[encoded data removed]",
      "text/plain": [
       "<matplotlib.figure.Figure at 0x7fbe3e5ce710>"
      ]
     },
     "metadata": {
      "needs_background": "light"
     },
     "output_type": "display_data"
    }
   ],
   "source": [
    "fig, ax = plt.subplots()\n",
    "\n",
    "brelsqr = np.linspace(0.8, 1.2, 5000) \n",
    "b_n = 2.0\n",
    "brel = np.sqrt(brelsqr)\n",
    "dbarray = b_n*(1-brel)\n",
    "\n",
    "ax.plot(brel, chisqr_result_ns, '-b', label='N-S')\n",
    "#ax.plot(brel, chisqr_result_ns_new, '-m', label='N-S new')\n",
    "ax.plot(brel, chisqr_result_nd, '-r',label='N-d')\n",
    "ax.plot(brel, chisqr_result_sd, '-g',label='S-d')\n",
    "ax.plot(brel, chisqr_result_ns_nzs_ratio, color='orange', ls='--',label='N-S nzs_ratio')\n",
    "\n",
    "#ax.errorbar(db_ns, chisqr_min_ns, xerr =err_brel_ns *b_cmass)\n",
    "#ax.errorbar(db_nd, chisqr_min_nd, xerr =err_brel_nd *b_cmass)\n",
    "#ax.errorbar(db_sd, chisqr_min_sd, xerr =err_brel_sd *b_cmass)\n",
    "\n",
    "#ax.axvline(db_ns, lw = err_brel_ns *b_cmass, alpha = 0.5)\n",
    "ax.axvspan(brel_ns-err_brel_ns, brel_ns+err_brel_ns, alpha=0.99, color='skyblue')\n",
    "\n",
    "ax.axvspan(brel_sd-err_brel_sd, brel_sd+err_brel_sd, alpha=0.2, color='green')\n",
    "ax.axvspan(brel_ns_nzs_ratio-err_brel_ns_nzs_ratio, brel_ns_nzs_ratio+err_brel_ns_nzs_ratio, alpha=0.2, color='orange')\n",
    "ax.axvspan(brel_nd-err_brel_nd, brel_nd+err_brel_nd, alpha=0.2, color='red')\n",
    "ax.axvline(x=1.0, color = 'grey', ls='--')\n",
    "#ax.axvline(x=0, color = 'grey', ls='--')\n",
    "\n",
    "ax.set_xlabel(r'$b_{rel}$')\n",
    "ax.set_ylabel(r'$\\chi^2$')\n",
    "ax.legend(loc=1)\n",
    "#ax.axhline(y = chisqr_min_ns+1)\n",
    "#ax.axhline(y = chisqr_min_nd+1)\n",
    "#ax.axhline(y = chisqr_min_sd+1)\n",
    "\n",
    "#chinull_ns= brelchisqr(xi7, xi11, F_ns, 1)\n",
    "#chinull_nd= brelchisqr(xi, xi11, F_nd, 1)\n",
    "#chinull_sd= brelchisqr(xi, xi7, F_sd, 1)\n",
    "#print chinull_ns\n",
    "#from scipy.stats.distributions import chi2\n",
    "\n",
    "#print chi2.sf(chisqr_min_ns,9), chi2.sf(chisqr_min_nd,9), chi2.sf(chisqr_min_sd,9)\n",
    "#print chi2.sf(chinull_ns,9), chi2.sf(chinull_nd,9), chi2.sf(chinull_sd,9)"
   ]
  },
  {
   "cell_type": "code",
   "execution_count": 74,
   "metadata": {},
   "outputs": [
    {
     "name": "stdout",
     "output_type": "stream",
     "text": [
      "ngc-sgc (blue) : 1.03012733443+-0.0170843816146\n"
     ]
    },
    {
     "data": {
      "image/png": "[encoded data removed]",
      "text/plain": [
       "<matplotlib.figure.Figure at 0x7fbe40e17f90>"
      ]
     },
     "metadata": {
      "needs_background": "light"
     },
     "output_type": "display_data"
    }
   ],
   "source": [
    "fig, ax = plt.subplots(figsize = (3,7))\n",
    "\n",
    "brelsqr = np.linspace(0.8, 1.2, 5000) \n",
    "b_n = 2.0\n",
    "brel = np.sqrt(brelsqr)\n",
    "dbarray = b_n*(1-brel)\n",
    "\n",
    "ax.errorbar(brel_ns, 4.1, xerr =err_brel_ns, fmt='-o', color='blue', alpha = 0.3)\n",
    "ax.errorbar(brel_nd, 3.1, xerr =err_brel_nd, fmt='-o', color = 'red', alpha = 0.3)\n",
    "ax.errorbar(brel_sd, 1.1, xerr =err_brel_sd, fmt='-o', color = 'green', alpha = 0.3)\n",
    "ax.errorbar(brel_ns_nzs_ratio, 2.1, xerr = err_brel_ns_nzs_ratio, fmt='-o', color='orange', alpha = 0.3)\n",
    "\n",
    "ax.errorbar(brel_ns*bshift_ns, 4, xerr =err_brel_ns*bshift_ns, fmt='-s', color='blue')\n",
    "ax.errorbar(brel_nd*bshift_nd, 3, xerr =err_brel_nd*bshift_nd, fmt='-s', color = 'red')\n",
    "ax.errorbar(brel_sd*bshift_sd, 1, xerr =err_brel_sd*bshift_sd, fmt='-s', color = 'green')\n",
    "ax.errorbar(brel_ns_nzs_ratio*bshift_ns, 2, xerr = err_brel_ns_nzs_ratio*bshift_ns, fmt='-s', color='orange')\n",
    "\n",
    "#ax.axvline(db_ns, lw = err_brel_ns *b_cmass, alpha = 0.5)\n",
    "#ax.axvspan(brel_ns-err_brel_ns, brel_ns+err_brel_ns, alpha=0.99, color='skyblue')\n",
    "\n",
    "#ax.axvspan(brel_sd-err_brel_sd, brel_sd+err_brel_sd, alpha=0.2, color='green')\n",
    "#ax.axvspan(brel_ns_nzs_ratio-err_brel_ns_nzs_ratio, brel_ns_nzs_ratio+err_db_ns_nzs_ratio, alpha=0.2, color='orange')\n",
    "#ax.axvspan(brel_nd-err_brel_nd, brel_nd+err_brel_nd, alpha=0.2, color='red')\n",
    "ax.axvline(x=1.0, color = 'grey', ls='--')\n",
    "#ax.axvline(x=0, color = 'grey', ls='--')\n",
    "\n",
    "ax.set_xlabel(r'$b_{rel} = b_{1}/b_{2}$', fontsize = 20)\n",
    "#ax.set_ylabel(r'$\\chi^2$')\n",
    "ax.legend(loc=1)\n",
    "ax.set_xlim(0.95, 1.1)\n",
    "#ax.axhline(y = chisqr_min_ns+1)\n",
    "#ax.axhline(y = chisqr_min_nd+1)\n",
    "#ax.axhline(y = chisqr_min_sd+1)\n",
    "\n",
    "ax.set_yticks([0,1,2,3,4,5])\n",
    "ax.set_yticklabels(['','DMASS-SGC','NGC-SGC\\n(x n(z) ratio)', 'NGC-DMASS', 'NGC-SGC' ,''], fontsize = 15) \n",
    "#print chi2.sf(chisqr_min_ns,9), chi2.sf(chisqr_min_nd,9), chi2.sf(chisqr_min_sd,9)\n",
    "#print chi2.sf(chinull_ns,9), chi2.sf(chinull_nd,9), chi2.sf(chinull_sd,9)\n",
    "\n",
    "\n",
    "print 'ngc-sgc (blue) : {}+-{}'.format(brel_ns*bshift_ns, err_brel_ns*bshift_ns)\n",
    "#print 'nzcorrect ngc-sgc (orange) : {}+-{}'.format(brel_ns_nzs_ratio*bshift_ns, err_brel_ns_nzs_ratio*bshift_ns)"
   ]
  },
  {
   "cell_type": "code",
   "execution_count": null,
   "metadata": {},
   "outputs": [],
   "source": []
  },
  {
   "cell_type": "code",
   "execution_count": null,
   "metadata": {},
   "outputs": [],
   "source": []
  }
 ],
 "metadata": {
  "kernelspec": {
   "display_name": "Python 2",
   "language": "python",
   "name": "python2"
  },
  "language_info": {
   "codemirror_mode": {
    "name": "ipython",
    "version": 2
   },
   "file_extension": ".py",
   "mimetype": "text/x-python",
   "name": "python",
   "nbconvert_exporter": "python",
   "pygments_lexer": "ipython2",
   "version": "2.7.5"
  }
 },
 "nbformat": 4,
 "nbformat_minor": 1
}
