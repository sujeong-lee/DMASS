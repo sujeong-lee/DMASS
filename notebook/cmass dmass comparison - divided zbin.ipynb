{
 "cells": [
  {
   "cell_type": "code",
   "execution_count": 103,
   "metadata": {},
   "outputs": [
    {
     "name": "stdout",
     "output_type": "stream",
     "text": [
      "The autoreload extension is already loaded. To reload it, use:\n",
      "  %reload_ext autoreload\n"
     ]
    }
   ],
   "source": [
    "from xd import *\n",
    "from utils import *\n",
    "import esutil\n",
    "import healpy as hp\n",
    "from systematics import *\n",
    "%matplotlib inline\n",
    "\n",
    "%load_ext autoreload\n",
    "%autoreload 2"
   ]
  },
  {
   "cell_type": "code",
   "execution_count": 137,
   "metadata": {},
   "outputs": [
    {
     "name": "stdout",
     "output_type": "stream",
     "text": [
      "Spatial Cut  529721\n"
     ]
    }
   ],
   "source": [
    "# calling map \n",
    "GoldMask = callingEliGoldMask()\n",
    "GoldMask_st82 = Cuts.SpatialCuts(GoldMask, ra=320, ra2=360, dec=-2, dec2=2)\n",
    "GoldMask_spt = GoldMask[ GoldMask['DEC'] < -3.0 ]\n",
    "\n",
    "pixarea = hp.nside2pixarea( 4096, degrees = True)\n",
    "sptnpix = GoldMask_spt['PIXEL'].size #hp.get_map_size( GoldMask_spt['PIXEL'] )\n",
    "st82npix =  GoldMask_st82['PIXEL'].size # hp.get_map_size( GoldMask_st82 )\n",
    "SPTMaparea = pixarea * sptnpix\n",
    "ST82Maparea = pixarea * st82npix"
   ]
  },
  {
   "cell_type": "code",
   "execution_count": 80,
   "metadata": {},
   "outputs": [],
   "source": [
    "# sgc data\n",
    "import esutil\n",
    "import numpy as np\n",
    "\n",
    "path = '/n/des/lee.5922/data/cmass_cat/'\n",
    "\n",
    "cmass_sgc = esutil.io.read(path+'galaxy_DR12v5_CMASS_South.fits.gz')\n",
    "cmass_sgc_low = cmass_sgc[(cmass_sgc['Z'] < 0.55)]\n",
    "cmass_sgc_high = cmass_sgc[(cmass_sgc['Z'] >= 0.55)]\n",
    "\n",
    "random_sgc = esutil.io.read(path+'random0_DR12v5_CMASS_South.fits.gz')\n",
    "random_sgc_low = random_sgc[(random_sgc['Z'] < 0.55)]\n",
    "random_sgc_high = random_sgc[(random_sgc['Z'] >= 0.55)]"
   ]
  },
  {
   "cell_type": "code",
   "execution_count": 19,
   "metadata": {},
   "outputs": [],
   "source": [
    "cmass_st82 = Cuts.keepGoodRegion(cmass_sgc)\n",
    "cmass_st82_low = cmass_st82[(cmass_st82['Z'] < 0.55)]\n",
    "cmass_st82_high = cmass_st82[(cmass_st82['Z'] > 0.55)]"
   ]
  },
  {
   "cell_type": "code",
   "execution_count": 145,
   "metadata": {},
   "outputs": [],
   "source": [
    "dmass_spt = esutil.io.read('result_cat/dmass_spt.fits')"
   ]
  },
  {
   "cell_type": "code",
   "execution_count": null,
   "metadata": {},
   "outputs": [],
   "source": [
    "ls /n/des/lee.5922/data/"
   ]
  },
  {
   "cell_type": "code",
   "execution_count": 16,
   "metadata": {},
   "outputs": [
    {
     "name": "stdout",
     "output_type": "stream",
     "text": [
      "Y1A1_GOLD_STRIPE82_v2_000001.fits\n",
      "Y1A1_GOLD_STRIPE82_v2_000002.fits\n",
      "Y1A1_GOLD_STRIPE82_v2_000003.fits\n",
      "Y1A1_GOLD_STRIPE82_v2_000004.fits\n",
      "Y1A1_GOLD_STRIPE82_v2_000005.fits\n",
      "Y1A1_GOLD_STRIPE82_v2_000006.fits\n",
      "Y1A1_GOLD_STRIPE82_v2_000007.fits\n",
      "Y1A1_GOLD_STRIPE82_v2_000008.fits\n",
      "reading 1/8 /n/des/lee.5922/data/gold_cat/Y1A1_GOLD_STRIPE82_v2_000001.fits\n",
      "reading 2/8 /n/des/lee.5922/data/gold_cat/Y1A1_GOLD_STRIPE82_v2_000002.fits\n",
      "reading 3/8 /n/des/lee.5922/data/gold_cat/Y1A1_GOLD_STRIPE82_v2_000003.fits\n",
      "reading 4/8 /n/des/lee.5922/data/gold_cat/Y1A1_GOLD_STRIPE82_v2_000004.fits\n",
      "reading 5/8 /n/des/lee.5922/data/gold_cat/Y1A1_GOLD_STRIPE82_v2_000005.fits\n",
      "reading 6/8 /n/des/lee.5922/data/gold_cat/Y1A1_GOLD_STRIPE82_v2_000006.fits\n",
      "reading 7/8 /n/des/lee.5922/data/gold_cat/Y1A1_GOLD_STRIPE82_v2_000007.fits\n",
      "reading 8/8 /n/des/lee.5922/data/gold_cat/Y1A1_GOLD_STRIPE82_v2_000008.fits\n"
     ]
    }
   ],
   "source": [
    "from cmass_modules.io import getCatalogsWithKeys\n",
    "gold_st82 = getCatalogsWithKeys(keyword = 'Y1A1_GOLD_STRIPE82_v2', path = '/n/des/lee.5922/data/gold_cat/')"
   ]
  },
  {
   "cell_type": "code",
   "execution_count": 20,
   "metadata": {},
   "outputs": [],
   "source": [
    "m1, m2, _ = esutil.htm.HTM(10).match(cmass_st82_low['RA'], cmass_st82_low['DEC'], gold_st82['RA'], \\\n",
    "                                     gold_st82['DEC'], 2./3600, maxmatch=1)\n",
    "cmass_mask_low = np.zeros(gold_st82.size, dtype=bool)\n",
    "cmass_mask_low[m2] = 1\n",
    "cmass_in_des_low = gold_st82[cmass_mask_low]\n",
    "\n",
    "m1, m2, _ = esutil.htm.HTM(10).match(cmass_st82_high['RA'], cmass_st82_high['DEC'], gold_st82['RA'], \\\n",
    "                                     gold_st82['DEC'], 2./3600, maxmatch=1)\n",
    "cmass_mask_high = np.zeros(gold_st82.size, dtype=bool)\n",
    "cmass_mask_high[m2] = 1\n",
    "cmass_in_des_high = gold_st82[cmass_mask_high]"
   ]
  },
  {
   "cell_type": "code",
   "execution_count": 67,
   "metadata": {},
   "outputs": [],
   "source": [
    "dmass_spt = esutil.io.read('result_cat/dmass_spt_30.fits')"
   ]
  },
  {
   "cell_type": "code",
   "execution_count": 90,
   "metadata": {},
   "outputs": [],
   "source": [
    "dmass_st82_low = esutil.io.read('result_cat/dmass_st82_z0_055.fits')\n",
    "dmass_st82_high = esutil.io.read('result_cat/dmass_st82_z055_10.fits')\n",
    "\n",
    "dmass_spt_low = esutil.io.read('result_cat/dmass_spt_z0_055.fits')\n",
    "dmass_spt_high = esutil.io.read('result_cat/dmass_spt_z055_10.fits')"
   ]
  },
  {
   "cell_type": "code",
   "execution_count": null,
   "metadata": {},
   "outputs": [],
   "source": [
    "dmass_spt = esutil.io.read('result_cat/dmass_')"
   ]
  },
  {
   "cell_type": "code",
   "execution_count": 51,
   "metadata": {},
   "outputs": [
    {
     "name": "stdout",
     "output_type": "stream",
     "text": [
      "saving fig to  figure/hist_z_low.png\n",
      "saving fig to  figure/hist_z_high.png\n"
     ]
    },
    {
     "data": {
      "image/png": "[encoded data removed]",
      "text/plain": [
       "<matplotlib.figure.Figure at 0x7fa9d279c790>"
      ]
     },
     "metadata": {},
     "output_type": "display_data"
    },
    {
     "data": {
      "image/png": "[encoded data removed]",
      "text/plain": [
       "<matplotlib.figure.Figure at 0x7fa9ded22b90>"
      ]
     },
     "metadata": {},
     "output_type": "display_data"
    }
   ],
   "source": [
    "doVisualization_z([dmass_st82_low, cmass_in_des_low], zlabel='DESDM_ZP', suffix='low', labels = ['dmass', 'cmass'])\n",
    "doVisualization_z([dmass_st82_high, cmass_in_des_high], zlabel='DESDM_ZP', suffix = 'high',labels = ['dmass', 'cmass'])"
   ]
  },
  {
   "cell_type": "code",
   "execution_count": 148,
   "metadata": {},
   "outputs": [
    {
     "data": {
      "text/plain": [
       "((51115,), (64395,))"
      ]
     },
     "execution_count": 148,
     "metadata": {},
     "output_type": "execute_result"
    }
   ],
   "source": [
    "dmass_spt_low.shape, dmass_spt_high.shape"
   ]
  },
  {
   "cell_type": "code",
   "execution_count": 138,
   "metadata": {},
   "outputs": [
    {
     "name": "stdout",
     "output_type": "stream",
     "text": [
      "saving fig to  figure/hist_z_.png\n"
     ]
    },
    {
     "data": {
      "image/png": "[encoded data removed]",
      "text/plain": [
       "<matplotlib.figure.Figure at 0x7fa9dcb379d0>"
      ]
     },
     "metadata": {},
     "output_type": "display_data"
    }
   ],
   "source": [
    "doVisualization_z_1([cmass_in_des_high, dmass_spt_low, cmass_in_des_low, dmass_spt_high], zlabel='DESDM_ZP', \n",
    "                    suffix = '',labels = ['cmass highz', 'dmass spt highz', 'cmass lowz', 'dmass spt lowz'])"
   ]
  },
  {
   "cell_type": "code",
   "execution_count": 119,
   "metadata": {},
   "outputs": [],
   "source": [
    "def ra_dec_to_xyz(ra, dec):\n",
    "    \"\"\"Convert ra & dec to Euclidean points\n",
    "    Parameters\n",
    "    ----------\n",
    "    ra, dec : ndarrays\n",
    "    Returns\n",
    "    x, y, z : ndarrays\n",
    "    \"\"\"\n",
    "    sin_ra = np.sin(ra * np.pi / 180.)\n",
    "    cos_ra = np.cos(ra * np.pi / 180.)\n",
    "\n",
    "    sin_dec = np.sin(np.pi / 2 - dec * np.pi / 180.)\n",
    "    cos_dec = np.cos(np.pi / 2 - dec * np.pi / 180.)\n",
    "\n",
    "    return (cos_ra * sin_dec,\n",
    "            sin_ra * sin_dec,\n",
    "            cos_dec)\n",
    "\n",
    "def uniform_sphere(RAlim, DEClim, size=1):\n",
    "    \"\"\"Draw a uniform sample on a sphere\n",
    "    Parameters\n",
    "    ----------\n",
    "    RAlim : tuple\n",
    "        select Right Ascension between RAlim[0] and RAlim[1]\n",
    "        units are degrees\n",
    "    DEClim : tuple\n",
    "        select Declination between DEClim[0] and DEClim[1]\n",
    "    size : int (optional)\n",
    "        the size of the random arrays to return (default = 1)\n",
    "    Returns\n",
    "    -------\n",
    "    RA, DEC : ndarray\n",
    "        the random sample on the sphere within the given limits.\n",
    "        arrays have shape equal to size.\n",
    "    \"\"\"\n",
    "    zlim = np.sin(np.pi * np.asarray(DEClim) / 180.)\n",
    "\n",
    "    z = zlim[0] + (zlim[1] - zlim[0]) * np.random.random(size)\n",
    "    DEC = (180. / np.pi) * np.arcsin(z)\n",
    "    RA = RAlim[0] + (RAlim[1] - RAlim[0]) * np.random.random(size)\n",
    "    \n",
    "    return RA, DEC\n",
    "\n",
    "def uniform_random_on_sphere(data, size = None, zlabel = 'DESDM_ZP' ):\n",
    "    ra = data['RA']\n",
    "    dec = data['DEC']\n",
    "    \n",
    "    n_features = ra.size\n",
    "    #size = 100 * data.size\n",
    "    \n",
    "    # draw a random sample with N points\n",
    "    ra_R, dec_R = uniform_sphere((min(ra), max(ra)),\n",
    "                                 (min(dec), max(dec)),\n",
    "                                 size)\n",
    "    #data = np.asarray(ra_dec_to_xyz(ra, dec), order='F').T\n",
    "    #data_R = np.asarray(ra_dec_to_xyz(ra_R, dec_R), order='F').T\n",
    "    \n",
    "    #random redshift distribution\n",
    "    mu, sigma = np.mean(data[zlabel]), np.std(data[zlabel])\n",
    "    z_R = np.random.normal(mu, sigma, size)\n",
    "    \n",
    "    data_R = np.zeros((ra_R.size,), dtype=[('RA', 'float'), ('DEC', 'float'), (zlabel, 'float')])\n",
    "    data_R['RA'] = ra_R\n",
    "    data_R['DEC'] = dec_R\n",
    "    data_R[zlabel] = z_R\n",
    "                              \n",
    "    return data_R"
   ]
  },
  {
   "cell_type": "code",
   "execution_count": 69,
   "metadata": {},
   "outputs": [],
   "source": [
    "dmass = np.hstack([dmass_st82_low, dmass_st82_high])\n",
    "data_R = uniform_random_on_sphere(dmass, size = 50 * dmass.size)\n",
    "data_R = Cuts.keepGoodRegion(data_R)\n",
    "data_R_t = uniform_random_on_sphere(cmass_st82, size = 50 * cmass_st82.size, zlabel='Z')\n",
    "data_R_t = Cuts.keepGoodRegion(data_R_t)"
   ]
  },
  {
   "cell_type": "code",
   "execution_count": 70,
   "metadata": {},
   "outputs": [],
   "source": [
    "data_R_spt = uniform_random_on_sphere(dmass_spt, size = 50 * dmass_spt.size)\n",
    "data_R_spt = Cuts.keepGoodRegion(data_R_spt)\n",
    "data_R_spt = data_R_spt[data_R_spt['DEC']<-3]"
   ]
  },
  {
   "cell_type": "code",
   "execution_count": 71,
   "metadata": {},
   "outputs": [
    {
     "name": "stdout",
     "output_type": "stream",
     "text": [
      "calculate angular correlation function\n",
      "X (160, 2)  centers (10, 2)  tol=1e-05  maxiter=200\n",
      "12 iterations  cluster sizes: [20 28 15 15 13 17 12  9 13 18]\n",
      "X (6458, 2)  centers (10, 2)  tol=1e-05  maxiter=200\n",
      "32 iterations  cluster sizes: [627 752 498 631 530 658 610 716 704 732]\n",
      "saving data file to :  data_txt/acf_comparison_dmass_st82_low.txt\n",
      "calculate angular correlation function\n",
      "X (161, 2)  centers (10, 2)  tol=1e-05  maxiter=200\n",
      "21 iterations  cluster sizes: [12 18 16 14  3 16  8 38 16 20]\n",
      "X (6507, 2)  centers (10, 2)  tol=1e-05  maxiter=200\n",
      "25 iterations  cluster sizes: [ 615  746  579  692  454  622  550 1136  602  511]\n",
      "saving data file to :  data_txt/acf_comparison_cmass_st82_low.txt\n"
     ]
    },
    {
     "data": {
      "text/plain": [
       "0"
      ]
     },
     "execution_count": 71,
     "metadata": {},
     "output_type": "execute_result"
    }
   ],
   "source": [
    "from systematics_module.corr import angular_correlation\n",
    "angular_correlation(data = dmass_st82_low, rand = data_R, weight = None, suffix = '_dmass_st82_low', njack=10)\n",
    "angular_correlation(data = cmass_st82_low, rand = data_R_t, weight = None, suffix = '_cmass_st82_low', njack=10)\n"
   ]
  },
  {
   "cell_type": "code",
   "execution_count": 72,
   "metadata": {},
   "outputs": [
    {
     "name": "stdout",
     "output_type": "stream",
     "text": [
      "calculate angular correlation function\n",
      "X (148, 2)  centers (10, 2)  tol=1e-05  maxiter=200\n",
      "8 iterations  cluster sizes: [15 11  7 18 20  4 13  7 35 18]\n",
      "X (5516, 2)  centers (10, 2)  tol=1e-05  maxiter=200\n",
      "30 iterations  cluster sizes: [734 422 548 503 666 367 615 523 665 473]\n",
      "saving data file to :  data_txt/acf_comparison_dmass_st82_high.txt\n",
      "calculate angular correlation function\n",
      "X (146, 2)  centers (10, 2)  tol=1e-05  maxiter=200\n",
      "6 iterations  cluster sizes: [19 15  7 17 30 14 19 13  5  7]\n",
      "X (5401, 2)  centers (10, 2)  tol=1e-05  maxiter=200\n",
      "20 iterations  cluster sizes: [367 307 369 659 929 516 644 732 431 447]\n",
      "saving data file to :  data_txt/acf_comparison_cmass_st82_high.txt\n"
     ]
    },
    {
     "data": {
      "text/plain": [
       "0"
      ]
     },
     "execution_count": 72,
     "metadata": {},
     "output_type": "execute_result"
    }
   ],
   "source": [
    "from systematics_module.corr import angular_correlation\n",
    "angular_correlation(data = dmass_st82_high, rand = data_R, weight = None, suffix = '_dmass_st82_high', njack=10)\n",
    "angular_correlation(data = cmass_st82_high, rand = data_R_t, weight = None, suffix = '_cmass_st82_high', njack=10)"
   ]
  },
  {
   "cell_type": "code",
   "execution_count": 140,
   "metadata": {},
   "outputs": [
    {
     "name": "stdout",
     "output_type": "stream",
     "text": [
      "calculate angular correlation function\n",
      "X (507, 2)  centers (10, 2)  tol=1e-05  maxiter=200\n",
      "37 iterations  cluster sizes: [45 91 36 34 31 26 67 89 35 53]\n",
      "X (64395, 2)  centers (10, 2)  tol=1e-05  maxiter=200\n",
      "30 iterations  cluster sizes: [7132 8689 7781 3247 3963 4033 7314 8920 4386 8930]\n",
      "saving data file to :  data_txt/acf_comparison_dmass_spt_low.txt\n",
      "calculate angular correlation function\n",
      "X (452, 2)  centers (10, 2)  tol=1e-05  maxiter=200\n",
      "19 iterations  cluster sizes: [28 81 52 40 40 59 33 46 43 30]\n",
      "X (51115, 2)  centers (10, 2)  tol=1e-05  maxiter=200\n",
      "26 iterations  cluster sizes: [4123 6585 4067 4689 4769 5597 3933 4673 6042 6637]\n",
      "saving data file to :  data_txt/acf_comparison_dmass_spt_high.txt\n"
     ]
    },
    {
     "data": {
      "text/plain": [
       "0"
      ]
     },
     "execution_count": 140,
     "metadata": {},
     "output_type": "execute_result"
    }
   ],
   "source": [
    "angular_correlation(data = dmass_spt_high, rand = GoldMask_spt, weight = None, suffix = '_dmass_spt_low', njack=10)\n",
    "angular_correlation(data = dmass_spt_low, rand = GoldMask_spt, weight = None, suffix = '_dmass_spt_high', njack=10)\n"
   ]
  },
  {
   "cell_type": "code",
   "execution_count": 146,
   "metadata": {},
   "outputs": [
    {
     "name": "stdout",
     "output_type": "stream",
     "text": [
      "calculate angular correlation function\n",
      "X (658, 2)  centers (10, 2)  tol=1e-05  maxiter=200\n",
      "13 iterations  cluster sizes: [63 89 50 79 64 47 56 77 60 73]\n",
      "X (108324, 2)  centers (10, 2)  tol=1e-05  maxiter=200\n",
      "22 iterations  cluster sizes: [11108 12654 10131 15277 11194  8145  8444 10045 11045 10281]\n",
      "saving data file to :  data_txt/acf_comparison_dmass_spt_full.txt\n"
     ]
    },
    {
     "data": {
      "text/plain": [
       "0"
      ]
     },
     "execution_count": 146,
     "metadata": {},
     "output_type": "execute_result"
    }
   ],
   "source": [
    "angular_correlation(data = dmass_spt, rand = GoldMask_spt, weight = None, suffix = '_dmass_spt_full', njack=10)\n"
   ]
  },
  {
   "cell_type": "code",
   "execution_count": 136,
   "metadata": {},
   "outputs": [
    {
     "name": "stdout",
     "output_type": "stream",
     "text": [
      "calculate angular correlation function\n",
      "X (709, 2)  centers (10, 2)  tol=1e-05  maxiter=200\n",
      "21 iterations  cluster sizes: [79 85 62 51 56 83 82 62 83 66]\n",
      "X (125857, 2)  centers (10, 2)  tol=1e-05  maxiter=200\n",
      "33 iterations  cluster sizes: [13043 12111 13026 12970 10793 13275 12913 12102 11935 13689]\n",
      "saving data file to :  data_txt/acf_comparison_cmass_sgc_low.txt\n",
      "calculate angular correlation function\n",
      "X (647, 2)  centers (10, 2)  tol=1e-05  maxiter=200\n",
      "24 iterations  cluster sizes: [95 73 63 54 51 36 81 67 60 67]\n",
      "X (104974, 2)  centers (10, 2)  tol=1e-05  maxiter=200\n",
      "70 iterations  cluster sizes: [10364  9987 10936 12200 11303  9880  9229 11156  9856 10063]\n",
      "saving data file to :  data_txt/acf_comparison_cmass_sgc_high.txt\n"
     ]
    },
    {
     "data": {
      "text/plain": [
       "0"
      ]
     },
     "execution_count": 136,
     "metadata": {},
     "output_type": "execute_result"
    }
   ],
   "source": [
    "w_sgc_low = cmass_sgc_low['WEIGHT_SYSTOT']*( cmass_sgc_low['WEIGHT_CP'] + cmass_sgc_low['WEIGHT_NOZ'] - 1. )\n",
    "w_rand_low = random_sgc_low['WEIGHT_FKP']\n",
    "\n",
    "w_sgc_high = cmass_sgc_high['WEIGHT_SYSTOT']*( cmass_sgc_high['WEIGHT_CP'] + cmass_sgc_high['WEIGHT_NOZ'] - 1. )\n",
    "w_rand_high = random_sgc_high['WEIGHT_FKP']\n",
    "\n",
    "angular_correlation(data = cmass_sgc_low, rand = random_sgc_low, weight = [w_sgc_low, w_rand_low], suffix = '_cmass_sgc_low', njack=10)\n",
    "angular_correlation(data = cmass_sgc_high, rand = random_sgc_high, weight = [w_sgc_high, w_rand_high], suffix = '_cmass_sgc_high', njack=10)\n"
   ]
  },
  {
   "cell_type": "code",
   "execution_count": 147,
   "metadata": {},
   "outputs": [
    {
     "name": "stdout",
     "output_type": "stream",
     "text": [
      "calculate angular correlation function\n",
      "X (960, 2)  centers (10, 2)  tol=1e-05  maxiter=200\n",
      "48 iterations  cluster sizes: [105  86 107  87 105  91 101  99  91  88]\n",
      "X (230831, 2)  centers (10, 2)  tol=1e-05  maxiter=200\n",
      "13 iterations  cluster sizes: [25757 23153 19903 24887 23174 23100 23146 22444 23943 21324]\n",
      "saving data file to :  data_txt/acf_comparison_cmass_sgc_full.txt\n"
     ]
    },
    {
     "data": {
      "text/plain": [
       "0"
      ]
     },
     "execution_count": 147,
     "metadata": {},
     "output_type": "execute_result"
    }
   ],
   "source": [
    "w_sgc = cmass_sgc['WEIGHT_FKP'] * cmass_sgc['WEIGHT_SYSTOT']*( cmass_sgc['WEIGHT_CP'] + cmass_sgc['WEIGHT_NOZ'] - 1. )\n",
    "w_rand = random_sgc['WEIGHT_FKP']\n",
    "angular_correlation(data = cmass_sgc, rand = random_sgc, weight = [w_sgc, w_rand], suffix = '_cmass_sgc_full', njack=10)"
   ]
  },
  {
   "cell_type": "code",
   "execution_count": 144,
   "metadata": {},
   "outputs": [
    {
     "data": {
      "text/plain": [
       "<matplotlib.text.Text at 0x7fa9d67a9a10>"
      ]
     },
     "execution_count": 144,
     "metadata": {},
     "output_type": "execute_result"
    },
    {
     "data": {
      "image/png": "[encoded data removed]",
      "text/plain": [
       "<matplotlib.figure.Figure at 0x7fa9d6514b10>"
      ]
     },
     "metadata": {},
     "output_type": "display_data"
    },
    {
     "data": {
      "image/png": "[encoded data removed]",
      "text/plain": [
       "<matplotlib.figure.Figure at 0x7fa9d6862090>"
      ]
     },
     "metadata": {},
     "output_type": "display_data"
    }
   ],
   "source": [
    "\n",
    "DAT_all = np.loadtxt('data_txt/acf_comparison_dmass_spt.txt')\n",
    "meanr_all, xi_all, xi_err_all = [DAT_all[:,i] for i in range(3)]\n",
    "\n",
    "\n",
    "####################################\n",
    "DAT = np.loadtxt('data_txt/acf_comparison_dmass_spt_low.txt')\n",
    "meanr, xi, xi_err = [DAT[:,i] for i in range(3)]\n",
    "DAT2 = np.loadtxt('data_txt/acf_comparison_cmass_sgc_low.txt')\n",
    "meanr2, xi2, xi_err2 = [DAT2[:,i] for i in range(3)]\n",
    "\n",
    "fig, ax = plt.subplots(figsize = (7, 5))\n",
    "ax.errorbar(meanr, xi, yerr = xi_err, fmt = '.r', label='dmass spt low')\n",
    "#ax.errorbar(meanr2, xi2, yerr = xi_err2, fmt = '.k', label='cmass sgc low')\n",
    "#ax.errorbar(meanr_all, xi_all, yerr = xi_err_all, fmt = '.r', label='dmass spt all')\n",
    "#ax.errorbar(meanr4, xi4, yerr = xi_err4, fmt = '.k', label='cmass sgc high')\n",
    "ax.errorbar(meanr3*1.05, xi3, yerr = xi_err3, fmt = '.k', label='dmass spt high')\n",
    "\n",
    "#ax.errorbar(meanr3*0.95, xi3, yerr = xi_err3, fmt = '.b', label='dmass spt rand')\n",
    "\n",
    "\n",
    "chisqr = np.sum( (xi2-xi)**2/xi_err**2 )*1./xi.size\n",
    "\n",
    "ax.set_xscale('log')\n",
    "ax.set_yscale('log')\n",
    "ax.legend(loc = 'best', fontsize = 12)\n",
    "ax.text(1.5, 0.07, r'$\\chi^2$ = {:0.3f}'.format(chisqr), fontsize = 12)\n",
    "ax.set_ylim(1e-3,)\n",
    "ax.set_xlabel(r'$\\theta$ (deg)', fontsize = 12)\n",
    "ax.set_ylabel(r'$w(\\theta)$', fontsize = 12)\n",
    "\n",
    "#fig.savefig('figure/acf_comparison_cmass_dmass.pdf')\n",
    "\n",
    "####################################\n",
    "\n",
    "\n",
    "DAT = np.loadtxt('data_txt/acf_comparison_dmass_spt_high.txt')\n",
    "meanr3, xi3, xi_err3 = [DAT[:,i] for i in range(3)]\n",
    "DAT2 = np.loadtxt('data_txt/acf_comparison_cmass_sgc_high.txt')\n",
    "meanr4, xi4, xi_err4 = [DAT2[:,i] for i in range(3)]\n",
    "\n",
    "fig, ax = plt.subplots(figsize = (7, 5))\n",
    "#ax.errorbar(meanr, xi, yerr = xi_err, fmt = '.b', label='dmass spt all')\n",
    "\n",
    "ax.errorbar(meanr2, xi2, yerr = xi_err2, fmt = '.r', label='cmass sgc low')\n",
    "#ax.errorbar(meanr*1.05, xi, yerr = xi_err, fmt = '.r', label='dmass spt low')\n",
    "ax.errorbar(meanr4*1.05, xi4, yerr = xi_err4, fmt = '.k', label='cmass sgc high')\n",
    "#ax.errorbar(meanr3*1.05, xi3, yerr = xi_err3, fmt = '.r', label='dmass spt high')\n",
    "\n",
    "#ax.errorbar(meanr3*0.95, xi3, yerr = xi_err3, fmt = '.b', label='dmass spt rand')\n",
    "chisqr = np.sum( (xi4-xi3)**2/xi_err3**2 )*1./xi3.size\n",
    "\n",
    "ax.set_xscale('log')\n",
    "ax.set_yscale('log')\n",
    "ax.legend(loc = 'best', fontsize = 12)\n",
    "ax.text(1.5, 0.07, r'$\\chi^2$ = {:0.3f}'.format(chisqr), fontsize = 12)\n",
    "ax.set_ylim(1e-3,)\n",
    "ax.set_xlabel(r'$\\theta$ (deg)', fontsize = 12)\n",
    "ax.set_ylabel(r'$w(\\theta)$', fontsize = 12)\n",
    "\n",
    "#fig.savefig('figure/acf_comparison_cmass_dmass.pdf')"
   ]
  },
  {
   "cell_type": "code",
   "execution_count": null,
   "metadata": {},
   "outputs": [],
   "source": []
  },
  {
   "cell_type": "code",
   "execution_count": 87,
   "metadata": {},
   "outputs": [
    {
     "ename": "IOError",
     "evalue": "[Errno 2] No such file or directory: 'data_txt/acf_comparison_dmass_spt_high.txt'",
     "output_type": "error",
     "traceback": [
      "\u001b[0;31m---------------------------------------------------------------------------\u001b[0m",
      "\u001b[0;31mIOError\u001b[0m                                   Traceback (most recent call last)",
      "\u001b[0;32m<ipython-input-87-2284fe9c244a>\u001b[0m in \u001b[0;36m<module>\u001b[0;34m()\u001b[0m\n\u001b[1;32m      1\u001b[0m \u001b[0;31m###############\u001b[0m\u001b[0;34m\u001b[0m\u001b[0;34m\u001b[0m\u001b[0m\n\u001b[0;32m----> 2\u001b[0;31m \u001b[0mDAT\u001b[0m \u001b[0;34m=\u001b[0m \u001b[0mnp\u001b[0m\u001b[0;34m.\u001b[0m\u001b[0mloadtxt\u001b[0m\u001b[0;34m(\u001b[0m\u001b[0;34m'data_txt/acf_comparison_dmass_spt_high.txt'\u001b[0m\u001b[0;34m)\u001b[0m\u001b[0;34m\u001b[0m\u001b[0m\n\u001b[0m\u001b[1;32m      3\u001b[0m \u001b[0mmeanr\u001b[0m\u001b[0;34m,\u001b[0m \u001b[0mxi\u001b[0m\u001b[0;34m,\u001b[0m \u001b[0mxi_err\u001b[0m \u001b[0;34m=\u001b[0m \u001b[0;34m[\u001b[0m\u001b[0mDAT\u001b[0m\u001b[0;34m[\u001b[0m\u001b[0;34m:\u001b[0m\u001b[0;34m,\u001b[0m\u001b[0mi\u001b[0m\u001b[0;34m]\u001b[0m \u001b[0;32mfor\u001b[0m \u001b[0mi\u001b[0m \u001b[0;32min\u001b[0m \u001b[0mrange\u001b[0m\u001b[0;34m(\u001b[0m\u001b[0;36m3\u001b[0m\u001b[0;34m)\u001b[0m\u001b[0;34m]\u001b[0m\u001b[0;34m\u001b[0m\u001b[0m\n\u001b[1;32m      4\u001b[0m \u001b[0mDAT2\u001b[0m \u001b[0;34m=\u001b[0m \u001b[0mnp\u001b[0m\u001b[0;34m.\u001b[0m\u001b[0mloadtxt\u001b[0m\u001b[0;34m(\u001b[0m\u001b[0;34m'data_txt/acf_comparison_cmass_sgc_high.txt'\u001b[0m\u001b[0;34m)\u001b[0m\u001b[0;34m\u001b[0m\u001b[0m\n\u001b[1;32m      5\u001b[0m \u001b[0mmeanr2\u001b[0m\u001b[0;34m,\u001b[0m \u001b[0mxi2\u001b[0m\u001b[0;34m,\u001b[0m \u001b[0mxi_err2\u001b[0m \u001b[0;34m=\u001b[0m \u001b[0;34m[\u001b[0m\u001b[0mDAT2\u001b[0m\u001b[0;34m[\u001b[0m\u001b[0;34m:\u001b[0m\u001b[0;34m,\u001b[0m\u001b[0mi\u001b[0m\u001b[0;34m]\u001b[0m \u001b[0;32mfor\u001b[0m \u001b[0mi\u001b[0m \u001b[0;32min\u001b[0m \u001b[0mrange\u001b[0m\u001b[0;34m(\u001b[0m\u001b[0;36m3\u001b[0m\u001b[0;34m)\u001b[0m\u001b[0;34m]\u001b[0m\u001b[0;34m\u001b[0m\u001b[0m\n",
      "\u001b[0;32m/n/home00/lee.5922/.local/lib/python2.7/site-packages/numpy/lib/npyio.pyc\u001b[0m in \u001b[0;36mloadtxt\u001b[0;34m(fname, dtype, comments, delimiter, converters, skiprows, usecols, unpack, ndmin)\u001b[0m\n\u001b[1;32m    894\u001b[0m                 \u001b[0mfh\u001b[0m \u001b[0;34m=\u001b[0m \u001b[0miter\u001b[0m\u001b[0;34m(\u001b[0m\u001b[0mbz2\u001b[0m\u001b[0;34m.\u001b[0m\u001b[0mBZ2File\u001b[0m\u001b[0;34m(\u001b[0m\u001b[0mfname\u001b[0m\u001b[0;34m)\u001b[0m\u001b[0;34m)\u001b[0m\u001b[0;34m\u001b[0m\u001b[0m\n\u001b[1;32m    895\u001b[0m             \u001b[0;32melif\u001b[0m \u001b[0msys\u001b[0m\u001b[0;34m.\u001b[0m\u001b[0mversion_info\u001b[0m\u001b[0;34m[\u001b[0m\u001b[0;36m0\u001b[0m\u001b[0;34m]\u001b[0m \u001b[0;34m==\u001b[0m \u001b[0;36m2\u001b[0m\u001b[0;34m:\u001b[0m\u001b[0;34m\u001b[0m\u001b[0m\n\u001b[0;32m--> 896\u001b[0;31m                 \u001b[0mfh\u001b[0m \u001b[0;34m=\u001b[0m \u001b[0miter\u001b[0m\u001b[0;34m(\u001b[0m\u001b[0mopen\u001b[0m\u001b[0;34m(\u001b[0m\u001b[0mfname\u001b[0m\u001b[0;34m,\u001b[0m \u001b[0;34m'U'\u001b[0m\u001b[0;34m)\u001b[0m\u001b[0;34m)\u001b[0m\u001b[0;34m\u001b[0m\u001b[0m\n\u001b[0m\u001b[1;32m    897\u001b[0m             \u001b[0;32melse\u001b[0m\u001b[0;34m:\u001b[0m\u001b[0;34m\u001b[0m\u001b[0m\n\u001b[1;32m    898\u001b[0m                 \u001b[0mfh\u001b[0m \u001b[0;34m=\u001b[0m \u001b[0miter\u001b[0m\u001b[0;34m(\u001b[0m\u001b[0mopen\u001b[0m\u001b[0;34m(\u001b[0m\u001b[0mfname\u001b[0m\u001b[0;34m)\u001b[0m\u001b[0;34m)\u001b[0m\u001b[0;34m\u001b[0m\u001b[0m\n",
      "\u001b[0;31mIOError\u001b[0m: [Errno 2] No such file or directory: 'data_txt/acf_comparison_dmass_spt_high.txt'"
     ]
    }
   ],
   "source": [
    "###############\n",
    "DAT = np.loadtxt('data_txt/acf_comparison_dmass_spt_high.txt')\n",
    "meanr, xi, xi_err = [DAT[:,i] for i in range(3)]\n",
    "DAT2 = np.loadtxt('data_txt/acf_comparison_cmass_sgc_high.txt')\n",
    "meanr2, xi2, xi_err2 = [DAT2[:,i] for i in range(3)]\n",
    "\n",
    "fig, ax = plt.subplots(figsize = (7, 5))\n",
    "ax.errorbar(meanr2, xi2, yerr = xi_err2, fmt = '.k', label='cmass sgc high')\n",
    "ax.errorbar(meanr*1.05, xi, yerr = xi_err, fmt = '.r', label='dmass spt high')\n",
    "\n",
    "#ax.errorbar(meanr3*0.95, xi3, yerr = xi_err3, fmt = '.b', label='dmass spt rand')\n",
    "\n",
    "\n",
    "chisqr = np.sum( (xi-xi2)**2/xi_err**2 )*1./xi.size\n",
    "\n",
    "ax.set_xscale('log')\n",
    "ax.set_yscale('log')\n",
    "ax.legend(loc = 'best', fontsize = 12)\n",
    "ax.text(1.5, 0.07, r'$\\chi^2$ = {:0.3f}'.format(chisqr), fontsize = 12)\n",
    "ax.set_ylim(1e-3,)\n",
    "ax.set_xlabel(r'$\\theta$ (deg)', fontsize = 12)\n",
    "ax.set_ylabel(r'$w(\\theta)$', fontsize = 12)\n",
    "\n",
    "#fig.savefig('figure/acf_comparison_cmass_dmass.pdf')"
   ]
  },
  {
   "cell_type": "code",
   "execution_count": null,
   "metadata": {},
   "outputs": [],
   "source": []
  }
 ],
 "metadata": {
  "kernelspec": {
   "display_name": "Python 2",
   "language": "python",
   "name": "python2"
  },
  "language_info": {
   "codemirror_mode": {
    "name": "ipython",
    "version": 2
   },
   "file_extension": ".py",
   "mimetype": "text/x-python",
   "name": "python",
   "nbconvert_exporter": "python",
   "pygments_lexer": "ipython2",
   "version": "2.7.14"
  }
 },
 "nbformat": 4,
 "nbformat_minor": 2
}
