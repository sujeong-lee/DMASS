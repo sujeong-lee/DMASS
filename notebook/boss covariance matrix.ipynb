{
 "cells": [
  {
   "cell_type": "code",
   "execution_count": 1,
   "metadata": {},
   "outputs": [
    {
     "name": "stderr",
     "output_type": "stream",
     "text": [
      "/n/home00/lee.5922/.local/lib/python2.7/site-packages/subprocess32.py:472: RuntimeWarning: The _posixsubprocess module is not being used. Child process reliability may suffer if your program uses threads.\n",
      "  \"program uses threads.\", RuntimeWarning)\n"
     ]
    }
   ],
   "source": [
    "from xd import *\n",
    "from utils import *\n",
    "import esutil\n",
    "import healpy as hp\n",
    "from systematics import *\n",
    "\n",
    "from matplotlib import rc\n",
    "import matplotlib.pylab as plt\n",
    "\n",
    "#rc('font', **{'family': 'serif', 'serif': ['Computer Modern']})\n",
    "#rc('text', usetex=True)\n",
    "\n",
    "from matplotlib.backends.backend_pdf import PdfPages\n",
    "%matplotlib inline\n",
    "\n",
    "%load_ext autoreload\n",
    "%autoreload 2"
   ]
  },
  {
   "cell_type": "code",
   "execution_count": 6,
   "metadata": {},
   "outputs": [],
   "source": [
    "def calling_cmasscov(filename):\n",
    "    cov_data = np.genfromtxt(filename)\n",
    "    cov = np.zeros((112,112))\n",
    "    for i in range(cov_data.shape[0]):\n",
    "        ind1, ind2, co = cov_data[i,:]\n",
    "        cov[int(ind1)-1][int(ind2)-1] = co\n",
    "    return cov"
   ]
  },
  {
   "cell_type": "code",
   "execution_count": 20,
   "metadata": {},
   "outputs": [],
   "source": [
    "#Ibanez covariance matrix\n",
    "filename = '../../bandpower/SNR/data_txt/cov/Pellejero-Ibanez/Pellejero-Ibanez_2016_LOWZDR12_CMASSDR12_covariance_matrix_from_mocks.dat'\n",
    "cov = calling_cmasscov(filename)\n",
    "cov_cmass0 = cov[28:28+28,28:28+28]\n",
    "cov_cmass02 = cov[28:28+28, -28:]\n",
    "cov_cmass20 = cov[-28: ,28:28+28]\n",
    "cov_cmass2 = cov[-28:,-28:]\n",
    "\n",
    "cov_cmass = np.vstack(( np.hstack((cov_cmass0, cov_cmass02 )), np.hstack((cov_cmass20, cov_cmass2 )) ))\n",
    "np.savetxt('../../bandpower/SNR/data_txt/cov/Pellejero-Ibanez/Pellejero-Ibanez_2016_CMASSDR12_covariance_matrix.dat', cov_cmass)\n",
    "np.savetxt('../../bandpower/SNR/data_txt/cov/Pellejero-Ibanez/Pellejero-Ibanez_2016_CMASSDR12_fisher_matrix.dat', np.linalg.inv(cov_cmass))\n",
    "np.savetxt('../../bandpower/SNR/data_txt/cov/Pellejero-Ibanez/Pellejero-Ibanez_2016_CMASSDR12_monopole_fisher_matrix.dat', np.linalg.inv(cov_cmass0))\n"
   ]
  },
  {
   "cell_type": "code",
   "execution_count": 8,
   "metadata": {},
   "outputs": [],
   "source": [
    "datav = np.genfromtxt('../../bandpower/SNR/data_txt/cov/Pellejero-Ibanez/Pellejero-Ibanez_2016_LOWZDR12_CMASSDR12_correlation_function_monopole_z43z75.dat')"
   ]
  },
  {
   "cell_type": "code",
   "execution_count": 19,
   "metadata": {},
   "outputs": [],
   "source": [
    "mask = np.genfromtxt('../../bandpower/SNR/data_txt/datav/mcmc_ibanez_xionly_b.mask')\n",
    "datavector = np.zeros(mask.size)\n",
    "\n",
    "measured = np.genfromtxt('data_txt/cfz_multipole_comparison_random.txt')[:,1]\n",
    "datavector[1500:1500+28] = measured\n",
    "np.savetxt('../../bandpower/SNR/data_txt/datav/cmass_sgc_ngc_random.datavector', datavector)\n",
    "\n",
    "measured = np.genfromtxt('data_txt/cfz_multipole_comparison_random_zcut.txt')[:,1]\n",
    "datavector[1500:1500+28] = measured\n",
    "np.savetxt('../../bandpower/SNR/data_txt/datav/cmass_sgc_ngc_random_zcut.datavector', datavector)\n",
    "\n",
    "measured0 = np.genfromtxt('data_txt/cfz_multipole_comparison_random.txt')[:,1]\n",
    "measured2 = np.genfromtxt('data_txt/cfz_multipole_comparison_random.txt')[:,2]\n",
    "measured = np.hstack((measured0, measured2)) \n",
    "datavector[1500:1500+28+28] = measured\n",
    "np.savetxt('../../bandpower/SNR/data_txt/datav/cmass_sgc_ngc_random_02.datavector', datavector)\n",
    "\n",
    "\n",
    "measured0 = np.genfromtxt('data_txt/cfz_multipole_comparison_random_zcut.txt')[:,1]\n",
    "measured2 = np.genfromtxt('data_txt/cfz_multipole_comparison_random_zcut.txt')[:,2]\n",
    "measured = np.hstack((measured0, measured2)) \n",
    "\n",
    "datavector[1500:1500+28+28] = measured\n",
    "np.savetxt('../../bandpower/SNR/data_txt/datav/cmass_sgc_ngc_random_zcut_02.datavector', datavector)"
   ]
  },
  {
   "cell_type": "code",
   "execution_count": 18,
   "metadata": {},
   "outputs": [
    {
     "data": {
      "text/plain": [
       "28"
      ]
     },
     "execution_count": 18,
     "metadata": {},
     "output_type": "execute_result"
    }
   ],
   "source": []
  },
  {
   "cell_type": "code",
   "execution_count": 47,
   "metadata": {},
   "outputs": [
    {
     "data": {
      "text/plain": [
       "array([   7.5,   12.5,   17.5,   22.5,   27.5,   32.5,   37.5,   42.5,\n",
       "         47.5,   52.5,   57.5,   62.5,   67.5,   72.5,   77.5,   82.5,\n",
       "         87.5,   92.5,   97.5,  102.5,  107.5,  112.5,  117.5,  122.5,\n",
       "        127.5,  132.5,  137.5,  142.5,  147.5,  152.5,  157.5,  162.5,\n",
       "        167.5,  172.5,  177.5,  182.5,  187.5,  192.5,  197.5])"
      ]
     },
     "execution_count": 47,
     "metadata": {},
     "output_type": "execute_result"
    }
   ],
   "source": [
    "datav[:,0]"
   ]
  },
  {
   "cell_type": "code",
   "execution_count": 72,
   "metadata": {},
   "outputs": [],
   "source": [
    "rbin, rstep = np.linspace(5, 200, 40 , retstep=True)"
   ]
  },
  {
   "cell_type": "code",
   "execution_count": 75,
   "metadata": {},
   "outputs": [
    {
     "name": "stdout",
     "output_type": "stream",
     "text": [
      "[  42.5   47.5   52.5   57.5   62.5   67.5   72.5   77.5   82.5   87.5\n",
      "   92.5   97.5  102.5  107.5  112.5  117.5  122.5  127.5  132.5  137.5\n",
      "  142.5  147.5  152.5  157.5  162.5  167.5  172.5  177.5]\n"
     ]
    }
   ],
   "source": [
    "rcenter = rbin[:-1]+rstep*0.5\n",
    "print rcenter[7:-4]"
   ]
  },
  {
   "cell_type": "code",
   "execution_count": 41,
   "metadata": {},
   "outputs": [
    {
     "data": {
      "text/plain": [
       "<matplotlib.image.AxesImage at 0x7fb248579490>"
      ]
     },
     "execution_count": 41,
     "metadata": {},
     "output_type": "execute_result"
    },
    {
     "data": {
      "image/png": "[encoded data removed]",
      "text/plain": [
       "<matplotlib.figure.Figure at 0x7fb248753950>"
      ]
     },
     "metadata": {},
     "output_type": "display_data"
    },
    {
     "data": {
      "image/png": "[encoded data removed]",
      "text/plain": [
       "<matplotlib.figure.Figure at 0x7fb248773590>"
      ]
     },
     "metadata": {},
     "output_type": "display_data"
    }
   ],
   "source": [
    "fig, ax = plt.subplots()\n",
    "ax.imshow(cmasscov)\n",
    "\n",
    "fig, ax = plt.subplots()\n",
    "ax.imshow(cov_cmass)"
   ]
  },
  {
   "cell_type": "code",
   "execution_count": 166,
   "metadata": {},
   "outputs": [
    {
     "data": {
      "text/plain": [
       "array([ 0.03434516, -0.        , -0.        , -0.        , -0.        ,\n",
       "       -0.        , -0.        , -0.        , -0.        , -0.        ,\n",
       "       -0.        , -0.        , -0.        , -0.        , -0.        ,\n",
       "       -0.        , -0.        , -0.        , -0.        , -0.        ,\n",
       "       -0.        , -0.        , -0.        , -0.        , -0.        ,\n",
       "       -0.        , -0.        , -0.        , -0.        ])"
      ]
     },
     "execution_count": 166,
     "metadata": {},
     "output_type": "execute_result"
    }
   ],
   "source": [
    "theoretical_datav[mask][-29:]"
   ]
  },
  {
   "cell_type": "code",
   "execution_count": 198,
   "metadata": {},
   "outputs": [
    {
     "data": {
      "text/plain": [
       "<matplotlib.legend.Legend at 0x7fb24592d3d0>"
      ]
     },
     "execution_count": 198,
     "metadata": {},
     "output_type": "execute_result"
    },
    {
     "data": {
      "image/png": "[encoded data removed]",
      "text/plain": [
       "<matplotlib.figure.Figure at 0x7fb2458519d0>"
      ]
     },
     "metadata": {},
     "output_type": "display_data"
    }
   ],
   "source": [
    "datav0 = np.genfromtxt('../../bandpower/SNR/data_txt/cov/Pellejero-Ibanez/Pellejero-Ibanez_2016_LOWZDR12_CMASSDR12_correlation_function_monopole_z43z75.dat')\n",
    "datav2 = np.genfromtxt('../../bandpower/SNR/data_txt/cov/Pellejero-Ibanez/Pellejero-Ibanez_2016_LOWZDR12_CMASSDR12_correlation_function_quadrupole_z43z75.dat')\n",
    "\n",
    "theoretical_datav = np.genfromtxt('../../bandpower/SNR/data_txt/datav/mcmc_ibanez_xionly_bf_02.datavector')\n",
    "mask = np.genfromtxt('../../bandpower/SNR/data_txt/datav/mcmc_ibanez_xionly_b.mask')\n",
    "mask = np.array([bool(m) for m in mask ])\n",
    "\n",
    "rcenter = np.linspace(40, 180, 29)\n",
    "\n",
    "fig, ax = plt.subplots()\n",
    "ax.loglog(datav0[:,0], datav0[:,1], label = 'data monopole')\n",
    "ax.loglog(datav2[:,0], -1 * datav2[:,1], label = 'data quad')\n",
    "ax.loglog(rcenter[::-1], theoretical_datav[mask][:29], label='theory monopole')\n",
    "ax.loglog(rcenter[::-1], -1* theoretical_datav[mask][:29], color=ax.lines[-1].get_color() , linestyle='--')\n",
    "ax.loglog(rcenter[::-1], -1 * theoretical_datav[mask][-29:], label='theory quad')\n",
    "ax.loglog(rcenter[::-1], -1* theoretical_datav[mask][-29:], color=ax.lines[-1].get_color() , linestyle='--')\n",
    "ax.legend()"
   ]
  },
  {
   "cell_type": "code",
   "execution_count": 171,
   "metadata": {},
   "outputs": [
    {
     "data": {
      "text/plain": [
       "1584"
      ]
     },
     "execution_count": 171,
     "metadata": {},
     "output_type": "execute_result"
    }
   ],
   "source": [
    "mask.size"
   ]
  },
  {
   "cell_type": "code",
   "execution_count": 194,
   "metadata": {},
   "outputs": [],
   "source": [
    "datavector = np.zeros(mask.size)\n",
    "datavector[1500:1500+28] = datav0[:,1][7:-4]\n",
    "datavector[1500+28:1500+28+28] = datav2[:,1][7:-4]\n",
    "np.savetxt('../../bandpower/SNR/data_txt/datav/Pellejero-Ibanez_2016_LOWZDR12_CMASSDR12_correlation_function_z43z75.datavector',\n",
    "           datavector)"
   ]
  },
  {
   "cell_type": "code",
   "execution_count": 202,
   "metadata": {},
   "outputs": [
    {
     "data": {
      "text/plain": [
       "array([  40.        ,   40.61234787,   41.23406999,   41.86530986,\n",
       "         42.50621319,   43.15692792,   43.81760424,   44.48839466,\n",
       "         45.169454  ,   45.86093947,   46.56301069,   47.2758297 ,\n",
       "         47.99956104,   48.73437176,   49.48043148,   50.2379124 ,\n",
       "         51.00698937,   51.7878399 ,   52.58064424,   53.38558537,\n",
       "         54.20284911,   55.03262409,   55.87510184,   56.73047683,\n",
       "         57.5989465 ,   58.4807113 ,   59.37597478,   60.28494357,\n",
       "         61.20782749,   62.14483956,   63.09619606,   64.06211659,\n",
       "         65.04282411,   66.03854498,   67.04950904,   68.07594964,\n",
       "         69.11810371,   70.17621179,   71.25051814,   72.34127071,\n",
       "         73.44872129,   74.57312549,   75.71474285,   76.87383689,\n",
       "         78.05067515,   79.24552926,   80.45867504,   81.6903925 ,\n",
       "         82.94096594,   84.21068404,   85.49983986,   86.80873098,\n",
       "         88.13765952,   89.48693222,   90.85686053,   92.24776065,\n",
       "         93.65995365,   95.09376548,   96.54952709,   98.02757452,\n",
       "         99.52824894,  101.05189672,  102.59886956,  104.16952454,\n",
       "        105.7642242 ,  107.38333663,  109.02723557,  110.69630046,\n",
       "        112.39091655,  114.11147501,  115.85837297,  117.63201367,\n",
       "        119.4328065 ,  121.26116711,  123.11751755,  125.00228629,\n",
       "        126.91590838,  128.85882553,  130.83148622,  132.83434576,\n",
       "        134.86786648,  136.93251775,  139.02877614,  141.15712551,\n",
       "        143.31805714,  145.51206981,  147.73966996,  150.00137177,\n",
       "        152.29769728,  154.62917654,  156.99634771,  159.39975719,\n",
       "        161.83995973,  164.3175186 ,  166.83300566,  169.38700155,\n",
       "        171.98009579,  174.61288692,  177.28598265,  180.        ])"
      ]
     },
     "execution_count": 202,
     "metadata": {},
     "output_type": "execute_result"
    }
   ],
   "source": [
    "np.logspace(np.log10(40), np.log10(180), 100)"
   ]
  },
  {
   "cell_type": "code",
   "execution_count": 224,
   "metadata": {},
   "outputs": [],
   "source": [
    "filename = '/n/des/lee.5922/programs/cosmolike/MG_musigma/cov/cov_cmass_wtheta_only'\n",
    "def calling_cmasscov(filename):\n",
    "    cov_data = np.genfromtxt(filename)\n",
    "    cov = np.zeros((79,79))\n",
    "    for i in range(cov_data.shape[0]):\n",
    "        ind1, ind2, _,_,_,_,_,_, co,_ = cov_data[i,:]\n",
    "        cov[int(ind1)-1][int(ind2)-1] = co\n",
    "    return cov\n",
    "\n",
    "cov = calling_cmasscov(filename)\n",
    "#np.savetxt(filename, cov[-20:,-20:])"
   ]
  },
  {
   "cell_type": "code",
   "execution_count": 223,
   "metadata": {},
   "outputs": [
    {
     "data": {
      "text/plain": [
       "<matplotlib.image.AxesImage at 0x7fb245fd85d0>"
      ]
     },
     "execution_count": 223,
     "metadata": {},
     "output_type": "execute_result"
    },
    {
     "data": {
      "image/png": "[encoded data removed]",
      "text/plain": [
       "<matplotlib.figure.Figure at 0x7fb245fd8090>"
      ]
     },
     "metadata": {},
     "output_type": "display_data"
    }
   ],
   "source": [
    "fig, ax = plt.subplots()\n",
    "ax.imshow(np.log10(cov[-20:,-20:]) )"
   ]
  },
  {
   "cell_type": "code",
   "execution_count": 225,
   "metadata": {},
   "outputs": [
    {
     "data": {
      "text/plain": [
       "(20, 20)"
      ]
     },
     "execution_count": 225,
     "metadata": {},
     "output_type": "execute_result"
    }
   ],
   "source": [
    "cov[-20:,-20:].shape"
   ]
  },
  {
   "cell_type": "code",
   "execution_count": null,
   "metadata": {},
   "outputs": [],
   "source": []
  }
 ],
 "metadata": {
  "kernelspec": {
   "display_name": "Python 2",
   "language": "python",
   "name": "python2"
  },
  "language_info": {
   "codemirror_mode": {
    "name": "ipython",
    "version": 2
   },
   "file_extension": ".py",
   "mimetype": "text/x-python",
   "name": "python",
   "nbconvert_exporter": "python",
   "pygments_lexer": "ipython2",
   "version": "2.7.14"
  }
 },
 "nbformat": 4,
 "nbformat_minor": 1
}
