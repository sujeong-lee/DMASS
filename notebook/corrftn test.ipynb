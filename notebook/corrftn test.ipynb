{
 "cells": [
  {
   "cell_type": "code",
   "execution_count": 6,
   "metadata": {},
   "outputs": [],
   "source": [
    "import sys\n",
    "sys.path.append('../')\n",
    "\n",
    "import numpy as np\n",
    "import Corrfunc\n",
    "from os.path import dirname, abspath, join as pjoin\n",
    "#from Corrfunc.io import read_catalog\n",
    "%matplotlib inline\n",
    "\n",
    "%load_ext autoreload\n",
    "%autoreload 2"
   ]
  },
  {
   "cell_type": "code",
   "execution_count": 2,
   "metadata": {},
   "outputs": [],
   "source": [
    "def rp_pi_counts_to_smu( Ncounts, sbin, mubin ):\n",
    "    #rp = Ncounts['rpavg']\n",
    "    rp = (Ncounts['rmax']+Ncounts['rmax'])/2.\n",
    "    pi = Ncounts['pimax'] - 0.5\n",
    "    npairs = Ncounts['npairs']# * Ncounts['weightavg']\n",
    "    s = np.sqrt(rp**2 + pi**2)\n",
    "    mu = pi/s\n",
    "   \n",
    "    new_npairs = np.zeros((sbin.size-1, mubin.size-1))\n",
    "    wsqr = np.zeros((sbin.size-1, mubin.size-1))\n",
    "    for i in range(s.size-1):\n",
    "        ind_s = np.digitize( s[i], sbin )\n",
    "        ind_mu = np.digitize( mu[i], mubin )\n",
    "        #print s[i], mu[i], ind_s, ind_mu, npairs[i]\n",
    "        if ind_s == 0 or ind_s == sbin.size: pass\n",
    "        elif ind_mu == 0 or ind_mu == mubin.size: pass\n",
    "        else : new_npairs[ind_s-1, ind_mu-1] += npairs[i]\n",
    "\n",
    "    return new_npairs\n",
    "\n",
    "def cf_smu( DD_counts, DR_counts, RR_counts, sbin, mubin, N, Nrand):        \n",
    "\n",
    "    #fN = np.float(Nrand)/np.float(N)\n",
    "    DD_counts_smu = rp_pi_counts_to_smu( DD_counts, sbin, mubin )\n",
    "    DR_counts_smu = rp_pi_counts_to_smu( DR_counts, sbin, mubin )\n",
    "    RR_counts_smu = rp_pi_counts_to_smu( RR_counts, sbin, mubin )\n",
    "\n",
    "    #fN = np.sqrt( np.sum(RR_counts_smu)*1./np.sum(DD_counts_smu) )\n",
    " \n",
    "    # total weight\n",
    "    wd = np.sqrt(np.sum(DD_counts_smu))\n",
    "    wdr = np.sqrt(np.sum(DR_counts_smu))\n",
    "    wr = np.sqrt(np.sum(RR_counts_smu))\n",
    "\n",
    "    # normalization\n",
    "    norm_DD = DD_counts_smu * 1./wd**2\n",
    "    norm_DR = DR_counts_smu * 1./wdr**2\n",
    "    norm_RR = RR_counts_smu * 1./wr**2\n",
    "\n",
    "    zeromask = (norm_RR == 0.0)\n",
    "    norm_RR[zeromask] = 0.0  # to avoid zero divide error. will be excluded at the end.\n",
    "\n",
    "    #xi = (fN**2*norm_DD - 2*fN* norm_DR + norm_RR)/(norm_RR)\n",
    "    xi = (norm_DD - 2*norm_DR + norm_RR)/(norm_RR)\n",
    "\n",
    "    xi[zeromask] = 0.0\n",
    "    \n",
    "    return xi"
   ]
  },
  {
   "cell_type": "code",
   "execution_count": 2,
   "metadata": {},
   "outputs": [],
   "source": [
    "import numpy as np\n",
    "import Corrfunc\n",
    "from os.path import dirname, abspath, join as pjoin\n",
    "from Corrfunc.io import read_catalog\n",
    "import esutil\n",
    "\n",
    "cmass_south = esutil.io.read('/n/des/lee.5922/data/cmass_cat/galaxy_DR12v5_CMASS_South_DC.fits.gz'\n",
    "                                  , ensure_native =True)\n",
    "#cmass_north = esutil.io.read('/n/des/lee.5922/data/cmass_cat/galaxy_DR12v5_CMASS_North_DC.fits.gz'\n",
    "#                                  , ensure_native =True)\n",
    "\n",
    "randoms_south = esutil.io.read('/n/des/lee.5922/data/cmass_cat/random0_DR12v5_CMASS_South_DC.fits.gz'\n",
    "                                    , columns=['RA', 'DEC', 'Z', 'DC','WEIGHT_FKP'], ensure_native =True)\n",
    "#randoms_north = esutil.io.read('/n/des/lee.5922/data/cmass_cat/random0_DR12v5_CMASS_North_DC.fits.gz'\n",
    "#                                    , columns=['RA', 'DEC', 'Z', 'DC', 'WEIGHT_FKP'], ensure_native =True)"
   ]
  },
  {
   "cell_type": "code",
   "execution_count": 4,
   "metadata": {},
   "outputs": [],
   "source": [
    "indrand = np.random.choice(randoms_south.size, size = randoms_south.size/10)"
   ]
  },
  {
   "cell_type": "code",
   "execution_count": 5,
   "metadata": {},
   "outputs": [],
   "source": [
    "randoms_south = randoms_south[indrand]"
   ]
  },
  {
   "cell_type": "code",
   "execution_count": 25,
   "metadata": {},
   "outputs": [],
   "source": [
    "RA, DEC, CZ = cmass_south['RA'], cmass_south['DEC'], cmass_south['DC']\n",
    "WEIGHT = np.float64(cmass_south['WEIGHT_FKP']*cmass_south['WEIGHT_SYSTOT']*(cmass_south['WEIGHT_NOZ']+cmass_south['WEIGHT_CP']-1)) \n",
    "N = RA.size\n",
    "RAND_RA, RAND_DEC, RAND_CZ = randoms_south['RA'], randoms_south['DEC'], randoms_south['DC'] \n",
    "RAND_WEIGHT = np.float64(randoms_south['WEIGHT_FKP'])\n",
    "rand_N = RAND_RA.size"
   ]
  },
  {
   "cell_type": "code",
   "execution_count": null,
   "metadata": {},
   "outputs": [],
   "source": [
    "from Corrfunc.mocks.DDrppi_mocks import DDrppi_mocks\n",
    "results_DDrppi_mocks = DDrppi_mocks(1, 2, 20, pimax, rbins, RA, DEC, CZ, is_comoving_dist=comoving)\n",
    "results_DRrppi_mocks = DDrppi_mocks(0, 2, 20, pimax, rbins, RA, DEC, CZ, RA2=RAND_RA, DEC2=RAND_DEC, CZ2=RAND_CZ, is_comoving_dist=comoving)\n",
    "results_RRrppi_mocks = DDrppi_mocks(1, 2, 20, pimax, rbins, RAND_RA, RAND_DEC, RAND_CZ, is_comoving_dist=comoving)    "
   ]
  },
  {
   "cell_type": "code",
   "execution_count": 44,
   "metadata": {},
   "outputs": [],
   "source": [
    "from Corrfunc.utils import convert_rp_pi_counts_to_wp\n",
    "wp = convert_rp_pi_counts_to_wp(N, N, rand_N, rand_N,\n",
    "                                 results_DDrppi_mocks, results_DRrppi_mocks,\n",
    "                                 results_DRrppi_mocks, results_RRrppi_mocks, nbins, pimax)"
   ]
  },
  {
   "cell_type": "code",
   "execution_count": 45,
   "metadata": {},
   "outputs": [
    {
     "data": {
      "text/plain": [
       "[<matplotlib.lines.Line2D at 0x7f8ef91b0210>]"
      ]
     },
     "execution_count": 45,
     "metadata": {},
     "output_type": "execute_result"
    },
    {
     "data": {
      "image/png": "[encoded data removed]",
      "text/plain": [
       "<matplotlib.figure.Figure at 0x7f8ef91b01d0>"
      ]
     },
     "metadata": {},
     "output_type": "display_data"
    }
   ],
   "source": [
    "import matplotlib.pyplot as plt\n",
    "fig, ax = plt.subplots()\n",
    "ax.loglog(rbins[:-1], wp )"
   ]
  },
  {
   "cell_type": "code",
   "execution_count": 46,
   "metadata": {},
   "outputs": [],
   "source": [
    "sbin = np.linspace(40, 200, 20)"
   ]
  },
  {
   "cell_type": "code",
   "execution_count": 47,
   "metadata": {},
   "outputs": [
    {
     "data": {
      "text/plain": [
       "array([     54,       0,       0, ..., 1665024, 1660216, 1657178],\n",
       "      dtype=uint64)"
      ]
     },
     "execution_count": 47,
     "metadata": {},
     "output_type": "execute_result"
    }
   ],
   "source": [
    "results_DDrppi_mocks['npairs']"
   ]
  },
  {
   "cell_type": "code",
   "execution_count": 48,
   "metadata": {},
   "outputs": [],
   "source": [
    "DD_counts_smu = rp_pi_counts_to_smu( results_DDrppi_mocks, sbin, mubins )\n",
    "DR_counts_smu = rp_pi_counts_to_smu( results_DRrppi_mocks, sbin, mubins )\n",
    "RR_counts_smu = rp_pi_counts_to_smu( results_RRrppi_mocks, sbin, mubins )"
   ]
  },
  {
   "cell_type": "code",
   "execution_count": 10,
   "metadata": {},
   "outputs": [
    {
     "data": {
      "text/plain": [
       "array([0.78129071, 0.26221457, 0.3515543 , ..., 0.70903438, 0.33493173,\n",
       "       0.21407673])"
      ]
     },
     "execution_count": 10,
     "metadata": {},
     "output_type": "execute_result"
    }
   ],
   "source": [
    "WEIGHT"
   ]
  },
  {
   "cell_type": "code",
   "execution_count": null,
   "metadata": {},
   "outputs": [
    {
     "name": "stderr",
     "output_type": "stream",
     "text": [
      "In gridlink_mocks_index_particles_double> Running with [nmesh_x, nmesh_y, nmesh_z]  = 22,29,8.  Time taken =   0.036 sec\n",
      "0%.........10%.........20%.........30%.........40%.........50%.........60%.........70%.........80%.........90%.........100% done. Time taken =  2.020 secs\n",
      "In gridlink_mocks_index_particles_double> Running with [nmesh_x, nmesh_y, nmesh_z]  = 25,32,9.  Time taken =   0.035 sec\n",
      "In gridlink_mocks_index_particles_double> Running with [nmesh_x, nmesh_y, nmesh_z]  = 25,32,9.  Time taken =   2.437 sec\n",
      "0%.........10%.........20%.........30%.........40%.........50%.........60%......100% done. Time taken =     3 mins   27 secs\n",
      "In gridlink_mocks_index_particles_double> Running with [nmesh_x, nmesh_y, nmesh_z]  = 25,32,9.  Time taken =   2.450 sec\n",
      "countpairs_mocks_s_mu_double> gridlink seems inefficient. nmesh = (25, 32, 9); avg_np = 1.62e+03. Boosting bin refine factor - should lead to better performance\n",
      "In gridlink_mocks_index_particles_double> Running with [nmesh_x, nmesh_y, nmesh_z]  = 37,49,9.  Time taken =   3.253 sec\n",
      "0%.........10%.........20%.........30%.........40%.........50%...Received signal = `Interrupt' (signo = 2). Aborting \n",
      "Received signal = `Terminated' (signo = 15). Aborting \n"
     ]
    }
   ],
   "source": [
    "from Corrfunc.mocks.DDsmu_mocks import DDsmu_mocks\n",
    "\n",
    "mumax = 1\n",
    "nmubins = 100\n",
    "mubins, mus = np.linspace(0, mumax, nmubins, retstep=True)\n",
    "sbins = np.linspace(0.1, 200, 40)\n",
    "comoving = False\n",
    "nthreads = 30 \n",
    "\n",
    "comoving = True\n",
    "DD_counts_smu = DDsmu_mocks(1, 2, nthreads, mumax, nmubins, sbins, RA, DEC, CZ, weights1 = WEIGHT, \n",
    "                            verbose = True, is_comoving_dist=comoving, weight_type=\"pair_product\" )\n",
    "\n",
    "DR_counts_smu = DDsmu_mocks(0, 2, nthreads, mumax, nmubins, sbins, RA, DEC, CZ, RA2=RAND_RA, DEC2=RAND_DEC, CZ2=RAND_CZ, \n",
    "                            weights1 = WEIGHT, weights2 = RAND_WEIGHT, verbose = True, is_comoving_dist=comoving,\\\n",
    "                            weight_type=\"pair_product\")\n",
    "RR_counts_smu = DDsmu_mocks(1, 2, nthreads, mumax, nmubins, sbins, RAND_RA, RAND_DEC, RAND_CZ, \\\n",
    "                            weights1 = RAND_WEIGHT, verbose = True, is_comoving_dist=comoving,\\\n",
    "                            weight_type=\"pair_product\")\n"
   ]
  },
  {
   "cell_type": "code",
   "execution_count": 11,
   "metadata": {},
   "outputs": [
    {
     "data": {
      "text/plain": [
       "array([0.08247452, 0.08217628, 0.08176756, ..., 0.09647779, 0.09676369,\n",
       "       0.098195  ])"
      ]
     },
     "execution_count": 11,
     "metadata": {},
     "output_type": "execute_result"
    }
   ],
   "source": [
    "DD_counts_smu['weightavg']"
   ]
  },
  {
   "cell_type": "code",
   "execution_count": 12,
   "metadata": {},
   "outputs": [
    {
     "data": {
      "text/plain": [
       "array([ 41718,  42212,  41420, ..., 531316, 532036, 541322], dtype=uint64)"
      ]
     },
     "execution_count": 12,
     "metadata": {},
     "output_type": "execute_result"
    }
   ],
   "source": [
    "DD_counts_smu['npairs']"
   ]
  },
  {
   "cell_type": "code",
   "execution_count": 13,
   "metadata": {},
   "outputs": [
    {
     "data": {
      "text/plain": [
       "array([ 41718,  42212,  41420, ..., 531316, 532036, 541322], dtype=uint64)"
      ]
     },
     "execution_count": 13,
     "metadata": {},
     "output_type": "execute_result"
    }
   ],
   "source": [
    "DD_counts_smu['npairs']"
   ]
  },
  {
   "cell_type": "code",
   "execution_count": 17,
   "metadata": {},
   "outputs": [
    {
     "data": {
      "text/plain": [
       "array([0.78129071, 0.26221457, 0.3515543 , ..., 0.70903438, 0.33493173,\n",
       "       0.21407673])"
      ]
     },
     "execution_count": 17,
     "metadata": {},
     "output_type": "execute_result"
    }
   ],
   "source": [
    "WEIGHT"
   ]
  },
  {
   "cell_type": "code",
   "execution_count": 21,
   "metadata": {},
   "outputs": [],
   "source": [
    "N = RA.size\n",
    "rand_N = RAND_RA.size\n",
    "\n",
    "weightedN = np.sum(WEIGHT)\n",
    "weighted_rand_N = np.sum(RAND_WEIGHT)\n",
    "\n",
    "from Corrfunc.utils import convert_3d_counts_to_cf\n",
    "from systematics_module.corr import convert_3d_counts_to_cf_weight\n",
    "result_cf_weight = convert_3d_counts_to_cf_weight(weightedN, weightedN, weighted_rand_N, weighted_rand_N,\n",
    "                              DD_counts_smu, DR_counts_smu,\n",
    "                              DR_counts_smu, RR_counts_smu)\n",
    "\n",
    "result_cf = convert_3d_counts_to_cf(N, N, rand_N,rand_N,\n",
    "                              DD_counts_smu, DR_counts_smu,\n",
    "                              DR_counts_smu, RR_counts_smu)\n",
    "\n",
    "result_cf_weight_reshape = result_cf_weight.reshape(sbins.size-1,nmubins)\n",
    "result_cf_reshape = result_cf.reshape(sbins.size-1,nmubins)\n",
    "#result_cf = cf_smu( results_DDrppi_mocks, results_DRrppi_mocks, results_RRrppi_mocks, sbin, mubins, N, rand_N)"
   ]
  },
  {
   "cell_type": "code",
   "execution_count": 15,
   "metadata": {},
   "outputs": [],
   "source": []
  },
  {
   "cell_type": "code",
   "execution_count": 13,
   "metadata": {
    "collapsed": true
   },
   "outputs": [
    {
     "ename": "NameError",
     "evalue": "name 'result_cf_reshape' is not defined",
     "output_type": "error",
     "traceback": [
      "\u001b[0;31m---------------------------------------------------------------------------\u001b[0m",
      "\u001b[0;31mNameError\u001b[0m                                 Traceback (most recent call last)",
      "\u001b[0;32m<ipython-input-13-7d2a7c14bbbd>\u001b[0m in \u001b[0;36m<module>\u001b[0;34m()\u001b[0m\n\u001b[1;32m      8\u001b[0m \u001b[0;34m\u001b[0m\u001b[0m\n\u001b[1;32m      9\u001b[0m \u001b[0mxi_monopole_weight\u001b[0m \u001b[0;34m=\u001b[0m \u001b[0mnp\u001b[0m\u001b[0;34m.\u001b[0m\u001b[0msum\u001b[0m\u001b[0;34m(\u001b[0m\u001b[0mresult_cf_weight_reshape\u001b[0m \u001b[0;34m*\u001b[0m \u001b[0mlegendre0\u001b[0m\u001b[0;34m.\u001b[0m\u001b[0mT\u001b[0m\u001b[0;34m,\u001b[0m \u001b[0maxis\u001b[0m \u001b[0;34m=\u001b[0m \u001b[0;36m1\u001b[0m\u001b[0;34m)\u001b[0m\u001b[0;34m/\u001b[0m\u001b[0mmubins\u001b[0m\u001b[0;34m.\u001b[0m\u001b[0msize\u001b[0m\u001b[0;34m\u001b[0m\u001b[0m\n\u001b[0;32m---> 10\u001b[0;31m \u001b[0mxi_monopole\u001b[0m \u001b[0;34m=\u001b[0m \u001b[0mnp\u001b[0m\u001b[0;34m.\u001b[0m\u001b[0msum\u001b[0m\u001b[0;34m(\u001b[0m\u001b[0mresult_cf_reshape\u001b[0m \u001b[0;34m*\u001b[0m \u001b[0mlegendre0\u001b[0m\u001b[0;34m.\u001b[0m\u001b[0mT\u001b[0m\u001b[0;34m,\u001b[0m \u001b[0maxis\u001b[0m \u001b[0;34m=\u001b[0m \u001b[0;36m1\u001b[0m\u001b[0;34m)\u001b[0m\u001b[0;34m/\u001b[0m\u001b[0mmubins\u001b[0m\u001b[0;34m.\u001b[0m\u001b[0msize\u001b[0m\u001b[0;34m\u001b[0m\u001b[0m\n\u001b[0m",
      "\u001b[0;31mNameError\u001b[0m: name 'result_cf_reshape' is not defined"
     ]
    }
   ],
   "source": [
    "import scipy\n",
    "from scipy.special import eval_legendre\n",
    "\n",
    "#mubins, mus = np.linspace(0, mumax, nmubins, retstep=True)\n",
    "#mucenter = mubins[:-1]+mus/2.\n",
    "legendre0 = np.array([scipy.special.eval_legendre(0,m) for m in mubins]).ravel() \n",
    "legendre2 = np.array([scipy.special.eval_legendre(2,m) for m in mubins]).ravel() \n",
    "\n",
    "xi_monopole_weight = np.sum(result_cf_weight_reshape * legendre0.T, axis = 1)/mubins.size\n",
    "xi_monopole = np.sum(result_cf_reshape * legendre0.T, axis = 1)/mubins.size"
   ]
  },
  {
   "cell_type": "code",
   "execution_count": null,
   "metadata": {},
   "outputs": [],
   "source": [
    "import pickle\n",
    "DD_counts_smu = pickle.load(open('../data_txt/full_cmass_single//dd_jk0.pkl'))\n",
    "DR_counts_smu = pickle.load(open('../data_txt/full_cmass_single//dr_jk0.pkl'))\n",
    "RR_counts_smu = pickle.load(open('../data_txt/full_cmass_single//rr_jk0.pkl'))\n",
    "\n",
    "from systematics_module.corr import convert_3d_counts_to_cf_weight\n",
    "result_cf_weight = convert_3d_counts_to_cf_weight(291199.06, 291199.06, 14029838.044708865, 14029838.044708865,\n",
    "                              DD_counts_smu, DR_counts_smu,\n",
    "                              DR_counts_smu, RR_counts_smu)\n",
    "result_cf_weight_reshape = result_cf_weight.reshape(39, 100) \n",
    "\n",
    "import scipy\n",
    "from scipy.special import eval_legendre\n",
    "\n",
    "mubins, mus = np.linspace(0, 1, 100, retstep=True)\n",
    "sbins, ss = np.linspace(0.1, 200, 40, retstep=True)\n",
    "#mucenter = mubins[:-1]+mus/2.\n",
    "legendre0 = np.array([scipy.special.eval_legendre(0,m) for m in mubins]).ravel() \n",
    "legendre2 = np.array([scipy.special.eval_legendre(2,m) for m in mubins]).ravel() \n",
    "\n",
    "xi_monopole_weight = np.sum(result_cf_weight_reshape * legendre0.T, axis = 1)/mubins.size"
   ]
  },
  {
   "cell_type": "code",
   "execution_count": 16,
   "metadata": {},
   "outputs": [
    {
     "data": {
      "text/plain": [
       "[<matplotlib.lines.Line2D at 0x7fcb4678ef90>]"
      ]
     },
     "execution_count": 16,
     "metadata": {},
     "output_type": "execute_result"
    },
    {
     "data": {
      "image/png": "[encoded data removed]",
      "text/plain": [
       "<matplotlib.figure.Figure at 0x7fcb4898b290>"
      ]
     },
     "metadata": {},
     "output_type": "display_data"
    }
   ],
   "source": [
    "import matplotlib.pyplot as plt\n",
    "\n",
    "theory_corr = np.genfromtxt('../../../bandpower/SNR/data_txt/datav/mcmc_Ashley_xionly_b_p0.datavector')[1500:1500+42]\n",
    "theory_rr = np.linspace(32, 200, 43)[:-1] + 2.5\n",
    "\n",
    "fig, ax = plt.subplots()\n",
    "#ax.plot(sbins[:-1], sbins[:-1]**2*xi_monopole)\n",
    "ax.plot(sbins[:-1], sbins[:-1]**2*xi_monopole_weight)\n",
    "ax.plot(theory_rr[::-1], theory_rr[::-1]**2*theory_corr)\n"
   ]
  },
  {
   "cell_type": "code",
   "execution_count": null,
   "metadata": {},
   "outputs": [],
   "source": [
    "from scipy.special import eval_legendre\n",
    "\n",
    "mubins, mus = np.linspace(0, mumax, nmubins, retstep=True)\n",
    "mucenter = mubins[:-1]+mus/2.\n",
    "legendre0 = np.array([scipy.special.eval_legendre(0,m) for m in mucenter]).ravel() \n",
    "legendre2 = np.array([scipy.special.eval_legendre(2,m) for m in mucenter]).ravel() \n",
    "\n",
    "xi_monopole = np.sum(cf_smu * legendre0.T, axis = 1)/mucenter.size"
   ]
  },
  {
   "cell_type": "code",
   "execution_count": 49,
   "metadata": {},
   "outputs": [
    {
     "name": "stderr",
     "output_type": "stream",
     "text": [
      "/n/home00/lee.5922/.local/lib/python2.7/site-packages/ipykernel_launcher.py:44: RuntimeWarning: invalid value encountered in divide\n"
     ]
    }
   ],
   "source": [
    "result_cf = cf_smu( results_DDrppi_mocks, results_DRrppi_mocks, results_RRrppi_mocks, sbin, mubins, N, rand_N)\n",
    "\n",
    "import scipy\n",
    "from scipy.special import eval_legendre\n",
    "mucenter = mubins[:-1]+mus/2.\n",
    "legendre0 = np.array([scipy.special.eval_legendre(0,m) for m in mucenter]).ravel() \n",
    "legendre2 = np.array([scipy.special.eval_legendre(2,m) for m in mucenter]).ravel() \n",
    "\n",
    "xi_monopole = np.sum(result_cf * legendre0.T, axis = 1)/mucenter.size"
   ]
  },
  {
   "cell_type": "code",
   "execution_count": 50,
   "metadata": {},
   "outputs": [
    {
     "data": {
      "text/plain": [
       "array([ 3.15925342e-02,  1.73104734e-02,  1.35098092e-02,  4.77164001e-03,\n",
       "        2.58067434e-03,  1.69429455e-03,  1.18947895e-03,  9.50473030e-04,\n",
       "        8.91128899e-04, -1.52493701e-03, -9.45978990e-04, -8.21672909e-04,\n",
       "       -1.06488504e-03, -1.10317768e-03, -8.78181773e-04, -9.02514799e-04,\n",
       "       -1.20183726e-03, -8.14461088e-04, -8.62417410e-05])"
      ]
     },
     "execution_count": 50,
     "metadata": {},
     "output_type": "execute_result"
    }
   ],
   "source": [
    "xi_monopole"
   ]
  },
  {
   "cell_type": "code",
   "execution_count": 51,
   "metadata": {},
   "outputs": [
    {
     "data": {
      "text/plain": [
       "[<matplotlib.lines.Line2D at 0x7f8ee8346650>]"
      ]
     },
     "execution_count": 51,
     "metadata": {},
     "output_type": "execute_result"
    },
    {
     "data": {
      "image/png": "[encoded data removed]",
      "text/plain": [
       "<matplotlib.figure.Figure at 0x7f8ee8346050>"
      ]
     },
     "metadata": {},
     "output_type": "display_data"
    }
   ],
   "source": [
    "import matplotlib.pyplot as plt\n",
    "fig, ax = plt.subplots()\n",
    "ax.plot(sbin[:-1], sbin[:-1]**2*xi_monopole)"
   ]
  },
  {
   "cell_type": "code",
   "execution_count": null,
   "metadata": {},
   "outputs": [],
   "source": []
  }
 ],
 "metadata": {
  "kernelspec": {
   "display_name": "Python 2",
   "language": "python",
   "name": "python2"
  },
  "language_info": {
   "codemirror_mode": {
    "name": "ipython",
    "version": 2
   },
   "file_extension": ".py",
   "mimetype": "text/x-python",
   "name": "python",
   "nbconvert_exporter": "python",
   "pygments_lexer": "ipython2",
   "version": "2.7.14"
  }
 },
 "nbformat": 4,
 "nbformat_minor": 2
}
