{
 "cells": [
  {
   "cell_type": "markdown",
   "metadata": {},
   "source": [
    "# Title"
   ]
  },
  {
   "cell_type": "code",
   "execution_count": null,
   "metadata": {
    "collapsed": true
   },
   "outputs": [],
   "source": [
    "def DownloadFromURL( url = None, path = None, user = 'des', password = '70chips' ):\n",
    "    import sys\n",
    "    import requests\n",
    "    from clint.textui import progress\n",
    "    \n",
    "    file_name = url.split('/')[-1]\n",
    "    with open(path+file_name, \"wb\") as f:\n",
    "        print \"Downloading %s\" % file_name\n",
    "        response = requests.get(url, stream=True, auth=(user, password))\n",
    "        total_length = response.headers.get('content-length')\n",
    "\n",
    "        if total_length is None: # no content length header\n",
    "            f.write(response.content)\n",
    "        else:\n",
    "            dl = 0\n",
    "            total_length = int(total_length)\n",
    "            for data in response.iter_content(chunk_size=1024):\n",
    "                dl += len(data)\n",
    "                f.write(data)\n",
    "                done = int(50 * dl / total_length)\n",
    "                sys.stdout.write(\"\\r[%s%s] %d %s\" % ('=' * done, ' ' * (50-done), done, '%' ))   \n",
    "                sys.stdout.flush()\n",
    "                 "
   ]
  },
  {
   "cell_type": "code",
   "execution_count": null,
   "metadata": {
    "collapsed": false
   },
   "outputs": [
    {
     "name": "stdout",
     "output_type": "stream",
     "text": [
      "[====                                              ] 0 %"
     ]
    }
   ],
   "source": [
    "path = '/n/des/lee.5922/data/buzzard/'\n",
    "site = 'http://www.slac.stanford.edu/~jderose/buzzard/buzzard_v1.1/des_obs_rotated_Y1A1/'\n",
    "cats_name = ['Buzzard_v1.1_Y1A1.91.fit', 'Buzzard_v1.1_Y1A1.92.fit', 'Buzzard_v1.1_Y1A1.94.fit', \\\n",
    "             'Buzzard_v1.1_Y1A1.2047.fit', 'Buzzard_v1.1_Y1A1.1042.fit']\n",
    "cats_name_sdss = ['Buzzard_v1.1_stripe82_mag.90.fit', 'Buzzard_v1.1_stripe82_mag.91.fit', 'Buzzard_v1.1_stripe82_mag.92.fit',\\\n",
    "                 'Buzzard_v1.1_stripe82_mag.94.fit','Buzzard_v1.1_stripe82_mag.2047.fit','Buzzard_v1.1_stripe82_mag.1042.fit']\n",
    "\n",
    "for u in cats_name+cats_name_sdss:\n",
    "    DownloadFromURL(url = site+u, path = path ) "
   ]
  },
  {
   "cell_type": "code",
   "execution_count": null,
   "metadata": {
    "collapsed": true
   },
   "outputs": [],
   "source": [
    "path = '/n/des/lee.5922/data/buzzard/'\n",
    "site = 'http://www.slac.stanford.edu/~jderose/buzzard/buzzard_v1.1/des_obs_rotated_Y1A1/'\n",
    "cats_name = ['Buzzard_v1.1_Y1A1.91.fit', 'Buzzard_v1.1_Y1A1.92.fit', 'Buzzard_v1.1_Y1A1.94.fit', \\\n",
    "             'Buzzard_v1.1_Y1A1.2047.fit', 'Buzzard_v1.1_Y1A1.1042.fit']\n",
    "cats_name_sdss = ['Buzzard_v1.1_stripe82_mag.90.fit', 'Buzzard_v1.1_stripe82_mag.91.fit', 'Buzzard_v1.1_stripe82_mag.92.fit',\\\n",
    "                 'Buzzard_v1.1_stripe82_mag.94.fit','Buzzard_v1.1_stripe82_mag.2047.fit','Buzzard_v1.1_stripe82_mag.1042.fit']\n",
    "\n",
    "for u in cats_name+cats_name_sdss:\n",
    "    DownloadFromURL(url = site+u, path = path ) "
   ]
  },
  {
   "cell_type": "code",
   "execution_count": null,
   "metadata": {
    "collapsed": true
   },
   "outputs": [],
   "source": []
  }
 ],
 "metadata": {
  "kernelspec": {
   "display_name": "Python 2",
   "language": "python",
   "name": "python2"
  },
  "language_info": {
   "codemirror_mode": {
    "name": "ipython",
    "version": 2
   },
   "file_extension": ".py",
   "mimetype": "text/x-python",
   "name": "python",
   "nbconvert_exporter": "python",
   "pygments_lexer": "ipython2",
   "version": "2.7.5"
  }
 },
 "nbformat": 4,
 "nbformat_minor": 0
}
