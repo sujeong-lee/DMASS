{
 "cells": [
  {
   "cell_type": "code",
   "execution_count": 1,
   "metadata": {},
   "outputs": [],
   "source": [
    "import sys\n",
    "sys.path.append('../')\n",
    "from xd import *\n",
    "import numpy as np\n",
    "from utils import *\n",
    "import esutil\n",
    "import healpy as hp\n",
    "from systematics import *\n",
    "from systematics_module import *\n",
    "\n",
    "%matplotlib inline\n",
    "\n",
    "%load_ext autoreload\n",
    "%autoreload 2\n",
    "\n",
    "HF = lambda Nr,Nbin: (Nr-Nbin-2) *1./(Nr-1)\n",
    "HFactor = HF(100, 10)\n",
    "\n",
    "from systematics_module.corr import angular_correlation_poisson, angular_correlation"
   ]
  },
  {
   "cell_type": "code",
   "execution_count": 2,
   "metadata": {},
   "outputs": [],
   "source": [
    "def NNpairCount(data, rand, weight_data = None, weight_rand = None, \n",
    "    nbins = 20, min_sep = 2.5/60., max_sep = 250/60., bin_slop=0.05, dir = './', suffix=''):\n",
    "    # cmass and balrog : all systematic correction except obscuration should be applied before passing here\n",
    "    \n",
    "    import treecorr\n",
    "    \n",
    "    if weight_data : weight_data = data['WEIGHT']\n",
    "    if weight_rand : weight_rand = rand['WEIGHT_RAND']\n",
    "\n",
    "    cat = treecorr.Catalog(ra=data['RA'], dec=data['DEC'], w = weight_data, ra_units='deg', dec_units='deg')\n",
    "    cat_rand = treecorr.Catalog(ra=rand['RA'], dec=rand['DEC'], is_rand=True, w = weight_rand, ra_units='deg', dec_units='deg')\n",
    "    #nbins = 20\n",
    "    #bin_size = 0.5\n",
    "    #min_sep = 2.5/60.\n",
    "    #max_sep = 250/60.\n",
    "    sep_units = 'degree'\n",
    "    #bin_slop = 0.05\n",
    "    \n",
    "    dd = treecorr.NNCorrelation(nbins = nbins, max_sep = max_sep, min_sep= min_sep, sep_units=sep_units, bin_slop=bin_slop)\n",
    "    dr = treecorr.NNCorrelation(nbins = nbins, max_sep = max_sep, min_sep= min_sep, sep_units=sep_units, bin_slop=bin_slop)\n",
    "    rr = treecorr.NNCorrelation(nbins = nbins, max_sep = max_sep, min_sep= min_sep, sep_units=sep_units, bin_slop=bin_slop)\n",
    "    \n",
    "    dd.process(cat)\n",
    "    dr.process(cat,cat_rand)\n",
    "    rr.process(cat_rand)\n",
    "    \n",
    "    dd.write(dir+'npairs'+suffix+'.txt', rr=rr, dr=dr)\n",
    "    print 'file save to', dir+'npairs'+suffix+'.txt'\n",
    "    #xi, varxi = dd.calculateXi(rr,dr)\n",
    "    #errxi = np.sqrt(varxi)\n",
    "    \n",
    "    return dd, dr, rr"
   ]
  },
  {
   "cell_type": "code",
   "execution_count": 3,
   "metadata": {},
   "outputs": [],
   "source": [
    "def BOSSveto(cat, option='SGC'):\n",
    "    \n",
    "    if option == 'SGC':\n",
    "        valid_hpind = fitsio.read('/n/des/lee.5922/data/cmass_cat/vetomask/mask_nside4096_Patchy-Mocks-Randoms-DR12SGC-COMPSAM_V6C.fits')\n",
    "    elif option == 'NGC': \n",
    "        vetomaskNGC = fitsio.read('/n/des/lee.5922/data/cmass_cat/vetomask/mask_nside4096_Patchy-Mocks-Randoms-DR12NGC-COMPSAM_V6C.fits')\n",
    "\n",
    "    hpind = hpRaDecToHEALPixel(cat['RA'], cat['DEC'], nside=4096, nest= False)\n",
    "    HPmask = np.in1d(hpind, valid_hpind)\n",
    "    \n",
    "    return cat[HPmask]"
   ]
  },
  {
   "cell_type": "code",
   "execution_count": 61,
   "metadata": {},
   "outputs": [],
   "source": [
    "#root = '/n/des/lee.5922/data/cmass_cat/dr12_multidark_patchy_mocks/'\n",
    "basedir = '../data_txt/cmass/'\n",
    "#cmass_ngc = esutil.io.read(path+'cmass-dr12v4-N-Reid-full.dat.fits')\n",
    "#cmass_sgc = esutil.io.read(path+'cmass-dr12v4-S-Reid-full.dat.fits')\n",
    "#cmass_ngc = cmass_ngc[(cmass_ngc['Z'] > 0.43) & (cmass_ngc['Z'] < 0.7)]\n",
    "\n",
    "cmasspath = '/n/des/lee.5922/data/cmass_cat/'\n",
    "cmass_ngc = esutil.io.read(cmasspath+'galaxy_DR12v5_CMASS_North.fits.gz')\n",
    "rand_ngc = esutil.io.read(cmasspath+'random0_DR12v5_CMASS_North.fits.gz')\n",
    "\n",
    "cmass_sgc = esutil.io.read(cmasspath+'galaxy_DR12v5_CMASS_South.fits.gz')\n",
    "rand_sgc = esutil.io.read(cmasspath+'random0_DR12v5_CMASS_South.fits.gz')\n",
    "                          # ,cmasspath+'random1_DR12v5_CMASS_South.fits.gz'\n",
    "                          #, combine=False)\n",
    "#cmass_ngc = esutil.io.read(cmasspath+'cmass-dr12v4-N-Reid-full.dat.fits')\n",
    "#cmass_sgc_reid = esutil.io.read(cmasspath+'cmass-dr12v4-S-Reid-full.dat.fits')\n",
    "\n"
   ]
  },
  {
   "cell_type": "code",
   "execution_count": 19,
   "metadata": {},
   "outputs": [],
   "source": [
    "#rand_ngc2 = esutil.io.read(cmasspath+'random1_DR12v5_CMASS_North.fits.gz')\n",
    "rand_sgc2 = esutil.io.read(cmasspath+'random1_DR12v5_CMASS_South.fits.gz')\n",
    "rand_sgc2 = appendColumn(cat = rand_sgc2, name='WEIGHT_RAND', value=np.ones(rand_sgc2['WEIGHT_FKP'].size))"
   ]
  },
  {
   "cell_type": "code",
   "execution_count": 9,
   "metadata": {},
   "outputs": [],
   "source": [
    "cmass_sgc_zcut = cmass_sgc[(cmass_sgc['Z'] > 0.43) & (cmass_sgc['Z'] < 0.7)]\n",
    "rand_sgc_zcut = rand_sgc[(rand_sgc['Z'] > 0.43) & (rand_sgc['Z'] < 0.7)]\n",
    "\n",
    "cmass_ngc_zcut = cmass_ngc[(cmass_ngc['Z'] > 0.43) & (cmass_ngc['Z'] < 0.7)]\n",
    "rand_ngc_zcut = rand_ngc[(rand_ngc['Z'] > 0.43) & (rand_ngc['Z'] < 0.7)]"
   ]
  },
  {
   "cell_type": "code",
   "execution_count": 65,
   "metadata": {},
   "outputs": [],
   "source": [
    "cmass_weight = cmass_sgc['WEIGHT_SYSTOT']*(cmass_sgc['WEIGHT_CP']+cmass_sgc['WEIGHT_NOZ']-1.)\n",
    "cmass_sgc = appendColumn(cat = cmass_sgc, name='WEIGHT', value=cmass_weight)\n",
    "rand_sgc = appendColumn(cat = rand_sgc, name='WEIGHT_RAND', value=np.ones(rand_sgc['WEIGHT_FKP'].size))"
   ]
  },
  {
   "cell_type": "code",
   "execution_count": 68,
   "metadata": {
    "collapsed": true
   },
   "outputs": [
    {
     "ename": "ValueError",
     "evalue": "field 'WEIGHT' occurs more than once",
     "output_type": "error",
     "traceback": [
      "\u001b[0;31m---------------------------------------------------------------------------\u001b[0m",
      "\u001b[0;31mValueError\u001b[0m                                Traceback (most recent call last)",
      "\u001b[0;32m<ipython-input-68-cbf9c7b9df16>\u001b[0m in \u001b[0;36m<module>\u001b[0;34m()\u001b[0m\n\u001b[1;32m      4\u001b[0m \u001b[0;34m\u001b[0m\u001b[0m\n\u001b[1;32m      5\u001b[0m \u001b[0mcmass_zcut_weight\u001b[0m \u001b[0;34m=\u001b[0m \u001b[0mcmass_sgc_zcut\u001b[0m\u001b[0;34m[\u001b[0m\u001b[0;34m'WEIGHT_FKP'\u001b[0m\u001b[0;34m]\u001b[0m \u001b[0;34m*\u001b[0m \u001b[0mcmass_sgc_zcut\u001b[0m\u001b[0;34m[\u001b[0m\u001b[0;34m'WEIGHT_SYSTOT'\u001b[0m\u001b[0;34m]\u001b[0m \u001b[0;34m*\u001b[0m \u001b[0;34m(\u001b[0m\u001b[0mcmass_sgc_zcut\u001b[0m\u001b[0;34m[\u001b[0m\u001b[0;34m'WEIGHT_CP'\u001b[0m\u001b[0;34m]\u001b[0m\u001b[0;34m+\u001b[0m\u001b[0mcmass_sgc_zcut\u001b[0m\u001b[0;34m[\u001b[0m\u001b[0;34m'WEIGHT_NOZ'\u001b[0m\u001b[0;34m]\u001b[0m\u001b[0;34m-\u001b[0m\u001b[0;36m1.\u001b[0m\u001b[0;34m)\u001b[0m\u001b[0;34m\u001b[0m\u001b[0m\n\u001b[0;32m----> 6\u001b[0;31m \u001b[0mcmass_sgc_zcut\u001b[0m \u001b[0;34m=\u001b[0m \u001b[0mappendColumn\u001b[0m\u001b[0;34m(\u001b[0m\u001b[0mcat\u001b[0m \u001b[0;34m=\u001b[0m \u001b[0mcmass_sgc_zcut\u001b[0m\u001b[0;34m,\u001b[0m \u001b[0mname\u001b[0m\u001b[0;34m=\u001b[0m\u001b[0;34m'WEIGHT'\u001b[0m\u001b[0;34m,\u001b[0m \u001b[0mvalue\u001b[0m\u001b[0;34m=\u001b[0m\u001b[0mcmass_zcut_weight\u001b[0m\u001b[0;34m)\u001b[0m\u001b[0;34m\u001b[0m\u001b[0m\n\u001b[0m\u001b[1;32m      7\u001b[0m \u001b[0mrand_sgc_zcut\u001b[0m \u001b[0;34m=\u001b[0m \u001b[0mappendColumn\u001b[0m\u001b[0;34m(\u001b[0m\u001b[0mcat\u001b[0m \u001b[0;34m=\u001b[0m \u001b[0mrand_sgc_zcut\u001b[0m\u001b[0;34m,\u001b[0m \u001b[0mname\u001b[0m\u001b[0;34m=\u001b[0m\u001b[0;34m'WEIGHT_RAND'\u001b[0m\u001b[0;34m,\u001b[0m \u001b[0mvalue\u001b[0m\u001b[0;34m=\u001b[0m\u001b[0mrand_sgc_zcut\u001b[0m\u001b[0;34m[\u001b[0m\u001b[0;34m'WEIGHT_FKP'\u001b[0m\u001b[0;34m]\u001b[0m\u001b[0;34m)\u001b[0m\u001b[0;34m\u001b[0m\u001b[0m\n",
      "\u001b[0;32m/n/des/lee.5922/Dropbox/repositories/CMASS/code/utils.py\u001b[0m in \u001b[0;36mappendColumn\u001b[0;34m(cat, name, value, dtypes)\u001b[0m\n\u001b[1;32m    388\u001b[0m \u001b[0;32mdef\u001b[0m \u001b[0mappendColumn\u001b[0m\u001b[0;34m(\u001b[0m\u001b[0mcat\u001b[0m\u001b[0;34m,\u001b[0m \u001b[0mname\u001b[0m \u001b[0;34m=\u001b[0m \u001b[0mNone\u001b[0m\u001b[0;34m,\u001b[0m \u001b[0mvalue\u001b[0m \u001b[0;34m=\u001b[0m \u001b[0mNone\u001b[0m\u001b[0;34m,\u001b[0m \u001b[0mdtypes\u001b[0m\u001b[0;34m=\u001b[0m\u001b[0mNone\u001b[0m\u001b[0;34m)\u001b[0m\u001b[0;34m:\u001b[0m\u001b[0;34m\u001b[0m\u001b[0m\n\u001b[1;32m    389\u001b[0m     \u001b[0;32mimport\u001b[0m \u001b[0mnumpy\u001b[0m\u001b[0;34m.\u001b[0m\u001b[0mlib\u001b[0m\u001b[0;34m.\u001b[0m\u001b[0mrecfunctions\u001b[0m \u001b[0;32mas\u001b[0m \u001b[0mrf\u001b[0m\u001b[0;34m\u001b[0m\u001b[0m\n\u001b[0;32m--> 390\u001b[0;31m     \u001b[0mcat\u001b[0m \u001b[0;34m=\u001b[0m \u001b[0mrf\u001b[0m\u001b[0;34m.\u001b[0m\u001b[0mappend_fields\u001b[0m\u001b[0;34m(\u001b[0m\u001b[0mcat\u001b[0m\u001b[0;34m,\u001b[0m \u001b[0mname\u001b[0m\u001b[0;34m,\u001b[0m \u001b[0mvalue\u001b[0m\u001b[0;34m,\u001b[0m \u001b[0mdtypes\u001b[0m\u001b[0;34m=\u001b[0m\u001b[0mdtypes\u001b[0m\u001b[0;34m)\u001b[0m\u001b[0;34m\u001b[0m\u001b[0m\n\u001b[0m\u001b[1;32m    391\u001b[0m     \u001b[0;32mreturn\u001b[0m \u001b[0mcat\u001b[0m\u001b[0;34m\u001b[0m\u001b[0m\n\u001b[1;32m    392\u001b[0m \u001b[0;34m\u001b[0m\u001b[0m\n",
      "\u001b[0;32m/home/lee.5922/.local/lib/python2.7/site-packages/numpy/lib/recfunctions.pyc\u001b[0m in \u001b[0;36mappend_fields\u001b[0;34m(base, names, data, dtypes, fill_value, usemask, asrecarray)\u001b[0m\n\u001b[1;32m    740\u001b[0m     output = ma.masked_all(\n\u001b[1;32m    741\u001b[0m         \u001b[0mmax\u001b[0m\u001b[0;34m(\u001b[0m\u001b[0mlen\u001b[0m\u001b[0;34m(\u001b[0m\u001b[0mbase\u001b[0m\u001b[0;34m)\u001b[0m\u001b[0;34m,\u001b[0m \u001b[0mlen\u001b[0m\u001b[0;34m(\u001b[0m\u001b[0mdata\u001b[0m\u001b[0;34m)\u001b[0m\u001b[0;34m)\u001b[0m\u001b[0;34m,\u001b[0m\u001b[0;34m\u001b[0m\u001b[0m\n\u001b[0;32m--> 742\u001b[0;31m         dtype=get_fieldspec(base.dtype) + get_fieldspec(data.dtype))\n\u001b[0m\u001b[1;32m    743\u001b[0m     \u001b[0moutput\u001b[0m \u001b[0;34m=\u001b[0m \u001b[0mrecursive_fill_fields\u001b[0m\u001b[0;34m(\u001b[0m\u001b[0mbase\u001b[0m\u001b[0;34m,\u001b[0m \u001b[0moutput\u001b[0m\u001b[0;34m)\u001b[0m\u001b[0;34m\u001b[0m\u001b[0m\n\u001b[1;32m    744\u001b[0m     \u001b[0moutput\u001b[0m \u001b[0;34m=\u001b[0m \u001b[0mrecursive_fill_fields\u001b[0m\u001b[0;34m(\u001b[0m\u001b[0mdata\u001b[0m\u001b[0;34m,\u001b[0m \u001b[0moutput\u001b[0m\u001b[0;34m)\u001b[0m\u001b[0;34m\u001b[0m\u001b[0m\n",
      "\u001b[0;32m/home/lee.5922/.local/lib/python2.7/site-packages/numpy/ma/extras.pyc\u001b[0m in \u001b[0;36mmasked_all\u001b[0;34m(shape, dtype)\u001b[0m\n\u001b[1;32m    153\u001b[0m \u001b[0;34m\u001b[0m\u001b[0m\n\u001b[1;32m    154\u001b[0m     \"\"\"\n\u001b[0;32m--> 155\u001b[0;31m     a = masked_array(np.empty(shape, dtype),\n\u001b[0m\u001b[1;32m    156\u001b[0m                      mask=np.ones(shape, make_mask_descr(dtype)))\n\u001b[1;32m    157\u001b[0m     \u001b[0;32mreturn\u001b[0m \u001b[0ma\u001b[0m\u001b[0;34m\u001b[0m\u001b[0m\n",
      "\u001b[0;31mValueError\u001b[0m: field 'WEIGHT' occurs more than once"
     ]
    }
   ],
   "source": [
    "cmass_zcut_weight = cmass_sgc_zcut['WEIGHT_FKP'] * cmass_sgc_zcut['WEIGHT_SYSTOT'] * (cmass_sgc_zcut['WEIGHT_CP']+cmass_sgc_zcut['WEIGHT_NOZ']-1.)\n",
    "cmass_sgc_zcut = appendColumn(cat = cmass_sgc_zcut, name='WEIGHT', value=cmass_zcut_weight)\n",
    "rand_sgc_zcut = appendColumn(cat = rand_sgc_zcut, name='WEIGHT_RAND', value=rand_sgc_zcut['WEIGHT_FKP'])"
   ]
  },
  {
   "cell_type": "code",
   "execution_count": 20,
   "metadata": {},
   "outputs": [],
   "source": [
    "cmass_sgc_veto = BOSSveto(cmass_sgc, option='SGC')\n",
    "rand_sgc_veto = BOSSveto(rand_sgc, option='SGC')\n",
    "rand_sgc_veto2 = BOSSveto(rand_sgc2, option='SGC')"
   ]
  },
  {
   "cell_type": "code",
   "execution_count": 66,
   "metadata": {
    "collapsed": true
   },
   "outputs": [
    {
     "ename": "ValueError",
     "evalue": "field 'WEIGHT' occurs more than once",
     "output_type": "error",
     "traceback": [
      "\u001b[0;31m---------------------------------------------------------------------------\u001b[0m",
      "\u001b[0;31mValueError\u001b[0m                                Traceback (most recent call last)",
      "\u001b[0;32m<ipython-input-66-529984310700>\u001b[0m in \u001b[0;36m<module>\u001b[0;34m()\u001b[0m\n\u001b[1;32m      1\u001b[0m \u001b[0mcmass_ngc_weight\u001b[0m \u001b[0;34m=\u001b[0m \u001b[0mcmass_ngc\u001b[0m\u001b[0;34m[\u001b[0m\u001b[0;34m'WEIGHT_SYSTOT'\u001b[0m\u001b[0;34m]\u001b[0m\u001b[0;34m*\u001b[0m\u001b[0;34m(\u001b[0m\u001b[0mcmass_ngc\u001b[0m\u001b[0;34m[\u001b[0m\u001b[0;34m'WEIGHT_CP'\u001b[0m\u001b[0;34m]\u001b[0m\u001b[0;34m+\u001b[0m\u001b[0mcmass_ngc\u001b[0m\u001b[0;34m[\u001b[0m\u001b[0;34m'WEIGHT_NOZ'\u001b[0m\u001b[0;34m]\u001b[0m\u001b[0;34m-\u001b[0m\u001b[0;36m1.\u001b[0m\u001b[0;34m)\u001b[0m\u001b[0;34m\u001b[0m\u001b[0m\n\u001b[0;32m----> 2\u001b[0;31m \u001b[0mcmass_ngc\u001b[0m \u001b[0;34m=\u001b[0m \u001b[0mappendColumn\u001b[0m\u001b[0;34m(\u001b[0m\u001b[0mcat\u001b[0m \u001b[0;34m=\u001b[0m \u001b[0mcmass_ngc\u001b[0m\u001b[0;34m,\u001b[0m \u001b[0mname\u001b[0m\u001b[0;34m=\u001b[0m\u001b[0;34m'WEIGHT'\u001b[0m\u001b[0;34m,\u001b[0m \u001b[0mvalue\u001b[0m\u001b[0;34m=\u001b[0m\u001b[0mcmass_ngc_weight\u001b[0m\u001b[0;34m)\u001b[0m\u001b[0;34m\u001b[0m\u001b[0m\n\u001b[0m\u001b[1;32m      3\u001b[0m \u001b[0mrand_ngc\u001b[0m \u001b[0;34m=\u001b[0m \u001b[0mappendColumn\u001b[0m\u001b[0;34m(\u001b[0m\u001b[0mcat\u001b[0m \u001b[0;34m=\u001b[0m \u001b[0mrand_ngc\u001b[0m\u001b[0;34m,\u001b[0m \u001b[0mname\u001b[0m\u001b[0;34m=\u001b[0m\u001b[0;34m'WEIGHT_RAND'\u001b[0m\u001b[0;34m,\u001b[0m \u001b[0mvalue\u001b[0m\u001b[0;34m=\u001b[0m\u001b[0mnp\u001b[0m\u001b[0;34m.\u001b[0m\u001b[0mones\u001b[0m\u001b[0;34m(\u001b[0m\u001b[0mrand_ngc\u001b[0m\u001b[0;34m[\u001b[0m\u001b[0;34m'WEIGHT_FKP'\u001b[0m\u001b[0;34m]\u001b[0m\u001b[0;34m.\u001b[0m\u001b[0msize\u001b[0m\u001b[0;34m)\u001b[0m\u001b[0;34m)\u001b[0m\u001b[0;34m\u001b[0m\u001b[0m\n",
      "\u001b[0;32m/n/des/lee.5922/Dropbox/repositories/CMASS/code/utils.pyc\u001b[0m in \u001b[0;36mappendColumn\u001b[0;34m(cat, name, value, dtypes)\u001b[0m\n\u001b[1;32m    388\u001b[0m \u001b[0;32mdef\u001b[0m \u001b[0mappendColumn\u001b[0m\u001b[0;34m(\u001b[0m\u001b[0mcat\u001b[0m\u001b[0;34m,\u001b[0m \u001b[0mname\u001b[0m \u001b[0;34m=\u001b[0m \u001b[0mNone\u001b[0m\u001b[0;34m,\u001b[0m \u001b[0mvalue\u001b[0m \u001b[0;34m=\u001b[0m \u001b[0mNone\u001b[0m\u001b[0;34m,\u001b[0m \u001b[0mdtypes\u001b[0m\u001b[0;34m=\u001b[0m\u001b[0mNone\u001b[0m\u001b[0;34m)\u001b[0m\u001b[0;34m:\u001b[0m\u001b[0;34m\u001b[0m\u001b[0m\n\u001b[1;32m    389\u001b[0m     \u001b[0;32mimport\u001b[0m \u001b[0mnumpy\u001b[0m\u001b[0;34m.\u001b[0m\u001b[0mlib\u001b[0m\u001b[0;34m.\u001b[0m\u001b[0mrecfunctions\u001b[0m \u001b[0;32mas\u001b[0m \u001b[0mrf\u001b[0m\u001b[0;34m\u001b[0m\u001b[0m\n\u001b[0;32m--> 390\u001b[0;31m     \u001b[0mcat\u001b[0m \u001b[0;34m=\u001b[0m \u001b[0mrf\u001b[0m\u001b[0;34m.\u001b[0m\u001b[0mappend_fields\u001b[0m\u001b[0;34m(\u001b[0m\u001b[0mcat\u001b[0m\u001b[0;34m,\u001b[0m \u001b[0mname\u001b[0m\u001b[0;34m,\u001b[0m \u001b[0mvalue\u001b[0m\u001b[0;34m,\u001b[0m \u001b[0mdtypes\u001b[0m\u001b[0;34m=\u001b[0m\u001b[0mdtypes\u001b[0m\u001b[0;34m)\u001b[0m\u001b[0;34m\u001b[0m\u001b[0m\n\u001b[0m\u001b[1;32m    391\u001b[0m     \u001b[0;32mreturn\u001b[0m \u001b[0mcat\u001b[0m\u001b[0;34m\u001b[0m\u001b[0m\n\u001b[1;32m    392\u001b[0m \u001b[0;34m\u001b[0m\u001b[0m\n",
      "\u001b[0;32m/home/lee.5922/.local/lib/python2.7/site-packages/numpy/lib/recfunctions.pyc\u001b[0m in \u001b[0;36mappend_fields\u001b[0;34m(base, names, data, dtypes, fill_value, usemask, asrecarray)\u001b[0m\n\u001b[1;32m    740\u001b[0m     output = ma.masked_all(\n\u001b[1;32m    741\u001b[0m         \u001b[0mmax\u001b[0m\u001b[0;34m(\u001b[0m\u001b[0mlen\u001b[0m\u001b[0;34m(\u001b[0m\u001b[0mbase\u001b[0m\u001b[0;34m)\u001b[0m\u001b[0;34m,\u001b[0m \u001b[0mlen\u001b[0m\u001b[0;34m(\u001b[0m\u001b[0mdata\u001b[0m\u001b[0;34m)\u001b[0m\u001b[0;34m)\u001b[0m\u001b[0;34m,\u001b[0m\u001b[0;34m\u001b[0m\u001b[0m\n\u001b[0;32m--> 742\u001b[0;31m         dtype=get_fieldspec(base.dtype) + get_fieldspec(data.dtype))\n\u001b[0m\u001b[1;32m    743\u001b[0m     \u001b[0moutput\u001b[0m \u001b[0;34m=\u001b[0m \u001b[0mrecursive_fill_fields\u001b[0m\u001b[0;34m(\u001b[0m\u001b[0mbase\u001b[0m\u001b[0;34m,\u001b[0m \u001b[0moutput\u001b[0m\u001b[0;34m)\u001b[0m\u001b[0;34m\u001b[0m\u001b[0m\n\u001b[1;32m    744\u001b[0m     \u001b[0moutput\u001b[0m \u001b[0;34m=\u001b[0m \u001b[0mrecursive_fill_fields\u001b[0m\u001b[0;34m(\u001b[0m\u001b[0mdata\u001b[0m\u001b[0;34m,\u001b[0m \u001b[0moutput\u001b[0m\u001b[0;34m)\u001b[0m\u001b[0;34m\u001b[0m\u001b[0m\n",
      "\u001b[0;32m/home/lee.5922/.local/lib/python2.7/site-packages/numpy/ma/extras.pyc\u001b[0m in \u001b[0;36mmasked_all\u001b[0;34m(shape, dtype)\u001b[0m\n\u001b[1;32m    153\u001b[0m \u001b[0;34m\u001b[0m\u001b[0m\n\u001b[1;32m    154\u001b[0m     \"\"\"\n\u001b[0;32m--> 155\u001b[0;31m     a = masked_array(np.empty(shape, dtype),\n\u001b[0m\u001b[1;32m    156\u001b[0m                      mask=np.ones(shape, make_mask_descr(dtype)))\n\u001b[1;32m    157\u001b[0m     \u001b[0;32mreturn\u001b[0m \u001b[0ma\u001b[0m\u001b[0;34m\u001b[0m\u001b[0m\n",
      "\u001b[0;31mValueError\u001b[0m: field 'WEIGHT' occurs more than once"
     ]
    }
   ],
   "source": [
    "cmass_ngc_weight = cmass_ngc['WEIGHT_SYSTOT']*(cmass_ngc['WEIGHT_CP']+cmass_ngc['WEIGHT_NOZ']-1.)\n",
    "cmass_ngc = appendColumn(cat = cmass_ngc, name='WEIGHT', value=cmass_ngc_weight)\n",
    "rand_ngc = appendColumn(cat = rand_ngc, name='WEIGHT_RAND', value=np.ones(rand_ngc['WEIGHT_FKP'].size))"
   ]
  },
  {
   "cell_type": "code",
   "execution_count": 11,
   "metadata": {},
   "outputs": [],
   "source": [
    "cmass_ngc_zcut_weight = cmass_ngc_zcut['WEIGHT_FKP'] * cmass_ngc_zcut['WEIGHT_SYSTOT'] * (cmass_ngc_zcut['WEIGHT_CP']+cmass_ngc_zcut['WEIGHT_NOZ']-1.)\n",
    "cmass_ngc_zcut = appendColumn(cat = cmass_ngc_zcut, name='WEIGHT', value=cmass_ngc_zcut_weight)\n",
    "rand_ngc_zcut = appendColumn(cat = rand_ngc_zcut, name='WEIGHT_RAND', value=rand_ngc_zcut['WEIGHT_FKP'])"
   ]
  },
  {
   "cell_type": "code",
   "execution_count": 8,
   "metadata": {},
   "outputs": [
    {
     "name": "stdout",
     "output_type": "stream",
     "text": [
      "\n",
      "--------------------------------\n",
      " calling catalog\n",
      "--------------------------------\n",
      "dmass_spt_sys_v3.fits\n",
      "dmass sample size : 120874.72753482158\n",
      "\n",
      "--------------------------------\n",
      " calling catalog\n",
      "--------------------------------\n",
      "random_x50_dmass_spt_masked.fits\n"
     ]
    }
   ],
   "source": [
    "# import DMASS\n",
    "rootdir = '../output/sfd_train_photo_SamPle_nozband_ran10_3_full_tol1e5/'\n",
    "#dmass = fitsio.read(rootdir+'spt.fits')\n",
    "#dmass = io.SearchAndCallFits(path = rootdir, keyword='gold_spt_prob')\n",
    "dmass = io.SearchAndCallFits(path = rootdir, keyword='dmass_spt_sys_v3.fits')\n",
    "#dmass = dmass[dmass['EachProb_CMASS'] > 0.01]\n",
    "print 'dmass sample size :', np.sum(dmass['CMASS_PROB'])\n",
    "\n",
    "dmass = appendColumn(cat = dmass, name='WEIGHT', value=dmass['CMASS_PROB'])\n",
    "dmass = dmass[dmass['CMASS_PROB'] > 0.01]\n",
    "#dmass_st82 = appendColumn(cat = dmass_st82, name='WEIGHT', value=dmass_st82['EachProb_CMASS'])\n",
    "#print np.sum(dmass['EachProb_CMASS']), np.sum(dmass_st82['EachProb_CMASS'])\n",
    "\n",
    "rand_dmass = io.SearchAndCallFits(path = rootdir, keyword='random_x50_dmass_spt_masked')"
   ]
  },
  {
   "cell_type": "code",
   "execution_count": 9,
   "metadata": {},
   "outputs": [],
   "source": [
    "dmass_pcut = dmass[dmass['CMASS_PROB'] > 0.01]\n",
    "dmass_pcut_weight = dmass[dmass['CMASS_PROB'] > 0.01]\n",
    "dmass_pcut_weight['WEIGHT'] = dmass['CMASS_PROB'] * dmass['WEIGHT_SYS']"
   ]
  },
  {
   "cell_type": "code",
   "execution_count": 10,
   "metadata": {},
   "outputs": [
    {
     "name": "stdout",
     "output_type": "stream",
     "text": [
      "dmass sample size : 117292.90214602613\n",
      "cmass weighted sample size:  249701.58\n",
      "cmass sample size: 230831\n"
     ]
    }
   ],
   "source": [
    "print 'dmass sample size :', np.sum(dmass['WEIGHT'] )\n",
    "print 'cmass weighted sample size: ', np.sum(cmass_sgc['WEIGHT'])\n",
    "print 'cmass sample size:', cmass_sgc.size"
   ]
  },
  {
   "cell_type": "code",
   "execution_count": 75,
   "metadata": {},
   "outputs": [],
   "source": [
    "basedir = '../data_txt/random_test/'"
   ]
  },
  {
   "cell_type": "code",
   "execution_count": 56,
   "metadata": {},
   "outputs": [
    {
     "name": "stdout",
     "output_type": "stream",
     "text": [
      "file save to ../data_txt/cmass/npairs_cmass_sgc.txt\n",
      "file save to ../data_txt/cmass/npairs_cmass_sgc_ran5.txt\n",
      "file save to ../data_txt/cmass/npairs_cmass_sgc_ran10.txt\n"
     ]
    }
   ],
   "source": [
    "dd, dr, rr = NNpairCount(data = cmass_sgc, rand = rand_sgc, \n",
    "                    nbins=10, weight_data = True, weight_rand = True, \n",
    "                    suffix = '_cmass_sgc', dir = basedir)\n",
    "\n",
    "randind = np.random.choice(rand_sgc.size, size = rand_sgc.size/5)\n",
    "\n",
    "dd, dr, rr = NNpairCount(data = cmass_sgc, rand = rand_sgc[randind], \n",
    "                    nbins=10, weight_data = True, weight_rand = True, \n",
    "                    suffix = '_cmass_sgc_ran5', dir = basedir)\n",
    "\n",
    "randind2 = np.random.choice(rand_sgc.size, size = rand_sgc.size/10)\n",
    "\n",
    "dd, dr, rr = NNpairCount(data = cmass_sgc, rand = rand_sgc[randind2], \n",
    "                    nbins=10, weight_data = True, weight_rand = True, \n",
    "                    suffix = '_cmass_sgc_ran10', dir = basedir)"
   ]
  },
  {
   "cell_type": "code",
   "execution_count": 31,
   "metadata": {},
   "outputs": [
    {
     "name": "stdout",
     "output_type": "stream",
     "text": [
      "file save to ../data_txt/cmass/npairs_dmass_pcut_sysweight_bins10_binslop_05.txt\n"
     ]
    }
   ],
   "source": [
    "basedir = '../data_txt/cmass/'\n",
    "ddd, drd, rrd = NNpairCount(data = dmass_pcut_weight, rand = rand_dmass, \n",
    "                    nbins=10, weight_data = True, weight_rand = None, \n",
    "                    suffix = '_dmass_pcut_sysweight_bins10_binslop_05', dir = basedir)"
   ]
  },
  {
   "cell_type": "code",
   "execution_count": 42,
   "metadata": {},
   "outputs": [
    {
     "name": "stdout",
     "output_type": "stream",
     "text": [
      "file save to ../data_txt/cmass/npairs_dmass_pcut_sysweight_bins10_binslop_05_ran4.txt\n"
     ]
    }
   ],
   "source": [
    "basedir = '../data_txt/cmass/'\n",
    "\n",
    "randind = np.random.choice(rand_dmass.size, size = rand_dmass.size/4)\n",
    "ddd, drd, rrd = NNpairCount(data = dmass_pcut_weight, rand = rand_dmass[randind], \n",
    "                    nbins=10, weight_data = True, weight_rand = None, \n",
    "                    suffix = '_dmass_pcut_sysweight_bins10_binslop_05_ran4', dir = basedir)"
   ]
  },
  {
   "cell_type": "code",
   "execution_count": null,
   "metadata": {},
   "outputs": [],
   "source": [
    "basedir = '../data_txt/cmass/'\n",
    "dd, dr, rr = NNpairCount(data = cmass_sgc_veto, rand = rand_sgc_veto, \n",
    "                    nbins=10, weight_data = True, weight_rand = True, \n",
    "                    suffix = '_cmass_sgc_veto', dir = basedir)"
   ]
  },
  {
   "cell_type": "code",
   "execution_count": 67,
   "metadata": {},
   "outputs": [
    {
     "name": "stdout",
     "output_type": "stream",
     "text": [
      "file save to ../data_txt/cmass/npairs_cmass_sgc_bins10_binslop_05.txt\n"
     ]
    }
   ],
   "source": [
    "basedir = '../data_txt/cmass/'\n",
    "dd, dr, rr = NNpairCount(data = cmass_sgc, rand = rand_sgc, \n",
    "                    nbins=10, weight_data = True, weight_rand = True, \n",
    "                    suffix = '_cmass_sgc_bins10_binslop_05', dir = basedir)"
   ]
  },
  {
   "cell_type": "code",
   "execution_count": 68,
   "metadata": {},
   "outputs": [
    {
     "name": "stdout",
     "output_type": "stream",
     "text": [
      "file save to ../data_txt/cmass/npairs_cmass_ngc_bins10_binslop_05.txt\n"
     ]
    }
   ],
   "source": [
    "basedir = '../data_txt/cmass/'\n",
    "dd, dr, rr = NNpairCount(data = cmass_ngc, rand = rand_ngc, \n",
    "                    nbins=10, weight_data = True, weight_rand = True, \n",
    "                    suffix = '_cmass_ngc_bins10_binslop_05', dir = basedir)"
   ]
  },
  {
   "cell_type": "code",
   "execution_count": 92,
   "metadata": {},
   "outputs": [
    {
     "name": "stdout",
     "output_type": "stream",
     "text": [
      "file save to ../data_txt/cmass/npairs_cmass_ngc_bins10_binslop_2.txt\n"
     ]
    }
   ],
   "source": [
    "basedir = '../data_txt/cmass/'\n",
    "dd, dr, rr = NNpairCount(data = cmass_ngc, rand = rand_ngc, \n",
    "                    nbins=10, bin_slop=0.2, weight_data = True, weight_rand = True, \n",
    "                    suffix = '_cmass_ngc_bins10_binslop_2', dir = basedir)"
   ]
  },
  {
   "cell_type": "code",
   "execution_count": 56,
   "metadata": {},
   "outputs": [
    {
     "name": "stdout",
     "output_type": "stream",
     "text": [
      "file save to ../data_txt/cmass/npairs_cmass_sgc_veto_bins10_binslop_05_ran5.txt\n",
      "file save to ../data_txt/cmass/npairs_cmass_sgc_veto_bins10_binslop_05_ran10.txt\n"
     ]
    }
   ],
   "source": [
    "basedir = '../data_txt/cmass/'\n",
    "randind = np.random.choice(rand_sgc_veto.size, size = rand_sgc_veto.size/5)\n",
    "dd, dr, rr = NNpairCount(data = cmass_sgc_veto, rand = rand_sgc_veto[randind], \n",
    "                    nbins=10, weight_data = True, weight_rand = True, \n",
    "                    suffix = '_cmass_sgc_veto_bins10_binslop_05_ran5', dir = basedir)\n",
    "\n",
    "randind2 = np.random.choice(rand_sgc_veto.size, size = rand_sgc_veto.size/10)\n",
    "\n",
    "dd, dr, rr = NNpairCount(data = cmass_sgc_veto, rand = rand_sgc_veto[randind2], \n",
    "                    nbins=10, weight_data = True, weight_rand = True, \n",
    "                    suffix = '_cmass_sgc_veto_bins10_binslop_05_ran10', dir = basedir)"
   ]
  },
  {
   "cell_type": "code",
   "execution_count": 49,
   "metadata": {},
   "outputs": [
    {
     "name": "stdout",
     "output_type": "stream",
     "text": [
      "file save to ../data_txt/cmass/npairs_cmass_sgc_veto_bins10_binslop_01_ran10.txt\n"
     ]
    }
   ],
   "source": [
    "randind2 = np.random.choice(rand_sgc_veto.size, size = rand_sgc_veto.size/10)\n",
    "dd, dr, rr = NNpairCount(data = cmass_sgc_veto, rand = rand_sgc_veto[randind2], \n",
    "                    nbins=10, weight_data = True, weight_rand = True, \n",
    "                    suffix = '_cmass_sgc_veto_bins10_binslop_01_ran10', dir = basedir)"
   ]
  },
  {
   "cell_type": "code",
   "execution_count": 22,
   "metadata": {},
   "outputs": [],
   "source": [
    "randx2 = np.hstack((rand_sgc_veto, rand_sgc_veto2))"
   ]
  },
  {
   "cell_type": "code",
   "execution_count": 23,
   "metadata": {},
   "outputs": [
    {
     "name": "stdout",
     "output_type": "stream",
     "text": [
      "file save to ../data_txt/cmass/npairs_cmass_sgc_veto_bins10_binslop_05_ranx2.txt\n"
     ]
    }
   ],
   "source": [
    "dd, dr, rr = NNpairCount(data = cmass_sgc_veto, rand = randx2, \n",
    "                    nbins=10, weight_data = True, weight_rand = True, \n",
    "                    suffix = '_cmass_sgc_veto_bins10_binslop_05_ranx2', dir = basedir)"
   ]
  },
  {
   "cell_type": "code",
   "execution_count": null,
   "metadata": {},
   "outputs": [],
   "source": [
    "theta, _, _, xi, sigma_xi, _,_,_,_ = np.genfromtxt('../data_txt/cmass/npairs_cmass_sgc_veto_bins10_binslop_01.txt', unpack=True)\n",
    "fig, ax = plt.subplots()\n",
    "ax.loglog(theta, xi)"
   ]
  },
  {
   "cell_type": "code",
   "execution_count": 74,
   "metadata": {},
   "outputs": [
    {
     "name": "stdout",
     "output_type": "stream",
     "text": [
      "file save to ../data_txt/cmass/npairs_cmass_sgc2.txt\n"
     ]
    }
   ],
   "source": [
    "dd, dr, rr = NNpairCount(data = cmass_sgc, rand = rand_sgc2, \n",
    "                    nbins=10, weight_data = True, weight_rand = None, \n",
    "                    suffix = '_cmass_sgc2', dir = basedir)"
   ]
  },
  {
   "cell_type": "code",
   "execution_count": 154,
   "metadata": {},
   "outputs": [
    {
     "name": "stdout",
     "output_type": "stream",
     "text": [
      "file save to ../data_txt/cmass/npairs_cmass_sgc_reid.txt\n"
     ]
    }
   ],
   "source": [
    "dd, dr, rr = NNpairCount(data = reid_cmass_sgc, rand = reid_rand_sgc, \n",
    "                    nbins=10, weight_data = True, weight_rand = True, \n",
    "                    suffix = '_cmass_sgc_reid', dir = basedir)"
   ]
  },
  {
   "cell_type": "code",
   "execution_count": 122,
   "metadata": {},
   "outputs": [
    {
     "name": "stdout",
     "output_type": "stream",
     "text": [
      "file save to ../data_txt/cmass/npairs_cmass_sgc_no_weight.txt\n"
     ]
    }
   ],
   "source": [
    "dd, dr, rr = NNpairCount(data = cmass_sgc, rand = rand_sgc, \n",
    "                    nbins=10, weight_data = None, weight_rand = None, \n",
    "                    suffix = '_cmass_sgc_no_weight', dir = basedir)"
   ]
  },
  {
   "cell_type": "code",
   "execution_count": 58,
   "metadata": {},
   "outputs": [
    {
     "name": "stdout",
     "output_type": "stream",
     "text": [
      "file save to ../data_txt/cmass/npairs_cmass_ngc.txt\n",
      "file save to ../data_txt/cmass/npairs_cmass_ngc_ran5.txt\n",
      "file save to ../data_txt/cmass/npairs_cmass_ngc_ran10.txt\n"
     ]
    }
   ],
   "source": [
    "dd, dr, rr = NNpairCount(data = cmass_ngc, rand = rand_ngc, \n",
    "                    nbins=10, weight_data = True, weight_rand = True, \n",
    "                    suffix = '_cmass_ngc', dir = basedir)\n",
    "\n",
    "randind = np.random.choice(rand_ngc.size, size = rand_ngc.size/5)\n",
    "\n",
    "dd, dr, rr = NNpairCount(data = cmass_ngc, rand = rand_ngc[randind], \n",
    "                    nbins=10, weight_data = True, weight_rand = True, \n",
    "                    suffix = '_cmass_ngc_ran5', dir = basedir)\n",
    "\n",
    "randind2 = np.random.choice(rand_ngc.size, size = rand_ngc.size/10)\n",
    "\n",
    "dd, dr, rr = NNpairCount(data = cmass_ngc, rand = rand_ngc[randind2], \n",
    "                    nbins=10, weight_data = True, weight_rand = True, \n",
    "                    suffix = '_cmass_ngc_ran10', dir = basedir)"
   ]
  },
  {
   "cell_type": "code",
   "execution_count": null,
   "metadata": {},
   "outputs": [],
   "source": [
    "dd, dr, rr = NNpairCount(data = cmass_ngc, rand = rand_ngc, \n",
    "                    nbins=10, weight_data = True, weight_rand = True, \n",
    "                    suffix = '_cmass_ngc', dir = basedir)\n",
    "\n"
   ]
  },
  {
   "cell_type": "code",
   "execution_count": 125,
   "metadata": {},
   "outputs": [
    {
     "name": "stdout",
     "output_type": "stream",
     "text": [
      "file save to ../data_txt/cmass/npairs_cmass_ngc_no_weight.txt\n"
     ]
    }
   ],
   "source": [
    "dd, dr, rr = NNpairCount(data = cmass_ngc, rand = rand_ngc, \n",
    "                    nbins=10, weight_data = None, weight_rand = None, \n",
    "                    suffix = '_cmass_ngc_no_weight', dir = basedir)"
   ]
  },
  {
   "cell_type": "code",
   "execution_count": null,
   "metadata": {},
   "outputs": [
    {
     "name": "stdout",
     "output_type": "stream",
     "text": [
      "calculate angular correlation function\n",
      "generate new jkregion : ../data_txt/random_test/./jkregion.txt\n",
      "X (1000, 2)  centers (100, 2)  tol=1e-05  maxiter=200\n",
      "13 iterations  cluster sizes: [11 10  9  9  7 18  8  8 21 10 11 11 11  4 13 15  7 10 10 12 12  9 16 14\n",
      " 10 12  4 18  5  5  9  8  6 13  9 10 11 12  8 14 12 18  9 10 13 10  1  6\n",
      "  9 11 20  8  5  7 16 11  8  6 11  6 14  8 13  8  8  7  8  5 11 11  7  7\n",
      " 13 15  4 11  7 11  9  9 14  5  8 14  8 10 11  7 11 13  3  6 14  6  6 14\n",
      " 11  9 10 17]\n",
      "X (230831, 2)  centers (100, 2)  tol=1e-05  maxiter=200\n"
     ]
    }
   ],
   "source": [
    "angular_correlation(data = cmass_sgc, rand = rand_sgc, \n",
    "                    nbins=10, weight = [True, True], njack = 100, \n",
    "                    suffix = '_DR12v5_CMASS_South_bins10_jk100', dir = basedir)"
   ]
  },
  {
   "cell_type": "code",
   "execution_count": 36,
   "metadata": {},
   "outputs": [
    {
     "name": "stdout",
     "output_type": "stream",
     "text": [
      "calculate angular correlation function\n",
      "exiting jkregion file found : ../data_txt/random_test/./jkregion.txt\n",
      "generate new jkregion : ../data_txt/random_test/./jkregion.txt\n",
      "X (960, 2)  centers (50, 2)  tol=1e-05  maxiter=200\n",
      "16 iterations  cluster sizes: [28 11 13 15 18 25 23 18 17 16 24 26 17 14 14 23 17 15 24 12 20 14 16 27\n",
      " 26 24 23 15 28 13 22 19 16 17 12 13 25 23 17 18 13 14 23 23 14 16 18 20\n",
      " 18 43]\n",
      "X (230831, 2)  centers (50, 2)  tol=1e-05  maxiter=200\n",
      "156 iterations  cluster sizes: [4951 4395 4846 4033 5093 4068 4207 4871 4532 4581 4271 4602 4336 4101\n",
      " 4515 4813 3664 4242 5023 4637 4685 4360 4517 4409 3998 4864 4097 4696\n",
      " 5099 5086 5456 5115 5286 3695 4906 5282 5664 4610 4864 5066 3241 5235\n",
      " 4547 4724 4408 2999 4995 4929 4917 5300]\n",
      ". . . . . . . . . . . . . . . . . . . . . . . . . . . . . . . . . . . . . . . . . . . . . . . . . . . saving data file to :  ../data_txt/random_test//acf_auto_DR12v5_CMASS_South_bins10_jk50.txt\n"
     ]
    }
   ],
   "source": [
    "angular_correlation(data = cmass_sgc, rand = rand_sgc, \n",
    "                    nbins=10, weight = [True, True], njack = 50, \n",
    "                    suffix = '_DR12v5_CMASS_South_bins10_jk50', dir = basedir)"
   ]
  },
  {
   "cell_type": "code",
   "execution_count": null,
   "metadata": {},
   "outputs": [],
   "source": [
    "angular_correlation(data = cmass_sgc, rand = rand_sgc, \n",
    "                    nbins=20, weight = [True, True], njack = 100, \n",
    "                    suffix = '_DR12v5_CMASS_South_bins20_jk100', dir = basedir)"
   ]
  },
  {
   "cell_type": "code",
   "execution_count": null,
   "metadata": {},
   "outputs": [],
   "source": [
    "randind = np.random.choice(rand_sgc.size, size = rand_sgc.size/5)\n",
    "angular_correlation(data = cmass_sgc, rand = rand_sgc[randind], \n",
    "                    nbins=10, weight = [True, True], njack = 100, \n",
    "                    suffix = '_DR12v5_CMASS_South_ran5_bins10_jk100', dir = basedir)\n",
    "\n",
    "randind2 = np.random.choice(rand_sgc.size, size = rand_sgc.size/10)\n",
    "angular_correlation(data = cmass_sgc, rand = rand_sgc[randind2], \n",
    "                    nbins=10, weight = [True, True], njack = 100, \n",
    "                    suffix = '_DR12v5_CMASS_South_ran10_bins10_jk100', dir = basedir)"
   ]
  },
  {
   "cell_type": "code",
   "execution_count": 25,
   "metadata": {},
   "outputs": [
    {
     "name": "stdout",
     "output_type": "stream",
     "text": [
      "calculate angular correlation function\n",
      "exiting jkregion file found : ../data_txt/random_test/./jkregion.txt\n",
      "generate new jkregion : ../data_txt/random_test/./jkregion.txt\n",
      "X (1656, 2)  centers (50, 2)  tol=1e-05  maxiter=200\n",
      "18 iterations  cluster sizes: [27 22 23 30 15 34 20 44 24 37 31 37 24 23 49 16 47 20 56 25 37 29 20 36\n",
      " 29 28 31 42 45 24 55 51 36 23 54 31 15 28 38 55 43 30 42 10 45 34 30 43\n",
      " 45 23]\n",
      "X (685616, 2)  centers (50, 2)  tol=1e-05  maxiter=200\n",
      "45 iterations  cluster sizes: [10756 13034 11498 12218 10348 13960 13826 14041 12353 18424 13190 16086\n",
      " 11536 13840 18695 10487 11167 11525 13918 14643 15805 15023 13402 13850\n",
      " 15287  9400 16049 13108 14154 12414 18938 18070 13939 15693 17362 11336\n",
      "  7437 13435  8863 20362 15354 12804 16176  5636 15074 14054 12928 17014\n",
      " 13675 13429]\n",
      ". . . . . . . . . . . . . . . . . . . . . . . . . . . . . . . . . . . . . . . . . . . . . . . . . . . saving data file to :  ../data_txt/random_test//acf_auto_dmass_bins10_jk100.txt\n",
      "calculate angular correlation function\n",
      "exiting jkregion file found : ../data_txt/random_test/./jkregion.txt\n",
      "generate new jkregion : ../data_txt/random_test/./jkregion.txt\n",
      "X (1656, 2)  centers (50, 2)  tol=1e-05  maxiter=200\n",
      "25 iterations  cluster sizes: [38 35 17 15 25 32 35 37 39 46 53 21 29 44 43 13 49 42 34 24 40 28 23 36\n",
      " 72 28 38 29 37 27 30 31 31 18 23 30 44 37 32 48 29 29 26 36 25 37 33 36\n",
      " 20 32]\n",
      "X (685616, 2)  centers (50, 2)  tol=1e-05  maxiter=200\n",
      "109 iterations  cluster sizes: [13458 14286  9526 13165 12225 14622 16020  9677 16900 15145 14940 13311\n",
      " 10808 15804 13002  5649 13835 15929 14523 12421 16472 13245 13070 16854\n",
      " 13740 14833 15166 13950 14484 15256 13560 11492 12762 13423 13835 14000\n",
      " 15062 15744 14030 13500 12330 12758 11282 13415 14407 14160 13564 15797\n",
      " 12809 15370]\n",
      ". . . . . . . . . . . . . . . . . . . . . . . . . . . . . . . . . . . . . . . . . . . . . . . . . . . saving data file to :  ../data_txt/random_test//acf_auto_dmass_pcut_bins10_jk100.txt\n",
      "calculate angular correlation function\n",
      "exiting jkregion file found : ../data_txt/random_test/./jkregion.txt\n",
      "generate new jkregion : ../data_txt/random_test/./jkregion.txt\n",
      "X (1656, 2)  centers (50, 2)  tol=1e-05  maxiter=200\n",
      "32 iterations  cluster sizes: [33 44 33 13 58 26 36 49 40 26 52 37 36 44 62 38 25 29 29 23 46 19 40 25\n",
      " 42 30 11 20 59 21 42 19 30 28 35 46 49 29 20 47 24 22 24 28 38 10 34 12\n",
      " 39 34]\n",
      "X (685616, 2)  centers (50, 2)  tol=1e-05  maxiter=200\n",
      "88 iterations  cluster sizes: [12593 19443 10443 11296 12771 11965 14489 14507 13231 14484 13524 17531\n",
      " 14615 13823 20854 12411 15399 13584 13261 14378 16196 15103 13719 12665\n",
      " 13554 14654 13593 13900 16340 10691 12030 14161 12418 15277 10061 16734\n",
      " 14621 11866 13482 15425 13098  9681 13268 12710 11959  5665 14616 12032\n",
      " 15616 15879]\n",
      ". . . . . . . . . . . . . . . . . . . . . . . . . . . . . . . . . . . . . . . . . . . . . . . . . . . saving data file to :  ../data_txt/random_test//acf_auto_dmass_pcut_weight_bins10_jk100.txt\n"
     ]
    }
   ],
   "source": [
    "angular_correlation(data = dmass, rand = rand_dmass, \n",
    "                    nbins=10, weight = [True, None], njack = 50, \n",
    "                    suffix = '_dmass_bins10_jk100', dir = basedir)\n",
    "angular_correlation(data = dmass_pcut, rand = rand_dmass, \n",
    "                    nbins=10, weight = [True, None], njack = 50, \n",
    "                    suffix = '_dmass_pcut_bins10_jk100', dir = basedir)\n",
    "angular_correlation(data = dmass_pcut_weight, rand = rand_dmass, \n",
    "                    nbins=10, weight = [True, None], njack = 50, \n",
    "                    suffix = '_dmass_pcut_weight_bins10_jk100', dir = basedir)"
   ]
  },
  {
   "cell_type": "code",
   "execution_count": null,
   "metadata": {},
   "outputs": [],
   "source": []
  },
  {
   "cell_type": "code",
   "execution_count": 24,
   "metadata": {},
   "outputs": [],
   "source": [
    "cmass_sgc_data1 = np.genfromtxt('../data_txt/cmass/npairs_cmass_sgc_bins10_binslop_05.txt')\n",
    "#cmass_sgc_data2 = np.genfromtxt('../data_txt/random_test/npairs_cmass_sgc_ran5.txt')\n",
    "cmass_sgc_data2 = np.genfromtxt('../data_txt/cmass/npairs_cmass_sgc_veto_bins10_binslop_05_ran5.txt')\n",
    "#cmass_sgc_data3 = np.genfromtxt('../data_txt/random_test/npairs_cmass_sgc_ran10.txt')\n",
    "cmass_sgc_data3 = np.genfromtxt('../data_txt/cmass/npairs_cmass_sgc_veto_bins10_binslop_05_ran10.txt')\n",
    "cmass_sgc_data4 = np.genfromtxt('../data_txt/cmass/npairs_cmass_sgc_veto_bins10_binslop_05_ranx2.txt')\n",
    "cmass_sgc_data5 = np.genfromtxt('../data_txt/random_test/npairs_cmass_sgc_no_weight.txt')\n",
    "cmass_sgc_data6 = np.genfromtxt('../data_txt/random_test/npairs_cmass_sgc_reid.txt')\n",
    "cmass_sgc_data7 = np.genfromtxt('../data_txt/random_test/npairs_cmass_sgc_veto.txt')\n",
    "cmass_sgc_data8 = np.genfromtxt('../data_txt/cmass/npairs_cmass_sgc_veto_bins10_binslop_1.txt')\n",
    "cmass_sgc_data9 = np.genfromtxt('../data_txt/cmass/npairs_cmass_sgc_veto_bins10_binslop_05.txt')\n",
    "#cmass_sgc_data10 = np.genfromtxt('../data_txt/cmass/npairs_cmass_sgc_veto_bins10_binslop_01.txt')\n",
    "\n",
    "theta, _, _, xi_sgc1, sigma_xi_sgc1, DD, RR, DR, npairs = [cmass_sgc_data1[:,i] for i in range(9)]\n",
    "theta, _, _, xi_sgc2, sigma_xi_sgc2, DD2, RR2, DR2, npairs2 = [cmass_sgc_data2[:,i] for i in range(9)]\n",
    "theta, _, _, xi_sgc3, sigma_xi_sgc3, DD3, RR3, DR3, npairs3 = [cmass_sgc_data3[:,i] for i in range(9)]\n",
    "theta, _, _, xi_sgc4, sigma_xi_sgc4, DD4, RR4, DR4, npairs4 = [cmass_sgc_data4[:,i] for i in range(9)]\n",
    "theta, _, _, xi_sgc5, sigma_xi_sgc5, DD5, RR5, DR5, npairs5 = [cmass_sgc_data5[:,i] for i in range(9)]\n",
    "theta, _, _, xi_sgc6, sigma_xi_sgc6, DD6, RR6, DR6, npairs6 = [cmass_sgc_data6[:,i] for i in range(9)]\n",
    "theta, _, _, xi_sgc7, sigma_xi_sgc7, DD7, RR7, DR7, npairs7 = [cmass_sgc_data7[:,i] for i in range(9)]\n",
    "theta8, _, _, xi_sgc8, sigma_xi_sgc8, DD8, RR8, DR8, npairs8 = [cmass_sgc_data8[:,i] for i in range(9)]\n",
    "theta9, _, _, xi_sgc9, sigma_xi_sgc9, DD9, RR9, DR9, npairs9 = [cmass_sgc_data9[:,i] for i in range(9)]\n",
    "#theta10, _, _, xi_sgc10, sigma_xi_sgc10, DD10, RR10, DR10, npairs10 = [cmass_sgc_data10[:,i] for i in range(9)]\n",
    "\n",
    "\n",
    "cmass_ngc_data1 = np.genfromtxt('../data_txt/cmass/npairs_cmass_ngc_bins10_binslop_2.txt')\n",
    "cmass_ngc_data2 = np.genfromtxt('../data_txt/cmass/npairs_cmass_ngc_bins10_binslop_05.txt')\n",
    "#cmass_ngc_data3 = np.genfromtxt('../data_txt/random_test/npairs_cmass_ngc_ran10.txt')\n",
    "#cmass_ngc_data5 = np.genfromtxt('../data_txt/random_test/npairs_cmass_ngc_no_weight.txt')\n",
    "theta, _, _, xi_ngc1, sigma_xi_ngc1, _, _, _, _ = [cmass_ngc_data1[:,i] for i in range(9)]\n",
    "theta, _, _, xi_ngc2, sigma_xi_ngc2, _, _, _, _ = [cmass_ngc_data2[:,i] for i in range(9)]\n",
    "\n",
    "#theta, xi_ngc1, sigma_xi_ngc1 = cmass_ngc_data1[:,0], cmass_ngc_data1[:,3], cmass_ngc_data1[:,4]\n",
    "#theta, xi_ngc2, sigma_xi_ngc2 = cmass_ngc_data2[:,0], cmass_ngc_data2[:,3], cmass_ngc_data2[:,4]\n",
    "#theta, xi_ngc3, sigma_xi_ngc3 = cmass_ngc_data3[:,0], cmass_ngc_data3[:,3], cmass_ngc_data3[:,4]\n",
    "#theta, _, _, xi_ngc5, sigma_xi_ngc5, DDN5, RRN5, DRN5, npairsN5 = [cmass_ngc_data5[:,i] for i in range(9)]\n",
    "\n",
    "\n",
    "cmass_sgc_data = np.genfromtxt('../data_txt/cmass/npairs_cmass_sgc_bins10_binslop_05.txt')\n",
    "#cmass_sgc_data = np.genfromtxt('../data_txt/cmass/npairs_DR12v5_CMASS_South_10bins_binslop_01.txt')\n",
    "_, meanr_sgc_new, _, xi_sgc_new, sigma_xi_sgc_new, DD_sgc, RR_sgc, DR_sgc, npairs_sgc = [cmass_sgc_data[:,i] for i in range(9)]\n",
    "\n",
    "cmass_ngc_data1 = np.genfromtxt('../data_txt/cmass/npairs_cmass_ngc_bins10_binslop_05.txt')\n",
    "_, meanr_ngc_new, _, xi_ngc_new, sigma_xi_ngc_new, DD_ngc, RR_ngc, DR_ngc, npairs_ngc = [cmass_ngc_data1[:,i] for i in range(9)]\n",
    "\n",
    "cmass_full_data = np.genfromtxt('../data_txt/cmass/npairs_cmass_combined_ngc_sgc_bins10_binslop_05.txt')\n",
    "_, meanr_full_new, _, xi_full_new, sigma_xi_full_new, _, _, _, _ = [cmass_full_data[:,i] for i in range(9)]\n",
    "\n",
    "\n",
    "meanr_sgc_old, xi_sgc_old, sigma_xi_sgc_old = np.loadtxt('../data_txt//acf_auto_cmass_sgc_sys_cp_nz_weight_nbins10_jk100.txt',unpack=True)\n",
    "meanr_full_old, xi_full_old, sigma_xi_full_old = np.loadtxt('../data_txt//acf_auto_cmass_full_sys_cp_nz_weight_nbins10_jk100.txt',unpack=True)\n",
    "\n"
   ]
  },
  {
   "cell_type": "code",
   "execution_count": null,
   "metadata": {},
   "outputs": [],
   "source": []
  },
  {
   "cell_type": "code",
   "execution_count": 5,
   "metadata": {},
   "outputs": [],
   "source": [
    "theta, xi_sgc_jk100, xi_sigma_sgc_jk100 = \\\n",
    "np.genfromtxt('../data_txt/random_test/acf_auto_DR12v5_CMASS_South_bins10_jk100.txt', unpack=True)\n",
    "theta2, xi_dmass1, xi_sigma_dmass1 = \\\n",
    "np.genfromtxt('../data_txt/random_test//acf_auto_dmass_bins10_jk100.txt', unpack=True)\n",
    "theta2, xi_dmass2, xi_sigma_dmass2 = \\\n",
    "np.genfromtxt('../data_txt/random_test/acf_auto_dmass_pcut_bins10_jk100.txt', unpack=True)\n",
    "#theta_old, xi_dmass_old, xi_sigma_dmass_old = \\\n",
    "#np.genfromtxt('../data_txt/random_test/acf_auto_dmass_pcut_weight_bins10_jk100.txt', unpack=True)\n",
    "#theta_old, xi_dmass_old, xi_sigma_dmass_old = \\\n",
    "#np.genfromtxt('../data_txt/random_test/acf_auto_dmass_pcut_weight_bins10_jk100.txt', unpack=True)\n",
    "\n",
    "rootdir = '../output/sfd_train_photo_SamPle_nozband_ran10_3_full_tol1e5//act/'\n",
    "theta_old, xi_dmass_old, xi_sigma_dmass_old = np.genfromtxt(rootdir+'acf_auto_dmass_all_weight_pcut01_nbins10_jk100.txt', unpack=True) \n",
    "\n",
    "dmass_data = np.genfromtxt('../data_txt/cmass/npairs_dmass_pcut_sysweight_bins10_binslop_05.txt')\n",
    "theta2, theta_mean2, _, xi_dmass2, xi_sigma_dmass2, _, _, _, _ = [dmass_data[:,i] for i in range(9)]\n",
    "\n",
    "#dmass_data = np.genfromtxt('../data_txt/cmass/npairs_dmass_pcut_sysweight_bins10_binslop_05_ran4.txt')\n",
    "#theta2, theta_mean2, _, xi_dmass2, xi_sigma_dmass2, _, _, _, _ = [dmass_data[:,i] for i in range(9)]\n"
   ]
  },
  {
   "cell_type": "code",
   "execution_count": 6,
   "metadata": {},
   "outputs": [],
   "source": [
    "cov_mocks = np.genfromtxt('../data_txt/mocks/cov_mock_galaxy_DR12_CMASS_S_QPM_760.cov')\n",
    "cov_mocks_ngc = np.genfromtxt('../data_txt/mocks/cov_mock_galaxy_DR12_CMASS_N_QPM_656.cov')\n",
    "cov_mocks_full = np.linalg.inv(np.linalg.inv( cov_mocks ) + np.linalg.inv( cov_mocks_ngc ))\n",
    "cov_rescaled_mocks = np.genfromtxt('../data_txt/cmass/cov_rescaled_mocks_NG.txt')\n",
    "\n",
    "\n",
    "sigma_sgc_mock = np.sqrt(cov_mocks.diagonal())\n",
    "sigma_dmass_mock = np.sqrt(cov_rescaled_mocks.diagonal())\n",
    "sigma_full_mock = np.sqrt(cov_mocks_full.diagonal())"
   ]
  },
  {
   "cell_type": "code",
   "execution_count": 25,
   "metadata": {
    "scrolled": false
   },
   "outputs": [
    {
     "data": {
      "image/png": "[encoded data removed]",
      "text/plain": [
       "<matplotlib.figure.Figure at 0x7f3e0fa31a90>"
      ]
     },
     "metadata": {
      "needs_background": "light"
     },
     "output_type": "display_data"
    },
    {
     "data": {
      "image/png": "[encoded data removed]",
      "text/plain": [
       "<matplotlib.figure.Figure at 0x7f3e0f25fa10>"
      ]
     },
     "metadata": {
      "needs_background": "light"
     },
     "output_type": "display_data"
    },
    {
     "data": {
      "image/png": "[encoded data removed]",
      "text/plain": [
       "<matplotlib.figure.Figure at 0x7f3e0f2dbd50>"
      ]
     },
     "metadata": {
      "needs_background": "light"
     },
     "output_type": "display_data"
    }
   ],
   "source": [
    "meanr_sgc, xi_sgc_origin, xi_err_sgc_origin = np.loadtxt('../data_txt//acf_auto_cmass_sgc_sys_cp_nz_weight_nbins10_jk100.txt',unpack=True)\n",
    "#cov_cmass_s = np.genfromtxt('../data_txt//acf_auto_cmass_sgc_sys_cp_nz_weight_nbins10_jk100.cov')\n",
    "\n",
    "theta_th, theory_sgc = np.loadtxt('../data_txt/acf_cmass_sgc_theory.txt', unpack=True)\n",
    "\n",
    "\n",
    "fig, (ax, ax2) = plt.subplots(2, 1, figsize = (7, 5), gridspec_kw = {'height_ratios':[2, 1]})\n",
    "ax.plot( theta_th, theta_th*theory_sgc, color = 'grey', ls='--', label='theory')\n",
    "#ax.errorbar( meanr_sgc, xi_sgc_origin, yerr = xi_err_sgc_origin, color = 'k', label='SGC origin')\n",
    "ax.errorbar(theta_old, theta_old*xi_dmass_old, yerr = theta_old*sigma_dmass_mock, color = 'red', lw = 1, label='dmass jk mean')\n",
    "ax.errorbar(theta_mean2, theta_mean2*xi_dmass2, yerr = theta_mean2*sigma_dmass_mock, color = 'black', lw = 1, label='dmass new')\n",
    "\n",
    "ax.set_xlim(2.5/60., 250/60.)\n",
    "#ax.set_ylim(0, 0.3)\n",
    "\n",
    "ax2.set_xlabel('theta(deg)')\n",
    "ax.set_ylabel('wtheta')\n",
    "ax.set_xscale('log')\n",
    "#ax.set_yscale('log')\n",
    "ax.legend()\n",
    "\n",
    "ax2.plot(theta_old, (xi_dmass_old -xi_dmass2)/xi_dmass2 )\n",
    "ax2.axhline(y=0, color='grey', ls='--')\n",
    "ax2.set_xscale('log')\n",
    "ax2.set_ylabel('frac diff')\n",
    "fig.subplots_adjust(hspace=0.0);\n",
    "\n",
    "\n",
    "fig, (ax, ax2) = plt.subplots(2, 1, figsize = (7, 5), gridspec_kw = {'height_ratios':[2, 1]})\n",
    "ax.plot( theta_th, theta_th*theory_sgc, color = 'grey', ls='--', label='theory')\n",
    "#ax.errorbar( meanr_sgc, xi_sgc_origin, yerr = xi_err_sgc_origin, color = 'k', label='SGC origin')\n",
    "ax.errorbar(meanr_sgc_old, meanr_sgc_old*xi_sgc_old, yerr = meanr_sgc_old*sigma_sgc_mock, color = 'red', lw = 1, label='sgc jk mean')\n",
    "ax.errorbar(meanr_sgc_new, meanr_sgc_old*xi_sgc_new, yerr = meanr_sgc_old*sigma_sgc_mock, color = 'black', lw = 1, label='sgc new')\n",
    "\n",
    "ax.set_xlim(2.5/60., 250/60.)\n",
    "#ax.set_ylim(0, 0.3)\n",
    "\n",
    "ax2.set_xlabel('theta(deg)')\n",
    "ax.set_ylabel('wtheta')\n",
    "ax.set_xscale('log')\n",
    "#ax.set_yscale('log')\n",
    "ax.legend()\n",
    "\n",
    "ax2.plot(meanr_sgc_old, (xi_sgc_old -xi_sgc_new)/xi_sgc_new )\n",
    "ax2.axhline(y=0, color='grey', ls='--')\n",
    "ax2.set_xscale('log')\n",
    "ax2.set_ylabel('frac diff')\n",
    "fig.subplots_adjust(hspace=0.0);\n",
    "\n",
    "fig, (ax, ax2) = plt.subplots(2, 1, figsize = (7,5), gridspec_kw = {'height_ratios':[2, 1]})\n",
    "ax.plot( theta_th, theta_th*theory_sgc, color = 'grey', ls='--', label='theory')\n",
    "#ax.errorbar( meanr_sgc, xi_sgc_origin, yerr = xi_err_sgc_origin, color = 'k', label='SGC origin')\n",
    "ax.errorbar(meanr_full_old, meanr_full_old*xi_full_old, yerr = meanr_full_old*sigma_full_mock, color = 'red', lw = 1, label='full jk mean')\n",
    "ax.errorbar(meanr_full_new, meanr_full_new*xi_full_new, yerr = meanr_full_new*sigma_full_mock, color = 'black', lw = 1, label='full new')\n",
    "\n",
    "ax.set_xlim(2.5/60., 250/60.)\n",
    "#ax.set_ylim(0, 0.3)\n",
    "\n",
    "ax2.set_xlabel('theta(deg)')\n",
    "ax.set_ylabel('wtheta')\n",
    "ax.set_xscale('log')\n",
    "#ax.set_yscale('log')\n",
    "ax.legend()\n",
    "\n",
    "ax2.plot(meanr_full_old, (xi_full_old -xi_full_new)/xi_full_new )\n",
    "ax2.axhline(y=0, color='grey', ls='--')\n",
    "ax2.set_xscale('log')\n",
    "ax2.set_ylabel('frac diff')\n",
    "\n",
    "fig.subplots_adjust(hspace=0.0);"
   ]
  },
  {
   "cell_type": "code",
   "execution_count": null,
   "metadata": {},
   "outputs": [],
   "source": []
  },
  {
   "cell_type": "code",
   "execution_count": null,
   "metadata": {},
   "outputs": [],
   "source": []
  },
  {
   "cell_type": "code",
   "execution_count": 94,
   "metadata": {},
   "outputs": [
    {
     "data": {
      "text/plain": [
       "<matplotlib.legend.Legend at 0x7f36c9c6f090>"
      ]
     },
     "execution_count": 94,
     "metadata": {},
     "output_type": "execute_result"
    },
    {
     "data": {
      "image/png": "[encoded data removed]",
      "text/plain": [
       "<matplotlib.figure.Figure at 0x7f36caab84d0>"
      ]
     },
     "metadata": {
      "needs_background": "light"
     },
     "output_type": "display_data"
    }
   ],
   "source": [
    "\n",
    "meanr_sgc, xi_sgc_origin, xi_err_sgc_origin = np.loadtxt('../data_txt//acf_auto_cmass_sgc_sys_cp_nz_weight_nbins10_jk100.txt',unpack=True)\n",
    "#cov_cmass_s = np.genfromtxt('../data_txt//acf_auto_cmass_sgc_sys_cp_nz_weight_nbins10_jk100.cov')\n",
    "\n",
    "theta_th, theory_sgc = np.loadtxt('../data_txt/acf_cmass_sgc_theory.txt', unpack=True)\n",
    "\n",
    "\n",
    "fig, (ax, ax2) = plt.subplots(2,1, figsize = (10,15))\n",
    "ax.plot( theta_th, theory_sgc, color = 'grey', ls='--', label='theory')\n",
    "#ax.errorbar( meanr_sgc, xi_sgc_origin, yerr = xi_err_sgc_origin, color = 'k', label='SGC origin')\n",
    "ax.errorbar(theta2, xi_dmass, yerr = xi_sigma_dmass, color = 'red', lw = 1, label='dmass')\n",
    "#ax.errorbar(theta2, xi_dmass2, yerr = xi_sigma_dmass2, color = 'red', lw = 1, label='dmass ran4')\n",
    "#ax.plot( theta_th, theory_sgc, color = 'grey', ls='--', label='theory')\n",
    "#ax.plot( R_mean, dmass_xi, label='DMASS')\n",
    "ax.errorbar( theta, xi_sgc1, yerr = sigma_xi_sgc1, label='SGC full')\n",
    "ax.errorbar( theta, xi_ngc1, yerr = sigma_xi_ngc1, label='NGC full')\n",
    "ax.errorbar( theta, xi_ngc2, yerr = sigma_xi_ngc2, label='NGC full 2')\n",
    "#ax.errorbar( theta, xi_sgc2, yerr = sigma_xi_sgc2, label='SGC ran5')\n",
    "#ax.errorbar( theta, xi_sgc3, yerr = sigma_xi_sgc3, label='SGC ran10')\n",
    "#ax.errorbar( theta, xi_sgc4, yerr = sigma_xi_sgc4, fmt='--',  label='SGC ran x2')\n",
    "#ax.errorbar( theta, xi_sgc6, yerr = sigma_xi_sgc6, label='SGC reid')\n",
    "#ax.errorbar( theta8, xi_sgc8, yerr = sigma_xi_sgc8, label='SGC veto binslop')\n",
    "#ax.errorbar( theta8, xi_sgc9, yerr = sigma_xi_sgc9, fmt='--', label='SGC veto binslop 05')\n",
    "#ax.errorbar( theta8, xi_sgc10, yerr = sigma_xi_sgc10, label='SGC veto binslop 01')\n",
    "\n",
    "#ax.errorbar(theta, xi_sgc_jk100, yerr = xi_sigma_sgc_jk100, label='jk100')\n",
    "\n",
    "\n",
    "ax.set_xlim(2.5/60., 250/60.)\n",
    "#ax.set_ylim(0, 0.3)\n",
    "\n",
    "ax.set_xlabel('theta(deg)')\n",
    "ax.set_ylabel('wtheta')\n",
    "ax.set_xscale('log')\n",
    "ax.set_yscale('log')\n",
    "ax.legend()\n",
    "\n",
    "\n",
    "ax2.plot( theta_th, theory_sgc, color = 'grey', ls='--', label='theory')\n",
    "#ax.plot( theta_th, theory_sgc, color = 'grey', ls='--', label='theory')\n",
    "#ax.plot( R_mean, dmass_xi, label='DMASS')\n",
    "ax2.errorbar( theta, xi_ngc1, yerr = sigma_xi_sgc1, label='NGC')\n",
    "#ax2.errorbar( theta, xi_ngc2, yerr = sigma_xi_sgc2, label='NGC ran5')\n",
    "#ax2.errorbar( theta, xi_ngc3, yerr = sigma_xi_sgc3, label='NGC ran10')\n",
    " \n",
    "ax2.set_xlim(2.5/60., 250/60.)\n",
    "#ax.set_ylim(0, 0.3)\n",
    "\n",
    "ax2.set_xlabel('theta(deg)')\n",
    "ax2.set_ylabel('wtheta')\n",
    "ax2.set_xscale('log')\n",
    "ax2.set_yscale('log')\n",
    "ax2.legend()\n",
    "\n"
   ]
  },
  {
   "cell_type": "code",
   "execution_count": null,
   "metadata": {},
   "outputs": [],
   "source": []
  }
 ],
 "metadata": {
  "kernelspec": {
   "display_name": "Python 2",
   "language": "python",
   "name": "python2"
  },
  "language_info": {
   "codemirror_mode": {
    "name": "ipython",
    "version": 2
   },
   "file_extension": ".py",
   "mimetype": "text/x-python",
   "name": "python",
   "nbconvert_exporter": "python",
   "pygments_lexer": "ipython2",
   "version": "2.7.5"
  }
 },
 "nbformat": 4,
 "nbformat_minor": 2
}
