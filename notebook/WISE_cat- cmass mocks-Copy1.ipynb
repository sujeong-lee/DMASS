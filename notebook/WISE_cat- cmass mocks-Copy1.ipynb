{
 "cells": [
  {
   "cell_type": "markdown",
   "metadata": {},
   "source": [
    "# Cross correlation with WISE Catalog "
   ]
  },
  {
   "cell_type": "code",
   "execution_count": 1,
   "metadata": {},
   "outputs": [],
   "source": [
    "import sys, os\n",
    "sys.path.append('../')\n",
    "from xd import *\n",
    "from utils import *\n",
    "import esutil\n",
    "import healpy as hp\n",
    "from systematics import *\n",
    "from cmass_modules import *\n",
    "\n",
    "%matplotlib inline\n",
    "\n",
    "%load_ext autoreload\n",
    "%autoreload 2"
   ]
  },
  {
   "cell_type": "code",
   "execution_count": 2,
   "metadata": {},
   "outputs": [],
   "source": [
    "def reddening_cat(cat, reddening_map = None):\n",
    "    \n",
    "    reddening = reddening_map\n",
    "    \n",
    "    cathpind = hpRaDecToHEALPixel(cat['RA'], cat['DEC'], nside=4096, nest=False)\n",
    "    mind = np.arange(hp.nside2npix(4096))\n",
    "    reliable_hp_mask = (reddening < 0.05/0.367)\n",
    "    reliable_hpind = mind[reliable_hp_mask]\n",
    "    reliable_mask = np.in1d(cathpind, reliable_hpind)\n",
    "    \n",
    "    print cat.size,\n",
    "    cat = cat[reliable_mask]\n",
    "    print cat.size\n",
    "    \n",
    "    return cat"
   ]
  },
  {
   "cell_type": "code",
   "execution_count": 3,
   "metadata": {},
   "outputs": [],
   "source": [
    "def BOSSveto(cat, option='SGC'):\n",
    "    \n",
    "    if option == 'SGC':\n",
    "        valid_hpind = fitsio.read('/n/des/lee.5922/data/cmass_cat/vetomask/mask_nside4096_Patchy-Mocks-Randoms-DR12SGC-COMPSAM_V6C.fits')\n",
    "    elif option == 'NGC': \n",
    "        valid_hpind = fitsio.read('/n/des/lee.5922/data/cmass_cat/vetomask/mask_nside4096_Patchy-Mocks-Randoms-DR12NGC-COMPSAM_V6C.fits')\n",
    "\n",
    "    hpind = hpRaDecToHEALPixel(cat['RA'], cat['DEC'], nside=4096, nest= False)\n",
    "    HPmask = np.in1d(hpind, valid_hpind)\n",
    "    \n",
    "    return cat[HPmask]"
   ]
  },
  {
   "cell_type": "code",
   "execution_count": 4,
   "metadata": {},
   "outputs": [],
   "source": [
    "def moon_cont_mask(cat):\n",
    "    \n",
    "    mask = np.zeros(cat.size, dtype = 'bool') #(cat['MOON_LEV']=='0000')\n",
    "    #combinations = []\n",
    "    for i in [0,1,2]:\n",
    "        for j in [0,1,2]:\n",
    "            for k in [0,1,2]:\n",
    "                for l in [0,1,2]:\n",
    "                    filt = '{}{}{}{}'.format(i,j,k,l)\n",
    "                    mask +=(cat['MOON_LEV']==filt)\n",
    "    return mask\n",
    " "
   ]
  },
  {
   "cell_type": "code",
   "execution_count": 5,
   "metadata": {},
   "outputs": [],
   "source": [
    "def making_healpix_density_map(cat = None, nside = 128, nest = False):\n",
    "    hpind = np.arange(hp.nside2npix(nside))\n",
    "    cat_ind = hpRaDecToHEALPixel(cat['RA'], cat['DEC'], nside= nside, nest= nest)\n",
    "    N_gal, _ = np.histogram(cat_ind, bins = np.append(hpind, hpind.size) )\n",
    "    unseen = (N_gal != 0.0)\n",
    "    pixarea = hp.nside2pixarea(nside = nside)\n",
    "    ra,dec = hpHEALPixelToRaDec(hpind)\n",
    "    Map = np.zeros( (hpind.size, ), dtype = [('RA', 'float'),('DEC', 'float'),('PIXEL', 'float'), ('N_GAL', 'float') \\\n",
    "                                            , ('WEIGHT', 'float') , ('WEIGHT_RAND', 'bool') ])\n",
    "    Map['RA'] = ra\n",
    "    Map['DEC'] = dec\n",
    "    Map['PIXEL'] = hpind\n",
    "    Map['N_GAL'] = N_gal*1./pixarea    \n",
    "    Map['WEIGHT'] = N_gal*1./pixarea \n",
    "    Map['WEIGHT_RAND'] = unseen\n",
    "    return Map"
   ]
  },
  {
   "cell_type": "code",
   "execution_count": 6,
   "metadata": {},
   "outputs": [],
   "source": [
    "#from astropy.table import Table\n",
    "#t = Table.read('/n/des/lee.5922/data/wise_cat/wise_allsky.allsky_4band_p3as_psd25158.tbl', format='ipac')\n",
    "#t.write('/n/des/lee.5922/data/wise_cat/wise_allsky.allsky_4band_p3as_psd25158.fits', format='fits', overwrite=True)"
   ]
  },
  {
   "cell_type": "markdown",
   "metadata": {},
   "source": [
    "# Calling DES-CMASS"
   ]
  },
  {
   "cell_type": "code",
   "execution_count": 7,
   "metadata": {},
   "outputs": [
    {
     "data": {
      "text/plain": [
       "256"
      ]
     },
     "execution_count": 7,
     "metadata": {},
     "output_type": "execute_result"
    }
   ],
   "source": [
    "rootdir = '../output/sfd_train_photo_SamPle_nozband_ran10_3_full_tol1e5/'\n",
    "inputdir = rootdir\n",
    "figoutdir = inputdir+'/figure/'\n",
    "sysoutdir = inputdir+'/sys/'\n",
    "actdir = inputdir + '/act/'\n",
    "wdir = sysoutdir+'/weights/'\n",
    "os.system('mkdir '+inputdir)\n",
    "os.system('mkdir '+figoutdir)\n",
    "os.system('mkdir '+sysoutdir)\n",
    "os.system('mkdir '+wdir)\n",
    "#os.system('cp ../data_txt/systematics/4th/systematic*_no_weight.txt '+inputdir+'/.')"
   ]
  },
  {
   "cell_type": "code",
   "execution_count": 8,
   "metadata": {},
   "outputs": [
    {
     "name": "stdout",
     "output_type": "stream",
     "text": [
      "\n",
      "--------------------------------\n",
      " calling catalog\n",
      "--------------------------------\n",
      "dmass_spt_sys_v3.fits\n",
      "\n",
      "--------------------------------\n",
      " calling catalog\n",
      "--------------------------------\n",
      "random_x50_dmass_spt_masked.fits\n",
      "\n",
      "--------------------------------\n",
      " calling catalog\n",
      "--------------------------------\n",
      "random_x50_dmass_spt.fits\n"
     ]
    }
   ],
   "source": [
    "dmass_spt = io.SearchAndCallFits(path= rootdir, keyword='dmass_spt_sys_v3.fits')\n",
    "dmass_random_masked = io.SearchAndCallFits(path= rootdir, keyword='random_x50_dmass_spt_masked.fits')\n",
    "dmass_random = io.SearchAndCallFits(path= rootdir, keyword='random_x50_dmass_spt.fits')\n",
    "#dmass_random = Cuts.keepGoodRegion(uniform_random_on_sphere(dmass_spt, size = dmass_spt.size * 30 ))\n",
    "\n",
    "dmass_spt = appendColumn(dmass_spt, name = 'WEIGHT', value = np.ones(dmass_spt.size))\n",
    "dmass_spt['WEIGHT'] = dmass_spt['CMASS_PROB'] * dmass_spt['WEIGHT_SYS']\n",
    "dmass_spt = dmass_spt[dmass_spt['CMASS_PROB'] > 0.01 ]"
   ]
  },
  {
   "cell_type": "markdown",
   "metadata": {},
   "source": [
    "# Calling CMASS"
   ]
  },
  {
   "cell_type": "code",
   "execution_count": 9,
   "metadata": {},
   "outputs": [],
   "source": [
    "#CMASS SGC\n",
    "path = '/n/des/lee.5922/data/cmass_cat/'\n",
    "cmass = esutil.io.read([path+'galaxy_DR12v5_CMASS_South.fits.gz',\n",
    "                        #path+'galaxy_DR12v5_CMASS_North.fits.gz'\n",
    "                       ], combine=True)\n",
    "random = esutil.io.read([path+'random0_DR12v5_CMASS_South.fits.gz',\n",
    "                         #path+'random0_DR12v5_CMASS_North.fits.gz'\n",
    "                        ], combine=True)\n",
    "\n",
    "cmass_ngc = esutil.io.read([#path+'galaxy_DR12v5_CMASS_South.fits.gz',\n",
    "                        path+'galaxy_DR12v5_CMASS_North.fits.gz'\n",
    "                       ], combine=True)\n",
    "random_ngc = esutil.io.read([#path+'random0_DR12v5_CMASS_South.fits.gz',\n",
    "                         path+'random0_DR12v5_CMASS_North.fits.gz'\n",
    "                        ], combine=True)"
   ]
  },
  {
   "cell_type": "code",
   "execution_count": 54,
   "metadata": {},
   "outputs": [],
   "source": [
    "#cmass = BOSSveto(cmass, option='SGC')\n",
    "#random = BOSSveto(random, option='SGC')\n",
    "\n",
    "#cmass_ngc = BOSSveto(cmass_ngc, option='NGC')\n",
    "#random_ngc = BOSSveto(random_ngc, option='NGC')"
   ]
  },
  {
   "cell_type": "code",
   "execution_count": 9,
   "metadata": {},
   "outputs": [],
   "source": [
    "#randind = np.random.choice(cmass.size, size = 1000)"
   ]
  },
  {
   "cell_type": "code",
   "execution_count": 18,
   "metadata": {
    "collapsed": true
   },
   "outputs": [
    {
     "name": "stdout",
     "output_type": "stream",
     "text": [
      "X (13234, 2)  centers (10, 2)  tol=1e-05  maxiter=200\n",
      "66 iterations  cluster sizes: [1331 1327 1112 1317 1225 1508 1340 1567 1112 1395]\n",
      "X (43787993, 2)  centers (10, 2)  tol=1e-05  maxiter=200\n"
     ]
    },
    {
     "ename": "KeyboardInterrupt",
     "evalue": "",
     "output_type": "error",
     "traceback": [
      "\u001b[0;31m---------------------------------------------------------------------------\u001b[0m",
      "\u001b[0;31mKeyboardInterrupt\u001b[0m                         Traceback (most recent call last)",
      "\u001b[0;32m<ipython-input-18-b4ddea2e9874>\u001b[0m in \u001b[0;36m<module>\u001b[0;34m()\u001b[0m\n\u001b[1;32m      1\u001b[0m random = construct_jk_catalog( random, njack = 10, root='./test/', \n\u001b[0;32m----> 2\u001b[0;31m                             jtype = 'generate', jfile = 'jkregion_test.txt', suffix = '', retind=True )\n\u001b[0m",
      "\u001b[0;32m/n/des/lee.5922/Dropbox/repositories/CMASS/code/utils.py\u001b[0m in \u001b[0;36mconstruct_jk_catalog\u001b[0;34m(cat, njack, root, jtype, jfile, suffix, retind)\u001b[0m\n\u001b[1;32m    902\u001b[0m     \u001b[0;32mimport\u001b[0m \u001b[0mos\u001b[0m\u001b[0;34m\u001b[0m\u001b[0m\n\u001b[1;32m    903\u001b[0m     \u001b[0mos\u001b[0m\u001b[0;34m.\u001b[0m\u001b[0msystem\u001b[0m\u001b[0;34m(\u001b[0m\u001b[0;34m'mkdir '\u001b[0m\u001b[0;34m+\u001b[0m\u001b[0mroot\u001b[0m\u001b[0;34m)\u001b[0m\u001b[0;34m\u001b[0m\u001b[0m\n\u001b[0;32m--> 904\u001b[0;31m     \u001b[0mkm\u001b[0m\u001b[0;34m,\u001b[0m \u001b[0mjfile\u001b[0m \u001b[0;34m=\u001b[0m \u001b[0mGenerateRegions\u001b[0m\u001b[0;34m(\u001b[0m\u001b[0mcat\u001b[0m\u001b[0;34m,\u001b[0m \u001b[0mcat\u001b[0m\u001b[0;34m[\u001b[0m\u001b[0;34m'RA'\u001b[0m\u001b[0;34m]\u001b[0m\u001b[0;34m,\u001b[0m \u001b[0mcat\u001b[0m\u001b[0;34m[\u001b[0m\u001b[0;34m'DEC'\u001b[0m\u001b[0;34m]\u001b[0m\u001b[0;34m,\u001b[0m \u001b[0mroot\u001b[0m\u001b[0;34m+\u001b[0m\u001b[0mjfile\u001b[0m\u001b[0;34m,\u001b[0m \u001b[0mnjack\u001b[0m\u001b[0;34m,\u001b[0m \u001b[0mjtype\u001b[0m\u001b[0;34m)\u001b[0m\u001b[0;34m\u001b[0m\u001b[0m\n\u001b[0m\u001b[1;32m    905\u001b[0m     \u001b[0mind\u001b[0m \u001b[0;34m=\u001b[0m \u001b[0mAssignIndex\u001b[0m\u001b[0;34m(\u001b[0m\u001b[0mcat\u001b[0m\u001b[0;34m,\u001b[0m \u001b[0mcat\u001b[0m\u001b[0;34m[\u001b[0m\u001b[0;34m'RA'\u001b[0m\u001b[0;34m]\u001b[0m\u001b[0;34m,\u001b[0m \u001b[0mcat\u001b[0m\u001b[0;34m[\u001b[0m\u001b[0;34m'DEC'\u001b[0m\u001b[0;34m]\u001b[0m\u001b[0;34m,\u001b[0m \u001b[0mkm\u001b[0m\u001b[0;34m)\u001b[0m\u001b[0;34m\u001b[0m\u001b[0m\n\u001b[1;32m    906\u001b[0m     \u001b[0;31m#ind_rand = AssignIndex(rand, rand['RA'], rand['DEC'], km)\u001b[0m\u001b[0;34m\u001b[0m\u001b[0;34m\u001b[0m\u001b[0m\n",
      "\u001b[0;32m/n/des/lee.5922/Dropbox/repositories/CMASS/code/utils.py\u001b[0m in \u001b[0;36mGenerateRegions\u001b[0;34m(jarrs, jras, jdecs, jfile, njack, jtype)\u001b[0m\n\u001b[1;32m    935\u001b[0m         \u001b[0;32mif\u001b[0m \u001b[0mjfile\u001b[0m \u001b[0;32mis\u001b[0m \u001b[0mNone\u001b[0m\u001b[0;34m:\u001b[0m\u001b[0;34m\u001b[0m\u001b[0m\n\u001b[1;32m    936\u001b[0m             \u001b[0mjfile\u001b[0m \u001b[0;34m=\u001b[0m \u001b[0;34m'JK-{0}.txt'\u001b[0m\u001b[0;34m.\u001b[0m\u001b[0mformat\u001b[0m\u001b[0;34m(\u001b[0m\u001b[0mnjack\u001b[0m\u001b[0;34m)\u001b[0m\u001b[0;34m\u001b[0m\u001b[0m\n\u001b[0;32m--> 937\u001b[0;31m         \u001b[0mkm\u001b[0m \u001b[0;34m=\u001b[0m \u001b[0mkmeans_radec\u001b[0m\u001b[0;34m.\u001b[0m\u001b[0mkmeans_sample\u001b[0m\u001b[0;34m(\u001b[0m\u001b[0mrdi\u001b[0m\u001b[0;34m,\u001b[0m \u001b[0mnjack\u001b[0m\u001b[0;34m,\u001b[0m \u001b[0mmaxiter\u001b[0m\u001b[0;34m=\u001b[0m\u001b[0;36m200\u001b[0m\u001b[0;34m,\u001b[0m \u001b[0mtol\u001b[0m\u001b[0;34m=\u001b[0m\u001b[0;36m1.0e-5\u001b[0m\u001b[0;34m)\u001b[0m\u001b[0;34m\u001b[0m\u001b[0m\n\u001b[0m\u001b[1;32m    938\u001b[0m \u001b[0;34m\u001b[0m\u001b[0m\n\u001b[1;32m    939\u001b[0m         \u001b[0;32mif\u001b[0m \u001b[0;32mnot\u001b[0m \u001b[0mkm\u001b[0m\u001b[0;34m.\u001b[0m\u001b[0mconverged\u001b[0m\u001b[0;34m:\u001b[0m\u001b[0;34m\u001b[0m\u001b[0m\n",
      "\u001b[0;32m/n/home00/lee.5922/.local/lib/python2.7/site-packages/kmeans_radec/kmeans_radec.pyc\u001b[0m in \u001b[0;36mkmeans_sample\u001b[0;34m(X, ncen, nsample, maxiter, **kw)\u001b[0m\n\u001b[1;32m    302\u001b[0m \u001b[0;34m\u001b[0m\u001b[0m\n\u001b[1;32m    303\u001b[0m     \u001b[0mkm\u001b[0m\u001b[0;34m=\u001b[0m\u001b[0mKMeans\u001b[0m\u001b[0;34m(\u001b[0m\u001b[0msample_centers\u001b[0m\u001b[0;34m,\u001b[0m \u001b[0;34m**\u001b[0m\u001b[0mkw\u001b[0m\u001b[0;34m)\u001b[0m\u001b[0;34m\u001b[0m\u001b[0m\n\u001b[0;32m--> 304\u001b[0;31m     \u001b[0mkm\u001b[0m\u001b[0;34m.\u001b[0m\u001b[0mrun\u001b[0m\u001b[0;34m(\u001b[0m\u001b[0mX\u001b[0m\u001b[0;34m,\u001b[0m \u001b[0mmaxiter\u001b[0m\u001b[0;34m=\u001b[0m\u001b[0mmaxiter\u001b[0m\u001b[0;34m)\u001b[0m\u001b[0;34m\u001b[0m\u001b[0m\n\u001b[0m\u001b[1;32m    305\u001b[0m \u001b[0;34m\u001b[0m\u001b[0m\n\u001b[1;32m    306\u001b[0m     \u001b[0;32mreturn\u001b[0m \u001b[0mkm\u001b[0m\u001b[0;34m\u001b[0m\u001b[0m\n",
      "\u001b[0;32m/n/home00/lee.5922/.local/lib/python2.7/site-packages/kmeans_radec/kmeans_radec.pyc\u001b[0m in \u001b[0;36mrun\u001b[0;34m(self, X, maxiter)\u001b[0m\n\u001b[1;32m    123\u001b[0m         \u001b[0;32mfor\u001b[0m \u001b[0mjiter\u001b[0m \u001b[0;32min\u001b[0m \u001b[0mxrange\u001b[0m\u001b[0;34m(\u001b[0m \u001b[0;36m1\u001b[0m\u001b[0;34m,\u001b[0m \u001b[0mmaxiter\u001b[0m\u001b[0;34m+\u001b[0m\u001b[0;36m1\u001b[0m \u001b[0;34m)\u001b[0m\u001b[0;34m:\u001b[0m\u001b[0;34m\u001b[0m\u001b[0m\n\u001b[1;32m    124\u001b[0m \u001b[0;34m\u001b[0m\u001b[0m\n\u001b[0;32m--> 125\u001b[0;31m             \u001b[0mD\u001b[0m \u001b[0;34m=\u001b[0m \u001b[0mcdist_radec\u001b[0m\u001b[0;34m(\u001b[0m\u001b[0mX\u001b[0m\u001b[0;34m,\u001b[0m \u001b[0mcenters\u001b[0m\u001b[0;34m)\u001b[0m  \u001b[0;31m# npoints x ncenters\u001b[0m\u001b[0;34m\u001b[0m\u001b[0m\n\u001b[0m\u001b[1;32m    126\u001b[0m \u001b[0;34m\u001b[0m\u001b[0m\n\u001b[1;32m    127\u001b[0m             \u001b[0mlabels\u001b[0m \u001b[0;34m=\u001b[0m \u001b[0mD\u001b[0m\u001b[0;34m.\u001b[0m\u001b[0margmin\u001b[0m\u001b[0;34m(\u001b[0m\u001b[0maxis\u001b[0m\u001b[0;34m=\u001b[0m\u001b[0;36m1\u001b[0m\u001b[0;34m)\u001b[0m  \u001b[0;31m# X -> nearest centre\u001b[0m\u001b[0;34m\u001b[0m\u001b[0m\n",
      "\u001b[0;32m/n/home00/lee.5922/.local/lib/python2.7/site-packages/kmeans_radec/kmeans_radec.pyc\u001b[0m in \u001b[0;36mcdist_radec\u001b[0;34m(a1, a2)\u001b[0m\n\u001b[1;32m    340\u001b[0m \u001b[0;34m\u001b[0m\u001b[0m\n\u001b[1;32m    341\u001b[0m     \u001b[0mcostheta\u001b[0m\u001b[0;34m=\u001b[0m\u001b[0mnumpy\u001b[0m\u001b[0;34m.\u001b[0m\u001b[0mclip\u001b[0m\u001b[0;34m(\u001b[0m\u001b[0mcostheta\u001b[0m\u001b[0;34m,\u001b[0m\u001b[0;34m-\u001b[0m\u001b[0;36m1.0\u001b[0m\u001b[0;34m,\u001b[0m\u001b[0;36m1.0\u001b[0m\u001b[0;34m)\u001b[0m\u001b[0;34m\u001b[0m\u001b[0m\n\u001b[0;32m--> 342\u001b[0;31m     \u001b[0mtheta\u001b[0m \u001b[0;34m=\u001b[0m \u001b[0marccos\u001b[0m\u001b[0;34m(\u001b[0m\u001b[0mcostheta\u001b[0m\u001b[0;34m)\u001b[0m\u001b[0;34m\u001b[0m\u001b[0m\n\u001b[0m\u001b[1;32m    343\u001b[0m     \u001b[0;32mreturn\u001b[0m \u001b[0mtheta\u001b[0m\u001b[0;34m\u001b[0m\u001b[0m\n\u001b[1;32m    344\u001b[0m \u001b[0;34m\u001b[0m\u001b[0m\n",
      "\u001b[0;31mKeyboardInterrupt\u001b[0m: "
     ]
    }
   ],
   "source": [
    "#random = construct_jk_catalog( random, njack = 10, root='./test/', \n",
    "#                           jtype = 'generate', jfile = 'jkregion_test.txt', suffix = '', retind=True )"
   ]
  },
  {
   "cell_type": "code",
   "execution_count": null,
   "metadata": {},
   "outputs": [],
   "source": []
  },
  {
   "cell_type": "markdown",
   "metadata": {},
   "source": [
    "# Calling WISE Extended source catalog"
   ]
  },
  {
   "cell_type": "code",
   "execution_count": 10,
   "metadata": {},
   "outputs": [],
   "source": [
    "wise = esutil.io.read('/n/des/lee.5922/data/wise_cat/wise_allsky.allsky_4band_p3as_psd25158.fits', upper=True)\n",
    "wise_random_sgc = uniform_random_on_sphere(cmass, size = cmass.size * 50 )\n",
    "wise_random_ngc = uniform_random_on_sphere(cmass_ngc, size = cmass_ngc.size * 50 )"
   ]
  },
  {
   "cell_type": "code",
   "execution_count": 11,
   "metadata": {},
   "outputs": [],
   "source": [
    "#wise_in_cmass = BOSSveto(wise, option='SGC')\n",
    "cont_mask = moon_cont_mask(wise)\n",
    "wise = wise[cont_mask]\n",
    "#wise_random_in_cmass = BOSSveto(wise_random_in_cmass, option='SGC')"
   ]
  },
  {
   "cell_type": "code",
   "execution_count": 12,
   "metadata": {},
   "outputs": [],
   "source": [
    "#wise_ngc = BOSSveto(wise, option='NGC')"
   ]
  },
  {
   "cell_type": "code",
   "execution_count": 13,
   "metadata": {},
   "outputs": [],
   "source": [
    "#wise_ngc.size, cmass_ngc.size"
   ]
  },
  {
   "cell_type": "markdown",
   "metadata": {},
   "source": [
    "# Masking Reddening"
   ]
  },
  {
   "cell_type": "code",
   "execution_count": 14,
   "metadata": {},
   "outputs": [
    {
     "name": "stdout",
     "output_type": "stream",
     "text": [
      "NSIDE = 4096\n",
      "ORDERING = NESTED in fits file\n",
      "INDXSCHM = IMPLICIT\n",
      "Ordering converted to RING\n"
     ]
    }
   ],
   "source": [
    "mapname = '/n/des/lee.5922/data/systematic_maps/ebv_sfd98_fullres_nside_4096_nest_equatorial.fits'\n",
    "#mapname = '/n/des/lee.5922/data/systematic_maps/ebv_lenz17_nside_4096_nest_equatorial.fits'\n",
    "reddening = hp.read_map(mapname)\n",
    "#hpIndices = np.arange(reddening_ring.size)"
   ]
  },
  {
   "cell_type": "code",
   "execution_count": 15,
   "metadata": {},
   "outputs": [
    {
     "name": "stdout",
     "output_type": "stream",
     "text": [
      "3458881 2007810\n",
      "11541550 8161608\n",
      "30940300 30215041\n"
     ]
    }
   ],
   "source": [
    "wise = reddening_cat(wise, reddening_map = reddening)\n",
    "wise_random_sgc = reddening_cat(wise_random_sgc, reddening_map = reddening)\n",
    "wise_random_ngc = reddening_cat(wise_random_ngc, reddening_map = reddening)\n",
    "#cmass = reddening_cat(cmass, reddening_map = reddening)\n",
    "#random = reddening_cat(random, reddening_map = reddening)\n",
    "#dmass_spt = reddening_cat(dmass_spt, reddening_map = reddening)\n",
    "#dmass_random = reddening_cat(dmass_random, reddening_map = reddening)"
   ]
  },
  {
   "cell_type": "markdown",
   "metadata": {},
   "source": [
    "# Boss veto"
   ]
  },
  {
   "cell_type": "code",
   "execution_count": 16,
   "metadata": {},
   "outputs": [],
   "source": [
    "wise_in_sgc = BOSSveto(wise, option='SGC')\n",
    "wise_in_ngc = BOSSveto(wise, option='NGC')\n",
    "wise_random_sgc = BOSSveto(wise_random_sgc, option='SGC')\n",
    "wise_random_ngc = BOSSveto(wise_random_ngc, option='NGC')"
   ]
  },
  {
   "cell_type": "markdown",
   "metadata": {},
   "source": [
    "# Moon Contamination Masking"
   ]
  },
  {
   "cell_type": "code",
   "execution_count": 17,
   "metadata": {},
   "outputs": [],
   "source": [
    "Healpix_config = {}\n",
    "Healpix_config['out_nside'] = 128\n",
    "Healpix_config['nest'] = False\n",
    "\n",
    "wise_in_sgc = HealPixifyCatalogs(catalog=wise_in_sgc, healConfig=Healpix_config, ratag='RA', dectag = 'DEC')\n",
    "wise_in_ngc = HealPixifyCatalogs(catalog=wise_in_ngc, healConfig=Healpix_config, ratag='RA', dectag = 'DEC')\n",
    "\n",
    "wise_random_sgc = HealPixifyCatalogs(catalog=wise_random_sgc, healConfig=Healpix_config, ratag='RA', dectag = 'DEC')\n",
    "wise_random_ngc = HealPixifyCatalogs(catalog=wise_random_ngc, healConfig=Healpix_config, ratag='RA', dectag = 'DEC')\n",
    "\n",
    "\n",
    "#cmass = HealPixifyCatalogs(catalog=cmass, healConfig=Healpix_config, ratag='RA', dectag = 'DEC')\n",
    "#random = HealPixifyCatalogs(catalog=random, healConfig=Healpix_config, ratag='RA', dectag = 'DEC')\n",
    "#dmass_spt = HealPixifyCatalogs(catalog=dmass_spt, healConfig=Healpix_config, ratag='RA', dectag = 'DEC')\n",
    "#dmass_random = HealPixifyCatalogs(catalog=dmass_random, healConfig=Healpix_config, ratag='RA', dectag = 'DEC')"
   ]
  },
  {
   "cell_type": "code",
   "execution_count": 18,
   "metadata": {},
   "outputs": [
    {
     "name": "stderr",
     "output_type": "stream",
     "text": [
      "/usr/lib64/python2.7/site-packages/healpy/pixelfunc.py:390: RuntimeWarning: invalid value encountered in _ang2pix_ring\n",
      "  return pixlib._ang2pix_ring(nside,theta,phi)\n"
     ]
    }
   ],
   "source": [
    "# obtain moon contamination mask from wise catalog \n",
    "wise_in_combine = np.hstack([wise_in_sgc, wise_in_ngc])\n",
    "wise_galmap = making_healpix_density_map(cat = wise_in_combine, nest = False, nside = 128)\n",
    "reliable_hpind_moonrev = wise_galmap['PIXEL'][ wise_galmap['WEIGHT_RAND'] ==1 ]\n",
    "wise_in_combine = None"
   ]
  },
  {
   "cell_type": "code",
   "execution_count": 19,
   "metadata": {},
   "outputs": [],
   "source": [
    "#fitsio.write('/n/des/lee.5922/data/wise_cat/hpind_moonrev_nside256.fits', reliable_hpind_moonrev)"
   ]
  },
  {
   "cell_type": "code",
   "execution_count": 20,
   "metadata": {},
   "outputs": [
    {
     "data": {
      "text/plain": [
       "\"\\nreliable_cmass_mask = np.in1d(cmass['HEALIndex'], reliable_hpind_moonrev)\\nprint 'cmass:', cmass.size, \\ncmass = cmass[reliable_cmass_mask]\\nprint cmass.size\\n\\nreliable_random_mask = np.in1d(random['HEALIndex'], reliable_hpind_moonrev)\\nprint 'random:', random.size,\\nrandom = random[reliable_random_mask]\\nprint random.size\\n\\nreliable_dmass_spt_mask = np.in1d(dmass_spt['HEALIndex'], reliable_hpind_moonrev)\\nprint 'dmass_spt:', dmass_spt.size, \\ndmass_spt = dmass_spt[reliable_dmass_spt_mask]\\nprint dmass_spt.size\\n\\nreliable_dmass_random_mask = np.in1d(dmass_random['HEALIndex'], reliable_hpind_moonrev)\\nprint 'dmass_random:', dmass_random.size, \\ndmass_random = dmass_random[reliable_dmass_random_mask]\\nprint dmass_random.size\\n\""
      ]
     },
     "execution_count": 20,
     "metadata": {},
     "output_type": "execute_result"
    }
   ],
   "source": [
    "reliable_wise_mask = np.in1d(wise_in_sgc['HEALIndex'], reliable_hpind_moonrev)\n",
    "wise_in_sgc = wise_in_sgc[reliable_wise_mask]\n",
    "\n",
    "\n",
    "reliable_wise_mask = np.in1d(wise_in_ngc['HEALIndex'], reliable_hpind_moonrev)\n",
    "wise_in_ngc = wise_in_ngc[reliable_wise_mask]\n",
    "\n",
    "\n",
    "reliable_wise_random_sgc_mask = np.in1d(wise_random_sgc['HEALIndex'], reliable_hpind_moonrev)\n",
    "wise_random_sgc = wise_random_sgc[reliable_wise_random_sgc_mask]\n",
    "\n",
    "reliable_wise_random_ngc_mask = np.in1d(wise_random_ngc['HEALIndex'], reliable_hpind_moonrev)\n",
    "wise_random_ngc = wise_random_ngc[reliable_wise_random_ngc_mask]\n",
    "\n",
    "\n",
    "\n",
    "\"\"\"\n",
    "reliable_cmass_mask = np.in1d(cmass['HEALIndex'], reliable_hpind_moonrev)\n",
    "print 'cmass:', cmass.size, \n",
    "cmass = cmass[reliable_cmass_mask]\n",
    "print cmass.size\n",
    "\n",
    "reliable_random_mask = np.in1d(random['HEALIndex'], reliable_hpind_moonrev)\n",
    "print 'random:', random.size,\n",
    "random = random[reliable_random_mask]\n",
    "print random.size\n",
    "\n",
    "reliable_dmass_spt_mask = np.in1d(dmass_spt['HEALIndex'], reliable_hpind_moonrev)\n",
    "print 'dmass_spt:', dmass_spt.size, \n",
    "dmass_spt = dmass_spt[reliable_dmass_spt_mask]\n",
    "print dmass_spt.size\n",
    "\n",
    "reliable_dmass_random_mask = np.in1d(dmass_random['HEALIndex'], reliable_hpind_moonrev)\n",
    "print 'dmass_random:', dmass_random.size, \n",
    "dmass_random = dmass_random[reliable_dmass_random_mask]\n",
    "print dmass_random.size\n",
    "\"\"\""
   ]
  },
  {
   "cell_type": "code",
   "execution_count": 18,
   "metadata": {},
   "outputs": [
    {
     "data": {
      "image/png": "[encoded data removed]",
      "text/plain": [
       "<matplotlib.figure.Figure at 0x7f8a941ceb10>"
      ]
     },
     "metadata": {
      "needs_background": "light"
     },
     "output_type": "display_data"
    },
    {
     "data": {
      "image/png": "[encoded data removed]",
      "text/plain": [
       "<matplotlib.figure.Figure at 0x7f89fd21a490>"
      ]
     },
     "metadata": {
      "needs_background": "light"
     },
     "output_type": "display_data"
    },
    {
     "data": {
      "image/png": "[encoded data removed]",
      "text/plain": [
       "<matplotlib.figure.Figure at 0x7f89fd1bab50>"
      ]
     },
     "metadata": {
      "needs_background": "light"
     },
     "output_type": "display_data"
    },
    {
     "data": {
      "image/png": "[encoded data removed]",
      "text/plain": [
       "<matplotlib.figure.Figure at 0x7f89fd01c9d0>"
      ]
     },
     "metadata": {
      "needs_background": "light"
     },
     "output_type": "display_data"
    }
   ],
   "source": [
    "cmass_galmap = making_healpix_density_map(cat = cmass, nest = False, nside = 128)\n",
    "hp.mollview(cmass_galmap['WEIGHT'],  nest=False, title=\"CMASS Random Galaxy Density\", max = 8e+05)\n",
    "\n",
    "random_galmap = making_healpix_density_map(cat = random, nest = False, nside = 128)\n",
    "hp.mollview(random_galmap['WEIGHT'],  nest=False, title=\"CMASS Random Galaxy Density\", max = 8e+05)\n",
    "\n",
    "wise_in_cmass_galmap = making_healpix_density_map(cat = wise_in_sgc, nest = False, nside = 128)\n",
    "hp.mollview(wise_in_cmass_galmap['WEIGHT'], nest=False, title=\"WISE Galaxy Density\", max = 8e+05)\n",
    "\n",
    "wise_random_in_cmass_galmap = making_healpix_density_map(cat = wise_random_sgc, nest = False, nside = 128)\n",
    "hp.mollview(wise_random_in_cmass_galmap['WEIGHT'], nest=False, title=\"WISE Galaxy Density\", max = 8e+05)"
   ]
  },
  {
   "cell_type": "markdown",
   "metadata": {},
   "source": [
    "# Masking Boss Area"
   ]
  },
  {
   "cell_type": "markdown",
   "metadata": {},
   "source": [
    "# Masking DES area"
   ]
  },
  {
   "cell_type": "code",
   "execution_count": 70,
   "metadata": {},
   "outputs": [],
   "source": [
    "#Healpix_config = {}\n",
    "#Healpix_config['out_nside'] = 4096\n",
    "#Healpix_config['nest'] = False\n",
    "#wise = HealPixifyCatalogs(catalog=wise, healConfig=Healpix_config, ratag='RA', dectag = 'DEC')\n",
    "#wise_random_in_cmass = HealPixifyCatalogs(catalog=wise_random_in_cmass, healConfig=Healpix_config, ratag='RA', dectag = 'DEC')\n",
    "#cmass = HealPixifyCatalogs(catalog=cmass, healConfig=Healpix_config, ratag='RA', dectag = 'DEC')\n",
    "#random = HealPixifyCatalogs(catalog=random, healConfig=Healpix_config, ratag='RA', dectag = 'DEC')\n",
    "#dmass_spt = HealPixifyCatalogs(catalog=dmass_spt, healConfig=Healpix_config, ratag='RA', dectag = 'DEC')\n",
    "#dmass_random = HealPixifyCatalogs(catalog=dmass_random, healConfig=Healpix_config, ratag='RA', dectag = 'DEC')"
   ]
  },
  {
   "cell_type": "code",
   "execution_count": 26,
   "metadata": {},
   "outputs": [
    {
     "name": "stdout",
     "output_type": "stream",
     "text": [
      "wise: 2007810 103569\n"
     ]
    }
   ],
   "source": [
    "wise_in_spt = Cuts.keepGoodRegion(wise)\n",
    "wise_in_spt = wise_in_spt[wise_in_spt['DEC'] < -3.0 ]\n",
    "print 'wise:', wise.size, wise_in_spt.size\n",
    "\n",
    "wise_random_in_spt = dmass_random.copy()"
   ]
  },
  {
   "cell_type": "code",
   "execution_count": 27,
   "metadata": {},
   "outputs": [
    {
     "name": "stdout",
     "output_type": "stream",
     "text": [
      "21359047 21354092\n"
     ]
    }
   ],
   "source": [
    "# obtain moon contamination mask from wise catalog \n",
    "wise_galmap = making_healpix_density_map(cat = wise_in_spt, nest = False, nside = 128)\n",
    "reliable_hpind_moonrev = wise_galmap['PIXEL'][ wise_galmap['WEIGHT_RAND'] ==1 ]\n",
    "\n",
    "Healpix_config = {}\n",
    "Healpix_config['out_nside'] = 128\n",
    "Healpix_config['nest'] = False\n",
    "\n",
    "wise_in_spt = HealPixifyCatalogs(catalog=wise_in_spt, healConfig=Healpix_config, ratag='RA', dectag = 'DEC')\n",
    "reliable_wise_mask = np.in1d(wise_in_spt['HEALIndex'], reliable_hpind_moonrev)\n",
    "wise_in_spt = wise_in_spt[reliable_wise_mask]\n",
    "\n",
    "wise_random_in_spt = HealPixifyCatalogs(catalog=wise_random_in_spt, healConfig=Healpix_config, ratag='RA', dectag = 'DEC')\n",
    "reliable_wise_mask = np.in1d(wise_random_in_spt['HEALIndex'], reliable_hpind_moonrev)\n",
    "wise_random_in_spt = wise_random_in_spt[reliable_wise_mask]\n",
    "\n",
    "wise_random_in_spt = reddening_cat(wise_random_in_spt, reddening_map = reddening)\n"
   ]
  },
  {
   "cell_type": "code",
   "execution_count": 21,
   "metadata": {},
   "outputs": [
    {
     "data": {
      "image/png": "[encoded data removed]",
      "text/plain": [
       "<matplotlib.figure.Figure at 0x7f8a941cee10>"
      ]
     },
     "metadata": {
      "needs_background": "light"
     },
     "output_type": "display_data"
    },
    {
     "data": {
      "image/png": "[encoded data removed]",
      "text/plain": [
       "<matplotlib.figure.Figure at 0x7f89fce9d750>"
      ]
     },
     "metadata": {
      "needs_background": "light"
     },
     "output_type": "display_data"
    }
   ],
   "source": [
    "galmap = making_healpix_density_map(cat = wise_in_spt, nest = False, nside = 128)\n",
    "hp.mollview(galmap['WEIGHT'],  nest=False, title=\"WISE SPT Galaxy Density\", max = 8e+05)\n",
    "\n",
    "galmap = making_healpix_density_map(cat = wise_random_in_spt, nest = False, nside = 128)\n",
    "hp.mollview(galmap['WEIGHT'],  nest=False, title=\"WISE Random Galaxy Density\", max = 8e+05)"
   ]
  },
  {
   "cell_type": "markdown",
   "metadata": {},
   "source": [
    "# Adding Weight Column"
   ]
  },
  {
   "cell_type": "code",
   "execution_count": 21,
   "metadata": {},
   "outputs": [],
   "source": [
    "w_sgc = cmass['WEIGHT_SYSTOT']*( cmass['WEIGHT_CP'] + cmass['WEIGHT_NOZ'] - 1. )\n",
    "w_rand = np.ones(random.size)\n",
    "\n",
    "cmass = appendColumn(cat = cmass, name='WEIGHT', value=w_sgc)\n",
    "random = appendColumn(cat = random, name='WEIGHT_RAND', value=w_rand)\n",
    "#appendColumn(cat = dmass, name='WEIGHT', value=dmass['CMASS_PROB']*dmass['WEIGHT_SYS'])\n",
    "\n",
    "w_wise = np.ones(wise_in_sgc.size)\n",
    "w_wise_rand = np.ones(wise_random_sgc.size)\n",
    "wise_in_sgc = appendColumn(cat = wise_in_sgc, name='WEIGHT', value=w_wise)\n",
    "wise_random_sgc = appendColumn(cat = wise_random_sgc, name='WEIGHT_RAND', value=w_wise_rand)"
   ]
  },
  {
   "cell_type": "code",
   "execution_count": 22,
   "metadata": {},
   "outputs": [],
   "source": [
    "w_ngc = cmass_ngc['WEIGHT_SYSTOT']*( cmass_ngc['WEIGHT_CP'] + cmass_ngc['WEIGHT_NOZ'] - 1. )\n",
    "w_rand = np.ones(random_ngc.size)\n",
    "\n",
    "cmass_ngc = appendColumn(cat = cmass_ngc, name='WEIGHT', value=w_ngc)\n",
    "random_ngc = appendColumn(cat = random_ngc, name='WEIGHT_RAND', value=w_rand)\n",
    "#appendColumn(cat = dmass, name='WEIGHT', value=dmass['CMASS_PROB']*dmass['WEIGHT_SYS'])\n",
    "\n",
    "w_wise = np.ones(wise_in_ngc.size)\n",
    "w_wise_rand = np.ones(wise_random_ngc.size)\n",
    "wise_in_ngc = appendColumn(cat = wise_in_ngc, name='WEIGHT', value=w_wise)\n",
    "wise_random_ngc = appendColumn(cat = wise_random_ngc, name='WEIGHT_RAND', value=w_wise_rand)"
   ]
  },
  {
   "cell_type": "code",
   "execution_count": 31,
   "metadata": {},
   "outputs": [
    {
     "name": "stdout",
     "output_type": "stream",
     "text": [
      "catalog size cmass 230831 11636252\n",
      "catalog size dmass 114774.39081275926 21412102\n",
      "catalog size wise(cmass) 165483 1488393\n",
      "catalog size wise 103569 21354092\n"
     ]
    }
   ],
   "source": [
    "print 'catalog size cmass', cmass.size, random.size\n",
    "print 'catalog size dmass', np.sum(dmass_spt['WEIGHT']), dmass_random.size\n",
    "print 'catalog size wise(cmass)', wise_in_sgc.size, wise_random_sgc.size\n",
    "print 'catalog size wise', wise_in_spt.size, wise_random_in_spt.size\n",
    "\n"
   ]
  },
  {
   "cell_type": "markdown",
   "metadata": {},
   "source": [
    "# Cross Correlation"
   ]
  },
  {
   "cell_type": "code",
   "execution_count": 64,
   "metadata": {},
   "outputs": [],
   "source": [
    "from systematics_module.corr import cross_NNpairCount"
   ]
  },
  {
   "cell_type": "code",
   "execution_count": 26,
   "metadata": {},
   "outputs": [
    {
     "name": "stdout",
     "output_type": "stream",
     "text": [
      "file save to ../output/sfd_train_photo_SamPle_nozband_ran10_3_full_tol1e5//act/npairs_cross_wise_x_cmass_sgc_nbins10_binslop05.txt\n"
     ]
    }
   ],
   "source": [
    "from systematics_module.corr import cross_NNpairCount\n",
    "cross_NNpairCount(cmass, random, wise_in_sgc, wise_random_sgc, nbins = 10, \n",
    "                  min_sep=2.5/60., max_sep=250/60., bin_slop=0.05, \n",
    "                  weight = [True, True, True, True], \n",
    "                  dir = actdir, suffix = 'wise_x_cmass_sgc_nbins10_binslop05')"
   ]
  },
  {
   "cell_type": "code",
   "execution_count": 27,
   "metadata": {},
   "outputs": [
    {
     "name": "stdout",
     "output_type": "stream",
     "text": [
      "file save to ../output/sfd_train_photo_SamPle_nozband_ran10_3_full_tol1e5//act/npairs_cross_wise_x_cmass_ngc_nbins10_binslop05.txt\n"
     ]
    }
   ],
   "source": [
    "from systematics_module.corr import cross_NNpairCount\n",
    "cross_NNpairCount(cmass_ngc, random_ngc, wise_in_ngc, wise_random_ngc, nbins = 10, \n",
    "                  min_sep=2.5/60., max_sep=250/60., bin_slop=0.05, \n",
    "                  weight = [True, True, True, True], \n",
    "                  dir = actdir, suffix = 'wise_x_cmass_ngc_nbins10_binslop05')"
   ]
  },
  {
   "cell_type": "code",
   "execution_count": 28,
   "metadata": {},
   "outputs": [
    {
     "name": "stdout",
     "output_type": "stream",
     "text": [
      "file save to ../output/sfd_train_photo_SamPle_nozband_ran10_3_full_tol1e5//act/npairs_cross_wise_x_dmass_nbins10_binslop05.txt\n"
     ]
    }
   ],
   "source": [
    "\n",
    "\n",
    "cross_NNpairCount(dmass_spt, dmass_random_masked[randind], wise_in_spt, wise_random_in_spt[randind2], nbins = 10, \n",
    "                  min_sep=2.5/60., max_sep=250/60., bin_slop=0.05, \n",
    "                  weight = [True, None, None, None], \n",
    "                  dir = actdir, suffix = 'wise_x_dmass_nbins10_binslop05')"
   ]
  },
  {
   "cell_type": "code",
   "execution_count": 32,
   "metadata": {},
   "outputs": [
    {
     "name": "stdout",
     "output_type": "stream",
     "text": [
      "165483\n"
     ]
    },
    {
     "data": {
      "text/plain": [
       "0.01897406857855209"
      ]
     },
     "execution_count": 32,
     "metadata": {},
     "output_type": "execute_result"
    }
   ],
   "source": [
    "print wise_in_sgc.size\n",
    "wise_in_sgc.size / 2422.64856426 / 3600"
   ]
  },
  {
   "cell_type": "code",
   "execution_count": 35,
   "metadata": {},
   "outputs": [
    {
     "name": "stdout",
     "output_type": "stream",
     "text": [
      "103569\n"
     ]
    },
    {
     "data": {
      "text/plain": [
       "0.0228161375961832"
      ]
     },
     "execution_count": 35,
     "metadata": {},
     "output_type": "execute_result"
    }
   ],
   "source": [
    "print wise_in_spt.size\n",
    "wise_in_spt.size/1260.9130947509416 /3600."
   ]
  },
  {
   "cell_type": "code",
   "execution_count": 37,
   "metadata": {},
   "outputs": [
    {
     "name": "stdout",
     "output_type": "stream",
     "text": [
      "500064\n",
      "0.0200326891645\n"
     ]
    }
   ],
   "source": [
    "print wise_in_ngc.size\n",
    "print wise_in_ngc.size/6934./3600."
   ]
  },
  {
   "cell_type": "code",
   "execution_count": null,
   "metadata": {},
   "outputs": [
    {
     "name": "stdout",
     "output_type": "stream",
     "text": [
      "X (1000, 2)  centers (100, 2)  tol=1e-05  maxiter=200\n",
      "16 iterations  cluster sizes: [ 6 11  9 15 15  8 14  6 20  7 10 10 11  8 16  6  9 12  9 13  2 11  7 10\n",
      " 14 10 10 15 10  9  5  5 12 16 20 15  9 15  6 20  6 12 11  3 16  5 11  3\n",
      "  8  5 20  4 13  9  8 15  7 15 24  5 12  6 14 12 12 15 12 10  6  4 13 10\n",
      "  5 17  5  9  7 11  6  3 13  3  6  9  5  6  8 12  8  5  9 12  5 11 15  7\n",
      " 16  8  9  8]\n",
      "X (230831, 2)  centers (100, 2)  tol=1e-05  maxiter=200\n",
      "57 iterations  cluster sizes: [2637 2651 2035 2444 2046 2119 2813 2258 2451 2317 3011 2170 2035 2422\n",
      " 2497 1837 2913 2486 2810 2459 1773 2114 2142 2118 2343 2540 2226 1673\n",
      " 2299 1496 2477 2337 2452 1768 2352 2777 1981 2135 2018 2563 2141 2332\n",
      " 2701 2303 2824 2350 2081 1922 2465 2380 2257 1963 1776 1936 2449 2341\n",
      " 1833 2390 2263 2394 2473 2099 2406 2798 2411 2948 2556 2517 1918 1697\n",
      " 2257 2028 1988 2184 2541 2567 2410 1971 2264 2322 2390 2434 2369 2194\n",
      " 1575 2485 2290 2592 2463 2286 1951 3044 2348 2643 2364 2140 2707 2378\n",
      " 2745 1982]\n",
      ". . . . . . . . . . . . . . . . . . . . . . . . . . . . . . . . . . . . . . . . . . . . . . . . . . . . . . . . . . . . . . . . . . . . . . . . . . . . . . . . ."
     ]
    }
   ],
   "source": [
    "from systematics_module.corr import cross_angular_correlation\n",
    "\n",
    "cross_angular_correlation(data = cmass, \n",
    "                          data2 = wise_in_sgc, \n",
    "                          rand = random, \n",
    "                          rand2= wise_random_sgc,\n",
    "                          njack = 100, nbins=10, bin_slop=0.05,\n",
    "                          weight = [True, True, True, True], \n",
    "                          dir = actdir,\n",
    "                          suffix = '_wise_x_cmass_sgc_nbins10_binslop05_jk100')\n",
    "\n"
   ]
  },
  {
   "cell_type": "code",
   "execution_count": 25,
   "metadata": {},
   "outputs": [],
   "source": [
    "from systematics_module.corr import cross_angular_correlation"
   ]
  },
  {
   "cell_type": "code",
   "execution_count": null,
   "metadata": {},
   "outputs": [
    {
     "name": "stdout",
     "output_type": "stream",
     "text": [
      "X (1656, 2)  centers (100, 2)  tol=1e-05  maxiter=200\n",
      "20 iterations  cluster sizes: [12 13 24 17 19  8 10  6 10 13  9  7 10 14 12 17 12 10 20 18 24 17 14 17\n",
      " 18 14 16 13 21 18 11 18 13 20  7 12 12 15 26 11 13 13 12 13 18  4 18 20\n",
      " 27 18 21 16 36 12 28 32 22 17 15 14 12  8 15 15 12 11 18 15 17 12 10 33\n",
      " 18 23 29 39 18 17 21 28 23 13 15 12 18 10 12 17 16 12 14 18 33 16 11 23\n",
      "  9 17 16 33]\n",
      "X (685616, 2)  centers (100, 2)  tol=1e-05  maxiter=200\n",
      "93 iterations  cluster sizes: [9084 6988 7420 6687 8261 6536 4813 7339 6560 5459 6829 9195 5560 7447\n",
      " 6031 6290 5064 7370 6284 5709 7149 8067 4591 6614 6597 8062 6463 6825\n",
      " 4636 7364 5854 7159 8258 8968 6358 8472 4898 6371 7255 6081 6770 4527\n",
      " 6997 6978 6819 5288 7430 7312 6179 7811 5895 8473 7690 6623 7353 7465\n",
      " 5953 6969 7016 6520 5860 6691 5953 7980 6974 4730 5976 6506 7488 6102\n",
      " 6792 6899 6025 7396 9222 9096 7791 6792 8290 8332 7665 7188 6926 5624\n",
      " 6961 7452 5391 7703 7163 5557 5700 7027 8128 6946 6750 6600 7509 6958\n",
      " 7467 6970]\n",
      ". . ."
     ]
    }
   ],
   "source": [
    "randind = np.random.choice(dmass_random_masked.size, size = dmass_random_masked.size/10 )\n",
    "randind2 = np.random.choice(wise_random_in_spt.size, size = wise_random_in_spt.size/10 )\n",
    "cross_angular_correlation(data = dmass_spt, \n",
    "                          data2 = wise_in_spt, \n",
    "                          rand = dmass_random_masked[randind], \n",
    "                          rand2= wise_random_in_spt[randind2],\n",
    "                          njack = 100, nbins=10, bin_slop=0.05,\n",
    "                          weight = [True, None, None, None], \n",
    "                          dir = actdir,\n",
    "                          suffix = '_wise_x_dmass_nbins10_binslop05_jk100')"
   ]
  },
  {
   "cell_type": "code",
   "execution_count": 23,
   "metadata": {},
   "outputs": [],
   "source": [
    "dmass_spt = None\n",
    "dmass_random = None\n",
    "dmass_random_masked = None\n",
    "cmass = None\n",
    "random_sgc = None\n",
    "wise_in_sgc = None\n",
    "wise_random_sgc = None\n",
    "wise = None\n",
    "wise_random_in_spt = None"
   ]
  },
  {
   "cell_type": "code",
   "execution_count": 26,
   "metadata": {},
   "outputs": [
    {
     "name": "stdout",
     "output_type": "stream",
     "text": [
      "X (1573, 2)  centers (100, 2)  tol=1e-05  maxiter=200\n",
      "18 iterations  cluster sizes: [ 9  8 24 17 15  9 20 21 23 10  5 15 16 13 10 17 13 19 28 19 13 22 15 19\n",
      " 15 20 10 23 24 20 14 31 18 14 20  6  3  9 16 16 16 13 17  9  9 20 20 17\n",
      " 22  7 20 13 18 17 13 18 19 21 10 13  8 24 14 12 11 15 21 15  7 20 15 17\n",
      " 11 32 12 12 20 19  9 11 27 24 12 13 12 17 15 16 20 11  9 22 15  7 21 12\n",
      " 12 16 20 16]\n",
      "X (618806, 2)  centers (100, 2)  tol=1e-05  maxiter=200\n",
      "107 iterations  cluster sizes: [6874 6347 6660 5799 4892 5790 6464 5211 4810 5969 5186 5313 5709 5693\n",
      " 6346 6131 6639 6587 6514 7449 5620 6265 5911 6847 6483 5562 6930 6777\n",
      " 5831 6167 6525 7229 6729 5580 6314 6491 5672 5917 6397 6615 5005 6761\n",
      " 6695 5459 5792 6198 5542 6220 6374 6747 6149 5361 6282 6474 5499 6037\n",
      " 6976 7297 6805 6466 6786 6214 6071 5826 6009 6397 7172 5693 6481 6170\n",
      " 6823 6193 5505 5988 6729 5173 7107 5689 6282 5518 5514 5825 5698 6728\n",
      " 5859 6437 6218 5841 6754 5548 4920 6071 6051 6316 6293 6593 6720 6864\n",
      " 7217 7129]\n",
      ". . . . . . . . . . . . . . . . . . . . . . . . . . . . . . . . . . . . . . . . . . . . . . . . . . . . . . . . . . . . . . . . . . . . . . . . . . . . . . . . . . . . . . . . . . . . . . . . . . . . . \n",
      "saving data file to :  ../output/sfd_train_photo_SamPle_nozband_ran10_3_full_tol1e5//act//acf_cross_wise_x_cmass_ngc_nbins10_binslop05_jk100.txt\n"
     ]
    }
   ],
   "source": [
    "randind = np.random.choice(random_ngc.size, size = random_ngc.size/20 )\n",
    "randind2 = np.random.choice(wise_random_ngc.size, size = wise_random_ngc.size/20 )\n",
    "cross_angular_correlation(data = cmass_ngc, \n",
    "                          data2 = wise_in_ngc, \n",
    "                          rand = random_ngc[randind], \n",
    "                          rand2= wise_random_ngc[randind2],\n",
    "                          njack = 100, nbins=10, bin_slop=0.05,\n",
    "                          weight = [True, True, True, True], \n",
    "                          dir = actdir,\n",
    "                          suffix = '_wise_x_cmass_ngc_nbins10_binslop05_jk100')"
   ]
  },
  {
   "cell_type": "code",
   "execution_count": 76,
   "metadata": {},
   "outputs": [],
   "source": []
  },
  {
   "cell_type": "code",
   "execution_count": 47,
   "metadata": {
    "collapsed": true
   },
   "outputs": [
    {
     "name": "stdout",
     "output_type": "stream",
     "text": [
      "X (1764, 2)  centers (100, 2)  tol=1e-05  maxiter=200\n",
      "20 iterations  cluster sizes: [17 22 17 12  9 33 13 15  5 11 11 18 25 23 18 19 11 23 11 18  7  5 30 22\n",
      " 19 13 19 13 32  8 16 12 12 12 22 27 11 21 14 11  6 21 20  9 19 16 23 20\n",
      " 36 24 11 32 13 16 24 20 12 23 19 27 23 16 18 34 20 18  9 17 14 11 21 29\n",
      " 16 13 11 13 12 17 16 21 22 17  8 10 32  3 18 19 21 19 21 22 19 21 32 21\n",
      " 12 18 13 19]\n",
      "X (778264, 2)  centers (100, 2)  tol=1e-05  maxiter=200\n",
      "112 iterations  cluster sizes: [ 8938 10145  8521  8696  5558  7945  6405  5632  6168  6705  7561  5457\n",
      "  9861  7760  9340  6855  6611  8231  8621  7977  6639  6878  8821 10468\n",
      "  8452  8785  8011  7408  8111  6952 10344  9798  8913  4496  6052  9995\n",
      "  5970  6122  8720  6961  5684  9071  8186  4270  7334  9199  9460  8906\n",
      "  9122  7688  6809  8595  7791  7519  7334  9174  7306  9658  8203  6703\n",
      "  8173  6401  8816  8116  8400  7552  7283  8631  8124  7617  6895  9833\n",
      "  5265  7960  8022  8502  7059  7852  7785  6913  7658  9534  6914  6052\n",
      "  8773  6750  9514  7148  9357  6622  8330  7943  7405  8122  9230  8380\n",
      "  4773  7402  7160  7103]\n",
      ". . . . . . . . . . . . . . . . . . . . . . . . . . . . . . . . . . . . . . . . . . . . . . . . . . . . . . . . . . . . . . . . . . . . . . . . . . . . . . . . . . . . . . . . . . . . . . . . . . . . . \n",
      "saving data file to :  ../output/sfd_train_photo_SamPle_nozband_ran10_3_full_tol1e5//act//acf_cross_wise_x_cmass_full_sys_cp_nz_weight_nbins10_jk100_no2.txt\n"
     ]
    }
   ],
   "source": [
    "cross_angular_correlation(data = cmass, \n",
    "                          data2 = wise_in_cmass, \n",
    "                          rand = random, \n",
    "                          rand2= wise_random_in_cmass,\n",
    "                          njack = 100, nbins=10,\n",
    "                          weight = [True, True, True, True], \n",
    "                          dir = actdir,\n",
    "                          suffix = '_wise_x_cmass_full_sys_cp_nz_weight_nbins10_jk100_no2')"
   ]
  },
  {
   "cell_type": "code",
   "execution_count": 20,
   "metadata": {
    "collapsed": true
   },
   "outputs": [
    {
     "ename": "NameError",
     "evalue": "name 'cross_angular_correlation' is not defined",
     "output_type": "error",
     "traceback": [
      "\u001b[0;31m---------------------------------------------------------------------------\u001b[0m",
      "\u001b[0;31mNameError\u001b[0m                                 Traceback (most recent call last)",
      "\u001b[0;32m<ipython-input-20-f8027d4ca315>\u001b[0m in \u001b[0;36m<module>\u001b[0;34m()\u001b[0m\n\u001b[0;32m----> 1\u001b[0;31m cross_angular_correlation(data = cmass, \n\u001b[0m\u001b[1;32m      2\u001b[0m                           \u001b[0mdata2\u001b[0m \u001b[0;34m=\u001b[0m \u001b[0mwise_in_cmass\u001b[0m\u001b[0;34m,\u001b[0m\u001b[0;34m\u001b[0m\u001b[0m\n\u001b[1;32m      3\u001b[0m                           \u001b[0mrand\u001b[0m \u001b[0;34m=\u001b[0m \u001b[0mrandom\u001b[0m\u001b[0;34m,\u001b[0m\u001b[0;34m\u001b[0m\u001b[0m\n\u001b[1;32m      4\u001b[0m                           \u001b[0mrand2\u001b[0m\u001b[0;34m=\u001b[0m \u001b[0mwise_random_in_cmass\u001b[0m\u001b[0;34m,\u001b[0m\u001b[0;34m\u001b[0m\u001b[0m\n\u001b[1;32m      5\u001b[0m                           \u001b[0mnjack\u001b[0m \u001b[0;34m=\u001b[0m \u001b[0;36m100\u001b[0m\u001b[0;34m,\u001b[0m \u001b[0mnbins\u001b[0m\u001b[0;34m=\u001b[0m\u001b[0;36m10\u001b[0m\u001b[0;34m,\u001b[0m\u001b[0;34m\u001b[0m\u001b[0m\n",
      "\u001b[0;31mNameError\u001b[0m: name 'cross_angular_correlation' is not defined"
     ]
    }
   ],
   "source": [
    "cross_angular_correlation(data = cmass, \n",
    "                          data2 = wise_in_cmass, \n",
    "                          rand = random, \n",
    "                          rand2= wise_random_in_cmass,\n",
    "                          njack = 100, nbins=10,\n",
    "                          weight = [True, True, True, True], \n",
    "                          dir = actdir,\n",
    "                          suffix = '_wise_x_cmass_sgc_sys_cp_nz_weight_nbins10_jk100_no2')"
   ]
  },
  {
   "cell_type": "code",
   "execution_count": 21,
   "metadata": {
    "collapsed": true
   },
   "outputs": [
    {
     "ename": "NameError",
     "evalue": "name 'dmass_spt' is not defined",
     "output_type": "error",
     "traceback": [
      "\u001b[0;31m---------------------------------------------------------------------------\u001b[0m",
      "\u001b[0;31mNameError\u001b[0m                                 Traceback (most recent call last)",
      "\u001b[0;32m<ipython-input-21-88a64b9cfe90>\u001b[0m in \u001b[0;36m<module>\u001b[0;34m()\u001b[0m\n\u001b[0;32m----> 1\u001b[0;31m \u001b[0mpcut01\u001b[0m \u001b[0;34m=\u001b[0m \u001b[0;34m(\u001b[0m\u001b[0mdmass_spt\u001b[0m\u001b[0;34m[\u001b[0m\u001b[0;34m'CMASS_PROB'\u001b[0m\u001b[0;34m]\u001b[0m \u001b[0;34m>\u001b[0m \u001b[0;36m0.01\u001b[0m \u001b[0;34m)\u001b[0m\u001b[0;34m\u001b[0m\u001b[0m\n\u001b[0m\u001b[1;32m      2\u001b[0m cross_angular_correlation(data = dmass_spt[pcut01], \n\u001b[1;32m      3\u001b[0m                           \u001b[0mdata2\u001b[0m \u001b[0;34m=\u001b[0m \u001b[0mwise_in_spt\u001b[0m\u001b[0;34m,\u001b[0m\u001b[0;34m\u001b[0m\u001b[0m\n\u001b[1;32m      4\u001b[0m                           \u001b[0mrand\u001b[0m \u001b[0;34m=\u001b[0m \u001b[0mdmass_random\u001b[0m\u001b[0;34m,\u001b[0m\u001b[0;34m\u001b[0m\u001b[0m\n\u001b[1;32m      5\u001b[0m                           \u001b[0mrand2\u001b[0m\u001b[0;34m=\u001b[0m \u001b[0mwise_random_in_spt\u001b[0m\u001b[0;34m,\u001b[0m\u001b[0;34m\u001b[0m\u001b[0m\n",
      "\u001b[0;31mNameError\u001b[0m: name 'dmass_spt' is not defined"
     ]
    }
   ],
   "source": [
    "pcut01 = (dmass_spt['CMASS_PROB'] > 0.01 )\n",
    "cross_angular_correlation(data = dmass_spt[pcut01], \n",
    "                          data2 = wise_in_spt, \n",
    "                          rand = dmass_random, \n",
    "                          rand2= wise_random_in_spt, \n",
    "                          njack = 100, nbins=10,\n",
    "                          dir = actdir,\n",
    "                          weight = [True, None, None, None], \n",
    "                          suffix = '_wise_x_dmass_weight_pcut01_nbins10_jk100_no2')"
   ]
  },
  {
   "cell_type": "code",
   "execution_count": 51,
   "metadata": {},
   "outputs": [
    {
     "name": "stdout",
     "output_type": "stream",
     "text": [
      "#   R_nom       meanR       meanlogR        xi        sigma_xi        DD           RR           DR           RD         npairs   \r\n",
      "  5.2455e-02   5.4755e-02  -2.9132e+00   1.0915e-02   4.6772e-03   4.6381e+04   4.5712e+04   4.5837e+04   4.5757e+04   1.3119e+05\r\n",
      "  8.3136e-02   8.6781e-02  -2.4527e+00   4.6734e-03   2.9606e-03   1.1528e+05   1.1409e+05   1.1434e+05   1.1449e+05   3.2628e+05\r\n",
      "  1.3176e-01   1.3755e-01  -1.9921e+00   9.1207e-03   1.8771e-03   2.8792e+05   2.8380e+05   2.8383e+05   2.8530e+05   8.1577e+05\r\n",
      "  2.0883e-01   2.1796e-01  -1.5318e+00   5.4130e-03   1.1917e-03   7.1516e+05   7.0418e+05   7.0509e+05   7.1044e+05   2.0301e+06\r\n",
      "  3.3097e-01   3.4549e-01  -1.0711e+00   4.1307e-03   7.5619e-04   1.7787e+06   1.7488e+06   1.7508e+06   1.7695e+06   5.0574e+06\r\n",
      "  5.2455e-01   5.4727e-01  -6.1117e-01   2.7462e-03   4.8087e-04   4.3966e+06   4.3247e+06   4.3253e+06   4.3840e+06   1.2505e+07\r\n",
      "  8.3136e-01   8.6727e-01  -1.5077e-01   2.1589e-03   3.0711e-04   1.0784e+07   1.0603e+07   1.0602e+07   1.0763e+07   3.0694e+07\r\n",
      "  1.3176e+00   1.3738e+00   3.0920e-01   1.5602e-03   1.9707e-04   2.6195e+07   2.5748e+07   2.5749e+07   2.6154e+07   7.4588e+07\r\n",
      "  2.0883e+00   2.1762e+00   7.6918e-01   8.1198e-04   1.2740e-04   6.2692e+07   6.1611e+07   6.1595e+07   6.2658e+07   1.7871e+08\r\n",
      "  3.3097e+00   3.4459e+00   1.2288e+00   8.1113e-04   8.3267e-05   1.4672e+08   1.4423e+08   1.4415e+08   1.4668e+08   4.1880e+08\r\n"
     ]
    }
   ],
   "source": [
    "cat ../output/sfd_train_photo_SamPle_nozband_ran10_3_full_tol1e5//act/npairs_cross_wise_x_cmass_sgc_nbins10.txt"
   ]
  },
  {
   "cell_type": "code",
   "execution_count": 8,
   "metadata": {},
   "outputs": [],
   "source": [
    "\n",
    "#rnom, rmean, _, xi_test, sigma_xi_test, _,_,_,_,_ = np.genfromtxt(actdir+'npairs_cross_twomass_x_dmass_nbins10.txt',unpack=True)\n",
    "#rnom, rmean, _, xi_sgc, sigma_xi_sgc, _,_,_,_,_ = np.genfromtxt('../output/sfd_train_photo_SamPle_nozband_ran10_3_full_tol1e5//act/npairs_cross_wise_x_cmass_sgc_nbins10_theta2.5_250.txt',unpack=True)\n",
    "#rnom, rmean, _, xi_test3, sigma_xi_test3, _,_,_,_,_ = np.genfromtxt(actdir+'npairs_cross_twomass_x_cmass_sgc_veto_nbins10.txt',unpack=True)\n",
    "_, rmean_sgc, _, xi_sgc, sigma_xi_sgc, _,_,_,_,_ = \\\n",
    "np.genfromtxt(actdir+'npairs_cross_wise_x_cmass_sgc_nbins10_binslop05.txt',unpack=True)\n",
    "_, rmean_ngc, _, xi_ngc, sigma_xi_ngc, _,_,_,_,_ = \\\n",
    "np.genfromtxt(actdir+'npairs_cross_wise_x_cmass_ngc_nbins10_binslop05.txt',unpack=True)\n",
    "_, rmean_dmass, _, xi_dmass, sigma_xi_dmass, _,_,_,_,_ = \\\n",
    "np.genfromtxt(actdir+'npairs_cross_wise_x_dmass_nbins10_binslop05.txt',unpack=True)\n",
    "\n",
    "\n",
    "\n",
    "theta_th, theory_wise_cmass_sgc = np.genfromtxt('/n/des/lee.5922/programs/cosmolike/cosmosis/dmass_cat/wise/theory_wise_cmass_sgc.txt', unpack=True)\n",
    "theta_th, theory_wise_cmass_full = np.genfromtxt('/n/des/lee.5922/programs/cosmolike/cosmosis/dmass_cat/wise/theory_wise_cmass_full.txt', unpack=True)\n"
   ]
  },
  {
   "cell_type": "code",
   "execution_count": 65,
   "metadata": {},
   "outputs": [
    {
     "data": {
      "text/plain": [
       "array([0.016207  , 0.014711  , 0.010198  , 0.0074238 , 0.0039933 ,\n",
       "       0.0027367 , 0.0022613 , 0.002161  , 0.00012021, 0.00012436])"
      ]
     },
     "execution_count": 65,
     "metadata": {},
     "output_type": "execute_result"
    }
   ],
   "source": [
    "xi_dmass"
   ]
  },
  {
   "cell_type": "code",
   "execution_count": 12,
   "metadata": {},
   "outputs": [
    {
     "name": "stdout",
     "output_type": "stream",
     "text": [
      "31.41527905974865 36.4065096729119\n"
     ]
    },
    {
     "data": {
      "text/plain": [
       "<matplotlib.lines.Line2D at 0x7f23b0b870d0>"
      ]
     },
     "execution_count": 12,
     "metadata": {},
     "output_type": "execute_result"
    },
    {
     "data": {
      "image/png": "[encoded data removed]",
      "text/plain": [
       "<matplotlib.figure.Figure at 0x7f23b0bf0590>"
      ]
     },
     "metadata": {
      "needs_background": "light"
     },
     "output_type": "display_data"
    }
   ],
   "source": [
    "\n",
    "#DAT = np.loadtxt(actdir+'acf_cross_wise_x_cmass_sgc_sys_cp_nz_weight_nbins10_jk100_no2.txt')\n",
    "DAT = np.loadtxt(actdir+'acf_cross_wise_x_cmass_sgc_nbins10_binslop05_jk100.txt')\n",
    "meanr, xi, xi_err = [DAT[:,i] for i in range(3)]\n",
    "\n",
    "#DAT = np.loadtxt(actdir+'acf_cross_wise_x_dmass_weight_pcut01_nbins10_jk100_no2.txt')\n",
    "DAT = np.loadtxt(actdir+'acf_cross_wise_x_dmass_weight_pcut01_nbins10_jk100_no2.txt')\n",
    "meanr2, xi2, xi_err2 = [DAT[:,i] for i in range(3)]\n",
    "\n",
    "DAT = np.loadtxt(actdir+'acf_cross_wise_x_cmass_full_sys_cp_nz_weight_nbins10_jk100_no2.txt')\n",
    "meanr3, xi3, xi_err3 = [DAT[:,i] for i in range(3)]\n",
    "#DAT2 = np.loadtxt('data_txt/acf_cross_wise_x_cmass_sgc.txt')\n",
    "#meanr4, xi4, xi_err4 = [DAT2[:,i] for i in range(3)]\n",
    "\n",
    "fig, ax = plt.subplots(figsize = (8, 6))\n",
    "ax.errorbar(meanr*0.95, 1000*xi, yerr = 1000*xi_err, fmt = '-g', label='WISE x CMASS SGC JK50')\n",
    "#ax.errorbar(meanr2, xi2, yerr = xi_err2, fmt = '-g', label='WISE x DMASS pcut01')\n",
    "#ax.errorbar(meanr*1.05, xi, yerr = xi_err, fmt = '.r', label='dmass spt low')\n",
    "#ax.errorbar(meanr3, xi3, yerr = xi_err3, fmt = 'r.', label='WISE x cmass(sgc)')\n",
    "#ax.errorbar(meanr4*1.05, xi4, yerr = xi_err4, fmt = '.k', label='WISE x cmass(sgc)')\n",
    "\n",
    "\n",
    "ax.plot(theta_th, 1000*theory_wise_cmass_full, color='grey', ls='-')\n",
    "ax.plot(theta_th, 1000*theory_wise_cmass_sgc, color='grey', ls='-')\n",
    "\n",
    "ax.errorbar(rmean_ngc, 1000*xi_ngc, yerr = 1000*sigma_xi_ngc, fmt = '.-k', label='wise x cmass ngc ')\n",
    "ax.errorbar(rmean_sgc, 1000*xi_sgc, yerr = 1000*sigma_xi_sgc, fmt = '.-', color = 'orange', label='wise x cmass sgc')\n",
    "ax.errorbar(rmean_dmass, 1000*xi_dmass, yerr = 1000*sigma_xi_dmass, fmt = '.-', color = 'blue', label='wise x dmass')\n",
    "#chisqr = np.sum( (xi4-xi3)**2/xi_err3**2 )*1./xi3.size\n",
    "\n",
    "chisqr = np.sum( (xi_sgc-xi_dmass)**2/(sigma_xi_dmass**2 + sigma_xi_sgc**2 ))*1./xi_dmass.size\n",
    "chisqr2 = np.sum( (xi_ngc-xi_dmass)**2/(sigma_xi_dmass**2 + sigma_xi_ngc**2 ))*1./xi_dmass.size\n",
    "                \n",
    "#chisqr3 = np.sum( (xi3-0.0)**2/xi_err3**2 )*1./xi3.size\n",
    "print chisqr, chisqr2\n",
    "\n",
    "ax.set_xlim(2.5/60., 250/60.)\n",
    "#ax.text(1.2, 0.008, r'DMASS $\\chi^2$ = {:0.3f}'.format(chisqr), fontsize = 12)\n",
    "#ax.text(1.2, 0.006, r'CMASS $\\chi^2$ = {:0.3f}'.format(chisqr3), fontsize = 12)\n",
    "ax.set_xscale('log')\n",
    "ax.set_yscale('linear')\n",
    "ax.legend(loc = 'best', fontsize = 12)\n",
    "#ax.text(1.5, 0.07, r'$\\chi^2$ = {:0.3f}'.format(chisqr), fontsize = 12)\n",
    "#ax.set_ylim(1e-3,)\n",
    "ax.set_xlabel(r'$\\theta$ (deg)', fontsize = 12)\n",
    "ax.set_ylabel(r'$w(\\theta)$', fontsize = 12)\n",
    "ax.axhline(y = 0.0, color = 'grey', linestyle = '--')\n",
    "\n",
    "#fig.savefig(actdir+'/acf_wise.pdf' )"
   ]
  },
  {
   "cell_type": "code",
   "execution_count": null,
   "metadata": {},
   "outputs": [],
   "source": []
  }
 ],
 "metadata": {
  "kernelspec": {
   "display_name": "Python 2",
   "language": "python",
   "name": "python2"
  },
  "language_info": {
   "codemirror_mode": {
    "name": "ipython",
    "version": 2
   },
   "file_extension": ".py",
   "mimetype": "text/x-python",
   "name": "python",
   "nbconvert_exporter": "python",
   "pygments_lexer": "ipython2",
   "version": "2.7.5"
  }
 },
 "nbformat": 4,
 "nbformat_minor": 2
}
