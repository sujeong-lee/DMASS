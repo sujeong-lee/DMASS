{
 "cells": [
  {
   "cell_type": "code",
   "execution_count": 5,
   "metadata": {},
   "outputs": [
    {
     "name": "stdout",
     "output_type": "stream",
     "text": [
      "The autoreload extension is already loaded. To reload it, use:\n",
      "  %reload_ext autoreload\n"
     ]
    }
   ],
   "source": [
    "import os, sys, fitsio\n",
    "sys.path.append('../')\n",
    "import numpy as np\n",
    "import healpy as hp\n",
    "\n",
    "%matplotlib inline\n",
    "\n",
    "%load_ext autoreload\n",
    "%autoreload 2"
   ]
  },
  {
   "cell_type": "code",
   "execution_count": 6,
   "metadata": {},
   "outputs": [],
   "source": [
    "from run_DMASS import *"
   ]
  },
  {
   "cell_type": "code",
   "execution_count": 8,
   "metadata": {},
   "outputs": [],
   "source": [
    "rootdir = '../output/gold_all_fitting3/'\n",
    "os.makedirs(rootdir)"
   ]
  },
  {
   "cell_type": "code",
   "execution_count": 6,
   "metadata": {},
   "outputs": [
    {
     "name": "stdout",
     "output_type": "stream",
     "text": [
      "\n",
      "--------------------------------\n",
      " calling catalog\n",
      "--------------------------------\n",
      "Y1A1_GOLD_STRIPE82_v2_000001.fits\n",
      "650179\n",
      "CHECK input catalog has only galaxies\n",
      "73803\n"
     ]
    }
   ],
   "source": [
    "path = '/n/des/lee.5922/data/gold_cat/'\n",
    "gold_st82_slr = io.SearchAndCallFits(path = path, columns = None, keyword = 'Y1A1_GOLD_STRIPE82_v2_000001')\n",
    "gold_st82_slr = gold_st82_slr[(gold_st82_slr['MODEST_CLASS'] == 1)&(gold_st82_slr['FLAGS_GOLD'] == 0 )]\n",
    "gold_st82_slr = Cuts.keepGoodRegion(gold_st82_slr)\n",
    "print gold_st82_slr.size\n",
    "gold_st82_slr = gold_st82_slr[priorCut_test(gold_st82_slr)]\n",
    "print gold_st82_slr.size\n",
    "randind = np.random.choice(np.arange(gold_st82_slr.size), size = 20000)\n",
    "gold_st82_slr = gold_st82_slr[randind]\n",
    "#gold_st82_slr = gold_st82_slr[priorCut_test(gold_st82_slr)]"
   ]
  },
  {
   "cell_type": "code",
   "execution_count": 9,
   "metadata": {},
   "outputs": [
    {
     "name": "stdout",
     "output_type": "stream",
     "text": [
      "@pickle_results: computing results and saving to '../output/gold_all_fitting2/gold_st82_XD_all.pkl'\n",
      "@pickle_results: computing results and saving to '../output/gold_all_fitting2/gold_st82_XD_all.pkl.n_cluster'\n",
      "Finding optimal number of cluster : 100 % \n",
      "best fit converged: True  n_components =  12\n",
      "n_cluster :  12\n",
      "elapsed time: 242.93 min,  total iteration 1751                                 \n"
     ]
    }
   ],
   "source": [
    "gold_st82_pickle = rootdir +'gold_st82_XD_all.pkl'\n",
    "clf_st82_all = XD_fitting( data = gold_st82_slr, pickleFileName = gold_st82_pickle, n_cl = None )  "
   ]
  },
  {
   "cell_type": "code",
   "execution_count": 9,
   "metadata": {},
   "outputs": [
    {
     "name": "stdout",
     "output_type": "stream",
     "text": [
      "\n",
      "--------------------------------\n",
      " calling catalog\n",
      "--------------------------------\n",
      "Y1A1_GOLD_000001.fits\n"
     ]
    }
   ],
   "source": [
    "path = '/n/des/lee.5922/data/gold_cat/'\n",
    "gold_spt_slr = io.SearchAndCallFits(path = path, columns = None, keyword = 'Y1A1_GOLD_000001')\n",
    "gold_spt_slr = gold_spt_slr[(gold_spt_slr['MODEST_CLASS'] == 1)&(gold_spt_slr['FLAGS_GOLD'] == 0 )]\n",
    "gold_spt_slr = Cuts.keepGoodRegion(gold_spt_slr)\n",
    "\n",
    "randind = np.random.choice(np.arange(gold_spt_slr.size), size = 20000)\n",
    "gold_spt_slr = gold_spt_slr[randind]\n",
    "#gold_spt_slr = gold_spt_slr[priorCut_test(gold_spt_slr)]"
   ]
  },
  {
   "cell_type": "code",
   "execution_count": null,
   "metadata": {},
   "outputs": [
    {
     "name": "stdout",
     "output_type": "stream",
     "text": [
      "@pickle_results: computing results and saving to '../output/gold_all_fitting/gold_spt_XD_all.pkl'\n",
      "@pickle_results: computing results and saving to '../output/gold_all_fitting/gold_spt_XD_all.pkl.n_cluster'\n",
      "Finding optimal number of cluster : 100 % \n",
      "best fit converged: True  n_components =  22\n",
      "n_cluster :  22\n",
      "total expected time: 373.80 min,  process: 18.95 %,  iteration 379/2000      "
     ]
    }
   ],
   "source": [
    "gold_spt_pickle = rootdir +'gold_spt_XD_all.pkl'\n",
    "clf_spt_all = XD_fitting( data = gold_spt_slr, pickleFileName = gold_spt_pickle, n_cl = None )  "
   ]
  },
  {
   "cell_type": "code",
   "execution_count": null,
   "metadata": {},
   "outputs": [],
   "source": []
  },
  {
   "cell_type": "code",
   "execution_count": null,
   "metadata": {},
   "outputs": [],
   "source": []
  },
  {
   "cell_type": "code",
   "execution_count": null,
   "metadata": {},
   "outputs": [],
   "source": [
    "train = fitsio.read(rootdir + 'train_sample_des.fits')"
   ]
  },
  {
   "cell_type": "code",
   "execution_count": 20,
   "metadata": {},
   "outputs": [
    {
     "name": "stdout",
     "output_type": "stream",
     "text": [
      "@pickle_results: computing results and saving to '../output/sfd_train_photo_SamPle_full2/gold_st82_XD_cmass_re.pkl'\n",
      "n_cluster :  8\n",
      "expected time: 0.00 s,  process: 100.00 %             n 437/1000\n"
     ]
    }
   ],
   "source": [
    "\n",
    "cmass_pickle = rootdir +'gold_st82_XD_cmass_re_tol10e6.pkl'\n",
    "clf_cmass_retraining = XD_fitting( data = train, pickleFileName = cmass_pickle, n_cl = 8 )   "
   ]
  },
  {
   "cell_type": "code",
   "execution_count": null,
   "metadata": {},
   "outputs": [],
   "source": []
  },
  {
   "cell_type": "code",
   "execution_count": 21,
   "metadata": {},
   "outputs": [],
   "source": [
    "dmass = fitsio.read(rootdir+'dmass_spt_0001.fits')\n",
    "dmass_st82 = fitsio.read(rootdir+'dmass_st82_0001.fits')"
   ]
  },
  {
   "cell_type": "code",
   "execution_count": 24,
   "metadata": {},
   "outputs": [
    {
     "name": "stdout",
     "output_type": "stream",
     "text": [
      "@pickle_results: computing results and saving to '../output/sfd_train_photo_SamPle_full2/gold_st82_XD_dmass_st82.pkl'\n",
      "@pickle_results: using precomputed results from '../output/sfd_train_photo_SamPle_full2/gold_st82_XD_dmass_st82.pkl.n_cluster'\n",
      "Finding optimal number of cluster : 100 % \n",
      "best fit converged: True  n_components =  8\n",
      "n_cluster :  8\n",
      "total elapsed time: 39.75 min,  total iteration 568      /n/1000    "
     ]
    }
   ],
   "source": [
    "dmass_pickle_st82 = rootdir +'gold_st82_XD_dmass_st82.pkl'\n",
    "clf_dmass_st82 = XD_fitting( data = dmass_st82, pickleFileName = dmass_pickle_st82, n_cl = None )   "
   ]
  },
  {
   "cell_type": "code",
   "execution_count": 25,
   "metadata": {},
   "outputs": [
    {
     "name": "stdout",
     "output_type": "stream",
     "text": [
      "@pickle_results: computing results and saving to '../output/sfd_train_photo_SamPle_full2/gold_st82_XD_dmass_rand10.pkl'\n",
      "n_cluster :  8\n",
      "elapsed time: 45.57 min,  total iteration 721                                 /n"
     ]
    }
   ],
   "source": [
    "dmass_pickle = rootdir +'gold_st82_XD_dmass_rand10.pkl'\n",
    "ind = np.random.choice ( np.arange(dmass.size), size = dmass.size/10)\n",
    "clf_dmass = XD_fitting( data = dmass[ind], pickleFileName = dmass_pickle, n_cl = 8 )   "
   ]
  },
  {
   "cell_type": "code",
   "execution_count": 26,
   "metadata": {},
   "outputs": [],
   "source": [
    "fitsio.write(rootdir + 'dmass_ran10.fits', dmass[ind])"
   ]
  },
  {
   "cell_type": "code",
   "execution_count": 8,
   "metadata": {},
   "outputs": [],
   "source": [
    "cmass_pickle = rootdir +'gold_st82_XD_cmass.pkl'\n",
    "clf_cmass = XD_fitting( None, pickleFileName = cmass_pickle)               \n",
    "#clf_no = XD_fitting( None, pickleFileName = no_pickle)"
   ]
  },
  {
   "cell_type": "code",
   "execution_count": 9,
   "metadata": {},
   "outputs": [
    {
     "data": {
      "text/plain": [
       "<xd.XDGMM at 0x7f779e1a00d0>"
      ]
     },
     "execution_count": 9,
     "metadata": {},
     "output_type": "execute_result"
    }
   ],
   "source": [
    "clf_cmass"
   ]
  },
  {
   "cell_type": "code",
   "execution_count": null,
   "metadata": {},
   "outputs": [],
   "source": []
  }
 ],
 "metadata": {
  "kernelspec": {
   "display_name": "Python 2",
   "language": "python",
   "name": "python2"
  },
  "language_info": {
   "codemirror_mode": {
    "name": "ipython",
    "version": 2
   },
   "file_extension": ".py",
   "mimetype": "text/x-python",
   "name": "python",
   "nbconvert_exporter": "python",
   "pygments_lexer": "ipython2",
   "version": "2.7.14"
  }
 },
 "nbformat": 4,
 "nbformat_minor": 2
}
