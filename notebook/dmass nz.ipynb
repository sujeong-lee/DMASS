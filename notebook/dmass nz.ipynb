{
 "cells": [
  {
   "cell_type": "markdown",
   "metadata": {},
   "source": [
    "# Cross correlation with 2MASS Catalog "
   ]
  },
  {
   "cell_type": "code",
   "execution_count": 1,
   "metadata": {
    "scrolled": false
   },
   "outputs": [],
   "source": [
    "import os,sys\n",
    "sys.path.append('../')\n",
    "from xd import *\n",
    "from utils import *\n",
    "import esutil\n",
    "import healpy as hp\n",
    "from systematics import *\n",
    "from cmass_modules import *\n",
    "%matplotlib inline\n",
    "\n",
    "%load_ext autoreload\n",
    "%autoreload 2"
   ]
  },
  {
   "cell_type": "code",
   "execution_count": 2,
   "metadata": {},
   "outputs": [],
   "source": [
    "def catalog_masking(cat, nside_out = 128, area=None):\n",
    "    print 'nside shoud be equal or less than 512'\n",
    "    print 'input cat ', cat.size\n",
    "    cat = reddening_mask(cat = cat, nside_out = nside_out)\n",
    "    print 'reddening ', cat.size\n",
    "    if area is 'NGC' :\n",
    "        cat = boss_mask(cat=cat, nside_out = 1024, area=area)\n",
    "    elif area is 'SGC' :\n",
    "        cat = boss_mask(cat=cat, nside_out = 1024, area=area)    \n",
    "    elif area is 'SPT':\n",
    "        cat = Cuts.keepGoodRegion(cat)\n",
    "        cat = cat[cat['DEC']<-3.0]\n",
    "        #cat = y1gold_mask(cat = cat, nside_out = nside_out)\n",
    "    else : print 'area keyword input : either one of NGC SGC SPT'\n",
    "        \n",
    "    print 'output ', cat.size\n",
    "    return cat"
   ]
  },
  {
   "cell_type": "code",
   "execution_count": 3,
   "metadata": {},
   "outputs": [],
   "source": [
    "def making_healpix_density_map(cat = None, nside = 128, nest = False, ext_weight = None):\n",
    "    hpind = np.arange(hp.nside2npix(nside))\n",
    "    cat_ind = hpRaDecToHEALPixel(cat['RA'], cat['DEC'], nside= nside, nest= nest)\n",
    "    N_gal, _ = np.histogram(cat_ind, bins = np.append(hpind, hpind.size) )   \n",
    "    \n",
    "    seen = (N_gal != 0.0)\n",
    "    pixarea = hp.nside2pixarea(nside = nside)\n",
    "    ra,dec = hpHEALPixelToRaDec(hpind, nside = nside)\n",
    "    Map = np.zeros( (hpind.size, ), dtype = [('RA', 'float'),('DEC', 'float'),('PIXEL', 'float'), ('N_GAL', 'float') \\\n",
    "                                            , ('WEIGHT', 'int'), ('KAPPA', 'float')])\n",
    "    Ntot = cat.size\n",
    "    Npix = np.sum(seen)\n",
    "    Atot = pixarea * Npix\n",
    "    ntot = Ntot *1./Atot\n",
    "    ngal = N_gal *1./pixarea\n",
    "    \n",
    "\n",
    "    print 'Ntot', Ntot\n",
    "    #print 'Ngal', N_gal\n",
    "    print 'mean Ngal', np.mean(N_gal[seen])\n",
    "    print 'Npix', Npix\n",
    "    #print 'Map.size', Map.shape\n",
    "    Map['RA'] = ra\n",
    "    Map['DEC'] = dec\n",
    "    Map['PIXEL'] = hpind\n",
    "    Map['N_GAL'] = N_gal \n",
    "    Map['WEIGHT'] = seen #  ( ngal*1./ntot - 1.)*1./Npix\n",
    "    Map['KAPPA'] =  (N_gal*1./Ntot * Npix -1.)\n",
    "    #Map['KAPPA'][~seen] = 0.0\n",
    "    #Map['WEIGHT'][unseen] = 0\n",
    "    #Map['WEIGHT_RAND'] = unseen\n",
    "    return Map"
   ]
  },
  {
   "cell_type": "code",
   "execution_count": 4,
   "metadata": {},
   "outputs": [],
   "source": [
    "def _making_healpix_density_map(cat = None, nside = 128, nest = False):\n",
    "    hpind = np.arange(hp.nside2npix(nside))\n",
    "    cat_ind = hpRaDecToHEALPixel(cat['RA'], cat['DEC'], nside= nside, nest= nest)\n",
    "    N_gal, _ = np.histogram(cat_ind, bins = np.append(hpind, hpind.size) )\n",
    "    seen = (N_gal != 0.0)\n",
    "    pixarea = hp.nside2pixarea(nside = nside)\n",
    "    ra,dec = hpHEALPixelToRaDec(hpind, nside = nside)\n",
    "    Map = np.zeros( (hpind.size, ), dtype = [('RA', 'float'),('DEC', 'float'),('PIXEL', 'float'), ('N_GAL', 'float') \\\n",
    "                                            , ('WEIGHT', 'int'), ('KAPPA', 'float') , ('WEIGHT_RAND', 'int') ])\n",
    "    Ntot = cat.size\n",
    "    Npix = len(set(cat_ind))\n",
    "    print np.sum(seen), Npix\n",
    "    Atot = pixarea * Npix\n",
    "    ntot = Ntot *1./Atot\n",
    "    ngal = N_gal *1./pixarea\n",
    "    \n",
    "\n",
    "    print 'Ngaltot', Ntot\n",
    "    print 'Ngal mean', np.mean(N_gal)\n",
    "    #print 'Ngal', N_gal\n",
    "    print 'Npix', Npix\n",
    "    print 'Map.size', Map.shape\n",
    "    Map['RA'] = ra\n",
    "    Map['DEC'] = dec\n",
    "    Map['PIXEL'] = hpind\n",
    "    Map['N_GAL'] = N_gal \n",
    "    #Map['WEIGHT'] = (N_gal*1./Ntot * Npix -1.)#  ( ngal*1./ntot - 1.)*1./Npix\n",
    "    #Map['WEIGHT'][N_gal == 0] = 0\n",
    "    Map['KAPPA'] =  (N_gal*1./Ntot * Npix -1.)\n",
    "    #Map['KAPPA'][N_gal==0] = 0.0\n",
    "    Map['WEIGHT'] = seen\n",
    "    return Map"
   ]
  },
  {
   "cell_type": "code",
   "execution_count": 5,
   "metadata": {},
   "outputs": [],
   "source": [
    "def y1gold_mask(cat=None, nside_out = 4096):\n",
    "    \n",
    "    path = '/n/des/lee.5922/data/systematic_maps/'\n",
    "    LSSGoldmask_hpind = fitsio.read(path+'Y1LSSmask_v2_redlimcut_il22_seeil4.0_4096ring.fits')['PIXEL']\n",
    "    hpind_frac = np.zeros(hp.nside2npix(4096), dtype = 'float')\n",
    "    hpind_frac[LSSGoldmask_hpind] = 1.0\n",
    "    if nside_out == 4096 : hpind_frac_ud = hpind_frac\n",
    "    else : hpind_frac_ud = hp.ud_grade(hpind_frac, pess=True, nside_out = nside_out)\n",
    "    \n",
    "    hpind_up = np.arange(hp.nside2npix(nside_out))\n",
    "    \n",
    "    cat = cat[cat['DEC']<-3.0]\n",
    "    cat_hpind = hpRaDecToHEALPixel(cat['RA'], cat['DEC'], nside= nside_out, nest= False) \n",
    "    goodind = np.in1d(cat_hpind, hpind_up[[ hpind_frac_ud > 0.8]])\n",
    "    return cat[goodind]  "
   ]
  },
  {
   "cell_type": "code",
   "execution_count": 6,
   "metadata": {},
   "outputs": [],
   "source": [
    "def boss_mask(cat=None, area='SGC', nside_out = 1024):\n",
    "    \n",
    "\n",
    "    if area is 'SGC' : \n",
    "        boss_hpind = esutil.io.read('/n/des/lee.5922/data/cmass_cat/healpix_boss_footprint_SGC_1024.fits')\n",
    "        \n",
    "        #boss_hpind = hp.ud_grade(boss_hpind, pess=True, nside_out = nside)\n",
    "\n",
    "    elif area is 'NGC':\n",
    "        boss_hpind = esutil.io.read('/n/des/lee.5922/data/cmass_cat/healpix_boss_footprint_NGC_1024.fits')\n",
    "        #boss_hpind = hp.ud_grade(boss_hpind, pess=True, nside_out = nside)\n",
    "    else : \n",
    "        print 'area keyword input : SGC or NGC'\n",
    "        return 0\n",
    "     \n",
    "    boss_hpfrac = np.zeros(hp.nside2npix(1024), dtype = 'float')\n",
    "    boss_hpfrac[boss_hpind] = 1.0\n",
    "    boss_hpind_up = np.arange(hp.nside2npix(nside_out))\n",
    "    \n",
    "    if nside_out == 1024 : boss_hpfrac_ud = boss_hpfrac\n",
    "    else : boss_hpfrac_ud = hp.ud_grade(boss_hpfrac, pess=True, nside_out = nside_out)\n",
    "    \n",
    "    #print boss_hpfrac\n",
    "    \n",
    "    \n",
    "    #boss_hpfrac_ud2 = boss_hpfrac_ud.copy()\n",
    "    #boss_hpfrac_ud2[ boss_hpfrac_ud > 0.8] = 0\n",
    "    #hp.mollview( boss_hpfrac_ud2, max = 1, nest = False)\n",
    "    \n",
    "    #if cat is None : \n",
    "    #    boss_hpmask = np.zeros(hp.nside2npix(4096), dtype = 'bool')\n",
    "    #    boss_hpmask[boss_hpind] = 1\n",
    "    #    return boss_hpmask\n",
    "    \n",
    "    #elif cat is not None : \n",
    "        \n",
    "    hpind = hpRaDecToHEALPixel(cat['RA'], cat['DEC'], nside= nside_out, nest= False) \n",
    "    goodind = np.in1d(hpind, boss_hpind_up[[ boss_hpfrac_ud > 0.8]])\n",
    "    return cat[goodind]"
   ]
  },
  {
   "cell_type": "code",
   "execution_count": 7,
   "metadata": {},
   "outputs": [],
   "source": [
    "def reddening_mask(cat = None, nside_out = 512):\n",
    "    \n",
    "    reddening_nest = esutil.io.read('/n/des/lee.5922/data/2mass_cat/lambda_sfd_ebv.fits', ensure_native=True)\n",
    "    reddening_ring = hp.reorder(reddening_nest['TEMPERATURE'], inp='NEST', out='RING')\n",
    "    if nside_out == 512 : reddening_ring_ud = reddening_ring\n",
    "    else : reddening_ring_ud = hp.ud_grade(reddening_ring, pess=True, nside_out = nside_out)\n",
    "        \n",
    "    reddening = rotate_hp_map(reddening_ring_ud, coord = ['C', 'G'])\n",
    "\n",
    "    reddening_mask = reddening < 0.05 /0.367\n",
    "    \n",
    "    hpind_up = np.arange(hp.nside2npix(nside_out))\n",
    "    \n",
    "    cathpind = hpRaDecToHEALPixel(cat['RA'], cat['DEC'], nside=  nside_out, nest= False)\n",
    "    mask = np.in1d(cathpind, hpind_up[reddening_mask])\n",
    "    \n",
    "\n",
    "    return cat[mask]"
   ]
  },
  {
   "cell_type": "code",
   "execution_count": 8,
   "metadata": {},
   "outputs": [],
   "source": [
    "def _making_healpix_density_map(cat = None, nside = 128, nest = False):\n",
    "    hpind = np.arange(hp.nside2npix(nside))\n",
    "    cat_ind = hpRaDecToHEALPixel(cat['RA'], cat['DEC'], nside= nside, nest= nest)\n",
    "    N_gal, _ = np.histogram(cat_ind, bins = np.append(hpind, hpind.size) )\n",
    "    unseen = (N_gal != 0.0)\n",
    "    pixarea = hp.nside2pixarea(nside = nside)\n",
    "    ra,dec = hpHEALPixelToRaDec(hpind, nside = nside)\n",
    "    Map = np.zeros( (hpind.size, ), dtype = [('RA', 'float'),('DEC', 'float'),('PIXEL', 'float'), ('N_GAL', 'float') \\\n",
    "                                            , ('WEIGHT', 'float') ,  ('WEIGHT_RAND', 'bool') ])\n",
    "    Map['RA'] = ra\n",
    "    Map['DEC'] = dec\n",
    "    Map['PIXEL'] = hpind\n",
    "    Map['N_GAL'] = N_gal   \n",
    "    #Map['WEIGHT'] = N_gal*1./pixarea \n",
    "    Map['WEIGHT'] = unseen\n",
    "    return Map"
   ]
  },
  {
   "cell_type": "markdown",
   "metadata": {},
   "source": [
    "## Masking 2MASS Extended source catalog (XSC) "
   ]
  },
  {
   "cell_type": "code",
   "execution_count": 10,
   "metadata": {
    "collapsed": true
   },
   "outputs": [
    {
     "ename": "NameError",
     "evalue": "name 'NSIDE' is not defined",
     "output_type": "error",
     "traceback": [
      "\u001b[0;31m---------------------------------------------------------------------------\u001b[0m",
      "\u001b[0;31mNameError\u001b[0m                                 Traceback (most recent call last)",
      "\u001b[0;32m<ipython-input-10-04024e2bb6c2>\u001b[0m in \u001b[0;36m<module>\u001b[0;34m()\u001b[0m\n\u001b[1;32m      1\u001b[0m \u001b[0mreddening_nest\u001b[0m \u001b[0;34m=\u001b[0m \u001b[0mesutil\u001b[0m\u001b[0;34m.\u001b[0m\u001b[0mio\u001b[0m\u001b[0;34m.\u001b[0m\u001b[0mread\u001b[0m\u001b[0;34m(\u001b[0m\u001b[0;34m'/n/des/lee.5922/data/2mass_cat/lambda_sfd_ebv.fits'\u001b[0m\u001b[0;34m,\u001b[0m \u001b[0mensure_native\u001b[0m\u001b[0;34m=\u001b[0m\u001b[0mTrue\u001b[0m\u001b[0;34m)\u001b[0m\u001b[0;34m\u001b[0m\u001b[0m\n\u001b[1;32m      2\u001b[0m \u001b[0mreddening_ring\u001b[0m \u001b[0;34m=\u001b[0m \u001b[0mhp\u001b[0m\u001b[0;34m.\u001b[0m\u001b[0mreorder\u001b[0m\u001b[0;34m(\u001b[0m\u001b[0mreddening_nest\u001b[0m\u001b[0;34m[\u001b[0m\u001b[0;34m'TEMPERATURE'\u001b[0m\u001b[0;34m]\u001b[0m\u001b[0;34m,\u001b[0m \u001b[0minp\u001b[0m\u001b[0;34m=\u001b[0m\u001b[0;34m'NEST'\u001b[0m\u001b[0;34m,\u001b[0m \u001b[0mout\u001b[0m\u001b[0;34m=\u001b[0m\u001b[0;34m'RING'\u001b[0m\u001b[0;34m)\u001b[0m\u001b[0;34m\u001b[0m\u001b[0m\n\u001b[0;32m----> 3\u001b[0;31m \u001b[0mreddening_ring_ud\u001b[0m \u001b[0;34m=\u001b[0m \u001b[0mhp\u001b[0m\u001b[0;34m.\u001b[0m\u001b[0mud_grade\u001b[0m\u001b[0;34m(\u001b[0m\u001b[0mreddening_ring\u001b[0m\u001b[0;34m,\u001b[0m \u001b[0mnside_out\u001b[0m \u001b[0;34m=\u001b[0m \u001b[0mNSIDE\u001b[0m\u001b[0;34m)\u001b[0m\u001b[0;34m\u001b[0m\u001b[0m\n\u001b[0m\u001b[1;32m      4\u001b[0m \u001b[0mreddening\u001b[0m \u001b[0;34m=\u001b[0m \u001b[0mrotate_hp_map\u001b[0m\u001b[0;34m(\u001b[0m\u001b[0mreddening_ring_ud\u001b[0m\u001b[0;34m,\u001b[0m \u001b[0mcoord\u001b[0m \u001b[0;34m=\u001b[0m \u001b[0;34m[\u001b[0m\u001b[0;34m'C'\u001b[0m\u001b[0;34m,\u001b[0m \u001b[0;34m'G'\u001b[0m\u001b[0;34m]\u001b[0m\u001b[0;34m)\u001b[0m\u001b[0;34m\u001b[0m\u001b[0m\n\u001b[1;32m      5\u001b[0m \u001b[0;34m\u001b[0m\u001b[0m\n",
      "\u001b[0;31mNameError\u001b[0m: name 'NSIDE' is not defined"
     ]
    },
    {
     "ename": "NameError",
     "evalue": "name 'NSIDE' is not defined",
     "output_type": "error",
     "traceback": [
      "\u001b[0;31m---------------------------------------------------------------------------\u001b[0m",
      "\u001b[0;31mNameError\u001b[0m                                 Traceback (most recent call last)",
      "\u001b[0;32m<ipython-input-10-04024e2bb6c2>\u001b[0m in \u001b[0;36m<module>\u001b[0;34m()\u001b[0m\n\u001b[1;32m      1\u001b[0m \u001b[0mreddening_nest\u001b[0m \u001b[0;34m=\u001b[0m \u001b[0mesutil\u001b[0m\u001b[0;34m.\u001b[0m\u001b[0mio\u001b[0m\u001b[0;34m.\u001b[0m\u001b[0mread\u001b[0m\u001b[0;34m(\u001b[0m\u001b[0;34m'/n/des/lee.5922/data/2mass_cat/lambda_sfd_ebv.fits'\u001b[0m\u001b[0;34m,\u001b[0m \u001b[0mensure_native\u001b[0m\u001b[0;34m=\u001b[0m\u001b[0mTrue\u001b[0m\u001b[0;34m)\u001b[0m\u001b[0;34m\u001b[0m\u001b[0m\n\u001b[1;32m      2\u001b[0m \u001b[0mreddening_ring\u001b[0m \u001b[0;34m=\u001b[0m \u001b[0mhp\u001b[0m\u001b[0;34m.\u001b[0m\u001b[0mreorder\u001b[0m\u001b[0;34m(\u001b[0m\u001b[0mreddening_nest\u001b[0m\u001b[0;34m[\u001b[0m\u001b[0;34m'TEMPERATURE'\u001b[0m\u001b[0;34m]\u001b[0m\u001b[0;34m,\u001b[0m \u001b[0minp\u001b[0m\u001b[0;34m=\u001b[0m\u001b[0;34m'NEST'\u001b[0m\u001b[0;34m,\u001b[0m \u001b[0mout\u001b[0m\u001b[0;34m=\u001b[0m\u001b[0;34m'RING'\u001b[0m\u001b[0;34m)\u001b[0m\u001b[0;34m\u001b[0m\u001b[0m\n\u001b[0;32m----> 3\u001b[0;31m \u001b[0mreddening_ring_ud\u001b[0m \u001b[0;34m=\u001b[0m \u001b[0mhp\u001b[0m\u001b[0;34m.\u001b[0m\u001b[0mud_grade\u001b[0m\u001b[0;34m(\u001b[0m\u001b[0mreddening_ring\u001b[0m\u001b[0;34m,\u001b[0m \u001b[0mnside_out\u001b[0m \u001b[0;34m=\u001b[0m \u001b[0mNSIDE\u001b[0m\u001b[0;34m)\u001b[0m\u001b[0;34m\u001b[0m\u001b[0m\n\u001b[0m\u001b[1;32m      4\u001b[0m \u001b[0mreddening\u001b[0m \u001b[0;34m=\u001b[0m \u001b[0mrotate_hp_map\u001b[0m\u001b[0;34m(\u001b[0m\u001b[0mreddening_ring_ud\u001b[0m\u001b[0;34m,\u001b[0m \u001b[0mcoord\u001b[0m \u001b[0;34m=\u001b[0m \u001b[0;34m[\u001b[0m\u001b[0;34m'C'\u001b[0m\u001b[0;34m,\u001b[0m \u001b[0;34m'G'\u001b[0m\u001b[0;34m]\u001b[0m\u001b[0;34m)\u001b[0m\u001b[0;34m\u001b[0m\u001b[0m\n\u001b[1;32m      5\u001b[0m \u001b[0;34m\u001b[0m\u001b[0m\n",
      "\u001b[0;31mNameError\u001b[0m: name 'NSIDE' is not defined"
     ]
    },
    {
     "ename": "NameError",
     "evalue": "name 'NSIDE' is not defined",
     "output_type": "error",
     "traceback": [
      "\u001b[0;31m---------------------------------------------------------------------------\u001b[0m",
      "\u001b[0;31mNameError\u001b[0m                                 Traceback (most recent call last)",
      "\u001b[0;32m<ipython-input-10-04024e2bb6c2>\u001b[0m in \u001b[0;36m<module>\u001b[0;34m()\u001b[0m\n\u001b[1;32m      1\u001b[0m \u001b[0mreddening_nest\u001b[0m \u001b[0;34m=\u001b[0m \u001b[0mesutil\u001b[0m\u001b[0;34m.\u001b[0m\u001b[0mio\u001b[0m\u001b[0;34m.\u001b[0m\u001b[0mread\u001b[0m\u001b[0;34m(\u001b[0m\u001b[0;34m'/n/des/lee.5922/data/2mass_cat/lambda_sfd_ebv.fits'\u001b[0m\u001b[0;34m,\u001b[0m \u001b[0mensure_native\u001b[0m\u001b[0;34m=\u001b[0m\u001b[0mTrue\u001b[0m\u001b[0;34m)\u001b[0m\u001b[0;34m\u001b[0m\u001b[0m\n\u001b[1;32m      2\u001b[0m \u001b[0mreddening_ring\u001b[0m \u001b[0;34m=\u001b[0m \u001b[0mhp\u001b[0m\u001b[0;34m.\u001b[0m\u001b[0mreorder\u001b[0m\u001b[0;34m(\u001b[0m\u001b[0mreddening_nest\u001b[0m\u001b[0;34m[\u001b[0m\u001b[0;34m'TEMPERATURE'\u001b[0m\u001b[0;34m]\u001b[0m\u001b[0;34m,\u001b[0m \u001b[0minp\u001b[0m\u001b[0;34m=\u001b[0m\u001b[0;34m'NEST'\u001b[0m\u001b[0;34m,\u001b[0m \u001b[0mout\u001b[0m\u001b[0;34m=\u001b[0m\u001b[0;34m'RING'\u001b[0m\u001b[0;34m)\u001b[0m\u001b[0;34m\u001b[0m\u001b[0m\n\u001b[0;32m----> 3\u001b[0;31m \u001b[0mreddening_ring_ud\u001b[0m \u001b[0;34m=\u001b[0m \u001b[0mhp\u001b[0m\u001b[0;34m.\u001b[0m\u001b[0mud_grade\u001b[0m\u001b[0;34m(\u001b[0m\u001b[0mreddening_ring\u001b[0m\u001b[0;34m,\u001b[0m \u001b[0mnside_out\u001b[0m \u001b[0;34m=\u001b[0m \u001b[0mNSIDE\u001b[0m\u001b[0;34m)\u001b[0m\u001b[0;34m\u001b[0m\u001b[0m\n\u001b[0m\u001b[1;32m      4\u001b[0m \u001b[0mreddening\u001b[0m \u001b[0;34m=\u001b[0m \u001b[0mrotate_hp_map\u001b[0m\u001b[0;34m(\u001b[0m\u001b[0mreddening_ring_ud\u001b[0m\u001b[0;34m,\u001b[0m \u001b[0mcoord\u001b[0m \u001b[0;34m=\u001b[0m \u001b[0;34m[\u001b[0m\u001b[0;34m'C'\u001b[0m\u001b[0;34m,\u001b[0m \u001b[0;34m'G'\u001b[0m\u001b[0;34m]\u001b[0m\u001b[0;34m)\u001b[0m\u001b[0;34m\u001b[0m\u001b[0m\n\u001b[1;32m      5\u001b[0m \u001b[0;34m\u001b[0m\u001b[0m\n",
      "\u001b[0;31mNameError\u001b[0m: name 'NSIDE' is not defined"
     ]
    },
    {
     "ename": "NameError",
     "evalue": "name 'NSIDE' is not defined",
     "output_type": "error",
     "traceback": [
      "\u001b[0;31m---------------------------------------------------------------------------\u001b[0m",
      "\u001b[0;31mNameError\u001b[0m                                 Traceback (most recent call last)",
      "\u001b[0;32m<ipython-input-10-04024e2bb6c2>\u001b[0m in \u001b[0;36m<module>\u001b[0;34m()\u001b[0m\n\u001b[1;32m      1\u001b[0m \u001b[0mreddening_nest\u001b[0m \u001b[0;34m=\u001b[0m \u001b[0mesutil\u001b[0m\u001b[0;34m.\u001b[0m\u001b[0mio\u001b[0m\u001b[0;34m.\u001b[0m\u001b[0mread\u001b[0m\u001b[0;34m(\u001b[0m\u001b[0;34m'/n/des/lee.5922/data/2mass_cat/lambda_sfd_ebv.fits'\u001b[0m\u001b[0;34m,\u001b[0m \u001b[0mensure_native\u001b[0m\u001b[0;34m=\u001b[0m\u001b[0mTrue\u001b[0m\u001b[0;34m)\u001b[0m\u001b[0;34m\u001b[0m\u001b[0m\n\u001b[1;32m      2\u001b[0m \u001b[0mreddening_ring\u001b[0m \u001b[0;34m=\u001b[0m \u001b[0mhp\u001b[0m\u001b[0;34m.\u001b[0m\u001b[0mreorder\u001b[0m\u001b[0;34m(\u001b[0m\u001b[0mreddening_nest\u001b[0m\u001b[0;34m[\u001b[0m\u001b[0;34m'TEMPERATURE'\u001b[0m\u001b[0;34m]\u001b[0m\u001b[0;34m,\u001b[0m \u001b[0minp\u001b[0m\u001b[0;34m=\u001b[0m\u001b[0;34m'NEST'\u001b[0m\u001b[0;34m,\u001b[0m \u001b[0mout\u001b[0m\u001b[0;34m=\u001b[0m\u001b[0;34m'RING'\u001b[0m\u001b[0;34m)\u001b[0m\u001b[0;34m\u001b[0m\u001b[0m\n\u001b[0;32m----> 3\u001b[0;31m \u001b[0mreddening_ring_ud\u001b[0m \u001b[0;34m=\u001b[0m \u001b[0mhp\u001b[0m\u001b[0;34m.\u001b[0m\u001b[0mud_grade\u001b[0m\u001b[0;34m(\u001b[0m\u001b[0mreddening_ring\u001b[0m\u001b[0;34m,\u001b[0m \u001b[0mnside_out\u001b[0m \u001b[0;34m=\u001b[0m \u001b[0mNSIDE\u001b[0m\u001b[0;34m)\u001b[0m\u001b[0;34m\u001b[0m\u001b[0m\n\u001b[0m\u001b[1;32m      4\u001b[0m \u001b[0mreddening\u001b[0m \u001b[0;34m=\u001b[0m \u001b[0mrotate_hp_map\u001b[0m\u001b[0;34m(\u001b[0m\u001b[0mreddening_ring_ud\u001b[0m\u001b[0;34m,\u001b[0m \u001b[0mcoord\u001b[0m \u001b[0;34m=\u001b[0m \u001b[0;34m[\u001b[0m\u001b[0;34m'C'\u001b[0m\u001b[0;34m,\u001b[0m \u001b[0;34m'G'\u001b[0m\u001b[0;34m]\u001b[0m\u001b[0;34m)\u001b[0m\u001b[0;34m\u001b[0m\u001b[0m\n\u001b[1;32m      5\u001b[0m \u001b[0;34m\u001b[0m\u001b[0m\n",
      "\u001b[0;31mNameError\u001b[0m: name 'NSIDE' is not defined"
     ]
    },
    {
     "ename": "NameError",
     "evalue": "name 'NSIDE' is not defined",
     "output_type": "error",
     "traceback": [
      "\u001b[0;31m---------------------------------------------------------------------------\u001b[0m",
      "\u001b[0;31mNameError\u001b[0m                                 Traceback (most recent call last)",
      "\u001b[0;32m<ipython-input-10-04024e2bb6c2>\u001b[0m in \u001b[0;36m<module>\u001b[0;34m()\u001b[0m\n\u001b[1;32m      1\u001b[0m \u001b[0mreddening_nest\u001b[0m \u001b[0;34m=\u001b[0m \u001b[0mesutil\u001b[0m\u001b[0;34m.\u001b[0m\u001b[0mio\u001b[0m\u001b[0;34m.\u001b[0m\u001b[0mread\u001b[0m\u001b[0;34m(\u001b[0m\u001b[0;34m'/n/des/lee.5922/data/2mass_cat/lambda_sfd_ebv.fits'\u001b[0m\u001b[0;34m,\u001b[0m \u001b[0mensure_native\u001b[0m\u001b[0;34m=\u001b[0m\u001b[0mTrue\u001b[0m\u001b[0;34m)\u001b[0m\u001b[0;34m\u001b[0m\u001b[0m\n\u001b[1;32m      2\u001b[0m \u001b[0mreddening_ring\u001b[0m \u001b[0;34m=\u001b[0m \u001b[0mhp\u001b[0m\u001b[0;34m.\u001b[0m\u001b[0mreorder\u001b[0m\u001b[0;34m(\u001b[0m\u001b[0mreddening_nest\u001b[0m\u001b[0;34m[\u001b[0m\u001b[0;34m'TEMPERATURE'\u001b[0m\u001b[0;34m]\u001b[0m\u001b[0;34m,\u001b[0m \u001b[0minp\u001b[0m\u001b[0;34m=\u001b[0m\u001b[0;34m'NEST'\u001b[0m\u001b[0;34m,\u001b[0m \u001b[0mout\u001b[0m\u001b[0;34m=\u001b[0m\u001b[0;34m'RING'\u001b[0m\u001b[0;34m)\u001b[0m\u001b[0;34m\u001b[0m\u001b[0m\n\u001b[0;32m----> 3\u001b[0;31m \u001b[0mreddening_ring_ud\u001b[0m \u001b[0;34m=\u001b[0m \u001b[0mhp\u001b[0m\u001b[0;34m.\u001b[0m\u001b[0mud_grade\u001b[0m\u001b[0;34m(\u001b[0m\u001b[0mreddening_ring\u001b[0m\u001b[0;34m,\u001b[0m \u001b[0mnside_out\u001b[0m \u001b[0;34m=\u001b[0m \u001b[0mNSIDE\u001b[0m\u001b[0;34m)\u001b[0m\u001b[0;34m\u001b[0m\u001b[0m\n\u001b[0m\u001b[1;32m      4\u001b[0m \u001b[0mreddening\u001b[0m \u001b[0;34m=\u001b[0m \u001b[0mrotate_hp_map\u001b[0m\u001b[0;34m(\u001b[0m\u001b[0mreddening_ring_ud\u001b[0m\u001b[0;34m,\u001b[0m \u001b[0mcoord\u001b[0m \u001b[0;34m=\u001b[0m \u001b[0;34m[\u001b[0m\u001b[0;34m'C'\u001b[0m\u001b[0;34m,\u001b[0m \u001b[0;34m'G'\u001b[0m\u001b[0;34m]\u001b[0m\u001b[0;34m)\u001b[0m\u001b[0;34m\u001b[0m\u001b[0m\n\u001b[1;32m      5\u001b[0m \u001b[0;34m\u001b[0m\u001b[0m\n",
      "\u001b[0;31mNameError\u001b[0m: name 'NSIDE' is not defined"
     ]
    },
    {
     "ename": "NameError",
     "evalue": "name 'NSIDE' is not defined",
     "output_type": "error",
     "traceback": [
      "\u001b[0;31m---------------------------------------------------------------------------\u001b[0m",
      "\u001b[0;31mNameError\u001b[0m                                 Traceback (most recent call last)",
      "\u001b[0;32m<ipython-input-10-04024e2bb6c2>\u001b[0m in \u001b[0;36m<module>\u001b[0;34m()\u001b[0m\n\u001b[1;32m      1\u001b[0m \u001b[0mreddening_nest\u001b[0m \u001b[0;34m=\u001b[0m \u001b[0mesutil\u001b[0m\u001b[0;34m.\u001b[0m\u001b[0mio\u001b[0m\u001b[0;34m.\u001b[0m\u001b[0mread\u001b[0m\u001b[0;34m(\u001b[0m\u001b[0;34m'/n/des/lee.5922/data/2mass_cat/lambda_sfd_ebv.fits'\u001b[0m\u001b[0;34m,\u001b[0m \u001b[0mensure_native\u001b[0m\u001b[0;34m=\u001b[0m\u001b[0mTrue\u001b[0m\u001b[0;34m)\u001b[0m\u001b[0;34m\u001b[0m\u001b[0m\n\u001b[1;32m      2\u001b[0m \u001b[0mreddening_ring\u001b[0m \u001b[0;34m=\u001b[0m \u001b[0mhp\u001b[0m\u001b[0;34m.\u001b[0m\u001b[0mreorder\u001b[0m\u001b[0;34m(\u001b[0m\u001b[0mreddening_nest\u001b[0m\u001b[0;34m[\u001b[0m\u001b[0;34m'TEMPERATURE'\u001b[0m\u001b[0;34m]\u001b[0m\u001b[0;34m,\u001b[0m \u001b[0minp\u001b[0m\u001b[0;34m=\u001b[0m\u001b[0;34m'NEST'\u001b[0m\u001b[0;34m,\u001b[0m \u001b[0mout\u001b[0m\u001b[0;34m=\u001b[0m\u001b[0;34m'RING'\u001b[0m\u001b[0;34m)\u001b[0m\u001b[0;34m\u001b[0m\u001b[0m\n\u001b[0;32m----> 3\u001b[0;31m \u001b[0mreddening_ring_ud\u001b[0m \u001b[0;34m=\u001b[0m \u001b[0mhp\u001b[0m\u001b[0;34m.\u001b[0m\u001b[0mud_grade\u001b[0m\u001b[0;34m(\u001b[0m\u001b[0mreddening_ring\u001b[0m\u001b[0;34m,\u001b[0m \u001b[0mnside_out\u001b[0m \u001b[0;34m=\u001b[0m \u001b[0mNSIDE\u001b[0m\u001b[0;34m)\u001b[0m\u001b[0;34m\u001b[0m\u001b[0m\n\u001b[0m\u001b[1;32m      4\u001b[0m \u001b[0mreddening\u001b[0m \u001b[0;34m=\u001b[0m \u001b[0mrotate_hp_map\u001b[0m\u001b[0;34m(\u001b[0m\u001b[0mreddening_ring_ud\u001b[0m\u001b[0;34m,\u001b[0m \u001b[0mcoord\u001b[0m \u001b[0;34m=\u001b[0m \u001b[0;34m[\u001b[0m\u001b[0;34m'C'\u001b[0m\u001b[0;34m,\u001b[0m \u001b[0;34m'G'\u001b[0m\u001b[0;34m]\u001b[0m\u001b[0;34m)\u001b[0m\u001b[0;34m\u001b[0m\u001b[0m\n\u001b[1;32m      5\u001b[0m \u001b[0;34m\u001b[0m\u001b[0m\n",
      "\u001b[0;31mNameError\u001b[0m: name 'NSIDE' is not defined"
     ]
    }
   ],
   "source": [
    "reddening_nest = esutil.io.read('/n/des/lee.5922/data/2mass_cat/lambda_sfd_ebv.fits', ensure_native=True)\n",
    "reddening_ring = hp.reorder(reddening_nest['TEMPERATURE'], inp='NEST', out='RING')\n",
    "reddening_ring_ud = hp.ud_grade(reddening_ring, nside_out = NSIDE)\n",
    "reddening = rotate_hp_map(reddening_ring_ud, coord = ['C', 'G'])\n",
    "\n",
    "#reliable_hp_mask = (reddening < 0.05 / 0.367)"
   ]
  },
  {
   "cell_type": "code",
   "execution_count": null,
   "metadata": {},
   "outputs": [],
   "source": [
    "#from astropy.table import Table\n",
    "#t = Table.read('/n/des/lee.5922/data/2mass_cat/fp_2mass.fp_xsc9864_k20mag.tbl', format='ipac')\n",
    "#t.write('/n/des/lee.5922/data/2mass_cat/fp_2mass.fp_xsc9864_k20mag.fits', format='fits', overwrite=True)"
   ]
  },
  {
   "cell_type": "code",
   "execution_count": 11,
   "metadata": {},
   "outputs": [],
   "source": [
    "def load_2mass_cat():\n",
    "    import fitsio\n",
    "    twomass = esutil.io.read('/n/des/lee.5922/data/2mass_cat/fp_2mass.fp_xsc9864_k20mag_ebv.fits', upper=True, ensure_native=True)\n",
    "    nanmask = ((~np.isnan(twomass['K_M_I20C'])) & (~np.isnan(twomass['J_M_K20FE'])) \n",
    "               & (~np.isnan(twomass['K_M_K20FE']))& (~np.isnan(twomass['H_M_K20FE'])))\n",
    "    twomass = twomass[nanmask]\n",
    "    twomass_kcorected = twomass['K_M_I20C'] - 0.367 * twomass['EBV'] \n",
    "    twomass = rf.append_fields(twomass,'K_M_I20C_correc',twomass_kcorected)\n",
    "    reliable_mask = ((twomass['EBV'] <0.05/0.367 ))# & (twomass['K_M_I20C_correc'] < 13.85) )\n",
    "    magcut =  (twomass['K_M_I20C_correc'] < 13.85)\n",
    "    twomass = twomass[magcut]\n",
    "    \n",
    "    #twomass = reddening_mask(cat = twomass, nside_out = 512)\n",
    "    return twomass\n",
    "\n",
    "#twomass_galmap = making_healpix_density_map(cat = twomass, nside = NSIDE, nest = False)"
   ]
  },
  {
   "cell_type": "code",
   "execution_count": 12,
   "metadata": {},
   "outputs": [],
   "source": [
    "def kmag20_mask(twomass):\n",
    "    mask_k1 = (twomass['K_M_K20FE'] > 12.0) & (twomass['K_M_K20FE'] < 12.5) \n",
    "    mask_k2 = (twomass['K_M_K20FE'] > 12.5) & (twomass['K_M_K20FE'] < 13.0) \n",
    "    mask_k3 = (twomass['K_M_K20FE'] > 13.0) & (twomass['K_M_K20FE'] < 13.5) \n",
    "    mask_k4 = (twomass['K_M_K20FE'] > 13.5) & (twomass['K_M_K20FE'] < 14.0) \n",
    "    return mask_k1, mask_k2, mask_k3, mask_k4"
   ]
  },
  {
   "cell_type": "code",
   "execution_count": 13,
   "metadata": {},
   "outputs": [],
   "source": [
    "def adding_weight_twomass(twomass):\n",
    "    \n",
    "    kmask_2 = kmag20_mask(twomass)\n",
    "    \n",
    "    print 'mean bias for each luminosity bin'\n",
    "    b_avg = [1.62, 1.52, 1.54, 1.65]\n",
    "    print b_avg\n",
    "\n",
    "    print 'total avg bias '\n",
    "    b_avg_tot = np.sum([b_avg[i] * np.sum(kmask_2[i]) for i in range(4)])*1./np.sum(kmask_2)\n",
    "    print b_avg_tot\n",
    "    \n",
    "    brel = np.array(b_avg)/b_avg_tot\n",
    "    \n",
    "    weight = np.zeros(twomass.size)\n",
    "    for i in range(4):\n",
    "        weight[kmask_2[i]] = brel[i]\n",
    "    \n",
    "    weight = weight/np.sum(weight)\n",
    "    twomass = rf.append_fields(twomass,'WEIGHT',weight)\n",
    "    return twomass"
   ]
  },
  {
   "cell_type": "markdown",
   "metadata": {},
   "source": [
    "### Cross correlation with CMASS SGC"
   ]
  },
  {
   "cell_type": "code",
   "execution_count": null,
   "metadata": {},
   "outputs": [],
   "source": [
    "from systematics_module.corr import cross_kk_correlation, cross_angular_correlation, _cross_kk_acf"
   ]
  },
  {
   "cell_type": "code",
   "execution_count": 9,
   "metadata": {},
   "outputs": [
    {
     "data": {
      "text/plain": [
       "\"\\nNSIDE = 512\\ncmass_ngc = catalog_masking(cmass_ngc, nside_out = NSIDE, area = 'NGC')\\ncmass_sgc = catalog_masking(cmass_sgc, nside_out = NSIDE, area = 'SGC')\\ncmass_ngc_rand = catalog_masking(cmass_ngc_rand, nside_out = NSIDE, area = 'NGC')\\ncmass_sgc_rand = catalog_masking(cmass_sgc_rand, nside_out = NSIDE, area = 'SGC')\\ndmass_spt = catalog_masking(dmass_spt, nside_out = NSIDE, area = 'SPT')\\ndmass_rand = catalog_masking(dmass_rand, nside_out = NSIDE, area = 'SPT')\\n\""
      ]
     },
     "execution_count": 9,
     "metadata": {},
     "output_type": "execute_result"
    }
   ],
   "source": [
    "path = '/n/des/lee.5922/data/cmass_cat/'\n",
    "cmass_sgc = esutil.io.read(path+'galaxy_DR12v5_CMASS_South.fits.gz')\n",
    "cmass_ngc = esutil.io.read(path+'galaxy_DR12v5_CMASS_North.fits.gz')\n",
    "cmass_sgc_rand = esutil.io.read(path+'random0_DR12v5_CMASS_South.fits.gz')\n",
    "cmass_ngc_rand = esutil.io.read(path+'random0_DR12v5_CMASS_North.fits.gz')\n",
    "random_ind_n = np.random.choice( cmass_ngc_rand.size, size = cmass_ngc_rand.size/10)\n",
    "random_ind_s = np.random.choice( cmass_sgc_rand.size, size = cmass_sgc_rand.size/10)\n",
    "cmass_ngc_rand = cmass_ngc_rand[random_ind_n]\n",
    "cmass_sgc_rand = cmass_sgc_rand[random_ind_s]\n",
    "\n",
    "\n",
    "dmass_spt = esutil.io.read('../output/n2_2/dmass_spt.fits')\n",
    "dmass_rand = uniform_random_on_sphere(dmass_spt, size = dmass_spt.size * 10 )\n",
    "dmass_rand = y1gold_mask(dmass_rand, nside_out = 4096)\n",
    "\n",
    "\n",
    "\n",
    "#cmass_ngc = cmass_ngc[(cmass_ngc['Z'] < 0.4)] #& (cmass_ngc['Z'] < 0.55)]\n",
    "#cmass_sgc = cmass_sgc[(cmass_sgc['Z'] < 0.4)] #& (cmass_sgc['Z'] < 0.55)]\n",
    "#dmass_spt = dmass_spt[(dmass_spt['DESDM_ZP'] > 0.43) & (dmass_spt['DESDM_ZP'] < 0.55)]\n",
    "\n",
    "#NSIDE = 512\n",
    "#cmass_ngc_rand = uniform_random_on_sphere(cmass_ngc, size = cmass_ngc.size * 10 )\n",
    "#cmass_sgc_rand = uniform_random_on_sphere(cmass_sgc, size = cmass_sgc.size * 10 )\n",
    "\n",
    "\n",
    "\n",
    "\"\"\"\n",
    "NSIDE = 512\n",
    "cmass_ngc = catalog_masking(cmass_ngc, nside_out = NSIDE, area = 'NGC')\n",
    "cmass_sgc = catalog_masking(cmass_sgc, nside_out = NSIDE, area = 'SGC')\n",
    "cmass_ngc_rand = catalog_masking(cmass_ngc_rand, nside_out = NSIDE, area = 'NGC')\n",
    "cmass_sgc_rand = catalog_masking(cmass_sgc_rand, nside_out = NSIDE, area = 'SGC')\n",
    "dmass_spt = catalog_masking(dmass_spt, nside_out = NSIDE, area = 'SPT')\n",
    "dmass_rand = catalog_masking(dmass_rand, nside_out = NSIDE, area = 'SPT')\n",
    "\"\"\"\n",
    "\n",
    "\n"
   ]
  },
  {
   "cell_type": "code",
   "execution_count": null,
   "metadata": {},
   "outputs": [],
   "source": [
    "w_ngc = cmass_ngc['WEIGHT_SYSTOT']*( cmass_ngc['WEIGHT_CP'] + cmass_ngc['WEIGHT_NOZ'] - 1. )\n",
    "w_rand = np.ones(cmass_ngc_rand.size) #random_sgc['WEIGHT_FKP']\n",
    "\n",
    "cmass_ngc = appendColumn(cmass_ngc, name = 'WEIGHT', value = w_ngc)\n",
    "cmass_ngc_rand = appendColumn(cmass_ngc_rand, name = 'WEIGHT_RAND', value = w_rand)\n",
    "\n",
    "w_sgc = cmass_sgc['WEIGHT_SYSTOT']*( cmass_sgc['WEIGHT_CP'] + cmass_sgc['WEIGHT_NOZ'] - 1. )\n",
    "w_rand = np.ones(cmass_sgc_rand.size) #random_sgc['WEIGHT_FKP']\n",
    "\n",
    "cmass_sgc = appendColumn(cmass_sgc, name = 'WEIGHT', value = w_sgc)\n",
    "cmass_sgc_rand = appendColumn(cmass_sgc_rand, name = 'WEIGHT_RAND', value = w_rand)"
   ]
  },
  {
   "cell_type": "code",
   "execution_count": 64,
   "metadata": {},
   "outputs": [
    {
     "name": "stdout",
     "output_type": "stream",
     "text": [
      "mean bias for each luminosity bin\n",
      "[1.62, 1.52, 1.54, 1.65]\n",
      "total avg bias \n",
      "1.5927021517080193\n",
      "nside shoud be equal or less than 512\n",
      "input cat  938917\n",
      "reddening  681918\n",
      "output  179219\n",
      "nside shoud be equal or less than 512\n",
      "input cat  938917\n",
      "reddening  681918\n",
      "output  66054\n",
      "nside shoud be equal or less than 512\n",
      "input cat  938917\n",
      "reddening  681918\n",
      "output  32146\n",
      "nside shoud be equal or less than 512\n",
      "input cat  6188060\n",
      "reddening  6045911\n",
      "output  5101378\n",
      "nside shoud be equal or less than 512\n",
      "input cat  2308310\n",
      "reddening  1632347\n",
      "output  382119\n",
      "nside shoud be equal or less than 512\n",
      "input cat  1123980\n",
      "reddening  703418\n",
      "output  234649\n",
      "234649\n"
     ]
    }
   ],
   "source": [
    "twomass = load_2mass_cat()\n",
    "twomass = adding_weight_twomass(twomass)\n",
    "\n",
    "twomass_ngc = catalog_masking(twomass, nside_out = 512, area = 'NGC')\n",
    "twomass_sgc = catalog_masking(twomass, nside_out = 512, area = 'SGC')\n",
    "twomass_spt = catalog_masking(twomass, nside_out = 512, area = 'SPT')\n",
    "#twomass_spt = y1gold_mask(twomass, nside_out = 4096)\n",
    "twomass = None\n",
    "\n",
    "twomass_ngc_rand = uniform_random_on_sphere(twomass_ngc, size = cmass_ngc.size*10 )\n",
    "twomass_sgc_rand = uniform_random_on_sphere(twomass_sgc, size = cmass_sgc.size*10 )\n",
    "twomass_spt_rand = uniform_random_on_sphere(twomass_spt, size = dmass_spt.size*10 )\n",
    "\n",
    "twomass_ngc_rand = catalog_masking(twomass_ngc_rand, nside_out = 512, area = 'NGC')\n",
    "twomass_sgc_rand = catalog_masking(twomass_sgc_rand, nside_out = 512, area = 'SGC')\n",
    "twomass_spt_rand = catalog_masking(twomass_spt_rand, nside_out = 512, area = 'SPT')\n",
    "#twomass_spt_rand= y1gold_mask(twomass_spt_rand, nside_out = 4096)\n",
    "print twomass_spt_rand.size\n"
   ]
  },
  {
   "cell_type": "markdown",
   "metadata": {},
   "source": [
    "# Weighting Twomass galaxies with bias from different luminosity bins"
   ]
  },
  {
   "cell_type": "code",
   "execution_count": null,
   "metadata": {},
   "outputs": [],
   "source": [
    "#nyu_cat = esutil.io.read('/n/des/lee.5922/data/NYU_value_added_cat/object_catalog.fits')\n",
    "#sdss_spec = esutil.io.read('/n/des/lee.5922/data/NYU_value_added_cat/object_sdss_spectro.fits')\n",
    "#twomass_spec = esutil.io.read('/n/des/lee.5922/data/NYU_value_added_cat/object_twomass.fits')"
   ]
  },
  {
   "cell_type": "code",
   "execution_count": 28,
   "metadata": {},
   "outputs": [],
   "source": [
    "from systematics_module.corr import cross_angular_correlation, angular_correlation"
   ]
  },
  {
   "cell_type": "code",
   "execution_count": 26,
   "metadata": {
    "collapsed": true
   },
   "outputs": [
    {
     "name": "stdout",
     "output_type": "stream",
     "text": [
      "mean bias for each luminosity bin\n",
      "[1.62, 1.52, 1.54, 1.65]\n",
      "total avg bias \n",
      "1.5927021517080193\n",
      "112398 112398 112368\n",
      "1123980 510170 510058\n",
      "32159 32159 32146\n",
      "1123980 234818 234769\n"
     ]
    }
   ],
   "source": [
    "\"\"\"\n",
    "\n",
    "dmass_spt = esutil.io.read('../output/n2_2/dmass_spt.fits')\n",
    "dmass_spt_no_red = y1gold_mask(dmass_spt, nside_out = 4096)\n",
    "dmass_spt_red = reddening_mask(cat = dmass_spt_no_red, nside_out = 512)\n",
    "#dmass_spt_red = catalog_masking(dmass_spt, nside_out = 512, area = 'SPT')\n",
    "\n",
    "dmass_rand = uniform_random_on_sphere(dmass_spt, size = dmass_spt.size * 10 )\n",
    "dmass_rand_no_red = y1gold_mask(dmass_rand, nside_out = 4096)\n",
    "dmass_rand_red = reddening_mask(cat = dmass_rand_no_red, nside_out = 512)\n",
    "\n",
    "twomass = load_2mass_cat()\n",
    "twomass = adding_weight_twomass(twomass)\n",
    "\n",
    "\n",
    "twomass_spt = Cuts.keepGoodRegion(twomass)\n",
    "twomass_spt = twomass_spt[twomass_spt['DEC']<-3.0]\n",
    "        \n",
    "twomass_spt_no_red = y1gold_mask(twomass, nside_out = 4096)\n",
    "twomass_spt_red = reddening_mask(twomass_spt_no_red, nside_out = 512)\n",
    "twomass = None\n",
    "\n",
    "twomass_spt_rand = uniform_random_on_sphere(twomass_spt, size = dmass_spt.size*10 )\n",
    "twomass_spt_rand_no_red= y1gold_mask(twomass_spt_rand, nside_out = 4096)\n",
    "twomass_spt_rand_red =reddening_mask(cat = twomass_spt_rand_no_red, nside_out = 512)\n",
    "\n",
    "print dmass_spt.size, dmass_spt_no_red.size, dmass_spt_red.size\n",
    "print dmass_rand.size, dmass_rand_no_red.size, dmass_rand_red.size\n",
    "\n",
    "print twomass_spt.size, twomass_spt_no_red.size, twomass_spt_red.size\n",
    "print twomass_spt_rand.size, twomass_spt_rand_no_red.size, twomass_spt_rand_red.size\n",
    "\"\"\"\n"
   ]
  },
  {
   "cell_type": "code",
   "execution_count": null,
   "metadata": {},
   "outputs": [],
   "source": [
    "112398 112368\n",
    "510209 510103\n",
    "32159 32146\n",
    "234379 234346"
   ]
  },
  {
   "cell_type": "code",
   "execution_count": 22,
   "metadata": {},
   "outputs": [
    {
     "name": "stdout",
     "output_type": "stream",
     "text": [
      "Help on function cross_angular_correlation in module systematics_module.corr:\n",
      "\n",
      "cross_angular_correlation(data=None, data2=None, rand=None, rand2=None, njack=30, nbins=20, min_sep=0.041666666666666664, max_sep=4, weight=None, mpi=True, suffix='', out=None, dir='./')\n",
      "\n"
     ]
    }
   ],
   "source": [
    "help(cross_angular_correlation)"
   ]
  },
  {
   "cell_type": "code",
   "execution_count": 24,
   "metadata": {},
   "outputs": [
    {
     "name": "stdout",
     "output_type": "stream",
     "text": [
      "X (1000, 2)  centers (100, 2)  tol=1e-05  maxiter=200\n",
      "13 iterations  cluster sizes: [ 5 16  9  5 14 20 15  5  8  4 12  6 10  4  2  0 10  9 19 10  3 17 12 14\n",
      "  6  7  5 16  4 16  3  9 20  5  9  7 15 11  7  7 15  5 15  9 12  8 14  9\n",
      " 20 12  9  6 15 12 23  8  3 14  6 12 12 14  0 12  8  1  4 16  7  7 13  8\n",
      "  4 11  4 10 18  6 14 17 17 10  7  3  7  8 13  8  9 18  8 16  5 13 10 22\n",
      "  6  2 12 17]\n",
      "X (112398, 2)  centers (100, 2)  tol=1e-05  maxiter=200\n",
      "123 iterations  cluster sizes: [ 868 1088 1327  932 1314 1522 1154 1094 1042  893 1291  863 1584 1168\n",
      " 1058 1221  807 1279 1299 1018 1176 1194 1303  993  943 1194 1033 1414\n",
      " 1063 1151  853 1240 1071  796 1276 1403 1166 1135  972 1116 1164 1003\n",
      " 1282 1030  951 1200 1370  790  987 1344  680 1155 1270 1006 1331 1186\n",
      "  810 1101 1256  995 1258 1245 1091 1042 1117  603  974 1284 1469 1773\n",
      " 1036 1199 1211 1223  964 1119 1186 1287 1464 1004 1213  920  952  471\n",
      " 1060 1162 1275 1146 1018  970  773 1111  935 1231 1335 1244 1268 1007\n",
      " 1469 1064]\n",
      ". . . . . . . . . . . . . . . . . . . . . . . . . . . . . . . . . . . . . . . . . . . . . . . . . . . . . . . . . . . . . . . . . . . . . . . . . . . . . . . . . . . . . . . . . . . . . . . . . . . . . \n",
      "saving data file to :  ../data_txt//acf_cross_2mass_x_dmass_spt_bweight_nbins10_broad_jk100.txt\n"
     ]
    }
   ],
   "source": [
    "kmask_d = kmag20_mask(twomass_spt)\n",
    "cross_angular_correlation(data = dmass_spt, \n",
    "                          data2 = twomass_spt[kmask_d[0]|kmask_d[1]|kmask_d[2]|kmask_d[3]], \n",
    "                          #data2 = twomass_spt, \n",
    "                          rand = dmass_rand, \n",
    "                          rand2= dmass_rand, njack = 100, \n",
    "                          nbins = 20,\n",
    "                          weight = [None, None, None, None],\n",
    "                          min_sep=0.5/60, max_sep=300/60.,\n",
    "                          dir = '../data_txt/', \n",
    "                          suffix = '_2mass_x_dmass_spt_bweight_nbins10_broad_jk100' )"
   ]
  },
  {
   "cell_type": "code",
   "execution_count": 47,
   "metadata": {},
   "outputs": [
    {
     "name": "stdout",
     "output_type": "stream",
     "text": [
      "calculate angular correlation function\n",
      "X (1000, 2)  centers (100, 2)  tol=1e-05  maxiter=200\n",
      "12 iterations  cluster sizes: [10  8  4 22 19  5 12  7 11 12 18 14  6 13  5  1  3 13 25 12  8  8 12 11\n",
      "  8  0 10  8 12  4 10 13  7 23  3 12  8 13 12  4  5 13 15  4 10 16 10 12\n",
      "  8  9 11 10 10 17 11  6 12  6 11 10 11 13  8  6  5  6 14  5  6  8 14  0\n",
      " 16 21  9 12  7  8  2 11  9  9  9  7 19 11  2 11  9  9  5 11 12 11 10 14\n",
      " 10  7  5 26]\n",
      "X (30593, 2)  centers (100, 2)  tol=1e-05  maxiter=200\n",
      "52 iterations  cluster sizes: [359 237 259 403 342 265 250 261 490 368 523 366 389 364 228 210 218 369\n",
      " 338 315 330 230 274 330 327 191 277 182 366 242 329 377 321 439 203 231\n",
      " 293 283 286 358 303 247 403 215 289 351 303 269 197 297 376 243 350 434\n",
      " 322 228 234 259 284 302 308 451 169 291 207 158 448 182 331 315 271 134\n",
      " 351 391 254 389 265 202 233 660 376 354 212 258 444 285 242 295 292 286\n",
      " 240 348 352 368 352 393 299 237 159 462]\n",
      ". . . . . . . . . . . . . . . . . . . . . . . . . . . . . . . . . . . . . . . . . . . . . . . . . . . . . . . . . . . . . . . . . . . . . . . . . . . . . . . . . . . . . . . . . . . . . . . . . . . . . saving data file to :  ../data_txt//acf_auto_2mass_spt_nbins20_broad_jk100.txt\n"
     ]
    }
   ],
   "source": [
    "kmask_d = kmag20_mask(twomass_spt)\n",
    "angular_correlation(#data = dmass_spt, \n",
    "                          data = twomass_spt[kmask_d[0]|kmask_d[1]|kmask_d[2]|kmask_d[3]], \n",
    "                          #data2 = twomass_spt, \n",
    "                          rand = dmass_rand, \n",
    "                          #rand2= dmass_rand, \n",
    "                          njack = 100, \n",
    "                          nbins = 20,\n",
    "                          weight = [None, None, None, None],\n",
    "                          min_sep=0.5/60, max_sep=300/60.,\n",
    "                          dir = '../data_txt/', \n",
    "                          suffix = '_2mass_spt_nbins20_broad_jk100' )"
   ]
  },
  {
   "cell_type": "code",
   "execution_count": 66,
   "metadata": {},
   "outputs": [
    {
     "name": "stdout",
     "output_type": "stream",
     "text": [
      " calculate angular correlation function\n",
      "X (814, 2)  centers (20, 2)  tol=1e-05  maxiter=200\n",
      "40 iterations  cluster sizes: [33 33 36 34 38 34 43 28 47 37 42 48 37 58 52 42 39 40 38 55]\n",
      "X (165902, 2)  centers (20, 2)  tol=1e-05  maxiter=200\n",
      "43 iterations  cluster sizes: [ 8003  7381 10077  8480  6989  7431  7841  7162  9243  9420  7363  8235\n",
      "  7607  8992 10700  8228  6970  8407  8031  9342]\n",
      ". . . . . . . . . . . . . . . . . . . . . saving data file to :  ../data_txt//acf_auto_2mass_ngc_nbins20_broad_jk20.txt\n"
     ]
    }
   ],
   "source": [
    "kmask = kmag20_mask(twomass_ngc)\n",
    "\n",
    "angular_correlation(data = twomass_ngc[kmask[0]|kmask[1]|kmask[2]|kmask[3]], \n",
    "                          rand = cmass_ngc_rand, \n",
    "                          #rand2= cmass_ngc_rand, \n",
    "                          njack = 20,  \n",
    "                          nbins = 20,\n",
    "                          weight = [None, None, None, None], \n",
    "                          min_sep=0.5/60, max_sep=300/60.,\n",
    "                          dir = '../data_txt/', \n",
    "                          suffix = '_2mass_ngc_nbins20_broad_jk20' )"
   ]
  },
  {
   "cell_type": "code",
   "execution_count": 72,
   "metadata": {},
   "outputs": [
    {
     "name": "stdout",
     "output_type": "stream",
     "text": [
      "X (493, 2)  centers (20, 2)  tol=1e-05  maxiter=200\n",
      "15 iterations  cluster sizes: [10 32 19 23 30 31 27 12 19 23 25 42 34 27 35 11 25 33 15 20]\n",
      "X (60996, 2)  centers (20, 2)  tol=1e-05  maxiter=200\n",
      "52 iterations  cluster sizes: [1976 3152 3173 3256 3085 3640 3277 3264 2230 2865 2753 4002 3068 2845\n",
      " 4232 2635 3165 2750 2621 3007]\n",
      " . . . . . . . . . . . . . . . . . . . . . \n",
      "saving data file to :  ../data_txt//acf_cross_2mass_sgc_nbins20_broad_jk20_auto.txt\n"
     ]
    }
   ],
   "source": [
    "kmask = kmag20_mask(twomass_sgc)\n",
    "\n",
    "cross_angular_correlation(data = twomass_sgc[kmask[0]|kmask[1]|kmask[2]|kmask[3]], \n",
    "                          rand = cmass_sgc_rand, \n",
    "                          data2 = twomass_sgc[kmask[0]|kmask[1]|kmask[2]|kmask[3]], \n",
    "                          rand2= cmass_sgc_rand, \n",
    "                          njack = 20,  \n",
    "                          nbins = 20,\n",
    "                          weight = [None, None, None, None], \n",
    "                          min_sep=0.5/60, max_sep=300/60.,\n",
    "                          dir = '../data_txt/', \n",
    "                          suffix = '_2mass_sgc_nbins20_broad_jk20_auto' )"
   ]
  },
  {
   "cell_type": "code",
   "execution_count": 26,
   "metadata": {},
   "outputs": [
    {
     "name": "stdout",
     "output_type": "stream",
     "text": [
      "X (1573, 2)  centers (100, 2)  tol=1e-05  maxiter=200\n",
      "14 iterations  cluster sizes: [20 16 16  6 19 13 24 17 12 21 12 18 22 21 10 11  9 19  3 15 12 11 32  6\n",
      " 23 14 12  7 12 22 16 16 25 19 12 22 12 13 15 18 23 16 26 15 15  8 15 12\n",
      " 16 11 15 19 15 19 17 15 26 20 13 14 16  9 15 16 20 22 15  8 28 15 15  4\n",
      " 10 11  7 11 18 11 18 26 17 20 13 26 17 14 22 12  5 19 23 17 10 15 10 18\n",
      " 14 11 17 25]\n",
      "X (618806, 2)  centers (100, 2)  tol=1e-05  maxiter=200\n",
      "130 iterations  cluster sizes: [5917 7371 7077 6859 6957 6318 5943 6187 6163 6492 6787 6090 7150 6447\n",
      " 5777 6853 5313 5466 6239 6820 5565 6594 6728 5979 6610 5931 5837 6981\n",
      " 5013 5667 7195 5838 6181 5999 5668 7242 6288 5259 6395 6125 7164 6498\n",
      " 6205 5612 6674 5788 6673 5844 5012 5624 6553 6782 6071 5922 6137 4808\n",
      " 6330 6493 6116 6688 6720 6381 5519 6815 6417 6668 6879 6472 6285 6277\n",
      " 5944 6150 6101 5860 5770 7049 7103 5511 5416 5991 5771 5399 5897 6477\n",
      " 6745 5877 5543 5858 5623 6796 5936 5649 5674 6143 5771 5966 5569 6576\n",
      " 5221 6672]\n",
      ". . . . . . . . . . . . . . . . . . . . . . . . . . . . . . . . . . . . . . . . . . . . . . . . . . . . . . . . . . . . . . . . . . . . . . . . . . . . . . . . . . . . . . . . . . . . . . . . . . . . . \n",
      "saving data file to :  ../data_txt//acf_cross_2mass_x_cmass_ngc_sys_cp_noz_weight_nbins10_broad_jk100.txt\n"
     ]
    }
   ],
   "source": [
    "kmask = kmag20_mask(twomass_ngc)\n",
    "\n",
    "cross_angular_correlation(data = cmass_ngc, \n",
    "                          data2 = twomass_ngc[kmask[0]|kmask[1]|kmask[2]|kmask[3]], \n",
    "                          rand = cmass_ngc_rand, \n",
    "                          rand2= cmass_ngc_rand, \n",
    "                          njack = 100,  \n",
    "                          nbins = 20,\n",
    "                          weight = [True, True, None, None], \n",
    "                          min_sep=0.5/60, max_sep=300/60.,\n",
    "                          dir = '../data_txt/', \n",
    "                          suffix = '_2mass_x_cmass_ngc_sys_cp_noz_weight_nbins10_broad_jk100' )"
   ]
  },
  {
   "cell_type": "code",
   "execution_count": null,
   "metadata": {},
   "outputs": [],
   "source": []
  },
  {
   "cell_type": "code",
   "execution_count": null,
   "metadata": {},
   "outputs": [],
   "source": [
    "kmask = kmag20_mask(twomass_sgc)\n",
    "\n",
    "\n",
    "cross_angular_correlation(data = cmass_sgc, \n",
    "                          data2 = twomass_sgc[kmask[0]|kmask[1]|kmask[2]|kmask[3]], \n",
    "                          rand = cmass_sgc_rand, \n",
    "                          rand2= twomass_sgc_rand, njack = 100,  \n",
    "                          nbins = 10,\n",
    "                          weight = [True, True, True, None], \n",
    "                          dir = '../data_txt/', \n",
    "                          suffix = '_2mass_x_cmass_sgc_sys_cp_noz_weight_bweight_nbins10_jk100' )"
   ]
  },
  {
   "cell_type": "code",
   "execution_count": 71,
   "metadata": {},
   "outputs": [
    {
     "ename": "IOError",
     "evalue": "../data_txt//acf_cross_2mass_sgc_nbins20_broad_jk100_auto.txt not found.",
     "output_type": "error",
     "traceback": [
      "\u001b[0;31m---------------------------------------------------------------------------\u001b[0m",
      "\u001b[0;31mIOError\u001b[0m                                   Traceback (most recent call last)",
      "\u001b[0;32m<ipython-input-71-e93a38d5cedd>\u001b[0m in \u001b[0;36m<module>\u001b[0;34m()\u001b[0m\n\u001b[0;32m----> 1\u001b[0;31m \u001b[0mDAT\u001b[0m \u001b[0;34m=\u001b[0m \u001b[0mnp\u001b[0m\u001b[0;34m.\u001b[0m\u001b[0mloadtxt\u001b[0m\u001b[0;34m(\u001b[0m\u001b[0;34m'../data_txt//acf_cross_2mass_sgc_nbins20_broad_jk100_auto.txt'\u001b[0m\u001b[0;34m)\u001b[0m\u001b[0;34m\u001b[0m\u001b[0m\n\u001b[0m\u001b[1;32m      2\u001b[0m \u001b[0mmeanr\u001b[0m\u001b[0;34m,\u001b[0m \u001b[0mxi\u001b[0m\u001b[0;34m,\u001b[0m \u001b[0mxi_err\u001b[0m \u001b[0;34m=\u001b[0m \u001b[0;34m[\u001b[0m\u001b[0mDAT\u001b[0m\u001b[0;34m[\u001b[0m\u001b[0;34m:\u001b[0m\u001b[0;34m,\u001b[0m\u001b[0mi\u001b[0m\u001b[0;34m]\u001b[0m \u001b[0;32mfor\u001b[0m \u001b[0mi\u001b[0m \u001b[0;32min\u001b[0m \u001b[0mrange\u001b[0m\u001b[0;34m(\u001b[0m\u001b[0;36m3\u001b[0m\u001b[0;34m)\u001b[0m\u001b[0;34m]\u001b[0m\u001b[0;34m\u001b[0m\u001b[0m\n\u001b[1;32m      3\u001b[0m \u001b[0;34m\u001b[0m\u001b[0m\n\u001b[1;32m      4\u001b[0m \u001b[0mDAT\u001b[0m \u001b[0;34m=\u001b[0m \u001b[0mnp\u001b[0m\u001b[0;34m.\u001b[0m\u001b[0mloadtxt\u001b[0m\u001b[0;34m(\u001b[0m\u001b[0;34m'../data_txt//acf_auto_2mass_ngc_nbins20_broad_jk20.txt'\u001b[0m\u001b[0;34m)\u001b[0m\u001b[0;34m\u001b[0m\u001b[0m\n\u001b[1;32m      5\u001b[0m \u001b[0mmeanr2\u001b[0m\u001b[0;34m,\u001b[0m \u001b[0mxi2\u001b[0m\u001b[0;34m,\u001b[0m \u001b[0mxi_err2\u001b[0m \u001b[0;34m=\u001b[0m \u001b[0;34m[\u001b[0m\u001b[0mDAT\u001b[0m\u001b[0;34m[\u001b[0m\u001b[0;34m:\u001b[0m\u001b[0;34m,\u001b[0m\u001b[0mi\u001b[0m\u001b[0;34m]\u001b[0m \u001b[0;32mfor\u001b[0m \u001b[0mi\u001b[0m \u001b[0;32min\u001b[0m \u001b[0mrange\u001b[0m\u001b[0;34m(\u001b[0m\u001b[0;36m3\u001b[0m\u001b[0;34m)\u001b[0m\u001b[0;34m]\u001b[0m\u001b[0;34m\u001b[0m\u001b[0m\n",
      "\u001b[0;32m/n/home00/lee.5922/.local/lib/python2.7/site-packages/numpy/lib/npyio.pyc\u001b[0m in \u001b[0;36mloadtxt\u001b[0;34m(fname, dtype, comments, delimiter, converters, skiprows, usecols, unpack, ndmin, encoding)\u001b[0m\n\u001b[1;32m    915\u001b[0m             \u001b[0mfname\u001b[0m \u001b[0;34m=\u001b[0m \u001b[0mstr\u001b[0m\u001b[0;34m(\u001b[0m\u001b[0mfname\u001b[0m\u001b[0;34m)\u001b[0m\u001b[0;34m\u001b[0m\u001b[0m\n\u001b[1;32m    916\u001b[0m         \u001b[0;32mif\u001b[0m \u001b[0m_is_string_like\u001b[0m\u001b[0;34m(\u001b[0m\u001b[0mfname\u001b[0m\u001b[0;34m)\u001b[0m\u001b[0;34m:\u001b[0m\u001b[0;34m\u001b[0m\u001b[0m\n\u001b[0;32m--> 917\u001b[0;31m             \u001b[0mfh\u001b[0m \u001b[0;34m=\u001b[0m \u001b[0mnp\u001b[0m\u001b[0;34m.\u001b[0m\u001b[0mlib\u001b[0m\u001b[0;34m.\u001b[0m\u001b[0m_datasource\u001b[0m\u001b[0;34m.\u001b[0m\u001b[0mopen\u001b[0m\u001b[0;34m(\u001b[0m\u001b[0mfname\u001b[0m\u001b[0;34m,\u001b[0m \u001b[0;34m'rt'\u001b[0m\u001b[0;34m,\u001b[0m \u001b[0mencoding\u001b[0m\u001b[0;34m=\u001b[0m\u001b[0mencoding\u001b[0m\u001b[0;34m)\u001b[0m\u001b[0;34m\u001b[0m\u001b[0m\n\u001b[0m\u001b[1;32m    918\u001b[0m             \u001b[0mfencoding\u001b[0m \u001b[0;34m=\u001b[0m \u001b[0mgetattr\u001b[0m\u001b[0;34m(\u001b[0m\u001b[0mfh\u001b[0m\u001b[0;34m,\u001b[0m \u001b[0;34m'encoding'\u001b[0m\u001b[0;34m,\u001b[0m \u001b[0;34m'latin1'\u001b[0m\u001b[0;34m)\u001b[0m\u001b[0;34m\u001b[0m\u001b[0m\n\u001b[1;32m    919\u001b[0m             \u001b[0mfh\u001b[0m \u001b[0;34m=\u001b[0m \u001b[0miter\u001b[0m\u001b[0;34m(\u001b[0m\u001b[0mfh\u001b[0m\u001b[0;34m)\u001b[0m\u001b[0;34m\u001b[0m\u001b[0m\n",
      "\u001b[0;32m/n/home00/lee.5922/.local/lib/python2.7/site-packages/numpy/lib/_datasource.pyc\u001b[0m in \u001b[0;36mopen\u001b[0;34m(path, mode, destpath, encoding, newline)\u001b[0m\n\u001b[1;32m    258\u001b[0m \u001b[0;34m\u001b[0m\u001b[0m\n\u001b[1;32m    259\u001b[0m     \u001b[0mds\u001b[0m \u001b[0;34m=\u001b[0m \u001b[0mDataSource\u001b[0m\u001b[0;34m(\u001b[0m\u001b[0mdestpath\u001b[0m\u001b[0;34m)\u001b[0m\u001b[0;34m\u001b[0m\u001b[0m\n\u001b[0;32m--> 260\u001b[0;31m     \u001b[0;32mreturn\u001b[0m \u001b[0mds\u001b[0m\u001b[0;34m.\u001b[0m\u001b[0mopen\u001b[0m\u001b[0;34m(\u001b[0m\u001b[0mpath\u001b[0m\u001b[0;34m,\u001b[0m \u001b[0mmode\u001b[0m\u001b[0;34m,\u001b[0m \u001b[0mencoding\u001b[0m\u001b[0;34m=\u001b[0m\u001b[0mencoding\u001b[0m\u001b[0;34m,\u001b[0m \u001b[0mnewline\u001b[0m\u001b[0;34m=\u001b[0m\u001b[0mnewline\u001b[0m\u001b[0;34m)\u001b[0m\u001b[0;34m\u001b[0m\u001b[0m\n\u001b[0m\u001b[1;32m    261\u001b[0m \u001b[0;34m\u001b[0m\u001b[0m\n\u001b[1;32m    262\u001b[0m \u001b[0;34m\u001b[0m\u001b[0m\n",
      "\u001b[0;32m/n/home00/lee.5922/.local/lib/python2.7/site-packages/numpy/lib/_datasource.pyc\u001b[0m in \u001b[0;36mopen\u001b[0;34m(self, path, mode, encoding, newline)\u001b[0m\n\u001b[1;32m    614\u001b[0m                                       encoding=encoding, newline=newline)\n\u001b[1;32m    615\u001b[0m         \u001b[0;32melse\u001b[0m\u001b[0;34m:\u001b[0m\u001b[0;34m\u001b[0m\u001b[0m\n\u001b[0;32m--> 616\u001b[0;31m             \u001b[0;32mraise\u001b[0m \u001b[0mIOError\u001b[0m\u001b[0;34m(\u001b[0m\u001b[0;34m\"%s not found.\"\u001b[0m \u001b[0;34m%\u001b[0m \u001b[0mpath\u001b[0m\u001b[0;34m)\u001b[0m\u001b[0;34m\u001b[0m\u001b[0m\n\u001b[0m\u001b[1;32m    617\u001b[0m \u001b[0;34m\u001b[0m\u001b[0m\n\u001b[1;32m    618\u001b[0m \u001b[0;34m\u001b[0m\u001b[0m\n",
      "\u001b[0;31mIOError\u001b[0m: ../data_txt//acf_cross_2mass_sgc_nbins20_broad_jk100_auto.txt not found."
     ]
    }
   ],
   "source": [
    "DAT = np.loadtxt('../data_txt//acf_cross_2mass_sgc_nbins20_broad_jk100_auto.txt')\n",
    "meanr, xi, xi_err = [DAT[:,i] for i in range(3)]\n",
    "\n",
    "DAT = np.loadtxt('../data_txt//acf_auto_2mass_ngc_nbins20_broad_jk20.txt')\n",
    "meanr2, xi2, xi_err2 = [DAT[:,i] for i in range(3)]\n",
    "\n",
    "DAT = np.loadtxt('../data_txt//acf_auto_2mass_sgc_nbins20_broad_jk20.txt')\n",
    "meanr3, xi3, xi_err3 = [DAT[:,i] for i in range(3)]\n",
    "\n",
    "#DAT2 = np.loadtxt('../data_txt/acf_cross_2mass_x_dmass_spt_no4_k2.txt')\n",
    "#meanr4, xi4, xi_err4 = [DAT2[:,i] for i in range(3)]\n",
    "\n",
    "fig, ax = plt.subplots(figsize = (8, 6))\n",
    "ax.errorbar(meanr*60*1.03, xi, yerr = xi_err, fmt = '.-b', label='2MASS spt')\n",
    "ax.errorbar(meanr2*60, xi2, yerr = xi_err2, fmt = '.r', label='2MASS ngc')\n",
    "ax.errorbar(meanr3*60*1.05, xi3, yerr = xi_err3, fmt = '.g', label='2MASS x sgc')\n",
    "#ax.errorbar(meanr3 * 1.05, xi3, yerr = xi_err3, fmt = '.g', label='2MASS x CMASS (sgc)')\n",
    "#ax.errorbar(meanr4*1.1, xi4, yerr = xi_err4, fmt = '.k', label='2MASS x DMASS 2')\n",
    "\n",
    "ax.axvline(x=2.5, color='grey')\n",
    "ax.axvline(x = 250, color='grey')\n",
    "ax.set_xscale('log')\n",
    "ax.set_yscale('log')\n",
    "ax.legend(loc = 'best', fontsize = 12)\n",
    "ax.set_ylim(0.01,10)\n",
    "ax.set_xlabel(r'$\\theta$ (arcmin)', fontsize = 12)\n",
    "ax.set_ylabel(r'$w(\\theta)$', fontsize = 12)\n",
    "ax.axhline(y = 0.0, color = 'grey', linestyle = '--')\n",
    "#ax.set_xlim(2.5/60., 250/60.)\n",
    "#ax.set_ylim(-0.05,0.1)\n",
    "\n",
    "\n"
   ]
  },
  {
   "cell_type": "code",
   "execution_count": 63,
   "metadata": {},
   "outputs": [
    {
     "name": "stdout",
     "output_type": "stream",
     "text": [
      "1.0220067305853204 ,\n",
      "0.9927056073181553 ,\n",
      "1.0616888743151736 ,\n",
      "0.9791476322482378 ,\n",
      "1.0691287782572456 ,\n",
      "1.0918538783927694 ,\n",
      "1.07618823087704 ,\n",
      "1.1051097962799177 ,\n",
      "1.1335429663292678 ,\n",
      "1.1554185399000843 ,\n",
      "1.1736589080344904 ,\n",
      "1.1855614192219777 ,\n",
      "1.142186499711714 ,\n",
      "1.1300927640740897 ,\n",
      "1.1208257687928838 ,\n",
      "1.1067326748626392 ,\n",
      "1.0983534313154368 ,\n",
      "1.071694918773354 ,\n",
      "0.9633961414552016 ,\n",
      "0.9281756892573679 ,\n"
     ]
    }
   ],
   "source": [
    "nz_ratio = np.sqrt(xi/xi2)\n",
    "for nz in nz_ratio : print nz, ','"
   ]
  },
  {
   "cell_type": "code",
   "execution_count": 33,
   "metadata": {},
   "outputs": [
    {
     "data": {
      "text/plain": [
       "(0.041666666666666664, 4.166666666666667)"
      ]
     },
     "execution_count": 33,
     "metadata": {},
     "output_type": "execute_result"
    },
    {
     "data": {
      "image/png": "[encoded data removed]",
      "text/plain": [
       "<matplotlib.figure.Figure at 0x7f2d3f2a8090>"
      ]
     },
     "metadata": {},
     "output_type": "display_data"
    }
   ],
   "source": [
    "DAT = np.loadtxt('../data_txt//acf_cross_2mass_x_cmass_sgc_sys_cp_noz_weight_no_bweight_nbins10_jk100.txt')\n",
    "meanr, xi, xi_err = [DAT[:,i] for i in range(3)]\n",
    "\n",
    "DAT = np.loadtxt('../data_txt//acf_cross_2mass_x_cmass_ngc_sys_cp_noz_weight_no_bweight_nbins10_jk100.txt')\n",
    "meanr2, xi2, xi_err2 = [DAT[:,i] for i in range(3)]\n",
    "\n",
    "DAT = np.loadtxt('../data_txt//acf_cross_2mass_x_dmass_spt_nbins10_k_jk100.txt')\n",
    "meanr3, xi3, xi_err3 = [DAT[:,i] for i in range(3)]\n",
    "\n",
    "#DAT2 = np.loadtxt('../data_txt/acf_cross_2mass_x_dmass_spt_no4_k2.txt')\n",
    "#meanr4, xi4, xi_err4 = [DAT2[:,i] for i in range(3)]\n",
    "\n",
    "fig, ax = plt.subplots(figsize = (8, 6))\n",
    "ax.errorbar(meanr*0.95, xi, yerr = xi_err, fmt = '.b', label='2MASS x no reddening')\n",
    "ax.errorbar(meanr2, xi2, yerr = xi_err2, fmt = '.r', label='2MASS x reddening')\n",
    "ax.errorbar(meanr3*1.05, xi3, yerr = xi_err3, fmt = '.g', label='2MASS x DMASS')\n",
    "#ax.errorbar(meanr3 * 1.05, xi3, yerr = xi_err3, fmt = '.g', label='2MASS x CMASS (sgc)')\n",
    "#ax.errorbar(meanr4*1.1, xi4, yerr = xi_err4, fmt = '.k', label='2MASS x DMASS 2')\n",
    "\n",
    "\n",
    "ax.set_xscale('log')\n",
    "ax.set_yscale('linear')\n",
    "ax.legend(loc = 'best', fontsize = 12)\n",
    "#ax.set_ylim(-0.05,0.2)\n",
    "ax.set_xlabel(r'$\\theta$ (deg)', fontsize = 12)\n",
    "ax.set_ylabel(r'$w(\\theta)$', fontsize = 12)\n",
    "ax.axhline(y = 0.0, color = 'grey', linestyle = '--')\n",
    "ax.set_xlim(2.5/60., 250/60.)\n",
    "#ax.set_ylim(-0.05,0.1)\n",
    "\n"
   ]
  },
  {
   "cell_type": "code",
   "execution_count": null,
   "metadata": {},
   "outputs": [],
   "source": []
  },
  {
   "cell_type": "code",
   "execution_count": null,
   "metadata": {},
   "outputs": [],
   "source": []
  },
  {
   "cell_type": "code",
   "execution_count": null,
   "metadata": {},
   "outputs": [],
   "source": []
  },
  {
   "cell_type": "code",
   "execution_count": 21,
   "metadata": {},
   "outputs": [
    {
     "name": "stdout",
     "output_type": "stream",
     "text": [
      "X (1573, 2)  centers (100, 2)  tol=1e-05  maxiter=200\n",
      "26 iterations  cluster sizes: [ 9 29 15 14 21 11 13 10 19  9 10 22 19 22  7 13  7 17 14  7 18 19 27 10\n",
      " 14 17  7 16 13 18 16  5 23 10 16 18 19  6 18 17 14 15 22 20 18 20  7 16\n",
      " 29  5 20 24 23 18 20 13 29 18 14 10 18 23 12 16 13 24  7 24 17  5  5 23\n",
      " 16  9 17 15 28 16 18 26 24  9 18 15 18  8 20 16 17 12 17 12 15 12 11  7\n",
      " 20 10 10 20]\n",
      "X (618806, 2)  centers (100, 2)  tol=1e-05  maxiter=200\n",
      "110 iterations  cluster sizes: [5220 6701 6324 6239 6078 6444 5483 4686 7491 5589 5830 6381 6856 6054\n",
      " 5230 6276 6345 6533 6317 5100 6697 7862 5836 6152 6022 6117 5020 5935\n",
      " 6447 6351 6799 5877 7468 5180 6550 6610 6915 5872 5488 6230 6661 5584\n",
      " 6582 6324 6254 6033 6154 7699 6884 5137 6885 6429 5439 5633 6663 5242\n",
      " 7011 5624 5899 5510 6067 7097 5909 5743 6530 6583 5194 6995 6054 5292\n",
      " 6070 6346 6130 5577 5215 7425 6898 6084 6802 6482 6313 6685 6310 5189\n",
      " 7168 5276 6464 6929 7261 5175 6732 6048 6243 6411 5676 5493 5543 6709\n",
      " 5211 7225]\n",
      ". . . . . . . . . . . . . . . . . . . . . . . . . . . . . . . . . . . . . . . . . . . . . . . . . . . . . . . . . . . . . . . . . . . . . . . . . . . . . . . . . . . . . . . . . . . . . . . . . . . . . \n",
      "saving data file to :  ../data_txt//acf_cross_2mass_x_cmass_ngc_sys_cp_nz_weight_nbins10_jk100_k1.txt\n",
      "X (1573, 2)  centers (100, 2)  tol=1e-05  maxiter=200\n",
      "16 iterations  cluster sizes: [25 15 19 17 22 12 15 18 11 16  7 11 21 16  9  8 12 13 22 26 17  6 10  9\n",
      " 15 13 16 12 18 21  5 20 21 10 23 24 33 13 22 17 14 17 22  8 21 14 12 11\n",
      " 16 14 15 20 16 24 24 21 17 16 12 15 25 14 25 23 14  9 21 11 20 16 14  7\n",
      "  8 12 18 13 18 11 16 10 14 11 17 11  9 15  8 16  9 22 14 20 10 25 18 19\n",
      " 24 13  7 17]\n",
      "X (618806, 2)  centers (100, 2)  tol=1e-05  maxiter=200\n",
      "104 iterations  cluster sizes: [7283 5661 6995 5692 7107 6413 6509 6853 6292 6031 5218 6839 6095 6284\n",
      " 6400 6066 4173 6823 5989 7024 6868 6014 6047 5729 5556 5410 5518 6161\n",
      " 5820 5655 5097 6152 6784 5834 6253 6559 5720 5973 6328 5436 6150 6873\n",
      " 5725 6183 6297 6068 5964 5692 7181 7409 6034 6321 6245 6454 6643 6082\n",
      " 5516 6211 5770 4978 6653 6416 5251 5243 6639 6168 7252 6840 7048 6667\n",
      " 6417 7468 5603 5249 6360 6388 5724 6679 6580 6084 6210 6322 5666 5507\n",
      " 6593 5387 6382 5249 6709 6887 6088 6743 6145 6424 6399 4786 6372 6175\n",
      " 6671 6905]\n",
      ". . . . . . . . . . . . . . . . . . . . . . . . . . . . . . . . . . . . . . . . . . . . . . . . . . . . . . . . . . . . . . . . . . . . . . . . . . . . . . . . . . . . . . . . . . . . . . . . . . . . . \n",
      "saving data file to :  ../data_txt//acf_cross_2mass_x_cmass_ngc_sys_cp_nz_weight_nbins10_jk100_k2.txt\n",
      "X (1573, 2)  centers (100, 2)  tol=1e-05  maxiter=200\n",
      "19 iterations  cluster sizes: [18 28 17 18 30 15  6  4 26 10 27 16 15 23  9 22 18 12 12 12 19  8 20 15\n",
      " 30  7 11 21  8 16 24 16 11  8 21 18 10 11 15 23 23 16 18  9 15 11 20 13\n",
      " 25 18  8 21 19  9 11 18  7 18 16  8 14 25 19 17  7 24  8 15 13 10 11 26\n",
      "  4 20  8 18 17 12 16 10 20 13 20 18 19 16 17 15  8 17  8 15 10 25 10  9\n",
      " 16 31 31  8]\n",
      "X (618806, 2)  centers (100, 2)  tol=1e-05  maxiter=200\n",
      "125 iterations  cluster sizes: [5740 6395 7127 5445 6793 7391 4490 6507 7481 5035 6871 6642 5748 5543\n",
      " 5046 7331 5954 6830 6992 6361 6495 5430 6276 5425 6791 6550 6196 6439\n",
      " 6695 6655 6073 6128 5458 5997 5285 5470 6068 5965 6721 5988 6311 6224\n",
      " 7025 5517 5592 5775 6514 5489 7007 7215 6161 6905 6518 4351 6519 6002\n",
      " 5747 7821 7551 5969 6830 5831 7057 5307 6219 7189 5066 6790 5366 5571\n",
      " 6979 6075 4624 7276 6177 7733 6199 7240 6880 5201 5648 6407 6102 4771\n",
      " 5812 5842 6688 5920 4655 5500 6026 6300 5623 6629 5650 5685 7281 5958\n",
      " 5341 7318]\n",
      ". . . . . . . . . . . . . . . . . . . . . . . . . . . . . . . . . . . . . . . . . . . . . . . . . . . . . . . . . . . . . . . . . . . . . . . . . . . . . . . . . . . . . . . . . . . . . . . . . . . . . \n",
      "saving data file to :  ../data_txt//acf_cross_2mass_x_cmass_ngc_sys_cp_nz_weight_nbins10_jk100_k3.txt\n",
      "X (1573, 2)  centers (100, 2)  tol=1e-05  maxiter=200\n",
      "19 iterations  cluster sizes: [26 22 14 16 15 18 15 25  5 13  9 25 23 25 12 11 23 17 18 11 22 18 14  8\n",
      "  6 16  9 15 16 16 10 24 23 25 17  8  7  9  9 12 13  9 13 13 14 17 39 11\n",
      " 14 16  9 23 14  7 21 25 12 16 17 21 15 15 16 15 13 10 17 20 10 12  9  9\n",
      " 15 29 19 17 22 32 10 12 11 25 17 11 30 17 11 20 12 12 18  8 18 20 13 10\n",
      "  5 13 20 14]\n",
      "X (618806, 2)  centers (100, 2)  tol=1e-05  maxiter=200\n",
      "130 iterations  cluster sizes: [6881 6743 6341 6360 5656 6136 5660 6249 6633 5563 5948 6738 5314 6259\n",
      " 5725 6445 6138 6344 6718 5672 7569 5798 6904 6285 6253 5848 5206 6193\n",
      " 6736 7844 5972 6010 6606 6555 5802 6320 6439 5376 6273 6168 7119 5509\n",
      " 5651 6558 5091 5468 7241 6959 6365 5615 7121 6160 6338 6610 6115 6375\n",
      " 6081 6438 6628 6342 6459 5584 5447 4755 6191 6768 5627 5780 6729 6185\n",
      " 5491 5823 5600 7012 6245 5215 6211 5535 6187 5783 5598 7042 5199 5946\n",
      " 7500 5623 6517 6073 4643 7214 6768 5907 6369 5642 6663 5790 6720 7300\n",
      " 6075 6126]\n",
      ". . . . . . . . . . . . . . . . . . . . . . . . . . . . . . . . . . . . . . . . . . . . . . . . . . . . . . . . . . . . . . . . . . . . . . . . . . . . . . . . . . . . . . . . . . . . . . . . . . . . . \n",
      "saving data file to :  ../data_txt//acf_cross_2mass_x_cmass_ngc_sys_cp_nz_weight_nbins10_jk100_k4.txt\n"
     ]
    }
   ],
   "source": [
    "\n",
    "kmask = kmag20_mask(twomass_ngc)\n",
    "kmask_s = kmag20_mask(twomass_sgc)\n",
    "kmask_d = kmag20_mask(twomass_spt)\n",
    "\n",
    "random_ind_n = np.random.choice( cmass_ngc_rand.size, size = cmass_ngc_rand.size/10)\n",
    "#random_ind = np.random.choice( cmass_sgc_rand.size, size = cmass_sgc_rand.size/10)\n",
    "for i in range(4):\n",
    "    \n",
    "    \n",
    "    cross_angular_correlation(data = cmass_ngc, \n",
    "                              data2 = twomass_ngc[kmask[i]], \n",
    "                              rand = cmass_ngc_rand[random_ind_n], \n",
    "                              rand2= cmass_ngc_rand[random_ind_n], njack = 100, \n",
    "                              nbins=10,\n",
    "                              weight = [True, True, None, None], \n",
    "                              dir = '../data_txt/', \n",
    "                              suffix = '_2mass_x_cmass_ngc_sys_cp_nz_weight_nbins10_jk100_k'+str(i+1) )\n",
    "    \"\"\"\n",
    "    \n",
    "    cross_angular_correlation(data = cmass_sgc, \n",
    "                              data2 = twomass_sgc[kmask_s[i]], \n",
    "                              rand = cmass_sgc_rand[random_ind], \n",
    "                              rand2= twomass_sgc_rand, njack = 100, \n",
    "                              nbins=10,\n",
    "                              weight = [True, True, None, None], \n",
    "                              dir = '../data_txt/', \n",
    "                              suffix = '_2mass_x_cmass_sgc_sys_cp_nz_weight_nbins10_jk100_k'+str(i+1) )\n",
    "\n",
    "    \"\"\"\n",
    "    \n",
    "    \n",
    " \n",
    "    cross_angular_correlation(data = dmass_spt, \n",
    "                              data2 = twomass_spt[kmask_d[i]], \n",
    "                              rand = dmass_rand, \n",
    "                              rand2= dmass_rand, njack = 100, \n",
    "                              nbins = 10,\n",
    "                              weight = [None, None, None, None],\n",
    "                              dir = '../data_txt/', \n",
    "                              suffix = '_2mass_x_dmass_spt_nbins10_jk100_k'+str(i+1) )\n",
    "\n",
    "    \n",
    "    \n",
    "    \n"
   ]
  },
  {
   "cell_type": "code",
   "execution_count": null,
   "metadata": {},
   "outputs": [],
   "source": [
    "DAT = np.loadtxt('../data_txt/acf_cross_2mass_x_cmass_ngc_no2_k2.txt')\n",
    "meanr, xi, xi_err = [DAT[:,i] for i in range(3)]\n",
    "\n",
    "DAT = np.loadtxt('../data_txt/acf_cross_2mass_x_cmass_sgc_no2_k2.txt')\n",
    "meanr2, xi2, xi_err2 = [DAT[:,i] for i in range(3)]\n",
    "\n",
    "DAT = np.loadtxt('../data_txt/acf_cross_2mass_x_dmass_spt_k2.txt')\n",
    "meanr3, xi3, xi_err3 = [DAT[:,i] for i in range(3)]\n",
    "\n",
    "DAT2 = np.loadtxt('../data_txt/acf_cross_2mass_x_dmass_spt_no4_k2.txt')\n",
    "meanr4, xi4, xi_err4 = [DAT2[:,i] for i in range(3)]\n",
    "\n",
    "fig, ax = plt.subplots(figsize = (8, 6))\n",
    "ax.errorbar(meanr*0.95, xi, yerr = xi_err, fmt = '.b', label='2MASS x NGC')\n",
    "ax.errorbar(meanr2, xi2, yerr = xi_err2, fmt = '.r', label='2MASS x SGC')\n",
    "ax.errorbar(meanr3*1.05, xi3, yerr = xi_err3, fmt = '.g', label='2MASS x DMASS')\n",
    "#ax.errorbar(meanr3 * 1.05, xi3, yerr = xi_err3, fmt = '.g', label='2MASS x CMASS (sgc)')\n",
    "ax.errorbar(meanr4*1.1, xi4, yerr = xi_err4, fmt = '.k', label='2MASS x DMASS 2')\n",
    "\n",
    "\n",
    "#ax.errorbar(meanr3*0.95, xi3, yerr = xi_err3, fmt = '.b', label='dmass spt rand')\n",
    "#chisqr = np.sum( (xi-0.0)**2/xi_err**2 )*1./xi.size\n",
    "#chisqr3 = np.sum( (xi3-0.0)**2/xi_err3**2 )*1./xi3.size    \n",
    "\n",
    "ax.set_xscale('log')\n",
    "ax.set_yscale('linear')\n",
    "ax.legend(loc = 'best', fontsize = 12)\n",
    "#ax.text(1.2, 0.03, r'DMASS $\\chi^2$ = {:0.3f}'.format(chisqr), fontsize = 12)\n",
    "#ax.text(1.2, 0.025, r'CMASS $\\chi^2$ = {:0.3f}'.format(chisqr3), fontsize = 12)\n",
    "#ax.set_ylim(-0.05,0.2)\n",
    "ax.set_xlabel(r'$\\theta$ (deg)', fontsize = 12)\n",
    "ax.set_ylabel(r'$w(\\theta)$', fontsize = 12)\n",
    "ax.axhline(y = 0.0, color = 'grey', linestyle = '--')\n",
    "ax.set_xlim(2.5/60., 250/60.)\n",
    "ax.set_ylim(-0.05,0.1)\n",
    "\n",
    "\n",
    "ax.set_title('0.43 < z < 0.55')"
   ]
  },
  {
   "cell_type": "code",
   "execution_count": null,
   "metadata": {},
   "outputs": [],
   "source": [
    "spatialcheck([dmass_spt])"
   ]
  },
  {
   "cell_type": "code",
   "execution_count": null,
   "metadata": {},
   "outputs": [],
   "source": [
    "DAT = np.loadtxt('data_txt/acf_cross_kk_2mass_x_dmass_hp_nside256.txt')\n",
    "meanr, xi, xi_err = [DAT[:,i] for i in range(3)]\n",
    "\n",
    "DAT = np.loadtxt('data_txt/acf_cross_kk_2mass_x_cmass_ngc_hp_nside256.txt')\n",
    "meanr2, xi2, xi_err2 = [DAT[:,i] for i in range(3)]\n",
    "\n",
    "DAT = np.loadtxt('data_txt/acf_cross_kk_2mass_x_cmass_sgc_hp_nside256.txt')\n",
    "meanr3, xi3, xi_err3 = [DAT[:,i] for i in range(3)]\n",
    "#DAT2 = np.loadtxt('data_txt/acf_cross_2mass_x_cmass.txt')\n",
    "#meanr4, xi4, xi_err4 = [DAT2[:,i] for i in range(3)]\n",
    "\n",
    "fig, ax = plt.subplots(figsize = (8, 6))\n",
    "ax.errorbar(meanr*0.95, xi, yerr = xi_err, fmt = '.b', label='2MASS x DMASS')\n",
    "ax.errorbar(meanr2, xi2, yerr = xi_err2, fmt = '.r', label='2MASS x CMASS (ngc)')\n",
    "#ax.errorbar(meanr*1.05, xi, yerr = xi_err, fmt = '.r', label='dmass spt low')\n",
    "ax.errorbar(meanr3 * 1.05, xi3, yerr = xi_err3, fmt = '.g', label='2MASS x CMASS (sgc)')\n",
    "#ax.errorbar(meanr4*1.05, xi4, yerr = xi_err4, fmt = '.k', label='2MASS x cmass(sgc)')\n",
    "\n",
    "\n",
    "#ax.errorbar(meanr3*0.95, xi3, yerr = xi_err3, fmt = '.b', label='dmass spt rand')\n",
    "chisqr = np.sum( (xi-0.0)**2/xi_err**2 )*1./xi.size\n",
    "chisqr3 = np.sum( (xi3-0.0)**2/xi_err3**2 )*1./xi3.size    \n",
    "\n",
    "ax.set_xscale('log')\n",
    "ax.set_yscale('linear')\n",
    "ax.legend(loc = 'best', fontsize = 12)\n",
    "#ax.text(1.2, 0.03, r'DMASS $\\chi^2$ = {:0.3f}'.format(chisqr), fontsize = 12)\n",
    "#ax.text(1.2, 0.025, r'CMASS $\\chi^2$ = {:0.3f}'.format(chisqr3), fontsize = 12)\n",
    "#ax.set_ylim(-0.05,0.2)\n",
    "ax.set_xlabel(r'$\\theta$ (deg)', fontsize = 12)\n",
    "ax.set_ylabel(r'$w(\\theta)$', fontsize = 12)\n",
    "ax.axhline(y = 0.0, color = 'grey', linestyle = '--')\n",
    "ax.set_xlim(10/60., 1000/60.)\n",
    "ax.set_ylim(-0.02,0.02)"
   ]
  },
  {
   "cell_type": "code",
   "execution_count": null,
   "metadata": {},
   "outputs": [],
   "source": [
    "DAT = np.loadtxt('data_txt/acf_cross_kk_2mass_x_dmass_hp_no4.txt')\n",
    "meanr, xi, xi_err = [DAT[:,i] for i in range(3)]\n",
    "\n",
    "DAT = np.loadtxt('data_txt/acf_cross_kk_2mass_x_cmass_ngc_hp_no4.txt')\n",
    "meanr2, xi2, xi_err2 = [DAT[:,i] for i in range(3)]\n",
    "\n",
    "DAT = np.loadtxt('data_txt/acf_cross_kk_2mass_x_cmass_sgc_hp_no4.txt')\n",
    "meanr3, xi3, xi_err3 = [DAT[:,i] for i in range(3)]\n",
    "#DAT2 = np.loadtxt('data_txt/acf_cross_2mass_x_cmass.txt')\n",
    "#meanr4, xi4, xi_err4 = [DAT2[:,i] for i in range(3)]\n",
    "\n",
    "fig, ax = plt.subplots(figsize = (8, 6))\n",
    "ax.errorbar(meanr*0.95, xi, yerr = xi_err, fmt = '.b', label='2MASS x DMASS')\n",
    "ax.errorbar(meanr2, xi2, yerr = xi_err2, fmt = '.r', label='2MASS x CMASS (ngc)')\n",
    "#ax.errorbar(meanr*1.05, xi, yerr = xi_err, fmt = '.r', label='dmass spt low')\n",
    "ax.errorbar(meanr3 * 1.05, xi3, yerr = xi_err3, fmt = '.g', label='2MASS x CMASS (sgc)')\n",
    "#ax.errorbar(meanr4*1.05, xi4, yerr = xi_err4, fmt = '.k', label='2MASS x cmass(sgc)')\n",
    "\n",
    "\n",
    "#ax.errorbar(meanr3*0.95, xi3, yerr = xi_err3, fmt = '.b', label='dmass spt rand')\n",
    "chisqr = np.sum( (xi-0.0)**2/xi_err**2 )*1./xi.size\n",
    "chisqr3 = np.sum( (xi3-0.0)**2/xi_err3**2 )*1./xi3.size\n",
    "\n",
    "\n",
    "#jkdat = np.loadtxt('data_txt/acf_cross_2mass_x_dmass_lowz0.55_no12.jk_corr')\n",
    "#for i in range(1, 10):\n",
    "#    ax.plot(jkdat[:,0], jkdat[:,i])\n",
    "    \n",
    "\n",
    "#jkdat = np.loadtxt('data_txt/acf_cross_2mass_x_cmass_ngc_lowz0.4_no22.jk_corr')\n",
    "#for i in range(1, 10):\n",
    "#    ax.plot(jkdat[:,0], jkdat[:,i])\n",
    "    \n",
    "\n",
    "ax.set_xscale('log')\n",
    "ax.set_yscale('linear')\n",
    "ax.legend(loc = 'best', fontsize = 12)\n",
    "#ax.text(1.2, 0.03, r'DMASS $\\chi^2$ = {:0.3f}'.format(chisqr), fontsize = 12)\n",
    "#ax.text(1.2, 0.025, r'CMASS $\\chi^2$ = {:0.3f}'.format(chisqr3), fontsize = 12)\n",
    "#ax.set_ylim(-0.05,0.2)\n",
    "ax.set_xlabel(r'$\\theta$ (deg)', fontsize = 12)\n",
    "ax.set_ylabel(r'$w(\\theta)$', fontsize = 12)\n",
    "ax.axhline(y = 0.0, color = 'grey', linestyle = '--')\n",
    "ax.set_xlim(10/60., 1000/60.)\n",
    "ax.set_ylim(-0.02,0.02)"
   ]
  },
  {
   "cell_type": "code",
   "execution_count": null,
   "metadata": {},
   "outputs": [],
   "source": [
    "DAT = np.loadtxt('data_txt/acf_cross_kk_2mass_x_dmass_hp_no5.txt')\n",
    "meanr, xi, xi_err = [DAT[:,i] for i in range(3)]\n",
    "\n",
    "DAT = np.loadtxt('data_txt/acf_cross_kk_2mass_x_cmass_ngc_hp_no5.txt')\n",
    "meanr2, xi2, xi_err2 = [DAT[:,i] for i in range(3)]\n",
    "\n",
    "DAT = np.loadtxt('data_txt/acf_cross_kk_2mass_x_cmass_sgc_hp_no5.txt')\n",
    "meanr3, xi3, xi_err3 = [DAT[:,i] for i in range(3)]\n",
    "#DAT2 = np.loadtxt('data_txt/acf_cross_2mass_x_cmass.txt')\n",
    "#meanr4, xi4, xi_err4 = [DAT2[:,i] for i in range(3)]\n",
    "\n",
    "fig, ax = plt.subplots(figsize = (8, 6))\n",
    "ax.errorbar(meanr*0.95, xi, yerr = xi_err, fmt = '.b', label='2MASS x DMASS')\n",
    "ax.errorbar(meanr2, xi2, yerr = xi_err2, fmt = '.r', label='2MASS x CMASS (ngc)')\n",
    "#ax.errorbar(meanr*1.05, xi, yerr = xi_err, fmt = '.r', label='dmass spt low')\n",
    "ax.errorbar(meanr3 * 1.05, xi3, yerr = xi_err3, fmt = '.g', label='2MASS x CMASS (sgc)')\n",
    "#ax.errorbar(meanr4*1.05, xi4, yerr = xi_err4, fmt = '.k', label='2MASS x cmass(sgc)')\n",
    "\n",
    "\n",
    "#ax.errorbar(meanr3*0.95, xi3, yerr = xi_err3, fmt = '.b', label='dmass spt rand')\n",
    "chisqr = np.sum( (xi-0.0)**2/xi_err**2 )*1./xi.size\n",
    "chisqr3 = np.sum( (xi3-0.0)**2/xi_err3**2 )*1./xi3.size\n",
    "\n",
    "\n",
    "#jkdat = np.loadtxt('data_txt/acf_cross_2mass_x_dmass_lowz0.55_no12.jk_corr')\n",
    "#for i in range(1, 10):\n",
    "#    ax.plot(jkdat[:,0], jkdat[:,i])\n",
    "    \n",
    "\n",
    "#jkdat = np.loadtxt('data_txt/acf_cross_2mass_x_cmass_ngc_lowz0.4_no22.jk_corr')\n",
    "#for i in range(1, 10):\n",
    "#    ax.plot(jkdat[:,0], jkdat[:,i])\n",
    "    \n",
    "\n",
    "ax.set_xscale('log')\n",
    "ax.set_yscale('linear')\n",
    "ax.legend(loc = 'best', fontsize = 12)\n",
    "#ax.text(1.2, 0.03, r'DMASS $\\chi^2$ = {:0.3f}'.format(chisqr), fontsize = 12)\n",
    "#ax.text(1.2, 0.025, r'CMASS $\\chi^2$ = {:0.3f}'.format(chisqr3), fontsize = 12)\n",
    "#ax.set_ylim(-0.05,0.2)\n",
    "ax.set_xlabel(r'$\\theta$ (deg)', fontsize = 12)\n",
    "ax.set_ylabel(r'$w(\\theta)$', fontsize = 12)\n",
    "ax.axhline(y = 0.0, color = 'grey', linestyle = '--')\n",
    "ax.set_xlim(10/60., 1000/60.)\n",
    "ax.set_ylim(-0.02,0.02)"
   ]
  },
  {
   "cell_type": "code",
   "execution_count": null,
   "metadata": {},
   "outputs": [],
   "source": [
    "#cmass = cmass[cmass['Z'] < 0.43]\n",
    "#random = random[random['Z'] < 0.43]\n",
    "#dmass_spt = dmass_spt[dmass_spt['DESDM_ZP'] < 0.43]"
   ]
  },
  {
   "cell_type": "code",
   "execution_count": null,
   "metadata": {},
   "outputs": [],
   "source": [
    "#2MASS RANDOMS\n",
    "twomass_random = uniform_random_on_sphere(twomass, size = twomass.size * 30 )\n",
    "HPind_rand = hpRaDecToHEALPixel(twomass_random['RA'], twomass_random['DEC'], nside=  512, nest= False)\n",
    "reliable_rand_mask = np.in1d(HPind_rand, reliable_hpind)\n",
    "reliable_twomass_random =  twomass_random[reliable_rand_mask]"
   ]
  },
  {
   "cell_type": "code",
   "execution_count": null,
   "metadata": {},
   "outputs": [],
   "source": [
    "cmass_hp512 = hpRaDecToHEALPixel(cmass['RA'], cmass['DEC'], nside=  512, nest= False)\n",
    "cmass_random_hp512 = hpRaDecToHEALPixel(random['RA'], random['DEC'], nside=  512, nest= False)\n",
    "dmass_hp512 = hpRaDecToHEALPixel(dmass_spt['RA'], dmass_spt['DEC'], nside=  512, nest= False)\n",
    "dmass_random_hp512 = hpRaDecToHEALPixel(dmass_random['RA'], dmass_random['DEC'], nside=  512, nest= False)\n",
    "\n",
    "#twomass_hp4096 = hpRaDecToHEALPixel(reliable_twomass['RA'], reliable_twomass['DEC'], nside=  4096, nest= False)\n",
    "#twomass_random_hp4096 = hpRaDecToHEALPixel(reliable_twomass_random['RA'], reliable_twomass_random['DEC'], nside=  4096, nest= False)\n",
    "twomass_hp1024 = hpRaDecToHEALPixel(reliable_twomass['RA'], reliable_twomass['DEC'], nside=  1024, nest= False)\n",
    "twomass_random_hp1024 = hpRaDecToHEALPixel(reliable_twomass_random['RA'], reliable_twomass_random['DEC'], nside=  1024, nest= False) \n"
   ]
  },
  {
   "cell_type": "code",
   "execution_count": null,
   "metadata": {},
   "outputs": [],
   "source": [
    "cmass_in_twomass_mask = np.in1d( cmass_hp512, reliable_hpind )\n",
    "cmass_randoms_in_twomass_mask = np.in1d( cmass_random_hp512, reliable_hpind )\n",
    "dmass_in_twomass_mask = np.in1d( dmass_hp512, reliable_hpind )\n",
    "dmass_radoms_in_twomass_mask = np.in1d( dmass_random_hp512, reliable_hpind )\n",
    "\n",
    "#twomass_in_spt_mask = np.in1d( twomass_hp4096, goldmask_hpind )\n",
    "#twomass_random_in_spt_mask = np.in1d( twomass_random_hp4096, goldmask_hpind )\n",
    "twomass_in_cmass_mask = np.in1d( twomass_hp1024, boss_hpind )\n",
    "twomass_random_in_cmass_mask = np.in1d( twomass_random_hp1024, boss_hpind )"
   ]
  },
  {
   "cell_type": "code",
   "execution_count": null,
   "metadata": {},
   "outputs": [],
   "source": [
    "cmass_in_twomass = cmass[cmass_in_twomass_mask]\n",
    "cmass_randoms_in_twomass = random[cmass_randoms_in_twomass_mask]\n",
    "dmass_in_twomass = dmass_spt[dmass_in_twomass_mask]\n",
    "dmass_randoms_in_twomass = dmass_random[dmass_radoms_in_twomass_mask]\n",
    "\n",
    "twomass_in_spt = Cuts.keepGoodRegion(reliable_twomass[reliable_twomass['DEC']<-3.0])\n",
    "twomass_random_in_spt = Cuts.keepGoodRegion(reliable_twomass_random[reliable_twomass_random['DEC']<-3.0])\n",
    "twomass_in_cmass = reliable_twomass[twomass_in_cmass_mask]\n",
    "twomass_random_in_cmass = reliable_twomass_random[twomass_random_in_cmass_mask]"
   ]
  },
  {
   "cell_type": "code",
   "execution_count": null,
   "metadata": {},
   "outputs": [],
   "source": [
    "w_sgc = cmass_in_twomass['WEIGHT_FKP'] * cmass_in_twomass['WEIGHT_SYSTOT']*( cmass_in_twomass['WEIGHT_CP'] + cmass_in_twomass['WEIGHT_NOZ'] - 1. )\n",
    "w_rand = cmass_randoms_in_twomass['WEIGHT_FKP']\n",
    "cmass_in_twomass = rf.append_fields(cmass_in_twomass,'WEIGHT', w_sgc, dtypes=w_sgc.dtype)\n",
    "cmass_randoms_in_twomass = rf.append_fields(cmass_randoms_in_twomass,'WEIGHT_RAND', w_rand, dtypes=w_rand.dtype)\n",
    "\n",
    "w_twomass = np.ones(twomass_in_cmass.size)\n",
    "w_twomass_rand = np.ones(twomass_random_in_cmass.size)\n",
    "twomass_in_cmass = rf.append_fields(twomass_in_cmass,'WEIGHT', w_twomass)\n",
    "twomass_random_in_cmass = rf.append_fields(twomass_random_in_cmass,'WEIGHT_RAND', w_twomass_rand)\n",
    "\n",
    "w_dmass = np.ones(dmass_in_twomass.size)\n",
    "w_dmass_rand = np.ones(dmass_randoms_in_twomass.size)\n",
    "dmass_in_twomass = rf.append_fields(dmass_in_twomass,'WEIGHT', w_dmass)\n",
    "dmass_randoms_in_twomass = rf.append_fields(dmass_randoms_in_twomass,'WEIGHT_RAND', w_dmass_rand)\n",
    "\n",
    "w_dmass = np.ones(twomass_in_spt.size)\n",
    "w_dmass_rand = np.ones(twomass_random_in_spt.size)\n",
    "twomass_in_spt = rf.append_fields(twomass_in_spt,'WEIGHT', w_dmass)\n",
    "twomass_random_in_spt = rf.append_fields(twomass_random_in_spt,'WEIGHT_RAND', w_dmass_rand)\n"
   ]
  },
  {
   "cell_type": "code",
   "execution_count": null,
   "metadata": {},
   "outputs": [],
   "source": [
    "print 'catalog size cmass', cmass_in_twomass.size, cmass_randoms_in_twomass.size\n",
    "print 'catalog size dmass', dmass_in_twomass.size, dmass_randoms_in_twomass.size\n",
    "print 'catalog size 2mass', twomass_in_cmass.size, twomass_random_in_cmass.size\n",
    "print 'catalog size 2mass', twomass_in_spt.size, twomass_random_in_spt.size\n"
   ]
  },
  {
   "cell_type": "code",
   "execution_count": null,
   "metadata": {
    "scrolled": false
   },
   "outputs": [],
   "source": [
    "dmass_in_twomass_galmap= making_healpix_density_map(cat = dmass_in_twomass, nside = 128, nest = False)\n",
    "cmass_in_twomass_galmap= making_healpix_density_map(cat = cmass_in_twomass, nside = 128, nest = False)\n",
    "hp.mollview(cmass_in_twomass_galmap['WEIGHT'] + dmass_in_twomass_galmap['WEIGHT'], nest=False, title=\"CMASS NGC gal density\", max = 5e05)\n",
    "hp.mollview(cmass_in_twomass_galmap['WEIGHT'], nest=False, title=\"CMASS NGC gal density\", max = 5e03)\n",
    "\n",
    "\n",
    "cmass_randoms_in_twomass_galmap= making_healpix_density_map(cat = cmass_randoms_in_twomass, nside = 128, nest = False)\n",
    "dmass_randoms_in_twomass_galmap= making_healpix_density_map(cat = dmass_randoms_in_twomass, nside = 128, nest = False)\n",
    "hp.mollview(cmass_randoms_in_twomass_galmap['WEIGHT']+dmass_randoms_in_twomass_galmap['WEIGHT'], nest=False, title=\"CMASS RANDOM gal density\", max = 5e07)\n",
    "\n",
    "twomass_in_cmass_galmap= making_healpix_density_map(cat = twomass_in_cmass, nside = 128, nest = False)\n",
    "twomass_in_spt_galmap= making_healpix_density_map(cat = twomass_in_spt, nside = 128, nest = False)\n",
    "hp.mollview(twomass_in_cmass_galmap['WEIGHT']+twomass_in_spt_galmap['WEIGHT'], nest=False, title=\"2MASS gal density\", max = 5e05)\n",
    "\n",
    "twomass_random_in_cmass_galmap= making_healpix_density_map(cat = twomass_random_in_cmass, nside = 128, nest = False)\n",
    "twomass_random_in_spt_galmap= making_healpix_density_map(cat = twomass_random_in_spt, nside = 128, nest = False)\n",
    "hp.mollview(twomass_random_in_cmass_galmap['WEIGHT']+twomass_random_in_spt_galmap['WEIGHT'], nest=False, title=\"2MASS gal density\", max = 5e05)"
   ]
  },
  {
   "cell_type": "markdown",
   "metadata": {},
   "source": [
    "#### Cross Correlation Function"
   ]
  },
  {
   "cell_type": "code",
   "execution_count": null,
   "metadata": {},
   "outputs": [],
   "source": [
    "from systematics_module.corr import angular_correlation, cross_angular_correlation"
   ]
  },
  {
   "cell_type": "code",
   "execution_count": null,
   "metadata": {},
   "outputs": [],
   "source": [
    "\"\"\"\n",
    "angular_correlation(data = cmass_in_twomass, \n",
    "                    rand = cmass_randoms_in_twomass2, \n",
    "                    weight = True, suffix = '_cmass_in_twomass', njack=10)\n",
    "\n",
    "angular_correlation(data = twomass_in_cmass, \n",
    "                    rand = twomass_random_in_cmass, \n",
    "                    weight = True, suffix = '_twomass_in_cmass', njack=10)\n",
    "\n",
    "angular_correlation(data = dmass_in_twomass, \n",
    "                    rand = dmass_random_in_twomass, \n",
    "                    weight = True, suffix = '_dmass_in_twomass', njack=10)\n",
    "\"\"\""
   ]
  },
  {
   "cell_type": "code",
   "execution_count": null,
   "metadata": {},
   "outputs": [],
   "source": [
    "\n",
    "random_ind = np.random.choice(np.arange(cmass_randoms_in_twomass.size), size = cmass_randoms_in_twomass.size/10)\n",
    "\n",
    "cross_angular_correlation(data = cmass_in_twomass, \n",
    "                          data2 = twomass_in_cmass, \n",
    "                          rand = cmass_randoms_in_twomass[random_ind], \n",
    "                          rand2= twomass_random_in_cmass, njack = 30,  \n",
    "                          weight = [None, None, None, None], suffix = '_2mass_x_cmass_ngc_zfull_no26' )\n",
    "\n",
    "cross_angular_correlation(data = dmass_in_twomass, \n",
    "                          data2 = twomass_in_spt, \n",
    "                          rand = dmass_randoms_in_twomass, \n",
    "                          rand2= twomass_random_in_spt, njack = 30,  \n",
    "                          weight = [None, None, None, None], suffix = '_2mass_x_dmass_zfull_no16')"
   ]
  },
  {
   "cell_type": "code",
   "execution_count": null,
   "metadata": {},
   "outputs": [],
   "source": [
    "DAT = np.loadtxt('data_txt/acf_cross_2mass_x_dmass_zfull_no16.txt')\n",
    "meanr, xi, xi_err = [DAT[:,i] for i in range(3)]\n",
    "\n",
    "DAT = np.loadtxt('data_txt/acf_cross_2mass_x_cmass_ngc_zfull_no26.txt')\n",
    "meanr3, xi3, xi_err3 = [DAT[:,i] for i in range(3)]\n",
    "#DAT2 = np.loadtxt('data_txt/acf_cross_2mass_x_cmass.txt')\n",
    "#meanr4, xi4, xi_err4 = [DAT2[:,i] for i in range(3)]\n",
    "\n",
    "fig, ax = plt.subplots(figsize = (8, 6))\n",
    "ax.errorbar(meanr*0.95, xi, yerr = xi_err, fmt = '.b', label='2MASS x dmass')\n",
    "#ax.errorbar(meanr2, xi2, yerr = xi_err2, fmt = '.r', label='cmass auto')\n",
    "#ax.errorbar(meanr*1.05, xi, yerr = xi_err, fmt = '.r', label='dmass spt low')\n",
    "ax.errorbar(meanr3, xi3, yerr = xi_err3, fmt = '.r', label='2MASS x cmass')\n",
    "#ax.errorbar(meanr4*1.05, xi4, yerr = xi_err4, fmt = '.k', label='2MASS x cmass(sgc)')\n",
    "\n",
    "\n",
    "#ax.errorbar(meanr3*0.95, xi3, yerr = xi_err3, fmt = '.b', label='dmass spt rand')\n",
    "chisqr = np.sum( (xi-0.0)**2/xi_err**2 )*1./xi.size\n",
    "chisqr3 = np.sum( (xi3-0.0)**2/xi_err3**2 )*1./xi3.size\n",
    "\n",
    "\n",
    "#jkdat = np.loadtxt('data_txt/acf_cross_2mass_x_dmass_lowz0.55_no12.jk_corr')\n",
    "#for i in range(1, 10):\n",
    "#    ax.plot(jkdat[:,0], jkdat[:,i])\n",
    "    \n",
    "\n",
    "#jkdat = np.loadtxt('data_txt/acf_cross_2mass_x_cmass_ngc_lowz0.4_no22.jk_corr')\n",
    "#for i in range(1, 10):\n",
    "#    ax.plot(jkdat[:,0], jkdat[:,i])\n",
    "    \n",
    "\n",
    "ax.set_xscale('log')\n",
    "ax.set_yscale('linear')\n",
    "ax.legend(loc = 'best', fontsize = 12)\n",
    "ax.text(1.2, 0.03, r'DMASS $\\chi^2$ = {:0.3f}'.format(chisqr), fontsize = 12)\n",
    "ax.text(1.2, 0.025, r'CMASS $\\chi^2$ = {:0.3f}'.format(chisqr3), fontsize = 12)\n",
    "ax.set_ylim(-0.05,0.05)\n",
    "ax.set_xlabel(r'$\\theta$ (deg)', fontsize = 12)\n",
    "ax.set_ylabel(r'$w(\\theta)$', fontsize = 12)\n",
    "ax.axhline(y = 0.0, color = 'grey', linestyle = '--')"
   ]
  },
  {
   "cell_type": "code",
   "execution_count": null,
   "metadata": {},
   "outputs": [],
   "source": [
    "DAT = np.loadtxt('data_txt/acf_cross_2mass_x_dmass_lowz0.4_no15.txt')\n",
    "meanr, xi, xi_err = [DAT[:,i] for i in range(3)]\n",
    "\n",
    "DAT = np.loadtxt('data_txt/acf_cross_2mass_x_cmass_ngc_lowz0.4_no25.txt')\n",
    "meanr3, xi3, xi_err3 = [DAT[:,i] for i in range(3)]\n",
    "#DAT2 = np.loadtxt('data_txt/acf_cross_2mass_x_cmass.txt')\n",
    "#meanr4, xi4, xi_err4 = [DAT2[:,i] for i in range(3)]\n",
    "\n",
    "fig, ax = plt.subplots(figsize = (8, 6))\n",
    "ax.errorbar(meanr*0.95, xi, yerr = xi_err, fmt = '.b', label='2MASS x dmass (z<0.43)')\n",
    "#ax.errorbar(meanr2, xi2, yerr = xi_err2, fmt = '.r', label='cmass auto')\n",
    "#ax.errorbar(meanr*1.05, xi, yerr = xi_err, fmt = '.r', label='dmass spt low')\n",
    "ax.errorbar(meanr3, xi3, yerr = xi_err3, fmt = '.r', label='2MASS x cmass (z<0.43)')\n",
    "#ax.errorbar(meanr4*1.05, xi4, yerr = xi_err4, fmt = '.k', label='2MASS x cmass(sgc)')\n",
    "\n",
    "\n",
    "#ax.errorbar(meanr3*0.95, xi3, yerr = xi_err3, fmt = '.b', label='dmass spt rand')\n",
    "chisqr = np.sum( (xi-0.0)**2/xi_err**2 )*1./xi.size\n",
    "chisqr3 = np.sum( (xi3-0.0)**2/xi_err3**2 )*1./xi3.size\n",
    "\n",
    "\n",
    "#jkdat = np.loadtxt('data_txt/acf_cross_2mass_x_dmass_lowz0.55_no12.jk_corr')\n",
    "#for i in range(1, 10):\n",
    "#    ax.plot(jkdat[:,0], jkdat[:,i])\n",
    "    \n",
    "\n",
    "#jkdat = np.loadtxt('data_txt/acf_cross_2mass_x_cmass_ngc_lowz0.4_no22.jk_corr')\n",
    "#for i in range(1, 10):\n",
    "#    ax.plot(jkdat[:,0], jkdat[:,i])\n",
    "    \n",
    "\n",
    "ax.set_xscale('log')\n",
    "ax.set_yscale('linear')\n",
    "ax.legend(loc = 'best', fontsize = 12)\n",
    "ax.text(1.2, 0.03, r'DMASS $\\chi^2$ = {:0.3f}'.format(chisqr), fontsize = 12)\n",
    "ax.text(1.2, 0.025, r'CMASS $\\chi^2$ = {:0.3f}'.format(chisqr3), fontsize = 12)\n",
    "ax.set_ylim(-0.05,0.05)\n",
    "ax.set_xlabel(r'$\\theta$ (deg)', fontsize = 12)\n",
    "ax.set_ylabel(r'$w(\\theta)$', fontsize = 12)\n",
    "ax.axhline(y = 0.0, color = 'grey', linestyle = '--')"
   ]
  },
  {
   "cell_type": "code",
   "execution_count": null,
   "metadata": {},
   "outputs": [],
   "source": [
    "DAT = np.loadtxt('data_txt/acf_cross_2mass_x_cmass_sgc_lowz0.4_no17.txt')\n",
    "meanr, xi, xi_err = [DAT[:,i] for i in range(3)]\n",
    "\n",
    "#DAT = np.loadtxt('data_txt/acf_cross_2mass_x_cmass_full_lowz0.4_no12.txt')\n",
    "DAT = np.loadtxt('data_txt/acf_cross_2mass_x_dmass_lowz0.55_no9.txt')\n",
    "meanr2, xi2, xi_err2 = [DAT[:,i] for i in range(3)]\n",
    "\n",
    "DAT = np.loadtxt('data_txt/acf_cross_2mass_x_cmass_ngc_lowz0.4_no18.txt')\n",
    "meanr3, xi3, xi_err3 = [DAT[:,i] for i in range(3)]\n",
    "#DAT2 = np.loadtxt('data_txt/acf_cross_2mass_x_cmass.txt')\n",
    "#meanr4, xi4, xi_err4 = [DAT2[:,i] for i in range(3)]\n",
    "\n",
    "fig, ax = plt.subplots(figsize = (8, 6))\n",
    "#ax.errorbar(meanr2*0.95, xi2, yerr = xi_err2, fmt = '.r', label='z_photo < 0.55, DMASS')\n",
    "ax.errorbar(meanr, xi, yerr = xi_err, fmt = '.b', label='z < 0.43, SGC')\n",
    "#ax.errorbar(meanr*1.05, xi, yerr = xi_err, fmt = '.r', label='dmass spt low')\n",
    "ax.errorbar(meanr3*1.05, xi3, yerr = xi_err3, fmt = '.g', label='z < 0.43, NGC')\n",
    "#ax.errorbar(meanr4*1.05, xi4, yerr = xi_err4, fmt = '.k', label='2MASS x cmass(sgc)')\n",
    "\n",
    "\n",
    "#ax.errorbar(meanr3*0.95, xi3, yerr = xi_err3, fmt = '.b', label='dmass spt rand')\n",
    "chisqr = np.sum( (xi-0.0)**2/xi_err**2 )*1./xi.size\n",
    "chisqr3 = np.sum( (xi3-0.0)**2/xi_err3**2 )*1./xi3.size\n",
    "\n",
    "\n",
    "\n",
    "ax.set_xscale('log')\n",
    "ax.set_yscale('linear')\n",
    "ax.legend(loc = 'best', fontsize = 12)\n",
    "ax.text(1.2, 0.028, r'SGC $\\chi^2$ = {:0.3f}'.format(chisqr), fontsize = 12)\n",
    "ax.text(1.2, 0.022, r'NGC $\\chi^2$ = {:0.3f}'.format(chisqr3), fontsize = 12)\n",
    "ax.set_ylim(-0.05,0.05)\n",
    "ax.set_xlabel(r'$\\theta$ (deg)', fontsize = 12)\n",
    "ax.set_ylabel(r'$w(\\theta)$', fontsize = 12)\n",
    "ax.axhline(y = 0.0, color = 'grey', linestyle = '--')\n",
    "ax.set_title('2MASS x CMASS')"
   ]
  },
  {
   "cell_type": "code",
   "execution_count": null,
   "metadata": {},
   "outputs": [],
   "source": [
    "\n",
    "dmass_in_twomass_galmap= making_healpix_density_map(cat = dmass_in_twomass, nside = 128, nest = False)\n",
    "hp.mollview(dmass_in_twomass_galmap['WEIGHT'], nest=False, title=\"DMASS gal density\", max = 5e05)\n",
    "\n",
    "dmass_random_in_twomass_galmap= making_healpix_density_map(cat = dmass_random_in_twomass, nside = 128, nest = False)\n",
    "hp.mollview(dmass_random_in_twomass['WEIGHT'], nest=False, title=\"DMASS gal density\", max = 5e05)\n",
    "\n",
    "twomass_in_spt_galmap= making_healpix_density_map(cat = twomass_in_spt, nside = 128, nest = False)\n",
    "hp.mollview(twomass_in_spt['WEIGHT'], nest=False, title=\"2MASS spt gal density\", max = 5e05)\n",
    "\n",
    "twomass_random_in_spt_galmap= making_healpix_density_map(cat = twomass_random_in_spt, nside = 128, nest = False)\n",
    "hp.mollview(twomass_random_in_spt_galmap['WEIGHT'], nest=False, title=\"2MASS spt gal density\", max = 5e05)\n",
    "\n",
    "\n",
    "cross_angular_correlation(data = dmass_in_twomass_galmap, \n",
    "                          data2 = twomass_in_spt_galmap, \n",
    "                          rand = dmass_randoms_in_twomass_galmap, \n",
    "                          rand2= twomass_random_in_spt_galmap, njack = 20,  \n",
    "                          weight = [True, True, True, True], suffix = '_2mass_x_dmass_hp')"
   ]
  },
  {
   "cell_type": "code",
   "execution_count": null,
   "metadata": {},
   "outputs": [],
   "source": [
    "cov_cmass = np.genfromtxt('data_txt/acf_cross_2mass_x_cmass_ngc_zfull_no26.cov')\n",
    "cov_dmass = np.loadtxt('data_txt/acf_cross_2mass_x_dmass_zfull_no16.cov')\n",
    "inv_cmass = np.linalg.inv(cov_cmass)\n",
    "inv_dmass = np.linalg.inv(cov_dmass)\n",
    "print np.dot(np.dot(xi3, inv_cmass), xi3)*1./xi3.size\n",
    "print np.dot(np.dot(xi, inv_dmass), xi)*1./xi.size\n",
    "\n",
    "fig, ax = plt.subplots()\n",
    "im = ax.imshow(cov_cmass)\n",
    "fig.colorbar(im, ax=ax)"
   ]
  },
  {
   "cell_type": "code",
   "execution_count": null,
   "metadata": {},
   "outputs": [],
   "source": []
  }
 ],
 "metadata": {
  "kernelspec": {
   "display_name": "Python 2",
   "language": "python",
   "name": "python2"
  },
  "language_info": {
   "codemirror_mode": {
    "name": "ipython",
    "version": 2
   },
   "file_extension": ".py",
   "mimetype": "text/x-python",
   "name": "python",
   "nbconvert_exporter": "python",
   "pygments_lexer": "ipython2",
   "version": "2.7.14"
  }
 },
 "nbformat": 4,
 "nbformat_minor": 2
}
