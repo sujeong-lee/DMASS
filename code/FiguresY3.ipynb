{
 "cells": [
  {
   "cell_type": "code",
   "execution_count": 3,
   "metadata": {},
   "outputs": [
    {
     "name": "stdout",
     "output_type": "stream",
     "text": [
      "399263026\n",
      "399263026\n",
      "72400610\n",
      "files loaded successfully\n"
     ]
    }
   ],
   "source": [
    "#import all necessary items from Su's code:\n",
    "#from xd import *\n",
    "#from utils import *\n",
    "import esutil, yaml, sys, os, argparse\n",
    "import healpy as hp\n",
    "#from systematics import *\n",
    "import warnings\n",
    "warnings.filterwarnings(\"ignore\", category=DeprecationWarning)\n",
    "import numpy as np\n",
    "import astropy.io.fits as fits\n",
    "\n",
    "#opening CMASS catalog:\n",
    "fitsfile='galaxy_DR11v1_CMASS_South-photoObj.fits.gz'\n",
    "hdu=fits.open(fitsfile)\n",
    "\n",
    "import h5py\n",
    "\n",
    "#opening DES catalog:\n",
    "filename='/fs/scratch/PCON0003/warner785/Y3_mastercat_03_31_20.h5'\n",
    "#f=h5py.File(filename,'r')\n",
    "with h5py.File(filename, 'r') as f:\n",
    "#read in values:\n",
    "    modelmag_g_des=f['catalog/gold/sof_cm_mag_corrected_g'][:]\n",
    "    modelmag_r_des=f['catalog/gold/sof_cm_mag_corrected_r'][:]\n",
    "    modelmag_i_des=f['catalog/gold/sof_cm_mag_corrected_i'][:]\n",
    "    \n",
    "    magerr_detmodel_g=f['catalog/gold/sof_cm_mag_err_g']\n",
    "    magerr_detmodel_r=f['catalog/gold/sof_cm_mag_err_r']\n",
    "    magerr_detmodel_i=f['catalog/gold/sof_cm_mag_err_i']\n",
    "    \n",
    "    ra=f['catalog/gold/ra'][:]\n",
    "    dec=f['catalog/gold/dec'][:]\n",
    "    \n",
    "cmodelmag_g_des=modelmag_g_des\n",
    "cmodelmag_r_des=modelmag_r_des\n",
    "cmodelmag_i_des=modelmag_i_des\n",
    "magauto_des=modelmag_i_des\n",
    "\n",
    "print(len(modelmag_g_des))\n",
    "print(len(ra))\n",
    "    \n",
    "#defining the cut:\n",
    "\n",
    "cut = (((cmodelmag_r_des>16)&(cmodelmag_r_des<24))&((cmodelmag_i_des>16)&(cmodelmag_i_des<24))&((cmodelmag_g_des>16)&(cmodelmag_g_des<24))&((modelmag_r_des-modelmag_i_des)<1.5)&((modelmag_r_des-modelmag_i_des)>0.)&((modelmag_g_des-modelmag_r_des)>0.)&((modelmag_g_des-modelmag_r_des)<2.5)&(magauto_des<21.5))\n",
    "ra=ra[cut]\n",
    "dec=dec[cut]\n",
    "\n",
    "print(len(ra))\n",
    "#print(modelmag_g_des.size)\n",
    "\n",
    "print('files loaded successfully')"
   ]
  },
  {
   "cell_type": "code",
   "execution_count": 2,
   "metadata": {},
   "outputs": [
    {
     "name": "stdout",
     "output_type": "stream",
     "text": [
      "('num of cmass in des side', 56335, '(30%)')\n"
     ]
    }
   ],
   "source": [
    "#matching catalogs (train_st82): UNNEEDED STEP\n",
    "'''\n",
    "#Su's flags and color cut:\n",
    "mask_all=cut\n",
    "f'=f[cut]\n",
    "train_sample=fitsfile\n",
    "#print('total num of train', len(train_sample))\n",
    "'''\n",
    "#reading in needed values:\n",
    "cmass_ra=hdu[1].data['RA     ']\n",
    "cmass_dec=hdu[1].data['DEC    ']\n",
    "\n",
    "mg1, mg2,_= esutil.htm.HTM(10).match(cmass_ra, cmass_dec, ra, dec, 2./3600, maxmatch=1)\n",
    "\n",
    "cmass_mask=np.zeros(ra.size, dtype=bool)\n",
    "cmass_mask[mg2]=1\n",
    "clean_cmass_data_des_ra, nocmass_ra=ra[cmass_mask], ra[~cmass_mask]\n",
    "clean_cmass_data_des_dec, nocmass_dec=dec[cmass_mask], dec[~cmass_mask]\n",
    "\n",
    "print(('num of cmass in des side', clean_cmass_data_des_ra.size, '({:0.0f}%)'.format(clean_cmass_data_des_ra.size*1./cmass_ra.size*100.)))"
   ]
  },
  {
   "cell_type": "code",
   "execution_count": null,
   "metadata": {},
   "outputs": [],
   "source": []
  },
  {
   "cell_type": "code",
   "execution_count": 4,
   "metadata": {},
   "outputs": [],
   "source": [
    "#match needed values:\n",
    "\n",
    "#reading in needed cmass values:\n",
    "cmass_ra=hdu[1].data['RA     ']\n",
    "cmass_dec=hdu[1].data['DEC    ']\n",
    "\n",
    "#ra and dec are already read in\n",
    "\n",
    "from astropy.coordinates import SkyCoord\n",
    "from astropy import units as u\n",
    "cmass = SkyCoord(ra=cmass_ra*u.degree, dec=cmass_dec*u.degree)\n",
    "gold = SkyCoord(ra=ra*u.degree, dec=dec*u.degree)\n",
    "idx, d2d, d3d = gold.match_to_catalog_sky(cmass)"
   ]
  },
  {
   "cell_type": "code",
   "execution_count": 5,
   "metadata": {},
   "outputs": [
    {
     "name": "stdout",
     "output_type": "stream",
     "text": [
      "72400610\n",
      "56244\n",
      "56244\n"
     ]
    }
   ],
   "source": [
    "#matched catalogs:\n",
    "\n",
    "cmass_matches = cmass[idx]\n",
    "print(len(cmass_matches))\n",
    "max_sep = 1.0 * u.arcsec\n",
    "idx, d2d, d3d = gold.match_to_catalog_3d(cmass)\n",
    "sep_constraint = d2d < max_sep\n",
    "gold_matches = gold[sep_constraint]\n",
    "print(len(gold_matches))\n",
    "cmass_matches = cmass[idx[sep_constraint]]\n",
    "print(len(cmass_matches))"
   ]
  },
  {
   "cell_type": "code",
   "execution_count": 6,
   "metadata": {},
   "outputs": [
    {
     "name": "stdout",
     "output_type": "stream",
     "text": [
      "56244\n"
     ]
    }
   ],
   "source": [
    "#Creating of Figure 1:\n",
    "\n",
    "#Read in data:\n",
    "from cmass_modules import io, Cuts\n",
    "#cmass_spec = esutil.io.read('galaxy_DR11v1_CMASS_South-photoObj.fits.gz')\n",
    "cmass_photo = esutil.io.read('galaxy_DR11v1_CMASS_South-photoObj.fits.gz')\n",
    "cmass_stripe=cmass_photo\n",
    "##cmass_stripe = Cuts.keepGoodRegion(cmass_photo)\n",
    "#gold_train, cmass_train = matchCatalogsbyPosition( gold , cmass_stripe)\n",
    "gold_train=gold_matches\n",
    "cmass_train=cmass_matches\n",
    "#gold_train = train_sample.copy()\n",
    "\n",
    "#BOSS values:\n",
    "magmodel=hdu[1].data['CMODELMAG']\n",
    "cmodelmag_g_des=magmodel[:,1]\n",
    "cmodelmag_r_des=magmodel[:,2]\n",
    "cmodelmag_i_des=magmodel[:,3]\n",
    "\n",
    "ext=hdu[1].data['EXTINCTION']\n",
    "extg=ext[:,1]\n",
    "extr=ext[:,2]\n",
    "exti=ext[:,3]\n",
    "\n",
    "magmodelerr=hdu[1].data['CMODELMAGERR']\n",
    "cmodelmag_g_err=magmodelerr[:,1]\n",
    "cmodelmag_r_err=magmodelerr[:,2]\n",
    "cmodelmag_i_err=magmodelerr[:,3]\n",
    "\n",
    "cmass_g=cmodelmag_g_des[idx[sep_constraint]]\n",
    "cmass_r=cmodelmag_r_des[idx[sep_constraint]]\n",
    "cmass_i=cmodelmag_i_des[idx[sep_constraint]]\n",
    "\n",
    "cmass_extg=extg[idx[sep_constraint]]\n",
    "cmass_extr=extr[idx[sep_constraint]]\n",
    "cmass_exti=exti[idx[sep_constraint]]\n",
    "\n",
    "cmass_gerr=cmodelmag_g_err[idx[sep_constraint]]\n",
    "cmass_rerr=cmodelmag_r_err[idx[sep_constraint]]\n",
    "cmass_ierr=cmodelmag_i_err[idx[sep_constraint]]\n",
    "\n",
    "print(len(cmass_ierr))"
   ]
  },
  {
   "cell_type": "code",
   "execution_count": null,
   "metadata": {},
   "outputs": [
    {
     "name": "stdout",
     "output_type": "stream",
     "text": [
      "399263026\n",
      "72400610\n"
     ]
    }
   ],
   "source": [
    "#SDSS color for CMASS in overlap region\n",
    "g_sdss = cmass_g-cmass_extg\n",
    "r_sdss = cmass_r-cmass_extr\n",
    "i_sdss = cmass_i-cmass_exti\n",
    "gr_sdss = g_sdss - r_sdss\n",
    "ri_sdss = r_sdss - i_sdss\n",
    "\n",
    "print(len(modelmag_g_des))\n",
    "print(len(ra))\n",
    "\n",
    "modelmag_g_des=modelmag_g_des[cut]\n",
    "modelmag_r_des=modelmag_r_des[cut]\n",
    "modelmag_i_des=modelmag_i_des[cut]\n",
    "    \n",
    "magerr_detmodel_g=magerr_detmodel_g[cut]\n",
    "magerr_detmodel_r=magerr_detmodel_r[cut]\n",
    "magerr_detmodel_i=magerr_detmodel_i[cut]\n",
    "\n",
    "print(len(modelmag_g_des))\n",
    "\n",
    "#CMASS in GOLD catalog in overlap region\n",
    "gr_des = cmass_g- cmass_r\n",
    "ri_des = cmass_r- cmass_i\n",
    "\n",
    "#GOLD catalog in overlap region\n",
    "gr_gold = modelmag_g_des[sep_constraint]- modelmag_r_des[sep_constraint]\n",
    "ri_gold = modelmag_r_des[sep_constraint]- modelmag_i_des[sep_constraint]"
   ]
  },
  {
   "cell_type": "code",
   "execution_count": null,
   "metadata": {},
   "outputs": [],
   "source": [
    "x = np.linspace(-2,4,10)\n",
    "dperp = 0.55 + x/8.\n",
    "\n",
    "gr_sdss_err = np.sqrt(cmass_gerr**2 + cmass_rerr**2)\n",
    "ri_sdss_err = np.sqrt(cmass_rerr**2 + cmass_ierr**2)\n",
    "\n",
    "gr_des_err = np.sqrt(magerr_detmodel_g[sep_constraint]**2 +  magerr_detmodel_r[sep_constraint]**2 )\n",
    "ri_des_err = np.sqrt(magerr_detmodel_r[sep_constraint]**2 +  magerr_detmodel_i[sep_constraint]**2 )"
   ]
  },
  {
   "cell_type": "code",
   "execution_count": null,
   "metadata": {},
   "outputs": [],
   "source": [
    "dperpcut = ((ri_sdss - gr_sdss/8. < 0.55) & \n",
    "((gr_sdss>0.5)&(gr_sdss<0.96)|\n",
    " ((gr_sdss>1.43)&(gr_sdss<1.435))|\n",
    " ((gr_sdss>1.85)&(gr_sdss<3.0)) ) )\n",
    "\n",
    "dperpcut_des = (ri_des - gr_des/8. < 0.5505) & (ri_des - gr_des/8. > 0.55035)\n",
    "print(np.sum(dperpcut), np.sum(dperpcut_des))"
   ]
  },
  {
   "cell_type": "code",
   "execution_count": null,
   "metadata": {},
   "outputs": [],
   "source": [
    "#smaller amount of data:\n",
    "\n",
    "size=gr_gold.size\n",
    "print(size)\n",
    "####seed choosing random number\n",
    "#arrays always the same for each\n",
    "\n",
    "rand_arr=np.random.random(gr_gold.size)\n",
    "#sorting this array:\n",
    "gr_gold2=gr_gold[rand_arr.argsort()]\n",
    "ri_gold2=ri_gold[rand_arr.argsort()]\n",
    "gr_sdss2=gr_sdss[rand_arr.argsort()]\n",
    "ri_sdss2=ri_sdss[rand_arr.argsort()]\n",
    "gr_des2=gr_des[rand_arr.argsort()]\n",
    "ri_des2=ri_des[rand_arr.argsort()]\n",
    "#matching: randomize in the same way, providing the same indices. \n",
    "\n",
    "#shorten the randomly selected data to plottable size:\n",
    "short_gr_gold= gr_gold2[:1000]\n",
    "short_ri_gold= ri_gold2[:1000]\n",
    "short_gr_sdss= gr_sdss2[:1000]\n",
    "short_ri_sdss= ri_sdss2[:1000]\n",
    "short_gr_des= gr_des2[:1000]\n",
    "short_ri_des= ri_des2[:1000]\n",
    "\n",
    "size2=short_gr_gold.size\n",
    "print(size2)"
   ]
  },
  {
   "cell_type": "code",
   "execution_count": null,
   "metadata": {},
   "outputs": [],
   "source": [
    "#use plot command from matplotlib first: color color plot\n",
    "#g-r :x etc. \n",
    "\n",
    "import matplotlib.pyplot as plt\n",
    "\n",
    "data_gold = np.column_stack( [short_gr_gold, short_ri_gold] )\n",
    "data_sdss = np.column_stack( [short_gr_sdss, short_ri_sdss] )\n",
    "data_des = np.column_stack( [short_gr_des, short_ri_des] )\n",
    "\n",
    "plt.plot(short_gr_des, short_ri_des, label='CMASS in GOLD catalog in overlap region')\n",
    "#plt.plot(x, dperp, 'r-', linewidth=1)\n",
    "\n",
    "#plt.xlabel('g-r')\n",
    "#plt.ylabel('r-i')\n",
    "#plt.text(2.0, 0.1, 'DES  Color')\n",
    "#plt.tight_layout()\n",
    "plt.show()"
   ]
  },
  {
   "cell_type": "code",
   "execution_count": null,
   "metadata": {},
   "outputs": [],
   "source": [
    "#test:\n",
    "import matplotlib\n",
    "#print(matplotlib.rcParams['backend'])\n",
    "\n",
    "plt.plot(range(10))\n",
    "plt.show()"
   ]
  },
  {
   "cell_type": "code",
   "execution_count": null,
   "metadata": {},
   "outputs": [],
   "source": [
    "#Now creating first part of Figure 1: DES plot first\n",
    "\n",
    "from chainconsumer import ChainConsumer\n",
    "\n",
    "#seed(0)\n",
    "#cov = normal(size=(3, 3))\n",
    "#data = multivariate_normal(normal(size=3), np.dot(cov, cov.T), size=100000)\n",
    "\n",
    "data_gold = np.column_stack( [gr_gold, ri_gold] )\n",
    "data_sdss = np.column_stack( [gr_sdss, ri_sdss] )\n",
    "data_des = np.column_stack( [gr_des, ri_des] )\n",
    "\n",
    "c = ChainConsumer()\n",
    "c.add_chain(data_gold, parameters=[\"$g-r$\", \"$r-i$\"])\n",
    "#c.add_chain(data_des)\n",
    "c.configure(plot_hists=False, cloud=True, sigmas=np.linspace(0, 3, 10), colors ='grey', \n",
    "            shade_alpha = 0.7, kde=True)\n",
    "\n",
    "\n",
    "fig = c.plotter.plot()\n",
    "ax = fig.axes[0]\n",
    "ax.plot(gr_des, ri_des, 'g.', markersize = 1, alpha = 0.7)\n",
    "#ax.plot(gr_sdss, ri_sdss, '.',markersize = 1, alpha = 0.7)\n",
    "ax.plot(x, dperp, 'r-', linewidth=1)\n",
    "ax.set_ylim(0,2)\n",
    "ax.set_xlim(0, 3)\n",
    "\n",
    "ax.text(2.0, 0.1, 'DES  Color')\n",
    "plt.tight_layout()"
   ]
  },
  {
   "cell_type": "code",
   "execution_count": null,
   "metadata": {},
   "outputs": [],
   "source": []
  }
 ],
 "metadata": {
  "kernelspec": {
   "display_name": "Python (DES_env)",
   "language": "python",
   "name": "des_env"
  },
  "language_info": {
   "codemirror_mode": {
    "name": "ipython",
    "version": 3
   },
   "file_extension": ".py",
   "mimetype": "text/x-python",
   "name": "python",
   "nbconvert_exporter": "python",
   "pygments_lexer": "ipython3",
   "version": "3.7.0"
  }
 },
 "nbformat": 4,
 "nbformat_minor": 4
}
